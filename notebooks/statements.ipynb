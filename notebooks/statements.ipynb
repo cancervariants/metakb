{
 "cells": [
  {
   "cell_type": "code",
   "execution_count": 302,
   "metadata": {},
   "outputs": [],
   "source": [
    "from neo4j import GraphDatabase\n",
    "import pandas as pd\n",
    "from tqdm import tqdm\n",
    "import plotly\n",
    "import plotly.express as px\n",
    "import plotly.io as pio"
   ]
  },
  {
   "cell_type": "markdown",
   "metadata": {},
   "source": [
    "# Evidence Statement Overlap in MetaKB v2\n",
    "Previous work identified that while six prominent somatic cancer variant knowledgebases were highly disparate in content structure, the actual content within had large degrees of overlap in individual variants, diseases, and drugs as a result of harmonization. Since this original work, we have demonstrated improvements in harmonization of terminology and seek to expand on this analysis by demonstrating overlap at the conceptual level. This includes harmonization of variants, diseases, and therapeutics individually but also together as an evidence level statement."
   ]
  },
  {
   "cell_type": "markdown",
   "metadata": {},
   "source": [
    "### Table of Contents:\n",
    "* [Evidence Statements](#evidence-statements)\n",
    "    * [Connect to Neo4j Database](#connect-to-the-neo4j-database)\n",
    "    * [Structure Data Response](#structure-response-data-for-analysis)\n",
    "    * [Grab Additional Data](#grab-additional-data-connected-to-study-nodes)\n",
    "    * [Create Evidence Statements](#create-evidence-statements)\n",
    "    * [Make the Data Graph](#make-the-data-graphs)\n",
    "* [Individual Components](#individual-components)\n",
    "    * [Variant Overlap](#variants)\n",
    "    * [Therapeutic Overlap](#therapeutics)\n",
    "    * [Disease Overlap](#diseases)\n",
    "    * [Uniqueness (Singletons)](####uniqueness-singletons)\n",
    "    * [Therapeutic/Disease Overlap](#therapeutics-on-disease)\n",
    "    * [Therapeutic/Variant Overlap](#variants-with-therapeutics)\n",
    "    * [Variant/Disease Overlap](#variants-in-disease)\n",
    "    * [Uniqueness (Paired)](#uniqueness-pairs)\n",
    "* [Evidence Strength](#evidence-strength)\n",
    "    * Incomplete\n",
    "* [Concordance](#concordance)\n",
    "    * Incomplete"
   ]
  },
  {
   "cell_type": "markdown",
   "metadata": {},
   "source": [
    "## Evidence Statements\n",
    "Exhibit overlap of concepts at the statement level (variant + predicate + drug + disease qualifier)"
   ]
  },
  {
   "cell_type": "markdown",
   "metadata": {},
   "source": [
    "#### Connect to the Neo4j Database"
   ]
  },
  {
   "cell_type": "code",
   "execution_count": 62,
   "metadata": {},
   "outputs": [],
   "source": [
    "def create_db_connection(uri, user, password):\n",
    "    driver = GraphDatabase.driver(uri, auth=(user, password))\n",
    "    return driver\n",
    "\n",
    "def execute_query(driver, query):\n",
    "    with driver.session() as session:\n",
    "        result = session.run(query)\n",
    "        return [record for record in result]\n",
    "\n",
    "# Connection Objects\n",
    "uri = \"bolt://localhost:7687\"\n",
    "user = \"neo4j\"\n",
    "password = \"password\"\n",
    "driver = create_db_connection(uri, user, password)\n",
    "\n",
    "query_studies = \"\"\"MATCH (s:StudyStatement)\n",
    "    RETURN properties(s) AS Study\n",
    "\"\"\"\n",
    "result = execute_query(driver, query_studies)\n",
    "\n",
    "driver.close()"
   ]
  },
  {
   "cell_type": "markdown",
   "metadata": {},
   "source": [
    "#### Structure Response Data for Analysis\n",
    "We are performing our analysis from the perspective of the study nodes. We will first create a dataframe of all the existing study nodes in metakb and then sequentially attach pieces of information, such as defining contexts, variants, therapeutics, etc. We can currently do it this way due to the fact that every study currently has a one-to-one relationship for these nodes and not a one-to-many. If this changes, we will have to adjust this going forward."
   ]
  },
  {
   "cell_type": "code",
   "execution_count": 63,
   "metadata": {},
   "outputs": [
    {
     "data": {
      "text/html": [
       "<div>\n",
       "<style scoped>\n",
       "    .dataframe tbody tr th:only-of-type {\n",
       "        vertical-align: middle;\n",
       "    }\n",
       "\n",
       "    .dataframe tbody tr th {\n",
       "        vertical-align: top;\n",
       "    }\n",
       "\n",
       "    .dataframe thead th {\n",
       "        text-align: right;\n",
       "    }\n",
       "</style>\n",
       "<table border=\"1\" class=\"dataframe\">\n",
       "  <thead>\n",
       "    <tr style=\"text-align: right;\">\n",
       "      <th></th>\n",
       "      <th>id</th>\n",
       "      <th>description</th>\n",
       "      <th>predicate</th>\n",
       "    </tr>\n",
       "  </thead>\n",
       "  <tbody>\n",
       "    <tr>\n",
       "      <th>0</th>\n",
       "      <td>civic.eid:238</td>\n",
       "      <td>The T790M mutation in EGFR has been shown to c...</td>\n",
       "      <td>predictsResistanceTo</td>\n",
       "    </tr>\n",
       "    <tr>\n",
       "      <th>1</th>\n",
       "      <td>civic.eid:1409</td>\n",
       "      <td>Phase 3 randomized clinical trial comparing ve...</td>\n",
       "      <td>predictsSensitivityTo</td>\n",
       "    </tr>\n",
       "    <tr>\n",
       "      <th>2</th>\n",
       "      <td>civic.eid:1592</td>\n",
       "      <td>Osimertinib has been approved for the treatmen...</td>\n",
       "      <td>predictsSensitivityTo</td>\n",
       "    </tr>\n",
       "    <tr>\n",
       "      <th>3</th>\n",
       "      <td>civic.eid:1867</td>\n",
       "      <td>Randomized, international, open-label, phase 3...</td>\n",
       "      <td>predictsSensitivityTo</td>\n",
       "    </tr>\n",
       "    <tr>\n",
       "      <th>4</th>\n",
       "      <td>civic.eid:2994</td>\n",
       "      <td>On May 14, 2013, the U.S. Food and Drug Admini...</td>\n",
       "      <td>predictsSensitivityTo</td>\n",
       "    </tr>\n",
       "  </tbody>\n",
       "</table>\n",
       "</div>"
      ],
      "text/plain": [
       "               id                                        description  \\\n",
       "0   civic.eid:238  The T790M mutation in EGFR has been shown to c...   \n",
       "1  civic.eid:1409  Phase 3 randomized clinical trial comparing ve...   \n",
       "2  civic.eid:1592  Osimertinib has been approved for the treatmen...   \n",
       "3  civic.eid:1867  Randomized, international, open-label, phase 3...   \n",
       "4  civic.eid:2994  On May 14, 2013, the U.S. Food and Drug Admini...   \n",
       "\n",
       "               predicate  \n",
       "0   predictsResistanceTo  \n",
       "1  predictsSensitivityTo  \n",
       "2  predictsSensitivityTo  \n",
       "3  predictsSensitivityTo  \n",
       "4  predictsSensitivityTo  "
      ]
     },
     "execution_count": 63,
     "metadata": {},
     "output_type": "execute_result"
    }
   ],
   "source": [
    "data = []\n",
    "for record in result:\n",
    "    study = record.get('Study', {})\n",
    "    row = {\n",
    "        'id': study.get('id', None),\n",
    "        'description': study.get('description', None),\n",
    "        'predicate': study.get('predicate', None)\n",
    "        # 'id': variation.get('id', None),\n",
    "        # 'expression_hgvs_c': variation.get('expression_hgvs_c', None),\n",
    "        # 'expression_hgvs_p': variation.get('expression_hgvs_p', None),\n",
    "        # 'digest': variation.get('digest', None),\n",
    "        # 'label': variation.get('label', None),\n",
    "        # 'type': variation.get('type', None),\n",
    "        # 'expression_hgvs_g': variation.get('expression_hgvs_g', None),\n",
    "    }\n",
    "    data.append(row)\n",
    "\n",
    "df = pd.DataFrame(data)\n",
    "\n",
    "df[0:5]"
   ]
  },
  {
   "cell_type": "code",
   "execution_count": 81,
   "metadata": {},
   "outputs": [
    {
     "data": {
      "text/html": [
       "<div>\n",
       "<style scoped>\n",
       "    .dataframe tbody tr th:only-of-type {\n",
       "        vertical-align: middle;\n",
       "    }\n",
       "\n",
       "    .dataframe tbody tr th {\n",
       "        vertical-align: top;\n",
       "    }\n",
       "\n",
       "    .dataframe thead th {\n",
       "        text-align: right;\n",
       "    }\n",
       "</style>\n",
       "<table border=\"1\" class=\"dataframe\">\n",
       "  <thead>\n",
       "    <tr style=\"text-align: right;\">\n",
       "      <th></th>\n",
       "      <th>id</th>\n",
       "      <th>description</th>\n",
       "      <th>predicate</th>\n",
       "      <th>subject</th>\n",
       "      <th>obj</th>\n",
       "      <th>qualifier</th>\n",
       "      <th>statement_full</th>\n",
       "    </tr>\n",
       "  </thead>\n",
       "  <tbody>\n",
       "    <tr>\n",
       "      <th>0</th>\n",
       "      <td>civic.eid:238</td>\n",
       "      <td>The T790M mutation in EGFR has been shown to c...</td>\n",
       "      <td>predictsResistanceTo</td>\n",
       "      <td>ga4gh:VA.sMA9h8fzDi0RvweMlxtD0_Oi8B-JZ1V-</td>\n",
       "      <td>rxcui:337525</td>\n",
       "      <td>Lung Non-small Cell Carcinoma</td>\n",
       "      <td>(ga4gh:VA.sMA9h8fzDi0RvweMlxtD0_Oi8B-JZ1V-, pr...</td>\n",
       "    </tr>\n",
       "    <tr>\n",
       "      <th>1</th>\n",
       "      <td>civic.eid:1409</td>\n",
       "      <td>Phase 3 randomized clinical trial comparing ve...</td>\n",
       "      <td>predictsSensitivityTo</td>\n",
       "      <td>ga4gh:VA.j4XnsLZcdzDIYa5pvvXM7t1wn9OITr0L</td>\n",
       "      <td>rxcui:1147220</td>\n",
       "      <td>Skin Melanoma</td>\n",
       "      <td>(ga4gh:VA.j4XnsLZcdzDIYa5pvvXM7t1wn9OITr0L, pr...</td>\n",
       "    </tr>\n",
       "    <tr>\n",
       "      <th>2</th>\n",
       "      <td>civic.eid:1592</td>\n",
       "      <td>Osimertinib has been approved for the treatmen...</td>\n",
       "      <td>predictsSensitivityTo</td>\n",
       "      <td>ga4gh:VA.sMA9h8fzDi0RvweMlxtD0_Oi8B-JZ1V-</td>\n",
       "      <td>rxcui:1721560</td>\n",
       "      <td>Lung Non-small Cell Carcinoma</td>\n",
       "      <td>(ga4gh:VA.sMA9h8fzDi0RvweMlxtD0_Oi8B-JZ1V-, pr...</td>\n",
       "    </tr>\n",
       "    <tr>\n",
       "      <th>3</th>\n",
       "      <td>civic.eid:1867</td>\n",
       "      <td>Randomized, international, open-label, phase 3...</td>\n",
       "      <td>predictsSensitivityTo</td>\n",
       "      <td>ga4gh:VA.sMA9h8fzDi0RvweMlxtD0_Oi8B-JZ1V-</td>\n",
       "      <td>rxcui:1721560</td>\n",
       "      <td>Lung Non-small Cell Carcinoma</td>\n",
       "      <td>(ga4gh:VA.sMA9h8fzDi0RvweMlxtD0_Oi8B-JZ1V-, pr...</td>\n",
       "    </tr>\n",
       "    <tr>\n",
       "      <th>4</th>\n",
       "      <td>civic.eid:2994</td>\n",
       "      <td>On May 14, 2013, the U.S. Food and Drug Admini...</td>\n",
       "      <td>predictsSensitivityTo</td>\n",
       "      <td>ga4gh:VA.S41CcMJT2bcd8R4-qXZWH1PoHWNtG2PZ</td>\n",
       "      <td>rxcui:337525</td>\n",
       "      <td>Lung Non-small Cell Carcinoma</td>\n",
       "      <td>(ga4gh:VA.S41CcMJT2bcd8R4-qXZWH1PoHWNtG2PZ, pr...</td>\n",
       "    </tr>\n",
       "    <tr>\n",
       "      <th>...</th>\n",
       "      <td>...</td>\n",
       "      <td>...</td>\n",
       "      <td>...</td>\n",
       "      <td>...</td>\n",
       "      <td>...</td>\n",
       "      <td>...</td>\n",
       "      <td>...</td>\n",
       "    </tr>\n",
       "    <tr>\n",
       "      <th>1138</th>\n",
       "      <td>moa.assertion:990</td>\n",
       "      <td>The U.S. Food and Drug Administration (FDA) gr...</td>\n",
       "      <td>predictsSensitivityTo</td>\n",
       "      <td>ga4gh:VA.YqiDFzE2K6fcXhXkCGYHIQ75RgutPq_7</td>\n",
       "      <td>ncit:C152914</td>\n",
       "      <td>Oligodendroglioma</td>\n",
       "      <td>(ga4gh:VA.YqiDFzE2K6fcXhXkCGYHIQ75RgutPq_7, pr...</td>\n",
       "    </tr>\n",
       "    <tr>\n",
       "      <th>1139</th>\n",
       "      <td>moa.assertion:991</td>\n",
       "      <td>The U.S. Food and Drug Administration (FDA) gr...</td>\n",
       "      <td>predictsSensitivityTo</td>\n",
       "      <td>ga4gh:VA.S41CcMJT2bcd8R4-qXZWH1PoHWNtG2PZ</td>\n",
       "      <td>(CombinationTherapy, moa.ctid:1TlyFhyafDojGZE0...</td>\n",
       "      <td>Non-Small Cell Lung Cancer</td>\n",
       "      <td>(ga4gh:VA.S41CcMJT2bcd8R4-qXZWH1PoHWNtG2PZ, pr...</td>\n",
       "    </tr>\n",
       "    <tr>\n",
       "      <th>1140</th>\n",
       "      <td>moa.assertion:993</td>\n",
       "      <td>The U.S. Food and Drug Administration (FDA) gr...</td>\n",
       "      <td>predictsSensitivityTo</td>\n",
       "      <td>ga4gh:VA.S41CcMJT2bcd8R4-qXZWH1PoHWNtG2PZ</td>\n",
       "      <td>(CombinationTherapy, moa.ctid:9k0z3QBtBa8PgGFl...</td>\n",
       "      <td>Non-Small Cell Lung Cancer</td>\n",
       "      <td>(ga4gh:VA.S41CcMJT2bcd8R4-qXZWH1PoHWNtG2PZ, pr...</td>\n",
       "    </tr>\n",
       "    <tr>\n",
       "      <th>1141</th>\n",
       "      <td>moa.assertion:996</td>\n",
       "      <td>The U.S. Food and Drug Administration (FDA) gr...</td>\n",
       "      <td>predictsSensitivityTo</td>\n",
       "      <td>ga4gh:VA.sMA9h8fzDi0RvweMlxtD0_Oi8B-JZ1V-</td>\n",
       "      <td>rxcui:1721560</td>\n",
       "      <td>Non-Small Cell Lung Cancer</td>\n",
       "      <td>(ga4gh:VA.sMA9h8fzDi0RvweMlxtD0_Oi8B-JZ1V-, pr...</td>\n",
       "    </tr>\n",
       "    <tr>\n",
       "      <th>1142</th>\n",
       "      <td>moa.assertion:999</td>\n",
       "      <td>The U.S. Food and Drug Administration (FDA) gr...</td>\n",
       "      <td>predictsSensitivityTo</td>\n",
       "      <td>ga4gh:VA.D6NzpWXKqBnbcZZrXNSXj4tMUwROKbsQ</td>\n",
       "      <td>rxcui:2584304</td>\n",
       "      <td>Chronic Myelogenous Leukemia</td>\n",
       "      <td>(ga4gh:VA.D6NzpWXKqBnbcZZrXNSXj4tMUwROKbsQ, pr...</td>\n",
       "    </tr>\n",
       "  </tbody>\n",
       "</table>\n",
       "<p>1143 rows × 7 columns</p>\n",
       "</div>"
      ],
      "text/plain": [
       "                     id                                        description  \\\n",
       "0         civic.eid:238  The T790M mutation in EGFR has been shown to c...   \n",
       "1        civic.eid:1409  Phase 3 randomized clinical trial comparing ve...   \n",
       "2        civic.eid:1592  Osimertinib has been approved for the treatmen...   \n",
       "3        civic.eid:1867  Randomized, international, open-label, phase 3...   \n",
       "4        civic.eid:2994  On May 14, 2013, the U.S. Food and Drug Admini...   \n",
       "...                 ...                                                ...   \n",
       "1138  moa.assertion:990  The U.S. Food and Drug Administration (FDA) gr...   \n",
       "1139  moa.assertion:991  The U.S. Food and Drug Administration (FDA) gr...   \n",
       "1140  moa.assertion:993  The U.S. Food and Drug Administration (FDA) gr...   \n",
       "1141  moa.assertion:996  The U.S. Food and Drug Administration (FDA) gr...   \n",
       "1142  moa.assertion:999  The U.S. Food and Drug Administration (FDA) gr...   \n",
       "\n",
       "                  predicate                                    subject  \\\n",
       "0      predictsResistanceTo  ga4gh:VA.sMA9h8fzDi0RvweMlxtD0_Oi8B-JZ1V-   \n",
       "1     predictsSensitivityTo  ga4gh:VA.j4XnsLZcdzDIYa5pvvXM7t1wn9OITr0L   \n",
       "2     predictsSensitivityTo  ga4gh:VA.sMA9h8fzDi0RvweMlxtD0_Oi8B-JZ1V-   \n",
       "3     predictsSensitivityTo  ga4gh:VA.sMA9h8fzDi0RvweMlxtD0_Oi8B-JZ1V-   \n",
       "4     predictsSensitivityTo  ga4gh:VA.S41CcMJT2bcd8R4-qXZWH1PoHWNtG2PZ   \n",
       "...                     ...                                        ...   \n",
       "1138  predictsSensitivityTo  ga4gh:VA.YqiDFzE2K6fcXhXkCGYHIQ75RgutPq_7   \n",
       "1139  predictsSensitivityTo  ga4gh:VA.S41CcMJT2bcd8R4-qXZWH1PoHWNtG2PZ   \n",
       "1140  predictsSensitivityTo  ga4gh:VA.S41CcMJT2bcd8R4-qXZWH1PoHWNtG2PZ   \n",
       "1141  predictsSensitivityTo  ga4gh:VA.sMA9h8fzDi0RvweMlxtD0_Oi8B-JZ1V-   \n",
       "1142  predictsSensitivityTo  ga4gh:VA.D6NzpWXKqBnbcZZrXNSXj4tMUwROKbsQ   \n",
       "\n",
       "                                                    obj  \\\n",
       "0                                          rxcui:337525   \n",
       "1                                         rxcui:1147220   \n",
       "2                                         rxcui:1721560   \n",
       "3                                         rxcui:1721560   \n",
       "4                                          rxcui:337525   \n",
       "...                                                 ...   \n",
       "1138                                       ncit:C152914   \n",
       "1139  (CombinationTherapy, moa.ctid:1TlyFhyafDojGZE0...   \n",
       "1140  (CombinationTherapy, moa.ctid:9k0z3QBtBa8PgGFl...   \n",
       "1141                                      rxcui:1721560   \n",
       "1142                                      rxcui:2584304   \n",
       "\n",
       "                          qualifier  \\\n",
       "0     Lung Non-small Cell Carcinoma   \n",
       "1                     Skin Melanoma   \n",
       "2     Lung Non-small Cell Carcinoma   \n",
       "3     Lung Non-small Cell Carcinoma   \n",
       "4     Lung Non-small Cell Carcinoma   \n",
       "...                             ...   \n",
       "1138              Oligodendroglioma   \n",
       "1139     Non-Small Cell Lung Cancer   \n",
       "1140     Non-Small Cell Lung Cancer   \n",
       "1141     Non-Small Cell Lung Cancer   \n",
       "1142   Chronic Myelogenous Leukemia   \n",
       "\n",
       "                                         statement_full  \n",
       "0     (ga4gh:VA.sMA9h8fzDi0RvweMlxtD0_Oi8B-JZ1V-, pr...  \n",
       "1     (ga4gh:VA.j4XnsLZcdzDIYa5pvvXM7t1wn9OITr0L, pr...  \n",
       "2     (ga4gh:VA.sMA9h8fzDi0RvweMlxtD0_Oi8B-JZ1V-, pr...  \n",
       "3     (ga4gh:VA.sMA9h8fzDi0RvweMlxtD0_Oi8B-JZ1V-, pr...  \n",
       "4     (ga4gh:VA.S41CcMJT2bcd8R4-qXZWH1PoHWNtG2PZ, pr...  \n",
       "...                                                 ...  \n",
       "1138  (ga4gh:VA.YqiDFzE2K6fcXhXkCGYHIQ75RgutPq_7, pr...  \n",
       "1139  (ga4gh:VA.S41CcMJT2bcd8R4-qXZWH1PoHWNtG2PZ, pr...  \n",
       "1140  (ga4gh:VA.S41CcMJT2bcd8R4-qXZWH1PoHWNtG2PZ, pr...  \n",
       "1141  (ga4gh:VA.sMA9h8fzDi0RvweMlxtD0_Oi8B-JZ1V-, pr...  \n",
       "1142  (ga4gh:VA.D6NzpWXKqBnbcZZrXNSXj4tMUwROKbsQ, pr...  \n",
       "\n",
       "[1143 rows x 7 columns]"
      ]
     },
     "execution_count": 81,
     "metadata": {},
     "output_type": "execute_result"
    }
   ],
   "source": [
    "df"
   ]
  },
  {
   "cell_type": "markdown",
   "metadata": {},
   "source": [
    "#### Grab Additional Data Connected to Study Nodes"
   ]
  },
  {
   "cell_type": "code",
   "execution_count": 65,
   "metadata": {},
   "outputs": [],
   "source": [
    "def grab_subject_variant(study_id):\n",
    "    query_subject_variant = f\"\"\"MATCH (s:StudyStatement) WHERE s.id = '{study_id}'\n",
    "        MATCH (s)-[:HAS_VARIANT]-(c)\n",
    "        MATCH (c)-[:HAS_DEFINING_CONTEXT]-(v)\n",
    "        RETURN properties(s) AS Study,\n",
    "                properties(c) AS Variation,\n",
    "                properties(v) AS Context\n",
    "    \"\"\"\n",
    "    result = execute_query(driver, query_subject_variant)\n",
    "    driver.close()\n",
    "    if len(result) > 1:\n",
    "        print(f'{study_id} has {len(result)} subjects possible')\n",
    "    subject = result[0]['Context']['id']\n",
    "    return(subject)\n",
    "\n",
    "def grab_object_therapeutic(study_id): \n",
    "    query = f\"\"\"MATCH (s:StudyStatement) WHERE s.id = '{study_id}'\n",
    "        MATCH (s)-[:HAS_THERAPEUTIC]-(c)\n",
    "        RETURN properties(s) AS Study,\n",
    "                properties(c) AS Therapeutic\n",
    "    \"\"\"\n",
    "    result = execute_query(driver, query)\n",
    "    driver.close()\n",
    "    if len(result) > 1:\n",
    "        print(f'{study_id} has {len(result)} subjects possible')\n",
    "\n",
    "    # Check for empty result\n",
    "    if not(result): \n",
    "        return(None)\n",
    "\n",
    "    # Grab concept identifier (if not single therapeutic, handle other cases)\n",
    "    if 'normalizer_id' in result[0]['Therapeutic']:\n",
    "        therapeutic = result[0]['Therapeutic']['normalizer_id']\n",
    "        return(therapeutic)\n",
    "    \n",
    "    ther_type = result[0]['Therapeutic']['type']\n",
    "\n",
    "    # TODO: Consider additional ways to handle these group therapy types?\n",
    "    if ther_type == 'CombinationTherapy':\n",
    "        # DO SOMETHING\n",
    "        return((ther_type, result[0]['Therapeutic']['id']))\n",
    "        \n",
    "    if ther_type == 'TherapeuticSubstituteGroup':\n",
    "        # DO SOMETHING ELSE\n",
    "        return((ther_type, result[0]['Therapeutic']['id']))\n",
    "\n",
    "def grab_qualifier_disease(study_id): \n",
    "    query = f\"\"\"MATCH (s:StudyStatement) WHERE s.id = '{study_id}'\n",
    "        MATCH (s)-[:HAS_TUMOR_TYPE]-(c)\n",
    "        RETURN properties(s) AS Study,\n",
    "                properties(c) AS Disease\n",
    "    \"\"\"\n",
    "    result = execute_query(driver, query)\n",
    "    driver.close()\n",
    "    if len(result) > 1:\n",
    "        print(f'{study_id} has {len(result)} subjects possible')\n",
    "    \n",
    "    try:\n",
    "        disease = result[0]['Disease']['disease_normalizer_id']\n",
    "    except: # TODO: This is gross, handle it better\n",
    "        try:\n",
    "            disease = result[0]['Disease']['label']\n",
    "        except:\n",
    "            disease = result[0]['Disease']['id']\n",
    "    return(disease)\n"
   ]
  },
  {
   "cell_type": "code",
   "execution_count": 66,
   "metadata": {},
   "outputs": [
    {
     "name": "stderr",
     "output_type": "stream",
     "text": [
      "/var/folders/5t/sfw5tjx56m10xb861_pd3wfm0000gq/T/ipykernel_46467/2340165677.py:6: DeprecationWarning:\n",
      "\n",
      "Using a driver after it has been closed is deprecated. Future versions of the driver will raise an error.\n",
      "\n",
      "/var/folders/5t/sfw5tjx56m10xb861_pd3wfm0000gq/T/ipykernel_46467/2340165677.py:6: DeprecationWarning:\n",
      "\n",
      "Using a driver after it has been closed is deprecated. Future versions of the driver will raise an error.\n",
      "\n",
      "/var/folders/5t/sfw5tjx56m10xb861_pd3wfm0000gq/T/ipykernel_46467/2340165677.py:6: DeprecationWarning:\n",
      "\n",
      "Using a driver after it has been closed is deprecated. Future versions of the driver will raise an error.\n",
      "\n"
     ]
    }
   ],
   "source": [
    "df['subject'] = None\n",
    "df['subject'] = df['id'].apply(grab_subject_variant)\n",
    "\n",
    "df['obj'] = None\n",
    "df['obj'] = df['id'].apply(grab_object_therapeutic)\n",
    "\n",
    "df['qualifier'] = None\n",
    "df['qualifier'] = df['id'].apply(grab_qualifier_disease)"
   ]
  },
  {
   "cell_type": "markdown",
   "metadata": {},
   "source": [
    "#### Create Evidence Statements \n",
    "We will now start the harmonization analysis of evidence statements in metakb. To do this, we will use the individual data points we grabbed to create therapeutic evidence statements. After we create them, we will look for duplicates to determine overlap across studies and sources. After statements are created, use the .value_counts() method to get quick tallys of overlap. "
   ]
  },
  {
   "cell_type": "code",
   "execution_count": 67,
   "metadata": {},
   "outputs": [
    {
     "data": {
      "text/html": [
       "<div>\n",
       "<style scoped>\n",
       "    .dataframe tbody tr th:only-of-type {\n",
       "        vertical-align: middle;\n",
       "    }\n",
       "\n",
       "    .dataframe tbody tr th {\n",
       "        vertical-align: top;\n",
       "    }\n",
       "\n",
       "    .dataframe thead th {\n",
       "        text-align: right;\n",
       "    }\n",
       "</style>\n",
       "<table border=\"1\" class=\"dataframe\">\n",
       "  <thead>\n",
       "    <tr style=\"text-align: right;\">\n",
       "      <th></th>\n",
       "      <th>id</th>\n",
       "      <th>description</th>\n",
       "      <th>predicate</th>\n",
       "      <th>subject</th>\n",
       "      <th>obj</th>\n",
       "      <th>qualifier</th>\n",
       "      <th>statement_full</th>\n",
       "    </tr>\n",
       "  </thead>\n",
       "  <tbody>\n",
       "    <tr>\n",
       "      <th>0</th>\n",
       "      <td>civic.eid:238</td>\n",
       "      <td>The T790M mutation in EGFR has been shown to c...</td>\n",
       "      <td>predictsResistanceTo</td>\n",
       "      <td>ga4gh:VA.sMA9h8fzDi0RvweMlxtD0_Oi8B-JZ1V-</td>\n",
       "      <td>rxcui:337525</td>\n",
       "      <td>Lung Non-small Cell Carcinoma</td>\n",
       "      <td>(ga4gh:VA.sMA9h8fzDi0RvweMlxtD0_Oi8B-JZ1V-, pr...</td>\n",
       "    </tr>\n",
       "    <tr>\n",
       "      <th>1</th>\n",
       "      <td>civic.eid:1409</td>\n",
       "      <td>Phase 3 randomized clinical trial comparing ve...</td>\n",
       "      <td>predictsSensitivityTo</td>\n",
       "      <td>ga4gh:VA.j4XnsLZcdzDIYa5pvvXM7t1wn9OITr0L</td>\n",
       "      <td>rxcui:1147220</td>\n",
       "      <td>Skin Melanoma</td>\n",
       "      <td>(ga4gh:VA.j4XnsLZcdzDIYa5pvvXM7t1wn9OITr0L, pr...</td>\n",
       "    </tr>\n",
       "    <tr>\n",
       "      <th>2</th>\n",
       "      <td>civic.eid:1592</td>\n",
       "      <td>Osimertinib has been approved for the treatmen...</td>\n",
       "      <td>predictsSensitivityTo</td>\n",
       "      <td>ga4gh:VA.sMA9h8fzDi0RvweMlxtD0_Oi8B-JZ1V-</td>\n",
       "      <td>rxcui:1721560</td>\n",
       "      <td>Lung Non-small Cell Carcinoma</td>\n",
       "      <td>(ga4gh:VA.sMA9h8fzDi0RvweMlxtD0_Oi8B-JZ1V-, pr...</td>\n",
       "    </tr>\n",
       "    <tr>\n",
       "      <th>3</th>\n",
       "      <td>civic.eid:1867</td>\n",
       "      <td>Randomized, international, open-label, phase 3...</td>\n",
       "      <td>predictsSensitivityTo</td>\n",
       "      <td>ga4gh:VA.sMA9h8fzDi0RvweMlxtD0_Oi8B-JZ1V-</td>\n",
       "      <td>rxcui:1721560</td>\n",
       "      <td>Lung Non-small Cell Carcinoma</td>\n",
       "      <td>(ga4gh:VA.sMA9h8fzDi0RvweMlxtD0_Oi8B-JZ1V-, pr...</td>\n",
       "    </tr>\n",
       "    <tr>\n",
       "      <th>4</th>\n",
       "      <td>civic.eid:2994</td>\n",
       "      <td>On May 14, 2013, the U.S. Food and Drug Admini...</td>\n",
       "      <td>predictsSensitivityTo</td>\n",
       "      <td>ga4gh:VA.S41CcMJT2bcd8R4-qXZWH1PoHWNtG2PZ</td>\n",
       "      <td>rxcui:337525</td>\n",
       "      <td>Lung Non-small Cell Carcinoma</td>\n",
       "      <td>(ga4gh:VA.S41CcMJT2bcd8R4-qXZWH1PoHWNtG2PZ, pr...</td>\n",
       "    </tr>\n",
       "  </tbody>\n",
       "</table>\n",
       "</div>"
      ],
      "text/plain": [
       "               id                                        description  \\\n",
       "0   civic.eid:238  The T790M mutation in EGFR has been shown to c...   \n",
       "1  civic.eid:1409  Phase 3 randomized clinical trial comparing ve...   \n",
       "2  civic.eid:1592  Osimertinib has been approved for the treatmen...   \n",
       "3  civic.eid:1867  Randomized, international, open-label, phase 3...   \n",
       "4  civic.eid:2994  On May 14, 2013, the U.S. Food and Drug Admini...   \n",
       "\n",
       "               predicate                                    subject  \\\n",
       "0   predictsResistanceTo  ga4gh:VA.sMA9h8fzDi0RvweMlxtD0_Oi8B-JZ1V-   \n",
       "1  predictsSensitivityTo  ga4gh:VA.j4XnsLZcdzDIYa5pvvXM7t1wn9OITr0L   \n",
       "2  predictsSensitivityTo  ga4gh:VA.sMA9h8fzDi0RvweMlxtD0_Oi8B-JZ1V-   \n",
       "3  predictsSensitivityTo  ga4gh:VA.sMA9h8fzDi0RvweMlxtD0_Oi8B-JZ1V-   \n",
       "4  predictsSensitivityTo  ga4gh:VA.S41CcMJT2bcd8R4-qXZWH1PoHWNtG2PZ   \n",
       "\n",
       "             obj                      qualifier  \\\n",
       "0   rxcui:337525  Lung Non-small Cell Carcinoma   \n",
       "1  rxcui:1147220                  Skin Melanoma   \n",
       "2  rxcui:1721560  Lung Non-small Cell Carcinoma   \n",
       "3  rxcui:1721560  Lung Non-small Cell Carcinoma   \n",
       "4   rxcui:337525  Lung Non-small Cell Carcinoma   \n",
       "\n",
       "                                      statement_full  \n",
       "0  (ga4gh:VA.sMA9h8fzDi0RvweMlxtD0_Oi8B-JZ1V-, pr...  \n",
       "1  (ga4gh:VA.j4XnsLZcdzDIYa5pvvXM7t1wn9OITr0L, pr...  \n",
       "2  (ga4gh:VA.sMA9h8fzDi0RvweMlxtD0_Oi8B-JZ1V-, pr...  \n",
       "3  (ga4gh:VA.sMA9h8fzDi0RvweMlxtD0_Oi8B-JZ1V-, pr...  \n",
       "4  (ga4gh:VA.S41CcMJT2bcd8R4-qXZWH1PoHWNtG2PZ, pr...  "
      ]
     },
     "execution_count": 67,
     "metadata": {},
     "output_type": "execute_result"
    }
   ],
   "source": [
    "df['statement_full'] = None\n",
    "for idx, row in df.iterrows():\n",
    "    sentence = (row['subject'], row['predicate'], row['obj'], row['qualifier'])\n",
    "    df.at[idx, 'statement_full'] = sentence\n",
    "    \n",
    "df[0:5]"
   ]
  },
  {
   "cell_type": "code",
   "execution_count": 68,
   "metadata": {},
   "outputs": [
    {
     "name": "stdout",
     "output_type": "stream",
     "text": [
      "Total Evidence Statements: 1143\n"
     ]
    }
   ],
   "source": [
    "print(f'Total Evidence Statements: {len(df)}')"
   ]
  },
  {
   "cell_type": "code",
   "execution_count": 69,
   "metadata": {},
   "outputs": [
    {
     "data": {
      "text/html": [
       "<div>\n",
       "<style scoped>\n",
       "    .dataframe tbody tr th:only-of-type {\n",
       "        vertical-align: middle;\n",
       "    }\n",
       "\n",
       "    .dataframe tbody tr th {\n",
       "        vertical-align: top;\n",
       "    }\n",
       "\n",
       "    .dataframe thead th {\n",
       "        text-align: right;\n",
       "    }\n",
       "</style>\n",
       "<table border=\"1\" class=\"dataframe\">\n",
       "  <thead>\n",
       "    <tr style=\"text-align: right;\">\n",
       "      <th></th>\n",
       "      <th>Statement</th>\n",
       "      <th>counts</th>\n",
       "    </tr>\n",
       "  </thead>\n",
       "  <tbody>\n",
       "    <tr>\n",
       "      <th>0</th>\n",
       "      <td>(ga4gh:VA.j4XnsLZcdzDIYa5pvvXM7t1wn9OITr0L, as...</td>\n",
       "      <td>8</td>\n",
       "    </tr>\n",
       "    <tr>\n",
       "      <th>1</th>\n",
       "      <td>(ga4gh:VA.j4XnsLZcdzDIYa5pvvXM7t1wn9OITr0L, pr...</td>\n",
       "      <td>7</td>\n",
       "    </tr>\n",
       "    <tr>\n",
       "      <th>2</th>\n",
       "      <td>(ga4gh:VA.j4XnsLZcdzDIYa5pvvXM7t1wn9OITr0L, as...</td>\n",
       "      <td>7</td>\n",
       "    </tr>\n",
       "    <tr>\n",
       "      <th>3</th>\n",
       "      <td>(ga4gh:VA.S41CcMJT2bcd8R4-qXZWH1PoHWNtG2PZ, pr...</td>\n",
       "      <td>6</td>\n",
       "    </tr>\n",
       "    <tr>\n",
       "      <th>4</th>\n",
       "      <td>(ga4gh:VA.ORvaSNcFK71WOVr_gi2vv6oPCcXgljab, pr...</td>\n",
       "      <td>6</td>\n",
       "    </tr>\n",
       "    <tr>\n",
       "      <th>...</th>\n",
       "      <td>...</td>\n",
       "      <td>...</td>\n",
       "    </tr>\n",
       "    <tr>\n",
       "      <th>988</th>\n",
       "      <td>(ga4gh:VA.aC9fkvhXcUHMGbm-h7A7kVVCoa5JLj7R, pr...</td>\n",
       "      <td>1</td>\n",
       "    </tr>\n",
       "    <tr>\n",
       "      <th>989</th>\n",
       "      <td>(ga4gh:VA.jxXA9Qdh-T0IFIMxKVYl5dVT7XAOD-P7, pr...</td>\n",
       "      <td>1</td>\n",
       "    </tr>\n",
       "    <tr>\n",
       "      <th>990</th>\n",
       "      <td>(ga4gh:VA.Dd_SVbvci6MXhWspBp1t9GI3DfUt_eDn, pr...</td>\n",
       "      <td>1</td>\n",
       "    </tr>\n",
       "    <tr>\n",
       "      <th>991</th>\n",
       "      <td>(ga4gh:VA.AXrGOKDo8ORbkbD1hAtwxLGaCaVgLnVT, pr...</td>\n",
       "      <td>1</td>\n",
       "    </tr>\n",
       "    <tr>\n",
       "      <th>992</th>\n",
       "      <td>(ga4gh:VA.D6NzpWXKqBnbcZZrXNSXj4tMUwROKbsQ, pr...</td>\n",
       "      <td>1</td>\n",
       "    </tr>\n",
       "  </tbody>\n",
       "</table>\n",
       "<p>993 rows × 2 columns</p>\n",
       "</div>"
      ],
      "text/plain": [
       "                                             Statement  counts\n",
       "0    (ga4gh:VA.j4XnsLZcdzDIYa5pvvXM7t1wn9OITr0L, as...       8\n",
       "1    (ga4gh:VA.j4XnsLZcdzDIYa5pvvXM7t1wn9OITr0L, pr...       7\n",
       "2    (ga4gh:VA.j4XnsLZcdzDIYa5pvvXM7t1wn9OITr0L, as...       7\n",
       "3    (ga4gh:VA.S41CcMJT2bcd8R4-qXZWH1PoHWNtG2PZ, pr...       6\n",
       "4    (ga4gh:VA.ORvaSNcFK71WOVr_gi2vv6oPCcXgljab, pr...       6\n",
       "..                                                 ...     ...\n",
       "988  (ga4gh:VA.aC9fkvhXcUHMGbm-h7A7kVVCoa5JLj7R, pr...       1\n",
       "989  (ga4gh:VA.jxXA9Qdh-T0IFIMxKVYl5dVT7XAOD-P7, pr...       1\n",
       "990  (ga4gh:VA.Dd_SVbvci6MXhWspBp1t9GI3DfUt_eDn, pr...       1\n",
       "991  (ga4gh:VA.AXrGOKDo8ORbkbD1hAtwxLGaCaVgLnVT, pr...       1\n",
       "992  (ga4gh:VA.D6NzpWXKqBnbcZZrXNSXj4tMUwROKbsQ, pr...       1\n",
       "\n",
       "[993 rows x 2 columns]"
      ]
     },
     "execution_count": 69,
     "metadata": {},
     "output_type": "execute_result"
    }
   ],
   "source": [
    "data = df['statement_full'].value_counts().rename_axis('Statement').reset_index(name='counts')\n",
    "data"
   ]
  },
  {
   "cell_type": "code",
   "execution_count": 70,
   "metadata": {},
   "outputs": [
    {
     "data": {
      "text/html": [
       "<div>\n",
       "<style scoped>\n",
       "    .dataframe tbody tr th:only-of-type {\n",
       "        vertical-align: middle;\n",
       "    }\n",
       "\n",
       "    .dataframe tbody tr th {\n",
       "        vertical-align: top;\n",
       "    }\n",
       "\n",
       "    .dataframe thead th {\n",
       "        text-align: right;\n",
       "    }\n",
       "</style>\n",
       "<table border=\"1\" class=\"dataframe\">\n",
       "  <thead>\n",
       "    <tr style=\"text-align: right;\">\n",
       "      <th></th>\n",
       "      <th>id</th>\n",
       "      <th>description</th>\n",
       "      <th>predicate</th>\n",
       "      <th>subject</th>\n",
       "      <th>obj</th>\n",
       "      <th>qualifier</th>\n",
       "      <th>statement_full</th>\n",
       "    </tr>\n",
       "  </thead>\n",
       "  <tbody>\n",
       "    <tr>\n",
       "      <th>0</th>\n",
       "      <td>civic.eid:1409</td>\n",
       "      <td>Phase 3 randomized clinical trial comparing ve...</td>\n",
       "      <td>predictsSensitivityTo</td>\n",
       "      <td>ga4gh:VA.j4XnsLZcdzDIYa5pvvXM7t1wn9OITr0L</td>\n",
       "      <td>rxcui:1147220</td>\n",
       "      <td>Skin Melanoma</td>\n",
       "      <td>(ga4gh:VA.j4XnsLZcdzDIYa5pvvXM7t1wn9OITr0L, pr...</td>\n",
       "    </tr>\n",
       "    <tr>\n",
       "      <th>1</th>\n",
       "      <td>civic.eid:9851</td>\n",
       "      <td>The open-label phase 3 BEACON CRC trial includ...</td>\n",
       "      <td>predictsSensitivityTo</td>\n",
       "      <td>ga4gh:VA.j4XnsLZcdzDIYa5pvvXM7t1wn9OITr0L</td>\n",
       "      <td>(CombinationTherapy, civic.ctid:P1PY89shAjemg7...</td>\n",
       "      <td>Colorectal Cancer</td>\n",
       "      <td>(ga4gh:VA.j4XnsLZcdzDIYa5pvvXM7t1wn9OITr0L, pr...</td>\n",
       "    </tr>\n",
       "    <tr>\n",
       "      <th>2</th>\n",
       "      <td>civic.eid:3017</td>\n",
       "      <td>Patients with BRAF V600E-mutant NSCLC (n=57) w...</td>\n",
       "      <td>predictsSensitivityTo</td>\n",
       "      <td>ga4gh:VA.j4XnsLZcdzDIYa5pvvXM7t1wn9OITr0L</td>\n",
       "      <td>(CombinationTherapy, civic.ctid:oBrlcO23adoVXv...</td>\n",
       "      <td>Lung Non-small Cell Carcinoma</td>\n",
       "      <td>(ga4gh:VA.j4XnsLZcdzDIYa5pvvXM7t1wn9OITr0L, pr...</td>\n",
       "    </tr>\n",
       "    <tr>\n",
       "      <th>3</th>\n",
       "      <td>civic.eid:95</td>\n",
       "      <td>Dabrafenib with trametinib provides higher res...</td>\n",
       "      <td>predictsSensitivityTo</td>\n",
       "      <td>ga4gh:VA.j4XnsLZcdzDIYa5pvvXM7t1wn9OITr0L</td>\n",
       "      <td>(CombinationTherapy, civic.ctid:oBrlcO23adoVXv...</td>\n",
       "      <td>Melanoma</td>\n",
       "      <td>(ga4gh:VA.j4XnsLZcdzDIYa5pvvXM7t1wn9OITr0L, pr...</td>\n",
       "    </tr>\n",
       "    <tr>\n",
       "      <th>4</th>\n",
       "      <td>civic.eid:102</td>\n",
       "      <td>Unlike other studies that suggest a poorer out...</td>\n",
       "      <td>associatedWithWorseOutcomeFor</td>\n",
       "      <td>ga4gh:VA.j4XnsLZcdzDIYa5pvvXM7t1wn9OITr0L</td>\n",
       "      <td>None</td>\n",
       "      <td>Papillary Thyroid Carcinoma</td>\n",
       "      <td>(ga4gh:VA.j4XnsLZcdzDIYa5pvvXM7t1wn9OITr0L, as...</td>\n",
       "    </tr>\n",
       "    <tr>\n",
       "      <th>...</th>\n",
       "      <td>...</td>\n",
       "      <td>...</td>\n",
       "      <td>...</td>\n",
       "      <td>...</td>\n",
       "      <td>...</td>\n",
       "      <td>...</td>\n",
       "      <td>...</td>\n",
       "    </tr>\n",
       "    <tr>\n",
       "      <th>115</th>\n",
       "      <td>moa.assertion:182</td>\n",
       "      <td>Cetuximab (Erbitux) is not recommended by the ...</td>\n",
       "      <td>predictsResistanceTo</td>\n",
       "      <td>ga4gh:VA.j4XnsLZcdzDIYa5pvvXM7t1wn9OITr0L</td>\n",
       "      <td>rxcui:318341</td>\n",
       "      <td>Colorectal Adenocarcinoma</td>\n",
       "      <td>(ga4gh:VA.j4XnsLZcdzDIYa5pvvXM7t1wn9OITr0L, pr...</td>\n",
       "    </tr>\n",
       "    <tr>\n",
       "      <th>116</th>\n",
       "      <td>moa.assertion:184</td>\n",
       "      <td>Vemurafenib alone had insufficient activity in...</td>\n",
       "      <td>predictsSensitivityTo</td>\n",
       "      <td>ga4gh:VA.j4XnsLZcdzDIYa5pvvXM7t1wn9OITr0L</td>\n",
       "      <td>(CombinationTherapy, moa.ctid:fDe-2sEQxMUyi876...</td>\n",
       "      <td>Colorectal Adenocarcinoma</td>\n",
       "      <td>(ga4gh:VA.j4XnsLZcdzDIYa5pvvXM7t1wn9OITr0L, pr...</td>\n",
       "    </tr>\n",
       "    <tr>\n",
       "      <th>117</th>\n",
       "      <td>moa.assertion:865</td>\n",
       "      <td>The U.S. Food and Drug Administration (FDA) gr...</td>\n",
       "      <td>predictsSensitivityTo</td>\n",
       "      <td>ga4gh:VA.j4XnsLZcdzDIYa5pvvXM7t1wn9OITr0L</td>\n",
       "      <td>(CombinationTherapy, moa.ctid:IAMn2xc8QDzi0_zv...</td>\n",
       "      <td>Low-Grade Glioma, NOS</td>\n",
       "      <td>(ga4gh:VA.j4XnsLZcdzDIYa5pvvXM7t1wn9OITr0L, pr...</td>\n",
       "    </tr>\n",
       "    <tr>\n",
       "      <th>118</th>\n",
       "      <td>moa.assertion:911</td>\n",
       "      <td>The U.S. Food and Drug Administration (FDA) ap...</td>\n",
       "      <td>predictsSensitivityTo</td>\n",
       "      <td>ga4gh:VA.j4XnsLZcdzDIYa5pvvXM7t1wn9OITr0L</td>\n",
       "      <td>(CombinationTherapy, moa.ctid:PGEv4QIKz-vDJF0e...</td>\n",
       "      <td>Non-Small Cell Lung Cancer</td>\n",
       "      <td>(ga4gh:VA.j4XnsLZcdzDIYa5pvvXM7t1wn9OITr0L, pr...</td>\n",
       "    </tr>\n",
       "    <tr>\n",
       "      <th>119</th>\n",
       "      <td>moa.assertion:944</td>\n",
       "      <td>The U.S. Food and Drug Administration (FDA) ap...</td>\n",
       "      <td>predictsSensitivityTo</td>\n",
       "      <td>ga4gh:VA.j4XnsLZcdzDIYa5pvvXM7t1wn9OITr0L</td>\n",
       "      <td>rxcui:1147220</td>\n",
       "      <td>Non-Langerhans Cell Histiocytosis/Erdheim-Ches...</td>\n",
       "      <td>(ga4gh:VA.j4XnsLZcdzDIYa5pvvXM7t1wn9OITr0L, pr...</td>\n",
       "    </tr>\n",
       "  </tbody>\n",
       "</table>\n",
       "<p>120 rows × 7 columns</p>\n",
       "</div>"
      ],
      "text/plain": [
       "                    id                                        description  \\\n",
       "0       civic.eid:1409  Phase 3 randomized clinical trial comparing ve...   \n",
       "1       civic.eid:9851  The open-label phase 3 BEACON CRC trial includ...   \n",
       "2       civic.eid:3017  Patients with BRAF V600E-mutant NSCLC (n=57) w...   \n",
       "3         civic.eid:95  Dabrafenib with trametinib provides higher res...   \n",
       "4        civic.eid:102  Unlike other studies that suggest a poorer out...   \n",
       "..                 ...                                                ...   \n",
       "115  moa.assertion:182  Cetuximab (Erbitux) is not recommended by the ...   \n",
       "116  moa.assertion:184  Vemurafenib alone had insufficient activity in...   \n",
       "117  moa.assertion:865  The U.S. Food and Drug Administration (FDA) gr...   \n",
       "118  moa.assertion:911  The U.S. Food and Drug Administration (FDA) ap...   \n",
       "119  moa.assertion:944  The U.S. Food and Drug Administration (FDA) ap...   \n",
       "\n",
       "                         predicate                                    subject  \\\n",
       "0            predictsSensitivityTo  ga4gh:VA.j4XnsLZcdzDIYa5pvvXM7t1wn9OITr0L   \n",
       "1            predictsSensitivityTo  ga4gh:VA.j4XnsLZcdzDIYa5pvvXM7t1wn9OITr0L   \n",
       "2            predictsSensitivityTo  ga4gh:VA.j4XnsLZcdzDIYa5pvvXM7t1wn9OITr0L   \n",
       "3            predictsSensitivityTo  ga4gh:VA.j4XnsLZcdzDIYa5pvvXM7t1wn9OITr0L   \n",
       "4    associatedWithWorseOutcomeFor  ga4gh:VA.j4XnsLZcdzDIYa5pvvXM7t1wn9OITr0L   \n",
       "..                             ...                                        ...   \n",
       "115           predictsResistanceTo  ga4gh:VA.j4XnsLZcdzDIYa5pvvXM7t1wn9OITr0L   \n",
       "116          predictsSensitivityTo  ga4gh:VA.j4XnsLZcdzDIYa5pvvXM7t1wn9OITr0L   \n",
       "117          predictsSensitivityTo  ga4gh:VA.j4XnsLZcdzDIYa5pvvXM7t1wn9OITr0L   \n",
       "118          predictsSensitivityTo  ga4gh:VA.j4XnsLZcdzDIYa5pvvXM7t1wn9OITr0L   \n",
       "119          predictsSensitivityTo  ga4gh:VA.j4XnsLZcdzDIYa5pvvXM7t1wn9OITr0L   \n",
       "\n",
       "                                                   obj  \\\n",
       "0                                        rxcui:1147220   \n",
       "1    (CombinationTherapy, civic.ctid:P1PY89shAjemg7...   \n",
       "2    (CombinationTherapy, civic.ctid:oBrlcO23adoVXv...   \n",
       "3    (CombinationTherapy, civic.ctid:oBrlcO23adoVXv...   \n",
       "4                                                 None   \n",
       "..                                                 ...   \n",
       "115                                       rxcui:318341   \n",
       "116  (CombinationTherapy, moa.ctid:fDe-2sEQxMUyi876...   \n",
       "117  (CombinationTherapy, moa.ctid:IAMn2xc8QDzi0_zv...   \n",
       "118  (CombinationTherapy, moa.ctid:PGEv4QIKz-vDJF0e...   \n",
       "119                                      rxcui:1147220   \n",
       "\n",
       "                                             qualifier  \\\n",
       "0                                        Skin Melanoma   \n",
       "1                                    Colorectal Cancer   \n",
       "2                        Lung Non-small Cell Carcinoma   \n",
       "3                                             Melanoma   \n",
       "4                          Papillary Thyroid Carcinoma   \n",
       "..                                                 ...   \n",
       "115                          Colorectal Adenocarcinoma   \n",
       "116                          Colorectal Adenocarcinoma   \n",
       "117                              Low-Grade Glioma, NOS   \n",
       "118                         Non-Small Cell Lung Cancer   \n",
       "119  Non-Langerhans Cell Histiocytosis/Erdheim-Ches...   \n",
       "\n",
       "                                        statement_full  \n",
       "0    (ga4gh:VA.j4XnsLZcdzDIYa5pvvXM7t1wn9OITr0L, pr...  \n",
       "1    (ga4gh:VA.j4XnsLZcdzDIYa5pvvXM7t1wn9OITr0L, pr...  \n",
       "2    (ga4gh:VA.j4XnsLZcdzDIYa5pvvXM7t1wn9OITr0L, pr...  \n",
       "3    (ga4gh:VA.j4XnsLZcdzDIYa5pvvXM7t1wn9OITr0L, pr...  \n",
       "4    (ga4gh:VA.j4XnsLZcdzDIYa5pvvXM7t1wn9OITr0L, as...  \n",
       "..                                                 ...  \n",
       "115  (ga4gh:VA.j4XnsLZcdzDIYa5pvvXM7t1wn9OITr0L, pr...  \n",
       "116  (ga4gh:VA.j4XnsLZcdzDIYa5pvvXM7t1wn9OITr0L, pr...  \n",
       "117  (ga4gh:VA.j4XnsLZcdzDIYa5pvvXM7t1wn9OITr0L, pr...  \n",
       "118  (ga4gh:VA.j4XnsLZcdzDIYa5pvvXM7t1wn9OITr0L, pr...  \n",
       "119  (ga4gh:VA.j4XnsLZcdzDIYa5pvvXM7t1wn9OITr0L, pr...  \n",
       "\n",
       "[120 rows x 7 columns]"
      ]
     },
     "execution_count": 70,
     "metadata": {},
     "output_type": "execute_result"
    }
   ],
   "source": [
    "# Sanity Check\n",
    "df[df['subject']=='ga4gh:VA.j4XnsLZcdzDIYa5pvvXM7t1wn9OITr0L'].reset_index(drop=True)"
   ]
  },
  {
   "cell_type": "markdown",
   "metadata": {},
   "source": [
    "### Make the Data Graphs\n",
    "Now that we have all of our duplicates, let's make some graphs. We will make a bar graph colorized by predicate type to visually show how much overlap we have across different statements, statement types. Additionally, we will make a quick and dirty pie chart to show percentage of evidence that is considered duplicate throughout MetaKB. \n",
    "  \n",
    "NOTE: There is probably a more elegant way to do this without creating an additional dataframe, we should look into this in the future but for now this will work."
   ]
  },
  {
   "cell_type": "code",
   "execution_count": 71,
   "metadata": {},
   "outputs": [
    {
     "data": {
      "text/html": [
       "<div>\n",
       "<style scoped>\n",
       "    .dataframe tbody tr th:only-of-type {\n",
       "        vertical-align: middle;\n",
       "    }\n",
       "\n",
       "    .dataframe tbody tr th {\n",
       "        vertical-align: top;\n",
       "    }\n",
       "\n",
       "    .dataframe thead th {\n",
       "        text-align: right;\n",
       "    }\n",
       "</style>\n",
       "<table border=\"1\" class=\"dataframe\">\n",
       "  <thead>\n",
       "    <tr style=\"text-align: right;\">\n",
       "      <th></th>\n",
       "      <th>Statement</th>\n",
       "      <th>counts</th>\n",
       "    </tr>\n",
       "  </thead>\n",
       "  <tbody>\n",
       "    <tr>\n",
       "      <th>0</th>\n",
       "      <td>(ga4gh:VA.j4XnsLZcdzDIYa5pvvXM7t1wn9OITr0L, as...</td>\n",
       "      <td>8</td>\n",
       "    </tr>\n",
       "    <tr>\n",
       "      <th>1</th>\n",
       "      <td>(ga4gh:VA.j4XnsLZcdzDIYa5pvvXM7t1wn9OITr0L, pr...</td>\n",
       "      <td>7</td>\n",
       "    </tr>\n",
       "    <tr>\n",
       "      <th>2</th>\n",
       "      <td>(ga4gh:VA.j4XnsLZcdzDIYa5pvvXM7t1wn9OITr0L, as...</td>\n",
       "      <td>7</td>\n",
       "    </tr>\n",
       "    <tr>\n",
       "      <th>3</th>\n",
       "      <td>(ga4gh:VA.S41CcMJT2bcd8R4-qXZWH1PoHWNtG2PZ, pr...</td>\n",
       "      <td>6</td>\n",
       "    </tr>\n",
       "    <tr>\n",
       "      <th>4</th>\n",
       "      <td>(ga4gh:VA.ORvaSNcFK71WOVr_gi2vv6oPCcXgljab, pr...</td>\n",
       "      <td>6</td>\n",
       "    </tr>\n",
       "    <tr>\n",
       "      <th>...</th>\n",
       "      <td>...</td>\n",
       "      <td>...</td>\n",
       "    </tr>\n",
       "    <tr>\n",
       "      <th>87</th>\n",
       "      <td>(ga4gh:VA.sMA9h8fzDi0RvweMlxtD0_Oi8B-JZ1V-, pr...</td>\n",
       "      <td>2</td>\n",
       "    </tr>\n",
       "    <tr>\n",
       "      <th>88</th>\n",
       "      <td>(ga4gh:VA.mipQFzApQNp2KyVXcZig8b4uu7kFofIZ, pr...</td>\n",
       "      <td>2</td>\n",
       "    </tr>\n",
       "    <tr>\n",
       "      <th>89</th>\n",
       "      <td>(ga4gh:VA.j4XnsLZcdzDIYa5pvvXM7t1wn9OITr0L, pr...</td>\n",
       "      <td>2</td>\n",
       "    </tr>\n",
       "    <tr>\n",
       "      <th>90</th>\n",
       "      <td>(ga4gh:VA.pfWn9x9oFBRzGda1xXcOrE-BrX0R__N8, pr...</td>\n",
       "      <td>2</td>\n",
       "    </tr>\n",
       "    <tr>\n",
       "      <th>91</th>\n",
       "      <td>(ga4gh:VA.sMA9h8fzDi0RvweMlxtD0_Oi8B-JZ1V-, pr...</td>\n",
       "      <td>2</td>\n",
       "    </tr>\n",
       "  </tbody>\n",
       "</table>\n",
       "<p>92 rows × 2 columns</p>\n",
       "</div>"
      ],
      "text/plain": [
       "                                            Statement  counts\n",
       "0   (ga4gh:VA.j4XnsLZcdzDIYa5pvvXM7t1wn9OITr0L, as...       8\n",
       "1   (ga4gh:VA.j4XnsLZcdzDIYa5pvvXM7t1wn9OITr0L, pr...       7\n",
       "2   (ga4gh:VA.j4XnsLZcdzDIYa5pvvXM7t1wn9OITr0L, as...       7\n",
       "3   (ga4gh:VA.S41CcMJT2bcd8R4-qXZWH1PoHWNtG2PZ, pr...       6\n",
       "4   (ga4gh:VA.ORvaSNcFK71WOVr_gi2vv6oPCcXgljab, pr...       6\n",
       "..                                                ...     ...\n",
       "87  (ga4gh:VA.sMA9h8fzDi0RvweMlxtD0_Oi8B-JZ1V-, pr...       2\n",
       "88  (ga4gh:VA.mipQFzApQNp2KyVXcZig8b4uu7kFofIZ, pr...       2\n",
       "89  (ga4gh:VA.j4XnsLZcdzDIYa5pvvXM7t1wn9OITr0L, pr...       2\n",
       "90  (ga4gh:VA.pfWn9x9oFBRzGda1xXcOrE-BrX0R__N8, pr...       2\n",
       "91  (ga4gh:VA.sMA9h8fzDi0RvweMlxtD0_Oi8B-JZ1V-, pr...       2\n",
       "\n",
       "[92 rows x 2 columns]"
      ]
     },
     "execution_count": 71,
     "metadata": {},
     "output_type": "execute_result"
    }
   ],
   "source": [
    "# Find just the duplicated (>=2)\n",
    "data[0:92]"
   ]
  },
  {
   "cell_type": "code",
   "execution_count": 72,
   "metadata": {},
   "outputs": [
    {
     "data": {
      "text/plain": [
       "241"
      ]
     },
     "execution_count": 72,
     "metadata": {},
     "output_type": "execute_result"
    }
   ],
   "source": [
    "# Sanity check for how many records have overlap (or are considered a duplicate)\n",
    "data['counts'][0:92].sum()"
   ]
  },
  {
   "cell_type": "code",
   "execution_count": 73,
   "metadata": {},
   "outputs": [
    {
     "data": {
      "text/html": [
       "<div>\n",
       "<style scoped>\n",
       "    .dataframe tbody tr th:only-of-type {\n",
       "        vertical-align: middle;\n",
       "    }\n",
       "\n",
       "    .dataframe tbody tr th {\n",
       "        vertical-align: top;\n",
       "    }\n",
       "\n",
       "    .dataframe thead th {\n",
       "        text-align: right;\n",
       "    }\n",
       "</style>\n",
       "<table border=\"1\" class=\"dataframe\">\n",
       "  <thead>\n",
       "    <tr style=\"text-align: right;\">\n",
       "      <th></th>\n",
       "      <th>Statement</th>\n",
       "      <th>counts</th>\n",
       "      <th>variant</th>\n",
       "      <th>predicate</th>\n",
       "      <th>therapeutic</th>\n",
       "      <th>disease</th>\n",
       "      <th>joined</th>\n",
       "    </tr>\n",
       "  </thead>\n",
       "  <tbody>\n",
       "    <tr>\n",
       "      <th>0</th>\n",
       "      <td>(ga4gh:VA.j4XnsLZcdzDIYa5pvvXM7t1wn9OITr0L, as...</td>\n",
       "      <td>8</td>\n",
       "      <td>ga4gh:VA.j4XnsLZcdzDIYa5pvvXM7t1wn9OITr0L</td>\n",
       "      <td>associatedWithWorseOutcomeFor</td>\n",
       "      <td>None</td>\n",
       "      <td>Papillary Thyroid Carcinoma</td>\n",
       "      <td>ga4gh:VA.j4XnsLZcdzDIYa5pvvXM7t1wn9OITr0L, ass...</td>\n",
       "    </tr>\n",
       "    <tr>\n",
       "      <th>1</th>\n",
       "      <td>(ga4gh:VA.j4XnsLZcdzDIYa5pvvXM7t1wn9OITr0L, pr...</td>\n",
       "      <td>7</td>\n",
       "      <td>ga4gh:VA.j4XnsLZcdzDIYa5pvvXM7t1wn9OITr0L</td>\n",
       "      <td>predictsSensitivityTo</td>\n",
       "      <td>rxcui:1147220</td>\n",
       "      <td>Melanoma</td>\n",
       "      <td>ga4gh:VA.j4XnsLZcdzDIYa5pvvXM7t1wn9OITr0L, pre...</td>\n",
       "    </tr>\n",
       "    <tr>\n",
       "      <th>2</th>\n",
       "      <td>(ga4gh:VA.j4XnsLZcdzDIYa5pvvXM7t1wn9OITr0L, as...</td>\n",
       "      <td>7</td>\n",
       "      <td>ga4gh:VA.j4XnsLZcdzDIYa5pvvXM7t1wn9OITr0L</td>\n",
       "      <td>associatedWithWorseOutcomeFor</td>\n",
       "      <td>None</td>\n",
       "      <td>Colorectal Cancer</td>\n",
       "      <td>ga4gh:VA.j4XnsLZcdzDIYa5pvvXM7t1wn9OITr0L, ass...</td>\n",
       "    </tr>\n",
       "    <tr>\n",
       "      <th>3</th>\n",
       "      <td>(ga4gh:VA.S41CcMJT2bcd8R4-qXZWH1PoHWNtG2PZ, pr...</td>\n",
       "      <td>6</td>\n",
       "      <td>ga4gh:VA.S41CcMJT2bcd8R4-qXZWH1PoHWNtG2PZ</td>\n",
       "      <td>predictsSensitivityTo</td>\n",
       "      <td>rxcui:337525</td>\n",
       "      <td>Lung Non-small Cell Carcinoma</td>\n",
       "      <td>ga4gh:VA.S41CcMJT2bcd8R4-qXZWH1PoHWNtG2PZ, pre...</td>\n",
       "    </tr>\n",
       "    <tr>\n",
       "      <th>4</th>\n",
       "      <td>(ga4gh:VA.ORvaSNcFK71WOVr_gi2vv6oPCcXgljab, pr...</td>\n",
       "      <td>6</td>\n",
       "      <td>ga4gh:VA.ORvaSNcFK71WOVr_gi2vv6oPCcXgljab</td>\n",
       "      <td>predictsResistanceTo</td>\n",
       "      <td>rxcui:318341</td>\n",
       "      <td>Colorectal Cancer</td>\n",
       "      <td>ga4gh:VA.ORvaSNcFK71WOVr_gi2vv6oPCcXgljab, pre...</td>\n",
       "    </tr>\n",
       "    <tr>\n",
       "      <th>...</th>\n",
       "      <td>...</td>\n",
       "      <td>...</td>\n",
       "      <td>...</td>\n",
       "      <td>...</td>\n",
       "      <td>...</td>\n",
       "      <td>...</td>\n",
       "      <td>...</td>\n",
       "    </tr>\n",
       "    <tr>\n",
       "      <th>988</th>\n",
       "      <td>(ga4gh:VA.aC9fkvhXcUHMGbm-h7A7kVVCoa5JLj7R, pr...</td>\n",
       "      <td>1</td>\n",
       "      <td>ga4gh:VA.aC9fkvhXcUHMGbm-h7A7kVVCoa5JLj7R</td>\n",
       "      <td>predictsSensitivityTo</td>\n",
       "      <td>rxcui:2267574</td>\n",
       "      <td>Lung Non-small Cell Carcinoma</td>\n",
       "      <td>ga4gh:VA.aC9fkvhXcUHMGbm-h7A7kVVCoa5JLj7R, pre...</td>\n",
       "    </tr>\n",
       "    <tr>\n",
       "      <th>989</th>\n",
       "      <td>(ga4gh:VA.jxXA9Qdh-T0IFIMxKVYl5dVT7XAOD-P7, pr...</td>\n",
       "      <td>1</td>\n",
       "      <td>ga4gh:VA.jxXA9Qdh-T0IFIMxKVYl5dVT7XAOD-P7</td>\n",
       "      <td>predictsSensitivityTo</td>\n",
       "      <td>rxcui:2267574</td>\n",
       "      <td>Lung Non-small Cell Carcinoma</td>\n",
       "      <td>ga4gh:VA.jxXA9Qdh-T0IFIMxKVYl5dVT7XAOD-P7, pre...</td>\n",
       "    </tr>\n",
       "    <tr>\n",
       "      <th>990</th>\n",
       "      <td>(ga4gh:VA.Dd_SVbvci6MXhWspBp1t9GI3DfUt_eDn, pr...</td>\n",
       "      <td>1</td>\n",
       "      <td>ga4gh:VA.Dd_SVbvci6MXhWspBp1t9GI3DfUt_eDn</td>\n",
       "      <td>predictsSensitivityTo</td>\n",
       "      <td>rxcui:1312397</td>\n",
       "      <td>Colorectal Adenocarcinoma</td>\n",
       "      <td>ga4gh:VA.Dd_SVbvci6MXhWspBp1t9GI3DfUt_eDn, pre...</td>\n",
       "    </tr>\n",
       "    <tr>\n",
       "      <th>991</th>\n",
       "      <td>(ga4gh:VA.AXrGOKDo8ORbkbD1hAtwxLGaCaVgLnVT, pr...</td>\n",
       "      <td>1</td>\n",
       "      <td>ga4gh:VA.AXrGOKDo8ORbkbD1hAtwxLGaCaVgLnVT</td>\n",
       "      <td>predictsResistanceTo</td>\n",
       "      <td>rxcui:1721560</td>\n",
       "      <td>Lung Adenocarcinoma</td>\n",
       "      <td>ga4gh:VA.AXrGOKDo8ORbkbD1hAtwxLGaCaVgLnVT, pre...</td>\n",
       "    </tr>\n",
       "    <tr>\n",
       "      <th>992</th>\n",
       "      <td>(ga4gh:VA.D6NzpWXKqBnbcZZrXNSXj4tMUwROKbsQ, pr...</td>\n",
       "      <td>1</td>\n",
       "      <td>ga4gh:VA.D6NzpWXKqBnbcZZrXNSXj4tMUwROKbsQ</td>\n",
       "      <td>predictsSensitivityTo</td>\n",
       "      <td>rxcui:2584304</td>\n",
       "      <td>Chronic Myelogenous Leukemia</td>\n",
       "      <td>ga4gh:VA.D6NzpWXKqBnbcZZrXNSXj4tMUwROKbsQ, pre...</td>\n",
       "    </tr>\n",
       "  </tbody>\n",
       "</table>\n",
       "<p>993 rows × 7 columns</p>\n",
       "</div>"
      ],
      "text/plain": [
       "                                             Statement  counts  \\\n",
       "0    (ga4gh:VA.j4XnsLZcdzDIYa5pvvXM7t1wn9OITr0L, as...       8   \n",
       "1    (ga4gh:VA.j4XnsLZcdzDIYa5pvvXM7t1wn9OITr0L, pr...       7   \n",
       "2    (ga4gh:VA.j4XnsLZcdzDIYa5pvvXM7t1wn9OITr0L, as...       7   \n",
       "3    (ga4gh:VA.S41CcMJT2bcd8R4-qXZWH1PoHWNtG2PZ, pr...       6   \n",
       "4    (ga4gh:VA.ORvaSNcFK71WOVr_gi2vv6oPCcXgljab, pr...       6   \n",
       "..                                                 ...     ...   \n",
       "988  (ga4gh:VA.aC9fkvhXcUHMGbm-h7A7kVVCoa5JLj7R, pr...       1   \n",
       "989  (ga4gh:VA.jxXA9Qdh-T0IFIMxKVYl5dVT7XAOD-P7, pr...       1   \n",
       "990  (ga4gh:VA.Dd_SVbvci6MXhWspBp1t9GI3DfUt_eDn, pr...       1   \n",
       "991  (ga4gh:VA.AXrGOKDo8ORbkbD1hAtwxLGaCaVgLnVT, pr...       1   \n",
       "992  (ga4gh:VA.D6NzpWXKqBnbcZZrXNSXj4tMUwROKbsQ, pr...       1   \n",
       "\n",
       "                                       variant                      predicate  \\\n",
       "0    ga4gh:VA.j4XnsLZcdzDIYa5pvvXM7t1wn9OITr0L  associatedWithWorseOutcomeFor   \n",
       "1    ga4gh:VA.j4XnsLZcdzDIYa5pvvXM7t1wn9OITr0L          predictsSensitivityTo   \n",
       "2    ga4gh:VA.j4XnsLZcdzDIYa5pvvXM7t1wn9OITr0L  associatedWithWorseOutcomeFor   \n",
       "3    ga4gh:VA.S41CcMJT2bcd8R4-qXZWH1PoHWNtG2PZ          predictsSensitivityTo   \n",
       "4    ga4gh:VA.ORvaSNcFK71WOVr_gi2vv6oPCcXgljab           predictsResistanceTo   \n",
       "..                                         ...                            ...   \n",
       "988  ga4gh:VA.aC9fkvhXcUHMGbm-h7A7kVVCoa5JLj7R          predictsSensitivityTo   \n",
       "989  ga4gh:VA.jxXA9Qdh-T0IFIMxKVYl5dVT7XAOD-P7          predictsSensitivityTo   \n",
       "990  ga4gh:VA.Dd_SVbvci6MXhWspBp1t9GI3DfUt_eDn          predictsSensitivityTo   \n",
       "991  ga4gh:VA.AXrGOKDo8ORbkbD1hAtwxLGaCaVgLnVT           predictsResistanceTo   \n",
       "992  ga4gh:VA.D6NzpWXKqBnbcZZrXNSXj4tMUwROKbsQ          predictsSensitivityTo   \n",
       "\n",
       "       therapeutic                        disease  \\\n",
       "0             None    Papillary Thyroid Carcinoma   \n",
       "1    rxcui:1147220                       Melanoma   \n",
       "2             None              Colorectal Cancer   \n",
       "3     rxcui:337525  Lung Non-small Cell Carcinoma   \n",
       "4     rxcui:318341              Colorectal Cancer   \n",
       "..             ...                            ...   \n",
       "988  rxcui:2267574  Lung Non-small Cell Carcinoma   \n",
       "989  rxcui:2267574  Lung Non-small Cell Carcinoma   \n",
       "990  rxcui:1312397      Colorectal Adenocarcinoma   \n",
       "991  rxcui:1721560            Lung Adenocarcinoma   \n",
       "992  rxcui:2584304   Chronic Myelogenous Leukemia   \n",
       "\n",
       "                                                joined  \n",
       "0    ga4gh:VA.j4XnsLZcdzDIYa5pvvXM7t1wn9OITr0L, ass...  \n",
       "1    ga4gh:VA.j4XnsLZcdzDIYa5pvvXM7t1wn9OITr0L, pre...  \n",
       "2    ga4gh:VA.j4XnsLZcdzDIYa5pvvXM7t1wn9OITr0L, ass...  \n",
       "3    ga4gh:VA.S41CcMJT2bcd8R4-qXZWH1PoHWNtG2PZ, pre...  \n",
       "4    ga4gh:VA.ORvaSNcFK71WOVr_gi2vv6oPCcXgljab, pre...  \n",
       "..                                                 ...  \n",
       "988  ga4gh:VA.aC9fkvhXcUHMGbm-h7A7kVVCoa5JLj7R, pre...  \n",
       "989  ga4gh:VA.jxXA9Qdh-T0IFIMxKVYl5dVT7XAOD-P7, pre...  \n",
       "990  ga4gh:VA.Dd_SVbvci6MXhWspBp1t9GI3DfUt_eDn, pre...  \n",
       "991  ga4gh:VA.AXrGOKDo8ORbkbD1hAtwxLGaCaVgLnVT, pre...  \n",
       "992  ga4gh:VA.D6NzpWXKqBnbcZZrXNSXj4tMUwROKbsQ, pre...  \n",
       "\n",
       "[993 rows x 7 columns]"
      ]
     },
     "execution_count": 73,
     "metadata": {},
     "output_type": "execute_result"
    }
   ],
   "source": [
    "data['variant'] = None\n",
    "data['predicate'] = None\n",
    "data['therapeutic'] = None\n",
    "data['disease'] = None\n",
    "\n",
    "# Plotly handles tuples weird, use this to graph in the future\n",
    "data['joined'] = None\n",
    "\n",
    "for idx, row in data.iterrows():\n",
    "    data.at[idx, 'variant'] = row['Statement'][0]\n",
    "    data.at[idx, 'predicate'] = row['Statement'][1]\n",
    "    data.at[idx, 'therapeutic'] = row['Statement'][2]\n",
    "    data.at[idx, 'disease'] = row['Statement'][3]\n",
    "    data.at[idx, 'joined'] = ', '.join(str(item) if item is not None else 'None' for item in row['Statement'])\n",
    "\n",
    "\n",
    "data "
   ]
  },
  {
   "cell_type": "code",
   "execution_count": 74,
   "metadata": {},
   "outputs": [],
   "source": [
    "# Mark evidence statements as duplicate or not to be able to pie graph\n",
    "def duplicate_detect(count):\n",
    "    if count > 1:\n",
    "        return('Duplicate')\n",
    "    else:\n",
    "        return('Not Duplicate')\n",
    "    \n",
    "data['is_duplicate'] = None\n",
    "data['is_duplicate'] = data['counts'].apply(duplicate_detect)"
   ]
  },
  {
   "cell_type": "code",
   "execution_count": 75,
   "metadata": {},
   "outputs": [
    {
     "data": {
      "text/html": [
       "<div>\n",
       "<style scoped>\n",
       "    .dataframe tbody tr th:only-of-type {\n",
       "        vertical-align: middle;\n",
       "    }\n",
       "\n",
       "    .dataframe tbody tr th {\n",
       "        vertical-align: top;\n",
       "    }\n",
       "\n",
       "    .dataframe thead th {\n",
       "        text-align: right;\n",
       "    }\n",
       "</style>\n",
       "<table border=\"1\" class=\"dataframe\">\n",
       "  <thead>\n",
       "    <tr style=\"text-align: right;\">\n",
       "      <th></th>\n",
       "      <th>Statement</th>\n",
       "      <th>counts</th>\n",
       "      <th>variant</th>\n",
       "      <th>predicate</th>\n",
       "      <th>therapeutic</th>\n",
       "      <th>disease</th>\n",
       "      <th>joined</th>\n",
       "      <th>is_duplicate</th>\n",
       "    </tr>\n",
       "  </thead>\n",
       "  <tbody>\n",
       "    <tr>\n",
       "      <th>0</th>\n",
       "      <td>(ga4gh:VA.j4XnsLZcdzDIYa5pvvXM7t1wn9OITr0L, as...</td>\n",
       "      <td>8</td>\n",
       "      <td>ga4gh:VA.j4XnsLZcdzDIYa5pvvXM7t1wn9OITr0L</td>\n",
       "      <td>associatedWithWorseOutcomeFor</td>\n",
       "      <td>None</td>\n",
       "      <td>Papillary Thyroid Carcinoma</td>\n",
       "      <td>ga4gh:VA.j4XnsLZcdzDIYa5pvvXM7t1wn9OITr0L, ass...</td>\n",
       "      <td>Duplicate</td>\n",
       "    </tr>\n",
       "    <tr>\n",
       "      <th>1</th>\n",
       "      <td>(ga4gh:VA.j4XnsLZcdzDIYa5pvvXM7t1wn9OITr0L, pr...</td>\n",
       "      <td>7</td>\n",
       "      <td>ga4gh:VA.j4XnsLZcdzDIYa5pvvXM7t1wn9OITr0L</td>\n",
       "      <td>predictsSensitivityTo</td>\n",
       "      <td>rxcui:1147220</td>\n",
       "      <td>Melanoma</td>\n",
       "      <td>ga4gh:VA.j4XnsLZcdzDIYa5pvvXM7t1wn9OITr0L, pre...</td>\n",
       "      <td>Duplicate</td>\n",
       "    </tr>\n",
       "    <tr>\n",
       "      <th>2</th>\n",
       "      <td>(ga4gh:VA.j4XnsLZcdzDIYa5pvvXM7t1wn9OITr0L, as...</td>\n",
       "      <td>7</td>\n",
       "      <td>ga4gh:VA.j4XnsLZcdzDIYa5pvvXM7t1wn9OITr0L</td>\n",
       "      <td>associatedWithWorseOutcomeFor</td>\n",
       "      <td>None</td>\n",
       "      <td>Colorectal Cancer</td>\n",
       "      <td>ga4gh:VA.j4XnsLZcdzDIYa5pvvXM7t1wn9OITr0L, ass...</td>\n",
       "      <td>Duplicate</td>\n",
       "    </tr>\n",
       "    <tr>\n",
       "      <th>3</th>\n",
       "      <td>(ga4gh:VA.S41CcMJT2bcd8R4-qXZWH1PoHWNtG2PZ, pr...</td>\n",
       "      <td>6</td>\n",
       "      <td>ga4gh:VA.S41CcMJT2bcd8R4-qXZWH1PoHWNtG2PZ</td>\n",
       "      <td>predictsSensitivityTo</td>\n",
       "      <td>rxcui:337525</td>\n",
       "      <td>Lung Non-small Cell Carcinoma</td>\n",
       "      <td>ga4gh:VA.S41CcMJT2bcd8R4-qXZWH1PoHWNtG2PZ, pre...</td>\n",
       "      <td>Duplicate</td>\n",
       "    </tr>\n",
       "    <tr>\n",
       "      <th>4</th>\n",
       "      <td>(ga4gh:VA.ORvaSNcFK71WOVr_gi2vv6oPCcXgljab, pr...</td>\n",
       "      <td>6</td>\n",
       "      <td>ga4gh:VA.ORvaSNcFK71WOVr_gi2vv6oPCcXgljab</td>\n",
       "      <td>predictsResistanceTo</td>\n",
       "      <td>rxcui:318341</td>\n",
       "      <td>Colorectal Cancer</td>\n",
       "      <td>ga4gh:VA.ORvaSNcFK71WOVr_gi2vv6oPCcXgljab, pre...</td>\n",
       "      <td>Duplicate</td>\n",
       "    </tr>\n",
       "    <tr>\n",
       "      <th>...</th>\n",
       "      <td>...</td>\n",
       "      <td>...</td>\n",
       "      <td>...</td>\n",
       "      <td>...</td>\n",
       "      <td>...</td>\n",
       "      <td>...</td>\n",
       "      <td>...</td>\n",
       "      <td>...</td>\n",
       "    </tr>\n",
       "    <tr>\n",
       "      <th>988</th>\n",
       "      <td>(ga4gh:VA.aC9fkvhXcUHMGbm-h7A7kVVCoa5JLj7R, pr...</td>\n",
       "      <td>1</td>\n",
       "      <td>ga4gh:VA.aC9fkvhXcUHMGbm-h7A7kVVCoa5JLj7R</td>\n",
       "      <td>predictsSensitivityTo</td>\n",
       "      <td>rxcui:2267574</td>\n",
       "      <td>Lung Non-small Cell Carcinoma</td>\n",
       "      <td>ga4gh:VA.aC9fkvhXcUHMGbm-h7A7kVVCoa5JLj7R, pre...</td>\n",
       "      <td>Not Duplicate</td>\n",
       "    </tr>\n",
       "    <tr>\n",
       "      <th>989</th>\n",
       "      <td>(ga4gh:VA.jxXA9Qdh-T0IFIMxKVYl5dVT7XAOD-P7, pr...</td>\n",
       "      <td>1</td>\n",
       "      <td>ga4gh:VA.jxXA9Qdh-T0IFIMxKVYl5dVT7XAOD-P7</td>\n",
       "      <td>predictsSensitivityTo</td>\n",
       "      <td>rxcui:2267574</td>\n",
       "      <td>Lung Non-small Cell Carcinoma</td>\n",
       "      <td>ga4gh:VA.jxXA9Qdh-T0IFIMxKVYl5dVT7XAOD-P7, pre...</td>\n",
       "      <td>Not Duplicate</td>\n",
       "    </tr>\n",
       "    <tr>\n",
       "      <th>990</th>\n",
       "      <td>(ga4gh:VA.Dd_SVbvci6MXhWspBp1t9GI3DfUt_eDn, pr...</td>\n",
       "      <td>1</td>\n",
       "      <td>ga4gh:VA.Dd_SVbvci6MXhWspBp1t9GI3DfUt_eDn</td>\n",
       "      <td>predictsSensitivityTo</td>\n",
       "      <td>rxcui:1312397</td>\n",
       "      <td>Colorectal Adenocarcinoma</td>\n",
       "      <td>ga4gh:VA.Dd_SVbvci6MXhWspBp1t9GI3DfUt_eDn, pre...</td>\n",
       "      <td>Not Duplicate</td>\n",
       "    </tr>\n",
       "    <tr>\n",
       "      <th>991</th>\n",
       "      <td>(ga4gh:VA.AXrGOKDo8ORbkbD1hAtwxLGaCaVgLnVT, pr...</td>\n",
       "      <td>1</td>\n",
       "      <td>ga4gh:VA.AXrGOKDo8ORbkbD1hAtwxLGaCaVgLnVT</td>\n",
       "      <td>predictsResistanceTo</td>\n",
       "      <td>rxcui:1721560</td>\n",
       "      <td>Lung Adenocarcinoma</td>\n",
       "      <td>ga4gh:VA.AXrGOKDo8ORbkbD1hAtwxLGaCaVgLnVT, pre...</td>\n",
       "      <td>Not Duplicate</td>\n",
       "    </tr>\n",
       "    <tr>\n",
       "      <th>992</th>\n",
       "      <td>(ga4gh:VA.D6NzpWXKqBnbcZZrXNSXj4tMUwROKbsQ, pr...</td>\n",
       "      <td>1</td>\n",
       "      <td>ga4gh:VA.D6NzpWXKqBnbcZZrXNSXj4tMUwROKbsQ</td>\n",
       "      <td>predictsSensitivityTo</td>\n",
       "      <td>rxcui:2584304</td>\n",
       "      <td>Chronic Myelogenous Leukemia</td>\n",
       "      <td>ga4gh:VA.D6NzpWXKqBnbcZZrXNSXj4tMUwROKbsQ, pre...</td>\n",
       "      <td>Not Duplicate</td>\n",
       "    </tr>\n",
       "  </tbody>\n",
       "</table>\n",
       "<p>993 rows × 8 columns</p>\n",
       "</div>"
      ],
      "text/plain": [
       "                                             Statement  counts  \\\n",
       "0    (ga4gh:VA.j4XnsLZcdzDIYa5pvvXM7t1wn9OITr0L, as...       8   \n",
       "1    (ga4gh:VA.j4XnsLZcdzDIYa5pvvXM7t1wn9OITr0L, pr...       7   \n",
       "2    (ga4gh:VA.j4XnsLZcdzDIYa5pvvXM7t1wn9OITr0L, as...       7   \n",
       "3    (ga4gh:VA.S41CcMJT2bcd8R4-qXZWH1PoHWNtG2PZ, pr...       6   \n",
       "4    (ga4gh:VA.ORvaSNcFK71WOVr_gi2vv6oPCcXgljab, pr...       6   \n",
       "..                                                 ...     ...   \n",
       "988  (ga4gh:VA.aC9fkvhXcUHMGbm-h7A7kVVCoa5JLj7R, pr...       1   \n",
       "989  (ga4gh:VA.jxXA9Qdh-T0IFIMxKVYl5dVT7XAOD-P7, pr...       1   \n",
       "990  (ga4gh:VA.Dd_SVbvci6MXhWspBp1t9GI3DfUt_eDn, pr...       1   \n",
       "991  (ga4gh:VA.AXrGOKDo8ORbkbD1hAtwxLGaCaVgLnVT, pr...       1   \n",
       "992  (ga4gh:VA.D6NzpWXKqBnbcZZrXNSXj4tMUwROKbsQ, pr...       1   \n",
       "\n",
       "                                       variant                      predicate  \\\n",
       "0    ga4gh:VA.j4XnsLZcdzDIYa5pvvXM7t1wn9OITr0L  associatedWithWorseOutcomeFor   \n",
       "1    ga4gh:VA.j4XnsLZcdzDIYa5pvvXM7t1wn9OITr0L          predictsSensitivityTo   \n",
       "2    ga4gh:VA.j4XnsLZcdzDIYa5pvvXM7t1wn9OITr0L  associatedWithWorseOutcomeFor   \n",
       "3    ga4gh:VA.S41CcMJT2bcd8R4-qXZWH1PoHWNtG2PZ          predictsSensitivityTo   \n",
       "4    ga4gh:VA.ORvaSNcFK71WOVr_gi2vv6oPCcXgljab           predictsResistanceTo   \n",
       "..                                         ...                            ...   \n",
       "988  ga4gh:VA.aC9fkvhXcUHMGbm-h7A7kVVCoa5JLj7R          predictsSensitivityTo   \n",
       "989  ga4gh:VA.jxXA9Qdh-T0IFIMxKVYl5dVT7XAOD-P7          predictsSensitivityTo   \n",
       "990  ga4gh:VA.Dd_SVbvci6MXhWspBp1t9GI3DfUt_eDn          predictsSensitivityTo   \n",
       "991  ga4gh:VA.AXrGOKDo8ORbkbD1hAtwxLGaCaVgLnVT           predictsResistanceTo   \n",
       "992  ga4gh:VA.D6NzpWXKqBnbcZZrXNSXj4tMUwROKbsQ          predictsSensitivityTo   \n",
       "\n",
       "       therapeutic                        disease  \\\n",
       "0             None    Papillary Thyroid Carcinoma   \n",
       "1    rxcui:1147220                       Melanoma   \n",
       "2             None              Colorectal Cancer   \n",
       "3     rxcui:337525  Lung Non-small Cell Carcinoma   \n",
       "4     rxcui:318341              Colorectal Cancer   \n",
       "..             ...                            ...   \n",
       "988  rxcui:2267574  Lung Non-small Cell Carcinoma   \n",
       "989  rxcui:2267574  Lung Non-small Cell Carcinoma   \n",
       "990  rxcui:1312397      Colorectal Adenocarcinoma   \n",
       "991  rxcui:1721560            Lung Adenocarcinoma   \n",
       "992  rxcui:2584304   Chronic Myelogenous Leukemia   \n",
       "\n",
       "                                                joined   is_duplicate  \n",
       "0    ga4gh:VA.j4XnsLZcdzDIYa5pvvXM7t1wn9OITr0L, ass...      Duplicate  \n",
       "1    ga4gh:VA.j4XnsLZcdzDIYa5pvvXM7t1wn9OITr0L, pre...      Duplicate  \n",
       "2    ga4gh:VA.j4XnsLZcdzDIYa5pvvXM7t1wn9OITr0L, ass...      Duplicate  \n",
       "3    ga4gh:VA.S41CcMJT2bcd8R4-qXZWH1PoHWNtG2PZ, pre...      Duplicate  \n",
       "4    ga4gh:VA.ORvaSNcFK71WOVr_gi2vv6oPCcXgljab, pre...      Duplicate  \n",
       "..                                                 ...            ...  \n",
       "988  ga4gh:VA.aC9fkvhXcUHMGbm-h7A7kVVCoa5JLj7R, pre...  Not Duplicate  \n",
       "989  ga4gh:VA.jxXA9Qdh-T0IFIMxKVYl5dVT7XAOD-P7, pre...  Not Duplicate  \n",
       "990  ga4gh:VA.Dd_SVbvci6MXhWspBp1t9GI3DfUt_eDn, pre...  Not Duplicate  \n",
       "991  ga4gh:VA.AXrGOKDo8ORbkbD1hAtwxLGaCaVgLnVT, pre...  Not Duplicate  \n",
       "992  ga4gh:VA.D6NzpWXKqBnbcZZrXNSXj4tMUwROKbsQ, pre...  Not Duplicate  \n",
       "\n",
       "[993 rows x 8 columns]"
      ]
     },
     "execution_count": 75,
     "metadata": {},
     "output_type": "execute_result"
    }
   ],
   "source": [
    "data"
   ]
  },
  {
   "cell_type": "code",
   "execution_count": 76,
   "metadata": {},
   "outputs": [
    {
     "data": {
      "text/plain": [
       "predicate\n",
       "predictsSensitivityTo             569\n",
       "predictsResistanceTo              367\n",
       "associatedWithWorseOutcomeFor      43\n",
       "associatedWithBetterOutcomeFor     14\n",
       "Name: count, dtype: int64"
      ]
     },
     "execution_count": 76,
     "metadata": {},
     "output_type": "execute_result"
    }
   ],
   "source": [
    "# Sanity check a breakdown of the predicates\n",
    "data['predicate'].value_counts()"
   ]
  },
  {
   "cell_type": "code",
   "execution_count": 77,
   "metadata": {},
   "outputs": [
    {
     "data": {
      "application/vnd.plotly.v1+json": {
       "config": {
        "plotlyServerURL": "https://plot.ly"
       },
       "data": [
        {
         "alignmentgroup": "True",
         "hovertemplate": "predicate=associatedWithWorseOutcomeFor<br>joined=%{x}<br>counts=%{y}<extra></extra>",
         "legendgroup": "associatedWithWorseOutcomeFor",
         "marker": {
          "color": "#636efa",
          "pattern": {
           "shape": ""
          }
         },
         "name": "associatedWithWorseOutcomeFor",
         "offsetgroup": "associatedWithWorseOutcomeFor",
         "orientation": "v",
         "showlegend": true,
         "textposition": "auto",
         "type": "bar",
         "x": [
          "ga4gh:VA.j4XnsLZcdzDIYa5pvvXM7t1wn9OITr0L, associatedWithWorseOutcomeFor, None, Papillary Thyroid Carcinoma",
          "ga4gh:VA.j4XnsLZcdzDIYa5pvvXM7t1wn9OITr0L, associatedWithWorseOutcomeFor, None, Colorectal Cancer",
          "ga4gh:VA.uOzCG-Blg0EEZfX9z2ZxvpGcWp7r2NrI, associatedWithWorseOutcomeFor, None, Spindle Cell Rhabdomyosarcoma",
          "ga4gh:VA.j4XnsLZcdzDIYa5pvvXM7t1wn9OITr0L, associatedWithWorseOutcomeFor, None, Melanoma",
          "ga4gh:VA.NbmGko5VG3K44V5sy-uVWrQaBdnqJ227, associatedWithWorseOutcomeFor, None, Breast Cancer",
          "ga4gh:VA.4hfGvwsO6MSx7QZOah2F7tcDOihO-sS6, associatedWithWorseOutcomeFor, None, Breast Cancer",
          "ga4gh:VA.g1Zv9RlyZLRqT-9pmYzVlvHW9cOA-dJC, associatedWithWorseOutcomeFor, None, Breast Cancer",
          "ga4gh:VA.WCo3uQpMnNSbBMy5pKdSccudXs8ooZw9, associatedWithWorseOutcomeFor, None, Colorectal Cancer",
          "ga4gh:VA.l7RwuFlchr3Ol0VBFIpnUPA-STxTS1tK, associatedWithWorseOutcomeFor, None, Desmoid Tumor",
          "ga4gh:VA.sMA9h8fzDi0RvweMlxtD0_Oi8B-JZ1V-, associatedWithWorseOutcomeFor, None, Lung Non-small Cell Carcinoma"
         ],
         "xaxis": "x",
         "y": [
          8,
          7,
          4,
          2,
          2,
          2,
          2,
          2,
          2,
          2
         ],
         "yaxis": "y"
        },
        {
         "alignmentgroup": "True",
         "hovertemplate": "predicate=predictsSensitivityTo<br>joined=%{x}<br>counts=%{y}<extra></extra>",
         "legendgroup": "predictsSensitivityTo",
         "marker": {
          "color": "#EF553B",
          "pattern": {
           "shape": ""
          }
         },
         "name": "predictsSensitivityTo",
         "offsetgroup": "predictsSensitivityTo",
         "orientation": "v",
         "showlegend": true,
         "textposition": "auto",
         "type": "bar",
         "x": [
          "ga4gh:VA.j4XnsLZcdzDIYa5pvvXM7t1wn9OITr0L, predictsSensitivityTo, rxcui:1147220, Melanoma",
          "ga4gh:VA.S41CcMJT2bcd8R4-qXZWH1PoHWNtG2PZ, predictsSensitivityTo, rxcui:337525, Lung Non-small Cell Carcinoma",
          "ga4gh:VA.sMA9h8fzDi0RvweMlxtD0_Oi8B-JZ1V-, predictsSensitivityTo, rxcui:1721560, Lung Non-small Cell Carcinoma",
          "ga4gh:VA.sMA9h8fzDi0RvweMlxtD0_Oi8B-JZ1V-, predictsSensitivityTo, rxcui:1721560, Non-Small Cell Lung Cancer",
          "ga4gh:VA.j4XnsLZcdzDIYa5pvvXM7t1wn9OITr0L, predictsSensitivityTo, ('CombinationTherapy', 'civic.ctid:oBrlcO23adoVXv51xh-5Wigy0QyDWtfr'), Melanoma",
          "ga4gh:VA.S41CcMJT2bcd8R4-qXZWH1PoHWNtG2PZ, predictsSensitivityTo, rxcui:328134, Lung Non-small Cell Carcinoma",
          "ga4gh:VA.pfWn9x9oFBRzGda1xXcOrE-BrX0R__N8, predictsSensitivityTo, rxcui:1147220, Melanoma",
          "ga4gh:VA.j4XnsLZcdzDIYa5pvvXM7t1wn9OITr0L, predictsSensitivityTo, rxcui:1425098, Melanoma",
          "ga4gh:VA.j4XnsLZcdzDIYa5pvvXM7t1wn9OITr0L, predictsSensitivityTo, rxcui:1147220, Papillary Thyroid Carcinoma",
          "ga4gh:VA.S41CcMJT2bcd8R4-qXZWH1PoHWNtG2PZ, predictsSensitivityTo, rxcui:337525, Cancer",
          "ga4gh:VA.S41CcMJT2bcd8R4-qXZWH1PoHWNtG2PZ, predictsSensitivityTo, rxcui:328134, Lung Adenocarcinoma",
          "ga4gh:VA.S41CcMJT2bcd8R4-qXZWH1PoHWNtG2PZ, predictsSensitivityTo, rxcui:1430438, Lung Adenocarcinoma",
          "ga4gh:VA.lAST62ntkEaXy6RDDOF1V4C3jd-jaAJ5, predictsSensitivityTo, rxcui:2049873, Acute Myeloid Leukemia",
          "ga4gh:VA.RkoMSdIJCB856OZ4YxjZIjVnVYrXMDy9, predictsSensitivityTo, rxcui:1148495, Neuroblastoma",
          "ga4gh:VA.S41CcMJT2bcd8R4-qXZWH1PoHWNtG2PZ, predictsSensitivityTo, rxcui:1721560, Non-Small Cell Lung Cancer",
          "ga4gh:VA.j4XnsLZcdzDIYa5pvvXM7t1wn9OITr0L, predictsSensitivityTo, ('CombinationTherapy', 'moa.ctid:IAMn2xc8QDzi0_zvPzrGlronyv01Coqs'), Melanoma",
          "ga4gh:VA.S41CcMJT2bcd8R4-qXZWH1PoHWNtG2PZ, predictsSensitivityTo, rxcui:1430438, Lung Non-small Cell Carcinoma",
          "ga4gh:VA.j4XnsLZcdzDIYa5pvvXM7t1wn9OITr0L, predictsSensitivityTo, rxcui:1147220, Colorectal Cancer",
          "ga4gh:VA.j4XnsLZcdzDIYa5pvvXM7t1wn9OITr0L, predictsSensitivityTo, rxcui:1147220, Non-Langerhans Cell Histiocytosis/Erdheim-Chester Disease",
          "ga4gh:VA.E09IUKElemW2uoVRT5qacU7RMqT8Um5m, predictsSensitivityTo, ncit:C165479, Invasive Breast Carcinoma",
          "ga4gh:VA.j4XnsLZcdzDIYa5pvvXM7t1wn9OITr0L, predictsSensitivityTo, ('CombinationTherapy', 'civic.ctid:aqQX-Uu5M67jU4vqRwbOB7diuYQozPtZ'), Colorectal Cancer",
          "ga4gh:VA.CpnlaV2B8565obATF-UlE706sBYp0D6M, predictsSensitivityTo, rxcui:2289380, Melanoma",
          "ga4gh:VA.5GEqm-zIzvvPheyGb9rlu5DyIueIubXm, predictsSensitivityTo, ncit:C74072, Head And Neck Cancer",
          "ga4gh:VA.Dy7soaZQU1vH9Eb93xG_pJyhu7xTDDC9, predictsSensitivityTo, rxcui:2272107, Gastrointestinal Stromal Tumor",
          "ga4gh:VA.6mOBrBWsfWLavxBwhR3tMyJEW9UNc6fk, predictsSensitivityTo, rxcui:357977, Gastrointestinal Stromal Tumor",
          "ga4gh:VA.2VAvTmPON2L7JffxjE68jAmmmwxyzDpB, predictsSensitivityTo, rxcui:2049873, Acute Myeloid Leukemia",
          "ga4gh:VA.j4XnsLZcdzDIYa5pvvXM7t1wn9OITr0L, predictsSensitivityTo, ('CombinationTherapy', 'moa.ctid:fImZ7uz-ZC2vosZSuS-gdJcQGXu3l6l7'), Melanoma",
          "ga4gh:VA.d-Kmz2h-KL5RB7PbcizjOTz8crmA9lEk, predictsSensitivityTo, rxcui:328134, Lung Non-small Cell Carcinoma",
          "ga4gh:VA.hl8sXt8vGcWF3EST2vU5SoHuWQ1AO_eO, predictsSensitivityTo, rxcui:357977, Acute Myeloid Leukemia",
          "ga4gh:VA.kupbzxHCTSvq0_M8FY2FpHFtXotNHn4c, predictsSensitivityTo, rxcui:1193326, Chronic Neutrophilic Leukemia",
          "ga4gh:VA.pfWn9x9oFBRzGda1xXcOrE-BrX0R__N8, predictsSensitivityTo, ('CombinationTherapy', 'moa.ctid:IAMn2xc8QDzi0_zvPzrGlronyv01Coqs'), Melanoma",
          "ga4gh:VA.j4XnsLZcdzDIYa5pvvXM7t1wn9OITr0L, predictsSensitivityTo, rxcui:1424911, Melanoma",
          "ga4gh:VA.S41CcMJT2bcd8R4-qXZWH1PoHWNtG2PZ, predictsSensitivityTo, rxcui:337525, Lung Adenocarcinoma",
          "ga4gh:VA.pfWn9x9oFBRzGda1xXcOrE-BrX0R__N8, predictsSensitivityTo, rxcui:1425098, Melanoma",
          "ga4gh:VA.6EFlwRs4Pu_r5mcvJGoE3ro2cURUkrkV, predictsSensitivityTo, rxcui:1148495, Neuroblastoma",
          "ga4gh:VA.j4XnsLZcdzDIYa5pvvXM7t1wn9OITr0L, predictsSensitivityTo, rxcui:1147220, Multiple Myeloma",
          "ga4gh:VA.Pj-8TtUrxnONU6dr8wdgKf1oHfI4ved0, predictsSensitivityTo, rxcui:1147220, Melanoma",
          "ga4gh:VA.sMA9h8fzDi0RvweMlxtD0_Oi8B-JZ1V-, predictsSensitivityTo, rxcui:1721560, Lung Adenocarcinoma",
          "ga4gh:VA.S41CcMJT2bcd8R4-qXZWH1PoHWNtG2PZ, predictsSensitivityTo, rxcui:2058848, Lung Non-small Cell Carcinoma",
          "ga4gh:VA.j4XnsLZcdzDIYa5pvvXM7t1wn9OITr0L, predictsSensitivityTo, ('CombinationTherapy', 'civic.ctid:7g5X81wE2go4GE_fB45SjFamVMgpnwsA'), Colorectal Cancer",
          "ga4gh:VA.v5Jc64GQjTPVlsjiINmmlWmNRFfDDnoO, predictsSensitivityTo, rxcui:337525, Cholangiocarcinoma",
          "ga4gh:VA.j4XnsLZcdzDIYa5pvvXM7t1wn9OITr0L, predictsSensitivityTo, ('CombinationTherapy', 'civic.ctid:oBrlcO23adoVXv51xh-5Wigy0QyDWtfr'), Intrahepatic Cholangiocarcinoma",
          "ga4gh:VA.S41CcMJT2bcd8R4-qXZWH1PoHWNtG2PZ, predictsSensitivityTo, ('TherapeuticSubstituteGroup', 'civic.tsgid:MHwrYYGaDMmdgFLNboI18QBl-zDj5Wso'), Lung Non-small Cell Carcinoma",
          "ga4gh:VA.j4XnsLZcdzDIYa5pvvXM7t1wn9OITr0L, predictsSensitivityTo, rxcui:1147220, Skin Melanoma",
          "ga4gh:VA.ORvaSNcFK71WOVr_gi2vv6oPCcXgljab, predictsSensitivityTo, rxcui:318341, Colorectal Cancer",
          "ga4gh:VA.sMA9h8fzDi0RvweMlxtD0_Oi8B-JZ1V-, predictsSensitivityTo, ncit:C99905, Lung Non-small Cell Carcinoma",
          "ga4gh:VA.mipQFzApQNp2KyVXcZig8b4uu7kFofIZ, predictsSensitivityTo, rxcui:495881, Lung Non-small Cell Carcinoma",
          "ga4gh:VA.j4XnsLZcdzDIYa5pvvXM7t1wn9OITr0L, predictsSensitivityTo, ('CombinationTherapy', 'civic.ctid:rF1JcnGq_-VTc0yiCsNIORfNqXQCC3yM'), Colorectal Cancer",
          "ga4gh:VA.pfWn9x9oFBRzGda1xXcOrE-BrX0R__N8, predictsSensitivityTo, ('CombinationTherapy', 'civic.ctid:oBrlcO23adoVXv51xh-5Wigy0QyDWtfr'), Melanoma",
          "ga4gh:VA.sMA9h8fzDi0RvweMlxtD0_Oi8B-JZ1V-, predictsSensitivityTo, rxcui:1430438, Lung Non-small Cell Carcinoma"
         ],
         "xaxis": "x",
         "y": [
          7,
          6,
          5,
          4,
          4,
          3,
          3,
          3,
          3,
          3,
          3,
          3,
          3,
          3,
          3,
          3,
          3,
          3,
          2,
          2,
          2,
          2,
          2,
          2,
          2,
          2,
          2,
          2,
          2,
          2,
          2,
          2,
          2,
          2,
          2,
          2,
          2,
          2,
          2,
          2,
          2,
          2,
          2,
          2,
          2,
          2,
          2,
          2,
          2,
          2
         ],
         "yaxis": "y"
        },
        {
         "alignmentgroup": "True",
         "hovertemplate": "predicate=predictsResistanceTo<br>joined=%{x}<br>counts=%{y}<extra></extra>",
         "legendgroup": "predictsResistanceTo",
         "marker": {
          "color": "#00cc96",
          "pattern": {
           "shape": ""
          }
         },
         "name": "predictsResistanceTo",
         "offsetgroup": "predictsResistanceTo",
         "orientation": "v",
         "showlegend": true,
         "textposition": "auto",
         "type": "bar",
         "x": [
          "ga4gh:VA.ORvaSNcFK71WOVr_gi2vv6oPCcXgljab, predictsResistanceTo, rxcui:318341, Colorectal Cancer",
          "ga4gh:VA.Dy7soaZQU1vH9Eb93xG_pJyhu7xTDDC9, predictsResistanceTo, rxcui:282388, Gastrointestinal Stromal Tumor",
          "ga4gh:VA.cdcXITbBWUXPjy3zPdhs7xjU1yvlkSrj, predictsResistanceTo, rxcui:6718, Multiple Myeloma",
          "ga4gh:VA.ZqmNu5AN2PRYFl0K9eBQ_bo2pJAGKSoa, predictsResistanceTo, rxcui:6718, Multiple Myeloma",
          "ga4gh:VA.udBCHwlrf8xNiRy_19bLi-h5LhnZLgCt, predictsResistanceTo, rxcui:6718, Multiple Myeloma",
          "ga4gh:VA.6_uW58_HmIcOOQshfkvhuGjCSFL5H3fs, predictsResistanceTo, rxcui:6718, Multiple Myeloma",
          "ga4gh:VA.I_Aqtnp7T3OtKjjcXdRisQvKbLULvRN5, predictsResistanceTo, rxcui:1147220, Melanoma",
          "ga4gh:VA.sMA9h8fzDi0RvweMlxtD0_Oi8B-JZ1V-, predictsResistanceTo, ('TherapeuticSubstituteGroup', 'civic.tsgid:MHwrYYGaDMmdgFLNboI18QBl-zDj5Wso'), Lung Non-small Cell Carcinoma",
          "ga4gh:VA.zElnUUWNdxH5elaDdhFo8dYA6dVjCZNs, predictsResistanceTo, rxcui:1747556, Follicular Lymphoma",
          "ga4gh:VA.ORvaSNcFK71WOVr_gi2vv6oPCcXgljab, predictsResistanceTo, ('TherapeuticSubstituteGroup', 'civic.tsgid:7IxyhCwID0QYyVCP2xuIyYvwwu-S_HrZ'), Colorectal Cancer",
          "ga4gh:VA.sMA9h8fzDi0RvweMlxtD0_Oi8B-JZ1V-, predictsResistanceTo, rxcui:328134, Lung Non-small Cell Carcinoma",
          "ga4gh:VA.w6K7bKlqZC_cCZOk9W0IBVh4EZrcSv3o, predictsResistanceTo, rxcui:282388, Gastrointestinal Stromal Tumor",
          "ga4gh:VA.XT7dH5AXh5XW2u2Ed8z701vo6BA3nhb6, predictsResistanceTo, ('TherapeuticSubstituteGroup', 'civic.tsgid:IMgxRLc3XTtFhF3LrdtkdhJqiCh-_3dE'), Childhood Acute Lymphocytic Leukemia",
          "ga4gh:VA.-dMnJf9oUBfl9De0llc3LqJaGdFzfATK, predictsResistanceTo, rxcui:2103478, Her2-receptor Positive Breast Cancer",
          "ga4gh:VA.WCo3uQpMnNSbBMy5pKdSccudXs8ooZw9, predictsResistanceTo, ('CombinationTherapy', 'civic.ctid:E39_bNJqxD2YlQvEbnaYPTYj7A6sKF3V'), Colorectal Cancer",
          "ga4gh:VA.yHQVVwZjma693Ev6lQtew1axCWVwIi8K, predictsResistanceTo, rxcui:1147220, Melanoma",
          "ga4gh:VA.ABJoQOtfYms_bIW4CVCKShtEmwIiT6WA, predictsResistanceTo, rxcui:318341, Colorectal Cancer",
          "ga4gh:VA.RynDzpGjpLKfmAOrN0yrjRyAeIPqV52Q, predictsResistanceTo, rxcui:1242987, Basal Cell Carcinoma",
          "ga4gh:VA.cdcXITbBWUXPjy3zPdhs7xjU1yvlkSrj, predictsResistanceTo, rxcui:263034, Colorectal Cancer",
          "ga4gh:VA.AhXGahW4SCTEgBSXlABoqX7N4mWXL-MD, predictsResistanceTo, rxcui:263034, Colorectal Cancer",
          "ga4gh:VA.-dMnJf9oUBfl9De0llc3LqJaGdFzfATK, predictsResistanceTo, ('TherapeuticSubstituteGroup', 'civic.tsgid:7IxyhCwID0QYyVCP2xuIyYvwwu-S_HrZ'), Colorectal Cancer",
          "ga4gh:VA.5GEqm-zIzvvPheyGb9rlu5DyIueIubXm, predictsResistanceTo, ('TherapeuticSubstituteGroup', 'civic.tsgid:7IxyhCwID0QYyVCP2xuIyYvwwu-S_HrZ'), Colorectal Cancer",
          "ga4gh:VA.57hhvPjBoLmuSxZdcTzEdDEprYZnzznv, predictsResistanceTo, rxcui:1147220, Melanoma",
          "ga4gh:VA.AhXGahW4SCTEgBSXlABoqX7N4mWXL-MD, predictsResistanceTo, rxcui:318341, Colorectal Cancer",
          "ga4gh:VA.B6uOm51_KWfoJlGO61ui7ltRfb4sG092, predictsResistanceTo, rxcui:1546019, Chronic Myelogenous Leukemia",
          "ga4gh:VA.FkanRNmwHE0Hf6xRjR2MElkUvP5kPMDC, predictsResistanceTo, rxcui:1147220, Melanoma",
          "ga4gh:VA.0sx1Z2siMMnqZhW0BnX4eUz9dUIDLRm-, predictsResistanceTo, rxcui:282388, Cancer",
          "ga4gh:VA.Dy7soaZQU1vH9Eb93xG_pJyhu7xTDDC9, predictsResistanceTo, rxcui:282388, Cancer",
          "ga4gh:VA.yHQVVwZjma693Ev6lQtew1axCWVwIi8K, predictsResistanceTo, rxcui:2289380, Melanoma",
          "ga4gh:VA.j4XnsLZcdzDIYa5pvvXM7t1wn9OITr0L, predictsResistanceTo, ('TherapeuticSubstituteGroup', 'civic.tsgid:7IxyhCwID0QYyVCP2xuIyYvwwu-S_HrZ'), Colorectal Cancer",
          "ga4gh:VA.0v5ZnAjs5BLLL0yOTmm5LO5S1f2m8vGa, predictsResistanceTo, rxcui:1442981, Chronic Lymphocytic Leukemia"
         ],
         "xaxis": "x",
         "y": [
          6,
          5,
          4,
          4,
          4,
          4,
          2,
          2,
          2,
          2,
          2,
          2,
          2,
          2,
          2,
          2,
          2,
          2,
          2,
          2,
          2,
          2,
          2,
          2,
          2,
          2,
          2,
          2,
          2,
          2,
          2
         ],
         "yaxis": "y"
        },
        {
         "alignmentgroup": "True",
         "hovertemplate": "predicate=associatedWithBetterOutcomeFor<br>joined=%{x}<br>counts=%{y}<extra></extra>",
         "legendgroup": "associatedWithBetterOutcomeFor",
         "marker": {
          "color": "#ab63fa",
          "pattern": {
           "shape": ""
          }
         },
         "name": "associatedWithBetterOutcomeFor",
         "offsetgroup": "associatedWithBetterOutcomeFor",
         "orientation": "v",
         "showlegend": true,
         "textposition": "auto",
         "type": "bar",
         "x": [
          "ga4gh:VA.5GEqm-zIzvvPheyGb9rlu5DyIueIubXm, associatedWithBetterOutcomeFor, None, Breast Cancer"
         ],
         "xaxis": "x",
         "y": [
          2
         ],
         "yaxis": "y"
        }
       ],
       "layout": {
        "bargap": 0.2,
        "barmode": "relative",
        "legend": {
         "title": {
          "text": "predicate"
         },
         "tracegroupgap": 0
        },
        "template": {
         "data": {
          "bar": [
           {
            "error_x": {
             "color": "#2a3f5f"
            },
            "error_y": {
             "color": "#2a3f5f"
            },
            "marker": {
             "line": {
              "color": "#E5ECF6",
              "width": 0.5
             },
             "pattern": {
              "fillmode": "overlay",
              "size": 10,
              "solidity": 0.2
             }
            },
            "type": "bar"
           }
          ],
          "barpolar": [
           {
            "marker": {
             "line": {
              "color": "#E5ECF6",
              "width": 0.5
             },
             "pattern": {
              "fillmode": "overlay",
              "size": 10,
              "solidity": 0.2
             }
            },
            "type": "barpolar"
           }
          ],
          "carpet": [
           {
            "aaxis": {
             "endlinecolor": "#2a3f5f",
             "gridcolor": "white",
             "linecolor": "white",
             "minorgridcolor": "white",
             "startlinecolor": "#2a3f5f"
            },
            "baxis": {
             "endlinecolor": "#2a3f5f",
             "gridcolor": "white",
             "linecolor": "white",
             "minorgridcolor": "white",
             "startlinecolor": "#2a3f5f"
            },
            "type": "carpet"
           }
          ],
          "choropleth": [
           {
            "colorbar": {
             "outlinewidth": 0,
             "ticks": ""
            },
            "type": "choropleth"
           }
          ],
          "contour": [
           {
            "colorbar": {
             "outlinewidth": 0,
             "ticks": ""
            },
            "colorscale": [
             [
              0,
              "#0d0887"
             ],
             [
              0.1111111111111111,
              "#46039f"
             ],
             [
              0.2222222222222222,
              "#7201a8"
             ],
             [
              0.3333333333333333,
              "#9c179e"
             ],
             [
              0.4444444444444444,
              "#bd3786"
             ],
             [
              0.5555555555555556,
              "#d8576b"
             ],
             [
              0.6666666666666666,
              "#ed7953"
             ],
             [
              0.7777777777777778,
              "#fb9f3a"
             ],
             [
              0.8888888888888888,
              "#fdca26"
             ],
             [
              1,
              "#f0f921"
             ]
            ],
            "type": "contour"
           }
          ],
          "contourcarpet": [
           {
            "colorbar": {
             "outlinewidth": 0,
             "ticks": ""
            },
            "type": "contourcarpet"
           }
          ],
          "heatmap": [
           {
            "colorbar": {
             "outlinewidth": 0,
             "ticks": ""
            },
            "colorscale": [
             [
              0,
              "#0d0887"
             ],
             [
              0.1111111111111111,
              "#46039f"
             ],
             [
              0.2222222222222222,
              "#7201a8"
             ],
             [
              0.3333333333333333,
              "#9c179e"
             ],
             [
              0.4444444444444444,
              "#bd3786"
             ],
             [
              0.5555555555555556,
              "#d8576b"
             ],
             [
              0.6666666666666666,
              "#ed7953"
             ],
             [
              0.7777777777777778,
              "#fb9f3a"
             ],
             [
              0.8888888888888888,
              "#fdca26"
             ],
             [
              1,
              "#f0f921"
             ]
            ],
            "type": "heatmap"
           }
          ],
          "heatmapgl": [
           {
            "colorbar": {
             "outlinewidth": 0,
             "ticks": ""
            },
            "colorscale": [
             [
              0,
              "#0d0887"
             ],
             [
              0.1111111111111111,
              "#46039f"
             ],
             [
              0.2222222222222222,
              "#7201a8"
             ],
             [
              0.3333333333333333,
              "#9c179e"
             ],
             [
              0.4444444444444444,
              "#bd3786"
             ],
             [
              0.5555555555555556,
              "#d8576b"
             ],
             [
              0.6666666666666666,
              "#ed7953"
             ],
             [
              0.7777777777777778,
              "#fb9f3a"
             ],
             [
              0.8888888888888888,
              "#fdca26"
             ],
             [
              1,
              "#f0f921"
             ]
            ],
            "type": "heatmapgl"
           }
          ],
          "histogram": [
           {
            "marker": {
             "pattern": {
              "fillmode": "overlay",
              "size": 10,
              "solidity": 0.2
             }
            },
            "type": "histogram"
           }
          ],
          "histogram2d": [
           {
            "colorbar": {
             "outlinewidth": 0,
             "ticks": ""
            },
            "colorscale": [
             [
              0,
              "#0d0887"
             ],
             [
              0.1111111111111111,
              "#46039f"
             ],
             [
              0.2222222222222222,
              "#7201a8"
             ],
             [
              0.3333333333333333,
              "#9c179e"
             ],
             [
              0.4444444444444444,
              "#bd3786"
             ],
             [
              0.5555555555555556,
              "#d8576b"
             ],
             [
              0.6666666666666666,
              "#ed7953"
             ],
             [
              0.7777777777777778,
              "#fb9f3a"
             ],
             [
              0.8888888888888888,
              "#fdca26"
             ],
             [
              1,
              "#f0f921"
             ]
            ],
            "type": "histogram2d"
           }
          ],
          "histogram2dcontour": [
           {
            "colorbar": {
             "outlinewidth": 0,
             "ticks": ""
            },
            "colorscale": [
             [
              0,
              "#0d0887"
             ],
             [
              0.1111111111111111,
              "#46039f"
             ],
             [
              0.2222222222222222,
              "#7201a8"
             ],
             [
              0.3333333333333333,
              "#9c179e"
             ],
             [
              0.4444444444444444,
              "#bd3786"
             ],
             [
              0.5555555555555556,
              "#d8576b"
             ],
             [
              0.6666666666666666,
              "#ed7953"
             ],
             [
              0.7777777777777778,
              "#fb9f3a"
             ],
             [
              0.8888888888888888,
              "#fdca26"
             ],
             [
              1,
              "#f0f921"
             ]
            ],
            "type": "histogram2dcontour"
           }
          ],
          "mesh3d": [
           {
            "colorbar": {
             "outlinewidth": 0,
             "ticks": ""
            },
            "type": "mesh3d"
           }
          ],
          "parcoords": [
           {
            "line": {
             "colorbar": {
              "outlinewidth": 0,
              "ticks": ""
             }
            },
            "type": "parcoords"
           }
          ],
          "pie": [
           {
            "automargin": true,
            "type": "pie"
           }
          ],
          "scatter": [
           {
            "fillpattern": {
             "fillmode": "overlay",
             "size": 10,
             "solidity": 0.2
            },
            "type": "scatter"
           }
          ],
          "scatter3d": [
           {
            "line": {
             "colorbar": {
              "outlinewidth": 0,
              "ticks": ""
             }
            },
            "marker": {
             "colorbar": {
              "outlinewidth": 0,
              "ticks": ""
             }
            },
            "type": "scatter3d"
           }
          ],
          "scattercarpet": [
           {
            "marker": {
             "colorbar": {
              "outlinewidth": 0,
              "ticks": ""
             }
            },
            "type": "scattercarpet"
           }
          ],
          "scattergeo": [
           {
            "marker": {
             "colorbar": {
              "outlinewidth": 0,
              "ticks": ""
             }
            },
            "type": "scattergeo"
           }
          ],
          "scattergl": [
           {
            "marker": {
             "colorbar": {
              "outlinewidth": 0,
              "ticks": ""
             }
            },
            "type": "scattergl"
           }
          ],
          "scattermapbox": [
           {
            "marker": {
             "colorbar": {
              "outlinewidth": 0,
              "ticks": ""
             }
            },
            "type": "scattermapbox"
           }
          ],
          "scatterpolar": [
           {
            "marker": {
             "colorbar": {
              "outlinewidth": 0,
              "ticks": ""
             }
            },
            "type": "scatterpolar"
           }
          ],
          "scatterpolargl": [
           {
            "marker": {
             "colorbar": {
              "outlinewidth": 0,
              "ticks": ""
             }
            },
            "type": "scatterpolargl"
           }
          ],
          "scatterternary": [
           {
            "marker": {
             "colorbar": {
              "outlinewidth": 0,
              "ticks": ""
             }
            },
            "type": "scatterternary"
           }
          ],
          "surface": [
           {
            "colorbar": {
             "outlinewidth": 0,
             "ticks": ""
            },
            "colorscale": [
             [
              0,
              "#0d0887"
             ],
             [
              0.1111111111111111,
              "#46039f"
             ],
             [
              0.2222222222222222,
              "#7201a8"
             ],
             [
              0.3333333333333333,
              "#9c179e"
             ],
             [
              0.4444444444444444,
              "#bd3786"
             ],
             [
              0.5555555555555556,
              "#d8576b"
             ],
             [
              0.6666666666666666,
              "#ed7953"
             ],
             [
              0.7777777777777778,
              "#fb9f3a"
             ],
             [
              0.8888888888888888,
              "#fdca26"
             ],
             [
              1,
              "#f0f921"
             ]
            ],
            "type": "surface"
           }
          ],
          "table": [
           {
            "cells": {
             "fill": {
              "color": "#EBF0F8"
             },
             "line": {
              "color": "white"
             }
            },
            "header": {
             "fill": {
              "color": "#C8D4E3"
             },
             "line": {
              "color": "white"
             }
            },
            "type": "table"
           }
          ]
         },
         "layout": {
          "annotationdefaults": {
           "arrowcolor": "#2a3f5f",
           "arrowhead": 0,
           "arrowwidth": 1
          },
          "autotypenumbers": "strict",
          "coloraxis": {
           "colorbar": {
            "outlinewidth": 0,
            "ticks": ""
           }
          },
          "colorscale": {
           "diverging": [
            [
             0,
             "#8e0152"
            ],
            [
             0.1,
             "#c51b7d"
            ],
            [
             0.2,
             "#de77ae"
            ],
            [
             0.3,
             "#f1b6da"
            ],
            [
             0.4,
             "#fde0ef"
            ],
            [
             0.5,
             "#f7f7f7"
            ],
            [
             0.6,
             "#e6f5d0"
            ],
            [
             0.7,
             "#b8e186"
            ],
            [
             0.8,
             "#7fbc41"
            ],
            [
             0.9,
             "#4d9221"
            ],
            [
             1,
             "#276419"
            ]
           ],
           "sequential": [
            [
             0,
             "#0d0887"
            ],
            [
             0.1111111111111111,
             "#46039f"
            ],
            [
             0.2222222222222222,
             "#7201a8"
            ],
            [
             0.3333333333333333,
             "#9c179e"
            ],
            [
             0.4444444444444444,
             "#bd3786"
            ],
            [
             0.5555555555555556,
             "#d8576b"
            ],
            [
             0.6666666666666666,
             "#ed7953"
            ],
            [
             0.7777777777777778,
             "#fb9f3a"
            ],
            [
             0.8888888888888888,
             "#fdca26"
            ],
            [
             1,
             "#f0f921"
            ]
           ],
           "sequentialminus": [
            [
             0,
             "#0d0887"
            ],
            [
             0.1111111111111111,
             "#46039f"
            ],
            [
             0.2222222222222222,
             "#7201a8"
            ],
            [
             0.3333333333333333,
             "#9c179e"
            ],
            [
             0.4444444444444444,
             "#bd3786"
            ],
            [
             0.5555555555555556,
             "#d8576b"
            ],
            [
             0.6666666666666666,
             "#ed7953"
            ],
            [
             0.7777777777777778,
             "#fb9f3a"
            ],
            [
             0.8888888888888888,
             "#fdca26"
            ],
            [
             1,
             "#f0f921"
            ]
           ]
          },
          "colorway": [
           "#636efa",
           "#EF553B",
           "#00cc96",
           "#ab63fa",
           "#FFA15A",
           "#19d3f3",
           "#FF6692",
           "#B6E880",
           "#FF97FF",
           "#FECB52"
          ],
          "font": {
           "color": "#2a3f5f"
          },
          "geo": {
           "bgcolor": "white",
           "lakecolor": "white",
           "landcolor": "#E5ECF6",
           "showlakes": true,
           "showland": true,
           "subunitcolor": "white"
          },
          "hoverlabel": {
           "align": "left"
          },
          "hovermode": "closest",
          "mapbox": {
           "style": "light"
          },
          "paper_bgcolor": "white",
          "plot_bgcolor": "#E5ECF6",
          "polar": {
           "angularaxis": {
            "gridcolor": "white",
            "linecolor": "white",
            "ticks": ""
           },
           "bgcolor": "#E5ECF6",
           "radialaxis": {
            "gridcolor": "white",
            "linecolor": "white",
            "ticks": ""
           }
          },
          "scene": {
           "xaxis": {
            "backgroundcolor": "#E5ECF6",
            "gridcolor": "white",
            "gridwidth": 2,
            "linecolor": "white",
            "showbackground": true,
            "ticks": "",
            "zerolinecolor": "white"
           },
           "yaxis": {
            "backgroundcolor": "#E5ECF6",
            "gridcolor": "white",
            "gridwidth": 2,
            "linecolor": "white",
            "showbackground": true,
            "ticks": "",
            "zerolinecolor": "white"
           },
           "zaxis": {
            "backgroundcolor": "#E5ECF6",
            "gridcolor": "white",
            "gridwidth": 2,
            "linecolor": "white",
            "showbackground": true,
            "ticks": "",
            "zerolinecolor": "white"
           }
          },
          "shapedefaults": {
           "line": {
            "color": "#2a3f5f"
           }
          },
          "ternary": {
           "aaxis": {
            "gridcolor": "white",
            "linecolor": "white",
            "ticks": ""
           },
           "baxis": {
            "gridcolor": "white",
            "linecolor": "white",
            "ticks": ""
           },
           "bgcolor": "#E5ECF6",
           "caxis": {
            "gridcolor": "white",
            "linecolor": "white",
            "ticks": ""
           }
          },
          "title": {
           "x": 0.05
          },
          "xaxis": {
           "automargin": true,
           "gridcolor": "white",
           "linecolor": "white",
           "ticks": "",
           "title": {
            "standoff": 15
           },
           "zerolinecolor": "white",
           "zerolinewidth": 2
          },
          "yaxis": {
           "automargin": true,
           "gridcolor": "white",
           "linecolor": "white",
           "ticks": "",
           "title": {
            "standoff": 15
           },
           "zerolinecolor": "white",
           "zerolinewidth": 2
          }
         }
        },
        "title": {
         "text": "Overlap of Full Evidence Statements in MetaKB v2"
        },
        "xaxis": {
         "anchor": "y",
         "domain": [
          0,
          1
         ],
         "tickfont": {
          "size": 4
         },
         "title": {
          "text": "joined"
         }
        },
        "yaxis": {
         "anchor": "x",
         "domain": [
          0,
          1
         ],
         "title": {
          "text": "# Overlapping Statements"
         }
        }
       }
      }
     },
     "metadata": {},
     "output_type": "display_data"
    }
   ],
   "source": [
    "# Bar Graph of Evidence Overlap\n",
    "fig = px.bar(data[0:92], x='joined', y='counts', color='predicate', title='Overlap of Full Evidence Statements in MetaKB v2')\n",
    "fig.update_layout(yaxis_title='# Overlapping Statements',\n",
    "                  xaxis=dict(tickfont=dict(size=4)),\n",
    "                  bargap=0.2)\n",
    "fig.show()\n",
    "pio.write_image(fig, \"Full_Evidence_Statement_overlap_bar.png\", format='png', width=1500, height=500, scale=5)"
   ]
  },
  {
   "cell_type": "code",
   "execution_count": 78,
   "metadata": {},
   "outputs": [],
   "source": [
    "# TODO: Tuples/Triplets of different components of the full evidence statement for more overlap\n",
    "# fig = px.bar(data[0:86], x=['Variant','Therapeutic'], y='counts', color='predicate', title='Overlap of Full Evidence Statements in MetaKB v2')\n",
    "# fig.update_layout(yaxis_title='# Overlapping Statements') \n",
    "# fig.show()"
   ]
  },
  {
   "cell_type": "code",
   "execution_count": 79,
   "metadata": {},
   "outputs": [
    {
     "data": {
      "application/vnd.plotly.v1+json": {
       "config": {
        "plotlyServerURL": "https://plot.ly"
       },
       "data": [
        {
         "domain": {
          "x": [
           0,
           1
          ],
          "y": [
           0,
           1
          ]
         },
         "hovertemplate": "is_duplicate=%{label}<br>counts=%{value}<extra></extra>",
         "labels": [
          "Duplicate",
          "Duplicate",
          "Duplicate",
          "Duplicate",
          "Duplicate",
          "Duplicate",
          "Duplicate",
          "Duplicate",
          "Duplicate",
          "Duplicate",
          "Duplicate",
          "Duplicate",
          "Duplicate",
          "Duplicate",
          "Duplicate",
          "Duplicate",
          "Duplicate",
          "Duplicate",
          "Duplicate",
          "Duplicate",
          "Duplicate",
          "Duplicate",
          "Duplicate",
          "Duplicate",
          "Duplicate",
          "Duplicate",
          "Duplicate",
          "Duplicate",
          "Duplicate",
          "Duplicate",
          "Duplicate",
          "Duplicate",
          "Duplicate",
          "Duplicate",
          "Duplicate",
          "Duplicate",
          "Duplicate",
          "Duplicate",
          "Duplicate",
          "Duplicate",
          "Duplicate",
          "Duplicate",
          "Duplicate",
          "Duplicate",
          "Duplicate",
          "Duplicate",
          "Duplicate",
          "Duplicate",
          "Duplicate",
          "Duplicate",
          "Duplicate",
          "Duplicate",
          "Duplicate",
          "Duplicate",
          "Duplicate",
          "Duplicate",
          "Duplicate",
          "Duplicate",
          "Duplicate",
          "Duplicate",
          "Duplicate",
          "Duplicate",
          "Duplicate",
          "Duplicate",
          "Duplicate",
          "Duplicate",
          "Duplicate",
          "Duplicate",
          "Duplicate",
          "Duplicate",
          "Duplicate",
          "Duplicate",
          "Duplicate",
          "Duplicate",
          "Duplicate",
          "Duplicate",
          "Duplicate",
          "Duplicate",
          "Duplicate",
          "Duplicate",
          "Duplicate",
          "Duplicate",
          "Duplicate",
          "Duplicate",
          "Duplicate",
          "Duplicate",
          "Duplicate",
          "Duplicate",
          "Duplicate",
          "Duplicate",
          "Duplicate",
          "Duplicate",
          "Duplicate",
          "Not Duplicate",
          "Not Duplicate",
          "Not Duplicate",
          "Not Duplicate",
          "Not Duplicate",
          "Not Duplicate",
          "Not Duplicate",
          "Not Duplicate",
          "Not Duplicate",
          "Not Duplicate",
          "Not Duplicate",
          "Not Duplicate",
          "Not Duplicate",
          "Not Duplicate",
          "Not Duplicate",
          "Not Duplicate",
          "Not Duplicate",
          "Not Duplicate",
          "Not Duplicate",
          "Not Duplicate",
          "Not Duplicate",
          "Not Duplicate",
          "Not Duplicate",
          "Not Duplicate",
          "Not Duplicate",
          "Not Duplicate",
          "Not Duplicate",
          "Not Duplicate",
          "Not Duplicate",
          "Not Duplicate",
          "Not Duplicate",
          "Not Duplicate",
          "Not Duplicate",
          "Not Duplicate",
          "Not Duplicate",
          "Not Duplicate",
          "Not Duplicate",
          "Not Duplicate",
          "Not Duplicate",
          "Not Duplicate",
          "Not Duplicate",
          "Not Duplicate",
          "Not Duplicate",
          "Not Duplicate",
          "Not Duplicate",
          "Not Duplicate",
          "Not Duplicate",
          "Not Duplicate",
          "Not Duplicate",
          "Not Duplicate",
          "Not Duplicate",
          "Not Duplicate",
          "Not Duplicate",
          "Not Duplicate",
          "Not Duplicate",
          "Not Duplicate",
          "Not Duplicate",
          "Not Duplicate",
          "Not Duplicate",
          "Not Duplicate",
          "Not Duplicate",
          "Not Duplicate",
          "Not Duplicate",
          "Not Duplicate",
          "Not Duplicate",
          "Not Duplicate",
          "Not Duplicate",
          "Not Duplicate",
          "Not Duplicate",
          "Not Duplicate",
          "Not Duplicate",
          "Not Duplicate",
          "Not Duplicate",
          "Not Duplicate",
          "Not Duplicate",
          "Not Duplicate",
          "Not Duplicate",
          "Not Duplicate",
          "Not Duplicate",
          "Not Duplicate",
          "Not Duplicate",
          "Not Duplicate",
          "Not Duplicate",
          "Not Duplicate",
          "Not Duplicate",
          "Not Duplicate",
          "Not Duplicate",
          "Not Duplicate",
          "Not Duplicate",
          "Not Duplicate",
          "Not Duplicate",
          "Not Duplicate",
          "Not Duplicate",
          "Not Duplicate",
          "Not Duplicate",
          "Not Duplicate",
          "Not Duplicate",
          "Not Duplicate",
          "Not Duplicate",
          "Not Duplicate",
          "Not Duplicate",
          "Not Duplicate",
          "Not Duplicate",
          "Not Duplicate",
          "Not Duplicate",
          "Not Duplicate",
          "Not Duplicate",
          "Not Duplicate",
          "Not Duplicate",
          "Not Duplicate",
          "Not Duplicate",
          "Not Duplicate",
          "Not Duplicate",
          "Not Duplicate",
          "Not Duplicate",
          "Not Duplicate",
          "Not Duplicate",
          "Not Duplicate",
          "Not Duplicate",
          "Not Duplicate",
          "Not Duplicate",
          "Not Duplicate",
          "Not Duplicate",
          "Not Duplicate",
          "Not Duplicate",
          "Not Duplicate",
          "Not Duplicate",
          "Not Duplicate",
          "Not Duplicate",
          "Not Duplicate",
          "Not Duplicate",
          "Not Duplicate",
          "Not Duplicate",
          "Not Duplicate",
          "Not Duplicate",
          "Not Duplicate",
          "Not Duplicate",
          "Not Duplicate",
          "Not Duplicate",
          "Not Duplicate",
          "Not Duplicate",
          "Not Duplicate",
          "Not Duplicate",
          "Not Duplicate",
          "Not Duplicate",
          "Not Duplicate",
          "Not Duplicate",
          "Not Duplicate",
          "Not Duplicate",
          "Not Duplicate",
          "Not Duplicate",
          "Not Duplicate",
          "Not Duplicate",
          "Not Duplicate",
          "Not Duplicate",
          "Not Duplicate",
          "Not Duplicate",
          "Not Duplicate",
          "Not Duplicate",
          "Not Duplicate",
          "Not Duplicate",
          "Not Duplicate",
          "Not Duplicate",
          "Not Duplicate",
          "Not Duplicate",
          "Not Duplicate",
          "Not Duplicate",
          "Not Duplicate",
          "Not Duplicate",
          "Not Duplicate",
          "Not Duplicate",
          "Not Duplicate",
          "Not Duplicate",
          "Not Duplicate",
          "Not Duplicate",
          "Not Duplicate",
          "Not Duplicate",
          "Not Duplicate",
          "Not Duplicate",
          "Not Duplicate",
          "Not Duplicate",
          "Not Duplicate",
          "Not Duplicate",
          "Not Duplicate",
          "Not Duplicate",
          "Not Duplicate",
          "Not Duplicate",
          "Not Duplicate",
          "Not Duplicate",
          "Not Duplicate",
          "Not Duplicate",
          "Not Duplicate",
          "Not Duplicate",
          "Not Duplicate",
          "Not Duplicate",
          "Not Duplicate",
          "Not Duplicate",
          "Not Duplicate",
          "Not Duplicate",
          "Not Duplicate",
          "Not Duplicate",
          "Not Duplicate",
          "Not Duplicate",
          "Not Duplicate",
          "Not Duplicate",
          "Not Duplicate",
          "Not Duplicate",
          "Not Duplicate",
          "Not Duplicate",
          "Not Duplicate",
          "Not Duplicate",
          "Not Duplicate",
          "Not Duplicate",
          "Not Duplicate",
          "Not Duplicate",
          "Not Duplicate",
          "Not Duplicate",
          "Not Duplicate",
          "Not Duplicate",
          "Not Duplicate",
          "Not Duplicate",
          "Not Duplicate",
          "Not Duplicate",
          "Not Duplicate",
          "Not Duplicate",
          "Not Duplicate",
          "Not Duplicate",
          "Not Duplicate",
          "Not Duplicate",
          "Not Duplicate",
          "Not Duplicate",
          "Not Duplicate",
          "Not Duplicate",
          "Not Duplicate",
          "Not Duplicate",
          "Not Duplicate",
          "Not Duplicate",
          "Not Duplicate",
          "Not Duplicate",
          "Not Duplicate",
          "Not Duplicate",
          "Not Duplicate",
          "Not Duplicate",
          "Not Duplicate",
          "Not Duplicate",
          "Not Duplicate",
          "Not Duplicate",
          "Not Duplicate",
          "Not Duplicate",
          "Not Duplicate",
          "Not Duplicate",
          "Not Duplicate",
          "Not Duplicate",
          "Not Duplicate",
          "Not Duplicate",
          "Not Duplicate",
          "Not Duplicate",
          "Not Duplicate",
          "Not Duplicate",
          "Not Duplicate",
          "Not Duplicate",
          "Not Duplicate",
          "Not Duplicate",
          "Not Duplicate",
          "Not Duplicate",
          "Not Duplicate",
          "Not Duplicate",
          "Not Duplicate",
          "Not Duplicate",
          "Not Duplicate",
          "Not Duplicate",
          "Not Duplicate",
          "Not Duplicate",
          "Not Duplicate",
          "Not Duplicate",
          "Not Duplicate",
          "Not Duplicate",
          "Not Duplicate",
          "Not Duplicate",
          "Not Duplicate",
          "Not Duplicate",
          "Not Duplicate",
          "Not Duplicate",
          "Not Duplicate",
          "Not Duplicate",
          "Not Duplicate",
          "Not Duplicate",
          "Not Duplicate",
          "Not Duplicate",
          "Not Duplicate",
          "Not Duplicate",
          "Not Duplicate",
          "Not Duplicate",
          "Not Duplicate",
          "Not Duplicate",
          "Not Duplicate",
          "Not Duplicate",
          "Not Duplicate",
          "Not Duplicate",
          "Not Duplicate",
          "Not Duplicate",
          "Not Duplicate",
          "Not Duplicate",
          "Not Duplicate",
          "Not Duplicate",
          "Not Duplicate",
          "Not Duplicate",
          "Not Duplicate",
          "Not Duplicate",
          "Not Duplicate",
          "Not Duplicate",
          "Not Duplicate",
          "Not Duplicate",
          "Not Duplicate",
          "Not Duplicate",
          "Not Duplicate",
          "Not Duplicate",
          "Not Duplicate",
          "Not Duplicate",
          "Not Duplicate",
          "Not Duplicate",
          "Not Duplicate",
          "Not Duplicate",
          "Not Duplicate",
          "Not Duplicate",
          "Not Duplicate",
          "Not Duplicate",
          "Not Duplicate",
          "Not Duplicate",
          "Not Duplicate",
          "Not Duplicate",
          "Not Duplicate",
          "Not Duplicate",
          "Not Duplicate",
          "Not Duplicate",
          "Not Duplicate",
          "Not Duplicate",
          "Not Duplicate",
          "Not Duplicate",
          "Not Duplicate",
          "Not Duplicate",
          "Not Duplicate",
          "Not Duplicate",
          "Not Duplicate",
          "Not Duplicate",
          "Not Duplicate",
          "Not Duplicate",
          "Not Duplicate",
          "Not Duplicate",
          "Not Duplicate",
          "Not Duplicate",
          "Not Duplicate",
          "Not Duplicate",
          "Not Duplicate",
          "Not Duplicate",
          "Not Duplicate",
          "Not Duplicate",
          "Not Duplicate",
          "Not Duplicate",
          "Not Duplicate",
          "Not Duplicate",
          "Not Duplicate",
          "Not Duplicate",
          "Not Duplicate",
          "Not Duplicate",
          "Not Duplicate",
          "Not Duplicate",
          "Not Duplicate",
          "Not Duplicate",
          "Not Duplicate",
          "Not Duplicate",
          "Not Duplicate",
          "Not Duplicate",
          "Not Duplicate",
          "Not Duplicate",
          "Not Duplicate",
          "Not Duplicate",
          "Not Duplicate",
          "Not Duplicate",
          "Not Duplicate",
          "Not Duplicate",
          "Not Duplicate",
          "Not Duplicate",
          "Not Duplicate",
          "Not Duplicate",
          "Not Duplicate",
          "Not Duplicate",
          "Not Duplicate",
          "Not Duplicate",
          "Not Duplicate",
          "Not Duplicate",
          "Not Duplicate",
          "Not Duplicate",
          "Not Duplicate",
          "Not Duplicate",
          "Not Duplicate",
          "Not Duplicate",
          "Not Duplicate",
          "Not Duplicate",
          "Not Duplicate",
          "Not Duplicate",
          "Not Duplicate",
          "Not Duplicate",
          "Not Duplicate",
          "Not Duplicate",
          "Not Duplicate",
          "Not Duplicate",
          "Not Duplicate",
          "Not Duplicate",
          "Not Duplicate",
          "Not Duplicate",
          "Not Duplicate",
          "Not Duplicate",
          "Not Duplicate",
          "Not Duplicate",
          "Not Duplicate",
          "Not Duplicate",
          "Not Duplicate",
          "Not Duplicate",
          "Not Duplicate",
          "Not Duplicate",
          "Not Duplicate",
          "Not Duplicate",
          "Not Duplicate",
          "Not Duplicate",
          "Not Duplicate",
          "Not Duplicate",
          "Not Duplicate",
          "Not Duplicate",
          "Not Duplicate",
          "Not Duplicate",
          "Not Duplicate",
          "Not Duplicate",
          "Not Duplicate",
          "Not Duplicate",
          "Not Duplicate",
          "Not Duplicate",
          "Not Duplicate",
          "Not Duplicate",
          "Not Duplicate",
          "Not Duplicate",
          "Not Duplicate",
          "Not Duplicate",
          "Not Duplicate",
          "Not Duplicate",
          "Not Duplicate",
          "Not Duplicate",
          "Not Duplicate",
          "Not Duplicate",
          "Not Duplicate",
          "Not Duplicate",
          "Not Duplicate",
          "Not Duplicate",
          "Not Duplicate",
          "Not Duplicate",
          "Not Duplicate",
          "Not Duplicate",
          "Not Duplicate",
          "Not Duplicate",
          "Not Duplicate",
          "Not Duplicate",
          "Not Duplicate",
          "Not Duplicate",
          "Not Duplicate",
          "Not Duplicate",
          "Not Duplicate",
          "Not Duplicate",
          "Not Duplicate",
          "Not Duplicate",
          "Not Duplicate",
          "Not Duplicate",
          "Not Duplicate",
          "Not Duplicate",
          "Not Duplicate",
          "Not Duplicate",
          "Not Duplicate",
          "Not Duplicate",
          "Not Duplicate",
          "Not Duplicate",
          "Not Duplicate",
          "Not Duplicate",
          "Not Duplicate",
          "Not Duplicate",
          "Not Duplicate",
          "Not Duplicate",
          "Not Duplicate",
          "Not Duplicate",
          "Not Duplicate",
          "Not Duplicate",
          "Not Duplicate",
          "Not Duplicate",
          "Not Duplicate",
          "Not Duplicate",
          "Not Duplicate",
          "Not Duplicate",
          "Not Duplicate",
          "Not Duplicate",
          "Not Duplicate",
          "Not Duplicate",
          "Not Duplicate",
          "Not Duplicate",
          "Not Duplicate",
          "Not Duplicate",
          "Not Duplicate",
          "Not Duplicate",
          "Not Duplicate",
          "Not Duplicate",
          "Not Duplicate",
          "Not Duplicate",
          "Not Duplicate",
          "Not Duplicate",
          "Not Duplicate",
          "Not Duplicate",
          "Not Duplicate",
          "Not Duplicate",
          "Not Duplicate",
          "Not Duplicate",
          "Not Duplicate",
          "Not Duplicate",
          "Not Duplicate",
          "Not Duplicate",
          "Not Duplicate",
          "Not Duplicate",
          "Not Duplicate",
          "Not Duplicate",
          "Not Duplicate",
          "Not Duplicate",
          "Not Duplicate",
          "Not Duplicate",
          "Not Duplicate",
          "Not Duplicate",
          "Not Duplicate",
          "Not Duplicate",
          "Not Duplicate",
          "Not Duplicate",
          "Not Duplicate",
          "Not Duplicate",
          "Not Duplicate",
          "Not Duplicate",
          "Not Duplicate",
          "Not Duplicate",
          "Not Duplicate",
          "Not Duplicate",
          "Not Duplicate",
          "Not Duplicate",
          "Not Duplicate",
          "Not Duplicate",
          "Not Duplicate",
          "Not Duplicate",
          "Not Duplicate",
          "Not Duplicate",
          "Not Duplicate",
          "Not Duplicate",
          "Not Duplicate",
          "Not Duplicate",
          "Not Duplicate",
          "Not Duplicate",
          "Not Duplicate",
          "Not Duplicate",
          "Not Duplicate",
          "Not Duplicate",
          "Not Duplicate",
          "Not Duplicate",
          "Not Duplicate",
          "Not Duplicate",
          "Not Duplicate",
          "Not Duplicate",
          "Not Duplicate",
          "Not Duplicate",
          "Not Duplicate",
          "Not Duplicate",
          "Not Duplicate",
          "Not Duplicate",
          "Not Duplicate",
          "Not Duplicate",
          "Not Duplicate",
          "Not Duplicate",
          "Not Duplicate",
          "Not Duplicate",
          "Not Duplicate",
          "Not Duplicate",
          "Not Duplicate",
          "Not Duplicate",
          "Not Duplicate",
          "Not Duplicate",
          "Not Duplicate",
          "Not Duplicate",
          "Not Duplicate",
          "Not Duplicate",
          "Not Duplicate",
          "Not Duplicate",
          "Not Duplicate",
          "Not Duplicate",
          "Not Duplicate",
          "Not Duplicate",
          "Not Duplicate",
          "Not Duplicate",
          "Not Duplicate",
          "Not Duplicate",
          "Not Duplicate",
          "Not Duplicate",
          "Not Duplicate",
          "Not Duplicate",
          "Not Duplicate",
          "Not Duplicate",
          "Not Duplicate",
          "Not Duplicate",
          "Not Duplicate",
          "Not Duplicate",
          "Not Duplicate",
          "Not Duplicate",
          "Not Duplicate",
          "Not Duplicate",
          "Not Duplicate",
          "Not Duplicate",
          "Not Duplicate",
          "Not Duplicate",
          "Not Duplicate",
          "Not Duplicate",
          "Not Duplicate",
          "Not Duplicate",
          "Not Duplicate",
          "Not Duplicate",
          "Not Duplicate",
          "Not Duplicate",
          "Not Duplicate",
          "Not Duplicate",
          "Not Duplicate",
          "Not Duplicate",
          "Not Duplicate",
          "Not Duplicate",
          "Not Duplicate",
          "Not Duplicate",
          "Not Duplicate",
          "Not Duplicate",
          "Not Duplicate",
          "Not Duplicate",
          "Not Duplicate",
          "Not Duplicate",
          "Not Duplicate",
          "Not Duplicate",
          "Not Duplicate",
          "Not Duplicate",
          "Not Duplicate",
          "Not Duplicate",
          "Not Duplicate",
          "Not Duplicate",
          "Not Duplicate",
          "Not Duplicate",
          "Not Duplicate",
          "Not Duplicate",
          "Not Duplicate",
          "Not Duplicate",
          "Not Duplicate",
          "Not Duplicate",
          "Not Duplicate",
          "Not Duplicate",
          "Not Duplicate",
          "Not Duplicate",
          "Not Duplicate",
          "Not Duplicate",
          "Not Duplicate",
          "Not Duplicate",
          "Not Duplicate",
          "Not Duplicate",
          "Not Duplicate",
          "Not Duplicate",
          "Not Duplicate",
          "Not Duplicate",
          "Not Duplicate",
          "Not Duplicate",
          "Not Duplicate",
          "Not Duplicate",
          "Not Duplicate",
          "Not Duplicate",
          "Not Duplicate",
          "Not Duplicate",
          "Not Duplicate",
          "Not Duplicate",
          "Not Duplicate",
          "Not Duplicate",
          "Not Duplicate",
          "Not Duplicate",
          "Not Duplicate",
          "Not Duplicate",
          "Not Duplicate",
          "Not Duplicate",
          "Not Duplicate",
          "Not Duplicate",
          "Not Duplicate",
          "Not Duplicate",
          "Not Duplicate",
          "Not Duplicate",
          "Not Duplicate",
          "Not Duplicate",
          "Not Duplicate",
          "Not Duplicate",
          "Not Duplicate",
          "Not Duplicate",
          "Not Duplicate",
          "Not Duplicate",
          "Not Duplicate",
          "Not Duplicate",
          "Not Duplicate",
          "Not Duplicate",
          "Not Duplicate",
          "Not Duplicate",
          "Not Duplicate",
          "Not Duplicate",
          "Not Duplicate",
          "Not Duplicate",
          "Not Duplicate",
          "Not Duplicate",
          "Not Duplicate",
          "Not Duplicate",
          "Not Duplicate",
          "Not Duplicate",
          "Not Duplicate",
          "Not Duplicate",
          "Not Duplicate",
          "Not Duplicate",
          "Not Duplicate",
          "Not Duplicate",
          "Not Duplicate",
          "Not Duplicate",
          "Not Duplicate",
          "Not Duplicate",
          "Not Duplicate",
          "Not Duplicate",
          "Not Duplicate",
          "Not Duplicate",
          "Not Duplicate",
          "Not Duplicate",
          "Not Duplicate",
          "Not Duplicate",
          "Not Duplicate",
          "Not Duplicate",
          "Not Duplicate",
          "Not Duplicate",
          "Not Duplicate",
          "Not Duplicate",
          "Not Duplicate",
          "Not Duplicate",
          "Not Duplicate",
          "Not Duplicate",
          "Not Duplicate",
          "Not Duplicate",
          "Not Duplicate",
          "Not Duplicate",
          "Not Duplicate",
          "Not Duplicate",
          "Not Duplicate",
          "Not Duplicate",
          "Not Duplicate",
          "Not Duplicate",
          "Not Duplicate",
          "Not Duplicate",
          "Not Duplicate",
          "Not Duplicate",
          "Not Duplicate",
          "Not Duplicate",
          "Not Duplicate",
          "Not Duplicate",
          "Not Duplicate",
          "Not Duplicate",
          "Not Duplicate",
          "Not Duplicate",
          "Not Duplicate",
          "Not Duplicate",
          "Not Duplicate",
          "Not Duplicate",
          "Not Duplicate",
          "Not Duplicate",
          "Not Duplicate",
          "Not Duplicate",
          "Not Duplicate",
          "Not Duplicate",
          "Not Duplicate",
          "Not Duplicate",
          "Not Duplicate",
          "Not Duplicate",
          "Not Duplicate",
          "Not Duplicate",
          "Not Duplicate",
          "Not Duplicate",
          "Not Duplicate",
          "Not Duplicate",
          "Not Duplicate",
          "Not Duplicate",
          "Not Duplicate",
          "Not Duplicate",
          "Not Duplicate",
          "Not Duplicate",
          "Not Duplicate",
          "Not Duplicate",
          "Not Duplicate",
          "Not Duplicate",
          "Not Duplicate",
          "Not Duplicate",
          "Not Duplicate",
          "Not Duplicate",
          "Not Duplicate",
          "Not Duplicate",
          "Not Duplicate",
          "Not Duplicate",
          "Not Duplicate",
          "Not Duplicate",
          "Not Duplicate",
          "Not Duplicate",
          "Not Duplicate",
          "Not Duplicate",
          "Not Duplicate",
          "Not Duplicate",
          "Not Duplicate",
          "Not Duplicate",
          "Not Duplicate",
          "Not Duplicate",
          "Not Duplicate",
          "Not Duplicate",
          "Not Duplicate",
          "Not Duplicate",
          "Not Duplicate",
          "Not Duplicate",
          "Not Duplicate",
          "Not Duplicate",
          "Not Duplicate",
          "Not Duplicate",
          "Not Duplicate",
          "Not Duplicate",
          "Not Duplicate",
          "Not Duplicate",
          "Not Duplicate",
          "Not Duplicate",
          "Not Duplicate",
          "Not Duplicate",
          "Not Duplicate",
          "Not Duplicate",
          "Not Duplicate",
          "Not Duplicate",
          "Not Duplicate",
          "Not Duplicate",
          "Not Duplicate",
          "Not Duplicate",
          "Not Duplicate",
          "Not Duplicate",
          "Not Duplicate",
          "Not Duplicate",
          "Not Duplicate",
          "Not Duplicate",
          "Not Duplicate",
          "Not Duplicate",
          "Not Duplicate",
          "Not Duplicate",
          "Not Duplicate",
          "Not Duplicate",
          "Not Duplicate",
          "Not Duplicate",
          "Not Duplicate",
          "Not Duplicate",
          "Not Duplicate",
          "Not Duplicate",
          "Not Duplicate",
          "Not Duplicate",
          "Not Duplicate",
          "Not Duplicate",
          "Not Duplicate",
          "Not Duplicate",
          "Not Duplicate",
          "Not Duplicate",
          "Not Duplicate",
          "Not Duplicate",
          "Not Duplicate",
          "Not Duplicate",
          "Not Duplicate",
          "Not Duplicate",
          "Not Duplicate",
          "Not Duplicate",
          "Not Duplicate",
          "Not Duplicate",
          "Not Duplicate",
          "Not Duplicate",
          "Not Duplicate",
          "Not Duplicate",
          "Not Duplicate",
          "Not Duplicate",
          "Not Duplicate",
          "Not Duplicate",
          "Not Duplicate",
          "Not Duplicate",
          "Not Duplicate",
          "Not Duplicate",
          "Not Duplicate",
          "Not Duplicate",
          "Not Duplicate",
          "Not Duplicate",
          "Not Duplicate",
          "Not Duplicate",
          "Not Duplicate",
          "Not Duplicate",
          "Not Duplicate"
         ],
         "legendgroup": "",
         "name": "",
         "showlegend": true,
         "textinfo": "percent+label",
         "type": "pie",
         "values": [
          8,
          7,
          7,
          6,
          6,
          5,
          5,
          4,
          4,
          4,
          4,
          4,
          4,
          4,
          3,
          3,
          3,
          3,
          3,
          3,
          3,
          3,
          3,
          3,
          3,
          3,
          3,
          2,
          2,
          2,
          2,
          2,
          2,
          2,
          2,
          2,
          2,
          2,
          2,
          2,
          2,
          2,
          2,
          2,
          2,
          2,
          2,
          2,
          2,
          2,
          2,
          2,
          2,
          2,
          2,
          2,
          2,
          2,
          2,
          2,
          2,
          2,
          2,
          2,
          2,
          2,
          2,
          2,
          2,
          2,
          2,
          2,
          2,
          2,
          2,
          2,
          2,
          2,
          2,
          2,
          2,
          2,
          2,
          2,
          2,
          2,
          2,
          2,
          2,
          2,
          2,
          2,
          2,
          1,
          1,
          1,
          1,
          1,
          1,
          1,
          1,
          1,
          1,
          1,
          1,
          1,
          1,
          1,
          1,
          1,
          1,
          1,
          1,
          1,
          1,
          1,
          1,
          1,
          1,
          1,
          1,
          1,
          1,
          1,
          1,
          1,
          1,
          1,
          1,
          1,
          1,
          1,
          1,
          1,
          1,
          1,
          1,
          1,
          1,
          1,
          1,
          1,
          1,
          1,
          1,
          1,
          1,
          1,
          1,
          1,
          1,
          1,
          1,
          1,
          1,
          1,
          1,
          1,
          1,
          1,
          1,
          1,
          1,
          1,
          1,
          1,
          1,
          1,
          1,
          1,
          1,
          1,
          1,
          1,
          1,
          1,
          1,
          1,
          1,
          1,
          1,
          1,
          1,
          1,
          1,
          1,
          1,
          1,
          1,
          1,
          1,
          1,
          1,
          1,
          1,
          1,
          1,
          1,
          1,
          1,
          1,
          1,
          1,
          1,
          1,
          1,
          1,
          1,
          1,
          1,
          1,
          1,
          1,
          1,
          1,
          1,
          1,
          1,
          1,
          1,
          1,
          1,
          1,
          1,
          1,
          1,
          1,
          1,
          1,
          1,
          1,
          1,
          1,
          1,
          1,
          1,
          1,
          1,
          1,
          1,
          1,
          1,
          1,
          1,
          1,
          1,
          1,
          1,
          1,
          1,
          1,
          1,
          1,
          1,
          1,
          1,
          1,
          1,
          1,
          1,
          1,
          1,
          1,
          1,
          1,
          1,
          1,
          1,
          1,
          1,
          1,
          1,
          1,
          1,
          1,
          1,
          1,
          1,
          1,
          1,
          1,
          1,
          1,
          1,
          1,
          1,
          1,
          1,
          1,
          1,
          1,
          1,
          1,
          1,
          1,
          1,
          1,
          1,
          1,
          1,
          1,
          1,
          1,
          1,
          1,
          1,
          1,
          1,
          1,
          1,
          1,
          1,
          1,
          1,
          1,
          1,
          1,
          1,
          1,
          1,
          1,
          1,
          1,
          1,
          1,
          1,
          1,
          1,
          1,
          1,
          1,
          1,
          1,
          1,
          1,
          1,
          1,
          1,
          1,
          1,
          1,
          1,
          1,
          1,
          1,
          1,
          1,
          1,
          1,
          1,
          1,
          1,
          1,
          1,
          1,
          1,
          1,
          1,
          1,
          1,
          1,
          1,
          1,
          1,
          1,
          1,
          1,
          1,
          1,
          1,
          1,
          1,
          1,
          1,
          1,
          1,
          1,
          1,
          1,
          1,
          1,
          1,
          1,
          1,
          1,
          1,
          1,
          1,
          1,
          1,
          1,
          1,
          1,
          1,
          1,
          1,
          1,
          1,
          1,
          1,
          1,
          1,
          1,
          1,
          1,
          1,
          1,
          1,
          1,
          1,
          1,
          1,
          1,
          1,
          1,
          1,
          1,
          1,
          1,
          1,
          1,
          1,
          1,
          1,
          1,
          1,
          1,
          1,
          1,
          1,
          1,
          1,
          1,
          1,
          1,
          1,
          1,
          1,
          1,
          1,
          1,
          1,
          1,
          1,
          1,
          1,
          1,
          1,
          1,
          1,
          1,
          1,
          1,
          1,
          1,
          1,
          1,
          1,
          1,
          1,
          1,
          1,
          1,
          1,
          1,
          1,
          1,
          1,
          1,
          1,
          1,
          1,
          1,
          1,
          1,
          1,
          1,
          1,
          1,
          1,
          1,
          1,
          1,
          1,
          1,
          1,
          1,
          1,
          1,
          1,
          1,
          1,
          1,
          1,
          1,
          1,
          1,
          1,
          1,
          1,
          1,
          1,
          1,
          1,
          1,
          1,
          1,
          1,
          1,
          1,
          1,
          1,
          1,
          1,
          1,
          1,
          1,
          1,
          1,
          1,
          1,
          1,
          1,
          1,
          1,
          1,
          1,
          1,
          1,
          1,
          1,
          1,
          1,
          1,
          1,
          1,
          1,
          1,
          1,
          1,
          1,
          1,
          1,
          1,
          1,
          1,
          1,
          1,
          1,
          1,
          1,
          1,
          1,
          1,
          1,
          1,
          1,
          1,
          1,
          1,
          1,
          1,
          1,
          1,
          1,
          1,
          1,
          1,
          1,
          1,
          1,
          1,
          1,
          1,
          1,
          1,
          1,
          1,
          1,
          1,
          1,
          1,
          1,
          1,
          1,
          1,
          1,
          1,
          1,
          1,
          1,
          1,
          1,
          1,
          1,
          1,
          1,
          1,
          1,
          1,
          1,
          1,
          1,
          1,
          1,
          1,
          1,
          1,
          1,
          1,
          1,
          1,
          1,
          1,
          1,
          1,
          1,
          1,
          1,
          1,
          1,
          1,
          1,
          1,
          1,
          1,
          1,
          1,
          1,
          1,
          1,
          1,
          1,
          1,
          1,
          1,
          1,
          1,
          1,
          1,
          1,
          1,
          1,
          1,
          1,
          1,
          1,
          1,
          1,
          1,
          1,
          1,
          1,
          1,
          1,
          1,
          1,
          1,
          1,
          1,
          1,
          1,
          1,
          1,
          1,
          1,
          1,
          1,
          1,
          1,
          1,
          1,
          1,
          1,
          1,
          1,
          1,
          1,
          1,
          1,
          1,
          1,
          1,
          1,
          1,
          1,
          1,
          1,
          1,
          1,
          1,
          1,
          1,
          1,
          1,
          1,
          1,
          1,
          1,
          1,
          1,
          1,
          1,
          1,
          1,
          1,
          1,
          1,
          1,
          1,
          1,
          1,
          1,
          1,
          1,
          1,
          1,
          1,
          1,
          1,
          1,
          1,
          1,
          1,
          1,
          1,
          1,
          1,
          1,
          1,
          1,
          1,
          1,
          1,
          1,
          1,
          1,
          1,
          1,
          1,
          1,
          1,
          1,
          1,
          1,
          1,
          1,
          1,
          1,
          1,
          1,
          1,
          1,
          1,
          1,
          1,
          1,
          1,
          1,
          1,
          1,
          1,
          1,
          1,
          1,
          1,
          1,
          1,
          1,
          1,
          1,
          1,
          1,
          1,
          1,
          1,
          1,
          1,
          1,
          1,
          1,
          1,
          1,
          1,
          1,
          1,
          1,
          1,
          1,
          1,
          1,
          1,
          1,
          1,
          1,
          1,
          1,
          1,
          1,
          1,
          1,
          1,
          1,
          1,
          1,
          1,
          1,
          1,
          1,
          1,
          1,
          1,
          1,
          1,
          1,
          1,
          1,
          1,
          1,
          1,
          1,
          1,
          1,
          1,
          1,
          1,
          1,
          1,
          1,
          1,
          1,
          1,
          1,
          1,
          1,
          1,
          1,
          1,
          1,
          1,
          1,
          1,
          1,
          1,
          1,
          1,
          1,
          1,
          1,
          1,
          1,
          1,
          1,
          1,
          1,
          1,
          1,
          1,
          1,
          1,
          1,
          1,
          1,
          1,
          1,
          1,
          1,
          1,
          1,
          1,
          1,
          1,
          1,
          1,
          1,
          1,
          1,
          1,
          1,
          1,
          1,
          1,
          1,
          1,
          1,
          1,
          1,
          1,
          1,
          1,
          1,
          1,
          1,
          1,
          1,
          1,
          1,
          1,
          1,
          1,
          1,
          1,
          1,
          1,
          1,
          1,
          1,
          1,
          1,
          1,
          1,
          1,
          1,
          1,
          1,
          1,
          1,
          1,
          1,
          1,
          1,
          1,
          1,
          1,
          1,
          1,
          1,
          1,
          1,
          1,
          1,
          1,
          1,
          1,
          1,
          1,
          1,
          1,
          1,
          1,
          1,
          1,
          1,
          1,
          1,
          1,
          1,
          1,
          1,
          1,
          1,
          1,
          1,
          1,
          1,
          1,
          1,
          1,
          1,
          1,
          1,
          1,
          1,
          1,
          1,
          1,
          1,
          1,
          1,
          1,
          1,
          1,
          1,
          1,
          1,
          1,
          1,
          1,
          1,
          1,
          1,
          1,
          1,
          1,
          1,
          1,
          1,
          1,
          1,
          1,
          1,
          1,
          1
         ]
        }
       ],
       "layout": {
        "legend": {
         "tracegroupgap": 0
        },
        "template": {
         "data": {
          "bar": [
           {
            "error_x": {
             "color": "#2a3f5f"
            },
            "error_y": {
             "color": "#2a3f5f"
            },
            "marker": {
             "line": {
              "color": "#E5ECF6",
              "width": 0.5
             },
             "pattern": {
              "fillmode": "overlay",
              "size": 10,
              "solidity": 0.2
             }
            },
            "type": "bar"
           }
          ],
          "barpolar": [
           {
            "marker": {
             "line": {
              "color": "#E5ECF6",
              "width": 0.5
             },
             "pattern": {
              "fillmode": "overlay",
              "size": 10,
              "solidity": 0.2
             }
            },
            "type": "barpolar"
           }
          ],
          "carpet": [
           {
            "aaxis": {
             "endlinecolor": "#2a3f5f",
             "gridcolor": "white",
             "linecolor": "white",
             "minorgridcolor": "white",
             "startlinecolor": "#2a3f5f"
            },
            "baxis": {
             "endlinecolor": "#2a3f5f",
             "gridcolor": "white",
             "linecolor": "white",
             "minorgridcolor": "white",
             "startlinecolor": "#2a3f5f"
            },
            "type": "carpet"
           }
          ],
          "choropleth": [
           {
            "colorbar": {
             "outlinewidth": 0,
             "ticks": ""
            },
            "type": "choropleth"
           }
          ],
          "contour": [
           {
            "colorbar": {
             "outlinewidth": 0,
             "ticks": ""
            },
            "colorscale": [
             [
              0,
              "#0d0887"
             ],
             [
              0.1111111111111111,
              "#46039f"
             ],
             [
              0.2222222222222222,
              "#7201a8"
             ],
             [
              0.3333333333333333,
              "#9c179e"
             ],
             [
              0.4444444444444444,
              "#bd3786"
             ],
             [
              0.5555555555555556,
              "#d8576b"
             ],
             [
              0.6666666666666666,
              "#ed7953"
             ],
             [
              0.7777777777777778,
              "#fb9f3a"
             ],
             [
              0.8888888888888888,
              "#fdca26"
             ],
             [
              1,
              "#f0f921"
             ]
            ],
            "type": "contour"
           }
          ],
          "contourcarpet": [
           {
            "colorbar": {
             "outlinewidth": 0,
             "ticks": ""
            },
            "type": "contourcarpet"
           }
          ],
          "heatmap": [
           {
            "colorbar": {
             "outlinewidth": 0,
             "ticks": ""
            },
            "colorscale": [
             [
              0,
              "#0d0887"
             ],
             [
              0.1111111111111111,
              "#46039f"
             ],
             [
              0.2222222222222222,
              "#7201a8"
             ],
             [
              0.3333333333333333,
              "#9c179e"
             ],
             [
              0.4444444444444444,
              "#bd3786"
             ],
             [
              0.5555555555555556,
              "#d8576b"
             ],
             [
              0.6666666666666666,
              "#ed7953"
             ],
             [
              0.7777777777777778,
              "#fb9f3a"
             ],
             [
              0.8888888888888888,
              "#fdca26"
             ],
             [
              1,
              "#f0f921"
             ]
            ],
            "type": "heatmap"
           }
          ],
          "heatmapgl": [
           {
            "colorbar": {
             "outlinewidth": 0,
             "ticks": ""
            },
            "colorscale": [
             [
              0,
              "#0d0887"
             ],
             [
              0.1111111111111111,
              "#46039f"
             ],
             [
              0.2222222222222222,
              "#7201a8"
             ],
             [
              0.3333333333333333,
              "#9c179e"
             ],
             [
              0.4444444444444444,
              "#bd3786"
             ],
             [
              0.5555555555555556,
              "#d8576b"
             ],
             [
              0.6666666666666666,
              "#ed7953"
             ],
             [
              0.7777777777777778,
              "#fb9f3a"
             ],
             [
              0.8888888888888888,
              "#fdca26"
             ],
             [
              1,
              "#f0f921"
             ]
            ],
            "type": "heatmapgl"
           }
          ],
          "histogram": [
           {
            "marker": {
             "pattern": {
              "fillmode": "overlay",
              "size": 10,
              "solidity": 0.2
             }
            },
            "type": "histogram"
           }
          ],
          "histogram2d": [
           {
            "colorbar": {
             "outlinewidth": 0,
             "ticks": ""
            },
            "colorscale": [
             [
              0,
              "#0d0887"
             ],
             [
              0.1111111111111111,
              "#46039f"
             ],
             [
              0.2222222222222222,
              "#7201a8"
             ],
             [
              0.3333333333333333,
              "#9c179e"
             ],
             [
              0.4444444444444444,
              "#bd3786"
             ],
             [
              0.5555555555555556,
              "#d8576b"
             ],
             [
              0.6666666666666666,
              "#ed7953"
             ],
             [
              0.7777777777777778,
              "#fb9f3a"
             ],
             [
              0.8888888888888888,
              "#fdca26"
             ],
             [
              1,
              "#f0f921"
             ]
            ],
            "type": "histogram2d"
           }
          ],
          "histogram2dcontour": [
           {
            "colorbar": {
             "outlinewidth": 0,
             "ticks": ""
            },
            "colorscale": [
             [
              0,
              "#0d0887"
             ],
             [
              0.1111111111111111,
              "#46039f"
             ],
             [
              0.2222222222222222,
              "#7201a8"
             ],
             [
              0.3333333333333333,
              "#9c179e"
             ],
             [
              0.4444444444444444,
              "#bd3786"
             ],
             [
              0.5555555555555556,
              "#d8576b"
             ],
             [
              0.6666666666666666,
              "#ed7953"
             ],
             [
              0.7777777777777778,
              "#fb9f3a"
             ],
             [
              0.8888888888888888,
              "#fdca26"
             ],
             [
              1,
              "#f0f921"
             ]
            ],
            "type": "histogram2dcontour"
           }
          ],
          "mesh3d": [
           {
            "colorbar": {
             "outlinewidth": 0,
             "ticks": ""
            },
            "type": "mesh3d"
           }
          ],
          "parcoords": [
           {
            "line": {
             "colorbar": {
              "outlinewidth": 0,
              "ticks": ""
             }
            },
            "type": "parcoords"
           }
          ],
          "pie": [
           {
            "automargin": true,
            "type": "pie"
           }
          ],
          "scatter": [
           {
            "fillpattern": {
             "fillmode": "overlay",
             "size": 10,
             "solidity": 0.2
            },
            "type": "scatter"
           }
          ],
          "scatter3d": [
           {
            "line": {
             "colorbar": {
              "outlinewidth": 0,
              "ticks": ""
             }
            },
            "marker": {
             "colorbar": {
              "outlinewidth": 0,
              "ticks": ""
             }
            },
            "type": "scatter3d"
           }
          ],
          "scattercarpet": [
           {
            "marker": {
             "colorbar": {
              "outlinewidth": 0,
              "ticks": ""
             }
            },
            "type": "scattercarpet"
           }
          ],
          "scattergeo": [
           {
            "marker": {
             "colorbar": {
              "outlinewidth": 0,
              "ticks": ""
             }
            },
            "type": "scattergeo"
           }
          ],
          "scattergl": [
           {
            "marker": {
             "colorbar": {
              "outlinewidth": 0,
              "ticks": ""
             }
            },
            "type": "scattergl"
           }
          ],
          "scattermapbox": [
           {
            "marker": {
             "colorbar": {
              "outlinewidth": 0,
              "ticks": ""
             }
            },
            "type": "scattermapbox"
           }
          ],
          "scatterpolar": [
           {
            "marker": {
             "colorbar": {
              "outlinewidth": 0,
              "ticks": ""
             }
            },
            "type": "scatterpolar"
           }
          ],
          "scatterpolargl": [
           {
            "marker": {
             "colorbar": {
              "outlinewidth": 0,
              "ticks": ""
             }
            },
            "type": "scatterpolargl"
           }
          ],
          "scatterternary": [
           {
            "marker": {
             "colorbar": {
              "outlinewidth": 0,
              "ticks": ""
             }
            },
            "type": "scatterternary"
           }
          ],
          "surface": [
           {
            "colorbar": {
             "outlinewidth": 0,
             "ticks": ""
            },
            "colorscale": [
             [
              0,
              "#0d0887"
             ],
             [
              0.1111111111111111,
              "#46039f"
             ],
             [
              0.2222222222222222,
              "#7201a8"
             ],
             [
              0.3333333333333333,
              "#9c179e"
             ],
             [
              0.4444444444444444,
              "#bd3786"
             ],
             [
              0.5555555555555556,
              "#d8576b"
             ],
             [
              0.6666666666666666,
              "#ed7953"
             ],
             [
              0.7777777777777778,
              "#fb9f3a"
             ],
             [
              0.8888888888888888,
              "#fdca26"
             ],
             [
              1,
              "#f0f921"
             ]
            ],
            "type": "surface"
           }
          ],
          "table": [
           {
            "cells": {
             "fill": {
              "color": "#EBF0F8"
             },
             "line": {
              "color": "white"
             }
            },
            "header": {
             "fill": {
              "color": "#C8D4E3"
             },
             "line": {
              "color": "white"
             }
            },
            "type": "table"
           }
          ]
         },
         "layout": {
          "annotationdefaults": {
           "arrowcolor": "#2a3f5f",
           "arrowhead": 0,
           "arrowwidth": 1
          },
          "autotypenumbers": "strict",
          "coloraxis": {
           "colorbar": {
            "outlinewidth": 0,
            "ticks": ""
           }
          },
          "colorscale": {
           "diverging": [
            [
             0,
             "#8e0152"
            ],
            [
             0.1,
             "#c51b7d"
            ],
            [
             0.2,
             "#de77ae"
            ],
            [
             0.3,
             "#f1b6da"
            ],
            [
             0.4,
             "#fde0ef"
            ],
            [
             0.5,
             "#f7f7f7"
            ],
            [
             0.6,
             "#e6f5d0"
            ],
            [
             0.7,
             "#b8e186"
            ],
            [
             0.8,
             "#7fbc41"
            ],
            [
             0.9,
             "#4d9221"
            ],
            [
             1,
             "#276419"
            ]
           ],
           "sequential": [
            [
             0,
             "#0d0887"
            ],
            [
             0.1111111111111111,
             "#46039f"
            ],
            [
             0.2222222222222222,
             "#7201a8"
            ],
            [
             0.3333333333333333,
             "#9c179e"
            ],
            [
             0.4444444444444444,
             "#bd3786"
            ],
            [
             0.5555555555555556,
             "#d8576b"
            ],
            [
             0.6666666666666666,
             "#ed7953"
            ],
            [
             0.7777777777777778,
             "#fb9f3a"
            ],
            [
             0.8888888888888888,
             "#fdca26"
            ],
            [
             1,
             "#f0f921"
            ]
           ],
           "sequentialminus": [
            [
             0,
             "#0d0887"
            ],
            [
             0.1111111111111111,
             "#46039f"
            ],
            [
             0.2222222222222222,
             "#7201a8"
            ],
            [
             0.3333333333333333,
             "#9c179e"
            ],
            [
             0.4444444444444444,
             "#bd3786"
            ],
            [
             0.5555555555555556,
             "#d8576b"
            ],
            [
             0.6666666666666666,
             "#ed7953"
            ],
            [
             0.7777777777777778,
             "#fb9f3a"
            ],
            [
             0.8888888888888888,
             "#fdca26"
            ],
            [
             1,
             "#f0f921"
            ]
           ]
          },
          "colorway": [
           "#636efa",
           "#EF553B",
           "#00cc96",
           "#ab63fa",
           "#FFA15A",
           "#19d3f3",
           "#FF6692",
           "#B6E880",
           "#FF97FF",
           "#FECB52"
          ],
          "font": {
           "color": "#2a3f5f"
          },
          "geo": {
           "bgcolor": "white",
           "lakecolor": "white",
           "landcolor": "#E5ECF6",
           "showlakes": true,
           "showland": true,
           "subunitcolor": "white"
          },
          "hoverlabel": {
           "align": "left"
          },
          "hovermode": "closest",
          "mapbox": {
           "style": "light"
          },
          "paper_bgcolor": "white",
          "plot_bgcolor": "#E5ECF6",
          "polar": {
           "angularaxis": {
            "gridcolor": "white",
            "linecolor": "white",
            "ticks": ""
           },
           "bgcolor": "#E5ECF6",
           "radialaxis": {
            "gridcolor": "white",
            "linecolor": "white",
            "ticks": ""
           }
          },
          "scene": {
           "xaxis": {
            "backgroundcolor": "#E5ECF6",
            "gridcolor": "white",
            "gridwidth": 2,
            "linecolor": "white",
            "showbackground": true,
            "ticks": "",
            "zerolinecolor": "white"
           },
           "yaxis": {
            "backgroundcolor": "#E5ECF6",
            "gridcolor": "white",
            "gridwidth": 2,
            "linecolor": "white",
            "showbackground": true,
            "ticks": "",
            "zerolinecolor": "white"
           },
           "zaxis": {
            "backgroundcolor": "#E5ECF6",
            "gridcolor": "white",
            "gridwidth": 2,
            "linecolor": "white",
            "showbackground": true,
            "ticks": "",
            "zerolinecolor": "white"
           }
          },
          "shapedefaults": {
           "line": {
            "color": "#2a3f5f"
           }
          },
          "ternary": {
           "aaxis": {
            "gridcolor": "white",
            "linecolor": "white",
            "ticks": ""
           },
           "baxis": {
            "gridcolor": "white",
            "linecolor": "white",
            "ticks": ""
           },
           "bgcolor": "#E5ECF6",
           "caxis": {
            "gridcolor": "white",
            "linecolor": "white",
            "ticks": ""
           }
          },
          "title": {
           "x": 0.05
          },
          "xaxis": {
           "automargin": true,
           "gridcolor": "white",
           "linecolor": "white",
           "ticks": "",
           "title": {
            "standoff": 15
           },
           "zerolinecolor": "white",
           "zerolinewidth": 2
          },
          "yaxis": {
           "automargin": true,
           "gridcolor": "white",
           "linecolor": "white",
           "ticks": "",
           "title": {
            "standoff": 15
           },
           "zerolinecolor": "white",
           "zerolinewidth": 2
          }
         }
        },
        "title": {
         "text": "% of Identical Evidence Statements in MetaKB v2"
        }
       }
      }
     },
     "metadata": {},
     "output_type": "display_data"
    }
   ],
   "source": [
    "fig = px.pie(data, values='counts', names='is_duplicate', title='% of Identical Evidence Statements in MetaKB v2')\n",
    "fig.update_traces(textinfo='percent+label')\n",
    "fig.show()\n",
    "pio.write_image(fig, \"Duplicate_statements_metakbv2_pie.png\", format='png', width=800, height=800, scale=5)"
   ]
  },
  {
   "cell_type": "code",
   "execution_count": 80,
   "metadata": {},
   "outputs": [],
   "source": [
    "# TODO: Loop in evidence level, coding table (HAS_STRENGTH) ---> https://docs.google.com/spreadsheets/d/1FpUmoXmDLVXsNgqog6A9q6o0jIOi_760j02rxIQGFMo/edit?gid=0#gid=0\n",
    "# Check to see if regulatory approval exists in the extensions, does it have specific indications? If the disease occurs outside the indication, it gets lowered to a different level. "
   ]
  },
  {
   "cell_type": "markdown",
   "metadata": {},
   "source": [
    "## Individual Components\n",
    "Exhibit overlap in concepts at individual and pairwise component levels. This is important to demonstrate potential overlap and utility for planned aggregation features on the HTML interface and to demonstrate uniqueness of concepts obtained from definitive sources."
   ]
  },
  {
   "cell_type": "code",
   "execution_count": 330,
   "metadata": {},
   "outputs": [],
   "source": [
    "def check_civic(record, column, df):\n",
    "    tdf = df[df[column]==record]\n",
    "    return (any('civic.eid' in s for s in list(tdf['id'])))\n",
    "\n",
    "def check_moa(record, column, df):\n",
    "    tdf = df[df[column]==record]\n",
    "    return (any('moa.assertion' in s for s in list(tdf['id'])))\n",
    "\n",
    "def calculate_total_kbs(df):\n",
    "    df['total_kbs'] = None\n",
    "    for idx, row in df.iterrows():\n",
    "        counter = 0\n",
    "        if row['in_civic?']:\n",
    "            counter += 1\n",
    "        if row['in_moa?']:\n",
    "            counter += 1\n",
    "        df.at[idx, 'total_kbs'] = counter\n",
    "    return(df)"
   ]
  },
  {
   "cell_type": "markdown",
   "metadata": {},
   "source": [
    "#### Variants"
   ]
  },
  {
   "cell_type": "code",
   "execution_count": null,
   "metadata": {},
   "outputs": [
    {
     "data": {
      "text/plain": [
       "subject\n",
       "ga4gh:VA.j4XnsLZcdzDIYa5pvvXM7t1wn9OITr0L    120\n",
       "ga4gh:VA.S41CcMJT2bcd8R4-qXZWH1PoHWNtG2PZ     49\n",
       "ga4gh:VA.sMA9h8fzDi0RvweMlxtD0_Oi8B-JZ1V-     41\n",
       "ga4gh:VA.5GEqm-zIzvvPheyGb9rlu5DyIueIubXm     25\n",
       "ga4gh:VA.cdcXITbBWUXPjy3zPdhs7xjU1yvlkSrj     21\n",
       "                                            ... \n",
       "ga4gh:VA.zElnUUWNdxH5elaDdhFo8dYA6dVjCZNs      2\n",
       "ga4gh:VA.lSZe19pmSXAaE602TVOL2sZZKGxemTKw      2\n",
       "ga4gh:VA.iCbjI9KjbK2qqD4_iZdEOJKe0WC97hdm      2\n",
       "ga4gh:VA.EstQP5mWZWkmgYMkqEJMSnbZ12K88Y3v      2\n",
       "ga4gh:VA.SnJZPfiwIGwkyiAx-XnLElqheOPwlMA0      2\n",
       "Name: count, Length: 166, dtype: int64"
      ]
     },
     "execution_count": 104,
     "metadata": {},
     "output_type": "execute_result"
    }
   ],
   "source": [
    "df['subject'].value_counts()[0:166] # Dups"
   ]
  },
  {
   "cell_type": "code",
   "execution_count": 140,
   "metadata": {},
   "outputs": [
    {
     "data": {
      "text/html": [
       "<div>\n",
       "<style scoped>\n",
       "    .dataframe tbody tr th:only-of-type {\n",
       "        vertical-align: middle;\n",
       "    }\n",
       "\n",
       "    .dataframe tbody tr th {\n",
       "        vertical-align: top;\n",
       "    }\n",
       "\n",
       "    .dataframe thead th {\n",
       "        text-align: right;\n",
       "    }\n",
       "</style>\n",
       "<table border=\"1\" class=\"dataframe\">\n",
       "  <thead>\n",
       "    <tr style=\"text-align: right;\">\n",
       "      <th></th>\n",
       "      <th>Variant</th>\n",
       "      <th>counts</th>\n",
       "    </tr>\n",
       "  </thead>\n",
       "  <tbody>\n",
       "    <tr>\n",
       "      <th>0</th>\n",
       "      <td>ga4gh:VA.j4XnsLZcdzDIYa5pvvXM7t1wn9OITr0L</td>\n",
       "      <td>120</td>\n",
       "    </tr>\n",
       "    <tr>\n",
       "      <th>1</th>\n",
       "      <td>ga4gh:VA.S41CcMJT2bcd8R4-qXZWH1PoHWNtG2PZ</td>\n",
       "      <td>49</td>\n",
       "    </tr>\n",
       "    <tr>\n",
       "      <th>2</th>\n",
       "      <td>ga4gh:VA.sMA9h8fzDi0RvweMlxtD0_Oi8B-JZ1V-</td>\n",
       "      <td>41</td>\n",
       "    </tr>\n",
       "    <tr>\n",
       "      <th>3</th>\n",
       "      <td>ga4gh:VA.5GEqm-zIzvvPheyGb9rlu5DyIueIubXm</td>\n",
       "      <td>25</td>\n",
       "    </tr>\n",
       "    <tr>\n",
       "      <th>4</th>\n",
       "      <td>ga4gh:VA.cdcXITbBWUXPjy3zPdhs7xjU1yvlkSrj</td>\n",
       "      <td>21</td>\n",
       "    </tr>\n",
       "    <tr>\n",
       "      <th>...</th>\n",
       "      <td>...</td>\n",
       "      <td>...</td>\n",
       "    </tr>\n",
       "    <tr>\n",
       "      <th>161</th>\n",
       "      <td>ga4gh:VA.zElnUUWNdxH5elaDdhFo8dYA6dVjCZNs</td>\n",
       "      <td>2</td>\n",
       "    </tr>\n",
       "    <tr>\n",
       "      <th>162</th>\n",
       "      <td>ga4gh:VA.lSZe19pmSXAaE602TVOL2sZZKGxemTKw</td>\n",
       "      <td>2</td>\n",
       "    </tr>\n",
       "    <tr>\n",
       "      <th>163</th>\n",
       "      <td>ga4gh:VA.iCbjI9KjbK2qqD4_iZdEOJKe0WC97hdm</td>\n",
       "      <td>2</td>\n",
       "    </tr>\n",
       "    <tr>\n",
       "      <th>164</th>\n",
       "      <td>ga4gh:VA.EstQP5mWZWkmgYMkqEJMSnbZ12K88Y3v</td>\n",
       "      <td>2</td>\n",
       "    </tr>\n",
       "    <tr>\n",
       "      <th>165</th>\n",
       "      <td>ga4gh:VA.SnJZPfiwIGwkyiAx-XnLElqheOPwlMA0</td>\n",
       "      <td>2</td>\n",
       "    </tr>\n",
       "  </tbody>\n",
       "</table>\n",
       "<p>166 rows × 2 columns</p>\n",
       "</div>"
      ],
      "text/plain": [
       "                                       Variant  counts\n",
       "0    ga4gh:VA.j4XnsLZcdzDIYa5pvvXM7t1wn9OITr0L     120\n",
       "1    ga4gh:VA.S41CcMJT2bcd8R4-qXZWH1PoHWNtG2PZ      49\n",
       "2    ga4gh:VA.sMA9h8fzDi0RvweMlxtD0_Oi8B-JZ1V-      41\n",
       "3    ga4gh:VA.5GEqm-zIzvvPheyGb9rlu5DyIueIubXm      25\n",
       "4    ga4gh:VA.cdcXITbBWUXPjy3zPdhs7xjU1yvlkSrj      21\n",
       "..                                         ...     ...\n",
       "161  ga4gh:VA.zElnUUWNdxH5elaDdhFo8dYA6dVjCZNs       2\n",
       "162  ga4gh:VA.lSZe19pmSXAaE602TVOL2sZZKGxemTKw       2\n",
       "163  ga4gh:VA.iCbjI9KjbK2qqD4_iZdEOJKe0WC97hdm       2\n",
       "164  ga4gh:VA.EstQP5mWZWkmgYMkqEJMSnbZ12K88Y3v       2\n",
       "165  ga4gh:VA.SnJZPfiwIGwkyiAx-XnLElqheOPwlMA0       2\n",
       "\n",
       "[166 rows x 2 columns]"
      ]
     },
     "execution_count": 140,
     "metadata": {},
     "output_type": "execute_result"
    }
   ],
   "source": [
    "tdf = df['subject'].value_counts().rename_axis('Variant').reset_index(name='counts')\n",
    "tdf[0:166]"
   ]
  },
  {
   "cell_type": "code",
   "execution_count": 142,
   "metadata": {},
   "outputs": [
    {
     "data": {
      "text/html": [
       "<div>\n",
       "<style scoped>\n",
       "    .dataframe tbody tr th:only-of-type {\n",
       "        vertical-align: middle;\n",
       "    }\n",
       "\n",
       "    .dataframe tbody tr th {\n",
       "        vertical-align: top;\n",
       "    }\n",
       "\n",
       "    .dataframe thead th {\n",
       "        text-align: right;\n",
       "    }\n",
       "</style>\n",
       "<table border=\"1\" class=\"dataframe\">\n",
       "  <thead>\n",
       "    <tr style=\"text-align: right;\">\n",
       "      <th></th>\n",
       "      <th>Variant</th>\n",
       "      <th>counts</th>\n",
       "      <th>is_duplicate</th>\n",
       "    </tr>\n",
       "  </thead>\n",
       "  <tbody>\n",
       "    <tr>\n",
       "      <th>0</th>\n",
       "      <td>ga4gh:VA.j4XnsLZcdzDIYa5pvvXM7t1wn9OITr0L</td>\n",
       "      <td>120</td>\n",
       "      <td>Duplicate</td>\n",
       "    </tr>\n",
       "    <tr>\n",
       "      <th>1</th>\n",
       "      <td>ga4gh:VA.S41CcMJT2bcd8R4-qXZWH1PoHWNtG2PZ</td>\n",
       "      <td>49</td>\n",
       "      <td>Duplicate</td>\n",
       "    </tr>\n",
       "    <tr>\n",
       "      <th>2</th>\n",
       "      <td>ga4gh:VA.sMA9h8fzDi0RvweMlxtD0_Oi8B-JZ1V-</td>\n",
       "      <td>41</td>\n",
       "      <td>Duplicate</td>\n",
       "    </tr>\n",
       "    <tr>\n",
       "      <th>3</th>\n",
       "      <td>ga4gh:VA.5GEqm-zIzvvPheyGb9rlu5DyIueIubXm</td>\n",
       "      <td>25</td>\n",
       "      <td>Duplicate</td>\n",
       "    </tr>\n",
       "    <tr>\n",
       "      <th>4</th>\n",
       "      <td>ga4gh:VA.cdcXITbBWUXPjy3zPdhs7xjU1yvlkSrj</td>\n",
       "      <td>21</td>\n",
       "      <td>Duplicate</td>\n",
       "    </tr>\n",
       "    <tr>\n",
       "      <th>...</th>\n",
       "      <td>...</td>\n",
       "      <td>...</td>\n",
       "      <td>...</td>\n",
       "    </tr>\n",
       "    <tr>\n",
       "      <th>161</th>\n",
       "      <td>ga4gh:VA.zElnUUWNdxH5elaDdhFo8dYA6dVjCZNs</td>\n",
       "      <td>2</td>\n",
       "      <td>Duplicate</td>\n",
       "    </tr>\n",
       "    <tr>\n",
       "      <th>162</th>\n",
       "      <td>ga4gh:VA.lSZe19pmSXAaE602TVOL2sZZKGxemTKw</td>\n",
       "      <td>2</td>\n",
       "      <td>Duplicate</td>\n",
       "    </tr>\n",
       "    <tr>\n",
       "      <th>163</th>\n",
       "      <td>ga4gh:VA.iCbjI9KjbK2qqD4_iZdEOJKe0WC97hdm</td>\n",
       "      <td>2</td>\n",
       "      <td>Duplicate</td>\n",
       "    </tr>\n",
       "    <tr>\n",
       "      <th>164</th>\n",
       "      <td>ga4gh:VA.EstQP5mWZWkmgYMkqEJMSnbZ12K88Y3v</td>\n",
       "      <td>2</td>\n",
       "      <td>Duplicate</td>\n",
       "    </tr>\n",
       "    <tr>\n",
       "      <th>165</th>\n",
       "      <td>ga4gh:VA.SnJZPfiwIGwkyiAx-XnLElqheOPwlMA0</td>\n",
       "      <td>2</td>\n",
       "      <td>Duplicate</td>\n",
       "    </tr>\n",
       "  </tbody>\n",
       "</table>\n",
       "<p>166 rows × 3 columns</p>\n",
       "</div>"
      ],
      "text/plain": [
       "                                       Variant  counts is_duplicate\n",
       "0    ga4gh:VA.j4XnsLZcdzDIYa5pvvXM7t1wn9OITr0L     120    Duplicate\n",
       "1    ga4gh:VA.S41CcMJT2bcd8R4-qXZWH1PoHWNtG2PZ      49    Duplicate\n",
       "2    ga4gh:VA.sMA9h8fzDi0RvweMlxtD0_Oi8B-JZ1V-      41    Duplicate\n",
       "3    ga4gh:VA.5GEqm-zIzvvPheyGb9rlu5DyIueIubXm      25    Duplicate\n",
       "4    ga4gh:VA.cdcXITbBWUXPjy3zPdhs7xjU1yvlkSrj      21    Duplicate\n",
       "..                                         ...     ...          ...\n",
       "161  ga4gh:VA.zElnUUWNdxH5elaDdhFo8dYA6dVjCZNs       2    Duplicate\n",
       "162  ga4gh:VA.lSZe19pmSXAaE602TVOL2sZZKGxemTKw       2    Duplicate\n",
       "163  ga4gh:VA.iCbjI9KjbK2qqD4_iZdEOJKe0WC97hdm       2    Duplicate\n",
       "164  ga4gh:VA.EstQP5mWZWkmgYMkqEJMSnbZ12K88Y3v       2    Duplicate\n",
       "165  ga4gh:VA.SnJZPfiwIGwkyiAx-XnLElqheOPwlMA0       2    Duplicate\n",
       "\n",
       "[166 rows x 3 columns]"
      ]
     },
     "execution_count": 142,
     "metadata": {},
     "output_type": "execute_result"
    }
   ],
   "source": [
    "tdf['is_duplicate'] = tdf['counts'].apply(duplicate_detect)\n",
    "tdf[0:166]"
   ]
  },
  {
   "cell_type": "code",
   "execution_count": null,
   "metadata": {},
   "outputs": [
    {
     "name": "stdout",
     "output_type": "stream",
     "text": [
      "ga4gh:VA.j4XnsLZcdzDIYa5pvvXM7t1wn9OITr0L\n",
      "ga4gh:VA.S41CcMJT2bcd8R4-qXZWH1PoHWNtG2PZ\n",
      "ga4gh:VA.sMA9h8fzDi0RvweMlxtD0_Oi8B-JZ1V-\n",
      "ga4gh:VA.5GEqm-zIzvvPheyGb9rlu5DyIueIubXm\n"
     ]
    }
   ],
   "source": [
    "for variation in tdf['Variant'][0:4]:\n",
    "    print(variation)\n",
    "    # V600E\n",
    "    # L858R\n",
    "    # T790M\n",
    "    # H1047R"
   ]
  },
  {
   "cell_type": "code",
   "execution_count": 146,
   "metadata": {},
   "outputs": [
    {
     "data": {
      "application/vnd.plotly.v1+json": {
       "config": {
        "plotlyServerURL": "https://plot.ly"
       },
       "data": [
        {
         "alignmentgroup": "True",
         "hovertemplate": "Variant=%{x}<br>counts=%{y}<extra></extra>",
         "legendgroup": "",
         "marker": {
          "color": "#636efa",
          "pattern": {
           "shape": ""
          }
         },
         "name": "",
         "offsetgroup": "",
         "orientation": "v",
         "showlegend": false,
         "textposition": "auto",
         "type": "bar",
         "x": [
          "ga4gh:VA.j4XnsLZcdzDIYa5pvvXM7t1wn9OITr0L",
          "ga4gh:VA.S41CcMJT2bcd8R4-qXZWH1PoHWNtG2PZ",
          "ga4gh:VA.sMA9h8fzDi0RvweMlxtD0_Oi8B-JZ1V-",
          "ga4gh:VA.5GEqm-zIzvvPheyGb9rlu5DyIueIubXm",
          "ga4gh:VA.cdcXITbBWUXPjy3zPdhs7xjU1yvlkSrj",
          "ga4gh:VA.-dMnJf9oUBfl9De0llc3LqJaGdFzfATK",
          "ga4gh:VA.udBCHwlrf8xNiRy_19bLi-h5LhnZLgCt",
          "ga4gh:VA.pfWn9x9oFBRzGda1xXcOrE-BrX0R__N8",
          "ga4gh:VA.ORvaSNcFK71WOVr_gi2vv6oPCcXgljab",
          "ga4gh:VA.lAST62ntkEaXy6RDDOF1V4C3jd-jaAJ5",
          "ga4gh:VA.AhXGahW4SCTEgBSXlABoqX7N4mWXL-MD",
          "ga4gh:VA.Dy7soaZQU1vH9Eb93xG_pJyhu7xTDDC9",
          "ga4gh:VA.ju5WwTji4SvLPzJqUB7EzSEF2DKtIusY",
          "ga4gh:VA.2VAvTmPON2L7JffxjE68jAmmmwxyzDpB",
          "ga4gh:VA.ZqmNu5AN2PRYFl0K9eBQ_bo2pJAGKSoa",
          "ga4gh:VA.6_uW58_HmIcOOQshfkvhuGjCSFL5H3fs",
          "ga4gh:VA.6EFlwRs4Pu_r5mcvJGoE3ro2cURUkrkV",
          "ga4gh:VA.WCo3uQpMnNSbBMy5pKdSccudXs8ooZw9",
          "ga4gh:VA.iU9MfaVkEFMIoh2qhnNMwLd7LN995DAn",
          "ga4gh:VA.DqV_8uo_pXQ_oDiBS0RjW01imBmUDEXp",
          "ga4gh:VA.D6NzpWXKqBnbcZZrXNSXj4tMUwROKbsQ",
          "ga4gh:VA.hl8sXt8vGcWF3EST2vU5SoHuWQ1AO_eO",
          "ga4gh:VA.nhiDwIq1klrGm3wtWO4a4BiS0jdW79Wd",
          "ga4gh:VA.hEybNB_CeKflfFhT5AKOU5i1lgZPP-aS",
          "ga4gh:VA.c-HAKOqVVkK3lsw2Ksy2EUdza_5KtKfo",
          "ga4gh:VA.e3X8c8KxGdRvkl8YWKRk1o-84nRdiE3u",
          "ga4gh:VA.GfY89Zy-DJcnWtthBcoVV6PyuE4qkP8F",
          "ga4gh:VA.RkoMSdIJCB856OZ4YxjZIjVnVYrXMDy9",
          "ga4gh:VA.w6K7bKlqZC_cCZOk9W0IBVh4EZrcSv3o",
          "ga4gh:VA.lF6Dqsf1PYowvxUygXI5QU7qLNkggxY9",
          "ga4gh:VA.Dsrq3AJXo4UQCiCnQCcrb2t551o9Dhv8",
          "ga4gh:VA.Pj-8TtUrxnONU6dr8wdgKf1oHfI4ved0",
          "ga4gh:VA.uOzCG-Blg0EEZfX9z2ZxvpGcWp7r2NrI",
          "ga4gh:VA.yHQVVwZjma693Ev6lQtew1axCWVwIi8K",
          "ga4gh:VA.79Wi00GyVrG9yn0JmHTK4Ensc-XVgd2G",
          "ga4gh:VA.FaMueqbbjnxuzxylH-4jpkaWfp6pLH98",
          "ga4gh:VA.E1wQB6h1lFEI_C-SnoqDqeBMakX3IKDR",
          "ga4gh:VA.skyk7EM-V-UuFN--3WwDEBwtwwBedVU8",
          "ga4gh:VA.t8CxWZxFJbfWnqruBINaDXruSd6aNKZH",
          "ga4gh:VA.3ybIkH_QhR6C7QmnTeD2-P6U1Pu7M__0",
          "ga4gh:VA.CpnlaV2B8565obATF-UlE706sBYp0D6M",
          "ga4gh:VA.mipQFzApQNp2KyVXcZig8b4uu7kFofIZ",
          "ga4gh:VA.Audz_0Y7aDtAI6drdpRSZBer1Fwl-W38",
          "ga4gh:VA.ABJoQOtfYms_bIW4CVCKShtEmwIiT6WA",
          "ga4gh:VA.OEk1XHnNu8vLwLfaJqg5Jwaj_MiyGUO1",
          "ga4gh:VA.mecsBfk2t315ZcdZCTD7TTRVezaXskCy",
          "ga4gh:VA.Rvyau6sxmcSQcEdvyBDVlK8lw_gF7zGo",
          "ga4gh:VA.XT7dH5AXh5XW2u2Ed8z701vo6BA3nhb6",
          "ga4gh:VA.Sh3JZ5sdDFIQwr6fF6ydC5yRu1PZ6uTE",
          "ga4gh:VA.6mOBrBWsfWLavxBwhR3tMyJEW9UNc6fk",
          "ga4gh:VA.0sx1Z2siMMnqZhW0BnX4eUz9dUIDLRm-",
          "ga4gh:VA.NbmGko5VG3K44V5sy-uVWrQaBdnqJ227",
          "ga4gh:VA.YqiDFzE2K6fcXhXkCGYHIQ75RgutPq_7",
          "ga4gh:VA.qOpu96P5HDO20GB4OF-VhqAS0JmnvnfP",
          "ga4gh:VA.qbbbxC4fGSEGvaT2Q9U8fLShG2YiTZL_",
          "ga4gh:VA.74tNeU5kbvRxbJbZ4y4HkTh0zV8u18IW",
          "ga4gh:VA.whkYT34c9xLuVqgpE0_pETIIQGkrgb8c",
          "ga4gh:VA.m9irj_tUdc3UiH7iFOINzZzHZTCEAyCi",
          "ga4gh:VA.B6uOm51_KWfoJlGO61ui7ltRfb4sG092",
          "ga4gh:VA.fUigsKWm_wJ8g6p6Yz9RKFH_KIiHo4cU",
          "ga4gh:VA.DhYFjPzh5PYmi9VVBykABjDGQtda800a",
          "ga4gh:VA.aAXNeFGBgeJUGbun-bKvgoW204tC1xdp",
          "ga4gh:VA.y7kX_U01bDeLnxvbo1BcNTnELH7f_x7V",
          "ga4gh:VA.y-ioX4e_ySwP_LlplLNp0cz04a8BBr9H",
          "ga4gh:VA.wQWDgRZT2eIRW7jXFeqKtSd8dgRgD76s",
          "ga4gh:VA.2zh_S3hn7AWJd00rhirLhhDW8VcVBo9N",
          "ga4gh:VA.57hhvPjBoLmuSxZdcTzEdDEprYZnzznv",
          "ga4gh:VA.v-kV7I4CYEDwUUB60OXG1kJDs5jXzAzj",
          "ga4gh:VA.uBwLZ5VRi7kD4O1yEvezXKYrJ3ZaegK9",
          "ga4gh:VA.qm_zti_uhENk10RV6-usf5CEKRGSHbm8",
          "ga4gh:VA.wDDVWfpuxnuYkLj5_0OrnaBvrJAXYcJA",
          "ga4gh:VA.xb30dObTCWb854GJXbRM8z6rznkk_EQ4",
          "ga4gh:VA.SnGz3wUT2JaIid12PoI6OHc4t7LgHVj1",
          "ga4gh:VA.ZJZc_8PkTSu-twmaJvj6yQXvPJHElPZc",
          "ga4gh:VA.37YVc2HpRgXOq3HtsjcL1eiyLhDXLmYy",
          "ga4gh:VA.fV8iAY2E_DdmWWtXswj2lJ4EP-DOasSU",
          "ga4gh:VA.Yg3Z9RU0BaaPa6KkoQDUrQqSQoVrDxEd",
          "ga4gh:VA.-6WRXXXc7bzaT3-oudzvf-zErFpN4auw",
          "ga4gh:VA.9_oJ_WaLeKnM_rQB2fNY4PjLweUO9OG_",
          "ga4gh:VA.CBZduYs_CDVRNed1-vUASXdmVqOn4psT",
          "ga4gh:VA.lCQZ8ie3k9M8N7wpd4BxHSpFYLKd0fVI",
          "ga4gh:VA.FkanRNmwHE0Hf6xRjR2MElkUvP5kPMDC",
          "ga4gh:VA.d-Kmz2h-KL5RB7PbcizjOTz8crmA9lEk",
          "ga4gh:VA.B7zZTxypiwSWZpc4LASs-CZL50acW3wA",
          "ga4gh:VA.g1Zv9RlyZLRqT-9pmYzVlvHW9cOA-dJC",
          "ga4gh:VA.mtaqWc-T7XqC5XPm_A4SYUuvHIqotpXM",
          "ga4gh:VA.l7RwuFlchr3Ol0VBFIpnUPA-STxTS1tK",
          "ga4gh:VA.tCiTYDF8a3se218OG_wWIuDey9b-WSEM",
          "ga4gh:VA.4hfGvwsO6MSx7QZOah2F7tcDOihO-sS6",
          "ga4gh:VA.Rq3N-YIvM8zB_XQ0jSfgPNbpZpaXRjtd",
          "ga4gh:VA.fUv0533bjJBUUbPreOMyhH-DK2m7P5dz",
          "ga4gh:VA.sxRkVIpFlbqKSvNHWdZ_7_TlgbVK9YFC",
          "ga4gh:VA.E9qBaNvPGa_Tz3Sw-bmM4jRrBPhaZBg3",
          "ga4gh:VA.FBKLbUc89HVKHoQ9RzNpkrbQ6ILhOr0B",
          "ga4gh:VA._mWwxxWy_mLBJKwIIDJye1nQWUhVwJhg",
          "ga4gh:VA.2NMrhxfirY2q6Zj0wtBNovJQkBwykfPF",
          "ga4gh:VA.UacbHqxOkMpOchUT0DLVp6_EegiK-dov",
          "ga4gh:VA.w50kYfxdOa7XBtTO7E3GrpFf0o-maldE",
          "ga4gh:VA.5B44uCdm8JiKpyJ1pO_AnPE5oqhIl484",
          "ga4gh:VA.DkV6ap7GeZ4vsV44rvC_J-L8q4zuwFVa",
          "ga4gh:VA.AXrGOKDo8ORbkbD1hAtwxLGaCaVgLnVT",
          "ga4gh:VA.d978botrqRUepp6GWeXYz2I86c1HSbZY",
          "ga4gh:VA.Llpd98XgE-ewhN4n29ycYLN8bW3fHAI_",
          "ga4gh:VA.zsgzn1HyrcCX7Cdvr1Lgb5eZgQImY_hj",
          "ga4gh:VA.LbCF-lxUW3hZsI8W_xZ461oRL2KtQd5m",
          "ga4gh:VA.hBirUIuuBalRhhdy4yG6rZQrUxU8PZqM",
          "ga4gh:VA.v5Jc64GQjTPVlsjiINmmlWmNRFfDDnoO",
          "ga4gh:VA.bj1cRq4Q4RfguopaFrFzvLS5PulXs4FW",
          "ga4gh:VA.1vqmzx9oQY3ZQlJdLevbulCJQ-7ECOXW",
          "ga4gh:VA.L7VjuMAJZdRDxfXA852ycZ3UM7mnkU7M",
          "ga4gh:VA.QP0kq1DT5HXfhNPZg7qQUY8zLHQacZ3Y",
          "ga4gh:VA.zLHyefGtMNhvpL3DMtRW69xCqpfZC6_M",
          "ga4gh:VA.aIjUZozqgN1gBuINUqWU82jfOw8BIuqP",
          "ga4gh:VA.1nmpQ8mfBVG4Voq3ORVT9t8aK377PlW1",
          "ga4gh:VA.45xaJHpIaZU2MBgIW6wSr2Mju8wuugkQ",
          "ga4gh:VA.U9TbJcIyE2AAeuuNH7_lbbedfcgHKsmv",
          "ga4gh:VA.5kcc1aPV7AaADQmZRAXyXMqEzU7T6GN2",
          "ga4gh:VA.0v5ZnAjs5BLLL0yOTmm5LO5S1f2m8vGa",
          "ga4gh:VA.Y9mKthEVkm79HwYoILX-1qoSKXyaV6p3",
          "ga4gh:VA.xTf07rKdeATMUCgoaqqMgiyLH05Fjh93",
          "ga4gh:VA.DcGYwTryaNE4EgROJNB0WM5d-ca9XwRv",
          "ga4gh:VA.D1lo-AavGH7G2GSqbQQ03g-Hnu32monP",
          "ga4gh:VA.2IwzP-BozTpSRnrqB5NA4e_18-iop7E8",
          "ga4gh:VA.1oFFaTlmKzBPBb4fiyAGEilaWJ4sce8_",
          "ga4gh:VA.GDbCu118HU1P_KLSrz7_DZgkzh2RRKOH",
          "ga4gh:VA.D75b0A02KjrAlqs1Ky2W97lt1vEwOjYj",
          "ga4gh:VA.jW54ta30v7-SnUy7YFCuq4niqSws7FSt",
          "ga4gh:VA.vY6oJXOf61VANk2F6uClrHZnmlfiMwb5",
          "ga4gh:VA.5l2AjkQ3hd6bw5jqHhZQVQOdsA420wot",
          "ga4gh:VA.xk0lO-hnHuNDzGziBYZ3ToWugAdwv1Lt",
          "ga4gh:VA.RynDzpGjpLKfmAOrN0yrjRyAeIPqV52Q",
          "ga4gh:VA.TwNAdfRFFH6azC7fV2z0iuvwDt71EMoa",
          "ga4gh:VA.1oqOuOD5ZCGIRR0JeMfp5tw2OQoJhI9u",
          "ga4gh:VA.OUtnlXzYAPjSCFTJdzslpJisv5mVZEWG",
          "ga4gh:VA.ypwzIXKQSN5c3GBKfVxbrcLclwYlncGw",
          "ga4gh:VA.-m5pmbPlV01BMIPZQFlIXMW_nCdvTVst",
          "ga4gh:VA.E09IUKElemW2uoVRT5qacU7RMqT8Um5m",
          "ga4gh:VA.kupbzxHCTSvq0_M8FY2FpHFtXotNHn4c",
          "ga4gh:VA.5IlCMFNnlu-2_HkwIZZSXGH2e6okHl2W",
          "ga4gh:VA.BabaBTQCflHkvefVzFuZGWtWgCJBUNvu",
          "ga4gh:VA.Q2ykQVE5UILajmk185GGOGvDjZXURiRG",
          "ga4gh:VA.A8crPBRvgFrkcWWnszjqT26E08kr0wV0",
          "ga4gh:VA.Wrm9skoOKiwrwqeWd546r-UHPjgSi-B2",
          "ga4gh:VA.4yqg18xtnJP7cTJI-Z2xS5HjnhxJJg84",
          "ga4gh:VA.QJwi5Q4L6mZ2ew_sgEb_69Q4k4TKYj8W",
          "ga4gh:VA._8jTS8nAvWwPZGOadQuD1o-tbbTQ5g3H",
          "ga4gh:VA.E7ZrplbCiB4iL2-xNPBpjLBgmIxiTCLo",
          "ga4gh:VA.0HuYZnARTI-5hhJ23-NoMNpyoiqh0vMz",
          "ga4gh:VA.vnNC2eUkgsxGtqfaEngyGWP5nddYxYFN",
          "ga4gh:VA.AUt1LfMnlD15ef90MMjgNVJ9nIHzuHWj",
          "ga4gh:VA.zyWXV8RVNM4FYUaVOYWkBAPzgr6uw41W",
          "ga4gh:VA.xO6jCyWzc6L3Bl_yEaGWvyrg6IJM92_Q",
          "ga4gh:VA.mC7vWmiQEzulnyAK_MWG0upRqiNoiOYI",
          "ga4gh:VA.zDDKySmgMwFwLtAqrBXvNpQA_CQ5hToT",
          "ga4gh:VA.6xDH8k26SS1_8Mbtb5BnFgrxXFbW98CF",
          "ga4gh:VA.sUQrnY4jvb7whQHgnS6rkx08Lb44wowM",
          "ga4gh:VA.I_Aqtnp7T3OtKjjcXdRisQvKbLULvRN5",
          "ga4gh:VA.8wkCi_XxSPbnuf_zYV1_SCcZ_pXVziQd",
          "ga4gh:VA.ggDDMKl7Qg9aYdOlAIGTYNjR7Nv0Lux2",
          "ga4gh:VA.7v_BIBt6l7xAyJ_BxkFIKk7vNGkDuTYb",
          "ga4gh:VA.O7RZ2CIwnmP_Qva5ar5MjmbHGbn5SFdr",
          "ga4gh:VA.zElnUUWNdxH5elaDdhFo8dYA6dVjCZNs",
          "ga4gh:VA.lSZe19pmSXAaE602TVOL2sZZKGxemTKw",
          "ga4gh:VA.iCbjI9KjbK2qqD4_iZdEOJKe0WC97hdm",
          "ga4gh:VA.EstQP5mWZWkmgYMkqEJMSnbZ12K88Y3v",
          "ga4gh:VA.SnJZPfiwIGwkyiAx-XnLElqheOPwlMA0"
         ],
         "xaxis": "x",
         "y": [
          120,
          49,
          41,
          25,
          21,
          20,
          18,
          14,
          14,
          12,
          12,
          12,
          12,
          10,
          9,
          9,
          9,
          9,
          8,
          8,
          7,
          7,
          7,
          6,
          6,
          6,
          6,
          6,
          6,
          6,
          5,
          5,
          5,
          5,
          5,
          5,
          5,
          5,
          4,
          4,
          4,
          4,
          4,
          4,
          4,
          4,
          4,
          4,
          4,
          4,
          4,
          4,
          4,
          4,
          3,
          3,
          3,
          3,
          3,
          3,
          3,
          3,
          3,
          3,
          3,
          3,
          3,
          3,
          3,
          3,
          3,
          3,
          3,
          3,
          3,
          3,
          3,
          3,
          3,
          3,
          3,
          3,
          3,
          3,
          3,
          3,
          3,
          3,
          3,
          3,
          2,
          2,
          2,
          2,
          2,
          2,
          2,
          2,
          2,
          2,
          2,
          2,
          2,
          2,
          2,
          2,
          2,
          2,
          2,
          2,
          2,
          2,
          2,
          2,
          2,
          2,
          2,
          2,
          2,
          2,
          2,
          2,
          2,
          2,
          2,
          2,
          2,
          2,
          2,
          2,
          2,
          2,
          2,
          2,
          2,
          2,
          2,
          2,
          2,
          2,
          2,
          2,
          2,
          2,
          2,
          2,
          2,
          2,
          2,
          2,
          2,
          2,
          2,
          2,
          2,
          2,
          2,
          2,
          2,
          2,
          2,
          2,
          2,
          2,
          2,
          2
         ],
         "yaxis": "y"
        }
       ],
       "layout": {
        "bargap": 0.2,
        "barmode": "relative",
        "legend": {
         "tracegroupgap": 0
        },
        "template": {
         "data": {
          "bar": [
           {
            "error_x": {
             "color": "#2a3f5f"
            },
            "error_y": {
             "color": "#2a3f5f"
            },
            "marker": {
             "line": {
              "color": "#E5ECF6",
              "width": 0.5
             },
             "pattern": {
              "fillmode": "overlay",
              "size": 10,
              "solidity": 0.2
             }
            },
            "type": "bar"
           }
          ],
          "barpolar": [
           {
            "marker": {
             "line": {
              "color": "#E5ECF6",
              "width": 0.5
             },
             "pattern": {
              "fillmode": "overlay",
              "size": 10,
              "solidity": 0.2
             }
            },
            "type": "barpolar"
           }
          ],
          "carpet": [
           {
            "aaxis": {
             "endlinecolor": "#2a3f5f",
             "gridcolor": "white",
             "linecolor": "white",
             "minorgridcolor": "white",
             "startlinecolor": "#2a3f5f"
            },
            "baxis": {
             "endlinecolor": "#2a3f5f",
             "gridcolor": "white",
             "linecolor": "white",
             "minorgridcolor": "white",
             "startlinecolor": "#2a3f5f"
            },
            "type": "carpet"
           }
          ],
          "choropleth": [
           {
            "colorbar": {
             "outlinewidth": 0,
             "ticks": ""
            },
            "type": "choropleth"
           }
          ],
          "contour": [
           {
            "colorbar": {
             "outlinewidth": 0,
             "ticks": ""
            },
            "colorscale": [
             [
              0,
              "#0d0887"
             ],
             [
              0.1111111111111111,
              "#46039f"
             ],
             [
              0.2222222222222222,
              "#7201a8"
             ],
             [
              0.3333333333333333,
              "#9c179e"
             ],
             [
              0.4444444444444444,
              "#bd3786"
             ],
             [
              0.5555555555555556,
              "#d8576b"
             ],
             [
              0.6666666666666666,
              "#ed7953"
             ],
             [
              0.7777777777777778,
              "#fb9f3a"
             ],
             [
              0.8888888888888888,
              "#fdca26"
             ],
             [
              1,
              "#f0f921"
             ]
            ],
            "type": "contour"
           }
          ],
          "contourcarpet": [
           {
            "colorbar": {
             "outlinewidth": 0,
             "ticks": ""
            },
            "type": "contourcarpet"
           }
          ],
          "heatmap": [
           {
            "colorbar": {
             "outlinewidth": 0,
             "ticks": ""
            },
            "colorscale": [
             [
              0,
              "#0d0887"
             ],
             [
              0.1111111111111111,
              "#46039f"
             ],
             [
              0.2222222222222222,
              "#7201a8"
             ],
             [
              0.3333333333333333,
              "#9c179e"
             ],
             [
              0.4444444444444444,
              "#bd3786"
             ],
             [
              0.5555555555555556,
              "#d8576b"
             ],
             [
              0.6666666666666666,
              "#ed7953"
             ],
             [
              0.7777777777777778,
              "#fb9f3a"
             ],
             [
              0.8888888888888888,
              "#fdca26"
             ],
             [
              1,
              "#f0f921"
             ]
            ],
            "type": "heatmap"
           }
          ],
          "heatmapgl": [
           {
            "colorbar": {
             "outlinewidth": 0,
             "ticks": ""
            },
            "colorscale": [
             [
              0,
              "#0d0887"
             ],
             [
              0.1111111111111111,
              "#46039f"
             ],
             [
              0.2222222222222222,
              "#7201a8"
             ],
             [
              0.3333333333333333,
              "#9c179e"
             ],
             [
              0.4444444444444444,
              "#bd3786"
             ],
             [
              0.5555555555555556,
              "#d8576b"
             ],
             [
              0.6666666666666666,
              "#ed7953"
             ],
             [
              0.7777777777777778,
              "#fb9f3a"
             ],
             [
              0.8888888888888888,
              "#fdca26"
             ],
             [
              1,
              "#f0f921"
             ]
            ],
            "type": "heatmapgl"
           }
          ],
          "histogram": [
           {
            "marker": {
             "pattern": {
              "fillmode": "overlay",
              "size": 10,
              "solidity": 0.2
             }
            },
            "type": "histogram"
           }
          ],
          "histogram2d": [
           {
            "colorbar": {
             "outlinewidth": 0,
             "ticks": ""
            },
            "colorscale": [
             [
              0,
              "#0d0887"
             ],
             [
              0.1111111111111111,
              "#46039f"
             ],
             [
              0.2222222222222222,
              "#7201a8"
             ],
             [
              0.3333333333333333,
              "#9c179e"
             ],
             [
              0.4444444444444444,
              "#bd3786"
             ],
             [
              0.5555555555555556,
              "#d8576b"
             ],
             [
              0.6666666666666666,
              "#ed7953"
             ],
             [
              0.7777777777777778,
              "#fb9f3a"
             ],
             [
              0.8888888888888888,
              "#fdca26"
             ],
             [
              1,
              "#f0f921"
             ]
            ],
            "type": "histogram2d"
           }
          ],
          "histogram2dcontour": [
           {
            "colorbar": {
             "outlinewidth": 0,
             "ticks": ""
            },
            "colorscale": [
             [
              0,
              "#0d0887"
             ],
             [
              0.1111111111111111,
              "#46039f"
             ],
             [
              0.2222222222222222,
              "#7201a8"
             ],
             [
              0.3333333333333333,
              "#9c179e"
             ],
             [
              0.4444444444444444,
              "#bd3786"
             ],
             [
              0.5555555555555556,
              "#d8576b"
             ],
             [
              0.6666666666666666,
              "#ed7953"
             ],
             [
              0.7777777777777778,
              "#fb9f3a"
             ],
             [
              0.8888888888888888,
              "#fdca26"
             ],
             [
              1,
              "#f0f921"
             ]
            ],
            "type": "histogram2dcontour"
           }
          ],
          "mesh3d": [
           {
            "colorbar": {
             "outlinewidth": 0,
             "ticks": ""
            },
            "type": "mesh3d"
           }
          ],
          "parcoords": [
           {
            "line": {
             "colorbar": {
              "outlinewidth": 0,
              "ticks": ""
             }
            },
            "type": "parcoords"
           }
          ],
          "pie": [
           {
            "automargin": true,
            "type": "pie"
           }
          ],
          "scatter": [
           {
            "fillpattern": {
             "fillmode": "overlay",
             "size": 10,
             "solidity": 0.2
            },
            "type": "scatter"
           }
          ],
          "scatter3d": [
           {
            "line": {
             "colorbar": {
              "outlinewidth": 0,
              "ticks": ""
             }
            },
            "marker": {
             "colorbar": {
              "outlinewidth": 0,
              "ticks": ""
             }
            },
            "type": "scatter3d"
           }
          ],
          "scattercarpet": [
           {
            "marker": {
             "colorbar": {
              "outlinewidth": 0,
              "ticks": ""
             }
            },
            "type": "scattercarpet"
           }
          ],
          "scattergeo": [
           {
            "marker": {
             "colorbar": {
              "outlinewidth": 0,
              "ticks": ""
             }
            },
            "type": "scattergeo"
           }
          ],
          "scattergl": [
           {
            "marker": {
             "colorbar": {
              "outlinewidth": 0,
              "ticks": ""
             }
            },
            "type": "scattergl"
           }
          ],
          "scattermapbox": [
           {
            "marker": {
             "colorbar": {
              "outlinewidth": 0,
              "ticks": ""
             }
            },
            "type": "scattermapbox"
           }
          ],
          "scatterpolar": [
           {
            "marker": {
             "colorbar": {
              "outlinewidth": 0,
              "ticks": ""
             }
            },
            "type": "scatterpolar"
           }
          ],
          "scatterpolargl": [
           {
            "marker": {
             "colorbar": {
              "outlinewidth": 0,
              "ticks": ""
             }
            },
            "type": "scatterpolargl"
           }
          ],
          "scatterternary": [
           {
            "marker": {
             "colorbar": {
              "outlinewidth": 0,
              "ticks": ""
             }
            },
            "type": "scatterternary"
           }
          ],
          "surface": [
           {
            "colorbar": {
             "outlinewidth": 0,
             "ticks": ""
            },
            "colorscale": [
             [
              0,
              "#0d0887"
             ],
             [
              0.1111111111111111,
              "#46039f"
             ],
             [
              0.2222222222222222,
              "#7201a8"
             ],
             [
              0.3333333333333333,
              "#9c179e"
             ],
             [
              0.4444444444444444,
              "#bd3786"
             ],
             [
              0.5555555555555556,
              "#d8576b"
             ],
             [
              0.6666666666666666,
              "#ed7953"
             ],
             [
              0.7777777777777778,
              "#fb9f3a"
             ],
             [
              0.8888888888888888,
              "#fdca26"
             ],
             [
              1,
              "#f0f921"
             ]
            ],
            "type": "surface"
           }
          ],
          "table": [
           {
            "cells": {
             "fill": {
              "color": "#EBF0F8"
             },
             "line": {
              "color": "white"
             }
            },
            "header": {
             "fill": {
              "color": "#C8D4E3"
             },
             "line": {
              "color": "white"
             }
            },
            "type": "table"
           }
          ]
         },
         "layout": {
          "annotationdefaults": {
           "arrowcolor": "#2a3f5f",
           "arrowhead": 0,
           "arrowwidth": 1
          },
          "autotypenumbers": "strict",
          "coloraxis": {
           "colorbar": {
            "outlinewidth": 0,
            "ticks": ""
           }
          },
          "colorscale": {
           "diverging": [
            [
             0,
             "#8e0152"
            ],
            [
             0.1,
             "#c51b7d"
            ],
            [
             0.2,
             "#de77ae"
            ],
            [
             0.3,
             "#f1b6da"
            ],
            [
             0.4,
             "#fde0ef"
            ],
            [
             0.5,
             "#f7f7f7"
            ],
            [
             0.6,
             "#e6f5d0"
            ],
            [
             0.7,
             "#b8e186"
            ],
            [
             0.8,
             "#7fbc41"
            ],
            [
             0.9,
             "#4d9221"
            ],
            [
             1,
             "#276419"
            ]
           ],
           "sequential": [
            [
             0,
             "#0d0887"
            ],
            [
             0.1111111111111111,
             "#46039f"
            ],
            [
             0.2222222222222222,
             "#7201a8"
            ],
            [
             0.3333333333333333,
             "#9c179e"
            ],
            [
             0.4444444444444444,
             "#bd3786"
            ],
            [
             0.5555555555555556,
             "#d8576b"
            ],
            [
             0.6666666666666666,
             "#ed7953"
            ],
            [
             0.7777777777777778,
             "#fb9f3a"
            ],
            [
             0.8888888888888888,
             "#fdca26"
            ],
            [
             1,
             "#f0f921"
            ]
           ],
           "sequentialminus": [
            [
             0,
             "#0d0887"
            ],
            [
             0.1111111111111111,
             "#46039f"
            ],
            [
             0.2222222222222222,
             "#7201a8"
            ],
            [
             0.3333333333333333,
             "#9c179e"
            ],
            [
             0.4444444444444444,
             "#bd3786"
            ],
            [
             0.5555555555555556,
             "#d8576b"
            ],
            [
             0.6666666666666666,
             "#ed7953"
            ],
            [
             0.7777777777777778,
             "#fb9f3a"
            ],
            [
             0.8888888888888888,
             "#fdca26"
            ],
            [
             1,
             "#f0f921"
            ]
           ]
          },
          "colorway": [
           "#636efa",
           "#EF553B",
           "#00cc96",
           "#ab63fa",
           "#FFA15A",
           "#19d3f3",
           "#FF6692",
           "#B6E880",
           "#FF97FF",
           "#FECB52"
          ],
          "font": {
           "color": "#2a3f5f"
          },
          "geo": {
           "bgcolor": "white",
           "lakecolor": "white",
           "landcolor": "#E5ECF6",
           "showlakes": true,
           "showland": true,
           "subunitcolor": "white"
          },
          "hoverlabel": {
           "align": "left"
          },
          "hovermode": "closest",
          "mapbox": {
           "style": "light"
          },
          "paper_bgcolor": "white",
          "plot_bgcolor": "#E5ECF6",
          "polar": {
           "angularaxis": {
            "gridcolor": "white",
            "linecolor": "white",
            "ticks": ""
           },
           "bgcolor": "#E5ECF6",
           "radialaxis": {
            "gridcolor": "white",
            "linecolor": "white",
            "ticks": ""
           }
          },
          "scene": {
           "xaxis": {
            "backgroundcolor": "#E5ECF6",
            "gridcolor": "white",
            "gridwidth": 2,
            "linecolor": "white",
            "showbackground": true,
            "ticks": "",
            "zerolinecolor": "white"
           },
           "yaxis": {
            "backgroundcolor": "#E5ECF6",
            "gridcolor": "white",
            "gridwidth": 2,
            "linecolor": "white",
            "showbackground": true,
            "ticks": "",
            "zerolinecolor": "white"
           },
           "zaxis": {
            "backgroundcolor": "#E5ECF6",
            "gridcolor": "white",
            "gridwidth": 2,
            "linecolor": "white",
            "showbackground": true,
            "ticks": "",
            "zerolinecolor": "white"
           }
          },
          "shapedefaults": {
           "line": {
            "color": "#2a3f5f"
           }
          },
          "ternary": {
           "aaxis": {
            "gridcolor": "white",
            "linecolor": "white",
            "ticks": ""
           },
           "baxis": {
            "gridcolor": "white",
            "linecolor": "white",
            "ticks": ""
           },
           "bgcolor": "#E5ECF6",
           "caxis": {
            "gridcolor": "white",
            "linecolor": "white",
            "ticks": ""
           }
          },
          "title": {
           "x": 0.05
          },
          "xaxis": {
           "automargin": true,
           "gridcolor": "white",
           "linecolor": "white",
           "ticks": "",
           "title": {
            "standoff": 15
           },
           "zerolinecolor": "white",
           "zerolinewidth": 2
          },
          "yaxis": {
           "automargin": true,
           "gridcolor": "white",
           "linecolor": "white",
           "ticks": "",
           "title": {
            "standoff": 15
           },
           "zerolinecolor": "white",
           "zerolinewidth": 2
          }
         }
        },
        "title": {
         "text": "Overlap of Variant Evidence in MetaKB v2"
        },
        "xaxis": {
         "anchor": "y",
         "domain": [
          0,
          1
         ],
         "tickfont": {
          "size": 4
         },
         "title": {
          "text": "Variant"
         }
        },
        "yaxis": {
         "anchor": "x",
         "domain": [
          0,
          1
         ],
         "title": {
          "text": "# of Study Statements containing Variant"
         }
        }
       }
      }
     },
     "metadata": {},
     "output_type": "display_data"
    }
   ],
   "source": [
    "# Bar Graph of Evidence Overlap\n",
    "fig = px.bar(tdf[0:166], x='Variant', y='counts', title='Overlap of Variant Evidence in MetaKB v2')\n",
    "fig.update_layout(yaxis_title='# of Study Statements containing Variant',\n",
    "                  xaxis=dict(tickfont=dict(size=4)),\n",
    "                  bargap=0.2)\n",
    "fig.show()\n",
    "pio.write_image(fig, \"Variant_overlap_bar.png\", format='png', width=1500, height=500, scale=5)"
   ]
  },
  {
   "cell_type": "code",
   "execution_count": 151,
   "metadata": {},
   "outputs": [
    {
     "data": {
      "application/vnd.plotly.v1+json": {
       "config": {
        "plotlyServerURL": "https://plot.ly"
       },
       "data": [
        {
         "domain": {
          "x": [
           0,
           1
          ],
          "y": [
           0,
           1
          ]
         },
         "hovertemplate": "is_duplicate=%{label}<br>counts=%{value}<extra></extra>",
         "labels": [
          "Duplicate",
          "Duplicate",
          "Duplicate",
          "Duplicate",
          "Duplicate",
          "Duplicate",
          "Duplicate",
          "Duplicate",
          "Duplicate",
          "Duplicate",
          "Duplicate",
          "Duplicate",
          "Duplicate",
          "Duplicate",
          "Duplicate",
          "Duplicate",
          "Duplicate",
          "Duplicate",
          "Duplicate",
          "Duplicate",
          "Duplicate",
          "Duplicate",
          "Duplicate",
          "Duplicate",
          "Duplicate",
          "Duplicate",
          "Duplicate",
          "Duplicate",
          "Duplicate",
          "Duplicate",
          "Duplicate",
          "Duplicate",
          "Duplicate",
          "Duplicate",
          "Duplicate",
          "Duplicate",
          "Duplicate",
          "Duplicate",
          "Duplicate",
          "Duplicate",
          "Duplicate",
          "Duplicate",
          "Duplicate",
          "Duplicate",
          "Duplicate",
          "Duplicate",
          "Duplicate",
          "Duplicate",
          "Duplicate",
          "Duplicate",
          "Duplicate",
          "Duplicate",
          "Duplicate",
          "Duplicate",
          "Duplicate",
          "Duplicate",
          "Duplicate",
          "Duplicate",
          "Duplicate",
          "Duplicate",
          "Duplicate",
          "Duplicate",
          "Duplicate",
          "Duplicate",
          "Duplicate",
          "Duplicate",
          "Duplicate",
          "Duplicate",
          "Duplicate",
          "Duplicate",
          "Duplicate",
          "Duplicate",
          "Duplicate",
          "Duplicate",
          "Duplicate",
          "Duplicate",
          "Duplicate",
          "Duplicate",
          "Duplicate",
          "Duplicate",
          "Duplicate",
          "Duplicate",
          "Duplicate",
          "Duplicate",
          "Duplicate",
          "Duplicate",
          "Duplicate",
          "Duplicate",
          "Duplicate",
          "Duplicate",
          "Duplicate",
          "Duplicate",
          "Duplicate",
          "Duplicate",
          "Duplicate",
          "Duplicate",
          "Duplicate",
          "Duplicate",
          "Duplicate",
          "Duplicate",
          "Duplicate",
          "Duplicate",
          "Duplicate",
          "Duplicate",
          "Duplicate",
          "Duplicate",
          "Duplicate",
          "Duplicate",
          "Duplicate",
          "Duplicate",
          "Duplicate",
          "Duplicate",
          "Duplicate",
          "Duplicate",
          "Duplicate",
          "Duplicate",
          "Duplicate",
          "Duplicate",
          "Duplicate",
          "Duplicate",
          "Duplicate",
          "Duplicate",
          "Duplicate",
          "Duplicate",
          "Duplicate",
          "Duplicate",
          "Duplicate",
          "Duplicate",
          "Duplicate",
          "Duplicate",
          "Duplicate",
          "Duplicate",
          "Duplicate",
          "Duplicate",
          "Duplicate",
          "Duplicate",
          "Duplicate",
          "Duplicate",
          "Duplicate",
          "Duplicate",
          "Duplicate",
          "Duplicate",
          "Duplicate",
          "Duplicate",
          "Duplicate",
          "Duplicate",
          "Duplicate",
          "Duplicate",
          "Duplicate",
          "Duplicate",
          "Duplicate",
          "Duplicate",
          "Duplicate",
          "Duplicate",
          "Duplicate",
          "Duplicate",
          "Duplicate",
          "Duplicate",
          "Duplicate",
          "Duplicate",
          "Duplicate",
          "Duplicate",
          "Duplicate",
          "Duplicate",
          "Duplicate",
          "Duplicate",
          "Not Duplicate",
          "Not Duplicate",
          "Not Duplicate",
          "Not Duplicate",
          "Not Duplicate",
          "Not Duplicate",
          "Not Duplicate",
          "Not Duplicate",
          "Not Duplicate",
          "Not Duplicate",
          "Not Duplicate",
          "Not Duplicate",
          "Not Duplicate",
          "Not Duplicate",
          "Not Duplicate",
          "Not Duplicate",
          "Not Duplicate",
          "Not Duplicate",
          "Not Duplicate",
          "Not Duplicate",
          "Not Duplicate",
          "Not Duplicate",
          "Not Duplicate",
          "Not Duplicate",
          "Not Duplicate",
          "Not Duplicate",
          "Not Duplicate",
          "Not Duplicate",
          "Not Duplicate",
          "Not Duplicate",
          "Not Duplicate",
          "Not Duplicate",
          "Not Duplicate",
          "Not Duplicate",
          "Not Duplicate",
          "Not Duplicate",
          "Not Duplicate",
          "Not Duplicate",
          "Not Duplicate",
          "Not Duplicate",
          "Not Duplicate",
          "Not Duplicate",
          "Not Duplicate",
          "Not Duplicate",
          "Not Duplicate",
          "Not Duplicate",
          "Not Duplicate",
          "Not Duplicate",
          "Not Duplicate",
          "Not Duplicate",
          "Not Duplicate",
          "Not Duplicate",
          "Not Duplicate",
          "Not Duplicate",
          "Not Duplicate",
          "Not Duplicate",
          "Not Duplicate",
          "Not Duplicate",
          "Not Duplicate",
          "Not Duplicate",
          "Not Duplicate",
          "Not Duplicate",
          "Not Duplicate",
          "Not Duplicate",
          "Not Duplicate",
          "Not Duplicate",
          "Not Duplicate",
          "Not Duplicate",
          "Not Duplicate",
          "Not Duplicate",
          "Not Duplicate",
          "Not Duplicate",
          "Not Duplicate",
          "Not Duplicate",
          "Not Duplicate",
          "Not Duplicate",
          "Not Duplicate",
          "Not Duplicate",
          "Not Duplicate",
          "Not Duplicate",
          "Not Duplicate",
          "Not Duplicate",
          "Not Duplicate",
          "Not Duplicate",
          "Not Duplicate",
          "Not Duplicate",
          "Not Duplicate",
          "Not Duplicate",
          "Not Duplicate",
          "Not Duplicate",
          "Not Duplicate",
          "Not Duplicate",
          "Not Duplicate",
          "Not Duplicate",
          "Not Duplicate",
          "Not Duplicate",
          "Not Duplicate",
          "Not Duplicate",
          "Not Duplicate",
          "Not Duplicate",
          "Not Duplicate",
          "Not Duplicate",
          "Not Duplicate",
          "Not Duplicate",
          "Not Duplicate",
          "Not Duplicate",
          "Not Duplicate",
          "Not Duplicate",
          "Not Duplicate",
          "Not Duplicate",
          "Not Duplicate",
          "Not Duplicate",
          "Not Duplicate",
          "Not Duplicate",
          "Not Duplicate",
          "Not Duplicate",
          "Not Duplicate",
          "Not Duplicate",
          "Not Duplicate",
          "Not Duplicate",
          "Not Duplicate",
          "Not Duplicate",
          "Not Duplicate",
          "Not Duplicate",
          "Not Duplicate",
          "Not Duplicate",
          "Not Duplicate",
          "Not Duplicate",
          "Not Duplicate",
          "Not Duplicate",
          "Not Duplicate",
          "Not Duplicate",
          "Not Duplicate",
          "Not Duplicate",
          "Not Duplicate",
          "Not Duplicate",
          "Not Duplicate",
          "Not Duplicate",
          "Not Duplicate",
          "Not Duplicate",
          "Not Duplicate",
          "Not Duplicate",
          "Not Duplicate",
          "Not Duplicate",
          "Not Duplicate",
          "Not Duplicate",
          "Not Duplicate",
          "Not Duplicate",
          "Not Duplicate",
          "Not Duplicate",
          "Not Duplicate",
          "Not Duplicate",
          "Not Duplicate",
          "Not Duplicate",
          "Not Duplicate",
          "Not Duplicate",
          "Not Duplicate",
          "Not Duplicate",
          "Not Duplicate",
          "Not Duplicate",
          "Not Duplicate",
          "Not Duplicate",
          "Not Duplicate",
          "Not Duplicate",
          "Not Duplicate",
          "Not Duplicate",
          "Not Duplicate",
          "Not Duplicate",
          "Not Duplicate",
          "Not Duplicate",
          "Not Duplicate",
          "Not Duplicate",
          "Not Duplicate",
          "Not Duplicate",
          "Not Duplicate",
          "Not Duplicate",
          "Not Duplicate",
          "Not Duplicate",
          "Not Duplicate",
          "Not Duplicate",
          "Not Duplicate",
          "Not Duplicate",
          "Not Duplicate",
          "Not Duplicate",
          "Not Duplicate",
          "Not Duplicate",
          "Not Duplicate",
          "Not Duplicate",
          "Not Duplicate",
          "Not Duplicate",
          "Not Duplicate",
          "Not Duplicate",
          "Not Duplicate",
          "Not Duplicate",
          "Not Duplicate",
          "Not Duplicate",
          "Not Duplicate",
          "Not Duplicate",
          "Not Duplicate",
          "Not Duplicate",
          "Not Duplicate",
          "Not Duplicate",
          "Not Duplicate",
          "Not Duplicate",
          "Not Duplicate",
          "Not Duplicate",
          "Not Duplicate",
          "Not Duplicate",
          "Not Duplicate",
          "Not Duplicate",
          "Not Duplicate",
          "Not Duplicate",
          "Not Duplicate",
          "Not Duplicate",
          "Not Duplicate",
          "Not Duplicate",
          "Not Duplicate",
          "Not Duplicate",
          "Not Duplicate",
          "Not Duplicate",
          "Not Duplicate",
          "Not Duplicate",
          "Not Duplicate",
          "Not Duplicate",
          "Not Duplicate",
          "Not Duplicate",
          "Not Duplicate",
          "Not Duplicate",
          "Not Duplicate",
          "Not Duplicate",
          "Not Duplicate",
          "Not Duplicate",
          "Not Duplicate",
          "Not Duplicate",
          "Not Duplicate",
          "Not Duplicate",
          "Not Duplicate",
          "Not Duplicate",
          "Not Duplicate",
          "Not Duplicate",
          "Not Duplicate",
          "Not Duplicate",
          "Not Duplicate",
          "Not Duplicate",
          "Not Duplicate",
          "Not Duplicate",
          "Not Duplicate",
          "Not Duplicate",
          "Not Duplicate",
          "Not Duplicate",
          "Not Duplicate",
          "Not Duplicate",
          "Not Duplicate",
          "Not Duplicate",
          "Not Duplicate",
          "Not Duplicate",
          "Not Duplicate",
          "Not Duplicate",
          "Not Duplicate",
          "Not Duplicate",
          "Not Duplicate",
          "Not Duplicate",
          "Not Duplicate",
          "Not Duplicate",
          "Not Duplicate",
          "Not Duplicate",
          "Not Duplicate",
          "Not Duplicate",
          "Not Duplicate",
          "Not Duplicate",
          "Not Duplicate",
          "Not Duplicate",
          "Not Duplicate",
          "Not Duplicate",
          "Not Duplicate",
          "Not Duplicate",
          "Not Duplicate",
          "Not Duplicate",
          "Not Duplicate",
          "Not Duplicate",
          "Not Duplicate",
          "Not Duplicate",
          "Not Duplicate",
          "Not Duplicate"
         ],
         "legendgroup": "",
         "name": "",
         "showlegend": true,
         "textinfo": "percent+label",
         "type": "pie",
         "values": [
          120,
          49,
          41,
          25,
          21,
          20,
          18,
          14,
          14,
          12,
          12,
          12,
          12,
          10,
          9,
          9,
          9,
          9,
          8,
          8,
          7,
          7,
          7,
          6,
          6,
          6,
          6,
          6,
          6,
          6,
          5,
          5,
          5,
          5,
          5,
          5,
          5,
          5,
          4,
          4,
          4,
          4,
          4,
          4,
          4,
          4,
          4,
          4,
          4,
          4,
          4,
          4,
          4,
          4,
          3,
          3,
          3,
          3,
          3,
          3,
          3,
          3,
          3,
          3,
          3,
          3,
          3,
          3,
          3,
          3,
          3,
          3,
          3,
          3,
          3,
          3,
          3,
          3,
          3,
          3,
          3,
          3,
          3,
          3,
          3,
          3,
          3,
          3,
          3,
          3,
          2,
          2,
          2,
          2,
          2,
          2,
          2,
          2,
          2,
          2,
          2,
          2,
          2,
          2,
          2,
          2,
          2,
          2,
          2,
          2,
          2,
          2,
          2,
          2,
          2,
          2,
          2,
          2,
          2,
          2,
          2,
          2,
          2,
          2,
          2,
          2,
          2,
          2,
          2,
          2,
          2,
          2,
          2,
          2,
          2,
          2,
          2,
          2,
          2,
          2,
          2,
          2,
          2,
          2,
          2,
          2,
          2,
          2,
          2,
          2,
          2,
          2,
          2,
          2,
          2,
          2,
          2,
          2,
          2,
          2,
          2,
          2,
          2,
          2,
          2,
          2,
          1,
          1,
          1,
          1,
          1,
          1,
          1,
          1,
          1,
          1,
          1,
          1,
          1,
          1,
          1,
          1,
          1,
          1,
          1,
          1,
          1,
          1,
          1,
          1,
          1,
          1,
          1,
          1,
          1,
          1,
          1,
          1,
          1,
          1,
          1,
          1,
          1,
          1,
          1,
          1,
          1,
          1,
          1,
          1,
          1,
          1,
          1,
          1,
          1,
          1,
          1,
          1,
          1,
          1,
          1,
          1,
          1,
          1,
          1,
          1,
          1,
          1,
          1,
          1,
          1,
          1,
          1,
          1,
          1,
          1,
          1,
          1,
          1,
          1,
          1,
          1,
          1,
          1,
          1,
          1,
          1,
          1,
          1,
          1,
          1,
          1,
          1,
          1,
          1,
          1,
          1,
          1,
          1,
          1,
          1,
          1,
          1,
          1,
          1,
          1,
          1,
          1,
          1,
          1,
          1,
          1,
          1,
          1,
          1,
          1,
          1,
          1,
          1,
          1,
          1,
          1,
          1,
          1,
          1,
          1,
          1,
          1,
          1,
          1,
          1,
          1,
          1,
          1,
          1,
          1,
          1,
          1,
          1,
          1,
          1,
          1,
          1,
          1,
          1,
          1,
          1,
          1,
          1,
          1,
          1,
          1,
          1,
          1,
          1,
          1,
          1,
          1,
          1,
          1,
          1,
          1,
          1,
          1,
          1,
          1,
          1,
          1,
          1,
          1,
          1,
          1,
          1,
          1,
          1,
          1,
          1,
          1,
          1,
          1,
          1,
          1,
          1,
          1,
          1,
          1,
          1,
          1,
          1,
          1,
          1,
          1,
          1,
          1,
          1,
          1,
          1,
          1,
          1,
          1,
          1,
          1,
          1,
          1,
          1,
          1,
          1,
          1,
          1,
          1,
          1,
          1,
          1,
          1,
          1,
          1,
          1,
          1,
          1,
          1,
          1,
          1,
          1,
          1,
          1,
          1,
          1,
          1,
          1,
          1,
          1,
          1,
          1,
          1,
          1,
          1,
          1,
          1,
          1,
          1,
          1,
          1,
          1,
          1,
          1,
          1,
          1,
          1,
          1,
          1,
          1,
          1,
          1,
          1,
          1,
          1,
          1,
          1,
          1,
          1,
          1,
          1,
          1,
          1,
          1,
          1,
          1,
          1,
          1,
          1,
          1,
          1,
          1,
          1,
          1,
          1,
          1,
          1,
          1,
          1,
          1,
          1,
          1,
          1,
          1,
          1,
          1,
          1,
          1,
          1
         ]
        }
       ],
       "layout": {
        "legend": {
         "tracegroupgap": 0
        },
        "template": {
         "data": {
          "bar": [
           {
            "error_x": {
             "color": "#2a3f5f"
            },
            "error_y": {
             "color": "#2a3f5f"
            },
            "marker": {
             "line": {
              "color": "#E5ECF6",
              "width": 0.5
             },
             "pattern": {
              "fillmode": "overlay",
              "size": 10,
              "solidity": 0.2
             }
            },
            "type": "bar"
           }
          ],
          "barpolar": [
           {
            "marker": {
             "line": {
              "color": "#E5ECF6",
              "width": 0.5
             },
             "pattern": {
              "fillmode": "overlay",
              "size": 10,
              "solidity": 0.2
             }
            },
            "type": "barpolar"
           }
          ],
          "carpet": [
           {
            "aaxis": {
             "endlinecolor": "#2a3f5f",
             "gridcolor": "white",
             "linecolor": "white",
             "minorgridcolor": "white",
             "startlinecolor": "#2a3f5f"
            },
            "baxis": {
             "endlinecolor": "#2a3f5f",
             "gridcolor": "white",
             "linecolor": "white",
             "minorgridcolor": "white",
             "startlinecolor": "#2a3f5f"
            },
            "type": "carpet"
           }
          ],
          "choropleth": [
           {
            "colorbar": {
             "outlinewidth": 0,
             "ticks": ""
            },
            "type": "choropleth"
           }
          ],
          "contour": [
           {
            "colorbar": {
             "outlinewidth": 0,
             "ticks": ""
            },
            "colorscale": [
             [
              0,
              "#0d0887"
             ],
             [
              0.1111111111111111,
              "#46039f"
             ],
             [
              0.2222222222222222,
              "#7201a8"
             ],
             [
              0.3333333333333333,
              "#9c179e"
             ],
             [
              0.4444444444444444,
              "#bd3786"
             ],
             [
              0.5555555555555556,
              "#d8576b"
             ],
             [
              0.6666666666666666,
              "#ed7953"
             ],
             [
              0.7777777777777778,
              "#fb9f3a"
             ],
             [
              0.8888888888888888,
              "#fdca26"
             ],
             [
              1,
              "#f0f921"
             ]
            ],
            "type": "contour"
           }
          ],
          "contourcarpet": [
           {
            "colorbar": {
             "outlinewidth": 0,
             "ticks": ""
            },
            "type": "contourcarpet"
           }
          ],
          "heatmap": [
           {
            "colorbar": {
             "outlinewidth": 0,
             "ticks": ""
            },
            "colorscale": [
             [
              0,
              "#0d0887"
             ],
             [
              0.1111111111111111,
              "#46039f"
             ],
             [
              0.2222222222222222,
              "#7201a8"
             ],
             [
              0.3333333333333333,
              "#9c179e"
             ],
             [
              0.4444444444444444,
              "#bd3786"
             ],
             [
              0.5555555555555556,
              "#d8576b"
             ],
             [
              0.6666666666666666,
              "#ed7953"
             ],
             [
              0.7777777777777778,
              "#fb9f3a"
             ],
             [
              0.8888888888888888,
              "#fdca26"
             ],
             [
              1,
              "#f0f921"
             ]
            ],
            "type": "heatmap"
           }
          ],
          "heatmapgl": [
           {
            "colorbar": {
             "outlinewidth": 0,
             "ticks": ""
            },
            "colorscale": [
             [
              0,
              "#0d0887"
             ],
             [
              0.1111111111111111,
              "#46039f"
             ],
             [
              0.2222222222222222,
              "#7201a8"
             ],
             [
              0.3333333333333333,
              "#9c179e"
             ],
             [
              0.4444444444444444,
              "#bd3786"
             ],
             [
              0.5555555555555556,
              "#d8576b"
             ],
             [
              0.6666666666666666,
              "#ed7953"
             ],
             [
              0.7777777777777778,
              "#fb9f3a"
             ],
             [
              0.8888888888888888,
              "#fdca26"
             ],
             [
              1,
              "#f0f921"
             ]
            ],
            "type": "heatmapgl"
           }
          ],
          "histogram": [
           {
            "marker": {
             "pattern": {
              "fillmode": "overlay",
              "size": 10,
              "solidity": 0.2
             }
            },
            "type": "histogram"
           }
          ],
          "histogram2d": [
           {
            "colorbar": {
             "outlinewidth": 0,
             "ticks": ""
            },
            "colorscale": [
             [
              0,
              "#0d0887"
             ],
             [
              0.1111111111111111,
              "#46039f"
             ],
             [
              0.2222222222222222,
              "#7201a8"
             ],
             [
              0.3333333333333333,
              "#9c179e"
             ],
             [
              0.4444444444444444,
              "#bd3786"
             ],
             [
              0.5555555555555556,
              "#d8576b"
             ],
             [
              0.6666666666666666,
              "#ed7953"
             ],
             [
              0.7777777777777778,
              "#fb9f3a"
             ],
             [
              0.8888888888888888,
              "#fdca26"
             ],
             [
              1,
              "#f0f921"
             ]
            ],
            "type": "histogram2d"
           }
          ],
          "histogram2dcontour": [
           {
            "colorbar": {
             "outlinewidth": 0,
             "ticks": ""
            },
            "colorscale": [
             [
              0,
              "#0d0887"
             ],
             [
              0.1111111111111111,
              "#46039f"
             ],
             [
              0.2222222222222222,
              "#7201a8"
             ],
             [
              0.3333333333333333,
              "#9c179e"
             ],
             [
              0.4444444444444444,
              "#bd3786"
             ],
             [
              0.5555555555555556,
              "#d8576b"
             ],
             [
              0.6666666666666666,
              "#ed7953"
             ],
             [
              0.7777777777777778,
              "#fb9f3a"
             ],
             [
              0.8888888888888888,
              "#fdca26"
             ],
             [
              1,
              "#f0f921"
             ]
            ],
            "type": "histogram2dcontour"
           }
          ],
          "mesh3d": [
           {
            "colorbar": {
             "outlinewidth": 0,
             "ticks": ""
            },
            "type": "mesh3d"
           }
          ],
          "parcoords": [
           {
            "line": {
             "colorbar": {
              "outlinewidth": 0,
              "ticks": ""
             }
            },
            "type": "parcoords"
           }
          ],
          "pie": [
           {
            "automargin": true,
            "type": "pie"
           }
          ],
          "scatter": [
           {
            "fillpattern": {
             "fillmode": "overlay",
             "size": 10,
             "solidity": 0.2
            },
            "type": "scatter"
           }
          ],
          "scatter3d": [
           {
            "line": {
             "colorbar": {
              "outlinewidth": 0,
              "ticks": ""
             }
            },
            "marker": {
             "colorbar": {
              "outlinewidth": 0,
              "ticks": ""
             }
            },
            "type": "scatter3d"
           }
          ],
          "scattercarpet": [
           {
            "marker": {
             "colorbar": {
              "outlinewidth": 0,
              "ticks": ""
             }
            },
            "type": "scattercarpet"
           }
          ],
          "scattergeo": [
           {
            "marker": {
             "colorbar": {
              "outlinewidth": 0,
              "ticks": ""
             }
            },
            "type": "scattergeo"
           }
          ],
          "scattergl": [
           {
            "marker": {
             "colorbar": {
              "outlinewidth": 0,
              "ticks": ""
             }
            },
            "type": "scattergl"
           }
          ],
          "scattermapbox": [
           {
            "marker": {
             "colorbar": {
              "outlinewidth": 0,
              "ticks": ""
             }
            },
            "type": "scattermapbox"
           }
          ],
          "scatterpolar": [
           {
            "marker": {
             "colorbar": {
              "outlinewidth": 0,
              "ticks": ""
             }
            },
            "type": "scatterpolar"
           }
          ],
          "scatterpolargl": [
           {
            "marker": {
             "colorbar": {
              "outlinewidth": 0,
              "ticks": ""
             }
            },
            "type": "scatterpolargl"
           }
          ],
          "scatterternary": [
           {
            "marker": {
             "colorbar": {
              "outlinewidth": 0,
              "ticks": ""
             }
            },
            "type": "scatterternary"
           }
          ],
          "surface": [
           {
            "colorbar": {
             "outlinewidth": 0,
             "ticks": ""
            },
            "colorscale": [
             [
              0,
              "#0d0887"
             ],
             [
              0.1111111111111111,
              "#46039f"
             ],
             [
              0.2222222222222222,
              "#7201a8"
             ],
             [
              0.3333333333333333,
              "#9c179e"
             ],
             [
              0.4444444444444444,
              "#bd3786"
             ],
             [
              0.5555555555555556,
              "#d8576b"
             ],
             [
              0.6666666666666666,
              "#ed7953"
             ],
             [
              0.7777777777777778,
              "#fb9f3a"
             ],
             [
              0.8888888888888888,
              "#fdca26"
             ],
             [
              1,
              "#f0f921"
             ]
            ],
            "type": "surface"
           }
          ],
          "table": [
           {
            "cells": {
             "fill": {
              "color": "#EBF0F8"
             },
             "line": {
              "color": "white"
             }
            },
            "header": {
             "fill": {
              "color": "#C8D4E3"
             },
             "line": {
              "color": "white"
             }
            },
            "type": "table"
           }
          ]
         },
         "layout": {
          "annotationdefaults": {
           "arrowcolor": "#2a3f5f",
           "arrowhead": 0,
           "arrowwidth": 1
          },
          "autotypenumbers": "strict",
          "coloraxis": {
           "colorbar": {
            "outlinewidth": 0,
            "ticks": ""
           }
          },
          "colorscale": {
           "diverging": [
            [
             0,
             "#8e0152"
            ],
            [
             0.1,
             "#c51b7d"
            ],
            [
             0.2,
             "#de77ae"
            ],
            [
             0.3,
             "#f1b6da"
            ],
            [
             0.4,
             "#fde0ef"
            ],
            [
             0.5,
             "#f7f7f7"
            ],
            [
             0.6,
             "#e6f5d0"
            ],
            [
             0.7,
             "#b8e186"
            ],
            [
             0.8,
             "#7fbc41"
            ],
            [
             0.9,
             "#4d9221"
            ],
            [
             1,
             "#276419"
            ]
           ],
           "sequential": [
            [
             0,
             "#0d0887"
            ],
            [
             0.1111111111111111,
             "#46039f"
            ],
            [
             0.2222222222222222,
             "#7201a8"
            ],
            [
             0.3333333333333333,
             "#9c179e"
            ],
            [
             0.4444444444444444,
             "#bd3786"
            ],
            [
             0.5555555555555556,
             "#d8576b"
            ],
            [
             0.6666666666666666,
             "#ed7953"
            ],
            [
             0.7777777777777778,
             "#fb9f3a"
            ],
            [
             0.8888888888888888,
             "#fdca26"
            ],
            [
             1,
             "#f0f921"
            ]
           ],
           "sequentialminus": [
            [
             0,
             "#0d0887"
            ],
            [
             0.1111111111111111,
             "#46039f"
            ],
            [
             0.2222222222222222,
             "#7201a8"
            ],
            [
             0.3333333333333333,
             "#9c179e"
            ],
            [
             0.4444444444444444,
             "#bd3786"
            ],
            [
             0.5555555555555556,
             "#d8576b"
            ],
            [
             0.6666666666666666,
             "#ed7953"
            ],
            [
             0.7777777777777778,
             "#fb9f3a"
            ],
            [
             0.8888888888888888,
             "#fdca26"
            ],
            [
             1,
             "#f0f921"
            ]
           ]
          },
          "colorway": [
           "#636efa",
           "#EF553B",
           "#00cc96",
           "#ab63fa",
           "#FFA15A",
           "#19d3f3",
           "#FF6692",
           "#B6E880",
           "#FF97FF",
           "#FECB52"
          ],
          "font": {
           "color": "#2a3f5f"
          },
          "geo": {
           "bgcolor": "white",
           "lakecolor": "white",
           "landcolor": "#E5ECF6",
           "showlakes": true,
           "showland": true,
           "subunitcolor": "white"
          },
          "hoverlabel": {
           "align": "left"
          },
          "hovermode": "closest",
          "mapbox": {
           "style": "light"
          },
          "paper_bgcolor": "white",
          "plot_bgcolor": "#E5ECF6",
          "polar": {
           "angularaxis": {
            "gridcolor": "white",
            "linecolor": "white",
            "ticks": ""
           },
           "bgcolor": "#E5ECF6",
           "radialaxis": {
            "gridcolor": "white",
            "linecolor": "white",
            "ticks": ""
           }
          },
          "scene": {
           "xaxis": {
            "backgroundcolor": "#E5ECF6",
            "gridcolor": "white",
            "gridwidth": 2,
            "linecolor": "white",
            "showbackground": true,
            "ticks": "",
            "zerolinecolor": "white"
           },
           "yaxis": {
            "backgroundcolor": "#E5ECF6",
            "gridcolor": "white",
            "gridwidth": 2,
            "linecolor": "white",
            "showbackground": true,
            "ticks": "",
            "zerolinecolor": "white"
           },
           "zaxis": {
            "backgroundcolor": "#E5ECF6",
            "gridcolor": "white",
            "gridwidth": 2,
            "linecolor": "white",
            "showbackground": true,
            "ticks": "",
            "zerolinecolor": "white"
           }
          },
          "shapedefaults": {
           "line": {
            "color": "#2a3f5f"
           }
          },
          "ternary": {
           "aaxis": {
            "gridcolor": "white",
            "linecolor": "white",
            "ticks": ""
           },
           "baxis": {
            "gridcolor": "white",
            "linecolor": "white",
            "ticks": ""
           },
           "bgcolor": "#E5ECF6",
           "caxis": {
            "gridcolor": "white",
            "linecolor": "white",
            "ticks": ""
           }
          },
          "title": {
           "x": 0.05
          },
          "xaxis": {
           "automargin": true,
           "gridcolor": "white",
           "linecolor": "white",
           "ticks": "",
           "title": {
            "standoff": 15
           },
           "zerolinecolor": "white",
           "zerolinewidth": 2
          },
          "yaxis": {
           "automargin": true,
           "gridcolor": "white",
           "linecolor": "white",
           "ticks": "",
           "title": {
            "standoff": 15
           },
           "zerolinecolor": "white",
           "zerolinewidth": 2
          }
         }
        },
        "title": {
         "text": "% Evidence containing duplicate Variant in MetaKB v2"
        }
       }
      }
     },
     "metadata": {},
     "output_type": "display_data"
    }
   ],
   "source": [
    "fig = px.pie(tdf, values='counts', names='is_duplicate', title='% Evidence containing duplicate Variant in MetaKB v2')\n",
    "fig.update_traces(textinfo='percent+label')\n",
    "fig.show()\n",
    "pio.write_image(fig, \"Duplicate_Variants_metakbv2_pie.png\", format='png', width=800, height=800, scale=5)"
   ]
  },
  {
   "cell_type": "markdown",
   "metadata": {},
   "source": [
    "#### Therapeutics"
   ]
  },
  {
   "cell_type": "code",
   "execution_count": null,
   "metadata": {},
   "outputs": [
    {
     "data": {
      "text/plain": [
       "obj\n",
       "rxcui:1147220                                                                 71\n",
       "rxcui:337525                                                                  59\n",
       "rxcui:282388                                                                  48\n",
       "rxcui:318341                                                                  39\n",
       "rxcui:328134                                                                  31\n",
       "                                                                              ..\n",
       "ncit:C115109                                                                   2\n",
       "rxcui:2550714                                                                  2\n",
       "(CombinationTherapy, moa.ctid:C91ScST5e8OGj8fXpwjf1rACl3_viw9L)                2\n",
       "(TherapeuticSubstituteGroup, civic.tsgid:bf_BuyNMwaqXScLEAS5F0_LZZf1t1H2f)     2\n",
       "(CombinationTherapy, civic.ctid:-TUOzS0ClpVaUo5oisn2Bt0H0ZHPi1cJ)              2\n",
       "Name: count, Length: 115, dtype: int64"
      ]
     },
     "execution_count": 113,
     "metadata": {},
     "output_type": "execute_result"
    }
   ],
   "source": [
    "df['obj'].value_counts()[0:115] # Duplicates"
   ]
  },
  {
   "cell_type": "code",
   "execution_count": 197,
   "metadata": {},
   "outputs": [
    {
     "data": {
      "text/html": [
       "<div>\n",
       "<style scoped>\n",
       "    .dataframe tbody tr th:only-of-type {\n",
       "        vertical-align: middle;\n",
       "    }\n",
       "\n",
       "    .dataframe tbody tr th {\n",
       "        vertical-align: top;\n",
       "    }\n",
       "\n",
       "    .dataframe thead th {\n",
       "        text-align: right;\n",
       "    }\n",
       "</style>\n",
       "<table border=\"1\" class=\"dataframe\">\n",
       "  <thead>\n",
       "    <tr style=\"text-align: right;\">\n",
       "      <th></th>\n",
       "      <th>Therapeutics</th>\n",
       "      <th>counts</th>\n",
       "    </tr>\n",
       "  </thead>\n",
       "  <tbody>\n",
       "    <tr>\n",
       "      <th>0</th>\n",
       "      <td>rxcui:1147220</td>\n",
       "      <td>71</td>\n",
       "    </tr>\n",
       "    <tr>\n",
       "      <th>1</th>\n",
       "      <td>rxcui:337525</td>\n",
       "      <td>59</td>\n",
       "    </tr>\n",
       "    <tr>\n",
       "      <th>2</th>\n",
       "      <td>rxcui:282388</td>\n",
       "      <td>48</td>\n",
       "    </tr>\n",
       "    <tr>\n",
       "      <th>3</th>\n",
       "      <td>rxcui:318341</td>\n",
       "      <td>39</td>\n",
       "    </tr>\n",
       "    <tr>\n",
       "      <th>4</th>\n",
       "      <td>rxcui:328134</td>\n",
       "      <td>31</td>\n",
       "    </tr>\n",
       "    <tr>\n",
       "      <th>...</th>\n",
       "      <td>...</td>\n",
       "      <td>...</td>\n",
       "    </tr>\n",
       "    <tr>\n",
       "      <th>110</th>\n",
       "      <td>ncit:C115109</td>\n",
       "      <td>2</td>\n",
       "    </tr>\n",
       "    <tr>\n",
       "      <th>111</th>\n",
       "      <td>rxcui:2550714</td>\n",
       "      <td>2</td>\n",
       "    </tr>\n",
       "    <tr>\n",
       "      <th>112</th>\n",
       "      <td>(CombinationTherapy, moa.ctid:C91ScST5e8OGj8fX...</td>\n",
       "      <td>2</td>\n",
       "    </tr>\n",
       "    <tr>\n",
       "      <th>113</th>\n",
       "      <td>(TherapeuticSubstituteGroup, civic.tsgid:bf_Bu...</td>\n",
       "      <td>2</td>\n",
       "    </tr>\n",
       "    <tr>\n",
       "      <th>114</th>\n",
       "      <td>(CombinationTherapy, civic.ctid:-TUOzS0ClpVaUo...</td>\n",
       "      <td>2</td>\n",
       "    </tr>\n",
       "  </tbody>\n",
       "</table>\n",
       "<p>115 rows × 2 columns</p>\n",
       "</div>"
      ],
      "text/plain": [
       "                                          Therapeutics  counts\n",
       "0                                        rxcui:1147220      71\n",
       "1                                         rxcui:337525      59\n",
       "2                                         rxcui:282388      48\n",
       "3                                         rxcui:318341      39\n",
       "4                                         rxcui:328134      31\n",
       "..                                                 ...     ...\n",
       "110                                       ncit:C115109       2\n",
       "111                                      rxcui:2550714       2\n",
       "112  (CombinationTherapy, moa.ctid:C91ScST5e8OGj8fX...       2\n",
       "113  (TherapeuticSubstituteGroup, civic.tsgid:bf_Bu...       2\n",
       "114  (CombinationTherapy, civic.ctid:-TUOzS0ClpVaUo...       2\n",
       "\n",
       "[115 rows x 2 columns]"
      ]
     },
     "execution_count": 197,
     "metadata": {},
     "output_type": "execute_result"
    }
   ],
   "source": [
    "tdf = df['obj'].value_counts().rename_axis('Therapeutics').reset_index(name='counts')\n",
    "tdf[0:115]"
   ]
  },
  {
   "cell_type": "code",
   "execution_count": 198,
   "metadata": {},
   "outputs": [
    {
     "data": {
      "text/html": [
       "<div>\n",
       "<style scoped>\n",
       "    .dataframe tbody tr th:only-of-type {\n",
       "        vertical-align: middle;\n",
       "    }\n",
       "\n",
       "    .dataframe tbody tr th {\n",
       "        vertical-align: top;\n",
       "    }\n",
       "\n",
       "    .dataframe thead th {\n",
       "        text-align: right;\n",
       "    }\n",
       "</style>\n",
       "<table border=\"1\" class=\"dataframe\">\n",
       "  <thead>\n",
       "    <tr style=\"text-align: right;\">\n",
       "      <th></th>\n",
       "      <th>Therapeutics</th>\n",
       "      <th>counts</th>\n",
       "      <th>is_duplicate</th>\n",
       "    </tr>\n",
       "  </thead>\n",
       "  <tbody>\n",
       "    <tr>\n",
       "      <th>0</th>\n",
       "      <td>rxcui:1147220</td>\n",
       "      <td>71</td>\n",
       "      <td>Duplicate</td>\n",
       "    </tr>\n",
       "    <tr>\n",
       "      <th>1</th>\n",
       "      <td>rxcui:337525</td>\n",
       "      <td>59</td>\n",
       "      <td>Duplicate</td>\n",
       "    </tr>\n",
       "    <tr>\n",
       "      <th>2</th>\n",
       "      <td>rxcui:282388</td>\n",
       "      <td>48</td>\n",
       "      <td>Duplicate</td>\n",
       "    </tr>\n",
       "    <tr>\n",
       "      <th>3</th>\n",
       "      <td>rxcui:318341</td>\n",
       "      <td>39</td>\n",
       "      <td>Duplicate</td>\n",
       "    </tr>\n",
       "    <tr>\n",
       "      <th>4</th>\n",
       "      <td>rxcui:328134</td>\n",
       "      <td>31</td>\n",
       "      <td>Duplicate</td>\n",
       "    </tr>\n",
       "    <tr>\n",
       "      <th>...</th>\n",
       "      <td>...</td>\n",
       "      <td>...</td>\n",
       "      <td>...</td>\n",
       "    </tr>\n",
       "    <tr>\n",
       "      <th>110</th>\n",
       "      <td>ncit:C115109</td>\n",
       "      <td>2</td>\n",
       "      <td>Duplicate</td>\n",
       "    </tr>\n",
       "    <tr>\n",
       "      <th>111</th>\n",
       "      <td>rxcui:2550714</td>\n",
       "      <td>2</td>\n",
       "      <td>Duplicate</td>\n",
       "    </tr>\n",
       "    <tr>\n",
       "      <th>112</th>\n",
       "      <td>(CombinationTherapy, moa.ctid:C91ScST5e8OGj8fX...</td>\n",
       "      <td>2</td>\n",
       "      <td>Duplicate</td>\n",
       "    </tr>\n",
       "    <tr>\n",
       "      <th>113</th>\n",
       "      <td>(TherapeuticSubstituteGroup, civic.tsgid:bf_Bu...</td>\n",
       "      <td>2</td>\n",
       "      <td>Duplicate</td>\n",
       "    </tr>\n",
       "    <tr>\n",
       "      <th>114</th>\n",
       "      <td>(CombinationTherapy, civic.ctid:-TUOzS0ClpVaUo...</td>\n",
       "      <td>2</td>\n",
       "      <td>Duplicate</td>\n",
       "    </tr>\n",
       "  </tbody>\n",
       "</table>\n",
       "<p>115 rows × 3 columns</p>\n",
       "</div>"
      ],
      "text/plain": [
       "                                          Therapeutics  counts is_duplicate\n",
       "0                                        rxcui:1147220      71    Duplicate\n",
       "1                                         rxcui:337525      59    Duplicate\n",
       "2                                         rxcui:282388      48    Duplicate\n",
       "3                                         rxcui:318341      39    Duplicate\n",
       "4                                         rxcui:328134      31    Duplicate\n",
       "..                                                 ...     ...          ...\n",
       "110                                       ncit:C115109       2    Duplicate\n",
       "111                                      rxcui:2550714       2    Duplicate\n",
       "112  (CombinationTherapy, moa.ctid:C91ScST5e8OGj8fX...       2    Duplicate\n",
       "113  (TherapeuticSubstituteGroup, civic.tsgid:bf_Bu...       2    Duplicate\n",
       "114  (CombinationTherapy, civic.ctid:-TUOzS0ClpVaUo...       2    Duplicate\n",
       "\n",
       "[115 rows x 3 columns]"
      ]
     },
     "execution_count": 198,
     "metadata": {},
     "output_type": "execute_result"
    }
   ],
   "source": [
    "tdf['is_duplicate'] = tdf['counts'].apply(duplicate_detect)\n",
    "tdf[0:115]"
   ]
  },
  {
   "cell_type": "code",
   "execution_count": 200,
   "metadata": {},
   "outputs": [
    {
     "data": {
      "application/vnd.plotly.v1+json": {
       "config": {
        "plotlyServerURL": "https://plot.ly"
       },
       "data": [
        {
         "alignmentgroup": "True",
         "hovertemplate": "Therapeutics=%{x}<br>counts=%{y}<extra></extra>",
         "legendgroup": "",
         "marker": {
          "color": "#636efa",
          "pattern": {
           "shape": ""
          }
         },
         "name": "",
         "offsetgroup": "",
         "orientation": "v",
         "showlegend": false,
         "textposition": "auto",
         "type": "bar",
         "x": [
          "rxcui:1147220",
          "rxcui:337525",
          "rxcui:282388",
          "rxcui:318341",
          "rxcui:328134",
          "ncit:C165479",
          "rxcui:2289380",
          "rxcui:1546019",
          [
           "TherapeuticSubstituteGroup",
           "civic.tsgid:IMgxRLc3XTtFhF3LrdtkdhJqiCh-_3dE"
          ],
          "rxcui:1721560",
          "rxcui:357977",
          "rxcui:1430438",
          [
           "TherapeuticSubstituteGroup",
           "civic.tsgid:MHwrYYGaDMmdgFLNboI18QBl-zDj5Wso"
          ],
          "rxcui:6718",
          [
           "CombinationTherapy",
           "civic.ctid:oBrlcO23adoVXv51xh-5Wigy0QyDWtfr"
          ],
          [
           "TherapeuticSubstituteGroup",
           "civic.tsgid:7IxyhCwID0QYyVCP2xuIyYvwwu-S_HrZ"
          ],
          "rxcui:1312397",
          "ncit:C171616",
          [
           "CombinationTherapy",
           "civic.ctid:E39_bNJqxD2YlQvEbnaYPTYj7A6sKF3V"
          ],
          "rxcui:1148495",
          "rxcui:263034",
          "ncit:C152914",
          "rxcui:142433",
          "rxcui:1307619",
          "rxcui:1425098",
          "rxcui:662281",
          "rxcui:1940643",
          "rxcui:480167",
          "rxcui:2049873",
          [
           "CombinationTherapy",
           "civic.ctid:23p9szOW83imwzdNpS6omDSCucd7VZPf"
          ],
          "rxcui:1364347",
          "rxcui:2267574",
          [
           "CombinationTherapy",
           "moa.ctid:IAMn2xc8QDzi0_zvPzrGlronyv01Coqs"
          ],
          "rxcui:495881",
          "rxcui:1424911",
          "rxcui:2058848",
          "rxcui:2103478",
          "rxcui:35302",
          "rxcui:2274378",
          "rxcui:1442981",
          [
           "TherapeuticSubstituteGroup",
           "civic.tsgid:R8MiNUEpMs_dHqM95yJGpkvXevdk6azb"
          ],
          "rxcui:1535457",
          "iuphar.ligand:5701",
          "rxcui:1193326",
          [
           "TherapeuticSubstituteGroup",
           "civic.tsgid:Dsj0jsyr-fQXgAxQL6jcaLTVy4zoAdvF"
          ],
          "ncit:C64639",
          "rxcui:1597582",
          "ncit:C74072",
          "rxcui:1371041",
          "ncit:C129687",
          "rxcui:2105806",
          "ncit:C147908",
          "rxcui:2555",
          [
           "CombinationTherapy",
           "civic.ctid:fhoJlflGcyI7CoY-_bzWLsBwlsn7GwLN"
          ],
          "rxcui:1747556",
          [
           "TherapeuticSubstituteGroup",
           "civic.tsgid:jKuLlWRt_pXwz9R2lQrLzMdihFWFZMMK"
          ],
          [
           "TherapeuticSubstituteGroup",
           "civic.tsgid:tWJleGyed3g0Eqv1ASxYxVix6lJUtxhw"
          ],
          "rxcui:1242987",
          [
           "TherapeuticSubstituteGroup",
           "civic.tsgid:b5WTtG7LRkGXmkK9gDSA00gJ_AiZvgnj"
          ],
          [
           "CombinationTherapy",
           "civic.ctid:rF1JcnGq_-VTc0yiCsNIORfNqXQCC3yM"
          ],
          "rxcui:2123125",
          "rxcui:1940332",
          "rxcui:2272107",
          [
           "TherapeuticSubstituteGroup",
           "civic.tsgid:wsLrVLsW3tlJpvelphvNfi7j0WAQrFVD"
          ],
          "ncit:C171615",
          [
           "TherapeuticSubstituteGroup",
           "civic.tsgid:pRXLOTUcGy266tKwrptqo3E3XUUSTYZh"
          ],
          "rxcui:2103164",
          [
           "TherapeuticSubstituteGroup",
           "civic.tsgid:EFgr37MY89Im6stpaZjt2xyMOX1et0He"
          ],
          [
           "TherapeuticSubstituteGroup",
           "civic.tsgid:XfIozULZDMYsSPTJsoBBE_VUj4zzkscC"
          ],
          [
           "TherapeuticSubstituteGroup",
           "civic.tsgid:gVgGkpzxqiqLKaKyQVlfGYCzm6HVoRcE"
          ],
          [
           "TherapeuticSubstituteGroup",
           "civic.tsgid:D46xUyn1b10HAjpKd6R9Pk2F5e_Dhj3C"
          ],
          "rxcui:2370147",
          "ncit:C68936",
          "rxcui:1547545",
          "rxcui:37776",
          "rxcui:1919083",
          "ncit:C99905",
          "rxcui:141704",
          "ncit:C48402",
          "ncit:C158603",
          "iuphar.ligand:9240",
          [
           "TherapeuticSubstituteGroup",
           "civic.tsgid:DikLqTiUzvlAynTzqBw5f3Cj5Arf5sW1"
          ],
          [
           "CombinationTherapy",
           "civic.ctid:XLPSZcKSHPHqVNFvaTkpEccouN1BleTZ"
          ],
          [
           "CombinationTherapy",
           "moa.ctid:fImZ7uz-ZC2vosZSuS-gdJcQGXu3l6l7"
          ],
          "rxcui:2049106",
          "rxcui:153329",
          "rxcui:32592",
          [
           "CombinationTherapy",
           "civic.ctid:aqQX-Uu5M67jU4vqRwbOB7diuYQozPtZ"
          ],
          [
           "CombinationTherapy",
           "civic.ctid:7g5X81wE2go4GE_fB45SjFamVMgpnwsA"
          ],
          [
           "CombinationTherapy",
           "civic.ctid:Exy3-S7snfyhQHnOQ6ZbukSAmtGQaYfA"
          ],
          "ncit:C71896",
          "rxcui:1601374",
          "rxcui:1363267",
          "rxcui:3041",
          "ncit:C102564",
          "rxcui:4492",
          "ncit:C77588",
          [
           "TherapeuticSubstituteGroup",
           "civic.tsgid:KuD9fVxtGEzkO9TjmpGN0Xt5x68Qm7S-"
          ],
          [
           "TherapeuticSubstituteGroup",
           "civic.tsgid:sRHtqV0Bx8glrh6cOUCk7nrpqP0Eeqrn"
          ],
          [
           "TherapeuticSubstituteGroup",
           "civic.tsgid:xFFut3eEUjgeT2G4uNtiphTfxMQw9B4X"
          ],
          "ncit:C157493",
          [
           "TherapeuticSubstituteGroup",
           "civic.tsgid:cI8a1KqlKHGJhEYJvUfvA11fkiIQd--H"
          ],
          "iuphar.ligand:5282",
          [
           "TherapeuticSubstituteGroup",
           "civic.tsgid:f0IOBQHIv94-aVcb5dMKA9rkPpDFY0jD"
          ],
          "ncit:C90581",
          "drugbank:DB12638",
          "rxcui:714438",
          [
           "CombinationTherapy",
           "civic.ctid:DL-rzLeUUdAwgqhOo4lMSKVLq4CR4E9_"
          ],
          "ncit:C91731",
          "ncit:C120307",
          "ncit:C115109",
          "rxcui:2550714",
          [
           "CombinationTherapy",
           "moa.ctid:C91ScST5e8OGj8fXpwjf1rACl3_viw9L"
          ],
          [
           "TherapeuticSubstituteGroup",
           "civic.tsgid:bf_BuyNMwaqXScLEAS5F0_LZZf1t1H2f"
          ],
          [
           "CombinationTherapy",
           "civic.ctid:-TUOzS0ClpVaUo5oisn2Bt0H0ZHPi1cJ"
          ]
         ],
         "xaxis": "x",
         "y": [
          71,
          59,
          48,
          39,
          31,
          31,
          24,
          24,
          22,
          21,
          20,
          19,
          17,
          16,
          16,
          16,
          15,
          14,
          14,
          14,
          13,
          13,
          12,
          12,
          12,
          12,
          11,
          11,
          10,
          9,
          9,
          9,
          8,
          8,
          7,
          7,
          7,
          6,
          6,
          6,
          6,
          6,
          5,
          5,
          5,
          5,
          5,
          5,
          5,
          5,
          5,
          5,
          4,
          4,
          4,
          4,
          4,
          4,
          4,
          4,
          4,
          3,
          3,
          3,
          3,
          3,
          3,
          3,
          3,
          3,
          3,
          3,
          3,
          3,
          3,
          3,
          3,
          3,
          2,
          2,
          2,
          2,
          2,
          2,
          2,
          2,
          2,
          2,
          2,
          2,
          2,
          2,
          2,
          2,
          2,
          2,
          2,
          2,
          2,
          2,
          2,
          2,
          2,
          2,
          2,
          2,
          2,
          2,
          2,
          2,
          2,
          2,
          2,
          2,
          2
         ],
         "yaxis": "y"
        }
       ],
       "layout": {
        "bargap": 0.2,
        "barmode": "relative",
        "legend": {
         "tracegroupgap": 0
        },
        "template": {
         "data": {
          "bar": [
           {
            "error_x": {
             "color": "#2a3f5f"
            },
            "error_y": {
             "color": "#2a3f5f"
            },
            "marker": {
             "line": {
              "color": "#E5ECF6",
              "width": 0.5
             },
             "pattern": {
              "fillmode": "overlay",
              "size": 10,
              "solidity": 0.2
             }
            },
            "type": "bar"
           }
          ],
          "barpolar": [
           {
            "marker": {
             "line": {
              "color": "#E5ECF6",
              "width": 0.5
             },
             "pattern": {
              "fillmode": "overlay",
              "size": 10,
              "solidity": 0.2
             }
            },
            "type": "barpolar"
           }
          ],
          "carpet": [
           {
            "aaxis": {
             "endlinecolor": "#2a3f5f",
             "gridcolor": "white",
             "linecolor": "white",
             "minorgridcolor": "white",
             "startlinecolor": "#2a3f5f"
            },
            "baxis": {
             "endlinecolor": "#2a3f5f",
             "gridcolor": "white",
             "linecolor": "white",
             "minorgridcolor": "white",
             "startlinecolor": "#2a3f5f"
            },
            "type": "carpet"
           }
          ],
          "choropleth": [
           {
            "colorbar": {
             "outlinewidth": 0,
             "ticks": ""
            },
            "type": "choropleth"
           }
          ],
          "contour": [
           {
            "colorbar": {
             "outlinewidth": 0,
             "ticks": ""
            },
            "colorscale": [
             [
              0,
              "#0d0887"
             ],
             [
              0.1111111111111111,
              "#46039f"
             ],
             [
              0.2222222222222222,
              "#7201a8"
             ],
             [
              0.3333333333333333,
              "#9c179e"
             ],
             [
              0.4444444444444444,
              "#bd3786"
             ],
             [
              0.5555555555555556,
              "#d8576b"
             ],
             [
              0.6666666666666666,
              "#ed7953"
             ],
             [
              0.7777777777777778,
              "#fb9f3a"
             ],
             [
              0.8888888888888888,
              "#fdca26"
             ],
             [
              1,
              "#f0f921"
             ]
            ],
            "type": "contour"
           }
          ],
          "contourcarpet": [
           {
            "colorbar": {
             "outlinewidth": 0,
             "ticks": ""
            },
            "type": "contourcarpet"
           }
          ],
          "heatmap": [
           {
            "colorbar": {
             "outlinewidth": 0,
             "ticks": ""
            },
            "colorscale": [
             [
              0,
              "#0d0887"
             ],
             [
              0.1111111111111111,
              "#46039f"
             ],
             [
              0.2222222222222222,
              "#7201a8"
             ],
             [
              0.3333333333333333,
              "#9c179e"
             ],
             [
              0.4444444444444444,
              "#bd3786"
             ],
             [
              0.5555555555555556,
              "#d8576b"
             ],
             [
              0.6666666666666666,
              "#ed7953"
             ],
             [
              0.7777777777777778,
              "#fb9f3a"
             ],
             [
              0.8888888888888888,
              "#fdca26"
             ],
             [
              1,
              "#f0f921"
             ]
            ],
            "type": "heatmap"
           }
          ],
          "heatmapgl": [
           {
            "colorbar": {
             "outlinewidth": 0,
             "ticks": ""
            },
            "colorscale": [
             [
              0,
              "#0d0887"
             ],
             [
              0.1111111111111111,
              "#46039f"
             ],
             [
              0.2222222222222222,
              "#7201a8"
             ],
             [
              0.3333333333333333,
              "#9c179e"
             ],
             [
              0.4444444444444444,
              "#bd3786"
             ],
             [
              0.5555555555555556,
              "#d8576b"
             ],
             [
              0.6666666666666666,
              "#ed7953"
             ],
             [
              0.7777777777777778,
              "#fb9f3a"
             ],
             [
              0.8888888888888888,
              "#fdca26"
             ],
             [
              1,
              "#f0f921"
             ]
            ],
            "type": "heatmapgl"
           }
          ],
          "histogram": [
           {
            "marker": {
             "pattern": {
              "fillmode": "overlay",
              "size": 10,
              "solidity": 0.2
             }
            },
            "type": "histogram"
           }
          ],
          "histogram2d": [
           {
            "colorbar": {
             "outlinewidth": 0,
             "ticks": ""
            },
            "colorscale": [
             [
              0,
              "#0d0887"
             ],
             [
              0.1111111111111111,
              "#46039f"
             ],
             [
              0.2222222222222222,
              "#7201a8"
             ],
             [
              0.3333333333333333,
              "#9c179e"
             ],
             [
              0.4444444444444444,
              "#bd3786"
             ],
             [
              0.5555555555555556,
              "#d8576b"
             ],
             [
              0.6666666666666666,
              "#ed7953"
             ],
             [
              0.7777777777777778,
              "#fb9f3a"
             ],
             [
              0.8888888888888888,
              "#fdca26"
             ],
             [
              1,
              "#f0f921"
             ]
            ],
            "type": "histogram2d"
           }
          ],
          "histogram2dcontour": [
           {
            "colorbar": {
             "outlinewidth": 0,
             "ticks": ""
            },
            "colorscale": [
             [
              0,
              "#0d0887"
             ],
             [
              0.1111111111111111,
              "#46039f"
             ],
             [
              0.2222222222222222,
              "#7201a8"
             ],
             [
              0.3333333333333333,
              "#9c179e"
             ],
             [
              0.4444444444444444,
              "#bd3786"
             ],
             [
              0.5555555555555556,
              "#d8576b"
             ],
             [
              0.6666666666666666,
              "#ed7953"
             ],
             [
              0.7777777777777778,
              "#fb9f3a"
             ],
             [
              0.8888888888888888,
              "#fdca26"
             ],
             [
              1,
              "#f0f921"
             ]
            ],
            "type": "histogram2dcontour"
           }
          ],
          "mesh3d": [
           {
            "colorbar": {
             "outlinewidth": 0,
             "ticks": ""
            },
            "type": "mesh3d"
           }
          ],
          "parcoords": [
           {
            "line": {
             "colorbar": {
              "outlinewidth": 0,
              "ticks": ""
             }
            },
            "type": "parcoords"
           }
          ],
          "pie": [
           {
            "automargin": true,
            "type": "pie"
           }
          ],
          "scatter": [
           {
            "fillpattern": {
             "fillmode": "overlay",
             "size": 10,
             "solidity": 0.2
            },
            "type": "scatter"
           }
          ],
          "scatter3d": [
           {
            "line": {
             "colorbar": {
              "outlinewidth": 0,
              "ticks": ""
             }
            },
            "marker": {
             "colorbar": {
              "outlinewidth": 0,
              "ticks": ""
             }
            },
            "type": "scatter3d"
           }
          ],
          "scattercarpet": [
           {
            "marker": {
             "colorbar": {
              "outlinewidth": 0,
              "ticks": ""
             }
            },
            "type": "scattercarpet"
           }
          ],
          "scattergeo": [
           {
            "marker": {
             "colorbar": {
              "outlinewidth": 0,
              "ticks": ""
             }
            },
            "type": "scattergeo"
           }
          ],
          "scattergl": [
           {
            "marker": {
             "colorbar": {
              "outlinewidth": 0,
              "ticks": ""
             }
            },
            "type": "scattergl"
           }
          ],
          "scattermapbox": [
           {
            "marker": {
             "colorbar": {
              "outlinewidth": 0,
              "ticks": ""
             }
            },
            "type": "scattermapbox"
           }
          ],
          "scatterpolar": [
           {
            "marker": {
             "colorbar": {
              "outlinewidth": 0,
              "ticks": ""
             }
            },
            "type": "scatterpolar"
           }
          ],
          "scatterpolargl": [
           {
            "marker": {
             "colorbar": {
              "outlinewidth": 0,
              "ticks": ""
             }
            },
            "type": "scatterpolargl"
           }
          ],
          "scatterternary": [
           {
            "marker": {
             "colorbar": {
              "outlinewidth": 0,
              "ticks": ""
             }
            },
            "type": "scatterternary"
           }
          ],
          "surface": [
           {
            "colorbar": {
             "outlinewidth": 0,
             "ticks": ""
            },
            "colorscale": [
             [
              0,
              "#0d0887"
             ],
             [
              0.1111111111111111,
              "#46039f"
             ],
             [
              0.2222222222222222,
              "#7201a8"
             ],
             [
              0.3333333333333333,
              "#9c179e"
             ],
             [
              0.4444444444444444,
              "#bd3786"
             ],
             [
              0.5555555555555556,
              "#d8576b"
             ],
             [
              0.6666666666666666,
              "#ed7953"
             ],
             [
              0.7777777777777778,
              "#fb9f3a"
             ],
             [
              0.8888888888888888,
              "#fdca26"
             ],
             [
              1,
              "#f0f921"
             ]
            ],
            "type": "surface"
           }
          ],
          "table": [
           {
            "cells": {
             "fill": {
              "color": "#EBF0F8"
             },
             "line": {
              "color": "white"
             }
            },
            "header": {
             "fill": {
              "color": "#C8D4E3"
             },
             "line": {
              "color": "white"
             }
            },
            "type": "table"
           }
          ]
         },
         "layout": {
          "annotationdefaults": {
           "arrowcolor": "#2a3f5f",
           "arrowhead": 0,
           "arrowwidth": 1
          },
          "autotypenumbers": "strict",
          "coloraxis": {
           "colorbar": {
            "outlinewidth": 0,
            "ticks": ""
           }
          },
          "colorscale": {
           "diverging": [
            [
             0,
             "#8e0152"
            ],
            [
             0.1,
             "#c51b7d"
            ],
            [
             0.2,
             "#de77ae"
            ],
            [
             0.3,
             "#f1b6da"
            ],
            [
             0.4,
             "#fde0ef"
            ],
            [
             0.5,
             "#f7f7f7"
            ],
            [
             0.6,
             "#e6f5d0"
            ],
            [
             0.7,
             "#b8e186"
            ],
            [
             0.8,
             "#7fbc41"
            ],
            [
             0.9,
             "#4d9221"
            ],
            [
             1,
             "#276419"
            ]
           ],
           "sequential": [
            [
             0,
             "#0d0887"
            ],
            [
             0.1111111111111111,
             "#46039f"
            ],
            [
             0.2222222222222222,
             "#7201a8"
            ],
            [
             0.3333333333333333,
             "#9c179e"
            ],
            [
             0.4444444444444444,
             "#bd3786"
            ],
            [
             0.5555555555555556,
             "#d8576b"
            ],
            [
             0.6666666666666666,
             "#ed7953"
            ],
            [
             0.7777777777777778,
             "#fb9f3a"
            ],
            [
             0.8888888888888888,
             "#fdca26"
            ],
            [
             1,
             "#f0f921"
            ]
           ],
           "sequentialminus": [
            [
             0,
             "#0d0887"
            ],
            [
             0.1111111111111111,
             "#46039f"
            ],
            [
             0.2222222222222222,
             "#7201a8"
            ],
            [
             0.3333333333333333,
             "#9c179e"
            ],
            [
             0.4444444444444444,
             "#bd3786"
            ],
            [
             0.5555555555555556,
             "#d8576b"
            ],
            [
             0.6666666666666666,
             "#ed7953"
            ],
            [
             0.7777777777777778,
             "#fb9f3a"
            ],
            [
             0.8888888888888888,
             "#fdca26"
            ],
            [
             1,
             "#f0f921"
            ]
           ]
          },
          "colorway": [
           "#636efa",
           "#EF553B",
           "#00cc96",
           "#ab63fa",
           "#FFA15A",
           "#19d3f3",
           "#FF6692",
           "#B6E880",
           "#FF97FF",
           "#FECB52"
          ],
          "font": {
           "color": "#2a3f5f"
          },
          "geo": {
           "bgcolor": "white",
           "lakecolor": "white",
           "landcolor": "#E5ECF6",
           "showlakes": true,
           "showland": true,
           "subunitcolor": "white"
          },
          "hoverlabel": {
           "align": "left"
          },
          "hovermode": "closest",
          "mapbox": {
           "style": "light"
          },
          "paper_bgcolor": "white",
          "plot_bgcolor": "#E5ECF6",
          "polar": {
           "angularaxis": {
            "gridcolor": "white",
            "linecolor": "white",
            "ticks": ""
           },
           "bgcolor": "#E5ECF6",
           "radialaxis": {
            "gridcolor": "white",
            "linecolor": "white",
            "ticks": ""
           }
          },
          "scene": {
           "xaxis": {
            "backgroundcolor": "#E5ECF6",
            "gridcolor": "white",
            "gridwidth": 2,
            "linecolor": "white",
            "showbackground": true,
            "ticks": "",
            "zerolinecolor": "white"
           },
           "yaxis": {
            "backgroundcolor": "#E5ECF6",
            "gridcolor": "white",
            "gridwidth": 2,
            "linecolor": "white",
            "showbackground": true,
            "ticks": "",
            "zerolinecolor": "white"
           },
           "zaxis": {
            "backgroundcolor": "#E5ECF6",
            "gridcolor": "white",
            "gridwidth": 2,
            "linecolor": "white",
            "showbackground": true,
            "ticks": "",
            "zerolinecolor": "white"
           }
          },
          "shapedefaults": {
           "line": {
            "color": "#2a3f5f"
           }
          },
          "ternary": {
           "aaxis": {
            "gridcolor": "white",
            "linecolor": "white",
            "ticks": ""
           },
           "baxis": {
            "gridcolor": "white",
            "linecolor": "white",
            "ticks": ""
           },
           "bgcolor": "#E5ECF6",
           "caxis": {
            "gridcolor": "white",
            "linecolor": "white",
            "ticks": ""
           }
          },
          "title": {
           "x": 0.05
          },
          "xaxis": {
           "automargin": true,
           "gridcolor": "white",
           "linecolor": "white",
           "ticks": "",
           "title": {
            "standoff": 15
           },
           "zerolinecolor": "white",
           "zerolinewidth": 2
          },
          "yaxis": {
           "automargin": true,
           "gridcolor": "white",
           "linecolor": "white",
           "ticks": "",
           "title": {
            "standoff": 15
           },
           "zerolinecolor": "white",
           "zerolinewidth": 2
          }
         }
        },
        "title": {
         "text": "Overlap of Therapeutic Evidence in MetaKB v2"
        },
        "xaxis": {
         "anchor": "y",
         "domain": [
          0,
          1
         ],
         "tickfont": {
          "size": 4
         },
         "title": {
          "text": "Therapeutics"
         }
        },
        "yaxis": {
         "anchor": "x",
         "domain": [
          0,
          1
         ],
         "title": {
          "text": "# of Study Statements containing Therapeutic"
         }
        }
       }
      }
     },
     "metadata": {},
     "output_type": "display_data"
    }
   ],
   "source": [
    "# Bar Graph of Evidence Overlap\n",
    "fig = px.bar(tdf[0:115], x='Therapeutics', y='counts', title='Overlap of Therapeutic Evidence in MetaKB v2')\n",
    "fig.update_layout(yaxis_title='# of Study Statements containing Therapeutic',\n",
    "                  xaxis=dict(tickfont=dict(size=4)),\n",
    "                  bargap=0.2)\n",
    "fig.show()\n",
    "pio.write_image(fig, \"Therapeutic_overlap_bar.png\", format='png', width=1500, height=500, scale=5)"
   ]
  },
  {
   "cell_type": "code",
   "execution_count": 202,
   "metadata": {},
   "outputs": [
    {
     "data": {
      "application/vnd.plotly.v1+json": {
       "config": {
        "plotlyServerURL": "https://plot.ly"
       },
       "data": [
        {
         "domain": {
          "x": [
           0,
           1
          ],
          "y": [
           0,
           1
          ]
         },
         "hovertemplate": "is_duplicate=%{label}<br>counts=%{value}<extra></extra>",
         "labels": [
          "Duplicate",
          "Duplicate",
          "Duplicate",
          "Duplicate",
          "Duplicate",
          "Duplicate",
          "Duplicate",
          "Duplicate",
          "Duplicate",
          "Duplicate",
          "Duplicate",
          "Duplicate",
          "Duplicate",
          "Duplicate",
          "Duplicate",
          "Duplicate",
          "Duplicate",
          "Duplicate",
          "Duplicate",
          "Duplicate",
          "Duplicate",
          "Duplicate",
          "Duplicate",
          "Duplicate",
          "Duplicate",
          "Duplicate",
          "Duplicate",
          "Duplicate",
          "Duplicate",
          "Duplicate",
          "Duplicate",
          "Duplicate",
          "Duplicate",
          "Duplicate",
          "Duplicate",
          "Duplicate",
          "Duplicate",
          "Duplicate",
          "Duplicate",
          "Duplicate",
          "Duplicate",
          "Duplicate",
          "Duplicate",
          "Duplicate",
          "Duplicate",
          "Duplicate",
          "Duplicate",
          "Duplicate",
          "Duplicate",
          "Duplicate",
          "Duplicate",
          "Duplicate",
          "Duplicate",
          "Duplicate",
          "Duplicate",
          "Duplicate",
          "Duplicate",
          "Duplicate",
          "Duplicate",
          "Duplicate",
          "Duplicate",
          "Duplicate",
          "Duplicate",
          "Duplicate",
          "Duplicate",
          "Duplicate",
          "Duplicate",
          "Duplicate",
          "Duplicate",
          "Duplicate",
          "Duplicate",
          "Duplicate",
          "Duplicate",
          "Duplicate",
          "Duplicate",
          "Duplicate",
          "Duplicate",
          "Duplicate",
          "Duplicate",
          "Duplicate",
          "Duplicate",
          "Duplicate",
          "Duplicate",
          "Duplicate",
          "Duplicate",
          "Duplicate",
          "Duplicate",
          "Duplicate",
          "Duplicate",
          "Duplicate",
          "Duplicate",
          "Duplicate",
          "Duplicate",
          "Duplicate",
          "Duplicate",
          "Duplicate",
          "Duplicate",
          "Duplicate",
          "Duplicate",
          "Duplicate",
          "Duplicate",
          "Duplicate",
          "Duplicate",
          "Duplicate",
          "Duplicate",
          "Duplicate",
          "Duplicate",
          "Duplicate",
          "Duplicate",
          "Duplicate",
          "Duplicate",
          "Duplicate",
          "Duplicate",
          "Duplicate",
          "Duplicate",
          "Not Duplicate",
          "Not Duplicate",
          "Not Duplicate",
          "Not Duplicate",
          "Not Duplicate",
          "Not Duplicate",
          "Not Duplicate",
          "Not Duplicate",
          "Not Duplicate",
          "Not Duplicate",
          "Not Duplicate",
          "Not Duplicate",
          "Not Duplicate",
          "Not Duplicate",
          "Not Duplicate",
          "Not Duplicate",
          "Not Duplicate",
          "Not Duplicate",
          "Not Duplicate",
          "Not Duplicate",
          "Not Duplicate",
          "Not Duplicate",
          "Not Duplicate",
          "Not Duplicate",
          "Not Duplicate",
          "Not Duplicate",
          "Not Duplicate",
          "Not Duplicate",
          "Not Duplicate",
          "Not Duplicate",
          "Not Duplicate",
          "Not Duplicate",
          "Not Duplicate",
          "Not Duplicate",
          "Not Duplicate",
          "Not Duplicate",
          "Not Duplicate",
          "Not Duplicate",
          "Not Duplicate",
          "Not Duplicate",
          "Not Duplicate",
          "Not Duplicate",
          "Not Duplicate",
          "Not Duplicate",
          "Not Duplicate",
          "Not Duplicate",
          "Not Duplicate",
          "Not Duplicate",
          "Not Duplicate",
          "Not Duplicate",
          "Not Duplicate",
          "Not Duplicate",
          "Not Duplicate",
          "Not Duplicate",
          "Not Duplicate",
          "Not Duplicate",
          "Not Duplicate",
          "Not Duplicate",
          "Not Duplicate",
          "Not Duplicate",
          "Not Duplicate",
          "Not Duplicate",
          "Not Duplicate",
          "Not Duplicate",
          "Not Duplicate",
          "Not Duplicate",
          "Not Duplicate",
          "Not Duplicate",
          "Not Duplicate",
          "Not Duplicate",
          "Not Duplicate",
          "Not Duplicate",
          "Not Duplicate",
          "Not Duplicate",
          "Not Duplicate",
          "Not Duplicate",
          "Not Duplicate",
          "Not Duplicate",
          "Not Duplicate",
          "Not Duplicate",
          "Not Duplicate",
          "Not Duplicate",
          "Not Duplicate",
          "Not Duplicate",
          "Not Duplicate",
          "Not Duplicate",
          "Not Duplicate",
          "Not Duplicate",
          "Not Duplicate",
          "Not Duplicate",
          "Not Duplicate",
          "Not Duplicate",
          "Not Duplicate",
          "Not Duplicate",
          "Not Duplicate",
          "Not Duplicate",
          "Not Duplicate",
          "Not Duplicate",
          "Not Duplicate",
          "Not Duplicate",
          "Not Duplicate",
          "Not Duplicate",
          "Not Duplicate",
          "Not Duplicate",
          "Not Duplicate",
          "Not Duplicate",
          "Not Duplicate",
          "Not Duplicate",
          "Not Duplicate",
          "Not Duplicate",
          "Not Duplicate",
          "Not Duplicate",
          "Not Duplicate",
          "Not Duplicate",
          "Not Duplicate",
          "Not Duplicate",
          "Not Duplicate",
          "Not Duplicate",
          "Not Duplicate",
          "Not Duplicate"
         ],
         "legendgroup": "",
         "name": "",
         "showlegend": true,
         "textinfo": "percent+label",
         "type": "pie",
         "values": [
          71,
          59,
          48,
          39,
          31,
          31,
          24,
          24,
          22,
          21,
          20,
          19,
          17,
          16,
          16,
          16,
          15,
          14,
          14,
          14,
          13,
          13,
          12,
          12,
          12,
          12,
          11,
          11,
          10,
          9,
          9,
          9,
          8,
          8,
          7,
          7,
          7,
          6,
          6,
          6,
          6,
          6,
          5,
          5,
          5,
          5,
          5,
          5,
          5,
          5,
          5,
          5,
          4,
          4,
          4,
          4,
          4,
          4,
          4,
          4,
          4,
          3,
          3,
          3,
          3,
          3,
          3,
          3,
          3,
          3,
          3,
          3,
          3,
          3,
          3,
          3,
          3,
          3,
          2,
          2,
          2,
          2,
          2,
          2,
          2,
          2,
          2,
          2,
          2,
          2,
          2,
          2,
          2,
          2,
          2,
          2,
          2,
          2,
          2,
          2,
          2,
          2,
          2,
          2,
          2,
          2,
          2,
          2,
          2,
          2,
          2,
          2,
          2,
          2,
          2,
          1,
          1,
          1,
          1,
          1,
          1,
          1,
          1,
          1,
          1,
          1,
          1,
          1,
          1,
          1,
          1,
          1,
          1,
          1,
          1,
          1,
          1,
          1,
          1,
          1,
          1,
          1,
          1,
          1,
          1,
          1,
          1,
          1,
          1,
          1,
          1,
          1,
          1,
          1,
          1,
          1,
          1,
          1,
          1,
          1,
          1,
          1,
          1,
          1,
          1,
          1,
          1,
          1,
          1,
          1,
          1,
          1,
          1,
          1,
          1,
          1,
          1,
          1,
          1,
          1,
          1,
          1,
          1,
          1,
          1,
          1,
          1,
          1,
          1,
          1,
          1,
          1,
          1,
          1,
          1,
          1,
          1,
          1,
          1,
          1,
          1,
          1,
          1,
          1,
          1,
          1,
          1,
          1,
          1,
          1,
          1,
          1,
          1,
          1,
          1,
          1,
          1,
          1,
          1,
          1,
          1,
          1,
          1,
          1,
          1,
          1,
          1,
          1,
          1,
          1,
          1,
          1,
          1,
          1,
          1
         ]
        }
       ],
       "layout": {
        "legend": {
         "tracegroupgap": 0
        },
        "template": {
         "data": {
          "bar": [
           {
            "error_x": {
             "color": "#2a3f5f"
            },
            "error_y": {
             "color": "#2a3f5f"
            },
            "marker": {
             "line": {
              "color": "#E5ECF6",
              "width": 0.5
             },
             "pattern": {
              "fillmode": "overlay",
              "size": 10,
              "solidity": 0.2
             }
            },
            "type": "bar"
           }
          ],
          "barpolar": [
           {
            "marker": {
             "line": {
              "color": "#E5ECF6",
              "width": 0.5
             },
             "pattern": {
              "fillmode": "overlay",
              "size": 10,
              "solidity": 0.2
             }
            },
            "type": "barpolar"
           }
          ],
          "carpet": [
           {
            "aaxis": {
             "endlinecolor": "#2a3f5f",
             "gridcolor": "white",
             "linecolor": "white",
             "minorgridcolor": "white",
             "startlinecolor": "#2a3f5f"
            },
            "baxis": {
             "endlinecolor": "#2a3f5f",
             "gridcolor": "white",
             "linecolor": "white",
             "minorgridcolor": "white",
             "startlinecolor": "#2a3f5f"
            },
            "type": "carpet"
           }
          ],
          "choropleth": [
           {
            "colorbar": {
             "outlinewidth": 0,
             "ticks": ""
            },
            "type": "choropleth"
           }
          ],
          "contour": [
           {
            "colorbar": {
             "outlinewidth": 0,
             "ticks": ""
            },
            "colorscale": [
             [
              0,
              "#0d0887"
             ],
             [
              0.1111111111111111,
              "#46039f"
             ],
             [
              0.2222222222222222,
              "#7201a8"
             ],
             [
              0.3333333333333333,
              "#9c179e"
             ],
             [
              0.4444444444444444,
              "#bd3786"
             ],
             [
              0.5555555555555556,
              "#d8576b"
             ],
             [
              0.6666666666666666,
              "#ed7953"
             ],
             [
              0.7777777777777778,
              "#fb9f3a"
             ],
             [
              0.8888888888888888,
              "#fdca26"
             ],
             [
              1,
              "#f0f921"
             ]
            ],
            "type": "contour"
           }
          ],
          "contourcarpet": [
           {
            "colorbar": {
             "outlinewidth": 0,
             "ticks": ""
            },
            "type": "contourcarpet"
           }
          ],
          "heatmap": [
           {
            "colorbar": {
             "outlinewidth": 0,
             "ticks": ""
            },
            "colorscale": [
             [
              0,
              "#0d0887"
             ],
             [
              0.1111111111111111,
              "#46039f"
             ],
             [
              0.2222222222222222,
              "#7201a8"
             ],
             [
              0.3333333333333333,
              "#9c179e"
             ],
             [
              0.4444444444444444,
              "#bd3786"
             ],
             [
              0.5555555555555556,
              "#d8576b"
             ],
             [
              0.6666666666666666,
              "#ed7953"
             ],
             [
              0.7777777777777778,
              "#fb9f3a"
             ],
             [
              0.8888888888888888,
              "#fdca26"
             ],
             [
              1,
              "#f0f921"
             ]
            ],
            "type": "heatmap"
           }
          ],
          "heatmapgl": [
           {
            "colorbar": {
             "outlinewidth": 0,
             "ticks": ""
            },
            "colorscale": [
             [
              0,
              "#0d0887"
             ],
             [
              0.1111111111111111,
              "#46039f"
             ],
             [
              0.2222222222222222,
              "#7201a8"
             ],
             [
              0.3333333333333333,
              "#9c179e"
             ],
             [
              0.4444444444444444,
              "#bd3786"
             ],
             [
              0.5555555555555556,
              "#d8576b"
             ],
             [
              0.6666666666666666,
              "#ed7953"
             ],
             [
              0.7777777777777778,
              "#fb9f3a"
             ],
             [
              0.8888888888888888,
              "#fdca26"
             ],
             [
              1,
              "#f0f921"
             ]
            ],
            "type": "heatmapgl"
           }
          ],
          "histogram": [
           {
            "marker": {
             "pattern": {
              "fillmode": "overlay",
              "size": 10,
              "solidity": 0.2
             }
            },
            "type": "histogram"
           }
          ],
          "histogram2d": [
           {
            "colorbar": {
             "outlinewidth": 0,
             "ticks": ""
            },
            "colorscale": [
             [
              0,
              "#0d0887"
             ],
             [
              0.1111111111111111,
              "#46039f"
             ],
             [
              0.2222222222222222,
              "#7201a8"
             ],
             [
              0.3333333333333333,
              "#9c179e"
             ],
             [
              0.4444444444444444,
              "#bd3786"
             ],
             [
              0.5555555555555556,
              "#d8576b"
             ],
             [
              0.6666666666666666,
              "#ed7953"
             ],
             [
              0.7777777777777778,
              "#fb9f3a"
             ],
             [
              0.8888888888888888,
              "#fdca26"
             ],
             [
              1,
              "#f0f921"
             ]
            ],
            "type": "histogram2d"
           }
          ],
          "histogram2dcontour": [
           {
            "colorbar": {
             "outlinewidth": 0,
             "ticks": ""
            },
            "colorscale": [
             [
              0,
              "#0d0887"
             ],
             [
              0.1111111111111111,
              "#46039f"
             ],
             [
              0.2222222222222222,
              "#7201a8"
             ],
             [
              0.3333333333333333,
              "#9c179e"
             ],
             [
              0.4444444444444444,
              "#bd3786"
             ],
             [
              0.5555555555555556,
              "#d8576b"
             ],
             [
              0.6666666666666666,
              "#ed7953"
             ],
             [
              0.7777777777777778,
              "#fb9f3a"
             ],
             [
              0.8888888888888888,
              "#fdca26"
             ],
             [
              1,
              "#f0f921"
             ]
            ],
            "type": "histogram2dcontour"
           }
          ],
          "mesh3d": [
           {
            "colorbar": {
             "outlinewidth": 0,
             "ticks": ""
            },
            "type": "mesh3d"
           }
          ],
          "parcoords": [
           {
            "line": {
             "colorbar": {
              "outlinewidth": 0,
              "ticks": ""
             }
            },
            "type": "parcoords"
           }
          ],
          "pie": [
           {
            "automargin": true,
            "type": "pie"
           }
          ],
          "scatter": [
           {
            "fillpattern": {
             "fillmode": "overlay",
             "size": 10,
             "solidity": 0.2
            },
            "type": "scatter"
           }
          ],
          "scatter3d": [
           {
            "line": {
             "colorbar": {
              "outlinewidth": 0,
              "ticks": ""
             }
            },
            "marker": {
             "colorbar": {
              "outlinewidth": 0,
              "ticks": ""
             }
            },
            "type": "scatter3d"
           }
          ],
          "scattercarpet": [
           {
            "marker": {
             "colorbar": {
              "outlinewidth": 0,
              "ticks": ""
             }
            },
            "type": "scattercarpet"
           }
          ],
          "scattergeo": [
           {
            "marker": {
             "colorbar": {
              "outlinewidth": 0,
              "ticks": ""
             }
            },
            "type": "scattergeo"
           }
          ],
          "scattergl": [
           {
            "marker": {
             "colorbar": {
              "outlinewidth": 0,
              "ticks": ""
             }
            },
            "type": "scattergl"
           }
          ],
          "scattermapbox": [
           {
            "marker": {
             "colorbar": {
              "outlinewidth": 0,
              "ticks": ""
             }
            },
            "type": "scattermapbox"
           }
          ],
          "scatterpolar": [
           {
            "marker": {
             "colorbar": {
              "outlinewidth": 0,
              "ticks": ""
             }
            },
            "type": "scatterpolar"
           }
          ],
          "scatterpolargl": [
           {
            "marker": {
             "colorbar": {
              "outlinewidth": 0,
              "ticks": ""
             }
            },
            "type": "scatterpolargl"
           }
          ],
          "scatterternary": [
           {
            "marker": {
             "colorbar": {
              "outlinewidth": 0,
              "ticks": ""
             }
            },
            "type": "scatterternary"
           }
          ],
          "surface": [
           {
            "colorbar": {
             "outlinewidth": 0,
             "ticks": ""
            },
            "colorscale": [
             [
              0,
              "#0d0887"
             ],
             [
              0.1111111111111111,
              "#46039f"
             ],
             [
              0.2222222222222222,
              "#7201a8"
             ],
             [
              0.3333333333333333,
              "#9c179e"
             ],
             [
              0.4444444444444444,
              "#bd3786"
             ],
             [
              0.5555555555555556,
              "#d8576b"
             ],
             [
              0.6666666666666666,
              "#ed7953"
             ],
             [
              0.7777777777777778,
              "#fb9f3a"
             ],
             [
              0.8888888888888888,
              "#fdca26"
             ],
             [
              1,
              "#f0f921"
             ]
            ],
            "type": "surface"
           }
          ],
          "table": [
           {
            "cells": {
             "fill": {
              "color": "#EBF0F8"
             },
             "line": {
              "color": "white"
             }
            },
            "header": {
             "fill": {
              "color": "#C8D4E3"
             },
             "line": {
              "color": "white"
             }
            },
            "type": "table"
           }
          ]
         },
         "layout": {
          "annotationdefaults": {
           "arrowcolor": "#2a3f5f",
           "arrowhead": 0,
           "arrowwidth": 1
          },
          "autotypenumbers": "strict",
          "coloraxis": {
           "colorbar": {
            "outlinewidth": 0,
            "ticks": ""
           }
          },
          "colorscale": {
           "diverging": [
            [
             0,
             "#8e0152"
            ],
            [
             0.1,
             "#c51b7d"
            ],
            [
             0.2,
             "#de77ae"
            ],
            [
             0.3,
             "#f1b6da"
            ],
            [
             0.4,
             "#fde0ef"
            ],
            [
             0.5,
             "#f7f7f7"
            ],
            [
             0.6,
             "#e6f5d0"
            ],
            [
             0.7,
             "#b8e186"
            ],
            [
             0.8,
             "#7fbc41"
            ],
            [
             0.9,
             "#4d9221"
            ],
            [
             1,
             "#276419"
            ]
           ],
           "sequential": [
            [
             0,
             "#0d0887"
            ],
            [
             0.1111111111111111,
             "#46039f"
            ],
            [
             0.2222222222222222,
             "#7201a8"
            ],
            [
             0.3333333333333333,
             "#9c179e"
            ],
            [
             0.4444444444444444,
             "#bd3786"
            ],
            [
             0.5555555555555556,
             "#d8576b"
            ],
            [
             0.6666666666666666,
             "#ed7953"
            ],
            [
             0.7777777777777778,
             "#fb9f3a"
            ],
            [
             0.8888888888888888,
             "#fdca26"
            ],
            [
             1,
             "#f0f921"
            ]
           ],
           "sequentialminus": [
            [
             0,
             "#0d0887"
            ],
            [
             0.1111111111111111,
             "#46039f"
            ],
            [
             0.2222222222222222,
             "#7201a8"
            ],
            [
             0.3333333333333333,
             "#9c179e"
            ],
            [
             0.4444444444444444,
             "#bd3786"
            ],
            [
             0.5555555555555556,
             "#d8576b"
            ],
            [
             0.6666666666666666,
             "#ed7953"
            ],
            [
             0.7777777777777778,
             "#fb9f3a"
            ],
            [
             0.8888888888888888,
             "#fdca26"
            ],
            [
             1,
             "#f0f921"
            ]
           ]
          },
          "colorway": [
           "#636efa",
           "#EF553B",
           "#00cc96",
           "#ab63fa",
           "#FFA15A",
           "#19d3f3",
           "#FF6692",
           "#B6E880",
           "#FF97FF",
           "#FECB52"
          ],
          "font": {
           "color": "#2a3f5f"
          },
          "geo": {
           "bgcolor": "white",
           "lakecolor": "white",
           "landcolor": "#E5ECF6",
           "showlakes": true,
           "showland": true,
           "subunitcolor": "white"
          },
          "hoverlabel": {
           "align": "left"
          },
          "hovermode": "closest",
          "mapbox": {
           "style": "light"
          },
          "paper_bgcolor": "white",
          "plot_bgcolor": "#E5ECF6",
          "polar": {
           "angularaxis": {
            "gridcolor": "white",
            "linecolor": "white",
            "ticks": ""
           },
           "bgcolor": "#E5ECF6",
           "radialaxis": {
            "gridcolor": "white",
            "linecolor": "white",
            "ticks": ""
           }
          },
          "scene": {
           "xaxis": {
            "backgroundcolor": "#E5ECF6",
            "gridcolor": "white",
            "gridwidth": 2,
            "linecolor": "white",
            "showbackground": true,
            "ticks": "",
            "zerolinecolor": "white"
           },
           "yaxis": {
            "backgroundcolor": "#E5ECF6",
            "gridcolor": "white",
            "gridwidth": 2,
            "linecolor": "white",
            "showbackground": true,
            "ticks": "",
            "zerolinecolor": "white"
           },
           "zaxis": {
            "backgroundcolor": "#E5ECF6",
            "gridcolor": "white",
            "gridwidth": 2,
            "linecolor": "white",
            "showbackground": true,
            "ticks": "",
            "zerolinecolor": "white"
           }
          },
          "shapedefaults": {
           "line": {
            "color": "#2a3f5f"
           }
          },
          "ternary": {
           "aaxis": {
            "gridcolor": "white",
            "linecolor": "white",
            "ticks": ""
           },
           "baxis": {
            "gridcolor": "white",
            "linecolor": "white",
            "ticks": ""
           },
           "bgcolor": "#E5ECF6",
           "caxis": {
            "gridcolor": "white",
            "linecolor": "white",
            "ticks": ""
           }
          },
          "title": {
           "x": 0.05
          },
          "xaxis": {
           "automargin": true,
           "gridcolor": "white",
           "linecolor": "white",
           "ticks": "",
           "title": {
            "standoff": 15
           },
           "zerolinecolor": "white",
           "zerolinewidth": 2
          },
          "yaxis": {
           "automargin": true,
           "gridcolor": "white",
           "linecolor": "white",
           "ticks": "",
           "title": {
            "standoff": 15
           },
           "zerolinecolor": "white",
           "zerolinewidth": 2
          }
         }
        },
        "title": {
         "text": "% Evidence containing duplicate Therapeutic in MetaKB v2"
        }
       }
      }
     },
     "metadata": {},
     "output_type": "display_data"
    }
   ],
   "source": [
    "fig = px.pie(tdf, values='counts', names='is_duplicate', title='% Evidence containing duplicate Therapeutic in MetaKB v2')\n",
    "fig.update_traces(textinfo='percent+label')\n",
    "fig.show()\n",
    "pio.write_image(fig, \"Duplicate_Therapeutic_metakbv2_pie.png\", format='png', width=800, height=800, scale=5)"
   ]
  },
  {
   "cell_type": "markdown",
   "metadata": {},
   "source": [
    "#### Diseases"
   ]
  },
  {
   "cell_type": "code",
   "execution_count": 214,
   "metadata": {},
   "outputs": [
    {
     "data": {
      "text/plain": [
       "qualifier\n",
       "Colorectal Cancer                 150\n",
       "Lung Non-small Cell Carcinoma     138\n",
       "Melanoma                          117\n",
       "Cancer                             73\n",
       "Gastrointestinal Stromal Tumor     63\n",
       "                                 ... \n",
       "Osteosarcoma                        2\n",
       "Thyroid Gland Carcinoma             2\n",
       "Ovarian Serous Carcinoma            2\n",
       "Ewing Sarcoma Of Bone               2\n",
       "Rectum Cancer                       2\n",
       "Name: count, Length: 66, dtype: int64"
      ]
     },
     "execution_count": 214,
     "metadata": {},
     "output_type": "execute_result"
    }
   ],
   "source": [
    "df['qualifier'].value_counts()[0:66] # Duplicates\n"
   ]
  },
  {
   "cell_type": "code",
   "execution_count": 215,
   "metadata": {},
   "outputs": [
    {
     "data": {
      "text/html": [
       "<div>\n",
       "<style scoped>\n",
       "    .dataframe tbody tr th:only-of-type {\n",
       "        vertical-align: middle;\n",
       "    }\n",
       "\n",
       "    .dataframe tbody tr th {\n",
       "        vertical-align: top;\n",
       "    }\n",
       "\n",
       "    .dataframe thead th {\n",
       "        text-align: right;\n",
       "    }\n",
       "</style>\n",
       "<table border=\"1\" class=\"dataframe\">\n",
       "  <thead>\n",
       "    <tr style=\"text-align: right;\">\n",
       "      <th></th>\n",
       "      <th>Disease</th>\n",
       "      <th>counts</th>\n",
       "    </tr>\n",
       "  </thead>\n",
       "  <tbody>\n",
       "    <tr>\n",
       "      <th>0</th>\n",
       "      <td>Colorectal Cancer</td>\n",
       "      <td>150</td>\n",
       "    </tr>\n",
       "    <tr>\n",
       "      <th>1</th>\n",
       "      <td>Lung Non-small Cell Carcinoma</td>\n",
       "      <td>138</td>\n",
       "    </tr>\n",
       "    <tr>\n",
       "      <th>2</th>\n",
       "      <td>Melanoma</td>\n",
       "      <td>117</td>\n",
       "    </tr>\n",
       "    <tr>\n",
       "      <th>3</th>\n",
       "      <td>Cancer</td>\n",
       "      <td>73</td>\n",
       "    </tr>\n",
       "    <tr>\n",
       "      <th>4</th>\n",
       "      <td>Gastrointestinal Stromal Tumor</td>\n",
       "      <td>63</td>\n",
       "    </tr>\n",
       "    <tr>\n",
       "      <th>...</th>\n",
       "      <td>...</td>\n",
       "      <td>...</td>\n",
       "    </tr>\n",
       "    <tr>\n",
       "      <th>61</th>\n",
       "      <td>Osteosarcoma</td>\n",
       "      <td>2</td>\n",
       "    </tr>\n",
       "    <tr>\n",
       "      <th>62</th>\n",
       "      <td>Thyroid Gland Carcinoma</td>\n",
       "      <td>2</td>\n",
       "    </tr>\n",
       "    <tr>\n",
       "      <th>63</th>\n",
       "      <td>Ovarian Serous Carcinoma</td>\n",
       "      <td>2</td>\n",
       "    </tr>\n",
       "    <tr>\n",
       "      <th>64</th>\n",
       "      <td>Ewing Sarcoma Of Bone</td>\n",
       "      <td>2</td>\n",
       "    </tr>\n",
       "    <tr>\n",
       "      <th>65</th>\n",
       "      <td>Rectum Cancer</td>\n",
       "      <td>2</td>\n",
       "    </tr>\n",
       "  </tbody>\n",
       "</table>\n",
       "<p>66 rows × 2 columns</p>\n",
       "</div>"
      ],
      "text/plain": [
       "                           Disease  counts\n",
       "0                Colorectal Cancer     150\n",
       "1    Lung Non-small Cell Carcinoma     138\n",
       "2                         Melanoma     117\n",
       "3                           Cancer      73\n",
       "4   Gastrointestinal Stromal Tumor      63\n",
       "..                             ...     ...\n",
       "61                    Osteosarcoma       2\n",
       "62         Thyroid Gland Carcinoma       2\n",
       "63        Ovarian Serous Carcinoma       2\n",
       "64           Ewing Sarcoma Of Bone       2\n",
       "65                   Rectum Cancer       2\n",
       "\n",
       "[66 rows x 2 columns]"
      ]
     },
     "execution_count": 215,
     "metadata": {},
     "output_type": "execute_result"
    }
   ],
   "source": [
    "tdf = df['qualifier'].value_counts().rename_axis('Disease').reset_index(name='counts')\n",
    "tdf[0:66]"
   ]
  },
  {
   "cell_type": "code",
   "execution_count": 216,
   "metadata": {},
   "outputs": [
    {
     "data": {
      "text/html": [
       "<div>\n",
       "<style scoped>\n",
       "    .dataframe tbody tr th:only-of-type {\n",
       "        vertical-align: middle;\n",
       "    }\n",
       "\n",
       "    .dataframe tbody tr th {\n",
       "        vertical-align: top;\n",
       "    }\n",
       "\n",
       "    .dataframe thead th {\n",
       "        text-align: right;\n",
       "    }\n",
       "</style>\n",
       "<table border=\"1\" class=\"dataframe\">\n",
       "  <thead>\n",
       "    <tr style=\"text-align: right;\">\n",
       "      <th></th>\n",
       "      <th>Disease</th>\n",
       "      <th>counts</th>\n",
       "      <th>is_duplicate</th>\n",
       "    </tr>\n",
       "  </thead>\n",
       "  <tbody>\n",
       "    <tr>\n",
       "      <th>0</th>\n",
       "      <td>Colorectal Cancer</td>\n",
       "      <td>150</td>\n",
       "      <td>Duplicate</td>\n",
       "    </tr>\n",
       "    <tr>\n",
       "      <th>1</th>\n",
       "      <td>Lung Non-small Cell Carcinoma</td>\n",
       "      <td>138</td>\n",
       "      <td>Duplicate</td>\n",
       "    </tr>\n",
       "    <tr>\n",
       "      <th>2</th>\n",
       "      <td>Melanoma</td>\n",
       "      <td>117</td>\n",
       "      <td>Duplicate</td>\n",
       "    </tr>\n",
       "    <tr>\n",
       "      <th>3</th>\n",
       "      <td>Cancer</td>\n",
       "      <td>73</td>\n",
       "      <td>Duplicate</td>\n",
       "    </tr>\n",
       "    <tr>\n",
       "      <th>4</th>\n",
       "      <td>Gastrointestinal Stromal Tumor</td>\n",
       "      <td>63</td>\n",
       "      <td>Duplicate</td>\n",
       "    </tr>\n",
       "    <tr>\n",
       "      <th>...</th>\n",
       "      <td>...</td>\n",
       "      <td>...</td>\n",
       "      <td>...</td>\n",
       "    </tr>\n",
       "    <tr>\n",
       "      <th>61</th>\n",
       "      <td>Osteosarcoma</td>\n",
       "      <td>2</td>\n",
       "      <td>Duplicate</td>\n",
       "    </tr>\n",
       "    <tr>\n",
       "      <th>62</th>\n",
       "      <td>Thyroid Gland Carcinoma</td>\n",
       "      <td>2</td>\n",
       "      <td>Duplicate</td>\n",
       "    </tr>\n",
       "    <tr>\n",
       "      <th>63</th>\n",
       "      <td>Ovarian Serous Carcinoma</td>\n",
       "      <td>2</td>\n",
       "      <td>Duplicate</td>\n",
       "    </tr>\n",
       "    <tr>\n",
       "      <th>64</th>\n",
       "      <td>Ewing Sarcoma Of Bone</td>\n",
       "      <td>2</td>\n",
       "      <td>Duplicate</td>\n",
       "    </tr>\n",
       "    <tr>\n",
       "      <th>65</th>\n",
       "      <td>Rectum Cancer</td>\n",
       "      <td>2</td>\n",
       "      <td>Duplicate</td>\n",
       "    </tr>\n",
       "  </tbody>\n",
       "</table>\n",
       "<p>66 rows × 3 columns</p>\n",
       "</div>"
      ],
      "text/plain": [
       "                           Disease  counts is_duplicate\n",
       "0                Colorectal Cancer     150    Duplicate\n",
       "1    Lung Non-small Cell Carcinoma     138    Duplicate\n",
       "2                         Melanoma     117    Duplicate\n",
       "3                           Cancer      73    Duplicate\n",
       "4   Gastrointestinal Stromal Tumor      63    Duplicate\n",
       "..                             ...     ...          ...\n",
       "61                    Osteosarcoma       2    Duplicate\n",
       "62         Thyroid Gland Carcinoma       2    Duplicate\n",
       "63        Ovarian Serous Carcinoma       2    Duplicate\n",
       "64           Ewing Sarcoma Of Bone       2    Duplicate\n",
       "65                   Rectum Cancer       2    Duplicate\n",
       "\n",
       "[66 rows x 3 columns]"
      ]
     },
     "execution_count": 216,
     "metadata": {},
     "output_type": "execute_result"
    }
   ],
   "source": [
    "tdf['is_duplicate'] = tdf['counts'].apply(duplicate_detect)\n",
    "tdf[0:66]"
   ]
  },
  {
   "cell_type": "code",
   "execution_count": 219,
   "metadata": {},
   "outputs": [
    {
     "data": {
      "application/vnd.plotly.v1+json": {
       "config": {
        "plotlyServerURL": "https://plot.ly"
       },
       "data": [
        {
         "alignmentgroup": "True",
         "hovertemplate": "Disease=%{x}<br>counts=%{y}<extra></extra>",
         "legendgroup": "",
         "marker": {
          "color": "#636efa",
          "pattern": {
           "shape": ""
          }
         },
         "name": "",
         "offsetgroup": "",
         "orientation": "v",
         "showlegend": false,
         "textposition": "auto",
         "type": "bar",
         "x": [
          "Colorectal Cancer",
          "Lung Non-small Cell Carcinoma",
          "Melanoma",
          "Cancer",
          "Gastrointestinal Stromal Tumor",
          "Breast Cancer",
          "Chronic Myelogenous Leukemia",
          "Acute Myeloid Leukemia",
          "Non-Small Cell Lung Cancer",
          "Lung Adenocarcinoma",
          "B-lymphoblastic Leukemia/lymphoma",
          "Her2-receptor Positive Breast Cancer",
          "Skin Melanoma",
          "Invasive Breast Carcinoma",
          "Neuroblastoma",
          "Multiple Myeloma",
          "Chronic Lymphocytic Leukemia",
          "Papillary Thyroid Carcinoma",
          "Childhood Acute Lymphocytic Leukemia",
          "Colorectal Adenocarcinoma",
          "Follicular Lymphoma",
          "Oligodendroglioma",
          "Astrocytoma",
          "Medullary Thyroid Carcinoma",
          "Lung Cancer",
          "High Grade Glioma",
          "Cholangiocarcinoma",
          "Chronic Myeloid Leukemia",
          "Desmoid Tumor",
          "Bladder Urothelial Carcinoma",
          "Head And Neck Cancer",
          "Transitional Cell Carcinoma",
          "T-cell Acute Lymphoblastic Leukemia",
          "Spindle Cell Rhabdomyosarcoma",
          "Head And Neck Squamous Cell Carcinoma",
          "Colon Cancer",
          "Pancreatic Cancer",
          "Cervical Cancer",
          "Diffuse Large B-cell Lymphoma Activated B-cell Type",
          "Basal Cell Carcinoma",
          "Thyroid Cancer",
          "Prostate Cancer",
          "Intrahepatic Cholangiocarcinoma",
          "Systemic Mastocytosis",
          "Non-Langerhans Cell Histiocytosis/Erdheim-Chester Disease",
          "Acute Lymphoid Leukemia",
          "Glioblastoma",
          "Anaplastic Thyroid Carcinoma",
          "Solid Tumor",
          "Medulloblastoma",
          "Polycythemia Vera",
          "Angiosarcoma",
          "High-Grade Neuroendocrine Carcinoma of the Colon and Rectum",
          "Head and Neck Squamous Cell Carcinoma",
          "Medullary Thyroid Cancer",
          "Low-Grade Glioma, NOS",
          "Myelodysplastic Syndromes",
          "Clear Cell Renal Cell Carcinoma",
          "Chronic Neutrophilic Leukemia",
          "Hairy Cell Leukemia",
          "Glioma",
          "Osteosarcoma",
          "Thyroid Gland Carcinoma",
          "Ovarian Serous Carcinoma",
          "Ewing Sarcoma Of Bone",
          "Rectum Cancer"
         ],
         "xaxis": "x",
         "y": [
          150,
          138,
          117,
          73,
          63,
          61,
          40,
          40,
          36,
          36,
          27,
          27,
          24,
          22,
          19,
          19,
          16,
          11,
          9,
          9,
          7,
          7,
          7,
          7,
          7,
          6,
          6,
          5,
          5,
          5,
          5,
          5,
          4,
          4,
          4,
          4,
          4,
          3,
          3,
          3,
          3,
          3,
          3,
          3,
          3,
          3,
          3,
          3,
          2,
          2,
          2,
          2,
          2,
          2,
          2,
          2,
          2,
          2,
          2,
          2,
          2,
          2,
          2,
          2,
          2,
          2
         ],
         "yaxis": "y"
        }
       ],
       "layout": {
        "bargap": 0.2,
        "barmode": "relative",
        "legend": {
         "tracegroupgap": 0
        },
        "template": {
         "data": {
          "bar": [
           {
            "error_x": {
             "color": "#2a3f5f"
            },
            "error_y": {
             "color": "#2a3f5f"
            },
            "marker": {
             "line": {
              "color": "#E5ECF6",
              "width": 0.5
             },
             "pattern": {
              "fillmode": "overlay",
              "size": 10,
              "solidity": 0.2
             }
            },
            "type": "bar"
           }
          ],
          "barpolar": [
           {
            "marker": {
             "line": {
              "color": "#E5ECF6",
              "width": 0.5
             },
             "pattern": {
              "fillmode": "overlay",
              "size": 10,
              "solidity": 0.2
             }
            },
            "type": "barpolar"
           }
          ],
          "carpet": [
           {
            "aaxis": {
             "endlinecolor": "#2a3f5f",
             "gridcolor": "white",
             "linecolor": "white",
             "minorgridcolor": "white",
             "startlinecolor": "#2a3f5f"
            },
            "baxis": {
             "endlinecolor": "#2a3f5f",
             "gridcolor": "white",
             "linecolor": "white",
             "minorgridcolor": "white",
             "startlinecolor": "#2a3f5f"
            },
            "type": "carpet"
           }
          ],
          "choropleth": [
           {
            "colorbar": {
             "outlinewidth": 0,
             "ticks": ""
            },
            "type": "choropleth"
           }
          ],
          "contour": [
           {
            "colorbar": {
             "outlinewidth": 0,
             "ticks": ""
            },
            "colorscale": [
             [
              0,
              "#0d0887"
             ],
             [
              0.1111111111111111,
              "#46039f"
             ],
             [
              0.2222222222222222,
              "#7201a8"
             ],
             [
              0.3333333333333333,
              "#9c179e"
             ],
             [
              0.4444444444444444,
              "#bd3786"
             ],
             [
              0.5555555555555556,
              "#d8576b"
             ],
             [
              0.6666666666666666,
              "#ed7953"
             ],
             [
              0.7777777777777778,
              "#fb9f3a"
             ],
             [
              0.8888888888888888,
              "#fdca26"
             ],
             [
              1,
              "#f0f921"
             ]
            ],
            "type": "contour"
           }
          ],
          "contourcarpet": [
           {
            "colorbar": {
             "outlinewidth": 0,
             "ticks": ""
            },
            "type": "contourcarpet"
           }
          ],
          "heatmap": [
           {
            "colorbar": {
             "outlinewidth": 0,
             "ticks": ""
            },
            "colorscale": [
             [
              0,
              "#0d0887"
             ],
             [
              0.1111111111111111,
              "#46039f"
             ],
             [
              0.2222222222222222,
              "#7201a8"
             ],
             [
              0.3333333333333333,
              "#9c179e"
             ],
             [
              0.4444444444444444,
              "#bd3786"
             ],
             [
              0.5555555555555556,
              "#d8576b"
             ],
             [
              0.6666666666666666,
              "#ed7953"
             ],
             [
              0.7777777777777778,
              "#fb9f3a"
             ],
             [
              0.8888888888888888,
              "#fdca26"
             ],
             [
              1,
              "#f0f921"
             ]
            ],
            "type": "heatmap"
           }
          ],
          "heatmapgl": [
           {
            "colorbar": {
             "outlinewidth": 0,
             "ticks": ""
            },
            "colorscale": [
             [
              0,
              "#0d0887"
             ],
             [
              0.1111111111111111,
              "#46039f"
             ],
             [
              0.2222222222222222,
              "#7201a8"
             ],
             [
              0.3333333333333333,
              "#9c179e"
             ],
             [
              0.4444444444444444,
              "#bd3786"
             ],
             [
              0.5555555555555556,
              "#d8576b"
             ],
             [
              0.6666666666666666,
              "#ed7953"
             ],
             [
              0.7777777777777778,
              "#fb9f3a"
             ],
             [
              0.8888888888888888,
              "#fdca26"
             ],
             [
              1,
              "#f0f921"
             ]
            ],
            "type": "heatmapgl"
           }
          ],
          "histogram": [
           {
            "marker": {
             "pattern": {
              "fillmode": "overlay",
              "size": 10,
              "solidity": 0.2
             }
            },
            "type": "histogram"
           }
          ],
          "histogram2d": [
           {
            "colorbar": {
             "outlinewidth": 0,
             "ticks": ""
            },
            "colorscale": [
             [
              0,
              "#0d0887"
             ],
             [
              0.1111111111111111,
              "#46039f"
             ],
             [
              0.2222222222222222,
              "#7201a8"
             ],
             [
              0.3333333333333333,
              "#9c179e"
             ],
             [
              0.4444444444444444,
              "#bd3786"
             ],
             [
              0.5555555555555556,
              "#d8576b"
             ],
             [
              0.6666666666666666,
              "#ed7953"
             ],
             [
              0.7777777777777778,
              "#fb9f3a"
             ],
             [
              0.8888888888888888,
              "#fdca26"
             ],
             [
              1,
              "#f0f921"
             ]
            ],
            "type": "histogram2d"
           }
          ],
          "histogram2dcontour": [
           {
            "colorbar": {
             "outlinewidth": 0,
             "ticks": ""
            },
            "colorscale": [
             [
              0,
              "#0d0887"
             ],
             [
              0.1111111111111111,
              "#46039f"
             ],
             [
              0.2222222222222222,
              "#7201a8"
             ],
             [
              0.3333333333333333,
              "#9c179e"
             ],
             [
              0.4444444444444444,
              "#bd3786"
             ],
             [
              0.5555555555555556,
              "#d8576b"
             ],
             [
              0.6666666666666666,
              "#ed7953"
             ],
             [
              0.7777777777777778,
              "#fb9f3a"
             ],
             [
              0.8888888888888888,
              "#fdca26"
             ],
             [
              1,
              "#f0f921"
             ]
            ],
            "type": "histogram2dcontour"
           }
          ],
          "mesh3d": [
           {
            "colorbar": {
             "outlinewidth": 0,
             "ticks": ""
            },
            "type": "mesh3d"
           }
          ],
          "parcoords": [
           {
            "line": {
             "colorbar": {
              "outlinewidth": 0,
              "ticks": ""
             }
            },
            "type": "parcoords"
           }
          ],
          "pie": [
           {
            "automargin": true,
            "type": "pie"
           }
          ],
          "scatter": [
           {
            "fillpattern": {
             "fillmode": "overlay",
             "size": 10,
             "solidity": 0.2
            },
            "type": "scatter"
           }
          ],
          "scatter3d": [
           {
            "line": {
             "colorbar": {
              "outlinewidth": 0,
              "ticks": ""
             }
            },
            "marker": {
             "colorbar": {
              "outlinewidth": 0,
              "ticks": ""
             }
            },
            "type": "scatter3d"
           }
          ],
          "scattercarpet": [
           {
            "marker": {
             "colorbar": {
              "outlinewidth": 0,
              "ticks": ""
             }
            },
            "type": "scattercarpet"
           }
          ],
          "scattergeo": [
           {
            "marker": {
             "colorbar": {
              "outlinewidth": 0,
              "ticks": ""
             }
            },
            "type": "scattergeo"
           }
          ],
          "scattergl": [
           {
            "marker": {
             "colorbar": {
              "outlinewidth": 0,
              "ticks": ""
             }
            },
            "type": "scattergl"
           }
          ],
          "scattermapbox": [
           {
            "marker": {
             "colorbar": {
              "outlinewidth": 0,
              "ticks": ""
             }
            },
            "type": "scattermapbox"
           }
          ],
          "scatterpolar": [
           {
            "marker": {
             "colorbar": {
              "outlinewidth": 0,
              "ticks": ""
             }
            },
            "type": "scatterpolar"
           }
          ],
          "scatterpolargl": [
           {
            "marker": {
             "colorbar": {
              "outlinewidth": 0,
              "ticks": ""
             }
            },
            "type": "scatterpolargl"
           }
          ],
          "scatterternary": [
           {
            "marker": {
             "colorbar": {
              "outlinewidth": 0,
              "ticks": ""
             }
            },
            "type": "scatterternary"
           }
          ],
          "surface": [
           {
            "colorbar": {
             "outlinewidth": 0,
             "ticks": ""
            },
            "colorscale": [
             [
              0,
              "#0d0887"
             ],
             [
              0.1111111111111111,
              "#46039f"
             ],
             [
              0.2222222222222222,
              "#7201a8"
             ],
             [
              0.3333333333333333,
              "#9c179e"
             ],
             [
              0.4444444444444444,
              "#bd3786"
             ],
             [
              0.5555555555555556,
              "#d8576b"
             ],
             [
              0.6666666666666666,
              "#ed7953"
             ],
             [
              0.7777777777777778,
              "#fb9f3a"
             ],
             [
              0.8888888888888888,
              "#fdca26"
             ],
             [
              1,
              "#f0f921"
             ]
            ],
            "type": "surface"
           }
          ],
          "table": [
           {
            "cells": {
             "fill": {
              "color": "#EBF0F8"
             },
             "line": {
              "color": "white"
             }
            },
            "header": {
             "fill": {
              "color": "#C8D4E3"
             },
             "line": {
              "color": "white"
             }
            },
            "type": "table"
           }
          ]
         },
         "layout": {
          "annotationdefaults": {
           "arrowcolor": "#2a3f5f",
           "arrowhead": 0,
           "arrowwidth": 1
          },
          "autotypenumbers": "strict",
          "coloraxis": {
           "colorbar": {
            "outlinewidth": 0,
            "ticks": ""
           }
          },
          "colorscale": {
           "diverging": [
            [
             0,
             "#8e0152"
            ],
            [
             0.1,
             "#c51b7d"
            ],
            [
             0.2,
             "#de77ae"
            ],
            [
             0.3,
             "#f1b6da"
            ],
            [
             0.4,
             "#fde0ef"
            ],
            [
             0.5,
             "#f7f7f7"
            ],
            [
             0.6,
             "#e6f5d0"
            ],
            [
             0.7,
             "#b8e186"
            ],
            [
             0.8,
             "#7fbc41"
            ],
            [
             0.9,
             "#4d9221"
            ],
            [
             1,
             "#276419"
            ]
           ],
           "sequential": [
            [
             0,
             "#0d0887"
            ],
            [
             0.1111111111111111,
             "#46039f"
            ],
            [
             0.2222222222222222,
             "#7201a8"
            ],
            [
             0.3333333333333333,
             "#9c179e"
            ],
            [
             0.4444444444444444,
             "#bd3786"
            ],
            [
             0.5555555555555556,
             "#d8576b"
            ],
            [
             0.6666666666666666,
             "#ed7953"
            ],
            [
             0.7777777777777778,
             "#fb9f3a"
            ],
            [
             0.8888888888888888,
             "#fdca26"
            ],
            [
             1,
             "#f0f921"
            ]
           ],
           "sequentialminus": [
            [
             0,
             "#0d0887"
            ],
            [
             0.1111111111111111,
             "#46039f"
            ],
            [
             0.2222222222222222,
             "#7201a8"
            ],
            [
             0.3333333333333333,
             "#9c179e"
            ],
            [
             0.4444444444444444,
             "#bd3786"
            ],
            [
             0.5555555555555556,
             "#d8576b"
            ],
            [
             0.6666666666666666,
             "#ed7953"
            ],
            [
             0.7777777777777778,
             "#fb9f3a"
            ],
            [
             0.8888888888888888,
             "#fdca26"
            ],
            [
             1,
             "#f0f921"
            ]
           ]
          },
          "colorway": [
           "#636efa",
           "#EF553B",
           "#00cc96",
           "#ab63fa",
           "#FFA15A",
           "#19d3f3",
           "#FF6692",
           "#B6E880",
           "#FF97FF",
           "#FECB52"
          ],
          "font": {
           "color": "#2a3f5f"
          },
          "geo": {
           "bgcolor": "white",
           "lakecolor": "white",
           "landcolor": "#E5ECF6",
           "showlakes": true,
           "showland": true,
           "subunitcolor": "white"
          },
          "hoverlabel": {
           "align": "left"
          },
          "hovermode": "closest",
          "mapbox": {
           "style": "light"
          },
          "paper_bgcolor": "white",
          "plot_bgcolor": "#E5ECF6",
          "polar": {
           "angularaxis": {
            "gridcolor": "white",
            "linecolor": "white",
            "ticks": ""
           },
           "bgcolor": "#E5ECF6",
           "radialaxis": {
            "gridcolor": "white",
            "linecolor": "white",
            "ticks": ""
           }
          },
          "scene": {
           "xaxis": {
            "backgroundcolor": "#E5ECF6",
            "gridcolor": "white",
            "gridwidth": 2,
            "linecolor": "white",
            "showbackground": true,
            "ticks": "",
            "zerolinecolor": "white"
           },
           "yaxis": {
            "backgroundcolor": "#E5ECF6",
            "gridcolor": "white",
            "gridwidth": 2,
            "linecolor": "white",
            "showbackground": true,
            "ticks": "",
            "zerolinecolor": "white"
           },
           "zaxis": {
            "backgroundcolor": "#E5ECF6",
            "gridcolor": "white",
            "gridwidth": 2,
            "linecolor": "white",
            "showbackground": true,
            "ticks": "",
            "zerolinecolor": "white"
           }
          },
          "shapedefaults": {
           "line": {
            "color": "#2a3f5f"
           }
          },
          "ternary": {
           "aaxis": {
            "gridcolor": "white",
            "linecolor": "white",
            "ticks": ""
           },
           "baxis": {
            "gridcolor": "white",
            "linecolor": "white",
            "ticks": ""
           },
           "bgcolor": "#E5ECF6",
           "caxis": {
            "gridcolor": "white",
            "linecolor": "white",
            "ticks": ""
           }
          },
          "title": {
           "x": 0.05
          },
          "xaxis": {
           "automargin": true,
           "gridcolor": "white",
           "linecolor": "white",
           "ticks": "",
           "title": {
            "standoff": 15
           },
           "zerolinecolor": "white",
           "zerolinewidth": 2
          },
          "yaxis": {
           "automargin": true,
           "gridcolor": "white",
           "linecolor": "white",
           "ticks": "",
           "title": {
            "standoff": 15
           },
           "zerolinecolor": "white",
           "zerolinewidth": 2
          }
         }
        },
        "title": {
         "text": "Overlap of Disease Evidence in MetaKB v2"
        },
        "xaxis": {
         "anchor": "y",
         "domain": [
          0,
          1
         ],
         "tickfont": {
          "size": 8
         },
         "title": {
          "text": "Disease"
         }
        },
        "yaxis": {
         "anchor": "x",
         "domain": [
          0,
          1
         ],
         "title": {
          "text": "# of Study Statements containing Disease"
         }
        }
       }
      }
     },
     "metadata": {},
     "output_type": "display_data"
    }
   ],
   "source": [
    "# Bar Graph of Evidence Overlap\n",
    "fig = px.bar(tdf[0:66], x='Disease', y='counts', title='Overlap of Disease Evidence in MetaKB v2')\n",
    "fig.update_layout(yaxis_title='# of Study Statements containing Disease',\n",
    "                  xaxis=dict(tickfont=dict(size=8)),\n",
    "                  bargap=0.2)\n",
    "fig.show()\n",
    "pio.write_image(fig, \"Disease_overlap_bar.png\", format='png', width=1500, height=500, scale=5)"
   ]
  },
  {
   "cell_type": "code",
   "execution_count": 220,
   "metadata": {},
   "outputs": [
    {
     "data": {
      "application/vnd.plotly.v1+json": {
       "config": {
        "plotlyServerURL": "https://plot.ly"
       },
       "data": [
        {
         "domain": {
          "x": [
           0,
           1
          ],
          "y": [
           0,
           1
          ]
         },
         "hovertemplate": "is_duplicate=%{label}<br>counts=%{value}<extra></extra>",
         "labels": [
          "Duplicate",
          "Duplicate",
          "Duplicate",
          "Duplicate",
          "Duplicate",
          "Duplicate",
          "Duplicate",
          "Duplicate",
          "Duplicate",
          "Duplicate",
          "Duplicate",
          "Duplicate",
          "Duplicate",
          "Duplicate",
          "Duplicate",
          "Duplicate",
          "Duplicate",
          "Duplicate",
          "Duplicate",
          "Duplicate",
          "Duplicate",
          "Duplicate",
          "Duplicate",
          "Duplicate",
          "Duplicate",
          "Duplicate",
          "Duplicate",
          "Duplicate",
          "Duplicate",
          "Duplicate",
          "Duplicate",
          "Duplicate",
          "Duplicate",
          "Duplicate",
          "Duplicate",
          "Duplicate",
          "Duplicate",
          "Duplicate",
          "Duplicate",
          "Duplicate",
          "Duplicate",
          "Duplicate",
          "Duplicate",
          "Duplicate",
          "Duplicate",
          "Duplicate",
          "Duplicate",
          "Duplicate",
          "Duplicate",
          "Duplicate",
          "Duplicate",
          "Duplicate",
          "Duplicate",
          "Duplicate",
          "Duplicate",
          "Duplicate",
          "Duplicate",
          "Duplicate",
          "Duplicate",
          "Duplicate",
          "Duplicate",
          "Duplicate",
          "Duplicate",
          "Duplicate",
          "Duplicate",
          "Duplicate",
          "Not Duplicate",
          "Not Duplicate",
          "Not Duplicate",
          "Not Duplicate",
          "Not Duplicate",
          "Not Duplicate",
          "Not Duplicate",
          "Not Duplicate",
          "Not Duplicate",
          "Not Duplicate",
          "Not Duplicate",
          "Not Duplicate",
          "Not Duplicate",
          "Not Duplicate",
          "Not Duplicate",
          "Not Duplicate",
          "Not Duplicate",
          "Not Duplicate",
          "Not Duplicate",
          "Not Duplicate",
          "Not Duplicate",
          "Not Duplicate",
          "Not Duplicate",
          "Not Duplicate",
          "Not Duplicate",
          "Not Duplicate",
          "Not Duplicate",
          "Not Duplicate",
          "Not Duplicate",
          "Not Duplicate",
          "Not Duplicate",
          "Not Duplicate",
          "Not Duplicate",
          "Not Duplicate",
          "Not Duplicate",
          "Not Duplicate",
          "Not Duplicate",
          "Not Duplicate",
          "Not Duplicate",
          "Not Duplicate",
          "Not Duplicate",
          "Not Duplicate",
          "Not Duplicate",
          "Not Duplicate",
          "Not Duplicate"
         ],
         "legendgroup": "",
         "name": "",
         "showlegend": true,
         "textinfo": "percent+label",
         "type": "pie",
         "values": [
          150,
          138,
          117,
          73,
          63,
          61,
          40,
          40,
          36,
          36,
          27,
          27,
          24,
          22,
          19,
          19,
          16,
          11,
          9,
          9,
          7,
          7,
          7,
          7,
          7,
          6,
          6,
          5,
          5,
          5,
          5,
          5,
          4,
          4,
          4,
          4,
          4,
          3,
          3,
          3,
          3,
          3,
          3,
          3,
          3,
          3,
          3,
          3,
          2,
          2,
          2,
          2,
          2,
          2,
          2,
          2,
          2,
          2,
          2,
          2,
          2,
          2,
          2,
          2,
          2,
          2,
          1,
          1,
          1,
          1,
          1,
          1,
          1,
          1,
          1,
          1,
          1,
          1,
          1,
          1,
          1,
          1,
          1,
          1,
          1,
          1,
          1,
          1,
          1,
          1,
          1,
          1,
          1,
          1,
          1,
          1,
          1,
          1,
          1,
          1,
          1,
          1,
          1,
          1,
          1,
          1,
          1,
          1,
          1,
          1,
          1
         ]
        }
       ],
       "layout": {
        "legend": {
         "tracegroupgap": 0
        },
        "template": {
         "data": {
          "bar": [
           {
            "error_x": {
             "color": "#2a3f5f"
            },
            "error_y": {
             "color": "#2a3f5f"
            },
            "marker": {
             "line": {
              "color": "#E5ECF6",
              "width": 0.5
             },
             "pattern": {
              "fillmode": "overlay",
              "size": 10,
              "solidity": 0.2
             }
            },
            "type": "bar"
           }
          ],
          "barpolar": [
           {
            "marker": {
             "line": {
              "color": "#E5ECF6",
              "width": 0.5
             },
             "pattern": {
              "fillmode": "overlay",
              "size": 10,
              "solidity": 0.2
             }
            },
            "type": "barpolar"
           }
          ],
          "carpet": [
           {
            "aaxis": {
             "endlinecolor": "#2a3f5f",
             "gridcolor": "white",
             "linecolor": "white",
             "minorgridcolor": "white",
             "startlinecolor": "#2a3f5f"
            },
            "baxis": {
             "endlinecolor": "#2a3f5f",
             "gridcolor": "white",
             "linecolor": "white",
             "minorgridcolor": "white",
             "startlinecolor": "#2a3f5f"
            },
            "type": "carpet"
           }
          ],
          "choropleth": [
           {
            "colorbar": {
             "outlinewidth": 0,
             "ticks": ""
            },
            "type": "choropleth"
           }
          ],
          "contour": [
           {
            "colorbar": {
             "outlinewidth": 0,
             "ticks": ""
            },
            "colorscale": [
             [
              0,
              "#0d0887"
             ],
             [
              0.1111111111111111,
              "#46039f"
             ],
             [
              0.2222222222222222,
              "#7201a8"
             ],
             [
              0.3333333333333333,
              "#9c179e"
             ],
             [
              0.4444444444444444,
              "#bd3786"
             ],
             [
              0.5555555555555556,
              "#d8576b"
             ],
             [
              0.6666666666666666,
              "#ed7953"
             ],
             [
              0.7777777777777778,
              "#fb9f3a"
             ],
             [
              0.8888888888888888,
              "#fdca26"
             ],
             [
              1,
              "#f0f921"
             ]
            ],
            "type": "contour"
           }
          ],
          "contourcarpet": [
           {
            "colorbar": {
             "outlinewidth": 0,
             "ticks": ""
            },
            "type": "contourcarpet"
           }
          ],
          "heatmap": [
           {
            "colorbar": {
             "outlinewidth": 0,
             "ticks": ""
            },
            "colorscale": [
             [
              0,
              "#0d0887"
             ],
             [
              0.1111111111111111,
              "#46039f"
             ],
             [
              0.2222222222222222,
              "#7201a8"
             ],
             [
              0.3333333333333333,
              "#9c179e"
             ],
             [
              0.4444444444444444,
              "#bd3786"
             ],
             [
              0.5555555555555556,
              "#d8576b"
             ],
             [
              0.6666666666666666,
              "#ed7953"
             ],
             [
              0.7777777777777778,
              "#fb9f3a"
             ],
             [
              0.8888888888888888,
              "#fdca26"
             ],
             [
              1,
              "#f0f921"
             ]
            ],
            "type": "heatmap"
           }
          ],
          "heatmapgl": [
           {
            "colorbar": {
             "outlinewidth": 0,
             "ticks": ""
            },
            "colorscale": [
             [
              0,
              "#0d0887"
             ],
             [
              0.1111111111111111,
              "#46039f"
             ],
             [
              0.2222222222222222,
              "#7201a8"
             ],
             [
              0.3333333333333333,
              "#9c179e"
             ],
             [
              0.4444444444444444,
              "#bd3786"
             ],
             [
              0.5555555555555556,
              "#d8576b"
             ],
             [
              0.6666666666666666,
              "#ed7953"
             ],
             [
              0.7777777777777778,
              "#fb9f3a"
             ],
             [
              0.8888888888888888,
              "#fdca26"
             ],
             [
              1,
              "#f0f921"
             ]
            ],
            "type": "heatmapgl"
           }
          ],
          "histogram": [
           {
            "marker": {
             "pattern": {
              "fillmode": "overlay",
              "size": 10,
              "solidity": 0.2
             }
            },
            "type": "histogram"
           }
          ],
          "histogram2d": [
           {
            "colorbar": {
             "outlinewidth": 0,
             "ticks": ""
            },
            "colorscale": [
             [
              0,
              "#0d0887"
             ],
             [
              0.1111111111111111,
              "#46039f"
             ],
             [
              0.2222222222222222,
              "#7201a8"
             ],
             [
              0.3333333333333333,
              "#9c179e"
             ],
             [
              0.4444444444444444,
              "#bd3786"
             ],
             [
              0.5555555555555556,
              "#d8576b"
             ],
             [
              0.6666666666666666,
              "#ed7953"
             ],
             [
              0.7777777777777778,
              "#fb9f3a"
             ],
             [
              0.8888888888888888,
              "#fdca26"
             ],
             [
              1,
              "#f0f921"
             ]
            ],
            "type": "histogram2d"
           }
          ],
          "histogram2dcontour": [
           {
            "colorbar": {
             "outlinewidth": 0,
             "ticks": ""
            },
            "colorscale": [
             [
              0,
              "#0d0887"
             ],
             [
              0.1111111111111111,
              "#46039f"
             ],
             [
              0.2222222222222222,
              "#7201a8"
             ],
             [
              0.3333333333333333,
              "#9c179e"
             ],
             [
              0.4444444444444444,
              "#bd3786"
             ],
             [
              0.5555555555555556,
              "#d8576b"
             ],
             [
              0.6666666666666666,
              "#ed7953"
             ],
             [
              0.7777777777777778,
              "#fb9f3a"
             ],
             [
              0.8888888888888888,
              "#fdca26"
             ],
             [
              1,
              "#f0f921"
             ]
            ],
            "type": "histogram2dcontour"
           }
          ],
          "mesh3d": [
           {
            "colorbar": {
             "outlinewidth": 0,
             "ticks": ""
            },
            "type": "mesh3d"
           }
          ],
          "parcoords": [
           {
            "line": {
             "colorbar": {
              "outlinewidth": 0,
              "ticks": ""
             }
            },
            "type": "parcoords"
           }
          ],
          "pie": [
           {
            "automargin": true,
            "type": "pie"
           }
          ],
          "scatter": [
           {
            "fillpattern": {
             "fillmode": "overlay",
             "size": 10,
             "solidity": 0.2
            },
            "type": "scatter"
           }
          ],
          "scatter3d": [
           {
            "line": {
             "colorbar": {
              "outlinewidth": 0,
              "ticks": ""
             }
            },
            "marker": {
             "colorbar": {
              "outlinewidth": 0,
              "ticks": ""
             }
            },
            "type": "scatter3d"
           }
          ],
          "scattercarpet": [
           {
            "marker": {
             "colorbar": {
              "outlinewidth": 0,
              "ticks": ""
             }
            },
            "type": "scattercarpet"
           }
          ],
          "scattergeo": [
           {
            "marker": {
             "colorbar": {
              "outlinewidth": 0,
              "ticks": ""
             }
            },
            "type": "scattergeo"
           }
          ],
          "scattergl": [
           {
            "marker": {
             "colorbar": {
              "outlinewidth": 0,
              "ticks": ""
             }
            },
            "type": "scattergl"
           }
          ],
          "scattermapbox": [
           {
            "marker": {
             "colorbar": {
              "outlinewidth": 0,
              "ticks": ""
             }
            },
            "type": "scattermapbox"
           }
          ],
          "scatterpolar": [
           {
            "marker": {
             "colorbar": {
              "outlinewidth": 0,
              "ticks": ""
             }
            },
            "type": "scatterpolar"
           }
          ],
          "scatterpolargl": [
           {
            "marker": {
             "colorbar": {
              "outlinewidth": 0,
              "ticks": ""
             }
            },
            "type": "scatterpolargl"
           }
          ],
          "scatterternary": [
           {
            "marker": {
             "colorbar": {
              "outlinewidth": 0,
              "ticks": ""
             }
            },
            "type": "scatterternary"
           }
          ],
          "surface": [
           {
            "colorbar": {
             "outlinewidth": 0,
             "ticks": ""
            },
            "colorscale": [
             [
              0,
              "#0d0887"
             ],
             [
              0.1111111111111111,
              "#46039f"
             ],
             [
              0.2222222222222222,
              "#7201a8"
             ],
             [
              0.3333333333333333,
              "#9c179e"
             ],
             [
              0.4444444444444444,
              "#bd3786"
             ],
             [
              0.5555555555555556,
              "#d8576b"
             ],
             [
              0.6666666666666666,
              "#ed7953"
             ],
             [
              0.7777777777777778,
              "#fb9f3a"
             ],
             [
              0.8888888888888888,
              "#fdca26"
             ],
             [
              1,
              "#f0f921"
             ]
            ],
            "type": "surface"
           }
          ],
          "table": [
           {
            "cells": {
             "fill": {
              "color": "#EBF0F8"
             },
             "line": {
              "color": "white"
             }
            },
            "header": {
             "fill": {
              "color": "#C8D4E3"
             },
             "line": {
              "color": "white"
             }
            },
            "type": "table"
           }
          ]
         },
         "layout": {
          "annotationdefaults": {
           "arrowcolor": "#2a3f5f",
           "arrowhead": 0,
           "arrowwidth": 1
          },
          "autotypenumbers": "strict",
          "coloraxis": {
           "colorbar": {
            "outlinewidth": 0,
            "ticks": ""
           }
          },
          "colorscale": {
           "diverging": [
            [
             0,
             "#8e0152"
            ],
            [
             0.1,
             "#c51b7d"
            ],
            [
             0.2,
             "#de77ae"
            ],
            [
             0.3,
             "#f1b6da"
            ],
            [
             0.4,
             "#fde0ef"
            ],
            [
             0.5,
             "#f7f7f7"
            ],
            [
             0.6,
             "#e6f5d0"
            ],
            [
             0.7,
             "#b8e186"
            ],
            [
             0.8,
             "#7fbc41"
            ],
            [
             0.9,
             "#4d9221"
            ],
            [
             1,
             "#276419"
            ]
           ],
           "sequential": [
            [
             0,
             "#0d0887"
            ],
            [
             0.1111111111111111,
             "#46039f"
            ],
            [
             0.2222222222222222,
             "#7201a8"
            ],
            [
             0.3333333333333333,
             "#9c179e"
            ],
            [
             0.4444444444444444,
             "#bd3786"
            ],
            [
             0.5555555555555556,
             "#d8576b"
            ],
            [
             0.6666666666666666,
             "#ed7953"
            ],
            [
             0.7777777777777778,
             "#fb9f3a"
            ],
            [
             0.8888888888888888,
             "#fdca26"
            ],
            [
             1,
             "#f0f921"
            ]
           ],
           "sequentialminus": [
            [
             0,
             "#0d0887"
            ],
            [
             0.1111111111111111,
             "#46039f"
            ],
            [
             0.2222222222222222,
             "#7201a8"
            ],
            [
             0.3333333333333333,
             "#9c179e"
            ],
            [
             0.4444444444444444,
             "#bd3786"
            ],
            [
             0.5555555555555556,
             "#d8576b"
            ],
            [
             0.6666666666666666,
             "#ed7953"
            ],
            [
             0.7777777777777778,
             "#fb9f3a"
            ],
            [
             0.8888888888888888,
             "#fdca26"
            ],
            [
             1,
             "#f0f921"
            ]
           ]
          },
          "colorway": [
           "#636efa",
           "#EF553B",
           "#00cc96",
           "#ab63fa",
           "#FFA15A",
           "#19d3f3",
           "#FF6692",
           "#B6E880",
           "#FF97FF",
           "#FECB52"
          ],
          "font": {
           "color": "#2a3f5f"
          },
          "geo": {
           "bgcolor": "white",
           "lakecolor": "white",
           "landcolor": "#E5ECF6",
           "showlakes": true,
           "showland": true,
           "subunitcolor": "white"
          },
          "hoverlabel": {
           "align": "left"
          },
          "hovermode": "closest",
          "mapbox": {
           "style": "light"
          },
          "paper_bgcolor": "white",
          "plot_bgcolor": "#E5ECF6",
          "polar": {
           "angularaxis": {
            "gridcolor": "white",
            "linecolor": "white",
            "ticks": ""
           },
           "bgcolor": "#E5ECF6",
           "radialaxis": {
            "gridcolor": "white",
            "linecolor": "white",
            "ticks": ""
           }
          },
          "scene": {
           "xaxis": {
            "backgroundcolor": "#E5ECF6",
            "gridcolor": "white",
            "gridwidth": 2,
            "linecolor": "white",
            "showbackground": true,
            "ticks": "",
            "zerolinecolor": "white"
           },
           "yaxis": {
            "backgroundcolor": "#E5ECF6",
            "gridcolor": "white",
            "gridwidth": 2,
            "linecolor": "white",
            "showbackground": true,
            "ticks": "",
            "zerolinecolor": "white"
           },
           "zaxis": {
            "backgroundcolor": "#E5ECF6",
            "gridcolor": "white",
            "gridwidth": 2,
            "linecolor": "white",
            "showbackground": true,
            "ticks": "",
            "zerolinecolor": "white"
           }
          },
          "shapedefaults": {
           "line": {
            "color": "#2a3f5f"
           }
          },
          "ternary": {
           "aaxis": {
            "gridcolor": "white",
            "linecolor": "white",
            "ticks": ""
           },
           "baxis": {
            "gridcolor": "white",
            "linecolor": "white",
            "ticks": ""
           },
           "bgcolor": "#E5ECF6",
           "caxis": {
            "gridcolor": "white",
            "linecolor": "white",
            "ticks": ""
           }
          },
          "title": {
           "x": 0.05
          },
          "xaxis": {
           "automargin": true,
           "gridcolor": "white",
           "linecolor": "white",
           "ticks": "",
           "title": {
            "standoff": 15
           },
           "zerolinecolor": "white",
           "zerolinewidth": 2
          },
          "yaxis": {
           "automargin": true,
           "gridcolor": "white",
           "linecolor": "white",
           "ticks": "",
           "title": {
            "standoff": 15
           },
           "zerolinecolor": "white",
           "zerolinewidth": 2
          }
         }
        },
        "title": {
         "text": "% Evidence containing duplicate Therapeutic in MetaKB v2"
        }
       }
      }
     },
     "metadata": {},
     "output_type": "display_data"
    }
   ],
   "source": [
    "fig = px.pie(tdf, values='counts', names='is_duplicate', title='% Evidence containing duplicate Therapeutic in MetaKB v2')\n",
    "fig.update_traces(textinfo='percent+label')\n",
    "fig.show()\n",
    "pio.write_image(fig, \"Duplicate_Disease_metakbv2_pie.png\", format='png', width=800, height=800, scale=5)"
   ]
  },
  {
   "cell_type": "markdown",
   "metadata": {},
   "source": [
    "#### Uniqueness (Singletons)\n",
    "While pie graphs above show uniqueness in a sense, going to convert this to a bar graph to compare across singletons on the same axis. Additionally, in the future when there are more sources we will want to edit this to also track number of sources reporting a value."
   ]
  },
  {
   "cell_type": "code",
   "execution_count": 331,
   "metadata": {},
   "outputs": [],
   "source": [
    "uq_diseases = df['qualifier'].value_counts().rename_axis('Disease').reset_index(name='counts')\n",
    "uq_therapeutics = df['obj'].value_counts().rename_axis('Therapeutics').reset_index(name='counts')\n",
    "uq_variants = df['subject'].value_counts().rename_axis('Variant').reset_index(name='counts')"
   ]
  },
  {
   "cell_type": "code",
   "execution_count": 332,
   "metadata": {},
   "outputs": [],
   "source": [
    "uq_diseases['is_duplicate'] = uq_diseases['counts'].apply(duplicate_detect)\n",
    "uq_therapeutics['is_duplicate'] = uq_therapeutics['counts'].apply(duplicate_detect)\n",
    "uq_variants['is_duplicate'] = uq_variants['counts'].apply(duplicate_detect)"
   ]
  },
  {
   "cell_type": "code",
   "execution_count": 333,
   "metadata": {},
   "outputs": [],
   "source": [
    "uq_diseases['in_civic?'] = uq_diseases['Disease'].apply(check_civic, args=('qualifier',df))\n",
    "uq_diseases['in_moa?'] = uq_diseases['Disease'].apply(check_moa, args=('qualifier',df))\n",
    "uq_diseases = calculate_total_kbs(uq_diseases)\n",
    "\n",
    "uq_therapeutics['in_civic?'] = uq_therapeutics['Therapeutics'].apply(check_civic, args=('obj',df))\n",
    "uq_therapeutics['in_moa?'] = uq_therapeutics['Therapeutics'].apply(check_moa, args=('obj',df))\n",
    "uq_therapeutics = calculate_total_kbs(uq_therapeutics)\n",
    "\n",
    "uq_variants['in_civic?'] = uq_variants['Variant'].apply(check_civic, args=('subject',df))\n",
    "uq_variants['in_moa?'] = uq_variants['Variant'].apply(check_moa, args=('subject',df))\n",
    "uq_variants = calculate_total_kbs(uq_variants)\n",
    "\n"
   ]
  },
  {
   "cell_type": "code",
   "execution_count": 334,
   "metadata": {},
   "outputs": [
    {
     "data": {
      "text/html": [
       "<div>\n",
       "<style scoped>\n",
       "    .dataframe tbody tr th:only-of-type {\n",
       "        vertical-align: middle;\n",
       "    }\n",
       "\n",
       "    .dataframe tbody tr th {\n",
       "        vertical-align: top;\n",
       "    }\n",
       "\n",
       "    .dataframe thead th {\n",
       "        text-align: right;\n",
       "    }\n",
       "</style>\n",
       "<table border=\"1\" class=\"dataframe\">\n",
       "  <thead>\n",
       "    <tr style=\"text-align: right;\">\n",
       "      <th></th>\n",
       "      <th>Variant</th>\n",
       "      <th>counts</th>\n",
       "      <th>is_duplicate</th>\n",
       "      <th>in_civic?</th>\n",
       "      <th>in_moa?</th>\n",
       "      <th>total_kbs</th>\n",
       "    </tr>\n",
       "  </thead>\n",
       "  <tbody>\n",
       "    <tr>\n",
       "      <th>0</th>\n",
       "      <td>ga4gh:VA.j4XnsLZcdzDIYa5pvvXM7t1wn9OITr0L</td>\n",
       "      <td>120</td>\n",
       "      <td>Duplicate</td>\n",
       "      <td>True</td>\n",
       "      <td>True</td>\n",
       "      <td>2</td>\n",
       "    </tr>\n",
       "    <tr>\n",
       "      <th>1</th>\n",
       "      <td>ga4gh:VA.S41CcMJT2bcd8R4-qXZWH1PoHWNtG2PZ</td>\n",
       "      <td>49</td>\n",
       "      <td>Duplicate</td>\n",
       "      <td>True</td>\n",
       "      <td>True</td>\n",
       "      <td>2</td>\n",
       "    </tr>\n",
       "    <tr>\n",
       "      <th>2</th>\n",
       "      <td>ga4gh:VA.sMA9h8fzDi0RvweMlxtD0_Oi8B-JZ1V-</td>\n",
       "      <td>41</td>\n",
       "      <td>Duplicate</td>\n",
       "      <td>True</td>\n",
       "      <td>True</td>\n",
       "      <td>2</td>\n",
       "    </tr>\n",
       "    <tr>\n",
       "      <th>3</th>\n",
       "      <td>ga4gh:VA.5GEqm-zIzvvPheyGb9rlu5DyIueIubXm</td>\n",
       "      <td>25</td>\n",
       "      <td>Duplicate</td>\n",
       "      <td>True</td>\n",
       "      <td>True</td>\n",
       "      <td>2</td>\n",
       "    </tr>\n",
       "    <tr>\n",
       "      <th>4</th>\n",
       "      <td>ga4gh:VA.cdcXITbBWUXPjy3zPdhs7xjU1yvlkSrj</td>\n",
       "      <td>21</td>\n",
       "      <td>Duplicate</td>\n",
       "      <td>True</td>\n",
       "      <td>False</td>\n",
       "      <td>1</td>\n",
       "    </tr>\n",
       "    <tr>\n",
       "      <th>...</th>\n",
       "      <td>...</td>\n",
       "      <td>...</td>\n",
       "      <td>...</td>\n",
       "      <td>...</td>\n",
       "      <td>...</td>\n",
       "      <td>...</td>\n",
       "    </tr>\n",
       "    <tr>\n",
       "      <th>445</th>\n",
       "      <td>ga4gh:VA.jxXA9Qdh-T0IFIMxKVYl5dVT7XAOD-P7</td>\n",
       "      <td>1</td>\n",
       "      <td>Not Duplicate</td>\n",
       "      <td>True</td>\n",
       "      <td>False</td>\n",
       "      <td>1</td>\n",
       "    </tr>\n",
       "    <tr>\n",
       "      <th>446</th>\n",
       "      <td>ga4gh:VA.aC9fkvhXcUHMGbm-h7A7kVVCoa5JLj7R</td>\n",
       "      <td>1</td>\n",
       "      <td>Not Duplicate</td>\n",
       "      <td>True</td>\n",
       "      <td>False</td>\n",
       "      <td>1</td>\n",
       "    </tr>\n",
       "    <tr>\n",
       "      <th>447</th>\n",
       "      <td>ga4gh:VA.cj7G9KWqisifzLXsGHpSU2u3yuvbMhyb</td>\n",
       "      <td>1</td>\n",
       "      <td>Not Duplicate</td>\n",
       "      <td>True</td>\n",
       "      <td>False</td>\n",
       "      <td>1</td>\n",
       "    </tr>\n",
       "    <tr>\n",
       "      <th>448</th>\n",
       "      <td>ga4gh:VA.ZjIF_aKWFimqIkAZ38a5n-kX84IMYL5Z</td>\n",
       "      <td>1</td>\n",
       "      <td>Not Duplicate</td>\n",
       "      <td>True</td>\n",
       "      <td>False</td>\n",
       "      <td>1</td>\n",
       "    </tr>\n",
       "    <tr>\n",
       "      <th>449</th>\n",
       "      <td>ga4gh:VA.txHJtzV2lyBzSL2ojpjSYksGmi6310O7</td>\n",
       "      <td>1</td>\n",
       "      <td>Not Duplicate</td>\n",
       "      <td>False</td>\n",
       "      <td>True</td>\n",
       "      <td>1</td>\n",
       "    </tr>\n",
       "  </tbody>\n",
       "</table>\n",
       "<p>450 rows × 6 columns</p>\n",
       "</div>"
      ],
      "text/plain": [
       "                                       Variant  counts   is_duplicate  \\\n",
       "0    ga4gh:VA.j4XnsLZcdzDIYa5pvvXM7t1wn9OITr0L     120      Duplicate   \n",
       "1    ga4gh:VA.S41CcMJT2bcd8R4-qXZWH1PoHWNtG2PZ      49      Duplicate   \n",
       "2    ga4gh:VA.sMA9h8fzDi0RvweMlxtD0_Oi8B-JZ1V-      41      Duplicate   \n",
       "3    ga4gh:VA.5GEqm-zIzvvPheyGb9rlu5DyIueIubXm      25      Duplicate   \n",
       "4    ga4gh:VA.cdcXITbBWUXPjy3zPdhs7xjU1yvlkSrj      21      Duplicate   \n",
       "..                                         ...     ...            ...   \n",
       "445  ga4gh:VA.jxXA9Qdh-T0IFIMxKVYl5dVT7XAOD-P7       1  Not Duplicate   \n",
       "446  ga4gh:VA.aC9fkvhXcUHMGbm-h7A7kVVCoa5JLj7R       1  Not Duplicate   \n",
       "447  ga4gh:VA.cj7G9KWqisifzLXsGHpSU2u3yuvbMhyb       1  Not Duplicate   \n",
       "448  ga4gh:VA.ZjIF_aKWFimqIkAZ38a5n-kX84IMYL5Z       1  Not Duplicate   \n",
       "449  ga4gh:VA.txHJtzV2lyBzSL2ojpjSYksGmi6310O7       1  Not Duplicate   \n",
       "\n",
       "     in_civic?  in_moa? total_kbs  \n",
       "0         True     True         2  \n",
       "1         True     True         2  \n",
       "2         True     True         2  \n",
       "3         True     True         2  \n",
       "4         True    False         1  \n",
       "..         ...      ...       ...  \n",
       "445       True    False         1  \n",
       "446       True    False         1  \n",
       "447       True    False         1  \n",
       "448       True    False         1  \n",
       "449      False     True         1  \n",
       "\n",
       "[450 rows x 6 columns]"
      ]
     },
     "execution_count": 334,
     "metadata": {},
     "output_type": "execute_result"
    }
   ],
   "source": [
    "uq_variants"
   ]
  },
  {
   "cell_type": "code",
   "execution_count": null,
   "metadata": {},
   "outputs": [],
   "source": [
    "# uq = {}\n",
    "\n",
    "# uq['labels'] = ['Disease','Therapeutics','Variants']\n",
    "# uq['1 KB'] = "
   ]
  },
  {
   "cell_type": "code",
   "execution_count": 335,
   "metadata": {},
   "outputs": [
    {
     "data": {
      "text/html": [
       "<div>\n",
       "<style scoped>\n",
       "    .dataframe tbody tr th:only-of-type {\n",
       "        vertical-align: middle;\n",
       "    }\n",
       "\n",
       "    .dataframe tbody tr th {\n",
       "        vertical-align: top;\n",
       "    }\n",
       "\n",
       "    .dataframe thead th {\n",
       "        text-align: right;\n",
       "    }\n",
       "</style>\n",
       "<table border=\"1\" class=\"dataframe\">\n",
       "  <thead>\n",
       "    <tr style=\"text-align: right;\">\n",
       "      <th></th>\n",
       "      <th>labels</th>\n",
       "      <th>1 KB</th>\n",
       "      <th>2 KBs</th>\n",
       "      <th>percent_1KB</th>\n",
       "      <th>percent_2KB</th>\n",
       "    </tr>\n",
       "  </thead>\n",
       "  <tbody>\n",
       "    <tr>\n",
       "      <th>0</th>\n",
       "      <td>Disease</td>\n",
       "      <td>887</td>\n",
       "      <td>256</td>\n",
       "      <td>77.60%</td>\n",
       "      <td>22.40%</td>\n",
       "    </tr>\n",
       "    <tr>\n",
       "      <th>1</th>\n",
       "      <td>Therapeutics</td>\n",
       "      <td>552</td>\n",
       "      <td>510</td>\n",
       "      <td>51.98%</td>\n",
       "      <td>48.02%</td>\n",
       "    </tr>\n",
       "    <tr>\n",
       "      <th>2</th>\n",
       "      <td>Variants</td>\n",
       "      <td>708</td>\n",
       "      <td>435</td>\n",
       "      <td>61.94%</td>\n",
       "      <td>38.06%</td>\n",
       "    </tr>\n",
       "  </tbody>\n",
       "</table>\n",
       "</div>"
      ],
      "text/plain": [
       "         labels  1 KB  2 KBs percent_1KB percent_2KB\n",
       "0       Disease   887    256      77.60%      22.40%\n",
       "1  Therapeutics   552    510      51.98%      48.02%\n",
       "2      Variants   708    435      61.94%      38.06%"
      ]
     },
     "execution_count": 335,
     "metadata": {},
     "output_type": "execute_result"
    }
   ],
   "source": [
    "# Create grouped counts by gene / drug / variant with counts for Present in 1 KB, Present in 2 KB\n",
    "uq = {}\n",
    "uq['labels'] = ['Disease','Therapeutics','Variants']\n",
    "uq['1 KB'] = [uq_diseases[uq_diseases['total_kbs']==1]['counts'].sum(),\n",
    "                uq_therapeutics[uq_therapeutics['total_kbs']==1]['counts'].sum(),\n",
    "                uq_variants[uq_variants['total_kbs']==1]['counts'].sum()]\n",
    "uq['2 KBs'] = [uq_diseases[uq_diseases['total_kbs']==2]['counts'].sum(),\n",
    "                    uq_therapeutics[uq_therapeutics['total_kbs']==2]['counts'].sum(),\n",
    "                    uq_variants[uq_variants['total_kbs']==2]['counts'].sum()]\n",
    "\n",
    "uq = pd.DataFrame(uq)\n",
    "\n",
    "# Calculate Percentages\n",
    "100 * (uq['2 KBs'][0] / (uq['2 KBs'][0] + uq['2 KBs'][0]))\n",
    "\n",
    "uq['percent_1KB'] = [100 * (uq['1 KB'][0] / (uq['1 KB'][0] + uq['2 KBs'][0])),\n",
    "                     100 * (uq['1 KB'][1] / (uq['1 KB'][1] + uq['2 KBs'][1])),\n",
    "                     100 * (uq['1 KB'][2] / (uq['1 KB'][2] + uq['2 KBs'][2]))]\n",
    "uq['percent_2KB'] = [100 * (uq['2 KBs'][0] / (uq['1 KB'][0] + uq['2 KBs'][0])),\n",
    "                     100 * (uq['2 KBs'][1] / (uq['1 KB'][1] + uq['2 KBs'][1])),\n",
    "                     100 * (uq['2 KBs'][2] / (uq['1 KB'][2] + uq['2 KBs'][2]))]\n",
    "\n",
    "uq['percent_1KB'] = [f\"{p:.2f}%\" for p in uq['percent_1KB']]\n",
    "uq['percent_2KB'] = [f\"{p:.2f}%\" for p in uq['percent_2KB']]\n",
    "\n",
    "uq\n",
    "\n"
   ]
  },
  {
   "cell_type": "code",
   "execution_count": 336,
   "metadata": {},
   "outputs": [
    {
     "data": {
      "application/vnd.plotly.v1+json": {
       "config": {
        "plotlyServerURL": "https://plot.ly"
       },
       "data": [
        {
         "alignmentgroup": "True",
         "hovertemplate": "variable=1 KB<br>labels=%{x}<br>value=%{y}<extra></extra>",
         "legendgroup": "1 KB",
         "marker": {
          "color": "#063970",
          "pattern": {
           "shape": ""
          }
         },
         "name": "1 KB",
         "offsetgroup": "1 KB",
         "orientation": "v",
         "showlegend": true,
         "text": [
          "77.60%",
          "51.98%",
          "61.94%"
         ],
         "textposition": "auto",
         "texttemplate": "%{text}",
         "type": "bar",
         "x": [
          "Disease",
          "Therapeutics",
          "Variants"
         ],
         "xaxis": "x",
         "y": [
          887,
          552,
          708
         ],
         "yaxis": "y"
        },
        {
         "alignmentgroup": "True",
         "hovertemplate": "variable=2 KBs<br>labels=%{x}<br>value=%{y}<extra></extra>",
         "legendgroup": "2 KBs",
         "marker": {
          "color": "#2596be",
          "pattern": {
           "shape": ""
          }
         },
         "name": "2 KBs",
         "offsetgroup": "2 KBs",
         "orientation": "v",
         "showlegend": true,
         "text": [
          "22.40%",
          "48.02%",
          "38.06%"
         ],
         "textposition": "auto",
         "texttemplate": "%{text}",
         "type": "bar",
         "x": [
          "Disease",
          "Therapeutics",
          "Variants"
         ],
         "xaxis": "x",
         "y": [
          256,
          510,
          435
         ],
         "yaxis": "y"
        }
       ],
       "layout": {
        "barmode": "relative",
        "legend": {
         "title": {
          "text": "Record Present in:"
         },
         "tracegroupgap": 0
        },
        "template": {
         "data": {
          "bar": [
           {
            "error_x": {
             "color": "#2a3f5f"
            },
            "error_y": {
             "color": "#2a3f5f"
            },
            "marker": {
             "line": {
              "color": "#E5ECF6",
              "width": 0.5
             },
             "pattern": {
              "fillmode": "overlay",
              "size": 10,
              "solidity": 0.2
             }
            },
            "type": "bar"
           }
          ],
          "barpolar": [
           {
            "marker": {
             "line": {
              "color": "#E5ECF6",
              "width": 0.5
             },
             "pattern": {
              "fillmode": "overlay",
              "size": 10,
              "solidity": 0.2
             }
            },
            "type": "barpolar"
           }
          ],
          "carpet": [
           {
            "aaxis": {
             "endlinecolor": "#2a3f5f",
             "gridcolor": "white",
             "linecolor": "white",
             "minorgridcolor": "white",
             "startlinecolor": "#2a3f5f"
            },
            "baxis": {
             "endlinecolor": "#2a3f5f",
             "gridcolor": "white",
             "linecolor": "white",
             "minorgridcolor": "white",
             "startlinecolor": "#2a3f5f"
            },
            "type": "carpet"
           }
          ],
          "choropleth": [
           {
            "colorbar": {
             "outlinewidth": 0,
             "ticks": ""
            },
            "type": "choropleth"
           }
          ],
          "contour": [
           {
            "colorbar": {
             "outlinewidth": 0,
             "ticks": ""
            },
            "colorscale": [
             [
              0,
              "#0d0887"
             ],
             [
              0.1111111111111111,
              "#46039f"
             ],
             [
              0.2222222222222222,
              "#7201a8"
             ],
             [
              0.3333333333333333,
              "#9c179e"
             ],
             [
              0.4444444444444444,
              "#bd3786"
             ],
             [
              0.5555555555555556,
              "#d8576b"
             ],
             [
              0.6666666666666666,
              "#ed7953"
             ],
             [
              0.7777777777777778,
              "#fb9f3a"
             ],
             [
              0.8888888888888888,
              "#fdca26"
             ],
             [
              1,
              "#f0f921"
             ]
            ],
            "type": "contour"
           }
          ],
          "contourcarpet": [
           {
            "colorbar": {
             "outlinewidth": 0,
             "ticks": ""
            },
            "type": "contourcarpet"
           }
          ],
          "heatmap": [
           {
            "colorbar": {
             "outlinewidth": 0,
             "ticks": ""
            },
            "colorscale": [
             [
              0,
              "#0d0887"
             ],
             [
              0.1111111111111111,
              "#46039f"
             ],
             [
              0.2222222222222222,
              "#7201a8"
             ],
             [
              0.3333333333333333,
              "#9c179e"
             ],
             [
              0.4444444444444444,
              "#bd3786"
             ],
             [
              0.5555555555555556,
              "#d8576b"
             ],
             [
              0.6666666666666666,
              "#ed7953"
             ],
             [
              0.7777777777777778,
              "#fb9f3a"
             ],
             [
              0.8888888888888888,
              "#fdca26"
             ],
             [
              1,
              "#f0f921"
             ]
            ],
            "type": "heatmap"
           }
          ],
          "heatmapgl": [
           {
            "colorbar": {
             "outlinewidth": 0,
             "ticks": ""
            },
            "colorscale": [
             [
              0,
              "#0d0887"
             ],
             [
              0.1111111111111111,
              "#46039f"
             ],
             [
              0.2222222222222222,
              "#7201a8"
             ],
             [
              0.3333333333333333,
              "#9c179e"
             ],
             [
              0.4444444444444444,
              "#bd3786"
             ],
             [
              0.5555555555555556,
              "#d8576b"
             ],
             [
              0.6666666666666666,
              "#ed7953"
             ],
             [
              0.7777777777777778,
              "#fb9f3a"
             ],
             [
              0.8888888888888888,
              "#fdca26"
             ],
             [
              1,
              "#f0f921"
             ]
            ],
            "type": "heatmapgl"
           }
          ],
          "histogram": [
           {
            "marker": {
             "pattern": {
              "fillmode": "overlay",
              "size": 10,
              "solidity": 0.2
             }
            },
            "type": "histogram"
           }
          ],
          "histogram2d": [
           {
            "colorbar": {
             "outlinewidth": 0,
             "ticks": ""
            },
            "colorscale": [
             [
              0,
              "#0d0887"
             ],
             [
              0.1111111111111111,
              "#46039f"
             ],
             [
              0.2222222222222222,
              "#7201a8"
             ],
             [
              0.3333333333333333,
              "#9c179e"
             ],
             [
              0.4444444444444444,
              "#bd3786"
             ],
             [
              0.5555555555555556,
              "#d8576b"
             ],
             [
              0.6666666666666666,
              "#ed7953"
             ],
             [
              0.7777777777777778,
              "#fb9f3a"
             ],
             [
              0.8888888888888888,
              "#fdca26"
             ],
             [
              1,
              "#f0f921"
             ]
            ],
            "type": "histogram2d"
           }
          ],
          "histogram2dcontour": [
           {
            "colorbar": {
             "outlinewidth": 0,
             "ticks": ""
            },
            "colorscale": [
             [
              0,
              "#0d0887"
             ],
             [
              0.1111111111111111,
              "#46039f"
             ],
             [
              0.2222222222222222,
              "#7201a8"
             ],
             [
              0.3333333333333333,
              "#9c179e"
             ],
             [
              0.4444444444444444,
              "#bd3786"
             ],
             [
              0.5555555555555556,
              "#d8576b"
             ],
             [
              0.6666666666666666,
              "#ed7953"
             ],
             [
              0.7777777777777778,
              "#fb9f3a"
             ],
             [
              0.8888888888888888,
              "#fdca26"
             ],
             [
              1,
              "#f0f921"
             ]
            ],
            "type": "histogram2dcontour"
           }
          ],
          "mesh3d": [
           {
            "colorbar": {
             "outlinewidth": 0,
             "ticks": ""
            },
            "type": "mesh3d"
           }
          ],
          "parcoords": [
           {
            "line": {
             "colorbar": {
              "outlinewidth": 0,
              "ticks": ""
             }
            },
            "type": "parcoords"
           }
          ],
          "pie": [
           {
            "automargin": true,
            "type": "pie"
           }
          ],
          "scatter": [
           {
            "fillpattern": {
             "fillmode": "overlay",
             "size": 10,
             "solidity": 0.2
            },
            "type": "scatter"
           }
          ],
          "scatter3d": [
           {
            "line": {
             "colorbar": {
              "outlinewidth": 0,
              "ticks": ""
             }
            },
            "marker": {
             "colorbar": {
              "outlinewidth": 0,
              "ticks": ""
             }
            },
            "type": "scatter3d"
           }
          ],
          "scattercarpet": [
           {
            "marker": {
             "colorbar": {
              "outlinewidth": 0,
              "ticks": ""
             }
            },
            "type": "scattercarpet"
           }
          ],
          "scattergeo": [
           {
            "marker": {
             "colorbar": {
              "outlinewidth": 0,
              "ticks": ""
             }
            },
            "type": "scattergeo"
           }
          ],
          "scattergl": [
           {
            "marker": {
             "colorbar": {
              "outlinewidth": 0,
              "ticks": ""
             }
            },
            "type": "scattergl"
           }
          ],
          "scattermapbox": [
           {
            "marker": {
             "colorbar": {
              "outlinewidth": 0,
              "ticks": ""
             }
            },
            "type": "scattermapbox"
           }
          ],
          "scatterpolar": [
           {
            "marker": {
             "colorbar": {
              "outlinewidth": 0,
              "ticks": ""
             }
            },
            "type": "scatterpolar"
           }
          ],
          "scatterpolargl": [
           {
            "marker": {
             "colorbar": {
              "outlinewidth": 0,
              "ticks": ""
             }
            },
            "type": "scatterpolargl"
           }
          ],
          "scatterternary": [
           {
            "marker": {
             "colorbar": {
              "outlinewidth": 0,
              "ticks": ""
             }
            },
            "type": "scatterternary"
           }
          ],
          "surface": [
           {
            "colorbar": {
             "outlinewidth": 0,
             "ticks": ""
            },
            "colorscale": [
             [
              0,
              "#0d0887"
             ],
             [
              0.1111111111111111,
              "#46039f"
             ],
             [
              0.2222222222222222,
              "#7201a8"
             ],
             [
              0.3333333333333333,
              "#9c179e"
             ],
             [
              0.4444444444444444,
              "#bd3786"
             ],
             [
              0.5555555555555556,
              "#d8576b"
             ],
             [
              0.6666666666666666,
              "#ed7953"
             ],
             [
              0.7777777777777778,
              "#fb9f3a"
             ],
             [
              0.8888888888888888,
              "#fdca26"
             ],
             [
              1,
              "#f0f921"
             ]
            ],
            "type": "surface"
           }
          ],
          "table": [
           {
            "cells": {
             "fill": {
              "color": "#EBF0F8"
             },
             "line": {
              "color": "white"
             }
            },
            "header": {
             "fill": {
              "color": "#C8D4E3"
             },
             "line": {
              "color": "white"
             }
            },
            "type": "table"
           }
          ]
         },
         "layout": {
          "annotationdefaults": {
           "arrowcolor": "#2a3f5f",
           "arrowhead": 0,
           "arrowwidth": 1
          },
          "autotypenumbers": "strict",
          "coloraxis": {
           "colorbar": {
            "outlinewidth": 0,
            "ticks": ""
           }
          },
          "colorscale": {
           "diverging": [
            [
             0,
             "#8e0152"
            ],
            [
             0.1,
             "#c51b7d"
            ],
            [
             0.2,
             "#de77ae"
            ],
            [
             0.3,
             "#f1b6da"
            ],
            [
             0.4,
             "#fde0ef"
            ],
            [
             0.5,
             "#f7f7f7"
            ],
            [
             0.6,
             "#e6f5d0"
            ],
            [
             0.7,
             "#b8e186"
            ],
            [
             0.8,
             "#7fbc41"
            ],
            [
             0.9,
             "#4d9221"
            ],
            [
             1,
             "#276419"
            ]
           ],
           "sequential": [
            [
             0,
             "#0d0887"
            ],
            [
             0.1111111111111111,
             "#46039f"
            ],
            [
             0.2222222222222222,
             "#7201a8"
            ],
            [
             0.3333333333333333,
             "#9c179e"
            ],
            [
             0.4444444444444444,
             "#bd3786"
            ],
            [
             0.5555555555555556,
             "#d8576b"
            ],
            [
             0.6666666666666666,
             "#ed7953"
            ],
            [
             0.7777777777777778,
             "#fb9f3a"
            ],
            [
             0.8888888888888888,
             "#fdca26"
            ],
            [
             1,
             "#f0f921"
            ]
           ],
           "sequentialminus": [
            [
             0,
             "#0d0887"
            ],
            [
             0.1111111111111111,
             "#46039f"
            ],
            [
             0.2222222222222222,
             "#7201a8"
            ],
            [
             0.3333333333333333,
             "#9c179e"
            ],
            [
             0.4444444444444444,
             "#bd3786"
            ],
            [
             0.5555555555555556,
             "#d8576b"
            ],
            [
             0.6666666666666666,
             "#ed7953"
            ],
            [
             0.7777777777777778,
             "#fb9f3a"
            ],
            [
             0.8888888888888888,
             "#fdca26"
            ],
            [
             1,
             "#f0f921"
            ]
           ]
          },
          "colorway": [
           "#636efa",
           "#EF553B",
           "#00cc96",
           "#ab63fa",
           "#FFA15A",
           "#19d3f3",
           "#FF6692",
           "#B6E880",
           "#FF97FF",
           "#FECB52"
          ],
          "font": {
           "color": "#2a3f5f"
          },
          "geo": {
           "bgcolor": "white",
           "lakecolor": "white",
           "landcolor": "#E5ECF6",
           "showlakes": true,
           "showland": true,
           "subunitcolor": "white"
          },
          "hoverlabel": {
           "align": "left"
          },
          "hovermode": "closest",
          "mapbox": {
           "style": "light"
          },
          "paper_bgcolor": "white",
          "plot_bgcolor": "#E5ECF6",
          "polar": {
           "angularaxis": {
            "gridcolor": "white",
            "linecolor": "white",
            "ticks": ""
           },
           "bgcolor": "#E5ECF6",
           "radialaxis": {
            "gridcolor": "white",
            "linecolor": "white",
            "ticks": ""
           }
          },
          "scene": {
           "xaxis": {
            "backgroundcolor": "#E5ECF6",
            "gridcolor": "white",
            "gridwidth": 2,
            "linecolor": "white",
            "showbackground": true,
            "ticks": "",
            "zerolinecolor": "white"
           },
           "yaxis": {
            "backgroundcolor": "#E5ECF6",
            "gridcolor": "white",
            "gridwidth": 2,
            "linecolor": "white",
            "showbackground": true,
            "ticks": "",
            "zerolinecolor": "white"
           },
           "zaxis": {
            "backgroundcolor": "#E5ECF6",
            "gridcolor": "white",
            "gridwidth": 2,
            "linecolor": "white",
            "showbackground": true,
            "ticks": "",
            "zerolinecolor": "white"
           }
          },
          "shapedefaults": {
           "line": {
            "color": "#2a3f5f"
           }
          },
          "ternary": {
           "aaxis": {
            "gridcolor": "white",
            "linecolor": "white",
            "ticks": ""
           },
           "baxis": {
            "gridcolor": "white",
            "linecolor": "white",
            "ticks": ""
           },
           "bgcolor": "#E5ECF6",
           "caxis": {
            "gridcolor": "white",
            "linecolor": "white",
            "ticks": ""
           }
          },
          "title": {
           "x": 0.05
          },
          "xaxis": {
           "automargin": true,
           "gridcolor": "white",
           "linecolor": "white",
           "ticks": "",
           "title": {
            "standoff": 15
           },
           "zerolinecolor": "white",
           "zerolinewidth": 2
          },
          "yaxis": {
           "automargin": true,
           "gridcolor": "white",
           "linecolor": "white",
           "ticks": "",
           "title": {
            "standoff": 15
           },
           "zerolinecolor": "white",
           "zerolinewidth": 2
          }
         }
        },
        "title": {
         "text": "Uniqueness of Records in MetaKB v2"
        },
        "xaxis": {
         "anchor": "y",
         "domain": [
          0,
          1
         ],
         "title": {
          "text": "Type of Record"
         }
        },
        "yaxis": {
         "anchor": "x",
         "domain": [
          0,
          1
         ],
         "title": {
          "text": "# of Records"
         }
        }
       }
      }
     },
     "metadata": {},
     "output_type": "display_data"
    }
   ],
   "source": [
    "fig = px.bar(uq, x='labels', y=['1 KB','2 KBs'], title='Uniqueness of Records in MetaKB v2', color_discrete_map={'1 KB': '#063970', '2 KBs': '#2596be'},text_auto=True)\n",
    "# #76b5c5, #abdbe3, #154c79, #eeeee4\n",
    "\n",
    "fig.data[0].text = uq['percent_1KB']\n",
    "fig.data[0].texttemplate = '%{text}'\n",
    "fig.data[1].text = uq['percent_2KB']\n",
    "fig.data[1].texttemplate = '%{text}'\n",
    "\n",
    "fig.update_layout(xaxis_title='Type of Record',\n",
    "                  yaxis_title='# of Records',\n",
    "                  legend_title_text='Record Present in:'\n",
    "                  )\n",
    "fig.show()\n",
    "\n",
    "pio.write_image(fig, \"Single_record_uniqueness.png\", format='png', width=600, height=300, scale=5)"
   ]
  },
  {
   "cell_type": "markdown",
   "metadata": {},
   "source": [
    "#### Therapeutics on Disease"
   ]
  },
  {
   "cell_type": "code",
   "execution_count": null,
   "metadata": {},
   "outputs": [
    {
     "data": {
      "text/plain": [
       "obj                                                                         qualifier                    \n",
       "rxcui:318341                                                                Colorectal Cancer                37\n",
       "rxcui:1147220                                                               Melanoma                         31\n",
       "rxcui:337525                                                                Lung Non-small Cell Carcinoma    22\n",
       "rxcui:2289380                                                               Melanoma                         20\n",
       "ncit:C165479                                                                Invasive Breast Carcinoma        20\n",
       "                                                                                                             ..\n",
       "(TherapeuticSubstituteGroup, civic.tsgid:bf_BuyNMwaqXScLEAS5F0_LZZf1t1H2f)  Breast Cancer                     2\n",
       "(CombinationTherapy, civic.ctid:7g5X81wE2go4GE_fB45SjFamVMgpnwsA)           Colorectal Cancer                 2\n",
       "drugbank:DB12638                                                            Acute Lymphoid Leukemia           2\n",
       "(CombinationTherapy, moa.ctid:C91ScST5e8OGj8fXpwjf1rACl3_viw9L)             Acute Myeloid Leukemia            2\n",
       "(TherapeuticSubstituteGroup, civic.tsgid:MHwrYYGaDMmdgFLNboI18QBl-zDj5Wso)  Cancer                            2\n",
       "Name: count, Length: 153, dtype: int64"
      ]
     },
     "execution_count": 122,
     "metadata": {},
     "output_type": "execute_result"
    }
   ],
   "source": [
    "df[['obj','qualifier']].value_counts()[0:153] # Duplicates"
   ]
  },
  {
   "cell_type": "code",
   "execution_count": 154,
   "metadata": {},
   "outputs": [
    {
     "data": {
      "text/html": [
       "<div>\n",
       "<style scoped>\n",
       "    .dataframe tbody tr th:only-of-type {\n",
       "        vertical-align: middle;\n",
       "    }\n",
       "\n",
       "    .dataframe tbody tr th {\n",
       "        vertical-align: top;\n",
       "    }\n",
       "\n",
       "    .dataframe thead th {\n",
       "        text-align: right;\n",
       "    }\n",
       "</style>\n",
       "<table border=\"1\" class=\"dataframe\">\n",
       "  <thead>\n",
       "    <tr style=\"text-align: right;\">\n",
       "      <th></th>\n",
       "      <th>Therapeutic</th>\n",
       "      <th>Disease</th>\n",
       "      <th>counts</th>\n",
       "    </tr>\n",
       "  </thead>\n",
       "  <tbody>\n",
       "    <tr>\n",
       "      <th>0</th>\n",
       "      <td>rxcui:318341</td>\n",
       "      <td>Colorectal Cancer</td>\n",
       "      <td>37</td>\n",
       "    </tr>\n",
       "    <tr>\n",
       "      <th>1</th>\n",
       "      <td>rxcui:1147220</td>\n",
       "      <td>Melanoma</td>\n",
       "      <td>31</td>\n",
       "    </tr>\n",
       "    <tr>\n",
       "      <th>2</th>\n",
       "      <td>rxcui:337525</td>\n",
       "      <td>Lung Non-small Cell Carcinoma</td>\n",
       "      <td>22</td>\n",
       "    </tr>\n",
       "    <tr>\n",
       "      <th>3</th>\n",
       "      <td>rxcui:2289380</td>\n",
       "      <td>Melanoma</td>\n",
       "      <td>20</td>\n",
       "    </tr>\n",
       "    <tr>\n",
       "      <th>4</th>\n",
       "      <td>ncit:C165479</td>\n",
       "      <td>Invasive Breast Carcinoma</td>\n",
       "      <td>20</td>\n",
       "    </tr>\n",
       "    <tr>\n",
       "      <th>...</th>\n",
       "      <td>...</td>\n",
       "      <td>...</td>\n",
       "      <td>...</td>\n",
       "    </tr>\n",
       "    <tr>\n",
       "      <th>148</th>\n",
       "      <td>(TherapeuticSubstituteGroup, civic.tsgid:bf_Bu...</td>\n",
       "      <td>Breast Cancer</td>\n",
       "      <td>2</td>\n",
       "    </tr>\n",
       "    <tr>\n",
       "      <th>149</th>\n",
       "      <td>(CombinationTherapy, civic.ctid:7g5X81wE2go4GE...</td>\n",
       "      <td>Colorectal Cancer</td>\n",
       "      <td>2</td>\n",
       "    </tr>\n",
       "    <tr>\n",
       "      <th>150</th>\n",
       "      <td>drugbank:DB12638</td>\n",
       "      <td>Acute Lymphoid Leukemia</td>\n",
       "      <td>2</td>\n",
       "    </tr>\n",
       "    <tr>\n",
       "      <th>151</th>\n",
       "      <td>(CombinationTherapy, moa.ctid:C91ScST5e8OGj8fX...</td>\n",
       "      <td>Acute Myeloid Leukemia</td>\n",
       "      <td>2</td>\n",
       "    </tr>\n",
       "    <tr>\n",
       "      <th>152</th>\n",
       "      <td>(TherapeuticSubstituteGroup, civic.tsgid:MHwrY...</td>\n",
       "      <td>Cancer</td>\n",
       "      <td>2</td>\n",
       "    </tr>\n",
       "  </tbody>\n",
       "</table>\n",
       "<p>153 rows × 3 columns</p>\n",
       "</div>"
      ],
      "text/plain": [
       "                                           Therapeutic  \\\n",
       "0                                         rxcui:318341   \n",
       "1                                        rxcui:1147220   \n",
       "2                                         rxcui:337525   \n",
       "3                                        rxcui:2289380   \n",
       "4                                         ncit:C165479   \n",
       "..                                                 ...   \n",
       "148  (TherapeuticSubstituteGroup, civic.tsgid:bf_Bu...   \n",
       "149  (CombinationTherapy, civic.ctid:7g5X81wE2go4GE...   \n",
       "150                                   drugbank:DB12638   \n",
       "151  (CombinationTherapy, moa.ctid:C91ScST5e8OGj8fX...   \n",
       "152  (TherapeuticSubstituteGroup, civic.tsgid:MHwrY...   \n",
       "\n",
       "                           Disease  counts  \n",
       "0                Colorectal Cancer      37  \n",
       "1                         Melanoma      31  \n",
       "2    Lung Non-small Cell Carcinoma      22  \n",
       "3                         Melanoma      20  \n",
       "4        Invasive Breast Carcinoma      20  \n",
       "..                             ...     ...  \n",
       "148                  Breast Cancer       2  \n",
       "149              Colorectal Cancer       2  \n",
       "150        Acute Lymphoid Leukemia       2  \n",
       "151         Acute Myeloid Leukemia       2  \n",
       "152                         Cancer       2  \n",
       "\n",
       "[153 rows x 3 columns]"
      ]
     },
     "execution_count": 154,
     "metadata": {},
     "output_type": "execute_result"
    }
   ],
   "source": [
    "tdf = df[['obj','qualifier']].value_counts().rename_axis(['Therapeutic','Disease']).reset_index(name='counts')\n",
    "tdf[0:153]"
   ]
  },
  {
   "cell_type": "code",
   "execution_count": 157,
   "metadata": {},
   "outputs": [
    {
     "data": {
      "text/html": [
       "<div>\n",
       "<style scoped>\n",
       "    .dataframe tbody tr th:only-of-type {\n",
       "        vertical-align: middle;\n",
       "    }\n",
       "\n",
       "    .dataframe tbody tr th {\n",
       "        vertical-align: top;\n",
       "    }\n",
       "\n",
       "    .dataframe thead th {\n",
       "        text-align: right;\n",
       "    }\n",
       "</style>\n",
       "<table border=\"1\" class=\"dataframe\">\n",
       "  <thead>\n",
       "    <tr style=\"text-align: right;\">\n",
       "      <th></th>\n",
       "      <th>Therapeutic</th>\n",
       "      <th>Disease</th>\n",
       "      <th>counts</th>\n",
       "      <th>joined</th>\n",
       "    </tr>\n",
       "  </thead>\n",
       "  <tbody>\n",
       "    <tr>\n",
       "      <th>0</th>\n",
       "      <td>rxcui:318341</td>\n",
       "      <td>Colorectal Cancer</td>\n",
       "      <td>37</td>\n",
       "      <td>rxcui:318341, Colorectal Cancer</td>\n",
       "    </tr>\n",
       "    <tr>\n",
       "      <th>1</th>\n",
       "      <td>rxcui:1147220</td>\n",
       "      <td>Melanoma</td>\n",
       "      <td>31</td>\n",
       "      <td>rxcui:1147220, Melanoma</td>\n",
       "    </tr>\n",
       "    <tr>\n",
       "      <th>2</th>\n",
       "      <td>rxcui:337525</td>\n",
       "      <td>Lung Non-small Cell Carcinoma</td>\n",
       "      <td>22</td>\n",
       "      <td>rxcui:337525, Lung Non-small Cell Carcinoma</td>\n",
       "    </tr>\n",
       "    <tr>\n",
       "      <th>3</th>\n",
       "      <td>rxcui:2289380</td>\n",
       "      <td>Melanoma</td>\n",
       "      <td>20</td>\n",
       "      <td>rxcui:2289380, Melanoma</td>\n",
       "    </tr>\n",
       "    <tr>\n",
       "      <th>4</th>\n",
       "      <td>ncit:C165479</td>\n",
       "      <td>Invasive Breast Carcinoma</td>\n",
       "      <td>20</td>\n",
       "      <td>ncit:C165479, Invasive Breast Carcinoma</td>\n",
       "    </tr>\n",
       "    <tr>\n",
       "      <th>...</th>\n",
       "      <td>...</td>\n",
       "      <td>...</td>\n",
       "      <td>...</td>\n",
       "      <td>...</td>\n",
       "    </tr>\n",
       "    <tr>\n",
       "      <th>390</th>\n",
       "      <td>rxcui:1312397</td>\n",
       "      <td>Colorectal Adenocarcinoma</td>\n",
       "      <td>1</td>\n",
       "      <td>rxcui:1312397, Colorectal Adenocarcinoma</td>\n",
       "    </tr>\n",
       "    <tr>\n",
       "      <th>391</th>\n",
       "      <td>(TherapeuticSubstituteGroup, civic.tsgid:Bp7LS...</td>\n",
       "      <td>Gastrointestinal Stromal Tumor</td>\n",
       "      <td>1</td>\n",
       "      <td>('TherapeuticSubstituteGroup', 'civic.tsgid:Bp...</td>\n",
       "    </tr>\n",
       "    <tr>\n",
       "      <th>392</th>\n",
       "      <td>(TherapeuticSubstituteGroup, civic.tsgid:7UdV-...</td>\n",
       "      <td>Melanoma</td>\n",
       "      <td>1</td>\n",
       "      <td>('TherapeuticSubstituteGroup', 'civic.tsgid:7U...</td>\n",
       "    </tr>\n",
       "    <tr>\n",
       "      <th>393</th>\n",
       "      <td>rxcui:1363267</td>\n",
       "      <td>Lung Non-small Cell Carcinoma</td>\n",
       "      <td>1</td>\n",
       "      <td>rxcui:1363267, Lung Non-small Cell Carcinoma</td>\n",
       "    </tr>\n",
       "    <tr>\n",
       "      <th>394</th>\n",
       "      <td>rxcui:72965</td>\n",
       "      <td>Invasive Breast Carcinoma</td>\n",
       "      <td>1</td>\n",
       "      <td>rxcui:72965, Invasive Breast Carcinoma</td>\n",
       "    </tr>\n",
       "  </tbody>\n",
       "</table>\n",
       "<p>395 rows × 4 columns</p>\n",
       "</div>"
      ],
      "text/plain": [
       "                                           Therapeutic  \\\n",
       "0                                         rxcui:318341   \n",
       "1                                        rxcui:1147220   \n",
       "2                                         rxcui:337525   \n",
       "3                                        rxcui:2289380   \n",
       "4                                         ncit:C165479   \n",
       "..                                                 ...   \n",
       "390                                      rxcui:1312397   \n",
       "391  (TherapeuticSubstituteGroup, civic.tsgid:Bp7LS...   \n",
       "392  (TherapeuticSubstituteGroup, civic.tsgid:7UdV-...   \n",
       "393                                      rxcui:1363267   \n",
       "394                                        rxcui:72965   \n",
       "\n",
       "                            Disease  counts  \\\n",
       "0                 Colorectal Cancer      37   \n",
       "1                          Melanoma      31   \n",
       "2     Lung Non-small Cell Carcinoma      22   \n",
       "3                          Melanoma      20   \n",
       "4         Invasive Breast Carcinoma      20   \n",
       "..                              ...     ...   \n",
       "390       Colorectal Adenocarcinoma       1   \n",
       "391  Gastrointestinal Stromal Tumor       1   \n",
       "392                        Melanoma       1   \n",
       "393   Lung Non-small Cell Carcinoma       1   \n",
       "394       Invasive Breast Carcinoma       1   \n",
       "\n",
       "                                                joined  \n",
       "0                      rxcui:318341, Colorectal Cancer  \n",
       "1                              rxcui:1147220, Melanoma  \n",
       "2          rxcui:337525, Lung Non-small Cell Carcinoma  \n",
       "3                              rxcui:2289380, Melanoma  \n",
       "4              ncit:C165479, Invasive Breast Carcinoma  \n",
       "..                                                 ...  \n",
       "390           rxcui:1312397, Colorectal Adenocarcinoma  \n",
       "391  ('TherapeuticSubstituteGroup', 'civic.tsgid:Bp...  \n",
       "392  ('TherapeuticSubstituteGroup', 'civic.tsgid:7U...  \n",
       "393       rxcui:1363267, Lung Non-small Cell Carcinoma  \n",
       "394             rxcui:72965, Invasive Breast Carcinoma  \n",
       "\n",
       "[395 rows x 4 columns]"
      ]
     },
     "execution_count": 157,
     "metadata": {},
     "output_type": "execute_result"
    }
   ],
   "source": [
    "tdf['joined'] = None\n",
    "for idx, row in tdf.iterrows():\n",
    "    tdf.at[idx,'joined'] = f'{str(row[\"Therapeutic\"])}, {str(row[\"Disease\"])}'\n",
    "\n",
    "tdf"
   ]
  },
  {
   "cell_type": "code",
   "execution_count": 158,
   "metadata": {},
   "outputs": [
    {
     "data": {
      "text/html": [
       "<div>\n",
       "<style scoped>\n",
       "    .dataframe tbody tr th:only-of-type {\n",
       "        vertical-align: middle;\n",
       "    }\n",
       "\n",
       "    .dataframe tbody tr th {\n",
       "        vertical-align: top;\n",
       "    }\n",
       "\n",
       "    .dataframe thead th {\n",
       "        text-align: right;\n",
       "    }\n",
       "</style>\n",
       "<table border=\"1\" class=\"dataframe\">\n",
       "  <thead>\n",
       "    <tr style=\"text-align: right;\">\n",
       "      <th></th>\n",
       "      <th>Therapeutic</th>\n",
       "      <th>Disease</th>\n",
       "      <th>counts</th>\n",
       "      <th>joined</th>\n",
       "      <th>is_duplicate</th>\n",
       "    </tr>\n",
       "  </thead>\n",
       "  <tbody>\n",
       "    <tr>\n",
       "      <th>0</th>\n",
       "      <td>rxcui:318341</td>\n",
       "      <td>Colorectal Cancer</td>\n",
       "      <td>37</td>\n",
       "      <td>rxcui:318341, Colorectal Cancer</td>\n",
       "      <td>Duplicate</td>\n",
       "    </tr>\n",
       "    <tr>\n",
       "      <th>1</th>\n",
       "      <td>rxcui:1147220</td>\n",
       "      <td>Melanoma</td>\n",
       "      <td>31</td>\n",
       "      <td>rxcui:1147220, Melanoma</td>\n",
       "      <td>Duplicate</td>\n",
       "    </tr>\n",
       "    <tr>\n",
       "      <th>2</th>\n",
       "      <td>rxcui:337525</td>\n",
       "      <td>Lung Non-small Cell Carcinoma</td>\n",
       "      <td>22</td>\n",
       "      <td>rxcui:337525, Lung Non-small Cell Carcinoma</td>\n",
       "      <td>Duplicate</td>\n",
       "    </tr>\n",
       "    <tr>\n",
       "      <th>3</th>\n",
       "      <td>rxcui:2289380</td>\n",
       "      <td>Melanoma</td>\n",
       "      <td>20</td>\n",
       "      <td>rxcui:2289380, Melanoma</td>\n",
       "      <td>Duplicate</td>\n",
       "    </tr>\n",
       "    <tr>\n",
       "      <th>4</th>\n",
       "      <td>ncit:C165479</td>\n",
       "      <td>Invasive Breast Carcinoma</td>\n",
       "      <td>20</td>\n",
       "      <td>ncit:C165479, Invasive Breast Carcinoma</td>\n",
       "      <td>Duplicate</td>\n",
       "    </tr>\n",
       "    <tr>\n",
       "      <th>...</th>\n",
       "      <td>...</td>\n",
       "      <td>...</td>\n",
       "      <td>...</td>\n",
       "      <td>...</td>\n",
       "      <td>...</td>\n",
       "    </tr>\n",
       "    <tr>\n",
       "      <th>390</th>\n",
       "      <td>rxcui:1312397</td>\n",
       "      <td>Colorectal Adenocarcinoma</td>\n",
       "      <td>1</td>\n",
       "      <td>rxcui:1312397, Colorectal Adenocarcinoma</td>\n",
       "      <td>Not Duplicate</td>\n",
       "    </tr>\n",
       "    <tr>\n",
       "      <th>391</th>\n",
       "      <td>(TherapeuticSubstituteGroup, civic.tsgid:Bp7LS...</td>\n",
       "      <td>Gastrointestinal Stromal Tumor</td>\n",
       "      <td>1</td>\n",
       "      <td>('TherapeuticSubstituteGroup', 'civic.tsgid:Bp...</td>\n",
       "      <td>Not Duplicate</td>\n",
       "    </tr>\n",
       "    <tr>\n",
       "      <th>392</th>\n",
       "      <td>(TherapeuticSubstituteGroup, civic.tsgid:7UdV-...</td>\n",
       "      <td>Melanoma</td>\n",
       "      <td>1</td>\n",
       "      <td>('TherapeuticSubstituteGroup', 'civic.tsgid:7U...</td>\n",
       "      <td>Not Duplicate</td>\n",
       "    </tr>\n",
       "    <tr>\n",
       "      <th>393</th>\n",
       "      <td>rxcui:1363267</td>\n",
       "      <td>Lung Non-small Cell Carcinoma</td>\n",
       "      <td>1</td>\n",
       "      <td>rxcui:1363267, Lung Non-small Cell Carcinoma</td>\n",
       "      <td>Not Duplicate</td>\n",
       "    </tr>\n",
       "    <tr>\n",
       "      <th>394</th>\n",
       "      <td>rxcui:72965</td>\n",
       "      <td>Invasive Breast Carcinoma</td>\n",
       "      <td>1</td>\n",
       "      <td>rxcui:72965, Invasive Breast Carcinoma</td>\n",
       "      <td>Not Duplicate</td>\n",
       "    </tr>\n",
       "  </tbody>\n",
       "</table>\n",
       "<p>395 rows × 5 columns</p>\n",
       "</div>"
      ],
      "text/plain": [
       "                                           Therapeutic  \\\n",
       "0                                         rxcui:318341   \n",
       "1                                        rxcui:1147220   \n",
       "2                                         rxcui:337525   \n",
       "3                                        rxcui:2289380   \n",
       "4                                         ncit:C165479   \n",
       "..                                                 ...   \n",
       "390                                      rxcui:1312397   \n",
       "391  (TherapeuticSubstituteGroup, civic.tsgid:Bp7LS...   \n",
       "392  (TherapeuticSubstituteGroup, civic.tsgid:7UdV-...   \n",
       "393                                      rxcui:1363267   \n",
       "394                                        rxcui:72965   \n",
       "\n",
       "                            Disease  counts  \\\n",
       "0                 Colorectal Cancer      37   \n",
       "1                          Melanoma      31   \n",
       "2     Lung Non-small Cell Carcinoma      22   \n",
       "3                          Melanoma      20   \n",
       "4         Invasive Breast Carcinoma      20   \n",
       "..                              ...     ...   \n",
       "390       Colorectal Adenocarcinoma       1   \n",
       "391  Gastrointestinal Stromal Tumor       1   \n",
       "392                        Melanoma       1   \n",
       "393   Lung Non-small Cell Carcinoma       1   \n",
       "394       Invasive Breast Carcinoma       1   \n",
       "\n",
       "                                                joined   is_duplicate  \n",
       "0                      rxcui:318341, Colorectal Cancer      Duplicate  \n",
       "1                              rxcui:1147220, Melanoma      Duplicate  \n",
       "2          rxcui:337525, Lung Non-small Cell Carcinoma      Duplicate  \n",
       "3                              rxcui:2289380, Melanoma      Duplicate  \n",
       "4              ncit:C165479, Invasive Breast Carcinoma      Duplicate  \n",
       "..                                                 ...            ...  \n",
       "390           rxcui:1312397, Colorectal Adenocarcinoma  Not Duplicate  \n",
       "391  ('TherapeuticSubstituteGroup', 'civic.tsgid:Bp...  Not Duplicate  \n",
       "392  ('TherapeuticSubstituteGroup', 'civic.tsgid:7U...  Not Duplicate  \n",
       "393       rxcui:1363267, Lung Non-small Cell Carcinoma  Not Duplicate  \n",
       "394             rxcui:72965, Invasive Breast Carcinoma  Not Duplicate  \n",
       "\n",
       "[395 rows x 5 columns]"
      ]
     },
     "execution_count": 158,
     "metadata": {},
     "output_type": "execute_result"
    }
   ],
   "source": [
    "tdf['is_duplicate'] = tdf['counts'].apply(duplicate_detect)\n",
    "tdf"
   ]
  },
  {
   "cell_type": "code",
   "execution_count": 170,
   "metadata": {},
   "outputs": [
    {
     "data": {
      "application/vnd.plotly.v1+json": {
       "config": {
        "plotlyServerURL": "https://plot.ly"
       },
       "data": [
        {
         "alignmentgroup": "True",
         "hovertemplate": "joined=%{x}<br>counts=%{y}<extra></extra>",
         "legendgroup": "",
         "marker": {
          "color": "#636efa",
          "pattern": {
           "shape": ""
          }
         },
         "name": "",
         "offsetgroup": "",
         "orientation": "v",
         "showlegend": false,
         "textposition": "auto",
         "type": "bar",
         "x": [
          "rxcui:318341, Colorectal Cancer",
          "rxcui:1147220, Melanoma",
          "rxcui:337525, Lung Non-small Cell Carcinoma",
          "rxcui:2289380, Melanoma",
          "ncit:C165479, Invasive Breast Carcinoma",
          "rxcui:328134, Lung Non-small Cell Carcinoma",
          "rxcui:282388, Gastrointestinal Stromal Tumor",
          "rxcui:6718, Multiple Myeloma",
          "('TherapeuticSubstituteGroup', 'civic.tsgid:7IxyhCwID0QYyVCP2xuIyYvwwu-S_HrZ'), Colorectal Cancer",
          "('TherapeuticSubstituteGroup', 'civic.tsgid:IMgxRLc3XTtFhF3LrdtkdhJqiCh-_3dE'), B-lymphoblastic Leukemia/lymphoma",
          "('CombinationTherapy', 'civic.ctid:E39_bNJqxD2YlQvEbnaYPTYj7A6sKF3V'), Colorectal Cancer",
          "rxcui:337525, Lung Adenocarcinoma",
          "rxcui:1546019, Chronic Myelogenous Leukemia",
          "rxcui:282388, Cancer",
          "ncit:C171616, Cancer",
          "rxcui:662281, Chronic Myelogenous Leukemia",
          "rxcui:142433, Chronic Lymphocytic Leukemia",
          "rxcui:263034, Colorectal Cancer",
          "('TherapeuticSubstituteGroup', 'civic.tsgid:MHwrYYGaDMmdgFLNboI18QBl-zDj5Wso'), Lung Non-small Cell Carcinoma",
          "rxcui:337525, Cancer",
          "rxcui:357977, Gastrointestinal Stromal Tumor",
          "rxcui:1147220, Cancer",
          "rxcui:1721560, Lung Non-small Cell Carcinoma",
          "rxcui:1307619, Chronic Myelogenous Leukemia",
          "rxcui:1940643, Breast Cancer",
          "rxcui:282388, Melanoma",
          "rxcui:2267574, Lung Non-small Cell Carcinoma",
          "rxcui:480167, Cancer",
          "rxcui:1312397, Colorectal Cancer",
          "rxcui:1148495, Neuroblastoma",
          "rxcui:2103478, Her2-receptor Positive Breast Cancer",
          "('CombinationTherapy', 'civic.ctid:23p9szOW83imwzdNpS6omDSCucd7VZPf'), Colorectal Cancer",
          "rxcui:1721560, Non-Small Cell Lung Cancer",
          "ncit:C152914, Astrocytoma",
          "rxcui:1546019, Lung Non-small Cell Carcinoma",
          "rxcui:1312397, Gastrointestinal Stromal Tumor",
          "ncit:C152914, Oligodendroglioma",
          "rxcui:1425098, Melanoma",
          "('TherapeuticSubstituteGroup', 'civic.tsgid:R8MiNUEpMs_dHqM95yJGpkvXevdk6azb'), B-lymphoblastic Leukemia/lymphoma",
          "rxcui:1147220, Colorectal Cancer",
          "rxcui:1430438, Lung Non-small Cell Carcinoma",
          "('CombinationTherapy', 'civic.ctid:oBrlcO23adoVXv51xh-5Wigy0QyDWtfr'), Melanoma",
          "rxcui:1371041, Her2-receptor Positive Breast Cancer",
          "rxcui:1535457, Non-Small Cell Lung Cancer",
          "('TherapeuticSubstituteGroup', 'civic.tsgid:Dsj0jsyr-fQXgAxQL6jcaLTVy4zoAdvF'), Breast Cancer",
          "rxcui:1424911, Melanoma",
          "('CombinationTherapy', 'moa.ctid:IAMn2xc8QDzi0_zvPzrGlronyv01Coqs'), Melanoma",
          "ncit:C64639, Gastrointestinal Stromal Tumor",
          "rxcui:2274378, Follicular Lymphoma",
          "ncit:C165479, Breast Cancer",
          "rxcui:328134, Lung Cancer",
          "rxcui:2049873, Acute Myeloid Leukemia",
          "rxcui:328134, Lung Adenocarcinoma",
          "rxcui:337525, High Grade Glioma",
          "ncit:C165479, Her2-receptor Positive Breast Cancer",
          "ncit:C129687, Acute Myeloid Leukemia",
          "ncit:C147908, Breast Cancer",
          "rxcui:2058848, Lung Non-small Cell Carcinoma",
          "rxcui:2123125, Bladder Urothelial Carcinoma",
          "rxcui:1147220, Skin Melanoma",
          "rxcui:1430438, Lung Adenocarcinoma",
          "('TherapeuticSubstituteGroup', 'civic.tsgid:IMgxRLc3XTtFhF3LrdtkdhJqiCh-_3dE'), Childhood Acute Lymphocytic Leukemia",
          "rxcui:357977, Acute Myeloid Leukemia",
          "('TherapeuticSubstituteGroup', 'civic.tsgid:b5WTtG7LRkGXmkK9gDSA00gJ_AiZvgnj'), Melanoma",
          "rxcui:357977, Cancer",
          "rxcui:2105806, Acute Myeloid Leukemia",
          "('CombinationTherapy', 'civic.ctid:fhoJlflGcyI7CoY-_bzWLsBwlsn7GwLN'), Colon Cancer",
          "('CombinationTherapy', 'civic.ctid:rF1JcnGq_-VTc0yiCsNIORfNqXQCC3yM'), Colorectal Cancer",
          "('TherapeuticSubstituteGroup', 'civic.tsgid:tWJleGyed3g0Eqv1ASxYxVix6lJUtxhw'), Skin Melanoma",
          "rxcui:1364347, Gastrointestinal Stromal Tumor",
          "('TherapeuticSubstituteGroup', 'civic.tsgid:pRXLOTUcGy266tKwrptqo3E3XUUSTYZh'), Gastrointestinal Stromal Tumor",
          "rxcui:1242987, Basal Cell Carcinoma",
          "('TherapeuticSubstituteGroup', 'civic.tsgid:XfIozULZDMYsSPTJsoBBE_VUj4zzkscC'), Gastrointestinal Stromal Tumor",
          "('TherapeuticSubstituteGroup', 'civic.tsgid:EFgr37MY89Im6stpaZjt2xyMOX1et0He'), Gastrointestinal Stromal Tumor",
          "('TherapeuticSubstituteGroup', 'civic.tsgid:jKuLlWRt_pXwz9R2lQrLzMdihFWFZMMK'), Cancer",
          "('TherapeuticSubstituteGroup', 'civic.tsgid:IMgxRLc3XTtFhF3LrdtkdhJqiCh-_3dE'), T-cell Acute Lymphoblastic Leukemia",
          "rxcui:1147220, Papillary Thyroid Carcinoma",
          "('TherapeuticSubstituteGroup', 'civic.tsgid:gVgGkpzxqiqLKaKyQVlfGYCzm6HVoRcE'), Childhood Acute Lymphocytic Leukemia",
          "('TherapeuticSubstituteGroup', 'civic.tsgid:MHwrYYGaDMmdgFLNboI18QBl-zDj5Wso'), Lung Adenocarcinoma",
          "ncit:C171615, Neuroblastoma",
          "rxcui:1147220, Non-Langerhans Cell Histiocytosis/Erdheim-Chester Disease",
          "('TherapeuticSubstituteGroup', 'civic.tsgid:D46xUyn1b10HAjpKd6R9Pk2F5e_Dhj3C'), Thyroid Cancer",
          "ncit:C68936, Acute Myeloid Leukemia",
          "rxcui:1148495, Lung Non-small Cell Carcinoma",
          "iuphar.ligand:5701, Breast Cancer",
          "rxcui:35302, Breast Cancer",
          "rxcui:1442981, Chronic Lymphocytic Leukemia",
          "rxcui:2272107, Gastrointestinal Stromal Tumor",
          "rxcui:1940332, Acute Myeloid Leukemia",
          "rxcui:1721560, Lung Adenocarcinoma",
          "rxcui:1442981, Diffuse Large B-cell Lymphoma Activated B-cell Type",
          "rxcui:2103164, Neuroblastoma",
          "rxcui:1430438, Transitional Cell Carcinoma",
          "rxcui:495881, Lung Non-small Cell Carcinoma",
          "rxcui:337525, Cholangiocarcinoma",
          "ncit:C48402, Acute Myeloid Leukemia",
          "iuphar.ligand:5701, Her2-receptor Positive Breast Cancer",
          "rxcui:2370147, Medullary Thyroid Cancer",
          "rxcui:3041, B-lymphoblastic Leukemia/lymphoma",
          "rxcui:32592, Colorectal Cancer",
          "ncit:C115109, Non-Small Cell Lung Cancer",
          "rxcui:328134, Non-Small Cell Lung Cancer",
          "rxcui:337525, Non-Small Cell Lung Cancer",
          "rxcui:495881, Acute Myeloid Leukemia",
          "ncit:C158603, Breast Cancer",
          "ncit:C120307, Non-Small Cell Lung Cancer",
          "rxcui:2049873, Myelodysplastic Syndromes",
          "rxcui:37776, Melanoma",
          "rxcui:480167, Lung Non-small Cell Carcinoma",
          "rxcui:495881, Skin Melanoma",
          "rxcui:1307619, Chronic Myeloid Leukemia",
          "rxcui:2049106, Melanoma",
          "rxcui:2049873, Cholangiocarcinoma",
          "rxcui:1597582, Prostate Cancer",
          "rxcui:141704, Thyroid Gland Carcinoma",
          "rxcui:1425098, Skin Melanoma",
          "rxcui:1430438, Breast Cancer",
          "rxcui:1430438, Non-Small Cell Lung Cancer",
          "rxcui:1193326, Chronic Neutrophilic Leukemia",
          "iuphar.ligand:5282, Skin Melanoma",
          "rxcui:153329, Colorectal Cancer",
          "rxcui:1546019, Melanoma",
          "rxcui:1147220, Multiple Myeloma",
          "ncit:C71896, Medullary Thyroid Carcinoma",
          "rxcui:1747556, Follicular Lymphoma",
          "rxcui:1147220, Hairy Cell Leukemia",
          "rxcui:1919083, Acute Myeloid Leukemia",
          "rxcui:1940643, Lung Non-small Cell Carcinoma",
          "ncit:C77588, Lung Non-small Cell Carcinoma",
          "ncit:C74072, Her2-receptor Positive Breast Cancer",
          "ncit:C74072, Head And Neck Cancer",
          "rxcui:1364347, Chronic Myelogenous Leukemia",
          "('CombinationTherapy', 'civic.ctid:-TUOzS0ClpVaUo5oisn2Bt0H0ZHPi1cJ'), Colorectal Cancer",
          "ncit:C99905, Lung Non-small Cell Carcinoma",
          "('CombinationTherapy', 'civic.ctid:Exy3-S7snfyhQHnOQ6ZbukSAmtGQaYfA'), Her2-receptor Positive Breast Cancer",
          "('CombinationTherapy', 'civic.ctid:aqQX-Uu5M67jU4vqRwbOB7diuYQozPtZ'), Colorectal Cancer",
          "('CombinationTherapy', 'civic.ctid:oBrlcO23adoVXv51xh-5Wigy0QyDWtfr'), Intrahepatic Cholangiocarcinoma",
          "('CombinationTherapy', 'civic.ctid:oBrlcO23adoVXv51xh-5Wigy0QyDWtfr'), Lung Non-small Cell Carcinoma",
          "('CombinationTherapy', 'civic.ctid:oBrlcO23adoVXv51xh-5Wigy0QyDWtfr'), Skin Melanoma",
          "('CombinationTherapy', 'civic.ctid:DL-rzLeUUdAwgqhOo4lMSKVLq4CR4E9_'), Melanoma",
          "('TherapeuticSubstituteGroup', 'civic.tsgid:cI8a1KqlKHGJhEYJvUfvA11fkiIQd--H'), Skin Melanoma",
          "('CombinationTherapy', 'moa.ctid:fImZ7uz-ZC2vosZSuS-gdJcQGXu3l6l7'), Melanoma",
          "('TherapeuticSubstituteGroup', 'civic.tsgid:f0IOBQHIv94-aVcb5dMKA9rkPpDFY0jD'), Gastrointestinal Stromal Tumor",
          "('TherapeuticSubstituteGroup', 'civic.tsgid:DikLqTiUzvlAynTzqBw5f3Cj5Arf5sW1'), Colorectal Cancer",
          "('TherapeuticSubstituteGroup', 'civic.tsgid:sRHtqV0Bx8glrh6cOUCk7nrpqP0Eeqrn'), B-lymphoblastic Leukemia/lymphoma",
          "('CombinationTherapy', 'civic.ctid:XLPSZcKSHPHqVNFvaTkpEccouN1BleTZ'), Lung Non-small Cell Carcinoma",
          "('TherapeuticSubstituteGroup', 'civic.tsgid:wsLrVLsW3tlJpvelphvNfi7j0WAQrFVD'), Angiosarcoma",
          "('TherapeuticSubstituteGroup', 'civic.tsgid:KuD9fVxtGEzkO9TjmpGN0Xt5x68Qm7S-'), Cancer",
          "('TherapeuticSubstituteGroup', 'civic.tsgid:bf_BuyNMwaqXScLEAS5F0_LZZf1t1H2f'), Breast Cancer",
          "('CombinationTherapy', 'civic.ctid:7g5X81wE2go4GE_fB45SjFamVMgpnwsA'), Colorectal Cancer",
          "drugbank:DB12638, Acute Lymphoid Leukemia",
          "('CombinationTherapy', 'moa.ctid:C91ScST5e8OGj8fXpwjf1rACl3_viw9L'), Acute Myeloid Leukemia",
          "('TherapeuticSubstituteGroup', 'civic.tsgid:MHwrYYGaDMmdgFLNboI18QBl-zDj5Wso'), Cancer"
         ],
         "xaxis": "x",
         "y": [
          37,
          31,
          22,
          20,
          20,
          19,
          19,
          16,
          16,
          15,
          14,
          13,
          13,
          12,
          12,
          12,
          11,
          11,
          11,
          11,
          11,
          10,
          10,
          10,
          9,
          9,
          9,
          8,
          8,
          7,
          7,
          7,
          7,
          7,
          7,
          6,
          6,
          6,
          6,
          6,
          6,
          6,
          5,
          5,
          5,
          5,
          5,
          5,
          5,
          5,
          5,
          5,
          5,
          5,
          5,
          5,
          5,
          5,
          4,
          4,
          4,
          4,
          4,
          4,
          4,
          4,
          4,
          4,
          4,
          4,
          3,
          3,
          3,
          3,
          3,
          3,
          3,
          3,
          3,
          3,
          3,
          3,
          3,
          3,
          3,
          3,
          3,
          3,
          3,
          3,
          3,
          3,
          3,
          2,
          2,
          2,
          2,
          2,
          2,
          2,
          2,
          2,
          2,
          2,
          2,
          2,
          2,
          2,
          2,
          2,
          2,
          2,
          2,
          2,
          2,
          2,
          2,
          2,
          2,
          2,
          2,
          2,
          2,
          2,
          2,
          2,
          2,
          2,
          2,
          2,
          2,
          2,
          2,
          2,
          2,
          2,
          2,
          2,
          2,
          2,
          2,
          2,
          2,
          2,
          2,
          2,
          2,
          2,
          2,
          2,
          2,
          2,
          2
         ],
         "yaxis": "y"
        }
       ],
       "layout": {
        "bargap": 0.2,
        "barmode": "relative",
        "legend": {
         "tracegroupgap": 0
        },
        "template": {
         "data": {
          "bar": [
           {
            "error_x": {
             "color": "#2a3f5f"
            },
            "error_y": {
             "color": "#2a3f5f"
            },
            "marker": {
             "line": {
              "color": "#E5ECF6",
              "width": 0.5
             },
             "pattern": {
              "fillmode": "overlay",
              "size": 10,
              "solidity": 0.2
             }
            },
            "type": "bar"
           }
          ],
          "barpolar": [
           {
            "marker": {
             "line": {
              "color": "#E5ECF6",
              "width": 0.5
             },
             "pattern": {
              "fillmode": "overlay",
              "size": 10,
              "solidity": 0.2
             }
            },
            "type": "barpolar"
           }
          ],
          "carpet": [
           {
            "aaxis": {
             "endlinecolor": "#2a3f5f",
             "gridcolor": "white",
             "linecolor": "white",
             "minorgridcolor": "white",
             "startlinecolor": "#2a3f5f"
            },
            "baxis": {
             "endlinecolor": "#2a3f5f",
             "gridcolor": "white",
             "linecolor": "white",
             "minorgridcolor": "white",
             "startlinecolor": "#2a3f5f"
            },
            "type": "carpet"
           }
          ],
          "choropleth": [
           {
            "colorbar": {
             "outlinewidth": 0,
             "ticks": ""
            },
            "type": "choropleth"
           }
          ],
          "contour": [
           {
            "colorbar": {
             "outlinewidth": 0,
             "ticks": ""
            },
            "colorscale": [
             [
              0,
              "#0d0887"
             ],
             [
              0.1111111111111111,
              "#46039f"
             ],
             [
              0.2222222222222222,
              "#7201a8"
             ],
             [
              0.3333333333333333,
              "#9c179e"
             ],
             [
              0.4444444444444444,
              "#bd3786"
             ],
             [
              0.5555555555555556,
              "#d8576b"
             ],
             [
              0.6666666666666666,
              "#ed7953"
             ],
             [
              0.7777777777777778,
              "#fb9f3a"
             ],
             [
              0.8888888888888888,
              "#fdca26"
             ],
             [
              1,
              "#f0f921"
             ]
            ],
            "type": "contour"
           }
          ],
          "contourcarpet": [
           {
            "colorbar": {
             "outlinewidth": 0,
             "ticks": ""
            },
            "type": "contourcarpet"
           }
          ],
          "heatmap": [
           {
            "colorbar": {
             "outlinewidth": 0,
             "ticks": ""
            },
            "colorscale": [
             [
              0,
              "#0d0887"
             ],
             [
              0.1111111111111111,
              "#46039f"
             ],
             [
              0.2222222222222222,
              "#7201a8"
             ],
             [
              0.3333333333333333,
              "#9c179e"
             ],
             [
              0.4444444444444444,
              "#bd3786"
             ],
             [
              0.5555555555555556,
              "#d8576b"
             ],
             [
              0.6666666666666666,
              "#ed7953"
             ],
             [
              0.7777777777777778,
              "#fb9f3a"
             ],
             [
              0.8888888888888888,
              "#fdca26"
             ],
             [
              1,
              "#f0f921"
             ]
            ],
            "type": "heatmap"
           }
          ],
          "heatmapgl": [
           {
            "colorbar": {
             "outlinewidth": 0,
             "ticks": ""
            },
            "colorscale": [
             [
              0,
              "#0d0887"
             ],
             [
              0.1111111111111111,
              "#46039f"
             ],
             [
              0.2222222222222222,
              "#7201a8"
             ],
             [
              0.3333333333333333,
              "#9c179e"
             ],
             [
              0.4444444444444444,
              "#bd3786"
             ],
             [
              0.5555555555555556,
              "#d8576b"
             ],
             [
              0.6666666666666666,
              "#ed7953"
             ],
             [
              0.7777777777777778,
              "#fb9f3a"
             ],
             [
              0.8888888888888888,
              "#fdca26"
             ],
             [
              1,
              "#f0f921"
             ]
            ],
            "type": "heatmapgl"
           }
          ],
          "histogram": [
           {
            "marker": {
             "pattern": {
              "fillmode": "overlay",
              "size": 10,
              "solidity": 0.2
             }
            },
            "type": "histogram"
           }
          ],
          "histogram2d": [
           {
            "colorbar": {
             "outlinewidth": 0,
             "ticks": ""
            },
            "colorscale": [
             [
              0,
              "#0d0887"
             ],
             [
              0.1111111111111111,
              "#46039f"
             ],
             [
              0.2222222222222222,
              "#7201a8"
             ],
             [
              0.3333333333333333,
              "#9c179e"
             ],
             [
              0.4444444444444444,
              "#bd3786"
             ],
             [
              0.5555555555555556,
              "#d8576b"
             ],
             [
              0.6666666666666666,
              "#ed7953"
             ],
             [
              0.7777777777777778,
              "#fb9f3a"
             ],
             [
              0.8888888888888888,
              "#fdca26"
             ],
             [
              1,
              "#f0f921"
             ]
            ],
            "type": "histogram2d"
           }
          ],
          "histogram2dcontour": [
           {
            "colorbar": {
             "outlinewidth": 0,
             "ticks": ""
            },
            "colorscale": [
             [
              0,
              "#0d0887"
             ],
             [
              0.1111111111111111,
              "#46039f"
             ],
             [
              0.2222222222222222,
              "#7201a8"
             ],
             [
              0.3333333333333333,
              "#9c179e"
             ],
             [
              0.4444444444444444,
              "#bd3786"
             ],
             [
              0.5555555555555556,
              "#d8576b"
             ],
             [
              0.6666666666666666,
              "#ed7953"
             ],
             [
              0.7777777777777778,
              "#fb9f3a"
             ],
             [
              0.8888888888888888,
              "#fdca26"
             ],
             [
              1,
              "#f0f921"
             ]
            ],
            "type": "histogram2dcontour"
           }
          ],
          "mesh3d": [
           {
            "colorbar": {
             "outlinewidth": 0,
             "ticks": ""
            },
            "type": "mesh3d"
           }
          ],
          "parcoords": [
           {
            "line": {
             "colorbar": {
              "outlinewidth": 0,
              "ticks": ""
             }
            },
            "type": "parcoords"
           }
          ],
          "pie": [
           {
            "automargin": true,
            "type": "pie"
           }
          ],
          "scatter": [
           {
            "fillpattern": {
             "fillmode": "overlay",
             "size": 10,
             "solidity": 0.2
            },
            "type": "scatter"
           }
          ],
          "scatter3d": [
           {
            "line": {
             "colorbar": {
              "outlinewidth": 0,
              "ticks": ""
             }
            },
            "marker": {
             "colorbar": {
              "outlinewidth": 0,
              "ticks": ""
             }
            },
            "type": "scatter3d"
           }
          ],
          "scattercarpet": [
           {
            "marker": {
             "colorbar": {
              "outlinewidth": 0,
              "ticks": ""
             }
            },
            "type": "scattercarpet"
           }
          ],
          "scattergeo": [
           {
            "marker": {
             "colorbar": {
              "outlinewidth": 0,
              "ticks": ""
             }
            },
            "type": "scattergeo"
           }
          ],
          "scattergl": [
           {
            "marker": {
             "colorbar": {
              "outlinewidth": 0,
              "ticks": ""
             }
            },
            "type": "scattergl"
           }
          ],
          "scattermapbox": [
           {
            "marker": {
             "colorbar": {
              "outlinewidth": 0,
              "ticks": ""
             }
            },
            "type": "scattermapbox"
           }
          ],
          "scatterpolar": [
           {
            "marker": {
             "colorbar": {
              "outlinewidth": 0,
              "ticks": ""
             }
            },
            "type": "scatterpolar"
           }
          ],
          "scatterpolargl": [
           {
            "marker": {
             "colorbar": {
              "outlinewidth": 0,
              "ticks": ""
             }
            },
            "type": "scatterpolargl"
           }
          ],
          "scatterternary": [
           {
            "marker": {
             "colorbar": {
              "outlinewidth": 0,
              "ticks": ""
             }
            },
            "type": "scatterternary"
           }
          ],
          "surface": [
           {
            "colorbar": {
             "outlinewidth": 0,
             "ticks": ""
            },
            "colorscale": [
             [
              0,
              "#0d0887"
             ],
             [
              0.1111111111111111,
              "#46039f"
             ],
             [
              0.2222222222222222,
              "#7201a8"
             ],
             [
              0.3333333333333333,
              "#9c179e"
             ],
             [
              0.4444444444444444,
              "#bd3786"
             ],
             [
              0.5555555555555556,
              "#d8576b"
             ],
             [
              0.6666666666666666,
              "#ed7953"
             ],
             [
              0.7777777777777778,
              "#fb9f3a"
             ],
             [
              0.8888888888888888,
              "#fdca26"
             ],
             [
              1,
              "#f0f921"
             ]
            ],
            "type": "surface"
           }
          ],
          "table": [
           {
            "cells": {
             "fill": {
              "color": "#EBF0F8"
             },
             "line": {
              "color": "white"
             }
            },
            "header": {
             "fill": {
              "color": "#C8D4E3"
             },
             "line": {
              "color": "white"
             }
            },
            "type": "table"
           }
          ]
         },
         "layout": {
          "annotationdefaults": {
           "arrowcolor": "#2a3f5f",
           "arrowhead": 0,
           "arrowwidth": 1
          },
          "autotypenumbers": "strict",
          "coloraxis": {
           "colorbar": {
            "outlinewidth": 0,
            "ticks": ""
           }
          },
          "colorscale": {
           "diverging": [
            [
             0,
             "#8e0152"
            ],
            [
             0.1,
             "#c51b7d"
            ],
            [
             0.2,
             "#de77ae"
            ],
            [
             0.3,
             "#f1b6da"
            ],
            [
             0.4,
             "#fde0ef"
            ],
            [
             0.5,
             "#f7f7f7"
            ],
            [
             0.6,
             "#e6f5d0"
            ],
            [
             0.7,
             "#b8e186"
            ],
            [
             0.8,
             "#7fbc41"
            ],
            [
             0.9,
             "#4d9221"
            ],
            [
             1,
             "#276419"
            ]
           ],
           "sequential": [
            [
             0,
             "#0d0887"
            ],
            [
             0.1111111111111111,
             "#46039f"
            ],
            [
             0.2222222222222222,
             "#7201a8"
            ],
            [
             0.3333333333333333,
             "#9c179e"
            ],
            [
             0.4444444444444444,
             "#bd3786"
            ],
            [
             0.5555555555555556,
             "#d8576b"
            ],
            [
             0.6666666666666666,
             "#ed7953"
            ],
            [
             0.7777777777777778,
             "#fb9f3a"
            ],
            [
             0.8888888888888888,
             "#fdca26"
            ],
            [
             1,
             "#f0f921"
            ]
           ],
           "sequentialminus": [
            [
             0,
             "#0d0887"
            ],
            [
             0.1111111111111111,
             "#46039f"
            ],
            [
             0.2222222222222222,
             "#7201a8"
            ],
            [
             0.3333333333333333,
             "#9c179e"
            ],
            [
             0.4444444444444444,
             "#bd3786"
            ],
            [
             0.5555555555555556,
             "#d8576b"
            ],
            [
             0.6666666666666666,
             "#ed7953"
            ],
            [
             0.7777777777777778,
             "#fb9f3a"
            ],
            [
             0.8888888888888888,
             "#fdca26"
            ],
            [
             1,
             "#f0f921"
            ]
           ]
          },
          "colorway": [
           "#636efa",
           "#EF553B",
           "#00cc96",
           "#ab63fa",
           "#FFA15A",
           "#19d3f3",
           "#FF6692",
           "#B6E880",
           "#FF97FF",
           "#FECB52"
          ],
          "font": {
           "color": "#2a3f5f"
          },
          "geo": {
           "bgcolor": "white",
           "lakecolor": "white",
           "landcolor": "#E5ECF6",
           "showlakes": true,
           "showland": true,
           "subunitcolor": "white"
          },
          "hoverlabel": {
           "align": "left"
          },
          "hovermode": "closest",
          "mapbox": {
           "style": "light"
          },
          "paper_bgcolor": "white",
          "plot_bgcolor": "#E5ECF6",
          "polar": {
           "angularaxis": {
            "gridcolor": "white",
            "linecolor": "white",
            "ticks": ""
           },
           "bgcolor": "#E5ECF6",
           "radialaxis": {
            "gridcolor": "white",
            "linecolor": "white",
            "ticks": ""
           }
          },
          "scene": {
           "xaxis": {
            "backgroundcolor": "#E5ECF6",
            "gridcolor": "white",
            "gridwidth": 2,
            "linecolor": "white",
            "showbackground": true,
            "ticks": "",
            "zerolinecolor": "white"
           },
           "yaxis": {
            "backgroundcolor": "#E5ECF6",
            "gridcolor": "white",
            "gridwidth": 2,
            "linecolor": "white",
            "showbackground": true,
            "ticks": "",
            "zerolinecolor": "white"
           },
           "zaxis": {
            "backgroundcolor": "#E5ECF6",
            "gridcolor": "white",
            "gridwidth": 2,
            "linecolor": "white",
            "showbackground": true,
            "ticks": "",
            "zerolinecolor": "white"
           }
          },
          "shapedefaults": {
           "line": {
            "color": "#2a3f5f"
           }
          },
          "ternary": {
           "aaxis": {
            "gridcolor": "white",
            "linecolor": "white",
            "ticks": ""
           },
           "baxis": {
            "gridcolor": "white",
            "linecolor": "white",
            "ticks": ""
           },
           "bgcolor": "#E5ECF6",
           "caxis": {
            "gridcolor": "white",
            "linecolor": "white",
            "ticks": ""
           }
          },
          "title": {
           "x": 0.05
          },
          "xaxis": {
           "automargin": true,
           "gridcolor": "white",
           "linecolor": "white",
           "ticks": "",
           "title": {
            "standoff": 15
           },
           "zerolinecolor": "white",
           "zerolinewidth": 2
          },
          "yaxis": {
           "automargin": true,
           "gridcolor": "white",
           "linecolor": "white",
           "ticks": "",
           "title": {
            "standoff": 15
           },
           "zerolinecolor": "white",
           "zerolinewidth": 2
          }
         }
        },
        "title": {
         "text": "Overlap of Therapeutic/Disease Evidence in MetaKB v2"
        },
        "xaxis": {
         "anchor": "y",
         "domain": [
          0,
          1
         ],
         "tickfont": {
          "size": 4
         },
         "title": {
          "text": "Therapeutic/Disease Aggregated Evidence"
         }
        },
        "yaxis": {
         "anchor": "x",
         "domain": [
          0,
          1
         ],
         "title": {
          "font": {
           "size": 12
          },
          "text": "# of Study Statements containing Therapeutic/Disease"
         }
        }
       }
      }
     },
     "metadata": {},
     "output_type": "display_data"
    }
   ],
   "source": [
    "# Bar Graph of Evidence Overlap\n",
    "fig = px.bar(tdf[0:153], x='joined', y='counts', title='Overlap of Therapeutic/Disease Evidence in MetaKB v2')\n",
    "fig.update_layout(yaxis_title='# of Study Statements containing Therapeutic/Disease',\n",
    "                  xaxis_title='Therapeutic/Disease Aggregated Evidence',\n",
    "                  xaxis=dict(tickfont=dict(size=4)),\n",
    "                  yaxis_title_font=dict(size=12),\n",
    "                  bargap=0.2)\n",
    "fig.show()\n",
    "pio.write_image(fig, \"Therapeutic_Disease_aggregation_overlap_bar.png\", format='png', width=1500, height=500, scale=5)\n"
   ]
  },
  {
   "cell_type": "code",
   "execution_count": 173,
   "metadata": {},
   "outputs": [
    {
     "data": {
      "application/vnd.plotly.v1+json": {
       "config": {
        "plotlyServerURL": "https://plot.ly"
       },
       "data": [
        {
         "domain": {
          "x": [
           0,
           1
          ],
          "y": [
           0,
           1
          ]
         },
         "hovertemplate": "is_duplicate=%{label}<br>counts=%{value}<extra></extra>",
         "labels": [
          "Duplicate",
          "Duplicate",
          "Duplicate",
          "Duplicate",
          "Duplicate",
          "Duplicate",
          "Duplicate",
          "Duplicate",
          "Duplicate",
          "Duplicate",
          "Duplicate",
          "Duplicate",
          "Duplicate",
          "Duplicate",
          "Duplicate",
          "Duplicate",
          "Duplicate",
          "Duplicate",
          "Duplicate",
          "Duplicate",
          "Duplicate",
          "Duplicate",
          "Duplicate",
          "Duplicate",
          "Duplicate",
          "Duplicate",
          "Duplicate",
          "Duplicate",
          "Duplicate",
          "Duplicate",
          "Duplicate",
          "Duplicate",
          "Duplicate",
          "Duplicate",
          "Duplicate",
          "Duplicate",
          "Duplicate",
          "Duplicate",
          "Duplicate",
          "Duplicate",
          "Duplicate",
          "Duplicate",
          "Duplicate",
          "Duplicate",
          "Duplicate",
          "Duplicate",
          "Duplicate",
          "Duplicate",
          "Duplicate",
          "Duplicate",
          "Duplicate",
          "Duplicate",
          "Duplicate",
          "Duplicate",
          "Duplicate",
          "Duplicate",
          "Duplicate",
          "Duplicate",
          "Duplicate",
          "Duplicate",
          "Duplicate",
          "Duplicate",
          "Duplicate",
          "Duplicate",
          "Duplicate",
          "Duplicate",
          "Duplicate",
          "Duplicate",
          "Duplicate",
          "Duplicate",
          "Duplicate",
          "Duplicate",
          "Duplicate",
          "Duplicate",
          "Duplicate",
          "Duplicate",
          "Duplicate",
          "Duplicate",
          "Duplicate",
          "Duplicate",
          "Duplicate",
          "Duplicate",
          "Duplicate",
          "Duplicate",
          "Duplicate",
          "Duplicate",
          "Duplicate",
          "Duplicate",
          "Duplicate",
          "Duplicate",
          "Duplicate",
          "Duplicate",
          "Duplicate",
          "Duplicate",
          "Duplicate",
          "Duplicate",
          "Duplicate",
          "Duplicate",
          "Duplicate",
          "Duplicate",
          "Duplicate",
          "Duplicate",
          "Duplicate",
          "Duplicate",
          "Duplicate",
          "Duplicate",
          "Duplicate",
          "Duplicate",
          "Duplicate",
          "Duplicate",
          "Duplicate",
          "Duplicate",
          "Duplicate",
          "Duplicate",
          "Duplicate",
          "Duplicate",
          "Duplicate",
          "Duplicate",
          "Duplicate",
          "Duplicate",
          "Duplicate",
          "Duplicate",
          "Duplicate",
          "Duplicate",
          "Duplicate",
          "Duplicate",
          "Duplicate",
          "Duplicate",
          "Duplicate",
          "Duplicate",
          "Duplicate",
          "Duplicate",
          "Duplicate",
          "Duplicate",
          "Duplicate",
          "Duplicate",
          "Duplicate",
          "Duplicate",
          "Duplicate",
          "Duplicate",
          "Duplicate",
          "Duplicate",
          "Duplicate",
          "Duplicate",
          "Duplicate",
          "Duplicate",
          "Duplicate",
          "Duplicate",
          "Duplicate",
          "Duplicate",
          "Duplicate",
          "Duplicate",
          "Duplicate",
          "Not Duplicate",
          "Not Duplicate",
          "Not Duplicate",
          "Not Duplicate",
          "Not Duplicate",
          "Not Duplicate",
          "Not Duplicate",
          "Not Duplicate",
          "Not Duplicate",
          "Not Duplicate",
          "Not Duplicate",
          "Not Duplicate",
          "Not Duplicate",
          "Not Duplicate",
          "Not Duplicate",
          "Not Duplicate",
          "Not Duplicate",
          "Not Duplicate",
          "Not Duplicate",
          "Not Duplicate",
          "Not Duplicate",
          "Not Duplicate",
          "Not Duplicate",
          "Not Duplicate",
          "Not Duplicate",
          "Not Duplicate",
          "Not Duplicate",
          "Not Duplicate",
          "Not Duplicate",
          "Not Duplicate",
          "Not Duplicate",
          "Not Duplicate",
          "Not Duplicate",
          "Not Duplicate",
          "Not Duplicate",
          "Not Duplicate",
          "Not Duplicate",
          "Not Duplicate",
          "Not Duplicate",
          "Not Duplicate",
          "Not Duplicate",
          "Not Duplicate",
          "Not Duplicate",
          "Not Duplicate",
          "Not Duplicate",
          "Not Duplicate",
          "Not Duplicate",
          "Not Duplicate",
          "Not Duplicate",
          "Not Duplicate",
          "Not Duplicate",
          "Not Duplicate",
          "Not Duplicate",
          "Not Duplicate",
          "Not Duplicate",
          "Not Duplicate",
          "Not Duplicate",
          "Not Duplicate",
          "Not Duplicate",
          "Not Duplicate",
          "Not Duplicate",
          "Not Duplicate",
          "Not Duplicate",
          "Not Duplicate",
          "Not Duplicate",
          "Not Duplicate",
          "Not Duplicate",
          "Not Duplicate",
          "Not Duplicate",
          "Not Duplicate",
          "Not Duplicate",
          "Not Duplicate",
          "Not Duplicate",
          "Not Duplicate",
          "Not Duplicate",
          "Not Duplicate",
          "Not Duplicate",
          "Not Duplicate",
          "Not Duplicate",
          "Not Duplicate",
          "Not Duplicate",
          "Not Duplicate",
          "Not Duplicate",
          "Not Duplicate",
          "Not Duplicate",
          "Not Duplicate",
          "Not Duplicate",
          "Not Duplicate",
          "Not Duplicate",
          "Not Duplicate",
          "Not Duplicate",
          "Not Duplicate",
          "Not Duplicate",
          "Not Duplicate",
          "Not Duplicate",
          "Not Duplicate",
          "Not Duplicate",
          "Not Duplicate",
          "Not Duplicate",
          "Not Duplicate",
          "Not Duplicate",
          "Not Duplicate",
          "Not Duplicate",
          "Not Duplicate",
          "Not Duplicate",
          "Not Duplicate",
          "Not Duplicate",
          "Not Duplicate",
          "Not Duplicate",
          "Not Duplicate",
          "Not Duplicate",
          "Not Duplicate",
          "Not Duplicate",
          "Not Duplicate",
          "Not Duplicate",
          "Not Duplicate",
          "Not Duplicate",
          "Not Duplicate",
          "Not Duplicate",
          "Not Duplicate",
          "Not Duplicate",
          "Not Duplicate",
          "Not Duplicate",
          "Not Duplicate",
          "Not Duplicate",
          "Not Duplicate",
          "Not Duplicate",
          "Not Duplicate",
          "Not Duplicate",
          "Not Duplicate",
          "Not Duplicate",
          "Not Duplicate",
          "Not Duplicate",
          "Not Duplicate",
          "Not Duplicate",
          "Not Duplicate",
          "Not Duplicate",
          "Not Duplicate",
          "Not Duplicate",
          "Not Duplicate",
          "Not Duplicate",
          "Not Duplicate",
          "Not Duplicate",
          "Not Duplicate",
          "Not Duplicate",
          "Not Duplicate",
          "Not Duplicate",
          "Not Duplicate",
          "Not Duplicate",
          "Not Duplicate",
          "Not Duplicate",
          "Not Duplicate",
          "Not Duplicate",
          "Not Duplicate",
          "Not Duplicate",
          "Not Duplicate",
          "Not Duplicate",
          "Not Duplicate",
          "Not Duplicate",
          "Not Duplicate",
          "Not Duplicate",
          "Not Duplicate",
          "Not Duplicate",
          "Not Duplicate",
          "Not Duplicate",
          "Not Duplicate",
          "Not Duplicate",
          "Not Duplicate",
          "Not Duplicate",
          "Not Duplicate",
          "Not Duplicate",
          "Not Duplicate",
          "Not Duplicate",
          "Not Duplicate",
          "Not Duplicate",
          "Not Duplicate",
          "Not Duplicate",
          "Not Duplicate",
          "Not Duplicate",
          "Not Duplicate",
          "Not Duplicate",
          "Not Duplicate",
          "Not Duplicate",
          "Not Duplicate",
          "Not Duplicate",
          "Not Duplicate",
          "Not Duplicate",
          "Not Duplicate",
          "Not Duplicate",
          "Not Duplicate",
          "Not Duplicate",
          "Not Duplicate",
          "Not Duplicate",
          "Not Duplicate",
          "Not Duplicate",
          "Not Duplicate",
          "Not Duplicate",
          "Not Duplicate",
          "Not Duplicate",
          "Not Duplicate",
          "Not Duplicate",
          "Not Duplicate",
          "Not Duplicate",
          "Not Duplicate",
          "Not Duplicate",
          "Not Duplicate",
          "Not Duplicate",
          "Not Duplicate",
          "Not Duplicate",
          "Not Duplicate",
          "Not Duplicate",
          "Not Duplicate",
          "Not Duplicate",
          "Not Duplicate",
          "Not Duplicate",
          "Not Duplicate",
          "Not Duplicate",
          "Not Duplicate",
          "Not Duplicate",
          "Not Duplicate",
          "Not Duplicate",
          "Not Duplicate",
          "Not Duplicate",
          "Not Duplicate",
          "Not Duplicate",
          "Not Duplicate",
          "Not Duplicate",
          "Not Duplicate",
          "Not Duplicate",
          "Not Duplicate",
          "Not Duplicate",
          "Not Duplicate",
          "Not Duplicate",
          "Not Duplicate",
          "Not Duplicate",
          "Not Duplicate",
          "Not Duplicate",
          "Not Duplicate",
          "Not Duplicate",
          "Not Duplicate",
          "Not Duplicate",
          "Not Duplicate"
         ],
         "legendgroup": "",
         "name": "",
         "showlegend": true,
         "textinfo": "percent+label",
         "type": "pie",
         "values": [
          37,
          31,
          22,
          20,
          20,
          19,
          19,
          16,
          16,
          15,
          14,
          13,
          13,
          12,
          12,
          12,
          11,
          11,
          11,
          11,
          11,
          10,
          10,
          10,
          9,
          9,
          9,
          8,
          8,
          7,
          7,
          7,
          7,
          7,
          7,
          6,
          6,
          6,
          6,
          6,
          6,
          6,
          5,
          5,
          5,
          5,
          5,
          5,
          5,
          5,
          5,
          5,
          5,
          5,
          5,
          5,
          5,
          5,
          4,
          4,
          4,
          4,
          4,
          4,
          4,
          4,
          4,
          4,
          4,
          4,
          3,
          3,
          3,
          3,
          3,
          3,
          3,
          3,
          3,
          3,
          3,
          3,
          3,
          3,
          3,
          3,
          3,
          3,
          3,
          3,
          3,
          3,
          3,
          2,
          2,
          2,
          2,
          2,
          2,
          2,
          2,
          2,
          2,
          2,
          2,
          2,
          2,
          2,
          2,
          2,
          2,
          2,
          2,
          2,
          2,
          2,
          2,
          2,
          2,
          2,
          2,
          2,
          2,
          2,
          2,
          2,
          2,
          2,
          2,
          2,
          2,
          2,
          2,
          2,
          2,
          2,
          2,
          2,
          2,
          2,
          2,
          2,
          2,
          2,
          2,
          2,
          2,
          2,
          2,
          2,
          2,
          2,
          2,
          1,
          1,
          1,
          1,
          1,
          1,
          1,
          1,
          1,
          1,
          1,
          1,
          1,
          1,
          1,
          1,
          1,
          1,
          1,
          1,
          1,
          1,
          1,
          1,
          1,
          1,
          1,
          1,
          1,
          1,
          1,
          1,
          1,
          1,
          1,
          1,
          1,
          1,
          1,
          1,
          1,
          1,
          1,
          1,
          1,
          1,
          1,
          1,
          1,
          1,
          1,
          1,
          1,
          1,
          1,
          1,
          1,
          1,
          1,
          1,
          1,
          1,
          1,
          1,
          1,
          1,
          1,
          1,
          1,
          1,
          1,
          1,
          1,
          1,
          1,
          1,
          1,
          1,
          1,
          1,
          1,
          1,
          1,
          1,
          1,
          1,
          1,
          1,
          1,
          1,
          1,
          1,
          1,
          1,
          1,
          1,
          1,
          1,
          1,
          1,
          1,
          1,
          1,
          1,
          1,
          1,
          1,
          1,
          1,
          1,
          1,
          1,
          1,
          1,
          1,
          1,
          1,
          1,
          1,
          1,
          1,
          1,
          1,
          1,
          1,
          1,
          1,
          1,
          1,
          1,
          1,
          1,
          1,
          1,
          1,
          1,
          1,
          1,
          1,
          1,
          1,
          1,
          1,
          1,
          1,
          1,
          1,
          1,
          1,
          1,
          1,
          1,
          1,
          1,
          1,
          1,
          1,
          1,
          1,
          1,
          1,
          1,
          1,
          1,
          1,
          1,
          1,
          1,
          1,
          1,
          1,
          1,
          1,
          1,
          1,
          1,
          1,
          1,
          1,
          1,
          1,
          1,
          1,
          1,
          1,
          1,
          1,
          1,
          1,
          1,
          1,
          1,
          1,
          1,
          1,
          1,
          1,
          1,
          1,
          1,
          1,
          1,
          1,
          1,
          1,
          1,
          1,
          1,
          1,
          1,
          1,
          1,
          1,
          1,
          1,
          1,
          1,
          1,
          1,
          1,
          1,
          1,
          1,
          1,
          1,
          1,
          1,
          1,
          1,
          1,
          1,
          1,
          1,
          1,
          1,
          1,
          1,
          1,
          1,
          1,
          1,
          1
         ]
        }
       ],
       "layout": {
        "legend": {
         "tracegroupgap": 0
        },
        "template": {
         "data": {
          "bar": [
           {
            "error_x": {
             "color": "#2a3f5f"
            },
            "error_y": {
             "color": "#2a3f5f"
            },
            "marker": {
             "line": {
              "color": "#E5ECF6",
              "width": 0.5
             },
             "pattern": {
              "fillmode": "overlay",
              "size": 10,
              "solidity": 0.2
             }
            },
            "type": "bar"
           }
          ],
          "barpolar": [
           {
            "marker": {
             "line": {
              "color": "#E5ECF6",
              "width": 0.5
             },
             "pattern": {
              "fillmode": "overlay",
              "size": 10,
              "solidity": 0.2
             }
            },
            "type": "barpolar"
           }
          ],
          "carpet": [
           {
            "aaxis": {
             "endlinecolor": "#2a3f5f",
             "gridcolor": "white",
             "linecolor": "white",
             "minorgridcolor": "white",
             "startlinecolor": "#2a3f5f"
            },
            "baxis": {
             "endlinecolor": "#2a3f5f",
             "gridcolor": "white",
             "linecolor": "white",
             "minorgridcolor": "white",
             "startlinecolor": "#2a3f5f"
            },
            "type": "carpet"
           }
          ],
          "choropleth": [
           {
            "colorbar": {
             "outlinewidth": 0,
             "ticks": ""
            },
            "type": "choropleth"
           }
          ],
          "contour": [
           {
            "colorbar": {
             "outlinewidth": 0,
             "ticks": ""
            },
            "colorscale": [
             [
              0,
              "#0d0887"
             ],
             [
              0.1111111111111111,
              "#46039f"
             ],
             [
              0.2222222222222222,
              "#7201a8"
             ],
             [
              0.3333333333333333,
              "#9c179e"
             ],
             [
              0.4444444444444444,
              "#bd3786"
             ],
             [
              0.5555555555555556,
              "#d8576b"
             ],
             [
              0.6666666666666666,
              "#ed7953"
             ],
             [
              0.7777777777777778,
              "#fb9f3a"
             ],
             [
              0.8888888888888888,
              "#fdca26"
             ],
             [
              1,
              "#f0f921"
             ]
            ],
            "type": "contour"
           }
          ],
          "contourcarpet": [
           {
            "colorbar": {
             "outlinewidth": 0,
             "ticks": ""
            },
            "type": "contourcarpet"
           }
          ],
          "heatmap": [
           {
            "colorbar": {
             "outlinewidth": 0,
             "ticks": ""
            },
            "colorscale": [
             [
              0,
              "#0d0887"
             ],
             [
              0.1111111111111111,
              "#46039f"
             ],
             [
              0.2222222222222222,
              "#7201a8"
             ],
             [
              0.3333333333333333,
              "#9c179e"
             ],
             [
              0.4444444444444444,
              "#bd3786"
             ],
             [
              0.5555555555555556,
              "#d8576b"
             ],
             [
              0.6666666666666666,
              "#ed7953"
             ],
             [
              0.7777777777777778,
              "#fb9f3a"
             ],
             [
              0.8888888888888888,
              "#fdca26"
             ],
             [
              1,
              "#f0f921"
             ]
            ],
            "type": "heatmap"
           }
          ],
          "heatmapgl": [
           {
            "colorbar": {
             "outlinewidth": 0,
             "ticks": ""
            },
            "colorscale": [
             [
              0,
              "#0d0887"
             ],
             [
              0.1111111111111111,
              "#46039f"
             ],
             [
              0.2222222222222222,
              "#7201a8"
             ],
             [
              0.3333333333333333,
              "#9c179e"
             ],
             [
              0.4444444444444444,
              "#bd3786"
             ],
             [
              0.5555555555555556,
              "#d8576b"
             ],
             [
              0.6666666666666666,
              "#ed7953"
             ],
             [
              0.7777777777777778,
              "#fb9f3a"
             ],
             [
              0.8888888888888888,
              "#fdca26"
             ],
             [
              1,
              "#f0f921"
             ]
            ],
            "type": "heatmapgl"
           }
          ],
          "histogram": [
           {
            "marker": {
             "pattern": {
              "fillmode": "overlay",
              "size": 10,
              "solidity": 0.2
             }
            },
            "type": "histogram"
           }
          ],
          "histogram2d": [
           {
            "colorbar": {
             "outlinewidth": 0,
             "ticks": ""
            },
            "colorscale": [
             [
              0,
              "#0d0887"
             ],
             [
              0.1111111111111111,
              "#46039f"
             ],
             [
              0.2222222222222222,
              "#7201a8"
             ],
             [
              0.3333333333333333,
              "#9c179e"
             ],
             [
              0.4444444444444444,
              "#bd3786"
             ],
             [
              0.5555555555555556,
              "#d8576b"
             ],
             [
              0.6666666666666666,
              "#ed7953"
             ],
             [
              0.7777777777777778,
              "#fb9f3a"
             ],
             [
              0.8888888888888888,
              "#fdca26"
             ],
             [
              1,
              "#f0f921"
             ]
            ],
            "type": "histogram2d"
           }
          ],
          "histogram2dcontour": [
           {
            "colorbar": {
             "outlinewidth": 0,
             "ticks": ""
            },
            "colorscale": [
             [
              0,
              "#0d0887"
             ],
             [
              0.1111111111111111,
              "#46039f"
             ],
             [
              0.2222222222222222,
              "#7201a8"
             ],
             [
              0.3333333333333333,
              "#9c179e"
             ],
             [
              0.4444444444444444,
              "#bd3786"
             ],
             [
              0.5555555555555556,
              "#d8576b"
             ],
             [
              0.6666666666666666,
              "#ed7953"
             ],
             [
              0.7777777777777778,
              "#fb9f3a"
             ],
             [
              0.8888888888888888,
              "#fdca26"
             ],
             [
              1,
              "#f0f921"
             ]
            ],
            "type": "histogram2dcontour"
           }
          ],
          "mesh3d": [
           {
            "colorbar": {
             "outlinewidth": 0,
             "ticks": ""
            },
            "type": "mesh3d"
           }
          ],
          "parcoords": [
           {
            "line": {
             "colorbar": {
              "outlinewidth": 0,
              "ticks": ""
             }
            },
            "type": "parcoords"
           }
          ],
          "pie": [
           {
            "automargin": true,
            "type": "pie"
           }
          ],
          "scatter": [
           {
            "fillpattern": {
             "fillmode": "overlay",
             "size": 10,
             "solidity": 0.2
            },
            "type": "scatter"
           }
          ],
          "scatter3d": [
           {
            "line": {
             "colorbar": {
              "outlinewidth": 0,
              "ticks": ""
             }
            },
            "marker": {
             "colorbar": {
              "outlinewidth": 0,
              "ticks": ""
             }
            },
            "type": "scatter3d"
           }
          ],
          "scattercarpet": [
           {
            "marker": {
             "colorbar": {
              "outlinewidth": 0,
              "ticks": ""
             }
            },
            "type": "scattercarpet"
           }
          ],
          "scattergeo": [
           {
            "marker": {
             "colorbar": {
              "outlinewidth": 0,
              "ticks": ""
             }
            },
            "type": "scattergeo"
           }
          ],
          "scattergl": [
           {
            "marker": {
             "colorbar": {
              "outlinewidth": 0,
              "ticks": ""
             }
            },
            "type": "scattergl"
           }
          ],
          "scattermapbox": [
           {
            "marker": {
             "colorbar": {
              "outlinewidth": 0,
              "ticks": ""
             }
            },
            "type": "scattermapbox"
           }
          ],
          "scatterpolar": [
           {
            "marker": {
             "colorbar": {
              "outlinewidth": 0,
              "ticks": ""
             }
            },
            "type": "scatterpolar"
           }
          ],
          "scatterpolargl": [
           {
            "marker": {
             "colorbar": {
              "outlinewidth": 0,
              "ticks": ""
             }
            },
            "type": "scatterpolargl"
           }
          ],
          "scatterternary": [
           {
            "marker": {
             "colorbar": {
              "outlinewidth": 0,
              "ticks": ""
             }
            },
            "type": "scatterternary"
           }
          ],
          "surface": [
           {
            "colorbar": {
             "outlinewidth": 0,
             "ticks": ""
            },
            "colorscale": [
             [
              0,
              "#0d0887"
             ],
             [
              0.1111111111111111,
              "#46039f"
             ],
             [
              0.2222222222222222,
              "#7201a8"
             ],
             [
              0.3333333333333333,
              "#9c179e"
             ],
             [
              0.4444444444444444,
              "#bd3786"
             ],
             [
              0.5555555555555556,
              "#d8576b"
             ],
             [
              0.6666666666666666,
              "#ed7953"
             ],
             [
              0.7777777777777778,
              "#fb9f3a"
             ],
             [
              0.8888888888888888,
              "#fdca26"
             ],
             [
              1,
              "#f0f921"
             ]
            ],
            "type": "surface"
           }
          ],
          "table": [
           {
            "cells": {
             "fill": {
              "color": "#EBF0F8"
             },
             "line": {
              "color": "white"
             }
            },
            "header": {
             "fill": {
              "color": "#C8D4E3"
             },
             "line": {
              "color": "white"
             }
            },
            "type": "table"
           }
          ]
         },
         "layout": {
          "annotationdefaults": {
           "arrowcolor": "#2a3f5f",
           "arrowhead": 0,
           "arrowwidth": 1
          },
          "autotypenumbers": "strict",
          "coloraxis": {
           "colorbar": {
            "outlinewidth": 0,
            "ticks": ""
           }
          },
          "colorscale": {
           "diverging": [
            [
             0,
             "#8e0152"
            ],
            [
             0.1,
             "#c51b7d"
            ],
            [
             0.2,
             "#de77ae"
            ],
            [
             0.3,
             "#f1b6da"
            ],
            [
             0.4,
             "#fde0ef"
            ],
            [
             0.5,
             "#f7f7f7"
            ],
            [
             0.6,
             "#e6f5d0"
            ],
            [
             0.7,
             "#b8e186"
            ],
            [
             0.8,
             "#7fbc41"
            ],
            [
             0.9,
             "#4d9221"
            ],
            [
             1,
             "#276419"
            ]
           ],
           "sequential": [
            [
             0,
             "#0d0887"
            ],
            [
             0.1111111111111111,
             "#46039f"
            ],
            [
             0.2222222222222222,
             "#7201a8"
            ],
            [
             0.3333333333333333,
             "#9c179e"
            ],
            [
             0.4444444444444444,
             "#bd3786"
            ],
            [
             0.5555555555555556,
             "#d8576b"
            ],
            [
             0.6666666666666666,
             "#ed7953"
            ],
            [
             0.7777777777777778,
             "#fb9f3a"
            ],
            [
             0.8888888888888888,
             "#fdca26"
            ],
            [
             1,
             "#f0f921"
            ]
           ],
           "sequentialminus": [
            [
             0,
             "#0d0887"
            ],
            [
             0.1111111111111111,
             "#46039f"
            ],
            [
             0.2222222222222222,
             "#7201a8"
            ],
            [
             0.3333333333333333,
             "#9c179e"
            ],
            [
             0.4444444444444444,
             "#bd3786"
            ],
            [
             0.5555555555555556,
             "#d8576b"
            ],
            [
             0.6666666666666666,
             "#ed7953"
            ],
            [
             0.7777777777777778,
             "#fb9f3a"
            ],
            [
             0.8888888888888888,
             "#fdca26"
            ],
            [
             1,
             "#f0f921"
            ]
           ]
          },
          "colorway": [
           "#636efa",
           "#EF553B",
           "#00cc96",
           "#ab63fa",
           "#FFA15A",
           "#19d3f3",
           "#FF6692",
           "#B6E880",
           "#FF97FF",
           "#FECB52"
          ],
          "font": {
           "color": "#2a3f5f"
          },
          "geo": {
           "bgcolor": "white",
           "lakecolor": "white",
           "landcolor": "#E5ECF6",
           "showlakes": true,
           "showland": true,
           "subunitcolor": "white"
          },
          "hoverlabel": {
           "align": "left"
          },
          "hovermode": "closest",
          "mapbox": {
           "style": "light"
          },
          "paper_bgcolor": "white",
          "plot_bgcolor": "#E5ECF6",
          "polar": {
           "angularaxis": {
            "gridcolor": "white",
            "linecolor": "white",
            "ticks": ""
           },
           "bgcolor": "#E5ECF6",
           "radialaxis": {
            "gridcolor": "white",
            "linecolor": "white",
            "ticks": ""
           }
          },
          "scene": {
           "xaxis": {
            "backgroundcolor": "#E5ECF6",
            "gridcolor": "white",
            "gridwidth": 2,
            "linecolor": "white",
            "showbackground": true,
            "ticks": "",
            "zerolinecolor": "white"
           },
           "yaxis": {
            "backgroundcolor": "#E5ECF6",
            "gridcolor": "white",
            "gridwidth": 2,
            "linecolor": "white",
            "showbackground": true,
            "ticks": "",
            "zerolinecolor": "white"
           },
           "zaxis": {
            "backgroundcolor": "#E5ECF6",
            "gridcolor": "white",
            "gridwidth": 2,
            "linecolor": "white",
            "showbackground": true,
            "ticks": "",
            "zerolinecolor": "white"
           }
          },
          "shapedefaults": {
           "line": {
            "color": "#2a3f5f"
           }
          },
          "ternary": {
           "aaxis": {
            "gridcolor": "white",
            "linecolor": "white",
            "ticks": ""
           },
           "baxis": {
            "gridcolor": "white",
            "linecolor": "white",
            "ticks": ""
           },
           "bgcolor": "#E5ECF6",
           "caxis": {
            "gridcolor": "white",
            "linecolor": "white",
            "ticks": ""
           }
          },
          "title": {
           "x": 0.05
          },
          "xaxis": {
           "automargin": true,
           "gridcolor": "white",
           "linecolor": "white",
           "ticks": "",
           "title": {
            "standoff": 15
           },
           "zerolinecolor": "white",
           "zerolinewidth": 2
          },
          "yaxis": {
           "automargin": true,
           "gridcolor": "white",
           "linecolor": "white",
           "ticks": "",
           "title": {
            "standoff": 15
           },
           "zerolinecolor": "white",
           "zerolinewidth": 2
          }
         }
        },
        "title": {
         "text": "% Evidence containing duplicate Therapeutic/Disease in MetaKB v2"
        }
       }
      }
     },
     "metadata": {},
     "output_type": "display_data"
    }
   ],
   "source": [
    "fig = px.pie(tdf, values='counts', names='is_duplicate', title='% Evidence containing duplicate Therapeutic/Disease in MetaKB v2')\n",
    "fig.update_traces(textinfo='percent+label')\n",
    "fig.show()\n",
    "pio.write_image(fig, \"Duplicate_therapeutic_disease_metakbv2_pie.png\", format='png', width=800, height=800, scale=5)"
   ]
  },
  {
   "cell_type": "markdown",
   "metadata": {},
   "source": [
    "#### Variants with Therapeutics"
   ]
  },
  {
   "cell_type": "code",
   "execution_count": 184,
   "metadata": {},
   "outputs": [
    {
     "data": {
      "text/plain": [
       "subject                                    obj                                                              \n",
       "ga4gh:VA.j4XnsLZcdzDIYa5pvvXM7t1wn9OITr0L  rxcui:1147220                                                        30\n",
       "ga4gh:VA.S41CcMJT2bcd8R4-qXZWH1PoHWNtG2PZ  rxcui:337525                                                         14\n",
       "ga4gh:VA.j4XnsLZcdzDIYa5pvvXM7t1wn9OITr0L  (CombinationTherapy, civic.ctid:oBrlcO23adoVXv51xh-5Wigy0QyDWtfr)    12\n",
       "ga4gh:VA.sMA9h8fzDi0RvweMlxtD0_Oi8B-JZ1V-  rxcui:1721560                                                        11\n",
       "ga4gh:VA.ORvaSNcFK71WOVr_gi2vv6oPCcXgljab  rxcui:318341                                                          8\n",
       "                                                                                                                ..\n",
       "ga4gh:VA.-dMnJf9oUBfl9De0llc3LqJaGdFzfATK  rxcui:2103478                                                         2\n",
       "ga4gh:VA.3ybIkH_QhR6C7QmnTeD2-P6U1Pu7M__0  ncit:C165479                                                          2\n",
       "ga4gh:VA.2NMrhxfirY2q6Zj0wtBNovJQkBwykfPF  rxcui:4492                                                            2\n",
       "ga4gh:VA.1oFFaTlmKzBPBb4fiyAGEilaWJ4sce8_  rxcui:2370147                                                         2\n",
       "ga4gh:VA.w6K7bKlqZC_cCZOk9W0IBVh4EZrcSv3o  rxcui:282388                                                          2\n",
       "Name: count, Length: 114, dtype: int64"
      ]
     },
     "execution_count": 184,
     "metadata": {},
     "output_type": "execute_result"
    }
   ],
   "source": [
    "df[['subject','obj']].value_counts()[0:114]"
   ]
  },
  {
   "cell_type": "code",
   "execution_count": 185,
   "metadata": {},
   "outputs": [
    {
     "data": {
      "text/html": [
       "<div>\n",
       "<style scoped>\n",
       "    .dataframe tbody tr th:only-of-type {\n",
       "        vertical-align: middle;\n",
       "    }\n",
       "\n",
       "    .dataframe tbody tr th {\n",
       "        vertical-align: top;\n",
       "    }\n",
       "\n",
       "    .dataframe thead th {\n",
       "        text-align: right;\n",
       "    }\n",
       "</style>\n",
       "<table border=\"1\" class=\"dataframe\">\n",
       "  <thead>\n",
       "    <tr style=\"text-align: right;\">\n",
       "      <th></th>\n",
       "      <th>Variant</th>\n",
       "      <th>Therapeutic</th>\n",
       "      <th>counts</th>\n",
       "    </tr>\n",
       "  </thead>\n",
       "  <tbody>\n",
       "    <tr>\n",
       "      <th>0</th>\n",
       "      <td>ga4gh:VA.j4XnsLZcdzDIYa5pvvXM7t1wn9OITr0L</td>\n",
       "      <td>rxcui:1147220</td>\n",
       "      <td>30</td>\n",
       "    </tr>\n",
       "    <tr>\n",
       "      <th>1</th>\n",
       "      <td>ga4gh:VA.S41CcMJT2bcd8R4-qXZWH1PoHWNtG2PZ</td>\n",
       "      <td>rxcui:337525</td>\n",
       "      <td>14</td>\n",
       "    </tr>\n",
       "    <tr>\n",
       "      <th>2</th>\n",
       "      <td>ga4gh:VA.j4XnsLZcdzDIYa5pvvXM7t1wn9OITr0L</td>\n",
       "      <td>(CombinationTherapy, civic.ctid:oBrlcO23adoVXv...</td>\n",
       "      <td>12</td>\n",
       "    </tr>\n",
       "    <tr>\n",
       "      <th>3</th>\n",
       "      <td>ga4gh:VA.sMA9h8fzDi0RvweMlxtD0_Oi8B-JZ1V-</td>\n",
       "      <td>rxcui:1721560</td>\n",
       "      <td>11</td>\n",
       "    </tr>\n",
       "    <tr>\n",
       "      <th>4</th>\n",
       "      <td>ga4gh:VA.ORvaSNcFK71WOVr_gi2vv6oPCcXgljab</td>\n",
       "      <td>rxcui:318341</td>\n",
       "      <td>8</td>\n",
       "    </tr>\n",
       "    <tr>\n",
       "      <th>...</th>\n",
       "      <td>...</td>\n",
       "      <td>...</td>\n",
       "      <td>...</td>\n",
       "    </tr>\n",
       "    <tr>\n",
       "      <th>109</th>\n",
       "      <td>ga4gh:VA.-dMnJf9oUBfl9De0llc3LqJaGdFzfATK</td>\n",
       "      <td>rxcui:2103478</td>\n",
       "      <td>2</td>\n",
       "    </tr>\n",
       "    <tr>\n",
       "      <th>110</th>\n",
       "      <td>ga4gh:VA.3ybIkH_QhR6C7QmnTeD2-P6U1Pu7M__0</td>\n",
       "      <td>ncit:C165479</td>\n",
       "      <td>2</td>\n",
       "    </tr>\n",
       "    <tr>\n",
       "      <th>111</th>\n",
       "      <td>ga4gh:VA.2NMrhxfirY2q6Zj0wtBNovJQkBwykfPF</td>\n",
       "      <td>rxcui:4492</td>\n",
       "      <td>2</td>\n",
       "    </tr>\n",
       "    <tr>\n",
       "      <th>112</th>\n",
       "      <td>ga4gh:VA.1oFFaTlmKzBPBb4fiyAGEilaWJ4sce8_</td>\n",
       "      <td>rxcui:2370147</td>\n",
       "      <td>2</td>\n",
       "    </tr>\n",
       "    <tr>\n",
       "      <th>113</th>\n",
       "      <td>ga4gh:VA.w6K7bKlqZC_cCZOk9W0IBVh4EZrcSv3o</td>\n",
       "      <td>rxcui:282388</td>\n",
       "      <td>2</td>\n",
       "    </tr>\n",
       "  </tbody>\n",
       "</table>\n",
       "<p>114 rows × 3 columns</p>\n",
       "</div>"
      ],
      "text/plain": [
       "                                       Variant  \\\n",
       "0    ga4gh:VA.j4XnsLZcdzDIYa5pvvXM7t1wn9OITr0L   \n",
       "1    ga4gh:VA.S41CcMJT2bcd8R4-qXZWH1PoHWNtG2PZ   \n",
       "2    ga4gh:VA.j4XnsLZcdzDIYa5pvvXM7t1wn9OITr0L   \n",
       "3    ga4gh:VA.sMA9h8fzDi0RvweMlxtD0_Oi8B-JZ1V-   \n",
       "4    ga4gh:VA.ORvaSNcFK71WOVr_gi2vv6oPCcXgljab   \n",
       "..                                         ...   \n",
       "109  ga4gh:VA.-dMnJf9oUBfl9De0llc3LqJaGdFzfATK   \n",
       "110  ga4gh:VA.3ybIkH_QhR6C7QmnTeD2-P6U1Pu7M__0   \n",
       "111  ga4gh:VA.2NMrhxfirY2q6Zj0wtBNovJQkBwykfPF   \n",
       "112  ga4gh:VA.1oFFaTlmKzBPBb4fiyAGEilaWJ4sce8_   \n",
       "113  ga4gh:VA.w6K7bKlqZC_cCZOk9W0IBVh4EZrcSv3o   \n",
       "\n",
       "                                           Therapeutic  counts  \n",
       "0                                        rxcui:1147220      30  \n",
       "1                                         rxcui:337525      14  \n",
       "2    (CombinationTherapy, civic.ctid:oBrlcO23adoVXv...      12  \n",
       "3                                        rxcui:1721560      11  \n",
       "4                                         rxcui:318341       8  \n",
       "..                                                 ...     ...  \n",
       "109                                      rxcui:2103478       2  \n",
       "110                                       ncit:C165479       2  \n",
       "111                                         rxcui:4492       2  \n",
       "112                                      rxcui:2370147       2  \n",
       "113                                       rxcui:282388       2  \n",
       "\n",
       "[114 rows x 3 columns]"
      ]
     },
     "execution_count": 185,
     "metadata": {},
     "output_type": "execute_result"
    }
   ],
   "source": [
    "tdf = df[['subject','obj']].value_counts().rename_axis(['Variant','Therapeutic']).reset_index(name='counts')\n",
    "tdf[0:114]"
   ]
  },
  {
   "cell_type": "code",
   "execution_count": 186,
   "metadata": {},
   "outputs": [
    {
     "data": {
      "text/html": [
       "<div>\n",
       "<style scoped>\n",
       "    .dataframe tbody tr th:only-of-type {\n",
       "        vertical-align: middle;\n",
       "    }\n",
       "\n",
       "    .dataframe tbody tr th {\n",
       "        vertical-align: top;\n",
       "    }\n",
       "\n",
       "    .dataframe thead th {\n",
       "        text-align: right;\n",
       "    }\n",
       "</style>\n",
       "<table border=\"1\" class=\"dataframe\">\n",
       "  <thead>\n",
       "    <tr style=\"text-align: right;\">\n",
       "      <th></th>\n",
       "      <th>Variant</th>\n",
       "      <th>Therapeutic</th>\n",
       "      <th>counts</th>\n",
       "      <th>joined</th>\n",
       "    </tr>\n",
       "  </thead>\n",
       "  <tbody>\n",
       "    <tr>\n",
       "      <th>0</th>\n",
       "      <td>ga4gh:VA.j4XnsLZcdzDIYa5pvvXM7t1wn9OITr0L</td>\n",
       "      <td>rxcui:1147220</td>\n",
       "      <td>30</td>\n",
       "      <td>ga4gh:VA.j4XnsLZcdzDIYa5pvvXM7t1wn9OITr0L, rxc...</td>\n",
       "    </tr>\n",
       "    <tr>\n",
       "      <th>1</th>\n",
       "      <td>ga4gh:VA.S41CcMJT2bcd8R4-qXZWH1PoHWNtG2PZ</td>\n",
       "      <td>rxcui:337525</td>\n",
       "      <td>14</td>\n",
       "      <td>ga4gh:VA.S41CcMJT2bcd8R4-qXZWH1PoHWNtG2PZ, rxc...</td>\n",
       "    </tr>\n",
       "    <tr>\n",
       "      <th>2</th>\n",
       "      <td>ga4gh:VA.j4XnsLZcdzDIYa5pvvXM7t1wn9OITr0L</td>\n",
       "      <td>(CombinationTherapy, civic.ctid:oBrlcO23adoVXv...</td>\n",
       "      <td>12</td>\n",
       "      <td>ga4gh:VA.j4XnsLZcdzDIYa5pvvXM7t1wn9OITr0L, ('C...</td>\n",
       "    </tr>\n",
       "    <tr>\n",
       "      <th>3</th>\n",
       "      <td>ga4gh:VA.sMA9h8fzDi0RvweMlxtD0_Oi8B-JZ1V-</td>\n",
       "      <td>rxcui:1721560</td>\n",
       "      <td>11</td>\n",
       "      <td>ga4gh:VA.sMA9h8fzDi0RvweMlxtD0_Oi8B-JZ1V-, rxc...</td>\n",
       "    </tr>\n",
       "    <tr>\n",
       "      <th>4</th>\n",
       "      <td>ga4gh:VA.ORvaSNcFK71WOVr_gi2vv6oPCcXgljab</td>\n",
       "      <td>rxcui:318341</td>\n",
       "      <td>8</td>\n",
       "      <td>ga4gh:VA.ORvaSNcFK71WOVr_gi2vv6oPCcXgljab, rxc...</td>\n",
       "    </tr>\n",
       "    <tr>\n",
       "      <th>...</th>\n",
       "      <td>...</td>\n",
       "      <td>...</td>\n",
       "      <td>...</td>\n",
       "      <td>...</td>\n",
       "    </tr>\n",
       "    <tr>\n",
       "      <th>815</th>\n",
       "      <td>ga4gh:VA.NaKQmIhVRGhJalSzF8gIqm5IfhEq2n1Q</td>\n",
       "      <td>ncit:C171616</td>\n",
       "      <td>1</td>\n",
       "      <td>ga4gh:VA.NaKQmIhVRGhJalSzF8gIqm5IfhEq2n1Q, nci...</td>\n",
       "    </tr>\n",
       "    <tr>\n",
       "      <th>816</th>\n",
       "      <td>ga4gh:VA.NbmGko5VG3K44V5sy-uVWrQaBdnqJ227</td>\n",
       "      <td>(TherapeuticSubstituteGroup, civic.tsgid:R22Zf...</td>\n",
       "      <td>1</td>\n",
       "      <td>ga4gh:VA.NbmGko5VG3K44V5sy-uVWrQaBdnqJ227, ('T...</td>\n",
       "    </tr>\n",
       "    <tr>\n",
       "      <th>817</th>\n",
       "      <td>ga4gh:VA.NbmGko5VG3K44V5sy-uVWrQaBdnqJ227</td>\n",
       "      <td>ncit:C171616</td>\n",
       "      <td>1</td>\n",
       "      <td>ga4gh:VA.NbmGko5VG3K44V5sy-uVWrQaBdnqJ227, nci...</td>\n",
       "    </tr>\n",
       "    <tr>\n",
       "      <th>818</th>\n",
       "      <td>ga4gh:VA.O4W3Vd9CFRXUOi-IgiHWMuVdbMQXR_G7</td>\n",
       "      <td>rxcui:1546019</td>\n",
       "      <td>1</td>\n",
       "      <td>ga4gh:VA.O4W3Vd9CFRXUOi-IgiHWMuVdbMQXR_G7, rxc...</td>\n",
       "    </tr>\n",
       "    <tr>\n",
       "      <th>819</th>\n",
       "      <td>ga4gh:VA.zyWXV8RVNM4FYUaVOYWkBAPzgr6uw41W</td>\n",
       "      <td>rxcui:35302</td>\n",
       "      <td>1</td>\n",
       "      <td>ga4gh:VA.zyWXV8RVNM4FYUaVOYWkBAPzgr6uw41W, rxc...</td>\n",
       "    </tr>\n",
       "  </tbody>\n",
       "</table>\n",
       "<p>820 rows × 4 columns</p>\n",
       "</div>"
      ],
      "text/plain": [
       "                                       Variant  \\\n",
       "0    ga4gh:VA.j4XnsLZcdzDIYa5pvvXM7t1wn9OITr0L   \n",
       "1    ga4gh:VA.S41CcMJT2bcd8R4-qXZWH1PoHWNtG2PZ   \n",
       "2    ga4gh:VA.j4XnsLZcdzDIYa5pvvXM7t1wn9OITr0L   \n",
       "3    ga4gh:VA.sMA9h8fzDi0RvweMlxtD0_Oi8B-JZ1V-   \n",
       "4    ga4gh:VA.ORvaSNcFK71WOVr_gi2vv6oPCcXgljab   \n",
       "..                                         ...   \n",
       "815  ga4gh:VA.NaKQmIhVRGhJalSzF8gIqm5IfhEq2n1Q   \n",
       "816  ga4gh:VA.NbmGko5VG3K44V5sy-uVWrQaBdnqJ227   \n",
       "817  ga4gh:VA.NbmGko5VG3K44V5sy-uVWrQaBdnqJ227   \n",
       "818  ga4gh:VA.O4W3Vd9CFRXUOi-IgiHWMuVdbMQXR_G7   \n",
       "819  ga4gh:VA.zyWXV8RVNM4FYUaVOYWkBAPzgr6uw41W   \n",
       "\n",
       "                                           Therapeutic  counts  \\\n",
       "0                                        rxcui:1147220      30   \n",
       "1                                         rxcui:337525      14   \n",
       "2    (CombinationTherapy, civic.ctid:oBrlcO23adoVXv...      12   \n",
       "3                                        rxcui:1721560      11   \n",
       "4                                         rxcui:318341       8   \n",
       "..                                                 ...     ...   \n",
       "815                                       ncit:C171616       1   \n",
       "816  (TherapeuticSubstituteGroup, civic.tsgid:R22Zf...       1   \n",
       "817                                       ncit:C171616       1   \n",
       "818                                      rxcui:1546019       1   \n",
       "819                                        rxcui:35302       1   \n",
       "\n",
       "                                                joined  \n",
       "0    ga4gh:VA.j4XnsLZcdzDIYa5pvvXM7t1wn9OITr0L, rxc...  \n",
       "1    ga4gh:VA.S41CcMJT2bcd8R4-qXZWH1PoHWNtG2PZ, rxc...  \n",
       "2    ga4gh:VA.j4XnsLZcdzDIYa5pvvXM7t1wn9OITr0L, ('C...  \n",
       "3    ga4gh:VA.sMA9h8fzDi0RvweMlxtD0_Oi8B-JZ1V-, rxc...  \n",
       "4    ga4gh:VA.ORvaSNcFK71WOVr_gi2vv6oPCcXgljab, rxc...  \n",
       "..                                                 ...  \n",
       "815  ga4gh:VA.NaKQmIhVRGhJalSzF8gIqm5IfhEq2n1Q, nci...  \n",
       "816  ga4gh:VA.NbmGko5VG3K44V5sy-uVWrQaBdnqJ227, ('T...  \n",
       "817  ga4gh:VA.NbmGko5VG3K44V5sy-uVWrQaBdnqJ227, nci...  \n",
       "818  ga4gh:VA.O4W3Vd9CFRXUOi-IgiHWMuVdbMQXR_G7, rxc...  \n",
       "819  ga4gh:VA.zyWXV8RVNM4FYUaVOYWkBAPzgr6uw41W, rxc...  \n",
       "\n",
       "[820 rows x 4 columns]"
      ]
     },
     "execution_count": 186,
     "metadata": {},
     "output_type": "execute_result"
    }
   ],
   "source": [
    "tdf['joined'] = None\n",
    "for idx, row in tdf.iterrows():\n",
    "    tdf.at[idx,'joined'] = f'{str(row[\"Variant\"])}, {str(row[\"Therapeutic\"])}'\n",
    "\n",
    "tdf"
   ]
  },
  {
   "cell_type": "code",
   "execution_count": 187,
   "metadata": {},
   "outputs": [
    {
     "data": {
      "text/html": [
       "<div>\n",
       "<style scoped>\n",
       "    .dataframe tbody tr th:only-of-type {\n",
       "        vertical-align: middle;\n",
       "    }\n",
       "\n",
       "    .dataframe tbody tr th {\n",
       "        vertical-align: top;\n",
       "    }\n",
       "\n",
       "    .dataframe thead th {\n",
       "        text-align: right;\n",
       "    }\n",
       "</style>\n",
       "<table border=\"1\" class=\"dataframe\">\n",
       "  <thead>\n",
       "    <tr style=\"text-align: right;\">\n",
       "      <th></th>\n",
       "      <th>Variant</th>\n",
       "      <th>Therapeutic</th>\n",
       "      <th>counts</th>\n",
       "      <th>joined</th>\n",
       "      <th>is_duplicate</th>\n",
       "    </tr>\n",
       "  </thead>\n",
       "  <tbody>\n",
       "    <tr>\n",
       "      <th>0</th>\n",
       "      <td>ga4gh:VA.j4XnsLZcdzDIYa5pvvXM7t1wn9OITr0L</td>\n",
       "      <td>rxcui:1147220</td>\n",
       "      <td>30</td>\n",
       "      <td>ga4gh:VA.j4XnsLZcdzDIYa5pvvXM7t1wn9OITr0L, rxc...</td>\n",
       "      <td>Duplicate</td>\n",
       "    </tr>\n",
       "    <tr>\n",
       "      <th>1</th>\n",
       "      <td>ga4gh:VA.S41CcMJT2bcd8R4-qXZWH1PoHWNtG2PZ</td>\n",
       "      <td>rxcui:337525</td>\n",
       "      <td>14</td>\n",
       "      <td>ga4gh:VA.S41CcMJT2bcd8R4-qXZWH1PoHWNtG2PZ, rxc...</td>\n",
       "      <td>Duplicate</td>\n",
       "    </tr>\n",
       "    <tr>\n",
       "      <th>2</th>\n",
       "      <td>ga4gh:VA.j4XnsLZcdzDIYa5pvvXM7t1wn9OITr0L</td>\n",
       "      <td>(CombinationTherapy, civic.ctid:oBrlcO23adoVXv...</td>\n",
       "      <td>12</td>\n",
       "      <td>ga4gh:VA.j4XnsLZcdzDIYa5pvvXM7t1wn9OITr0L, ('C...</td>\n",
       "      <td>Duplicate</td>\n",
       "    </tr>\n",
       "    <tr>\n",
       "      <th>3</th>\n",
       "      <td>ga4gh:VA.sMA9h8fzDi0RvweMlxtD0_Oi8B-JZ1V-</td>\n",
       "      <td>rxcui:1721560</td>\n",
       "      <td>11</td>\n",
       "      <td>ga4gh:VA.sMA9h8fzDi0RvweMlxtD0_Oi8B-JZ1V-, rxc...</td>\n",
       "      <td>Duplicate</td>\n",
       "    </tr>\n",
       "    <tr>\n",
       "      <th>4</th>\n",
       "      <td>ga4gh:VA.ORvaSNcFK71WOVr_gi2vv6oPCcXgljab</td>\n",
       "      <td>rxcui:318341</td>\n",
       "      <td>8</td>\n",
       "      <td>ga4gh:VA.ORvaSNcFK71WOVr_gi2vv6oPCcXgljab, rxc...</td>\n",
       "      <td>Duplicate</td>\n",
       "    </tr>\n",
       "    <tr>\n",
       "      <th>...</th>\n",
       "      <td>...</td>\n",
       "      <td>...</td>\n",
       "      <td>...</td>\n",
       "      <td>...</td>\n",
       "      <td>...</td>\n",
       "    </tr>\n",
       "    <tr>\n",
       "      <th>815</th>\n",
       "      <td>ga4gh:VA.NaKQmIhVRGhJalSzF8gIqm5IfhEq2n1Q</td>\n",
       "      <td>ncit:C171616</td>\n",
       "      <td>1</td>\n",
       "      <td>ga4gh:VA.NaKQmIhVRGhJalSzF8gIqm5IfhEq2n1Q, nci...</td>\n",
       "      <td>Not Duplicate</td>\n",
       "    </tr>\n",
       "    <tr>\n",
       "      <th>816</th>\n",
       "      <td>ga4gh:VA.NbmGko5VG3K44V5sy-uVWrQaBdnqJ227</td>\n",
       "      <td>(TherapeuticSubstituteGroup, civic.tsgid:R22Zf...</td>\n",
       "      <td>1</td>\n",
       "      <td>ga4gh:VA.NbmGko5VG3K44V5sy-uVWrQaBdnqJ227, ('T...</td>\n",
       "      <td>Not Duplicate</td>\n",
       "    </tr>\n",
       "    <tr>\n",
       "      <th>817</th>\n",
       "      <td>ga4gh:VA.NbmGko5VG3K44V5sy-uVWrQaBdnqJ227</td>\n",
       "      <td>ncit:C171616</td>\n",
       "      <td>1</td>\n",
       "      <td>ga4gh:VA.NbmGko5VG3K44V5sy-uVWrQaBdnqJ227, nci...</td>\n",
       "      <td>Not Duplicate</td>\n",
       "    </tr>\n",
       "    <tr>\n",
       "      <th>818</th>\n",
       "      <td>ga4gh:VA.O4W3Vd9CFRXUOi-IgiHWMuVdbMQXR_G7</td>\n",
       "      <td>rxcui:1546019</td>\n",
       "      <td>1</td>\n",
       "      <td>ga4gh:VA.O4W3Vd9CFRXUOi-IgiHWMuVdbMQXR_G7, rxc...</td>\n",
       "      <td>Not Duplicate</td>\n",
       "    </tr>\n",
       "    <tr>\n",
       "      <th>819</th>\n",
       "      <td>ga4gh:VA.zyWXV8RVNM4FYUaVOYWkBAPzgr6uw41W</td>\n",
       "      <td>rxcui:35302</td>\n",
       "      <td>1</td>\n",
       "      <td>ga4gh:VA.zyWXV8RVNM4FYUaVOYWkBAPzgr6uw41W, rxc...</td>\n",
       "      <td>Not Duplicate</td>\n",
       "    </tr>\n",
       "  </tbody>\n",
       "</table>\n",
       "<p>820 rows × 5 columns</p>\n",
       "</div>"
      ],
      "text/plain": [
       "                                       Variant  \\\n",
       "0    ga4gh:VA.j4XnsLZcdzDIYa5pvvXM7t1wn9OITr0L   \n",
       "1    ga4gh:VA.S41CcMJT2bcd8R4-qXZWH1PoHWNtG2PZ   \n",
       "2    ga4gh:VA.j4XnsLZcdzDIYa5pvvXM7t1wn9OITr0L   \n",
       "3    ga4gh:VA.sMA9h8fzDi0RvweMlxtD0_Oi8B-JZ1V-   \n",
       "4    ga4gh:VA.ORvaSNcFK71WOVr_gi2vv6oPCcXgljab   \n",
       "..                                         ...   \n",
       "815  ga4gh:VA.NaKQmIhVRGhJalSzF8gIqm5IfhEq2n1Q   \n",
       "816  ga4gh:VA.NbmGko5VG3K44V5sy-uVWrQaBdnqJ227   \n",
       "817  ga4gh:VA.NbmGko5VG3K44V5sy-uVWrQaBdnqJ227   \n",
       "818  ga4gh:VA.O4W3Vd9CFRXUOi-IgiHWMuVdbMQXR_G7   \n",
       "819  ga4gh:VA.zyWXV8RVNM4FYUaVOYWkBAPzgr6uw41W   \n",
       "\n",
       "                                           Therapeutic  counts  \\\n",
       "0                                        rxcui:1147220      30   \n",
       "1                                         rxcui:337525      14   \n",
       "2    (CombinationTherapy, civic.ctid:oBrlcO23adoVXv...      12   \n",
       "3                                        rxcui:1721560      11   \n",
       "4                                         rxcui:318341       8   \n",
       "..                                                 ...     ...   \n",
       "815                                       ncit:C171616       1   \n",
       "816  (TherapeuticSubstituteGroup, civic.tsgid:R22Zf...       1   \n",
       "817                                       ncit:C171616       1   \n",
       "818                                      rxcui:1546019       1   \n",
       "819                                        rxcui:35302       1   \n",
       "\n",
       "                                                joined   is_duplicate  \n",
       "0    ga4gh:VA.j4XnsLZcdzDIYa5pvvXM7t1wn9OITr0L, rxc...      Duplicate  \n",
       "1    ga4gh:VA.S41CcMJT2bcd8R4-qXZWH1PoHWNtG2PZ, rxc...      Duplicate  \n",
       "2    ga4gh:VA.j4XnsLZcdzDIYa5pvvXM7t1wn9OITr0L, ('C...      Duplicate  \n",
       "3    ga4gh:VA.sMA9h8fzDi0RvweMlxtD0_Oi8B-JZ1V-, rxc...      Duplicate  \n",
       "4    ga4gh:VA.ORvaSNcFK71WOVr_gi2vv6oPCcXgljab, rxc...      Duplicate  \n",
       "..                                                 ...            ...  \n",
       "815  ga4gh:VA.NaKQmIhVRGhJalSzF8gIqm5IfhEq2n1Q, nci...  Not Duplicate  \n",
       "816  ga4gh:VA.NbmGko5VG3K44V5sy-uVWrQaBdnqJ227, ('T...  Not Duplicate  \n",
       "817  ga4gh:VA.NbmGko5VG3K44V5sy-uVWrQaBdnqJ227, nci...  Not Duplicate  \n",
       "818  ga4gh:VA.O4W3Vd9CFRXUOi-IgiHWMuVdbMQXR_G7, rxc...  Not Duplicate  \n",
       "819  ga4gh:VA.zyWXV8RVNM4FYUaVOYWkBAPzgr6uw41W, rxc...  Not Duplicate  \n",
       "\n",
       "[820 rows x 5 columns]"
      ]
     },
     "execution_count": 187,
     "metadata": {},
     "output_type": "execute_result"
    }
   ],
   "source": [
    "tdf['is_duplicate'] = tdf['counts'].apply(duplicate_detect)\n",
    "tdf"
   ]
  },
  {
   "cell_type": "code",
   "execution_count": 188,
   "metadata": {},
   "outputs": [
    {
     "data": {
      "application/vnd.plotly.v1+json": {
       "config": {
        "plotlyServerURL": "https://plot.ly"
       },
       "data": [
        {
         "alignmentgroup": "True",
         "hovertemplate": "joined=%{x}<br>counts=%{y}<extra></extra>",
         "legendgroup": "",
         "marker": {
          "color": "#636efa",
          "pattern": {
           "shape": ""
          }
         },
         "name": "",
         "offsetgroup": "",
         "orientation": "v",
         "showlegend": false,
         "textposition": "auto",
         "type": "bar",
         "x": [
          "ga4gh:VA.j4XnsLZcdzDIYa5pvvXM7t1wn9OITr0L, rxcui:1147220",
          "ga4gh:VA.S41CcMJT2bcd8R4-qXZWH1PoHWNtG2PZ, rxcui:337525",
          "ga4gh:VA.j4XnsLZcdzDIYa5pvvXM7t1wn9OITr0L, ('CombinationTherapy', 'civic.ctid:oBrlcO23adoVXv51xh-5Wigy0QyDWtfr')",
          "ga4gh:VA.sMA9h8fzDi0RvweMlxtD0_Oi8B-JZ1V-, rxcui:1721560",
          "ga4gh:VA.ORvaSNcFK71WOVr_gi2vv6oPCcXgljab, rxcui:318341",
          "ga4gh:VA.S41CcMJT2bcd8R4-qXZWH1PoHWNtG2PZ, rxcui:328134",
          "ga4gh:VA.S41CcMJT2bcd8R4-qXZWH1PoHWNtG2PZ, rxcui:1430438",
          "ga4gh:VA.Dy7soaZQU1vH9Eb93xG_pJyhu7xTDDC9, rxcui:282388",
          "ga4gh:VA.j4XnsLZcdzDIYa5pvvXM7t1wn9OITr0L, ('CombinationTherapy', 'moa.ctid:IAMn2xc8QDzi0_zvPzrGlronyv01Coqs')",
          "ga4gh:VA.6EFlwRs4Pu_r5mcvJGoE3ro2cURUkrkV, rxcui:1148495",
          "ga4gh:VA.2VAvTmPON2L7JffxjE68jAmmmwxyzDpB, rxcui:2049873",
          "ga4gh:VA.lAST62ntkEaXy6RDDOF1V4C3jd-jaAJ5, rxcui:2049873",
          "ga4gh:VA.S41CcMJT2bcd8R4-qXZWH1PoHWNtG2PZ, rxcui:1721560",
          "ga4gh:VA.ZqmNu5AN2PRYFl0K9eBQ_bo2pJAGKSoa, rxcui:6718",
          "ga4gh:VA.5GEqm-zIzvvPheyGb9rlu5DyIueIubXm, ncit:C74072",
          "ga4gh:VA.6_uW58_HmIcOOQshfkvhuGjCSFL5H3fs, rxcui:6718",
          "ga4gh:VA.sMA9h8fzDi0RvweMlxtD0_Oi8B-JZ1V-, rxcui:1430438",
          "ga4gh:VA.pfWn9x9oFBRzGda1xXcOrE-BrX0R__N8, rxcui:1147220",
          "ga4gh:VA.udBCHwlrf8xNiRy_19bLi-h5LhnZLgCt, rxcui:6718",
          "ga4gh:VA.cdcXITbBWUXPjy3zPdhs7xjU1yvlkSrj, rxcui:6718",
          "ga4gh:VA.D6NzpWXKqBnbcZZrXNSXj4tMUwROKbsQ, rxcui:1364347",
          "ga4gh:VA.j4XnsLZcdzDIYa5pvvXM7t1wn9OITr0L, rxcui:1425098",
          "ga4gh:VA.j4XnsLZcdzDIYa5pvvXM7t1wn9OITr0L, rxcui:1424911",
          "ga4gh:VA.sMA9h8fzDi0RvweMlxtD0_Oi8B-JZ1V-, ncit:C99905",
          "ga4gh:VA.pfWn9x9oFBRzGda1xXcOrE-BrX0R__N8, ('CombinationTherapy', 'civic.ctid:oBrlcO23adoVXv51xh-5Wigy0QyDWtfr')",
          "ga4gh:VA.sMA9h8fzDi0RvweMlxtD0_Oi8B-JZ1V-, ('TherapeuticSubstituteGroup', 'civic.tsgid:MHwrYYGaDMmdgFLNboI18QBl-zDj5Wso')",
          "ga4gh:VA.0sx1Z2siMMnqZhW0BnX4eUz9dUIDLRm-, rxcui:282388",
          "ga4gh:VA.ju5WwTji4SvLPzJqUB7EzSEF2DKtIusY, ncit:C165479",
          "ga4gh:VA.mipQFzApQNp2KyVXcZig8b4uu7kFofIZ, rxcui:495881",
          "ga4gh:VA.Dsrq3AJXo4UQCiCnQCcrb2t551o9Dhv8, rxcui:282388",
          "ga4gh:VA.-dMnJf9oUBfl9De0llc3LqJaGdFzfATK, ncit:C165479",
          "ga4gh:VA.5GEqm-zIzvvPheyGb9rlu5DyIueIubXm, ncit:C165479",
          "ga4gh:VA.sMA9h8fzDi0RvweMlxtD0_Oi8B-JZ1V-, rxcui:328134",
          "ga4gh:VA.XT7dH5AXh5XW2u2Ed8z701vo6BA3nhb6, ('TherapeuticSubstituteGroup', 'civic.tsgid:IMgxRLc3XTtFhF3LrdtkdhJqiCh-_3dE')",
          "ga4gh:VA.RkoMSdIJCB856OZ4YxjZIjVnVYrXMDy9, rxcui:1148495",
          "ga4gh:VA.t8CxWZxFJbfWnqruBINaDXruSd6aNKZH, rxcui:1147220",
          "ga4gh:VA.skyk7EM-V-UuFN--3WwDEBwtwwBedVU8, rxcui:337525",
          "ga4gh:VA.yHQVVwZjma693Ev6lQtew1axCWVwIi8K, rxcui:2289380",
          "ga4gh:VA.S41CcMJT2bcd8R4-qXZWH1PoHWNtG2PZ, rxcui:2058848",
          "ga4gh:VA.A8crPBRvgFrkcWWnszjqT26E08kr0wV0, ncit:C165479",
          "ga4gh:VA.udBCHwlrf8xNiRy_19bLi-h5LhnZLgCt, rxcui:2550714",
          "ga4gh:VA.udBCHwlrf8xNiRy_19bLi-h5LhnZLgCt, ncit:C157493",
          "ga4gh:VA.nhiDwIq1klrGm3wtWO4a4BiS0jdW79Wd, rxcui:282388",
          "ga4gh:VA.CpnlaV2B8565obATF-UlE706sBYp0D6M, rxcui:2289380",
          "ga4gh:VA.6mOBrBWsfWLavxBwhR3tMyJEW9UNc6fk, rxcui:357977",
          "ga4gh:VA.pfWn9x9oFBRzGda1xXcOrE-BrX0R__N8, ('CombinationTherapy', 'moa.ctid:IAMn2xc8QDzi0_zvPzrGlronyv01Coqs')",
          "ga4gh:VA.79Wi00GyVrG9yn0JmHTK4Ensc-XVgd2G, rxcui:480167",
          "ga4gh:VA.pfWn9x9oFBRzGda1xXcOrE-BrX0R__N8, rxcui:1425098",
          "ga4gh:VA.7v_BIBt6l7xAyJ_BxkFIKk7vNGkDuTYb, rxcui:1747556",
          "ga4gh:VA.B6uOm51_KWfoJlGO61ui7ltRfb4sG092, rxcui:1546019",
          "ga4gh:VA.AhXGahW4SCTEgBSXlABoqX7N4mWXL-MD, rxcui:318341",
          "ga4gh:VA.sMA9h8fzDi0RvweMlxtD0_Oi8B-JZ1V-, rxcui:337525",
          "ga4gh:VA.AhXGahW4SCTEgBSXlABoqX7N4mWXL-MD, rxcui:263034",
          "ga4gh:VA.AXrGOKDo8ORbkbD1hAtwxLGaCaVgLnVT, rxcui:1721560",
          "ga4gh:VA.ABJoQOtfYms_bIW4CVCKShtEmwIiT6WA, rxcui:318341",
          "ga4gh:VA.sMA9h8fzDi0RvweMlxtD0_Oi8B-JZ1V-, rxcui:2058848",
          "ga4gh:VA.-6WRXXXc7bzaT3-oudzvf-zErFpN4auw, rxcui:1430438",
          "ga4gh:VA.j4XnsLZcdzDIYa5pvvXM7t1wn9OITr0L, rxcui:318341",
          "ga4gh:VA.Dy7soaZQU1vH9Eb93xG_pJyhu7xTDDC9, rxcui:357977",
          "ga4gh:VA.d-Kmz2h-KL5RB7PbcizjOTz8crmA9lEk, rxcui:328134",
          "ga4gh:VA.hl8sXt8vGcWF3EST2vU5SoHuWQ1AO_eO, rxcui:357977",
          "ga4gh:VA.RkoMSdIJCB856OZ4YxjZIjVnVYrXMDy9, ncit:C171615",
          "ga4gh:VA.ggDDMKl7Qg9aYdOlAIGTYNjR7Nv0Lux2, rxcui:337525",
          "ga4gh:VA.Rvyau6sxmcSQcEdvyBDVlK8lw_gF7zGo, rxcui:357977",
          "ga4gh:VA.RynDzpGjpLKfmAOrN0yrjRyAeIPqV52Q, rxcui:1242987",
          "ga4gh:VA.S41CcMJT2bcd8R4-qXZWH1PoHWNtG2PZ, ('TherapeuticSubstituteGroup', 'civic.tsgid:MHwrYYGaDMmdgFLNboI18QBl-zDj5Wso')",
          "ga4gh:VA.cdcXITbBWUXPjy3zPdhs7xjU1yvlkSrj, rxcui:263034",
          "ga4gh:VA.iU9MfaVkEFMIoh2qhnNMwLd7LN995DAn, rxcui:1312397",
          "ga4gh:VA.WCo3uQpMnNSbBMy5pKdSccudXs8ooZw9, ('CombinationTherapy', 'civic.ctid:E39_bNJqxD2YlQvEbnaYPTYj7A6sKF3V')",
          "ga4gh:VA.cdcXITbBWUXPjy3zPdhs7xjU1yvlkSrj, rxcui:1147220",
          "ga4gh:VA.cdcXITbBWUXPjy3zPdhs7xjU1yvlkSrj, ('CombinationTherapy', 'civic.ctid:23p9szOW83imwzdNpS6omDSCucd7VZPf')",
          "ga4gh:VA.Yg3Z9RU0BaaPa6KkoQDUrQqSQoVrDxEd, rxcui:357977",
          "ga4gh:VA.YqiDFzE2K6fcXhXkCGYHIQ75RgutPq_7, ncit:C152914",
          "ga4gh:VA.aAXNeFGBgeJUGbun-bKvgoW204tC1xdp, ncit:C152914",
          "ga4gh:VA.Pj-8TtUrxnONU6dr8wdgKf1oHfI4ved0, rxcui:1147220",
          "ga4gh:VA.iU9MfaVkEFMIoh2qhnNMwLd7LN995DAn, rxcui:1364347",
          "ga4gh:VA.E09IUKElemW2uoVRT5qacU7RMqT8Um5m, ncit:C165479",
          "ga4gh:VA.j4XnsLZcdzDIYa5pvvXM7t1wn9OITr0L, rxcui:263034",
          "ga4gh:VA.lAST62ntkEaXy6RDDOF1V4C3jd-jaAJ5, ncit:C152914",
          "ga4gh:VA.kupbzxHCTSvq0_M8FY2FpHFtXotNHn4c, rxcui:1193326",
          "ga4gh:VA.FaMueqbbjnxuzxylH-4jpkaWfp6pLH98, ncit:C165479",
          "ga4gh:VA.FkanRNmwHE0Hf6xRjR2MElkUvP5kPMDC, rxcui:1147220",
          "ga4gh:VA.ju5WwTji4SvLPzJqUB7EzSEF2DKtIusY, iuphar.ligand:5701",
          "ga4gh:VA.GfY89Zy-DJcnWtthBcoVV6PyuE4qkP8F, ncit:C102564",
          "ga4gh:VA.I_Aqtnp7T3OtKjjcXdRisQvKbLULvRN5, rxcui:1147220",
          "ga4gh:VA.iU9MfaVkEFMIoh2qhnNMwLd7LN995DAn, rxcui:282388",
          "ga4gh:VA.j4XnsLZcdzDIYa5pvvXM7t1wn9OITr0L, ('TherapeuticSubstituteGroup', 'civic.tsgid:7IxyhCwID0QYyVCP2xuIyYvwwu-S_HrZ')",
          "ga4gh:VA.j4XnsLZcdzDIYa5pvvXM7t1wn9OITr0L, ('CombinationTherapy', 'moa.ctid:fImZ7uz-ZC2vosZSuS-gdJcQGXu3l6l7')",
          "ga4gh:VA.j4XnsLZcdzDIYa5pvvXM7t1wn9OITr0L, ('CombinationTherapy', 'civic.ctid:rF1JcnGq_-VTc0yiCsNIORfNqXQCC3yM')",
          "ga4gh:VA.j4XnsLZcdzDIYa5pvvXM7t1wn9OITr0L, ('CombinationTherapy', 'civic.ctid:aqQX-Uu5M67jU4vqRwbOB7diuYQozPtZ')",
          "ga4gh:VA.ORvaSNcFK71WOVr_gi2vv6oPCcXgljab, ('TherapeuticSubstituteGroup', 'civic.tsgid:7IxyhCwID0QYyVCP2xuIyYvwwu-S_HrZ')",
          "ga4gh:VA.j4XnsLZcdzDIYa5pvvXM7t1wn9OITr0L, ('CombinationTherapy', 'civic.ctid:7g5X81wE2go4GE_fB45SjFamVMgpnwsA')",
          "ga4gh:VA.5IlCMFNnlu-2_HkwIZZSXGH2e6okHl2W, rxcui:2105806",
          "ga4gh:VA.Dy7soaZQU1vH9Eb93xG_pJyhu7xTDDC9, rxcui:2272107",
          "ga4gh:VA.xk0lO-hnHuNDzGziBYZ3ToWugAdwv1Lt, rxcui:282388",
          "ga4gh:VA.w6K7bKlqZC_cCZOk9W0IBVh4EZrcSv3o, rxcui:1312397",
          "ga4gh:VA.57hhvPjBoLmuSxZdcTzEdDEprYZnzznv, rxcui:1147220",
          "ga4gh:VA.5B44uCdm8JiKpyJ1pO_AnPE5oqhIl484, rxcui:1147220",
          "ga4gh:VA.y-ioX4e_ySwP_LlplLNp0cz04a8BBr9H, ncit:C152914",
          "ga4gh:VA.-dMnJf9oUBfl9De0llc3LqJaGdFzfATK, ('TherapeuticSubstituteGroup', 'civic.tsgid:7IxyhCwID0QYyVCP2xuIyYvwwu-S_HrZ')",
          "ga4gh:VA.0v5ZnAjs5BLLL0yOTmm5LO5S1f2m8vGa, rxcui:1442981",
          "ga4gh:VA.yHQVVwZjma693Ev6lQtew1axCWVwIi8K, rxcui:1147220",
          "ga4gh:VA.2VAvTmPON2L7JffxjE68jAmmmwxyzDpB, ncit:C152914",
          "ga4gh:VA.2zh_S3hn7AWJd00rhirLhhDW8VcVBo9N, ncit:C152914",
          "ga4gh:VA.5GEqm-zIzvvPheyGb9rlu5DyIueIubXm, ('TherapeuticSubstituteGroup', 'civic.tsgid:7IxyhCwID0QYyVCP2xuIyYvwwu-S_HrZ')",
          "ga4gh:VA.wQWDgRZT2eIRW7jXFeqKtSd8dgRgD76s, rxcui:1242987",
          "ga4gh:VA.zElnUUWNdxH5elaDdhFo8dYA6dVjCZNs, rxcui:1747556",
          "ga4gh:VA.v5Jc64GQjTPVlsjiINmmlWmNRFfDDnoO, rxcui:337525",
          "ga4gh:VA.4yqg18xtnJP7cTJI-Z2xS5HjnhxJJg84, rxcui:337525",
          "ga4gh:VA.-dMnJf9oUBfl9De0llc3LqJaGdFzfATK, rxcui:2103478",
          "ga4gh:VA.3ybIkH_QhR6C7QmnTeD2-P6U1Pu7M__0, ncit:C165479",
          "ga4gh:VA.2NMrhxfirY2q6Zj0wtBNovJQkBwykfPF, rxcui:4492",
          "ga4gh:VA.1oFFaTlmKzBPBb4fiyAGEilaWJ4sce8_, rxcui:2370147",
          "ga4gh:VA.w6K7bKlqZC_cCZOk9W0IBVh4EZrcSv3o, rxcui:282388"
         ],
         "xaxis": "x",
         "y": [
          30,
          14,
          12,
          11,
          8,
          7,
          7,
          7,
          6,
          5,
          5,
          5,
          4,
          4,
          4,
          4,
          4,
          4,
          4,
          4,
          3,
          3,
          3,
          3,
          3,
          3,
          3,
          3,
          3,
          3,
          3,
          3,
          3,
          3,
          3,
          3,
          3,
          3,
          3,
          2,
          2,
          2,
          2,
          2,
          2,
          2,
          2,
          2,
          2,
          2,
          2,
          2,
          2,
          2,
          2,
          2,
          2,
          2,
          2,
          2,
          2,
          2,
          2,
          2,
          2,
          2,
          2,
          2,
          2,
          2,
          2,
          2,
          2,
          2,
          2,
          2,
          2,
          2,
          2,
          2,
          2,
          2,
          2,
          2,
          2,
          2,
          2,
          2,
          2,
          2,
          2,
          2,
          2,
          2,
          2,
          2,
          2,
          2,
          2,
          2,
          2,
          2,
          2,
          2,
          2,
          2,
          2,
          2,
          2,
          2,
          2,
          2,
          2,
          2
         ],
         "yaxis": "y"
        }
       ],
       "layout": {
        "bargap": 0.2,
        "barmode": "relative",
        "legend": {
         "tracegroupgap": 0
        },
        "template": {
         "data": {
          "bar": [
           {
            "error_x": {
             "color": "#2a3f5f"
            },
            "error_y": {
             "color": "#2a3f5f"
            },
            "marker": {
             "line": {
              "color": "#E5ECF6",
              "width": 0.5
             },
             "pattern": {
              "fillmode": "overlay",
              "size": 10,
              "solidity": 0.2
             }
            },
            "type": "bar"
           }
          ],
          "barpolar": [
           {
            "marker": {
             "line": {
              "color": "#E5ECF6",
              "width": 0.5
             },
             "pattern": {
              "fillmode": "overlay",
              "size": 10,
              "solidity": 0.2
             }
            },
            "type": "barpolar"
           }
          ],
          "carpet": [
           {
            "aaxis": {
             "endlinecolor": "#2a3f5f",
             "gridcolor": "white",
             "linecolor": "white",
             "minorgridcolor": "white",
             "startlinecolor": "#2a3f5f"
            },
            "baxis": {
             "endlinecolor": "#2a3f5f",
             "gridcolor": "white",
             "linecolor": "white",
             "minorgridcolor": "white",
             "startlinecolor": "#2a3f5f"
            },
            "type": "carpet"
           }
          ],
          "choropleth": [
           {
            "colorbar": {
             "outlinewidth": 0,
             "ticks": ""
            },
            "type": "choropleth"
           }
          ],
          "contour": [
           {
            "colorbar": {
             "outlinewidth": 0,
             "ticks": ""
            },
            "colorscale": [
             [
              0,
              "#0d0887"
             ],
             [
              0.1111111111111111,
              "#46039f"
             ],
             [
              0.2222222222222222,
              "#7201a8"
             ],
             [
              0.3333333333333333,
              "#9c179e"
             ],
             [
              0.4444444444444444,
              "#bd3786"
             ],
             [
              0.5555555555555556,
              "#d8576b"
             ],
             [
              0.6666666666666666,
              "#ed7953"
             ],
             [
              0.7777777777777778,
              "#fb9f3a"
             ],
             [
              0.8888888888888888,
              "#fdca26"
             ],
             [
              1,
              "#f0f921"
             ]
            ],
            "type": "contour"
           }
          ],
          "contourcarpet": [
           {
            "colorbar": {
             "outlinewidth": 0,
             "ticks": ""
            },
            "type": "contourcarpet"
           }
          ],
          "heatmap": [
           {
            "colorbar": {
             "outlinewidth": 0,
             "ticks": ""
            },
            "colorscale": [
             [
              0,
              "#0d0887"
             ],
             [
              0.1111111111111111,
              "#46039f"
             ],
             [
              0.2222222222222222,
              "#7201a8"
             ],
             [
              0.3333333333333333,
              "#9c179e"
             ],
             [
              0.4444444444444444,
              "#bd3786"
             ],
             [
              0.5555555555555556,
              "#d8576b"
             ],
             [
              0.6666666666666666,
              "#ed7953"
             ],
             [
              0.7777777777777778,
              "#fb9f3a"
             ],
             [
              0.8888888888888888,
              "#fdca26"
             ],
             [
              1,
              "#f0f921"
             ]
            ],
            "type": "heatmap"
           }
          ],
          "heatmapgl": [
           {
            "colorbar": {
             "outlinewidth": 0,
             "ticks": ""
            },
            "colorscale": [
             [
              0,
              "#0d0887"
             ],
             [
              0.1111111111111111,
              "#46039f"
             ],
             [
              0.2222222222222222,
              "#7201a8"
             ],
             [
              0.3333333333333333,
              "#9c179e"
             ],
             [
              0.4444444444444444,
              "#bd3786"
             ],
             [
              0.5555555555555556,
              "#d8576b"
             ],
             [
              0.6666666666666666,
              "#ed7953"
             ],
             [
              0.7777777777777778,
              "#fb9f3a"
             ],
             [
              0.8888888888888888,
              "#fdca26"
             ],
             [
              1,
              "#f0f921"
             ]
            ],
            "type": "heatmapgl"
           }
          ],
          "histogram": [
           {
            "marker": {
             "pattern": {
              "fillmode": "overlay",
              "size": 10,
              "solidity": 0.2
             }
            },
            "type": "histogram"
           }
          ],
          "histogram2d": [
           {
            "colorbar": {
             "outlinewidth": 0,
             "ticks": ""
            },
            "colorscale": [
             [
              0,
              "#0d0887"
             ],
             [
              0.1111111111111111,
              "#46039f"
             ],
             [
              0.2222222222222222,
              "#7201a8"
             ],
             [
              0.3333333333333333,
              "#9c179e"
             ],
             [
              0.4444444444444444,
              "#bd3786"
             ],
             [
              0.5555555555555556,
              "#d8576b"
             ],
             [
              0.6666666666666666,
              "#ed7953"
             ],
             [
              0.7777777777777778,
              "#fb9f3a"
             ],
             [
              0.8888888888888888,
              "#fdca26"
             ],
             [
              1,
              "#f0f921"
             ]
            ],
            "type": "histogram2d"
           }
          ],
          "histogram2dcontour": [
           {
            "colorbar": {
             "outlinewidth": 0,
             "ticks": ""
            },
            "colorscale": [
             [
              0,
              "#0d0887"
             ],
             [
              0.1111111111111111,
              "#46039f"
             ],
             [
              0.2222222222222222,
              "#7201a8"
             ],
             [
              0.3333333333333333,
              "#9c179e"
             ],
             [
              0.4444444444444444,
              "#bd3786"
             ],
             [
              0.5555555555555556,
              "#d8576b"
             ],
             [
              0.6666666666666666,
              "#ed7953"
             ],
             [
              0.7777777777777778,
              "#fb9f3a"
             ],
             [
              0.8888888888888888,
              "#fdca26"
             ],
             [
              1,
              "#f0f921"
             ]
            ],
            "type": "histogram2dcontour"
           }
          ],
          "mesh3d": [
           {
            "colorbar": {
             "outlinewidth": 0,
             "ticks": ""
            },
            "type": "mesh3d"
           }
          ],
          "parcoords": [
           {
            "line": {
             "colorbar": {
              "outlinewidth": 0,
              "ticks": ""
             }
            },
            "type": "parcoords"
           }
          ],
          "pie": [
           {
            "automargin": true,
            "type": "pie"
           }
          ],
          "scatter": [
           {
            "fillpattern": {
             "fillmode": "overlay",
             "size": 10,
             "solidity": 0.2
            },
            "type": "scatter"
           }
          ],
          "scatter3d": [
           {
            "line": {
             "colorbar": {
              "outlinewidth": 0,
              "ticks": ""
             }
            },
            "marker": {
             "colorbar": {
              "outlinewidth": 0,
              "ticks": ""
             }
            },
            "type": "scatter3d"
           }
          ],
          "scattercarpet": [
           {
            "marker": {
             "colorbar": {
              "outlinewidth": 0,
              "ticks": ""
             }
            },
            "type": "scattercarpet"
           }
          ],
          "scattergeo": [
           {
            "marker": {
             "colorbar": {
              "outlinewidth": 0,
              "ticks": ""
             }
            },
            "type": "scattergeo"
           }
          ],
          "scattergl": [
           {
            "marker": {
             "colorbar": {
              "outlinewidth": 0,
              "ticks": ""
             }
            },
            "type": "scattergl"
           }
          ],
          "scattermapbox": [
           {
            "marker": {
             "colorbar": {
              "outlinewidth": 0,
              "ticks": ""
             }
            },
            "type": "scattermapbox"
           }
          ],
          "scatterpolar": [
           {
            "marker": {
             "colorbar": {
              "outlinewidth": 0,
              "ticks": ""
             }
            },
            "type": "scatterpolar"
           }
          ],
          "scatterpolargl": [
           {
            "marker": {
             "colorbar": {
              "outlinewidth": 0,
              "ticks": ""
             }
            },
            "type": "scatterpolargl"
           }
          ],
          "scatterternary": [
           {
            "marker": {
             "colorbar": {
              "outlinewidth": 0,
              "ticks": ""
             }
            },
            "type": "scatterternary"
           }
          ],
          "surface": [
           {
            "colorbar": {
             "outlinewidth": 0,
             "ticks": ""
            },
            "colorscale": [
             [
              0,
              "#0d0887"
             ],
             [
              0.1111111111111111,
              "#46039f"
             ],
             [
              0.2222222222222222,
              "#7201a8"
             ],
             [
              0.3333333333333333,
              "#9c179e"
             ],
             [
              0.4444444444444444,
              "#bd3786"
             ],
             [
              0.5555555555555556,
              "#d8576b"
             ],
             [
              0.6666666666666666,
              "#ed7953"
             ],
             [
              0.7777777777777778,
              "#fb9f3a"
             ],
             [
              0.8888888888888888,
              "#fdca26"
             ],
             [
              1,
              "#f0f921"
             ]
            ],
            "type": "surface"
           }
          ],
          "table": [
           {
            "cells": {
             "fill": {
              "color": "#EBF0F8"
             },
             "line": {
              "color": "white"
             }
            },
            "header": {
             "fill": {
              "color": "#C8D4E3"
             },
             "line": {
              "color": "white"
             }
            },
            "type": "table"
           }
          ]
         },
         "layout": {
          "annotationdefaults": {
           "arrowcolor": "#2a3f5f",
           "arrowhead": 0,
           "arrowwidth": 1
          },
          "autotypenumbers": "strict",
          "coloraxis": {
           "colorbar": {
            "outlinewidth": 0,
            "ticks": ""
           }
          },
          "colorscale": {
           "diverging": [
            [
             0,
             "#8e0152"
            ],
            [
             0.1,
             "#c51b7d"
            ],
            [
             0.2,
             "#de77ae"
            ],
            [
             0.3,
             "#f1b6da"
            ],
            [
             0.4,
             "#fde0ef"
            ],
            [
             0.5,
             "#f7f7f7"
            ],
            [
             0.6,
             "#e6f5d0"
            ],
            [
             0.7,
             "#b8e186"
            ],
            [
             0.8,
             "#7fbc41"
            ],
            [
             0.9,
             "#4d9221"
            ],
            [
             1,
             "#276419"
            ]
           ],
           "sequential": [
            [
             0,
             "#0d0887"
            ],
            [
             0.1111111111111111,
             "#46039f"
            ],
            [
             0.2222222222222222,
             "#7201a8"
            ],
            [
             0.3333333333333333,
             "#9c179e"
            ],
            [
             0.4444444444444444,
             "#bd3786"
            ],
            [
             0.5555555555555556,
             "#d8576b"
            ],
            [
             0.6666666666666666,
             "#ed7953"
            ],
            [
             0.7777777777777778,
             "#fb9f3a"
            ],
            [
             0.8888888888888888,
             "#fdca26"
            ],
            [
             1,
             "#f0f921"
            ]
           ],
           "sequentialminus": [
            [
             0,
             "#0d0887"
            ],
            [
             0.1111111111111111,
             "#46039f"
            ],
            [
             0.2222222222222222,
             "#7201a8"
            ],
            [
             0.3333333333333333,
             "#9c179e"
            ],
            [
             0.4444444444444444,
             "#bd3786"
            ],
            [
             0.5555555555555556,
             "#d8576b"
            ],
            [
             0.6666666666666666,
             "#ed7953"
            ],
            [
             0.7777777777777778,
             "#fb9f3a"
            ],
            [
             0.8888888888888888,
             "#fdca26"
            ],
            [
             1,
             "#f0f921"
            ]
           ]
          },
          "colorway": [
           "#636efa",
           "#EF553B",
           "#00cc96",
           "#ab63fa",
           "#FFA15A",
           "#19d3f3",
           "#FF6692",
           "#B6E880",
           "#FF97FF",
           "#FECB52"
          ],
          "font": {
           "color": "#2a3f5f"
          },
          "geo": {
           "bgcolor": "white",
           "lakecolor": "white",
           "landcolor": "#E5ECF6",
           "showlakes": true,
           "showland": true,
           "subunitcolor": "white"
          },
          "hoverlabel": {
           "align": "left"
          },
          "hovermode": "closest",
          "mapbox": {
           "style": "light"
          },
          "paper_bgcolor": "white",
          "plot_bgcolor": "#E5ECF6",
          "polar": {
           "angularaxis": {
            "gridcolor": "white",
            "linecolor": "white",
            "ticks": ""
           },
           "bgcolor": "#E5ECF6",
           "radialaxis": {
            "gridcolor": "white",
            "linecolor": "white",
            "ticks": ""
           }
          },
          "scene": {
           "xaxis": {
            "backgroundcolor": "#E5ECF6",
            "gridcolor": "white",
            "gridwidth": 2,
            "linecolor": "white",
            "showbackground": true,
            "ticks": "",
            "zerolinecolor": "white"
           },
           "yaxis": {
            "backgroundcolor": "#E5ECF6",
            "gridcolor": "white",
            "gridwidth": 2,
            "linecolor": "white",
            "showbackground": true,
            "ticks": "",
            "zerolinecolor": "white"
           },
           "zaxis": {
            "backgroundcolor": "#E5ECF6",
            "gridcolor": "white",
            "gridwidth": 2,
            "linecolor": "white",
            "showbackground": true,
            "ticks": "",
            "zerolinecolor": "white"
           }
          },
          "shapedefaults": {
           "line": {
            "color": "#2a3f5f"
           }
          },
          "ternary": {
           "aaxis": {
            "gridcolor": "white",
            "linecolor": "white",
            "ticks": ""
           },
           "baxis": {
            "gridcolor": "white",
            "linecolor": "white",
            "ticks": ""
           },
           "bgcolor": "#E5ECF6",
           "caxis": {
            "gridcolor": "white",
            "linecolor": "white",
            "ticks": ""
           }
          },
          "title": {
           "x": 0.05
          },
          "xaxis": {
           "automargin": true,
           "gridcolor": "white",
           "linecolor": "white",
           "ticks": "",
           "title": {
            "standoff": 15
           },
           "zerolinecolor": "white",
           "zerolinewidth": 2
          },
          "yaxis": {
           "automargin": true,
           "gridcolor": "white",
           "linecolor": "white",
           "ticks": "",
           "title": {
            "standoff": 15
           },
           "zerolinecolor": "white",
           "zerolinewidth": 2
          }
         }
        },
        "title": {
         "text": "Overlap of Variant/Therapeutic Evidence in MetaKB v2"
        },
        "xaxis": {
         "anchor": "y",
         "domain": [
          0,
          1
         ],
         "tickfont": {
          "size": 4
         },
         "title": {
          "text": "Variant/Therapeutic Aggregated Evidence"
         }
        },
        "yaxis": {
         "anchor": "x",
         "domain": [
          0,
          1
         ],
         "title": {
          "font": {
           "size": 12
          },
          "text": "# of Study Statements containing Variant/Therapeutic"
         }
        }
       }
      }
     },
     "metadata": {},
     "output_type": "display_data"
    }
   ],
   "source": [
    "# Bar Graph of Evidence Overlap\n",
    "fig = px.bar(tdf[0:114], x='joined', y='counts', title='Overlap of Variant/Therapeutic Evidence in MetaKB v2')\n",
    "fig.update_layout(yaxis_title='# of Study Statements containing Variant/Therapeutic',\n",
    "                  xaxis_title='Variant/Therapeutic Aggregated Evidence',\n",
    "                  xaxis=dict(tickfont=dict(size=4)),\n",
    "                  yaxis_title_font=dict(size=12),\n",
    "                  bargap=0.2)\n",
    "fig.show()\n",
    "pio.write_image(fig, \"Variant_Therapeutic_aggregation_overlap_bar.png\", format='png', width=1500, height=500, scale=5)\n"
   ]
  },
  {
   "cell_type": "code",
   "execution_count": 189,
   "metadata": {},
   "outputs": [
    {
     "data": {
      "application/vnd.plotly.v1+json": {
       "config": {
        "plotlyServerURL": "https://plot.ly"
       },
       "data": [
        {
         "domain": {
          "x": [
           0,
           1
          ],
          "y": [
           0,
           1
          ]
         },
         "hovertemplate": "is_duplicate=%{label}<br>counts=%{value}<extra></extra>",
         "labels": [
          "Duplicate",
          "Duplicate",
          "Duplicate",
          "Duplicate",
          "Duplicate",
          "Duplicate",
          "Duplicate",
          "Duplicate",
          "Duplicate",
          "Duplicate",
          "Duplicate",
          "Duplicate",
          "Duplicate",
          "Duplicate",
          "Duplicate",
          "Duplicate",
          "Duplicate",
          "Duplicate",
          "Duplicate",
          "Duplicate",
          "Duplicate",
          "Duplicate",
          "Duplicate",
          "Duplicate",
          "Duplicate",
          "Duplicate",
          "Duplicate",
          "Duplicate",
          "Duplicate",
          "Duplicate",
          "Duplicate",
          "Duplicate",
          "Duplicate",
          "Duplicate",
          "Duplicate",
          "Duplicate",
          "Duplicate",
          "Duplicate",
          "Duplicate",
          "Duplicate",
          "Duplicate",
          "Duplicate",
          "Duplicate",
          "Duplicate",
          "Duplicate",
          "Duplicate",
          "Duplicate",
          "Duplicate",
          "Duplicate",
          "Duplicate",
          "Duplicate",
          "Duplicate",
          "Duplicate",
          "Duplicate",
          "Duplicate",
          "Duplicate",
          "Duplicate",
          "Duplicate",
          "Duplicate",
          "Duplicate",
          "Duplicate",
          "Duplicate",
          "Duplicate",
          "Duplicate",
          "Duplicate",
          "Duplicate",
          "Duplicate",
          "Duplicate",
          "Duplicate",
          "Duplicate",
          "Duplicate",
          "Duplicate",
          "Duplicate",
          "Duplicate",
          "Duplicate",
          "Duplicate",
          "Duplicate",
          "Duplicate",
          "Duplicate",
          "Duplicate",
          "Duplicate",
          "Duplicate",
          "Duplicate",
          "Duplicate",
          "Duplicate",
          "Duplicate",
          "Duplicate",
          "Duplicate",
          "Duplicate",
          "Duplicate",
          "Duplicate",
          "Duplicate",
          "Duplicate",
          "Duplicate",
          "Duplicate",
          "Duplicate",
          "Duplicate",
          "Duplicate",
          "Duplicate",
          "Duplicate",
          "Duplicate",
          "Duplicate",
          "Duplicate",
          "Duplicate",
          "Duplicate",
          "Duplicate",
          "Duplicate",
          "Duplicate",
          "Duplicate",
          "Duplicate",
          "Duplicate",
          "Duplicate",
          "Duplicate",
          "Duplicate",
          "Not Duplicate",
          "Not Duplicate",
          "Not Duplicate",
          "Not Duplicate",
          "Not Duplicate",
          "Not Duplicate",
          "Not Duplicate",
          "Not Duplicate",
          "Not Duplicate",
          "Not Duplicate",
          "Not Duplicate",
          "Not Duplicate",
          "Not Duplicate",
          "Not Duplicate",
          "Not Duplicate",
          "Not Duplicate",
          "Not Duplicate",
          "Not Duplicate",
          "Not Duplicate",
          "Not Duplicate",
          "Not Duplicate",
          "Not Duplicate",
          "Not Duplicate",
          "Not Duplicate",
          "Not Duplicate",
          "Not Duplicate",
          "Not Duplicate",
          "Not Duplicate",
          "Not Duplicate",
          "Not Duplicate",
          "Not Duplicate",
          "Not Duplicate",
          "Not Duplicate",
          "Not Duplicate",
          "Not Duplicate",
          "Not Duplicate",
          "Not Duplicate",
          "Not Duplicate",
          "Not Duplicate",
          "Not Duplicate",
          "Not Duplicate",
          "Not Duplicate",
          "Not Duplicate",
          "Not Duplicate",
          "Not Duplicate",
          "Not Duplicate",
          "Not Duplicate",
          "Not Duplicate",
          "Not Duplicate",
          "Not Duplicate",
          "Not Duplicate",
          "Not Duplicate",
          "Not Duplicate",
          "Not Duplicate",
          "Not Duplicate",
          "Not Duplicate",
          "Not Duplicate",
          "Not Duplicate",
          "Not Duplicate",
          "Not Duplicate",
          "Not Duplicate",
          "Not Duplicate",
          "Not Duplicate",
          "Not Duplicate",
          "Not Duplicate",
          "Not Duplicate",
          "Not Duplicate",
          "Not Duplicate",
          "Not Duplicate",
          "Not Duplicate",
          "Not Duplicate",
          "Not Duplicate",
          "Not Duplicate",
          "Not Duplicate",
          "Not Duplicate",
          "Not Duplicate",
          "Not Duplicate",
          "Not Duplicate",
          "Not Duplicate",
          "Not Duplicate",
          "Not Duplicate",
          "Not Duplicate",
          "Not Duplicate",
          "Not Duplicate",
          "Not Duplicate",
          "Not Duplicate",
          "Not Duplicate",
          "Not Duplicate",
          "Not Duplicate",
          "Not Duplicate",
          "Not Duplicate",
          "Not Duplicate",
          "Not Duplicate",
          "Not Duplicate",
          "Not Duplicate",
          "Not Duplicate",
          "Not Duplicate",
          "Not Duplicate",
          "Not Duplicate",
          "Not Duplicate",
          "Not Duplicate",
          "Not Duplicate",
          "Not Duplicate",
          "Not Duplicate",
          "Not Duplicate",
          "Not Duplicate",
          "Not Duplicate",
          "Not Duplicate",
          "Not Duplicate",
          "Not Duplicate",
          "Not Duplicate",
          "Not Duplicate",
          "Not Duplicate",
          "Not Duplicate",
          "Not Duplicate",
          "Not Duplicate",
          "Not Duplicate",
          "Not Duplicate",
          "Not Duplicate",
          "Not Duplicate",
          "Not Duplicate",
          "Not Duplicate",
          "Not Duplicate",
          "Not Duplicate",
          "Not Duplicate",
          "Not Duplicate",
          "Not Duplicate",
          "Not Duplicate",
          "Not Duplicate",
          "Not Duplicate",
          "Not Duplicate",
          "Not Duplicate",
          "Not Duplicate",
          "Not Duplicate",
          "Not Duplicate",
          "Not Duplicate",
          "Not Duplicate",
          "Not Duplicate",
          "Not Duplicate",
          "Not Duplicate",
          "Not Duplicate",
          "Not Duplicate",
          "Not Duplicate",
          "Not Duplicate",
          "Not Duplicate",
          "Not Duplicate",
          "Not Duplicate",
          "Not Duplicate",
          "Not Duplicate",
          "Not Duplicate",
          "Not Duplicate",
          "Not Duplicate",
          "Not Duplicate",
          "Not Duplicate",
          "Not Duplicate",
          "Not Duplicate",
          "Not Duplicate",
          "Not Duplicate",
          "Not Duplicate",
          "Not Duplicate",
          "Not Duplicate",
          "Not Duplicate",
          "Not Duplicate",
          "Not Duplicate",
          "Not Duplicate",
          "Not Duplicate",
          "Not Duplicate",
          "Not Duplicate",
          "Not Duplicate",
          "Not Duplicate",
          "Not Duplicate",
          "Not Duplicate",
          "Not Duplicate",
          "Not Duplicate",
          "Not Duplicate",
          "Not Duplicate",
          "Not Duplicate",
          "Not Duplicate",
          "Not Duplicate",
          "Not Duplicate",
          "Not Duplicate",
          "Not Duplicate",
          "Not Duplicate",
          "Not Duplicate",
          "Not Duplicate",
          "Not Duplicate",
          "Not Duplicate",
          "Not Duplicate",
          "Not Duplicate",
          "Not Duplicate",
          "Not Duplicate",
          "Not Duplicate",
          "Not Duplicate",
          "Not Duplicate",
          "Not Duplicate",
          "Not Duplicate",
          "Not Duplicate",
          "Not Duplicate",
          "Not Duplicate",
          "Not Duplicate",
          "Not Duplicate",
          "Not Duplicate",
          "Not Duplicate",
          "Not Duplicate",
          "Not Duplicate",
          "Not Duplicate",
          "Not Duplicate",
          "Not Duplicate",
          "Not Duplicate",
          "Not Duplicate",
          "Not Duplicate",
          "Not Duplicate",
          "Not Duplicate",
          "Not Duplicate",
          "Not Duplicate",
          "Not Duplicate",
          "Not Duplicate",
          "Not Duplicate",
          "Not Duplicate",
          "Not Duplicate",
          "Not Duplicate",
          "Not Duplicate",
          "Not Duplicate",
          "Not Duplicate",
          "Not Duplicate",
          "Not Duplicate",
          "Not Duplicate",
          "Not Duplicate",
          "Not Duplicate",
          "Not Duplicate",
          "Not Duplicate",
          "Not Duplicate",
          "Not Duplicate",
          "Not Duplicate",
          "Not Duplicate",
          "Not Duplicate",
          "Not Duplicate",
          "Not Duplicate",
          "Not Duplicate",
          "Not Duplicate",
          "Not Duplicate",
          "Not Duplicate",
          "Not Duplicate",
          "Not Duplicate",
          "Not Duplicate",
          "Not Duplicate",
          "Not Duplicate",
          "Not Duplicate",
          "Not Duplicate",
          "Not Duplicate",
          "Not Duplicate",
          "Not Duplicate",
          "Not Duplicate",
          "Not Duplicate",
          "Not Duplicate",
          "Not Duplicate",
          "Not Duplicate",
          "Not Duplicate",
          "Not Duplicate",
          "Not Duplicate",
          "Not Duplicate",
          "Not Duplicate",
          "Not Duplicate",
          "Not Duplicate",
          "Not Duplicate",
          "Not Duplicate",
          "Not Duplicate",
          "Not Duplicate",
          "Not Duplicate",
          "Not Duplicate",
          "Not Duplicate",
          "Not Duplicate",
          "Not Duplicate",
          "Not Duplicate",
          "Not Duplicate",
          "Not Duplicate",
          "Not Duplicate",
          "Not Duplicate",
          "Not Duplicate",
          "Not Duplicate",
          "Not Duplicate",
          "Not Duplicate",
          "Not Duplicate",
          "Not Duplicate",
          "Not Duplicate",
          "Not Duplicate",
          "Not Duplicate",
          "Not Duplicate",
          "Not Duplicate",
          "Not Duplicate",
          "Not Duplicate",
          "Not Duplicate",
          "Not Duplicate",
          "Not Duplicate",
          "Not Duplicate",
          "Not Duplicate",
          "Not Duplicate",
          "Not Duplicate",
          "Not Duplicate",
          "Not Duplicate",
          "Not Duplicate",
          "Not Duplicate",
          "Not Duplicate",
          "Not Duplicate",
          "Not Duplicate",
          "Not Duplicate",
          "Not Duplicate",
          "Not Duplicate",
          "Not Duplicate",
          "Not Duplicate",
          "Not Duplicate",
          "Not Duplicate",
          "Not Duplicate",
          "Not Duplicate",
          "Not Duplicate",
          "Not Duplicate",
          "Not Duplicate",
          "Not Duplicate",
          "Not Duplicate",
          "Not Duplicate",
          "Not Duplicate",
          "Not Duplicate",
          "Not Duplicate",
          "Not Duplicate",
          "Not Duplicate",
          "Not Duplicate",
          "Not Duplicate",
          "Not Duplicate",
          "Not Duplicate",
          "Not Duplicate",
          "Not Duplicate",
          "Not Duplicate",
          "Not Duplicate",
          "Not Duplicate",
          "Not Duplicate",
          "Not Duplicate",
          "Not Duplicate",
          "Not Duplicate",
          "Not Duplicate",
          "Not Duplicate",
          "Not Duplicate",
          "Not Duplicate",
          "Not Duplicate",
          "Not Duplicate",
          "Not Duplicate",
          "Not Duplicate",
          "Not Duplicate",
          "Not Duplicate",
          "Not Duplicate",
          "Not Duplicate",
          "Not Duplicate",
          "Not Duplicate",
          "Not Duplicate",
          "Not Duplicate",
          "Not Duplicate",
          "Not Duplicate",
          "Not Duplicate",
          "Not Duplicate",
          "Not Duplicate",
          "Not Duplicate",
          "Not Duplicate",
          "Not Duplicate",
          "Not Duplicate",
          "Not Duplicate",
          "Not Duplicate",
          "Not Duplicate",
          "Not Duplicate",
          "Not Duplicate",
          "Not Duplicate",
          "Not Duplicate",
          "Not Duplicate",
          "Not Duplicate",
          "Not Duplicate",
          "Not Duplicate",
          "Not Duplicate",
          "Not Duplicate",
          "Not Duplicate",
          "Not Duplicate",
          "Not Duplicate",
          "Not Duplicate",
          "Not Duplicate",
          "Not Duplicate",
          "Not Duplicate",
          "Not Duplicate",
          "Not Duplicate",
          "Not Duplicate",
          "Not Duplicate",
          "Not Duplicate",
          "Not Duplicate",
          "Not Duplicate",
          "Not Duplicate",
          "Not Duplicate",
          "Not Duplicate",
          "Not Duplicate",
          "Not Duplicate",
          "Not Duplicate",
          "Not Duplicate",
          "Not Duplicate",
          "Not Duplicate",
          "Not Duplicate",
          "Not Duplicate",
          "Not Duplicate",
          "Not Duplicate",
          "Not Duplicate",
          "Not Duplicate",
          "Not Duplicate",
          "Not Duplicate",
          "Not Duplicate",
          "Not Duplicate",
          "Not Duplicate",
          "Not Duplicate",
          "Not Duplicate",
          "Not Duplicate",
          "Not Duplicate",
          "Not Duplicate",
          "Not Duplicate",
          "Not Duplicate",
          "Not Duplicate",
          "Not Duplicate",
          "Not Duplicate",
          "Not Duplicate",
          "Not Duplicate",
          "Not Duplicate",
          "Not Duplicate",
          "Not Duplicate",
          "Not Duplicate",
          "Not Duplicate",
          "Not Duplicate",
          "Not Duplicate",
          "Not Duplicate",
          "Not Duplicate",
          "Not Duplicate",
          "Not Duplicate",
          "Not Duplicate",
          "Not Duplicate",
          "Not Duplicate",
          "Not Duplicate",
          "Not Duplicate",
          "Not Duplicate",
          "Not Duplicate",
          "Not Duplicate",
          "Not Duplicate",
          "Not Duplicate",
          "Not Duplicate",
          "Not Duplicate",
          "Not Duplicate",
          "Not Duplicate",
          "Not Duplicate",
          "Not Duplicate",
          "Not Duplicate",
          "Not Duplicate",
          "Not Duplicate",
          "Not Duplicate",
          "Not Duplicate",
          "Not Duplicate",
          "Not Duplicate",
          "Not Duplicate",
          "Not Duplicate",
          "Not Duplicate",
          "Not Duplicate",
          "Not Duplicate",
          "Not Duplicate",
          "Not Duplicate",
          "Not Duplicate",
          "Not Duplicate",
          "Not Duplicate",
          "Not Duplicate",
          "Not Duplicate",
          "Not Duplicate",
          "Not Duplicate",
          "Not Duplicate",
          "Not Duplicate",
          "Not Duplicate",
          "Not Duplicate",
          "Not Duplicate",
          "Not Duplicate",
          "Not Duplicate",
          "Not Duplicate",
          "Not Duplicate",
          "Not Duplicate",
          "Not Duplicate",
          "Not Duplicate",
          "Not Duplicate",
          "Not Duplicate",
          "Not Duplicate",
          "Not Duplicate",
          "Not Duplicate",
          "Not Duplicate",
          "Not Duplicate",
          "Not Duplicate",
          "Not Duplicate",
          "Not Duplicate",
          "Not Duplicate",
          "Not Duplicate",
          "Not Duplicate",
          "Not Duplicate",
          "Not Duplicate",
          "Not Duplicate",
          "Not Duplicate",
          "Not Duplicate",
          "Not Duplicate",
          "Not Duplicate",
          "Not Duplicate",
          "Not Duplicate",
          "Not Duplicate",
          "Not Duplicate",
          "Not Duplicate",
          "Not Duplicate",
          "Not Duplicate",
          "Not Duplicate",
          "Not Duplicate",
          "Not Duplicate",
          "Not Duplicate",
          "Not Duplicate",
          "Not Duplicate",
          "Not Duplicate",
          "Not Duplicate",
          "Not Duplicate",
          "Not Duplicate",
          "Not Duplicate",
          "Not Duplicate",
          "Not Duplicate",
          "Not Duplicate",
          "Not Duplicate",
          "Not Duplicate",
          "Not Duplicate",
          "Not Duplicate",
          "Not Duplicate",
          "Not Duplicate",
          "Not Duplicate",
          "Not Duplicate",
          "Not Duplicate",
          "Not Duplicate",
          "Not Duplicate",
          "Not Duplicate",
          "Not Duplicate",
          "Not Duplicate",
          "Not Duplicate",
          "Not Duplicate",
          "Not Duplicate",
          "Not Duplicate",
          "Not Duplicate",
          "Not Duplicate",
          "Not Duplicate",
          "Not Duplicate",
          "Not Duplicate",
          "Not Duplicate",
          "Not Duplicate",
          "Not Duplicate",
          "Not Duplicate",
          "Not Duplicate",
          "Not Duplicate",
          "Not Duplicate",
          "Not Duplicate",
          "Not Duplicate",
          "Not Duplicate",
          "Not Duplicate",
          "Not Duplicate",
          "Not Duplicate",
          "Not Duplicate",
          "Not Duplicate",
          "Not Duplicate",
          "Not Duplicate",
          "Not Duplicate",
          "Not Duplicate",
          "Not Duplicate",
          "Not Duplicate",
          "Not Duplicate",
          "Not Duplicate",
          "Not Duplicate",
          "Not Duplicate",
          "Not Duplicate",
          "Not Duplicate",
          "Not Duplicate",
          "Not Duplicate",
          "Not Duplicate",
          "Not Duplicate",
          "Not Duplicate",
          "Not Duplicate",
          "Not Duplicate",
          "Not Duplicate",
          "Not Duplicate",
          "Not Duplicate",
          "Not Duplicate",
          "Not Duplicate",
          "Not Duplicate",
          "Not Duplicate",
          "Not Duplicate",
          "Not Duplicate",
          "Not Duplicate",
          "Not Duplicate",
          "Not Duplicate",
          "Not Duplicate",
          "Not Duplicate",
          "Not Duplicate",
          "Not Duplicate",
          "Not Duplicate",
          "Not Duplicate",
          "Not Duplicate",
          "Not Duplicate",
          "Not Duplicate",
          "Not Duplicate",
          "Not Duplicate",
          "Not Duplicate",
          "Not Duplicate",
          "Not Duplicate",
          "Not Duplicate",
          "Not Duplicate",
          "Not Duplicate",
          "Not Duplicate",
          "Not Duplicate",
          "Not Duplicate",
          "Not Duplicate",
          "Not Duplicate",
          "Not Duplicate",
          "Not Duplicate",
          "Not Duplicate",
          "Not Duplicate",
          "Not Duplicate",
          "Not Duplicate",
          "Not Duplicate",
          "Not Duplicate",
          "Not Duplicate",
          "Not Duplicate",
          "Not Duplicate",
          "Not Duplicate",
          "Not Duplicate",
          "Not Duplicate",
          "Not Duplicate",
          "Not Duplicate",
          "Not Duplicate",
          "Not Duplicate",
          "Not Duplicate",
          "Not Duplicate",
          "Not Duplicate",
          "Not Duplicate",
          "Not Duplicate",
          "Not Duplicate",
          "Not Duplicate",
          "Not Duplicate",
          "Not Duplicate",
          "Not Duplicate",
          "Not Duplicate",
          "Not Duplicate",
          "Not Duplicate",
          "Not Duplicate",
          "Not Duplicate",
          "Not Duplicate",
          "Not Duplicate",
          "Not Duplicate",
          "Not Duplicate",
          "Not Duplicate",
          "Not Duplicate",
          "Not Duplicate",
          "Not Duplicate",
          "Not Duplicate",
          "Not Duplicate",
          "Not Duplicate",
          "Not Duplicate",
          "Not Duplicate",
          "Not Duplicate",
          "Not Duplicate",
          "Not Duplicate",
          "Not Duplicate",
          "Not Duplicate",
          "Not Duplicate",
          "Not Duplicate",
          "Not Duplicate",
          "Not Duplicate",
          "Not Duplicate",
          "Not Duplicate",
          "Not Duplicate",
          "Not Duplicate",
          "Not Duplicate",
          "Not Duplicate",
          "Not Duplicate",
          "Not Duplicate",
          "Not Duplicate",
          "Not Duplicate",
          "Not Duplicate",
          "Not Duplicate",
          "Not Duplicate",
          "Not Duplicate",
          "Not Duplicate",
          "Not Duplicate",
          "Not Duplicate",
          "Not Duplicate",
          "Not Duplicate",
          "Not Duplicate",
          "Not Duplicate",
          "Not Duplicate",
          "Not Duplicate",
          "Not Duplicate",
          "Not Duplicate",
          "Not Duplicate",
          "Not Duplicate",
          "Not Duplicate",
          "Not Duplicate",
          "Not Duplicate",
          "Not Duplicate",
          "Not Duplicate",
          "Not Duplicate",
          "Not Duplicate",
          "Not Duplicate",
          "Not Duplicate",
          "Not Duplicate"
         ],
         "legendgroup": "",
         "name": "",
         "showlegend": true,
         "textinfo": "percent+label",
         "type": "pie",
         "values": [
          30,
          14,
          12,
          11,
          8,
          7,
          7,
          7,
          6,
          5,
          5,
          5,
          4,
          4,
          4,
          4,
          4,
          4,
          4,
          4,
          3,
          3,
          3,
          3,
          3,
          3,
          3,
          3,
          3,
          3,
          3,
          3,
          3,
          3,
          3,
          3,
          3,
          3,
          3,
          2,
          2,
          2,
          2,
          2,
          2,
          2,
          2,
          2,
          2,
          2,
          2,
          2,
          2,
          2,
          2,
          2,
          2,
          2,
          2,
          2,
          2,
          2,
          2,
          2,
          2,
          2,
          2,
          2,
          2,
          2,
          2,
          2,
          2,
          2,
          2,
          2,
          2,
          2,
          2,
          2,
          2,
          2,
          2,
          2,
          2,
          2,
          2,
          2,
          2,
          2,
          2,
          2,
          2,
          2,
          2,
          2,
          2,
          2,
          2,
          2,
          2,
          2,
          2,
          2,
          2,
          2,
          2,
          2,
          2,
          2,
          2,
          2,
          2,
          2,
          1,
          1,
          1,
          1,
          1,
          1,
          1,
          1,
          1,
          1,
          1,
          1,
          1,
          1,
          1,
          1,
          1,
          1,
          1,
          1,
          1,
          1,
          1,
          1,
          1,
          1,
          1,
          1,
          1,
          1,
          1,
          1,
          1,
          1,
          1,
          1,
          1,
          1,
          1,
          1,
          1,
          1,
          1,
          1,
          1,
          1,
          1,
          1,
          1,
          1,
          1,
          1,
          1,
          1,
          1,
          1,
          1,
          1,
          1,
          1,
          1,
          1,
          1,
          1,
          1,
          1,
          1,
          1,
          1,
          1,
          1,
          1,
          1,
          1,
          1,
          1,
          1,
          1,
          1,
          1,
          1,
          1,
          1,
          1,
          1,
          1,
          1,
          1,
          1,
          1,
          1,
          1,
          1,
          1,
          1,
          1,
          1,
          1,
          1,
          1,
          1,
          1,
          1,
          1,
          1,
          1,
          1,
          1,
          1,
          1,
          1,
          1,
          1,
          1,
          1,
          1,
          1,
          1,
          1,
          1,
          1,
          1,
          1,
          1,
          1,
          1,
          1,
          1,
          1,
          1,
          1,
          1,
          1,
          1,
          1,
          1,
          1,
          1,
          1,
          1,
          1,
          1,
          1,
          1,
          1,
          1,
          1,
          1,
          1,
          1,
          1,
          1,
          1,
          1,
          1,
          1,
          1,
          1,
          1,
          1,
          1,
          1,
          1,
          1,
          1,
          1,
          1,
          1,
          1,
          1,
          1,
          1,
          1,
          1,
          1,
          1,
          1,
          1,
          1,
          1,
          1,
          1,
          1,
          1,
          1,
          1,
          1,
          1,
          1,
          1,
          1,
          1,
          1,
          1,
          1,
          1,
          1,
          1,
          1,
          1,
          1,
          1,
          1,
          1,
          1,
          1,
          1,
          1,
          1,
          1,
          1,
          1,
          1,
          1,
          1,
          1,
          1,
          1,
          1,
          1,
          1,
          1,
          1,
          1,
          1,
          1,
          1,
          1,
          1,
          1,
          1,
          1,
          1,
          1,
          1,
          1,
          1,
          1,
          1,
          1,
          1,
          1,
          1,
          1,
          1,
          1,
          1,
          1,
          1,
          1,
          1,
          1,
          1,
          1,
          1,
          1,
          1,
          1,
          1,
          1,
          1,
          1,
          1,
          1,
          1,
          1,
          1,
          1,
          1,
          1,
          1,
          1,
          1,
          1,
          1,
          1,
          1,
          1,
          1,
          1,
          1,
          1,
          1,
          1,
          1,
          1,
          1,
          1,
          1,
          1,
          1,
          1,
          1,
          1,
          1,
          1,
          1,
          1,
          1,
          1,
          1,
          1,
          1,
          1,
          1,
          1,
          1,
          1,
          1,
          1,
          1,
          1,
          1,
          1,
          1,
          1,
          1,
          1,
          1,
          1,
          1,
          1,
          1,
          1,
          1,
          1,
          1,
          1,
          1,
          1,
          1,
          1,
          1,
          1,
          1,
          1,
          1,
          1,
          1,
          1,
          1,
          1,
          1,
          1,
          1,
          1,
          1,
          1,
          1,
          1,
          1,
          1,
          1,
          1,
          1,
          1,
          1,
          1,
          1,
          1,
          1,
          1,
          1,
          1,
          1,
          1,
          1,
          1,
          1,
          1,
          1,
          1,
          1,
          1,
          1,
          1,
          1,
          1,
          1,
          1,
          1,
          1,
          1,
          1,
          1,
          1,
          1,
          1,
          1,
          1,
          1,
          1,
          1,
          1,
          1,
          1,
          1,
          1,
          1,
          1,
          1,
          1,
          1,
          1,
          1,
          1,
          1,
          1,
          1,
          1,
          1,
          1,
          1,
          1,
          1,
          1,
          1,
          1,
          1,
          1,
          1,
          1,
          1,
          1,
          1,
          1,
          1,
          1,
          1,
          1,
          1,
          1,
          1,
          1,
          1,
          1,
          1,
          1,
          1,
          1,
          1,
          1,
          1,
          1,
          1,
          1,
          1,
          1,
          1,
          1,
          1,
          1,
          1,
          1,
          1,
          1,
          1,
          1,
          1,
          1,
          1,
          1,
          1,
          1,
          1,
          1,
          1,
          1,
          1,
          1,
          1,
          1,
          1,
          1,
          1,
          1,
          1,
          1,
          1,
          1,
          1,
          1,
          1,
          1,
          1,
          1,
          1,
          1,
          1,
          1,
          1,
          1,
          1,
          1,
          1,
          1,
          1,
          1,
          1,
          1,
          1,
          1,
          1,
          1,
          1,
          1,
          1,
          1,
          1,
          1,
          1,
          1,
          1,
          1,
          1,
          1,
          1,
          1,
          1,
          1,
          1,
          1,
          1,
          1,
          1,
          1,
          1,
          1,
          1,
          1,
          1,
          1,
          1,
          1,
          1,
          1,
          1,
          1,
          1,
          1,
          1,
          1,
          1,
          1,
          1,
          1,
          1,
          1,
          1,
          1,
          1,
          1,
          1,
          1,
          1,
          1,
          1,
          1,
          1,
          1,
          1,
          1,
          1,
          1,
          1,
          1,
          1,
          1,
          1,
          1,
          1,
          1,
          1,
          1,
          1,
          1,
          1,
          1,
          1,
          1,
          1,
          1,
          1,
          1,
          1,
          1,
          1,
          1,
          1,
          1,
          1,
          1,
          1,
          1,
          1,
          1,
          1,
          1,
          1,
          1,
          1,
          1,
          1,
          1,
          1,
          1,
          1,
          1,
          1,
          1,
          1,
          1,
          1,
          1,
          1,
          1,
          1,
          1,
          1,
          1,
          1,
          1,
          1,
          1,
          1,
          1,
          1,
          1,
          1,
          1,
          1,
          1,
          1,
          1,
          1,
          1,
          1,
          1,
          1,
          1,
          1,
          1,
          1,
          1,
          1,
          1,
          1,
          1,
          1,
          1,
          1,
          1,
          1,
          1,
          1,
          1,
          1,
          1,
          1,
          1,
          1,
          1,
          1,
          1,
          1,
          1,
          1,
          1,
          1,
          1,
          1,
          1,
          1,
          1,
          1,
          1,
          1,
          1,
          1,
          1,
          1,
          1,
          1,
          1,
          1,
          1,
          1,
          1,
          1,
          1,
          1,
          1,
          1,
          1,
          1,
          1,
          1,
          1,
          1,
          1,
          1,
          1,
          1,
          1,
          1,
          1
         ]
        }
       ],
       "layout": {
        "legend": {
         "tracegroupgap": 0
        },
        "template": {
         "data": {
          "bar": [
           {
            "error_x": {
             "color": "#2a3f5f"
            },
            "error_y": {
             "color": "#2a3f5f"
            },
            "marker": {
             "line": {
              "color": "#E5ECF6",
              "width": 0.5
             },
             "pattern": {
              "fillmode": "overlay",
              "size": 10,
              "solidity": 0.2
             }
            },
            "type": "bar"
           }
          ],
          "barpolar": [
           {
            "marker": {
             "line": {
              "color": "#E5ECF6",
              "width": 0.5
             },
             "pattern": {
              "fillmode": "overlay",
              "size": 10,
              "solidity": 0.2
             }
            },
            "type": "barpolar"
           }
          ],
          "carpet": [
           {
            "aaxis": {
             "endlinecolor": "#2a3f5f",
             "gridcolor": "white",
             "linecolor": "white",
             "minorgridcolor": "white",
             "startlinecolor": "#2a3f5f"
            },
            "baxis": {
             "endlinecolor": "#2a3f5f",
             "gridcolor": "white",
             "linecolor": "white",
             "minorgridcolor": "white",
             "startlinecolor": "#2a3f5f"
            },
            "type": "carpet"
           }
          ],
          "choropleth": [
           {
            "colorbar": {
             "outlinewidth": 0,
             "ticks": ""
            },
            "type": "choropleth"
           }
          ],
          "contour": [
           {
            "colorbar": {
             "outlinewidth": 0,
             "ticks": ""
            },
            "colorscale": [
             [
              0,
              "#0d0887"
             ],
             [
              0.1111111111111111,
              "#46039f"
             ],
             [
              0.2222222222222222,
              "#7201a8"
             ],
             [
              0.3333333333333333,
              "#9c179e"
             ],
             [
              0.4444444444444444,
              "#bd3786"
             ],
             [
              0.5555555555555556,
              "#d8576b"
             ],
             [
              0.6666666666666666,
              "#ed7953"
             ],
             [
              0.7777777777777778,
              "#fb9f3a"
             ],
             [
              0.8888888888888888,
              "#fdca26"
             ],
             [
              1,
              "#f0f921"
             ]
            ],
            "type": "contour"
           }
          ],
          "contourcarpet": [
           {
            "colorbar": {
             "outlinewidth": 0,
             "ticks": ""
            },
            "type": "contourcarpet"
           }
          ],
          "heatmap": [
           {
            "colorbar": {
             "outlinewidth": 0,
             "ticks": ""
            },
            "colorscale": [
             [
              0,
              "#0d0887"
             ],
             [
              0.1111111111111111,
              "#46039f"
             ],
             [
              0.2222222222222222,
              "#7201a8"
             ],
             [
              0.3333333333333333,
              "#9c179e"
             ],
             [
              0.4444444444444444,
              "#bd3786"
             ],
             [
              0.5555555555555556,
              "#d8576b"
             ],
             [
              0.6666666666666666,
              "#ed7953"
             ],
             [
              0.7777777777777778,
              "#fb9f3a"
             ],
             [
              0.8888888888888888,
              "#fdca26"
             ],
             [
              1,
              "#f0f921"
             ]
            ],
            "type": "heatmap"
           }
          ],
          "heatmapgl": [
           {
            "colorbar": {
             "outlinewidth": 0,
             "ticks": ""
            },
            "colorscale": [
             [
              0,
              "#0d0887"
             ],
             [
              0.1111111111111111,
              "#46039f"
             ],
             [
              0.2222222222222222,
              "#7201a8"
             ],
             [
              0.3333333333333333,
              "#9c179e"
             ],
             [
              0.4444444444444444,
              "#bd3786"
             ],
             [
              0.5555555555555556,
              "#d8576b"
             ],
             [
              0.6666666666666666,
              "#ed7953"
             ],
             [
              0.7777777777777778,
              "#fb9f3a"
             ],
             [
              0.8888888888888888,
              "#fdca26"
             ],
             [
              1,
              "#f0f921"
             ]
            ],
            "type": "heatmapgl"
           }
          ],
          "histogram": [
           {
            "marker": {
             "pattern": {
              "fillmode": "overlay",
              "size": 10,
              "solidity": 0.2
             }
            },
            "type": "histogram"
           }
          ],
          "histogram2d": [
           {
            "colorbar": {
             "outlinewidth": 0,
             "ticks": ""
            },
            "colorscale": [
             [
              0,
              "#0d0887"
             ],
             [
              0.1111111111111111,
              "#46039f"
             ],
             [
              0.2222222222222222,
              "#7201a8"
             ],
             [
              0.3333333333333333,
              "#9c179e"
             ],
             [
              0.4444444444444444,
              "#bd3786"
             ],
             [
              0.5555555555555556,
              "#d8576b"
             ],
             [
              0.6666666666666666,
              "#ed7953"
             ],
             [
              0.7777777777777778,
              "#fb9f3a"
             ],
             [
              0.8888888888888888,
              "#fdca26"
             ],
             [
              1,
              "#f0f921"
             ]
            ],
            "type": "histogram2d"
           }
          ],
          "histogram2dcontour": [
           {
            "colorbar": {
             "outlinewidth": 0,
             "ticks": ""
            },
            "colorscale": [
             [
              0,
              "#0d0887"
             ],
             [
              0.1111111111111111,
              "#46039f"
             ],
             [
              0.2222222222222222,
              "#7201a8"
             ],
             [
              0.3333333333333333,
              "#9c179e"
             ],
             [
              0.4444444444444444,
              "#bd3786"
             ],
             [
              0.5555555555555556,
              "#d8576b"
             ],
             [
              0.6666666666666666,
              "#ed7953"
             ],
             [
              0.7777777777777778,
              "#fb9f3a"
             ],
             [
              0.8888888888888888,
              "#fdca26"
             ],
             [
              1,
              "#f0f921"
             ]
            ],
            "type": "histogram2dcontour"
           }
          ],
          "mesh3d": [
           {
            "colorbar": {
             "outlinewidth": 0,
             "ticks": ""
            },
            "type": "mesh3d"
           }
          ],
          "parcoords": [
           {
            "line": {
             "colorbar": {
              "outlinewidth": 0,
              "ticks": ""
             }
            },
            "type": "parcoords"
           }
          ],
          "pie": [
           {
            "automargin": true,
            "type": "pie"
           }
          ],
          "scatter": [
           {
            "fillpattern": {
             "fillmode": "overlay",
             "size": 10,
             "solidity": 0.2
            },
            "type": "scatter"
           }
          ],
          "scatter3d": [
           {
            "line": {
             "colorbar": {
              "outlinewidth": 0,
              "ticks": ""
             }
            },
            "marker": {
             "colorbar": {
              "outlinewidth": 0,
              "ticks": ""
             }
            },
            "type": "scatter3d"
           }
          ],
          "scattercarpet": [
           {
            "marker": {
             "colorbar": {
              "outlinewidth": 0,
              "ticks": ""
             }
            },
            "type": "scattercarpet"
           }
          ],
          "scattergeo": [
           {
            "marker": {
             "colorbar": {
              "outlinewidth": 0,
              "ticks": ""
             }
            },
            "type": "scattergeo"
           }
          ],
          "scattergl": [
           {
            "marker": {
             "colorbar": {
              "outlinewidth": 0,
              "ticks": ""
             }
            },
            "type": "scattergl"
           }
          ],
          "scattermapbox": [
           {
            "marker": {
             "colorbar": {
              "outlinewidth": 0,
              "ticks": ""
             }
            },
            "type": "scattermapbox"
           }
          ],
          "scatterpolar": [
           {
            "marker": {
             "colorbar": {
              "outlinewidth": 0,
              "ticks": ""
             }
            },
            "type": "scatterpolar"
           }
          ],
          "scatterpolargl": [
           {
            "marker": {
             "colorbar": {
              "outlinewidth": 0,
              "ticks": ""
             }
            },
            "type": "scatterpolargl"
           }
          ],
          "scatterternary": [
           {
            "marker": {
             "colorbar": {
              "outlinewidth": 0,
              "ticks": ""
             }
            },
            "type": "scatterternary"
           }
          ],
          "surface": [
           {
            "colorbar": {
             "outlinewidth": 0,
             "ticks": ""
            },
            "colorscale": [
             [
              0,
              "#0d0887"
             ],
             [
              0.1111111111111111,
              "#46039f"
             ],
             [
              0.2222222222222222,
              "#7201a8"
             ],
             [
              0.3333333333333333,
              "#9c179e"
             ],
             [
              0.4444444444444444,
              "#bd3786"
             ],
             [
              0.5555555555555556,
              "#d8576b"
             ],
             [
              0.6666666666666666,
              "#ed7953"
             ],
             [
              0.7777777777777778,
              "#fb9f3a"
             ],
             [
              0.8888888888888888,
              "#fdca26"
             ],
             [
              1,
              "#f0f921"
             ]
            ],
            "type": "surface"
           }
          ],
          "table": [
           {
            "cells": {
             "fill": {
              "color": "#EBF0F8"
             },
             "line": {
              "color": "white"
             }
            },
            "header": {
             "fill": {
              "color": "#C8D4E3"
             },
             "line": {
              "color": "white"
             }
            },
            "type": "table"
           }
          ]
         },
         "layout": {
          "annotationdefaults": {
           "arrowcolor": "#2a3f5f",
           "arrowhead": 0,
           "arrowwidth": 1
          },
          "autotypenumbers": "strict",
          "coloraxis": {
           "colorbar": {
            "outlinewidth": 0,
            "ticks": ""
           }
          },
          "colorscale": {
           "diverging": [
            [
             0,
             "#8e0152"
            ],
            [
             0.1,
             "#c51b7d"
            ],
            [
             0.2,
             "#de77ae"
            ],
            [
             0.3,
             "#f1b6da"
            ],
            [
             0.4,
             "#fde0ef"
            ],
            [
             0.5,
             "#f7f7f7"
            ],
            [
             0.6,
             "#e6f5d0"
            ],
            [
             0.7,
             "#b8e186"
            ],
            [
             0.8,
             "#7fbc41"
            ],
            [
             0.9,
             "#4d9221"
            ],
            [
             1,
             "#276419"
            ]
           ],
           "sequential": [
            [
             0,
             "#0d0887"
            ],
            [
             0.1111111111111111,
             "#46039f"
            ],
            [
             0.2222222222222222,
             "#7201a8"
            ],
            [
             0.3333333333333333,
             "#9c179e"
            ],
            [
             0.4444444444444444,
             "#bd3786"
            ],
            [
             0.5555555555555556,
             "#d8576b"
            ],
            [
             0.6666666666666666,
             "#ed7953"
            ],
            [
             0.7777777777777778,
             "#fb9f3a"
            ],
            [
             0.8888888888888888,
             "#fdca26"
            ],
            [
             1,
             "#f0f921"
            ]
           ],
           "sequentialminus": [
            [
             0,
             "#0d0887"
            ],
            [
             0.1111111111111111,
             "#46039f"
            ],
            [
             0.2222222222222222,
             "#7201a8"
            ],
            [
             0.3333333333333333,
             "#9c179e"
            ],
            [
             0.4444444444444444,
             "#bd3786"
            ],
            [
             0.5555555555555556,
             "#d8576b"
            ],
            [
             0.6666666666666666,
             "#ed7953"
            ],
            [
             0.7777777777777778,
             "#fb9f3a"
            ],
            [
             0.8888888888888888,
             "#fdca26"
            ],
            [
             1,
             "#f0f921"
            ]
           ]
          },
          "colorway": [
           "#636efa",
           "#EF553B",
           "#00cc96",
           "#ab63fa",
           "#FFA15A",
           "#19d3f3",
           "#FF6692",
           "#B6E880",
           "#FF97FF",
           "#FECB52"
          ],
          "font": {
           "color": "#2a3f5f"
          },
          "geo": {
           "bgcolor": "white",
           "lakecolor": "white",
           "landcolor": "#E5ECF6",
           "showlakes": true,
           "showland": true,
           "subunitcolor": "white"
          },
          "hoverlabel": {
           "align": "left"
          },
          "hovermode": "closest",
          "mapbox": {
           "style": "light"
          },
          "paper_bgcolor": "white",
          "plot_bgcolor": "#E5ECF6",
          "polar": {
           "angularaxis": {
            "gridcolor": "white",
            "linecolor": "white",
            "ticks": ""
           },
           "bgcolor": "#E5ECF6",
           "radialaxis": {
            "gridcolor": "white",
            "linecolor": "white",
            "ticks": ""
           }
          },
          "scene": {
           "xaxis": {
            "backgroundcolor": "#E5ECF6",
            "gridcolor": "white",
            "gridwidth": 2,
            "linecolor": "white",
            "showbackground": true,
            "ticks": "",
            "zerolinecolor": "white"
           },
           "yaxis": {
            "backgroundcolor": "#E5ECF6",
            "gridcolor": "white",
            "gridwidth": 2,
            "linecolor": "white",
            "showbackground": true,
            "ticks": "",
            "zerolinecolor": "white"
           },
           "zaxis": {
            "backgroundcolor": "#E5ECF6",
            "gridcolor": "white",
            "gridwidth": 2,
            "linecolor": "white",
            "showbackground": true,
            "ticks": "",
            "zerolinecolor": "white"
           }
          },
          "shapedefaults": {
           "line": {
            "color": "#2a3f5f"
           }
          },
          "ternary": {
           "aaxis": {
            "gridcolor": "white",
            "linecolor": "white",
            "ticks": ""
           },
           "baxis": {
            "gridcolor": "white",
            "linecolor": "white",
            "ticks": ""
           },
           "bgcolor": "#E5ECF6",
           "caxis": {
            "gridcolor": "white",
            "linecolor": "white",
            "ticks": ""
           }
          },
          "title": {
           "x": 0.05
          },
          "xaxis": {
           "automargin": true,
           "gridcolor": "white",
           "linecolor": "white",
           "ticks": "",
           "title": {
            "standoff": 15
           },
           "zerolinecolor": "white",
           "zerolinewidth": 2
          },
          "yaxis": {
           "automargin": true,
           "gridcolor": "white",
           "linecolor": "white",
           "ticks": "",
           "title": {
            "standoff": 15
           },
           "zerolinecolor": "white",
           "zerolinewidth": 2
          }
         }
        },
        "title": {
         "text": "% Evidence containing duplicate Variant/Therapeutic in MetaKB v2"
        }
       }
      }
     },
     "metadata": {},
     "output_type": "display_data"
    }
   ],
   "source": [
    "fig = px.pie(tdf, values='counts', names='is_duplicate', title='% Evidence containing duplicate Variant/Therapeutic in MetaKB v2')\n",
    "fig.update_traces(textinfo='percent+label')\n",
    "fig.show()\n",
    "pio.write_image(fig, \"Duplicate_Variant_Therapeutic_metakbv2_pie.png\", format='png', width=800, height=800, scale=5)"
   ]
  },
  {
   "cell_type": "markdown",
   "metadata": {},
   "source": [
    "#### Variants in Disease"
   ]
  },
  {
   "cell_type": "code",
   "execution_count": 296,
   "metadata": {},
   "outputs": [
    {
     "data": {
      "text/plain": [
       "subject                                    qualifier                    \n",
       "ga4gh:VA.j4XnsLZcdzDIYa5pvvXM7t1wn9OITr0L  Melanoma                         35\n",
       "                                           Colorectal Cancer                33\n",
       "ga4gh:VA.sMA9h8fzDi0RvweMlxtD0_Oi8B-JZ1V-  Lung Non-small Cell Carcinoma    25\n",
       "ga4gh:VA.S41CcMJT2bcd8R4-qXZWH1PoHWNtG2PZ  Lung Non-small Cell Carcinoma    22\n",
       "ga4gh:VA.ORvaSNcFK71WOVr_gi2vv6oPCcXgljab  Colorectal Cancer                13\n",
       "                                                                            ..\n",
       "ga4gh:VA.WCo3uQpMnNSbBMy5pKdSccudXs8ooZw9  Cancer                            2\n",
       "ga4gh:VA.t8CxWZxFJbfWnqruBINaDXruSd6aNKZH  Colorectal Cancer                 2\n",
       "ga4gh:VA.2VAvTmPON2L7JffxjE68jAmmmwxyzDpB  Oligodendroglioma                 2\n",
       "ga4gh:VA.udBCHwlrf8xNiRy_19bLi-h5LhnZLgCt  Non-Small Cell Lung Cancer        2\n",
       "ga4gh:VA.YqiDFzE2K6fcXhXkCGYHIQ75RgutPq_7  Acute Myeloid Leukemia            2\n",
       "Name: count, Length: 171, dtype: int64"
      ]
     },
     "execution_count": 296,
     "metadata": {},
     "output_type": "execute_result"
    }
   ],
   "source": [
    "df[['subject','qualifier']].value_counts()[0:171]"
   ]
  },
  {
   "cell_type": "code",
   "execution_count": 297,
   "metadata": {},
   "outputs": [
    {
     "data": {
      "text/html": [
       "<div>\n",
       "<style scoped>\n",
       "    .dataframe tbody tr th:only-of-type {\n",
       "        vertical-align: middle;\n",
       "    }\n",
       "\n",
       "    .dataframe tbody tr th {\n",
       "        vertical-align: top;\n",
       "    }\n",
       "\n",
       "    .dataframe thead th {\n",
       "        text-align: right;\n",
       "    }\n",
       "</style>\n",
       "<table border=\"1\" class=\"dataframe\">\n",
       "  <thead>\n",
       "    <tr style=\"text-align: right;\">\n",
       "      <th></th>\n",
       "      <th>Variant</th>\n",
       "      <th>Disease</th>\n",
       "      <th>counts</th>\n",
       "    </tr>\n",
       "  </thead>\n",
       "  <tbody>\n",
       "    <tr>\n",
       "      <th>0</th>\n",
       "      <td>ga4gh:VA.j4XnsLZcdzDIYa5pvvXM7t1wn9OITr0L</td>\n",
       "      <td>Melanoma</td>\n",
       "      <td>35</td>\n",
       "    </tr>\n",
       "    <tr>\n",
       "      <th>1</th>\n",
       "      <td>ga4gh:VA.j4XnsLZcdzDIYa5pvvXM7t1wn9OITr0L</td>\n",
       "      <td>Colorectal Cancer</td>\n",
       "      <td>33</td>\n",
       "    </tr>\n",
       "    <tr>\n",
       "      <th>2</th>\n",
       "      <td>ga4gh:VA.sMA9h8fzDi0RvweMlxtD0_Oi8B-JZ1V-</td>\n",
       "      <td>Lung Non-small Cell Carcinoma</td>\n",
       "      <td>25</td>\n",
       "    </tr>\n",
       "    <tr>\n",
       "      <th>3</th>\n",
       "      <td>ga4gh:VA.S41CcMJT2bcd8R4-qXZWH1PoHWNtG2PZ</td>\n",
       "      <td>Lung Non-small Cell Carcinoma</td>\n",
       "      <td>22</td>\n",
       "    </tr>\n",
       "    <tr>\n",
       "      <th>4</th>\n",
       "      <td>ga4gh:VA.ORvaSNcFK71WOVr_gi2vv6oPCcXgljab</td>\n",
       "      <td>Colorectal Cancer</td>\n",
       "      <td>13</td>\n",
       "    </tr>\n",
       "    <tr>\n",
       "      <th>...</th>\n",
       "      <td>...</td>\n",
       "      <td>...</td>\n",
       "      <td>...</td>\n",
       "    </tr>\n",
       "    <tr>\n",
       "      <th>166</th>\n",
       "      <td>ga4gh:VA.WCo3uQpMnNSbBMy5pKdSccudXs8ooZw9</td>\n",
       "      <td>Cancer</td>\n",
       "      <td>2</td>\n",
       "    </tr>\n",
       "    <tr>\n",
       "      <th>167</th>\n",
       "      <td>ga4gh:VA.t8CxWZxFJbfWnqruBINaDXruSd6aNKZH</td>\n",
       "      <td>Colorectal Cancer</td>\n",
       "      <td>2</td>\n",
       "    </tr>\n",
       "    <tr>\n",
       "      <th>168</th>\n",
       "      <td>ga4gh:VA.2VAvTmPON2L7JffxjE68jAmmmwxyzDpB</td>\n",
       "      <td>Oligodendroglioma</td>\n",
       "      <td>2</td>\n",
       "    </tr>\n",
       "    <tr>\n",
       "      <th>169</th>\n",
       "      <td>ga4gh:VA.udBCHwlrf8xNiRy_19bLi-h5LhnZLgCt</td>\n",
       "      <td>Non-Small Cell Lung Cancer</td>\n",
       "      <td>2</td>\n",
       "    </tr>\n",
       "    <tr>\n",
       "      <th>170</th>\n",
       "      <td>ga4gh:VA.YqiDFzE2K6fcXhXkCGYHIQ75RgutPq_7</td>\n",
       "      <td>Acute Myeloid Leukemia</td>\n",
       "      <td>2</td>\n",
       "    </tr>\n",
       "  </tbody>\n",
       "</table>\n",
       "<p>171 rows × 3 columns</p>\n",
       "</div>"
      ],
      "text/plain": [
       "                                       Variant                        Disease  \\\n",
       "0    ga4gh:VA.j4XnsLZcdzDIYa5pvvXM7t1wn9OITr0L                       Melanoma   \n",
       "1    ga4gh:VA.j4XnsLZcdzDIYa5pvvXM7t1wn9OITr0L              Colorectal Cancer   \n",
       "2    ga4gh:VA.sMA9h8fzDi0RvweMlxtD0_Oi8B-JZ1V-  Lung Non-small Cell Carcinoma   \n",
       "3    ga4gh:VA.S41CcMJT2bcd8R4-qXZWH1PoHWNtG2PZ  Lung Non-small Cell Carcinoma   \n",
       "4    ga4gh:VA.ORvaSNcFK71WOVr_gi2vv6oPCcXgljab              Colorectal Cancer   \n",
       "..                                         ...                            ...   \n",
       "166  ga4gh:VA.WCo3uQpMnNSbBMy5pKdSccudXs8ooZw9                         Cancer   \n",
       "167  ga4gh:VA.t8CxWZxFJbfWnqruBINaDXruSd6aNKZH              Colorectal Cancer   \n",
       "168  ga4gh:VA.2VAvTmPON2L7JffxjE68jAmmmwxyzDpB              Oligodendroglioma   \n",
       "169  ga4gh:VA.udBCHwlrf8xNiRy_19bLi-h5LhnZLgCt     Non-Small Cell Lung Cancer   \n",
       "170  ga4gh:VA.YqiDFzE2K6fcXhXkCGYHIQ75RgutPq_7         Acute Myeloid Leukemia   \n",
       "\n",
       "     counts  \n",
       "0        35  \n",
       "1        33  \n",
       "2        25  \n",
       "3        22  \n",
       "4        13  \n",
       "..      ...  \n",
       "166       2  \n",
       "167       2  \n",
       "168       2  \n",
       "169       2  \n",
       "170       2  \n",
       "\n",
       "[171 rows x 3 columns]"
      ]
     },
     "execution_count": 297,
     "metadata": {},
     "output_type": "execute_result"
    }
   ],
   "source": [
    "tdf = df[['subject','qualifier']].value_counts().rename_axis(['Variant','Disease']).reset_index(name='counts')\n",
    "tdf[0:171]"
   ]
  },
  {
   "cell_type": "code",
   "execution_count": 298,
   "metadata": {},
   "outputs": [
    {
     "data": {
      "text/html": [
       "<div>\n",
       "<style scoped>\n",
       "    .dataframe tbody tr th:only-of-type {\n",
       "        vertical-align: middle;\n",
       "    }\n",
       "\n",
       "    .dataframe tbody tr th {\n",
       "        vertical-align: top;\n",
       "    }\n",
       "\n",
       "    .dataframe thead th {\n",
       "        text-align: right;\n",
       "    }\n",
       "</style>\n",
       "<table border=\"1\" class=\"dataframe\">\n",
       "  <thead>\n",
       "    <tr style=\"text-align: right;\">\n",
       "      <th></th>\n",
       "      <th>Variant</th>\n",
       "      <th>Disease</th>\n",
       "      <th>counts</th>\n",
       "      <th>joined</th>\n",
       "    </tr>\n",
       "  </thead>\n",
       "  <tbody>\n",
       "    <tr>\n",
       "      <th>0</th>\n",
       "      <td>ga4gh:VA.j4XnsLZcdzDIYa5pvvXM7t1wn9OITr0L</td>\n",
       "      <td>Melanoma</td>\n",
       "      <td>35</td>\n",
       "      <td>ga4gh:VA.j4XnsLZcdzDIYa5pvvXM7t1wn9OITr0L, Mel...</td>\n",
       "    </tr>\n",
       "    <tr>\n",
       "      <th>1</th>\n",
       "      <td>ga4gh:VA.j4XnsLZcdzDIYa5pvvXM7t1wn9OITr0L</td>\n",
       "      <td>Colorectal Cancer</td>\n",
       "      <td>33</td>\n",
       "      <td>ga4gh:VA.j4XnsLZcdzDIYa5pvvXM7t1wn9OITr0L, Col...</td>\n",
       "    </tr>\n",
       "    <tr>\n",
       "      <th>2</th>\n",
       "      <td>ga4gh:VA.sMA9h8fzDi0RvweMlxtD0_Oi8B-JZ1V-</td>\n",
       "      <td>Lung Non-small Cell Carcinoma</td>\n",
       "      <td>25</td>\n",
       "      <td>ga4gh:VA.sMA9h8fzDi0RvweMlxtD0_Oi8B-JZ1V-, Lun...</td>\n",
       "    </tr>\n",
       "    <tr>\n",
       "      <th>3</th>\n",
       "      <td>ga4gh:VA.S41CcMJT2bcd8R4-qXZWH1PoHWNtG2PZ</td>\n",
       "      <td>Lung Non-small Cell Carcinoma</td>\n",
       "      <td>22</td>\n",
       "      <td>ga4gh:VA.S41CcMJT2bcd8R4-qXZWH1PoHWNtG2PZ, Lun...</td>\n",
       "    </tr>\n",
       "    <tr>\n",
       "      <th>4</th>\n",
       "      <td>ga4gh:VA.ORvaSNcFK71WOVr_gi2vv6oPCcXgljab</td>\n",
       "      <td>Colorectal Cancer</td>\n",
       "      <td>13</td>\n",
       "      <td>ga4gh:VA.ORvaSNcFK71WOVr_gi2vv6oPCcXgljab, Col...</td>\n",
       "    </tr>\n",
       "    <tr>\n",
       "      <th>...</th>\n",
       "      <td>...</td>\n",
       "      <td>...</td>\n",
       "      <td>...</td>\n",
       "      <td>...</td>\n",
       "    </tr>\n",
       "    <tr>\n",
       "      <th>649</th>\n",
       "      <td>ga4gh:VA.N6UBWVy36H0uBm0x0cMpKOfYW4ILfAp3</td>\n",
       "      <td>Lung Adenocarcinoma</td>\n",
       "      <td>1</td>\n",
       "      <td>ga4gh:VA.N6UBWVy36H0uBm0x0cMpKOfYW4ILfAp3, Lun...</td>\n",
       "    </tr>\n",
       "    <tr>\n",
       "      <th>650</th>\n",
       "      <td>ga4gh:VA.MnEGjyrxZra3XnDnlR22sCzBum9tLtgs</td>\n",
       "      <td>Cancer</td>\n",
       "      <td>1</td>\n",
       "      <td>ga4gh:VA.MnEGjyrxZra3XnDnlR22sCzBum9tLtgs, Cancer</td>\n",
       "    </tr>\n",
       "    <tr>\n",
       "      <th>651</th>\n",
       "      <td>ga4gh:VA.Mb5FmolTKggTIxTjxIbG9aC0KngBkprC</td>\n",
       "      <td>Skin Melanoma</td>\n",
       "      <td>1</td>\n",
       "      <td>ga4gh:VA.Mb5FmolTKggTIxTjxIbG9aC0KngBkprC, Ski...</td>\n",
       "    </tr>\n",
       "    <tr>\n",
       "      <th>652</th>\n",
       "      <td>ga4gh:VA.MSbl4et_1iQVG2_R0TIpDDlt703Y-suA</td>\n",
       "      <td>Colorectal Cancer</td>\n",
       "      <td>1</td>\n",
       "      <td>ga4gh:VA.MSbl4et_1iQVG2_R0TIpDDlt703Y-suA, Col...</td>\n",
       "    </tr>\n",
       "    <tr>\n",
       "      <th>653</th>\n",
       "      <td>ga4gh:VA.zyWXV8RVNM4FYUaVOYWkBAPzgr6uw41W</td>\n",
       "      <td>Thyroid Gland Carcinoma</td>\n",
       "      <td>1</td>\n",
       "      <td>ga4gh:VA.zyWXV8RVNM4FYUaVOYWkBAPzgr6uw41W, Thy...</td>\n",
       "    </tr>\n",
       "  </tbody>\n",
       "</table>\n",
       "<p>654 rows × 4 columns</p>\n",
       "</div>"
      ],
      "text/plain": [
       "                                       Variant                        Disease  \\\n",
       "0    ga4gh:VA.j4XnsLZcdzDIYa5pvvXM7t1wn9OITr0L                       Melanoma   \n",
       "1    ga4gh:VA.j4XnsLZcdzDIYa5pvvXM7t1wn9OITr0L              Colorectal Cancer   \n",
       "2    ga4gh:VA.sMA9h8fzDi0RvweMlxtD0_Oi8B-JZ1V-  Lung Non-small Cell Carcinoma   \n",
       "3    ga4gh:VA.S41CcMJT2bcd8R4-qXZWH1PoHWNtG2PZ  Lung Non-small Cell Carcinoma   \n",
       "4    ga4gh:VA.ORvaSNcFK71WOVr_gi2vv6oPCcXgljab              Colorectal Cancer   \n",
       "..                                         ...                            ...   \n",
       "649  ga4gh:VA.N6UBWVy36H0uBm0x0cMpKOfYW4ILfAp3            Lung Adenocarcinoma   \n",
       "650  ga4gh:VA.MnEGjyrxZra3XnDnlR22sCzBum9tLtgs                         Cancer   \n",
       "651  ga4gh:VA.Mb5FmolTKggTIxTjxIbG9aC0KngBkprC                  Skin Melanoma   \n",
       "652  ga4gh:VA.MSbl4et_1iQVG2_R0TIpDDlt703Y-suA              Colorectal Cancer   \n",
       "653  ga4gh:VA.zyWXV8RVNM4FYUaVOYWkBAPzgr6uw41W        Thyroid Gland Carcinoma   \n",
       "\n",
       "     counts                                             joined  \n",
       "0        35  ga4gh:VA.j4XnsLZcdzDIYa5pvvXM7t1wn9OITr0L, Mel...  \n",
       "1        33  ga4gh:VA.j4XnsLZcdzDIYa5pvvXM7t1wn9OITr0L, Col...  \n",
       "2        25  ga4gh:VA.sMA9h8fzDi0RvweMlxtD0_Oi8B-JZ1V-, Lun...  \n",
       "3        22  ga4gh:VA.S41CcMJT2bcd8R4-qXZWH1PoHWNtG2PZ, Lun...  \n",
       "4        13  ga4gh:VA.ORvaSNcFK71WOVr_gi2vv6oPCcXgljab, Col...  \n",
       "..      ...                                                ...  \n",
       "649       1  ga4gh:VA.N6UBWVy36H0uBm0x0cMpKOfYW4ILfAp3, Lun...  \n",
       "650       1  ga4gh:VA.MnEGjyrxZra3XnDnlR22sCzBum9tLtgs, Cancer  \n",
       "651       1  ga4gh:VA.Mb5FmolTKggTIxTjxIbG9aC0KngBkprC, Ski...  \n",
       "652       1  ga4gh:VA.MSbl4et_1iQVG2_R0TIpDDlt703Y-suA, Col...  \n",
       "653       1  ga4gh:VA.zyWXV8RVNM4FYUaVOYWkBAPzgr6uw41W, Thy...  \n",
       "\n",
       "[654 rows x 4 columns]"
      ]
     },
     "execution_count": 298,
     "metadata": {},
     "output_type": "execute_result"
    }
   ],
   "source": [
    "tdf['joined'] = None\n",
    "for idx, row in tdf.iterrows():\n",
    "    tdf.at[idx,'joined'] = f'{str(row[\"Variant\"])}, {str(row[\"Disease\"])}'\n",
    "\n",
    "tdf"
   ]
  },
  {
   "cell_type": "code",
   "execution_count": 299,
   "metadata": {},
   "outputs": [
    {
     "data": {
      "text/html": [
       "<div>\n",
       "<style scoped>\n",
       "    .dataframe tbody tr th:only-of-type {\n",
       "        vertical-align: middle;\n",
       "    }\n",
       "\n",
       "    .dataframe tbody tr th {\n",
       "        vertical-align: top;\n",
       "    }\n",
       "\n",
       "    .dataframe thead th {\n",
       "        text-align: right;\n",
       "    }\n",
       "</style>\n",
       "<table border=\"1\" class=\"dataframe\">\n",
       "  <thead>\n",
       "    <tr style=\"text-align: right;\">\n",
       "      <th></th>\n",
       "      <th>Variant</th>\n",
       "      <th>Disease</th>\n",
       "      <th>counts</th>\n",
       "      <th>joined</th>\n",
       "      <th>is_duplicate</th>\n",
       "    </tr>\n",
       "  </thead>\n",
       "  <tbody>\n",
       "    <tr>\n",
       "      <th>0</th>\n",
       "      <td>ga4gh:VA.j4XnsLZcdzDIYa5pvvXM7t1wn9OITr0L</td>\n",
       "      <td>Melanoma</td>\n",
       "      <td>35</td>\n",
       "      <td>ga4gh:VA.j4XnsLZcdzDIYa5pvvXM7t1wn9OITr0L, Mel...</td>\n",
       "      <td>Duplicate</td>\n",
       "    </tr>\n",
       "    <tr>\n",
       "      <th>1</th>\n",
       "      <td>ga4gh:VA.j4XnsLZcdzDIYa5pvvXM7t1wn9OITr0L</td>\n",
       "      <td>Colorectal Cancer</td>\n",
       "      <td>33</td>\n",
       "      <td>ga4gh:VA.j4XnsLZcdzDIYa5pvvXM7t1wn9OITr0L, Col...</td>\n",
       "      <td>Duplicate</td>\n",
       "    </tr>\n",
       "    <tr>\n",
       "      <th>2</th>\n",
       "      <td>ga4gh:VA.sMA9h8fzDi0RvweMlxtD0_Oi8B-JZ1V-</td>\n",
       "      <td>Lung Non-small Cell Carcinoma</td>\n",
       "      <td>25</td>\n",
       "      <td>ga4gh:VA.sMA9h8fzDi0RvweMlxtD0_Oi8B-JZ1V-, Lun...</td>\n",
       "      <td>Duplicate</td>\n",
       "    </tr>\n",
       "    <tr>\n",
       "      <th>3</th>\n",
       "      <td>ga4gh:VA.S41CcMJT2bcd8R4-qXZWH1PoHWNtG2PZ</td>\n",
       "      <td>Lung Non-small Cell Carcinoma</td>\n",
       "      <td>22</td>\n",
       "      <td>ga4gh:VA.S41CcMJT2bcd8R4-qXZWH1PoHWNtG2PZ, Lun...</td>\n",
       "      <td>Duplicate</td>\n",
       "    </tr>\n",
       "    <tr>\n",
       "      <th>4</th>\n",
       "      <td>ga4gh:VA.ORvaSNcFK71WOVr_gi2vv6oPCcXgljab</td>\n",
       "      <td>Colorectal Cancer</td>\n",
       "      <td>13</td>\n",
       "      <td>ga4gh:VA.ORvaSNcFK71WOVr_gi2vv6oPCcXgljab, Col...</td>\n",
       "      <td>Duplicate</td>\n",
       "    </tr>\n",
       "    <tr>\n",
       "      <th>...</th>\n",
       "      <td>...</td>\n",
       "      <td>...</td>\n",
       "      <td>...</td>\n",
       "      <td>...</td>\n",
       "      <td>...</td>\n",
       "    </tr>\n",
       "    <tr>\n",
       "      <th>649</th>\n",
       "      <td>ga4gh:VA.N6UBWVy36H0uBm0x0cMpKOfYW4ILfAp3</td>\n",
       "      <td>Lung Adenocarcinoma</td>\n",
       "      <td>1</td>\n",
       "      <td>ga4gh:VA.N6UBWVy36H0uBm0x0cMpKOfYW4ILfAp3, Lun...</td>\n",
       "      <td>Not Duplicate</td>\n",
       "    </tr>\n",
       "    <tr>\n",
       "      <th>650</th>\n",
       "      <td>ga4gh:VA.MnEGjyrxZra3XnDnlR22sCzBum9tLtgs</td>\n",
       "      <td>Cancer</td>\n",
       "      <td>1</td>\n",
       "      <td>ga4gh:VA.MnEGjyrxZra3XnDnlR22sCzBum9tLtgs, Cancer</td>\n",
       "      <td>Not Duplicate</td>\n",
       "    </tr>\n",
       "    <tr>\n",
       "      <th>651</th>\n",
       "      <td>ga4gh:VA.Mb5FmolTKggTIxTjxIbG9aC0KngBkprC</td>\n",
       "      <td>Skin Melanoma</td>\n",
       "      <td>1</td>\n",
       "      <td>ga4gh:VA.Mb5FmolTKggTIxTjxIbG9aC0KngBkprC, Ski...</td>\n",
       "      <td>Not Duplicate</td>\n",
       "    </tr>\n",
       "    <tr>\n",
       "      <th>652</th>\n",
       "      <td>ga4gh:VA.MSbl4et_1iQVG2_R0TIpDDlt703Y-suA</td>\n",
       "      <td>Colorectal Cancer</td>\n",
       "      <td>1</td>\n",
       "      <td>ga4gh:VA.MSbl4et_1iQVG2_R0TIpDDlt703Y-suA, Col...</td>\n",
       "      <td>Not Duplicate</td>\n",
       "    </tr>\n",
       "    <tr>\n",
       "      <th>653</th>\n",
       "      <td>ga4gh:VA.zyWXV8RVNM4FYUaVOYWkBAPzgr6uw41W</td>\n",
       "      <td>Thyroid Gland Carcinoma</td>\n",
       "      <td>1</td>\n",
       "      <td>ga4gh:VA.zyWXV8RVNM4FYUaVOYWkBAPzgr6uw41W, Thy...</td>\n",
       "      <td>Not Duplicate</td>\n",
       "    </tr>\n",
       "  </tbody>\n",
       "</table>\n",
       "<p>654 rows × 5 columns</p>\n",
       "</div>"
      ],
      "text/plain": [
       "                                       Variant                        Disease  \\\n",
       "0    ga4gh:VA.j4XnsLZcdzDIYa5pvvXM7t1wn9OITr0L                       Melanoma   \n",
       "1    ga4gh:VA.j4XnsLZcdzDIYa5pvvXM7t1wn9OITr0L              Colorectal Cancer   \n",
       "2    ga4gh:VA.sMA9h8fzDi0RvweMlxtD0_Oi8B-JZ1V-  Lung Non-small Cell Carcinoma   \n",
       "3    ga4gh:VA.S41CcMJT2bcd8R4-qXZWH1PoHWNtG2PZ  Lung Non-small Cell Carcinoma   \n",
       "4    ga4gh:VA.ORvaSNcFK71WOVr_gi2vv6oPCcXgljab              Colorectal Cancer   \n",
       "..                                         ...                            ...   \n",
       "649  ga4gh:VA.N6UBWVy36H0uBm0x0cMpKOfYW4ILfAp3            Lung Adenocarcinoma   \n",
       "650  ga4gh:VA.MnEGjyrxZra3XnDnlR22sCzBum9tLtgs                         Cancer   \n",
       "651  ga4gh:VA.Mb5FmolTKggTIxTjxIbG9aC0KngBkprC                  Skin Melanoma   \n",
       "652  ga4gh:VA.MSbl4et_1iQVG2_R0TIpDDlt703Y-suA              Colorectal Cancer   \n",
       "653  ga4gh:VA.zyWXV8RVNM4FYUaVOYWkBAPzgr6uw41W        Thyroid Gland Carcinoma   \n",
       "\n",
       "     counts                                             joined   is_duplicate  \n",
       "0        35  ga4gh:VA.j4XnsLZcdzDIYa5pvvXM7t1wn9OITr0L, Mel...      Duplicate  \n",
       "1        33  ga4gh:VA.j4XnsLZcdzDIYa5pvvXM7t1wn9OITr0L, Col...      Duplicate  \n",
       "2        25  ga4gh:VA.sMA9h8fzDi0RvweMlxtD0_Oi8B-JZ1V-, Lun...      Duplicate  \n",
       "3        22  ga4gh:VA.S41CcMJT2bcd8R4-qXZWH1PoHWNtG2PZ, Lun...      Duplicate  \n",
       "4        13  ga4gh:VA.ORvaSNcFK71WOVr_gi2vv6oPCcXgljab, Col...      Duplicate  \n",
       "..      ...                                                ...            ...  \n",
       "649       1  ga4gh:VA.N6UBWVy36H0uBm0x0cMpKOfYW4ILfAp3, Lun...  Not Duplicate  \n",
       "650       1  ga4gh:VA.MnEGjyrxZra3XnDnlR22sCzBum9tLtgs, Cancer  Not Duplicate  \n",
       "651       1  ga4gh:VA.Mb5FmolTKggTIxTjxIbG9aC0KngBkprC, Ski...  Not Duplicate  \n",
       "652       1  ga4gh:VA.MSbl4et_1iQVG2_R0TIpDDlt703Y-suA, Col...  Not Duplicate  \n",
       "653       1  ga4gh:VA.zyWXV8RVNM4FYUaVOYWkBAPzgr6uw41W, Thy...  Not Duplicate  \n",
       "\n",
       "[654 rows x 5 columns]"
      ]
     },
     "execution_count": 299,
     "metadata": {},
     "output_type": "execute_result"
    }
   ],
   "source": [
    "tdf['is_duplicate'] = tdf['counts'].apply(duplicate_detect)\n",
    "tdf"
   ]
  },
  {
   "cell_type": "code",
   "execution_count": 300,
   "metadata": {},
   "outputs": [
    {
     "data": {
      "application/vnd.plotly.v1+json": {
       "config": {
        "plotlyServerURL": "https://plot.ly"
       },
       "data": [
        {
         "alignmentgroup": "True",
         "hovertemplate": "joined=%{x}<br>counts=%{y}<extra></extra>",
         "legendgroup": "",
         "marker": {
          "color": "#636efa",
          "pattern": {
           "shape": ""
          }
         },
         "name": "",
         "offsetgroup": "",
         "orientation": "v",
         "showlegend": false,
         "textposition": "auto",
         "type": "bar",
         "x": [
          "ga4gh:VA.j4XnsLZcdzDIYa5pvvXM7t1wn9OITr0L, Melanoma",
          "ga4gh:VA.j4XnsLZcdzDIYa5pvvXM7t1wn9OITr0L, Colorectal Cancer",
          "ga4gh:VA.sMA9h8fzDi0RvweMlxtD0_Oi8B-JZ1V-, Lung Non-small Cell Carcinoma",
          "ga4gh:VA.S41CcMJT2bcd8R4-qXZWH1PoHWNtG2PZ, Lung Non-small Cell Carcinoma",
          "ga4gh:VA.ORvaSNcFK71WOVr_gi2vv6oPCcXgljab, Colorectal Cancer",
          "ga4gh:VA.S41CcMJT2bcd8R4-qXZWH1PoHWNtG2PZ, Non-Small Cell Lung Cancer",
          "ga4gh:VA.sMA9h8fzDi0RvweMlxtD0_Oi8B-JZ1V-, Non-Small Cell Lung Cancer",
          "ga4gh:VA.pfWn9x9oFBRzGda1xXcOrE-BrX0R__N8, Melanoma",
          "ga4gh:VA.j4XnsLZcdzDIYa5pvvXM7t1wn9OITr0L, Papillary Thyroid Carcinoma",
          "ga4gh:VA.S41CcMJT2bcd8R4-qXZWH1PoHWNtG2PZ, Lung Adenocarcinoma",
          "ga4gh:VA.Dy7soaZQU1vH9Eb93xG_pJyhu7xTDDC9, Gastrointestinal Stromal Tumor",
          "ga4gh:VA.cdcXITbBWUXPjy3zPdhs7xjU1yvlkSrj, Colorectal Cancer",
          "ga4gh:VA.5GEqm-zIzvvPheyGb9rlu5DyIueIubXm, Her2-receptor Positive Breast Cancer",
          "ga4gh:VA.AhXGahW4SCTEgBSXlABoqX7N4mWXL-MD, Colorectal Cancer",
          "ga4gh:VA.hl8sXt8vGcWF3EST2vU5SoHuWQ1AO_eO, Acute Myeloid Leukemia",
          "ga4gh:VA.6EFlwRs4Pu_r5mcvJGoE3ro2cURUkrkV, Neuroblastoma",
          "ga4gh:VA.w6K7bKlqZC_cCZOk9W0IBVh4EZrcSv3o, Gastrointestinal Stromal Tumor",
          "ga4gh:VA.D6NzpWXKqBnbcZZrXNSXj4tMUwROKbsQ, Chronic Myelogenous Leukemia",
          "ga4gh:VA.RkoMSdIJCB856OZ4YxjZIjVnVYrXMDy9, Neuroblastoma",
          "ga4gh:VA.c-HAKOqVVkK3lsw2Ksy2EUdza_5KtKfo, Acute Myeloid Leukemia",
          "ga4gh:VA.-dMnJf9oUBfl9De0llc3LqJaGdFzfATK, Her2-receptor Positive Breast Cancer",
          "ga4gh:VA.iU9MfaVkEFMIoh2qhnNMwLd7LN995DAn, Gastrointestinal Stromal Tumor",
          "ga4gh:VA.5GEqm-zIzvvPheyGb9rlu5DyIueIubXm, Colorectal Cancer",
          "ga4gh:VA.E1wQB6h1lFEI_C-SnoqDqeBMakX3IKDR, Her2-receptor Positive Breast Cancer",
          "ga4gh:VA.udBCHwlrf8xNiRy_19bLi-h5LhnZLgCt, Colorectal Cancer",
          "ga4gh:VA.Pj-8TtUrxnONU6dr8wdgKf1oHfI4ved0, Melanoma",
          "ga4gh:VA.hEybNB_CeKflfFhT5AKOU5i1lgZPP-aS, Medullary Thyroid Carcinoma",
          "ga4gh:VA.WCo3uQpMnNSbBMy5pKdSccudXs8ooZw9, Colorectal Cancer",
          "ga4gh:VA.ju5WwTji4SvLPzJqUB7EzSEF2DKtIusY, Breast Cancer",
          "ga4gh:VA.j4XnsLZcdzDIYa5pvvXM7t1wn9OITr0L, Colorectal Adenocarcinoma",
          "ga4gh:VA.lAST62ntkEaXy6RDDOF1V4C3jd-jaAJ5, Acute Myeloid Leukemia",
          "ga4gh:VA.5GEqm-zIzvvPheyGb9rlu5DyIueIubXm, Head And Neck Cancer",
          "ga4gh:VA.2VAvTmPON2L7JffxjE68jAmmmwxyzDpB, Acute Myeloid Leukemia",
          "ga4gh:VA.ABJoQOtfYms_bIW4CVCKShtEmwIiT6WA, Colorectal Cancer",
          "ga4gh:VA.Audz_0Y7aDtAI6drdpRSZBer1Fwl-W38, B-lymphoblastic Leukemia/lymphoma",
          "ga4gh:VA.udBCHwlrf8xNiRy_19bLi-h5LhnZLgCt, Multiple Myeloma",
          "ga4gh:VA.6mOBrBWsfWLavxBwhR3tMyJEW9UNc6fk, Gastrointestinal Stromal Tumor",
          "ga4gh:VA.cdcXITbBWUXPjy3zPdhs7xjU1yvlkSrj, Multiple Myeloma",
          "ga4gh:VA.6_uW58_HmIcOOQshfkvhuGjCSFL5H3fs, Multiple Myeloma",
          "ga4gh:VA.udBCHwlrf8xNiRy_19bLi-h5LhnZLgCt, Lung Non-small Cell Carcinoma",
          "ga4gh:VA.uOzCG-Blg0EEZfX9z2ZxvpGcWp7r2NrI, Spindle Cell Rhabdomyosarcoma",
          "ga4gh:VA.S41CcMJT2bcd8R4-qXZWH1PoHWNtG2PZ, Cancer",
          "ga4gh:VA.5GEqm-zIzvvPheyGb9rlu5DyIueIubXm, Breast Cancer",
          "ga4gh:VA.ZqmNu5AN2PRYFl0K9eBQ_bo2pJAGKSoa, Multiple Myeloma",
          "ga4gh:VA.ZqmNu5AN2PRYFl0K9eBQ_bo2pJAGKSoa, Colorectal Cancer",
          "ga4gh:VA.yHQVVwZjma693Ev6lQtew1axCWVwIi8K, Melanoma",
          "ga4gh:VA.6_uW58_HmIcOOQshfkvhuGjCSFL5H3fs, Colorectal Cancer",
          "ga4gh:VA.e3X8c8KxGdRvkl8YWKRk1o-84nRdiE3u, Melanoma",
          "ga4gh:VA.mecsBfk2t315ZcdZCTD7TTRVezaXskCy, Lung Non-small Cell Carcinoma",
          "ga4gh:VA.m9irj_tUdc3UiH7iFOINzZzHZTCEAyCi, Chronic Myelogenous Leukemia",
          "ga4gh:VA.j4XnsLZcdzDIYa5pvvXM7t1wn9OITr0L, Anaplastic Thyroid Carcinoma",
          "ga4gh:VA.FaMueqbbjnxuzxylH-4jpkaWfp6pLH98, Her2-receptor Positive Breast Cancer",
          "ga4gh:VA.Dy7soaZQU1vH9Eb93xG_pJyhu7xTDDC9, Cancer",
          "ga4gh:VA.FkanRNmwHE0Hf6xRjR2MElkUvP5kPMDC, Melanoma",
          "ga4gh:VA.l7RwuFlchr3Ol0VBFIpnUPA-STxTS1tK, Desmoid Tumor",
          "ga4gh:VA.OEk1XHnNu8vLwLfaJqg5Jwaj_MiyGUO1, Gastrointestinal Stromal Tumor",
          "ga4gh:VA.v-kV7I4CYEDwUUB60OXG1kJDs5jXzAzj, Chronic Myelogenous Leukemia",
          "ga4gh:VA.j4XnsLZcdzDIYa5pvvXM7t1wn9OITr0L, Multiple Myeloma",
          "ga4gh:VA.j4XnsLZcdzDIYa5pvvXM7t1wn9OITr0L, Skin Melanoma",
          "ga4gh:VA.mipQFzApQNp2KyVXcZig8b4uu7kFofIZ, Lung Non-small Cell Carcinoma",
          "ga4gh:VA.CBZduYs_CDVRNed1-vUASXdmVqOn4psT, B-lymphoblastic Leukemia/lymphoma",
          "ga4gh:VA.74tNeU5kbvRxbJbZ4y4HkTh0zV8u18IW, Chronic Myelogenous Leukemia",
          "ga4gh:VA.qm_zti_uhENk10RV6-usf5CEKRGSHbm8, Chronic Myelogenous Leukemia",
          "ga4gh:VA.9_oJ_WaLeKnM_rQB2fNY4PjLweUO9OG_, B-lymphoblastic Leukemia/lymphoma",
          "ga4gh:VA.skyk7EM-V-UuFN--3WwDEBwtwwBedVU8, Lung Adenocarcinoma",
          "ga4gh:VA.j4XnsLZcdzDIYa5pvvXM7t1wn9OITr0L, Non-Small Cell Lung Cancer",
          "ga4gh:VA.nhiDwIq1klrGm3wtWO4a4BiS0jdW79Wd, Systemic Mastocytosis",
          "ga4gh:VA.sMA9h8fzDi0RvweMlxtD0_Oi8B-JZ1V-, Lung Adenocarcinoma",
          "ga4gh:VA.SnGz3wUT2JaIid12PoI6OHc4t7LgHVj1, Chronic Myelogenous Leukemia",
          "ga4gh:VA.AhXGahW4SCTEgBSXlABoqX7N4mWXL-MD, Lung Non-small Cell Carcinoma",
          "ga4gh:VA.DhYFjPzh5PYmi9VVBykABjDGQtda800a, Childhood Acute Lymphocytic Leukemia",
          "ga4gh:VA.B6uOm51_KWfoJlGO61ui7ltRfb4sG092, Chronic Myelogenous Leukemia",
          "ga4gh:VA.CpnlaV2B8565obATF-UlE706sBYp0D6M, Melanoma",
          "ga4gh:VA.qOpu96P5HDO20GB4OF-VhqAS0JmnvnfP, Colorectal Cancer",
          "ga4gh:VA.tCiTYDF8a3se218OG_wWIuDey9b-WSEM, Breast Cancer",
          "ga4gh:VA.fV8iAY2E_DdmWWtXswj2lJ4EP-DOasSU, Acute Myeloid Leukemia",
          "ga4gh:VA.whkYT34c9xLuVqgpE0_pETIIQGkrgb8c, Chronic Myelogenous Leukemia",
          "ga4gh:VA.XT7dH5AXh5XW2u2Ed8z701vo6BA3nhb6, Childhood Acute Lymphocytic Leukemia",
          "ga4gh:VA.wDDVWfpuxnuYkLj5_0OrnaBvrJAXYcJA, Chronic Myelogenous Leukemia",
          "ga4gh:VA.-dMnJf9oUBfl9De0llc3LqJaGdFzfATK, Colorectal Cancer",
          "ga4gh:VA.0sx1Z2siMMnqZhW0BnX4eUz9dUIDLRm-, Cancer",
          "ga4gh:VA.-dMnJf9oUBfl9De0llc3LqJaGdFzfATK, Breast Cancer",
          "ga4gh:VA.37YVc2HpRgXOq3HtsjcL1eiyLhDXLmYy, Chronic Myelogenous Leukemia",
          "ga4gh:VA.57hhvPjBoLmuSxZdcTzEdDEprYZnzznv, Melanoma",
          "ga4gh:VA.ZJZc_8PkTSu-twmaJvj6yQXvPJHElPZc, Chronic Myelogenous Leukemia",
          "ga4gh:VA.xb30dObTCWb854GJXbRM8z6rznkk_EQ4, Childhood Acute Lymphocytic Leukemia",
          "ga4gh:VA.y7kX_U01bDeLnxvbo1BcNTnELH7f_x7V, Chronic Myelogenous Leukemia",
          "ga4gh:VA.mtaqWc-T7XqC5XPm_A4SYUuvHIqotpXM, Breast Cancer",
          "ga4gh:VA.iCbjI9KjbK2qqD4_iZdEOJKe0WC97hdm, Neuroblastoma",
          "ga4gh:VA.Dsrq3AJXo4UQCiCnQCcrb2t551o9Dhv8, Melanoma",
          "ga4gh:VA.nhiDwIq1klrGm3wtWO4a4BiS0jdW79Wd, Cancer",
          "ga4gh:VA.QJwi5Q4L6mZ2ew_sgEb_69Q4k4TKYj8W, Lung Adenocarcinoma",
          "ga4gh:VA.QP0kq1DT5HXfhNPZg7qQUY8zLHQacZ3Y, Melanoma",
          "ga4gh:VA._8jTS8nAvWwPZGOadQuD1o-tbbTQ5g3H, Lung Non-small Cell Carcinoma",
          "ga4gh:VA.E09IUKElemW2uoVRT5qacU7RMqT8Um5m, Invasive Breast Carcinoma",
          "ga4gh:VA.0v5ZnAjs5BLLL0yOTmm5LO5S1f2m8vGa, Chronic Lymphocytic Leukemia",
          "ga4gh:VA.D75b0A02KjrAlqs1Ky2W97lt1vEwOjYj, Lung Non-small Cell Carcinoma",
          "ga4gh:VA.Rq3N-YIvM8zB_XQ0jSfgPNbpZpaXRjtd, Colorectal Cancer",
          "ga4gh:VA.iU9MfaVkEFMIoh2qhnNMwLd7LN995DAn, Acute Myeloid Leukemia",
          "ga4gh:VA.DkV6ap7GeZ4vsV44rvC_J-L8q4zuwFVa, Lung Non-small Cell Carcinoma",
          "ga4gh:VA.1nmpQ8mfBVG4Voq3ORVT9t8aK377PlW1, Colorectal Cancer",
          "ga4gh:VA.Rvyau6sxmcSQcEdvyBDVlK8lw_gF7zGo, Cancer",
          "ga4gh:VA.DcGYwTryaNE4EgROJNB0WM5d-ca9XwRv, Polycythemia Vera",
          "ga4gh:VA.Rvyau6sxmcSQcEdvyBDVlK8lw_gF7zGo, Gastrointestinal Stromal Tumor",
          "ga4gh:VA.RynDzpGjpLKfmAOrN0yrjRyAeIPqV52Q, Basal Cell Carcinoma",
          "ga4gh:VA.D1lo-AavGH7G2GSqbQQ03g-Hnu32monP, Breast Cancer",
          "ga4gh:VA.cdcXITbBWUXPjy3zPdhs7xjU1yvlkSrj, Lung Non-small Cell Carcinoma",
          "ga4gh:VA.1oqOuOD5ZCGIRR0JeMfp5tw2OQoJhI9u, B-lymphoblastic Leukemia/lymphoma",
          "ga4gh:VA.1vqmzx9oQY3ZQlJdLevbulCJQ-7ECOXW, Chronic Myeloid Leukemia",
          "ga4gh:VA.qbbbxC4fGSEGvaT2Q9U8fLShG2YiTZL_, Melanoma",
          "ga4gh:VA.E7ZrplbCiB4iL2-xNPBpjLBgmIxiTCLo, Gastrointestinal Stromal Tumor",
          "ga4gh:VA.E9qBaNvPGa_Tz3Sw-bmM4jRrBPhaZBg3, Skin Melanoma",
          "ga4gh:VA.ypwzIXKQSN5c3GBKfVxbrcLclwYlncGw, B-lymphoblastic Leukemia/lymphoma",
          "ga4gh:VA.B7zZTxypiwSWZpc4LASs-CZL50acW3wA, Colorectal Cancer",
          "ga4gh:VA.j4XnsLZcdzDIYa5pvvXM7t1wn9OITr0L, Non-Langerhans Cell Histiocytosis/Erdheim-Chester Disease",
          "ga4gh:VA.j4XnsLZcdzDIYa5pvvXM7t1wn9OITr0L, Lung Non-small Cell Carcinoma",
          "ga4gh:VA.LbCF-lxUW3hZsI8W_xZ461oRL2KtQd5m, Colorectal Cancer",
          "ga4gh:VA.ju5WwTji4SvLPzJqUB7EzSEF2DKtIusY, Colorectal Cancer",
          "ga4gh:VA.NbmGko5VG3K44V5sy-uVWrQaBdnqJ227, Breast Cancer",
          "ga4gh:VA.ju5WwTji4SvLPzJqUB7EzSEF2DKtIusY, Her2-receptor Positive Breast Cancer",
          "ga4gh:VA.O7RZ2CIwnmP_Qva5ar5MjmbHGbn5SFdr, Acute Myeloid Leukemia",
          "ga4gh:VA.j4XnsLZcdzDIYa5pvvXM7t1wn9OITr0L, Intrahepatic Cholangiocarcinoma",
          "ga4gh:VA.I_Aqtnp7T3OtKjjcXdRisQvKbLULvRN5, Melanoma",
          "ga4gh:VA.j4XnsLZcdzDIYa5pvvXM7t1wn9OITr0L, High-Grade Neuroendocrine Carcinoma of the Colon and Rectum",
          "ga4gh:VA.kupbzxHCTSvq0_M8FY2FpHFtXotNHn4c, Chronic Neutrophilic Leukemia",
          "ga4gh:VA.bj1cRq4Q4RfguopaFrFzvLS5PulXs4FW, Breast Cancer",
          "ga4gh:VA.GfY89Zy-DJcnWtthBcoVV6PyuE4qkP8F, Melanoma",
          "ga4gh:VA.GfY89Zy-DJcnWtthBcoVV6PyuE4qkP8F, Breast Cancer",
          "ga4gh:VA.zLHyefGtMNhvpL3DMtRW69xCqpfZC6_M, B-lymphoblastic Leukemia/lymphoma",
          "ga4gh:VA.j4XnsLZcdzDIYa5pvvXM7t1wn9OITr0L, Cholangiocarcinoma",
          "ga4gh:VA.j4XnsLZcdzDIYa5pvvXM7t1wn9OITr0L, Cancer",
          "ga4gh:VA.lCQZ8ie3k9M8N7wpd4BxHSpFYLKd0fVI, Transitional Cell Carcinoma",
          "ga4gh:VA.zElnUUWNdxH5elaDdhFo8dYA6dVjCZNs, Follicular Lymphoma",
          "ga4gh:VA.-dMnJf9oUBfl9De0llc3LqJaGdFzfATK, Lung Adenocarcinoma",
          "ga4gh:VA.FBKLbUc89HVKHoQ9RzNpkrbQ6ILhOr0B, Gastrointestinal Stromal Tumor",
          "ga4gh:VA.lF6Dqsf1PYowvxUygXI5QU7qLNkggxY9, Skin Melanoma",
          "ga4gh:VA.lSZe19pmSXAaE602TVOL2sZZKGxemTKw, Skin Melanoma",
          "ga4gh:VA.-m5pmbPlV01BMIPZQFlIXMW_nCdvTVst, Lung Non-small Cell Carcinoma",
          "ga4gh:VA.mC7vWmiQEzulnyAK_MWG0upRqiNoiOYI, Gastrointestinal Stromal Tumor",
          "ga4gh:VA.EstQP5mWZWkmgYMkqEJMSnbZ12K88Y3v, Gastrointestinal Stromal Tumor",
          "ga4gh:VA._mWwxxWy_mLBJKwIIDJye1nQWUhVwJhg, Her2-receptor Positive Breast Cancer",
          "ga4gh:VA.xTf07rKdeATMUCgoaqqMgiyLH05Fjh93, Breast Cancer",
          "ga4gh:VA.WCo3uQpMnNSbBMy5pKdSccudXs8ooZw9, Skin Melanoma",
          "ga4gh:VA.6xDH8k26SS1_8Mbtb5BnFgrxXFbW98CF, Colorectal Cancer",
          "ga4gh:VA.5kcc1aPV7AaADQmZRAXyXMqEzU7T6GN2, Breast Cancer",
          "ga4gh:VA.sxRkVIpFlbqKSvNHWdZ_7_TlgbVK9YFC, Skin Melanoma",
          "ga4gh:VA.8wkCi_XxSPbnuf_zYV1_SCcZ_pXVziQd, Melanoma",
          "ga4gh:VA.Wrm9skoOKiwrwqeWd546r-UHPjgSi-B2, Colorectal Cancer",
          "ga4gh:VA.wQWDgRZT2eIRW7jXFeqKtSd8dgRgD76s, Medulloblastoma",
          "ga4gh:VA.vnNC2eUkgsxGtqfaEngyGWP5nddYxYFN, Colorectal Cancer",
          "ga4gh:VA.4hfGvwsO6MSx7QZOah2F7tcDOihO-sS6, Breast Cancer",
          "ga4gh:VA.fUigsKWm_wJ8g6p6Yz9RKFH_KIiHo4cU, Melanoma",
          "ga4gh:VA.uBwLZ5VRi7kD4O1yEvezXKYrJ3ZaegK9, Skin Melanoma",
          "ga4gh:VA.g1Zv9RlyZLRqT-9pmYzVlvHW9cOA-dJC, Breast Cancer",
          "ga4gh:VA.A8crPBRvgFrkcWWnszjqT26E08kr0wV0, Invasive Breast Carcinoma",
          "ga4gh:VA.5l2AjkQ3hd6bw5jqHhZQVQOdsA420wot, Gastrointestinal Stromal Tumor",
          "ga4gh:VA.AUt1LfMnlD15ef90MMjgNVJ9nIHzuHWj, B-lymphoblastic Leukemia/lymphoma",
          "ga4gh:VA.TwNAdfRFFH6azC7fV2z0iuvwDt71EMoa, B-lymphoblastic Leukemia/lymphoma",
          "ga4gh:VA.Y9mKthEVkm79HwYoILX-1qoSKXyaV6p3, Breast Cancer",
          "ga4gh:VA.vY6oJXOf61VANk2F6uClrHZnmlfiMwb5, Breast Cancer",
          "ga4gh:VA.Sh3JZ5sdDFIQwr6fF6ydC5yRu1PZ6uTE, Breast Cancer",
          "ga4gh:VA.3ybIkH_QhR6C7QmnTeD2-P6U1Pu7M__0, Breast Cancer",
          "ga4gh:VA.79Wi00GyVrG9yn0JmHTK4Ensc-XVgd2G, Breast Cancer",
          "ga4gh:VA.Yg3Z9RU0BaaPa6KkoQDUrQqSQoVrDxEd, Gastrointestinal Stromal Tumor",
          "ga4gh:VA.v5Jc64GQjTPVlsjiINmmlWmNRFfDDnoO, Cholangiocarcinoma",
          "ga4gh:VA.d-Kmz2h-KL5RB7PbcizjOTz8crmA9lEk, Lung Non-small Cell Carcinoma",
          "ga4gh:VA.WCo3uQpMnNSbBMy5pKdSccudXs8ooZw9, Cancer",
          "ga4gh:VA.t8CxWZxFJbfWnqruBINaDXruSd6aNKZH, Colorectal Cancer",
          "ga4gh:VA.2VAvTmPON2L7JffxjE68jAmmmwxyzDpB, Oligodendroglioma",
          "ga4gh:VA.udBCHwlrf8xNiRy_19bLi-h5LhnZLgCt, Non-Small Cell Lung Cancer",
          "ga4gh:VA.YqiDFzE2K6fcXhXkCGYHIQ75RgutPq_7, Acute Myeloid Leukemia"
         ],
         "xaxis": "x",
         "y": [
          35,
          33,
          25,
          22,
          13,
          12,
          12,
          11,
          11,
          9,
          9,
          8,
          8,
          7,
          7,
          7,
          6,
          6,
          6,
          6,
          6,
          5,
          5,
          5,
          5,
          5,
          5,
          5,
          5,
          5,
          5,
          4,
          4,
          4,
          4,
          4,
          4,
          4,
          4,
          4,
          4,
          4,
          4,
          4,
          4,
          4,
          3,
          3,
          3,
          3,
          3,
          3,
          3,
          3,
          3,
          3,
          3,
          3,
          3,
          3,
          3,
          3,
          3,
          3,
          3,
          3,
          3,
          3,
          3,
          3,
          3,
          3,
          3,
          3,
          3,
          3,
          3,
          3,
          3,
          3,
          3,
          3,
          3,
          3,
          3,
          3,
          3,
          2,
          2,
          2,
          2,
          2,
          2,
          2,
          2,
          2,
          2,
          2,
          2,
          2,
          2,
          2,
          2,
          2,
          2,
          2,
          2,
          2,
          2,
          2,
          2,
          2,
          2,
          2,
          2,
          2,
          2,
          2,
          2,
          2,
          2,
          2,
          2,
          2,
          2,
          2,
          2,
          2,
          2,
          2,
          2,
          2,
          2,
          2,
          2,
          2,
          2,
          2,
          2,
          2,
          2,
          2,
          2,
          2,
          2,
          2,
          2,
          2,
          2,
          2,
          2,
          2,
          2,
          2,
          2,
          2,
          2,
          2,
          2,
          2,
          2,
          2,
          2,
          2,
          2,
          2,
          2,
          2,
          2,
          2,
          2
         ],
         "yaxis": "y"
        }
       ],
       "layout": {
        "bargap": 0.2,
        "barmode": "relative",
        "legend": {
         "tracegroupgap": 0
        },
        "template": {
         "data": {
          "bar": [
           {
            "error_x": {
             "color": "#2a3f5f"
            },
            "error_y": {
             "color": "#2a3f5f"
            },
            "marker": {
             "line": {
              "color": "#E5ECF6",
              "width": 0.5
             },
             "pattern": {
              "fillmode": "overlay",
              "size": 10,
              "solidity": 0.2
             }
            },
            "type": "bar"
           }
          ],
          "barpolar": [
           {
            "marker": {
             "line": {
              "color": "#E5ECF6",
              "width": 0.5
             },
             "pattern": {
              "fillmode": "overlay",
              "size": 10,
              "solidity": 0.2
             }
            },
            "type": "barpolar"
           }
          ],
          "carpet": [
           {
            "aaxis": {
             "endlinecolor": "#2a3f5f",
             "gridcolor": "white",
             "linecolor": "white",
             "minorgridcolor": "white",
             "startlinecolor": "#2a3f5f"
            },
            "baxis": {
             "endlinecolor": "#2a3f5f",
             "gridcolor": "white",
             "linecolor": "white",
             "minorgridcolor": "white",
             "startlinecolor": "#2a3f5f"
            },
            "type": "carpet"
           }
          ],
          "choropleth": [
           {
            "colorbar": {
             "outlinewidth": 0,
             "ticks": ""
            },
            "type": "choropleth"
           }
          ],
          "contour": [
           {
            "colorbar": {
             "outlinewidth": 0,
             "ticks": ""
            },
            "colorscale": [
             [
              0,
              "#0d0887"
             ],
             [
              0.1111111111111111,
              "#46039f"
             ],
             [
              0.2222222222222222,
              "#7201a8"
             ],
             [
              0.3333333333333333,
              "#9c179e"
             ],
             [
              0.4444444444444444,
              "#bd3786"
             ],
             [
              0.5555555555555556,
              "#d8576b"
             ],
             [
              0.6666666666666666,
              "#ed7953"
             ],
             [
              0.7777777777777778,
              "#fb9f3a"
             ],
             [
              0.8888888888888888,
              "#fdca26"
             ],
             [
              1,
              "#f0f921"
             ]
            ],
            "type": "contour"
           }
          ],
          "contourcarpet": [
           {
            "colorbar": {
             "outlinewidth": 0,
             "ticks": ""
            },
            "type": "contourcarpet"
           }
          ],
          "heatmap": [
           {
            "colorbar": {
             "outlinewidth": 0,
             "ticks": ""
            },
            "colorscale": [
             [
              0,
              "#0d0887"
             ],
             [
              0.1111111111111111,
              "#46039f"
             ],
             [
              0.2222222222222222,
              "#7201a8"
             ],
             [
              0.3333333333333333,
              "#9c179e"
             ],
             [
              0.4444444444444444,
              "#bd3786"
             ],
             [
              0.5555555555555556,
              "#d8576b"
             ],
             [
              0.6666666666666666,
              "#ed7953"
             ],
             [
              0.7777777777777778,
              "#fb9f3a"
             ],
             [
              0.8888888888888888,
              "#fdca26"
             ],
             [
              1,
              "#f0f921"
             ]
            ],
            "type": "heatmap"
           }
          ],
          "heatmapgl": [
           {
            "colorbar": {
             "outlinewidth": 0,
             "ticks": ""
            },
            "colorscale": [
             [
              0,
              "#0d0887"
             ],
             [
              0.1111111111111111,
              "#46039f"
             ],
             [
              0.2222222222222222,
              "#7201a8"
             ],
             [
              0.3333333333333333,
              "#9c179e"
             ],
             [
              0.4444444444444444,
              "#bd3786"
             ],
             [
              0.5555555555555556,
              "#d8576b"
             ],
             [
              0.6666666666666666,
              "#ed7953"
             ],
             [
              0.7777777777777778,
              "#fb9f3a"
             ],
             [
              0.8888888888888888,
              "#fdca26"
             ],
             [
              1,
              "#f0f921"
             ]
            ],
            "type": "heatmapgl"
           }
          ],
          "histogram": [
           {
            "marker": {
             "pattern": {
              "fillmode": "overlay",
              "size": 10,
              "solidity": 0.2
             }
            },
            "type": "histogram"
           }
          ],
          "histogram2d": [
           {
            "colorbar": {
             "outlinewidth": 0,
             "ticks": ""
            },
            "colorscale": [
             [
              0,
              "#0d0887"
             ],
             [
              0.1111111111111111,
              "#46039f"
             ],
             [
              0.2222222222222222,
              "#7201a8"
             ],
             [
              0.3333333333333333,
              "#9c179e"
             ],
             [
              0.4444444444444444,
              "#bd3786"
             ],
             [
              0.5555555555555556,
              "#d8576b"
             ],
             [
              0.6666666666666666,
              "#ed7953"
             ],
             [
              0.7777777777777778,
              "#fb9f3a"
             ],
             [
              0.8888888888888888,
              "#fdca26"
             ],
             [
              1,
              "#f0f921"
             ]
            ],
            "type": "histogram2d"
           }
          ],
          "histogram2dcontour": [
           {
            "colorbar": {
             "outlinewidth": 0,
             "ticks": ""
            },
            "colorscale": [
             [
              0,
              "#0d0887"
             ],
             [
              0.1111111111111111,
              "#46039f"
             ],
             [
              0.2222222222222222,
              "#7201a8"
             ],
             [
              0.3333333333333333,
              "#9c179e"
             ],
             [
              0.4444444444444444,
              "#bd3786"
             ],
             [
              0.5555555555555556,
              "#d8576b"
             ],
             [
              0.6666666666666666,
              "#ed7953"
             ],
             [
              0.7777777777777778,
              "#fb9f3a"
             ],
             [
              0.8888888888888888,
              "#fdca26"
             ],
             [
              1,
              "#f0f921"
             ]
            ],
            "type": "histogram2dcontour"
           }
          ],
          "mesh3d": [
           {
            "colorbar": {
             "outlinewidth": 0,
             "ticks": ""
            },
            "type": "mesh3d"
           }
          ],
          "parcoords": [
           {
            "line": {
             "colorbar": {
              "outlinewidth": 0,
              "ticks": ""
             }
            },
            "type": "parcoords"
           }
          ],
          "pie": [
           {
            "automargin": true,
            "type": "pie"
           }
          ],
          "scatter": [
           {
            "fillpattern": {
             "fillmode": "overlay",
             "size": 10,
             "solidity": 0.2
            },
            "type": "scatter"
           }
          ],
          "scatter3d": [
           {
            "line": {
             "colorbar": {
              "outlinewidth": 0,
              "ticks": ""
             }
            },
            "marker": {
             "colorbar": {
              "outlinewidth": 0,
              "ticks": ""
             }
            },
            "type": "scatter3d"
           }
          ],
          "scattercarpet": [
           {
            "marker": {
             "colorbar": {
              "outlinewidth": 0,
              "ticks": ""
             }
            },
            "type": "scattercarpet"
           }
          ],
          "scattergeo": [
           {
            "marker": {
             "colorbar": {
              "outlinewidth": 0,
              "ticks": ""
             }
            },
            "type": "scattergeo"
           }
          ],
          "scattergl": [
           {
            "marker": {
             "colorbar": {
              "outlinewidth": 0,
              "ticks": ""
             }
            },
            "type": "scattergl"
           }
          ],
          "scattermapbox": [
           {
            "marker": {
             "colorbar": {
              "outlinewidth": 0,
              "ticks": ""
             }
            },
            "type": "scattermapbox"
           }
          ],
          "scatterpolar": [
           {
            "marker": {
             "colorbar": {
              "outlinewidth": 0,
              "ticks": ""
             }
            },
            "type": "scatterpolar"
           }
          ],
          "scatterpolargl": [
           {
            "marker": {
             "colorbar": {
              "outlinewidth": 0,
              "ticks": ""
             }
            },
            "type": "scatterpolargl"
           }
          ],
          "scatterternary": [
           {
            "marker": {
             "colorbar": {
              "outlinewidth": 0,
              "ticks": ""
             }
            },
            "type": "scatterternary"
           }
          ],
          "surface": [
           {
            "colorbar": {
             "outlinewidth": 0,
             "ticks": ""
            },
            "colorscale": [
             [
              0,
              "#0d0887"
             ],
             [
              0.1111111111111111,
              "#46039f"
             ],
             [
              0.2222222222222222,
              "#7201a8"
             ],
             [
              0.3333333333333333,
              "#9c179e"
             ],
             [
              0.4444444444444444,
              "#bd3786"
             ],
             [
              0.5555555555555556,
              "#d8576b"
             ],
             [
              0.6666666666666666,
              "#ed7953"
             ],
             [
              0.7777777777777778,
              "#fb9f3a"
             ],
             [
              0.8888888888888888,
              "#fdca26"
             ],
             [
              1,
              "#f0f921"
             ]
            ],
            "type": "surface"
           }
          ],
          "table": [
           {
            "cells": {
             "fill": {
              "color": "#EBF0F8"
             },
             "line": {
              "color": "white"
             }
            },
            "header": {
             "fill": {
              "color": "#C8D4E3"
             },
             "line": {
              "color": "white"
             }
            },
            "type": "table"
           }
          ]
         },
         "layout": {
          "annotationdefaults": {
           "arrowcolor": "#2a3f5f",
           "arrowhead": 0,
           "arrowwidth": 1
          },
          "autotypenumbers": "strict",
          "coloraxis": {
           "colorbar": {
            "outlinewidth": 0,
            "ticks": ""
           }
          },
          "colorscale": {
           "diverging": [
            [
             0,
             "#8e0152"
            ],
            [
             0.1,
             "#c51b7d"
            ],
            [
             0.2,
             "#de77ae"
            ],
            [
             0.3,
             "#f1b6da"
            ],
            [
             0.4,
             "#fde0ef"
            ],
            [
             0.5,
             "#f7f7f7"
            ],
            [
             0.6,
             "#e6f5d0"
            ],
            [
             0.7,
             "#b8e186"
            ],
            [
             0.8,
             "#7fbc41"
            ],
            [
             0.9,
             "#4d9221"
            ],
            [
             1,
             "#276419"
            ]
           ],
           "sequential": [
            [
             0,
             "#0d0887"
            ],
            [
             0.1111111111111111,
             "#46039f"
            ],
            [
             0.2222222222222222,
             "#7201a8"
            ],
            [
             0.3333333333333333,
             "#9c179e"
            ],
            [
             0.4444444444444444,
             "#bd3786"
            ],
            [
             0.5555555555555556,
             "#d8576b"
            ],
            [
             0.6666666666666666,
             "#ed7953"
            ],
            [
             0.7777777777777778,
             "#fb9f3a"
            ],
            [
             0.8888888888888888,
             "#fdca26"
            ],
            [
             1,
             "#f0f921"
            ]
           ],
           "sequentialminus": [
            [
             0,
             "#0d0887"
            ],
            [
             0.1111111111111111,
             "#46039f"
            ],
            [
             0.2222222222222222,
             "#7201a8"
            ],
            [
             0.3333333333333333,
             "#9c179e"
            ],
            [
             0.4444444444444444,
             "#bd3786"
            ],
            [
             0.5555555555555556,
             "#d8576b"
            ],
            [
             0.6666666666666666,
             "#ed7953"
            ],
            [
             0.7777777777777778,
             "#fb9f3a"
            ],
            [
             0.8888888888888888,
             "#fdca26"
            ],
            [
             1,
             "#f0f921"
            ]
           ]
          },
          "colorway": [
           "#636efa",
           "#EF553B",
           "#00cc96",
           "#ab63fa",
           "#FFA15A",
           "#19d3f3",
           "#FF6692",
           "#B6E880",
           "#FF97FF",
           "#FECB52"
          ],
          "font": {
           "color": "#2a3f5f"
          },
          "geo": {
           "bgcolor": "white",
           "lakecolor": "white",
           "landcolor": "#E5ECF6",
           "showlakes": true,
           "showland": true,
           "subunitcolor": "white"
          },
          "hoverlabel": {
           "align": "left"
          },
          "hovermode": "closest",
          "mapbox": {
           "style": "light"
          },
          "paper_bgcolor": "white",
          "plot_bgcolor": "#E5ECF6",
          "polar": {
           "angularaxis": {
            "gridcolor": "white",
            "linecolor": "white",
            "ticks": ""
           },
           "bgcolor": "#E5ECF6",
           "radialaxis": {
            "gridcolor": "white",
            "linecolor": "white",
            "ticks": ""
           }
          },
          "scene": {
           "xaxis": {
            "backgroundcolor": "#E5ECF6",
            "gridcolor": "white",
            "gridwidth": 2,
            "linecolor": "white",
            "showbackground": true,
            "ticks": "",
            "zerolinecolor": "white"
           },
           "yaxis": {
            "backgroundcolor": "#E5ECF6",
            "gridcolor": "white",
            "gridwidth": 2,
            "linecolor": "white",
            "showbackground": true,
            "ticks": "",
            "zerolinecolor": "white"
           },
           "zaxis": {
            "backgroundcolor": "#E5ECF6",
            "gridcolor": "white",
            "gridwidth": 2,
            "linecolor": "white",
            "showbackground": true,
            "ticks": "",
            "zerolinecolor": "white"
           }
          },
          "shapedefaults": {
           "line": {
            "color": "#2a3f5f"
           }
          },
          "ternary": {
           "aaxis": {
            "gridcolor": "white",
            "linecolor": "white",
            "ticks": ""
           },
           "baxis": {
            "gridcolor": "white",
            "linecolor": "white",
            "ticks": ""
           },
           "bgcolor": "#E5ECF6",
           "caxis": {
            "gridcolor": "white",
            "linecolor": "white",
            "ticks": ""
           }
          },
          "title": {
           "x": 0.05
          },
          "xaxis": {
           "automargin": true,
           "gridcolor": "white",
           "linecolor": "white",
           "ticks": "",
           "title": {
            "standoff": 15
           },
           "zerolinecolor": "white",
           "zerolinewidth": 2
          },
          "yaxis": {
           "automargin": true,
           "gridcolor": "white",
           "linecolor": "white",
           "ticks": "",
           "title": {
            "standoff": 15
           },
           "zerolinecolor": "white",
           "zerolinewidth": 2
          }
         }
        },
        "title": {
         "text": "Overlap of Variant/Disease Evidence in MetaKB v2"
        },
        "xaxis": {
         "anchor": "y",
         "domain": [
          0,
          1
         ],
         "tickfont": {
          "size": 4
         },
         "title": {
          "text": "Variant/Disease Aggregated Evidence"
         }
        },
        "yaxis": {
         "anchor": "x",
         "domain": [
          0,
          1
         ],
         "title": {
          "font": {
           "size": 12
          },
          "text": "# of Study Statements containing Variant/Disease"
         }
        }
       }
      }
     },
     "metadata": {},
     "output_type": "display_data"
    }
   ],
   "source": [
    "# Bar Graph of Evidence Overlap\n",
    "fig = px.bar(tdf[0:171], x='joined', y='counts', title='Overlap of Variant/Disease Evidence in MetaKB v2')\n",
    "fig.update_layout(yaxis_title='# of Study Statements containing Variant/Disease',\n",
    "                  xaxis_title='Variant/Disease Aggregated Evidence',\n",
    "                  xaxis=dict(tickfont=dict(size=4)),\n",
    "                  yaxis_title_font=dict(size=12),\n",
    "                  bargap=0.2)\n",
    "fig.show()\n",
    "pio.write_image(fig, \"Variant_Disease_aggregation_overlap_bar.png\", format='png', width=1500, height=500, scale=5)\n"
   ]
  },
  {
   "cell_type": "code",
   "execution_count": 301,
   "metadata": {},
   "outputs": [
    {
     "data": {
      "application/vnd.plotly.v1+json": {
       "config": {
        "plotlyServerURL": "https://plot.ly"
       },
       "data": [
        {
         "domain": {
          "x": [
           0,
           1
          ],
          "y": [
           0,
           1
          ]
         },
         "hovertemplate": "is_duplicate=%{label}<br>counts=%{value}<extra></extra>",
         "labels": [
          "Duplicate",
          "Duplicate",
          "Duplicate",
          "Duplicate",
          "Duplicate",
          "Duplicate",
          "Duplicate",
          "Duplicate",
          "Duplicate",
          "Duplicate",
          "Duplicate",
          "Duplicate",
          "Duplicate",
          "Duplicate",
          "Duplicate",
          "Duplicate",
          "Duplicate",
          "Duplicate",
          "Duplicate",
          "Duplicate",
          "Duplicate",
          "Duplicate",
          "Duplicate",
          "Duplicate",
          "Duplicate",
          "Duplicate",
          "Duplicate",
          "Duplicate",
          "Duplicate",
          "Duplicate",
          "Duplicate",
          "Duplicate",
          "Duplicate",
          "Duplicate",
          "Duplicate",
          "Duplicate",
          "Duplicate",
          "Duplicate",
          "Duplicate",
          "Duplicate",
          "Duplicate",
          "Duplicate",
          "Duplicate",
          "Duplicate",
          "Duplicate",
          "Duplicate",
          "Duplicate",
          "Duplicate",
          "Duplicate",
          "Duplicate",
          "Duplicate",
          "Duplicate",
          "Duplicate",
          "Duplicate",
          "Duplicate",
          "Duplicate",
          "Duplicate",
          "Duplicate",
          "Duplicate",
          "Duplicate",
          "Duplicate",
          "Duplicate",
          "Duplicate",
          "Duplicate",
          "Duplicate",
          "Duplicate",
          "Duplicate",
          "Duplicate",
          "Duplicate",
          "Duplicate",
          "Duplicate",
          "Duplicate",
          "Duplicate",
          "Duplicate",
          "Duplicate",
          "Duplicate",
          "Duplicate",
          "Duplicate",
          "Duplicate",
          "Duplicate",
          "Duplicate",
          "Duplicate",
          "Duplicate",
          "Duplicate",
          "Duplicate",
          "Duplicate",
          "Duplicate",
          "Duplicate",
          "Duplicate",
          "Duplicate",
          "Duplicate",
          "Duplicate",
          "Duplicate",
          "Duplicate",
          "Duplicate",
          "Duplicate",
          "Duplicate",
          "Duplicate",
          "Duplicate",
          "Duplicate",
          "Duplicate",
          "Duplicate",
          "Duplicate",
          "Duplicate",
          "Duplicate",
          "Duplicate",
          "Duplicate",
          "Duplicate",
          "Duplicate",
          "Duplicate",
          "Duplicate",
          "Duplicate",
          "Duplicate",
          "Duplicate",
          "Duplicate",
          "Duplicate",
          "Duplicate",
          "Duplicate",
          "Duplicate",
          "Duplicate",
          "Duplicate",
          "Duplicate",
          "Duplicate",
          "Duplicate",
          "Duplicate",
          "Duplicate",
          "Duplicate",
          "Duplicate",
          "Duplicate",
          "Duplicate",
          "Duplicate",
          "Duplicate",
          "Duplicate",
          "Duplicate",
          "Duplicate",
          "Duplicate",
          "Duplicate",
          "Duplicate",
          "Duplicate",
          "Duplicate",
          "Duplicate",
          "Duplicate",
          "Duplicate",
          "Duplicate",
          "Duplicate",
          "Duplicate",
          "Duplicate",
          "Duplicate",
          "Duplicate",
          "Duplicate",
          "Duplicate",
          "Duplicate",
          "Duplicate",
          "Duplicate",
          "Duplicate",
          "Duplicate",
          "Duplicate",
          "Duplicate",
          "Duplicate",
          "Duplicate",
          "Duplicate",
          "Duplicate",
          "Duplicate",
          "Duplicate",
          "Duplicate",
          "Duplicate",
          "Duplicate",
          "Duplicate",
          "Duplicate",
          "Duplicate",
          "Duplicate",
          "Not Duplicate",
          "Not Duplicate",
          "Not Duplicate",
          "Not Duplicate",
          "Not Duplicate",
          "Not Duplicate",
          "Not Duplicate",
          "Not Duplicate",
          "Not Duplicate",
          "Not Duplicate",
          "Not Duplicate",
          "Not Duplicate",
          "Not Duplicate",
          "Not Duplicate",
          "Not Duplicate",
          "Not Duplicate",
          "Not Duplicate",
          "Not Duplicate",
          "Not Duplicate",
          "Not Duplicate",
          "Not Duplicate",
          "Not Duplicate",
          "Not Duplicate",
          "Not Duplicate",
          "Not Duplicate",
          "Not Duplicate",
          "Not Duplicate",
          "Not Duplicate",
          "Not Duplicate",
          "Not Duplicate",
          "Not Duplicate",
          "Not Duplicate",
          "Not Duplicate",
          "Not Duplicate",
          "Not Duplicate",
          "Not Duplicate",
          "Not Duplicate",
          "Not Duplicate",
          "Not Duplicate",
          "Not Duplicate",
          "Not Duplicate",
          "Not Duplicate",
          "Not Duplicate",
          "Not Duplicate",
          "Not Duplicate",
          "Not Duplicate",
          "Not Duplicate",
          "Not Duplicate",
          "Not Duplicate",
          "Not Duplicate",
          "Not Duplicate",
          "Not Duplicate",
          "Not Duplicate",
          "Not Duplicate",
          "Not Duplicate",
          "Not Duplicate",
          "Not Duplicate",
          "Not Duplicate",
          "Not Duplicate",
          "Not Duplicate",
          "Not Duplicate",
          "Not Duplicate",
          "Not Duplicate",
          "Not Duplicate",
          "Not Duplicate",
          "Not Duplicate",
          "Not Duplicate",
          "Not Duplicate",
          "Not Duplicate",
          "Not Duplicate",
          "Not Duplicate",
          "Not Duplicate",
          "Not Duplicate",
          "Not Duplicate",
          "Not Duplicate",
          "Not Duplicate",
          "Not Duplicate",
          "Not Duplicate",
          "Not Duplicate",
          "Not Duplicate",
          "Not Duplicate",
          "Not Duplicate",
          "Not Duplicate",
          "Not Duplicate",
          "Not Duplicate",
          "Not Duplicate",
          "Not Duplicate",
          "Not Duplicate",
          "Not Duplicate",
          "Not Duplicate",
          "Not Duplicate",
          "Not Duplicate",
          "Not Duplicate",
          "Not Duplicate",
          "Not Duplicate",
          "Not Duplicate",
          "Not Duplicate",
          "Not Duplicate",
          "Not Duplicate",
          "Not Duplicate",
          "Not Duplicate",
          "Not Duplicate",
          "Not Duplicate",
          "Not Duplicate",
          "Not Duplicate",
          "Not Duplicate",
          "Not Duplicate",
          "Not Duplicate",
          "Not Duplicate",
          "Not Duplicate",
          "Not Duplicate",
          "Not Duplicate",
          "Not Duplicate",
          "Not Duplicate",
          "Not Duplicate",
          "Not Duplicate",
          "Not Duplicate",
          "Not Duplicate",
          "Not Duplicate",
          "Not Duplicate",
          "Not Duplicate",
          "Not Duplicate",
          "Not Duplicate",
          "Not Duplicate",
          "Not Duplicate",
          "Not Duplicate",
          "Not Duplicate",
          "Not Duplicate",
          "Not Duplicate",
          "Not Duplicate",
          "Not Duplicate",
          "Not Duplicate",
          "Not Duplicate",
          "Not Duplicate",
          "Not Duplicate",
          "Not Duplicate",
          "Not Duplicate",
          "Not Duplicate",
          "Not Duplicate",
          "Not Duplicate",
          "Not Duplicate",
          "Not Duplicate",
          "Not Duplicate",
          "Not Duplicate",
          "Not Duplicate",
          "Not Duplicate",
          "Not Duplicate",
          "Not Duplicate",
          "Not Duplicate",
          "Not Duplicate",
          "Not Duplicate",
          "Not Duplicate",
          "Not Duplicate",
          "Not Duplicate",
          "Not Duplicate",
          "Not Duplicate",
          "Not Duplicate",
          "Not Duplicate",
          "Not Duplicate",
          "Not Duplicate",
          "Not Duplicate",
          "Not Duplicate",
          "Not Duplicate",
          "Not Duplicate",
          "Not Duplicate",
          "Not Duplicate",
          "Not Duplicate",
          "Not Duplicate",
          "Not Duplicate",
          "Not Duplicate",
          "Not Duplicate",
          "Not Duplicate",
          "Not Duplicate",
          "Not Duplicate",
          "Not Duplicate",
          "Not Duplicate",
          "Not Duplicate",
          "Not Duplicate",
          "Not Duplicate",
          "Not Duplicate",
          "Not Duplicate",
          "Not Duplicate",
          "Not Duplicate",
          "Not Duplicate",
          "Not Duplicate",
          "Not Duplicate",
          "Not Duplicate",
          "Not Duplicate",
          "Not Duplicate",
          "Not Duplicate",
          "Not Duplicate",
          "Not Duplicate",
          "Not Duplicate",
          "Not Duplicate",
          "Not Duplicate",
          "Not Duplicate",
          "Not Duplicate",
          "Not Duplicate",
          "Not Duplicate",
          "Not Duplicate",
          "Not Duplicate",
          "Not Duplicate",
          "Not Duplicate",
          "Not Duplicate",
          "Not Duplicate",
          "Not Duplicate",
          "Not Duplicate",
          "Not Duplicate",
          "Not Duplicate",
          "Not Duplicate",
          "Not Duplicate",
          "Not Duplicate",
          "Not Duplicate",
          "Not Duplicate",
          "Not Duplicate",
          "Not Duplicate",
          "Not Duplicate",
          "Not Duplicate",
          "Not Duplicate",
          "Not Duplicate",
          "Not Duplicate",
          "Not Duplicate",
          "Not Duplicate",
          "Not Duplicate",
          "Not Duplicate",
          "Not Duplicate",
          "Not Duplicate",
          "Not Duplicate",
          "Not Duplicate",
          "Not Duplicate",
          "Not Duplicate",
          "Not Duplicate",
          "Not Duplicate",
          "Not Duplicate",
          "Not Duplicate",
          "Not Duplicate",
          "Not Duplicate",
          "Not Duplicate",
          "Not Duplicate",
          "Not Duplicate",
          "Not Duplicate",
          "Not Duplicate",
          "Not Duplicate",
          "Not Duplicate",
          "Not Duplicate",
          "Not Duplicate",
          "Not Duplicate",
          "Not Duplicate",
          "Not Duplicate",
          "Not Duplicate",
          "Not Duplicate",
          "Not Duplicate",
          "Not Duplicate",
          "Not Duplicate",
          "Not Duplicate",
          "Not Duplicate",
          "Not Duplicate",
          "Not Duplicate",
          "Not Duplicate",
          "Not Duplicate",
          "Not Duplicate",
          "Not Duplicate",
          "Not Duplicate",
          "Not Duplicate",
          "Not Duplicate",
          "Not Duplicate",
          "Not Duplicate",
          "Not Duplicate",
          "Not Duplicate",
          "Not Duplicate",
          "Not Duplicate",
          "Not Duplicate",
          "Not Duplicate",
          "Not Duplicate",
          "Not Duplicate",
          "Not Duplicate",
          "Not Duplicate",
          "Not Duplicate",
          "Not Duplicate",
          "Not Duplicate",
          "Not Duplicate",
          "Not Duplicate",
          "Not Duplicate",
          "Not Duplicate",
          "Not Duplicate",
          "Not Duplicate",
          "Not Duplicate",
          "Not Duplicate",
          "Not Duplicate",
          "Not Duplicate",
          "Not Duplicate",
          "Not Duplicate",
          "Not Duplicate",
          "Not Duplicate",
          "Not Duplicate",
          "Not Duplicate",
          "Not Duplicate",
          "Not Duplicate",
          "Not Duplicate",
          "Not Duplicate",
          "Not Duplicate",
          "Not Duplicate",
          "Not Duplicate",
          "Not Duplicate",
          "Not Duplicate",
          "Not Duplicate",
          "Not Duplicate",
          "Not Duplicate",
          "Not Duplicate",
          "Not Duplicate",
          "Not Duplicate",
          "Not Duplicate",
          "Not Duplicate",
          "Not Duplicate",
          "Not Duplicate",
          "Not Duplicate",
          "Not Duplicate",
          "Not Duplicate",
          "Not Duplicate",
          "Not Duplicate",
          "Not Duplicate",
          "Not Duplicate",
          "Not Duplicate",
          "Not Duplicate",
          "Not Duplicate",
          "Not Duplicate",
          "Not Duplicate",
          "Not Duplicate",
          "Not Duplicate",
          "Not Duplicate",
          "Not Duplicate",
          "Not Duplicate",
          "Not Duplicate",
          "Not Duplicate",
          "Not Duplicate",
          "Not Duplicate",
          "Not Duplicate",
          "Not Duplicate",
          "Not Duplicate",
          "Not Duplicate",
          "Not Duplicate",
          "Not Duplicate",
          "Not Duplicate",
          "Not Duplicate",
          "Not Duplicate",
          "Not Duplicate",
          "Not Duplicate",
          "Not Duplicate",
          "Not Duplicate",
          "Not Duplicate",
          "Not Duplicate",
          "Not Duplicate",
          "Not Duplicate",
          "Not Duplicate",
          "Not Duplicate",
          "Not Duplicate",
          "Not Duplicate",
          "Not Duplicate",
          "Not Duplicate",
          "Not Duplicate",
          "Not Duplicate",
          "Not Duplicate",
          "Not Duplicate",
          "Not Duplicate",
          "Not Duplicate",
          "Not Duplicate",
          "Not Duplicate",
          "Not Duplicate",
          "Not Duplicate",
          "Not Duplicate",
          "Not Duplicate",
          "Not Duplicate",
          "Not Duplicate",
          "Not Duplicate",
          "Not Duplicate",
          "Not Duplicate",
          "Not Duplicate",
          "Not Duplicate",
          "Not Duplicate",
          "Not Duplicate",
          "Not Duplicate",
          "Not Duplicate",
          "Not Duplicate",
          "Not Duplicate",
          "Not Duplicate",
          "Not Duplicate",
          "Not Duplicate",
          "Not Duplicate",
          "Not Duplicate",
          "Not Duplicate",
          "Not Duplicate",
          "Not Duplicate",
          "Not Duplicate",
          "Not Duplicate",
          "Not Duplicate",
          "Not Duplicate",
          "Not Duplicate",
          "Not Duplicate",
          "Not Duplicate",
          "Not Duplicate",
          "Not Duplicate",
          "Not Duplicate",
          "Not Duplicate",
          "Not Duplicate",
          "Not Duplicate",
          "Not Duplicate",
          "Not Duplicate",
          "Not Duplicate",
          "Not Duplicate",
          "Not Duplicate",
          "Not Duplicate",
          "Not Duplicate",
          "Not Duplicate",
          "Not Duplicate",
          "Not Duplicate",
          "Not Duplicate",
          "Not Duplicate",
          "Not Duplicate",
          "Not Duplicate",
          "Not Duplicate",
          "Not Duplicate",
          "Not Duplicate",
          "Not Duplicate",
          "Not Duplicate",
          "Not Duplicate",
          "Not Duplicate",
          "Not Duplicate",
          "Not Duplicate",
          "Not Duplicate",
          "Not Duplicate",
          "Not Duplicate",
          "Not Duplicate",
          "Not Duplicate",
          "Not Duplicate",
          "Not Duplicate",
          "Not Duplicate",
          "Not Duplicate",
          "Not Duplicate",
          "Not Duplicate",
          "Not Duplicate",
          "Not Duplicate",
          "Not Duplicate",
          "Not Duplicate",
          "Not Duplicate",
          "Not Duplicate",
          "Not Duplicate",
          "Not Duplicate",
          "Not Duplicate",
          "Not Duplicate",
          "Not Duplicate",
          "Not Duplicate",
          "Not Duplicate",
          "Not Duplicate",
          "Not Duplicate",
          "Not Duplicate",
          "Not Duplicate",
          "Not Duplicate",
          "Not Duplicate",
          "Not Duplicate",
          "Not Duplicate",
          "Not Duplicate",
          "Not Duplicate",
          "Not Duplicate",
          "Not Duplicate",
          "Not Duplicate",
          "Not Duplicate",
          "Not Duplicate",
          "Not Duplicate",
          "Not Duplicate",
          "Not Duplicate",
          "Not Duplicate",
          "Not Duplicate",
          "Not Duplicate",
          "Not Duplicate",
          "Not Duplicate",
          "Not Duplicate",
          "Not Duplicate",
          "Not Duplicate",
          "Not Duplicate",
          "Not Duplicate",
          "Not Duplicate",
          "Not Duplicate",
          "Not Duplicate"
         ],
         "legendgroup": "",
         "name": "",
         "showlegend": true,
         "textinfo": "percent+label",
         "type": "pie",
         "values": [
          35,
          33,
          25,
          22,
          13,
          12,
          12,
          11,
          11,
          9,
          9,
          8,
          8,
          7,
          7,
          7,
          6,
          6,
          6,
          6,
          6,
          5,
          5,
          5,
          5,
          5,
          5,
          5,
          5,
          5,
          5,
          4,
          4,
          4,
          4,
          4,
          4,
          4,
          4,
          4,
          4,
          4,
          4,
          4,
          4,
          4,
          3,
          3,
          3,
          3,
          3,
          3,
          3,
          3,
          3,
          3,
          3,
          3,
          3,
          3,
          3,
          3,
          3,
          3,
          3,
          3,
          3,
          3,
          3,
          3,
          3,
          3,
          3,
          3,
          3,
          3,
          3,
          3,
          3,
          3,
          3,
          3,
          3,
          3,
          3,
          3,
          3,
          2,
          2,
          2,
          2,
          2,
          2,
          2,
          2,
          2,
          2,
          2,
          2,
          2,
          2,
          2,
          2,
          2,
          2,
          2,
          2,
          2,
          2,
          2,
          2,
          2,
          2,
          2,
          2,
          2,
          2,
          2,
          2,
          2,
          2,
          2,
          2,
          2,
          2,
          2,
          2,
          2,
          2,
          2,
          2,
          2,
          2,
          2,
          2,
          2,
          2,
          2,
          2,
          2,
          2,
          2,
          2,
          2,
          2,
          2,
          2,
          2,
          2,
          2,
          2,
          2,
          2,
          2,
          2,
          2,
          2,
          2,
          2,
          2,
          2,
          2,
          2,
          2,
          2,
          2,
          2,
          2,
          2,
          2,
          2,
          1,
          1,
          1,
          1,
          1,
          1,
          1,
          1,
          1,
          1,
          1,
          1,
          1,
          1,
          1,
          1,
          1,
          1,
          1,
          1,
          1,
          1,
          1,
          1,
          1,
          1,
          1,
          1,
          1,
          1,
          1,
          1,
          1,
          1,
          1,
          1,
          1,
          1,
          1,
          1,
          1,
          1,
          1,
          1,
          1,
          1,
          1,
          1,
          1,
          1,
          1,
          1,
          1,
          1,
          1,
          1,
          1,
          1,
          1,
          1,
          1,
          1,
          1,
          1,
          1,
          1,
          1,
          1,
          1,
          1,
          1,
          1,
          1,
          1,
          1,
          1,
          1,
          1,
          1,
          1,
          1,
          1,
          1,
          1,
          1,
          1,
          1,
          1,
          1,
          1,
          1,
          1,
          1,
          1,
          1,
          1,
          1,
          1,
          1,
          1,
          1,
          1,
          1,
          1,
          1,
          1,
          1,
          1,
          1,
          1,
          1,
          1,
          1,
          1,
          1,
          1,
          1,
          1,
          1,
          1,
          1,
          1,
          1,
          1,
          1,
          1,
          1,
          1,
          1,
          1,
          1,
          1,
          1,
          1,
          1,
          1,
          1,
          1,
          1,
          1,
          1,
          1,
          1,
          1,
          1,
          1,
          1,
          1,
          1,
          1,
          1,
          1,
          1,
          1,
          1,
          1,
          1,
          1,
          1,
          1,
          1,
          1,
          1,
          1,
          1,
          1,
          1,
          1,
          1,
          1,
          1,
          1,
          1,
          1,
          1,
          1,
          1,
          1,
          1,
          1,
          1,
          1,
          1,
          1,
          1,
          1,
          1,
          1,
          1,
          1,
          1,
          1,
          1,
          1,
          1,
          1,
          1,
          1,
          1,
          1,
          1,
          1,
          1,
          1,
          1,
          1,
          1,
          1,
          1,
          1,
          1,
          1,
          1,
          1,
          1,
          1,
          1,
          1,
          1,
          1,
          1,
          1,
          1,
          1,
          1,
          1,
          1,
          1,
          1,
          1,
          1,
          1,
          1,
          1,
          1,
          1,
          1,
          1,
          1,
          1,
          1,
          1,
          1,
          1,
          1,
          1,
          1,
          1,
          1,
          1,
          1,
          1,
          1,
          1,
          1,
          1,
          1,
          1,
          1,
          1,
          1,
          1,
          1,
          1,
          1,
          1,
          1,
          1,
          1,
          1,
          1,
          1,
          1,
          1,
          1,
          1,
          1,
          1,
          1,
          1,
          1,
          1,
          1,
          1,
          1,
          1,
          1,
          1,
          1,
          1,
          1,
          1,
          1,
          1,
          1,
          1,
          1,
          1,
          1,
          1,
          1,
          1,
          1,
          1,
          1,
          1,
          1,
          1,
          1,
          1,
          1,
          1,
          1,
          1,
          1,
          1,
          1,
          1,
          1,
          1,
          1,
          1,
          1,
          1,
          1,
          1,
          1,
          1,
          1,
          1,
          1,
          1,
          1,
          1,
          1,
          1,
          1,
          1,
          1,
          1,
          1,
          1,
          1,
          1,
          1,
          1,
          1,
          1,
          1,
          1,
          1,
          1,
          1,
          1,
          1,
          1,
          1,
          1,
          1,
          1,
          1,
          1,
          1,
          1,
          1,
          1,
          1,
          1,
          1,
          1,
          1,
          1,
          1,
          1,
          1,
          1,
          1,
          1,
          1,
          1,
          1,
          1,
          1,
          1,
          1,
          1,
          1,
          1,
          1,
          1,
          1,
          1,
          1,
          1,
          1,
          1,
          1,
          1,
          1,
          1,
          1,
          1,
          1,
          1,
          1,
          1,
          1,
          1,
          1,
          1,
          1,
          1,
          1,
          1,
          1,
          1,
          1,
          1,
          1,
          1,
          1,
          1,
          1,
          1,
          1,
          1,
          1,
          1,
          1,
          1,
          1,
          1,
          1,
          1,
          1,
          1,
          1,
          1,
          1,
          1,
          1,
          1,
          1,
          1,
          1,
          1,
          1,
          1,
          1,
          1,
          1,
          1,
          1,
          1,
          1,
          1,
          1,
          1,
          1,
          1,
          1,
          1,
          1,
          1,
          1,
          1,
          1,
          1,
          1,
          1,
          1,
          1,
          1,
          1,
          1,
          1,
          1,
          1,
          1,
          1,
          1,
          1,
          1
         ]
        }
       ],
       "layout": {
        "legend": {
         "tracegroupgap": 0
        },
        "template": {
         "data": {
          "bar": [
           {
            "error_x": {
             "color": "#2a3f5f"
            },
            "error_y": {
             "color": "#2a3f5f"
            },
            "marker": {
             "line": {
              "color": "#E5ECF6",
              "width": 0.5
             },
             "pattern": {
              "fillmode": "overlay",
              "size": 10,
              "solidity": 0.2
             }
            },
            "type": "bar"
           }
          ],
          "barpolar": [
           {
            "marker": {
             "line": {
              "color": "#E5ECF6",
              "width": 0.5
             },
             "pattern": {
              "fillmode": "overlay",
              "size": 10,
              "solidity": 0.2
             }
            },
            "type": "barpolar"
           }
          ],
          "carpet": [
           {
            "aaxis": {
             "endlinecolor": "#2a3f5f",
             "gridcolor": "white",
             "linecolor": "white",
             "minorgridcolor": "white",
             "startlinecolor": "#2a3f5f"
            },
            "baxis": {
             "endlinecolor": "#2a3f5f",
             "gridcolor": "white",
             "linecolor": "white",
             "minorgridcolor": "white",
             "startlinecolor": "#2a3f5f"
            },
            "type": "carpet"
           }
          ],
          "choropleth": [
           {
            "colorbar": {
             "outlinewidth": 0,
             "ticks": ""
            },
            "type": "choropleth"
           }
          ],
          "contour": [
           {
            "colorbar": {
             "outlinewidth": 0,
             "ticks": ""
            },
            "colorscale": [
             [
              0,
              "#0d0887"
             ],
             [
              0.1111111111111111,
              "#46039f"
             ],
             [
              0.2222222222222222,
              "#7201a8"
             ],
             [
              0.3333333333333333,
              "#9c179e"
             ],
             [
              0.4444444444444444,
              "#bd3786"
             ],
             [
              0.5555555555555556,
              "#d8576b"
             ],
             [
              0.6666666666666666,
              "#ed7953"
             ],
             [
              0.7777777777777778,
              "#fb9f3a"
             ],
             [
              0.8888888888888888,
              "#fdca26"
             ],
             [
              1,
              "#f0f921"
             ]
            ],
            "type": "contour"
           }
          ],
          "contourcarpet": [
           {
            "colorbar": {
             "outlinewidth": 0,
             "ticks": ""
            },
            "type": "contourcarpet"
           }
          ],
          "heatmap": [
           {
            "colorbar": {
             "outlinewidth": 0,
             "ticks": ""
            },
            "colorscale": [
             [
              0,
              "#0d0887"
             ],
             [
              0.1111111111111111,
              "#46039f"
             ],
             [
              0.2222222222222222,
              "#7201a8"
             ],
             [
              0.3333333333333333,
              "#9c179e"
             ],
             [
              0.4444444444444444,
              "#bd3786"
             ],
             [
              0.5555555555555556,
              "#d8576b"
             ],
             [
              0.6666666666666666,
              "#ed7953"
             ],
             [
              0.7777777777777778,
              "#fb9f3a"
             ],
             [
              0.8888888888888888,
              "#fdca26"
             ],
             [
              1,
              "#f0f921"
             ]
            ],
            "type": "heatmap"
           }
          ],
          "heatmapgl": [
           {
            "colorbar": {
             "outlinewidth": 0,
             "ticks": ""
            },
            "colorscale": [
             [
              0,
              "#0d0887"
             ],
             [
              0.1111111111111111,
              "#46039f"
             ],
             [
              0.2222222222222222,
              "#7201a8"
             ],
             [
              0.3333333333333333,
              "#9c179e"
             ],
             [
              0.4444444444444444,
              "#bd3786"
             ],
             [
              0.5555555555555556,
              "#d8576b"
             ],
             [
              0.6666666666666666,
              "#ed7953"
             ],
             [
              0.7777777777777778,
              "#fb9f3a"
             ],
             [
              0.8888888888888888,
              "#fdca26"
             ],
             [
              1,
              "#f0f921"
             ]
            ],
            "type": "heatmapgl"
           }
          ],
          "histogram": [
           {
            "marker": {
             "pattern": {
              "fillmode": "overlay",
              "size": 10,
              "solidity": 0.2
             }
            },
            "type": "histogram"
           }
          ],
          "histogram2d": [
           {
            "colorbar": {
             "outlinewidth": 0,
             "ticks": ""
            },
            "colorscale": [
             [
              0,
              "#0d0887"
             ],
             [
              0.1111111111111111,
              "#46039f"
             ],
             [
              0.2222222222222222,
              "#7201a8"
             ],
             [
              0.3333333333333333,
              "#9c179e"
             ],
             [
              0.4444444444444444,
              "#bd3786"
             ],
             [
              0.5555555555555556,
              "#d8576b"
             ],
             [
              0.6666666666666666,
              "#ed7953"
             ],
             [
              0.7777777777777778,
              "#fb9f3a"
             ],
             [
              0.8888888888888888,
              "#fdca26"
             ],
             [
              1,
              "#f0f921"
             ]
            ],
            "type": "histogram2d"
           }
          ],
          "histogram2dcontour": [
           {
            "colorbar": {
             "outlinewidth": 0,
             "ticks": ""
            },
            "colorscale": [
             [
              0,
              "#0d0887"
             ],
             [
              0.1111111111111111,
              "#46039f"
             ],
             [
              0.2222222222222222,
              "#7201a8"
             ],
             [
              0.3333333333333333,
              "#9c179e"
             ],
             [
              0.4444444444444444,
              "#bd3786"
             ],
             [
              0.5555555555555556,
              "#d8576b"
             ],
             [
              0.6666666666666666,
              "#ed7953"
             ],
             [
              0.7777777777777778,
              "#fb9f3a"
             ],
             [
              0.8888888888888888,
              "#fdca26"
             ],
             [
              1,
              "#f0f921"
             ]
            ],
            "type": "histogram2dcontour"
           }
          ],
          "mesh3d": [
           {
            "colorbar": {
             "outlinewidth": 0,
             "ticks": ""
            },
            "type": "mesh3d"
           }
          ],
          "parcoords": [
           {
            "line": {
             "colorbar": {
              "outlinewidth": 0,
              "ticks": ""
             }
            },
            "type": "parcoords"
           }
          ],
          "pie": [
           {
            "automargin": true,
            "type": "pie"
           }
          ],
          "scatter": [
           {
            "fillpattern": {
             "fillmode": "overlay",
             "size": 10,
             "solidity": 0.2
            },
            "type": "scatter"
           }
          ],
          "scatter3d": [
           {
            "line": {
             "colorbar": {
              "outlinewidth": 0,
              "ticks": ""
             }
            },
            "marker": {
             "colorbar": {
              "outlinewidth": 0,
              "ticks": ""
             }
            },
            "type": "scatter3d"
           }
          ],
          "scattercarpet": [
           {
            "marker": {
             "colorbar": {
              "outlinewidth": 0,
              "ticks": ""
             }
            },
            "type": "scattercarpet"
           }
          ],
          "scattergeo": [
           {
            "marker": {
             "colorbar": {
              "outlinewidth": 0,
              "ticks": ""
             }
            },
            "type": "scattergeo"
           }
          ],
          "scattergl": [
           {
            "marker": {
             "colorbar": {
              "outlinewidth": 0,
              "ticks": ""
             }
            },
            "type": "scattergl"
           }
          ],
          "scattermapbox": [
           {
            "marker": {
             "colorbar": {
              "outlinewidth": 0,
              "ticks": ""
             }
            },
            "type": "scattermapbox"
           }
          ],
          "scatterpolar": [
           {
            "marker": {
             "colorbar": {
              "outlinewidth": 0,
              "ticks": ""
             }
            },
            "type": "scatterpolar"
           }
          ],
          "scatterpolargl": [
           {
            "marker": {
             "colorbar": {
              "outlinewidth": 0,
              "ticks": ""
             }
            },
            "type": "scatterpolargl"
           }
          ],
          "scatterternary": [
           {
            "marker": {
             "colorbar": {
              "outlinewidth": 0,
              "ticks": ""
             }
            },
            "type": "scatterternary"
           }
          ],
          "surface": [
           {
            "colorbar": {
             "outlinewidth": 0,
             "ticks": ""
            },
            "colorscale": [
             [
              0,
              "#0d0887"
             ],
             [
              0.1111111111111111,
              "#46039f"
             ],
             [
              0.2222222222222222,
              "#7201a8"
             ],
             [
              0.3333333333333333,
              "#9c179e"
             ],
             [
              0.4444444444444444,
              "#bd3786"
             ],
             [
              0.5555555555555556,
              "#d8576b"
             ],
             [
              0.6666666666666666,
              "#ed7953"
             ],
             [
              0.7777777777777778,
              "#fb9f3a"
             ],
             [
              0.8888888888888888,
              "#fdca26"
             ],
             [
              1,
              "#f0f921"
             ]
            ],
            "type": "surface"
           }
          ],
          "table": [
           {
            "cells": {
             "fill": {
              "color": "#EBF0F8"
             },
             "line": {
              "color": "white"
             }
            },
            "header": {
             "fill": {
              "color": "#C8D4E3"
             },
             "line": {
              "color": "white"
             }
            },
            "type": "table"
           }
          ]
         },
         "layout": {
          "annotationdefaults": {
           "arrowcolor": "#2a3f5f",
           "arrowhead": 0,
           "arrowwidth": 1
          },
          "autotypenumbers": "strict",
          "coloraxis": {
           "colorbar": {
            "outlinewidth": 0,
            "ticks": ""
           }
          },
          "colorscale": {
           "diverging": [
            [
             0,
             "#8e0152"
            ],
            [
             0.1,
             "#c51b7d"
            ],
            [
             0.2,
             "#de77ae"
            ],
            [
             0.3,
             "#f1b6da"
            ],
            [
             0.4,
             "#fde0ef"
            ],
            [
             0.5,
             "#f7f7f7"
            ],
            [
             0.6,
             "#e6f5d0"
            ],
            [
             0.7,
             "#b8e186"
            ],
            [
             0.8,
             "#7fbc41"
            ],
            [
             0.9,
             "#4d9221"
            ],
            [
             1,
             "#276419"
            ]
           ],
           "sequential": [
            [
             0,
             "#0d0887"
            ],
            [
             0.1111111111111111,
             "#46039f"
            ],
            [
             0.2222222222222222,
             "#7201a8"
            ],
            [
             0.3333333333333333,
             "#9c179e"
            ],
            [
             0.4444444444444444,
             "#bd3786"
            ],
            [
             0.5555555555555556,
             "#d8576b"
            ],
            [
             0.6666666666666666,
             "#ed7953"
            ],
            [
             0.7777777777777778,
             "#fb9f3a"
            ],
            [
             0.8888888888888888,
             "#fdca26"
            ],
            [
             1,
             "#f0f921"
            ]
           ],
           "sequentialminus": [
            [
             0,
             "#0d0887"
            ],
            [
             0.1111111111111111,
             "#46039f"
            ],
            [
             0.2222222222222222,
             "#7201a8"
            ],
            [
             0.3333333333333333,
             "#9c179e"
            ],
            [
             0.4444444444444444,
             "#bd3786"
            ],
            [
             0.5555555555555556,
             "#d8576b"
            ],
            [
             0.6666666666666666,
             "#ed7953"
            ],
            [
             0.7777777777777778,
             "#fb9f3a"
            ],
            [
             0.8888888888888888,
             "#fdca26"
            ],
            [
             1,
             "#f0f921"
            ]
           ]
          },
          "colorway": [
           "#636efa",
           "#EF553B",
           "#00cc96",
           "#ab63fa",
           "#FFA15A",
           "#19d3f3",
           "#FF6692",
           "#B6E880",
           "#FF97FF",
           "#FECB52"
          ],
          "font": {
           "color": "#2a3f5f"
          },
          "geo": {
           "bgcolor": "white",
           "lakecolor": "white",
           "landcolor": "#E5ECF6",
           "showlakes": true,
           "showland": true,
           "subunitcolor": "white"
          },
          "hoverlabel": {
           "align": "left"
          },
          "hovermode": "closest",
          "mapbox": {
           "style": "light"
          },
          "paper_bgcolor": "white",
          "plot_bgcolor": "#E5ECF6",
          "polar": {
           "angularaxis": {
            "gridcolor": "white",
            "linecolor": "white",
            "ticks": ""
           },
           "bgcolor": "#E5ECF6",
           "radialaxis": {
            "gridcolor": "white",
            "linecolor": "white",
            "ticks": ""
           }
          },
          "scene": {
           "xaxis": {
            "backgroundcolor": "#E5ECF6",
            "gridcolor": "white",
            "gridwidth": 2,
            "linecolor": "white",
            "showbackground": true,
            "ticks": "",
            "zerolinecolor": "white"
           },
           "yaxis": {
            "backgroundcolor": "#E5ECF6",
            "gridcolor": "white",
            "gridwidth": 2,
            "linecolor": "white",
            "showbackground": true,
            "ticks": "",
            "zerolinecolor": "white"
           },
           "zaxis": {
            "backgroundcolor": "#E5ECF6",
            "gridcolor": "white",
            "gridwidth": 2,
            "linecolor": "white",
            "showbackground": true,
            "ticks": "",
            "zerolinecolor": "white"
           }
          },
          "shapedefaults": {
           "line": {
            "color": "#2a3f5f"
           }
          },
          "ternary": {
           "aaxis": {
            "gridcolor": "white",
            "linecolor": "white",
            "ticks": ""
           },
           "baxis": {
            "gridcolor": "white",
            "linecolor": "white",
            "ticks": ""
           },
           "bgcolor": "#E5ECF6",
           "caxis": {
            "gridcolor": "white",
            "linecolor": "white",
            "ticks": ""
           }
          },
          "title": {
           "x": 0.05
          },
          "xaxis": {
           "automargin": true,
           "gridcolor": "white",
           "linecolor": "white",
           "ticks": "",
           "title": {
            "standoff": 15
           },
           "zerolinecolor": "white",
           "zerolinewidth": 2
          },
          "yaxis": {
           "automargin": true,
           "gridcolor": "white",
           "linecolor": "white",
           "ticks": "",
           "title": {
            "standoff": 15
           },
           "zerolinecolor": "white",
           "zerolinewidth": 2
          }
         }
        },
        "title": {
         "text": "% Evidence containing duplicate Variant/Disease in MetaKB v2"
        }
       }
      }
     },
     "metadata": {},
     "output_type": "display_data"
    }
   ],
   "source": [
    "fig = px.pie(tdf, values='counts', names='is_duplicate', title='% Evidence containing duplicate Variant/Disease in MetaKB v2')\n",
    "fig.update_traces(textinfo='percent+label')\n",
    "fig.show()\n",
    "pio.write_image(fig, \"Duplicate_Variant_Disease_metakbv2_pie.png\", format='png', width=800, height=800, scale=5)"
   ]
  },
  {
   "cell_type": "markdown",
   "metadata": {},
   "source": [
    "#### Uniqueness (Pairs)\n",
    "Repeat the uniqueness exercise, just use pairs of record types instead of singletons."
   ]
  },
  {
   "cell_type": "code",
   "execution_count": null,
   "metadata": {},
   "outputs": [],
   "source": [
    "uq_therdis = df[['obj','qualifier']].value_counts().rename_axis(['Therapeutic','Disease']).reset_index(name='counts')\n",
    "uq_thervar = df[['obj','subject']].value_counts().rename_axis(['Therapeutic','Variant']).reset_index(name='counts')\n",
    "uq_vardis = df[['subject','qualifier']].value_counts().rename_axis(['Variant','Disease']).reset_index(name='counts')\n",
    "\n",
    "uq_therdis['joined'] = None\n",
    "for idx, row in uq_therdis.iterrows():\n",
    "    uq_therdis.at[idx,'joined'] = f'{str(row[\"Therapeutic\"])}, {str(row[\"Disease\"])}'\n",
    "\n",
    "uq_thervar['joined'] = None\n",
    "for idx, row in uq_thervar.iterrows():\n",
    "    uq_thervar.at[idx,'joined'] = f'{str(row[\"Therapeutic\"])}, {str(row[\"Variant\"])}'\n",
    "\n",
    "uq_vardis['joined'] = None\n",
    "for idx, row in uq_vardis.iterrows():\n",
    "    uq_vardis.at[idx,'joined'] = f'{str(row[\"Variant\"])}, {str(row[\"Disease\"])}'"
   ]
  },
  {
   "cell_type": "code",
   "execution_count": 338,
   "metadata": {},
   "outputs": [],
   "source": [
    "uq_therdis['is_duplicate'] = uq_therdis['counts'].apply(duplicate_detect)\n",
    "uq_thervar['is_duplicate'] = uq_thervar['counts'].apply(duplicate_detect)\n",
    "uq_vardis['is_duplicate'] = uq_vardis['counts'].apply(duplicate_detect)\n"
   ]
  },
  {
   "cell_type": "code",
   "execution_count": null,
   "metadata": {},
   "outputs": [],
   "source": [
    "def create_test_column(df, column1, column2):\n",
    "    test_df = df\n",
    "    test_df['joined'] = None\n",
    "    for idx, row in df.iterrows():\n",
    "        test_df.at[idx, 'joined'] = f'{str(row[column1])}, {str(row[column2])}'\n",
    "    return(test_df)\n",
    "\n",
    "test_df = create_test_column(df, 'obj', 'qualifier')\n",
    "uq_therdis['in_civic?'] = uq_therdis['joined'].apply(check_civic, args=('joined',test_df))\n",
    "uq_therdis['in_moa?'] = uq_therdis['joined'].apply(check_moa, args=('joined',test_df))\n",
    "uq_therdis = calculate_total_kbs(uq_therdis)\n",
    "\n",
    "test_df = create_test_column(df, 'obj', 'subject')\n",
    "uq_thervar['in_civic?'] = uq_thervar['joined'].apply(check_civic, args=('joined',test_df))\n",
    "uq_thervar['in_moa?'] = uq_thervar['joined'].apply(check_moa, args=('joined',test_df))\n",
    "uq_thervar = calculate_total_kbs(uq_thervar)\n",
    "\n",
    "test_df = create_test_column(df, 'subject', 'qualifier')\n",
    "uq_vardis['in_civic?'] = uq_vardis['joined'].apply(check_civic, args=('joined',test_df))\n",
    "uq_vardis['in_moa?'] = uq_vardis['joined'].apply(check_moa, args=('joined',test_df))\n",
    "uq_vardis = calculate_total_kbs(uq_vardis)"
   ]
  },
  {
   "cell_type": "code",
   "execution_count": 294,
   "metadata": {},
   "outputs": [
    {
     "data": {
      "text/html": [
       "<div>\n",
       "<style scoped>\n",
       "    .dataframe tbody tr th:only-of-type {\n",
       "        vertical-align: middle;\n",
       "    }\n",
       "\n",
       "    .dataframe tbody tr th {\n",
       "        vertical-align: top;\n",
       "    }\n",
       "\n",
       "    .dataframe thead th {\n",
       "        text-align: right;\n",
       "    }\n",
       "</style>\n",
       "<table border=\"1\" class=\"dataframe\">\n",
       "  <thead>\n",
       "    <tr style=\"text-align: right;\">\n",
       "      <th></th>\n",
       "      <th>labels</th>\n",
       "      <th>1 KB</th>\n",
       "      <th>2 KBs</th>\n",
       "      <th>percent_1KB</th>\n",
       "      <th>percent_2KB</th>\n",
       "    </tr>\n",
       "  </thead>\n",
       "  <tbody>\n",
       "    <tr>\n",
       "      <th>0</th>\n",
       "      <td>Therapeutic/Disease</td>\n",
       "      <td>242</td>\n",
       "      <td>820</td>\n",
       "      <td>22.79%</td>\n",
       "      <td>77.21%</td>\n",
       "    </tr>\n",
       "    <tr>\n",
       "      <th>1</th>\n",
       "      <td>Therapeutic/Variant</td>\n",
       "      <td>706</td>\n",
       "      <td>356</td>\n",
       "      <td>66.48%</td>\n",
       "      <td>33.52%</td>\n",
       "    </tr>\n",
       "    <tr>\n",
       "      <th>2</th>\n",
       "      <td>Variant/Disease</td>\n",
       "      <td>483</td>\n",
       "      <td>660</td>\n",
       "      <td>42.26%</td>\n",
       "      <td>57.74%</td>\n",
       "    </tr>\n",
       "  </tbody>\n",
       "</table>\n",
       "</div>"
      ],
      "text/plain": [
       "                labels  1 KB  2 KBs percent_1KB percent_2KB\n",
       "0  Therapeutic/Disease   242    820      22.79%      77.21%\n",
       "1  Therapeutic/Variant   706    356      66.48%      33.52%\n",
       "2      Variant/Disease   483    660      42.26%      57.74%"
      ]
     },
     "execution_count": 294,
     "metadata": {},
     "output_type": "execute_result"
    }
   ],
   "source": [
    "# Create grouped counts by pair with counts for Present in 1 KB, Present in 2 KB\n",
    "uq = {}\n",
    "uq['labels'] = ['Therapeutic/Disease','Therapeutic/Variant','Variant/Disease']\n",
    "\n",
    "uq['1 KB'] = [uq_therdis[uq_therdis['is_duplicate']!='Duplicate']['counts'].sum(),\n",
    "                uq_thervar[uq_thervar['is_duplicate']!='Duplicate']['counts'].sum(),\n",
    "                uq_vardis[uq_vardis['is_duplicate']!='Duplicate']['counts'].sum()]\n",
    "\n",
    "uq['2 KBs'] = [uq_therdis[uq_therdis['is_duplicate']=='Duplicate']['counts'].sum(),\n",
    "                    uq_thervar[uq_thervar['is_duplicate']=='Duplicate']['counts'].sum(),\n",
    "                    uq_vardis[uq_vardis['is_duplicate']=='Duplicate']['counts'].sum()]\n",
    "\n",
    "uq = pd.DataFrame(uq)\n",
    "\n",
    "# Calculate Percentages\n",
    "100 * (uq['2 KBs'][0] / (uq['2 KBs'][0] + uq['2 KBs'][0]))\n",
    "\n",
    "uq['percent_1KB'] = [100 * (uq['1 KB'][0] / (uq['1 KB'][0] + uq['2 KBs'][0])),\n",
    "                     100 * (uq['1 KB'][1] / (uq['1 KB'][1] + uq['2 KBs'][1])),\n",
    "                     100 * (uq['1 KB'][2] / (uq['1 KB'][2] + uq['2 KBs'][2]))]\n",
    "uq['percent_2KB'] = [100 * (uq['2 KBs'][0] / (uq['1 KB'][0] + uq['2 KBs'][0])),\n",
    "                     100 * (uq['2 KBs'][1] / (uq['1 KB'][1] + uq['2 KBs'][1])),\n",
    "                     100 * (uq['2 KBs'][2] / (uq['1 KB'][2] + uq['2 KBs'][2]))]\n",
    "\n",
    "uq['percent_1KB'] = [f\"{p:.2f}%\" for p in uq['percent_1KB']]\n",
    "uq['percent_2KB'] = [f\"{p:.2f}%\" for p in uq['percent_2KB']]\n",
    "\n",
    "uq\n",
    "\n"
   ]
  },
  {
   "cell_type": "code",
   "execution_count": 295,
   "metadata": {},
   "outputs": [
    {
     "data": {
      "application/vnd.plotly.v1+json": {
       "config": {
        "plotlyServerURL": "https://plot.ly"
       },
       "data": [
        {
         "alignmentgroup": "True",
         "hovertemplate": "variable=1 KB<br>labels=%{x}<br>value=%{y}<extra></extra>",
         "legendgroup": "1 KB",
         "marker": {
          "color": "#063970",
          "pattern": {
           "shape": ""
          }
         },
         "name": "1 KB",
         "offsetgroup": "1 KB",
         "orientation": "v",
         "showlegend": true,
         "text": [
          "22.79%",
          "66.48%",
          "42.26%"
         ],
         "textposition": "auto",
         "texttemplate": "%{text}",
         "type": "bar",
         "x": [
          "Therapeutic/Disease",
          "Therapeutic/Variant",
          "Variant/Disease"
         ],
         "xaxis": "x",
         "y": [
          242,
          706,
          483
         ],
         "yaxis": "y"
        },
        {
         "alignmentgroup": "True",
         "hovertemplate": "variable=2 KBs<br>labels=%{x}<br>value=%{y}<extra></extra>",
         "legendgroup": "2 KBs",
         "marker": {
          "color": "#2596be",
          "pattern": {
           "shape": ""
          }
         },
         "name": "2 KBs",
         "offsetgroup": "2 KBs",
         "orientation": "v",
         "showlegend": true,
         "text": [
          "77.21%",
          "33.52%",
          "57.74%"
         ],
         "textposition": "auto",
         "texttemplate": "%{text}",
         "type": "bar",
         "x": [
          "Therapeutic/Disease",
          "Therapeutic/Variant",
          "Variant/Disease"
         ],
         "xaxis": "x",
         "y": [
          820,
          356,
          660
         ],
         "yaxis": "y"
        }
       ],
       "layout": {
        "barmode": "relative",
        "legend": {
         "title": {
          "text": "Record Present in:"
         },
         "tracegroupgap": 0
        },
        "template": {
         "data": {
          "bar": [
           {
            "error_x": {
             "color": "#2a3f5f"
            },
            "error_y": {
             "color": "#2a3f5f"
            },
            "marker": {
             "line": {
              "color": "#E5ECF6",
              "width": 0.5
             },
             "pattern": {
              "fillmode": "overlay",
              "size": 10,
              "solidity": 0.2
             }
            },
            "type": "bar"
           }
          ],
          "barpolar": [
           {
            "marker": {
             "line": {
              "color": "#E5ECF6",
              "width": 0.5
             },
             "pattern": {
              "fillmode": "overlay",
              "size": 10,
              "solidity": 0.2
             }
            },
            "type": "barpolar"
           }
          ],
          "carpet": [
           {
            "aaxis": {
             "endlinecolor": "#2a3f5f",
             "gridcolor": "white",
             "linecolor": "white",
             "minorgridcolor": "white",
             "startlinecolor": "#2a3f5f"
            },
            "baxis": {
             "endlinecolor": "#2a3f5f",
             "gridcolor": "white",
             "linecolor": "white",
             "minorgridcolor": "white",
             "startlinecolor": "#2a3f5f"
            },
            "type": "carpet"
           }
          ],
          "choropleth": [
           {
            "colorbar": {
             "outlinewidth": 0,
             "ticks": ""
            },
            "type": "choropleth"
           }
          ],
          "contour": [
           {
            "colorbar": {
             "outlinewidth": 0,
             "ticks": ""
            },
            "colorscale": [
             [
              0,
              "#0d0887"
             ],
             [
              0.1111111111111111,
              "#46039f"
             ],
             [
              0.2222222222222222,
              "#7201a8"
             ],
             [
              0.3333333333333333,
              "#9c179e"
             ],
             [
              0.4444444444444444,
              "#bd3786"
             ],
             [
              0.5555555555555556,
              "#d8576b"
             ],
             [
              0.6666666666666666,
              "#ed7953"
             ],
             [
              0.7777777777777778,
              "#fb9f3a"
             ],
             [
              0.8888888888888888,
              "#fdca26"
             ],
             [
              1,
              "#f0f921"
             ]
            ],
            "type": "contour"
           }
          ],
          "contourcarpet": [
           {
            "colorbar": {
             "outlinewidth": 0,
             "ticks": ""
            },
            "type": "contourcarpet"
           }
          ],
          "heatmap": [
           {
            "colorbar": {
             "outlinewidth": 0,
             "ticks": ""
            },
            "colorscale": [
             [
              0,
              "#0d0887"
             ],
             [
              0.1111111111111111,
              "#46039f"
             ],
             [
              0.2222222222222222,
              "#7201a8"
             ],
             [
              0.3333333333333333,
              "#9c179e"
             ],
             [
              0.4444444444444444,
              "#bd3786"
             ],
             [
              0.5555555555555556,
              "#d8576b"
             ],
             [
              0.6666666666666666,
              "#ed7953"
             ],
             [
              0.7777777777777778,
              "#fb9f3a"
             ],
             [
              0.8888888888888888,
              "#fdca26"
             ],
             [
              1,
              "#f0f921"
             ]
            ],
            "type": "heatmap"
           }
          ],
          "heatmapgl": [
           {
            "colorbar": {
             "outlinewidth": 0,
             "ticks": ""
            },
            "colorscale": [
             [
              0,
              "#0d0887"
             ],
             [
              0.1111111111111111,
              "#46039f"
             ],
             [
              0.2222222222222222,
              "#7201a8"
             ],
             [
              0.3333333333333333,
              "#9c179e"
             ],
             [
              0.4444444444444444,
              "#bd3786"
             ],
             [
              0.5555555555555556,
              "#d8576b"
             ],
             [
              0.6666666666666666,
              "#ed7953"
             ],
             [
              0.7777777777777778,
              "#fb9f3a"
             ],
             [
              0.8888888888888888,
              "#fdca26"
             ],
             [
              1,
              "#f0f921"
             ]
            ],
            "type": "heatmapgl"
           }
          ],
          "histogram": [
           {
            "marker": {
             "pattern": {
              "fillmode": "overlay",
              "size": 10,
              "solidity": 0.2
             }
            },
            "type": "histogram"
           }
          ],
          "histogram2d": [
           {
            "colorbar": {
             "outlinewidth": 0,
             "ticks": ""
            },
            "colorscale": [
             [
              0,
              "#0d0887"
             ],
             [
              0.1111111111111111,
              "#46039f"
             ],
             [
              0.2222222222222222,
              "#7201a8"
             ],
             [
              0.3333333333333333,
              "#9c179e"
             ],
             [
              0.4444444444444444,
              "#bd3786"
             ],
             [
              0.5555555555555556,
              "#d8576b"
             ],
             [
              0.6666666666666666,
              "#ed7953"
             ],
             [
              0.7777777777777778,
              "#fb9f3a"
             ],
             [
              0.8888888888888888,
              "#fdca26"
             ],
             [
              1,
              "#f0f921"
             ]
            ],
            "type": "histogram2d"
           }
          ],
          "histogram2dcontour": [
           {
            "colorbar": {
             "outlinewidth": 0,
             "ticks": ""
            },
            "colorscale": [
             [
              0,
              "#0d0887"
             ],
             [
              0.1111111111111111,
              "#46039f"
             ],
             [
              0.2222222222222222,
              "#7201a8"
             ],
             [
              0.3333333333333333,
              "#9c179e"
             ],
             [
              0.4444444444444444,
              "#bd3786"
             ],
             [
              0.5555555555555556,
              "#d8576b"
             ],
             [
              0.6666666666666666,
              "#ed7953"
             ],
             [
              0.7777777777777778,
              "#fb9f3a"
             ],
             [
              0.8888888888888888,
              "#fdca26"
             ],
             [
              1,
              "#f0f921"
             ]
            ],
            "type": "histogram2dcontour"
           }
          ],
          "mesh3d": [
           {
            "colorbar": {
             "outlinewidth": 0,
             "ticks": ""
            },
            "type": "mesh3d"
           }
          ],
          "parcoords": [
           {
            "line": {
             "colorbar": {
              "outlinewidth": 0,
              "ticks": ""
             }
            },
            "type": "parcoords"
           }
          ],
          "pie": [
           {
            "automargin": true,
            "type": "pie"
           }
          ],
          "scatter": [
           {
            "fillpattern": {
             "fillmode": "overlay",
             "size": 10,
             "solidity": 0.2
            },
            "type": "scatter"
           }
          ],
          "scatter3d": [
           {
            "line": {
             "colorbar": {
              "outlinewidth": 0,
              "ticks": ""
             }
            },
            "marker": {
             "colorbar": {
              "outlinewidth": 0,
              "ticks": ""
             }
            },
            "type": "scatter3d"
           }
          ],
          "scattercarpet": [
           {
            "marker": {
             "colorbar": {
              "outlinewidth": 0,
              "ticks": ""
             }
            },
            "type": "scattercarpet"
           }
          ],
          "scattergeo": [
           {
            "marker": {
             "colorbar": {
              "outlinewidth": 0,
              "ticks": ""
             }
            },
            "type": "scattergeo"
           }
          ],
          "scattergl": [
           {
            "marker": {
             "colorbar": {
              "outlinewidth": 0,
              "ticks": ""
             }
            },
            "type": "scattergl"
           }
          ],
          "scattermapbox": [
           {
            "marker": {
             "colorbar": {
              "outlinewidth": 0,
              "ticks": ""
             }
            },
            "type": "scattermapbox"
           }
          ],
          "scatterpolar": [
           {
            "marker": {
             "colorbar": {
              "outlinewidth": 0,
              "ticks": ""
             }
            },
            "type": "scatterpolar"
           }
          ],
          "scatterpolargl": [
           {
            "marker": {
             "colorbar": {
              "outlinewidth": 0,
              "ticks": ""
             }
            },
            "type": "scatterpolargl"
           }
          ],
          "scatterternary": [
           {
            "marker": {
             "colorbar": {
              "outlinewidth": 0,
              "ticks": ""
             }
            },
            "type": "scatterternary"
           }
          ],
          "surface": [
           {
            "colorbar": {
             "outlinewidth": 0,
             "ticks": ""
            },
            "colorscale": [
             [
              0,
              "#0d0887"
             ],
             [
              0.1111111111111111,
              "#46039f"
             ],
             [
              0.2222222222222222,
              "#7201a8"
             ],
             [
              0.3333333333333333,
              "#9c179e"
             ],
             [
              0.4444444444444444,
              "#bd3786"
             ],
             [
              0.5555555555555556,
              "#d8576b"
             ],
             [
              0.6666666666666666,
              "#ed7953"
             ],
             [
              0.7777777777777778,
              "#fb9f3a"
             ],
             [
              0.8888888888888888,
              "#fdca26"
             ],
             [
              1,
              "#f0f921"
             ]
            ],
            "type": "surface"
           }
          ],
          "table": [
           {
            "cells": {
             "fill": {
              "color": "#EBF0F8"
             },
             "line": {
              "color": "white"
             }
            },
            "header": {
             "fill": {
              "color": "#C8D4E3"
             },
             "line": {
              "color": "white"
             }
            },
            "type": "table"
           }
          ]
         },
         "layout": {
          "annotationdefaults": {
           "arrowcolor": "#2a3f5f",
           "arrowhead": 0,
           "arrowwidth": 1
          },
          "autotypenumbers": "strict",
          "coloraxis": {
           "colorbar": {
            "outlinewidth": 0,
            "ticks": ""
           }
          },
          "colorscale": {
           "diverging": [
            [
             0,
             "#8e0152"
            ],
            [
             0.1,
             "#c51b7d"
            ],
            [
             0.2,
             "#de77ae"
            ],
            [
             0.3,
             "#f1b6da"
            ],
            [
             0.4,
             "#fde0ef"
            ],
            [
             0.5,
             "#f7f7f7"
            ],
            [
             0.6,
             "#e6f5d0"
            ],
            [
             0.7,
             "#b8e186"
            ],
            [
             0.8,
             "#7fbc41"
            ],
            [
             0.9,
             "#4d9221"
            ],
            [
             1,
             "#276419"
            ]
           ],
           "sequential": [
            [
             0,
             "#0d0887"
            ],
            [
             0.1111111111111111,
             "#46039f"
            ],
            [
             0.2222222222222222,
             "#7201a8"
            ],
            [
             0.3333333333333333,
             "#9c179e"
            ],
            [
             0.4444444444444444,
             "#bd3786"
            ],
            [
             0.5555555555555556,
             "#d8576b"
            ],
            [
             0.6666666666666666,
             "#ed7953"
            ],
            [
             0.7777777777777778,
             "#fb9f3a"
            ],
            [
             0.8888888888888888,
             "#fdca26"
            ],
            [
             1,
             "#f0f921"
            ]
           ],
           "sequentialminus": [
            [
             0,
             "#0d0887"
            ],
            [
             0.1111111111111111,
             "#46039f"
            ],
            [
             0.2222222222222222,
             "#7201a8"
            ],
            [
             0.3333333333333333,
             "#9c179e"
            ],
            [
             0.4444444444444444,
             "#bd3786"
            ],
            [
             0.5555555555555556,
             "#d8576b"
            ],
            [
             0.6666666666666666,
             "#ed7953"
            ],
            [
             0.7777777777777778,
             "#fb9f3a"
            ],
            [
             0.8888888888888888,
             "#fdca26"
            ],
            [
             1,
             "#f0f921"
            ]
           ]
          },
          "colorway": [
           "#636efa",
           "#EF553B",
           "#00cc96",
           "#ab63fa",
           "#FFA15A",
           "#19d3f3",
           "#FF6692",
           "#B6E880",
           "#FF97FF",
           "#FECB52"
          ],
          "font": {
           "color": "#2a3f5f"
          },
          "geo": {
           "bgcolor": "white",
           "lakecolor": "white",
           "landcolor": "#E5ECF6",
           "showlakes": true,
           "showland": true,
           "subunitcolor": "white"
          },
          "hoverlabel": {
           "align": "left"
          },
          "hovermode": "closest",
          "mapbox": {
           "style": "light"
          },
          "paper_bgcolor": "white",
          "plot_bgcolor": "#E5ECF6",
          "polar": {
           "angularaxis": {
            "gridcolor": "white",
            "linecolor": "white",
            "ticks": ""
           },
           "bgcolor": "#E5ECF6",
           "radialaxis": {
            "gridcolor": "white",
            "linecolor": "white",
            "ticks": ""
           }
          },
          "scene": {
           "xaxis": {
            "backgroundcolor": "#E5ECF6",
            "gridcolor": "white",
            "gridwidth": 2,
            "linecolor": "white",
            "showbackground": true,
            "ticks": "",
            "zerolinecolor": "white"
           },
           "yaxis": {
            "backgroundcolor": "#E5ECF6",
            "gridcolor": "white",
            "gridwidth": 2,
            "linecolor": "white",
            "showbackground": true,
            "ticks": "",
            "zerolinecolor": "white"
           },
           "zaxis": {
            "backgroundcolor": "#E5ECF6",
            "gridcolor": "white",
            "gridwidth": 2,
            "linecolor": "white",
            "showbackground": true,
            "ticks": "",
            "zerolinecolor": "white"
           }
          },
          "shapedefaults": {
           "line": {
            "color": "#2a3f5f"
           }
          },
          "ternary": {
           "aaxis": {
            "gridcolor": "white",
            "linecolor": "white",
            "ticks": ""
           },
           "baxis": {
            "gridcolor": "white",
            "linecolor": "white",
            "ticks": ""
           },
           "bgcolor": "#E5ECF6",
           "caxis": {
            "gridcolor": "white",
            "linecolor": "white",
            "ticks": ""
           }
          },
          "title": {
           "x": 0.05
          },
          "xaxis": {
           "automargin": true,
           "gridcolor": "white",
           "linecolor": "white",
           "ticks": "",
           "title": {
            "standoff": 15
           },
           "zerolinecolor": "white",
           "zerolinewidth": 2
          },
          "yaxis": {
           "automargin": true,
           "gridcolor": "white",
           "linecolor": "white",
           "ticks": "",
           "title": {
            "standoff": 15
           },
           "zerolinecolor": "white",
           "zerolinewidth": 2
          }
         }
        },
        "title": {
         "text": "Uniqueness of Records in MetaKB v2"
        },
        "xaxis": {
         "anchor": "y",
         "domain": [
          0,
          1
         ],
         "title": {
          "text": "Type of Record"
         }
        },
        "yaxis": {
         "anchor": "x",
         "domain": [
          0,
          1
         ],
         "title": {
          "text": "# of Records"
         }
        }
       }
      }
     },
     "metadata": {},
     "output_type": "display_data"
    }
   ],
   "source": [
    "fig = px.bar(uq, x='labels', y=['1 KB','2 KBs'], title='Uniqueness of Records in MetaKB v2', color_discrete_map={'1 KB': '#063970', '2 KBs': '#2596be'},text_auto=True)\n",
    "# #76b5c5, #abdbe3, #154c79, #eeeee4\n",
    "\n",
    "fig.data[0].text = uq['percent_1KB']\n",
    "fig.data[0].texttemplate = '%{text}'\n",
    "fig.data[1].text = uq['percent_2KB']\n",
    "fig.data[1].texttemplate = '%{text}'\n",
    "\n",
    "fig.update_layout(xaxis_title='Type of Record',\n",
    "                  yaxis_title='# of Records',\n",
    "                  legend_title_text='Record Present in:'\n",
    "                  )\n",
    "fig.show()\n",
    "\n",
    "pio.write_image(fig, \"Paired_record_uniqueness.png\", format='png', width=600, height=300, scale=5)"
   ]
  },
  {
   "cell_type": "markdown",
   "metadata": {},
   "source": [
    "## Evidence Strength\n",
    "TODO"
   ]
  },
  {
   "cell_type": "code",
   "execution_count": 82,
   "metadata": {},
   "outputs": [
    {
     "data": {
      "text/html": [
       "<div>\n",
       "<style scoped>\n",
       "    .dataframe tbody tr th:only-of-type {\n",
       "        vertical-align: middle;\n",
       "    }\n",
       "\n",
       "    .dataframe tbody tr th {\n",
       "        vertical-align: top;\n",
       "    }\n",
       "\n",
       "    .dataframe thead th {\n",
       "        text-align: right;\n",
       "    }\n",
       "</style>\n",
       "<table border=\"1\" class=\"dataframe\">\n",
       "  <thead>\n",
       "    <tr style=\"text-align: right;\">\n",
       "      <th></th>\n",
       "      <th>id</th>\n",
       "      <th>description</th>\n",
       "      <th>predicate</th>\n",
       "      <th>subject</th>\n",
       "      <th>obj</th>\n",
       "      <th>qualifier</th>\n",
       "      <th>statement_full</th>\n",
       "    </tr>\n",
       "  </thead>\n",
       "  <tbody>\n",
       "    <tr>\n",
       "      <th>0</th>\n",
       "      <td>civic.eid:238</td>\n",
       "      <td>The T790M mutation in EGFR has been shown to c...</td>\n",
       "      <td>predictsResistanceTo</td>\n",
       "      <td>ga4gh:VA.sMA9h8fzDi0RvweMlxtD0_Oi8B-JZ1V-</td>\n",
       "      <td>rxcui:337525</td>\n",
       "      <td>Lung Non-small Cell Carcinoma</td>\n",
       "      <td>(ga4gh:VA.sMA9h8fzDi0RvweMlxtD0_Oi8B-JZ1V-, pr...</td>\n",
       "    </tr>\n",
       "    <tr>\n",
       "      <th>1</th>\n",
       "      <td>civic.eid:1409</td>\n",
       "      <td>Phase 3 randomized clinical trial comparing ve...</td>\n",
       "      <td>predictsSensitivityTo</td>\n",
       "      <td>ga4gh:VA.j4XnsLZcdzDIYa5pvvXM7t1wn9OITr0L</td>\n",
       "      <td>rxcui:1147220</td>\n",
       "      <td>Skin Melanoma</td>\n",
       "      <td>(ga4gh:VA.j4XnsLZcdzDIYa5pvvXM7t1wn9OITr0L, pr...</td>\n",
       "    </tr>\n",
       "    <tr>\n",
       "      <th>2</th>\n",
       "      <td>civic.eid:1592</td>\n",
       "      <td>Osimertinib has been approved for the treatmen...</td>\n",
       "      <td>predictsSensitivityTo</td>\n",
       "      <td>ga4gh:VA.sMA9h8fzDi0RvweMlxtD0_Oi8B-JZ1V-</td>\n",
       "      <td>rxcui:1721560</td>\n",
       "      <td>Lung Non-small Cell Carcinoma</td>\n",
       "      <td>(ga4gh:VA.sMA9h8fzDi0RvweMlxtD0_Oi8B-JZ1V-, pr...</td>\n",
       "    </tr>\n",
       "    <tr>\n",
       "      <th>3</th>\n",
       "      <td>civic.eid:1867</td>\n",
       "      <td>Randomized, international, open-label, phase 3...</td>\n",
       "      <td>predictsSensitivityTo</td>\n",
       "      <td>ga4gh:VA.sMA9h8fzDi0RvweMlxtD0_Oi8B-JZ1V-</td>\n",
       "      <td>rxcui:1721560</td>\n",
       "      <td>Lung Non-small Cell Carcinoma</td>\n",
       "      <td>(ga4gh:VA.sMA9h8fzDi0RvweMlxtD0_Oi8B-JZ1V-, pr...</td>\n",
       "    </tr>\n",
       "    <tr>\n",
       "      <th>4</th>\n",
       "      <td>civic.eid:2994</td>\n",
       "      <td>On May 14, 2013, the U.S. Food and Drug Admini...</td>\n",
       "      <td>predictsSensitivityTo</td>\n",
       "      <td>ga4gh:VA.S41CcMJT2bcd8R4-qXZWH1PoHWNtG2PZ</td>\n",
       "      <td>rxcui:337525</td>\n",
       "      <td>Lung Non-small Cell Carcinoma</td>\n",
       "      <td>(ga4gh:VA.S41CcMJT2bcd8R4-qXZWH1PoHWNtG2PZ, pr...</td>\n",
       "    </tr>\n",
       "    <tr>\n",
       "      <th>...</th>\n",
       "      <td>...</td>\n",
       "      <td>...</td>\n",
       "      <td>...</td>\n",
       "      <td>...</td>\n",
       "      <td>...</td>\n",
       "      <td>...</td>\n",
       "      <td>...</td>\n",
       "    </tr>\n",
       "    <tr>\n",
       "      <th>1138</th>\n",
       "      <td>moa.assertion:990</td>\n",
       "      <td>The U.S. Food and Drug Administration (FDA) gr...</td>\n",
       "      <td>predictsSensitivityTo</td>\n",
       "      <td>ga4gh:VA.YqiDFzE2K6fcXhXkCGYHIQ75RgutPq_7</td>\n",
       "      <td>ncit:C152914</td>\n",
       "      <td>Oligodendroglioma</td>\n",
       "      <td>(ga4gh:VA.YqiDFzE2K6fcXhXkCGYHIQ75RgutPq_7, pr...</td>\n",
       "    </tr>\n",
       "    <tr>\n",
       "      <th>1139</th>\n",
       "      <td>moa.assertion:991</td>\n",
       "      <td>The U.S. Food and Drug Administration (FDA) gr...</td>\n",
       "      <td>predictsSensitivityTo</td>\n",
       "      <td>ga4gh:VA.S41CcMJT2bcd8R4-qXZWH1PoHWNtG2PZ</td>\n",
       "      <td>(CombinationTherapy, moa.ctid:1TlyFhyafDojGZE0...</td>\n",
       "      <td>Non-Small Cell Lung Cancer</td>\n",
       "      <td>(ga4gh:VA.S41CcMJT2bcd8R4-qXZWH1PoHWNtG2PZ, pr...</td>\n",
       "    </tr>\n",
       "    <tr>\n",
       "      <th>1140</th>\n",
       "      <td>moa.assertion:993</td>\n",
       "      <td>The U.S. Food and Drug Administration (FDA) gr...</td>\n",
       "      <td>predictsSensitivityTo</td>\n",
       "      <td>ga4gh:VA.S41CcMJT2bcd8R4-qXZWH1PoHWNtG2PZ</td>\n",
       "      <td>(CombinationTherapy, moa.ctid:9k0z3QBtBa8PgGFl...</td>\n",
       "      <td>Non-Small Cell Lung Cancer</td>\n",
       "      <td>(ga4gh:VA.S41CcMJT2bcd8R4-qXZWH1PoHWNtG2PZ, pr...</td>\n",
       "    </tr>\n",
       "    <tr>\n",
       "      <th>1141</th>\n",
       "      <td>moa.assertion:996</td>\n",
       "      <td>The U.S. Food and Drug Administration (FDA) gr...</td>\n",
       "      <td>predictsSensitivityTo</td>\n",
       "      <td>ga4gh:VA.sMA9h8fzDi0RvweMlxtD0_Oi8B-JZ1V-</td>\n",
       "      <td>rxcui:1721560</td>\n",
       "      <td>Non-Small Cell Lung Cancer</td>\n",
       "      <td>(ga4gh:VA.sMA9h8fzDi0RvweMlxtD0_Oi8B-JZ1V-, pr...</td>\n",
       "    </tr>\n",
       "    <tr>\n",
       "      <th>1142</th>\n",
       "      <td>moa.assertion:999</td>\n",
       "      <td>The U.S. Food and Drug Administration (FDA) gr...</td>\n",
       "      <td>predictsSensitivityTo</td>\n",
       "      <td>ga4gh:VA.D6NzpWXKqBnbcZZrXNSXj4tMUwROKbsQ</td>\n",
       "      <td>rxcui:2584304</td>\n",
       "      <td>Chronic Myelogenous Leukemia</td>\n",
       "      <td>(ga4gh:VA.D6NzpWXKqBnbcZZrXNSXj4tMUwROKbsQ, pr...</td>\n",
       "    </tr>\n",
       "  </tbody>\n",
       "</table>\n",
       "<p>1143 rows × 7 columns</p>\n",
       "</div>"
      ],
      "text/plain": [
       "                     id                                        description  \\\n",
       "0         civic.eid:238  The T790M mutation in EGFR has been shown to c...   \n",
       "1        civic.eid:1409  Phase 3 randomized clinical trial comparing ve...   \n",
       "2        civic.eid:1592  Osimertinib has been approved for the treatmen...   \n",
       "3        civic.eid:1867  Randomized, international, open-label, phase 3...   \n",
       "4        civic.eid:2994  On May 14, 2013, the U.S. Food and Drug Admini...   \n",
       "...                 ...                                                ...   \n",
       "1138  moa.assertion:990  The U.S. Food and Drug Administration (FDA) gr...   \n",
       "1139  moa.assertion:991  The U.S. Food and Drug Administration (FDA) gr...   \n",
       "1140  moa.assertion:993  The U.S. Food and Drug Administration (FDA) gr...   \n",
       "1141  moa.assertion:996  The U.S. Food and Drug Administration (FDA) gr...   \n",
       "1142  moa.assertion:999  The U.S. Food and Drug Administration (FDA) gr...   \n",
       "\n",
       "                  predicate                                    subject  \\\n",
       "0      predictsResistanceTo  ga4gh:VA.sMA9h8fzDi0RvweMlxtD0_Oi8B-JZ1V-   \n",
       "1     predictsSensitivityTo  ga4gh:VA.j4XnsLZcdzDIYa5pvvXM7t1wn9OITr0L   \n",
       "2     predictsSensitivityTo  ga4gh:VA.sMA9h8fzDi0RvweMlxtD0_Oi8B-JZ1V-   \n",
       "3     predictsSensitivityTo  ga4gh:VA.sMA9h8fzDi0RvweMlxtD0_Oi8B-JZ1V-   \n",
       "4     predictsSensitivityTo  ga4gh:VA.S41CcMJT2bcd8R4-qXZWH1PoHWNtG2PZ   \n",
       "...                     ...                                        ...   \n",
       "1138  predictsSensitivityTo  ga4gh:VA.YqiDFzE2K6fcXhXkCGYHIQ75RgutPq_7   \n",
       "1139  predictsSensitivityTo  ga4gh:VA.S41CcMJT2bcd8R4-qXZWH1PoHWNtG2PZ   \n",
       "1140  predictsSensitivityTo  ga4gh:VA.S41CcMJT2bcd8R4-qXZWH1PoHWNtG2PZ   \n",
       "1141  predictsSensitivityTo  ga4gh:VA.sMA9h8fzDi0RvweMlxtD0_Oi8B-JZ1V-   \n",
       "1142  predictsSensitivityTo  ga4gh:VA.D6NzpWXKqBnbcZZrXNSXj4tMUwROKbsQ   \n",
       "\n",
       "                                                    obj  \\\n",
       "0                                          rxcui:337525   \n",
       "1                                         rxcui:1147220   \n",
       "2                                         rxcui:1721560   \n",
       "3                                         rxcui:1721560   \n",
       "4                                          rxcui:337525   \n",
       "...                                                 ...   \n",
       "1138                                       ncit:C152914   \n",
       "1139  (CombinationTherapy, moa.ctid:1TlyFhyafDojGZE0...   \n",
       "1140  (CombinationTherapy, moa.ctid:9k0z3QBtBa8PgGFl...   \n",
       "1141                                      rxcui:1721560   \n",
       "1142                                      rxcui:2584304   \n",
       "\n",
       "                          qualifier  \\\n",
       "0     Lung Non-small Cell Carcinoma   \n",
       "1                     Skin Melanoma   \n",
       "2     Lung Non-small Cell Carcinoma   \n",
       "3     Lung Non-small Cell Carcinoma   \n",
       "4     Lung Non-small Cell Carcinoma   \n",
       "...                             ...   \n",
       "1138              Oligodendroglioma   \n",
       "1139     Non-Small Cell Lung Cancer   \n",
       "1140     Non-Small Cell Lung Cancer   \n",
       "1141     Non-Small Cell Lung Cancer   \n",
       "1142   Chronic Myelogenous Leukemia   \n",
       "\n",
       "                                         statement_full  \n",
       "0     (ga4gh:VA.sMA9h8fzDi0RvweMlxtD0_Oi8B-JZ1V-, pr...  \n",
       "1     (ga4gh:VA.j4XnsLZcdzDIYa5pvvXM7t1wn9OITr0L, pr...  \n",
       "2     (ga4gh:VA.sMA9h8fzDi0RvweMlxtD0_Oi8B-JZ1V-, pr...  \n",
       "3     (ga4gh:VA.sMA9h8fzDi0RvweMlxtD0_Oi8B-JZ1V-, pr...  \n",
       "4     (ga4gh:VA.S41CcMJT2bcd8R4-qXZWH1PoHWNtG2PZ, pr...  \n",
       "...                                                 ...  \n",
       "1138  (ga4gh:VA.YqiDFzE2K6fcXhXkCGYHIQ75RgutPq_7, pr...  \n",
       "1139  (ga4gh:VA.S41CcMJT2bcd8R4-qXZWH1PoHWNtG2PZ, pr...  \n",
       "1140  (ga4gh:VA.S41CcMJT2bcd8R4-qXZWH1PoHWNtG2PZ, pr...  \n",
       "1141  (ga4gh:VA.sMA9h8fzDi0RvweMlxtD0_Oi8B-JZ1V-, pr...  \n",
       "1142  (ga4gh:VA.D6NzpWXKqBnbcZZrXNSXj4tMUwROKbsQ, pr...  \n",
       "\n",
       "[1143 rows x 7 columns]"
      ]
     },
     "execution_count": 82,
     "metadata": {},
     "output_type": "execute_result"
    }
   ],
   "source": [
    "df"
   ]
  },
  {
   "cell_type": "code",
   "execution_count": 51,
   "metadata": {},
   "outputs": [],
   "source": [
    "def grab_evidence_strength(study_id):\n",
    "    query_subject_variant = f\"\"\"MATCH (s:Study) WHERE s.id = '{study_id}'\n",
    "        MATCH (s)-[:HAS_STRENGTH]-(c)\n",
    "        RETURN properties(s) AS Study,\n",
    "                properties(c) AS Strength\n",
    "    \"\"\"\n",
    "    result = execute_query(driver, query_subject_variant)\n",
    "    driver.close()\n",
    "    if len(result) > 1:\n",
    "        print(f'{study_id} has {len(result)} subjects possible')\n",
    "    subject = result[0]['Strength']['label']\n",
    "\n",
    "    return(subject)"
   ]
  },
  {
   "cell_type": "code",
   "execution_count": 52,
   "metadata": {},
   "outputs": [
    {
     "name": "stderr",
     "output_type": "stream",
     "text": [
      "/var/folders/5t/sfw5tjx56m10xb861_pd3wfm0000gq/T/ipykernel_45462/171895612.py:8: DeprecationWarning:\n",
      "\n",
      "Using a driver after it has been closed is deprecated. Future versions of the driver will raise an error.\n",
      "\n"
     ]
    }
   ],
   "source": [
    "df['evidence_strength'] = None\n",
    "df['evidence_strength'] = df['id'].apply(grab_evidence_strength)\n"
   ]
  },
  {
   "cell_type": "code",
   "execution_count": 53,
   "metadata": {},
   "outputs": [
    {
     "data": {
      "text/html": [
       "<div>\n",
       "<style scoped>\n",
       "    .dataframe tbody tr th:only-of-type {\n",
       "        vertical-align: middle;\n",
       "    }\n",
       "\n",
       "    .dataframe tbody tr th {\n",
       "        vertical-align: top;\n",
       "    }\n",
       "\n",
       "    .dataframe thead th {\n",
       "        text-align: right;\n",
       "    }\n",
       "</style>\n",
       "<table border=\"1\" class=\"dataframe\">\n",
       "  <thead>\n",
       "    <tr style=\"text-align: right;\">\n",
       "      <th></th>\n",
       "      <th>id</th>\n",
       "      <th>description</th>\n",
       "      <th>predicate</th>\n",
       "      <th>subject</th>\n",
       "      <th>obj</th>\n",
       "      <th>qualifier</th>\n",
       "      <th>statement_full</th>\n",
       "      <th>evidence_strength_code</th>\n",
       "      <th>evidence_strength</th>\n",
       "    </tr>\n",
       "  </thead>\n",
       "  <tbody>\n",
       "    <tr>\n",
       "      <th>0</th>\n",
       "      <td>civic.eid:238</td>\n",
       "      <td>The T790M mutation in EGFR has been shown to c...</td>\n",
       "      <td>predictsResistanceTo</td>\n",
       "      <td>ga4gh:VA.sMA9h8fzDi0RvweMlxtD0_Oi8B-JZ1V-</td>\n",
       "      <td>rxcui:337525</td>\n",
       "      <td>ncit:C2926</td>\n",
       "      <td>ga4gh:VA.sMA9h8fzDi0RvweMlxtD0_Oi8B-JZ1V- pred...</td>\n",
       "      <td>e000001</td>\n",
       "      <td>authoritative evidence</td>\n",
       "    </tr>\n",
       "    <tr>\n",
       "      <th>1</th>\n",
       "      <td>civic.eid:1409</td>\n",
       "      <td>Phase 3 randomized clinical trial comparing ve...</td>\n",
       "      <td>predictsSensitivityTo</td>\n",
       "      <td>ga4gh:VA.j4XnsLZcdzDIYa5pvvXM7t1wn9OITr0L</td>\n",
       "      <td>rxcui:1147220</td>\n",
       "      <td>ncit:C3510</td>\n",
       "      <td>ga4gh:VA.j4XnsLZcdzDIYa5pvvXM7t1wn9OITr0L pred...</td>\n",
       "      <td>e000001</td>\n",
       "      <td>authoritative evidence</td>\n",
       "    </tr>\n",
       "    <tr>\n",
       "      <th>2</th>\n",
       "      <td>civic.eid:1592</td>\n",
       "      <td>Osimertinib has been approved for the treatmen...</td>\n",
       "      <td>predictsSensitivityTo</td>\n",
       "      <td>ga4gh:VA.sMA9h8fzDi0RvweMlxtD0_Oi8B-JZ1V-</td>\n",
       "      <td>rxcui:1721560</td>\n",
       "      <td>ncit:C2926</td>\n",
       "      <td>ga4gh:VA.sMA9h8fzDi0RvweMlxtD0_Oi8B-JZ1V- pred...</td>\n",
       "      <td>e000001</td>\n",
       "      <td>authoritative evidence</td>\n",
       "    </tr>\n",
       "    <tr>\n",
       "      <th>3</th>\n",
       "      <td>civic.eid:1867</td>\n",
       "      <td>Randomized, international, open-label, phase 3...</td>\n",
       "      <td>predictsSensitivityTo</td>\n",
       "      <td>ga4gh:VA.sMA9h8fzDi0RvweMlxtD0_Oi8B-JZ1V-</td>\n",
       "      <td>rxcui:1721560</td>\n",
       "      <td>ncit:C2926</td>\n",
       "      <td>ga4gh:VA.sMA9h8fzDi0RvweMlxtD0_Oi8B-JZ1V- pred...</td>\n",
       "      <td>e000001</td>\n",
       "      <td>authoritative evidence</td>\n",
       "    </tr>\n",
       "    <tr>\n",
       "      <th>4</th>\n",
       "      <td>civic.eid:2994</td>\n",
       "      <td>On May 14, 2013, the U.S. Food and Drug Admini...</td>\n",
       "      <td>predictsSensitivityTo</td>\n",
       "      <td>ga4gh:VA.S41CcMJT2bcd8R4-qXZWH1PoHWNtG2PZ</td>\n",
       "      <td>rxcui:337525</td>\n",
       "      <td>ncit:C2926</td>\n",
       "      <td>ga4gh:VA.S41CcMJT2bcd8R4-qXZWH1PoHWNtG2PZ pred...</td>\n",
       "      <td>e000001</td>\n",
       "      <td>authoritative evidence</td>\n",
       "    </tr>\n",
       "    <tr>\n",
       "      <th>...</th>\n",
       "      <td>...</td>\n",
       "      <td>...</td>\n",
       "      <td>...</td>\n",
       "      <td>...</td>\n",
       "      <td>...</td>\n",
       "      <td>...</td>\n",
       "      <td>...</td>\n",
       "      <td>...</td>\n",
       "      <td>...</td>\n",
       "    </tr>\n",
       "    <tr>\n",
       "      <th>1037</th>\n",
       "      <td>moa.assertion:961</td>\n",
       "      <td>The U.S. Food and Drug Administration (FDA) gr...</td>\n",
       "      <td>predictsSensitivityTo</td>\n",
       "      <td>ga4gh:VA.D6NzpWXKqBnbcZZrXNSXj4tMUwROKbsQ</td>\n",
       "      <td>rxcui:1364347</td>\n",
       "      <td>ncit:C3174</td>\n",
       "      <td>ga4gh:VA.D6NzpWXKqBnbcZZrXNSXj4tMUwROKbsQ pred...</td>\n",
       "      <td>e000002</td>\n",
       "      <td>FDA recognized evidence</td>\n",
       "    </tr>\n",
       "    <tr>\n",
       "      <th>1038</th>\n",
       "      <td>moa.assertion:963</td>\n",
       "      <td>The U.S. Food and Drug Administration (FDA) gr...</td>\n",
       "      <td>predictsSensitivityTo</td>\n",
       "      <td>ga4gh:VA.pfWn9x9oFBRzGda1xXcOrE-BrX0R__N8</td>\n",
       "      <td>ncit:C106254</td>\n",
       "      <td>oncotree:LGGNOS</td>\n",
       "      <td>ga4gh:VA.pfWn9x9oFBRzGda1xXcOrE-BrX0R__N8 pred...</td>\n",
       "      <td>e000002</td>\n",
       "      <td>FDA recognized evidence</td>\n",
       "    </tr>\n",
       "    <tr>\n",
       "      <th>1039</th>\n",
       "      <td>moa.assertion:967</td>\n",
       "      <td>The U.S. Food and Drug Administration (FDA) gr...</td>\n",
       "      <td>predictsSensitivityTo</td>\n",
       "      <td>ga4gh:VA.S41CcMJT2bcd8R4-qXZWH1PoHWNtG2PZ</td>\n",
       "      <td>rxcui:337525</td>\n",
       "      <td>ncit:C2926</td>\n",
       "      <td>ga4gh:VA.S41CcMJT2bcd8R4-qXZWH1PoHWNtG2PZ pred...</td>\n",
       "      <td>e000002</td>\n",
       "      <td>FDA recognized evidence</td>\n",
       "    </tr>\n",
       "    <tr>\n",
       "      <th>1040</th>\n",
       "      <td>moa.assertion:969</td>\n",
       "      <td>The U.S. Food and Drug Administration (FDA) gr...</td>\n",
       "      <td>predictsSensitivityTo</td>\n",
       "      <td>ga4gh:VA.S41CcMJT2bcd8R4-qXZWH1PoHWNtG2PZ</td>\n",
       "      <td>rxcui:328134</td>\n",
       "      <td>ncit:C2926</td>\n",
       "      <td>ga4gh:VA.S41CcMJT2bcd8R4-qXZWH1PoHWNtG2PZ pred...</td>\n",
       "      <td>e000002</td>\n",
       "      <td>FDA recognized evidence</td>\n",
       "    </tr>\n",
       "    <tr>\n",
       "      <th>1041</th>\n",
       "      <td>moa.assertion:973</td>\n",
       "      <td>The U.S. Food and Drug Administration (FDA) gr...</td>\n",
       "      <td>predictsSensitivityTo</td>\n",
       "      <td>ga4gh:VA.udBCHwlrf8xNiRy_19bLi-h5LhnZLgCt</td>\n",
       "      <td>moa.ctid:5e89NyyfMGR167xjfPQC_QJBxBI9OYZx</td>\n",
       "      <td>ncit:C5105</td>\n",
       "      <td>ga4gh:VA.udBCHwlrf8xNiRy_19bLi-h5LhnZLgCt pred...</td>\n",
       "      <td>e000002</td>\n",
       "      <td>FDA recognized evidence</td>\n",
       "    </tr>\n",
       "  </tbody>\n",
       "</table>\n",
       "<p>1042 rows × 9 columns</p>\n",
       "</div>"
      ],
      "text/plain": [
       "                     id                                        description  \\\n",
       "0         civic.eid:238  The T790M mutation in EGFR has been shown to c...   \n",
       "1        civic.eid:1409  Phase 3 randomized clinical trial comparing ve...   \n",
       "2        civic.eid:1592  Osimertinib has been approved for the treatmen...   \n",
       "3        civic.eid:1867  Randomized, international, open-label, phase 3...   \n",
       "4        civic.eid:2994  On May 14, 2013, the U.S. Food and Drug Admini...   \n",
       "...                 ...                                                ...   \n",
       "1037  moa.assertion:961  The U.S. Food and Drug Administration (FDA) gr...   \n",
       "1038  moa.assertion:963  The U.S. Food and Drug Administration (FDA) gr...   \n",
       "1039  moa.assertion:967  The U.S. Food and Drug Administration (FDA) gr...   \n",
       "1040  moa.assertion:969  The U.S. Food and Drug Administration (FDA) gr...   \n",
       "1041  moa.assertion:973  The U.S. Food and Drug Administration (FDA) gr...   \n",
       "\n",
       "                  predicate                                    subject  \\\n",
       "0      predictsResistanceTo  ga4gh:VA.sMA9h8fzDi0RvweMlxtD0_Oi8B-JZ1V-   \n",
       "1     predictsSensitivityTo  ga4gh:VA.j4XnsLZcdzDIYa5pvvXM7t1wn9OITr0L   \n",
       "2     predictsSensitivityTo  ga4gh:VA.sMA9h8fzDi0RvweMlxtD0_Oi8B-JZ1V-   \n",
       "3     predictsSensitivityTo  ga4gh:VA.sMA9h8fzDi0RvweMlxtD0_Oi8B-JZ1V-   \n",
       "4     predictsSensitivityTo  ga4gh:VA.S41CcMJT2bcd8R4-qXZWH1PoHWNtG2PZ   \n",
       "...                     ...                                        ...   \n",
       "1037  predictsSensitivityTo  ga4gh:VA.D6NzpWXKqBnbcZZrXNSXj4tMUwROKbsQ   \n",
       "1038  predictsSensitivityTo  ga4gh:VA.pfWn9x9oFBRzGda1xXcOrE-BrX0R__N8   \n",
       "1039  predictsSensitivityTo  ga4gh:VA.S41CcMJT2bcd8R4-qXZWH1PoHWNtG2PZ   \n",
       "1040  predictsSensitivityTo  ga4gh:VA.S41CcMJT2bcd8R4-qXZWH1PoHWNtG2PZ   \n",
       "1041  predictsSensitivityTo  ga4gh:VA.udBCHwlrf8xNiRy_19bLi-h5LhnZLgCt   \n",
       "\n",
       "                                            obj        qualifier  \\\n",
       "0                                  rxcui:337525       ncit:C2926   \n",
       "1                                 rxcui:1147220       ncit:C3510   \n",
       "2                                 rxcui:1721560       ncit:C2926   \n",
       "3                                 rxcui:1721560       ncit:C2926   \n",
       "4                                  rxcui:337525       ncit:C2926   \n",
       "...                                         ...              ...   \n",
       "1037                              rxcui:1364347       ncit:C3174   \n",
       "1038                               ncit:C106254  oncotree:LGGNOS   \n",
       "1039                               rxcui:337525       ncit:C2926   \n",
       "1040                               rxcui:328134       ncit:C2926   \n",
       "1041  moa.ctid:5e89NyyfMGR167xjfPQC_QJBxBI9OYZx       ncit:C5105   \n",
       "\n",
       "                                         statement_full  \\\n",
       "0     ga4gh:VA.sMA9h8fzDi0RvweMlxtD0_Oi8B-JZ1V- pred...   \n",
       "1     ga4gh:VA.j4XnsLZcdzDIYa5pvvXM7t1wn9OITr0L pred...   \n",
       "2     ga4gh:VA.sMA9h8fzDi0RvweMlxtD0_Oi8B-JZ1V- pred...   \n",
       "3     ga4gh:VA.sMA9h8fzDi0RvweMlxtD0_Oi8B-JZ1V- pred...   \n",
       "4     ga4gh:VA.S41CcMJT2bcd8R4-qXZWH1PoHWNtG2PZ pred...   \n",
       "...                                                 ...   \n",
       "1037  ga4gh:VA.D6NzpWXKqBnbcZZrXNSXj4tMUwROKbsQ pred...   \n",
       "1038  ga4gh:VA.pfWn9x9oFBRzGda1xXcOrE-BrX0R__N8 pred...   \n",
       "1039  ga4gh:VA.S41CcMJT2bcd8R4-qXZWH1PoHWNtG2PZ pred...   \n",
       "1040  ga4gh:VA.S41CcMJT2bcd8R4-qXZWH1PoHWNtG2PZ pred...   \n",
       "1041  ga4gh:VA.udBCHwlrf8xNiRy_19bLi-h5LhnZLgCt pred...   \n",
       "\n",
       "     evidence_strength_code        evidence_strength  \n",
       "0                   e000001   authoritative evidence  \n",
       "1                   e000001   authoritative evidence  \n",
       "2                   e000001   authoritative evidence  \n",
       "3                   e000001   authoritative evidence  \n",
       "4                   e000001   authoritative evidence  \n",
       "...                     ...                      ...  \n",
       "1037                e000002  FDA recognized evidence  \n",
       "1038                e000002  FDA recognized evidence  \n",
       "1039                e000002  FDA recognized evidence  \n",
       "1040                e000002  FDA recognized evidence  \n",
       "1041                e000002  FDA recognized evidence  \n",
       "\n",
       "[1042 rows x 9 columns]"
      ]
     },
     "execution_count": 53,
     "metadata": {},
     "output_type": "execute_result"
    }
   ],
   "source": [
    "df"
   ]
  },
  {
   "cell_type": "code",
   "execution_count": 56,
   "metadata": {},
   "outputs": [
    {
     "data": {
      "text/html": [
       "<div>\n",
       "<style scoped>\n",
       "    .dataframe tbody tr th:only-of-type {\n",
       "        vertical-align: middle;\n",
       "    }\n",
       "\n",
       "    .dataframe tbody tr th {\n",
       "        vertical-align: top;\n",
       "    }\n",
       "\n",
       "    .dataframe thead th {\n",
       "        text-align: right;\n",
       "    }\n",
       "</style>\n",
       "<table border=\"1\" class=\"dataframe\">\n",
       "  <thead>\n",
       "    <tr style=\"text-align: right;\">\n",
       "      <th></th>\n",
       "      <th>id</th>\n",
       "      <th>description</th>\n",
       "      <th>predicate</th>\n",
       "      <th>subject</th>\n",
       "      <th>obj</th>\n",
       "      <th>qualifier</th>\n",
       "      <th>statement_full</th>\n",
       "      <th>evidence_strength_code</th>\n",
       "      <th>evidence_strength</th>\n",
       "      <th>counts</th>\n",
       "    </tr>\n",
       "  </thead>\n",
       "  <tbody>\n",
       "    <tr>\n",
       "      <th>0</th>\n",
       "      <td>civic.eid:238</td>\n",
       "      <td>The T790M mutation in EGFR has been shown to c...</td>\n",
       "      <td>predictsResistanceTo</td>\n",
       "      <td>ga4gh:VA.sMA9h8fzDi0RvweMlxtD0_Oi8B-JZ1V-</td>\n",
       "      <td>rxcui:337525</td>\n",
       "      <td>ncit:C2926</td>\n",
       "      <td>ga4gh:VA.sMA9h8fzDi0RvweMlxtD0_Oi8B-JZ1V- pred...</td>\n",
       "      <td>e000001</td>\n",
       "      <td>authoritative evidence</td>\n",
       "      <td>2</td>\n",
       "    </tr>\n",
       "    <tr>\n",
       "      <th>1</th>\n",
       "      <td>civic.eid:1409</td>\n",
       "      <td>Phase 3 randomized clinical trial comparing ve...</td>\n",
       "      <td>predictsSensitivityTo</td>\n",
       "      <td>ga4gh:VA.j4XnsLZcdzDIYa5pvvXM7t1wn9OITr0L</td>\n",
       "      <td>rxcui:1147220</td>\n",
       "      <td>ncit:C3510</td>\n",
       "      <td>ga4gh:VA.j4XnsLZcdzDIYa5pvvXM7t1wn9OITr0L pred...</td>\n",
       "      <td>e000001</td>\n",
       "      <td>authoritative evidence</td>\n",
       "      <td>2</td>\n",
       "    </tr>\n",
       "    <tr>\n",
       "      <th>2</th>\n",
       "      <td>civic.eid:1592</td>\n",
       "      <td>Osimertinib has been approved for the treatmen...</td>\n",
       "      <td>predictsSensitivityTo</td>\n",
       "      <td>ga4gh:VA.sMA9h8fzDi0RvweMlxtD0_Oi8B-JZ1V-</td>\n",
       "      <td>rxcui:1721560</td>\n",
       "      <td>ncit:C2926</td>\n",
       "      <td>ga4gh:VA.sMA9h8fzDi0RvweMlxtD0_Oi8B-JZ1V- pred...</td>\n",
       "      <td>e000001</td>\n",
       "      <td>authoritative evidence</td>\n",
       "      <td>8</td>\n",
       "    </tr>\n",
       "    <tr>\n",
       "      <th>3</th>\n",
       "      <td>civic.eid:1867</td>\n",
       "      <td>Randomized, international, open-label, phase 3...</td>\n",
       "      <td>predictsSensitivityTo</td>\n",
       "      <td>ga4gh:VA.sMA9h8fzDi0RvweMlxtD0_Oi8B-JZ1V-</td>\n",
       "      <td>rxcui:1721560</td>\n",
       "      <td>ncit:C2926</td>\n",
       "      <td>ga4gh:VA.sMA9h8fzDi0RvweMlxtD0_Oi8B-JZ1V- pred...</td>\n",
       "      <td>e000001</td>\n",
       "      <td>authoritative evidence</td>\n",
       "      <td>8</td>\n",
       "    </tr>\n",
       "    <tr>\n",
       "      <th>4</th>\n",
       "      <td>civic.eid:2994</td>\n",
       "      <td>On May 14, 2013, the U.S. Food and Drug Admini...</td>\n",
       "      <td>predictsSensitivityTo</td>\n",
       "      <td>ga4gh:VA.S41CcMJT2bcd8R4-qXZWH1PoHWNtG2PZ</td>\n",
       "      <td>rxcui:337525</td>\n",
       "      <td>ncit:C2926</td>\n",
       "      <td>ga4gh:VA.S41CcMJT2bcd8R4-qXZWH1PoHWNtG2PZ pred...</td>\n",
       "      <td>e000001</td>\n",
       "      <td>authoritative evidence</td>\n",
       "      <td>7</td>\n",
       "    </tr>\n",
       "    <tr>\n",
       "      <th>...</th>\n",
       "      <td>...</td>\n",
       "      <td>...</td>\n",
       "      <td>...</td>\n",
       "      <td>...</td>\n",
       "      <td>...</td>\n",
       "      <td>...</td>\n",
       "      <td>...</td>\n",
       "      <td>...</td>\n",
       "      <td>...</td>\n",
       "      <td>...</td>\n",
       "    </tr>\n",
       "    <tr>\n",
       "      <th>1037</th>\n",
       "      <td>moa.assertion:961</td>\n",
       "      <td>The U.S. Food and Drug Administration (FDA) gr...</td>\n",
       "      <td>predictsSensitivityTo</td>\n",
       "      <td>ga4gh:VA.D6NzpWXKqBnbcZZrXNSXj4tMUwROKbsQ</td>\n",
       "      <td>rxcui:1364347</td>\n",
       "      <td>ncit:C3174</td>\n",
       "      <td>ga4gh:VA.D6NzpWXKqBnbcZZrXNSXj4tMUwROKbsQ pred...</td>\n",
       "      <td>e000002</td>\n",
       "      <td>FDA recognized evidence</td>\n",
       "      <td>1</td>\n",
       "    </tr>\n",
       "    <tr>\n",
       "      <th>1038</th>\n",
       "      <td>moa.assertion:963</td>\n",
       "      <td>The U.S. Food and Drug Administration (FDA) gr...</td>\n",
       "      <td>predictsSensitivityTo</td>\n",
       "      <td>ga4gh:VA.pfWn9x9oFBRzGda1xXcOrE-BrX0R__N8</td>\n",
       "      <td>ncit:C106254</td>\n",
       "      <td>oncotree:LGGNOS</td>\n",
       "      <td>ga4gh:VA.pfWn9x9oFBRzGda1xXcOrE-BrX0R__N8 pred...</td>\n",
       "      <td>e000002</td>\n",
       "      <td>FDA recognized evidence</td>\n",
       "      <td>1</td>\n",
       "    </tr>\n",
       "    <tr>\n",
       "      <th>1039</th>\n",
       "      <td>moa.assertion:967</td>\n",
       "      <td>The U.S. Food and Drug Administration (FDA) gr...</td>\n",
       "      <td>predictsSensitivityTo</td>\n",
       "      <td>ga4gh:VA.S41CcMJT2bcd8R4-qXZWH1PoHWNtG2PZ</td>\n",
       "      <td>rxcui:337525</td>\n",
       "      <td>ncit:C2926</td>\n",
       "      <td>ga4gh:VA.S41CcMJT2bcd8R4-qXZWH1PoHWNtG2PZ pred...</td>\n",
       "      <td>e000002</td>\n",
       "      <td>FDA recognized evidence</td>\n",
       "      <td>7</td>\n",
       "    </tr>\n",
       "    <tr>\n",
       "      <th>1040</th>\n",
       "      <td>moa.assertion:969</td>\n",
       "      <td>The U.S. Food and Drug Administration (FDA) gr...</td>\n",
       "      <td>predictsSensitivityTo</td>\n",
       "      <td>ga4gh:VA.S41CcMJT2bcd8R4-qXZWH1PoHWNtG2PZ</td>\n",
       "      <td>rxcui:328134</td>\n",
       "      <td>ncit:C2926</td>\n",
       "      <td>ga4gh:VA.S41CcMJT2bcd8R4-qXZWH1PoHWNtG2PZ pred...</td>\n",
       "      <td>e000002</td>\n",
       "      <td>FDA recognized evidence</td>\n",
       "      <td>4</td>\n",
       "    </tr>\n",
       "    <tr>\n",
       "      <th>1041</th>\n",
       "      <td>moa.assertion:973</td>\n",
       "      <td>The U.S. Food and Drug Administration (FDA) gr...</td>\n",
       "      <td>predictsSensitivityTo</td>\n",
       "      <td>ga4gh:VA.udBCHwlrf8xNiRy_19bLi-h5LhnZLgCt</td>\n",
       "      <td>moa.ctid:5e89NyyfMGR167xjfPQC_QJBxBI9OYZx</td>\n",
       "      <td>ncit:C5105</td>\n",
       "      <td>ga4gh:VA.udBCHwlrf8xNiRy_19bLi-h5LhnZLgCt pred...</td>\n",
       "      <td>e000002</td>\n",
       "      <td>FDA recognized evidence</td>\n",
       "      <td>1</td>\n",
       "    </tr>\n",
       "  </tbody>\n",
       "</table>\n",
       "<p>1042 rows × 10 columns</p>\n",
       "</div>"
      ],
      "text/plain": [
       "                     id                                        description  \\\n",
       "0         civic.eid:238  The T790M mutation in EGFR has been shown to c...   \n",
       "1        civic.eid:1409  Phase 3 randomized clinical trial comparing ve...   \n",
       "2        civic.eid:1592  Osimertinib has been approved for the treatmen...   \n",
       "3        civic.eid:1867  Randomized, international, open-label, phase 3...   \n",
       "4        civic.eid:2994  On May 14, 2013, the U.S. Food and Drug Admini...   \n",
       "...                 ...                                                ...   \n",
       "1037  moa.assertion:961  The U.S. Food and Drug Administration (FDA) gr...   \n",
       "1038  moa.assertion:963  The U.S. Food and Drug Administration (FDA) gr...   \n",
       "1039  moa.assertion:967  The U.S. Food and Drug Administration (FDA) gr...   \n",
       "1040  moa.assertion:969  The U.S. Food and Drug Administration (FDA) gr...   \n",
       "1041  moa.assertion:973  The U.S. Food and Drug Administration (FDA) gr...   \n",
       "\n",
       "                  predicate                                    subject  \\\n",
       "0      predictsResistanceTo  ga4gh:VA.sMA9h8fzDi0RvweMlxtD0_Oi8B-JZ1V-   \n",
       "1     predictsSensitivityTo  ga4gh:VA.j4XnsLZcdzDIYa5pvvXM7t1wn9OITr0L   \n",
       "2     predictsSensitivityTo  ga4gh:VA.sMA9h8fzDi0RvweMlxtD0_Oi8B-JZ1V-   \n",
       "3     predictsSensitivityTo  ga4gh:VA.sMA9h8fzDi0RvweMlxtD0_Oi8B-JZ1V-   \n",
       "4     predictsSensitivityTo  ga4gh:VA.S41CcMJT2bcd8R4-qXZWH1PoHWNtG2PZ   \n",
       "...                     ...                                        ...   \n",
       "1037  predictsSensitivityTo  ga4gh:VA.D6NzpWXKqBnbcZZrXNSXj4tMUwROKbsQ   \n",
       "1038  predictsSensitivityTo  ga4gh:VA.pfWn9x9oFBRzGda1xXcOrE-BrX0R__N8   \n",
       "1039  predictsSensitivityTo  ga4gh:VA.S41CcMJT2bcd8R4-qXZWH1PoHWNtG2PZ   \n",
       "1040  predictsSensitivityTo  ga4gh:VA.S41CcMJT2bcd8R4-qXZWH1PoHWNtG2PZ   \n",
       "1041  predictsSensitivityTo  ga4gh:VA.udBCHwlrf8xNiRy_19bLi-h5LhnZLgCt   \n",
       "\n",
       "                                            obj        qualifier  \\\n",
       "0                                  rxcui:337525       ncit:C2926   \n",
       "1                                 rxcui:1147220       ncit:C3510   \n",
       "2                                 rxcui:1721560       ncit:C2926   \n",
       "3                                 rxcui:1721560       ncit:C2926   \n",
       "4                                  rxcui:337525       ncit:C2926   \n",
       "...                                         ...              ...   \n",
       "1037                              rxcui:1364347       ncit:C3174   \n",
       "1038                               ncit:C106254  oncotree:LGGNOS   \n",
       "1039                               rxcui:337525       ncit:C2926   \n",
       "1040                               rxcui:328134       ncit:C2926   \n",
       "1041  moa.ctid:5e89NyyfMGR167xjfPQC_QJBxBI9OYZx       ncit:C5105   \n",
       "\n",
       "                                         statement_full  \\\n",
       "0     ga4gh:VA.sMA9h8fzDi0RvweMlxtD0_Oi8B-JZ1V- pred...   \n",
       "1     ga4gh:VA.j4XnsLZcdzDIYa5pvvXM7t1wn9OITr0L pred...   \n",
       "2     ga4gh:VA.sMA9h8fzDi0RvweMlxtD0_Oi8B-JZ1V- pred...   \n",
       "3     ga4gh:VA.sMA9h8fzDi0RvweMlxtD0_Oi8B-JZ1V- pred...   \n",
       "4     ga4gh:VA.S41CcMJT2bcd8R4-qXZWH1PoHWNtG2PZ pred...   \n",
       "...                                                 ...   \n",
       "1037  ga4gh:VA.D6NzpWXKqBnbcZZrXNSXj4tMUwROKbsQ pred...   \n",
       "1038  ga4gh:VA.pfWn9x9oFBRzGda1xXcOrE-BrX0R__N8 pred...   \n",
       "1039  ga4gh:VA.S41CcMJT2bcd8R4-qXZWH1PoHWNtG2PZ pred...   \n",
       "1040  ga4gh:VA.S41CcMJT2bcd8R4-qXZWH1PoHWNtG2PZ pred...   \n",
       "1041  ga4gh:VA.udBCHwlrf8xNiRy_19bLi-h5LhnZLgCt pred...   \n",
       "\n",
       "     evidence_strength_code        evidence_strength counts  \n",
       "0                   e000001   authoritative evidence      2  \n",
       "1                   e000001   authoritative evidence      2  \n",
       "2                   e000001   authoritative evidence      8  \n",
       "3                   e000001   authoritative evidence      8  \n",
       "4                   e000001   authoritative evidence      7  \n",
       "...                     ...                      ...    ...  \n",
       "1037                e000002  FDA recognized evidence      1  \n",
       "1038                e000002  FDA recognized evidence      1  \n",
       "1039                e000002  FDA recognized evidence      7  \n",
       "1040                e000002  FDA recognized evidence      4  \n",
       "1041                e000002  FDA recognized evidence      1  \n",
       "\n",
       "[1042 rows x 10 columns]"
      ]
     },
     "execution_count": 56,
     "metadata": {},
     "output_type": "execute_result"
    }
   ],
   "source": [
    "df['counts'] = None\n",
    "\n",
    "for idx, row in df.iterrows():\n",
    "    tdf = df[df['statement_full']==row['statement_full']]\n",
    "    df.at[idx,'counts'] = len(tdf)\n",
    "\n",
    "df\n",
    "\n"
   ]
  },
  {
   "cell_type": "code",
   "execution_count": 64,
   "metadata": {},
   "outputs": [
    {
     "data": {
      "text/html": [
       "<div>\n",
       "<style scoped>\n",
       "    .dataframe tbody tr th:only-of-type {\n",
       "        vertical-align: middle;\n",
       "    }\n",
       "\n",
       "    .dataframe tbody tr th {\n",
       "        vertical-align: top;\n",
       "    }\n",
       "\n",
       "    .dataframe thead th {\n",
       "        text-align: right;\n",
       "    }\n",
       "</style>\n",
       "<table border=\"1\" class=\"dataframe\">\n",
       "  <thead>\n",
       "    <tr style=\"text-align: right;\">\n",
       "      <th></th>\n",
       "      <th>id</th>\n",
       "      <th>description</th>\n",
       "      <th>predicate</th>\n",
       "      <th>subject</th>\n",
       "      <th>obj</th>\n",
       "      <th>qualifier</th>\n",
       "      <th>statement_full</th>\n",
       "      <th>evidence_strength_code</th>\n",
       "      <th>evidence_strength</th>\n",
       "      <th>counts</th>\n",
       "      <th>evidences_cross</th>\n",
       "    </tr>\n",
       "  </thead>\n",
       "  <tbody>\n",
       "    <tr>\n",
       "      <th>0</th>\n",
       "      <td>civic.eid:238</td>\n",
       "      <td>The T790M mutation in EGFR has been shown to c...</td>\n",
       "      <td>predictsResistanceTo</td>\n",
       "      <td>ga4gh:VA.sMA9h8fzDi0RvweMlxtD0_Oi8B-JZ1V-</td>\n",
       "      <td>rxcui:337525</td>\n",
       "      <td>ncit:C2926</td>\n",
       "      <td>ga4gh:VA.sMA9h8fzDi0RvweMlxtD0_Oi8B-JZ1V- pred...</td>\n",
       "      <td>e000001</td>\n",
       "      <td>authoritative evidence</td>\n",
       "      <td>2</td>\n",
       "      <td>[authoritative evidence, observational study e...</td>\n",
       "    </tr>\n",
       "    <tr>\n",
       "      <th>1</th>\n",
       "      <td>civic.eid:1409</td>\n",
       "      <td>Phase 3 randomized clinical trial comparing ve...</td>\n",
       "      <td>predictsSensitivityTo</td>\n",
       "      <td>ga4gh:VA.j4XnsLZcdzDIYa5pvvXM7t1wn9OITr0L</td>\n",
       "      <td>rxcui:1147220</td>\n",
       "      <td>ncit:C3510</td>\n",
       "      <td>ga4gh:VA.j4XnsLZcdzDIYa5pvvXM7t1wn9OITr0L pred...</td>\n",
       "      <td>e000001</td>\n",
       "      <td>authoritative evidence</td>\n",
       "      <td>2</td>\n",
       "      <td>[authoritative evidence, clinical cohort evide...</td>\n",
       "    </tr>\n",
       "    <tr>\n",
       "      <th>2</th>\n",
       "      <td>civic.eid:1592</td>\n",
       "      <td>Osimertinib has been approved for the treatmen...</td>\n",
       "      <td>predictsSensitivityTo</td>\n",
       "      <td>ga4gh:VA.sMA9h8fzDi0RvweMlxtD0_Oi8B-JZ1V-</td>\n",
       "      <td>rxcui:1721560</td>\n",
       "      <td>ncit:C2926</td>\n",
       "      <td>ga4gh:VA.sMA9h8fzDi0RvweMlxtD0_Oi8B-JZ1V- pred...</td>\n",
       "      <td>e000001</td>\n",
       "      <td>authoritative evidence</td>\n",
       "      <td>8</td>\n",
       "      <td>[authoritative evidence, authoritative evidenc...</td>\n",
       "    </tr>\n",
       "    <tr>\n",
       "      <th>3</th>\n",
       "      <td>civic.eid:1867</td>\n",
       "      <td>Randomized, international, open-label, phase 3...</td>\n",
       "      <td>predictsSensitivityTo</td>\n",
       "      <td>ga4gh:VA.sMA9h8fzDi0RvweMlxtD0_Oi8B-JZ1V-</td>\n",
       "      <td>rxcui:1721560</td>\n",
       "      <td>ncit:C2926</td>\n",
       "      <td>ga4gh:VA.sMA9h8fzDi0RvweMlxtD0_Oi8B-JZ1V- pred...</td>\n",
       "      <td>e000001</td>\n",
       "      <td>authoritative evidence</td>\n",
       "      <td>8</td>\n",
       "      <td>[authoritative evidence, authoritative evidenc...</td>\n",
       "    </tr>\n",
       "    <tr>\n",
       "      <th>4</th>\n",
       "      <td>civic.eid:2994</td>\n",
       "      <td>On May 14, 2013, the U.S. Food and Drug Admini...</td>\n",
       "      <td>predictsSensitivityTo</td>\n",
       "      <td>ga4gh:VA.S41CcMJT2bcd8R4-qXZWH1PoHWNtG2PZ</td>\n",
       "      <td>rxcui:337525</td>\n",
       "      <td>ncit:C2926</td>\n",
       "      <td>ga4gh:VA.S41CcMJT2bcd8R4-qXZWH1PoHWNtG2PZ pred...</td>\n",
       "      <td>e000001</td>\n",
       "      <td>authoritative evidence</td>\n",
       "      <td>7</td>\n",
       "      <td>[authoritative evidence, clinical cohort evide...</td>\n",
       "    </tr>\n",
       "    <tr>\n",
       "      <th>...</th>\n",
       "      <td>...</td>\n",
       "      <td>...</td>\n",
       "      <td>...</td>\n",
       "      <td>...</td>\n",
       "      <td>...</td>\n",
       "      <td>...</td>\n",
       "      <td>...</td>\n",
       "      <td>...</td>\n",
       "      <td>...</td>\n",
       "      <td>...</td>\n",
       "      <td>...</td>\n",
       "    </tr>\n",
       "    <tr>\n",
       "      <th>1037</th>\n",
       "      <td>moa.assertion:961</td>\n",
       "      <td>The U.S. Food and Drug Administration (FDA) gr...</td>\n",
       "      <td>predictsSensitivityTo</td>\n",
       "      <td>ga4gh:VA.D6NzpWXKqBnbcZZrXNSXj4tMUwROKbsQ</td>\n",
       "      <td>rxcui:1364347</td>\n",
       "      <td>ncit:C3174</td>\n",
       "      <td>ga4gh:VA.D6NzpWXKqBnbcZZrXNSXj4tMUwROKbsQ pred...</td>\n",
       "      <td>e000002</td>\n",
       "      <td>FDA recognized evidence</td>\n",
       "      <td>1</td>\n",
       "      <td>[FDA recognized evidence]</td>\n",
       "    </tr>\n",
       "    <tr>\n",
       "      <th>1038</th>\n",
       "      <td>moa.assertion:963</td>\n",
       "      <td>The U.S. Food and Drug Administration (FDA) gr...</td>\n",
       "      <td>predictsSensitivityTo</td>\n",
       "      <td>ga4gh:VA.pfWn9x9oFBRzGda1xXcOrE-BrX0R__N8</td>\n",
       "      <td>ncit:C106254</td>\n",
       "      <td>oncotree:LGGNOS</td>\n",
       "      <td>ga4gh:VA.pfWn9x9oFBRzGda1xXcOrE-BrX0R__N8 pred...</td>\n",
       "      <td>e000002</td>\n",
       "      <td>FDA recognized evidence</td>\n",
       "      <td>1</td>\n",
       "      <td>[FDA recognized evidence]</td>\n",
       "    </tr>\n",
       "    <tr>\n",
       "      <th>1039</th>\n",
       "      <td>moa.assertion:967</td>\n",
       "      <td>The U.S. Food and Drug Administration (FDA) gr...</td>\n",
       "      <td>predictsSensitivityTo</td>\n",
       "      <td>ga4gh:VA.S41CcMJT2bcd8R4-qXZWH1PoHWNtG2PZ</td>\n",
       "      <td>rxcui:337525</td>\n",
       "      <td>ncit:C2926</td>\n",
       "      <td>ga4gh:VA.S41CcMJT2bcd8R4-qXZWH1PoHWNtG2PZ pred...</td>\n",
       "      <td>e000002</td>\n",
       "      <td>FDA recognized evidence</td>\n",
       "      <td>7</td>\n",
       "      <td>[authoritative evidence, clinical cohort evide...</td>\n",
       "    </tr>\n",
       "    <tr>\n",
       "      <th>1040</th>\n",
       "      <td>moa.assertion:969</td>\n",
       "      <td>The U.S. Food and Drug Administration (FDA) gr...</td>\n",
       "      <td>predictsSensitivityTo</td>\n",
       "      <td>ga4gh:VA.S41CcMJT2bcd8R4-qXZWH1PoHWNtG2PZ</td>\n",
       "      <td>rxcui:328134</td>\n",
       "      <td>ncit:C2926</td>\n",
       "      <td>ga4gh:VA.S41CcMJT2bcd8R4-qXZWH1PoHWNtG2PZ pred...</td>\n",
       "      <td>e000002</td>\n",
       "      <td>FDA recognized evidence</td>\n",
       "      <td>4</td>\n",
       "      <td>[clinical cohort evidence, clinical cohort evi...</td>\n",
       "    </tr>\n",
       "    <tr>\n",
       "      <th>1041</th>\n",
       "      <td>moa.assertion:973</td>\n",
       "      <td>The U.S. Food and Drug Administration (FDA) gr...</td>\n",
       "      <td>predictsSensitivityTo</td>\n",
       "      <td>ga4gh:VA.udBCHwlrf8xNiRy_19bLi-h5LhnZLgCt</td>\n",
       "      <td>moa.ctid:5e89NyyfMGR167xjfPQC_QJBxBI9OYZx</td>\n",
       "      <td>ncit:C5105</td>\n",
       "      <td>ga4gh:VA.udBCHwlrf8xNiRy_19bLi-h5LhnZLgCt pred...</td>\n",
       "      <td>e000002</td>\n",
       "      <td>FDA recognized evidence</td>\n",
       "      <td>1</td>\n",
       "      <td>[FDA recognized evidence]</td>\n",
       "    </tr>\n",
       "  </tbody>\n",
       "</table>\n",
       "<p>1042 rows × 11 columns</p>\n",
       "</div>"
      ],
      "text/plain": [
       "                     id                                        description  \\\n",
       "0         civic.eid:238  The T790M mutation in EGFR has been shown to c...   \n",
       "1        civic.eid:1409  Phase 3 randomized clinical trial comparing ve...   \n",
       "2        civic.eid:1592  Osimertinib has been approved for the treatmen...   \n",
       "3        civic.eid:1867  Randomized, international, open-label, phase 3...   \n",
       "4        civic.eid:2994  On May 14, 2013, the U.S. Food and Drug Admini...   \n",
       "...                 ...                                                ...   \n",
       "1037  moa.assertion:961  The U.S. Food and Drug Administration (FDA) gr...   \n",
       "1038  moa.assertion:963  The U.S. Food and Drug Administration (FDA) gr...   \n",
       "1039  moa.assertion:967  The U.S. Food and Drug Administration (FDA) gr...   \n",
       "1040  moa.assertion:969  The U.S. Food and Drug Administration (FDA) gr...   \n",
       "1041  moa.assertion:973  The U.S. Food and Drug Administration (FDA) gr...   \n",
       "\n",
       "                  predicate                                    subject  \\\n",
       "0      predictsResistanceTo  ga4gh:VA.sMA9h8fzDi0RvweMlxtD0_Oi8B-JZ1V-   \n",
       "1     predictsSensitivityTo  ga4gh:VA.j4XnsLZcdzDIYa5pvvXM7t1wn9OITr0L   \n",
       "2     predictsSensitivityTo  ga4gh:VA.sMA9h8fzDi0RvweMlxtD0_Oi8B-JZ1V-   \n",
       "3     predictsSensitivityTo  ga4gh:VA.sMA9h8fzDi0RvweMlxtD0_Oi8B-JZ1V-   \n",
       "4     predictsSensitivityTo  ga4gh:VA.S41CcMJT2bcd8R4-qXZWH1PoHWNtG2PZ   \n",
       "...                     ...                                        ...   \n",
       "1037  predictsSensitivityTo  ga4gh:VA.D6NzpWXKqBnbcZZrXNSXj4tMUwROKbsQ   \n",
       "1038  predictsSensitivityTo  ga4gh:VA.pfWn9x9oFBRzGda1xXcOrE-BrX0R__N8   \n",
       "1039  predictsSensitivityTo  ga4gh:VA.S41CcMJT2bcd8R4-qXZWH1PoHWNtG2PZ   \n",
       "1040  predictsSensitivityTo  ga4gh:VA.S41CcMJT2bcd8R4-qXZWH1PoHWNtG2PZ   \n",
       "1041  predictsSensitivityTo  ga4gh:VA.udBCHwlrf8xNiRy_19bLi-h5LhnZLgCt   \n",
       "\n",
       "                                            obj        qualifier  \\\n",
       "0                                  rxcui:337525       ncit:C2926   \n",
       "1                                 rxcui:1147220       ncit:C3510   \n",
       "2                                 rxcui:1721560       ncit:C2926   \n",
       "3                                 rxcui:1721560       ncit:C2926   \n",
       "4                                  rxcui:337525       ncit:C2926   \n",
       "...                                         ...              ...   \n",
       "1037                              rxcui:1364347       ncit:C3174   \n",
       "1038                               ncit:C106254  oncotree:LGGNOS   \n",
       "1039                               rxcui:337525       ncit:C2926   \n",
       "1040                               rxcui:328134       ncit:C2926   \n",
       "1041  moa.ctid:5e89NyyfMGR167xjfPQC_QJBxBI9OYZx       ncit:C5105   \n",
       "\n",
       "                                         statement_full  \\\n",
       "0     ga4gh:VA.sMA9h8fzDi0RvweMlxtD0_Oi8B-JZ1V- pred...   \n",
       "1     ga4gh:VA.j4XnsLZcdzDIYa5pvvXM7t1wn9OITr0L pred...   \n",
       "2     ga4gh:VA.sMA9h8fzDi0RvweMlxtD0_Oi8B-JZ1V- pred...   \n",
       "3     ga4gh:VA.sMA9h8fzDi0RvweMlxtD0_Oi8B-JZ1V- pred...   \n",
       "4     ga4gh:VA.S41CcMJT2bcd8R4-qXZWH1PoHWNtG2PZ pred...   \n",
       "...                                                 ...   \n",
       "1037  ga4gh:VA.D6NzpWXKqBnbcZZrXNSXj4tMUwROKbsQ pred...   \n",
       "1038  ga4gh:VA.pfWn9x9oFBRzGda1xXcOrE-BrX0R__N8 pred...   \n",
       "1039  ga4gh:VA.S41CcMJT2bcd8R4-qXZWH1PoHWNtG2PZ pred...   \n",
       "1040  ga4gh:VA.S41CcMJT2bcd8R4-qXZWH1PoHWNtG2PZ pred...   \n",
       "1041  ga4gh:VA.udBCHwlrf8xNiRy_19bLi-h5LhnZLgCt pred...   \n",
       "\n",
       "     evidence_strength_code        evidence_strength counts  \\\n",
       "0                   e000001   authoritative evidence      2   \n",
       "1                   e000001   authoritative evidence      2   \n",
       "2                   e000001   authoritative evidence      8   \n",
       "3                   e000001   authoritative evidence      8   \n",
       "4                   e000001   authoritative evidence      7   \n",
       "...                     ...                      ...    ...   \n",
       "1037                e000002  FDA recognized evidence      1   \n",
       "1038                e000002  FDA recognized evidence      1   \n",
       "1039                e000002  FDA recognized evidence      7   \n",
       "1040                e000002  FDA recognized evidence      4   \n",
       "1041                e000002  FDA recognized evidence      1   \n",
       "\n",
       "                                        evidences_cross  \n",
       "0     [authoritative evidence, observational study e...  \n",
       "1     [authoritative evidence, clinical cohort evide...  \n",
       "2     [authoritative evidence, authoritative evidenc...  \n",
       "3     [authoritative evidence, authoritative evidenc...  \n",
       "4     [authoritative evidence, clinical cohort evide...  \n",
       "...                                                 ...  \n",
       "1037                          [FDA recognized evidence]  \n",
       "1038                          [FDA recognized evidence]  \n",
       "1039  [authoritative evidence, clinical cohort evide...  \n",
       "1040  [clinical cohort evidence, clinical cohort evi...  \n",
       "1041                          [FDA recognized evidence]  \n",
       "\n",
       "[1042 rows x 11 columns]"
      ]
     },
     "execution_count": 64,
     "metadata": {},
     "output_type": "execute_result"
    }
   ],
   "source": [
    "df['evidences_cross'] = None\n",
    "\n",
    "for idx, row in df.iterrows():\n",
    "    tdf = df[df['statement_full']==row['statement_full']]\n",
    "    df.at[idx,'evidences_cross'] = list(tdf['evidence_strength'])\n",
    "\n",
    "df\n"
   ]
  },
  {
   "cell_type": "code",
   "execution_count": 69,
   "metadata": {},
   "outputs": [
    {
     "data": {
      "text/html": [
       "<div>\n",
       "<style scoped>\n",
       "    .dataframe tbody tr th:only-of-type {\n",
       "        vertical-align: middle;\n",
       "    }\n",
       "\n",
       "    .dataframe tbody tr th {\n",
       "        vertical-align: top;\n",
       "    }\n",
       "\n",
       "    .dataframe thead th {\n",
       "        text-align: right;\n",
       "    }\n",
       "</style>\n",
       "<table border=\"1\" class=\"dataframe\">\n",
       "  <thead>\n",
       "    <tr style=\"text-align: right;\">\n",
       "      <th></th>\n",
       "      <th>id</th>\n",
       "      <th>description</th>\n",
       "      <th>predicate</th>\n",
       "      <th>subject</th>\n",
       "      <th>obj</th>\n",
       "      <th>qualifier</th>\n",
       "      <th>statement_full</th>\n",
       "      <th>evidence_strength_code</th>\n",
       "      <th>evidence_strength</th>\n",
       "      <th>counts</th>\n",
       "      <th>evidences_cross</th>\n",
       "    </tr>\n",
       "  </thead>\n",
       "  <tbody>\n",
       "    <tr>\n",
       "      <th>0</th>\n",
       "      <td>civic.eid:238</td>\n",
       "      <td>The T790M mutation in EGFR has been shown to c...</td>\n",
       "      <td>predictsResistanceTo</td>\n",
       "      <td>ga4gh:VA.sMA9h8fzDi0RvweMlxtD0_Oi8B-JZ1V-</td>\n",
       "      <td>rxcui:337525</td>\n",
       "      <td>ncit:C2926</td>\n",
       "      <td>ga4gh:VA.sMA9h8fzDi0RvweMlxtD0_Oi8B-JZ1V- pred...</td>\n",
       "      <td>e000001</td>\n",
       "      <td>authoritative evidence</td>\n",
       "      <td>2</td>\n",
       "      <td>[authoritative evidence, observational study e...</td>\n",
       "    </tr>\n",
       "    <tr>\n",
       "      <th>1</th>\n",
       "      <td>civic.eid:1409</td>\n",
       "      <td>Phase 3 randomized clinical trial comparing ve...</td>\n",
       "      <td>predictsSensitivityTo</td>\n",
       "      <td>ga4gh:VA.j4XnsLZcdzDIYa5pvvXM7t1wn9OITr0L</td>\n",
       "      <td>rxcui:1147220</td>\n",
       "      <td>ncit:C3510</td>\n",
       "      <td>ga4gh:VA.j4XnsLZcdzDIYa5pvvXM7t1wn9OITr0L pred...</td>\n",
       "      <td>e000001</td>\n",
       "      <td>authoritative evidence</td>\n",
       "      <td>2</td>\n",
       "      <td>[authoritative evidence, clinical cohort evide...</td>\n",
       "    </tr>\n",
       "    <tr>\n",
       "      <th>2</th>\n",
       "      <td>civic.eid:1592</td>\n",
       "      <td>Osimertinib has been approved for the treatmen...</td>\n",
       "      <td>predictsSensitivityTo</td>\n",
       "      <td>ga4gh:VA.sMA9h8fzDi0RvweMlxtD0_Oi8B-JZ1V-</td>\n",
       "      <td>rxcui:1721560</td>\n",
       "      <td>ncit:C2926</td>\n",
       "      <td>ga4gh:VA.sMA9h8fzDi0RvweMlxtD0_Oi8B-JZ1V- pred...</td>\n",
       "      <td>e000001</td>\n",
       "      <td>authoritative evidence</td>\n",
       "      <td>8</td>\n",
       "      <td>[authoritative evidence, authoritative evidenc...</td>\n",
       "    </tr>\n",
       "    <tr>\n",
       "      <th>3</th>\n",
       "      <td>civic.eid:1867</td>\n",
       "      <td>Randomized, international, open-label, phase 3...</td>\n",
       "      <td>predictsSensitivityTo</td>\n",
       "      <td>ga4gh:VA.sMA9h8fzDi0RvweMlxtD0_Oi8B-JZ1V-</td>\n",
       "      <td>rxcui:1721560</td>\n",
       "      <td>ncit:C2926</td>\n",
       "      <td>ga4gh:VA.sMA9h8fzDi0RvweMlxtD0_Oi8B-JZ1V- pred...</td>\n",
       "      <td>e000001</td>\n",
       "      <td>authoritative evidence</td>\n",
       "      <td>8</td>\n",
       "      <td>[authoritative evidence, authoritative evidenc...</td>\n",
       "    </tr>\n",
       "    <tr>\n",
       "      <th>4</th>\n",
       "      <td>civic.eid:2994</td>\n",
       "      <td>On May 14, 2013, the U.S. Food and Drug Admini...</td>\n",
       "      <td>predictsSensitivityTo</td>\n",
       "      <td>ga4gh:VA.S41CcMJT2bcd8R4-qXZWH1PoHWNtG2PZ</td>\n",
       "      <td>rxcui:337525</td>\n",
       "      <td>ncit:C2926</td>\n",
       "      <td>ga4gh:VA.S41CcMJT2bcd8R4-qXZWH1PoHWNtG2PZ pred...</td>\n",
       "      <td>e000001</td>\n",
       "      <td>authoritative evidence</td>\n",
       "      <td>7</td>\n",
       "      <td>[authoritative evidence, clinical cohort evide...</td>\n",
       "    </tr>\n",
       "    <tr>\n",
       "      <th>...</th>\n",
       "      <td>...</td>\n",
       "      <td>...</td>\n",
       "      <td>...</td>\n",
       "      <td>...</td>\n",
       "      <td>...</td>\n",
       "      <td>...</td>\n",
       "      <td>...</td>\n",
       "      <td>...</td>\n",
       "      <td>...</td>\n",
       "      <td>...</td>\n",
       "      <td>...</td>\n",
       "    </tr>\n",
       "    <tr>\n",
       "      <th>220</th>\n",
       "      <td>moa.assertion:813</td>\n",
       "      <td>The U.S. Food and Drug Administration (FDA) gr...</td>\n",
       "      <td>predictsSensitivityTo</td>\n",
       "      <td>ga4gh:VA.lAST62ntkEaXy6RDDOF1V4C3jd-jaAJ5</td>\n",
       "      <td>rxcui:2049873</td>\n",
       "      <td>ncit:C3171</td>\n",
       "      <td>ga4gh:VA.lAST62ntkEaXy6RDDOF1V4C3jd-jaAJ5 pred...</td>\n",
       "      <td>e000002</td>\n",
       "      <td>FDA recognized evidence</td>\n",
       "      <td>3</td>\n",
       "      <td>[clinical cohort evidence, FDA recognized evid...</td>\n",
       "    </tr>\n",
       "    <tr>\n",
       "      <th>221</th>\n",
       "      <td>moa.assertion:944</td>\n",
       "      <td>The U.S. Food and Drug Administration (FDA) ap...</td>\n",
       "      <td>predictsSensitivityTo</td>\n",
       "      <td>ga4gh:VA.j4XnsLZcdzDIYa5pvvXM7t1wn9OITr0L</td>\n",
       "      <td>rxcui:1147220</td>\n",
       "      <td>ncit:C53972</td>\n",
       "      <td>ga4gh:VA.j4XnsLZcdzDIYa5pvvXM7t1wn9OITr0L pred...</td>\n",
       "      <td>e000002</td>\n",
       "      <td>FDA recognized evidence</td>\n",
       "      <td>2</td>\n",
       "      <td>[interventional study evidence, FDA recognized...</td>\n",
       "    </tr>\n",
       "    <tr>\n",
       "      <th>222</th>\n",
       "      <td>moa.assertion:950</td>\n",
       "      <td>The U.S. Food and Drug Administration (FDA) gr...</td>\n",
       "      <td>predictsSensitivityTo</td>\n",
       "      <td>ga4gh:VA.S41CcMJT2bcd8R4-qXZWH1PoHWNtG2PZ</td>\n",
       "      <td>rxcui:1721560</td>\n",
       "      <td>ncit:C2926</td>\n",
       "      <td>ga4gh:VA.S41CcMJT2bcd8R4-qXZWH1PoHWNtG2PZ pred...</td>\n",
       "      <td>e000002</td>\n",
       "      <td>FDA recognized evidence</td>\n",
       "      <td>4</td>\n",
       "      <td>[preclinical evidence, interventional study ev...</td>\n",
       "    </tr>\n",
       "    <tr>\n",
       "      <th>223</th>\n",
       "      <td>moa.assertion:967</td>\n",
       "      <td>The U.S. Food and Drug Administration (FDA) gr...</td>\n",
       "      <td>predictsSensitivityTo</td>\n",
       "      <td>ga4gh:VA.S41CcMJT2bcd8R4-qXZWH1PoHWNtG2PZ</td>\n",
       "      <td>rxcui:337525</td>\n",
       "      <td>ncit:C2926</td>\n",
       "      <td>ga4gh:VA.S41CcMJT2bcd8R4-qXZWH1PoHWNtG2PZ pred...</td>\n",
       "      <td>e000002</td>\n",
       "      <td>FDA recognized evidence</td>\n",
       "      <td>7</td>\n",
       "      <td>[authoritative evidence, clinical cohort evide...</td>\n",
       "    </tr>\n",
       "    <tr>\n",
       "      <th>224</th>\n",
       "      <td>moa.assertion:969</td>\n",
       "      <td>The U.S. Food and Drug Administration (FDA) gr...</td>\n",
       "      <td>predictsSensitivityTo</td>\n",
       "      <td>ga4gh:VA.S41CcMJT2bcd8R4-qXZWH1PoHWNtG2PZ</td>\n",
       "      <td>rxcui:328134</td>\n",
       "      <td>ncit:C2926</td>\n",
       "      <td>ga4gh:VA.S41CcMJT2bcd8R4-qXZWH1PoHWNtG2PZ pred...</td>\n",
       "      <td>e000002</td>\n",
       "      <td>FDA recognized evidence</td>\n",
       "      <td>4</td>\n",
       "      <td>[clinical cohort evidence, clinical cohort evi...</td>\n",
       "    </tr>\n",
       "  </tbody>\n",
       "</table>\n",
       "<p>225 rows × 11 columns</p>\n",
       "</div>"
      ],
      "text/plain": [
       "                    id                                        description  \\\n",
       "0        civic.eid:238  The T790M mutation in EGFR has been shown to c...   \n",
       "1       civic.eid:1409  Phase 3 randomized clinical trial comparing ve...   \n",
       "2       civic.eid:1592  Osimertinib has been approved for the treatmen...   \n",
       "3       civic.eid:1867  Randomized, international, open-label, phase 3...   \n",
       "4       civic.eid:2994  On May 14, 2013, the U.S. Food and Drug Admini...   \n",
       "..                 ...                                                ...   \n",
       "220  moa.assertion:813  The U.S. Food and Drug Administration (FDA) gr...   \n",
       "221  moa.assertion:944  The U.S. Food and Drug Administration (FDA) ap...   \n",
       "222  moa.assertion:950  The U.S. Food and Drug Administration (FDA) gr...   \n",
       "223  moa.assertion:967  The U.S. Food and Drug Administration (FDA) gr...   \n",
       "224  moa.assertion:969  The U.S. Food and Drug Administration (FDA) gr...   \n",
       "\n",
       "                 predicate                                    subject  \\\n",
       "0     predictsResistanceTo  ga4gh:VA.sMA9h8fzDi0RvweMlxtD0_Oi8B-JZ1V-   \n",
       "1    predictsSensitivityTo  ga4gh:VA.j4XnsLZcdzDIYa5pvvXM7t1wn9OITr0L   \n",
       "2    predictsSensitivityTo  ga4gh:VA.sMA9h8fzDi0RvweMlxtD0_Oi8B-JZ1V-   \n",
       "3    predictsSensitivityTo  ga4gh:VA.sMA9h8fzDi0RvweMlxtD0_Oi8B-JZ1V-   \n",
       "4    predictsSensitivityTo  ga4gh:VA.S41CcMJT2bcd8R4-qXZWH1PoHWNtG2PZ   \n",
       "..                     ...                                        ...   \n",
       "220  predictsSensitivityTo  ga4gh:VA.lAST62ntkEaXy6RDDOF1V4C3jd-jaAJ5   \n",
       "221  predictsSensitivityTo  ga4gh:VA.j4XnsLZcdzDIYa5pvvXM7t1wn9OITr0L   \n",
       "222  predictsSensitivityTo  ga4gh:VA.S41CcMJT2bcd8R4-qXZWH1PoHWNtG2PZ   \n",
       "223  predictsSensitivityTo  ga4gh:VA.S41CcMJT2bcd8R4-qXZWH1PoHWNtG2PZ   \n",
       "224  predictsSensitivityTo  ga4gh:VA.S41CcMJT2bcd8R4-qXZWH1PoHWNtG2PZ   \n",
       "\n",
       "               obj    qualifier  \\\n",
       "0     rxcui:337525   ncit:C2926   \n",
       "1    rxcui:1147220   ncit:C3510   \n",
       "2    rxcui:1721560   ncit:C2926   \n",
       "3    rxcui:1721560   ncit:C2926   \n",
       "4     rxcui:337525   ncit:C2926   \n",
       "..             ...          ...   \n",
       "220  rxcui:2049873   ncit:C3171   \n",
       "221  rxcui:1147220  ncit:C53972   \n",
       "222  rxcui:1721560   ncit:C2926   \n",
       "223   rxcui:337525   ncit:C2926   \n",
       "224   rxcui:328134   ncit:C2926   \n",
       "\n",
       "                                        statement_full evidence_strength_code  \\\n",
       "0    ga4gh:VA.sMA9h8fzDi0RvweMlxtD0_Oi8B-JZ1V- pred...                e000001   \n",
       "1    ga4gh:VA.j4XnsLZcdzDIYa5pvvXM7t1wn9OITr0L pred...                e000001   \n",
       "2    ga4gh:VA.sMA9h8fzDi0RvweMlxtD0_Oi8B-JZ1V- pred...                e000001   \n",
       "3    ga4gh:VA.sMA9h8fzDi0RvweMlxtD0_Oi8B-JZ1V- pred...                e000001   \n",
       "4    ga4gh:VA.S41CcMJT2bcd8R4-qXZWH1PoHWNtG2PZ pred...                e000001   \n",
       "..                                                 ...                    ...   \n",
       "220  ga4gh:VA.lAST62ntkEaXy6RDDOF1V4C3jd-jaAJ5 pred...                e000002   \n",
       "221  ga4gh:VA.j4XnsLZcdzDIYa5pvvXM7t1wn9OITr0L pred...                e000002   \n",
       "222  ga4gh:VA.S41CcMJT2bcd8R4-qXZWH1PoHWNtG2PZ pred...                e000002   \n",
       "223  ga4gh:VA.S41CcMJT2bcd8R4-qXZWH1PoHWNtG2PZ pred...                e000002   \n",
       "224  ga4gh:VA.S41CcMJT2bcd8R4-qXZWH1PoHWNtG2PZ pred...                e000002   \n",
       "\n",
       "           evidence_strength counts  \\\n",
       "0     authoritative evidence      2   \n",
       "1     authoritative evidence      2   \n",
       "2     authoritative evidence      8   \n",
       "3     authoritative evidence      8   \n",
       "4     authoritative evidence      7   \n",
       "..                       ...    ...   \n",
       "220  FDA recognized evidence      3   \n",
       "221  FDA recognized evidence      2   \n",
       "222  FDA recognized evidence      4   \n",
       "223  FDA recognized evidence      7   \n",
       "224  FDA recognized evidence      4   \n",
       "\n",
       "                                       evidences_cross  \n",
       "0    [authoritative evidence, observational study e...  \n",
       "1    [authoritative evidence, clinical cohort evide...  \n",
       "2    [authoritative evidence, authoritative evidenc...  \n",
       "3    [authoritative evidence, authoritative evidenc...  \n",
       "4    [authoritative evidence, clinical cohort evide...  \n",
       "..                                                 ...  \n",
       "220  [clinical cohort evidence, FDA recognized evid...  \n",
       "221  [interventional study evidence, FDA recognized...  \n",
       "222  [preclinical evidence, interventional study ev...  \n",
       "223  [authoritative evidence, clinical cohort evide...  \n",
       "224  [clinical cohort evidence, clinical cohort evi...  \n",
       "\n",
       "[225 rows x 11 columns]"
      ]
     },
     "execution_count": 69,
     "metadata": {},
     "output_type": "execute_result"
    }
   ],
   "source": [
    "duplicates = df[df['counts']>1].reset_index(drop=True)\n",
    "duplicates"
   ]
  },
  {
   "cell_type": "code",
   "execution_count": 71,
   "metadata": {},
   "outputs": [
    {
     "data": {
      "text/plain": [
       "3           authoritative evidence\n",
       "3           authoritative evidence\n",
       "3         clinical cohort evidence\n",
       "3         clinical cohort evidence\n",
       "3             preclinical evidence\n",
       "3          FDA recognized evidence\n",
       "3    interventional study evidence\n",
       "3     observational study evidence\n",
       "Name: evidences_cross, dtype: object"
      ]
     },
     "execution_count": 71,
     "metadata": {},
     "output_type": "execute_result"
    }
   ],
   "source": [
    "duplicates['evidences_cross'].explode()[3]"
   ]
  },
  {
   "cell_type": "code",
   "execution_count": 75,
   "metadata": {},
   "outputs": [],
   "source": [
    "from collections import Counter\n",
    "\n",
    "def check_agreement(evidence_list):\n",
    "    return len(set(evidence_list)) == 1\n",
    "\n",
    "def get_buckets(evidence_list):\n",
    "    unique_evidences = set(evidence_list)\n",
    "    if len(unique_evidences) == 1:\n",
    "        return {}  # Return an empty dict if all elements are the same\n",
    "    else:\n",
    "        return dict(Counter(evidence_list))\n"
   ]
  },
  {
   "cell_type": "code",
   "execution_count": 78,
   "metadata": {},
   "outputs": [
    {
     "data": {
      "text/html": [
       "<div>\n",
       "<style scoped>\n",
       "    .dataframe tbody tr th:only-of-type {\n",
       "        vertical-align: middle;\n",
       "    }\n",
       "\n",
       "    .dataframe tbody tr th {\n",
       "        vertical-align: top;\n",
       "    }\n",
       "\n",
       "    .dataframe thead th {\n",
       "        text-align: right;\n",
       "    }\n",
       "</style>\n",
       "<table border=\"1\" class=\"dataframe\">\n",
       "  <thead>\n",
       "    <tr style=\"text-align: right;\">\n",
       "      <th></th>\n",
       "      <th>id</th>\n",
       "      <th>description</th>\n",
       "      <th>predicate</th>\n",
       "      <th>subject</th>\n",
       "      <th>obj</th>\n",
       "      <th>qualifier</th>\n",
       "      <th>statement_full</th>\n",
       "      <th>evidence_strength_code</th>\n",
       "      <th>evidence_strength</th>\n",
       "      <th>counts</th>\n",
       "      <th>evidences_cross</th>\n",
       "      <th>is_agreement</th>\n",
       "      <th>buckets</th>\n",
       "    </tr>\n",
       "  </thead>\n",
       "  <tbody>\n",
       "    <tr>\n",
       "      <th>0</th>\n",
       "      <td>civic.eid:238</td>\n",
       "      <td>The T790M mutation in EGFR has been shown to c...</td>\n",
       "      <td>predictsResistanceTo</td>\n",
       "      <td>ga4gh:VA.sMA9h8fzDi0RvweMlxtD0_Oi8B-JZ1V-</td>\n",
       "      <td>rxcui:337525</td>\n",
       "      <td>ncit:C2926</td>\n",
       "      <td>ga4gh:VA.sMA9h8fzDi0RvweMlxtD0_Oi8B-JZ1V- pred...</td>\n",
       "      <td>e000001</td>\n",
       "      <td>authoritative evidence</td>\n",
       "      <td>2</td>\n",
       "      <td>[authoritative evidence, observational study e...</td>\n",
       "      <td>False</td>\n",
       "      <td>{'authoritative evidence': 1, 'observational s...</td>\n",
       "    </tr>\n",
       "    <tr>\n",
       "      <th>1</th>\n",
       "      <td>civic.eid:1409</td>\n",
       "      <td>Phase 3 randomized clinical trial comparing ve...</td>\n",
       "      <td>predictsSensitivityTo</td>\n",
       "      <td>ga4gh:VA.j4XnsLZcdzDIYa5pvvXM7t1wn9OITr0L</td>\n",
       "      <td>rxcui:1147220</td>\n",
       "      <td>ncit:C3510</td>\n",
       "      <td>ga4gh:VA.j4XnsLZcdzDIYa5pvvXM7t1wn9OITr0L pred...</td>\n",
       "      <td>e000001</td>\n",
       "      <td>authoritative evidence</td>\n",
       "      <td>2</td>\n",
       "      <td>[authoritative evidence, clinical cohort evide...</td>\n",
       "      <td>False</td>\n",
       "      <td>{'authoritative evidence': 1, 'clinical cohort...</td>\n",
       "    </tr>\n",
       "    <tr>\n",
       "      <th>2</th>\n",
       "      <td>civic.eid:1592</td>\n",
       "      <td>Osimertinib has been approved for the treatmen...</td>\n",
       "      <td>predictsSensitivityTo</td>\n",
       "      <td>ga4gh:VA.sMA9h8fzDi0RvweMlxtD0_Oi8B-JZ1V-</td>\n",
       "      <td>rxcui:1721560</td>\n",
       "      <td>ncit:C2926</td>\n",
       "      <td>ga4gh:VA.sMA9h8fzDi0RvweMlxtD0_Oi8B-JZ1V- pred...</td>\n",
       "      <td>e000001</td>\n",
       "      <td>authoritative evidence</td>\n",
       "      <td>8</td>\n",
       "      <td>[authoritative evidence, authoritative evidenc...</td>\n",
       "      <td>False</td>\n",
       "      <td>{'authoritative evidence': 2, 'clinical cohort...</td>\n",
       "    </tr>\n",
       "    <tr>\n",
       "      <th>3</th>\n",
       "      <td>civic.eid:1867</td>\n",
       "      <td>Randomized, international, open-label, phase 3...</td>\n",
       "      <td>predictsSensitivityTo</td>\n",
       "      <td>ga4gh:VA.sMA9h8fzDi0RvweMlxtD0_Oi8B-JZ1V-</td>\n",
       "      <td>rxcui:1721560</td>\n",
       "      <td>ncit:C2926</td>\n",
       "      <td>ga4gh:VA.sMA9h8fzDi0RvweMlxtD0_Oi8B-JZ1V- pred...</td>\n",
       "      <td>e000001</td>\n",
       "      <td>authoritative evidence</td>\n",
       "      <td>8</td>\n",
       "      <td>[authoritative evidence, authoritative evidenc...</td>\n",
       "      <td>False</td>\n",
       "      <td>{'authoritative evidence': 2, 'clinical cohort...</td>\n",
       "    </tr>\n",
       "    <tr>\n",
       "      <th>4</th>\n",
       "      <td>civic.eid:2994</td>\n",
       "      <td>On May 14, 2013, the U.S. Food and Drug Admini...</td>\n",
       "      <td>predictsSensitivityTo</td>\n",
       "      <td>ga4gh:VA.S41CcMJT2bcd8R4-qXZWH1PoHWNtG2PZ</td>\n",
       "      <td>rxcui:337525</td>\n",
       "      <td>ncit:C2926</td>\n",
       "      <td>ga4gh:VA.S41CcMJT2bcd8R4-qXZWH1PoHWNtG2PZ pred...</td>\n",
       "      <td>e000001</td>\n",
       "      <td>authoritative evidence</td>\n",
       "      <td>7</td>\n",
       "      <td>[authoritative evidence, clinical cohort evide...</td>\n",
       "      <td>False</td>\n",
       "      <td>{'authoritative evidence': 1, 'clinical cohort...</td>\n",
       "    </tr>\n",
       "    <tr>\n",
       "      <th>...</th>\n",
       "      <td>...</td>\n",
       "      <td>...</td>\n",
       "      <td>...</td>\n",
       "      <td>...</td>\n",
       "      <td>...</td>\n",
       "      <td>...</td>\n",
       "      <td>...</td>\n",
       "      <td>...</td>\n",
       "      <td>...</td>\n",
       "      <td>...</td>\n",
       "      <td>...</td>\n",
       "      <td>...</td>\n",
       "      <td>...</td>\n",
       "    </tr>\n",
       "    <tr>\n",
       "      <th>220</th>\n",
       "      <td>moa.assertion:813</td>\n",
       "      <td>The U.S. Food and Drug Administration (FDA) gr...</td>\n",
       "      <td>predictsSensitivityTo</td>\n",
       "      <td>ga4gh:VA.lAST62ntkEaXy6RDDOF1V4C3jd-jaAJ5</td>\n",
       "      <td>rxcui:2049873</td>\n",
       "      <td>ncit:C3171</td>\n",
       "      <td>ga4gh:VA.lAST62ntkEaXy6RDDOF1V4C3jd-jaAJ5 pred...</td>\n",
       "      <td>e000002</td>\n",
       "      <td>FDA recognized evidence</td>\n",
       "      <td>3</td>\n",
       "      <td>[clinical cohort evidence, FDA recognized evid...</td>\n",
       "      <td>False</td>\n",
       "      <td>{'clinical cohort evidence': 1, 'FDA recognize...</td>\n",
       "    </tr>\n",
       "    <tr>\n",
       "      <th>221</th>\n",
       "      <td>moa.assertion:944</td>\n",
       "      <td>The U.S. Food and Drug Administration (FDA) ap...</td>\n",
       "      <td>predictsSensitivityTo</td>\n",
       "      <td>ga4gh:VA.j4XnsLZcdzDIYa5pvvXM7t1wn9OITr0L</td>\n",
       "      <td>rxcui:1147220</td>\n",
       "      <td>ncit:C53972</td>\n",
       "      <td>ga4gh:VA.j4XnsLZcdzDIYa5pvvXM7t1wn9OITr0L pred...</td>\n",
       "      <td>e000002</td>\n",
       "      <td>FDA recognized evidence</td>\n",
       "      <td>2</td>\n",
       "      <td>[interventional study evidence, FDA recognized...</td>\n",
       "      <td>False</td>\n",
       "      <td>{'interventional study evidence': 1, 'FDA reco...</td>\n",
       "    </tr>\n",
       "    <tr>\n",
       "      <th>222</th>\n",
       "      <td>moa.assertion:950</td>\n",
       "      <td>The U.S. Food and Drug Administration (FDA) gr...</td>\n",
       "      <td>predictsSensitivityTo</td>\n",
       "      <td>ga4gh:VA.S41CcMJT2bcd8R4-qXZWH1PoHWNtG2PZ</td>\n",
       "      <td>rxcui:1721560</td>\n",
       "      <td>ncit:C2926</td>\n",
       "      <td>ga4gh:VA.S41CcMJT2bcd8R4-qXZWH1PoHWNtG2PZ pred...</td>\n",
       "      <td>e000002</td>\n",
       "      <td>FDA recognized evidence</td>\n",
       "      <td>4</td>\n",
       "      <td>[preclinical evidence, interventional study ev...</td>\n",
       "      <td>False</td>\n",
       "      <td>{'preclinical evidence': 1, 'interventional st...</td>\n",
       "    </tr>\n",
       "    <tr>\n",
       "      <th>223</th>\n",
       "      <td>moa.assertion:967</td>\n",
       "      <td>The U.S. Food and Drug Administration (FDA) gr...</td>\n",
       "      <td>predictsSensitivityTo</td>\n",
       "      <td>ga4gh:VA.S41CcMJT2bcd8R4-qXZWH1PoHWNtG2PZ</td>\n",
       "      <td>rxcui:337525</td>\n",
       "      <td>ncit:C2926</td>\n",
       "      <td>ga4gh:VA.S41CcMJT2bcd8R4-qXZWH1PoHWNtG2PZ pred...</td>\n",
       "      <td>e000002</td>\n",
       "      <td>FDA recognized evidence</td>\n",
       "      <td>7</td>\n",
       "      <td>[authoritative evidence, clinical cohort evide...</td>\n",
       "      <td>False</td>\n",
       "      <td>{'authoritative evidence': 1, 'clinical cohort...</td>\n",
       "    </tr>\n",
       "    <tr>\n",
       "      <th>224</th>\n",
       "      <td>moa.assertion:969</td>\n",
       "      <td>The U.S. Food and Drug Administration (FDA) gr...</td>\n",
       "      <td>predictsSensitivityTo</td>\n",
       "      <td>ga4gh:VA.S41CcMJT2bcd8R4-qXZWH1PoHWNtG2PZ</td>\n",
       "      <td>rxcui:328134</td>\n",
       "      <td>ncit:C2926</td>\n",
       "      <td>ga4gh:VA.S41CcMJT2bcd8R4-qXZWH1PoHWNtG2PZ pred...</td>\n",
       "      <td>e000002</td>\n",
       "      <td>FDA recognized evidence</td>\n",
       "      <td>4</td>\n",
       "      <td>[clinical cohort evidence, clinical cohort evi...</td>\n",
       "      <td>False</td>\n",
       "      <td>{'clinical cohort evidence': 2, 'preclinical e...</td>\n",
       "    </tr>\n",
       "  </tbody>\n",
       "</table>\n",
       "<p>225 rows × 13 columns</p>\n",
       "</div>"
      ],
      "text/plain": [
       "                    id                                        description  \\\n",
       "0        civic.eid:238  The T790M mutation in EGFR has been shown to c...   \n",
       "1       civic.eid:1409  Phase 3 randomized clinical trial comparing ve...   \n",
       "2       civic.eid:1592  Osimertinib has been approved for the treatmen...   \n",
       "3       civic.eid:1867  Randomized, international, open-label, phase 3...   \n",
       "4       civic.eid:2994  On May 14, 2013, the U.S. Food and Drug Admini...   \n",
       "..                 ...                                                ...   \n",
       "220  moa.assertion:813  The U.S. Food and Drug Administration (FDA) gr...   \n",
       "221  moa.assertion:944  The U.S. Food and Drug Administration (FDA) ap...   \n",
       "222  moa.assertion:950  The U.S. Food and Drug Administration (FDA) gr...   \n",
       "223  moa.assertion:967  The U.S. Food and Drug Administration (FDA) gr...   \n",
       "224  moa.assertion:969  The U.S. Food and Drug Administration (FDA) gr...   \n",
       "\n",
       "                 predicate                                    subject  \\\n",
       "0     predictsResistanceTo  ga4gh:VA.sMA9h8fzDi0RvweMlxtD0_Oi8B-JZ1V-   \n",
       "1    predictsSensitivityTo  ga4gh:VA.j4XnsLZcdzDIYa5pvvXM7t1wn9OITr0L   \n",
       "2    predictsSensitivityTo  ga4gh:VA.sMA9h8fzDi0RvweMlxtD0_Oi8B-JZ1V-   \n",
       "3    predictsSensitivityTo  ga4gh:VA.sMA9h8fzDi0RvweMlxtD0_Oi8B-JZ1V-   \n",
       "4    predictsSensitivityTo  ga4gh:VA.S41CcMJT2bcd8R4-qXZWH1PoHWNtG2PZ   \n",
       "..                     ...                                        ...   \n",
       "220  predictsSensitivityTo  ga4gh:VA.lAST62ntkEaXy6RDDOF1V4C3jd-jaAJ5   \n",
       "221  predictsSensitivityTo  ga4gh:VA.j4XnsLZcdzDIYa5pvvXM7t1wn9OITr0L   \n",
       "222  predictsSensitivityTo  ga4gh:VA.S41CcMJT2bcd8R4-qXZWH1PoHWNtG2PZ   \n",
       "223  predictsSensitivityTo  ga4gh:VA.S41CcMJT2bcd8R4-qXZWH1PoHWNtG2PZ   \n",
       "224  predictsSensitivityTo  ga4gh:VA.S41CcMJT2bcd8R4-qXZWH1PoHWNtG2PZ   \n",
       "\n",
       "               obj    qualifier  \\\n",
       "0     rxcui:337525   ncit:C2926   \n",
       "1    rxcui:1147220   ncit:C3510   \n",
       "2    rxcui:1721560   ncit:C2926   \n",
       "3    rxcui:1721560   ncit:C2926   \n",
       "4     rxcui:337525   ncit:C2926   \n",
       "..             ...          ...   \n",
       "220  rxcui:2049873   ncit:C3171   \n",
       "221  rxcui:1147220  ncit:C53972   \n",
       "222  rxcui:1721560   ncit:C2926   \n",
       "223   rxcui:337525   ncit:C2926   \n",
       "224   rxcui:328134   ncit:C2926   \n",
       "\n",
       "                                        statement_full evidence_strength_code  \\\n",
       "0    ga4gh:VA.sMA9h8fzDi0RvweMlxtD0_Oi8B-JZ1V- pred...                e000001   \n",
       "1    ga4gh:VA.j4XnsLZcdzDIYa5pvvXM7t1wn9OITr0L pred...                e000001   \n",
       "2    ga4gh:VA.sMA9h8fzDi0RvweMlxtD0_Oi8B-JZ1V- pred...                e000001   \n",
       "3    ga4gh:VA.sMA9h8fzDi0RvweMlxtD0_Oi8B-JZ1V- pred...                e000001   \n",
       "4    ga4gh:VA.S41CcMJT2bcd8R4-qXZWH1PoHWNtG2PZ pred...                e000001   \n",
       "..                                                 ...                    ...   \n",
       "220  ga4gh:VA.lAST62ntkEaXy6RDDOF1V4C3jd-jaAJ5 pred...                e000002   \n",
       "221  ga4gh:VA.j4XnsLZcdzDIYa5pvvXM7t1wn9OITr0L pred...                e000002   \n",
       "222  ga4gh:VA.S41CcMJT2bcd8R4-qXZWH1PoHWNtG2PZ pred...                e000002   \n",
       "223  ga4gh:VA.S41CcMJT2bcd8R4-qXZWH1PoHWNtG2PZ pred...                e000002   \n",
       "224  ga4gh:VA.S41CcMJT2bcd8R4-qXZWH1PoHWNtG2PZ pred...                e000002   \n",
       "\n",
       "           evidence_strength counts  \\\n",
       "0     authoritative evidence      2   \n",
       "1     authoritative evidence      2   \n",
       "2     authoritative evidence      8   \n",
       "3     authoritative evidence      8   \n",
       "4     authoritative evidence      7   \n",
       "..                       ...    ...   \n",
       "220  FDA recognized evidence      3   \n",
       "221  FDA recognized evidence      2   \n",
       "222  FDA recognized evidence      4   \n",
       "223  FDA recognized evidence      7   \n",
       "224  FDA recognized evidence      4   \n",
       "\n",
       "                                       evidences_cross  is_agreement  \\\n",
       "0    [authoritative evidence, observational study e...         False   \n",
       "1    [authoritative evidence, clinical cohort evide...         False   \n",
       "2    [authoritative evidence, authoritative evidenc...         False   \n",
       "3    [authoritative evidence, authoritative evidenc...         False   \n",
       "4    [authoritative evidence, clinical cohort evide...         False   \n",
       "..                                                 ...           ...   \n",
       "220  [clinical cohort evidence, FDA recognized evid...         False   \n",
       "221  [interventional study evidence, FDA recognized...         False   \n",
       "222  [preclinical evidence, interventional study ev...         False   \n",
       "223  [authoritative evidence, clinical cohort evide...         False   \n",
       "224  [clinical cohort evidence, clinical cohort evi...         False   \n",
       "\n",
       "                                               buckets  \n",
       "0    {'authoritative evidence': 1, 'observational s...  \n",
       "1    {'authoritative evidence': 1, 'clinical cohort...  \n",
       "2    {'authoritative evidence': 2, 'clinical cohort...  \n",
       "3    {'authoritative evidence': 2, 'clinical cohort...  \n",
       "4    {'authoritative evidence': 1, 'clinical cohort...  \n",
       "..                                                 ...  \n",
       "220  {'clinical cohort evidence': 1, 'FDA recognize...  \n",
       "221  {'interventional study evidence': 1, 'FDA reco...  \n",
       "222  {'preclinical evidence': 1, 'interventional st...  \n",
       "223  {'authoritative evidence': 1, 'clinical cohort...  \n",
       "224  {'clinical cohort evidence': 2, 'preclinical e...  \n",
       "\n",
       "[225 rows x 13 columns]"
      ]
     },
     "execution_count": 78,
     "metadata": {},
     "output_type": "execute_result"
    }
   ],
   "source": [
    "# is_agreement \n",
    "# num_of_buckets\n",
    "\n",
    "\n",
    "duplicates['is_agreement'] = duplicates['evidences_cross'].apply(check_agreement)\n",
    "duplicates['buckets'] = duplicates['evidences_cross'].apply(get_buckets)\n",
    "duplicates"
   ]
  },
  {
   "cell_type": "code",
   "execution_count": 81,
   "metadata": {},
   "outputs": [
    {
     "data": {
      "text/plain": [
       "is_agreement\n",
       "False    157\n",
       "True      68\n",
       "Name: count, dtype: int64"
      ]
     },
     "execution_count": 81,
     "metadata": {},
     "output_type": "execute_result"
    }
   ],
   "source": [
    "duplicates['is_agreement'].value_counts()"
   ]
  },
  {
   "cell_type": "code",
   "execution_count": 85,
   "metadata": {},
   "outputs": [
    {
     "data": {
      "text/plain": [
       "statement_full\n",
       "ga4gh:VA.j4XnsLZcdzDIYa5pvvXM7t1wn9OITr0L predictsSensitivityTo treatment by civic.ctid:oBrlcO23adoVXv51xh-5Wigy0QyDWtfr for the disease ncit:C3224     4\n",
       "ga4gh:VA.S41CcMJT2bcd8R4-qXZWH1PoHWNtG2PZ predictsSensitivityTo treatment by rxcui:1430438 for the disease ncit:C3512                                   3\n",
       "ga4gh:VA.S41CcMJT2bcd8R4-qXZWH1PoHWNtG2PZ predictsSensitivityTo treatment by rxcui:337525 for the disease ncit:C9305                                    3\n",
       "ga4gh:VA.yHQVVwZjma693Ev6lQtew1axCWVwIi8K predictsResistanceTo treatment by rxcui:2289380 for the disease ncit:C3224                                    2\n",
       "ga4gh:VA.E09IUKElemW2uoVRT5qacU7RMqT8Um5m predictsSensitivityTo treatment by ncit:C165479 for the disease ncit:C9245                                    2\n",
       "ga4gh:VA.CpnlaV2B8565obATF-UlE706sBYp0D6M predictsSensitivityTo treatment by rxcui:2289380 for the disease ncit:C3224                                   2\n",
       "ga4gh:VA.yHQVVwZjma693Ev6lQtew1axCWVwIi8K predictsResistanceTo treatment by rxcui:1147220 for the disease ncit:C3224                                    2\n",
       "ga4gh:VA.2VAvTmPON2L7JffxjE68jAmmmwxyzDpB predictsSensitivityTo treatment by rxcui:2049873 for the disease ncit:C3171                                   2\n",
       "ga4gh:VA.j4XnsLZcdzDIYa5pvvXM7t1wn9OITr0L predictsSensitivityTo treatment by moa.ctid:fImZ7uz-ZC2vosZSuS-gdJcQGXu3l6l7 for the disease ncit:C3224       2\n",
       "ga4gh:VA.pfWn9x9oFBRzGda1xXcOrE-BrX0R__N8 predictsSensitivityTo treatment by moa.ctid:IAMn2xc8QDzi0_zvPzrGlronyv01Coqs for the disease ncit:C3224       2\n",
       "ga4gh:VA.B6uOm51_KWfoJlGO61ui7ltRfb4sG092 predictsResistanceTo treatment by rxcui:1546019 for the disease ncit:C3174                                    2\n",
       "ga4gh:VA.Dy7soaZQU1vH9Eb93xG_pJyhu7xTDDC9 predictsResistanceTo treatment by rxcui:282388 for the disease ncit:C9305                                     2\n",
       "ga4gh:VA.0sx1Z2siMMnqZhW0BnX4eUz9dUIDLRm- predictsResistanceTo treatment by rxcui:282388 for the disease ncit:C9305                                     2\n",
       "ga4gh:VA.sMA9h8fzDi0RvweMlxtD0_Oi8B-JZ1V- predictsSensitivityTo treatment by rxcui:1430438 for the disease ncit:C2926                                   2\n",
       "ga4gh:VA.-dMnJf9oUBfl9De0llc3LqJaGdFzfATK predictsResistanceTo treatment by rxcui:2103478 for the disease ncit:C53556                                   2\n",
       "ga4gh:VA.5GEqm-zIzvvPheyGb9rlu5DyIueIubXm predictsSensitivityTo treatment by ncit:C74072 for the disease ncit:C4013                                     2\n",
       "ga4gh:VA.Pj-8TtUrxnONU6dr8wdgKf1oHfI4ved0 predictsSensitivityTo treatment by rxcui:1147220 for the disease ncit:C3224                                   2\n",
       "ga4gh:VA.j4XnsLZcdzDIYa5pvvXM7t1wn9OITr0L predictsSensitivityTo treatment by civic.ctid:7g5X81wE2go4GE_fB45SjFamVMgpnwsA for the disease ncit:C4978     2\n",
       "ga4gh:VA.57hhvPjBoLmuSxZdcTzEdDEprYZnzznv predictsResistanceTo treatment by rxcui:1147220 for the disease ncit:C3224                                    2\n",
       "ga4gh:VA.ORvaSNcFK71WOVr_gi2vv6oPCcXgljab predictsResistanceTo treatment by civic.tsgid:7IxyhCwID0QYyVCP2xuIyYvwwu-S_HrZ for the disease ncit:C4978     2\n",
       "ga4gh:VA.sMA9h8fzDi0RvweMlxtD0_Oi8B-JZ1V- predictsSensitivityTo treatment by rxcui:1721560 for the disease ncit:C3512                                   2\n",
       "ga4gh:VA.j4XnsLZcdzDIYa5pvvXM7t1wn9OITr0L predictsSensitivityTo treatment by civic.ctid:oBrlcO23adoVXv51xh-5Wigy0QyDWtfr for the disease ncit:C35417    2\n",
       "ga4gh:VA.WCo3uQpMnNSbBMy5pKdSccudXs8ooZw9 predictsResistanceTo treatment by civic.ctid:E39_bNJqxD2YlQvEbnaYPTYj7A6sKF3V for the disease ncit:C4978      2\n",
       "ga4gh:VA.j4XnsLZcdzDIYa5pvvXM7t1wn9OITr0L predictsSensitivityTo treatment by rxcui:1147220 for the disease ncit:C3242                                   2\n",
       "ga4gh:VA.-dMnJf9oUBfl9De0llc3LqJaGdFzfATK predictsResistanceTo treatment by civic.tsgid:7IxyhCwID0QYyVCP2xuIyYvwwu-S_HrZ for the disease ncit:C4978     2\n",
       "ga4gh:VA.cdcXITbBWUXPjy3zPdhs7xjU1yvlkSrj predictsResistanceTo treatment by rxcui:263034 for the disease ncit:C4978                                     2\n",
       "ga4gh:VA.AhXGahW4SCTEgBSXlABoqX7N4mWXL-MD predictsResistanceTo treatment by rxcui:263034 for the disease ncit:C4978                                     2\n",
       "ga4gh:VA.pfWn9x9oFBRzGda1xXcOrE-BrX0R__N8 predictsSensitivityTo treatment by civic.ctid:oBrlcO23adoVXv51xh-5Wigy0QyDWtfr for the disease ncit:C3224     2\n",
       "ga4gh:VA.j4XnsLZcdzDIYa5pvvXM7t1wn9OITr0L predictsResistanceTo treatment by civic.tsgid:7IxyhCwID0QYyVCP2xuIyYvwwu-S_HrZ for the disease ncit:C4978     2\n",
       "ga4gh:VA.0v5ZnAjs5BLLL0yOTmm5LO5S1f2m8vGa predictsResistanceTo treatment by rxcui:1442981 for the disease ncit:C3163                                    2\n",
       "ga4gh:VA.S41CcMJT2bcd8R4-qXZWH1PoHWNtG2PZ predictsSensitivityTo treatment by civic.tsgid:MHwrYYGaDMmdgFLNboI18QBl-zDj5Wso for the disease ncit:C2926    2\n",
       "ga4gh:VA.A8crPBRvgFrkcWWnszjqT26E08kr0wV0 predictsSensitivityTo treatment by ncit:C165479 for the disease ncit:C9245                                    2\n",
       "Name: count, dtype: int64"
      ]
     },
     "execution_count": 85,
     "metadata": {},
     "output_type": "execute_result"
    }
   ],
   "source": [
    "tdf = duplicates[duplicates['is_agreement']==True] # top = BRAF\n",
    "tdf['statement_full'].value_counts()"
   ]
  },
  {
   "cell_type": "code",
   "execution_count": 86,
   "metadata": {},
   "outputs": [
    {
     "data": {
      "text/plain": [
       "statement_full\n",
       "ga4gh:VA.sMA9h8fzDi0RvweMlxtD0_Oi8B-JZ1V- predictsSensitivityTo treatment by rxcui:1721560 for the disease ncit:C2926                                  8\n",
       "ga4gh:VA.S41CcMJT2bcd8R4-qXZWH1PoHWNtG2PZ predictsSensitivityTo treatment by rxcui:337525 for the disease ncit:C2926                                   7\n",
       "ga4gh:VA.j4XnsLZcdzDIYa5pvvXM7t1wn9OITr0L predictsSensitivityTo treatment by rxcui:1147220 for the disease ncit:C3224                                  7\n",
       "ga4gh:VA.ORvaSNcFK71WOVr_gi2vv6oPCcXgljab predictsResistanceTo treatment by rxcui:318341 for the disease ncit:C4978                                    6\n",
       "ga4gh:VA.Dy7soaZQU1vH9Eb93xG_pJyhu7xTDDC9 predictsResistanceTo treatment by rxcui:282388 for the disease ncit:C3868                                    5\n",
       "ga4gh:VA.cdcXITbBWUXPjy3zPdhs7xjU1yvlkSrj predictsResistanceTo treatment by rxcui:6718 for the disease ncit:C3242                                      4\n",
       "ga4gh:VA.S41CcMJT2bcd8R4-qXZWH1PoHWNtG2PZ predictsSensitivityTo treatment by rxcui:1430438 for the disease ncit:C2926                                  4\n",
       "ga4gh:VA.ZqmNu5AN2PRYFl0K9eBQ_bo2pJAGKSoa predictsResistanceTo treatment by rxcui:6718 for the disease ncit:C3242                                      4\n",
       "ga4gh:VA.udBCHwlrf8xNiRy_19bLi-h5LhnZLgCt predictsResistanceTo treatment by rxcui:6718 for the disease ncit:C3242                                      4\n",
       "ga4gh:VA.S41CcMJT2bcd8R4-qXZWH1PoHWNtG2PZ predictsSensitivityTo treatment by rxcui:328134 for the disease ncit:C2926                                   4\n",
       "ga4gh:VA.6_uW58_HmIcOOQshfkvhuGjCSFL5H3fs predictsResistanceTo treatment by rxcui:6718 for the disease ncit:C3242                                      4\n",
       "ga4gh:VA.S41CcMJT2bcd8R4-qXZWH1PoHWNtG2PZ predictsSensitivityTo treatment by rxcui:1721560 for the disease ncit:C2926                                  4\n",
       "ga4gh:VA.j4XnsLZcdzDIYa5pvvXM7t1wn9OITr0L predictsSensitivityTo treatment by rxcui:1425098 for the disease ncit:C3224                                  3\n",
       "ga4gh:VA.lAST62ntkEaXy6RDDOF1V4C3jd-jaAJ5 predictsSensitivityTo treatment by rxcui:2049873 for the disease ncit:C3171                                  3\n",
       "ga4gh:VA.sMA9h8fzDi0RvweMlxtD0_Oi8B-JZ1V- predictsResistanceTo treatment by rxcui:328134 for the disease ncit:C2926                                    3\n",
       "ga4gh:VA.j4XnsLZcdzDIYa5pvvXM7t1wn9OITr0L predictsSensitivityTo treatment by rxcui:1147220 for the disease ncit:C4035                                  3\n",
       "ga4gh:VA.pfWn9x9oFBRzGda1xXcOrE-BrX0R__N8 predictsSensitivityTo treatment by rxcui:1147220 for the disease ncit:C3224                                  3\n",
       "ga4gh:VA.j4XnsLZcdzDIYa5pvvXM7t1wn9OITr0L predictsSensitivityTo treatment by rxcui:1147220 for the disease ncit:C4978                                  3\n",
       "ga4gh:VA.mipQFzApQNp2KyVXcZig8b4uu7kFofIZ predictsSensitivityTo treatment by rxcui:495881 for the disease ncit:C2926                                   3\n",
       "ga4gh:VA.sMA9h8fzDi0RvweMlxtD0_Oi8B-JZ1V- predictsSensitivityTo treatment by ncit:C99905 for the disease ncit:C2926                                    3\n",
       "ga4gh:VA.j4XnsLZcdzDIYa5pvvXM7t1wn9OITr0L predictsSensitivityTo treatment by moa.ctid:IAMn2xc8QDzi0_zvPzrGlronyv01Coqs for the disease ncit:C3224      3\n",
       "ga4gh:VA.S41CcMJT2bcd8R4-qXZWH1PoHWNtG2PZ predictsSensitivityTo treatment by rxcui:2058848 for the disease ncit:C2926                                  3\n",
       "ga4gh:VA.S41CcMJT2bcd8R4-qXZWH1PoHWNtG2PZ predictsSensitivityTo treatment by rxcui:328134 for the disease ncit:C3512                                   3\n",
       "ga4gh:VA.RkoMSdIJCB856OZ4YxjZIjVnVYrXMDy9 predictsSensitivityTo treatment by rxcui:1148495 for the disease ncit:C3270                                  3\n",
       "ga4gh:VA.sMA9h8fzDi0RvweMlxtD0_Oi8B-JZ1V- predictsResistanceTo treatment by rxcui:337525 for the disease ncit:C2926                                    2\n",
       "ga4gh:VA.kupbzxHCTSvq0_M8FY2FpHFtXotNHn4c predictsSensitivityTo treatment by rxcui:1193326 for the disease ncit:C3179                                  2\n",
       "ga4gh:VA.FkanRNmwHE0Hf6xRjR2MElkUvP5kPMDC predictsResistanceTo treatment by rxcui:1147220 for the disease ncit:C3224                                   2\n",
       "ga4gh:VA.d-Kmz2h-KL5RB7PbcizjOTz8crmA9lEk predictsSensitivityTo treatment by rxcui:328134 for the disease ncit:C2926                                   2\n",
       "ga4gh:VA.zElnUUWNdxH5elaDdhFo8dYA6dVjCZNs predictsResistanceTo treatment by rxcui:1747556 for the disease ncit:C3209                                   2\n",
       "ga4gh:VA.6EFlwRs4Pu_r5mcvJGoE3ro2cURUkrkV predictsSensitivityTo treatment by rxcui:1148495 for the disease ncit:C3270                                  2\n",
       "ga4gh:VA.w6K7bKlqZC_cCZOk9W0IBVh4EZrcSv3o predictsResistanceTo treatment by rxcui:282388 for the disease ncit:C3868                                    2\n",
       "ga4gh:VA.v5Jc64GQjTPVlsjiINmmlWmNRFfDDnoO predictsSensitivityTo treatment by rxcui:337525 for the disease ncit:C4436                                   2\n",
       "ga4gh:VA.XT7dH5AXh5XW2u2Ed8z701vo6BA3nhb6 predictsResistanceTo treatment by civic.tsgid:IMgxRLc3XTtFhF3LrdtkdhJqiCh-_3dE for the disease ncit:C3168    2\n",
       "ga4gh:VA.ABJoQOtfYms_bIW4CVCKShtEmwIiT6WA predictsResistanceTo treatment by rxcui:318341 for the disease ncit:C4978                                    2\n",
       "ga4gh:VA.j4XnsLZcdzDIYa5pvvXM7t1wn9OITr0L predictsSensitivityTo treatment by rxcui:1424911 for the disease ncit:C3224                                  2\n",
       "ga4gh:VA.j4XnsLZcdzDIYa5pvvXM7t1wn9OITr0L predictsSensitivityTo treatment by rxcui:1147220 for the disease ncit:C53972                                 2\n",
       "ga4gh:VA.4yqg18xtnJP7cTJI-Z2xS5HjnhxJJg84 predictsSensitivityTo treatment by rxcui:337525 for the disease ncit:C34447                                  2\n",
       "ga4gh:VA.5GEqm-zIzvvPheyGb9rlu5DyIueIubXm predictsResistanceTo treatment by civic.tsgid:7IxyhCwID0QYyVCP2xuIyYvwwu-S_HrZ for the disease ncit:C4978    2\n",
       "ga4gh:VA.RynDzpGjpLKfmAOrN0yrjRyAeIPqV52Q predictsResistanceTo treatment by rxcui:1242987 for the disease ncit:C2921                                   2\n",
       "ga4gh:VA.hl8sXt8vGcWF3EST2vU5SoHuWQ1AO_eO predictsSensitivityTo treatment by rxcui:357977 for the disease ncit:C3171                                   2\n",
       "ga4gh:VA.S41CcMJT2bcd8R4-qXZWH1PoHWNtG2PZ predictsSensitivityTo treatment by rxcui:337525 for the disease ncit:C3512                                   2\n",
       "ga4gh:VA.pfWn9x9oFBRzGda1xXcOrE-BrX0R__N8 predictsSensitivityTo treatment by rxcui:1425098 for the disease ncit:C3224                                  2\n",
       "ga4gh:VA.j4XnsLZcdzDIYa5pvvXM7t1wn9OITr0L predictsSensitivityTo treatment by rxcui:1147220 for the disease ncit:C3510                                  2\n",
       "ga4gh:VA.AhXGahW4SCTEgBSXlABoqX7N4mWXL-MD predictsResistanceTo treatment by rxcui:318341 for the disease ncit:C4978                                    2\n",
       "ga4gh:VA.I_Aqtnp7T3OtKjjcXdRisQvKbLULvRN5 predictsResistanceTo treatment by rxcui:1147220 for the disease ncit:C3224                                   2\n",
       "ga4gh:VA.sMA9h8fzDi0RvweMlxtD0_Oi8B-JZ1V- predictsResistanceTo treatment by civic.tsgid:MHwrYYGaDMmdgFLNboI18QBl-zDj5Wso for the disease ncit:C2926    2\n",
       "ga4gh:VA.j4XnsLZcdzDIYa5pvvXM7t1wn9OITr0L predictsSensitivityTo treatment by civic.ctid:aqQX-Uu5M67jU4vqRwbOB7diuYQozPtZ for the disease ncit:C4978    2\n",
       "ga4gh:VA.6mOBrBWsfWLavxBwhR3tMyJEW9UNc6fk predictsSensitivityTo treatment by rxcui:357977 for the disease ncit:C3868                                   2\n",
       "ga4gh:VA.j4XnsLZcdzDIYa5pvvXM7t1wn9OITr0L predictsSensitivityTo treatment by rxcui:1147220 for the disease ncit:C2926                                  2\n",
       "ga4gh:VA.j4XnsLZcdzDIYa5pvvXM7t1wn9OITr0L predictsSensitivityTo treatment by civic.ctid:rF1JcnGq_-VTc0yiCsNIORfNqXQCC3yM for the disease ncit:C4978    2\n",
       "ga4gh:VA.sMA9h8fzDi0RvweMlxtD0_Oi8B-JZ1V- predictsResistanceTo treatment by rxcui:1430438 for the disease ncit:C2926                                   2\n",
       "ga4gh:VA.ORvaSNcFK71WOVr_gi2vv6oPCcXgljab predictsSensitivityTo treatment by rxcui:318341 for the disease ncit:C4978                                   2\n",
       "ga4gh:VA.udBCHwlrf8xNiRy_19bLi-h5LhnZLgCt predictsSensitivityTo treatment by rxcui:2550714 for the disease ncit:C2926                                  2\n",
       "ga4gh:VA.Dy7soaZQU1vH9Eb93xG_pJyhu7xTDDC9 predictsSensitivityTo treatment by rxcui:2272107 for the disease ncit:C3868                                  2\n",
       "Name: count, dtype: int64"
      ]
     },
     "execution_count": 86,
     "metadata": {},
     "output_type": "execute_result"
    }
   ],
   "source": [
    "tdf = duplicates[duplicates['is_agreement']==False] # top = EGFR T790M\n",
    "tdf['statement_full'].value_counts()"
   ]
  },
  {
   "cell_type": "code",
   "execution_count": 91,
   "metadata": {},
   "outputs": [
    {
     "data": {
      "text/html": [
       "<div>\n",
       "<style scoped>\n",
       "    .dataframe tbody tr th:only-of-type {\n",
       "        vertical-align: middle;\n",
       "    }\n",
       "\n",
       "    .dataframe tbody tr th {\n",
       "        vertical-align: top;\n",
       "    }\n",
       "\n",
       "    .dataframe thead th {\n",
       "        text-align: right;\n",
       "    }\n",
       "</style>\n",
       "<table border=\"1\" class=\"dataframe\">\n",
       "  <thead>\n",
       "    <tr style=\"text-align: right;\">\n",
       "      <th></th>\n",
       "      <th>id</th>\n",
       "      <th>description</th>\n",
       "      <th>predicate</th>\n",
       "      <th>subject</th>\n",
       "      <th>obj</th>\n",
       "      <th>qualifier</th>\n",
       "      <th>statement_full</th>\n",
       "      <th>evidence_strength_code</th>\n",
       "      <th>evidence_strength</th>\n",
       "      <th>counts</th>\n",
       "      <th>evidences_cross</th>\n",
       "      <th>is_agreement</th>\n",
       "      <th>buckets</th>\n",
       "    </tr>\n",
       "  </thead>\n",
       "  <tbody>\n",
       "    <tr>\n",
       "      <th>2</th>\n",
       "      <td>civic.eid:1592</td>\n",
       "      <td>Osimertinib has been approved for the treatmen...</td>\n",
       "      <td>predictsSensitivityTo</td>\n",
       "      <td>ga4gh:VA.sMA9h8fzDi0RvweMlxtD0_Oi8B-JZ1V-</td>\n",
       "      <td>rxcui:1721560</td>\n",
       "      <td>ncit:C2926</td>\n",
       "      <td>ga4gh:VA.sMA9h8fzDi0RvweMlxtD0_Oi8B-JZ1V- pred...</td>\n",
       "      <td>e000001</td>\n",
       "      <td>authoritative evidence</td>\n",
       "      <td>8</td>\n",
       "      <td>[authoritative evidence, authoritative evidenc...</td>\n",
       "      <td>False</td>\n",
       "      <td>{'authoritative evidence': 2, 'clinical cohort...</td>\n",
       "    </tr>\n",
       "    <tr>\n",
       "      <th>3</th>\n",
       "      <td>civic.eid:1867</td>\n",
       "      <td>Randomized, international, open-label, phase 3...</td>\n",
       "      <td>predictsSensitivityTo</td>\n",
       "      <td>ga4gh:VA.sMA9h8fzDi0RvweMlxtD0_Oi8B-JZ1V-</td>\n",
       "      <td>rxcui:1721560</td>\n",
       "      <td>ncit:C2926</td>\n",
       "      <td>ga4gh:VA.sMA9h8fzDi0RvweMlxtD0_Oi8B-JZ1V- pred...</td>\n",
       "      <td>e000001</td>\n",
       "      <td>authoritative evidence</td>\n",
       "      <td>8</td>\n",
       "      <td>[authoritative evidence, authoritative evidenc...</td>\n",
       "      <td>False</td>\n",
       "      <td>{'authoritative evidence': 2, 'clinical cohort...</td>\n",
       "    </tr>\n",
       "    <tr>\n",
       "      <th>23</th>\n",
       "      <td>civic.eid:965</td>\n",
       "      <td>This phase I/II trial (NCT01802632) involved 2...</td>\n",
       "      <td>predictsSensitivityTo</td>\n",
       "      <td>ga4gh:VA.sMA9h8fzDi0RvweMlxtD0_Oi8B-JZ1V-</td>\n",
       "      <td>rxcui:1721560</td>\n",
       "      <td>ncit:C2926</td>\n",
       "      <td>ga4gh:VA.sMA9h8fzDi0RvweMlxtD0_Oi8B-JZ1V- pred...</td>\n",
       "      <td>e000005</td>\n",
       "      <td>clinical cohort evidence</td>\n",
       "      <td>8</td>\n",
       "      <td>[authoritative evidence, authoritative evidenc...</td>\n",
       "      <td>False</td>\n",
       "      <td>{'authoritative evidence': 2, 'clinical cohort...</td>\n",
       "    </tr>\n",
       "    <tr>\n",
       "      <th>45</th>\n",
       "      <td>civic.eid:966</td>\n",
       "      <td>This study summarized 9 EGFR-mutant patients f...</td>\n",
       "      <td>predictsSensitivityTo</td>\n",
       "      <td>ga4gh:VA.sMA9h8fzDi0RvweMlxtD0_Oi8B-JZ1V-</td>\n",
       "      <td>rxcui:1721560</td>\n",
       "      <td>ncit:C2926</td>\n",
       "      <td>ga4gh:VA.sMA9h8fzDi0RvweMlxtD0_Oi8B-JZ1V- pred...</td>\n",
       "      <td>e000005</td>\n",
       "      <td>clinical cohort evidence</td>\n",
       "      <td>8</td>\n",
       "      <td>[authoritative evidence, authoritative evidenc...</td>\n",
       "      <td>False</td>\n",
       "      <td>{'authoritative evidence': 2, 'clinical cohort...</td>\n",
       "    </tr>\n",
       "    <tr>\n",
       "      <th>132</th>\n",
       "      <td>civic.eid:963</td>\n",
       "      <td>Cell line, xenograft, and transgenic models we...</td>\n",
       "      <td>predictsSensitivityTo</td>\n",
       "      <td>ga4gh:VA.sMA9h8fzDi0RvweMlxtD0_Oi8B-JZ1V-</td>\n",
       "      <td>rxcui:1721560</td>\n",
       "      <td>ncit:C2926</td>\n",
       "      <td>ga4gh:VA.sMA9h8fzDi0RvweMlxtD0_Oi8B-JZ1V- pred...</td>\n",
       "      <td>e000009</td>\n",
       "      <td>preclinical evidence</td>\n",
       "      <td>8</td>\n",
       "      <td>[authoritative evidence, authoritative evidenc...</td>\n",
       "      <td>False</td>\n",
       "      <td>{'authoritative evidence': 2, 'clinical cohort...</td>\n",
       "    </tr>\n",
       "    <tr>\n",
       "      <th>190</th>\n",
       "      <td>moa.assertion:242</td>\n",
       "      <td>Osimertinib is a kinase inhibitor indicated fo...</td>\n",
       "      <td>predictsSensitivityTo</td>\n",
       "      <td>ga4gh:VA.sMA9h8fzDi0RvweMlxtD0_Oi8B-JZ1V-</td>\n",
       "      <td>rxcui:1721560</td>\n",
       "      <td>ncit:C2926</td>\n",
       "      <td>ga4gh:VA.sMA9h8fzDi0RvweMlxtD0_Oi8B-JZ1V- pred...</td>\n",
       "      <td>e000002</td>\n",
       "      <td>FDA recognized evidence</td>\n",
       "      <td>8</td>\n",
       "      <td>[authoritative evidence, authoritative evidenc...</td>\n",
       "      <td>False</td>\n",
       "      <td>{'authoritative evidence': 2, 'clinical cohort...</td>\n",
       "    </tr>\n",
       "    <tr>\n",
       "      <th>193</th>\n",
       "      <td>moa.assertion:256</td>\n",
       "      <td>Osimertinib is being evaluated in patients who...</td>\n",
       "      <td>predictsSensitivityTo</td>\n",
       "      <td>ga4gh:VA.sMA9h8fzDi0RvweMlxtD0_Oi8B-JZ1V-</td>\n",
       "      <td>rxcui:1721560</td>\n",
       "      <td>ncit:C2926</td>\n",
       "      <td>ga4gh:VA.sMA9h8fzDi0RvweMlxtD0_Oi8B-JZ1V- pred...</td>\n",
       "      <td>e000006</td>\n",
       "      <td>interventional study evidence</td>\n",
       "      <td>8</td>\n",
       "      <td>[authoritative evidence, authoritative evidenc...</td>\n",
       "      <td>False</td>\n",
       "      <td>{'authoritative evidence': 2, 'clinical cohort...</td>\n",
       "    </tr>\n",
       "    <tr>\n",
       "      <th>195</th>\n",
       "      <td>moa.assertion:259</td>\n",
       "      <td>Osimertinib is FDA-Approved for metastatic non...</td>\n",
       "      <td>predictsSensitivityTo</td>\n",
       "      <td>ga4gh:VA.sMA9h8fzDi0RvweMlxtD0_Oi8B-JZ1V-</td>\n",
       "      <td>rxcui:1721560</td>\n",
       "      <td>ncit:C2926</td>\n",
       "      <td>ga4gh:VA.sMA9h8fzDi0RvweMlxtD0_Oi8B-JZ1V- pred...</td>\n",
       "      <td>e000007</td>\n",
       "      <td>observational study evidence</td>\n",
       "      <td>8</td>\n",
       "      <td>[authoritative evidence, authoritative evidenc...</td>\n",
       "      <td>False</td>\n",
       "      <td>{'authoritative evidence': 2, 'clinical cohort...</td>\n",
       "    </tr>\n",
       "  </tbody>\n",
       "</table>\n",
       "</div>"
      ],
      "text/plain": [
       "                    id                                        description  \\\n",
       "2       civic.eid:1592  Osimertinib has been approved for the treatmen...   \n",
       "3       civic.eid:1867  Randomized, international, open-label, phase 3...   \n",
       "23       civic.eid:965  This phase I/II trial (NCT01802632) involved 2...   \n",
       "45       civic.eid:966  This study summarized 9 EGFR-mutant patients f...   \n",
       "132      civic.eid:963  Cell line, xenograft, and transgenic models we...   \n",
       "190  moa.assertion:242  Osimertinib is a kinase inhibitor indicated fo...   \n",
       "193  moa.assertion:256  Osimertinib is being evaluated in patients who...   \n",
       "195  moa.assertion:259  Osimertinib is FDA-Approved for metastatic non...   \n",
       "\n",
       "                 predicate                                    subject  \\\n",
       "2    predictsSensitivityTo  ga4gh:VA.sMA9h8fzDi0RvweMlxtD0_Oi8B-JZ1V-   \n",
       "3    predictsSensitivityTo  ga4gh:VA.sMA9h8fzDi0RvweMlxtD0_Oi8B-JZ1V-   \n",
       "23   predictsSensitivityTo  ga4gh:VA.sMA9h8fzDi0RvweMlxtD0_Oi8B-JZ1V-   \n",
       "45   predictsSensitivityTo  ga4gh:VA.sMA9h8fzDi0RvweMlxtD0_Oi8B-JZ1V-   \n",
       "132  predictsSensitivityTo  ga4gh:VA.sMA9h8fzDi0RvweMlxtD0_Oi8B-JZ1V-   \n",
       "190  predictsSensitivityTo  ga4gh:VA.sMA9h8fzDi0RvweMlxtD0_Oi8B-JZ1V-   \n",
       "193  predictsSensitivityTo  ga4gh:VA.sMA9h8fzDi0RvweMlxtD0_Oi8B-JZ1V-   \n",
       "195  predictsSensitivityTo  ga4gh:VA.sMA9h8fzDi0RvweMlxtD0_Oi8B-JZ1V-   \n",
       "\n",
       "               obj   qualifier  \\\n",
       "2    rxcui:1721560  ncit:C2926   \n",
       "3    rxcui:1721560  ncit:C2926   \n",
       "23   rxcui:1721560  ncit:C2926   \n",
       "45   rxcui:1721560  ncit:C2926   \n",
       "132  rxcui:1721560  ncit:C2926   \n",
       "190  rxcui:1721560  ncit:C2926   \n",
       "193  rxcui:1721560  ncit:C2926   \n",
       "195  rxcui:1721560  ncit:C2926   \n",
       "\n",
       "                                        statement_full evidence_strength_code  \\\n",
       "2    ga4gh:VA.sMA9h8fzDi0RvweMlxtD0_Oi8B-JZ1V- pred...                e000001   \n",
       "3    ga4gh:VA.sMA9h8fzDi0RvweMlxtD0_Oi8B-JZ1V- pred...                e000001   \n",
       "23   ga4gh:VA.sMA9h8fzDi0RvweMlxtD0_Oi8B-JZ1V- pred...                e000005   \n",
       "45   ga4gh:VA.sMA9h8fzDi0RvweMlxtD0_Oi8B-JZ1V- pred...                e000005   \n",
       "132  ga4gh:VA.sMA9h8fzDi0RvweMlxtD0_Oi8B-JZ1V- pred...                e000009   \n",
       "190  ga4gh:VA.sMA9h8fzDi0RvweMlxtD0_Oi8B-JZ1V- pred...                e000002   \n",
       "193  ga4gh:VA.sMA9h8fzDi0RvweMlxtD0_Oi8B-JZ1V- pred...                e000006   \n",
       "195  ga4gh:VA.sMA9h8fzDi0RvweMlxtD0_Oi8B-JZ1V- pred...                e000007   \n",
       "\n",
       "                 evidence_strength counts  \\\n",
       "2           authoritative evidence      8   \n",
       "3           authoritative evidence      8   \n",
       "23        clinical cohort evidence      8   \n",
       "45        clinical cohort evidence      8   \n",
       "132           preclinical evidence      8   \n",
       "190        FDA recognized evidence      8   \n",
       "193  interventional study evidence      8   \n",
       "195   observational study evidence      8   \n",
       "\n",
       "                                       evidences_cross  is_agreement  \\\n",
       "2    [authoritative evidence, authoritative evidenc...         False   \n",
       "3    [authoritative evidence, authoritative evidenc...         False   \n",
       "23   [authoritative evidence, authoritative evidenc...         False   \n",
       "45   [authoritative evidence, authoritative evidenc...         False   \n",
       "132  [authoritative evidence, authoritative evidenc...         False   \n",
       "190  [authoritative evidence, authoritative evidenc...         False   \n",
       "193  [authoritative evidence, authoritative evidenc...         False   \n",
       "195  [authoritative evidence, authoritative evidenc...         False   \n",
       "\n",
       "                                               buckets  \n",
       "2    {'authoritative evidence': 2, 'clinical cohort...  \n",
       "3    {'authoritative evidence': 2, 'clinical cohort...  \n",
       "23   {'authoritative evidence': 2, 'clinical cohort...  \n",
       "45   {'authoritative evidence': 2, 'clinical cohort...  \n",
       "132  {'authoritative evidence': 2, 'clinical cohort...  \n",
       "190  {'authoritative evidence': 2, 'clinical cohort...  \n",
       "193  {'authoritative evidence': 2, 'clinical cohort...  \n",
       "195  {'authoritative evidence': 2, 'clinical cohort...  "
      ]
     },
     "execution_count": 91,
     "metadata": {},
     "output_type": "execute_result"
    }
   ],
   "source": [
    "# Eight pieces of evidence all use the same components but attribute to 6 different evidence strengths\n",
    "\n",
    "tdf[tdf['statement_full']=='ga4gh:VA.sMA9h8fzDi0RvweMlxtD0_Oi8B-JZ1V- predictsSensitivityTo treatment by rxcui:1721560 for the disease ncit:C2926']"
   ]
  },
  {
   "cell_type": "markdown",
   "metadata": {},
   "source": [
    "## Concordance\n",
    "TODO"
   ]
  },
  {
   "cell_type": "code",
   "execution_count": 203,
   "metadata": {},
   "outputs": [],
   "source": [
    "def grab_source(study_id):\n",
    "    query_subject_variant = f\"\"\"MATCH (s:Study) WHERE s.id = '{study_id}'\n",
    "        MATCH (s)-[:IS_REPORTED_IN]-(c)\n",
    "        RETURN properties(s) AS Study,\n",
    "                properties(c) AS Source\n",
    "    \"\"\"\n",
    "    result = execute_query(driver, query_subject_variant)\n",
    "    driver.close()\n",
    "    if len(result) > 1:\n",
    "        print(f'{study_id} has {len(result)} subjects possible')\n",
    "    try:\n",
    "        subject = result[0]['Source']['title']\n",
    "    except:\n",
    "        subject = result[0]['Source']['id']\n",
    "    return(subject)"
   ]
  },
  {
   "cell_type": "code",
   "execution_count": 204,
   "metadata": {},
   "outputs": [
    {
     "name": "stderr",
     "output_type": "stream",
     "text": [
      "/var/folders/5t/sfw5tjx56m10xb861_pd3wfm0000gq/T/ipykernel_46467/2340165677.py:6: DeprecationWarning:\n",
      "\n",
      "Using a driver after it has been closed is deprecated. Future versions of the driver will raise an error.\n",
      "\n"
     ]
    },
    {
     "ename": "IndexError",
     "evalue": "list index out of range",
     "output_type": "error",
     "traceback": [
      "\u001b[0;31m---------------------------------------------------------------------------\u001b[0m",
      "\u001b[0;31mIndexError\u001b[0m                                Traceback (most recent call last)",
      "Cell \u001b[0;32mIn[203], line 12\u001b[0m, in \u001b[0;36mgrab_source\u001b[0;34m(study_id)\u001b[0m\n\u001b[1;32m     11\u001b[0m \u001b[38;5;28;01mtry\u001b[39;00m:\n\u001b[0;32m---> 12\u001b[0m     subject \u001b[38;5;241m=\u001b[39m \u001b[43mresult\u001b[49m\u001b[43m[\u001b[49m\u001b[38;5;241;43m0\u001b[39;49m\u001b[43m]\u001b[49m[\u001b[38;5;124m'\u001b[39m\u001b[38;5;124mSource\u001b[39m\u001b[38;5;124m'\u001b[39m][\u001b[38;5;124m'\u001b[39m\u001b[38;5;124mtitle\u001b[39m\u001b[38;5;124m'\u001b[39m]\n\u001b[1;32m     13\u001b[0m \u001b[38;5;28;01mexcept\u001b[39;00m:\n",
      "\u001b[0;31mIndexError\u001b[0m: list index out of range",
      "\nDuring handling of the above exception, another exception occurred:\n",
      "\u001b[0;31mIndexError\u001b[0m                                Traceback (most recent call last)",
      "Cell \u001b[0;32mIn[204], line 2\u001b[0m\n\u001b[1;32m      1\u001b[0m df[\u001b[38;5;124m'\u001b[39m\u001b[38;5;124msource\u001b[39m\u001b[38;5;124m'\u001b[39m] \u001b[38;5;241m=\u001b[39m \u001b[38;5;28;01mNone\u001b[39;00m\n\u001b[0;32m----> 2\u001b[0m df[\u001b[38;5;124m'\u001b[39m\u001b[38;5;124msource\u001b[39m\u001b[38;5;124m'\u001b[39m] \u001b[38;5;241m=\u001b[39m \u001b[43mdf\u001b[49m\u001b[43m[\u001b[49m\u001b[38;5;124;43m'\u001b[39;49m\u001b[38;5;124;43mid\u001b[39;49m\u001b[38;5;124;43m'\u001b[39;49m\u001b[43m]\u001b[49m\u001b[38;5;241;43m.\u001b[39;49m\u001b[43mapply\u001b[49m\u001b[43m(\u001b[49m\u001b[43mgrab_source\u001b[49m\u001b[43m)\u001b[49m\n",
      "File \u001b[0;32m~/.pyenv/versions/3.10.14/lib/python3.10/site-packages/pandas/core/series.py:4924\u001b[0m, in \u001b[0;36mSeries.apply\u001b[0;34m(self, func, convert_dtype, args, by_row, **kwargs)\u001b[0m\n\u001b[1;32m   4789\u001b[0m \u001b[38;5;28;01mdef\u001b[39;00m \u001b[38;5;21mapply\u001b[39m(\n\u001b[1;32m   4790\u001b[0m     \u001b[38;5;28mself\u001b[39m,\n\u001b[1;32m   4791\u001b[0m     func: AggFuncType,\n\u001b[0;32m   (...)\u001b[0m\n\u001b[1;32m   4796\u001b[0m     \u001b[38;5;241m*\u001b[39m\u001b[38;5;241m*\u001b[39mkwargs,\n\u001b[1;32m   4797\u001b[0m ) \u001b[38;5;241m-\u001b[39m\u001b[38;5;241m>\u001b[39m DataFrame \u001b[38;5;241m|\u001b[39m Series:\n\u001b[1;32m   4798\u001b[0m \u001b[38;5;250m    \u001b[39m\u001b[38;5;124;03m\"\"\"\u001b[39;00m\n\u001b[1;32m   4799\u001b[0m \u001b[38;5;124;03m    Invoke function on values of Series.\u001b[39;00m\n\u001b[1;32m   4800\u001b[0m \n\u001b[0;32m   (...)\u001b[0m\n\u001b[1;32m   4915\u001b[0m \u001b[38;5;124;03m    dtype: float64\u001b[39;00m\n\u001b[1;32m   4916\u001b[0m \u001b[38;5;124;03m    \"\"\"\u001b[39;00m\n\u001b[1;32m   4917\u001b[0m     \u001b[38;5;28;01mreturn\u001b[39;00m \u001b[43mSeriesApply\u001b[49m\u001b[43m(\u001b[49m\n\u001b[1;32m   4918\u001b[0m \u001b[43m        \u001b[49m\u001b[38;5;28;43mself\u001b[39;49m\u001b[43m,\u001b[49m\n\u001b[1;32m   4919\u001b[0m \u001b[43m        \u001b[49m\u001b[43mfunc\u001b[49m\u001b[43m,\u001b[49m\n\u001b[1;32m   4920\u001b[0m \u001b[43m        \u001b[49m\u001b[43mconvert_dtype\u001b[49m\u001b[38;5;241;43m=\u001b[39;49m\u001b[43mconvert_dtype\u001b[49m\u001b[43m,\u001b[49m\n\u001b[1;32m   4921\u001b[0m \u001b[43m        \u001b[49m\u001b[43mby_row\u001b[49m\u001b[38;5;241;43m=\u001b[39;49m\u001b[43mby_row\u001b[49m\u001b[43m,\u001b[49m\n\u001b[1;32m   4922\u001b[0m \u001b[43m        \u001b[49m\u001b[43margs\u001b[49m\u001b[38;5;241;43m=\u001b[39;49m\u001b[43margs\u001b[49m\u001b[43m,\u001b[49m\n\u001b[1;32m   4923\u001b[0m \u001b[43m        \u001b[49m\u001b[43mkwargs\u001b[49m\u001b[38;5;241;43m=\u001b[39;49m\u001b[43mkwargs\u001b[49m\u001b[43m,\u001b[49m\n\u001b[0;32m-> 4924\u001b[0m \u001b[43m    \u001b[49m\u001b[43m)\u001b[49m\u001b[38;5;241;43m.\u001b[39;49m\u001b[43mapply\u001b[49m\u001b[43m(\u001b[49m\u001b[43m)\u001b[49m\n",
      "File \u001b[0;32m~/.pyenv/versions/3.10.14/lib/python3.10/site-packages/pandas/core/apply.py:1427\u001b[0m, in \u001b[0;36mSeriesApply.apply\u001b[0;34m(self)\u001b[0m\n\u001b[1;32m   1424\u001b[0m     \u001b[38;5;28;01mreturn\u001b[39;00m \u001b[38;5;28mself\u001b[39m\u001b[38;5;241m.\u001b[39mapply_compat()\n\u001b[1;32m   1426\u001b[0m \u001b[38;5;66;03m# self.func is Callable\u001b[39;00m\n\u001b[0;32m-> 1427\u001b[0m \u001b[38;5;28;01mreturn\u001b[39;00m \u001b[38;5;28;43mself\u001b[39;49m\u001b[38;5;241;43m.\u001b[39;49m\u001b[43mapply_standard\u001b[49m\u001b[43m(\u001b[49m\u001b[43m)\u001b[49m\n",
      "File \u001b[0;32m~/.pyenv/versions/3.10.14/lib/python3.10/site-packages/pandas/core/apply.py:1507\u001b[0m, in \u001b[0;36mSeriesApply.apply_standard\u001b[0;34m(self)\u001b[0m\n\u001b[1;32m   1501\u001b[0m \u001b[38;5;66;03m# row-wise access\u001b[39;00m\n\u001b[1;32m   1502\u001b[0m \u001b[38;5;66;03m# apply doesn't have a `na_action` keyword and for backward compat reasons\u001b[39;00m\n\u001b[1;32m   1503\u001b[0m \u001b[38;5;66;03m# we need to give `na_action=\"ignore\"` for categorical data.\u001b[39;00m\n\u001b[1;32m   1504\u001b[0m \u001b[38;5;66;03m# TODO: remove the `na_action=\"ignore\"` when that default has been changed in\u001b[39;00m\n\u001b[1;32m   1505\u001b[0m \u001b[38;5;66;03m#  Categorical (GH51645).\u001b[39;00m\n\u001b[1;32m   1506\u001b[0m action \u001b[38;5;241m=\u001b[39m \u001b[38;5;124m\"\u001b[39m\u001b[38;5;124mignore\u001b[39m\u001b[38;5;124m\"\u001b[39m \u001b[38;5;28;01mif\u001b[39;00m \u001b[38;5;28misinstance\u001b[39m(obj\u001b[38;5;241m.\u001b[39mdtype, CategoricalDtype) \u001b[38;5;28;01melse\u001b[39;00m \u001b[38;5;28;01mNone\u001b[39;00m\n\u001b[0;32m-> 1507\u001b[0m mapped \u001b[38;5;241m=\u001b[39m \u001b[43mobj\u001b[49m\u001b[38;5;241;43m.\u001b[39;49m\u001b[43m_map_values\u001b[49m\u001b[43m(\u001b[49m\n\u001b[1;32m   1508\u001b[0m \u001b[43m    \u001b[49m\u001b[43mmapper\u001b[49m\u001b[38;5;241;43m=\u001b[39;49m\u001b[43mcurried\u001b[49m\u001b[43m,\u001b[49m\u001b[43m \u001b[49m\u001b[43mna_action\u001b[49m\u001b[38;5;241;43m=\u001b[39;49m\u001b[43maction\u001b[49m\u001b[43m,\u001b[49m\u001b[43m \u001b[49m\u001b[43mconvert\u001b[49m\u001b[38;5;241;43m=\u001b[39;49m\u001b[38;5;28;43mself\u001b[39;49m\u001b[38;5;241;43m.\u001b[39;49m\u001b[43mconvert_dtype\u001b[49m\n\u001b[1;32m   1509\u001b[0m \u001b[43m\u001b[49m\u001b[43m)\u001b[49m\n\u001b[1;32m   1511\u001b[0m \u001b[38;5;28;01mif\u001b[39;00m \u001b[38;5;28mlen\u001b[39m(mapped) \u001b[38;5;129;01mand\u001b[39;00m \u001b[38;5;28misinstance\u001b[39m(mapped[\u001b[38;5;241m0\u001b[39m], ABCSeries):\n\u001b[1;32m   1512\u001b[0m     \u001b[38;5;66;03m# GH#43986 Need to do list(mapped) in order to get treated as nested\u001b[39;00m\n\u001b[1;32m   1513\u001b[0m     \u001b[38;5;66;03m#  See also GH#25959 regarding EA support\u001b[39;00m\n\u001b[1;32m   1514\u001b[0m     \u001b[38;5;28;01mreturn\u001b[39;00m obj\u001b[38;5;241m.\u001b[39m_constructor_expanddim(\u001b[38;5;28mlist\u001b[39m(mapped), index\u001b[38;5;241m=\u001b[39mobj\u001b[38;5;241m.\u001b[39mindex)\n",
      "File \u001b[0;32m~/.pyenv/versions/3.10.14/lib/python3.10/site-packages/pandas/core/base.py:921\u001b[0m, in \u001b[0;36mIndexOpsMixin._map_values\u001b[0;34m(self, mapper, na_action, convert)\u001b[0m\n\u001b[1;32m    918\u001b[0m \u001b[38;5;28;01mif\u001b[39;00m \u001b[38;5;28misinstance\u001b[39m(arr, ExtensionArray):\n\u001b[1;32m    919\u001b[0m     \u001b[38;5;28;01mreturn\u001b[39;00m arr\u001b[38;5;241m.\u001b[39mmap(mapper, na_action\u001b[38;5;241m=\u001b[39mna_action)\n\u001b[0;32m--> 921\u001b[0m \u001b[38;5;28;01mreturn\u001b[39;00m \u001b[43malgorithms\u001b[49m\u001b[38;5;241;43m.\u001b[39;49m\u001b[43mmap_array\u001b[49m\u001b[43m(\u001b[49m\u001b[43marr\u001b[49m\u001b[43m,\u001b[49m\u001b[43m \u001b[49m\u001b[43mmapper\u001b[49m\u001b[43m,\u001b[49m\u001b[43m \u001b[49m\u001b[43mna_action\u001b[49m\u001b[38;5;241;43m=\u001b[39;49m\u001b[43mna_action\u001b[49m\u001b[43m,\u001b[49m\u001b[43m \u001b[49m\u001b[43mconvert\u001b[49m\u001b[38;5;241;43m=\u001b[39;49m\u001b[43mconvert\u001b[49m\u001b[43m)\u001b[49m\n",
      "File \u001b[0;32m~/.pyenv/versions/3.10.14/lib/python3.10/site-packages/pandas/core/algorithms.py:1743\u001b[0m, in \u001b[0;36mmap_array\u001b[0;34m(arr, mapper, na_action, convert)\u001b[0m\n\u001b[1;32m   1741\u001b[0m values \u001b[38;5;241m=\u001b[39m arr\u001b[38;5;241m.\u001b[39mastype(\u001b[38;5;28mobject\u001b[39m, copy\u001b[38;5;241m=\u001b[39m\u001b[38;5;28;01mFalse\u001b[39;00m)\n\u001b[1;32m   1742\u001b[0m \u001b[38;5;28;01mif\u001b[39;00m na_action \u001b[38;5;129;01mis\u001b[39;00m \u001b[38;5;28;01mNone\u001b[39;00m:\n\u001b[0;32m-> 1743\u001b[0m     \u001b[38;5;28;01mreturn\u001b[39;00m \u001b[43mlib\u001b[49m\u001b[38;5;241;43m.\u001b[39;49m\u001b[43mmap_infer\u001b[49m\u001b[43m(\u001b[49m\u001b[43mvalues\u001b[49m\u001b[43m,\u001b[49m\u001b[43m \u001b[49m\u001b[43mmapper\u001b[49m\u001b[43m,\u001b[49m\u001b[43m \u001b[49m\u001b[43mconvert\u001b[49m\u001b[38;5;241;43m=\u001b[39;49m\u001b[43mconvert\u001b[49m\u001b[43m)\u001b[49m\n\u001b[1;32m   1744\u001b[0m \u001b[38;5;28;01melse\u001b[39;00m:\n\u001b[1;32m   1745\u001b[0m     \u001b[38;5;28;01mreturn\u001b[39;00m lib\u001b[38;5;241m.\u001b[39mmap_infer_mask(\n\u001b[1;32m   1746\u001b[0m         values, mapper, mask\u001b[38;5;241m=\u001b[39misna(values)\u001b[38;5;241m.\u001b[39mview(np\u001b[38;5;241m.\u001b[39muint8), convert\u001b[38;5;241m=\u001b[39mconvert\n\u001b[1;32m   1747\u001b[0m     )\n",
      "File \u001b[0;32mlib.pyx:2972\u001b[0m, in \u001b[0;36mpandas._libs.lib.map_infer\u001b[0;34m()\u001b[0m\n",
      "Cell \u001b[0;32mIn[203], line 14\u001b[0m, in \u001b[0;36mgrab_source\u001b[0;34m(study_id)\u001b[0m\n\u001b[1;32m     12\u001b[0m     subject \u001b[38;5;241m=\u001b[39m result[\u001b[38;5;241m0\u001b[39m][\u001b[38;5;124m'\u001b[39m\u001b[38;5;124mSource\u001b[39m\u001b[38;5;124m'\u001b[39m][\u001b[38;5;124m'\u001b[39m\u001b[38;5;124mtitle\u001b[39m\u001b[38;5;124m'\u001b[39m]\n\u001b[1;32m     13\u001b[0m \u001b[38;5;28;01mexcept\u001b[39;00m:\n\u001b[0;32m---> 14\u001b[0m     subject \u001b[38;5;241m=\u001b[39m \u001b[43mresult\u001b[49m\u001b[43m[\u001b[49m\u001b[38;5;241;43m0\u001b[39;49m\u001b[43m]\u001b[49m[\u001b[38;5;124m'\u001b[39m\u001b[38;5;124mSource\u001b[39m\u001b[38;5;124m'\u001b[39m][\u001b[38;5;124m'\u001b[39m\u001b[38;5;124mid\u001b[39m\u001b[38;5;124m'\u001b[39m]\n\u001b[1;32m     15\u001b[0m \u001b[38;5;28;01mreturn\u001b[39;00m(subject)\n",
      "\u001b[0;31mIndexError\u001b[0m: list index out of range"
     ]
    }
   ],
   "source": [
    "df['source'] = None\n",
    "df['source'] = df['id'].apply(grab_source)\n"
   ]
  },
  {
   "cell_type": "code",
   "execution_count": 99,
   "metadata": {},
   "outputs": [
    {
     "data": {
      "text/html": [
       "<div>\n",
       "<style scoped>\n",
       "    .dataframe tbody tr th:only-of-type {\n",
       "        vertical-align: middle;\n",
       "    }\n",
       "\n",
       "    .dataframe tbody tr th {\n",
       "        vertical-align: top;\n",
       "    }\n",
       "\n",
       "    .dataframe thead th {\n",
       "        text-align: right;\n",
       "    }\n",
       "</style>\n",
       "<table border=\"1\" class=\"dataframe\">\n",
       "  <thead>\n",
       "    <tr style=\"text-align: right;\">\n",
       "      <th></th>\n",
       "      <th>id</th>\n",
       "      <th>description</th>\n",
       "      <th>predicate</th>\n",
       "      <th>subject</th>\n",
       "      <th>obj</th>\n",
       "      <th>qualifier</th>\n",
       "      <th>statement_full</th>\n",
       "      <th>evidence_strength_code</th>\n",
       "      <th>evidence_strength</th>\n",
       "      <th>counts</th>\n",
       "      <th>evidences_cross</th>\n",
       "      <th>source</th>\n",
       "    </tr>\n",
       "  </thead>\n",
       "  <tbody>\n",
       "    <tr>\n",
       "      <th>0</th>\n",
       "      <td>civic.eid:238</td>\n",
       "      <td>The T790M mutation in EGFR has been shown to c...</td>\n",
       "      <td>predictsResistanceTo</td>\n",
       "      <td>ga4gh:VA.sMA9h8fzDi0RvweMlxtD0_Oi8B-JZ1V-</td>\n",
       "      <td>rxcui:337525</td>\n",
       "      <td>ncit:C2926</td>\n",
       "      <td>ga4gh:VA.sMA9h8fzDi0RvweMlxtD0_Oi8B-JZ1V- pred...</td>\n",
       "      <td>e000001</td>\n",
       "      <td>authoritative evidence</td>\n",
       "      <td>2</td>\n",
       "      <td>[authoritative evidence, observational study e...</td>\n",
       "      <td>EGFR T790M resistance mutation in non small-ce...</td>\n",
       "    </tr>\n",
       "    <tr>\n",
       "      <th>1</th>\n",
       "      <td>civic.eid:1409</td>\n",
       "      <td>Phase 3 randomized clinical trial comparing ve...</td>\n",
       "      <td>predictsSensitivityTo</td>\n",
       "      <td>ga4gh:VA.j4XnsLZcdzDIYa5pvvXM7t1wn9OITr0L</td>\n",
       "      <td>rxcui:1147220</td>\n",
       "      <td>ncit:C3510</td>\n",
       "      <td>ga4gh:VA.j4XnsLZcdzDIYa5pvvXM7t1wn9OITr0L pred...</td>\n",
       "      <td>e000001</td>\n",
       "      <td>authoritative evidence</td>\n",
       "      <td>2</td>\n",
       "      <td>[authoritative evidence, clinical cohort evide...</td>\n",
       "      <td>Improved survival with vemurafenib in melanoma...</td>\n",
       "    </tr>\n",
       "    <tr>\n",
       "      <th>2</th>\n",
       "      <td>civic.eid:1592</td>\n",
       "      <td>Osimertinib has been approved for the treatmen...</td>\n",
       "      <td>predictsSensitivityTo</td>\n",
       "      <td>ga4gh:VA.sMA9h8fzDi0RvweMlxtD0_Oi8B-JZ1V-</td>\n",
       "      <td>rxcui:1721560</td>\n",
       "      <td>ncit:C2926</td>\n",
       "      <td>ga4gh:VA.sMA9h8fzDi0RvweMlxtD0_Oi8B-JZ1V- pred...</td>\n",
       "      <td>e000001</td>\n",
       "      <td>authoritative evidence</td>\n",
       "      <td>8</td>\n",
       "      <td>[authoritative evidence, authoritative evidenc...</td>\n",
       "      <td>Osimertinib: First Global Approval.</td>\n",
       "    </tr>\n",
       "    <tr>\n",
       "      <th>3</th>\n",
       "      <td>civic.eid:1867</td>\n",
       "      <td>Randomized, international, open-label, phase 3...</td>\n",
       "      <td>predictsSensitivityTo</td>\n",
       "      <td>ga4gh:VA.sMA9h8fzDi0RvweMlxtD0_Oi8B-JZ1V-</td>\n",
       "      <td>rxcui:1721560</td>\n",
       "      <td>ncit:C2926</td>\n",
       "      <td>ga4gh:VA.sMA9h8fzDi0RvweMlxtD0_Oi8B-JZ1V- pred...</td>\n",
       "      <td>e000001</td>\n",
       "      <td>authoritative evidence</td>\n",
       "      <td>8</td>\n",
       "      <td>[authoritative evidence, authoritative evidenc...</td>\n",
       "      <td>Osimertinib or Platinum-Pemetrexed in EGFR T79...</td>\n",
       "    </tr>\n",
       "    <tr>\n",
       "      <th>4</th>\n",
       "      <td>civic.eid:2994</td>\n",
       "      <td>On May 14, 2013, the U.S. Food and Drug Admini...</td>\n",
       "      <td>predictsSensitivityTo</td>\n",
       "      <td>ga4gh:VA.S41CcMJT2bcd8R4-qXZWH1PoHWNtG2PZ</td>\n",
       "      <td>rxcui:337525</td>\n",
       "      <td>ncit:C2926</td>\n",
       "      <td>ga4gh:VA.S41CcMJT2bcd8R4-qXZWH1PoHWNtG2PZ pred...</td>\n",
       "      <td>e000001</td>\n",
       "      <td>authoritative evidence</td>\n",
       "      <td>7</td>\n",
       "      <td>[authoritative evidence, clinical cohort evide...</td>\n",
       "      <td>U.S. Food and Drug Administration approval sum...</td>\n",
       "    </tr>\n",
       "    <tr>\n",
       "      <th>...</th>\n",
       "      <td>...</td>\n",
       "      <td>...</td>\n",
       "      <td>...</td>\n",
       "      <td>...</td>\n",
       "      <td>...</td>\n",
       "      <td>...</td>\n",
       "      <td>...</td>\n",
       "      <td>...</td>\n",
       "      <td>...</td>\n",
       "      <td>...</td>\n",
       "      <td>...</td>\n",
       "      <td>...</td>\n",
       "    </tr>\n",
       "    <tr>\n",
       "      <th>1037</th>\n",
       "      <td>moa.assertion:961</td>\n",
       "      <td>The U.S. Food and Drug Administration (FDA) gr...</td>\n",
       "      <td>predictsSensitivityTo</td>\n",
       "      <td>ga4gh:VA.D6NzpWXKqBnbcZZrXNSXj4tMUwROKbsQ</td>\n",
       "      <td>rxcui:1364347</td>\n",
       "      <td>ncit:C3174</td>\n",
       "      <td>ga4gh:VA.D6NzpWXKqBnbcZZrXNSXj4tMUwROKbsQ pred...</td>\n",
       "      <td>e000002</td>\n",
       "      <td>FDA recognized evidence</td>\n",
       "      <td>1</td>\n",
       "      <td>[FDA recognized evidence]</td>\n",
       "      <td>Takeda Pharmaceuticals America, Inc. Iclusig (...</td>\n",
       "    </tr>\n",
       "    <tr>\n",
       "      <th>1038</th>\n",
       "      <td>moa.assertion:963</td>\n",
       "      <td>The U.S. Food and Drug Administration (FDA) gr...</td>\n",
       "      <td>predictsSensitivityTo</td>\n",
       "      <td>ga4gh:VA.pfWn9x9oFBRzGda1xXcOrE-BrX0R__N8</td>\n",
       "      <td>ncit:C106254</td>\n",
       "      <td>oncotree:LGGNOS</td>\n",
       "      <td>ga4gh:VA.pfWn9x9oFBRzGda1xXcOrE-BrX0R__N8 pred...</td>\n",
       "      <td>e000002</td>\n",
       "      <td>FDA recognized evidence</td>\n",
       "      <td>1</td>\n",
       "      <td>[FDA recognized evidence]</td>\n",
       "      <td>Day One Biopharmaceuticals, Inc. Ojemda (tovor...</td>\n",
       "    </tr>\n",
       "    <tr>\n",
       "      <th>1039</th>\n",
       "      <td>moa.assertion:967</td>\n",
       "      <td>The U.S. Food and Drug Administration (FDA) gr...</td>\n",
       "      <td>predictsSensitivityTo</td>\n",
       "      <td>ga4gh:VA.S41CcMJT2bcd8R4-qXZWH1PoHWNtG2PZ</td>\n",
       "      <td>rxcui:337525</td>\n",
       "      <td>ncit:C2926</td>\n",
       "      <td>ga4gh:VA.S41CcMJT2bcd8R4-qXZWH1PoHWNtG2PZ pred...</td>\n",
       "      <td>e000002</td>\n",
       "      <td>FDA recognized evidence</td>\n",
       "      <td>7</td>\n",
       "      <td>[authoritative evidence, clinical cohort evide...</td>\n",
       "      <td>OSI Pharmaceuticals, LLC. Tarceva (erlotinib) ...</td>\n",
       "    </tr>\n",
       "    <tr>\n",
       "      <th>1040</th>\n",
       "      <td>moa.assertion:969</td>\n",
       "      <td>The U.S. Food and Drug Administration (FDA) gr...</td>\n",
       "      <td>predictsSensitivityTo</td>\n",
       "      <td>ga4gh:VA.S41CcMJT2bcd8R4-qXZWH1PoHWNtG2PZ</td>\n",
       "      <td>rxcui:328134</td>\n",
       "      <td>ncit:C2926</td>\n",
       "      <td>ga4gh:VA.S41CcMJT2bcd8R4-qXZWH1PoHWNtG2PZ pred...</td>\n",
       "      <td>e000002</td>\n",
       "      <td>FDA recognized evidence</td>\n",
       "      <td>4</td>\n",
       "      <td>[clinical cohort evidence, clinical cohort evi...</td>\n",
       "      <td>Astrazeneca Pharmaceuticals LP. Iressa (gefiti...</td>\n",
       "    </tr>\n",
       "    <tr>\n",
       "      <th>1041</th>\n",
       "      <td>moa.assertion:973</td>\n",
       "      <td>The U.S. Food and Drug Administration (FDA) gr...</td>\n",
       "      <td>predictsSensitivityTo</td>\n",
       "      <td>ga4gh:VA.udBCHwlrf8xNiRy_19bLi-h5LhnZLgCt</td>\n",
       "      <td>moa.ctid:5e89NyyfMGR167xjfPQC_QJBxBI9OYZx</td>\n",
       "      <td>ncit:C5105</td>\n",
       "      <td>ga4gh:VA.udBCHwlrf8xNiRy_19bLi-h5LhnZLgCt pred...</td>\n",
       "      <td>e000002</td>\n",
       "      <td>FDA recognized evidence</td>\n",
       "      <td>1</td>\n",
       "      <td>[FDA recognized evidence]</td>\n",
       "      <td>Mirati Therapeutics, Inc. Krazati (adagrasib) ...</td>\n",
       "    </tr>\n",
       "  </tbody>\n",
       "</table>\n",
       "<p>1042 rows × 12 columns</p>\n",
       "</div>"
      ],
      "text/plain": [
       "                     id                                        description  \\\n",
       "0         civic.eid:238  The T790M mutation in EGFR has been shown to c...   \n",
       "1        civic.eid:1409  Phase 3 randomized clinical trial comparing ve...   \n",
       "2        civic.eid:1592  Osimertinib has been approved for the treatmen...   \n",
       "3        civic.eid:1867  Randomized, international, open-label, phase 3...   \n",
       "4        civic.eid:2994  On May 14, 2013, the U.S. Food and Drug Admini...   \n",
       "...                 ...                                                ...   \n",
       "1037  moa.assertion:961  The U.S. Food and Drug Administration (FDA) gr...   \n",
       "1038  moa.assertion:963  The U.S. Food and Drug Administration (FDA) gr...   \n",
       "1039  moa.assertion:967  The U.S. Food and Drug Administration (FDA) gr...   \n",
       "1040  moa.assertion:969  The U.S. Food and Drug Administration (FDA) gr...   \n",
       "1041  moa.assertion:973  The U.S. Food and Drug Administration (FDA) gr...   \n",
       "\n",
       "                  predicate                                    subject  \\\n",
       "0      predictsResistanceTo  ga4gh:VA.sMA9h8fzDi0RvweMlxtD0_Oi8B-JZ1V-   \n",
       "1     predictsSensitivityTo  ga4gh:VA.j4XnsLZcdzDIYa5pvvXM7t1wn9OITr0L   \n",
       "2     predictsSensitivityTo  ga4gh:VA.sMA9h8fzDi0RvweMlxtD0_Oi8B-JZ1V-   \n",
       "3     predictsSensitivityTo  ga4gh:VA.sMA9h8fzDi0RvweMlxtD0_Oi8B-JZ1V-   \n",
       "4     predictsSensitivityTo  ga4gh:VA.S41CcMJT2bcd8R4-qXZWH1PoHWNtG2PZ   \n",
       "...                     ...                                        ...   \n",
       "1037  predictsSensitivityTo  ga4gh:VA.D6NzpWXKqBnbcZZrXNSXj4tMUwROKbsQ   \n",
       "1038  predictsSensitivityTo  ga4gh:VA.pfWn9x9oFBRzGda1xXcOrE-BrX0R__N8   \n",
       "1039  predictsSensitivityTo  ga4gh:VA.S41CcMJT2bcd8R4-qXZWH1PoHWNtG2PZ   \n",
       "1040  predictsSensitivityTo  ga4gh:VA.S41CcMJT2bcd8R4-qXZWH1PoHWNtG2PZ   \n",
       "1041  predictsSensitivityTo  ga4gh:VA.udBCHwlrf8xNiRy_19bLi-h5LhnZLgCt   \n",
       "\n",
       "                                            obj        qualifier  \\\n",
       "0                                  rxcui:337525       ncit:C2926   \n",
       "1                                 rxcui:1147220       ncit:C3510   \n",
       "2                                 rxcui:1721560       ncit:C2926   \n",
       "3                                 rxcui:1721560       ncit:C2926   \n",
       "4                                  rxcui:337525       ncit:C2926   \n",
       "...                                         ...              ...   \n",
       "1037                              rxcui:1364347       ncit:C3174   \n",
       "1038                               ncit:C106254  oncotree:LGGNOS   \n",
       "1039                               rxcui:337525       ncit:C2926   \n",
       "1040                               rxcui:328134       ncit:C2926   \n",
       "1041  moa.ctid:5e89NyyfMGR167xjfPQC_QJBxBI9OYZx       ncit:C5105   \n",
       "\n",
       "                                         statement_full  \\\n",
       "0     ga4gh:VA.sMA9h8fzDi0RvweMlxtD0_Oi8B-JZ1V- pred...   \n",
       "1     ga4gh:VA.j4XnsLZcdzDIYa5pvvXM7t1wn9OITr0L pred...   \n",
       "2     ga4gh:VA.sMA9h8fzDi0RvweMlxtD0_Oi8B-JZ1V- pred...   \n",
       "3     ga4gh:VA.sMA9h8fzDi0RvweMlxtD0_Oi8B-JZ1V- pred...   \n",
       "4     ga4gh:VA.S41CcMJT2bcd8R4-qXZWH1PoHWNtG2PZ pred...   \n",
       "...                                                 ...   \n",
       "1037  ga4gh:VA.D6NzpWXKqBnbcZZrXNSXj4tMUwROKbsQ pred...   \n",
       "1038  ga4gh:VA.pfWn9x9oFBRzGda1xXcOrE-BrX0R__N8 pred...   \n",
       "1039  ga4gh:VA.S41CcMJT2bcd8R4-qXZWH1PoHWNtG2PZ pred...   \n",
       "1040  ga4gh:VA.S41CcMJT2bcd8R4-qXZWH1PoHWNtG2PZ pred...   \n",
       "1041  ga4gh:VA.udBCHwlrf8xNiRy_19bLi-h5LhnZLgCt pred...   \n",
       "\n",
       "     evidence_strength_code        evidence_strength counts  \\\n",
       "0                   e000001   authoritative evidence      2   \n",
       "1                   e000001   authoritative evidence      2   \n",
       "2                   e000001   authoritative evidence      8   \n",
       "3                   e000001   authoritative evidence      8   \n",
       "4                   e000001   authoritative evidence      7   \n",
       "...                     ...                      ...    ...   \n",
       "1037                e000002  FDA recognized evidence      1   \n",
       "1038                e000002  FDA recognized evidence      1   \n",
       "1039                e000002  FDA recognized evidence      7   \n",
       "1040                e000002  FDA recognized evidence      4   \n",
       "1041                e000002  FDA recognized evidence      1   \n",
       "\n",
       "                                        evidences_cross  \\\n",
       "0     [authoritative evidence, observational study e...   \n",
       "1     [authoritative evidence, clinical cohort evide...   \n",
       "2     [authoritative evidence, authoritative evidenc...   \n",
       "3     [authoritative evidence, authoritative evidenc...   \n",
       "4     [authoritative evidence, clinical cohort evide...   \n",
       "...                                                 ...   \n",
       "1037                          [FDA recognized evidence]   \n",
       "1038                          [FDA recognized evidence]   \n",
       "1039  [authoritative evidence, clinical cohort evide...   \n",
       "1040  [clinical cohort evidence, clinical cohort evi...   \n",
       "1041                          [FDA recognized evidence]   \n",
       "\n",
       "                                                 source  \n",
       "0     EGFR T790M resistance mutation in non small-ce...  \n",
       "1     Improved survival with vemurafenib in melanoma...  \n",
       "2                   Osimertinib: First Global Approval.  \n",
       "3     Osimertinib or Platinum-Pemetrexed in EGFR T79...  \n",
       "4     U.S. Food and Drug Administration approval sum...  \n",
       "...                                                 ...  \n",
       "1037  Takeda Pharmaceuticals America, Inc. Iclusig (...  \n",
       "1038  Day One Biopharmaceuticals, Inc. Ojemda (tovor...  \n",
       "1039  OSI Pharmaceuticals, LLC. Tarceva (erlotinib) ...  \n",
       "1040  Astrazeneca Pharmaceuticals LP. Iressa (gefiti...  \n",
       "1041  Mirati Therapeutics, Inc. Krazati (adagrasib) ...  \n",
       "\n",
       "[1042 rows x 12 columns]"
      ]
     },
     "execution_count": 99,
     "metadata": {},
     "output_type": "execute_result"
    }
   ],
   "source": [
    "df"
   ]
  },
  {
   "cell_type": "code",
   "execution_count": 100,
   "metadata": {},
   "outputs": [
    {
     "data": {
      "text/plain": [
       "source\n",
       "Effects of KRAS, BRAF, NRAS, and PIK3CA mutations on the efficacy of cetuximab plus chemotherapy in chemotherapy-refractory metastatic colorectal cancer: a retrospective consortium analysis.                                                                                                                                            31\n",
       "Negative feedback-defective PRPS1 mutants drive thiopurine resistance in relapsed childhood ALL.                                                                                                                                                                                                                                          26\n",
       "Referenced with permission from the NCCN Clinical Practice Guidelines in Oncology (NCCN Guidelines®) for Chronic Myelogenous Leukemia V.2.2016. © National Comprehensive Cancer Network, Inc. 2016. All rights reserved. Accessed August 9 2016. To view the most recent and complete version of the guideline, go online to NCCN.org.    25\n",
       "Ponatinib inhibits polyclonal drug-resistant KIT oncoproteins and shows therapeutic potential in heavily pretreated gastrointestinal stromal tumor (GIST) patients.                                                                                                                                                                       22\n",
       "O'Brien C, Wallin JJ, Sampath D, et al. Predictive biomarkers of sensitivity to the phosphatidylinositol 3' kinase inhibitor GDC-0941 in breast cancer preclinical models. Clin Cancer Res. 2010;16(14):3670-83.                                                                                                                          20\n",
       "                                                                                                                                                                                                                                                                                                                                          ..\n",
       "Emergence of polyclonal FLT3 tyrosine kinase domain mutations during sequential therapy with sorafenib and sunitinib in FLT3-ITD-positive acute myeloid leukemia.                                                                                                                                                                          1\n",
       "Activity of the oral MEK inhibitor trametinib in patients with advanced melanoma: a phase 1 dose-escalation trial.                                                                                                                                                                                                                         1\n",
       "BRAFV600E Mutations in High-Grade Colorectal Neuroendocrine Tumors May Predict Responsiveness to BRAF-MEK Combination Therapy.                                                                                                                                                                                                             1\n",
       "Long Term Survival and Continued Complete Response of Vemurafenib in a Metastatic Melanoma Patient with BRAF V600K Mutation.                                                                                                                                                                                                               1\n",
       "Mirati Therapeutics, Inc. Krazati (adagrasib) [package insert]. U.S. Food and Drug Administration website. https://www.accessdata.fda.gov/drugsatfda_docs/label/2024/216340s005lbl.pdf. Revised June 2024. Accessed July 11, 2024.                                                                                                         1\n",
       "Name: count, Length: 426, dtype: int64"
      ]
     },
     "execution_count": 100,
     "metadata": {},
     "output_type": "execute_result"
    }
   ],
   "source": [
    "df['source'].value_counts()"
   ]
  },
  {
   "cell_type": "code",
   "execution_count": 101,
   "metadata": {},
   "outputs": [
    {
     "data": {
      "text/html": [
       "<div>\n",
       "<style scoped>\n",
       "    .dataframe tbody tr th:only-of-type {\n",
       "        vertical-align: middle;\n",
       "    }\n",
       "\n",
       "    .dataframe tbody tr th {\n",
       "        vertical-align: top;\n",
       "    }\n",
       "\n",
       "    .dataframe thead th {\n",
       "        text-align: right;\n",
       "    }\n",
       "</style>\n",
       "<table border=\"1\" class=\"dataframe\">\n",
       "  <thead>\n",
       "    <tr style=\"text-align: right;\">\n",
       "      <th></th>\n",
       "      <th>id</th>\n",
       "      <th>description</th>\n",
       "      <th>predicate</th>\n",
       "      <th>subject</th>\n",
       "      <th>obj</th>\n",
       "      <th>qualifier</th>\n",
       "      <th>statement_full</th>\n",
       "      <th>evidence_strength_code</th>\n",
       "      <th>evidence_strength</th>\n",
       "      <th>counts</th>\n",
       "      <th>evidences_cross</th>\n",
       "      <th>source</th>\n",
       "    </tr>\n",
       "  </thead>\n",
       "  <tbody>\n",
       "    <tr>\n",
       "      <th>0</th>\n",
       "      <td>civic.eid:238</td>\n",
       "      <td>The T790M mutation in EGFR has been shown to c...</td>\n",
       "      <td>predictsResistanceTo</td>\n",
       "      <td>ga4gh:VA.sMA9h8fzDi0RvweMlxtD0_Oi8B-JZ1V-</td>\n",
       "      <td>rxcui:337525</td>\n",
       "      <td>ncit:C2926</td>\n",
       "      <td>ga4gh:VA.sMA9h8fzDi0RvweMlxtD0_Oi8B-JZ1V- pred...</td>\n",
       "      <td>e000001</td>\n",
       "      <td>authoritative evidence</td>\n",
       "      <td>2</td>\n",
       "      <td>[authoritative evidence, observational study e...</td>\n",
       "      <td>EGFR T790M resistance mutation in non small-ce...</td>\n",
       "    </tr>\n",
       "    <tr>\n",
       "      <th>1</th>\n",
       "      <td>civic.eid:1409</td>\n",
       "      <td>Phase 3 randomized clinical trial comparing ve...</td>\n",
       "      <td>predictsSensitivityTo</td>\n",
       "      <td>ga4gh:VA.j4XnsLZcdzDIYa5pvvXM7t1wn9OITr0L</td>\n",
       "      <td>rxcui:1147220</td>\n",
       "      <td>ncit:C3510</td>\n",
       "      <td>ga4gh:VA.j4XnsLZcdzDIYa5pvvXM7t1wn9OITr0L pred...</td>\n",
       "      <td>e000001</td>\n",
       "      <td>authoritative evidence</td>\n",
       "      <td>2</td>\n",
       "      <td>[authoritative evidence, clinical cohort evide...</td>\n",
       "      <td>Improved survival with vemurafenib in melanoma...</td>\n",
       "    </tr>\n",
       "    <tr>\n",
       "      <th>2</th>\n",
       "      <td>civic.eid:1592</td>\n",
       "      <td>Osimertinib has been approved for the treatmen...</td>\n",
       "      <td>predictsSensitivityTo</td>\n",
       "      <td>ga4gh:VA.sMA9h8fzDi0RvweMlxtD0_Oi8B-JZ1V-</td>\n",
       "      <td>rxcui:1721560</td>\n",
       "      <td>ncit:C2926</td>\n",
       "      <td>ga4gh:VA.sMA9h8fzDi0RvweMlxtD0_Oi8B-JZ1V- pred...</td>\n",
       "      <td>e000001</td>\n",
       "      <td>authoritative evidence</td>\n",
       "      <td>8</td>\n",
       "      <td>[authoritative evidence, authoritative evidenc...</td>\n",
       "      <td>Osimertinib: First Global Approval.</td>\n",
       "    </tr>\n",
       "    <tr>\n",
       "      <th>3</th>\n",
       "      <td>civic.eid:1867</td>\n",
       "      <td>Randomized, international, open-label, phase 3...</td>\n",
       "      <td>predictsSensitivityTo</td>\n",
       "      <td>ga4gh:VA.sMA9h8fzDi0RvweMlxtD0_Oi8B-JZ1V-</td>\n",
       "      <td>rxcui:1721560</td>\n",
       "      <td>ncit:C2926</td>\n",
       "      <td>ga4gh:VA.sMA9h8fzDi0RvweMlxtD0_Oi8B-JZ1V- pred...</td>\n",
       "      <td>e000001</td>\n",
       "      <td>authoritative evidence</td>\n",
       "      <td>8</td>\n",
       "      <td>[authoritative evidence, authoritative evidenc...</td>\n",
       "      <td>Osimertinib or Platinum-Pemetrexed in EGFR T79...</td>\n",
       "    </tr>\n",
       "    <tr>\n",
       "      <th>4</th>\n",
       "      <td>civic.eid:2994</td>\n",
       "      <td>On May 14, 2013, the U.S. Food and Drug Admini...</td>\n",
       "      <td>predictsSensitivityTo</td>\n",
       "      <td>ga4gh:VA.S41CcMJT2bcd8R4-qXZWH1PoHWNtG2PZ</td>\n",
       "      <td>rxcui:337525</td>\n",
       "      <td>ncit:C2926</td>\n",
       "      <td>ga4gh:VA.S41CcMJT2bcd8R4-qXZWH1PoHWNtG2PZ pred...</td>\n",
       "      <td>e000001</td>\n",
       "      <td>authoritative evidence</td>\n",
       "      <td>7</td>\n",
       "      <td>[authoritative evidence, clinical cohort evide...</td>\n",
       "      <td>U.S. Food and Drug Administration approval sum...</td>\n",
       "    </tr>\n",
       "    <tr>\n",
       "      <th>...</th>\n",
       "      <td>...</td>\n",
       "      <td>...</td>\n",
       "      <td>...</td>\n",
       "      <td>...</td>\n",
       "      <td>...</td>\n",
       "      <td>...</td>\n",
       "      <td>...</td>\n",
       "      <td>...</td>\n",
       "      <td>...</td>\n",
       "      <td>...</td>\n",
       "      <td>...</td>\n",
       "      <td>...</td>\n",
       "    </tr>\n",
       "    <tr>\n",
       "      <th>220</th>\n",
       "      <td>moa.assertion:813</td>\n",
       "      <td>The U.S. Food and Drug Administration (FDA) gr...</td>\n",
       "      <td>predictsSensitivityTo</td>\n",
       "      <td>ga4gh:VA.lAST62ntkEaXy6RDDOF1V4C3jd-jaAJ5</td>\n",
       "      <td>rxcui:2049873</td>\n",
       "      <td>ncit:C3171</td>\n",
       "      <td>ga4gh:VA.lAST62ntkEaXy6RDDOF1V4C3jd-jaAJ5 pred...</td>\n",
       "      <td>e000002</td>\n",
       "      <td>FDA recognized evidence</td>\n",
       "      <td>3</td>\n",
       "      <td>[clinical cohort evidence, FDA recognized evid...</td>\n",
       "      <td>Servier Pharmaceuticals LLC. Tibsovo (ivosiden...</td>\n",
       "    </tr>\n",
       "    <tr>\n",
       "      <th>221</th>\n",
       "      <td>moa.assertion:944</td>\n",
       "      <td>The U.S. Food and Drug Administration (FDA) ap...</td>\n",
       "      <td>predictsSensitivityTo</td>\n",
       "      <td>ga4gh:VA.j4XnsLZcdzDIYa5pvvXM7t1wn9OITr0L</td>\n",
       "      <td>rxcui:1147220</td>\n",
       "      <td>ncit:C53972</td>\n",
       "      <td>ga4gh:VA.j4XnsLZcdzDIYa5pvvXM7t1wn9OITr0L pred...</td>\n",
       "      <td>e000002</td>\n",
       "      <td>FDA recognized evidence</td>\n",
       "      <td>2</td>\n",
       "      <td>[interventional study evidence, FDA recognized...</td>\n",
       "      <td>Genentech, Inc. Zelboraf (vemurafenib) [packag...</td>\n",
       "    </tr>\n",
       "    <tr>\n",
       "      <th>222</th>\n",
       "      <td>moa.assertion:950</td>\n",
       "      <td>The U.S. Food and Drug Administration (FDA) gr...</td>\n",
       "      <td>predictsSensitivityTo</td>\n",
       "      <td>ga4gh:VA.S41CcMJT2bcd8R4-qXZWH1PoHWNtG2PZ</td>\n",
       "      <td>rxcui:1721560</td>\n",
       "      <td>ncit:C2926</td>\n",
       "      <td>ga4gh:VA.S41CcMJT2bcd8R4-qXZWH1PoHWNtG2PZ pred...</td>\n",
       "      <td>e000002</td>\n",
       "      <td>FDA recognized evidence</td>\n",
       "      <td>4</td>\n",
       "      <td>[preclinical evidence, interventional study ev...</td>\n",
       "      <td>AstraZeneca Pharmaceuticals, LP. Tagrisso (osi...</td>\n",
       "    </tr>\n",
       "    <tr>\n",
       "      <th>223</th>\n",
       "      <td>moa.assertion:967</td>\n",
       "      <td>The U.S. Food and Drug Administration (FDA) gr...</td>\n",
       "      <td>predictsSensitivityTo</td>\n",
       "      <td>ga4gh:VA.S41CcMJT2bcd8R4-qXZWH1PoHWNtG2PZ</td>\n",
       "      <td>rxcui:337525</td>\n",
       "      <td>ncit:C2926</td>\n",
       "      <td>ga4gh:VA.S41CcMJT2bcd8R4-qXZWH1PoHWNtG2PZ pred...</td>\n",
       "      <td>e000002</td>\n",
       "      <td>FDA recognized evidence</td>\n",
       "      <td>7</td>\n",
       "      <td>[authoritative evidence, clinical cohort evide...</td>\n",
       "      <td>OSI Pharmaceuticals, LLC. Tarceva (erlotinib) ...</td>\n",
       "    </tr>\n",
       "    <tr>\n",
       "      <th>224</th>\n",
       "      <td>moa.assertion:969</td>\n",
       "      <td>The U.S. Food and Drug Administration (FDA) gr...</td>\n",
       "      <td>predictsSensitivityTo</td>\n",
       "      <td>ga4gh:VA.S41CcMJT2bcd8R4-qXZWH1PoHWNtG2PZ</td>\n",
       "      <td>rxcui:328134</td>\n",
       "      <td>ncit:C2926</td>\n",
       "      <td>ga4gh:VA.S41CcMJT2bcd8R4-qXZWH1PoHWNtG2PZ pred...</td>\n",
       "      <td>e000002</td>\n",
       "      <td>FDA recognized evidence</td>\n",
       "      <td>4</td>\n",
       "      <td>[clinical cohort evidence, clinical cohort evi...</td>\n",
       "      <td>Astrazeneca Pharmaceuticals LP. Iressa (gefiti...</td>\n",
       "    </tr>\n",
       "  </tbody>\n",
       "</table>\n",
       "<p>225 rows × 12 columns</p>\n",
       "</div>"
      ],
      "text/plain": [
       "                    id                                        description  \\\n",
       "0        civic.eid:238  The T790M mutation in EGFR has been shown to c...   \n",
       "1       civic.eid:1409  Phase 3 randomized clinical trial comparing ve...   \n",
       "2       civic.eid:1592  Osimertinib has been approved for the treatmen...   \n",
       "3       civic.eid:1867  Randomized, international, open-label, phase 3...   \n",
       "4       civic.eid:2994  On May 14, 2013, the U.S. Food and Drug Admini...   \n",
       "..                 ...                                                ...   \n",
       "220  moa.assertion:813  The U.S. Food and Drug Administration (FDA) gr...   \n",
       "221  moa.assertion:944  The U.S. Food and Drug Administration (FDA) ap...   \n",
       "222  moa.assertion:950  The U.S. Food and Drug Administration (FDA) gr...   \n",
       "223  moa.assertion:967  The U.S. Food and Drug Administration (FDA) gr...   \n",
       "224  moa.assertion:969  The U.S. Food and Drug Administration (FDA) gr...   \n",
       "\n",
       "                 predicate                                    subject  \\\n",
       "0     predictsResistanceTo  ga4gh:VA.sMA9h8fzDi0RvweMlxtD0_Oi8B-JZ1V-   \n",
       "1    predictsSensitivityTo  ga4gh:VA.j4XnsLZcdzDIYa5pvvXM7t1wn9OITr0L   \n",
       "2    predictsSensitivityTo  ga4gh:VA.sMA9h8fzDi0RvweMlxtD0_Oi8B-JZ1V-   \n",
       "3    predictsSensitivityTo  ga4gh:VA.sMA9h8fzDi0RvweMlxtD0_Oi8B-JZ1V-   \n",
       "4    predictsSensitivityTo  ga4gh:VA.S41CcMJT2bcd8R4-qXZWH1PoHWNtG2PZ   \n",
       "..                     ...                                        ...   \n",
       "220  predictsSensitivityTo  ga4gh:VA.lAST62ntkEaXy6RDDOF1V4C3jd-jaAJ5   \n",
       "221  predictsSensitivityTo  ga4gh:VA.j4XnsLZcdzDIYa5pvvXM7t1wn9OITr0L   \n",
       "222  predictsSensitivityTo  ga4gh:VA.S41CcMJT2bcd8R4-qXZWH1PoHWNtG2PZ   \n",
       "223  predictsSensitivityTo  ga4gh:VA.S41CcMJT2bcd8R4-qXZWH1PoHWNtG2PZ   \n",
       "224  predictsSensitivityTo  ga4gh:VA.S41CcMJT2bcd8R4-qXZWH1PoHWNtG2PZ   \n",
       "\n",
       "               obj    qualifier  \\\n",
       "0     rxcui:337525   ncit:C2926   \n",
       "1    rxcui:1147220   ncit:C3510   \n",
       "2    rxcui:1721560   ncit:C2926   \n",
       "3    rxcui:1721560   ncit:C2926   \n",
       "4     rxcui:337525   ncit:C2926   \n",
       "..             ...          ...   \n",
       "220  rxcui:2049873   ncit:C3171   \n",
       "221  rxcui:1147220  ncit:C53972   \n",
       "222  rxcui:1721560   ncit:C2926   \n",
       "223   rxcui:337525   ncit:C2926   \n",
       "224   rxcui:328134   ncit:C2926   \n",
       "\n",
       "                                        statement_full evidence_strength_code  \\\n",
       "0    ga4gh:VA.sMA9h8fzDi0RvweMlxtD0_Oi8B-JZ1V- pred...                e000001   \n",
       "1    ga4gh:VA.j4XnsLZcdzDIYa5pvvXM7t1wn9OITr0L pred...                e000001   \n",
       "2    ga4gh:VA.sMA9h8fzDi0RvweMlxtD0_Oi8B-JZ1V- pred...                e000001   \n",
       "3    ga4gh:VA.sMA9h8fzDi0RvweMlxtD0_Oi8B-JZ1V- pred...                e000001   \n",
       "4    ga4gh:VA.S41CcMJT2bcd8R4-qXZWH1PoHWNtG2PZ pred...                e000001   \n",
       "..                                                 ...                    ...   \n",
       "220  ga4gh:VA.lAST62ntkEaXy6RDDOF1V4C3jd-jaAJ5 pred...                e000002   \n",
       "221  ga4gh:VA.j4XnsLZcdzDIYa5pvvXM7t1wn9OITr0L pred...                e000002   \n",
       "222  ga4gh:VA.S41CcMJT2bcd8R4-qXZWH1PoHWNtG2PZ pred...                e000002   \n",
       "223  ga4gh:VA.S41CcMJT2bcd8R4-qXZWH1PoHWNtG2PZ pred...                e000002   \n",
       "224  ga4gh:VA.S41CcMJT2bcd8R4-qXZWH1PoHWNtG2PZ pred...                e000002   \n",
       "\n",
       "           evidence_strength counts  \\\n",
       "0     authoritative evidence      2   \n",
       "1     authoritative evidence      2   \n",
       "2     authoritative evidence      8   \n",
       "3     authoritative evidence      8   \n",
       "4     authoritative evidence      7   \n",
       "..                       ...    ...   \n",
       "220  FDA recognized evidence      3   \n",
       "221  FDA recognized evidence      2   \n",
       "222  FDA recognized evidence      4   \n",
       "223  FDA recognized evidence      7   \n",
       "224  FDA recognized evidence      4   \n",
       "\n",
       "                                       evidences_cross  \\\n",
       "0    [authoritative evidence, observational study e...   \n",
       "1    [authoritative evidence, clinical cohort evide...   \n",
       "2    [authoritative evidence, authoritative evidenc...   \n",
       "3    [authoritative evidence, authoritative evidenc...   \n",
       "4    [authoritative evidence, clinical cohort evide...   \n",
       "..                                                 ...   \n",
       "220  [clinical cohort evidence, FDA recognized evid...   \n",
       "221  [interventional study evidence, FDA recognized...   \n",
       "222  [preclinical evidence, interventional study ev...   \n",
       "223  [authoritative evidence, clinical cohort evide...   \n",
       "224  [clinical cohort evidence, clinical cohort evi...   \n",
       "\n",
       "                                                source  \n",
       "0    EGFR T790M resistance mutation in non small-ce...  \n",
       "1    Improved survival with vemurafenib in melanoma...  \n",
       "2                  Osimertinib: First Global Approval.  \n",
       "3    Osimertinib or Platinum-Pemetrexed in EGFR T79...  \n",
       "4    U.S. Food and Drug Administration approval sum...  \n",
       "..                                                 ...  \n",
       "220  Servier Pharmaceuticals LLC. Tibsovo (ivosiden...  \n",
       "221  Genentech, Inc. Zelboraf (vemurafenib) [packag...  \n",
       "222  AstraZeneca Pharmaceuticals, LP. Tagrisso (osi...  \n",
       "223  OSI Pharmaceuticals, LLC. Tarceva (erlotinib) ...  \n",
       "224  Astrazeneca Pharmaceuticals LP. Iressa (gefiti...  \n",
       "\n",
       "[225 rows x 12 columns]"
      ]
     },
     "execution_count": 101,
     "metadata": {},
     "output_type": "execute_result"
    }
   ],
   "source": [
    "duplicates = df[df['counts']>1].reset_index(drop=True)\n",
    "duplicates"
   ]
  },
  {
   "cell_type": "code",
   "execution_count": 102,
   "metadata": {},
   "outputs": [
    {
     "data": {
      "text/plain": [
       "source\n",
       "PIK3CA mutations in colorectal cancer are associated with clinical resistance to EGFR-targeted monoclonal antibodies.                                                                                                                                    6\n",
       "Effects of KRAS, BRAF, NRAS, and PIK3CA mutations on the efficacy of cetuximab plus chemotherapy in chemotherapy-refractory metastatic colorectal cancer: a retrospective consortium analysis.                                                           5\n",
       "Novartis Pharmaceuticals Corporation. Tafinlar (dabrafenib) [package insert]. U.S. Food and Drug Administration website. https://www.accessdata.fda.gov/drugsatfda_docs/label/2020/202806s015lbl.pdf. Revised April 2020. Accessed November 12, 2020.    5\n",
       "Activation of N-ras and K-ras induced by interleukin-6 in a myeloma cell line: implications for disease progression and therapeutic response.                                                                                                            4\n",
       "Reduction of serum IGF-I levels in patients affected with Monoclonal Gammopathies of undetermined significance or Multiple Myeloma. Comparison with bFGF, VEGF and K-ras gene mutation.                                                                  4\n",
       "                                                                                                                                                                                                                                                        ..\n",
       "Specific EGFR mutations predict treatment outcome of stage IIIB/IV patients with chemotherapy-naive non-small-cell lung cancer receiving first-line gefitinib monotherapy.                                                                               1\n",
       "Pilot trial of combined BRAF and EGFR inhibition in BRAF-mutant metastatic colorectal cancer patients.                                                                                                                                                   1\n",
       "Survival in BRAF V600-mutant advanced melanoma treated with vemurafenib.                                                                                                                                                                                 1\n",
       "Phase II study of single-agent cetuximab in KRAS G13D mutant metastatic colorectal cancer.                                                                                                                                                               1\n",
       "Astrazeneca Pharmaceuticals LP. Iressa (gefitinib) [package insert]. U.S. Food and Drug Administration website. https://www.accessdata.fda.gov/drugsatfda_docs/label/2021/206995s004lbl.pdf. Revised May 2021. Accessed June 3, 2024.                    1\n",
       "Name: count, Length: 158, dtype: int64"
      ]
     },
     "execution_count": 102,
     "metadata": {},
     "output_type": "execute_result"
    }
   ],
   "source": [
    "duplicates['source'].value_counts()"
   ]
  },
  {
   "cell_type": "code",
   "execution_count": 108,
   "metadata": {},
   "outputs": [
    {
     "data": {
      "text/html": [
       "<div>\n",
       "<style scoped>\n",
       "    .dataframe tbody tr th:only-of-type {\n",
       "        vertical-align: middle;\n",
       "    }\n",
       "\n",
       "    .dataframe tbody tr th {\n",
       "        vertical-align: top;\n",
       "    }\n",
       "\n",
       "    .dataframe thead th {\n",
       "        text-align: right;\n",
       "    }\n",
       "</style>\n",
       "<table border=\"1\" class=\"dataframe\">\n",
       "  <thead>\n",
       "    <tr style=\"text-align: right;\">\n",
       "      <th></th>\n",
       "      <th>id</th>\n",
       "      <th>description</th>\n",
       "      <th>predicate</th>\n",
       "      <th>subject</th>\n",
       "      <th>obj</th>\n",
       "      <th>qualifier</th>\n",
       "      <th>statement_full</th>\n",
       "      <th>evidence_strength_code</th>\n",
       "      <th>evidence_strength</th>\n",
       "      <th>counts</th>\n",
       "      <th>evidences_cross</th>\n",
       "      <th>source</th>\n",
       "    </tr>\n",
       "  </thead>\n",
       "  <tbody>\n",
       "    <tr>\n",
       "      <th>64</th>\n",
       "      <td>civic.eid:2009</td>\n",
       "      <td>In a study of patients receiving melphalan-bas...</td>\n",
       "      <td>predictsResistanceTo</td>\n",
       "      <td>ga4gh:VA.6_uW58_HmIcOOQshfkvhuGjCSFL5H3fs</td>\n",
       "      <td>rxcui:6718</td>\n",
       "      <td>ncit:C3242</td>\n",
       "      <td>ga4gh:VA.6_uW58_HmIcOOQshfkvhuGjCSFL5H3fs pred...</td>\n",
       "      <td>e000005</td>\n",
       "      <td>clinical cohort evidence</td>\n",
       "      <td>4</td>\n",
       "      <td>[clinical cohort evidence, preclinical evidenc...</td>\n",
       "      <td>Reduction of serum IGF-I levels in patients af...</td>\n",
       "    </tr>\n",
       "    <tr>\n",
       "      <th>65</th>\n",
       "      <td>civic.eid:2247</td>\n",
       "      <td>In a study of patients receiving melphalan-bas...</td>\n",
       "      <td>predictsResistanceTo</td>\n",
       "      <td>ga4gh:VA.cdcXITbBWUXPjy3zPdhs7xjU1yvlkSrj</td>\n",
       "      <td>rxcui:6718</td>\n",
       "      <td>ncit:C3242</td>\n",
       "      <td>ga4gh:VA.cdcXITbBWUXPjy3zPdhs7xjU1yvlkSrj pred...</td>\n",
       "      <td>e000005</td>\n",
       "      <td>clinical cohort evidence</td>\n",
       "      <td>4</td>\n",
       "      <td>[clinical cohort evidence, preclinical evidenc...</td>\n",
       "      <td>Reduction of serum IGF-I levels in patients af...</td>\n",
       "    </tr>\n",
       "    <tr>\n",
       "      <th>66</th>\n",
       "      <td>civic.eid:2258</td>\n",
       "      <td>In a study of patients receiving melphalan-bas...</td>\n",
       "      <td>predictsResistanceTo</td>\n",
       "      <td>ga4gh:VA.udBCHwlrf8xNiRy_19bLi-h5LhnZLgCt</td>\n",
       "      <td>rxcui:6718</td>\n",
       "      <td>ncit:C3242</td>\n",
       "      <td>ga4gh:VA.udBCHwlrf8xNiRy_19bLi-h5LhnZLgCt pred...</td>\n",
       "      <td>e000005</td>\n",
       "      <td>clinical cohort evidence</td>\n",
       "      <td>4</td>\n",
       "      <td>[clinical cohort evidence, preclinical evidenc...</td>\n",
       "      <td>Reduction of serum IGF-I levels in patients af...</td>\n",
       "    </tr>\n",
       "    <tr>\n",
       "      <th>67</th>\n",
       "      <td>civic.eid:2274</td>\n",
       "      <td>In a study of patients receiving melphalan-bas...</td>\n",
       "      <td>predictsResistanceTo</td>\n",
       "      <td>ga4gh:VA.ZqmNu5AN2PRYFl0K9eBQ_bo2pJAGKSoa</td>\n",
       "      <td>rxcui:6718</td>\n",
       "      <td>ncit:C3242</td>\n",
       "      <td>ga4gh:VA.ZqmNu5AN2PRYFl0K9eBQ_bo2pJAGKSoa pred...</td>\n",
       "      <td>e000005</td>\n",
       "      <td>clinical cohort evidence</td>\n",
       "      <td>4</td>\n",
       "      <td>[clinical cohort evidence, preclinical evidenc...</td>\n",
       "      <td>Reduction of serum IGF-I levels in patients af...</td>\n",
       "    </tr>\n",
       "  </tbody>\n",
       "</table>\n",
       "</div>"
      ],
      "text/plain": [
       "                id                                        description  \\\n",
       "64  civic.eid:2009  In a study of patients receiving melphalan-bas...   \n",
       "65  civic.eid:2247  In a study of patients receiving melphalan-bas...   \n",
       "66  civic.eid:2258  In a study of patients receiving melphalan-bas...   \n",
       "67  civic.eid:2274  In a study of patients receiving melphalan-bas...   \n",
       "\n",
       "               predicate                                    subject  \\\n",
       "64  predictsResistanceTo  ga4gh:VA.6_uW58_HmIcOOQshfkvhuGjCSFL5H3fs   \n",
       "65  predictsResistanceTo  ga4gh:VA.cdcXITbBWUXPjy3zPdhs7xjU1yvlkSrj   \n",
       "66  predictsResistanceTo  ga4gh:VA.udBCHwlrf8xNiRy_19bLi-h5LhnZLgCt   \n",
       "67  predictsResistanceTo  ga4gh:VA.ZqmNu5AN2PRYFl0K9eBQ_bo2pJAGKSoa   \n",
       "\n",
       "           obj   qualifier                                     statement_full  \\\n",
       "64  rxcui:6718  ncit:C3242  ga4gh:VA.6_uW58_HmIcOOQshfkvhuGjCSFL5H3fs pred...   \n",
       "65  rxcui:6718  ncit:C3242  ga4gh:VA.cdcXITbBWUXPjy3zPdhs7xjU1yvlkSrj pred...   \n",
       "66  rxcui:6718  ncit:C3242  ga4gh:VA.udBCHwlrf8xNiRy_19bLi-h5LhnZLgCt pred...   \n",
       "67  rxcui:6718  ncit:C3242  ga4gh:VA.ZqmNu5AN2PRYFl0K9eBQ_bo2pJAGKSoa pred...   \n",
       "\n",
       "   evidence_strength_code         evidence_strength counts  \\\n",
       "64                e000005  clinical cohort evidence      4   \n",
       "65                e000005  clinical cohort evidence      4   \n",
       "66                e000005  clinical cohort evidence      4   \n",
       "67                e000005  clinical cohort evidence      4   \n",
       "\n",
       "                                      evidences_cross  \\\n",
       "64  [clinical cohort evidence, preclinical evidenc...   \n",
       "65  [clinical cohort evidence, preclinical evidenc...   \n",
       "66  [clinical cohort evidence, preclinical evidenc...   \n",
       "67  [clinical cohort evidence, preclinical evidenc...   \n",
       "\n",
       "                                               source  \n",
       "64  Reduction of serum IGF-I levels in patients af...  \n",
       "65  Reduction of serum IGF-I levels in patients af...  \n",
       "66  Reduction of serum IGF-I levels in patients af...  \n",
       "67  Reduction of serum IGF-I levels in patients af...  "
      ]
     },
     "execution_count": 108,
     "metadata": {},
     "output_type": "execute_result"
    }
   ],
   "source": [
    "duplicates[duplicates['source']=='Reduction of serum IGF-I levels in patients affected with Monoclonal Gammopathies of undetermined significance or Multiple Myeloma. Comparison with bFGF, VEGF and K-ras gene mutation.']"
   ]
  },
  {
   "cell_type": "code",
   "execution_count": 109,
   "metadata": {},
   "outputs": [],
   "source": [
    "#   for group of source duplicates\n",
    "#       if moa exists AND civic exists\n",
    "#           check for duplication / evidence strength level\n",
    "#  \n",
    "#   for group of source duplicates\n",
    "#       grab group of variants (subject)\n",
    "#           check for single record vs multiple records\n",
    "#           if more than 1 record\n",
    "#               get length of records"
   ]
  },
  {
   "cell_type": "code",
   "execution_count": null,
   "metadata": {},
   "outputs": [],
   "source": []
  }
 ],
 "metadata": {
  "kernelspec": {
   "display_name": "3.10.14",
   "language": "python",
   "name": "python3"
  },
  "language_info": {
   "codemirror_mode": {
    "name": "ipython",
    "version": 3
   },
   "file_extension": ".py",
   "mimetype": "text/x-python",
   "name": "python",
   "nbconvert_exporter": "python",
   "pygments_lexer": "ipython3",
   "version": "3.10.14"
  }
 },
 "nbformat": 4,
 "nbformat_minor": 2
}
