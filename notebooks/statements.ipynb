{
 "cells": [
  {
   "cell_type": "code",
   "execution_count": 3,
   "metadata": {},
   "outputs": [],
   "source": [
    "from neo4j import GraphDatabase\n",
    "import pandas as pd\n",
    "import requests\n",
    "from tqdm import tqdm\n",
    "import re"
   ]
  },
  {
   "cell_type": "code",
   "execution_count": 10,
   "metadata": {},
   "outputs": [],
   "source": [
    "# Function to create a connection to the Neo4j database\n",
    "def create_db_connection(uri, user, password):\n",
    "    driver = GraphDatabase.driver(uri, auth=(user, password))\n",
    "    return driver\n",
    "\n",
    "# Function to execute a Cypher query\n",
    "def execute_query(driver, query):\n",
    "    with driver.session() as session:\n",
    "        result = session.run(query)\n",
    "        return [record for record in result]\n",
    "\n",
    "# Connect to the Neo4j database\n",
    "uri = \"bolt://localhost:7687\"\n",
    "user = \"neo4j\"\n",
    "password = \"password\"  # Replace 'your_password' with your actual password\n",
    "driver = create_db_connection(uri, user, password)\n",
    "\n",
    "\n",
    "query_studies = \"\"\"MATCH (s:Study)\n",
    "    RETURN properties(s) AS Study\n",
    "\"\"\"\n",
    "\n",
    "# Execute the query\n",
    "result = execute_query(driver, query_studies)\n",
    "\n",
    "# Close the connection\n",
    "driver.close()\n"
   ]
  },
  {
   "cell_type": "code",
   "execution_count": 8,
   "metadata": {},
   "outputs": [
    {
     "data": {
      "text/plain": [
       "{'alleleOrigin': 'somatic',\n",
       " 'id': 'civic.eid:238',\n",
       " 'description': 'The T790M mutation in EGFR has been shown to confer resistance to the tyrosine kinase inhibitor erlotinib, and patients harboring this mutation that are placed on the drug are likely to relapse.',\n",
       " 'direction': 'supports',\n",
       " 'predicate': 'predictsResistanceTo',\n",
       " 'type': 'VariantTherapeuticResponseStudy'}"
      ]
     },
     "execution_count": 8,
     "metadata": {},
     "output_type": "execute_result"
    }
   ],
   "source": [
    "result[0]['Study']"
   ]
  },
  {
   "cell_type": "code",
   "execution_count": 11,
   "metadata": {},
   "outputs": [
    {
     "data": {
      "text/html": [
       "<div>\n",
       "<style scoped>\n",
       "    .dataframe tbody tr th:only-of-type {\n",
       "        vertical-align: middle;\n",
       "    }\n",
       "\n",
       "    .dataframe tbody tr th {\n",
       "        vertical-align: top;\n",
       "    }\n",
       "\n",
       "    .dataframe thead th {\n",
       "        text-align: right;\n",
       "    }\n",
       "</style>\n",
       "<table border=\"1\" class=\"dataframe\">\n",
       "  <thead>\n",
       "    <tr style=\"text-align: right;\">\n",
       "      <th></th>\n",
       "      <th>id</th>\n",
       "      <th>description</th>\n",
       "      <th>predicate</th>\n",
       "    </tr>\n",
       "  </thead>\n",
       "  <tbody>\n",
       "    <tr>\n",
       "      <th>0</th>\n",
       "      <td>civic.eid:238</td>\n",
       "      <td>The T790M mutation in EGFR has been shown to c...</td>\n",
       "      <td>predictsResistanceTo</td>\n",
       "    </tr>\n",
       "    <tr>\n",
       "      <th>1</th>\n",
       "      <td>civic.eid:1409</td>\n",
       "      <td>Phase 3 randomized clinical trial comparing ve...</td>\n",
       "      <td>predictsSensitivityTo</td>\n",
       "    </tr>\n",
       "    <tr>\n",
       "      <th>2</th>\n",
       "      <td>civic.eid:1592</td>\n",
       "      <td>Osimertinib has been approved for the treatmen...</td>\n",
       "      <td>predictsSensitivityTo</td>\n",
       "    </tr>\n",
       "    <tr>\n",
       "      <th>3</th>\n",
       "      <td>civic.eid:1867</td>\n",
       "      <td>Randomized, international, open-label, phase 3...</td>\n",
       "      <td>predictsSensitivityTo</td>\n",
       "    </tr>\n",
       "    <tr>\n",
       "      <th>4</th>\n",
       "      <td>civic.eid:2994</td>\n",
       "      <td>On May 14, 2013, the U.S. Food and Drug Admini...</td>\n",
       "      <td>predictsSensitivityTo</td>\n",
       "    </tr>\n",
       "  </tbody>\n",
       "</table>\n",
       "</div>"
      ],
      "text/plain": [
       "               id                                        description  \\\n",
       "0   civic.eid:238  The T790M mutation in EGFR has been shown to c...   \n",
       "1  civic.eid:1409  Phase 3 randomized clinical trial comparing ve...   \n",
       "2  civic.eid:1592  Osimertinib has been approved for the treatmen...   \n",
       "3  civic.eid:1867  Randomized, international, open-label, phase 3...   \n",
       "4  civic.eid:2994  On May 14, 2013, the U.S. Food and Drug Admini...   \n",
       "\n",
       "               predicate  \n",
       "0   predictsResistanceTo  \n",
       "1  predictsSensitivityTo  \n",
       "2  predictsSensitivityTo  \n",
       "3  predictsSensitivityTo  \n",
       "4  predictsSensitivityTo  "
      ]
     },
     "execution_count": 11,
     "metadata": {},
     "output_type": "execute_result"
    }
   ],
   "source": [
    "data = []\n",
    "for record in result:\n",
    "    study = record.get('Study', {})\n",
    "    row = {\n",
    "        'id': study.get('id', None),\n",
    "        'description': study.get('description', None),\n",
    "        'predicate': study.get('predicate', None)\n",
    "        # 'id': variation.get('id', None),\n",
    "        # 'expression_hgvs_c': variation.get('expression_hgvs_c', None),\n",
    "        # 'expression_hgvs_p': variation.get('expression_hgvs_p', None),\n",
    "        # 'digest': variation.get('digest', None),\n",
    "        # 'label': variation.get('label', None),\n",
    "        # 'type': variation.get('type', None),\n",
    "        # 'expression_hgvs_g': variation.get('expression_hgvs_g', None),\n",
    "    }\n",
    "    data.append(row)\n",
    "\n",
    "df = pd.DataFrame(data)\n",
    "\n",
    "df[0:5]"
   ]
  },
  {
   "cell_type": "code",
   "execution_count": 55,
   "metadata": {},
   "outputs": [],
   "source": [
    "def grab_subject_variant(study_id):\n",
    "    query_subject_variant = f\"\"\"MATCH (s:Study) WHERE s.id = '{study_id}'\n",
    "        MATCH (s)-[:HAS_VARIANT]-(c)\n",
    "        MATCH (c)-[:HAS_DEFINING_CONTEXT]-(v)\n",
    "        RETURN properties(s) AS Study,\n",
    "                properties(c) AS Variation,\n",
    "                properties(v) AS Context\n",
    "    \"\"\"\n",
    "    result = execute_query(driver, query_subject_variant)\n",
    "    driver.close()\n",
    "    if len(result) > 1:\n",
    "        print(f'{study_id} has {len(result)} subjects possible')\n",
    "    subject = result[0]['Context']['id']\n",
    "\n",
    "    return(subject)\n",
    "\n",
    "def grab_object_therapeutic(study_id): \n",
    "    query = f\"\"\"MATCH (s:Study) WHERE s.id = '{study_id}'\n",
    "        MATCH (s)-[:HAS_THERAPEUTIC]-(c)\n",
    "        RETURN properties(s) AS Study,\n",
    "                properties(c) AS Therapeutic\n",
    "    \"\"\"\n",
    "    result = execute_query(driver, query)\n",
    "    driver.close()\n",
    "    if len(result) > 1:\n",
    "        print(f'{study_id} has {len(result)} subjects possible')\n",
    "    try:\n",
    "        therapeutic = result[0]['Therapeutic']['therapy_normalizer_id']\n",
    "    except: # TODO: This is gross, handle it better\n",
    "        try:\n",
    "            therapeutic = result[0]['Therapeutic']['label']\n",
    "        except:\n",
    "            therapeutic = result[0]['Therapeutic']['id']\n",
    "    return(therapeutic)\n",
    "\n",
    "def grab_qualifier_disease(study_id): \n",
    "    query = f\"\"\"MATCH (s:Study) WHERE s.id = '{study_id}'\n",
    "        MATCH (s)-[:HAS_TUMOR_TYPE]-(c)\n",
    "        RETURN properties(s) AS Study,\n",
    "                properties(c) AS Disease\n",
    "    \"\"\"\n",
    "    result = execute_query(driver, query)\n",
    "    driver.close()\n",
    "    if len(result) > 1:\n",
    "        print(f'{study_id} has {len(result)} subjects possible')\n",
    "    \n",
    "    try:\n",
    "        disease = result[0]['Disease']['disease_normalizer_id']\n",
    "    except: # TODO: This is gross, handle it better\n",
    "        try:\n",
    "            disease = result[0]['Disease']['label']\n",
    "        except:\n",
    "            disease = result[0]['Disease']['id']\n",
    "\n",
    "\n",
    "    return(disease)\n"
   ]
  },
  {
   "cell_type": "code",
   "execution_count": 56,
   "metadata": {},
   "outputs": [
    {
     "name": "stderr",
     "output_type": "stream",
     "text": [
      "/var/folders/5t/sfw5tjx56m10xb861_pd3wfm0000gq/T/ipykernel_38992/171895612.py:8: DeprecationWarning: Using a driver after it has been closed is deprecated. Future versions of the driver will raise an error.\n",
      "  with driver.session() as session:\n"
     ]
    }
   ],
   "source": [
    "df['subject'] = None\n",
    "df['subject'] = df['id'].apply(grab_subject_variant)\n",
    "\n",
    "df['obj'] = None\n",
    "df['obj'] = df['id'].apply(grab_object_therapeutic)\n",
    "\n",
    "df['qualifier'] = None\n",
    "df['qualifier'] = df['id'].apply(grab_qualifier_disease)"
   ]
  },
  {
   "cell_type": "code",
   "execution_count": 58,
   "metadata": {},
   "outputs": [
    {
     "data": {
      "text/html": [
       "<div>\n",
       "<style scoped>\n",
       "    .dataframe tbody tr th:only-of-type {\n",
       "        vertical-align: middle;\n",
       "    }\n",
       "\n",
       "    .dataframe tbody tr th {\n",
       "        vertical-align: top;\n",
       "    }\n",
       "\n",
       "    .dataframe thead th {\n",
       "        text-align: right;\n",
       "    }\n",
       "</style>\n",
       "<table border=\"1\" class=\"dataframe\">\n",
       "  <thead>\n",
       "    <tr style=\"text-align: right;\">\n",
       "      <th></th>\n",
       "      <th>id</th>\n",
       "      <th>description</th>\n",
       "      <th>predicate</th>\n",
       "      <th>subject</th>\n",
       "      <th>obj</th>\n",
       "      <th>qualifier</th>\n",
       "    </tr>\n",
       "  </thead>\n",
       "  <tbody>\n",
       "    <tr>\n",
       "      <th>0</th>\n",
       "      <td>civic.eid:238</td>\n",
       "      <td>The T790M mutation in EGFR has been shown to c...</td>\n",
       "      <td>predictsResistanceTo</td>\n",
       "      <td>ga4gh:VA.sMA9h8fzDi0RvweMlxtD0_Oi8B-JZ1V-</td>\n",
       "      <td>rxcui:337525</td>\n",
       "      <td>ncit:C2926</td>\n",
       "    </tr>\n",
       "    <tr>\n",
       "      <th>1</th>\n",
       "      <td>civic.eid:1409</td>\n",
       "      <td>Phase 3 randomized clinical trial comparing ve...</td>\n",
       "      <td>predictsSensitivityTo</td>\n",
       "      <td>ga4gh:VA.j4XnsLZcdzDIYa5pvvXM7t1wn9OITr0L</td>\n",
       "      <td>rxcui:1147220</td>\n",
       "      <td>ncit:C3510</td>\n",
       "    </tr>\n",
       "    <tr>\n",
       "      <th>2</th>\n",
       "      <td>civic.eid:1592</td>\n",
       "      <td>Osimertinib has been approved for the treatmen...</td>\n",
       "      <td>predictsSensitivityTo</td>\n",
       "      <td>ga4gh:VA.sMA9h8fzDi0RvweMlxtD0_Oi8B-JZ1V-</td>\n",
       "      <td>rxcui:1721560</td>\n",
       "      <td>ncit:C2926</td>\n",
       "    </tr>\n",
       "    <tr>\n",
       "      <th>3</th>\n",
       "      <td>civic.eid:1867</td>\n",
       "      <td>Randomized, international, open-label, phase 3...</td>\n",
       "      <td>predictsSensitivityTo</td>\n",
       "      <td>ga4gh:VA.sMA9h8fzDi0RvweMlxtD0_Oi8B-JZ1V-</td>\n",
       "      <td>rxcui:1721560</td>\n",
       "      <td>ncit:C2926</td>\n",
       "    </tr>\n",
       "    <tr>\n",
       "      <th>4</th>\n",
       "      <td>civic.eid:2994</td>\n",
       "      <td>On May 14, 2013, the U.S. Food and Drug Admini...</td>\n",
       "      <td>predictsSensitivityTo</td>\n",
       "      <td>ga4gh:VA.S41CcMJT2bcd8R4-qXZWH1PoHWNtG2PZ</td>\n",
       "      <td>rxcui:337525</td>\n",
       "      <td>ncit:C2926</td>\n",
       "    </tr>\n",
       "    <tr>\n",
       "      <th>...</th>\n",
       "      <td>...</td>\n",
       "      <td>...</td>\n",
       "      <td>...</td>\n",
       "      <td>...</td>\n",
       "      <td>...</td>\n",
       "      <td>...</td>\n",
       "    </tr>\n",
       "    <tr>\n",
       "      <th>1037</th>\n",
       "      <td>moa.assertion:961</td>\n",
       "      <td>The U.S. Food and Drug Administration (FDA) gr...</td>\n",
       "      <td>predictsSensitivityTo</td>\n",
       "      <td>ga4gh:VA.D6NzpWXKqBnbcZZrXNSXj4tMUwROKbsQ</td>\n",
       "      <td>rxcui:1364347</td>\n",
       "      <td>ncit:C3174</td>\n",
       "    </tr>\n",
       "    <tr>\n",
       "      <th>1038</th>\n",
       "      <td>moa.assertion:963</td>\n",
       "      <td>The U.S. Food and Drug Administration (FDA) gr...</td>\n",
       "      <td>predictsSensitivityTo</td>\n",
       "      <td>ga4gh:VA.pfWn9x9oFBRzGda1xXcOrE-BrX0R__N8</td>\n",
       "      <td>ncit:C106254</td>\n",
       "      <td>oncotree:LGGNOS</td>\n",
       "    </tr>\n",
       "    <tr>\n",
       "      <th>1039</th>\n",
       "      <td>moa.assertion:967</td>\n",
       "      <td>The U.S. Food and Drug Administration (FDA) gr...</td>\n",
       "      <td>predictsSensitivityTo</td>\n",
       "      <td>ga4gh:VA.S41CcMJT2bcd8R4-qXZWH1PoHWNtG2PZ</td>\n",
       "      <td>rxcui:337525</td>\n",
       "      <td>ncit:C2926</td>\n",
       "    </tr>\n",
       "    <tr>\n",
       "      <th>1040</th>\n",
       "      <td>moa.assertion:969</td>\n",
       "      <td>The U.S. Food and Drug Administration (FDA) gr...</td>\n",
       "      <td>predictsSensitivityTo</td>\n",
       "      <td>ga4gh:VA.S41CcMJT2bcd8R4-qXZWH1PoHWNtG2PZ</td>\n",
       "      <td>rxcui:328134</td>\n",
       "      <td>ncit:C2926</td>\n",
       "    </tr>\n",
       "    <tr>\n",
       "      <th>1041</th>\n",
       "      <td>moa.assertion:973</td>\n",
       "      <td>The U.S. Food and Drug Administration (FDA) gr...</td>\n",
       "      <td>predictsSensitivityTo</td>\n",
       "      <td>ga4gh:VA.udBCHwlrf8xNiRy_19bLi-h5LhnZLgCt</td>\n",
       "      <td>moa.ctid:5e89NyyfMGR167xjfPQC_QJBxBI9OYZx</td>\n",
       "      <td>ncit:C5105</td>\n",
       "    </tr>\n",
       "  </tbody>\n",
       "</table>\n",
       "<p>1042 rows × 6 columns</p>\n",
       "</div>"
      ],
      "text/plain": [
       "                     id                                        description  \\\n",
       "0         civic.eid:238  The T790M mutation in EGFR has been shown to c...   \n",
       "1        civic.eid:1409  Phase 3 randomized clinical trial comparing ve...   \n",
       "2        civic.eid:1592  Osimertinib has been approved for the treatmen...   \n",
       "3        civic.eid:1867  Randomized, international, open-label, phase 3...   \n",
       "4        civic.eid:2994  On May 14, 2013, the U.S. Food and Drug Admini...   \n",
       "...                 ...                                                ...   \n",
       "1037  moa.assertion:961  The U.S. Food and Drug Administration (FDA) gr...   \n",
       "1038  moa.assertion:963  The U.S. Food and Drug Administration (FDA) gr...   \n",
       "1039  moa.assertion:967  The U.S. Food and Drug Administration (FDA) gr...   \n",
       "1040  moa.assertion:969  The U.S. Food and Drug Administration (FDA) gr...   \n",
       "1041  moa.assertion:973  The U.S. Food and Drug Administration (FDA) gr...   \n",
       "\n",
       "                  predicate                                    subject  \\\n",
       "0      predictsResistanceTo  ga4gh:VA.sMA9h8fzDi0RvweMlxtD0_Oi8B-JZ1V-   \n",
       "1     predictsSensitivityTo  ga4gh:VA.j4XnsLZcdzDIYa5pvvXM7t1wn9OITr0L   \n",
       "2     predictsSensitivityTo  ga4gh:VA.sMA9h8fzDi0RvweMlxtD0_Oi8B-JZ1V-   \n",
       "3     predictsSensitivityTo  ga4gh:VA.sMA9h8fzDi0RvweMlxtD0_Oi8B-JZ1V-   \n",
       "4     predictsSensitivityTo  ga4gh:VA.S41CcMJT2bcd8R4-qXZWH1PoHWNtG2PZ   \n",
       "...                     ...                                        ...   \n",
       "1037  predictsSensitivityTo  ga4gh:VA.D6NzpWXKqBnbcZZrXNSXj4tMUwROKbsQ   \n",
       "1038  predictsSensitivityTo  ga4gh:VA.pfWn9x9oFBRzGda1xXcOrE-BrX0R__N8   \n",
       "1039  predictsSensitivityTo  ga4gh:VA.S41CcMJT2bcd8R4-qXZWH1PoHWNtG2PZ   \n",
       "1040  predictsSensitivityTo  ga4gh:VA.S41CcMJT2bcd8R4-qXZWH1PoHWNtG2PZ   \n",
       "1041  predictsSensitivityTo  ga4gh:VA.udBCHwlrf8xNiRy_19bLi-h5LhnZLgCt   \n",
       "\n",
       "                                            obj        qualifier  \n",
       "0                                  rxcui:337525       ncit:C2926  \n",
       "1                                 rxcui:1147220       ncit:C3510  \n",
       "2                                 rxcui:1721560       ncit:C2926  \n",
       "3                                 rxcui:1721560       ncit:C2926  \n",
       "4                                  rxcui:337525       ncit:C2926  \n",
       "...                                         ...              ...  \n",
       "1037                              rxcui:1364347       ncit:C3174  \n",
       "1038                               ncit:C106254  oncotree:LGGNOS  \n",
       "1039                               rxcui:337525       ncit:C2926  \n",
       "1040                               rxcui:328134       ncit:C2926  \n",
       "1041  moa.ctid:5e89NyyfMGR167xjfPQC_QJBxBI9OYZx       ncit:C5105  \n",
       "\n",
       "[1042 rows x 6 columns]"
      ]
     },
     "execution_count": 58,
     "metadata": {},
     "output_type": "execute_result"
    }
   ],
   "source": [
    "df"
   ]
  },
  {
   "cell_type": "code",
   "execution_count": 61,
   "metadata": {},
   "outputs": [
    {
     "data": {
      "text/html": [
       "<div>\n",
       "<style scoped>\n",
       "    .dataframe tbody tr th:only-of-type {\n",
       "        vertical-align: middle;\n",
       "    }\n",
       "\n",
       "    .dataframe tbody tr th {\n",
       "        vertical-align: top;\n",
       "    }\n",
       "\n",
       "    .dataframe thead th {\n",
       "        text-align: right;\n",
       "    }\n",
       "</style>\n",
       "<table border=\"1\" class=\"dataframe\">\n",
       "  <thead>\n",
       "    <tr style=\"text-align: right;\">\n",
       "      <th></th>\n",
       "      <th>id</th>\n",
       "      <th>description</th>\n",
       "      <th>predicate</th>\n",
       "      <th>subject</th>\n",
       "      <th>obj</th>\n",
       "      <th>qualifier</th>\n",
       "      <th>statement_full</th>\n",
       "    </tr>\n",
       "  </thead>\n",
       "  <tbody>\n",
       "    <tr>\n",
       "      <th>0</th>\n",
       "      <td>civic.eid:238</td>\n",
       "      <td>The T790M mutation in EGFR has been shown to c...</td>\n",
       "      <td>predictsResistanceTo</td>\n",
       "      <td>ga4gh:VA.sMA9h8fzDi0RvweMlxtD0_Oi8B-JZ1V-</td>\n",
       "      <td>rxcui:337525</td>\n",
       "      <td>ncit:C2926</td>\n",
       "      <td>ga4gh:VA.sMA9h8fzDi0RvweMlxtD0_Oi8B-JZ1V- with...</td>\n",
       "    </tr>\n",
       "    <tr>\n",
       "      <th>1</th>\n",
       "      <td>civic.eid:1409</td>\n",
       "      <td>Phase 3 randomized clinical trial comparing ve...</td>\n",
       "      <td>predictsSensitivityTo</td>\n",
       "      <td>ga4gh:VA.j4XnsLZcdzDIYa5pvvXM7t1wn9OITr0L</td>\n",
       "      <td>rxcui:1147220</td>\n",
       "      <td>ncit:C3510</td>\n",
       "      <td>ga4gh:VA.j4XnsLZcdzDIYa5pvvXM7t1wn9OITr0L with...</td>\n",
       "    </tr>\n",
       "    <tr>\n",
       "      <th>2</th>\n",
       "      <td>civic.eid:1592</td>\n",
       "      <td>Osimertinib has been approved for the treatmen...</td>\n",
       "      <td>predictsSensitivityTo</td>\n",
       "      <td>ga4gh:VA.sMA9h8fzDi0RvweMlxtD0_Oi8B-JZ1V-</td>\n",
       "      <td>rxcui:1721560</td>\n",
       "      <td>ncit:C2926</td>\n",
       "      <td>ga4gh:VA.sMA9h8fzDi0RvweMlxtD0_Oi8B-JZ1V- with...</td>\n",
       "    </tr>\n",
       "    <tr>\n",
       "      <th>3</th>\n",
       "      <td>civic.eid:1867</td>\n",
       "      <td>Randomized, international, open-label, phase 3...</td>\n",
       "      <td>predictsSensitivityTo</td>\n",
       "      <td>ga4gh:VA.sMA9h8fzDi0RvweMlxtD0_Oi8B-JZ1V-</td>\n",
       "      <td>rxcui:1721560</td>\n",
       "      <td>ncit:C2926</td>\n",
       "      <td>ga4gh:VA.sMA9h8fzDi0RvweMlxtD0_Oi8B-JZ1V- with...</td>\n",
       "    </tr>\n",
       "    <tr>\n",
       "      <th>4</th>\n",
       "      <td>civic.eid:2994</td>\n",
       "      <td>On May 14, 2013, the U.S. Food and Drug Admini...</td>\n",
       "      <td>predictsSensitivityTo</td>\n",
       "      <td>ga4gh:VA.S41CcMJT2bcd8R4-qXZWH1PoHWNtG2PZ</td>\n",
       "      <td>rxcui:337525</td>\n",
       "      <td>ncit:C2926</td>\n",
       "      <td>ga4gh:VA.S41CcMJT2bcd8R4-qXZWH1PoHWNtG2PZ with...</td>\n",
       "    </tr>\n",
       "    <tr>\n",
       "      <th>...</th>\n",
       "      <td>...</td>\n",
       "      <td>...</td>\n",
       "      <td>...</td>\n",
       "      <td>...</td>\n",
       "      <td>...</td>\n",
       "      <td>...</td>\n",
       "      <td>...</td>\n",
       "    </tr>\n",
       "    <tr>\n",
       "      <th>1037</th>\n",
       "      <td>moa.assertion:961</td>\n",
       "      <td>The U.S. Food and Drug Administration (FDA) gr...</td>\n",
       "      <td>predictsSensitivityTo</td>\n",
       "      <td>ga4gh:VA.D6NzpWXKqBnbcZZrXNSXj4tMUwROKbsQ</td>\n",
       "      <td>rxcui:1364347</td>\n",
       "      <td>ncit:C3174</td>\n",
       "      <td>ga4gh:VA.D6NzpWXKqBnbcZZrXNSXj4tMUwROKbsQ with...</td>\n",
       "    </tr>\n",
       "    <tr>\n",
       "      <th>1038</th>\n",
       "      <td>moa.assertion:963</td>\n",
       "      <td>The U.S. Food and Drug Administration (FDA) gr...</td>\n",
       "      <td>predictsSensitivityTo</td>\n",
       "      <td>ga4gh:VA.pfWn9x9oFBRzGda1xXcOrE-BrX0R__N8</td>\n",
       "      <td>ncit:C106254</td>\n",
       "      <td>oncotree:LGGNOS</td>\n",
       "      <td>ga4gh:VA.pfWn9x9oFBRzGda1xXcOrE-BrX0R__N8 with...</td>\n",
       "    </tr>\n",
       "    <tr>\n",
       "      <th>1039</th>\n",
       "      <td>moa.assertion:967</td>\n",
       "      <td>The U.S. Food and Drug Administration (FDA) gr...</td>\n",
       "      <td>predictsSensitivityTo</td>\n",
       "      <td>ga4gh:VA.S41CcMJT2bcd8R4-qXZWH1PoHWNtG2PZ</td>\n",
       "      <td>rxcui:337525</td>\n",
       "      <td>ncit:C2926</td>\n",
       "      <td>ga4gh:VA.S41CcMJT2bcd8R4-qXZWH1PoHWNtG2PZ with...</td>\n",
       "    </tr>\n",
       "    <tr>\n",
       "      <th>1040</th>\n",
       "      <td>moa.assertion:969</td>\n",
       "      <td>The U.S. Food and Drug Administration (FDA) gr...</td>\n",
       "      <td>predictsSensitivityTo</td>\n",
       "      <td>ga4gh:VA.S41CcMJT2bcd8R4-qXZWH1PoHWNtG2PZ</td>\n",
       "      <td>rxcui:328134</td>\n",
       "      <td>ncit:C2926</td>\n",
       "      <td>ga4gh:VA.S41CcMJT2bcd8R4-qXZWH1PoHWNtG2PZ with...</td>\n",
       "    </tr>\n",
       "    <tr>\n",
       "      <th>1041</th>\n",
       "      <td>moa.assertion:973</td>\n",
       "      <td>The U.S. Food and Drug Administration (FDA) gr...</td>\n",
       "      <td>predictsSensitivityTo</td>\n",
       "      <td>ga4gh:VA.udBCHwlrf8xNiRy_19bLi-h5LhnZLgCt</td>\n",
       "      <td>moa.ctid:5e89NyyfMGR167xjfPQC_QJBxBI9OYZx</td>\n",
       "      <td>ncit:C5105</td>\n",
       "      <td>ga4gh:VA.udBCHwlrf8xNiRy_19bLi-h5LhnZLgCt with...</td>\n",
       "    </tr>\n",
       "  </tbody>\n",
       "</table>\n",
       "<p>1042 rows × 7 columns</p>\n",
       "</div>"
      ],
      "text/plain": [
       "                     id                                        description  \\\n",
       "0         civic.eid:238  The T790M mutation in EGFR has been shown to c...   \n",
       "1        civic.eid:1409  Phase 3 randomized clinical trial comparing ve...   \n",
       "2        civic.eid:1592  Osimertinib has been approved for the treatmen...   \n",
       "3        civic.eid:1867  Randomized, international, open-label, phase 3...   \n",
       "4        civic.eid:2994  On May 14, 2013, the U.S. Food and Drug Admini...   \n",
       "...                 ...                                                ...   \n",
       "1037  moa.assertion:961  The U.S. Food and Drug Administration (FDA) gr...   \n",
       "1038  moa.assertion:963  The U.S. Food and Drug Administration (FDA) gr...   \n",
       "1039  moa.assertion:967  The U.S. Food and Drug Administration (FDA) gr...   \n",
       "1040  moa.assertion:969  The U.S. Food and Drug Administration (FDA) gr...   \n",
       "1041  moa.assertion:973  The U.S. Food and Drug Administration (FDA) gr...   \n",
       "\n",
       "                  predicate                                    subject  \\\n",
       "0      predictsResistanceTo  ga4gh:VA.sMA9h8fzDi0RvweMlxtD0_Oi8B-JZ1V-   \n",
       "1     predictsSensitivityTo  ga4gh:VA.j4XnsLZcdzDIYa5pvvXM7t1wn9OITr0L   \n",
       "2     predictsSensitivityTo  ga4gh:VA.sMA9h8fzDi0RvweMlxtD0_Oi8B-JZ1V-   \n",
       "3     predictsSensitivityTo  ga4gh:VA.sMA9h8fzDi0RvweMlxtD0_Oi8B-JZ1V-   \n",
       "4     predictsSensitivityTo  ga4gh:VA.S41CcMJT2bcd8R4-qXZWH1PoHWNtG2PZ   \n",
       "...                     ...                                        ...   \n",
       "1037  predictsSensitivityTo  ga4gh:VA.D6NzpWXKqBnbcZZrXNSXj4tMUwROKbsQ   \n",
       "1038  predictsSensitivityTo  ga4gh:VA.pfWn9x9oFBRzGda1xXcOrE-BrX0R__N8   \n",
       "1039  predictsSensitivityTo  ga4gh:VA.S41CcMJT2bcd8R4-qXZWH1PoHWNtG2PZ   \n",
       "1040  predictsSensitivityTo  ga4gh:VA.S41CcMJT2bcd8R4-qXZWH1PoHWNtG2PZ   \n",
       "1041  predictsSensitivityTo  ga4gh:VA.udBCHwlrf8xNiRy_19bLi-h5LhnZLgCt   \n",
       "\n",
       "                                            obj        qualifier  \\\n",
       "0                                  rxcui:337525       ncit:C2926   \n",
       "1                                 rxcui:1147220       ncit:C3510   \n",
       "2                                 rxcui:1721560       ncit:C2926   \n",
       "3                                 rxcui:1721560       ncit:C2926   \n",
       "4                                  rxcui:337525       ncit:C2926   \n",
       "...                                         ...              ...   \n",
       "1037                              rxcui:1364347       ncit:C3174   \n",
       "1038                               ncit:C106254  oncotree:LGGNOS   \n",
       "1039                               rxcui:337525       ncit:C2926   \n",
       "1040                               rxcui:328134       ncit:C2926   \n",
       "1041  moa.ctid:5e89NyyfMGR167xjfPQC_QJBxBI9OYZx       ncit:C5105   \n",
       "\n",
       "                                         statement_full  \n",
       "0     ga4gh:VA.sMA9h8fzDi0RvweMlxtD0_Oi8B-JZ1V- with...  \n",
       "1     ga4gh:VA.j4XnsLZcdzDIYa5pvvXM7t1wn9OITr0L with...  \n",
       "2     ga4gh:VA.sMA9h8fzDi0RvweMlxtD0_Oi8B-JZ1V- with...  \n",
       "3     ga4gh:VA.sMA9h8fzDi0RvweMlxtD0_Oi8B-JZ1V- with...  \n",
       "4     ga4gh:VA.S41CcMJT2bcd8R4-qXZWH1PoHWNtG2PZ with...  \n",
       "...                                                 ...  \n",
       "1037  ga4gh:VA.D6NzpWXKqBnbcZZrXNSXj4tMUwROKbsQ with...  \n",
       "1038  ga4gh:VA.pfWn9x9oFBRzGda1xXcOrE-BrX0R__N8 with...  \n",
       "1039  ga4gh:VA.S41CcMJT2bcd8R4-qXZWH1PoHWNtG2PZ with...  \n",
       "1040  ga4gh:VA.S41CcMJT2bcd8R4-qXZWH1PoHWNtG2PZ with...  \n",
       "1041  ga4gh:VA.udBCHwlrf8xNiRy_19bLi-h5LhnZLgCt with...  \n",
       "\n",
       "[1042 rows x 7 columns]"
      ]
     },
     "execution_count": 61,
     "metadata": {},
     "output_type": "execute_result"
    }
   ],
   "source": [
    "df['statement_full'] = None\n",
    "for idx, row in df.iterrows():\n",
    "    sentence = f\"{row['subject']} with treatment by {row['obj']} {row['predicate']} the disease {row['qualifier']}\"\n",
    "    df.at[idx, 'statement_full'] = sentence\n",
    "    \n",
    "df"
   ]
  },
  {
   "cell_type": "code",
   "execution_count": 63,
   "metadata": {},
   "outputs": [
    {
     "name": "stdout",
     "output_type": "stream",
     "text": [
      "Total Evidence Statements: 1042\n"
     ]
    }
   ],
   "source": [
    "print(f'Total Evidence Statements: {len(df)}')"
   ]
  },
  {
   "cell_type": "code",
   "execution_count": 68,
   "metadata": {},
   "outputs": [
    {
     "data": {
      "text/html": [
       "<div>\n",
       "<style scoped>\n",
       "    .dataframe tbody tr th:only-of-type {\n",
       "        vertical-align: middle;\n",
       "    }\n",
       "\n",
       "    .dataframe tbody tr th {\n",
       "        vertical-align: top;\n",
       "    }\n",
       "\n",
       "    .dataframe thead th {\n",
       "        text-align: right;\n",
       "    }\n",
       "</style>\n",
       "<table border=\"1\" class=\"dataframe\">\n",
       "  <thead>\n",
       "    <tr style=\"text-align: right;\">\n",
       "      <th></th>\n",
       "      <th>Statement</th>\n",
       "      <th>counts</th>\n",
       "    </tr>\n",
       "  </thead>\n",
       "  <tbody>\n",
       "    <tr>\n",
       "      <th>0</th>\n",
       "      <td>ga4gh:VA.sMA9h8fzDi0RvweMlxtD0_Oi8B-JZ1V- with...</td>\n",
       "      <td>8</td>\n",
       "    </tr>\n",
       "    <tr>\n",
       "      <th>1</th>\n",
       "      <td>ga4gh:VA.S41CcMJT2bcd8R4-qXZWH1PoHWNtG2PZ with...</td>\n",
       "      <td>7</td>\n",
       "    </tr>\n",
       "    <tr>\n",
       "      <th>2</th>\n",
       "      <td>ga4gh:VA.j4XnsLZcdzDIYa5pvvXM7t1wn9OITr0L with...</td>\n",
       "      <td>7</td>\n",
       "    </tr>\n",
       "    <tr>\n",
       "      <th>3</th>\n",
       "      <td>ga4gh:VA.ORvaSNcFK71WOVr_gi2vv6oPCcXgljab with...</td>\n",
       "      <td>6</td>\n",
       "    </tr>\n",
       "    <tr>\n",
       "      <th>4</th>\n",
       "      <td>ga4gh:VA.Dy7soaZQU1vH9Eb93xG_pJyhu7xTDDC9 with...</td>\n",
       "      <td>5</td>\n",
       "    </tr>\n",
       "    <tr>\n",
       "      <th>...</th>\n",
       "      <td>...</td>\n",
       "      <td>...</td>\n",
       "    </tr>\n",
       "    <tr>\n",
       "      <th>898</th>\n",
       "      <td>ga4gh:VA.mecsBfk2t315ZcdZCTD7TTRVezaXskCy with...</td>\n",
       "      <td>1</td>\n",
       "    </tr>\n",
       "    <tr>\n",
       "      <th>899</th>\n",
       "      <td>ga4gh:VA.e0t-Kq4iX8IsDH1F0zj6xClkCKCJpwwk with...</td>\n",
       "      <td>1</td>\n",
       "    </tr>\n",
       "    <tr>\n",
       "      <th>900</th>\n",
       "      <td>ga4gh:VA.RWiEzkpxrOKfQHfoE6T5CEpJPgqgA_YB with...</td>\n",
       "      <td>1</td>\n",
       "    </tr>\n",
       "    <tr>\n",
       "      <th>901</th>\n",
       "      <td>ga4gh:VA.0X2BApoy4FSxtnvy5az1bXu8YMs8E__x with...</td>\n",
       "      <td>1</td>\n",
       "    </tr>\n",
       "    <tr>\n",
       "      <th>902</th>\n",
       "      <td>ga4gh:VA.udBCHwlrf8xNiRy_19bLi-h5LhnZLgCt with...</td>\n",
       "      <td>1</td>\n",
       "    </tr>\n",
       "  </tbody>\n",
       "</table>\n",
       "<p>903 rows × 2 columns</p>\n",
       "</div>"
      ],
      "text/plain": [
       "                                             Statement  counts\n",
       "0    ga4gh:VA.sMA9h8fzDi0RvweMlxtD0_Oi8B-JZ1V- with...       8\n",
       "1    ga4gh:VA.S41CcMJT2bcd8R4-qXZWH1PoHWNtG2PZ with...       7\n",
       "2    ga4gh:VA.j4XnsLZcdzDIYa5pvvXM7t1wn9OITr0L with...       7\n",
       "3    ga4gh:VA.ORvaSNcFK71WOVr_gi2vv6oPCcXgljab with...       6\n",
       "4    ga4gh:VA.Dy7soaZQU1vH9Eb93xG_pJyhu7xTDDC9 with...       5\n",
       "..                                                 ...     ...\n",
       "898  ga4gh:VA.mecsBfk2t315ZcdZCTD7TTRVezaXskCy with...       1\n",
       "899  ga4gh:VA.e0t-Kq4iX8IsDH1F0zj6xClkCKCJpwwk with...       1\n",
       "900  ga4gh:VA.RWiEzkpxrOKfQHfoE6T5CEpJPgqgA_YB with...       1\n",
       "901  ga4gh:VA.0X2BApoy4FSxtnvy5az1bXu8YMs8E__x with...       1\n",
       "902  ga4gh:VA.udBCHwlrf8xNiRy_19bLi-h5LhnZLgCt with...       1\n",
       "\n",
       "[903 rows x 2 columns]"
      ]
     },
     "execution_count": 68,
     "metadata": {},
     "output_type": "execute_result"
    }
   ],
   "source": [
    "data = df['statement_full'].value_counts().rename_axis('Statement').reset_index(name='counts')\n",
    "data"
   ]
  },
  {
   "cell_type": "code",
   "execution_count": 70,
   "metadata": {},
   "outputs": [
    {
     "data": {
      "text/plain": [
       "'ga4gh:VA.sMA9h8fzDi0RvweMlxtD0_Oi8B-JZ1V- with treatment by rxcui:1721560 predictsSensitivityTo the disease ncit:C2926'"
      ]
     },
     "execution_count": 70,
     "metadata": {},
     "output_type": "execute_result"
    }
   ],
   "source": [
    "data['Statement'][0]"
   ]
  },
  {
   "cell_type": "code",
   "execution_count": 71,
   "metadata": {},
   "outputs": [
    {
     "data": {
      "text/html": [
       "<div>\n",
       "<style scoped>\n",
       "    .dataframe tbody tr th:only-of-type {\n",
       "        vertical-align: middle;\n",
       "    }\n",
       "\n",
       "    .dataframe tbody tr th {\n",
       "        vertical-align: top;\n",
       "    }\n",
       "\n",
       "    .dataframe thead th {\n",
       "        text-align: right;\n",
       "    }\n",
       "</style>\n",
       "<table border=\"1\" class=\"dataframe\">\n",
       "  <thead>\n",
       "    <tr style=\"text-align: right;\">\n",
       "      <th></th>\n",
       "      <th>id</th>\n",
       "      <th>description</th>\n",
       "      <th>predicate</th>\n",
       "      <th>subject</th>\n",
       "      <th>obj</th>\n",
       "      <th>qualifier</th>\n",
       "      <th>statement_full</th>\n",
       "    </tr>\n",
       "  </thead>\n",
       "  <tbody>\n",
       "    <tr>\n",
       "      <th>2</th>\n",
       "      <td>civic.eid:1592</td>\n",
       "      <td>Osimertinib has been approved for the treatmen...</td>\n",
       "      <td>predictsSensitivityTo</td>\n",
       "      <td>ga4gh:VA.sMA9h8fzDi0RvweMlxtD0_Oi8B-JZ1V-</td>\n",
       "      <td>rxcui:1721560</td>\n",
       "      <td>ncit:C2926</td>\n",
       "      <td>ga4gh:VA.sMA9h8fzDi0RvweMlxtD0_Oi8B-JZ1V- with...</td>\n",
       "    </tr>\n",
       "    <tr>\n",
       "      <th>3</th>\n",
       "      <td>civic.eid:1867</td>\n",
       "      <td>Randomized, international, open-label, phase 3...</td>\n",
       "      <td>predictsSensitivityTo</td>\n",
       "      <td>ga4gh:VA.sMA9h8fzDi0RvweMlxtD0_Oi8B-JZ1V-</td>\n",
       "      <td>rxcui:1721560</td>\n",
       "      <td>ncit:C2926</td>\n",
       "      <td>ga4gh:VA.sMA9h8fzDi0RvweMlxtD0_Oi8B-JZ1V- with...</td>\n",
       "    </tr>\n",
       "    <tr>\n",
       "      <th>37</th>\n",
       "      <td>civic.eid:965</td>\n",
       "      <td>This phase I/II trial (NCT01802632) involved 2...</td>\n",
       "      <td>predictsSensitivityTo</td>\n",
       "      <td>ga4gh:VA.sMA9h8fzDi0RvweMlxtD0_Oi8B-JZ1V-</td>\n",
       "      <td>rxcui:1721560</td>\n",
       "      <td>ncit:C2926</td>\n",
       "      <td>ga4gh:VA.sMA9h8fzDi0RvweMlxtD0_Oi8B-JZ1V- with...</td>\n",
       "    </tr>\n",
       "    <tr>\n",
       "      <th>79</th>\n",
       "      <td>civic.eid:966</td>\n",
       "      <td>This study summarized 9 EGFR-mutant patients f...</td>\n",
       "      <td>predictsSensitivityTo</td>\n",
       "      <td>ga4gh:VA.sMA9h8fzDi0RvweMlxtD0_Oi8B-JZ1V-</td>\n",
       "      <td>rxcui:1721560</td>\n",
       "      <td>ncit:C2926</td>\n",
       "      <td>ga4gh:VA.sMA9h8fzDi0RvweMlxtD0_Oi8B-JZ1V- with...</td>\n",
       "    </tr>\n",
       "    <tr>\n",
       "      <th>560</th>\n",
       "      <td>civic.eid:963</td>\n",
       "      <td>Cell line, xenograft, and transgenic models we...</td>\n",
       "      <td>predictsSensitivityTo</td>\n",
       "      <td>ga4gh:VA.sMA9h8fzDi0RvweMlxtD0_Oi8B-JZ1V-</td>\n",
       "      <td>rxcui:1721560</td>\n",
       "      <td>ncit:C2926</td>\n",
       "      <td>ga4gh:VA.sMA9h8fzDi0RvweMlxtD0_Oi8B-JZ1V- with...</td>\n",
       "    </tr>\n",
       "    <tr>\n",
       "      <th>917</th>\n",
       "      <td>moa.assertion:242</td>\n",
       "      <td>Osimertinib is a kinase inhibitor indicated fo...</td>\n",
       "      <td>predictsSensitivityTo</td>\n",
       "      <td>ga4gh:VA.sMA9h8fzDi0RvweMlxtD0_Oi8B-JZ1V-</td>\n",
       "      <td>rxcui:1721560</td>\n",
       "      <td>ncit:C2926</td>\n",
       "      <td>ga4gh:VA.sMA9h8fzDi0RvweMlxtD0_Oi8B-JZ1V- with...</td>\n",
       "    </tr>\n",
       "    <tr>\n",
       "      <th>922</th>\n",
       "      <td>moa.assertion:256</td>\n",
       "      <td>Osimertinib is being evaluated in patients who...</td>\n",
       "      <td>predictsSensitivityTo</td>\n",
       "      <td>ga4gh:VA.sMA9h8fzDi0RvweMlxtD0_Oi8B-JZ1V-</td>\n",
       "      <td>rxcui:1721560</td>\n",
       "      <td>ncit:C2926</td>\n",
       "      <td>ga4gh:VA.sMA9h8fzDi0RvweMlxtD0_Oi8B-JZ1V- with...</td>\n",
       "    </tr>\n",
       "    <tr>\n",
       "      <th>924</th>\n",
       "      <td>moa.assertion:259</td>\n",
       "      <td>Osimertinib is FDA-Approved for metastatic non...</td>\n",
       "      <td>predictsSensitivityTo</td>\n",
       "      <td>ga4gh:VA.sMA9h8fzDi0RvweMlxtD0_Oi8B-JZ1V-</td>\n",
       "      <td>rxcui:1721560</td>\n",
       "      <td>ncit:C2926</td>\n",
       "      <td>ga4gh:VA.sMA9h8fzDi0RvweMlxtD0_Oi8B-JZ1V- with...</td>\n",
       "    </tr>\n",
       "  </tbody>\n",
       "</table>\n",
       "</div>"
      ],
      "text/plain": [
       "                    id                                        description  \\\n",
       "2       civic.eid:1592  Osimertinib has been approved for the treatmen...   \n",
       "3       civic.eid:1867  Randomized, international, open-label, phase 3...   \n",
       "37       civic.eid:965  This phase I/II trial (NCT01802632) involved 2...   \n",
       "79       civic.eid:966  This study summarized 9 EGFR-mutant patients f...   \n",
       "560      civic.eid:963  Cell line, xenograft, and transgenic models we...   \n",
       "917  moa.assertion:242  Osimertinib is a kinase inhibitor indicated fo...   \n",
       "922  moa.assertion:256  Osimertinib is being evaluated in patients who...   \n",
       "924  moa.assertion:259  Osimertinib is FDA-Approved for metastatic non...   \n",
       "\n",
       "                 predicate                                    subject  \\\n",
       "2    predictsSensitivityTo  ga4gh:VA.sMA9h8fzDi0RvweMlxtD0_Oi8B-JZ1V-   \n",
       "3    predictsSensitivityTo  ga4gh:VA.sMA9h8fzDi0RvweMlxtD0_Oi8B-JZ1V-   \n",
       "37   predictsSensitivityTo  ga4gh:VA.sMA9h8fzDi0RvweMlxtD0_Oi8B-JZ1V-   \n",
       "79   predictsSensitivityTo  ga4gh:VA.sMA9h8fzDi0RvweMlxtD0_Oi8B-JZ1V-   \n",
       "560  predictsSensitivityTo  ga4gh:VA.sMA9h8fzDi0RvweMlxtD0_Oi8B-JZ1V-   \n",
       "917  predictsSensitivityTo  ga4gh:VA.sMA9h8fzDi0RvweMlxtD0_Oi8B-JZ1V-   \n",
       "922  predictsSensitivityTo  ga4gh:VA.sMA9h8fzDi0RvweMlxtD0_Oi8B-JZ1V-   \n",
       "924  predictsSensitivityTo  ga4gh:VA.sMA9h8fzDi0RvweMlxtD0_Oi8B-JZ1V-   \n",
       "\n",
       "               obj   qualifier  \\\n",
       "2    rxcui:1721560  ncit:C2926   \n",
       "3    rxcui:1721560  ncit:C2926   \n",
       "37   rxcui:1721560  ncit:C2926   \n",
       "79   rxcui:1721560  ncit:C2926   \n",
       "560  rxcui:1721560  ncit:C2926   \n",
       "917  rxcui:1721560  ncit:C2926   \n",
       "922  rxcui:1721560  ncit:C2926   \n",
       "924  rxcui:1721560  ncit:C2926   \n",
       "\n",
       "                                        statement_full  \n",
       "2    ga4gh:VA.sMA9h8fzDi0RvweMlxtD0_Oi8B-JZ1V- with...  \n",
       "3    ga4gh:VA.sMA9h8fzDi0RvweMlxtD0_Oi8B-JZ1V- with...  \n",
       "37   ga4gh:VA.sMA9h8fzDi0RvweMlxtD0_Oi8B-JZ1V- with...  \n",
       "79   ga4gh:VA.sMA9h8fzDi0RvweMlxtD0_Oi8B-JZ1V- with...  \n",
       "560  ga4gh:VA.sMA9h8fzDi0RvweMlxtD0_Oi8B-JZ1V- with...  \n",
       "917  ga4gh:VA.sMA9h8fzDi0RvweMlxtD0_Oi8B-JZ1V- with...  \n",
       "922  ga4gh:VA.sMA9h8fzDi0RvweMlxtD0_Oi8B-JZ1V- with...  \n",
       "924  ga4gh:VA.sMA9h8fzDi0RvweMlxtD0_Oi8B-JZ1V- with...  "
      ]
     },
     "execution_count": 71,
     "metadata": {},
     "output_type": "execute_result"
    }
   ],
   "source": [
    "df[df['statement_full']=='ga4gh:VA.sMA9h8fzDi0RvweMlxtD0_Oi8B-JZ1V- with treatment by rxcui:1721560 predictsSensitivityTo the disease ncit:C2926']"
   ]
  },
  {
   "cell_type": "code",
   "execution_count": 73,
   "metadata": {},
   "outputs": [
    {
     "name": "stdout",
     "output_type": "stream",
     "text": [
      "Osimertinib has been approved for the treatment of EGFR T790M mutant NSCLC.\n",
      "\n",
      "Randomized, international, open-label, phase 3 trial (NCT02151981) in 419 patients with T790M-positive advanced NSCLC and disease progression after first-line EGFR-TKI therapy. Patients were randomized, in a 2:1 ratio, to oral osimertinib or chemotherapy (pemetrexed plus either carboplatin or cisplatin every 3 weeks for up to six cycles, maintenance pemetrexed was allowed). Primary end point was PFS, which was significantly longer with osimertinib than with chemotherapy (10.1 months vs. 4.4 months; HR 0.30; 95% CI: 0.23 to 0.41; P<0.001). Objective response rate was significantly better with osimertinib (71%; 95% CI, 65 to 76) than with chemotherapy (31%; 95% CI, 24 to 40) (odds ratio for objective response, 5.39; 95% CI, 3.47 to 8.48; P<0.001).\n",
      "\n",
      "This phase I/II trial (NCT01802632) involved 253 non-small cell lung cancer patients with activating EGFR mutations, who had progressed on first generation tyrosine kinase inhibitor treatment, and were subsequently treated with Osimertinib (AZD9291). The overall objective tumor response rate was 51%. Among 127 patients with EGFR T790M who could be evaluated for response, the response rate was 61% (95% CI, 52 to 70). In contrast, among 61 patients without EGFR T790M, the response rate was 21% (95% CI, 12 to 34). The median progression-free survival was 9.6 months in EGFR T790M-positive patients and 2.8 months in EGFR T790M-negative patients.\n",
      "\n",
      "This study summarized 9 EGFR-mutant patients from two clinical trials involving rociletinib (NCT01526928) and subsequent osimertinib (NCT01802632). 8 were T790M-positive prior to treatment with osimertinib. 6 transitioned directly from rociletinib to osimertinib. 3 patients achieved PR and 4 achieved SD. The median PFS was 208 days (95% CI, 41-208 days). Among 6 patients who transitioned directly from rociletinib to osimertinib all derived clinical benefit from osimertinib with either prolonged SD or PR.\n",
      "\n",
      "Cell line, xenograft, and transgenic models were used to establish Osimertinib as an inhibitor of both EGFR mutation sensitizing (L858M, del exon 19) and T790M resistance mutants. Preclinically, the drug inhibits signaling pathways and cellular growth in both EGFRm(+) and EGFRm(+)/T790M(+) mutant cell lines in vitro, with lower activity against wild-type EGFR lines. Sustained tumor regression was observed in EGFR-mutant tumor xenograft and transgenic models. Treatment of 2 patients with advanced EGFRm(+) T790M(+) NSCLC was reported as proof of principle.\n",
      "\n",
      "Osimertinib is a kinase inhibitor indicated for the treatment of patients with metastatic epidermal growth factor receptor (EGFR) T790M mutation positive non-small cell lung cancer (NSCLC), as detected by an FDA approved test, whose disease has progressed on or after EGFR TKI therapy.\n",
      "\n",
      "Osimertinib is being evaluated in patients who have progressed following treatment with an EGFR TKI.\n",
      "\n",
      "Osimertinib is FDA-Approved for metastatic non-small cell lung cancer patients with EGFR T790M mutations.\n",
      "\n"
     ]
    }
   ],
   "source": [
    "for description in df[df['statement_full']=='ga4gh:VA.sMA9h8fzDi0RvweMlxtD0_Oi8B-JZ1V- with treatment by rxcui:1721560 predictsSensitivityTo the disease ncit:C2926']['description']:\n",
    "    print(f'{description}\\n')"
   ]
  },
  {
   "cell_type": "markdown",
   "metadata": {},
   "source": [
    "### Data Graph"
   ]
  },
  {
   "cell_type": "code",
   "execution_count": 84,
   "metadata": {},
   "outputs": [
    {
     "data": {
      "text/html": [
       "<div>\n",
       "<style scoped>\n",
       "    .dataframe tbody tr th:only-of-type {\n",
       "        vertical-align: middle;\n",
       "    }\n",
       "\n",
       "    .dataframe tbody tr th {\n",
       "        vertical-align: top;\n",
       "    }\n",
       "\n",
       "    .dataframe thead th {\n",
       "        text-align: right;\n",
       "    }\n",
       "</style>\n",
       "<table border=\"1\" class=\"dataframe\">\n",
       "  <thead>\n",
       "    <tr style=\"text-align: right;\">\n",
       "      <th></th>\n",
       "      <th>Statement</th>\n",
       "      <th>counts</th>\n",
       "    </tr>\n",
       "  </thead>\n",
       "  <tbody>\n",
       "    <tr>\n",
       "      <th>0</th>\n",
       "      <td>ga4gh:VA.sMA9h8fzDi0RvweMlxtD0_Oi8B-JZ1V- with...</td>\n",
       "      <td>8</td>\n",
       "    </tr>\n",
       "    <tr>\n",
       "      <th>1</th>\n",
       "      <td>ga4gh:VA.S41CcMJT2bcd8R4-qXZWH1PoHWNtG2PZ with...</td>\n",
       "      <td>7</td>\n",
       "    </tr>\n",
       "    <tr>\n",
       "      <th>2</th>\n",
       "      <td>ga4gh:VA.j4XnsLZcdzDIYa5pvvXM7t1wn9OITr0L with...</td>\n",
       "      <td>7</td>\n",
       "    </tr>\n",
       "    <tr>\n",
       "      <th>3</th>\n",
       "      <td>ga4gh:VA.ORvaSNcFK71WOVr_gi2vv6oPCcXgljab with...</td>\n",
       "      <td>6</td>\n",
       "    </tr>\n",
       "    <tr>\n",
       "      <th>4</th>\n",
       "      <td>ga4gh:VA.Dy7soaZQU1vH9Eb93xG_pJyhu7xTDDC9 with...</td>\n",
       "      <td>5</td>\n",
       "    </tr>\n",
       "    <tr>\n",
       "      <th>...</th>\n",
       "      <td>...</td>\n",
       "      <td>...</td>\n",
       "    </tr>\n",
       "    <tr>\n",
       "      <th>81</th>\n",
       "      <td>ga4gh:VA.j4XnsLZcdzDIYa5pvvXM7t1wn9OITr0L with...</td>\n",
       "      <td>2</td>\n",
       "    </tr>\n",
       "    <tr>\n",
       "      <th>82</th>\n",
       "      <td>ga4gh:VA.yHQVVwZjma693Ev6lQtew1axCWVwIi8K with...</td>\n",
       "      <td>2</td>\n",
       "    </tr>\n",
       "    <tr>\n",
       "      <th>83</th>\n",
       "      <td>ga4gh:VA.udBCHwlrf8xNiRy_19bLi-h5LhnZLgCt with...</td>\n",
       "      <td>2</td>\n",
       "    </tr>\n",
       "    <tr>\n",
       "      <th>84</th>\n",
       "      <td>ga4gh:VA.j4XnsLZcdzDIYa5pvvXM7t1wn9OITr0L with...</td>\n",
       "      <td>2</td>\n",
       "    </tr>\n",
       "    <tr>\n",
       "      <th>85</th>\n",
       "      <td>ga4gh:VA.sMA9h8fzDi0RvweMlxtD0_Oi8B-JZ1V- with...</td>\n",
       "      <td>2</td>\n",
       "    </tr>\n",
       "  </tbody>\n",
       "</table>\n",
       "<p>86 rows × 2 columns</p>\n",
       "</div>"
      ],
      "text/plain": [
       "                                            Statement  counts\n",
       "0   ga4gh:VA.sMA9h8fzDi0RvweMlxtD0_Oi8B-JZ1V- with...       8\n",
       "1   ga4gh:VA.S41CcMJT2bcd8R4-qXZWH1PoHWNtG2PZ with...       7\n",
       "2   ga4gh:VA.j4XnsLZcdzDIYa5pvvXM7t1wn9OITr0L with...       7\n",
       "3   ga4gh:VA.ORvaSNcFK71WOVr_gi2vv6oPCcXgljab with...       6\n",
       "4   ga4gh:VA.Dy7soaZQU1vH9Eb93xG_pJyhu7xTDDC9 with...       5\n",
       "..                                                ...     ...\n",
       "81  ga4gh:VA.j4XnsLZcdzDIYa5pvvXM7t1wn9OITr0L with...       2\n",
       "82  ga4gh:VA.yHQVVwZjma693Ev6lQtew1axCWVwIi8K with...       2\n",
       "83  ga4gh:VA.udBCHwlrf8xNiRy_19bLi-h5LhnZLgCt with...       2\n",
       "84  ga4gh:VA.j4XnsLZcdzDIYa5pvvXM7t1wn9OITr0L with...       2\n",
       "85  ga4gh:VA.sMA9h8fzDi0RvweMlxtD0_Oi8B-JZ1V- with...       2\n",
       "\n",
       "[86 rows x 2 columns]"
      ]
     },
     "execution_count": 84,
     "metadata": {},
     "output_type": "execute_result"
    }
   ],
   "source": [
    "data[0:86]"
   ]
  },
  {
   "cell_type": "code",
   "execution_count": 102,
   "metadata": {},
   "outputs": [
    {
     "data": {
      "text/plain": [
       "225"
      ]
     },
     "execution_count": 102,
     "metadata": {},
     "output_type": "execute_result"
    }
   ],
   "source": [
    "data['counts'][0:86].sum()"
   ]
  },
  {
   "cell_type": "code",
   "execution_count": 86,
   "metadata": {},
   "outputs": [
    {
     "data": {
      "text/plain": [
       "['ga4gh:VA.sMA9h8fzDi0RvweMlxtD0_Oi8B-JZ1V-',\n",
       " 'with',\n",
       " 'treatment',\n",
       " 'by',\n",
       " 'rxcui:1721560',\n",
       " 'predictsSensitivityTo',\n",
       " 'the',\n",
       " 'disease',\n",
       " 'ncit:C2926']"
      ]
     },
     "execution_count": 86,
     "metadata": {},
     "output_type": "execute_result"
    }
   ],
   "source": [
    "data['Statement'][0].split(' ')[0] # Variant Hash\n",
    "data['Statement'][0].split(' ')[4] # Therapeutic \n",
    "data['Statement'][0].split(' ')[5] # Predicate \n",
    "data['Statement'][0].split(' ')[8] # Disease\n",
    "\n"
   ]
  },
  {
   "cell_type": "code",
   "execution_count": 89,
   "metadata": {},
   "outputs": [
    {
     "data": {
      "text/html": [
       "<div>\n",
       "<style scoped>\n",
       "    .dataframe tbody tr th:only-of-type {\n",
       "        vertical-align: middle;\n",
       "    }\n",
       "\n",
       "    .dataframe tbody tr th {\n",
       "        vertical-align: top;\n",
       "    }\n",
       "\n",
       "    .dataframe thead th {\n",
       "        text-align: right;\n",
       "    }\n",
       "</style>\n",
       "<table border=\"1\" class=\"dataframe\">\n",
       "  <thead>\n",
       "    <tr style=\"text-align: right;\">\n",
       "      <th></th>\n",
       "      <th>Statement</th>\n",
       "      <th>counts</th>\n",
       "      <th>variant</th>\n",
       "      <th>therapeutic</th>\n",
       "      <th>predicate</th>\n",
       "      <th>disease</th>\n",
       "    </tr>\n",
       "  </thead>\n",
       "  <tbody>\n",
       "    <tr>\n",
       "      <th>0</th>\n",
       "      <td>ga4gh:VA.sMA9h8fzDi0RvweMlxtD0_Oi8B-JZ1V- with...</td>\n",
       "      <td>8</td>\n",
       "      <td>ga4gh:VA.sMA9h8fzDi0RvweMlxtD0_Oi8B-JZ1V-</td>\n",
       "      <td>rxcui:1721560</td>\n",
       "      <td>predictsSensitivityTo</td>\n",
       "      <td>ncit:C2926</td>\n",
       "    </tr>\n",
       "    <tr>\n",
       "      <th>1</th>\n",
       "      <td>ga4gh:VA.S41CcMJT2bcd8R4-qXZWH1PoHWNtG2PZ with...</td>\n",
       "      <td>7</td>\n",
       "      <td>ga4gh:VA.S41CcMJT2bcd8R4-qXZWH1PoHWNtG2PZ</td>\n",
       "      <td>rxcui:337525</td>\n",
       "      <td>predictsSensitivityTo</td>\n",
       "      <td>ncit:C2926</td>\n",
       "    </tr>\n",
       "    <tr>\n",
       "      <th>2</th>\n",
       "      <td>ga4gh:VA.j4XnsLZcdzDIYa5pvvXM7t1wn9OITr0L with...</td>\n",
       "      <td>7</td>\n",
       "      <td>ga4gh:VA.j4XnsLZcdzDIYa5pvvXM7t1wn9OITr0L</td>\n",
       "      <td>rxcui:1147220</td>\n",
       "      <td>predictsSensitivityTo</td>\n",
       "      <td>ncit:C3224</td>\n",
       "    </tr>\n",
       "    <tr>\n",
       "      <th>3</th>\n",
       "      <td>ga4gh:VA.ORvaSNcFK71WOVr_gi2vv6oPCcXgljab with...</td>\n",
       "      <td>6</td>\n",
       "      <td>ga4gh:VA.ORvaSNcFK71WOVr_gi2vv6oPCcXgljab</td>\n",
       "      <td>rxcui:318341</td>\n",
       "      <td>predictsResistanceTo</td>\n",
       "      <td>ncit:C4978</td>\n",
       "    </tr>\n",
       "    <tr>\n",
       "      <th>4</th>\n",
       "      <td>ga4gh:VA.Dy7soaZQU1vH9Eb93xG_pJyhu7xTDDC9 with...</td>\n",
       "      <td>5</td>\n",
       "      <td>ga4gh:VA.Dy7soaZQU1vH9Eb93xG_pJyhu7xTDDC9</td>\n",
       "      <td>rxcui:282388</td>\n",
       "      <td>predictsResistanceTo</td>\n",
       "      <td>ncit:C3868</td>\n",
       "    </tr>\n",
       "    <tr>\n",
       "      <th>...</th>\n",
       "      <td>...</td>\n",
       "      <td>...</td>\n",
       "      <td>...</td>\n",
       "      <td>...</td>\n",
       "      <td>...</td>\n",
       "      <td>...</td>\n",
       "    </tr>\n",
       "    <tr>\n",
       "      <th>898</th>\n",
       "      <td>ga4gh:VA.mecsBfk2t315ZcdZCTD7TTRVezaXskCy with...</td>\n",
       "      <td>1</td>\n",
       "      <td>ga4gh:VA.mecsBfk2t315ZcdZCTD7TTRVezaXskCy</td>\n",
       "      <td>rxcui:337525</td>\n",
       "      <td>predictsSensitivityTo</td>\n",
       "      <td>ncit:C2926</td>\n",
       "    </tr>\n",
       "    <tr>\n",
       "      <th>899</th>\n",
       "      <td>ga4gh:VA.e0t-Kq4iX8IsDH1F0zj6xClkCKCJpwwk with...</td>\n",
       "      <td>1</td>\n",
       "      <td>ga4gh:VA.e0t-Kq4iX8IsDH1F0zj6xClkCKCJpwwk</td>\n",
       "      <td>rxcui:337525</td>\n",
       "      <td>predictsSensitivityTo</td>\n",
       "      <td>ncit:C2926</td>\n",
       "    </tr>\n",
       "    <tr>\n",
       "      <th>900</th>\n",
       "      <td>ga4gh:VA.RWiEzkpxrOKfQHfoE6T5CEpJPgqgA_YB with...</td>\n",
       "      <td>1</td>\n",
       "      <td>ga4gh:VA.RWiEzkpxrOKfQHfoE6T5CEpJPgqgA_YB</td>\n",
       "      <td>rxcui:337525</td>\n",
       "      <td>predictsSensitivityTo</td>\n",
       "      <td>ncit:C2926</td>\n",
       "    </tr>\n",
       "    <tr>\n",
       "      <th>901</th>\n",
       "      <td>ga4gh:VA.0X2BApoy4FSxtnvy5az1bXu8YMs8E__x with...</td>\n",
       "      <td>1</td>\n",
       "      <td>ga4gh:VA.0X2BApoy4FSxtnvy5az1bXu8YMs8E__x</td>\n",
       "      <td>rxcui:337525</td>\n",
       "      <td>predictsResistanceTo</td>\n",
       "      <td>ncit:C2926</td>\n",
       "    </tr>\n",
       "    <tr>\n",
       "      <th>902</th>\n",
       "      <td>ga4gh:VA.udBCHwlrf8xNiRy_19bLi-h5LhnZLgCt with...</td>\n",
       "      <td>1</td>\n",
       "      <td>ga4gh:VA.udBCHwlrf8xNiRy_19bLi-h5LhnZLgCt</td>\n",
       "      <td>moa.ctid:5e89NyyfMGR167xjfPQC_QJBxBI9OYZx</td>\n",
       "      <td>predictsSensitivityTo</td>\n",
       "      <td>ncit:C5105</td>\n",
       "    </tr>\n",
       "  </tbody>\n",
       "</table>\n",
       "<p>903 rows × 6 columns</p>\n",
       "</div>"
      ],
      "text/plain": [
       "                                             Statement  counts  \\\n",
       "0    ga4gh:VA.sMA9h8fzDi0RvweMlxtD0_Oi8B-JZ1V- with...       8   \n",
       "1    ga4gh:VA.S41CcMJT2bcd8R4-qXZWH1PoHWNtG2PZ with...       7   \n",
       "2    ga4gh:VA.j4XnsLZcdzDIYa5pvvXM7t1wn9OITr0L with...       7   \n",
       "3    ga4gh:VA.ORvaSNcFK71WOVr_gi2vv6oPCcXgljab with...       6   \n",
       "4    ga4gh:VA.Dy7soaZQU1vH9Eb93xG_pJyhu7xTDDC9 with...       5   \n",
       "..                                                 ...     ...   \n",
       "898  ga4gh:VA.mecsBfk2t315ZcdZCTD7TTRVezaXskCy with...       1   \n",
       "899  ga4gh:VA.e0t-Kq4iX8IsDH1F0zj6xClkCKCJpwwk with...       1   \n",
       "900  ga4gh:VA.RWiEzkpxrOKfQHfoE6T5CEpJPgqgA_YB with...       1   \n",
       "901  ga4gh:VA.0X2BApoy4FSxtnvy5az1bXu8YMs8E__x with...       1   \n",
       "902  ga4gh:VA.udBCHwlrf8xNiRy_19bLi-h5LhnZLgCt with...       1   \n",
       "\n",
       "                                       variant  \\\n",
       "0    ga4gh:VA.sMA9h8fzDi0RvweMlxtD0_Oi8B-JZ1V-   \n",
       "1    ga4gh:VA.S41CcMJT2bcd8R4-qXZWH1PoHWNtG2PZ   \n",
       "2    ga4gh:VA.j4XnsLZcdzDIYa5pvvXM7t1wn9OITr0L   \n",
       "3    ga4gh:VA.ORvaSNcFK71WOVr_gi2vv6oPCcXgljab   \n",
       "4    ga4gh:VA.Dy7soaZQU1vH9Eb93xG_pJyhu7xTDDC9   \n",
       "..                                         ...   \n",
       "898  ga4gh:VA.mecsBfk2t315ZcdZCTD7TTRVezaXskCy   \n",
       "899  ga4gh:VA.e0t-Kq4iX8IsDH1F0zj6xClkCKCJpwwk   \n",
       "900  ga4gh:VA.RWiEzkpxrOKfQHfoE6T5CEpJPgqgA_YB   \n",
       "901  ga4gh:VA.0X2BApoy4FSxtnvy5az1bXu8YMs8E__x   \n",
       "902  ga4gh:VA.udBCHwlrf8xNiRy_19bLi-h5LhnZLgCt   \n",
       "\n",
       "                                   therapeutic              predicate  \\\n",
       "0                                rxcui:1721560  predictsSensitivityTo   \n",
       "1                                 rxcui:337525  predictsSensitivityTo   \n",
       "2                                rxcui:1147220  predictsSensitivityTo   \n",
       "3                                 rxcui:318341   predictsResistanceTo   \n",
       "4                                 rxcui:282388   predictsResistanceTo   \n",
       "..                                         ...                    ...   \n",
       "898                               rxcui:337525  predictsSensitivityTo   \n",
       "899                               rxcui:337525  predictsSensitivityTo   \n",
       "900                               rxcui:337525  predictsSensitivityTo   \n",
       "901                               rxcui:337525   predictsResistanceTo   \n",
       "902  moa.ctid:5e89NyyfMGR167xjfPQC_QJBxBI9OYZx  predictsSensitivityTo   \n",
       "\n",
       "        disease  \n",
       "0    ncit:C2926  \n",
       "1    ncit:C2926  \n",
       "2    ncit:C3224  \n",
       "3    ncit:C4978  \n",
       "4    ncit:C3868  \n",
       "..          ...  \n",
       "898  ncit:C2926  \n",
       "899  ncit:C2926  \n",
       "900  ncit:C2926  \n",
       "901  ncit:C2926  \n",
       "902  ncit:C5105  \n",
       "\n",
       "[903 rows x 6 columns]"
      ]
     },
     "execution_count": 89,
     "metadata": {},
     "output_type": "execute_result"
    }
   ],
   "source": [
    "data['variant'] = None\n",
    "data['predicate'] = None\n",
    "data['therapeutic'] = None\n",
    "data['disease'] = None\n",
    "\n",
    "\n",
    "for idx, row in data.iterrows():\n",
    "    terms = row['Statement'].split(' ')\n",
    "    data.at[idx, 'variant'] = terms[0]\n",
    "    data.at[idx, 'predicate'] = terms[5]\n",
    "    data.at[idx, 'therapeutic'] = terms[4]\n",
    "    data.at[idx, 'disease'] = terms[8]\n",
    "\n",
    "data "
   ]
  },
  {
   "cell_type": "code",
   "execution_count": 105,
   "metadata": {},
   "outputs": [],
   "source": [
    "def duplicate_detect(count):\n",
    "    if count > 1:\n",
    "        return('Duplicate')\n",
    "    else:\n",
    "        return('Not Duplicate')\n",
    "    \n",
    "data['is_duplicate'] = None\n",
    "data['is_duplicate'] = data['counts'].apply(duplicate_detect)"
   ]
  },
  {
   "cell_type": "code",
   "execution_count": 119,
   "metadata": {},
   "outputs": [
    {
     "data": {
      "application/vnd.plotly.v1+json": {
       "config": {
        "plotlyServerURL": "https://plot.ly"
       },
       "data": [
        {
         "alignmentgroup": "True",
         "hovertemplate": "predicate=predictsSensitivityTo<br>Statement=%{x}<br>counts=%{y}<extra></extra>",
         "legendgroup": "predictsSensitivityTo",
         "marker": {
          "color": "#636efa",
          "pattern": {
           "shape": ""
          }
         },
         "name": "predictsSensitivityTo",
         "offsetgroup": "predictsSensitivityTo",
         "orientation": "v",
         "showlegend": true,
         "textposition": "auto",
         "type": "bar",
         "x": [
          "ga4gh:VA.sMA9h8fzDi0RvweMlxtD0_Oi8B-JZ1V- with treatment by rxcui:1721560 predictsSensitivityTo the disease ncit:C2926",
          "ga4gh:VA.S41CcMJT2bcd8R4-qXZWH1PoHWNtG2PZ with treatment by rxcui:337525 predictsSensitivityTo the disease ncit:C2926",
          "ga4gh:VA.j4XnsLZcdzDIYa5pvvXM7t1wn9OITr0L with treatment by rxcui:1147220 predictsSensitivityTo the disease ncit:C3224",
          "ga4gh:VA.S41CcMJT2bcd8R4-qXZWH1PoHWNtG2PZ with treatment by rxcui:1430438 predictsSensitivityTo the disease ncit:C2926",
          "ga4gh:VA.S41CcMJT2bcd8R4-qXZWH1PoHWNtG2PZ with treatment by rxcui:328134 predictsSensitivityTo the disease ncit:C2926",
          "ga4gh:VA.S41CcMJT2bcd8R4-qXZWH1PoHWNtG2PZ with treatment by rxcui:1721560 predictsSensitivityTo the disease ncit:C2926",
          "ga4gh:VA.j4XnsLZcdzDIYa5pvvXM7t1wn9OITr0L with treatment by civic.ctid:oBrlcO23adoVXv51xh-5Wigy0QyDWtfr predictsSensitivityTo the disease ncit:C3224",
          "ga4gh:VA.S41CcMJT2bcd8R4-qXZWH1PoHWNtG2PZ with treatment by rxcui:337525 predictsSensitivityTo the disease ncit:C9305",
          "ga4gh:VA.mipQFzApQNp2KyVXcZig8b4uu7kFofIZ with treatment by rxcui:495881 predictsSensitivityTo the disease ncit:C2926",
          "ga4gh:VA.sMA9h8fzDi0RvweMlxtD0_Oi8B-JZ1V- with treatment by ncit:C99905 predictsSensitivityTo the disease ncit:C2926",
          "ga4gh:VA.pfWn9x9oFBRzGda1xXcOrE-BrX0R__N8 with treatment by rxcui:1147220 predictsSensitivityTo the disease ncit:C3224",
          "ga4gh:VA.j4XnsLZcdzDIYa5pvvXM7t1wn9OITr0L with treatment by rxcui:1147220 predictsSensitivityTo the disease ncit:C4978",
          "ga4gh:VA.S41CcMJT2bcd8R4-qXZWH1PoHWNtG2PZ with treatment by rxcui:328134 predictsSensitivityTo the disease ncit:C3512",
          "ga4gh:VA.S41CcMJT2bcd8R4-qXZWH1PoHWNtG2PZ with treatment by rxcui:1430438 predictsSensitivityTo the disease ncit:C3512",
          "ga4gh:VA.j4XnsLZcdzDIYa5pvvXM7t1wn9OITr0L with treatment by rxcui:1425098 predictsSensitivityTo the disease ncit:C3224",
          "ga4gh:VA.lAST62ntkEaXy6RDDOF1V4C3jd-jaAJ5 with treatment by rxcui:2049873 predictsSensitivityTo the disease ncit:C3171",
          "ga4gh:VA.RkoMSdIJCB856OZ4YxjZIjVnVYrXMDy9 with treatment by rxcui:1148495 predictsSensitivityTo the disease ncit:C3270",
          "ga4gh:VA.S41CcMJT2bcd8R4-qXZWH1PoHWNtG2PZ with treatment by rxcui:2058848 predictsSensitivityTo the disease ncit:C2926",
          "ga4gh:VA.j4XnsLZcdzDIYa5pvvXM7t1wn9OITr0L with treatment by moa.ctid:IAMn2xc8QDzi0_zvPzrGlronyv01Coqs predictsSensitivityTo the disease ncit:C3224",
          "ga4gh:VA.j4XnsLZcdzDIYa5pvvXM7t1wn9OITr0L with treatment by rxcui:1147220 predictsSensitivityTo the disease ncit:C4035",
          "ga4gh:VA.j4XnsLZcdzDIYa5pvvXM7t1wn9OITr0L with treatment by civic.ctid:aqQX-Uu5M67jU4vqRwbOB7diuYQozPtZ predictsSensitivityTo the disease ncit:C4978",
          "ga4gh:VA.d-Kmz2h-KL5RB7PbcizjOTz8crmA9lEk with treatment by rxcui:328134 predictsSensitivityTo the disease ncit:C2926",
          "ga4gh:VA.Dy7soaZQU1vH9Eb93xG_pJyhu7xTDDC9 with treatment by rxcui:2272107 predictsSensitivityTo the disease ncit:C3868",
          "ga4gh:VA.kupbzxHCTSvq0_M8FY2FpHFtXotNHn4c with treatment by rxcui:1193326 predictsSensitivityTo the disease ncit:C3179",
          "ga4gh:VA.CpnlaV2B8565obATF-UlE706sBYp0D6M with treatment by rxcui:2289380 predictsSensitivityTo the disease ncit:C3224",
          "ga4gh:VA.2VAvTmPON2L7JffxjE68jAmmmwxyzDpB with treatment by rxcui:2049873 predictsSensitivityTo the disease ncit:C3171",
          "ga4gh:VA.Pj-8TtUrxnONU6dr8wdgKf1oHfI4ved0 with treatment by rxcui:1147220 predictsSensitivityTo the disease ncit:C3224",
          "ga4gh:VA.S41CcMJT2bcd8R4-qXZWH1PoHWNtG2PZ with treatment by rxcui:337525 predictsSensitivityTo the disease ncit:C3512",
          "ga4gh:VA.pfWn9x9oFBRzGda1xXcOrE-BrX0R__N8 with treatment by rxcui:1425098 predictsSensitivityTo the disease ncit:C3224",
          "ga4gh:VA.4yqg18xtnJP7cTJI-Z2xS5HjnhxJJg84 with treatment by rxcui:337525 predictsSensitivityTo the disease ncit:C34447",
          "ga4gh:VA.5GEqm-zIzvvPheyGb9rlu5DyIueIubXm with treatment by ncit:C74072 predictsSensitivityTo the disease ncit:C4013",
          "ga4gh:VA.j4XnsLZcdzDIYa5pvvXM7t1wn9OITr0L with treatment by civic.ctid:oBrlcO23adoVXv51xh-5Wigy0QyDWtfr predictsSensitivityTo the disease ncit:C35417",
          "ga4gh:VA.j4XnsLZcdzDIYa5pvvXM7t1wn9OITr0L with treatment by rxcui:1147220 predictsSensitivityTo the disease ncit:C3510",
          "ga4gh:VA.6mOBrBWsfWLavxBwhR3tMyJEW9UNc6fk with treatment by rxcui:357977 predictsSensitivityTo the disease ncit:C3868",
          "ga4gh:VA.hl8sXt8vGcWF3EST2vU5SoHuWQ1AO_eO with treatment by rxcui:357977 predictsSensitivityTo the disease ncit:C3171",
          "ga4gh:VA.j4XnsLZcdzDIYa5pvvXM7t1wn9OITr0L with treatment by rxcui:1424911 predictsSensitivityTo the disease ncit:C3224",
          "ga4gh:VA.v5Jc64GQjTPVlsjiINmmlWmNRFfDDnoO with treatment by rxcui:337525 predictsSensitivityTo the disease ncit:C4436",
          "ga4gh:VA.S41CcMJT2bcd8R4-qXZWH1PoHWNtG2PZ with treatment by civic.tsgid:MHwrYYGaDMmdgFLNboI18QBl-zDj5Wso predictsSensitivityTo the disease ncit:C2926",
          "ga4gh:VA.sMA9h8fzDi0RvweMlxtD0_Oi8B-JZ1V- with treatment by rxcui:1721560 predictsSensitivityTo the disease ncit:C3512",
          "ga4gh:VA.j4XnsLZcdzDIYa5pvvXM7t1wn9OITr0L with treatment by civic.ctid:7g5X81wE2go4GE_fB45SjFamVMgpnwsA predictsSensitivityTo the disease ncit:C4978",
          "ga4gh:VA.6EFlwRs4Pu_r5mcvJGoE3ro2cURUkrkV with treatment by rxcui:1148495 predictsSensitivityTo the disease ncit:C3270",
          "ga4gh:VA.j4XnsLZcdzDIYa5pvvXM7t1wn9OITr0L with treatment by civic.ctid:rF1JcnGq_-VTc0yiCsNIORfNqXQCC3yM predictsSensitivityTo the disease ncit:C4978",
          "ga4gh:VA.j4XnsLZcdzDIYa5pvvXM7t1wn9OITr0L with treatment by moa.ctid:fImZ7uz-ZC2vosZSuS-gdJcQGXu3l6l7 predictsSensitivityTo the disease ncit:C3224",
          "ga4gh:VA.pfWn9x9oFBRzGda1xXcOrE-BrX0R__N8 with treatment by moa.ctid:IAMn2xc8QDzi0_zvPzrGlronyv01Coqs predictsSensitivityTo the disease ncit:C3224",
          "ga4gh:VA.ORvaSNcFK71WOVr_gi2vv6oPCcXgljab with treatment by rxcui:318341 predictsSensitivityTo the disease ncit:C4978",
          "ga4gh:VA.j4XnsLZcdzDIYa5pvvXM7t1wn9OITr0L with treatment by rxcui:1147220 predictsSensitivityTo the disease ncit:C53972",
          "ga4gh:VA.A8crPBRvgFrkcWWnszjqT26E08kr0wV0 with treatment by ncit:C165479 predictsSensitivityTo the disease ncit:C9245",
          "ga4gh:VA.E09IUKElemW2uoVRT5qacU7RMqT8Um5m with treatment by ncit:C165479 predictsSensitivityTo the disease ncit:C9245",
          "ga4gh:VA.pfWn9x9oFBRzGda1xXcOrE-BrX0R__N8 with treatment by civic.ctid:oBrlcO23adoVXv51xh-5Wigy0QyDWtfr predictsSensitivityTo the disease ncit:C3224",
          "ga4gh:VA.j4XnsLZcdzDIYa5pvvXM7t1wn9OITr0L with treatment by rxcui:1147220 predictsSensitivityTo the disease ncit:C3242",
          "ga4gh:VA.udBCHwlrf8xNiRy_19bLi-h5LhnZLgCt with treatment by rxcui:2550714 predictsSensitivityTo the disease ncit:C2926",
          "ga4gh:VA.j4XnsLZcdzDIYa5pvvXM7t1wn9OITr0L with treatment by rxcui:1147220 predictsSensitivityTo the disease ncit:C2926",
          "ga4gh:VA.sMA9h8fzDi0RvweMlxtD0_Oi8B-JZ1V- with treatment by rxcui:1430438 predictsSensitivityTo the disease ncit:C2926"
         ],
         "xaxis": "x",
         "y": [
          8,
          7,
          7,
          4,
          4,
          4,
          4,
          3,
          3,
          3,
          3,
          3,
          3,
          3,
          3,
          3,
          3,
          3,
          3,
          3,
          2,
          2,
          2,
          2,
          2,
          2,
          2,
          2,
          2,
          2,
          2,
          2,
          2,
          2,
          2,
          2,
          2,
          2,
          2,
          2,
          2,
          2,
          2,
          2,
          2,
          2,
          2,
          2,
          2,
          2,
          2,
          2,
          2
         ],
         "yaxis": "y"
        },
        {
         "alignmentgroup": "True",
         "hovertemplate": "predicate=predictsResistanceTo<br>Statement=%{x}<br>counts=%{y}<extra></extra>",
         "legendgroup": "predictsResistanceTo",
         "marker": {
          "color": "#EF553B",
          "pattern": {
           "shape": ""
          }
         },
         "name": "predictsResistanceTo",
         "offsetgroup": "predictsResistanceTo",
         "orientation": "v",
         "showlegend": true,
         "textposition": "auto",
         "type": "bar",
         "x": [
          "ga4gh:VA.ORvaSNcFK71WOVr_gi2vv6oPCcXgljab with treatment by rxcui:318341 predictsResistanceTo the disease ncit:C4978",
          "ga4gh:VA.Dy7soaZQU1vH9Eb93xG_pJyhu7xTDDC9 with treatment by rxcui:282388 predictsResistanceTo the disease ncit:C3868",
          "ga4gh:VA.ZqmNu5AN2PRYFl0K9eBQ_bo2pJAGKSoa with treatment by rxcui:6718 predictsResistanceTo the disease ncit:C3242",
          "ga4gh:VA.cdcXITbBWUXPjy3zPdhs7xjU1yvlkSrj with treatment by rxcui:6718 predictsResistanceTo the disease ncit:C3242",
          "ga4gh:VA.udBCHwlrf8xNiRy_19bLi-h5LhnZLgCt with treatment by rxcui:6718 predictsResistanceTo the disease ncit:C3242",
          "ga4gh:VA.6_uW58_HmIcOOQshfkvhuGjCSFL5H3fs with treatment by rxcui:6718 predictsResistanceTo the disease ncit:C3242",
          "ga4gh:VA.sMA9h8fzDi0RvweMlxtD0_Oi8B-JZ1V- with treatment by rxcui:328134 predictsResistanceTo the disease ncit:C2926",
          "ga4gh:VA.w6K7bKlqZC_cCZOk9W0IBVh4EZrcSv3o with treatment by rxcui:282388 predictsResistanceTo the disease ncit:C3868",
          "ga4gh:VA.ORvaSNcFK71WOVr_gi2vv6oPCcXgljab with treatment by civic.tsgid:7IxyhCwID0QYyVCP2xuIyYvwwu-S_HrZ predictsResistanceTo the disease ncit:C4978",
          "ga4gh:VA.AhXGahW4SCTEgBSXlABoqX7N4mWXL-MD with treatment by rxcui:318341 predictsResistanceTo the disease ncit:C4978",
          "ga4gh:VA.zElnUUWNdxH5elaDdhFo8dYA6dVjCZNs with treatment by rxcui:1747556 predictsResistanceTo the disease ncit:C3209",
          "ga4gh:VA.XT7dH5AXh5XW2u2Ed8z701vo6BA3nhb6 with treatment by civic.tsgid:IMgxRLc3XTtFhF3LrdtkdhJqiCh-_3dE predictsResistanceTo the disease ncit:C3168",
          "ga4gh:VA.57hhvPjBoLmuSxZdcTzEdDEprYZnzznv with treatment by rxcui:1147220 predictsResistanceTo the disease ncit:C3224",
          "ga4gh:VA.sMA9h8fzDi0RvweMlxtD0_Oi8B-JZ1V- with treatment by civic.tsgid:MHwrYYGaDMmdgFLNboI18QBl-zDj5Wso predictsResistanceTo the disease ncit:C2926",
          "ga4gh:VA.I_Aqtnp7T3OtKjjcXdRisQvKbLULvRN5 with treatment by rxcui:1147220 predictsResistanceTo the disease ncit:C3224",
          "ga4gh:VA.sMA9h8fzDi0RvweMlxtD0_Oi8B-JZ1V- with treatment by rxcui:337525 predictsResistanceTo the disease ncit:C2926",
          "ga4gh:VA.B6uOm51_KWfoJlGO61ui7ltRfb4sG092 with treatment by rxcui:1546019 predictsResistanceTo the disease ncit:C3174",
          "ga4gh:VA.RynDzpGjpLKfmAOrN0yrjRyAeIPqV52Q with treatment by rxcui:1242987 predictsResistanceTo the disease ncit:C2921",
          "ga4gh:VA.cdcXITbBWUXPjy3zPdhs7xjU1yvlkSrj with treatment by rxcui:263034 predictsResistanceTo the disease ncit:C4978",
          "ga4gh:VA.AhXGahW4SCTEgBSXlABoqX7N4mWXL-MD with treatment by rxcui:263034 predictsResistanceTo the disease ncit:C4978",
          "ga4gh:VA.ABJoQOtfYms_bIW4CVCKShtEmwIiT6WA with treatment by rxcui:318341 predictsResistanceTo the disease ncit:C4978",
          "ga4gh:VA.yHQVVwZjma693Ev6lQtew1axCWVwIi8K with treatment by rxcui:1147220 predictsResistanceTo the disease ncit:C3224",
          "ga4gh:VA.5GEqm-zIzvvPheyGb9rlu5DyIueIubXm with treatment by civic.tsgid:7IxyhCwID0QYyVCP2xuIyYvwwu-S_HrZ predictsResistanceTo the disease ncit:C4978",
          "ga4gh:VA.FkanRNmwHE0Hf6xRjR2MElkUvP5kPMDC with treatment by rxcui:1147220 predictsResistanceTo the disease ncit:C3224",
          "ga4gh:VA.-dMnJf9oUBfl9De0llc3LqJaGdFzfATK with treatment by rxcui:2103478 predictsResistanceTo the disease ncit:C53556",
          "ga4gh:VA.j4XnsLZcdzDIYa5pvvXM7t1wn9OITr0L with treatment by civic.tsgid:7IxyhCwID0QYyVCP2xuIyYvwwu-S_HrZ predictsResistanceTo the disease ncit:C4978",
          "ga4gh:VA.WCo3uQpMnNSbBMy5pKdSccudXs8ooZw9 with treatment by civic.ctid:E39_bNJqxD2YlQvEbnaYPTYj7A6sKF3V predictsResistanceTo the disease ncit:C4978",
          "ga4gh:VA.Dy7soaZQU1vH9Eb93xG_pJyhu7xTDDC9 with treatment by rxcui:282388 predictsResistanceTo the disease ncit:C9305",
          "ga4gh:VA.0sx1Z2siMMnqZhW0BnX4eUz9dUIDLRm- with treatment by rxcui:282388 predictsResistanceTo the disease ncit:C9305",
          "ga4gh:VA.sMA9h8fzDi0RvweMlxtD0_Oi8B-JZ1V- with treatment by rxcui:1430438 predictsResistanceTo the disease ncit:C2926",
          "ga4gh:VA.0v5ZnAjs5BLLL0yOTmm5LO5S1f2m8vGa with treatment by rxcui:1442981 predictsResistanceTo the disease ncit:C3163",
          "ga4gh:VA.-dMnJf9oUBfl9De0llc3LqJaGdFzfATK with treatment by civic.tsgid:7IxyhCwID0QYyVCP2xuIyYvwwu-S_HrZ predictsResistanceTo the disease ncit:C4978",
          "ga4gh:VA.yHQVVwZjma693Ev6lQtew1axCWVwIi8K with treatment by rxcui:2289380 predictsResistanceTo the disease ncit:C3224"
         ],
         "xaxis": "x",
         "y": [
          6,
          5,
          4,
          4,
          4,
          4,
          3,
          2,
          2,
          2,
          2,
          2,
          2,
          2,
          2,
          2,
          2,
          2,
          2,
          2,
          2,
          2,
          2,
          2,
          2,
          2,
          2,
          2,
          2,
          2,
          2,
          2,
          2
         ],
         "yaxis": "y"
        }
       ],
       "layout": {
        "barmode": "relative",
        "legend": {
         "title": {
          "text": "predicate"
         },
         "tracegroupgap": 0
        },
        "template": {
         "data": {
          "bar": [
           {
            "error_x": {
             "color": "#2a3f5f"
            },
            "error_y": {
             "color": "#2a3f5f"
            },
            "marker": {
             "line": {
              "color": "#E5ECF6",
              "width": 0.5
             },
             "pattern": {
              "fillmode": "overlay",
              "size": 10,
              "solidity": 0.2
             }
            },
            "type": "bar"
           }
          ],
          "barpolar": [
           {
            "marker": {
             "line": {
              "color": "#E5ECF6",
              "width": 0.5
             },
             "pattern": {
              "fillmode": "overlay",
              "size": 10,
              "solidity": 0.2
             }
            },
            "type": "barpolar"
           }
          ],
          "carpet": [
           {
            "aaxis": {
             "endlinecolor": "#2a3f5f",
             "gridcolor": "white",
             "linecolor": "white",
             "minorgridcolor": "white",
             "startlinecolor": "#2a3f5f"
            },
            "baxis": {
             "endlinecolor": "#2a3f5f",
             "gridcolor": "white",
             "linecolor": "white",
             "minorgridcolor": "white",
             "startlinecolor": "#2a3f5f"
            },
            "type": "carpet"
           }
          ],
          "choropleth": [
           {
            "colorbar": {
             "outlinewidth": 0,
             "ticks": ""
            },
            "type": "choropleth"
           }
          ],
          "contour": [
           {
            "colorbar": {
             "outlinewidth": 0,
             "ticks": ""
            },
            "colorscale": [
             [
              0,
              "#0d0887"
             ],
             [
              0.1111111111111111,
              "#46039f"
             ],
             [
              0.2222222222222222,
              "#7201a8"
             ],
             [
              0.3333333333333333,
              "#9c179e"
             ],
             [
              0.4444444444444444,
              "#bd3786"
             ],
             [
              0.5555555555555556,
              "#d8576b"
             ],
             [
              0.6666666666666666,
              "#ed7953"
             ],
             [
              0.7777777777777778,
              "#fb9f3a"
             ],
             [
              0.8888888888888888,
              "#fdca26"
             ],
             [
              1,
              "#f0f921"
             ]
            ],
            "type": "contour"
           }
          ],
          "contourcarpet": [
           {
            "colorbar": {
             "outlinewidth": 0,
             "ticks": ""
            },
            "type": "contourcarpet"
           }
          ],
          "heatmap": [
           {
            "colorbar": {
             "outlinewidth": 0,
             "ticks": ""
            },
            "colorscale": [
             [
              0,
              "#0d0887"
             ],
             [
              0.1111111111111111,
              "#46039f"
             ],
             [
              0.2222222222222222,
              "#7201a8"
             ],
             [
              0.3333333333333333,
              "#9c179e"
             ],
             [
              0.4444444444444444,
              "#bd3786"
             ],
             [
              0.5555555555555556,
              "#d8576b"
             ],
             [
              0.6666666666666666,
              "#ed7953"
             ],
             [
              0.7777777777777778,
              "#fb9f3a"
             ],
             [
              0.8888888888888888,
              "#fdca26"
             ],
             [
              1,
              "#f0f921"
             ]
            ],
            "type": "heatmap"
           }
          ],
          "heatmapgl": [
           {
            "colorbar": {
             "outlinewidth": 0,
             "ticks": ""
            },
            "colorscale": [
             [
              0,
              "#0d0887"
             ],
             [
              0.1111111111111111,
              "#46039f"
             ],
             [
              0.2222222222222222,
              "#7201a8"
             ],
             [
              0.3333333333333333,
              "#9c179e"
             ],
             [
              0.4444444444444444,
              "#bd3786"
             ],
             [
              0.5555555555555556,
              "#d8576b"
             ],
             [
              0.6666666666666666,
              "#ed7953"
             ],
             [
              0.7777777777777778,
              "#fb9f3a"
             ],
             [
              0.8888888888888888,
              "#fdca26"
             ],
             [
              1,
              "#f0f921"
             ]
            ],
            "type": "heatmapgl"
           }
          ],
          "histogram": [
           {
            "marker": {
             "pattern": {
              "fillmode": "overlay",
              "size": 10,
              "solidity": 0.2
             }
            },
            "type": "histogram"
           }
          ],
          "histogram2d": [
           {
            "colorbar": {
             "outlinewidth": 0,
             "ticks": ""
            },
            "colorscale": [
             [
              0,
              "#0d0887"
             ],
             [
              0.1111111111111111,
              "#46039f"
             ],
             [
              0.2222222222222222,
              "#7201a8"
             ],
             [
              0.3333333333333333,
              "#9c179e"
             ],
             [
              0.4444444444444444,
              "#bd3786"
             ],
             [
              0.5555555555555556,
              "#d8576b"
             ],
             [
              0.6666666666666666,
              "#ed7953"
             ],
             [
              0.7777777777777778,
              "#fb9f3a"
             ],
             [
              0.8888888888888888,
              "#fdca26"
             ],
             [
              1,
              "#f0f921"
             ]
            ],
            "type": "histogram2d"
           }
          ],
          "histogram2dcontour": [
           {
            "colorbar": {
             "outlinewidth": 0,
             "ticks": ""
            },
            "colorscale": [
             [
              0,
              "#0d0887"
             ],
             [
              0.1111111111111111,
              "#46039f"
             ],
             [
              0.2222222222222222,
              "#7201a8"
             ],
             [
              0.3333333333333333,
              "#9c179e"
             ],
             [
              0.4444444444444444,
              "#bd3786"
             ],
             [
              0.5555555555555556,
              "#d8576b"
             ],
             [
              0.6666666666666666,
              "#ed7953"
             ],
             [
              0.7777777777777778,
              "#fb9f3a"
             ],
             [
              0.8888888888888888,
              "#fdca26"
             ],
             [
              1,
              "#f0f921"
             ]
            ],
            "type": "histogram2dcontour"
           }
          ],
          "mesh3d": [
           {
            "colorbar": {
             "outlinewidth": 0,
             "ticks": ""
            },
            "type": "mesh3d"
           }
          ],
          "parcoords": [
           {
            "line": {
             "colorbar": {
              "outlinewidth": 0,
              "ticks": ""
             }
            },
            "type": "parcoords"
           }
          ],
          "pie": [
           {
            "automargin": true,
            "type": "pie"
           }
          ],
          "scatter": [
           {
            "fillpattern": {
             "fillmode": "overlay",
             "size": 10,
             "solidity": 0.2
            },
            "type": "scatter"
           }
          ],
          "scatter3d": [
           {
            "line": {
             "colorbar": {
              "outlinewidth": 0,
              "ticks": ""
             }
            },
            "marker": {
             "colorbar": {
              "outlinewidth": 0,
              "ticks": ""
             }
            },
            "type": "scatter3d"
           }
          ],
          "scattercarpet": [
           {
            "marker": {
             "colorbar": {
              "outlinewidth": 0,
              "ticks": ""
             }
            },
            "type": "scattercarpet"
           }
          ],
          "scattergeo": [
           {
            "marker": {
             "colorbar": {
              "outlinewidth": 0,
              "ticks": ""
             }
            },
            "type": "scattergeo"
           }
          ],
          "scattergl": [
           {
            "marker": {
             "colorbar": {
              "outlinewidth": 0,
              "ticks": ""
             }
            },
            "type": "scattergl"
           }
          ],
          "scattermapbox": [
           {
            "marker": {
             "colorbar": {
              "outlinewidth": 0,
              "ticks": ""
             }
            },
            "type": "scattermapbox"
           }
          ],
          "scatterpolar": [
           {
            "marker": {
             "colorbar": {
              "outlinewidth": 0,
              "ticks": ""
             }
            },
            "type": "scatterpolar"
           }
          ],
          "scatterpolargl": [
           {
            "marker": {
             "colorbar": {
              "outlinewidth": 0,
              "ticks": ""
             }
            },
            "type": "scatterpolargl"
           }
          ],
          "scatterternary": [
           {
            "marker": {
             "colorbar": {
              "outlinewidth": 0,
              "ticks": ""
             }
            },
            "type": "scatterternary"
           }
          ],
          "surface": [
           {
            "colorbar": {
             "outlinewidth": 0,
             "ticks": ""
            },
            "colorscale": [
             [
              0,
              "#0d0887"
             ],
             [
              0.1111111111111111,
              "#46039f"
             ],
             [
              0.2222222222222222,
              "#7201a8"
             ],
             [
              0.3333333333333333,
              "#9c179e"
             ],
             [
              0.4444444444444444,
              "#bd3786"
             ],
             [
              0.5555555555555556,
              "#d8576b"
             ],
             [
              0.6666666666666666,
              "#ed7953"
             ],
             [
              0.7777777777777778,
              "#fb9f3a"
             ],
             [
              0.8888888888888888,
              "#fdca26"
             ],
             [
              1,
              "#f0f921"
             ]
            ],
            "type": "surface"
           }
          ],
          "table": [
           {
            "cells": {
             "fill": {
              "color": "#EBF0F8"
             },
             "line": {
              "color": "white"
             }
            },
            "header": {
             "fill": {
              "color": "#C8D4E3"
             },
             "line": {
              "color": "white"
             }
            },
            "type": "table"
           }
          ]
         },
         "layout": {
          "annotationdefaults": {
           "arrowcolor": "#2a3f5f",
           "arrowhead": 0,
           "arrowwidth": 1
          },
          "autotypenumbers": "strict",
          "coloraxis": {
           "colorbar": {
            "outlinewidth": 0,
            "ticks": ""
           }
          },
          "colorscale": {
           "diverging": [
            [
             0,
             "#8e0152"
            ],
            [
             0.1,
             "#c51b7d"
            ],
            [
             0.2,
             "#de77ae"
            ],
            [
             0.3,
             "#f1b6da"
            ],
            [
             0.4,
             "#fde0ef"
            ],
            [
             0.5,
             "#f7f7f7"
            ],
            [
             0.6,
             "#e6f5d0"
            ],
            [
             0.7,
             "#b8e186"
            ],
            [
             0.8,
             "#7fbc41"
            ],
            [
             0.9,
             "#4d9221"
            ],
            [
             1,
             "#276419"
            ]
           ],
           "sequential": [
            [
             0,
             "#0d0887"
            ],
            [
             0.1111111111111111,
             "#46039f"
            ],
            [
             0.2222222222222222,
             "#7201a8"
            ],
            [
             0.3333333333333333,
             "#9c179e"
            ],
            [
             0.4444444444444444,
             "#bd3786"
            ],
            [
             0.5555555555555556,
             "#d8576b"
            ],
            [
             0.6666666666666666,
             "#ed7953"
            ],
            [
             0.7777777777777778,
             "#fb9f3a"
            ],
            [
             0.8888888888888888,
             "#fdca26"
            ],
            [
             1,
             "#f0f921"
            ]
           ],
           "sequentialminus": [
            [
             0,
             "#0d0887"
            ],
            [
             0.1111111111111111,
             "#46039f"
            ],
            [
             0.2222222222222222,
             "#7201a8"
            ],
            [
             0.3333333333333333,
             "#9c179e"
            ],
            [
             0.4444444444444444,
             "#bd3786"
            ],
            [
             0.5555555555555556,
             "#d8576b"
            ],
            [
             0.6666666666666666,
             "#ed7953"
            ],
            [
             0.7777777777777778,
             "#fb9f3a"
            ],
            [
             0.8888888888888888,
             "#fdca26"
            ],
            [
             1,
             "#f0f921"
            ]
           ]
          },
          "colorway": [
           "#636efa",
           "#EF553B",
           "#00cc96",
           "#ab63fa",
           "#FFA15A",
           "#19d3f3",
           "#FF6692",
           "#B6E880",
           "#FF97FF",
           "#FECB52"
          ],
          "font": {
           "color": "#2a3f5f"
          },
          "geo": {
           "bgcolor": "white",
           "lakecolor": "white",
           "landcolor": "#E5ECF6",
           "showlakes": true,
           "showland": true,
           "subunitcolor": "white"
          },
          "hoverlabel": {
           "align": "left"
          },
          "hovermode": "closest",
          "mapbox": {
           "style": "light"
          },
          "paper_bgcolor": "white",
          "plot_bgcolor": "#E5ECF6",
          "polar": {
           "angularaxis": {
            "gridcolor": "white",
            "linecolor": "white",
            "ticks": ""
           },
           "bgcolor": "#E5ECF6",
           "radialaxis": {
            "gridcolor": "white",
            "linecolor": "white",
            "ticks": ""
           }
          },
          "scene": {
           "xaxis": {
            "backgroundcolor": "#E5ECF6",
            "gridcolor": "white",
            "gridwidth": 2,
            "linecolor": "white",
            "showbackground": true,
            "ticks": "",
            "zerolinecolor": "white"
           },
           "yaxis": {
            "backgroundcolor": "#E5ECF6",
            "gridcolor": "white",
            "gridwidth": 2,
            "linecolor": "white",
            "showbackground": true,
            "ticks": "",
            "zerolinecolor": "white"
           },
           "zaxis": {
            "backgroundcolor": "#E5ECF6",
            "gridcolor": "white",
            "gridwidth": 2,
            "linecolor": "white",
            "showbackground": true,
            "ticks": "",
            "zerolinecolor": "white"
           }
          },
          "shapedefaults": {
           "line": {
            "color": "#2a3f5f"
           }
          },
          "ternary": {
           "aaxis": {
            "gridcolor": "white",
            "linecolor": "white",
            "ticks": ""
           },
           "baxis": {
            "gridcolor": "white",
            "linecolor": "white",
            "ticks": ""
           },
           "bgcolor": "#E5ECF6",
           "caxis": {
            "gridcolor": "white",
            "linecolor": "white",
            "ticks": ""
           }
          },
          "title": {
           "x": 0.05
          },
          "xaxis": {
           "automargin": true,
           "gridcolor": "white",
           "linecolor": "white",
           "ticks": "",
           "title": {
            "standoff": 15
           },
           "zerolinecolor": "white",
           "zerolinewidth": 2
          },
          "yaxis": {
           "automargin": true,
           "gridcolor": "white",
           "linecolor": "white",
           "ticks": "",
           "title": {
            "standoff": 15
           },
           "zerolinecolor": "white",
           "zerolinewidth": 2
          }
         }
        },
        "title": {
         "text": "Overlap of Full Evidence Statements in MetaKB v2"
        },
        "xaxis": {
         "anchor": "y",
         "domain": [
          0,
          1
         ],
         "title": {
          "text": "Statement"
         }
        },
        "yaxis": {
         "anchor": "x",
         "domain": [
          0,
          1
         ],
         "title": {
          "text": "# Overlapping Statements"
         }
        }
       }
      }
     },
     "metadata": {},
     "output_type": "display_data"
    }
   ],
   "source": [
    "import plotly\n",
    "import plotly.express as px\n",
    "\n",
    "fig = px.bar(data[0:86], x='Statement', y='counts', color='predicate', title='Overlap of Full Evidence Statements in MetaKB v2')\n",
    "fig.update_layout(yaxis_title='# Overlapping Statements')\n",
    "fig.show()"
   ]
  },
  {
   "cell_type": "code",
   "execution_count": null,
   "metadata": {},
   "outputs": [],
   "source": [
    "# TODO: Tuples/Triplets of different components of the full evidence statement for more overlap\n",
    "# fig = px.bar(data[0:86], x=['Variant','Therapeutic'], y='counts', color='predicate', title='Overlap of Full Evidence Statements in MetaKB v2')\n",
    "# fig.update_layout(yaxis_title='# Overlapping Statements') \n",
    "# fig.show()"
   ]
  },
  {
   "cell_type": "code",
   "execution_count": 124,
   "metadata": {},
   "outputs": [
    {
     "data": {
      "application/vnd.plotly.v1+json": {
       "config": {
        "plotlyServerURL": "https://plot.ly"
       },
       "data": [
        {
         "domain": {
          "x": [
           0,
           1
          ],
          "y": [
           0,
           1
          ]
         },
         "hovertemplate": "is_duplicate=%{label}<br>counts=%{value}<extra></extra>",
         "labels": [
          "Duplicate",
          "Duplicate",
          "Duplicate",
          "Duplicate",
          "Duplicate",
          "Duplicate",
          "Duplicate",
          "Duplicate",
          "Duplicate",
          "Duplicate",
          "Duplicate",
          "Duplicate",
          "Duplicate",
          "Duplicate",
          "Duplicate",
          "Duplicate",
          "Duplicate",
          "Duplicate",
          "Duplicate",
          "Duplicate",
          "Duplicate",
          "Duplicate",
          "Duplicate",
          "Duplicate",
          "Duplicate",
          "Duplicate",
          "Duplicate",
          "Duplicate",
          "Duplicate",
          "Duplicate",
          "Duplicate",
          "Duplicate",
          "Duplicate",
          "Duplicate",
          "Duplicate",
          "Duplicate",
          "Duplicate",
          "Duplicate",
          "Duplicate",
          "Duplicate",
          "Duplicate",
          "Duplicate",
          "Duplicate",
          "Duplicate",
          "Duplicate",
          "Duplicate",
          "Duplicate",
          "Duplicate",
          "Duplicate",
          "Duplicate",
          "Duplicate",
          "Duplicate",
          "Duplicate",
          "Duplicate",
          "Duplicate",
          "Duplicate",
          "Duplicate",
          "Duplicate",
          "Duplicate",
          "Duplicate",
          "Duplicate",
          "Duplicate",
          "Duplicate",
          "Duplicate",
          "Duplicate",
          "Duplicate",
          "Duplicate",
          "Duplicate",
          "Duplicate",
          "Duplicate",
          "Duplicate",
          "Duplicate",
          "Duplicate",
          "Duplicate",
          "Duplicate",
          "Duplicate",
          "Duplicate",
          "Duplicate",
          "Duplicate",
          "Duplicate",
          "Duplicate",
          "Duplicate",
          "Duplicate",
          "Duplicate",
          "Duplicate",
          "Duplicate",
          "Not Duplicate",
          "Not Duplicate",
          "Not Duplicate",
          "Not Duplicate",
          "Not Duplicate",
          "Not Duplicate",
          "Not Duplicate",
          "Not Duplicate",
          "Not Duplicate",
          "Not Duplicate",
          "Not Duplicate",
          "Not Duplicate",
          "Not Duplicate",
          "Not Duplicate",
          "Not Duplicate",
          "Not Duplicate",
          "Not Duplicate",
          "Not Duplicate",
          "Not Duplicate",
          "Not Duplicate",
          "Not Duplicate",
          "Not Duplicate",
          "Not Duplicate",
          "Not Duplicate",
          "Not Duplicate",
          "Not Duplicate",
          "Not Duplicate",
          "Not Duplicate",
          "Not Duplicate",
          "Not Duplicate",
          "Not Duplicate",
          "Not Duplicate",
          "Not Duplicate",
          "Not Duplicate",
          "Not Duplicate",
          "Not Duplicate",
          "Not Duplicate",
          "Not Duplicate",
          "Not Duplicate",
          "Not Duplicate",
          "Not Duplicate",
          "Not Duplicate",
          "Not Duplicate",
          "Not Duplicate",
          "Not Duplicate",
          "Not Duplicate",
          "Not Duplicate",
          "Not Duplicate",
          "Not Duplicate",
          "Not Duplicate",
          "Not Duplicate",
          "Not Duplicate",
          "Not Duplicate",
          "Not Duplicate",
          "Not Duplicate",
          "Not Duplicate",
          "Not Duplicate",
          "Not Duplicate",
          "Not Duplicate",
          "Not Duplicate",
          "Not Duplicate",
          "Not Duplicate",
          "Not Duplicate",
          "Not Duplicate",
          "Not Duplicate",
          "Not Duplicate",
          "Not Duplicate",
          "Not Duplicate",
          "Not Duplicate",
          "Not Duplicate",
          "Not Duplicate",
          "Not Duplicate",
          "Not Duplicate",
          "Not Duplicate",
          "Not Duplicate",
          "Not Duplicate",
          "Not Duplicate",
          "Not Duplicate",
          "Not Duplicate",
          "Not Duplicate",
          "Not Duplicate",
          "Not Duplicate",
          "Not Duplicate",
          "Not Duplicate",
          "Not Duplicate",
          "Not Duplicate",
          "Not Duplicate",
          "Not Duplicate",
          "Not Duplicate",
          "Not Duplicate",
          "Not Duplicate",
          "Not Duplicate",
          "Not Duplicate",
          "Not Duplicate",
          "Not Duplicate",
          "Not Duplicate",
          "Not Duplicate",
          "Not Duplicate",
          "Not Duplicate",
          "Not Duplicate",
          "Not Duplicate",
          "Not Duplicate",
          "Not Duplicate",
          "Not Duplicate",
          "Not Duplicate",
          "Not Duplicate",
          "Not Duplicate",
          "Not Duplicate",
          "Not Duplicate",
          "Not Duplicate",
          "Not Duplicate",
          "Not Duplicate",
          "Not Duplicate",
          "Not Duplicate",
          "Not Duplicate",
          "Not Duplicate",
          "Not Duplicate",
          "Not Duplicate",
          "Not Duplicate",
          "Not Duplicate",
          "Not Duplicate",
          "Not Duplicate",
          "Not Duplicate",
          "Not Duplicate",
          "Not Duplicate",
          "Not Duplicate",
          "Not Duplicate",
          "Not Duplicate",
          "Not Duplicate",
          "Not Duplicate",
          "Not Duplicate",
          "Not Duplicate",
          "Not Duplicate",
          "Not Duplicate",
          "Not Duplicate",
          "Not Duplicate",
          "Not Duplicate",
          "Not Duplicate",
          "Not Duplicate",
          "Not Duplicate",
          "Not Duplicate",
          "Not Duplicate",
          "Not Duplicate",
          "Not Duplicate",
          "Not Duplicate",
          "Not Duplicate",
          "Not Duplicate",
          "Not Duplicate",
          "Not Duplicate",
          "Not Duplicate",
          "Not Duplicate",
          "Not Duplicate",
          "Not Duplicate",
          "Not Duplicate",
          "Not Duplicate",
          "Not Duplicate",
          "Not Duplicate",
          "Not Duplicate",
          "Not Duplicate",
          "Not Duplicate",
          "Not Duplicate",
          "Not Duplicate",
          "Not Duplicate",
          "Not Duplicate",
          "Not Duplicate",
          "Not Duplicate",
          "Not Duplicate",
          "Not Duplicate",
          "Not Duplicate",
          "Not Duplicate",
          "Not Duplicate",
          "Not Duplicate",
          "Not Duplicate",
          "Not Duplicate",
          "Not Duplicate",
          "Not Duplicate",
          "Not Duplicate",
          "Not Duplicate",
          "Not Duplicate",
          "Not Duplicate",
          "Not Duplicate",
          "Not Duplicate",
          "Not Duplicate",
          "Not Duplicate",
          "Not Duplicate",
          "Not Duplicate",
          "Not Duplicate",
          "Not Duplicate",
          "Not Duplicate",
          "Not Duplicate",
          "Not Duplicate",
          "Not Duplicate",
          "Not Duplicate",
          "Not Duplicate",
          "Not Duplicate",
          "Not Duplicate",
          "Not Duplicate",
          "Not Duplicate",
          "Not Duplicate",
          "Not Duplicate",
          "Not Duplicate",
          "Not Duplicate",
          "Not Duplicate",
          "Not Duplicate",
          "Not Duplicate",
          "Not Duplicate",
          "Not Duplicate",
          "Not Duplicate",
          "Not Duplicate",
          "Not Duplicate",
          "Not Duplicate",
          "Not Duplicate",
          "Not Duplicate",
          "Not Duplicate",
          "Not Duplicate",
          "Not Duplicate",
          "Not Duplicate",
          "Not Duplicate",
          "Not Duplicate",
          "Not Duplicate",
          "Not Duplicate",
          "Not Duplicate",
          "Not Duplicate",
          "Not Duplicate",
          "Not Duplicate",
          "Not Duplicate",
          "Not Duplicate",
          "Not Duplicate",
          "Not Duplicate",
          "Not Duplicate",
          "Not Duplicate",
          "Not Duplicate",
          "Not Duplicate",
          "Not Duplicate",
          "Not Duplicate",
          "Not Duplicate",
          "Not Duplicate",
          "Not Duplicate",
          "Not Duplicate",
          "Not Duplicate",
          "Not Duplicate",
          "Not Duplicate",
          "Not Duplicate",
          "Not Duplicate",
          "Not Duplicate",
          "Not Duplicate",
          "Not Duplicate",
          "Not Duplicate",
          "Not Duplicate",
          "Not Duplicate",
          "Not Duplicate",
          "Not Duplicate",
          "Not Duplicate",
          "Not Duplicate",
          "Not Duplicate",
          "Not Duplicate",
          "Not Duplicate",
          "Not Duplicate",
          "Not Duplicate",
          "Not Duplicate",
          "Not Duplicate",
          "Not Duplicate",
          "Not Duplicate",
          "Not Duplicate",
          "Not Duplicate",
          "Not Duplicate",
          "Not Duplicate",
          "Not Duplicate",
          "Not Duplicate",
          "Not Duplicate",
          "Not Duplicate",
          "Not Duplicate",
          "Not Duplicate",
          "Not Duplicate",
          "Not Duplicate",
          "Not Duplicate",
          "Not Duplicate",
          "Not Duplicate",
          "Not Duplicate",
          "Not Duplicate",
          "Not Duplicate",
          "Not Duplicate",
          "Not Duplicate",
          "Not Duplicate",
          "Not Duplicate",
          "Not Duplicate",
          "Not Duplicate",
          "Not Duplicate",
          "Not Duplicate",
          "Not Duplicate",
          "Not Duplicate",
          "Not Duplicate",
          "Not Duplicate",
          "Not Duplicate",
          "Not Duplicate",
          "Not Duplicate",
          "Not Duplicate",
          "Not Duplicate",
          "Not Duplicate",
          "Not Duplicate",
          "Not Duplicate",
          "Not Duplicate",
          "Not Duplicate",
          "Not Duplicate",
          "Not Duplicate",
          "Not Duplicate",
          "Not Duplicate",
          "Not Duplicate",
          "Not Duplicate",
          "Not Duplicate",
          "Not Duplicate",
          "Not Duplicate",
          "Not Duplicate",
          "Not Duplicate",
          "Not Duplicate",
          "Not Duplicate",
          "Not Duplicate",
          "Not Duplicate",
          "Not Duplicate",
          "Not Duplicate",
          "Not Duplicate",
          "Not Duplicate",
          "Not Duplicate",
          "Not Duplicate",
          "Not Duplicate",
          "Not Duplicate",
          "Not Duplicate",
          "Not Duplicate",
          "Not Duplicate",
          "Not Duplicate",
          "Not Duplicate",
          "Not Duplicate",
          "Not Duplicate",
          "Not Duplicate",
          "Not Duplicate",
          "Not Duplicate",
          "Not Duplicate",
          "Not Duplicate",
          "Not Duplicate",
          "Not Duplicate",
          "Not Duplicate",
          "Not Duplicate",
          "Not Duplicate",
          "Not Duplicate",
          "Not Duplicate",
          "Not Duplicate",
          "Not Duplicate",
          "Not Duplicate",
          "Not Duplicate",
          "Not Duplicate",
          "Not Duplicate",
          "Not Duplicate",
          "Not Duplicate",
          "Not Duplicate",
          "Not Duplicate",
          "Not Duplicate",
          "Not Duplicate",
          "Not Duplicate",
          "Not Duplicate",
          "Not Duplicate",
          "Not Duplicate",
          "Not Duplicate",
          "Not Duplicate",
          "Not Duplicate",
          "Not Duplicate",
          "Not Duplicate",
          "Not Duplicate",
          "Not Duplicate",
          "Not Duplicate",
          "Not Duplicate",
          "Not Duplicate",
          "Not Duplicate",
          "Not Duplicate",
          "Not Duplicate",
          "Not Duplicate",
          "Not Duplicate",
          "Not Duplicate",
          "Not Duplicate",
          "Not Duplicate",
          "Not Duplicate",
          "Not Duplicate",
          "Not Duplicate",
          "Not Duplicate",
          "Not Duplicate",
          "Not Duplicate",
          "Not Duplicate",
          "Not Duplicate",
          "Not Duplicate",
          "Not Duplicate",
          "Not Duplicate",
          "Not Duplicate",
          "Not Duplicate",
          "Not Duplicate",
          "Not Duplicate",
          "Not Duplicate",
          "Not Duplicate",
          "Not Duplicate",
          "Not Duplicate",
          "Not Duplicate",
          "Not Duplicate",
          "Not Duplicate",
          "Not Duplicate",
          "Not Duplicate",
          "Not Duplicate",
          "Not Duplicate",
          "Not Duplicate",
          "Not Duplicate",
          "Not Duplicate",
          "Not Duplicate",
          "Not Duplicate",
          "Not Duplicate",
          "Not Duplicate",
          "Not Duplicate",
          "Not Duplicate",
          "Not Duplicate",
          "Not Duplicate",
          "Not Duplicate",
          "Not Duplicate",
          "Not Duplicate",
          "Not Duplicate",
          "Not Duplicate",
          "Not Duplicate",
          "Not Duplicate",
          "Not Duplicate",
          "Not Duplicate",
          "Not Duplicate",
          "Not Duplicate",
          "Not Duplicate",
          "Not Duplicate",
          "Not Duplicate",
          "Not Duplicate",
          "Not Duplicate",
          "Not Duplicate",
          "Not Duplicate",
          "Not Duplicate",
          "Not Duplicate",
          "Not Duplicate",
          "Not Duplicate",
          "Not Duplicate",
          "Not Duplicate",
          "Not Duplicate",
          "Not Duplicate",
          "Not Duplicate",
          "Not Duplicate",
          "Not Duplicate",
          "Not Duplicate",
          "Not Duplicate",
          "Not Duplicate",
          "Not Duplicate",
          "Not Duplicate",
          "Not Duplicate",
          "Not Duplicate",
          "Not Duplicate",
          "Not Duplicate",
          "Not Duplicate",
          "Not Duplicate",
          "Not Duplicate",
          "Not Duplicate",
          "Not Duplicate",
          "Not Duplicate",
          "Not Duplicate",
          "Not Duplicate",
          "Not Duplicate",
          "Not Duplicate",
          "Not Duplicate",
          "Not Duplicate",
          "Not Duplicate",
          "Not Duplicate",
          "Not Duplicate",
          "Not Duplicate",
          "Not Duplicate",
          "Not Duplicate",
          "Not Duplicate",
          "Not Duplicate",
          "Not Duplicate",
          "Not Duplicate",
          "Not Duplicate",
          "Not Duplicate",
          "Not Duplicate",
          "Not Duplicate",
          "Not Duplicate",
          "Not Duplicate",
          "Not Duplicate",
          "Not Duplicate",
          "Not Duplicate",
          "Not Duplicate",
          "Not Duplicate",
          "Not Duplicate",
          "Not Duplicate",
          "Not Duplicate",
          "Not Duplicate",
          "Not Duplicate",
          "Not Duplicate",
          "Not Duplicate",
          "Not Duplicate",
          "Not Duplicate",
          "Not Duplicate",
          "Not Duplicate",
          "Not Duplicate",
          "Not Duplicate",
          "Not Duplicate",
          "Not Duplicate",
          "Not Duplicate",
          "Not Duplicate",
          "Not Duplicate",
          "Not Duplicate",
          "Not Duplicate",
          "Not Duplicate",
          "Not Duplicate",
          "Not Duplicate",
          "Not Duplicate",
          "Not Duplicate",
          "Not Duplicate",
          "Not Duplicate",
          "Not Duplicate",
          "Not Duplicate",
          "Not Duplicate",
          "Not Duplicate",
          "Not Duplicate",
          "Not Duplicate",
          "Not Duplicate",
          "Not Duplicate",
          "Not Duplicate",
          "Not Duplicate",
          "Not Duplicate",
          "Not Duplicate",
          "Not Duplicate",
          "Not Duplicate",
          "Not Duplicate",
          "Not Duplicate",
          "Not Duplicate",
          "Not Duplicate",
          "Not Duplicate",
          "Not Duplicate",
          "Not Duplicate",
          "Not Duplicate",
          "Not Duplicate",
          "Not Duplicate",
          "Not Duplicate",
          "Not Duplicate",
          "Not Duplicate",
          "Not Duplicate",
          "Not Duplicate",
          "Not Duplicate",
          "Not Duplicate",
          "Not Duplicate",
          "Not Duplicate",
          "Not Duplicate",
          "Not Duplicate",
          "Not Duplicate",
          "Not Duplicate",
          "Not Duplicate",
          "Not Duplicate",
          "Not Duplicate",
          "Not Duplicate",
          "Not Duplicate",
          "Not Duplicate",
          "Not Duplicate",
          "Not Duplicate",
          "Not Duplicate",
          "Not Duplicate",
          "Not Duplicate",
          "Not Duplicate",
          "Not Duplicate",
          "Not Duplicate",
          "Not Duplicate",
          "Not Duplicate",
          "Not Duplicate",
          "Not Duplicate",
          "Not Duplicate",
          "Not Duplicate",
          "Not Duplicate",
          "Not Duplicate",
          "Not Duplicate",
          "Not Duplicate",
          "Not Duplicate",
          "Not Duplicate",
          "Not Duplicate",
          "Not Duplicate",
          "Not Duplicate",
          "Not Duplicate",
          "Not Duplicate",
          "Not Duplicate",
          "Not Duplicate",
          "Not Duplicate",
          "Not Duplicate",
          "Not Duplicate",
          "Not Duplicate",
          "Not Duplicate",
          "Not Duplicate",
          "Not Duplicate",
          "Not Duplicate",
          "Not Duplicate",
          "Not Duplicate",
          "Not Duplicate",
          "Not Duplicate",
          "Not Duplicate",
          "Not Duplicate",
          "Not Duplicate",
          "Not Duplicate",
          "Not Duplicate",
          "Not Duplicate",
          "Not Duplicate",
          "Not Duplicate",
          "Not Duplicate",
          "Not Duplicate",
          "Not Duplicate",
          "Not Duplicate",
          "Not Duplicate",
          "Not Duplicate",
          "Not Duplicate",
          "Not Duplicate",
          "Not Duplicate",
          "Not Duplicate",
          "Not Duplicate",
          "Not Duplicate",
          "Not Duplicate",
          "Not Duplicate",
          "Not Duplicate",
          "Not Duplicate",
          "Not Duplicate",
          "Not Duplicate",
          "Not Duplicate",
          "Not Duplicate",
          "Not Duplicate",
          "Not Duplicate",
          "Not Duplicate",
          "Not Duplicate",
          "Not Duplicate",
          "Not Duplicate",
          "Not Duplicate",
          "Not Duplicate",
          "Not Duplicate",
          "Not Duplicate",
          "Not Duplicate",
          "Not Duplicate",
          "Not Duplicate",
          "Not Duplicate",
          "Not Duplicate",
          "Not Duplicate",
          "Not Duplicate",
          "Not Duplicate",
          "Not Duplicate",
          "Not Duplicate",
          "Not Duplicate",
          "Not Duplicate",
          "Not Duplicate",
          "Not Duplicate",
          "Not Duplicate",
          "Not Duplicate",
          "Not Duplicate",
          "Not Duplicate",
          "Not Duplicate",
          "Not Duplicate",
          "Not Duplicate",
          "Not Duplicate",
          "Not Duplicate",
          "Not Duplicate",
          "Not Duplicate",
          "Not Duplicate",
          "Not Duplicate",
          "Not Duplicate",
          "Not Duplicate",
          "Not Duplicate",
          "Not Duplicate",
          "Not Duplicate",
          "Not Duplicate",
          "Not Duplicate",
          "Not Duplicate",
          "Not Duplicate",
          "Not Duplicate",
          "Not Duplicate",
          "Not Duplicate",
          "Not Duplicate",
          "Not Duplicate",
          "Not Duplicate",
          "Not Duplicate",
          "Not Duplicate",
          "Not Duplicate",
          "Not Duplicate",
          "Not Duplicate",
          "Not Duplicate",
          "Not Duplicate",
          "Not Duplicate",
          "Not Duplicate",
          "Not Duplicate",
          "Not Duplicate",
          "Not Duplicate",
          "Not Duplicate",
          "Not Duplicate",
          "Not Duplicate",
          "Not Duplicate",
          "Not Duplicate",
          "Not Duplicate",
          "Not Duplicate",
          "Not Duplicate",
          "Not Duplicate",
          "Not Duplicate",
          "Not Duplicate",
          "Not Duplicate",
          "Not Duplicate",
          "Not Duplicate",
          "Not Duplicate",
          "Not Duplicate",
          "Not Duplicate",
          "Not Duplicate",
          "Not Duplicate",
          "Not Duplicate",
          "Not Duplicate",
          "Not Duplicate",
          "Not Duplicate",
          "Not Duplicate",
          "Not Duplicate",
          "Not Duplicate",
          "Not Duplicate",
          "Not Duplicate",
          "Not Duplicate",
          "Not Duplicate",
          "Not Duplicate",
          "Not Duplicate",
          "Not Duplicate",
          "Not Duplicate",
          "Not Duplicate",
          "Not Duplicate",
          "Not Duplicate",
          "Not Duplicate",
          "Not Duplicate",
          "Not Duplicate",
          "Not Duplicate",
          "Not Duplicate",
          "Not Duplicate",
          "Not Duplicate",
          "Not Duplicate",
          "Not Duplicate",
          "Not Duplicate",
          "Not Duplicate",
          "Not Duplicate",
          "Not Duplicate",
          "Not Duplicate",
          "Not Duplicate",
          "Not Duplicate",
          "Not Duplicate",
          "Not Duplicate",
          "Not Duplicate",
          "Not Duplicate",
          "Not Duplicate",
          "Not Duplicate",
          "Not Duplicate",
          "Not Duplicate",
          "Not Duplicate",
          "Not Duplicate",
          "Not Duplicate",
          "Not Duplicate",
          "Not Duplicate",
          "Not Duplicate",
          "Not Duplicate",
          "Not Duplicate",
          "Not Duplicate",
          "Not Duplicate",
          "Not Duplicate",
          "Not Duplicate",
          "Not Duplicate",
          "Not Duplicate",
          "Not Duplicate",
          "Not Duplicate",
          "Not Duplicate",
          "Not Duplicate",
          "Not Duplicate",
          "Not Duplicate",
          "Not Duplicate",
          "Not Duplicate",
          "Not Duplicate",
          "Not Duplicate",
          "Not Duplicate",
          "Not Duplicate",
          "Not Duplicate",
          "Not Duplicate",
          "Not Duplicate",
          "Not Duplicate",
          "Not Duplicate",
          "Not Duplicate",
          "Not Duplicate",
          "Not Duplicate",
          "Not Duplicate",
          "Not Duplicate",
          "Not Duplicate",
          "Not Duplicate",
          "Not Duplicate",
          "Not Duplicate",
          "Not Duplicate",
          "Not Duplicate",
          "Not Duplicate",
          "Not Duplicate",
          "Not Duplicate",
          "Not Duplicate",
          "Not Duplicate",
          "Not Duplicate",
          "Not Duplicate",
          "Not Duplicate",
          "Not Duplicate",
          "Not Duplicate",
          "Not Duplicate",
          "Not Duplicate",
          "Not Duplicate",
          "Not Duplicate",
          "Not Duplicate",
          "Not Duplicate",
          "Not Duplicate",
          "Not Duplicate",
          "Not Duplicate",
          "Not Duplicate",
          "Not Duplicate",
          "Not Duplicate",
          "Not Duplicate",
          "Not Duplicate",
          "Not Duplicate",
          "Not Duplicate"
         ],
         "legendgroup": "",
         "name": "",
         "showlegend": true,
         "textinfo": "percent+label",
         "type": "pie",
         "values": [
          8,
          7,
          7,
          6,
          5,
          4,
          4,
          4,
          4,
          4,
          4,
          4,
          4,
          3,
          3,
          3,
          3,
          3,
          3,
          3,
          3,
          3,
          3,
          3,
          3,
          3,
          3,
          2,
          2,
          2,
          2,
          2,
          2,
          2,
          2,
          2,
          2,
          2,
          2,
          2,
          2,
          2,
          2,
          2,
          2,
          2,
          2,
          2,
          2,
          2,
          2,
          2,
          2,
          2,
          2,
          2,
          2,
          2,
          2,
          2,
          2,
          2,
          2,
          2,
          2,
          2,
          2,
          2,
          2,
          2,
          2,
          2,
          2,
          2,
          2,
          2,
          2,
          2,
          2,
          2,
          2,
          2,
          2,
          2,
          2,
          2,
          1,
          1,
          1,
          1,
          1,
          1,
          1,
          1,
          1,
          1,
          1,
          1,
          1,
          1,
          1,
          1,
          1,
          1,
          1,
          1,
          1,
          1,
          1,
          1,
          1,
          1,
          1,
          1,
          1,
          1,
          1,
          1,
          1,
          1,
          1,
          1,
          1,
          1,
          1,
          1,
          1,
          1,
          1,
          1,
          1,
          1,
          1,
          1,
          1,
          1,
          1,
          1,
          1,
          1,
          1,
          1,
          1,
          1,
          1,
          1,
          1,
          1,
          1,
          1,
          1,
          1,
          1,
          1,
          1,
          1,
          1,
          1,
          1,
          1,
          1,
          1,
          1,
          1,
          1,
          1,
          1,
          1,
          1,
          1,
          1,
          1,
          1,
          1,
          1,
          1,
          1,
          1,
          1,
          1,
          1,
          1,
          1,
          1,
          1,
          1,
          1,
          1,
          1,
          1,
          1,
          1,
          1,
          1,
          1,
          1,
          1,
          1,
          1,
          1,
          1,
          1,
          1,
          1,
          1,
          1,
          1,
          1,
          1,
          1,
          1,
          1,
          1,
          1,
          1,
          1,
          1,
          1,
          1,
          1,
          1,
          1,
          1,
          1,
          1,
          1,
          1,
          1,
          1,
          1,
          1,
          1,
          1,
          1,
          1,
          1,
          1,
          1,
          1,
          1,
          1,
          1,
          1,
          1,
          1,
          1,
          1,
          1,
          1,
          1,
          1,
          1,
          1,
          1,
          1,
          1,
          1,
          1,
          1,
          1,
          1,
          1,
          1,
          1,
          1,
          1,
          1,
          1,
          1,
          1,
          1,
          1,
          1,
          1,
          1,
          1,
          1,
          1,
          1,
          1,
          1,
          1,
          1,
          1,
          1,
          1,
          1,
          1,
          1,
          1,
          1,
          1,
          1,
          1,
          1,
          1,
          1,
          1,
          1,
          1,
          1,
          1,
          1,
          1,
          1,
          1,
          1,
          1,
          1,
          1,
          1,
          1,
          1,
          1,
          1,
          1,
          1,
          1,
          1,
          1,
          1,
          1,
          1,
          1,
          1,
          1,
          1,
          1,
          1,
          1,
          1,
          1,
          1,
          1,
          1,
          1,
          1,
          1,
          1,
          1,
          1,
          1,
          1,
          1,
          1,
          1,
          1,
          1,
          1,
          1,
          1,
          1,
          1,
          1,
          1,
          1,
          1,
          1,
          1,
          1,
          1,
          1,
          1,
          1,
          1,
          1,
          1,
          1,
          1,
          1,
          1,
          1,
          1,
          1,
          1,
          1,
          1,
          1,
          1,
          1,
          1,
          1,
          1,
          1,
          1,
          1,
          1,
          1,
          1,
          1,
          1,
          1,
          1,
          1,
          1,
          1,
          1,
          1,
          1,
          1,
          1,
          1,
          1,
          1,
          1,
          1,
          1,
          1,
          1,
          1,
          1,
          1,
          1,
          1,
          1,
          1,
          1,
          1,
          1,
          1,
          1,
          1,
          1,
          1,
          1,
          1,
          1,
          1,
          1,
          1,
          1,
          1,
          1,
          1,
          1,
          1,
          1,
          1,
          1,
          1,
          1,
          1,
          1,
          1,
          1,
          1,
          1,
          1,
          1,
          1,
          1,
          1,
          1,
          1,
          1,
          1,
          1,
          1,
          1,
          1,
          1,
          1,
          1,
          1,
          1,
          1,
          1,
          1,
          1,
          1,
          1,
          1,
          1,
          1,
          1,
          1,
          1,
          1,
          1,
          1,
          1,
          1,
          1,
          1,
          1,
          1,
          1,
          1,
          1,
          1,
          1,
          1,
          1,
          1,
          1,
          1,
          1,
          1,
          1,
          1,
          1,
          1,
          1,
          1,
          1,
          1,
          1,
          1,
          1,
          1,
          1,
          1,
          1,
          1,
          1,
          1,
          1,
          1,
          1,
          1,
          1,
          1,
          1,
          1,
          1,
          1,
          1,
          1,
          1,
          1,
          1,
          1,
          1,
          1,
          1,
          1,
          1,
          1,
          1,
          1,
          1,
          1,
          1,
          1,
          1,
          1,
          1,
          1,
          1,
          1,
          1,
          1,
          1,
          1,
          1,
          1,
          1,
          1,
          1,
          1,
          1,
          1,
          1,
          1,
          1,
          1,
          1,
          1,
          1,
          1,
          1,
          1,
          1,
          1,
          1,
          1,
          1,
          1,
          1,
          1,
          1,
          1,
          1,
          1,
          1,
          1,
          1,
          1,
          1,
          1,
          1,
          1,
          1,
          1,
          1,
          1,
          1,
          1,
          1,
          1,
          1,
          1,
          1,
          1,
          1,
          1,
          1,
          1,
          1,
          1,
          1,
          1,
          1,
          1,
          1,
          1,
          1,
          1,
          1,
          1,
          1,
          1,
          1,
          1,
          1,
          1,
          1,
          1,
          1,
          1,
          1,
          1,
          1,
          1,
          1,
          1,
          1,
          1,
          1,
          1,
          1,
          1,
          1,
          1,
          1,
          1,
          1,
          1,
          1,
          1,
          1,
          1,
          1,
          1,
          1,
          1,
          1,
          1,
          1,
          1,
          1,
          1,
          1,
          1,
          1,
          1,
          1,
          1,
          1,
          1,
          1,
          1,
          1,
          1,
          1,
          1,
          1,
          1,
          1,
          1,
          1,
          1,
          1,
          1,
          1,
          1,
          1,
          1,
          1,
          1,
          1,
          1,
          1,
          1,
          1,
          1,
          1,
          1,
          1,
          1,
          1,
          1,
          1,
          1,
          1,
          1,
          1,
          1,
          1,
          1,
          1,
          1,
          1,
          1,
          1,
          1,
          1,
          1,
          1,
          1,
          1,
          1,
          1,
          1,
          1,
          1,
          1,
          1,
          1,
          1,
          1,
          1,
          1,
          1,
          1,
          1,
          1,
          1,
          1,
          1,
          1,
          1,
          1,
          1,
          1,
          1,
          1,
          1,
          1,
          1,
          1,
          1,
          1,
          1,
          1,
          1,
          1,
          1,
          1,
          1,
          1,
          1,
          1,
          1,
          1,
          1,
          1,
          1,
          1,
          1,
          1,
          1,
          1,
          1,
          1,
          1,
          1,
          1,
          1,
          1,
          1,
          1,
          1,
          1,
          1,
          1,
          1,
          1,
          1,
          1,
          1,
          1,
          1,
          1,
          1,
          1,
          1,
          1,
          1,
          1,
          1,
          1,
          1,
          1,
          1,
          1,
          1,
          1,
          1,
          1,
          1,
          1,
          1,
          1,
          1,
          1,
          1,
          1,
          1,
          1,
          1,
          1,
          1,
          1,
          1,
          1,
          1,
          1,
          1,
          1,
          1,
          1,
          1,
          1,
          1,
          1,
          1,
          1,
          1,
          1,
          1,
          1,
          1,
          1,
          1,
          1,
          1,
          1,
          1,
          1,
          1,
          1,
          1,
          1,
          1,
          1,
          1,
          1,
          1,
          1,
          1,
          1,
          1,
          1,
          1,
          1,
          1,
          1,
          1,
          1,
          1,
          1,
          1,
          1,
          1,
          1,
          1,
          1,
          1,
          1,
          1,
          1,
          1,
          1,
          1,
          1,
          1,
          1,
          1,
          1,
          1,
          1,
          1,
          1,
          1,
          1,
          1,
          1,
          1,
          1,
          1,
          1,
          1
         ]
        }
       ],
       "layout": {
        "legend": {
         "tracegroupgap": 0
        },
        "template": {
         "data": {
          "bar": [
           {
            "error_x": {
             "color": "#2a3f5f"
            },
            "error_y": {
             "color": "#2a3f5f"
            },
            "marker": {
             "line": {
              "color": "#E5ECF6",
              "width": 0.5
             },
             "pattern": {
              "fillmode": "overlay",
              "size": 10,
              "solidity": 0.2
             }
            },
            "type": "bar"
           }
          ],
          "barpolar": [
           {
            "marker": {
             "line": {
              "color": "#E5ECF6",
              "width": 0.5
             },
             "pattern": {
              "fillmode": "overlay",
              "size": 10,
              "solidity": 0.2
             }
            },
            "type": "barpolar"
           }
          ],
          "carpet": [
           {
            "aaxis": {
             "endlinecolor": "#2a3f5f",
             "gridcolor": "white",
             "linecolor": "white",
             "minorgridcolor": "white",
             "startlinecolor": "#2a3f5f"
            },
            "baxis": {
             "endlinecolor": "#2a3f5f",
             "gridcolor": "white",
             "linecolor": "white",
             "minorgridcolor": "white",
             "startlinecolor": "#2a3f5f"
            },
            "type": "carpet"
           }
          ],
          "choropleth": [
           {
            "colorbar": {
             "outlinewidth": 0,
             "ticks": ""
            },
            "type": "choropleth"
           }
          ],
          "contour": [
           {
            "colorbar": {
             "outlinewidth": 0,
             "ticks": ""
            },
            "colorscale": [
             [
              0,
              "#0d0887"
             ],
             [
              0.1111111111111111,
              "#46039f"
             ],
             [
              0.2222222222222222,
              "#7201a8"
             ],
             [
              0.3333333333333333,
              "#9c179e"
             ],
             [
              0.4444444444444444,
              "#bd3786"
             ],
             [
              0.5555555555555556,
              "#d8576b"
             ],
             [
              0.6666666666666666,
              "#ed7953"
             ],
             [
              0.7777777777777778,
              "#fb9f3a"
             ],
             [
              0.8888888888888888,
              "#fdca26"
             ],
             [
              1,
              "#f0f921"
             ]
            ],
            "type": "contour"
           }
          ],
          "contourcarpet": [
           {
            "colorbar": {
             "outlinewidth": 0,
             "ticks": ""
            },
            "type": "contourcarpet"
           }
          ],
          "heatmap": [
           {
            "colorbar": {
             "outlinewidth": 0,
             "ticks": ""
            },
            "colorscale": [
             [
              0,
              "#0d0887"
             ],
             [
              0.1111111111111111,
              "#46039f"
             ],
             [
              0.2222222222222222,
              "#7201a8"
             ],
             [
              0.3333333333333333,
              "#9c179e"
             ],
             [
              0.4444444444444444,
              "#bd3786"
             ],
             [
              0.5555555555555556,
              "#d8576b"
             ],
             [
              0.6666666666666666,
              "#ed7953"
             ],
             [
              0.7777777777777778,
              "#fb9f3a"
             ],
             [
              0.8888888888888888,
              "#fdca26"
             ],
             [
              1,
              "#f0f921"
             ]
            ],
            "type": "heatmap"
           }
          ],
          "heatmapgl": [
           {
            "colorbar": {
             "outlinewidth": 0,
             "ticks": ""
            },
            "colorscale": [
             [
              0,
              "#0d0887"
             ],
             [
              0.1111111111111111,
              "#46039f"
             ],
             [
              0.2222222222222222,
              "#7201a8"
             ],
             [
              0.3333333333333333,
              "#9c179e"
             ],
             [
              0.4444444444444444,
              "#bd3786"
             ],
             [
              0.5555555555555556,
              "#d8576b"
             ],
             [
              0.6666666666666666,
              "#ed7953"
             ],
             [
              0.7777777777777778,
              "#fb9f3a"
             ],
             [
              0.8888888888888888,
              "#fdca26"
             ],
             [
              1,
              "#f0f921"
             ]
            ],
            "type": "heatmapgl"
           }
          ],
          "histogram": [
           {
            "marker": {
             "pattern": {
              "fillmode": "overlay",
              "size": 10,
              "solidity": 0.2
             }
            },
            "type": "histogram"
           }
          ],
          "histogram2d": [
           {
            "colorbar": {
             "outlinewidth": 0,
             "ticks": ""
            },
            "colorscale": [
             [
              0,
              "#0d0887"
             ],
             [
              0.1111111111111111,
              "#46039f"
             ],
             [
              0.2222222222222222,
              "#7201a8"
             ],
             [
              0.3333333333333333,
              "#9c179e"
             ],
             [
              0.4444444444444444,
              "#bd3786"
             ],
             [
              0.5555555555555556,
              "#d8576b"
             ],
             [
              0.6666666666666666,
              "#ed7953"
             ],
             [
              0.7777777777777778,
              "#fb9f3a"
             ],
             [
              0.8888888888888888,
              "#fdca26"
             ],
             [
              1,
              "#f0f921"
             ]
            ],
            "type": "histogram2d"
           }
          ],
          "histogram2dcontour": [
           {
            "colorbar": {
             "outlinewidth": 0,
             "ticks": ""
            },
            "colorscale": [
             [
              0,
              "#0d0887"
             ],
             [
              0.1111111111111111,
              "#46039f"
             ],
             [
              0.2222222222222222,
              "#7201a8"
             ],
             [
              0.3333333333333333,
              "#9c179e"
             ],
             [
              0.4444444444444444,
              "#bd3786"
             ],
             [
              0.5555555555555556,
              "#d8576b"
             ],
             [
              0.6666666666666666,
              "#ed7953"
             ],
             [
              0.7777777777777778,
              "#fb9f3a"
             ],
             [
              0.8888888888888888,
              "#fdca26"
             ],
             [
              1,
              "#f0f921"
             ]
            ],
            "type": "histogram2dcontour"
           }
          ],
          "mesh3d": [
           {
            "colorbar": {
             "outlinewidth": 0,
             "ticks": ""
            },
            "type": "mesh3d"
           }
          ],
          "parcoords": [
           {
            "line": {
             "colorbar": {
              "outlinewidth": 0,
              "ticks": ""
             }
            },
            "type": "parcoords"
           }
          ],
          "pie": [
           {
            "automargin": true,
            "type": "pie"
           }
          ],
          "scatter": [
           {
            "fillpattern": {
             "fillmode": "overlay",
             "size": 10,
             "solidity": 0.2
            },
            "type": "scatter"
           }
          ],
          "scatter3d": [
           {
            "line": {
             "colorbar": {
              "outlinewidth": 0,
              "ticks": ""
             }
            },
            "marker": {
             "colorbar": {
              "outlinewidth": 0,
              "ticks": ""
             }
            },
            "type": "scatter3d"
           }
          ],
          "scattercarpet": [
           {
            "marker": {
             "colorbar": {
              "outlinewidth": 0,
              "ticks": ""
             }
            },
            "type": "scattercarpet"
           }
          ],
          "scattergeo": [
           {
            "marker": {
             "colorbar": {
              "outlinewidth": 0,
              "ticks": ""
             }
            },
            "type": "scattergeo"
           }
          ],
          "scattergl": [
           {
            "marker": {
             "colorbar": {
              "outlinewidth": 0,
              "ticks": ""
             }
            },
            "type": "scattergl"
           }
          ],
          "scattermapbox": [
           {
            "marker": {
             "colorbar": {
              "outlinewidth": 0,
              "ticks": ""
             }
            },
            "type": "scattermapbox"
           }
          ],
          "scatterpolar": [
           {
            "marker": {
             "colorbar": {
              "outlinewidth": 0,
              "ticks": ""
             }
            },
            "type": "scatterpolar"
           }
          ],
          "scatterpolargl": [
           {
            "marker": {
             "colorbar": {
              "outlinewidth": 0,
              "ticks": ""
             }
            },
            "type": "scatterpolargl"
           }
          ],
          "scatterternary": [
           {
            "marker": {
             "colorbar": {
              "outlinewidth": 0,
              "ticks": ""
             }
            },
            "type": "scatterternary"
           }
          ],
          "surface": [
           {
            "colorbar": {
             "outlinewidth": 0,
             "ticks": ""
            },
            "colorscale": [
             [
              0,
              "#0d0887"
             ],
             [
              0.1111111111111111,
              "#46039f"
             ],
             [
              0.2222222222222222,
              "#7201a8"
             ],
             [
              0.3333333333333333,
              "#9c179e"
             ],
             [
              0.4444444444444444,
              "#bd3786"
             ],
             [
              0.5555555555555556,
              "#d8576b"
             ],
             [
              0.6666666666666666,
              "#ed7953"
             ],
             [
              0.7777777777777778,
              "#fb9f3a"
             ],
             [
              0.8888888888888888,
              "#fdca26"
             ],
             [
              1,
              "#f0f921"
             ]
            ],
            "type": "surface"
           }
          ],
          "table": [
           {
            "cells": {
             "fill": {
              "color": "#EBF0F8"
             },
             "line": {
              "color": "white"
             }
            },
            "header": {
             "fill": {
              "color": "#C8D4E3"
             },
             "line": {
              "color": "white"
             }
            },
            "type": "table"
           }
          ]
         },
         "layout": {
          "annotationdefaults": {
           "arrowcolor": "#2a3f5f",
           "arrowhead": 0,
           "arrowwidth": 1
          },
          "autotypenumbers": "strict",
          "coloraxis": {
           "colorbar": {
            "outlinewidth": 0,
            "ticks": ""
           }
          },
          "colorscale": {
           "diverging": [
            [
             0,
             "#8e0152"
            ],
            [
             0.1,
             "#c51b7d"
            ],
            [
             0.2,
             "#de77ae"
            ],
            [
             0.3,
             "#f1b6da"
            ],
            [
             0.4,
             "#fde0ef"
            ],
            [
             0.5,
             "#f7f7f7"
            ],
            [
             0.6,
             "#e6f5d0"
            ],
            [
             0.7,
             "#b8e186"
            ],
            [
             0.8,
             "#7fbc41"
            ],
            [
             0.9,
             "#4d9221"
            ],
            [
             1,
             "#276419"
            ]
           ],
           "sequential": [
            [
             0,
             "#0d0887"
            ],
            [
             0.1111111111111111,
             "#46039f"
            ],
            [
             0.2222222222222222,
             "#7201a8"
            ],
            [
             0.3333333333333333,
             "#9c179e"
            ],
            [
             0.4444444444444444,
             "#bd3786"
            ],
            [
             0.5555555555555556,
             "#d8576b"
            ],
            [
             0.6666666666666666,
             "#ed7953"
            ],
            [
             0.7777777777777778,
             "#fb9f3a"
            ],
            [
             0.8888888888888888,
             "#fdca26"
            ],
            [
             1,
             "#f0f921"
            ]
           ],
           "sequentialminus": [
            [
             0,
             "#0d0887"
            ],
            [
             0.1111111111111111,
             "#46039f"
            ],
            [
             0.2222222222222222,
             "#7201a8"
            ],
            [
             0.3333333333333333,
             "#9c179e"
            ],
            [
             0.4444444444444444,
             "#bd3786"
            ],
            [
             0.5555555555555556,
             "#d8576b"
            ],
            [
             0.6666666666666666,
             "#ed7953"
            ],
            [
             0.7777777777777778,
             "#fb9f3a"
            ],
            [
             0.8888888888888888,
             "#fdca26"
            ],
            [
             1,
             "#f0f921"
            ]
           ]
          },
          "colorway": [
           "#636efa",
           "#EF553B",
           "#00cc96",
           "#ab63fa",
           "#FFA15A",
           "#19d3f3",
           "#FF6692",
           "#B6E880",
           "#FF97FF",
           "#FECB52"
          ],
          "font": {
           "color": "#2a3f5f"
          },
          "geo": {
           "bgcolor": "white",
           "lakecolor": "white",
           "landcolor": "#E5ECF6",
           "showlakes": true,
           "showland": true,
           "subunitcolor": "white"
          },
          "hoverlabel": {
           "align": "left"
          },
          "hovermode": "closest",
          "mapbox": {
           "style": "light"
          },
          "paper_bgcolor": "white",
          "plot_bgcolor": "#E5ECF6",
          "polar": {
           "angularaxis": {
            "gridcolor": "white",
            "linecolor": "white",
            "ticks": ""
           },
           "bgcolor": "#E5ECF6",
           "radialaxis": {
            "gridcolor": "white",
            "linecolor": "white",
            "ticks": ""
           }
          },
          "scene": {
           "xaxis": {
            "backgroundcolor": "#E5ECF6",
            "gridcolor": "white",
            "gridwidth": 2,
            "linecolor": "white",
            "showbackground": true,
            "ticks": "",
            "zerolinecolor": "white"
           },
           "yaxis": {
            "backgroundcolor": "#E5ECF6",
            "gridcolor": "white",
            "gridwidth": 2,
            "linecolor": "white",
            "showbackground": true,
            "ticks": "",
            "zerolinecolor": "white"
           },
           "zaxis": {
            "backgroundcolor": "#E5ECF6",
            "gridcolor": "white",
            "gridwidth": 2,
            "linecolor": "white",
            "showbackground": true,
            "ticks": "",
            "zerolinecolor": "white"
           }
          },
          "shapedefaults": {
           "line": {
            "color": "#2a3f5f"
           }
          },
          "ternary": {
           "aaxis": {
            "gridcolor": "white",
            "linecolor": "white",
            "ticks": ""
           },
           "baxis": {
            "gridcolor": "white",
            "linecolor": "white",
            "ticks": ""
           },
           "bgcolor": "#E5ECF6",
           "caxis": {
            "gridcolor": "white",
            "linecolor": "white",
            "ticks": ""
           }
          },
          "title": {
           "x": 0.05
          },
          "xaxis": {
           "automargin": true,
           "gridcolor": "white",
           "linecolor": "white",
           "ticks": "",
           "title": {
            "standoff": 15
           },
           "zerolinecolor": "white",
           "zerolinewidth": 2
          },
          "yaxis": {
           "automargin": true,
           "gridcolor": "white",
           "linecolor": "white",
           "ticks": "",
           "title": {
            "standoff": 15
           },
           "zerolinecolor": "white",
           "zerolinewidth": 2
          }
         }
        },
        "title": {
         "text": "% of Identical Evidence Statements in MetaKB v2"
        }
       }
      }
     },
     "metadata": {},
     "output_type": "display_data"
    }
   ],
   "source": [
    "fig = px.pie(data, values='counts', names='is_duplicate', title='% of Identical Evidence Statements in MetaKB v2')\n",
    "fig.update_traces(textinfo='percent+label')\n",
    "fig.show()"
   ]
  }
 ],
 "metadata": {
  "kernelspec": {
   "display_name": "Python 3",
   "language": "python",
   "name": "python3"
  },
  "language_info": {
   "codemirror_mode": {
    "name": "ipython",
    "version": 3
   },
   "file_extension": ".py",
   "mimetype": "text/x-python",
   "name": "python",
   "nbconvert_exporter": "python",
   "pygments_lexer": "ipython3",
   "version": "3.10.14"
  }
 },
 "nbformat": 4,
 "nbformat_minor": 2
}
