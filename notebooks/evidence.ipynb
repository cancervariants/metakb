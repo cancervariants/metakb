{
 "cells": [
  {
   "cell_type": "code",
   "execution_count": 1,
   "metadata": {},
   "outputs": [],
   "source": [
    "from neo4j import GraphDatabase\n",
    "import pandas as pd\n",
    "from tqdm import tqdm\n",
    "import plotly\n",
    "import plotly.express as px\n",
    "import plotly.io as pio"
   ]
  },
  {
   "cell_type": "markdown",
   "metadata": {},
   "source": [
    "## Harmonizing Different Evidence Statement Types in MetaKB v2\n",
    "The first take at this analysis utilized just broad statements with attached therapeutics with no regard for the statement type. (To be honest, I don't think it even had a notion of a type at the time.)  \n",
    "  \n",
    "For this notebook, we will retrieve study statements and perform an analysis that looks at uniqueness by resource across different categories of evidence (as defined by va-spec). Additionally, I am going to try to pipeline this notebook to automatically run all of it with a single button."
   ]
  },
  {
   "cell_type": "markdown",
   "metadata": {},
   "source": [
    "### Table of Contents\n",
    "* [Data Retrieval](evidence.ipynb#data-retrieval)\n",
    "    * [Get Study Statements](#get-study-statements)\n",
    "    * [Additional Queries](#additional-queries)\n",
    "* [Variant Prognostic Study Statements](#variant-prognostic-study-statements)\n",
    "* [Variant Therapeutic Response Study Statements](#variant-therapeutic-response-study-statements)"
   ]
  },
  {
   "cell_type": "markdown",
   "metadata": {},
   "source": [
    "## Data Retrieval\n"
   ]
  },
  {
   "cell_type": "markdown",
   "metadata": {},
   "source": [
    "### Get Study Statements"
   ]
  },
  {
   "cell_type": "code",
   "execution_count": 24,
   "metadata": {},
   "outputs": [],
   "source": [
    "def create_db_connection(uri, user, password):\n",
    "    driver = GraphDatabase.driver(uri, auth=(user, password))\n",
    "    return driver\n",
    "\n",
    "def execute_query(query):\n",
    "    uri = \"bolt://localhost:7687\"\n",
    "    user = \"neo4j\"\n",
    "    password = \"password\"\n",
    "    driver = create_db_connection(uri, user, password)\n",
    "    with driver.session() as session:\n",
    "        result = session.run(query)\n",
    "        data = [record for record in result]\n",
    "    driver.close()\n",
    "    return data\n",
    "    \n",
    "# Queries\n",
    "q_all_statements = \"\"\"MATCH (s:StudyStatement)\n",
    "    RETURN properties(s) AS Study\n",
    "\"\"\"\n",
    "\n",
    "# Run Query\n",
    "result = execute_query(q_all_statements)\n"
   ]
  },
  {
   "cell_type": "code",
   "execution_count": 25,
   "metadata": {},
   "outputs": [
    {
     "data": {
      "text/html": [
       "<div>\n",
       "<style scoped>\n",
       "    .dataframe tbody tr th:only-of-type {\n",
       "        vertical-align: middle;\n",
       "    }\n",
       "\n",
       "    .dataframe tbody tr th {\n",
       "        vertical-align: top;\n",
       "    }\n",
       "\n",
       "    .dataframe thead th {\n",
       "        text-align: right;\n",
       "    }\n",
       "</style>\n",
       "<table border=\"1\" class=\"dataframe\">\n",
       "  <thead>\n",
       "    <tr style=\"text-align: right;\">\n",
       "      <th></th>\n",
       "      <th>id</th>\n",
       "      <th>studyType</th>\n",
       "      <th>description</th>\n",
       "      <th>alleleOriginQualifier</th>\n",
       "      <th>direction</th>\n",
       "      <th>predicate</th>\n",
       "    </tr>\n",
       "  </thead>\n",
       "  <tbody>\n",
       "    <tr>\n",
       "      <th>0</th>\n",
       "      <td>civic.eid:238</td>\n",
       "      <td>VariantTherapeuticResponseStudyStatement</td>\n",
       "      <td>The T790M mutation in EGFR has been shown to c...</td>\n",
       "      <td>somatic</td>\n",
       "      <td>supports</td>\n",
       "      <td>predictsResistanceTo</td>\n",
       "    </tr>\n",
       "    <tr>\n",
       "      <th>1</th>\n",
       "      <td>civic.eid:1409</td>\n",
       "      <td>VariantTherapeuticResponseStudyStatement</td>\n",
       "      <td>Phase 3 randomized clinical trial comparing ve...</td>\n",
       "      <td>somatic</td>\n",
       "      <td>supports</td>\n",
       "      <td>predictsSensitivityTo</td>\n",
       "    </tr>\n",
       "    <tr>\n",
       "      <th>2</th>\n",
       "      <td>civic.eid:1592</td>\n",
       "      <td>VariantTherapeuticResponseStudyStatement</td>\n",
       "      <td>Osimertinib has been approved for the treatmen...</td>\n",
       "      <td>somatic</td>\n",
       "      <td>supports</td>\n",
       "      <td>predictsSensitivityTo</td>\n",
       "    </tr>\n",
       "    <tr>\n",
       "      <th>3</th>\n",
       "      <td>civic.eid:1867</td>\n",
       "      <td>VariantTherapeuticResponseStudyStatement</td>\n",
       "      <td>Randomized, international, open-label, phase 3...</td>\n",
       "      <td>somatic</td>\n",
       "      <td>supports</td>\n",
       "      <td>predictsSensitivityTo</td>\n",
       "    </tr>\n",
       "    <tr>\n",
       "      <th>4</th>\n",
       "      <td>civic.eid:2994</td>\n",
       "      <td>VariantTherapeuticResponseStudyStatement</td>\n",
       "      <td>On May 14, 2013, the U.S. Food and Drug Admini...</td>\n",
       "      <td>somatic</td>\n",
       "      <td>supports</td>\n",
       "      <td>predictsSensitivityTo</td>\n",
       "    </tr>\n",
       "    <tr>\n",
       "      <th>...</th>\n",
       "      <td>...</td>\n",
       "      <td>...</td>\n",
       "      <td>...</td>\n",
       "      <td>...</td>\n",
       "      <td>...</td>\n",
       "      <td>...</td>\n",
       "    </tr>\n",
       "    <tr>\n",
       "      <th>1138</th>\n",
       "      <td>moa.assertion:990</td>\n",
       "      <td>VariantTherapeuticResponseStudyStatement</td>\n",
       "      <td>The U.S. Food and Drug Administration (FDA) gr...</td>\n",
       "      <td>somatic</td>\n",
       "      <td>None</td>\n",
       "      <td>predictsSensitivityTo</td>\n",
       "    </tr>\n",
       "    <tr>\n",
       "      <th>1139</th>\n",
       "      <td>moa.assertion:991</td>\n",
       "      <td>VariantTherapeuticResponseStudyStatement</td>\n",
       "      <td>The U.S. Food and Drug Administration (FDA) gr...</td>\n",
       "      <td>somatic</td>\n",
       "      <td>None</td>\n",
       "      <td>predictsSensitivityTo</td>\n",
       "    </tr>\n",
       "    <tr>\n",
       "      <th>1140</th>\n",
       "      <td>moa.assertion:993</td>\n",
       "      <td>VariantTherapeuticResponseStudyStatement</td>\n",
       "      <td>The U.S. Food and Drug Administration (FDA) gr...</td>\n",
       "      <td>somatic</td>\n",
       "      <td>None</td>\n",
       "      <td>predictsSensitivityTo</td>\n",
       "    </tr>\n",
       "    <tr>\n",
       "      <th>1141</th>\n",
       "      <td>moa.assertion:996</td>\n",
       "      <td>VariantTherapeuticResponseStudyStatement</td>\n",
       "      <td>The U.S. Food and Drug Administration (FDA) gr...</td>\n",
       "      <td>somatic</td>\n",
       "      <td>None</td>\n",
       "      <td>predictsSensitivityTo</td>\n",
       "    </tr>\n",
       "    <tr>\n",
       "      <th>1142</th>\n",
       "      <td>moa.assertion:999</td>\n",
       "      <td>VariantTherapeuticResponseStudyStatement</td>\n",
       "      <td>The U.S. Food and Drug Administration (FDA) gr...</td>\n",
       "      <td>somatic</td>\n",
       "      <td>None</td>\n",
       "      <td>predictsSensitivityTo</td>\n",
       "    </tr>\n",
       "  </tbody>\n",
       "</table>\n",
       "<p>1143 rows × 6 columns</p>\n",
       "</div>"
      ],
      "text/plain": [
       "                     id                                 studyType  \\\n",
       "0         civic.eid:238  VariantTherapeuticResponseStudyStatement   \n",
       "1        civic.eid:1409  VariantTherapeuticResponseStudyStatement   \n",
       "2        civic.eid:1592  VariantTherapeuticResponseStudyStatement   \n",
       "3        civic.eid:1867  VariantTherapeuticResponseStudyStatement   \n",
       "4        civic.eid:2994  VariantTherapeuticResponseStudyStatement   \n",
       "...                 ...                                       ...   \n",
       "1138  moa.assertion:990  VariantTherapeuticResponseStudyStatement   \n",
       "1139  moa.assertion:991  VariantTherapeuticResponseStudyStatement   \n",
       "1140  moa.assertion:993  VariantTherapeuticResponseStudyStatement   \n",
       "1141  moa.assertion:996  VariantTherapeuticResponseStudyStatement   \n",
       "1142  moa.assertion:999  VariantTherapeuticResponseStudyStatement   \n",
       "\n",
       "                                            description alleleOriginQualifier  \\\n",
       "0     The T790M mutation in EGFR has been shown to c...               somatic   \n",
       "1     Phase 3 randomized clinical trial comparing ve...               somatic   \n",
       "2     Osimertinib has been approved for the treatmen...               somatic   \n",
       "3     Randomized, international, open-label, phase 3...               somatic   \n",
       "4     On May 14, 2013, the U.S. Food and Drug Admini...               somatic   \n",
       "...                                                 ...                   ...   \n",
       "1138  The U.S. Food and Drug Administration (FDA) gr...               somatic   \n",
       "1139  The U.S. Food and Drug Administration (FDA) gr...               somatic   \n",
       "1140  The U.S. Food and Drug Administration (FDA) gr...               somatic   \n",
       "1141  The U.S. Food and Drug Administration (FDA) gr...               somatic   \n",
       "1142  The U.S. Food and Drug Administration (FDA) gr...               somatic   \n",
       "\n",
       "     direction              predicate  \n",
       "0     supports   predictsResistanceTo  \n",
       "1     supports  predictsSensitivityTo  \n",
       "2     supports  predictsSensitivityTo  \n",
       "3     supports  predictsSensitivityTo  \n",
       "4     supports  predictsSensitivityTo  \n",
       "...        ...                    ...  \n",
       "1138      None  predictsSensitivityTo  \n",
       "1139      None  predictsSensitivityTo  \n",
       "1140      None  predictsSensitivityTo  \n",
       "1141      None  predictsSensitivityTo  \n",
       "1142      None  predictsSensitivityTo  \n",
       "\n",
       "[1143 rows x 6 columns]"
      ]
     },
     "execution_count": 25,
     "metadata": {},
     "output_type": "execute_result"
    }
   ],
   "source": [
    "data = []\n",
    "for record in result:\n",
    "    study = record.get('Study', {})\n",
    "    row = {\n",
    "        'id': study.get('id', None),\n",
    "        'studyType': study.get('type',None),\n",
    "        'description': study.get('description', None),\n",
    "        'alleleOriginQualifier': study.get('alleleOriginQualifier',None),\n",
    "        'direction': study.get('direction',None),\n",
    "        'predicate': study.get('predicate', None)\n",
    "    }\n",
    "    data.append(row)\n",
    "\n",
    "df = pd.DataFrame(data)\n",
    "\n",
    "df"
   ]
  },
  {
   "cell_type": "code",
   "execution_count": 16,
   "metadata": {},
   "outputs": [
    {
     "data": {
      "text/plain": [
       "studyType\n",
       "VariantTherapeuticResponseStudyStatement    1062\n",
       "VariantPrognosticStudyStatement               81\n",
       "Name: count, dtype: int64"
      ]
     },
     "execution_count": 16,
     "metadata": {},
     "output_type": "execute_result"
    }
   ],
   "source": [
    "df['studyType'].value_counts()"
   ]
  },
  {
   "cell_type": "markdown",
   "metadata": {},
   "source": [
    "### Additional Queries\n",
    "These will be used to fill in additional data from retrieved nodes as dependent on the study type."
   ]
  },
  {
   "cell_type": "code",
   "execution_count": null,
   "metadata": {},
   "outputs": [],
   "source": [
    "def grab_subject_variant(study_id):\n",
    "    query = f\"\"\"MATCH (s:StudyStatement) WHERE s.id = '{study_id}'\n",
    "        MATCH (s)-[:HAS_VARIANT]-(c)\n",
    "        MATCH (c)-[:HAS_DEFINING_CONTEXT]-(v)\n",
    "        RETURN properties(s) AS Study,\n",
    "                properties(c) AS Variation,\n",
    "                properties(v) AS Context\n",
    "    \"\"\"\n",
    "    result = execute_query(query)\n",
    "    if len(result) > 1:\n",
    "        print(f'{study_id} has {len(result)} subjects possible')\n",
    "    subject = result[0]['Context']['id']\n",
    "    return(subject)\n",
    "\n",
    "\n",
    "def grab_object_therapeutic(study_id): \n",
    "    query = f\"\"\"MATCH (s:StudyStatement) WHERE s.id = '{study_id}'\n",
    "        MATCH (s)-[:HAS_THERAPEUTIC]-(c)\n",
    "        RETURN properties(s) AS Study,\n",
    "                properties(c) AS Therapeutic\n",
    "    \"\"\"\n",
    "    result = execute_query(query)\n",
    "    if len(result) > 1:\n",
    "        print(f'{study_id} has {len(result)} subjects possible')\n",
    "\n",
    "    # Check for empty result\n",
    "    if not(result): \n",
    "        return(None)\n",
    "\n",
    "    # Grab concept identifier (if not single therapeutic, handle other cases)\n",
    "    if 'normalizer_id' in result[0]['Therapeutic']:\n",
    "        therapeutic = result[0]['Therapeutic']['normalizer_id']\n",
    "        return(therapeutic)\n",
    "    \n",
    "    ther_type = result[0]['Therapeutic']['type']\n",
    "\n",
    "    # TODO: Consider additional ways to handle these group therapy types?\n",
    "    if ther_type == 'CombinationTherapy':\n",
    "        # DO SOMETHING\n",
    "        return((ther_type, result[0]['Therapeutic']['id']))\n",
    "        \n",
    "    if ther_type == 'TherapeuticSubstituteGroup':\n",
    "        # DO SOMETHING ELSE\n",
    "        return((ther_type, result[0]['Therapeutic']['id']))\n",
    "    \n",
    "\n",
    "def grab_qualifier_disease(study_id): \n",
    "    query = f\"\"\"MATCH (s:StudyStatement) WHERE s.id = '{study_id}'\n",
    "        MATCH (s)-[:HAS_TUMOR_TYPE]-(c)\n",
    "        RETURN properties(s) AS Study,\n",
    "                properties(c) AS Disease\n",
    "    \"\"\"\n",
    "    result = execute_query(query)\n",
    "    if len(result) > 1:\n",
    "        print(f'{study_id} has {len(result)} subjects possible')\n",
    "    \n",
    "    try: # TODO: This id should be normalizer_id not disease_normalizer_id. Will likely need to redo analysis\n",
    "        disease = result[0]['Disease']['disease_normalizer_id']\n",
    "    except: # TODO: This is gross, handle it better\n",
    "        try:\n",
    "            disease = result[0]['Disease']['label']\n",
    "        except:\n",
    "            disease = result[0]['Disease']['id']\n",
    "    return(disease)\n"
   ]
  },
  {
   "cell_type": "markdown",
   "metadata": {},
   "source": [
    "## Variant Prognostic Study Statements\n",
    "\n"
   ]
  },
  {
   "cell_type": "code",
   "execution_count": 32,
   "metadata": {},
   "outputs": [
    {
     "name": "stdout",
     "output_type": "stream",
     "text": [
      "Studies found: 81\n"
     ]
    },
    {
     "data": {
      "text/html": [
       "<div>\n",
       "<style scoped>\n",
       "    .dataframe tbody tr th:only-of-type {\n",
       "        vertical-align: middle;\n",
       "    }\n",
       "\n",
       "    .dataframe tbody tr th {\n",
       "        vertical-align: top;\n",
       "    }\n",
       "\n",
       "    .dataframe thead th {\n",
       "        text-align: right;\n",
       "    }\n",
       "</style>\n",
       "<table border=\"1\" class=\"dataframe\">\n",
       "  <thead>\n",
       "    <tr style=\"text-align: right;\">\n",
       "      <th></th>\n",
       "      <th>id</th>\n",
       "      <th>studyType</th>\n",
       "      <th>description</th>\n",
       "      <th>alleleOriginQualifier</th>\n",
       "      <th>direction</th>\n",
       "      <th>predicate</th>\n",
       "    </tr>\n",
       "  </thead>\n",
       "  <tbody>\n",
       "    <tr>\n",
       "      <th>0</th>\n",
       "      <td>civic.eid:102</td>\n",
       "      <td>VariantPrognosticStudyStatement</td>\n",
       "      <td>Unlike other studies that suggest a poorer out...</td>\n",
       "      <td>somatic</td>\n",
       "      <td>disputes</td>\n",
       "      <td>associatedWithWorseOutcomeFor</td>\n",
       "    </tr>\n",
       "    <tr>\n",
       "      <th>1</th>\n",
       "      <td>civic.eid:103</td>\n",
       "      <td>VariantPrognosticStudyStatement</td>\n",
       "      <td>V600E is associated with adverse pathological ...</td>\n",
       "      <td>somatic</td>\n",
       "      <td>supports</td>\n",
       "      <td>associatedWithWorseOutcomeFor</td>\n",
       "    </tr>\n",
       "    <tr>\n",
       "      <th>2</th>\n",
       "      <td>civic.eid:656</td>\n",
       "      <td>VariantPrognosticStudyStatement</td>\n",
       "      <td>In patients with papillary thyroid cancer harb...</td>\n",
       "      <td>somatic</td>\n",
       "      <td>supports</td>\n",
       "      <td>associatedWithWorseOutcomeFor</td>\n",
       "    </tr>\n",
       "    <tr>\n",
       "      <th>3</th>\n",
       "      <td>civic.eid:1420</td>\n",
       "      <td>VariantPrognosticStudyStatement</td>\n",
       "      <td>Study examined rare SNPs on MAP2K7 among a dis...</td>\n",
       "      <td>germline</td>\n",
       "      <td>supports</td>\n",
       "      <td>associatedWithWorseOutcomeFor</td>\n",
       "    </tr>\n",
       "    <tr>\n",
       "      <th>4</th>\n",
       "      <td>civic.eid:26</td>\n",
       "      <td>VariantPrognosticStudyStatement</td>\n",
       "      <td>In acute myloid leukemia patients, D816 mutati...</td>\n",
       "      <td>somatic</td>\n",
       "      <td>supports</td>\n",
       "      <td>associatedWithWorseOutcomeFor</td>\n",
       "    </tr>\n",
       "  </tbody>\n",
       "</table>\n",
       "</div>"
      ],
      "text/plain": [
       "               id                        studyType  \\\n",
       "0   civic.eid:102  VariantPrognosticStudyStatement   \n",
       "1   civic.eid:103  VariantPrognosticStudyStatement   \n",
       "2   civic.eid:656  VariantPrognosticStudyStatement   \n",
       "3  civic.eid:1420  VariantPrognosticStudyStatement   \n",
       "4    civic.eid:26  VariantPrognosticStudyStatement   \n",
       "\n",
       "                                         description alleleOriginQualifier  \\\n",
       "0  Unlike other studies that suggest a poorer out...               somatic   \n",
       "1  V600E is associated with adverse pathological ...               somatic   \n",
       "2  In patients with papillary thyroid cancer harb...               somatic   \n",
       "3  Study examined rare SNPs on MAP2K7 among a dis...              germline   \n",
       "4  In acute myloid leukemia patients, D816 mutati...               somatic   \n",
       "\n",
       "  direction                      predicate  \n",
       "0  disputes  associatedWithWorseOutcomeFor  \n",
       "1  supports  associatedWithWorseOutcomeFor  \n",
       "2  supports  associatedWithWorseOutcomeFor  \n",
       "3  supports  associatedWithWorseOutcomeFor  \n",
       "4  supports  associatedWithWorseOutcomeFor  "
      ]
     },
     "execution_count": 32,
     "metadata": {},
     "output_type": "execute_result"
    }
   ],
   "source": [
    "data = df[df['studyType']=='VariantPrognosticStudyStatement'].reset_index(drop=True)\n",
    "print(f'Studies found: {len(data)}')\n",
    "data[0:5]"
   ]
  },
  {
   "cell_type": "code",
   "execution_count": 33,
   "metadata": {},
   "outputs": [
    {
     "data": {
      "text/html": [
       "<div>\n",
       "<style scoped>\n",
       "    .dataframe tbody tr th:only-of-type {\n",
       "        vertical-align: middle;\n",
       "    }\n",
       "\n",
       "    .dataframe tbody tr th {\n",
       "        vertical-align: top;\n",
       "    }\n",
       "\n",
       "    .dataframe thead th {\n",
       "        text-align: right;\n",
       "    }\n",
       "</style>\n",
       "<table border=\"1\" class=\"dataframe\">\n",
       "  <thead>\n",
       "    <tr style=\"text-align: right;\">\n",
       "      <th></th>\n",
       "      <th>id</th>\n",
       "      <th>studyType</th>\n",
       "      <th>description</th>\n",
       "      <th>alleleOriginQualifier</th>\n",
       "      <th>direction</th>\n",
       "      <th>predicate</th>\n",
       "      <th>Variant</th>\n",
       "      <th>Disease</th>\n",
       "    </tr>\n",
       "  </thead>\n",
       "  <tbody>\n",
       "    <tr>\n",
       "      <th>0</th>\n",
       "      <td>civic.eid:102</td>\n",
       "      <td>VariantPrognosticStudyStatement</td>\n",
       "      <td>Unlike other studies that suggest a poorer out...</td>\n",
       "      <td>somatic</td>\n",
       "      <td>disputes</td>\n",
       "      <td>associatedWithWorseOutcomeFor</td>\n",
       "      <td>ga4gh:VA.j4XnsLZcdzDIYa5pvvXM7t1wn9OITr0L</td>\n",
       "      <td>Papillary Thyroid Carcinoma</td>\n",
       "    </tr>\n",
       "    <tr>\n",
       "      <th>1</th>\n",
       "      <td>civic.eid:103</td>\n",
       "      <td>VariantPrognosticStudyStatement</td>\n",
       "      <td>V600E is associated with adverse pathological ...</td>\n",
       "      <td>somatic</td>\n",
       "      <td>supports</td>\n",
       "      <td>associatedWithWorseOutcomeFor</td>\n",
       "      <td>ga4gh:VA.j4XnsLZcdzDIYa5pvvXM7t1wn9OITr0L</td>\n",
       "      <td>Colorectal Cancer</td>\n",
       "    </tr>\n",
       "    <tr>\n",
       "      <th>2</th>\n",
       "      <td>civic.eid:656</td>\n",
       "      <td>VariantPrognosticStudyStatement</td>\n",
       "      <td>In patients with papillary thyroid cancer harb...</td>\n",
       "      <td>somatic</td>\n",
       "      <td>supports</td>\n",
       "      <td>associatedWithWorseOutcomeFor</td>\n",
       "      <td>ga4gh:VA.j4XnsLZcdzDIYa5pvvXM7t1wn9OITr0L</td>\n",
       "      <td>Papillary Thyroid Carcinoma</td>\n",
       "    </tr>\n",
       "    <tr>\n",
       "      <th>3</th>\n",
       "      <td>civic.eid:1420</td>\n",
       "      <td>VariantPrognosticStudyStatement</td>\n",
       "      <td>Study examined rare SNPs on MAP2K7 among a dis...</td>\n",
       "      <td>germline</td>\n",
       "      <td>supports</td>\n",
       "      <td>associatedWithWorseOutcomeFor</td>\n",
       "      <td>ga4gh:VA.nE0U2q_0hSEFMnTRq7MM3ZrVByPOuTdE</td>\n",
       "      <td>Lung Cancer</td>\n",
       "    </tr>\n",
       "    <tr>\n",
       "      <th>4</th>\n",
       "      <td>civic.eid:26</td>\n",
       "      <td>VariantPrognosticStudyStatement</td>\n",
       "      <td>In acute myloid leukemia patients, D816 mutati...</td>\n",
       "      <td>somatic</td>\n",
       "      <td>supports</td>\n",
       "      <td>associatedWithWorseOutcomeFor</td>\n",
       "      <td>ga4gh:VA.nhiDwIq1klrGm3wtWO4a4BiS0jdW79Wd</td>\n",
       "      <td>Acute Myeloid Leukemia</td>\n",
       "    </tr>\n",
       "  </tbody>\n",
       "</table>\n",
       "</div>"
      ],
      "text/plain": [
       "               id                        studyType  \\\n",
       "0   civic.eid:102  VariantPrognosticStudyStatement   \n",
       "1   civic.eid:103  VariantPrognosticStudyStatement   \n",
       "2   civic.eid:656  VariantPrognosticStudyStatement   \n",
       "3  civic.eid:1420  VariantPrognosticStudyStatement   \n",
       "4    civic.eid:26  VariantPrognosticStudyStatement   \n",
       "\n",
       "                                         description alleleOriginQualifier  \\\n",
       "0  Unlike other studies that suggest a poorer out...               somatic   \n",
       "1  V600E is associated with adverse pathological ...               somatic   \n",
       "2  In patients with papillary thyroid cancer harb...               somatic   \n",
       "3  Study examined rare SNPs on MAP2K7 among a dis...              germline   \n",
       "4  In acute myloid leukemia patients, D816 mutati...               somatic   \n",
       "\n",
       "  direction                      predicate  \\\n",
       "0  disputes  associatedWithWorseOutcomeFor   \n",
       "1  supports  associatedWithWorseOutcomeFor   \n",
       "2  supports  associatedWithWorseOutcomeFor   \n",
       "3  supports  associatedWithWorseOutcomeFor   \n",
       "4  supports  associatedWithWorseOutcomeFor   \n",
       "\n",
       "                                     Variant                      Disease  \n",
       "0  ga4gh:VA.j4XnsLZcdzDIYa5pvvXM7t1wn9OITr0L  Papillary Thyroid Carcinoma  \n",
       "1  ga4gh:VA.j4XnsLZcdzDIYa5pvvXM7t1wn9OITr0L            Colorectal Cancer  \n",
       "2  ga4gh:VA.j4XnsLZcdzDIYa5pvvXM7t1wn9OITr0L  Papillary Thyroid Carcinoma  \n",
       "3  ga4gh:VA.nE0U2q_0hSEFMnTRq7MM3ZrVByPOuTdE                  Lung Cancer  \n",
       "4  ga4gh:VA.nhiDwIq1klrGm3wtWO4a4BiS0jdW79Wd       Acute Myeloid Leukemia  "
      ]
     },
     "execution_count": 33,
     "metadata": {},
     "output_type": "execute_result"
    }
   ],
   "source": [
    "data[['Variant','Disease']] = None \n",
    "data['Variant'] = data['id'].apply(grab_subject_variant)\n",
    "data['Disease'] = data['id'].apply(grab_qualifier_disease)\n",
    "data[0:5]"
   ]
  },
  {
   "cell_type": "code",
   "execution_count": 38,
   "metadata": {},
   "outputs": [
    {
     "data": {
      "text/plain": [
       "source\n",
       "civic    81\n",
       "Name: count, dtype: int64"
      ]
     },
     "execution_count": 38,
     "metadata": {},
     "output_type": "execute_result"
    }
   ],
   "source": [
    "data['source'] = data['id'].apply(lambda x: x.split('.')[0])\n",
    "data['source'].value_counts()"
   ]
  },
  {
   "cell_type": "code",
   "execution_count": 39,
   "metadata": {},
   "outputs": [
    {
     "data": {
      "text/plain": [
       "predicate\n",
       "associatedWithWorseOutcomeFor     66\n",
       "associatedWithBetterOutcomeFor    15\n",
       "Name: count, dtype: int64"
      ]
     },
     "execution_count": 39,
     "metadata": {},
     "output_type": "execute_result"
    }
   ],
   "source": [
    "data['predicate'].value_counts()"
   ]
  },
  {
   "cell_type": "code",
   "execution_count": 40,
   "metadata": {},
   "outputs": [
    {
     "data": {
      "text/plain": [
       "Variant\n",
       "ga4gh:VA.j4XnsLZcdzDIYa5pvvXM7t1wn9OITr0L    19\n",
       "ga4gh:VA.DqV_8uo_pXQ_oDiBS0RjW01imBmUDEXp     6\n",
       "ga4gh:VA.uOzCG-Blg0EEZfX9z2ZxvpGcWp7r2NrI     5\n",
       "ga4gh:VA.cdcXITbBWUXPjy3zPdhs7xjU1yvlkSrj     4\n",
       "ga4gh:VA.5GEqm-zIzvvPheyGb9rlu5DyIueIubXm     2\n",
       "ga4gh:VA.WCo3uQpMnNSbBMy5pKdSccudXs8ooZw9     2\n",
       "ga4gh:VA.OUtnlXzYAPjSCFTJdzslpJisv5mVZEWG     2\n",
       "ga4gh:VA.NbmGko5VG3K44V5sy-uVWrQaBdnqJ227     2\n",
       "ga4gh:VA.4hfGvwsO6MSx7QZOah2F7tcDOihO-sS6     2\n",
       "ga4gh:VA.l7RwuFlchr3Ol0VBFIpnUPA-STxTS1tK     2\n",
       "ga4gh:VA.g1Zv9RlyZLRqT-9pmYzVlvHW9cOA-dJC     2\n",
       "ga4gh:VA.sMA9h8fzDi0RvweMlxtD0_Oi8B-JZ1V-     2\n",
       "ga4gh:VA.nhiDwIq1klrGm3wtWO4a4BiS0jdW79Wd     2\n",
       "ga4gh:VA.6xzzXheebNYrE6lgDlRK2XN0NHrnoyOg     1\n",
       "ga4gh:VA.dN6ljLlOSzt8ktlVPONDiykp5NXsQK13     1\n",
       "ga4gh:VA.xb30dObTCWb854GJXbRM8z6rznkk_EQ4     1\n",
       "ga4gh:VA.DhYFjPzh5PYmi9VVBykABjDGQtda800a     1\n",
       "ga4gh:VA.JCIYeAy0qB-xdSekii9hbcEtCVfiqKVj     1\n",
       "ga4gh:VA.-dMnJf9oUBfl9De0llc3LqJaGdFzfATK     1\n",
       "ga4gh:VA.hEybNB_CeKflfFhT5AKOU5i1lgZPP-aS     1\n",
       "ga4gh:VA.Audz_0Y7aDtAI6drdpRSZBer1Fwl-W38     1\n",
       "ga4gh:VA.Z9LJ-rf8uxbH-d6n8uyt-Lqu-i5WdbCN     1\n",
       "ga4gh:VA.6uZvkUe1B1cxVKB02x9LnaS4xVbg8mre     1\n",
       "ga4gh:VA.MSbl4et_1iQVG2_R0TIpDDlt703Y-suA     1\n",
       "ga4gh:VA.w53_8Rj5SrFaSQCdOK6UAtVfhfei80ja     1\n",
       "ga4gh:VA.QJwi5Q4L6mZ2ew_sgEb_69Q4k4TKYj8W     1\n",
       "ga4gh:VA.qOpu96P5HDO20GB4OF-VhqAS0JmnvnfP     1\n",
       "ga4gh:VA.STHYowISc75wEt-9NSNAn64ulSCGz-Z1     1\n",
       "ga4gh:VA.udBCHwlrf8xNiRy_19bLi-h5LhnZLgCt     1\n",
       "ga4gh:VA.d978botrqRUepp6GWeXYz2I86c1HSbZY     1\n",
       "ga4gh:VA.AhXGahW4SCTEgBSXlABoqX7N4mWXL-MD     1\n",
       "ga4gh:VA.SLovSQLHHdPygO5MKFIkaO8eDcgHAz7r     1\n",
       "ga4gh:VA.nE0U2q_0hSEFMnTRq7MM3ZrVByPOuTdE     1\n",
       "ga4gh:VA.SnJZPfiwIGwkyiAx-XnLElqheOPwlMA0     1\n",
       "ga4gh:VA.aYZzb1Kojsy4pabWXL3EtDAQNRKN6gMG     1\n",
       "ga4gh:VA.mtaqWc-T7XqC5XPm_A4SYUuvHIqotpXM     1\n",
       "ga4gh:VA.YqiDFzE2K6fcXhXkCGYHIQ75RgutPq_7     1\n",
       "ga4gh:VA.S41CcMJT2bcd8R4-qXZWH1PoHWNtG2PZ     1\n",
       "ga4gh:VA.Q2ykQVE5UILajmk185GGOGvDjZXURiRG     1\n",
       "ga4gh:VA.U9TbJcIyE2AAeuuNH7_lbbedfcgHKsmv     1\n",
       "ga4gh:VA.aIjUZozqgN1gBuINUqWU82jfOw8BIuqP     1\n",
       "ga4gh:VA.FdCgpE2a3tIXl8uI7Ngiw7JO7-3sJBeK     1\n",
       "Name: count, dtype: int64"
      ]
     },
     "execution_count": 40,
     "metadata": {},
     "output_type": "execute_result"
    }
   ],
   "source": [
    "data['Variant'].value_counts()"
   ]
  },
  {
   "cell_type": "code",
   "execution_count": 41,
   "metadata": {},
   "outputs": [
    {
     "data": {
      "text/plain": [
       "Disease\n",
       "Colorectal Cancer                       14\n",
       "Breast Cancer                           13\n",
       "Papillary Thyroid Carcinoma              8\n",
       "Lung Non-small Cell Carcinoma            8\n",
       "Spindle Cell Rhabdomyosarcoma            4\n",
       "Desmoid Tumor                            4\n",
       "Melanoma                                 3\n",
       "Childhood Acute Lymphocytic Leukemia     2\n",
       "Acute Myeloid Leukemia                   2\n",
       "Pancreatic Cancer                        2\n",
       "Pancreatic Ductal Carcinoma              1\n",
       "Neuroblastoma                            1\n",
       "B-lymphoblastic Leukemia/lymphoma        1\n",
       "Intrahepatic Cholangiocarcinoma          1\n",
       "Lung Adenocarcinoma                      1\n",
       "Lung Carcinoma                           1\n",
       "Cervical Cancer                          1\n",
       "Rectum Cancer                            1\n",
       "Malignant Exocrine Pancreas Neoplasm     1\n",
       "Rhabdomyosarcoma                         1\n",
       "Multiple Myeloma                         1\n",
       "Glioblastoma                             1\n",
       "Childhood Low-grade Glioma               1\n",
       "Chronic Lymphocytic Leukemia             1\n",
       "Clear Cell Renal Cell Carcinoma          1\n",
       "Bladder Urothelial Carcinoma             1\n",
       "Systemic Mastocytosis                    1\n",
       "Acute Lymphoblastic Leukemia             1\n",
       "Medullary Thyroid Carcinoma              1\n",
       "Lung Cancer                              1\n",
       "Chronic Myeloid Leukemia                 1\n",
       "Name: count, dtype: int64"
      ]
     },
     "execution_count": 41,
     "metadata": {},
     "output_type": "execute_result"
    }
   ],
   "source": [
    "data['Disease'].value_counts()"
   ]
  },
  {
   "cell_type": "code",
   "execution_count": 42,
   "metadata": {},
   "outputs": [
    {
     "data": {
      "text/plain": [
       "Variant                                    predicate                       Disease                             \n",
       "ga4gh:VA.j4XnsLZcdzDIYa5pvvXM7t1wn9OITr0L  associatedWithWorseOutcomeFor   Papillary Thyroid Carcinoma             8\n",
       "                                                                           Colorectal Cancer                       7\n",
       "ga4gh:VA.uOzCG-Blg0EEZfX9z2ZxvpGcWp7r2NrI  associatedWithWorseOutcomeFor   Spindle Cell Rhabdomyosarcoma           4\n",
       "ga4gh:VA.g1Zv9RlyZLRqT-9pmYzVlvHW9cOA-dJC  associatedWithWorseOutcomeFor   Breast Cancer                           2\n",
       "ga4gh:VA.5GEqm-zIzvvPheyGb9rlu5DyIueIubXm  associatedWithBetterOutcomeFor  Breast Cancer                           2\n",
       "ga4gh:VA.4hfGvwsO6MSx7QZOah2F7tcDOihO-sS6  associatedWithWorseOutcomeFor   Breast Cancer                           2\n",
       "ga4gh:VA.WCo3uQpMnNSbBMy5pKdSccudXs8ooZw9  associatedWithWorseOutcomeFor   Colorectal Cancer                       2\n",
       "ga4gh:VA.NbmGko5VG3K44V5sy-uVWrQaBdnqJ227  associatedWithWorseOutcomeFor   Breast Cancer                           2\n",
       "ga4gh:VA.sMA9h8fzDi0RvweMlxtD0_Oi8B-JZ1V-  associatedWithWorseOutcomeFor   Lung Non-small Cell Carcinoma           2\n",
       "ga4gh:VA.j4XnsLZcdzDIYa5pvvXM7t1wn9OITr0L  associatedWithWorseOutcomeFor   Melanoma                                2\n",
       "ga4gh:VA.l7RwuFlchr3Ol0VBFIpnUPA-STxTS1tK  associatedWithWorseOutcomeFor   Desmoid Tumor                           2\n",
       "ga4gh:VA.hEybNB_CeKflfFhT5AKOU5i1lgZPP-aS  associatedWithWorseOutcomeFor   Medullary Thyroid Carcinoma             1\n",
       "ga4gh:VA.-dMnJf9oUBfl9De0llc3LqJaGdFzfATK  associatedWithWorseOutcomeFor   Rectum Cancer                           1\n",
       "ga4gh:VA.dN6ljLlOSzt8ktlVPONDiykp5NXsQK13  associatedWithWorseOutcomeFor   Chronic Myeloid Leukemia                1\n",
       "ga4gh:VA.d978botrqRUepp6GWeXYz2I86c1HSbZY  associatedWithBetterOutcomeFor  Breast Cancer                           1\n",
       "ga4gh:VA.j4XnsLZcdzDIYa5pvvXM7t1wn9OITr0L  associatedWithWorseOutcomeFor   Childhood Low-grade Glioma              1\n",
       "ga4gh:VA.cdcXITbBWUXPjy3zPdhs7xjU1yvlkSrj  associatedWithWorseOutcomeFor   Pancreatic Cancer                       1\n",
       "                                                                           Malignant Exocrine Pancreas Neoplasm    1\n",
       "                                                                           Pancreatic Ductal Carcinoma             1\n",
       "ga4gh:VA.j4XnsLZcdzDIYa5pvvXM7t1wn9OITr0L  associatedWithWorseOutcomeFor   Multiple Myeloma                        1\n",
       "ga4gh:VA.aYZzb1Kojsy4pabWXL3EtDAQNRKN6gMG  associatedWithWorseOutcomeFor   Lung Non-small Cell Carcinoma           1\n",
       "ga4gh:VA.mtaqWc-T7XqC5XPm_A4SYUuvHIqotpXM  associatedWithWorseOutcomeFor   Breast Cancer                           1\n",
       "ga4gh:VA.nE0U2q_0hSEFMnTRq7MM3ZrVByPOuTdE  associatedWithWorseOutcomeFor   Lung Cancer                             1\n",
       "ga4gh:VA.nhiDwIq1klrGm3wtWO4a4BiS0jdW79Wd  associatedWithWorseOutcomeFor   Acute Myeloid Leukemia                  1\n",
       "                                                                           Systemic Mastocytosis                   1\n",
       "ga4gh:VA.qOpu96P5HDO20GB4OF-VhqAS0JmnvnfP  associatedWithWorseOutcomeFor   Pancreatic Cancer                       1\n",
       "ga4gh:VA.uOzCG-Blg0EEZfX9z2ZxvpGcWp7r2NrI  associatedWithWorseOutcomeFor   Rhabdomyosarcoma                        1\n",
       "ga4gh:VA.udBCHwlrf8xNiRy_19bLi-h5LhnZLgCt  associatedWithWorseOutcomeFor   Lung Non-small Cell Carcinoma           1\n",
       "ga4gh:VA.w53_8Rj5SrFaSQCdOK6UAtVfhfei80ja  associatedWithBetterOutcomeFor  Desmoid Tumor                           1\n",
       "ga4gh:VA.cdcXITbBWUXPjy3zPdhs7xjU1yvlkSrj  associatedWithBetterOutcomeFor  Colorectal Cancer                       1\n",
       "ga4gh:VA.YqiDFzE2K6fcXhXkCGYHIQ75RgutPq_7  associatedWithWorseOutcomeFor   Acute Myeloid Leukemia                  1\n",
       "ga4gh:VA.aIjUZozqgN1gBuINUqWU82jfOw8BIuqP  associatedWithBetterOutcomeFor  Lung Non-small Cell Carcinoma           1\n",
       "ga4gh:VA.Z9LJ-rf8uxbH-d6n8uyt-Lqu-i5WdbCN  associatedWithBetterOutcomeFor  Colorectal Cancer                       1\n",
       "ga4gh:VA.6uZvkUe1B1cxVKB02x9LnaS4xVbg8mre  associatedWithBetterOutcomeFor  Colorectal Cancer                       1\n",
       "ga4gh:VA.6xzzXheebNYrE6lgDlRK2XN0NHrnoyOg  associatedWithWorseOutcomeFor   Neuroblastoma                           1\n",
       "ga4gh:VA.AhXGahW4SCTEgBSXlABoqX7N4mWXL-MD  associatedWithWorseOutcomeFor   Lung Non-small Cell Carcinoma           1\n",
       "ga4gh:VA.Audz_0Y7aDtAI6drdpRSZBer1Fwl-W38  associatedWithWorseOutcomeFor   B-lymphoblastic Leukemia/lymphoma       1\n",
       "ga4gh:VA.DhYFjPzh5PYmi9VVBykABjDGQtda800a  associatedWithWorseOutcomeFor   Childhood Acute Lymphocytic Leukemia    1\n",
       "ga4gh:VA.DqV_8uo_pXQ_oDiBS0RjW01imBmUDEXp  associatedWithBetterOutcomeFor  Bladder Urothelial Carcinoma            1\n",
       "                                                                           Chronic Lymphocytic Leukemia            1\n",
       "                                                                           Clear Cell Renal Cell Carcinoma         1\n",
       "                                                                           Colorectal Cancer                       1\n",
       "                                           associatedWithWorseOutcomeFor   Intrahepatic Cholangiocarcinoma         1\n",
       "                                                                           Melanoma                                1\n",
       "ga4gh:VA.FdCgpE2a3tIXl8uI7Ngiw7JO7-3sJBeK  associatedWithWorseOutcomeFor   Breast Cancer                           1\n",
       "ga4gh:VA.JCIYeAy0qB-xdSekii9hbcEtCVfiqKVj  associatedWithBetterOutcomeFor  Desmoid Tumor                           1\n",
       "ga4gh:VA.MSbl4et_1iQVG2_R0TIpDDlt703Y-suA  associatedWithBetterOutcomeFor  Colorectal Cancer                       1\n",
       "ga4gh:VA.OUtnlXzYAPjSCFTJdzslpJisv5mVZEWG  associatedWithWorseOutcomeFor   Cervical Cancer                         1\n",
       "                                                                           Lung Carcinoma                          1\n",
       "ga4gh:VA.Q2ykQVE5UILajmk185GGOGvDjZXURiRG  associatedWithWorseOutcomeFor   Glioblastoma                            1\n",
       "ga4gh:VA.QJwi5Q4L6mZ2ew_sgEb_69Q4k4TKYj8W  associatedWithWorseOutcomeFor   Lung Adenocarcinoma                     1\n",
       "ga4gh:VA.S41CcMJT2bcd8R4-qXZWH1PoHWNtG2PZ  associatedWithBetterOutcomeFor  Lung Non-small Cell Carcinoma           1\n",
       "ga4gh:VA.SLovSQLHHdPygO5MKFIkaO8eDcgHAz7r  associatedWithWorseOutcomeFor   Lung Non-small Cell Carcinoma           1\n",
       "ga4gh:VA.STHYowISc75wEt-9NSNAn64ulSCGz-Z1  associatedWithWorseOutcomeFor   Breast Cancer                           1\n",
       "ga4gh:VA.SnJZPfiwIGwkyiAx-XnLElqheOPwlMA0  associatedWithWorseOutcomeFor   Breast Cancer                           1\n",
       "ga4gh:VA.U9TbJcIyE2AAeuuNH7_lbbedfcgHKsmv  associatedWithWorseOutcomeFor   Acute Lymphoblastic Leukemia            1\n",
       "ga4gh:VA.xb30dObTCWb854GJXbRM8z6rznkk_EQ4  associatedWithWorseOutcomeFor   Childhood Acute Lymphocytic Leukemia    1\n",
       "Name: count, dtype: int64"
      ]
     },
     "execution_count": 42,
     "metadata": {},
     "output_type": "execute_result"
    }
   ],
   "source": [
    "data[['Variant','predicate','Disease']].value_counts()"
   ]
  },
  {
   "cell_type": "code",
   "execution_count": 43,
   "metadata": {},
   "outputs": [],
   "source": [
    "# TODO: Graph these results"
   ]
  },
  {
   "cell_type": "markdown",
   "metadata": {},
   "source": [
    "## Variant Therapeutic Response Study Statements"
   ]
  },
  {
   "cell_type": "markdown",
   "metadata": {},
   "source": [
    "## Variant Diagnostic Study Statements"
   ]
  },
  {
   "cell_type": "code",
   "execution_count": null,
   "metadata": {},
   "outputs": [],
   "source": [
    "# TODO: Pull this in with an updated CDM"
   ]
  },
  {
   "cell_type": "markdown",
   "metadata": {},
   "source": [
    "## Variant Oncogenicity Study Statements"
   ]
  },
  {
   "cell_type": "code",
   "execution_count": null,
   "metadata": {},
   "outputs": [],
   "source": [
    "# TODO: This does not exist in the Neo4j yet"
   ]
  },
  {
   "cell_type": "markdown",
   "metadata": {},
   "source": [
    "## Cohort Allele Frequency Study Statements"
   ]
  },
  {
   "cell_type": "code",
   "execution_count": null,
   "metadata": {},
   "outputs": [],
   "source": [
    "# TODO: This does not exist in the Neo4j yet"
   ]
  },
  {
   "cell_type": "markdown",
   "metadata": {},
   "source": [
    "## Experimental Variant Functional Impact Study Statements"
   ]
  },
  {
   "cell_type": "code",
   "execution_count": null,
   "metadata": {},
   "outputs": [],
   "source": [
    "# TODO: This does not exist in the Neo4j yet"
   ]
  }
 ],
 "metadata": {
  "kernelspec": {
   "display_name": "3.10.14",
   "language": "python",
   "name": "python3"
  },
  "language_info": {
   "codemirror_mode": {
    "name": "ipython",
    "version": 3
   },
   "file_extension": ".py",
   "mimetype": "text/x-python",
   "name": "python",
   "nbconvert_exporter": "python",
   "pygments_lexer": "ipython3",
   "version": "3.10.14"
  }
 },
 "nbformat": 4,
 "nbformat_minor": 2
}
