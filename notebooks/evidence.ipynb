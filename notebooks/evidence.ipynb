{
 "cells": [
  {
   "cell_type": "code",
   "execution_count": 3,
   "metadata": {},
   "outputs": [],
   "source": [
    "from neo4j import GraphDatabase\n",
    "import pandas as pd\n",
    "from tqdm import tqdm\n",
    "import plotly\n",
    "import plotly.express as px\n",
    "import plotly.io as pio\n",
    "from upsetplot import plot\n",
    "from matplotlib import pyplot as plt\n",
    "import plotly.graph_objects as go\n"
   ]
  },
  {
   "cell_type": "markdown",
   "metadata": {},
   "source": [
    "## Harmonizing Different Evidence Statement Types in MetaKB v2\n",
    "The first take at this analysis utilized just broad statements with attached therapeutics with no regard for the statement type. (To be honest, I don't think it even had a notion of a type at the time.)  \n",
    "  \n",
    "For this notebook, we will retrieve study statements and perform an analysis that looks at uniqueness by resource across different categories of evidence (as defined by va-spec). Additionally, I am going to try to pipeline this notebook to automatically run all of it with a single button.\n",
    "\n",
    "TODO: Variants for Uniqueness. Also, full sections for Concordance, Interpretability."
   ]
  },
  {
   "cell_type": "markdown",
   "metadata": {},
   "source": [
    "### Table of Contents\n",
    "* [Data Retrieval](evidence.ipynb#data-retrieval)\n",
    "    * [Get Study Statements](#get-study-statements)\n",
    "    * [Additional Queries](#additional-queries)\n",
    "    * [Additional Functions](#additional-functions)\n",
    "* [Variant Prognostic Study Statements](#variant-prognostic-study-statements)\n",
    "    * [Initialize Data](#prognostic-init)\n",
    "    * [Uniqueness](#'prognostic-unique-statement')\n",
    "* [Variant Therapeutic Response Study Statements](#variant-therapeutic-response-study-statements)\n",
    "    * [Initialize Data](#'therapeutic-response-init')\n",
    "    * [Uniqueness](#'therapeutic-response-unique')\n",
    "    * [Concordance](#concordance)\n",
    "* [Variant Diagnostic Study Statements](#variant-diagnostic-study-statements) *not implemented*\n",
    "* [Variant Oncogenicity Study Statements](#variant-oncogenicity-study-statements) *not implemented*\n",
    "* [Cohort Allele Frequency Study Statements](#cohort-allele-frequency-study-statements) *not implemented*\n",
    "* [Experimental Variant Functional Impact Study Statements](#experimental-variant-functional-impact-study-statements) *not implemented*\n",
    "* [Individual Concept Uniqueness](#individual-concept-uniqueness)\n",
    "    * [Diseases](#diseases)\n",
    "    * [Genes](#genes)\n",
    "    * [Therapies](#therapies)\n",
    "    * [Variants](#variants)\n",
    "    * [All Plot](#all-plot)\n",
    "<a id='toc'></a>"
   ]
  },
  {
   "cell_type": "markdown",
   "metadata": {},
   "source": [
    "## Data Retrieval\n"
   ]
  },
  {
   "cell_type": "markdown",
   "metadata": {},
   "source": [
    "### Get Study Statements"
   ]
  },
  {
   "cell_type": "code",
   "execution_count": 27,
   "metadata": {},
   "outputs": [],
   "source": [
    "def create_db_connection(uri, user, password):\n",
    "    driver = GraphDatabase.driver(uri, auth=(user, password))\n",
    "    return driver\n",
    "\n",
    "def execute_query(query):\n",
    "    uri = \"bolt://localhost:7687\"\n",
    "    user = \"neo4j\"\n",
    "    password = \"password\"\n",
    "    driver = create_db_connection(uri, user, password)\n",
    "    with driver.session() as session:\n",
    "        result = session.run(query)\n",
    "        data = [record for record in result]\n",
    "    driver.close()\n",
    "    return data\n",
    "    \n",
    "# Queries\n",
    "q_all_statements = \"\"\"MATCH (s:StudyStatement)\n",
    "    RETURN properties(s) AS Study\n",
    "\"\"\"\n",
    "\n",
    "# Run Query\n",
    "result = execute_query(q_all_statements)\n"
   ]
  },
  {
   "cell_type": "code",
   "execution_count": 28,
   "metadata": {},
   "outputs": [
    {
     "data": {
      "text/html": [
       "<div>\n",
       "<style scoped>\n",
       "    .dataframe tbody tr th:only-of-type {\n",
       "        vertical-align: middle;\n",
       "    }\n",
       "\n",
       "    .dataframe tbody tr th {\n",
       "        vertical-align: top;\n",
       "    }\n",
       "\n",
       "    .dataframe thead th {\n",
       "        text-align: right;\n",
       "    }\n",
       "</style>\n",
       "<table border=\"1\" class=\"dataframe\">\n",
       "  <thead>\n",
       "    <tr style=\"text-align: right;\">\n",
       "      <th></th>\n",
       "      <th>id</th>\n",
       "      <th>studyType</th>\n",
       "      <th>propositionType</th>\n",
       "      <th>description</th>\n",
       "      <th>alleleOriginQualifier</th>\n",
       "      <th>direction</th>\n",
       "      <th>predicate</th>\n",
       "    </tr>\n",
       "  </thead>\n",
       "  <tbody>\n",
       "    <tr>\n",
       "      <th>0</th>\n",
       "      <td>civic.eid:238</td>\n",
       "      <td>Statement</td>\n",
       "      <td>VariantTherapeuticResponseProposition</td>\n",
       "      <td>The T790M mutation in EGFR has been shown to c...</td>\n",
       "      <td>somatic</td>\n",
       "      <td>supports</td>\n",
       "      <td>predictsResistanceTo</td>\n",
       "    </tr>\n",
       "    <tr>\n",
       "      <th>1</th>\n",
       "      <td>civic.eid:1409</td>\n",
       "      <td>Statement</td>\n",
       "      <td>VariantTherapeuticResponseProposition</td>\n",
       "      <td>Phase 3 randomized clinical trial comparing ve...</td>\n",
       "      <td>somatic</td>\n",
       "      <td>supports</td>\n",
       "      <td>predictsSensitivityTo</td>\n",
       "    </tr>\n",
       "    <tr>\n",
       "      <th>2</th>\n",
       "      <td>civic.eid:1592</td>\n",
       "      <td>Statement</td>\n",
       "      <td>VariantTherapeuticResponseProposition</td>\n",
       "      <td>Osimertinib has been approved for the treatmen...</td>\n",
       "      <td>somatic</td>\n",
       "      <td>supports</td>\n",
       "      <td>predictsSensitivityTo</td>\n",
       "    </tr>\n",
       "    <tr>\n",
       "      <th>3</th>\n",
       "      <td>civic.eid:1867</td>\n",
       "      <td>Statement</td>\n",
       "      <td>VariantTherapeuticResponseProposition</td>\n",
       "      <td>Randomized, international, open-label, phase 3...</td>\n",
       "      <td>somatic</td>\n",
       "      <td>supports</td>\n",
       "      <td>predictsSensitivityTo</td>\n",
       "    </tr>\n",
       "    <tr>\n",
       "      <th>4</th>\n",
       "      <td>civic.eid:2994</td>\n",
       "      <td>Statement</td>\n",
       "      <td>VariantTherapeuticResponseProposition</td>\n",
       "      <td>On May 14, 2013, the U.S. Food and Drug Admini...</td>\n",
       "      <td>somatic</td>\n",
       "      <td>supports</td>\n",
       "      <td>predictsSensitivityTo</td>\n",
       "    </tr>\n",
       "    <tr>\n",
       "      <th>...</th>\n",
       "      <td>...</td>\n",
       "      <td>...</td>\n",
       "      <td>...</td>\n",
       "      <td>...</td>\n",
       "      <td>...</td>\n",
       "      <td>...</td>\n",
       "      <td>...</td>\n",
       "    </tr>\n",
       "    <tr>\n",
       "      <th>1295</th>\n",
       "      <td>moa.assertion:991</td>\n",
       "      <td>Statement</td>\n",
       "      <td>VariantTherapeuticResponseProposition</td>\n",
       "      <td>The U.S. Food and Drug Administration (FDA) gr...</td>\n",
       "      <td>somatic</td>\n",
       "      <td>supports</td>\n",
       "      <td>predictsSensitivityTo</td>\n",
       "    </tr>\n",
       "    <tr>\n",
       "      <th>1296</th>\n",
       "      <td>moa.assertion:993</td>\n",
       "      <td>Statement</td>\n",
       "      <td>VariantTherapeuticResponseProposition</td>\n",
       "      <td>The U.S. Food and Drug Administration (FDA) gr...</td>\n",
       "      <td>somatic</td>\n",
       "      <td>supports</td>\n",
       "      <td>predictsSensitivityTo</td>\n",
       "    </tr>\n",
       "    <tr>\n",
       "      <th>1297</th>\n",
       "      <td>moa.assertion:996</td>\n",
       "      <td>Statement</td>\n",
       "      <td>VariantTherapeuticResponseProposition</td>\n",
       "      <td>The U.S. Food and Drug Administration (FDA) gr...</td>\n",
       "      <td>somatic</td>\n",
       "      <td>supports</td>\n",
       "      <td>predictsSensitivityTo</td>\n",
       "    </tr>\n",
       "    <tr>\n",
       "      <th>1298</th>\n",
       "      <td>moa.assertion:999</td>\n",
       "      <td>Statement</td>\n",
       "      <td>VariantTherapeuticResponseProposition</td>\n",
       "      <td>The U.S. Food and Drug Administration (FDA) gr...</td>\n",
       "      <td>somatic</td>\n",
       "      <td>supports</td>\n",
       "      <td>predictsSensitivityTo</td>\n",
       "    </tr>\n",
       "    <tr>\n",
       "      <th>1299</th>\n",
       "      <td>moa.assertion:1007</td>\n",
       "      <td>Statement</td>\n",
       "      <td>VariantTherapeuticResponseProposition</td>\n",
       "      <td>The U.S. Food and Drug Administration (FDA) ha...</td>\n",
       "      <td>somatic</td>\n",
       "      <td>supports</td>\n",
       "      <td>predictsSensitivityTo</td>\n",
       "    </tr>\n",
       "  </tbody>\n",
       "</table>\n",
       "<p>1300 rows × 7 columns</p>\n",
       "</div>"
      ],
      "text/plain": [
       "                      id  studyType                        propositionType  \\\n",
       "0          civic.eid:238  Statement  VariantTherapeuticResponseProposition   \n",
       "1         civic.eid:1409  Statement  VariantTherapeuticResponseProposition   \n",
       "2         civic.eid:1592  Statement  VariantTherapeuticResponseProposition   \n",
       "3         civic.eid:1867  Statement  VariantTherapeuticResponseProposition   \n",
       "4         civic.eid:2994  Statement  VariantTherapeuticResponseProposition   \n",
       "...                  ...        ...                                    ...   \n",
       "1295   moa.assertion:991  Statement  VariantTherapeuticResponseProposition   \n",
       "1296   moa.assertion:993  Statement  VariantTherapeuticResponseProposition   \n",
       "1297   moa.assertion:996  Statement  VariantTherapeuticResponseProposition   \n",
       "1298   moa.assertion:999  Statement  VariantTherapeuticResponseProposition   \n",
       "1299  moa.assertion:1007  Statement  VariantTherapeuticResponseProposition   \n",
       "\n",
       "                                            description alleleOriginQualifier  \\\n",
       "0     The T790M mutation in EGFR has been shown to c...               somatic   \n",
       "1     Phase 3 randomized clinical trial comparing ve...               somatic   \n",
       "2     Osimertinib has been approved for the treatmen...               somatic   \n",
       "3     Randomized, international, open-label, phase 3...               somatic   \n",
       "4     On May 14, 2013, the U.S. Food and Drug Admini...               somatic   \n",
       "...                                                 ...                   ...   \n",
       "1295  The U.S. Food and Drug Administration (FDA) gr...               somatic   \n",
       "1296  The U.S. Food and Drug Administration (FDA) gr...               somatic   \n",
       "1297  The U.S. Food and Drug Administration (FDA) gr...               somatic   \n",
       "1298  The U.S. Food and Drug Administration (FDA) gr...               somatic   \n",
       "1299  The U.S. Food and Drug Administration (FDA) ha...               somatic   \n",
       "\n",
       "     direction              predicate  \n",
       "0     supports   predictsResistanceTo  \n",
       "1     supports  predictsSensitivityTo  \n",
       "2     supports  predictsSensitivityTo  \n",
       "3     supports  predictsSensitivityTo  \n",
       "4     supports  predictsSensitivityTo  \n",
       "...        ...                    ...  \n",
       "1295  supports  predictsSensitivityTo  \n",
       "1296  supports  predictsSensitivityTo  \n",
       "1297  supports  predictsSensitivityTo  \n",
       "1298  supports  predictsSensitivityTo  \n",
       "1299  supports  predictsSensitivityTo  \n",
       "\n",
       "[1300 rows x 7 columns]"
      ]
     },
     "execution_count": 28,
     "metadata": {},
     "output_type": "execute_result"
    }
   ],
   "source": [
    "data = []\n",
    "for record in result:\n",
    "    study = record.get('Study', {})\n",
    "    row = {\n",
    "        'id': study.get('id', None),\n",
    "        'studyType': study.get('type',None),\n",
    "        'propositionType': study.get('propositionType',None),\n",
    "        'description': study.get('description', None),\n",
    "        'alleleOriginQualifier': study.get('alleleOriginQualifier',None),\n",
    "        'direction': study.get('direction',None),\n",
    "        'predicate': study.get('predicate', None)\n",
    "    }\n",
    "    data.append(row)\n",
    "\n",
    "df = pd.DataFrame(data)\n",
    "\n",
    "df"
   ]
  },
  {
   "cell_type": "code",
   "execution_count": 185,
   "metadata": {},
   "outputs": [
    {
     "data": {
      "text/plain": [
       "propositionType\n",
       "VariantTherapeuticResponseProposition    1099\n",
       "VariantPrognosticProposition              156\n",
       "VariantDiagnosticProposition               45\n",
       "Name: count, dtype: int64"
      ]
     },
     "execution_count": 185,
     "metadata": {},
     "output_type": "execute_result"
    }
   ],
   "source": [
    "df['propositionType'].value_counts()"
   ]
  },
  {
   "cell_type": "markdown",
   "metadata": {},
   "source": [
    "### Additional Queries\n",
    "These will be used to fill in additional data from retrieved nodes as dependent on the study type."
   ]
  },
  {
   "cell_type": "code",
   "execution_count": null,
   "metadata": {},
   "outputs": [],
   "source": [
    "def grab_subject_variant(study_id):\n",
    "    query = f\"\"\"MATCH (s:StudyStatement) WHERE s.id = '{study_id}'\n",
    "        MATCH (s)-[:HAS_VARIANT]-(c)\n",
    "        MATCH (c)-[:HAS_DEFINING_CONTEXT]-(v)\n",
    "        RETURN properties(s) AS Study,\n",
    "                properties(c) AS Variation,\n",
    "                properties(v) AS Context\n",
    "    \"\"\"\n",
    "    result = execute_query(query)\n",
    "    if len(result) > 1:\n",
    "        print(f'{study_id} has {len(result)} subjects possible')\n",
    "    subject = result[0]['Context']['id']\n",
    "    return(subject)\n",
    "\n",
    "def grab_object_therapeutic(study_id): \n",
    "    query = f\"\"\"MATCH (s:StudyStatement) WHERE s.id = '{study_id}'\n",
    "        MATCH (s)-[:HAS_THERAPEUTIC]-(c)\n",
    "        RETURN properties(s) AS Study,\n",
    "                properties(c) AS Therapeutic\n",
    "    \"\"\"\n",
    "    result = execute_query(query)\n",
    "    if len(result) > 1:\n",
    "        print(f'{study_id} has {len(result)} subjects possible')\n",
    "\n",
    "    # Check for empty result\n",
    "    if not(result): \n",
    "        return(None)\n",
    "\n",
    "    # Grab concept identifier (if not single therapeutic, handle other cases)\n",
    "    if 'normalizer_id' in result[0]['Therapeutic']:\n",
    "        therapeutic = result[0]['Therapeutic']['normalizer_id']\n",
    "        return(therapeutic)\n",
    "    \n",
    "    if 'groupType' in result[0]['Therapeutic'].keys():\n",
    "        ther_type = result[0]['Therapeutic']['groupType']\n",
    "        return((ther_type, result[0]['Therapeutic']['id']))    \n",
    "\n",
    "def grab_qualifier_disease(study_id): \n",
    "    query = f\"\"\"MATCH (s:StudyStatement) WHERE s.id = '{study_id}'\n",
    "        MATCH (s)-[:HAS_TUMOR_TYPE]-(c)\n",
    "        RETURN properties(s) AS Study,\n",
    "                properties(c) AS Disease\n",
    "    \"\"\"\n",
    "    result = execute_query(query)\n",
    "    if len(result) > 1:\n",
    "        print(f'{study_id} has {len(result)} subjects possible')\n",
    "    \n",
    "    try: # TODO: This id should be normalizer_id not disease_normalizer_id. Will likely need to redo analysis\n",
    "        disease = result[0]['Disease']['disease_normalizer_id']\n",
    "    except: # TODO: This is gross, handle it better\n",
    "        try:\n",
    "            disease = result[0]['Disease']['label']\n",
    "        except:\n",
    "            disease = result[0]['Disease']['id']\n",
    "    return(disease)\n"
   ]
  },
  {
   "cell_type": "markdown",
   "metadata": {},
   "source": [
    "### Additional Functions"
   ]
  },
  {
   "cell_type": "code",
   "execution_count": 86,
   "metadata": {},
   "outputs": [],
   "source": [
    "def calculate_uniqueness(test_df,reference_df,column_prefix):\n",
    "    sources = list(reference_df['source'].unique())\n",
    "    for idx, row in tqdm(test_df.iterrows()):\n",
    "        current_value = test_df.at[idx,f'{column_prefix}s']\n",
    "        for source in sources:\n",
    "            tdf = reference_df[reference_df['source']==source]\n",
    "            if current_value in list(tdf[f'{column_prefix}'].unique()):\n",
    "                test_df.at[idx,source] = True\n",
    "            elif current_value not in list(tdf[f'{column_prefix}'].unique()):\n",
    "                test_df.at[idx,source] = False\n",
    "            else:\n",
    "                test_df.at[idx,source] = 'Something went wrong'       \n",
    "            pass\n",
    "        pass\n",
    "    return(test_df)\n",
    "\n",
    "def format_for_upset(test_df,column_prefix):\n",
    "    test_df.set_index(f'{column_prefix}s', inplace=True)\n",
    "    for col in test_df:\n",
    "        test_df[col] = test_df[col].astype(bool)\n",
    "    upset_data = test_df.groupby(list(test_df.columns)).size()\n",
    "    return(upset_data)\n",
    "\n",
    "def count_predicate_occurrences(df):\n",
    "    value_counts = df['predicate'].value_counts()\n",
    "    predicate_counts = value_counts.to_dict()\n",
    "    predicate_counts['total'] = value_counts.sum()\n",
    "    return predicate_counts\n",
    "\n",
    "def calculate_agreement_metric(predicate_counts):\n",
    "    total_count = predicate_counts['total']    \n",
    "    max_count = max([count for predicate, count in predicate_counts.items() if predicate != 'total'])\n",
    "    agreement_metric = (max_count / total_count)\n",
    "    return agreement_metric"
   ]
  },
  {
   "cell_type": "markdown",
   "metadata": {},
   "source": [
    "[Back to Top](#table-of-contents)"
   ]
  },
  {
   "cell_type": "markdown",
   "metadata": {},
   "source": [
    "## Variant Prognostic Study Statements\n",
    "\n"
   ]
  },
  {
   "cell_type": "markdown",
   "metadata": {},
   "source": [
    "### Initialize Data\n",
    "<a id='prognostic-init'></a>"
   ]
  },
  {
   "cell_type": "code",
   "execution_count": 187,
   "metadata": {},
   "outputs": [
    {
     "name": "stdout",
     "output_type": "stream",
     "text": [
      "Studies found: 156\n"
     ]
    },
    {
     "data": {
      "text/html": [
       "<div>\n",
       "<style scoped>\n",
       "    .dataframe tbody tr th:only-of-type {\n",
       "        vertical-align: middle;\n",
       "    }\n",
       "\n",
       "    .dataframe tbody tr th {\n",
       "        vertical-align: top;\n",
       "    }\n",
       "\n",
       "    .dataframe thead th {\n",
       "        text-align: right;\n",
       "    }\n",
       "</style>\n",
       "<table border=\"1\" class=\"dataframe\">\n",
       "  <thead>\n",
       "    <tr style=\"text-align: right;\">\n",
       "      <th></th>\n",
       "      <th>id</th>\n",
       "      <th>studyType</th>\n",
       "      <th>propositionType</th>\n",
       "      <th>description</th>\n",
       "      <th>alleleOriginQualifier</th>\n",
       "      <th>direction</th>\n",
       "      <th>predicate</th>\n",
       "    </tr>\n",
       "  </thead>\n",
       "  <tbody>\n",
       "    <tr>\n",
       "      <th>0</th>\n",
       "      <td>civic.eid:102</td>\n",
       "      <td>Statement</td>\n",
       "      <td>VariantPrognosticProposition</td>\n",
       "      <td>Unlike other studies that suggest a poorer out...</td>\n",
       "      <td>somatic</td>\n",
       "      <td>disputes</td>\n",
       "      <td>associatedWithWorseOutcomeFor</td>\n",
       "    </tr>\n",
       "    <tr>\n",
       "      <th>1</th>\n",
       "      <td>civic.eid:103</td>\n",
       "      <td>Statement</td>\n",
       "      <td>VariantPrognosticProposition</td>\n",
       "      <td>V600E is associated with adverse pathological ...</td>\n",
       "      <td>somatic</td>\n",
       "      <td>supports</td>\n",
       "      <td>associatedWithWorseOutcomeFor</td>\n",
       "    </tr>\n",
       "    <tr>\n",
       "      <th>2</th>\n",
       "      <td>civic.eid:656</td>\n",
       "      <td>Statement</td>\n",
       "      <td>VariantPrognosticProposition</td>\n",
       "      <td>In patients with papillary thyroid cancer harb...</td>\n",
       "      <td>somatic</td>\n",
       "      <td>supports</td>\n",
       "      <td>associatedWithWorseOutcomeFor</td>\n",
       "    </tr>\n",
       "    <tr>\n",
       "      <th>3</th>\n",
       "      <td>civic.eid:1420</td>\n",
       "      <td>Statement</td>\n",
       "      <td>VariantPrognosticProposition</td>\n",
       "      <td>Study examined rare SNPs on MAP2K7 among a dis...</td>\n",
       "      <td>germline</td>\n",
       "      <td>supports</td>\n",
       "      <td>associatedWithWorseOutcomeFor</td>\n",
       "    </tr>\n",
       "    <tr>\n",
       "      <th>4</th>\n",
       "      <td>civic.eid:26</td>\n",
       "      <td>Statement</td>\n",
       "      <td>VariantPrognosticProposition</td>\n",
       "      <td>In acute myloid leukemia patients, D816 mutati...</td>\n",
       "      <td>somatic</td>\n",
       "      <td>supports</td>\n",
       "      <td>associatedWithWorseOutcomeFor</td>\n",
       "    </tr>\n",
       "  </tbody>\n",
       "</table>\n",
       "</div>"
      ],
      "text/plain": [
       "               id  studyType               propositionType  \\\n",
       "0   civic.eid:102  Statement  VariantPrognosticProposition   \n",
       "1   civic.eid:103  Statement  VariantPrognosticProposition   \n",
       "2   civic.eid:656  Statement  VariantPrognosticProposition   \n",
       "3  civic.eid:1420  Statement  VariantPrognosticProposition   \n",
       "4    civic.eid:26  Statement  VariantPrognosticProposition   \n",
       "\n",
       "                                         description alleleOriginQualifier  \\\n",
       "0  Unlike other studies that suggest a poorer out...               somatic   \n",
       "1  V600E is associated with adverse pathological ...               somatic   \n",
       "2  In patients with papillary thyroid cancer harb...               somatic   \n",
       "3  Study examined rare SNPs on MAP2K7 among a dis...              germline   \n",
       "4  In acute myloid leukemia patients, D816 mutati...               somatic   \n",
       "\n",
       "  direction                      predicate  \n",
       "0  disputes  associatedWithWorseOutcomeFor  \n",
       "1  supports  associatedWithWorseOutcomeFor  \n",
       "2  supports  associatedWithWorseOutcomeFor  \n",
       "3  supports  associatedWithWorseOutcomeFor  \n",
       "4  supports  associatedWithWorseOutcomeFor  "
      ]
     },
     "execution_count": 187,
     "metadata": {},
     "output_type": "execute_result"
    }
   ],
   "source": [
    "data = df[df['propositionType']=='VariantPrognosticProposition'].reset_index(drop=True)\n",
    "print(f'Studies found: {len(data)}')\n",
    "data[0:5]"
   ]
  },
  {
   "cell_type": "code",
   "execution_count": 188,
   "metadata": {},
   "outputs": [
    {
     "data": {
      "text/html": [
       "<div>\n",
       "<style scoped>\n",
       "    .dataframe tbody tr th:only-of-type {\n",
       "        vertical-align: middle;\n",
       "    }\n",
       "\n",
       "    .dataframe tbody tr th {\n",
       "        vertical-align: top;\n",
       "    }\n",
       "\n",
       "    .dataframe thead th {\n",
       "        text-align: right;\n",
       "    }\n",
       "</style>\n",
       "<table border=\"1\" class=\"dataframe\">\n",
       "  <thead>\n",
       "    <tr style=\"text-align: right;\">\n",
       "      <th></th>\n",
       "      <th>id</th>\n",
       "      <th>studyType</th>\n",
       "      <th>propositionType</th>\n",
       "      <th>description</th>\n",
       "      <th>alleleOriginQualifier</th>\n",
       "      <th>direction</th>\n",
       "      <th>predicate</th>\n",
       "      <th>Variant</th>\n",
       "      <th>Disease</th>\n",
       "    </tr>\n",
       "  </thead>\n",
       "  <tbody>\n",
       "    <tr>\n",
       "      <th>0</th>\n",
       "      <td>civic.eid:102</td>\n",
       "      <td>Statement</td>\n",
       "      <td>VariantPrognosticProposition</td>\n",
       "      <td>Unlike other studies that suggest a poorer out...</td>\n",
       "      <td>somatic</td>\n",
       "      <td>disputes</td>\n",
       "      <td>associatedWithWorseOutcomeFor</td>\n",
       "      <td>ga4gh:VA.j4XnsLZcdzDIYa5pvvXM7t1wn9OITr0L</td>\n",
       "      <td>Papillary Thyroid Carcinoma</td>\n",
       "    </tr>\n",
       "    <tr>\n",
       "      <th>1</th>\n",
       "      <td>civic.eid:103</td>\n",
       "      <td>Statement</td>\n",
       "      <td>VariantPrognosticProposition</td>\n",
       "      <td>V600E is associated with adverse pathological ...</td>\n",
       "      <td>somatic</td>\n",
       "      <td>supports</td>\n",
       "      <td>associatedWithWorseOutcomeFor</td>\n",
       "      <td>ga4gh:VA.j4XnsLZcdzDIYa5pvvXM7t1wn9OITr0L</td>\n",
       "      <td>Colorectal Cancer</td>\n",
       "    </tr>\n",
       "    <tr>\n",
       "      <th>2</th>\n",
       "      <td>civic.eid:656</td>\n",
       "      <td>Statement</td>\n",
       "      <td>VariantPrognosticProposition</td>\n",
       "      <td>In patients with papillary thyroid cancer harb...</td>\n",
       "      <td>somatic</td>\n",
       "      <td>supports</td>\n",
       "      <td>associatedWithWorseOutcomeFor</td>\n",
       "      <td>ga4gh:VA.j4XnsLZcdzDIYa5pvvXM7t1wn9OITr0L</td>\n",
       "      <td>Papillary Thyroid Carcinoma</td>\n",
       "    </tr>\n",
       "    <tr>\n",
       "      <th>3</th>\n",
       "      <td>civic.eid:1420</td>\n",
       "      <td>Statement</td>\n",
       "      <td>VariantPrognosticProposition</td>\n",
       "      <td>Study examined rare SNPs on MAP2K7 among a dis...</td>\n",
       "      <td>germline</td>\n",
       "      <td>supports</td>\n",
       "      <td>associatedWithWorseOutcomeFor</td>\n",
       "      <td>ga4gh:VA.nE0U2q_0hSEFMnTRq7MM3ZrVByPOuTdE</td>\n",
       "      <td>Lung Cancer</td>\n",
       "    </tr>\n",
       "    <tr>\n",
       "      <th>4</th>\n",
       "      <td>civic.eid:26</td>\n",
       "      <td>Statement</td>\n",
       "      <td>VariantPrognosticProposition</td>\n",
       "      <td>In acute myloid leukemia patients, D816 mutati...</td>\n",
       "      <td>somatic</td>\n",
       "      <td>supports</td>\n",
       "      <td>associatedWithWorseOutcomeFor</td>\n",
       "      <td>ga4gh:VA.nhiDwIq1klrGm3wtWO4a4BiS0jdW79Wd</td>\n",
       "      <td>Acute Myeloid Leukemia</td>\n",
       "    </tr>\n",
       "  </tbody>\n",
       "</table>\n",
       "</div>"
      ],
      "text/plain": [
       "               id  studyType               propositionType  \\\n",
       "0   civic.eid:102  Statement  VariantPrognosticProposition   \n",
       "1   civic.eid:103  Statement  VariantPrognosticProposition   \n",
       "2   civic.eid:656  Statement  VariantPrognosticProposition   \n",
       "3  civic.eid:1420  Statement  VariantPrognosticProposition   \n",
       "4    civic.eid:26  Statement  VariantPrognosticProposition   \n",
       "\n",
       "                                         description alleleOriginQualifier  \\\n",
       "0  Unlike other studies that suggest a poorer out...               somatic   \n",
       "1  V600E is associated with adverse pathological ...               somatic   \n",
       "2  In patients with papillary thyroid cancer harb...               somatic   \n",
       "3  Study examined rare SNPs on MAP2K7 among a dis...              germline   \n",
       "4  In acute myloid leukemia patients, D816 mutati...               somatic   \n",
       "\n",
       "  direction                      predicate  \\\n",
       "0  disputes  associatedWithWorseOutcomeFor   \n",
       "1  supports  associatedWithWorseOutcomeFor   \n",
       "2  supports  associatedWithWorseOutcomeFor   \n",
       "3  supports  associatedWithWorseOutcomeFor   \n",
       "4  supports  associatedWithWorseOutcomeFor   \n",
       "\n",
       "                                     Variant                      Disease  \n",
       "0  ga4gh:VA.j4XnsLZcdzDIYa5pvvXM7t1wn9OITr0L  Papillary Thyroid Carcinoma  \n",
       "1  ga4gh:VA.j4XnsLZcdzDIYa5pvvXM7t1wn9OITr0L            Colorectal Cancer  \n",
       "2  ga4gh:VA.j4XnsLZcdzDIYa5pvvXM7t1wn9OITr0L  Papillary Thyroid Carcinoma  \n",
       "3  ga4gh:VA.nE0U2q_0hSEFMnTRq7MM3ZrVByPOuTdE                  Lung Cancer  \n",
       "4  ga4gh:VA.nhiDwIq1klrGm3wtWO4a4BiS0jdW79Wd       Acute Myeloid Leukemia  "
      ]
     },
     "execution_count": 188,
     "metadata": {},
     "output_type": "execute_result"
    }
   ],
   "source": [
    "data[['Variant','Disease']] = None \n",
    "data['Variant'] = data['id'].apply(grab_subject_variant)\n",
    "data['Disease'] = data['id'].apply(grab_qualifier_disease)\n",
    "data[0:5]"
   ]
  },
  {
   "cell_type": "code",
   "execution_count": 189,
   "metadata": {},
   "outputs": [
    {
     "data": {
      "text/html": [
       "<div>\n",
       "<style scoped>\n",
       "    .dataframe tbody tr th:only-of-type {\n",
       "        vertical-align: middle;\n",
       "    }\n",
       "\n",
       "    .dataframe tbody tr th {\n",
       "        vertical-align: top;\n",
       "    }\n",
       "\n",
       "    .dataframe thead th {\n",
       "        text-align: right;\n",
       "    }\n",
       "</style>\n",
       "<table border=\"1\" class=\"dataframe\">\n",
       "  <thead>\n",
       "    <tr style=\"text-align: right;\">\n",
       "      <th></th>\n",
       "      <th>id</th>\n",
       "      <th>studyType</th>\n",
       "      <th>propositionType</th>\n",
       "      <th>description</th>\n",
       "      <th>alleleOriginQualifier</th>\n",
       "      <th>direction</th>\n",
       "      <th>predicate</th>\n",
       "      <th>Variant</th>\n",
       "      <th>Disease</th>\n",
       "      <th>source</th>\n",
       "      <th>statement</th>\n",
       "    </tr>\n",
       "  </thead>\n",
       "  <tbody>\n",
       "    <tr>\n",
       "      <th>0</th>\n",
       "      <td>civic.eid:102</td>\n",
       "      <td>Statement</td>\n",
       "      <td>VariantPrognosticProposition</td>\n",
       "      <td>Unlike other studies that suggest a poorer out...</td>\n",
       "      <td>somatic</td>\n",
       "      <td>disputes</td>\n",
       "      <td>associatedWithWorseOutcomeFor</td>\n",
       "      <td>ga4gh:VA.j4XnsLZcdzDIYa5pvvXM7t1wn9OITr0L</td>\n",
       "      <td>Papillary Thyroid Carcinoma</td>\n",
       "      <td>civic</td>\n",
       "      <td>(ga4gh:VA.j4XnsLZcdzDIYa5pvvXM7t1wn9OITr0L, as...</td>\n",
       "    </tr>\n",
       "    <tr>\n",
       "      <th>1</th>\n",
       "      <td>civic.eid:103</td>\n",
       "      <td>Statement</td>\n",
       "      <td>VariantPrognosticProposition</td>\n",
       "      <td>V600E is associated with adverse pathological ...</td>\n",
       "      <td>somatic</td>\n",
       "      <td>supports</td>\n",
       "      <td>associatedWithWorseOutcomeFor</td>\n",
       "      <td>ga4gh:VA.j4XnsLZcdzDIYa5pvvXM7t1wn9OITr0L</td>\n",
       "      <td>Colorectal Cancer</td>\n",
       "      <td>civic</td>\n",
       "      <td>(ga4gh:VA.j4XnsLZcdzDIYa5pvvXM7t1wn9OITr0L, as...</td>\n",
       "    </tr>\n",
       "    <tr>\n",
       "      <th>2</th>\n",
       "      <td>civic.eid:656</td>\n",
       "      <td>Statement</td>\n",
       "      <td>VariantPrognosticProposition</td>\n",
       "      <td>In patients with papillary thyroid cancer harb...</td>\n",
       "      <td>somatic</td>\n",
       "      <td>supports</td>\n",
       "      <td>associatedWithWorseOutcomeFor</td>\n",
       "      <td>ga4gh:VA.j4XnsLZcdzDIYa5pvvXM7t1wn9OITr0L</td>\n",
       "      <td>Papillary Thyroid Carcinoma</td>\n",
       "      <td>civic</td>\n",
       "      <td>(ga4gh:VA.j4XnsLZcdzDIYa5pvvXM7t1wn9OITr0L, as...</td>\n",
       "    </tr>\n",
       "    <tr>\n",
       "      <th>3</th>\n",
       "      <td>civic.eid:1420</td>\n",
       "      <td>Statement</td>\n",
       "      <td>VariantPrognosticProposition</td>\n",
       "      <td>Study examined rare SNPs on MAP2K7 among a dis...</td>\n",
       "      <td>germline</td>\n",
       "      <td>supports</td>\n",
       "      <td>associatedWithWorseOutcomeFor</td>\n",
       "      <td>ga4gh:VA.nE0U2q_0hSEFMnTRq7MM3ZrVByPOuTdE</td>\n",
       "      <td>Lung Cancer</td>\n",
       "      <td>civic</td>\n",
       "      <td>(ga4gh:VA.nE0U2q_0hSEFMnTRq7MM3ZrVByPOuTdE, as...</td>\n",
       "    </tr>\n",
       "    <tr>\n",
       "      <th>4</th>\n",
       "      <td>civic.eid:26</td>\n",
       "      <td>Statement</td>\n",
       "      <td>VariantPrognosticProposition</td>\n",
       "      <td>In acute myloid leukemia patients, D816 mutati...</td>\n",
       "      <td>somatic</td>\n",
       "      <td>supports</td>\n",
       "      <td>associatedWithWorseOutcomeFor</td>\n",
       "      <td>ga4gh:VA.nhiDwIq1klrGm3wtWO4a4BiS0jdW79Wd</td>\n",
       "      <td>Acute Myeloid Leukemia</td>\n",
       "      <td>civic</td>\n",
       "      <td>(ga4gh:VA.nhiDwIq1klrGm3wtWO4a4BiS0jdW79Wd, as...</td>\n",
       "    </tr>\n",
       "    <tr>\n",
       "      <th>...</th>\n",
       "      <td>...</td>\n",
       "      <td>...</td>\n",
       "      <td>...</td>\n",
       "      <td>...</td>\n",
       "      <td>...</td>\n",
       "      <td>...</td>\n",
       "      <td>...</td>\n",
       "      <td>...</td>\n",
       "      <td>...</td>\n",
       "      <td>...</td>\n",
       "      <td>...</td>\n",
       "    </tr>\n",
       "    <tr>\n",
       "      <th>151</th>\n",
       "      <td>moa.assertion:931</td>\n",
       "      <td>Statement</td>\n",
       "      <td>VariantPrognosticProposition</td>\n",
       "      <td>The National Comprehensive Cancer Network® (NC...</td>\n",
       "      <td>somatic</td>\n",
       "      <td>disputes</td>\n",
       "      <td>associatedWithWorseOutcomeFor</td>\n",
       "      <td>ga4gh:VA.bmYmmyJlyeM405Fw6sLMP42VVWbChRJj</td>\n",
       "      <td>Myelodysplasia</td>\n",
       "      <td>moa</td>\n",
       "      <td>(ga4gh:VA.bmYmmyJlyeM405Fw6sLMP42VVWbChRJj, as...</td>\n",
       "    </tr>\n",
       "    <tr>\n",
       "      <th>152</th>\n",
       "      <td>moa.assertion:932</td>\n",
       "      <td>Statement</td>\n",
       "      <td>VariantPrognosticProposition</td>\n",
       "      <td>The National Comprehensive Cancer Network® (NC...</td>\n",
       "      <td>somatic</td>\n",
       "      <td>disputes</td>\n",
       "      <td>associatedWithWorseOutcomeFor</td>\n",
       "      <td>ga4gh:VA.NaCpxzfdn882A-Ad05GWU0TTs9WmKLMg</td>\n",
       "      <td>Myelodysplasia</td>\n",
       "      <td>moa</td>\n",
       "      <td>(ga4gh:VA.NaCpxzfdn882A-Ad05GWU0TTs9WmKLMg, as...</td>\n",
       "    </tr>\n",
       "    <tr>\n",
       "      <th>153</th>\n",
       "      <td>moa.assertion:933</td>\n",
       "      <td>Statement</td>\n",
       "      <td>VariantPrognosticProposition</td>\n",
       "      <td>The National Comprehensive Cancer Network® (NC...</td>\n",
       "      <td>somatic</td>\n",
       "      <td>disputes</td>\n",
       "      <td>associatedWithWorseOutcomeFor</td>\n",
       "      <td>ga4gh:VA.YZB-axAEhDjlTdXQOT9yd2MWc_01Zo0x</td>\n",
       "      <td>Myelodysplasia</td>\n",
       "      <td>moa</td>\n",
       "      <td>(ga4gh:VA.YZB-axAEhDjlTdXQOT9yd2MWc_01Zo0x, as...</td>\n",
       "    </tr>\n",
       "    <tr>\n",
       "      <th>154</th>\n",
       "      <td>moa.assertion:934</td>\n",
       "      <td>Statement</td>\n",
       "      <td>VariantPrognosticProposition</td>\n",
       "      <td>The National Comprehensive Cancer Network® (NC...</td>\n",
       "      <td>somatic</td>\n",
       "      <td>disputes</td>\n",
       "      <td>associatedWithWorseOutcomeFor</td>\n",
       "      <td>ga4gh:VA.YZB-axAEhDjlTdXQOT9yd2MWc_01Zo0x</td>\n",
       "      <td>Myelodysplasia</td>\n",
       "      <td>moa</td>\n",
       "      <td>(ga4gh:VA.YZB-axAEhDjlTdXQOT9yd2MWc_01Zo0x, as...</td>\n",
       "    </tr>\n",
       "    <tr>\n",
       "      <th>155</th>\n",
       "      <td>moa.assertion:935</td>\n",
       "      <td>Statement</td>\n",
       "      <td>VariantPrognosticProposition</td>\n",
       "      <td>The National Comprehensive Cancer Network® (NC...</td>\n",
       "      <td>somatic</td>\n",
       "      <td>disputes</td>\n",
       "      <td>associatedWithWorseOutcomeFor</td>\n",
       "      <td>ga4gh:VA.jKAN7kOdWcqE0xUYrUWxxUiO1KyCdEfs</td>\n",
       "      <td>Myelodysplasia</td>\n",
       "      <td>moa</td>\n",
       "      <td>(ga4gh:VA.jKAN7kOdWcqE0xUYrUWxxUiO1KyCdEfs, as...</td>\n",
       "    </tr>\n",
       "  </tbody>\n",
       "</table>\n",
       "<p>156 rows × 11 columns</p>\n",
       "</div>"
      ],
      "text/plain": [
       "                    id  studyType               propositionType  \\\n",
       "0        civic.eid:102  Statement  VariantPrognosticProposition   \n",
       "1        civic.eid:103  Statement  VariantPrognosticProposition   \n",
       "2        civic.eid:656  Statement  VariantPrognosticProposition   \n",
       "3       civic.eid:1420  Statement  VariantPrognosticProposition   \n",
       "4         civic.eid:26  Statement  VariantPrognosticProposition   \n",
       "..                 ...        ...                           ...   \n",
       "151  moa.assertion:931  Statement  VariantPrognosticProposition   \n",
       "152  moa.assertion:932  Statement  VariantPrognosticProposition   \n",
       "153  moa.assertion:933  Statement  VariantPrognosticProposition   \n",
       "154  moa.assertion:934  Statement  VariantPrognosticProposition   \n",
       "155  moa.assertion:935  Statement  VariantPrognosticProposition   \n",
       "\n",
       "                                           description alleleOriginQualifier  \\\n",
       "0    Unlike other studies that suggest a poorer out...               somatic   \n",
       "1    V600E is associated with adverse pathological ...               somatic   \n",
       "2    In patients with papillary thyroid cancer harb...               somatic   \n",
       "3    Study examined rare SNPs on MAP2K7 among a dis...              germline   \n",
       "4    In acute myloid leukemia patients, D816 mutati...               somatic   \n",
       "..                                                 ...                   ...   \n",
       "151  The National Comprehensive Cancer Network® (NC...               somatic   \n",
       "152  The National Comprehensive Cancer Network® (NC...               somatic   \n",
       "153  The National Comprehensive Cancer Network® (NC...               somatic   \n",
       "154  The National Comprehensive Cancer Network® (NC...               somatic   \n",
       "155  The National Comprehensive Cancer Network® (NC...               somatic   \n",
       "\n",
       "    direction                      predicate  \\\n",
       "0    disputes  associatedWithWorseOutcomeFor   \n",
       "1    supports  associatedWithWorseOutcomeFor   \n",
       "2    supports  associatedWithWorseOutcomeFor   \n",
       "3    supports  associatedWithWorseOutcomeFor   \n",
       "4    supports  associatedWithWorseOutcomeFor   \n",
       "..        ...                            ...   \n",
       "151  disputes  associatedWithWorseOutcomeFor   \n",
       "152  disputes  associatedWithWorseOutcomeFor   \n",
       "153  disputes  associatedWithWorseOutcomeFor   \n",
       "154  disputes  associatedWithWorseOutcomeFor   \n",
       "155  disputes  associatedWithWorseOutcomeFor   \n",
       "\n",
       "                                       Variant                      Disease  \\\n",
       "0    ga4gh:VA.j4XnsLZcdzDIYa5pvvXM7t1wn9OITr0L  Papillary Thyroid Carcinoma   \n",
       "1    ga4gh:VA.j4XnsLZcdzDIYa5pvvXM7t1wn9OITr0L            Colorectal Cancer   \n",
       "2    ga4gh:VA.j4XnsLZcdzDIYa5pvvXM7t1wn9OITr0L  Papillary Thyroid Carcinoma   \n",
       "3    ga4gh:VA.nE0U2q_0hSEFMnTRq7MM3ZrVByPOuTdE                  Lung Cancer   \n",
       "4    ga4gh:VA.nhiDwIq1klrGm3wtWO4a4BiS0jdW79Wd       Acute Myeloid Leukemia   \n",
       "..                                         ...                          ...   \n",
       "151  ga4gh:VA.bmYmmyJlyeM405Fw6sLMP42VVWbChRJj               Myelodysplasia   \n",
       "152  ga4gh:VA.NaCpxzfdn882A-Ad05GWU0TTs9WmKLMg               Myelodysplasia   \n",
       "153  ga4gh:VA.YZB-axAEhDjlTdXQOT9yd2MWc_01Zo0x               Myelodysplasia   \n",
       "154  ga4gh:VA.YZB-axAEhDjlTdXQOT9yd2MWc_01Zo0x               Myelodysplasia   \n",
       "155  ga4gh:VA.jKAN7kOdWcqE0xUYrUWxxUiO1KyCdEfs               Myelodysplasia   \n",
       "\n",
       "    source                                          statement  \n",
       "0    civic  (ga4gh:VA.j4XnsLZcdzDIYa5pvvXM7t1wn9OITr0L, as...  \n",
       "1    civic  (ga4gh:VA.j4XnsLZcdzDIYa5pvvXM7t1wn9OITr0L, as...  \n",
       "2    civic  (ga4gh:VA.j4XnsLZcdzDIYa5pvvXM7t1wn9OITr0L, as...  \n",
       "3    civic  (ga4gh:VA.nE0U2q_0hSEFMnTRq7MM3ZrVByPOuTdE, as...  \n",
       "4    civic  (ga4gh:VA.nhiDwIq1klrGm3wtWO4a4BiS0jdW79Wd, as...  \n",
       "..     ...                                                ...  \n",
       "151    moa  (ga4gh:VA.bmYmmyJlyeM405Fw6sLMP42VVWbChRJj, as...  \n",
       "152    moa  (ga4gh:VA.NaCpxzfdn882A-Ad05GWU0TTs9WmKLMg, as...  \n",
       "153    moa  (ga4gh:VA.YZB-axAEhDjlTdXQOT9yd2MWc_01Zo0x, as...  \n",
       "154    moa  (ga4gh:VA.YZB-axAEhDjlTdXQOT9yd2MWc_01Zo0x, as...  \n",
       "155    moa  (ga4gh:VA.jKAN7kOdWcqE0xUYrUWxxUiO1KyCdEfs, as...  \n",
       "\n",
       "[156 rows x 11 columns]"
      ]
     },
     "execution_count": 189,
     "metadata": {},
     "output_type": "execute_result"
    }
   ],
   "source": [
    "data['source'] = data['id'].apply(lambda x: x.split('.')[0])\n",
    "data['statement'] = data.apply(lambda row: (row['Variant'], row['predicate'], row['Disease']), axis=1) #TODO: Normalize diseases?\n",
    "data"
   ]
  },
  {
   "cell_type": "code",
   "execution_count": 190,
   "metadata": {},
   "outputs": [
    {
     "data": {
      "text/plain": [
       "statement\n",
       "(ga4gh:VA.j4XnsLZcdzDIYa5pvvXM7t1wn9OITr0L, associatedWithWorseOutcomeFor, Papillary Thyroid Carcinoma)             8\n",
       "(ga4gh:VA.j4XnsLZcdzDIYa5pvvXM7t1wn9OITr0L, associatedWithWorseOutcomeFor, Colorectal Cancer)                       7\n",
       "(ga4gh:VA.uOzCG-Blg0EEZfX9z2ZxvpGcWp7r2NrI, associatedWithWorseOutcomeFor, Spindle Cell Rhabdomyosarcoma)           4\n",
       "(ga4gh:VA.5GEqm-zIzvvPheyGb9rlu5DyIueIubXm, associatedWithBetterOutcomeFor, Breast Cancer)                          2\n",
       "(ga4gh:VA.j4XnsLZcdzDIYa5pvvXM7t1wn9OITr0L, associatedWithWorseOutcomeFor, Melanoma)                                2\n",
       "                                                                                                                   ..\n",
       "(ga4gh:VA.cdcXITbBWUXPjy3zPdhs7xjU1yvlkSrj, associatedWithWorseOutcomeFor, Pancreatic Ductal Carcinoma)             1\n",
       "(ga4gh:VA.6xzzXheebNYrE6lgDlRK2XN0NHrnoyOg, associatedWithWorseOutcomeFor, Neuroblastoma)                           1\n",
       "(ga4gh:VA.cdcXITbBWUXPjy3zPdhs7xjU1yvlkSrj, associatedWithWorseOutcomeFor, Malignant Exocrine Pancreas Neoplasm)    1\n",
       "(ga4gh:VA.OUtnlXzYAPjSCFTJdzslpJisv5mVZEWG, associatedWithWorseOutcomeFor, Lung Carcinoma)                          1\n",
       "(ga4gh:VA.jKAN7kOdWcqE0xUYrUWxxUiO1KyCdEfs, associatedWithWorseOutcomeFor, Myelodysplasia)                          1\n",
       "Name: count, Length: 129, dtype: int64"
      ]
     },
     "execution_count": 190,
     "metadata": {},
     "output_type": "execute_result"
    }
   ],
   "source": [
    "data['statement'].value_counts()"
   ]
  },
  {
   "cell_type": "markdown",
   "metadata": {},
   "source": [
    "### Uniqueness (Statement Level)\n",
    "<a id='prognostic-unique-statement'></a>"
   ]
  },
  {
   "cell_type": "code",
   "execution_count": null,
   "metadata": {},
   "outputs": [
    {
     "name": "stderr",
     "output_type": "stream",
     "text": [
      "129it [00:00, 1273.32it/s]\n",
      "/Users/mjc014/.pyenv/versions/3.12.2/lib/python3.12/site-packages/upsetplot/plotting.py:795: FutureWarning:\n",
      "\n",
      "A value is trying to be set on a copy of a DataFrame or Series through chained assignment using an inplace method.\n",
      "The behavior will change in pandas 3.0. This inplace method will never work because the intermediate object on which we are setting values always behaves as a copy.\n",
      "\n",
      "For example, when doing 'df[col].method(value, inplace=True)', try using 'df.method({col: value}, inplace=True)' or df[col] = df[col].method(value) instead, to perform the operation inplace on the original object.\n",
      "\n",
      "\n",
      "\n",
      "/Users/mjc014/.pyenv/versions/3.12.2/lib/python3.12/site-packages/upsetplot/plotting.py:796: FutureWarning:\n",
      "\n",
      "A value is trying to be set on a copy of a DataFrame or Series through chained assignment using an inplace method.\n",
      "The behavior will change in pandas 3.0. This inplace method will never work because the intermediate object on which we are setting values always behaves as a copy.\n",
      "\n",
      "For example, when doing 'df[col].method(value, inplace=True)', try using 'df.method({col: value}, inplace=True)' or df[col] = df[col].method(value) instead, to perform the operation inplace on the original object.\n",
      "\n",
      "\n",
      "\n",
      "/Users/mjc014/.pyenv/versions/3.12.2/lib/python3.12/site-packages/upsetplot/plotting.py:797: FutureWarning:\n",
      "\n",
      "A value is trying to be set on a copy of a DataFrame or Series through chained assignment using an inplace method.\n",
      "The behavior will change in pandas 3.0. This inplace method will never work because the intermediate object on which we are setting values always behaves as a copy.\n",
      "\n",
      "For example, when doing 'df[col].method(value, inplace=True)', try using 'df.method({col: value}, inplace=True)' or df[col] = df[col].method(value) instead, to perform the operation inplace on the original object.\n",
      "\n",
      "\n",
      "\n",
      "/Users/mjc014/.pyenv/versions/3.12.2/lib/python3.12/site-packages/upsetplot/plotting.py:798: FutureWarning:\n",
      "\n",
      "A value is trying to be set on a copy of a DataFrame or Series through chained assignment using an inplace method.\n",
      "The behavior will change in pandas 3.0. This inplace method will never work because the intermediate object on which we are setting values always behaves as a copy.\n",
      "\n",
      "For example, when doing 'df[col].method(value, inplace=True)', try using 'df.method({col: value}, inplace=True)' or df[col] = df[col].method(value) instead, to perform the operation inplace on the original object.\n",
      "\n",
      "\n",
      "\n"
     ]
    },
    {
     "data": {
      "image/png": "[encoded data removed]",
      "text/plain": [
       "<Figure size 266.667x355.556 with 4 Axes>"
      ]
     },
     "metadata": {},
     "output_type": "display_data"
    }
   ],
   "source": [
    "# Initialize unique groups for identifying uniqueness\n",
    "unique_prognostic_statements = list(data['statement'].unique())\n",
    "\n",
    "prognostic_statement_uniqueness = pd.DataFrame({'statements': unique_prognostic_statements,\n",
    "                                                'civic': None,\n",
    "                                                'moa': None})\n",
    "\n",
    "prognostic_statement_uniqueness = calculate_uniqueness(prognostic_statement_uniqueness, data,'statement')\n",
    "upset_data = format_for_upset(prognostic_statement_uniqueness,'statement')\n",
    "plot(upset_data, show_counts=True)\n",
    "# plt.savefig('gene_unique_upset_plot.png', dpi=300, format='png', bbox_inches='tight')\n",
    "plt.show()"
   ]
  },
  {
   "cell_type": "code",
   "execution_count": 192,
   "metadata": {},
   "outputs": [
    {
     "data": {
      "text/html": [
       "<div>\n",
       "<style scoped>\n",
       "    .dataframe tbody tr th:only-of-type {\n",
       "        vertical-align: middle;\n",
       "    }\n",
       "\n",
       "    .dataframe tbody tr th {\n",
       "        vertical-align: top;\n",
       "    }\n",
       "\n",
       "    .dataframe thead th {\n",
       "        text-align: right;\n",
       "    }\n",
       "</style>\n",
       "<table border=\"1\" class=\"dataframe\">\n",
       "  <thead>\n",
       "    <tr style=\"text-align: right;\">\n",
       "      <th></th>\n",
       "      <th>id</th>\n",
       "      <th>studyType</th>\n",
       "      <th>propositionType</th>\n",
       "      <th>description</th>\n",
       "      <th>alleleOriginQualifier</th>\n",
       "      <th>direction</th>\n",
       "      <th>predicate</th>\n",
       "      <th>Variant</th>\n",
       "      <th>Disease</th>\n",
       "      <th>source</th>\n",
       "      <th>statement</th>\n",
       "    </tr>\n",
       "  </thead>\n",
       "  <tbody>\n",
       "    <tr>\n",
       "      <th>0</th>\n",
       "      <td>civic.eid:102</td>\n",
       "      <td>Statement</td>\n",
       "      <td>VariantPrognosticProposition</td>\n",
       "      <td>Unlike other studies that suggest a poorer out...</td>\n",
       "      <td>somatic</td>\n",
       "      <td>disputes</td>\n",
       "      <td>associatedWithWorseOutcomeFor</td>\n",
       "      <td>ga4gh:VA.j4XnsLZcdzDIYa5pvvXM7t1wn9OITr0L</td>\n",
       "      <td>Papillary Thyroid Carcinoma</td>\n",
       "      <td>civic</td>\n",
       "      <td>(ga4gh:VA.j4XnsLZcdzDIYa5pvvXM7t1wn9OITr0L, as...</td>\n",
       "    </tr>\n",
       "    <tr>\n",
       "      <th>1</th>\n",
       "      <td>civic.eid:103</td>\n",
       "      <td>Statement</td>\n",
       "      <td>VariantPrognosticProposition</td>\n",
       "      <td>V600E is associated with adverse pathological ...</td>\n",
       "      <td>somatic</td>\n",
       "      <td>supports</td>\n",
       "      <td>associatedWithWorseOutcomeFor</td>\n",
       "      <td>ga4gh:VA.j4XnsLZcdzDIYa5pvvXM7t1wn9OITr0L</td>\n",
       "      <td>Colorectal Cancer</td>\n",
       "      <td>civic</td>\n",
       "      <td>(ga4gh:VA.j4XnsLZcdzDIYa5pvvXM7t1wn9OITr0L, as...</td>\n",
       "    </tr>\n",
       "    <tr>\n",
       "      <th>2</th>\n",
       "      <td>civic.eid:656</td>\n",
       "      <td>Statement</td>\n",
       "      <td>VariantPrognosticProposition</td>\n",
       "      <td>In patients with papillary thyroid cancer harb...</td>\n",
       "      <td>somatic</td>\n",
       "      <td>supports</td>\n",
       "      <td>associatedWithWorseOutcomeFor</td>\n",
       "      <td>ga4gh:VA.j4XnsLZcdzDIYa5pvvXM7t1wn9OITr0L</td>\n",
       "      <td>Papillary Thyroid Carcinoma</td>\n",
       "      <td>civic</td>\n",
       "      <td>(ga4gh:VA.j4XnsLZcdzDIYa5pvvXM7t1wn9OITr0L, as...</td>\n",
       "    </tr>\n",
       "    <tr>\n",
       "      <th>3</th>\n",
       "      <td>civic.eid:1420</td>\n",
       "      <td>Statement</td>\n",
       "      <td>VariantPrognosticProposition</td>\n",
       "      <td>Study examined rare SNPs on MAP2K7 among a dis...</td>\n",
       "      <td>germline</td>\n",
       "      <td>supports</td>\n",
       "      <td>associatedWithWorseOutcomeFor</td>\n",
       "      <td>ga4gh:VA.nE0U2q_0hSEFMnTRq7MM3ZrVByPOuTdE</td>\n",
       "      <td>Lung Cancer</td>\n",
       "      <td>civic</td>\n",
       "      <td>(ga4gh:VA.nE0U2q_0hSEFMnTRq7MM3ZrVByPOuTdE, as...</td>\n",
       "    </tr>\n",
       "    <tr>\n",
       "      <th>4</th>\n",
       "      <td>civic.eid:26</td>\n",
       "      <td>Statement</td>\n",
       "      <td>VariantPrognosticProposition</td>\n",
       "      <td>In acute myloid leukemia patients, D816 mutati...</td>\n",
       "      <td>somatic</td>\n",
       "      <td>supports</td>\n",
       "      <td>associatedWithWorseOutcomeFor</td>\n",
       "      <td>ga4gh:VA.nhiDwIq1klrGm3wtWO4a4BiS0jdW79Wd</td>\n",
       "      <td>Acute Myeloid Leukemia</td>\n",
       "      <td>civic</td>\n",
       "      <td>(ga4gh:VA.nhiDwIq1klrGm3wtWO4a4BiS0jdW79Wd, as...</td>\n",
       "    </tr>\n",
       "    <tr>\n",
       "      <th>...</th>\n",
       "      <td>...</td>\n",
       "      <td>...</td>\n",
       "      <td>...</td>\n",
       "      <td>...</td>\n",
       "      <td>...</td>\n",
       "      <td>...</td>\n",
       "      <td>...</td>\n",
       "      <td>...</td>\n",
       "      <td>...</td>\n",
       "      <td>...</td>\n",
       "      <td>...</td>\n",
       "    </tr>\n",
       "    <tr>\n",
       "      <th>151</th>\n",
       "      <td>moa.assertion:931</td>\n",
       "      <td>Statement</td>\n",
       "      <td>VariantPrognosticProposition</td>\n",
       "      <td>The National Comprehensive Cancer Network® (NC...</td>\n",
       "      <td>somatic</td>\n",
       "      <td>disputes</td>\n",
       "      <td>associatedWithWorseOutcomeFor</td>\n",
       "      <td>ga4gh:VA.bmYmmyJlyeM405Fw6sLMP42VVWbChRJj</td>\n",
       "      <td>Myelodysplasia</td>\n",
       "      <td>moa</td>\n",
       "      <td>(ga4gh:VA.bmYmmyJlyeM405Fw6sLMP42VVWbChRJj, as...</td>\n",
       "    </tr>\n",
       "    <tr>\n",
       "      <th>152</th>\n",
       "      <td>moa.assertion:932</td>\n",
       "      <td>Statement</td>\n",
       "      <td>VariantPrognosticProposition</td>\n",
       "      <td>The National Comprehensive Cancer Network® (NC...</td>\n",
       "      <td>somatic</td>\n",
       "      <td>disputes</td>\n",
       "      <td>associatedWithWorseOutcomeFor</td>\n",
       "      <td>ga4gh:VA.NaCpxzfdn882A-Ad05GWU0TTs9WmKLMg</td>\n",
       "      <td>Myelodysplasia</td>\n",
       "      <td>moa</td>\n",
       "      <td>(ga4gh:VA.NaCpxzfdn882A-Ad05GWU0TTs9WmKLMg, as...</td>\n",
       "    </tr>\n",
       "    <tr>\n",
       "      <th>153</th>\n",
       "      <td>moa.assertion:933</td>\n",
       "      <td>Statement</td>\n",
       "      <td>VariantPrognosticProposition</td>\n",
       "      <td>The National Comprehensive Cancer Network® (NC...</td>\n",
       "      <td>somatic</td>\n",
       "      <td>disputes</td>\n",
       "      <td>associatedWithWorseOutcomeFor</td>\n",
       "      <td>ga4gh:VA.YZB-axAEhDjlTdXQOT9yd2MWc_01Zo0x</td>\n",
       "      <td>Myelodysplasia</td>\n",
       "      <td>moa</td>\n",
       "      <td>(ga4gh:VA.YZB-axAEhDjlTdXQOT9yd2MWc_01Zo0x, as...</td>\n",
       "    </tr>\n",
       "    <tr>\n",
       "      <th>154</th>\n",
       "      <td>moa.assertion:934</td>\n",
       "      <td>Statement</td>\n",
       "      <td>VariantPrognosticProposition</td>\n",
       "      <td>The National Comprehensive Cancer Network® (NC...</td>\n",
       "      <td>somatic</td>\n",
       "      <td>disputes</td>\n",
       "      <td>associatedWithWorseOutcomeFor</td>\n",
       "      <td>ga4gh:VA.YZB-axAEhDjlTdXQOT9yd2MWc_01Zo0x</td>\n",
       "      <td>Myelodysplasia</td>\n",
       "      <td>moa</td>\n",
       "      <td>(ga4gh:VA.YZB-axAEhDjlTdXQOT9yd2MWc_01Zo0x, as...</td>\n",
       "    </tr>\n",
       "    <tr>\n",
       "      <th>155</th>\n",
       "      <td>moa.assertion:935</td>\n",
       "      <td>Statement</td>\n",
       "      <td>VariantPrognosticProposition</td>\n",
       "      <td>The National Comprehensive Cancer Network® (NC...</td>\n",
       "      <td>somatic</td>\n",
       "      <td>disputes</td>\n",
       "      <td>associatedWithWorseOutcomeFor</td>\n",
       "      <td>ga4gh:VA.jKAN7kOdWcqE0xUYrUWxxUiO1KyCdEfs</td>\n",
       "      <td>Myelodysplasia</td>\n",
       "      <td>moa</td>\n",
       "      <td>(ga4gh:VA.jKAN7kOdWcqE0xUYrUWxxUiO1KyCdEfs, as...</td>\n",
       "    </tr>\n",
       "  </tbody>\n",
       "</table>\n",
       "<p>156 rows × 11 columns</p>\n",
       "</div>"
      ],
      "text/plain": [
       "                    id  studyType               propositionType  \\\n",
       "0        civic.eid:102  Statement  VariantPrognosticProposition   \n",
       "1        civic.eid:103  Statement  VariantPrognosticProposition   \n",
       "2        civic.eid:656  Statement  VariantPrognosticProposition   \n",
       "3       civic.eid:1420  Statement  VariantPrognosticProposition   \n",
       "4         civic.eid:26  Statement  VariantPrognosticProposition   \n",
       "..                 ...        ...                           ...   \n",
       "151  moa.assertion:931  Statement  VariantPrognosticProposition   \n",
       "152  moa.assertion:932  Statement  VariantPrognosticProposition   \n",
       "153  moa.assertion:933  Statement  VariantPrognosticProposition   \n",
       "154  moa.assertion:934  Statement  VariantPrognosticProposition   \n",
       "155  moa.assertion:935  Statement  VariantPrognosticProposition   \n",
       "\n",
       "                                           description alleleOriginQualifier  \\\n",
       "0    Unlike other studies that suggest a poorer out...               somatic   \n",
       "1    V600E is associated with adverse pathological ...               somatic   \n",
       "2    In patients with papillary thyroid cancer harb...               somatic   \n",
       "3    Study examined rare SNPs on MAP2K7 among a dis...              germline   \n",
       "4    In acute myloid leukemia patients, D816 mutati...               somatic   \n",
       "..                                                 ...                   ...   \n",
       "151  The National Comprehensive Cancer Network® (NC...               somatic   \n",
       "152  The National Comprehensive Cancer Network® (NC...               somatic   \n",
       "153  The National Comprehensive Cancer Network® (NC...               somatic   \n",
       "154  The National Comprehensive Cancer Network® (NC...               somatic   \n",
       "155  The National Comprehensive Cancer Network® (NC...               somatic   \n",
       "\n",
       "    direction                      predicate  \\\n",
       "0    disputes  associatedWithWorseOutcomeFor   \n",
       "1    supports  associatedWithWorseOutcomeFor   \n",
       "2    supports  associatedWithWorseOutcomeFor   \n",
       "3    supports  associatedWithWorseOutcomeFor   \n",
       "4    supports  associatedWithWorseOutcomeFor   \n",
       "..        ...                            ...   \n",
       "151  disputes  associatedWithWorseOutcomeFor   \n",
       "152  disputes  associatedWithWorseOutcomeFor   \n",
       "153  disputes  associatedWithWorseOutcomeFor   \n",
       "154  disputes  associatedWithWorseOutcomeFor   \n",
       "155  disputes  associatedWithWorseOutcomeFor   \n",
       "\n",
       "                                       Variant                      Disease  \\\n",
       "0    ga4gh:VA.j4XnsLZcdzDIYa5pvvXM7t1wn9OITr0L  Papillary Thyroid Carcinoma   \n",
       "1    ga4gh:VA.j4XnsLZcdzDIYa5pvvXM7t1wn9OITr0L            Colorectal Cancer   \n",
       "2    ga4gh:VA.j4XnsLZcdzDIYa5pvvXM7t1wn9OITr0L  Papillary Thyroid Carcinoma   \n",
       "3    ga4gh:VA.nE0U2q_0hSEFMnTRq7MM3ZrVByPOuTdE                  Lung Cancer   \n",
       "4    ga4gh:VA.nhiDwIq1klrGm3wtWO4a4BiS0jdW79Wd       Acute Myeloid Leukemia   \n",
       "..                                         ...                          ...   \n",
       "151  ga4gh:VA.bmYmmyJlyeM405Fw6sLMP42VVWbChRJj               Myelodysplasia   \n",
       "152  ga4gh:VA.NaCpxzfdn882A-Ad05GWU0TTs9WmKLMg               Myelodysplasia   \n",
       "153  ga4gh:VA.YZB-axAEhDjlTdXQOT9yd2MWc_01Zo0x               Myelodysplasia   \n",
       "154  ga4gh:VA.YZB-axAEhDjlTdXQOT9yd2MWc_01Zo0x               Myelodysplasia   \n",
       "155  ga4gh:VA.jKAN7kOdWcqE0xUYrUWxxUiO1KyCdEfs               Myelodysplasia   \n",
       "\n",
       "    source                                          statement  \n",
       "0    civic  (ga4gh:VA.j4XnsLZcdzDIYa5pvvXM7t1wn9OITr0L, as...  \n",
       "1    civic  (ga4gh:VA.j4XnsLZcdzDIYa5pvvXM7t1wn9OITr0L, as...  \n",
       "2    civic  (ga4gh:VA.j4XnsLZcdzDIYa5pvvXM7t1wn9OITr0L, as...  \n",
       "3    civic  (ga4gh:VA.nE0U2q_0hSEFMnTRq7MM3ZrVByPOuTdE, as...  \n",
       "4    civic  (ga4gh:VA.nhiDwIq1klrGm3wtWO4a4BiS0jdW79Wd, as...  \n",
       "..     ...                                                ...  \n",
       "151    moa  (ga4gh:VA.bmYmmyJlyeM405Fw6sLMP42VVWbChRJj, as...  \n",
       "152    moa  (ga4gh:VA.NaCpxzfdn882A-Ad05GWU0TTs9WmKLMg, as...  \n",
       "153    moa  (ga4gh:VA.YZB-axAEhDjlTdXQOT9yd2MWc_01Zo0x, as...  \n",
       "154    moa  (ga4gh:VA.YZB-axAEhDjlTdXQOT9yd2MWc_01Zo0x, as...  \n",
       "155    moa  (ga4gh:VA.jKAN7kOdWcqE0xUYrUWxxUiO1KyCdEfs, as...  \n",
       "\n",
       "[156 rows x 11 columns]"
      ]
     },
     "execution_count": 192,
     "metadata": {},
     "output_type": "execute_result"
    }
   ],
   "source": [
    "data"
   ]
  },
  {
   "cell_type": "markdown",
   "metadata": {},
   "source": [
    "[Back to Top](#table-of-contents)\n"
   ]
  },
  {
   "cell_type": "markdown",
   "metadata": {},
   "source": [
    "### Uniqueness (Concept Level)"
   ]
  },
  {
   "cell_type": "code",
   "execution_count": 193,
   "metadata": {},
   "outputs": [
    {
     "name": "stderr",
     "output_type": "stream",
     "text": [
      "109it [00:00, 2760.74it/s]\n",
      "/Users/mjc014/.pyenv/versions/3.12.2/lib/python3.12/site-packages/upsetplot/plotting.py:795: FutureWarning:\n",
      "\n",
      "A value is trying to be set on a copy of a DataFrame or Series through chained assignment using an inplace method.\n",
      "The behavior will change in pandas 3.0. This inplace method will never work because the intermediate object on which we are setting values always behaves as a copy.\n",
      "\n",
      "For example, when doing 'df[col].method(value, inplace=True)', try using 'df.method({col: value}, inplace=True)' or df[col] = df[col].method(value) instead, to perform the operation inplace on the original object.\n",
      "\n",
      "\n",
      "\n",
      "/Users/mjc014/.pyenv/versions/3.12.2/lib/python3.12/site-packages/upsetplot/plotting.py:796: FutureWarning:\n",
      "\n",
      "A value is trying to be set on a copy of a DataFrame or Series through chained assignment using an inplace method.\n",
      "The behavior will change in pandas 3.0. This inplace method will never work because the intermediate object on which we are setting values always behaves as a copy.\n",
      "\n",
      "For example, when doing 'df[col].method(value, inplace=True)', try using 'df.method({col: value}, inplace=True)' or df[col] = df[col].method(value) instead, to perform the operation inplace on the original object.\n",
      "\n",
      "\n",
      "\n",
      "/Users/mjc014/.pyenv/versions/3.12.2/lib/python3.12/site-packages/upsetplot/plotting.py:797: FutureWarning:\n",
      "\n",
      "A value is trying to be set on a copy of a DataFrame or Series through chained assignment using an inplace method.\n",
      "The behavior will change in pandas 3.0. This inplace method will never work because the intermediate object on which we are setting values always behaves as a copy.\n",
      "\n",
      "For example, when doing 'df[col].method(value, inplace=True)', try using 'df.method({col: value}, inplace=True)' or df[col] = df[col].method(value) instead, to perform the operation inplace on the original object.\n",
      "\n",
      "\n",
      "\n",
      "/Users/mjc014/.pyenv/versions/3.12.2/lib/python3.12/site-packages/upsetplot/plotting.py:798: FutureWarning:\n",
      "\n",
      "A value is trying to be set on a copy of a DataFrame or Series through chained assignment using an inplace method.\n",
      "The behavior will change in pandas 3.0. This inplace method will never work because the intermediate object on which we are setting values always behaves as a copy.\n",
      "\n",
      "For example, when doing 'df[col].method(value, inplace=True)', try using 'df.method({col: value}, inplace=True)' or df[col] = df[col].method(value) instead, to perform the operation inplace on the original object.\n",
      "\n",
      "\n",
      "\n"
     ]
    },
    {
     "data": {
      "image/png": "[encoded data removed]",
      "text/plain": [
       "<Figure size 311.111x355.556 with 4 Axes>"
      ]
     },
     "metadata": {},
     "output_type": "display_data"
    }
   ],
   "source": [
    "# TODO: Move this to the individual concepts at the end, add it to the graph. Also redo how calling the variants\n",
    "# Initialize unique groups for identifying uniqueness\n",
    "unique_prognostic_variants = list(data['Variant'].unique())\n",
    "\n",
    "prognostic_variant_uniqueness = pd.DataFrame({'Variants': unique_prognostic_variants,\n",
    "                                                'civic': None,\n",
    "                                                'moa': None})\n",
    "\n",
    "prognostic_variant_uniqueness = calculate_uniqueness(prognostic_variant_uniqueness, data,'Variant')\n",
    "# prognostic_proportions = gene_uniqueness # TODO: Do we need this for the statement level? might just be good for broad concepts\n",
    "upset_data = format_for_upset(prognostic_variant_uniqueness,'Variant')\n",
    "plot(upset_data, show_counts=True)\n",
    "# plt.savefig('gene_unique_upset_plot.png', dpi=300, format='png', bbox_inches='tight')\n",
    "plt.show()\n",
    "# TODO: Maybe we only care about this at the whole database level? for individual concepts that is "
   ]
  },
  {
   "cell_type": "markdown",
   "metadata": {},
   "source": [
    "## Variant Therapeutic Response Study Statements"
   ]
  },
  {
   "cell_type": "markdown",
   "metadata": {},
   "source": [
    "### Initialize Data\n",
    "<a id='therapeutic-response-init'></a>"
   ]
  },
  {
   "cell_type": "code",
   "execution_count": 31,
   "metadata": {},
   "outputs": [
    {
     "name": "stdout",
     "output_type": "stream",
     "text": [
      "Studies found: 1099\n"
     ]
    },
    {
     "data": {
      "text/html": [
       "<div>\n",
       "<style scoped>\n",
       "    .dataframe tbody tr th:only-of-type {\n",
       "        vertical-align: middle;\n",
       "    }\n",
       "\n",
       "    .dataframe tbody tr th {\n",
       "        vertical-align: top;\n",
       "    }\n",
       "\n",
       "    .dataframe thead th {\n",
       "        text-align: right;\n",
       "    }\n",
       "</style>\n",
       "<table border=\"1\" class=\"dataframe\">\n",
       "  <thead>\n",
       "    <tr style=\"text-align: right;\">\n",
       "      <th></th>\n",
       "      <th>id</th>\n",
       "      <th>studyType</th>\n",
       "      <th>propositionType</th>\n",
       "      <th>description</th>\n",
       "      <th>alleleOriginQualifier</th>\n",
       "      <th>direction</th>\n",
       "      <th>predicate</th>\n",
       "    </tr>\n",
       "  </thead>\n",
       "  <tbody>\n",
       "    <tr>\n",
       "      <th>0</th>\n",
       "      <td>civic.eid:238</td>\n",
       "      <td>Statement</td>\n",
       "      <td>VariantTherapeuticResponseProposition</td>\n",
       "      <td>The T790M mutation in EGFR has been shown to c...</td>\n",
       "      <td>somatic</td>\n",
       "      <td>supports</td>\n",
       "      <td>predictsResistanceTo</td>\n",
       "    </tr>\n",
       "    <tr>\n",
       "      <th>1</th>\n",
       "      <td>civic.eid:1409</td>\n",
       "      <td>Statement</td>\n",
       "      <td>VariantTherapeuticResponseProposition</td>\n",
       "      <td>Phase 3 randomized clinical trial comparing ve...</td>\n",
       "      <td>somatic</td>\n",
       "      <td>supports</td>\n",
       "      <td>predictsSensitivityTo</td>\n",
       "    </tr>\n",
       "    <tr>\n",
       "      <th>2</th>\n",
       "      <td>civic.eid:1592</td>\n",
       "      <td>Statement</td>\n",
       "      <td>VariantTherapeuticResponseProposition</td>\n",
       "      <td>Osimertinib has been approved for the treatmen...</td>\n",
       "      <td>somatic</td>\n",
       "      <td>supports</td>\n",
       "      <td>predictsSensitivityTo</td>\n",
       "    </tr>\n",
       "    <tr>\n",
       "      <th>3</th>\n",
       "      <td>civic.eid:1867</td>\n",
       "      <td>Statement</td>\n",
       "      <td>VariantTherapeuticResponseProposition</td>\n",
       "      <td>Randomized, international, open-label, phase 3...</td>\n",
       "      <td>somatic</td>\n",
       "      <td>supports</td>\n",
       "      <td>predictsSensitivityTo</td>\n",
       "    </tr>\n",
       "    <tr>\n",
       "      <th>4</th>\n",
       "      <td>civic.eid:2994</td>\n",
       "      <td>Statement</td>\n",
       "      <td>VariantTherapeuticResponseProposition</td>\n",
       "      <td>On May 14, 2013, the U.S. Food and Drug Admini...</td>\n",
       "      <td>somatic</td>\n",
       "      <td>supports</td>\n",
       "      <td>predictsSensitivityTo</td>\n",
       "    </tr>\n",
       "  </tbody>\n",
       "</table>\n",
       "</div>"
      ],
      "text/plain": [
       "               id  studyType                        propositionType  \\\n",
       "0   civic.eid:238  Statement  VariantTherapeuticResponseProposition   \n",
       "1  civic.eid:1409  Statement  VariantTherapeuticResponseProposition   \n",
       "2  civic.eid:1592  Statement  VariantTherapeuticResponseProposition   \n",
       "3  civic.eid:1867  Statement  VariantTherapeuticResponseProposition   \n",
       "4  civic.eid:2994  Statement  VariantTherapeuticResponseProposition   \n",
       "\n",
       "                                         description alleleOriginQualifier  \\\n",
       "0  The T790M mutation in EGFR has been shown to c...               somatic   \n",
       "1  Phase 3 randomized clinical trial comparing ve...               somatic   \n",
       "2  Osimertinib has been approved for the treatmen...               somatic   \n",
       "3  Randomized, international, open-label, phase 3...               somatic   \n",
       "4  On May 14, 2013, the U.S. Food and Drug Admini...               somatic   \n",
       "\n",
       "  direction              predicate  \n",
       "0  supports   predictsResistanceTo  \n",
       "1  supports  predictsSensitivityTo  \n",
       "2  supports  predictsSensitivityTo  \n",
       "3  supports  predictsSensitivityTo  \n",
       "4  supports  predictsSensitivityTo  "
      ]
     },
     "execution_count": 31,
     "metadata": {},
     "output_type": "execute_result"
    }
   ],
   "source": [
    "data = df[df['propositionType']=='VariantTherapeuticResponseProposition'].reset_index(drop=True)\n",
    "print(f'Studies found: {len(data)}')\n",
    "data[0:5]"
   ]
  },
  {
   "cell_type": "code",
   "execution_count": 32,
   "metadata": {},
   "outputs": [
    {
     "data": {
      "text/html": [
       "<div>\n",
       "<style scoped>\n",
       "    .dataframe tbody tr th:only-of-type {\n",
       "        vertical-align: middle;\n",
       "    }\n",
       "\n",
       "    .dataframe tbody tr th {\n",
       "        vertical-align: top;\n",
       "    }\n",
       "\n",
       "    .dataframe thead th {\n",
       "        text-align: right;\n",
       "    }\n",
       "</style>\n",
       "<table border=\"1\" class=\"dataframe\">\n",
       "  <thead>\n",
       "    <tr style=\"text-align: right;\">\n",
       "      <th></th>\n",
       "      <th>id</th>\n",
       "      <th>studyType</th>\n",
       "      <th>propositionType</th>\n",
       "      <th>description</th>\n",
       "      <th>alleleOriginQualifier</th>\n",
       "      <th>direction</th>\n",
       "      <th>predicate</th>\n",
       "      <th>Variant</th>\n",
       "      <th>Disease</th>\n",
       "      <th>Therapeutic</th>\n",
       "      <th>source</th>\n",
       "      <th>statement</th>\n",
       "    </tr>\n",
       "  </thead>\n",
       "  <tbody>\n",
       "    <tr>\n",
       "      <th>0</th>\n",
       "      <td>civic.eid:238</td>\n",
       "      <td>Statement</td>\n",
       "      <td>VariantTherapeuticResponseProposition</td>\n",
       "      <td>The T790M mutation in EGFR has been shown to c...</td>\n",
       "      <td>somatic</td>\n",
       "      <td>supports</td>\n",
       "      <td>predictsResistanceTo</td>\n",
       "      <td>ga4gh:VA.sMA9h8fzDi0RvweMlxtD0_Oi8B-JZ1V-</td>\n",
       "      <td>Lung Non-small Cell Carcinoma</td>\n",
       "      <td>337525</td>\n",
       "      <td>civic</td>\n",
       "      <td>(ga4gh:VA.sMA9h8fzDi0RvweMlxtD0_Oi8B-JZ1V-, pr...</td>\n",
       "    </tr>\n",
       "    <tr>\n",
       "      <th>1</th>\n",
       "      <td>civic.eid:1409</td>\n",
       "      <td>Statement</td>\n",
       "      <td>VariantTherapeuticResponseProposition</td>\n",
       "      <td>Phase 3 randomized clinical trial comparing ve...</td>\n",
       "      <td>somatic</td>\n",
       "      <td>supports</td>\n",
       "      <td>predictsSensitivityTo</td>\n",
       "      <td>ga4gh:VA.j4XnsLZcdzDIYa5pvvXM7t1wn9OITr0L</td>\n",
       "      <td>Skin Melanoma</td>\n",
       "      <td>1147220</td>\n",
       "      <td>civic</td>\n",
       "      <td>(ga4gh:VA.j4XnsLZcdzDIYa5pvvXM7t1wn9OITr0L, pr...</td>\n",
       "    </tr>\n",
       "    <tr>\n",
       "      <th>2</th>\n",
       "      <td>civic.eid:1592</td>\n",
       "      <td>Statement</td>\n",
       "      <td>VariantTherapeuticResponseProposition</td>\n",
       "      <td>Osimertinib has been approved for the treatmen...</td>\n",
       "      <td>somatic</td>\n",
       "      <td>supports</td>\n",
       "      <td>predictsSensitivityTo</td>\n",
       "      <td>ga4gh:VA.sMA9h8fzDi0RvweMlxtD0_Oi8B-JZ1V-</td>\n",
       "      <td>Lung Non-small Cell Carcinoma</td>\n",
       "      <td>1721560</td>\n",
       "      <td>civic</td>\n",
       "      <td>(ga4gh:VA.sMA9h8fzDi0RvweMlxtD0_Oi8B-JZ1V-, pr...</td>\n",
       "    </tr>\n",
       "    <tr>\n",
       "      <th>3</th>\n",
       "      <td>civic.eid:1867</td>\n",
       "      <td>Statement</td>\n",
       "      <td>VariantTherapeuticResponseProposition</td>\n",
       "      <td>Randomized, international, open-label, phase 3...</td>\n",
       "      <td>somatic</td>\n",
       "      <td>supports</td>\n",
       "      <td>predictsSensitivityTo</td>\n",
       "      <td>ga4gh:VA.sMA9h8fzDi0RvweMlxtD0_Oi8B-JZ1V-</td>\n",
       "      <td>Lung Non-small Cell Carcinoma</td>\n",
       "      <td>1721560</td>\n",
       "      <td>civic</td>\n",
       "      <td>(ga4gh:VA.sMA9h8fzDi0RvweMlxtD0_Oi8B-JZ1V-, pr...</td>\n",
       "    </tr>\n",
       "    <tr>\n",
       "      <th>4</th>\n",
       "      <td>civic.eid:2994</td>\n",
       "      <td>Statement</td>\n",
       "      <td>VariantTherapeuticResponseProposition</td>\n",
       "      <td>On May 14, 2013, the U.S. Food and Drug Admini...</td>\n",
       "      <td>somatic</td>\n",
       "      <td>supports</td>\n",
       "      <td>predictsSensitivityTo</td>\n",
       "      <td>ga4gh:VA.S41CcMJT2bcd8R4-qXZWH1PoHWNtG2PZ</td>\n",
       "      <td>Lung Non-small Cell Carcinoma</td>\n",
       "      <td>337525</td>\n",
       "      <td>civic</td>\n",
       "      <td>(ga4gh:VA.S41CcMJT2bcd8R4-qXZWH1PoHWNtG2PZ, pr...</td>\n",
       "    </tr>\n",
       "  </tbody>\n",
       "</table>\n",
       "</div>"
      ],
      "text/plain": [
       "               id  studyType                        propositionType  \\\n",
       "0   civic.eid:238  Statement  VariantTherapeuticResponseProposition   \n",
       "1  civic.eid:1409  Statement  VariantTherapeuticResponseProposition   \n",
       "2  civic.eid:1592  Statement  VariantTherapeuticResponseProposition   \n",
       "3  civic.eid:1867  Statement  VariantTherapeuticResponseProposition   \n",
       "4  civic.eid:2994  Statement  VariantTherapeuticResponseProposition   \n",
       "\n",
       "                                         description alleleOriginQualifier  \\\n",
       "0  The T790M mutation in EGFR has been shown to c...               somatic   \n",
       "1  Phase 3 randomized clinical trial comparing ve...               somatic   \n",
       "2  Osimertinib has been approved for the treatmen...               somatic   \n",
       "3  Randomized, international, open-label, phase 3...               somatic   \n",
       "4  On May 14, 2013, the U.S. Food and Drug Admini...               somatic   \n",
       "\n",
       "  direction              predicate                                    Variant  \\\n",
       "0  supports   predictsResistanceTo  ga4gh:VA.sMA9h8fzDi0RvweMlxtD0_Oi8B-JZ1V-   \n",
       "1  supports  predictsSensitivityTo  ga4gh:VA.j4XnsLZcdzDIYa5pvvXM7t1wn9OITr0L   \n",
       "2  supports  predictsSensitivityTo  ga4gh:VA.sMA9h8fzDi0RvweMlxtD0_Oi8B-JZ1V-   \n",
       "3  supports  predictsSensitivityTo  ga4gh:VA.sMA9h8fzDi0RvweMlxtD0_Oi8B-JZ1V-   \n",
       "4  supports  predictsSensitivityTo  ga4gh:VA.S41CcMJT2bcd8R4-qXZWH1PoHWNtG2PZ   \n",
       "\n",
       "                         Disease Therapeutic source  \\\n",
       "0  Lung Non-small Cell Carcinoma      337525  civic   \n",
       "1                  Skin Melanoma     1147220  civic   \n",
       "2  Lung Non-small Cell Carcinoma     1721560  civic   \n",
       "3  Lung Non-small Cell Carcinoma     1721560  civic   \n",
       "4  Lung Non-small Cell Carcinoma      337525  civic   \n",
       "\n",
       "                                           statement  \n",
       "0  (ga4gh:VA.sMA9h8fzDi0RvweMlxtD0_Oi8B-JZ1V-, pr...  \n",
       "1  (ga4gh:VA.j4XnsLZcdzDIYa5pvvXM7t1wn9OITr0L, pr...  \n",
       "2  (ga4gh:VA.sMA9h8fzDi0RvweMlxtD0_Oi8B-JZ1V-, pr...  \n",
       "3  (ga4gh:VA.sMA9h8fzDi0RvweMlxtD0_Oi8B-JZ1V-, pr...  \n",
       "4  (ga4gh:VA.S41CcMJT2bcd8R4-qXZWH1PoHWNtG2PZ, pr...  "
      ]
     },
     "execution_count": 32,
     "metadata": {},
     "output_type": "execute_result"
    }
   ],
   "source": [
    "data[['Variant','Disease','Therapeutic']] = None \n",
    "data['Variant'] = data['id'].apply(grab_subject_variant)\n",
    "data['Disease'] = data['id'].apply(grab_qualifier_disease)\n",
    "data['Therapeutic'] = data['id'].apply(grab_object_therapeutic)\n",
    "data['source'] = data['id'].apply(lambda x: x.split('.')[0])\n",
    "data['statement'] = data.apply(lambda row: (row['Variant'], row['predicate'], row['Therapeutic'], row['Disease']), axis=1)\n",
    "data\n",
    "\n",
    "data[0:5]"
   ]
  },
  {
   "cell_type": "markdown",
   "metadata": {},
   "source": [
    "### Uniqueness (Statement Level)\n",
    "<a id='therapeutic-response-unique'></a>"
   ]
  },
  {
   "cell_type": "code",
   "execution_count": 33,
   "metadata": {},
   "outputs": [
    {
     "name": "stderr",
     "output_type": "stream",
     "text": [
      "968it [00:00, 2026.59it/s]\n",
      "/Users/mjc014/.pyenv/versions/3.12.2/lib/python3.12/site-packages/upsetplot/plotting.py:795: FutureWarning:\n",
      "\n",
      "A value is trying to be set on a copy of a DataFrame or Series through chained assignment using an inplace method.\n",
      "The behavior will change in pandas 3.0. This inplace method will never work because the intermediate object on which we are setting values always behaves as a copy.\n",
      "\n",
      "For example, when doing 'df[col].method(value, inplace=True)', try using 'df.method({col: value}, inplace=True)' or df[col] = df[col].method(value) instead, to perform the operation inplace on the original object.\n",
      "\n",
      "\n",
      "\n",
      "/Users/mjc014/.pyenv/versions/3.12.2/lib/python3.12/site-packages/upsetplot/plotting.py:796: FutureWarning:\n",
      "\n",
      "A value is trying to be set on a copy of a DataFrame or Series through chained assignment using an inplace method.\n",
      "The behavior will change in pandas 3.0. This inplace method will never work because the intermediate object on which we are setting values always behaves as a copy.\n",
      "\n",
      "For example, when doing 'df[col].method(value, inplace=True)', try using 'df.method({col: value}, inplace=True)' or df[col] = df[col].method(value) instead, to perform the operation inplace on the original object.\n",
      "\n",
      "\n",
      "\n",
      "/Users/mjc014/.pyenv/versions/3.12.2/lib/python3.12/site-packages/upsetplot/plotting.py:797: FutureWarning:\n",
      "\n",
      "A value is trying to be set on a copy of a DataFrame or Series through chained assignment using an inplace method.\n",
      "The behavior will change in pandas 3.0. This inplace method will never work because the intermediate object on which we are setting values always behaves as a copy.\n",
      "\n",
      "For example, when doing 'df[col].method(value, inplace=True)', try using 'df.method({col: value}, inplace=True)' or df[col] = df[col].method(value) instead, to perform the operation inplace on the original object.\n",
      "\n",
      "\n",
      "\n",
      "/Users/mjc014/.pyenv/versions/3.12.2/lib/python3.12/site-packages/upsetplot/plotting.py:798: FutureWarning:\n",
      "\n",
      "A value is trying to be set on a copy of a DataFrame or Series through chained assignment using an inplace method.\n",
      "The behavior will change in pandas 3.0. This inplace method will never work because the intermediate object on which we are setting values always behaves as a copy.\n",
      "\n",
      "For example, when doing 'df[col].method(value, inplace=True)', try using 'df.method({col: value}, inplace=True)' or df[col] = df[col].method(value) instead, to perform the operation inplace on the original object.\n",
      "\n",
      "\n",
      "\n"
     ]
    },
    {
     "data": {
      "image/png": "[encoded data removed]",
      "text/plain": [
       "<Figure size 311.111x355.556 with 4 Axes>"
      ]
     },
     "metadata": {},
     "output_type": "display_data"
    }
   ],
   "source": [
    "# Initialize unique groups for identifying uniqueness\n",
    "unique_therapeutic_statements = list(data['statement'].unique())\n",
    "\n",
    "therapeutic_statement_uniqueness = pd.DataFrame({'statements': unique_therapeutic_statements,\n",
    "                                                'civic': None,\n",
    "                                                'moa': None})\n",
    "\n",
    "therapeutic_statement_uniqueness = calculate_uniqueness(therapeutic_statement_uniqueness, data,'statement')\n",
    "upset_data = format_for_upset(therapeutic_statement_uniqueness,'statement')\n",
    "plot(upset_data, show_counts=True)\n",
    "# plt.savefig('gene_unique_upset_plot.png', dpi=300, format='png', bbox_inches='tight')\n",
    "plt.show()"
   ]
  },
  {
   "cell_type": "markdown",
   "metadata": {},
   "source": [
    "### Concordance"
   ]
  },
  {
   "cell_type": "code",
   "execution_count": 87,
   "metadata": {},
   "outputs": [
    {
     "data": {
      "text/html": [
       "<div>\n",
       "<style scoped>\n",
       "    .dataframe tbody tr th:only-of-type {\n",
       "        vertical-align: middle;\n",
       "    }\n",
       "\n",
       "    .dataframe tbody tr th {\n",
       "        vertical-align: top;\n",
       "    }\n",
       "\n",
       "    .dataframe thead th {\n",
       "        text-align: right;\n",
       "    }\n",
       "</style>\n",
       "<table border=\"1\" class=\"dataframe\">\n",
       "  <thead>\n",
       "    <tr style=\"text-align: right;\">\n",
       "      <th></th>\n",
       "      <th>id</th>\n",
       "      <th>studyType</th>\n",
       "      <th>propositionType</th>\n",
       "      <th>description</th>\n",
       "      <th>alleleOriginQualifier</th>\n",
       "      <th>direction</th>\n",
       "      <th>predicate</th>\n",
       "      <th>Variant</th>\n",
       "      <th>Disease</th>\n",
       "      <th>Therapeutic</th>\n",
       "      <th>source</th>\n",
       "      <th>statement</th>\n",
       "      <th>statement_no_pred</th>\n",
       "    </tr>\n",
       "  </thead>\n",
       "  <tbody>\n",
       "    <tr>\n",
       "      <th>0</th>\n",
       "      <td>civic.eid:238</td>\n",
       "      <td>Statement</td>\n",
       "      <td>VariantTherapeuticResponseProposition</td>\n",
       "      <td>The T790M mutation in EGFR has been shown to c...</td>\n",
       "      <td>somatic</td>\n",
       "      <td>supports</td>\n",
       "      <td>predictsResistanceTo</td>\n",
       "      <td>ga4gh:VA.sMA9h8fzDi0RvweMlxtD0_Oi8B-JZ1V-</td>\n",
       "      <td>Lung Non-small Cell Carcinoma</td>\n",
       "      <td>337525</td>\n",
       "      <td>civic</td>\n",
       "      <td>(ga4gh:VA.sMA9h8fzDi0RvweMlxtD0_Oi8B-JZ1V-, pr...</td>\n",
       "      <td>(ga4gh:VA.sMA9h8fzDi0RvweMlxtD0_Oi8B-JZ1V-, 33...</td>\n",
       "    </tr>\n",
       "    <tr>\n",
       "      <th>1</th>\n",
       "      <td>civic.eid:1409</td>\n",
       "      <td>Statement</td>\n",
       "      <td>VariantTherapeuticResponseProposition</td>\n",
       "      <td>Phase 3 randomized clinical trial comparing ve...</td>\n",
       "      <td>somatic</td>\n",
       "      <td>supports</td>\n",
       "      <td>predictsSensitivityTo</td>\n",
       "      <td>ga4gh:VA.j4XnsLZcdzDIYa5pvvXM7t1wn9OITr0L</td>\n",
       "      <td>Skin Melanoma</td>\n",
       "      <td>1147220</td>\n",
       "      <td>civic</td>\n",
       "      <td>(ga4gh:VA.j4XnsLZcdzDIYa5pvvXM7t1wn9OITr0L, pr...</td>\n",
       "      <td>(ga4gh:VA.j4XnsLZcdzDIYa5pvvXM7t1wn9OITr0L, 11...</td>\n",
       "    </tr>\n",
       "    <tr>\n",
       "      <th>2</th>\n",
       "      <td>civic.eid:1592</td>\n",
       "      <td>Statement</td>\n",
       "      <td>VariantTherapeuticResponseProposition</td>\n",
       "      <td>Osimertinib has been approved for the treatmen...</td>\n",
       "      <td>somatic</td>\n",
       "      <td>supports</td>\n",
       "      <td>predictsSensitivityTo</td>\n",
       "      <td>ga4gh:VA.sMA9h8fzDi0RvweMlxtD0_Oi8B-JZ1V-</td>\n",
       "      <td>Lung Non-small Cell Carcinoma</td>\n",
       "      <td>1721560</td>\n",
       "      <td>civic</td>\n",
       "      <td>(ga4gh:VA.sMA9h8fzDi0RvweMlxtD0_Oi8B-JZ1V-, pr...</td>\n",
       "      <td>(ga4gh:VA.sMA9h8fzDi0RvweMlxtD0_Oi8B-JZ1V-, 17...</td>\n",
       "    </tr>\n",
       "    <tr>\n",
       "      <th>3</th>\n",
       "      <td>civic.eid:1867</td>\n",
       "      <td>Statement</td>\n",
       "      <td>VariantTherapeuticResponseProposition</td>\n",
       "      <td>Randomized, international, open-label, phase 3...</td>\n",
       "      <td>somatic</td>\n",
       "      <td>supports</td>\n",
       "      <td>predictsSensitivityTo</td>\n",
       "      <td>ga4gh:VA.sMA9h8fzDi0RvweMlxtD0_Oi8B-JZ1V-</td>\n",
       "      <td>Lung Non-small Cell Carcinoma</td>\n",
       "      <td>1721560</td>\n",
       "      <td>civic</td>\n",
       "      <td>(ga4gh:VA.sMA9h8fzDi0RvweMlxtD0_Oi8B-JZ1V-, pr...</td>\n",
       "      <td>(ga4gh:VA.sMA9h8fzDi0RvweMlxtD0_Oi8B-JZ1V-, 17...</td>\n",
       "    </tr>\n",
       "    <tr>\n",
       "      <th>4</th>\n",
       "      <td>civic.eid:2994</td>\n",
       "      <td>Statement</td>\n",
       "      <td>VariantTherapeuticResponseProposition</td>\n",
       "      <td>On May 14, 2013, the U.S. Food and Drug Admini...</td>\n",
       "      <td>somatic</td>\n",
       "      <td>supports</td>\n",
       "      <td>predictsSensitivityTo</td>\n",
       "      <td>ga4gh:VA.S41CcMJT2bcd8R4-qXZWH1PoHWNtG2PZ</td>\n",
       "      <td>Lung Non-small Cell Carcinoma</td>\n",
       "      <td>337525</td>\n",
       "      <td>civic</td>\n",
       "      <td>(ga4gh:VA.S41CcMJT2bcd8R4-qXZWH1PoHWNtG2PZ, pr...</td>\n",
       "      <td>(ga4gh:VA.S41CcMJT2bcd8R4-qXZWH1PoHWNtG2PZ, 33...</td>\n",
       "    </tr>\n",
       "  </tbody>\n",
       "</table>\n",
       "</div>"
      ],
      "text/plain": [
       "               id  studyType                        propositionType  \\\n",
       "0   civic.eid:238  Statement  VariantTherapeuticResponseProposition   \n",
       "1  civic.eid:1409  Statement  VariantTherapeuticResponseProposition   \n",
       "2  civic.eid:1592  Statement  VariantTherapeuticResponseProposition   \n",
       "3  civic.eid:1867  Statement  VariantTherapeuticResponseProposition   \n",
       "4  civic.eid:2994  Statement  VariantTherapeuticResponseProposition   \n",
       "\n",
       "                                         description alleleOriginQualifier  \\\n",
       "0  The T790M mutation in EGFR has been shown to c...               somatic   \n",
       "1  Phase 3 randomized clinical trial comparing ve...               somatic   \n",
       "2  Osimertinib has been approved for the treatmen...               somatic   \n",
       "3  Randomized, international, open-label, phase 3...               somatic   \n",
       "4  On May 14, 2013, the U.S. Food and Drug Admini...               somatic   \n",
       "\n",
       "  direction              predicate                                    Variant  \\\n",
       "0  supports   predictsResistanceTo  ga4gh:VA.sMA9h8fzDi0RvweMlxtD0_Oi8B-JZ1V-   \n",
       "1  supports  predictsSensitivityTo  ga4gh:VA.j4XnsLZcdzDIYa5pvvXM7t1wn9OITr0L   \n",
       "2  supports  predictsSensitivityTo  ga4gh:VA.sMA9h8fzDi0RvweMlxtD0_Oi8B-JZ1V-   \n",
       "3  supports  predictsSensitivityTo  ga4gh:VA.sMA9h8fzDi0RvweMlxtD0_Oi8B-JZ1V-   \n",
       "4  supports  predictsSensitivityTo  ga4gh:VA.S41CcMJT2bcd8R4-qXZWH1PoHWNtG2PZ   \n",
       "\n",
       "                         Disease Therapeutic source  \\\n",
       "0  Lung Non-small Cell Carcinoma      337525  civic   \n",
       "1                  Skin Melanoma     1147220  civic   \n",
       "2  Lung Non-small Cell Carcinoma     1721560  civic   \n",
       "3  Lung Non-small Cell Carcinoma     1721560  civic   \n",
       "4  Lung Non-small Cell Carcinoma      337525  civic   \n",
       "\n",
       "                                           statement  \\\n",
       "0  (ga4gh:VA.sMA9h8fzDi0RvweMlxtD0_Oi8B-JZ1V-, pr...   \n",
       "1  (ga4gh:VA.j4XnsLZcdzDIYa5pvvXM7t1wn9OITr0L, pr...   \n",
       "2  (ga4gh:VA.sMA9h8fzDi0RvweMlxtD0_Oi8B-JZ1V-, pr...   \n",
       "3  (ga4gh:VA.sMA9h8fzDi0RvweMlxtD0_Oi8B-JZ1V-, pr...   \n",
       "4  (ga4gh:VA.S41CcMJT2bcd8R4-qXZWH1PoHWNtG2PZ, pr...   \n",
       "\n",
       "                                   statement_no_pred  \n",
       "0  (ga4gh:VA.sMA9h8fzDi0RvweMlxtD0_Oi8B-JZ1V-, 33...  \n",
       "1  (ga4gh:VA.j4XnsLZcdzDIYa5pvvXM7t1wn9OITr0L, 11...  \n",
       "2  (ga4gh:VA.sMA9h8fzDi0RvweMlxtD0_Oi8B-JZ1V-, 17...  \n",
       "3  (ga4gh:VA.sMA9h8fzDi0RvweMlxtD0_Oi8B-JZ1V-, 17...  \n",
       "4  (ga4gh:VA.S41CcMJT2bcd8R4-qXZWH1PoHWNtG2PZ, 33...  "
      ]
     },
     "execution_count": 87,
     "metadata": {},
     "output_type": "execute_result"
    }
   ],
   "source": [
    "# TODO: Make this whole section better and clean it up\n",
    "# TODO: Have this report both by all sources but by independent source\n",
    "\n",
    "data['statement_no_pred'] = data.apply(lambda row: (row['Variant'], row['Therapeutic'], row['Disease']), axis=1)\n",
    "data[0:5]"
   ]
  },
  {
   "cell_type": "code",
   "execution_count": 88,
   "metadata": {},
   "outputs": [
    {
     "data": {
      "text/html": [
       "<div>\n",
       "<style scoped>\n",
       "    .dataframe tbody tr th:only-of-type {\n",
       "        vertical-align: middle;\n",
       "    }\n",
       "\n",
       "    .dataframe tbody tr th {\n",
       "        vertical-align: top;\n",
       "    }\n",
       "\n",
       "    .dataframe thead th {\n",
       "        text-align: right;\n",
       "    }\n",
       "</style>\n",
       "<table border=\"1\" class=\"dataframe\">\n",
       "  <thead>\n",
       "    <tr style=\"text-align: right;\">\n",
       "      <th></th>\n",
       "      <th>KB</th>\n",
       "      <th># Concordant</th>\n",
       "      <th># Discordant</th>\n",
       "    </tr>\n",
       "  </thead>\n",
       "  <tbody>\n",
       "    <tr>\n",
       "      <th>0</th>\n",
       "      <td>All Sources</td>\n",
       "      <td>76</td>\n",
       "      <td>11</td>\n",
       "    </tr>\n",
       "  </tbody>\n",
       "</table>\n",
       "</div>"
      ],
      "text/plain": [
       "            KB  # Concordant  # Discordant\n",
       "0  All Sources            76            11"
      ]
     },
     "execution_count": 88,
     "metadata": {},
     "output_type": "execute_result"
    }
   ],
   "source": [
    "concordance_counts = data['statement_no_pred'].value_counts().rename_axis('Unique Statements').reset_index(name='counts')\n",
    "concordance_counts = concordance_counts[concordance_counts['counts']>1]\n",
    "\n",
    "concordance_counts['agreement'] = None\n",
    "for idx, row in concordance_counts.iterrows():\n",
    "    tdf = data[data['statement_no_pred']==(row['Unique Statements'])]\n",
    "    counts = count_predicate_occurrences(tdf)\n",
    "    concordance_counts.at[idx, 'agreement'] = calculate_agreement_metric(counts)\n",
    "\n",
    "concordance_counts\n",
    "\n",
    "concordance_counts['Concordance'] = concordance_counts['agreement'].apply(lambda x: x==1)\n",
    "graph = concordance_counts['Concordance'].value_counts().rename_axis('Concordance').reset_index(name='All Sources')\n",
    "graph\n",
    "# TODO: Clean up this graph, new_graph junk\n",
    "new_graph = {\n",
    "    'KB': ['All Sources'],\n",
    "    '# Concordant': [graph.loc[graph['Concordance'] == True, 'All Sources'].values[0]],\n",
    "    '# Discordant': [graph.loc[graph['Concordance'] == False, 'All Sources'].values[0]]\n",
    "}\n",
    "new_graph = pd.DataFrame(new_graph)\n",
    "new_graph"
   ]
  },
  {
   "cell_type": "code",
   "execution_count": 89,
   "metadata": {},
   "outputs": [
    {
     "data": {
      "application/vnd.plotly.v1+json": {
       "config": {
        "plotlyServerURL": "https://plot.ly"
       },
       "data": [
        {
         "marker": {
          "color": "#fefadd"
         },
         "name": "Concordant",
         "type": "bar",
         "width": [
          0.4
         ],
         "x": [
          "All Sources"
         ],
         "y": {
          "bdata": "TA==",
          "dtype": "i1"
         }
        },
        {
         "marker": {
          "color": "#def8d3"
         },
         "name": "Discordant",
         "type": "bar",
         "width": [
          0.4
         ],
         "x": [
          "All Sources"
         ],
         "y": {
          "bdata": "Cw==",
          "dtype": "i1"
         }
        }
       ],
       "layout": {
        "barmode": "stack",
        "legend": {
         "title": {
          "text": "Concordance"
         }
        },
        "template": {
         "data": {
          "bar": [
           {
            "error_x": {
             "color": "#2a3f5f"
            },
            "error_y": {
             "color": "#2a3f5f"
            },
            "marker": {
             "line": {
              "color": "#E5ECF6",
              "width": 0.5
             },
             "pattern": {
              "fillmode": "overlay",
              "size": 10,
              "solidity": 0.2
             }
            },
            "type": "bar"
           }
          ],
          "barpolar": [
           {
            "marker": {
             "line": {
              "color": "#E5ECF6",
              "width": 0.5
             },
             "pattern": {
              "fillmode": "overlay",
              "size": 10,
              "solidity": 0.2
             }
            },
            "type": "barpolar"
           }
          ],
          "carpet": [
           {
            "aaxis": {
             "endlinecolor": "#2a3f5f",
             "gridcolor": "white",
             "linecolor": "white",
             "minorgridcolor": "white",
             "startlinecolor": "#2a3f5f"
            },
            "baxis": {
             "endlinecolor": "#2a3f5f",
             "gridcolor": "white",
             "linecolor": "white",
             "minorgridcolor": "white",
             "startlinecolor": "#2a3f5f"
            },
            "type": "carpet"
           }
          ],
          "choropleth": [
           {
            "colorbar": {
             "outlinewidth": 0,
             "ticks": ""
            },
            "type": "choropleth"
           }
          ],
          "contour": [
           {
            "colorbar": {
             "outlinewidth": 0,
             "ticks": ""
            },
            "colorscale": [
             [
              0,
              "#0d0887"
             ],
             [
              0.1111111111111111,
              "#46039f"
             ],
             [
              0.2222222222222222,
              "#7201a8"
             ],
             [
              0.3333333333333333,
              "#9c179e"
             ],
             [
              0.4444444444444444,
              "#bd3786"
             ],
             [
              0.5555555555555556,
              "#d8576b"
             ],
             [
              0.6666666666666666,
              "#ed7953"
             ],
             [
              0.7777777777777778,
              "#fb9f3a"
             ],
             [
              0.8888888888888888,
              "#fdca26"
             ],
             [
              1,
              "#f0f921"
             ]
            ],
            "type": "contour"
           }
          ],
          "contourcarpet": [
           {
            "colorbar": {
             "outlinewidth": 0,
             "ticks": ""
            },
            "type": "contourcarpet"
           }
          ],
          "heatmap": [
           {
            "colorbar": {
             "outlinewidth": 0,
             "ticks": ""
            },
            "colorscale": [
             [
              0,
              "#0d0887"
             ],
             [
              0.1111111111111111,
              "#46039f"
             ],
             [
              0.2222222222222222,
              "#7201a8"
             ],
             [
              0.3333333333333333,
              "#9c179e"
             ],
             [
              0.4444444444444444,
              "#bd3786"
             ],
             [
              0.5555555555555556,
              "#d8576b"
             ],
             [
              0.6666666666666666,
              "#ed7953"
             ],
             [
              0.7777777777777778,
              "#fb9f3a"
             ],
             [
              0.8888888888888888,
              "#fdca26"
             ],
             [
              1,
              "#f0f921"
             ]
            ],
            "type": "heatmap"
           }
          ],
          "histogram": [
           {
            "marker": {
             "pattern": {
              "fillmode": "overlay",
              "size": 10,
              "solidity": 0.2
             }
            },
            "type": "histogram"
           }
          ],
          "histogram2d": [
           {
            "colorbar": {
             "outlinewidth": 0,
             "ticks": ""
            },
            "colorscale": [
             [
              0,
              "#0d0887"
             ],
             [
              0.1111111111111111,
              "#46039f"
             ],
             [
              0.2222222222222222,
              "#7201a8"
             ],
             [
              0.3333333333333333,
              "#9c179e"
             ],
             [
              0.4444444444444444,
              "#bd3786"
             ],
             [
              0.5555555555555556,
              "#d8576b"
             ],
             [
              0.6666666666666666,
              "#ed7953"
             ],
             [
              0.7777777777777778,
              "#fb9f3a"
             ],
             [
              0.8888888888888888,
              "#fdca26"
             ],
             [
              1,
              "#f0f921"
             ]
            ],
            "type": "histogram2d"
           }
          ],
          "histogram2dcontour": [
           {
            "colorbar": {
             "outlinewidth": 0,
             "ticks": ""
            },
            "colorscale": [
             [
              0,
              "#0d0887"
             ],
             [
              0.1111111111111111,
              "#46039f"
             ],
             [
              0.2222222222222222,
              "#7201a8"
             ],
             [
              0.3333333333333333,
              "#9c179e"
             ],
             [
              0.4444444444444444,
              "#bd3786"
             ],
             [
              0.5555555555555556,
              "#d8576b"
             ],
             [
              0.6666666666666666,
              "#ed7953"
             ],
             [
              0.7777777777777778,
              "#fb9f3a"
             ],
             [
              0.8888888888888888,
              "#fdca26"
             ],
             [
              1,
              "#f0f921"
             ]
            ],
            "type": "histogram2dcontour"
           }
          ],
          "mesh3d": [
           {
            "colorbar": {
             "outlinewidth": 0,
             "ticks": ""
            },
            "type": "mesh3d"
           }
          ],
          "parcoords": [
           {
            "line": {
             "colorbar": {
              "outlinewidth": 0,
              "ticks": ""
             }
            },
            "type": "parcoords"
           }
          ],
          "pie": [
           {
            "automargin": true,
            "type": "pie"
           }
          ],
          "scatter": [
           {
            "fillpattern": {
             "fillmode": "overlay",
             "size": 10,
             "solidity": 0.2
            },
            "type": "scatter"
           }
          ],
          "scatter3d": [
           {
            "line": {
             "colorbar": {
              "outlinewidth": 0,
              "ticks": ""
             }
            },
            "marker": {
             "colorbar": {
              "outlinewidth": 0,
              "ticks": ""
             }
            },
            "type": "scatter3d"
           }
          ],
          "scattercarpet": [
           {
            "marker": {
             "colorbar": {
              "outlinewidth": 0,
              "ticks": ""
             }
            },
            "type": "scattercarpet"
           }
          ],
          "scattergeo": [
           {
            "marker": {
             "colorbar": {
              "outlinewidth": 0,
              "ticks": ""
             }
            },
            "type": "scattergeo"
           }
          ],
          "scattergl": [
           {
            "marker": {
             "colorbar": {
              "outlinewidth": 0,
              "ticks": ""
             }
            },
            "type": "scattergl"
           }
          ],
          "scattermap": [
           {
            "marker": {
             "colorbar": {
              "outlinewidth": 0,
              "ticks": ""
             }
            },
            "type": "scattermap"
           }
          ],
          "scattermapbox": [
           {
            "marker": {
             "colorbar": {
              "outlinewidth": 0,
              "ticks": ""
             }
            },
            "type": "scattermapbox"
           }
          ],
          "scatterpolar": [
           {
            "marker": {
             "colorbar": {
              "outlinewidth": 0,
              "ticks": ""
             }
            },
            "type": "scatterpolar"
           }
          ],
          "scatterpolargl": [
           {
            "marker": {
             "colorbar": {
              "outlinewidth": 0,
              "ticks": ""
             }
            },
            "type": "scatterpolargl"
           }
          ],
          "scatterternary": [
           {
            "marker": {
             "colorbar": {
              "outlinewidth": 0,
              "ticks": ""
             }
            },
            "type": "scatterternary"
           }
          ],
          "surface": [
           {
            "colorbar": {
             "outlinewidth": 0,
             "ticks": ""
            },
            "colorscale": [
             [
              0,
              "#0d0887"
             ],
             [
              0.1111111111111111,
              "#46039f"
             ],
             [
              0.2222222222222222,
              "#7201a8"
             ],
             [
              0.3333333333333333,
              "#9c179e"
             ],
             [
              0.4444444444444444,
              "#bd3786"
             ],
             [
              0.5555555555555556,
              "#d8576b"
             ],
             [
              0.6666666666666666,
              "#ed7953"
             ],
             [
              0.7777777777777778,
              "#fb9f3a"
             ],
             [
              0.8888888888888888,
              "#fdca26"
             ],
             [
              1,
              "#f0f921"
             ]
            ],
            "type": "surface"
           }
          ],
          "table": [
           {
            "cells": {
             "fill": {
              "color": "#EBF0F8"
             },
             "line": {
              "color": "white"
             }
            },
            "header": {
             "fill": {
              "color": "#C8D4E3"
             },
             "line": {
              "color": "white"
             }
            },
            "type": "table"
           }
          ]
         },
         "layout": {
          "annotationdefaults": {
           "arrowcolor": "#2a3f5f",
           "arrowhead": 0,
           "arrowwidth": 1
          },
          "autotypenumbers": "strict",
          "coloraxis": {
           "colorbar": {
            "outlinewidth": 0,
            "ticks": ""
           }
          },
          "colorscale": {
           "diverging": [
            [
             0,
             "#8e0152"
            ],
            [
             0.1,
             "#c51b7d"
            ],
            [
             0.2,
             "#de77ae"
            ],
            [
             0.3,
             "#f1b6da"
            ],
            [
             0.4,
             "#fde0ef"
            ],
            [
             0.5,
             "#f7f7f7"
            ],
            [
             0.6,
             "#e6f5d0"
            ],
            [
             0.7,
             "#b8e186"
            ],
            [
             0.8,
             "#7fbc41"
            ],
            [
             0.9,
             "#4d9221"
            ],
            [
             1,
             "#276419"
            ]
           ],
           "sequential": [
            [
             0,
             "#0d0887"
            ],
            [
             0.1111111111111111,
             "#46039f"
            ],
            [
             0.2222222222222222,
             "#7201a8"
            ],
            [
             0.3333333333333333,
             "#9c179e"
            ],
            [
             0.4444444444444444,
             "#bd3786"
            ],
            [
             0.5555555555555556,
             "#d8576b"
            ],
            [
             0.6666666666666666,
             "#ed7953"
            ],
            [
             0.7777777777777778,
             "#fb9f3a"
            ],
            [
             0.8888888888888888,
             "#fdca26"
            ],
            [
             1,
             "#f0f921"
            ]
           ],
           "sequentialminus": [
            [
             0,
             "#0d0887"
            ],
            [
             0.1111111111111111,
             "#46039f"
            ],
            [
             0.2222222222222222,
             "#7201a8"
            ],
            [
             0.3333333333333333,
             "#9c179e"
            ],
            [
             0.4444444444444444,
             "#bd3786"
            ],
            [
             0.5555555555555556,
             "#d8576b"
            ],
            [
             0.6666666666666666,
             "#ed7953"
            ],
            [
             0.7777777777777778,
             "#fb9f3a"
            ],
            [
             0.8888888888888888,
             "#fdca26"
            ],
            [
             1,
             "#f0f921"
            ]
           ]
          },
          "colorway": [
           "#636efa",
           "#EF553B",
           "#00cc96",
           "#ab63fa",
           "#FFA15A",
           "#19d3f3",
           "#FF6692",
           "#B6E880",
           "#FF97FF",
           "#FECB52"
          ],
          "font": {
           "color": "#2a3f5f"
          },
          "geo": {
           "bgcolor": "white",
           "lakecolor": "white",
           "landcolor": "#E5ECF6",
           "showlakes": true,
           "showland": true,
           "subunitcolor": "white"
          },
          "hoverlabel": {
           "align": "left"
          },
          "hovermode": "closest",
          "mapbox": {
           "style": "light"
          },
          "paper_bgcolor": "white",
          "plot_bgcolor": "#E5ECF6",
          "polar": {
           "angularaxis": {
            "gridcolor": "white",
            "linecolor": "white",
            "ticks": ""
           },
           "bgcolor": "#E5ECF6",
           "radialaxis": {
            "gridcolor": "white",
            "linecolor": "white",
            "ticks": ""
           }
          },
          "scene": {
           "xaxis": {
            "backgroundcolor": "#E5ECF6",
            "gridcolor": "white",
            "gridwidth": 2,
            "linecolor": "white",
            "showbackground": true,
            "ticks": "",
            "zerolinecolor": "white"
           },
           "yaxis": {
            "backgroundcolor": "#E5ECF6",
            "gridcolor": "white",
            "gridwidth": 2,
            "linecolor": "white",
            "showbackground": true,
            "ticks": "",
            "zerolinecolor": "white"
           },
           "zaxis": {
            "backgroundcolor": "#E5ECF6",
            "gridcolor": "white",
            "gridwidth": 2,
            "linecolor": "white",
            "showbackground": true,
            "ticks": "",
            "zerolinecolor": "white"
           }
          },
          "shapedefaults": {
           "line": {
            "color": "#2a3f5f"
           }
          },
          "ternary": {
           "aaxis": {
            "gridcolor": "white",
            "linecolor": "white",
            "ticks": ""
           },
           "baxis": {
            "gridcolor": "white",
            "linecolor": "white",
            "ticks": ""
           },
           "bgcolor": "#E5ECF6",
           "caxis": {
            "gridcolor": "white",
            "linecolor": "white",
            "ticks": ""
           }
          },
          "title": {
           "x": 0.05
          },
          "xaxis": {
           "automargin": true,
           "gridcolor": "white",
           "linecolor": "white",
           "ticks": "",
           "title": {
            "standoff": 15
           },
           "zerolinecolor": "white",
           "zerolinewidth": 2
          },
          "yaxis": {
           "automargin": true,
           "gridcolor": "white",
           "linecolor": "white",
           "ticks": "",
           "title": {
            "standoff": 15
           },
           "zerolinecolor": "white",
           "zerolinewidth": 2
          }
         }
        },
        "title": {
         "text": "Concordance of Predicates in Variant Therapeutic Response Study Statements"
        },
        "xaxis": {
         "title": {
          "text": "KB"
         }
        },
        "yaxis": {
         "title": {
          "text": "# Statements"
         }
        }
       }
      }
     },
     "metadata": {},
     "output_type": "display_data"
    }
   ],
   "source": [
    "fig = go.Figure()\n",
    "\n",
    "colors = ['#fefadd','#def8d3','#a0e5e6','#48c1da','#1e97c7','#3459a9']\n",
    "\n",
    "\n",
    "fig.add_trace(go.Bar(\n",
    "    name='Concordant',\n",
    "    x=new_graph['KB'],\n",
    "    y=new_graph['# Concordant'],\n",
    "    marker_color=colors[0],\n",
    "    width=[0.4]\n",
    "))\n",
    "\n",
    "fig.add_trace(go.Bar(\n",
    "    name='Discordant',\n",
    "    x=new_graph['KB'],\n",
    "    y=new_graph['# Discordant'],\n",
    "    marker_color=colors[1],\n",
    "    width=[0.4]\n",
    "))\n",
    "\n",
    "fig.update_layout(\n",
    "    barmode='stack',\n",
    "    title='Concordance of Predicates in Variant Therapeutic Response Study Statements',\n",
    "    xaxis_title='KB',\n",
    "    yaxis_title='# Statements',\n",
    "    legend_title='Concordance'\n",
    ")\n",
    "\n",
    "fig.show()\n"
   ]
  },
  {
   "cell_type": "markdown",
   "metadata": {},
   "source": [
    "[Back to Top](#table-of-contents)\n"
   ]
  },
  {
   "cell_type": "markdown",
   "metadata": {},
   "source": [
    "## Variant Diagnostic Study Statements"
   ]
  },
  {
   "cell_type": "code",
   "execution_count": 197,
   "metadata": {},
   "outputs": [],
   "source": [
    "# TODO: Pull this in with an updated CDM"
   ]
  },
  {
   "cell_type": "markdown",
   "metadata": {},
   "source": [
    "[Back to Top](#table-of-contents)\n"
   ]
  },
  {
   "cell_type": "markdown",
   "metadata": {},
   "source": [
    "## Variant Oncogenicity Study Statements"
   ]
  },
  {
   "cell_type": "code",
   "execution_count": 198,
   "metadata": {},
   "outputs": [],
   "source": [
    "# TODO: This does not exist in the Neo4j yet"
   ]
  },
  {
   "cell_type": "markdown",
   "metadata": {},
   "source": [
    "[Back to Top](#table-of-contents)\n"
   ]
  },
  {
   "cell_type": "markdown",
   "metadata": {},
   "source": [
    "## Cohort Allele Frequency Study Statements"
   ]
  },
  {
   "cell_type": "code",
   "execution_count": 199,
   "metadata": {},
   "outputs": [],
   "source": [
    "# TODO: This does not exist in the Neo4j yet"
   ]
  },
  {
   "cell_type": "markdown",
   "metadata": {},
   "source": [
    "[Back to Top](#table-of-contents)\n"
   ]
  },
  {
   "cell_type": "markdown",
   "metadata": {},
   "source": [
    "## Experimental Variant Functional Impact Study Statements"
   ]
  },
  {
   "cell_type": "code",
   "execution_count": 200,
   "metadata": {},
   "outputs": [],
   "source": [
    "# TODO: This does not exist in the Neo4j yet"
   ]
  },
  {
   "cell_type": "markdown",
   "metadata": {},
   "source": [
    "[Back to Top](#table-of-contents)\n"
   ]
  },
  {
   "cell_type": "markdown",
   "metadata": {},
   "source": [
    "## Individual Concept Uniqueness"
   ]
  },
  {
   "cell_type": "markdown",
   "metadata": {},
   "source": [
    "### Diseases"
   ]
  },
  {
   "cell_type": "code",
   "execution_count": 16,
   "metadata": {},
   "outputs": [
    {
     "data": {
      "text/html": [
       "<div>\n",
       "<style scoped>\n",
       "    .dataframe tbody tr th:only-of-type {\n",
       "        vertical-align: middle;\n",
       "    }\n",
       "\n",
       "    .dataframe tbody tr th {\n",
       "        vertical-align: top;\n",
       "    }\n",
       "\n",
       "    .dataframe thead th {\n",
       "        text-align: right;\n",
       "    }\n",
       "</style>\n",
       "<table border=\"1\" class=\"dataframe\">\n",
       "  <thead>\n",
       "    <tr style=\"text-align: right;\">\n",
       "      <th></th>\n",
       "      <th>id</th>\n",
       "      <th>label</th>\n",
       "      <th>normalizer_id</th>\n",
       "      <th>source</th>\n",
       "    </tr>\n",
       "  </thead>\n",
       "  <tbody>\n",
       "    <tr>\n",
       "      <th>0</th>\n",
       "      <td>civic.did:3</td>\n",
       "      <td>Acute Myeloid Leukemia</td>\n",
       "      <td>C3171</td>\n",
       "      <td>civic</td>\n",
       "    </tr>\n",
       "    <tr>\n",
       "      <th>1</th>\n",
       "      <td>civic.did:8</td>\n",
       "      <td>Lung Non-small Cell Carcinoma</td>\n",
       "      <td>C2926</td>\n",
       "      <td>civic</td>\n",
       "    </tr>\n",
       "    <tr>\n",
       "      <th>2</th>\n",
       "      <td>civic.did:19</td>\n",
       "      <td>Glioblastoma</td>\n",
       "      <td>C3058</td>\n",
       "      <td>civic</td>\n",
       "    </tr>\n",
       "    <tr>\n",
       "      <th>3</th>\n",
       "      <td>civic.did:11</td>\n",
       "      <td>Colorectal Cancer</td>\n",
       "      <td>C4978</td>\n",
       "      <td>civic</td>\n",
       "    </tr>\n",
       "    <tr>\n",
       "      <th>4</th>\n",
       "      <td>civic.did:206</td>\n",
       "      <td>Skin Melanoma</td>\n",
       "      <td>C3510</td>\n",
       "      <td>civic</td>\n",
       "    </tr>\n",
       "    <tr>\n",
       "      <th>...</th>\n",
       "      <td>...</td>\n",
       "      <td>...</td>\n",
       "      <td>...</td>\n",
       "      <td>...</td>\n",
       "    </tr>\n",
       "    <tr>\n",
       "      <th>136</th>\n",
       "      <td>moa.normalize.disease.ncit:C60781</td>\n",
       "      <td>Astrocytoma</td>\n",
       "      <td>C60781</td>\n",
       "      <td>moa</td>\n",
       "    </tr>\n",
       "    <tr>\n",
       "      <th>137</th>\n",
       "      <td>moa.normalize.disease.oncotree:LGGNOS</td>\n",
       "      <td>Low-Grade Glioma, NOS</td>\n",
       "      <td>LGGNOS</td>\n",
       "      <td>moa</td>\n",
       "    </tr>\n",
       "    <tr>\n",
       "      <th>138</th>\n",
       "      <td>moa.normalize.disease.ncit:C3247</td>\n",
       "      <td>Myelodysplasia</td>\n",
       "      <td>C3247</td>\n",
       "      <td>moa</td>\n",
       "    </tr>\n",
       "    <tr>\n",
       "      <th>139</th>\n",
       "      <td>moa.normalize.disease.ncit:C3288</td>\n",
       "      <td>Oligodendroglioma</td>\n",
       "      <td>C3288</td>\n",
       "      <td>moa</td>\n",
       "    </tr>\n",
       "    <tr>\n",
       "      <th>140</th>\n",
       "      <td>moa.normalize.disease.ncit:C9245</td>\n",
       "      <td>Breast Invasive Ductal Carcinoma</td>\n",
       "      <td>C9245</td>\n",
       "      <td>moa</td>\n",
       "    </tr>\n",
       "  </tbody>\n",
       "</table>\n",
       "<p>141 rows × 4 columns</p>\n",
       "</div>"
      ],
      "text/plain": [
       "                                        id                             label  \\\n",
       "0                              civic.did:3            Acute Myeloid Leukemia   \n",
       "1                              civic.did:8     Lung Non-small Cell Carcinoma   \n",
       "2                             civic.did:19                      Glioblastoma   \n",
       "3                             civic.did:11                 Colorectal Cancer   \n",
       "4                            civic.did:206                     Skin Melanoma   \n",
       "..                                     ...                               ...   \n",
       "136      moa.normalize.disease.ncit:C60781                       Astrocytoma   \n",
       "137  moa.normalize.disease.oncotree:LGGNOS             Low-Grade Glioma, NOS   \n",
       "138       moa.normalize.disease.ncit:C3247                    Myelodysplasia   \n",
       "139       moa.normalize.disease.ncit:C3288                 Oligodendroglioma   \n",
       "140       moa.normalize.disease.ncit:C9245  Breast Invasive Ductal Carcinoma   \n",
       "\n",
       "    normalizer_id source  \n",
       "0           C3171  civic  \n",
       "1           C2926  civic  \n",
       "2           C3058  civic  \n",
       "3           C4978  civic  \n",
       "4           C3510  civic  \n",
       "..            ...    ...  \n",
       "136        C60781    moa  \n",
       "137        LGGNOS    moa  \n",
       "138         C3247    moa  \n",
       "139         C3288    moa  \n",
       "140         C9245    moa  \n",
       "\n",
       "[141 rows x 4 columns]"
      ]
     },
     "execution_count": 16,
     "metadata": {},
     "output_type": "execute_result"
    }
   ],
   "source": [
    "q_all_diseases = \"\"\"MATCH (s:Disease)\n",
    "    RETURN properties(s) AS Disease\n",
    "\"\"\"\n",
    "\n",
    "result = execute_query(q_all_diseases)\n",
    "\n",
    "data = []\n",
    "for record in result:\n",
    "    disease = record.get('Disease', {})\n",
    "    row = {\n",
    "        'id': disease.get('id', None),\n",
    "        'label': disease.get('label', None),\n",
    "        'normalizer_id': disease.get('normalizer_id', None)\n",
    "    }\n",
    "    data.append(row)\n",
    "\n",
    "\n",
    "df = pd.DataFrame(data)\n",
    "df['source'] = df['id'].apply(lambda x: x.split('.')[0])\n",
    "\n",
    "df"
   ]
  },
  {
   "cell_type": "code",
   "execution_count": 17,
   "metadata": {},
   "outputs": [
    {
     "name": "stderr",
     "output_type": "stream",
     "text": [
      "125it [00:00, 3843.67it/s]\n",
      "/Users/mjc014/.pyenv/versions/3.12.2/lib/python3.12/site-packages/upsetplot/plotting.py:795: FutureWarning: A value is trying to be set on a copy of a DataFrame or Series through chained assignment using an inplace method.\n",
      "The behavior will change in pandas 3.0. This inplace method will never work because the intermediate object on which we are setting values always behaves as a copy.\n",
      "\n",
      "For example, when doing 'df[col].method(value, inplace=True)', try using 'df.method({col: value}, inplace=True)' or df[col] = df[col].method(value) instead, to perform the operation inplace on the original object.\n",
      "\n",
      "\n",
      "  styles[\"linewidth\"].fillna(1, inplace=True)\n",
      "/Users/mjc014/.pyenv/versions/3.12.2/lib/python3.12/site-packages/upsetplot/plotting.py:796: FutureWarning: A value is trying to be set on a copy of a DataFrame or Series through chained assignment using an inplace method.\n",
      "The behavior will change in pandas 3.0. This inplace method will never work because the intermediate object on which we are setting values always behaves as a copy.\n",
      "\n",
      "For example, when doing 'df[col].method(value, inplace=True)', try using 'df.method({col: value}, inplace=True)' or df[col] = df[col].method(value) instead, to perform the operation inplace on the original object.\n",
      "\n",
      "\n",
      "  styles[\"facecolor\"].fillna(self._facecolor, inplace=True)\n",
      "/Users/mjc014/.pyenv/versions/3.12.2/lib/python3.12/site-packages/upsetplot/plotting.py:797: FutureWarning: A value is trying to be set on a copy of a DataFrame or Series through chained assignment using an inplace method.\n",
      "The behavior will change in pandas 3.0. This inplace method will never work because the intermediate object on which we are setting values always behaves as a copy.\n",
      "\n",
      "For example, when doing 'df[col].method(value, inplace=True)', try using 'df.method({col: value}, inplace=True)' or df[col] = df[col].method(value) instead, to perform the operation inplace on the original object.\n",
      "\n",
      "\n",
      "  styles[\"edgecolor\"].fillna(styles[\"facecolor\"], inplace=True)\n",
      "/Users/mjc014/.pyenv/versions/3.12.2/lib/python3.12/site-packages/upsetplot/plotting.py:798: FutureWarning: A value is trying to be set on a copy of a DataFrame or Series through chained assignment using an inplace method.\n",
      "The behavior will change in pandas 3.0. This inplace method will never work because the intermediate object on which we are setting values always behaves as a copy.\n",
      "\n",
      "For example, when doing 'df[col].method(value, inplace=True)', try using 'df.method({col: value}, inplace=True)' or df[col] = df[col].method(value) instead, to perform the operation inplace on the original object.\n",
      "\n",
      "\n",
      "  styles[\"linestyle\"].fillna(\"solid\", inplace=True)\n"
     ]
    },
    {
     "data": {
      "image/png": "[encoded data removed]",
      "text/plain": [
       "<Figure size 311.111x355.556 with 4 Axes>"
      ]
     },
     "metadata": {},
     "output_type": "display_data"
    }
   ],
   "source": [
    "# Initialize unique groups for identifying uniqueness\n",
    "unique_diseases = list(df['normalizer_id'].unique())\n",
    "\n",
    "diseases = pd.DataFrame({'normalizer_ids': unique_diseases,\n",
    "                                                'civic': None,\n",
    "                                                'moa': None})\n",
    "\n",
    "disease_uniqueness = calculate_uniqueness(diseases,df,'normalizer_id')\n",
    "disease_proportions = disease_uniqueness # Copy of the DF for later\n",
    "upset_data = format_for_upset(disease_uniqueness,'normalizer_id')\n",
    "plot(upset_data, show_counts=True)\n",
    "# plt.savefig('therapy_unique_upset_plot.png', dpi=300, format='png', bbox_inches='tight')\n",
    "plt.show()"
   ]
  },
  {
   "cell_type": "markdown",
   "metadata": {},
   "source": [
    "### Genes"
   ]
  },
  {
   "cell_type": "code",
   "execution_count": 18,
   "metadata": {},
   "outputs": [
    {
     "data": {
      "text/html": [
       "<div>\n",
       "<style scoped>\n",
       "    .dataframe tbody tr th:only-of-type {\n",
       "        vertical-align: middle;\n",
       "    }\n",
       "\n",
       "    .dataframe tbody tr th {\n",
       "        vertical-align: top;\n",
       "    }\n",
       "\n",
       "    .dataframe thead th {\n",
       "        text-align: right;\n",
       "    }\n",
       "</style>\n",
       "<table border=\"1\" class=\"dataframe\">\n",
       "  <thead>\n",
       "    <tr style=\"text-align: right;\">\n",
       "      <th></th>\n",
       "      <th>id</th>\n",
       "      <th>label</th>\n",
       "      <th>normalizer_id</th>\n",
       "      <th>source</th>\n",
       "    </tr>\n",
       "  </thead>\n",
       "  <tbody>\n",
       "    <tr>\n",
       "      <th>0</th>\n",
       "      <td>civic.gid:4244</td>\n",
       "      <td>ABCB1</td>\n",
       "      <td>HGNC:40</td>\n",
       "      <td>civic</td>\n",
       "    </tr>\n",
       "    <tr>\n",
       "      <th>1</th>\n",
       "      <td>civic.gid:7451</td>\n",
       "      <td>ABCG2</td>\n",
       "      <td>HGNC:74</td>\n",
       "      <td>civic</td>\n",
       "    </tr>\n",
       "    <tr>\n",
       "      <th>2</th>\n",
       "      <td>civic.gid:4</td>\n",
       "      <td>ABL1</td>\n",
       "      <td>HGNC:76</td>\n",
       "      <td>civic</td>\n",
       "    </tr>\n",
       "    <tr>\n",
       "      <th>3</th>\n",
       "      <td>civic.gid:101</td>\n",
       "      <td>ABL2</td>\n",
       "      <td>HGNC:77</td>\n",
       "      <td>civic</td>\n",
       "    </tr>\n",
       "    <tr>\n",
       "      <th>4</th>\n",
       "      <td>civic.gid:154</td>\n",
       "      <td>ACVR1</td>\n",
       "      <td>HGNC:171</td>\n",
       "      <td>civic</td>\n",
       "    </tr>\n",
       "    <tr>\n",
       "      <th>...</th>\n",
       "      <td>...</td>\n",
       "      <td>...</td>\n",
       "      <td>...</td>\n",
       "      <td>...</td>\n",
       "    </tr>\n",
       "    <tr>\n",
       "      <th>116</th>\n",
       "      <td>moa.normalize.gene.hgnc:9967</td>\n",
       "      <td>RET</td>\n",
       "      <td>HGNC:9967</td>\n",
       "      <td>moa</td>\n",
       "    </tr>\n",
       "    <tr>\n",
       "      <th>117</th>\n",
       "      <td>moa.normalize.gene.hgnc:15573</td>\n",
       "      <td>SETBP1</td>\n",
       "      <td>HGNC:15573</td>\n",
       "      <td>moa</td>\n",
       "    </tr>\n",
       "    <tr>\n",
       "      <th>118</th>\n",
       "      <td>moa.normalize.gene.hgnc:10768</td>\n",
       "      <td>SF3B1</td>\n",
       "      <td>HGNC:10768</td>\n",
       "      <td>moa</td>\n",
       "    </tr>\n",
       "    <tr>\n",
       "      <th>119</th>\n",
       "      <td>moa.normalize.gene.hgnc:10783</td>\n",
       "      <td>SRSF2</td>\n",
       "      <td>HGNC:10783</td>\n",
       "      <td>moa</td>\n",
       "    </tr>\n",
       "    <tr>\n",
       "      <th>120</th>\n",
       "      <td>moa.normalize.gene.hgnc:12453</td>\n",
       "      <td>U2AF1</td>\n",
       "      <td>HGNC:12453</td>\n",
       "      <td>moa</td>\n",
       "    </tr>\n",
       "  </tbody>\n",
       "</table>\n",
       "<p>121 rows × 4 columns</p>\n",
       "</div>"
      ],
      "text/plain": [
       "                                id   label normalizer_id source\n",
       "0                   civic.gid:4244   ABCB1       HGNC:40  civic\n",
       "1                   civic.gid:7451   ABCG2       HGNC:74  civic\n",
       "2                      civic.gid:4    ABL1       HGNC:76  civic\n",
       "3                    civic.gid:101    ABL2       HGNC:77  civic\n",
       "4                    civic.gid:154   ACVR1      HGNC:171  civic\n",
       "..                             ...     ...           ...    ...\n",
       "116   moa.normalize.gene.hgnc:9967     RET     HGNC:9967    moa\n",
       "117  moa.normalize.gene.hgnc:15573  SETBP1    HGNC:15573    moa\n",
       "118  moa.normalize.gene.hgnc:10768   SF3B1    HGNC:10768    moa\n",
       "119  moa.normalize.gene.hgnc:10783   SRSF2    HGNC:10783    moa\n",
       "120  moa.normalize.gene.hgnc:12453   U2AF1    HGNC:12453    moa\n",
       "\n",
       "[121 rows x 4 columns]"
      ]
     },
     "execution_count": 18,
     "metadata": {},
     "output_type": "execute_result"
    }
   ],
   "source": [
    "q_all_genes = \"\"\"MATCH (g:Gene)\n",
    "    RETURN properties(g) AS Gene\n",
    "\"\"\"\n",
    "\n",
    "result = execute_query(q_all_genes)\n",
    "\n",
    "data = []\n",
    "for record in result:\n",
    "    gene = record.get('Gene', {})\n",
    "    row = {\n",
    "        'id': gene.get('id', None),\n",
    "        'label': gene.get('label', None),\n",
    "        'normalizer_id': gene.get('normalizer_id', None)\n",
    "    }\n",
    "    data.append(row)\n",
    "\n",
    "df = pd.DataFrame(data)\n",
    "df['source'] = df['id'].apply(lambda x: x.split('.')[0])\n",
    "\n",
    "\n",
    "df"
   ]
  },
  {
   "cell_type": "code",
   "execution_count": 19,
   "metadata": {},
   "outputs": [
    {
     "name": "stderr",
     "output_type": "stream",
     "text": [
      "91it [00:00, 3360.29it/s]\n",
      "/Users/mjc014/.pyenv/versions/3.12.2/lib/python3.12/site-packages/upsetplot/plotting.py:795: FutureWarning: A value is trying to be set on a copy of a DataFrame or Series through chained assignment using an inplace method.\n",
      "The behavior will change in pandas 3.0. This inplace method will never work because the intermediate object on which we are setting values always behaves as a copy.\n",
      "\n",
      "For example, when doing 'df[col].method(value, inplace=True)', try using 'df.method({col: value}, inplace=True)' or df[col] = df[col].method(value) instead, to perform the operation inplace on the original object.\n",
      "\n",
      "\n",
      "  styles[\"linewidth\"].fillna(1, inplace=True)\n",
      "/Users/mjc014/.pyenv/versions/3.12.2/lib/python3.12/site-packages/upsetplot/plotting.py:796: FutureWarning: A value is trying to be set on a copy of a DataFrame or Series through chained assignment using an inplace method.\n",
      "The behavior will change in pandas 3.0. This inplace method will never work because the intermediate object on which we are setting values always behaves as a copy.\n",
      "\n",
      "For example, when doing 'df[col].method(value, inplace=True)', try using 'df.method({col: value}, inplace=True)' or df[col] = df[col].method(value) instead, to perform the operation inplace on the original object.\n",
      "\n",
      "\n",
      "  styles[\"facecolor\"].fillna(self._facecolor, inplace=True)\n",
      "/Users/mjc014/.pyenv/versions/3.12.2/lib/python3.12/site-packages/upsetplot/plotting.py:797: FutureWarning: A value is trying to be set on a copy of a DataFrame or Series through chained assignment using an inplace method.\n",
      "The behavior will change in pandas 3.0. This inplace method will never work because the intermediate object on which we are setting values always behaves as a copy.\n",
      "\n",
      "For example, when doing 'df[col].method(value, inplace=True)', try using 'df.method({col: value}, inplace=True)' or df[col] = df[col].method(value) instead, to perform the operation inplace on the original object.\n",
      "\n",
      "\n",
      "  styles[\"edgecolor\"].fillna(styles[\"facecolor\"], inplace=True)\n",
      "/Users/mjc014/.pyenv/versions/3.12.2/lib/python3.12/site-packages/upsetplot/plotting.py:798: FutureWarning: A value is trying to be set on a copy of a DataFrame or Series through chained assignment using an inplace method.\n",
      "The behavior will change in pandas 3.0. This inplace method will never work because the intermediate object on which we are setting values always behaves as a copy.\n",
      "\n",
      "For example, when doing 'df[col].method(value, inplace=True)', try using 'df.method({col: value}, inplace=True)' or df[col] = df[col].method(value) instead, to perform the operation inplace on the original object.\n",
      "\n",
      "\n",
      "  styles[\"linestyle\"].fillna(\"solid\", inplace=True)\n"
     ]
    },
    {
     "data": {
      "image/png": "[encoded data removed]",
      "text/plain": [
       "<Figure size 311.111x355.556 with 4 Axes>"
      ]
     },
     "metadata": {},
     "output_type": "display_data"
    }
   ],
   "source": [
    "# Initialize unique groups for identifying uniqueness\n",
    "unique_genes = list(df['normalizer_id'].unique())\n",
    "\n",
    "genes = pd.DataFrame({'normalizer_ids': unique_genes,\n",
    "                                                'civic': None,\n",
    "                                                'moa': None})\n",
    "\n",
    "gene_uniqueness = calculate_uniqueness(genes,df,'normalizer_id')\n",
    "gene_proportions = gene_uniqueness # Copy of the DF for later\n",
    "upset_data = format_for_upset(gene_uniqueness,'normalizer_id')\n",
    "plot(upset_data, show_counts=True)\n",
    "# plt.savefig('therapy_unique_upset_plot.png', dpi=300, format='png', bbox_inches='tight')\n",
    "plt.show()"
   ]
  },
  {
   "cell_type": "markdown",
   "metadata": {},
   "source": [
    "### Therapies"
   ]
  },
  {
   "cell_type": "code",
   "execution_count": 20,
   "metadata": {},
   "outputs": [
    {
     "data": {
      "text/html": [
       "<div>\n",
       "<style scoped>\n",
       "    .dataframe tbody tr th:only-of-type {\n",
       "        vertical-align: middle;\n",
       "    }\n",
       "\n",
       "    .dataframe tbody tr th {\n",
       "        vertical-align: top;\n",
       "    }\n",
       "\n",
       "    .dataframe thead th {\n",
       "        text-align: right;\n",
       "    }\n",
       "</style>\n",
       "<table border=\"1\" class=\"dataframe\">\n",
       "  <thead>\n",
       "    <tr style=\"text-align: right;\">\n",
       "      <th></th>\n",
       "      <th>id</th>\n",
       "      <th>label</th>\n",
       "      <th>groupType</th>\n",
       "      <th>normalizer_id</th>\n",
       "      <th>source</th>\n",
       "    </tr>\n",
       "  </thead>\n",
       "  <tbody>\n",
       "    <tr>\n",
       "      <th>0</th>\n",
       "      <td>civic.tid:15</td>\n",
       "      <td>Erlotinib</td>\n",
       "      <td>SingleAgent</td>\n",
       "      <td>337525</td>\n",
       "      <td>civic</td>\n",
       "    </tr>\n",
       "    <tr>\n",
       "      <th>1</th>\n",
       "      <td>civic.tid:11</td>\n",
       "      <td>Temozolomide</td>\n",
       "      <td>SingleAgent</td>\n",
       "      <td>37776</td>\n",
       "      <td>civic</td>\n",
       "    </tr>\n",
       "    <tr>\n",
       "      <th>2</th>\n",
       "      <td>civic.tid:16</td>\n",
       "      <td>Cetuximab</td>\n",
       "      <td>SingleAgent</td>\n",
       "      <td>318341</td>\n",
       "      <td>civic</td>\n",
       "    </tr>\n",
       "    <tr>\n",
       "      <th>3</th>\n",
       "      <td>civic.tid:4</td>\n",
       "      <td>Vemurafenib</td>\n",
       "      <td>SingleAgent</td>\n",
       "      <td>1147220</td>\n",
       "      <td>civic</td>\n",
       "    </tr>\n",
       "    <tr>\n",
       "      <th>4</th>\n",
       "      <td>civic.tid:19</td>\n",
       "      <td>Trametinib</td>\n",
       "      <td>SingleAgent</td>\n",
       "      <td>1425098</td>\n",
       "      <td>civic</td>\n",
       "    </tr>\n",
       "    <tr>\n",
       "      <th>...</th>\n",
       "      <td>...</td>\n",
       "      <td>...</td>\n",
       "      <td>...</td>\n",
       "      <td>...</td>\n",
       "      <td>...</td>\n",
       "    </tr>\n",
       "    <tr>\n",
       "      <th>324</th>\n",
       "      <td>moa.normalize.therapy.rxcui:2690647</td>\n",
       "      <td>Vorasidenib</td>\n",
       "      <td>SingleAgent</td>\n",
       "      <td>2690647</td>\n",
       "      <td>moa</td>\n",
       "    </tr>\n",
       "    <tr>\n",
       "      <th>325</th>\n",
       "      <td>moa.ctid:1TlyFhyafDojGZE0YzD6rCobJzbDaPUI</td>\n",
       "      <td>None</td>\n",
       "      <td>CombinationTherapy</td>\n",
       "      <td>None</td>\n",
       "      <td>moa</td>\n",
       "    </tr>\n",
       "    <tr>\n",
       "      <th>326</th>\n",
       "      <td>moa.normalize.therapy.rxcui:2691150</td>\n",
       "      <td>Lazertinib</td>\n",
       "      <td>SingleAgent</td>\n",
       "      <td>2691150</td>\n",
       "      <td>moa</td>\n",
       "    </tr>\n",
       "    <tr>\n",
       "      <th>327</th>\n",
       "      <td>moa.normalize.therapy.rxcui:2584304</td>\n",
       "      <td>Asciminib</td>\n",
       "      <td>SingleAgent</td>\n",
       "      <td>2584304</td>\n",
       "      <td>moa</td>\n",
       "    </tr>\n",
       "    <tr>\n",
       "      <th>328</th>\n",
       "      <td>moa.ctid:w1gIQ-D9PmBMICf8fj7R0985sBjxxUxZ</td>\n",
       "      <td>None</td>\n",
       "      <td>CombinationTherapy</td>\n",
       "      <td>None</td>\n",
       "      <td>moa</td>\n",
       "    </tr>\n",
       "  </tbody>\n",
       "</table>\n",
       "<p>329 rows × 5 columns</p>\n",
       "</div>"
      ],
      "text/plain": [
       "                                            id         label  \\\n",
       "0                                 civic.tid:15     Erlotinib   \n",
       "1                                 civic.tid:11  Temozolomide   \n",
       "2                                 civic.tid:16     Cetuximab   \n",
       "3                                  civic.tid:4   Vemurafenib   \n",
       "4                                 civic.tid:19    Trametinib   \n",
       "..                                         ...           ...   \n",
       "324        moa.normalize.therapy.rxcui:2690647   Vorasidenib   \n",
       "325  moa.ctid:1TlyFhyafDojGZE0YzD6rCobJzbDaPUI          None   \n",
       "326        moa.normalize.therapy.rxcui:2691150    Lazertinib   \n",
       "327        moa.normalize.therapy.rxcui:2584304     Asciminib   \n",
       "328  moa.ctid:w1gIQ-D9PmBMICf8fj7R0985sBjxxUxZ          None   \n",
       "\n",
       "              groupType normalizer_id source  \n",
       "0           SingleAgent        337525  civic  \n",
       "1           SingleAgent         37776  civic  \n",
       "2           SingleAgent        318341  civic  \n",
       "3           SingleAgent       1147220  civic  \n",
       "4           SingleAgent       1425098  civic  \n",
       "..                  ...           ...    ...  \n",
       "324         SingleAgent       2690647    moa  \n",
       "325  CombinationTherapy          None    moa  \n",
       "326         SingleAgent       2691150    moa  \n",
       "327         SingleAgent       2584304    moa  \n",
       "328  CombinationTherapy          None    moa  \n",
       "\n",
       "[329 rows x 5 columns]"
      ]
     },
     "execution_count": 20,
     "metadata": {},
     "output_type": "execute_result"
    }
   ],
   "source": [
    "q_all_therapies = \"\"\"MATCH (t:Therapy) RETURN properties(t) AS Therapy\n",
    "\"\"\"\n",
    "\n",
    "result = execute_query(q_all_therapies)\n",
    "\n",
    "data = []\n",
    "for record in result:\n",
    "    therapy = record.get('Therapy', {})\n",
    "    if 'groupType' in therapy.keys():\n",
    "        row = {\n",
    "            'id': therapy.get('id', None),\n",
    "            'label': None,\n",
    "            'groupType': therapy.get('groupType', None),\n",
    "            'normalizer_id': None\n",
    "        }\n",
    "    else:\n",
    "        row = {\n",
    "            'id': therapy.get('id', None),\n",
    "            'label': therapy.get('label', None),\n",
    "            'groupType': 'SingleAgent',\n",
    "            'normalizer_id': therapy.get('normalizer_id', None)\n",
    "        }\n",
    "    data.append(row)\n",
    "df = pd.DataFrame(data)\n",
    "df['source'] = df['id'].apply(lambda x: x.split('.')[0])\n",
    "\n",
    "df\n"
   ]
  },
  {
   "cell_type": "code",
   "execution_count": 21,
   "metadata": {},
   "outputs": [
    {
     "name": "stderr",
     "output_type": "stream",
     "text": [
      "174it [00:00, 3369.73it/s]\n",
      "/Users/mjc014/.pyenv/versions/3.12.2/lib/python3.12/site-packages/upsetplot/plotting.py:795: FutureWarning: A value is trying to be set on a copy of a DataFrame or Series through chained assignment using an inplace method.\n",
      "The behavior will change in pandas 3.0. This inplace method will never work because the intermediate object on which we are setting values always behaves as a copy.\n",
      "\n",
      "For example, when doing 'df[col].method(value, inplace=True)', try using 'df.method({col: value}, inplace=True)' or df[col] = df[col].method(value) instead, to perform the operation inplace on the original object.\n",
      "\n",
      "\n",
      "  styles[\"linewidth\"].fillna(1, inplace=True)\n",
      "/Users/mjc014/.pyenv/versions/3.12.2/lib/python3.12/site-packages/upsetplot/plotting.py:796: FutureWarning: A value is trying to be set on a copy of a DataFrame or Series through chained assignment using an inplace method.\n",
      "The behavior will change in pandas 3.0. This inplace method will never work because the intermediate object on which we are setting values always behaves as a copy.\n",
      "\n",
      "For example, when doing 'df[col].method(value, inplace=True)', try using 'df.method({col: value}, inplace=True)' or df[col] = df[col].method(value) instead, to perform the operation inplace on the original object.\n",
      "\n",
      "\n",
      "  styles[\"facecolor\"].fillna(self._facecolor, inplace=True)\n",
      "/Users/mjc014/.pyenv/versions/3.12.2/lib/python3.12/site-packages/upsetplot/plotting.py:797: FutureWarning: A value is trying to be set on a copy of a DataFrame or Series through chained assignment using an inplace method.\n",
      "The behavior will change in pandas 3.0. This inplace method will never work because the intermediate object on which we are setting values always behaves as a copy.\n",
      "\n",
      "For example, when doing 'df[col].method(value, inplace=True)', try using 'df.method({col: value}, inplace=True)' or df[col] = df[col].method(value) instead, to perform the operation inplace on the original object.\n",
      "\n",
      "\n",
      "  styles[\"edgecolor\"].fillna(styles[\"facecolor\"], inplace=True)\n",
      "/Users/mjc014/.pyenv/versions/3.12.2/lib/python3.12/site-packages/upsetplot/plotting.py:798: FutureWarning: A value is trying to be set on a copy of a DataFrame or Series through chained assignment using an inplace method.\n",
      "The behavior will change in pandas 3.0. This inplace method will never work because the intermediate object on which we are setting values always behaves as a copy.\n",
      "\n",
      "For example, when doing 'df[col].method(value, inplace=True)', try using 'df.method({col: value}, inplace=True)' or df[col] = df[col].method(value) instead, to perform the operation inplace on the original object.\n",
      "\n",
      "\n",
      "  styles[\"linestyle\"].fillna(\"solid\", inplace=True)\n"
     ]
    },
    {
     "data": {
      "image/png": "[encoded data removed]",
      "text/plain": [
       "<Figure size 311.111x355.556 with 4 Axes>"
      ]
     },
     "metadata": {},
     "output_type": "display_data"
    }
   ],
   "source": [
    "# Separate out Combination Therapies\n",
    "data = df[df['groupType']=='SingleAgent']\n",
    "\n",
    "# Initialize unique groups for identifying uniqueness\n",
    "unique_therapeutic = list(data['normalizer_id'].unique())\n",
    "\n",
    "therapeutics = pd.DataFrame({'normalizer_ids': unique_therapeutic,\n",
    "                                                'civic': None,\n",
    "                                                'moa': None})\n",
    "\n",
    "therapy_uniqueness = calculate_uniqueness(therapeutics,data,'normalizer_id')\n",
    "therapy_proportions = therapy_uniqueness # Copy of the DF for later\n",
    "upset_data = format_for_upset(therapy_uniqueness,'normalizer_id')\n",
    "plot(upset_data, show_counts=True)\n",
    "# plt.savefig('therapy_unique_upset_plot.png', dpi=300, format='png', bbox_inches='tight')\n",
    "plt.show()\n"
   ]
  },
  {
   "cell_type": "markdown",
   "metadata": {},
   "source": [
    "### Variants"
   ]
  },
  {
   "cell_type": "code",
   "execution_count": 22,
   "metadata": {},
   "outputs": [
    {
     "data": {
      "text/html": [
       "<div>\n",
       "<style scoped>\n",
       "    .dataframe tbody tr th:only-of-type {\n",
       "        vertical-align: middle;\n",
       "    }\n",
       "\n",
       "    .dataframe tbody tr th {\n",
       "        vertical-align: top;\n",
       "    }\n",
       "\n",
       "    .dataframe thead th {\n",
       "        text-align: right;\n",
       "    }\n",
       "</style>\n",
       "<table border=\"1\" class=\"dataframe\">\n",
       "  <thead>\n",
       "    <tr style=\"text-align: right;\">\n",
       "      <th></th>\n",
       "      <th>cat_id</th>\n",
       "      <th>cat_label</th>\n",
       "      <th>cat_variant_type</th>\n",
       "      <th>cat_aliases</th>\n",
       "      <th>allele_id</th>\n",
       "      <th>allele_label</th>\n",
       "      <th>source</th>\n",
       "    </tr>\n",
       "  </thead>\n",
       "  <tbody>\n",
       "    <tr>\n",
       "      <th>0</th>\n",
       "      <td>civic.mpid:951</td>\n",
       "      <td>KIT D579del</td>\n",
       "      <td>[{\"id\": \"SO:0001825\", \"label\": \"conservative_i...</td>\n",
       "      <td>[\"ASP579DEL\"]</td>\n",
       "      <td>ga4gh:VA.9nu3YQ_Pi3fTdyJJEI4RBgRvMd17B_DL</td>\n",
       "      <td>D579del</td>\n",
       "      <td>civic</td>\n",
       "    </tr>\n",
       "    <tr>\n",
       "      <th>1</th>\n",
       "      <td>civic.mpid:966</td>\n",
       "      <td>BRAF G469A</td>\n",
       "      <td>[{\"id\": \"SO:0001583\", \"label\": \"missense_varia...</td>\n",
       "      <td>[\"GLY469ALA\"]</td>\n",
       "      <td>ga4gh:VA.G9qFC7EGgPP3NnedaubgQktxNd-vilZD</td>\n",
       "      <td>G469A</td>\n",
       "      <td>civic</td>\n",
       "    </tr>\n",
       "    <tr>\n",
       "      <th>2</th>\n",
       "      <td>civic.mpid:973</td>\n",
       "      <td>EGFR G719A</td>\n",
       "      <td>[{\"id\": \"SO:0001583\", \"label\": \"missense_varia...</td>\n",
       "      <td>[\"GLY719ALA\"]</td>\n",
       "      <td>ga4gh:VA.DkV6ap7GeZ4vsV44rvC_J-L8q4zuwFVa</td>\n",
       "      <td>G719A</td>\n",
       "      <td>civic</td>\n",
       "    </tr>\n",
       "    <tr>\n",
       "      <th>3</th>\n",
       "      <td>civic.mpid:1080</td>\n",
       "      <td>BRAF G464V</td>\n",
       "      <td>[{\"id\": \"SO:0001583\", \"label\": \"missense_varia...</td>\n",
       "      <td>[\"GLY464VAL\"]</td>\n",
       "      <td>ga4gh:VA.ZW1uZLxfoQiVJZ7zBirH-IGd2GwCK-xp</td>\n",
       "      <td>G464V</td>\n",
       "      <td>civic</td>\n",
       "    </tr>\n",
       "    <tr>\n",
       "      <th>4</th>\n",
       "      <td>civic.mpid:1152</td>\n",
       "      <td>PIK3CA R93W</td>\n",
       "      <td>[{\"id\": \"SO:0001583\", \"label\": \"missense_varia...</td>\n",
       "      <td>[\"ARG93TRP\"]</td>\n",
       "      <td>ga4gh:VA.qZEHGjpMxRDcP8EtowQPhBSwvg_qDnSS</td>\n",
       "      <td>R93W</td>\n",
       "      <td>civic</td>\n",
       "    </tr>\n",
       "    <tr>\n",
       "      <th>...</th>\n",
       "      <td>...</td>\n",
       "      <td>...</td>\n",
       "      <td>...</td>\n",
       "      <td>...</td>\n",
       "      <td>...</td>\n",
       "      <td>...</td>\n",
       "      <td>...</td>\n",
       "    </tr>\n",
       "    <tr>\n",
       "      <th>574</th>\n",
       "      <td>civic.mpid:867</td>\n",
       "      <td>NRAS Q61H</td>\n",
       "      <td>[{\"id\": \"SO:0001583\", \"label\": \"missense_varia...</td>\n",
       "      <td>[\"GLN61HIS\"]</td>\n",
       "      <td>ga4gh:VA.sUQrnY4jvb7whQHgnS6rkx08Lb44wowM</td>\n",
       "      <td>Q61H</td>\n",
       "      <td>civic</td>\n",
       "    </tr>\n",
       "    <tr>\n",
       "      <th>575</th>\n",
       "      <td>civic.mpid:870</td>\n",
       "      <td>NRAS G13R</td>\n",
       "      <td>[{\"id\": \"SO:0001583\", \"label\": \"missense_varia...</td>\n",
       "      <td>[\"GLY13ARG\"]</td>\n",
       "      <td>ga4gh:VA.B7zZTxypiwSWZpc4LASs-CZL50acW3wA</td>\n",
       "      <td>G13R</td>\n",
       "      <td>civic</td>\n",
       "    </tr>\n",
       "    <tr>\n",
       "      <th>576</th>\n",
       "      <td>civic.mpid:923</td>\n",
       "      <td>KIT K550_K558del</td>\n",
       "      <td>[{\"id\": \"SO:0001822\", \"label\": \"inframe_deleti...</td>\n",
       "      <td>[\"KPMYEVQWK550-558DEL\"]</td>\n",
       "      <td>ga4gh:VA.nzSpvSgC8dJnQKVhJNMSfnbQyRtkwXwn</td>\n",
       "      <td>K550_K558del</td>\n",
       "      <td>civic</td>\n",
       "    </tr>\n",
       "    <tr>\n",
       "      <th>577</th>\n",
       "      <td>civic.mpid:938</td>\n",
       "      <td>KIT K558_V559del</td>\n",
       "      <td>None</td>\n",
       "      <td>None</td>\n",
       "      <td>ga4gh:VA.gYpuC4qY7vTVRpSq9feuE3_LFR8l2NZN</td>\n",
       "      <td>K558_V559del</td>\n",
       "      <td>civic</td>\n",
       "    </tr>\n",
       "    <tr>\n",
       "      <th>578</th>\n",
       "      <td>civic.mpid:946</td>\n",
       "      <td>KIT V560G</td>\n",
       "      <td>[{\"id\": \"SO:0001583\", \"label\": \"missense_varia...</td>\n",
       "      <td>[\"VAL560GLY\"]</td>\n",
       "      <td>ga4gh:VA.UacbHqxOkMpOchUT0DLVp6_EegiK-dov</td>\n",
       "      <td>V560G</td>\n",
       "      <td>civic</td>\n",
       "    </tr>\n",
       "  </tbody>\n",
       "</table>\n",
       "<p>579 rows × 7 columns</p>\n",
       "</div>"
      ],
      "text/plain": [
       "              cat_id         cat_label  \\\n",
       "0     civic.mpid:951       KIT D579del   \n",
       "1     civic.mpid:966        BRAF G469A   \n",
       "2     civic.mpid:973        EGFR G719A   \n",
       "3    civic.mpid:1080        BRAF G464V   \n",
       "4    civic.mpid:1152       PIK3CA R93W   \n",
       "..               ...               ...   \n",
       "574   civic.mpid:867         NRAS Q61H   \n",
       "575   civic.mpid:870         NRAS G13R   \n",
       "576   civic.mpid:923  KIT K550_K558del   \n",
       "577   civic.mpid:938  KIT K558_V559del   \n",
       "578   civic.mpid:946         KIT V560G   \n",
       "\n",
       "                                      cat_variant_type  \\\n",
       "0    [{\"id\": \"SO:0001825\", \"label\": \"conservative_i...   \n",
       "1    [{\"id\": \"SO:0001583\", \"label\": \"missense_varia...   \n",
       "2    [{\"id\": \"SO:0001583\", \"label\": \"missense_varia...   \n",
       "3    [{\"id\": \"SO:0001583\", \"label\": \"missense_varia...   \n",
       "4    [{\"id\": \"SO:0001583\", \"label\": \"missense_varia...   \n",
       "..                                                 ...   \n",
       "574  [{\"id\": \"SO:0001583\", \"label\": \"missense_varia...   \n",
       "575  [{\"id\": \"SO:0001583\", \"label\": \"missense_varia...   \n",
       "576  [{\"id\": \"SO:0001822\", \"label\": \"inframe_deleti...   \n",
       "577                                               None   \n",
       "578  [{\"id\": \"SO:0001583\", \"label\": \"missense_varia...   \n",
       "\n",
       "                 cat_aliases                                  allele_id  \\\n",
       "0              [\"ASP579DEL\"]  ga4gh:VA.9nu3YQ_Pi3fTdyJJEI4RBgRvMd17B_DL   \n",
       "1              [\"GLY469ALA\"]  ga4gh:VA.G9qFC7EGgPP3NnedaubgQktxNd-vilZD   \n",
       "2              [\"GLY719ALA\"]  ga4gh:VA.DkV6ap7GeZ4vsV44rvC_J-L8q4zuwFVa   \n",
       "3              [\"GLY464VAL\"]  ga4gh:VA.ZW1uZLxfoQiVJZ7zBirH-IGd2GwCK-xp   \n",
       "4               [\"ARG93TRP\"]  ga4gh:VA.qZEHGjpMxRDcP8EtowQPhBSwvg_qDnSS   \n",
       "..                       ...                                        ...   \n",
       "574             [\"GLN61HIS\"]  ga4gh:VA.sUQrnY4jvb7whQHgnS6rkx08Lb44wowM   \n",
       "575             [\"GLY13ARG\"]  ga4gh:VA.B7zZTxypiwSWZpc4LASs-CZL50acW3wA   \n",
       "576  [\"KPMYEVQWK550-558DEL\"]  ga4gh:VA.nzSpvSgC8dJnQKVhJNMSfnbQyRtkwXwn   \n",
       "577                     None  ga4gh:VA.gYpuC4qY7vTVRpSq9feuE3_LFR8l2NZN   \n",
       "578            [\"VAL560GLY\"]  ga4gh:VA.UacbHqxOkMpOchUT0DLVp6_EegiK-dov   \n",
       "\n",
       "     allele_label source  \n",
       "0         D579del  civic  \n",
       "1           G469A  civic  \n",
       "2           G719A  civic  \n",
       "3           G464V  civic  \n",
       "4            R93W  civic  \n",
       "..            ...    ...  \n",
       "574          Q61H  civic  \n",
       "575          G13R  civic  \n",
       "576  K550_K558del  civic  \n",
       "577  K558_V559del  civic  \n",
       "578         V560G  civic  \n",
       "\n",
       "[579 rows x 7 columns]"
      ]
     },
     "execution_count": 22,
     "metadata": {},
     "output_type": "execute_result"
    }
   ],
   "source": [
    "q_all_categorical_variants = \"\"\"MATCH (c:CategoricalVariant)\n",
    "MATCH (c)-[:HAS_DEFINING_CONTEXT]-(a:Allele) \n",
    "RETURN properties(c) AS CategoricalVariant, properties(a) AS Allele\n",
    "\"\"\"\n",
    "\n",
    "result = execute_query(q_all_categorical_variants)\n",
    "\n",
    "data = []\n",
    "for record in result:\n",
    "    categorical_variant = record.get('CategoricalVariant', {})\n",
    "    variant_allele = record.get('Allele', {})\n",
    "    row = {\n",
    "        'cat_id': categorical_variant.get('id', None),\n",
    "        'cat_label': categorical_variant.get('label', None),\n",
    "        'cat_variant_type': categorical_variant.get('variant_types', None),\n",
    "        'cat_aliases': categorical_variant.get('aliases', None),\n",
    "        'allele_id': variant_allele.get('id', None),\n",
    "        'allele_label': variant_allele.get('label', None)\n",
    "    }\n",
    "    data.append(row)\n",
    "\n",
    "df = pd.DataFrame(data)\n",
    "df['source'] = df['cat_id'].apply(lambda x: x.split('.')[0])\n",
    "\n",
    "df\n"
   ]
  },
  {
   "cell_type": "code",
   "execution_count": 23,
   "metadata": {},
   "outputs": [
    {
     "name": "stderr",
     "output_type": "stream",
     "text": [
      "525it [00:00, 2923.65it/s]\n",
      "/Users/mjc014/.pyenv/versions/3.12.2/lib/python3.12/site-packages/upsetplot/plotting.py:795: FutureWarning: A value is trying to be set on a copy of a DataFrame or Series through chained assignment using an inplace method.\n",
      "The behavior will change in pandas 3.0. This inplace method will never work because the intermediate object on which we are setting values always behaves as a copy.\n",
      "\n",
      "For example, when doing 'df[col].method(value, inplace=True)', try using 'df.method({col: value}, inplace=True)' or df[col] = df[col].method(value) instead, to perform the operation inplace on the original object.\n",
      "\n",
      "\n",
      "  styles[\"linewidth\"].fillna(1, inplace=True)\n",
      "/Users/mjc014/.pyenv/versions/3.12.2/lib/python3.12/site-packages/upsetplot/plotting.py:796: FutureWarning: A value is trying to be set on a copy of a DataFrame or Series through chained assignment using an inplace method.\n",
      "The behavior will change in pandas 3.0. This inplace method will never work because the intermediate object on which we are setting values always behaves as a copy.\n",
      "\n",
      "For example, when doing 'df[col].method(value, inplace=True)', try using 'df.method({col: value}, inplace=True)' or df[col] = df[col].method(value) instead, to perform the operation inplace on the original object.\n",
      "\n",
      "\n",
      "  styles[\"facecolor\"].fillna(self._facecolor, inplace=True)\n",
      "/Users/mjc014/.pyenv/versions/3.12.2/lib/python3.12/site-packages/upsetplot/plotting.py:797: FutureWarning: A value is trying to be set on a copy of a DataFrame or Series through chained assignment using an inplace method.\n",
      "The behavior will change in pandas 3.0. This inplace method will never work because the intermediate object on which we are setting values always behaves as a copy.\n",
      "\n",
      "For example, when doing 'df[col].method(value, inplace=True)', try using 'df.method({col: value}, inplace=True)' or df[col] = df[col].method(value) instead, to perform the operation inplace on the original object.\n",
      "\n",
      "\n",
      "  styles[\"edgecolor\"].fillna(styles[\"facecolor\"], inplace=True)\n",
      "/Users/mjc014/.pyenv/versions/3.12.2/lib/python3.12/site-packages/upsetplot/plotting.py:798: FutureWarning: A value is trying to be set on a copy of a DataFrame or Series through chained assignment using an inplace method.\n",
      "The behavior will change in pandas 3.0. This inplace method will never work because the intermediate object on which we are setting values always behaves as a copy.\n",
      "\n",
      "For example, when doing 'df[col].method(value, inplace=True)', try using 'df.method({col: value}, inplace=True)' or df[col] = df[col].method(value) instead, to perform the operation inplace on the original object.\n",
      "\n",
      "\n",
      "  styles[\"linestyle\"].fillna(\"solid\", inplace=True)\n"
     ]
    },
    {
     "data": {
      "image/png": "[encoded data removed]",
      "text/plain": [
       "<Figure size 311.111x355.556 with 4 Axes>"
      ]
     },
     "metadata": {},
     "output_type": "display_data"
    }
   ],
   "source": [
    "# Initialize unique groups for identifying uniqueness\n",
    "unique_variant = list(df['allele_id'].unique())\n",
    "\n",
    "variants = pd.DataFrame({'allele_ids': unique_variant,\n",
    "                                                'civic': None,\n",
    "                                                'moa': None})\n",
    "\n",
    "variant_uniqueness = calculate_uniqueness(variants,df,'allele_id')\n",
    "variant_proportions = variant_uniqueness # Copy of the DF for later\n",
    "upset_data = format_for_upset(variant_uniqueness,'allele_id')\n",
    "plot(upset_data, show_counts=True)\n",
    "# plt.savefig('therapy_unique_upset_plot.png', dpi=300, format='png', bbox_inches='tight')\n",
    "plt.show()\n"
   ]
  },
  {
   "cell_type": "code",
   "execution_count": 24,
   "metadata": {},
   "outputs": [
    {
     "data": {
      "text/plain": [
       "source\n",
       "civic    419\n",
       "moa      160\n",
       "Name: count, dtype: int64"
      ]
     },
     "execution_count": 24,
     "metadata": {},
     "output_type": "execute_result"
    }
   ],
   "source": [
    "df['source'].value_counts()"
   ]
  },
  {
   "cell_type": "markdown",
   "metadata": {},
   "source": [
    "### All Plot"
   ]
  },
  {
   "cell_type": "code",
   "execution_count": 25,
   "metadata": {},
   "outputs": [
    {
     "data": {
      "application/vnd.plotly.v1+json": {
       "config": {
        "plotlyServerURL": "https://plot.ly"
       },
       "data": [
        {
         "marker": {
          "color": "#fefadd"
         },
         "name": "1.0 KBs",
         "type": "bar",
         "width": [
          0.4
         ],
         "x": [
          "Gene"
         ],
         "y": [
          0.6703296703296703
         ]
        },
        {
         "marker": {
          "color": "#def8d3"
         },
         "name": "2.0 KBs",
         "type": "bar",
         "width": [
          0.4
         ],
         "x": [
          "Gene"
         ],
         "y": [
          0.32967032967032966
         ]
        },
        {
         "marker": {
          "color": "#fefadd"
         },
         "name": "1.0 KBs",
         "type": "bar",
         "width": [
          0.4
         ],
         "x": [
          "Therapy"
         ],
         "y": [
          0.7816091954022989
         ]
        },
        {
         "marker": {
          "color": "#def8d3"
         },
         "name": "2.0 KBs",
         "type": "bar",
         "width": [
          0.4
         ],
         "x": [
          "Therapy"
         ],
         "y": [
          0.21839080459770116
         ]
        },
        {
         "marker": {
          "color": "#fefadd"
         },
         "name": "1.0 KBs",
         "type": "bar",
         "width": [
          0.4
         ],
         "x": [
          "Disease"
         ],
         "y": [
          0.888
         ]
        },
        {
         "marker": {
          "color": "#def8d3"
         },
         "name": "2.0 KBs",
         "type": "bar",
         "width": [
          0.4
         ],
         "x": [
          "Disease"
         ],
         "y": [
          0.112
         ]
        },
        {
         "marker": {
          "color": "#fefadd"
         },
         "name": "1.0 KBs",
         "type": "bar",
         "width": [
          0.4
         ],
         "x": [
          "Variant"
         ],
         "y": [
          0.9066666666666666
         ]
        },
        {
         "marker": {
          "color": "#def8d3"
         },
         "name": "2.0 KBs",
         "type": "bar",
         "width": [
          0.4
         ],
         "x": [
          "Variant"
         ],
         "y": [
          0.09333333333333334
         ]
        }
       ],
       "layout": {
        "barmode": "stack",
        "legend": {
         "title": {
          "text": "# of KBs"
         }
        },
        "template": {
         "data": {
          "bar": [
           {
            "error_x": {
             "color": "#2a3f5f"
            },
            "error_y": {
             "color": "#2a3f5f"
            },
            "marker": {
             "line": {
              "color": "#E5ECF6",
              "width": 0.5
             },
             "pattern": {
              "fillmode": "overlay",
              "size": 10,
              "solidity": 0.2
             }
            },
            "type": "bar"
           }
          ],
          "barpolar": [
           {
            "marker": {
             "line": {
              "color": "#E5ECF6",
              "width": 0.5
             },
             "pattern": {
              "fillmode": "overlay",
              "size": 10,
              "solidity": 0.2
             }
            },
            "type": "barpolar"
           }
          ],
          "carpet": [
           {
            "aaxis": {
             "endlinecolor": "#2a3f5f",
             "gridcolor": "white",
             "linecolor": "white",
             "minorgridcolor": "white",
             "startlinecolor": "#2a3f5f"
            },
            "baxis": {
             "endlinecolor": "#2a3f5f",
             "gridcolor": "white",
             "linecolor": "white",
             "minorgridcolor": "white",
             "startlinecolor": "#2a3f5f"
            },
            "type": "carpet"
           }
          ],
          "choropleth": [
           {
            "colorbar": {
             "outlinewidth": 0,
             "ticks": ""
            },
            "type": "choropleth"
           }
          ],
          "contour": [
           {
            "colorbar": {
             "outlinewidth": 0,
             "ticks": ""
            },
            "colorscale": [
             [
              0,
              "#0d0887"
             ],
             [
              0.1111111111111111,
              "#46039f"
             ],
             [
              0.2222222222222222,
              "#7201a8"
             ],
             [
              0.3333333333333333,
              "#9c179e"
             ],
             [
              0.4444444444444444,
              "#bd3786"
             ],
             [
              0.5555555555555556,
              "#d8576b"
             ],
             [
              0.6666666666666666,
              "#ed7953"
             ],
             [
              0.7777777777777778,
              "#fb9f3a"
             ],
             [
              0.8888888888888888,
              "#fdca26"
             ],
             [
              1,
              "#f0f921"
             ]
            ],
            "type": "contour"
           }
          ],
          "contourcarpet": [
           {
            "colorbar": {
             "outlinewidth": 0,
             "ticks": ""
            },
            "type": "contourcarpet"
           }
          ],
          "heatmap": [
           {
            "colorbar": {
             "outlinewidth": 0,
             "ticks": ""
            },
            "colorscale": [
             [
              0,
              "#0d0887"
             ],
             [
              0.1111111111111111,
              "#46039f"
             ],
             [
              0.2222222222222222,
              "#7201a8"
             ],
             [
              0.3333333333333333,
              "#9c179e"
             ],
             [
              0.4444444444444444,
              "#bd3786"
             ],
             [
              0.5555555555555556,
              "#d8576b"
             ],
             [
              0.6666666666666666,
              "#ed7953"
             ],
             [
              0.7777777777777778,
              "#fb9f3a"
             ],
             [
              0.8888888888888888,
              "#fdca26"
             ],
             [
              1,
              "#f0f921"
             ]
            ],
            "type": "heatmap"
           }
          ],
          "histogram": [
           {
            "marker": {
             "pattern": {
              "fillmode": "overlay",
              "size": 10,
              "solidity": 0.2
             }
            },
            "type": "histogram"
           }
          ],
          "histogram2d": [
           {
            "colorbar": {
             "outlinewidth": 0,
             "ticks": ""
            },
            "colorscale": [
             [
              0,
              "#0d0887"
             ],
             [
              0.1111111111111111,
              "#46039f"
             ],
             [
              0.2222222222222222,
              "#7201a8"
             ],
             [
              0.3333333333333333,
              "#9c179e"
             ],
             [
              0.4444444444444444,
              "#bd3786"
             ],
             [
              0.5555555555555556,
              "#d8576b"
             ],
             [
              0.6666666666666666,
              "#ed7953"
             ],
             [
              0.7777777777777778,
              "#fb9f3a"
             ],
             [
              0.8888888888888888,
              "#fdca26"
             ],
             [
              1,
              "#f0f921"
             ]
            ],
            "type": "histogram2d"
           }
          ],
          "histogram2dcontour": [
           {
            "colorbar": {
             "outlinewidth": 0,
             "ticks": ""
            },
            "colorscale": [
             [
              0,
              "#0d0887"
             ],
             [
              0.1111111111111111,
              "#46039f"
             ],
             [
              0.2222222222222222,
              "#7201a8"
             ],
             [
              0.3333333333333333,
              "#9c179e"
             ],
             [
              0.4444444444444444,
              "#bd3786"
             ],
             [
              0.5555555555555556,
              "#d8576b"
             ],
             [
              0.6666666666666666,
              "#ed7953"
             ],
             [
              0.7777777777777778,
              "#fb9f3a"
             ],
             [
              0.8888888888888888,
              "#fdca26"
             ],
             [
              1,
              "#f0f921"
             ]
            ],
            "type": "histogram2dcontour"
           }
          ],
          "mesh3d": [
           {
            "colorbar": {
             "outlinewidth": 0,
             "ticks": ""
            },
            "type": "mesh3d"
           }
          ],
          "parcoords": [
           {
            "line": {
             "colorbar": {
              "outlinewidth": 0,
              "ticks": ""
             }
            },
            "type": "parcoords"
           }
          ],
          "pie": [
           {
            "automargin": true,
            "type": "pie"
           }
          ],
          "scatter": [
           {
            "fillpattern": {
             "fillmode": "overlay",
             "size": 10,
             "solidity": 0.2
            },
            "type": "scatter"
           }
          ],
          "scatter3d": [
           {
            "line": {
             "colorbar": {
              "outlinewidth": 0,
              "ticks": ""
             }
            },
            "marker": {
             "colorbar": {
              "outlinewidth": 0,
              "ticks": ""
             }
            },
            "type": "scatter3d"
           }
          ],
          "scattercarpet": [
           {
            "marker": {
             "colorbar": {
              "outlinewidth": 0,
              "ticks": ""
             }
            },
            "type": "scattercarpet"
           }
          ],
          "scattergeo": [
           {
            "marker": {
             "colorbar": {
              "outlinewidth": 0,
              "ticks": ""
             }
            },
            "type": "scattergeo"
           }
          ],
          "scattergl": [
           {
            "marker": {
             "colorbar": {
              "outlinewidth": 0,
              "ticks": ""
             }
            },
            "type": "scattergl"
           }
          ],
          "scattermap": [
           {
            "marker": {
             "colorbar": {
              "outlinewidth": 0,
              "ticks": ""
             }
            },
            "type": "scattermap"
           }
          ],
          "scattermapbox": [
           {
            "marker": {
             "colorbar": {
              "outlinewidth": 0,
              "ticks": ""
             }
            },
            "type": "scattermapbox"
           }
          ],
          "scatterpolar": [
           {
            "marker": {
             "colorbar": {
              "outlinewidth": 0,
              "ticks": ""
             }
            },
            "type": "scatterpolar"
           }
          ],
          "scatterpolargl": [
           {
            "marker": {
             "colorbar": {
              "outlinewidth": 0,
              "ticks": ""
             }
            },
            "type": "scatterpolargl"
           }
          ],
          "scatterternary": [
           {
            "marker": {
             "colorbar": {
              "outlinewidth": 0,
              "ticks": ""
             }
            },
            "type": "scatterternary"
           }
          ],
          "surface": [
           {
            "colorbar": {
             "outlinewidth": 0,
             "ticks": ""
            },
            "colorscale": [
             [
              0,
              "#0d0887"
             ],
             [
              0.1111111111111111,
              "#46039f"
             ],
             [
              0.2222222222222222,
              "#7201a8"
             ],
             [
              0.3333333333333333,
              "#9c179e"
             ],
             [
              0.4444444444444444,
              "#bd3786"
             ],
             [
              0.5555555555555556,
              "#d8576b"
             ],
             [
              0.6666666666666666,
              "#ed7953"
             ],
             [
              0.7777777777777778,
              "#fb9f3a"
             ],
             [
              0.8888888888888888,
              "#fdca26"
             ],
             [
              1,
              "#f0f921"
             ]
            ],
            "type": "surface"
           }
          ],
          "table": [
           {
            "cells": {
             "fill": {
              "color": "#EBF0F8"
             },
             "line": {
              "color": "white"
             }
            },
            "header": {
             "fill": {
              "color": "#C8D4E3"
             },
             "line": {
              "color": "white"
             }
            },
            "type": "table"
           }
          ]
         },
         "layout": {
          "annotationdefaults": {
           "arrowcolor": "#2a3f5f",
           "arrowhead": 0,
           "arrowwidth": 1
          },
          "autotypenumbers": "strict",
          "coloraxis": {
           "colorbar": {
            "outlinewidth": 0,
            "ticks": ""
           }
          },
          "colorscale": {
           "diverging": [
            [
             0,
             "#8e0152"
            ],
            [
             0.1,
             "#c51b7d"
            ],
            [
             0.2,
             "#de77ae"
            ],
            [
             0.3,
             "#f1b6da"
            ],
            [
             0.4,
             "#fde0ef"
            ],
            [
             0.5,
             "#f7f7f7"
            ],
            [
             0.6,
             "#e6f5d0"
            ],
            [
             0.7,
             "#b8e186"
            ],
            [
             0.8,
             "#7fbc41"
            ],
            [
             0.9,
             "#4d9221"
            ],
            [
             1,
             "#276419"
            ]
           ],
           "sequential": [
            [
             0,
             "#0d0887"
            ],
            [
             0.1111111111111111,
             "#46039f"
            ],
            [
             0.2222222222222222,
             "#7201a8"
            ],
            [
             0.3333333333333333,
             "#9c179e"
            ],
            [
             0.4444444444444444,
             "#bd3786"
            ],
            [
             0.5555555555555556,
             "#d8576b"
            ],
            [
             0.6666666666666666,
             "#ed7953"
            ],
            [
             0.7777777777777778,
             "#fb9f3a"
            ],
            [
             0.8888888888888888,
             "#fdca26"
            ],
            [
             1,
             "#f0f921"
            ]
           ],
           "sequentialminus": [
            [
             0,
             "#0d0887"
            ],
            [
             0.1111111111111111,
             "#46039f"
            ],
            [
             0.2222222222222222,
             "#7201a8"
            ],
            [
             0.3333333333333333,
             "#9c179e"
            ],
            [
             0.4444444444444444,
             "#bd3786"
            ],
            [
             0.5555555555555556,
             "#d8576b"
            ],
            [
             0.6666666666666666,
             "#ed7953"
            ],
            [
             0.7777777777777778,
             "#fb9f3a"
            ],
            [
             0.8888888888888888,
             "#fdca26"
            ],
            [
             1,
             "#f0f921"
            ]
           ]
          },
          "colorway": [
           "#636efa",
           "#EF553B",
           "#00cc96",
           "#ab63fa",
           "#FFA15A",
           "#19d3f3",
           "#FF6692",
           "#B6E880",
           "#FF97FF",
           "#FECB52"
          ],
          "font": {
           "color": "#2a3f5f"
          },
          "geo": {
           "bgcolor": "white",
           "lakecolor": "white",
           "landcolor": "#E5ECF6",
           "showlakes": true,
           "showland": true,
           "subunitcolor": "white"
          },
          "hoverlabel": {
           "align": "left"
          },
          "hovermode": "closest",
          "mapbox": {
           "style": "light"
          },
          "paper_bgcolor": "white",
          "plot_bgcolor": "#E5ECF6",
          "polar": {
           "angularaxis": {
            "gridcolor": "white",
            "linecolor": "white",
            "ticks": ""
           },
           "bgcolor": "#E5ECF6",
           "radialaxis": {
            "gridcolor": "white",
            "linecolor": "white",
            "ticks": ""
           }
          },
          "scene": {
           "xaxis": {
            "backgroundcolor": "#E5ECF6",
            "gridcolor": "white",
            "gridwidth": 2,
            "linecolor": "white",
            "showbackground": true,
            "ticks": "",
            "zerolinecolor": "white"
           },
           "yaxis": {
            "backgroundcolor": "#E5ECF6",
            "gridcolor": "white",
            "gridwidth": 2,
            "linecolor": "white",
            "showbackground": true,
            "ticks": "",
            "zerolinecolor": "white"
           },
           "zaxis": {
            "backgroundcolor": "#E5ECF6",
            "gridcolor": "white",
            "gridwidth": 2,
            "linecolor": "white",
            "showbackground": true,
            "ticks": "",
            "zerolinecolor": "white"
           }
          },
          "shapedefaults": {
           "line": {
            "color": "#2a3f5f"
           }
          },
          "ternary": {
           "aaxis": {
            "gridcolor": "white",
            "linecolor": "white",
            "ticks": ""
           },
           "baxis": {
            "gridcolor": "white",
            "linecolor": "white",
            "ticks": ""
           },
           "bgcolor": "#E5ECF6",
           "caxis": {
            "gridcolor": "white",
            "linecolor": "white",
            "ticks": ""
           }
          },
          "title": {
           "x": 0.05
          },
          "xaxis": {
           "automargin": true,
           "gridcolor": "white",
           "linecolor": "white",
           "ticks": "",
           "title": {
            "standoff": 15
           },
           "zerolinecolor": "white",
           "zerolinewidth": 2
          },
          "yaxis": {
           "automargin": true,
           "gridcolor": "white",
           "linecolor": "white",
           "ticks": "",
           "title": {
            "standoff": 15
           },
           "zerolinecolor": "white",
           "zerolinewidth": 2
          }
         }
        },
        "title": {
         "text": "Element uniqueness across KBs"
        },
        "xaxis": {
         "title": {
          "text": "Category"
         }
        },
        "yaxis": {
         "tickformat": ".2",
         "title": {
          "text": "Proportion"
         }
        }
       }
      }
     },
     "metadata": {},
     "output_type": "display_data"
    }
   ],
   "source": [
    "# TODO: Make this work\n",
    "\n",
    "# Count number of sources True\n",
    "gene_proportions[\"true_count\"] = gene_proportions.iloc[:, 0:].sum(axis=1)\n",
    "therapy_proportions[\"true_count\"] = therapy_proportions.iloc[:, 0:].sum(axis=1)\n",
    "disease_proportions[\"true_count\"] = disease_proportions.iloc[:, 0:].sum(axis=1)\n",
    "variant_proportions[\"true_count\"] = variant_proportions.iloc[:, 0:].sum(axis=1)\n",
    "\n",
    "graph = pd.DataFrame({'# of KBs': [], 'Records': [], 'proportion': [], 'Record Type': []})\n",
    "\n",
    "# Value Counts & Combine\n",
    "tdf = gene_proportions['true_count'].value_counts().rename_axis('# of KBs').reset_index(name='Records')\n",
    "total = tdf['Records'].sum()\n",
    "tdf['proportion'] = tdf['Records'] / total\n",
    "tdf['Record Type'] = 'Gene'\n",
    "graph = pd.concat([graph,tdf])\n",
    "\n",
    "tdf = therapy_proportions['true_count'].value_counts().rename_axis('# of KBs').reset_index(name='Records')\n",
    "total = tdf['Records'].sum()\n",
    "tdf['proportion'] = tdf['Records'] / total\n",
    "tdf['Record Type'] = 'Therapy'\n",
    "graph = pd.concat([graph,tdf])\n",
    "\n",
    "tdf = disease_proportions['true_count'].value_counts().rename_axis('# of KBs').reset_index(name='Records')\n",
    "total = tdf['Records'].sum()\n",
    "tdf['proportion'] = tdf['Records'] / total\n",
    "tdf['Record Type'] = 'Disease'\n",
    "graph = pd.concat([graph,tdf])\n",
    "\n",
    "tdf = variant_proportions['true_count'].value_counts().rename_axis('# of KBs').reset_index(name='Records')\n",
    "total = tdf['Records'].sum()\n",
    "tdf['proportion'] = tdf['Records'] / total\n",
    "tdf['Record Type'] = 'Variant'\n",
    "graph = pd.concat([graph,tdf])\n",
    "\n",
    "# Plotly graph objects for the stacked bar\n",
    "# fig = go.Figure()\n",
    "colors = ['#fefadd','#def8d3','#a0e5e6','#48c1da','#1e97c7','#3459a9']\n",
    "\n",
    "# Plotly graph objects for the stacked bar\n",
    "fig = go.Figure()\n",
    "\n",
    "# Adding each segment as part of a stacked bar\n",
    "for i, row in graph.iterrows():\n",
    "    fig.add_trace(go.Bar(\n",
    "        name=f'{row[\"# of KBs\"]} KBs',\n",
    "        x=[row['Record Type']],  # single category for now\n",
    "        y=[row['proportion']],\n",
    "        marker_color=colors[i],  # using Plotly's qualitative colors\n",
    "        width=[0.4]\n",
    "    ))\n",
    "\n",
    "# Update layout to show proportions as percentage\n",
    "fig.update_layout(\n",
    "    barmode='stack',\n",
    "    title='Element uniqueness across KBs',\n",
    "    xaxis_title='Category',\n",
    "    yaxis_title='Proportion',\n",
    "    yaxis=dict(tickformat=\".2\"),\n",
    "    legend_title='# of KBs'\n",
    ")\n",
    "\n",
    "fig.show()\n",
    "\n",
    "# fig.write_image(\"v1_uniqueness.png\", width=990, height=540, scale=3)"
   ]
  },
  {
   "cell_type": "markdown",
   "metadata": {},
   "source": [
    "[Back to Top](#table-of-contents)\n"
   ]
  }
 ],
 "metadata": {
  "kernelspec": {
   "display_name": "3.12.2",
   "language": "python",
   "name": "python3"
  },
  "language_info": {
   "codemirror_mode": {
    "name": "ipython",
    "version": 3
   },
   "file_extension": ".py",
   "mimetype": "text/x-python",
   "name": "python",
   "nbconvert_exporter": "python",
   "pygments_lexer": "ipython3",
   "version": "3.12.2"
  }
 },
 "nbformat": 4,
 "nbformat_minor": 2
}
