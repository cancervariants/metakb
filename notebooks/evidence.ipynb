{
 "cells": [
  {
   "cell_type": "code",
   "execution_count": 3,
   "metadata": {},
   "outputs": [],
   "source": [
    "from neo4j import GraphDatabase\n",
    "import pandas as pd\n",
    "from tqdm import tqdm\n",
    "import plotly\n",
    "import plotly.express as px\n",
    "import plotly.io as pio"
   ]
  },
  {
   "cell_type": "markdown",
   "metadata": {},
   "source": [
    "## Harmonizing Different Evidence Statement Types in MetaKB v2\n",
    "The first take at this analysis utilized just broad statements with attached therapeutics with no regard for the statement type. (To be honest, I don't think it even had a notion of a type at the time.)  \n",
    "  \n",
    "For this notebook, we will retrieve study statements and perform an analysis that looks at uniqueness by resource across different categories of evidence (as defined by va-spec). Additionally, I am going to try to pipeline this notebook to automatically run all of it with a single button."
   ]
  },
  {
   "cell_type": "markdown",
   "metadata": {},
   "source": [
    "### Table of Contents\n",
    "* [Data Retrieval](evidence.ipynb#data-retrieval)\n",
    "    * [Get Study Statements](#get-study-statements)\n",
    "    * [Additional Queries](#additional-queries)\n",
    "* [Variant Prognostic Study Statements](#variant-prognostic-study-statements)\n",
    "* [Variant Therapeutic Response Study Statements](#variant-therapeutic-response-study-statements)"
   ]
  },
  {
   "cell_type": "markdown",
   "metadata": {},
   "source": [
    "## Data Retrieval\n"
   ]
  },
  {
   "cell_type": "markdown",
   "metadata": {},
   "source": [
    "### Get Study Statements"
   ]
  },
  {
   "cell_type": "code",
   "execution_count": 4,
   "metadata": {},
   "outputs": [],
   "source": [
    "def create_db_connection(uri, user, password):\n",
    "    driver = GraphDatabase.driver(uri, auth=(user, password))\n",
    "    return driver\n",
    "\n",
    "def execute_query(query):\n",
    "    uri = \"bolt://localhost:7687\"\n",
    "    user = \"neo4j\"\n",
    "    password = \"password\"\n",
    "    driver = create_db_connection(uri, user, password)\n",
    "    with driver.session() as session:\n",
    "        result = session.run(query)\n",
    "        data = [record for record in result]\n",
    "    driver.close()\n",
    "    return data\n",
    "    \n",
    "# Queries\n",
    "q_all_statements = \"\"\"MATCH (s:StudyStatement)\n",
    "    RETURN properties(s) AS Study\n",
    "\"\"\"\n",
    "\n",
    "# Run Query\n",
    "result = execute_query(q_all_statements)\n"
   ]
  },
  {
   "cell_type": "code",
   "execution_count": 7,
   "metadata": {},
   "outputs": [
    {
     "data": {
      "text/html": [
       "<div>\n",
       "<style scoped>\n",
       "    .dataframe tbody tr th:only-of-type {\n",
       "        vertical-align: middle;\n",
       "    }\n",
       "\n",
       "    .dataframe tbody tr th {\n",
       "        vertical-align: top;\n",
       "    }\n",
       "\n",
       "    .dataframe thead th {\n",
       "        text-align: right;\n",
       "    }\n",
       "</style>\n",
       "<table border=\"1\" class=\"dataframe\">\n",
       "  <thead>\n",
       "    <tr style=\"text-align: right;\">\n",
       "      <th></th>\n",
       "      <th>id</th>\n",
       "      <th>studyType</th>\n",
       "      <th>propositionType</th>\n",
       "      <th>description</th>\n",
       "      <th>alleleOriginQualifier</th>\n",
       "      <th>direction</th>\n",
       "      <th>predicate</th>\n",
       "    </tr>\n",
       "  </thead>\n",
       "  <tbody>\n",
       "    <tr>\n",
       "      <th>0</th>\n",
       "      <td>civic.eid:238</td>\n",
       "      <td>Statement</td>\n",
       "      <td>VariantTherapeuticResponseProposition</td>\n",
       "      <td>The T790M mutation in EGFR has been shown to c...</td>\n",
       "      <td>somatic</td>\n",
       "      <td>supports</td>\n",
       "      <td>predictsResistanceTo</td>\n",
       "    </tr>\n",
       "    <tr>\n",
       "      <th>1</th>\n",
       "      <td>civic.eid:1409</td>\n",
       "      <td>Statement</td>\n",
       "      <td>VariantTherapeuticResponseProposition</td>\n",
       "      <td>Phase 3 randomized clinical trial comparing ve...</td>\n",
       "      <td>somatic</td>\n",
       "      <td>supports</td>\n",
       "      <td>predictsSensitivityTo</td>\n",
       "    </tr>\n",
       "    <tr>\n",
       "      <th>2</th>\n",
       "      <td>civic.eid:1592</td>\n",
       "      <td>Statement</td>\n",
       "      <td>VariantTherapeuticResponseProposition</td>\n",
       "      <td>Osimertinib has been approved for the treatmen...</td>\n",
       "      <td>somatic</td>\n",
       "      <td>supports</td>\n",
       "      <td>predictsSensitivityTo</td>\n",
       "    </tr>\n",
       "    <tr>\n",
       "      <th>3</th>\n",
       "      <td>civic.eid:1867</td>\n",
       "      <td>Statement</td>\n",
       "      <td>VariantTherapeuticResponseProposition</td>\n",
       "      <td>Randomized, international, open-label, phase 3...</td>\n",
       "      <td>somatic</td>\n",
       "      <td>supports</td>\n",
       "      <td>predictsSensitivityTo</td>\n",
       "    </tr>\n",
       "    <tr>\n",
       "      <th>4</th>\n",
       "      <td>civic.eid:2994</td>\n",
       "      <td>Statement</td>\n",
       "      <td>VariantTherapeuticResponseProposition</td>\n",
       "      <td>On May 14, 2013, the U.S. Food and Drug Admini...</td>\n",
       "      <td>somatic</td>\n",
       "      <td>supports</td>\n",
       "      <td>predictsSensitivityTo</td>\n",
       "    </tr>\n",
       "    <tr>\n",
       "      <th>...</th>\n",
       "      <td>...</td>\n",
       "      <td>...</td>\n",
       "      <td>...</td>\n",
       "      <td>...</td>\n",
       "      <td>...</td>\n",
       "      <td>...</td>\n",
       "      <td>...</td>\n",
       "    </tr>\n",
       "    <tr>\n",
       "      <th>1295</th>\n",
       "      <td>moa.assertion:991</td>\n",
       "      <td>Statement</td>\n",
       "      <td>VariantTherapeuticResponseProposition</td>\n",
       "      <td>The U.S. Food and Drug Administration (FDA) gr...</td>\n",
       "      <td>somatic</td>\n",
       "      <td>supports</td>\n",
       "      <td>predictsSensitivityTo</td>\n",
       "    </tr>\n",
       "    <tr>\n",
       "      <th>1296</th>\n",
       "      <td>moa.assertion:993</td>\n",
       "      <td>Statement</td>\n",
       "      <td>VariantTherapeuticResponseProposition</td>\n",
       "      <td>The U.S. Food and Drug Administration (FDA) gr...</td>\n",
       "      <td>somatic</td>\n",
       "      <td>supports</td>\n",
       "      <td>predictsSensitivityTo</td>\n",
       "    </tr>\n",
       "    <tr>\n",
       "      <th>1297</th>\n",
       "      <td>moa.assertion:996</td>\n",
       "      <td>Statement</td>\n",
       "      <td>VariantTherapeuticResponseProposition</td>\n",
       "      <td>The U.S. Food and Drug Administration (FDA) gr...</td>\n",
       "      <td>somatic</td>\n",
       "      <td>supports</td>\n",
       "      <td>predictsSensitivityTo</td>\n",
       "    </tr>\n",
       "    <tr>\n",
       "      <th>1298</th>\n",
       "      <td>moa.assertion:999</td>\n",
       "      <td>Statement</td>\n",
       "      <td>VariantTherapeuticResponseProposition</td>\n",
       "      <td>The U.S. Food and Drug Administration (FDA) gr...</td>\n",
       "      <td>somatic</td>\n",
       "      <td>supports</td>\n",
       "      <td>predictsSensitivityTo</td>\n",
       "    </tr>\n",
       "    <tr>\n",
       "      <th>1299</th>\n",
       "      <td>moa.assertion:1007</td>\n",
       "      <td>Statement</td>\n",
       "      <td>VariantTherapeuticResponseProposition</td>\n",
       "      <td>The U.S. Food and Drug Administration (FDA) ha...</td>\n",
       "      <td>somatic</td>\n",
       "      <td>supports</td>\n",
       "      <td>predictsSensitivityTo</td>\n",
       "    </tr>\n",
       "  </tbody>\n",
       "</table>\n",
       "<p>1300 rows × 7 columns</p>\n",
       "</div>"
      ],
      "text/plain": [
       "                      id  studyType                        propositionType  \\\n",
       "0          civic.eid:238  Statement  VariantTherapeuticResponseProposition   \n",
       "1         civic.eid:1409  Statement  VariantTherapeuticResponseProposition   \n",
       "2         civic.eid:1592  Statement  VariantTherapeuticResponseProposition   \n",
       "3         civic.eid:1867  Statement  VariantTherapeuticResponseProposition   \n",
       "4         civic.eid:2994  Statement  VariantTherapeuticResponseProposition   \n",
       "...                  ...        ...                                    ...   \n",
       "1295   moa.assertion:991  Statement  VariantTherapeuticResponseProposition   \n",
       "1296   moa.assertion:993  Statement  VariantTherapeuticResponseProposition   \n",
       "1297   moa.assertion:996  Statement  VariantTherapeuticResponseProposition   \n",
       "1298   moa.assertion:999  Statement  VariantTherapeuticResponseProposition   \n",
       "1299  moa.assertion:1007  Statement  VariantTherapeuticResponseProposition   \n",
       "\n",
       "                                            description alleleOriginQualifier  \\\n",
       "0     The T790M mutation in EGFR has been shown to c...               somatic   \n",
       "1     Phase 3 randomized clinical trial comparing ve...               somatic   \n",
       "2     Osimertinib has been approved for the treatmen...               somatic   \n",
       "3     Randomized, international, open-label, phase 3...               somatic   \n",
       "4     On May 14, 2013, the U.S. Food and Drug Admini...               somatic   \n",
       "...                                                 ...                   ...   \n",
       "1295  The U.S. Food and Drug Administration (FDA) gr...               somatic   \n",
       "1296  The U.S. Food and Drug Administration (FDA) gr...               somatic   \n",
       "1297  The U.S. Food and Drug Administration (FDA) gr...               somatic   \n",
       "1298  The U.S. Food and Drug Administration (FDA) gr...               somatic   \n",
       "1299  The U.S. Food and Drug Administration (FDA) ha...               somatic   \n",
       "\n",
       "     direction              predicate  \n",
       "0     supports   predictsResistanceTo  \n",
       "1     supports  predictsSensitivityTo  \n",
       "2     supports  predictsSensitivityTo  \n",
       "3     supports  predictsSensitivityTo  \n",
       "4     supports  predictsSensitivityTo  \n",
       "...        ...                    ...  \n",
       "1295  supports  predictsSensitivityTo  \n",
       "1296  supports  predictsSensitivityTo  \n",
       "1297  supports  predictsSensitivityTo  \n",
       "1298  supports  predictsSensitivityTo  \n",
       "1299  supports  predictsSensitivityTo  \n",
       "\n",
       "[1300 rows x 7 columns]"
      ]
     },
     "execution_count": 7,
     "metadata": {},
     "output_type": "execute_result"
    }
   ],
   "source": [
    "data = []\n",
    "for record in result:\n",
    "    study = record.get('Study', {})\n",
    "    row = {\n",
    "        'id': study.get('id', None),\n",
    "        'studyType': study.get('type',None),\n",
    "        'propositionType': study.get('propositionType',None),\n",
    "        'description': study.get('description', None),\n",
    "        'alleleOriginQualifier': study.get('alleleOriginQualifier',None),\n",
    "        'direction': study.get('direction',None),\n",
    "        'predicate': study.get('predicate', None)\n",
    "    }\n",
    "    data.append(row)\n",
    "\n",
    "df = pd.DataFrame(data)\n",
    "\n",
    "df"
   ]
  },
  {
   "cell_type": "code",
   "execution_count": 9,
   "metadata": {},
   "outputs": [
    {
     "data": {
      "text/plain": [
       "propositionType\n",
       "VariantTherapeuticResponseProposition    1099\n",
       "VariantPrognosticProposition              156\n",
       "VariantDiagnosticProposition               45\n",
       "Name: count, dtype: int64"
      ]
     },
     "execution_count": 9,
     "metadata": {},
     "output_type": "execute_result"
    }
   ],
   "source": [
    "df['propositionType'].value_counts()"
   ]
  },
  {
   "cell_type": "markdown",
   "metadata": {},
   "source": [
    "### Additional Queries\n",
    "These will be used to fill in additional data from retrieved nodes as dependent on the study type."
   ]
  },
  {
   "cell_type": "code",
   "execution_count": 1,
   "metadata": {},
   "outputs": [],
   "source": [
    "def grab_subject_variant(study_id):\n",
    "    query = f\"\"\"MATCH (s:StudyStatement) WHERE s.id = '{study_id}'\n",
    "        MATCH (s)-[:HAS_VARIANT]-(c)\n",
    "        MATCH (c)-[:HAS_DEFINING_CONTEXT]-(v)\n",
    "        RETURN properties(s) AS Study,\n",
    "                properties(c) AS Variation,\n",
    "                properties(v) AS Context\n",
    "    \"\"\"\n",
    "    result = execute_query(query)\n",
    "    if len(result) > 1:\n",
    "        print(f'{study_id} has {len(result)} subjects possible')\n",
    "    subject = result[0]['Context']['id']\n",
    "    return(subject)\n",
    "\n",
    "\n",
    "def grab_object_therapeutic(study_id): \n",
    "    query = f\"\"\"MATCH (s:StudyStatement) WHERE s.id = '{study_id}'\n",
    "        MATCH (s)-[:HAS_THERAPEUTIC]-(c)\n",
    "        RETURN properties(s) AS Study,\n",
    "                properties(c) AS Therapeutic\n",
    "    \"\"\"\n",
    "    result = execute_query(query)\n",
    "    if len(result) > 1:\n",
    "        print(f'{study_id} has {len(result)} subjects possible')\n",
    "\n",
    "    # Check for empty result\n",
    "    if not(result): \n",
    "        return(None)\n",
    "\n",
    "    # Grab concept identifier (if not single therapeutic, handle other cases)\n",
    "    if 'normalizer_id' in result[0]['Therapeutic']:\n",
    "        therapeutic = result[0]['Therapeutic']['normalizer_id']\n",
    "        return(therapeutic)\n",
    "    \n",
    "    ther_type = result[0]['Therapeutic']['type']\n",
    "\n",
    "    # TODO: Consider additional ways to handle these group therapy types?\n",
    "    if ther_type == 'CombinationTherapy':\n",
    "        # DO SOMETHING\n",
    "        return((ther_type, result[0]['Therapeutic']['id']))\n",
    "        \n",
    "    if ther_type == 'TherapeuticSubstituteGroup':\n",
    "        # DO SOMETHING ELSE\n",
    "        return((ther_type, result[0]['Therapeutic']['id']))\n",
    "    \n",
    "\n",
    "def grab_qualifier_disease(study_id): \n",
    "    query = f\"\"\"MATCH (s:StudyStatement) WHERE s.id = '{study_id}'\n",
    "        MATCH (s)-[:HAS_TUMOR_TYPE]-(c)\n",
    "        RETURN properties(s) AS Study,\n",
    "                properties(c) AS Disease\n",
    "    \"\"\"\n",
    "    result = execute_query(query)\n",
    "    if len(result) > 1:\n",
    "        print(f'{study_id} has {len(result)} subjects possible')\n",
    "    \n",
    "    try: # TODO: This id should be normalizer_id not disease_normalizer_id. Will likely need to redo analysis\n",
    "        disease = result[0]['Disease']['disease_normalizer_id']\n",
    "    except: # TODO: This is gross, handle it better\n",
    "        try:\n",
    "            disease = result[0]['Disease']['label']\n",
    "        except:\n",
    "            disease = result[0]['Disease']['id']\n",
    "    return(disease)\n"
   ]
  },
  {
   "cell_type": "markdown",
   "metadata": {},
   "source": [
    "## Variant Prognostic Study Statements\n",
    "\n"
   ]
  },
  {
   "cell_type": "code",
   "execution_count": 11,
   "metadata": {},
   "outputs": [
    {
     "name": "stdout",
     "output_type": "stream",
     "text": [
      "Studies found: 156\n"
     ]
    },
    {
     "data": {
      "text/html": [
       "<div>\n",
       "<style scoped>\n",
       "    .dataframe tbody tr th:only-of-type {\n",
       "        vertical-align: middle;\n",
       "    }\n",
       "\n",
       "    .dataframe tbody tr th {\n",
       "        vertical-align: top;\n",
       "    }\n",
       "\n",
       "    .dataframe thead th {\n",
       "        text-align: right;\n",
       "    }\n",
       "</style>\n",
       "<table border=\"1\" class=\"dataframe\">\n",
       "  <thead>\n",
       "    <tr style=\"text-align: right;\">\n",
       "      <th></th>\n",
       "      <th>id</th>\n",
       "      <th>studyType</th>\n",
       "      <th>propositionType</th>\n",
       "      <th>description</th>\n",
       "      <th>alleleOriginQualifier</th>\n",
       "      <th>direction</th>\n",
       "      <th>predicate</th>\n",
       "    </tr>\n",
       "  </thead>\n",
       "  <tbody>\n",
       "    <tr>\n",
       "      <th>0</th>\n",
       "      <td>civic.eid:102</td>\n",
       "      <td>Statement</td>\n",
       "      <td>VariantPrognosticProposition</td>\n",
       "      <td>Unlike other studies that suggest a poorer out...</td>\n",
       "      <td>somatic</td>\n",
       "      <td>disputes</td>\n",
       "      <td>associatedWithWorseOutcomeFor</td>\n",
       "    </tr>\n",
       "    <tr>\n",
       "      <th>1</th>\n",
       "      <td>civic.eid:103</td>\n",
       "      <td>Statement</td>\n",
       "      <td>VariantPrognosticProposition</td>\n",
       "      <td>V600E is associated with adverse pathological ...</td>\n",
       "      <td>somatic</td>\n",
       "      <td>supports</td>\n",
       "      <td>associatedWithWorseOutcomeFor</td>\n",
       "    </tr>\n",
       "    <tr>\n",
       "      <th>2</th>\n",
       "      <td>civic.eid:656</td>\n",
       "      <td>Statement</td>\n",
       "      <td>VariantPrognosticProposition</td>\n",
       "      <td>In patients with papillary thyroid cancer harb...</td>\n",
       "      <td>somatic</td>\n",
       "      <td>supports</td>\n",
       "      <td>associatedWithWorseOutcomeFor</td>\n",
       "    </tr>\n",
       "    <tr>\n",
       "      <th>3</th>\n",
       "      <td>civic.eid:1420</td>\n",
       "      <td>Statement</td>\n",
       "      <td>VariantPrognosticProposition</td>\n",
       "      <td>Study examined rare SNPs on MAP2K7 among a dis...</td>\n",
       "      <td>germline</td>\n",
       "      <td>supports</td>\n",
       "      <td>associatedWithWorseOutcomeFor</td>\n",
       "    </tr>\n",
       "    <tr>\n",
       "      <th>4</th>\n",
       "      <td>civic.eid:26</td>\n",
       "      <td>Statement</td>\n",
       "      <td>VariantPrognosticProposition</td>\n",
       "      <td>In acute myloid leukemia patients, D816 mutati...</td>\n",
       "      <td>somatic</td>\n",
       "      <td>supports</td>\n",
       "      <td>associatedWithWorseOutcomeFor</td>\n",
       "    </tr>\n",
       "  </tbody>\n",
       "</table>\n",
       "</div>"
      ],
      "text/plain": [
       "               id  studyType               propositionType  \\\n",
       "0   civic.eid:102  Statement  VariantPrognosticProposition   \n",
       "1   civic.eid:103  Statement  VariantPrognosticProposition   \n",
       "2   civic.eid:656  Statement  VariantPrognosticProposition   \n",
       "3  civic.eid:1420  Statement  VariantPrognosticProposition   \n",
       "4    civic.eid:26  Statement  VariantPrognosticProposition   \n",
       "\n",
       "                                         description alleleOriginQualifier  \\\n",
       "0  Unlike other studies that suggest a poorer out...               somatic   \n",
       "1  V600E is associated with adverse pathological ...               somatic   \n",
       "2  In patients with papillary thyroid cancer harb...               somatic   \n",
       "3  Study examined rare SNPs on MAP2K7 among a dis...              germline   \n",
       "4  In acute myloid leukemia patients, D816 mutati...               somatic   \n",
       "\n",
       "  direction                      predicate  \n",
       "0  disputes  associatedWithWorseOutcomeFor  \n",
       "1  supports  associatedWithWorseOutcomeFor  \n",
       "2  supports  associatedWithWorseOutcomeFor  \n",
       "3  supports  associatedWithWorseOutcomeFor  \n",
       "4  supports  associatedWithWorseOutcomeFor  "
      ]
     },
     "execution_count": 11,
     "metadata": {},
     "output_type": "execute_result"
    }
   ],
   "source": [
    "data = df[df['propositionType']=='VariantPrognosticProposition'].reset_index(drop=True)\n",
    "print(f'Studies found: {len(data)}')\n",
    "data[0:5]"
   ]
  },
  {
   "cell_type": "code",
   "execution_count": 12,
   "metadata": {},
   "outputs": [
    {
     "data": {
      "text/html": [
       "<div>\n",
       "<style scoped>\n",
       "    .dataframe tbody tr th:only-of-type {\n",
       "        vertical-align: middle;\n",
       "    }\n",
       "\n",
       "    .dataframe tbody tr th {\n",
       "        vertical-align: top;\n",
       "    }\n",
       "\n",
       "    .dataframe thead th {\n",
       "        text-align: right;\n",
       "    }\n",
       "</style>\n",
       "<table border=\"1\" class=\"dataframe\">\n",
       "  <thead>\n",
       "    <tr style=\"text-align: right;\">\n",
       "      <th></th>\n",
       "      <th>id</th>\n",
       "      <th>studyType</th>\n",
       "      <th>propositionType</th>\n",
       "      <th>description</th>\n",
       "      <th>alleleOriginQualifier</th>\n",
       "      <th>direction</th>\n",
       "      <th>predicate</th>\n",
       "      <th>Variant</th>\n",
       "      <th>Disease</th>\n",
       "    </tr>\n",
       "  </thead>\n",
       "  <tbody>\n",
       "    <tr>\n",
       "      <th>0</th>\n",
       "      <td>civic.eid:102</td>\n",
       "      <td>Statement</td>\n",
       "      <td>VariantPrognosticProposition</td>\n",
       "      <td>Unlike other studies that suggest a poorer out...</td>\n",
       "      <td>somatic</td>\n",
       "      <td>disputes</td>\n",
       "      <td>associatedWithWorseOutcomeFor</td>\n",
       "      <td>ga4gh:VA.j4XnsLZcdzDIYa5pvvXM7t1wn9OITr0L</td>\n",
       "      <td>Papillary Thyroid Carcinoma</td>\n",
       "    </tr>\n",
       "    <tr>\n",
       "      <th>1</th>\n",
       "      <td>civic.eid:103</td>\n",
       "      <td>Statement</td>\n",
       "      <td>VariantPrognosticProposition</td>\n",
       "      <td>V600E is associated with adverse pathological ...</td>\n",
       "      <td>somatic</td>\n",
       "      <td>supports</td>\n",
       "      <td>associatedWithWorseOutcomeFor</td>\n",
       "      <td>ga4gh:VA.j4XnsLZcdzDIYa5pvvXM7t1wn9OITr0L</td>\n",
       "      <td>Colorectal Cancer</td>\n",
       "    </tr>\n",
       "    <tr>\n",
       "      <th>2</th>\n",
       "      <td>civic.eid:656</td>\n",
       "      <td>Statement</td>\n",
       "      <td>VariantPrognosticProposition</td>\n",
       "      <td>In patients with papillary thyroid cancer harb...</td>\n",
       "      <td>somatic</td>\n",
       "      <td>supports</td>\n",
       "      <td>associatedWithWorseOutcomeFor</td>\n",
       "      <td>ga4gh:VA.j4XnsLZcdzDIYa5pvvXM7t1wn9OITr0L</td>\n",
       "      <td>Papillary Thyroid Carcinoma</td>\n",
       "    </tr>\n",
       "    <tr>\n",
       "      <th>3</th>\n",
       "      <td>civic.eid:1420</td>\n",
       "      <td>Statement</td>\n",
       "      <td>VariantPrognosticProposition</td>\n",
       "      <td>Study examined rare SNPs on MAP2K7 among a dis...</td>\n",
       "      <td>germline</td>\n",
       "      <td>supports</td>\n",
       "      <td>associatedWithWorseOutcomeFor</td>\n",
       "      <td>ga4gh:VA.nE0U2q_0hSEFMnTRq7MM3ZrVByPOuTdE</td>\n",
       "      <td>Lung Cancer</td>\n",
       "    </tr>\n",
       "    <tr>\n",
       "      <th>4</th>\n",
       "      <td>civic.eid:26</td>\n",
       "      <td>Statement</td>\n",
       "      <td>VariantPrognosticProposition</td>\n",
       "      <td>In acute myloid leukemia patients, D816 mutati...</td>\n",
       "      <td>somatic</td>\n",
       "      <td>supports</td>\n",
       "      <td>associatedWithWorseOutcomeFor</td>\n",
       "      <td>ga4gh:VA.nhiDwIq1klrGm3wtWO4a4BiS0jdW79Wd</td>\n",
       "      <td>Acute Myeloid Leukemia</td>\n",
       "    </tr>\n",
       "  </tbody>\n",
       "</table>\n",
       "</div>"
      ],
      "text/plain": [
       "               id  studyType               propositionType  \\\n",
       "0   civic.eid:102  Statement  VariantPrognosticProposition   \n",
       "1   civic.eid:103  Statement  VariantPrognosticProposition   \n",
       "2   civic.eid:656  Statement  VariantPrognosticProposition   \n",
       "3  civic.eid:1420  Statement  VariantPrognosticProposition   \n",
       "4    civic.eid:26  Statement  VariantPrognosticProposition   \n",
       "\n",
       "                                         description alleleOriginQualifier  \\\n",
       "0  Unlike other studies that suggest a poorer out...               somatic   \n",
       "1  V600E is associated with adverse pathological ...               somatic   \n",
       "2  In patients with papillary thyroid cancer harb...               somatic   \n",
       "3  Study examined rare SNPs on MAP2K7 among a dis...              germline   \n",
       "4  In acute myloid leukemia patients, D816 mutati...               somatic   \n",
       "\n",
       "  direction                      predicate  \\\n",
       "0  disputes  associatedWithWorseOutcomeFor   \n",
       "1  supports  associatedWithWorseOutcomeFor   \n",
       "2  supports  associatedWithWorseOutcomeFor   \n",
       "3  supports  associatedWithWorseOutcomeFor   \n",
       "4  supports  associatedWithWorseOutcomeFor   \n",
       "\n",
       "                                     Variant                      Disease  \n",
       "0  ga4gh:VA.j4XnsLZcdzDIYa5pvvXM7t1wn9OITr0L  Papillary Thyroid Carcinoma  \n",
       "1  ga4gh:VA.j4XnsLZcdzDIYa5pvvXM7t1wn9OITr0L            Colorectal Cancer  \n",
       "2  ga4gh:VA.j4XnsLZcdzDIYa5pvvXM7t1wn9OITr0L  Papillary Thyroid Carcinoma  \n",
       "3  ga4gh:VA.nE0U2q_0hSEFMnTRq7MM3ZrVByPOuTdE                  Lung Cancer  \n",
       "4  ga4gh:VA.nhiDwIq1klrGm3wtWO4a4BiS0jdW79Wd       Acute Myeloid Leukemia  "
      ]
     },
     "execution_count": 12,
     "metadata": {},
     "output_type": "execute_result"
    }
   ],
   "source": [
    "data[['Variant','Disease']] = None \n",
    "data['Variant'] = data['id'].apply(grab_subject_variant)\n",
    "data['Disease'] = data['id'].apply(grab_qualifier_disease)\n",
    "data[0:5]"
   ]
  },
  {
   "cell_type": "code",
   "execution_count": 14,
   "metadata": {},
   "outputs": [
    {
     "data": {
      "text/plain": [
       "source\n",
       "civic    83\n",
       "moa      73\n",
       "Name: count, dtype: int64"
      ]
     },
     "execution_count": 14,
     "metadata": {},
     "output_type": "execute_result"
    }
   ],
   "source": [
    "data['source'] = data['id'].apply(lambda x: x.split('.')[0])\n",
    "data['source'].value_counts()"
   ]
  },
  {
   "cell_type": "code",
   "execution_count": 15,
   "metadata": {},
   "outputs": [
    {
     "data": {
      "text/plain": [
       "predicate\n",
       "associatedWithWorseOutcomeFor     121\n",
       "associatedWithBetterOutcomeFor     35\n",
       "Name: count, dtype: int64"
      ]
     },
     "execution_count": 15,
     "metadata": {},
     "output_type": "execute_result"
    }
   ],
   "source": [
    "data['predicate'].value_counts()"
   ]
  },
  {
   "cell_type": "code",
   "execution_count": 16,
   "metadata": {},
   "outputs": [
    {
     "data": {
      "text/plain": [
       "Variant\n",
       "ga4gh:VA.j4XnsLZcdzDIYa5pvvXM7t1wn9OITr0L    21\n",
       "ga4gh:VA.DqV_8uo_pXQ_oDiBS0RjW01imBmUDEXp     7\n",
       "ga4gh:VA.uOzCG-Blg0EEZfX9z2ZxvpGcWp7r2NrI     5\n",
       "ga4gh:VA.cdcXITbBWUXPjy3zPdhs7xjU1yvlkSrj     5\n",
       "ga4gh:VA.5GEqm-zIzvvPheyGb9rlu5DyIueIubXm     2\n",
       "                                             ..\n",
       "ga4gh:VA.pDuCLNI3mHF25uUPNSDM8LbP8p4Fsuay     1\n",
       "ga4gh:VA.FdCgpE2a3tIXl8uI7Ngiw7JO7-3sJBeK     1\n",
       "ga4gh:VA.xb30dObTCWb854GJXbRM8z6rznkk_EQ4     1\n",
       "ga4gh:VA.DhYFjPzh5PYmi9VVBykABjDGQtda800a     1\n",
       "ga4gh:VA.jKAN7kOdWcqE0xUYrUWxxUiO1KyCdEfs     1\n",
       "Name: count, Length: 109, dtype: int64"
      ]
     },
     "execution_count": 16,
     "metadata": {},
     "output_type": "execute_result"
    }
   ],
   "source": [
    "data['Variant'].value_counts()"
   ]
  },
  {
   "cell_type": "code",
   "execution_count": 17,
   "metadata": {},
   "outputs": [
    {
     "data": {
      "text/plain": [
       "Disease\n",
       "Myelodysplasia                          60\n",
       "Colorectal Cancer                       14\n",
       "Breast Cancer                           13\n",
       "Colorectal Adenocarcinoma               11\n",
       "Papillary Thyroid Carcinoma              8\n",
       "Lung Non-small Cell Carcinoma            8\n",
       "Desmoid Tumor                            4\n",
       "Spindle Cell Rhabdomyosarcoma            4\n",
       "Melanoma                                 3\n",
       "Pancreatic Cancer                        2\n",
       "Acute Myeloid Leukemia                   2\n",
       "Childhood Acute Lymphocytic Leukemia     2\n",
       "Malignant Exocrine Pancreas Neoplasm     1\n",
       "Myeloproliferative Neoplasm              1\n",
       "Lung Cancer                              1\n",
       "Chronic Myeloid Leukemia                 1\n",
       "Rectum Cancer                            1\n",
       "Cervical Cancer                          1\n",
       "B-lymphoblastic Leukemia/lymphoma        1\n",
       "Lung Adenocarcinoma                      1\n",
       "Intrahepatic Cholangiocarcinoma          1\n",
       "Pancreatic Ductal Carcinoma              1\n",
       "Neuroblastoma                            1\n",
       "Lung Carcinoma                           1\n",
       "Systemic Mastocytosis                    1\n",
       "Ovarian Cancer                           1\n",
       "Multiple Myeloma                         1\n",
       "Glioblastoma                             1\n",
       "Medullary Thyroid Carcinoma              1\n",
       "Acute Lymphoblastic Leukemia             1\n",
       "Rhabdomyosarcoma                         1\n",
       "Childhood Low-grade Glioma               1\n",
       "Chronic Lymphocytic Leukemia             1\n",
       "Clear Cell Renal Cell Carcinoma          1\n",
       "Bladder Urothelial Carcinoma             1\n",
       "Breast Carcinoma                         1\n",
       "Pancreatic Adenocarcinoma                1\n",
       "Name: count, dtype: int64"
      ]
     },
     "execution_count": 17,
     "metadata": {},
     "output_type": "execute_result"
    }
   ],
   "source": [
    "data['Disease'].value_counts()"
   ]
  },
  {
   "cell_type": "code",
   "execution_count": 18,
   "metadata": {},
   "outputs": [
    {
     "data": {
      "text/plain": [
       "Variant                                    predicate                       Disease                      \n",
       "ga4gh:VA.j4XnsLZcdzDIYa5pvvXM7t1wn9OITr0L  associatedWithWorseOutcomeFor   Papillary Thyroid Carcinoma      8\n",
       "                                                                           Colorectal Cancer                7\n",
       "ga4gh:VA.uOzCG-Blg0EEZfX9z2ZxvpGcWp7r2NrI  associatedWithWorseOutcomeFor   Spindle Cell Rhabdomyosarcoma    4\n",
       "ga4gh:VA.WCo3uQpMnNSbBMy5pKdSccudXs8ooZw9  associatedWithWorseOutcomeFor   Colorectal Cancer                2\n",
       "ga4gh:VA.NbmGko5VG3K44V5sy-uVWrQaBdnqJ227  associatedWithWorseOutcomeFor   Breast Cancer                    2\n",
       "                                                                                                           ..\n",
       "ga4gh:VA.LOox_HtWZRcuC5uo-Xc7kTHep1pfwDYo  associatedWithBetterOutcomeFor  Myelodysplasia                   1\n",
       "ga4gh:VA.JCIYeAy0qB-xdSekii9hbcEtCVfiqKVj  associatedWithBetterOutcomeFor  Desmoid Tumor                    1\n",
       "ga4gh:VA.HK1caYli9110rSKDTqSXAgzjzajRFBBv  associatedWithWorseOutcomeFor   Myelodysplasia                   1\n",
       "ga4gh:VA.Gya3mQHZ-kS-NpeAFdYlmnnUgiR6sa-J  associatedWithWorseOutcomeFor   Colorectal Adenocarcinoma        1\n",
       "ga4gh:VA.zQSbEOEp5aAT17qmRGP5s61x0GFdqX7h  associatedWithWorseOutcomeFor   Myelodysplasia                   1\n",
       "Name: count, Length: 129, dtype: int64"
      ]
     },
     "execution_count": 18,
     "metadata": {},
     "output_type": "execute_result"
    }
   ],
   "source": [
    "data[['Variant','predicate','Disease']].value_counts()"
   ]
  },
  {
   "cell_type": "code",
   "execution_count": 43,
   "metadata": {},
   "outputs": [],
   "source": [
    "# TODO: Graph these results"
   ]
  },
  {
   "cell_type": "markdown",
   "metadata": {},
   "source": [
    "## Variant Therapeutic Response Study Statements"
   ]
  },
  {
   "cell_type": "markdown",
   "metadata": {},
   "source": [
    "## Variant Diagnostic Study Statements"
   ]
  },
  {
   "cell_type": "code",
   "execution_count": null,
   "metadata": {},
   "outputs": [],
   "source": [
    "# TODO: Pull this in with an updated CDM"
   ]
  },
  {
   "cell_type": "markdown",
   "metadata": {},
   "source": [
    "## Variant Oncogenicity Study Statements"
   ]
  },
  {
   "cell_type": "code",
   "execution_count": null,
   "metadata": {},
   "outputs": [],
   "source": [
    "# TODO: This does not exist in the Neo4j yet"
   ]
  },
  {
   "cell_type": "markdown",
   "metadata": {},
   "source": [
    "## Cohort Allele Frequency Study Statements"
   ]
  },
  {
   "cell_type": "code",
   "execution_count": null,
   "metadata": {},
   "outputs": [],
   "source": [
    "# TODO: This does not exist in the Neo4j yet"
   ]
  },
  {
   "cell_type": "markdown",
   "metadata": {},
   "source": [
    "## Experimental Variant Functional Impact Study Statements"
   ]
  },
  {
   "cell_type": "code",
   "execution_count": null,
   "metadata": {},
   "outputs": [],
   "source": [
    "# TODO: This does not exist in the Neo4j yet"
   ]
  }
 ],
 "metadata": {
  "kernelspec": {
   "display_name": "3.10.14",
   "language": "python",
   "name": "python3"
  },
  "language_info": {
   "codemirror_mode": {
    "name": "ipython",
    "version": 3
   },
   "file_extension": ".py",
   "mimetype": "text/x-python",
   "name": "python",
   "nbconvert_exporter": "python",
   "pygments_lexer": "ipython3",
   "version": "3.10.14"
  }
 },
 "nbformat": 4,
 "nbformat_minor": 2
}
