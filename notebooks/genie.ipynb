{
 "cells": [
  {
   "cell_type": "code",
   "execution_count": 62,
   "metadata": {},
   "outputs": [],
   "source": [
    "import pandas as pd\n",
    "from itertools import product\n",
    "import plotly.express as px\n",
    "\n"
   ]
  },
  {
   "cell_type": "markdown",
   "metadata": {},
   "source": [
    "## Join and Normalize GENIE Data\n",
    "As part of the MetaKB v2 analysis, we will utilize part of the GENIE dataset to look at available interpretations in the aggregate knowledgebase for concepts as determined by real patient samples. We will join the mutation and clinical datasets, normalize values, and quantify interpretations."
   ]
  },
  {
   "cell_type": "code",
   "execution_count": 63,
   "metadata": {},
   "outputs": [
    {
     "data": {
      "text/html": [
       "<div>\n",
       "<style scoped>\n",
       "    .dataframe tbody tr th:only-of-type {\n",
       "        vertical-align: middle;\n",
       "    }\n",
       "\n",
       "    .dataframe tbody tr th {\n",
       "        vertical-align: top;\n",
       "    }\n",
       "\n",
       "    .dataframe thead th {\n",
       "        text-align: right;\n",
       "    }\n",
       "</style>\n",
       "<table border=\"1\" class=\"dataframe\">\n",
       "  <thead>\n",
       "    <tr style=\"text-align: right;\">\n",
       "      <th></th>\n",
       "      <th>Hugo_Symbol</th>\n",
       "      <th>Entrez_Gene_Id</th>\n",
       "      <th>Center</th>\n",
       "      <th>NCBI_Build</th>\n",
       "      <th>Chromosome</th>\n",
       "      <th>Start_Position</th>\n",
       "      <th>End_Position</th>\n",
       "      <th>Strand</th>\n",
       "      <th>Consequence</th>\n",
       "      <th>Variant_Classification</th>\n",
       "      <th>...</th>\n",
       "      <th>FILTER</th>\n",
       "      <th>Polyphen_Prediction</th>\n",
       "      <th>Polyphen_Score</th>\n",
       "      <th>SIFT_Prediction</th>\n",
       "      <th>SIFT_Score</th>\n",
       "      <th>SWISSPROT</th>\n",
       "      <th>n_depth</th>\n",
       "      <th>t_depth</th>\n",
       "      <th>Annotation_Status</th>\n",
       "      <th>mutationInCis_Flag</th>\n",
       "    </tr>\n",
       "  </thead>\n",
       "  <tbody>\n",
       "    <tr>\n",
       "      <th>0</th>\n",
       "      <td>KRAS</td>\n",
       "      <td>3845.0</td>\n",
       "      <td>JHU</td>\n",
       "      <td>GRCh37</td>\n",
       "      <td>12</td>\n",
       "      <td>25398285</td>\n",
       "      <td>25398285</td>\n",
       "      <td>+</td>\n",
       "      <td>missense_variant</td>\n",
       "      <td>Missense_Mutation</td>\n",
       "      <td>...</td>\n",
       "      <td>PASS</td>\n",
       "      <td>probably_damaging</td>\n",
       "      <td>0.991</td>\n",
       "      <td>deleterious</td>\n",
       "      <td>0.04</td>\n",
       "      <td>NaN</td>\n",
       "      <td>NaN</td>\n",
       "      <td>1623.0</td>\n",
       "      <td>SUCCESS</td>\n",
       "      <td>False</td>\n",
       "    </tr>\n",
       "    <tr>\n",
       "      <th>1</th>\n",
       "      <td>BRAF</td>\n",
       "      <td>673.0</td>\n",
       "      <td>JHU</td>\n",
       "      <td>GRCh37</td>\n",
       "      <td>7</td>\n",
       "      <td>140453136</td>\n",
       "      <td>140453136</td>\n",
       "      <td>+</td>\n",
       "      <td>missense_variant</td>\n",
       "      <td>Missense_Mutation</td>\n",
       "      <td>...</td>\n",
       "      <td>PASS</td>\n",
       "      <td>probably_damaging</td>\n",
       "      <td>0.963</td>\n",
       "      <td>deleterious</td>\n",
       "      <td>0.00</td>\n",
       "      <td>NaN</td>\n",
       "      <td>NaN</td>\n",
       "      <td>1031.0</td>\n",
       "      <td>SUCCESS</td>\n",
       "      <td>False</td>\n",
       "    </tr>\n",
       "    <tr>\n",
       "      <th>2</th>\n",
       "      <td>EGFR</td>\n",
       "      <td>1956.0</td>\n",
       "      <td>JHU</td>\n",
       "      <td>GRCh37</td>\n",
       "      <td>7</td>\n",
       "      <td>55249071</td>\n",
       "      <td>55249071</td>\n",
       "      <td>+</td>\n",
       "      <td>missense_variant</td>\n",
       "      <td>Missense_Mutation</td>\n",
       "      <td>...</td>\n",
       "      <td>PASS</td>\n",
       "      <td>probably_damaging</td>\n",
       "      <td>1.000</td>\n",
       "      <td>deleterious</td>\n",
       "      <td>0.00</td>\n",
       "      <td>NaN</td>\n",
       "      <td>NaN</td>\n",
       "      <td>692.0</td>\n",
       "      <td>SUCCESS</td>\n",
       "      <td>False</td>\n",
       "    </tr>\n",
       "    <tr>\n",
       "      <th>3</th>\n",
       "      <td>TP53</td>\n",
       "      <td>7157.0</td>\n",
       "      <td>JHU</td>\n",
       "      <td>GRCh37</td>\n",
       "      <td>17</td>\n",
       "      <td>7577120</td>\n",
       "      <td>7577120</td>\n",
       "      <td>+</td>\n",
       "      <td>missense_variant</td>\n",
       "      <td>Missense_Mutation</td>\n",
       "      <td>...</td>\n",
       "      <td>PASS</td>\n",
       "      <td>possibly_damaging</td>\n",
       "      <td>0.643</td>\n",
       "      <td>tolerated</td>\n",
       "      <td>0.13</td>\n",
       "      <td>NaN</td>\n",
       "      <td>NaN</td>\n",
       "      <td>930.0</td>\n",
       "      <td>SUCCESS</td>\n",
       "      <td>False</td>\n",
       "    </tr>\n",
       "    <tr>\n",
       "      <th>4</th>\n",
       "      <td>NRAS</td>\n",
       "      <td>4893.0</td>\n",
       "      <td>JHU</td>\n",
       "      <td>GRCh37</td>\n",
       "      <td>1</td>\n",
       "      <td>115256529</td>\n",
       "      <td>115256529</td>\n",
       "      <td>+</td>\n",
       "      <td>missense_variant</td>\n",
       "      <td>Missense_Mutation</td>\n",
       "      <td>...</td>\n",
       "      <td>PASS</td>\n",
       "      <td>benign</td>\n",
       "      <td>0.251</td>\n",
       "      <td>tolerated</td>\n",
       "      <td>0.06</td>\n",
       "      <td>NaN</td>\n",
       "      <td>NaN</td>\n",
       "      <td>2277.0</td>\n",
       "      <td>SUCCESS</td>\n",
       "      <td>False</td>\n",
       "    </tr>\n",
       "  </tbody>\n",
       "</table>\n",
       "<p>5 rows × 64 columns</p>\n",
       "</div>"
      ],
      "text/plain": [
       "  Hugo_Symbol  Entrez_Gene_Id Center NCBI_Build Chromosome  Start_Position  \\\n",
       "0        KRAS          3845.0    JHU     GRCh37         12        25398285   \n",
       "1        BRAF           673.0    JHU     GRCh37          7       140453136   \n",
       "2        EGFR          1956.0    JHU     GRCh37          7        55249071   \n",
       "3        TP53          7157.0    JHU     GRCh37         17         7577120   \n",
       "4        NRAS          4893.0    JHU     GRCh37          1       115256529   \n",
       "\n",
       "   End_Position Strand       Consequence Variant_Classification  ... FILTER  \\\n",
       "0      25398285      +  missense_variant      Missense_Mutation  ...   PASS   \n",
       "1     140453136      +  missense_variant      Missense_Mutation  ...   PASS   \n",
       "2      55249071      +  missense_variant      Missense_Mutation  ...   PASS   \n",
       "3       7577120      +  missense_variant      Missense_Mutation  ...   PASS   \n",
       "4     115256529      +  missense_variant      Missense_Mutation  ...   PASS   \n",
       "\n",
       "  Polyphen_Prediction Polyphen_Score SIFT_Prediction SIFT_Score  SWISSPROT  \\\n",
       "0   probably_damaging          0.991     deleterious       0.04        NaN   \n",
       "1   probably_damaging          0.963     deleterious       0.00        NaN   \n",
       "2   probably_damaging          1.000     deleterious       0.00        NaN   \n",
       "3   possibly_damaging          0.643       tolerated       0.13        NaN   \n",
       "4              benign          0.251       tolerated       0.06        NaN   \n",
       "\n",
       "  n_depth t_depth Annotation_Status mutationInCis_Flag  \n",
       "0     NaN  1623.0           SUCCESS              False  \n",
       "1     NaN  1031.0           SUCCESS              False  \n",
       "2     NaN   692.0           SUCCESS              False  \n",
       "3     NaN   930.0           SUCCESS              False  \n",
       "4     NaN  2277.0           SUCCESS              False  \n",
       "\n",
       "[5 rows x 64 columns]"
      ]
     },
     "execution_count": 63,
     "metadata": {},
     "output_type": "execute_result"
    }
   ],
   "source": [
    "# Project GENIE Mutation Dataset\n",
    "muts = pd.read_csv('genie_data/data_mutations_extended.txt',sep='\\t', low_memory=False)\n",
    "muts[0:5]"
   ]
  },
  {
   "cell_type": "code",
   "execution_count": 64,
   "metadata": {},
   "outputs": [
    {
     "data": {
      "text/html": [
       "<div>\n",
       "<style scoped>\n",
       "    .dataframe tbody tr th:only-of-type {\n",
       "        vertical-align: middle;\n",
       "    }\n",
       "\n",
       "    .dataframe tbody tr th {\n",
       "        vertical-align: top;\n",
       "    }\n",
       "\n",
       "    .dataframe thead th {\n",
       "        text-align: right;\n",
       "    }\n",
       "</style>\n",
       "<table border=\"1\" class=\"dataframe\">\n",
       "  <thead>\n",
       "    <tr style=\"text-align: right;\">\n",
       "      <th></th>\n",
       "      <th>PATIENT_ID</th>\n",
       "      <th>SAMPLE_ID</th>\n",
       "      <th>AGE_AT_SEQ_REPORT</th>\n",
       "      <th>ONCOTREE_CODE</th>\n",
       "      <th>SAMPLE_TYPE</th>\n",
       "      <th>SEQ_ASSAY_ID</th>\n",
       "      <th>CANCER_TYPE</th>\n",
       "      <th>CANCER_TYPE_DETAILED</th>\n",
       "      <th>SAMPLE_TYPE_DETAILED</th>\n",
       "      <th>SAMPLE_CLASS</th>\n",
       "    </tr>\n",
       "  </thead>\n",
       "  <tbody>\n",
       "    <tr>\n",
       "      <th>0</th>\n",
       "      <td>GENIE-VICC-101416</td>\n",
       "      <td>GENIE-VICC-101416-unk-1</td>\n",
       "      <td>52</td>\n",
       "      <td>MAAP</td>\n",
       "      <td>Primary</td>\n",
       "      <td>VICC-01-T7</td>\n",
       "      <td>Appendiceal Cancer</td>\n",
       "      <td>Mucinous Adenocarcinoma of the Appendix</td>\n",
       "      <td>Primary tumor</td>\n",
       "      <td>Tumor</td>\n",
       "    </tr>\n",
       "    <tr>\n",
       "      <th>1</th>\n",
       "      <td>GENIE-VICC-102225</td>\n",
       "      <td>GENIE-VICC-102225-unk-1</td>\n",
       "      <td>31</td>\n",
       "      <td>READ</td>\n",
       "      <td>Metastasis</td>\n",
       "      <td>VICC-01-T7</td>\n",
       "      <td>Colorectal Cancer</td>\n",
       "      <td>Rectal Adenocarcinoma</td>\n",
       "      <td>Metastasis site unspecified</td>\n",
       "      <td>Tumor</td>\n",
       "    </tr>\n",
       "    <tr>\n",
       "      <th>2</th>\n",
       "      <td>GENIE-VICC-102424</td>\n",
       "      <td>GENIE-VICC-102424-unk-1</td>\n",
       "      <td>63</td>\n",
       "      <td>SCCNOS</td>\n",
       "      <td>Metastasis</td>\n",
       "      <td>VICC-01-T7</td>\n",
       "      <td>Cancer of Unknown Primary</td>\n",
       "      <td>Squamous Cell Carcinoma, NOS</td>\n",
       "      <td>Metastasis site unspecified</td>\n",
       "      <td>Tumor</td>\n",
       "    </tr>\n",
       "    <tr>\n",
       "      <th>3</th>\n",
       "      <td>GENIE-VICC-102966</td>\n",
       "      <td>GENIE-VICC-102966-unk-1</td>\n",
       "      <td>64</td>\n",
       "      <td>LUAD</td>\n",
       "      <td>Metastasis</td>\n",
       "      <td>VICC-01-T7</td>\n",
       "      <td>Non-Small Cell Lung Cancer</td>\n",
       "      <td>Lung Adenocarcinoma</td>\n",
       "      <td>Metastasis site unspecified</td>\n",
       "      <td>Tumor</td>\n",
       "    </tr>\n",
       "    <tr>\n",
       "      <th>4</th>\n",
       "      <td>GENIE-VICC-103244</td>\n",
       "      <td>GENIE-VICC-103244-unk-1</td>\n",
       "      <td>50</td>\n",
       "      <td>IDC</td>\n",
       "      <td>Primary</td>\n",
       "      <td>VICC-01-T5A</td>\n",
       "      <td>Breast Cancer</td>\n",
       "      <td>Breast Invasive Ductal Carcinoma</td>\n",
       "      <td>Primary tumor</td>\n",
       "      <td>Tumor</td>\n",
       "    </tr>\n",
       "  </tbody>\n",
       "</table>\n",
       "</div>"
      ],
      "text/plain": [
       "          PATIENT_ID                SAMPLE_ID AGE_AT_SEQ_REPORT ONCOTREE_CODE  \\\n",
       "0  GENIE-VICC-101416  GENIE-VICC-101416-unk-1                52          MAAP   \n",
       "1  GENIE-VICC-102225  GENIE-VICC-102225-unk-1                31          READ   \n",
       "2  GENIE-VICC-102424  GENIE-VICC-102424-unk-1                63        SCCNOS   \n",
       "3  GENIE-VICC-102966  GENIE-VICC-102966-unk-1                64          LUAD   \n",
       "4  GENIE-VICC-103244  GENIE-VICC-103244-unk-1                50           IDC   \n",
       "\n",
       "  SAMPLE_TYPE SEQ_ASSAY_ID                 CANCER_TYPE  \\\n",
       "0     Primary   VICC-01-T7          Appendiceal Cancer   \n",
       "1  Metastasis   VICC-01-T7           Colorectal Cancer   \n",
       "2  Metastasis   VICC-01-T7   Cancer of Unknown Primary   \n",
       "3  Metastasis   VICC-01-T7  Non-Small Cell Lung Cancer   \n",
       "4     Primary  VICC-01-T5A               Breast Cancer   \n",
       "\n",
       "                      CANCER_TYPE_DETAILED         SAMPLE_TYPE_DETAILED  \\\n",
       "0  Mucinous Adenocarcinoma of the Appendix                Primary tumor   \n",
       "1                    Rectal Adenocarcinoma  Metastasis site unspecified   \n",
       "2             Squamous Cell Carcinoma, NOS  Metastasis site unspecified   \n",
       "3                      Lung Adenocarcinoma  Metastasis site unspecified   \n",
       "4         Breast Invasive Ductal Carcinoma                Primary tumor   \n",
       "\n",
       "  SAMPLE_CLASS  \n",
       "0        Tumor  \n",
       "1        Tumor  \n",
       "2        Tumor  \n",
       "3        Tumor  \n",
       "4        Tumor  "
      ]
     },
     "execution_count": 64,
     "metadata": {},
     "output_type": "execute_result"
    }
   ],
   "source": [
    "# Project GENIE Clinical Dataset\n",
    "clin = pd.read_csv('genie_data/data_clinical_sample.txt',sep='\\t', low_memory=False, header=4)\n",
    "clin[0:5]"
   ]
  },
  {
   "cell_type": "code",
   "execution_count": 65,
   "metadata": {},
   "outputs": [
    {
     "data": {
      "text/html": [
       "<div>\n",
       "<style scoped>\n",
       "    .dataframe tbody tr th:only-of-type {\n",
       "        vertical-align: middle;\n",
       "    }\n",
       "\n",
       "    .dataframe tbody tr th {\n",
       "        vertical-align: top;\n",
       "    }\n",
       "\n",
       "    .dataframe thead th {\n",
       "        text-align: right;\n",
       "    }\n",
       "</style>\n",
       "<table border=\"1\" class=\"dataframe\">\n",
       "  <thead>\n",
       "    <tr style=\"text-align: right;\">\n",
       "      <th></th>\n",
       "      <th>Hugo_Symbol</th>\n",
       "      <th>Entrez_Gene_Id</th>\n",
       "      <th>Center</th>\n",
       "      <th>NCBI_Build</th>\n",
       "      <th>Chromosome</th>\n",
       "      <th>Start_Position</th>\n",
       "      <th>End_Position</th>\n",
       "      <th>Strand</th>\n",
       "      <th>Consequence</th>\n",
       "      <th>Variant_Classification</th>\n",
       "      <th>...</th>\n",
       "      <th>PATIENT_ID</th>\n",
       "      <th>SAMPLE_ID</th>\n",
       "      <th>AGE_AT_SEQ_REPORT</th>\n",
       "      <th>ONCOTREE_CODE</th>\n",
       "      <th>SAMPLE_TYPE</th>\n",
       "      <th>SEQ_ASSAY_ID</th>\n",
       "      <th>CANCER_TYPE</th>\n",
       "      <th>CANCER_TYPE_DETAILED</th>\n",
       "      <th>SAMPLE_TYPE_DETAILED</th>\n",
       "      <th>SAMPLE_CLASS</th>\n",
       "    </tr>\n",
       "  </thead>\n",
       "  <tbody>\n",
       "    <tr>\n",
       "      <th>0</th>\n",
       "      <td>KRAS</td>\n",
       "      <td>3845.0</td>\n",
       "      <td>JHU</td>\n",
       "      <td>GRCh37</td>\n",
       "      <td>12</td>\n",
       "      <td>25398285</td>\n",
       "      <td>25398285</td>\n",
       "      <td>+</td>\n",
       "      <td>missense_variant</td>\n",
       "      <td>Missense_Mutation</td>\n",
       "      <td>...</td>\n",
       "      <td>GENIE-JHU-00006</td>\n",
       "      <td>GENIE-JHU-00006-00185</td>\n",
       "      <td>61</td>\n",
       "      <td>LUAD</td>\n",
       "      <td>Primary</td>\n",
       "      <td>JHU-50GP</td>\n",
       "      <td>Non-Small Cell Lung Cancer</td>\n",
       "      <td>Lung Adenocarcinoma</td>\n",
       "      <td>Primary tumor</td>\n",
       "      <td>Tumor</td>\n",
       "    </tr>\n",
       "    <tr>\n",
       "      <th>1</th>\n",
       "      <td>BRAF</td>\n",
       "      <td>673.0</td>\n",
       "      <td>JHU</td>\n",
       "      <td>GRCh37</td>\n",
       "      <td>7</td>\n",
       "      <td>140453136</td>\n",
       "      <td>140453136</td>\n",
       "      <td>+</td>\n",
       "      <td>missense_variant</td>\n",
       "      <td>Missense_Mutation</td>\n",
       "      <td>...</td>\n",
       "      <td>GENIE-JHU-00006</td>\n",
       "      <td>GENIE-JHU-00006-00185</td>\n",
       "      <td>61</td>\n",
       "      <td>LUAD</td>\n",
       "      <td>Primary</td>\n",
       "      <td>JHU-50GP</td>\n",
       "      <td>Non-Small Cell Lung Cancer</td>\n",
       "      <td>Lung Adenocarcinoma</td>\n",
       "      <td>Primary tumor</td>\n",
       "      <td>Tumor</td>\n",
       "    </tr>\n",
       "    <tr>\n",
       "      <th>2</th>\n",
       "      <td>EGFR</td>\n",
       "      <td>1956.0</td>\n",
       "      <td>JHU</td>\n",
       "      <td>GRCh37</td>\n",
       "      <td>7</td>\n",
       "      <td>55249071</td>\n",
       "      <td>55249071</td>\n",
       "      <td>+</td>\n",
       "      <td>missense_variant</td>\n",
       "      <td>Missense_Mutation</td>\n",
       "      <td>...</td>\n",
       "      <td>GENIE-JHU-00006</td>\n",
       "      <td>GENIE-JHU-00006-00185</td>\n",
       "      <td>61</td>\n",
       "      <td>LUAD</td>\n",
       "      <td>Primary</td>\n",
       "      <td>JHU-50GP</td>\n",
       "      <td>Non-Small Cell Lung Cancer</td>\n",
       "      <td>Lung Adenocarcinoma</td>\n",
       "      <td>Primary tumor</td>\n",
       "      <td>Tumor</td>\n",
       "    </tr>\n",
       "    <tr>\n",
       "      <th>3</th>\n",
       "      <td>TP53</td>\n",
       "      <td>7157.0</td>\n",
       "      <td>JHU</td>\n",
       "      <td>GRCh37</td>\n",
       "      <td>17</td>\n",
       "      <td>7577120</td>\n",
       "      <td>7577120</td>\n",
       "      <td>+</td>\n",
       "      <td>missense_variant</td>\n",
       "      <td>Missense_Mutation</td>\n",
       "      <td>...</td>\n",
       "      <td>GENIE-JHU-00006</td>\n",
       "      <td>GENIE-JHU-00006-00185</td>\n",
       "      <td>61</td>\n",
       "      <td>LUAD</td>\n",
       "      <td>Primary</td>\n",
       "      <td>JHU-50GP</td>\n",
       "      <td>Non-Small Cell Lung Cancer</td>\n",
       "      <td>Lung Adenocarcinoma</td>\n",
       "      <td>Primary tumor</td>\n",
       "      <td>Tumor</td>\n",
       "    </tr>\n",
       "    <tr>\n",
       "      <th>4</th>\n",
       "      <td>NRAS</td>\n",
       "      <td>4893.0</td>\n",
       "      <td>JHU</td>\n",
       "      <td>GRCh37</td>\n",
       "      <td>1</td>\n",
       "      <td>115256529</td>\n",
       "      <td>115256529</td>\n",
       "      <td>+</td>\n",
       "      <td>missense_variant</td>\n",
       "      <td>Missense_Mutation</td>\n",
       "      <td>...</td>\n",
       "      <td>GENIE-JHU-00006</td>\n",
       "      <td>GENIE-JHU-00006-00185</td>\n",
       "      <td>61</td>\n",
       "      <td>LUAD</td>\n",
       "      <td>Primary</td>\n",
       "      <td>JHU-50GP</td>\n",
       "      <td>Non-Small Cell Lung Cancer</td>\n",
       "      <td>Lung Adenocarcinoma</td>\n",
       "      <td>Primary tumor</td>\n",
       "      <td>Tumor</td>\n",
       "    </tr>\n",
       "  </tbody>\n",
       "</table>\n",
       "<p>5 rows × 74 columns</p>\n",
       "</div>"
      ],
      "text/plain": [
       "  Hugo_Symbol  Entrez_Gene_Id Center NCBI_Build Chromosome  Start_Position  \\\n",
       "0        KRAS          3845.0    JHU     GRCh37         12        25398285   \n",
       "1        BRAF           673.0    JHU     GRCh37          7       140453136   \n",
       "2        EGFR          1956.0    JHU     GRCh37          7        55249071   \n",
       "3        TP53          7157.0    JHU     GRCh37         17         7577120   \n",
       "4        NRAS          4893.0    JHU     GRCh37          1       115256529   \n",
       "\n",
       "   End_Position Strand       Consequence Variant_Classification  ...  \\\n",
       "0      25398285      +  missense_variant      Missense_Mutation  ...   \n",
       "1     140453136      +  missense_variant      Missense_Mutation  ...   \n",
       "2      55249071      +  missense_variant      Missense_Mutation  ...   \n",
       "3       7577120      +  missense_variant      Missense_Mutation  ...   \n",
       "4     115256529      +  missense_variant      Missense_Mutation  ...   \n",
       "\n",
       "        PATIENT_ID              SAMPLE_ID AGE_AT_SEQ_REPORT ONCOTREE_CODE  \\\n",
       "0  GENIE-JHU-00006  GENIE-JHU-00006-00185                61          LUAD   \n",
       "1  GENIE-JHU-00006  GENIE-JHU-00006-00185                61          LUAD   \n",
       "2  GENIE-JHU-00006  GENIE-JHU-00006-00185                61          LUAD   \n",
       "3  GENIE-JHU-00006  GENIE-JHU-00006-00185                61          LUAD   \n",
       "4  GENIE-JHU-00006  GENIE-JHU-00006-00185                61          LUAD   \n",
       "\n",
       "  SAMPLE_TYPE  SEQ_ASSAY_ID                 CANCER_TYPE CANCER_TYPE_DETAILED  \\\n",
       "0     Primary      JHU-50GP  Non-Small Cell Lung Cancer  Lung Adenocarcinoma   \n",
       "1     Primary      JHU-50GP  Non-Small Cell Lung Cancer  Lung Adenocarcinoma   \n",
       "2     Primary      JHU-50GP  Non-Small Cell Lung Cancer  Lung Adenocarcinoma   \n",
       "3     Primary      JHU-50GP  Non-Small Cell Lung Cancer  Lung Adenocarcinoma   \n",
       "4     Primary      JHU-50GP  Non-Small Cell Lung Cancer  Lung Adenocarcinoma   \n",
       "\n",
       "  SAMPLE_TYPE_DETAILED SAMPLE_CLASS  \n",
       "0        Primary tumor        Tumor  \n",
       "1        Primary tumor        Tumor  \n",
       "2        Primary tumor        Tumor  \n",
       "3        Primary tumor        Tumor  \n",
       "4        Primary tumor        Tumor  \n",
       "\n",
       "[5 rows x 74 columns]"
      ]
     },
     "execution_count": 65,
     "metadata": {},
     "output_type": "execute_result"
    }
   ],
   "source": [
    "# Join the two data sets on patient identifiers\n",
    "df = pd.merge(muts, clin, left_on='Tumor_Sample_Barcode', right_on='SAMPLE_ID', how=\"left\")\n",
    "df[0:5]"
   ]
  },
  {
   "cell_type": "code",
   "execution_count": 82,
   "metadata": {},
   "outputs": [
    {
     "data": {
      "text/plain": [
       "1876024"
      ]
     },
     "execution_count": 82,
     "metadata": {},
     "output_type": "execute_result"
    }
   ],
   "source": [
    "len(df)"
   ]
  },
  {
   "cell_type": "code",
   "execution_count": 66,
   "metadata": {},
   "outputs": [
    {
     "data": {
      "text/plain": [
       "{'3_prime_UTR_variant',\n",
       " '5_prime_UTR_variant',\n",
       " 'NMD_transcript_variant',\n",
       " 'coding_sequence_variant',\n",
       " 'downstream_gene_variant',\n",
       " 'frameshift_variant',\n",
       " 'incomplete_terminal_codon_variant',\n",
       " 'inframe_deletion',\n",
       " 'inframe_insertion',\n",
       " 'intron_variant',\n",
       " 'mature_miRNA_variant',\n",
       " 'missense_variant',\n",
       " 'non_coding_transcript_exon_variant',\n",
       " 'non_coding_transcript_variant',\n",
       " 'protein_altering_variant',\n",
       " 'splice_acceptor_variant',\n",
       " 'splice_donor_variant',\n",
       " 'splice_region_variant',\n",
       " 'start_lost',\n",
       " 'start_retained_variant',\n",
       " 'stop_gained',\n",
       " 'stop_lost',\n",
       " 'stop_retained_variant',\n",
       " 'synonymous_variant',\n",
       " 'upstream_gene_variant'}"
      ]
     },
     "execution_count": 66,
     "metadata": {},
     "output_type": "execute_result"
    }
   ],
   "source": [
    "# From MetaKB v1 paper --> Exclude silent, 3' Flank, 3'UTR, 5'Flank, 5'UR, Intron, Splice_region\n",
    "# 3_prime_UTR_variant, 5_prime_UTR_variant, splice_region_variant, splice_acceptor_variant, splice_donor_variant, intron_variant, synonymous_variant \n",
    "all_consequences = []\n",
    "for entry in df['Consequence']:\n",
    "    if isinstance(entry,float):\n",
    "        pass\n",
    "    else:\n",
    "        consequences = entry.split(',')\n",
    "        all_consequences.extend(consequences)\n",
    "set(all_consequences) \n",
    "\n",
    "# TODO: how do start/stop_retained variants function? are these silent?"
   ]
  },
  {
   "cell_type": "code",
   "execution_count": 67,
   "metadata": {},
   "outputs": [
    {
     "data": {
      "text/html": [
       "<div>\n",
       "<style scoped>\n",
       "    .dataframe tbody tr th:only-of-type {\n",
       "        vertical-align: middle;\n",
       "    }\n",
       "\n",
       "    .dataframe tbody tr th {\n",
       "        vertical-align: top;\n",
       "    }\n",
       "\n",
       "    .dataframe thead th {\n",
       "        text-align: right;\n",
       "    }\n",
       "</style>\n",
       "<table border=\"1\" class=\"dataframe\">\n",
       "  <thead>\n",
       "    <tr style=\"text-align: right;\">\n",
       "      <th></th>\n",
       "      <th>Hugo_Symbol</th>\n",
       "      <th>Entrez_Gene_Id</th>\n",
       "      <th>Center</th>\n",
       "      <th>NCBI_Build</th>\n",
       "      <th>Chromosome</th>\n",
       "      <th>Start_Position</th>\n",
       "      <th>End_Position</th>\n",
       "      <th>Strand</th>\n",
       "      <th>Consequence</th>\n",
       "      <th>Variant_Classification</th>\n",
       "      <th>...</th>\n",
       "      <th>PATIENT_ID</th>\n",
       "      <th>SAMPLE_ID</th>\n",
       "      <th>AGE_AT_SEQ_REPORT</th>\n",
       "      <th>ONCOTREE_CODE</th>\n",
       "      <th>SAMPLE_TYPE</th>\n",
       "      <th>SEQ_ASSAY_ID</th>\n",
       "      <th>CANCER_TYPE</th>\n",
       "      <th>CANCER_TYPE_DETAILED</th>\n",
       "      <th>SAMPLE_TYPE_DETAILED</th>\n",
       "      <th>SAMPLE_CLASS</th>\n",
       "    </tr>\n",
       "  </thead>\n",
       "  <tbody>\n",
       "    <tr>\n",
       "      <th>0</th>\n",
       "      <td>KRAS</td>\n",
       "      <td>3845.0</td>\n",
       "      <td>JHU</td>\n",
       "      <td>GRCh37</td>\n",
       "      <td>12</td>\n",
       "      <td>25398285</td>\n",
       "      <td>25398285</td>\n",
       "      <td>+</td>\n",
       "      <td>missense_variant</td>\n",
       "      <td>Missense_Mutation</td>\n",
       "      <td>...</td>\n",
       "      <td>GENIE-JHU-00006</td>\n",
       "      <td>GENIE-JHU-00006-00185</td>\n",
       "      <td>61</td>\n",
       "      <td>LUAD</td>\n",
       "      <td>Primary</td>\n",
       "      <td>JHU-50GP</td>\n",
       "      <td>Non-Small Cell Lung Cancer</td>\n",
       "      <td>Lung Adenocarcinoma</td>\n",
       "      <td>Primary tumor</td>\n",
       "      <td>Tumor</td>\n",
       "    </tr>\n",
       "    <tr>\n",
       "      <th>1</th>\n",
       "      <td>BRAF</td>\n",
       "      <td>673.0</td>\n",
       "      <td>JHU</td>\n",
       "      <td>GRCh37</td>\n",
       "      <td>7</td>\n",
       "      <td>140453136</td>\n",
       "      <td>140453136</td>\n",
       "      <td>+</td>\n",
       "      <td>missense_variant</td>\n",
       "      <td>Missense_Mutation</td>\n",
       "      <td>...</td>\n",
       "      <td>GENIE-JHU-00006</td>\n",
       "      <td>GENIE-JHU-00006-00185</td>\n",
       "      <td>61</td>\n",
       "      <td>LUAD</td>\n",
       "      <td>Primary</td>\n",
       "      <td>JHU-50GP</td>\n",
       "      <td>Non-Small Cell Lung Cancer</td>\n",
       "      <td>Lung Adenocarcinoma</td>\n",
       "      <td>Primary tumor</td>\n",
       "      <td>Tumor</td>\n",
       "    </tr>\n",
       "    <tr>\n",
       "      <th>2</th>\n",
       "      <td>EGFR</td>\n",
       "      <td>1956.0</td>\n",
       "      <td>JHU</td>\n",
       "      <td>GRCh37</td>\n",
       "      <td>7</td>\n",
       "      <td>55249071</td>\n",
       "      <td>55249071</td>\n",
       "      <td>+</td>\n",
       "      <td>missense_variant</td>\n",
       "      <td>Missense_Mutation</td>\n",
       "      <td>...</td>\n",
       "      <td>GENIE-JHU-00006</td>\n",
       "      <td>GENIE-JHU-00006-00185</td>\n",
       "      <td>61</td>\n",
       "      <td>LUAD</td>\n",
       "      <td>Primary</td>\n",
       "      <td>JHU-50GP</td>\n",
       "      <td>Non-Small Cell Lung Cancer</td>\n",
       "      <td>Lung Adenocarcinoma</td>\n",
       "      <td>Primary tumor</td>\n",
       "      <td>Tumor</td>\n",
       "    </tr>\n",
       "    <tr>\n",
       "      <th>3</th>\n",
       "      <td>TP53</td>\n",
       "      <td>7157.0</td>\n",
       "      <td>JHU</td>\n",
       "      <td>GRCh37</td>\n",
       "      <td>17</td>\n",
       "      <td>7577120</td>\n",
       "      <td>7577120</td>\n",
       "      <td>+</td>\n",
       "      <td>missense_variant</td>\n",
       "      <td>Missense_Mutation</td>\n",
       "      <td>...</td>\n",
       "      <td>GENIE-JHU-00006</td>\n",
       "      <td>GENIE-JHU-00006-00185</td>\n",
       "      <td>61</td>\n",
       "      <td>LUAD</td>\n",
       "      <td>Primary</td>\n",
       "      <td>JHU-50GP</td>\n",
       "      <td>Non-Small Cell Lung Cancer</td>\n",
       "      <td>Lung Adenocarcinoma</td>\n",
       "      <td>Primary tumor</td>\n",
       "      <td>Tumor</td>\n",
       "    </tr>\n",
       "    <tr>\n",
       "      <th>4</th>\n",
       "      <td>NRAS</td>\n",
       "      <td>4893.0</td>\n",
       "      <td>JHU</td>\n",
       "      <td>GRCh37</td>\n",
       "      <td>1</td>\n",
       "      <td>115256529</td>\n",
       "      <td>115256529</td>\n",
       "      <td>+</td>\n",
       "      <td>missense_variant</td>\n",
       "      <td>Missense_Mutation</td>\n",
       "      <td>...</td>\n",
       "      <td>GENIE-JHU-00006</td>\n",
       "      <td>GENIE-JHU-00006-00185</td>\n",
       "      <td>61</td>\n",
       "      <td>LUAD</td>\n",
       "      <td>Primary</td>\n",
       "      <td>JHU-50GP</td>\n",
       "      <td>Non-Small Cell Lung Cancer</td>\n",
       "      <td>Lung Adenocarcinoma</td>\n",
       "      <td>Primary tumor</td>\n",
       "      <td>Tumor</td>\n",
       "    </tr>\n",
       "  </tbody>\n",
       "</table>\n",
       "<p>5 rows × 74 columns</p>\n",
       "</div>"
      ],
      "text/plain": [
       "  Hugo_Symbol  Entrez_Gene_Id Center NCBI_Build Chromosome  Start_Position  \\\n",
       "0        KRAS          3845.0    JHU     GRCh37         12        25398285   \n",
       "1        BRAF           673.0    JHU     GRCh37          7       140453136   \n",
       "2        EGFR          1956.0    JHU     GRCh37          7        55249071   \n",
       "3        TP53          7157.0    JHU     GRCh37         17         7577120   \n",
       "4        NRAS          4893.0    JHU     GRCh37          1       115256529   \n",
       "\n",
       "   End_Position Strand       Consequence Variant_Classification  ...  \\\n",
       "0      25398285      +  missense_variant      Missense_Mutation  ...   \n",
       "1     140453136      +  missense_variant      Missense_Mutation  ...   \n",
       "2      55249071      +  missense_variant      Missense_Mutation  ...   \n",
       "3       7577120      +  missense_variant      Missense_Mutation  ...   \n",
       "4     115256529      +  missense_variant      Missense_Mutation  ...   \n",
       "\n",
       "        PATIENT_ID              SAMPLE_ID AGE_AT_SEQ_REPORT ONCOTREE_CODE  \\\n",
       "0  GENIE-JHU-00006  GENIE-JHU-00006-00185                61          LUAD   \n",
       "1  GENIE-JHU-00006  GENIE-JHU-00006-00185                61          LUAD   \n",
       "2  GENIE-JHU-00006  GENIE-JHU-00006-00185                61          LUAD   \n",
       "3  GENIE-JHU-00006  GENIE-JHU-00006-00185                61          LUAD   \n",
       "4  GENIE-JHU-00006  GENIE-JHU-00006-00185                61          LUAD   \n",
       "\n",
       "  SAMPLE_TYPE  SEQ_ASSAY_ID                 CANCER_TYPE CANCER_TYPE_DETAILED  \\\n",
       "0     Primary      JHU-50GP  Non-Small Cell Lung Cancer  Lung Adenocarcinoma   \n",
       "1     Primary      JHU-50GP  Non-Small Cell Lung Cancer  Lung Adenocarcinoma   \n",
       "2     Primary      JHU-50GP  Non-Small Cell Lung Cancer  Lung Adenocarcinoma   \n",
       "3     Primary      JHU-50GP  Non-Small Cell Lung Cancer  Lung Adenocarcinoma   \n",
       "4     Primary      JHU-50GP  Non-Small Cell Lung Cancer  Lung Adenocarcinoma   \n",
       "\n",
       "  SAMPLE_TYPE_DETAILED SAMPLE_CLASS  \n",
       "0        Primary tumor        Tumor  \n",
       "1        Primary tumor        Tumor  \n",
       "2        Primary tumor        Tumor  \n",
       "3        Primary tumor        Tumor  \n",
       "4        Primary tumor        Tumor  \n",
       "\n",
       "[5 rows x 74 columns]"
      ]
     },
     "execution_count": 67,
     "metadata": {},
     "output_type": "execute_result"
    }
   ],
   "source": [
    "# No Consequence (NA) also means silent? Drop!\n",
    "df = df.dropna(subset=['Consequence']).reset_index(drop=True)\n",
    "df[0:5]"
   ]
  },
  {
   "cell_type": "code",
   "execution_count": 68,
   "metadata": {},
   "outputs": [
    {
     "data": {
      "text/html": [
       "<div>\n",
       "<style scoped>\n",
       "    .dataframe tbody tr th:only-of-type {\n",
       "        vertical-align: middle;\n",
       "    }\n",
       "\n",
       "    .dataframe tbody tr th {\n",
       "        vertical-align: top;\n",
       "    }\n",
       "\n",
       "    .dataframe thead th {\n",
       "        text-align: right;\n",
       "    }\n",
       "</style>\n",
       "<table border=\"1\" class=\"dataframe\">\n",
       "  <thead>\n",
       "    <tr style=\"text-align: right;\">\n",
       "      <th></th>\n",
       "      <th>Hugo_Symbol</th>\n",
       "      <th>Entrez_Gene_Id</th>\n",
       "      <th>Center</th>\n",
       "      <th>NCBI_Build</th>\n",
       "      <th>Chromosome</th>\n",
       "      <th>Start_Position</th>\n",
       "      <th>End_Position</th>\n",
       "      <th>Strand</th>\n",
       "      <th>Consequence</th>\n",
       "      <th>Variant_Classification</th>\n",
       "      <th>...</th>\n",
       "      <th>SAMPLE_ID</th>\n",
       "      <th>AGE_AT_SEQ_REPORT</th>\n",
       "      <th>ONCOTREE_CODE</th>\n",
       "      <th>SAMPLE_TYPE</th>\n",
       "      <th>SEQ_ASSAY_ID</th>\n",
       "      <th>CANCER_TYPE</th>\n",
       "      <th>CANCER_TYPE_DETAILED</th>\n",
       "      <th>SAMPLE_TYPE_DETAILED</th>\n",
       "      <th>SAMPLE_CLASS</th>\n",
       "      <th>Exclusion?</th>\n",
       "    </tr>\n",
       "  </thead>\n",
       "  <tbody>\n",
       "    <tr>\n",
       "      <th>0</th>\n",
       "      <td>KRAS</td>\n",
       "      <td>3845.0</td>\n",
       "      <td>JHU</td>\n",
       "      <td>GRCh37</td>\n",
       "      <td>12</td>\n",
       "      <td>25398285</td>\n",
       "      <td>25398285</td>\n",
       "      <td>+</td>\n",
       "      <td>missense_variant</td>\n",
       "      <td>Missense_Mutation</td>\n",
       "      <td>...</td>\n",
       "      <td>GENIE-JHU-00006-00185</td>\n",
       "      <td>61</td>\n",
       "      <td>LUAD</td>\n",
       "      <td>Primary</td>\n",
       "      <td>JHU-50GP</td>\n",
       "      <td>Non-Small Cell Lung Cancer</td>\n",
       "      <td>Lung Adenocarcinoma</td>\n",
       "      <td>Primary tumor</td>\n",
       "      <td>Tumor</td>\n",
       "      <td>False</td>\n",
       "    </tr>\n",
       "    <tr>\n",
       "      <th>1</th>\n",
       "      <td>BRAF</td>\n",
       "      <td>673.0</td>\n",
       "      <td>JHU</td>\n",
       "      <td>GRCh37</td>\n",
       "      <td>7</td>\n",
       "      <td>140453136</td>\n",
       "      <td>140453136</td>\n",
       "      <td>+</td>\n",
       "      <td>missense_variant</td>\n",
       "      <td>Missense_Mutation</td>\n",
       "      <td>...</td>\n",
       "      <td>GENIE-JHU-00006-00185</td>\n",
       "      <td>61</td>\n",
       "      <td>LUAD</td>\n",
       "      <td>Primary</td>\n",
       "      <td>JHU-50GP</td>\n",
       "      <td>Non-Small Cell Lung Cancer</td>\n",
       "      <td>Lung Adenocarcinoma</td>\n",
       "      <td>Primary tumor</td>\n",
       "      <td>Tumor</td>\n",
       "      <td>False</td>\n",
       "    </tr>\n",
       "    <tr>\n",
       "      <th>2</th>\n",
       "      <td>EGFR</td>\n",
       "      <td>1956.0</td>\n",
       "      <td>JHU</td>\n",
       "      <td>GRCh37</td>\n",
       "      <td>7</td>\n",
       "      <td>55249071</td>\n",
       "      <td>55249071</td>\n",
       "      <td>+</td>\n",
       "      <td>missense_variant</td>\n",
       "      <td>Missense_Mutation</td>\n",
       "      <td>...</td>\n",
       "      <td>GENIE-JHU-00006-00185</td>\n",
       "      <td>61</td>\n",
       "      <td>LUAD</td>\n",
       "      <td>Primary</td>\n",
       "      <td>JHU-50GP</td>\n",
       "      <td>Non-Small Cell Lung Cancer</td>\n",
       "      <td>Lung Adenocarcinoma</td>\n",
       "      <td>Primary tumor</td>\n",
       "      <td>Tumor</td>\n",
       "      <td>False</td>\n",
       "    </tr>\n",
       "    <tr>\n",
       "      <th>3</th>\n",
       "      <td>TP53</td>\n",
       "      <td>7157.0</td>\n",
       "      <td>JHU</td>\n",
       "      <td>GRCh37</td>\n",
       "      <td>17</td>\n",
       "      <td>7577120</td>\n",
       "      <td>7577120</td>\n",
       "      <td>+</td>\n",
       "      <td>missense_variant</td>\n",
       "      <td>Missense_Mutation</td>\n",
       "      <td>...</td>\n",
       "      <td>GENIE-JHU-00006-00185</td>\n",
       "      <td>61</td>\n",
       "      <td>LUAD</td>\n",
       "      <td>Primary</td>\n",
       "      <td>JHU-50GP</td>\n",
       "      <td>Non-Small Cell Lung Cancer</td>\n",
       "      <td>Lung Adenocarcinoma</td>\n",
       "      <td>Primary tumor</td>\n",
       "      <td>Tumor</td>\n",
       "      <td>False</td>\n",
       "    </tr>\n",
       "    <tr>\n",
       "      <th>4</th>\n",
       "      <td>NRAS</td>\n",
       "      <td>4893.0</td>\n",
       "      <td>JHU</td>\n",
       "      <td>GRCh37</td>\n",
       "      <td>1</td>\n",
       "      <td>115256529</td>\n",
       "      <td>115256529</td>\n",
       "      <td>+</td>\n",
       "      <td>missense_variant</td>\n",
       "      <td>Missense_Mutation</td>\n",
       "      <td>...</td>\n",
       "      <td>GENIE-JHU-00006-00185</td>\n",
       "      <td>61</td>\n",
       "      <td>LUAD</td>\n",
       "      <td>Primary</td>\n",
       "      <td>JHU-50GP</td>\n",
       "      <td>Non-Small Cell Lung Cancer</td>\n",
       "      <td>Lung Adenocarcinoma</td>\n",
       "      <td>Primary tumor</td>\n",
       "      <td>Tumor</td>\n",
       "      <td>False</td>\n",
       "    </tr>\n",
       "  </tbody>\n",
       "</table>\n",
       "<p>5 rows × 75 columns</p>\n",
       "</div>"
      ],
      "text/plain": [
       "  Hugo_Symbol  Entrez_Gene_Id Center NCBI_Build Chromosome  Start_Position  \\\n",
       "0        KRAS          3845.0    JHU     GRCh37         12        25398285   \n",
       "1        BRAF           673.0    JHU     GRCh37          7       140453136   \n",
       "2        EGFR          1956.0    JHU     GRCh37          7        55249071   \n",
       "3        TP53          7157.0    JHU     GRCh37         17         7577120   \n",
       "4        NRAS          4893.0    JHU     GRCh37          1       115256529   \n",
       "\n",
       "   End_Position Strand       Consequence Variant_Classification  ...  \\\n",
       "0      25398285      +  missense_variant      Missense_Mutation  ...   \n",
       "1     140453136      +  missense_variant      Missense_Mutation  ...   \n",
       "2      55249071      +  missense_variant      Missense_Mutation  ...   \n",
       "3       7577120      +  missense_variant      Missense_Mutation  ...   \n",
       "4     115256529      +  missense_variant      Missense_Mutation  ...   \n",
       "\n",
       "               SAMPLE_ID AGE_AT_SEQ_REPORT ONCOTREE_CODE SAMPLE_TYPE  \\\n",
       "0  GENIE-JHU-00006-00185                61          LUAD     Primary   \n",
       "1  GENIE-JHU-00006-00185                61          LUAD     Primary   \n",
       "2  GENIE-JHU-00006-00185                61          LUAD     Primary   \n",
       "3  GENIE-JHU-00006-00185                61          LUAD     Primary   \n",
       "4  GENIE-JHU-00006-00185                61          LUAD     Primary   \n",
       "\n",
       "  SEQ_ASSAY_ID                 CANCER_TYPE CANCER_TYPE_DETAILED  \\\n",
       "0     JHU-50GP  Non-Small Cell Lung Cancer  Lung Adenocarcinoma   \n",
       "1     JHU-50GP  Non-Small Cell Lung Cancer  Lung Adenocarcinoma   \n",
       "2     JHU-50GP  Non-Small Cell Lung Cancer  Lung Adenocarcinoma   \n",
       "3     JHU-50GP  Non-Small Cell Lung Cancer  Lung Adenocarcinoma   \n",
       "4     JHU-50GP  Non-Small Cell Lung Cancer  Lung Adenocarcinoma   \n",
       "\n",
       "  SAMPLE_TYPE_DETAILED SAMPLE_CLASS Exclusion?  \n",
       "0        Primary tumor        Tumor      False  \n",
       "1        Primary tumor        Tumor      False  \n",
       "2        Primary tumor        Tumor      False  \n",
       "3        Primary tumor        Tumor      False  \n",
       "4        Primary tumor        Tumor      False  \n",
       "\n",
       "[5 rows x 75 columns]"
      ]
     },
     "execution_count": 68,
     "metadata": {},
     "output_type": "execute_result"
    }
   ],
   "source": [
    "# Using the above lists, excluse silent consequences \n",
    "exclusion_criteria = ['3_prime_UTR_variant', \n",
    "                     '5_prime_UTR_variant', \n",
    "                     'splice_region_variant', \n",
    "                     'splice_acceptor_variant', \n",
    "                     'splice_donor_variant', \n",
    "                     'intron_variant', \n",
    "                     'synonymous_variant']\n",
    "\n",
    "df['Exclusion?'] = False\n",
    "for idx, row in df.iterrows():\n",
    "    consequences = row['Consequence'].split(',')\n",
    "    for consequence in consequences:\n",
    "        if consequence in exclusion_criteria:\n",
    "            df.at[idx, 'Exclusion?'] = True\n",
    "\n",
    "df = df[df['Exclusion?']==False].reset_index(drop=True)\n",
    "df[0:5]"
   ]
  },
  {
   "cell_type": "code",
   "execution_count": 9,
   "metadata": {},
   "outputs": [
    {
     "data": {
      "text/plain": [
       "Index(['Hugo_Symbol', 'Entrez_Gene_Id', 'Center', 'NCBI_Build', 'Chromosome',\n",
       "       'Start_Position', 'End_Position', 'Strand', 'Consequence',\n",
       "       'Variant_Classification', 'Variant_Type', 'Reference_Allele',\n",
       "       'Tumor_Seq_Allele1', 'Tumor_Seq_Allele2', 'dbSNP_RS',\n",
       "       'dbSNP_Val_Status', 'Tumor_Sample_Barcode',\n",
       "       'Matched_Norm_Sample_Barcode', 'Match_Norm_Seq_Allele1',\n",
       "       'Match_Norm_Seq_Allele2', 'Tumor_Validation_Allele1',\n",
       "       'Tumor_Validation_Allele2', 'Match_Norm_Validation_Allele1',\n",
       "       'Match_Norm_Validation_Allele2', 'Verification_Status',\n",
       "       'Validation_Status', 'Mutation_Status', 'Sequencing_Phase',\n",
       "       'Sequence_Source', 'Validation_Method', 'Score', 'BAM_File',\n",
       "       'Sequencer', 't_ref_count', 't_alt_count', 'n_ref_count', 'n_alt_count',\n",
       "       'HGVSc', 'HGVSp', 'HGVSp_Short', 'Transcript_ID', 'RefSeq',\n",
       "       'Protein_position', 'Codons', 'Exon_Number', 'gnomAD_AF',\n",
       "       'gnomAD_AFR_AF', 'gnomAD_AMR_AF', 'gnomAD_ASJ_AF', 'gnomAD_EAS_AF',\n",
       "       'gnomAD_FIN_AF', 'gnomAD_NFE_AF', 'gnomAD_OTH_AF', 'gnomAD_SAS_AF',\n",
       "       'FILTER', 'Polyphen_Prediction', 'Polyphen_Score', 'SIFT_Prediction',\n",
       "       'SIFT_Score', 'SWISSPROT', 'n_depth', 't_depth', 'Annotation_Status',\n",
       "       'mutationInCis_Flag', 'PATIENT_ID', 'SAMPLE_ID', 'AGE_AT_SEQ_REPORT',\n",
       "       'ONCOTREE_CODE', 'SAMPLE_TYPE', 'SEQ_ASSAY_ID', 'CANCER_TYPE',\n",
       "       'CANCER_TYPE_DETAILED', 'SAMPLE_TYPE_DETAILED', 'SAMPLE_CLASS',\n",
       "       'Exclusion?'],\n",
       "      dtype='object')"
      ]
     },
     "execution_count": 9,
     "metadata": {},
     "output_type": "execute_result"
    }
   ],
   "source": [
    "# Get concept IDs for everything attached to the patients by the following corresponding fields\n",
    "# Variant -> HGVSc\n",
    "# Gene -> Hugo_Symbol\n",
    "# Disease -> CANCER_TYPE\n",
    "df.keys()"
   ]
  },
  {
   "cell_type": "markdown",
   "metadata": {},
   "source": [
    "### Normalize"
   ]
  },
  {
   "cell_type": "code",
   "execution_count": 69,
   "metadata": {},
   "outputs": [
    {
     "data": {
      "text/html": [
       "<div>\n",
       "<style scoped>\n",
       "    .dataframe tbody tr th:only-of-type {\n",
       "        vertical-align: middle;\n",
       "    }\n",
       "\n",
       "    .dataframe tbody tr th {\n",
       "        vertical-align: top;\n",
       "    }\n",
       "\n",
       "    .dataframe thead th {\n",
       "        text-align: right;\n",
       "    }\n",
       "</style>\n",
       "<table border=\"1\" class=\"dataframe\">\n",
       "  <thead>\n",
       "    <tr style=\"text-align: right;\">\n",
       "      <th></th>\n",
       "      <th>Hugo_Symbol</th>\n",
       "      <th>Entrez_Gene_Id</th>\n",
       "      <th>Center</th>\n",
       "      <th>NCBI_Build</th>\n",
       "      <th>Chromosome</th>\n",
       "      <th>Start_Position</th>\n",
       "      <th>End_Position</th>\n",
       "      <th>Strand</th>\n",
       "      <th>Consequence</th>\n",
       "      <th>Variant_Classification</th>\n",
       "      <th>...</th>\n",
       "      <th>AGE_AT_SEQ_REPORT</th>\n",
       "      <th>ONCOTREE_CODE</th>\n",
       "      <th>SAMPLE_TYPE</th>\n",
       "      <th>SEQ_ASSAY_ID</th>\n",
       "      <th>CANCER_TYPE</th>\n",
       "      <th>CANCER_TYPE_DETAILED</th>\n",
       "      <th>SAMPLE_TYPE_DETAILED</th>\n",
       "      <th>SAMPLE_CLASS</th>\n",
       "      <th>Exclusion?</th>\n",
       "      <th>disease_concept_id</th>\n",
       "    </tr>\n",
       "  </thead>\n",
       "  <tbody>\n",
       "    <tr>\n",
       "      <th>0</th>\n",
       "      <td>KRAS</td>\n",
       "      <td>3845.0</td>\n",
       "      <td>JHU</td>\n",
       "      <td>GRCh37</td>\n",
       "      <td>12</td>\n",
       "      <td>25398285</td>\n",
       "      <td>25398285</td>\n",
       "      <td>+</td>\n",
       "      <td>missense_variant</td>\n",
       "      <td>Missense_Mutation</td>\n",
       "      <td>...</td>\n",
       "      <td>61</td>\n",
       "      <td>LUAD</td>\n",
       "      <td>Primary</td>\n",
       "      <td>JHU-50GP</td>\n",
       "      <td>Non-Small Cell Lung Cancer</td>\n",
       "      <td>Lung Adenocarcinoma</td>\n",
       "      <td>Primary tumor</td>\n",
       "      <td>Tumor</td>\n",
       "      <td>False</td>\n",
       "      <td>normalize.disease.ncit:C2926</td>\n",
       "    </tr>\n",
       "    <tr>\n",
       "      <th>1</th>\n",
       "      <td>BRAF</td>\n",
       "      <td>673.0</td>\n",
       "      <td>JHU</td>\n",
       "      <td>GRCh37</td>\n",
       "      <td>7</td>\n",
       "      <td>140453136</td>\n",
       "      <td>140453136</td>\n",
       "      <td>+</td>\n",
       "      <td>missense_variant</td>\n",
       "      <td>Missense_Mutation</td>\n",
       "      <td>...</td>\n",
       "      <td>61</td>\n",
       "      <td>LUAD</td>\n",
       "      <td>Primary</td>\n",
       "      <td>JHU-50GP</td>\n",
       "      <td>Non-Small Cell Lung Cancer</td>\n",
       "      <td>Lung Adenocarcinoma</td>\n",
       "      <td>Primary tumor</td>\n",
       "      <td>Tumor</td>\n",
       "      <td>False</td>\n",
       "      <td>normalize.disease.ncit:C2926</td>\n",
       "    </tr>\n",
       "    <tr>\n",
       "      <th>2</th>\n",
       "      <td>EGFR</td>\n",
       "      <td>1956.0</td>\n",
       "      <td>JHU</td>\n",
       "      <td>GRCh37</td>\n",
       "      <td>7</td>\n",
       "      <td>55249071</td>\n",
       "      <td>55249071</td>\n",
       "      <td>+</td>\n",
       "      <td>missense_variant</td>\n",
       "      <td>Missense_Mutation</td>\n",
       "      <td>...</td>\n",
       "      <td>61</td>\n",
       "      <td>LUAD</td>\n",
       "      <td>Primary</td>\n",
       "      <td>JHU-50GP</td>\n",
       "      <td>Non-Small Cell Lung Cancer</td>\n",
       "      <td>Lung Adenocarcinoma</td>\n",
       "      <td>Primary tumor</td>\n",
       "      <td>Tumor</td>\n",
       "      <td>False</td>\n",
       "      <td>normalize.disease.ncit:C2926</td>\n",
       "    </tr>\n",
       "    <tr>\n",
       "      <th>3</th>\n",
       "      <td>TP53</td>\n",
       "      <td>7157.0</td>\n",
       "      <td>JHU</td>\n",
       "      <td>GRCh37</td>\n",
       "      <td>17</td>\n",
       "      <td>7577120</td>\n",
       "      <td>7577120</td>\n",
       "      <td>+</td>\n",
       "      <td>missense_variant</td>\n",
       "      <td>Missense_Mutation</td>\n",
       "      <td>...</td>\n",
       "      <td>61</td>\n",
       "      <td>LUAD</td>\n",
       "      <td>Primary</td>\n",
       "      <td>JHU-50GP</td>\n",
       "      <td>Non-Small Cell Lung Cancer</td>\n",
       "      <td>Lung Adenocarcinoma</td>\n",
       "      <td>Primary tumor</td>\n",
       "      <td>Tumor</td>\n",
       "      <td>False</td>\n",
       "      <td>normalize.disease.ncit:C2926</td>\n",
       "    </tr>\n",
       "    <tr>\n",
       "      <th>4</th>\n",
       "      <td>NRAS</td>\n",
       "      <td>4893.0</td>\n",
       "      <td>JHU</td>\n",
       "      <td>GRCh37</td>\n",
       "      <td>1</td>\n",
       "      <td>115256529</td>\n",
       "      <td>115256529</td>\n",
       "      <td>+</td>\n",
       "      <td>missense_variant</td>\n",
       "      <td>Missense_Mutation</td>\n",
       "      <td>...</td>\n",
       "      <td>61</td>\n",
       "      <td>LUAD</td>\n",
       "      <td>Primary</td>\n",
       "      <td>JHU-50GP</td>\n",
       "      <td>Non-Small Cell Lung Cancer</td>\n",
       "      <td>Lung Adenocarcinoma</td>\n",
       "      <td>Primary tumor</td>\n",
       "      <td>Tumor</td>\n",
       "      <td>False</td>\n",
       "      <td>normalize.disease.ncit:C2926</td>\n",
       "    </tr>\n",
       "  </tbody>\n",
       "</table>\n",
       "<p>5 rows × 76 columns</p>\n",
       "</div>"
      ],
      "text/plain": [
       "  Hugo_Symbol  Entrez_Gene_Id Center NCBI_Build Chromosome  Start_Position  \\\n",
       "0        KRAS          3845.0    JHU     GRCh37         12        25398285   \n",
       "1        BRAF           673.0    JHU     GRCh37          7       140453136   \n",
       "2        EGFR          1956.0    JHU     GRCh37          7        55249071   \n",
       "3        TP53          7157.0    JHU     GRCh37         17         7577120   \n",
       "4        NRAS          4893.0    JHU     GRCh37          1       115256529   \n",
       "\n",
       "   End_Position Strand       Consequence Variant_Classification  ...  \\\n",
       "0      25398285      +  missense_variant      Missense_Mutation  ...   \n",
       "1     140453136      +  missense_variant      Missense_Mutation  ...   \n",
       "2      55249071      +  missense_variant      Missense_Mutation  ...   \n",
       "3       7577120      +  missense_variant      Missense_Mutation  ...   \n",
       "4     115256529      +  missense_variant      Missense_Mutation  ...   \n",
       "\n",
       "  AGE_AT_SEQ_REPORT ONCOTREE_CODE SAMPLE_TYPE SEQ_ASSAY_ID  \\\n",
       "0                61          LUAD     Primary     JHU-50GP   \n",
       "1                61          LUAD     Primary     JHU-50GP   \n",
       "2                61          LUAD     Primary     JHU-50GP   \n",
       "3                61          LUAD     Primary     JHU-50GP   \n",
       "4                61          LUAD     Primary     JHU-50GP   \n",
       "\n",
       "                  CANCER_TYPE  CANCER_TYPE_DETAILED SAMPLE_TYPE_DETAILED  \\\n",
       "0  Non-Small Cell Lung Cancer   Lung Adenocarcinoma        Primary tumor   \n",
       "1  Non-Small Cell Lung Cancer   Lung Adenocarcinoma        Primary tumor   \n",
       "2  Non-Small Cell Lung Cancer   Lung Adenocarcinoma        Primary tumor   \n",
       "3  Non-Small Cell Lung Cancer   Lung Adenocarcinoma        Primary tumor   \n",
       "4  Non-Small Cell Lung Cancer   Lung Adenocarcinoma        Primary tumor   \n",
       "\n",
       "  SAMPLE_CLASS Exclusion?            disease_concept_id  \n",
       "0        Tumor      False  normalize.disease.ncit:C2926  \n",
       "1        Tumor      False  normalize.disease.ncit:C2926  \n",
       "2        Tumor      False  normalize.disease.ncit:C2926  \n",
       "3        Tumor      False  normalize.disease.ncit:C2926  \n",
       "4        Tumor      False  normalize.disease.ncit:C2926  \n",
       "\n",
       "[5 rows x 76 columns]"
      ]
     },
     "execution_count": 69,
     "metadata": {},
     "output_type": "execute_result"
    }
   ],
   "source": [
    "import requests \n",
    "\n",
    "def normalize_disease(term):\n",
    "    r = requests.get(f'https://normalize.cancervariants.org/disease/normalize?q={term}')\n",
    "    # print(r.json())\n",
    "    if r.status_code == 200:\n",
    "        try:\n",
    "            identifier = r.json()['disease']['id']\n",
    "        except:\n",
    "            identifier = None\n",
    "    return identifier\n",
    "\n",
    "unique_diseases = list(df['CANCER_TYPE'].unique())\n",
    "disease_identifiers = [None] * len(unique_diseases)\n",
    "disease_wordlist = pd.DataFrame({'unique_disease': unique_diseases,\n",
    "                                 'disease_identifier': disease_identifiers})\n",
    "disease_wordlist['disease_identifier'] = disease_wordlist['unique_disease'].apply(normalize_disease) \n",
    "disease_wordlist_map = disease_wordlist.set_index('unique_disease')['disease_identifier'] #TODO: why two variables?\n",
    "df['disease_concept_id'] = df['CANCER_TYPE'].map(disease_wordlist_map)\n",
    "df[0:5]"
   ]
  },
  {
   "cell_type": "code",
   "execution_count": 70,
   "metadata": {},
   "outputs": [
    {
     "data": {
      "text/html": [
       "<div>\n",
       "<style scoped>\n",
       "    .dataframe tbody tr th:only-of-type {\n",
       "        vertical-align: middle;\n",
       "    }\n",
       "\n",
       "    .dataframe tbody tr th {\n",
       "        vertical-align: top;\n",
       "    }\n",
       "\n",
       "    .dataframe thead th {\n",
       "        text-align: right;\n",
       "    }\n",
       "</style>\n",
       "<table border=\"1\" class=\"dataframe\">\n",
       "  <thead>\n",
       "    <tr style=\"text-align: right;\">\n",
       "      <th></th>\n",
       "      <th>Hugo_Symbol</th>\n",
       "      <th>Entrez_Gene_Id</th>\n",
       "      <th>Center</th>\n",
       "      <th>NCBI_Build</th>\n",
       "      <th>Chromosome</th>\n",
       "      <th>Start_Position</th>\n",
       "      <th>End_Position</th>\n",
       "      <th>Strand</th>\n",
       "      <th>Consequence</th>\n",
       "      <th>Variant_Classification</th>\n",
       "      <th>...</th>\n",
       "      <th>ONCOTREE_CODE</th>\n",
       "      <th>SAMPLE_TYPE</th>\n",
       "      <th>SEQ_ASSAY_ID</th>\n",
       "      <th>CANCER_TYPE</th>\n",
       "      <th>CANCER_TYPE_DETAILED</th>\n",
       "      <th>SAMPLE_TYPE_DETAILED</th>\n",
       "      <th>SAMPLE_CLASS</th>\n",
       "      <th>Exclusion?</th>\n",
       "      <th>disease_concept_id</th>\n",
       "      <th>gene_concept_id</th>\n",
       "    </tr>\n",
       "  </thead>\n",
       "  <tbody>\n",
       "    <tr>\n",
       "      <th>0</th>\n",
       "      <td>KRAS</td>\n",
       "      <td>3845.0</td>\n",
       "      <td>JHU</td>\n",
       "      <td>GRCh37</td>\n",
       "      <td>12</td>\n",
       "      <td>25398285</td>\n",
       "      <td>25398285</td>\n",
       "      <td>+</td>\n",
       "      <td>missense_variant</td>\n",
       "      <td>Missense_Mutation</td>\n",
       "      <td>...</td>\n",
       "      <td>LUAD</td>\n",
       "      <td>Primary</td>\n",
       "      <td>JHU-50GP</td>\n",
       "      <td>Non-Small Cell Lung Cancer</td>\n",
       "      <td>Lung Adenocarcinoma</td>\n",
       "      <td>Primary tumor</td>\n",
       "      <td>Tumor</td>\n",
       "      <td>False</td>\n",
       "      <td>normalize.disease.ncit:C2926</td>\n",
       "      <td>normalize.gene.hgnc:6407</td>\n",
       "    </tr>\n",
       "    <tr>\n",
       "      <th>1</th>\n",
       "      <td>BRAF</td>\n",
       "      <td>673.0</td>\n",
       "      <td>JHU</td>\n",
       "      <td>GRCh37</td>\n",
       "      <td>7</td>\n",
       "      <td>140453136</td>\n",
       "      <td>140453136</td>\n",
       "      <td>+</td>\n",
       "      <td>missense_variant</td>\n",
       "      <td>Missense_Mutation</td>\n",
       "      <td>...</td>\n",
       "      <td>LUAD</td>\n",
       "      <td>Primary</td>\n",
       "      <td>JHU-50GP</td>\n",
       "      <td>Non-Small Cell Lung Cancer</td>\n",
       "      <td>Lung Adenocarcinoma</td>\n",
       "      <td>Primary tumor</td>\n",
       "      <td>Tumor</td>\n",
       "      <td>False</td>\n",
       "      <td>normalize.disease.ncit:C2926</td>\n",
       "      <td>normalize.gene.hgnc:1097</td>\n",
       "    </tr>\n",
       "    <tr>\n",
       "      <th>2</th>\n",
       "      <td>EGFR</td>\n",
       "      <td>1956.0</td>\n",
       "      <td>JHU</td>\n",
       "      <td>GRCh37</td>\n",
       "      <td>7</td>\n",
       "      <td>55249071</td>\n",
       "      <td>55249071</td>\n",
       "      <td>+</td>\n",
       "      <td>missense_variant</td>\n",
       "      <td>Missense_Mutation</td>\n",
       "      <td>...</td>\n",
       "      <td>LUAD</td>\n",
       "      <td>Primary</td>\n",
       "      <td>JHU-50GP</td>\n",
       "      <td>Non-Small Cell Lung Cancer</td>\n",
       "      <td>Lung Adenocarcinoma</td>\n",
       "      <td>Primary tumor</td>\n",
       "      <td>Tumor</td>\n",
       "      <td>False</td>\n",
       "      <td>normalize.disease.ncit:C2926</td>\n",
       "      <td>normalize.gene.hgnc:3236</td>\n",
       "    </tr>\n",
       "    <tr>\n",
       "      <th>3</th>\n",
       "      <td>TP53</td>\n",
       "      <td>7157.0</td>\n",
       "      <td>JHU</td>\n",
       "      <td>GRCh37</td>\n",
       "      <td>17</td>\n",
       "      <td>7577120</td>\n",
       "      <td>7577120</td>\n",
       "      <td>+</td>\n",
       "      <td>missense_variant</td>\n",
       "      <td>Missense_Mutation</td>\n",
       "      <td>...</td>\n",
       "      <td>LUAD</td>\n",
       "      <td>Primary</td>\n",
       "      <td>JHU-50GP</td>\n",
       "      <td>Non-Small Cell Lung Cancer</td>\n",
       "      <td>Lung Adenocarcinoma</td>\n",
       "      <td>Primary tumor</td>\n",
       "      <td>Tumor</td>\n",
       "      <td>False</td>\n",
       "      <td>normalize.disease.ncit:C2926</td>\n",
       "      <td>normalize.gene.hgnc:11998</td>\n",
       "    </tr>\n",
       "    <tr>\n",
       "      <th>4</th>\n",
       "      <td>NRAS</td>\n",
       "      <td>4893.0</td>\n",
       "      <td>JHU</td>\n",
       "      <td>GRCh37</td>\n",
       "      <td>1</td>\n",
       "      <td>115256529</td>\n",
       "      <td>115256529</td>\n",
       "      <td>+</td>\n",
       "      <td>missense_variant</td>\n",
       "      <td>Missense_Mutation</td>\n",
       "      <td>...</td>\n",
       "      <td>LUAD</td>\n",
       "      <td>Primary</td>\n",
       "      <td>JHU-50GP</td>\n",
       "      <td>Non-Small Cell Lung Cancer</td>\n",
       "      <td>Lung Adenocarcinoma</td>\n",
       "      <td>Primary tumor</td>\n",
       "      <td>Tumor</td>\n",
       "      <td>False</td>\n",
       "      <td>normalize.disease.ncit:C2926</td>\n",
       "      <td>normalize.gene.hgnc:7989</td>\n",
       "    </tr>\n",
       "  </tbody>\n",
       "</table>\n",
       "<p>5 rows × 77 columns</p>\n",
       "</div>"
      ],
      "text/plain": [
       "  Hugo_Symbol  Entrez_Gene_Id Center NCBI_Build Chromosome  Start_Position  \\\n",
       "0        KRAS          3845.0    JHU     GRCh37         12        25398285   \n",
       "1        BRAF           673.0    JHU     GRCh37          7       140453136   \n",
       "2        EGFR          1956.0    JHU     GRCh37          7        55249071   \n",
       "3        TP53          7157.0    JHU     GRCh37         17         7577120   \n",
       "4        NRAS          4893.0    JHU     GRCh37          1       115256529   \n",
       "\n",
       "   End_Position Strand       Consequence Variant_Classification  ...  \\\n",
       "0      25398285      +  missense_variant      Missense_Mutation  ...   \n",
       "1     140453136      +  missense_variant      Missense_Mutation  ...   \n",
       "2      55249071      +  missense_variant      Missense_Mutation  ...   \n",
       "3       7577120      +  missense_variant      Missense_Mutation  ...   \n",
       "4     115256529      +  missense_variant      Missense_Mutation  ...   \n",
       "\n",
       "  ONCOTREE_CODE SAMPLE_TYPE SEQ_ASSAY_ID                 CANCER_TYPE  \\\n",
       "0          LUAD     Primary     JHU-50GP  Non-Small Cell Lung Cancer   \n",
       "1          LUAD     Primary     JHU-50GP  Non-Small Cell Lung Cancer   \n",
       "2          LUAD     Primary     JHU-50GP  Non-Small Cell Lung Cancer   \n",
       "3          LUAD     Primary     JHU-50GP  Non-Small Cell Lung Cancer   \n",
       "4          LUAD     Primary     JHU-50GP  Non-Small Cell Lung Cancer   \n",
       "\n",
       "  CANCER_TYPE_DETAILED  SAMPLE_TYPE_DETAILED SAMPLE_CLASS Exclusion?  \\\n",
       "0  Lung Adenocarcinoma         Primary tumor        Tumor      False   \n",
       "1  Lung Adenocarcinoma         Primary tumor        Tumor      False   \n",
       "2  Lung Adenocarcinoma         Primary tumor        Tumor      False   \n",
       "3  Lung Adenocarcinoma         Primary tumor        Tumor      False   \n",
       "4  Lung Adenocarcinoma         Primary tumor        Tumor      False   \n",
       "\n",
       "             disease_concept_id            gene_concept_id  \n",
       "0  normalize.disease.ncit:C2926   normalize.gene.hgnc:6407  \n",
       "1  normalize.disease.ncit:C2926   normalize.gene.hgnc:1097  \n",
       "2  normalize.disease.ncit:C2926   normalize.gene.hgnc:3236  \n",
       "3  normalize.disease.ncit:C2926  normalize.gene.hgnc:11998  \n",
       "4  normalize.disease.ncit:C2926   normalize.gene.hgnc:7989  \n",
       "\n",
       "[5 rows x 77 columns]"
      ]
     },
     "execution_count": 70,
     "metadata": {},
     "output_type": "execute_result"
    }
   ],
   "source": [
    "def normalize_gene(term):\n",
    "    r = requests.get(f'https://normalize.cancervariants.org/gene/normalize?q={term}')\n",
    "    # print(r.json())\n",
    "    if r.status_code == 200:\n",
    "        try:\n",
    "            identifier = r.json()['gene']['id']\n",
    "        except:\n",
    "            identifier = None\n",
    "    return identifier\n",
    "\n",
    "unique_genes = list(df['Hugo_Symbol'].unique())\n",
    "gene_identifiers = [None] * len(unique_genes)\n",
    "gene_wordlist = pd.DataFrame({'unique_gene': unique_genes,\n",
    "                                 'gene_identifier': gene_identifiers})\n",
    "\n",
    "gene_wordlist['gene_identifier'] = gene_wordlist['unique_gene'].apply(normalize_gene) \n",
    "gene_wordlist = gene_wordlist.set_index('unique_gene')['gene_identifier'] \n",
    "df['gene_concept_id'] = df['Hugo_Symbol'].map(gene_wordlist)\n",
    "df[0:5]"
   ]
  },
  {
   "cell_type": "code",
   "execution_count": 71,
   "metadata": {},
   "outputs": [
    {
     "data": {
      "text/html": [
       "<div>\n",
       "<style scoped>\n",
       "    .dataframe tbody tr th:only-of-type {\n",
       "        vertical-align: middle;\n",
       "    }\n",
       "\n",
       "    .dataframe tbody tr th {\n",
       "        vertical-align: top;\n",
       "    }\n",
       "\n",
       "    .dataframe thead th {\n",
       "        text-align: right;\n",
       "    }\n",
       "</style>\n",
       "<table border=\"1\" class=\"dataframe\">\n",
       "  <thead>\n",
       "    <tr style=\"text-align: right;\">\n",
       "      <th></th>\n",
       "      <th>Hugo_Symbol</th>\n",
       "      <th>Entrez_Gene_Id</th>\n",
       "      <th>Center</th>\n",
       "      <th>NCBI_Build</th>\n",
       "      <th>Chromosome</th>\n",
       "      <th>Start_Position</th>\n",
       "      <th>End_Position</th>\n",
       "      <th>Strand</th>\n",
       "      <th>Consequence</th>\n",
       "      <th>Variant_Classification</th>\n",
       "      <th>...</th>\n",
       "      <th>SAMPLE_TYPE</th>\n",
       "      <th>SEQ_ASSAY_ID</th>\n",
       "      <th>CANCER_TYPE</th>\n",
       "      <th>CANCER_TYPE_DETAILED</th>\n",
       "      <th>SAMPLE_TYPE_DETAILED</th>\n",
       "      <th>SAMPLE_CLASS</th>\n",
       "      <th>Exclusion?</th>\n",
       "      <th>disease_concept_id</th>\n",
       "      <th>gene_concept_id</th>\n",
       "      <th>var_norm_query</th>\n",
       "    </tr>\n",
       "  </thead>\n",
       "  <tbody>\n",
       "    <tr>\n",
       "      <th>0</th>\n",
       "      <td>KRAS</td>\n",
       "      <td>3845.0</td>\n",
       "      <td>JHU</td>\n",
       "      <td>GRCh37</td>\n",
       "      <td>12</td>\n",
       "      <td>25398285</td>\n",
       "      <td>25398285</td>\n",
       "      <td>+</td>\n",
       "      <td>missense_variant</td>\n",
       "      <td>Missense_Mutation</td>\n",
       "      <td>...</td>\n",
       "      <td>Primary</td>\n",
       "      <td>JHU-50GP</td>\n",
       "      <td>Non-Small Cell Lung Cancer</td>\n",
       "      <td>Lung Adenocarcinoma</td>\n",
       "      <td>Primary tumor</td>\n",
       "      <td>Tumor</td>\n",
       "      <td>False</td>\n",
       "      <td>normalize.disease.ncit:C2926</td>\n",
       "      <td>normalize.gene.hgnc:6407</td>\n",
       "      <td>KRAS G12C</td>\n",
       "    </tr>\n",
       "    <tr>\n",
       "      <th>1</th>\n",
       "      <td>BRAF</td>\n",
       "      <td>673.0</td>\n",
       "      <td>JHU</td>\n",
       "      <td>GRCh37</td>\n",
       "      <td>7</td>\n",
       "      <td>140453136</td>\n",
       "      <td>140453136</td>\n",
       "      <td>+</td>\n",
       "      <td>missense_variant</td>\n",
       "      <td>Missense_Mutation</td>\n",
       "      <td>...</td>\n",
       "      <td>Primary</td>\n",
       "      <td>JHU-50GP</td>\n",
       "      <td>Non-Small Cell Lung Cancer</td>\n",
       "      <td>Lung Adenocarcinoma</td>\n",
       "      <td>Primary tumor</td>\n",
       "      <td>Tumor</td>\n",
       "      <td>False</td>\n",
       "      <td>normalize.disease.ncit:C2926</td>\n",
       "      <td>normalize.gene.hgnc:1097</td>\n",
       "      <td>BRAF V600E</td>\n",
       "    </tr>\n",
       "    <tr>\n",
       "      <th>2</th>\n",
       "      <td>EGFR</td>\n",
       "      <td>1956.0</td>\n",
       "      <td>JHU</td>\n",
       "      <td>GRCh37</td>\n",
       "      <td>7</td>\n",
       "      <td>55249071</td>\n",
       "      <td>55249071</td>\n",
       "      <td>+</td>\n",
       "      <td>missense_variant</td>\n",
       "      <td>Missense_Mutation</td>\n",
       "      <td>...</td>\n",
       "      <td>Primary</td>\n",
       "      <td>JHU-50GP</td>\n",
       "      <td>Non-Small Cell Lung Cancer</td>\n",
       "      <td>Lung Adenocarcinoma</td>\n",
       "      <td>Primary tumor</td>\n",
       "      <td>Tumor</td>\n",
       "      <td>False</td>\n",
       "      <td>normalize.disease.ncit:C2926</td>\n",
       "      <td>normalize.gene.hgnc:3236</td>\n",
       "      <td>EGFR T790M</td>\n",
       "    </tr>\n",
       "    <tr>\n",
       "      <th>3</th>\n",
       "      <td>TP53</td>\n",
       "      <td>7157.0</td>\n",
       "      <td>JHU</td>\n",
       "      <td>GRCh37</td>\n",
       "      <td>17</td>\n",
       "      <td>7577120</td>\n",
       "      <td>7577120</td>\n",
       "      <td>+</td>\n",
       "      <td>missense_variant</td>\n",
       "      <td>Missense_Mutation</td>\n",
       "      <td>...</td>\n",
       "      <td>Primary</td>\n",
       "      <td>JHU-50GP</td>\n",
       "      <td>Non-Small Cell Lung Cancer</td>\n",
       "      <td>Lung Adenocarcinoma</td>\n",
       "      <td>Primary tumor</td>\n",
       "      <td>Tumor</td>\n",
       "      <td>False</td>\n",
       "      <td>normalize.disease.ncit:C2926</td>\n",
       "      <td>normalize.gene.hgnc:11998</td>\n",
       "      <td>TP53 R273H</td>\n",
       "    </tr>\n",
       "    <tr>\n",
       "      <th>4</th>\n",
       "      <td>NRAS</td>\n",
       "      <td>4893.0</td>\n",
       "      <td>JHU</td>\n",
       "      <td>GRCh37</td>\n",
       "      <td>1</td>\n",
       "      <td>115256529</td>\n",
       "      <td>115256529</td>\n",
       "      <td>+</td>\n",
       "      <td>missense_variant</td>\n",
       "      <td>Missense_Mutation</td>\n",
       "      <td>...</td>\n",
       "      <td>Primary</td>\n",
       "      <td>JHU-50GP</td>\n",
       "      <td>Non-Small Cell Lung Cancer</td>\n",
       "      <td>Lung Adenocarcinoma</td>\n",
       "      <td>Primary tumor</td>\n",
       "      <td>Tumor</td>\n",
       "      <td>False</td>\n",
       "      <td>normalize.disease.ncit:C2926</td>\n",
       "      <td>normalize.gene.hgnc:7989</td>\n",
       "      <td>NRAS Q61R</td>\n",
       "    </tr>\n",
       "    <tr>\n",
       "      <th>...</th>\n",
       "      <td>...</td>\n",
       "      <td>...</td>\n",
       "      <td>...</td>\n",
       "      <td>...</td>\n",
       "      <td>...</td>\n",
       "      <td>...</td>\n",
       "      <td>...</td>\n",
       "      <td>...</td>\n",
       "      <td>...</td>\n",
       "      <td>...</td>\n",
       "      <td>...</td>\n",
       "      <td>...</td>\n",
       "      <td>...</td>\n",
       "      <td>...</td>\n",
       "      <td>...</td>\n",
       "      <td>...</td>\n",
       "      <td>...</td>\n",
       "      <td>...</td>\n",
       "      <td>...</td>\n",
       "      <td>...</td>\n",
       "      <td>...</td>\n",
       "    </tr>\n",
       "    <tr>\n",
       "      <th>1876019</th>\n",
       "      <td>TBX3</td>\n",
       "      <td>6926.0</td>\n",
       "      <td>PROV</td>\n",
       "      <td>GRCh37</td>\n",
       "      <td>12</td>\n",
       "      <td>115112292</td>\n",
       "      <td>115112292</td>\n",
       "      <td>+</td>\n",
       "      <td>missense_variant</td>\n",
       "      <td>Missense_Mutation</td>\n",
       "      <td>...</td>\n",
       "      <td>Not Applicable or Heme</td>\n",
       "      <td>PROV-FOUNDATIONONELIQUIDCDX</td>\n",
       "      <td>UNKNOWN</td>\n",
       "      <td>UNKNOWN</td>\n",
       "      <td>Not applicable or hematologic malignancy</td>\n",
       "      <td>cfDNA</td>\n",
       "      <td>False</td>\n",
       "      <td>None</td>\n",
       "      <td>normalize.gene.hgnc:11602</td>\n",
       "      <td>TBX3 T483M</td>\n",
       "    </tr>\n",
       "    <tr>\n",
       "      <th>1876020</th>\n",
       "      <td>AR</td>\n",
       "      <td>367.0</td>\n",
       "      <td>PROV</td>\n",
       "      <td>GRCh37</td>\n",
       "      <td>X</td>\n",
       "      <td>66765014</td>\n",
       "      <td>66765014</td>\n",
       "      <td>+</td>\n",
       "      <td>missense_variant</td>\n",
       "      <td>Missense_Mutation</td>\n",
       "      <td>...</td>\n",
       "      <td>Not Applicable or Heme</td>\n",
       "      <td>PROV-FOUNDATIONONELIQUIDCDX</td>\n",
       "      <td>UNKNOWN</td>\n",
       "      <td>UNKNOWN</td>\n",
       "      <td>Not applicable or hematologic malignancy</td>\n",
       "      <td>cfDNA</td>\n",
       "      <td>False</td>\n",
       "      <td>None</td>\n",
       "      <td>normalize.gene.hgnc:644</td>\n",
       "      <td>AR R9K</td>\n",
       "    </tr>\n",
       "    <tr>\n",
       "      <th>1876021</th>\n",
       "      <td>MSH3</td>\n",
       "      <td>4437.0</td>\n",
       "      <td>PROV</td>\n",
       "      <td>GRCh37</td>\n",
       "      <td>5</td>\n",
       "      <td>80021325</td>\n",
       "      <td>80021325</td>\n",
       "      <td>+</td>\n",
       "      <td>missense_variant</td>\n",
       "      <td>Missense_Mutation</td>\n",
       "      <td>...</td>\n",
       "      <td>Not Applicable or Heme</td>\n",
       "      <td>PROV-FOUNDATIONONELIQUIDCDX</td>\n",
       "      <td>UNKNOWN</td>\n",
       "      <td>UNKNOWN</td>\n",
       "      <td>Not applicable or hematologic malignancy</td>\n",
       "      <td>cfDNA</td>\n",
       "      <td>False</td>\n",
       "      <td>None</td>\n",
       "      <td>normalize.gene.hgnc:7326</td>\n",
       "      <td>MSH3 Y465C</td>\n",
       "    </tr>\n",
       "    <tr>\n",
       "      <th>1876022</th>\n",
       "      <td>ATM</td>\n",
       "      <td>472.0</td>\n",
       "      <td>PROV</td>\n",
       "      <td>GRCh37</td>\n",
       "      <td>11</td>\n",
       "      <td>108098589</td>\n",
       "      <td>108098589</td>\n",
       "      <td>+</td>\n",
       "      <td>missense_variant</td>\n",
       "      <td>Missense_Mutation</td>\n",
       "      <td>...</td>\n",
       "      <td>Not Applicable or Heme</td>\n",
       "      <td>PROV-FOUNDATIONONELIQUIDCDX</td>\n",
       "      <td>UNKNOWN</td>\n",
       "      <td>UNKNOWN</td>\n",
       "      <td>Not applicable or hematologic malignancy</td>\n",
       "      <td>cfDNA</td>\n",
       "      <td>False</td>\n",
       "      <td>None</td>\n",
       "      <td>normalize.gene.hgnc:795</td>\n",
       "      <td>ATM K53N</td>\n",
       "    </tr>\n",
       "    <tr>\n",
       "      <th>1876023</th>\n",
       "      <td>AR</td>\n",
       "      <td>367.0</td>\n",
       "      <td>PROV</td>\n",
       "      <td>GRCh37</td>\n",
       "      <td>X</td>\n",
       "      <td>66931295</td>\n",
       "      <td>66931295</td>\n",
       "      <td>+</td>\n",
       "      <td>missense_variant</td>\n",
       "      <td>Missense_Mutation</td>\n",
       "      <td>...</td>\n",
       "      <td>Not Applicable or Heme</td>\n",
       "      <td>PROV-FOUNDATIONONELIQUIDCDX</td>\n",
       "      <td>UNKNOWN</td>\n",
       "      <td>UNKNOWN</td>\n",
       "      <td>Not applicable or hematologic malignancy</td>\n",
       "      <td>cfDNA</td>\n",
       "      <td>False</td>\n",
       "      <td>None</td>\n",
       "      <td>normalize.gene.hgnc:644</td>\n",
       "      <td>AR A646D</td>\n",
       "    </tr>\n",
       "  </tbody>\n",
       "</table>\n",
       "<p>1876024 rows × 78 columns</p>\n",
       "</div>"
      ],
      "text/plain": [
       "        Hugo_Symbol  Entrez_Gene_Id Center NCBI_Build Chromosome  \\\n",
       "0              KRAS          3845.0    JHU     GRCh37         12   \n",
       "1              BRAF           673.0    JHU     GRCh37          7   \n",
       "2              EGFR          1956.0    JHU     GRCh37          7   \n",
       "3              TP53          7157.0    JHU     GRCh37         17   \n",
       "4              NRAS          4893.0    JHU     GRCh37          1   \n",
       "...             ...             ...    ...        ...        ...   \n",
       "1876019        TBX3          6926.0   PROV     GRCh37         12   \n",
       "1876020          AR           367.0   PROV     GRCh37          X   \n",
       "1876021        MSH3          4437.0   PROV     GRCh37          5   \n",
       "1876022         ATM           472.0   PROV     GRCh37         11   \n",
       "1876023          AR           367.0   PROV     GRCh37          X   \n",
       "\n",
       "         Start_Position  End_Position Strand       Consequence  \\\n",
       "0              25398285      25398285      +  missense_variant   \n",
       "1             140453136     140453136      +  missense_variant   \n",
       "2              55249071      55249071      +  missense_variant   \n",
       "3               7577120       7577120      +  missense_variant   \n",
       "4             115256529     115256529      +  missense_variant   \n",
       "...                 ...           ...    ...               ...   \n",
       "1876019       115112292     115112292      +  missense_variant   \n",
       "1876020        66765014      66765014      +  missense_variant   \n",
       "1876021        80021325      80021325      +  missense_variant   \n",
       "1876022       108098589     108098589      +  missense_variant   \n",
       "1876023        66931295      66931295      +  missense_variant   \n",
       "\n",
       "        Variant_Classification  ...             SAMPLE_TYPE  \\\n",
       "0            Missense_Mutation  ...                 Primary   \n",
       "1            Missense_Mutation  ...                 Primary   \n",
       "2            Missense_Mutation  ...                 Primary   \n",
       "3            Missense_Mutation  ...                 Primary   \n",
       "4            Missense_Mutation  ...                 Primary   \n",
       "...                        ...  ...                     ...   \n",
       "1876019      Missense_Mutation  ...  Not Applicable or Heme   \n",
       "1876020      Missense_Mutation  ...  Not Applicable or Heme   \n",
       "1876021      Missense_Mutation  ...  Not Applicable or Heme   \n",
       "1876022      Missense_Mutation  ...  Not Applicable or Heme   \n",
       "1876023      Missense_Mutation  ...  Not Applicable or Heme   \n",
       "\n",
       "                        SEQ_ASSAY_ID                 CANCER_TYPE  \\\n",
       "0                           JHU-50GP  Non-Small Cell Lung Cancer   \n",
       "1                           JHU-50GP  Non-Small Cell Lung Cancer   \n",
       "2                           JHU-50GP  Non-Small Cell Lung Cancer   \n",
       "3                           JHU-50GP  Non-Small Cell Lung Cancer   \n",
       "4                           JHU-50GP  Non-Small Cell Lung Cancer   \n",
       "...                              ...                         ...   \n",
       "1876019  PROV-FOUNDATIONONELIQUIDCDX                     UNKNOWN   \n",
       "1876020  PROV-FOUNDATIONONELIQUIDCDX                     UNKNOWN   \n",
       "1876021  PROV-FOUNDATIONONELIQUIDCDX                     UNKNOWN   \n",
       "1876022  PROV-FOUNDATIONONELIQUIDCDX                     UNKNOWN   \n",
       "1876023  PROV-FOUNDATIONONELIQUIDCDX                     UNKNOWN   \n",
       "\n",
       "        CANCER_TYPE_DETAILED                      SAMPLE_TYPE_DETAILED  \\\n",
       "0        Lung Adenocarcinoma                             Primary tumor   \n",
       "1        Lung Adenocarcinoma                             Primary tumor   \n",
       "2        Lung Adenocarcinoma                             Primary tumor   \n",
       "3        Lung Adenocarcinoma                             Primary tumor   \n",
       "4        Lung Adenocarcinoma                             Primary tumor   \n",
       "...                      ...                                       ...   \n",
       "1876019              UNKNOWN  Not applicable or hematologic malignancy   \n",
       "1876020              UNKNOWN  Not applicable or hematologic malignancy   \n",
       "1876021              UNKNOWN  Not applicable or hematologic malignancy   \n",
       "1876022              UNKNOWN  Not applicable or hematologic malignancy   \n",
       "1876023              UNKNOWN  Not applicable or hematologic malignancy   \n",
       "\n",
       "         SAMPLE_CLASS Exclusion?            disease_concept_id  \\\n",
       "0               Tumor      False  normalize.disease.ncit:C2926   \n",
       "1               Tumor      False  normalize.disease.ncit:C2926   \n",
       "2               Tumor      False  normalize.disease.ncit:C2926   \n",
       "3               Tumor      False  normalize.disease.ncit:C2926   \n",
       "4               Tumor      False  normalize.disease.ncit:C2926   \n",
       "...               ...        ...                           ...   \n",
       "1876019         cfDNA      False                          None   \n",
       "1876020         cfDNA      False                          None   \n",
       "1876021         cfDNA      False                          None   \n",
       "1876022         cfDNA      False                          None   \n",
       "1876023         cfDNA      False                          None   \n",
       "\n",
       "                   gene_concept_id var_norm_query  \n",
       "0         normalize.gene.hgnc:6407      KRAS G12C  \n",
       "1         normalize.gene.hgnc:1097     BRAF V600E  \n",
       "2         normalize.gene.hgnc:3236     EGFR T790M  \n",
       "3        normalize.gene.hgnc:11998     TP53 R273H  \n",
       "4         normalize.gene.hgnc:7989      NRAS Q61R  \n",
       "...                            ...            ...  \n",
       "1876019  normalize.gene.hgnc:11602     TBX3 T483M  \n",
       "1876020    normalize.gene.hgnc:644         AR R9K  \n",
       "1876021   normalize.gene.hgnc:7326     MSH3 Y465C  \n",
       "1876022    normalize.gene.hgnc:795       ATM K53N  \n",
       "1876023    normalize.gene.hgnc:644       AR A646D  \n",
       "\n",
       "[1876024 rows x 78 columns]"
      ]
     },
     "execution_count": 71,
     "metadata": {},
     "output_type": "execute_result"
    }
   ],
   "source": [
    "def build_varnorm_query(HGVSp, Hugo_Symbol):\n",
    "    if isinstance(HGVSp, float):\n",
    "        return None\n",
    "    if isinstance(Hugo_Symbol, float):\n",
    "        return None\n",
    "    return f'{Hugo_Symbol} {HGVSp.split(\".\")[1]}'\n",
    "    \n",
    "df['var_norm_query'] = df.apply(lambda x: build_varnorm_query(x['HGVSp_Short'], x['Hugo_Symbol']), axis=1)\n",
    "df"
   ]
  },
  {
   "cell_type": "code",
   "execution_count": 13,
   "metadata": {},
   "outputs": [
    {
     "data": {
      "text/plain": [
       "767237"
      ]
     },
     "execution_count": 13,
     "metadata": {},
     "output_type": "execute_result"
    }
   ],
   "source": [
    "len(list(df['var_norm_query'].unique()))"
   ]
  },
  {
   "cell_type": "markdown",
   "metadata": {},
   "source": [
    "## Normalize Variants\n",
    "This block takes a very long time to run, run only when needed. Data was normalized most recently on 2025 04 02. Load the protein seq consequence to variant map and map from there to the dataframes as needed."
   ]
  },
  {
   "cell_type": "code",
   "execution_count": null,
   "metadata": {},
   "outputs": [],
   "source": [
    "# TODO: Keep this for record of how normalize variants\n",
    "# # Only run this once, takes a long long time\n",
    "\n",
    "# import requests\n",
    "# import pandas as pd\n",
    "# from tqdm import tqdm\n",
    "\n",
    "# tqdm.pandas()  # Enables progress_apply\n",
    "\n",
    "# def normalize_variation(term):\n",
    "#     try:\n",
    "#         r = requests.get(f'http://127.0.0.1:8000/variation/normalize?q={term}', verify=False)\n",
    "#         if r.status_code == 200:\n",
    "#             try:\n",
    "#                 identifier = r.json()['variation']['id']\n",
    "#             except KeyError:\n",
    "#                 identifier = 'Normalization Attempted'\n",
    "#             return identifier\n",
    "#     except requests.RequestException:\n",
    "#         return None  # Return None if there's a network error\n",
    "\n",
    "# def batch_process_variations(variations, batch_size=10000):\n",
    "#     result_df = pd.DataFrame(columns=['unique_variation', 'variation_identifier'])\n",
    "#     for i in tqdm(range(0, len(variations), batch_size)):\n",
    "#         batch_variations = variations[i:i + batch_size]\n",
    "#         # Convert numpy array slice to pandas Series to use progress_apply\n",
    "#         batch_series = pd.Series(batch_variations)\n",
    "#         batch_identifiers = batch_series.progress_apply(normalize_variation)\n",
    "#         temp_df = pd.DataFrame({\n",
    "#             'unique_variation': batch_variations,\n",
    "#             'variation_identifier': batch_identifiers\n",
    "#         })\n",
    "#         result_df = pd.concat([result_df, temp_df], ignore_index=True)\n",
    "#         print(i)\n",
    "        \n",
    "#         # Save periodically\n",
    "#         temp_df.to_csv(f'reattempt_output_{i//batch_size}.csv', index=False)\n",
    "#     return result_df\n",
    "\n",
    "# # Main DataFrame from your data\n",
    "# unique_variations = try_one_more_time['unique_variation'].unique()\n",
    "\n",
    "# # Process the variations in batches\n",
    "# final_df = batch_process_variations(unique_variations)\n",
    "\n",
    "# # TODO: Make more efficient? Takes literally 236:39:46 (almost 10 days)\n",
    "# # TODO: Clean up this whole section, do not resave a file\n",
    "# # TODO: Fill in the blanks that are still missing for final_df and map over\n"
   ]
  },
  {
   "cell_type": "markdown",
   "metadata": {},
   "source": [
    "## Continue Analysis\n",
    "Load variants, map and aggregate"
   ]
  },
  {
   "cell_type": "code",
   "execution_count": 72,
   "metadata": {},
   "outputs": [
    {
     "data": {
      "text/html": [
       "<div>\n",
       "<style scoped>\n",
       "    .dataframe tbody tr th:only-of-type {\n",
       "        vertical-align: middle;\n",
       "    }\n",
       "\n",
       "    .dataframe tbody tr th {\n",
       "        vertical-align: top;\n",
       "    }\n",
       "\n",
       "    .dataframe thead th {\n",
       "        text-align: right;\n",
       "    }\n",
       "</style>\n",
       "<table border=\"1\" class=\"dataframe\">\n",
       "  <thead>\n",
       "    <tr style=\"text-align: right;\">\n",
       "      <th></th>\n",
       "      <th>unique_variation</th>\n",
       "      <th>variation_identifier</th>\n",
       "    </tr>\n",
       "  </thead>\n",
       "  <tbody>\n",
       "    <tr>\n",
       "      <th>0</th>\n",
       "      <td>KRAS G12C</td>\n",
       "      <td>ga4gh:VA.udBCHwlrf8xNiRy_19bLi-h5LhnZLgCt</td>\n",
       "    </tr>\n",
       "    <tr>\n",
       "      <th>1</th>\n",
       "      <td>BRAF V600E</td>\n",
       "      <td>ga4gh:VA.j4XnsLZcdzDIYa5pvvXM7t1wn9OITr0L</td>\n",
       "    </tr>\n",
       "    <tr>\n",
       "      <th>2</th>\n",
       "      <td>EGFR T790M</td>\n",
       "      <td>ga4gh:VA.sMA9h8fzDi0RvweMlxtD0_Oi8B-JZ1V-</td>\n",
       "    </tr>\n",
       "    <tr>\n",
       "      <th>3</th>\n",
       "      <td>TP53 R273H</td>\n",
       "      <td>ga4gh:VA.NbmGko5VG3K44V5sy-uVWrQaBdnqJ227</td>\n",
       "    </tr>\n",
       "    <tr>\n",
       "      <th>4</th>\n",
       "      <td>NRAS Q61R</td>\n",
       "      <td>ga4gh:VA.CpnlaV2B8565obATF-UlE706sBYp0D6M</td>\n",
       "    </tr>\n",
       "    <tr>\n",
       "      <th>...</th>\n",
       "      <td>...</td>\n",
       "      <td>...</td>\n",
       "    </tr>\n",
       "    <tr>\n",
       "      <th>1258581</th>\n",
       "      <td>CHEK2 *544Sext*48</td>\n",
       "      <td>NaN</td>\n",
       "    </tr>\n",
       "    <tr>\n",
       "      <th>1258582</th>\n",
       "      <td>TAF1 L1389W</td>\n",
       "      <td>NaN</td>\n",
       "    </tr>\n",
       "    <tr>\n",
       "      <th>1258583</th>\n",
       "      <td>MAP3K14 *501*</td>\n",
       "      <td>NaN</td>\n",
       "    </tr>\n",
       "    <tr>\n",
       "      <th>1258584</th>\n",
       "      <td>CDKN2A A13Gfs*2</td>\n",
       "      <td>NaN</td>\n",
       "    </tr>\n",
       "    <tr>\n",
       "      <th>1258585</th>\n",
       "      <td>NF1 F2316Lfs*2</td>\n",
       "      <td>NaN</td>\n",
       "    </tr>\n",
       "  </tbody>\n",
       "</table>\n",
       "<p>1258586 rows × 2 columns</p>\n",
       "</div>"
      ],
      "text/plain": [
       "          unique_variation                       variation_identifier\n",
       "0                KRAS G12C  ga4gh:VA.udBCHwlrf8xNiRy_19bLi-h5LhnZLgCt\n",
       "1               BRAF V600E  ga4gh:VA.j4XnsLZcdzDIYa5pvvXM7t1wn9OITr0L\n",
       "2               EGFR T790M  ga4gh:VA.sMA9h8fzDi0RvweMlxtD0_Oi8B-JZ1V-\n",
       "3               TP53 R273H  ga4gh:VA.NbmGko5VG3K44V5sy-uVWrQaBdnqJ227\n",
       "4                NRAS Q61R  ga4gh:VA.CpnlaV2B8565obATF-UlE706sBYp0D6M\n",
       "...                    ...                                        ...\n",
       "1258581  CHEK2 *544Sext*48                                        NaN\n",
       "1258582        TAF1 L1389W                                        NaN\n",
       "1258583      MAP3K14 *501*                                        NaN\n",
       "1258584    CDKN2A A13Gfs*2                                        NaN\n",
       "1258585     NF1 F2316Lfs*2                                        NaN\n",
       "\n",
       "[1258586 rows x 2 columns]"
      ]
     },
     "execution_count": 72,
     "metadata": {},
     "output_type": "execute_result"
    }
   ],
   "source": [
    "tdf1 = pd.read_excel('norm_data/0-89-variant-norm-20250324.xlsx').drop(labels='Unnamed: 0',axis=1)\n",
    "tdf2 = pd.read_excel('norm_data/variant-norm-remainders-take1-20250331.xlsx').drop(labels='Unnamed: 0',axis=1)\n",
    "tdf3 = pd.read_excel('norm_data/variant-norm-remainders-take2-20250402.xlsx').drop(labels='Unnamed: 0',axis=1)\n",
    "variant_map = pd.concat([tdf1,tdf2,tdf3]).reset_index(drop=True)\n",
    "variant_map"
   ]
  },
  {
   "cell_type": "code",
   "execution_count": 73,
   "metadata": {},
   "outputs": [
    {
     "name": "stdout",
     "output_type": "stream",
     "text": [
      "Total Unique Variants: 756267\n"
     ]
    }
   ],
   "source": [
    "# Drop NaNs and 'Normalization Attempted's\n",
    "variant_map = variant_map[variant_map['variation_identifier'].isna()==False]\n",
    "variant_map = variant_map[variant_map['variation_identifier']!='Normalization Attempted'].reset_index(drop=True)\n",
    "\n",
    "print(f'Total Unique Variants: {len(variant_map)}')"
   ]
  },
  {
   "cell_type": "code",
   "execution_count": 74,
   "metadata": {},
   "outputs": [
    {
     "data": {
      "text/plain": [
       "var_norm_query  variation_concept_id                     \n",
       "KRAS G12D       ga4gh:VA.cdcXITbBWUXPjy3zPdhs7xjU1yvlkSrj    9903\n",
       "KRAS G12V       ga4gh:VA.AhXGahW4SCTEgBSXlABoqX7N4mWXL-MD    7945\n",
       "BRAF V600E      ga4gh:VA.j4XnsLZcdzDIYa5pvvXM7t1wn9OITr0L    7019\n",
       "PIK3CA E545K    ga4gh:VA.-dMnJf9oUBfl9De0llc3LqJaGdFzfATK    5034\n",
       "KRAS G12C       ga4gh:VA.udBCHwlrf8xNiRy_19bLi-h5LhnZLgCt    4993\n",
       "                                                             ... \n",
       "MAPK3 A342T     ga4gh:VA.5bwgw1bSxuOsZkLeuTc976O3G8Qj8rG9       1\n",
       "MAPK3 A326D     ga4gh:VA.NJj3AWyoI6IIhAX21r6IYZDTd-LnQNSd       1\n",
       "MAPK3 A277V     ga4gh:VA.Tu0cDmu-a3-yfP3Kg5GpMkqKT1ArodqU       1\n",
       "MAPK3 A188V     ga4gh:VA.DRb75TA4O6OmC-0p2pEc1PHTFUQS1oaG       1\n",
       "ABCB1 D457N     ga4gh:VA.pzoIug3WcO7UaFcEIatXAL2UEGv_RyZG       1\n",
       "Name: count, Length: 662723, dtype: int64"
      ]
     },
     "execution_count": 74,
     "metadata": {},
     "output_type": "execute_result"
    }
   ],
   "source": [
    "# Map the identifiers back to the original DataFrame\n",
    "variation_dict = variant_map.set_index('unique_variation')['variation_identifier'].to_dict()\n",
    "df['variation_concept_id'] = df['var_norm_query'].map(variation_dict)\n",
    "df[['var_norm_query','variation_concept_id']].value_counts()\n"
   ]
  },
  {
   "cell_type": "code",
   "execution_count": 75,
   "metadata": {},
   "outputs": [
    {
     "name": "stdout",
     "output_type": "stream",
     "text": [
      "Variants Without Mapping: 14.529664865694683\n"
     ]
    }
   ],
   "source": [
    "maximum = len(df['variation_concept_id'])\n",
    "print(f'Variants Without Mapping: {(len(df[df[\"variation_concept_id\"].isna()]) / maximum) * 100}')"
   ]
  },
  {
   "cell_type": "code",
   "execution_count": 76,
   "metadata": {},
   "outputs": [
    {
     "data": {
      "text/html": [
       "<div>\n",
       "<style scoped>\n",
       "    .dataframe tbody tr th:only-of-type {\n",
       "        vertical-align: middle;\n",
       "    }\n",
       "\n",
       "    .dataframe tbody tr th {\n",
       "        vertical-align: top;\n",
       "    }\n",
       "\n",
       "    .dataframe thead th {\n",
       "        text-align: right;\n",
       "    }\n",
       "</style>\n",
       "<table border=\"1\" class=\"dataframe\">\n",
       "  <thead>\n",
       "    <tr style=\"text-align: right;\">\n",
       "      <th></th>\n",
       "      <th>disease_concept_id</th>\n",
       "      <th>gene_concept_id</th>\n",
       "      <th>var_norm_query</th>\n",
       "      <th>variation_concept_id</th>\n",
       "    </tr>\n",
       "    <tr>\n",
       "      <th>PATIENT_ID</th>\n",
       "      <th></th>\n",
       "      <th></th>\n",
       "      <th></th>\n",
       "      <th></th>\n",
       "    </tr>\n",
       "  </thead>\n",
       "  <tbody>\n",
       "    <tr>\n",
       "      <th>GENIE-CHOP-C1002819</th>\n",
       "      <td>[]</td>\n",
       "      <td>[normalize.gene.hgnc:6075, normalize.gene.hgnc...</td>\n",
       "      <td>[INPP4B P572R, ARID2 S989L, ARAF S172L]</td>\n",
       "      <td>[ga4gh:VA.cpPxlgVD0QOz1zvk_84ZHBUI7IYE_00h, ga...</td>\n",
       "    </tr>\n",
       "    <tr>\n",
       "      <th>GENIE-CHOP-C1002942</th>\n",
       "      <td>[normalize.disease.ncit:C3161]</td>\n",
       "      <td>[normalize.gene.hgnc:1787, normalize.gene.hgnc...</td>\n",
       "      <td>[CDKN2A R80*, FLT3 D600del]</td>\n",
       "      <td>[ga4gh:VA.wrKO0LoBmRv1zWHRPksfj6FnG0uf5QU0, ga...</td>\n",
       "    </tr>\n",
       "    <tr>\n",
       "      <th>GENIE-CHOP-C1003065</th>\n",
       "      <td>[normalize.disease.ncit:C3264]</td>\n",
       "      <td>[normalize.gene.hgnc:12363, normalize.gene.hgn...</td>\n",
       "      <td>[TSC2 V299Tfs*56, BRIP1 A551E, EP300 P873A]</td>\n",
       "      <td>[ga4gh:VA.baThgMy_ByqclJ6NnbPH9wMuSv6LdMUI, ga...</td>\n",
       "    </tr>\n",
       "    <tr>\n",
       "      <th>GENIE-CHOP-C1003188</th>\n",
       "      <td>[normalize.disease.ncit:C3264]</td>\n",
       "      <td>[normalize.gene.hgnc:3942, normalize.gene.hgnc...</td>\n",
       "      <td>[MTOR Q1492R, MUTYH I220V, MSH6 K854M, XPO1 R4...</td>\n",
       "      <td>[ga4gh:VA.IAC5UiVyvpQuGjtELYfnnIL9BKnlsVd_, ga...</td>\n",
       "    </tr>\n",
       "    <tr>\n",
       "      <th>GENIE-CHOP-C1003434</th>\n",
       "      <td>[normalize.disease.ncit:C3059]</td>\n",
       "      <td>[normalize.gene.hgnc:952, normalize.gene.hgnc:...</td>\n",
       "      <td>[BARD1 T598N, MET V919I, BRAF V600E, BRCA2 A19...</td>\n",
       "      <td>[ga4gh:VA.uIoCtTobAQxL2ux7fhTIaKYjQAmempA1, ga...</td>\n",
       "    </tr>\n",
       "    <tr>\n",
       "      <th>...</th>\n",
       "      <td>...</td>\n",
       "      <td>...</td>\n",
       "      <td>...</td>\n",
       "      <td>...</td>\n",
       "    </tr>\n",
       "    <tr>\n",
       "      <th>GENIE-YALE-TPL1871</th>\n",
       "      <td>[normalize.disease.mondo:0005065]</td>\n",
       "      <td>[normalize.gene.hgnc:1101, normalize.gene.hgnc...</td>\n",
       "      <td>[BRCA2 S1982Rfs*22, NOTCH1 N104S, ATM N1005S, ...</td>\n",
       "      <td>[ga4gh:VA.J9aYt41fi60Bf08ll7QLHO7Kk25w84m8, ga...</td>\n",
       "    </tr>\n",
       "    <tr>\n",
       "      <th>GENIE-YALE-TPL1872</th>\n",
       "      <td>[normalize.disease.ncit:C2926]</td>\n",
       "      <td>[normalize.gene.hgnc:1925, normalize.gene.hgnc...</td>\n",
       "      <td>[CHEK1 F83Y, EGFR S768_D770dup]</td>\n",
       "      <td>[ga4gh:VA.VIk43vHfYbi-5JeDg5QD_TqvCwtuUzgz]</td>\n",
       "    </tr>\n",
       "    <tr>\n",
       "      <th>GENIE-YALE-TPL1873</th>\n",
       "      <td>[normalize.disease.ncit:C4978]</td>\n",
       "      <td>[normalize.gene.hgnc:6407, normalize.gene.hgnc...</td>\n",
       "      <td>[KRAS G12D, PIK3CA E542K, TP53 R249M]</td>\n",
       "      <td>[ga4gh:VA.cdcXITbBWUXPjy3zPdhs7xjU1yvlkSrj, ga...</td>\n",
       "    </tr>\n",
       "    <tr>\n",
       "      <th>GENIE-YALE-TPL1875</th>\n",
       "      <td>[normalize.disease.ncit:C2926]</td>\n",
       "      <td>[normalize.gene.hgnc:6973, normalize.gene.hgnc...</td>\n",
       "      <td>[MDM2 L142_C145del, MSH6 R1331Q, ARID1A M442L,...</td>\n",
       "      <td>[ga4gh:VA.VCZicRqC130uB4f-PsR0Fp1X8Hh7yHiY, ga...</td>\n",
       "    </tr>\n",
       "    <tr>\n",
       "      <th>GENIE-YALE-TPL1876</th>\n",
       "      <td>[normalize.disease.ncit:C4013]</td>\n",
       "      <td>[normalize.gene.hgnc:882, normalize.gene.hgnc:...</td>\n",
       "      <td>[ATR R1951L, MDM2 E300_K308del, NF1 M991V, TP5...</td>\n",
       "      <td>[ga4gh:VA.bcn96eJuaKl5YGBG_ti5Y2rOWNG7bTS3, ga...</td>\n",
       "    </tr>\n",
       "  </tbody>\n",
       "</table>\n",
       "<p>178800 rows × 4 columns</p>\n",
       "</div>"
      ],
      "text/plain": [
       "                                    disease_concept_id  \\\n",
       "PATIENT_ID                                               \n",
       "GENIE-CHOP-C1002819                                 []   \n",
       "GENIE-CHOP-C1002942     [normalize.disease.ncit:C3161]   \n",
       "GENIE-CHOP-C1003065     [normalize.disease.ncit:C3264]   \n",
       "GENIE-CHOP-C1003188     [normalize.disease.ncit:C3264]   \n",
       "GENIE-CHOP-C1003434     [normalize.disease.ncit:C3059]   \n",
       "...                                                ...   \n",
       "GENIE-YALE-TPL1871   [normalize.disease.mondo:0005065]   \n",
       "GENIE-YALE-TPL1872      [normalize.disease.ncit:C2926]   \n",
       "GENIE-YALE-TPL1873      [normalize.disease.ncit:C4978]   \n",
       "GENIE-YALE-TPL1875      [normalize.disease.ncit:C2926]   \n",
       "GENIE-YALE-TPL1876      [normalize.disease.ncit:C4013]   \n",
       "\n",
       "                                                       gene_concept_id  \\\n",
       "PATIENT_ID                                                               \n",
       "GENIE-CHOP-C1002819  [normalize.gene.hgnc:6075, normalize.gene.hgnc...   \n",
       "GENIE-CHOP-C1002942  [normalize.gene.hgnc:1787, normalize.gene.hgnc...   \n",
       "GENIE-CHOP-C1003065  [normalize.gene.hgnc:12363, normalize.gene.hgn...   \n",
       "GENIE-CHOP-C1003188  [normalize.gene.hgnc:3942, normalize.gene.hgnc...   \n",
       "GENIE-CHOP-C1003434  [normalize.gene.hgnc:952, normalize.gene.hgnc:...   \n",
       "...                                                                ...   \n",
       "GENIE-YALE-TPL1871   [normalize.gene.hgnc:1101, normalize.gene.hgnc...   \n",
       "GENIE-YALE-TPL1872   [normalize.gene.hgnc:1925, normalize.gene.hgnc...   \n",
       "GENIE-YALE-TPL1873   [normalize.gene.hgnc:6407, normalize.gene.hgnc...   \n",
       "GENIE-YALE-TPL1875   [normalize.gene.hgnc:6973, normalize.gene.hgnc...   \n",
       "GENIE-YALE-TPL1876   [normalize.gene.hgnc:882, normalize.gene.hgnc:...   \n",
       "\n",
       "                                                        var_norm_query  \\\n",
       "PATIENT_ID                                                               \n",
       "GENIE-CHOP-C1002819            [INPP4B P572R, ARID2 S989L, ARAF S172L]   \n",
       "GENIE-CHOP-C1002942                        [CDKN2A R80*, FLT3 D600del]   \n",
       "GENIE-CHOP-C1003065        [TSC2 V299Tfs*56, BRIP1 A551E, EP300 P873A]   \n",
       "GENIE-CHOP-C1003188  [MTOR Q1492R, MUTYH I220V, MSH6 K854M, XPO1 R4...   \n",
       "GENIE-CHOP-C1003434  [BARD1 T598N, MET V919I, BRAF V600E, BRCA2 A19...   \n",
       "...                                                                ...   \n",
       "GENIE-YALE-TPL1871   [BRCA2 S1982Rfs*22, NOTCH1 N104S, ATM N1005S, ...   \n",
       "GENIE-YALE-TPL1872                     [CHEK1 F83Y, EGFR S768_D770dup]   \n",
       "GENIE-YALE-TPL1873               [KRAS G12D, PIK3CA E542K, TP53 R249M]   \n",
       "GENIE-YALE-TPL1875   [MDM2 L142_C145del, MSH6 R1331Q, ARID1A M442L,...   \n",
       "GENIE-YALE-TPL1876   [ATR R1951L, MDM2 E300_K308del, NF1 M991V, TP5...   \n",
       "\n",
       "                                                  variation_concept_id  \n",
       "PATIENT_ID                                                              \n",
       "GENIE-CHOP-C1002819  [ga4gh:VA.cpPxlgVD0QOz1zvk_84ZHBUI7IYE_00h, ga...  \n",
       "GENIE-CHOP-C1002942  [ga4gh:VA.wrKO0LoBmRv1zWHRPksfj6FnG0uf5QU0, ga...  \n",
       "GENIE-CHOP-C1003065  [ga4gh:VA.baThgMy_ByqclJ6NnbPH9wMuSv6LdMUI, ga...  \n",
       "GENIE-CHOP-C1003188  [ga4gh:VA.IAC5UiVyvpQuGjtELYfnnIL9BKnlsVd_, ga...  \n",
       "GENIE-CHOP-C1003434  [ga4gh:VA.uIoCtTobAQxL2ux7fhTIaKYjQAmempA1, ga...  \n",
       "...                                                                ...  \n",
       "GENIE-YALE-TPL1871   [ga4gh:VA.J9aYt41fi60Bf08ll7QLHO7Kk25w84m8, ga...  \n",
       "GENIE-YALE-TPL1872         [ga4gh:VA.VIk43vHfYbi-5JeDg5QD_TqvCwtuUzgz]  \n",
       "GENIE-YALE-TPL1873   [ga4gh:VA.cdcXITbBWUXPjy3zPdhs7xjU1yvlkSrj, ga...  \n",
       "GENIE-YALE-TPL1875   [ga4gh:VA.VCZicRqC130uB4f-PsR0Fp1X8Hh7yHiY, ga...  \n",
       "GENIE-YALE-TPL1876   [ga4gh:VA.bcn96eJuaKl5YGBG_ti5Y2rOWNG7bTS3, ga...  \n",
       "\n",
       "[178800 rows x 4 columns]"
      ]
     },
     "execution_count": 76,
     "metadata": {},
     "output_type": "execute_result"
    }
   ],
   "source": [
    "# These are our relevant fields for quantification\n",
    "analysis_df = df[['PATIENT_ID','disease_concept_id','gene_concept_id','var_norm_query','variation_concept_id']]\n",
    "analysis_df = analysis_df.groupby('PATIENT_ID').agg(pd.unique)\n",
    "\n",
    "# Filter out NaNs\n",
    "analysis_df['disease_concept_id'] = analysis_df['disease_concept_id'].apply(lambda lst: [x for x in lst if pd.notna(x) and x is not None])\n",
    "analysis_df['gene_concept_id'] = analysis_df['gene_concept_id'].apply(lambda lst: [x for x in lst if pd.notna(x) and x is not None])\n",
    "analysis_df['variation_concept_id'] = analysis_df['variation_concept_id'].apply(lambda lst: [x for x in lst if pd.notna(x) and x is not None])\n",
    "\n",
    "analysis_df"
   ]
  },
  {
   "cell_type": "code",
   "execution_count": null,
   "metadata": {},
   "outputs": [],
   "source": [
    "# TODO: Simulate a search for a patient, quantify the number of different interpretations for differing levels of concepts\n",
    "# TODO: Granularity of evidence: Single concept, pairwise, full statement\n",
    "# TODO: Patients with multiple attached concepts: de-aggregate data (row level), quantify per concept separate counts, all possibility statements, rejoin original statements? "
   ]
  },
  {
   "cell_type": "code",
   "execution_count": 60,
   "metadata": {},
   "outputs": [
    {
     "data": {
      "text/html": [
       "<div>\n",
       "<style scoped>\n",
       "    .dataframe tbody tr th:only-of-type {\n",
       "        vertical-align: middle;\n",
       "    }\n",
       "\n",
       "    .dataframe tbody tr th {\n",
       "        vertical-align: top;\n",
       "    }\n",
       "\n",
       "    .dataframe thead th {\n",
       "        text-align: right;\n",
       "    }\n",
       "</style>\n",
       "<table border=\"1\" class=\"dataframe\">\n",
       "  <thead>\n",
       "    <tr style=\"text-align: right;\">\n",
       "      <th></th>\n",
       "      <th>Hugo_Symbol</th>\n",
       "      <th>Entrez_Gene_Id</th>\n",
       "      <th>Center</th>\n",
       "      <th>NCBI_Build</th>\n",
       "      <th>Chromosome</th>\n",
       "      <th>Start_Position</th>\n",
       "      <th>End_Position</th>\n",
       "      <th>Strand</th>\n",
       "      <th>Consequence</th>\n",
       "      <th>Variant_Classification</th>\n",
       "      <th>...</th>\n",
       "      <th>SEQ_ASSAY_ID</th>\n",
       "      <th>CANCER_TYPE</th>\n",
       "      <th>CANCER_TYPE_DETAILED</th>\n",
       "      <th>SAMPLE_TYPE_DETAILED</th>\n",
       "      <th>SAMPLE_CLASS</th>\n",
       "      <th>Exclusion?</th>\n",
       "      <th>disease_concept_id</th>\n",
       "      <th>gene_concept_id</th>\n",
       "      <th>var_norm_query</th>\n",
       "      <th>variation_concept_id</th>\n",
       "    </tr>\n",
       "  </thead>\n",
       "  <tbody>\n",
       "    <tr>\n",
       "      <th>1496352</th>\n",
       "      <td>CDKN2A</td>\n",
       "      <td>1029.0</td>\n",
       "      <td>CHOP</td>\n",
       "      <td>GRCh37</td>\n",
       "      <td>9</td>\n",
       "      <td>21971120</td>\n",
       "      <td>21971120</td>\n",
       "      <td>+</td>\n",
       "      <td>stop_gained</td>\n",
       "      <td>Nonsense_Mutation</td>\n",
       "      <td>...</td>\n",
       "      <td>CHOP-HEMEP</td>\n",
       "      <td>Leukemia</td>\n",
       "      <td>Acute Myeloid Leukemia</td>\n",
       "      <td>Local recurrence</td>\n",
       "      <td>Tumor</td>\n",
       "      <td>False</td>\n",
       "      <td>normalize.disease.ncit:C3161</td>\n",
       "      <td>normalize.gene.hgnc:1787</td>\n",
       "      <td>CDKN2A R80*</td>\n",
       "      <td>ga4gh:VA.wrKO0LoBmRv1zWHRPksfj6FnG0uf5QU0</td>\n",
       "    </tr>\n",
       "    <tr>\n",
       "      <th>1496353</th>\n",
       "      <td>FLT3</td>\n",
       "      <td>2322.0</td>\n",
       "      <td>CHOP</td>\n",
       "      <td>GRCh37</td>\n",
       "      <td>13</td>\n",
       "      <td>28608256</td>\n",
       "      <td>28608258</td>\n",
       "      <td>+</td>\n",
       "      <td>inframe_deletion</td>\n",
       "      <td>In_Frame_Del</td>\n",
       "      <td>...</td>\n",
       "      <td>CHOP-HEMEP</td>\n",
       "      <td>Leukemia</td>\n",
       "      <td>Acute Myeloid Leukemia</td>\n",
       "      <td>Local recurrence</td>\n",
       "      <td>Tumor</td>\n",
       "      <td>False</td>\n",
       "      <td>normalize.disease.ncit:C3161</td>\n",
       "      <td>normalize.gene.hgnc:3765</td>\n",
       "      <td>FLT3 D600del</td>\n",
       "      <td>ga4gh:VA.Z3ExHu3DToMcoLuODWa1gcrcLP0Y3Htx</td>\n",
       "    </tr>\n",
       "    <tr>\n",
       "      <th>1496354</th>\n",
       "      <td>CDKN2A</td>\n",
       "      <td>1029.0</td>\n",
       "      <td>CHOP</td>\n",
       "      <td>GRCh37</td>\n",
       "      <td>9</td>\n",
       "      <td>21971120</td>\n",
       "      <td>21971120</td>\n",
       "      <td>+</td>\n",
       "      <td>stop_gained</td>\n",
       "      <td>Nonsense_Mutation</td>\n",
       "      <td>...</td>\n",
       "      <td>CHOP-HEMEP</td>\n",
       "      <td>Leukemia</td>\n",
       "      <td>Acute Myeloid Leukemia</td>\n",
       "      <td>Local recurrence</td>\n",
       "      <td>Tumor</td>\n",
       "      <td>False</td>\n",
       "      <td>normalize.disease.ncit:C3161</td>\n",
       "      <td>normalize.gene.hgnc:1787</td>\n",
       "      <td>CDKN2A R80*</td>\n",
       "      <td>ga4gh:VA.wrKO0LoBmRv1zWHRPksfj6FnG0uf5QU0</td>\n",
       "    </tr>\n",
       "    <tr>\n",
       "      <th>1496355</th>\n",
       "      <td>FLT3</td>\n",
       "      <td>2322.0</td>\n",
       "      <td>CHOP</td>\n",
       "      <td>GRCh37</td>\n",
       "      <td>13</td>\n",
       "      <td>28608256</td>\n",
       "      <td>28608258</td>\n",
       "      <td>+</td>\n",
       "      <td>inframe_deletion</td>\n",
       "      <td>In_Frame_Del</td>\n",
       "      <td>...</td>\n",
       "      <td>CHOP-HEMEP</td>\n",
       "      <td>Leukemia</td>\n",
       "      <td>Acute Myeloid Leukemia</td>\n",
       "      <td>Local recurrence</td>\n",
       "      <td>Tumor</td>\n",
       "      <td>False</td>\n",
       "      <td>normalize.disease.ncit:C3161</td>\n",
       "      <td>normalize.gene.hgnc:3765</td>\n",
       "      <td>FLT3 D600del</td>\n",
       "      <td>ga4gh:VA.Z3ExHu3DToMcoLuODWa1gcrcLP0Y3Htx</td>\n",
       "    </tr>\n",
       "  </tbody>\n",
       "</table>\n",
       "<p>4 rows × 79 columns</p>\n",
       "</div>"
      ],
      "text/plain": [
       "        Hugo_Symbol  Entrez_Gene_Id Center NCBI_Build Chromosome  \\\n",
       "1496352      CDKN2A          1029.0   CHOP     GRCh37          9   \n",
       "1496353        FLT3          2322.0   CHOP     GRCh37         13   \n",
       "1496354      CDKN2A          1029.0   CHOP     GRCh37          9   \n",
       "1496355        FLT3          2322.0   CHOP     GRCh37         13   \n",
       "\n",
       "         Start_Position  End_Position Strand       Consequence  \\\n",
       "1496352        21971120      21971120      +       stop_gained   \n",
       "1496353        28608256      28608258      +  inframe_deletion   \n",
       "1496354        21971120      21971120      +       stop_gained   \n",
       "1496355        28608256      28608258      +  inframe_deletion   \n",
       "\n",
       "        Variant_Classification  ... SEQ_ASSAY_ID CANCER_TYPE  \\\n",
       "1496352      Nonsense_Mutation  ...   CHOP-HEMEP    Leukemia   \n",
       "1496353           In_Frame_Del  ...   CHOP-HEMEP    Leukemia   \n",
       "1496354      Nonsense_Mutation  ...   CHOP-HEMEP    Leukemia   \n",
       "1496355           In_Frame_Del  ...   CHOP-HEMEP    Leukemia   \n",
       "\n",
       "           CANCER_TYPE_DETAILED SAMPLE_TYPE_DETAILED SAMPLE_CLASS  Exclusion?  \\\n",
       "1496352  Acute Myeloid Leukemia     Local recurrence        Tumor       False   \n",
       "1496353  Acute Myeloid Leukemia     Local recurrence        Tumor       False   \n",
       "1496354  Acute Myeloid Leukemia     Local recurrence        Tumor       False   \n",
       "1496355  Acute Myeloid Leukemia     Local recurrence        Tumor       False   \n",
       "\n",
       "                   disease_concept_id           gene_concept_id  \\\n",
       "1496352  normalize.disease.ncit:C3161  normalize.gene.hgnc:1787   \n",
       "1496353  normalize.disease.ncit:C3161  normalize.gene.hgnc:3765   \n",
       "1496354  normalize.disease.ncit:C3161  normalize.gene.hgnc:1787   \n",
       "1496355  normalize.disease.ncit:C3161  normalize.gene.hgnc:3765   \n",
       "\n",
       "        var_norm_query                       variation_concept_id  \n",
       "1496352    CDKN2A R80*  ga4gh:VA.wrKO0LoBmRv1zWHRPksfj6FnG0uf5QU0  \n",
       "1496353   FLT3 D600del  ga4gh:VA.Z3ExHu3DToMcoLuODWa1gcrcLP0Y3Htx  \n",
       "1496354    CDKN2A R80*  ga4gh:VA.wrKO0LoBmRv1zWHRPksfj6FnG0uf5QU0  \n",
       "1496355   FLT3 D600del  ga4gh:VA.Z3ExHu3DToMcoLuODWa1gcrcLP0Y3Htx  \n",
       "\n",
       "[4 rows x 79 columns]"
      ]
     },
     "execution_count": 60,
     "metadata": {},
     "output_type": "execute_result"
    }
   ],
   "source": [
    "df[df['PATIENT_ID']=='GENIE-CHOP-C1002942']"
   ]
  },
  {
   "cell_type": "markdown",
   "metadata": {},
   "source": [
    "#### Simple Counts (for use in simple statistics)"
   ]
  },
  {
   "cell_type": "code",
   "execution_count": 77,
   "metadata": {},
   "outputs": [
    {
     "data": {
      "text/html": [
       "<div>\n",
       "<style scoped>\n",
       "    .dataframe tbody tr th:only-of-type {\n",
       "        vertical-align: middle;\n",
       "    }\n",
       "\n",
       "    .dataframe tbody tr th {\n",
       "        vertical-align: top;\n",
       "    }\n",
       "\n",
       "    .dataframe thead th {\n",
       "        text-align: right;\n",
       "    }\n",
       "</style>\n",
       "<table border=\"1\" class=\"dataframe\">\n",
       "  <thead>\n",
       "    <tr style=\"text-align: right;\">\n",
       "      <th></th>\n",
       "      <th>no_gene_concepts</th>\n",
       "      <th>no_disease_concepts</th>\n",
       "      <th>no_variation_concepts</th>\n",
       "    </tr>\n",
       "    <tr>\n",
       "      <th>PATIENT_ID</th>\n",
       "      <th></th>\n",
       "      <th></th>\n",
       "      <th></th>\n",
       "    </tr>\n",
       "  </thead>\n",
       "  <tbody>\n",
       "    <tr>\n",
       "      <th>GENIE-CHOP-C1002819</th>\n",
       "      <td>3</td>\n",
       "      <td>0</td>\n",
       "      <td>3</td>\n",
       "    </tr>\n",
       "    <tr>\n",
       "      <th>GENIE-CHOP-C1002942</th>\n",
       "      <td>2</td>\n",
       "      <td>1</td>\n",
       "      <td>2</td>\n",
       "    </tr>\n",
       "    <tr>\n",
       "      <th>GENIE-CHOP-C1003065</th>\n",
       "      <td>3</td>\n",
       "      <td>1</td>\n",
       "      <td>2</td>\n",
       "    </tr>\n",
       "    <tr>\n",
       "      <th>GENIE-CHOP-C1003188</th>\n",
       "      <td>10</td>\n",
       "      <td>1</td>\n",
       "      <td>9</td>\n",
       "    </tr>\n",
       "    <tr>\n",
       "      <th>GENIE-CHOP-C1003434</th>\n",
       "      <td>4</td>\n",
       "      <td>1</td>\n",
       "      <td>3</td>\n",
       "    </tr>\n",
       "    <tr>\n",
       "      <th>...</th>\n",
       "      <td>...</td>\n",
       "      <td>...</td>\n",
       "      <td>...</td>\n",
       "    </tr>\n",
       "    <tr>\n",
       "      <th>GENIE-YALE-TPL1871</th>\n",
       "      <td>6</td>\n",
       "      <td>1</td>\n",
       "      <td>4</td>\n",
       "    </tr>\n",
       "    <tr>\n",
       "      <th>GENIE-YALE-TPL1872</th>\n",
       "      <td>2</td>\n",
       "      <td>1</td>\n",
       "      <td>1</td>\n",
       "    </tr>\n",
       "    <tr>\n",
       "      <th>GENIE-YALE-TPL1873</th>\n",
       "      <td>3</td>\n",
       "      <td>1</td>\n",
       "      <td>3</td>\n",
       "    </tr>\n",
       "    <tr>\n",
       "      <th>GENIE-YALE-TPL1875</th>\n",
       "      <td>6</td>\n",
       "      <td>1</td>\n",
       "      <td>5</td>\n",
       "    </tr>\n",
       "    <tr>\n",
       "      <th>GENIE-YALE-TPL1876</th>\n",
       "      <td>4</td>\n",
       "      <td>1</td>\n",
       "      <td>3</td>\n",
       "    </tr>\n",
       "  </tbody>\n",
       "</table>\n",
       "<p>178800 rows × 3 columns</p>\n",
       "</div>"
      ],
      "text/plain": [
       "                     no_gene_concepts  no_disease_concepts  \\\n",
       "PATIENT_ID                                                   \n",
       "GENIE-CHOP-C1002819                 3                    0   \n",
       "GENIE-CHOP-C1002942                 2                    1   \n",
       "GENIE-CHOP-C1003065                 3                    1   \n",
       "GENIE-CHOP-C1003188                10                    1   \n",
       "GENIE-CHOP-C1003434                 4                    1   \n",
       "...                               ...                  ...   \n",
       "GENIE-YALE-TPL1871                  6                    1   \n",
       "GENIE-YALE-TPL1872                  2                    1   \n",
       "GENIE-YALE-TPL1873                  3                    1   \n",
       "GENIE-YALE-TPL1875                  6                    1   \n",
       "GENIE-YALE-TPL1876                  4                    1   \n",
       "\n",
       "                     no_variation_concepts  \n",
       "PATIENT_ID                                  \n",
       "GENIE-CHOP-C1002819                      3  \n",
       "GENIE-CHOP-C1002942                      2  \n",
       "GENIE-CHOP-C1003065                      2  \n",
       "GENIE-CHOP-C1003188                      9  \n",
       "GENIE-CHOP-C1003434                      3  \n",
       "...                                    ...  \n",
       "GENIE-YALE-TPL1871                       4  \n",
       "GENIE-YALE-TPL1872                       1  \n",
       "GENIE-YALE-TPL1873                       3  \n",
       "GENIE-YALE-TPL1875                       5  \n",
       "GENIE-YALE-TPL1876                       3  \n",
       "\n",
       "[178800 rows x 3 columns]"
      ]
     },
     "execution_count": 77,
     "metadata": {},
     "output_type": "execute_result"
    }
   ],
   "source": [
    "stats = {\n",
    "    'no_gene_concepts' : [],\n",
    "    'no_disease_concepts': [],\n",
    "    'no_variation_concepts': []\n",
    "}\n",
    "stats = pd.DataFrame(stats)\n",
    "\n",
    "stats['no_gene_concepts'] = analysis_df['gene_concept_id'].apply(lambda x: len(x))\n",
    "stats['no_disease_concepts'] = analysis_df['disease_concept_id'].apply(lambda x: len(x))\n",
    "stats['no_variation_concepts'] = analysis_df['variation_concept_id'].apply(lambda x: len(x))\n",
    "\n",
    "stats"
   ]
  },
  {
   "cell_type": "markdown",
   "metadata": {},
   "source": [
    "## Load the MetaKB v2 Dataset\n",
    "The GENIE dataset is normalized and ready for comparison, now load in the MetaKB v2 dataset to quantify available interpretations."
   ]
  },
  {
   "cell_type": "code",
   "execution_count": 78,
   "metadata": {},
   "outputs": [],
   "source": [
    "from neo4j import GraphDatabase\n",
    "\n",
    "# Functions\n",
    "def create_db_connection(uri, user, password):\n",
    "    driver = GraphDatabase.driver(uri, auth=(user, password))\n",
    "    return driver\n",
    "\n",
    "def execute_query(query):\n",
    "    uri = \"bolt://localhost:7687\"\n",
    "    user = \"neo4j\"\n",
    "    password = \"password\"\n",
    "    driver = create_db_connection(uri, user, password)\n",
    "    with driver.session() as session:\n",
    "        result = session.run(query)\n",
    "        data = [record for record in result]\n",
    "    driver.close()\n",
    "    return data\n",
    "\n",
    "def grab_subject_variant(study_id):\n",
    "    query = f\"\"\"MATCH (s:StudyStatement) WHERE s.id = '{study_id}'\n",
    "        MATCH (s)-[:HAS_VARIANT]-(c)\n",
    "        MATCH (c)-[:HAS_DEFINING_CONTEXT]-(v)\n",
    "        RETURN properties(s) AS Study,\n",
    "                properties(c) AS Variation,\n",
    "                properties(v) AS Context\n",
    "    \"\"\"\n",
    "    result = execute_query(query)\n",
    "    if len(result) > 1:\n",
    "        print(f'{study_id} has {len(result)} subjects possible')\n",
    "    subject = result[0]['Context']['id']\n",
    "    return(subject)\n",
    "\n",
    "def grab_object_therapeutic(study_id): \n",
    "    query = f\"\"\"MATCH (s:StudyStatement) WHERE s.id = '{study_id}'\n",
    "        MATCH (s)-[:HAS_THERAPEUTIC]-(c)\n",
    "        RETURN properties(s) AS Study,\n",
    "                properties(c) AS Therapeutic\n",
    "    \"\"\"\n",
    "    result = execute_query(query)\n",
    "    if len(result) > 1:\n",
    "        print(f'{study_id} has {len(result)} subjects possible')\n",
    "\n",
    "    # Check for empty result\n",
    "    if not(result): \n",
    "        return(None)\n",
    "\n",
    "    # Grab concept identifier (if not single therapeutic, handle other cases)\n",
    "    if 'normalizer_id' in result[0]['Therapeutic']:\n",
    "        therapeutic = result[0]['Therapeutic']['normalizer_id']\n",
    "        return(therapeutic)\n",
    "    \n",
    "    if 'groupType' in result[0]['Therapeutic'].keys():\n",
    "        ther_type = result[0]['Therapeutic']['groupType']\n",
    "        return((ther_type, result[0]['Therapeutic']['id']))    \n",
    "\n",
    "def grab_qualifier_disease(study_id): \n",
    "    query = f\"\"\"MATCH (s:StudyStatement) WHERE s.id = '{study_id}'\n",
    "        MATCH (s)-[:HAS_TUMOR_TYPE]-(c)\n",
    "        RETURN properties(s) AS Study,\n",
    "                properties(c) AS Disease\n",
    "    \"\"\"\n",
    "    result = execute_query(query)\n",
    "    if len(result) > 1:\n",
    "        print(f'{study_id} has {len(result)} subjects possible')\n",
    "    \n",
    "    try: # TODO: This id should be normalizer_id not disease_normalizer_id. Will likely need to redo analysis, db IDs != normalizer IDs\n",
    "        disease = result[0]['Disease']['broken on purpose']\n",
    "    except: # TODO: This is gross, handle it better\n",
    "        try:\n",
    "            disease = result[0]['Disease']['label']\n",
    "        except:\n",
    "            disease = result[0]['Disease']['id']\n",
    "    return(disease)"
   ]
  },
  {
   "cell_type": "code",
   "execution_count": 37,
   "metadata": {},
   "outputs": [
    {
     "data": {
      "text/html": [
       "<div>\n",
       "<style scoped>\n",
       "    .dataframe tbody tr th:only-of-type {\n",
       "        vertical-align: middle;\n",
       "    }\n",
       "\n",
       "    .dataframe tbody tr th {\n",
       "        vertical-align: top;\n",
       "    }\n",
       "\n",
       "    .dataframe thead th {\n",
       "        text-align: right;\n",
       "    }\n",
       "</style>\n",
       "<table border=\"1\" class=\"dataframe\">\n",
       "  <thead>\n",
       "    <tr style=\"text-align: right;\">\n",
       "      <th></th>\n",
       "      <th>id</th>\n",
       "      <th>studyType</th>\n",
       "      <th>propositionType</th>\n",
       "      <th>description</th>\n",
       "      <th>alleleOriginQualifier</th>\n",
       "      <th>direction</th>\n",
       "      <th>predicate</th>\n",
       "    </tr>\n",
       "  </thead>\n",
       "  <tbody>\n",
       "    <tr>\n",
       "      <th>0</th>\n",
       "      <td>civic.eid:238</td>\n",
       "      <td>Statement</td>\n",
       "      <td>VariantTherapeuticResponseProposition</td>\n",
       "      <td>The T790M mutation in EGFR has been shown to c...</td>\n",
       "      <td>somatic</td>\n",
       "      <td>supports</td>\n",
       "      <td>predictsResistanceTo</td>\n",
       "    </tr>\n",
       "    <tr>\n",
       "      <th>1</th>\n",
       "      <td>civic.eid:1409</td>\n",
       "      <td>Statement</td>\n",
       "      <td>VariantTherapeuticResponseProposition</td>\n",
       "      <td>Phase 3 randomized clinical trial comparing ve...</td>\n",
       "      <td>somatic</td>\n",
       "      <td>supports</td>\n",
       "      <td>predictsSensitivityTo</td>\n",
       "    </tr>\n",
       "    <tr>\n",
       "      <th>2</th>\n",
       "      <td>civic.eid:1592</td>\n",
       "      <td>Statement</td>\n",
       "      <td>VariantTherapeuticResponseProposition</td>\n",
       "      <td>Osimertinib has been approved for the treatmen...</td>\n",
       "      <td>somatic</td>\n",
       "      <td>supports</td>\n",
       "      <td>predictsSensitivityTo</td>\n",
       "    </tr>\n",
       "    <tr>\n",
       "      <th>3</th>\n",
       "      <td>civic.eid:1867</td>\n",
       "      <td>Statement</td>\n",
       "      <td>VariantTherapeuticResponseProposition</td>\n",
       "      <td>Randomized, international, open-label, phase 3...</td>\n",
       "      <td>somatic</td>\n",
       "      <td>supports</td>\n",
       "      <td>predictsSensitivityTo</td>\n",
       "    </tr>\n",
       "    <tr>\n",
       "      <th>4</th>\n",
       "      <td>civic.eid:2994</td>\n",
       "      <td>Statement</td>\n",
       "      <td>VariantTherapeuticResponseProposition</td>\n",
       "      <td>On May 14, 2013, the U.S. Food and Drug Admini...</td>\n",
       "      <td>somatic</td>\n",
       "      <td>supports</td>\n",
       "      <td>predictsSensitivityTo</td>\n",
       "    </tr>\n",
       "  </tbody>\n",
       "</table>\n",
       "</div>"
      ],
      "text/plain": [
       "               id  studyType                        propositionType  \\\n",
       "0   civic.eid:238  Statement  VariantTherapeuticResponseProposition   \n",
       "1  civic.eid:1409  Statement  VariantTherapeuticResponseProposition   \n",
       "2  civic.eid:1592  Statement  VariantTherapeuticResponseProposition   \n",
       "3  civic.eid:1867  Statement  VariantTherapeuticResponseProposition   \n",
       "4  civic.eid:2994  Statement  VariantTherapeuticResponseProposition   \n",
       "\n",
       "                                         description alleleOriginQualifier  \\\n",
       "0  The T790M mutation in EGFR has been shown to c...               somatic   \n",
       "1  Phase 3 randomized clinical trial comparing ve...               somatic   \n",
       "2  Osimertinib has been approved for the treatmen...               somatic   \n",
       "3  Randomized, international, open-label, phase 3...               somatic   \n",
       "4  On May 14, 2013, the U.S. Food and Drug Admini...               somatic   \n",
       "\n",
       "  direction              predicate  \n",
       "0  supports   predictsResistanceTo  \n",
       "1  supports  predictsSensitivityTo  \n",
       "2  supports  predictsSensitivityTo  \n",
       "3  supports  predictsSensitivityTo  \n",
       "4  supports  predictsSensitivityTo  "
      ]
     },
     "execution_count": 37,
     "metadata": {},
     "output_type": "execute_result"
    }
   ],
   "source": [
    "# Queries\n",
    "q_all_statements = \"\"\"MATCH (s:StudyStatement)\n",
    "    RETURN properties(s) AS Study\n",
    "\"\"\"\n",
    "\n",
    "# Run Query\n",
    "result = execute_query(q_all_statements)\n",
    "\n",
    "data = []\n",
    "for record in result:\n",
    "    study = record.get('Study', {})\n",
    "    row = {\n",
    "        'id': study.get('id', None),\n",
    "        'studyType': study.get('type',None),\n",
    "        'propositionType': study.get('propositionType',None),\n",
    "        'description': study.get('description', None),\n",
    "        'alleleOriginQualifier': study.get('alleleOriginQualifier',None),\n",
    "        'direction': study.get('direction',None),\n",
    "        'predicate': study.get('predicate', None)\n",
    "    }\n",
    "    data.append(row)\n",
    "\n",
    "metakb_df = pd.DataFrame(data)\n",
    "metakb_df[0:5]\n"
   ]
  },
  {
   "cell_type": "markdown",
   "metadata": {},
   "source": [
    "### Variant Therapeutic Response Proposition\n"
   ]
  },
  {
   "cell_type": "code",
   "execution_count": 79,
   "metadata": {},
   "outputs": [
    {
     "name": "stdout",
     "output_type": "stream",
     "text": [
      "Studies found: 1099\n",
      "1099\n"
     ]
    },
    {
     "data": {
      "text/html": [
       "<div>\n",
       "<style scoped>\n",
       "    .dataframe tbody tr th:only-of-type {\n",
       "        vertical-align: middle;\n",
       "    }\n",
       "\n",
       "    .dataframe tbody tr th {\n",
       "        vertical-align: top;\n",
       "    }\n",
       "\n",
       "    .dataframe thead th {\n",
       "        text-align: right;\n",
       "    }\n",
       "</style>\n",
       "<table border=\"1\" class=\"dataframe\">\n",
       "  <thead>\n",
       "    <tr style=\"text-align: right;\">\n",
       "      <th></th>\n",
       "      <th>id</th>\n",
       "      <th>studyType</th>\n",
       "      <th>propositionType</th>\n",
       "      <th>description</th>\n",
       "      <th>alleleOriginQualifier</th>\n",
       "      <th>direction</th>\n",
       "      <th>predicate</th>\n",
       "      <th>Variant</th>\n",
       "      <th>Disease</th>\n",
       "      <th>Therapeutic</th>\n",
       "      <th>Disease ID</th>\n",
       "      <th>source</th>\n",
       "      <th>statement</th>\n",
       "      <th>statement_no_ther_or_gene</th>\n",
       "    </tr>\n",
       "  </thead>\n",
       "  <tbody>\n",
       "    <tr>\n",
       "      <th>0</th>\n",
       "      <td>civic.eid:238</td>\n",
       "      <td>Statement</td>\n",
       "      <td>VariantTherapeuticResponseProposition</td>\n",
       "      <td>The T790M mutation in EGFR has been shown to c...</td>\n",
       "      <td>somatic</td>\n",
       "      <td>supports</td>\n",
       "      <td>predictsResistanceTo</td>\n",
       "      <td>ga4gh:VA.sMA9h8fzDi0RvweMlxtD0_Oi8B-JZ1V-</td>\n",
       "      <td>Lung Non-small Cell Carcinoma</td>\n",
       "      <td>337525</td>\n",
       "      <td>normalize.disease.ncit:C2926</td>\n",
       "      <td>civic</td>\n",
       "      <td>(ga4gh:VA.sMA9h8fzDi0RvweMlxtD0_Oi8B-JZ1V-, pr...</td>\n",
       "      <td>(normalize.disease.ncit:C2926, ga4gh:VA.sMA9h8...</td>\n",
       "    </tr>\n",
       "    <tr>\n",
       "      <th>1</th>\n",
       "      <td>civic.eid:1409</td>\n",
       "      <td>Statement</td>\n",
       "      <td>VariantTherapeuticResponseProposition</td>\n",
       "      <td>Phase 3 randomized clinical trial comparing ve...</td>\n",
       "      <td>somatic</td>\n",
       "      <td>supports</td>\n",
       "      <td>predictsSensitivityTo</td>\n",
       "      <td>ga4gh:VA.j4XnsLZcdzDIYa5pvvXM7t1wn9OITr0L</td>\n",
       "      <td>Skin Melanoma</td>\n",
       "      <td>1147220</td>\n",
       "      <td>normalize.disease.ncit:C3510</td>\n",
       "      <td>civic</td>\n",
       "      <td>(ga4gh:VA.j4XnsLZcdzDIYa5pvvXM7t1wn9OITr0L, pr...</td>\n",
       "      <td>(normalize.disease.ncit:C3510, ga4gh:VA.j4XnsL...</td>\n",
       "    </tr>\n",
       "    <tr>\n",
       "      <th>2</th>\n",
       "      <td>civic.eid:1592</td>\n",
       "      <td>Statement</td>\n",
       "      <td>VariantTherapeuticResponseProposition</td>\n",
       "      <td>Osimertinib has been approved for the treatmen...</td>\n",
       "      <td>somatic</td>\n",
       "      <td>supports</td>\n",
       "      <td>predictsSensitivityTo</td>\n",
       "      <td>ga4gh:VA.sMA9h8fzDi0RvweMlxtD0_Oi8B-JZ1V-</td>\n",
       "      <td>Lung Non-small Cell Carcinoma</td>\n",
       "      <td>1721560</td>\n",
       "      <td>normalize.disease.ncit:C2926</td>\n",
       "      <td>civic</td>\n",
       "      <td>(ga4gh:VA.sMA9h8fzDi0RvweMlxtD0_Oi8B-JZ1V-, pr...</td>\n",
       "      <td>(normalize.disease.ncit:C2926, ga4gh:VA.sMA9h8...</td>\n",
       "    </tr>\n",
       "    <tr>\n",
       "      <th>3</th>\n",
       "      <td>civic.eid:1867</td>\n",
       "      <td>Statement</td>\n",
       "      <td>VariantTherapeuticResponseProposition</td>\n",
       "      <td>Randomized, international, open-label, phase 3...</td>\n",
       "      <td>somatic</td>\n",
       "      <td>supports</td>\n",
       "      <td>predictsSensitivityTo</td>\n",
       "      <td>ga4gh:VA.sMA9h8fzDi0RvweMlxtD0_Oi8B-JZ1V-</td>\n",
       "      <td>Lung Non-small Cell Carcinoma</td>\n",
       "      <td>1721560</td>\n",
       "      <td>normalize.disease.ncit:C2926</td>\n",
       "      <td>civic</td>\n",
       "      <td>(ga4gh:VA.sMA9h8fzDi0RvweMlxtD0_Oi8B-JZ1V-, pr...</td>\n",
       "      <td>(normalize.disease.ncit:C2926, ga4gh:VA.sMA9h8...</td>\n",
       "    </tr>\n",
       "    <tr>\n",
       "      <th>4</th>\n",
       "      <td>civic.eid:2994</td>\n",
       "      <td>Statement</td>\n",
       "      <td>VariantTherapeuticResponseProposition</td>\n",
       "      <td>On May 14, 2013, the U.S. Food and Drug Admini...</td>\n",
       "      <td>somatic</td>\n",
       "      <td>supports</td>\n",
       "      <td>predictsSensitivityTo</td>\n",
       "      <td>ga4gh:VA.S41CcMJT2bcd8R4-qXZWH1PoHWNtG2PZ</td>\n",
       "      <td>Lung Non-small Cell Carcinoma</td>\n",
       "      <td>337525</td>\n",
       "      <td>normalize.disease.ncit:C2926</td>\n",
       "      <td>civic</td>\n",
       "      <td>(ga4gh:VA.S41CcMJT2bcd8R4-qXZWH1PoHWNtG2PZ, pr...</td>\n",
       "      <td>(normalize.disease.ncit:C2926, ga4gh:VA.S41CcM...</td>\n",
       "    </tr>\n",
       "  </tbody>\n",
       "</table>\n",
       "</div>"
      ],
      "text/plain": [
       "               id  studyType                        propositionType  \\\n",
       "0   civic.eid:238  Statement  VariantTherapeuticResponseProposition   \n",
       "1  civic.eid:1409  Statement  VariantTherapeuticResponseProposition   \n",
       "2  civic.eid:1592  Statement  VariantTherapeuticResponseProposition   \n",
       "3  civic.eid:1867  Statement  VariantTherapeuticResponseProposition   \n",
       "4  civic.eid:2994  Statement  VariantTherapeuticResponseProposition   \n",
       "\n",
       "                                         description alleleOriginQualifier  \\\n",
       "0  The T790M mutation in EGFR has been shown to c...               somatic   \n",
       "1  Phase 3 randomized clinical trial comparing ve...               somatic   \n",
       "2  Osimertinib has been approved for the treatmen...               somatic   \n",
       "3  Randomized, international, open-label, phase 3...               somatic   \n",
       "4  On May 14, 2013, the U.S. Food and Drug Admini...               somatic   \n",
       "\n",
       "  direction              predicate                                    Variant  \\\n",
       "0  supports   predictsResistanceTo  ga4gh:VA.sMA9h8fzDi0RvweMlxtD0_Oi8B-JZ1V-   \n",
       "1  supports  predictsSensitivityTo  ga4gh:VA.j4XnsLZcdzDIYa5pvvXM7t1wn9OITr0L   \n",
       "2  supports  predictsSensitivityTo  ga4gh:VA.sMA9h8fzDi0RvweMlxtD0_Oi8B-JZ1V-   \n",
       "3  supports  predictsSensitivityTo  ga4gh:VA.sMA9h8fzDi0RvweMlxtD0_Oi8B-JZ1V-   \n",
       "4  supports  predictsSensitivityTo  ga4gh:VA.S41CcMJT2bcd8R4-qXZWH1PoHWNtG2PZ   \n",
       "\n",
       "                         Disease Therapeutic                    Disease ID  \\\n",
       "0  Lung Non-small Cell Carcinoma      337525  normalize.disease.ncit:C2926   \n",
       "1                  Skin Melanoma     1147220  normalize.disease.ncit:C3510   \n",
       "2  Lung Non-small Cell Carcinoma     1721560  normalize.disease.ncit:C2926   \n",
       "3  Lung Non-small Cell Carcinoma     1721560  normalize.disease.ncit:C2926   \n",
       "4  Lung Non-small Cell Carcinoma      337525  normalize.disease.ncit:C2926   \n",
       "\n",
       "  source                                          statement  \\\n",
       "0  civic  (ga4gh:VA.sMA9h8fzDi0RvweMlxtD0_Oi8B-JZ1V-, pr...   \n",
       "1  civic  (ga4gh:VA.j4XnsLZcdzDIYa5pvvXM7t1wn9OITr0L, pr...   \n",
       "2  civic  (ga4gh:VA.sMA9h8fzDi0RvweMlxtD0_Oi8B-JZ1V-, pr...   \n",
       "3  civic  (ga4gh:VA.sMA9h8fzDi0RvweMlxtD0_Oi8B-JZ1V-, pr...   \n",
       "4  civic  (ga4gh:VA.S41CcMJT2bcd8R4-qXZWH1PoHWNtG2PZ, pr...   \n",
       "\n",
       "                           statement_no_ther_or_gene  \n",
       "0  (normalize.disease.ncit:C2926, ga4gh:VA.sMA9h8...  \n",
       "1  (normalize.disease.ncit:C3510, ga4gh:VA.j4XnsL...  \n",
       "2  (normalize.disease.ncit:C2926, ga4gh:VA.sMA9h8...  \n",
       "3  (normalize.disease.ncit:C2926, ga4gh:VA.sMA9h8...  \n",
       "4  (normalize.disease.ncit:C2926, ga4gh:VA.S41CcM...  "
      ]
     },
     "execution_count": 79,
     "metadata": {},
     "output_type": "execute_result"
    }
   ],
   "source": [
    "data = metakb_df[metakb_df['propositionType']=='VariantTherapeuticResponseProposition'].reset_index(drop=True)\n",
    "print(f'Studies found: {len(data)}')\n",
    "\n",
    "data[['Variant','Disease','Therapeutic']] = None \n",
    "data['Variant'] = data['id'].apply(grab_subject_variant)\n",
    "data['Disease'] = data['id'].apply(grab_qualifier_disease)\n",
    "data['Disease ID'] = data['Disease'].apply(normalize_disease)\n",
    "data['Therapeutic'] = data['id'].apply(grab_object_therapeutic)\n",
    "data['source'] = data['id'].apply(lambda x: x.split('.')[0])\n",
    "data['statement'] = data.apply(lambda row: (row['Variant'], row['predicate'], row['Therapeutic'], row['Disease ID']), axis=1)\n",
    "data['statement_no_ther_or_gene'] = data.apply(lambda row: (row['Disease ID'], row['Variant']), axis=1)\n",
    "print(len(data))\n",
    "\n",
    "data[0:5]"
   ]
  },
  {
   "cell_type": "code",
   "execution_count": null,
   "metadata": {},
   "outputs": [],
   "source": [
    "def create_statements(row):\n",
    "    # Extract the lists from the row\n",
    "    diseases = row['disease_concept_id']\n",
    "    genes = row['gene_concept_id']\n",
    "    variations = row['variation_concept_id']\n",
    "    \n",
    "    # Generate all possible combinations if all lists are non-empty\n",
    "    if diseases and genes and variations:\n",
    "        # return list(product(diseases, genes, variations)) TODO: Genes ever included in metakb evidence statements?\n",
    "        return list(product(diseases, variations))\n",
    "    else:\n",
    "        return []\n",
    "    \n",
    "analysis_df['ther_response_statements'] = analysis_df.apply(create_statements, axis=1)"
   ]
  },
  {
   "cell_type": "code",
   "execution_count": 86,
   "metadata": {},
   "outputs": [],
   "source": [
    "# Assess number of interpretations \n",
    "analysis_df['ther_response_interp_counts'] = 'Not Assessed'\n",
    "for idx, row in analysis_df.iterrows():\n",
    "    interp_counts = []\n",
    "    for statement in row['ther_response_statements']:\n",
    "        subset = data[data['statement_no_ther_or_gene']==statement]\n",
    "        interp_counts.append(len(subset))\n",
    "    analysis_df.at[idx, 'ther_response_interp_counts'] = interp_counts\n",
    "\n",
    "analysis_df['#_ther_response_interps'] = analysis_df['ther_response_interp_counts'].apply(lambda x: sum(x))"
   ]
  },
  {
   "cell_type": "code",
   "execution_count": 83,
   "metadata": {},
   "outputs": [
    {
     "data": {
      "text/plain": [
       "178800"
      ]
     },
     "execution_count": 83,
     "metadata": {},
     "output_type": "execute_result"
    }
   ],
   "source": [
    "len(analysis_df)"
   ]
  },
  {
   "cell_type": "code",
   "execution_count": 87,
   "metadata": {},
   "outputs": [
    {
     "data": {
      "text/html": [
       "<div>\n",
       "<style scoped>\n",
       "    .dataframe tbody tr th:only-of-type {\n",
       "        vertical-align: middle;\n",
       "    }\n",
       "\n",
       "    .dataframe tbody tr th {\n",
       "        vertical-align: top;\n",
       "    }\n",
       "\n",
       "    .dataframe thead th {\n",
       "        text-align: right;\n",
       "    }\n",
       "</style>\n",
       "<table border=\"1\" class=\"dataframe\">\n",
       "  <thead>\n",
       "    <tr style=\"text-align: right;\">\n",
       "      <th></th>\n",
       "      <th>disease_concept_id</th>\n",
       "      <th>gene_concept_id</th>\n",
       "      <th>var_norm_query</th>\n",
       "      <th>variation_concept_id</th>\n",
       "      <th>ther_response_statements</th>\n",
       "      <th>ther_response_interp_counts</th>\n",
       "      <th>#_ther_response_interps</th>\n",
       "    </tr>\n",
       "    <tr>\n",
       "      <th>PATIENT_ID</th>\n",
       "      <th></th>\n",
       "      <th></th>\n",
       "      <th></th>\n",
       "      <th></th>\n",
       "      <th></th>\n",
       "      <th></th>\n",
       "      <th></th>\n",
       "    </tr>\n",
       "  </thead>\n",
       "  <tbody>\n",
       "    <tr>\n",
       "      <th>GENIE-CHOP-C1002819</th>\n",
       "      <td>[]</td>\n",
       "      <td>[normalize.gene.hgnc:6075, normalize.gene.hgnc...</td>\n",
       "      <td>[INPP4B P572R, ARID2 S989L, ARAF S172L]</td>\n",
       "      <td>[ga4gh:VA.cpPxlgVD0QOz1zvk_84ZHBUI7IYE_00h, ga...</td>\n",
       "      <td>[]</td>\n",
       "      <td>[]</td>\n",
       "      <td>0</td>\n",
       "    </tr>\n",
       "    <tr>\n",
       "      <th>GENIE-CHOP-C1002942</th>\n",
       "      <td>[normalize.disease.ncit:C3161]</td>\n",
       "      <td>[normalize.gene.hgnc:1787, normalize.gene.hgnc...</td>\n",
       "      <td>[CDKN2A R80*, FLT3 D600del]</td>\n",
       "      <td>[ga4gh:VA.wrKO0LoBmRv1zWHRPksfj6FnG0uf5QU0, ga...</td>\n",
       "      <td>[(normalize.disease.ncit:C3161, ga4gh:VA.wrKO0...</td>\n",
       "      <td>[0, 0]</td>\n",
       "      <td>0</td>\n",
       "    </tr>\n",
       "    <tr>\n",
       "      <th>GENIE-CHOP-C1003065</th>\n",
       "      <td>[normalize.disease.ncit:C3264]</td>\n",
       "      <td>[normalize.gene.hgnc:12363, normalize.gene.hgn...</td>\n",
       "      <td>[TSC2 V299Tfs*56, BRIP1 A551E, EP300 P873A]</td>\n",
       "      <td>[ga4gh:VA.baThgMy_ByqclJ6NnbPH9wMuSv6LdMUI, ga...</td>\n",
       "      <td>[(normalize.disease.ncit:C3264, ga4gh:VA.baThg...</td>\n",
       "      <td>[0, 0]</td>\n",
       "      <td>0</td>\n",
       "    </tr>\n",
       "    <tr>\n",
       "      <th>GENIE-CHOP-C1003188</th>\n",
       "      <td>[normalize.disease.ncit:C3264]</td>\n",
       "      <td>[normalize.gene.hgnc:3942, normalize.gene.hgnc...</td>\n",
       "      <td>[MTOR Q1492R, MUTYH I220V, MSH6 K854M, XPO1 R4...</td>\n",
       "      <td>[ga4gh:VA.IAC5UiVyvpQuGjtELYfnnIL9BKnlsVd_, ga...</td>\n",
       "      <td>[(normalize.disease.ncit:C3264, ga4gh:VA.IAC5U...</td>\n",
       "      <td>[0, 0, 0, 0, 0, 0, 0, 0, 0]</td>\n",
       "      <td>0</td>\n",
       "    </tr>\n",
       "    <tr>\n",
       "      <th>GENIE-CHOP-C1003434</th>\n",
       "      <td>[normalize.disease.ncit:C3059]</td>\n",
       "      <td>[normalize.gene.hgnc:952, normalize.gene.hgnc:...</td>\n",
       "      <td>[BARD1 T598N, MET V919I, BRAF V600E, BRCA2 A19...</td>\n",
       "      <td>[ga4gh:VA.uIoCtTobAQxL2ux7fhTIaKYjQAmempA1, ga...</td>\n",
       "      <td>[(normalize.disease.ncit:C3059, ga4gh:VA.uIoCt...</td>\n",
       "      <td>[0, 0, 1]</td>\n",
       "      <td>1</td>\n",
       "    </tr>\n",
       "  </tbody>\n",
       "</table>\n",
       "</div>"
      ],
      "text/plain": [
       "                                 disease_concept_id  \\\n",
       "PATIENT_ID                                            \n",
       "GENIE-CHOP-C1002819                              []   \n",
       "GENIE-CHOP-C1002942  [normalize.disease.ncit:C3161]   \n",
       "GENIE-CHOP-C1003065  [normalize.disease.ncit:C3264]   \n",
       "GENIE-CHOP-C1003188  [normalize.disease.ncit:C3264]   \n",
       "GENIE-CHOP-C1003434  [normalize.disease.ncit:C3059]   \n",
       "\n",
       "                                                       gene_concept_id  \\\n",
       "PATIENT_ID                                                               \n",
       "GENIE-CHOP-C1002819  [normalize.gene.hgnc:6075, normalize.gene.hgnc...   \n",
       "GENIE-CHOP-C1002942  [normalize.gene.hgnc:1787, normalize.gene.hgnc...   \n",
       "GENIE-CHOP-C1003065  [normalize.gene.hgnc:12363, normalize.gene.hgn...   \n",
       "GENIE-CHOP-C1003188  [normalize.gene.hgnc:3942, normalize.gene.hgnc...   \n",
       "GENIE-CHOP-C1003434  [normalize.gene.hgnc:952, normalize.gene.hgnc:...   \n",
       "\n",
       "                                                        var_norm_query  \\\n",
       "PATIENT_ID                                                               \n",
       "GENIE-CHOP-C1002819            [INPP4B P572R, ARID2 S989L, ARAF S172L]   \n",
       "GENIE-CHOP-C1002942                        [CDKN2A R80*, FLT3 D600del]   \n",
       "GENIE-CHOP-C1003065        [TSC2 V299Tfs*56, BRIP1 A551E, EP300 P873A]   \n",
       "GENIE-CHOP-C1003188  [MTOR Q1492R, MUTYH I220V, MSH6 K854M, XPO1 R4...   \n",
       "GENIE-CHOP-C1003434  [BARD1 T598N, MET V919I, BRAF V600E, BRCA2 A19...   \n",
       "\n",
       "                                                  variation_concept_id  \\\n",
       "PATIENT_ID                                                               \n",
       "GENIE-CHOP-C1002819  [ga4gh:VA.cpPxlgVD0QOz1zvk_84ZHBUI7IYE_00h, ga...   \n",
       "GENIE-CHOP-C1002942  [ga4gh:VA.wrKO0LoBmRv1zWHRPksfj6FnG0uf5QU0, ga...   \n",
       "GENIE-CHOP-C1003065  [ga4gh:VA.baThgMy_ByqclJ6NnbPH9wMuSv6LdMUI, ga...   \n",
       "GENIE-CHOP-C1003188  [ga4gh:VA.IAC5UiVyvpQuGjtELYfnnIL9BKnlsVd_, ga...   \n",
       "GENIE-CHOP-C1003434  [ga4gh:VA.uIoCtTobAQxL2ux7fhTIaKYjQAmempA1, ga...   \n",
       "\n",
       "                                              ther_response_statements  \\\n",
       "PATIENT_ID                                                               \n",
       "GENIE-CHOP-C1002819                                                 []   \n",
       "GENIE-CHOP-C1002942  [(normalize.disease.ncit:C3161, ga4gh:VA.wrKO0...   \n",
       "GENIE-CHOP-C1003065  [(normalize.disease.ncit:C3264, ga4gh:VA.baThg...   \n",
       "GENIE-CHOP-C1003188  [(normalize.disease.ncit:C3264, ga4gh:VA.IAC5U...   \n",
       "GENIE-CHOP-C1003434  [(normalize.disease.ncit:C3059, ga4gh:VA.uIoCt...   \n",
       "\n",
       "                     ther_response_interp_counts  #_ther_response_interps  \n",
       "PATIENT_ID                                                                 \n",
       "GENIE-CHOP-C1002819                           []                        0  \n",
       "GENIE-CHOP-C1002942                       [0, 0]                        0  \n",
       "GENIE-CHOP-C1003065                       [0, 0]                        0  \n",
       "GENIE-CHOP-C1003188  [0, 0, 0, 0, 0, 0, 0, 0, 0]                        0  \n",
       "GENIE-CHOP-C1003434                    [0, 0, 1]                        1  "
      ]
     },
     "execution_count": 87,
     "metadata": {},
     "output_type": "execute_result"
    }
   ],
   "source": [
    "analysis_df[0:5]"
   ]
  },
  {
   "cell_type": "code",
   "execution_count": 99,
   "metadata": {},
   "outputs": [
    {
     "data": {
      "application/vnd.plotly.v1+json": {
       "config": {
        "plotlyServerURL": "https://plot.ly"
       },
       "data": [
        {
         "bingroup": "x",
         "hovertemplate": "Number of Interpretations=%{x}<br>count=%{y}<extra></extra>",
         "legendgroup": "",
         "marker": {
          "color": "#636EFA",
          "line": {
           "color": "#333",
           "width": 0.5
          },
          "pattern": {
           "shape": ""
          }
         },
         "name": "",
         "orientation": "v",
         "showlegend": false,
         "textangle": -90,
         "textfont": {
          "size": 10
         },
         "textposition": "outside",
         "texttemplate": "%{value}",
         "type": "histogram",
         "x": {
          "bdata": "AAAAAAEAAQEAAQAAAQAAAAAAAQAAAAAAAAAAAAEAAQAAAAEAAAABAAAAAAABAAAAAAAAAAEAAAAAAAAAAQAAAAABAQAAAAAAAAAAAAAAAAAAAAAAAAABAAAAAAABAAAAAAAAAAAAAAAAAAAAAAAAAQABAAAAAAAAAAAAAAAAAAAAAAAAAAEAAAAAAAAAAAAAAAAAAQEAAAAAAAAAAAEAAAAAAAAAAAAAAAABAAAAAAAAAAABAAAAAAAAAAAAAAAAAAAAAAABAAAAAAAAAAAAAAAAAAAAAAAAAAAAAAAAAAAAAAAAAAAAAAAAAAAAAAABAAAAAAAAAAAAAAAAAAAAAAAAAAAAAAAAAAAAAAAAAAAAAAAAAAAAAAEAAAAAAAAAAAAAAAAAAQAAAAAAAAAAAAAAAQEAAAAAAAAAAAABAAAAAAAAAAAAAAAAAAAAAAAAAQAAAAABAAAAAAAAAAAAAQAAAAAAAAAAAAAAAAABAAAAAAAAAAAAAAABAAAAAAAAAAABAAEAAAAAAAAAAAAAAAAAAAAAAAAAAAAAAAEAAQAAAAAAAAAAAQAAAAAAAAAiAQAAAAAAAAAAAAAAAAAAAQEAAAAAAAAAAAAAAAAAAAABAAAAAAAAAAAAAAAAAQAAAAAAAAAAAAAAAAAAAAAAAAAAAAAAAAAAAAAAAAAAAAAAAAAAAAAAAAAAAAAAAAAAAAAAAAAAAAAAAQABAAAAAAAAAAAAAQAAAAAAAAABAAAAAAAAAAAAAAAAAAAAAAAAAQAAAAAAAAAAAAABAAAAAAAAAAAAAAAAAAAAAQAAAAEAAAAAAAAAAAAAAAAAAAAAAAAAAAAAAAAAAAAAAAAAAAAAAAAAAAAAAAABAAAAAAAAAAAAAAAAAAABAAAAAAAAAAAAAQAAAAAAAAAAAAABAQAAAAAAAAAAAAEAAAAAAAAAAAAAAAAAAAAAAAAAAAAAAAEAAQAAAAAAAAAAAAEAAAAAAAEBAAEAAAAAAAAAAAAAAAAAAAAAAAAAAAAAAAAAAAAAAAAAAAAAAAAAAAAAAAAAAAAAAAAAAAABAAAAAAAAAAAAAAAAAQAAAAAAAAAAAAAAAAAAAAAAAAAAAAAAAAAAAQAAAAAAAAAAAAEAAAAAAAAAAAAAAAAAAAEAAAABAAAAAQAAAAABAAAAAAABAAAAAAAAAAABAAAAAAAAAAABAAAAAAEAAAAAAAAAAAAAAQAAAAAAAAAAAAAAAAAAAAABAAABAAAAAAAAAAAAAAAAAAAAAAABAAAAAAAAAAAAAAAAAAEAAAAAAQAAAAAAAAEAAAABAAEAAAAAAAEAAAAAAAAAAAAAAAAAAAABAAAAAAAAAAEBAAAAAAAAAAAAAAAAAQAAAAABAAAAAAAAAAAAAAAAAAAAAAAAAAAAAAAAAAAAAAAAAAAAAAAAAAAAAAAAAAAAAAAAAAAAAAAAIgAAAAAAAAAAAAAAAAAAAAAAAAAAAAIAAAAAAAAAAAkAAAAAAwAHAAAAAAAAAAABAAAAAAAAAAAAAAAAAAAAAAAAAAAAAAAAAAAAAAAAAAAAAAAAAAAAAAAAAAAAAAAAAAAAAAAAAAAAAAAAAAAAAAAAAAAAAAwAAAAAAAAAAAAABwAAAAAAAAABAAAAAAAAAAAAAAABAAAAAAAABQAAIgcCACUACRoFAAAAASQFBQICAAACAwUAGgEBAAAiAQAiBQcQAQAaDQgCAAcAAAAFJBoCAQcDBwACBQICAQIAAgoBGgUFAgACAwAAAAUCAAACAAMABwAAABoBAgAHAAoAAAcFAAAAABokAAAFJQAdBQAMAAAAAAAABwAAAAAAAAEAAAAAAAAAAAAAAAAAAAAAAAAAAAAAAAAAAgAAAAAAAAAAAQAAAAAAAgAIBAAADQAAAAAAJBoAJAAAAAANAAIaBQACBQAACAAAJAAAACQABgAAIgADAAIAAAAAAQAABwAAAgIHAAABBSQNAA0kAAcaAAAAAgAAAAECAAAHAgAAAAAAAw0AAAACAAASAgAdAAAaAAAAAAAAAgcFAgcAAAAAAAEaABoCAAAAAwAADwANJAEAAAAAAgAAAgcBAAAFAAoAJBQiAAACAAUFBQAABAcAAAAHAAABAAgADQAAAQACACIAAAcAAAMAAAAABQAABQ0AAAIHAAAAAAAAAAUCAgUCAAAAAAAAAAAAAAEBAAAAAAAAAA0AAAAAAQMAAAAAAxAAAAIAAA0AAAIAAAMAAAUAAAAABwAAGgAKAwAFAAAADgAAAAckAiQBAAUAAAAFJAAFBwAAAAwAAAAFJQAiAAAAGgABIgAABwAABwAAAgIAByQAIgAAAAAAAAUCDgAiAgAAAAAAAAAaAAAAAAAAAAAAAAAAAAAAAAcHAAACARoAACQGAAAAAAAAAAAAGgAKAwAdBQAAAAAiAwEHAAIAAAAAAAAEBwAkAAABHwAAAAIAAAAAAAAAAQcAACQCAAAAAAEfAAAAAwAkAAIAAAABAgcAACIAAAAAAAAAAAIAAAIFAiQAAAIAAgUAJAUCAAAHJAIAAAAAAAAAAAAAAAAAACUFAAcFAwcAAAYABQUADRoaAAAAACQHAAAAAAAAAAANAAAAAAAAAAUAAAAHGgAAAAAAAAIGAgIkAAQAGhoAAAAFAAAAAAAAAAAAAAAAAAACAAAAAAIkAQAAAAMAAAAAAAAHAAAABwAkAAAAAAUAAAAAAAACGgAAAAAAABkAAQBIAgAAAAAAJAABJCYHAAAAAAAAAgACAAAAAAAABwEABxoCGgADBwAAAgAAAAAFAgAAJQAAAAAAAwwAAAAFAwAAAiQrAAAdAAAAAAAHAAIAAAYHIgAAAAAFAAAAAAEAAAAFByQAAR0ABQAHAAACAgQABQAABQkIAAEAAAAAAAAECQACAgANAAcAAAAAEAAiCAAAAAIABQAAGgAAAAAAAAMAGgUFAgAHAAAAAAAAAAAAAQcCAAAAAAAAAAAAAAAAAQAAAAAAAAIAAAAAAA0AAAAAACJHJAAAAAAAAAAFBwAKGgAKBwAAAAAABwMAAwAAAQAHAAAAGgEBAQAAAAAAAAAHAAAABwAAABoAAAAAAQAAAAAAAAAAAAAAAAAAAAAAAAAAAAAAAAAAAAAAAAEAAAAAAAAAAAAAAAAAAAAAACQAAAEAAAAAAAAGBwAAAAAAAAAMAAAkGgAAAAAAAAAAAAAAAAAAAAAiABsAAAANFAAAAwAABwAAAAAAAAAAAAAAAAABBQIABQAHAAAAAAEHAAAHAgAABwAAJAAABwAAAAAAJAYHACQFAAAAAAAAAAAHAAAAAAABAAAAAAQFAgAAAA4AGwAABwACAAAAAAAABQAAAAAAJBQNCgEAAAAAAA0kAAAAAAYABQAAAAIGABoAAAIOAA0AAAAAAAAAAAAAAAAiAAABBgEAAAAAAAACEAACDQcNAAAaAAUAAAAFBgEMACQBACQAAAAKAAcAABoAAAYAABoAAAAkIgAAAAAAACQAAAACBQAAAAcBAAIAAAAAAAAAAAAFAAAAAAAAAAAZBQACDQIPAAAAAAAAAgAMAAMAAgAAAgAAAAAIAAAAAAAiAAwiAgAAAAAAAAAJIgAAAAAABwAAAQAAAEcAAAAHAAACAAEAAAACAAAAAAIAJAAAABwAAwAAAAcAAQAkGgAEHwsFAAAAAAcAGgcAByIAAA0AAAAACQcAAAAFAgADAAwAAAEkBgAAAAEAAAAAAAMAJAAAAiQADAACBQAAAAAAAgAAAAMAAAAAAQAAAAAHAAAAAAAAAAAAJAAADQAAJAAAAiQAAAAAJAINBwUCACQVAAAMBQAAAAAAJAAABQAAABoAAAcCBwACAAAAAAAABgEAAwAABwAABQcABQAFAAAAAAAAAAAAAAAABwAAAAEAAAABAAAAAAIKAAAAAgAHABoABwAAJAAAAAACAAcAAAAAAAAHAAACAAAiAgAAAAUAAAAAAAEABwUAAgUAAAECAAcAAAADAAAAAgABBwAAAQAAGgcAGgACBQAAAAAAAAAAAAcBAAAABQABGgUPAEgCAAAFAAADAAAAAAIAAAUAAEcAAAUAAAAHAAAABwAAACQAAgcAAAABAAAAAAAFACQAAQIAAAAAGgECAAUAACQAAAUAAAAAAAEABQAAAAAABgcBAQcAAAAAAAAIAAIFAAAOAAcNAAAAJAUaAAUCAAAFAAAAAAAAAAAMAA0AAAAAAAAAAAAAAAAkCCQHBQAIAAAAAAgHAAMCAAcGBAAAAQAAAgAAAAICGgAAGgAAAAAAAAAAAAIAAQADAAAAAAAAAAAAAAAAAAIAAAAEAAAOAQUAAAMABAACBAAAAAACAAAAAAAAAAAHAAQAAAAFAAABAAAHAAAAAAAAAAABAgAMAAUAAAAABwEABwIAAAAAAAAAAAAAAAAAAwIAACQAAgAAAwAAAAUAAAACAAAAAAMCACQHAQYAAAAHAAAAAQAABQUAAAAAAAEHACAAAQACAAEHAAAADRoaBwMAAAAAAAAADQoAIgcAAAAAAAcAAAAAAAAAAAAAAAAAAAADAAAAAAAAAAICAAAAAAACAgAEAggFAAcBAA0AAAAAABoAAAAABwIADAAAAAIAHwUCAAkHAAAIAAAAAAADAAAABQ0QBAMAAAcHGgAAAAIAAg0AAAAaAAABAAAAAAAaBxwAAgAAAAAAAAUcAAAAAAAABwAAAAAABwAFEAIFAQAAAAENACQFJAAAAgAAGgAaAwIkAAAAAAUAAAICAgwAAAAAAAACAQACAgAACgEAAAAAAAUABAIBBwAMCgAmAQAAAAAAAAAAAAAAAAAAAAAAAAAABSIABQEAACQAAgIAAgcCAgAAAAcAAAICBAAGAAAAIgACAAUAAAAAAgAAAQAABwAAAAIAAAAAAgAAAgAHDwUAAAAHAAEFJAASAAAAAAAAAAACAQAAAAEAAAIBAAAAARoAEAUCBwcAACQAAAAFBQAAAAAAAAIfAQAAAAYAAAAiBAACAAAAAAAAAAAAAgAaAAAAAAAAAAAAAAEAAgUAAAAABwUHJAAABwcCAAIAAgcAAAAaAAAAACICAAAIBwkARwUAAAAAGgIAAAIFAAAAJgAADQAAGgAAAAAAGgAABQcAAQAFAAAAAwAFAAAABQAAByIAAAACAAACAgIFBQAAABoAAAACABIFGgAkAgEAAAAAAw4ABwAFAAACAwAAAAAHAA0AAgUAAgcFACQAAAUADRoABSQCAgECAAAABQAAAAAAAAAAAQICABoHAAAJBQAIAAAkAgAAAAAHBgAHAAAABw0AAAIAIgIAAAIAAAAkAgAABwQBBwAARwAAAAAJAAADBwAMGgAHIyIAAAIAAAAAAAAAAAAAJAAAAAAaJAAAABoKHwAAAAAFAAAAAgIaAAAAACQfAAUCAAAAAAYAAAAAABoAGgACAgAAAAAFAAAkAAAAIhoDAQAFAAIAAQAAAAIACgMACAcFAAACAAAAAAACJAAmAQIAAAcADAAACQAGAQIAIgAACAAAAQAAAQUCAAAAAAAAGw0AAAAAAAkKCAAADwQAGgcBAgADAAAAGgEAAAUAAB8DJAACGQAABQECAAAAAAMDAgACAAAAAAAAAgAiAAADAAAAACQCABoAAAAADAICAAAAAAAABxoAAgADBw0AAAAAAAAAAwAAAAAAAAAABRoFKyIAAR8HAAAAAAAAAAEAAAUAAAAAAAEABRokAAAAAAAAAgAAAAMAJAAAAAUAAgABAAAFAAAAAAAJAAAAAAAHBwAAAAAAAAEAJAAAAAwAAAUAAAEHAAEAAgAAAAIAAAAHAAADAAEAAAAAAAACJCQAAwAAAA0AJCQCGgAABUcCAAAAAAADARoAAAkAAAACJBkAACQaAAIABwAADQADAAAAAAAAAAAAAAAAAAopAAAAAAYCAAUAACMAAAcBAAAAAgcDCg0NAAAMAAAAAAAkAAIGAAACAAAAAAABBQECAAIAAAMADgAAAwAAAAAAAAoHAAAAAA8KAAAAJAAABwkAAAAADQMAAgAAAAANAAABAAAHAB0AAAAAAAAEAAAkBAAAAgcAAAAFBSIHAAAFBQAAAAIAAAAAAAAAAAAGBw0CACQAAAAAAAAAAAAkAAAAGgAHHwAAAAEAAAUBAAAAAAAFCAAKAAAAAgIAHwAkAEcACiYAAAAAAAAAAAACAQAkAAAAAAADAAAAAAAAAAIDAwIFAAAAAAAAAAAAAAACGgAAAAcAAAAAAAEAAQACBQAHAAACAAUAAAIAAAANBQAKJAYJBwAAAgAAAAAADQAAAAAAAAAABQADAAQAAAAAAAAAAAAHAAADAAAAAAAAACQAAAAkAQAAAwAAAAAAIgACAAAAAAAAAAAAAAAAAAAAAAAAAAAAAAAAAAAAAAABAAAiIgADAC4AAAAAIgUAAgAABQACBSYAJAAAAAAAAAAFAAIkAAIAJAACACQABAAAAAICAgIAAgIFAgAkAAEAAgAkBQAABQYAJAAABSQkAgAAAAUAAAIFBQIAJAAAAAAAAgACBSQAAAUKAAAFAQAAAgAAAAAAHgcABwYAAAAAAAAAGgAaAAQABwAGAA0AAAcEAAAABgAAAgAAAAAAAAMAAAABBwAABxQAGgAADQIAAx8AAAAAAAAAAAAAAAAAAAAAAAAAAAAAAAAAAAAAAAAAAAAAAAAAAAAAAAAAAAAAAAAAAAAAAAAAAAAAAAAAAAAAAAAAAAAAAAAHAAAAAAAAAAAAAAAKBwcHDQcBAAYABgAAAAABAA0ABAcABgAHHwcABw0GAA0bAA0HGgcJGhoDDQAABwINBQAABwUHGhoaAA0DAAYcAAEABwcAAwAADQkGAAAKBwcAAAABAgAAAAAAAAAKCgAAAAAAAAAAAAAAAAAAAAAAAAAAAAAAAAAAAAAAAAAAAAAAAAAAAAAAAAAAAAEAAAAAAAAAAAAAAAAAAAAAAAAAAAAAAAAAAAAAAAAAAAAAAAABAAEAAAAAAAEAAAAAAAAAAAAAAAAAAAAAAAAAAAAAAAAAAAAAAAAAAAAAAAAAAAAAAAAAAAAAAAAAAAAAAAAAAAAAAAAAAAAAAAAAAAAAAAAAAAAAAAAAAAAAAAAAAAAAAAAAAAAFJgIAAAAAAgIkAgUAAgAABwAABQICAAICAgACAAAABQAAAAUkBQACACQAAAAAAgAAAAUAAAAAAAAAJCQFAgAABQAFAAAAAgAAAQIFAAUAAAIAAgAAACQkAAEFAgACAAACAAAAAAIAIgAAAgEiIgwCAAAiAAAAAAABACIMAAAAAAAAAAAAAgAAACQAAgAAAAAAJAMAAAACAAAAAAAAAgUCJUckBgAAACQCAAAACAAAAAAaAAcHAAQMAAEAAgAAAAAAAAACAQUHAQICAgQAAA0FAAAAAA0AAAcAAgAJJAACAAEkAAAAAAAAGgEAABoAAAACAAABAAAAAAcaAgAAJAAAAAUAAAUAAAMABQAAAAAAAAAAAgMAAAANAAAaAA0CAAACAgAABQAIAAAFAAAACgcAAAAAAAAaAAAAAgICAAANAAANAAAABQAABwAAAAACBwAAAAAFAAIGBAAAAAAAAAAAAAcAAAUFAAACIgAAAAAFBxoAAAcAAwADBwIAAAcABQAABwAADQciAAACAwUAJAAAAAAAAAAAAAABBwAAACIAAAAAAAAAAAIHJAUHAAAAAAEAAAAEAAAiAAAADQMAAAAFAAAAAAUAAAAAAAIAAgAAAAAAAAAAGgAAAAAAAAEaBgAAAAAIAAAAAgcBABoAAAgNBwAAAAAAAAAAAAIAAAAHAAAAAgUAAgADAAACAAACAgAAAAICBQAAAgIAAAIBAgAAAAIAAgEAAAAAAAIAAgMAAwMDAAIAAgACAgAAAAEAAAIAAAAAAAECAAMAAAEFAAAAAAADAAAFAAAAAwMAAAAAAAAAAAAAAAUDAAMAAAIFBQIBAAIAAAAAAAACAAAAAAMAAAIAAgADAgAAAAIAAAAAAAUAAAIFAAADAAMCAAAAAAMCAgIABQADAgAAAgAAAAAAAgAAAwIDAAIAAAAAAAAABQAAAgACAgAAAgICAgMAAAIFAgAAAAAAAAACAAACAgMAAAUAAAAAAwAAAwAAAAMCAgAAAgADAwAAAAABAAUAAAMCAAAAAAAAAAACAAUCAwAAAAAAAAMAAAMAAAAAAAEEAAAAAgEAAAIAAAAAAAUCAAAAAAMAAgMAAAACAgIAAgICAAQBAAAAAAAAAAAAAAIAAAABAAAAAAUCAAMAAgAAAgAAAAMAAAADAAECAAIAAQAAAgAAAAACAgIAAAAAAAMBAAABAAAABQAAAgIAAgAAAgAABQACAQICAwMAAQICAgACAAAAAAAAAQADAAAAAAICAAUDAAUCAAACAAMCAAIAAgADAAAAAAABAAADAAACAAIAAAAAAAIBAgAFAgAAAAIDAAACAAAAAAAAAAMAAwAAAAMAAAAAAAACAgAAAAABAAACAAAAAgICAAAAAAAAAAACAAACAgAAAAAFAAAAAAIAAAAAAgAAAAICAAAAAAMABQAFBQAABQAAAAAAAAUCAwAAAAAAAAACAAIAAAMABQAAAAAAAAUBBQAAAAAAAAICAwAFAwAAAAEAAAAFAwAAAgICAAAAAAACAAIAAAAFAAACAAMAAAAAAAAAAAICAgABAAMAAAECAAAAAAADAAAFBQADBQAAAAAAAAAAAgMAAAAAAAACAAICAgAAAAACAAMAAAAFAAAAAAIAAgAAAAIAAAAAAAMAAAAAAAEFAAAAAAAAAAADBQMAAAAAAAAAAAUAAAAAAgAAAwACAAIAAAIAAQAAAAECAAIDAAMAAAUAAAICAwAAAwIAAAIAAAEAAAICAAAAAAAFAwUCAAACAgAAAAAFAAACAAIAAAUABQAAAwAAAAIAAgAAAAAAAgACAAIAAwAAAAACAAUCAAADAgAAAAAAAAAAAAAAAAAAAAAABQIAAAAABQAAAgIAAAACAAACAAAAAAIAAgUFAgAAAAAAAgAAAgMFAgMAAAUAAgAAAAUCAgUAAAADAAAAAAAAAAAAAAAAAAAAAAAAAAIAAAMAAgACAgAAAAACAAAAAgAAAAIEAAEABQIAAgACAAIAAAACAgACAAAAAAACAgAAAAAAAgAFAAIAAAAAAAMAAAMAAwAAAAAAAgMAAgIAAwMAAgAAAgIAAAACAAACAgAAAAACAwAAAAACAgIABQAAAAAAAAMAAgAFAwAAAAIAAAAAAAMAAAIAAAAAAAAAAwAAAAAAAAACAAIAAAAAAAAAAAAAAwMAAAQAAAIAAwAAAgAAAwACAAACAAIAAwIFAAAAAAAAAAACAgICAwAAAAIAAAAIAAAAAgIAAAAAAwACAAAAAgAAAgAAAAAFAAAAAgAAAAAAAAUDAgAABAAAAAACAwAAAwADAAAAAgAFAwAABAIBAAAAAAAAAAMCAAAAAgAAAAACAAAABAAAAAMAAgAAAwAAAAAAAAIAAAMCAwAAAAAAAAIAAAACAAACAAIAAwIFAAMAAAACAAACAgACAAIDAAACAgAAAgAAAAAAAAACAAABAAAFAgMAAAACAAAAAAACAAUFAAAAAgUCAgIAAAIAAgAAAwAAAAMDAAICAAAAAgMCAAIAAAAAAgMAAAADAAAAAAAAAwMAAgABAAIAAAMAAAAAAAMCAgACAAIDBQICAAACAwACAAAAAgAAAAADAAIAAAAAAAAAAAACAAMAAAAABQUADAACAwABAAACAAICAgIAAAAAAgIBAAMCAQAAAAAAAAAAAAIAAAMABQMAAgABAAACAAAAAAICAgIAAAAFAgAAAAAAAgIAAAEAAAAABQIAAAAABQIAAgAAAAIAAAACAgAAAAACAgMCAAICBQICAwIAAAAAAwUABQAAAAIBAAAAAAAAAAIAAAAAAAAAAAACAAACAAAAAAAAAAAAAAAAAAACAAICAAAAAAAAAAAAAwIAAAgAAAACAAAAAAAAAAICBAIAAAABAAMAAAIAAwAAAAAAAgMAAgAFAAAAAAAAAAAAAAAAAAIDAAABAgABAgAAAAEAAAICAgIAAAAAAAAAAAADAgADAwIAAgAAAAABAAAAAAACAAAAAAAAAAAAAAAAAAIAAAAAAAAAAAAAAAAEAAABAAAAAQAAAAACAAECBQAAAAIABQACAgAAAAACAgAAAAIAAAIAAgIABQACAwAAAAMCAAADAgACAAAAAgICAAIDAwMAAAAAAAAFAAMAAAAAAgACAAAFAAAAAAAAAgAAAwAFAAAAAAAAAAMCAAACAgAAAgIAAAACAAIAAwAAAAIAAgAAAAIAAAIAAgAAAAEDAAAAAAAAAQAAAAAAAAAAAAAAAAIAAwAAAgAAAAIAAAAAAAAAAAMAAAAAAAADAAAAAAADAAIAAAAAAgAAAAAAAAACAAICAAIAAwAAAAAFAAAAAQAAAAAAAgAABQAAAAAAAAAAAAAAAAAFAAAAAAMCAAIAAAEAAAAAAAADAAIFAAMFAAACAAAAAAUAAAAAAAUAACkAAAAAAgIAAAAAAAAAAAAAAAUAAAAAAAAAAAAAAAAAJQAABQAAAAAAAAICAAAjAAAAAAAAAAAAAAAAAQAAAAUAAAAAAgAABQAAAAUAAAAAAAMAAAAAJAAkAAAAAAAABQAAJAEAAAAFBQAFAAAAIgAABQEAAAAAAAAAAAAAAAAAAgAAAAAAAAAAAAAAAAAAAAAAAAAAIgAAAAAAAAAAAAABAAAAAAIAAwACAAIBAAAAAAAAAAAAAAAAAAAAAAEAAAACAgAARwAAAAIHACQAAAAAAAAAAAAFJAAAAAAFAAAAAAAAAAAAAAACAAAAAAIAAAAAAQAAAAAAAAUAAgIHAAAFAAEAAAIAAAAABQAAAAAAAAAAAQAAAAAAAAAAAAAAAAAAAAAAAAACDQMAAAACAAAAAAAAAAAAAAUCAAAABwACAgAAAAAAAAAaAAAAAAAAAAAAAAAAAAAAAAAAAAAAAAAAAgAAAAAAAAAAAAAAAAAAAAAMAAAABwIAAAAAAAAAAAAFAAAAAgAAAAMAAAAAAAAAAAUAAAAAAAACBQAAAAACAABIAAAMAAAAAAAAAAADAAAAAgAAAAAAAAAAAAAHAAAAAAAAAAAFJgAAAAACAAAHAAAAAEcAAAAAAAAAAAAAAwEAAAAAAAIAAAAAACMAACUAAAAAAAAAAAAAAAAAAAAABQUAAAAABQAAAAAAAAIAAAAAAAAABQIAAAACAAAAAQAAAAAAAAACAAAFAAAAAAYAAgACAAAAAAIAAAAAAAUAAAAAAgAAAAAAAAMAAAAAAAAAAAUBAAokACIAAAICAAQAAAAAAAAAAAAIAAAAAAAAAAAAAAAFAAAADQAAAAACAAAAAAAAAAAAAwAAAAAAAAAAAAAAAAAAAAAAAAACJAAAAAAAAAAAAAAHAAEABQAAAAAAAAABAwAAAAAAAAAAACQAAAAFAAAAAAEAAAUAAwACAgAAAAAAAAAAAAAkAAAAJAAAAAAAAAAAAAAAAAAAAAAACAAAAAADAAAAAAAAAAAjAAAAByIAAAAAAAAAAgABAAAFAAAAAAAAAAAAAAUAAAAAAAAEAAAAAAAQAgAFAAAAGgACAAAAAAAAAAAAAAAAAAIAAAAAAAUAAAAAAAAAAAAAAAUDBwAAAAACACQAAAAAAAAAAAAHAAAAAAAAAAQAAAAAAAAAAAAAAAAAAAAAAAAAAAAAAAAAAAAAAAAHAAAAAAAAACQAAAAAAAADAAAAAAAAAAAAAAAAAAAAAAADAAAAAAAaAAAAAAAAAAIAAAAAGgADAAAAAAAAAAAAAAIAAAIAAAAAAAAABQMAAAAAAAAAAAAAAAIAAAAAGwAAAAUAAAAAAgMAAAAAAAAAAAUAAAAAGgcAAAAAAAAAAAAAAAAAAAAAAAAFAAAAEAAAAAAAAAACAA4AAAUaAAAAAAAAAAAAAAAAJAIAAAAAAAAAAgIFAAAAAAAEAAUAAwACAAAAAAAAAAABAAECAAAAAAACAAUHAAAFAwAAAAAAAgIAAAAAAAYAACQAAAAAAAAAAAAAAAAAAwAAACQABQAHAAAAAAAAAAAAAAAAAAAAAAEAAAAAAAAAAAAAAAAAAAAAAAACAgIAAAAAAAAAAwAAAAAADQUAAAAAAAAAAAUABQAAAAAAAAAAAAAAAAAAAAAAAAAAAAAAAAAAAAAAAgcGAAIBAAAAAAAAAAAAAAAAAgAAAAAAAAAAAAABAAAAJAAFAAAAAAACAAAAAAMABQAjAAAFAAAAAAAAAAAAAAAAAAAAJQAAAAAAAAAAAAAAAAAAAAAAAAAAAAAAAAAAAAAAAAAAAAAAAAAAAAAAAAQAAAAAAAIAAAAAAAAABQAAABoAAAAFAAAAAgUAAAAAAAAAAAAAAwAAAAAAAAAAAAAAAAAAAAAAAAAAAAAAAAAAAAACACMAAAAAAAAAAAUAAAAAAAAAAAAAAAABAAAHAAAAGyUAJAAAAgAAAAAAAAAAAAAAAAMAAAAAFgAAAAAAAAAAAAAAAAAAAgAAAAAAAAAAAAAAAAACAAAAAAAAAAAAAAAAGgIABQUAAAAAAAAAAAAAAAAAAAAFAAAAAAAAAAAAAQAAAAAAAAAAAAAAAAAAAgAkAAAAAAAFAAAAAQAAAgACAAAAAgAADQAAAAAAAAAAAAAAAAAAAAIAAAAAAAABAAACAAAFBQAAAAAAAAABAAAAAAAAAgAAAAAAAAAAAAAAAAAAAAUAAAAABQAAAAMAAAAAAAUAAAAABQEAAAAAAgAAAAACAAAAAAUAAAACAQAAAAUABQAAAAAAAAAEAAAAAAIBAAAAAAAAAAAHAwAAAAAAAAAAAAACAAAAAAAAAAIAAAAAAAAAAAAAAAAAAAAAAAAAAAAAAAAFAAAABwAAJAAAAAAAAAAaACQAAAAAACQABwAAAAAAAAEAAAACAAAAAAAAAAAAAAAAAgAAAAAAAAIAAAAAAAAAAAAAAAAAAAAAJAAAAAAAAAABAAACAAIAAAAABQAAAQAAAwAAAAAAAAAAAAAAAAAAAwEAAAAAAAAAAAAAAAEAAAAAAAAAAAAAAAAAAAAAAAUADQAAAQAAAAAFAAAAAAIAAAAAAAAAAAAAAAUAAAACAAAAAAAAAAAAAAAAAAAAAAAAAAAAAAAAAAECAAAAAAAAAAAAAAMEAAAAAAAAAAAAAAADAAAAAAAAAAACAgAAAAAAAAAkAAAHAAAAAAIAAAEAAgAAAgAAAAAAAQACAAAAAAADAAAAJAAAAAACAAAABAcAAAACAAAAAgAAAAAAAAAAAAEAAAABAAAAAAAAAAAABwAHAAAAAAACAAAAAAAAAAAAAAAAAAAAABoAAAAAAAAAAAAAJAAAAAAJAAAAAAAAAAAAAAAAAAAAAAAAAAAAAAAAACIAAAAAAAICAAAAAQAAAAAAAAAAAAAAAAAkAAAFAAAAAAAAAAAAAAAABQAAAAAAAAAkAAAAAAAAAAAAAAAAAAAABwABAAAAAAAAAAAAAAAAAAAAAAAAAQMAAAAAAAAAAAAAAAAAAAAAAAAAAAAAAAAAAAAAAAAAAAAAAAEAAAAFAAAAAAACAAAHAAAAAgAABgUAAAAFAAAABQAAAAAAAAAAAAAAAwAAAiUAAAAAAAAAAAMDAAAAAQAAAAACAAAAAAcABQAmAAAAAAIAAAAAAAAAAAcAAAAAAAAAAgAAAAACAAAAAAAAAAAAAAAAAAAAAAUAAAAAAgAAAAACAgAAAiUAAAIAAAAAAAAAAAAAAAAAAAIAJAEaAAAAAgAAAAAABQAAAAIAAAAAAAUAAQAAAAAAAAAAAAAAAAAAAAACAAAAAAEAAwAAIgcAAAAAAAAADQIAAAAAAAAAAAAAAAAAAAMAAAAABQAACgAAAAAAAAAAAAAAAAAHAAAAAAAAAgAAAAAAACQCAAMAAAIAAAAAAgAAAAQAAAAAAAAAAAAAAAAAAAAAAAAAAwAAAAACAAAAAAAAAgAAAAUAAAAJAAACAAAAAAAAIgAAAAAAAAUABwAAAAEAAAAAAAAAAAAAAAAAAAAAAAAAAAAAAAAAAAAAAAAAAAAAAAAAAAAAAAAAAAABAAIAAQAAAAUABAAAAAAAAAAAAAAAAAMAAAAAAAAAAAAAAAIAAAAABwEADwAAAAAABwAAAQAAAAAAAAAAAgAAAAAAAAEAAAAAAAAAABoAAAAAAAAFAAAAAAAAAAIAAAAAAAUAAwAAAAAABQAAAQAAAAAAAAAAAAAAAAAAAAAAAAAAAAAAAgAAAAAAAAIBAAAAAAAABwAAGgACAAAAAAAAAAAAAAAAAAAAAgAAAAAAAAAAAAABJAAAAAAAAAAAAAAAAAAAAAABAAIDAgAAAAAAAAAAAAAAAAAABgAAAAAAAAAAAAAAAAAAAAAAAAAADQAAAAAAAAAAAAAAAABIAAAARwAAAAAAAAABAAAAAAAAABoAAA0AAAAAAAUAAAAAAAAAAAAAAAAAACQAACQAAAAAAAAAAAAAAAAAAAAAAAAAAAAAAAAAAAAAAAAAAwEAAAAAAAACAwAAAgAAJAIAAAAABQAAAAAFAAAAAAAAAAAAAAAAAAAAAAEAAAAAAAIAAAAAAAAAAAAAAABHAAAGAAAAAAIAAAEAAAAAAAACBQADAAAAAAAAAAAFAAAjAAUCAgAFAAUAAAAAAAAAAAAAAAABAAAAAAIAAAAAAAAAAAAAAAACAwAAAAAAAAAAAAAAAAAAAAAAAAAAAQACJAAAAAAABwAFBwAAAAcAAAAAAAAAAQMAAAAAAEcAAAAAAAAFAAAAAAAAAgIAAAAAAAAAAAAAAAAAAwAEBQACAAAAAAAAAAAAAAAAAAAAAAEAAAAAAAIAAAAAAAAAAAAAAAIAAAAAAAAAAAAAAAAAAAAAAAAAAAMBAAAAAQAAAAAAAAAAAAAHBwAFBgcAAwAAAAAAAAAADQAAAAAAAAIGAAAAAAAAAAACAAAAAAAAAAAAAAAAAAAAAAAAAAAAAAAAAAAAAAAHAAAAAQAlBwAAAAAGAAIAAAAAGgEAAAAAAAUAAAAAAAAAAAAAAAAAAAAAAAAAAAACAAAaDAAAAAAADAIFAAAAAAAAAAAAAQAAAA0AAAAAAAIAAAAAAAAAAAAAAAAAAAAAAAAAAAAAAAAaAAAAAAAAAAAAAAAAAAAHACIDAAAAAAIABgAAAAAABAAAAAAAAAAAAAAAAAAAAAAAAAAAAAAAAAIAJAAAAAAAAAAAAAAEAAAAAAEAAAAABwAAAAAAAAAAAAAAAAcAAAAAAAAAAAAAAAABAAACAAAAAAAAAAAAAAAAACQAAAAAAAAABwACAAICAAAFAAAAAgAAAAcAAAAAAAkAAAIiAAAEAA0AAAABAAAAAgAAAAAAAAAAAAAAGgAAAAAAAAAAAwAAAAAAAAAAAAAAAAAAAgAAAgAAAAABACQAAAAAKQAAAAAAAAAAAAAFAAAAAAAAAAAAACQAAAAAAAAAAAAAAAwAAAAAAAAAAAUAAAEHAAAAAAAAJAAAAAIAAAAAAAAAAAMAAAAAAAYAAAAAAAUAAQAAAAAAAAAAAAAAAAAAAAACAAAAAAcAAAEAAAAAAAAAAAAAAAEAAQAABQAFAQAABQAAAAAAAEcHAAAAAAAAAAAAAAABAAAAAAAAAAAAAAAAAAAAAwAABQAAAAAAAAAAAAAAAAAAAgAAAAUAAAUAAAAAAAEAAAAAAAAAAAAADQADAAAAAAAAAAAFAAAAAAABACQAAAAAAAIAAAAkAAAAAAAAAAAAAAAAAAAAAAYABQAAAAAAAAAAAAAAAAAAAAEAAAAAAAAAAAAAAAIAAAAAAAAAAAAAAAACAAACAAAAAAAAAAAAAAAAAAAAAAAAAAAAAgACAAANBwACAAAAAAACAAAAAAACAAAAAgAAAAAAAwAAAQAAAAAAAAAAAAAAAAAAAAAAAgAAAgAAAwAAAAAAAAAAAAACAAcAAAAAAAAAAAAAAwAAAAAHAAAAAAAAAAAABQAAAAAAAgAAAAIAAAACAAAAAAABAQAkAAAAAgMAAAAAAAAAAAAAAAACAAAAAAAAAA0AAAcABQcAAAAAAAAAAAAAAAAAAAMAAAAAAAAAAAAAAAAAAQAAAAAAAAAAAAAAAAAAAAAaAAAAAAAAAAgAAAAAAAAiAAAAAAoADQAAAAAAAABHAAAADQAAAAAAAAAAAAAAAAAAAAAAGgAAAAAAAAAAAAAAAAAAAAQAAAAAAAAAAAAAGgAAAAAAAAADAAAAAAAAAAAAAAACAAAAAAAAAAAAABoADQAkAAAAAAAABQAAAAAAAQMAAAAAAAAAAAAAAAAAAAAAAAAAAgAAAAACAAAEAAAAAgAAAAAAAAcAAAAAAAAAAAAAAQMAAAAABQAAAAAKAAAAAAAAAAAAAAAAABoAAgAAAAAAAAAABQEAAAAAAAAAAAACAAAAAAICAAAAAAAAAQAAAAAAAAAAAAAABQAAAgAKAgAAAAAAAQAHDQAAAAAAAAAAAAAAAAAAAAABAAAAAAAAAAAAAAIAAAAAAAIAAAAAAAAFAAAAAAAAAAAAAAAAGgAAAAAAAAIAAAYAAAAAAAAAAAAAAAAHAAAFAAAAAAMCBwAAAAADBQAAGgAFAAABAAAAAAAAAAAAAAAAAAAAAAAAAAcAAAIAAAAAAAAAAAAAAAAAAAAAAAAAAAAAAAAAAAAAAAAAAAAAAAAAAAAAAgACAAgAAAAFAAAAAAAABQAAAAUAAAUFDgAAAAAAAAAAAAAAAAAAAAAAAAAGAAABDQAAAAAFAAAAAAAAAAAAAAAAAAAAAAAAAAAHAAAAAQAAAAAAAAAAAAUlAAAAAAAAAAAFAAAAAAAAAAAAGgAABQABAAAAAAACAAAAAAAFAAIAAAIAAAAAAAAAAgABAgAAAAAAAAAAAgAAAAAAAQAAAAAAAAAAAwAAAAAAAAAAAAUBAAIAAAAFAAAAAAAAAAAAAAAAJAAAAAAAAAAARwAADQAAAQAAAAEAAAAAAAAAAwAAAAAAAAIHAAAAJAAAAAAAAAAAAAAAAAAAAAAAAAAAAAAAAAIAAAAAAAAAAAAAAAoAAAAAAAAFAQIAAAAAAAAAAAAAAAIAAQAAAAAAAAMARwAAAAACAAIFAAAAAAAABQAAAAAAAAAAAAACAAAAAAAAGgAAAAAAAAAABQAAAAAAAAAFAAAAAAAAAAACAAAAAAAAAAAAIgAAAAAABwAAAAAAAAAAAAAFAAAAAAAAAAAAAAAAAAAAAAAAACIAAAAAAAAAAAAAAAAAAAEAAAgDAAAAAAAAAAAAAAUCAAAABQAAAAAAAAAAAAAAAAAABwAAAAAAAAAAAAIcAAAAAAAAAAAADQAAAAAAAQAAAAAAAAAAAAIAAAAAGgAAAAAAAAAAAAACAQAAAAAAAAAFAAAAAAIAAAMAAAAAAAAAAAAAAAAAAAAAAAAAAAAAAAAAAAAAAAABAAAADQAAAwAAAAAAAAAAAgIAAAUAAAAHAAAABSQCAAAAAAAAAAAAAAAAAA0AAAAAAAIAAAAAAAAAAAAAABoAAAAAAAAAAAAAAAAAIgIFAAAAAAAAAAIAAAAAAAAAAAAAAAAAAAcAAAAAAAAaAAAAAAAAAAAAAAAAAAAAAAAAAAAAAAAAAAAACgAAAAAHAAAHAAAAAAAAAgAAAAAAAAAHAgAAAAAIAAAAAAAABwABAAUAAAAAAAAABwEAAAAAAAAAAAAAAAAHAAAAAAAFBQAAIgAAAAEAAAAAAAAABwAAAAAHAAAAAAAAAAAiAAAAAAAAAAAAAAAAAAAAAAAAAAAAAgAAAAAAAAAAAAAAAAACAAAAAAAAAAAAAAYAAAAAAAAAAAAAAAAAAAUCAAAAAAAAAAAAAAAAAAAAAAAAAQAAAAAAAAIAAAAAAAAAAAAABgAAAAAAAAAAAwAABQAAAAAADgAAAQAAAAAAAAAAAQAAACIAAQAAACMBGgAABwIAAAAAAAAAAAAAAAIAAAAAAgAAAAAAAAAAAAIAAAAAAAAAAAAAAAUAAAEHAAAADQAAAAAiAAAAAAAABQUAAAYAAAAAAAAAAAAAAAAAAAAAAAACIgAAAAAABQAAAAAARwAAAAAAAAACAAAAAgAAAQMAAgcABQAAAAAABQAAAAcAAAQAAAAAAAAAAAAAAAAAAwAAAAAAAAAAAAAAAAIAAAAAAAAFBQcAAAAABQAAAAAAAAIAIgAAAAAkAAAAAAAAAAAAAAgAAAMaAAAAAAAAEgAAAgAHBQAAAAAAAAAAAAAAAAAAAAAAAAAAAAAAAgAAAAAAAAAAAAIAAAAAAAAAAgAAAAAAAAAAAAAAAAAAAAAAAAAAAAIAAAAAAAACDAAAAAAHAgAACgAAAAAAAAACAAAAAAUACQAAAAAAAAAjAwAAAAcAAAAAAAAAAgAAAAAAAAAAAAAAAAAAAAAHAAACAAAAAAAAJAUAAAAAAAAAAAAAAAAABQAAAAAAAAACAAkAAAAAAAAAAAAAAAACAgAAAAAAAgAAAAAAAAAAJAAAAwAAAAAAACIAAAAAAAAAAAAAAAAAAAAMAAUAAAAAAgIBAAIAAAIAAAAHAAAAAAAAAAIHAAAAAAAAAAIAAAAAAAAAAAIAAAMABQAAAAcAAgcAAAAAAAAAAAUAAAACBwAAAAAAAAAAAAAAAAAAAAAAAAAAAAAAAA0AAAADAAAAGgAAAAIAAAAAAAAFAAAAAAAAAAAAAAAAAAoAAAAABwAAAAAiAAYAAAAAAAABAgAAAAAAAAAAAAAFAAMAAAACAAAAAAAABwAAAAMAAAAAAAACAAAAAQAAAAMAAAAAAAIAAAACAAAAAAAAAAAAAAAAAAAAAAAAAAIAAAEAAAAAAAUABwAAAAUAAAAAAAAAAAAAAAAAAAABAAAAAAAAAAIDAAAAAAAAAAAAAgAFAAAAJAQFAAAAAAIAAgAAAAYAAQAAAAAAAAoAAAAAAgAAAiQAAAAAAAAAAAAABwAAAAAAAAAAAAAiAAAFAAAAAAAAAQAAAAIAAAAAAAAAAAAAAAAAAAAAAAAAAAIAAAAAAAAAAAAAAAAAAgMkAAAkAAAAAAMAAgAAAAAAAAAAAAICAA0kAAAAAQAlAAACAAIAAAcBAAMAAgAAAAIOAAAAAAAABQcABQAAAAAAAAAAAAAAAAAABQAAAAEAAAIAAAcCAAAAAAAABQAAAAAAAAACAAcAAAAABAUkAAAARwAAAQAAAAIHAAABAAUAAAAAAAAAAAAAAAAAAAAAAAAAAAUAAAAADQAAAAIAAAAAAAAAAAAAAAAAAAAAAAAAAAAAAAAAAAAAAAAAAAMAAAAAAAAAEAAAAAAAAAAAAAAAAAUARwAAAAAAAAACAQAAAAAAAAACAAAAAAAAAAAAAAAAABoAAAAAAAAAAAAAAAAAAAAAAAIAAAAAAAAAJQAAAAAAAAAFAAANAAAFAgAAAAAABQAAAAAAAAAAAAoAAAAAAAAaAAAAAAAAAAACAAAHAAAiAAUAAAAAAAAAAAAAAAAAAAAAAAAAAAAAAAEAAAAAAAACAAAAAAAAAAAABh8FAAAAAAEABQAAAAAFAAAAAAAFAAAkBxoAJAAAAAAAAAAAAAAAAAAAAAAAAAAlAAAAAAIAAAcAAAAAAAAAAAAAAAAAAAAAAAAACgIAAAAAAQIAAAEAAABHAAAFAAcHAAAlAAAAAQAAIgAAAAAAAAAAAAAABBoFAAAAACQAAg0AAAAAAAADAAACAAAAAAAAAAAAAAAFAAAAAAAAAAAmAgAAAAAHIgACAAAFAAAAACICAAAAAAIAAAAAAAAAAAACAAAAAAAAAAAABAUAAAAAAAAAAAAAAAAAAAAAAAAAAAAFBQAAAAACAAAAAAAAAQAAAAAAAAAAAAAADQYAAAAAAAAAAAAAAAAAAAAAAAAAAAAAAAAAAAAAAAAAAAACAAAAAAAAAAAAAAAAAAAAAAAAAAAAAAAAAAAAAAAAAAAAAAAAAAAAAAUAAAAAAAAAAAAADgAAAgAAAAACAAABAAAFAAIAAAMAAAAAAAAAAAAAAAAAAAAAAAABAAAAAAAAAAAAAAAAAAoAAAAFAAAAAAAABwcAAAIFAAQAAAAABQAAACQAGgAAAAEHBQABAAAAAAEAAAABAAAAAwAAAAAAAQAAAAAAAgMAAAAHAAAAAAUAAAAAAAAAAAAAAAAAAAAAAAAkAAAAAAoAAAAHAAAABwAAAAAAAAAAAAEAAAAAAAAAAAACAAAAAAAAAAAACQEAAAAAAAAAACIAAAAAAAAAAQMAAgAAAAAAAAAAAAACAAAAAAANAAAAAAAAAAAAAAAAAAAAAAAAJSQAAAAAAgAIBwAAAgAiAAAAAAAAAAIBAgAHAAAAJAAFAAAAAAABAAAAAAACGgAAAAAAAAAAAAAAAAAAAAAAAAIAAAEAAAAABQVHAAEAAAAAAAAAAAQAAAAAAAAAAAAAAAAAAAAAAAAAAAAABQAAAAAAHQAAAAABAAAAAAAAAAAAAAAAAAAAAA0aAAAAAAAAAAAAAAAAAAAAAAAAAAAAAAAAAAAAAAAABwAABQ0NAAAAAgAAAAAAAAAAAAAAAAAAAAAAAAAAAAAAAAAAAAAAAAIAAAADAAAAAAADJQAAAAAAAAABAAAAAAAAAAACAAAAGgAAAAAAAAAAAAAAAAAAAAAAAAAAAA0AAAAACgAAAAUCAAUAAAAAAAAAAAAAAAAAAAAAAAAAAAAAAAAAAAAAAAACAAAAAAAAAAAAAAAAAAAAAAAAAAAAAAAiAAAAAAAAAAACAAADAAAAAAAAAAIAAAUFAAAAAAMAAAAAAEcAAAkAAAAAAAUAAAIAAAAAAAAAAAAAAAACAAADAAAAAAAAAAAAAAAAAAAAAAAFAAAAAAAAAgAAAAAAAAAAAAAAAAAAAQAAAAAAAAAAAAAAAAAAAAAAAAAAAAAAAAAAAAAAAAAAAAAAAgAAAAAAAAACAAAAAAAABQAAAAAAAAAAAAAAAAAAHQAAAAAAAAAAAAcAAAAAAAAAAAcAAAAAAAAAAAAAAAAAAAAAAAAAAAMAAAABAAIAAAAAAAAADQAAAAAFAAAAAAAACAAHCgAAAAAAIgAAAAAAAAAAAAUAAAAAAAAAAAAAAAAAAAAAAAAAAAAAAAUAAAAAAAAAAAEAIgAAAAAAAAAAAAAAAAAAAAAAAAAAAgAABwAAAAUAAAACBQMAAAACAAUAAgAAAAAAAAAAAAAAAAAAAAAAAAAAAAAAAAABAAAAAAAAAAAaBQAAAAAAAAAAAAYAAAAAAAAAAAAAAAIAAAMAAAACBQEAAAEAAAAAAAAAAAAAAAAAAAIAAAAAAAAAAAAABQEAAgIAAAAAAAAAAAAAAAABAAAAAAAAAAACAAAAAAAAAAAAAAAAAAEAAAAAAAAAAAAaAAAAAAAAAAAAAwAAAAAAAAAAAAAAAgAAAgAAAAAABQAAAAADAAAAAAIBAAAAAAAFAAAAAAAFAgAAAAAAAAAAAAAAAAAAIgAAAAAAAAIAAAAAAQAAAgUAAAANAAAAAAAAAAAAAAAAAAAAJQAAAAAAAAoAAAAAAAAAAAAAAAAAAB0ABQACAAAAAAYAAAAAAAABAAAAAAAAAAAAAAAAAAAAAAAAAAAAAAAAAAAAAAAAAAAAAAABAAAAABoAAAAAAAAAAAAAAAACAAAAAAAAAAAHAAABAAcFBQAHAAAAAAAAAAAAAAAAAgAAAAAAIgAAAAAAAAAAAAAAAAAAAAACAAAFAAAAACQAAAACAAIAAAAAAAAAAAAAAAAAAAAAAAAAAAAAAAAFAAANAAAAAAEAAAAAAwAAAAAAAAAAAAAAAAAAAAAHAAAHAAAAAAAAAAAAABoHAAAAAAABAAAAAAAMAAAAAAAAAAAAAAMAAAAAAgAAAAAAAAAAAAAAAAAAAAAAAAAAAAAAGgAAAAAAAAAAAAAAAAANAAAAAAAAAAcABxoAAAAFAAAACQAAAAAAAAAAAAAAAAAHAAAAAAAAAAAAAAAAAAIABQAAAAAAAAAIAAAAAAIAAAAAAAAEAAAAAAAHAAAAAAAAAAAAAAAAAwAAAAADAAAAAQAAAQACAAAAAgABABwAAAAAAAABAAAAAAAAAAAAAAAAAAAAAQAGAAUiAAAaAAAAAAAAAAAAAAAAIgAAAAAAAAMBAQAAAAAAAAAAAAAAAAAAAgIAAAMAAgUAAAUAAAkAAAAAGgcAAAAAAAAAAAAAAAAAAAAAAAAAAAAAAAAAAAAAAAAABQAAAAAAAAAAAAMAAAAAAAAAAAAAAAAAAAACAAAAAAAAABoAAAUAAAAAAAAAAgMAAAIAAAcAAAAAAAQAAAAABQAAAAAAAAAAAAIAAAAAAAAAAAAAAAAiAAAAAAELGwAAAAAAAAAFAAAAAAANAAAAAAAAAAADAAAAAAACAAAAAAACAAAAAAAAAAAAAAAAAAIAAAABAAAAAxIAIwACAAAAAAAAAAIjAAACAAAAAAAAAAAAAAAAAAAAAAAFAAIAAAAAAAAAAAAAAAAAAAAAAAAFAAAAAAACAAAAIgAAAAAAAAAABQAGAAAAAAAFIgAAIgIAAAAAAAAAAAAAAAIABQAAAAAAAAAAAAAAAAAAAAAAAAAAAAUAAAAAAAAAAAAAAAAaAAAAAAAAAAAAAAAAAAYAAAAAAAAAAAAAAAAAAAAAAAAAAAIAAAAAAAABAAAHDgAAAQAAAAAAAAIAAQAAAAAAABoAAAUFAAAAAAAAAAAAAAEABQAAAAAAAAAAAAAAAAAAAAAAAAAAAAUAAAAAAAAABwAAAAEAAAAAAAAAAAAAAgAAGgABAAEAAAIAAAAAAAAAAgAABQAAJAAEAAABAAAAAAUAAAAAAAAAAAAAAAAAABoAAAAAAAAAAAAAAAAAAAAAAAAAAAUAAAAAAgAAAAABAQAAAAAFAAAAAAAAAAYAAAAABQAAAAAAAAAAAAAFDQAFAAAAAAAAAAABAAAAAAIAAAAaAAAAAAAAAAAAAAAAAAAAAAAAAAAAAAAAAAACAAAAAAAAAAAAAAAAAAAAAAAAAAAAAAAAAgAAAAABAAAAAAAAAAAAAAAAAAAAAAAaAAYCAAAAAAAAAAACAAIAAAAAAQMAAAAAAAAAAAAAAAAkAAAAAAAAABoAAAUAAAAAAAAAAAAACQAAAAADAgAAAAAAAAAAHQAAAAAAAAAAAAAAIgAAAAAAAAIAAAAAAAAAAAAABQAAAAAAAAAAAAAAAwAAAAAAAAAAAAAAAAAAAAAAAAAABQAAAAIAAAoBAAACAAAAAAAAAAEAAAAHAAMAAAAAAQAFBwAAAAAAAAAAAAAAAAAAAAAAAAAAAAAAAQAFAAAABgAAKwEABwAABQIAAAAAAAAAAAAAAAAAAAAAAAAAAAAAAAIAAAABAABHDAACAAAAAAAAAAAABQIAAAAAAAAAAAAAAAMlAAAAAAAAAAAAAAAAAAAAAAAAAAAABQAAAAAAAAAABwkAAAAAAgAPAAUAAAAAAAAAAAAAAAEAAAAAAAAAAgAaAAAAGgAAAAAAAAAAAAAAAAAAAAAAAAAHCQAGAAAHAAAFAAAAAAAAAAAAAAAAAAAAAAIAAAAAAAAAAAAAAAAAAAEAAAAAAAAAAAAAAAAAAAMAAAAAAAABAAAAAAAAAQAAAgAAAAAAAAAAAAAAAAAAAAAAAAAAAAAAAABHAgABAAAADQAAAAAAAAYAAgADAAAAAAAABQAAAAAAAAAAAgAAAgAAJAAAAAAHAAAAAAAAAAAAAAAAACQAAAAAAAAAAAAEAAAAAAAAAAAAAAAAAAAARwAAAAAAAAAAAAAAAAACAAAAAAAAAAAAAAAFAAAAJAAABQAAAAAAAAUAAAACAAEARwAAAAAAAAAAAAAAAAAAAAAAAAAEAAAAAAAcAAAABwAAAAACAAAAAAAAAAAAAAIAAAAAAABHAAAAAAAAAgAAAAAAAAAAAAAAAAAABAAAAAAAAAAAAAAJAAAAAAAAAAIAAAAAAAAAAAAAAAAAAAAFAAAAAAICAAAABSIAAAAAAAAGDAAAAAAAAAAAAAAAAAAAAAIAAAAAAAEAAAAFAAAAAAAAAAAAAAAAABoAAAAAAAABAgAAAAAAAAAABwAaAAAAAAIAAAAAAwAAAAAABQAABwEAAAAAAAMAAAAAAAAAAAAAAgAAIgAAAAAAAAIAAAcAAAEAAAIAAAAHAAAAAgcAAAAFAAAAAAUHGgAAAAAAAAcAAAAAAAAAAAAAAAAAAAMAAAAAAgAAAAAiAQAAAAAAAAAFAAAAAAAHAAEAAAACAAABAAAAAAAAAAAAAwADAAAAAAAHAAAAAAACAAAAAAAAAAAAAAAAAAAABQAAAAAAAAAAAAAAAAAAAAAAAAAAAAAAAAAAAAIEAAAAAAAAAAAABQAAAAAAJAAAAAACAAAAABoAAAAEAAoAAAABAAAAAAANRwMCAAUABwAAAAAAAAAAAAAAAAAAAAAkAAAAAAAAAAIABQAAAAAAAAAAAQAAAgAAAAAAAAABAAAAAAAAAAAAABwAAAAAAAAAAAAAAwAHAAAAAAAAAAAAAAAAAAIABgAAACIAAAAHAAABBwUAAAADAAAAAQAAAAAAAAACBwAAAAAAAAACAAUAAAAAAAADAAAAAAAAAEcAAAAAAAAAAAAAAAAAAAAAAQAAAAAAAAAABwAAAAEAAAAAAAAAABoAAAAAAAAAAAAAAAAfAAAAAAIAAAAAAAIAACIAAAAAAAAAAgAAAQUAAgAABQAAAAAAAwABAAIaAAACAAAAAAAAAAAAAAAAAAAAAAIAAAAAAAACAAAFBwAAAgAAAAAABAAFAAAAAAAAAAUAAgAAAAAAAAAAAwAAAAAAAAAAAAAAAAAAAgAiAAACAAAAAAACAAAAAAAAAAAAAAAAAAAAAAUAAAAAAAAAAB8AGgAAAAAAAAAAAgAAAAAABwAAAAAAAwAAAAAAAAAABQAAAAAAAAIAAAUAAAABAgAAAAAAAAAAAAAFGgAAAAAAAAAAAAAAAAAAAAAAAAAAAAANAgAABQUAAAAAAAACAAAAAAoAAAAAAAACAAMAAAAAAAAAAAADAAwBAAAAAAEAAAcAAAUAAAADAAANAAAAAwABAAAAAAAAAAAAAAAAAAAAAAAAAAAAAAAAAAAEAAAAAAAAAAAAAAEAAAcAJgACAA0CAAAAAgAAAgMAAAAAAAAAAAAiDQADAAAABwAABQMFAAAAAAAAAAAAAgAAAAMAAAAAAAAABQAAAAAADQAAAAAAAAAAACkFAAAAAAAAAgkAACIAACQAAAACAAAAAAACAAAAAgADAAIAAAAAAAAAAAAABwAAAAAAAAMAAAAAAAAAABoAAAAAAAcAAAAABwAAAAcAAAIGAAAAGgEAAAUAJAAAAAAAAAAAAAAAAAAAAAAAAAAAAAAFAAAAAAAHAAAAAAAAAAAaAQAAAAAAAAAAAAUAAAFHAAADAAAAAAAHACUkAAAFAAAAAAACBAAAAAAAAAAAJAAAAAAAAAAAAAAAAAAAAAAAAAAAAAAAAAAAAAAAAAECAAAAAAAAAQAAAAAAAAAAAAMAAAAAAAAAAAAAAAAAAAAAAAAAAAAAAAAAAAAAAAAAAAAAAAAAAAIFAAACGgAAAAAAAAAAAAAABQAFIwUAAAAKAgAAAAAAAAUAIgAAAAAAAAEBAAAAAAAAAAAAAAAAAAAAAAAFAAEAAAcAAAAAAQAAAAAAAAAAAAACAAAAAQAAAAAAAAAAAAAAAAAACgAAAAAHAAIAAAAABQABAgAAAAAAAAAAAAAAAAAAByQAAAIAAAAAIiIAAAQAAQAAAAAAAAAAAAAAAAAAAAAAAAAAAAAiAAIAAAAAAAAAAAAAAAEAAAUAAAABAAACAAEABwAAAAAAAAAAAAEAAAAHAAAAAAAAAAAAAAAFAAAAABoAAwAAAAEAAAAAAAADAAIAAAAAAAUAAAAAAAcAGgcAAAAAAAAAAAAAAAUABQAAAAAAAAAAAAAAAAAAAAACAAEAAAAAAAEAAAAHBQAAAAAAAAAAAAAAAAAAAAAAAAACAAAAAAAHAAAABwAAAAAAAAAAAAAAAAACAAAAAAAFAAEAAAUAAAAAAAAAAAAAAAAAAA0AAQAAAAAAAAAAAAAAAAAAAAAAAAAAAAAAAAAAAAAAAAAAABACAAAAAAAAAAAaAAIAAAAAAAAAAAACAAIAAAAAAAAAAAIAAAAAAAAABwAAAAAAAAAFAAAAAAABAAAAAAAAAAAAAgAAAAAAAAAAGgAAAAAAACIAAAAAAAAAJAAAAAAAAAAAAAUAAAAFAAIHBQQAAAAaAAAAAAAAAAAAAAAAAAAJAAAAAAAAAAAAAAAAAAAAAAAAAAAHBQAAAAMAAAAAAAAAAAAAIgABAAQABQAAAAcAAAUCAAAAAAAHAAAAAAAAAAAAAAAAAAAAAAAAAAAAAAAADQAAAAAAAAAAAAAAAAEkAAcAAAAAAAAAAAADAAAAAAICAAIAAwAAAAAAAAcAAAAAAAACAAAAAAAABQAAAAAAAAAAAAACAAIAAQAAAAAMBwAAAAAAAAAAAgAAAAAAAAAaAAAPAAAAAAAkAAAAAAAAAAAAAAAAAAAGACUABQAAAAAiAAAAAAAAAAAAAAAAAAAAAAAABQAAAAEAAAAAAAAAAAAAAAABAAAAAAABAAAAAAIAAAAAAAADAAAAAAABAA0AAgIAAAAAAAAAAQAAAAAAAAAAAgAAAAADAAAAAAAAAAAAAAAAAAAAAAAAAAUARwAAAAAAAAAHAAIAAAAAAAAAAAAAAAAAAAAaAAAABQAAAAAABQICBwIAJAAHAAAAAAAAAAAAAAAAAAAAAAAAAAAAAAwAAgAAAAAAJAAAAAAAAAAAAAAAAAAAAAAAAAUAAAAAAAAAAAAAAAAAAAwAAAcAAAAAAAAAAAAAAAAAAgAAAAAAAAAAAAAAAAAAAAAABQAHAAAAAAAAAAAAAAIAAAAAAAAAAAAAAAMAGgAFAwAABwAAAAAAAAAAAAAAAAAAAAAAAAAAAAcAAAAAAAAAAgABAAADAAAAAAAAAAAAAAAAAAcAAAAAAAIAAAAAAAAAAAoAAAAAAAAAAAAAAAAAAAAAAAcAAAAAAgAAAAAABwAiAAwAAgAADAAAACQNAAAAAAAAAAAAAAAAAAAAAAEAAAAAAwAABQAAAAcAAAAAAAAAAAAAAAAAAAAAAwEABQAAAAACAAAHAAAAAAAAAAAAAAAKAAAABAEAAAAAAAUABQAABQAAAAAAAAAAAQAAAAAAAAAFAAAAAAAAABoABQAAAAAAAAAAAAAAAAACAAAAAAAAAAAAAgAABAAAAAAAAAAAAAAAAAAAAQIACgAAAAAAAAABAAAAAAAAAwAABQUAAAAAAAAAAAAAAAAAAAAAAAADAEgAAAAAAAAAAAAAAAINAAAAAAAAAAMAAAsAAAAAAAAFAAAAAAIAAAAAAAAAAAAAAAAAAAACAAcAAQAAAAAAAAAABQAAAAAAAAAABQAAAAAAAAIAAAAAAAAAAAMAAAAAAQAAGgAAAAAAAgACAAEAAAUAAQUAAAAAAAAAAAAAAAAAAAAAACQAAAAAAAAAAAAAAAAAAAAAAAABAwAAAAAAAQEAAAMAAAADCgADAAAAAAAAAAAFAAEAAAAAAAACAAcAAAAAAwAABwAAAAAAABoAAAAAABoCAAAAAAAAAAAAAAAAAAAAAQAaAgAAJgcAAAAAAAAABwAAAAAAAgAAAAAAAAAAAAAABAUAAAAkAAAFAAAAAAAABQACAAACAAAAAAAAAAAAAAAAAAAFAAAAAAAAAAUAAAAAAAAAAAAAAAAADQAAAAoAAAAAAwEBAAIAAAAAAAAAAAAAAAAFAAAAAAAAAAAADQAAAAAABQAAAAAAAAAAAAAAAAABAAAAIgANAAIBAwIABwAAAAEAAAAFBQAHAQAGAAUAAAAEAAAAAAAAAAAAAAAACAAABQAAAAAAAAAAAAcAAAAaAAAABAAAAAAAAAANAQIAAAAABQAABQAAAwEAABoAAAAAAAUAAAABAAAAAAAABwAAAAAAAAcCAAAAAgAAAAAARwAABgAAAAAAAAAABQAAAAAHAAACBAAAAAAHAAEAAAAAAQACAAAAAAAAAQAAAAAAAB8AACIAAAAAAAAAAAADBQAAAAAKAAAAAAAAAQIADgoCDyQAAAAAAAAAAAAAAgAKAAACAAAAAAAAAAAAAAAAAAMFAAAAAAAAAAAAAAAAAAAAAAAAAAABAhoAAAMAAAAAAAIAAAAABwAAAAABAAAAAAUAAAAAAAAAACIAAAAAAAAAAQADAAAAAAAAAAAAAAAAAAAAAAABAAAAAAAAAAUAAAAAAAAAAAAACQAAAAAAAAAAAAAAAAAAAAAAAA8AAAAAAAAAAAAAAgAACAAAIgACAAAAAAAABwAAAAACBwACAAAFAAAAAAAAAAAAAAAAAAAAAAAAAAAAAAAAJAAkAAIAAAAAAAAAAAAAAAAAAAAAAAAAAAAAAgEBBQAAAAAAAAAAAAAAAgAAAAAAAAAAAAAHAAAAAAAAAAAAAAAAAAAAABoAAAAAAAAAAAACAAIHAQAAAAAAAgAAAAAHAAAAAAAAAAAAAAAAAAMAAAcAAAAABwAABQAAIgAAAAAAAAQCAAAAAAAAAAAFAAAAAAAABQAAAAACAAAAAAAABQAAAAAAAAgAAAAJAAcAAAACAAAAAAAAAA0AAAAAAAAAAAACAAAAAAAAAAAAAAABAAAAAAAAAAAAAAADAhwAAAAAAAAAAAAAAgAAAAAAAAAAAAAKAAAAAAAAAAAFAAAAAAAAAAAAAgAAAAAABQAAAAAAKQAAAAAAAAAAAAAAAAcDAAUAAAAkAAAAAAAAAAAAAAAAAAAABQAAAAACAAAAAAAAJAAAAAAABQAAAAAAAAAABSQAAAAAAAAFAAAAACYAAAAABwAAAAAAAAAAAAAAAAAAAAAoAAACAAAAAAAAAAAAAAACAAAAAAACAAAAAAAAAAAAAAAAAAAAAAAAAAAHAAEAAAAAAAAAAAAAAAANAAAAAgAAAAAAAAAAAAACAQAAAAAAAAAAAAAAAAAAAgAAAAAAAQAAAAAAAAAAAAAAAgcAAAEAAAAAAAAMAAAAAAAADQABAAAAAAAAACQiAQAAAAAAAAAAAAAAAAAAAgAAAAAAAAAlAAAAAAAAAAAAGgEAAAAAAAYAAAAAAAAAAAAAAAABAAAABQAAAAEAAAAABwAAAAAAAAAjBAAFAAAAAAYDAAAAAAACAAAHAAEAAAAAAAMAAAAAAAAAAAAAAAAABAAAAAAAAAAiAAAAAAAAAAAAAAIAAAAAAAAAJQAAAAAAAAAAAAIAAAACAAAAAAAAAAAAAAUAAAAAAwAAJQAAAAAAJAAABwAAAAAAAAAAAAAAAAEAAAAAAAAHIgAAAAAFAAAAAAoAAAAkBQAAAAIFAAUABQACAAAAAAAAAAUAAAAABQAAAAAAAAMAAgAAAAYAAAAAAwwAAAAACAAAAAAAAAIAAAAAAAAAAAAAAAAAAAAAAAAAAAMAAwAAAAcHSCIAAAAAAAAAAAAAABoAAgAAAAcAAAAAAAEAAAAAAAAABwAAAAAAAAAlAAAAAAEAAAAAAAABAAAAAAAIAAEAAAAAAgAAAAAAAAIAAAAAAAAAAgAAAAAAAAAAAAAABAAAAAAAAAAAAAAAAAAAAwAAAAAAAAAAAAAAAgAAAAUAAAAAAAcAAAIAAAAAAgAAAAAAAAAAAAAAAAAAAAAAAAAAAAEAAAAAAAAAAAABAAcAAAMAAAAiAAcNAAAAACkAAAAAAAcAAgAAAQAAAAAAAAAAAgAAAAcACgAAAAAFAAAAABAAAAAAAAAABAAAAAAFAA0AAAAAAAIAAAEAAAAAAAAAAAAAAAAAAAIAAAAAAAAAAAAAAAAAJAAFAAAAAAAAAAAAAAAEAAcAAAAAAAEAAwAAAAAAAAAAAAAAAAAHAAAADQAAAAACAAAACgAAAAAAAAAAAAACAAAkAAUAAAMAAAAAACQAAAAAAAAHCAAABQAAAAAAAAEAAAAABiIFAAAABwAFAAAAAAAAAAEAAAAAAAAAAAIFAAAABQAAAgAAAAAAAAAABgAAAAAAAAAAAAAAAAAAAQAIAAAAAAAAAAAAAAAAGgAAAAAAAAACAAUAAAAAAAAAAAAAAAUAAAIAACUAAAAAAA8AAAAAAAAcAAAAAgAAAAAAABoAAAIAAAAAAAAAAAAAAAAaAAAAAAAAAAAAAAAAAAAAAAACAAAAAAAHAAAAAAAAAAABAAAAAAAAAAAAAAAAAAAMAAAAAgAAAAAAAAAAAAAAAAAABQAAAAQCAAAAACIAAAAAAAAAAAAAAAAAAAAABwAHAQAAAAAAAAAAAQAAAAAAAAAAAAcAAAAAAAAFAAAAAAAABwAiAAACAwAAAAcAAAAAAAAAAAAAAAAAAAAAGgMAAAAAAAEAAAEAAAAAAAQAAQAAAAAABwAAAAAAAAAAAAAAHQkAAAAAAAAFAAcHAAAAAQAAACIAACQAAAAAAAEAAAAAAAAAACMAAAAAAAAAAAAAAgAAAAACAAQFCgACAAAAABoAAAAAAgAAAQAAAAAAAAAAAAABAAAAAAAAAAAAAAAAAgAAAAAAAAAAAAAAAAAAAAAHAAAkAABHAAAAAAAAAAAAAAAAAAIAAA0AAAAAAAAAAAAKAAAABwAAAAAAAAAAAAAAAAAAAAAAIwAAAAAABwAAAAAAAAAAAAAAAAAAAgAACQAAAAAAACQAAAUABQMAAAEAAAAAAAAABwACAAAAAAAAAAAAAAAAAAADAAAAAAAAAAAAACIAAAAAAAAAAAIAAAAAAAAAAAAAAAAFBwADAgAAAAAAAAAAAAAAAAAAAAANAA8AAAAAAAAABgAAAAAAAAAAABAAAAAAAAAAAgAHAAAAAAAAAAIAAAACBQAHAAAAAAAAAAAAAAoAAAAAAgcAAAAAAAYABQAAAAAAAAAAAAAABgAABwIAAAAAAAAAAAMAAAAAAAAAAAAAAAEAAAAAAAAAAAAAAAAAAAAAAQcAAAAAAAAAAAABAAAAAAAKBRoAAAcAAAAAAAAAAAAAAAACAAAaAAAAAAAAAAAAAgUAAAAAAAAAAAAAAAAAAAAAAAAFAAAAAAAAAwAAAAAAAAEAAAAABgAAAAAAAAAAAQAAAQAARwAAAAIAAAAHAAAAAwAAAAAAAAAAAAAAAAAAAAAkAAADAAAkAAAAAAAAAAAAAAAAAAAAAAAAAAIBAAUAAAAAAAAAAAAAAAAFIgMAAAAAAgAAAAAAAAAaAAIAAAAAAAMAAQAABwACAAAAAAAKAAUAAAIAAAAAAAACACIAAAACAAAAAAAAAAAaJQAAAAAAACUAAAAAAAAAAAAAACQAAAAAAAAAACIAAAAAAgAAAAAAAAACAAIAIgIAAAAAAAAAAAAAAAAaAAAAACQAAAAAAAEEABoAACIAAQYAAAAAAAAAAAUAAAAAAAACAAAAAAICAAAAAAAHAAAAAAEAAAAAAAACAgAAAAAAAQIAAAAAAAAAAAAAAAAAAAAAAAACAAAAAAIaAAACACQAAAAAAgAAAAAAAAAAAAUiAQAAAgIAAAAAAAYAAQAAAAUGAAAAAAAAAAAAAAAHAAACAAABRwACAAAAAAIAAwUAAAAAAAAAAAUCAAAAAAAAAAAAAAAAAAAFAAAAAAAAAAEAAgAaAAAAAQAAAAMABwMAAQAAAAUABQIAAAAAAAcAAgAAAAAAAAcAAAADAAACAAACAAAAAAAAAAAAAwcBAAAAACQAAAAAAAAAAgACAAAAAAAAAAAAAQAAAAAAAAAABQAAAAAAAAAAAAAAAAAAAAAAAgIAAAAFAAAAAAAkAAAAAAAAAAAAAAAAAAAcAAAjAAACAAABACIAACQAAAUAAAAFAAAAAAAAAAAAAAABAAAAAAAFAAIAAAIAAAMAAgAAAAAAIgAAAgAkAAAAAAABAAAAAAADAAADBAEAGgACAAAAAAAAAEgACwAaAAAAAAAAAAAAAAAGAAAAAAAiAAIBAAAAAAAAAAIAAAAABwABAAIAAgAiAAAAACIAAAAFAAEFAAACAAgBAAAAAAAAAAAAAAAAAwAAAAAAAAAAAAAAAAAABQAADAAAAAAAAAAAAAAAAAUBAAAAAAAiAAAAAAAAAAAAAAAAAAEFAAIAAAAAAAAAAAEAAAAHACIBAAACAAAAAAAAAAAAGgAAAAAAAAAAAAwAACIAAAAAAAAAAAAAAwAAAAAAAAAAAAAKAAAAIgAAAA0ABwAAAAcAAAAAAAACAAAAAAAAAAAAAAwAAAAAAAAABwQAAAAAAAAAAAAAAAoAAAEAAAAAACIAAAAAAgAAAAAAAAAAAAAAAAAAAAAAAAAAAAAAAAICAAAAAAAAAAADAAgABwAAAAAAAAAAAwAAAAAAAwAAAAAAAAAAAAIAAAAAIgAAAAAAAAAHDQACAAACAAAADgAAAAEFBwAAAAADARoaAAACAAAAAAAAAAAAAAcAAAAAABoHAAAAAAAAAAAAAAAAAAADAAIAAgAAAAAAAAAABQAAAAAAAAAAAAAAAAAAAAAAAAAkCAAAAAAAAAABAgAAABoAEAAAAAANAAAAAAAkAAAaAAAAAAoFAQAAAAAAAAAAAAAAAAwAAAAAAAAAAAAAAAAAAAAAAAAAAAACAAAAAAAAAAAAAAUDAAAAAAAAAAAAAAAABQAFAAAAIgAAAAAAAAAGAAAAAAAaAAAAAAAAAAAAAAAHAAEAAAAkAAAAAAAAAAUAAAAAAAAAAgAAAAACAQAAAAAAAAAAAAAAAAElAAUCAAAAAyQAAAAAAAAAAAAHAAAAAAAAAAAAAAACAQADAAAAAAAAAAAAAAAAAAAAAAAAAAcAAAAAAAAAAAAAAAAAAAAAAAAABgAAAAQAAAAAAAAAAAAAAAAAAAAAAAAAAAAAAAADAAAAAAAABwAAAAAAAAAAAAAAAAcAAAAABwUFJAAAAAAAAAcABAAAAAIAGgAAAgAABQAAAAACBwABAAAAAAACAAAAAAAAAAAAAAAAAA0AAAACAAAAAAAAAgAABwAAAAAAAAMAAAAABQAEAAAAAAMAAAAAAAEAAAAAAAAAAgAAAAAAAAAAAAAADAAAAAAAAAAAAAAABQAAAAAAAAAAAEcAAAAAAAACAAAAAAAAAAAAAAAAAAAAAAAAAAAAAAAAAAAAAAANABoAAAABAAAAAAAAAAAAAAAAAAABAAAAAAAAAAAAEgAAAAAAAAAAAAAAAAAAAAACAAAAAAIBAgACGgAAAAAAAAAAAAAAAAAHAAAAAgYAABoAAAIAAAAAAAAAAA0AAAAAAAIAAAAAAAAAAAAAAAAAAAIAAAAAAAAAAAUFDQAAAAAFAgAAAAAAAAABAAAAAAAMAAcAAAAAAAAACgAADQAAAAAAAAAARwAAAAAAACIABAAKAAQFGgAAAAAABQEOAAAAAgAAAAAAAAAAAAAAAAAAAAUAAAAAAAcAAAAQAAANAAAAAAAAAAAAAAAAAAAAAAEAAgAAAgAAGgAAAAAAAAIAAAUFAAAAAAAaAAAAAgAAAAAAAAAAAAAAAAAAIgAFAAAAAAACAwAAAAAAAAAAAAAiAAAAAAAAAAAAAAAAAAAAAAEBAAAAAAANAAAkAgAHAAIACgAAAAAABQMAAAIAAAAAAAAAAAAAAAAAAAAaAAAAAgANBgAAAAIaAAAAACUHAAEAAAAAAgAAAAAABQAAAAAaGgYAAAUAAAAAAAAAAAAAAQAAAAAADQAHAAAAByQDAAAAAAEAAAMAAAAAAAACAAAEAAAAAQAAIwEFAAAAAgACAAAAAAAAAAAAAAAAAAAAAAEAAAAAAAAAAAAAAAAABQAAAAAAAAAAJAAAAAAAAAAIAAAABwAAAAAAAAAAAAAFAAAAAAAAAAAAAAAAAAAAAAcAAgAAAAAAAQAAAAAAAAAAAA0AAAAAAAEAAAAAAAAAAAAAAAAABA4AAwAAAAAAAAAAAAAAAAMlAAIAAAAIAAAAAgAABQACAAAHAAAFAAAAAAAAAAAAAAAAAAAABQAAAAAAAAABACQAAAUAAAABAAAACgAAAAAAAAAAAAAAAAAAAAAAAAAAAAAAAQACAAIDAAAAAAABAAAaAAADAAUHAAAAAAAAAAAAAAAAAAAAAAEAAAAAAAAAGgAABwIAAAAAAQAAAAUlAAAJAgAAAAAAAAIEAAAAAAAFAAAABQIAAAcAIgwAAAgAAAAAAAAAAAAAAAAAAAQAAAAAAAICAAAAAAAHAAAAAAAkBQAAAAAAAAAAAAAAAAAAAAMAAwUAAAACIgAAAAAAAAADAAUAAgABAAAFAwgAAAAAAAAAAAAAAAAACAAAAgAAAgAAAQAAAAAAAAAAACIAAAUCAQIFAgAFJAAAAAAAAAAAAAAAAAAAAAAAAAAAAAAAAQAAAAAAAAAAAAAAAAAAAAMAAAAiAhsAAAAKAAAAAAAFAgAAAAAAAAAAAAAADQAAAAAiAgAAAAUAAAACBQAAAAAAAAEAAAAAAAAkAAIiAAAAAAAAAAAAJAAAAAABAAAHAgAAAgAAAAUAAgAHBgUHAQAAAAUAAAAABQAAAAcAAAAFAAAAAAAAAAAAAAEAAAAAAAAADQIABQQAAAAAAAAAAAAAAAAAAAQAAAAAAAAAAAAAAwAAJAAAAAAAAAACAAAAAAAABwAAAAAAAAAAJgAAAAUAAAAAAAAAACQAAAAAAAAAAAACAAEAAAIAAAAAAAADAgAAAAYAAAAAAAAAAAAAAAAAAAAAAAAAAAABAAMAAAAAAgAKAAAAAAAAAAUBAAAAJAAAAAAABw0GAAAAAQANAgAHAQAAAAAAAAIAAAAFAAAAAAADBwAABwACAAAAABoAAAAAAAAAAAAAAAAAAAUAAAACAAEBAAACAAABAAAFAAAABAAAAAEBAAAAAAAkAAAAAwAAAAEAAAAAAAEAAAAAAAEAAgAQBQAAAQAaAgAHAAAAAAAABQAAAAEAAgAAAAAGAAACAgAAAAAAAAIAAAAAAAAAAAAAAQAADQMAAAAAAA0AAgAAAAUHAAAGAAAAAAAAAAYAAAAAAAAAAAAAAAIAAAAAAAAAAAAAAAAHAAAAAiIDAAcAAAAAAAAAAAAAAAAAAgAAAAQAACQAAAAAAAAAAAAAAAAAAAAAAAACAAAAAgAHAAAAAAAABwAAAAAAAAAAAAAPAAIAAAAAAAAAAAEAAwABAAUAAAAAAgAAAAAAAAAAAAYABwEAAAYABQcAAAUAAAAAAAAFAAACAAEAAAIfAAAAAAAAAAAAAAAPAAcAAAEAAA0AAAAABwAAAAAAAAAAAA0CAA0AAAAAAAAAAAAAAAABAAAAAAAAAAAAAAAAAAIAAAANABoAAAADAAAAAAAAAAUFAAAABQIAAQAAAAIAEgAAAAMAAQAAAAcAAQECAAUAAAAAAAAaBwEAAAcHAAoABgAADAEDBwEAAAAAAgAAAAAFAAAAAAAAAAAABQAABwAAAAAAAAAAAAAAAwAAAAAAAAAiAAcAAAAHAAYAAAcAAAEAAAAAAAAABQAAAAAAAAACAAAAAAAAAAAAAQAABQAAAAAACQABAAAAAgQAAAAAAAAAAAAFAAAAAAAHAAAAAAACAAEAAAAAAAAAAAAAAAwAAAAABQAAAgAAAAEAAQAAAAAAAAIAAAAfAAAAAAAlAAAADAIABwAAAAAHAAAAAAAAIg0AAAAAAAAAAgUAAAANAQAAAAAABwAAAAAAAAAAAAUAAAAABwAABwAAAAAAAAACAAAABwAAAAAKAAUAAAAAAAAAAAAAAAAAAAAAAAAAAAAADAAAAAAADQAHAAAAAAIAAAACAAIAAAAAAAAAAAAAAAAAAAAAAAAAAAcAAAAAAAAAAAAABQcBAAAAAAAADQ0AAAANBQoAAgEHAAMAAAUAAAAAAAAAAAACBQAAAQAAAAAAAAAAAgAAAAAAAAUAAAAAAAAAAAAADAAABwAkACIDAAAABwAAAAAAAgAMAAcAAAYAAAIAAAAHAAAAAAEAAAAAAQABBwECAAAAAAAaAAACAABHAAAAAAIAACQAAAAAAgAAAAAaGgAlAAAAAQAAAAUEAAAAAAMBRwAAAAAAACUAAAIAAAAAAAAAAAAAAgABAAAAAAQAAAAAAAAAAQAAAAAAAAEAAAIAAQUiAAAAAQEAAAAAAwAAAAAAAAUAAAAAAAAAAAAAAAABAAAAAAAAAAMAAAACAAAAAAAAGgAAAAAiAAAAAAcGBQUHAAIAAAAAAAAABQAAAAAAAAAAAAABAAAAAAAAGgAAAAAAAAAAAAAAAAAAAAAAAAAAAwAiAAEAACQFAwAAAAAAAAAAAAMAAAAAAAAABwACAgAAAAAAGgIAAAAAAQAAAAAABQAAAwIAAAAAAgAAACQAAAAAAAANAA0AAAAABQAAAAAIAAACAAABAQ0AAAACAAUABgAAAAAAAAAAAAAAAAIAAAAAAAADAAAAAAAACAABAgUAAAAAAAAAAAAAAAAAAAUBAAAAAAAAAAAAAAAAAAACAAAAAAAAAgIAAAIAAAEHAQAAAQAAAAACAAkAAQUAAAAFAAACBAAAAwAAAgAAAAAAAgAAAAADAgUAAAAAAAcAAAAAAAAAAAAAAAAAAgAAAQAAACIAAAAAAAMAAAADIgAAAAIAAAAAJAAAAAAAAgAAAAAFAAIAAAcAABoAAAAABAAAAAAAAAAAAAoAAgAAAAAAAAAAAAAAAAAAAAAAAAIAAAAAAAAAAAEFAAAAAAAAAwEAAAAAAAAAAAAAAAAADQIAAAAAAgIAAwUAAAAAAAAAAAAAAAAAAAAAAAAAAAAAAAUAACQAAAAAAAAAAAAAAAAAAAAAAAAAAAAAAAEAAAIAAAAAAAAAAAAFAAAAAAAABwAAAAAAAAADAgAAAAAAAgAAAAAAAwAAAAAAAAAHAAAAAAAAAAAAAAAiAAAAAAAAAAAAAAAAAAAAGgAAAAAAAAIAAwAAAAAAACYAAwAABQAAAAIAAAAABwpMAAAAAAAAAAACAAAAAAADAAAAAAAAAAAAAAAABQEAAAAAAAMAAAAAAwAAAgAAAAAAAAAEAAoAAAAAAAAAAAMAAgAAAAcAAAAAAAAAAAAAAAAAAAAHAAMAAAAFAAAAAAUAAAAAAAAAAAAAAAAAAAAAAAAAAAAAAAABAAAAAAADAAAAAgAAACIdAAAAAAcHAAAABwAAAAAEAAAAAAAAAAAkAAAAAgAAAAAiAAAAAAIAAAABAAAAAAAAAAAAAAAEAAAAAAACAAAAAAAAAAAAAAAAAAAEAgAHAAUADQAAAAAAAAAAAAAADQAAAAAEAAAAAAAACAAAAAAAAAEABQAAAAAABwEADQAAAAAAAAAAAAAAAAAAAAAAAgAHAAAAAAAAAQANAAAAAAUAAAAAAAAAAAEAAAYCACQAAAAAAAAAAQACBwADAAAACQAAAAACAAAAAAAAAAAAAQAAAAAAAgAAAAAAAAAAAgAAAAYAAAAAAAAHAAAAGgAAABoAAAAAIgAAAAQiHAMAAAAAAAAAAAAAAAAAAAAaAAcFAAAAAAAHAAAAAAEAAAAAAAcAAQAHAAAAAAAAAAANAAAAAAIAGgAAAAAAGgIAAAAAAAAAAAAAAAAAAAACEAAAAAEAAAAAAAAAAAAAAAgAAAcAAAcAAAAAAAcAAAANAAAAAAAAAAAAAAIaAAAAAAAAAAAAAAIAIgAAAAAABgAAAAoAAAAAAQAAAAcAAAAAAAAAAAAAAAIAAAAAAAABAAAAAAAAAAAAAwAAAAAAAAAAAAAAAAAAAAMAAwAAAAAAAAAAIgAAAAEAAAAAAAAAAAAAAAIAAAAAAAIAAAAAAAAABQQAAAAFAAcSAAAAAA0AAAAAAAAAAAICAAAAAwAAAAAAAAAAAAAAAAAAAA0AAAAAAAAAAAAAAAAiAAAAAAACBwAAAAAAAAwAAAIAAQAAAAAAAAAAAAAAAAMBAAAAAAAMAAAAAAAAAAACAAIAAAAAAAcBAAAAAAAMAAAAIgACAAAAAAAAACQAAAAAAQAAAAEAAAAAAAAAAAAAAAAHAgAABAAAAAAAGgAAAAAAAAACIgAFAAAAAAABAAcBBwAHAAAAABoBAgAAAAAAAAAAAAACAAEBAgAAAAAiAAAAAAAAAAAAAAAAAAAAAAIAAAAAAAAAAAAAAAAAAAAAAAAAAAAAAAAHAQAAAAAAAAAAAAAAAAAAAAEAAAAlAAAAAAAAAAAAAQAAAgAAAAAAAAAABQAAAAIAABoAACQAAAAAAAAiAQAkAAcAAAADAAADBQAAAAQKAAAAAAcaAAACAAACABoABwADAAAAAAAAAAAAAAAAAgAAAAAaAAIAAAAAAAAAAAAAAgAAAAAAAAAAAAAAAAADAAAAAAAAAAcAAAABAAACAA0AAAAAAAAHAAAAAgAAAAAAAAAAAAAAAAAAAAAAAAAAAgAHAAAAAAEAAAAAACQAABoAAAAAJAAAIgAAAAAAAAAAAwAAAAcAAAAAAAAAAAAAAAAAAAAAAAAMAQAAAAAAAAQAAQoAAAAAABoAAAAAAAIAAQcAAAYAAAAAAAAAAAAAAAAAIgcAAAAAAAANAAAAAAQAAAAAAAAAAAAAAAAAAQAAAAUAAAAAAAAAAAAAAQAABQQAAAEAAEcABwAAAAAAAAAAAAAAAAAAAAEAAAAABwAAAAACAAAAAAAHAAAAAAMABwwAAAUAAAAAAAAAAAAADAAAAAAAAAAAAAAAAAAAAAAAAAAAAAAAAAAkGiQAJAMAAAACAAAAAAAAAAUAAAAAAgAAAAIAAAAHBAUAAAUAAQAAAAAAABoAAAAAAAAAAAMCAAAAAAAAAAAlAAAAAAAAAAAAAAACAAAHAAANBQAAAAAHAAEABQIAAAAAAAAAAAAAAAAAAAAAAAIAAAAAAAAAAAAAAAAAAAAAAAAAAAAAAAAAAQAAAAAADQAAAAAAAAAAAAAAAAAAAAAHAAAAAAMAAAAAAAAAAAAAAAAAAwAHAAAAAAAHAAAAAAAEGgABAAAAAAEAAAAAAAAAAAAAAAAAAAAiAAAAAAAAAAACBwAAAAAAAAAAACQAAAAMAAAAAAMDAAUAAAAAGgcAAAAAAAMAAAAAACQAAAAAAAAAAAAAAAAAAAACBwAAAAUAAAMAAAAAAAAAAAAAAAMAAAAAAAAAAAAAJAAAAgUAAAAAAAAAAAAAAAAAAgAAAAAAAAAAAAACAAAAAAwAAAAAAAAAAAAAAAIAAAAAAAUABwACAAUkAAAAABoAAAAHAAACAAUCAAAAAAADJQAAAAIAAgAAAAACBQAAAAAAAAAAAAAiAQAAAAAHAAAHAAAAAAAAAAAAAAAABQAAAAAAAAAAAQAAAAcAAAAAAAABAAACAAAAAAAAAAAAAAADAAAAAgADTAAAAQAAAAAAAAMAAAAAAAAAAAAAAABHAAAAAAAAAAAAAgAAAAAAAAAAAAAAAAAAAgAAGgAAAAAMAAACAAAAAAAAAAACAAADAgAAAAAHAAAAAAIAJAAAAAAAAAACAAAAAAAAAAAAAAAAAAAAAAACAAAAAAAAAAAAAA0CAA0AAAIAAAcAAAAAAAIAAAAAAAAAAAIFAAAAAAAFAAAAAAAAAAAAAAAAAQAAGgAAAAAAAAAiAAAAAAAAAAAAAAAAAAkAAAAAAAAAAAAAAAAABQAAAgAAAAAAAAAAAAAAAAAAAAAAAAcAAAAAAAAkAAAAAAAHAAAAAAAABgACBwADAAAAAAAAAAAAAAUAAAEAAAAAAAAAAAEAAAAAAAkfAAAAABoAAgAaAAAAAAAAAAAAAAAAAAAAAAAFAAAAAAAAAAUAIgcAAAAAAAAAAAAHAAAAAAAHAAAAAAAAAAAAAAAAAAABAAAiAAAAAAAAAAAAAAAFAAADAAAAAAAABQAAAAEAAAAAABoABwAAAAAAAAAAAAAAAAAAAAAAAAAAAAADAAANAAQAAAAAAAAAAAADAAAAAAAAAAADAQAAAAAAAwAAAAEHAAAAAgAAAA0AAAAkBwAAAAAAAAAAAAcAAAAAAAUFAAAAAAAAAAAAAAcAAAAAACQAAAANAAUAAAAAAAAAAAcDAAAHAAAAAAAAAAAAAAAAAAAAAAAAAAAAAQAAAAAAAAAAAAAAAAMAAgAAAAAAAQAAAAAAAAAAAAcAAAMCAAAAAAAACgAAAAAABQAAAAAAAAAADQIAAAQAAAAAAAAAAAAAAAAMAAAAAAAFAAACAAAAAAAAAAAAAAAAAAAABQAAAAAAAAAAAAAAAAAAAAAAAAAAAAAAAAUAAAAAGgAAAAAAAAACAAAHAAAAAAAAAAAAAAgAAAAAAAAGBwAaAA0FAAICAAAAAAAABwcAAwAAAAAAAAAHAAAAAA0AAAAAAAAAAAAAAAEAAAAAAAAABwAAAAIAAAADAgcAAgAAAAABAAEHAAAAAAABAAAAAAAAAAMAAAEAAAcAAAMAAAcAAAIAAAUHAAAAAAAHAAEAAAAAAAAAAAAjAQAAAAAAAAAABQAAAAAABAAAAAAPAAAAAAAAAAAAAAAkACIAAQAAAAAAAAACIgsAAAAAAAAAAAAAAAIAAAUAAAACAwAAAAACAAMAAAABAAcAAAAAAAAAAAAAAAEAAAAAAAEAAAAAAA0FACIFAAAAAAAiBwAAAAAABwAAAAAAAAAABwAAAAAAAAAAAAANAAAAAQAHAAcAAAEAAgAAABoAAAAAAAAAAAABBQAAAAAFAAAAAAAABQUAAAAAAAAAAAAABQAAAAABAAAAAAAAAAAAAAAABQIAAAAABgACAwAAAAAAAAAAAAAAAAAAAAAAAAAAAAAAAAAAAgAABQAAAAAAAAAAAAAAAAAAAAAABwAAAAAAAAAaAAAAAAAOAAANAgIAAAAHAAIBAAEAAAABAAAABQAAAAACAAAJAAMAAAACAAAHAAECAAAAAAIAAAAFAAAAAAAAAAAAAAABAgAAAAAaAQACAAIAAAAAAAACAAcAAAAAAAAAAAAAAAAAJAAAAAAAAgAAAAAAAAAEAAAAAgIAAgIAACIAAAIAAAACAAAADQADAgAAAAAAAAAAAAAADAcAJAABAgAAAAAAAAADAAACAAAAAAAAAAAAAgAAAAAAAAAAAAAAAQMAAAAAAAABAAADBAAAAAAAABoAAAAAAAAAAgAAAwAAAB8AAAAAAAAAAAAAAAACAAMAAAAAAAAAAAAAAgABAAAAAAAAAAAAAAAAAAAaAAAFAgAAJgAAAAACAAMAAAAAIgAAAAAABQAAAAAAAAAAAAAAAAAABQIAAAAAAAAAAgAAAAAAAAAAAAACACIAAAIAAAAAAAAAAwAAAAAAJAICBwAAAAAABQAADQAOAAAAAAAAAAAAAwAAAAAAAAAAAAQCAAIAAAAAAAAHAAMAAAQAAAACAAAAAgAAAAAAAAACJQAAAAUAAAAAAAABAAAAAQAAAAAAAAAAAAUCAAAAAgAAAAMDAAABAAAAAAIAAgAAABAAAAAAAAAAAAAAAgAAAAAFAAIFAAAAAAAAAAAAAAAAAgECJAAABQACAAACAAAAAAMAAAAAAAAAAAAAAAAAAAAABwAAAAAAAAAFBQAAAAAABAAAAAAAAAAAAwAAAAAAAAAAAAAaAAAAAAACACQNACIABQAAAAAAAAAAAgAABwAaAAAAAAAAAAAAAAUNAAIAAAAAAAAAAAADAAIAAAAAAAAACiIAAAMAACQAAAAAAAAAAAIAAAAAAAAAAAAAAAAAAAAAAAAABQAAAAAHAAAAAAAAAAACAAgHAAAAAAAAAAAAAAAAAAAAAAAAAAAIAAAAAAAAAAUAAAAAAAAAAgABAAAAAAAAAAAAAgAAAAAJAAAAAAIDAAATAQAAAAAAAAAAAAAHAAcAAAAAAAAAAAAABwUAAAAkBwcAAAAAAAAAAAAAAAAAAAAAAAAAAAAAAAAAAAAAAAAAAQAAAAAABAAAAAMAAAAFAAAAAwQKAAAAAAAAAAAAAAAAAAAHAQUAAAAAJAAAAAAAAAAAAAAAAAAAAAAAAAAaAw0AAAAAAAIABQAAAAAAAAAAAAAAAAAAAAAAAAIAAAAAAAAAAA0AAAAABQAAAAADBQAAAQAAAAADAAAAAAAAAAAAAAAAAAAAAAAAAAAAAAAAAAAAAAAAAAMAAAAAAAAAAAAOAAABAAAAAAYABwAAAAAAABoAGgAAAAAACQ0AAAIAAAAAAAAAAAAAAAAAAAADAwAAAAAAAAAAAAAAAgAAAAAAAgAAAwAFBQAAAAADAAAAAAIAAAAHAAACAAACAAAAAAAFDQEADQAjAAAHAAAAAAYCBQAAAAAAAgAAAAAAAAAAAAAAAAAAAAACAAAAAAAkAAAAAAAAAAIAAgAAAAAAAAUAAAAAAAAcAAABAAAAAAAAAAIAAAAAAAMAAAAAAAAAAAAAAAAAAAAAAAAAAAAAAAcAAAAABwAFAAAEAAAAAAAAAgAAACQDAQAAAAEABwAAAAcABQACAAEAAAAAAAcAAAAAAAAAAAAAAQAAAAAAAAADAAAAAAAABQAAAAANAAAAAAAAAgAAAAAAAAIAGgAAAAMFAAAAAAUAACQAAAACJAAAAAACAAAAAAAAAAAASAAAAAAAAAUAAAAFAgcAJAAAAAAAAwACAAAAAAABAAAAAAAAAAAAAAAAAAAAAgADBQAAAAMAAAAAAAAABQADBwAiAAUkAAQkAAcAAwAABQAAAAAAAAUAAgAIAAACAAAAAAAAAAAAAAAFAAAAAAcAAAAAAAAAAAADAAAHAAAAAAAAACQAAAACAgwAAgAAAAAHAAAAAAAAAAAAAAAAAAAAAAUAAAAAJAIABQAAAAcAAAAAIgAAAAAAAAAaAwADAAAAAAAAAgADAwAAAAAAAAAAAAIAAAAAAAAAAAAkAAAAAAACAQAAAAAAAAAAAAMkAAAAAAAAAAAAAAAAJQAAAAAAAAAAAAAAAAAAAgIAAAAAAAAAACQAAAMAAAAABwcAAAACAAAAAgAAAAAAAAAAAAAAAwcADQAAAAAJAAAAAAAAAAADACIAAAACAgIAAAAAAAMAAAAAAAcAAAIAAAAAAAABIgAABQIDAAQAAAAAAAIAAAAAAABHAAAAAQAAAAAAAAAKAAAAAAAAAAAFAAAAAwAAAgAAAAAAAAADAAAAAAAAAAAAAAQAAAAAAAAlDQAAAAAAAAAAAgAAAAAADQIAAAAAAAAAAAEDAAACAwIAAAAAAwAAAAMAAAAAAAAAAAAAAAAAAgAAAAMAAAAAAAAAAAAAAAAAAAAAAAAAIgAAAAAAAQAAAAAAAAMHABoAAAAAAwAAAAAAAAIAAgAHAAAADQEAAgAAAAAAAAAAAAAAAAIBAAADAAAJAAAAAAAAAAAAAAAAAAAAAAAAAAAAAAAAAAAAAAAAAwAAAAAAAAACAAAAAAAAAAAAAAAOAA0AAAAAAAACCgACAAcHAAAAAAAHBQAAAAAAAAAAAAAAAAAAAAAAAAAAAAwAAAAAAAABBwAAAAAAAAAAAgAAAAAAAwAAAAAHAAAAAAAFAwAAAAAABwcAAAAAHAAAAAAAAAAAAAAAAQAAAAAAAAAAAAAIAAUAAAEFAAAABAAAAgAAAAAAAAAAAAAAAAAHGgAABwAABwAAAAAIAAAAAAAAAAAAAAciAAcABwAAAAAAAAAAAAIAAAAAAAAAAAAAAAAkAAUAAAAAAAAAAAAAAAUAAgAAAAAAAAAAAAAAAAAAAAACAAIAAAAAAAANAAAAAAAaAAAAAAAAAAAAAAAAAwAAAAAAAAAHBAAAAwAAAAAAAAAAAAAADQABAAAAAgAAAAIAAAAAAAAAAAAABgIAAAAFAwAADQEFAAAAAAAAAAAAAQAAAAAHAAAAAAAHAAAAAAAAAAAAAAEFBgAAAgAAAAAAAAAAJAAJAAAHAAAAAAAAAAAABQAAAAAAAQAAAAAAAAAHAAoAAAAaAAAAAAAAAB8AAAAAAAAAAAAAAAAAAAAAAAADAAYCAgAAAwABAAEAAABOAQAAAAAAAAkAAAAAAAEAAAAAAAIAIgAAAAEAAAAAAAAAAAAAAAAAAAAAAAAAIgAAAAAAAAAAAAAAAAAAAAAAAAAAAAMAAA0AAAUAAAAAAAAAAAAAAAAAAQAABRoAAQAAAAAAAAAAAAAAAAAAAQAAAAAAAAABAAUAAAAHAAAFAAAAAAAAAAAABQAAAAADAAAFAgAAAAIAAAAAAAADGgAAAAAAAAAGAAAAAAABAAAAAAAADAAAAAAAAAMiBQAHAwUAAAAAAAcAAAACAwAAAAAAAAAABQAAACIAAAAAAAAAAAABAAAAAAAAAAECAAAAACIAABoAAAAAAAAAJAAABQAAAAAAABoAAAAAAQAAAAAAAAwHAAAAAAINAAAABQEAAAECAAAAAAAAAAAABQAAAAAAAAAAAAAAAAAAGgIAAAAAAAAABwEAAAAABwAAAAAAAAAABwAkAAQAAAAABQAaBwUAAAAFAAAAAAAAAAAiAAAAAAAAAAAAAAAAIgAAAAAAAAAAACIAAAAAAAAAAAAAAAAABQAADQAAAAAAAAAAAAAAAQAAAAABAAAAAAAAAAAAAAAAAAAAAAcAAAAAAAAAAAAABgAAAAAAAAAAAAAAAAAAACQAAAAAACIAJA0ADQAABwAAAAAAAAAMGgAAAAAABQAAAAAADAAAAAAAAAAAJAAAAAABAAAAAAABAAACAAAAAAAAAAAAAAAAAQAAAAAAAgAAAAAAACQAAAAAAAAAAAAAAAAAAAAAAA0AAAAAAAAAAAAAAAAHBwAAAAAaAQIBAAAaAAAAIgAAIgMAAgAAAAcAAAAkAAAIBQAbAAAAAAACAAAAAAAAAAAFCgAAAAAAAAAADQAAAAcCAAAAACIAAAAADAAAAAAFBAAAAAAAAAAAAAAAEAAAAAAAAAAAAAAAAAACAAAABQAkAAAAAAAAJAAAAAAAAAAABwAAAAAAAAANAAAkCgAAAAEiAAAAAAADAwAFAAUAAAAAAgAGAAAAAAAAAAMDAAADBQAAAwAAAAoFAAAAAAEDAAIABQAAAAAAAAAACgIHAAAAJAADAAAAAAAAAAEAAAAAAAAAAAAAAAAAAAAAAAAAAAAFAAAABQ0AAAEACAAABAAAIgAAAAACAAAAAAAAIgAAAAEAAAAAAAAAAAcAAAIAAAAAAAAAAAAAAAEAAAAAIgUAAAAAAAIAIgEAAAAAAAAAAAAAAAACAAAAAQAAAgUAAAAAAAEAAAAABwAAAAAAAAACAAAAAAAAAAAAAAAAAAAAAAAAAAAAAAACCQAHAAADAAAGAAciBQACAAAAAAAAAAAACgAHAwAAAAAAAAQAAAAiAAAAAAAAAAAAAAAGIgAAIgAAAAADAAAAIgAAAAAAAAAAAAAAAAAAAAAAAAAAAAwAAAAFAAAAAAcDAAAAAAAAAAAAAAcAAAAAAAACAAEAAAAAAwEAAAAACAAAAAAAAAAAAAIAAAAAAAAFAwAIAgAAAAANAAcAAAAIBQAAAAAAAAAAJAIABwAMJAAAAAAAAAMAAAAAAAAAAAAAAAAAAAAAAAAkACQDAAYAAAAAAAEAAAcAAAAAAAAAAAAAAAAAAgAAAAAAAAAAAAAAAAAAAAAHBQAAAgAAACUAAAIDAgAAAAAAAAAAAAAAAAAAAAIAAAAAAAIAAAAAAAAFDAABHwAHAAAAAAAAAAANACQADQAAAAAAAAAAAAAAAgAAAAAAAAAAAAAAAAAAAAAFAAAABAAAAAUAAAAAAgAABQAAAAAAAAAAAAAAAAUAAAAAAAAAAgAAAAAAAAAAAAAAAAEAAAAAAA0AAAAAAAAAAAUAAgcABwAAAQACAAAAAAAADQEAAA0AAAMAAAAHAwAAAAcAAAAAAAcCAgEAAAAAAQAAAAAAAAAAAAsAAAAAAAAAAAAiAQAABwAAAAAAAAIADQIAAAAAAAAAAAAAACQCAAAABwAAAAIAAAAAAB0AAAAAAAAAAAAAAAoAAAAAAAMAAAMAAAAAAAAAAAAAAAAjAAICAQAAJAAAAAIAAAMNAAAAAAAiAAYFAAAAAAABAgUAAgAAAAAAAAIAAAAAAAAAAAAAAAEAABoAAQAAABoBAAAAAAAAAAAACgAAAAcHAAAAAAAAAAAAAAAAAAEkAAAAAAAAAAAAAAIAAAcAAQAAAAAAAAAAAAAABQEAAAAAAAAAAAUAAAIAAAAAAgAAAAAAAAAAAAAAIgAABwIAAAAAAAAkAAADAAAAAAABAAAAAAACAAEAAgAAAAAABwAAAAAAAAAAAAAAAAcAAAAAACQAAgABAAAAAAAHBAEAAAAAAAcAAAAFAAABAAAAAAAAAAAFAAADAAIABwAAAAAAAAAAAAAAAAAHAAAABQAAAQAFAAIAAAAAAAAAAAAAAAAkAAAKAAAAAAAAAAEAAgAaHwACAAAEAAAAAAAAAAAAACQiAAAAAAAAAAAAAAAAJAICCAAAAAAAAAIAAAAAAAAAAAAAAAAABwACAAAAAAcAAwAAAgAAAAAAACQAAAABAAAAAAAAAAAAAAAaAAAAAAAAAAAAAAAAAAAAAAAGAAAAAAAAAAAAAAcAAgAAAAAAAAAAAAADAAAAAAAAAAUAAAACAAAAAAEAAAENAAAAAAAAAAAHAAAAAAAAAAAFAAAAAAAACQAAAAAAAgAAIgAAAAAHAAAAAQIAAAAAAAAAAAACAAAFAAAAAAAAAAIAAAAAAAABAAAAAAIABQAABQAAAAAAAAAEAAAAAgACAAAABQIAAAAAAAMAACIAAgAFIgAAAAAAAgAkAAAABQAJJAAAAAAAAAAAAAAAAgAAAAAAAAAFAwAAAAAAAAAAAwAAAAAAAAAAKQAAAAAAAAwAAAMAAAACAAACAAAkBQAAAAAAAAAAAAAAAAAAABoATQAABAAAAAAHAAAABQIAAAEABQIABQIAAAACBgAEAwAAAAAAAAAAAAAAAAAAAAAAAAUBBQAAAAUAAgAAAgEAAAAAAAAAAAAAAAAkAAACAAAABwAAAAAAAAAAAAAAAAAAAAcAAAAADAAAAAAAAAAAAAAAAAAAAAAAAgUAAAAAAiQAAAAAAAAAAAAABQAAAwAAIgABAAgAAAAAAAAAAAAAAAAAAAAAAAAEAAAFAAAAAgACAAEAAAAMAAAAAAAHAwAAAAAAAAAABwADACIAAAAAAAAAAAAAAAAAAAAACAAAAAAAAAAAAQUAJAAAAAAAAAAAAAAABgAAAAAAAAAABwAAAAAAAAAAAQADAAAAAAIBAAAiAAAAAAAAAAAAAAABAAABAAAAAAAAAAAAABoAAAMCAgAAAAACAAAAAAgAAAAAAAAAAAAHACQAAAAAAAAAAAAAAAAAAAAACgAaAQEACAAAAQAACgAAAAAABQABAAADAAMAAAcAAQcAAAAAAAAAAAIAAAICAwAAAAAKAAAAAAAAAAAAAAAAAwIAAAAABQQAAAEAAAoAAQAAAAAAAAAAAAAAAQAAGgAMAAAAAAIAAAIHAAAABAAADgAAAAAAAAAABwAAAAcAAAAAAAAAAAAAAAAFAAAAABMABAMFACQAAAAAAQAAAAAAAAAAAAAAAQABAAEAAAAAAAAAAAAAAAAAAAAAAAAAAAABAAAAAAAAAAAABwAAAwAAAAAAAAAAGgMAAAAAAAIAAAAAAAAAAAAAAAAABQcAAAAAAAAAAAAAAAwAAAAAAAAKAAAABwAAAAAAAAAAAAAAAAAACQIAAAACAAAAAAAAAAUBAAIAAwAAAQAAAAAaAAUAAAAAACMAAAYAAAAAAAAAAAAHAAAAAAAiBwAABQAABwAAAAcAAAAkAAMAAgACAAACAAAHAgAABQUAAAAAAAMAAAACAAAAAAAAAAAAAAAAAAAAAAAAAAAkAAcAAAAAAAAAABoAAAAAAAAAAgUGAQQAAAAAAAAAAAEHAAAAAgAAAAAAAAAAAAAAAAIAAAYAAgAABQAAAwAABQAfAAAAAAAAABIAAAAAAQAKAAEAAAAAAAAAAAgCBwAAACIAAAAAAAACAAIABiQFAgAAAAoAAAAkAAAAAAAABQAAAwAAJAAAAAAAAAADBAUBAAAAAAAAAAAAAgAAAAAAAgAAAAUAAAAOAAAAAAAAAAAiAAAAIgIEDQAAAAAAAAAAAgAAAAAAAwAAAAAAAAIABQACAAAAAAAAAAAAAAUAAAAIACUAAAAAAAAAAAAAAgAAAAAAAAAAAAAAAAABAAAAAAIAAAIAAAAAAAAABQAAAAAFAAAAAAAAEQABBwAAACQCAAABAAAAAAEDAAAAAAAAAQAaAAAABwACAAIAAAAABgAAAAACAAAAAAEAAAAAAAACAAUAAAAAAAAAAAAAAAAAAAAAAgAAAAcAAAAAAAAABwAAAAEAAAAAAAAAAwACAAUAAAAAAgAAAAUAAAAAAAAAAAAAAAAAAQAAAAAAAAAAAAAAAAAAAAAAAAAAAAAAAAAAAAAAAAUAAAAEJAAAACQAAAAAAAAAJAAAAAAMAAAAAAAAAAUDCAAAAAAAAAAAAQAABgIAEgAAAAAAAAAAAAAAABolAAACAgAAAAACAAAkAAAAAAACAAAAAAAAACIFAAADDQAABQAAAAAAAAAAAAAAAAAADQIAAwAAAAAABwABAAAAAAAAAAYCAAAFAAAAAAAAAAMABQAAAAAAAAAAAAAHAAIAAAAAAAAAAAAaAAAAAAAAAAAAAAAAAAAAAAAAAAAAAAAABQIAAAEAAAIAAgAAAQAAAAAAAQAACAAEBwAAJAAABwABAAcAAAUNAAcAAAAAACMAAAAABQAAAAcBIg0AAAAAAAAIAAAFAAAAAAAAGgAAAAAAAAAAAAAAAAAAAAAAAAAABwAAJAAABQAAAAAAAAAHAAAAIgAAAAAAAAAaAAAAGgEAAAMAAAAAAAADAAAAAAEAAAAAAAMAAAAAAAAAAAAAAAAAAAAACgAAAAAAAgAAAAAAAwAAAA0AAAIAGgABBwAAAAAAAAAAGgAAAgAAAAAFAAAAAAAAABoHAAAAAAAAAgcAAAAAAAAAAAAAAAAAAAAAAAAAAAAAAAABAgEAAAACAAAAACQBAAAAAAAAAQAAAAAAAAAAAAUAAAAAAAAAAAAAAAAAAAAAAAAkAAAAAAAAAAAAAAAAAAAAAAAAAAADAAAHAAAAAAAAAAAACgkAAAAAAAAAAAAAAAAKAAAAAAUSAAAAAhoAAAAAAAAAAAAAGgAAAAUCAAACAAAAAAAAAQACABoHAAABAgAAAAAAAAAABQAlAAkDAAANAAAAAAAAAAAAAAAFAAAAAAAAAAAAAAIHAAAABwAAAB8AAgcaAAAAAAAAAAAAAAAAAAAAAAMADQACAAAAAAAAAAAAAAAAAAAAAAAAIgAAAAAAAAEAAAAAAAEAAAAAAwAAAAAAAAEAAAAAAAAAJAAAAAANAAAAAAAAAAAkAAAAAAAAAAAAAAAAAAAAAAAAAAAAAAAAAAAAAAAAAAAAAAAAAAAABQAAAAAHAAAAAAAABwAHAAAAAA0AAAAAAAAAAAAAAAcAAgAAAAAAAAAiABoAAAAAAAAEAAAAACIAAAAAAAAAAAAABSIAAAAAAAAAAAAAAAAAAAAAAAAAAAAAAA4BAAAAAAAAAgAAAAAAAAAAAAMAAAMAAAAAAA0AAAAAAAAAAAAABwAAAAAAACQAAAAAAAAAAAAaAAAAAAAAAQAAAAAAAAAAAAAAACIFAAAAAAAAACIADQAABwAAAAAAAAAAAAAAAAACAAAAAAIAABoAAAAAAAAAAAAAAAAABQAAAAAABwAAAAcHAAAkAAAAAAAAAAAAAAIAAAAAAAAAAAIAAAAAAAAABQAAAAEAAAAHAAAAAAAAAAAAAAAAAAAAAAkAAAAAIgAAAAAAAAAFAAAAAAAAAAAAAAAAAAAAAAIAAAAAAAMAAAAABQAAAAADAAAFBwAAAAENAAAAAAAAAAAAAAAFBwAAAAAAAAAAABsAAAAGIgAAAAAAAAAAAAUAAAAAAAAAAAAAAAAEAAAAAAcAAAAAAAAAAAACAAMAAAAAAAAAAAAAAAAABQQAAgAAAAACAgAABwAAAAAAAAABAAAAAAMAAAUAAAAAAAAAAAAAABoDAAAAAAAAAAAAAAAAAAAFAAACAAANGwAAAAAABwAFAAAaAQAiAAAAAAAADQAAAAAAAAAAAAACAAAAAAAAAAAAAAAaAAAiACIAAAAAAAAAAAUAAAAFAAIAAAAAAAIAAAAAAAAAAAIkAAAAAAAAAAAAAAAAAAIMACQAAAAAAAMHAAAAAAAAAAAAAAAAAAAAAgAADQAAAgAMAAAAAAYAAAAAAAAFAAAJAAAAAAACAAAACQIAAAAAAAMAAAMAAAAAAAAAAAEiAAAFCgEAAAAABwAAAAAAAAAAAAAAAgAAAAAAAAAAAAAAAA0BAAAAAAAAAAAAAAAAAAcAABoABwAABwAAAAAGAAAAAAABAAAAAAAAAAAAAAAAAAUACAciAAAAAAAAAAEAAAABAAAAAAAABQAAAgACAgAAAAAAAAAAAAAAAAAAAAAABQAAAAAAAAAIAAAAAAAAAgAAAAAAAAAHAAAAAAAAAAAAAAAAAiIAAAMAAAAAAAAAAAAAAgAAAAoAAAQFAAEAGgIAAAAAAAAAAAAABQAAAAABAwMkJQAAAAIBAAAAAAACABoCAAAAAAAAAAUAAAAFJAAAAgAAAAAAAAAABwAAAQAADQAAAAAAAQAAAAAAAAAAAAANJgAAAAAAAAAAAQAAAAAAAAMkAA0AAAAAAAAACAACAAACAAAAAAAAAAAABQAAAAUABgAAAAAAAAAAAAAACgAAAA4AACIAAAAAAA0AACIIAAAAAAAAAAAAAAADIgcAAAABAAAAAAAAAAEAAAAAACIAAwAAAAAAAAAAAAAAAAAGAAAAAAAAAAcHIgAAAAAAAAAAAAAAAAAAAAAAAAAAAAAAAAACAAAAAAAAAAAAACIAAAAAAQABAAAGAAAABwAAAwAAIgAAAAAAAAAAAAAAAQANIgAAAAAAAAAAABoCAAAAAAEABwAFAAADAAAAAAAKAAAAAAAAAAUAAAAAAAAAAAAAAAkAAAAAAAAAAQAAAAAAAAIAAAEAAAAAAAAAAAIAAAMHAAAaAAAAAAADAAAAAwAHCAAAAwAAACQHAgACAAEACwcAAAAAAAAAAAAAAAIAAAIAAAAADQAAAAAAAAsAAQAAAAAAAAAHAAAAAAAAAAMAAAAAAAAAAAAAAAAfAAAAAAAAAgAAAAEAAAAAAAAAAAAAAAAAAQAAAAAAAAIHAAAAAAAAAA4AAQAAAAIAAAAAAAAABAAAAAAAAAIAAgAAAAAAACQAAAAAABQABgUAAAEAAAAAAAAABQAAAAAFAAADAAcAAAAAAAAAAAEAAwAAAAAABwAAAAAAAAAAAAAAAAAAAAAAAAAAIgUABAAAAwAAACICAAAAAAAAAAAAAAANAgQAAAAAAAAAAAAAAAAAAgAAAAAFAAAABwAAAAAAAAAAAAkAAgAAAAABAAAAAAAAAAIAAAAAAAEAAAAAAAAAAAAAAAAAAAAADQAAAAAFABADAAAAAAAAAAAEAAAAAAAAAAAGAAAAAAAAAAAHABoAAAIAAwcaAAAAAAAAAAAABwAAAAcAAAAAAQAAAAAAAAAAIgAAAAYAAAAAAAAAAgAAAAEDAAAAAAAAAAAAAAACAAAAAAAAAgMAAAAAAAAHAgAAAQAAHwAABwAAIgAAAAAGBwAAAAAAAwACAAAAAAAAABsAAAABAAAAAAcAAAAAAAMAAAcAJAAAAAAHAAAAAAAAAAcAAAAHAAAAAAAAAgAFAAAAAAcAAAAAAAAiAgAGAAAAAAAiAAAAAAAHAgAAAAAAAAAAAAAAAAAkAAAAAAAAAAIAAAAAAgAAAAAAAQAAAAAAAAAAAAAAAAAAAAAAAAAAAAAAAAAAAAAAAAUAAAABAgAAAgAAAAACAAAAAAACAAACAwgAAAAAAAAAAAAAAAAAAAAAAgAAAAAAAAAAAAIAAAcAAAAAAAAAAAAFAAAEAAAABwIAAgAAAAMIAAAAAAAHAAAAAAAAAAACAAAAAAAAAAAAAA0AAAAAAAAACgEAAQAAAAAAAAAAAAAAAAMAAAcAJAAAAAAAAAAAAAAAAgAAAAAAAAAAAAMAAAUAAQAkAAAAAAAAAAAAAQAAAAAAAAAkBAAjBQAAAAAAAAAAAAAAGgAAAAIAAAAAAAACAAIAAAACABoAAAUAAAAAAAUAAAAAAAADAAAAACIABQAAAQAAAAAAAAEAAAIEAAAAAAAAABoFAAMAAAAGAAAAABoAAAAAAAAAAAACAQAFAAAFAAAaAAACBwAfAAAAAAAAAAAAAAAAAAAAAAAAAAAAGgAAAAUAAAAAAAAAAAAAAAADAAAAAAAAAAAAAAAAAAAAAAAAAAAAGgAAAAACAAAAAAAAAAUCAAAFAAAAAAMAAAECAAAAAAAAAAAAAgACAAAAAAAGAAcAAAAAAAACAAAAAAAAAAAAAAEAAAAAAQAAAAAHAAAAAAAABwIAAAAAAAAAAAAAAAAAAAAAAAAAAAAABwAAAAAAAwAHBQAAAAAFAgAAAAAHAAAAAAACACUkAAAAAAAAAgAAAAAAAAIAAAAAAAAAAAAAAAAAAAIHAAAAAAAAAAAAAAAAAAAAAAAAAAABAAAADQANAAAAAAAAAQAAAQAAAAAkAAAAAAACAAAAAAAAAAADAQAHAAAAAQAABQAAAAABAAAAAAAAAAAAAAAAAAACAAAAAAAAAAAAAQoFAAAAAAAAAgADAAAAAAAPAAAHAAAAAAAAAAAAAAAAAAAAAgAAAAUAGgAHAAAAAAAAAAAkAAAADQACAAAAABoAAAAAAAAAAAAAAAAAAAADJAAAAAANAAAAAwAAAAAAAAAAAAADAAAAAAAAAAAHAAUAAAAAAAAAAAAHAAAABwAAAAAAAAAkAAAAAAAAAAAAAAAAAAAAAAoABgAHAAAJAAAAAAcABQAAGgAFIgAAAAAAAiIAGgAAAAAAAAAAAAAAAAAAACIAAAAAAAAAAAAAAAAAAAAHAAAAAwAAAAAAAwAAAAAABgAAABoCAAAAAAAiAAAAAAAAAAAAAAAAAAAIAAAEAQMCAAAAAAAHAQAAAAAAAAAAAwAiBQAAAAUAAAAAAAYAIgAPAAAAAAAAIgcAAAAAAAIAAAAABwAAAAAAAAAAAAAAAAACAAAAAAEAAAAAAAAADAAAAAAAABoAAAAAAAAABwAAAAAiAAAAAAAABwAAAAAAAAIAAAAAAAAAAAcDAAAAAAAABwAAABoABwABAAIAAQAAAAAAAAAAAAAAAAAAAAAAAAcAAAIAAAAAAAAAAAAHAAAAAAAAAAAAAAIAAgACAAAAAAAAAAAABQAAAAAAAAIAAAAAAgAAAAAAAAAADQEAAAAAAAAAAAMAAAAAAAAAAAABAAAAAAAHAAAAAAEAAAACAAEAAAAAAAAAAAcAIgABBwAABwAAAAAAAAAAACIAAgAAAAAAACIAAAIBAgoAAAAAAAAABAABAAAHAAUAAAABAAAAAQAAJAEAAAACAAAAAAAABgAAJAUiAAAAAAMABQAAAQAAAAAAAAAAAAAAAAAQAAAAAAAFAAEAAAAAAQAAGgAAAAAAAAAAAAACAAAAAAAAAAABIgAAAAABAAAAAgACAAEiGgAAAAAAAAcAAAEAAAIAAAANAQAAAAAAAAUADQAAAAAAAAAAAAAAAAAAAAAAAAAAAgAAAAAkAAAAAAAAAAUDAAMDAAAAAAAAAAAAAAAAAAAARwAkAAAAAAABAAABAQAAAAAAAAIAAAAAAAAAAgUAAAAAAAAAAAIAIgABAAABAgAAAAIAACQAAAAFACIAAAAAAAAAAAAAAwMAAAIABwAAAAACAAAAAAUAAAAAAAACBQAAAAAHAAAAAAAAAAAAAAAAAAAAAgEAAAIAAAAAJAACAAAiBwAAAgAAAAACAAAAAgAAAAAAAAcAAAAAAAAAAAAAAQUAAAAAAAAAAAACAgABAAAAGgIAAgIAAAEFAAAABQAAAwAAAwAAAAAFAAAAAAAAAQACAAAAAAAAACQAAAAAAAAAAAcDAAAAAAAAAAAAAAAAAAAAAAAEAAAAAAAAAAQAAAAaIgcAAAAAAAAAAAAAAAAAAAAACgAAAAAAAAAAAAAAAAAAAAAFAAAAAAMAAAACAAAAAAACAAAAAAABAAAAAAAAAAMAGgAAAAAAAAAAAAAAAAcAAAAAAgAAAAAAGgACABoAAAADAQAAHwANACQCBwAMAg8AAAABAAACBwAAAQAAAAACAAAAAAAAAAAAAAAAAAAAAAAAAAAAAAAAAAIAAAAAAAAABwAiAAAAAAMAAAAAGgAAAgAAAAAAAAAAAAAAAAAAAAAAAQACAAAJAAAFAAAAAAIAAAAAAgAAAAAAAAAAAAAACAAAAAAAAAcHAAMACgQAAAAAAAAAAAADAAQAAQoAAQAAAAAAAAcAABIBAAAAAAAAAAAAAAAAAAAAAAAABQAAAAAAAAAHAAAAAAAAAAAAAAAAAgAAAAAAAAAAAAAAAAYEAAEAAAIAAAAAAAAAAAAAAAAAAAAAAAAkAAAAAAAAAAAAAAACAAADAAAAAgAFAAAFAAABAAAABQEAAwAAAAAAAAAAABoAAAAAAAAADAAAAAAAAAAAJAAAAAAABwMAAAAABQAAAAIAAAAAAAAAAAAAAAAAAAADAAAEAAAAAAACAAABAAYAAAAAAAAAAAAAAAABAAcAEAAAAAAAAAAAAAAAAAAAAAAAAAAAAAAAIwAAAAAAAAAAAAAAAQAAAAIAGgAAAAAAAAAAAAACGgAAAAAAAAEAAAEDAAAAAAAAAAAABwEAAAAABwAAAAcAAAAAAAAAAAcAAAACAAAAAAAAAAAAAAAAAAAAEQAAAAAAAAEAAAAABQAAAAAAAAAAAQANAAIAAAAAAAIAAQIACAAAAAAAAAEDBwAHAAAAAAAAAAACAAcAAAAAAAAAAAAAAAAAIgAAAAAAAAAAAAAaAAMAAAUAAAcAAAUAAAAAAAAFAAAAAAABCQAAAAAAAAAAAAAAAAAAAAAAAAAAAAAAAA4AAAAAAAACAAACAAABAAAAAAAAAAAABwAAAAAAAAIAAAACAAAAAAAAAAAAAAAAAAUAAAAAAAAAAAAAAAAAAAAAAAAAAQAABCIAAwAAAAcAAAAAAAAAAAAAAAAAAAEkAAAAAgAHAAAAAAAAAAcAAAAAAAAAAAAAAAcAAAIAAAAAAAAAAAACAAcmAAAAAAAAAAAAAAADAAANAAAAAAACAAAAAAAAAAANAAAAAAoAAAAAAAAAAAAAAgAAAAEAAAAEBwAAAAAAAAAAAAAAACIkAAAAAAAAAAAAAAAAAAAAAAAHAAAAAAAAAAAAABQAIgAAAAoAAAEAAAAAAAAAAAAAAAAABwACGgIAAAAABQ0CAAEAAwAAACQAAAcAAAAAAgMAAAEAAAAABQADAAAACQAABwAABSIAAwYAAAAAAAAAACIAAwAAAAAAAAcAAAAAAQAAAAAAAAAAAAAAAAAAAAAAAAAfAAAAAAAAAAEAAAAAAAAAAAAAAAAAAgAAAAIAAAAAAAcAAAAAAAAAAAAAAgMAAAAAGgAAIgAAAAAHAAAAAAAAAAAABwIAAAUAAAAAAAAAAAAAAAAAAAAAAAAAAAABAAAAAQAAAAABACQAACIAAAAHAAAFBQAAAAAAAAAAAAAAAAAAAAAAAAAAAA0AAAACAAAFHAAAAAAAAAAaAAAAAAAAIgAAAAAAAAAAAAAAAAAAAAAAASQAAAAAAAAAAAAAAQAAAAAAAAAAAAAAIgAAAAAAAAAAAAAAAAUAAAAAAAAAAAANAAAAAAAAAAAAAAAAAAAFAAAiAAAAAAAACQAAAAEAIgAAAAAAAgAAAAIAAAUAAAABAAAAAAMABwAAAAAHAAEAJAAAAAAAAAAAAAAABAADAAIAAAAHAAAAAwMNAAAAAgAAAAIAAAUAAAMAAQABAAAAAAAAAAANAgACAAAAAAAAAAAAAAAAAAAAAAAAAAAAAAAAAAAAAQABACIAAAMAAAAAAAANAAAAAwAAAAAABQEAAAACAAAAAAQACgAAAAAAAAAAAwAAAAAABQAAAAAAAAAAAAAAAAAFAAADAAAAAAADAAAAAAAAAAAABQAHAAEAAAAAAAAAAAADAAAAAAAAAAAAAAAAAAIHAQAAAAACAAAAAAAAAAAAAgADAAAAABIABwEABQAAAAAIAAAAAAANAAMAAAAABAAAACIFIgAAAAAAJAAAAAAAAAABAAAAAAACABoCAAAAAAAABgcAAAABAAAADAAAAAAAAgAAAAAAGgAAAAAAAAAFAAAAAAAAAAAAAAACAAAAAAAAAAEAAAACAAAAAAAAAAAAAAAAAAAAAAAAJAAFAAUCAAAAAAMAAAAAAAoAAAAAAAICAAAAAAAAAAUAAAAAAAABAAAAAAAAAAAAAAAAAA0AAAAABwAAAAAAAAAAAAAAAAAAAAAAAAAAAAAAAAIAAAAAAgAAAAAAAAACBwUAAAAAAAAAAAAAAAAHIgAAJAAABQAFAgAAAAAABQAAAAAAAAAAAgAAAAAAAAAAAEcAAAcAAAABAgAAAAAiAAAAAgAADQAAAAAAAAAFAAAAAAAABwAAAAEBAAAAAQAABwAAAAAAAAAkAAAAAAADAAAAAQAAAA0CAAACAAIAAAAAIgACAAADIgAAAAAAAAAAGgAAAAAAAAICAAAAAAAAAgAAAAAAAAAAAAAAAAAAAAAAAAABJCIlAAAAAAoAAAcABQAFACIAAAAAAAAAAAAAAAAAAAEAAAAAAgMAACIAAAAAIgAAAAAAIgAAAAAAAAAABwAADgAABQAAAAAAAAAAAAkAAAAFAAAAAAAAAAAAAAAAAAAAAAAAAAAAAwAAAAAAIgMAAAAAAAIAAAAAAAIAAAAMAAAAAwAAAAAAAAAkAAAAAAACAAAAAAUAAAAAAAAAAAAAAAAHBAcAAAABAAIAAgAAGgAAAAANAAAAAAAAAAAAAAACAAABAgAAAAAAAAAAAAAAAAAAAAAAAAADAAAAAAUAAAAHAAAGAAAAAAAAAAAiAQAAAgIABQAAAAAAAAAAAAAAAAAAAgAACAACAAIBACQAAAAAAAACAAAAAAAAAAAADgAAAAMMAAAAAAAAAAAAAAAAACIAAAAAAAAAAgEAIgMAGiIAAAAAAAAAAAAAAAAAAAAAAAEAAAAAAgADAAcAAAADAAMAAAAAAAAAAAAAAAAAAAEAAAAABwAAAAAAAAAAAAAAAAAAJAAAAAAADAAAAAAAAgAAAAAAAAAAAAAAAAAAAAAAAAAGDQAAAAAAAAIAAAAFAAAGAAAAAAAAAAAAABoBAAAAAgAAAAUFAAAiAAAAAAAAACIAAAAADQAAAAAAAAAKAAAHCAAAAAAAAAAAAAAAAAAAAAANBAACAAAAAAAAAAIFAAAHAAAFAAAABAAAAAAAAAAAAAUAAAAAAAAAAAAAABoAAwAAAAAAAgAAAgMaAAAABQIAAAIAAAAAAAAAAAAkAAABAAAHAAMABwAAAAAAAAAAAAAAAAAAAAADAAABAAAAAAAAAAcCAAAAAAAAAwAAAAAAAAAAAAAAAAAAAAAAAgIAAAAAAAAFAAACACIAAABHAAAAAAAAAAAAAAAOAAAAACQAAAMAAAAAAAAAAAAAAgAAAAUAAAAAAAAAAAAAAAAaAAMAAAAAAAAAAAAAAAACAAAkAAAAAAANBQAABwAkAAAAAAAAJAIAAAAAAAAAAAAAAAAAAAAAAAMAAAAKAAEAAAADAAAAAAAAAAAGAAAAACIAAAAAAAAAAAAAAAAAAgAkAAAAAQACAA0AAAAAAAAAAAAAAAAAAAAAAAAAAAAAAAAAAgAAAAAAAwAAAAAAAAAAAgAAAAIAAgAAAAAAAAAAAABHAAAAAAAAAAACAgAAAAAAAAAAAAAADwAAAAMAAAAAAAAAAAAaAAAAAAUAAAAABQAHAAAAAAICAAABAAAiAAAAAAAAAAAAAAQAAAAAAwAAAAAAAAAAAAAAAAAAAAAAAAAAACIBAAAAAAAAAAAAAgAAAAAAAAAAAAAAAAAAAAAAAAAAAAAAGgAAAAAAAAAAAAAAAAcAAAAAAAAAAAAAAAAiAAoAAAAAAAAAAAAAAAEAAAcAAQAAAQAAAAAAAgACAAAAAAAAAAUAAAABAAAAAAAAAgAAAAAAAAEAAAAAAAcAAAAAAAAAAAAADQAAAAAAAAIAAAAAAAADAQMAAAAAAAAAAAABAAAAAAAAAAAAAQAAAAAAAAAAAAAAAAAAAAAAAAAAAAEAACQAAAAAIgAAAAAAAAAAAAAAAAIAAAAAAQAAAQAAAQAAAAAAAAAAAAAAAAAAAAAAAAAAAAAAAAAAAAAAAQAAAAACAAAAAAAAAQAAAA0AACIAAQAFAAAAAAAAAAAAAAAABwIAAAAAAAAAAAAfAAAAAAAAAAEAAAAAAAAAAwECAAACAAIAAAAAAAAAAQIAAAAAAQAAAAEAAAAAAAAAAAAAAAABAAAAAAAAAAAAAAAAAAADAAAAAAAAAAAABQAAAAEAAAAAAAAAAAAAAAAABQAAAAAAAgAAAAACACQAAAAAAAAAAAAAAAAAAAAAAAAAAgAAAAAABQABAAAAAgAAAAAAAAAAAAAAAAAAAAAAJAAAAAEAAAADAAACAAAAAgAAAAAAAAAiAAAAAgIAAAcAAAAHAAcAAAAAAAAAAgAAAAACAAAAAAAAAAAAAAMAAAAAAAAAAAAAAAQAAAAAAAUAAQUDAAUAAAACAAAABQAAAAAAAwAAAAAAAAAAAAEAAgAAAAAAAAAAAAAAAAAAAwAAAAEAAAAAAAACAAAAAwcAAAAAAwAAAAADAAAkAAAHAgAAAAAAAAAAAAAAAAAAAgIAAAAAAAAFAAAAAAAAAAAAAgIAAgAAAAAAAAAAAAAAAAAAAAAAAAAAAAAAAAAAAgAkAAcAAQAAAQAAAAMAAAAAAAAKAAABAA0AAAAaAAAaAAAAAAAAAAAHAAwAAAAAAAAAAAAAAAECAAAAAAAAAAMAAAAAAAEAAAAAAA4AAAAAAAAAAAAAAAAAAAAAAAAkAAAFAAAAAAAAAAAAAAEAAAAAAAAAAAIFAAAAAAAFAQAAAAAAAAAAAAAAAQAAAAAAAAAAAAAAAAAAAAAAAQIAAAACAAAAAAkAAAAAAAAAAAAABQAFGgIAAAAAAAAAAAYHAAAAAAAAAAAAAAAAAAAABQAAAAAAAAAAAgAAAAAAAAEAAAAHAAIHAAAAAAAAAAIAAAAAAAACAQAAAAAAAAAAAAAAAAcAAAAHAAAAAAABAAABAAgHAAAAAAUAAAABAAECAAAAAAAAAAAAAAAAAAACAAAAAwAAAAcAAAEAAAAAAAAADQAAAAAAAAAFAgAAAAgAAAAAAAIBAQcNAAAAAAAkAAAADQAAAAcAAAACAwAAIgAAAAAAAAAAAAADAAIAAgMABgAABgAAAAAHAAAAAAAAAAANAAcCABoCAAIHDAAAAAAAAA0AAAAAAAAAAAAAAAAAAAAAAAAABwAAAAAAACQAAAAFAAAAAAAAAAAAAAAAAAAAAAAADQAHAAAHAAAHAgAAAAAAAAAABgcAAwAAAAAFAAAAAAAAAAAAAAAABQABAAAFAAoAAAAAAAAAAAAAAgAAAAcAAQAAAAAkAAMAAgAAAAAAAQAAAAEAAAAAAAAAAgAAAAAAAAUAAwAAAAAAAAAAAAAAAAAAAAAAAAAEAAAAAAIAAAAAAAAABAAAAAAAAAAAAAAAAAAAAAIAAAAABAAAAAAAAAAAAAACAAAAAAAAAAcABQAAAAACABAAAAAkDAAAAQAAAgUAAAAAAA0BAAUAAAAAAAoAAAAAAAEABQAHAAABAAAAAAAAAAcAAhAAAAAQAAAFAAAAAAAAAAAAGgACAAAAAgAABwACAAAAAAAAAAAAAAAHAAAAABoAAAAABRoCAAAABAAAAwABAAAAAAAAAA0HAAkCAAMAAAAAAAACBwAAAAAjCAYAAAAAAAoAAAAAAAAEAAAAAAAAAAAAAAAAAAAAAAAAAAAAAAAAAAAAAgAAIgIAAAAAAAAAAAAAAAUAAAAAAAAHAAIAIgEAAAAAAAAADQAAAAcAAAcAAAAAAAcAAAIAAAAAAAAAAAACAAAFBwAAAAIHAAAAAAAAAQAKAAABAAAAAAAABwAAAAAAAAAABwAAAAAAAAABBAAAAgwAAAAAAAAAAAADAAAAAAAAAgAAAAAAAAAAAAAAAAAAAAAAAAAkAAAAAAAPAgAAAQAAARoABgUAAAEAAAAAAAAAAAcAAAAAAAADCAAHAAAAAAAAAAAAAAQAAAAAAAAAAAAFAAEABQIAAAAAAAUAAAAAAQAAAAAABQAAAAUAAAAABg0AAQcHAAAADQ0AAAcAAgAAAAAAAAIABAAAAAAAAAAFAAAAAAAAAAAAAAAAAAAAAAAAAAAAAAAABwcDDQAAAAAAAAACAAUAGg0AAAAAAAAAAAAAAgAABwAAAQ0AAAAAAAAAAgEHAAAAAAACAAAAAAACAAAAAAAAAAAAAAAABwAAAAAAAAAAAAAAAAAAAAAAAAACAAAAAAQAAAAAAAAAAwAAAAAAAAAMAAAAAAAAAAAAAAAAAAAAAQAAAAAAAAAABgAAAAUAAAAAAAAAAAAAAgAAAAAaAAAFAAAABwAAAgAAAAAAAAcDAAAOAAUAAAcBAAcAAAAGAAAAAAAAAAAAAAAAAAAFAAADAAADBQAAAAAAAAAAHQANAAAAAAAkAAAAAAAfAAMFAAADGgAAAAAAAAACAAAAAAABAggAAAAAAAAAAAAAAgACAAIAAAAAAAAACAAAAgAABQAAAAAAAAIAAAADAAAAAA0ABwcAABoAAAAAAAcAAAAAAAADAAAAAAAAAAAAAAAAAwAAAAAAAAAAAAEABQAAAAAABwAAAgAFAAADAAAAAAAAAAAAAAACAAAAAAAAAAACAAYCAAAABQACAAAAAAAAAQAABQAAAAAAAAAAAAAAAAABAAAACQAAAAAAAAAABwAAAAAAAAIAAAAFAAAAAAAAAAcAAgAAAAAAAAACAAAAAAAAAAAAAgAAAgAAAAAAAAAAAAANAAAAAAAAAAAkAAAFAAUAAAAAAAAAAAAAJAEABwAFAAAAAAAAAAADBwAAAAAAAAAkACMKAAAAAAAAAAcBAAAAAAADAAACAAAAAwcAAAANAAAABAAAAAAAAAAAAAYAAAEAAAAAAAUADQADAAACAAAAAAAAAAAAAAEbAAIAAAAJAAAAAAAAAAAAAAAAAAAAAAAKAAcAAAEAAAAABwAQAAAAAAAAAAAaAAAAAAAGAAAAAAAAAAAAAAUCAAAAAAAAAAABAAAAAAEABwAAAAAaAAAAAAALAAcCCQABBwAAAAAEAAAABQAAAAAHAAAAAAAAAAAAAAAAAAAAAAUAAAAEACQAAAAAAAAACQAEAAAAAAABAAAIAAAAAAAAAAAAAgAAAAAHAAAAAAAAABoAAAAAAAAAAAAAAAAAAAAHAAAAAAAAAAAAAgAAAAACAAABAAAAAAAlAAACAAAAAAAABwcBAAIAAAAHAA0AAAAAAAACAAAAAAUCAAIQBQUCAAAAAAAAAAADBgAAAAcAAAEAAAcAAAQAAQAHAgAAAAAAAAIAGgAAAAAAAAAAAAAAAAAHAAAAAAEaAAUAACIFAAAAAAAAAgAAAAMAAAAAEwAAAAAAAQAABwAAAAABAAAAAAAAAAAABwAAAAEAAAUAAAAAAAAAAAAABQAAABoABQAAAAAAAAAAAAAAAAABAAAkAAABAAAAAAAAAAAAAAAAAAQBAAABAAAAAA0AAAACAAAAAgAAHwAAAAAAAAADACIHAAAFAAIAAQAAAAACAAAAAAYABQAAAAAFBwAAAAIAAAAAAAcAAAAAAAYAAAUAAgAAAgAHAAAAAAAAAAAAAgAAGgAAAAAAAAUCJAAABwAFAwAAABoAAAAAAAAAAAAAAAAAAAIAAAABBwAABQAAAAIAAAACDQAAAAAAAAAAAQIAAAAAAAAAAAUAAAAMAAAAAAAAAAAAAAcFAAIAAAAAAAUAAAEAAAAHAAAAAAAHAAAAAAAAAAIAAAAAAAAAAAIAAAAAAAcCAAAAAAAAAAACDQUDAgAAAAAAAAAAAAACAAAAAAACAAEFAAAHAwAAAAcAAAAAAAAAAAEAAAAABQAFAAADAAAkAAAAAAAAAgAAAAoAAAMCAAAAAAAAJAAAAAAAAAAAAAAEAAAAAAUAAAENAAAFAAYMAAABAAIABQAAAAAAAAAAAAAAAAEHAAAAAAAAAAAABQAAAAAAAAAAAAAAAAcCAAAAAAAAAAAFBQAAAAcAAAAAAgAAAAAAAAAHAAcAAAUIAAcAAAAAAAADAQAAAgAAAAAAAAAAAAAAAAAAAAMAAAcIAgAAAgAAAwAkGgAAAAAAAAUAAAUAAQAAAAAFAwAAAgAAAAAAAAAABgcNAAAAAgAAAAcAAAAAAAAAAAAAAwUAAAAAAAAAAAAABwAAAAAAAAACAAAABQAAAAAAAgAAAwAAAAAAAAAAAAABAAAJAAAABwAAAAAAAQAAAAAAAAAFAAAaAAAAAAAFAAAABQAAAAAAAwIAAAAAAAAAAAAAAAUAAAACAAAAAAAAAgAAAAcHAAAAAgAABwAAAAAABQAAABoAAAACAQAAJg0AAAAAAAAAAAAAAAAAAAAADgAADQIABw0AAAAAAAAAAAAABAACAAAAAAAAAAAAAAcAAAAAAAAAAAAABwEAAAAAAAIAAAANAAUAAAAAAAQAAAAAAAAAAAEAAAAAAAAAAAQAAAcFAAACIAAAAAAAAAAAAAAAAAAAAAUAAAAAAAEAAAAAAAIHAAAAAAAAAAAAAAAAAAAABwAFAwAFAAQAAAAAAB8AAAAIAAIAAAAAAAABAAAAAAAAAAAAAAAFBwUGAAAHAAAAAAEAAAAAAAAABQAAAAAABwMAAAEDBQAAAgAABwAAAQAAAAAAAAABAAIAAAACAAAAAAAAAAAAAAAAAAAAAgAAAAAAAAMAAAAAAAAAAAAABwAAAAACAAAAAAAAAAAAAAAAAAIAAAAAAAMAAAAABwEAAAADAAAAAAAHAgAAAAAAAAAAAAAAAAAAAgUABQAAAAAAAAAFAAEAAAUAAAAAAgANAAAAAAIAAAAAAAAAAAIAAAAAAAIAAAAAAAAAAAIABQADAQIAAAAAAAAAAAIAAAAAAAAAAAAFAAAAAAAAAQAAAgAAAAAAAAUAAwAAAwAAAAIAAAAAAAACAAAAJAAABQIAAAAAAAAABwAAAAAAAAEAAQICAwACAAAAAAADAAAAAAAAAAAFAAAFBwAAAAAAAAIHAAQAJAAAAAAAAAAAAAAAJAAAAAAAAAQDAAUABQADBQAABwAAAAAAAAEABAAAAAAAAgAAAgAAAAAAAAAIAAACBwAAAAAAAAAkAAAAAAUABwECAAEAAAAAAAAAAAACAAABAAAHAAAAAAAHAAUDAAAFACQAAAAAAwAAAgAAAAIAAAAAAA0AAAAAAAAAAAAAAAAAAAIAAAIADgAAAAAAAAAFAAAAAAAaAAAAAAAAAAAAAAAAAAAAAwAAAAAAAAAAAAAAAAAAAAAAAQUDAAAAGgAAAAAABwAGAAAAAgAAAAAAAQAAAAAAAAAAAAAFAAAAAAAAAAAjAAAAAAAAAAAAAAAHBwEAAAYAAAUAAgIAAAAAAAAAAAAAAAAAAAAAIwAAAAEAAAAAAAAAAAIAACMAAAAAAA0AAA0AAA0AAgAjAgADAAAAAAAAAAAAAAAAAAAADQEAAAAaAAAAAAADAAAjAAUAAAAAAAIAAAAAACQFAAAAAgcADQAAAAAAAAAAAAAAAAAAAAAAAAAAAAMAAAUBAAAAAAAAAAAAAAAAAAAAAAAAAAEABwAAAAAIAAAAAAAAAAABAQAAAAAAAAACAAAGAAAAGgAAAAUBAAAAAAMAAAAAAAAFAAAjAAAABSMAAAAAAAAABQAAAAAAAQADDQAAAAAjAAAAAAAAAAAAAAAAAAAHAAAAAAAAAAMAAAABAAAAAAAAAAUAAgAGAAAABwAAAAAAAAAAAAAABwAAAAABAAAjAAAAAAAAAAEADQAAAAEAAgAAAAAAAAAAAAUAAAAACAAADQAHAwAAAAAAAAADAAAAAAADBQAAAAAAAAAAAgMAAAAAAAAABwAAAAEAAAAAAAAAAAUAAAAAAAAAAiQAAAAAJAAAAAAAAAAAAAAAAAAAAAAAAAAAAAAAAAAAAAMCBAAABQAAAAAAAAAAAAACAAAAAAUAAAAAAAAABQAAAAAAACMAAgEAAAAAAAAAAAAAAAAAAAcAAAAAAAAAAAAAAAACAAAAAAAAAAAABQACAAAAAAAAAQAAAAAAAAAAAAcAAAAAAAAAAAIFAAAAAAQAAABHAAAAAAAAAAUAAAAAAAAAAAAAAAUAAAAAAgMAAAAAAAAEBwIDAAIAAAACAAAABRoDAAAAAA0AAAAAAwAAAAAAACMAABoAAgACAAACJQAAAAAABAIABQABAAAAAgAABwAAAAAAAAcAAAAABwAAAAUAAAAAAAUAAAAAAAAAAAAAAAAAAAAADQAAAAAAJAAAAAAAAAAAAAAAAAAkAAAEAAACAAAAAAAAAAAAAAAAAAAAAAAAAAAAEAAAAAAAAAcFAAAAAAAAAAAABAAAAAAAAAAAAAAAAAIHAAAAAAAAAAAAAAAAAgAAAAAAAAADAAAAAAAkAAABAAUAAAApAAAAAAAAAgAAAAAAAAQAAAAAAAAjAAAAAQAAAAIAAAAAAAUjAAAAAAAAAAAAACQAACMAAAAAAAAAAAAAAAAABQEAAAAAAAAAAAAAAAAAAAcAAAAAAAAAAAAABQAAAgAABwAAAAAAAAAAAAAAAAAAAAAAAAIAAAAAAAUAAAAAAAAAAAAAAAAAAAAAAAAAAAAABQBNAAAAAAAAIwIAJAAAAAAAAgAAAAAAAAANAAAAAAAAACMAAAMAAAAAJAIAAAAAAwACAgAAAAAaAAAHAAAAAQIAAAUAAAAFAQAAIwAAAAAAAAUAAAAAAAAAAAAAAAAAAAAAAAAAAAcAAAAAAAAAAAAFAAIFAAAAAAAABQAAAAAAAAAAAgAjAAAAAAAAAAAABgAAAAACAAAAAQAAAAAAAAAAAAAAAAAAAAAkAgAAAAAAAAAAAAAAAAACDAAAAAAAAAAAAAAABQAALQIABwcBAQAAAAAAAAAABwAAAwAaAAAAAgAEAgkHAAAAAgYAAAUABwcHAQgCAAAEAAIaJQAAJAUpJAIaBgAFGgAHAAUAAgAAAAAFIQACAgIAAAAAAgUHBRoAAAAAAAcABiQBBQUAAgAFBQAFBQAAAAAAAAUAAAcAJQACBwAAAAABAAAAAAAAAgUABwcACQACAAUaAAElAAUAAAAABQAADQAFAAIBACMAAAAAACMAAgAAAiMFAAAAAQ0AABoaAAAlAAcHAhoNAAAABwAlAAUCAAoIBwAlAAAABQIEBQINAQIAAAAABwADAAMAAgAAAAcAAAJHAAUFAQIEAAAHAAEAAAciBwAAAAMBJAIFAAMABAMlAgACJQAkAgAABgQAAAAQAgANBgAAIgAAIgECAAAKAAAFAwMaAAAAAAACAAAFAgAkAAYAAAAARyQiAAAlIgUAAAAHAgcCAAAAAAIGAQAABQUAAAEHBSIAAQ0AAB4kAAAAAAAHIgAAAAEiAAADAAACRyICBwAjAAAAAwIAAAAAAgAAAAAAAAAABwUCBwYFByQCDQ0BAAAADAAkGgAAIgUAAQIAAAUAAQIAAQAAAAACAAYiAAkiAwIiAAACAAkABQAAACQBAxoAGgAAIiIaAAQAAAgaAAAAAAICFQICBQAGABoDAAIAAgEAAABHACQAAwAAAQ0IAAAAGhoAAAAABwACAgMAJA0MAAAABwACAAcAAgIAAAEAAAAiAAAAAAIAAAICACICAAAAAAIADQACAAAAACIMAgAAAAAAAAAaIgAAGgAABwACAAAAAAAAAAAkJAAAAwAAAAAAAAAAAAwGBwADAQAFAhoHAAANAAMAAAADAAAAAAMHAAAAAAIMAgAdAAcAAwAABwAAAAAABQUDAAACBSIDAwACACQAAAAHAAAFAAAkAAAAAQAHBwAiAAAABwAFAAACAQMAAAAHAAEAAAUFAAIAABoCDQUBAQAAAAACAAUAAAAABwAkJAcAIiIAAAADASQAAwACBQIAAgADAAADAAACAgIFAAAAABIAAAAFBAAlAAIAAAAAAAAABQEADQAAIwAAAAYACgIAAAACAAIAHAgBACMlAiUCBwAHAAkiAAUAAAUBAAcBAB0AAAAiAAAAByQAByQHACUFAgIABQAAAwEAAAAAAAAAAAciAAAAAgACAAMaAAUAIgAiAAAiIgEAAgADAAAAAgsAAAAMGyIAAgAAIgACBwANABAAAAABAAAAAQUAACIAAQQiAAACJQUiAAcHBQAABQAABwAAAAECAwADAAUlAAAAAwcAAAACBwUAAyIAAAAAAwAQACMBAAAFAAcAAAAAAAAAAAACACUBAAAiAAAAAA0kAAAAIgIAAAAaAiIABQIAAAAAAAUAAAAAAAIAAAcEACIkJQAEAAAFAAIHBQACAAAAAAAAACIEAAMHAAAHAAAAIgAADQcCBQAABwADAQAiAAEFBQAATAAAAAAABQAAAAIAAAUAJAAAACUAAAcJAAAaBQAaBQAAAAAAACIBACQAAgAAAEcAAAAMGgABBgIiAAAAAA0iAAACBQUAAgAABwAABw0AAgMAAAAAAAAiAAIkAAAAAwUHAAAABQUiAgAAAAIFAAAOAgUAAAADAAAFBwMDAgEAAgAAFgAAAAACAAAAAgAAAAAAAAAAAAAAAAIFAAAAAAAAAAAAAAIFAQUAAgUHChoAAAAAAAACAAAABgQBIgAAAAcNAAcAAAAAAAAHAg8aAAcAAx8AACUAAAAAAgAAAAAiBwAAAgAAAAAAAAAAAwAAAAIAAAAAAAAAAAAABwAAAAAAGgAAAAAFIgAAIgAHAAAAAAIAGgEACgcAIgYCAAEHAAAiAgIaAAAAAAAAAgACAAAAJAAAGgAUAAAAAAAkAwAHBQUCBwAAAAAAAAAAAAAHBQADAAAAAgACAAAAAgoAGgAAAAcAAAAFBQICAAAAAAAAAAIHAgAAAAAAAAAADAMAAAIAAAUCAAAADAAAACICAAADAQAfAQAAAAcABwIABQAABQAAAgcHAAAAAAIABQwAAAQCAAAABwAABQAFAAAAAAANAAMAAAAAAAAAAAAAAAINAAAFAAAABQANAAIFDAAMAAAFAAUADQAAAQADGgAAAAYAAwAAAAIFAiIABQAAAAAAAAUDACIAAAAAAAADAgUAAAcCAAAAGg0NIgAlAgAABwcDByIAAgAlGgADDQAAAAAAAAMAAAAMIgAAAgAAAAICJCIAAAAABQAFAAABCgAAAAABBAAAAAAHAgMFAAAaByIMBQIAAwAHAAAHAAAQAQcAAAAAAwANBSIFAAAAAAcAAAACAAAAAAEABwcGAAAABgAABwADBwAAAAAiAAAAAAACBwAAAwAAASQAAgIAAQAAJQABAgACAAcAAAAAAAAiAwQAAgcABQAAAAAAAAACAgAAAAMNAAAABQUAAgMAAAAAAAAAAAAAAAAAAAIAAAAABQAIAAAaAAAADQAADgAABiIMAAAAAAAAAAAAAAAAAAAGAAUADQAAAgADAwAACgUAAB0HAAAADQAAAAAAAAEAAQAAACIAAAIHAQAFIgEDBQAkAAAAAAIEAAEABwAABSIADQUABQAiBQAFAgAiAwcAAgAFAAAAAyUAAwAaBQACBQEAAQAAAgAMAAAAAAACAAUCAAAAGgAAAgcABQAARwUAGgMHAAAFAAACBAEAAAAAAgAAAAUABwEAAAIAAAcAAAAAACIAAAAkAAAAAAAABAAAAAAkAwAAAAAlAAUABQoFAAIKBQEAGgUFAAAAAgAAIgIAAAEAAAAAAAUFAAIAAAcAAwAAAgAFIgACIwUCAAoAJQAAAAAAAAAAAAASAAAAAAAAAAAAAAEAAAUCAgUFAAUAAAAAAAAaAQAaAAEAAAAEBQABAAAaBwAABQAGHQAAAgAAJAAAAAANGgEAAAAABQAAAQAAAAAAAAMFAAAABwoABQICAAAAAAAFAAUAAAAAAAAAAAAJAAcAAQAFAAAAAAAaAgAFAgwaAQYAAgAFAQAABQAAAAADAAcBBQECAgAlAQAAAAoBAAAFAAAFBQADAAIAAgUAAAAAAQcAAgAHAgIAAAEFAQwAJAAAAAAAAAABBAAHBwAiAAAADAMAAAoKAAMAAAcAAAAHGgECBAAiAAMKBiIADQwAAAAAAwEADAAAAAAAAgAAAAUABgUAAAAAHQUDAAcCAQAPAB8AABoAAA0AAAAAAAAABxoBGgAAJAAADSICAAAACiQAIgAjAAIFAAEAAAIAACIAAAAHAAUCAAAAAAAAAAAHAAEBCgQAAgwAAA0kIgIAAAAABgANAQAHBwAAByIAAAAAIgAAAAIAAQAAAAAAAAAFAAAlAgAfAAAAGiICAQMAAQAAABoAAAIAAAUAAAAAAiMBAAACAAAABwAHAAIHAAAAAAAAAAUAAAcAAAAAAAACAgAkACQHBwUCAgAAAgAFAAANAAAAGwICAAACAAAAIiUHAAAAAgAABwEGGgAHBQUaBAAAAAACAQAiBAAAAAABAAAAAA0AAAIiAAcAAgAAAAAABwAABQAGAQAAAAIEAgIAIgAAAAAFAQAAIgAAAAUBAAIFAAABAAAiAAAJDSUAAgIAAAAAGgEAAAEAAAUABQEAAwAFAAACJAACAAAiJA0EACQAAAAAAAIAAyIAAAAHBwIFAAICBwAkAgkABQAAAAAMIgAAAA0AGkcDAQUARyUARyIABwABBQICAgADAAAAABsAAAAAAAIAAA0AAAAAIgACAAEiBQAAAAUABQUAGhobAgIAAAAAAAQAAAAABAMiIgAAAAAiAAUlAgAAAAABBQIAAAACAAAAGgAFAA0AAAUAAAAAAAABJAAKAAcAAgEMAQAiAAAAAiUCACIAAgAiBQUCBQcFAgACEAAABQUHAAAFBQAkBQAFGgAHAgAAAgIaAAIkDQAHGgAAAAABAAACJUcFAAAFAAIAAAAjBQAAAAACBwACAgAAAAAAAAECAgANCgAAAAAHBQUABwAAAAAHAQUCAAAGAwIiAAAHAAAAAAAAEAoAAQAAAAAAAgAAAQICAAAAABoGCgAiAAAAAAAAAAAAAgAAJAAAAAAMAAAAAyICAQAAAAoAAAAFBAANAAUAIgAAAAAAGgAAAgUkAAIABwAAByIABwAAAAUAAAAGBwIAAgAAAAUkAAAFACIAAAACAAAAAAcAIwAFAAANACQAHwEABQwABAAFAgIBAAAiACIAAB8AAAMkAAAHAQAFIgINAAEDAAIAAAwaAAAAAAAAJQoAGgAFAQACAAAAAAEAAAADAAcCAgAABQAAAAUCABsAAAAAACQAAAkAABAHAAcAAAYAGgAAAQUAAAANAgEFBwUABSUCAAAAAAACAAoAAAAAAAAAByQMAAAAAAAAAAAAAAAAAAAAAgAAJAADAAAAAAAABwAFAwAAAAAAAAAAAAUAAgAAAAIHAgEAAAAAAAUAAAAAAwAAAAAAAAACAEcARwAFJAAAAAUCCgMiAgAkAAAABAAAABsAAAIAAAAAACQCABoAAAAAAgAAACQAAAMAAAAaAAAAAAAAAgEABg0ABQAAACIAAAAADAwAAAAAAAACAAUAAAIAJAJHAgAAAAIAAgwAAgAAAAIBAgACAAUAAAUkGgUDAAUCAAABGiIAAAEAAAAAACQABQEAAAAAAAUkAAAFAAACAAAAAAAAAAAAAAIFAAAABQAABQAAAAAFAAAABQAAAAAFAAAkCAAAJAAFAAwAAAAAAQcAAAAAGgAFJAAAIgMAAAAABwACAB8AAAUaAAAABwAAAAAAAgAlACUAAgAAAAAAAAAAAAAAAAACAAAAAAAAAAAHAAAAAAEiAAAAAAAAAwACAAwADQAAAQAAAAAADQAAAAAAAAAAAAAAAAUAAAACAAAAAAAABQAAAAACBQAAAAAAAAAAAAAAACQAAAACAAECAAAAACQACwAAAAAAAAAAAAAFJAAAJQAAAAACAAAAAiICAAACAQAAAAAAAAAAAgAAAwAAAAAAAAMCAABHAQAkAAAFACIAAAAAABoAAAAAAAIAAAAABQAAAAAaAAAFBQAAAAAAAAAAAw8AAAAAAAABBwAABgIAAAAAAAAAAAAAAAMAAAAAGiQAAAAJAAIAAAIAAAAAAAUAAAAABQAAAAUDAAAAACQFAAAAAAAVAAAIAgAEAAAHAgAAAAUABQAAAAAAACIAAgAAJAAAAAAAAAAAAAAAAAAAAAADAAUFAAAAAAAAAgAcAAAFAAAaAAAAAAABAgUCAgACAgAAAAAAAAECBQACACIAAAAAAA0AAAACAAAAAAAAAAAAAAUCAAAHBQACAAAAABoAAAAAAAAaAAAAAAcAAAACAAAaACIBAgAAAAAABwAAAAAAAAAADiIAAAIAAAAAAAADAAAAAAAAAAAAAAACAAACAAAAAAAAAAAAAAAAAAACAAAAAAEAAAAAAAAAAAAACAAAAAAAIgMBBQADAAAFAAIAAAAAAgcAAAADAAAAACQAAAABAAAAAAoAAAcADAAAAwAAAAwAAAAAACIAIgAAAAAkAAAAAAciAAAAAgAAAAIEAAIAAAwAASIABQUAAQAAAAEAAAAiAAIFAAABAgAAAAAAAAAAAAIBAAAAAAAAAAAAAAAiAAACAgAAAAAAAAAAAAAAAAAAAAAAAAAAAAAAAAAAAAAAAAAAAAAAAAANAAAAAAAAAAAAAAAaAAcHAAAAAAAADQ0AAAAAAAUHAAAFAAAAAAAAAAAABAEAAAAAAAAAAAcJAAAAAAAAAAAAAAAAGiIHDQAAACQAGgIAAyIMAAAAAAAAAAAKAAAAAAMAAAAAAAAAAAAAABoAAAAFAAAAAAAAAAACAAAaAAAEAAANAAAAAAAAAAAAAAAAAAAAAAAABQABAAIAAAAAAAEAAAIAAAUADAAiAAAaAAEBAAcAAAAAABoAAAABAAcAAAUAAAAAAAAAGgAAAAAAAwIAAAAAAAAAACQAAgAAAAAAAAAAAAAAAAAAAAoAAAAAAgAAAAAAAAAAAAAAAAAADQAaAAAADAAHABoAAwcABwAAAAAAAAAAAAAaAAAAAAoAGgAAAAIAAQAAAAAAAAAHAAAaAAAAACQKAAAAAAAIGgAAAAAAJAACAAUCAAAAAAACAAAAAAUAAAAAAAAABQAAAAEAAAAAAAcAAAUkAAAAAgAAAAEABwAJAAAAAgAHAAAFAAAAAAAAAAAAAQAAAAAaAAEAAAAAAAAAAAAAAAAAAgIAGwcAAAAACiQAAAAAAAAAAAAAAAAAIgAAAAAFAAAAABoAAAAAAAAACgcABQICAAAaAAYHAAADAAAAAAAAAAAAAAAAAAQFDAIAAAAAAAIAAAABAgAAAAAAAAEAAA0AGgAAAAAAAAAAAAAABQAABQUCAAAAAAACAAAACgAABQACAAAAAAAAAAwHAAAaAAEAAiIBBQYAAAAAAAEAAAEDAAAAAAcaAAACAAAAAAAAAAAHAAAHABoNAgAABwAAAQAAAgIgAAAAAAAAAgAAACIHAAAFAgcABQAJJAAkAAAAAAAAIgMCBQUAAAABAgICJAACBQcAAAAAAAAAAAAAAAIFBQAkAgUFDQAAAAEkAAAHBQIAAAANAAAACgAAGiIHAAIAAAAAAAAAAgAAAQAAABoHAAIAAgAFAAAAAAIAAAEAAAcAAAcAAgAAAAAAAgAAAAcNBwAAABsAAAEBAABHAAAAGgUAAAAAAAAaAAAAAiQAAAACAAAAAAAkAAUAAAAAIgAHAAAABwADABoAAAAAAAwAAAAdABoNAAAABQAAAAAAAAAAAAAABQIFAgUABQAAAAAAAAAADAQHBwAABAACAAAAAAAAAAAAAAAAAAAADAAHAAAAAAAABQIABQUABwcAAAAAAAACAAIAGwAAAAAAAAICJAAAAAAAAAAAAAAAAAAAACIDAAMAAAEAAAANAAAAAAACIgAAAAIFAAAAIgAAAAMaAAIAAgAkAAAAAAAAAAAAAAAAACQAAAAAAAAAAAEAAAAAAAcAAA0AAAAAAAACAgAkAAAAAAAAAAAAAAAAAAAABQAAAAAAAAAABQAAAAAAAAAAAAANAAAAIiIDAAAACgAFAAQAAAAAAQUAAAAAAAAAAAAAAgAAAAAAAAAAAAAAAAAAAAAAAAAAAgAAAwAABwAAAAAFAAcAAAAAAAAAAAAAAAAAAAADAAAAAAAAAAUAIgAAAAAAAAAAAAAMAAcAAgAAAAAAAgAAAAAAAAAAAAAAAAAAAAEAAAAAAAAFAAAAAAAAJAciGgMAAgAAAAAAASIAAAAAAAAABwAAAAAAAAAAAAAAABoAAAAAAAAAAAACAAACAAAiAAAAAAADAAAAAAUAAAAAAAAkACIAAAAAAAAABQAAAAAAACIAAAECAAEMAgACAAAAAAAAACIAAgUAAgAAAAAAAAAiAAENACIKACQABQUCAAAAAAAiAAAMAAAAAAAABwAABAACAAIDAAAkAAUAAAADAAAAAAAABQABAgABAABHGgIAAAAAAA0BAAAABQIFAAMAAAAfAAAAAAAAAAUAAAAAAAAAAAEAAAAAAAACAAAAAAAAAgAMJAAAAAAiAAAACgAAKQAAAAAIAAABAAYABgAAAgAAAAAAAAUAAAAAAAAAAAAkAgAiAAAAAAAAAAAAJAAAAAAKHwAAAAAkAAAAAAAAAAAAAAIiAAAaAAAAAAMAAAAADwAiAAIABQAAAAIAAAAkAAAAAAAABQIkAAAFAAAAAAAlJAAADAANAAAAAgAkIgAAAiQAAAAAAgAAAAAAAAAAAAAAAAABAAAAAAAMAAAAAAMAAAMAACIAAAAAAAAAAAAAAAAAAAAAAAEAJAACAAAAAgAAAgAAAAAAAAAACQAAIgADAAAABQ0AAAAAAAAAAAAAAAAAAAACACQAAAAAAAAAAAAAAQAAAwIKAQAAAAMABiQCAAIBAA0AAAAAAgMiAgADAAAAAAAAAAAAAAAHAAAAAAcAACIAAAAHAwUABwAAAAciAwACIgAAAAAAAAAaAAAAAAAAAgAODSIHAAcAAAAAIhoAAAAAAAAADA0DAAIAAwAiACIAAAIFAg4AAAIAAAAAAAEAAgAAAwAAAAAAAgEMAAAEAAAAAA0BAAADIgAiAAAAAAACAAcAAAAHAAAABhANAAciAwAAAAAAAAAAAwAABwAHAAAAAAMAIgAiAAACAAAiByIiAAIiAAIAAAAAAAMiAQAAAAIAAAADAAMAAAAAAAAAACIAAEcAAAAAAAAAAAAAIgkAAAAHAgAAAQQDAAECBwACAAADAAAiAAMDAAAAAAAAAgAAAAAAIgADAwAAAAAAAAAHAAAAAgABAAcCAAAAAyIAAAABAAAAAAMAAAMDAAAFAAcABQAAAQACDQAAACIAAAANAgABAAAAACMAAAABAAAAAAIiIgMAACIAAQABAAAAAQAAAAABAAAAAAAAAA0AAAMAIgAAAAAAAAAaAAAAAwAAAQAADQEDAgAiACIAIiIHBwAQAAcHDQIFAAcAAAIADQAAAwAAAwADAAADAAAAAAAIBwMGEgAAIgADACIAACIiAwAiAAAAAAAaAgAHABoAAAUAAAciBxsBAAQEAAAAAAAAAAACAAAHGgcHAQIAAAAAIgAiAAMAAAAAIgEAAAAAAAABAwgABwcCAgMDAAAABwAGIiIAAAAAAQEAAgAAAAANAAIAACIAAgIAAQ0AAA0DAAAAAAMAAAAiAwAAAAIAAgAQAAAAAAAAAAQHAQAAIgAiAgAAAAAAAQYHAA0ABxoAAAAAAAAAACIAAAAAAAIADQ8AAAANDQACAAAAJQcAAwIiAgcAAAAAAAMQAAIAAAUAAAcAAAAAIgMAIgAAAAABAAAAAAABAAAAAAAAAAcCAwAAAAAAACINAwAAAAAAAAACBwAACAAAAAIDGgECAQADAAAAAAAAAAEAAAACIgAHAAAAAAAAAAcaAQAABAcAAAAHAQAiAAMAAAAAAAAAAAAAAQAAACIiAAAAAAUAAAAAAAADAQEACBoAAwAAAxoAAAAAAAAAAQAAAAABIiIAAAcAIgAiAgACAAAAAAAFIgAAAAAAAgAAAgADABoAAAAAAAAAAgAAAAEAAAAAAAAABwEAAwIAAAIAAAAAAAYHGg0AACUAAAAAAAIAAgAAAgAAAAcFAAAAAyIiAgAaAAMDAAAAAAAAAAMAAgADAAAHAQAiAAAaAAAABAACIgAAAwACAAIAAAAAIgAAAQAAAAAAAAAAAAAAAwAAAAAiDQAHBwINAAAAAAAAAAcCIgIAAAAHDQAAAAAAAAAAAgAAAAAAAA0AAwAAAAAAAAAAAAYAAAAAAAMAAwICACIAACIAIgAHAgIAAAAAAAAaBwAAAAAAAAAABwAAAAAAACIHAAAAAAMKAAADAAMDAAYAACIiAAAAAAAAAAAAAAAAIgcABw0HAAAAAAAAAAMAAA0AAAAAAAABAAAAAAICAAkDAAAHACIAAAAADAAAAAAAAAAAAAADIgIAAAMFASIAAAAJAAAiASIiAAAABwkADQADAAICAAAAACIiAAAAAwAAAgIAAQYAAAAaACIAAAABAAUAAAcAAwAAAAABAgIAAAAHAAAABwIAAAcHAgYKAAcAAAAAAAMAAAAAAAAAAAAAAAcNAAAaAgAiAAAAAAMAAAAAAAADDQANAAAAAAAAAwYCAAEAAAEiIgABAAAAAAAAAAAAAAAAAAAAAAACAAAAAAAADQIiAAAADQIDACIAAAcABQAAAAAAAAAHAAAAAAIABQIBGgAAAwAAAAAAAAAiAQAJAAAKBQIAAA0AAAAaBwMAAAkAAAAAAAAAAQcADQAHAAAAAAAAAAADAAACAxINAyIAAAAAAAAAAAAAAAAAAAcAAAAAABoAAAIAAAAAAAAAAAAiAwAAAA0AAAcCBwcBBAAAAAANAAIAAAAAAgAAAAoADQMFAAEHAAcAAAAHAAEAAAAAAAAAAAAAAAAAIgAAAAAAAAABAQcHAAACAAAAAAAAAAAAAAAAAgAAAAAAIgAAAA0AAAUAAAAMAgAAAAAAAAAHAA0AAAUAAAAAAAADAAAAAgAAAAAABwAAAAABAAEAAAAFAAMCCQAAAAAAAAAAAAAAAhoiAwIAAAAAAAAAAAAAAAAAGgAAAgACBwACAAAAAAAAAAAAAAAAABoHBwACAAAAAAAAAAUAAAAAAAAAAAIAAAAABwEAAAACAAAADAAAABIAAgMBAAAAAAAAAAAAAAAAAAAAAAAAAAAAAAAHAAAAAAAAAAAAAAcADQEAAAAAABoAAAAAAAcABwAHAAMAAAAAAAcAAAAAAAAAAAAHAgAAAAACAAAHAAAAAAIAAAAAAAADAAAAAAAABwAaBwAiIgMAAwADAwAAAAcAAAAAAAABAAAAAQAABwAADQEHAAAAAAAABgcABwAAAAAAAAABAAAAIgIBIgUBAgcAAAUAAAAEAAAAAAIAAAAAIgoAAAAAAAAADSIiAAAAAAAAAAAAAAcAAAIAAAAAAAAAAAAAAAIABwABAAAAAAcAAAAAAAABBQAAAAAAAAAAAAAAAAAAAAAAAAAAAAAAAAAaAwcAAAACAAQAAAcNAAAAAAYAAAEAAAAAAAIAAAcAAAAkAAAAAAAAAAACBwAHAAAAAAAEBwAAAAAAAAcAAAAHIgAAAAAAAAAAAAAAAAEABwAABwAAAAAPAAAiAwcGAAAAAAAAAg0AAAAAAAAAAAMAAAAAAAAAAAcAAAABAAAAAgAAAAAHAgADAAAAAAAAAAAAAAAAAAAAAAACAwAAABoAAAAADQAAAAAAAgAAAAEAAwcAAAAAAAAAAAAAAAIAAAAAAAAAAAACCQECBQAAAAAAGgAAAAAAAAIAAAAAAAAABwAAAAIAAAAAAAAAACIAAAAHCAAAAAAAAAAAAAAAAgAAGgYiAAMkCAEAAAIAAAAAAAAAAAAGACINAAAAJAAAAAAAAAAAAAACAQAAAAAAAAAAAAYAAAAiAAUAAAAAAQIiIgABBwAAAQkDCiQHAAACAgIAAAEABwIAAAAiAAEAGgAAAAMAAwUCAAcAAAICACIAACIAAAcAAAAAAAAHAAAAAAAAAAAGAgAAAAAAAAAAAAAAAAQAAAcAAAAAAAAAAAcAAAQHAAEiAAAACgANAAAAAAAAAgAAIgAAAAAAAwAAAAAAAAAAAAACAgAAAA0SAAIAAAAAAAEAAAAABwEHAAAAAAAAAAAACgAiAAEAAAANAAQAAAsiBwAHAAAAAAAAAAAAAwcaAAAMAAAAAAAABgYAAAMkAAAAAAAAIgABIgAABQcAAAABAwAHAgIAAQIAAA0iDQACAAAAAAAAAAANAwABAAAAAAADAAAAAAAAAAAAAAIAAAAAAAMAAAAAAAAABQAAAAAAAgAAAAACBQUAAAAAAAAAAAAAAAAAAAAAAAAAAAAAAAIAAAAAAQAAAAAAAAUABQAFAAEAAAAAAAADAAACAAAAAAAAAQUAAAAAAAAAAAIAAQAAAAAAAAAAAQAAAAAAAiQAAAAAAAABAAIDAAACAgAAAAIAAAAAAAUFAAAAAAAABgAAAAEAAAAAAAADAAAAAAAAAAAAAgACAEcAAAAAAAAABQACAAIAAAUAAQAABQAAAAAAAAAAAAAAAAAAAAAAAAAAAAAAAAAAAAAABQAAJQECACQAAAACAAAAAAAAAAAAAAAkAAAAAAAAAAADAAAAAAAAJAAAAAAABQAAAAAAAAAAAAAAAAAAAwAAAAAABQUAAgAAAAAAAAMAAAMAAAAAAAAAAAAAAAEAAAAAAAAAAAAAAAAAAAADAwMDAAAAAAAAAAAAAAAAAAAAAAACAAAAAAAAAAAAAAAAAAADAAAAAAUAAAABBwAABQAAAAAAAAAAAAcAAQAAAAAAABIDAAAAAAAAAAAAAABHAAAkAAIAAAAAAAADAAABAAAAAAAAAAMEAAAAAwMAABoAAAAAAAUAAgcFAiQAAwAAAAACAAAAAAAAAAAAAAAAAAAAAAAAAAAFAAADAAAAAAAAAAAAAAAHAAAAEgACCQAAAAEAAAAFAAAAAgACAAAAAAAABQAFAAAAAAAAGgAAAAAABwAAAAAAAAAAAAAAAAcACQAAAAAIBwAAAAAAAAcABQ0AAAAABwQABQAAAAAAAAAlAAAAAAAAAAAkAgAPAAAAAAAAAAYAAAcAAAAAAAAAAAAAAAAAAgAAAAIAAAAAAgAAAAAAAAAAAAAAAAAAAAAAAgADAAADAAAAAAAAAA0AAAAAAAAAAAcAAAAAAAAkAwAFIgAkAAAAAAAAAAAAAAAAJQAAAAAAAAIiAAUAAAAAAgAAAgAAAAAADQAAAAMAAAAAAAAAAAAiAAIAAgAAAAAAAAAAAAcAAAIAAgIFAAAAABoAAAAAAAAAAAAAAAAAAAAAAw4AAAAAAAAAAAAAAAAAAAIAAAAAAAAAAAAIAAAAAAQAAAAAAAAAAAAAAAAAAAAAAAAAAAAAAAAAJQACAAAAABoAAAAAAAAAAAMAAAAkAAAAAAAAACQAAAABAAAAAAIAAAAAAAMAAAAAAAAAAAAAAAAAAAAAAAABAAMAAAABBwAAAAAAAAAFAAAAAAAABAAAAAUAAAAAAgAAAAAAAwYAAAAAAAAAJwAAAAAAJAAAAAAAAgAKAAUAAAAAAAAAAAAAAAAAAAAAAAAAAAAAAAAAABIAAAAABkcAACQAACQAAAMAAAAAAAAAAAcAAAAAAAAAAAABAEcAAAACAAABAAAAAAAABwIAAgMAACQBAAAAAAAAAgACAAAAAAAAAAIAAAIAAAACAQEADQUCAAAAAAAAAAAAAAAAAAAAAAEAAAAAAB0AAAcAAAAAAAAAAAAAAABIAAAAAAAAAAAAAgAFAAAAAwACAAEAAAABAgAAAwACAAAFAAAAAAADAA0DAAcAAAAAAA0AAgAAAAACAAAACiQAAAAAAAAAAAAAAAAAAAAAAAEAAAAAAAAAAAAAAAAAAAUAAAcAAAACAwAAAAAAAwAAAAAAAAAAAAAAAAAAAAAAAAACAAAAAAAAAAAAAwAAAAAkBAAAAAACAAACAAAAAAAAAwMAAAAAAAAAAAAAIgEAGwAAAAAAAAcAAAAAAAAAAAIEAA4AAAIAAAAAAAAAAAABCgcAAAAAAAAADAAAAyQAACIAAAAAAAAAAAAAAAAAAgAABwAACQAcAAAAAA0AAA0AAAEAAAAKAAEAAAAAAAIAAAIAAAcAIgAAAAADAAAAAAADAAAAAAAAAAAAAwAAAAAAAAAAAAECAAAAAAAlAAAAAAAAAEcABQAAAAAAAAAMAAAAAAAAAAAAAAAAAAAAAAAAAAAAAQAAAAAEAgAAAAAAAAIAAAAAAAAAAAAAAgAAAAADBQAAAAAAAAAAAAAAAAAAAAAAAAAAAAAAAAAAAAIAAAEMAAAAAgAAAAADAAADAAMABwAAAAAAAAAAAAAAAgADAAAAAAAAAAACAAAAAAAAAAAAAAUAAAAAAAAAAAAAAAAAIgAAAAAAAgIAAAAAAAAAAAABAg0AAAAAAAANAAAAAAIAAgAAAAAAAAAHBQ0AAAAAAAAAAA0FAABHAAAAJQAAAAcAAAAAAAIAAAAAAAAAAAAAAAAAAQAAAgAAAAAAAAACAAAAAAAAAAAAAAAAAAAAAgACAAcCAQAAAAAAAAAAAAAAAAAAAAAAAAAAAQAAAAAAAAAAAAAAAAAAAAAAAAAkAAAAAAAAAAAAJQAAAAAAAAAABQADAAIGAAACAAAAAAAAAAAAAAAAAAAAAAAAAAAAAAACAAAAAAAFAAAAAAABAAAAAAAAAgABAAAAAgAAAAAAAAAAACUAAAIAAAAAAAAAAQ0ABwIdAAEAAAAAAAIAAhoFAAAAAAAAAAMAAAAAAAAAAAIAAAAAAAAAAAACIgAAAAAACAAAAAAAAAAAAAAAAAAkAAAAAAAEAAAFAwAABQAAAAAFAAAAAgIAAAAAAAIAACIAAAMAAAAFAAEAAAAAAAAAGgAAAAAAAAAiAAAAAAAAAAABABQFAAAAAAAAABoAAwElAAAAAAAAAAAAAAACAAAAAAIAAAAAAAAAACQkAAACAA0BAgAAJAAAAAANCgAFAAAAAAAAAAAAAAIAAgMHAAcAAAAAAAAAAAAAAAAAACUAAAAAAAAAAAACAAAAAAAAAAAAAAAAAAAAAAAAAAAAAAUAAAAAAAAFAAAAAgAAAAAAAAAAAAAAAAAAAAAAAAAAAAAAAAAAAAAABwUAAAAAAAcAAAAAAAABAAIAAAAAAAAAAAACAAAAAAAAAAABAAUAAAMAAAACAAAAAAAFAAcABgAAAAAAAAAAAAAAAAAAAAUHAAAAAwAAAAAAIgAAJAAAAAIDAAAAACUAAEcAAAAJAwAAAQAAAAAAAAAAAAAAAAAAAAAAAQAAAAAAAAAAAAAAAQAAAAAAAgAABwAABQUAAAAFAgAAAAAHAAIDAgAAJAAAAAAAAwAAAAAABQAAAAAAAgAABwACAAAlAAIAAAAAAAAABwAAAgAAAAIAAAAAIgAAAgAAAgAAAAAAAAAAAAAAAAAAAAAFAgIAAAEAAAAAAAAAAAAAAAAABgAAAAAAAAEAAAAAAgAAAAAAAAcAAAAAAAACAAAAAAAAAgAAAgAAAAAAAAAAAAAAJAAAAAAAAAAAAAAAAwAAGgAAAAAAAAAGAAAAAAAAAwAAAAAAASUAAAAAAAcAAAAlAAAAAAAAAAAAAAIAAAAAACQAAAAAABoAAAAAAgcAAAACAAcAAAAAAAcAAAAAAAAAAAAHAAEAAAAAAAQAAAAABAAAAAAAAwUAAAANDQMAAAAAAAAAAAICAAAAAAAFAAAAAAAABwYARwAAAAAAAAAFBQUDAAAABQAAAwAAAAUAAgAAAgAAJAAACiIAAAAAAAAAAAIAAAAAAAAAAiUFAAAAAAADAAADAAUAAAAAAAAAAAUAAA0ABQMAAiQAAAIAJCQAAAAAAAcAAAAAAAAAAAAAAAAAAAAAAAAAAAAAAAAAAAAAAAAAAAAAAAAAAgAAIgAABwAAAAAAAQAAAAAAAAIAAAAAAAMAAAAAAAAAAAAAAAACAAABAAAAIwAAAAAAAAAAAA0AAAAFAAAAAAAAAAAAAAADAAAAAAAFAAAAAAAAAAoGAAAAAgAABgAAAAAAAAAAAAABAAAHAAACAAAFAAACAAcAAA0HAAAAAAAEAAMCAAACAAAAAgAAAAAAAAAAAAAAAAAAAAAAACUAAAAAAgAAAAACAAAAACQDAAFJAAAAAAAAAwAAAgAAAAAEAAAABQAAAAAAAAAAAAAiAAEAAAAAAAAAAAIMAAIAAwUAAAAAAyUAAAAAAgAAAAAAAAAAAAAAAAAAAAAAAAAADQAAAAAAAAAAAAAAAAAAAAAAAAAAAAAAAAAAAAAAAAAAAAAAAAEFAAACAAAFBQAABQAAAAACAAAFAAAAAAAAAgAAACIAAAAAAAAAAABHAQAACAAAAAAAAAAAAAAAAAUAAwAAAAIABwAAAAAAAAMABgAHAAAAAAcAAAAAAAAADQAAAAAAAAAAAAAAAAAAAAAAAAAAAAAAAAAAAAAADQAAAAAAAAIAAAAAAAAAAAAAAgAAAAAAAAYAIgAAACIAAAADAAEAAAAAAwAAAAAAAAAAAAADAAYAAgAAAAAAAAAAIiQAAAAAAAAABAAAAAAAAAAFAAAAAAAAAAUAAAAFAAAAAAAFACIkAAAAAAAAAAAAAAAABQAFBAAAAAAAAAAAAgADAAAAAAAEAAAAAwAAAAAAAAAAAAAAAAAAAAAAAAAAABoCAAAAAAAAAAAAAAAAJAAAAAAAAAAAAAAAAAQAAAAAAAAAAAAAAAAAAAAAAAAAAAACAAAABQAFAAAFAAAAAAAAAAAAJgIAAAUAAAAMAAAAAAAAGgABAAIAAAAAAAAAAAAHAAAAAAACAAAAAAcAAAAAAAAAAAADAwACAAEAAgAAAwACAAAAAAAAAAAAAiQABQAAAgAAAAAHAAAAAAAAAAAAAAAkAAAAAgACAAAAAAAAAAAAAAcABwADAAAAAAAAAAAAAgAAAAAAAAIAAAAAAAAAAAAAAAAAAAADAAAAAAAAAAAAAAMAAgAAAAAAAgMAAAAFAgIAAAAABwAAAAAASAAAAAACAAAAAAAAJAIAAAAAIgEAAAIAAAAAAAAABQcHAAAAAAAHAAAAAAADAAAAAAAAAAAAAgAAAAAAAAAAAQAAAAAAAA0BAAADAAAAAAAAAAAAAAAAAAAAAAAAAAEKAAMAAAADBQAAAAAAAAAAAAADAAAAGgAAAQAAAAIAAAUAAAAAAAIAAAAAAAYFAAAAAAIAJQAAAAADAAAAAAABAAoAAAAAAAAAAAAAAAAAIgAABQAAAAAAAAAAAAAAAAAAAAAHAAAAAAAIAAQAAAAAAAAACgAAAAAAAAAAAAAABQIAAAAAAAAAAAACAAAAACQNAAACAAAAAQAAAAAAAAAABwAAAAAAAAAAAAAAAAEAAAABAwAAAAAKAAAAAAAAAAAiAAAAAAUAAAAAAAAAAAAAASQBAAAAAAEFAAAAJAAAACUABwAAAwICAAAAAAAABQUAAAAkByQAAAAAAAAAAAIkAgAAAAAABAANAAAAAAABAAAFAAAAAAAAAAACAAAAAAAAAwAAAAAAAAAAAAAABwEHAAAAAAAaAAAAABoAAAAFBwAAAAADAAAAAAAAAAAAAAACAAAAAAoAAAAAAAAAAAAAAAcBAAIAAAAAAAAAAAAAAgIABwAAAgAAAAAACQUAAgAAAAAEAAAAAgAFBQAAAAAFAgAAAAAAAAAAAAAAAgAAAAIAAAAAAgAAAAAAAAAlDAAAAAABAgAAAQAAAgAAAAAAAAIFAAABAAAHAAADAAAAAAAHAAAAAAAAAAMAAAAAAAAGBQAAACQAAAAAAAAAGgACAAAABwAaAAAACQAAAAIAAAAFAAAAAA0AAABHAAEAAAMAAwAAAAAAAAAAAAEAAAAAJQAAIiMAAAAAAAAAAwIAAAAAAgAAAAAAAAAAAAAAAgAAAAAABw0AAAAAAAAAAEcAAAABBQAAAgAAAAADAAEDAAAAAAAAAAAAAAAAAwAARwAAAQACBwAAAAAAAAAAAgMCAAAAAAAHAAAAAAMCAAAAAAAAAA0AAAACAAcAAAgMAAAAAAgAAAcAAAAAAAACAgAjAgAAAAAUAAAAAAAAAAAGAAAAAAAAAAUAAAAAAAACIgAAAEgAAAQaAAAAAAAAAAAAAAUAAAAABQAAAAAAAAADAAAAAAABAAAKAAAHAAAFAAAAAAAAAAAGAAcAAAAAAABHAAAAAAAEAAAAAAAAAgADAAAAAAAABQAAAAAAAAAAACIAAAAAAAAAAAEAAAAAAAAAAAABAAAAAAEAAwAAAAAAAAUAAAAAAQAAAAAAAQAAAAAHAAAAAAAAAAAAAAAAAAAAAAAAAEcCAAAAAAAAAAAAAAAKAAAAABoAAAAAIgMAAAEAAAAAAAAAAgAFAAAAAAAAAAAAAAAFAgAaAAAAAQAAAAAAAAAAAAIAAAAAAAACACUAAAAaAAAAAAAAAAAAAAAAAAAAAAAFJAAAIgAAAAAAAwAAAAAAAAAAAAAAAAMAAAABAAAAAAAAAAAABQAABwAAAAACAAAAAA0AAAAABQAAAQAAAAAAAAAAAAAAAAIaAAEiAAAAAAAAAAAAAAQAAAAAAAAAAAAAAAAAAAAAAAAAAAAAAAACAAAAAAAAAAAAAAAAAAAMAAAAAwICAB0AAAAAAAAAAAAAAA0AAAAAAAAAIwAAAAAiAAABAAAAAQAAAAAAAAIDAAAHAAAAAAAAAAAAAAEAAAAAAAAAAAAAKQAAAAACAAAAAA0NAAAFAAAAAAEAAAAAAAAAJAACBQUFBQAAAAMAAAAAAAAABwAAAgAAAAIAAAAAAAAABQAAAAAAAB0AAAAAACQABQAAAAAAAAAAAAAHAhAAAAAAAAAAAAACAAECAAIDAAAABQAABQAAAAAAAwAAAAAAAAAAAAAAAAAAAAAaAAAAAAAAAgAAIgAAAAUAAAAAACQAAAAAAAAAAAAaAAcAAAACAgAAAQAAAAAAAAAAAAAAAAAFAAAAAAACAAAAAAABAAAAAAAAAAACAAAABwMAAAAAAAAAAAUAAAUAAAAFAAAAAAAAAAAAAAAAAAAAAAAAAAAAAAAAAAAAAAABJQAAAAAHAAAABQIkAAAAAAAFAAAAAAAAAAAAAAACBwAAJAAAAAAAAAAAAAAkAQAAAAADAAAFBQAAAAUABAIjBQAAAAAAAAYABwAAAAAABQAiAAAAAAIFAAAAAAAAAAAAACQAAAcAAAAAAAYABQAABwAAAAAHAAAAAAAAAAAAAAAAAAAAAAACAAAAAAAAAAAAAAAFAAAAAAAAAAAHAgIAAAAkAAACAAMFAgAFAAIBAAAAAAAAAA0AAAMAAAIAAwQDAAAAAAAAAAAAAAEAAAAAAAMAAAAAAAAKAAcAAAAABQAAAAAAAAgAAAAAAgAAAAAAAAUAAAAAAAAAAAAAAAAAAAAAAAAABQAAAAMAAAACAAAAAAEAAAAAAAAAAAAAAAAAAAAAAAAAAAAEAAAAAAIAAAAAAAAAAAACAAIAAAEAAAAAAAAiAAcAAAABBQAiAAADAAAAAAUAJQAAAAAAAAAAAwAAAAAAAAAAAAAAAAUBAAIAAAAAAAAAAAAAAAAAAAAAAAAOAAAAAAAAAQACAAAAAAAAAAcAJAAAAAAFAAACAAAAAAAAAAoAAAAAByQHAAAAAAAFAAAAAAMAAAAAAgACAAAAAAAAGgAAAAABAwAiAAAAAAACAAAAAQIAAAIAAAAAAAAAEgYAAAIAAAUABwIAAAAAAAAAAgAjAAAABQUAAAAAAAAAAAYAAAAAAAcAAAAAAQAAAAAADQAAAA0AAAMCAAcABwACAAAAAgAABwAAARoiAAAAAAAAAAACAAAAAAIAAAAAAAAAAAAIAAAAAAoDAAAAAAAAAAAAAAAABwAAAAAFAAAAAgABAAAAAAcAAwEAAAAAAAAAAAAAACUAAAAAAAAAAAAHAAAAAAAAAAAAAAAAAAAAAAAAAAIAAgAAAAAAAAAAAAcCAAAAAAMDAAwAAAUAAAAAAAMAAAAABQAAAAAAACQHBAEHAAAAAAAAAAAGAAAAABoAAAACAAIAAAMAAAAAAAAAAAAAAAAAAAAABwAABwAAAAAAAAAAAAAAAAAAAAIAAAIAAAADAAAAAAMAAAAAAgAAAAACAAAAAAAABQAAAAAAAAAAAAAAAAAAAAAAAAAAAAAAAAAAAAAAAAAAAgMAAAYHAA0AAAAFBQAAAAAAAAEfAAIAAAAAAAAAAAAAAwAAAAAFAAAACiQAAgUAAAAFJQAdAAAEAAAABgADAgAAAAAAAAAACgAADQAAAAAABQUAAAAADAAAAAAHAA0AAAcAAAAiAAAAAAYAAAAAAAAAAAAAAAAAAAIAAAAAAgAABQAAAQUAAAAAAAIAAAAAAAAAAwAAAAcAAAAAAQAQAAAAAAADAAAAAQAAAAAAAAABACQAAwAFAAAABQAAAAAABwAAAAAABQAAAAMAAAcDACIAAAAABQAAAAAAAAIFAAAAAAIAAAAAAAAAAgAFACQAAAIAAAAAAAAAAAAAAAAAAAAAAAAAAAAAAAAAAAAAAwAAAgAAAgAAAAAAAAAAAAAAAAAAAAAAAAADCgAAAAAAAAAAAAAAAAkAAAAAAAAAAAEAAAUHAAACAwIAAAAAAAAAAAAAAAAAAAECCgAAACIAAAYCAgAAAAIAAAAAAAJHAAAHAAMAAAADAAAAAAAAAAAAAAAABwAAAAAAAAAAAAIAAAcAAAAABwEAAAIJAAAABQAADAAAAAAAAAAABQAAAQABBQMAAgAABAAEBwAABwAAAAoCCQAAAAABAAEAAAAAAAAAAAAAAwwAAAAAAgAAAAAABwAAAAAAAAAAAAIAAgAAJAcAAAAAAAAEAAAAAAAAACUABwAAGgAaAAAIAAAABQAaAAAABwAAAAAAAAAAACIAAAAAAwElAAEAAAAAAAUkAAAFAgAAAAAAAAQCBQAkAAAAAAAAACUAAAAMABsAAAAFBgAABQAAKQAAAAAaAAAAAAAAAAAlAhIAACQCAAAAAAAAAAAAAAAAJgAAAAAlAAAAAAADAAAAAAEAAAABAAACAAAAACQAAAAAAQMAAAAAAAAIBQAAAAAAAwUAAgAAAAAAAAAABwAAAQAAAAAAAAADAAAiAAAAAAQEAAAaAAAAAAACAwACAAQAAAAAAB8CAwAAAAAAAAACAAMAAAAAAAAAAAAAAAAABQAAACIAAAAAAAAAAAAAAAAAAAAFAAAiAAAAAAAABwAAAAAAAAAAAgAAAAAAAAIAAAADAAQAAAcAAAAAAAAAAAAAAAAAABAAACQAAQAAAAAAAAAAAAAAAAMAAAAFAAAAAAAAAAAAAAAAAAAOAAACAAAAAAIAAAcAAAAAAAAAAQAAAgAAAAAAAAAAAAAAEgAAAAAAAAAAAAAAAAAAAAEAAAAAAAAABQAAAAAAAAAAAAAAGiQAAAAAAAAAAAAkAAAAAAAAAQAAJQAAAAABCAAAAAAAAAAAAAAAAAAABQAAAAAAAAAAAAAAAAAaAAAAAAAAAAAAIgAAAAAAAAABDQAAAAAAAAAAAAAAAAEAAAAAAAAAAAIAAAAAAAAAAAAAAAAAAAAAAgIABwAAAAAAAAAABQAkBQAMAgAAAAAAAAABAAAAAAAAAAAAGgAFAAAAAAADAAIAAAAAAAAAAgAAAAEiAAAAAAAAJAAAAAAADQAAAwAAAAcAAAAAAAAAAAACAAAAAAAAAQIAAAAAAAABAAIAAAAAAAAAAAAAAAIAAgAFJAADAAcAAAAABgAGAAAAAwUAAAEAJAAAAAAAAAAAAAACAAAAAAAAAAAFAAAAAAABACQAAAECAAAAAAAAAAAAAgAAAAMAAAAAAAIAAAUAAEcAAAAAAAMAAAAAAAAfBQAAAA0AIQAAAwAGACQHAAAAAAACAA0AAAUBAAAEAAAAAAAAAAAAAAAAAAAAAAAAAAABAAAAAAAAAAAAAAAAAAAAAAAAAAAAAAAAAAAAAQAAAAAAAAAFBQAAAAQAAAAAAAUBAAUAAAUAAgEAAwAAAAABAAAAAAUAAAAABQAAAAAAAAAAAAAAAAAAAAAAAAAAAAAAAEcAAAACAAABAAAABQACAAAAAAAAAAAAAAAAAAACAAAAAAAAAAAAAAAAIgAAAAAAAAAAAAAAAAAmAgACAAABAAcAAAAAAAAABwAAAwMAABoAAAACAAAAAAAAAAAAAAAAAAAAAAAABAAAAAAEDQAABwAAAAAAACIAAAIAAAAAAAAAAAAAAAAAAAAAAAAkAAAAAAAAAAAAAAAAAAAAAAAAAAAAAAYAAAIAAAAAAAAAACIAAAAAAAACHwAAAwUAAwIABwAHGgUCAAAAAAAAIgACAAANAAAAAAAAAwAAAAAABQABAAAAAAAAAAAAJAAAAAAAAAEAAAAAAAAAAAAAAAIAAAAAAAAAAAAABQAAJQEAAAAFAAAABQAAAAAFBQIAAAAAAAACAAAiAAAAAAAAAQAaAAoAAAAAAAMAAAAAAAAAAAAAAAAAAAAAAAAABgAAAAABAAACDyQAAAEAAAAAGgAkAAAAAAcFAAACAAIAAAAABQAAAgAAAAAAAAAAAAAAAAsAAAIAAAAAIgAAAAAADQAAAAABAAAAAAAABwUAAAAAAAUFAAAAAAAAAAAAAAAAAAAAAAUABQAAAAAABQUBAAUCAAAAAgAAAgcAAAAAAAAAAAAAAAAAAAAAAAAAAAAAAAgAAAAAAAAiAgACACQAJQAFAAAAAAAAAQAAAQAAGgAAAAAAAAAAAAUAAAAFBQAAAAAAAAAAAAAFAAAAAgAAAAcAAAAAAAAAACQFAAAAAAAAAAICAAAAAAAAAAMAAAAHAAABAAAAACUAAAIFJAAAAAAAAAAAAAAAAAAAAAAAAAAAIgAAAgAAAAAAAAAAAAIAAgAAAAEAAAAAAAAAAQAAIgIFAAMAGgABAAAAAAAEAAAAAAAAAAAHAAAAAAAAAAAABQAAAAAAAAANAAAAAAAAAAAEAgIlAAAAAAINAAAAAgAABQAAAAIAAAAAAAAAAAAAAAADBQAABQACBRokAAAABQAAAAAAAAAABAAAAAAAAAAGAAAAAA0AAAcAAgAAAAAAAAAAAAAAAAAAAAIAAAAiAAAAAAADAAUAAAIAAAAAAQABAAAAAQACJAAFBwAAAB8AAgAAAAAAAAAAAgAAAAAAAAIAAAAAAAUAAAAAAAAAAAAADQADAgAAAAAAAAAAAAAACAAAAAAAAAAAAAADAAAAAAAABAAAAAAAAAABAAACAAAAAAUNAgAAAAACAgAAAAAAAAIAAAAAAgAAAAAABQAAAAAAAAAAGgAAAAAAAAAAAAAABwAAAAAAAAACGgUAAAIkAAIAAAAAAAMiAAAAAAAHAgAAAAAAAAAAAAAFAgAAAAUAAAAAACUABAAAAAAAAAACAA0AAAAAAAACAAIAAAAAAAcAAAAAAAAAAAAAAAADAgAAAAAAAAADAgMARwAAAAAAAAAFBQAAAAIAAAAAJAQlAAAAAAAAAAAAAAAAAAAAAAABAAAAAAAABR0AAAAAAAAAAAAAAAAAAAAAAAIFBwAAAAAAACQAAAAAAQAAJQAAAAIHAAcABQAAAgADAgkAAgAAAAAAAAAAAAAAAAAFAAAAAAABAAAAAAAAAAAAAAAAAAAAAAAAAAANAAMKAAAIAAIAAAAAAAACBQAAAAUAAAAAAAIAAAAAAAAAAAECAAAAAAAAAAAAAgAAAAAABQAABRoAAAAABQAAAAAAAAAAAAAFAAEAAAAAAAAACAAAAAAAACQaAAAAAAAAAAAAJQAAAAAFAAAAAAEAAAAAAAAAAAAAAAUADAAABgAFAAAAAAACBQUFAAAAAAABAAAHAAoABQAAAQUAAAAjAAAAAAAAAAAAAAAAAAAAAAAAAAAAAAAAAAAiAAAAAAAAAAACAAADAAAACgAAAAAAAAAAAgAAAgAAABoAAAAAAAAAAwAAAAAAAAAAAAAAAAAAAAAAAAIAAAAAAAAAJQAAAAAAAAAAAAAAACUAAAAAAAcAAgAAAAAAAABHAAAAAA0FJAAAAAICAwAAAQAAAAAAAAAABQAAAAAAAAAAAAYAAAAkAAAAAAACAAAAACIAAAAAAAAAAAAAAAAHAAAAAAAAAgAAAAAAAAAADQAAAAAAAAAAAAAAAAUAAwAAAAIAAAABABoADgIAAAAAAAIAAAAAAAAAAAUAAAAAAAAAAAYAAAACCgAAAAAAAAIAAAAAAAIFAAEAAAcCAAAAAAAAAAAAAAAAAAAFAAAAAAUABwAAAAAAAAAAAAAAAAAAAgAkAAIAAAAAAAAAAAAAAAIAAAAAAAAHAAIAAAAAAAAAAAAAAAAAAAAAAAAAAAACAAAEACMAAAAAAAADBw0AAAAAAAAAAAAGBQAAAAAAAwICAAUAAAAAAAAABwAAAAAABQAFAAAFAwAAAgAAAAAFAAoAAAAAAAEAAAAAIwABAwAAAAAAAAAAAAAABQAAAAAAAAAiAQAAAAAAAAAAAgACDQUAAAMAAAIAAAAAAAAAAwAABQAAAAAAAAUAAAAAAAAFDgAAAAAAAwAAAAAABwEADQAAAAMFAAAAAAAAAwAAJAIABQUAAAAAAAUCAAAFAAAAAAAFAAAAAAAAAAAAAAAAAAAAAAAAAgIAAAAAAAAAAAcAAAAAAAAABgAAAAAABwAAAAAAAEcAAAAAAAAAAAAAAAAAAAAAAAAAAgAAAwAAAAAAAAABAAAAAAAAAAAAAAAABwAAAAUAAAUAAAAAAAAAAAAAAAAABwAAAAAAIgAAAAAAAAAAAAIAAAACAAAAAgAAAAAAAAAAAA0AAAAAAAAAAAAAAAoAAgAAAAAAJAAAABoAAgAAAAADAAAAAAAAAAAAAA0AAAAFAAAAAAAAAAAAAAAAAAAAAiIAAAAAAAAAAAAAAAAAAAAAAAADAAAAAAAPAAAAAAAAAAEAAAAAAgAAAAApAAUABQAAAgAAAAAAAAAAACUAACYDAAEkAAAAAAIAAAAAAAAAAAQAAAAAAAAABQAABQAAAAcCAAADAAAAAAAAAAAAAAAHAAAAAAAAAAAAAwcAAAAAAAMAAAACAgAAAAAAAAAEAAAAAAAAAAMAAAAABQAAAAAAAAAAAAAAAAAAAAAAAAAAAAAAAAAAAAQkAAABAAAAAAAAAAAAAQAAAgAAAAAAAAAAAgIAAAANAAcAAAAAAAAAAwAAAAwAAAAAAAAAAAAAAAIDAAAAAQAaACIAAwAAAAAAAAAAAAAAAAAAAAAAAAEFAAAAAAAAIgAAAAAHAAAAAAAFAAAAAAAAAAAAAAAAAgAABScAAAAAAAAAAAQAAAAAAAAAAAAAAA0AAAAADAAAAAAAACYCAAAAAAACACYAAAAAAAAiAAACAAAAAAACAAUAAAAAAAAAAAAAAAIAAAAAAAAAAgAAAAIAAAcAAAAAAAAAAAAiAAIAAwAAAAAAAAAAAgAAAAIiAAAaAAAAAAACAAAABQAHAgAKAAAAAAMlAAAFAAAAAAAAAAMCAAAmAAAkAAAAAgAAAAAAAAADAAAAAAAAAwAAAgAAAAAAAAAAAAAAAgUAAAAQAAAAAgAAAAIAJAAAAAAAAAAAAgAAAAAABwAAAAAAAAAAAAAAAAAAAAAAAAAAAAADAAAAAAIAAAABAAAABgAAAAUAAAAAAAAABwUAAA0AAAACAAAAAAAAAgAAAQAAAAAAAAAAAAAAACUHJQwAAAAAAgAAAAYAAAADAAUABQAFDQEAAAAAAAEFAAMDAAAAAAMAAAAAAAACAAAAAAAAAAAAAgAABSUAAAAAAAAAAAgAAAADAAABAAAiAAAAAAAHAAIAAAAAAQAFAgAAACQAAgAABwAAAwAAAAAAAAEHBQAAAAAAAQACAAAAAAAAAAAAAAEAAAAAAAAAAAAAAAAAAAgAAAAAAAMAAAACAAAAAAAAAAAAAAAAAAAAAgAAAAAAAAAAAAAHAAEAABMAAAAAACQKAAAfAAwCIgAAAAEAAAIAAwAAAAAAAgAAAAAAAAAAAAAAAAcAAAIAAAAAAAAAAAAAAAAAAAAADwAAAAAKDQAAAAAAAAYAAAAAAAAEAAAABgAAAAsAAAIDAAMAAAACAAAHAAkAAAAAAAAAAAAAAgAAAAAAAAAMAAAaAAAAAAAAAAMAAAAAAAMAAAAADQAAAAAAAgAAAAAAAAIAAwAAAAAAAAAAAgACAQAAAAAAAAAAAAADGgABAAAHAAAAAAAAAAACAwAABwAAAAAAAAAAAAAaAAAAAAAAACMACgAAAAAAAAAAAAAAAABHAAADAAAAAAAAAgAAIiQiAAAAAAAAAAAAAA0FABoAAAAFAAAAAAIAJAAAGgACAAAABQAAAAAAAAMAAAABBAAHAAAABwAAAgACAAAAAAAAAAAAAAAFAAACAAoAJQIAAAEAAAAAAAIAAAAAAAAAAAAABQcfAAAAAQACAAAHAAUDAgAHAAAAAAAAAAAAAAUAAAUAAAAAAAIiAAAAAAAkAAABAAAAAAAAABoAAAAAAAAAAAAABQAAAAAAAAAAAAAAAAAAAAACBQMAAAACAAwAAAAAAAAAAAAHAABHAAAAAAIAAAAAAAAAAQAAAAAAAAAAAAMAAAAAAAAAAAABAAAAAAUAACQAAgAAAAAAAAAAAAAAAAIACAAAAwAABQEAAAAAAAAAJAICAAAAAAAAAAAAAAAAAQAAAAACAAACAAAAAAAaAgMFAAAiAAAAAAAFBwABAAECAAAAAQAFAgAAAAUAAQAAAwAAAAAAAAAAAAgAAAAACgAAAAAAAAAAAAAAAAAAIgAAAAAAAAAmAAAAAAAAAQAAAAACAAAAAAIAAAcAAAABAAAAAAACAAAAAAAHBQIAAAAAAAcAAAAAAgADAgAAAAAAAAAAAAAAAAAAAAEAAAEHAAAAAAAAAAAAAAAAAAAAAAAHAAAFAAADAAAAEAAABQAAGgAAAAAAAAAAAAAFBgIAAAcAAAUAJAAAAA8AAAAAAAAAAAAAAAAAAAAAAAUAAAAAAAcAAAMAAAAAAAAAAAAAAAAAAAAACgAAACIAAAAAAAACBQAAAAAAAAAAAAAABAAAJAAAAAAAAAADAAAABwUDAAIAAAAAAAABACICAwAAAAAAAgAAIgAAAAAAAAAMAAAABQAAAQAAAAACBwAAACQAAA8AAAAHAAAAAAUAAAAAAAMAAQAAAAAFAgAAAAAAAwAFAgAAAAAFBQABAwAAAwAAAAAHAAAAAAAAAAIAAQQAAAIEAAAABQIAAAMFAAAAAAACAAAABQAADAkDAAAAAAAAAAAAAAEBAAADAAEAAgAAAAAAAAAAAAAAAAAAAAAAAAAAAAAAAAICAAAAAAAAAAAAAAUAAyIAAAAAAQIAAAAAAAAAAAAAAQAAAAADBQAAAAAAAgAAAAAAAQAAAAAAAAAAAAQAAAIAAAAAAgAAAAAABSQKAAAADQAAAAIAAAAAAAIAJgACAAAAAAAAAwUDAAMAAQACAAADAAAABQAFAAAAAQAAAAAAAAUAAAIAAAAFAAAAAAAAAAEkAAAAAAACAAcCJAUAAAAAAAACBQAAAAUAAgAAAAANAAAAIwAAJAMAAAAAAAAAAAAAAAAAAgAAAAcAAAAAAAAAAiQAAgAaAAAAAAACAAAAAAAAAAABAAAAAAAAAAAAAgAAAAAAAAAHAAUABQAAAAAAAAAAAAAAAAAAAAAAAAAAAwMAAAUAAAAAAQAKAAAAAAIABAAAAAAAAAAAAAADAAAAAAAFAAAAJwMBAAAAAgICAAAAAAEHAAAAAAAAAAAAAAAAAAAAAAAFAAAAAAACAAIAABoAAAAAAAACAAADAwAABQAAAAUCAAAAAgAABQAAAQAAAAADBwACBQABAAABAAAAAAAAAAAAAAABAAcAAgAABwAAAAAAAAMkAiQAAAAAAQMAAAAAAAAAAAAAABoAAAADAwAAAAAAAgEAAAAAAAAAAAACAAAAAQMAAwIFAAMCAAABAAIAAAACAAMAAAAAAAAAAAACACIAAAADDQAAAAAAAAAAAAUAAAAAAAAAAgEnAgAABQADACIAAAACAAAAAAAAAAcFAAAAAgAAAAIAAAAAAAEAAAAAAAAFAAAAAAAAGgAAAAACAAMAAAAABwAAAAAFByQAAAICBQAAAAUlAAAAAAAAAAQAAAAAAAAAAAwAAAAAAAUAAwAAAAAAAAcAAAAAAAAaJAAAAAAAAAAAAAAAAAAAAAAAAAEAAAAAAAEAAAAAAAAAAAAAAAAAAAAAAAAAAAAAAAAAAAAAAAAAAAAHAAcAAAACAAAAAAAAAAIAAAAAAAAAAAAAAAAAAAAAAAcAAAABAAAAAAAAAAIAAAIEAgAAAAAAAAAAAQMABQAAAAAAAAACAAAAAAAAAAAAAAADAAAHAgUAAAIAAAAAAgMAAAAAAAAAAAAAAAAAAAAAAAAAAAAABQAlAAAAAAAAAAACAAIAJAAHAAAAAAgAIgAAAAACAQIAAAAAAAADAAAAAAACAAAAAgAAACQAAQwHAAAAAAAAAgAAAwAABQAAAAAFAAIAAAAAAAAAAAoAAAAAAAUAAAAAAAAAIgAFAAMAAQAAAAAAAAcAAAAAAAAFAAAAAAAAAAAAAgAAAAAAACMAIgAAAAABAAADAAAAAAAAAAUiAAAAAwUaAAAAAAACDAAAAAAAAAAABQACAAAAAAIAAAMACAAAAAAAAAAAAAAAAAAAAAAkAAAABQAAAAAAAgACAAAAAAAAAAAAAAAAAAAAAAAAAAIAAAIAAAAAAAAAAAIAAAAAAAAAAAAAAAAaAAUAAAAAAAAAAAACAAwAAAAAAAAAAAAAAAAAAwIAAQAAAAAAAAAAAgADAAIAAAAAAAAAAwAAAAAAAAAAAAAADQAAAAAJAAAAAAAAAAMAAAAAAAAAAAUAAgAAAAAAAAAAAAIAAAEAAAIHAgADAgAAAAciAAMAAAAAAAAAAAAAAAAABQAAAAAAAAAAAAADAAAAAAAAAAAAAAAAAAAAAAACABsAAAMAAAAAAAAAAAAEAAACAAIAAAAAAAAAAAAAAAAAAAAAAgAjAAECAAABAiQAAAAAAAAAAQAAACYAAAIAAAAABQAAAAMFAAAkAgAHAAEABwAAAAAAAAAABQoDAAIAAAAABAAAACIABQAAAAAAAAIAAAAAAAAAAAICAAAAAAAAAAACAAAABQACAAAGAwAFJAAAAgAAAgAAAAAACQAABQAAAAAAAAQABQADACQBAAIHAAAjAAAAAAAAAAISACUAAAAAAAAAACQAAgAAAAAAAQAAAAAAAAAAGgAAAAAFAAIAAAAAAAIAAgAAAgAAAAACAAACAAAAAAEAAgAAAAAAAAAHAAAAAAUiAAAAIiUAJgAAAAAAAAAAAAAAAwIjAAACACQABwAAAAADAAAABQAAAAAAAAAAAAMAAAAAAAAABQEAAAAAAAAAAwAAAAAAAAAAAAAAAAAAACQFAQAAAAcAAAADBQIAAAEAAAAAAgAAAAAAAAAAAAAAAAAAAAAAAAAAAgIAABMAAAAAAQAAAAAAAAIDAAAAAAAAAAAAAAAAACQAAAIAAAAAAgAAAAAAAAACAAAAAAAABQAkBQAAAAAAAAMAAAAAAAACAAAAAAAAAAAAAAAAAAAAAAAAAAAAAAAAAAAFAAAAAAAAAAAAAAcAAQAAAAAAAAACAAIAAwAAAwADAAAAAAADAAAAAAAAAAAAAAAADQAAAAUAAAAAAAAAJAAEAAEAAAAAAAUNAAAAAAAAAAAiAAAAAAACAQAAAgAAAAAASR8IAAAAAAAABQAAAAQAAAAAAAAABwAFAAAAAAAABwAAAAAAAAAAAAADAAAAAAAAEAAAAAAAAAArAgAAAAAAAgAAAAAAAAAAAgAAAAAAAgAAAAAaBQAAAAAAAAAAAAAAAAAAAAAAAAAAAAMAAAAAAAIAAAAAAAAAACQAAAAAAAIABQcAAAAFAAAAAAAAAgAAAAAAAAAAAgUAAAAAAgAAACQAAAIAAAAAAAAFAwAAAAAAAAUBAAUHAAADAAAAAAAABwAAAAIAAAADAAIAAAAAAAAiAwACAAIAAAAAAAAAAAAAAgAAAAAAAAIAAAAAAAAHAAAAAAADAgUAAgABAAAKAAAGAAMAAAIAAAAAAAAACwUAAAUAAAIAAAIARwAAGgIAAAMAAAAAAAAAAAAAAgAAAAAAAAAAACYAAAAAAAIAAAANAAAABwIAAgAAAAAAAAAAAAAAAAAAAwMAAAAAAAAAAQ0AAAANAAIEAAAAAAMAAAAAAAAJAAAAAAAAAAAAAAAAACQAIgAAAwAHAAIAAAAAAAMAAAAAAAAAAAACAAAAAgAAAgckBwAAAwAAAwAMAAUAAAAAIgMAAAAAAAAAAAIAAAAAAAAAAAAAAAAAAAAAAAAAAAAAAAAAAAEFAAACAAAAAAACAAAAAwAAAgICAAAAAAAAAAAAAAAAAAAAAAAAAAAAAAAAAAcDAgAAAAAARwAAAAAAAAAmAAAAAAADAAAAAgACAAAFAAAAAAAlACQAAAABAAAAAAAABgAAAAAAAAUAAAAAJAAAAAAAAAAAAAAABwAAAAIKAAAABQACAAADAAAAAAAAAAAAACIEAAAAAAAkAAAAAAAAAAMAAAADAAAAAAAAAAAAAAEAAAAAAAEHAAAAJAAkBwAHAAEAAAAAAAQAAAAAAAAAAAAAACIAAAAAAAMHAAAABQ0AAAAAAAAAAAAFAAAAAAAAAgAAAgIAAAAAAAAAAAAAAAEAAAAAAAEAAAAFAAAAAAAAAAAAAAQAAAUAAAAAAAAAAAIAAAAAAAAAAAAAGgAiAAAAAAAAAAAAAAAAAAAAACUAAgAAAAUFAAAAAAAAAAAAAAACAAAAAAAAAAACACIAAAAAAAAAAAAAAAAAAAAkAAAcIgcAAAAAAgUAAAMAAAAAAgAAAAAAAAMAAAAAAAAAAAIAAAAAAAAAAAAAAAAAAAYDAAAAAAAAAAAAAAAAAAUAAgUCAAAAAAAAAAUABwAAAwAkAAUAAAAkAQAAIgAAAAAAAAADBgAAAAANAAAAAAAAAAAFAAAAAAAAAAABAAAAAAAAAAADAAAAAAUAAAAAAAAABgAAAAAAAAAAAAAAAAAAAAAAAAAAAAAAAAAAAAAHBQAAAAADAAAAAAAAJAAAAAAFAAAAAAAAAAECAAADAAAAAAAAAAABAAAAAAAAAAAAAAAAAAAAAAAAAAAAAA0AAAAAAQAAAAAkAwAEAAAAAgAAAAAAAAAFAiIAAAAKAAAFAAAAAAABAAAAAAAAAgAAAAAAAAUAAAAAAAAAAAAAAAAAAAAAAAAAAAAAAAAAAAAAAAAAAAAAAAAAAgAAAAACBAADDQMAAAAAAAUAAAEAAAAABwACAAAAAAMAAAAAAAAAAAAAAAAAAAAAAgAAAAAFBQAAAAABAgAABwAAAgACAA0bAAAAAgAAAAAAAAAAAAAAAAMAAAAAAABHAAAAAAAAACQDAAAAAAAAAAAAAAAAAAAAABoAAAAAAAAAAAIAAAAHAAAAAgIABwAABQACAAAAAAAAAwEFAAAAAAAkAgAAAAADIgASAAAAABoAAAAAAAAaAgADAgIAAgAAAQAAAgAAAAAAAAAaAAAAAwAAAAAABgAAAAAAAAAAAAAAAAAAAAABAAAAAAAAAAAAAAAAAAAAAAAAAAABAAAACCQAAAAAAAAAAAAAAAIBAAAAAA0AAAAAAAAAAgAAAAMAAAAAAAAADQEAAAEAAgcDAAAAAAIAJgAAAAAABAAAAAIAAAUBAAAAAAAAAAAAAAAAAAAAAAACAAAAAAAAAAAAAAUAAAAAAAAAAAAAAAAAAAAAAAAAAAAAAAAHAAAAAwAAAAAAABoAAAEAAAAAAAABJAAAAAABAAIAAAMAAA0AAAAOAw0AAgAAAAAAAAACAAAAAAAAAAAAGg4AAAAAAAAAAAAABwAAAAAkABoAAAAAAAAFAgAAAgEAAAAaAAAAAAAAAAAABgACAAAAAAAAAAAAAAAAAAAAAAAFAAAHAAAFAAAAAAAAAAAAAAAFAAAAAAAAAAAAAAAABgAAAAAFBAcAAAUAAAAAAAAAAAMAAAAAAAACBQAFAAAAAAcAAQAAAAAAAAAAAAUAAAAABwAAAAAAAQIAAAAAAAAAAAAAAAAAAAIAAAAAAAAAAwAABQEAAAAABB0AAAAAAAAAAAAAAAAAAAAAAAAABQAABQAAAAIAJQAAAAAAAAAAAgAFAAAABwAABwcAAAAAAAAAAAAAAAAAAAACAAAFAAAFBQIAAAAAAAUAAAAAAAAiAAAAAAAAAAAAAAAAAAMAAAAAAAAAAA0AAAAAAAAAAAAAAAAAAAAFAAAAAAMFAAAAAAANAQMAAAAAAAAAAxIBAAUNAAAAAAACIgAAAAAAAAAAAAAAAwAAAAAAAgIAAAAAAAAAAgIAAAAAAAAAAQAAAAAAAAAAAAAAJAAAAAAAAAIAAAAAAAAAAAAAAAABAAAAAAEAAAAACAAAAAAAAAAABQAAAAUAAAAAAgEAAAAAAAABAAAAAAAAAAADAAAAAAAAAAAAAAABAAcAAAAAAAAAAAAAAAADAwAAAAAAAAAAAAAAAAACAAAABwAAAAAAAAMAAAAAAAAAAAAAAyIAAgAAAAAAAAAAAAAHAAAAAAAAAAACBQAAAAcDAAAQAAAFAAAAAAAAAAAAAAAAAAcAAAAAAAcAECQAAgAAAAAAAAAAAAAEBwAAAAAAAAAFAAAABQAAAAUCAgAAAAUAAAAAAAAAAAAaAAAAAgAAAAcDAAAAAAAAAAAAAAUAAAIAAAAAAAAAAAAAAAAAAAAMAAAAAAAAAAAFAAAABQAABQADAAAAAAAAAAAAByQAAAAAAAAAAAAAAAAAAAAAAAAAAAAAAAAABQAAAAACAAAFAAAAAAAaAAAAAAAAAAAAAgIAAAAAAAAAAAAAAAACAgIAAgIAAAAAAAAAAAADBQAAAAAAABAABQAEAAABBQAAAAACAAAAAAAAAAAAAAAAAAAAAAAAAAAAAAIAAAAAAAAAAAACAAAcAAAAAgAACgAAAAAiAAAAAAAAAAUAAAACAAIjAAIAABsAAAUABQAAAAADAAAAAAIABQUAAAAAAAACAgAAAAAAAAAAAAIAAAAAAAEAAAAAAAAAAAAAAAAAAgAAAAADAAAAAAABARoAAAUAAAABAAAAAwAAAAACAAAFACIkAAAAAwABAgAAAAAAAAAHAAAADwAAAAAAJAAAAAAAAAAAAAAAAAAAAAAAAAAAAAcAAAAEAAAAAAACBwAAAAAAAAAAAAAAAAAAAAAAAAAAAAAAAAAAAAAAAAAAAAMCAAAAAAUAAAAFAAAAAAAAJSIaBQAABwUAAAAAAAAAAAAAAAAAAAAAAAAAAAAAAAIAAAAAAAAAAAAABQAAAAAAAAADAgAAAAAAAAABAgAAAAUDAAAAAg4AAAAAAAAAAAAAAAADAQACJAAAAgAFAAAAAAYAAAAAAAAAAAADAgAAAAAAAAAAAgIbAAIAAAACAAAAAAIDAAAiAAAAAAAAAAAAAAAAAAAAABEAAAAAAAAfAAAAAAABAAAAAAACBQAAAAAAAAIEAAAAAAAAAAAAAAAAAAAAAAIkAAAAAAAAACYAAAcDAAAAAAAAAAAABQACAAANAAAAAAMAAAAAAgAAAAAAAAAAAAAAAAAAAQAIAAAAAAAAAAIAAAAABQAAAAAAAAUAAAIBAAAEAAAAAAAAAAAAAAAAAAAAAAUAAQAAAAAkAAMGAwAAAAADAAAAAAAAAhAkAAAAAAcAAAAAAAABAAIAAAAAAAAFAAMAAAAAAAIAAAAAAAAAAAAAAAAAAAAAAAIAAAAAAAEAAAAAAAAAAAAAAAAAAQACAAAAAAAAAAAkAAAAAAAAJAAAAAACAgAFAgAAAQAAAAAAAQAAAAIAAAAAAAAAAAAAAAAAAAMAEABHAAAAAAEAAAMAAAAAABABACQCAAcAAwAAAAAAAAAAAAAAAAUAAgAAAAAADQAAAAAADQAAAAAAAAAAAAIAAwAAAAAAAAAAABoNAAAAAAIAAAAAAQAAAAIAAAAAAAAAAAAAAgAAAAAAAAAAAAAAAA0AACIAAAAAAAcAAwIAAAMAAAAAAAEAAAAFAAAAAAAAAAAHAAAAAAAADAAGAAAFAAAAAAAAAAAABQAAAAAAAAAHAAAAAAAACAACAAEAAAAAAAUAAQAAAgAADQAAAAUAAAoAAAAAAAIAAAAAAAAAAAAAAAAAAAAAAAAAAAAAAAAAAAAAAAAAAAAABgAAAAAAAgAFAAAAIwAFAAAAAAIFAAAAAAgHAAAAAAAAAAAAAAAAAAAAAAAAAAAAAA0AAAAAAAAAAAAAAAAAAQAAAAAAAgAAAAEAAQoADhoAAAcAAAIAAAIAAAAAAAAAAAACAAACAAAAAAAAAAIDJAAAAAAABgAAAAAAAAABACIAAAAAAAAAAAAAAwAAAAAAAAAAAAcAAAAFAAcAAAADAAACAAAAAAAAAAUAACkAAgAAAAAAAA4AAAADAAIAACIAGgAAAAAAAAACAAAAAAAAAAkAAAAAAAAAAAIAAAAAAQAAAAAAAAAAAAAFAEgHAAUAAAAAAAAAAAACAAAAAAAGAAAAAAAAAAAAAAIABwAAAAAAAAAABQIAAAcAAAAAACIBAAAAAAEAAAAAAAAAAAAAACIAAAAAAAAAAQAAAgABAAACAAAAAAAAAAQAAAEAAAAAGgAAAAAAAAUAAAACAAAAAAAAAAAAAAAAAAAFAAAABwAAAAAAAAUDAAAAAgAAAAAAAAAAAAAAAAAAAAAAAAAAAgAAAAAAAAAAAAIAACUAAAAAHwAAAAcAAAAAAAAAACQAAAABAAAAAAcADAAAAAAAAAAAAAUAAAAAAAAFAwAABQAkAgAkAAAAAAAAAwAAAAAAAAAAAAAAAAAAAgAAAgAAAAUCAAAABxoAAwAAAAAAAAIAAAIAAAAAAAAAAAAAAAAAAAAAAAAAAwAAAAMHAAAAAAAAAQAAAAAAAgAAAAAABQIAAAAAAAAQAAAABQAAAAAAAgAAAAAAAAAAAAAAAAAAAAAAAAAkAAAAAAAAAgAABQAAAAAaABoAACYAAAAAAAAAAAAAAAAAAAAAAAACAAAAAAcAAAAFAiIAAAAAAAAAAAACBQAAAAAHGgAAAAAAAAAAAAAAAAABAAAAAAAAAAAAAAAAAAEAAAAAAAAADQIAAAAAAAAAAAAAAAAFAAAFAAAAAAAAACQDAAAAAAIAAQAAAAAAAgMCACIiAAACAAAAAAAABQAAAAAAAAAAAAAAAAAAAAAAAAAAAAAAAgEABQAAAAAAAAAAAAAkAAAAIgAAAAAGAAAAAAAAAAMAAAAAAAAAAgcNAAAAAAAAAAAAAAAADQADAAAAAAAAAAAAAAAAAgAAJQACAAAAAwIAIgAAAAAAAAAAAAAAAAAAAAAAAAAAAAAAAAAAAAAAAAACAAUAJQMAAAAAAAAAAAAAAAAAAAAAAAEACAAAAAIAAAAAAAAAAAAAAAIAAgAAAAMAAAAAAEcAAAAAAAAAAAAAAAAAAAADAAAAAAAAAAAAAAIABQAAAAAkAAAFAAAAAQUiAgAAAAAAGgIDAAAAAAMABCQAAAAAAAAAAAAAABoABQEAAAAAAAAAAAwAAAACAAAAAAIAAAAAAAAIAAAAAAAAAAAAAQAAAAAAAAADAAAAAAAAAAAjAAAAAwAAAwMAAAAAAAAAAAAAAAAAAAAAAAAAAAAAAAAAAAAAAAIAAAAAJAcAAAAAAAIABAAAAAAAAAAAAAAAAAAAAAAAAwAAAAABAAAAAAAAAAEAAAADAAAAAAgAAAAAAAAAAAAAAwADAAAAAAAAAAEAAAAAAgADBQAABwAAAAMAAAoAAAAAAQAAAAACAAAAAAAAAAAAAAMAAAAAAAAAAAAAAAAAAAADAgAAAAAAAAADAAAAAAMAAAADAAAAAAIAAgAAAAAAAAAAAAAAAAAAAgAFABIAAAAABwAAAAAAAAAAAAAABwACAAAAAgAAAAMAAAAAAAEAJAAAAAAaAAACAAABAAAAAAAiAAAAAAEHAAAAAAAAAAAADAAADQAAAgAAIgAACAAAAAAFAAAADQAAJAAAAAAkAAkADAAAAAEAAAAQAAAAAgAAAAUAAAUAAAAAAAAAAAAAAAAAAQAAAAAAAgAAAAAAAAABAAAAACICAAAAAAAAACUAAAAAAAACAAAAAAAAAgAAAAAAAAAAAAAAAAAAAAAAAAAAAAACAAACIgACAAAAAAAAACQAAAcAAgAAAAAAAAAAAAAAAAABAAAAAAABBgAAAAAAAAAAJAAAAAAAAAUFAAAAAAcAAAQCAAAAAgAEJAAAAAAAAAIAAAAAAAAAAAAAAAAACAAAAAAFAgAAAwACAAAAAAAAAAAAAgAAAQAAAAAAAAAAAAAAAAAAAAAAAAACAAAAAAAABwAAAgAAAAAAAAAAGgAAAAAAAQAAAAIAAAIAAAAAAAABAAAAAAEAAAAAAAAAAAAAAAAAAAACAAMAAAAAAAAABgAGAAAAAAABAAAAAAAAAAACAAQaAAAAAAAAAAAAAAAAAAAAAgAAAgAAIgIAAAAAAAAAAA0AAAAAAAAAACIAAAAAAAIAAAAAAAACAAAAAAAAAAAAAAAAAAAAAAUAAAABAAAABQAAAAAAAgAAAAAAAgAABwAAAAAAAAADAAMDAgIAAgAAAAIAAgAABwAAAAAAAAAAAAEBDQAAAAAAAAUkAiQCAAAAAQYAAAAAAAAAAAAAAAACAgEBAAAAAAAAAAAFAAAAJAAAAAAAAAAAAAEiAAAAAwAAAAAAAAAAAAAAJQAAACIAAAAAAAAAAAAAAAAAAQAAAgAAAAAAAA0AAQAIAAAAAAAAAAAAAgIFAAADAAAAAAAAAAAAAAAAAAcAAAAAAAIAAAMHAAAAAAMAAAAAACIAAAoAAAUBAAABBgAAAAAAAAADAAAAAAcFAAAAAAAAAAAFBgAAAAAAAAADAAAAAAABAAAAAAAAAwACAAACAAAAIgIAAAAAAA0AAAAAAAAAAAAAAAAAAAAAAAAAAwAAAAAAJAAkAAAAAAAAAAAAAAAAAAAAAAAAAAAAAAcAAAMCAAAAAAAADAAAAAAAAAAFACYAAAMAAAEBAAAAAAAAAAUACgAAAAAAAAACAAAAAAAAAAAAAAAAAAAAAAAAAAUDACQFAwAAAAAAACQAAAMABQEAAAAAAAIAAgAAAAAAARoAAAUAAAAAAAAAAQAAAAAAAAAAAAAAAAAAAAIAAAABAAAAAgAAAAIAAAAAAAAAAAMAAAAAAAAAAAAkAAACAAAEAAANAQAAAAAAAAAAAAAAAAAAAAAAAgACAAAAAAAAAAAAAAAAAAAAAAAAAAIAAAAAAAAAAAAAAAAAAQAABAMCAAAAAAAAAAAAAAIkAAQCBwMAAAAAAAAAAAAAJAAAAAAKAAAAAQAFAAAAAgIAAAAAAAAAAAAAAAAAAAADAAAHBAAAAAAAAAAAAQACAAAAAAAAAAMABQAACgAAAAAAAAAAAAAEAAABAAAAAAAAAAAAAAAAAAIAAAAAAAAACQIAAAAAAAAAAAADAgAAAAAAAgAAAAAFAAAABQAABQcBAAEAAAAAAAACAAAAABoAAAAAACIAAAAAAAAAAAAAAAAAAAAAAAACAAAABwAAJAIAAAAAAAAAAAAAAAAABgAAACQDAAAAAAAAAAAAAAAAAAAAAAAAAAAIACIjAAAAAAAAAAAAJAAABQAaAAAAAAAAAAAAAAABAAAAAAAAAAAiAAAAAAIAAAAAAAAAAAAAAAMAAAAAAgAAAAAAAAAAAAAAAAACAAIDAAAAAAAAAAAAAAAAAAAAAAAAAAAHAAAAAAAAAAAAAAAAAAAAAAAAAAAAAAAABwEAAAAAAEcAAAcAAAACAAAAAAAAAAAAAAAAAQAAAAAAAAAAAAIAAAAAAAAHAAAABQAAAAAAAAAAAAAAAAAAAAcAAAUAAAAAAAAEAwACAAAAAAAAAAAAAAAAAAAAAwAAIwAAAAAAAAAAAgEFAAAAAAMAAikAAwMAAAABAAAAAAACAAAAAAAAAAAAAAAAAAAAAAIABQAAAAAAAAAAAAACAAAiAAcAAAAAAAAAAAMAAAAAAAkAJAAAAQAAAgACAAUBAAAAAAAAABsAAAAAAwAAAAMDAAACAAIAAAApAAAAAAIAAAMAAAAAAAAABQAAAA4AAAAAAAAAAAAAAAAAAAAiAAAAAAAABQAAAAAAAAAAAAABJAAAAAAAAAACAAAAAAYAAgAAAAIAAAAAAAMHAAAABwAAAAIFAAEBAAcADAAAAAAHAAAAAAAAAQAAAAMAAwAAAAMAAwEABQAAAAAADQAAAAAABAEAAAAAAAECAwAAAAMAAAIBAAAAAAAAAAAAAAAAAAQACQAAAAAAAAQAAAAFAAAAAAAAAAABAwUBBwAHAAAAAAADAAAAAAEAAAAAAAAAAAAAAAAAAAUAAAABAAAAAAICBQAAAAAAAAcCAAMDCAIDAAMAAAUFAAAAAAAIAAIAAAAABwAFAAAAAAACAAAAAAAAAwABAAAAAAAAAAAAAAAAAAADAAAABQAAGgAAAAUAAAAAAAAAAwAAAAAAAAAAAgAAAAAAAAAHAQAAAAAAAAIAAAAAAAEAAAUAAAACBQAAAAAAAAAAAAIAAB8AABoBAAAAAAAAAgAAAAAAJAAAAAAAAAAFAAAAACUABQAAAgAAAAABAAAAAAAAAAACAAACAAAAAgAAAAAAAgAAAAMAAAAAAAAABgUAAAAAAwAAAAIAABoAAB0AACIAAAAAAAAAAAUAAAAAAAAAAAAAAAAAAAIAAAACAAAAAAAAAAEcAAAAAAwABwACBwAAEEcCAAAAAAAAAAQAAAAAAAAAAAAAAAAAAAAAAAAAIgAAAAAAAAAAAAAAAAAAAAIAAAoAAgAAAwAAAAAAAAAAAAAQAQAaAAAAAgAABQAAAAAAAAAHAAAAAAAAAAAAAAAAAAAACgAAABoAAAUAAgAAAAAAAAcAAgABACIAAAAAAgAAAAAAAAAAAAEABQYAAAAAAAACAAAAAAAAAwAAAAcMGgMHAAAAAAAFAAAAAAAAAAAAAA8AAAAAAAAAAAAAAAcOAAAiAAMAAAkAAAAAAAAAAAAAAAAAAAcAAAAAAAAAAAAAAAAAAAAAAAAAAAADAAAAAAAAACQAAAEAAAAAABEOAAAABQcCAAAAAAAAAAAAAAAAAAIFAAEAAgADAAAAAAAAAAAAAAAAAAAAAAAAAgAAAAAAAAAAAAQAAAAAAAAAAAACAAAAAAAAAAIAAAMAAAAAAAACAAAAAAAAAA0AAAASAQEAAAAAAAEAAAACAAAAAAAAAAAAAAAALQACAwAAAAAAJAABAAwCAAAAAAUAAAAAAAAAAwAAAAAAAAAAAAAABQAAAAAAAAAAAAAAAAAAAAACAAUAAAAAAAAAAAAFAAAAAAAAAAAAAAAAAAAAAAAAAAcAAAAAAwACABsAAAAAAgAAAAACAAAAAAcACQAAAAAAAAAAAAAAAAUAAAAAAAAAAAAAAAAAAAMAAAAAAAAAAAIAAyQAAAEAACIAAAAABQEAAAAAAgAAAAQAASIAAwUFAAAAAAMkAAAAAAAAAAAAAAAACAAAAAAAAAUAAgAAAAAAIgAHAAAAAAAAAAAAAAAAAAAAAAMAAAAAAAACAAAAAAAAJAAAAAAAAAAAAAAAAAAAAAAAAAAAAAAAAAAAAAAAAAAAJQAHCgAFAAIAAAIAAAAAAAAAAAIHBwAAAAAABQIAAAACBQAAAgMAAAAAAAACAAAAAAAAAAAAAAAAAAAAAAIDAAAAAAAHBgACAAAAAAADAAAAAAUCAAAAAAcAAAcABwAAAAAAAAAAAAAAAAAAAwYAAAAAAAAAAAAAAAAAIgAAAAcAAgAAAAAAAQcAAAAAAAAAAAMCAAIAAAAAAAAAAAAAAAAAAAAAAAIAAgAABQEAAAAAAAAAAAAAJQAAAgIAAAEJCgAAAAAABwADAA0FAAAADQAABQIAAAAAAAAAAQEBAAAAAQAAAAACDQAFAAAAAAACAAACAAAAAAAABwUAAAMKAAcAGgAkAAAAAgAAACQAAAANAAAAAAAAAAAAAgAHAwAAAAAAAAAAAAMAAAAAAQAABQEAAAAAAAAAAAACAAAAAAAAAgMAAAAAAAAFAAcABwAAAAAAAAAkAAVHAAAAAAAAAAIAAAAAAAAAAAAAAQAAAAAAAAAAAAAAAAAAAAIAAAAAGgAAAAAAAAAABQAAAAAAAAAMAAAAAAAAAAAAAgAAAAAAAAABAAAAAAAAAAAHAAAAAAACAAAAAwAKBQcAAAAAAAAAAAAAAAAAAAAAAQAAAAAAAQAAAAAkJCQHAAAAAAAAAAANByQAAAMAAwAAAwAAAAIABQAAAAAAAAAAAAAEAAEAAAAAAAAAACMABQAAAAAAACUAAAAABQAAAAAAAAAAAAEADgAAAAAAAAAAAAAAAAAAAAAAAAAAAAAAAAAAAAAAAAAAAAAAAAAAAAAAAAMCAAAAAAAAAAAAAAAAAAUHAAAAAAAABwAAAgAHBQAAAAAAAAAAAAAAAAAAABoAAAAAAAAHAAUAAAAAAAAAAAAAJgAAAAAFAAAABgAAAAAAAAAAAAIAAwACAAAAAAADBQAAAAUAAgAAAAAAAAAAAAAAAAUAAAAAAgAAAAACAAAAAAAAAAIAAAAAAAANBQIHAAIAAAACAQAAAAACAAcABwAFAAAAAAACAAAAIgAAAAcFAAAAAAMAAAAFAAAAAAAAAAAAAAcAAAAAAAAAAAAaAgIAAAAQAAAAACYAAAAAAgAAAAAFAAAGAAACAAAAAAAAAAAAAAAAAAAkAAAFAAAAAAABAAAAAAAAAAIAAwAAAAAAAAAAAAAAAAAAAAcAAAABAB8DAAAAAgACAAANAAAAAAAAAAAABAMaAAAAAAAACgAAAAAABAAMAAAAAAAAAgAAAAAAAAAAAAAAJAACBQAABRwAAAAABQAAAAADAAIAAAAAAAAABQcFBwAADCQAAAAAAAAAAAAHAAAADQAAAAAAAAAAAAAAAAAAAAAAAAAAAQAAAAAAAAAAAAAAAAAAAAAkAAAAIgAHAAAAAAEiAAAkAAACAAAAAAAHAAAAAAIAAAAAAAAAAAMAAAAAAAAHAAIFACQAAAAAAAAAAgUAAgIAAAAABQAAAAAMAAAAAAAAAAAAAAAAAAAAAAAAAAAAAAAAAAIAAAAAAAAlAAACAAAAAAAAAAAAAAAAAAAiAAAAAAAAAAABAAAAAAAAAAAAAAIAAAAAAAAAAwAAAAAAAAAAAAIAAAAAAAABACQAAAIAAQAAAAAAAAAAAAAkAAAAJAkAAAAAAAAAAAAHAAAAAAAAAAAAAgMFAAACAAAAJAgmAAMHAwAAAAAAAAABAAAfAAAAAgAAAAAAAAAaAAAAAAAAAAAAAAIAAAAAAAAAAAAAAgAABAACAA4AAAAARwAAABoAAAAFAAAAAAAAAAAAAAAAAAAAAAoCAAMAAAAEAAAAAAUBBAAAAgQAAAAAAgcAAAAAAAANAAAAAAAkAAAAAAAAAAAAAAAaAAAACgAAAAAAAAAAAAAAAAAAAAAAAAAFAAAAAAABAAAHAAAABQACAAABAAMHDwAAAAAAJAAAAAAAAAAAAAAAAAAABQAAAAAAKQAAAQAAEAcAAAAAAA8AAAAAAAIAACQAAAAAAgAHAAACAAAAAAAAAAAHAQAAAAAAAAADAAEAAQAMAAAAAAAABQADAAAAAAAKACMAAAIAAAAAAAIKAAAAAAAAAAACCQAkAAAaAAwAAAAAAAAAAAABACUFAAAAAAEABQUAAAAAAAIAAAAABQAAAAAAAAAABAUAAAANAAAAAQABAAcAAAAAAAAAAAACAAAAAAAAAAAAAAAAAAABAAAAAAAAAAAAAAAAAAAAAAAAAAAABQAGAAAAAAAAAAAAAAAAAAAAAAAAAAAAAAAAAAAAAAAAAA0CAQAFAAAAAwACAAAAAAAABQAAAAAAAAIAAAAAAAAAAAAAAAAAAAAAAAAAAAAAACIiAAAAAAAAAAAAAAAACgAAAAAMDQAAAgAAAAAAAAAAAAAAAAAkAAAAAAAAAAAAAAIAAAUAAQAFAAAAAAAAAAABAAAAAgAFAAAkAwAAAQEAAAAAJAAAAAAAAAAAAAABAAEAAAAAAAAAAAAkAAAAAAMAHAADAAAAAAAAAAAAAAAAAAEAAAAAAAAAAAAAAAACAAcBAAAAAAINAAAAAAAAAAAAAAAAAAAAAAAAAAAABwAAAAAAAgAAAQAAAAAAAgABAAAAAAAAAAACAAAAAAAAAAAABgAAAAAAAAAHAAAKAgAAAAAAAAUAAAAAAAAAAwAAAAAAAAEAJQAAAAAAAAAAAAAAAAIFAAAAAAAAAAACAAAAAAAAAgAAAAAAACIAAAcAAAAAAAAAAAAAAAAFAAANBQAAAAAAAAAaAAAAAAAAAAAfJAAAAAAAAAAAAgAAAAAAAAAAAAcAAAMAAAAAAAAAAA4AAAAAAAAAAAAFAAAAAAYAAAAAAAAEBQAAAAAAAAAAAAAADAAAAAAAAAMAAAAHAAAAAAAAAAAAAAAEAAAADQIAEgACAAAAAAAAACQAAAAAAAEAAAAAAAAAAAADAAAAAAAAAAAAAQAAAAAAAAAAAwAAAAAAAAAAAAIAAAAAAAAmAAAAAiMAAAAAAAAAAAAHJQAAAAAABSQAAAUAAAAAAAAAAAAAAAAFAAIAAAcDAAAAAAAAAAQAAAAAAAAAAAAAAAACAAAABwAAAAAAAAAAAAAAAAAAAAAAJQUAAAAAJAQBAAAAAAMAAAAAAAAABwAAAAEAAAAAAAAAAAEAAAAFAAAAAAIAAgAFAAAAAAAAAAAAAAAAIgAAAAAGAwACBQUAAAACByQAJAAAAAAABSQAAAMFAAAAAAAAAAIBAAAAABoJAAAAABoAAAAAAAEAAAAAAAAAAAACAAAAAAAkAAAAAAcAAAAAAAAAAAAAACQABQEAAgAAAAUGAAAAAAAAAwAAAAAAAQAAAAAAAAACAAAAJAASBwAAABsAAAAAAAAAAAAAAAABAAAAAAMAAAAAAAABAAAAAAAAAAAAAAAAAAAFAAAAAQAAAAAAAAAAAgIAAAAAAAAAAAAAAAAAAAAAAAAAAAAAAAAAAAAAAAAkAAAAAAAAAA0AAAIAAAAAAAAJAAAAAAABAAAAAAAAAAAAAAAAAAAAAAAAAAAAAAABAAAAAAAAAAAAAAAAAAAAAAAAAAAGAAAAAAACACIAAAAAAAAABAAAAAAAAAAAAAAADAAAAAAFAgAAAAsAAAAAAwAAAAAAAQAAAAcFAAAAAAoCAAAAAAAFAAAdAAIkAAAAAAADAAIAAAAAAAAAAAAAAABIAQACAAACAAAAAAEAACQAAQAAAAAAAAADAAAAAAAAAAAAAAAAAAAAAAIAAAAAAAAAAAAAAAAAAAIAAAAAAAIHAAAAAgIAAAAFAAUAACoAAAAAAAAAAgMAAgAAJgAAAAAFRwUAAAAAAAAAAAAAAAAAAAAAAAAAJBIAAAAAAAAAAAIAAAAAAAAAAAAAAAAAAAABAAACBQAAAAAAAAAAAAAAAAAAAAAFAAAAAAAAAAAAAAAAAAAAAAAAAAAAAQAAAAAAAAAAAAAAAAAAAAAAAAACAAAAAAAAAAAAAg0AAAAAAAAAAAAFAAANAAEAAAAAAQAAAAACAAAAAAAAAAAAAAAAAAACAAAAAAAAAAoAAAAGAAAAAAAAAAAAAAIABCUAAAACAAAAAAAAAAAIACIAAAAiAAAAAAIAAAAAAAoDBwAAAAUAAwAAAwIAAQAABQAAAAAAAAAAAAAAAAAAAAAAAAACAAAAAAUAAAAAAAAAAAAAAAAAAAAAAAAAAAAAAAAAAAAFAAAAAAAaAAAAAAIAAQAAAAUAAAAAAwUiAAAAAAAAAAAAAAMABQAAAAAAAAADAA4AAAAAAAAAABoAAAAAAAMABQIAAAAACQAAAAQAAAAHAAAAAAAAAAAAAAAAAAAAAAAAAAAABQAAJQAAAAAAAAAAAAAAAAAAAAAAAAEAAwACAAAAJAAAAAACACQAAAAFIgAAAAAAAAAAAAYEAAAAIgAAAAAABQAAAAIDAAAAACQABwIAAAAAAAADAQAAAAAAAAEAAAAAAgAFAAADAAACAAAAAAAAAAACBwAAAAAAAAAAAAAAAAAAAAAAAAAAGgAAAAAAAAAAAAACGgAAAAAAAgAAAwEABwAAAgAAAAAADAAAAAAAAAAAAAAAAAABAQAHAAAAAAAAAAAAAAAAAAAAAAIAAAAAAAAAAAECAAAABwAAAAAAAAAAAAAAAAACAAACAAABAgAAAAAAAAAAAAQAAAAAAAAAAAAAAwAAAAAAAAAAAAAAAgABAQAAAAAAAAAAAAAFAAAAAAAAAAMAAAAAAAAAAAoJAgAAAAAAAAEcAAAAAAAAAAAAAAACAAAAAAAAAAcAAAIAAAAAAAAAAAAAAAMAAAAAAAcAAAAAAAACAAAAAAAAAAAAAAEABwACAgACAAAAAAAAAAAGAAAAAABHACUFAAAAAAAAAAACAAAAAAAAAAAAAgAAAAAAAAAAAAAAAAAAAAAAAAMAAAACAwAAAAAAAAAaAAAAAAAAAAAAAAAAIgAAAAAAAAcAAgAABQAAAAAAAAAAAAAAAAAAAAAAAAAAAAAAAAABAAACAAIHAAAAAAIAGgAkAAAAAAAAAgAKAAIAAAAAAgAAAgAAAAAAAAAHAAAAAAAAAQAAAAAAAAAAAAAHAAACAAAAAAEAAAAAAAAAAgAAAAAlAAAAAAAAIiUAAAEFAAAAIgAAAAAGAAEAAAABAAAAAAAAAAAAAAAAAAUAAAIAAAAAAAAAAAADAAAAAAAAAAAAAAEAAwAGAAAAAAAAAAABAAAAAAAAAAAAAAAAAAAAAAAAAAAAAAAAAgAAAAAAAAABAAAAAAAAAAAAAAAAAAAAAAAABQACAAAcAAACAAAABwAAAAAAAAACAAAAAAAABAEABQAAAAAAAAAAACQAABoCACMAAAAAAAAAAAAAAAACAAAAAAAAAAEAAAAAAAAAAAcAACQDAAABAAcAAAAAAAMAAAAAAAAAAAAAAAAAAAIAACQAGgAAAA0ABRoAAAAABkcAACIAAAAAAAAAAAAAAAAAAAAAAgEAAAAFCQAAAAACAAIAAAAAAAAAAAEAAAAAAAAAAAAAIgAAABoCAAAEAAYAAAUAAAAAAAAAAAANAAAGAAAAAAAAAAAHAAACBQYAAAACAAAAAAACAAAAAAAAAAEFAAIAAAADAAAHAAACAAAAAAAAAAUAAAAAAAAAAAMFAAIAAAAAAAAAAQAAAAACBQAAAgIAAAAAAAANAAAAAAAkAAAAAAAAAAUACAAAAAEAAAwAAAAAAAAAAAAEAAAAAAAAAAAAAAAAAAAFAAAAAAMAAAAAAAAlAAAAAAACAAAAAAIAAAAAAAAHAAACAQAAAAAAAgAAAAAAAAAAAAACAAIAAAAAAAIAAAAAAAAHRwAAAAAAAAAAAAAkAAICAAAAAAAHAAAHAAAAAAAHAAAAAAAAAAUABwABAAAAAAAAAAAFGgAABQcAAAAAAAEAAAAAAAABAAAAAAAAAAAAAAMFAAAHBQAAAAAAAAAAAAcAAAAAAAAAAAAAAAEADQACAAAAAgAAAgAAAAAAAgAAAAAAAgAAAAAAAAACAAAAAAAAAAAAAAAAAAAAAAAAAAAAAAAAAAAAAAAAAwICAAAAAAAAAQUAAAYAACQAAAAAAAAAAAAAAAAAAAAAAAIAAiQAAAAAAAUAAAAFJAAAAAAAAAAAAAIAAAAAAAAAAAAAAAAAAAAAAAABAAcAAAAAAAAAAAAAByIAAAAAAAAAAAAAAAAAAAACAAMAAAUAAAAAAAcHAAAABgACAAAAAAAAAAAAABoAAAAAAAIAAAMAAAAAAAAAAAMAAAUAAAADAAAAAAMAAAIAAAAAAAAAAAAAAgIAAAAAAAAAAAAHAAAAAAAAAAAAAAABAAAAAAAAAAAAAAAAAAAAAAAAAAAAAQAAAAAAAAAAAAAAAAAAAAAAAAABAAIABAAABQAAAAANAAAFABIABwEAAAAAAAAAAwACAgEAAAAAAwAAAAAAACQAAgAAAAAaAAAAAAAAAAANAAAAAAIHAAAiAA8AAAAAAAQAAAAABwAAAAcKAAMAAAANAAAAAAAAAAYkAAUFAAIAAAAAAEcHAAAAAAAAAAAAAAADAAAAAAAAAAACAAAAAAAAACQAAgACAAAFAAAAAAAAAAIAAAAAAAAAAAAAAAAAAAAABwEAAAAAAAAAAQIAAAAAJAADAAAAAwABAAIAAAAAAEcAAAAAAAAkAgAAAAANAAAAAAIAAAAAAAUBJgAADQAHAAAAAgAAAAACAAAAJAAAAAAAAA0AAAAAAAAAAAAAAAAAAAAAAAcAAAEAAAAAAAcAAQAaAAIAAAAAAAIKAAAAAAAAAAAAAAAAAAADAAAAAAAFAAANIgAABwADAAABAAAAAAAAAAAAAAAAAAAAAAAAAAAAAAIAAAAAAAAAAAAHAAAAAAAAAAAAAAANAAABAAAAAAAHAA0AAAAAAgAAAgAAAAAAAAAAAAAAAAAAAAEAAAAAAAABBgAAAAAAAAAFAAAAAAAABwAAAAAAAgAAAAIAACQAAAAAAAAAAAIAAAAAAAUAAAAAAAAAAAAAAAANAAAAAAAAAAAAAAAAAwAAAAAAAAAAAAADAAAAAAAAAAAAAAIAAAAAAAAAIgAABwABAAAAAwAAAAIAAgcNAgAAAAAAAAAAJAAAAAAAAAAAAAAAAAAADQcKAAAAAAAABQAAAAAAAAADAAAABgAAIgAAAgcADAAAAAkAAAAAAAAABwIHAwAAAAAHAAAAAAAAAAAAIgAAAAQAAAwCBQAHAAAAAAAAAAAAAAAAAAAAAAAAAAAAAAAAAAAAAAAAAAAAAAAAAAIAAwAAAAAAAiIAAAAAAAADJAIHAAECBQAAAAIAAAAAAAADAAECAAoAAAAFAAAACQAAAAAAAAAAAAAAAAAAAAAAAAAAAAAAAAMAAAIDAAAAAAAAAAAAAAAAAAAAAAAAAAAAAA0AACIAAgAAAAAAAAAAAAAAAAAAAAAAAAAAAAAAAAAAAAAHAgAAAAAAAAAAAAAAIgAAAAIAAAAAAAAAAAAAAAAAAAAAAAAAAAAAAAcAAAAAAAAAAAkAAAAAAAAAAAASAAAAAAAFAAAAACIkAAABAAACAAAAAgAiAAEAAgAAACIAABoNAAEAAQAAAAAHAAAAAAAAAAAABQAACQAAAAAAAAAAAAAAAAAAAAAAAAEAAAAAAAAAAAAAAAAAAAAAAAAAAAAAAAAAAAUAAAAAABgAACIAAAAaDQAAAAAAAAAAAAAAAAICAAUAAAAHAAAAAgAAAAMAAAAAAAAAAAAAAAAAAAAAAAAAAAAAAAAAAAEAAAAAAAAAAwAiAAAAAAAAAAAAAAAAJAAAAgABAAUAAAgFAAAAAAAAAAAkAAAAAAAAAAcAACIAAgAAAAAAACIAAAEAAAAAAAAAAAACBQINAAAAAgAAAAAAAAACAAAAAgAHAAAAAAUAACQAAAIAAAEAAAAABQAAAAAAAAUAAAAAAAAAAAAAAAAAAAEAAAEAAAMAAAADAAAAAgAAAgAAAAUEAAIAAAAAAAAAAA0AACQHAAAAAAAAAAAAAAAAAAAAAAAAAAMAAAAAAAAAAAAAAAEAAAAAAAAABAAAAAAAAgAAAQAFAAAAAgAAAAAAAAAAAAAAAgIAAAADAAAADQUiAAUAAAIABwEAAgAAAAABAAIAAAAAAAAAAAAADwMCAgAAAQAAAAAAAAAAAAAAAAAAAAAAAAACAAAAAAAAAAIDAAAAAAAAAAAAAAAAAAAABQAABgAAAAAAAAAMAAAAAAAAAAACAQACAAAAAAAAAAACGgIAAwAAACoAAAAAAAAAAQAAIgAkAAAAAAIAAAAASAAAAwUAAAAAAAMAAAUBJAAAAQAAJAwAAAIABQIAAwACAAAAAQAAAAMAAAUAACQAAAAABwAAAAUABgAAAAAAAAAAAAAAAAAAAAAAAAAFAAAAAAAABQAAAAAAAAIAAAAAAAAAAAIAAAUAAAAAAAAABwoDAAIAAAAAAAAAIgAAAAEAAAEBAAAAAAAAAAAAAAAAAAAAAAUAAAAAAAAGBQAAAAcCAAAAAAAAAAAAAAAAAQAAAAAHAAcAAAIAAAAAAAAABwACAAAAAAAAAAAAAAAAAAAAAAAkDQAAAgAAAAIAAAIAAAAAAAAAAAAAAAcAAAAAAAAABQAAAAAAAAUDAAAAAAABAAAAAAAAAAAAAAIKAAADAAAAAAAAAAAAAAACAAMHAgABAgcAAAADAAAAIgAMAAAAAAADABoAAAIAAAAAAAAAAAAAAAAaAAUAAgAFAAAFAgAAAAMAAAICAgAAAAAAAAAkAAAAAAAAAwAAAAAAAwAAAAUABAAAAAIAAAAAACIAAAAACAAAAAcAAAAAAAAABwACAAAAAAAAAAAABQAAAAICBQcCAQAAACQAAAIAAAUAAAMAAAAAAAAAAAAAAAEAAwAABQAAAAAAAgAAAAUBAAAAAAAABwAAAAAAAAAAAAAABwAHAAIDAAAAAAAAAAAAAAAAAAAAAAAAAAAAAAAAAAACAAAAAAAAAAAAAAAAAAAAAAIAAAAAAAAAAAAAAAAAAAAAAAAAAAAABgAAAwMDAAAAAAAAAAAABQAAAAMABQAAAAAAAAAAAAAABQAAAAAFACQHAAAAAAAABQACDAIAAAAAAAMAACIAAAAAAAAAAAAAAAACAAAAAAAAAAAAAAAAAAAAAAAAAAMAAAAAJAAAAAMABQACAAAAAAAAAAAAAAAAACQABQAAAAAAACYAAAAAAAAAAAAAAAAAAAAAAAAAAAAAAAAAJAAAAAAAAAACAAAAAAAAAAAAAAAAAAAAAAAAAAEAAAAAAAAAAAAAAAAAAAIAAAAAAAAAAAAAAAAkDQAAAwAJAAAAAAAAAAAAAAAAAAAAAAAAAAAAAAAAAAAAAAEAAAAAAAAAAAMAAAMAAwcAAAAAAAAAAAAACQAAAAAACAAAAAACAAAAAAACAAAAAAAAAAAAAAAAAAAAAAAAAAAAAAAAAAAAAAAAAAAAAAUABQAAAQAAAA4ABQAAAAAAAAIAAAAAGgAAAAAAAAAAAAAAJQIAEQAAAAIAAAAAAAAHAA0AAAIAAAMAAAAAAAAAAAAAAAAAAAIFAAADAAAAAAACACQMAAAAAAAAAAABAAAAAAAAAAAAAAAAAAAAAAAAAAMDAAAAAAAAAAwABQAAAAABAAAAAwAAAAIAAAEAAwAKAAAAAAAAAAAAAAAAAAAAAAAAAAAAAAAAJAAAAAAAAAAAAAAAAAAAJAAAAAkkAgAAAAAAAAAHAAAAAAAAAAMAAAADAAAAACQAAAAAAAAAJQAAAAAACwkAAAAAABoAAAAAAAACAAAAAAAAAAAAKQAAAAAAAAAAAAAAAAAAAAACAAAAAAIAAAAABQAAAAAAAAAkAAEAAAAAAAAAAAAAAgAAAAAAAAABAAAGAAAAAgACAAcDAAkAAQAAAAAAAAACAAAAAAAAAAAAAgAHBQMAAA0AAAcAAAAAAAUABQAAAAAAAAAAAwAABQAAAAAaAAACAAECAAAAAAAAAAUAAAAAAAAAAAAAAAUAAAAAAAAAAAAAAgAAAAAAAiQCAQAABQAAAAAAAAMDAAADAAABAAAAAhwAAAAAAAAAAwAAAAAAAAcAAAIAAAEAAAAABAAAAAACAAAAJAAAAAAAAAAAAAACAAAFBQAAAAAAAAAHAAAAAAUCAAAiBQAAAAAAAAAAAAAAAAECAAAAAAABAAAAAAAAAAAAAwAAAAABAAAAAAAAAAIDAAAAAAAAAAAAAAAAAAAAAAAIAAAAAAAAAAAAAA0AAAAAAAcABwAAAAcAAAACAAAAAgAkAAIAAAwAAA0AAAAAAgAABwADAAAAAAEDAAAAAAACAAEHAAAAAAAAAAAAAAEAAAIAAAAAAAAAAAAAAAAAAAAAAAAAAAAAIgAAAQAAAwACAAAAAAAHAAAAAAAAAAAAAAACAAAAAAAAAEcAAAAAAAAAAAAAAAcAAAAEABoAAAAAAAAAAAAAAAAAAgAAAAAAAAAAAAUfAgcAAwAkAAAAAgEABwADAAAAAAAABQEAAAAAAAAAAQABAAAAJAACAAcFAAAAAAAAAAAAAAAAAgAAAAAAAAAkAAAAAAAAAAAAAAEkAAYCAAEAAAIAAAAAAAAAAAAAAAAAAAAAAAAAAAAAAAUECQAiAAAAAAcAAAAAAAAAAAAAAAAAAAAAAAAAAAAABQACAwAFAgAAAAAAAAAAAAAAAAAAAAAAGgAAAgAjAAACAAAAAAAAAAAAAAAABwAAAAAAAAAAAAAAAAAAAAAAAAAAAAUAAAAAAAAAAAAAAAAAAAAAAAADAAADAAAAAAAAIgwAAAUAAAAAAAAAAAAAAQEaAAQAAAAAAwAAAAAAAAAAAAAbAAACAAAAAAAAAAAAAAAAAAAAAAAAAAUAAAAAAAAAAAUAAAAUAQAAAgAAAAAAAAAAAAAAAAAABwAAAAAAAAAAAAAAAAAAABoAAAADAAMAABoAAAAAAAAAGgAAGgADACQAAAACAAAAAAAAAAAAAAAAAAAAAAAAAAAAAAAAAAAAAAAAAAACAAAAAAAABgAHBQAFAAAAAAIAAAAAAAAAAAAAAAAAAAcAAAAAAAAAAAAAABoAAAAAAQAAAA0AAAAAAAAAAAAAACUDAAAaAAAHAAIAAAEkAAcAAAAAAAAUAAAAAAAAAAUAAAAAAAAAAgAHAgAAAAAAIgAAAAAHAAAAAAAAAAMAGgAAAAAAAAAAAAAAAAACAwIAAwADAAAAAAAAAAAAAAAAAAAAAAABAAAAAAAAAAAAAAAAAAAAAA0AAAAAAAIAAAAAAAAFAAMAAAAAAAUAAAADAAAAAgAAAAAAAAAAIgAAAAAAAAAAAAEAAAIAAAAAAAMAAAAAAAAAAQAFAAAaAAAAAAAABwAAAAcAAAAAAAYAAAAAAQAAAAAAAAAAAAAAAAAAIwAAAAAAAAAABQAHAAAAAAAAAA0AAAAAAAAaAAAAAAAAAAAAAAAAABoAAAAAAAAEIgAAAgAAAAAAAAAAAAACAA0AAAIFAAEAACQkDAUHAAAFAAEAAAAAAAAAAAAAAAMAAAAADQAAAQEAAAAFAAADAAAAAAAAAAAAAAAAAAAAACQAAAAAAAAABwAAAAAAAAAAAAAAAAAAAAcNAAECAAAAAAAGIgUAAAEAAAAAAAAAAAAAAAAAAAAAAAAAAAAAAAAAAAACAAAAAAAAAAAAAAAkAAMABQAAAAABAAYGAAAAAAAAAAACAAAAAAAAAAAAAAMAAQAABwAAAgAAAAcAAAIAIgADAAAAAAAAAAAAAAAAAAEADQAAAAAAIgAAAAAAAAACAAMkAAAAAAACAAAADQAAAAAAAwAAAAAAGgAAAAAAAAAAAA4AAAUAAAAAAAAAAAAAAAAAAAAAAAAAAAIaAgABAAAAAAECAAAAAAABDQAAGgAAAAAAAAUAAAAAAwAAAAACAAMAAAAAAAACBwIAAAACAgAAAAAAAAAAAAIDAAAAAAAAAAAiAAADAAUAAAAAAAIAAAAlAAAAAAcAAAAEAAAmBwAAAQAABwIAAAAAAAAAAAAABAMAAAAAAAwAJAMKAAAAAAAAAAMAAAAAAAIAAAACAAAAAgIAABkAAAEAAgUAAAAAAAAAAAAAAAAAAAAAAAAAAAMAAgAAAg0AAAcAAwAAAAAAAAABAAIAAAADFAADAAAAAAAHAAMiAAAAAAAAAAAAABAAAAAAAAAAAAAAAAACAAAAAAAAAAAAAAACEAUAAAAAAAAAAgAAAAMAAAAAAAAAAAAAAAAAAAAAAAAAAAACAAAAAAAAAAgiAAAAAAAAAAAHAAAAAAAAAwAAAAAAAAAAAAAAAAAAAAMABQAAAAAABSQAAAAACQAAAAAAAAAADgAIAAAFAAAAAAAAAAAAAAAAAAIAAgAAAAAAAAAAAAAAAAAABQAAAAAAAAAAAAAAAAECAAAAAAAAAAAAAAAAAAAAAyIAAAAAAAAAAgIAAAAAJAAAAAUAAAADAAAAAAAAAAAAAAAAAAAAAAAAAAAAAAAAAAAAAAAAAAAAAAIDBgACAAAAAAAAAAAAACQAAAAAAAIAAAAaAAAkAAAAAAAABwAHAAAAGgAAAAABAAAAAQAAAAADAgAAAgUAAAAAAAAAAAAAAAAAAgAAAAAAAAACAAEAAAAAAAAAAAACACICFAAAAAAFBAIABxoAAwkAAAAAAAAAAAAAAAABAAAAAAAAAAAAAAUHAAAAASQFAgAAAAAAAA0ABQAAAAAAAAAAAAAAAAAAABQAAAAAAAAAAAAAACIAAAAAAAAAAAAAAAAIAAAAAAAAAAAAAAAAAAAAAAAAAAAAAAAAAAIAAAAAAAAAAAAABQAAAAAAAAAFAAAAAAAAGgANGgAAAAAABwAABQUAAAACBwAAAAAAAAAAAAAAAAAACgAAAgIBBQAAAAIAAAAAABoAAAAAAAAAAAAAAAAAAAAAAAAAAAAAAA0AAQAAAAAAAAAAAAUCAAAAAAIFAAIAAAAAAAAAAAAAAAIAAA0AAAEAAAEAAAAAAAAAAAAAAAIAAAABAAAAAAAABwAAAAAAAAAAAwACAAAABwAAAAAAAAAAAAAAAAAAAAAAAAAAAAIAABoAAAAaAAAAAAUCAAAHAAAAAAAAAAAAAAwAAAAAAAAAAAIAAAAAAAAJBwAAAAAAAgAAAAAACgUAAAAAAAAAAAAAAAAAAAAAAAAAAAAAAAwAAgAAAgAAAAAAAAAAAAAkACICAAAAAAAABQAAAAAAAAMAAAAAAAAEAAAAAAAAAAAAAAAABwAUAAAAAA0AAAAAAAAAAAAAACQAAAAAAAAAAAAAAAAAAAAABQAAAwAAAAAAAAkAAAAAAAAAAAAAAgAAAAAHBgAAAAAAAAAAAAAAAAABAAgAAAAAAAAlAAACAAADAAAAAAAAAAACAAAAAAYFCQAHAAMAGgAAAAMAAAAAAAAAAAAAAAAAAAAAACQBAwABAAAAAAAAAAAAAAAAAAEAAQABAAAaAAEAAAABACQAAAAAAQAAAAAAAAAAAAAAAAAAAAAFAAAAAAAFAAAAAAAAAAAAAAAAAAAAAAAAAAAFAAAAAAAAAAAAJAAAAAAGAAAAAAYAAAAABQAAAAACAAACAAAAAAAAAAAAAAAAAAAAAAAAAwACAAAAGgICAAAAAAAAAAAAAAAAAAAAAQAAAAAAAAAFAAAAAAAAAgAAAAAAAAAABwEAAAMAAAUAAAAFAAAAAAAADAAAAAAFAwAAAAAAAAAAAAAAAAAAAAIAAAAAAAEAAAAAAgAkByQDAAAAAAAAAAcAJAAkAAcAAAMAAAAAGgADAAAAJAAAAAAAGgAAAAUFJQAAAAAAAAQAAAAaAAAAAAAAAAAAAAAAAAAAAAAAAAAAAAACAAEAJAAAABoAAAcAAAAAJAkAAAAAAAAAAAAAAAAAIgcAAAADBAACAAcHAAANAAEAAAAAAAACAAEAAAAJAAAAAAEAAgAAAAAAAAAAAAABAAAHAwACAQACAAUAAAAAAAAFAgAAAAACEAAAAAUHAAEABQAAAAAAAgADAAIAAAAABwAAAQAAAAAAAAMAAAAAAQAAAAYAAAAFAAAAAAAAAAMAAAAAAAAAAAAAAAAAAAAFAAAAAAAAAgAAAAAAAAACAAAAAAAEAQAAAAAAAAAAAAIAAAUCAA0DAAUBBQAAAAACAAAAAgAiAAAAAgAABQACAAAABwAAAAIAAAAAAAAABgAAAAUGDQAAACIAAAAAAAAAAAAAAAAAAgAAAAAAAgIAAAAAAAAAGgAAAAAAAgAAAAAAAAAAAAAAAAAAAAAAAAcAAAMAAAAAAAAAAAAAAAAAAAAAAQQAAAAAAAIAAAAAAgAAAAAOBQACAAACAAcAAAIAAAAAAAMAAAAAAAcAAAAAAAAAAAAFAwAAAAAAAAAAAgAAAAcAAAAAAAAAAAIAAAIAAAAAAAAAAAUAAgAAAAAAAAAABQAAAAAFAAAAACIAABAAAQAHAAUAAAAAAAAAAAAAAAAHAgAAAQAAAAAAAAAAAAMAAAAAAAAAAAMCAAAAAAEAAAAAAAAAAAAHAAAiAAAAABoCAAACAAAAAAAiAwAAAAAAAAUAAAAADQAAAAAAAAAAAAAAAAAAAAAAAAAAAgcAAQAAAAAAAAAAAAAAAAAAAAUHAgAAAAEAAAAAAAAAAAAAAAAMAAAAAAACAAAAAgAFAAEAJAAAAAAAAAAAAAAAAAAADQAAAAAAAAAABQAAAAAACQAAAAAAAAAAAAACAAYCAAAAAAAAAAAAAQAAAAUAAAAFAAAHAgAAAAAAAAAaAwAAAAAAAAACAAAAAAUAGgAAAwAJAAAHAAAAAAAJAAACBgAAAAAAAAICAAAkAQAHAAcAAAAAAAAAAAAiACQAAAAAAAAAAAAAAiIAAAEAAAAFAQAAAB8CAAAAAAAAAAAAAAIAAAAAAAAAAAYCBQADAAAAAAACJAAAAAAAAAABAAAAAAACAAACAAAAAAAAAAAAABsAAAAAAAAAAAAAAAAEAAAAAAAAABoAAAAAAAAAAAAAAAAAAAAAAAAAAAAAAAAAAAAAAQAABQAAAA0AIgAAAAAAAAAAAAAAAAAAAAAAAgAAAAAAAgAAAgAAAAAAAAAAAAcAAAAAAAAAAAAAAAAAAwAAAAIAAAAAAAAABwAABwMAAgAHAAUAAAAAAQAaAAAAAAAAAAAAGgIAAAAAAAIAGgAAAAAAAAAAAAAAAAAAAAAAAAAAAAAAAAAAAAAAAAAAAAAAAAADAAAAAQAAABMAAAAAAAACBQAAAAAAAAAAAg0DAgAEAAAHAAcAAwAAAAAACQAFAAAAAAAAAAAFAAAAAAAHAAAAAAIAAAAAAAAAAAAAAAAHCgAAAAAAAAAAAAAAAAAAAAAAAAAAAAAAAAAAAgAAAAAAAAAAAAAAAAAaAAAAAAAAAAAAAAEAAAMAAAcAAAAAAAAAAAAAAAAAAAAAAAAAAAACAAAACwAAAAAAAAABAAAAAAADAAAAAAAAAAIAAwAAAgAAAgAFAAAAAAAAAAAAAAAAAAAAAAAAAAcAAAAAAgAAAAAAAAAAAAAAAAABAAAAAAAAAgAAAAAAAAAAAAAAAAUAAwAAAAAAAAcAAAAAAAAAAgAAAAAAAAAAAAEAAAgAAAAAAAAAAAAAAAAAAAAaDQAAAwAAIgAAAAAAAQAAAAAHAAAHAAcAAAAAAAAAAAAACgAAAAAAAAAAAAACJgAAAQAAAAAAAAAAAAAAAAAAAAAAAAAHBwAAAAAAAAAAAgIDAAACAAAABQAADQAAAAUCAAABAAAAAgAAAAAAAAAAAAAADQAAAAMAAAAAAAIAAgAABQAAAgAaAAAAAAAAAAACAAABAAAAAAAAAAAAAAAAAAAAAAACAAAAAAAAAAAAAAAAACIAAAAAAAAHAAAAAAAAAAAAAAAAAAAAAAcAAAAABQAAAAAAAAAAAAAFAAAAAAAAIwAHAAAAAAAAAAAAAAAVAAAAAAIAAAAABQAABwAAAAAAAwAAAAAAIgEAAQAAAAIAAAEAAAEAJAAAAAIAAAICAAAAAAAAAAAAAAAAAAACAAIAAAcABwAiAAAAAAAAAAIAAAUCAAAAAAAAAAAAAAAAAAAAAAAABQADAQAAAAACAAAAAAUAAAAAAAAEAAABAAMAAAABAAIAAAAAAAAAAAAAAAAAAAAAAAIAAAAAAAIAAAAAAAIAAAAAAAAAAAAAAAACAAAAAAAAAAAAAAAAAAACAAAAAAACIgAAAAAAAAAAAAADAAAaAAADAAAAAAACAAAAAAAEAAAAAAAAAAAiAAAAAAAHAAAAAAAAAAAAAAAAAAAAAAAAAAAAAAAAAAAAAAAAAAAAAAVHAAAAIgAAAAAAAAAAAAAAAAACAgAAAAAAAAAAAAAAAAAAAAAAAAIAAAAAAAAAAAAABQAAAAAAAAAAAQAAAAIAAAACAAcAAAAAAAAAAAAAAAAABQAAAAAAACQAAAMAAAIAAAAAAAACAAAAAAAAAAAAAA0AACQAAAABAAAAAQAABwACAAAAAAMAAAMCAAIAAAAAAAAAGgAAAAAAAAIAAAAAAwIAAAAAAAAAAAAAAAcAAAAAAAAAAAAAAAAFAAEAAAAAACQAAQAAAAAHAAAABwAAAAAAAAAAAAAAAAAAJAUAIgADABoFAAAAAAMAAAAAAAAAAAAdAAAAAAUAAAAAAAAAAAAAAAAAAAAAAAAMAAEAAAAAAAAAAAAAAAAAAAcAAAEHAAAAAAAAAAAAAAAAAAAAAgAHAAUAAAAAAAAAAAAAAAAAAAAAAAACAAAAAAAAAAMAAAAAAAAAAAAAAAAAAAAAAAAAAAAlAgAAAAAAAAAAAAAAAAAAAAUAAA0AHwAHAAAAAAAAAAABAAAAAAAAAAAABQAAAAAAAAAAAAAAAAAFAAACAAAAAAADAAAADAAAAAAMBwIAAAAAAAAAAAAHCgAABQAAAAAiAAAIAAAADQAAAAAAAAAAAAAAAAUAAAAAIgUAAAAAAAAHAAAAAAAAAAEAGgAHAAACAAAAAAAAAAAAAAIAAAAFAAAAAAcCAAAAAAAAAAAAAAAAAAAAAAAAAAAiAAAAAAAAAAAAAAAAAAAAAAAAAAAAAAAAAgADAAUAAAAAAgAAAAACAgAAAAMAAAAAAAAAAAAAAAAAAAAAAAAAAAAAAAAAAAAAAAAAAAAAAAAAAAAAAAACAAAAAAAAAAAAAAAFAAIABQAAAAAAAAAAAAAAAAAAAAAAAAAAAAAAAAAFAAAAAAAAAAAAAA0AAAAAAAAAAAAAAAAAAAAAAAAAAAgAAQAAAAcAACQAAAAABQAAAAAAAAAAAiIABwAAAAIAAAAAAAIBAAAAAAAAAAAAAAADACQAAAAAAAACAAAAAAAACAACAQAHAAAAAAAFAAAAAAEAAA0CBwAAAAAAAAAAAAAAAAcAAQAIAgAAAAUAAAAAAAAAAAAAAAUCASMAGgAAAAAAAAAAAAAAAAAAAAAAAAIAAAAAAAAABQAAAAADAAAAACQAAAAAAAAAABoCEgAAHQAAAAAAGgEABwAiAAADAAAABgAAAAAAAAAAAAAAAAAAAAEAAAAAAAAAAAAAAAAAAAAABAACAAAAAAMAAAIAAAAAAAAAAAAHAAAAAAAHAAAFAAAAAAAAAAAAAAAAAAAAAAAAAAADAAAAAAUAAAAAAAAAAAUDAgAAAAAAAAAAAgAAAgAAAAAAAAADBw0AAAAAAAAAAAAAAAAAAAAAAAAAAAAAAAAAAAAAACIAAAAAAAAAAAAAAAAAAAAAAAAABQEAAAAAAAIAAAAaACAAAAAAAAABAAYAAAAAAAAAACQAAAACAAAAAAAAAAAAAAAAAAAAAQAAAAAAAAAAAAAAAAAAAAMAAgAAAAAAAAAAAAAABwAAAAAAACIAAgAAAwACAAAAAAAAAAAAAAMAAAAAAAAAAgAAAQAAAAAAAAAAAgAAAAUAAAAFAAAAAAAAAAAAAAAAAAAAAAAAAgAAAAAAAQAFAAAAJAAAAAAAAAAAAAACAwAAAwAAAAAAAAAAAAACAgACAAAAGgIABwAAAAAAAAAAAAAAAAAAAAAAAAAAAAAAAAAABgAAAAAAAAAAAAAAAAAAAAAAAAAAAAAAAAEAAAgAAAAAESIABQUAAAABAAAAAAEAAAAAAAAAIgIAAAAAAAAHAAAAJAAAAAAAAAAAIgABAAAAAAAAIgAAAQUDAAAAAAAABQAAAAAAAAAAAAAAAAAAAAAAAAAAAAAAAAAAAAAAAAAAAAAFAAUAAAAAAAIAAwAAAAAAAAAAAgAAAAAAAAAAAAAAAAAAAAANAAAAAAAAAAAAAAMAAAAAAgAAAAAUAAAAAAAAAAAAAgIAAAAHAAAAGgAAAAAAAAAAAAAHAAAAAAAAAAAAAgAAAAEAAAAAAAAAAi4AAAIAAgAFABoHAAAAAAAAAAAAAAAAAAAAAAAAAAAAAAAADAAAAAAAAAAAAAAAAAAAAAAAAAcAAAAAABECAAANAAAAAAAAAAAAAAUCBwAAAAAAAAACAAAAAAAAAAcAAAAAAAAAAAABAAABAAAAAAAAAAAAAgADAAcCAAUkAAAAAAAAAAAAAAAAAAAAAAAAAAUAAAAAAAABAAAFDQAAAAAAAAAAAAAABQAAAgEAAAAAAAAAAAAAAAAAAAAAAAAAAAAAAAAFAAAAAAAAAAABAAAAIgAAAAAAAAAAAAAAAAAAAA0AAAAAAAAAAAAAAAAAAAAAAAAAAQAAAAUAAAAAAAAAAAAFAAcAAAAAAAABAgAaBwABAAAAAAAAAAAAAAUAAAAAAgIFAAIAAAAAAAAAAAAAAAAAAAAABQIAAAAADQADAAAAAAAAAgAAAAAAAAAAAAAAAAAAAAAAAAAABwAAAAAAAAAAAAAAAAAAAwAAAAAAIgAAAAAAAAAAAAAAAAAAAAAAAAEAAAAAAgACAAAAAAAAAAAAAAYAAAAABQUAJAAFAAAAABoAAAAAAAAAAAAAAAAAAAAAAAAAAAAAAAIDAAAAAAAAAAAAAAAAAAAAAAAAAAAAAgACAAAAAAAAAAAAAAACAAAAAAEABQQAAAAAAAAAAQAAAAAAAQAAAAAAAAAAAwAAAAAAAAAACQACAAAAAAcAGgAAAAAAAAAAAgAAAAAbAAAAAAAFACQAAAAAAAAAAAAaBgAAACQaAAAAAwAAAAAAAAAAAAAkAAAAAAAAAAAAAAAAAwAAAAAAAAAAAAAAAAAAAAIAAgADAAAMAAAAAAAAAAcaAAAAAAAABAAAAAAAAAAAAAAAAAAAAAAAAAAAAAAAAAAAAAABAAAAABoAABoAAAAAAAAAAAAAAAAAAAAAAAUAAAIBAAUAABsBAAAAAA0AAAAAAAAAAAACAAAAAAAAAAAAAAAAAAAAAAAAAAAAAAAAAAACAAAAAAAAAAUAAAAAAAAAAAABAA0AAAAAAAAAAAAAAAADAAAAAAAAAAAAAAADAAAAAgAAAAAAAAABAAACAAAAAAAAAgAAAAAAAAAAAiQAAAABAAAAAAAAAAAAAAAABwAAAgAAAAAMAAAaAAABAAUAAAAAAAAaAAAAAAAAAAAAAAACAAAAAwAAAAAAAAAAAAAAJQAAAAAHAAADAAAAAAAAAAAAAAAAAAAAAAAAAAAAAAUABwAAAAMAAAABAAAAAAAAJAEAAAAAAAAAAAIAAAAAAAAAACkBAAIFAAAAAAADBQACAAAAAgAABQIAAAACAAAAAAAMAAIAAAAABwECAAAAAAADAAAAAAAAAAAAAAAaAAABAgAAAAcAAAAAAAMAAAAAAAAAAA0AAAAAAAAAAAAAAAAAAAAAAAAAAAAAAAAAAAAAAAAARwAAAAAAAAAAAAAAAAMAAg0AACQAAAAAAQAAAAAAAAAAAAIHACIAAAAEAAAFAAAAAgAAAAAAAAACAAAAAAAAAAENAAAAAAIAAAAAAAAEAAAAAAAAAAAAAAAAAAAAAQABBQAAAAAAAAAFAQAABwAAAAAAAAAAAAAAAAAHAAAAAAAAAAMNAAAAGgAkAAAAJQAAAgEAAAAAAAAABAcAAAAAAAAAAAAAAwACDQAAAgAFAAAAAAAAAAAAIgAAAAAAAAAAAgAAAAAAAAAADwAABwcAGgAAAAAAAQAAAgAAAAAAAAAAAAAAAAAAAAAAAAAAAAAAAAAAAAACAAAAAAAAAAACDQAAAAMAAAAAACIAAAAAAAAAAAAAAAAAAAABAAABAQACAgAFAAAAAAAAAAAAAAAAAAAAAAAAAAAAAQAEJQAAAAAHBwAAAAAAAAAAARoAAAAAAAAAAAAAAAAAAgAAAAAAAAAAAAAAAAAADAACAAwCAAMAAAICBQAAAAAAAAAADgAAAAAAAAAAAAAAAAAAAAAAAgAAAAAAAAUAAAAAAAAAAAAAAQAAAAAAAAADBQAAAAAAAAAkAAAAAAAAAgAAACQAACQAAAAAAAAAAiUBAQAAAAAAAAANAQAAAAAAAAAABwEAAAAAAAcAAAAABwAAAAAAAAAAJAAAAAAAAAAAAAAAAAIAAAAAAAAAAAAAAAACAAAkAgMAAAAAACIAABoAAAIAAAAAAAAAAAAAAAAAAAIAAAAAGgAAAAAAAAIFAAAAAAMAAAAAAAIAAAAAAgAAAAACBwAABwAADQAAAA0AAAAAAAAAAAAAAAAAAAAAACIHAAAiAAAAAAAAAAAAAAAAAAABAAEAAAAAGwAAAAEAAAAAAAACBQcBAAAAAAAAAQAAAAEABAAAAAAABQAAAAAAAAAAAAAAAAAAAAAAGgUAAAAAAAAaBwAFAAAAAAIHAgUAAAAEAwAAAAAAAwANAAAAAAAFAAAAAAAAAAAAAAIAAAAACQAAAAAAAAUAAAAAAAAHAAABAAAAAAAAAAAAAAAAAAAAAAAAAgAAAAACAAEAAAAAAAAABQAAAAAAAAAFAAACAAAAAAAAAAAAAAUkAAAAAAAAAAAFAAIAAAEAGgAAAAAAAAMADQAAAAMABgAAAAAAAgIAAAQAAQAAABoAAAAAAAAAAAAAAAAAAAAAAAAAAAAAAAABAAAAAAAAAAAAAAAAAAAAHwAAAAAAAAAAAAAHAAAAAAAAAAAACAYAJAAAAAAIAAAAAAAAAAAAAAAAAAAAAAAAAAAABQIAAAAABw8iAAABAAEAAAAAAAAAAAAAAAAAAAAAAAAAAAAAAAAAAAAAAAEAACQAAAAAAAAAAAAAAAAAAAAAAAAAAAAAAAAAAAIBAAAAAAABAAAAAAAAAAUABwAiAgAAAAAAAAcAAAAAAAAAAAAAJAAAAAAAAAAAAAAAAAAAAAIAAwAAAAAAAAADAAAAAAAAAAAAAAcCAAcAAAAAAAABAAAAAAAAAAAAAAAAAAAiAAAAAAAAAwAFAAAAAAAAAAAAAAACBgAPAAAkAAAAAAEAAAACAAAAAAAAAAAAAAAAAAAAAAAAAAAAAQAAAAAAAAAAAAAAAAAACgAAAAAJAAAAAAAABgAAAAMAAAAAAAAAAAAAAAAAAAANAAUAGgAADQAAAAACAAUAAgAaAAAAAAAAAAAAAAQAAAAAAAAAAAAAAAAAAAAHAAAAAAAAAAAAAAAABwAAAAEAAAACIwUAAAAAAAAAAAAAAAAAAAAAAA0AAAAAAAAAAAEAAAACAAcAAAEABwAABQAAAiQAAAAHAAAHCgAAAAAAAAAAAAIKAAAAAAAAAAAAAQAAAQAAAAAAAAAAAAABRwUAAAAAAAAAAQAAAAAAAAAAAAAAAAAAAAABAAUBAAAAAAAAAAAiAgABAAAAAAAAABIAAAAAAAAAAAAAAAAAAAIAAAAAAAAAAAAAAAAAAAAAAAUAAAAAAAAAAAAAAQAAAAAAAgAFAAAAAAAAAAAAAAAAAgIAAAIAAAAAAAAAAAAAAAUAAAAAAAAADQAAAAACAAAAAAAAAAAHAAoDAQAAAAAAAAAAAAAAAgAAAAAFAgACJAACAAAFAAAAACIDAAUAAAAAAAAAAAAAAAAABwAAAQAAAAEACQIiAAAADQAAAAIACgAAAAAAAAAAAAAAAAAAAAAAAAAFAAAAAAAAAAAAAAAAAAAAAAAHAAAiAAAHBQAHAAAAAAUkGgAAAAAABQMAAAAAAAAAAAAAAAADAAAAAAAAAAAAAAAAAAAAAAAAAAAAAAANAAAAAAAAAAAADQYBAAAAAAAAAAAAAAAAAAcAAAAAAAAAAAAFAAAAAAAAAAADAAAAAAAAAAUAAAAACgIAAAQAAAAAAQAAAAAAJAAAAAAAAAYAAAUAAAAAAAACAAAABQAAAAAAAAAAAAAABwAAAAAAAAAAAAAAAAAAAAcABQQAAAMPAAIABQAAAAAkAAACBQMAAgAADQAAAAAAACUAJCQAAAAAAQMAAAIAHAAAAAAAAgABAAAAAQEAAAAAAAAAAA0AAAEAAAwAAAACAAAFBAAAAAAAAAAAAAAlAAAAAAAAAAAAAAAAAAAAAAAAAAAAAAIAAAAAAAAAAAAABQAAAAACAAYNAAAAAAAAAAAAAAAHAAAAAAUAAAAAGgAAAAAFAAACACUAAAAAAAAAAgAAAAANAAAAAAAAAAAAAAAAAAElAAAAAgAAAAAAAAAAAAMAAAAAAAICAAACAAAAAAAAAAAaAAwABQAAJAAAAAMAAgAAAAAAACQDAAUAAAAaCgUAAAAAAAAAAAAABQAVAwkAAAAAAAAAAAAHAQAAAAAAAAAAAAAAAAAAAAAAAAIAAAAAAAAAAAAAABoAAAAAAAAAAAAAAAAAIgAAAAAAAAAKIkcADQAAAAAAAAAAAAAAAAAAAAAAAAMAAAAAAAAAAAAAAAAAAAIAAAAAAAAAAgAAAAAAAAAADQACJAAAGgAAAAANAAAADQAAAAITAAAAAAcAAAIDCQEFAAAAAAAAAgAAAAADAAAAAAAAAAAAAAAAAAAAAAAFAAMHAAAAAAAAAAAAAAAAAAAAAAUAAAAAAAAAAAAAAAAAAAAAAAAAAAAAAAAAAAAAAAAAAAAAABAAAAAAABIAAAAABwAAAAQAAAAAAAAAAAQAGgAAAgAAAAAMAAICAAAAHw0AACIAAAAAAAoAAgAAAAACAAAFAAAAAAACAAAAAAAAAAAAAwAABwAAAAAAAAAAAAAAAAIAAAIAAAAAAAAAAAAAAAAAAAACAAAAAAAAAAAAAAAAAAMAAAYNAAAAAAACAgAAAgAAIgAAAAAAAAAAAAAAAAAAAAAAAwAAAAAAAgANAAAABQAAAAEAAgAAAAAAAAAAAAAAAAAHAAgAAAECAAAAAAAAAgAAAAAAAAAAAAAAAAAAAR0ADAIAAAAAAAAAAAAAAAIAAAAAAAACAwAAAAAiAAAAAAAAAwAAAAAAAgIAAAAAACIABQAAAwAAAAAAAAMAAAAaAgEJBQIAAAAAAAAAAAAAAAAAAAAAAAAAAAAABwAAAQAAAAkBAygAAAAABwAAAAAAAgAAAAAFAAAAAAgCAAACAAUABQAAAAAAAAAAAwAAAQAAAwAAACICAAAAAAAAAAAAAAABAAAAAgAAAgAAAAAAAAAAAAAAAwACAAAHAAAHAAAAAAAAAAILAAEAAAAAAAUAAwAAAAAAAAAAAAAAAQAAAAACAAAAAAAAAwMAAgAAAAAAAAAAAAAAAAAAAAAAAAAAAAAAAgAAAAAAAAAAAgIkAAAAAAAAAAAAJgIAAAAAAAAAAAAAAAAAAAAABwAABwAAAAAAAAUADAAAAAANAAAAAAYHAAAAAwAAAAAAAAAAAAAAAQAAAAAAAAAAAAAAAAAAAAAAAAABAAAAAAUAAAAAAAAAAAAAAAAAAAAjAAAAAAAAAAIAAAAAAAAABQMAAAAAAAAAAAUAAAACAAAAAAAAAAATCAAABxoAAQAAAAAAAAAAAAAAAAAAAAAAAAAAAAMAAQAAAAAAAAAAAAAAAAACAAIAAAAFACQAAAAAAAAAAgIAAAAAAAAAAAAAAAAAAAAAAAAAAAAABQAAAAAHAAIAAgAkAAIMAwIAAAAAAAAAAAAAAAAAAAAAAAAAAAAAAAAAAAAAAAAFAAAAAAAAAAAAAAAADQAAAAQAAAAAAAAABwAAAAAAAAAAAAAAAAAAAAAAAAAaAAQCAAAAAAAAAAAAAgAAAAAkAAAAAAAAAAAaAAAAAAAAAAABAgIAAAEAAAAABQAAAAAAAAAAJAEJACIAAAAAAAAAAAAAAA0AAQAAAAAAAAEAAAAAAAIAAAAAAAAAAAAAAAAKBQAAAAAAAAAAAAAAAAAAAAAAAAAAAAAABQACAAAAJQAAAAACABIAAgAFDQAABAAAAAAAAAAAAAAAAAAAAAAAAAAAAAAABwIBAgAAAAADAAAAAAcAAAAAAAAAAAIkAAAAAAcAAAAAAAAAAAAAAAAAAAAAAAIAAAAAAAAAAAAAAAUABwUCAAAABAAAAAAFAAANAgAAAAAAAAAAAxoAAAEAAgAAAAAAAAAAAAcAAAAAAAAAAAAAAAAAAAAAAAcCAAAAAAAAAAAAAQAAAAAAAAAAAAAAAgAAAAAAAAAAAwAAAAAHAQAAAAAAAAAAAAEAAAAADQAAAAAAAAADAAAAAAEAAAAAAAAAAAAAAAAAAAAAAAAAAAUAAAAAAAAAAAEAAAAAAAAAAAAAAAAABQAAAAAAAAcAAAAAAAAAAAADAAAAAAAAAAEAAAAAAAAAAAAAAAAAIgAABQAAAAAFACIAAAAAAAAAAAEAAAAAAAAAAQAAAAIAAAAAAgAAAAAAAAAAAAAAAAAAAAAAAAAHAAAAAAAAAAAAAAAaAAAAAAABAAAAGgAAAAAABgAAAgAAAgAAAAEAAAQHAAAAAAAAAAAAAgAAAQAAAAAAAAAAAAAAAAAAAAAAAgAAAAAAAAAAAAAABQAAAAAMAAAAAAAMAAAAAAAABwAAAAAACAAAAAAAAAAFCQAAAAAAAAAAAAAAAAAAAAAAAAAAAAAAAAAAAAAHAgAAAAAAAAAAAAAAAAAAAgAABwAAAAAAAAAAAAAAAAAAAAAAAgAABQAAAQAAAAAAAAACAAAAAgAAAAIAAAAAAAAABwAAAAAAGgAAAgAAAAAAASMDBwAAAAEGABoAAAAAAAAAAAAABQAAAAAAJAAAAAAAAAAAAAAAAAAAAAEABQAAAAAAAAAAAAAAAAAAAAAAAAAAAAAAAAANAAAAAAAAAAAAAAAAAAAkAAAAAAAAAAANAAAAAAAAAAADAAAAAAAAAAMAAAAAAAAAAAkAAAAAAAAmAAAAAAAAAAAAAAAAAAAAAgAAAAQAAAABAAAAAAUAAAAAAAAAAAAAAAAABwAAAAANAAACAAABAAAAAAAAAAAAAAAAAAwHAAAAABoAAAAAAAAAJQAAAAAAAAAAAAAAAAACAAAAAAAAACQAAAIAAAANAgAAAAAAAgAAAAACAwAAAAAAAAAAAAAAAAAAAgAAAAAAAAAAAAAAAAAAAAAAAAAAAAAAAAEABQAAAAAAAAAAAAAAAAAAAAMAAAAFAAMAAgABAAAAAAAAAAAAAAAFDQAAAAAAAAAAAAAAAAAAAAAAAAAAAAAAAAAAAAAABwAAAAAAAAAAAAAAAAAAAAAAGgAAAAAJAAAAAAIAAAcAAAMDAAAAIgcABwAAAAAAAAAAAAAAAAAAAAAAACQABwAAAAAlAAAaBwAAGgAAAAAAAAUkAAAAAwAAAAAAAAAAAAAAAAAAAwAAAgAAAAAAAAMDBwUAAAAAAAAAAAAAAAACAAAGBQAAAAAHAAAAAAAAAAAAAAAAAAAAAAAABQAAAAAAAAAAAAAAAAAAAAAaABMAAAAAAAACAAAAAAAAAAAABgAAAAAFAAAAAAAAAAAAAAAAAAAAAAAFAAAAAAANAAAAAAAAAAAAAAAiAAAAJAIAAAAAAAADAAAFAAEAAAACAAAAAAAHAAAAAAAHAAAAAAAAAAAAAAAAAAAAAAAAAAAAAAAAAAAAAAAAAAEAAgAAAAAAAAUAAAAAAAAAAAAAAAAAAAAAAAAAAAAAAAAAAAAAAAAAAAAAAAAAAAAAAAAAAAAAAAAAAAcAAAAAAAAAAAMAAAAAAwEAAAAAAAAAAAAAAAAAAAAAAAACAAAAAAAAAAcAAAAAAAADAgAABgIAAAAAAwEAAAAAAAEAAAAAAAAFCQMBAAAAAAAQAAAAAAAHAAAADQAAAAAAAgAADQAAAAACAAAAAAAAAAAAAAAAAAcAAAAAAAAAAAAAAAAAAAIAAwAAAAUiAAAAAAAAAAAAAwMFAAAMAAAAAAcAAAAAAAAAAwAAAAACACIAAAAAAAABAAAAAgAIAAAAAAAaAAAAAAcDBwcAAAAAAAACAAAAAAIAAAAAAAAAAAAAAAAAAAAAAB8DAAAAAAAAAAAAAAAAAAUCAAAAAAAHAAAKAAAAAAAAAAoAAAAAAAAAAAAAAAAAAAAAAAAAAAcAAwQAAAAAAQAHAAAAAAAAAAAAAAACAAAAAAAABAAAAgAAAAAAAAABAAAAAAIAACQAAAAADQAADQAAAAAAAAAAAAAAAAcAAAAEAAAAAAAAAAAFAAAAAAAkAAAAAAIAAAAAAAAAAAAABg0AAAAFAAAAAAAAAAAAAAAJAAAAABoAAAABAAEDCQAKAAAAAAAAAAIAAAAAAAAAAAAAAAAAAgAAAAAAAQAAAAAAAAIAAAAAAAAACQAAAAAFAAAAAAAARwIABQAAAAAAAAAHAAAAAAAAAgAAAAAAAgAAAAAAAAAAAAAAAAAAAwAAAAAAAAAAAAAAAAAAAQAAAAAAAAYBAAAAAAAAAAACAAICAgAAAAAHAAAAAgIAAAAAAAAAAAAAAAAAAAAAAAAABgAAAAEAAAAAAAAAAQAAAAAAAAAAAAAAAAAAAAAAAAAAAAAAAAAAAAAAAAAAAAAAAAAAAAEABwAEAAAAEAAAAgAAAAAAAAUkAAAAAAAAAAAAAAIAAAAAAwAAAAAAAAAAAAAAAAANAAAAAAAAAAAAAAAAAAAAAAAAAAAAAAUAAAAAAAAIBAAAAAAAAAAAAAAAABoAAAAAAAQABAAAAAIAAAAAAAAABwAAABoAAAEAAAAAAAAAAAMAAAIAAAAAAAAAAgAAAAAAAAAAAAAAAAAAAQAAAAAAAAAAAAIABQAABQAAAAAAAAAAAAAFAAAAAAAAAQEAAAAAAgAAAAAAAAAAAAAAAAAAAAAAAAAAAAAAAAAAAAcAAAAAAAAHAQAAAAAACAAIAAEBAAAAAAAAAAAAAAAFDQAAAAAFAAAABwAAAAAAAAAAAwAAAAAAAAAAAAAAAAAAAAAAAAAAAAAAAAAAAAAMDQAAAAAABQAAAQAAAAAAAAAAAAACAAAAAAAAAAAEAAAAAAAAAAAAAAAAAAAAAAAAAAAACgAABAICAAAAAAAABAAkGgAAAAACAAAAAAAAAAAAAAAAAAAAAAAAAAAAAAECAAAAAAQAJAAaAgAAAAAAAAAAAAAAAAAAAAAAAAAFAQACAAAAAAAAAAAAAAAAAAAAAAAAAAAAAAEAAAAAAAAAAAAAAAAAAAALAQAAAAAAAAAAAAAEAAAAAAAAAAAAAAAAAAAiAAAEACQAAAAAAAAAAAAAAAAADAAABAAAAAAAAQAAAAUAAAAAAAAAAAAAAAcAAQAADgAAAAcAAAAAAAAAAAAAAgAABQAHAAAAAAcAAAAAAAAAAAAAAAUAAAAAAAAAAAAAAQAAAAAAAAAAAAAAAgAAAAAAAAAAAAAAAAAAAAAAHwAAAAcAAAANAAAAAAAAAAAAAAAAAAAAIgAAAAAAAAAABQAFAAAAAAAABwAAAQAAAAAAAAAAAAAABwABAAAAAAANAAAAAAAAAAEAAgAAGgIAAAEAAAAAAAAABAIAAAcAAQAAAA4AAgAAAAAAAAAAAAAAAAAAAAAAAAAAAwAAAAAAAAAAAAAAAAAAAwAAAAAAAAAAAAIAAwAAAAACAAAAAAAAAAAAAAAAAAAAAAwAAAAAAAAAAAAABQAAAAAAAgIAAAAAAAAAAAEAAAAAAAAAAAAAAAAAAAAAAAAAAA0GACIAAAIAAAAAAAAAAAAAAAAAAAANAAAAAAACAAAAAAcAAAAAAAAAAAAAAAANEgMAAAAAAAAAAAAAAAAAAAAAACQAAAAABwAAAAAAAA4AAAAAAAAFAAAAAAAAAAAAAAAAAAAAABoAAAAAAAAAAAUAAAAAAAABAAAAAAAAAAAFAAAAAwAAAAAHAAAAAAAAAAAAAwUAAAAAAAAAAAAbAAAAAAcAAAAAAAAAAAIAAAAAAAAAAAAABQAAAQEAAAAAAAIAAAUBAAAAAAAAAwAAAAAAAAAAAAAAAAIAAAAAAAMHAAAAAAAAAAAAAAAFJAAAAAAAAAAAABoAAAcAAAAAAAAAAgEAAAAAAAAAAAAAAAAAAAAAAAAAAAIAAAAAAAAAAAAABwAAAAAAAg0AAAAAAAAAAAIAAAAAAAAAAAAAAAAAJAAAAAAAAAAAAAAAAAADCQAAIgAAAAAAAAEAAAAAAAAAAAAAAAAaAAAHAAAAAAUAAAAAAAAAAAAAAAAAAAAAAAAAAAAAAAAAAAAADQAAABIFAAAABQAABwAAAAAAAAcADwAAAAAAAAAAJAAAAAAAAAAAAAAAAAABAAAAAAAAAAAKAwAAAAAAACQAAAABAgAAAAAAAAABAAAAAAAAAAACAAAAAAAAAAAAAAAAAAAAAAAAAAAFAQAAAAMAAAAAAAAAAAAAAAAAAAAAAAAFAAAADSIAAA0AACIaAAAAAAAAAAAAAAAAAAUAAAAAAgIAAAAAGgUAAAACIwYJAAAAAAAAAgAAAgIAJAIAAgcAAAAAAAAHAAAAAAAABAAAAAAAAAEAAAAAAAAAAAAAAAAAAAAAAAAAAAAAAAAAAAIAAAAAAAAAAAAAAAAAAAAAAAAAAAAAIgAHAAACAAAABAABAgAABQAAAAUkAAAAAgAAAAAKAAAAAAAAAAAGBwAAAAAAAAAOAAAAAAACAAAAAAAAAAAAAAAAAAAAAAMAAAAAAAAAGgAAAgUAAQAAAAAAAQAAAAABBQAAGgAiAAAAAAAAAAAABQAAAAAAAAAAAAAAAAAAAAAAAAMABQAAAAUAAAAAAAUAAAABAAMAAAAAAAAAAAcFAAAAAAAiAAIAAAAAACYAAAAAAwAAAAABAAIAJAcHACIDAAAAAAAAAgAAAAAAAAAAAAAAAAAAAAQAAAAAAAAAAAAAAAEAIgAAAAAAAAADAAAABQEABwAAAAAAAAAAAAcAAQAAAAcAAAAAAAAAAAAAAAcAAAAAAAAAAAAACAIAAAAAAAAHBQAAAAAACgAAAgAAAAAAAAAAAAcAAAAAAAAAAAAAAAIBAAAAAAAGAgAAAgIAAAAAAAAAACMAAAAAAAAAAAAAAAEHAAAAAAAAAAIAAAACAAAAAAAFBwAAAAAAAAAAAAAAAAcAAAAAAAAAAAAAAAAAAwAAAAAAAAYFAAAAAAAAAAUAAAAAAAEAAAAAAAACAAAAAAAAAAAADQAAAAAAAAAAAAAAAAAAAAAABQAAAAAADAcHAgAAAQAAAAABAQAAAAAABQAAAAAaAAAAAAAAAAAABQAAAAAAAAAAAAAAAAAAAgAAAAAAAAAAAAAAAAAAAAAABQAABwAAAAAAAAAAAAAAAAAAAwAAAgIAAgAAAAACAAAAAAAFAAAAAAAACgAHAAIAAAAAAA0aBAAAAAAAAAUAAAAAAAAAAAAAAwAAAAAAAgAAAAAAAAAAAAIAAAABDQAAAAAAAAAAAAAAAQAAAAAAAAAAAAAAAAAAAAAAAAAEAAAAAAAAAAAADQAAAAAaAAAAAAAAAAAAABoAAgAAGgENABoAAAAAAAAAJAAAAAAAACQAAAAAAAAAAAAAAAAAAAAAAAABIgAAAAAAAAAAAwAAAAAAAAAAAAAAAgAFAAAAAAAAAAUAAAAAAAACAAAAAAIAAAAHAAAAAAAAAA0AIgAAAAAABQAAAAAAAAAAAAAAAAAAAAAAJAElAAAFAAAAIgAAAAAAAAAAAAAAAAAAACQAAAAAAAAAAAAAAAIkAAAAACIAAAEAAAAAAAAAAwMAAAAQAAACAQAAAAAAAAAABwADAAACAAAAAAAAAAAAAAAAAAUAAAAABwAAAAIAAAAAAAAAAAAAAAUAJAAAAAAAAAAAAAAAAQAAAgAAAAAAAAAAAAAHAAAAAAAAAAAAAgAAAAACAAAAAAAlAAAAAAAAAAAAAAAAAAAMAAMAAAAAAAAAAAMACQAAAAAAAQAAAAAAAAAAAAAAAAAAAAACAgUAAAAAAAIAAAAAAAAAAAAAAgADAAICAAACAAAAAAAAAAAAAAAAAAAiAAAAAAAAAAAAAAAAAwAAAAAAAAAAAAACJAAAAAAAAAAABwEAAAAAAAAAAAAAAAAAAAAHAAAAAAAAAQIAAAAAAAAAAAABAAUAAAAaAAAAAAAAAAMAAgUAAAAAAAAFAAAAAQAAAAACACIaAQAAAAAAAAAAAgcAAAIAAAAAAAAAAAAAAAAAAAAAAAMAAAAAAAAAAAAAAAAAAAAAAAIAAAAAAAAAAAAkAAAAAAAAAAAAAAAkAAAAAAAAAAAAAAAAAAAAAAAAAAAAAAAAAAAaAAAAAAAAAAcAAAcAAAABAAAHAAAAAAIAAAAAAAAAAAAAAAAAAAAAAAAAAAAiAAAAAAAAAAAAAAAAAAwCAQAAAAEAAAAAAAIAAAAAAAAAAAAAAAAAAAAHAAAAAAAAAAAAAAAAAAAAAAAAAAAAAAAAAAACAAAAAAAHAAAAAA0AAAAAAAAABQQAAgAAAAAAAAAAAAAAAAAHAAAAAAAFAAEAAAAAAAAAAAAAAAAAAAAAAAAADQAAAAAAAAAAAAAAAAAAAAAAAAAAAAAABAUAAAAAAAAKAQAAAgAAAAAAAAAAAAAAAAAAAAAAAAAAAAEaAAMAAAAAAAAAAAAAAAAAAAAAAAAAAAAAAAAAAAAAAAAFAAMABQAAAAAAAA0AAAIAAAAAAAAABwAABAAABQIAAAACAAAAAAAAAAAAAAAACgAAAAAAAAAAAAAKAAABAgIAAAIAAAAAAAYAAAAAAAAAAAAAAAEAAAEAAAAEAAAAAAAAAAAAAAABAAAAAAAAAAAAAAAAAAAAAAAAAAAAHwAAAAAAAAAAAAAAAAAAAAAAAAAAAAAAAAAAAAAAAAEAAAAAAAAAAAUAGgUAAAAAAAAAAAAAAAAAAAcAAAACAAAAAAAAAAAAAAMABwEAAAAAAAAAAAAAAAAAAAAAAAAAAAABAAAAAAADAAAAAAAFAwAFAAUFAAIAAAAAAAAAAAABAAAAAAAAAAAAAAAAAAAAAAAAAAAAAAAAAAAAAAAAAwAAAAAAAAAAAAAAAAANAAEAAAAAAAAAAAAARwAAAAAAAAABAAAAIgAAAAAAAAAAAAAAAAcAHQADAAACAwAAAAAAAAcAAAAAIgAAAAAAAAAAJgAAB0kAAAAAAAADAAAAAAAAAAAAAAAAAAAAAAAAAAAABwAAAAAAAAYAAAAAACQAAAcAAAAAAAMAAAIAAAAAAAAAAgAaDQAAAAAAAAIFAAAAAAAAAAMAAAAAAAAAAAAAAAAAAgAAACIABQAAAAAAAAECAAAABQAAAAADAAABAgAAAAAAAAAEAAAAAAAHCAAAAAAkAAAAAAAAAAAAAwAABgAAAAIAAAAABwAAAQAAAAAAAAAAAAAAAAAAAAUAAAMAHAAAAAAAAAAAJAAHBQAAAAMAAAAAACIAAAAAAAAAAAAAAAAAAAAAAAAABQAABwAEAAAAAAAAAAAFAAAAAAUAAAAAAAAAAAACAAAAAAAAAAUAAAACAAAAAAACAgMAAgACAAEAAAAAAAAAAAAAAAAAAAAAAAAAAAIAAAIAAAAAAAAABQAAAAAAAAAIAAAAAAMiAAAHAAAHAAAiAAEAAAAAAAAAAAAAAAAAAAAAAAADAAAAAAAMAAAAAAAAAAAAAAAAAAIAAAAAAAAAAAAAAA0AAAAABwAAAAIAAAAMAAAAAAAAAAAAAAIAAAEAAAIAAAAAGgIAAAAAAgAAAAAAAAAAAAAAAAAAAAAAAAAOAAAAAAAAAAAkAAAAAAAAAAAAAAAAAAIAAAAAAAAAAAAAAAAAAAAAAAAAAAAAAAAAJAAAAAAAAAAAAAAAAAAFAAAAAAAAAAAAAAAAAAAAAAAAAAAAAgAABQAABgAAAAALAAAAAAIAAQAAAAAAAAAAAAAAAAAAAAAAAAAAIwAAAAAABwcAAAAAAAMlAAIAAAADBQAAAAEAAAAAAAAAAAAAAgEAAAAAAAAAAAAAAAAAAAAAAAAAAAAAAAAAAAAAAAAAAAAAAAAAAAAAIgIAAAAAAAAHAAAACgAAAAACAAAAAAAAAA0AAAAAAAAAAAAHAAAAAAAAAAAAAAABIgMAAAAAAAAAAAYAGgIAAAAAAAAAAAAAAAANDwEAAAIAACQlAAAAAAAAAAAAAAAFAAAAAwAAAAAAAAANAAAAAAAFAAAAAAAAAAAAAAACGgAAAAAHAAAAAAAAAAAAAAAFAAAkAAAAAAAABQAAAAACAAAAAAAAAAAAAAAAAAAAAAAAAAAAAAAAAAAAAAUAAAAAAAAAAAAFJAUAAAAAAAAAAAAAAgABAAAAAAAABQAAAAACAAAAAAAAAAQAAAAAAAAaAAAAAAAAAAAAAAAAAAAAAAAAAAAAAAAAAQAAAAAAAAAAAAAAABoCAAkAAAACAAAAAAAAAAAAAAAAAAAAAAAAAAAAAAAAAAEAAAAAAAUAAAAABQAAAAAAAAAAAAAAAAAAAAAABQAaIgYAAAAAAAAAAAIBAAAAAAAAAAAAGyIAAAACAAAAAAAMAAAAAAAGBQAAAwAAAAAAAAAAAAUAAAAACQ4NAAAAIgAAAAAAAAAAAAAAAAAAAAAFAAAAAAAAAAAAAAAAAAAAAAAAAQAAAAIABQIDAAAAAgAAAAUADgAAAAAAAAAAAAAAAAAAAAAFAAkAAAAAAAAABQACAAAAAAAAAAAAAAAAAAAAAAAAAAAABQAAAAAAAAAAAAAAAAAAAAAAAAAAAAAAAAAAAAAAAAAAAAAAAAAAAAUAAAAAAAAAAwAAAAABJAAAAAAAAAAAAAEFAAAHAAUACQAAAAACAAAAAAwAAAAAAAAAAAAAAAAAAAAAAAAAAAAAAAAAAA1MGgAAAAAAAAEAAAAAAAAABwAAAAACAAAAAQAAAgAiAAAiAAAAAAAAAAAAAAAAAAAAAAAAAAAAAAABAAAAAgAAAAANAAAAAAAAAAAAAAAAAAAAAAAAAAAAAAAAAAAAAAAAAgADAAAAAAUkAAIAAAIAAAAAAAAAAAAAAAAAAAAAGgAAAAAAAgAAAAAAAAAAAAAAAAAFAAAAAgAAAAAAAAIAAAAAGgAABAAAAAAAAAAAAiIAAAAAAAADAAAAAAAaAgAAAAAAAAAAAAAAAgAAAAAADQAAAAAAAAAAAAAAAAAAAAAEAAcAAAAAAAAAAAEAAAcAAAAHAwAABQAAAAAAAAAHAAAAAAACAAAAAgUABAAkAAAAAAAAAAACAAAAAA0AAAAAAAAAAAAHBwMAAAAAAAAKAAAAAAAAAAAAAAAAAAAABAAAAAAAAAAAAAAAAAAAAAAAAAEHDQAHAAAAAAAiAgAkAAAiAAAAAAAAAAAAAAAAAAcAAAAAAAADAAAAAAAAAAABAAAAAAAAAAAAAAABAAMAAAAAAAAHAAAkJQAkAAAAAAABAAAaAAAAAAAAAAAAABoAAAAAAAAAAAIAAgAAAAAAAAAAAAAAAAAAAAAAAAAAAAAAAAAAAAAAAwAAAAAAAAAAAAcADwIAAAEAAAEAAAAIAAAGAAAAAAAAAAAAAAYAAAAAAAAABQAHAAAaBwABAAEAAAQAAAAAAAIAAwAAAAUAAAAAAAAAAAAAAAABAAAAAAAAAAAAAAAAAAAAAAMAAAAAAAAAAAAAAAAAAAAAAAAAAAAAAAAFAAcCAgIAAAAAAAAAAAAAAQAAAAAAAAAAAAMAAAAAAAACAAAAAAAAAQAAAAAAAAAAAAAAAAAAAAAAAAAAAAAAAAAAAAAAAAMAAAAAAAAAAAAABSQABQAAAAAAAAAAAAAAAAIAAAAAAAAABwAAAAAAAAAAAAAAAAAAAAAAAAAABwAHAAABAAAAAAAAAAAAAAIkAAAABwACAAAADQAAAA0AAAAAAAAAAAAAAAAAAAAAAAAAAAAAAAAAAAAAAQAAAAAAAAAAAAAAAAAAAAABAAAAAAAAAAAAAAAAAAAAAAAABQAAAAAAAAAAAAAAAAAAAAAAAAICAAAAAAAAJAACAEcAAAAkAAAAAAACAAAACgAAAAEAAAAAAgAAAAAABwIAAAAAAAAAAAAAAAwAAAAAAAANAAAAAAAAAAAAAAAAGgAAAAAAAAAAAAAAAAAHBwAAAAkAAAAHAAUAAAAAACQAAAAAAAAAAAAAAAAHAAAAAAAAAgAAAAAAAgIAACIAAAAAAAAAAAAAACUAAAAAAAAAAAAAAAAAAAAAAAAAAAQAAgAAAAgiAAAFAAAAAA0AAAACAgAAAAAAAAAAAAAAJQAAAQwAAAAAAAAAAAAAAAAAAAAAAAAAAgAAAAIAAAAAAAAAAAAAAAAAAAAAAAAAAAUAAAAAAAAAAAAHAAAAAAAAAAAAAAEAAAAAAAAAAAUAAwAAAAAkAAAAAAACAAEHAAAAAAAAAAACAAAAAAAAAAAAAAAAAAAAAAADAAAAAAIAAgAAAAcAAAAAAAAAAAAAAAAAABoAAAAAAAAAAAAAAAAAAAAAAQAAAAAAAAAMAAACAAAAGgYPAAAAAAAAAAAAAAAAAAACAAAiAAAaAAAOAAAAAAIAAAAAAAAAAAAAAAAAAAAAAAAAAAACAAAAAAAAAAAAAAAAAAAAAAAAAAABAAAAAAAAAAAAAAAAAAAAAAAAAAAAAAAAAAAAAAAAAAAAAAAAAAAABQAAAAcAAAAHAAAAAAAAAA0AABoAAAAAAAANAAcAAAMABwAHAAACAAAAAAABAAAAAAAAAAADAAANAAcAAB8AAAAAAAAHAAAAAAAaAAAAAA0AAAAAACQAAAEAAAAAAAAAAAABAAAAAAAAAAAAAAAAAAAkAAADAAAAAAAAAAAAAAAFAgAAAAAAAAAAAAAABwAAACQkAAAAAAAFAAAAAAAAAAAAAAAAAAAAAQAAAAAAAAAAAAACAAAAAAwDAAAAAAAAAAEAAAAAAAAAAAAAAAAAAAICAAAAAAAAAAAAAAMAAAAAAAAAAAAAAAIAAAAAAAAAAAAAAAAAAAcAAwEAAAAAAAAABwAdAAAAAQAAAAAAAAAAAAAAAAAAIgAAAAAHAAIAAAAAABoAAgAAAAAAAAAAAAcAAAAABgAADQAAAAAAAAAAAAAAAAAAAAAFBQAAAAAAAAAAAAAAAAAAAAAAAAUAAAAAAAUAAAACAAAAAAAAAAAAAAAAAAIAAAAAAAAAAAIAAAAAAAAAAAAAAAAAAAAkIgAAAAABAAYAAAAAAAAAAwAAAAAAAAACAAAAAAAAAAAAAAAAAAAAAgAAAAAAAAIAAAAAAAAAAAAAAAAAAAEAAwAKAAAAAAAAAAAAAAAAAAUAAAAAAAAAAAAAAAAAAAAAAAAABwAHAAAAAAAAAAAAACIAAAAAAAAABwELAAAAAAACAAAAAAAAAAAAAAAAAAAAAAAAAAAAAAAAAAIFAAAAAAAAAAAAAAAAAAAAAAAAAAAABw4AAAAAAAAAAAAAAAAAAAAAAAAAAAAAAgAAAAAAAAABACQAAAAAAAAAAAAAAA0AAAAAAAAAAAUAAAAAAAAABQ0AAAAAAAAAAAAAAAAAAAASAAAAAAABAAAAAAQAAAEAAAAAAAAAAAAAAAAAAAAAAAAAJAAAAAAAAAAAAAAAAAACDQAEAAIBAAAAAAAAAAAAAAAAAA0AAAAAAAAAAAANAAAAAAAAAAAAAAcAJAAAAAAAAAAAAAAAAAAADAAAAAAAGgAAAAAAAAUAAAEAAAAAAAAAAAAAAgABAAcAAAAAAAAAAAAAAAAAAAAAAAAAAAAAAAAAAAAAAQAAAAAAAgANAAAAAAABAAAAAAMAAAIAAAAAAAACAAAAAAAAAiUAAAAAAAAAAAAMAAAAAAAAAAAAAAAAAgAAACQAJAIFAAAAAAIAAAAAAAAAAAAAAAAAAAAAAAAAAAAAAAAAAAAGAgAHAAAHAAAAAAAAAAAABwAAAAAAAAAAAAAAAAUAAAAAAAAAAAAAAAAAAAAAAAAAAAMAAAAABQAAAAEaBxcAAAAAAAAAAAAIAAAAAAUAAAAAAAAFAAAAAAACAgAAAQAAJAAAAAAAAAcEAAAIBwAABwAGJAADAAAFAAAAAAAAAAAABQIAAAAAAgAAAAAAAAAAAAAFAAAAAAAAAAAAAAAAAAAAAAAAAAAAIgAAAAAkAAAAAAAAAAAAAAAAAAAAAAAAAAAAAAAAAAUBAAAAAAIAAAAAAAAAAAAAAAAkAAAAAAAAAAAAAAAEBgAAAAAAAAAAAAAAAAAAAAAAAAAAAAAAJAIAAAAAAAAAAAEAAAAAAAAAAAAADgAAEQAAAAAAAAAAAAAAAAAAAAAkGgAlAAAAAAAAAAAAAAAAAAAAAAIAAAAAAAAABwAAAgAAAAAAAAAAAAAAAAAABQAAAAkAAAAAAAAHAAAAAAAAAAAAABoAAAAAAAAAAAAAAAAADQAAAAAAAAAAAAAAAAAAAAAFAAAAAgAAAAAAAAAAAAAAAAAAAAIAAAAAAAAAAAAAAAAADQAHAAAAAAAAAAAABQAAAAAFAAAAAAAAAgAAAAACAAAABwAAAAAAAAAAAAAAAAAAAAAAAAAAAAAAAAAAAAAAAAAAAAAAAAAABwAFAAAAAAAaAAABAAAAAEcAAAADAAAAAAAiAAAAAAAAAAAAAAAHAAAAAAAAAAAAAAAAAAAAAAQAAAAAJAAAAAAAAAAAAAAAAAAAAAAAAAAAAAAHAAABBwQJAAAAAAAAAAACAAAAAAAAAAIAAAUAAAAAAAAAAAcAAAAAAwAAAAAAAAAAAAAAAAAAAAAaAAAAGgACAAMABQAAAAAAAAAAAAAAAAAAAAAAAAUAAAAAAAAAAAEAAAAAAAAAAwAAAAAAAAADAAAAAAAAAAIAAAAAAgAAAAAAAAAAAAAAAAAABQAHAAAAAAAAAAAAAAAHAAcAAAAHAAAAAAMAAAAAAAAAAAAAAQAAAAMAAAAAAAAAAAECAAAAAAAAAAAAAAIAAAAAAAAAAAAAAAAAAAAAAAAAAAAAAAAAAAAAAAAABAQAAAcCAAAAAAAAAAAlAAAAAQAAAAAAAAAAAAAAAAAAAAAAAAADAAAAAAABAAAHAAAAAAAAIgAAAAACAAAAAAAAAwAAAAAAAAAAAAAAAAAAAAAAACQAAAAAAAAAAAAkACQAAAAIAAIAAAAAAAAAAAACAwAAAAAAAAAAAAACAAUAAAcACyQAAAAAAAYADAAHAAAAAAEAAAAaAAAAAAAAAAAABQAAAAAAAAIHBQAAAAIABQAADQAkAAAAAAkAARoAAgAAAAAAAAAFHQAAAAAAAAAAAAAAAAAAAAIAAAAAAAAkAAAAAAAAAAAAAAAAAAAABQAAAgAAAAAAAAAAAAAAAAAAAAAHGgAAAAAAAAAAAAAAAQIAAAAAAAckAgcAAAAAAAAAIgAAAAIAAAAAAAAAAAAAAAAAAAAAAAAJAAAAAAAAAAAAAAAAAAAAAAAAAAAAAAAAAAAAAAEAAAAAAAAHAAAAAAAAAAEAAgAAAAACAAAFAAAAAAAAAAAAAAACAAAAHQAAAAAAAAAAAAAAAAAAAAAAAAAAAAACAAACDQAACgADAAAAAAAAByQAAAAAAAAAAAAAAAIAAAAADgAAAAAAAAAAAAABBAIAAAAAAAAAAAIAAAAAAAAAACQAAAAAAAcAAAIAAAcAAAAAAAUiAAQAAAAAAAAAAAADAAAAAAAAAAAAAwAAACoHAAAAAAAHAAIAAAAAAAAKAAAABgAAABsAAAAAAAAAAAAAAAAAAAAAAAADAAAAAAAAAAAAAAAAAAAAAAAAAAMAAAMABwAAAAAAAAAAAQIAAAAAACQAAAAAAAAAAAAAAAAAAAAAAAAAAAAAAAABAAAAAAAAAAAAAAYAAAAAAAAAAAAAAAAAAAAAAAAAAAAAAAAAAAAAAAAAAAAAAAAAAAAAAAAAAAAAAAAAAAAAAAMAAAAAAQEaAAIFAAAAAAAAAwAAAAAAAAAAAAAAAwAAAAAAAAAAAAAAAAAAAAAAAAAAAAAAAAAAIgAAAAIAJAAAAAAAAAAAJAAAAAAAAAAAAAAAAAAAAAABAAAAAAAAAQAHAAYAAAAAAAAAAAAAAAAHAAAAAgAAAAADACQAAAIAAAAFAAUAAAAAAAAAAAAAAAAAAAAAAAAAAAAAAAAAAAAAAAAGAAAAAAIAAAAAAAAAAAAAAQAAAAAAJAADAAAAAAAAAQIAAAAAAAYAAAAAAAAAAwIAAAAAAAoAAAMABwAAAAAAAAAAAAAAAAAABwAAAAAAACQAAAAAAAUAAAAAAAAAAAAAAAABAAAAAAAAAAAAAAADBQAAAAAFAAIAAAAAAAAAAAAAAAAAAgAAAAAAAQAAAAAAAAAAAAEAAAAAAAAHBAAFAAAAAAAHBwAAAAAAAAAAAAAAAAAAAgIAABoAAAAAAAAFAAAFAAAAAQIAACQAAAAAAA0AAAAAAAAHAAAAAAAAAAAAAAUAAAAABwAAAAAAIgACAAUBAAAAAAAAAwADBQAAAAAAAAAAAAEAAAAAAAAAAAADAAAAAAAAAAAAAAAaAAANAAAAAAAAAAAAAAAABQAAAAACBQACAAAAAAAAAAAAAAAAAAAAAAAAAAIAAAAAAAAAAAAAAAANAAAABwAAAAAAAAACAAACAAAAAAcAAAAAAAAFRwAAAAAAAAAAAAAAAAAAAwAAAAQNAAcAAAMAAAEAAAEHACIfAAAAAAIAAAAAAAAAAAUAAAAAAAAAAAAAAwAAAAIAAAAAAAAAAAADAQACAAICAAADAAAAAAAAAAYAAAAAAAAFAAAAAAAAAwAAAAAAAAAAAAAAAAAAAAAAAAAAAAAAAAAAAAAAAAAAAwAAAAUAACYAAAAAAAAAAAAAAAAAAAAAAAAAAAAAAAABAAAAAAACAgAAAAAAAAAAAAAAAAAAAAAAAAAAAAAAAAQAAAAAAAAAAAAAAAAAAAAAAAUAAAAAAAAHAAAAAAAAAAAABQAAAAAAAAcAAQAAAAAAAAAAAAAAAAAAAAAAAAAAAAAAAAAAAAAkAAEAIgAGAAAAAAAAAAAAAAAAAAAAAwAAAAAAAAAAAAAFAAEkAAAAAAAFAAAAAAUAAAAAAAAAAAAAAAcAAAAAAAAAAAAAAgAAAAAAAAAAAgEAAAAAAAAAAgkAABIAAAAAIgAAAgAAAAcAAAAAAAAAAAAAAAAAAwYkAAACAAAAAAAADQAAGgAAAA0AAAcAAAAADAAAAAAAAAAAAAAAAAAAAAAAAAAAAAAAAAAAAAAAAAAAAAAAAAADAAAAAAAAAAAAAAAFAwAAAAAAAAAAAAAAAAAAAAAAAgUAAAAAAAIAAAAAAAAAAAAAAAAAAAAAAAAAAAAAAwAAAAAAIgAAAAAAAAAAAAAAAAAABwAAAwAAAAAAAAAAAAAAAAAAAAAAAAAAAAAAAAAAAAAFAAAAAAAAAAAACAAAAAMAAAAABwIAAAAAAAABBwAAAAAAAAAAAAIABwIABwAAAAAHAAIAAAAAAAAAAAAAAAAAAAcAAgAAAAAAAAAAAAAAAAAAAAAAAAAAAAAAAAACAAADAAcAAAcAAAAAAgAAAAAAAAAAAAEAAAAAAAAAAAAAAAAAAAAAAAAAAAMABQAFAAAAAAAAACIAAAADAAAAAAAAAAABAAAAAAAABQAAAAADAAAAAAAAAAAAAAAAAwAAAAAAAAAAAAAAAAACJAAAAAAAAAAABwAAAwAAAAAAAAAAAAAAAQAAAAAAAAAAAAAAAAAIAAAAAAAABQAAAAIAAAAAAAAAABoDACUAAAAAAAAAAAMAAAAAGgAABwAAAAAAAAIFBQAAAAAABAAAAAAAAAAAJAAAAAAAAAAACgABAAAABwIAAAAEAAAAAAMAAAQAAAADAAAFAAIAAAAAAAAAAAAAAAAAAAAAAAAAAAABDQAAAAAAAAAAAAAAAAIAAAAAAAAAAAAAAAAAAAAAIgAAAAABAAAAAAANAAACAwAAAAMHAAAAAAAAAAAAAAAAAAAAAAAAAAAAAAIAAAACAAAAAQcAAAAAAAAAAAAAAAAAAAAAAAAAAAAAAAAAAAAAAAAAAAAAAAAAAAAAAAAAAAAHAAAHAAAAAAAIAQASAAAACBsJAA0BAAEAAAMBAAUAAAAAAAAAAAAAAAAAAAAAAgEAAAIAAgAAAAAAAAAAAAAAAAAAGgAAAAAAAAADAAAMAAAAAAMAAAAAAAAAAAAAAAAABQAAAAAAAAAAAAAAAAEAAAAAAAMAAgAAAAEAAAAaAAcHAAIAAAAAAAAAAAAAAAAAAAADAAAAAAAAAAAAAgAAAAAAAAAADQAAAAAAAAAAAAAiAAAAAAAAAAUAAAIAACQAACQDAAACAAAAAAAAAgAAAAABAAEAAAAAAAAAAAAAAAAAAAAAAAAAAAAAAAACAAAAAAAAAAAAAAADAAAAAAAABAAAAAAAAAAAAAAAAAEAAAAAAAAAAAAAAAAAAAAAAAAGAAMAAAACAAANAAAAAAAAAAAAAAAAAAAAAAAAAAAAAAADAAAAAAAAAAAkAAAAAAADAAAAAgAAAAAACAUAAAAAAAAAAAAAAAAAJAAAAAAAAAAAAAAAAAcAAAAAAAAAAAEAAAAAAAAAAAAAAAAAAAAAAAAAAAAAAAMaBwAABwADAAAAAAAAAAIGBwAAAAAABgYAAAAAAAAGAAAAAAACAAAAAAAAAAAAAAAAAAAAAAAAAAQAAAAAAAIAAA0AAAAAGgAAAAAAAAAAAAAAAAAAAAAiAAAAAgAAAAACAAAAAAAAAAAAAAAAAAAAAAAAAAAAAAAAAAADAAAAAAAAAAAAAAAAAAAABwAABgAABgAAAA0CAAAAAAAAAAAaDQAAAAAAAAAAAAAAAQAAAAAAAAAAAAABAAACAAAAAgAAAAAAAAAAAAAAAAADAAAAAAAAAAAAAAAAJAAAAAAAAAEAAAAAAwAADQAAAAAAAAUAAAAAAAAAAAAAAAAAAAAAAAAAAAAAAAAAAAAAAAAAAAAAAAAiAAAAAwAAAAAAAAAAAAAAAAEAAAAAAAAAAAAAAAAAAAAABwAAAAAADAAAAAAAAgABAAAAAAABAAAAAAAAAAAAAAUAAgAAAAAAAAAAAAAAAAAAAAAbAwAAAAAAAAAAAAEAAAAAAAAAAAAAAAABAAABAAgAAgAAAAcAIgAAAAAAAAAAAAAAAAAAAAAAAAAAAAAAAAIAAAAaAAAAABoAAAEAAAAADQAAAAAAAAAAAAAADgAAAAQAAAUAAAAiAAAAAAAAAAAAAAAAAAAAAAAAAAAAAAABAAAAAAAAAAAAAAAAAAAAIgAAACIAAAAAAgAAAAAAAAIAAAAAAAAAAAAAAAMAAAEAAAACAAAAAAAAAAACAAAAAAADAAAAAAAAAAAFAAAAAAAAAAAAAAAAAAAAAAAAAAUAAAAADQIAAAAABwAAAAAAAAAAAAAAAAAAAAAAAAUAAAAAAAIFAAAAAAAAAAMAAAAAAAAAAAAAAwAkAgAAAAAAAAAAAAADAAAAAAAAAAAAAAACAAAAAAAAAAAAAAAAAAcAAgAAAAAHAAAABQAAAgAAAgAAAAUAAAAAAAUAAAAAIAAAAAAAAAgAAAADAAAAAAAAAAICAAAAAAAAAAAAAAAAJAAAAAkHAAAFAAAaIgAAAAAABwwAAAAAAAACAAAAAAAAAAAAAAEAAAAAAAAAAAAkAAAFAAAAAAAAAAAAAAAAAAAAAAAAAAABAAAAIgAAAAIAAAAAAgAAAAAABQAAAAAAAAAaAAAAAAAAAAAAAAAAAABIAAAAAAwAAAAAAAAAAAgCAAAAAAAAAhoAAAAAAAAHAQAAAAAAAQMAAAAAAAAADQUAAAAAAAADAQAABQAAAAAHAAAAAAADAAIAAAIFAAAMAAACAAAAGgAiAAAAAAAAGwAAAAAAAAAAAAAAAAAAAAUCAgAAAAAAAAAAAAAACgAAAAAAAgAAAAABBwAAAAAAAAAAAAAAAAAAAAAAAAAAAAAAAAAAAAAAAAAAAAAAJAAiAAAAAAAAAAAaACQCAAAAAAAAAAUABQAFAAIkAAAkAAAAAAAkAAAAAAAAAQACBAApBQEAAAIHAAAAAAAAAAAAAAAAAAAAAAAAAA0AAAAAIgAAAAAFAAAAAAABAwAAAAAAAAAkAAAFAAAAAAAAAAAkAAAAAwIAAAAAAAMAAgIAAAAAAAAAIgAACAAAAAAAAAIAAAAFAAAAAAAAAAAAAwAHAAkHAAAAAAAAAAAAAAAABwEADQAFAAAAAAAABwAAAAAABQAAAAAAAAAAAAAAAAAAAAAAAAAAAAAAAAAAAAckAAAAABoFGh8AAAcAAAAAAAAAACIAAAAAAAAAAAAAAAABAAAAAwAAAAAAAAAAAAAAAAAAAAUAAAkAAAAAAAAAAAAAAAAAJAAAAAAAAAAAAAAAAAAABQAAAAAAAAAkAAAAAAAAAAIAAAAAAAAFAAAAAQAAAAAAAAAAAgAAAQAAAAACAAYAAAANAAAAAAAAAwAAACQAAAAAAAAAAAAAAwAaAAADAAAAAAAAAQAAACQFAAAAJAAAAAAAAAAAAAAAAAAAAAAkBQMAAAAAAAAABAAAAAAAAAAAAAAAAAAAAAAAAAAAAAABAAAAAAAAAAAAAgAFAAIaAAAAAAAaAAABAAAAAAAAAAAAAAAAAAAAAAUAAAAAAAAAAAAAAAAAAAAAAAAAAAAAAAAAAAAAAAAEAwUAAAAkAAAABQAAAAACAAAAAAAAAAAAAAAAAAAAAAAAAQAAAAAAAAAAAAAAAAAAAAAAAAAAAAAAAAAAAAAAAAAAAAAAAAABAAAAAAAAAAMAAAAAAAAAAAAAAAAAAAAADQgAAAAAAAAAAAAAAAAAAAAAAAAAAAAAAAAaAAAAAAAAAgAAAAEAAAAAAAAAAAABAAAAJAAAAAAAAAAAABoAAgAAACIAAAAAABoAAAAAAAAAAAACAgAAGgAAAAAAIgAAAAAAAAAAAAwBAAAAAAACAAAAAAAAAAAABQAAAAYAAAAAAwEFAAADAAAAAgAABQACAAAAAQAAAAMADgMAAAIAAAABAAAAAAAAAgIFAAAAAAAAAAAAAAIAAAMAAAAAAAcAJAAAAAAAAAAAAAAAAAAAAAAAAAAkAAAAAAACAgAFAAAAAAAAAAAfBQAAAAAAAAAIAAAAAAAFAAAAAAAAAAAAAAAAAAAAAAAAAAAAAAAAAAAAAAAAAAAAAAAAAAAAAAAAAAAAAAAAAgACAAAAAAAAAAAAAAAAAAAAAAAADQAMAAcAAAIAAAABAAAAAAAAAAAAAAMAAAADAAAAAAAAAAAAAAAAAAANAAAAAAcAAAAaAAAAAAcAAAAABgIAAAAAAAAAAAAAAAAAAAACAAAAAAAAAAAAAAAAAAAAAAAAAAIBAAICAAAAAAMAABoAAAAAAAAAAAAAAAAAAAAAAAAAAAAAIgAaBQAAAAAAAAAAAAAAAAAAAAAAAAAAAAAAAAAAAAAAAAAAAAAAAAAHAAAAAAABAAAABQACAAAAAAAAAAAAAAAAAAAAAAAAAAAAAAAAAAAAAAAAAAAAAAAAAAAAAAAAAAAAIgAAAgAAAAAHAAUABwUAAAADBwAAAAEAAAAAAAAAAAAAAAAAAAAAAAAAAAACAAUCAAALJAAAAAAAAAABAAAFAAAAAAAAAAAAAAAAAAQAAAAAAAAAACQAAAAAAAAAAAAABQAADAAAAQAKAgEAAAAAAAAAAAAAAAIAAAAAAAAAAAUFAAICAAAAAAAAAAAAAwUAAAAAAAABAAAAAAAAAAAAAAAAAAAAAgcAAAAaAAAAAAAAAAAABAAABAAAAAAAAAAAAAAABwAAAAAABQAAAAAAAAAAAAAAAAAAAAAAAAAAAAAAAAAAAAAAAAABAAAAAAAAAAADAAAAAAAAAAAABQAAAEcABQAGAAAABwAAAAACAAAAAAAAAAAAAAAHAAAAAAcAAAAADAAAAAIiAAAABwAAAAYAAAIAAA8AAAAAAAAAAAEAAAAAAAAAAAAAAAABAAAAAAAAAAAAAAAABwAAAAIAAAAAAAAAAAAAAAAAAAAJAAAAAAAAAAAAAAMAAwAABQcAAAAAAAAAAAAAAAAAAAACAAArAAAAAAAABgAAAAAAAAAAAAAAAAAAAAAAAAAAAA0AAAoAAQAiAAAAAAAACgAHAAAAAAAABQEAAAAAGgAAAAAAAAAAAAIAAAAAAAAAAAAAAAAAAAAAAAAAAAAAAAAAAAAAAgAADAAAAAAAAA0AAAIAABoAAAAAAAAAAAAAAgMAAgAAAAAAJBoAAAAAAAAAAAAAAAIiAgAAAAUAAAAAACIAAAAAAAAHAAAAAAAAAAAAAAAAAAEAAAAAAAEAAAcAAAEAAAAAAAAAAAAAAAAADQAAAAAAAAAAAAAABwAABwAAAAAAAAACAAAAAAAAAAAABwAAAAIDAAIAAwAAAAMAAAAAAAAABQAAACQAAAAABQAAAAAAAAAAAAAAAAACAAAAAAAAAAAABQIAAAAAAAAAAAAACgABAAAAAAAAAAAAJAEABQAAAgAAAAAAAAAAAAAAAAAAAAAAABoAAAAAABAAAAAAAAAAGgIGAAAIAAAAAAAAAAAAAAAHAAAAAAAEAAAAAAAAAAAAACsAAAAAAAAaAAAAAAMCAAAAAAAAAAAAAAAAAAAAAAAAAAAAAAAAAAADAAAAAQADABoAACIAAAABAAEAAAAAAAAAAAAAAAAAAAAAAAAAAAAAAAAAAAAAAAAAAAADAAAAAAAAAQAAAAAAAAAAAAAAAAAAAAAAAAcDAAAABgAMAAAAAgAAAAIDJQAAAAAAAAAAAAADAAAAAAAAAAAAAAQAAAAAAAAAAAAAJAAAAAAAAAcAAAAAAAMAAAAAACQkAAAAAAENAAIAAgAAAAAAAAAAAAIAAAAAAAAAAAIAAAAAAAAAAAAAAAAAAwAAAAEAAAAfAAAAAAAAAAAAAAAAAwUkBQMAAAAAAAAAAAAAAAAAAAAAAAAAAAABAAAABQAAAAAAAAAAAAAAAAAAAAAAAAAAAAAAAAAAAAAAAAAAAAAAAAAAAAAAAAAAAAAAAgUAAAAAAAAAAAAdABoiAAAAAAAAAAAAAAAAAgAABAAABQJIAAEAAAAAAQgAACQiAAAAAAAAAAAAAAAAAAAAJAAAAAAAAAAAAAADAAAAAAEAAAIAAAIiAAAAAgAAAQUAAAASAAACDQAAAAAAAAAAAAAAAAAAAAAAAAAFAAAAAAAAAAAAAAAAAAAAAAAAAAAAAAAABQIAAAAkAAAAAAADAAEkAAIAAAAAAAIAAAIAAAAAAAAAAAUAAAAAAAAAAAAAAAAAAAAAAAAAAAAAAAAAAAAAAAAAAAAAAAAABQAAAAAAAAADAAAAAAAAAAAAAAAAAAAAAAAAAgAFAAAAAAAAAAAAAAAAAAAAAAAAAQAAAAAAAAUAAAAAAAAAAA0AAAAaAAAAAAAAAAAAAAAAAAAAJAAAAAAAAAAAAAAAAAAAAAAABwANAAAAAAAAAAAHAAAAAAAABwAAAAAAAAUAAAAAAAABAAAAAAADAAAAAAAHAA0CACMAAAAAAAAAAAAAAAAABQAAAAAAAAAAAAAAAgAAAAAAAAAHBwAAAAAAAAAAAAAAAAAAAAAAAAAAAAAAAAAAAwAAAAANAAAAAAAAAAAAAAAAAAAAAAAAAAAlAAAAAAAAAAAAGgAHBwAAAAAAAAAAAAEAIgAAAAAAAAIAAAAAAgAAAAAAAAAAAAAAAAAAAAAAAAAAAAAAAAAAAAAcAAAAAAAAAAAABwAAAwAAACQAAAAAAAAAAAAkAQAAAAAAAAAAAAAAAAAAAAACAAAFAAAAAAAAAwAAAQAAAAAFAAAADQAAAAAAAAAAAAAAAAAAAAAAAAAAAAAAJAICAgUABQAAAAAAAAAAAAAAAAMACgAFAAACAAAAAAAAAAAAAAAAAAAAAAAAACQAAAAEACQCAAAAAAAAAAADAAAAAAACAAAAAAcAAgAAAAAAAAAAAwAAAAAAAAAAAAAAAAAAKgAABQAAACQFAAAAAAIAAAAAAAAAAAAAAAAAAAACAAYHAAAAAgAAAAAAAAAABiQAAAUAAAAAAAYAAAAAAAAAACQBAAAAAAAAAAMFAAAAAAAAAAAAAAAAAAAAAAAAAAAACgMAAAAAAAAAAAACAAAAAAAAAAAAAAAkAAAAAAAAAAAAAAAAAAAAAAAAAAwAAAACAAAAAAEAAAAAIgAAAAAAAAMAAAAEAAMAAAAAAAAAAAAAAAAAAAUAAAANAAAABwAAAAAAAQAAAAAAAAAAAwAABQAAAAAAAAAAAwAAAAAAAAAAAAwAAAAAAAAADQAAAAAAAAAAAAcAIgAAAAAAAAAAAAAAAAAAAAAAAAAkAAAAAAMAAAAADQAAAAAAAAgtAAAAAAAAAAAAAAAAAQAAAAAHAAAAAAIAAAAAAQAAAAAAAAAABwAkAgAAAAAAAAAAJAAAAwAAAAUAAAAABAAAAAAAAAAAAAAAAQEAAAAAAAAAAAAAAAACAAAAACQAAQAABAAFAAADAAAAJAMAAAAAAAABAAAAAAAAAAEAAAAAAAAAAAAAAAAAAAAAAAAAAAAAAAAAAAANAAAAAAAAAAANAAAAAAAFAAAAAAAAAAIAAAAAAAAAAAAAAAAAAAAAAAAAAAAAAAAAAAAAAAAAAAQCAAEAAAAAAAAAAAAAAAAAAAAAAAANAAAAAAAAAAAAAAAAAAAAAAAAAAAAAAAAGgAAAAIAAAAAAAAAAAAAAAAAAAAAAAAFJgIAAQAAAAAAABIAAAAAAAAAAAoAAAAAAAAABwAAAAAAAAAAAAAABwAAAAEJAAAAAAAAAAAAAgAkAAAAAAAAAAAAAAAAAAAAAAADBwAAAAAAAAAAAAAAABQABwACBwAAAAAHAAAAAAIAAAAAAAAAAAAAAAAAAAAAAAAABwAAAAAAAAAAAAAAJAAAAgAAAAAAAAAAAAAAAAAAAAAAAAAAAAUAAAAABQAAAAAAAAAAAAAAAAAAAAAAAhAAAAcAAAAAAAABAAQAAwAAAAAAAQAAAAAHAAAAAAAAAAAAAAcAAAAAAAAAAAAAAAAAAAAAAAAAAAAAAAAAAAAAAAAAAAAAAAAAAAAAACQAAgAAAAAAAAAAAAAAAAEAAAUAABAAAAAAAAAAGgAAAAAAAAAHAQAAAAAFAgAAAAAAAAAAGgAAAAAAAwAAAAEAAAAEAwADAQAAAAAAAAAAAAAkAAAAAAAAAAAAAAAAAAAABQAAAAAAAAAAAAAAAAAAAAAIAAAAAAAAAAAAAAAADQIAJAAHAAACAAAAAAAAAAAAAAAAAAAGAAAAAAAAAAAAAgAAAAAAAAAAAAAFAgAABwcHAAAAAAcAAAUFAAAEAAAAAAEDAAAAAAAAAAAAAAAAAAEAAAAAAAADAAIkAAAAAAAAAAAAAAAAAAAAAQoAAAAAAAAAAAMAAAAAAAAiDQADAAAAAAEiAAAAAAAAAAAAAgAAAAAAAAAAAAAAAAAAAAAAJAAAAAAAAAAAAAAAAAAAAAAAAAAAAgAAAAAAAAAAAAAABwEAAAAAAAAAAAAAAAAAAAAAAAAAAAAAAAACAAAABwAAAAAAAAAABwIAAAADAAAAABoUAAAAAAAAAAAAAAAAAAAAAAAAAAAAAAAAACQAAAAFAgIAAAAAAAAAAAAAAAAAAAAAAAAAAAAAAAAAAAAAAAAAAAECAAAAAAAAAAADBQAAAAIAAgAOAQAAAAAAAAAAAAAACgAAAAAAAAAAAAAAAAAAAAAAAAcFAAcAAAUAAgAAAAAAAAABAAAAAAACAAAAAAIAAAAAAAAAGgAAAAAAAAAAAAIAAAAaJAUAAAAAAAAAAAAAAAAAAAAAAAAAAAAAAAAAAAAAAAAAAAAAAAAAAAAAAAAFAAAAAAcAAAAAAAEABAAAAAAAAAAABQEAAAACAgAFAAUAAAEAAAACAAAAAAANAQAGAAAAAAcAAAMAAAAAAAAABwAAAQAAAAAAAAcABxoAGgAiAAAABQAAAAAAAAAAAAAABQAAAAAAAAAAAgADBgUCAAAAAAABAAAAAAAAAAAAAAAAAAAAAAACAAAAAAAAAAAAAgEAAgIAAAABAAAAAAAAAAAAAAAAAAcAAAAAAAAAAAAAAAICAAAAAAAAGgAAAAAAAAAAAAAAAAIAAAAABwADBwcAAgABBwACAAJHAAAAAAAAAAADAgAAAAEAAAANAwAAAAMAAAACAAAAAAAAAAAAAAAAAAAAAAAEAAAAAAAAAAAAAAAAAAAAAAIAAAIAAAAAAAACABoAAAIAAAAAAAAAAAAAAAACAAAABQUAABoAAgAAAAAABwAAAAAAJAAMAAADAAAIAAAAAAIABwAAAAAAAAAAAAAAAAAAAAAAAQAAAAAAAAAAAgAEAAUCAAAAJgUAAAAAGgABAAADAAAAAAMAAAAAAAAAAAAAAAAmAAAABwAAAAAAAAAAAAAAAAACBQAAAAMFBQACAAAAAAAAAQAAAAAAABAAAAAAAAAAAAAAAAAAAAAAAAcAAAAAAAAAAAAAAAAaAgcAAAAAAAAHAAAAAAcAAAAFAAAADAAAChQAAAAAAgcAAwAAAAAAAAAAAAAAAwAAAAAAAAAAAAAAAAICAAAAAhoAAAACBQAAAAAAAAAFAAAAAAAAAAAAAAAAAAAAAAAAAAIEAAAAAAAAAgAAAAAFAAAAAAAAAAAAAAAAAAAEAAAAAAIAAAAWAAAABQAAAAAAAAAAAAACAAAAAAAaAAAAAAAAAAAAAAAAAAADAAAAAAABAAANAAcAAB0AAAAAAQAAAgMAAgAkAgUAAAAAAAAABwAAAAAAAAAAAAAAAAACAwEABwAAAAIAAAAAACQAAAAAAAAAAAAAAAAAAAACAAAAJAUAAAAAAAAAAAAAAAAAAAAAAAAAAAIAAAAAAAAAAAUAAAAAAAAAAAAAAAAAAAAAAAAAAAAAAAcFAAAAAQAAAAAAAAAAAAAAAAAAAAAAAAAAAgAAAAACAAAAACIAAAAAAAgkAAAAAAAAAAAAAAAAAAAAAAAAAAAAAAAAAAAAAAAAAAAkABsAAAcAACQAAAAAAwAAAAAAAAAAAAAAAAcABgAAAAcAAAAAAAAJAAAAAAAAAAAAAAAAAAAAByQAAAAAAAAAAAAAAAAAAAAAByIAAwAAAAAaAAAGAAAAAAAAAAAAAAAAAAAAAAAAAAAAAAUAAAgiAAAAAAImJAAFAAAAAAAAAQAAAAAlAAAAAAAAAgEAAAAAAAAABQAiAAAAACQAAAAAAAAAJAAAAAAAAAAAAAAAAAAAAAwEAAAAAAAAAAAAAAAAAAAAAAAAAAAAAAAAAAAAAAAAAAAAAAAAAA0AAAAAAAAAAAAAAAAHAAAAAwADAgIAAAAAAAAAAAciAAAAAAAAAAcAAAcAAgAAAA0FAAAAAAAAJAAAAAENDwAAAAAAAAAAAAAAAAAAAwAACgAAAAAAAAAAAAAAAAMAAAAAAAIABwAiAAIAAAAAAAAAAAMBAAAAAAMAAAAAAAAAAAABBQAAAwAAAAAAAAAAAgAAAAACAAAAAQANAAAABQAAAAAAAAAHBQAHAAAAAwAAAAAAAAAAACUAAAUAAAAAACkAAAAFAAAAAAADDQIDAAAAByQAABoAAAAADQcAAAMAAAAAAAAAAAAAAAAAAAAAAAAAAQAAAAAAAAAAAAAAAAAAAAACAQAAAAAAAAACAgAAAAAAGgAAAAAHAAAAAgAAAgABAAABAAAAAAAABwAHAAAAAAAAAAAAAAAAAAAAACIAAAAAAAAAAAAAAAAAAAAAAAAAAAAAAAAAAAAAAAAAAAAAAAAAAAAFAAABAAAAAAAAAAAAAAACAAAABSQAAAAAAAAlAAAAAAAAAAAAAwAiAAAAAAAAAAAAAAAAAAcABQAAAAAAAAAAAAAAAAAAAAAAAAAaAAAAAAAAAAAAAAYAAAcAAAANAAAGAAIAAAAEAAABAAACAAAAAAAAAAIAAAAAAAABAAAAAAAAAAAABwAAAAAAAAAAAAAAAAAAAAABJQAAAAAAACQAAAAAAAAAAAAAAAAAAAAAAAAAIgMAAAAAAAAAAAAAAAAAGgAAAAIAAAAAAAAAAAAAAAAAAAAAAAAAIgAAAAAAAAAAAAACAAAAAgAAAAAAAAAAAAAkDgAAAAAAAAAAAAAAAAACAAAAAAAAAAAAAAAAAAAAAAQAACQAAAAkAAAAAAAAAAAaAAEAAAcAAAAAAAAAAAAAAAAHAAAiAAAAAwAAAAAAAAAAAAAAAAAAAAAAAAAAJAAAAAgAAAAAAAAAAAIAAAACAAIiAAIiAAAAAAAAAAAAAAAAAAAAAAAAAAACAAACBAAAAAAAAAAAAAAAAAAAJAAAAQAABwAAAAAAAAAAGgMAAAAAAAAAAAAAAAAAAAAAAAIkHwAAAQAAAAAAAAAAAgAAAAAAAQAAAAAAAAAAAAAAAAAAAAAFAAAAAAAAAgUABgAACQAAAAAAAAAAAAAAAQAAAAAAAAQAAAAABQAAAAAAAAAAAAAAAAAAAAABAQABAAAAAAAAAQAAAAEAAgAAAAAAAAAAAAAAAAAAAAIAAAIAAAAAAAABAAAAAAcAAA0AAAAAAAAAAAAABQAAAAAAAAAAAAEAAAAAAAAAAAACAAIAAAAkAAAAAAAAAAAAAAAAAAAAAAAAAAAAAAEIAAAHJAAAAAAAAAAAAwAAAgAAAAAaAAAAAgAAAAEAAAAaAAAHAgAAAAAAAAEAAAAAAAAAAAAAAAAAAAAAGiQAAAAAAAAAAAIAAAoAAQAAAAAABQAAAAAAAAEAAAAAGgAHAAAAAAAAAAAAAAAAAAAAAAAAAA0AAAAAAAAAAAAAAAACAAAAAAAAAAAAAAIAAAAAAgAAAAAAABoAAAAAAAAAAAAAAAAAAQAkAAAAAgAAGgAAAAMAAgAAAAAAAAAAAAAAAAENAAAAAAAAAAAAAAAEAAUDAAAAAAAAAAAAAAAABQAAAAAACQAmAAAiAAEAAAUCAA0AAAACAAAAAAAAAAAAAAAAAwAAAAAAAAAkAAAAAAAABwUAAAABAAAAAAAAAQAAAgAAAAAAAAAAAAAAAAAAAAAAAAAAAAIAAAcAAAAAAAAAAAAAJAAkAAAAAgAABQAAAAAAAAAAAAAAAAAAAAAAAAAAAAAAAAAAAAAAHwACAAEAAAcAAAAAAAAAAAAAAAAAAAAAAAAHAAUAAAACAAAAAQAAAAQAABoOACQGAAAAAAAAAAAAAAAkAAAAAAAAAAAABgcAAAAFBAAAIgAAAA0AAAAAAAAAAAAAAAAAAAAAAQAAAAAkAgACAAACAAAAAAAAAAIAAAIAAAAAAAAAAwcAAAADAwAAAAAAAAADAAEAAAAAAAABAAAABQAFAAAAAAMAAAADAAAABwAAAAAAAAAHAAEAAAAAAAAAAAAAAAAAAAAAAAAAAAAAAAADDQAiAAAAAAAAAAAAABoAAAAAAAAFAAAAAAAAAAEAAAAAAAAAAAAAAAABAAAAAAAAAAABAAEAAAAAAAAAAAIAAAAAGwAABwAAIgAAAAAAAAAADQAAAAAAAAAAAAAABwAAAAAAAAAAAAAAAAUAAAAAAAAAAAAAAAAkAgAAAAAAAAAAAAAAAAAABQIAAAAAAAAAAAAAAAAHDQAAAAAAAAAAAAABDQADBwAAAAAAAQAAAQEDAAAAAAAAAAgaAAAABQwAABsDBgAAAAAAAAAAAAAAAAAAAAAAAAAAAAIaAAUAAQACAAACAAAAAAAAAgUAJAAAAAAAAAAAAgAAAAAiAAABAAAABQADJAAAAgAAAQAbAAAAAAAAAgAAAAAAAgIAAAAAAgAAAAAAAAACAAAAAAAAAAAAAAAAAAAAAAAAJAAAAQAAAAAAAAIAAAAAAAAAAAAAAAAAAAAAAAAACAAAABoABwAAAQUAAAAAAAIAAAAAAAAAJAMAAAAAAAEAAAAAAAAAAAAAAAAAAAAACgAAAAAAAAAAAAAAAAAAAAAAAAAFBwAAAAAAAAAAAAAAAAANAAAAAwAAAAAAAAAAAgAAAAAAAAAAAAAiJAAAAAcAAAAAAAAAAAUAAQAHAAAFGgABAAAAAgAAAAAFAQIAAAAAAAAAAgIAAAAAAAACDQIAAAIAAAAAAAAAAAAAAAAAAgAAACQAAAAAAAAAAAAAAAAABQAAAAAAAAAAAAABAAAAAAAHAAAAAAADAAAAAAAAAA0DAAAAAAAAAAAHAAAAAAAAAAAFAAAAAAAAAAAAAAACAAAAAAAHAQAAAAAAAAAAAAAAAAAAAAAABQAAAAAAAQAAAwAAAAAAAAAAAgAHAwcAAAACAAAIAAcAAAAAAAAAABoAAAAAAAAAAAAAAAwAAAAAAAAAJAAAAAAAAAAAAAAAAAMLAAAAAAAAKQANBwAAACYAAAAAAAAAAAAAAAAAAAAAAAAAAAAAAAcAAAUAAAAAAAAAAAABAAAAAAABAAAAAAAAAAAAAAAAAAAAAhoDAgAAAAACAQAAAAAAAAAAAQUAAAcAAAAAAAABAAAAAAAAAAAPAAcAAQACAAAAEAUABwAFAAAKIgAAAgAAAAAAAAAAAAAAAAAAJAAAAAAAAgAAAAAAAAUAAAAAAAAAAAAAAAECAAAAAgAAAAAAAAAAAgAAAAAAAAAAAAAAAAAAAAAiDAABAAAAAAAAACQAAAMAAgAFAAAAAAICAgAABQAAAAAAAAAAAAAAAAAAAAAAAAAAAAAAAAAABQEAAAEGAAIAAAUAAAAAAAAAAAAjAAAAAgAAAAAAAAAAAAAAAAAAAAAAAwAAAAAAAAAAAAAAAAACAAAAAAAAAAAAAAcAAAABAg0AAAIAAAAAAgAAAAAAAAAAAAoAAAAAAAAAAAAAAAIAAAAAAAADAAAAAAAAAAAABxIAAAMAAAAAAAAAAAAAAAAAAAAAAAcBAAAAAAAAAAAAAAAAAAAAAAAAAAAAAAAABwAAAAEAAAAAAAAAAAAAAAAAAAAAAAAAIgAAAAAAAAAAAAAFAAcAAAABBwAAAAAABwAAAAEAAAAHAAAAACQAAAAAAAAAAAAAAAAAAAAAAAAAAAAAAAAAGgIAAgACAAAAAAAAAAAAAAAAAAMAAAAAAAAAAAAaAAAAAAIAAAAAAAAAAAAABwAHAAAAAgAAAAAADQEAAAAABQAAAAAAAAAAAAAABQAAAAAAAgAAAAAAABoAAAAAAAAAAAAAAwAADQgAAAcAAAAAAAAAAAMAAAAAAAUAAAAAAQAFAAAAAAAAAAAACAAAAAAAAAAAAgAAAAAAAAAAAAAAAAAAAAAAAAAAAAAAAAAAAAIAAAAGAAADBwAAJAAAAAcAABoCAAgAAAAAAAAAAAAAACIAAAAAAAAAAgACAgAAAAAAACICAAAAAAAAAAAAAAAAAAAAAAAAAB8AAAAAAAAAAAECAAAAACQAAAUAAAAAAAACAAAAAAAAAAATAAAHAwAAAAAAAAAAAAAAAAAAAAAAAAUkAgAABAAADQAAAAAAAAAAAAAAAAAHAAAAAAAAAAAAAAAAAAAFAAAAAAAAAAAAAAAAAAIAAAMBAAAAAAAAAAAAAAAAAAAAAAACAAAAAAAAAAAAAAAABQAAAAAAAAAFBwAAAAAAAAAAAAAAAAAAAAAAAAAAAAEAAAAAAAAAAAAAAAAAAAAAAAAAAAAAIgAHAAAAAAAAAAAAAAAAAAQDBAAAAAAAAQAAAwAAAAUAEAIAAAAAAAAAAQwAAAAABQAAAAAAAAAAAAAAAwABAAAAAAAAAAAAAAAAAAAADQAAAAAAAAAAJAAAAAAAAAACAAAAAAAAAgAAAwABAAAAAAcAAAAAAAAAAAAAAAAAAgUAAAAAAAAAJAAAAAAAAAAAAAAAAAAAAAAIAAEAABACAAAAAAAAAAAAACQCAAADAAAAAAAAABoAAAAAAAAAAAAAAAAAAAMAAAAAAAMAAAMOAAAAAAAAAAAAAAIHAAAAAAAAAAAAAAAAAAMAIgADJAIAAAACAAADAAAAAAAAAAIAAgADAAAAAAAAAAACAAAAACQAAAAABwADAAAAAAAAAAUAAAAAIgAAAAcCDQAAAAAAAAAAAAAAAAAHAAAAAAAAAAAAAAAAAAAGAAQAAAAABQAAAgAAAAAaAAEAAAAAAAAAAAAAAAAAAAAFAAAAAAAAAAAAAAMAAAAAAAAAAAAAAAAAAAAAAAAAAwAFAAAAAAAAAAAAAAAAAQAAAAAAAAAQAAAAJAAAAAAAAAAAAAAAAAAAAAAABgoABwAABQAAAAAAAAAAAAALAAAAAAAAAAAAAAAAAAAAAAAAAAAAAAAAAAAAAAAAAAAABgAAAAAAAAAAAAAAAAAAAQAAAgAABQAAAwAAACQFAAIAAAAAACQAAAACAAAAAAAAAAAAAAAAAAAAAwAAAAAAAAAAAAAAAAAAJAAAAAAAAAAAAAAAAAAAAAAAAAABAAAAAAAAAAAAAAAAAAEAAAAAAAcAAAAAAAAAAAAAAAAAAAAFAAAAAgAABwAAAAAAAAAAAAAAAAAAAAAAAAAHACIAAAAAAAAHAAAAAAAAAAAAAAAAACQFAAAkAAUCAAAAAAAAAAAAAAAAAAAAAAAAAAAAAAAAAAAAAgAAAAACAAIAAAAAAwAAEAAaAAAAAAAAAQAAAAABAAAAAAAAAAAAAAABAAAAAAAAAAAABwAAAAAAAAAABwAAAAAAACIAAA0AAAIABAAAAAANAAAAAAAAAAAAAAUDAAAAAAAAAAAAAAAAAAAAAAAAAAADAAEAAAAAAAAAAAABDQAAAAAMAAIAAAAAAAAAAAAAAAAAAgAAAAAAGgAAAAAAAAAAAAAAAAAABwAAAAAHAAAAAAAAAAAAAAAAAAAAAAAAAAAAAAIAAAACAAQAAQAAAAAAAAAMAAAAAAAAAAAAAAAAAAMAAAcMAAACAAAAAAcHAAAAAAAABwAAAAAAAAAAAAAAAAAABwMFAAAAGgAAAAAAAAAAAAAAAAAkAAAAAAAAAAAHAAAAAgAAAAAAAAAAAAAAAgADBwAAAAAAAAAAAAAAAAAADQAAAwAAAAMAAQAAAAAAAAAAAAAAAAAAAgAAAgIAAAACCgIAAAAABQAAAAAAAAAAAAAAAAAAAAMAByUAAAAAAAAAAAIAAAAAAAAAAAAAAQQAAAAaAAAAAAAAAAAHAAAAAAAAAAAAAAAAAAAAAAAAAAAAAAAAAAAkAAAAAAAAAAAAAAAAAAAAACQAAAEAKgAAAAAAAAAAAAAAAAAAAAAAAAAAAA0AAAAAAAAAAAAAAAAAAAAAAAAAAAAAAAAAAAUDAAAFAAAAAAAAAAAEAAAAAAAHAAAAAAACAAAAAAAAAAAABwAAAAAAAAAAAAIAAAAAAAAAAAEAAAAAJAAAAAAAAAAAAAABAAgAAAAHAAINAAAAAAAAAAAHBQAAAAAAACIAAAAMACQAAAAAAAAAAAAAAAAAAAAAAAADBQAAAAcAAAABAAAAAAAAAAAAAAUAAAAABwAAAAEAAAACAAAAAgAAAAAAAAAAAAAAAAIAAAAAAAIHAAAGAAAFAAAABQAAAAUAAAICAAAAAAAAAAAAAgAAAAAAAAAAAAAAAAAAAAAAAAAjAAANAAAACAAAAAABAAAAAAAAAAAAAAAAAwAAAwAAAAAAAAAAAAAAAAAAAAAAAAAAAAAAAAMAAAAAAAAAAAAAAAAAAQAAAAAAARoAAAAAAAAAAAAFAAAAAAAAAAAAAAAAAAAAAAAAAAAAAAAAAAAAAwMAAAAADQAAAAAkAAQaAAAAAAcAAAAAAAAAAAAAAAAAAAAAAAAAAAAAAwAABwAAAAcAAAAAAAAAAAACAAAAAAAABAAAAAAAAAAAAgApAAAAAAAAAAAAAAAHAAAAAAAAAAAAIgAAEAAAAAAAAAAAAAAAAAAaAAAiAAADAAABAAAFAAAAAAAAAAAAAAAaAAAAAAACAAAAAAAAAAAAAAAAAAANAAAJAAAAAAAAAAAAAAAABwAAAAAAACQAAAAAAAAAAAAFBwAAAAAAAAACAAAaAAAAAAAAAQAAAAAAAAAAAAABAAAAAAAHAQAAAAAAAAAAAAckAAIAAAAAAAAAAgAAAAAAAAABAAAACAAAAAAEAgACAAAABwAkAAIFAAAAAAAAAAAAAAEAAgAAAAAAAAAAAAAAAAAAAAAAAAAAJAAACgAAAAAAAAAAAAAAAAAAAAAAAAAAAAAAAAAAAAAAAAEAAAAAAAIAAAAAAAAAAAAAAAAAAgAAAQAAJQICAAAAJAAAAQMAAAAFAAADGgAAAAAAAAAAAAANAAADAAAAAAAAAAAAAAEAAAACAAAABwAAAAAaAAAAAAAAAAAAIgAAAAEAAAACAAABAAAAAAAAAAAAAAAAAAAABwQAAAAABwAAAA0AAAAAAAAAAAAAAAAAAAAAAAAAAQAAAAAAAwACBAAkAAABAAAAAAAAAAAAAAAAAAAAAAEAAAAAAAABAAYAAAAAAQANAAAkAAMHAAMAAAAAAAAAAwsAAAAAAAAAAAADAAAAAAAAAAMAAAAAAAAlAAAAAAAAAAACAAAAAAAAAAAAAAIAAAAAAAAAAAAAAAAAAAAAAAAAAAAAAAAAAAAAAAAAAAAAAAAAAAADAAAAAAAAAAABAAcAAAAHHwUABAAAAAAFJAAAAAsADgACAAACAgAHAAAAAwACAAAHAAoAAAAAAAAFAgAAAAAAAAAaDwAGJAAAAAEAAQAFAAAAAAAAAAAAAAAAAAAAAgAABwAAAAAAAAAAAAAAAAACAAcAAAAAAAAAAAAAAAAAAAAAAAAABQAAAAABAAAAAAAABQEAAAAAAAAAAAAAIgAAAAAEAAAAAAAAAAAAAAACAAACAAAAAAAAAAAAAAAAAAAAAAAAAAAAAAAAAAAAAAAAAAABAAAFBAAAAAAAAAAAAgAAACQAAAAAAAAJAAABAAcAAgAAJAAAAAIAAAAkAAEAGgAAAAAAAAAAAAUDACUDAAAAAAAAAAAaBwIAAAAAAAAAAAAMDwAAAAAAAAAAAAAAAAACAAAAAAAAAAACAAAAAAAAAAAHAAAAAAAAAAAAJAAAAwABAAAAAAMAAAAAAQAAAAAAAAAAAAAAAAAAAQADAAAAAAAAAAAAAAAAAAAAAAAAAAAAAAADAAcAAAABAAAAAAAAAAAAAAACAAABAAAAAAAAAwAAAAAAGgAAAA0iAAAAAAAAAAAAAAAAAAAAAAAAAAAACgAAAA0BAAAAAAAAAAAAAAAAAAAABwAAAAAAAAANAgAAAAUAAAAAAAAAAAAAAAAAAAAAAAAAAAUAAAAAAAAAAwIAAEcAAAAAAAAAIgAAAAAAAAAAAAAAAAAAAAAAAAEAAAAAAAAAAAAAAAAAAAAAAAAAAAAAAAAAAAAAAAAAAAAAAAAAAAAAAAAAAAAAAAAAAAIAAAIFAAAAABoAAAAAAAAAAAAOAAAAAAAAAAAAAAAAAAAAAAAAAAAABQAABgAAAAAABQAAAAcNAAUAAAAAAAAAAAAAAAAAAQIAAAAAAAAAACQAAAAkAAAAAwAAAAAAAAAAAAAAAAAAAAAAGgAMAAAAAAAADAAAAAAAAAAAAAAAAAAAAAAAAAAAAAAAAAAAAAAAAAAAAAAAAAAAGgAAAAcADQAAIgANAAAAAAIFAAAAAAAAAAAAAAABAAAABQAAAAAAAAAAAAAEAAACAQAAAAAAAAAAAwEABwAAAAAAAAAAAAAAAAAAAAAAAAAAAAAAAAAAAAEaAAAAAAAAAAAAAAAAAAAAAAAAAgAAAwABAAAAAAAAAAAAAAIAAAMGAAAAByQAAAAAAAAAAAAAAAAAAAAAAAAAAAAADAAAAAAAAAAAAAIAAAAAAAAHAQAAAAAAAAANAAAABwAAAAAAByIAAAAAAAAAAAAAAAcAAAAAAAAAAAAAJAAAAAUAAAAAAAAABwAAAAAHAAAAAAAAAAAAAAAAAAAAAA0AAgAAAAAAAAAAAAAAAAAAAAAAAAAAAAABAAAAAAAAAAAAAAIHAAAAAAAAAAAABQAAAAAABAAABwgAAAIAAAAAAAAAAAAAAAAAAAMAAAAABAAAAAAAAAAAAAIAAAAAAAAAAAAAAAAiAAAAAQAAAAAAAAAAAQAAAwEAAAAAAAAABwAAAAAAAQAAAAAAAAAAAAAAAAAAAAAAAAAAAAAAAAAAAAAAAAAAAAEAAgAAAAAAAwAAAAAAAAAAAAAAAAAAAAAAAAAABgAAIgAAAAAAAAAAAAADAAAAAgAAAAAAACQAAAAAAAAAAAAAAAAFAAIFAAAAAAAAAAAAAAAABQEABQIAAAAAAAAAAAAAARoAAgIAAAAAAAAAAAAAAAAAAAAAAQAAGgcAAAAAAAAAACQAAAAAAAAAAAAADQAAAAAAAAAAAAAiAAAAAAAAAAAAAAAAAAAAAAAAAAAAAAAAAAAAAAAAAAAAAAAAAAAAAAAAAAAAACIHAA4ABwICAAAHAAAABwAAAAAAAAAAAAAaAAAAAAAAAAAAAgAAAQAAAAAAAAAQAAAABQAAAAAAAAAAACQMAAAAAAAAABoAAAAAAAAAAAAAAAAAAAAAAAAAAAAAAAAAAAAkAAUAAAAAAAAAAAAAAAAAAAAAAgAAAgAAAAAAAAAACAEAAAAAAAAaAA0BAAAAAAAAAAAAAAAAAAAAAAAAAAAAAAAAAAAAAAAAAAAAAAAAAA8HAAAAAAAkAAAAAAAAAAAADAAAAAAAAAACAAAHAAMAAAAAAAAAAAIAAAAAAAAAAAACBQAAAAAAAAAAAAAAAAAAAAIAAAcAAAAAAAAAAAACAQAAAAAABwAAAAAAAAAAAAAAAAAAAAcBAAAGAAAAAQAAAAAkAAAAAAAAAAAAAAAAAAAAAAUAAAECJAIABwAAAAAAAAAAAAAAAAAAAgAAAB8AABIAAAAAAQAAAAAFAAAAGgAkAAAAAAgAAAAAAAAAAAAAAAAAAAAAAA0AAgAAAAAAAAAAGgAAAAAAAAAAAAAAAAACAAAABQAAAAAAAAAAAAAAAAAAAAAAAAAAAAABAAAAAAAAAAAMDQAAAAAAGwAiAAoAAwAFAAIAAAAABQAAAAAAAAAkAAAAAAAAAAAAAAAAAQMAAgAAAAAAAAABAAAAAAAAAQAAAAAAAAAAAAIaAAAAJAIAAA0JAAAAAgAAAAAAAAAHAAACAAAAAAAAAAAAAAAAAAAABQINAAANAAAAAAAABwAAAAAAAAAAAAADAAABBwACAAIAAAAAAAAAAAEAAAADAAAAAAAAAAAAAAIAAAAAAAUADgAAAAIDAAUiJAAAAAUCAgAFAAAAAAIABwAAAAAAAAIAAAAAAgAAAAAAAAAAAAAAAAICAAAAAAAAAAAAAAAAAAAAAAACAAACAAAAAAAAAAMAAAAAAAAAAAAAAAAAAgAAAQAAAAMAAAAFAAACAAACAAAAAAAAAAAACgAAAgAAAAEAAAAAAQAAAAAAAAAAAAAABwAFAAAABQAABwAAAAAAAQBHAAAAAAABAgAAAAAAAAAAAAAAAAAAAAAAAAAAAAgAAAAAAAABAAAAAAAAAAAAACICACQAAAAAAAAAAAAAAAUkAAAAAwAABwAAAwAAJAAAGgAAAAAAAAAAAwAAAAAAAAAAAAAAAAAAAgAABwAAAAAAAAAAAAAAAAAAIgMAAAAAAAAAAAAAAAACAAAAAAAAAAAAAAEAAAAkAAAAAAAAJAAAAAAAAA0AAAEAAAAAAAAAAAAAAAAAAAAAAAAAAAAAAAAAAAAAAAAAAAAAAAAAAAAAAAADAAAFAAAAAAAAAAAkAAAAAAAAAAAkAAAFAAAAAAAAAAAAABoAAAAAAAAAAAAAAAAAAAAAAAAAAAAAAAAAAAAAAAAAAAAAAAAAAA0AAAAAAAAAAAAAAAYAAQIAACQiAgAFAAAAAAACAAANAAIABwcAAgAAAAAADQABABoAAAIDABoAAAAAAAAAAAAAAAAAAAAAAAAAAAAAAAAAAAAiAAAACAAAAAAAAAYAAAAAAAACAAABAAAAAAAAAAAAAAAAAgAAAAAAAAACAAAAAAAAAAAAAAAAAAAAAAAAAAAAAAADACQABQAAAAAAAAAAAAAAAAICAAAAAgAAAAAHAAAkAAAAAAAHAAAAAAAAAAAAAAAAAAAAAAAAAAAAAAAAABoAAAAAAAAAAAAAAAAAAgAACAAAAAAAAAACAAAABAAAAAcCAAQAABoAAAIAAAAAAAAAAAAABQAAAAAFAAEiAAAAAAAAAAAABwcAAAAAAAAEAAAAAAEABwAAAAAAAAAAAAAAAAAAAAAAAAAAAAAAAAAAAAAAAAAAAAcAAAAAAAAAAAAAAAAFAAAAAAAAAAcHAAAAAAAAAAAAAgAAAAACBQAJAAAAAAAAAAAAAAACAAAAJAAAAwAAAAAAACQAAAAQAAAAAAAAAAAAAAAAAAAAAAAAAAAAAAUAAgAAAAAAAAAAAAMAAAAAAAADAAAAAAAAAAAAAAAAAAAAAAAAAAAAAAAFAAAAAAAAAAAAAA0AAAwaAAAAAAAAAAACAgAABQAAAAAAAAAADRoAAgABAAAAAAAAAAAAAAAAAAAAAAAAAAAAAgAABQcAAAAAAAAAAAAAAAAABwIAAAAAAAACAAAAAAAAAAAkAAAAAAABEgAAAAEAAAAAAwAAAAoBAAAAAAUaDSQAACQAAAEAAAAAAgUAAAAAAAAAAAAHAAAAAAAAAAAAAAAAAiQFAAAAAAAAAAAAAAAAAAAHAAMAAAAAAAAAAAAAAAIAAgAAAgACBQAAAAAAAAAAAgAAAAAAAAAAAAAaAAAiAAAFAAUCAgAAAAAABQAAAAAAAAAAAAIAAAAAAAADAgACAAAAAAAAAgUCAAAAJAAAAAAHAAAAAAAAAAAAAAAiAAAAAAAAAAAAAAAAAAAAAAAAAAABAAAAAB8AAAAAJAEAAAAAAAAAAAABAgAFGgAAAAAAAAIkAAAAAAAAAAAAAAAAAAAAAAAAAAAAAAAAAAAAAAAAAAAAAAAAAAAAAAAAAAAAAAAAAAAAAAAAAAAAAAAAAAAAAAAAAAAAAAAaAQAAAAAAAAAAAAAkAAAAAAIAAAAAAwAAAAAAAAIAAAAAAAAAAAAAAAAAAAAABSQAAAAAAAAAAAAAAAAAAAAAAAEAAAAABAAAAAUAAAAAAAAAAAAAAAAAAAAkAAAFAAAAAAAAAAAAAAAAAAAAEg0HACQAAAAAAAAAAAAAAAAAGgAAAAAAAAACAAAAAAAAAAAAGgAAAwUAAAAAAAgHAAAAAAAACgAAAAAAAAAAAAAAAA0AAAYAAAAAAAAAAAAABwAAAAAAAAAABQAAAAAAJAAAAAAAAAAHAAAAAAAAAAAAAAAFBQAAAAAAAAAADQAABSQABwAAAAAAAAAAIgABJAAAAAAAAAIAAAIAAAAAAAAAAAAAAAAHAAAAAAAAAAAAAAAAAAIAAAAFAgAAAAABAAMAAAAAAAAAAAAAAQAAAAADJAAAAAcAAAAAAAAAAAAAAAAAAAAAAAAHAAAAAAcAAAAAAAAAAAAAAAAAAAAAAAAAAAAAAAMAAAAAAAAABgAkAAAAAAAAAAAAAAAAAAAAAAAAAAUBAAAAABoAGgAAAAAAAAAAAAAFAAAAAAAAAAABAAAkAAAABgAAAAACAAAAAAAAAAAABwAAAAAAAQAAAAAAAAAAAAMAAAAFAAACAAAAAAAAAA0AAAAAAAIAAAAAAAAAAAIAAAAAAAAAAAAAABsAAAAAAAAAAAUAAAAAAAAAAAAAAAAAJgAAAAAAAAAAAAAAAAAAAAAAAAAAAAABAAEAAAAAAAAAAAAAAAAAAAAAAAAAAgAAAAAAAAAAAAAAAAEAAAECAAAAAAAABBoAAAAAAAAAAgAAAAMNEAAAAAAAAAAAAAAAAAUAAAAAAAAAAAAAAAAAAhoCAAcGAAAAAAAAAAAAAAAABwAABgACBAAAAAIAAAAAAAAAAAAAAAAAAAEAAAAAAAAAAAAAAAYAAAAAAAAAAAAAAAAAAgAAAAAAAAAAAAAAGgAAAAAAAAAAAAAAAQAAAAAAAAICAAAAAgAAAAAAAAAAAAAAAAAAACQkAAAADQAAAAcAAAAAAAAiAAAAAAAAAAAAAAAFAAAABgAAAAAAAAAABAAAAgAAAAAAAAAABwAAAAAAAAAAAAEAAAwAAAAAAAAAAAcAAAUAAAAAAAAAAAAAAAAAAAAAAAAAAAAAAAAAAAAAAAAAAAIAAAAAAAAAJAUAAAAAAAAAAAAAAAAABQAAAAAAAgAAAAAAAAAAAAAAAAAAAAEAAgUAAAAiAAMAAAAAAAAAAEcAAhoAAAAGAAAAAAEAAAAAAQAAAAAGAAAAAAAaAAcAAAAAAAAAAAAAAAAAAAAAAAAAGgAAAAAABQAAACQAAAAAAAAAAAAAACkAAAACAAAABwAAAAAAAAAAAAAAAAAAAAAAAAMAJCUAAAoAAAAAAAAfAAAHAAAAAAAAAAAAAAAAAAMAAA0AAAAAAAAAAAAAAAAAAAEAAAEAAAIAAAAAAAoAAAAAAAAAAAAAAAAKAAAAAhsaAAAAAA0AAAACCQAAAAAAAAAAAAAAAAAAAAEAAAAAAAAAAAAAAAAAAAACAAAAAAAAAAAAAAAFAAAAAAcAAAoAAA0AAAAAAAAAAAAAAAAAAAAAAAAAAAUAAAAAAAAABAwAAAAAAAAAAAAAAAAAAAcAAAECACQAAAAAAAAAAAAAAwAAAAIAAAAAAAAAAAAAAAAAAAACAAAAAAAkBQECAAAAAAAAAAAAAAAAAAAAAAAAAAAAAAAAAAAAAAAAAAAAAAAAKwABAAIGAAAAAAIAAgMiAAAAAAAAAAAAABoAAAAAEAAAAAIAAAAAAAAAAAAAAAAAAAAARwAAAAAAAAAAAAYAAAAAAAAAAAAAAAAAAAAAAAAAAAAAAwIAAAADGgAAAAAAAAAAAQAABQAAAAAAAAAAAAAAAAAAAAAAAAcAAAAAAAAiAwAAAAgAAAEBBQABAAAAAAADAAANAAkAAAICGgAAAAAAAAAAAAUHAAAAAAAAAAAAAAAAAAAAAAAABwAAAAAAAAACAAAAAAAAAAAAAAAAAQAABwAIAAAAAAEaAAAAAAAAAAAAAAAAAAAAJAAAAAAHAAAHAAAAAAAAAAUAAAAAAAAACQAAAAAAAAUAAAAAAAAAAAAAAAEAAAAHAA0AAAAAAQAABQAAAAAAAAAAAAAAAAAAAAAAAAAAACQFAAAAAAAAAAIAAAAAAgAAAAABAAAAAAIAAgABAAUAAAAAAAAAAAAAAAAAAAAAAAAAAAAAAAIHAAIAAAAAGgAAAAEAAAAACQEAAgAAAAAAAAAAAAAAAAAAAAAAAAAAAAAAAAAAABoAAAAAAAAAAAAAAAEAAAACBQAAAAAAAAAAAAEAAAAADQAAAAAAAAAAAAAaAAAAAAAAAAAAAAAAAAAABwAkAwAAAAAAAAAAAAAAAAAABAAAAAAAAAAAAAAAAAAAAAIDAAMAAAAAAAAMAwUAAAACAAAAAAAAAAAAAAAAAAAAAAIAAAAAAAACAAACAAAAACQFAAAABQAAAAAAJAUAAAAQAAABAAAIAQAAAAAAAAAAJAAAAAAAAAAAAAAAAAAAAAAAAAACACQAAAAAAAEAAAEAAAAAAAAAAAAAAAAAAAAAAAUAAAAAAAAAAAEAAAAAAAAAAAAiBAIkAAAGAAEAAAAAAAAAAAAAAAAAAAAAAAAAAAcAAA0BAgIACgAAAAAAAAAEAgAAAAAAAAAAAAAAAAAAAAAAAAAAAAAAAAAAAAAAAAAAAAAAAAAAAAAAAAAAAAAAAAAAAAAAAAAAAAAAAA4AAAAAAAAAAAAAAAAAAAAAAAAAAAAAAAcAAAAAAAAAAAAAAgAAAAAAJAAAAAAAAAAAAAAAAAAAAAAaAAAAAAAAAAAAAAAAAAAAAgAHAAUAAgAAAAAAAAAAAAAFAAAACQAiAAAAAAAAAAAAAQAAAwwAAgAAAAAAAAAAAAAAAAAAAAEAAAACAAAADQAAAAAkJAAAAA0ABgAAAAAAAAAAAAAAAAAAAgAAAAAAAAMAAAcAAAAAAAAAAAAAAwAAAAAAAwcAAAAAAAAABQAAAAAAAAAAAAAAAAIAAAUFAgIAAAAAAAAAAgAAAAAAAAAFAAAAAAAADgANAAAHAAAAAEcAAAAAAAAAACICAAAAAAAAACQAAQAAAAAAAAIAAAADAgAAABoAAAABAAAAAAAAAAAAAAACAAAAAAAAAAAAAAAAAAEAAAAAAAAAAAAAAAAAAAAAAAcAAAAAAAAAAAAAAAAAAAAAAAAAAAAAAAAAAAUAAAAAAAACAgAAAAAIAAAAAAAAAAAFAQUAAAAAAgAAAAAAAAAAAAAAAAAAAgABAwAAAAAAAAAAAAAAAAAAAAAAAAAAAAAAAAAMAAAAAAAAAAAAAAAAAAIAAAAAAAAAAAAAAAEAAAAAAAQFAAAAAAAHAAACAAAAAAAHAAAGDAAAAAAAAgAAAAIAAwAAAAAAAAAAIgIHAAAAAAAAAAAAAAAAAAAAAAAAAAUAAAAAAAAHAAAAAAAAAAAAAAAAAAAAAAAAAAAAAAAAAAAAAAkAGhoAAAAAAAAAAAAAAAAAAwAAACQAAAUAAAAAAAAJAAAAAQAAABoAAQACAAAAAAAAAAAAAAAAAAAAAAAAAAAAAAAAAAAAAAAAAAAAAAAAAAAAAgAAAAACAAAAAAADAAAAAAAAAAAAAAAAAAAAAAAABwcAAAAAAAAAAAAAAQYAAAAAAAEAAAAAAAAAAAAAAAACAgAAAAAAJAAAAAIAAAAABwcAAAAAAAAAAAAAAAAAAAAAAAAaAAACAAAAAAAAAAAAAAAAAAEAAAAAAAAABQAAAAANAAAAAAAAAAAAAAAAAAAAAAUJAwAAAAAAAAAAAAAAAAAABwAAAAAAAAAAAAAAAAAAAgAAAAAkAAAABwAAAAAABwAAAAAAAAQAAAABAAAAAAEAAAIAAgAaAgAAAAAAAAAAAAADAAAAAAAAAwAHAAAAJAADAAAAAAAFAAAAAAAAAAAAAAAAAAAAAAAAAgAAABIAAAAkBwAAAAAAAAAAAAAAAAAAAAAAAAAMDgAAAAAACAAAAAAAAQAAAAIADAcAAAAAAAAAAAIAAAAAAAAAAAcaAAAAAAAAGgAAAAAAAAAAAAAAAAAAAAAAAgIAAAAAAgAAAAEAAAAAAAAABwAAAAAAAAAAAAABAAAAAAAAJAAABwAAAQAAAEgAAAAAAAAAAAAAAAAABwAAAAAAAAAAAAAHAAAAAAAHAAAAAQAAAgAAAAAAAAAAAAAAAAAAAAAABQAAACIDAAAAAAAAAAAkAAUAAAAAAAAAAAAAAAAjAAAAAAAAAAAAAAAAAAAAAAAkAAAAAAAAAAAHAAAAAAAAAAokAAUiACQAAAAAAAAAAAIkAQAAAAAAAAEAAAAAAAAAAAAAAQAAAAAAAAAAAAAAAiQAAAAAAAAAAAAAAAAAAAAAAAEAAAAkAAAAAAADAAAAAAAAAAAAAAAAAAAAAAAFIgAAAAACJAAAAAAFAAAAAAAAAAAAAAAAAAAAAAAAAAAAAAAAAAAAAAANAAACACQAAAAAAAAAAAAAAAAAAAACAQAkAAAAAAAAAAAAAAAADQEAAAAAAAAAAAAAAAAAAQAAAAAAAAUCAAACAAAAAAAAAAAAAAACAgAAAAAAAAAAAAAAAAAABQMFAAAAAAAAAAAAACQAAAAAAAEAAAAAAAAAAQAAAAAAAAAABQAAAAAAAAIDAAAAAAAFAAAAAAAAAAAAACQABwwABQAAAAAAAAUAAAAAAAAAAAAAAAcAAAAAAAAAAAAAAAAAAAAAAAAAAAAAAAAAAAAAAAAAAAAAAAAFAAAAAAAAAAAAAAAAAAAAAAAAAAAABQICAAAAAgAAAAAAAAAiAAAAAQAAAAAGAAAADQAAAAAaBgAAAAAAAAAAAAAAAAAAAAAAAAAAAAACAAAAABAAAAIAAAAAAAAAAAAAAAAAAAAAAAAABwAAAAAAAAAABQAAAAAAAAIAAAAAAAAAJAIAAAAAAAAAAAEAAAAAAAAAAAAAAAAAAAAAAAAAAAAAAAAAAAAAAAADAAAAAAUCAAYAAAIFAAAAAAAAAAIAAAAAAAAAAAABAAAAAgAAAAAAAAACAAAAAAAAAAAAAAAAAAAAJAAABAACAAAiAgIAAAAaGgAAAAIADQAAAAAAAAAAAAAAAgcAAAAHAAAAAAEAAAAAAAAAAAAAAAAAAQAAAAIAAAAAAAEAAAAAAAAAAAADAAAAAAAAAAAAAAAABwAAAAAAAAAAAAAAAAQAAAAaAAAAAAAABQAAAAAAAAAAAAAAAAAAAAAAAAEADQAAAAAAAwEAAAAAAgAAAAAAAAAAAAAAAAAAAAAAAAcCAAAdAAAAAAAAAAAAAAAAAAAAAAAAAAAAAAAAAAwAAAAAAAACAgAAAAAAAAAAAAABAAAAAAUAAAAAJAMHGgAADAAAAAAAAAIAAAANAAAAAAADAAAACgAAAAAKAAAAAgUABQAAAAAAAAAAAAAAAAAAAAACAAAAAAIAAAACAAAAAgAAAAAABgAAAAAaAAAABwAAAAAAAAADAAAAAAAAAAAAAAAAAAAAAAAABwAAAAACAAAAAAAAAAAAAAAAAAAAAAIAAAAAAAAJAAAAAAACAAMAAAAABwAAAAAAAQUCAgACAAAAAAAAAAAAAAABAAAAAAAAAAAiAAAAAgAAAAAAACQAAAAAAAAAAgAAAAAAABoAAAAHGgAAAAAFABoAAAAAAAAAAQAAAAAAAAAAAAAAAgAOAAAAAAAAAAAAAAAAAAAAAAAAAAAAAQEAAAADAAAAAAAAAAAAAAAAAAAAAAAFAAAAAAADAAAFAAACAAAAAAAAAQAAGgIAAAAAAAAAAAAAAAAAAAAAAAAABwAAAAAAAAAAAAAAAAAAACQAAAAAAAAAAAAAAAcAACQAAAAAAAAFAAAAAAAAAAAAAAAAAAAAAAAAAAAAAAAHAAAAAAAFAAMFAAAKAAAAAAAABwUAAA0AAAIAAAAAAAYAAQAAAAAAAwAAAAAAAAAAAAAAAAAAAAAAAAAAAAAHAQAAIgACAAcADQAADQAAAAUAAwAABwAAAAAAAAAAAAUAAAAAAAAAAAAAAAAAAAAAAAAAAAAAAAAAAAAAAAAAAwAAAAAAAAAAAAAAAAAAAAAAAAMAAAADCgAAAA0AAAAAAAAAAAAAABoABgABAAUAAAAACAAAAAAAAAAAAAABAAAAAQAAAAAAAAAAAgwAAAAAAAAAAAAkAAAAAAAAAAUAAAAAAAAAAAACJAIAAAAAAAAAAAIAAAAAAAAAAAAAAAAAAQANAAAAAAAAAAAAAAkAAAAAAAAAAAAAAAAAAAAAAAAAAAAAAAAAAAACAAMAAAUFJAIAAAkAAAAAAgAAAAAAAAAAAAAAGwAAAAAAAAAAAAIAACQAAAAAAAAAAAAAAAAAAAAAAAAAAAAAAAAAAAAAAAAAAAAAAAAAAAAAAAAAAAAAAAAAAAAAABQABwAAAAAAAAAAAAAAAAABAAAHAAAAAQAAAAACAAAAAAAiAAAAAAAAAAAAAAAAAAAAAAAAAAAAAAAAAAAAAAAAAAAAAAAAAgYAACkAAAAaAAAADAoABAAAAiIAAQAAAAADAAAFAAAAAAAAAAMAAAAAAAACJAACAAAAAAADAAAAAAIAAgAAAAAAAwAAAAACAAACAgAAAAAAAAAAAAAAAAAAAAAAAAAAAAAAAAYAAAAAAAAAAAAAAwAAAQwAAAAAAAAAAAAAAAAAAAAFAAAAAAACAAAAAAAHAAQAAAAAAAAAAAAAAAAAAAMAAAAAAAAAAAANAAcAAAANAAAAAAAAAgAAAAcCJAAAAAMAAAIAAAAAAAAAAAAAAAAAAAABAAAAAAAAAAAAAAAAAAAAAAoAAAAAAAABAQACAAAAAAAAAAAkAAAFAAAAACQkAwACAAABAAAAAAAAAAAAAAAABwAAAAAAAgAAAAAAAAAAAAAAAAAAAAAAAAAAAAQAAAAAAAAGAAAAAAIAAAABAAAAAAAAAAAAAAAAAAAAAAABAAACAAAAAAAAAAAAAAAAAAAAIgAABwABAAAAAAAAAAAAAAAGDQEAAAAAAAAAAAAAAAAAIgMBAgAAAAACAAAAAAEAAAAAAAAAAAAAAAAAAAAAAAAAAAAAAgACAAAAAAAAARoAAAAAAAAAAAMAAAIAAAAAAAAJAAAAAQAABwABAAAAAAAAAAAAAAEAAAEAAAAiBQAAAAAAAAAAAAADAAAAAAAAAAAAAgAAAAAABAAAAAAAAAAAAAAAAAAAAAAAAAAAAAAAAAAAAAAAAAAAAAAAAAAAAAAAAAEAAAAAAAALAAACAgAAAQAAAwAAAAAAAAAAAAAADQAAAAEAAAAAAAADAAcaAAMKAAAAAAAAAAAADQAAAwAADQAABQAAAAAAAAAAAAAAAAAAAAAAAAAABSIAAgAAAAAAAAAAAAAAAAAAAAAAAAAAAAAFAAAaAA4IABoAAAAAAAAFBgADAAAAAAAAAAAAAAAAAAAAAAAAAAAAAAACAAAFAAIAAwAAAgAAABoiAAACAAAAAAAAAAAABQAAAAAAAAAAAAAAAAAAAAAAAAAABQABAAAAAAAAAAAHAAIAAAAAAAAAAAAAAAMABAAAAgANAAAAAAcAAAcAAAAAAAAAAAAAAAAAAgAAAAAkAAAAAAIFAAAAAAACFAAAGgEAAAAAAAAAAAAAAAAAAAABAAAABwAAAAAAAAAAAAAEAAAAAAAAAAAAAAAAAAAAAAAAAAAAAAAAAAYAAAAAAAIFAAAAAAAAAAAAHAAAAAIAAAACAAAAGgAAAAAAAAAAAAAABQMHGgYAAAAEAAUBAAAAAgAAAAAAAAMAAgAAAAANAAAAAAAAAAAAAAAAAAAAAAAAAAAAAAAADQAAAAAAAAAAAAMAAAAAIgAAAgAAAAAAAAAAAAAFAAAAAAAKAAAAAAAAAAAAAAAAAAIAAQAAAAAAAAAAAAAAAAACAAAAAAAAAAAAAAAAAAAAAAAAAAAAAAAAAAAAAAAAAgAAAAAAAwAABQAAAAAAAgAAAAAAAAAAAAQaAAAAAAAAACQCAAAGAwIAAQAAAAAAAAQfAAAAAgAAAAAAAAAAAAAAAAAAAAAAAAAAABoAACQAAAIAAgADAAcBAAIAJAAAAAAAAAAkAAAAAAwAAAIAAAIAAAAAAAAAAAAAAAAAAAAAAAACAgAAAAAAAAAAAAAAAAABAAAAAAAAAAAAAAAAAAAAAAIAAAcAGg0AAAAAAwAAAAAAAAAAAAAADQAAAAAAAAAAAAAAAAAAAAAAAAAABQAAAAAAAAAAAAAAAAAAAAIHAQAAAAAAAAAAAAAAAAAAAQIAAABHAAAAIgAHAgAABQADCQAAAwAAAAAAGgEAAAUAAAABACIABwAAAAUiAAABAAAAIgADAAAAAAAAAAAAAAIAACIAGgAAAAIAAAUiAAAADQAAAAAaACIAAAMAAQAAAAAKAAAIAAABAAADAAAiAAAAAAEABSICAAAiAgAiAAAAIgADIgAAAAAAABoAAAAAAAAAAwMiAAAAAAAAASQAIgUAAAAiAwcAAAAiAAYFABoAAQAABiIAAAAIAAAAAAAAAAAKIgAABQcABQAiAAUAAAMAAAMiAAAiAAAAAAAiAAAAAAAAAAADJQcAAAAiBQEAAAAiAAAAAAAiAAEFAAAABwAAABoAIgAiAAAAAAAADwIADgAAAAIiAAACAAcAACQkAQMkAAcAAAAAAQAAAAICCgQAAgADACIAAAAHByIAAAAABQAGAgAiAAAAIhAAAwAFIgAAAAAiIgQAAAAAAAAiIgcAAAAAGgAHIgAAACIAAAAAAAAiAAAAACIAAAAFIgAAAAAAAAAAAAAAAAAAIiQAIgEAAAAAACIAAAIAAAADBwAiAAAAIgAAAwAAAAABAAABAAQAAAAAAAAAAAMAAAAiBSIiBAIAAAAABSIAAAABAAAACSIAAgADCAAAAAAAAAIAIgAAIgABAAAABw0AAAACAwcAAAAAAAAAAwAFAAAAAAAAACIAAAAABQEAAAAAAxADBwIDIgAAAAMaIgACAAIFIgACAAAAAwAAAAAAIgAAAwwAACIAAAIAAyIAIgAAACQAACQBDAAAAAACAAUAAAIADgEaAgEBAAABAgAAACIAAyIAAAAAAAAiAAcAAwADAAAGAAAAACIiBQEDAAAAAgAAAAoAAAAiAAAAIgAiAAAAAgIHAAACAAAiACIAAAAAAAAAAAAAAgMAAAIDAAMHAgAABwAKAgAAGgAAIgcDAAEAAAcAAAAAAAAAGgAABAAiAAAKAgAlAAAAAAAHAgIAACIAACIiIgAAAAAABiIAAwAHAAAiAAAAIgAAAgADIgAAAgACAAAABQcAAAAAAAAAACQiCgMCAAAABSIAACJHAAAAAAAiAwAAGgAKAAAAAAcADQkiAAAAAAABAA0AAAAAAAMAAAEHAAAAAAAAAgAKAAcAAAIAACIAAwABAAACAAACAAsAIgAAAAAiAiIAAwAAAAAAAAAAAAAiAAAAAAAABwIAAAAAIgACAAAAAAcAIgkAAAIAAAAABQAAAAACIgAAAAMAAwAFAAAAAAAADQAAAAADAAYAAAAiAAAAIgMABwAFAAAAAAAAACIAACIAAAAAAAAAAiIAAAAAAAAAAAAiAAAaAAAiAAwBACQAAwIiCQIAIgIAAQAHAAIHAAECAAAAAAAAAgAkAwAKAAACAQcAAAADAwEiBwIAAAAAAwAAAAMMAAAAAAAAAAAAAAEAJAEaAAAAAAABBwIAAAAAAyIAASIDIgACAAAAAAAAAAAiAAABAAAHAAoAAQMAIgAABwEAAAUAAQAAAAAiAAAiAAoAAAUAAAAiIgEAIiIAACIAIgcAAAAAAAAABQAHIgMAACIABwAAAAAaAA0AAAAAIiIBAAUNIgAFABoAAAAFAwMAAAAJAAAiBQAABQYAAAAAAwIDAwMiAAABAAAAAAwAAAAAAAADAgAAAAAAJQAAAAYDAAcAAAAACAAAAAADBQcAAAAAAAIDAAAAACIMIhoAAAAAAgADIgADAAAABQEDAAAAAAACAAAAIgAFAAAAAAAHIiQAAAMCAAAAAAAiJAACAQMHAAAAACIAAAAiAAAAAwAAAQAAAAAJAAAAAAAHAgACAAcABQAABwcNAAAiAiIAAAAAACIiAAAkAAIDAAAAIiIAAQAAAAADAAMAAAMAAAUCAAAAIgAAAAEAAAAGAAAiAAAbIgAiAAANAgAFIgMAABsAAQAAACIKAAAlAAAAIgcAAAAHAAADAAAAAgAFAgABAAACAyIAABoCAA0CAAAAAAAAAAAAAgADAAAiBQEAJAMiAAAAAAAAAg0AAAEAAAoAAAAiDAUAAAAHAAAAAAAAAAEAAiIAAAMAAAAAACIAAAciIgAAAAAAAAAAAAAAACIAAwEAIgAAAAAAIgADAgAAIgUBAA0AIgAaAAEAAwAFAAMiIiIAAA4FBAAAAAIAAAAAAAAAIgcAAAAACgIAAAEBAAADDAAAAAIMIgAAAA0AAAYKAAAAIgAAIgAAAAAiAAAmAwIAAgAAACIAAAAaIgAiAQAAAAABAAAAAwAAAAAAAAAAAAABAAAAAAAAIgAGAAIAAgAiAAICAAAHAgEaBwAAAgYAIiIaAAAKAAIAAAAAAAAiAwAAACIAAAAAAAAAIgIAAAAAAAAIAgMAAgAAACIAAAciAAAAIgAAAAAAAAAAAAAAAAAAAAAiAAABACIAAAAAAAEiACIAAAoAIgAAAAABAAMABQAAAAAAAwAABwAAAAAAAAAaAAAAIhoAAAAiAQACIgAAAAYAIgAAAwIABQAiAAUCACIAAAAAAAAAAAADAAAGAAADACQAAAAAAAACCAAAAAAAAAEFIgAiAgEABQYDBQAAAAAAGgAAAAAAAAAAACIAIgIiIgABAAAAAAAAAgADAgYAIgAAAAAAAwAAAAAiIiIiByIAAAAADQAAAAIHAQMDBQIADgACACICAgACAAAAAA0AIgAAAAACGgAAAAIAAAAAAAcAAAAAAAAiIgAAIgABBgAiACIiJSIAAAAAAAMaGgAAIgEAAAAiAAAAAwEAAwAABB8AIgAAAAACAAAaAAMAAAAABQAGACIAAAADAAAiAgMAAAAAAAAAAAYAAAAGAAAVAwAAABwiIgIDAQAiIgAAAwAAAAMADQAAAAAAAiICAAAAAAAAARoCAAAAAAEiAAAiByIAAAAAABoAAAAAAiICAwEAAwAAAAAiGgAAAAAAAAAAAAAAIwIAAAAAABoHAAAAAAABAAAABwMAAAAAAAAGAAADIgcNDQINIgAAAAAAAgAAAAAAIgAAAAAAACIiAAUAAAAAABsAIgAAAAAHAAAAAAUADQAFAAEAAAAAAAAAAAAAAAADAAAAAAEAAAAAAAACIgAiBwAAIiIBAAAiAAMAAAAAACIAAAAiAAAiAAAAACIHAAAAAgMAAAUAAAADAwIAAgAAAAADIiIAAgADAAAAIgAAACIAIgEAAAAAACUABQ0AAAAlACICABoCAgEAGgMiACIAGgACAAAAARoiAAAAIiUABhoABQAAAAAABSIAAAAAAAAAIgAkAAAABQMAAAAHAAAAAQMBIgUAAAAAAAAiACIAIgAAAAAAGgAFBwAAAAAAAAAABwADAAAAACICAAEAACIAAAAFAwAAAAkAAAADAAABAAAHAAAAAgoJGhoAIgAlAAAAAiIFAAADAAAABgcAAAAAByIAAAADAAABAAAAIgIAIgMAAAAAAAAiAAADAAUAAAAiByIiAAACAAAABQAAAAEAAAMCAAAADSIAIgIAAAAAGgAAAAAiAgAAAAEDACIAIgADBwAiAAAHAAAABwAiAAACBwAAAAIABwkFBwYAAAAiAAAiAAMDAgAFAAAAAAAHAAAAACICACIAAAAAAAcCAAACAAAAAAAAIgAAAiMaAAAAIgAAAAAACgAAAAMDBgIAIgAAAAAAAAMAAQAiAAMAAAIiAgAGIgAADQAABxoHAAMAAAAiAgAAAAAAAAAAAAAAAAAAAAAiAAEAIgEAAAAKACIAAwANAAAAACIaAiIAAAIAAAIEAgAAAAAAAQAAAgAaAAAAIgADAAAAAAAAIgACBwAACiQDAAMABwIABg0aAAIAAAUDBQAAIgEAAAIAAAABAAAFACIAIgEAAwAAAAEHDQAEAB0AAAIKBQAAABoiACIABwAHAAAAAAAAAAoAAiIAAAAABQMAAAACAAAAAAAAAAAAAAAAAwIAAgAAAAAAABoAAAUAAAABBwAAAAAAAAAiIgAAAAAAIgAAAQAAIiIBAA0AACIAIgQBAAAAAgAkAgAAAAAAAAAHABsAAAUAAAAAAAAAABoAAAwAAAAAAQAAAAAAAAAAAAAAAgMAAAAAAAAAAAAAIhoAAAAAAAAAAAAAAgACAAAMACIDAAAAAAAAABoAAwAAAAAAAAAAAAAAIgAAAAAAAAAAAQAAAAAbAAAAAwAAAAAAAAACAAAAAAAAAAIAAAUAAAAAAAAAAAAAAAAABQAAAAAAAAIABQAAAgAAAAAAAAAAAAAAAAACAAAAAAAAAwUAAAUDAAAAACQAAAAAAAAAAgAAGhoABgACAAAJBQEAAAABBQAAAAAAAAAAAAAAAAAAAAACAQEAAAAAAAAAAAAAAAAAAAAAAAACAAAaAAAaAAAAAAoAAAAAAAAAAAAiAAAAAAAAAAAAAAAAAAAAAAUAAAAAAAAAAAEAAAAABQAFBQAAAAAAAAAAGgcAAAAAAAAAAgAAAAAAAAAAAAAAAAAAAAAAAAAAAAAAAAAGBgUFAAAABSIAAAAAAAAAABoAAAAAAAAAAAIAAAAAAAAARwAAAAAAAAAAAAIAAAAAAAUAAAAAAAAAAAUAAAAAAAAAAAAAAAAAAAACAAAAAAAAAAAAAAAAAAAAJAAFAAIAAAAAAAAAAAACAAADAAAAAAABAAAaBwMAAAAAAgAFAAAABwAMAAAABQAAAAAAHQAAAAAAAAACAAAAAAAAAgAAAAgAAAAAAgAABwAAAAAAAAAiAAAAAAANAAAEAAAAAAAAAAABAAAHAAAACgAAAAAAAAAAAAAAAAAAAAgAAAkAIgAAAAAAAAAAAAMAAAAAAgMAAAAAAAAAAgAAAAAAAAAAAAAAAAMkAAAADQAABgAAAAAAAAAAAQAAAAYDAAEAAAAAAAIAAAAHAAAAAAIAAAAABQAAAAAAAAAAAAAAAAEAARoABwEaAAAAAAAAAAAABAAAAAAAAAAAAAAAAAAADQEABQAHBQAAAAIAAAAAAAAAAAAAAAAAAAAAAAAAAAAAAAAAAAAAAAAAAAAAAQEAAAAFAAAFAAAAAAAAAAIBAAAAAQAAAAMAAAAaAAAAAAACAAEAAAAAAAAAAAAGAAAAAAUAAAAAAAAAAAUaAAAAAAAAAAAHACIAAAICAAAAAAAAAAAAAAAAAAIABQAAAAAAAAAAAAAAAAUAAAIAAAAAAAAAAAAAAAAAAAMAAAAFAAAFAwAAAAAAAAAAAAAADAAAAAAAAAAAAA0AAAAAAAAACQAAAAIAAAAAAAAAAAAiAAIAAAAAAAAFAAAAAAABAAAAAAAAACIAAEcCAAANAQAAAAAADQAAAAAaAAAAAAAHAAAFAAACAAAAIhoAAAAAAAAAAAAAAAADAAAFAAAFAAAAAAAAAAAAAgAAAAAAAAAFAAAAAAAABQAAAAAPAAcbAAAAAAAAAAAiDQ0AAAAFAAAAAAUHAAAAAA8AAAAAAAAAAAAAAAACAAAkABoAAAACAAAAAAAAAAAAAAoAAAAAAAACAAAAAAAAGgAAAAAAAAAAAQAAAQAAACQAABoAAAAAAAIAAAAABwACIgAAAAIAAAAAAAcADQACIgAHAAACAgAAAAACBQAAAwUAAAAAAgAAAAEFIgAAAAAAAAAAAAYHAAANAAEfAAUAAAAlAAAAAAAAAAABAiQAAAYADRoAAAAAAAAAAAAHAAAFBQAAAAAAAAAAAAAAAAAAIgAAAAoAAAAAAAAAAgcAAAAAAQAAAAAABwAAAAAFAAAHAAUAAAAOAAAAAwACAAAABwAAAAkAAAAABwMAAAAAACQABwAAAAAAIgAAAAAAAAAAAAAAAAAkAAAAAAAAAgAiACIAAAAAAgAAAAAAAAwAAAAAJAAAAAAADAAaBAAAAAAAAA0AAAUAAAACAAckAA0HAAACIgAHAAAAAAAAAAAAAA0AAAAABgAiAAAAAAAAAAAAAgAAAAUHAAAAAAACAAAAAAAAAAANGgIAAAAAIgAAAAAAAAAFAQAABSQAAAAAAAAAAAMAAAAABQAAAAAAAQACAAAaAAAAAAAAABoAAgAAAgAAAAAAAAcFAAAAAAAAAAAABQcAAAAAAAAFAAAAAAAAAAAAAAAAAQAAAAcAAAAGAAMAAgAAACQAJAAABwAAAAACAAAAAAAMACIABgAADQAAAAADAAAFAAAAAAAAAAIAAAAAAAAAAAUHBwAAAwAAAAAAAgAAAAcCAAAAAgIABSIHAAAAAAAAAA0AAAAAAAAAAAIBAAAAAAAHAAAAAAAAAAAAAAAAAAACACQNAAAAAAAAAgAAAAUAAAABAAAAAAAAAAUAAAUAAAAAAAAAAAAAAAAAAAAAAAAAAAAAAAAAAAUAAAAAAAAAAAAAAAAAAAAFAAAABwAAAAMCAAAAAAAAAAAAAAAAAAAAAAUAAAAAACQAAAAAAAQADAMABQAlAAAABQcADQAHAAAAAAAAAAAAAAAAAAAAAAIAAAAAAAAlAQUAAAAAAAAAAAAAAAAAAgAACgAAAAAAAAAAAAAAAAAAAAAAAAACBQsAAAAAIgAAAAANAAAAAAAAAAAAAAAAAAIAAAAAAgAAAAAAAAAAAAUAAAAAAAAAAAUAAQAAAAAAAgAAAAAAAAAAAAAAAAAABwcAAAAAAAcAAAAiAAAAAAAAAAIAAAAAAAAAACQCAAQQAAAAAAAABQAAAAAHAAAAAAAFAAAAAAAFAAAAAAAAAAIADQIAAAEkAAAACgAiAAAAAAAAAAAAABoAAAUAAAAAAAAKAgcAAAcAAAUAAAAAJAAAAAUAAAAFAAAAAAAAAgACAAAAAAAAAAAAAAACAAIAAAAFBQABAAIAAgAAABoAAAAkAAQAAAAAAAAAAAAABQUAAAAAABoAJAAABwAAAAAAAAAAAAAAAAAAAAAAAQAAAAADAAAAAAAAAAAAAAAAAAIAAAEAAAAAIgAaAAAAAgAAHwAAAAAaAAAAAAAkAAAAAAAADQAABQUHBwAAAAAAAAAAAgIjAAECAgcAAAABAAAAAAAAAAAAAAIAAAAAACQAAAAAAAAAAAAFAA0ABwAAAQADAAACAAAFAAAiBQAAAAAiDAAAAwkAAAAAAAAAIgAAAAIAAAAAAgAABQUABQAAAAAAAAAAAAAAIgAAAgAkAAAAAAAAAAAAAAAFIgAAAAAaAAAAAAAAAAAAAAAAAAAAAAwAAAAABQAFAAAAAAAAAAAfJAUAABoAAAAAAAEAAAAAAAADAiIAAAAAACQAAAAaAAAABQAAAAAAAAAAAAAHAAAAGgAAAAAAACIAABwAAAAAAAAAAAAiAAAAACICAAAABgANAAAAAAAAAAIACQAiAAIAAAAMAgAFBQAAAAQAACQFAAAAAAUAAAAAAQACACIFAAAAAQAABwAAAAIAACIAAgAaAAAABQAAAwAAAAAAAAAAAAIAAAACIgAAAAAAAAAAAAUDACUAAAcAAAAAAAAkAAAAAAAAAAAAAgAAAAAAAAAaAAAAAAICAAAAAAAAAAAAAAAAAAAAAAAAAAAAAAAAAgAAAAAAAAAAGgAAAAIAAAAAAAAABwAAAAAAAAADAwAAAAAFAAUAAAAHAAMFAgAAAAAkAAAAAAUAAAAaAAAAAAAAAAAAAAAAAgcAAAIACAAAAAAFAAAAAAUAAAAAAAAAAAIAAQAAAAAAAAAAACQAAAAHBQAAAAAAAgAAAgAAAAUAAAAAAAAAAgwAAAAAAAMAAAAAAAcNAAAAAAAAAAAABwAAAAANAgAAAAACAAAAAAAFAAAAAAIBGgAAAAAAAAAAAAAAAAAAAAAAAAAAAAAAAQUAAAAFAAACAAwAAAAAGgAAAAAAAAAAAAAAAAAAAAUAAAECAgAAAAAuAAAAAAAAJAAAAAAAAAUAAAAiAAAAAAAAAAAAAAAAAAAAAAAAJAACAAAAAAAAIgAAAAAABQAAAAAAAAACACIAAAAAAAAiAAAFAAAAAAAAAAAAAAAGAAAAAAAAAAAAAAAAAAUAAAACAAAFAAAAAAAHAAAAAAACAAIAAAAADQAABSQAAAAAAAAAIgAAAAAAAAAABwAAAAAAAAUAAAAAACIAAAAAAAcAAAkAAAAAAAAAAAAAAAAAAAAAAAAAAAAGAAIAAAIAAAAiAAAADgAAAAAHBQICAAAAAAAABQAADAAJAAAAAAAAAAAGAAAAAAADAwUAAAADAAANAgAAAAAAAAIAAAAAAAAAAQACBwAAAAAAAAAAAAAFCQBHAAAFBwACAAAAAAAHAAAAAAAAAAAAAAAAAAACAAAAAAACAAAABwAAAAAAABoAABoNAAAAAAcAAAAAAAAAAAAAAAcAAAAAAAAAAAACAAAAAAAACgIAAAAACQAABQAfAAAAAAAAAAACBQMAAAMAAAAaAAAAAAAFAAAAAAAAAgAAAAAAAAIAAgEAAAAFAAUAJAECAAAkAAAAAAUAAAAAACIAAAAAJAAAAAAABQADACQAAAAHAAADAAAAGgEABwAaAAAAAAAADgACAAAAAAAFAgAAAAAAAAAHDAAADQIaAAAAAAAFAAAAAAAAAAAiAAUAAAAAAAIAAAAAAAAAAwAAAQAAAAAAAQAAAgEAAAAABQAAAAAAAAAAAAAHAQAAAAAAAAAAAAAAAAAAAAAAACIABQAAAAAAAAAAAAAAAAAABwcAAAAAAAAAAAAAAAAAGgAAAAAAAgAHAAAAACQAAgcAAAACAgAAAAAAAAIAAAAABQAAAAAAAAAAAAADAAIAAAAAAAAABQAAGgIAACQAAAUAAAAMAAEAAAANJAMAAAAaAAAAAAAAAAAAIgAAAAAAAAAaBQAAAAEABwAAAAACBwAABQAEAAAAAAAAAAAAAAAAAAAAAAMAAAAAAAAAAAwFACQAAAAABwACAAAiAwAAABoAAAEAAB8ABgAAAAAAAAAMAAAfAAAAAAAABQAAGgAAAAAHAAAAAAAAAAAAIgAAIgAAAAAFBQAABwABAgAAACUAAAUCACQAAAADAAUAAgIAAAABAAAAAAAABwAAAAAAAAAAAAAAAAACAAAAAAAAAAEAAAAFAAEAAAUIAAAAAAIAAAAAAAAAAAcjAQAAAQACAAAAAgMAAAABAAAAAAYABRoAAAAAAAAFAAcAAAAAAAAAAwIAAAAAACQAAAAAAAAAAAAAAAAnACIAAAcAAAAAAAAAABoAAgAAAAAAAAAAAAAAAAACAAAABQABAAAKAAAHAAAAAgAFBQAAAAAAAAAAAAAAAAAAAAAABwAAAAAAAAAAAAYAAAAAAAAAAAAHAAAAGgAAAgAAAQAACwAAAAAAACIAAAAHAAUAAAAAAAMCAAAAAAAAAAAAAAAAAAAAAAAAAgAAAAAAAAAAAAAAAAcAAAAABgIDAAAAGgAAAAAABwAAAAoAAAACAAAAJAEABQAAAQAAAAAAAAAAAAAABQAAAAAAAAAAAAAAABoAAAAAAAAAAAAABwACAAAAAAABAAABACQCAQUAAAUAAAAAAAAABQAAAAAAAAIkAAAAAAAABQAAAAAAAAAAAAAAGgAAACIADQAFAAAAAAAAAAAAAAAAAAcAAAAAAAAACBoAAAAAAAAAAAAAAA0AAAAAJwAAJgAAAgAAAAAAAAAAAAAAAAAAAQAAJAUAAAUAAAAAAAADAAcAAAAAAAACACIAAAAAAAAAAAAAAAAAAAAAAAAAAAIAAAAAAAAAAAAKACcCAAAAAAAAAAAAAAAAAAAAAAMAAAAAAgAAAgAAAAAkAAACAAAAAAAAAAAAAwABGgAAAAAAACIBAAAAAAAAAgAAAAAAAAAAAAAJBQAAAAAABQAFAA8AAAAAAAAAAAIHAAAAAAAAAAAAAAACAAAAAAIAAAAAAAAAAAMADQAAAAAAAAAAAAAABQAAAAAAAAAAAAAHAAAAAAAAAAAABQAAAAAAAg4AAAAAAAAACQAAAAAAAAAADQAFBQAAAAAHAAAAAAAAAAAAAAAAAgAAAgwAAAACAAAAAAAAACIAAAADBwAAAAAAAAMAAAcAAAAAACIAAAAAAAAAAA0AAAUkBQAAAAAAAAAABQ0AAgAAAwAAAAAAAAIAAAAAAAAFAAAAAAAAAQAAAAAFAAAAAgAAAAICAwAFAAAAAAAAAAIaAAAAAgAAAAAAAAAaAAAAAAAAAAAAAAAAAQAAAAAAAA0AAwAABQEAAAAAAAAAAAAAAAAAAAIAAAMNAAUAAAACAAAAAAADIgAAACICAAAAAAAAAAAAGgAAAwAAAgcAACQAAAAAAAAAAAUAAAAAIgIFAAAAAwAAAAAAAgUCBQUAAAAGBQAAAgAAAAAAAAAAAAUABgAAAAAAAAAAAAAAAAAAAAAjAAAAAAAAAAAAAAAAAAAAAAACAAAAAAEABQAAAAAiAAAAAAAAAAAAAQAAAAAAAAAAAAAHBAAAAAAAAAICAAAABwAAAwAAAAAAAAAAJAAAAAABAwAAAAACBwAABwAAJAAAAAADAAAAAAAABQAAAAAAAAAABQABACIAAAAAAAAAAAMFAAAAAAAAAAABAAAADAcAAAAAAAAAAAcAAAIAIgIAAAAAAAAAAAAHAAAAAAACBwAAAAAGAAAAAAAAAAAFLgAAAAAAAAABAAAAAAAEAAAAAAAABQAAAgAAAAAABQAAAAAAAAAAAAAABgABAgAAAAAAAiQAAAAAAAAAAAAAAAAAAAcAAAAAAAAAJAAAAAAAAAIAAAAAAAAAAAAAAAAAAAAAAAAAAAEAAAAAAAIAAAAAAgUAAAAAAAMAABoAAAAAAAAAAAAAAgAAAAUAAAAAAAAAAAAAAAAAAAAAAQMDAAUCBQAAAAIHBwYAAAAAAAAABQAAAAAHBAAAAAAAAAAMAQACAAAAAAUAAAAAAAACAAAiAAAABwAAAAACAAAAAAAAAA0AAAAAAAUDAAAAAAAADQAAAAUCABsAAAAAAAAAAAACAAABAAAAAAQAAAACAAAFAAICAAICAAAHAwcAAAcAAAACAAACAAIAAAAAAAAAAAAAAAAAAQAAACQAACQAAAAAAAAAAAAAAAAKAAcCAAAAAAAAAQAAAAAAAAAAAAAAJAAAAAcAAAAAGgABAAAAAAAAAwAAAQAFAAAkJBoAAAAAAAAAAAAAAAAAAAAAAAAABQAAAAAAAAEAAAAAAAMAAAAAAQAAACIAAgAAAAAAAAAAAAAABQAABQAABRoAAAAAAAAFDAIAACICAAAABQAAAAAAAAAAAAAAAAAAAAAAAAAACgUADQAAAQAAAgAAAAIAIg0AAAUABQAABQAAAwAFAAIAAAAAABoAFAAAAAAAAAAAAAAAAAAAACQACQAAAAAAAAcHCQAABSIDAgAAAAAABQAiAAAAAgAABQAAAAAAAAAAAAEiBwAAAAAAAAAAAAIAAAAAAAAAIgcAAAAAAAAAAA0AAAAAAAAAAAEAAAAABQACAAAbAAAAAAAAHQAAAAAiABoAAAAAAAIaDQAAAAAFAAAAAAwFAAEAAAAAAAIAAAIAAgAAAgAIAAAAAAAAAgMAAAAAGwABAAABAAAAAAAAAAAAAgAABQAAAAAAAAAAAAcCABoAAAAaBQcFAAAAAAAABQAAAgAAAAAAAAAAAAANAAAAAAAAAAACAAAABQAAAAAAAAAkAA0BAAEiAAAAEwkHAAAAAAAkAAAAAAIFAAAAAAAABwAAAQAAAAAAAAACAAAAAAAAACIAAAAACgAAAAAABSQAAAAAABwAAAAAAAAAAAAAHhoAAAAAAAEAIgAAAAAABwAAAAAAAAAAGwAAAAAAAAMAAAAAAA4AAQAAAAADAAMAAAAFAAAAAAACBQAiAAAAAAAAAAwAAAAAAAAAAAACAAAaAAAAAAAAAAAAAAIABAABAAAAAAAAAAAABQAAAAAAAAAAAwEABQAAAAAAAAAAAAAFAAANAAAAGiUAAAAFAAcAAAAABwAAAAAAAAACAAAAACIAAAAAAAACAAIAAAAABwAAAQAAAAAAAAAFAAACAAAAAAADAgcABQAHAAAAAAAkIgAiAAIAAAACAAAAAAIAAAAAAAAAAgAFAAAFAAAAAwAKAgAAAAAAAAAAGgAAAAAABwAAAAAAACIAAAAAGgAAAAAAAAMAAgAAAAAAAAACBQAAAAAAAAABAAAAAAAFAAAABwAAAAAAAAEHAAAGAAAAAAIAAAAAAAIAAAAAJAAAAAAHIgcAAAECAgAAAAAAAAAAAAAAAAAAACQAAAUAAAAAAQIAAAAAAgAAAAIAAgAAAAAAAAAAAwwAIgAAAAQAAAAAAAAbAAAAAAAAAQAAAgAAAAAAAAAAAAAAAAAAAAAAAAMAAAACAAAFAAAAGgAABQAiAAAAJAAAAAAkAAAAAAAAAAMAABQABQAAAAAAAAAAAAAAAAAAAAAAAAAAAAAAAAACAAAAAAAAAAIFAAAAAAMAAgIAAgAADQAAAAIABgMaAAcAAAAAAgAAAgAAAAAAAAAAJA0CAAIAAAAaAAAAAAAAAAAAAAAkAAAAAAAAAAAAAAABAAAAAAAAAAoMACQFAAAAAwAAAAAFAAYAAAAAAgoAAwAAAAAAAAgCAAUAAAAAAAAAAAUADAAAAAAAAAAAAAAAAAMAAAICAAAAAAAiAAAAAAAAAQANAABHAAAAAAACCQAAAAAAAAIAAAAFAAAHAAAAAgAAAAAAAAAAAAAAAAQAAAAAAAAAAgADAgAAAAAABQAAIgADAAACAAIAAAAAAgAAJAAAAAAaAgAAAAAkAAADAAAADAAHBQANCgAAAAACAAAAAAAAAAAAAAAAAAIAAAAABwAAAAAAAyIAAAAFAAAAAAAEAAACBwUAAA4FAAIAGgAAAAAAAAACAAAAAAAABwACAAAiBQAAAAAAAgAAAAAFAAAAAAABAAAAAAAAAAAFAAAAAAIAAAAAAAAFAAAAAAAAAAACAAAAAAAHAAIAAAAAAAAAAAMAAAAAAAAFAAUAAAUAAAAFAAAAAAIAAAAAAAYAAAAAIgAABQAAAAAAAAcAAgAAAAAAAAAAAAAAAAAAIwoAIgUCAAACAAAhAAAAAwAAAiIAAAAACAAAAgAAAAAAAQAAAQMcAAAADQAHAAAAAAAAJAAAAgAAAAAAAAAAAAAAAAAAAAADBAAAAAAAAAAAJAUDAAMAAAAAAAIlIgAAAAUAAAAAJAAABQAAAQAAAAAAAAAJAAIAAAAAAAANAAAAAAAAAAAAAAMADQAAAAAAAAAAAgAAAAAkAAAAAAEAAAUAAAAHBQcAAAUABwAAAAUAAAADAAAAABoABwAABQAAAAAaAAAAAAAAAAAAJAAAAAADBQAAAwAAAAIABAAAAAAAAAAAAAACAAAkAAAAAAAkAAIAAAUAAAIAAAAAIgAAAAMBAAAAAAAiAgAAAAADAAcAAAIAAAAAAgAAAgAAAgACAAAAAAAABwAAAAAAAAAiAAAAAAAAAAACAAEAAAAAAAAAAA0AIQAAAQAAAAAAAgAAAAAAAAAAAAABAAAAAAAAAAAAAAAAAAYkAAAAAAAAAAAAAAAAAAAAAAAAAgAAAAAAAwAAAAAAAAAAAAAAAAAAAAAAAAAAAAAaAAAAAAUFAAAAAAAAACIAAAAAAAABAAAAAAAAAAAAAAAAAAAAAAAAAAAAJAAAAAIAAQAAABoAKQAAAAACAAAAAAAABwAAAAEDAgAAAAAFAAAAAAAAAAIAAAAABQcAAAAAAAAFAAAAAAAAAAAAAAAAAAAAAAAAAAACAAAhAAAAAwAAAAAAAAAAAAcAAAAABwAHAAAAAAAAAAAAAAAHAwAAAAAAAAAAAAUAAAECAAYAAAAAAAAAAAAiAwAAAAIRBQciAAAKAAAADQAAAAAAAAAAAAACIgANAAAAAAAAAQEDAAAkDQAAACQAAiMHAAAAAAAAAwAFAAAAAAAAAAMADgICAAoAAAAAAAAAAAABAAAAAAAFAAEiAgAABwAAAAAAAAAAAAAkAAACAAAAAAAAAAAAAAAAAAAaBQAAAAAAAAUiAAAAAAIAAAAAAAAAAAAAAAAAAAIAAAUAAAAAAAwAABoiAA0AAAANAAAAAAAAACQBAAAAAAAAAAAjJAAAAAAFAAAAGgAAAAAAAAACAAAAAAAAGhoABQAAAAAABwABAAIDAAAABQcAAAAEAAUAAAAAAAAAAAACAAAAAAACAAUAAAAABwAAAAAAAgAAAAAAAAAABwANAAACAAcAAAAAAAAAAAcAAAAAAAAAAAAAAAAkJAAAAAAAAAAAAAABAgACAAABAAAAAQAiAAAAAAAAAAMGAwAAAQACAAAAIgABAAAAAAAAAAAAAAAAAAAAAAAAAAAAAAAAAAAAAAAAAAAAAAAAAAAAAAAaAgAADQAAAAAAAAAAAAAAAAAAAAAAAAAAACQAACMAAAAAAAIAAAAAACQAAAACAAAAAAAAAAAAAQ0AAAAAAAAAAAAAAAAAAAAAAAACAgAAAgAAAAACAAAAAAAAAgAAAAAAAAACAAAFAAAAAAAAAgAiAAAAAAAAAAcHAAAAAAAAAAAAAAADAAAAGgACBAAAAAAAAAAaAAAAAAAAAAAAAAAAAAAIAAAAAAAADAAAAAAAAAAMAAUAAAAABQAAAAAAIgcAAAADBhoAAAAAAAAAIgAAAAAMAAAAAAAAAAIAAAAAAAAAAAAAAAAAAAAAAAAAAAABAAAAAgACAAAlBQAAAAAAAAAAAAAAAAAHAAMAAgAABwAAAAINAAMAAAAAGgAAAAMAGgAAAgIFAgAAAAAAAAcAAgUAAAADAAAAABoAAAAHAAAkAAIAAAAkAAAAABoAAAAAAAAAAAAAAAAAAAAAAAAAAwAHAAAAAQAAACIAAAAAAAAABwUAAAAABQAAAgAAAAACAAwAAAAAAwAAAAADAAAAAAAAAAAAAAAAAAAFAAECAAAAAAAAAAAAAAAAAAAAAAAAAAEiAAkAAAAAAAAAAAcAAAAkAAEAAwAAAAAAAAAAAAACBwAAAAAAAwAAAAANAAACAAAAACQAAAAAAAAAAAAAAA0DAAAFAAAAAAAAAgANAAIAAAAAAAAAAgAAAAAAAAADAAAAAAAAAAIAAAACAAAAAAAAAAAABQAABQADAAAAAAIFAAAAAAADAAAHAAAAAAAAAAAAAAAAAwAAAgEAIgAAAgAAAgMCAAUaAAAAAAAAAAAAAAAAAAwABQAAAAAEAAAABwAAAAMAAAIAAAAAAAUAAAAAAAAAAAAAABoAAAAAAAUAIgAAAAAAAAAaAAAAAAAAAAAAAAAAAAAAAAAAAAAAAAAAAAAAAAAAACIAAAAABQAAAgAAAAAAAQAAAAAAAAACAAACBwIBAgAAAAoCAAACAAcAAAAAACIAAAACAAAAAAAAAAABAAAAAAAAAAAAAAAAAAAAAAIAAAAAAAAFAAcABQIADQAmAAAAABoAAAEAAAUAAAcAAAAAACQAAAAAAQAAAAAAAAAAAAAEBQAAAAACAAEHAAAAAAAFAAIAAAAFBQAABwAAAAAFAAAAAgAAAAAAAAAAAAAAAAAAAAEBAAIAAAMAAAAiAAAAAQAAAAAAAAAAAAAAAQAAAAAAAAcAAwAAAAAADAIaAAAAAAAAAAAFAAAAAAAAAAMAAAUAAAACAwAAAAAAAAAAAAAAAAAAAAAAAAAAAAAAAAAAAAAAAAAAAAAHAAAAAAcAAAACACIAABoAAAAAAAAAAAAAAAcAAAAAAAAAAwAAAAAAAAAHAAAAAAAFAAAABwAiAAAACgAABQAAAAcFAAAAAAAFAA0AAAAiAAAABwAAAxwAAAAAAAAAAAAAAAUHAAAAAAEAAAIAAAMAAgAAAgAAAAAAAAAAAAAAAQACAAAAAAEABQAAAAMBAAAAAgAAAAUAAA0AAAAAAAAAAAAAAAYAAAAAAAACAAAAAAAAAAUAAAAAAAAAAAAAAAEAAAIAAAAFBQAAAAAAAAAAAAAAAAAAAAAKAAAAAAAAAAAAAAACCiIAAAoAAAUAJAAAAAANGgAAAAMAAAAAAAAAAAAAAAEAAAAAAAADAAAAAAAAAAACAAIACAAAAAAiAAMAAAAAAAAAAAAAACIAAAAAAAAAACQAAAAAAAAAAAANAAcAAAAAJAAAAQAAAAAkBQAiAAAAAAAAAQAAAAAaAAwAAAEAAAAAAAUAAAIAAAEAAAAAAAAAAAAADQAOAAAABwMAAAAAAAACAgAHAAAiAgIAAAIAAAAAAAAAAAIAAAAAIgAFAgAAAAAAAAACAQAAAAAAAAAiAAIAAAAAAAIAAAABDQAAAAAAAAAAAAAAAAAAAAAAAAAAAAAAAAAAAgUAIgAABQAAAgAAAAAAAAAAAAACAAAAAAAHAAAkBwAAAAEABQAAAAAAIgAAAAAAAAADAAIFAAACAgECAAAAAAAiBwIAAwAARwADAAUFGgAAAAAAAAAADQIAACIdIgMAAAAAAgAAAgAAAAAGBQcFAAAAABoAAAIAAAADAAIAAAAFAAAAAAAAAAACAAMAAAAAAA0DAAAAAAAAAAAAAAAAAAAAAAAAAAAAAAAAAAAAAAIAGgAAAAAAAAIAAgADAgAAAAAAAAIFAAAAAAAAAAAAAgAAAAAAAAACAAUCAAUAAAAAAAANAAAAAAAAAAEAAAAAAAAAAAAAAAAAAAAAAAAAAAAAAAACAAQCAAAAJAAMAAAAAAAAAAAAAAAAAwAAAAAAAAAAAAAiAAcAAAAiAAIAAAMFAAcAAAAFAAAAIgAFAAICAAAEAwAAAAAAAAAAAAAAAAAAAAAaAAAOBQACAAUAAgAFBgUAABoAAAAAAAAiAAAAAgAAIgAAAAAAAAACAAAFAgIAAAAAAAAAAAAAAAAAAAAAAAAAAAAAAAAAAAAAAiIAAAABAAAAAAAHACQAAAAAAAAAAAAAAAAAAAABACUAAAABAgAAAAAAAgAAAAAAAQIiAAAAAAAAAAAHAAUAA0cCAAIAAAAAACQAAAIDIgAAAgAHAAAABQMAIgAAAAAAAAAAAAAAABsAAAAAAAAAAAUAAAADBQAAAAEAAAAAAAAAAAIAAAAAAAAAAgAAAAIAAAABIgAAAAAAAAAAAAEAAAAAAAAAAQAAAAAkAgAAAAAAAAAAAAAaAAAAAAAABwAiAAAAAAAAAAAABQAAAAAAAAAAAAANAAAAAAAAAAAAAAAAAAAAAgAAAAAAAAAAAAEAAAAAAAIDAAAAAAAABQAaAAAAAAAAAAAAAAAAAAAAACIAAAAAAAAAAAAAGwAFAAAABQAAAAAAAAAAAAUAAAAAAAAAGgAAAAAAAAcAAAAAABoAAAAAAAAAIgcAAAIFAAAAAAAAACIABiIAAAcAAAAAAAAAAAAIAAAAAAAAAAAAAAAAAAAaAAAAAAAABQACAAAAAAAAAgAAAAAHAgAAAgACAAAAAAAABQAAAAAAAAAAAAAAAAAaAAAAAgAHAAAAAAAFAAMAAAUAAAAAACIABwAAAAgAAAMAAQAAAAAAAAAAAwAAAAAAAAUAAAAAAAAAAAAGABoAAAAAAAACAAAAAAAAAAAABQAARwAKAgAAAAoAAAAAAQAAAAABAAoAAAIACQINAAABAAUABwUAAAAAAAAAAAAABQAMAAAFAAIAAAAAAgAAABoAAAUfAAAAAAAAAAAAAAAADQUAAAcFAwAAAAAAAAAAAAAAAAAAAAAAAgAAAAABAAAAAAAHBQAAAAAAAAAiAAADAAABAAAAIgAAAAAAIgAAAAIAAAAAAAACAAAAAAAAAAACACQCAQUDAQAaAAAAAAMAAAAAAAUiBQAAAAAAAAAAAQAAAAAAAAYAAAMAAAAAAAMAAwANAAAAAAoAAAAABQABAAUAAQAABwABAAAAAAAAAEcABwIAAAAFAAQAAAAAAAAAAAAAAAAAJAAAAAAAAgAAAgAABgAAAAAAAAAABQAAAAAAAAAABQAABQAAAQAAAAAcAAAAAAIAAAAKGgAAAAACAAIAAAAAAAAHAAAAAg0AAAQAAAAAAAAMBwAAAAACAgAAAAAAAAAAAAAAAAAAABoAAAAAAAIADAAFAAAAAAAEAgIjAAAAAAAABQUAAAABAAIAAAACAAcBAAAAAAAAAgAAAAAAABoiAAAABwcAAAAABQAADQABAAAAAAAAAAAFAAADAAAiAgAAAgAQAAAAAAAAAgAAAAIABwAAAAAAAAAAAAAJAAAAAAoAAAAAIgAAJAAAAAQAAAAFAAAAAAAAAAAAAAAAAAMCAAwAAAAAAAADAgAAAAAAAAAAAAkAACQAAAAAAAAcAAAAAAAAAAAABwACAAAAAAAAAAAAAAAAAAAAAAEAAAAAAAAAAAAAAAAAAAAbAAAAAAIAAAAAAAAAAAAAAAAADQEAAAAAAAAAAAcAAAAAAAMAAAAAAAAAAAAFAAUAAAACAAgADAAAAwAAAAAADgAAAAAFAAAAAAAAAgAFAAACAAAAABoAAAMAAAAAGgAHBQwAAAANAAAAAAACAAAAAAAAAAIAAAAAAAcAAwAAAAAAAAAAGgAAAAAAAAAAAAIBAAUARwAAAAAAABoAAAAAAQAAAAAAAAAAAAAAAAAAAAAAAgAAAgAAGgAAAAAAAAAAAAAAAAAAAAAkAAAAAAAAAAAAAAcAAAAAAAAAAAAAAAAAAAUAAAADAAAAAAAAAAACAAAAAAAAAAUNAAACAAAAAwAAAAUHAAAABQAAAAIAAAAAAAAHAAAAAQAAAAAAAAAAAAAAAAAAAwAAAAUAAAAAAAAAAAAAAAACAAAAAAcAACIABQAFAAAAAAAAAAAAAAAAAAAAAAAAAAAAAAABACIAAAAAAAAAAAAABQAAACQiAAAAAAAAAAAAAAAAAAAAAAUAAAAAAAAAAAMAAAAAAAAAAAAFAAIADQADAAAAAAAAAAMAJAAABQAAAAAAAAAAAAIABQAHAAAAAAAAJAAAAAAAAAIAAwAAAAAAAAAAAAIAAAAaAAAAAAIAAAIAAQAAAAAABwIAAAAAAAIEAAAAAAUAAAAAAAEAACIAAAAAAAAAAAAAAAYAAAIiAAkHAAAAAAUAAAAAAAUABQAAAAACAAAkAAAAAAAAGgACAAAAAAAaAAAABQAAAAAAAgUAAAAAAAAAAAAAAAAABwAAAAAFAAAAAAAABg0ACgcAAAIFAAAAAAIAAQAAAAMAAAAAAAAAAAAAAAAAAAAAAAIAAAADAAAAAAAAAAAiAAACAAABAAcAAAAACgcAAAAAAAABAAAABwAAAAMAAgAAAgAFAAAAAgAAAAAAAAIAAAAAAAAAAAAAAAEAAAIAAAACAAAAAAIAAgAAAAAAAAAFAAAFAAACABoFAAAAAAAAAAAAAAAAAwAABwABJAAABwAARwAADAAAAAABBwAAAAAAAAAAAAAAAAAFAAAAAAAAAAAAAAAEAAcNBQAGAgAAAAUAACQNAAAIACQAAAAAAAAAACIAAAAAAAAAABoAAAABAAAAAAAFACQAAAIAAA0ABQMAAAAAAAAAAgAABwAAAAAiAAAHAAAAAAIFJAAAAAAiAAAHAAAAAAAAAAciBQAAAAACBQAAAAAAAAAFGwACAgAAAAAAABoAAAAAAgAAAAAFAAcAAAAAAAMAAAAAAAAAAAAAAAAABQABJAIAAAAAAAAAAAAAAAICAAMAAAAAAAUAAAAAAAAHAAcAABoAAAAAAAAAAAAAAAAAAAAAAAAAAAAEAgAAAAoAAAAAAAAFAAAAAAMAAAAAAwAABQUAAAAAAAkAAAACBAAAAAADAAUAAAIAAAAAAAAAAAAAAAUAAAAAAAAAAAAAAgAAAAAAAAAAAAAiAAAAAAAAAiIFAAAAAAUiACQAAAAAAAANAAACAAIAAAUAAAAAAAAAAgAAAAAAABoFAAAAAAAAAAAAAAAAAAAAAgAAAAAAAAAAAAAAAAABAAABAAAAAAACBQAGAAIAAAAAJAAADQAAAAAAAAAMAAAAAAAAAAAAAAAAAAIAAAAAAAIAABoHAAAAAAAAAAgAAAAAAAIAAAAAAAAAAAAAAAIIAAAAAAAAAAAAAAAAAAAADQAAAAAAAwAAAgQABwAAAAAAAAAAAAAFAAAAAAAAAAAAIgAAAAAAAAAAAAAAAAIAAAAHAgABAAAAAAAAAAAbBQAABhoFAAAAAAAAAAACAAAAABoAAAAAAAAAAAIAAAcEAAAAAAAABQAAAAAAEAEAAAAiAwIAAAEAAAAAAAABAAAAAAAAAAAiAAAAAAEAAAAAAAUAAAFHAAMIAAAAAAAAAAAAAAAGAAANAAAAAAAAACQAAgAAAgABAAUNACIAAgMAAAAAAAAAIgUAAAAAAAAAAAAAAAAAAAABAQAAAAAAAgAAAAAAAAAAABoAAgAFAAAAAA0AAA0AAAAFJAAAAAAAJAAAAAAAAAANAAAAAAAAAAAAAAAAAAAAACIBAAAAAAAABQAAAAACAAUAAAAAAAIEAAcAAAAAAAAAAAACAAAAAAICAAAHAAAAAAANAAAAAAAAAAoAAAUAAAAiAAACAAAAAAAAAAEAAAAAAAIAAAoAAAAABQAAAAAAAAAAAAAAAAAAAAAAAAAFAAAAAAAAAAAAAAAAAAAAAAEAAwAAAwABAAAAAAAAIgAAAAAAAAAAAAABAAAAAAAAAAAAAAAACgAAAAAAAAAAAgAAAAAiAAAAAAAAAAAAABoABgAAAAIiAAAAAAAAAAACAAAAAgAAAAAAAAAAAAAFAAAAAAAAAAMMAAAAAAAAAAIAAAACAAAAAAAABQAAAAAAAAAAAAAAAAAAAAMAAAAIAAAAAAAFAAUAAAAAAAMAAAAAAAAAAAcAAAAAAAAAAAEAAAAAAAAAAgAMAAAAAAIABQAAAAAAAAAAAAAAGgAAAAAAAAAAAAAAAA0AAAEiAAAAAAIAABoAAAAADQAAACIAAAAAAAAAGiIAAAAAAAAAAAAAAAACAAAABQAAAAAAGgAAAAAAAAAAAAUAAAIkAAEADQAAAAAAAAAAAAUAAA8ABQAAAQEAAAAAAAUAACIAAAAGAAAAAAAAIgAAAAAAACIGAAAAAAAAAAAFAAUBAAAAAAAABwAAAAAIAQAABwAABwUAAAAiAAcAGgAABRoCAAAAAAAAAAAAAAAAABUAAAAAAAAAAAAAIgAAAAAaAAAAAAAAAAAABwAAAAAFAAIOAAAaAgAAAAAAAAAAAAAAAAAAAAAAAAAABQAAGgAAAAcAAAAAAAAAAAAAAAAAAgAJAAABGgUAAAIAAAAAAAACAAABAAcAAgAAAAAAAAAAAAAAAAAAAAADAAAJAAAAAAAAAAAAAAEAACQAAAAAAAAAAAAAAA0AAAIAAAAAAQEAAAADACQABQABAAAAAAAAAAAAAAAFAAAAAAABAAAAAAAAAAAAAAACAAAAAAEAAAABAAAAAAUFAAMAAAIAAAQAAAAAAAAAAAAAAAAaACQAAAAAACIAAwAAGgAAAAAAAAAAAAcAAAAAAAAAAwEAAAAAAAAAAgAAAAAABQAAAAAFAAAAAAAAAAAAAAAAAAUAAAAaAAAAAAAAAAEAAAAAAAAkAAAAABoABQAAAAAAAAADAAAAAAAAAAAAAAAAAAAAAAAAAAAABQAAABoAAAAAAAAAAAAAAAAAAAAAAAAAAAUAAAAAAAIAAAAAAAAFAAAAAAAaAAUAAAAAABoAAAAAIgAAAAAAAwAAAAAAAAAABQAAAAAAAAAkAgAAAAAiAAAAAAAAAAEAAAEaAAAAAAAAAQIHAAUAAAAAAAAAAAAAAAIAAAUACQcABwAAAAAAAAAAAAAAAAAFAAUAAAAAACIAAAAAAAAAAAAAAgAaGgAAACQAAAUABRoAAAAAAAAAAAcAAAAAAAUAAAAAAAAAAAAAAAAAAAAAAAAAAAMCAAkAAAAAAAUAAAAAAAAAAAcAAAAGAAAkGgAAAQUAAAAAAAABAAAAAAAAAAAAAAAAAAQABQAAAAEAAAUAAAAAGgAAAAAAAAUAAQAcAAAAAAAAAAAAAAAAAAAAIwAkAAACAAAAAAAAAAIAAAAAACIAAAAAAAAFAAAAAA0CAAAAAAAAAAAAAAAAAAAAAAARAAACAAAkAAAAAQAAAAAAJAUABQAAAgAAAAAAAAMAAAAAAAAAAwUAAAAAAAAAAAAAJAAAGgAAAAAFAAAAAAAAAAAAAAEAAAABAAAAAAAFAAAAAAAAAwAAAAAAAAAiAAAAAAAAAAEAAAIAAAECBwAAAgAAAAAeAAAAAAEFAAAAAAAAAAkAAAIAAAAaAgAAAAAAAAAAAAAAAAAAAAAAAAAAIgAAAAMAAwAHAQAAAgAAAAAAAAAAAAAABQUAAAAAAEcCGgAABQAAAAMAAAAAAAAFBQAAAAABDQAHAAAAAAAAAAAAAwEAAAAAAAAAAAAAAAAAAAAABQAABSIFAQAAAAAAAAACAAAAAAIABwAAIiIAAQAAAgANAwAAAAAAAAAAAAIAAAAABQAAAAAAAAAFAgUAAAAAJAAAAAACAAAAAAAABQAAAQUAAAAAACIAAAAAAAAAAAAAAAAAAAAAAAAAAAAkAAAAAAACACQAAAAFAAAAAQIDACQAAAAcAAcGAAAACAAAAAAAAAADJAAAAAEAAAAAAAAaAAAAACIAAAACAAMAAAAAAAUAAAAFAAACBwAAAgUAAgAAAAAFAAAAAAIAAAACAAAAAAAAAAAFAAABAAADAAAAAAIDAAAHABsAAAAAAAAAAAIAAAAAJAAAAAAAIgAAAgAAACUABAAAAgAAAAAAAAAAAAAAAAAABwAAAAAAAgAAAgAAAwAAAAAAAAAACAAAAAAAAAAAAAIAAAAAAAAAABIAIgAAGgkAAAAAAAAAAAAAAQAHACQAAAQiAAAAAAAAAAUAAgAAAAAAHQACAAAAAAAAAAAAGgAHAAUAGgAAAgAAAA0AAAAABwUAAAkAAAAAAQAAAAAAAAAAAAAABwcAAAANAgAAAAAAAAACAAIAAAAAAAAAAAAABQAAAQAFAwIAAAAAAAUAAAMiAAQDAAAAAAAAAAAAAAAAAAAAAAAAAAAAAAAAAAAAAAMAAAAAAAAAAAIAAAAAAAAAAAAAAgAABQAAAAAAAAIAAAAAGgUHAAAlAAAABQAAAAYAAAAAAAAAAAAAAAAABwAAAAIAAAAAAAAAAAAAAAAAAAAAAAQAAQEHAAAAAAAAAAAHAAAFAAAAAgAAAAAAAAAAAAcFAgAAAAAiAAAAAAwAAAAAAAAAAAAAAAAkAAAAAAIAAAACABoAAAAAAAAAAAAAAAACAAAAAAACAAEAAAAABwAAAAABAAAAAAAiAAAAAAUCAAAAAQAAAAAAAAACAAAABQIEAAEBBwAAAAAAACICAAEAAAwAAAAiBwAAIgAAAAAAAAABAAAAAAAAAAAAAAAAAAAAAAAAAgAAAAAAAAAAAABHAAAAAAAkIgAAAAAAAAAAAgAAAgAFAgAAIgAAAAAFAg0AAAAAAAINAAAAAAAAAAIAAgAAAAAFAAEAAAAAAAAFAAAADAACAwAAAAAAAAAAAAACAAACAAAFAAAAAAABAAAAAwAHBwAFAAAAAAAAAAAAAAMAAAAAAAAAAAIAAAAAAAAAAAAAAAACBAAAAAckAAAAAAAAAAAAAAAAAQAAAAAAAAAAAAAAAAIAAAAiAAMAAAwAAAABBQAAAgAEAgAAAgAAAAAAAAEAAAAAAAIABQAHAAAABwAAAAAAAAAAAAAAAAAAAAUAAAUADQAADgQAAAAAAwAAAAAFAAACAAAABQAAAAAAAAABAAAABQciAAUAAAAABQAiIgAAAAAABQACAAAHAAAAAAAAAAAAAgUAAAAAAAAAAAIAAA0HBwABAAUAAgUAAAAAAAAHAAAABQAAAAAABQcABQAADAACAAAiAgAAAAYAAAAAAAAAAAAAAAAAAAAAJAUDAwAAAAAAAgAACAADAAAAACIAAQAABAAAAgAAAAACAAAAAAEAAAIAAAAAACkAAAIAAAAAAAIAAAAAAAAAAAAAAAAAAAAAAAAAAAAAAAAAAAAAAAAaAA0ADAcGAAAAAAAAAAAAAAAAAgAAAAAFAAIFAAAAJAAAAAAAAAAADQAAAAADAAMCAAACIgIFDAAAAwAAAAACAAAABQAHABokAAAAAAAAAAAAAiQCAAAFAAAAAAAAAAAAAAAkAAAAAAAAAAIAABoAAAAAAAAbAgAAAAAAAgAAAAAAAAAAACIAAAEAAAAAAAAAAAAAAAAAAAUADgMAAAAAAAAAAAAAAQAAAAAAAAAAAAAAAAAAAAUAAAAAAAAAAAAAAAAAAAAAAAAAAAAAAAADAAAAAAAAAAAAAAAAAAAAAAAAIgBHAAAAAA0AAAAACQ0ABQAAAAAAAgUiAAIAAQANAAAAAAAAAAAAAAAkIgcAAAABAgAAJAAkAAAfJAAAAAAAAAAAAAAAAAIAAAACAAABAAAAAAACCQAABQAAAA0AAAAAACIAAAUCAAAAAAMAAgAAAAAAAAADAAAAAAUAAAADAAAAAAAAAAEMAAAAAAAAAAAAAAAAAAAAAAAAAAAAAAAAAAAAAAAAAAAAAAcAAAAABQAAAAACAAACAgAAAAAHAAACGwANAAEAAAAAAAcABQAAAAEAAAAAAAAFAgADAAEFAAAAAAAAAAUaAAAAAAAAAAAAAgAAAAAAJAIAAAUAAAUAIgAAAAUAAgAAAAAAAAAaAAAFAAAAAAAAAAAABAAIAAAABQAAAAAAAwAAAAAAAAAAAAAAAAAAAAAAAAAAAAAAAQAAAAAAAAAAAAAHAAAAJAAAAAAAAAAAAAAAAAAAAAAAAAAAAAElAAAAAAAAAAAAAAcAAAAAAAEABwAHAAIAAAUABwAEAAAABQADAAAAAAAAAAAAAAACAAAHAAAAACIFDQIFAAAAAAAHAAQAAAAAAAAAAAAAHwAAAAAAAAAAAAAHACQAAAAAAAAAAAAAAgAAACQAGgAAAAAAAAAAAQAAIgAAAgAaBwAAAwUABQAAAAAAAAQAAA4DDQAAAgAAAAAAAAAABwAiAAAfAAIAAAAAAAAAAAIAAAAAAAAiAAAAAwAARwAABRoAAAAAAAAAAAAAABoAAAAAAAAAAAIAAAAAAAAAAAAAAAADAAAAAAAAAAAAAAAABwAAAAAFBwAAAAAAAAAFAAAAAAAAAAAAAAAAAAAAAAAAAAAFAQAAAAAAAwAHAAUAAAAAAAUAAQEAAAUAIgAAIgAAAAAAAAAMAAMAAAACAAUAAAAAAgAAAAAAABoAAAAAAAAAACIAAAcAAAAAAAAAAQAAAAAABQAAAwAAAAABAAAAGgACAAAAAAAAAAAAAAADAAAAGgcAAAMAAAAAABoAAAAAAAAAAAAiAQAAAAADAAAAAQAABwUCBgAAAAAABQAAJQAAAAAAJAAAAAAAAAAAJAYAAAAAAAAaBQAOAAAAAAAAAAIAAAAAAAADAAAHAAAAAAAbAAAEAAAAAAAAAAANAAAAAAAAAAACAAAAABoABQAAAwAAAAAAAAAAAgAfACIKBQUAAAAAAAAAAAADAAAAJAAAAAAAAAAAAAIAAAAAAAAFAAADAgAAAAADAAAABwAAAAAjAAAAAAACBQAABwEkAAcAAAAAAAAFAAAAAAANAAAAAAAAAAAAAAAAAAIAAAABAAAAAAAAAgAaAwAAAAAAAAABAAAABQAAAAABAAAAAAAAAAAAAAAAAAAAAAAAAAAAAAAAAQAAAAAAAAAAAAUAAA0CAAAAAAAAAAAFJAAaAAACAAAABQAAAAAABSQAAAAADQAAAQAAAAUAGgAAAAAiAAAFAAANAAAAJQACAAAAAAcDAAAAAAMAAAAAAAAAAAABAAAAJQIDAAAAAAAAAAAAAAAAAAAAAQcAAAcAAAAHBwAAAAAAAAAAAAAEAgwAAAACAAACGgAAABoAAAACAAAABwAAAAAABQACAAAAAAAAAAAAAAAAAgAAAwAAAAcAAAADAAAAAAIFAAAHAAUAAAEIAAAAAAAAJAAAAAAAAAAAAAIAAAACAAAAAAMAIgAABQACAAMAAAUAAAIAAAAAAAAAAAAAAAAHAAAAAAAABwAAAAAAAAAGAAAAAAACJAANAAAABwAAAAIAAAAAAAUAAAAAAAAAAAAACAAHAAACAAADAAAAACQAAwAABgAADQEkAAAAAAABAgcAAAAAAAAAAAABAAAAAgAADQAAAAAAAAABAAIAAAAAAAAAAAcDAAAFAAIAAAAAAAAAAgAAAAAAAAAAAAACAAAHAAAAAAAAAiIAGgAAAAIAAAAAAAAAAAAAAAkEAAAHAAAAAgAAAAAAAAAAAAAAAAAAAAAAAAAiAAADAAAAAAAAAAIAAAAAAAAAAAAAAAANAAAAAQAAAgIAAAAAAAAAIgAHAAAiAAAiAAAAAAIAAAUAJAIAAAAAAAAAAAAaAAAAAAAAAAICGgAAAAAHBQAFAAAAAAcAAAAAAAAAAAAAAAAAAAQAAgAAAAAAAAAAAAAAAAAAAAAAAAAAAAMAAAAAAAAAAAAAAAAAAAANAAAAAAAAAgAAAAADGgAAAAAAAAAAAAAAAAABAQAABwAAAAAAAAAHAAAAAAAAAAADAgABAAACAAAAAAACBxoAAAAAAAAAAAAAAAAAAAAAAAAAAAAAAAAAAAAAAAAAAAIAAAADAAIAAAEABwAAAAAAAAAAAAAAAAAAAgAAAAAAAAAAAAAAAwIAAAANAAAAAAAAAAACAAcAAAAAAAQCAAwAAAAAAAAAAAAAAAAAAAAKAwAHDQkHDQACCQMDEAUAAAAAAAAAAAAABgAHAAAAEAABDgAFDQAAAQoAAAAAAAAAAAcAAAAHAAAAAAAAAAAAAAACAAAAAwYFAAAHAAABAAAAAAAAAAAAAAAAAAEAAA0DAAAAAAAADAAAAQAAAAAAAAAAAAAAAAcAAAcAAwAAAAUAAAABAAMAAAAAAAAAAAAAAAAAAAAAAAAAAAACAAAAAwAAAAAAAAAAAAAAAAAAAAAAAAAAAAAAAAAAAAAAAAAAAAAAAAAAAAAAAAAAAAAAAAAAAAAkAAAAAAAAAAcAAAAAAAAAAAAAAAAAAAAAAAAACQACAAAAAAAACQAAAAAAAAIBAAAAAAAAAAAAAgABAAAAAAAAAQAAAAABAAAGAAAAAAAAAAAAAAAAAAAAAAAAAAAAAwABAAAAAgAAAAAAAAAAAAAAAAAAAAAAAAAAAAAAAAAAAAABAAAAIgAAAAAAAAAAAQAAAAEAAAAAAAAAAAAAAAAAAAAAAA0BAAAAAAAAAAAFBwAAAAAAAAAAAAAAAAABAAAAAAAAAAAAAAAAAAAAAAAAAAAAAAAAAAAAAAAAAAAAAAAAACIAACIAAAAAAAAAAAAAAAAAAAMAAAAAAAAAAAAAAAAAAgAAAAAAAAIAAAEkAAAAAAAAACQAAAAAAAMAAAAAAAAAAAACAAAAAAAAAAAAAQAAAAAAAAAAAAAAAAAAAAAAAAAAAgAHAAUBAAAAACYAAAAAAAAAAAAAAAAAAAAAAAAAAAAAAAAAAAAAAAAAAAAAAAAAAAAAAAAAAAAAAAAAAAIAAAACAAAAAAAAAAAkAAAAAAAAAgAAAAAAAAAAAAAAAAUAAAAAAAAAAAAAAAAAAAAAAAUBAgAAAAAAAAAAAAAAAAAAAAAAAAADAAAAAAAAAAAAAAAAAAAAAAAkAAAAAAAAAAAAAgAAAAAAAAAAJQAAAAAAAAAAAAAAAAAAAAAAAAAAAAAAAAAAAAAAAAAAAAAAAAABAAAAAAAAAQAHAAAAAAAAAAAAAAAAAAACAAAAAAAAAAUCBQAAAAAAACIDAAAAAAAAAAAAAAAAAAAAAAAAAAAAAAAAAAEBAAAAAAAAAAAAAAAAAQAAAAAAAQAAAAABAAAHAAAAAAAAAAABAAAaAAAAAAAAAAAAAAAAAAAAAAAAAAACAAAAAAAFAAAAAAAAAAABAAAAAAAAAAAAAAAAAAAAAwAAAAAAAAAAJAAAAAAAAAAAAAABAAAAAAAAAAAGAAAAAAAAAAAAAAIAAAAAAAAAAQAAAAAAACICAAAAAAAAAAAAAAAAAAAAAAAAAAAAAAIAAAAAAwAAAAAAAAAHBQAAAAAAAAAAAAAAAAAAAAAAAAACBwAAAAAAAAAAAAIAAAAAAAAAAAAkAAAAAAAAAAAAAAAAAAEAAAAAAQAAAAAAACQAAAAAAAAAAAAiAAAAAAADAAAAAAAAAAIAAAAAACIBAAAAAAACAAAAAAAAAAABAAEAAAAAAgAAAAAAAAAAAAAkAAAAAAAAACQAAAAAAAAAAAEAAAAAAAAAAAAAAAAAAwAEAAAAAAAkAAAAAAACAAAAAAEAAAAAAAMAAAAAAAAAAAAAIgEAAAIBAAAAAAAiAgABAAAAAAAAAAAAAAIAAAAAAAAAAAAAAAAAAAAAAAAAAAAAAQAAAAAAAAAAAAIAAAIDAAAAAAAAAAAAAAMAAAoAAAAAAAAAAAAAAAMAAAIAAAAAAAAAAQAAAAAAAAAAAAAAAAAAABoAAAAAAAIAAAAAAAAAAAAAAAAAAAAAAAAAAAABAAAAAAUAAAEAAAAAAAAAAAAAAAAAAAAAAAAAAgAAAAAAAAABAAAAAAAAAAAAAAAAACQAAAAkAAAAAAAAAAAAAAAAAAAAAAAAAAAAAAAkAAAAAAAAAAMAAAAAAAAAAAAASAAAAAAAAAAAAQAAAQAAAAAAAAABAAAAAAAAAAAAAAIAAQAAAAAAAAUBAAAAAAAAAAAAAAAAAAAAAAMAAAAAAAAAAAAAAAAAAAAAAAAkAAACAAAAAAAAAAAAAAAiAAAAAAAAAAAAAAAAAAAAAAAAAAACAAUAAAAAAAAAAAAAAAAAAAAAAAAAAAAAAAAAAAAAAAAAAAAAAAAAAAAAAAAAAAAABQAAAAAAAAAAAAAAAAAAAAAAAAAAAAAAAAAADAAAAAAAAAAAAAAAAAAAAAAAAAUAAAAAAAAAAAAAAAAABQAAAQAAAAEAAAIAAAAAAAAAAQAAAAAAAAAAAAAAAAAAAAAAAQEAAAAAAAAAAAACAAAAAAAAAQAAACQAAAAAAAAAAgAAJAAAAAAAAAAAAAEiAAABAAAAAAAAAgACAAAAAAAAAAAAAAABAAAAAAAiJAAAACQAAAAAAAAAAAAAAAAABQAAAAAAAAEAAAAAAAABAAAAAgAAAAEiAAAkAAAiAAAFAAAAAAAAAAAAAAABAAAABQAEAAAAAAAAAQAAAAAAAAAAAAAAAAAAAAAAAAAAAAAAAAAAAAAAAAAkAAAAAAAAAAAAAAAAAAAAAAAAAAACAAAAIgABAAAAAAAkAAcAAAAAAQAAAAAAAAAAAAAAAAAAAAMAAAAAACQAACQAAAAkAAAAAgAAACIAAAAAAAAAAAAFAAAAAAAAAAAAAAAABQABAAAAAAEAAAAAAAAAACQAAAAAAAAAAAAAAAIFAAAAAAAAAAAAAAAAAAAAAAEAIgAAAAAAAAAAAAAFAQAAAAAAAAEAAgAAAAAAAwECAAADAAEDAAAAAAAAIgAAAAAAAAAAAAAAAAAAAAAAAAAAAAIAAAAAAAAAAAAAAAAAAAAAAAAAJAAAAAAAACQAARoAAAAABQAAAAAAAAAAAAAAAAAAIgAAAAAAAAAAAAAAAAAAAAAAAAAAAAAMAAABAAAAAAAAAAANAAAAAAAAAAAAAAAAAAAAAAAAAAAAAAAAAAAAAAAAAAEAAAAAAAAAAAAAAAAAAAAAAAAAAAAAAAAAAAAAAQABAAAAAAAADAQAACQAAAAAAAABAAAAAAEAAAAAIgAAAAAAACIAAAAAAQAAAAAAAAAAAAAAAAAAAAAAAAECAAAAAAAAAAAaAAAAAAAAAAAAAAABAAIAAAADAAIAAAAAAAAiAAADAAAAAAAAAAAAAAAGAAAAAAAAAAAAAAAAAAAABQAAAAAAAAAAAAAAAAAAAyQBAAACAAAAAAAAAAAAAAAAAAIAAAAAAAAAAAMAAAAAAAAAAAEAAgAAJAAAAQAAAAAAAAAAAgAAAAAAAAEAAAAAAAAAAQAAAAAAAAAAAAAAAAAFAAABAAAAAAAAAAAAJAAAAAAAAAAADAAAAAAAAAAAAAAAAAABAAAAAAACAAAAAwAAAAAAAAAAAAAAAAAAAAAAAAAAAAAAAAAAAAAAAAAAAAEAAAAAAAAAAAAAAAAABQAAAAACAAAAAAAAAQAAAAABAAAAAAAAAAAFAAAAAAAAAAAAAQIAAAAABQAAAAAAAAAAAgAAAAAAAAECAAAAACIAAAAAAAAAAAAAAAEAAAAAAAAAAAAAAAEAAAAAAAAAAAAAAAAAAAAAAAAAAgAAAAAAAAAAAAAAAAAADQAAAAAkAAAAAAAAAAACAAADAAAAAAAAAAAAAwAAAQAAAAACAAEAAAAAAAAAAAAAAAEAAAAAAAAAAAACAAAAAAAAAAAAAAEAAAAAAAEAAQAAAAAAAAAAAAAAAAAAAAAAAAAAAAAAAAAAJAAFAAAAAAAAAAAAAAAAAAAAACQHAAAAAAAAAAEAAAABAgAAAQAABgAAAAAAAAAAAAAAAAAAAAAAAAkAAAABAAAAAAAAAAAAAAAAACIAAAAAACQAAAABAAAAAAAAAA0AAgAABwAAAAAAAAAAAAAAAAAAAAAAAAAAIgAAAAAAAAACAAAAAAAAAAAAAAAFAAAAAAAAAAAAAAAAAAAAAAAAAAAAAAAAAAAAAAAAAAAAAAAAAAAAAAAAAAAAAAAAAQAAIgAAAAAAAAAAAAAAAAAAAAAAAAAAAAAAAAAAAAAAAAAAAAACAAAAAAAAAAADAAACAAAAAAAAAAAAAAEAAAAAAAEAAAAiAAAAAAAAAAAAAAAAAAACAAAAAAAAAA0AAQAAAAAAAAAAAAEAAAAkAAAAAAAAAAAACAAiAAAAAAAAJAAkAAAAAAAAAAAAAAAAAAAAAAEAAAAAAgAAAAIAAAAiAAAAAAAAAAAAAAAAAAMAAAAAAAAAAAAABQAAAQAAAAAAAAAAAAAAAAAAAAAAAAAAAAAAAAAAAAAAAAAAAAAAAAAAAAAAAAAAAAAAAAAAAAAAACkAAAAAAAAAAAAAAgAAAAAAAAAAAAUAAAAAAAAAAAAAAAAAAAAAAAAAAAAAAAAAAAAAJAAAAAAAAAAAAAAAAAEAAAADIgAAAAAAAAAAAAAAAAcFAAcAAAAAAAAAAgAABQAAABoAAAABAAUAAAAAAAAAJQUAAAAAAAAAAAAAAAACAAAFAAAAAAAAAAAAAAAAAAAAAAAAAAAAACQAAwAAAAAAAAAAAAAAAAAAAAUIBQEAAAAAAAAAAAAAAAAAAQABAAcAAAAAAAAAAAAAAAAAAAAAAAAAAAAAAAAAAAAAAAAEBQAAAAEiAAAAAAAAAAIAAAAAAAAAAAAAAAAAAAAAAAADAAAAAAAAAAEAAQAAAQIAAgAAAAAAAAAAAAEAAAEAAAAAAAAAAAIAAAAAAAAAAAABAAACAAAAAAAAAAAAAAAAAAAAAAAAAAAAAAAAACQBACIAACQAAAEBAAAAAAMAAAAAAAAFAAAAAAAAAAACAAAAAAAAAAAAAgAAAAAAAAAAAAAFAAAAAAIAAAAAAAADAAAAAAAAAAABAAAAAAAAAAAAAAAAAAAAAAAAAAAAAAAAAAAAAAEAAAAAAAAAAAAAAAAAAAAAAAAAAAAAAQAAAAAAAAAAAAAAAAEAAAAAAAAAAAAAAAUBAAAAAAIAAAABAAAAAAAAAAMAAAAAAgAAAAAAACIAAAAAAAABAAAAAAAAAAAAAAMAJAEAAAAAAAAAAAAAAAAAAAAAACMAAA0AAAAiAAUAAAAAIgAAAAAAAAAAAAAAAAAAAAAAAAAAAAAAAAACAAAAAAAAAAAAAAAAAAAAAAAAAAAAASIAAAAAAAAAAAEAAAAAAAAAAAAAAAAAAAAAAAAAAAAAAAAAAAAAAAADDQAAAAABAQAAAgAAAAABAAAAAAAABQAAAAAAAAAAAAAAJAAAAgAAAAAAASIAAAAAAAEBAAEAAQAAAAAAAAAAAAAAAAADAAAAAgAAAAAAAAAAAAAAAAAAAAAAAAEAAAAAAAAAAAAAAAAAAAAAAAAAAAAAAAAEAAAAACQAAAEAAAACAAAAAAAAAAAAAAAAAAEAACQAAAIAAAAAAAAAAAACAAAAAAAAAAAAAAAAAAAAAAAAAAAAAAAAAAAAAAAAAAAAAAAAAAAABQIAAwAEAAAAAAAAAAAAAAAAAAAAAAAAAAEAAAAAAQAiAAAAAAAAAAAAAAAAAAEAAAAAAQAAAAAAAAAAAgAAAAAAAAAAAAAAAAAAAAAAAAAAAAAAAAABAAAkAAAAAAADAAAAAAAAAAAAAAIAAAAAAAAAAAAAAQEAAAEAAAEAAAAAAAAAAAAAAgAAAAAAAAAAAAAAAAAkAAAAAAAAAAAAAAAAAAMAAAAAAAAAACQAAAAABwAAAAAAAAAAAAAMAAABAAAAAAAkAAAAAAAAAAAAAAAAAAAAAQAAJAAAAAAAAAAAAQEAAAAAAAAABQAAAAAAAAAAAAAFAAAAAAABAAAAAAAAAAAAAAAAAAAAAAAAAAAAAAAAAAAAAAAAAAAAAAAAAAAAAAAAAQAAAAAAAAAAAAAAAAAAAAAAAAICAAAAAAAAAAAAAQAAAwAAAAAAIgAAAAAAAAAAAAAAAAAAAAAAAAAAAAAAAAACAwAAAAAAAAAAAAAAIgAAAAAAAAAAAAAAAAAAAAAAAAAbAAACAAAAAAAAAAAAAAIAIgAAAAEAAAAAAAAAAAAAAAcAAAAAAAUAAAAAAAADAAAAAAAAAAAAJCQAAAAAAAEAAAAAAQAAAAAAAAAAAAAAAAAAAAAAAAAAAAAAAAAAAAAAACIAAAAAAAAAAAEAAAMAAAAABQAAAAAAJAIAAAAAAAAAAAAAAAAAAAEAACIAAAAAAAAAAwAAAA0AAAACAAAAAAAAAAAAAAAAAQAAAAABAAAAAAAAAAAAAAAAAAAAAAAAAAAAAAAAAAAAAAAAACQAAAAAAAAAAAAAAAAAACQAAAAAAAAAAAAAAAAAAAAAAAAAAAAAAAAAAAAkAAAAAQAAAAAAAAAAAAAABQAAAwAAAAAAAAACAAAAAAAAAAAAACIAAAAAAAAAJAAAAAAAAQAAAAAAAQABAAAAAAAAAAAAAAAAAAAiAAAAAAAAAAAAAAEAAAAAAAAAAAMAAAAADAAAAAUAAAAAJAAAAAAAAAAAAAADAAAAAAAAAAAAAAAAAAAAAAAkAAAAAAAAAAAAAAAAAAIAAAABAAAAAAAAAAAAAAAAAAAAAAAFAAUAAAAAAAAAAiQAAAAAAAAAAAAAAAAAAAAAAAABAAAAAAAAAAAAJAAAABoAAAAAACQAAAAAAAAAAgAAAQAAAAAAAAEAAAEAAAAAAAAAAAAAAAAAAAAAAAAAAAAAAAAAAAEAAAAAAAAFAAAAAA0AAAAAAAAAAAAAAgYBAAAkAAIAAAAAAAAAAAAAAAAiAAAAAAAABQAAAAAAAAAAAAAAAAAAAgAAAAAAAAAAAAAAAAAAIwAADAAAAAAAAAAAAAAAAAAAAgAAAwAAAAAAACQAAAAAAAAAAAAAAAAAIgAAAAAAAAAAAAUAAAAAAAAAAAAADQAAAAAAAAAAAAEAAwAAAAAAAAAAAAAAAAAAACQAAAAAABoAAAAAAAAAAAAAAAAAAwAAAAAAAAAAAAAAAAEAAAAAAAAAAAAAAAAGAAAAAAAAAAAAAAAAAAAAAAAAAAAAAAAAAAEAAAAAAAAAAAAAAAAAAAAAAAAAAAAAACQAAAAAAgAAAAAAAAAAAAAAAAAFAAEAAAAAAAAABwAAAAAAJAAAAAEAAAAAAAAAAAAAAAAAAAADAAACAAAAAAAMAAAAAAAAAAAAAAAAAAAAAAAAAAEAAAAAAAAAAAAAAAAAAAAiACQAAAIAAAAAAAAAAAIAAgAAAAAAAAAAAAAAAAAAAAAAAAAAAAAABQAAAAACAAAAAAAAAAAAAAAAAAAAAAAAAAAAAAAAAAQAAAAAAAAkAAAAAAAAAAAAAAAAAAAAAAAAAAoAAAAiAAAAAAAAAAAAAAEAAAAAAAAAAAIAACIAAAAAAAAAAAAAAAAAAAAAAAADAAAiAAAAAAAAAAAAAAAAAAAAAAAAJAAAAAAAAAAAAAAAAAAAAAcAAAAAAAABAAAAAAIAAAAAAAIAAAAAAAAAAAAAAAAAAAAAAAAAAAAAAAACAAAAAAABAAEAAAAAAAAAACIABwAAAAIAAAAAAAAAAAIAAAAAAAAAAAAAAAAAAQAAAAAAAAAAAAAAABoAAAUBAAAAAAAAAAANACIAAAAAAAAAAAAAAAAAAgAAAAIAAAAAAAAAAAABAAAAAAAAAAAAAAAAAwAAAAAAAAAAAAAAAAAAAQAAAAAAAAACJAAAAAAAAAAAAAAAAAAAAAAAAAAAAAAAAAUAAAAAAAAAAAAFAAAAAAAAABoAAAAAAAAAAwAAAAAAAAAAAAAAAAAAAAAAAAADAAIAAAAAAAIAAAAAAAAAAAAAAAAEAAAAAAAAAAAAAwEAAAAAAAAAAwAAACQAAAAAAwADAAAAAAAAAAAAAAAAAAAAAAAAACQAAAAAAAAAAAAAAAAAAAMAAAAAAAAAAAAFAAAABwABAAAAAAAAAAACAAAAAAEAAAABAAAAAAAAAAAAAAAAAAMAAAAAAAAAAAcDAAAAAAAAAAIAAAAAAAAAAAAAAAAAAAAAAAAAAAABAAAAAAAAAgAAAAAAAAUAAAAAAAAAAAcAAAAAAAAAAAAAAQAAAAAAIgAAAAABAAAAAAAAAAAAAAAAAAAiAAAAAAIAAAAAAAAAAAEAAAAAAAAAAAAAAAABAAAAAAAFAgAAAAAAAAAAAAAAAAAAAAAAAAAAAAAAAAAAAAAAAAAAAAAAAAAiAAAAAAAAAgAAAAABAAAAAAAAAAAAAAAAAAAAAAAiAAECAAAAAAAAAAAAAAAAAAAAAAAAAAAAAAAAAAAAAAAAAAAAAAAAAAAAAAAAAAAAAAAABQAAAAAAAAAAAAAAAAABAAAAAAAAAAAAAAAAAQAAAAAAAAAAAAAAAgAAAAAAAAAAAAAAAAAAAAAAAAAAAwAAAAAAAAEBAAAAAAAAAAAAAAAAAAAAAAAAAAAAAAAAACIAAAAAAAAAJAADAAAAAAAAAAkAAAEAAAAAAAAAAAEAAAAAAAAAAAAAAAAAAAAAAAAAAAcAAAAAAAAAAAAAAAAEAAEAAAAAAAAAAAAAAAAAAAAAAAAAAAAAAAAAAAAAAAAAAAAAAwAAAwAAAAAAAAAAAAACAAAAAAAAAAAAAAAAAAAkAgAAAAAAAAAAAgAAAAAAAAAAAAAAAAEAAAAAAAAAAAAAAAAAAAAAAAUAAAEDAAAAAAEAAAAAAAACAAAAAAAAAAAAAAAAAAAAAAAAAAAAAAEAAAAAAAAAAAAAAAAAAAEAACIAAAAAAAAAAAAAAAAAAAAAJCQAAgABAwAAAAAAAAAAAAAAAQAAAAAAAAAAAQAAAAAAAAEAAAADAAAAAAAAAAABAAAAAAAAAAAAAAAAAAAAAAAAAAAAAAADAAAAAwAAAAAAAAAAAAIkAAAAAAAAAAAAAAAAAAAAAAAAAAAAAAAAAAAAAAAAAAAAAAEAAAIAAgAAAAEAAAAAAAAAAAAAAAEAAAAJAAAAAAEAAAAAAAAAAAAAAAABAAAAAAAAAAAAAAAAAAAAAAAAAAIAAAAAIgAAAAAAAAAAAAAAAAAAAQAAAAAAAAAAAAAAAAAaAAAAAAAAAAAAAAAAAAAAAAABAQABAAAAAAAAAAAAAAABAAAAAAAAAAAAAAAAAQAAAAAAAAIAAAAAAAAAAAAAAAAAAAAAAAABAAACAAAAAAAAAAAALgAAAAABAAAAAAAAAAAAAAAAAAAAAAAAAAAAAAAAAAAAAAAAAAAAAAEABQAAAAAAAAABAAAAAAAAAAAAAAAAAAAAAAAAAAAAAAAAAAABAAABAAAAAAAAAAAAAAAAAAAkAAAAAAAAAAAAAAAAAQAAAAEAAAEAAAAAAAAAAAAAAAAAAAAAAAAAAAAABAAkAQAAAAIAAAAAAAAAAAACAAAAAAAAAAAAAAAAAAAAAAAAAAEAAAAAAAABAAAAAAAAAAAAAAAAAAAAAAAiAwAAAAAAAgAAAAAAAAAAAAAAAAAAAAAAAAAAAAAAAAAEAAAAAAABAAABAAIAAAAAAAAAAAAAAAAAAAAAAAAAAAAAAAAAAAAAAAAAAAAAAAAAAAAAAAAABwAAAAAAAQAAAAAAAAAAAAAAAAAAAAAAAAAAAAAAAAAAAAAAAAAAAAAAAAAAAAAAAAAAAAAABQAAAQAAAAAAAAAAAAAAAAAAAAAAAAAAAAAAAAAAAQAFAAAAAAAAAAAAAAAAAAAAAAAAAAAAAAAAAAAAAAAAACIAAQAAAAAAAAAAAAAAAAAAAAAAAAEAAAAAAAAAAAAAAAAAAAAAACIBAAAAAAAAAAAAAAAAAAACAAAAAAAAAAAAAAAAAAAAAAAAAAAAAAAAAAAAAAAAAAAAIgAAAAAAAAAAAAAAAAAAAAAABQAAAAAAAAAAAAAAAQAAAAEAAAAAAAAAAwAAAAAAAAAAAAAAAAAAAQEAAAAAAAAAAAAAAAAAAAAAAAAAAAAAAAAAAAAAAAAAAAAAAAAAAAAAAAAAAAEAAgAAAAABAAEAAAAAAAAAAAAAAAAAAAAAAAAAAAcCAAAAAAAAAAAAAAAAAAAAAAAAAAAEAQAAAAAAAAAAAAAAAAAAAQAAAAAAAAABAAAAAAAAAAAAAAAAAAAAAAAAAAAAAAAAAAAAAAAAAAMAAAEAAAAAAAAAAAAAAAAAAAAAAQAAAAAAAAAAAAAAAAAAAAAAAAAAAAAAAAAAAAAAAAAAAAAAAAAHAAAAAAAABQABAQAAAAAAAAAAAAEAAAAAAAIAAAAAAAAAAAACAAAAAAAAIgAAAAAAAQAAAAAAAAAAAAAAAAAAAAAAAAAAAAAAAAAAAAAAAAAAAAAHBQAAAAAAAAACAAAAAAAAAAEDBQAAAAAAAAAAAAAAAAAAAAIAAAAAAAAAAAAAAAAAAAAAAAAAAAAAAAAAAAIAAAAAAAMAJAAAAAABAAAAAAAAAAEAAAAAAAAAAAAAAAAAAAAAAAAAAAAAACIAAAAAAAAAAAoAAAAAAAAAAAAAAAAAAAAAAAACAAIAAAAAAQAAAAAAAAAAAAEAAAAAAAAAAgAAAAAAAAAAAAAAAAAAAAAAAAwAAAAAAAAAAAAAAAAaAAAAAAAAAAAAAAAAAAAAAAAAAQAAAAAAAAAAAAAAAAAAAAAAAAAAAAACAAAAAAAAAAAAAAAAAAAAAAAAAAAAAAAAAAAAAAAAAAAAAAUAAAAAAAAAAAABAAAAAAAABgAAAAAAAAAAAAAAAAAAAAAAAAAAAAAAAAAAAAAAAiIAACIAAAAAAQAAAAUAAAAAAAAAAAAAAAAAAQAAAAAAAAAAAAAAAAIBAAAAAAAAAAAAAAAAAAAiAAAiAAANAAAAAAAAAAEAAAAAAAAAAAAAAAAAAAAAAAAAAAAAAAAAAAAAAAAAAAAAAAAAAAAAAAAAACIAAAAAAAECAgAAAAAAAAAAAAAAAAAAAAAAAwAAAAAAAAAAAAAAAAAAAAAAAAMAAAAAJAAAIgAAAAAAAAAAAAAAAAAAAAABAQAAAAAAAAAAAAAAAAAAAAAAAAAAAAAAAAAAAAAAAAAAAQAAAAAAAAAAAAAAAAAAAAAAAAAAAAAAAAAAAAABAAAAAAAAAAAAAAAAAAAAAAAAAAAAAAAAAAAAAAAAAAAAAQAAAAAAAAAAAAABAAAAAAAAAAAAAAAAAAAAAAAAAAAAAAAAAAABAAAAAAAAAAAAAAAAAAAAAAAAAAEAAAAAAAAAAAAAAAAAAQAABwACAAAAAAAFAAAAAAAAAAADAAIAAAAAAAAAAAIAAAAAACQAABkAAAAAAAACAAAAAAAAAAAAAAAAAAAAJAAAAAAAAAAAAAAAAAAAAAAAAAAAAAAABQAAAAAAAQEAAAAAAAAAAAAAAAAkAAAAAAACAAIAAAAAAAAAAAAkAAAAAAAAAAAAAAAkAAIAAAAAAAALAAIAAAIAAAAAAAAAAAAAIgAFAAAAAAAAAAAAAAAAAAAAAAAAAAAAAAAjBAAAAAAAAAAAAAAAAAAAAAIAAAAAAAAAAAAAAAAAAAAAAAAAAAAAAAAAAAAAAAAAAAAAAAAAAAAAAicAAgAAAAAABQIAAAAAAAAAAAAAAAAAAAAAAwAAAAAAAAAAAAABAAAAAgAAAAAAAAAAAAAAAAAAAAAAAQAAJAAACAAAAAAAAAAAAQAAAAAAAAUCAAAAAAAAAAAAAAAAAAABAAICAAAAAAAAAAAAAAAAAAABAAAAAAAAAAAAAAAAAAAAACQAAAAAAAAAAAAFAAAAAAABAAAAAAAAAAAAAQAAAAAAAAAAAAEAAAAAAAAAAAAAAAAAAAAAAAAAAAACAAEAAAAAAAAAAAAAAAAAAAAAAAAAAAAAAAAAAAAAAAAAAAAAAAAAAAAAAAIAABAAAAAAAAAAAAAAAAAAAAEAAAAAAAAAAAAAAAAAAAAAAAAAAAAAAAAAAAAAAAAAAAAAAAAAIwAAAAAAAAAAAAAAAAAAAAADAAAAAAAAAAABAAAAAAAAAAACAAAAAAABAAAAAAAAAAAAAAAAAQAAAAAAAAAAAAEAAAAAAAAAAAAAAAAAAQAAAAAAAAAAAAAAAAAAAAAAAAAAAAAAAAAAAAUAAAAAAAAAAAAAAAAAAAAAAAAAAAAAAAAAAAAAAAIAAAAAAgAAAAAABQAAAAAAAQAAAA0AAAABAAAAAAAkAAAAAAAABwAAAAAAAAAAAAAAAAAAAAAkAAAAAAABAAAAAAAAAAAiABoAAAAGAAAAAAAAAAAAAAAAAAAAAAAAAQAAAAACAAAAAAMABQAkAiQAAAAAAAAAAAUAAAAAAAAAAAAAAAAAAAAAAAAAAAAAAAAFAAAAAAAAAAAAAAAAAAAAAQAAAAAAAAAAAAAAAAAAAQAACAAAAAAAJAAAAgAAAAAAAAAAAgAHAAEAAAEAAAAAAAAAAAAAAAAAAAAAAAAAAAEAAAAAAAIAAAAHAAADAAAAAAAAAAUAAAcAAAAAAAAAAAABAAAAAAAAIwAAAAAAAAAiAQAAAAAAAQAAAAAAAAIAAAAAAAEAAAAAAAAAAAAAAAAABAAAAAAAAAAAAAAAAAAAAAAAAQAAAAAAAAAAIiIAAAAAAAAAAAAAAAMAAAABAAAAAAAAAAEAAAAAAQAAAAAkAAIAAAMAAAAAAAAAAQABAAAAAAAAAAAAAAAAAAAAAAABAAAAAAAAAAAAAAAAAAAAAAAAAAAAAAAAAAAAAAAAAAAAAAAAAAAAAwAAAAAAAAIAAAAAAAAAAAAAAAAAAA8kAgAAAAABAQMAAAAADAAAAAAHAAAAAAAAAAAAAAABAAAAAAAAAAAAAAAAAQAAAAAAAAIAAAEAAQACAAAAAAAAAAEAAAAAAAEEAAAkAAAAAAAAAAAABQACAAAAAAAAAAIAAAAAAAAAAAAAAAAAAAAAAAAAAAAAAAAAAAAAAAAAAQAAAAAAAAAAAAAiAAAAAAAAAAAAAAcAAAAAAAAAAgAAAAAAAAAAAAAAAAACAAAAAAAAAAAlAAEAAAAAAAADAAAAAAAFGgAAAAAAAAAAAAAAAAAAAAIAAAAAAAAAAAAAAAABAAAAAAAAAAAAAAAiAAAAAAAAAwACAAAAAAACAAAAAAAAAAAAAAAAAwAAAAQAAAAAAAAAAwAAAAAAAAAAAAAAAAAAAAAAAAAAAAEAAAABAAAAAAABAAAAAAAAAAAAAAAAAAAAAAAAAAAAAAAAAAAAAAAAAgAAAAAAAAAAAAAAAQMAAwAAIgAAAAAAAAMAAAAAAwAAAAAFAAACAAAAAAAAAAAAAAAAAAoAIgAAAAAAAAABAAABAAAAAAAAAAAMAAAAAAAAAAAAAAABAAAAAAAAAAAAAAAAAAAAAAAAAAADAAEAAAAAAAAAAAAAAAQAAAAAAAAAAAAAAAEAAAAAAAAAAAEAAAAAAAAAAAAAAAAAAAAAAAAAAAAAAAAAAAEAAAAAAAAAAAAAAAAAAAMAAAAAAAAAAAAAAAAAAAAAAAAAAAAAAAAAAAAAAAAAAQAAAAAAAAAAAAAAAAAAAQAAAAACAAABASQAAQAAAAAAAAABAAAAAAAAAAAAACQiAAACAAACAAAAAQABAAAAAAAAAAAAAAAAAAAFBwAAAAACAAUAACYAAAAAAAAAAAAAAAAAIgAAAAAAAAAAAAAAAAAjAAAAAAAAAAAAAAAAAAEAAAAAAAACAAAAAAAAAAAAAgAAAAAAAAAAAAAAAAAiAAoAAgACAAAAAAAAAAAAAAAHAAAAAAAAAAAAJCQAAgAAJAABAAAAAAAAAAAAAAABAAAAAAAAAAAAAQAAAAUAAQAAAAAAAAAAAAAAAAIAAAAAAAAFAAAAAAAAAAAAAAAAAAAAAAAAAAAAAAAAAAAAAAACAAAAAAAAAAAAAAAABgAAAAAFAAAAAAAAAAAAAAAAAAAAAAAAAAAAIwAAAAAAAAAAAAAAAAMAAAAAAAAAAAAAAAAAABoAAAAAAAAAAAAAAAABAAAAAAAAAAAAAAAAAAAAAAAAAAAAAAAAAAAAAAAAAAAAAQAAAAAAAAAAAAAAAgAAAAABAAAAAAAAAAAAJAAAAAAAACIAAAAAAAAAJAAAAgAAAAAAAAAAAAAAAQAAAAUAAAAAAAAiAAAAAAAABQAEBQAAAAAAAAAAAAAAAAAAAAAAAAUHAAAAAAAHAgAAAAIAAAACAAAAAAAiAAAAAAADAAAAAAAABAAAJAMAAAAAAAAAAAAAAAAAAAAAJAACAAAAAAAAAAAAAAABAAEkAAAAAAAAAAAAAAAAAAAAAAAAAAAAAAADAAEAAAAAAAAAAAAAAgAAAgAAAAAAAAAAAAAAIgAAAAAAAAAAAAAAAAAAAAAAAAAAAAAAAAADAAAAAAAAJAAAAAAAAAAAAAAAAAAAAAAAAwAAAAAAAAAAAAAAAAAAAAAAAAAAAAAFAAAAAAAAAAAAAQMAAQABAAAAAAAAAAADAAUAAAAAAAAAAAAAAAAAAAAAAAAAAAAAAAAAAAAAAAAAAAAAAAAAAAAAAAAAAAAAAAAAAAAAAAAAAAAAAAAAAAAAAAAAAAEAAAABAAAAAAAAAAAAAAAAAAAAAAEAAAAABAAAAAAABwAAAAAAAAACAwAAAAAkAAAAAAAAAAAAAAAAAAAAAAAAAAABAAAAAAABAAAAAgUAAAAAAAAAAAIAAAAAAAAAGgAAAAAAAAAAAAAAAAAAJAAAAAAAAAAkAAAAAAIAAAAAAAAAAAIkAwAiAAAAAAACAAAAJAAAAAAAAAAAAAAAIgAAAAAAAAAAJAICBwAAAAAAAAAAAAAAAAAAAAAAAAAAIgAAAAAAAAAAAAAAAAABAAAAAAAAAAAAAAABAAAABQAAIgAAAAAAAAEAAAAAAAAAAgAPAAAAAAAAAAABAAABAAAAAAAAAAAAAAAAAAEAAAAAAAAAAQIAAAAAAAAAAAABAAAAAAAaDQAAAQwAAAAAAAAAAiIAAAAAAAAAAAAAAAAFAwAAAAAAAAIAAAAaAAAAAAAAAAAAAAAAAAAAAAEAAAAAAAAAAAUAAAAAAAAAAAAAAAAAAAAAAwAAAAAAAAAAAAAAAgEAAAIAAAAABQAAAAAAAAAAAAEAAAAAAAAAAAAAAAAABAIAAAAAAAAAAAAAAAAAAQAAAAAAAAAAAQAAAAAAAAAAAAAAAAAAAAAAAAAAAAAjAAAAAAAAAAAAAAAkAAcAAAAAAAUAAAIAAAAAAAAAAAEAAAAAAgAAAAAAAAAAAAEAIgAAAAAAAAsAACQAAAAAAAAAAAAAAAAAAgAAAAAAAAAAAAAAAAIAAAAAAAADAAIAAgEAAAAAAAAAAAAAAAAAAAAAAAAAAAAAAAAAAAAAAAAAAAAAAAAAAAIAAAAAACQABQAAAAAAAAAAAAIAAAAAAAAAAAAAAAAADQAkAAAAAAAAAAQAAAAAAAAFAAAAAAAAAAAAJAAAAAAAAwAAAAAAAAAAAgAAAAAAAAIAAAAABAAAAAAAAAAAAAAAAAAAAAAAAAAAAAAAAAAAAAAAAAAAAAAAAAIAAAAGAAAAAAAAAAAAAAAAAAAAAAAAAgAAAAAAAAAAAAEAAAAAAgAAAAADAAAAAAAAAAAAAAAAAAAAAAAAAAIAAAABAAAAAAAAAgAAAAAABQAAAAAAAAAAAAAAAAABAAAAAAAAAAAAAAABAAAAAAAAAAAAAAAAAAAAAAAAAAAAAAAAAAAiAAAAAAACAAAAAAAAAAAGAAAAAAAAAAIAAAAkAAAAAAAAAAAAAAAAAAAAAAAAAAAAAAAAAAAAAAAAAAAAAAEAAAAAAAAAAAAAAAAAAAAAAAAAAAAAAAAAAAAAAAAAAAAAAAAAAAACDAAAAAAAAQAAAAAAAAUAAAAiAAAAAAAAAAIAAQAAAAAAAAAAAAAAAAAAAAAAAAAAAAAAAAAAAAEAAAAAAAAAAAAiAAAAAAwAIgAAAAAAAAAAAAAAAAIAAAAAAAAAAAIBAAAAAAAAAAAAAAAiAAAAAAAAAAAAAAAAAQMAAAAAAAAAAAAAAAIAAAECAAAAAAAAKQAAAAAAAAAAAAAFAAAAAAAAAAAAAAAAAAAAAAAAAAAAAAAAAAAAAAAkAAAAAQAAAAAAAAAAAAAAAAAAABoAAAAAAAAAACMAAAAAAAACAAAAAAAAAAAAAAAAAQAAAAIAAAAAAAAAAAAAAAAABwAAAAIAAAEAAAAAAAAAAAAAAAAAAAAAAAAAAAAAAAAAAAAAAAAAAAAAAAAAAAAAAAAAAAABAAAAAAAFAAAAAAAAIgABAAAAAAAAAAACAAAAAAAABQAiAAABAAAkAAAkAAABAAAAAAAAAAAAAAAFAAAAAAAAAAAAAAAAAAAAAAAAAAAAAAAAAAAAAAAAAAAAAAAAAAAAAAIAACQAAAAAAAAAAAAAAAAAAAAAAAAAIwAAAAAAAQAAAQAAAAEAAAAAAAAAAAAEAAAAAAAAAAAAAAAAAAAAAAAAAAAAAAAAAAEAAAAAAAAkACMAAAAAAAAAAAAAAAIAAgAAACIAAAAAAAAAAAAAAAAAAAAABQAAJAAAAAAiAAAAAAAAAAABAAAAAAAAAAABAAAAAAAuAAABAAAAAAAAAAAAAAAAAAAAAAABAAAAAAAAAAAAAAEAAAAAAAAAAAACAAIAAAAAAAEAAAAAAAAAAAAAAAAAAAEBAAAAAAAAAAAAAAAAAAAAAAEAAAAAAAAAAAAAAAAAAAAAAAAAAAAAAAAAAAAAAAAAAAAHAAAAAAAFIgAAAAAHAAAAACIAAAAAAAAAAAABAAAAAAACAAAAAAAAAAAAAAAAAAIAAAAAAAAAAAAAAAAAAAAAAAAAAAAAAAUAAAACAQACAAAAAAAAAAAiAAAAIgAAAAAAAAABBQAAAAAABQAAAAAAAAAAAAAAAAAAAAAAAAAAAAACAAAAAAAAAAAAAAAFAAIAAAABAAAAAAABAAAAAAAvAAAAAAAAAAAAAAUAAAAAAAAAAAAAAAAAAAAAAAAAAAAAAgAAAAAAAAEAAgAAAAAAAAAAAAAAAAAAAAAABwAAAAAAAAAAAAEAAAABAAAAAAAAAAABAAAAAAAAAAAAAAAAAAAAAAAAAgAAAAAAAwAAAAAAAAAAAAAAAAAAAAAHAAAAAAAAAC8AAAAAAAAAAAAAAAAAAAAADQMAAAAAAAAAAAAAAAAAAAAAAAAAAAAAAAAAAAAAAAAAAgAAAAAAAAAAAAACAAAAAAAAAAAAAAAAAgAAAAAAAAUAAAAFAAAAAwAiBQAkAAAAAAAAAQACAAAAAAAAAAAKAAIAAAAAAAAAAAAAAAAAAAIiAAABAAAAAAAAAAAAAAIAAAAAAAAAAAEAAAAABwAAAAAAAAADAAAAAAAAAAAAIgACACIAAAAAAAAAAAAAAAAAAAAAAAAAAAAAAAAAAAUAAAADAQAAAAAAAAAqAAEAAAIAAAAAAAAAAAIAACIAAAIAAAIAAAAAAAAAIgAkAAAAAAAAAAAAAAAAAAAAAAAAAQAAAAAAAAAAAAAAAAAAAAAkAAAAAAAAAAAAAAAAAAAAAAAAIgAAAAAAAAAAAAAAAAAAAAAAAAAAAAAAAAAAAAAAAAAAAAAAAAAAAAAAAAAAAAAAACQAAAAAAAAAAAAAAAAAAAAAAAAAAwAAAAAAAAAAAAAAAAAAAAAAAAAAAAAAAAAAAAAAACIAAAAAAAAAAAAAAAAAAAAHAAACAAAFAAAAAAAAAAAAAAAAAAAAAAIAAQAAAQAAAAAAAAAAAAACAAAAAAAAAAAAAgAAAQAAAAEAAwAAAAAAAgACACIAAAAAAAAAAAAAAAAAAAAAJAIAAAEAAAAAAwAAAAAAAAAAAAAAAAQADQAAAAAAAAAAAA0iAAAAAAAAAAAAAAAAAwAAAAAAAAAAAAAAAAAAAAAAAAAAAAAAAAUBAAAAAAAAAAAAAAAAAAAAAAAADQAAAAAAAAAAAAAkAAAAAAAAAAEAAAANCQAFAAAAAAAAAA0FAAAAAAAAAAAEAAAAAAAAAAAAAAAAAAAAAAAAAAAAAAAAAAAAAAAAAAAABQAAAAAAAAAAAwAAAAcAAAAAAAAAAAAAAAAAAAAAAAAAAAAAAQAAAAAAAAAAAgAAAAAAAAACBwAkAAAAAAAkAAAAJAIAAAAAAAAAAAAAAAAAAAAAAAAFAAEAAAAAAAADAAAAAAEAJAAAAAAAAAAAAAcAAQADAAAAAAAAAAAALgADAAAAJAAAAAAkAAABBwAAACQAAAAAAAAAAAAAAAAAACIAAAAAAgAAAAAAAAAAAAAAAAAAAQAAAAAAIgAAAAAAAAAAAAAAAAAAAAAAAAAAAAAAAAAkACQAAAAAAAAAAAAAAAAAAgAAAAEHAAAAACIAAgAAAAAAAAAAAAAAJAIAAAAAAAAAAAEDAQAAAAAiAAcBAAAAAAAAAAAAAAAAAAAAAAAAAAAAAAAFAAAAAAADAAABAAAAAAAAAAAAAAAAAAAAAAAjAAAAAAAAAAAAAAAAAAAAAAAAAAAAAAIAAAAAAAAAAAAAAAAAACIAAAAAAAAAAAAAAQAAAAAABwUaAAICAAAAAAAHAQckAAEaAAYBAAAiAAAFAAAAAAIAAAAAGgAAAAAAAAAFAAIAAAAAAAcAAA0AAAAAAAAAAAIAAAACAAAAAAAABwAAAAAAAAEAAAABAAAAAAICAAIkAAAAAgAAAAMCAAAABwAAAAAAAAYABwAAAAYCAAAABxoCBwACAAAAAAAAACQAAAAABQAAAAAADQAAAAcAABoAAQAAAAEABwAAAAACAAAAAAAAAAAAAAcAAAAAAAIAAAAHAgAHGgAAAAABAAAAAAAAAAAHAAAAJQAAAAAAAAAAAAAAAAAAAAANAAAABwAAAAAAAgAAAAAAAAAAAAAAAAAAAAAAAAAAAAAdAAACAAMAAAcAAAAAAAAAAAAAAAEAAAIAAAAAAAAAAAcABwAAAAAAAAYAAAEAAAAAAAAAAQAAAAAAAAAAAAAAAwAABQAEBQMAAAAAAAAAAAAAAAAAAAAAAAAAAAAAAAAAAAcAAAUBAA0NAAAAAAAAAAAAAAACAAUAAAAACQICAAAAAAUBAAAAAAAAAAAABgAAAgAAAwAAAAAAAAAAAAMACA0AAAAAAAAGAAAAAAcAAAAAAAQAAAAAAAAHGgIAAAAAAAMCAAAAAAcAAAAAAAAAAAQCAAAAAAAAAAAAACIAAAAAAQwAAAAKAAAAGgAAAAAAAABHAQAGAAAHAAADAAAAAAAAAAkAAAMAJAAAAAACAAIAAQACAAAAAAAAJQwNAQABAwAAAQAAAAAABwcABQAAGgAAAAAADgAAAAAAAAIAAAAABQAADAAAAAAAAAAHAAAAAAAGAAAAAAACAAAAAAcCAAcAAwAAAAAAAAcAAAAAAgAAAAAAAAAAAAcAAAAAAAAAAAAAAAcAAQACAQANAAAAAAABAAAAAAAAAAAAAAAABwoFAAUAAAAAAAcAAAkAAQAAAAAAAAAAAAACAg0ACAEAAAABAAABAgAAAAAAAAAAACQAAAAAAAAHAAAAAAAAAgAAIwUAAAACACQABQAHAAANAQAAAwAAGwAAAAUAAAcAAgAAAAAAAAAFBwAAABoAAAACAAACACIAAAcAAAAAAAIABwIGAAAAAAAABwAAAwAAAAAAAgAAGwACAAUAAA0CAgAAAAEAAAADAAAAAAAAAAAABwAFAQAAAAADBwAAAAIFAA0AGgAAAAAABAIAAQABDAAAAAcJIhoAAAAAAAAAAAAAAAAAAAACBwAAAAACBQEABQAJAAAAAAMAAAAAAAcAAAAAAAMAAgAABwACAAAAAAAAABoHAAAAAAAABgACAAIHDQAAAAYAAAAAAAAAAAAAAAABAAAFAAAAAA0BAAAAAAAABQAHAAAAAAMAAAAAAAcAAAAAAAAAAwAHAAIAAAAAAAABAgAAAAAAAAAAAAMABgAAAgAAAQcAAAAAAAAAAAMAAAAAAQAADQUAAgAJAAAkAAAAAAAAAAEBAAAAAAAAABoABQAFAAAAAAAAAAAAAAAAAAAAAAAAAAAAAAAAAAAAAAAAAAAAAAAAAAAAAAAAAAAAAAAAAQAAAAAAAAAAAAAAAAEAAAAAAAAAAAAAAAAAAAAAAAAAAAAAAAAAAAAAAAAAAAAAAAAAAAAAAAAAAAAAAAAAAAAAAAAAAAAAAAAAAAAAAAAAAAAAAAAAAAAAAAAAAAAAAAAAAAAAAAAAAAAAAAAAAAAAAAAAAAAAAAAAAAAAAQAAAAAAAAEAAAAAAAAAAAAAAAAAAAAAAAAAAAAAAAAAAAAAAAAAAAAAAAAAAAAAAAAAAAAAAAAAAAAAAAAAAAAAAAAAAAAAAAAAAAAAAAAAAAAAAAAAAAAAAAAAAAAAAAAAAAAAAAAAAAAAAAAAAAAAAAAAAAAAAAAAAAAAAAAAAAAAAAAAAAAAAAAAAAAAAAAAAAAAAAAAAAAAAAAAAAAAAAAAAAAAAAAAAAAAAAAAAAAAAAAAAAAAAAAAAAAAAAAAAAAAAAAAAAAAAAAAAAAAAAAAAAAAAAAAAAAAAAAAAAAAAAAAAAAAAAAAAAAAAAAAAAAAAAAAAAAAAAAAAAAAAAAAAAAAAAAAAAAAAAAAAAAAAAAAAAAAAAAAAAAAAAAAAAAAAAAAAAAAAAAAAAAAAAAAAAAAAAAAAAAAAAAAAAAAAAAAAAAAAAAAAAAAAAAAAAAAAAAAAAAAAAAAAAAAAAAAAAAAAAAAAAAAAAAAAAAAAAABAAAAAAAAAAAAAAAAAAAAAAAAAAAAAAAAAAAAAAAAAAEAAAAAAAAAAAAAAAAAAAAAAAAAAAAAAAAAAAAAAAAAAAAAAAAAAAAAAAAAAAAAAAAAAAAAAAAAAAAAAAAAAAAAAAAAAAAAAAAAAAAAAAAAAAAAAAAAAAAAAAAAAAAAAAAAAAAAAAEAAAAAAAAAAAAAAAAAAAAAAAAAAAAAAAAAAAAAAAAAAAAAAAAAAAAAAAAAAAAAAAAAAAAAAAAAAAAAAAAAAAEAAAAAAAAAAAAAAAAAAAAAAAAAAAAAAQAAAAAAAAAAAAAAAAAAAAAAAAAAAAAAAAAAAAAAAAAAAAAAAAAAAAAAAAAAAAAAAAAAAAAAAAAAAAAAAAAAAAAAAAAAAAAAAAAAAAAAAAAAAAAAAAAAAAAAAAAAAAAAAAABAAAAAAAAAAAAAAAAAAAAAAAAAAAAAAAAAAAAAAABAAAAAAAAAAAAAAAAAAAAAAAAAAAAAAAAAAAAAAAAAAAAAAAAAAAAAAAAAAAAAAAAAAAAAAAAAAAAAAAAAAAAAAAAAAAAAAAAAAAAAAAAAAAAAAAAAAAAAAAAAAAAAAAAAAAAAAAAAAAAAAAAAAAAAAAAAAAAAAAAAAAAAAAAAAEAAAAAAAAAAAAAAAAAAAAAAAAAAAAAAAAAAAAAAAAAAAAAAAAAAAAAAAAAAAAAAAAAAAAAAAAAAAAAAAAAAAAAAAAAAAAAAAAAAAAAAAAAAAAAAAAAAAAAAAAAAAAAAAAAAAAAAAAAAAAAAAAAAAAAAAAAAAAAAAAAAAAAAAAAAAAAAAAAAAAAAAAAAAAAAAAAAAAAAAAAAAAAAAAAAAAAAAAAAAAAAAAAAAAAAAAAAAAAAAAAAAAAAAAAAAAAAAAAAAAAAAAAAAAAAAAAAAAAAAAAAAAAAAAAAAAAAAAAAAAAAAAAAAAAAAABAAAAAAAAAAAAAAAAAAAAAAAAAAAAAAAAAAAAAAAAAAAAAAAAAAAAAAAAAAAAAAAAAAAAAAAAAAAAAAAAAAAAAAAAAAAAAAAAAAAAAAAAAAAAAAAAAAAAAAAAAAAAAAAAAAAAAAAAAAAAAAAAAAAAAAAAAAAAAAAAAAAAAAAAAAAAAAAAAAAAAAAAAAAAAAAAAAAAAAAAAAEAAAAAAAAAAAAAACIAIgAiAAADAAEAAgAAAAADAAAAAAwAAgAAACMAAAAAAAEAAQABAA0AAAAAAAAAAAAAAAAAAAARAAABAAAAAAAAAAAAAwAAAAIAAQAAAAAAAAAAAAcAAAAAAAAAAAAAAAAAAAAAAAAAAAAAAAAAAAAAAAAAAAAAAAAAAAAAAAAADwAAAAAAAAAAAAAAAAAAAQAAAAEAAAAAAAAAAAAAAAIAAAAAAAAAAAAAAAAABwAAAAAAAAADABsiAAACAAoAAAcAAAAAAAAAAAMAAAABAAAAAAAAAAAAAAAAAAAAAAACAAAABQIAAAAAAAcAAAAAAAAAAAAAAAAAAAAAGgAAAAAAAAABAAAAAAAAAAAHAAAAAwAAAAAAAAMBAAAAAAAAAAEAACIAAgAAAAAAAAAAAAUAAAAAAQAAAAAAAAAAAAAAAAAAAAAAAAAAAAAAAAAAAAAAAAcAAAAAAAAAAgAABwAAAAAABwAAAAAAAAABAAAAAAAAAAAAAAAABwAAAAAAAAAAAAAAAAAAAAAAAAAAAAAAAAAAAAAAEAIAAAAAAAAABwAAAAABAAAAAAAAAAAAAAAAAAAHAAYAAQAAAAAAJAABAAAAAAAAAwcAAwAAAAAHDQAAAAAAAAAAAAIiAAAaGgAAAwAAAAAAAAAAAQAAAAAAAAAAAAAAAgAAAAAAAAIAAAcAAAACAAAAAAAAAQAAAAAAAAAAAAAAAAAABwAAAwAAAAAAAAAAAAEKAAAHAAAAAAgAAAACAAAAAAAAAAAAAAAAAAcAAAAAAAAAAAAAAAAAAAAAAAMAAAAAAgAAAAAAAAAAAAAAAAAAAAAAAAAAAAACAAAAAAAAAAAAAAAFAAAAAAAAAAAAAAAHAAoNAAAAAAAAAAAAAAAAAAAAAAAAAAAAAAAAAAAAAAAAAAAAAQACAAAAAAAAAAAAAAABAAAAAAAAAAcAAAAAAgAAAAAAAAAAAAAAAAAAAAUAAAAAAAAAAAAAAAAAAgAAAAAAAAMAAAAAAAAAAAAAAAAAAAAAAAAAAAAAAAABAAAADAAAAgAAAAIAAAAAAAABAAAAAAAAAAAkAAAiAAcAAAAAAAAFAAAAACIAAA8AAAUAAAAAAAAAAAACAwIAAAAAAAAACAAAAAAAAAAHAAAAAAAAAAAAAAAAAAAAAAAAAAcAAAAAAAABAAAAAAABAAAAAAAAAAAAAgAAAAAAAAAAAAAAAAACAAAAAAAAAwAAAAAAAAAAAAAAAAAiAAcAAAAAAAAAAAAAAAABAAAAAAAAAAAAAAAAAAAaAAAFAAANAAIAAAAAAAECAAAAAAAAAAAFCAAAAAAAAAAAAAAAAAAAAgAGAAAiAAAAAAAAAAABAiIAAAAAAAAAAAAAAAAAAwAAAAAAAAAAAAAAAAAAAAcAAAAAACIAAAAAAAAAAAIAAAAAAAAAAAcAAwAAAAAAAAAAAAAAAAAAAAAFGhsAAAAAAAAAAAAAAAAAAAAAAAAABwAAAAAAAAAAAAAAAAADAAAAAAAAAAEAAAAAAAAAAAAAAAAAAAAAAAAAAAAAAAAAAAAAAAAAIgAAAAAAAAAAAgAAAAAAAAANAAAAAQ0AAAAAAAAAAAAAAAAAAAAAAAAAAAwAAwAAAAAAAAAAAAEAAAAAAAAAEAAAAAAAAAAAAAAAAAAAAAAAAQAAAAAAAAABAAABAAAAAAoCAAAAAAABAAAAAAAADRQAAAAAAAAAAAAAAQAAAwAAAAAMAAAAAAAAAwAAAAAAAAoABwAAAAcABwAAAAAAAAAAIgAAAAAAAAAAAAAAAAAAAAAAAAAAAQAAAAAAAAAAAAcAAAAAAAAAAAAAAAAAAAAAAAAAAAcNAAAAAAAAAAABAAAAAAAABwAAAAAAAAIAAAAAAAAAAAAAAAUEAAAAAAAAAAAAAAEAAAAAAAAAAAUAIgAAByIAAAEAAAAAAAAAAAAAAAAAAAAAAAAAAAAAAAAAAAUAAAAAAAAAAAAAAAAAAAAAAAAAAAMBAAAAAAAAAAAAAAIAAAAAAAAAAAAiABAAAAIAAAACAAAAAAAAAAAAAAAAAAcAAAAAAAcAAwABAAAAAAAABgAAAAAABxoAAAAAAAAAAAAAAAAAAAAAAAEAAAAAAAAAAA0DAAAAIgAAABAAAAAAAAAAAAAaAAAAAAAAAAAAAAAAAAAAAAIAAAEAAAAiAAUAAAAAAAAAAAEAAAAAAAAAABoBAAAAAAAAAAAAAAAAAAAAAAAAAAAAAAAAAAAAAAAAAAAAAAcAAAAAAAAAAAAABQAAAAwAAAAAAAACBwAAAAAAAAAAAAAAAAAAAAAAAQAAAAEAAAAAAAAAAAAAAAABAAcHAAAAAAAAAAAAAAAAAAAAAAAAAAAAAAAAAAAAAAAABAAAAAABAAAAAAAAAAASAAAAAAAAAwAAAAAAGgIAAAAAAAAAAAAAIgAAAAADAAAHAAAAAAAADRoAAAAiDQAAAQAAIgAAAAADAAAAAAAABQAAAAAAAAAAAAAAAAAAAAcAAAAAAAcDAAMBAAAAAAAEAAcHAAAAAAAAAAAAAAAAAAAAAAAAAgAAAAAAAAAAAAAABwEAAAAAAyQAAAAAAAAAAAAAAAAAAAAAAAEAAAAAAAAAAAABAAAAAgAAAAAAAAAAAAAAAQAAAAAAAAAABQAAAAIAAAAAAAgAAAAAAAAAAAAAAAAAAAIAAQAAAgAAAAAAAAAAAAEBAAAiAAAAAAAAAAAAAAAAAAAAAAAAAwAAAQAAAAAAAAAAAAAAAAAAAAAAAAIDAAUAAAcAAAAAAAAAAAIAAAAAAAwAAAAAAAAAAAAAAAAAAAAAAAABAAAABwIAAAAAAAAAAAAAAAAAAAAAAAMAAAAAACQAAAAAAAAAAAAHAAAAAAAAAAAAAAAAAAAABwAFAAAAAAAAAAAAAQAAAAACAAAAAQEAAAAAAAAAAAAAAAAAAAAAACIAAAAAAQAAAAAAAAAAAAAAAAAAAAAAAAAEAAAAACQHAAAABwMAAAAAAwAAAAAABwAAAAMAJgAAAgIAAAAAAAAAAAAAAAAAAAIAAAAAAgAAAAcAAgAAAAAAAAAAAAMDAAAAAwMAAAAAAAAAAAAAAAANAAAAAAYAEAAIAAAAAAAAAAAAAAAAAAAAAAcAAAAAAgAADAAAAAAAAAAAAAAAAAEAAAAaBQcHAAAAAAAAAAAaAAAAAAAAAAAAAAAAAAAAAAAAAAAAAAAAAAUAAAAAAAAAAAAAAAAAAAAAAwAAAAAAAAUAAAoAAAAAAAADAAAAABoAAAADAAAAAQAABwEGAAAAAAAAAgcAAAAAAAAAAAAAGgAAAAAABQAADQAAAAAAAAAAAAAAAAAAAAIAAAAAAAAHAAAAAAAFAAIEABoPBgAAAAAAAwcAAAcAAAAAAQAAABoDAAADAAAAAAAAAAAFAAAAAAgCAAIAAAAAAAAAAAAHAAAAAAAAAAkJBwAABQAAAAAAAAAAAwAAAAAABwAAAAMAAAEIAAAADiIAAAAABQAAAAcADQAAAAAAAAAAAAMAAAANAAAADQAaAAAHAAAAAAAAAAAaAAADAAAaABoAAAICAAEAAAAHAA4AAgAAAAAAAAYCCAAAAAAAAAAAAAAAAAAFAAADAAAAAgAAAAIAJAACAAAABAAAAAAAAAAAAAAAAAcAHQABGgADAAAAAAAAAAAABQUBAAAAAA0AAAACAAAAGgcAAAAAAAAAAA0AAAEAAAAAAAAHAAAAAAAAAAAAAAAAAAAAAAUAAAEAAgAAAxoAAAQAAAADAAAAAAAAAAAaAAcAAAAAAAAAAAcAAAAAAAUAAQAAAAUBAAAAAAAAGgAAAAAAAAcAHAAAAAABAAAAAAAAAwAAAAIHAgAAAAAEAAAAAAcABwAADQAHBw0AAAAaAQAAAAAAAAAAAAcHAAAHAA0AAAAAAAAAAAAAAAAAAAAAAAAABA0AAAAHAAADAAAAAAANAAcAAAAAAQ4AAAAHAAoNGg0AAA0CDAoAAAAABhoHAAAAAAAAAAAAAAAAAAEAAAAAAQAAAAAAAAAaAgAAAAALAAAAAA4AAAAAAAAAAgAAAAAAAAAEAAAAAAAAAAAAAAAAAAAAAAAAAAAAAAAAAAAAAAAAAAYABgAHAQAJABoAAAIAAgAAAAAAAAMAAAAAAAAAAAAAAAADAQAAAAAAAAAAAAAABwAAAAcCAAAAAAAAAAAAAAAAAAoAAwAAAAAAAAAAAAAAAAAAAAAAAAEAAAAAAAAAAAAKAAAAAgABAAAaAAAABwcAAAAAAAAHAAAFAAAAAAAAAAAAAwAAAAAAAAAAAAAAAAAAAAAABQUAAAcAAAAAAAAAABoAAgAAAAAAAAAaAAgCAAcBCQAkEAAAAAAAAAAAAAAAAAAAAAAAAAAAAAAAAAAAAA0NAgASAAAAAAAAAAAAAQABBwAAAAAAAAAHBgAGAAADAAABAAAAAAAAAAAAAAAAAAAAAAAAAAAAAAAAAAAAAAAAAAAAAAcAAAAAABoAAAAAAgACAAAAAAAAAAAAAAAAAQIGBwAAAAABAAAAAAAHBAACAAAEAAAaAAAAAAECAAAAAAAAAAAAAAAAAAAAIgAAAAACAAIGDRAAAAAAAAAAAAACAAAAAAMAAAAAAAAAAAAAAAAAAAAiAAAAAAAAAAAiDQAAIgAAAAAHAAAKBwAAAAAAAAAAAAcAAAMAAAAAAAcAAgAAAAAiAgAAAAAAAAANAAAAAAAAAAAAAAAAAAIAAAAAAAIAAAEAAQAAHQABAAAAAAAAAAAAAAACAAAAAAAAAAAABwAAAAAAAAAAAAMCAAAAAAAAAAACAAAAAAAAAAIAAAADAAAAAAAHAAACAAAaAAAAAAAAAAAAAAADAAAAAAAHAAAFAAAAAAAAAAAAAAAAAAADAAAABwAAAAAiAgAAAAAAAAAAAAcaAAAAAAAAAAAAAAAAAAAABAAHAQIABwAAAAAAAAEAAQAAAAAAAA0AAAAAAQAAAAAAACIAAAAHAAAHAAAAAAAAAAAAAAIAAAQAAAAAAAAAAAIAAA8AAAAAAAAAAAANAAAAGgAAABIADAADAAAAAAAAAAAAAAAAAAcAAAAAAAAAAAAAAAAAAwAAAAAAAAIAAQACAAUAAAAAAAwAAAIAAAAAAAAAAAcBAwAAAAAAAAAKAAABBwAAAAABAAADAAAAAAAAAAAEAAAAAAAAAAQAAAAAAAACAAAAAAAHAAAAAAAAAAAAAAAAAAAHAAAAAAAAAAAAAAAAAAAAAAAAAAACAAAAAAAAAAAAAAAAAAAABAAAAAAAAAAAAAAAAAAAAAAAAAAAAAAABwAAAAEAAAAAAAAAAAAAGgQAAAAAAAAAAAAAAAAAAQAAAAAAAAAAAAAAAAICAAAABwAAAAkMAAAAAQAAAQAADQAAAAAAAAAAAAAaAAAAAAAAAAAAAAAAIgAAAAUDAAAHAAAAACIAAAAAABoAAAAAAAAKAgAAAAAAAAAAGgAAAwAAAAAAAAAAAAAABwAAAAAAAAAHAAAAAAAAAAAAAAAAAAAAAAAAAAAAAAAABwAAAAAAAAAaAAAAAAAAAAAAAAAAAAAAAAAAAAAAAAAAAAADAAAAAAEAAAAAAAAAAAAAAAAAAAAAAgAAAAAAAAAAAAAAAAcAAAADAAAAAAEAAAAAAAAAAAAAAAAAAAAHBwAAByIADQAAAAAAAAAAAgAAGg0NAAAAAAAAAgAAAAAAAAAAAAACAQAAAAAAAQAAAAAAAAAAAAADAAAHAAADABoHGgwAAAAACgAAAAAAAAEaAAACAAAAAAAAAAEDAAEAAwAAAAAAABoHAgAAAAAHAAAAAAAAAAAAAAAAAAICAAAaDAAAAAAHAAAAAAMNAAQKAAAAAAEAAAUAAAAAAAAAAAAAAAAAAAAHAAABAAAAAwAHAAAAAAADAAAAABoDAAAAAAAABQAAAAAAAAAAAAEAAAAAAAAAAAABAgAAAgkAAAAAAAEAAAAAAAMAAAANAAAAAAAAAAAAAAENAAANABoAAAAAAAAAAwAAAAAAAAANAAAABwAABwAAAA4AAAAAAAAABwAAAAAAAAAAAAMAAAAAAAAAAAAAAAcHAAcAAAAAAA0AAAANAAAAAAAHAAcaAAAAAAcAAAANAAAAAAADAAAAAAAAAAADBwAAAAAHAAcCAAAADQAAAAAAAAAFAB8BAAcAAAAAAAAAAAYAAAAAAB0AAAAAAAAAAAAAAAAdBwAAAAAMAAABAAAABwADAAAAAAAAAAcBAgAAAAAAAAAHAAAAAAAABR0AAAAFDQMIAAAABwYAAAAAAgAAAAQAAAAAAAAAAAAAAAQAAQAAAAAAAAAAAAABAAAAAAAJAAAHAAAAAAADABoNBwAAACQAACIAAAAiAAEAAAAAAAAAAAAAAAAAAA4AAAAAAAAAAAcAAAIAAAAAAQAAAAAFAAAAAAAAAAAAAAAAAAAAAAAAAAAAAAAAAAIiAAAAAAAAAAAAAAAAAAAAAAEAIgEAAAADAgAAAwAHAAAAAAAAAAAACAAAAAAAAAAAAAAAAAAAIgAAAAAABwAAAAAAAAAAAAYAAAAAAAAiAAAAAwAAJAAAAAAAAAIAAAAAAAABAAAAAAEAAAUAAAAAAAAAAAAAAAAAAAAAAAEDAAAAAAAABQADAAEAAAAFAAAAAAAAAAAAAAAAAAAFAAAAAAAAAAAAAAAAAAAAAA0iAAAAAAAAAAAAAAkAAAAAACIAAQAAAAICAAAAAAAAACUAAAAAAAIAAAAAAAAAAgACAAAFAAAABA0ABQAAAAAAAAAAAAAAAAAiBQAAAQAAAAAAAAAAAAMAAAABAAAAAQIABAACAAAAAAAAAAAAAAAAAAAAAAAAAAAAAAAAAAAAAAAAAgAAAAAAAAABAgIBAAAAAAAAAAAAAAAAAAAAAAIAAAAAAAACAAAAAAAAAAAAAAAAAAAAACIAAQAHAAAAIgAAAgAAAQAAAAAAAAAAAAcHAAAAACIAAAAAIgAAAAACAAAAAAAABAAAAAAAAwAAAAAAAAAAAAAAAAAAAAAAAAAAACIFAAAAAAAARwAAAAMAAAAAAAAAAgAMABoAAAIAAAAAAAAAAAAAIgAAAAAAAAAFAAcAACQAAAAAAAAAAAIAAAAAAAAAAAAAAwAAAAAHAAAAAgAAAAAAAAAAAAAAIgAAAgAAAAYAAAEAAQAAAAAAAAAAAAAAAAAABQAAAAAAAAABAAACAAAAAAAACQAAAAAAAAIAAAAAAAAAAAAAAAAAIwAABwAAAQAAAAAAAAAAIgAAAAABAgAADAAkAAAAAAAAAAUAACIAAAAABgAHAAAAAAAAAyIAAAAAAgcDAAAAAwAAAAUCAAACAAAiAQAFAwAAAAAAAAkAAQAAAAAAAAAAAAAAAAACAAcAAAAAAAAAAAAAAAAAAAAAAAAAAAAAACIAJBoBAAAAAAAABwAAAAAAAAAAAAAAACIAAAIAAAAAAAAAAwAAAAwAAAAMAAIABQAAAAAAAAAAAAEAAAAAAAAAAAAHBQAAAAAAAAAAAAAAAAAAAAAAAAACAAAAAAAAAAAAAgAAAAAAAAAAAAAAAAAAAAAAAAAAAAAAAAAaAAIHAAAHAAMAAAIAAAAAAAEAAAAABwAAAAAAAAAAAAAAAAAAAAACAAAAAAAiASIAAAAAAAACAAAAAAAAAAAAAAAAAgAAAAAHAgAAAAAAAAAHAAAAAAACAAAAAAMAIgAAAAAAAwAFAAAAAAAAAAAAAAAkAAAAAAAHAAAAAQYAByIAAAAAAAAAAAAHAAAAAAEAAAAAAgAAAAAAAAAHAAAFACIGAAAAAAAAAAUCAAAAAAAaAAADIgAAAAAiAAAAAAAAAAAAAAAAAAAAAAAAIgAAAAAAAAAAAwAAAAAABQAAAgAAAgUCAAAAAAIiAAAAAAABAAAAAAAAAAEAAwAAAgAAAAkAAAAkBQAAAAAAAAAAAAAAAAAAAAIDAAAAAAAAAAAAAAAAAAAAAAUAAAUFACIABAAAAAAAACIAAAAAAAUAAAAAAAAAAAAAAAAAAAAAAAAIAAAKAAAAAAAAAgcAAAMAAAAAAQAAAAAAAAAAAAADAAAABAADAAAAAgAAAAUFAAAAAAAAAAAAAAAAAAAAAAACAAMAAAAAAAAAAAAAAAAAAAAAAAEAAAAAAAAAAAAAAAAAAAAiAAAABQAAAEgAAAAAAAAAAAAAABoAAAAAAAAADQEAAAAiAAAABwAAAAACBwAAAAAAAAAAAAAEAAAAAAABAgMAACIAAAcABQAAAAAAAAAAAAUABQAAAAEAAAUAAAQAAAAAAgAAAAAkAAAAAwAAAAAAAAAAAQAAAAAkAAABACQAACIAAAAiAgAAAAAAAAAAAAACAAAAAAMAAAADAAMAAAADAA0HAAAAAAAAAAAAAAAlAAAAAiIAAAAABgAAAAAAAAAHAAEAAAAAAQAAAAAiAAAAAAABAAAAAAAAABoAAAAAAAAAAwAAAAAAAAAFAAAAAAAHAAAAAAIAAAUAAAAAAAcCAAAAAAIAAgAAAAAAAAAAAAAiAAIAAAAAAAAAAQAABQAAAAAABgAAAAAAAAAFIgAAAAAAAAIAAAAAAAAAAAAAAAAFAAACAAEAAAAAAAAABQAAAAAABQAOAAABAAAAAAAAAAUAJAAFIwAADAADAAAAAAAHAgAAAAAAASIaAAEAAAAiAAAAABoAACIAAAUAAAAAAAAAAAIAAAAAAAAAAAAAAAANAwAAAAAGAgAAAQAAAAAAAAAAAAAOAAAABwAAAAAAAgAAIgADAAAAACIAAAAAAAAAAQAAAAAAAAAAAgMAAAAAAAAABQAAAAMAAAAAAAAAAAAHAAAACAIAAAIAAAAAAAAAACQAAAAAAAUBBwEFAAMAAAABAAIAACMAAAAAAAAAAAcAAwAAAAAiAAAAAAAARwAAAAAAAAAAAQAAAAAAAAEAAwAABQAAAAAABQAAAAAABQAAAAcAAAAAAAAAAAAFAAAAAgAAAAAAAgACAAAAACIHAAAAAAAAAAEAAAAAAAAAAAgAAAADAAAAAAAFAAACAAAHBQAAAAAAAQcAAAAAAAAAAiIAAAIADQAAAAEAAAUkAAAAAAAFAAAAAA0AAAAAAAAAAAAiAAAAAAAAAAACAAADAAAAIgQAAAAAIgAAAAAAAAAAAAASAAAAAAYkAAAAAAAABQAAAAAAAgAFAAAAAgAAAAAAIwIAAQAAAAEAAAAAAAAAAAMAAAAAAAYFAAcAAAAAAAAAAAAAAAAABAAABwAAAAEABwAAAAAAAAAAAQAAAAEDAAAAAwAAAAAAAwcAAAAAAAAAAQAAAAAAAAAFAAAAAAACAwAAAAIiAAAAAAAAAwcAAAADAAAAAAAAAAAFAAAAAAAiAAAAAAAAAAUAAAAAACIABwAAAAIAAAAAAAAAAAAAAAAAAAAAAAAAAAAiJAAAAAACAABBAAAAAAAAAAAAAAAAAAAHAAAAAAAAAAAAAQAAAAAHDQAAAAABAAABIgcABQAFAAAAAAAAGgAAAAAAAAAFJAIFAAAiAAAAAAAAAQAAAAAAAAAiAAAHAAABAAUAAAAAAAACAgkABwAAAAcAAAAAAQACAAAFAAAAAAAiAAAAAAAAAAAAAAcAACIAAAAAAAAABQAAAAAAAAcAAAAABQAHAAAAAAAiAAAAAA8CAAAABQIAAAAAAAIBAAUAAAACAAAAAAAAAAAAAAACAAIiAAAABwAAAAAAAAIAAAAAAAAAAgAABQAAAAAAAAAAAAUAAAAAAQAAAAAAAwABAAAAAAAAIgAAAAIkAAAAAAAAAAAAAAABAAAAAAAAAAAAAAAAAAAAAAAAAAAAAAAAABoFAAMAAAAAAAAAAAEBAAAAAAAAAAAAAAAAAAcFAAAAAAAAAAAAAAABBwAABwAAAAADAAAABQAAAAAAAAAABQIAAAAAAAAAAAAAAAAAAAAAAAAHAAABAAACAAAAAAAAAAAAAAAAAAAAAwAAAAcAAAACAAUBAAAAAAAAAAABAAAAAB0AAAAAAAAAAgAAAAICAAAAAAAAAAADAAAAAAAABQcAAAQADQAAAAAAAAAAAAAHAAAADA0AAAAAAAAAAAEAAAIAAgIAAAAAAQACAAAAACIAAAAAAAAAACIAAAUAAAAABAAAAAAAAAAAAABHAAACBwAAAAAAAAAAAAAAAAAAAAACAAAAAAAAAAAAAAAAAAAiAAUAAAAAAAAAAgAAAAAAAAAAAAADAAABAAUAAAAAJAAAAAAABQAAAAAlAAUAAAAAAAMAACIAAAAAAhoAAAAiAAAAIgAAAAAAAAAAAAAAAAAAAAAAAAAFAAAAAAADAAAAAAAAACIAIgAAAAAAAAAAAAAHAAADBwAAAgAAAAUAAgAAAAAAAgAAAAAAAAAAAA0AAAAAAAAFAAAAABoAAAAAAAAAAAAAAAAAAAAAAAAHAAQAAAAAAAAAAAAAAAAAAAAAAAMAAAcAAAAAAAAAAAIAAAAAAAAAAAAAAAAAAAUAAAAAAAAAAAMCAAMAAgAABQAAAAIAAAAAAAAAAAAAAAAAAAADAAAAAAAFAAAAAAACIgAAAAAAAAAAAAAAAxoAAAMAAAAAAAAAAAAAAAUAAgAAAAAAAAAAAAIAAwAAAAAHIgAAAwQFACIAAAIAAAkAAAcAIgAAACIAAAIAAAAAAAAAABoAACUAAgAAAAUAAAAAAAAAIgAaBwAFAAAAIgABAAAAAAAAAAMAAAAAAAAAAgAAAAAAAAAABAAAAAAAAAAADQUDAAAAAAAAAAQAAAIAAAAAAAIAAAIABwAAAgAFAAAAAAAAAgAMAAUAAAACAAUHAAAAAAAAAAUAACIHAAAAAAAAAAAAAAAAAAAAAgAAAAAAAAAAAAAAAAIBAAAAAAAAAAAAAAAAAAAAAAABBAAAAAAAAAAAAAAAAAMAAgACAAUABQAAAAcAAAMAAAAFAAAAAAAAAAAFAAAAAAAAAAAAAAAAAAACAAAkAAAAAAAGAAAAIgACAAAAAAAAAAAAASUAAgAiAgAFIgAAAAAAAAAAAAAAAAAiAgADAAACAAIAAAACAAAAAAAAAAAAAAAAAAAAAAAAAAAAAAAAAAAAAAAAAAAAAAAAACIDAAAABgMDIgEAAAAAAAAAAAAAAAAAAAAAAAAAAAAiAAAAAAcBAAAAAAAAAAAAAAAFAAAAAAADAAEAAAAAIgAAAAAAAAAAAAADAAAAAAAABAAFBQAHAAIAAAAACgAAAAAAACIAAAAAAAUAAgcAAAAAAAAAAAUAAAAAAAAAAAAAAAAABAAAAAAAAAAAAAABAAAAAAAAAQAAAAAAACQAAAICAAAAAAUAAAAFAAAAGgcFAAAABQAAAAAAAEcAAAAjAAAAAAAAAAAAAAAKAAAAAAAAAAAAAAAAAAAAAAAAAAAAAAAAAAAAAAAAAAAAAAAAAAAAAQACAwAAAAAAAAAAAAAAAAAAAAAAAAAAAgAAAAAAAAUACQAFAAACBwMAAAAAAAAAAAIHAAAiAAAiAAAAAAAAAAAHAAEAAAAAAAAAAAAAAAAAAAEAAAABAiQAAAAFAAADACIAAAEABQAAAAAAAAAAAAIAAAAAAAIAAAAAAAAiAgAAAAAAAAAAAAABAAAiAAAAAAAAAAAAAAAHAwAAAAADAAQAAAIAAAAAAAABAwABAAIFAg0AAAAAAAAAJQAAAAAFAAAAAAAAAAAAAAAAAAAHAgIAIgAAAQAAAA0AAAAAAAIFAAAAAAAAAAAkAAcAAAAAAwAAIgAAAAIAAAIAAAAAAAEAAAAAAgMAAwMAAAAAAAAAAAAAAAAAAAAAAAAABQAAAAUAAAAAAAAAAAAAAAADBQQCAAAAAAAAAAABAAEAAQIAAgADAAAAGwAAAgAAAAAAAAcDAgEAAAEAACQiAAAiAAAAAAAAAAAAAAAAACICAAAAAAMAACIAAAADAAEAAAAAAA0AAAADAAAAAAAAAAAAAAADAAAAAAAAAAAAAEcAAAAAAAUAAwAAAAAAAggAAAAAIgIBAAAkAAABAAMAAAcAAgAAAAAAAAUAAAAAAAAAACIAAAAAAAAAAgAAIgAAAAAAAgIAAAAAAAEBAgAAAAAAAAAAAAAAAAAAAAAFGgAAAAAAAAAAAAAAIgADAAAAAAAAAAMAAAAiAAAAAAAAAAAAAAACAAAAAAIAACIAAAAAAAAAGgAAAAAABQAAAAEAAAACAQAAGgAAAAAAAAAABwAAGgAAAAAAACIABQAAAAAAAAAAAAAAAAAAAAAAAAAAAAADAAIAAAAABwAAAAAABwAAAAIAAA0iAAACAgACAAAAAAAAAAAAAAADAAADAAAAAAAAAAAAAAAAAwAAGgAAAAAAAAAAAAAAAAAAAAAAAAAAAgAAAAIABQAAAwACAAAAAAAHAAAAAA0CAgAAAAAAAAAAAAAAAAABAAAAAAAAAAAAAAAAAAUAAAAAAAAAAAANAgAAAgAAAAAAAiQAAAAAAAADAgUABAAAAwIAAAAFAAADAAAAAAAACAAAAgAABwAHAAAAAAAAAAAAAAABAgcBAAAABwMAAAAAAiIHAAAAAAcAAAACBwAAAAAAAAAFAAAFAAAAAAMAAAAAAAAAAAIAAAAAAAAAAQAAAAAAAAAiBQAAAAAAAAQAAAAAAAAAAAUAAAAAAAwAAAUAAAAAAAAFAgAAAAAGAAUAAAAAAAIAAAMAAAAAAAAABwAAAAAiAAAAAgAAAAAAAAABAAAAAAAAAAAAAAUAAAAAAAAAGgIAAAAAAgAAAAAAAAAAAAAAAAAAAAAAAAAAAAAABQAAAAAAAAAAAAAAAAQAAAAAAAAAAAAAAAAAAAAAAAAAAAAAAAAAAAAAAAAAAAAAAAglAAAAAAEAAAADAAAAAAAAAA0AAAAAAAAAAwAAAAAAAAAAAAACAAUAAAAAAAAAAAcCASIAAAADAAAAAAAAAAIAAAIAAAAAACQHAAAAAwAFAAAAAAAAAAAAAAUAAAAAAAAAAAAAAAAAAAUAAAUAAAAHAAAAAAAAAAAAAAwAAAABAgIAIgAAAAAAACIAAAAAAAAABQAAAAAAAAAAAAAAAgAAAAAAAAAiAAQAAAAAAAACAAIAAAABAAMAIgciAAAHAAcAAAADAAAaAAAAAAAAACIAAAAAAAAAAAAAAgAAAAAAAgAAAgAAAAIABQAAAAAAAAAAAAAAAAAAAAAAAAAAAAAAAAACAAAAAAAAAAAAAAEAAAUAAAUAAAAAAAUAAAUAAAAAAQAAAAAAAAAAAAAAAgAAAAAAAAAAAAAAAAAAAgAFAAAAAAAAAgAFAAAAAAAAAAAAAAAAAAAAAgIAAAACBQAAAAAAAAUAAAAAAAAAAAAAAAkAAAAAAAAAAAAAAAUABQAAAAAAAAAAAAAAAAACAAAAAAAAAAAAAAAAAAUAAAAABQAAAAIAAAACAAAAAAAABQAFAAAAAAAAAAcAAAAAAQAAAAUFAAAAAAAAAAAAAAAAAAAFAAACAAUAAgAAAgAABQAAAAUAAAAAAAAAAAAAAQABAAAAAAAAAAAABQAAAgACAQAAAAAAAAAAAAAAAAAAAQIAAAAAAAAAAAAAAAUAAAUFAAAAAQAAAAACAAAAAAAAAAAAAAACAAAAAAAAAAAAAAAAAAAAAgAAAAAAAAAABQAAAgAAAAIAAAAAAAIAAAAAAAAAAAAAAAAAAAAAAAAAAAAAAAAAAAAAAAACAgAAAAACAAAAAAAAAAAAAAAAAAUAAAEAAAAAAAAAAgAAAAAAAAAAAAUAAAAABQUAAgcAAAACAAAAAgAAAAAAAAACAAACAAUAAAAAAAAAAAACAAAAAAAAAAAAAAAAAAAFAAAAAAAAAAACAgAAAAAAAAAAAQAAAgAAAAABBQAAAAAAAAAAAAABAAEAAAAAAAAAAAAAAAAAAAAAAAAAAAAABQAAAAAAAAMAAAAAAAAAAAAAAAACAAAABwAAAAIAAAAAAAUAAAAAAAAABQADAAAAAAAAAAAAAAAAAAIAAAAAAAAAAAAAAAAAAAAAAAAAAAAAAAAAAAAHAAACAAAAAAUAAAAABwAAAAAAAAcAAAAAAgAABQAAAAAADQAAAAACAAAAAAAFAAAAAAAAAAAAAAAAAAUABQAAAAAAAAAABQAHAAAAAAAAAAAAAAACBgAAAAANAAAAAAYAAAAAAAAAAgAAAAUAAAAABQUCAAABAAAAAAAAAAAAAAAHAAAAAAcCAgAAAAAAAAIAAAAAAAACAAAAAAAAAAAAAAAAAAAAAAAAAAAAAAIAAAAAAAAAAAAAAAAFAA0AAAEAAAAAAAAAAAAAAAAAAAAAAAAFBAAIAAAAAgAAAAAAAAAAAAAAAAAAAAAAAAAEAgAAAAAAAAAAAAAABwAAAAAABwAAAAAABQAFAAAAAAwAAAAAAAAAAAAABwAHAAAAAAAAAAUAAAAAAAMAAAACAAAAAAAAAAAFAAUAAAAAAAAAAAAAAAAAAAAABQAAAAAAAgAAAgAAAAAFAAAAAAAAAAAAAAUAAAAABgMAAAcAAAAAAgAAAAAAAgAAAAAAAAEAAAAAAAAAAAAAAAAHAAAAAAEAAAAAAAUAAAAAAAcAAAAAAAAAAAAAAAAAAAAAAAAAAAAAAAAAAgAAAAAAAAAACAAAAAAAAAAAAAAAAAACAAAAAAAAAAAAAAAAAgAAAAAAAAACAAAEBQACAgAAAAAAAAAAAAIDAAAAAAACAAAAAAAAAAcBAAAAAAAAAAACAAAAAAAAAAAABQEAAAIAAAAAAAAAAAABAAAAAAAAAAAAAAAAAAAFAAAEAAAAAAAAAAAAAAAAAAAAAAAAAAAAAAAAAAAAAAAAAAIABwAAAAAABAUAAAIAAAAAAAcAAAAAAAAFAAAAAAAAAAAAAAAAAAAAAAACAAAAAwAABAAAAAAABQADAAAAAAAAAAAABwAAAAAAAAAAAAIAAAAADQACAAcAAAAAAAAAAAAAAAAAAAAAAAABAAAAAAAAAAAAAAEAAAAFAAAAAAwABgAAAAAHAAAAAAAEAAMAAAAHAAAAAAAAAAMAAAAAAAACAAcAAAAAAAAAAAAAAAAAAAAAAAAAAAAAAAAAAAAAAAAAAAAAAAAAAAIAAgAAAAAAAAAAAAAAAAAAAAAAAAAAAAAAAAAAAAUAAAAAAAAAAAAAAAAAAAAAAAgAAAgAAAAAAAAAAAAAAAAAAAAAAAAAAAAAAAAAAAAAAAAAAAAAAAAAAAAAAAAAAAAAAAAAAAAAAgAAAAAAAAADBAAAAAAAAAAAAAAAAAAAAAAAAAAAAAAAAAAAAAAABwAAAAAAAAAAAAAAAAAAAgAAAAAAAAAAAAAAAAEAAAAABwAAAAAABwAAAAACAAAAAAAAAAAAAAAAAAAAAAAAAAAADAAFAAAAAAAJAAANAAAAAAAAAAAAAAAAAAAAAAACAAAAAAACAAAAAAAAAAAAAAAAAAAAAAEAAAAAAAAAAAAAAAAAAAAAAAAAAAAAAAAAAAAAAAAAAAAAAAAAAAAAAAAFAAAAAAAAAAAAAAAABwAAAAAAAAEAAAAAAAAAAAAAAAAAAAAAAAECAAAAAAAAAAAAAAAAAAAAAAAAAAABAAAAAAAAAAAAAAAAAAAAAAAAAAcAAAAAAAAABwUAAAAAAAAAAAAAAAIAAAAAAAAAAAAAAAAAAAAAAAAFAAAAAAAAAAAAAAAAAAAAAAAAAgAAAAAABwIAAAAAAAAAAAAAAAAHAAAAAwAFBgcAAAAABwAAAAIAAAcAAAAAAAAAAgAAAAAAAAAAAAAAAAAHAAAAAA0AAAAAAAAFAAAAAAAAAAAABQAAAAAAAAAAAAAABAAAAAAAAAABAAAAAAAAAAAAAAAAAAAAAAAAAAAAAgAAAAACAAEABwAABQAAAAAAAAEAAAAAAAIHAAAAAAAAAAAAAAAAAAAAAAAAAAAAAAAAAAAAAAAJAAAAAAAAAAAAAAAAAAAAAAAAAAAAAAAAAAAAAAAAAwAAAAAAAAAAAAAAAAAAAAAAAAAAAAUAAAACAAAABQAAAAAABQAAAA0AAAABAAAAAAAAAAAAAAAAAAIAAAAAAAAAAAAAAAAAAAIAAAUAAAAAAAAAAAAAAAAAAAAAAAAAAAAAAAAAAAAEAAAAAAAAAAAABwAAAgAAAAAAAAAABQAAAAAAAAAAAAADAAAAAAAAAAAABwAAAAcAAQAAAAAAAAAAAAAAAAAABQAAAAcAAAAAAAAAAAAAAAAAAAMAAAAAAAAACgAAAAAAAAACAgAAAAACAAAAAAAAAAAAAAAAAAUAAAAAAAcAAAAABwAAAAAAAAAAAAAAAAQAAgACAAAAAAAAAAAAAAAAAAAAAgAAAAMAAAAAAAAAAAAFAAAAAwAAAAAAAAAAAAAAAAAAAAACAAAAAAIAAAQAAAAADAAAAAAAAwAAAgAAAAABAAAAAAAAAAAAAAEAAAAAAAAAAAAAAAAAAAAAAAAAAAQAAAUAAAAAAAAAAAAAAAAAAAAAAAIAAAACBwAAAAAAAAACAAAAAAAAAAAAAAAAAwAAAAACAAAAAAAAAAAAAAAAAAAAAAUAAAAAAAANAAAAAAAAAAAAAAAAAAAAAAAAAAkAAAAAAAAAAAAAAAAAAAAAAAAAAAAAAAAAAAAAAAAAAAAAAwAAAAAAAAUAAAAFAwUFAAAAAAUABQAAAAAAAAAAAAAAAAAAAAADAAAABQUlAAUAAAAFAAAAAAACAAIAAAUFAAAADQYAAAAAAAAAAAAAAAAHAAACAAAEAAAAAAAAAgAAAQAABQAAAAIAAAAABQIAAAAAAAIAAAAAAAAAAgAAAAAAAAAAAAAAACQABQcAAAAAAAAABQUABQUAAgAAAgUAAAAAAAAAAAAAAAIAAAUAACIAAAAAAAACAAIAAAACAAAAAAAFAAIAAAAAAAUDAgAFJAAAAAIAAAAAAgAAAAAHAAAAAAAAAAAKAgUAAQAAAAUCAAAABwAAKgAAAAAAAAAABQAAAAACAAEABQAAAQAAAgAAAAIAAAIAAAEAAAAAAgACAAAAAAAFAAAFAAAAAAAAAAAAAAEBAwIAIgACAAAAAAAAACIFAgcAAAAAAAAAAAAAAAAAAAAAAAAAJAAiAAAABQAFAAAAJAAAAAUAAAEAAAAaAAAAJCQCAgUAAAAAAAAACQUA",
          "dtype": "i1"
         },
         "xaxis": "x",
         "yaxis": "y"
        }
       ],
       "layout": {
        "barmode": "relative",
        "legend": {
         "title": {
          "text": "Legend"
         },
         "tracegroupgap": 0
        },
        "showlegend": true,
        "template": {
         "data": {
          "bar": [
           {
            "error_x": {
             "color": "#2a3f5f"
            },
            "error_y": {
             "color": "#2a3f5f"
            },
            "marker": {
             "line": {
              "color": "white",
              "width": 0.5
             },
             "pattern": {
              "fillmode": "overlay",
              "size": 10,
              "solidity": 0.2
             }
            },
            "type": "bar"
           }
          ],
          "barpolar": [
           {
            "marker": {
             "line": {
              "color": "white",
              "width": 0.5
             },
             "pattern": {
              "fillmode": "overlay",
              "size": 10,
              "solidity": 0.2
             }
            },
            "type": "barpolar"
           }
          ],
          "carpet": [
           {
            "aaxis": {
             "endlinecolor": "#2a3f5f",
             "gridcolor": "#C8D4E3",
             "linecolor": "#C8D4E3",
             "minorgridcolor": "#C8D4E3",
             "startlinecolor": "#2a3f5f"
            },
            "baxis": {
             "endlinecolor": "#2a3f5f",
             "gridcolor": "#C8D4E3",
             "linecolor": "#C8D4E3",
             "minorgridcolor": "#C8D4E3",
             "startlinecolor": "#2a3f5f"
            },
            "type": "carpet"
           }
          ],
          "choropleth": [
           {
            "colorbar": {
             "outlinewidth": 0,
             "ticks": ""
            },
            "type": "choropleth"
           }
          ],
          "contour": [
           {
            "colorbar": {
             "outlinewidth": 0,
             "ticks": ""
            },
            "colorscale": [
             [
              0,
              "#0d0887"
             ],
             [
              0.1111111111111111,
              "#46039f"
             ],
             [
              0.2222222222222222,
              "#7201a8"
             ],
             [
              0.3333333333333333,
              "#9c179e"
             ],
             [
              0.4444444444444444,
              "#bd3786"
             ],
             [
              0.5555555555555556,
              "#d8576b"
             ],
             [
              0.6666666666666666,
              "#ed7953"
             ],
             [
              0.7777777777777778,
              "#fb9f3a"
             ],
             [
              0.8888888888888888,
              "#fdca26"
             ],
             [
              1,
              "#f0f921"
             ]
            ],
            "type": "contour"
           }
          ],
          "contourcarpet": [
           {
            "colorbar": {
             "outlinewidth": 0,
             "ticks": ""
            },
            "type": "contourcarpet"
           }
          ],
          "heatmap": [
           {
            "colorbar": {
             "outlinewidth": 0,
             "ticks": ""
            },
            "colorscale": [
             [
              0,
              "#0d0887"
             ],
             [
              0.1111111111111111,
              "#46039f"
             ],
             [
              0.2222222222222222,
              "#7201a8"
             ],
             [
              0.3333333333333333,
              "#9c179e"
             ],
             [
              0.4444444444444444,
              "#bd3786"
             ],
             [
              0.5555555555555556,
              "#d8576b"
             ],
             [
              0.6666666666666666,
              "#ed7953"
             ],
             [
              0.7777777777777778,
              "#fb9f3a"
             ],
             [
              0.8888888888888888,
              "#fdca26"
             ],
             [
              1,
              "#f0f921"
             ]
            ],
            "type": "heatmap"
           }
          ],
          "histogram": [
           {
            "marker": {
             "pattern": {
              "fillmode": "overlay",
              "size": 10,
              "solidity": 0.2
             }
            },
            "type": "histogram"
           }
          ],
          "histogram2d": [
           {
            "colorbar": {
             "outlinewidth": 0,
             "ticks": ""
            },
            "colorscale": [
             [
              0,
              "#0d0887"
             ],
             [
              0.1111111111111111,
              "#46039f"
             ],
             [
              0.2222222222222222,
              "#7201a8"
             ],
             [
              0.3333333333333333,
              "#9c179e"
             ],
             [
              0.4444444444444444,
              "#bd3786"
             ],
             [
              0.5555555555555556,
              "#d8576b"
             ],
             [
              0.6666666666666666,
              "#ed7953"
             ],
             [
              0.7777777777777778,
              "#fb9f3a"
             ],
             [
              0.8888888888888888,
              "#fdca26"
             ],
             [
              1,
              "#f0f921"
             ]
            ],
            "type": "histogram2d"
           }
          ],
          "histogram2dcontour": [
           {
            "colorbar": {
             "outlinewidth": 0,
             "ticks": ""
            },
            "colorscale": [
             [
              0,
              "#0d0887"
             ],
             [
              0.1111111111111111,
              "#46039f"
             ],
             [
              0.2222222222222222,
              "#7201a8"
             ],
             [
              0.3333333333333333,
              "#9c179e"
             ],
             [
              0.4444444444444444,
              "#bd3786"
             ],
             [
              0.5555555555555556,
              "#d8576b"
             ],
             [
              0.6666666666666666,
              "#ed7953"
             ],
             [
              0.7777777777777778,
              "#fb9f3a"
             ],
             [
              0.8888888888888888,
              "#fdca26"
             ],
             [
              1,
              "#f0f921"
             ]
            ],
            "type": "histogram2dcontour"
           }
          ],
          "mesh3d": [
           {
            "colorbar": {
             "outlinewidth": 0,
             "ticks": ""
            },
            "type": "mesh3d"
           }
          ],
          "parcoords": [
           {
            "line": {
             "colorbar": {
              "outlinewidth": 0,
              "ticks": ""
             }
            },
            "type": "parcoords"
           }
          ],
          "pie": [
           {
            "automargin": true,
            "type": "pie"
           }
          ],
          "scatter": [
           {
            "fillpattern": {
             "fillmode": "overlay",
             "size": 10,
             "solidity": 0.2
            },
            "type": "scatter"
           }
          ],
          "scatter3d": [
           {
            "line": {
             "colorbar": {
              "outlinewidth": 0,
              "ticks": ""
             }
            },
            "marker": {
             "colorbar": {
              "outlinewidth": 0,
              "ticks": ""
             }
            },
            "type": "scatter3d"
           }
          ],
          "scattercarpet": [
           {
            "marker": {
             "colorbar": {
              "outlinewidth": 0,
              "ticks": ""
             }
            },
            "type": "scattercarpet"
           }
          ],
          "scattergeo": [
           {
            "marker": {
             "colorbar": {
              "outlinewidth": 0,
              "ticks": ""
             }
            },
            "type": "scattergeo"
           }
          ],
          "scattergl": [
           {
            "marker": {
             "colorbar": {
              "outlinewidth": 0,
              "ticks": ""
             }
            },
            "type": "scattergl"
           }
          ],
          "scattermap": [
           {
            "marker": {
             "colorbar": {
              "outlinewidth": 0,
              "ticks": ""
             }
            },
            "type": "scattermap"
           }
          ],
          "scattermapbox": [
           {
            "marker": {
             "colorbar": {
              "outlinewidth": 0,
              "ticks": ""
             }
            },
            "type": "scattermapbox"
           }
          ],
          "scatterpolar": [
           {
            "marker": {
             "colorbar": {
              "outlinewidth": 0,
              "ticks": ""
             }
            },
            "type": "scatterpolar"
           }
          ],
          "scatterpolargl": [
           {
            "marker": {
             "colorbar": {
              "outlinewidth": 0,
              "ticks": ""
             }
            },
            "type": "scatterpolargl"
           }
          ],
          "scatterternary": [
           {
            "marker": {
             "colorbar": {
              "outlinewidth": 0,
              "ticks": ""
             }
            },
            "type": "scatterternary"
           }
          ],
          "surface": [
           {
            "colorbar": {
             "outlinewidth": 0,
             "ticks": ""
            },
            "colorscale": [
             [
              0,
              "#0d0887"
             ],
             [
              0.1111111111111111,
              "#46039f"
             ],
             [
              0.2222222222222222,
              "#7201a8"
             ],
             [
              0.3333333333333333,
              "#9c179e"
             ],
             [
              0.4444444444444444,
              "#bd3786"
             ],
             [
              0.5555555555555556,
              "#d8576b"
             ],
             [
              0.6666666666666666,
              "#ed7953"
             ],
             [
              0.7777777777777778,
              "#fb9f3a"
             ],
             [
              0.8888888888888888,
              "#fdca26"
             ],
             [
              1,
              "#f0f921"
             ]
            ],
            "type": "surface"
           }
          ],
          "table": [
           {
            "cells": {
             "fill": {
              "color": "#EBF0F8"
             },
             "line": {
              "color": "white"
             }
            },
            "header": {
             "fill": {
              "color": "#C8D4E3"
             },
             "line": {
              "color": "white"
             }
            },
            "type": "table"
           }
          ]
         },
         "layout": {
          "annotationdefaults": {
           "arrowcolor": "#2a3f5f",
           "arrowhead": 0,
           "arrowwidth": 1
          },
          "autotypenumbers": "strict",
          "coloraxis": {
           "colorbar": {
            "outlinewidth": 0,
            "ticks": ""
           }
          },
          "colorscale": {
           "diverging": [
            [
             0,
             "#8e0152"
            ],
            [
             0.1,
             "#c51b7d"
            ],
            [
             0.2,
             "#de77ae"
            ],
            [
             0.3,
             "#f1b6da"
            ],
            [
             0.4,
             "#fde0ef"
            ],
            [
             0.5,
             "#f7f7f7"
            ],
            [
             0.6,
             "#e6f5d0"
            ],
            [
             0.7,
             "#b8e186"
            ],
            [
             0.8,
             "#7fbc41"
            ],
            [
             0.9,
             "#4d9221"
            ],
            [
             1,
             "#276419"
            ]
           ],
           "sequential": [
            [
             0,
             "#0d0887"
            ],
            [
             0.1111111111111111,
             "#46039f"
            ],
            [
             0.2222222222222222,
             "#7201a8"
            ],
            [
             0.3333333333333333,
             "#9c179e"
            ],
            [
             0.4444444444444444,
             "#bd3786"
            ],
            [
             0.5555555555555556,
             "#d8576b"
            ],
            [
             0.6666666666666666,
             "#ed7953"
            ],
            [
             0.7777777777777778,
             "#fb9f3a"
            ],
            [
             0.8888888888888888,
             "#fdca26"
            ],
            [
             1,
             "#f0f921"
            ]
           ],
           "sequentialminus": [
            [
             0,
             "#0d0887"
            ],
            [
             0.1111111111111111,
             "#46039f"
            ],
            [
             0.2222222222222222,
             "#7201a8"
            ],
            [
             0.3333333333333333,
             "#9c179e"
            ],
            [
             0.4444444444444444,
             "#bd3786"
            ],
            [
             0.5555555555555556,
             "#d8576b"
            ],
            [
             0.6666666666666666,
             "#ed7953"
            ],
            [
             0.7777777777777778,
             "#fb9f3a"
            ],
            [
             0.8888888888888888,
             "#fdca26"
            ],
            [
             1,
             "#f0f921"
            ]
           ]
          },
          "colorway": [
           "#636efa",
           "#EF553B",
           "#00cc96",
           "#ab63fa",
           "#FFA15A",
           "#19d3f3",
           "#FF6692",
           "#B6E880",
           "#FF97FF",
           "#FECB52"
          ],
          "font": {
           "color": "#2a3f5f"
          },
          "geo": {
           "bgcolor": "white",
           "lakecolor": "white",
           "landcolor": "white",
           "showlakes": true,
           "showland": true,
           "subunitcolor": "#C8D4E3"
          },
          "hoverlabel": {
           "align": "left"
          },
          "hovermode": "closest",
          "mapbox": {
           "style": "light"
          },
          "paper_bgcolor": "white",
          "plot_bgcolor": "white",
          "polar": {
           "angularaxis": {
            "gridcolor": "#EBF0F8",
            "linecolor": "#EBF0F8",
            "ticks": ""
           },
           "bgcolor": "white",
           "radialaxis": {
            "gridcolor": "#EBF0F8",
            "linecolor": "#EBF0F8",
            "ticks": ""
           }
          },
          "scene": {
           "xaxis": {
            "backgroundcolor": "white",
            "gridcolor": "#DFE8F3",
            "gridwidth": 2,
            "linecolor": "#EBF0F8",
            "showbackground": true,
            "ticks": "",
            "zerolinecolor": "#EBF0F8"
           },
           "yaxis": {
            "backgroundcolor": "white",
            "gridcolor": "#DFE8F3",
            "gridwidth": 2,
            "linecolor": "#EBF0F8",
            "showbackground": true,
            "ticks": "",
            "zerolinecolor": "#EBF0F8"
           },
           "zaxis": {
            "backgroundcolor": "white",
            "gridcolor": "#DFE8F3",
            "gridwidth": 2,
            "linecolor": "#EBF0F8",
            "showbackground": true,
            "ticks": "",
            "zerolinecolor": "#EBF0F8"
           }
          },
          "shapedefaults": {
           "line": {
            "color": "#2a3f5f"
           }
          },
          "ternary": {
           "aaxis": {
            "gridcolor": "#DFE8F3",
            "linecolor": "#A2B1C6",
            "ticks": ""
           },
           "baxis": {
            "gridcolor": "#DFE8F3",
            "linecolor": "#A2B1C6",
            "ticks": ""
           },
           "bgcolor": "white",
           "caxis": {
            "gridcolor": "#DFE8F3",
            "linecolor": "#A2B1C6",
            "ticks": ""
           }
          },
          "title": {
           "x": 0.05
          },
          "xaxis": {
           "automargin": true,
           "gridcolor": "#EBF0F8",
           "linecolor": "#EBF0F8",
           "ticks": "",
           "title": {
            "standoff": 15
           },
           "zerolinecolor": "#EBF0F8",
           "zerolinewidth": 2
          },
          "yaxis": {
           "automargin": true,
           "gridcolor": "#EBF0F8",
           "linecolor": "#EBF0F8",
           "ticks": "",
           "title": {
            "standoff": 15
           },
           "zerolinecolor": "#EBF0F8",
           "zerolinewidth": 2
          }
         }
        },
        "title": {
         "font": {
          "size": 18
         },
         "text": "# of Interpretations per Patient (Variant Therapeutic Response)",
         "x": 0.5
        },
        "xaxis": {
         "anchor": "y",
         "color": "#333",
         "domain": [
          0,
          1
         ],
         "title": {
          "font": {
           "size": 18
          },
          "text": "Number of Interpretations"
         }
        },
        "yaxis": {
         "anchor": "x",
         "color": "#333",
         "domain": [
          0,
          1
         ],
         "title": {
          "font": {
           "size": 18
          },
          "text": "# Patients"
         }
        }
       }
      }
     },
     "metadata": {},
     "output_type": "display_data"
    }
   ],
   "source": [
    "fig = px.histogram(analysis_df, x='#_ther_response_interps',\n",
    "                   title='# of Interpretations per Patient (Variant Therapeutic Response)', # Adding a title\n",
    "                   labels={'#_ther_response_interps': 'Number of Interpretations'}, # Changing axis label\n",
    "                   color_discrete_sequence=['#636EFA'],\n",
    "                   text_auto=True) # Changing the bar color\n",
    "\n",
    "\n",
    "# Update layout\n",
    "fig.update_layout(\n",
    "    title_font_size=18, # Customize title font size\n",
    "    title_x=0.5, # Center the title\n",
    "    legend_title_text='Legend', # Custom legend title\n",
    "    xaxis_title='Number of Interpretations', # X-axis label\n",
    "    yaxis_title='# Patients', # Y-axis label\n",
    "    template='plotly_white', # Using a light theme for better visual\n",
    "    showlegend=True # Ensure the legend is shown\n",
    ")\n",
    "\n",
    "# Customize fonts and colors\n",
    "fig.update_xaxes(title_font=dict(size=18), color='#333') # Customize X-axis title\n",
    "fig.update_yaxes(title_font=dict(size=18), color='#333') # Customize Y-axis title\n",
    "fig.update_traces(marker_line_color='#333', marker_line_width=0.5, # Border line for bars\n",
    "                  textfont_size=10, # Increase text font size for readability\n",
    "                  textposition='outside',\n",
    "                  textangle=-90) # Position text outside the bars for clarity\n",
    "\n",
    "fig.show()\n",
    "fig.write_image(\"histogram_ther_response_interpretations.png\", scale=1.5, width=960, height=540)"
   ]
  },
  {
   "cell_type": "code",
   "execution_count": 101,
   "metadata": {},
   "outputs": [
    {
     "data": {
      "application/vnd.plotly.v1+json": {
       "config": {
        "plotlyServerURL": "https://plot.ly"
       },
       "data": [
        {
         "bingroup": "x",
         "hovertemplate": "Number of Interpretations=%{x}<br>count=%{y}<extra></extra>",
         "legendgroup": "",
         "marker": {
          "color": "#636EFA",
          "line": {
           "color": "#333",
           "width": 0.5
          },
          "pattern": {
           "shape": ""
          }
         },
         "name": "",
         "orientation": "v",
         "showlegend": false,
         "textangle": -90,
         "textfont": {
          "size": 10
         },
         "textposition": "outside",
         "texttemplate": "%{value}",
         "type": "histogram",
         "x": {
          "bdata": "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",
          "dtype": "i1"
         },
         "xaxis": "x",
         "yaxis": "y"
        }
       ],
       "layout": {
        "barmode": "relative",
        "legend": {
         "title": {
          "text": "Legend"
         },
         "tracegroupgap": 0
        },
        "showlegend": true,
        "template": {
         "data": {
          "bar": [
           {
            "error_x": {
             "color": "#2a3f5f"
            },
            "error_y": {
             "color": "#2a3f5f"
            },
            "marker": {
             "line": {
              "color": "white",
              "width": 0.5
             },
             "pattern": {
              "fillmode": "overlay",
              "size": 10,
              "solidity": 0.2
             }
            },
            "type": "bar"
           }
          ],
          "barpolar": [
           {
            "marker": {
             "line": {
              "color": "white",
              "width": 0.5
             },
             "pattern": {
              "fillmode": "overlay",
              "size": 10,
              "solidity": 0.2
             }
            },
            "type": "barpolar"
           }
          ],
          "carpet": [
           {
            "aaxis": {
             "endlinecolor": "#2a3f5f",
             "gridcolor": "#C8D4E3",
             "linecolor": "#C8D4E3",
             "minorgridcolor": "#C8D4E3",
             "startlinecolor": "#2a3f5f"
            },
            "baxis": {
             "endlinecolor": "#2a3f5f",
             "gridcolor": "#C8D4E3",
             "linecolor": "#C8D4E3",
             "minorgridcolor": "#C8D4E3",
             "startlinecolor": "#2a3f5f"
            },
            "type": "carpet"
           }
          ],
          "choropleth": [
           {
            "colorbar": {
             "outlinewidth": 0,
             "ticks": ""
            },
            "type": "choropleth"
           }
          ],
          "contour": [
           {
            "colorbar": {
             "outlinewidth": 0,
             "ticks": ""
            },
            "colorscale": [
             [
              0,
              "#0d0887"
             ],
             [
              0.1111111111111111,
              "#46039f"
             ],
             [
              0.2222222222222222,
              "#7201a8"
             ],
             [
              0.3333333333333333,
              "#9c179e"
             ],
             [
              0.4444444444444444,
              "#bd3786"
             ],
             [
              0.5555555555555556,
              "#d8576b"
             ],
             [
              0.6666666666666666,
              "#ed7953"
             ],
             [
              0.7777777777777778,
              "#fb9f3a"
             ],
             [
              0.8888888888888888,
              "#fdca26"
             ],
             [
              1,
              "#f0f921"
             ]
            ],
            "type": "contour"
           }
          ],
          "contourcarpet": [
           {
            "colorbar": {
             "outlinewidth": 0,
             "ticks": ""
            },
            "type": "contourcarpet"
           }
          ],
          "heatmap": [
           {
            "colorbar": {
             "outlinewidth": 0,
             "ticks": ""
            },
            "colorscale": [
             [
              0,
              "#0d0887"
             ],
             [
              0.1111111111111111,
              "#46039f"
             ],
             [
              0.2222222222222222,
              "#7201a8"
             ],
             [
              0.3333333333333333,
              "#9c179e"
             ],
             [
              0.4444444444444444,
              "#bd3786"
             ],
             [
              0.5555555555555556,
              "#d8576b"
             ],
             [
              0.6666666666666666,
              "#ed7953"
             ],
             [
              0.7777777777777778,
              "#fb9f3a"
             ],
             [
              0.8888888888888888,
              "#fdca26"
             ],
             [
              1,
              "#f0f921"
             ]
            ],
            "type": "heatmap"
           }
          ],
          "histogram": [
           {
            "marker": {
             "pattern": {
              "fillmode": "overlay",
              "size": 10,
              "solidity": 0.2
             }
            },
            "type": "histogram"
           }
          ],
          "histogram2d": [
           {
            "colorbar": {
             "outlinewidth": 0,
             "ticks": ""
            },
            "colorscale": [
             [
              0,
              "#0d0887"
             ],
             [
              0.1111111111111111,
              "#46039f"
             ],
             [
              0.2222222222222222,
              "#7201a8"
             ],
             [
              0.3333333333333333,
              "#9c179e"
             ],
             [
              0.4444444444444444,
              "#bd3786"
             ],
             [
              0.5555555555555556,
              "#d8576b"
             ],
             [
              0.6666666666666666,
              "#ed7953"
             ],
             [
              0.7777777777777778,
              "#fb9f3a"
             ],
             [
              0.8888888888888888,
              "#fdca26"
             ],
             [
              1,
              "#f0f921"
             ]
            ],
            "type": "histogram2d"
           }
          ],
          "histogram2dcontour": [
           {
            "colorbar": {
             "outlinewidth": 0,
             "ticks": ""
            },
            "colorscale": [
             [
              0,
              "#0d0887"
             ],
             [
              0.1111111111111111,
              "#46039f"
             ],
             [
              0.2222222222222222,
              "#7201a8"
             ],
             [
              0.3333333333333333,
              "#9c179e"
             ],
             [
              0.4444444444444444,
              "#bd3786"
             ],
             [
              0.5555555555555556,
              "#d8576b"
             ],
             [
              0.6666666666666666,
              "#ed7953"
             ],
             [
              0.7777777777777778,
              "#fb9f3a"
             ],
             [
              0.8888888888888888,
              "#fdca26"
             ],
             [
              1,
              "#f0f921"
             ]
            ],
            "type": "histogram2dcontour"
           }
          ],
          "mesh3d": [
           {
            "colorbar": {
             "outlinewidth": 0,
             "ticks": ""
            },
            "type": "mesh3d"
           }
          ],
          "parcoords": [
           {
            "line": {
             "colorbar": {
              "outlinewidth": 0,
              "ticks": ""
             }
            },
            "type": "parcoords"
           }
          ],
          "pie": [
           {
            "automargin": true,
            "type": "pie"
           }
          ],
          "scatter": [
           {
            "fillpattern": {
             "fillmode": "overlay",
             "size": 10,
             "solidity": 0.2
            },
            "type": "scatter"
           }
          ],
          "scatter3d": [
           {
            "line": {
             "colorbar": {
              "outlinewidth": 0,
              "ticks": ""
             }
            },
            "marker": {
             "colorbar": {
              "outlinewidth": 0,
              "ticks": ""
             }
            },
            "type": "scatter3d"
           }
          ],
          "scattercarpet": [
           {
            "marker": {
             "colorbar": {
              "outlinewidth": 0,
              "ticks": ""
             }
            },
            "type": "scattercarpet"
           }
          ],
          "scattergeo": [
           {
            "marker": {
             "colorbar": {
              "outlinewidth": 0,
              "ticks": ""
             }
            },
            "type": "scattergeo"
           }
          ],
          "scattergl": [
           {
            "marker": {
             "colorbar": {
              "outlinewidth": 0,
              "ticks": ""
             }
            },
            "type": "scattergl"
           }
          ],
          "scattermap": [
           {
            "marker": {
             "colorbar": {
              "outlinewidth": 0,
              "ticks": ""
             }
            },
            "type": "scattermap"
           }
          ],
          "scattermapbox": [
           {
            "marker": {
             "colorbar": {
              "outlinewidth": 0,
              "ticks": ""
             }
            },
            "type": "scattermapbox"
           }
          ],
          "scatterpolar": [
           {
            "marker": {
             "colorbar": {
              "outlinewidth": 0,
              "ticks": ""
             }
            },
            "type": "scatterpolar"
           }
          ],
          "scatterpolargl": [
           {
            "marker": {
             "colorbar": {
              "outlinewidth": 0,
              "ticks": ""
             }
            },
            "type": "scatterpolargl"
           }
          ],
          "scatterternary": [
           {
            "marker": {
             "colorbar": {
              "outlinewidth": 0,
              "ticks": ""
             }
            },
            "type": "scatterternary"
           }
          ],
          "surface": [
           {
            "colorbar": {
             "outlinewidth": 0,
             "ticks": ""
            },
            "colorscale": [
             [
              0,
              "#0d0887"
             ],
             [
              0.1111111111111111,
              "#46039f"
             ],
             [
              0.2222222222222222,
              "#7201a8"
             ],
             [
              0.3333333333333333,
              "#9c179e"
             ],
             [
              0.4444444444444444,
              "#bd3786"
             ],
             [
              0.5555555555555556,
              "#d8576b"
             ],
             [
              0.6666666666666666,
              "#ed7953"
             ],
             [
              0.7777777777777778,
              "#fb9f3a"
             ],
             [
              0.8888888888888888,
              "#fdca26"
             ],
             [
              1,
              "#f0f921"
             ]
            ],
            "type": "surface"
           }
          ],
          "table": [
           {
            "cells": {
             "fill": {
              "color": "#EBF0F8"
             },
             "line": {
              "color": "white"
             }
            },
            "header": {
             "fill": {
              "color": "#C8D4E3"
             },
             "line": {
              "color": "white"
             }
            },
            "type": "table"
           }
          ]
         },
         "layout": {
          "annotationdefaults": {
           "arrowcolor": "#2a3f5f",
           "arrowhead": 0,
           "arrowwidth": 1
          },
          "autotypenumbers": "strict",
          "coloraxis": {
           "colorbar": {
            "outlinewidth": 0,
            "ticks": ""
           }
          },
          "colorscale": {
           "diverging": [
            [
             0,
             "#8e0152"
            ],
            [
             0.1,
             "#c51b7d"
            ],
            [
             0.2,
             "#de77ae"
            ],
            [
             0.3,
             "#f1b6da"
            ],
            [
             0.4,
             "#fde0ef"
            ],
            [
             0.5,
             "#f7f7f7"
            ],
            [
             0.6,
             "#e6f5d0"
            ],
            [
             0.7,
             "#b8e186"
            ],
            [
             0.8,
             "#7fbc41"
            ],
            [
             0.9,
             "#4d9221"
            ],
            [
             1,
             "#276419"
            ]
           ],
           "sequential": [
            [
             0,
             "#0d0887"
            ],
            [
             0.1111111111111111,
             "#46039f"
            ],
            [
             0.2222222222222222,
             "#7201a8"
            ],
            [
             0.3333333333333333,
             "#9c179e"
            ],
            [
             0.4444444444444444,
             "#bd3786"
            ],
            [
             0.5555555555555556,
             "#d8576b"
            ],
            [
             0.6666666666666666,
             "#ed7953"
            ],
            [
             0.7777777777777778,
             "#fb9f3a"
            ],
            [
             0.8888888888888888,
             "#fdca26"
            ],
            [
             1,
             "#f0f921"
            ]
           ],
           "sequentialminus": [
            [
             0,
             "#0d0887"
            ],
            [
             0.1111111111111111,
             "#46039f"
            ],
            [
             0.2222222222222222,
             "#7201a8"
            ],
            [
             0.3333333333333333,
             "#9c179e"
            ],
            [
             0.4444444444444444,
             "#bd3786"
            ],
            [
             0.5555555555555556,
             "#d8576b"
            ],
            [
             0.6666666666666666,
             "#ed7953"
            ],
            [
             0.7777777777777778,
             "#fb9f3a"
            ],
            [
             0.8888888888888888,
             "#fdca26"
            ],
            [
             1,
             "#f0f921"
            ]
           ]
          },
          "colorway": [
           "#636efa",
           "#EF553B",
           "#00cc96",
           "#ab63fa",
           "#FFA15A",
           "#19d3f3",
           "#FF6692",
           "#B6E880",
           "#FF97FF",
           "#FECB52"
          ],
          "font": {
           "color": "#2a3f5f"
          },
          "geo": {
           "bgcolor": "white",
           "lakecolor": "white",
           "landcolor": "white",
           "showlakes": true,
           "showland": true,
           "subunitcolor": "#C8D4E3"
          },
          "hoverlabel": {
           "align": "left"
          },
          "hovermode": "closest",
          "mapbox": {
           "style": "light"
          },
          "paper_bgcolor": "white",
          "plot_bgcolor": "white",
          "polar": {
           "angularaxis": {
            "gridcolor": "#EBF0F8",
            "linecolor": "#EBF0F8",
            "ticks": ""
           },
           "bgcolor": "white",
           "radialaxis": {
            "gridcolor": "#EBF0F8",
            "linecolor": "#EBF0F8",
            "ticks": ""
           }
          },
          "scene": {
           "xaxis": {
            "backgroundcolor": "white",
            "gridcolor": "#DFE8F3",
            "gridwidth": 2,
            "linecolor": "#EBF0F8",
            "showbackground": true,
            "ticks": "",
            "zerolinecolor": "#EBF0F8"
           },
           "yaxis": {
            "backgroundcolor": "white",
            "gridcolor": "#DFE8F3",
            "gridwidth": 2,
            "linecolor": "#EBF0F8",
            "showbackground": true,
            "ticks": "",
            "zerolinecolor": "#EBF0F8"
           },
           "zaxis": {
            "backgroundcolor": "white",
            "gridcolor": "#DFE8F3",
            "gridwidth": 2,
            "linecolor": "#EBF0F8",
            "showbackground": true,
            "ticks": "",
            "zerolinecolor": "#EBF0F8"
           }
          },
          "shapedefaults": {
           "line": {
            "color": "#2a3f5f"
           }
          },
          "ternary": {
           "aaxis": {
            "gridcolor": "#DFE8F3",
            "linecolor": "#A2B1C6",
            "ticks": ""
           },
           "baxis": {
            "gridcolor": "#DFE8F3",
            "linecolor": "#A2B1C6",
            "ticks": ""
           },
           "bgcolor": "white",
           "caxis": {
            "gridcolor": "#DFE8F3",
            "linecolor": "#A2B1C6",
            "ticks": ""
           }
          },
          "title": {
           "x": 0.05
          },
          "xaxis": {
           "automargin": true,
           "gridcolor": "#EBF0F8",
           "linecolor": "#EBF0F8",
           "ticks": "",
           "title": {
            "standoff": 15
           },
           "zerolinecolor": "#EBF0F8",
           "zerolinewidth": 2
          },
          "yaxis": {
           "automargin": true,
           "gridcolor": "#EBF0F8",
           "linecolor": "#EBF0F8",
           "ticks": "",
           "title": {
            "standoff": 15
           },
           "zerolinecolor": "#EBF0F8",
           "zerolinewidth": 2
          }
         }
        },
        "title": {
         "font": {
          "size": 18
         },
         "text": "# of Interpretations per Patient (Variant Therapeutic Response) (At least 1 Interpretation)",
         "x": 0.5
        },
        "xaxis": {
         "anchor": "y",
         "color": "#333",
         "domain": [
          0,
          1
         ],
         "title": {
          "font": {
           "size": 18
          },
          "text": "Number of Interpretations"
         }
        },
        "yaxis": {
         "anchor": "x",
         "color": "#333",
         "domain": [
          0,
          1
         ],
         "title": {
          "font": {
           "size": 18
          },
          "text": "# Patients"
         }
        }
       }
      }
     },
     "metadata": {},
     "output_type": "display_data"
    }
   ],
   "source": [
    "import plotly.express as px\n",
    "\n",
    "# Assuming analysis_df is your DataFrame and '#_interps' is the column you're plotting\n",
    "fig = px.histogram(analysis_df[analysis_df['#_ther_response_interps'] > 0], x='#_ther_response_interps',\n",
    "                   title='# of Interpretations per Patient (Variant Therapeutic Response) (At least 1 Interpretation)', # Adding a title\n",
    "                   labels={'#_ther_response_interps': 'Number of Interpretations'}, # Changing axis label\n",
    "                   color_discrete_sequence=['#636EFA'],\n",
    "                   text_auto=True) # Automatically add text labels\n",
    "\n",
    "# Update layout\n",
    "fig.update_layout(\n",
    "    title_font_size=18, # Customize title font size\n",
    "    title_x=0.5, # Center the title\n",
    "    legend_title_text='Legend', # Custom legend title\n",
    "    xaxis_title='Number of Interpretations', # X-axis label\n",
    "    yaxis_title='# Patients', # Y-axis label\n",
    "    template='plotly_white', # Using a light theme for better visual\n",
    "    showlegend=True # Ensure the legend is shown\n",
    ")\n",
    "\n",
    "# Customize fonts and colors\n",
    "fig.update_xaxes(title_font=dict(size=18), color='#333') # Customize X-axis title\n",
    "fig.update_yaxes(title_font=dict(size=18), color='#333') # Customize Y-axis title\n",
    "fig.update_traces(marker_line_color='#333', marker_line_width=0.5, # Border line for bars\n",
    "                  textfont_size=10, # Increase text font size for readability\n",
    "                  textposition='outside',\n",
    "                  textangle=-90) # Position text outside the bars for clarity\n",
    "\n",
    "fig.show()\n",
    "fig.write_image(\"histogram_ther_response_interpretations_at_least_1.png\", scale=1.5, width=960, height=540)\n"
   ]
  },
  {
   "cell_type": "markdown",
   "metadata": {},
   "source": [
    "### Variant Prognostic Evidence"
   ]
  },
  {
   "cell_type": "code",
   "execution_count": 91,
   "metadata": {},
   "outputs": [
    {
     "name": "stdout",
     "output_type": "stream",
     "text": [
      "Studies found: 156\n"
     ]
    },
    {
     "data": {
      "text/html": [
       "<div>\n",
       "<style scoped>\n",
       "    .dataframe tbody tr th:only-of-type {\n",
       "        vertical-align: middle;\n",
       "    }\n",
       "\n",
       "    .dataframe tbody tr th {\n",
       "        vertical-align: top;\n",
       "    }\n",
       "\n",
       "    .dataframe thead th {\n",
       "        text-align: right;\n",
       "    }\n",
       "</style>\n",
       "<table border=\"1\" class=\"dataframe\">\n",
       "  <thead>\n",
       "    <tr style=\"text-align: right;\">\n",
       "      <th></th>\n",
       "      <th>id</th>\n",
       "      <th>studyType</th>\n",
       "      <th>propositionType</th>\n",
       "      <th>description</th>\n",
       "      <th>alleleOriginQualifier</th>\n",
       "      <th>direction</th>\n",
       "      <th>predicate</th>\n",
       "      <th>Variant</th>\n",
       "      <th>Disease</th>\n",
       "      <th>Disease ID</th>\n",
       "      <th>statement_no_ther_or_gene</th>\n",
       "    </tr>\n",
       "  </thead>\n",
       "  <tbody>\n",
       "    <tr>\n",
       "      <th>0</th>\n",
       "      <td>civic.eid:102</td>\n",
       "      <td>Statement</td>\n",
       "      <td>VariantPrognosticProposition</td>\n",
       "      <td>Unlike other studies that suggest a poorer out...</td>\n",
       "      <td>somatic</td>\n",
       "      <td>disputes</td>\n",
       "      <td>associatedWithWorseOutcomeFor</td>\n",
       "      <td>ga4gh:VA.j4XnsLZcdzDIYa5pvvXM7t1wn9OITr0L</td>\n",
       "      <td>Papillary Thyroid Carcinoma</td>\n",
       "      <td>normalize.disease.ncit:C4035</td>\n",
       "      <td>(normalize.disease.ncit:C4035, ga4gh:VA.j4XnsL...</td>\n",
       "    </tr>\n",
       "    <tr>\n",
       "      <th>1</th>\n",
       "      <td>civic.eid:103</td>\n",
       "      <td>Statement</td>\n",
       "      <td>VariantPrognosticProposition</td>\n",
       "      <td>V600E is associated with adverse pathological ...</td>\n",
       "      <td>somatic</td>\n",
       "      <td>supports</td>\n",
       "      <td>associatedWithWorseOutcomeFor</td>\n",
       "      <td>ga4gh:VA.j4XnsLZcdzDIYa5pvvXM7t1wn9OITr0L</td>\n",
       "      <td>Colorectal Cancer</td>\n",
       "      <td>normalize.disease.ncit:C4978</td>\n",
       "      <td>(normalize.disease.ncit:C4978, ga4gh:VA.j4XnsL...</td>\n",
       "    </tr>\n",
       "    <tr>\n",
       "      <th>2</th>\n",
       "      <td>civic.eid:656</td>\n",
       "      <td>Statement</td>\n",
       "      <td>VariantPrognosticProposition</td>\n",
       "      <td>In patients with papillary thyroid cancer harb...</td>\n",
       "      <td>somatic</td>\n",
       "      <td>supports</td>\n",
       "      <td>associatedWithWorseOutcomeFor</td>\n",
       "      <td>ga4gh:VA.j4XnsLZcdzDIYa5pvvXM7t1wn9OITr0L</td>\n",
       "      <td>Papillary Thyroid Carcinoma</td>\n",
       "      <td>normalize.disease.ncit:C4035</td>\n",
       "      <td>(normalize.disease.ncit:C4035, ga4gh:VA.j4XnsL...</td>\n",
       "    </tr>\n",
       "    <tr>\n",
       "      <th>3</th>\n",
       "      <td>civic.eid:1420</td>\n",
       "      <td>Statement</td>\n",
       "      <td>VariantPrognosticProposition</td>\n",
       "      <td>Study examined rare SNPs on MAP2K7 among a dis...</td>\n",
       "      <td>germline</td>\n",
       "      <td>supports</td>\n",
       "      <td>associatedWithWorseOutcomeFor</td>\n",
       "      <td>ga4gh:VA.nE0U2q_0hSEFMnTRq7MM3ZrVByPOuTdE</td>\n",
       "      <td>Lung Cancer</td>\n",
       "      <td>normalize.disease.ncit:C7377</td>\n",
       "      <td>(normalize.disease.ncit:C7377, ga4gh:VA.nE0U2q...</td>\n",
       "    </tr>\n",
       "    <tr>\n",
       "      <th>4</th>\n",
       "      <td>civic.eid:26</td>\n",
       "      <td>Statement</td>\n",
       "      <td>VariantPrognosticProposition</td>\n",
       "      <td>In acute myloid leukemia patients, D816 mutati...</td>\n",
       "      <td>somatic</td>\n",
       "      <td>supports</td>\n",
       "      <td>associatedWithWorseOutcomeFor</td>\n",
       "      <td>ga4gh:VA.nhiDwIq1klrGm3wtWO4a4BiS0jdW79Wd</td>\n",
       "      <td>Acute Myeloid Leukemia</td>\n",
       "      <td>normalize.disease.ncit:C3171</td>\n",
       "      <td>(normalize.disease.ncit:C3171, ga4gh:VA.nhiDwI...</td>\n",
       "    </tr>\n",
       "  </tbody>\n",
       "</table>\n",
       "</div>"
      ],
      "text/plain": [
       "               id  studyType               propositionType  \\\n",
       "0   civic.eid:102  Statement  VariantPrognosticProposition   \n",
       "1   civic.eid:103  Statement  VariantPrognosticProposition   \n",
       "2   civic.eid:656  Statement  VariantPrognosticProposition   \n",
       "3  civic.eid:1420  Statement  VariantPrognosticProposition   \n",
       "4    civic.eid:26  Statement  VariantPrognosticProposition   \n",
       "\n",
       "                                         description alleleOriginQualifier  \\\n",
       "0  Unlike other studies that suggest a poorer out...               somatic   \n",
       "1  V600E is associated with adverse pathological ...               somatic   \n",
       "2  In patients with papillary thyroid cancer harb...               somatic   \n",
       "3  Study examined rare SNPs on MAP2K7 among a dis...              germline   \n",
       "4  In acute myloid leukemia patients, D816 mutati...               somatic   \n",
       "\n",
       "  direction                      predicate  \\\n",
       "0  disputes  associatedWithWorseOutcomeFor   \n",
       "1  supports  associatedWithWorseOutcomeFor   \n",
       "2  supports  associatedWithWorseOutcomeFor   \n",
       "3  supports  associatedWithWorseOutcomeFor   \n",
       "4  supports  associatedWithWorseOutcomeFor   \n",
       "\n",
       "                                     Variant                      Disease  \\\n",
       "0  ga4gh:VA.j4XnsLZcdzDIYa5pvvXM7t1wn9OITr0L  Papillary Thyroid Carcinoma   \n",
       "1  ga4gh:VA.j4XnsLZcdzDIYa5pvvXM7t1wn9OITr0L            Colorectal Cancer   \n",
       "2  ga4gh:VA.j4XnsLZcdzDIYa5pvvXM7t1wn9OITr0L  Papillary Thyroid Carcinoma   \n",
       "3  ga4gh:VA.nE0U2q_0hSEFMnTRq7MM3ZrVByPOuTdE                  Lung Cancer   \n",
       "4  ga4gh:VA.nhiDwIq1klrGm3wtWO4a4BiS0jdW79Wd       Acute Myeloid Leukemia   \n",
       "\n",
       "                     Disease ID  \\\n",
       "0  normalize.disease.ncit:C4035   \n",
       "1  normalize.disease.ncit:C4978   \n",
       "2  normalize.disease.ncit:C4035   \n",
       "3  normalize.disease.ncit:C7377   \n",
       "4  normalize.disease.ncit:C3171   \n",
       "\n",
       "                           statement_no_ther_or_gene  \n",
       "0  (normalize.disease.ncit:C4035, ga4gh:VA.j4XnsL...  \n",
       "1  (normalize.disease.ncit:C4978, ga4gh:VA.j4XnsL...  \n",
       "2  (normalize.disease.ncit:C4035, ga4gh:VA.j4XnsL...  \n",
       "3  (normalize.disease.ncit:C7377, ga4gh:VA.nE0U2q...  \n",
       "4  (normalize.disease.ncit:C3171, ga4gh:VA.nhiDwI...  "
      ]
     },
     "execution_count": 91,
     "metadata": {},
     "output_type": "execute_result"
    }
   ],
   "source": [
    "data = metakb_df[metakb_df['propositionType']=='VariantPrognosticProposition'].reset_index(drop=True)\n",
    "print(f'Studies found: {len(data)}')\n",
    "data[0:5]\n",
    "\n",
    "data[['Variant','Disease']] = None \n",
    "data['Variant'] = data['id'].apply(grab_subject_variant)\n",
    "data['Disease'] = data['id'].apply(grab_qualifier_disease)\n",
    "data['Disease ID'] = data['Disease'].apply(normalize_disease)\n",
    "data['statement_no_ther_or_gene'] = data.apply(lambda row: (row['Disease ID'], row['Variant']), axis=1)\n",
    "data[0:5]"
   ]
  },
  {
   "cell_type": "code",
   "execution_count": 92,
   "metadata": {},
   "outputs": [],
   "source": [
    "analysis_df['prognostic_statements'] = analysis_df.apply(create_statements, axis=1)\n",
    "\n",
    "analysis_df['prognostic_interp_counts'] = 'Not Assessed'\n",
    "for idx, row in analysis_df.iterrows():\n",
    "    interp_counts = []\n",
    "    for statement in row['prognostic_statements']:\n",
    "        subset = data[data['statement_no_ther_or_gene']==statement]\n",
    "        interp_counts.append(len(subset))\n",
    "    analysis_df.at[idx, 'prognostic_interp_counts'] = interp_counts\n",
    "\n",
    "analysis_df['#_prognostic_interps'] = analysis_df['prognostic_interp_counts'].apply(lambda x: sum(x))"
   ]
  },
  {
   "cell_type": "code",
   "execution_count": 102,
   "metadata": {},
   "outputs": [
    {
     "data": {
      "application/vnd.plotly.v1+json": {
       "config": {
        "plotlyServerURL": "https://plot.ly"
       },
       "data": [
        {
         "bingroup": "x",
         "hovertemplate": "Number of Interpretations=%{x}<br>count=%{y}<extra></extra>",
         "legendgroup": "",
         "marker": {
          "color": "#636EFA",
          "line": {
           "color": "#333",
           "width": 0.5
          },
          "pattern": {
           "shape": ""
          }
         },
         "name": "",
         "orientation": "v",
         "showlegend": false,
         "textangle": -90,
         "textfont": {
          "size": 10
         },
         "textposition": "outside",
         "texttemplate": "%{value}",
         "type": "histogram",
         "x": {
          "bdata": "AAAAAAAAAAAAAAAAAAAAAAAAAAAAAAAAAAAAAAAAAAAAAAAAAAAAAAAAAAAAAAAAAAAAAAAAAAAAAAAAAAAAAAAAAAAAAAAAAAAAAAAAAAAAAAAAAAAAAAAAAAAAAAAAAAAAAAAAAAAAAAAAAAAAAAAAAAAAAAAAAAAAAAAAAAAAAAAAAAAAAAAAAAAAAAAAAAAAAAAAAAAAAAAAAAAAAAAAAAAAAAAAAAAAAAAAAAAAAAAAAAAAAAAAAAAAAAAAAAAAAAAAAAAAAAAAAAAAAAAAAAAAAAAAAAAAAAAAAAAAAAAAAAAAAAAAAAAAAAAAAAAAAAAAAAAAAAAAAAAAAAAAAAAAAAAAAAAAAAAAAAAAAAAAAAAAAAAAAAAAAAAAAAAAAAAAAAAAAAAAAAAAAAAAAAAAAAAAAAAAAAAAAAAAAAAAAAAAAAAAAAAAAAAAAAAAAAAAAAAAAAAAAAAAAAAAAAAAAAAAAAAAAAAAAAAAAAAAAAAAAAAAAAAAAAAAAAAAAAAAAAAAAAAAAAAAAAAAAAAAAAAAAAAAAAAAAAAAAAAAAAAAAAAAAAAAAAACAAAAAAAAAAAAAAAAAAAAAAAAAAAAAAAAAAAAAAAAAAAAAAAAAAAAAAAAAAAAAAAAAAAAAAAAAAAAAAAAAAAAAAAAAAAAAAAAAAAAAAAAAAAAAAAAAAAAAAAAAAAAAAAAAAAAAAAAAAAAAAAAAAAAAAAAAAAAAAAAAAAAAAAAAAAAAAAAAAAAAAAAAAAAAAAAAAAAAAAAAAAAAAAAAAAAAAAAAAAAAAAAAAAAAAAAAAAAAAAAAAAAAAAAAAAAAAAAAAAAAAAAAAAAAAAAAAAAAAAAAAAAAAAAAAAAAAAAAAAAAAAAAAAAAAAAAAAAAAAAAAAAAAAAAAAAAAAAAAAAAAAAAAAAAAAAAAAAAAAAAAAAAAAAAAAAAAAAAAAAAAAAAAAAAAAAAAAAAAAAAAAAAAAAAAAAAAAAAAAAAAAAAAAAAAAAAAAAAAAAAAAAAAAAAAAAAAAAAAAAAAAAAAAAAAAAAAAAAAAAAAAAAAAAAAAAAAAAAAAAAAAAAAAAAAAAAAAAAAAAAAAAAAAAAAAAAAAAAAAAAAAAAAAAAAAAAAAAAAAAAAAAAAAAAAAAAAAAAAAAAAAAAAAAAAAAAAAAAAAAAAAAAAAAAAAAAAAAAAAAAAAAAAAAAAAAAAAAAAAAAAAAAAAAAAAAAAAAAAAAAAAAAAAAAAAAAAAAAAAAAAAAAAAAAAAAAAAAAAAAAAAAAAAAAAAAAAAAAAAAAAAAAAAAAAAAAAAAAAAAAAAAAAAAAAAAAAAAAAAAAAAAAAAAAAAAAAAAAAAAAAAAAAAAAAAAAAAAAAAAAAAAAAAAAAAAAAEAAAAAAAAAAAAAAAAAAAAAAAAAAAAAAAAAAAAAAAEAAAEAAQEAAAAAAAAAAgAAAAAAAAAAAAAAAAAAAAAAAAAAAAIBAAAAAAAAAAEAAAAAAAAAAAABAQEAAAAAAAAAAAAAAAABAAAAAAAAAAEAAQEBAAABAAAAAAEAAQAAAAAAAAEAAAABAAAAAAAAAQAAAQAAAAAAAAAAAAABAAEAAQAAAAAAAAAAAAEAAAEAAQAAAQABAAAAAAAAAAAAAAAAAAABAQAAAAAAAQAAAgEAAAEAAAcAAAAAAAEBAQAAAAABAAEABwAAAAACAAACAQAAAAAHAQEAAAEAAAABAQcAAAAAAQAAAQEBAAAAAAAABwABAAAAAgAAAAEBAAAAAAAAAQAAAAcAAAACAAEAAAEBAAAAAAcBAAABAgAHAAAAAAAAAAAAAQAAAAEBAAAAAAAAAQAAAAAAAAAAAAEAAAAAAAAAAAAAAQAAAAAAAQAAAAAAAAAAAAAAAAEAAAAAAAAAAQcAAQAAAAAAAAEHAQABAQAAAAAAAQAAAAEAAAAAAgAAAAEAAAAAAAAAAAAAAAEAAAAAAQEAAAABAAAHAAAAAAAAAAAAAAACAAAAAAAAAAAAAAAAAAAAAQAHAAAHAAAAAAAAAAEBAAAAAAAAAAAHAAcBAAAAAAAAAAAAAQAAAAAAAQAAAAEAAAABAAAAAQICAAAAAAEBAQAAAAAAAAABAAAAAAEAAAAAAAAAAAIAAAEAAAAAAAAAAQAAAQAAAAABAAAAAAAAAAEBAAEBAAAAAAAAAAAAAAAAAAAAAAAAAAAAAAAAAQAAAAAAAAAAAAAAAAAAAAABAAAAAAEAAAAAAQAABwAAAAABAAAAAAAAAAEBAAEAAAEAAAABAQABAQAAAAEAAAABAQACAAAABwAAAgAAAAAAAQAAAAEAAQEAAgAAAAAAAAEAAAACAAEAAAAAAAAHAAAAAAAAAAABAAIAAAAAAAEBAAAAAAcAAAEAAAAAAAAAAAAABwAAAAAHAQAAAAACAAABAAAAAAAAAAAAAAEBAAAABwAAAAEAAAAAAAAAAAEAAAEAAAAAAAAHAQEAAAABAAEAAAAAAAAAAAIAAAAAAAAAAAAAAAAAAQEAAAAAAAAAAQEAAAAAAQEBAAAAAAAAAAAAAQAAAAIAAAEBAQAAAAAAAAEAAAcHAAAAAAEBAAAAAAAAAAAAAAAAAAAAAAAAAAABBwAAAAAAAAEAAAEBAAAABwcAAAABAAAAAAAAAAAAAAAAAAAAAAAAAAABAAABAAAAAAABAAABAAAAAAABAAAAAAEAAAABAAAABwAAAAAAAAEAAAADAAAAAAAAAQAAAQEAAAAAAAAAAAAAAAAAAAAAAAAAAQcABwAAAQAAAAAAAAAAAAAAAgAAAAAAAAAAAAABAAAAAQEBAAAHAAAAAAABAAAAAAABAgABAAAAAAAAAAAAAAAAAgEAAAcAAAABAAAAAQAAAQAAAQEBAAAAAAAAAAAAAAAAAAAAAAAAAAAAAAACAAAAAAAAAQAABwAAAAAAAAAABwEAAAAAAAAAAAAAAAAAAAAAAAAAAAAAAAAAAAAAAAAAAAAAAAAAAAAAAAABAAAAAAIDAQAAAAAAAAABAQAABwAAAQAAAAAAAQAAAAAAAAABAAAABwAAAAAAAAAAAAABAAAAAAAAAAcAAAAAAAAAAQAAAAAAAAAAAAAAAAAAAAAAAAAAAAAAAAAAAAEAAQAAAAAAAQAAAAAAAAAAAAEAAAAAAAAAAAAAAAAAAAAAAAAAAAABBwAAAQAAAAAAAAAAAAAAAAACAAcAAAAAAQAAAAAAAQAAAAAAAAAAAAAAAAAAAQAAAAAAAAAAAAAAAAABAQAAAQAAAQAAAQAAAAAAAQEAAAEBAAEAAAAAAAABAAAAAAAAAAAAAAABAAAAAAAABwABAAAAAAAAAAAAAQAAAAAAAQAAAAAAAAAAAAABAAAAAAAAAQAAAAAAAAcAAAEAAAAAAAAAAAAAAAAAAAACAAAAAAAAAAAAAAAAAAABAAEAAAAHAAEAAAABAAAAAAEAAAEAAAAAAQEAAAcAAAAAAAcAAAABAgAAAAAAAAEAAAAAAQAAAAEAAAAAAAAAAQAAAAAAAAAAAAAAAAABAAABAAAAAAAAAAAAAQAAAAAAAAAAAAAAAAAAAAAAAAACAAACAAAAAAAAAAABAgAAAAAAAQAAAAAAAAMAAAAAAAAAAQAAAAABAAAAAAEAAQAAAAcBAAAAAAAAAAABBwAABwAAAAAAAAAABwAAAQIAAAAAAAAAAAAAAAEBAAAAAAAAAAABAQAAAAAAAAAAAAAAAQAAAAEAAQAAAQAAAAAAAAAAAAAAAAAAAAAAAAAAAAAAAAAAAAAAAQAAAAAAAQAAAAEAAAAAAQEAAAAAAAECAAABAAAAAAAAAQAAAAAAAAcAAAAAAQAAAAAAAAAAAAAAAAAAAQAAAQEAAQABAAAAAAAAAAAAAAAAAAAAAAAAAQAAAAAAAAAAAAAAAAABAAcAAQABAQAAAAAAAAEAAAAAAAAAAAAAAAACAQAAAAAAAAAAAAAAAQEAAAEAAAAAAAEAAAAAAAAAAAAAAAAAAAAABwAABwABAQAAAAAAAAAAAAEAAAAAAQAABwAAAAMBAAABAAAAAAAAAAAAAAAAAAMAAAEAAAAAAAAAAQAAAAEBAAEAAAAAAAABAAABAAEAAAAAAAEABwAAAAEAAAEAAAEAAAAAAAAAAQAAAAAAAAEAAAEAAAAAAAAAAAABAAAAAAAAAAEAAQAHAAEBAAAAAAAAAAAAAAABAAAAAAAAAAAAAAAAAAABAQEAAAABAAAAAAEBAAAAAQAAAAAAAAAAAAAAAAAABwAABwAAAAAAAAAAAAAAAAAAAAAAAAAAAAAAAAAAAAAAAAAAAAAAAAEAAAAAAAAAAAAAAAAAAAAAAAAAAAAAAAAAAAABAAAAAAABAAAAAAAAAAAAAAAAAAEAAAAAAQAAAAEAAAAAAAAAAAABAQAAAAAAAAEAAAAAAAAAAAEAAAAAAAAAAAAAAAEAAAAAAAABAAAAAAAAAQEAAAAAAAAAAAcAAAAAAAABAAAAAAcHAQAAAAAAAAAAAAAAAgEAAAAAAAEBAAAAAAAAAAAAAAAAAAAAAAAAAAAAAAEAAAAAAAABAQAAAAEBAAEAAAAAAAAAAAcAAAAAAAEAAQAAAAAABwEAAAABAAABAAEAAAAAAAAAAQAAAAAAAAABBwAAAAAAAAAAAAAHAAAAAAAAAAAHAAcAAQAAAAAAAAAHAAAAAAAAAAAAAAAAAQABAAABAAAAAAAAAAEAAQAAAAAABwAHAAABAAAAAAEAAAAAAAAAAAAAAAAAAAAAAAAAAQAAAAAAAAEAAAAAAQAAAAABAAEAAAAAAAAAAAAAAAAAAAAAAQAAAQIAAQAAAAEAAAAAAAEAAAAAAAAAAAABAAEAAAAAAgAAAAEBAAAAAAAAAAAAAAAAAAAAAAAAAQAAAQIAAAAAAAAAAAABAQAAAAAAAAAAAAAAAAAAAAAAAAEAAAAAAAcAAAEAAAAAAAEAAAABAQAAAAAAAAAHAAAAAAAAAAACAAAAAAAAAAAAAAAAAAAHAAAAAAAAAAAAAAAAAAEAAAAAAQAAAQAAAQEAAAAAAQAAAAAHAAAAAAIAAAAAAQAAAwEAAAAABwAAAAABAAAAAgAAAAAABwAAAAAABwAAAQEAAAABAAAAAAABAAAAAQAAAQIAAAAAAAABAAAAAQAAAAcAAAAAAAABBwABAQAAAAAAAAABAQAAAAABAAAAAAAAAAAAAAEAAAEBAAEAAAEAAQcAAAEBAQAAAAAAAQAAAAAAAAAAAAABAAcBAAABAQAAAAABAAAAAAABAAAAAAAAAQAAAAEAAgEAAAEAAAABAQAAAQAAAAAAAwAAAAAAAAAAAQAABwAAAgIAAAEBAAAAAAAAAAAAAQAAAAAHAQAAAAcABwAAAAAAAAAAAAAHAAAAAAEHAAEAAAAAAAAAAAAAAAcABwAAAQAAAAABAAABAAABAgcAAAABAAEAAAAAAAEAAQAAAQEAAAAAAAAAAAAAAQACAAAAAAAAAAAAAAAAAAAAAgAAAAAAAAABAAEAAAAAAAAABwAAAAAAAAEAAAAAAAAABwAAAQEAAAAABwAAAAEAAAcAAQABAAAAAQAAAAAAAAAAAQAAAAAAAAAAAAACAAAAAAAAAAEBAAcAAAAAAQAAAAAAAAAAAQcAAAAAAQAAAAAAAAAAAAAAAAAAAAAAAQcBAwIAAAcBAAAAAAAAAAAAAAAAAAAAAAAAAAcBAAAAAAAAAAAAAAAAAQAAAAEAAQAAAAABAAAAAAAAAAAAAAAAAQAAAAAAAAAAAQAAAAAAAAEAAAABAAAAAAAAAAAAAAABAAAAAAAAAAAAAAAAAQEAAAAAAAAAAQEABwAAAQMAAAAAAAAAAAcAAAEAAAAAAQEAAAEHAAAAAAAAAAEAAAAAAAAAAAAAAAAAAAABAAAAAAAAAAAAAAIAAAEAAAAAAAEAAAAAAAAAAAEAAAABAAEAAAAAAAAAAAAAAQAAAAAAAAAAAQAAAAABAAAAAAEAAAAAAAAAAAAAAQAAAQEAAAAAAAAAAQAAAAAAAAAAAAABAAcAAQAAAAAAAAABAAEAAAEAAAABAQIBAAABAQAAAAAAAAAAAAAAAAAAAQAAAAEAAQAAAAAAAAABAAAABwAABwAAAAABAQEAAAAAAAABAAABAQEAAAAABwEBAAMAAAgAAAAAAAAAAAEAAAEBAAAAAAAAAAAAAAAAAAAAAAABAAAAAQAAAAABAAABBwEAAAABAAEBAQAAAAAAAQAAAAAAAAEAAAAAAAAAAQAAAQEAAAAAAAAAAAAAAAAAAAAAAQAAAQEAAAAAAAAAAQAAAAAAAAAAAAAAAAAAAAEAAAABAAAAAAEAAQAAAgABAAAAAAAAAAAAAAAAAAAAAAAAAAAAAAAAAAAAAAAAAAACAgAAAAIAAAAAAgAAAAAAAQAAAAEAAQAAAAAAAAABAAEBAAAAAQAAAAEAAAAAAAEAAQAAAQEBAAABAAAAAAABAQAAAQEAAQAAAQEBAAAAAAEAAAEBAQEAAQAAAAAAAAAAAQEAAAAAAAAAAAAAAAEAAQAABwAAAQAAAAAAAAABBwAHAAAAAAAAAAAAAAAAAAAAAgAAAAAAAAAAAAIAAAAAAQAAAQEABwEAAAAAAgcAAAAAAAAAAAAAAAAAAAAAAAAAAAAAAAAAAAAAAAAAAAAAAAAAAAAAAAAAAAAAAAAAAAAAAAAAAAAAAAAAAAAAAAAAAAAAAAABAAAAAAAAAAAAAAABAQAAAAAAAAAAAAAAAQAAAAAAAAEAAAAABwEAAQAAAAAHAAAABwEBBwcAAAAAAAAAAAAAAQAABwcHAAAAAAAHAAAAAQEAAgAAAAEAAAABAQAAAQAAAAAAAAAAAAAAAAAAAAAAAAAAAAAAAAAAAAAAAAAAAAAAAAAAAAAAAAAAAAAAAAAAAAAAAAAAAAAAAAAAAAAAAAAAAAAAAAAAAAAAAAAAAAAAAAAAAAAAAAAAAAAAAAAAAAAAAAAAAAAAAAAAAAABAAAAAQEAAQAAAAAAAAAAAAAAAAAAAAEAAAABAAEAAAAAAQABAAABAAEAAAAAAQEAAAAAAAABAAAAAAAAAAEBAAABAAAAAAAAAQABAQABAAAAAAEBAQAAAAAAAAABAQEAAAAAAgAAAQAAAAAAAAAAAAAAAQAAAAEBAQABAAEAAAAAAAAAAAEAAAAAAAAAAQEBAAAAAQABAAAAAQAAAAAAAAEAAAEAAAAAAAEBAAAAAQAAAAAAAAAAAAAAAgAAAAACAgAAAAACAAAAAAAAAAIAAAAAAAAAAAAAAQAAAAEAAAAAAAAAAQAAAAAAAAAAAAAAAAEAAgMBAAEAAAEAAAAAAQAAAAAHAAABAAAAAAAAAQAAAQAAAAAAAAABAAEAAAAAAAABAAAAAAAAAAEAAQACAQAAAAABAAAAAAABBwAAAAcAAAABAAAAAAAAAAEHAAAAAQAAAAEAAAEAAAAAAQAAAAAAAAAAAAAAAAAAAAAHAAAAAAAAAAABAQABAAABAAAAAQAAAAABAAAHAAAAAAAAAAAAAAAAAAAAAQAAAQAAAAAAAAAAAAABAAAAAAAAAAAAAAAAAAEAAAEAAAAAAgAAAAABAAcAAAEAAAAAAAAAAAEBAQAAAgAAAAECAAAAAAEAAQAAAAAAAAAAAAAAAAAAAAIAAAAAAAAAAAAAAQEBAQAAAAAAAAAAAAACAAAAAAIAAAABAAAAAAEAAAAAAAEAAAAAAAAAAAAABwAAAAAAAAAHAAAAAAABAAAAAAEAAAcAAAEAAAAAAAAAAAABAAEAAAABAAAAAgAAAgAAAAACAAACAgAAAAICAgAAAgIAAAABAAAAAAIAAgEAAAAAAAIAAAAAAAAAAAIAAAACAgAAAAEAAAIAAAAAAAECAAAAAAACAAAAAAAAAAAAAAAAAAAAAAAAAAAAAAAAAAACAAAAAAIAAAIAAAIAAAAAAAACAAIAAAAAAAIAAgAAAgACAAIAAAAAAAAAAAIAAgAAAAACAAAAAAACAgAAAAAAAgAAAgAAAAAAAgAAAAIAAAIAAAAAAAAAAAAAAgICAgAAAgICAgAAAgAAAgAAAAAAAAACAAACAgAAAAAAAAAAAAAAAAAAAAACAgIAAgAAAAAAAAAAAAAAAAACAAAAAAAAAgACAAACAAAAAAIAAAAAAAAAAAAAAAECAAAAAgEAAAAAAAAAAAACAAAAAAAAAgAAAAACAgIAAAICAAIBAAABAAAAAAAAAAIAAAAAAAAAAAACAAAAAgAAAgAAAAAAAAAAAAACAAIAAQAAAgAAAAAAAgIAAAAAAAABAAIAAAAAAAAAAgIAAAAAAgIAAAICAAACAAAAAwAAAAACAgAAAAAAAAACAAIAAAICAAAAAAACAAACAAACAAIBAgAAAAAAAAABAAAAAAACAAAAAAAAAAIAAgAAAAAAAAIAAAAAAAAAAAAAAAAAAAAAAAAAAAAAAAACAgAAAAABAAACAAAAAgICAAAAAAAAAAACAAACAgAAAAAAAAAAAAIAAAAAAAAAAAICAAAAAAEAAAAAAAAAAAAAAAACAAACAAAAAAAAAAACAAIAAAAAAAAAAAAAAAABAAAAAAAAAAACAAAAAAAAAAAAAAAAAAEAAgICAAAAAgACAAIAAAAAAAACAAAAAAAAAAAAAAICAgABAgAAAAACAAAAAAAAAAAAAAAAAAAAAAAAAAAAAgAAAAIAAAACAAICAgAAAAACAAAAAAAAAAAAAAIAAAAAAAIAAAAAAAAAAAAAAAEAAAAAAAAAAAAAAAAAAAAAAAAAAAAAAAAAAgAAAAACAAIAAAIAAQAAAAECAAIAAAAAAAAAAAICAAAAAAIAAAIAAAEAAAICAAAAAAAAAAACAAACAgACAAAAAAACAAIAAAAAAAAAAAAAAAIAAgAAAgAAAgACAAIAAAAAAAACAAACAAAAAgABAAAAAAAAAAAAAAAAAAAAAAIAAAAAAAAAAAIAAAACAAACAgIAAAIAAAAAAgAAAAAAAgAAAgAAAgAAAQAAAgAAAQACBAAAAAEAAAAAAAAAAAAAAAAAAAAAAAAAAAAAAAAAAgACAgAAAAACAAAAAgAAAAIBAAEAAAIAAgACAAIAAAACAgACAAAAAAAAAAAAAAABAgAAAAIAAAAAAAAAAAACAwAAAAAAAgAAAgIAAAAAAgAAAgIAAAAAAAACAAAAAAACAAAAAAACAAIAAAAAAAAAAAAAAgAAAgAAAAAAAAAAAAAAAAIAAAAAAAAAAAAAAQAAAAACAAAAAAAAAAAAAAAAAAAAAAIAAAQAAAAAAgAAAAACAAACAAIAAAIAAAABAAIAAAACAgICAAAAAAQAAAAAAAAAAgIAAAAAAAACAAAAAAAAAgAAAAAAAAAAAgAAAAAAAAAAAAAAAQAAAAECAAAAAAAAAAAAAgAAAAAAAQIBAAAAAAAAAAACAAAAAgAAAAACAAAAAgAAAAAAAgAAAAAAAAAAAAIAAAACAAAAAAACAAIAAAACAAACAAIAAAIAAAAAAAACAAACAgACAAIAAAACAgAAAgAAAAAAAAAAAAAAAAAAAgAAAAACAAAAAAACAgAAAAAAAgACAwIAAAIAAgAAAAAAAAAAAAMCAAAAAgAEAgIAAAAAAgAAAAAAAAAAAAAAAAAAAgABAAAAAAAAAAAAAAACAgACAQIAAAICAAACAAACAAAAAgAAAAAAAAIAAAAAAAAAAAAAAAAAAAAAAAAAAgACAwABAAACAAICBAIAAAAAAgIBAAACAAAAAAAAAAEAAAIAAAAAAAIAAgABAAACAAAAAAICAgIAAAAAAgAAAAAAAgIAAgEAAAAAAAIAAAEAAAIAAgAAAAIAAQACAgAAAAACAgACAAICAAICAAIAAAAAAAAAAAAAAAIBAAAAAAABAAIAAAAAAAAAAAAAAAACAAAAAAAAAAAAAAAAAAACAAACAgAAAAAAAAAAAAIAAAAAAAACAAAAAAAAAAICAgIAAAAAAAAAAAIAAAAAAAAAAgAAAgAAAAAAAAAAAAAAAAAAAAIAAAAAAgIAAgAAAAAAAAICAAIAAAAAAAAAAAAAAgAAAAIAAgAAAAABAAAAAgACAAAAAAAAAQAAAAAAAAIAAAAAAAAAAAAAAAABAAAAAgAAAQAAAAACAAECAAAAAAAAAAACAgAAAAACAgAAAAIAAgIAAgIAAAACAAAAAAACAAAAAgACAAAAAgACAAIAAAAAAAAAAAAAAAAAAAAAAgACAAAAAAAAAAIAAgIAAAAAAAAAAAAAAAACAAACAgAAAgIAAAAAAAIAAAAAAAIAAgAAAAAAAAIAAgAAAAEAAAAAAAAAAQABAAAAAAAAAAEAAAIAAAAAAgAAAAIAAAAAAAAAAAAAAQAAAAAAAAAAAgAAAAIAAgAABAAAAAAAAAAAAAICAAICAAAAAAAAAAIAAAAAAAAAAgAAAAAAAAAAAAAAAAAAAAAAAAAAAAACAAIAAAAAAAAAAAAAAAIAAAAAAAACAAABAAEAAAAAAAEAAAIAAAAAAAEAAAAAAAAAAAAAAAEAAAAAAAAAAAAAAAAAAgAAAQAAAAAAAAAAAAACAAAAAAAAAAAAAAAAAAAAAAEAAAAAAgAAAQAAAAEAAAAAAAAAAAAAAQABAAAAAAAAAQAAAQAAAAABAQABAAAAAgAAAQAAAAAAAAAAAAAAAAAAAAAAAAAAAAAAAAAAAAAAAAAAAAAAAgAAAAAAAAAAAAAAAAAAAAEAAgABAAIAAAAAAAAAAAAAAAAAAAAAAAAAAAACAAAAAwAAAAABAAEAAAAAAAAAAAAAAQAAAAABAAAAAAAAAAAAAAACAAAAAAIAAAAAAAAAAAAAAAEAAgIBAAABAAAAAAIAAAAAAQAAAAAAAAAAAAAAAAAAAAAAAAAAAAAAAAAAAAACAAAAAAACAAAAAAAAAAAAAAEAAAAAAAABAgAAAAAAAAAHAAAAAAABAAAAAAAAAAAAAAAAAAAAAAAAAAABAAABAAAAAAAAAAEAAAABAAAAAAEAAAAAAAAAAAAAAAAAAAAAAAAAAAAAAAAAAAEAAAAAAAAAAQAAAAACAQADAAAAAAAAAAAAAAABAAAAAAAAAAAAAAAAAAABAAAAAAAAAAABAgAAAAAAAAAAAAAAAAMAAAAAAAAAAAAAAAAAAAAAAAEAAAAAAAIAAAIAAAAAAAAAAAAAAAAAAAAAAQEAAAAAAQAAAAAAAAAAAAAAAAAAAAIAAAAAAAAAAAAAAAAAAAAAAAAAAAAAAAABAAAAAAAAAAAAAAAAAAAAAAAAAgAAAAAAAAAAAAAAAAAAAAEAAAEBAAIAAAIBAAAAAQAAAAAAAAABAAAAAAAAAAAAAAABAAAAAAAAAAABAAAAAAAAAAAAAAAAAAAAAAEAAAAAAAAAAAAAAAAAAQAAAAABAAAAAAAAAAAAAQAAAAAAAAAAAwAAAAAAAAAAAAEAAAAAAAAAAAAAAAEAAAAAAgAAAAAAAAAAAAABAAAAAQAAAAAAAAAAAAAAAAAAAAAAAAAAAAAAAAAAAAAAAAACAAAAAQIAAAAAAAEAAgAAAAABAAAAAAAAAAAAAAEAAAAAAAAAAAAAAAAAAQAAAAAABwACAAAAAAAAAAAAAAAAAQAAAAAAAAEAAAAAAAAAAAAAAAAAAQAAAAAAAAEAAAAAAAAAAAABAAAAAAAAAAAAAAAAAAAAAAAAAAAAAAAAAAAAAAAAAAAAAAAAAAABAAAAAAAAAAEAAAAAAAAAAAAAAAAAAAAAAAAAAAAAAAAAAAAAAAAHAAAAAAAAAAEAAAAABwAAAAAAAAAAAAAAAAAAAAAAAAAAAAAAAAAAAAAAAAAAAAAAAAAAAAAABwAAAAEAAAAAAgAAAAAAAAAAAAEAAAAABwEAAAAAAAAAAAAAAAAAAAAAAAABAAAAAAAAAAAAAAAAAAAAAAAHAAAAAAAAAAAAAAAAAQAAAAAAAAAAAgABAAIAAAAAAAAAAAABAAAAAAAAAAAAAAECAAAAAAACAAEBAAABAAACAAAAAAEAAAAAAAAAAAEAAAAAAAAAAAEAAAAAAQAAAAEAAAAAAAEAAAAAAAAAAAAAAAAAAAAAAAAAAAAAAAAAAAAAAAAAAAAAAgEAAAAAAAAAAAAAAAAAAAEAAAAAAAAAAAAAAAAAAAAAAAAAAAAAAAAAAAAAAAAAAAAAAAAAAAAAAQEAAAAAAAAAAAAAAAAAAAAABAAAAAAAAAAAAAAAAAAAAQIBAAAAAAAAAAABAAAAAQACAAABAAAAAAAAAAAAAAAAAAAAAgAAAAAAAAAAAAAAAAAAAAAAAAAAAAAAAAAAAAAAAAAAAAAAAAAAAAAAAAEAAAAAAAEAAAAAAAAAAQAAAQcAAAAAAAAAAAEAAAAAAAAAAAAAAAAAAAAAAAAAAAAAAAAAAAAAAAAAAAAAAAAAAQACAAcAAAAAAAAAAAEAAQAAAAAAAAAAAAAAAAAAAAAABwIAAgAABAAAAAAAAAAAAAAAAAAAAAAAAwAAAAAAAAAAAAAAAAAAAAAAAAAAAAAAAAAAAAAAAAAAAAAAAAAAAAAABwAAAQEAAAAAAAAAAAAAAAAAAAABAAAAAAAAAAAAAAAAAAEAAAAAAAACAAAAAgABAAAAAAABAAAAAAAAAQACAAAAAAAAAAAAAAAAAAAAAAAAAAAAAAAAAAABAQAAAAACAAACAQAAAAAAAAAAAAAAAAAAAAAAAAAAAAAAAAAAAAAAAAEAAAAAAAAAAAAAAAAAAAEAAAAAAAAAAAAAAAAAAAAAAAEAAAEBAAACAAAAAAEAAQAAAAAAAAACAAAAAAEAAAAAAAAAAAADAAAAAAEAAAAAAAACAAAAAAAAAAAAAAAAAAAAAAAAAAAAAAAAAAAAAAAAAAABAAEAAAAAAQAAAAAAAAAHAAEAAAAAAAEAAQAAAAAAAAAAAAACAAAAAAAAAAAAAAAAAQAAAAAAAAEAAAAAAAAAAAAAAAAAAAAAAQAAAAAAAAAAAAAAAAIAAAAAAAAAAAAAAAAAAAAAAAAAAAAAAAAAAAAAAAAAAAAAAAEAAAAAAAAAAAAAAAAAAAAAAAAAAAEAAAAAAAAAAAABAAAAAAIAAAABAAAAAAAAAAEAAAABAAAAAAAAAAAAAAAAAAAAAAAAAAAAAAAAAAECAgAAAAAAAAAAAAAAAAAAAAAAAAAAAAAAAAAAAAAAAAAAAAAAAAAAAAABAAAAAAAAAAABAAIAAQAAAAAAAAAAAAABAAAAAAAAAAAAAQAAAAAAAAAAAQAAAAAAAAAAAAAAAAAAAAAAAAAAAAAAAAAAAAAAAAAAAQABAAAAAAAAAAAAAAAAAAAAAAAAAAAAAAcAAAAAAAAAAAAAAQAAAAAAAAAAAAAAAAAAAAAAAAAAAAACAAAAAAAAAAcAAAAAAAAAAAAAAAAAAAAAAAAAAAAAAAABAAABAAAAAAAAAAAAAAAAAAAAAAAAAAABAQAAAAAAAAAAAAAAAAAAAQAAAAAAAAAAAAAAAAAAAAAAAAAAAAAAAAAAAAAAAAAAAAAAAAAAAAAAAAAAAAAAAAAAAAAAAAAAAAAAAAABAAAAAAACAAAAAAAAAAAAAAEAAAAAAAEAAQAAAAAAAAAAAAAAAAAAAQIAAAAAAAAAAAIAAAAAAAAAAAAAAAAAAAAAAQABAAAAAAAAAAAAAAAAAAEAAAAAAAAAAgAAAAACAAAAAAAAAAAAAAAAAAAAAAEAAAAAAAABAAABAQAAAAIAAAAAAAIAAAAAAAAAAAAAAAIAAQAHAAAAAgAAAAAAAQEAAAAAAAAAAAAAAAAAAAAAAAAAAAAAAAAAAAABAAAAAAAAAAAAAgAAAAAAAAAAAAAAAAAAAAAAAAAAAAAAAAAAAAAAAQAAAQAAAAAAAAAAAAAAAAAAAAAAAAAAAQAAAAAAAAEAAAAAAAAAAAAAAgAAAAIAAAAAAAABAAAAAAEAAAAAAAAAAAAAAAAAAAAAAAAAAAAAAAEAAAAAAAAAAAAAAAAAAgAAAAAAAAEAAgAAAAAAAAAAAAAAAAAAAAAAAAAAAAAAAAAAAAAAAAAAAAAAAAAAAAAAAAAAAAAAAAABAAAAAAAAAAEAAgAAAAAAAAAAAAAAAAAAAAAAAAAAAAAAAAQBAAAAAQAAAAAAAAAAAQAAAAAAAAAAAAAAAQAAAAAAAAAAAAEAAAMAAAcAAAAAAAABAAAAAAAAAAAAAAAAAAEAAAAAAAABAAAAAAAAAAAAAAAAAAAAAAAAAAAAAAAAAAAAAgAAAAAAAAEAAAAAAAAAAQAABwACAAAAAAEAAAAAAAAAAAAAAAAAAAAAAAAAAAAAAQAAAAAAAAAAAAAAAAAAAAABAAECAQAAAAAAAAAAAAAAAAAAAAAAAAAAAAAAAAAAAAAAAAAAAAIAAAAAAAAAAAAAAAAAAAADAAAAAwAAAAAAAAABAAAAAAAAAAcAAAAAAAAAAAIAAAAAAAAAAAAAAAAAAAEAAAEAAAAAAAAAAAAAAAAAAAAAAAAAAAAAAAAAAAAAAAAAAAAAAAAAAAABAAAAAAAAAQAAAAAAAQAAAAABAAAAAAAAAAAAAAAAAAAAAAAAAAAAAAAAAAIAAAAAAAEAAAADAAAAAAAAAAIAAAIAAAAAAAAAAQAAAAAAAAAAAAABAAACAAECAAABAAAAAAAAAAAAAAAAAAAAAAAAAAAAAAAAAAAAAAAAAAAAAgAAAAAAAAAAAAAAAAAAAAAAAAAAAAAAAgAAAAAAAQABAgAAAAAAAAAAAAAAAAAAAAAAAAMAAAAAAAABAAAAAAAAAgIAAAAAAAAAAAAAAAAAAAAAAQABAAAAAAAAAAAAAAAAAAAAAAABAAAAAAEAAAAAAAAAAAAAAAAAAAAAAAAAAAAAAAAAAAAAAAAAAAIAAAAAAAAAAAAAAAAAAAAAAQABAAAAAAAAAAAAAAAAAAAAAAAAAAAAAAAAAAAAAAACAAAAAAAAAAAAAAAAAAAAAAAAAgABAAAAAAAAAAABAAAAAAABAAAAAAAAAAAAAAAABwAAAAAAAAEAAAAAAAAAAAAAAAAAAAAAAAAAAAABAAAHAQAAAAAAAAABAAAAAQAAAAAAAAAAAAAAAAAAAAEAAAAAAAAAAAAAAAAAAAAAAAAAAAAAAAAHAAAAAAAAAAAAAAAAAAABAAIAAAAAAAAAAAAAAAAAAgAAAAAAAAAAAAAAAAAAAAAAAAAAAAAAAAEAAQAAAgAAAAAAAAAAAAAAAAAAAAAAAAAAAAAAAAAAAAAAAAEAAAAAAAAAAAAAAAAAAAACAAAAAAAAAAAAAAAAAAEAAAAAAAAAAAEAAAACAAABAAAAAgAAAAIBAAAAAAEAAAECAAAAAAAAAAAAAAAAAAAAAAAAAAAAAAAABwAAAAAAAAAAAAAAAAAAAAAAAAAAAAAAAAAAAAAAAAAAAAEAAAAAAQAAAAAAAAAAAAAAAAAAAAAAAAAAAAEAAAAAAAAAAAAAAAAAAAAAAAAAAAAAAAABAAAAAAAAAQAAAAIAAAAAAAAAAAAAAAAAAAAAAAAAAAEAAAAAAAAAAAAAAAAAAAAAAAABAAAAAAEAAAAAAAAAAAAAAAAAAAEAAAAAAQABAAAAAQAAAAAAAAMAAAAAAAAAAAIAAAAAAAAAAAAAAAAAAAAAAAAAAAAAAQAAAAAAAAAAAAAAAAAAAQAAAAEAAAAAAAAAAAAAAAAAAAAAAAAAAAAAAAAAAAAAAAABAAAAAAAAAAIAAQAAAAAAAAABAAAAAAAAAAAAAAAAAAAAAAAAAAAAAAAAAAAAAAAAAAAAAQAAAAAAAAAAAAAAAAIAAAAAAAAAAAAAAAAAAAABAAAAAAAAAAAAAQAAAAAAAAAAAAAAAAACAAAAAQAAAAAAAAAAAAAAAAAAAAAAAgAAAAAAAAAAAAAAAAAAAAAAAAAAAAAAAAAAAAAAAQAAAAAAAAAAAAAAAAAAAAEAAAAAAAAAAAAAAAAAAAABAAAAAAAAAAAAAQAAAAAAAAAAAAAAAAAAAAAAAAAAAAABAAAAAAAAAAAAAAAAAAAAAAABAAAAAAAAAAAAAAAAAQAAAAAAAAAAAAAAAAAAAAAAAAAAAAABAAAAAAAAAAAAAAAAAAAAAAAAAAAAAAAHAAAAAAAAAAEAAAAAAAACAAAAAAEAAAAAAAAAAAADAAAAAAAAAAAAAAAAAAAAAAAAAAAABwAAAAAAAAAAAAAAAAAAAAAAAAAAAAAAAAAABwAAAAAAAAAAAAEAAAAAAAAAAAABAAAAAAABAAAAAAcAAAABAAAAAAAAAQAAAAAAAQAAAAAAAAAAAAAAAAAAAAAAAAAAAAAAAAABAAAAAAAAAgAAAAAAAAAAAAAAAAAAAQAAAAAAAAAAAQAAAAABAAAAAAAAAAAAAAAAAAcAAAAAAAAAAAAAAAAAAAAAAAAAAAABAQAAAAIBAAAAAAAAAAAAAAAAAAAAAAAAAQAAAgABAAAAAAAAAAABAAAAAAAAAAAAAAAAAAAAAAAAAAAAAAAAAAAAAAEAAAAAAAAAAAAAAAAAAAAAAAAAAAAAAAAABwAAAAAAAAAAAAAAAAAAAAAAAAAAAAABAAAAAAAAAAAAAQAAAAAAAAAABwAAAAAAAAAAAAAAAAAAAAAAAAAAAAAAAAEAAAIAAAAAAAAAAAAAAAAAAAAAAAAAAAAAAAAAAAAAAAAAAAAAAAAAAAAAAQABAAEAAAABAAAAAAAAAQAAAAAAAAEAAAAAAAAAAAAAAAAAAAAAAAAAAAACAAAAAAAAAAABAAAAAAAAAAAAAAAAAAAAAAAAAAABAAAAAAEAAAABAAAAAAECAAAAAAAAAAAAAAAAAAAAAAAABwAAAQAAAAAAAAAAAAAAAAABAAEAAAQAAAAAAAAAAgABAAAAAAAAAAAAAQAAAAAAAAAAAAAAAAAAAAAAAAAAAAAAAAEAAAIAAAABAAAAAAAAAAAAAAAAAQAAAAAAAAAAAwAAAAAAAAAAAAAAAAAAAAAAAAAAAAAAAAABAAAAAQAAAAAAAAABAAAAAQAAAAAAAAAAAAAAAAAAAAAAAQAAAAAAAAAAAAAAAAAAAAAAAQAAAAAAAAAAAAIAAAAAAAAAAAAAAwAAAAACAAEAAAAAAAAAAAAAAAAAAAAAAAABAAAAAQAABwAAAAAAAAAAAAAAAAAAAAABAAAAAAAAAAAAAAAAAAAAAAAAAgAAAAAAAQAAAAAAAAAAAAABAAAAAAAAAAAAAAAAAAAAAAAAAAIAAAAAAAAAAAAAAAAAAAAAAQEAAAAAAAAAAAAAAAEAAAAAAQAAAAAAAAAAAAAAAAAAAQAAAAAAAAAAAAAHAAAAAAAAAAAAAAABAAAAAAAAAAAAAAAAAAAAAAAABwAAAAAAAAAAAAAAAAAAAAAAAAABAAAAAAEAAAAAAAAAAAAAAAACAAAAAAAAAAAAAQAAAAAAAAAAAAABAAAAAAAAAAAAAAAAAAAAAAEAAAEAAAABAAAAAQEBAAAAAAAAAAAAAAAAAAAAAAAAAAAAAAAAAAAAAAAAAAcAAAAAAAAAAAAAAAAAAgABAQAAAAAAAAAAAAAAAAAAAAAAAAAAAAEAAAAAAAAHAAAAAAAAAAAAAAAAAQAAAAAAAAAAAAAAAQAAAQAAAAABAAAAAAAAAAAAAQAAAAAAAAABAgAAAAAAAAAAAAAAAAAAAAEAAAAAAAAAAQAAAAAAAAAAAAAAAAAAAAAAAAAAAQAAAgAAAgAAAAAAAAAAAQAAAAABAAAAAAAAAAACAAAAAAAAAAAAAAAAAAEAAAAAAAAAAAAAAAAAAAAAAAAAAAAAAAAAAAAAAAAAAQAAAQAAAAAAAAAAAAAAAAABAAAAAAAAAAEAAAAAAAAAAAAAAAAAAAAAAAAAAAAAAAAAAAAAAAAAAAAAAAABAAAAAAAAAAAAAAAAAAAAAAAAAAAAAQAAAAIAAQAAAAIABwAAAQIAAAAAAAAAAAAAAAAAAAAAAgAAAAAAAAAAAAIAAAAAAAAAAAAAAAEAAAAAAAAAAAAAAAACAQAAAAAAAAEAAAAAAAAAAAEAAAAAAAACAAAAAAAAAgAAAAAAAQAAAAAAAwAAAAAAAAABAAAAAAAAAAABAgAAAAAAAAAAAQAAAAAAAAIBAAAAAAAAAAAAAAAAAAAAAAAAAAAAAAAAAAAAAAAAAAABAQAAAAAAAAEAAAEAAAAAAgAAAAABAAAAAAAAAAAAAAEAAAAHAAEAAAAAAAAAAAAAAAACAAAAAAAAAAAAAAAAAAAAAAAAAAAAAQAAAAAAAAAAAAIAAAAAAAAAAAAAAAAAAAAAAAAAAAAAAAAAAAAAAAIAAAAAAQEAAAAAAAAAAQAAAQAAAAAAAAACAAAAAAEAAQAAAAAAAAACAAAAAAEAAAAAAAAAAgAAAAAAAAACAAAAAAAAAAABAAAAAgAAAAAAAQAAAAAAAAAAAAAAAAAAAQAAAAAAAAAAAAEAAAAAAAAAAAAAAAACAAAAAAAAAAAAAAAAAAAAAQAAAAAAAAAAAAIAAAAAAAAAAAAAAAAAAAAAAAEAAAAAAgIAAAEAAAAAAAABAAAAAAAAAAIAAAAAAAAAAAEAAAAAAAAAAAAAAAAAAQAAAAIAAgEAAAAAAAAAAAEAAAAAAQAAAAAAAAAAAAAAAAAAAAAAAAAAAAAAAAAAAAAAAAAABwAAAAEAAAAAAAABAAAAAAAAAAAAAAAAAAEAAAAAAAAAAAACAAAAAAAAAAAAAAAAAAAAAAAAAAAAAAAAAAAAAAAAAAAAAQAAAAAAAAAAAQEAAAAAAAAAAAAAAAAAAAIAAAACAAAAAAAAAAAAAAAAAAAAAAAAAAAAAAAAAAAAAgEAAAAAAAEAAAAAAAAAAAAAAAAAAAAAAAAAAAAAAAAAAAAAAAAAAAAAAAABAAAAAQABAAAAAAIAAgAAAAAAAAAAAAAAAAAAAAAAAAAAAAEAAAAAAAAAAAAAAQAAAAEAAAAAAAACAAABAAAAAAAAAAAAAAAAAAAAAAAAAAAAAAAAAAAAAAAAAAAAAAAAAAAAAAAAAAAAAAABAAABAAEAAAAAAgAAAAAAAAAAAAEAAAACAAAAAAABAAABAAIAAAEAAAAAAgAAAAEAAAAAAAAAAQEAAQAAAAAAAAAAAAAAAAAAAQAAAAAAAAAAAAAAAAAAAQAAAQAAAAAAAAAEAAAAAAACAAEBAAAAAwAAAAAAAAABAAAAAAEAAAAAAAAAAAAAAAAAAAAAAAAAAAAAAAAAAAAAAAAAAAAAAAAAAAAAAAAAAAAAAAAAAAAAAAAAAAAAAAAAAAAAAAAAAAAAAAAAAAAAAAAAAAABAAEAAwAAAAAAAAAAAAAAAAAAAAAAAAAAAAAAAAAAAAAAAAcAAAAAAAAAAAAAAAAAAAAAAAEAAAAAAAAAAgAAAAAAAAABAAAAAAABAAAAAAAAAAAAAAAAAAAAAAEAAAAAAAAHAAAAAAAAAAAAAAABAAACAAEAAAAAAAAAAAAAAAAAAAAAAQAAAAAAAAAAAAACAAAAAAAAAAIAAAAAAAcBAAAAAAAAAAAAAAABAAAAAAABAAABAQcAAQAAAAAAAAAAAAAAAAAAAAAAAAACAAAAAAAAAAAAAAAAAAAAAAAAAAAAAAAAAAAAAQEAAAAAAAAAAAAAAAADAAABAAABAAACAAAAAAAAAgAAAAAAAAAAAAAAAgcBAAAAAAEAAgAAAAAAAAAAAAAAAAAAAAAAAAAAAAABAAAAAAAAAAACAAAAAAABAgAAAAAAAAAAAAICAAAAAAAAAAAAAAAAAAABAAEAAAAAAAAAAAEAAAAAAAAAAAAAAAAAAAAAAAAAAAAAAQAAAAACAAAAAAAAAAAAAAABAAAAAAAAAAAAAAAAAAAAAAAAAAAAAAAAAAAAAAAAAAAAAAAAAAAAAAABAAAAAAAAAAAAAAAAAAAAAAAAAAAAAAAAAQAAAAAAAAAAAAAAAAAAAAEAAAAAAAAAAAAAAAAAAAAAAAABAAAAAAABAAIAAAAAAAAAAAAAAAAAAAAAAAAAAAAAAAAAAAAAAAAAAAAAAAEAAAABAAAAAQAAAAAAAAEBAAAAAAAAAAAAAAEABwAAAAAAAQAAAAAAAAAAAAAAAAAAAAEAAAAAAAAAAAAAAAAAAAAAAAAAAAEAAAAAAAAAAAAAAAAAAAAAAAABAAAAAAEAAAACAAAAAQAAAAAAAAAAAAAAAAAAAAAAAAABAAAAAAAAAAAAAAAAAAAAAAAAAAIAAAAAAAAAAAAAAAEAAAAAAAAAAAAAAAAAAAAAAAAAAAAAAAAAAAAAAAAAAAAAAgEAAAAAAQABAQAAAAACAAAAAAAAAAEAAgAAAAAAAQABAAAAAAAAAAAAAAACBwAAAAAAAAABAAAAAQAAAAAAAAAAAAAAAAAAAQEDAAAAAAAAAAAAAQAAAAAAAAAAAAAAAAAAAAAAAAAAAAAAAQAAAAAABwAAAAAAAAAAAAAAAAAAAAAAAAAAAAAHAAEAAAAAAAAAAAAAAAAAAAAAAAAAAAAAAAAAAAAAAQAAAQAAAAAAAAAAAAAAAAAAAAABAAAAAAAAAAAAAAAAAAAAAAAAAAIAAAAAAAAAAAAAAgAAAAAAAAABAAAAAAAAAAAAAAAABwAAAAAAAAAAAAAAAAAAAAAAAAAAAAAAAAAAAQAAAAEAAAEAAAAAAAAAAAAAAAAAAAAAAAAAAAAAAAAAAAAAAAABAAAAAAAAAAAAAAAAAAAAAAAAAAAAAAACAAAAAAAAAAACAAAAAAAAAAAAAAAAAAEBAAAAAAAAAAAAAAMAAAAAAAAAAAEAAAIAAAAAAAAAAAAAAAABAAAAAAAAAAAAAAAAAAAAAAAAAAABAAAAAAAAAQAAAAAAAAAAAAAAAAAAAAAAAAAAAAAAAAAAAAAAAAAAAAAAAAAAAAAAAAAAAAAAAAAAAAAAAAAAAAAAAAAAAAAAAAAAAAAAAAAAAAEAAAAABwAAAAAAAAAAAAEAAAABAAAAAgAAAAAAAAAAAAAAAAAAAAAAAAAAAQAAAAAAAAAAAAAAAAAAAAAAAAABAAAAAAAAAAABAQAAAAEAAgAAAAAAAAAAAAEAAAAAAAAAAAABAAAAAAAAAAAAAAAAAAAAAAAAAAAAAAAAAgAAAAAAAAAAAAAAAAAAAAAAAAAAAQAAAQAAAAEAAAAAAQAAAAAAAAAAAAAAAAAAAAAAAAAAAAAAAAAAAAAAAAAAAAAAAAAAAQAAAAAHAQAAAAAAAAAAAAAAAAAAAAAAAAAAAAAAAAAAAAACAQAAAAAAAAAAAAAAAAAAAAAAAAIAAAAAAAAAAAAAAAAAAgIAAAAAAAAAAAAAAAAAAAABAAAAAAACAAAAAAAAAAAAAAAAAAAAAQAAAAAAAAAHAAAAAAAAAAAAAAAAAAAAAAAAAAABAAAAAQAAAAAAAQAAAAAAAAAAAAAAAAAAAAACAAAAAAAAAgAAAAAAAAAAAAAAAAAAAgAAAAAAAAIAAAAAAAAAAAEAAAAAAAAAAAAAAAAAAAAAAAAAAgAAAAAAAAEAAAAAAAAAAAAAAAAAAAcAAQABAAAAAAAAAAAAAAAAAAAAAAAAAAAAAAAAAAAAAAAAAAAAAAAAAAAAAAAAAAAAAAAAAAEAAAcAAAAAAAAAAAAAAAAAAAAAAAAAAAABAAAAAAEBAQABAAAAAAAAAAAAAAAAAAABAAAAAgAAAAAAAAAAAAAAAAAAAAABAAABAAAAAAEAAAAAAAAAAAAAAQAAAAAAAAAAAAAAAAAAAAAAAAAAAAAAAAAAAAAAAAAAAgAAAAAAAAAAAAAAAAAAAAABAAABAAAAAAAAAAAAAAcBAAAAAAAAAAAAAAAAAAABAAAAAAAAAAACAAEAAQAAAAAAAQAAAAAAAAAAAAAAAAAAAAEABwAAAAAAAAAAAAAAAAAAAAAAAAAAAAEAAAcBAAABAAAAAQAAAAAAAAAAAAAAAAABAAAAAAAAAAAAAAAAAAIAAAAAAAAAAAABAAABAAEAAAEAAAAAAAAAAAAAAAAAAAAAAAAAAAAAAAAAAAACAAAAAAAAAAACAAAAAAAAAAcAAQAAAAAAAAAAAAAAAAAAAAAAAAAAAAAAAAECAAAHAAAAAAAAAAAAAAAAAgAAAAAAAAAAAAAAAAAAAAAAAAAAAAAAAQAAAAAAAQEAAAEAAAEAAAAABwAAAAAAAAAAAAEAAAEAAAAAAAAAAAAAAAAAAAAAAAAAAQAAAAAAAAAAAAAAAAAAAAAAAAAAAAAAAAAAAAAAAAABAAcAAAAAAAAAAAAAAAAAAAEAAAEAAAAAAAAAAAAAAQAAAAAAAAAAAAEAAAAAAAAAAAAAAAACAAAAAAABBwAAAAAAAAAAAQAAAAAAAAAAAAAAAAAAAAAAAAABAAAAAAACAAAAAAAAAAAAAAAAAAAAAAAAAAAAAAAAAgABAAAAAAAAAAACAAAAAAAAAAAAAAAAAAAAAAAAAAABAAEAAAAAAAAAAAAAAAAAAAAAAAAAAAAAAAAAAAAAAgAAAAAAAAAAAAAAAAAAAAABAgAAAgAAAAAAAAABAAAAAAAAAAAAAAAAAAAAAAAAAAAAAAAAAAAAAAEAAAAAAAAAAAAAAAAHAAAAAAAAAAAAAAAAAAAAAAAAAAAAAAAAAAAAAAAAAAAAAAIAAAAAAAAAAAABAAAAAAAAAAAAAAAAAQAAAAAAAAcAAAEBAAAAAAAAAAAAAAAAAAAAAAAAAAAAAAAAAAAAAAAAAAAAAAAAAAAAAAAAAAAAAAAAAAAAAAAAAAAAAAAABwAAAQAAAAIAAAAAAAAAAAAAAQAAAQAAAAAAAAAAAAEAAAAAAAAAAAAAAAAAAAcAAAAAAAAAAAAAAAABAAAAAAAAAAAAAAAAAgABAAAAAAAAAAABAAEAAAAAAAAAAAAAAQAAAAAAAAAAAAABAAABAAAAAAEAAAAAAAAAAAIAAAAHAAAAAAAAAAAAAAAAAQAAAAAAAAAAAAAAAAACAAAAAAAAAAAAAAAAAAAAAAAAAAAAAAAAAQAAAAAAAAAAAAAAAAAAAAAAAAAAAAAHAAAAAAAAAAAAAQACAAIAAAAAAAAAAAAAAAAAAAAAAAABAAAAAAAAAAcAAAEAAAAAAAABAAAAAAAAAAAAAgAAAQAAAAAABwAAAAAAAAAAAAAAAgAAAAAAAAIAAAAAAAAAAAAAAQAAAAAAAAAAAAAAAAAAAAAAAAAAAAIAAAAAAAAAAAAAAQAAAAEAAAAAAAABAAAAAAABAAAAAAAAAAAAAAAAAAABAgAAAAAAAAAAAAAAAAAAAAAAAAAAAAAAAAABAAAAAAAAAgAAAAAAAAIAAAAAAAAAAAAAAAAAAAAAAAAAAAAAAAEAAAABAAADAAABAAAAAAAAAAAAAAAAAAAAAAAAAAAAAAACAAAAAAAAAAAAAAAAAAAAAAAAAAAAAQAAAAAAAAAAAAEAAAAAAAAAAQEAAAABAAAAAAAAAAAAAAAAAAAAAAAHAAAABwAAAAAAAAAAAAAAAAAAAAAAAAABAAAAAAAAAAABAAAAAAAAAAAAAAAAAAAAAAEAAAAAAAEAAAAAAAAAAAAAAAAAAAAAAAAAAAAAAAAAAAAAAAAAAAAAAAAAAAAAAAAAAAAAAAAAAAAAAAAAAAAAAAAAAAAAAAADAAAAAAAAAAAAAAAAAAAAAAAAAAAAAAAAAQAAAAAAAAAAAQAAAgEAAQAAAAAAAAAAAAAAAAAAAAEAAAEAAAAAAAAAAAAAAAAAAAAAAAIAAAAAAAAAAwAAAAAAAAAAAAAAAAAAAAAAAAAAAAAAAAABAAAAAQAAAQAAAAAAAAEAAAAAAAAAAwEAAAAAAAAAAAAAAAAAAAAAAAAAAAAAAAAHAAAAAAAAAAAAAAAAAAAAAAAAAAAAAAAAAAADAAAAAAAAAAABAAACAAAAAAEAAAAAAQAAAAAAAAAAAAABAAAAAAAAAAIAAAAAAAAAAAAAAAAAAAABAAAAAQEBAAEAAQIAAAAAAAAAAAAAAAAAAAAAAAAAAAAAAAAAAAAAAAAAAAABAAAAAAAAAAAAAAAAAQcAAAAAAAAAAQAAAAAAAAAAAQAHAAAAAAEAAAAAAAAAAAAAAQAAAgAAAAAAAAAAAAAAAAAAAAAAAAAAAgAAAAAAAAAAAAIAAAAAAAEAAAAAAAAAAAEAAAAAAAAAAAABBwAAAAAAAAEAAAAAAAAAAAAAAAAAAAAAAAAAAAAAAAACAAAAAAAAAAABAAAAAAABAAAAAAACAAAAAAAAAAAAAQAAAAAAAAAAAAABAAAAAAABAAAAAAAAAAAAAAAAAAAAAQAAAAAAAAAAAAAAAAAAAAAAAAAAAAAAAAABAAAAAAEAAAAAAAAAAQAAAAAAAQAAAAEBAAAAAAcAAAAAAAAAAAAAAAAAAAEAAwAAAAAAAAAAAAAAAAAAAAAAAAAAAAABAAAAAAAAAAEAAQAAAAAAAAAAAAAAAAAAAAAAAAAAAAAAAAAAAAAAAAcAAAAAAAAAAAAAAAABAAAAAAAAAAAAAAAAAAEAAQAAAAIAAAABAAAAAQEAAAAAAAAAAAAAAAAAAAAAAQAAAAAAAAABAAEAAAAAAAAAAAAAAAAAAAMAAAAAAAAAAAAAAAAAAAAAAAAAAAAAAAAAAgAAAAAAAAAAAAAAAAcAAAAAAAAAAAAAAAAHAAAAAAEAAAAAAAAAAAIAAAEAAAAAAQAAAAEAAgAAAQAAAAAAAAAAAAEHAAAAAAAAAAAAAAAAAAAAAAAAAAIAAAAAAAAAAAABAQAAAQAAAAAAAAABAQAAAAAAAAAAAQAAAAAAAAAAAAAAAQAAAAAAAAAAAAAAAQACAAAAAAAAAAABAAAAAAAAAAABAQAAAAAAAAEAAAAAAAAAAAcABwAAAAAAAAAAAAAAAAEBAQAAAAAAAAAAAAAAAAAAAQAAAAAAAAAAAAEAAAAAAAAAAAAAAAAAAAABBwAAAAAAAAAAAQAAAAAAAAAAAAAAAAAAAQAAAQEAAAAAAAAAAAAAAAEAAAAAAAADAAAAAAAAAAAAAAAAAAAAAAEAAAAAAAAAAAEAAAEAAAAAAAAAAAAAAAAAAAAAAAAAAAAAAgAAAAAAAAAAAAAAAAACAAAAAAAAAAAAAAAAAAAAAgAAAAAAAAAAAQAAAgAAAAAAAAAAAAACAAAAAAAAAQEAAAABAAAAAAAAAAAAAAAAAAAAAAAAAAAAAAAAAAAAAAAAAAAAAAAAAAIBAAAAAAAAAAAAAAIAAAEAAAACAAAAAAAAAAAAAgAAAAAAAAAAAAABAAAAAAAAAAAAAAAAAAAAAAAAAAcAAAAAAAEAAAAAAQAAAAEAAAAAAAAABwAAAAEAAgAAAAAAAAAAAAAAAAAAAAAAAAAAAAAAAAAAAAAAAAAAAAAAAAAHAAAAAAAAAAAAAAEAAAADAAAAAAAAAAAAAAIBAAABAAAAAAAAAAAAAAAAAAAAAQAAAAAAAAAAAAAAAAAAAAAAAAAAAAAAAAAAAQAAAAAAAAAAAAEAAAAAAAAAAAAAAAAAAQAAAAAAAAAAAAAAAAAAAAAAAAAAAAAAAAAAAAAAAAAAAAAAAAEBAAAABwAAAAAAAAAAAAAAAQABAgEAAAAAAQAAAAAAAAEAAgAAAAAAAAAAAAAAAAAAAAAAAAAAAAAAAAABAAEAAAECAAAAAAAAAAAAAAAAAAAAAAEAAAAAAAAAAAAAAAAAAAABAQAAAAABAAAAAAAAAQAAAQAAAAAAAAAAAAAAAAAAAQEAAAAAAAAAAgIAAAAAAAAAAAAAAAAAAAAAAAAAAAAAAAIAAAACAAAAAAAAAAAAAAAAAAAAAAEAAAAAAAAAAAAAAAAAAAAAAAAAAAAAAAABAAAAAAAAAAAAAAABAAAAAAcAAAIAAAAAAAAAAAAAAAEAAAAAAAEAAAAAAAEABwAAAAAAAAAAAAAAAAEAAQAAAAAAAAAAAAAAAAAAAAIAAAABAAIAAAAAAAABAQAAAAAAAAAAAAAAAAAAAAAAAAACAAAAAAABAAAAAQAAAAABAAAAAAAAAAABAAABAAABAAAAAAAAAAAAAAAAAAAAAAAAAAAAAAAAAAAAAAAAAAAAAAAAAAAAAAAAAAAAAAAAAAAAAAAAAAAAAAAAAAAAAAAHAAIAAQEAAAAAAAAAAAIAAAAAAAAAAAEAAAAAAAAAAQAAAAAAAAABAAAAAAAAAAAAAAAAAAAAAAAAAAAAAAAABwAAAAAAAAIAAgAAAAAAAQAAAAAAAAAAAAEAAAABAAAAAQAAAAAHAAAAAAAAAAAAAAAAAAAAAAAAAAAAAAAAAAAAAAAAAAAAAAAAAQAAAAAAAAAAAAAAAAAAAgAAAAIAAAAAAAEAAAEAAAAAAAABAAAAAAAAAAAAAAAAAAABAAAAAAAAAAAAAAAAAAAAAAEAAAAAAAABAAEAAAAAAAAAAQAAAAAAAAIBAAAAAAAAAAAAAAEAAAEAAAACAAAAAAAAAQAAAAAAAAAAAAAAAAAAAQAAAAABAgEAAAAAAAABAAAAAAAAAAAHAAAAAAABAAABAAAAAAAAAAAAAAAAAAAAAAIAAQAAAAACAAABAAAAAAAAAAAAAAAAAAAAAAIAAAAAAAEAAAAAAAAAAAAAAAEAAAAAAAAAAAAAAAAAAAACAAAAAAAAAAAAAAIAAAAAAAAAAAAAAAAAAAAAAAACAAAAAAAAAAAAAAAAAAAAAAAAAAAAAAEAAwAAAAAAAAABAAAAAAAAAAAAAQABAAAAAAAHAAAAAQAAAAAAAQEAAAAAAQABAgAAAAAAAAAAAAAAAAAAAAAAAAAAAAAAAAAAAAIAAQAAAAAAAAAAAAAAAAAAAAAAAAEAAAAAAAAAAAAAAAAAAAAAAAEAAAAAAAAAAAAAAAAAAwAAAAAAAAAAAAAAAAAAAAAAAAAAAAAAAAAAAAABAAAAAAAAAAABAAAAAAIABwAAAgAAAQAAAAAAAAAAAAAAAQAAAAEAAAAAAAEAAAAAAAAAAAAAAAAAAAAAAAAAAAAAAAAAAAEAAAAAAAIBAAAAAAAAAAEAAAAAAAAAAAAAAAAAAAAAAAAAAAAAAgAAAAAAAQACAAAAAAABAQAAAAEAAAAAAAAAAAAAAAAAAAEAAAEAAAAAAAEAAQAAAAAAAAAAAAAAAAAAAQAAAAAAAAAAAgAAAAABAAABAAAAAAAAAAAAAAAAAAAAAAAAAAAAAAAAAQABAQAAAAACAAAAAAAAAAAAAAABAAAAAAAAAAcAAQAAAAEAAAAAAAAAAAACAAAAAAAAAAAAAQAAAAAAAAAAAAAAAAAAAAAAAAAAAAAAAAAAAAAAAAAAAAAAAAAAAAAAAAAAAAAAAAAAAAAAAAAAAAAAAgMAAAAAAAAAAAAAAAEAAAAAAAAAAAAAAAEAAAAAAAABAAAAAAEAAAAAAAAAAAAAAAAAAAAAAAEAAAAAAAAAAAAAAQAAAAAAAAEAAAAAAAAAAAIAAAAAAAAAAAAAAAAAAAAABwAAAAAAAgAAAAAAAAECAAAAAAAAAAAAAAAAAAAAAAAAAAEAAAAAAAAAAAAAAAAAAAAAAAAAAAAAAAAAAAAAAAAAAAAAAAAAAAAAAAAAAAABAAAAAAAAAAACAAAAAAAAAAAAAAAAAAAAAAcAAAAAAAcCAAAAAAAAAAAAAAAAAAAAAAAHAAAAAgAAAAAAAAAAAQAAAAAAAQAAAAAAAAAAAAAAAAAAAAABAAABAAAAAAAAAQEAAAABAAAAAAAAAAAAAAAAAAAAAAAAAgAAAAEAAAAAAAAAAAAAAAAAAAAAAAAAAAACAwAAAAIAAAAAAAAAAQAAAAEBAAAAAAAAAAAAAAAAAAAAAQAAAQAAAAAAAAAAAAAAAAABAgAAAAAAAAEAAAAAAAAAAAABAAABAAAAAAEAAAAAAAAAAAAAAAAAAAAAAAAAAAAAAAAAAAABAAEAAAAHAAAAAAAAAAAAAAAAAAAAAAAAAQAAAAAAAAAAAAcAAAAAAQAAAQAAAAAAAAAAAQAAAAAAAAEAAAAAAQAAAAAAAwAAAAAAAAAAAAAAAQAAAAABAAACAAAAAAABAAAAAAAAAAAAAAAAAAAAAAAAAAAAAAcAAAIBAAAAAAAAAAAAAQAAAAAAAAEAAAAAAAAAAAAAAAEAAQAAAAAAAAAAAAAAAAACAAAAAAAAAAAAAAAAAQIBAAAAAAAAAAAAAAAAAAAAAAAAAAAAAAcAAAAAAAAAAAAAAAAAAAAAAAABAAAAAAEAAAAAAAAAAAIAAAAAAAAAAAAAAAAAAAAAAAABAAAAAAAAAAAAAAAAAAAAAAIBAAAAAAAAAAAAAAAAAAAAAAAAAAAAAAAAAAAAAAEAAAAAAAAAAAAAAAAAAAAAAgAAAAAAAAAAAAAAAAACAQAAAAABAAAAAAAAAAAAAAAAAAAAAAAAAAAAAAAAAQABAAAAAAAAAAAAAAAAAAAAAAAAAAAAAAAAAAAAAQAAAAAAAAAAAAAAAAAAAAAAAAAAAAAAAAAAAAEAAAAAAAAAAAAAAAcAAAAAAAAAAAEAAAEAAAAAAAAAAgAAAAABAAAAAAAAAAAAAAAAAAAAAAAAAAAAAAAAAQAAAgAAAAAAAAACAAAAAAAAAAACAAAAAAAAAQAAAAAAAAAAAAAAAAAAAAAAAAAAAAABAAAAAAACAAAAAAAAAAAAAAAAAAAAAAAAAAAAAAAAAAAAAAEAAAAAAAAAAAAAAAAAAgcAAAEAAAAAAAAAAQAAAAAAAAAAAAEBAAAAAAAAAAAAAAAAAAAAAAAAAAAAAQAAAQAAAAAAAgAAAAAAAAABAAAAAAEAAAEAAAABAAAAAAAAAAAAAQAAAAAAAQAAAAABAAAAAAAAAQAAAAAAAAAAAAAAAAAAAAEAAAAAAAABAAAAAAIAAAAAAQAAAAAAAAAAAAAAAAAAAAAIAAAAAAAAAQAAAAAAAAACAAAAAAACAAAAAAAAAAABAAAAAAAAAAAAAAAAAAAAAAAAAAAAAQAAAAAAAAAAAAAAAAAAAAABAQAAAAAAAAAAAAAAAAAAAAAAAgAAAAAAAAAAAAAAAAAAAAAABAEAAAAAAAAAAAAAAAEAAAAAAAAAAAAAAAAAAAECAAAAAAAAAAAAAAAAAAAAAgAAAAAAAAABAAAAAAAAAAAABwAAAAAAAAAAAAABAAAAAAAAAAAAAAAAAAAAAAAAAAAAAAAAAAAAAAECAAABAAAAAAAAAAAAAAABAAABAAAAAAAAAAAAAAAAAAAAAAAAAAAAAgAAAAAAAAACAAAAAAEAAAAAAAIAAAAAAAAAAgAAAAAAAAAAAAIAAAACAAAAAAAAAAAAAAAAAAAAAAAAAgAAAAAAAQAAAAAAAAAAAAAAAAAAAAAAAAAAAAABAgAAAAABAAAAAAEAAAABAQAAAAEAAQEAAQAAAAAAAAAAAAEAAAAAAQAAAAAAAAAAAgAAAAAAAQAAAAAAAAAAAQAAAAAAAAIAAAAAAAAAAAAAAAAAAAAAAAAAAAAAAAAAAAABAwIAAAAAAAAAAAAAAAcAAAAAAAIAAAAAAAAAAAAAAAAAAAAAAAAAAAACAAAAAAAAAAAAAAAAAAAAAAABAAAAAAAAAAAAAAAAAAIAAAAAAgAAAgAAAAAAAAAAAAAAAAAAAAAAAAEAAAAAAAABAAAAAAABAAAAAAAAAgAAAAAAAAABAAEAAAAAAAAAAAAAAAAAAAAAAAAAAAIAAAAAAAAAAAAAAAAAAAAAAAAAAAAAAAAAAAACAAEAAAAAAAIAAAAAAAEAAAAAAAAAAAAAAAAAAAAAAAEAAQAAAAABAAAAAAAAAAAAAAAAAAAAAAABAAAAAAAAAAIAAAAAAAAAAAAAAAAAAAAAAAAAAAAAAAAAAAAAAAAAAQABAAAAAAAAAAAAAAAAAAAAAAAAAAAAAAAAAAAAAAAAAAAAAAABAAAAAAAAAAACAAABAAAAAAAAAAAAAAAAAAABAAEAAAEBAAAAAAEAAQAAAAAAAQAAAQAAAAAAAAAAAAAAAAIBAAAAAAABAAAAAAAAAAAAAQAAAAAAAAABAAAAAAAAAAAAAAAAAAAAAAAAAAAAAAAAAAAAAAAAAAAAAAAAAQAAAAAAAAAABwAAAAAAAAAAAAEAAAABAAAAAAAAAAEAAAAAAAIAAAAAAAAAAAEAAAAHAAAAAAAAAAAAAAcAAAAAAAAAAAAAAAAAAAAHAAAAAAAAAAAAAAAAAAAAAAAAAAAAAAABAAAAAAAAAAAAAAAAAAAAAAAAAAAAAAAAAAAAAQAAAAAAAAEAAAEAAQAAAAAAAAAAAAEAAAIAAAAAAAEAAAAAAAAAAAAAAAABAAAAAAAAAAAAAAAAAAAAAAAAAAEAAAAAAAABAAAAAAAAAQACAAAAAAAAAAAAAAAAAAAAAAAAAAAAAAAABwIAAAAAAAAAAAABAAAAAAAAAQAAAAAAAQAAAAAAAAAAAAAABwEAAAAAAAAAAAEBAAAAAAAAAAIAAAEAAAEAAAAAAAAAAAAAAAIAAAAAAAAAAAAAAAAAAAAAAAABAAABAAAAAAcAAAAAAAAAAAAAAAAAAAAAAAAAAAAAAAAAAAAAAAABAQAAAAAAAAABAAAAAAAAAAABAQABAAADAAAAAAAAAAAAAAAAAAAAAAAAAAAAAAAAAAAAAAAAAAAAAAAAAAAAAAAAAAAAAAAAAgAAAAAAAAAAAAAAAQAAAAAAAAAAAAAAAAAAAAAAAAEAAAEAAAEAAAAAAAAAAAAAAQAAAAAAAAAAAAAAAAAAAAAAAAABAAAAAAAAAAIAAAAAAAAAAAAAAAAAAAAAAAAAAAABAQAAAAAAAAAAAAAAAAAAAAABAAAAAAAAAAAAAAAAAAAAAAAAAAAAAAAAAQAAAAAAAAABAAAAAAAAAAEAAAAAAQEAAAAAAAAAAAAAAAEAAAAAAAAAAAAAAAAAAQAAAQAAAAAAAAAAAAAAAQAAAAAAAAAAAAAAAAAAAAAAAAAAAAAAAAAAAAAAAAAAAAAAAAAAAAEAAAAAAAAAAAAAAAAAAAAAAQcAAAAAAAAAAAAAAAAAAAAAAAAHAAAAAAAAAAAAAQEAAAAAAAAAAAAAAAAAAAAAAAABAAAAAAAAAAAAAAAAAAAAAAAAAAAAAAAAAAAAAAAAAQAAAwAAAAAAAAAAAAAAAAABAAAAAAABAQAAAAAAAAABAAAAAAABAAAAAAAAAAAAAAAAAAAAAAAAAAIAAAAAAAAAAAAAAAAAAAABAgAAAAAAAQAAAAAAAAAHAAEAAAAAAQABAAAAAQAAAAAAAAABAAAAAAAAAAAAAAAAAAIAAAAAAAAAAAAAAAAHAgAAAAAAAAEAAAAAAAAAAAAAAAEAAAAAAAAAAAIAAAAAAAAAAAAAAAACAAIAAgAAAgAAAAAAAAAAAAAHAAAAAAEAAAAAAAAAAAcAAAIAAAAAAQAAAAAAAAAAAAAAAAAAAAACAAAAAAAAAAABAAAAAAAAAAEAAAACAAAAAAAAAAAAAAAAAAAAAAAAAAAAAAAAAAABAAAAAAIHAAAAAAEAAAAAAgAAAAAAAAAAAAECAAAAAgEAAAAAAAAAAAAAAAEAAAAAAAAAAAAAAAABAAABAAAAAwABAAAAAAAAAAEAAAAAAAAAAAAAAQAAAAAAAAAAAAAAAAAAAAAAAAAAAAAAAAAHAAAAAAAAAAAAAAAAAAAAAAAAAQIAAAAAAAAAAAAAAAAAAAAAAAAAAAAAAAACAAAAAAAAAAAAAAEAAAAAAAEAAAAAAAAAAAACAAAAAAAAAAAAAAAAAAAAAAAAAQAAAAAAAAAAAAAAAAAAAAAAAgAAAAABAAAAAAABAAAAAAAAAAAAAAAAAAAHAAACAAAAAAAAAAIAAAEAAAEAAAABAAAAAAAAAAAAAAAAAAAAAAABAAIAAAIAAAAAAQAAAAAAAgAAAQABAAAAAAAAAAAAAAAAAAAAAAAABwAAAAAAAAAAAAMAAAAHAAAAAAAAAAAAAAAAAAAAAAACAAIAAAAAAAAAAAIAAAAAAAAAAAAAAgACAAAAAAIAAAABAAAAAAAAAAAAAAABAAAAAAAAAAAAAQAAAAAAAAAAAAAAAAACAQAAAAAAAAAAAAAAAAAAAAAAAAABAQACAQAAAQAAAAAAAAAAAAABAAAAAAAAAAAAAAAAAAABAAIAAAAAAAAAAAAAAAAABwAAAAAAAAAAAAAAAAIAAAAAAAAAAAAAAAAAAAAAAAAAAAAAAAAAAgAAAAAAAAAAAAAAAAAAAAAAAAAAAAAAAAAAAAAAAAAAAAAAAAAAAAAAAAACAAAAAAAAAAAAAAAAAAIAAAAAAAAAAAAAAQAAAAAAAAAAAAAAAAAAAAAAAAABAAAAAAAAAAACAAAAAQAAAAAAAAAAAAABAAAAAAAAAAAAAAAAAAAAAAAAAgAAAAAAAAABAAACAAAAAAAAAAAAAAABAQAAAAAAAAcHAAAAAAAAAAAAAAAAAAEAAAAAAAcBAAAAAAAAAAAAAAAAAAAAAAIAAgAAAAAAAAAAAQAAAAAAAAAAAAAAAAAAAAAAAAABAQAAAAAAAAAAAAAAAAcAAAAAAAAAAAAAAAABAAAHAAAAAAAAAAAAAAAAAAAAAAAAAQAAAAAAAAAAAAAAAAAAAAAAAAAAAAAAAAAAAAAAAAAAAAAAAAAAAAAAAAAAAAAAAAABAAEAAgAAAAAAAAAAAAEAAAAHAAABAAAAAAAAAAABAAAAAAABAAAAAAAAAAAAAAAAAAAAAgAAAAABAAAAAAAAAAAAAAAAAAABAAEBAAAAAAEAAQAAAAAAAAABAAAAAAAAAAAAAAAAAAAAAAAAAAAAAAAAAAAAAAAAAAAAAAEAAAAAAAAAAQAAAAAAAAAAAAAAAAAAAAAAAAABAAAAAAAAAAAAAAAAAAAAAAAAAAAAAAAAAAAAAQAAAAAAAAAAAAAAAAAAAAAAAAIBAQAAAAAAAAEAAAAAAAAABwAAAAAAAQAAAAAAAAAAAAAAAAABAAAAAAAAAAAAAAAAAAAAAAACAAAAAAAAAAAAAQAAAAAAAAAAAAAAAQAAAAAAAAAAAAAAAAAAAAIAAAABAAAAAAAAAAAAAAAAAAABAAAAAAAAAAAAAQAAAAAAAAAAAAMAAAAAAAABAAAAAAAAAAAAAAAAAAAAAAAAAAAAAAAAAAAAAAAAAAcBAAAAAAAAAAAAAAAAAAAAAAAAAAAAAAAAAAAAAAAAAAAAAAAAAAAAAAAAAAAAAAAAAAEABAAABwAAAAAAAAAAAAAAAAABAAAAAgABAAcAAAAAAAAAAAAAAAAAAAAAAAAAAAAAAAAAAAAAAAAAAAAAAAAAAAAAAAEBAAAAAAAAAAAAAAAAAAAAAAAAAAEBAAAAAAABAAAAAAAAAAAAAAAAAAAAAwAAAAAAAAIAAgABAAABBwAAAAAAAQAAAAAAAgAAAAAAAAAAAAAAAAAAAAEAAAAAAAAAAAAAAAAAAAAAAAAAAAAAAAAAAAAAAAAAAgAAAAAABwAAAAAAAAIAAAECAAAAAAAHAAAAAAAAAAAAAAAAAAAAAAAAAgAAAAAAAAAAAAAAAAAAAAAAAAACAAAAAAAAAAAAAAAAAAAAAAAAAAAAAAAAAAABAAABAAAAAAAAAAAAAQAAAAAAAAAAAAAAAAAAAAAAAAAHAAAAAQAAAAAAAAEHAAAAAAIBAAAAAAAAAAEAAQAAAAAAAAAHBwAAAAAAAAAAAAAAAAAAAAAAAAAAAAABAAAAAQEAAAAAAAAAAAIAAAAAAAACAAAAAAAAAAAAAgABAAAAAAACAAAAAAAAAAAAAAAAAAAAAAAAAQAAAAAAAAABAAAAAQAAAAAAAAAAAQAAAAAAAAAAAAAAAQABAAAAAAAAAAABAAAAAAAAAAAAAAAAAAAAAAAAAAAAAAAAAAAAAQAAAAAAAAAAAAABAAAAAAAAAQAAAAAAAAAAAAAAAAAAAAAAAAAAAAAAAAABAAAAAAABAAAAAAAAAQAAAAABAAAAAAAAAAAAAAAAAAAAAAAAAAAAAAAAAQAAAAEAAAEAAAAAAAAAAAAAAAAAAAAAAAAAAAAAAAAAAAAAAAAAAAAAAAAAAQAAAAAAAAAHAAAAAAEAAAAAAAEAAAAAAAAAAQAAAAAAAAAAAAAABwAAAQAAAAAAAAAAAAECAAAAAAAAAAAAAAIAAAAAAAABAAAAAAEAAAEAAgAAAAAAAAAAAAAAAAAAAAAAAAAAAAAAAAAAAAAAAAABAAAAAAABAAAAAAABAAAAAQAAAAAAAAAAAAEAAAABAgAAAAAAAAAAAAEAAgAAAAAAAAIAAAAAAAAAAAAAAQAAAAAAAQAAAAAAAAAAAAAAAAAAAAIAAAEAAAABAAABAQAAAAAAAAAAAAAAAAAAAAAAAQAAAAAAAAAAAAAAAAAAAAAAAAAAAAAAAAACAAcAAAAAAAAAAAABAQAAAAEAAAAAAAAAAAAAAAACAgAAAAAAAAAAAQAAAAAAAAAAAAAAAAABAAECAAAAAAAAAAAAAQAAAAAAAAABAAABAAAAAAAAAAABAgEAAAAAAAAAAAAAAQAAAAAAAAABAAAAAAAAAAAAAAAAAAAAAAAAAAAAAQIAAAAAAAAAAAAAAAAAAAAAAAAAAAAAAAAAAAAAAQAAAAAAAAAAAAAAAAAAAAAAAQAAAAAAAgAAAAAAAAAAAAAAAQEAAAAAAAAAAAAAAAAAAAAAAAAAAAAAAAAAAAAAAAAAAAAAAAAAAAAAAAABAAAAAAAAAAAAAAAAAAEBAAAAAAAAAAAAAAAAAgAAAAAAAQAAAAAAAAAAAgAAAAAAAAAAAAAAAAAAAAABAAAAAQAAAQAAAAAAAAcAAAEAAAAAAAAAAAAAAAEAAAAAAQAAAAABAAAAAAABAAAAAAABAAAAAAAAAAEBAAAAAAAAAAAAAAAAAAAAAAAAAQAAAgAAAQAAAAAHAAAAAAAAAAAAAQAAAAAAAAAAAAAAAAACAQAAAAAAAAEAAAAAAAAAAAAAAAAAAAIAAAAAAAAAAAAAAAEAAAAAAAAAAAAAAAAAAAAAAAAAAAAAAAAAAAAAAAAAAAAAAAAAAAAAAQIAAAAAAAAAAAAAAAAAAAAAAQAAAAAAAAEBAAAAAAACAAAAAAAAAAAAAAACAAEAAAABAAAAAAAAAAEAAAAAAAAAAAAAAAEBAAAAAAAAAAAAAAAAAAEAAAAAAAAAAAAAAAAAAAAAAQAAAAAAAgAAAAEAAAAAAAABAAABAAEAAAAHAAAAAAAAAAAAAAAAAAAAAAAAAAAAAAAAAQAAAAEAAAAAAAAAAAAAAAEAAAAAAAAAAAAAAAAAAAAAAQAAAAAAAAAAAAAAAAcBAAAAAAAAAAEAAAEBAAAAAQEAAAAAAAAAAAAAAAAAAAAAAAEAAAAAAAEAAAAAAAAHAAAAAAAAAAEAAAAAAQAAAQAAAAAAAAAAAAAAAAAAAAAAAAAAAAAAAQAAAAAAAAAAAAAAAAAAAAAAAAECAAEAAAABAAAAAAEAAAAAAAAAAAAAAQAAAAEBAAECAAAAAAAAAAAAAAAAAAAAAAAAAQAAAAABAAAAAAAAAAAAAAABAAABAAABAAAAAAAAAAAAAAAAAAAAAAAAAQEAAAAAAAAAAAAAAAAAAAAAAAABAAEAAAAHAAAAAAACAAAAAAIAAQAAAAABAAAAAAAAAgAAAAAAAAAAAAEAAAAAAAAAAAAAAQAAAQABAAAAAAAAAAAAAAABAAAAAQAAAAAAAAAAAQAAAAAAAAEAAAAAAAABAAABAAAAAAABAAAAAAEBAQAAAAAAAAAAAQABAAIAAAAAAAAAAAAAAAAAAAAAAAAAAAAAAAAAAAEAAAAAAAAAAAAAAQAAAAAAAAAAAAAAAAAAAQAAAAABAAAAAAAAAAAAAAAAAAAAAQAAAAAAAAAAAAAAAQAAAAAAAAEAAAAAAAAAAAAAAQAAAQABAAIAAAAAAAAAAAAAAQAAAAEAAAAAAAIAAAABAAAAAAAAAAAAAAAAAQACAAEAAAAHAAABAAADAAAAAAAAAAEAAAAAAgAAAAAHBwABAAAAAAAAAAEAAAAAAAAAAwAAAAAAAAIAAAEAAAAAAAAAAAAAAgAAAAAAAAIAAAAAAAAAAAAAAAAAAAAAAAIBAAECAAAAAQAAAAAAAAAAAAAAAAEAAAAAAAAAAAAAAAAAAAAAAAAAAAAAAAABAAAAAAAABwAAAAACAAAAAAEAAAABAAIAAAAAAAAAAQAAAAAAAAAAAAAAAAAAAAAABwAAAAAAAAAAAAAAAAAAAAAAAAABAAACAAAAAAEBAAAAAAAAAgAAAAABAAAAAAAAAQACAAAAAAEABwABAAAAAAAAAAAAAAAAAAAAAAAAAAAAAAEAAAAAAAAAAQAAAAAAAQAAAAACAAABAAAAAAAAAAAAAAEAAAAAAAAAAAAAAAAAAAEBAAAAAAAAAAEAAAEAAQAAAAAAAAAAAAAAAAAAAAAAAAAAAAAAAAAAAAAAAAAAAAAAAAAAAAAAAAAAAAAAAAABAAAAAAAAAAAAAAEAAAEBAAABAAAAAAAAAAAAAAAAAAAAAQAAAAAAAAAAAgAAAAEAAAAAAAAAAAAAAAIAAAAAAAAAAQIAAAAAAAABAAACAgAAAAAAAAAAAQAAAAAAAgABAAABAAIAAAEAAAcAAQAAAAAAAAAAAAAAAAAAAAAAAAAAAAAAAAAAAAAAAAAAAAEAAAAAAAAAAAAAAAAAAAAAAAAAAAAAAAACAAAAAAAAAAAAAAAAAgIAAAEAAAAAAAAAAAAAAAAAAAAAAAAAAAAAAAEAAAEAAAAAAAAAAAAAAAAAAAAAAAAAAAAAAAAAAAAAAAAAAAAAAAABAAABAAAAAQAAAAAAAAAAAgAAAAAAAgAAAAAAAAAAAQAAAAABAAAAAAAAAAAAAAACAAAAAAAAAAAAAAAAAAAABwAAAAABAAAAAAAAAAAAAAIAAAAAAQAAAAAAAAAAAQEDAAAAAAAAAAAAAAAAAAAAAAABAAAAAAAAAAAAAAAAAAAAAAAAAAAAAAAAAAAAAAAAAAAAAAAAAQEAAAAAAAAAAAABAAAAAAAAAAAAAAABAgAAAAAAAAIAAAABAAAAAAEAAAAAAAAAAAEAAAAAAAAAAAAAAAAAAAAAAAAAAAAAAAAAAAAAAAIHAAAAAAABAAAAAQAAAAAAAAAAAAEAAAABAAAAAgABAAACAAAAAAIAAAAAAQAAAAAAAAAAAAAAAAAAAAEAAAAAAAAAAAAAAAAAAAAAAwABAAEAAAAAAAAAAAAAAAABAAAAAAAAAAAAAAAAAAAAAAAAAAAAAQAAAAABAQAAAAAAAAAAAAAAAAAAAAAAAAAAAAAAAAAAAAAAAAAAAAAAAAEAAQAAAAAAAAAAAAAAAAEAAAAAAAAAAAABAQABAAAAAQAAAQAAAAAAAAAAAQAAAAABAAAAAAAAAAABAAAAAQAAAAAAAAAAAAABAAAABwAAAQcAAAAAAgAAAAACBwAAAAAAAAAAAAAAAAAAAAAHAAABAAAAAAAAAAAAAAEAAAAAAAAAAAAAAAAAAAEAAAEAAAAAAAAABwAAAAAABwAAAAAAAAAAAAAAAAAAAAABAAAAAQAAAAAAAAAAAAAAAAEAAAAAAAEAAAAAAAAAAAEAAAAAAAABAAAAAAIHAAAAAAAAAAAAAAAAAgAAAAAAAAAAAAEAAAAAAAAAAAEAAAAAAAAAAAAAAQAAAAAAAAAAAAAAAAAAAAEAAAAAAAAAAAAAAQAAAAEAAAAAAAAAAAAAAAAAAgAAAAAAAAABAAAAAAEAAAAAAAAAAAEAAAAAAAAAAAAAAAABAAAAAAAAAAAAAQAAAAAAAAAAAAAAAAAAAAAAAAAAAAAAAAAAAAAAAAAAAAAAAAAAAQACAAEAAAAAAAEAAAAAAAAAAAEAAAAAAAAAAAAAAAAAAAAAAAABAAAAAAAAAAAAAAACAAAAAAAAAAAAAgAAAAAAAAAAAgABAAAAAAAAAAIAAAAAAAAAAAABAAAAAAAAAAAAAAABBAAAAAABAQAABwAAAAAAAAAAAgABAAAAAAAAAAEAAQABAAAAAAcAAQAAAAAAAAAAAAACAAEBAgAAAAACAQAAAAAAAAAAAAAAAAAAAAIAAAAAAAAAAAAAAQAAAAAAAAAAAAAAAAABAAAAAAAAAAAAAAAAAAAAAAAAAAABAAAAAAAAAAAAAQACAgAAAAAAAAAAAQAAAAEAAQcAAAEAAAAAAAACAAABAAAAAAAAAAAAAQAAAAAAAAAAAAEHAAACAAACAAcBAQAAAAAAAAAAAAAAAAAAAAAAAAEHAAAAAAAAAAAAAAAAAAAAAAAAAAEAAAAAAAAAAAAAAAAAAAEAAAAAAAACAAAAAAAAAAABAAAAAgAAAAAAAAEAAAAAAAAAAAAAAAAAAAABAAABAAAAAAAAAAEAAAcAAAAAAQAAAgAAAAEAAAAAAAAAAQAAAAAAAAAAAAAAAAAAAAAAAAAAAAAAAAAAAAIAAAAAAAAAAAcAAQAAAAAAAAAAAAAAAAAAAAAAAAAAAQAAAgEAAAABAAAAAAAAAAAAAAAAAAAAAAABAAAAAAAAAAEAAAAAAAAAAAAAAQAAAQAAAAAAAAMAAAAAAAAAAAAAAAACAAAAAAAAAAAAAQAAAAACAAAAAAAAAAAAAAIAAQAAAAIAAAAAAAAAAAAAAAAAAAAAAAAAAAAAAAAAAAAAAAAAAAAAAAABBwEBAQAAAAAAAQAAAAAAAAEAAAAAAAAAAAIAAAABAgEAAAAAAAAAAAAAAAcAAAAAAAAAAAAAAAAAAAAAAAABAAAAAAAAAAAAAAAAAAAAAAAAAQEAAAAAAAEAAQIAAAEAAAAAAAAAAAAAAAAAAAEAAAAAAAAAAAEAAAAAAAAAAAAAAAAAAAAAAAAAAAAAAAABAAAAAAAAAAAAAAAAAAAAAAAAAAIAAAAAAAAAAAACAAAAAAABAAAAAAEBAAAAAAAABwAAAAABAAAAAAAAAAAAAAAAAAAAAAACAAAAAAAAAAAAAQAAAAAAAAAAAAEAAAAAAAAAAAAAAAEAAAAABwEAAAAAAAAAAAABAAEAAAAAAAAAAAAAAAAAAAACAAAAAAEAAAABAAAAAAAAAAAAAAAAAAAAAAAAAAAAAQAAAQEAAAAAAAAAAAAAAAAAAAAAAAAAAAIAAAAAAAAAAAAAAAAAAAAAAAAAAAAAAAAAAAEAAAABAAABAAABAAcAAAAAAAAAAAEAAAAAAAAAAgAAAAEAAQAAAAABAQAAAAAAAAAAAAACAAAAAAAAAAAAAAAAAAAAAAAAAAAAAAAAAAAAAAAAAAAAAQEAAAAAAAAAAAACAAAAAAAAAAAAAAAAAAAAAAAAAwAAAAAAAAAAAAAAAAAAAAAAAAAAAAADAAAAAAAAAAAAAgABAAAAAAAAAAAAAAAAAAAABwAAAAAAAAAAAAAAAAAAAAAAAAAAAAAAAAABAAAAAQEAAQAAAAAAAAAAAAAAAAAAAAAAAAAAAAAAAAAAAAAAAAAAAAAAAAAAAAAAAAIAAAAAAAAAAAAAAAAAAAAAAAABAAAAAAABAAABAAAAAAAAAAABAAAABwAAAAAAAAACAAAAAAABAAAAAAAAAAAAAAAAAAABAAAAAAAAAQAAAAAAAAAAAAAAAAAAAAAAAAAAAAABAAAAAQABAAAAAAACAAAAAAAAAAACAQACAAAAAAAAAAAAAAAAAAABAAABAAAAAAAAAAAAAAEHAAAAAAcAAgAHAAAAAAAAAAAAAAAAAAAAAAAAAAAAAAAAAAAAAgAAAAAAAAAAAAEAAAAAAAAAAAAAAAAAAAAAAAAAAAAAAAACAAAAAQAAAAAAAAABAAAAAAAAAAAAAQAAAAAAAAAAAAcAAQAAAQAAAAAAAAEAAAAAAAAAAAAAAAAAAAAAAAAAAAAAAAAAAAAAAAAAAAAAAAAAAAAAAAEAAAAAAAABAAAAAQAAAAAAAAABAQAAAAAAAAAAAAEAAAAAAAEBAAAAAAAAAAAAAAAAAAAAAAEBAAAAAAAAAAAAAAAAAAEAAAEBAAAAAAAAAAAAAAAAAAAAAAAAAAAAAAAAAAAAAAAAAAAAAAAAAAEAAAAAAAAAAAAAAAAAAAAAAQAAAAAAAAAAAQAAAAAAAQAAAAAAAAAAAAAAAAAAAAAAAAAAAAAAAAAAAAAAAAABAAEAAAAAAAAAAAAAAAEAAAAAAQAAAAAAAAAAAAAAAAAAAAAAAQAAAAAAAAEAAAAABwAAAAAAAAAAAAAAAAAAAAAAAAAAAAEAAAAAAAAAAQAHAAAAAAAAAAAAAAAAAQEAAAAAAAAAAAABAAAAAAAAAAAAAQAAAAAAAAABAAAAAAAAAAAAAAAAAAAAAAEAAgAAAAAAAAABAAAAAAAAAAAAAAAAAAAAAAEAAAEAAAAAAAAAAAAAAAABAAAAAAAAAAAAAAAAAAAAAAACAAAAAAAAAAAAAQAAAAAAAgAAAAAAAAAAAQEAAAAAAAABAAIAAAAAAAAAAAABAgAAAAAAAAAAAAAAAAAAAAAAAAAAAAAAAAABAAAAAAAAAAEAAAAAAAAAAAAAAAAAAAAAAAAAAAAAAQABAAIBAAAAAAACAQAAAAAAAQAAAAAAAAAAAAAAAAAAAAAAAAAAAAAAAAAAAAAAAAAAAAAAAAcAAAAAAAAAAAAAAQAAAAABAAAAAAAAAAAAAAAAAAAAAAAAAAAAAAAAAAAAAAEAAAAAAAAAAAAAAAAAAAAAAAAAAAAAAAAAAAAAAAAAAAAAAAAAAAAAAAAAAQIBAQAAAAAAAAAAAAAAAAAAAAAAAQAAAAAAAAAHAAAAAAAAAAAAAAEAAAAAAAAAAAAAAAAAAAAAAAAAAAAAAAAAAAAAAAAAAAAAAAAAAAAAAAAAAQABAAAAAAAAAAAAAAAAAAAAAAAHAAACAAAAAAAAAAAAAAAAAAAAAAAAAAAAAAAAAQAAAAAAAAAAAAAAAAAAAAAAAAIAAgAAAAIAAAIAAAAAAAAAAAAAAAABAAAAAAEAAAAAAAEAAQAAAQAAAAAAAAAAAAABAAAAAAAAAAAAAAAAAAAAAAAAAAAAAAAAAAAAAAAAAQAAAAAAAAAAAAcAAAAAAAAAAAAAAAAAAAcAAAAAAAAAAAAAAAAAAAAAAAAAAAAAAQAAAAAAAAAAAAAAAAAAAAAAAAAHAAABAAAAAQAAAAAAAAAAAAAAAgAAAAAAAQAAAAAAAAAAAAAAAAAAAQAAAAAAAAAAAgAAAAAAAAAAAAAAAAIAAAEAAAAAAAAAAAAAAAAAAQABAQAAAAAAAQAAAAAAAAAAAAAAAAAAAAAAAAAAAAAAAAAAAAAAAAAAAAAAAAAAAAEAAAABAAAAAAAAAAAAAAAAAgAAAAEAAAAAAQAAAAAAAAAAAAAAAAAAAAAAAAAAAQAAAAAAAAAAAAAAAAAAAAAAAAAAAAAAAAAAAAAAAgAAAAAAAAABAAAAAAAAAAAAAAAAAAACAQAAAQAAAAACAAAAAAAAAAEAAAAAAAAAAQAAAAABAQAAAAAAAAABAQAAAAAAAAAAAAAAAAAAAAAAAAAAAAAAAAAHAAAAAAAAAAEAAAIAAQAAAAAAAAAAAAAAAQAHAAAAAAAAAAAAAAAAAAAAAAAAAAABAAAAAAIAAAAAAAAAAAIAAAAAAAEAAAEAAAAAAAAAAAAAAAAAAAAAAAAAAAAAAAAAAQAAAAAAAAAAAAAAAgAAAAABAAAAAQAAAAAAAQAAAAAAAAAAAAABAAAAAAAAAAAAAAEAAAEAAAABAAAAAAAAAAAAAAAAAAABAAAAAAAAAAACAAAAAAAAAAAAAAABAAEAAAAAAAAAAAAAAQEAAAABAQEAAAAAAAAAAAAAAAAAAAAAAAAAAAAAAAAAAAAAAAAAAAAAAQAAAQAAAAAAAAABAAAAAAIBAAAAAAAAAAAAAAAAAAAAAAEAAAAAAQAAAAAAAAAAAAAAAAAAAAAAAAAHAAAAAAAAAAAAAQAAAAAAAAAAAAAAAAAAAAAAAAAAAAAAAAAAAAAAAAAAAQAAAAAAAQAAAAABAAAAAAAAAAAAAAAAAAAAAAAAAAABAAEAAAAAAAAAAAAAAAAAAAAAAQAAAAAAAAAAAAAAAAAAAAAAAAAAAAcABwAAAAAAAQABAAEAAAAAAAAAAAAAAAAAAAAAAAAAAQAAAAAAAAAAAAAAAAAAAAAAAAABAQAAAAACAAAAAAAAAAABAAAAAQAAAAAAAAABAAAAAAACAAAAAAAAAAEAAAAAAAAAAAAAAAAAAAAAAAABAAABAAAAAAAAAAACAAAAAAAAAAEAAAAAAAAAAAEAAAAAAQAHAAAAAAAAAAAAAAAAAAAAAAAAAAAAAAAAAAAAAAAAAAAAAAAAAAAAAAEAAAEAAQAAAAAAAAAAAAAAAgAAAAEAAAAAAAAAAQAAAAEAAAACAAAAAAAAAAEAAAAAAAAAAAEAAAAAAAAAAAAAAAAAAAAAAAAAAAAAAAAAAAAAAAAAAAAAAAEABwAAAAABAAAAAAAAAAIAAAABAQAAAAAAAAAAAAAAAAAAAwAAAAAAAAAAAAAAAAAAAQAAAAAAAgAAAAAAAAAAAQAAAAAAAAAAAAAAAQAAAgAAAQAAAAAAAQAAAAAAAAAAAQACAAEBAAABAAEAAAAAAQAAAAAAAAABAAAAAAAAAAAAAAAAAAAAAAAAAAEAAAEAAAAAAAAAAAAAAAAAAAAAAAEAAAEAAAABAQAAAAAAAAABAAAAAAAAAgAAAAAAAAEAAAAAAAAAAQEAAAEAAAEAAAAAAgAAAAAAAAAHAAAAAAAAAAAAAAACAAAAAAAAAAAAAQIAAAAAAAAAAAABAAAAAAACAAAAAAAAAAAAAAABAAAAAAAAAAIAAAAAAgAAAAAAAAAAAAAAAAAAAAAAAAAAAAABAAEAAAABAQEAAQEAAAAAAAAAAgABAAAAAAAAAAAAAAEAAAAAAAAAAAAAAAAAAAAAAAIAAAAAAAAAAAAAAAAAAAABAAAAAAAAAAAAAAAAAgAAAAEAAAAAAAAAAAIAAAAAAAADAAAAAQAAAAAAAAAAAAAAAAAAAAABAAAAAgEAAgAAAAAAAAAAAAAAAAAAAAAAAAAAAAAAAAABAAAAAAAAAAAAAgAAAAABAAIAAAAAAAEAAAAAAAAAAgAAAAAAAAAAAAAAAAAAAAABAAAAAQIAAQAAAAAAAAAAAAAAAAAAAAAAAAAAAQAAAgAAAAAAAAAAAAAAAAABAAcAAAAAAAAAAAAAAAAAAQAAAAAAAAAAAQABAAAAAAAAAAAAAAAAAAAAAAABAAAAAAAAAAAAAAAAAAAAAAAAAAABAAAAAAAAAAAAAAABAAAAAQAAAAAAAAAAAAAAAAAAAAAAAAAAAAAAAQEAAAEBAQEAAAABAQAAAQAAAAAAAAAAAAAAAAAAAAAAAAEAAAAAAAAAAQAAAAAAAAAAAgAAAAAAAAAAAAABAQAAAAABAAAAAAAAAQEAAAAABwAAAAAAAAAAAAAAAAAAAAAAAAAAAAAAAAAAAAACAAAAAAAAAgAAAAAAAAAAAAAAAAABBwAAAAAAAQAAAAAAAAAAAAAAAAAAAAECAAEAAAAAAAAAAAAAAAAAAAAAAAAAAAAAAAABAAAAAAAAAAAAAAAAAAEAAAAAAAAAAQAAAAAAAAAAAAAAAAABAAAAAAAAAAAAAAAHAAAAAAAAAAAAAAAAAgAAAAAAAAABAAAAAAEAAAAAAAEAAAAAAAAAAAAAAAAAAAAAAAAAAAAAAAAAAAAAAAAAAAEAAAAAAAAAAAAAAAAAAAAAAAABAAAAAAAAAAAAAAAAAAAAAAAAAQAAAAAAAAAAAQAAAQABAAABAAAAAAAAAAAAAQEAAAAAAAAAAAAAAAEAAAAAAAEHAAABAAAAAAcAAAAAAAAAAAAAAAAAAAAAAAAAAAABAAAAAAABAAABAAAEAAAAAAAAAAEAAAAAAAAAAAAAAAAAAgAAAAAAAAAAAQAAAAAAAAAAAAAAAAAAAgAAAAAAAAAAAAAAAAAAAAAAAAAAAAAAAAAAAAEAAAAAAAAAAAAAAAAAAAAAAQcAAAAAAAAAAAAAAAABAAAAAAAAAAAAAAAAAAEAAAABAAABAAAAAgAAAAAAAQAAAAAAAAAAAgAAAAAAAAAAAAAABwAAAAAAAAAAAAAAAAAAAAAAAAAAAAAAAAAAAAACAQABAAEAAAAAAAAAAAACAAAAAAAAAAAAAQAAAAIAAAAAAAAAAAAAAAAAAAAAAAACAAAAAAIAAAcAAAAAAAAAAQAAAQAAAAAAAAcAAAAAAAAAAAAAAAAAAAAAAAEAAAAAAQAAAAACAAABAAABAAAAAQAAAAAAAAAAAAAAAAAABwAAAAAAAAAAAQAAAAABAAAAAAAAAAAAAAABAAAAAAAAAQAHAQABAAAAAAAAAAAAAAACAAAAAAAAAAAAAAAAAgAAAAAAAQAAAAIAAAAAAAAAAAAAAAAAAQAAAAAAAAAAAAAAAAAAAQAAAAAAAAAAAAAAAAAAAAACAAAAAAAAAAAAAAAAAAAAAAAAAAAAAAAAAAAAAAAAAAEAAAAAAAIAAQAAAAAAAAABAAAAAAAABwAAAAAAAQAAAAAAAAAAAAAAAAAAAQAAAAAAAAAAAAAAAAAAAAAAAAAAAAAAAAAAAAAAAAAAAAAAAAAAAAEAAAAAAAAAAAAAAAAAAAAAAAABAAAAAAAAAAAAAAAAAAAAAAAHAAIAAAAHAAAAAgAAAgAAAAAAAAEAAAABAAABAAAHAAAAAAACAQAAAAAAAAABAAEAAAAAAAAAAAAAAAAAAAAAAAIAAQAAAAAAAAABAAAAAAAAAAAAAAAAAAAAAAAAAAAAAAAAAAEBAAAAAAABAAAAAAAAAQAAAAAAAAAAAQAAAAAAAAAAAAABAQAAAAACAAAAAAAAAAAAAAAAAAAAAAAAAAAAAAAAAAAAAAAAAQAAAAAAAAEBAAAAAAAAAAIAAAAAAAAAAAAAAAABAAAAAQAAAAAAAAAAAAAAAAAAAAAAAAAAAAAAAAAAAAAAAAAAAAAAAAAAAAAAAAAAAAAAAgAAAAACAAAAAAAAAgAAAAAAAAAAAAAAAAAAAAAAAAAAAAEAAAAAAAAAAAAAAgAAAgAAAAAAAgAAAAAAAAAAAAAAAAAEAAAAAAAAAgEAAAAAAAEAAAAAAQAAAAAAAAAAAAAAAAAAAAAAAAAAAAAAAAAAAAAAAAAAAAABAAAAAAAAAAECAQABAAAAAAAAAQAAAQAAAAAAAAAAAAAAAAACAAAAAAAAAAAAAAAAAgAAAgAAAAAAAAAAAgAAAAAAAAAAAAAAAAAAAAAAAAAAAAAAAAAAAAAAAAAAAAAAAAAAAAAAAAAAAAAAAAAAAAAAAAAAAAAAAAAAAAAAAAAAAAAAAAAAAAAAAAABAAAAAAAAAAAAAAAAAAAAAAAAAAAAAAEAAQAAAAABAQAAAAAAAAAAAAAAAAAAAAAAAAABAAAAAAABAAEBAAAAAAAAAAAAAAEAAAAAAAABAAABAAEAAQAAAAAAAAAAAAAAAAEAAAAAAQAAAQAAAAIAAAIAAAAAAAAAAAAAAAEAAAAAAAAAAAAAAAEAAAAAAAABAAAABwAAAAAAAAAAAAAAAAEAAAAAAAAAAAEAAAAAAQAAAAAAAAAAAAAAAAAAAAABAAEAAAAAAAEAAAAAAgAAAQAAAAAAAAAAAAAAAAIAAAAAAAAAAAAAAAAAAAEAAAAAAAAAAAAAAAAAAAAAAAAAAAAAAgAAAAAAAAAAAAAAAAAAAAAAAAAAAAAAAAAAAAAAAAEAAAAAAAEBAgAAAAAAAAAAAAABAAAAAAAAAQAAAAAAAAACAAAAAQAAAAIAAAIAAAAAAAAAAAAAAgABAAEBAAAAAQAAAAEAAAAAAAcAAAAAAAAAAAAAAAAAAAAAAAAAAAAAAAABAAAAAAEAAAACAAABAAABAQAAAAEAAAAAAAAAAAACAAABAAAAAAAAAAAAAAAAAAEAAAABAAAAAAAAAAAAAAAAAAcBAAAAAAcAAQAAAAAAAAEAAQAAAAABAAABAAAAAAAAAAAAAAACAAAAAAAAAAAAAAIAAAAAAAAAAAAAAAAAAAAAAQAAAAAAAAAAAAEAAAIAAAAAAAAAAAAAAAAAAAAAAgIAAAAAAAAAAAABAAAAAAACAAEAAAAAAAACAAAAAAAAAAAAAQAAAAAAAAAAAAAAAAAAAAEAAAEAAgAAAAABAAABAAABAAAAAAAAAAAAAAABAAABAAAAAAABAAACAAAAAQAAAAAAAAAAAAAAAAABAAAAAQAAAAABAAEAAAABAAAAAAAAAAABAQAAAAAAAAAAAAAAAAAHBwAAAAAAAAABAAAAAAAAAAECAAAAAAAAAAAAAAEAAQIBAAAAAQAAAAEAAAAAAAAAAAAAAAAAAQACAAAAAQAAAAAAAgAAAAAAAAEAAAEAAAAAAAEAAAAAAAAHAAAAAAAAAAAAAAAAAAAAAAAAAAAAAAEAAAAAAAAAAAAAAAAAAAAAAAAAAAAAAAABAAAAAAAAAAAAAgAAAAAAAAAAAAAAAAAAAAEAAAAAAAABAAAAAAEBAQAAAQAAAAAAAgAAAAAAAAAAAAAAAAAAAAAAAAAAAAAAAAEAAAAAAAIAAAAAAAAAAAAAAAAAAQAAAAAAAAAAAAAAAAAAAAACAQAAAAAAAAAAAAAAAAIAAAAAAgAAAAAAAAABAAAAAQAAAQAAAAEAAAAAAAAAAgAAAAAAAAABAAAAAAAAAAABAAEAAAAAAAAAAQAAAAAAAAABAAAAAQAAAAABAAABAQEAAAAAAAAAAAAAAAABAQcABAAAAAAAAAAAAAAAAAEAAAAAAQAAAQIAAAABAAAAAAAAAAAAAAAAAAAAAAAAAAAAAAAAAQEAAAAAAAAAAAAAAAACAAAAAAAAAQABAAACAAAAAQAAAAEAAAAAAAAAAAAAAAEAAAAAAAAAAAAAAAAAAQAAAAAAAAAAAAEAAAAAAAEAAAAAAAAAAAAAAQAAAAAAAgAAAQAAAAAAAAEAAAAAAAAAAAEAAAACAAABAAAAAAACAAEAAAABAAAAAAABAAAAAAABAAAAAAAAAAIAAAAAAAAAAAAAAAEAAAAAAQAAAAAAAAAAAAEAAQAAAAAAAQAAAAAAAAAAAAAAAAAAAAAAAAAAAAAAAAAAAAAAAAQAAAACAAAAAAAAAAAAAAAAAAAAAAAAAAEAAAAAAAcAAAABAAAAAAACAAEAAAAAAAAAAAEAAAAAAAEAAAAAAAAAAAAAAAAAAAAAAAAHAAAAAQEAAAAAAAABAAAAAQAAAAAAAAAAAAAAAAQAAAAAAAEAAAEAAQAAAAAAAAAAAAAAAAAAAAAAAAAAAAIAAQAAAAAAAAAAAAAAAAAAAAAAAAAAAAAAAAAABwAAAAEAAAAAAAIAAAAAAAAAAQAAAAAAAAAAAQABAAEAAAAAAAEAAAACAAABAAAAAAIAAAABAAEAAAAAAAEAAAAAAAAAAAAAAAAAAAAAAAAAAAAAAAAAAAAAAAAAAAABAAAAAAABAAAAAAAAAQABAAAAAAAAAAAABwAAAAAAAAAAAAAAAAAAAAAAAAAAAQABAAAAAAAAAAAAAAABAAAAAAABAAAAAAAAAAAAAAAAAAAAAAAAAAEAAAAAAQAAAAAAAAEAAAAAAAAAAAAAAAAHAAEAAAEAAAIAAAAAAAAAAAAAAAEBAQAAAAACAAAAAQAAAQAAAAEAAAABAAAAAAECAAEAAAABAAAAAAEAAAAAAAAAAAEAAAABAAAAAAAAAQAAAAAAAAAAAAABAAAAAAAAAAAAAQcAAQAAAAAAAQAAAAAAAAAAAAAAAAAAAAAAAQAAAAAAAAAAAAAAAAAAAAAAAAAAAQAAAAAAAQAHAAAAAAAAAAEAAAAAAAAAAAAAAQAAAAAAAAECAQAAAAIAAAEAAAAAAAAAAAEAAAAAAAEAAAABAAAAAAAAAQAAAAAAAQAAAAAAAAAAAAEAAAAAAAAAAAAAAgAAAAAAAAAAAAAAAAAAAAAAAAAAAAACAAAAAgEBAAAAAQEAAAAAAgAAAAAAAAAAAAAAAAABAQAAAAAAAAAAAAAAAAEAAAABAAIAAAAAAAAAAAAAAAEAAAAAAAAAAAAAAAAAAAAAAAIAAAIAAAAAAAAAAAAAAAABAAAAAAAAAQAAAAAAAAEAAAAAAAAAAAEAAAAAAAAAAAAHAAAAAAAAAAIAAAAAAAAAAAAAAAAAAAAAAAAAAAAAAAEAAAAAAAAAAAAAAAAAAAAAAAAAAAEAAAAAAAAAAAAAAAAAAAAAAAAAAAAAAAEAAAABAQAAAQEAAAAAAAAAAAAAAAAAAAAAAAAAAAAAAAAAAAAAAAAAAAABAAAAAAAAAAAAAAEAAAAAAQEAAAEAAAAAAAAAAQAAAAAAAAAAAAAAAAAAAQAAAAAAAAABAAAAAAAAAAAAAAAAAAAAAAAAAAcBAAABAAAAAAEAAAABAAAAAAACAAAAAAAAAAIBAQAAAAAAAQAAAAAAAAAAAAAAAAEAAAAAAAAAAQAAAQAAAAAAAAAAAQABAAABAAAAAQAAAAAAAQAAAAAAAAABAQAAAAAAAAAAAAAAAAAHAAAAAAAAAAAAAAEAAAAAAAAAAAAAAAAAAQAAAAAAAAEAAAAAAAAAAAEAAAAAAAAAAQAAAQAAAQAAAAEAAAEAAgEAAAAAAAIBAAAAAQAAAAAAAgAAAAAAAQABAAAAAAAAAAAABwAAAAAAAAAAAQAAAAAAAAAAAAABAAAAAQAAAQAAAAAAAQABAAAAAgAAAAAAAAAHAAIABwAAAAIAAAAAAQAAAAAAAAAAAAAAAAAAAAAAAAAAAAAAAAAAAAAAAQAAAAAAAAAAAAAAAAEAAAAAAAAABwAAAQAAAAAAAAAABwAAAAEAAAABAAAAAAAAAAcAAAAAAAAAAgAAAAAAAAAAAAAAAAAAAAAAAAAAAAAAAQAAAAAAAAAAAAAAAAEAAAAAAQAAAAAAAAAAAAAAAAEAAQAAAAAAAAAAAAAAAAAAAAABAAAAAAAAAAABAAAAAAEAAAAAAAAAAAABAAAAAAAAAAAAAAAAAAAAAAAAAgAAAAAAAAAAAAAAAAAAAQcAAAAAAAAAAAEABwAAAAABAAABAAAAAAAAAAAAAAcBAQAAAAAAAAAAAAAAAQABAAEAAAAAAAAAAAAAAAAAAAABAAAAAAAAAAAAAAIAAAAAAQAAAAcAAAAHAAAAAAAAAAAAAAAAAAAAAAAAAAACAAAAAAAAAAAAAAABAAAAAAAAAgAAAAAAAAAAAAAAAAAAAAAAAAAAAAAAAAAAAAAAAAAAAQABAAAAAAAAAAEAAAABAAAAAAAAAAAAAAAAAAAAAAAAAAAAAAAAAAAAAAAAAAAAAAAAAAAAAQAAAAABAAAAAAAAAAAAAAAAAAAAAAAAAAAAAAAAAAEAAAAAAAAAAAACAAcAAAAAAAACAAAAAAIAAAAAAAAAAAAAAQIAAAAAAAAAAAAAAAAAAAAAAAAAAQAAAAAAAAAAAAAAAAAAAAAAAAAAAAABAAAAAAAAAQACAAAAAAAAAAAAAQAAAAAAAAEAAAAAAAAAAAEHAAAAAAAAAAAAAAAAAAABAAAAAAIBAAAAAAABAAIAAAAAAQAAAAAAAAAAAAAAAAAAAAAAAAAAAAcAAAAAAAAAAAAAAAAAAQAAAAAAAQAAAAABAAABAAAAAAAAAAAAAAAAAAAAAAAAAAIAAAAAAQAAAQAAAAABAAABAAAAAAAAAAAAAAAAAAAAAAAAAAAAAgAAAAAAAAAAAAAAAAAAAAAAAAAAAAAAAAIAAAAAAAABAAAAAQAAAAAAAAAAAAAAAAAAAAAAAAAAAQAAAAABAQEAAAAAAAAAAAcAAAAAAgAAAAEBAAAAAAAAAAAAAAAAAAAAAAAAAAAAAAABAAAAAAAAAAABAAAAAAAAAAAAAQAAAAAAAQAAAAAAAAAAAAAAAAAAAAAAAAAAAQAAAAAAAAEAAAAAAAAAAAAAAAcAAAAAAAAAAAAAAQAAAAABAAACAAAABwAAAAEAAAAAAAAHAAACAAAAAAAAAAAAAAABAAAAAAABAAAAAQAAAAAAAQAHAAACAAIAAAAAAAEAAAAAAAAAAAAAAAAAAAAAAAEAAAAAAAABAAAAAAAAAAAAAAAAAAIAAAEAAAEAAAABAAAAAAAAAAAAAAAAAAAAAgAAAAABAAAAAAAAAAAAAAAAAAABAAABAAAAAAACAAAAAQEAAAAAAAAAAAAAAAAAAAAAAAACAAABAQAAAAAAAAAAAAAAAAAAAAAAAQAAAAAAAAAAAAAAAAAAAAAAAAAAAAAAAAAAAAAAAAcAAAAAAQAAAAAAAQAAAAEAAAAAAAAAAAAAAAAAAAAAAQECAAAAAAABAAAAAAAAAAAAAAAAAQAAAQAAAQAAAAAAAAAAAAAAAAEAAAAAAQAAAAAAAAAAAAAAAAAAAgAAAAAAAAEBAAAAAAEBAAAAAQAAAAIAAAAAAAAAAAAAAAAAAQAAAQAAAAAAAAAABwEAAAAAAAAAAAAAAQAAAAAAAAABAgAAAAAAAAAAAAAAAAcCAAAAAAAAAAEAAAABAQAAAgAAAAAAAAAAAAAAAAAAAAAAAAAAAAAAAAAAAAEBAAAAAgAAAAAAAAAAAAAAAAAAAAABAAAAAAAAAAAAAAAAAAAAAAAAAAAAAAAAAQAAAAEAAAAAAAAAAAAAAAEAAAAAAAAAAAIBAAAAAAAAAAIAAAAAAAAAAAAAAAAAAgAAAAAAAAAAAAAAAAAAAAAAAAIAAAAAAQAAAAAAAAAAAAAAAAAAAAAAAAAAAgAAAAAAAAAAAAAAAAAAAAAAAAAAAAAAAAAAAAABAAAAAAAAAAIAAAAAAAAAAAAAAAAAAQAAAAAAAgAAAAAAAAAAAAAAAAAAAgAAAAAAAAAAAAcAAAAAAAAAAAABAAAAAAAAAAABAAAAAAAAAAAAAAAAAAAAAAAAAAABAQAAAAAAAAAAAAAAAAAAAQAAAAAAAAAAAAIAAAAAAAAHAAEAAAAAAAAAAAABAgABAAAAAQEBAAAAAAAAAAEAAAAAAAAAAAAAAAAAAAAAAAAAAAAAAAABAAAAAAAAAAAAAAAAAAAAAAABAAAAAAAAAAAAAAABAAAHAAAAAAEAAQABAAAAAAAAAAAAAAABAAAAAAAAAAEAAAABAQAAAAAAAAAAAAAAAAAAAAAAAAAAAAAAAAAAAAEAAAAAAAAAAAEAAAAAAAAAAAEAAAAAAAEAAAAAAQABAAABAAAAAAAAAAAAAAAAAAAAAAAAAAAAAAAAAAAAAAAAAAAAAAABAAAAAAAAAgABAAAAAAAAAAIAAAAAAAAAAAAAAAAAAAAAAAAAAAAAAAAAAAAAAAEAAAAAAAAAAAAAAQAAAAAAAAAAAAAAAAAAAAAAAAAAAAEAAAAAAgAAAAAAAAAAAAAAAAAAAAAAAAAAAAABAQAAAAEAAAAAAAAAAAEAAAAAAAAAAAAAAAAAAAABAAcAAAAAAAAHAAAAAAAAAAAAAAAAAAAAAAAAAAAAAAAAAAAAAgEAAAAAAAAAAAAAAAAAAAAAAAEAAAAAAAAAAAAAAAAAAQAAAAAAAAAAAAEBAgAAAAAABwEAAQAAAgAAAAAAAAAAAAAAAAACAAAAAQAAAAcAAAAAAAAAAAAAAAAAAAAAAAAAAQAAAAABAAAAAAAAAAAAAAABAAAAAAAAAAABAAAAAAEAAAAAAAACAgAAAQAAAAACAAAAAAAAAAAAAQAAAAAAAAAAAQABAAAAAAAAAAEAAAAAAgAAAAAAAAAAAAAAAAAAAAAAAAAAAAAAAAABAAAAAAAAAAAAAAEAAAAAAgABAgAAAAAAAAAAAQEBAAABAAEBAAAAAAAAAAAAAAAAAAAAAAEAAAABAAAAAAAAAAEAAAAAAAAAAAABAAAAAAAAAQIAAQAAAAAAAAAAAAABAAAAAAABAAAAAAABAAEAAAAAAAAAAAABAAAAAQAAAAAAAQABAAAAAAAAAAABAAAAAQAAAAAAAAAAAAAAAAAAAQAAAAAAAAABAAEAAAABAAABAAAAAQAAAQAAAAAAAQABAAECAQAAAAAAAAAAAAEABwAAAAEAAAAAAAAAAAIAAAAAAAcAAAAAAAAAAAEBAQAAAAAAAAAAAAIAAAAAAAAAAAAAAAAAAAIAAAEAAAAAAAcBAAAAAAAAAAAAAAcAAAAAAAAAAAAAAAABAQAAAAAHAAACAAAHAAABAAAAAAAAAAAAAAAAAAAAAAEABwAAAAEAAAAAAAAAAAAAAAACAAAAAAAAAAAAAAAAAAAAAAAAAAAABwAAAAAAAQAAAAAAAAECAAABAAAAAAAAAAABAAABAAEAAAAAAAAAAAAAAAEAAQAAAAAAAAAAAAAAAAAAAAAAAAAAAAAAAQAAAAAAAAAAAAAAAAAAAAAAAAAAAAAAAAAAAAABAAAAAQAAAAAAAAAAAAABAAEAAAABAAAAAAAAAAAAAAABAAIBAAAAAAAAAAAAAAAAAAABAAAAAAAAAAAAAAAAAAABAAABAAAAAAAAAAAAAAAAAQAAAAAAAAAAAAAAAAAAAAEAAAAAAAAAAAABAAAAAAAAAAAAAAAAAAAAAAABAAACAAAAAQAAAAAAAAEAAAAAAAAAAAEAAQAAAAAAAAEAAAAAAAEAAAAAAAAAAQAAAAAAAAAAAAABAAAAAAAAAAAAAAAAAAAAAAAAAAEABwABAAAAAAAAAAABAAEAAAAAAAAAAAcAAAAAAAAAAAAAAAAAAAACAQAAAAAAAAAAAAAAAAAAAAAAAAEAAAAAAAAAAAAAAAAAAAAAAAAAAAEBAAABAAAAAQAAAAABAAAAAAAAAAAAAAAAAQAAAAEAAAAAAAEBAAAAAAIAAQAABwABAgAAAAAAAAIABwAAAAAAAAAAAAAAAAAAAAIAAAAAAAAAAQAAAAAAAAAAAAAAAAAAAAAAAAAAAAAAAAABAAcAAAAAAAACAAAAAAABAAEAAAAAAAAAAAAAAAAAAAAAAQABAAABAAAAAAAAAAACAQAAAAEAAAAAAAAAAgAAAAAAAAAAAgEAAAABAAAAAAEAAQAAAAABAAAAAAAAAAAAAAAAAAAAAAAAAAAAAAAAAAABAQcAAQEAAAEAAAEAAAACAAAAAAAAAQAAAAAAAAEAAAAAAAAAAAEAAAAAAAEAAAAAAAcAAAAAAQAAAAAAAAABAAACAAAAAAAAAAAAAAABAAEBAAAAAAAAAAAAAAAAAAAAAQAAAAAAAgABAAAAAAABAAAAAAEAAAAAAAAAAAAAAAAAAAAAAAAAAAEAAQAAAAAAAAAAAAAAAAAAAQAAAAAAAAABAAEAAAAAAAAAAAAAAAAAAAAAAAAAAgAAAQAAAAAAAAAAAAAAAAIAAQAAAAAAAAIAAAAAAQEAAAAAAAAAAgAAAQABAQEAAAAAAAAAAAAAAQAAAAAAAAAAAAABAAAAAQECAAAAAAAAAQAAAAAAAAAAAAAAAAAAAQABAAAAAAAAAAAAAAAAAAAABwAAAAAAAAAAAAABAAAAAAAAAAAAAgAAAAAAAAAAAAACAAACBwAAAAABAAAAAAAAAAEAAAAAAAAAAQAAAAEAAAAAAAEAAAAAAAAAAAAAAAAAAAAAAAAAAAABAAAAAAAAAAEAAAAAAAAAAAAAAAAAAAAAAAAAAwABAAAAAAAAAAAAAAAAAAEAAAAAAAAAAAAAAAEAAQAAAAAAAAAAAgAAAAAAAAEAAAAAAAEAAAEAAAIAAAAAAAAAAAAAAAAAAAAAAQAAAAABAAAAAAEAAAAAAAAAAQAAAAAAAAAAAAAAAAAAAAAAAAAAAAAAAAAAAAAAAQAAAAACAQAAAgAAAAAAAAAAAgAAAAAAAAAAAQAAAAAAAAAAAAEAAAEAAAAAAQAAAQAAAAAABwABAAEAAAAAAAAAAQAAAgAAAAAAAQAAAAAAAAAAAAAAAAEAAAAAAAEAAAAAAAAAAAEAAAAAAAAAAAAAAAAAAAAAAAEAAAAAAAAAAAAAAAAHAgAAAAAAAAAAAAAAAAAAAAAAAQAAAAAAAAAAAAAAAAAAAAABAAAAAAAAAAAAAAEAAAAAAAEAAQEAAAAAAAAAAAAABwAAAAAAAAEAAAAAAAEAAAAAAAAAAAEABwAAAAcAAgAAAQAABwAAAAEAAAAAAAAAAQAAAAAAAQABAAAAAAAAAAAAAAAAAAAAAAAAAAAAAAAAAAAAAAAAAAAAAAAAAAAAAQACAAAAAAAAAAAABwAAAQAAAAAAAAAAAAAAAAAAAAEAAAIAAAAAAAABAAAAAAAAAAEABAAAAAAAAAABAAAAAAAAAAAAAAABAAIAAAAAAAAAAAAAAAAAAAAAAAAAAAAAAAAAAAAAAAAAAAAAAQAAAAAAAAAAAAAAAAEAAAAAAAAAAAABAAAAAAAAAAAAAQAAAgAAAQAAAQAAAAAAAAAAAAAAAAAAAAAAAAAAAAAAAAAAAAAAAAABAAAAAAAAAAAAAAAAAAACAAAAAgABAAAAAAAAAAAAAQAAAAAAAAAAAAAAAAcAAAAAAAAAAQAAAAAAAAAAAQAAAAAAAQAAAAAAAQAAAAAAAAAAAAAAAAAAAAABAAECAAAAAAAAAAAAAAAAAAAAAAAAAAAAAQAAAAAAAAAAAAAAAQAAAAAAAAAAAAAAAAAAAAAAAQAAAgAAAAAAAAAAAAAAAAAAAAAABwAAAAAAAAAAAAAABwAAAAEAAAAAAAAAAAAAAAAAAAAAAAAAAAAAAAAAAAAAAAAAAAAAAgEAAAAAAAEAAAAAAAAAAAAAAAAAAAAAAAAAAAAAAAAAAQAAAAAAAAAAAQAAAAAAAAAAAAAAAAAAAQAAAAAAAAAAAAABAAAAAAABAAEAAAAAAAAAAQAAAQAAAAAAAgAAAAAAAAAAAAAHAAAAAAIAAAEBAAEBAAAAAAAAAAAAAQAAAAAAAAAAAAAAAAAAAAAAAAAAAAAAAAAAAAAAAAAAAAEAAAAAAAAAAAAAAAAAAAAAAQAAAAAAAAAAAAACAAAAAgAAAAAAAAAAAAAAAAAAAAAAAQAAAAAAAAAAAAAAAAAAAAIAAgAAAAAAAAAAAAAAAQAAAAAAAAABAAAAAAABAAEAAAAAAAAAAAAAAAAAAAAAAAEAAAIAAAAAAAAAAAAAAAEBAAAAAAAAAAAAAAAAAAAAAAAAAAAAAAAAAAAAAAAAAAAAAAAAAAAAAAAAAAAAAgAAAAAAAAAAAAAAAAAAAAAAAAAAAAIBAAAAAAAAAQAAAAAAAAAAAAAAAAAAAAAAAAAAAAAAAgAAAAEAAAAAAAABAAAAAAAAAQAAAQAABwAAAAAAAQAAAAAAAgAAAAEAAQEAAAAAAQAAAAAAAAAAAAAAAAAAAQAAAQAAAQIAAAAAAAEAAAAAAAIAAAABAAAAAAAAAAAAAAAAAAAAAAAAAAAAAQAAAAAAAAAHAQAAAAAAAAAAAAAAAAAAAAAAAAEAAAAAAAIAAAAAAAAAAAAAAAAAAAAAAAAAAAAABwABAgAAAAAAAAAAAAAAAAAAAQAAAAEAAAAAAAAAAAAAAAAAAAAAAAAAAAAAAAAAAAAAAAAAAAEBAAIAAAABAAAAAAAAAAAAAAAAAAAAAAAAAAAAAAABAAABAAECAAABBwAAAAAAAAAHAAAAAAAAAgAAAAAAAAAAAAAAAAAAAAEAAAEAAAAAAAAAAAAAAAAAAAAAAAAAAAAAAgAAAAAAAAAAAAAAAAEAAAAAAAAAAAAAAAEAAAAAAAAAAAEAAAAAAAACAAAAAAAAAQAAAAAAAgAAAAAAAAAAAAEAAAEAAAAAAAAAAAAAAAAAAAABAAAAAQAAAAAAAAAAAAAAAAAAAAIAAAABAAAAAAAAAAAAAAAAAQAAAAEAAAAAAAAAAAAAAAAAAAAAAQAAAAAAAAAAAAAAAQAAAAAAAAAAAAAAAAAAAAAAAAAAAAIAAAAAAAAAAAAAAAAAAAAAAAAAAQAAAAAAAAAAAAAAAAAAAAAAAAAAAAAAAAAAAQAAAAAAAAAAAAAAAAABAAAAAAAAAAAAAAAAAAAAAAAAAQABAAAAAQAAAQAAAAAAAAAAAAAAAAAAAAAAAAABAAAAAAAAAAAAAAAAAAEAAAAAAAABAAAAAAEAAQAAAAABAAAAAAAAAAAAAAAAAAAAAAIAAgAAAAEAAQAAAAAAAAAAAAAAAAAAAAcBAAAAAAAAAAAAAAAAAQAAAAAAAAEAAgAAAAABBwEAAAAAAQABAAAAAAAAAAAAAAAAAAAAAAAAAAAAAAAAAAAAAAAAAAAAAAAAAAEAAAAAAQABAAEBAAAAAAAAAAAAAAEAAAAAAAAAAAEAAAAAAAEAAAAAAAAAAAAAAQAAAAAAAAAAAAAAAAAAAQABAAAAAAABAAAAAAAAAAEAAAAAAAAAAAAAAAEAAAEAAAAAAAABAQABAAAAAAAAAAAAAQEAAgAAAQABAQABAAAAAAAAAQABAAAAAAAAAAEAAAAAAAAAAAMAAAEAAAAAAgAAAAACAAEAAAAAAAAAAAAAAAABAAAAAAAAAAAAAAAAAAAAAAAAAQAAAAAAAAABAAAAAAAAAAABAAAAAAAAAAAAAAIAAAABAgAAAAAAAgAAAAAAAAAABwAAAAAAAQEAAAABAAAAAAAAAQAAAAAAAAAAAAAAAAAAAAAAAQIBAAAAAAEAAAAAAAAAAAIAAAAAAAAAAAAAAAAAAAAAAAAAAQAAAAIAAAAAAgAAAAAAAgAAAAAAAAAAAQAAAAEAAQAAAAABAAAAAAAAAAAAAAAAAAAAAAAAAAAAAAAAAAAAAAAAAAABAAAAAgAAAAAAAAAAAAAAAAAAAAAAAAAAAAAAAAAAAQABAAAAAAAAAAAAAQAAAAAAAAAAAAAAAAAAAgAAAAAAAAAAAAAABwAAAAAAAAAAAAAAAAAAAAABAAAAAgEAAAAAAAABAAAAAAAAAAABAAAAAAEAAAEAAAAAAAAAAAAAAAAAAAACAAAAAAEAAQAAAAAAAAEAAAAAAAAAAgAAAAAAAAAAAAEAAAAAAAAAAAAAAAAAAAAAAAAAAAABAAAAAAAAAAAAAAAAAAIAAAEAAAAAAgAAAgAABwIAAAAAAAABAAAAAAABAAAAAAAAAAAAAAEAAAEAAAAAAAABAAAAAAAAAAAAAAAAAAAAAAAAAAAAAAABAAAAAAAAAAAAAQAAAAAAAAAAAAAAAQAAAAAAAAAAAAAAAAAAAQAAAAABAAAAAAAAAAIAAAAAAAAAAAAAAAAAAAAAAAcAAAAAAAAAAAABAAACAAAAAAAAAAIAAAEAAAAAAAAAAQAAAAAAAQAAAAEAAAAAAAAAAAAAAAAAAAAAAAAAAAAAAAABAAAAAAAAAQAAAgAAAAAAAAAAAAEAAAAAAAAAAAAAAAcAAAABAAAAAAAAAAAHAAAAAQEAAAAAAAAAAQAAAAABAAAAAQABAAAAAQAAAAAAAAIAAAAAAAAAAAACAAAAAAAAAAAAAAACAAAAAAAAAAAAAQAAAAAAAAAAAAAAAAAAAAAAAAEAAAAAAAAAAAIAAAADAAEAAAAAAAAAAAAAAAAAAAEAAAAAAAAAAAAAAAAAAAEAAAEAAAAAAAEAAAAAAAAHAAAAAAAAAAAAAAAAAAAAAAABAAAAAAAAAQAAAQABAAAAAAAAAQIAAAAAAAAAAAAAAAAAAAAAAAAAAAABAAAAAAAAAAAAAAAAAAAAAAAAAAIAAAAAAAAAAAAAAQAAAQABAAAAAAAAAAAAAAAAAAABAAAAAAAAAAAAAAAAAAABAAAAAgAAAAAAAAAAAAEAAAAAAQAAAAAAAAAAAAEAAAAAAAADAAABAAAAAAAAAAAAAAAAAAAAAAAAAAAAAAAAAAEAAAAAAAAHAAAAAAEAAAAAAAAAAAAAAAAAAAAAAQACAAEAAQAAAAABAAAAAAAAAAAAAAAAAAAAAAABAAAAAAAAAAAAAAIAAAAAAAAAAAAAAQAAAAAAAAAAAAAAAAAAAAAAAQAAAAAABwAAAAAAAAAAAAAAAAEAAAAAAAEAAAAAAAACAAAAAAAAAAAAAAAAAAAAAAEAAAEAAAAAAAAAAAAAAAAAAAAAAAEAAAAAAAAAAAAAAgAAAAAAAAAAAAAAAAEAAAAAAAAAAAAAAAAAAAAAAAAAAAABAQAAAAABAAAAAAEAAAAAAAAAAAAAAAAAAAAAAAAAAQAAAAAAAAAAAAAAAAAAAAAAAAEAAAAAAgAAAQAAAAAAAAAAAAAAAAAAAAAAAAAAAAAAAAAAAAAAAAAAAAAAAAAAAAAAAAAAAAAAAAEAAAAAAAAAAAABAAAAAAAAAQAAAAIAAAAAAAAAAAAAAAAAAAAAAAIAAAAAAAAAAAAHAAAAAAAAAAAAAAAAAAEAAAAAAAACAAAAAAEAAAAAAAAAAAAAAAAAAAAAAQAAAAAAAAAAAAAAAAAAAAAAAAAAAAAAAAAAAAAAAAAAAAAAAAAAAAAAAAAAAAAAAAAAAAAAAAAAAAAAAgAAAAAAAAEAAAAAAAAAAAAAAAAAAAAAAAAAAQAAAAAAAQAAAAAAAgAAAAAAAAAAAAAAAAAAAAABAQAAAAAAAAAAAAAAAAAAAQAAAAAAAAACAAAAAQAAAAAAAAAAAAEAAAAAAAAAAgAAAAACAAAAAAAAAAIAAAAAAAAAAAAAAAAAAAIAAAACAAAAAQEAAAEAAAAAAAAAAQAAAAAAAAAAAAAAAgAAAAAAAAAAAAAAAAAAAAAAAAAAAAAAAAAAAAAAAAACAAAAAAAAAAAAAAAAAAAAAAABAAAAAQAAAAAAAAAAAAAAAAAAAAEAAAAAAAABAAAAAAAAAAAAAQAAAAAAAAAAAAAAAAAAAAAAAAAAAAABAAEAAAAAAAABAAAAAAAAAAAAAAAAAAAAAAAAAAAAAAAAAAAHAAAHAAAAAAAAAAABAAEAAAAAAAAAAAAAAAAAAAAAAAEAAAABAAEAAAAAAAAAAAAAAAAAAAABAAEAAAAAAAAAAAABAAEBAAEAAAAAAAAAAAAAAAAAAAAAAAAAAAAAAAABAQAAAAEAAAAAAAAAAAAAAAAAAAAAAAAAAAAAAAAAAAIAAAAAAAAAAAEAAAAAAAAAAAAAAQABBwEAAAAAAAAAAAAAAAAAAAAAAAABAAAAAAAAAAEAAAAAAAAAAAAAAAEAAAAAAAABAAAAAAAAAAAAAAAAAAAAAAACAAAAAAAAAAAAAAAAAAEAAAAAAAAAAAAAAAAAAAAAAAAAAAAAAAEAAAACAAAAAAAAAAABAAAAAAEAAAAAAAAAAAEAAAEAAAAAAAAAAAAAAAAAAAABAAAAAQEAAAAAAAEAAQAAAAAAAAABAAAAAAAAAAAAAAABAAAAAgAAAAAAAAAAAAEAAAEAAAAAAAAAAAAAAAAAAAAAAAAAAAEAAAEAAAcCAAABAQAAAAAAAAAAAAAAAAAAAAAAAAAAAAAAAAAAAAAAAAAAAAEAAAAAAAAAAgAAAAAAAAAAAAAAAAAAAAAAAAAAAAABAAAAAAAAAQABAAEAAAAAAAAAAAAAAAEAAAAAAAAAAQAAAAAAAAAAAAAAAAAAAAAAAgAAAgEAAAAAAAABAAEAAAAAAAAAAAAAAAAAAAAAAAAAAAAAAAAAAAEAAAAAAAAAAAAAAAAAAAEAAAAAAAAAAAAAAAAAAAAAAAAAAAAAAAAAAAAAAAABAAAAAAIAAAAAAAAAAAAAAAAAAAAAAAAAAQAAAAEAAQAAAAAAAAAAAAABAAAAAQAAAAEAAAAAAAAAAAEAAAAAAAAAAAAAAAAAAAABAAAAAAAAAAAAAAEAAQAAAAAAAAEBAAAAAAAAAAAABwAAAAAAAAAAAQABAAAAAAAAAAAAAAAAAAAAAAcAAAAAAQcCAAAAAAAAAAAAAAAAAQAAAQABAAAAAAAAAAAAAAAAAAAAAAACAQAAAQAAAAEAAAAAAAAAAAAAAAEAAAAAAAAAAQAAAAABAAEAAAAAAAAAAAEAAgEAAAAAAAAAAAAAAAEAAAEAAAABAAAAAgAAAAAAAQAAAAAAAAEAAAEAAAAAAAAAAQIAAQAAAAAAAAACAAACAgAAAAIBAAAAAAAAAAAAAAAAAAAAAAAAAQAAAAAAAAAAAAAAAAAAAAAAAAABAAEAAAAAAAAAAAAAAAEAAAAAAgAAAQAAAAAAAAAAAAAAAAAAAAABAAAAAAAAAAAAAAAAAAcAAAEAAgAAAQAAAAAAAAEAAAAAAAAAAQAAAAAAAAAAAAAAAAAAAAAAAAAAAAABAAEAAQAAAQAAAAABAAAAAAAAAAAAAgAAAAEAAAAAAAAAAAABAAAAAAAAAAAAAQAAAAAAAAAAAAAAAQAAAAABAAAAAAAAAQABAAAAAAABAAAAAAAAAAEAAAAAAAAAAAAAAAABAAAABwAAAAEAAAAAAAAAAAAAAQAAAAAAAAAAAAAAAQEBAAEBAAACAAAAAAAEAAAAAAAAAAAAAAAAAQAAAAAAAAAAAQAAAAAAAAAAAAABAAAAAAAAAAAAAAAAAAAAAAAAAAAAAAAAAAAAAQAAAAAAAAAAAAAAAAAAAQAAAAAAAAEAAAAAAAAAAAAAAQAAAAAHAAAAAAAAAAAAAQAAAAIAAAAAAAAAAQEAAAEAAAEAAAAAAAABAAAAAAAAAAAAAAABAAAAAAAAAQAAAAAAAAAABwAAAAAAAAABAAABAAAHAQABAAAABwAAAAABAQABAAAAAAAAAQAAAAAAAAEAAAAAAAACAAABAAAAAAABAAABAgAAAQAAAQAAAAABAAAAAAAAAAABAQEAAAcAAAAAAAAAAAAAAAAAAAAAAAAAAAAAAAAAAAAAAAAAAAAAAAAAAQAAAAAAAAAAAQABAAAAAAAAAAAAAAAAAAAAAAAAAAAAAQAAAAACAAABAQACAAAAAAAAAAAAAQAAAAAAAAAAAAABAAAAAAAAAQABAAAAAAAAAAAAAAAAAAIAAAEBAAAAAAAAAAAAAAAAAAAAAAABAAAAAQABAAAAAgAAAQAAAAAAAAAAAAAAAAAAAAAAAAABAAABAAAAAAAAAQAAAQABAQAAAAABAAAAAAAAAAEAAAAAAAABAAABAAIBAAAAAQAAAAAAAAAAAAAAAQAAAAAAAAEBAAAAAAAAAAAAAQEAAAAAAAAAAAAAAAABAAEAAAAAAAACAAAAAQAAAAAAAAAHAAAAAAABAAAAAAAAAAAAAAAAAAAAAAABAAEAAAEAAAAAAAAAAAAAAAAAAQAHAAAAAAAAAAABAAABAAAAAAEBAAAAAAAAAAAAAAEAAAAAAgAAAAAHAQAAAAAAAAECAAAAAQAAAAAAAAAAAQAAAAABAAAAAAAAAQEAAAAAAgAAAAAAAAAAAAEAAAAAAAAAAAAAAAAAAAAAAAAAAAAAAAAAAAAAAAAAAAAAAAAAAAAAAAcAAAAAAAAAAAEAAAAAAAAAAAAAAAAAAAAAAgAAAAAAAAABAAAAAAABAQAAAAAAAAAAAAEAAAEAAAABAAAAAAAAAAACAAAAAAAAAAAAAAEAAAAAAAAAAAAAAAAAAAAAAAAAAAEAAAAAAAAAAgAAAAAAAAIABwAAAAAAAAAAAAABAAAAAAAAAAAHAAAAAAIBAAAAAAAAAQAAAAAAAAAAAAAAAAAAAAAAAAAAAAAAAAAAAAAAAAAAAQAAAAAAAAEAAAAAAAAAAAAAAAAAAAcAAAAAAAAAAgAAAAAAAAAAAAABAAAAAAAAAAAAAAEAAAEBAAAAAAAAAAAAAAAAAAAAAAAAAAAABwAAAAABAAAAAAIBAAACAAAAAAAAAAAAAAAAAAAAAAAAAAABAQAAAAEAAAAAAQEAAAAAAAAAAAEAAAAAAAABAQAAAAAAAAAAAAAABwAAAAAAAAEAAQAAAAABAAAAAQcAAAAAAAAAAAAAAAAAAAAAAAAAAQAAAQAAAAABAAAAAAAAAAAAAAAAAAIAAAAAAAAAAAEAAAAAAAAAAAAAAAAAAAEAAAAAAAEAAAAAAAAAAAAAAAAAAAAAAAAAAAAAAAAAAAAAAAAAAAEAAAAAAAEAAAAAAAAAAAACAAEAAAAAAAAAAAAAAAAAAAAAAAABAAABAAABAgAAAAEAAAAAAAAAAAAAAAAAAQABAAAAAAABAAAAAAAAAAAAAAEAAAAAAAAAAAAAAQAAAAAAAAAAAAAAAAAAAAEAAAAAAAABAAAAAAAAAAAAAQAAAAAAAAAAAAAAAAABAAAAAAAAAAAAAQAAAAAAAAAAAAAAAAEAAAAAAAAAAAABAQAAAAABAAAABAAAAAAAAAAAAAABAAEBAAEAAAAAAAAAAAAAAQAAAAAAAAEAAAAAAAAAAAAAAAEBAgAAAAAAAAABBwAAAAAAAAAAAAEAAAAAAAABAAAAAgAAAAAAAAAAAAAAAAAAAAAAAAABAAEAAAAAAAAAAAEAAAEAAAAAAAAAAAAAAAAAAAAAAAAAAQAAAAAAAAAAAAAAAAAAAAAAAAAAAAAAAAAAAAAAAAAAAAAAAAAAAAABAAAHAAAAAAABAAAAAQAAAAAAAAEAAAEAAAAAAAAAAAEAAAABAAAAAAAAAAAAAAABAAAAAgAAAQAAAAAAAgAAAAcAAAABAAAAAgAAAAAAAAAAAAAAAAAAAAAAAAAAAAIAAQAAAAAAAQAAAAAAAQAAAAAAAAAAAAAAAAEAAAAAAAAAAAAAAQAAAAAAAAAAAAAAAAAAAAAAAAAAAAAAAAAAAAAAAAAAAAAAAAAAAAABAAACBwAAAAAAAAAAAAAAAAAAAAAAAAAAAAAAAAAAAAAAAAAAAAAAAAAAAAAAAAAAAAACAAAAAAAAAAAAAAcAAAABAAAAAAAAAgAAAAAAAAAAAAAAAAABAAEAAAAAAAAAAAAAAAAAAAAAAQAAAAAAAQACAAAAAQAAAAAAAQAAAAAAAAAAAAAAAAIAAAAAAAEAAQAAAAAAAAIAAAAAAgAAAQAAAAAAAAAAAAAAAAABAQAAAAAAAAAAAAAAAAAAAAAAAAEAAAAAAAABAAAAAQAAAAAAAAAAAAABAAAAAAAAAAAAAAAAAAAAAAIAAQAAAAAAAAABAAAAAAAAAAAAAAAAAAAAAAAAAAAAAAAAAAAAAAAAAAIAAAAAAAAAAAAAAAAAAQAAAAAAAAAAAAIAAAAAAAAAAAABAAAAAAAAAAAAAgAAAAAAAAAAAAAAAAAAAQIAAQAAAAAAAAAAAQAAAAABAAAAAAAAAQAAAAAAAAAAAAICAAACAAABAAAAAAAAAAAAAAAAAAABAAAAAAAAAAIBAQAAAQAAAAAAAAAAAAAAAgAAAAAAAAAAAAEAAQAAAAAAAQAAAAAAAAAAAAEAAAAAAAAAAQAAAAAAAAAAAAAAAQAAAAAAAAABAAAAAAAAAQAAAAAAAAAAAAAAAAACAAAAAAAAAAAAAAABAAAAAAAAAAEAAAAAAAEAAAAAAAAAAAAAAAAAAAAAAAAAAAAAAAAAAAAAAAIAAAAAAAACAAAAAAAAAAAHAAAAAAAAAAAAAAAAAAAAAAAAAAAAAAAAAAAAAAAAAAABAAEAAAAABwAAAAEAAQAAAAAAAAIAAAAAAAAAAAAAAAAAAAABAAAAAAAAAAACAAAAAAAAAAAAAAABAQAAAAAAAAEAAgIAAAAAAAAAAAAAAAAAAAAAAgAAAAAAAAAAAAAAAAAAAQIAAAAAAAAAAAAAAAAAAAACAAAAAAAAAAAAAAAAAAAAAAAAAAEAAAAHAAAAAAAAAAACAAEAAAAAAAAAAAAAAAIAAAAAAAAAAAAAAAAAAAAAAAAAAAAAAAAAAAAAAAIBAAAAAAAAAAAAAAAAAAAAAAAAAAAAAAAAAAABAAAAAAAAAAAAAAAAAAAAAAAAAAAAAAAAAAAABwAAAAAAAAAAAQAAAAAAAAAAAAACAAAAAAIAAAAAAAAAAQAAAAAAAAAAAAAAAAACAAAAAAAAAAABAAAAAAABAAAAAAAAAAAAAAAAAAAAAAAAAAAAAgAAAAAAAAAAAAAAAAAAAAIAAgAAAAAAAAACAAAAAAAAAAAAAAAAAAAAAgAAAAAAAAAAAAEAAAAAAQAAAAAAAAAAAAAAAAAAAAAAAAAAAQAAAAAAAAAAAAAAAAAAAAEAAAEAAAAAAAAAAAAAAAAAAAAAAAAAAQEAAAAAAQAAAAAAAAAAAAAAAAAAAAAAAAAAAAAAAAAAAAACAQAAAAAAAAAAAAABAQAAAAABAAIAAAAAAAAAAAAAAAAAAAIAAAAAAAAAAAAAAAAAAAAAAAEAAAAAAAAAAAAAAAEBAAAAAAAAAAAAAAAAAAAAAAAAAAAAAAAAAAAAAAEAAAABAAAAAAAAAAAAAAAAAAADAAAAAQABAAEAAAAAAAAAAAEAAAAAAAAAAQAAAAAAAAAAAQEAAAAAAAACAAAAAQcAAAAAAAAAAAAAAAAAAAAAAAIAAAcAAQACAAEAAgAAAAAAAAIAAAABAAAAAgAAAQAAAAAAAAAAAAAAAQAAAAAAAAAAAAAAAAAAAAAAAAAAAAAAAAAAAAAAAAAAAQAAAAAAAAAAAAAAAAACAQAAAAACAAAAAAAAAAAAAAAAAAAAAAAAAAAAAAAAAAAAAQEBAAAAAAAAAAAAAAAAAAAAAAAAAAAAAAIBAAABAAEAAAAAAAAAAAAAAAAAAAAAAAAAAAACAAAAAAAAAAICAAAAAAAAAAEAAAAAAAAAAAAAAAACAAAAAAAAAQAAAAAAAAACAAAAAAAAAAAAAAEAAAIAAAAAAAAAAAAAAAAAAAABAAAAAAAAAAAAAAAAAAEAAAAAAAAAAAAAAAAAAAAAAQAAAAAAAAAAAAAAAAAAAAEAAAAAAAAAAAEAAAAAAAAAAAAAAAAAAAAAAQAAAAAAAQADAAEAAAAAAgIAAgAAAAAAAAAAAAAAAAAAAAAAAAAAAAIAAAAAAAAAAgAAAAAAAAAAAAAAAAAHAAAAAAAAAAEAAAAAAAAAAAAAAgAAAAAAAAEAAAAAAAAAAAAAAAAAAAABAAAAAAEAAAAAAAAAAAABAAEAAAAAAAAAAAAAAAAAAAAAAQACAAAAAQAAAAAAAAAAAQACAAEAAAAAAAAAAAEAAAAAAAAAAAACAAAAAAAAAAAAAAAAAAAAAQAAAAAAAAAAAAAAAAAAAwAAAAEAAAAAAAAAAAAAAAAAAAAHAAAAAAAAAAABAAAAAQAAAAEAAQAAAAEAAAAAAAEHAgAAAQECAQEHAAABBwAAAAEAAQAAAAABCAABAQAAAAAAAQEAAQcAAAAAAAAAAAEAAQEAAQAAAQABAQAAAAAAAAEAAAAAAgAAAQAAAAAAAAAAAAAAAQEAAAAAAAAAAAEHAAACAAEAAAAAAQAAAAABAAAAAAIAAAAAAAIAAAAAAQIAAAAAAAAAAAcHAAACAAABAQcAAAAAAQACAAEBAAEBAQACAAAAAAAAAQEAAAEAAAAAAAACAAIAAAAAAAEAAAEDAAEBAAAAAAAAAAAAAAECAQAAAAAAAQABAAIAAAECAQABAQABAAAAAAAAAAAAAQAAAAAAAgAAAgABAAAAAAABAAAHAAAAAAAAAAABAAABAAAAAAAAAwECAAACAgEAAAAAAQEAAAAAAAAAAAAAAAEAAAAAAQIAAAAAAAcBAAAAAAAAAgAAAAACAAAAAAAAAwIAAAACAAAAAAAAAAAAAAAAAAAAAAAAAAEBAQABAQEAAAAAAAAAAAABBwAAAgEAAAEAAAEAAAAAAAAAAAAAAAACAAACAAECAAAAAAAAAQAAAAEAAAcABwAAAgIHAAAAAAAHAAAAAAAAAQAAAQAAAAcAAAEAAQAAAAADAAEBAAAAAAABAAAABwcAAAAAAQABAAAAAQAAAAAAAQABAAAAAAAAAAAAAAACAAAAAAAAAAAAAAIAAAAAAAAAAAABAAAAAAIAAQAAAAAAAAAHAgAABwAAAQAAAAAAAAAAAAABAQAAAAAAAAAAAAAAAAAAAAAAAAAAAAcAAAAAAAAAAAAAAAAAAAAAAAAAAAAAAAAHAAAAAAAAAAAAAAAAAQEAAAAAAQIAAAABAAEAAAABAAABAAABAAAAAAABAAACAAAAAQABAAAAAAAAAAAAAAAAAAAAAAEAAAcAAAEAAAAAAAAAAAAAAAAAAQABAQAAAgIAAAAAAAEAAAAAAQAAAAAAAAAAAAABAAABAAAAAAAAAAABAAACAAEAAAAAAAAAAQEAAAAAAgAAAAAAAAEAAAAAAAEABwEAAAICAAIBAQABAAACAAEAAAEAAAEAAAcAAAACAAAAAQEAAAEBAAIBAAAAAQAAAAAAAAAAAAAAAAECAAAAAAAAAAIHAAEAAgACAAACAgAAAAAAAAAAAAAAAAAABwIAAQAAAgAAAAAAAAAAAAAAAAAAAAEAAAIAAAACAAABAgECAAEAAAAAAQAAAQAAAAABAAAAAAECAAAAAAAAAAABAQEAAAIAAAAAAAAAAAIAAAABAAEAAAAAAAAAAAABAAIAAAACAAAAAAABAAAAAgAAAAAHAAIAAAAAAAAAAAAAAAAAAAEAAAEAAAICAgAAAAABAAEBAQAAAAAAAAAAAAIAAAIBAAAAAAAAAgAAAAEAAAAAAQAAAAACAAABAQAABAAAAAAAAQAAAAEAAAAAAQAAAAIAAAAAAAAHAQAHAQAAAAAAAAIAAAEAAAAAAAMAAAAABwAAAAACAAAAAAACAAAAAQEAAAAAAAAAAAAAAQAAAAAAAAACAAACAAAAAAABAAAAAQECAAAAAAABAAAAAQEAAAAAAAABAQAAAQAAAQAAAQAAAAAAAAAAAAAAAAAAAAAAAAAAAAAAAAAAAAAAAAAAAAABAAEAAQEAAQcAAAAAAAAAAAAAAAAAAgAAAAAAAAEAAAAAAAABAQAHAAAAAAcAAAIAAAAAAAAAAAACAQABAQAAAAAAAAAAAAAAAAEAAAAAAAAAAAAAAQAAAAAABwAAAAABAgAAAgAAAAAAAAEABwAAAAEAAgAAAAAAAAACAAAHAAAAAAAAAAAAAAAAAgAABwAAAAAAAAABAAABAAEAAQAAAAAAAAAAAAABAAAAAAAAAQABAAAAAQAABwAAAAAAAAABAQABAAAAAAAAAAAAAAAAAAAAAAAAAAAAAAAAAAEAAAAAAQAAAAIAAAAAAAAHAAAAAAAAAAEAAQAAAQAAAQECAAAAAAAAAQAAAAABAAAAAQAAAQABAAAAAAAAAAAAAAAAAAAAAAAAAAAAAAABAAAAAQAAAAABAAAAAAABAAEAAAAAAAAABwAAAAAAAAAAAAABAAIAAAAAAAAAAAEAAAIAAAAAAAAAAQEAAAEAAAAABwAAAgACAAAAAQAAAQIAAAACBwAAAAAAAAAAAAAAAAAAAgAAAAAAAAEBAgIAAAAAAQABAAAAAAAAAAAAAAAAAAABAAABAAAHAQIAAQAAAAABAAEBAAAAAAAAAAAAAAAAAQIAAAAAAAAAAAABAAAAAAAAAQEAAAAAAAAAAAAAAQAAAAACAAAAAAAAAQAAAAAAAAIAAAAAAAAAAgAAAAABAAEAAAAAAAACAAAAAAEAAQAAAAAAAAAAAAAAAAAAAAAAAQEAAAAAAAAAAAAAAAAAAAAAAAEAAAAAAAABAAAHAAAAAAAAAAAAAAIAAAAAAAAAAAAAAAAAAAAAAAEAAAAAAAAAAAAAAQEAAAcBAAAAAAAAAAAAAAAAAAAAAAIAAAAAAAABAgAAAAABAAAAAAEAAAAAAAAAAAIAAAAAAQACAAACAAACAAAAAAABAAAAAAIAAAAHAQAAAQAAAAAAAAAAAAAAAAABAAEAAAAABwAAAQEAAQABAwEABwAAAAABAAABAAAAAAAAAQAAAAEAAAAAAAAAAAAAAAAAAAIAAAACAAAAAAAAAAAAAAABAAAAAAACAAEAAQABAAAAAQAABwABAAAAAAAAAgAAAAAAAAAAAAEBAAAAAAAAAAAAAQABAgABAgEBAAAAAgAAAAAAAAAAAAAAAAAAAAAAAAAAAQAAAAEAAQEBAAEAAAAAAAAHAAAHAAAAAAAAAQAAAAAHAAAAAQAABwAAAAAAAQAAAAAABwAAAAAAAQAAAAAAAAAAAAABAAAAAAEAAQABAAAAAAABAAEAAAAAAAAAAAAAAAEAAAABAAAAAAAHAAABAAAHAAAAAAAAAAAAAQAAAAAAAAAAAQAAAAACAAAAAAAAAAAAAAABAQAAAAAAAAAAAAAAAAAAAAABAAAAAAABAAAAAQAAAAAAAAAAAAABAQACAAAAAAAAAAAAAAAAAAAAAAABBwAAAAACAAAAAAIAAAAAAAAAAAAAAAAAAAAAAQAAAAEAAAEAAAAABwEAAAABAAAAAAcAAAcAAAAAAAAAAAAAAAcABwAAAQAAAAIAAAAAAQEAAgACAAAAAAAAAAAAAAIAAAABAAEAAAAAAAAAAAABAAAAAAAAAQAAAAABAgEAAAAAAAAAAAABAQAAAAIAAAAAAgAAAAAAAAAAAAAAAAABAAACAQAHAAAABwIBAAAAAAAAAAcAAAAAAAEAAAAAAQIAAAAAAAAAAQAAAAAAAAAAAAAAAAEAAAAAAAAAAAAAAQABAAEAAAEAAAAAAQABAAAAAAAABwEAAAAAAAAAAgIBAAAAAAAAAAAABwAAAQEHAAAAAAABAAACAAAAAAAAAAAAAAAAAAECAAEAAAAAAAAAAAAAAQAAAAABAAEAAAAAAgAAAAAAAAAAAgAAAAEAAAABAAAAAAACAAABAAIAAAAAAAAABwAAAAAAAAEAAQAAAAABAAABAQAAAAACAQAAAAEAAAAAAAAAAAIAAAAAAAEBAAAAAAABAAEAAAAAAAAAAgAAAAAABwMAAAEAAwEAAwIAAQAAAAAAAAAAAAAAAAcAAAAAAAAAAAAAAAAAAgAAAAACAQAAAAEAAQEABwcHAAEAAAAAAAAAAAEAAAACAgAAAAACAAECAAAAAAAAAQEAAAAAAAAABwABAAAAAAEAAAAAAAAAAQAAAAEAAAABAAACAAAAAAEBAAIAAAACAQEAAQABAAAAAAAAAQEBAAABAQABAQABBwABAQAAAAAHAAABAAABBwAAAAAAAAAAAgMBAAABAAAAAAACAAAAAAAAAQABAAAAAAAAAAABAQAAAQAAAAAAAQAAAQAAAAABAAAAAAAAAAACAAABAAAAAAAAAAAAAAAAAAAAAQAAAAAAAAAAAAcAAAACAAAAAAAAAAAAAAAAAQAAAAAAAAAAAAIBAAAAAAEAAAAAAAAAAAEAAgAAAAAABwAAAQEBAAAAAAAAAAIAAAABAAAAAAAAAQAAAQAAAAEBAAAAAAIAAAAAAAAAAAEAAgABAAAAAAEABwAAAQAAAAABAQAAAAACAAIAAAcAAAABAAABAAABAgAAAAAAAAAAAAAHAAAAAAAAAQEABwAAAAAAAAAAAAAAAAAAAAABAQAAAQAAAAEAAAcAAAAAAAEAAAAAAAAAAAAAAAAABwAAAAEAAAAAAAAAAAEAAQEAAAAAAAAAAAEAAAAAAAAAAQEAAAAAAAAAAAAAAAAAAAAAAQAAAQAAAAAAAQAAAAABAAAAAAAAAAAAAAAAAAAAAAABAAAAAAAAAAEAAAAAAAAAAAAAAAAAAAMAAwAAAQAAAAEAAQACAAABAAAAAAAAAAcAAAAAAAAAAAEBAAcAAAAAAAAAAAEAAAAAAAAHAAAAAAAAAQAAAAAAAQAAAAIAAAAAAAAAAAAAAAAAAAEAAAEAAQADAQAAAAAAAQAAAQAAAAAAAAABAAEAAAEBBwEAAAEAAAAABwIAAAAAAAAAAAEAAQAAAAAAAAEBAAABAAABAAAAAAAAAAAAAAEBAAAAAQAAAQAAAAABAAEAAQAAAAAAAAABAQAAAQABAAABAAAAAAEAAAAABwAAAQAAAgAAAAAAAQAAAAcAAAEHAAAAAQAAAAAAAAACAAIAAAAAAAAAAAAAAAAAAAAAAAAAAAAAAAABAAAAAAACAAAAAQAAAAAAAAAAAAAAAAAAAAAAAAAAAAABAAAAAAAAAAEAAAABAAAAAAAAAQAAAAAAAQABAAAAAAABAQAAAAEAAAAAAAAAAAEBAAEAAAAAAAAAAAAAAAABAQAAAgAAAAAAAAAAAQIBAAAAAAEAAAAAAAAAAAEAAgAAAAAAAAAAAAADAAABAAABAAIAAAAAAAcAAAAAAQEAAAAAAQAAAAAHAAABAQAAAQAAAAAAAAAAAAAAAQAAAAAAAAAAAAAAAAAAAAEAAAAAAAAABwEAAAAAAAAAAAAAAAABAAEAAAAAAAAAAAEAAAAAAAEAAAAAAAABAAABAQAAAAABAQAAAAEAAAAAAAAAAAIAAAAAAQAAAAAAAAAAAAAAAAAAAAAAAAEBAAAAAAAAAAAHAAABAAAHAAAAAAAAAQAAAAAAAAAAAAAAAAABAQAAAAIAAAABAAAAAAAAAAAAAAAAAAEAAAEBAAABAQAAAAAAAAcAAQAAAAAHAAAAAAAAAQABAAAHAAIAAQAAAQAAAAAAAAAAAAABAAIAAAAAAAAAAAECAAAAAQAAAAAAAQABAAEBAQAAAAABAAEAAAABAAAAAAAAAAAAAAABAQEAAAAAAQAAAQAAAgAAAQAAAAABAAEAAAABAAAAAAAAAAAAAAEAAAEAAAAAAAEAAAAAAAAAAAAAAAAAAAAAAAIAAgAAAAABAAABAQACAAAAAAEAAAAAAAAAAAAAAAIAAQEAAAABAAAAAAACAQABAAAAAAAAAAAAAAAAAAEAAAAAAAAAAAAAAQACAAEAAQAAAAABAAAAAAEAAAAAAQABAAAAAAAAAQAAAAAAAQAAAAAAAAAAAAAAAAABAAAAAAAHAAEAAQEAAAABAAAAAAAAAAABAAAAAAAAAAEBAAAAAAAAAAABAAAAAAEAAAAAAQAAAAAAAAABBwIBAAAAAAEABwAAAAIAAAAAAAAAAQAAAAAAAAIAAAAAAAAAAAABAAcAAAABAAAAAAAAAAAAAAAHAAEAAAAAAAEAAAABAAAAAAEAAAAAAAAAAQEAAAABAAAAAAAAAAAAAAEAAAACAAAHAAAAAAIAAAAAAQcAAAAAAAAAAAEAAAAAAAAABwAAAAEAAAEBAAABAAAAAAEAAQAAAAAAAAEAAAEAAQAAAAEAAAAAAAAAAAAAAAAAAQAAAAEBAAAHAAAAAAABAAcAAAAAAQAAAAAAAAAAAQAHAAAAAAEABwAAAAAAAAAAAAAAAQEAAAAHAAAAAAEAAAAAAAAABwAAAAEAAQAAAAEAAAAAAAAAAAAAAAEAAAAAAAAAAQAAAQAAAAAAAAEAAAEBAAAAAAAAAAAAAQABAAAAAAABAAABAAAAAAABAAAAAAABAAAHAAAAAAAAAAAAAAAAAQAAAAAABwAAAAAAAAEAAAABAAAAAAABAAAAAgAAAAABAAAAAQcAAAAAAQAAAQEBAAAAAAEHAAABAAAAAAEAAAEAAAAAAAAAAAABAAABAAEAAAAAAAAAAAAAAAAAAAAAAAABBwAAAAABAQEAAAEAAQAAAQEBAAAAAAAAAQAAAAABAQEAAAEAAAAAAAEBAAAHAAAAAAIAAAAAAQABAQAAAAABAQAAAAEHAAAAAAAAAAEAAQAAAAEAAAcAAAAAAQABAAAAAAAHAQAAAQAAAAAAAAIBAQABAQAAAQABAQABAAAAAAAAAgAAAQEAAAAAAAAAAQAAAQAAAAAAAAAAAAAAAAEBAQABAAEBAAAAAAABAQABAQAAAAAAAAAAAQEBBwIBAAAAAAABAAAAAQAAAAAAAAcBAAEAAQABAAAAAAAAAAAAAAAAAAAAAAABAQAAAQAAAAEAAAAAAAcBAQAAAAADAAABBwEAAAAAAQAHAQAAAQEAAAABAAEAAQEBAQEAAAAAAgABAAABAQEAAAcAAAAAAQAAAAAHAAcAAAAAAQAAAAAAAAAAAAAAAQABAQEAAQAAAAAAAAAAAAABAQAAAAABAAAAAAABAAAAAAABAAAAAQEBAAAAAAABAQAAAQEAAAABAAEAAQEAAQAABwAAAAAAAAAAAQAAAAABAAAAAAAAAQAAAAIAAAAAAAAAAAAAAAAAAAAAAgAAAAABAAAAAgEAAAAHAAAAAQABAAAAAAAAAQAAAAAAAAEAAAEBAQEBAAABAQAAAAEBAAAAAAAAAAAAAAABAAEAAQAAAQAAAAAAAAAAAAAAAQAAAAEAAQEAAAABAAAAAAAAAAAAAgIAAQEAAAEBAQAAAAEAAAEBAAEAAAEBAAABAAEBAQABAAAAAAEAAQAAAQEBAQAAAAEBAAABAAAAAAEBAQAAAAAAAAEBAAAAAAABAAAAAAEAAAAAAAEAAgAAAAEAAAEBAAEAAAABAAAAAQAAAAAAAQAAAAEAAAAAAAABAQAAAAAAAAEBAQABAAAAAQACBwAAAQAAAQAAAAIAAAAAAAAAAQAAAAEAAQABAAAAAAcAAAAAAAAAAAAAAAAAAAACAAABAAAAAAAAAAEAAAABAAABAAIAAAABAAAAAAAAAAABAAIBAQABAQABAAABAAAAAAAAAAIAAQEAAAAAAAAAAQACAAAAAAIAAAEAAQEBAAABAAACAQAAAAEAAAAAAAAAAAAAAAEAAAABAAEAAAAAAAABAAAAAQAAAQAAAAEDBwAAAAAAAAAAAAAAAQABAAAAAAEHAQAAAAAAAAEAAAAAAAABAQAAAAAAAAAAAAEAAQEAAAAAAQABAQACAAAAAQAAAQAAAAEAAAEAAAAAAAABAAABAQEBAQEAAQAAAAAAAAEBAQECAQAAAAEAAQAAAQEAAAEBBwAAAAABAAAAAAAAAAAAAAACAAAHAAEAAAAAAAAAAAACAAAAAQAAAAEAAAABAAAAAAABAQABAAEBAAAAAQABAQAAAAAAAAAAAAABAgAAAAEAAAAAAAABAAAAAAAAAAAAAAAAAAEAAQABAAAAAAAAAQAAAQIAAAAAAQAAAAAAAAAAAAAAAAAAAQAAAAAAAAAAAQAAAAABAQAAAAABAgAAAAAAAAAAAQAAAAEAAAAAAAABAAAAAQEBAAAAAAEAAAAAAAAAAAABAAAAAAAAAAEAAAIAAAAAAAAAAAACAAAAAAAAAAAAAAAAAAAAAAAAAAEAAAIAAAAAAAAAAAAAAAACAAAAAgAAAAAAAAAHAAAAAAABAgAAAAIAAAAAAAAAAgcAAAAAAAAAAQAAAAIAAAACAAIAAQAAAgAAAAIAAAAAAAAAAAAAAAAAAAAAAAABAAAAAAAAAAAAAAAAAgACAAAAAAACAAEAAAABAAAAAAAAAAACAAAAAAAAAAACAAAAAQABAAAAAAAAAgACAAACAAACAQICAAICAAIAAAABAAACAAAAAQIAAAAAAAAAAAAAAAAAAAIAAAMAAAAAAAAAAAAAAgAAAQABAgAAAAIAAAACAAAAAAAAAAACAAAAAAAAAgAAAgAAAAACAgAAAAAAAAAAAAAAAAAAAgAAAAACAAAAAAIAAAAAAAAAAAAAAAAAAAACAAAAAAAAAAAAAAAAAAIAAAAAAAAAAAABAAIAAAAAAAACAAACAgAAAAIAAAAAAAAAAAAAAAABAAAAAAEAAAAAAAAAAgAAAAAAAAAHAAAAAAAAAQAAAAAAAAACAAIAAgIBAAAAAAAAAAIAAAEAAAIAAAAAAAEAAAAAAAAAAAAAAAAAAAAAAAAAAgAAAAIAAAICAAACAAAAAAAHAgABAAcAAAAAAAECAQcAAAAAAAAAAAAAAAACAAABBwEAAAAAAAAAAgACAAAAAAAAAgAAAAAAAAAAAAEAAQACAgAAAAAAAQAAAgIAAAAAAAAAAgAAAAEAAAAAAAIAAAAAAQAAAAAAAAAAAAAAAAACAAAAAAIAAAAAAAAAAAAAAAAAAAAAAgACAAAAAAAAAAABAAAAAQcAAAAAAAAAAAIAAAAAAAIAAAAAAAAAAAACAAAAAgEAAAACAAAAAAAAAAAAAAIAAAAAAAEAAAAAAgAAAgAAAAAAAQAAAgAAAAAAAAAAAAECAAABAAAAAAIAAAAAAAAAAAAAAQAAAQAAAAAABwAAAAAAAAAAAAAAAAAAAAACAgAAAAAAAAAAAAEHAQAAAAEAAAABAAACAAAAAAIAAAAAAAAAAQAAAAICAQAAAAAAAAAAAAAAAAAAAAcAAAAAAAcAAAAAAAAAAQACAAEAAgIAAAEAAgACAAACAAAAAAAAAgIAAAAAAgAAAgAAAAcAAAAAAAAAAgAAAAAAAAAAAAAAAQAAAAAAAAIBAAEAAAAABwAAAAIAAAAAAgAAAAAAAgAAAAEAAAAAAAICAgAHAAAAAAAAAAAAAAAAAgAAAAABAQACAAAHAAAAAwACAgAAAAABAAEAAAAAAgAAAAAAAAAAAAACAAAAAAAAAAACAAABAAIAAAAAAAAAAAACAgEAAAABAAAAAAAAAAAAAgAAAAAAAAAAAAAAAAAAAAAAAAAAAAAAAAAAAAIAAAIAAAIAAgAAAgIAAAAAAAAHAQAAAAAAAAAAAAAAAAAAAAIBAgAAAAAAAAAAAAIAAAAAAAICAAAAAAAAAAAAAAAAAgEAAAABAAAAAAAAAAAAAAAAAAAAAAAAAAAAAAICAAEAAAABAAIAAAAAAQAAAAAAAAAAAAAAAgAAAAAAAAIAAAABAAACAAICAAAAAQAAAAAAAAAAAAAAAAICAAAAAAAAAgEAAAAAAAAHAAIAAAAAAAEAAAAAAAEAAAAAAgAAAAAAAAAAAQIAAAEAAgAAAAEAAAAAAAAAAAAAAAIAAAAAAAEAAAAHAgACAAAAAAAAAAAAAAEAAAAAAAAAAAAAAAAAAAEAAAACAgAAAAAAAAAAAAAAAAAAAAAAAAACAAAAAAAAAAACAAAAAAEAAAIAAAAAAAAAAAAAAAABAAAAAAIAAAEABwAAAAABAAAAAAACAAABAAAAAAEAAAAAAAAHAQAAAAAAAAAAAAAAAAAAAAABAAAAAAAAAAAAAAACAAAAAAIAAAAAAAAAAAAAAAAAAAEAAAAAAAcAAAAAAAAAAAAAAAACAAAAAAAAAAECAQEAAAAAAAAAAAIAAAAAAQAAAAEAAAABAAABAAAAAAAAAAAAAAAAAAAAAAAAAAAAAgAAAAAAAAABAAEAAAAAAAAAAAAAAAAAAAAAAgAAAAAAAgAAAAAAAAEAAAABAQAAAAAAAAAAAAAAAAAAAAAAAAAAAAABAAABAAAAAQAAAAABAAAAAAAAAAAAAQAAAAAAAAAAAAAAAAcCAgAAAgAAAAAAAAAAAAABBwAAAgAAAAAAAAAAAQAAAAAAAAAAAAcAAAEAAAAAAQAAAAAAAAAAAAAAAAMAAAAAAQAAAAAAAAAAAQAAAAAAAAAAAAAAAAAAAAAAAAABAAAAAAAAAAAAAAAAAAAAAAAAAAAAAAEAAAEAAAAAAAcAAAAAAAAAAQABAAAAAAAAAAABAAAAAAAAAAAAAAAAAAACAAABAAAAAAIAAAAAAAAAAAAAAAAAAAAHAAACAgAAAAAAAAIAAAAAAAAAAAAAAAAAAQAAAQAAAAABAAAAAAAAAAEAAQAAAAAAAAAAAQAAAgIAAgAAAAAAAAEAAAAAAAAAAAAAAAAAAgEAAAAAAAAAAAICAAAAAAAAAAAAAAAAAAIAAAEAAAABAAAAAAIAAQAAAAAAAAABAAAAAAAAAAAAAAAAAAAAAAAAAAAAAAAAAAAAAAAAAAAHAAEAAAAAAAAAAAAAAAAAAAAAAAAAAgAAAAIAAAABAAABAAAAAAAAAAACAAABAAAAAAAAAQAAAAAAAAEAAAAAAgAAAAAAAAAAAAAAAAEAAAAAAAAAAAAAAAACAAAAAAAAAAAAAgAAAAAAAAAAAAAAAAAAAAAAAAAAAAAAAAAAAAAAAAAAAgAAAAAAAAAAAAAAAAAAAAAAAAAAAAAAAAcAAAAAAAAAAAAAAgAAAAAAAAEAAAAAAQAAAAAAAAAAAAAAAAAAAgACAAECAAAAAAAABwAAAAAAAAAAAAIAAAAAAQAAAAAAAAAAAAAAAAIAAAABAAAAAAAAAAAAAAAAAgAABwACAAABAAAAAAAAAAAAAAAAAAEAAAIAAAAAAQABAAAAAAACAAAAAQAAAAAAAAAAAAABAAACAAAAAAAAAAICAgABAQAAAAAAAQEBAAACAgAAAAAAAQAAAAACAAAABwAAAgAAAAACAAEAAAACAAIAAAIAAAEAAAAAAAABAAAAAAAAAAAAAAAAAAAAAAAAAAAAAAAAAAAAAAAAAAAAAAEAAAABAAACAAAAAAAAAAAAAAAAAAAAAgAAAAAAAAAAAAAAAAABAAABAAAAAAAAAAIBAAAAAQAAAAAAAQEBAAAAAAAAAAAAAQACAAAAAAAAAAAAAAACAQABAAAAAAAAAAAAAAEHAAAAAAAAAAAAAAAAAgABAAAAAAAAAgAAAgAAAAAAAAAAAAABAgIAAAAAAAACAAACAAAAAAAAAAAAAAAAAAAAAAABAAAAAAAAAAAAAAIAAAAAAAAAAAAAAAAAAAAAAAAAAgAAAAACAQAAAAAAAAIAAAAAAAAAAAAAAAAAAAAAAAAAAAAAAAAAAAAAAAAAAAAAAAABAAAAAAAAAAACAAAAAAAAAAAAAAAAAAAAAAIAAAAAAAAAAAAAAQAAAAAAAgEAAAAAAAAAAAIAAAAAAgAAAAAAAAAAAAEAAAAAAAAAAAAAAAAAAAAAAAAAAAAAAAAAAAAAAgACAAMAAAAAAAAAAAACAAIAAAEAAAAAAAAAAAAAAAAAAAAAAAAAAAAAAAAAAAAAAAAAAAAAAQAAAgAAAAEAAAACAAAAAAAAAAAAAAABAAAAAAAAAAADAAAAAAAAAQAAAAAAAAAAAAAAAAAAAAAAAAAAAAAAAAAAAAIAAQAAAAAAAAAAAAMAAAAAAAAAAAAAAAAAAAAAAAAAAAAAAAAAAAAAAAMAAAAAAAAAAAAAAAAAAAAAAAACAAAAAAAAAAAAAAAAAAACAAAAAAAAAAADAQAAAQAAAAAAAAAAAAAAAAAAAAAAAAAAAAAAAAAAAAAAAAADAAACAAAAAAAAAAAAAAAAAAAAAAAAAAAAAAAAAAAAAAcAAAAAAAEAAgAAAAIAAAAAAAAAAAAAAAAAAAAAAAAAAAAAAAAAAAAAAAAAAAAAAAAAAAAAAAAAAAAAAAABAQAAAAAAAAAAAAAAAgAAAAAAAAAAAAABAAAAAAAABwAAAAAAAQAAAAAAAAAAAAAAAAAAAAAAAAABAQAAAAAAAAEAAQAAAAAAAQAAAQAAAAACAAACAAAAAAAAAQABAgAAAAAAAAAAAAAAAAAAAAAAAAAAAAAAAAAAAAAAAAEAAAAAAAAAAAAAAAAAAAAAAAAAAAAAAQAAAAAAAAAAAAAAAAAAAAAAAAAAAAEAAAAAAAABAAABAgABAAAAAAAAAAAAAAAAAgAAAAAAAAICAAEAAAAAAAAAAAAAAAAAAAAAAAACAAAAAAAAAAACAAAAAAAAAAAAAgAAAAEAAAIAAAABAAAAAAcAAAAAAAAAAAAAAAAAAAAAAAAAAAAAAAAAAAAAAAAAAAIAAAAAAAAAAAABAAAAAAIAAAAAAAAAAAAAAAAAAAAAAAAAAAAAAAAAAgACAAAAAAcAAAAAAAAAAAAAAAABAAAAAAAAAAEAAAAAAAAAAAAAAAAAAAMAAAAAAAAAAAAAAAAAAAAAAAABAAAAAAAAAAAAAAAAAAABAAAAAAAAAgAAAAAAAQAAAgAAAAAAAAAAAAAAAAAABwAAAAAAAgAAAAAAAAAAAAEAAAAAAAAAAAAAAAAAAAAAAAAAAAAAAAAAAAAAAAAAAAMAAAEAAAEBAAAAAAAAAAAAAAAAAAAAAAAAAAAAAAMAAAAAAAACAAAAAAAAAQAAAgAAAAEAAAAAAAAAAgAAAAAAAAAAAAEAAAQAAAAAAAAAAAACAAAAAAAAAAAAAAAAAAAAAAAAAAAAAAcAAAEAAAAAAAAAAAAAAAADAAAAAAAAAAAAAgABAAAAAAAAAAAAAAAAAAAAAAACAAAAAAAAAAAAAAAAAAEAAAAAAAAAAgAAAAAAAAAAAAEAAAABAAAAAAAAAAAAAAAAAAAAAAAAAAAAAAAAAAAAAAEAAAEAAAAAAAAAAAAAAAAAAAAAAAAAAAAAAAAAAAAAAAACAAAAAAAAAAAAAAAAAAABAAAAAAAAAAACAAAAAAAAAAAAAAAAAAAAAAAAAgAABwAAAAAAAAEAAAAAAAAAAAIAAAAAAAAAAAAAAAAAAAAAAAEAAAAAAAAAAQAAAAEAAAIAAAAAAAAAAAAAAAAAAAAAAQAAAAAHAAAAAAAAAAAAAAAAAAABAAAAAAAAAAIAAAAAAAEAAgAAAQAAAAAAAAADAAAAAAAAAAAAAAAAAAAAAAAAAAABAAAAAAACAAAAAAAAAAMAAQAAAAAAAAAAAAAAAAAAAAAAAAAAAAAAAAAAAAAAAAAAAAACAgAAAAAAAAIAAAAAAAAAAAAAAAAAAAAAAAAAAAAAAAAAAAAAAAAAAAAAAAAAAAAAAAAAAAAAAAAAAgAAAAAAAAAAAAAAAAAAAQAAAAAAAAAAAAAAAQAAAAAAAAAAAAAAAAAAAAAAAAAAAAEAAAAAAAAAAAAAAAAAAgAAAAAAAAAAAAAAAAAAAAAAAgAAAAAAAAAAAAAAAAEAAgAAAAAAAAAAAQAAAAAAAAAAAAABAAADAAAAAgAAAAAAAAAAAAAAAAAAAAAAAAAAAAAAAAAAAgAAAAAAAAACAAAAAAAAAAAAAAAAAAAAAQABAAEAAAAAAAAAAAAAAAAAAAAAAAAAAAAAAAAAAAAAAAAAAAAAAAAAAAAAAAABAAAAAAAAAAAAAgAAAAAAAAAAAAAAAAIAAAAAAAAAAAAAAAAAAAAAAAAAAAAAAAAAAAAAAAAAAAAAAAAAAAAAAAAAAAAAAAAAAAAAAgAAAAAAAAAAAAIAAAIAAAAAAAAAAAAAAQAHAAAAAAAAAAAAAAcBAAAAAAAAAAAAAAAAAAIAAAIAAAAAAAAAAAAAAgAAAAAAAAAAAAAAAAAAAAAAAAABAAAAAAAAAAABAAAAAQAAAQABAAAAAAAAAAAAAAAAAAIAAAAAAAABAAAAAAAAAAAABwAAAQAAAAAHAAAAAAAAAAAAAAEAAAAAAAAAAAcAAAACAAAAAAAAAAAAAAAAAAAAAAIAAAAAAAAAAAEBAAACAAAAAgAAAQAAAAAAAAABAAAAAAAAAAAAAAAAAAABAAAAAAAAAAAAAAAAAAAAAAIAAAAAAAAAAAACAAAAAAAAAAAAAAAAAAAAAAAAAAAAAAEAAAAAAAAAAAAAAAAAAAAAAAAAAAAAAAAAAAAAAAAAAAAAAAAAAAAAAAIAAAAAAAAAAAAAAAAAAAAAAAAAAAAAAAAAAAAAAAAAAAAAAAEAAAAAAAABAAAAAAABAAAAAAAAAAAAAAAAAAAAAAAAAAEAAAAAAAAAAAAAAgAAAgAAAAIAAAAAAAIAAAMAAAABAAAAAAAAAAAAAAAAAAAAAAAAAAAAAAAAAAAAAAAAAAAAAAAAAQAAAAAAAQAAAgEAAAAAAgAAAAABAAAAAgAAAQAAAAAAAAAAAAAAAQAAAAAAAAAAAAAAAAACAAEAAAAAAAAAAQAAAAABAAAAAAAAAgAAAQAAAgAAAAAAAAAAAAAAAAAAAAABAAEAAAEAAAAAAAAAAAAAAAAAAAAAAAAAAAAAAQAAAAAAAAAAAAIAAAAAAAACAQABAAAAAAAAAQAAAAAAAAAAAAAAAQAAAAAAAAAAAAAAAAAABwAAAAAAAAAAAAAAAAAAAAIAAAAAAAIAAAAAAAEAAAABAAAAAAAAAAAAAAAAAAAAAAEAAgAAAAcAAAAAAQEAAAACAAEAAAAAAAAAAAAAAAAAAAABAAAAAAAAAAAAAAAAAAAAAAAAAAAAAAAAAAAAAAAAAAAAAAABAAIAAAABAAAAAAAAAAAAAwAAAAAAAAABAAIAAAAAAAIAAAAAAAEAAAAAAAAAAQAAAAIAAAAAAAAAAAIAAAAAAAAAAAIBAAAAAAAAAAAAAAIAAAAAAAAAAAAAAAAAAQAAAAEAAAAAAQEAAAAAAAEAAAAAAAAAAgAAAAAAAAAAAAAAAAAAAAAAAAAAAAAAAAAAAAAAAQAAAgAAAAAAAAAAAAAAAAAAAAAAAAAAAAAAAAAAAAAAAAEAAAAAAAAAAAAAAgAAAAAAAAAAAAAAAAABAAAAAAAAAAAAAAAAAAAAAAAAAAAAAAAAAAEAAAAAAAAAAAAAAAAAAAAAAAAAAAAAAAAAAAABAAAAAAEAAAABAAAAAAAAAAABAAAAAAAAAAAAAAAAAAAAAQAAAAAAAAAAAAEAAAAAAgEAAAABAAAAAAEAAAADAAAAAAAAAAAAAQAAAAAAAAAAAAAAAAAAAAAAAAACAAAAAAAAAAAAAAAAAAIAAAAAAAAAAAIAAAAAAAAAAAAAAAAAAAAAAAAAAAAAAAAAAAAAAAAAAAAAAAAAAAAAAAAAAAAAAAAAAAAAAAAAAAAAAAAAAAABAAABAAABAAAAAAAAAAAAAQABAAAAAAAAAAAAAAIAAAAAAAAAAAADAAAAAAAAAAAAAAAAAAAAAAAAAAAAAAIAAQAAAAAAAAAAAAAAAAAAAAEAAAAAAAAAAAAAAAAAAAAAAAAAAAAAAAAAAAAAAAAAAAAAAAAAAAAAAAAAAAIAAAAAAAAAAAAAAAAAAAAAAAAAAgAAAAIAAAAAAAAAAAAAAAAAAAAAAAAAAAAAAAABAgAAAAAAAAAAAgIAAQAAAAAAAgAAAAAAAAAAAAAAAAAAAAAAAAAAAAAAAAABAAIBAAAAAAAAAAAAAAAAAAACAAAAAAAAAAAAAAAAAAAAAAAAAAAAAAAAAAAAAAAAAAAAAAAAAAAAAAAAAQcCAAAAAAAAAAAAAAAAAQAAAAAAAAAAAAAAAAAAAAAAAAAAAgAAAAAAAAAAAAAAAAAAAAAAAAABAAABAAAAAAAAAAIAAgEAAAAAAAAAAAAAAAAABwAAAAAAAAAAAAAAAAABAAAAAAACAAAAAAAAAAAAAAAAAAAAAAACAAAAAAAAAAACAAAAAAAAAAABAAEAAQAAAAAAAAABAAAAAAAAAAAAAAABAAAAAAAAAAAAAAAAAAAAAAAAAAAAAAAAAAAAAAAABAAAAAAAAAAAAAAAAAAAAAAAAAAAAAAAAAAAAAAAAAAAAAAAAAAAAAAAAgEAAAACAQAAAAAAAQAAAAAAAwAAAAABAAAAAAAAAQAAAAAAAgAAAAIAAAAAAAAAAQEBAAAAAAABAAAAAAAAAAAAAAAAAAAAAgEAAAAAAAAAAAAAAAAAAAAAAAAAAAAAAAAAAAAAAAAAAAAAAAAAAAAAAAAAAAAAAAAAAAAAAAAAAAAAAAAABwAAAAAAAQIAAAAAAAAAAAIAAAAAAAABAAAAAAAAAgAAAAAAAAAAAAAAAAEAAAAAAAAAAAAAAAAAAgAAAQAAAAAAAAAAAAAAAAAAAAAAAAAAAAAAAAIAAAAAAAAAAAAAAAABAAAAAAAAAQQAAAAAAAAAAAACAAAAAAEAAAAAAAAAAAAAAAAAAAAAAAAAAAAAAAAAAAAAAAAAAAAAAgAAAAAAAAAAAAAAAAACAAAAAAAAAAAAAAAAAAAAAAEAAAAAAAABAAAAAQAAAAIAAAAAAAEAAAAAAAAAAQEAAAABAAEAAAAAAAAAAAABAAAAAAAAAAAAAAAAAAAAAAAAAAAAAAAAAAAAAAAAAAAAAAAAAAAAAAAAAAAAAQABAAAAAAAHAAAAAQcAAAABAAAAAQAAAAEAAAAAAAAAAAAAAAAAAAAAAAAAAAAAAAEAAAEAAAAAAAAAAAAAAAAAAgAAAAABAQEAAAAAAQEAAAAAAAAAAAAAAAABAQAAAAAAAAAAAAAAAAABAAAAAgAAAAIAAAAAAgAAAgABAAACAQAAAAAAAAAAAAAAAgAAAQAAAAIAAAAAAAABAAAAAAAAAAAAAAAAAQAAAAAAAAAAAAAAAQAAAAEAAAAAAAAABwACAAAAAgAHAAAAAAAAAAAAAAABAAAAAAAAAAADAQAAAAAAAAAAAAAAAAAAAAAAAAAAAgAAAgIAAAAAAAAAAAIAAQAAAgAAAAAAAAAAAAAAAAAAAAAAAQAAAAAAAAAAAAMAAAAAAAAAAAAAAAAAAAACAAAAAAAAAAAAAQAAAAAAAwAAAAAAAgAAAAAAAAAAAAACAAAAAAAAAAAAAAABAAAAAQAAAAAAAAABAAEAAAEAAAAAAAAAAAABAAAAAAAAAgACAAAAAAABAAAAAAAAAAAAAAAAAAABAAEAAAAAAAAAAgAAAAMAAAIHAAAAAAEAAAAAAAEAAAABAQAAAAAAAAAAAAAAAAAAAAABAAAAAAAAAAAAAAAAAAAAAgAAAAAAAAADAAAAAAAAAAAAAAABAgAAAAAAAAAAAgAAAAAAAAAAAAIAAAAAAAAAAAAAAAAAAAABAAAAAgAAAAAAAAAAAAAAAAAAAAAAAAAAAAAAAAAAAAABAAAAAAEAAAAAAAAAAAAAAAAAAAMAAAAAAAAAAAAAAQAAAAAAAAcAAAAAAgAAAAAAAAAAAAAAAAABAAAAAAABAAAAAAAAAAAHAAAAAAAAAAAAAAAAAAEAAAAAAAABAAIAAAAHAAAAAAAAAAEAAAAAAAAAAAABAQAAAgAAAAAAAAAAAAAAAAAAAAAAAAAAAAAAAAAAAAAAAAAAAAAAAQAAAAAAAAAAAAAAAAAAAAAAAAAAAAAAAAABAAAAAAIHAAACAAAAAAAAAAAAAAIAAAAAAAAAAAAAAAAAAAAAAAEAAAEAAAACAAABAAAAAAAAAAAAAAAAAAAAAAEAAQcAAAAAAAAAAAAAAAAAAAEAAAAAAgAAAAACAAAAAAAAAAAAAAAAAAIAAAABAAAAAAEAAAAAAAAAAAAAAAEAAAAAAgABAAACAAABAAABAAABAAAAAAAAAQAAAAAAAQAAAQEBAQAAAAAAAAAAAAAAAAAAAAAAAAEAAAAAAAAAAQAAAAAAAAcAAAAAAgEAAAAAAAAAAAAAAAABAAAAAAAAAAAAAAABAAABAAEAAAAAAAAAAQAAAAAAAAAAAAAAAAIAAAAAAAAAAAAHAAAAAAAAAgAAAgAAAAEAAAAAAAEAAAAAAAAAAAAHAQAAAAAAAAAAAAABAAAAAAAAAAAAAAABAAAAAAEAAAAAAAAAAAAAAQAAAAABAAAAAAAAAAAAAAAAAAEAAAEAAAAAAAAAAQEAAAAAAAAAAAAAAAAAAgAAAAAAAAAAAAAAAgAAAAABAAAAAAABAAAAAAABAAAAAAAAAAAAAAAAAAAAAQAAAAAAAAAAAAABAAAAAAAAAAAAAAAAAQAAAAACAQAAAAAAAAAAAAAAAAAAAQACAAAAAAABAAAAAAABAAAAAAEAAAEAAAAAAAAAAQAAAQABAAABAAAAAAAAAAAAAAAAAAAAAAACAAAAAAAAAAAAAAAAAAAAAAAAAAAAAAAAAAABAAAAAAAAAAABAAAAAAAAAAAAAAAAAAAAAAAAAAAAAAAAAAEAAAAAAAAAAAAAAAAAAQAAAAABAAEAAAAAAQAAAAAAAAEAAAAAAQAAAAAAAAEAAAAAAAAAAAAAAAAAAAAAAAAAAAEAAAAAAAACAAAAAAAAAAAAAQAAAAAAAAAAAAAAAAEAAAAAAAACAAAAAAAAAAAAAAAAAAEAAAAAAAAAAAACAAEAAAAAAQACAAAAAAAAAAEAAgEAAQAAAAAAAAAAAAAAAAAAAAAAAAEAAAEAAAAAAAAAAAAAAAAAAAAAAAAAAAAAAAAAAAACAAAAAAAAAAEAAQAAAAABAAIAAAAAAAAAAQEAAAAAAQEBAAAAAAAAAAAAAAAAAAAAAAAAAAABAAAABwABAAAAAAACAAAAAAACAAAAAAEAAAAAAAAAAAAAAAAAAAAAAAAAAQIAAAAAAAAAAAACAAAAAAEAAQAAAAAAAAAAAAAAAAAAAAAAAAAAAAAAAAAAAAABAAAAAAAAAQAAAAAAAgAAAQAAAAcCAAAAAAAAAAAAAAAAAAEAAAAAAAAAAAABAAEAAAEAAAAAAAAAAAAAAAAAAQAAAAABAAAAAgAAAAAAAAEAAAAAAAAAAAAAAAAAAAIAAAAAAAAAAAABAAAAAAAAAAAAAAAAAAAAAAAAAAIAAAAAAAAAAAAAAAAAAAAAAAIAAAEAAAAAAAAAAAAAAAAAAQAAAQAAAAEAAAAAAAAAAAAAAAAAAAAAAAcAAAAAAAAAAAAAAAAAAAAAAAAAAAAAAAAAAQAAAQAAAAEAAAAAAAAAAAAAAAAAAAAAAAACAAAAAAAAAAAAAAAAAAAAAAAAAAAAAQAAAQAAAAAAAAAAAAAAAAAAAAAAAAAAAAAAAAAAAAAAAQAAAAACAAAAAAABAAAAAAAAAAAHAAAAAQABAAABAAAAAAAAAAABAQAAAAEAAAEAAAACAgAHAAAAAAAAAAAAAAAAAAAAAAAAAQEAAAAAAAAAAQEAAAAAAQAAAAABAAAAAAEAAAACAAAAAAAAAAAAAAAAAAAAAAAAAAAAAAEAAAAAAQAAAAIAAAAAAQAAAAAAAAABAAAAAAAAAAAAAAEAAAAAAAAAAAAAAAAAAAAAAAAAAAEAAAABAAABAAAAAAAAAQAAAAEAAQAAAAAAAAEAAAIAAAAAAAAAAAAAAAABAAAAAAEAAAAAAAAAAAABAAEAAAIAAAAAAQAAAQABAAAAAAAAAAAAAAAAAAAAAAAAAAAAAgAAAAAAAAAAAAAAAAAAAAAAAAAAAAAAAQAAAAAAAAAAAAAAAAEAAAEAAAAAAAAAAAEAAAAAAAEAAAAAAQAAAAAAAQAAAAABAAAAAAIAAQAAAgAAAAAAAAAAAAADAAAAAAEAAAAAAAAAAAAAAAAAAAAAAQAAAAAAAAAAAAAAAAEAAAAAAQAAAAABAAAAAgEAAAAAAAAAAAAAAAAAAAAAAQAAAAAAAAAAAQAAAAAAAAECAAEAAAAAAQAAAAABAAAAAAAAAAAAAAEAAAAAAAAAAAAAAAAAAAAAAAAAAAAAAQEAAAAAAAEAAAAAAAAAAAIAAAAABwAHAAAAAAAAAQAHAAAAAAAAAAABAAEAAAIAAAAAAAACAAAAAAAAAAEBAAABAAAAAAAAAAAAAQABAAAAAAAAAAIAAAAAAAcAAAAAAAAAAQAAAgAAAAAHAAAAAAAAAAACAAAAAAEAAAAAAAAAAAAAAAAAAgEAAAACAAAAAAAAAAAAAAAAAAAAAAAAAAAAAAEAAAAAAAAAAAABAAAAAQAAAAAAAAEAAAAAAAAAAAAAAAAAAAAAAQAAAAAAAAACAAAAAAAAAAAHAAAAAAAAAAACAAAAAAAAAAcAAAAAAAAAAAAAAAAAAAABAAAAAAAAAAAAAAAAAAIAAAAAAAAAAAAAAAAAAAABAAACAAAAAQAAAAAAAAAAAAAAAAAAAAAAAAAAAAAAAAAAAQAAAAAAAAAAAAAAAAAAAAAAAAEAAAAAAQAAAAAAAAAAAAAAAAAAAAAAAAEAAAAAAAABAQABAAACAAAAAQAAAAAAAAAAAAAAAAAAAAAAAAAAAAACAAEAAAAAAAAAAAAAAAAAAAAAAAAAAAAAAAABAQAAAAAAAAAAAAAABwEAAAAAAAAAAAABAAAAAAAAAAAAAgAAAAAAAAAAAAAAAAAAAAAAAAAAAAAAAAAAAAAAAAAAAAAHAAAAAAAAAAAAAgAAAAAAAAAAAAAAAAAAAAAAAAAAAAAAAAAAAAAAAAAAAQAAAAAAAAAAAAAAAgAAAAAAAAAAAAAAAAAAAQABAQAAAAAAAAAAAAAAAAEAAAAAAQAABwAAAAAAAAAAAAIAAAAAAAAAAAAAAAACAAAAAAAAAQAAAAAAAAAAAAABAAEAAAAAAAAAAAAAAAAAAAAAAAAAAAAAAAAAAAAAAAAAAAAAAAAAAAIAAAABAQACAAAAAAAAAAAAAAAAAAAAAAAAAQAAAAEBAAABAAEAAAAAAAAAAAABAAAAAAAAAAEAAAAAAAAAAAAAAAAAAgAAAAAAAAAAAAAAAAAAAQMBAAAAAAAAAAAAAAEHAQAAAAAACAAAAAAAAQEBAAABAAACAAABAAAAAAAAAAAAAAAAAAAAAAAAAAAAAAAAAQAAAAAAAAAAAAEAAAAAAAAAAAAAAAAAAAAAAAABAAEAAAAAAAABAQAAAAAAAAACAAEAAAEAAAEAAgAAAAAAAAAAAAAAAAEAAAAAAQAAAAAAAAABAAAAAAAAAAABAAEAAAAAAAMAAAAAAAAAAAAAAQACAAAAAAAAAAAAAAAAAAABAAAAAAAAAAAAAAIAAgAAAAEAAAAAAAAAAAACAAECAAAAAAAAAAAAAAAAAAAAAAAAAAcAAAABAAAAAAAAAAAAAAABAAAAAAAAAAAAAAAAAAAAAQEAAAAAAAIAAAIAAAAAAAAAAAAAAAAAAQABAAABAQAAAAAAAAAAAAEAAAIAAAAAAQAAAAAAAAIAAAEAAAABAAIAAAAAAAAABwAAAAEAAAAAAAABBwEAAAAAAAAAAgAAAAAAAQAAAAAAAAAAAAAAAAAAAAABAAAAAAAAAQAAAAAAAAABAAEAAQAAAAAAAAAAAAAAAAAAAAEAAQAAAQAAAAABAAABAQEAAAABAQEAAAAAAQABAAACAAAAAAABAAAHAAEAAAAAAQAAAAAAAAAAAAAAAAAAAAAAAAAAAAAAAAAAAAACAAIAAAAAAAAABwABAAAAAAECAAACAAEAAAACAQAAAQEAAAAAAAAAAAAAAAEBAAIAAAAAAgEAAAAAAAAAAAAAAAAAAAACAAEAAAAAAAABAAABAAAAAAAAAAAAAAAAAAEAAAAAAAAAAQECAAEBAAAAAQAAAAEAAAEBAAAAAAAAAAAAAAAAAAAAAQAAAAECAAAAAAACAAEAAAIAAgABAAAAAQABAAAAAAAABwAAAAAAAAAAAAEAAAABAQAAAAAAAAAAAAABAAAAAAEAAAEAAAAAAAAAAAEBAAIAAAAAAAIBAAAAAAAAAAAAAAAAAAAAAAAAAAIAAAIBAQAAAAAAAAAAAAAAAAAAAAAAAAAAAgAABAAAAAAAAAAAAAEAAAAAAAAAAAAAAAAAAAAAAgEAAAAABwAAAAAAAAAAAAAAAAAAAQABAAAAAAEAAAAAAQAAAAAAAAAAAAAAAAAAAAACAAACAAABAAAAAAAAAgAAAQAAAAIAAAAAAAABAAAAAAAAAQABAAAAAQcBAAAAAAEAAAAAAAAAAgAAAAAAAAAAAAAAAAAAAAAAAAAAAAEAAAAAAAAAAAAAAAAAAAACAAAAAAAAAAAAAAIAAAAAAAAAAAABAAABAQABAgAAAAcAAgAAAAAAAAABAAEAAAAAAAAAAAAAAAEAAAAAAAAAAAAAAAACAgABAAAAAAAAAAAAAAAAAAAAAAAAAAAAAAAAAAAAAgAAAAAAAAAAAAABAAAAAAEAAQAAAAACAAAAAAAAAAIAAAAAAQAAAAAAAgABAAEAAAAABwAAAAABAAAAAAAAAAAAAAAAAAACBwEAAAABAAAAAQAAAAACAAAAAgAAAAAAAAAAAAAAAAAAAAAAAAEAAAEAAAIAAAAAAQAAAAAAAAAAAAABAgACAAEAAAAAAAEAAAAAAAAAAAAAAAAAAgAAAAAAAAAAAgAAAwAAAAIAAAEBAAAAAAEAAAAAAQACAAAAAAAAAAAAAAEAAAEAAAAAAAABAAAAAQcAAAAAAAAAAAAAAAAAAAEAAAAAAAAAAAAAAAEAAAAAAAAAAQAAAAABAAEAAQAAAAADAQAAAAAAAAEBAAAAAAAAAAABAAEAAAAAAQAAAAAAAAAAAAAAAAAAAAAAAAAAAAAAAAAAAAEAAAAAAAACAQAAAAAAAAAAAAAAAAAAAAAAAAABAAAAAAAAAAAAAAEAAAAAAQAAAgcAAAAAAQAAAAAAAAAAAAABAAAAAAAAAAAAAQIAAAEAAAEHAAAAAAAAAAAAAgAAAAABAAAAAAAAAAAAAAAAAAAAAAIAAAAAAAABAAAAAAAAAQEBAAAAAAEBAAAAAAAAAQAAAAEAAAACAAAAAAAAAAAAAAAAAAAAAAAAAAAAAAAAAAACAAAAAAAAAAAAAAAAAAAAAQEAAAAAAAAAAAAAAAAAAAcAAAAAAAAAAQAAAAAAAAAAAAAAAAAAAAAAAAAAAAAAAAAAAgAAAAAAAAAAAAAAAAIBAAAAAAIAAQAAAAAAAAADAAAAAAAAAQAAAQACAAAAAAABAAAAAAAAAQAAAAAAAAAAAAAAAAABAAABAAACAAAAAAIAAAABAAAAAAAAAAAAAAAAAAAAAgEAAAAAAAAAAAAAAAAAAAAAAAAAAAAAAAAAAAEAAAAAAAcAAAAAAAAAAAIAAAAAAAAAAQAAAAAAAAAAAAAAAAAAAAAAAAAAAAIAAAAAAAIBAAAAAAEBAQAAAAAAAAACAAAAAAABAAAAAAEAAAIAAAABAAAAAAAAAAAAAAABAAAAAAEBAAAAAAAAAAAAAAAAAQABAAAAAAAAAAAAAAAAAAAAAAAAAAAAAAAAAAABAAIAAAAAAAAAAQAAAAAAAAAAAAAAAQAAAAAAAAAAAAEAAAAAAAAAAAAAAAAAAQABAAABAgAAAAAAAAAAAAAAAAAAAAAAAAAAAgEAAAAAAAAAAAAAAAAAAQABAAAAAAACAAAAAAAAAAAAAAAAAAEAAAEAAAAAAAAAAAABAAAAAQAAAAAAAAAAAAABAAABAAAAAAAAAAAAAAAAAQAAAAAAAAABAAAAAAAAAAAAAQAAAAEAAAAAAAEAAAABAAAAAAABAAAAAAEBAAAAAAAAAAAAAAAAAgEAAAAAAAAAAAAAAAAAAQAAAAAAAAEAAAAAAAAAAAMAAAAAAAAAAAAAAAAAAAAAAAAAAAAAAAAAAAAAAAAAAAAAAQAAAAAAAAAAAQAAAgAAAAEAAAAAAAAAAAAAAAAAAAAAAAAAAgAAAAAAAAAAAAAAAAABAAAAAAAAAAAAAAAAAAAAAAAAAAEAAAAAAAEAAQAAAAAAAQAAAAcAAAAAAAAAAAEBAAAAAAAAAAAAAAAAAAAAAAAAAAAAAAAAAAAAAgIBAAEAAAAAAAAAAAAAAAAAAAAAAAAAAAAAAAAAAAAAAAAAAAAAAQAAAAACAAEAAQAAAQAAAAAAAAAAAAEAAQIAAAABAAAAAAAAAAAAAAAAAAAAAAAAAAEAAQAAAQAAAAECAAEAAAAAAAAAAAAAAAAAAAAAAAAAAAAAAAAAAAAAAAAAAAABAAAAAAAAAAAAAAAAAAAAAAAAAAAAAQAAAAAAAAAAAAAAAAAAAAEAAAEAAAAAAQAAAAABAAAAAAAAAAAAAAAAAAAAAAEAAAAAAAAAAgAAAAAAAAAAAAAAAAAAAAAAAAABAAAAAAAAAAAAAAAAAAAAAAAHAAIAAAAAAAAAAAAAAAAAAAAAAAEAAAAAAAAAAAAAAgAAAAABAAAAAAAAAAAAAAABAAAAAAAAAQAAAQIAAAAAAAAAAQAAAQAAAAEAAAABAAAAAAAAAQAAAAAAAAEBAAAAAAAAAAEAAAAAAAACAAABAAAAAAAAAAEAAAAAAAAAAAAAAAIAAAABAQAAAQAAAAAAAAAAAAAAAAEAAAACAAIAAAEAAAAAAAAAAQAAAAACAAAHAAEAAAACAAAAAAABAgABAAAAAAACAAABAQAAAAAAAAAAAAABAAABAAAAAAAAAAAAAAAAAAAAAAAAAAAAAgAAAAAAAAAAAAEAAAEAAAACAAAAAAAAAAAAAQAAAAAAAAAAAQAAAAAAAAAAAAAAAAABAAAAAAAAAAAAAQAAAAAAAAAAAAIAAAAAAAAAAAAAAAEAAAEAAQAAAQEAAAAAAAABAAAAAAAAAgAAAAAAAAAAAAAAAAAAAAIAAgAAAAAAAAAAAAAAAAAAAAAAAAABAAAAAAAAAAAAAAAAAAABAAAAAAAAAAAAAAAAAAAAAAEAAQAAAQIAAAAAAAAAAAEAAAAAAAAAAAACAAAAAAABAAEAAAAAAAAAAQAAAAEAAAAAAQAAAAAAAAAAAAAAAQAAAAAAAAEAAAAAAAAAAAAAAAAAAAAAAAAAAAAAAAAAAAEAAAAAAAABAAACAAABAAAAAAAAAAAAAAAAAgAAAAAAAAAAAAACAAAAAQAAAAAAAAEAAAEHAAAAAgAAAAAAAAIAAAAAAQAAAAAAAAAAAAAAAgABAAAAAAIAAAAAAAABAAAAAAAAAAAAAAAAAAABAAAAAAAAAAAAAAAAAAABAAAAAAAAAAAAAAAAAAAAAAAAAAAAAAAAAAAAAAAAAAAAAgAAAAAAAAAAAAAHAAAAAAAAAAAAAAAAAAAAAAAAAAAAAAAAAgAAAAAAAAIAAQEAAAAAAAAAAQAAAAAAAAAAAAAAAAAABwAAAAIBAAAAAAAAAAAAAAAAAQAAAAAAAAABAAAHAAAAAAAAAAIAAAAAAAAAAAAAAQAAAAADAAEAAQADAAABAAAAAgECAAAAAAAAAAAAAAABAAcAAAABAAAAAAIAAQAABwABAAAAAQAAAAAAAAAAAAEAAAAAAAAAAAAAAAAAAAAAAAAAAAABAAABAAACAAAAAgAAAAAAAAAAAAAAAQAAAAABAAAAAQEHAAAAAAAAAQABAAEAAAABAQAAAQAAAAEAAAAAAAEAAAAAAAACAAAAAAABAQAAAAAAAAAAAAcAAAAAAAAAAAEBAQAAAAAAAAAAAAAAAAAAAAACAAAAAAAAAAAAAAAAAAAAAAACAAADAAAAAAAAAAABAAAAAAAAAAAAAAAAAAAAAAAAAAAAAAAAAAAAAAEAAAEAAQAAAAAAAAAAAAAAAAEAAAAAAAAAAQAAAAEAAAAAAQIBAAAAAAAAAAAAAAACAAAAAAAAAAAAAAAAAAAHAAABAAACAAAAAAACAQAAAgACAAAAAAAAAAABAAEAAAAAAAAAAAAAAAAAAQIAAQAAAQEBAAAAAAAAAAEAAAAAAgAAAAAAAAACAAAAAAAAAAAAAAEBAAABAAAAAAAAAAAAAAAAAAACAAAAAAABAAAAAQAAAAAAAAAAAgAAAgAAAQABAAAAAAAAAAAAAAAAAAAAAAAAAAAAAAAAAAAAAAAAAAABAAIAAAAAAAAAAAAAAQAABwAAAAAAAAAAAAABAQAAAAEAAAEAAQAAAAAAAAAAAAAAAAAAAAAAAAAAAAAAAAEAAAAAAQAAAAAAAAAAAAAAAAABAAAAAAAAAAIAAQAAAAAAAgAAAAAAAAABAAABAAAAAQAAAAAAAAAAAAAAAQAAAAEAAQAAAAAAAAIAAwAAAAAAAAAAAgEAAAAAAAABAAAAAQAAAQAAAAAAAQAAAAEAAAAAAAAAAAAAAAAAAAAAAAAAAAAAAAABAAAAAAABAAABAQAAAAABAQAAAAAAAAAAAAABAAAAAAAAAgIAAAAAAAAAAAAAAAIAAAAAAAAAAAAAAAAAAQAAAQIAAAEAAAAAAAAAAAAAAAAAAAAAAQAAAAAAAAAAAAAAAAAAAAAAAQAAAAABAAIBAAAAAAAAAAAAAAAAAAIAAAAAAAAAAAAAAAAAAAAAAAAAAAAAAgAAAAAAAAAAAAAAAAAAAAEAAAAAAAIAAAIAAAABAQIAAAEAAQEAAAAAAAEAAAIAAAAAAAAAAwAAAAAAAAAAAAAAAAAAAAABAAAAAAAAAAABAAAAAAAAAAAAAAAAAAAAAAAAAAAAAAAAAAABAAAAAAAAAAEBAQEAAAAAAAAAAQAAAAAAAgAAAAAAAAAABAAAAQAAAAAAAAAAAAAAAAAAAAAAAAAAAAAAAQABAAEAAAAHAAAAAAACAAAAAAAAAAAAAAIBAAAAAAECAgAAAAAAAAAAAAAAAAAAAAAAAAAAAQAAAAAAAAAAAAAAAAABAAEAAAEBAAABAAAAAAIAAAABAAACAAAAAAAAAAAAAAABAAEAAgAAAAAAAAAAAQAAAAABAAAAAAAAAAAAAAAAAAAAAAABAAAAAAAAAAAAAAcAAAAAAAAAAAAAAAAAAQAAAAEDAAAAAAAAAQAAAQABAAAAAAACAAAAAAAAAAAAAAAAAQAAAAAAAAAAAAAAAQAAAAAAAAABAAEAAAAAAAAAAAABAAAAAAAAAAcAAAAAAAAAAAAAAAAAAAEAAAAAAAACAQAAAAAAAAIAAAACAAAAAAAAAAACAAAAAAAAAAAAAAAAAAIBAAAAAAAAAAAAAQIAAQEAAAAAAAAAAAAEAgAAAQAAAAIAAAACAAAAAAAAAAEBAAAAAgAAAAAAAAAAAAEBAAAAAAABAAAAAAAABwAAAAAAAAAAAAAAAQAAAAABAAEAAAEAAQAAAAACAAAAAAAAAAIAAAAAAAAAAAAAAAAAAAEAAAAAAAAAAQEAAQAAAAAHAQAAAAAAAAAAAAAAAAAAAAAAAAAAAAAAAAAAAQAAAAAAAAAAAAAAAAIAAAABAAAAAAAAAAAAAAAAAAABAAEAAAABAAAAAQEAAAEAAAAAAAAAAAAAAAAAAAAAAQEAAAAAAAAAAAAAAAAAAAAAAAAAAAAAAAAAAAAAAQAAAAAAAAACAAAAAAAAAAAAAAAAAAAAAgEBAAIAAAIAAAAAAAAAAAEAAAAAAAAAAAAAAAAAAAAAAQACAAAAAAAAAAAAAAAAAQABAAAAAAEAAgAAAAAAAAIAAAAAAQAAAAAAAAAAAAAAAgAAAAEAAAEAAAAAAQAAAgAAAQAAAQAAAAABAAAAAAAAAAACAAAAAAAAAAEAAAAAAAAAAgAAAAAAAAAAAAAAAAEAAAAAAAABAAAAAAAAAAAAAgAAAAAAAAIAAgIAAAAAAAAAAAAAAAAAAQECAAAAAAAHAAAAAAACAAAAAAAAAAAAAQAAAAAAAAAAAAAAAAAAAAAAAAAAAAAAAAAAAAABAAAAAQAAAAAAAgAAAAAAAAAAAAAAAAAAAAAAAAAAAAIAAAAAAgAAAAAAAAAAAAAAAAAAAAAAAAAHAAEBAAAAAAAAAQABAAAAAAAAAAAAAAAAAAAAAAIAAAAAAAEAAQABAgAAAAAAAAAAAAAAAAAAAAAAAAAAAAAAAAAAAAABAAAAAAAAAAAAAQAAAAAAAAEAAAAAAAAAAAABAAEAAAAAAAEAAAAAAAAAAAECAAAAAQAAAAEBAAAAAAAAAQAAAQAAAAAAAAAAAAAAAAAAAAAAAAAAAAAAAAACAAcAAAABAAAAAAAAAAAAAAACAAIAAAAAAAAAAAAAAAAAAAAAAAACAAAAAAABAgEAAAAAAAAAAAAAAAIAAAIAAAAAAQAAAAABAAABAgABAAAAAQAAAAAAAAAAAQAAAAAAAAAAAQAAAAIAAQEAAAAAAAAAAAAAAAAAAAEAAAAAAAAAAAAEAAAAAQAEAAAAAAABAQAAAAAAAAAAAAAAAQAAAQAAAAAAAAAAAQAAAAEAAAEAAAACAAAAAAAAAAAAAAIAAAEBAAAAAAEAAAAAAAAAAAAAAAAAAAAABwAAAAAAAAEAAAAAAAIAAAABAAAAAAACAAABAAAAAgEAAQAAAAAAAAAAAAAAAAECAAAABwIAAQAAAAAAAAAAAAAAAAICAAAAAAEAAQAAAAAAAAAAAQAAAAAAAAAAAAAAAAAAAAAAAQAAAAAAAAABAAAAAAAAAAAAAAAAAAAAAAEBAQAAAAEAAAAAAQIAAAAAAAAAAgAAAAAAAAABAAAAAAAAAAAAAAAAAAAAAAAAAAAAAAAAAAAAAAAAAAAAAAAAAAAAAAAAAAEAAAEAAAAAAgAAAAAAAAAAAAAAAAAAAAABAQAAAAAAAAAAAAAAAQAAAAAAAAAAAAAAAAAAAAAAAAAAAAAAAAAAAAABAAAAAAABAAAAAAEAAAAAAAAAAAAAAAAAAAAAAAAAAAAAAAAAAAAAAAAAAAAAAAAAAAAAAAEAAAAAAAAAAQAAAAAEAAAAAAEAAAAAAAAAAAACAAAAAAAAAAAAAgAAAAAAAwcAAAAAAAAAAAAAAAAAAAAAAAAAAQABAAAAAQAAAQAAAAAAAAAAAAAAAAAAAAAAAAABAAAAAAACAAEAAAAAAAAAAQAAAAAAAAACAAAAAgAAAAAHAQAAAAAAAAAAAAAAAAAAAAEAAAAAAAABAQEAAAIAAAAAAAAAAQEAAAAAAAEAAQEAAAABAAAAAAAAAAAAAAAAAAAAAAAAAAAAAgAAAAEAAAIAAAAAAAABAAAAAAEAAAAAAAEBAAAAAAAAAAAAAQAAAAEAAAAAAAEAAAAAAAACAAACAAIAAAAAAAAAAAAAAgABAAAAAAQAAAAAAAAAAgAAAAAAAgEAAgABAAABAAAAAAAAAAIAAAAAAAAAAQEAAQAAAAIBAAIAAwAABwEAAAAAAAAAAQAAAAAAAgAAAAAAAAAAAAIAAAAAAAIAAAAAAAAAAQIAAgAAAQAAAAAAAAAAAAAAAAAAAAAAAAAAAAAAAAAAAAAAAAAAAAAAAAEAAAAAAAAAAAAAAAEAAAEAAAEAAgAAAAAAAAIAAAAAAAIAAAAAAAAAAAAAAAAAAgAAAgEBAQAAAAAAAAAAAAEAAAAAAgAAAAAAAAAAAAAAAAAAAAAAAAAAAAAAAAAAAAAAAAAAAAAAAAAAAAACAAAAAAABAAABAAAAAAACAAEAAAAAAAAAAAAAAAAAAAAAAAAAAAAAAAAAAQAAAAAAAwAAAAABAAACAAAAAAAAAAAAAgACAAECAAAAAAABAQEAAAABAAAAAAAAAQAAAAAAAQEAAAAAAQAAAAAAAAAAAAAAAQAAAAABAAAAAQAAAAAAAAAAAAAAAAAAAAIAAAAAAAMBAAAAAAAAAAAAAAAAAAAAAAAAAAAAAAAAAAAAAAAAAAAAAgABAgABAAAAAAAAAgABAAAAAAEAAQAAAAIAAAAAAAABAAAAAAAAAAAAAAAAAAABAAAAAAAAAAAAAAABAAAAAAAAAAAAAAIAAAAAAAAAAAAAAAAAAAAAAAAAAAIAAAAAAAAAAAAAAAEAAAAAAAAAAAAABwACAAAAAAAAAAAAAAAAAAEAAAIAAAAAAAIAAAAAAAAAAAAAAAABAAAAAAAAAAAAAAIAAAAAAAAAAAAAAAAAAAABAAAHAgAAAAAAAAEAAAAAAAEAAQABAAAAAAAAAAABAAAAAAIAAAAAAAAAAAAAAAAAAQAAAAAAAAAAAAAAAAAAAAAAAAACAAAAAAAAAAEAAQAAAAABAAEAAAABAAAAAgAAAQAAAAABAAAAAAEAAAAAAAAAAAABAAAAAAAAAAAAAAAAAAAAAAAAAAAAAAAAAAAAAAAAAAAAAAAAAAAAAAAAAAAAAAAAAAAAAAAAAAAAAAAAAQAAAAAAAAAAAAAAAQAAAAAAAAEAAAAAAAAAAAAAAAAAAAEAAAEAAAAAAAAAAAAAAAAAAAAAAAAAAAAAAAAAAAAAAQAAAAABAAACAAAAAgEAAAAAAAABAgIAAAABAAABAAAAAAAAAAEAAAAAAAAAAAAAAAEAAAAAAAAAAAAAAAAAAAAAAQAAAAABAAAAAAAAAQEAAAAAAAAAAQAAAAAAAAAAAAAAAAAAAAAAAAEAAAAAAAAAAAAAAAAAAAAAAQEAAAAAAAAAAAAAAgAAAAABAQAAAAEAAAAAAQAAAgAAAAAHAAAAAAAAAAAAAAAAAAEBAAIAAAAAAAADAAAAAAAAAAEAAAAAAQAAAAAAAAAAAAAAAAcAAAAAAAAAAAAAAQABAAAAAAIAAQAAAQABAAAAAAAAAAAAAAAAAAABAAAAAAAAAgAAAAAAAAcAAAEAAAAHAgAAAgIAAAAAAAAAAAAAAQAAAAAHAAAAAgAAAAABAAABAQAAAAAAAAABAAAAAAAAAAAAAAAAAAAAAAAAAAAAAAAAAAAAAAADAQEAAAAAAAAAAAEAAAIAAAAAAAAAAAAAAAAAAAAAAAAAAAAAAAAAAAAAAAABAQEAAAAAAAIAAgAAAAAAAAEBAAAAAAEAAAAAAAEAAAAAAAAAAAAAAAAAAAAAAAAAAAAAAAAAAAAAAAAAAAEAAAAAAAAAAAAAAAAAAAABAAEAAAAAAAAAAAcAAAAAAAAAAAAAAQAAAQIAAAIAAAAAAAAAAAACAAAAAgAAAQAAAAAAAQAAAAAAAAAABwAAAAAAAAAAAAAAAQAAAAACAAcAAAAAAAABAQAAAAABAAAHAAAAAAAAAAAAAAAAAAAAAAAAAAAAAAAAAAAAAQABAAABAAABAAAAAAAAAAAAAQAAAAAAAQABAAAAAAAAAAAAAAAAAAEAAAEAAAAAAQAAAAAAAAAAAAACAAAAAAAAAAEAAAAAAAAAAAACAAEAAAAAAAAAAAAAAAIAAAAAAAAAAAEAAAAAAAAAAAAAAAAAAAABAQAAAAAAAgcAAAAAAAAAAAAAAAAAAAAAAAAAAAAAAAAAAAAAAgAAAAAAAAAAAgABAAAAAQABAAAAAAAAAAEAAAIAAAAAAAAAAAAAAAEAAAIAAAAAAAAAAAAAAAACAAAAAAAAAAAAAAAAAAAAAAAAAAAAAAAAAAAAAAAAAAAAAAAAAAABAAAAAQABAAAAAAAAAAAAAAAAAAAAAAAAAAEAAAAAAAAAAgABAAAAAAAAAAAAAAACAAAAAAAAAAAAAAAAAAIAAAAAAAAAAAAAAAAAAAAAAAAAAQAAAAAAAAEAAAAAAAAAAAAAAAABAAABAAAAAAAAAAEAAAAAAAAAAQAAAAEAAAAAAAAAAAAAAAAAAQAAAAAAAAAAAAAAAAAAAAAAAAAAAAAAAAAAAAAAAAAAAAAAAAAAAAAAAAAAAAAAAAACAAAAAQABAAAAAAAAAAAAAAEAAAAAAAIAAgAAAAAAAAAAAAAAAAAAAAAAAAACAQABAAAAAAAAAAACAAAAAAAAAAAAAAAAAAAAAAAAAAAAAAEAAAAAAAAAAAAAAQACAQAAAAAAAAAAAgAAAQABAAAAAgAAAAEAAAAAAAACAAAHAAAAAwAAAAIAAAAAAAAAAAAAAAEAAAIAAAAAAAAAAAAAAAAAAAAAAAAAAQAAAAAAAQAAAQAAAAAAAAAAAAAAAAAAAAEAAAAAAAAAAAAAAAAAAAAAAAAAAAAAAAAAAQAAAAAAAAABAQAAAAEHAAAAAAAAAAAAAAAAAAAAAAAAAAAAAAACAQIAAgIAAAAAAAAAAAAAAQAAAAAAAAAAAQAAAAEAAAAAAAECAAAAAQAAAAAAAAAAAAAAAAAAAAAAAAAAAAAAAAAAAAACAAAHAAABAgAAAAAAAAACAAABAAAAAAEAAAAAAAICAAAAAAcAAAEAAQAAAAAAAAEAAAAAAAACAAAAAAABAAAAAQAAAAAAAAEAAAAAAAAAAAAAAAAAAAAAAAAAAgAAAAAAAQAAAAAAAQcAAAAAAAEAAAAAAAAAAAAAAAABAAIBAAAAAAAAAgAAAAAAAAABAAAAAAAAAAAAAQAAAAAAAAAAAAAAAAEBAAAAAAAAAAEAAQAAAAAAAAAAAQAAAAAAAAAAAAAAAgAAAAAAAQAAAAAAAAAAAAAAAAEAAAACAAABAAEAAAABAAAAAAAAAgIHAQAAAQAAAAABAAAAAAAAAAAAAAAAAAAAAAAAAAAAAAAAAAAAAAAAAgAAAAAAAAAAAgAAAAAAAAAAAgAAAAECAAAAAgAAAAAAAAABAAAAAAAAAAABAgAAAgAAAAAAAAAAAAAAAAAAAAAAAAAAAAAAAAAAAAEHAAIAAAAAAAABAAAAAAACAAAAAAAAAAAAAAEAAAAAAQAAAgAAAAAHAAAAAAAAAAAAAAACAQABAAAAAAAAAAAAAAAAAAAAAAAAAAAAAAIBAAAAAAAAAAMBAAAAAAAAAAAAAQAAAAABAAAAAAACAAIAAAAAAgAAAAAAAAAAAAAAAAAAAAAAAAAAAQAAAAMAAQAAAQAAAAAAAAAAAAABAQAAAAAAAAAAAQAAAAAAAAAAAAIAAAAAAAABAAAAAAAAAAAAAAAAAAAAAgABAQAAAAAAAAAAAAAAAAIAAAEAAAAAAAAAAAAAAAIAAAAAAAAAAAAAAAAAAAAAAAAAAAAAAAAAAAAAAAAAAAAAAAAAAAABAAAAAAIAAAABAAAAAQAAAQAAAAAAAAAAAAAAAAAAAAAAAAABAAAAAAAAAAAAAAAAAAAAAAAAAAADAAAAAAAAAAABAAAAAAIAAAECAAEBAAAAAAAAAAAAAAAAAAIAAAAAAAAAAAAAAAAAAAAAAAAAAAAAAAIAAAAAAAAAAAAAAAcAAAEAAAAAAAAAAAAAAAAAAAAAAAAAAAAAAAAAAAAAAAAAAAAAAAAAAAIAAAAAAAEAAAAAAAMAAAAAAAAAAAAAAAAAAAAAAAAAAAAAAAAAAQAAAAABAAAAAAMAAAAAAAAAAAAAAAAAAQAAAAAAAgECAAAAAAAAAAAAAAAAAAAAAQAAAAEAAAAAAAABAAAAAAAAAAAAAAAAAAAAAAAAAQAAAAAAAAAAAAAAAAAAAQAAAAAAAAAAAQAAAAAAAgAAAAAAAAIBAAAAAAABAAAAAAAAAAAAAAAAAAAAAAAAAAAAAAAAAQAAAQAAAAAAAAAAAAAAAAAAAgAAAAAAAAAAAAcAAAAAAAIAAAMAAAEAAAAAAQAAAAABAAAAAAAAAAAAAQAAAAAAAAAAAAAAAAAAAAIAAAAAAAAAAAAAAAAAAAAAAAAAAQEAAAABAAEAAAAAAAACAAAAAAAAAAAAAAIAAgAAAAAAAAAAAAAAAQIAAAIABwAAAAAAAAAAAAAAAAEBAQAAAQABAAAAAAIAAAAAAQAAAAAAAAAAAAABAAMAAQEAAAAAAAAAAAAAAAAAAAAAAAAAAAAAAAEAAAEAAAAAAAAAAAAAAQAAAAEAAAAAAAIAAAAAAAAAAAAAAAAAAAAAAAIAAAAAAAEAAAAAAAABAAACAAAAAAAAAAAAAAAAAAAABwAAAAABAAEAAAABAAAAAAAAAAAAAQADAAABAAAAAQAAAAAAAAEAAAABAAAAAAAAAAAAAAAAAAEAAAAAAAABAQAAAAAAAAAAAAIAAAIAAAAABwAAAAEAAAAAAAAAAAEAAAAAAAAAAAEAAAAAAAAAAAAAAAAAAAEBAAABAAAAAQABAgABAAAAAAAAAAAAAAAAAAAAAAAAAAAAAgABAgEAAAIAAAAAAAcAAQAAAAAAAAAAAAAAAAAAAAAAAAAAAAAAAAAAAAAAAAAAAAABAAAAAAAAAAAAAAABAgAAAAAAAQAAAAAAAgAAAAAAAQAAAAAAAgAAAQAAAAAAAAAAAAAAAAAAAAABAAABAAAAAAAAAQAAAAAHAAcAAAIAAAAAAAAAAAAAAAAAAAAAAAACAQAAAAEAAAABBAIAAAIAAAEAAAAAAAEAAAEBBwABAAEAAAAAAAAAAAAAAAAAAAAAAAAAAQAAAAAAAAAAAAAAAAAAAAAAAAAAAAAAAAABAAAAAAAAAAAAAAEAAAAAAAAAAAAAAAAAAAAAAAICAAACAAAAAAAAAQAAAAAAAAAAAAAAAAAAAAABAAAAAAAAAgAAAQAAAAAAAAAAAAABAQAAAgAAAAAAAAAAAAAAAAAAAAAAAAAAAQEAAAAAAAAAAAAAAAAAAAAAAAAAAAAAAAAAAAAAAgAAAgECAAAAAAIBAgAAAAABAAAAAAAAAAAAAAAAAAAAAAAAAAAAAAAAAAAAAAEAAgAAAAAAAAAAAAAAAAAAAAAAAAAAAAAAAAAAAAAAAAAAAAAAAAIAAAABAQAAAAAAAAMAAAAAAAAAAAAAAAAAAAAAAAAAAAAAAAAAAAIAAAAAAAABAAAAAAAAAAECAgAAAAAABwIAAAAAAAAAAAEAAAAAAAAAAAAAAAcAAQAAAAAAAAAAAAAAAAACAAAAAAIAAAAAAAAAAAAAAAAAAAAAAAAAAAAAAAAAAAEAAAAAAAACAAAAAAAAAAAAAAAAAAAAAAAAAAAAAAAAAAAAAAABAAAAAAAAAAEAAAAAAQEAAAAAAAIAAgAAAAAAAAAAAAAAAAAAAAAAAAAAAAAAAAAAAAAAAAAAAAAAAAAAAAAAAAAAAAAAAAAAAAAAAAAAAAAAAAAAAAAAAAAAAAAAAQAAAAAAAAEAAAAAAQAAAAABAAAAAAAAAAAAAAAAAAAAAAEBAAAAAAAAAAAAAAAAAAAAAAAAAAAAAAAAAAAAAAAAAAAAAgAAAAAAAAAAAAAAAAABAAACAAAAAAAAAQAAAAAAAQAAAAAAAAAAAQAAAgAAAAAAAAEAAAAAAQEAAAAHAAAAAAAAAAAAAAACAAAAAAAAAAAAAAIAAQAAAAAAAAAAAQAAAgAAAQAAAAABAAAAAAAAAQAAAAABAAAAAAAAAAAAAAAAAAAAAQAAAAEAAAEAAAAAAAAAAAAAAAAAAAAAAAAAAAAAAAEAAAAAAAAAAAICAAAAAAAAAQEAAAABAAAAAAAAAAAAAgAAAAAAAAAAAAABAAAAAAAAAAAAAAACAAAAAgAAAAAAAAEAAAEAAAEAAAAAAAAAAAAAAAEAAAAAAAAAAQABAAAAAAAAAAAAAQAAAAAAAAABAAAAAAAAAAACAAAAAQAAAQAAAAAAAQEAAAAAAAAAAAEAAAAAAAAAAAABAQAAAAAAAQAAAAAAAAAAAAAAAAAAAAAAAAAAAAAAAAAAAAAAAAACAAAAAAAAAQAAAAAAAAAAAAAABwAAAAAAAAAAAAIAAAIAAAAAAAABAAAAAAAAAAAAAAAAAAAAAAAAAQABAAAAAQAAAAAAAAAAAAEAAAAAAAAAAAAAAAAAAAAHAAAAAAAAAAAAAAAAAAAAAgAAAAAAAgEAAAABAAAAAAAAAAAAAAAAAAIAAAEAAAIAAAAAAAAAAAAAAAAAAAAAAAEAAAAAAAEAAAAAAAAAAQAAAAAAAgAAAAAAAAAAAgAAAAAAAAAAAQADAAIAAAAAAAAAAAAAAQAAAQAAAAABAAAAAAAAAQAAAAECAAECAQAAAAAAAQAAAQAAAAABAAECAAAAAAAAAAAAAAEAAAAAAQAAAAAAAAAAAAACAAAAAAAAAAAAAAAAAAAAAgAAAAIAAAAAAAAAAAAAAAAAAAAAAAAAAAAAAAAAAAAAAAAAAAAAAAAAAAABAAAAAAAAAAAAAAAAAAAAAAAAAAABAAQAAAAAAAAAAAAAAAAAAAIAAQABAAAAAAABAAAAAAAAAAAAAAAAAAEBAAAAAAABAAAAAAAAAAAAAAAAAAAAAAAAAAAAAAABAAACAAAAAAAAAgIAAAAAAAAAAAAAAQAAAAAAAAAAAAAAAAAAAAAAAAAAAQABAAAAAAAAAAAAAAAAAAAAAAAAAAAAAAAAAAICAAAAAAAAAAAAAAEAAAAAAAIBAAAAAAAAAQAAAAAAAAAAAAAAAAAAAAACAAEAAQABAAAAAAAAAAAAAAAAAAEAAAEAAAAAAAAAAAEAAAAAAQAAAAAAAAAAAAAAAAAAAQcAAAAAAAAAAAAAAAAAAAAAAQEAAQAAAAAAAAAAAAAAAAAAAAAAAAAAAAAAAAAAAAAAAAAAAQAAAAABAAAAAAAAAAAAAAABAAAAAAAAAAAAAAAAAAAAAAAAAAAAAQAAAAAAAAAAAAAAAAAAAAAAAAAAAAAAAQAAAAAAAAAAAAAAAAAAAAAAAQAAAAACAAAAAQAAAAAAAAAAAAABAQAAAAAAAAAAAQABAAAAAgIAAQABAAAAAAAAAAAAAAAAAAAAAAAAAAAAAAAAAAACAAEAAAAAAAAAAQAAAAAAAAAAAAAAAAACAAAAAAAAAAAAAAAAAAEAAAAAAAAAAAAAAAIAAAAAAAAAAQAAAQAAAAAAAgAAAAABAAAAAAAAAQEAAAEAAAAAAAABAAAAAAcAAAAAAAIBAAAAAAAAAAAAAAAAAAAAAAABAAAAAAAAAQAAAQAAAAAAAAAAAAAAAAAAAAEAAAAAAAAAAAAAAAAAAAEAAQAAAAEBAAICAAAAAAAAAAAAAQAAAgAHAAAAAQAAAAAAAAAAAAAAAAAAAAACAAAAAAAAAQAAAAAAAAAAAQAAAAAAAgAAAAAAAAAAAAAAAAACAAIAAAAAAAAAAAAAAAAAAAAAAAAAAAABAAAAAAAAAAAAAAAAAAAAAAEAAAAAAQIAAAAAAAAAAAMAAQEAAAACAAAAAAAAAAAAAAAAAAAAAAAAAAAAAAIAAgAAAAABAAAAAAAAAAAAAAEAAAAAAAAAAAEAAAAAAAAAAAAAAAACAAAAAAAAAAAAAAAAAAAAAAEAAgAAAAAAAAAAAAABAAAAAAAAAAIAAAAAAAABAAABAAAAAAAAAAAAAAAAAAAAAAAAAAEAAAAAAAAAAAAAAAACAAACAAAAAAAAAAAAAAAAAAAAAAAAAQABAQAAAAAAAAAAAAAAAAAAAAcAAAAAAAAAAAAAAAAAAAIBAQACAAAAAAAAAAAAAAAAAAAAAQAAAAAAAgAAAAAAAAAAAAAAAAACAAAAAAAAAQAAAAAAAAAAAAAAAQAAAAAAAAABAAAAAAAAAAAAAAEBAAAAAAABAAAAAQAAAAABAAAAAAAAAAAAAAABAAABAAAAAAAAAAAAAAABAAACAAAAAQAAAAAAAAAAAAAAAAAAAAAAAQAAAAEAAAAAAAIAAAAAAAAAAAAAAAAAAAAAAQAAAAAAAAAAAAAAAAAAAgAAAAAAAAEAAQAAAAABAAAAAAAAAAAAAAAAAAAAAQAAAAIAAAEAAAAAAAAAAAAAAAAAAAAAAAEAAAIAAQACAAAAAAACAAAAAAAAAAAAAAAAAAAAAAAAAAACAAABAAAAAAEAAAAAAAAAAQAAAQAAAAAAAAAAAQABBwAAAAAAAAAAAAAAAAEAAAEBAAAAAAAAAAAAAAABAAAAAAAAAAAAAAAAAAAAAAAAAAAAAQAAAQEAAAAAAAIAAAcAAQcBAAAAAAAAAAABAAAAAQAAAAAAAAABAAAAAAEAAAAAAgAAAAABAQAAAAAAAAACAAACAAAAAgAAAAAAAQAAAAAAAAAAAAAAAAEAAAAAAAAAAAAAAAcAAAcAAQIAAAAAAQAAAAAAAAAAAAAAAAABAAAAAAAAAAACAAAAAAAAAAAHAAAAAAAAAAEBAQAAAAMCAAAAAAAAAAAAAAAAAAAAAAAAAAEAAAAAAAAAAgAAAAAAAAAAAAAAAAAAAAAAAAAAAAAAAAAAAAAAAAAAAAAAAQAHAAAAAAAAAQEAAAAAAAACAAAAAAAAAAAAAAAAAAAAAAAAAAcAAAEAAgAAAAAAAAEAAAIAAAIAAAAAAAAAAAAAAAAAAAAAAQAAAAAAAAAAAAAAAAAAAAAAAAAABwABAAABAAAAAAAAAAAAAAAAAAAAAAAAAAAAAAEAAAAAAAACAAAAAAEAAAAAAAAAAAEAAAAAAAEAAAAAAAAAAAAAAAAAAAAAAAAAAAAAAAAAAAAAAAEAAAAAAAAAAAEAAAAAAAEAAAAAAAAAAAAAAAAAAQEAAAAABAAAAAAAAAAAAAAAAAAAAAAAAAAAAgAAAAAAAAAAAAAAAAAAAAAAAAACAAAAAAAAAAIAAAAAAAEAAAACAAAAAAEAAAAAAAAAAAEAAAAAAAEAAAAAAAAAAAAAAQAAAAAACAACAAAAAAEAAQAAAAECAAAAAAEAAAAAAAABAAAAAAAAAAAAAAAAAQAAAAAAAAEAAAAAAAABAAAAAAEAAAAAAAAAAAABAAAAAAAAAQAAAAABAAAAAAAAAAEAAAAAAAAAAAcAAAAAAgAAAAACAAAAAAEAAAAAAAAAAAAAAAAAAAABAAAAAAAAAAAAAAAAAAAAAAAAAAAAAAIAAAEAAAAAAAIAAAAAAQABAAABAAAAAAAAAAIAAAEBAQAAAAABAAAAAAAAAAAAAAAAAAAAAAAAAAEAAAAAAAAAAgAAAAAAAAAAAAIAAAAAAAAAAAAAAAABAAACAAAAAAAAAQAAAAAAAAAAAAAAAAAAAAAAAAAAAAAAAAAAAAABAAEAAQAAAQAAAAAAAAAAAAAAAAAAAAABAAAAAAAAAQABAAAAAAAAAAAAAAAAAAAAAAAAAAAAAAAAAAABAAAAAAEAAAAAAAAAAAAAAAEAAAAAAAAAAAAAAAAAAAAAAAAAAAAAAAAAAAAAAAAAAAAAAAAAAAAAAAAAAAAAAAAAAgABAAAAAQAAAAAAAAAAAQAAAAAAAAADAAQAAAAAAAAAAAAAAAAAAAAAAAIAAgAAAQAAAAEAAAAAAAAAAgAAAAAAAAABAQAAAAAAAQAAAAABAAAAAAAAAQAAAAAAAAAAAAAAAAAAAAAAAAAAAAAAAAAAAAAAAAAAAAAAAAAAAQAAAAABAAEABwABAAAAAQAAAAEAAAAAAAAAAAAAAQAAAAAAAAAAAAAAAAAAAAEAAAAAAAAAAAAAAAAAAQAAAAAAAAAAAAAAAAAAAAAAAAABAAABAAAAAAAAAAABAAEDAAEAAAAAAAIAAAAAAAAAAAAAAAAAAAABAAAAAAAAAAABAAAAAAAABwAAAAAAAAAAAQAAAAAAAAAAAAAAAAAAAAAAAgAAAAAAAAAAAAAAAAAAAAABAAAAAAACAAAAAAAAAAIAAAAAAQEAAAEAAAAAAAAAAAAAAAEAAAAAAAABAQEBAAAAAAAAAAAAAAEAAAAAAAAAAAAAAAAAAQAAAAAAAAAAAAAAAAEAAAAAAAAAAAIAAQEAAAAAAAIAAAAAAQAAAAAAAAAAAQAAAAAAAAAAAAAAAAAAAAAAAAAAAAAAAAAAAAAAAAAAAAAAAAAAAAAAAAAAAAAAAAAAAAAAAAAAAAAAAAABAAAAAQAAAQAAAAABAAAAAAAAAAAAAAAAAAAAAAcAAAAAAAABAAAAAAAAAAAAAAAAAQAAAAABAAAAAAAAAAAAAAAAAAIAAAABAAAAAAAAAAAAAAAAAAAAAAAAAgAAAAAAAAEAAAAAAgAAAAAAAAAAAAAAAAAAAAAAAAAAAAABAAAAAAABAAAAAAEAAAIAAAABAgAAAAAAAAAAAgAAAAABAAAAAAAAAAAAAAAAAAAAAAAAAAAAAAAAAAAAAAAHAgIAAAAAAAAAAAEAAAAAAAAAAQABAAAAAAAAAAAAAAAAAAAAAAAAAAACAAAAAAEAAAAAAAAAAAABAAAAAAAAAAAAAAIAAAAAAAAAAAAAAAAAAAcAAAAAAAACAAAAAAAAAAAAAAAAAAAHAAEAAAAAAAAAAAABAgAAAAAAAAAAAgAAAAAAAAAAAAAAAQACAQAAAQcBAAAAAQAAAgAAAAAAAAAAAAAAAQEBAQAAAQEAAAAAAAAAAAAAAAAAAAAAAgAAAAABAAAAAAAAAAAAAAAAAAAAAAAAAAAAAQAAAAAAAAABAAAAAgABAAAAAAACAQABAAAAAAAAAAABAAIAAAAAAAAAAAAAAAAAAAAAAAABAAAAAAEAAAAAAAABAgAAAQIBAAAAAAAAAAAAAAEAAAAAAAAAAAAAAAACAAAAAAEAAAAAAAAAAAAAAAACAAAAAAAAAAAAAAAAAAAAAAACAAAAAAAAAAAAAAAAAAAAAAAAAAEAAAAAAAAAAAAAAAAAAAAAAAAAAAAAAAAAAAEAAAAAAAAAAAAAAAAAAAABAAAAAQAAAAAAAAABAAEAAAAAAAAAAAAAAgABAAABAQAAAQEBAAABAAAAAAEAAAABAAAHAAAAAAAAAAAAAAAHAAAAAAAAAAAAAAAAAAAAAAAAAAABAAEBAAABAAEAAAAAAwAAAAcAAAABAAAAAAAAAAAAAAAAAAAAAAAAAAAAAAAAAAAAAAEAAAAAAgAAAAAAAAEAAAAAAAEAAAAAAAACAAAAAAAAAAAAAAAHAAAAAAAAAAAAAAAAAAAAAAAAAAAAAAABAAAAAAAAAAABAAAAAAAAAAEAAAIAAAAAAAAAAQAAAAAAAAAAAAAAAAAAAQAAAAAAAgAAAAAAAAEAAAAAAAAAAAAAAAAAAAEAAAAAAQAAAQAAAAAAAAEAAAABAAAAAAAAAAAAAAAAAAAAAAEAAAAAAQAAAAAAAAABAAIAAAEAAAAAAAIAAAAAAAAAAAACAAABAAAHAAAAAAAAAAAAAAAAAAIBAAAAAAAAAAEAAAAAAAAAAQAAAAABAAAAAAAAAAAAAAAAAAAAAAAAAAEAAAAAAAAAAAAAAAAAAAAAAAAAAAABAAMAAAAAAAAAAAAAAAEAAAAAAAAAAAAAAQAAAAAAAQAAAAAAAAAAAAAAAAAAAAAAAAAAAAAAAAAAAAAAAAAAAAAAAAAAAAAAAAEBAAAAAAAAAAEAAAEAAAAAAAAAAAAAAAAAAQAAAAAAAAICAAAAAQAAAAAAAAAAAQAAAAAAAAAAAAAAAAAAAAEAAAAAAAABAAAAAAAAAAAAAAIAAQEAAAABAQABAAAEAAAAAAAAAgABAAABAAEAAAEAAAAAAQAAAAAAAAAAAAAAAAAAAAAAAAAAAAEBAAAAAAAABwAAAAEAAAAAAAAAAAAAAAAAAAAAAAAAAAAAAAAAAAAAAAAAAAAAAAAAAAEAAAAAAAAAAAAAAAAAAAAAAQAAAAAAAgAAAAAAAAAAAQAAAAAAAAAAAAABAQAAAAAAAAAAAAAAAAAAAAAAAAABAgAAAAAAAAABAAAAAgAAAAAAAAAAAAEBAgABAAAAAAAAAAAAAAIBAAAAAAABAAACAAABAAAAAQAAAAAAAAIAAAAAAAAAAAAAAAAAAAAAAAAAAQAAAAEAAAAHAAAAAAAAAAAHAQAAAQACAAAAAQAAAAAAAAAAAAEAAAAAAAAAAAAAAAAAAAAAAAABAgABAAAAAAAAAAAAAAAAAQAAAAAAAAAAAAAAAQAAAAEAAAAAAAABAQAAAAAAAAAAAAAAAAAAAAAAAAAAAAAAAAAAAAEAAAAAAAABAAAAAAAAAAAAAAAAAAAAAAAAAAAAAAAAAAAAAAAAAAAAAQAAAAAAAAAAAAACAAAAAAIAAAAAAAAAAQAAAgAAAAAAAAEAAAEAAAAAAAEAAgAAAAAAAQAAAAEAAAAAAAAAAAAAAAAAAAABAAAAAAACAAAAAAAAAAAAAAAAAAAAAAAAAAAAAgEAAgAAAgAAAAAAAAAAAAEAAAAAAQAAAAAAAAAAAAAAAAAAAAABAAAAAAEAAAABAAAAAAAAAAAAAAAAAgAAAQAAAAACAAEAAAACAQEAAQAAAQAAAQEAAAABAAAAAAAAAAEAAAAAAAcAAAAAAAcAAAAAAAAAAAAAAAABAAACAAAAAAABAAAAAAEAAAAAAAAAAAAAAAEAAAAAAQAAAAAAAAAAAAAAAAAAAAAAAAAAAAAAAAACAAEAAQAAAQAAAAcAAAAAAAAAAAAAAAAAAAEAAAAAAAAAAAAAAAABAAABAAAAAAAAAAABAAABAAAAAAAAAAAAAQAAAAAAAAAAAAAAAAAAAAAAAAAAAAAAAAAAAAAAAAABAAAAAAAAAAAAAAIAAAAAAAABAAAAAAAAAAAAAAAAAAAAAQAAAAAAAAEAAAAAAAAAAAAAAAAAAAAAAAAAAAAAAAAAAAAAAAAAAAACAAIAAAAAAAAAAAAAAAAAAAAAAAAAAAAAAAABAgAAAAAAAAAAAAAAAAAAAAAAAAAAAAAAAAAAAAAAAAABAAAHAAABAAAAAAAAAAAAAAAAAAACAAAAAAADAAACAAAAAAAAAAAAAAEAAAAAAAAAAAAAAAAAAAAAAAAAAAAAAAABAAIAAAABAAAAAQAAAQAAAAIAAAAAAAIAAAAAAAAAAAIBAAEAAAIAAAAAAAAAAAAAAQAAAgAAAAABAwEAAAAAAAEAAAABAAAAAAAAAAAAAQAAAAABAAAAAAAAAAAAAAAAAAAAAAAAAAAAAAACAQAAAAAAAAAAAAAAAAAAAAABAAAAAAAAAAABAAAAAAAAAAAAAAABAAAAAAAAAAAAAAAAAAAAAAAAAAAAAAAAAAAAAAAAAgAAAAAAAAAAAQAAAAAAAAAAAAAAAAAAAAAAAAAAAAAAAAAAAAAAAAACAAAAAgAAAAEAAAAAAAAAAAAAAAEAAAAAAgIAAAABAAAAAAAAAAAAAAIAAAACAAAAAAIAAAAAAQAAAQEAAAEBAgAAAAAAAAAAAAIAAAAAAAAAAAAAAAIAAAAAAAAAAAAAAAEAAAAAAAAAAAAAAAAAAAAAAAAAAAAAAQAAAAAAAAAAAAAHAAAAAAAAAAAAAAEAAAAAAAECAAAAAAAAAgAAAAAAAQAAAAAAAAAAAAAAAAAAAAACAAcAAAAAAAAAAQIAAAAAAQAAAAIAAAABAAAAAAAAAAAAAAAAAAAAAAAAAAAAAQAAAQAAAAAAAAAAAAABAAAAAAAAAAEAAAABAAAAAQAAAQACAAEAAAABAgAAAAAAAAAAAAAAAAAAAgAAAAAAAQABAAAAAQAAAAEAAgAAAAAAAAAAAQAAAAAAAAEAAQAAAAABAAAAAAAAAAAAAQAAAAACAQAAAAAAAAAAAAAAAQAAAAAAAAAABwAAAAAAAAAAAAACBwAAAAAAAAAAAAAAAAAAAAABAAAAAAAAAAAAAQAAAAAAAAEAAAAAAAAAAAAAAAAAAAAAAAAAAAAAAAAAAAAAAAACAAIAAAAAAAAAAAAAAAAAAAAAAAABAAAAAQAAAAAAAAAAAAAAAAAAAAAAAAAAAAAAAAAAAAAAAAEAAAAAAAAAAAAAAAAAAAABAAAAAAAAAAAAAAEAAAAAAQEAAgAAAAAAAAEHAAAAAAAAAAAAAAAAAAAAAAAAAAAAAAIAAAAAAAAAAAAAAAAAAAAAAAIAAAAAAAAAAAAAAAEAAAIAAQEAAAAAAAACAAAAAAAAAAAAAAAAAQADAAIBAAAAAAAAAAAAAAAAAAAAAAAAAAAAAAAAAAAAAAAAAAAAAAABAAAAAAAAAAAAAAAAAAAHAAAAAAAAAAAAAAAAAgAAAAAAAAAAAgAAAQAAAAAAAAAAAAAAAAAAAAAAAAAAAAAAAAAAAAACAAEBAQAAAAAABwABAAAAAAAAAQABAAIAAAAAAAAAAgAAAAAAAAABAAAAAAAAAQAAAAAAAAAAAAABAAAAAAAAAAAAAAAAAQAAAQAAAAACAAAAAAAAAgEAAAABAAAAAgAAAAAAAQAAAAAAAAABAAAAAAEAAAAAAAEAAAIAAAAAAAAAAAAAAAAAAAAAAAAAAAAAAAAAAAAAAAAAAAAAAAEAAAAAAAAAAAAAAAAAAAABAAAAAAAAAgAAAAAAAAAAAAAAAAAAAAAAAwAAAAAAAAAAAAAAAAAHAAAAAAAAAAAAAAAAAAACAAAAAAAAAQAAAAAAAAAAAAAAAAEAAAcAAAIAAAAAAAAAAAAAAAACAAEAAAAAAAAAAQAAAAAAAAEAAAEAAAAAAQAAAAAAAAAAAAAAAAAAAAAAAAEAAAAAAAEABwEAAAAAAQcAAAAAAQMAAAIAAAAAAAAAAAAAAAAAAAEAAgAAAAAAAQAAAAACAQIAAAAAAAAAAQAAAAAAAAAAAAAAAgABAAcCAAACAQIAAAEAAAAAAAAAAQAAAAAAAAAAAAAAAAAAAAAAAQAAAAACAAEAAQAAAAAAAAAAAAABAAIBAAAAAAABAAAAAAAAAAAAAAEAAAAAAAAAAAIBAAEAAAAAAAAAAAAAAAAAAQAAAAAAAAAAAAAAAAAAAAABAAABAQAAAAAAAQAAAAAAAAAAAAAAAAEAAAAAAAAAAAAAAAEBAAIAAAEBAAAAAAAAAAAAAAABAAAAAAABAAAAAAAAAAAAAAABAAAAAAAAAAAABAAAAAAAAAAAAAACAAIAAAAAAAAAAAAAAAABAwAAAAEAAAAAAAABAAACAAAAAAABAAABAAAAAAABAAAAAAAAAAEAAQAAAAAAAAAAAAABBwAAAQEAAAEBAAAAAAAAAAEAAAAAAAAAAAAAAAABAAAAAQEAAAAAAAAAAAAAAAAAAAAAAAEAAAAAAAABAAAAAAAAAAAAAAAAAgAAAAAAAgAAAAAAAAAAAAAAAAAAAAAAAAEAAAABAAAAAAAAAAAAAAAAAQEAAAABAAAAAAAAAAAAAAAAAAIAAAAAAAIAAAAAAAAAAAAAAAAAAQEAAAEAAAEAAAABAQAAAAAAAAAAAAAAAAAAAAAAAAAAAAAAAAAAAAAAAAEAAAAAAAAAAAAAAQIAAAAAAAAAAAAAAAAAAAADAAAAAAEAAAAAAAEAAAAAAAACAAEAAAABAAAAAAcAAAAAAAAAAAAAAAAAAAAAAAAAAAEAAAEDAAAAAAAAAAIAAAAAAAAAAAAAAAAAAAAAAAEAAAAAAAAAAAAAAAAAAAAAAQABAAAAAAAAAAAAAAAAAAABAAAAAAAAAQUAAAAAAQAAAAAAAAAAAAAAAAEAAQAAAQAAAAAAAAABAAAAAAAAAAAAAAAAAAACAAAAAAAAAgAAAAAAAAEAAAAAAAAHAAAAAAAAAAAAAAACAAICAAECAAAAAAAAAAAAAAABAAAAAAAAAAAAAAAAAAAAAAAAAAABAAEBAAAAAAAAAAMAAAAAAAABAAAAAAAAAAAAAAAAAAABAAAAAAAAAAEAAQAAAAABAAAAAAAAAAEAAAAAAAAAAAAAAAAAAAAAAAAAAAEAAQAAAQIAAAEAAQEAAAAAAAQAAAAAAAAAAAMAAAAAAAABAQAAAAAAAAAAAAAAAAAAAAEAAQAAAAAAAAAAAAAAAAAAAAAAAQAAAAAAAAABAAAAAAAAAAAAAAAAAAAAAAEAAAAAAAAAAAEAAAAHAAAAAAAAAAAAAAAAAAAAAAEAAAAAAAAAAAAAAAAAAAAAAgAAAAAAAAEAAQAAAAAAAAAAAQAAAAAAAAAAAAAAAQIAAAAAAAAAAAAAAAAAAAAAAAEAAAAAAAAAAAAAAAABAAAAAAAAAgAAAAAAAAAAAAAAAQAAAAAAAAAAAAAAAAAAAAAAAAAAAAABAAAAAAAAAQAAAAAAAAAAAAEAAAEAAAAAAAAAAAAAAAAAAAAAAAEAAgAAAAAAAAAAAAAAAQAAAAAAAAAAAAAAAAAAAAAAAAAAAAAAAAAAAAAAAAIAAAAAAAAAAgAAAQAAAAAAAAEAAAAAAAEAAAAAAQAAAAAAAQAAAAAAAAAAAAAAAAEAAAEBAAAAAAAAAAAAAAAAAAAAAAAAAAAAAgAAAAAAAQAAAAAAAAAAAAAAAQIBAAAAAAAAAAAAAQAAAAAAAgAAAAABAAABAQEBAAAAAAAAAAAAAAAAAAABAAAAAAEAAAAAAAAAAAAAAAAAAAAAAAAAAAAAAAAAAgIAAAAAAAAAAQEBAAAAAAAAAAAAAAAAAAAAAAAAAAAAAAABAAAAAQAAAAAAAAAAAAAAAAEAAAEAAAAAAAAAAAAAAAICAAAAAAAAAAAAAAAAAAAAAQAAAAAAAAAAAAIAAgAAAAIAAAAAAAAAAAAAAAAAAAAAAAAAAAAAAAAAAAAAAAAAAAAAAAAAAgAAAAIAAAAAAAAAAAAAAAAAAQAAAAABAAAAAAEAAAAAAAAAAAEAAAAAAAAAAAAAAAAAAAAAAAAAAAIBAAAAAgECAAAAAAACAAAAAAAAAAIAAAAAAQAAAAAAAAAAAAAAAAAAAAAAAAAAAgAAAAAAAAAAAAAAAAAAAAAAAAAAAgAAAAAAAAABAAAAAAAAAAAAAAAAAAAAAAAAAAAAAAEAAAIAAQAHAAAAAAAAAAAAAAAAAAAAAAEAAAAAAAAAAAAAAAAAAAAAAAAAAAAAAAAAAAAAAAAAAAABAAAAAAAAAAABAAAAAAACAAAAAAAAAAAAAQAAAQAAAAAAAAAAAAAAAAAAAAAAAAEBAAAAAAAAAAAAAAIAAQAAAAAAAAIAAAAAAAAAAAAAAAAAAQAAAQAAAQABAAAAAAACAAAAAQAAAAAAAAEAAAEAAAIAAAAAAAEAAAAAAAABAAEAAAAAAAAAAAAAAAAAAAAAAAEAAAAAAAAAAAAAAAAAAAAAAAACAAIAAAACAAAAAAAAAAEAAAAAAAAAAAAAAAAAAAAAAAAAAAAAAAABAAAAAAAAAAAAAQAAAAAAAAAAAAAAAQAAAAABAAAAAAAAAAAAAAAAAQAAAQAAAAAAAAAAAAECAAAAAAEAAAEAAAAAAAAAAAAAAAAAAAAAAAAAAAAAAgAAAAAAAAAAAAAAAAAAAAAAAAACAAACAAAAAAAAAAAAAAAAAAAAAAAAAAAAAAAAAQAAAAAAAAAAAAABAAAAAAAAAAAAAAAAAAAAAAAAAAAABwAAAAAAAAEAAAAAAAAAAAAAAgABAAAAAAAAAAAAAwAAAAAAAAAAAAAAAAEAAQAAAAAAAQAAAAIAAAAAAAACAAAAAAAAAAAAAAEAAAEAAAAAAAAAAAAAAAAAAAAAAAAAAAAAAAAAAAAAAAABAAAAAAAAAQAAAAAAAAAAAAAAAAAAAAEAAAEAAAAAAAAAAQEAAAAAAAAAAAAAAgAAAAAAAAAAAAAAAAAAAAAAAAAAAAAAAAEAAAABAAAAAAAAAAEAAAAAAAAAAQAAAAEAAAAAAAABAAEAAAIBAAAAAAAAAAAAAAAAAAIAAAAAAAAAAAAAAQABAAAAAAAAAAIAAAIAAAEAAAEAAAAAAAAAAAAAAAAAAQAAAAAAAAEAAAAAAAAAAAACAAAAAAAAAAAAAAAAAAAAAAAAAAAAAAACAAAAAQAAAgEAAAAAAAAAAgAAAAIAAAAAAAcAAAAAAQEAAAAAAAAAAAAHAAEAAgACAAEAAgAAAAAAAAAAAAAAAAAAAAABAAAAAAAAAAAAAAAAAAAAAAIAAAAAAAIAAAAAAAIAAAAAAQAAAAEAAAACAAAAAQABAAAAAAAAAAAAAAEAAAIAAQAAAAAAAAEBAQIAAAAAAAAAAAAAAAAAAAAAAAAAAAAAAQAAAAAAAAAAAAAAAAAAAAAAAAAAAAAAAAAAAAAAAgABAAAAAAAAAAAAAAAAAAAAAAAAAAABAAAAAAAAAQAAAAAAAAAAAAAAAAAAAAAAAAAAAAAAAAAAAAAAAAAAAAAAAAAAAAAAAAAAAAAAAAEAAAAAAAAAAAABAAAAAAABAAAAAAAAAAAAAQAAAAABAAEBAAAAAAACAQAAAAEAAAAAAAAAAAIAAAAAAAAAAAAAAAACAAAAAAAAAAAAAAAAAAAAAAAAAAAAAAEAAQAAAAAAAQACAAAAAAAAAAAAAAAAAAEAAQAAAAAAAAIAAAAAAAAAAAAAAAAAAAAAAAAAAAAAAAEAAQAAAQAAAAAAAAABAAAAAAAAAAAAAAIAAAAAAAAAAAAAAAAAAAAAAAAAAAABAAAAAAAAAAAAAAABAAAAAAABAAIAAQAAAAAAAAAAAAAAAAAAAAAAAAAAAAAAAAEBAAACAAIAAAAAAAAAAAAAAAUAAAAAAAAAAAAAAAAAAAAAAAAAAAAAAAACAAAAAAAAAAAAAAAAAAAAAAAAAAAAAAAAAAAAAAAAAAAAAAEAAQAAAAEAAAAAAQABAAAAAAIAAAAABwAAAAABAAAAAAAAAgAAAQAAAAIAAAAAAAABAAAAAAEAAAAAAAAAAAACAAAAAAAAAAIBAAAAAAAAAAACAAEBAAECAAAAAAEAAAAAAAAAAAAAAAAAAAAAAAAAAAIAAAAAAAAAAAEBAQAAAAAAAAABAAAAAAIAAAAAAAAAAQAAAAAAAAAAAAAAAAAAAAAAAAAAAAAAAQAAAAAAAAAAAAAAAAAAAQAAAAEBAAAAAAAAAAABAQAAAAAAAAAAAAAAAAAAAAIAAAAAAAAAAQAAAAAAAAEAAAAAAAcAAAAAAAAAAAAAAAAAAAAAAgAAAAABAAEBAAAAAAAAAgAAAAAAAAAAAAAAAQAAAAAAAAABAAEAAAAAAAAAAAAAAAAAAAAAAAAAAAAAAAAAAAAAAAAAAAAAAQAAAAAAAAABAAAAAAABAAAAAgAAAQAAAAAAAAEAAAAAAAAAAAAAAAACAAAAAAAAAQABAAAHAAABAAABAAAAAAAAAAAAAAAAAAAAAAAAAAEAAAAAAAAAAAAAAgAAAAABAAECAAAAAQAAAAAAAAAAAAAAAAAAAAAAAAcAAAEAAAABAAAAAAAAAAAAAAEAAAAAAAABAAAAAAAAAAAAAQAAAAAAAAAAAAACAAABAAEAAQAAAAABAAAAAAEAAAACAAAAAAAAAAEBAAAAAAECAAABAAAAAAAAAAAAAAAAAAAAAAAAAAAAAAAAAAIAAAAAAAAAAAAAAAAAAAAAAAABAAAAAAAAAAAAAAAAAAAAAAAAAQAAAAEBAAACAAAAAAABAAIAAQAAAAEAAAAAAwAAAQAAAAAAAAAAAAAAAAACAAAAAAABAAAAAQAAAAAAAAAAAAAAAAAAAAAAAQAAAAAAAAAAAAAAAgAAAAAAAAAAAAAAAAABAAAAAAAAAAEAAAACAAAAAAAAAAMAAAAAAAAAAAAAAAEAAAAAAAcAAAAAAAAAAAAAAAAAAgAAAAAAAAAAAAEHAAAAAAABAAAAAAAAAQAAAAAAAAAAAAAAAAAAAAAAAQAAAAAAAQACAAABAAAAAAAAAAAAAAAAAAAAAAAAAAABAAAAAAAAAAAAAAABAAAAAAAAAAAAAAAAAAAAAAAAAQAAAAAAAAAAAAAAAAEAAAECAAEBAAEAAAAAAQABAAAAAAAAAAAAAQABAAAAAQAAAAAAAAABAAAAAAAAAAUAAAAAAAAABwAAAAECAAAAAAAAAAAAAAAAAAAAAQAAAAAAAAACAAAAAAAAAAAAAAAAAAAAAAAAAQAAAAAAAAAAAAAAAAAAAAAAAAAAAAAAAgAAAAEAAAAAAAAAAAAAAAAHAQAAAAAAAAEBAAAAAAAAAAAHAAAAAAAAAAAAAAAAAAAAAAAAAAAAAAEAAAAAAAAAAAAAAAACAAAAAQAAAAAAAAAAAAAAAAAAAQAAAAAAAAABAAAAAAAAAAcAAAAAAAACAAcAAAAAAAABBwAABwACAAEAAAAAAAAAAAAAAAAAAAAAAAAAAAEAAAAAAAAAAAEAAAAAAAACAAAAAAAAAAAAAQABAAAAAAAAAAAAAAAAAAAAAAAAAAAAAAAAAAAAAAABAQcAAAAAAAAAAAAAAQAAAAAAAAAAAAEAAAAHAAAAAAIAAAABAAAAAAAAAAAAAAAAAAAAAAEAAAAAAAAAAAABAAAAAAAAAgAAAAAAAAAAAAABAAAABwAAAAAAAAAAAAAAAAAAAAEAAgACAAAAAAAAAAAAAAAAAAAAAAAAAAAAAAAAAAAAAAEAAAAAAAAAAAAAAAAAAAAAAAABAAAAAAAAAAEAAAAAAAAAAgAAAAAAAAAAAgEAAAEAAAAAAAAAAAEAAAAAAAAAAAAAAAAAAAEBAAAHAAAAAAAAAAAAAAAAAAAAAAAAAAAAAAAAAAAAAAAAAAAAAAAAAgAAAQAAAAAAAQACAAAAAAAAAAAAAAAAAAAHAAAAAAAAAAAAAAAAAAcAAAABAAACAgAAAQAAAAAAAAAAAAACAAAAAQABAAAAAAEBAAEBAAAAAAAAAAAAAAAAAAAAAAAAAAAAAAABAAAAAAAAAAAAAAAAAAAAAAEAAAAAAAAAAAEAAAAAAAAAAAAAAAAAAAACAAAAAAAAAAAAAAECAAAAAAAAAgEAAAAAAAAAAAAAAAAAAAAAAAAAAAAAAAAAAAAAAAAAAAAAAAAAAAEAAAABAAABAQAAAAAAAAAAAAAAAQAAAAAAAAAAAAEAAAAAAQAAAAAAAAAAAAAAAAEAAAIAAgAAAAAAAAAAAAAAAAAAAAAAAAABAAAAAgAAAAEAAAAAAAABAAAAAAAAAAAAAAAAAAAAAAAAAAAABwAAAAAAAAABAAAAAAEAAAAAAAAAAAAAAAIBAAAAAAAAAAEHAAAAAAACAAAAAAAAAAAAAAAABwAAAAAAAAEAAAAAAAAAAAACAAAAAAAAAAABAAIAAAAAAgAAAAABAAAAAAACAAIAAAAAAAACAAAAAAEAAAAAAAEAAAACAAAAAAEAAAEAAAAHAAAAAAAAAAAAAAAAAQEAAQAAAAAAAAEAAAAAAQABAAAAAAIAAAAAAAAAAAEBAAECAAAAAAIAAAEAAAAAAgEAAAAAAAAAAAABAAAAAAAAAAAAAAAAAgAAAQAAAAAAAAAAAAAAAAAAAAEAAAAAAQAAAAABAAABAAACAAAAAAAAAAAAAAEAAAAAAAAAAAAAAAAAAAEAAAAAAAAAAAABAAAAAAAAAAAAAgEAAAAAAAAAAAAAAAAAAAAAAAAAAAAAAAAAAAABAAAAAAACAAAAAAABAAABAAAAAAAAAAAAAAAAAAAAAAAAAAAAAAAAAAABAAAAAQEAAAAAAQAAAAAAAAAAAAAAAAABAAAAAgAAAAAAAAAAAAEAAgAAAAAAAAAAAAAAAAAAAAAAAAAAAAAAAAAAAAAAAAAAAAAAAAAAAAAAAAAAAAIAAAAAAAACBAAAAAAAAQAAAAEAAAAAAAAAAAEAAAEAAAAAAAAAAAAAAAAAAAEAAAAAAAAAAAAAAAEAAQACAAAAAAAAAQAAAQEBAAAAAAEAAAAHAAABAAAAAAAAAQABAAAABwAAAAABAAAAAAAAAAAAAAAAAwAAAAEAAAAAAAAAAQABAQAAAAAAAQECAAAAAAACAAAAAAAAAAICAQAAAAAAAAAAAQcAAAEAAAAAAAAAAAAAAAAAAAEAAAEAAAEAAAEAAAAAAQEBAAAAAAAAAAAAAQAAAgAAAAAAAAAAAQAAAAIAAAAAAAAAAAAAAAIAAAABAAAAAAABAAABAAAAAAAAAAAAAAEAAAAAAAAAAQAAAAAAAAAAAAAAAAAAAAAAAQAAAAAAAAABAAAAAAAABwAABwAAAAAAAQAAAAEAAAAAAQAAAAAAAAAAAAAAAAAAAQAAAAAAAQAAAAIAAAAAAAcAAAAAAAAAAAAAAAEAAAAAAAABAAAAAAAAAAAAAAAAAAAAAAEAAgAAAAAAAAAAAAAAAAAAAAAAAAAAAAAAAAAAAAAAAAAAAAAAAAAAAAIAAAAAAAAAAAAAAQAAAAAAAAAAAAABAAAAAQAAAAAAAAAAAAAAAAAAAAAAAQAAAAIAAAcAAAAHAAAAAAEAAAAAAAAAAAEAAAAAAAAAAAAAAAAAAAIAAAAAAAACAQAAAAAAAAAAAAAAAgEAAAAAAAAAAAAAAAAAAAABAAABAgAAAAAAAgAAAAAAAAACAAAAAAACAAICAQAAAAAAAQAAAAAAAAAAAAAAAAAAAAAAAAABAAEAAAAAAAABAAAAAAAAAAABAAAAAAAAAAEAAAAAAAAAAAAAAAAAAAAAAAAAAAAAAAAAAAEAAAABAAAAAAAAAAAAAAAAAAAAAAAAAAAAAAAAAQAAAAAAAAAAAAECAAAAAAADAAAAAAAAAAACAAAAAAACAAABAQAABwAAAAIAAAAAAAAAAAAAAAAAAQAAAAEAAAAAAAAAAAEAAAAAAAAAAAAAAAEAAAAHAQAAAAAAAAEAAAAAAAAAAQAAAAAAAAAAAAAAAAABAAABAAEAAAAAAAEAAAAAAAABAAAAAAAAAQABAAAAAAAAAAAAAQAAAAABAAABAAAAAAACAAAAAAABAAABAAAAAAAAAAAAAAAAAAEBAAAAAwACAAAABwIAAAAAAAAAAAAAAAAAAAAAAAAAAAAAAAABAAAAAAAAAQAAAAAAAAAAAQAAAAAAAAEAAAABAAAAAAAAAQAAAAABAAAAAAAAAAAAAAAAAAAAAAEAAAAAAAAAAAAAAQABAQEAAAAAAQAAAAAAAQABAAAAAAAAAAAABwAAAAAAAQAAAAAABwAAAAEBAgEBAAAAAAAAAAAHAAAAAAAAAAAAAQAAAAAAAAACAAAAAAAAAAAAAQAAAAcAAAEAAQEAAQAAAAAAAAAAAAAAAAAAAgEAAAAAAAAAAAEBAAAAAAAAAAAAAAAAAAAAAAAAAAAAAAAAAAAAAAAAAAAAAAABAAABAAACAAACAAEAAAAAAAAAAAAAAAABAAAAAAEBAAAAAAAAAQAABAAAAAEAAAAAAQEAAAAAAAAAAAAAAAAAAAAAAAAAAAABAAAAAAAAAAAAAAAAAAAAAAEAAAAAAAABAAAAAAAAAAAAAAAAAAAAAAAAAAAAAAAAAAAAAAAAAAAAAAEBAAAAAAEAAAAAAAAAAAAAAgACAAAAAAAAAQAAAAAAAAAAAAAAAAAAAAAAAAAAAAAAAQABAAIAAAAAAAABAAAAAQAAAQACAAAAAQIAAAAAAAAABwEAAQAAAgAAAAAAAAAAAAEAAAAAAQABAAAAAAAAAAABAAAAAAAAAAAAAAAAAAAAAAAAAAAAAAEAAgAAAAAAAAAAAAAAAAEAAAAAAAAAAAABAAAAAAAAAAAAAAAAAAABAwAAAAAAAAAAAAAAAAAAAAAAAAAAAAIAAAAAAAAAAAAAAAAAAQAAAAAAAAAAAAAAAAABAAAAAAIAAAAAAAAAAAAAAAAAAAAAAAAAAAABAAAAAQAAAAAAAAAAAAAAAAAAAAAAAAAAAAAAAAAAAAAAAAAAAQABAAACAAAAAAcCAAAAAAAAAAACAAAAAAAAAQEAAAAAAAAAAAAAAAAAAAAAAAAAAAAAAAAAAAEAAAABAAAAAAAAAAAAAAAAAAAAAAAAAAAAAQAAAAAAAAAAAAABAAABAAAAAAAAAAABAAAAAQACAAAAAQAAAAAAAAAAAAAAAAAAAAAAAAAAAAAAAQAAAQAAAAAAAAACAAABAAAAAAAAAAAAAAAAAAEBAAAAAAAAAgAAAAAAAAAHAAAAAAAAAAAAAQAAAAEABwAAAAAAAAAAAQABAAABAAACAAAAAAABAAAAAAABAAABAAEAAAAAAAAAAQACAAEAAAAAAAAAAAAAAAIAAAAAAAABAAAAAAcCAAAAAAAAAAAAAAAAAAAAAgAAAQAAAQAAAAAAAAAAAQAAAAABAAAAAAAAAAAAAAACAAAAAQAAAAEAAAcAAAIAAAAAAAAAAAACAAEAAAAAAAcAAAABAAAAAAAAAAAAAAAAAAABAAEAAAAAAQAAAAABAQAAAAAAAgAAAAAAAAAAAAAAAAACAAAAAAAAAAAAAAAAAAAAAAEAAAAAAAEAAAAAAAAAAAEAAAAAAwAAAAEAAAAAAAAAAQAAAAAAAAABAAAAAAAAAAAHAAAAAAAAAAAABwEAAAAAAAAABwAAAAAAAAAAAAAAAAABAAAAAAAAAAEAAAAAAQAAAAAAAAAAAQAAAAAAAQAAAAAAAAAAAAABAQAAAAAAAAAAAAAAAAAAAAAAAAAAAgAAAAAAAAABAAAAAAAAAAACAAAAAAABAAAAAAEAAAAAAAAAAAAAAAAAAAAAAAAAAAAAAAAAAAEAAAAAAAAAAQAAAAAAAQAAAAAAAAAAAAAAAQAHAAAAAAAAAAAAAAAAAAAAAAAAAAAAAQAAAAAAAAAAAAAAAAAAAAACAAAAAQAAAAEAAQAAAAAAAAAAAAAAAAAAAAEBAAAAAgEAAAAAAAAAAAAAAAAAAAACAAABAgAAAAAAAAAAAAAAAAAAAAAAAAAAAAAAAAAAAAAAAgAAAAAAAAAAAAAAAAEAAAEBAAAAAAAAAAAAAAAAAAAAAAAAAQAAAAABAAAAAAAAAAABAAAAAAAAAAAHAAAAAAAAAgAAAAABAAAAAAAAAAACAAEAAAAAAAAAAAAAAQAAAAAAAAAAAQABAgAAAAAAAAEAAAAAAAAAAAAAAAAAAAABAQAAAAABAAAAAAAAAAAAAAAAAQAAAAAAAAEAAAAAAAAAAQAAAAAAAAAAAAAAAQAAAAAAAAAAAAAAAQAAAAAAAgAHAAAAAAAAAAAAAAAAAAAAAQAAAAAAAAAAAgAAAAACAAAAAAAAAAAAAAAAAAIAAAAAAAABAAAAAAAAAAAAAAAAAAAAAAEAAAEAAQAAAAABAAAAAAAAAAAAAAAAAgABAAAAAAAAAAAAAAAAAAAAAAAAAAAAAQAAAAAAAAAAAAAAAAAAAgAAAAAAAAAAAAAAAAAAAQAAAAAAAAICAAAAAAAAAAAAAAAAAAAAAAAAAAAAAQACAQAAAAAAAAIAAAEAAAAAAAAAAAAAAAAAAAAAAAAAAQECAAAAAAAAAAAAAAEAAAAAAAAAAAAAAAAAAAAAAAAAAQAAAAAAAAAAAAAAAAAAAAEAAAAAAAAAAAAAAAIAAAEAAAAAAAAAAAAAAAAAAAAAAAAAAAAAAAAAAAAAAAAAAgAAAAEAAAAAAAAAAAAHAAAAAAQAAAACAAAAAAACAAAAAAAAAAACAAABAAEAAAAAAAAAAAAAAAMAAAAAAAAAAAAAAAAAAAAAAAAAAAAAAAEDAAAAAgAAAAAAAAAAAAAAAAAAAQAAAAAAAQAAAAAAAAAAAAAAAAIBAAAAAAAAAAAAAAAAAAAAAAAAAAAAAAAAAAACAAAAAAABAAEAAAAAAAAAAQAAAAAAAAEAAAAAAAAAAAAAAAAAAAAAAAAAAAAAAAAAAAEAAQABAAAAAAAAAAACAAAAAAAAAAAAAAIBAAEAAAAABwAAAAAAAAAAAAAAAAIAAAAAAAAAAAAAAAEAAAAAAAABAAAAAAEBAAAAAAAAAAEAAAAAAAABAAAAAQAAAAAAAAAAAAAAAAAAAQEAAgAAAAcBAAAAAAAAAAAAAAAAAAAHAAAAAAEAAAAAAAAAAAAAAAEAAAAAAAAAAAAAAAAAAAAAAAAAAAAAAAEAAAAAAAAAAAAAAAAAAAAAAAAAAAAAAAAAAAAAAAAAAAAAAAAAAAEAAAAAAAAAAAAAAAAAAAAAAAAAAAAAAAAAAAAAAAAAAAACAAAAAAAAAAAAAAAAAAAAAAAAAAAABwABAAEAAAAAAAAAAAAAAAAAAAAAAAAAAAAAAAAAAAAAAAABAAACAAAAAAAAAAAAAAAAAAAAAQIAAAAAAAAAAAACAQAAAQAAAAACAAAAAAAAAAAAAAAAAAAAAAEAAAEAAAAAAgEAAAAAAAABAAAAAAAAAAAABwAAAQAAAAABAAAAAAABAAEAAAAAAAAAAAAAAAAAAAAAAAAAAAAAAAAAAAAAAAACAAEAAAIAAAIAAAAAAAAAAAAAAAAAAAAAAAAAAAEAAAAAAQAAAAACAgAAAAAAAAAAAAAAAAAAAAAAAAAAAAAAAQAAAAAAAAABAAAAAAAAAAACAAAAAQABAAAAAAABAAAAAAABAAAAAAAAAAAAAAAAAAIAAAAAAAAAAAAAAAEBAAABAAAAAAAAAAAAAAAAAAAAAAAAAAAAAAAAAAAAAAAAAAEAAAAAAQEAAAEAAAAAAQAAAAABAAAAAAIBAAAAAAEAAAAAAAABAQAAAAAAAAAAAAAAAAEAAAAAAAABAAAAAAAAAAEAAAABAAAAAAAAAAAAAAAAAAAAAQAAAAAAAAAAAAAAAAEAAAABAgAAAAEAAAAAAAAAAQAAAAECAAIABwAAAAAAAAAAAAAAAAAAAAAAAAIAAAAAAAABAQAAAQAAAAABAAEAAAAAAAAAAAcAAAAABwEAAAAABwABAAACAAAAAAAAAAAAAQAAAAAAAAAAAQAAAAAAAAAAAAAAAAAAAAAAAAAAAAAAAAAAAAABAAIAAAAAAAAAAAABAAAAAAAAAAAAAAAAAAAAAAAAAAAAAAAAAAAAAAAAAAAAAAEAAAAAAAAAAAEAAAAAAAAAAAAAAgEAAAAAAAAAAAAAAQAAAAAAAAAAAAAAAAABAAAAAAAAAAAAAAAAAAAAAAIAAAAAAAAAAAAAAAABAAAAAAAAAQAAAAAAAAIAAAAHAQcAAAAAAAAAAAAAAAAAAAAAAAEAAAABAAAAAQAAAAAAAAAAAAAAAAAAAAAAAAAAAAAAAAAAAAAAAAAAAAABAAAAAAAAAQAAAAABAAIAAgAAAAAAAAAAAAAAAAAAAAAAAAAAAAAAAAAAAAAAAAAAAAAAAgABAAAAAAABAAAAAAAAAAAAAAEAAAAAAAAAAAAAAAAAAQABAAAAAQAAAAAAAAAAAQACAAAAAAAAAAAAAAAAAAABAAAAAAAABwEAAQAAAAAAAAAAAAABAAAAAAAAAAAAAAAAAAAAAAAAAAAAAAAAAAAAAAAAAAAAAAAAAAAAAAAAAAIAAAAAAAIAAQEAAAAAAAAAAAAAAAAAAAAAAgAAAAIAAAABAAAAAQAAAAAAAAAAAgAAAAAAAAABAgAAAAEAAAAAAAAAAAAAAAAAAAAAAAAAAQEAAAAAAAAAAAAAAAAAAAAAAAAAAAABAAEAAAAAAAAAAAAAAAAAAAAAAgAAAAABAAAAAAAAAAAAAAAAAAAAAAAAAAAAAAIAAAAAAAEAAAAAAAAAAAAAAAAAAAIAAAAAAAAABwAAAAAAAAAAAAABAAAAAAAAAAAAAQAAAAAAAAAAAAAAAAIAAAAAAQAAAAcAAAAAAAABAAAAAAAAAAAAAAAAAAAAAAEAAAAAAAAAAAAAAAAAAAAAAAAAAAEAAAAAAAAAAQAAAAAAAAAAAAAAAAECAQAAAAAAAAEAAAAAAAAAAQEAAAAAAAAAAAAAAAAAAAAAAAAAAAAAAgACAAICAAEBAAAAAAAAAAAAAAAAAAAAAAAAAAEAAAAAAAAAAAABAAAAAAAAAAAAAAAAAQAAAAAAAAAAAAAAAAAAAAAAAgAAAAAAAAAAAAAAAAAAAAAAAAAAAAAAAgEAAAAAAAAAAAAAAAAAAAAAAAAAAAAAAAAAAAABAAAAAAAAAAAAAAEAAAAAAAAAAAABAAEAAAAAAAAAAAAHAAAAAAAAAAAAAAAAAAAAAAAAAAAAAAAAAAAAAAAAAAAAAAAAAAAAAQAAAAAAAAAAAAAAAAAAAQAAAAAAAAAAAAAAAAABAQAAAAAAAQAAAAAAAAAAAAEAAAAAAAAAAAAAAgAAAAAAAAAAAAAAAAABAAAAAAAAAAAAAgEAAAAAAAAAAAAAAAAAAAAAAAAAAgABAQAAAAcAAQAAAAAAAAAAAAAAAAAAAAAAAAAAAAECAAAAAQAAAAAAAAAAAAAAAAAAAAABAAACAAAAAAAAAQAAAAABAAAAAAEAAAAAAAAAAAAAAAAAAAAAAQAAAAAAAAAAAAAAAAAAAAAAAgAAAAAAAAAABwAAAAAAAAAAAAAAAAAHAAAAAAABAAEAAAAAAAAAAAAHAAAAAAEHAAAAAAAAAAAAAAAAAAABAAEAAAAAAAAAAAAAAgAAAAAAAAAAAQAAAAAAAAIAAAAAAAAAAAAAAAAAAAEHAAAAAAAAAAAAAAAAAAAAAAAAAAAAAAAAAAAAAAAAAAAAAAEAAAAAAAcAAAcAAAAAAAAAAAAAAAAAAAAAAAAAAAEAAAEAAAcBAAAAAAAAAAAAAAAAAAACAAAAAAAAAAAAAAAAAAAAAQAAAAAAAAAAAQABAAEAAAAAAAEAAAAAAQAAAAEAAAAAAAAAAAAAAAAAAAIAAAAAAAAAAAAAAAAAAAAAAQAAAAAAAAAAAAABAAEAAAAAAgAAAQAAAAAAAAEAAAAAAAEAAAAAAAAAAAEAAAAAAgAAAQAAAAAHAAAAAAAAAAEAAAAHAAAAAAAAAAAAAAACAAAAAAAAAAAAAQAAAAAAAgAAAAAAAAAAAAAAAAEAAAAAAAAAAAAAAAAAAAAAAAAAAQAAAAAAAAAAAAAAAAEAAQAAAAAAAAEAAAEAAAAAAAAAAAEAAAAAAAEBAAAAAQAAAAAAAAAAAQIAAAAAAAABAAEAAAAAAAAAAQABAAAAAAAAAAAAAQABAAAAAAAHAAAAAQAAAAEAAAAAAAAAAAAAAAAAAAAAAAAAAAAAAAAAAAMAAAAAAAAAAAAAAAAAAAABAAAAAwAAAAAAAAAAAAAAAAAAAgAAAAEAAAAAAAAAAAEAAAAAAQABAAIAAAAAAAAAAAAAAAAAAAABAAABAAAAAAAAAAAAAAAAAAAAAAAAAAAAAAAAAAAAAAAAAAAAAAAAAAAAAAABAAAAAAABAAAAAAAAAAAAAAAAAAAAAAAAAAAAAAAAAAAAAAAABwABAAAAAgAAAAAAAQEAAAAAAAAAAAAAAAAAAAAAAAAAAAAAAQABAAAAAAAAAAAAAgAAAAAAAAAAAAAAAAABAAAAAAAAAQAABwIAAAAAAAAAAAABAAAAAAAAAAAAAAAAAAAAAAAAAAAAAAAAAAAAAAAAAAAAAAAAAAACAAAAAAAAAAIBAAAAAAAAAAAAAAAAAAAAAAAAAAEAAAABAAAAAAAAAAAAAAAAAAAAAAEAAAAAAAAAAQAAAAEAAQAAAAAAAAAAAAcAAAAAAAAAAAAAAAAABAAAAAAAAAABAAAAAAAAAQACAAAAAAAAAAAAAAAAAAAAAAABAAAAAAAAAAAAAAAAAQAAAAEAAAEBAAAAAAEAAAAAAAAAAAAAAAAAAAAAAAAAAAAAAAAAAAABAAAAAAAAAAAAAAEAAAEAAAABAQAAAAEAAAAAAAAAAAAAAAAAAAAAAAAAAQAAAAAAAAEAAAAAAQAAAAAAAAAAAQAAAAAAAQAAAAAAAAIAAAAAAAEAAAAAAAAAAAABAAAAAAAAAAIAAAcAAAIAAAAAAAAAAAAAAAAAAAEAAAAABwEAAAAAAQABAAAAAAIBAAAAAAAAAAAAAAAAAAAAAAAAAAACAAAAAAAAAAAAAAAAAAAAAAAAAAAAAAIBAAACAQABAAAAAQAAAAAAAAAAAAAAAAAABwAAAAAAAAAAAAEAAQEAAAAAAAAAAAAAAAAAAAAAAAAAAQEAAAAAAAAAAAAAAAAAAAAABwEAAAAAAAAHAQABAAAAAAABAAEAAAAAAAAAAAEAAAAAAAAAAAABAAAAAAABAAAAAAEAAAEAAQAAAAAAAAEAAAAAAAABAAAAAAABAAAAAAAAAQAAAAAAAAAAAQAAAAAAAAEAAAAAAAAAAgAAAQAAAAABAAAAAAAAAAAAAAAAAAEBAAAAAAAAAAABAAAAAAAABwAAAAAAAAAAAAABAAIAAAAAAAEAAAAAAAAAAAAAAAcAAAABAAAAAAAAAAAAAAAAAAAAAAAAAAAAAAAAAAEAAAAAAAAAAAEABwAAAAAAAAAAAQAAAAAAAAAAAAAAAQAAAQAAAAAAAAAAAAAAAAAAAAAAAAAAAAABAQACAAEAAAAAAQACAAEAAAAAAAAAAAAAAAAAAAAAAAAAAAAAAAAAAAEAAAAAAAAAAAEAAAAAAAAAAAEBAAAAAAAAAAAAAAEAAAAAAAAAAAABAAABAAAAAAAAAAEAAQACAAAAAAAAAAIBAAABAAAAAAAAAQAAAAAAAAAAAAAAAAAAAAAAAAAAAAAAAAAAAAAAAAAAAAAAAAAAAAEAAAAAAAAAAAAAAAAAAAAAAAAAAAACAAAAAAAAAAABAAAAAAAAAAAAAAACAAAAAAABAAAAAAAAAAAAAAAAAAAAAAAAAAAAAAABAAAAAAABAAEAAAAAAAAAAAAAAAAAAQAAAAEBAAAAAQAAAAAAAAAAAAAAAAAAAAAAAAAAAAAAAAEABwAAAAAAAAAAAAEAAAAHAAAAAAAAAQAAAAAAAAAAAAABAAAAAAAAAQABAAAAAAAAAAAAAAAAAAAAAAAAAAAAAgEAAAAAAAAAAAAAAAAAAAAAAAAAAAAAAQAAAAAAAAAAAAEAAAAAAAACAQAAAAEAAAABAAABAQAAAAABAAAAAAQAAAAAAAAAAAAAAAAAAAAAAAAAAAAAAAAAAwAAAAAAAAIAAAAAAAAAAAAAAAAAAAAAAAAAAAEAAAAAAAAAAAACAAAAAAAAAAAAAAAAAAAAAAAAAAAAAAAAAAIAAAAAAAAAAAAAAAABAAAAAAEAAAAAAAAAAAAAAAAAAAAAAAABAAAAAAAAAAAAAAAAAQIAAAEAAAABAAAAAAAAAAAAAAAAAAAAAAAAAAACAAAAAAAAAAAAAAAAAAAAAAAAAAAAAAAAAAABAQABAAABAQABAAAAAAAAAQIAAQEAAAAAAAAAAAAAAAAAAgABAQAAAAAAAAACAAAAAAAAAAAAAAAAAAABAAAAAAAAAAAAAAAAAAABAAAAAAAAAAAAAAAAAAAAAAABAAACAAAAAAAAAAAAAAIBBwAAAAAAAQEAAAAAAAAAAAAAAAAAAAAAAAAAAAAAAQIAAAAAAAAAAAAAAAAAAAAAAAAAAAAAAAAAAAAAAAAAAAAAAAAAAAAAAAAAAAAAAAAAAAAAAAAAAAAAAAABAAAAAAEAAAAAAQAAAAEAAAAAAAAAAAAAAQAAAAAAAAAAAAEAAAAAAAABAAAAAQEAAAAAAAAAAQAAAAEAAAAAAAAAAAAAAAAAAAEAAAIAAAAAAAEAAQAAAAABAAEAAQAAAAAAAAAAAAAAAAEAAQEAAAAAAAAAAgAABwAAAAAAAAAAAAAAAAAAAAAAAAAAAAAAAAAAAAAAAAAAAAAAAQAAAAAAAAAAAQACAAAAAAAAAAAAAAABAAAAAAEAAAAAAAAAAAAAAAAAAAEAAQABAAAAAAAAAAAAAAAAAAAAAAAAAAAAAAEAAAAABwAAAAABAAACAAIAAAAAAAAAAAAAAAAAAAAAAAAAAAAAAAAAAAABAAAAAAAAAAAAAAAAAAAAAAAAAAABAAABAAAAAAAAAAAHAQAAAQAAAQAAAAABAgAAAAEBAAIAAAEAAAAHAQAAAAAAAAAAAAAAAQABAAEAAAAAAAEAAQABAAAAAAIAAAAAAAAAAAAAAAAAAAAAAAAAAAAAAAAAAAcAAAAAAAAAAAAAAAAAAgAAAAAAAAABAgMAAAAAAAAAAAAAAAAAAAAAAAAAAAAAAAAAAAAAAAABAAAAAAAAAAAAAAEAAAAAAAAAAAAAAAACAQAABwABAAAAAAAAAAAAAAAAAAAAAAAAAAIAAAABAAAAAAAAAgAAAAAAAAAAAAAAAAAAAAAAAAAAAAAAAAAAAAAAAAAAAAAAAAAAAAAAAAEAAAAAAAAAAAAAAAEAAAAAAAEAAAAAAAAAAAAAAAAAAAAAAAAAAAAAAAAAAAAAAAAAAAAAAAABAQAAAAAABwAAAAAAAAABAAAAAAAABwAAAQIAAAAAAAEAAAAAAQABAAABAAAAAAEAAAAAAAAAAAAAAAAAAAAAAAAAAAAAAAAAAAIAAAIAAAAAAAAAAAAAAAAAAAAAAAAAAAAAAAAAAAAAAAACAAAAAAAAAAACAgAAAAAAAgAAAAAAAAEAAAAAAQAAAQAAAAAAAAAAAAAAAAAAAQAAAAAAAAAAAAAAAAAAAAAAAAAAAAAAAAACAAABAAAAAgAAAAAAAAAAAAAAAAAAAAcAAQAAAAAAAAAAAAAAAAIAAAAAAAEAAAAAAAACAAAAAAAAAAAAAAAAAAAAAAAAAAIAAQAAAAAAAAAAAAAAAAAHAQAAAQAAAAAAAAAAAAABAAAAAAEBAAAAAAAAAQAAAAAAAAAAAAgAAAAAAAAAAAAAAAAAAAAAAAAAAAAAAAAAAAEAAQAAAAAAAAAAAAAAAAAAAAAAAAICAQAAAAACAAAAAAAAAAEAAAAAAAAAAAAAAAAAAAAAAAEAAAAAAAABAAAAAAAAAAEAAAAAAAAAAAEAAAAAAAAAAAAAAAAAAQAAAQABAAAAAAAAAAAAAAAAAAAAAAAAAAAAAAAAAAAAAAAAAAAAAgAAAAAAAAAAAAABAAAAAAAAAAAAAQAAAAAAAAAAAAAAAAAAAAAAAQAAAAAAAAAAAAEAAAAAAAAAAAAAAAABAAAAAAAAAAAAAAAAAAAAAAAAAAAAAAAAAAAAAAAAAAAAAAAAAAAAAQAAAAAAAAAAAAAAAAAAAAACAAAAAAAAAAEAAAAAAAAAAQAAAQEAAAAAAAEAAAAAAAAAAAAAAAAAAAAAAAcAAAAAAAAAAAAAAAAAAAAAAAEAAAAAAAAAAAAAAAAAAAAAAAAAAAAAAAIAAAABAAEAAAABAAAAAgAAAAAAAAABAAEAAgAAAAAAAAAAAAAAAAAAAAABAAAAAAABAAEAAAAAAAAAAAAAAQAAAAAAAAAAAAAAAAAAAAAAAAAAAAABAAAAAAAAAAAAAAAAAAAAAAAAAAAAAAAAAQAAAAAAAAAAAAAAAAAAAAAAAAAHAAACAAAAAAAAAAAAAgAAAAABAAAAAAAAAgAHAAAAAAEAAAAAAAAAAAAAAAAAAQAAAQAAAAAAAQABAAIAAAAAAAAAAAAAAAAAAAAAAAAAAAAAAQAAAAAAAAAAAAAAAAAAAAABAQAAAAAAAQAAAAAAAAAAAQAAAAEAAAAAAQAAAAAAAQAAAAAAAAAAAAAAAAAAAgAAAAAAAAAAAAAAAAAAAAAAAAAAAAAAAQAAAgEAAAAAAAAAAAAAAAABAAAAAAABAAAAAAAAAAAAAAAAAAAAAAAAAAAAAAIAAAAAAAAAAAAAAAAAAQEAAAAAAgABAAAAAAAAAAAAAAAAAAAAAAcBAAAAAAAAAQAAAAAAAAEAAAAAAAAAAAAAAAAAAAAAAAAAAAAAAAABAAAAAAAAAQAAAAAAAAAAAAAAAAAAAAAAAAAAAAAAAAAAAAAAAAAAAAAAAAAAAAEAAAAAAAAAAAAAAAAAAQEAAAAAAgAAAAAAAAABAAAAAAEAAAAAAAAAAAAAAAAAAAAAAAAAAAAAAAAAAAAAAAAAAgAAAAAAAAAAAAAAAAAAAAAAAAEAAAAAAAAAAAAAAgAAAAAAAAAAAAIAAAAAAAEAAAAAAAAAAAAAAAAAAAAAAAAAAQAAAAAAAAAAAAAAAAEAAAAAAAABAAAAAAAAAAAAAAAHAAAAAAAAAAAABwAAAAAAAAAAAQAAAgAAAAAAAAABAAAAAAAAAAAAAQAAAQEAAAAAAAAAAAAAAAAAAAAAAgAAAAAAAAAAAAAAAAAAAAAAAAAAAAAAAAAAAAAAAAAAAAAAAAAAAAAAAAABAAAAAAAAAAAAAAAAAAAAAAAAAAAAAAAAAAAAAAABAAAAAAAAAAAAAAABAAAAAAAAAQAAAAAAAQAAAAAAAAAAAAEAAQAAAQAAAAAAAAAAAAAAAQAAAAAAAAAAAAAAAAAAAAAAAAAABwAAAAAAAAAAAAIAAQAAAAEAAAcAAAAAAQAAAAAAAQAAAAEAAQIAAAAAAAEAAAAAAAAAAAAAAAAAAAAAAAAAAAAAAAAAAAAAAAEAAAAAAAAAAAAAAAAAAAAAAAAAAAABAAAAAAAAAAAAAAAAAAAAAAAAAAAAAAAAAAAAAAAAAAAAAAAAAAAAAAACAAAAAAAAAAAAAAEAAAAAAQAAAAAAAAAAAAAAAQEAAAAAAAAAAAAAAAABAAAAAAAAAAACAAAAAAAAAAAAAAAAAAABAAAAAAAAAAcAAQAAAAAAAQEAAAAAAAAAAAAAAAACAAAAAAAAAAEAAAAAAAAAAQAAAAAAAAAAAAAAAAAAAAEAAAEAAAAAAAAAAgAAAAAAAAAAAAAAAAAAAAEAAAAAAAAAAAABAAAAAAAAAAAAAAAAAAAAAAAAAAEBAAAAAAAAAAAAAAAAAAAAAAABAAAAAAAAAAEBAQAAAAAAAAAAAAAAAAAAAQEAAAABAQEAAAAAAAAAAAAAAAAAAAAABwAAAAABAAAAAAAAAAAAAAMAAAAAAgEAAAAAAAAAAAAAAAAAAAAAAAAAAAEAAQAAAAEBAAAHAAAABwAAAAAAAAEBAAAAAAAAAAAAAAEAAAAAAAAAAAAAAgAAAAAAAAAAAQEAAAAAAAAAAQAAAAAAAQAAAQAAAAAAAAAAAQAAAAAAAAAAAAAAAAAAAAAAAAAAAAABAAAAAAAAAAAHAAAAAAEAAAEAAAABAAEAAAAAAAAAAAABAAAAAAAAAAAAAAAAAAAAAAAAAAAAAAAAAAAAAAAAAAAAAAECAAAAAQAAAAAAAAAAAAAAAAAAAAABAAAAAAABAAAAAAABAAAAAAAAAAEAAAAAAAAAAAAAAAAAAAAAAAAAAAAAAAAAAAAAAAAAAAEAAAAAAAAAAAAAAAAAAAAAAAAAAAAAAAAAAAAAAAEAAAAAAAAAAAAAAAAAAAAAAAAAAAAAAAAAAAAAAAAAAAAAAAAAAAAAAAAAAAAAAAAAAAEAAAAAAAAAAAAAAAAAAQAAAAAAAAAAAAAAAAAAAAAAAAAAAAAAAAAAAAABAQAAAAEAAAAAAAAAAAABAAAAAAAAAAABAAAAAAAAAAACAAAAAAAAAgAAAAAAAAEAAAAAAAAAAAAAAAAAAAAAAAAAAAECAAAAAAAAAAABAAABAAABAAAAAQEAAAAAAAAAAAAAAAAAAAIAAAAAAAAAAAAAAgAAAAAAAAAHAAAAAAIAAAAAAAABAAAAAAAAAAEAAAAAAAAAAAAAAAAAAAABAAcAAAAAAAAAAAAAAAAAAAEAAAAAAAABAAABAAAAAAAAAAAAAAAAAAAAAAABAAAAAAABAAAAAAAAAAIAAAAAAAEBAAAAAAAAAAAAAAAAAAAAAAAAAAAAAAAAAAAAAAAAAAAAAAIAAAEAAAAAAAEBAAAAAAAAAAAAAAABAAAAAAAAAAAAAAAAAAABAAAAAAEBAAAAAAAAAAAAAAAAAAEAAAAAAAAAAAAAAAAAAAAAAAAAAAAAAAcAAAAAAAAAAAABAAAAAAAAAAAAAAEBAAAAAAAAAAAAAAAAAQEAAAEAAAEAAAEAAAAAAAAAAQAAAAABAAAAAAAAAwEAAgAAAAAAAAABAQAAAAAAAAAAAAEAAAAAAAAAAAAAAAAAAAAAAAAAAAAAAAAAAAAAAQAAAAAAAAAAAAAAAAAAAAAAAAAAAAIAAAAAAAABAAAAAAAAAAAAAAAAAAEAAAAAAAAAAAAAAAAAAAAAAAAAAAAAAAAAAAAAAAAAAAAAAAAAAAAAAAABAAAAAAAAAAAAAAAAAAAAAAAAAAAAAAAAAAEAAAAAAgAAAAAAAQEBAAAAAAAAAAAAAAIAAAAAAAAAAAAAAAAAAAAAAAAAAAABAAAAAAAAAQAAAAAAAAAAAAAAAAEBAAAAAAABAAAAAAAAAAAAAAAAAAcAAAAAAAAAAQAAAAIBAAAAAQAAAQAAAAcAAAAAAAAAAAAAAAAAAAAAAAABAAAAAAAAAAAAAAABAAAAAQAAAAAAAAAAAAAAAAAAAAAAAAAAAAAAAAAAAQABAAAAAAAAAAAAAAABAAAAAAABAQIAAAAAAAAAAAAAAAAAAAAAAAAAAAAAAAAAAAAAAAAAAAAAAAACAAAAAAAAAAIAAAAAAAABAAAAAAABAAAAAQAAAAAAAAAAAAAAAAAAAAAAAAAAAAAAAAAAAAAAAAAAAAAAAAABAAAAAAAAAQAAAAAAAAAAAAAAAAACAAAAAAAAAAAAAAAAAAAAAAAAAAAAAAAAAQAAAAAAAAAAAAACAAAAAAAAAgABBwAAAAAAAAAAAAAAAAAAAQAAAAAAAAAAAAABAAEBAAAAAAIAAQAHAQAAAAAAAAAAAAAAAAAAAAAAAAABAAABAAAAAAAAAAAAAAAAAAAAAAAAAAAAAAAAAAAAAAAAAAAAAAAAAAABAAAAAAAAAAAAAAAAAAAAAAAAAAEAAAAAAAECAAAAAAEAAAEAAAAAAAAAAAEAAQEAAAAAAAAAAAAAAAAAAAAAAAAAAAAAAAAAAAAAAAAAAAEAAAAAAAAAAAAAAAAAAQAAAAAAAAAAAAAAAAAAAAAAAAEAAAAAAAAAAAABAAAAAAAAAAABAAAAAAAAAAAAAAAAAAAAAAAAAAAABwAAAAIAAAAAAAAAAQAAAAABAAAAAAAAAgAAAAAAAAACAQABAAAAAAAAAQAAAAABAAABAAAAAAAAAQAAAAAAAAAAAAAAAAAAAQAAAAAABwAAAAAAAAAAAAAAAAAAAAEAAAAAAQEAAAAAAAABAAAAAAAAAAAAAAAAAAAAAAAAAAAAAAAAAAAAAAAAAAABAAAAAAAAAAAAAAAAAAACAAAAAAAAAAAAAAAAAAAAAAABAAAAAAAAAAAAAQAAAAAAAAAAAAABAAAAAAEAAAAAAAAAAAAAAAAAAAEAAAAAAQAAAAIAAAAAAAAAAAAAAAAAAAAAAAAAAAAAAAEBAAAAAAAAAAAAAAAAAAAAAAAAAAAAAAAAAAAAAQAAAAAAAAAAAAEAAQAAAQAAAAAAAAAAAAAAAAABAAAAAAAAAAABAAEAAAEAAAcBAAABAAAAAAEAAAAAAAAAAAAAAAAAAAABAAEAAAAAAAAAAAAAAAABAAAAAAEAAAAAAAAAAAAHAAAAAAEAAAAAAAAAAAAAAAAAAAAAAAAAAQABAAAAAAAAAAAAAAEAAAEAAAAAAAAAAAAAAAAAAAAAAAIAAAAAAAABAAAAAQAAAAAAAAABAQEAAAAAAAAAAAcAAAEAAAAAAAAAAAAAAAAAAAAAAAAAAAAAAAAAAAAAAQIAAAAAAAAAAAAAAQAAAAAAAgAAAAAAAAAAAAAAAAAAAAEAAQAAAAAAAQAAAAAAAAAAAAAAAAAAAQEAAgAAAAAAAAAAAAAAAAAAAAAAAAAHAAABAAAAAAEAAAAAAAAAAAABAAAAAAAAAAAAAAAAAAAAAAAAAAAAAAABAAAAAQAAAQAAAAAAAAAAAAAAAAAAAAAAAQAAAAAAAAAAAAIAAAAAAAAAAAAAAAABAAAAAAABAAEAAAAAAgAAAAAAAAAAAAAAAAAAAAAAAAABAAAAAQAAAAAAAAAAAAAAAAAAAAAAAAAAAAAAAAAAAAAAAAEAAAAAAAAAAAAAAAIAAAAAAAIHAAAAAAAAAAAAAAAAAAABAAAAAAAAAAAABwEAAAAAAgAAAAAAAAAAAQABAgEAAQAAAAEAAAAAAAABAAAAAAAAAAAAAAAAAAAAAAAAAAAAAAAAAAAAAAAAAAAAAAABAAAAAAAAAAAAAAAAAAAAAAAAAAAAAAAAAAAAAgABAAAAAAIAAAAAAAAAAQAAAAEBAAAAAAAAAAAAAAEAAAAAAAAAAAAAAAAAAQAAAAAAAAACAAAAAAAAAAAAAAAAAAAAAAAAAAAAAAAABwAAAgEAAAAAAAAAAAAAAAAAAQAABwACAAAAAAAAAAAAAQAAAAAAAAAAAAAAAAAAAAAAAAAAAgAAAAEAAAAAAAAAAAAAAAAAAAAAAAAAAAEBAAEAAAACAAAAAAAAAAIAAAAAAAAAAAAAAAAAAQABAAIAAAAAAAAAAAAAAAAAAAAAAAAAAAAAAAIAAAAAAAAAAAAAAAEAAgAAAAAAAQAAAAAAAAAAAQAAAQAAAAAAAAAAAAAAAQEAAAAAAAAAAAAAAAAAAAAAAAAAAAAAAAIBAAEAAAAAAQAAAQABAQAAAQAAAAAAAAAAAQEAAAAAAAAAAAAAAAIAAAAAAAAAAAAAAQEAAAAAAAAAAAIAAAAAAAAAAAAAAAABAAAAAAAAAAEAAAAAAQAAAAAAAQAAAAAAAAABAAAAAAEAAAAAAAAAAAAAAAAAAAAAAAAAAAAAAAABAAAAAAEAAAAAAAAAAAAAAAABAAAAAAAAAAAAAAAAAAAAAAAAAAAAAAABAAAAAAAAAAAAAAEBAQAAAAACAAAAAAAAAAAAAQAAAAAHAAAAAAAAAAAAAAAAAAAAAAAAAAAAAAAAAAAAAAAAAAAAAAAAAAAAAAAAAQAAAAABAAAAAAAAAQAAAAAAAAABAAABAQAAAAACAAAAAAABAAAAAAAAAQAAAAAAAAAAAAAHAAAAAAAAAAEAAAAAAAAAAQABAAABAAAAAQAAAAAAAQAAAAABAAEAAAAAAAAAAAAAAQAAAAAAAAAAAAAAAAABAQAAAAAAAAAAAAAAAAAAAAIAAAAAAAAHAAAAAAAAAAAAAAcAAAAABwAAAAcAAAAAAAAAAQAAAAABAAEAAAAAAAAAAAAAAAAAAAAAAAAAAgAAAAAAAAAAAAAAAAAAAAAAAAAAAgAAAAAAAAAAAAAAAAAAAAAAAAAAAAIAAAAAAAAAAAAAAAAAAgAAAAAAAQAAAAAAAAAAAAAAAAAAAAAAAQABAAAAAAAAAgAAAAAAAAEAAAAAAAAAAAEAAAAAAAAAAAAAAAABAQAAAAIAAAAAAAAAAAAAAAAAAAAAAAABAAABAAABAAAAAAAAAAACAQAAAAAAAAAAAAEAAQEAAQAAAAAAAAAAAAAAAAAAAAAAAAAAAQAAAAAAAgAAAAAAAAAAAAAAAAAAAAAAAAABAAAAAAAAAAAAAgABAAAAAAAAAAIBAAAAAAAAAAAAAAAAAAAAAAIAAAAAAAAAAAAAAQAAAAAAAAABAAAAAAAAAAAAAAAAAAABAgEAAAAAAAEAAAAAAAAAAAAAAgAAAAAAAAACAAAAAAAAAAAAAAAAAAACAAAAAAAAAAAAAAAAAAEAAAAAAAAAAAABAQAAAAAAAAAAAQAAAAAAAQAAAAAAAAEAAAABAAAAAAAAAAIAAAAAAAAAAAAAAAEAAAAHAAEAAAIAAQAAAAEAAAAAAAABAAAAAAEAAAAAAAIHAAAAAAAAAAAAAAEAAAIAAAAAAAAAAAAAAAAAAAAAAAAAAAAAAAEAAAAAAAAAAAAAAAAAAAEAAAAAAAABAAAAAAAAAAAAAAABAAAAAAAAAAAAAQABAAAAAAAAAAAAAAAAAAAHAQAAAAAAAAAAAAAAAAAAAAABAAAAAAIAAAAAAAAAAAAAAAABAAAAAAABAAACAAAAAAAAAAAAAQAAAAAAAAAAAAAAAAAAAQIAAAAAAAAAAAAAAAAAAAAAAAAAAAEAAAAAAAAAAAACAAAAAAAAAAAAAAAAAAAAAAABAAAAAAAAAAAAAAAAAQAAAQAAAAAAAAAAAAAAAAABAAAAAAEAAAAAAAAAAAAAAAEAAQAAAQAAAQAAAAAAAAABAAAAAAAAAAABAAAAAAEAAAAAAAEAAAAAAAABAAAAAQAAAAAAAAAAAAABAAAAAAAAAAAAAAAHAAAAAAAAAAAAAAAAAAAAAAAAAAAAAAAAAAAAAAAAAAAAAAAAAQAAAAAAAAAAAAAAAAAAAAAAAQAAAgAAAAAAAQEAAQAAAAAAAAAAAAAAAQAAAAAAAAAAAAABAAABAgAAAAEAAAAAAAAAAAAAAAAAAAAAAAAAAAAAAAACAAAAAAAAAQAAAAAAAAEAAAAABAAAAAAAAAAAAAAAAQEABwAAAAAAAAAAAAAAAAAAAAAAAAAAAAAAAAAAAAAAAAAAAAAAAAAAAAAABwAAAAAAAAAAAAAAAAAAAAAAAAAAAAAAAAAAAAAAAAAAAAAAAAAAAAAAAAAAAAAAAAAAAAAAAAAAAAAAAAAAAAAAAAAAAAABAAEAAAIAAAEAAAAAAAAAAAAAAAAAAAAAAAAAAAAAAAAAAAAAAAAAAAAAAAAAAAAAAAAAAAAAAAAAAAAAAAAAAAAAAAAAAAAAAwAAAAAAAAEAAAAAAgAAAAAAAAEAAAAAAAABBwEAAAABAAAAAAAAAAEAAAIAAgAAAAAAAAAAAgEAAAMAAQAAAAAAAAAAAAAAAAAAAAAAAAEAAAEAAAAAAAABAAAAAAAAAAAAAAEAAAEAAAAAAAAAAAAAAAAAAAAAAgAHAAAAAAAAAAEAAQAAAAAAAAAAAAAAAAEAAAAAAAAAAgAAAAIAAQAAAAABAAABAAAAAQAAAAAAAAEAAAAAAAAAAAAAAAAAAAAAAAAAAAABAQAAAAAAAAAAAAEAAAAAAAAAAAAAAQAAAAEAAAAAAAAAAAAAAAAAAAEAAAABBwAAAAAAAAEAAQAAAQAAAAAAAAAAAAIAAAAAAAAAAAAAAAAAAAAAAAAAAAAAAAACAAAAAAAAAAABAAAAAAEAAAAAAAAAAAABAAAAAAAAAAEAAAAAAQAAAAAAAAAAAgAAAAAAAAAAAAAAAAAAAQAAAAAAAAAAAAAAAAAAAAAAAAAAAQAAAAAAAAABAAACAAACAAEAAAABAAACAAAAAAAAAAAAAAAAAAAAAAAAAAAAAAAAAAAAAAAAAAAAAAAAAAABAAAAAAAAAAAAAAAAAAAAAAAAAAAAAAEAAAAAAAABAAAAAAAAAAIAAAAAAAEAAAAABwAAAQAAAgAAAAAAAAAAAAIAAAAAAAAAAAAAAAAAAAAAAAABAAAAAAAAAAABAAAAAAEAAAAAAAAAAAEAAAAAAAAAAAAAAAAAAAAAAQAAAAAAAAAAAQAAAQABAAEAAAAAAAAAAAAAAAAAAAAAAAAAAgAAAAAAAAAAAAABAAAAAAEAAAAAAAAAAAABAAAAAAAAAAAAAAEBAgAAAAEAAAEAAAAAAAABAAAAAAAAAAAAAAAAAAAAAAAAAAAAAgAAAAAAAAEAAAABAAAAAAAAAgABAAAAAAAAAAAAAAAAAAAAAAAAAAAAAgAAAQAAAAABAAAAAQAAAAAAAAAAAAAAAAAAAAAAAAEAAAABAAIAAAAAAAABAAAAAgAAAAAAAQAAAAAABwAAAQAAAAEAAAAAAAAAAAAAAAAAAAEBAAAAAAEAAAAAAAABAAAAAAAAAAAAAAAAAAAAAAABAAACAAAAAAAAAAAABwAAAAABAAAAAAAAAAAAAAABAAABAAAAAAAAAQAAAAAAAAAAAAAAAAAAAAAAAAAAAAAAAQAAAQAAAAAAAAEAAAAAAAAAAAABAQAAAAAAAAAAAAAAAAAAAAAAAAAAAQAAAAAAAAAAAAAAAAAAAAAAAAAHAQAAAAAAAAAAAAAAAAAAAAAAAAAAAAAAAAAAAAEAAAAAAAAAAAcAAAEAAAAAAAAAAAAAAAAAAAAAAAAAAAAAAQAAAAAAAAAAAAAAAAEAAAAAAQAAAAAAAAAAAAAAAgAAAAAAAAAHAgAAAAAAAAAAAAIAAQAAAAAAAAAABwIAAAABAAAAAAAAAAAAAAAAAAAAAAAAAAABAAAAAAEAAAAAAQAAAAAAAgAAAAAAAAAAAAAAAAAAAAABAAAAAAAAAAAAAAAAAAAAAAAAAAAAAAAAAQIAAQACAgAAAAECAAAAAAAAAAAAAAAAAAAAAAAAAAEAAAAAAAAAAAAAAAABAAAAAAAAAAAAAAAAAAAAAAAAAAAAAAAAAAAAAAAAAAAAAAAAAAAAAAEBAAAAAAAAAAAAAAAAAAAAAAEAAAAAAAAAAAAAAAAAAQAAAAAAAAABAAAAAAABAAIAAAAAAAACAAAAAAAAAAAAAAAAAAABAAAAAAAAAAAAAAAAAAAAAAAEBwAAAAAAAAAAAAAAAAAAAQAAAAAAAAABAAAAAAACAAACAAAAAAAAAAEAAAAAAAAAAAAAAAAAAAAAAAAAAgAAAAABAAAAAQAAAAAAAAAAAAAAAAAAAAAAAAAAAAAAAAAAAAAAAAAAAAABAAEAAAAAAAAAAAAAAAAAAAAAAAAABwAAAAAAAgAAAAEAAAAAAAAAAAAAAAAAAAAAAAAAAAAAAAEABwABAAAAAAAAAQAAAAIAAAAAAAAAAAAAAAAHAAAAAAAAAAAAAAAAAAAAAAAAAAAAAAAAAAAAAAAAAAAAAAABAAAAAAAAAAAAAAAAAgAAAAABAAAAAQAAAAAAAAABAAAAAAABAAAAAQAAAAABAAAAAAAAAAABAAAAAAAAAAAAAAAAAAABAQAAAAAAAAABAAAAAQAAAAAAAAAAAAAAAAAAAAAAAAAAAAAAAAAAAAAAAAEAAAABAAAAAAECAgABAAACAAAAAAAAAAAAAAAAAAABAAAAAAAAAQAAAAAAAAAAAAAAAAAAAAAAAAAAAAAAAAAAAAAAAAABAgABAAAAAAAAAAAHAAEAAAAAAAAAAAcAAAAAAAAAAAEAAAAAAAABAQAAAAAAAAABAAAAAQEAAAEAAAAAAAAAAAABAAAAAAAAAAAAAAQAAAAAAAAAAAABAAAAAAAAAAAAAAAAAAAAAAAAAAAAAAAAAAAHAAAAAAAAAAAAAAAAAAIAAAAAAAEAAAABAAAAAAAAAAAAAAAAAAAAAQAAAAAAAAIAAAAAAAAAAAAAAAAAAAAAAAAAAAAAAAAAAAAAAAEBAgAAAAAAAAAAAAAAAAAAAAAAAAAAAQAAAAAAAAAAAAAAAAAAAAAAAAAAAAAAAAAAAAAAAAAAAAAAAAAAAAAAAgEAAAAAAAAAAAAAAAAAAQEAAAAAAAAAAAAAAAAAAAAAAAAAAAAAAAAAAAAAAAABAAACAAAAAAAAAQAAAAAAAAABAAAAAAAAAAAAAAABAAABAQABAAAAAAAAAAAAAAAAAQABAAAAAAAAAAEAAAAAAAAAAAAAAAAAAAAAAQAAAAAAAAAAAAAAAAAAAAAAAQAAAAAAAAAAAQAAAAAAAQAAAAAAAAAAAAAAAAAAAAAAAAAAAAAAAAAAAQAAAAMAAAABAAAAAAACAAAAAQAAAAEAAAIAAAAAAAAAAAAAAAAAAAAAAAAAAQEAAAAAAAAAAAAAAAAAAAAAAAAABwAAAAAAAAAAAAAAAQABAAAAAAAAAAAAAAAAAAAAAAEAAAAAAAAAAAAAAAAAAAAAAAAAAAAAAAAAAgMAAAIAAAAAAAAAAAABAAEAAgAAAAAAAAAAAAAAAAAAAAAAAAAAAgAAAAACAAABAAAAAQAAAAAAAgAAAAAAAAAAAAAAAQAAAAAAAQAAAAAAAAAAAAAAAAAAAAABAQAAAAIAAAEAAQAAAAAAAAAAAAAAAAAAAAEAAAAAAAAAAAAAAAAAAAAAAAAAAAAAAAAAAAAAAAAAAAAAAAABAAAAAAACAAEAAAAAAAAAAAAAAAAAAAAAAAAAAAAAAAAAAAAAAAAAAAAAAAAAAAEAAAAAAAAAAAAAAAAAAAcAAAAAAAAAAAAAAAAAAAAAAAAAAAIAAAAAAAAAAAAABwABAAAAAAEBAAAAAAACAAAAAAACAQAHAAAAAAAAAAEAAAAAAAAAAAAAAAAAAAAAAAAAAAAAAAAAAAAAAAAAAQAAAAAAAAAAAAAAAAAAAAAAAAAAAQAAAAAAAAAAAAAAAAAAAAAAAAAAAAAAAAAAAAAAAQAAAAEAAAABAAAAAAAAAAAAAAcAAAAAAAAAAAEAAAAAAAABAAAAAQAAAAAAAAAAAAAAAAAAAAAAAAEAAAcAAAAAAAAAAAAAAQAHAQAAAAAAAAIBAAEAAAAAAAAAAAAAAAAAAAAAAAAAAAAAAAEAAAABAAAAAAABAQABAAEAAAABAAAAAAAAAAAAAAAAAAAAAAEBAAAAAAAAAAAAAAAAAAAAAAAAAQAAAAAAAAAAAAAAAAABAAEAAAAAAAAAAAAAAAAAAAAAAAAAAAAAAAEAAAACAAAAAAAAAAACAAAAAAAAAAAAAAAAAAEAAAAAAAAAAAAAAAAAAAAAAAAAAAEAAAABAAAHAAAAAAAAAAAAAAAAAAAAAAAAAgAAAAEAAAAAAAEAAAcAAAAAAAAAAAAAAAAAAAABAAAAAAAAAAABAAABAAAAAAAAAAABAQACAAAAAAAAAAAAAAAAAAAAAAEAAAAAAAAAAAABAAAAAAAAAAAAAAAAAAEAAAAAAAAAAAEAAQAAAAAAAAAAAAAAAAABAgAAAAAAAAAAAAAAAAAAAAAAAAAAAAAAAAAAAAAAAAAAAAAAAAAAAAAAAAAAAAAAAAAAAAAAAAAAAAAAAAAAAAABAAAAAAAAAAAAAQAAAAEAAAAAAAAAAAAAAAAAAAAAAAAAAQABAAAAAAABAAAAAAIAAAAAAAAAAAAAAAAAAAAAAAAAAAEAAAAAAAAAAAAAAAAAAAAAAAAAAAIBAAAAAAAAAAAAAAAAAAAAAAAAAAAAAQABAAAAAAAAAAAAAAAAAAAAAAAAAAAAAAAAAAAAAAAAAAEAAAAAAAAAAQAAAAAAAAAAAAAAAAEAAAAAAAAAAQAAAAAAAgAAAQEAAAAAAAAAAAAAAAAAAAAAAAAAAAAAAAAAAAABAAEAAAAAAAAAAAAAAQAAAQAAAAAAAAAAAAAAAAABAQIAAQAAAAAAAAAAAAAAAAAAAAAAAAAAAAAAAAAAAAAAAAAAAAAAAQAAAAEAAAAAAAAAAAAAAAAAAAAABwAAAAAAAAEAAAAAAAAAAAAAAAAAAgAAAAAAAAAAAAAAAQAAAAAAAAAAAAAAAAAAAAAAAAAAAAAAAAAAAAAAAQAAAAAAAAEAAAAAAAEAAAAAAAAAAAAAAAAAAgIAAAAAAAAAAAAAAAAAAAAAAAAAAAAAAAIAAAEAAQABAAAAAAEBAAAAAAEAAQAAAAAAAAAAAAAAAAAAAAAAAAAAAgAAAAABAAAAAAAAAAAAAAAAAAAAAAAAAAAAAAEAAAAAAAAAAAAAAAAAAAEAAAAAAAAAAAAAAQAAAAAHAAEAAAABAAAAAAEAAAAAAAEAAAABAAABAAAAAAACAAAAAAAAAQAAAAAAAAEAAAAAAQAAAAAAAQAAAAABAAAAAAAAAAAAAQIAAAAAAAAAAAAAAAAAAAAAAAAAAAAAAAAAAAAAAAAAAAAAAAAAAgAAAQABAAAAAAAAAAAAAAAAAAAAAAAAAAAAAAAAAAEBAAAAAAEAAAAAAAAAAAAAAAABAAAAAAAAAAAAAAAAAAAAAAAAAAAAAAAAAAAAAAAAAAAAAAAAAQAAAAAAAAAAAAAAAAAAAAAAAAAAAAAAAAAAAgAAAAAAAAAAAAAAAAABBwEBAAAAAAAAAAAAAAAAAAAAAAAAAAAAAAAAAQAAAgAAAQEAAAAAAAAAAwAAAQABAAEAAAAAAAABAQAAAAAAAAABAAcAAAAAAAAAAAAAAAAAAAAAAAAAAAAAAAAAAAAAAAABAAAAAAAAAAAAAAAAAAAAAAAAAAAAAAAAAAAAAAAAAAAAAAABAAAAAAAAAAABAQAAAAABAAABAAAAAAAAAAAAAAAAAQAAAAAAAAAAAAAAAAAAAAAAAAAAAAAAAAAAAAAAAAAAAAAAAAAAAQABAAAAAAEHAAAAAAAAAAMBAAADAAAAAAACAAAAAAAAAAAAAAABAAAAAQAAAAAAAAAAAAAAAAAAAAAAAgABAAAAAAAAAAAAAAIAAAAAAAAAAAAAAAAAAAAAAAAAAAAAAAAAAAAAAAAAAAAAAAAAAAAAAAAAAAAAAAIAAAAAAAABAAAAAAAAAAAAAAAHAAAABwACAAAAAQABAAAAAAAAAAAAAAAAAAAAAAEAAQAAAAAAAAAAAAAAAAAAAAAAAAABAAAAAAABAAAAAAAAAQAAAAAAAAEAAAAAAAAAAAAAAAAAAAAAAAAAAAAAAAEBAAEAAAAAAAAAAAAAAAAAAAAAAAAAAAAAAAABAAAAAAAAAAABAAABAAEAAQAAAAIAAAAAAAAAAAAAAAAAAAAAAAAAAAAAAAAAAAAAAAAAAAAAAAAAAAAAAAAAAAABAAAAAAAAAAAAAAABAAAAAAAAAAEAAAAAAAAAAAAAAAABAAAAAAAAAgAAAAAAAAAAAAAAAAAAAAAAAAAAAAAAAAAAAAAAAAEAAAACAAAAAAABAAEAAAAAAAAAAAAAAAAAAAAAAgAAAAAAAAAAAAABAAEAAAEAAAEAAAAAAAAAAAAAAAAAAAAAAAAHAAEAAAAAAAAAAAAAAAAAAAACAAAAAAAAAQAAAAABAAAAAAEAAAcAAAAAAAAAAAAABwAAAAAAAAAAAAAAAAEAAAAAAAAAAAABAQAAAAAAAAAAAAAAAAAAAQAAAgAAAAAAAAAAAAAAAAIAAAAABwAAAAAAAQAAAAAAAAEAAAAAAAABAAAAAAAAAAAAAgAAAAAAAQAAAAAAAQAAAAAAAAAAAAAAAAAAAAAAAAABAQAAAQAAAAAAAAAAAAAAAAAAAAAAAAABAAABAQAAAAAAAAEAAAAAAAAAAAABAAAAAAAAAAAAAAACAAAABwAAAAAAAAAAAAAAAAAAAQAAAAAAAAAAAQAAAAAAAAAAAAAAAAAAAQEAAAAAAAAAAAAAAQIBAQAAAQEAAAAAAAAAAAAAAAAAAAAAAAAAAAAAAAAAAAAAAAEAAAAAAAAAAAAAAAEAAQAAAAECAAAAAAAAAQEAAAAAAAAAAAAAAAAAAAAAAAIBAAAAAQABAAAAAAAAAAAAAAAAAAAAAAcBAAAAAAAAAAAAAAAAAAAAAAAAAAAAAAABAAAAAAAAAAEAAAAAAAAAAAAAAAEAAAAAAAAAAAAAAAAAAAEAAAAAAAAAAAAAAAAAAAAAAAAAAAAAAAAAAAAAAAAAAAAAAAAAAAAAAAAAAAAAAAAAAAAAAAAAAAAAAAAAAAAAAAABAAAAAAAAAAAAAQAAAAAAAAAAAAABAAAAAAABAAAHAAABAAAAAAAAAAAAAAAAAAAAAAAAAAAAAQAAAAEAAAAAAAAAAAAAAAAAAAAAAAAAAgAAAAABAQAAAAAAAAAAAQAAAAAAAAAAAAAAAAAAAAAAAQAAAAAAAAABAAAAAAAAAAAAAAAAAAAAAAAAAgAAAAAAAAEAAAIAAAABAAEAAAAAAAAAAAAAAAAAAAAAAAAAAAAAAAAAAAAAAAABAAAAAAEAAAAAAAAAAAAAAAAAAAEAAQEAAAAAAAAAAAAAAAAAAQAAAAAAAAAAAAABAAAAAAAAAAIAAQAAAAAAAAAAAAAAAAAAAgIAAAAAAAEAAAAAAAAAAQAAAAAAAAAAAQAAAAAAAAAAAAAAAQAAAQAAAAABAAEBAAAAAAAAAAAAAAAAAQAAAAAAAAAAAAAAAAAAAAAAAAAAAAABAAAAAAAAAAABAQAAAAAAAAAAAAAAAAAAAAAAAAcAAAAAAQEBAAABAAAAAAAAAAEAAAAAAAAAAAABAAAAAAAAAAAAAAAAAAIAAAAAAAAAAAAAAgAAAAAAAAAAAAAAAAAAAQAAAAAAAAAAAAAAAAAAAAAAAAAAAAABAAAAAAAAAAAHAAAAAAAAAAAAAAACAAAAAQAAAAECAQAAAAAAAAAAAQABAQAAAAAAAAAAAAAAAQAAAAAAAAAAAAABAAAAAQAAAAAAAAAAAAEAAAAAAAEAAAAAAAABAwAAAAAAAAEBAAAAAAAAAAAAAAAAAAEAAAIAAAAAAAAAAAIHAAAAAAEAAAAAAAAAAAEBAAAAAAAAAAAAAAAAAQEAAAAAAAAAAAAAAAABAAACAAAAAAACAAAAAAAAAAAAAAAAAAAAAAAAAAAAAAAAAAACAAABAAAAAAAAAAAAAAEAAQAAAAAAAAAAAAAAAAEAAAIAAAAAAAAAAAAAAAAAAAAAAAABAQEAAAAAAAAAAAAAAgAAAAAAAAAAAAAAAAAAAAAAAAAAAAAAAAAAAAAAAQIAAAAAAAAAAAAAAAEAAAAAAAAAAAAAAAAAAAAAAQAAAAAAAAIAAAAAAAAAAAAAAAAAAQAAAAAAAAAAAAAAAAAAAAABAAAAAgABAAAAAAABAAAAAAAAAAAAAAABAAAAAQAAAAAAAAABAAAAAAABAAAAAAEAAAAAAAAAAAAAAAEAAQAAAAAAAAAAAgAAAAAAAAAAAAEBAAAAAAAAAgEAAAAAAAAAAgAAAAAAAAAAAAAAAAAAAAEAAAAAAAABAAABAAAAAAAAAAAABwAAAAAAAAAAAAEAAQABAAAAAAABAAAAAAAAAAAAAAAAAAAAAAAAAQAAAAAAAAAAAAAAAAAAAQAAAAAAAAAAAAAAAAAAAAAAAAAAAAAAAAAAAAEAAAAAAAQAAAAAAAAAAAAAAAAAAAAAAAAAAAAAAAABAAAAAgAAAAAAAQAAAAAAAAAAAQAAAAAAAAAAAAAAAAAAAAAAAAAAAAAAAAAAAAAAAAABAAEAAAAAAQAAAQAAAAAAAAABAAAAAAAAAAAAAQAAAAAAAAAAAAABAQIAAAAAAAEAAAAAAAAAAAAAAAAAAAAAAAAAAAEAAAAAAAAAAAAAAAAAAAAAAAABAAAAAAAAAAAAAAEAAAEAAAEAAgAAAAAAAAAAAAAAAAAAAAAAAAAAAAAAAAAAAAEAAAAAAQAAAAABAAAAAAIAAAACAAEAAAAAAAAAAAAAAAAAAQAAAAAAAAAAAAAAAAAAAAAAAAAAAQAAAQAAAAAAAAAAAQAAAAEAAAIAAQAAAAAAAAAAAAEAAAAAAAAAAAAAAAAAAAAAAAAAAQAAAAAAAAAAAAAAAAAAAAAAAAcAAAIAAAAAAAAAAAAAAAAABwAAAQAAAAAAAAABAQAAAAAAAAAAAAAAAAAAAQAAAAAAAAAAAAAAAAAAAQAAAAAAAAAAAAAAAAAAAAAAAAABAAIAAAAAAAAAAAAAAAAAAAAAAAAAAAAAAAAAAAAAAAAAAAEAAAAAAAAAAQAAAAAAAAEAAAAAAgAAAAAAAAAAAAAAAAAAAAAAAAABAAAAAAEAAAAAAAAAAQAAAAEAAAAAAAAAAAAAAQAAAAEAAAAAAAAAAAAAAAAAAAAAAAAAAAEAAAAAAAAAAAAAAAAAAAAAAAAAAAEAAAABAAABAAEAAAABAAAAAAAAAQcAAAAAAAAAAAAAAAEAAAAAAAAAAAAAAAAAAAAAAQAAAAEAAQAAAAAAAAAAAAAAAQAABwAAAAAAAAACAAAAAAAAAAAAAgAAAAAAAAAAAAAAAAAAAAACAAAAAAAAAAAAAAAAAAAAAgAAAAAAAQAHAAAAAQAAAAAAAAAAAAEAAAAAAAAAAAAAAAAAAAAAAAAAAAAAAAAAAAAAAAAAAAAAAAACAAAAAAAAAAEAAAAAAAEAAAEAAAEAAAAAAAAAAQAAAAAAAAIAAAABAAAAAAEAAAAAAAABAAAAAAAAAAAAAAAAAAAAAAAAAAAAAAAAAgEAAAAAAAAAAAAAAQAAAQAAAAAAAAAAAAAAAAAAAAAAAAEAAAAAAAACAAAAAAAAAAAAAAAAAAAAAAAAAAAAAAAAAAAAAAAAAAAAAAABAAAAAAAAAAAAAQAAAAAAAAEAAAABAAAAAAAAAAAAAQAAAAAAAAAAAAAAAAAAAAAAAAAAAAAAAAAAAAAAAAAAAAAAAAAAAAAAAAAAAAAHAQEAAQAAAAAAAAAAAAAAAAAAAQAAAAAAAAAAAQAAAAAAAAAAAAAAAAAAAAAAAAAAAAAAAAABAAIAAAAAAAIAAAAAAAAABwAAAAAAAAAAAAAAAAAAAAACAAAAAAAAAAACAAAAAAAAAAAAAQAAAAAAAAAAAAAAAAAAAAAAAAAAAAAAAAAAAAEAAAAAAQAAAAAAAAAAAAACAAAAAAAAAAEHAAAAAAAAAAAAAAAAAAAAAAAAAAAAAAAAAAAAAAAAAAABAwAAAAIAAAAAAAAAAAAAAAAAAAAAAAAAAQAAAAAAAAAAAAAAAAAAAAAAAAAAAAAAAAAAAAAAAAAAAAEAAAAAAAAAAAAAAAAAAAAAAAAAAAABAAACAQAAAAAAAAAAAAAAAAAAAAAAAAAAAAAAAAAAAAAAAAAAAAAAAAAAAQAAAAABAAAAAAAAAAAAAAAAAAAAAAAAAAAAAAAAAAAAAAAAAAAAAAAAAAAHAAAAAAAAAAAAAAAAAAAAAAAAAAAAAQAAAAABAAEAAgAAAAEAAgAAAAAAAAABAAAAAAAAAAAAAAAAAAABAAAAAAAHAAAAAQcAAAAAAAEAAAAAAAAAAAAAAAAAAAAAAAAAAQAAAAACAAAAAAAAAAAAAAABAAAAAQAAAQAAAAAAAAAAAAAAAAIAAAAAAAAAAgABAAIAAAAAAAAAAAAAAAAAAAAAAAAAAAEAAAAAAAAAAAACAAAAAAAAAAACAAAAAAAAAAAAAAAAAAABAQAAAAAAAAAAAAAAAQAAAAAAAAEBAAAAAAAAAAAAAQAAAAAAAAAAAAAAAAAAAAAAAAEAAAAAAAABAAAAAAAAAAIAAAAAAgAAAAAAAAABAAAAAAAAAAAAAAAAAAAAAAAAAAAAAAABAAABAAAAAAAAAAAAAAAAAAAAAAEBAAAAAQAAAgAAAAAAAAEAAAAAAAAAAAAABwEAAAAAAAAAAAAAAAAAAAAAAAEAAAAAAAABAAAAAAAAAQACAAABAAABAAEHAgAAAAAAAAAAAAAAAAACAQAAAAABAAAAAAAAAAAAAAAAAAABAAAAAAAAAAAAAAAAAAAAAAAAAAAAAAAAAAAAAgAAAAEAAAAAAgAAAAAAAQAAAAABAAAHAAAAAAAAAAAAAAAAAAADAAAAAAAAAAAAAAAAAAACAAAAAAAAAAcAAAAAAAABAAAAAAAAAAAAAAAAAAAAAAEAAAAAAAAAAQAAAQAAAAABAAAAAAAAAAABAAEBAAAAAAAAAAAABwACAAAAAAAABwAAAAAAAQAAAAAAAAAAAAEBAgAAAAEAAAAAAAAAAAABAQAAAAAAAAAAAAAAAAAAAAAAAAAAAAAAAAAAAAAAAQAAAAAAAAAAAAAAAAAAAQACAAAAAAAAAAAHAAEAAAAAAAEBAAEAAQABAAABAAABAAAAAAABAAAAAAAAAAAAAQACAQAAAAABAAAAAAAAAQEAAAEBAAAAAAAAAAAAAAAAAgEAAAABAAAAAAABAQEAAAAAAAABAAABAAAAAQAAAAACAAAAAAIAAAAAAAAAAQAAAAAAAAAAAgAAAQAAAAAAAAAAAAABAAAAAAEAAAAAAgAAAAEBAAAAAAAAAAAAAAAAAQAAAAABAAEAAAEAAQAAAAAAAQAAAAABAAAAAAAAAAAAAAAAAAAAAQAAAAAAAAABAAAAAAcABwcAAAEAAAAAAAAAAAIAAAAAAAAAAAAAAAABAAAAAAEAAAABAAAAAAAAAAAAAAAAAAAAAAAAAAAAAQAAAAAAAQEAAAAAAAAAAAAAAAAAAQAAAAAAAAABAAAAAAAAAAAAAAABAAABAAAAAAEAAAAAAAABAAAAAAAAAAAAAAAAAAAAAAAAAAAAAAAAAAIAAAAAAAAAAAAAAAAHAAAAAAAAAAEAAAAAAAEAAAAAAQAAAAAAAAACAAAAAAAAAAABAQAAAAAAAAAAAAAAAAAAAAABAAABAAAAAAAAAAAAAAAAAAAAAAAAAAEAAQABAQAHAAAAAAAHAAAAAQEAAAAAAAAAAAAAAAAAAAEAAAAAAAAAAAAAAAAAAAAAAAAAAAAAAgAAAAAAAAAAAAEAAQABAAAAAQAAAAABAAEAAAAAAAAAAAAAAAAAAAACAAEAAAAAAAAAAAAAAAAAAAAAAAAAAAAAAAAAAAIAAAAAAQAAAQAAAAAAAAAAAAAAAAAAAAAAAAAAAAAAAAABAAAAAAABAAAAAAAAAQEAAAAAAAAAAAAAAAAHAAAAAAAAAgAAAAAAAAAAAAAAAAABAAAAAQABAAAAAAAAAAcBAgAAAAIAAAAAAAcAAAAAAAAAAAAAAQAABwAAAAAAAgAAAAAAAAAAAAAAAAAAAAACAAAAAAAAAAAAAQAAAAAAAAAAAAABAAAAAAEAAQAAAQABAAAAAAAAAAAAAAAAAAAAAAAAAAAAAAAAAAABAAAAAAAAAAAAAAABAAAAAAAAAAAAAQAAAAAAAAAAAAAAAAAAAQAAAAABAAAAAAAAAAAAAAAAAAAAAAAHAAAAAAAAAAABAAAAAAAAAAAAAAAAAAAAAAAAAAAAAAAAAAAAAAAAAAAAAAAAAQAAAQEAAAIAAAEAAAAAAAAAAgAAAAAAAAAAAAAAAQAAAAAAAAAAAAABAAAAAAAAAAEAAQABAAAAAAAAAAAAAAAAAAABAAAAAQAAAAAAAAAAAAAAAQEAAAAHAAEBAAAAAAAAAAIAAAAAAAAAAQAAAAAAAAABAAAAAAAAAQAAAAAAAAAAAAAAAAAAAAAAAAAAAAAAAAcAAAAAAAAAAAAAAAAAAAABAAAAAAAAAgAHAQAAAAEAAAAAAAAAAAAAAAAAAAAAAAAAAAAAAAAAAAAAAAAAAAABAAAAAAAAAAABAAAAAAABAAAAAAAAAAAAAQAAAAAAAAAAAAAAAAAAAAAAAQEAAAAAAAAAAAAAAAAAAgAAAgAAAAABAAABAAEAAAAAAQAAAAAAAAAAAQAAAAAAAgEBAAAAAAAAAAABAAEAAAAAAQAAAAAAAAAAAAABAAAAAAAAAAAAAAAAAAAAAAAAAAAAAAEAAAEBAAAAAAAAAQAAAAABAAAAAAAAAAAAAAAAAAAAAAAAAAAAAAAAAAABAAAAAAAAAAAAAAAAAAEAAAEAAAAAAAAAAAAAAQAAAAAAAAAAAQAAAQAHAAAAAAAAAAAAAAAAAAAAAAEAAAAAAAAAAQAAAAAAAQAAAAAAAAAAAAACAAAAAAAAAAAAAAAAAAAAAAABAQAAAAAAAAAAAAAAAAAAAAAAAAAAAQAAAAMAAQAAAAAAAQAAAAAAAAAAAAAAAAAAAAAAAAAAAAEAAAAAAAAAAAACAAAAAAAAAAAAAAAAAAABAAAAAAAAAAAAAAAAAAAAAAAAAAABAAAAAQAAAAAAAAAAAAAAAAAAAAAAAAAAAAAAAAAAAAAAAAAAAAAAAAAAAQAAAAAAAAAAAAEAAAAAAAAAAAAAAAABAAADAAEAAAAAAAAAAAAAAAAAAAAAAAAAAAAAAAAAAAAAAAAAAAACAQAAAAAAAQABAAAAAAAAAQAAAAAABwAAAAAAAAAAAAEAAAAAAAAAAAAAAAAAAAAAAAAAAAAAAAEAAAAAAAAAAAAAAAAAAAABAAAAAAcAAAABAAAAAAAAAAIAAAAAAAAAAQcAAAAAAAAAAAAAAAACAAAAAAEAAAAAAAcAAAAAAAAAAQAAAAAAAAAAAAAAAAABAAAAAAAAAAAAAAAAAAAAAAAAAAAAAAAAAAAAAAAAAAAAAAAAAAAAAQAAAAAAAAAAAAAAAAAAAAAAAAAAAAEAAAAAAAAAAAAAAAAAAAAAAQAAAAEAAAAAAQAAAAAAAAAAAAAAAAACAAAAAAAAAAAAAQEAAAAAAAAAAAAAAAAAAAAAAAAAAAAAAQEAAAEAAQAAAAAAAAAAAAAAAAAAAAAAAAcAAAAAAAAAAAABAAAABwAAAAAAAAAAAAAAAAAAAAAAAAAAAAAAAAAAAAAAAAAAAAIAAAEAAAAHAAAAAAAAAAAAAAAAAAAAAAAAAAAAAAAAAAAAAAAAAAAAAAAAAAACAAcAAAIAAAAAAAAAAAAAAAAAAAAAAAAAAAAAAAAAAAAAAAEAAAAAAAAAAAAAAAABAAEAAAAAAAAAAAAAAAAAAAAAAAAAAAEAAAAAAAAAAAAAAgAAAAEAAQAAAAAAAAABAAAAAAAAAAAAAAAAAAEAAAAAAAAAAQAAAQAAAAAAAAAAAAAAAAABAAAAAAEBAAAAAAAAAAAAAQAAAAAAAAAAAAEAAAAAAAAAAAIAAAAAAAAAAAAAAAAAAAAAAAAAAAAHAAAAAQAAAAAAAAAAAAEBAQAAAAAAAAAAAAAAAAAAAAAAAAAAAAAAAAAAAQAAAAAAAAABAAAAAAAAAAAAAAAAAAAAAAAAAAAAAAAAAAAAAAAAAAAAAAAAAAAAAAAAAAAAAAAAAAAHAAcCAAAAAAAAAAAAAAEAAAAAAAAAAQADAAAAAAAAAAEAAAECAAABAAAAAAAAAAAAAAAAAQAAAAAAAAAAAAAAAAAAAQAAAAAAAAACAQAAAgAAAAAAAAAAAAACAAAAAAAAAAEAAAAAAAAAAAAAAAAAAAAAAAABAAAAAAAAAAAAAAAAAAAAAAAAAAAAAAABAAAAAAAAAAABAQIAAAAAAAAAAAEAAAAAAQEAAQIAAAAAAAAAAAAAAAAAAAAAAAAAAAAAAAAAAAAAAAAAAAAAAAAAAQAAAAAAAAAAAAAAAAAAAAAAAAAAAAEAAQAAAQABAQAAAAAAAAAAAAABAAAAAAAAAAABAAAAAAEAAAAAAAAAAAAAAAAHAAAAAAEAAAAAAAAAAAAAAQAAAAAAAAAAAAAAAAEAAAAAAQAAAAAAAAAAAAAAAAAAAAAAAAAAAAAAAAAAAAAAAAEAAAAAAAAAAQAAAAEBAAAAAAIAAAAAAAAAAQAAAAAAAAAAAAAAAAAAAAAAAgAAAAAAAAABAAAAAQEAAAAAAAEAAAAAAAAAAAAAAAAAAAAAAAAAAAAAAAAAAAAAAAAAAAAAAAAAAAAAAAACAAAAAAAAAAAABwAAAAAAAAAAAAAAAAAAAgAAAAAAAAAAAQAAAAAAAAABAAAAAAAAAAAAAAAAAAAAAAAAAAAAAAAHAAAAAAAAAAAAAAAAAAAAAAEABAAAAAAAAAABAAAAAQAAAAAAAAAAAAAAAAACAAABAAAAAAAAAAAAAAAAAAAAAAAAAAAAAAAAAAAAAAAAAAAAAAAAAAAAAAAAAQAAAQEAAQAAAAAAAAEAAAAAAAAAAAABAAABAAAAAAAAAAAAAAAAAAABAAAAAAEAAAAAAAEBAAAAAQABAAAAAAAAAAAAAAAAAAAAAQAAAAAAAAAAAAAAAAAAAAAAAgAAAAAACAAAAQAAAAEBAAAAAAAAAAAAAAAAAAAAAAAAAAAAAAAAAAAAAgAAAAAAAAAAAAEAAAEAAAAAAAAAAAAAAAAAAAEBAAAAAAAAAAABAAAAAAAAAAAAAAAAAAAAAAAAAAAAAQAAAAAAAQAAAAAAAAAAAAABAAAAAAABAAAAAAAAAAAAAAAAAAEAAAAAAAAAAAACAAEAAAAAAAAAAgAAAAAAAAAAAAAAAAAAAAAAAAAAAQEAAQAAAAAAAAAAAAAAAAAAAAAAAAAAAAAAAAAAAAAAAQAAAAAEAAAAAAAAAAAAAAAAAAAAAQAAAAAAAAAAAAAAAAAAAAEAAgAAAAAAAAAAAAAAAAAAAAAAAQABAAAAAAAAAAEAAAAAAAAAAAEDAAAAAQAAAAAAAAAAAAAAAAAAAAAAAAAAAAABAAAAAAAAAAAAAAABAgAAAAAAAAAAAQAAAAAAAAEAAAAAAAAAAAAAAAAAAAAAAAAAAAAAAQAAAAAAAAAAAAAAAAEAAAAAAAABAAAAAAAAAQAAAAAAAAAAAAABAAAAAAAAAAAAAAAAAAAAAAAAAAAAAAAAAQAAAAAAAAAAAAAAAAAAAAAAAAAAAAABAAAAAAAAAAABAAACAAIAAAAAAAAAAAAAAAAAAAAAAQAAAAAAAAAAAAABAAAAAAAAAAAAAAAAAQAAAAEBAgAAAAAAAAAAAAEAAAAAAAAAAAAAAAAAAAAABwAAAAAAAQAAAAAAAQABAAAAAAAAAAABAgAAAAEAAAAAAAAAAAAAAAAAAAEAAAAAAQAAAQAAAAAAAAAAAQAAAQAAAAAAAAAAAAAAAAAAAQABAAAAAAAAAAAAAAAAAAAAAAAAAAAAAAAAAAAAAAAAAAEAAQACAAAAAAABAAAAAAAAAAAAAAAAAAAAAAAAAAAAAAAAAAAAAAAAAAAAAAAAAQAAAQAAAAAAAAAAAAAAAAEAAAAAAAAAAAAAAAAAAQAAAAAAAAAAAAAAAAAAAAAAAQAAAAAAAAAAAAAAAAAAAAABAAAAAAAAAAABAQAAAAAAAAAAAAEAAAAAAAEAAAAAAAAAAQAAAAAAAAAAAwAAAAEAAAAAAQAAAAABAAAAAAEAAAAAAAAAAAAAAAAAAAEAAAAAAAAAAAAAAAAABwAAAAAAAAABAAAAAAAAAAAAAAABAAAABwAAAAAAAAAAAAAAAQAAAAAAAAABAAEBAAAAAAABAAAAAAAAAAAAAAAAAAAAAQAAAAAAAAAAAAABAAAAAAABAAAAAAAAAAABAAAAAAIAAQABAAABAAAAAAAAAAAAAAAAAAAAAAAAAAAAAAAAAQAAAAAAAAABAAAAAAAAAQABAAAAAAEAAAEBAAAAAAAAAAAAAAABAAAAAAAAAAAAAAAAAAABAAAAAQABAAAAAAEAAAAAAAAAAAAAAAAAAAAAAAAAAAAAAAAAAAACAAAAAAAAAAACAAAAAAAAAAAAAAAAAAAAAAAAAAEAAAAAAAAAAQAAAAAAAAAAAAAAAAAAAAAAAAAAAAEAAAAAAAAAAQAAAQAAAAAAAAEBAQABAAAAAAABAAABAAEAAAEAAAAAAQAAAAAAAAAAAAAAAgAAAAAAAAcBAAAAAAAAAAIAAAAAAAEAAAAAAQAAAAAAAAEAAAAAAQAAAAAAAAAAAAAAAAAAAAAAAAAAAAAAAAAAAAAAAAAAAAABAAAAAAAAAAAAAAAAAAAAAAAAAAAAAAAAAAABAAAAAAAAAAAAAAAAAAAAAAAAAAAAAAEBAAIAAAEAAAAAAAAAAAAAAAAAAAAAAAAAAAAAAAEAAAAABwAAAAAAAAAAAAIAAAAHAQEAAAEAAAAAAAAAAAAAAAACAAAAAAAAAAAAAAEAAAAAAAAAAAAAAAAAAAABAAAAAAAAAAAAAAAAAAAAAAAAAAAAAQAAAAAAAAABAAEAAAAAAAACAAAAAAAAAAAAAAAAAAAAAAAAAAEAAAAAAAIAAAAAAAAAAAEAAAcABwACAAAAAQAAAAAAAAAAAAAAAAAAAAAAAAAAAgACAAAAAAAAAAAAAAAAAAAAAAEAAAEAAAAAAAAAAAAAAAEAAAAAAgEAAAEAAAAAAAAAAAAAAAAAAAAAAAEAAAAAAwAAAAAAAAICAAAAAAAABwAAAAAAAAAAAAAAAAAAAAAAAQAAAQEAAAAAAAAAAAEDAAEAAAAAAAAAAAAAAAAAAAAAAAAAAAAAAAABAAAAAAAAAAAAAAAAAQAAAAAAAAAAAAAAAAEAAAAAAAABAAABAAAAAAAAAQAAAAcAAAEAAAAAAAAAAAAAAAABAAEAAQAAAAcAAAEAAAAAAQAAAQAAAQAAAQAAAAAAAAAAAAEAAQAAAAAAAAAAAAEAAAAAAAAAAAAAAAAAAAAAAgAAAAEAAAAAAQIAAAAABwAAAAAAAAAAAAAAAAAAAAAAAAAAAAABAAABAQAAAAAAAAEAAAAAAAAAAQAAAAABAQAAAAAAAAAAAAAAAAAAAAAAAQAAAAAAAAAAAAEAAAAAAAEAAQAAAQAAAAAAAAAHAAEAAAEAAAABAAEAAAEAAAABAAAAAQEAAQAAAAAAAAEAAAAAAAAAAAABAAAAAAAAAAEAAAAAAAEAAAICAAAAAAcAAAAAAAAAAAAAAAABAAAAAAAAAAAAAAAAAAAAAAAAAAAAAAAAAAAAAQEAAAABAAAAAAAAAAAAAAAAAAAAAAAAAAAAAAABAAAAAQAAAAAAAAAAAAABAAAAAAAHAAAAAAAAAAAAAAEAAAAAAAAAAAAAAAAAAAABAAcAAAAAAAAAAAAAAAABAAEAAAAAAAABAQABAAEAAAAAAAAAAQABAQAAAQAAAAEBAAAAAAEAAAAAAAAAAAABAAAAAAAAAAAAAQAAAAAAAAAAAAAAAAAAAAAAAAAAAAAAAAAAAAAAAAEAAAAAAAAAAAAAAAAAAAAAAAAAAAAAAAECAAAAAAAAAAAAAAEAAAAAAAAAAAAAAAAAAgAAAQABAAAAAAIAAAAAAAEBAAAAAAAAAAEAAAAAAAEAAAAAAAAAAAAAAAAAAAAAAAABAAcAAAEAAAEAAAAAAAAAAAAAAAAAAAAAAAAAAAAAAAEAAAAAAAABAAIAAAAAAAAAAAAAAAAAAQEAAAAAAAAAAAAAAAAAAAAAAQIBAAAAAAAHAAAAAAAAAAAAAAAAAAAAAAAAAAAAAAAAAAEBAAACAAAAAAABAQABAAAAAAAAAAAAAAACAAAAAAAAAQAAAQAAAAAAAQACAQAAAAEAAQAAAAAAAQAAAAAAAAAAAQEAAAAAAAEAAAAAAAAAAAAAAAAAAAAAAAEAAAAAAAAAAAAAAAAAAAAAAQAAAAAAAAAAAAAAAAAAAAABAAAAAAAAAgAAAAAAAAAAAAECAQAAAAEAAQEAAAAAAAAAAAABAAAAAAAAAQAAAAAAAAAAAAAAAAAAAQAAAAAAAAAAAQAAAAAAAAAAAAAAAAIAAAAAAAIAAAACAAEAAAAAAAAAAAAAAAAAAAAAAAAAAAEAAAAAAQAAAAAAAAAAAAEAAQAAAAAAAAAAAAAAAAAAAQAAAAAAAAABAQABAAAAAAAAAAAAAAAAAAIBAAEBAAAAAAIAAAAAAQAAAAAAAAAAAAAAAQEAAAcAAAAAAAEAAAAAAAAAAAAAAAAAAAAAAAAAAAAAAAAAAAAAAQAAAAAAAAAAAAEAAAAAAAAAAAACAQAAAAAABwABAAABAAAAAQAAAAAAAAAAAAAAAQAAAQABAAAAAAAAAAAAAAAAAAAAAAIAAAABAAAAAAAAAAAAAQAAAAAAAAAAAAAAAAAAAAAAAAAAAAAAAAACAAAAAAAAAAABAAAAAAAAAAAAAQEAAAAAAAABAAAAAAAAAAAAAAACAAAAAAAAAAACAQAAAAEAAAAAAAAAAAAAAAAAAAAAAAABAAAHAAAAAAAAAAAAAAAAAAEAAAAAAAAAAAIAAAAAAAAAAAAAAAAAAAAAAAEAAAAAAAEAAAAAAAAAAAAAAQAAAAAAAAAAAAAAAAAAAAAAAQAAAAAAAAEAAAEAAAAAAAAAAAAAAAAAAAAAAgAAAAAAAAAAAAAAAAAABwAAAAEAAAAAAAAAAAAAAAAAAAAAAAAAAgAAAAEAAAAAAAAAAAAAAAAAAQAAAAAAAAABAAAAAAAAAAAAAAAAAAAAAAAAAAAAAAAAAAAAAAAAAAAAAAEBAAABAAAAAAAAAAAHAAAAAAEAAAAAAAAAAAAAAgABAAACAAAAAAAAAAEAAAAAAAAAAAAAAAEAAAAAAQAAAAAAAAAAAAAAAAEAAAAAAAACAAACAAAAAAAAAAAAAQAAAAAAAAAAAAACAAAAAAAAAAAAAAAAAAAAAAAAAQAAAAAAAAAAAAAAAAAABwAAAAAAAAAAAAAAAAAAAAAAAAIBBwAAAAAAAAAAAAAAAgAAAAAAAAAAAAAAAAAAAAABAgAAAAEBAAAAAAAAAAEAAAAAAAAAAAAAAAAAAAABAAABAAAAAAAAAAAAAAABAAAAAAAAAAAAAAAAAAAAAAEAAAAAAAAAAAAAAAAAAAAAAAAAAAAAAAEAAAAAAAIAAAIAAAAAAAEAAAAAAAAAAAAAAAAAAAAAAAAAAQAAAAAAAAAAAAAAAAAAAAAAAAAAAAEAAAABAAAAAAAAAAAAAAAAAAAAAAAAAAAAAAABAAABAQAAAAAAAAAAAAAAAgAAAAAHAAAAAQAAAAAAAAAHAAAAAAAAAAAAAAAAAAAAAAAAAAAAAAAAAAAABwEAAAAAAAAAAAIAAAEAAAAAAAAAAQAAAAAAAAMBAQAABwAAAAAAAAAAAAAAAAAAAAAAAAAAAAAAAAAAAAAAAAAAAAACAQAAAQAAAAAAAAAAAAAAAAAAAAEBAAcAAAEAAAEAAAAAAAAAAAABAAAAAQAABwAAAAAAAAAAAAAAAAAAAAAAAAAAAAAAAAAAAAEAAAAAAAEAAAAAAAAAAAAAAAAAAQAAAAAAAAACAAACAAAAAAAAAAAAAAACAAABAAAAAAAAAAEAAAAAAAAAAAABAAAAAAAAAQABAAAAAAAAAAAAAAAAAAAAAAIAAAAAAAAAAAAAAAEAAAABAAAAAAEAAAAAAAAAAAAAAQABAAAAAgAAAQEBAAAAAAAAAAAAAAAAAAAAAAIAAAEAAAAAAAAABwEAAAAAAAAAAAAAAAEAAAABAQAAAAAAAAABAAAAAAABAAAAAAAAAAAAAAcAAAEAAAAAAAAAAAAAAAABAAAAAAAAAAAAAAEAAAABAAAAAgAAAAABAAAAAAAAAAAAAAAAAAAAAAAAAAABAAABAAACAAAAAAAAAAAAAAEAAAAAAAAAAAEAAAAAAAAAAAAAAAAAAAAAAAAAAAAAAAAAAgEBAAAAAAAAAAAAAAAAAQAAAAAAAAEAAAAAAAAAAAAAAAAAAAABAAAAAQEBAAAAAAAAAAACAAAAAAAAAQAAAAcAAAAAAAABAAAAAAAAAAAAAAAAAAAAAAAAAAAAAAABAAAAAAAAAAAAAAAAAQAAAAAAAAAABwABAQAAAgAAAAAAAAAAAAAAAAEAAAABAAEAAQAAAAAAAAAAAAAAAAEAAAAAAAEBAAAAAAABAAAAAAAAAAAAAAAAAAABAQIAAAAAAAEAAAAAAAABAAAAAAAAAAAAAAAAAAACAAAAAAAAAAEAAAAAAAAAAAAAAAEHAAAAAQAAAAcAAAEAAAAAAAAAAAAAAAAAAAAAAAAAAQIHAAAAAAACAAABAAAAAAAAAAAAAQEAAAIAAAAAAAAAAAACAAAAAAAAAQAAAQAAAQABAAAHAAAAAAEAAQAAAAAAAQIAAAAAAAAAAAAAAAEAAAAAAAAAAAAAAAAAAAAAAAAAAQEAAAAAAAAAAAAAAAAAAAAAAAABAAEAAAAAAAAAAQAAAAcAAQAAAAEAAAAAAAAAAAABAAAAAQAAAAAAAAAAAAAAAAAAAAAAAAAAAQAAAAAAAAAAAAEAAAEAAAAAAAAAAAAAAQAAAAAAAAAAAAAAAAAAAAAAAAEAAAAAAAAAAwAAAAAAAAAAAAACAQAAAAEAAAABAAAAAAEAAAACAAAABwEAAAAAAAABAAAAAAAAAAAAAAAAAAEAAAAAAAABAAAAAAAAAAAAAAAAAAAAAAAAAQAAAAEAAAAAAAABAAAAAAABAQAAAAAAAAABAAAAAAAAAAAAAAABAQAAAAAAAAAAAAAAAAAAAAAAAAAAAAAAAAAAAAABAAAAAAABAQAAAAAAAAAAAAAAAAEAAAABAAEAAAABAAABAAAAAAAAAAAAAAAAAAAAAAAAAAAAAgAAAAEAAAAAAAABAAEAAAAAAQAAAAcAAAABAAAAAAAAAAAAAAAAAAABAQABAwAAAAABAAAAAAAAAAAAAAAAAgABAQAAAAEAAAAAAAAAAAAAAAAAAAAAAAAAAAAAAAEAAAEAAAAAAAAAAAAAAAAAAAAAAAAAAAAAAAAAAQAAAAEAAQcCAAEAAAAAAAAAAAEAAAAAAAAAAAAAAAAAAAAAAAAAAQAAAAAAAAAAAAACAAAAAAAAAAABAAAAAgAAAgAAAAEAAAAAAAAAAAAAAQAAAAAAAAAAAAAAAAAAAAAAAAAAAAAAAAAAAAAAAAAAAAEAAAAAAAAAAAAAAAAAAAAAAAAAAAACAAAAAAAAAAAAAAEAAAAAAAABAAAAAAACAgAAAQAAAQAAAAAAAQAAAAAAAAAAAAAAAAAAAAAAAQAAAQAAAAIAAAEBAAAAAAAAAAACAAAAAAAAAQAAAAAAAAAAAAAAAQAAAAEAAAAAAAEAAQAAAAAAAAAAAAABAAAAAAEAAAADAAAAAAAAAAAAAAAAAAAAAAAAAAEAAQAAAAAAAAAAAAAAAAABAAAAAAAAAAAAAQEBAQAAAAAAAAABAAAAAAAAAAAAAAAAAAEAAQAAAAAAAAAAAAAAAAAAAQEAAAAAAAAAAQAAAAAAAAAAAAAAAAAAAAAAAAAAAAAAAgAAAQAAAAAAAAABAAEAAAEAAAAAAAAAAAAAAAAAAAABAAAAAAEAAAAAAAAAAAAAAAAAAAAAAAAAAAAAAAAABwAAAgABAAAAAAAAAAAAAAAAAAAAAAAAAAAAAAAHAAAAAQAAAQAAAAAAAQAAAQAAAAAAAAAAAAAAAAAAAAAAAAAAAAEAAAAAAAAAAQAAAAAAAgAAAAAAAAcAAAAAAAAAAAAAAAAAAAAAAAEAAAAAAAAAAAABAAAAAAEAAAAAAAAAAAAAAAAAAAAAAAEABQEAAAAAAAAAAAAAAAAAAAAAAAAAAAAAAAAAAAAAAAAAAAAAAAAAAAAAAQAAAQAAAAAAAAcBAAAAAAABAAAAAQAAAAIAAAAAAAAABAAAAAAAAAAAAAICAAAAAAAAAAAAAAAAAAAAAAAAAAcAAAAAAAAAAAAAAAAAAAEAAAEAAAAAAAABAAAAAAIAAAABAAAAAAAAAAAAAAAAAAAAAAAAAAAAAAEBAAAAAAAAAAAAAAAAAAAAAAAAAAABAAAAAAAAAAABAAAAAAAAAAAAAAAAAAAAAAAAAAIAAAAAAAAAAAAAAAAAAAAAAAAAAAAAAAAAAAAAAAAAAAAAAQAAAAAAAAABAgEAAAAAAAAAAAAAAAAAAAAAAAABAAAAAAAAAAABAQEAAAAAAAAAAAAAAAAAAgABAAABAAAAAAAAAAAAAAAAAAAAAAAAAAAAAAAAAAEAAAIAAAAAAAAAAAAAAAAAAQABAAAAAAAAAAAAAAAAAAAAAAAAAAAAAAAAAAAAAAAAAAAAAAAAAQEAAAAAAQAAAAAAAAAAAgAAAAAAAAAAAAAAAAAAAAAAAAAAAAABAAEAAAAAAAAAAQAAAAAAAAAAAAAAAAAAAAAAAAAAAAAAAAAAAAAAAAAAAAEAAAAAAAAAAQAAAAcAAAAAAAAAAQAAAAAAAAAAAQAAAAAAAAAAAAAAAQAAAAAAAAABAAAAAAAAAAAAAAAAAAABAgAAAQAAAAABAAAAAAAAAAAAAAAAAAAAAAEAAAAAAAEAAAAAAAEAAAAAAAAAAAAAAAAAAAABAAAAAgEAAAAAAAAAAAAAAAAAAAAAAAABAAAAAAAAAAAAAAAAAAAAAAAAAAAAAQAAAAAAAAAHAAAAAAAAAAAAAAAAAAAAAAAAAAAAAAAAAAAAAAAAAAAAAAEAAAAAAAAAAAAAAAAAAAABAAAAAAAAAAAAAAAAAAAAAAAAAAAAAAAAAQAAAAABAAAAAAAAAgAAAAABAAEAAQAAAAAAAAEBAAAAAAABAAAAAQAAAAAAAAAAAAAAAAAAAAAAAAAAAAAAAAAAAAAAAAEBAAAAAAAAAAAAAAAAAAAAAAAAAQAAAAAAAAEBAAEAAAEAAAEAAAAAAAAAAAAAAAAAAAAAAAAAAAEAAAAAAAAAAAAAAAAAAQAAAAABAAAAAAAAAAACAAEAAAAAAAAAAAAAAAAAAAAAAAAAAAAAAAAAAAEAAAAAAAAAAQAAAAAAAAAAAAAAAAABAAAAAAAAAQAAAAAAAAAAAAAAAAIAAAEBAAAAAAAAAAABAAAAAAAAAAEBAAABAAAAAAAAAAAAAAAAAAAAAAAAAAACAAAAAAAAAAAAAgAAAAAAAAIAAAAAAAAAAAAHAAAAAAAAAAAAAAAAAAAAAQAAAAAAAAAAAAEAAAAAAAAAAgAAAAAAAQAAAQAAAAAAAAIAAAABAAIAAQAAAQAAAAAAAAAAAAAAAAAAAAEAAAAAAAAAAQAAAAAAAQAAAAAAAAAAAAAAAAAAAAAAAAAAAAAAAAAAAQAAAAAAAAABAAAAAAAAAAAABwAAAQAAAAAAAAAAAAAAAAAAAAAAAAAAAAAAAAAAAAAAAAAAAAAAAAAAAAAAAAAAAAAAAAAAAAABAAAAAAABAAAAAAAAAAAAAAAAAAAAAAABAAAAAQEAAAAAAAAAAAAAAAAAAAAAAAAAAAAAAAABAAAABwAAAAAAAAAAAAAAAAABAAAAAAAAAAABAAAAAAAAAAAAAQAAAAABAQAAAQAAAAAAAAAAAAAAAAAAAAAAAAAAAQAAAAAAAAAAAAAAAAAAAQAAAAAAAgAAAAAAAAAAAAAAAgAAAAAAAAAAAAAAAAAAAAAAAAIAAAAAAAEAAAAAAAAAAAAAAAAAAAAAAAAHAAAAAAAAAAABAAAAAAAAAAAAAAAAAAAAAAAAAAAAAAAAAAABAAAAAAAAAAAAAAAAAAAAAAEAAAAAAgAAAAEAAAAAAAAAAAAAAAAAAAAAAAAAAAAAAAAAAAAAAAAAAAAAAAAAAQAAAAAAAAIAAAABAAAAAAAAAAAAAAAAAAACAAAAAAACAAAAAAAAAAAAAQAAAQAAAQAAAAEAAAAAAAAAAAAAAAAAAQAAAAAAAAEAAAAAAAIAAAABAQEAAAAAAQAAAAAAAAAAAAAAAAIAAAAAAAEAAAAAAAAAAAAAAAAAAAAAAAAAAAAAAAEAAAAAAAIAAAAAAAAAAAEAAAAAAAAAAAAAAAAAAAAAAAAAAAAAAAEAAQAAAAEAAAABAAABAAAAAAABAAAAAQAAAAEAAAAAAAAAAAAAAAAAAAAAAAAAAAAAAAAAAAABAAAAAAACAAAAAAAAAQABAAAAAQAAAAAAAAAAAAAAAAAAAAAAAAAAAAAAAAAAAAAAAAAAAAAAAQEAAAAAAAAAAAAAAAAAAAAAAAAAAAAAAAcAAQAAAQAAAAABAAAAAAEAAAAAAAAAAAAAAAAAAAAAAAIAAAAAAQAAAAAAAAAAAAABAAAHAAAAAAAAAAAAAAEAAAACAAAAAAAAAAAAAAAAAAAAAQAAAAEAAAAAAQAAAAAAAAAAAAAAAAAAAAABAAAAAgECAAAAAAAAAAAAAAABAAEAAAAAAAAAAgAAAAAAAAAAAAAAAAAAAAAHAAACAAAAAAAAAAAAAAAAAAEAAAAAAAEHAAAAAAABAAAAAAABAAEAAAAAAAAAAAABAAAAAAAAAAABAAAAAAAAAAAAAAEAAAAAAAAAAAABAgAAAQACAAABAAAHAAAAAAAAAAAAAAAAAAAAAAAAAAAAAAABAAAAAAAAAAAAAAABAAEAAAAAAAAAAAAAAAAAAAAAAAAAAAAAAAAAAQACAAAAAAABAAABAAAAAAABAAAAAAAAAAAAAAAAAAAAAAABAAEAAAAAAAAAAQAAAQAAAAAAAAAAAAAAAAAAAAAAAAAAAAAAAAAAAAAAAAAAAAAAAAAAAQAAAAAAAAAAAAAAAgAAAAAAAgAAAAEAAQAAAAAAAAABAAACBwABAAAAAAAAAAAAAAAAAAAAAAAAAAAAAAAAAAAAAAAAAQAAAAAHAAAAAAAAAAAAAgAAAAAAAAAAAAAAAAABAQAAAAAAAAAAAAAAAQAAAAAAAQAAAAAAAAEAAAAAAAEAAAAAAAAAAAAAAAAAAAAAAAAAAAABAAIAAAAAAAAAAAAAAAAAAAAAAAAAAAAAAAEAAAAAAAAAAAAAAAABAAABAAAAAAAAAAAAAAEAAAAAAAAAAAABAAABAAAAAAAAAAABAAABAAABAAAAAAACAAAAAAAAAAAAAAAAAAAAAQAAAAAAAAAAAAAAAAAAAAAAAAAAAAAAAAAAAAAAAAAAAAAAAAAAAAAAAAAAAAEAAAABBwEAAQAAAAABAQAAAAEAAAAAAAAAAAABAAAAAAAAAAAAAAAAAAEBAAEBAQABAAAAAAAHAAAAAQAAAAAAAAABAAAAAAAAAAAAAAAAAAAAAAAAAAAAAAAAAAAAAAAAAAAAAAEAAAAAAAABAAAAAAAAAAAAAAAAAAAAAAEAAAAAAAAAAQAAAAAAAAAAAAAAAgAAAAAAAAAAAAAAAwAAAAAAAAACAAAAAAAAAAAAAAAAAAAAAAAAAAAAAAAAAAAAAAAAAAAAAAABAAAAAAAAAAAAAAAAAAIAAAEAAAEAAAAAAAEAAAAAAQAAAAEAAAABAAAABwAAAAAAAAAAAAEAAAEAAAAAAAAAAAAHAgAAAAEAAAAAAAABAAAAAAAAAAAAAAAAAAABAAAAAAABAAAAAAAAAQAAAAAAAAAAAAAAAAAAAQAAAAAAAAAAAAIAAAAAAAAAAAAAAAAAAAAAAAAAAAAAAAABAAEAAAAAAAAAAAAAAAAAAAAAAQAAAAAAAAAAAAAAAAAAAQAAAAACAAAAAAECAAAAAAABAAAABwAAAQACAAAAAAAAAAAAAAAAAAAAAQEAAAAAAAAAAAAAAAAAAAAAAAAAAAAAAAAAAAAAAAABAAAAAgAAAAEAAAAAAAAAAAAAAAAAAAAAAAAAAAAAAAAAAAAAAAAAAAMAAAAAAAAAAgAAAQAAAAAAAAAAAAAAAAAAAAAAAAAAAAABAAAAAAAAAAAAAAAAAAAAAAAAAAAAAAAAAAAAAAAAAQAAAAAAAAEAAAAAAAAAAAABAAAAAAcAAAAAAAAAAQEAAAAAAAAAAAAAAAEAAAAAAAAAAAAAAQAAAAAAAAAAAQAAAAEAAAAAAAAAAAAAAAAAAQABAAAAAAEAAAAAAAEAAAABAAAAAgAAAAAAAAAAAAIAAAAAAAAABwAAAAAAAAAAAAAAAAABAAAAAAAAAAAAAAEAAAAAAAAAAAAAAAAAAAAAAAAAAAAABwAAAAAAAAAAAgAAAAAAAAABAAAAAAAAAAAAAAAAAAAAAAAAAAAAAAAAAAACAAACAAAAAAAAAAAAAAAAAQAAAAAAAAAAAAAAAAAAAAAAAAAAAAAAAAAAAAAHAAAAAAAAAAAAAAAAAAAAAAAAAQAAAAAAAAAAAAAAAAAAAAAAAAAAAAAAAAEAAAABAAAAAAABAAABAQAAAAAAAAAAAAEAAAAAAAAAAAAAAAAAAAAAAAAAAAAAAAAAAAAAAAAAAAAAAQIAAAAAAAAAAAAAAAEAAAAAAAAAAAAAAQAAAAEAAAAAAQAAAQAAAAABAAAAAAAAAAAAAAAAAAAAAAAAAAAAAAAAAAAAAAAAAAAAAAAAAAAAAAAAAAAAAAABAAAAAAIAAAAAAQAAAAAAAAAAAAAAAAAAAAAAAAAAAAAAAAEAAAAAAAAAAAAAAAAAAAAAAAEAAAAAAAAAAAABAAAAAQAAAAACAAAAAAAAAAAAAAAAAAABAAAAAAAAAAAAAAAAAAAAAAABAQAAAAAAAAAAAAAAAAAAAAAAAAAAAAEAAAAAAAAAAAAAAQAAAQAAAAAAAAAAAAAAAAAAAAAAAAAAAAAAAgAAAgAAAAABAAAAAAAAAAAAAAAAAAAAAAEAAAAAAAAAAAAAAAABAgIBAAAAAAAAAAAAAAEAAAABAQAAAAAAAAAAAAAAAAcBAAAAAAAAAAAAAAAAAAAAAAAAAAAABwEAAQAAAQAAAAEAAAAAAAABAAEAAAAAAAAAAAAAAAACAAAAAAEAAAABAAACAAAAAAAAAgAAAAAAAAAAAAAAAAABAAAAAAAAAAACAAAAAAIBAAAAAQACAAAAAAAAAQAAAAAAAAAAAAAHAQAAAAAAAAAAAAAAAAAAAAAAAAAAAAAAAQAAAAAAAAEAAAEAAAAAAAAAAQcAAAAAAQAAAAAAAAAAAAAAAAAAAAAAAAAAAAABAAEAAAAAAAEAAAAAAAAAAAAAAAAAAAAAAAAAAAAAAAAAAAAAAAAHAAABAQEAAQAAAAAAAAAAAAAAAAAAAAAAAAABAAAAAAAAAAAAAAAAAAABAAAAAAABAAAAAAAAAAAAAAABAAAAAQEAAQAAAAAAAAAAAAAAAAAAAAAAAAAAAQAAAQAAAQAAAAAAAAAAAAAAAAAAAAAAAAEBAAAAAQAAAAAAAAEAAQAAAAAAAAAAAAAAAAAAAAEAAAAAAAAAAAEBAAABAAABAAAAAAAAAAAAAAAAAAEAAAAAAQEAAQAAAAAAAAAAAAAAAAAAAgAAAAcAAAAAAAEAAAAAAAEBAAAABwABAAAAAQEAAwAAAAAAAAAAAAAAAAABAAAAAgAAAAAAAAAABwAAAAAAAAAAAAAAAAAAAAAAAQAAAAAAAAAAAAAAAAAAAQAAAAAAAAIAAAAAAAAAAAAAAAAAAAAABwACAAEBAAABAAEAAQAAAQAAAAAAAAABAAAAAAAAAQEAAAAAAAMAAAAAAAAAAAAAAAAAAAAAAAAAAAAAAAAAAAAHAAAAAQAAAQAAAAAAAAABAAAAAAACAAACAAAAAAAAAAAAAAAAAAABAQIAAAAAAAAAAAAAAQAAAAAAAAAAAAABAAAAAQACAQAAAAAAAAAAAAAAAQAAAAAAAAAAAAAAAAIAAAAAAAAAAAAAAAAAAAECAQAAAQACAgABAAAAAAAAAQAAAAABAAEAAAAAAAAAAAAAAAAAAAAAAAEBAAAAAAAAAAABAAAAAAAAAAAAAAAAAAEAAAAAAAAAAAAAAQEBAAAAAAAAAQAAAAAAAAAAAAAAAAAAAAACAAAAAAAAAAEAAAAAAAAAAAAAAAAAAAAAAAAAAAAAAAAAAQAAAAAAAQAAAAAAAAAAAQEDAAAAAQAAAQAAAAAAAAAAAAAAAAAAAAAAAAACAAAAAAAAAAIAAAAAAAAAAAAAAAIAAAEAAAABAAAAAAAAAQEBAAAAAAAAAQAAAAAAAQAABwAAAAAAAAAAAAAAAAAAAAAAAAAAAAAAAAAAAAAAAAAAAAAAAAAAAAAAAgAAAAAAAAAAAAAAAAACAAAAAAAAAAAAAAAAAAABAAAAAQAAAQABAAAAAAAAAAAAAAEAAAAAAAAAAAAAAAABAAAAAAAAAAAAAAAAAAEAAAAAAAAAAQAAAAAAAAABAAEAAAAAAAABAAAAAAAAAAABAAABAAAAAAAAAAAAAAcBAAAAAAAAAAAAAAAAAAAAAAAAAAAAAAAAAAAAAAAAAAAAAAAAAAAAAAAAAAAAAAAAAAABAAEAAAECAgABAAAAAAABAAAAAAAAAQEAAAAAAAAAAAABAQcAAAIAAAcAAAAAAQAAAQAAAAAAAAAAAAABAAAAAAAAAAACAAAAAQAAAAAAAAEAAQABAAAAAAAAAAAAAAAAAAAAAAAAAAAAAAAAAAABAQAAAAAAAAAAAAEAAAAAAAAAAAAAAAAAAAEAAQAAAAAAAAAAAAAAAAEBAAAAAgAAAAABAAABAAAAAAEAAAAAAQAAAAAAAAAAAAAAAAAAAAABAAAAAAcAAQAAAAAAAAAAAAABAQAAAQAAAAAAAAAAAAAAAAAAAAEAAAAAAAcAAAEBAAAAAAAAAQAAAAAAAAABAAACAAAAAAAAAAAAAQAAAAAAAAAAAAAAAAAAAAAAAAAAAAAAAAAAAAAAAAAAAAAAAAAAAAAAAAAAAAAAAAEAAAAAAAAAAAAAAQEBAAAAAAAAAAAAAAAAAQAAAAAAAAAAAAAAAAABAAAAAAAAAAAAAAACAAAAAQAAAAAAAAAAAAEAAAABAAAAAAAAAAAAAAAAAQAAAAAAAAAAAAEAAAAAAAEAAAAAAAAAAAAAAAAAAAAAAAAAAAAAAAAAAAAAAAAAAAAAAAAAAAAAAAAAAAAAAAAAAAAHAAAAAAAAAAAAAAEAAAAAAAABAAAAAAcAAAAAAAAAAAAAAAAAAAAAAAAAAAAAAAAAAAAAAQAAAAAAAAAAAAAAAAAAAAAAAAAAAAAAAAAAAAAAAAACAAABAAAAAAABAQAAAQAAAAAAAAAAAAAAAQEHAAEAAAEAAAAAAAAAAAEAAAAAAAAAAAAAAAAAAAAAAQAAAAAAAgEAAAEBAAAAAgAAAAAAAAAAAAABAAAAAAAAAAAAAAAAAAAAAAABAQAAAAABAAAAAAAAAAAAAQAAAAAHAAACAAABAAECAAAAAAAAAQAAAAAAAAAAAAAAAgAAAAAAAAIAAAAAAAAAAAEBAAAAAQAAAAABAAAAAAAAAAAAAAACAAAAAAAAAAAAAAAAAAAAAAAAAQAAAAAAAAcAAAAAAQAAAAAAAAAAAAAAAQABBwAAAAAAAAABAAAAAAEAAAAAAAEAAAAAAgAAAAAAAAAAAAAAAAAAAAAAAAAAAAAAAAAAAAAAAAAAAAAAAAAAAAAAAAAAAAAAAAEAAAAAAAAHAAAAAAAAAAAAAAABAAAAAAAAAQAAAAAAAAAAAAAAAAAAAAAAAAAAAAAAAAAAAQEAAAAAAAAAAAEAAQAAAAAAAAAAAAAAAAAAAAEAAAAAAAABAAAAAAAAAAABAAABAQAAAAAAAAEAAAAAAAAAAAABAAEAAAAAAAAAAQAAAAAABwAAAAAAAAACAAAAAAAAAAEABwAAAAEAAAAAAAABAAAAAAAAAQAAAAAAAAAAAAAAAAAAAAAAAAABAAAAAAAAAAAAAAAAAQAAAQEAAAEBAQAAAAAAAAAAAAAAAAEAAQAAAAABAQAAAQAAAAAAAAAAAQEAAQAAAAAAAAAAAgAAAQAAAAAAAAAAAAIAAAAAAAAAAAAAAAEAAAAAAAAAAAAAAAAAAAAAAAABAgEAAAAAAAAAAAAAAAAAAAAAAAABAAAAAQAAAAEAAAAAAAAAAAAAAAAAAAAAAAAAAAAAAAAAAAACAAAAAAAAAAAAAAEBAAAAAAEAAAAAAAAAAAAAAAACAAAAAAAAAAAAAAAAAAAAAAAAAQEAAAAAAAcABwAAAAAAAAAAAAABAAAAAAAAAAAAAAEBAAAAAAABAAAAAAAAAAAAAAAAAAAAAAAAAAAAAAEAAAAAAAABAAABAAABAAAAAAAAAQAAAAAAAAABAAAAAAEAAAAAAAAAAAAAAQAAAAcBAAAAAAAAAAAAAAAAAQAAAAAAAAAAAQAAAAAAAQAAAAAAAAAAAAAAAAAAAAAAAAAAAAAAAAAAAAAAAAAAAAAAAAAAAAAAAAAAAAAAAAAAAAEBAAACAAAAAAAAAAcAAAAAAAAAAAAAAAAAAAAAAAAAAAAAAAAAAAEBAQAAAAAAAAAAAAAAAgcDAAEAAAAAAAAAAAAAAAAAAQAAAAAAAAAAAAIAAAAAAAAAAAAAAAABAgAAAAAAAAAAAAAAAAAAAAAAAAAAAAAAAAAAAgAAAAAAAAAAAAAABwAAAAAAAAACAAAAAAAAAAAAAAEAAAAAAgAAAAAAAAAAAQAAAAAAAAEBAAAAAAAAAAEAAAABAAACAAAAAAAAAAABAQABAAAAAAAAAAEAAAABAAAAAAAAAAAAAAAAAAAAAAABAAEAAAAAAAAAAAAAAAAAAAAAAAIAAAAAAAAAAAAAAAAAAAAAAAAAAAAAAAAAAAAAAAAAAAIAAAAAAAAAAQEAAAAAAAAAAAAAAAAAAQAAAAAAAAAAAAAAAAAAAAAAAAAAAAAAAQAAAAACAAEBAAAAAAAAAAMAAQcAAAAAAAAAAQAAAAAAAAAAAAAAAAAAAAAHAAEAAAAAAAAAAAAAAAAAAAAAAAAABwAAAAAAAQAAAAEAAAAAAAAAAAABAAIAAAACAAAAAAAAAAAAAAAAAAAAAAAAAAAAAAAAAQEAAAEAAAAAAAAHAAABAAAAAAAAAAAAAAAAAAAAAAABAAABAAAAAAAAAAAAAAAAAAAAAAAAAAAAAAEAAAAAAAAAAAAAAAABAAAAAAcHAAAAAAAAAQACAQAAAAAAAAAAAAAAAAAAAAAAAAAAAAAAAAAAAAAAAAAAAAAAAAAAAQAAAAABAAEAAQEAAAEAAAAAAAAAAAAAAAAAAAAAAAAAAAAAAAIAAAAAAQAAAQAAAAAAAAEAAAAAAAAAAAEAAAAAAAEAAAAAAAAAAAAAAQAAAAAAAAAAAAAAAAAAAQAAAAAAAAAAAAABAQABAAAAAAAAAAAAAAEAAAAAAAAAAAAAAAAAAAAAAAAAAAAAAAAAAgAAAAAAAAAAAAEAAQACAAAAAAAAAAAAAAcAAAEBAAAAAAAAAAAAAAAAAAAAAAAAAAAAAwAAAAABAAAAAAAAAAAAAAAAAAAAAAAAAAAAAQAAAAAAAAIAAAAABwAAAAAAAAAAAAABAQAAAAAAAAABAAAAAAAAAQAAAAAAAAAAAAACAwAAAAAAAQAAAQAAAAAAAAACAgAAAAEAAAICBwAAAAAAAAEAAAACAAAAAAAAAAAAAAAAAAEAAAAAAAAAAAAAAAACAAAAAAEAAAACAAAAAAAAAQAAAAAAAAEHAAEAAAABAQAAAAAAAAAAAQAAAAAAAAABAAABAAAAAAEAAAAAAAAAAQAAAAAAAAAAAAAAAAEAAAAAAAAAAAABAAAAAAEAAAAAAQAAAAAAAAAAAAAAAAAAAAAAAAAAAAEBAAAAAAAAAAAAAAAAAAAAAAAAAAAAAAEAAQAAAAAAAAAAAQAAAAAAAAAAAAAAAAAAAAAAAAABAAAAAAAABwAAAAAAAAAAAQAAAQAAAQAAAAAAAAAAAAAAAAAAAAAAAAAAAAAAAAcAAAAAAAAAAAAAAAEAAAAAAQAAAAAAAAAAAAAAAAAAAAAAAAAAAAAAAAAHAAAAAAAAAAAAAAAAAAAAAQABAAAAAAAAAAAAAAAAAAAAAAAAAAAAAAEAAAAAAAAAAAEAAAAAAAAAAAAAAAEAAAABAAAAAAABAAAAAAAAAAAAAAAAAAABAAECAAAAAAEAAAEAAAAAAQAAAAEAAQEAAAAAAAAAAAABAAAAAAAAAAAAAQAAAAAAAAAAAAAAAAAAAAAAAAAAAAEAAAAAAAAAAAAAAAAAAAAAAAAAAAAAAAAAAAEAAAAAAAAAAAAAAAAAAAAAAAACAAABAAAAAAAAAAAAAAAAAAAAAAAAAAAAAAAAAAAAAAAAAAIAAAAAAQAAAAAAAAAAAAAAAAAAAAAAAAAAAAAAAAAAAAABAAAAAAAAAAAAAAAAAAAAAAEAAAAAAAAAAAAAAAAAAAAAAAABAAAAAAAAAQAAAAAAAQAAAAAAAAAAAAAAAAEAAAAAAAAAAAAAAAAAAAAAAQAAAAAAAAAAAAABAAAAAAAHAAAAAAAAAAAAAAEAAAAAAQABAAEAAAAAAAAAAAAAAAABAAAAAQACAAAAAAAAAAAAAAAAAAEAAQAAAAAAAAAAAAAAAAAAAAAAAAAAAAAAAAAAAAABAQABAAABAAAAAAAAAAAAAAAAAAAAAAAAAAAAAAAAAAEAAAAAAAAAAAAAAAAAAAAAAAEAAAAAAAAAAQAAAAIAAAAAAAAAAAAAAAEAAQEBAAAAAAAAAAAAAAEAAAABAAAAAAAAAAAAAAABAAAAAAMAAAAAAAAAAQIBAAAAAAAAAAEAAAAAAAAAAQEAAAAAAAAAAAcAAAAAAAAAAAAAAAAAAAACAAAAAAAAAAAAAAAAAAAAAAAAAAAAAAAAAAAAAAAAAAEAAAAAAAAAAAAAAAAAAAAAAAAAAAAAAAAAAAEAAQAAAAAAAQAAAAAAAAAAAAAAAAABAAEAAAAAAAAAAQAAAAAAAAAAAAAAAAAAAAAAAAAAAAAAAAAAAAAAAAAAAAAAAAAAAAAAAAAAAAAAAAAAAAAAAAEBAAAAAAAAAAAAAAAAAAAAAAABAAABAAAAAAACAAAAAAAAAAAAAAAAAAAAAAABAAIAAAAAAQAAAAAAAgAAAAAAAAAAAAAAAAAAAAAAAAAAAAEAAAAAAAAAAAAAAAAAAAAAAAAAAQEAAAAAAAABAAAAAAAAAAEABwcAAAAAAAAAAAAAAAAAAAAAAAEAAAEAAAAAAAABAAAAAAAAAAcAAAAAAAAAAAEAAQAAAAAAAAAAAAAAAAAAAAAAAAAAAAAAAAABAAAAAAAAAAAAAAACAQAAAAAAAAAAAAAAAAAAAAAAAAAAAAAAAQEAAAAAAAAAAAEAAAAAAAAAAAAAAAAAAAAAAAAAAAEBAAAAAAAAAQAAAAAAAAAAAQAAAAAAAAAAAAAAAAAAAAAAAAAHAAAAAAAAAAEAAAAAAAAAAAAAAAAAAAAAAQAAAAAAAAAAAAAAAAAAAAAAAAAAAAEAAAAAAQAAAAAAAAAAAAABAQAAAAEAAAAAAAAAAAAAAAAAAAABAAAAAQAAAAAAAgAAAAAAAAIAAQAAAAAAAAIAAAAAAAAHAAAAAAAAAAAAAAAAAAABAAAAAAABAAAAAQAAAAAAAAABAAAAAAAAAAAAAAAAAgAAAAAAAAAAAAAAAAABAQAAAQAAAAAAAQAAAAAAAAAAAAAAAAAAAAAAAAAAAAAAAAAAAAEAAQEAAAAAAAAAAAAAAAAAAAAAAAAHAAACAAAABwAAAAAAAAAAAAAAAAAAAAAAAAAAAAACAAAAAAEAAAAAAAAAAQAAAAAAAAAAAAAAAAABAAAAAQAAAQABAAAAAAMAAAABAAAAAAABAAAAAQAAAAEAAAAAAAABAAAAAAABAAAAAAAAAgAAAAAAAAAAAAAAAAABAAAAAQAAAAIAAAAAAAAAAAABAAAAAQEAAAAAAAAAAAACAAAAAAAAAAAAAQAAAAAAAAABAAAAAAAAAAABAAAAAAAAAAABAAACAAEAAAAAAAAAAAIBAAAAAAAAAAAAAAAAAAAAAAAAAAAAAAAAAAAAAAAAAAEAAAAAAAAAAAAAAgAAAAAAAAABAAABAAAAAAEAAAAAAAAAAAAAAAAAAAEAAQAAAgEAAAAAAQAAAAEBAQAAAAAAAAAAAAAAAAAAAAAAAAAAAAAAAAAAAAAAAAAAAAEAAAAAAAAAAAAAAAAAAAAAAAABAAAAAAAAAAAAAAAAAAABAAIAAAAAAAAAAAAAAAAAAAEAAAEAAAABAAAAAAAAAAEAAAAAAAEAAQAAAAAAAAAAAQAAAQABAAAAAAAAAAAAAAEAAAAAAAAAAAAAAAAAAAAAAAAAAAAAAQAAAAAAAAAAAAAAAAAAAAAAAAAAAAABAAEBAQEAAQAAAAAAAAEAAAABAAAAAAAAAAAAAAABAAAAAAAAAAAAAAAAAAAAAAAAAAAAAAAAAAAAAAAAAAABAAAAAQAAAAAAAAIAAAAAAAAAAAAAAQAAAAAAAAAAAAAAAAACAAACAQAAAQAAAAAAAAAAAAAHAAAAAAAAAQAAAAAAAAAAAAAAAAAAAAABAAAAAQAAAAAAAAAAAAAAAAAAAAAAAAAAAAAAAQAAAAAAAAAAAQAAAAAAAAAAAAAAAAAAAQAAAAAAAAAAAAEAAAAAAQAAAAAAAAAAAAAAAAAAAAAAAAAAAQAAAAAAAAAAAAEBAAAAAAIAAAAAAAAAAAAAAAAAAQEAAAAAAAAAAAAAAAAAAAACAAAAAAAAAAAAAAAAAAAAAQAAAAAAAAACAgAAAAAHBwAAAAAAAAAAAAAAAAAAAAAAAgEAAAABAAAAAAAAAAAAAAAAAAAAAAAAAAAAAAEAAAAAAAABAAAAAAAAAQAAAAAAAAAAAAEAAAIAAAAAAAAAAAAAAAAAAAAAAAAHAAAAAAAAAQAAAAABAAEBAAAAAAAAAAAAAAAAAAAAAAADAwAAAAAAAAAAAQAAAQAAAAAAAAAAAAAAAAAAAAAHAAAAAAAAAAAAAAAAAAAAAAAAAAAAAAAAAAAAAAAAAAACAAAAAAEAAAAAAAAAAAAAAAEAAAAAAQAABwAAAAABAAAAAAAAAAAAAAAAAAAAAAAAAAAAAAABAAAAAAEAAQACAAAAAAAAAAAAAAAAAAACAAAAAAEAAAAAAQABAAAAAAAAAAAAAAAHAAAAAQAAAAAAAAABAAAAAAAAAAAAAAAAAAAAAAACAQAAAAAAAQEAAAAAAAAAAAAAAAAAAAEAAAAAAAAAAAACAAACAAAAAAAAAAAAAAAAAAIBAgAAAAABAAAAAAAAAAAAAAAAAAAAAAACAAAAAAAAAAAAAAEAAAAAAAAAAQAAAAAAAAcAAAABBwAAAAABAAcAAAAAAAAAAAABAAAAAAEAAAAAAgAAAAABAQAAAAAAAAAAAAAAAAAAAAAAAAAAAAAAAAABAAAAAAAAAQABAAAAAAABAAAAAAEAAAABAAAAAAEAAAAAAAAABwAAAAAAAAAAAAAAAAAAAAAAAAAAAAAAAAAAAAAAAAAAAAAAAAEAAAAAAAAAAAAAAAEAAAEAAAAAAAABAAAAAAAAAAAAAAAAAAAAAAAAAAAAAAABAAAAAAAAAAABAQEBAAAAAQAAAAAAAAAAAAAAAAAAAAAAAAAAAAAAAAAAAAAAAAAAAAAAAAAAAAAAAAAAAAAAAAABAgACAAEAAAIAAAAAAAAAAAAAAQAAAAAAAAAAAAEAAAAAAAAAAAAAAAAAAAAAAAAAAQAAAAAAAAAAAAAAAAAAAAAAAAAAAAAAAAAAAAAAAAAAAAAAAAAAAAAAAAAAAAAAAAAAAAcAAAAAAAEAAAAAAQABAAAAAQAAAAAAAAAAAAAAAAAAAAAAAQAAAAAAAAAAAAABAAAAAAAAAAEAAAAAAAABAAAAAQAAAAAAAAAAAAIAAAAAAAAAAAAAAAAAAAAAAAAAAAAAAAAAAAAAAAAAAAAAAAEBAAAAAAAAAAAAAAAAAAAAAAAAAAAAAAEBAQAAAAEAAAAAAAEAAAEAAAAAAQAABwABAAEAAQEAAAAAAAEAAAAAAAAAAAAAAQAAAAAAAAAAAAAAAAAAAAAAAAAAAAAAAAAAAAACAAAAAAAAAAABAAAAAAEAAQAAAAAAAAAAAAAAAAABAAAAAAAAAAAAAAABAAAAAAACAAAAAAAAAAAAAAAAAAAAAAAAAAAAAAAAAAAAAAAAAAAAAAAAAAAAAAIAAAAHAAAAAAEAAAAAAQIAAAAAAAAAAAABAAAAAAAAAAAAAAAAAAAAAQAAAAAAAAAAAAAAAQAAAgAAAAAAAgAAAAAAAAABAAAAAAEAAAABAAAAAAAAAAAAAAAAAAAAAQAAAAAAAAAAAAAAAAAAAAAAAAAAAAAAAAAAAAAAAAAAAAAAAAAAAAAAAQAAAAAAAAAAAAAAAAAAAAAAAAAAAAAAAAIAAAAAAAEAAAAAAAAAAAAAAAAAAAEAAQAAAAAAAAAAAAAAAAAAAAAAAAAAAAABAAABAAAAAAAAAAAAAQAAAAAAAAAAAAEAAAACAAAAAAAAAAABAAAAAAABAQEBAQAAAAAAAAAAAQAAAAAAAAAAAAAAAAABAgAAAAAAAAAAAAAAAAAAAAAAAAAAAAEAAAAAAAAAAAAAAAEAAAAAAAAAAAAAAAAAAAAAAAAAAAAAAAAAAAAAAAAAAAAAAAAAAAAAAgAAAQAAAAAAAAABAAAAAAAAAAAAAAAAAAAAAAAAAAAAAgMAAgAAAAAAAAAAAAAAAAEAAAAAAAAAAAAAAAAAAAAAAAAAAgAAAAAAAQEAAAcAAAAAAAAAAAAAAAQAAAAAAAABAAAAAAAAAQAAAQAAAAAAAAAAAAAAAAAAAAACAQAAAAAAAAAAAAAAAAAAAAAAAAAAAgAAAAAAAAAAAAAAAAAAAAAAAAAAAAAAAQAAAAAAAAAAAAAAAAAAAAAAAAAAAAAAAAEAAAAAAAAAAAAAAAAAAAAAAAAAAAAAAAAAAAAAAAAAAQAAAAAAAAAAAAEHAAAAAAAAAAAAAQAAAAAAAAAAAAAAAgAAAAAAAAAAAAAAAAAAAAAAAAAAAQIAAAAAAAAAAAAAAAAAAAAAAAAAAAAAAAACAAAHAAABAAcAAQEAAAAAAAAAAAAAAAAAAAAAAAAAAAAAAAAAAAABAAAAAAACAAAAAAAAAAAAAAcCAAAAAAAAAAAAAAAAAQAAAAAAAAAAAAABAAAAAQAAAQAAAQAAAAAAAAAAAAABAAAAAQAAAAAAAAAAAAAAAQAAAgAAAAAAAAEAAAEAAAAAAQAAAAAAAAAAAQAAAAABAAAAAAAAAAAAAAACAQAABwAAAAAAAgAAAAAAAAAAAAAAAAAAAQEAAAABAAAAAAAAAAAAAAAAAAAAAAAAAAAAAAAAAAAAAAAAAAAAAAAAAAAAAAAAAAABAAAABwAAAAIAAAAAAAAABwAAAAAAAgABAAAAAQABBwAAAAABAAAAAAAAAAAAAAAAAAAAAAAAAAAAAAAAAAAAAQAAAAAAAAAAAAAAAAAAAAABAAAAAAAAAAAAAAEAAAAAAgAAAAAAAAAAAAAAAAAAAAAAAAAAAAAAAAIAAAAAAAAAAAIAAAAAAAAAAAAAAAAAAAAAAAAAAAABAAAAAAAAAAAAAAAAAAAAAAAAAAAAAAAAAAAAAAAAAAAAAAAAAQAAAAAAAAAAAAAAAAAHAAAAAAAAAAEBAAAAAAAAAAAAAAAAAAAHAAEAAAAAAAAAAAAAAAEAAAAAAAAAAAAAAAcAAAEAAAAAAQAAAAAAAAAAAgAAAAAAAAABAAAAAAEAAAAAAAAAAAAAAAAAAAACAAAAAAAAAAECAAABAAAAAAAAAAAAAAAAAAAAAAAAAAAAAAAAAAAAAAEAAAAABwAAAAAAAgAAAAAAAAAAAAAAAAAAAAABAAAAAAAAAAAAAAAAAQAAAQAAAAAAAAAAAAAAAAAAAAABAAAAAAAAAAAAAAAAAAAAAAEAAAADAAAAAgAAAAAAAQAAAAAAAAAAAAAABwAAAAEAAAAAAAIAAQAAAAECAAAAAAAAAgAAAAAAAAAAAAAAAAAAAAIABwAAAAIAAAECAAAAAAAAAAAHAAIAAAAAAAAAAAAAAAAAAAAAAAAAAAACAAAAAAAAAQIAAAACAQACAAAAAgAAAgAAAAAAAAcAAAAAAAAAAAACAAAAAAAAAAEAAgEAAAACAAAAAAACAAABAAcAAAAAAAIAAAABAAAAAAAAAAAAAgAAAAAAAQACAAEAAAAAAAACAAACAAAAAAACAAAAAAAAAAAAAgAAAAECAQAAAAACAAAAAAACAAIBAAAAAQAAAAcAAgACAAAAAAAAAAAAAAAAAAECAAACAAEAAAEBAAABAAEAAAAAAAAAAAIAAAEAAAAAAAIAAAABAQIAAAAAAQAAAAACAAAAAgAAAAABAgAAAAACAgAAAAAAAAACAgEAAAAABwAAAgAAAAIAAAAAAAACAAAAAAIAAAAAAgAAAAAAAAAAAAAAAAAAAgEAAgAAAAAAAAIAAAIAAAAAAQACAAAAAgAAAAAAAAAAAAAAAAAAAAAAAAAAAAAAAAACAQICAAAAAAAAAQIAAAAAAQAAAAIAAAAAAAAAAAAAAAIAAgAAAgAAAAAAAAAAAAAAAAEAAAABAAAAAAABAAAAAAAAAAIAAAAAAAAAAAAAAAAAAAIAAgAAAAEHAgABAAABAgACAAAAAAAAAAAAAgAAAAEAAAIAAAAAAAIAAgAAAAEAAAEAAAAAAAAAAAEAAAAAAAAHAAABAAAAAQAAAAIAAAIAAAAAAAACAAEAAAAAAAAAAAAAAAICAAAAAAAAAAAAAAAAAAECAAAAAgACAAAAAAABAAECAAACAQIAAAAAAAAAAAAAAAAAAAAAAAAAAQAAAAAAAAAABwAAAgEAAAAAAAEAAAAAAAAABwAAAAACAAAAAAACAAAAAAAAAAAAAAIAAAICAgAAAAAAAAIAAAABAAACAAAAAgAAAAAAAgAAAAAAAAAAAAEAAAAAAAAAAAECAQAAAAAAAAIAAAIDAAAAAAACAAAABwEAAAAAAAAAAAECAAAAAAAAAAAAAAAAAAAAAAABAAAAAAAAAAAAAAEAAAAAAAIAAAAAAAAAAAAAAAAAAgAAAAACAQIAAAAAAAAAAAAAAAACAAAAAAAAAQAAAAAAAgAAAAAAAAEAAgAAAAIAAAAAAQAAAAABAgAAAAAAAAABAAAAAAAAAAAAAAAAAAAAAAACAAAAAgAAAAABAAAAAAAAAAIAAAIAAAAAAAAAAAIAAAAAAAAAAAACAAAHAAACAAAAAAEAAgACAAAAAgAAAAABAAIBAAAAAAAAAAAAAQABAAABAAAAAAIAAAAAAAACAAEAAAAAAAAAAAABAAAAAQAAAAAAAAAABQAHAAAAAAAAAQAAAAAAAAIAAAIAAgABAAAAAAAAAAACAAAAAAABAAAAAAAAAgAAAAAAAAEAAAAAAAACAAACAAAAAAEAAAACAgAAAgIAAAIAAgEAAAAAAAAAAQAAAgAAAAIAAAAAAAAHAAAAAAAAAgIAAAEAAgABAAcAAAABAAAAAAABAAACAQAAAAAAAAAAAAIAAAACAAAAAAAAAAAAAAAAAAAAAAAAAAAAAgAAAAAAAAEAAAAAAAAAAAAAAQAAAAAAAAAAAAAAAAIBAgcAAAAAAgAAAgAAAAABAAAAAAAAAAAAAAAAAgABAAAAAAABAgEAAAAAAAAAAAACAQABAQABAAAAAAIAAAACAAAAAAAAAAAAAAAAAAAAAAAAAAAAAAEAAQAAAQAAAAACAQIAAAAAAAICAAABAAAAAAAAAgIAAAAAAAAAAAAAAAAAAAEAAAAAAgAAAAAAAAAAAAACAAAHAgACAAAAAQABAgAAAAcAAAAAAAIBAAACAAAAAgEAAAABAAEAAAAAAgAAAAAAAAAAAAIAAAcAAAACAAAAAAAAAAAAAAAAAAACAQAAAQACAAAAAAAAAAAAAAAAAAAAAAACAQEAAAABAAAAAAAAAAAAAAIAAAAAAAAAAAIAAAACAgAAAAAAAAAAAAAAAAIAAAAAAgAAAAAAAgAAAAAAAgEAAAAAAgAHAAAAAAABAAACAgIAAAABAAAAAAEAAAAAAAAAAgEAAAAAAAAAAAAAAAAAAQAAAAEAAgAAAAAAAAAAAAAAAgAAAgAAAAACAAACAAAAAAAAAAIAAAAHAgACAAAAAQAAAAAAAAAAAAAAAAAAAAAAAAAAAAAAAgAAAAEAAgACAAACAAAAAAAHAAAAAAAAAgIHAAABAAAAAAAAAAACAAAAAAIAAAAAAAAAAgAAAAAAAAAAAAAAAAAAAAIAAAECAAAAAgAAAAAAAAAAAAAAAAAAAAACAAAAAAIAAAAAAAACAAIAAAEAAgAAAAAAAAAAAQAAAAAAAAAAAAAAAAAAAAAHAAAAAgcAAAACAAAAAgAAAAAAAgAAAAEAAAACAAECAAIAAAAAAAAAAAAAAAAAAAAAAAEAAAAAAAACAQAAAgAAAAAAAgACAQAAAQIAAAAAAAAABwAAAAAAAAAAAAIAAgACAgAAAAAAAAAAAAAAAQAAAgAAAAAAAAAAAAACAgICAAIAAAAAAAAAAAAAAAAAAAAAAAACAAICAAAAAAAAAAAAAgAAAAAABwAAAAAAAAAAAAAAAAAAAAACAgAAAgAAAAACAAICAgIAAAAAAAAHBwAAAgAAAAACAAAAAAAAAAAAAAcAAgAAAAAAAAAHAAAAAAAAAQAAAAIAAAAAAAACAgAAAAAAAAAAAAAAAAAAAAACAAAAAAcCAgAAAAACAgIAAAAAAAAAAAAAAAAAAAIAAAAAAAAAAAcAAAAAAAACAAACAQIAAAAAAAcAAAAAAAIAAAAAAAAAAAACBwAAAAAAAAAAAAAAAgAAAAAAAAcBAAAAAAAAAAAAAAAAAAAAAAAAAAAAAgAAAAIAAgAAAAAAAAAAAAAAAgAAAAAAAAICAAEAAAAAAAcAAgAAAAABAAAAAAEAAAABAAAAAQAAAAAAAAAAAAAAAAAAAAAAAAAAAAAAAgACAQAAAgIAAAACAAAAAAAAAAIAAAACAAACAAAAAAIAAAAAAQAAAAEAAAAAAAAAAAAAAAAAAgIAAAAAAAAAAgAAAAIAAgAAAAAAAAIAAQAAAAABAAIBAAcAAAAABwACAAIABwAAAAAAAAcCAAAAAgEAAAcAAQAAAAAAAQIAAAAAAAAAAgACAAABAQAAAAABAAAAAAAAAgAAAAAAAAACAAIAAgAAAAAABwABAQAAAAAAAAAAAQAAAAAAAAIAAAAAAAIAAAACAAAAAAAAAAAAAAAAAAAAAAAAAAEABwcAAgACAAAAAQIAAAAAAAAAAAAAAAAAAQIAAAAAAAAAAAAAAgAAAgAAAAAAAAACAAAAAAAAAAACAQICAAAAAAAAAQAAAAAAAAAAAAAAAAIAAgAAAAAABwAAAAACAAAAAAAAAAIAAgAAAAACAAABAAAAAQACAAABAAAAAAIAAQABAAAAAAACAAACAAIAAAABAAAAAAABAAAAAQIAAAIAAAAAAAEBAAACAAAAAAAAAgAAAQIHAAAAAgAAAAAAAQAAAAAAAAAAAgAAAAAAAAAAAAACAAAAAAACAAAAAgAAAAAAAAcAAAAAAAACAgAAAAAAAAAAAAAAAAAAAAACAAAAAgAAAAAAAAIAAAAAAAAAAAIHAAIAAAIAAAIAAAAAAAAAAAAAAAAHAAAAAgAAAAEAAAAAAgAAAQAAAAEAAAAAAQAAAAAHAAIAAAEAAQAAAgAAAAAAAAAAAAABAAIAAgAAAAAAAAABAAAAAAcAAAAAAQAAAAcCAAIAAQABAQAAAAAAAAAAAQIAAAAAAQAAAAAAAAAAAAAAAAAAAAAAAAAAAQAAAAAAAAcAAAEAAAAAAAAAAAAAAAACAgAAAAAAAgAAAAAAAgIAAAAAAAIAAgAAAAABAQABAQAAAAAAAAABAAcAAAEAAAAAAAAAAAcAAAEAAAAAAQAAAAAAAAAAAAAAAQAAAAAAAAAAAAAAAgcAAAAAAAAAAAAAAQAAAAAAAAIAAAAAAQAAAQcAAAAAAAAAAAAAAAAAAgAAAAAAAAAAAAAAAAAHAQAAAAABAAAAAAAAAAAAAAABAAAAAAAAAAAAAAAAAQAAAAAAAAAAAAAAAAAAAQAAAgAAAAAAAAAAAAAAAAAAAAAAAAAAAAEAAAAAAAAAAAEAAAAAAAAAAAAABwcAAAACAAAAAQAAAAAAAgAAAAAAAAAAAAAAAQAAAAAAAAAAAAAAAAAAAAAAAAAAAAAAAAEBAAAHAAAHAAAAAAEAAAAAAAAAAAACAAAAAQABAAAAAAAAAAAAAAEAAQAAAAAAAQAAAAAAAAABAQAAAAAAAAAABwEAAAAAAAAAAQAAAAAAAAABAAAAAAEAAAAAAAAAAAAAAAAAAAEAAAAAAQIAAAAAAAAAAAcAAAAAAAAAAAEAAAAAAAAAAwAAAAAAAAAAAAEAAAAAAAEAAAAAAAAAAAEAAAAAAAAAAAAAAAEAAAABAAAAAAAAAAAAAAAAAAAAAQAAAAEAAAAAAAAAAAAAAAAAAAAAAAAAAAAHAQAAAAAAAAABAAAAAQAAAAAAAQAAAAAABwAAAAAAAAAAAAAAAAAAAAAAAAEAAAAAAAAAAAAAAAAAAAACAAAAAAAAAAAAAAAAAAAAAAAAAAABAAAAAQAAAAAAAAAAAAAAAAAAAAAAAAEAAgAAAAEAAAAAAAAAAAAAAQAAAAAAAAAAAQAAAAAAAAAAAAAAAAABAAAAAAAAAAAAAAAAAAAAAAAAAAAAAAAAAAAAAAEAAAABAAAAAAAAAAAAAQAAAAAAAAAAAAABAAEAAAcAAAAHAAAAAAEAAAAAAgAAAAAAAAAAAAAAAAAAAAAAAQAAAQAAAAAAAAAAAAAAAAAAAAAAAQAAAAAAAAAAAAAAAAAAAAAAAAAAAAABAAEBAAABAAAAAAAAAAIAAAAAAAAAAAAAAAAHAAAAAAABAAAAAAAAAAAAAAAAAAAAAAEAAAAAAAAAAAEHAAAAAQAAAAAAAAIAAAAAAAAAAAAAAAAAAAAAAAAAAQAAAAAAAAAAAAAAAAEAAAAAAAAAAAAAAAAAAAAAAAAAAAABAAABAwAAAAAAAAAAAAAAAwAAAAAAAAAAAAAAAAABAAAAAQAAAAAAAAAAAAAAAAACAAEAAAAAAAABAAAAAAAAAAAAAAAAAAIAAAMAAAAAAAAAAAAAAAAAAAAHAAAAAAAAAQABAAAAAAAAAgcAAAAAAAAAAAAAAAAAAQABAAABAAAAAAAAAAAAAAAAAAAAAAABAAAAAAAAAAAAAAAAAAEHAAAAAAAAAAACAAAAAAACAAAAAAEBAAAAAAAAAAAAAAAAAAAAAAACAAABAAcAAAABAAAAAAAAAAAAAAAAAQAAAAACAAAAAAAABwAAAAAAAAAAAAAAAAAAAAEAAAcAAAAAAAAAAAAAAQAAAgAAAAEAAAAAAAEAAAACAgABAAABAQAAAAAAAQABAAEAAAAAAAAAAAABAgAAAAAAAAAAAQABAAAAAAAHAAEAAAABAAAAAAAAAAEAAAEAAAAAAAcAAAAAAAAAAAAAAAAAAQAAAAAAAAAAAAAAAAAAAgAAAAAAAAAAAAAAAAEAAAAAAAAAAAAAAAAAAAABAAABAAEAAAAAAAEAAAACAAAAAAEAAQAAAAAAAAAAAAAAAAEAAAEAAAAAAgAAAAAAAAAAAAAAAAABAAAAAAAAAAACAAIAAAAAAAAAAAAAAAAAAAAAAQEAAAAAAAAHAAAAAAAAAAAAAAEAAAAAAAEBAAABAAABAgAAAAAAAAAAAAAAAAAAAQAAAAACAAAAAAAAAAAAAAABAAEBAAAAAAAAAQAAAAAAAQAABwAAAAAAAgAAAAAAAAABAAAAAQEAAAAAAAAAAAAAAQAAAAAAAAAAAAAAAAAHAAAAAAAAAAcAAAAAAgAAAAAAAAEBAAAAAAAAAAAAAAAAAAAAAAABAAAAAAAAAAAAAAAAAQEAAAEAAAAAAAAAAAAAAAEAAQAAAAAAAAAAAAAAAAAAAAIAAAAAAAAAAAEAAAABAAAAAAAAAAAAAAAAAAAAAAEAAQAAAAAAAAAAAAAAAAACAAABAAAAAQIAAAAAAAAAAAABAAAAAAAAAAIAAAAAAAAAAAAAAAAAAAAAAAAAAAACAAEAAAAAAAAAAQAAAAEAAAAAAAAAAAAAAAEAAAEAAAAAAAAAAAAAAAAAAAAAAAAAAAAAAAAAAAEAAAAAAAAAAAAAAAABAAAAAAAAAQAAAAACAQAAAAAAAAAAAAAAAAAAAAEAAAABAAEAAAAAAAIAAAAAAQABAAAAAQABAAAAAAAAAAEAAAACAAEAAAAAAAAAAAAAAAABAAEAAAAAAAAAAAAAAAAAAAAAAQAAAAAAAAAAAAAAAAABAAAAAAAAAQEAAAAAAgAAAAAAAAAAAAAAAAAAAAAAAAQAAAAAAAEAAQAAAAAAAAEAAAAAAAAAAAEAAAAAAAAAAAAAAAAAAAAAAAAAAAAAAQEAAAAAAAAAAAACAAAAAAAAAAAAAAAAAAAAAAECAAAAAAAAAAAAAQAAAAABAAAAAAABAAAAAAABAAAAAAAAAAAAAAIAAAABAAAAAAACAAAAAAAAAAAAAAcAAAAAAAAAAAAAAQEAAAAAAAAAAAAAAQAAAAEAAAABAAAAAAAAAgEAAAAAAAAAAAAAAAEAAAAAAAABAAAAAAAAAQAAAAcAAAABAAABAAAAAAABAAAAAAEAAAIAAAcAAQAAAQAAAAAAAAAAAAAAAAAAAAAAAAAAAAAAAAAAAAAAAAAAAAAAAAIAAQAAAAAAAgAHAAAAAgAABwAAAAAHAAAAAAABAAAAAAAAAAAAAQEBAAAAAAEAAAAAAQACAQAAAQEAAAAAAAAAAAAAAAAAAAIAAAAAAAEAAAEAAAAAAAAAAAAAAAAAAQAAAAABAAABAAACAAAAAAACAQAAAAABAAAAAAAAAgAAAAAAAAAAAgAAAAAAAAAAAAAAAAAAAAAAAgAAAAABAAAAAAAAAAAAAAABAgABAAAHAAAAAAAAAAAAAAAAAAAAAAEAAAAAAQAAAAAAAAAAAAAHAQEAAAcAAAAAAAEAAAAAAAAAAAIAAAAAAAEAAAEHAAAAAQAAAAAAAAAAAAABAAAABwAAAAAAAAIAAAcAAAAAAQAAAAACAAAAAAIAAAAAAAAAAAAAAAAAAAAAAAACAAAAAAAAAAABAAAAAAAAAAEAAAAAAAEAAAAAAAEAAAIAAAAAAAAAAAAAAAEAAAIAAAAHAAAAAQAAAAAAAAEAAQAAAAAAAAAAAgAAAAAAAAAAAAECAAIAAAAAAAAAAAABAAAAAAAAAAAAAAAAAAAAAAAHAQAAAAAAAAAAAAAAAAAAAAAAAAAAAAAAAAAAAAAAAAAAAAAAAAAABwAAAAEAAAAAAAAAAQAAAAAAAAAAAAAAAAAAAAAAAAAAAAABAQAAAAABAQAAAAEAAAAHAAAAAAAAAAAAAAAAAAEAAAAAAAAAAAAAAAAAAQEAAAABAAAAAAAAAAAAAAAAAAAAAAEAAAAAAAAAAAAAAQAAAAAAAAEAAAAAAAAAAAAAAAAAAAABAAAAAAEAAAAAAAAAAAAAAQAAAAAAAAAAAAAAAAAAAAABAAAAAAAABwAAAAAAAAAAAAAAAAAAAAAAAAAAAAAAAAEAAAEBAAEAAAAAAAEABwAAAAAAAAAAAAEAAAABAAEAAAAAAAAAAAABAAAAAAAAAgAAAAEAAAEAAAACAAAAAAAAAAAAAAAAAAAAAAABAQABAAAAAAAAAgAAAAAAAQAAAAAAAAABAAIAAAAAAAACAAAAAAAAAAAAAAABAAAAAAAAAAAAAAAAAAAAAAAAAAACAAABAAAAAAABAAAAAAAAAAAAAAAAAAAAAQEAAAAAAAAAAgAAAAAAAAAAAAAAAAAAAAEAAAAAAAIAAAAAAAEAAAEAAAAAAAAAAAAAAAABAAAAAAAAAAAAAAAAAAEAAAACAAAAAAAAAAACAQEAAAAAAQAAAQAAAAABAAAAAAAAAQAAAAAAAAAAAAEAAAAAAAAAAAAAAAAAAQEAAAAAAAAAAAAAAQAAAAAAAAAAAAAAAQEDAAABAQAAAAAAAAABAAAAAAABAAAAAAAAAAAAAAAAAAABAAAAAQAAAAAAAAcAAAcAAAAAAAEAAAAAAAAAAAAAAAAAAAAAAAAAAAABAAAAAAAAAQAAAAAAAAAAAQAHAAAAAAAAAAAAAAIAAAAAAAAHAAABAAEBAAAAAAAAAAAAAgAAAAAAAgAAAAEBAAEAAQAAAAABAAAAAAEAAAAAAAIAAAAAAQAAAAAAAQAAAAEAAAABAAEAAQABBwAAAAAHAAAAAAAAAAAAAAAAAAEAAAEAAAAAAAAAAQAAAAEHAAAAAAABAAAAAAAAAQACAAEAAAAAAAAAAAAAAAAAAAAAAQAAAAABAAAAAAAAAAAAAAAAAAAAAAAAAAAAAAAAAAAAAAAAAAAAAAAAAAAAAAIAAQAAAAAAAAAAAAAAAAAAAAEAAAAAAAAAAAAAAAAABwAAAAAAAAAAAAAAAAEAAAAAAAAAAAAAAAAAAAEAAAEAAAEAAAAAAAAAAAAAAAAAAAAAAAAAAQAABwAAAAEAAAEAAAAAAAAAAAAAAQAAAAAHAAAAAAAAAAAAAgAAAAAAAAAHAQAAAAAAAQAAAAACAAAAAQAAAAEAAAAAAAAAAAAAAAAAAAIAAAAAAAAAAAAAAAEAAAAAAQAAAAACAAAAAAcAAAAAAAcAAAAAAAAAAAAAAAAHAAAAAAAAAQAABwAAAAAAAAAAAAAAAAAAAgAAAgAAAAABAAAAAAAAAgAAAAEAAAAAAAEAAAAAAAEAAQAAAAAAAAAAAQEAAAAAAAAAAAAAAAABAAACAAAAAAABAAAAAAABAAAAAAEAAAAAAAIAAAAAAAAAAAECAAAAAAAAAAAAAAIAAQAAAAAAAAAAAQcAAAEAAAABAAEAAAAAAAAAAAAAAAAAAAEAAAAAAAAAAAAAAAAHAAIAAAEAAAAAAAAAAAcAAAAAAAAAAAAAAAAAAAAAAAAAAQAAAAABAAAAAAAAAQABAAAAAAEAAAAAAAABAAEAAAAAAQAAAAAAAAAAAAAAAAAAAAAAAAABAAAABwAAAgAAAAAAAAAAAAAAAAIAAAAAAAAAAAAAAAACAAAAAAAAAAAAAAAAAAABAAAAAAAAAAAAAAAAAAAAAAEAAAAAAAAAAAAABwAAAAAAAQAAAAEAAAABAAAAAQAAAQAAAAAAAAAAAAABAAAAAAAAAAAAAAAAAAABAAcAAAAAAAAAAAAAAQEAAAAAAAAAAAAAAAECAAAAAAEAAAAAAAAAAAAAAAAAAAIBAAAAAAAAAQAAAAAAAAABAAAABwAAAAIAAAABAAAAAAAAAAAAAAAAAAAAAAAAAAAAAQcBAAAAAAAAAAAAAAABAAAAAgIAAQAAAAAAAAAAAAAAAAAAAAAAAAAAAQAAAAEAAAAAAAAAAAEAAAAAAAEAAAIAAAAAAAAAAQAAAAAAAAAAAAEAAQAAAAEAAAAAAAABAAIAAAAAAAAAAAAAAAAAAAAAAAAAAAAAAAAAAQAAAAABAAABAAAAAAAAAAAAAAAABwAAAAAAAAIAAAAAAAAAAAABAAAAAAAAAAABAQAAAAAAAQABAQAAAAAAAAAAAAEAAAAAAAAAAAAAAAABAAAAAAIAAAAAAAAAAAAAAAAAAAAAAAAAAAAAAQAAAAAAAAAAAAAAAAAAAAAAAAAAAQAAAAAAAAEAAAAAAAEAAAAAAAAAAAAAAAEBAQAAAAABAAAAAAAAAAAAAAAAAAAAAAAAAAAAAAAAAAAAAAIAAAAAAQAAAAAAAAAAAAAAAQACAAIAAAAAAAAAAAAAAAEBAQAAAAAAAAAAAgAAAgAAAAAAAAEAAAIAAAAAAAABAAAAAAAAAQAAAAABAAABAAAAAAEBAAABAAAAAQABAAAHAAAAAQAAAAAAAAAHAAAAAAAAAAAAAAAAAQAAAQAAAAAAAAAAAQAAAAAAAAAAAAAAAAABAAAAAAAAAAEAAAACAAEAAAAAAgAAAAICAAAAAAAAAAAABwAAAAABAQAAAAEAAAAAAAAAAAEAAAAAAgEBAAEAAAAAAAAAAAEBAQAAAAAAAQAAAAAAAAAAAAAAAAAAAAAAAAAAAAAAAAAAAAAAAAACAAAAAAAAAAAAAAAAAAAAAAABAAIAAAAAAQAAAAACAQAAAAAAAAAAAAAAAAAAAAAAAAABAAAAAAAAAAAAAAAAAQAAAAAAAAAAAAAAAQAAAAAAAAAAAAAAAQAAAAABAQAAAAAAAAAAAAAAAAAAAAAAAAAAAAAAAAIAAAABAAAAAAABAAAAAAAAAAAAAAAAAQEAAAAAAAAAAAAAAAAAAgIAAAAAAAAAAAACAAAAAAAAAQAAAAAAAAAAAAAAAAABAgAAAAAAAAABAAAAAAAAAAAAAAAAAQAAAQAAAAABAQAAAAAAAAIAAAAAAAAAAQAAAAAAAQEAAAAAAAAAAAAAAAAAAAEAAAAAAAAAAQAAAAAAAAAAAAAAAAAAAAAAAQAAAAAAAAAAAAAAAAAAAAIAAAAAAAAAAAAAAAAAAAcAAAAAAAAAAAAAAQAAAAEAAAAAAAAAAAAAAAAAAAAAAAAAAAEAAQAAAAEBAAAAAAAAAAAAAAAAAAABAgAAAAAAAAAAAAABAAACAAEAAAAAAAACAAACAAAAAQAAAAABAAAAAAAAAAAAAAAAAAEAAAAAAAAAAAAAAAEBAAcAAAABAAEAAAAAAAAAAAAAAAIAAAAAAAABAAICAAABAAAAAAEAAAEAAAACAAAAAAEAAAAAAAAAAAAAAAAAAAAAAAEAAQEAAQAAAAAAAAAAAAAAAAECAAAAAAAAAAAAAAAAAAAAAAAAAQAAAAEBAAAABwAAAAAAAAAAAAAAAAAAAAABAQcAAAAAAAAAAAAAAAAAAAAAAAAAAQAAAAAAAAAAAAAAAAABAAAAAAAAAAIAAQAAAAAAAAAAAAAAAQAAAQAAAQcAAAAAAAABAAAAAAIBAAAAAQABAAAAAAAAAAAAAAAAAAABAAAAAQEAAAAAAAABAQAAAAAAAgAAAAEAAAAAAAAAAAAAAAEAAAAAAAcAAQAAAQAAAAAAAAAAAAAAAAEAAQAAAAABAAABAQAAAQIAAgAAAAAAAQACAAAAAQAAAQAAAAAAAAAAAAACAQAAAAAAAAAAAAEAAAAAAAAAAgEAAAAAAAAAAAAAAAAAAAAAAAEAAAAAAAACAAAHAAAAAAAABwAAAAACAAcBAAAAAAIHAAAAAAABAAAAAAABAQAAAAAAAAAAAAAAAQAAAAAAAAAAAAAAAAAAAAAABwAAAAAAAAEAAAEAAAABAQAAAQAAAAAAAAAAAAEAAAcAAAAHAQEBAAAAAAAAAAIAAAAAAAAAAAAAAAAAAAAAAAAAAAAAAAAAAAAAAAAAAAACAAAAAAACAAAAAAABAAABAAABAAAAAAIBAAAAAQAAAAAAAAAAAAEAAAAAAAAAAAAAAAIAAAAAAQAAAAAAAAEAAAAAAAcBAAAAAAAAAAAABwcAAAAAAAAAAgAAAAAAAAAAAAAAAAAABwAAAAAAAAAAAAAAAAEAAAAAAAAAAAAAAAABAAAAAAABAQACAAAAAAAAAAAAAAAAAAAAAAAAAAAHAAEAAAAAAAAAAAAAAAAAAAAAAAAAAAAAAQAAAAABAAAAAAAAAQAAAAAAAAAAAAAAAAAAAAAABwIAAAABAAEAAAABAQAAAAABAAAAAAAAAAIAAAAAAAACAAAAAAAAAAAAAAAAAAAAAAABAAABAAAAAAAAAAEAAQAAAAAAAAEBAgACAQAAAAABAAAAAQAAAAAAAAAAAQABAAABAAAAAAABAQAAAAAAAAAABwAAAAAAAQAAAQEAAAIAAAAABwAAAQAAAAAAAgAAAgEAAAEAAQAAAAAAAAAAAAAAAAABAAAAAAAAAAAAAAAAAAAAAAAAAAEAAAABAAAAAAAAAQAAAAABAgEBAAACAgAAAAABAgAAAAAAAAAAAAEAAAEAAAAAAAAAAAAAAAABAAAAAQAAAAAAAAAAAAABAgAAAAAAAAABAAAHAAAAAAAAAAAAAQAAAAAAAAAAAAAAAAAAAAAAAAAAAAAAAAABAAAABwAAAQACAAAAAQAAAAABAAAAAAAAAAAAAAEAAQAAAAAAAAAAAAAAAAAAAAAAAAAAAAAAAAABAAAAAAAAAAABAAAAAAAAAQIAAQAAAAAAAAAAAAAHAAAAAAAAAgAAAAAAAAAAAAAAAQABAAAAAAAHAAAAAAAAAAEAAAABAAAAAAAAAAAAAAEAAAAAAAAAAAAAAAEAAAAAAAAAAAABAAAAAAAAAAEAAAAAAAAAAAEAAAEAAAAAAAAAAAEAAAAAAAAAAQAAAAAAAAAAAAAAAQAAAAACAAAAAAAAAAAAAAADAAAAAAAAAgAAAAAAAAIAAAABAAAAAAAAAQAAAAAAAAAAAAAAAAABAAAAAAAAAQAAAQAAAAAAAQAAAgAAAAABAAAAAAEAAgAAAQAAAAAHAQAAAAABAAAAAAAAAAABAQAAAAAAAAACAAAAAAAAAAAAAAAAAAAAAAAAAQAAAAAAAAIAAAABAAAAAAAAAAAAAAEAAAABAAIABwAAAAAAAAAAAAAAAAAAAAAAAAACAAABAAEAAQAAAAAAAAAAAAAAAAAAAAAAAAABAAAAAAAAAAAAAAABAAAAAAAAAAEBAAAAAAAAAAIAAAIAAAAAAAAAAAAAAAABAAEAAAEAAAACAAAAAAAAAAAAAAAAAAAAAgAAAQAAAAAAAAEBAAAAAAAAAAAAAAAAAAAAAgEAAgEBAAAAAAAIAAAAAAAAAgIAAAAAAQAAAQAAAAAAAAAAAAAHAAABAAAAAAAAAAAAAQAAAQEAAAAAAAAAAAAAAAAAAQAAAAAAAAAAAAAAAQEAAAAAAAAAAAEHAgAAAAEAAAAAAgAAAQAAAQAAAAAAAAABAAAAAAAAAAAAAAAAAAAAAAAAAAAAAAAAAAAAAAAAAAAAAAEBAAAAAQAAAAAAAAABAAEAAAEAAQAAAAEAAAAAAAAAAAcAAAAAAAAAAAAHAQEAAAEAAAAAAQAAAAAAAQAAAAAAAAAAAgEAAAAAAAAAAAACAAABAAAAAAABAAAAAQAAAQIAAAAAAgAAAAAAAAAAAAACAQAAAAAAAAEAAAAAAAAAAQAAAgEAAQACAAAAAAAAAQAAAAAAAAACAAAAAAAAAAAAAAAAAAAAAAAAAAAABwAAAAAAAAAAAQAAAAAAAAAAAAAAAAAAAAAAAAAAAAAAAAABAAAAAAAAAAAAAAAAAAAAAAAAAAAAAQAAAAAAAAAAAAAAAAAAAAAAAAAAAAAAAAAHAAAAAAEBAAAAAAAAAAIAAAAAAAAAAAABAAAAAAAAAAAAAAAAAAAAAAAAAQAAAAABAAAAAAcAAgAAAAAAAAAAAAAAAAAAAAAAAAAAAAABAAAAAAAAAAAAAAAAAQAAAAAAAAABAAAAAAABAAAAAAAAAAAAAAAAAAAAAAAHAAAAAAAAAAAAAAAAAAEAAQAAAQAAAAAAAAAAAAAAAQABAAAAAAABAAAAAAEAAAAAAAAAAAAAAAAAAAACAgAAAAEBAQACAAAAAAEAAAAAAAAAAAAAAAACAgAAAAAAAAAAAAAAAAABAAAAAAEAAAIBAAAAAAAAAAABAAAAAAABAAAAAQEBAAAAAAAAAAAAAAAAAAAAAAABAAACAAAAAQEAAAAAAAAAAAABAAAAAAAAAAAAAAAAAQAAAAAHAQAAAQABAAECAAAAAAIAAAABAAAAAAAAAAAAAAEAAAEAAAAAAQEAAAcCAAAAAAEAAAAAAAAAAAEAAAAAAAAAAAACAQAAAAAAAAAABwAAAQAAAAABAAAAAAAABwcAAQABAAAAAAAAAAECAAAAAQEAAAABAQEBAAAAAAAAAAABAAAAAAAAAAAAAAAAAgAAAAAAAAAAAAAAAAAAAQAAAAAAAAEAAAAAAAEAAAAAAAAAAAABAAAAAAABAQAAAAAAAAAAAAAAAAAAAAAAAAAAAAACAAAAAAAAAAAAAAAAAAACAAAAAgAAAAAAAAAAAAAAAAEAAAAAAAAAAAAAAAAAAAAAAAAAAAAAAAAAAAAAAAAHAgABAAAAAAAAAAAAAAAAAAABAAAAAAAAAAEAAAIAAAAAAAAAAAAAAAEAAAAAAAAAAAEAAAAAAAAAAAAAAAAAAAAAAAAAAAAAAAAAAAAAAAAAAAAAAAAAAAAAAQAAAAAAAAAAAAABAAAAAAIAAAACAQAAAAAAAAEBAAAAAAAAAAAAAAAAAAAABwAAAAAAAAAAAAAHAAAAAAAAAAAAAAAAAQAAAAAAAAAAAAAAAAAAAAAAAAAAAAAAAAAAAAEAAgEAAAAAAAcAAAAAAAAAAgAAAAAAAgAAAAAAAAEAAAEAAAAAAAEAAAAAAAAAAAAAAAAAAAAAAAACAAACAQAAAAAAAAAAAAAAAAAAAAAAAQAAAAAAAAAAAAAAAAAABwAAAAAABwAAAAEBAAAAAAAAAAEAAQAAAAEAAAAAAAcAAAAAAAABAAEAAAABAAAAAAcAAAAAAAAAAAAAAAAAAAAAAAAAAAAAAAAAAQAAAAIAAAAAAAAAAQAAAAAAAQAAAgAAAAACAAAAAAAAAAAAAAAAAAAAAAAAAAAAAAEAAAABAAAAAAAAAAAAAAEAAAAAAAAAAAAAAAACAAAAAAAAAAAAAAAAAAABAAEAAAAAAAAAAAAAAAAAAQAAAAAAAAAAAAEAAAAAAAABAAEAAAAAAAAAAAAAAAAAAAABAAAAAAAAAQAAAAEAAAAAAAAAAAAAAAAAAAAAAAAAAAAAAAAAAAABAAAAAAAAAAAAAQAAAAAAAAAAAAABAQAAAAAAAAAAAAAAAAAAAAAAAAAAAAAAAAAAAgABAAAAAAAAAAAHAAEAAAAAAAAAAAAAAAAAAAAAAAAAAAAAAAAAAAABAAAAAAAAAAAAAAAAAAAAAAAAAAcAAAAAAAEAAgAAAAAAAAAHAAAAAAAAAAAAAAAAAAAAAAAAAAAAAAAAAAAAAQABAAIAAAAAAQAAAAAAAAAAAAAAAAAAAAAAAAAAAQAAAAAAAAAAAQACAAAAAAAAAAIAAAAAAAAAAAAAAAAAAAAAAAAAAAAAAAAAAAAAAQAAAAAAAAABAQEAAgIAAAABAAAAAAcAAAAAAAEAAAAAAAAAAAEBAAAAAAAAAAAAAAAAAAAAAQABAAABAQAAAAABAAABAAAAAAABAQAAAQAAAAEBAAAAAQAAAAAAAAAAAAAAAQAAAAAAAAAAAAAAAAACAAAAAAAAAAAAAAAAAAAAAAAAAAAAAAEAAAAAAAAAAAAHAAAAAAAAAAABAAAAAAAAAAAAAAEAAAAAAAEAAAAAAAAAAAAAAAAAAAAAAAAAAAAAAAAAAAAAAQAAAAABAAAAAAEAAAAAAAIAAAcAAAABAAAAAAAAAAEAAAAAAAAAAAAAAAAAAQAAAAEAAAABAAAAAAACAAAAAQAAAQAAAAEBAAAAAAABAAAAAAACAAAAAAABAAcAAAEAAAAAAAAAAAEAAAAAAAAAAAAAAAAAAQAAAAAAAAAAAAAAAAAAAAAAAAAAAAAAAAAAAAAAAAAAAAAAAAEAAAAAAQAAAAAAAAAAAAAAAAEAAAABAAAAAAAAAAEAAAAAAAAAAAAAAAAAAAIAAAABAAAAAAAAAAAAAAAAAAAAAQAAAAAAAAABAAAAAAABAQIAAAEAAAEAAQAAAAAABwAAAQAAAAAAAAAAAAAAAAAAAAAAAAAAAAAAAAAAAAABAAIAAAAAAAACAQABAQEAAAAAAQAAAAIAAAAAAAAAAAEAAAAAAAAAAAAAAAABAAAAAQAAAAAAAAABAAACAAAAAAAAAAAAAAAHAAAAAAAAAAAAAAEAAAAAAAAAAQAAAAAAAAAAAAAAAAAAAQAAAAAAAAABAQABAAACAAEAAQAAAAAAAAEAAAEAAAAAAgABAAAAAAAAAAAAAQAAAAAAAAACAAAAAAAAAAAAAAAAAAAAAAAAAAAAAAAAAAAAAAAAAAAAAAAAAAAAAAEAAgAAAQAAAgAAAAAAAAAAAAAAAgAAAAABAAABAAAAAAAAAAAAAAAAAgAAAAAAAAAAAAABAAAAAAACAAAAAAACAQAAAAAAAwAAAAEBBwAAAAAAAAAAAAEAAAIHAgAAAAAAAQAABAAAAAABAAEAAAAAAAcAAAAAAAAAAAAAAAABAAAAAAAAAQAAAAAAAAAAAAAAAAAAAAAAAAAAAAAAAAAAAAAAAAAAAAAAAAAAAAAABwAAAAAAAAAAAAAAAAAAAAAAAAEBAAAAAAAAAAAAAAAAAAAAAAABAAEAAAEAAAAAAAAAAAAAAAAAAAAAAAAAAAAAAAAAAAAAAAABAAAAAAAAAAAAAAAAAAAAAQABAAAAAAAAAAEAAAAAAAAAAAAAAAAAAAACAAEAAAACAAAAAAABAAEAAAABAAAAAgABAAIBAAAAAAAAAAAAAAAAAAAAAAAAAAEHAAAAAAACAAEAAAAAAAAAAAcAAAAAAAACAAAAAAAAAgAAAQAAAAAAAAABAQAAAAAAAAAAAAAAAAAAAAAAAAAAAAAAAAAAAAAAAAIAAQAAAAAAAAAAAAEAAAAAAAAAAAAAAQAAAAAAAAEAAAAAAAAAAAAAAAAAAAAAAAACAAAAAAAAAAABAAEAAAMBAAEAAAAAAAEAAAIAAgAAAAAAAAAAAQAAAgAAAAAAAAAAAAAAAAcAAAAAAAAAAAEAAAACAAABAAAAAAAAAAAAAAEAAAAAAAAAAAAAAAAAAAAAAgAAAAAAAAAAAAAAAAAAAAAAAAAAAAABAAEAAAABAAAAAAAHAAEAAAAAAgACAAAAAAAAAAAAAQAAAAAAAAAAAAEAAAAAAQAAAAAAAAAAAAAAAAAAAAEAAAAAAAABAAAAAAAAAAAAAAAAAQAHAAAAAAAAAAAAAAAAAAAAAAIAAAEAAAAAAAAABwABAAAAAQABAAAAAAAAAAEAAAAAAAAABwAAAAAAAAEAAAAAAAcAAAAAAAAAAgEAAAABAAAAAAAAAAIAAAIAAAABAAAAAAEAAAAAAAAAAAAAAAAAAAAAAAAHAAAAAAAAAQAAAAAAAAAAAQAAAAAAAAAAAgAAAAAAAAAAAAEAAAAAAAABAAAAAAAHAAAAAAAAAAAAAAEBAAAAAAEAAAAAAAIAAQAAAAAAAAAAAAABAAAAAAAAAAAAAAAAAAEAAAAAAAAAAAAAAQcAAAAAAAABAAAAAAABAAAAAAAAAwAAAAAAAAABAAAAAAAAAAAAAAEAAQIAAQAAAAAAAAEAAAEAAAAAAAAAAAAAAQAAAAABAAAAAAAAAAAAAAcAAAEHAAAAAAAAAAAAAAAAAAEAAAABAAAAAAAAAAAAAAAAAAAAAAAAAgAAAAAAAAAAAAAAAQEAAAAAAAACAAAAAAAAAAAAAgAAAAAAAgAAAAAAAAAAAAAAAAAAAAAAAAAAAAEAAAEAAAAHAAAAAAAAAAAAAAECAQAAAAAAAAAAAAAAAAAAAAAAAAAAAAAAAAABAAAAAAAAAAEAAAEAAAAAAAEAAAAAAQAAAAAAAAAAAAMAAQAAAAABAAAAAAAAAAAAAAAAAAAAAQAAAAAAAAAAAQAAAAAAAAAAAAAAAQAAAAAAAAAAAQAAAQAAAAAAAAAHAAAAAAIBAAAABwAAAAAAAAAAAQAAAAABAAEAAgAAAAIAAAAAAAAAAAAAAAAAAAAAAAEAAAAAAAAAAAAAAAcAAAAAAAEAAgABAAAAAAACAQECAAAAAAAAAQEAAAAAAAAAAAABAAEAAQAAAAAAAAAAAAAAAAcCAAABAAEAAAAAAQABAAAAAAAAAAAAAAABAAEAAAACAAAAAQAAAAAAAAABAQAAAAAAAQAAAAAAAAAAAAABAAAAAAAAAAAAAgAAAQAAAQAAAAABAAAAAAAAAAAAAAEBAAAAAAAAAAAAAAAAAQAAAQAAAAAAAAAAAAEAAAAAAAAHAAAAAAAAAAAAAQABAAAAAAAAAAAAAAAAAAAAAAAAAAAAAAAAAAAAAAAAAAAHAAAAAAAAAAAAAAAAAAAAAAAAAAAAAAAAAAAAAAEBAAAAAAAAAAAAAAAAAAAAAAEAAAAAAAAAAAAAAQAAAAAAAAAAAAABAAAAAAAAAQABAAACAAAAAAcAAAAAAAAABwAAAQAAAAAAAAAAAAAAAAAAAAAAAAAAAAAAAAEAAAAAAAAAAAAABwAAAAAAAAAAAQAAAAEAAwAAAAAAAAcAAAAAAAAAAAAAAAAAAAAAAAABAAAAAQAAAAAABwAAAAAAAAAAAAAAAAAAAAABAAAAAAAAAAAAAAEAAAAAAAAAAAAAAAAAAAEBAAAAAAAAAAAAAAABAQAAAAAAAAAAAAAAAAAAAAAAAQEBAAAAAQAAAAIAAAAAAAAAAAAAAAAAAAEAAAEAAAAAAAAAAAAAAAEAAAAAAAAAAAAAAAABAAAAAAAAAAIAAAABAAAAAAAAAAEAAAAAAAAAAAABAAABAAAAAAIAAAEAAAAAAAAAAQAAAAECAAAAAAAAAAAAAAAAAAAAAAEAAAAAAAAAAAAAAAAAAAAAAAABAAIAAAAAAAAAAAAAAAIAAQAAAQAAAAAAAAAAAAAAAQABAAAAAAAAAQAAAAAAAAABAAAAAAEAAAAAAAIAAAAHAAAAAAAAAAAAAQAAAAAAAQAAAAEAAAIAAAAAAAAAAAAAAAAAAAIAAAAAAAAAAAAAAAAAAAACAAEAAAAAAAEAAAAAAAEAAQAAAAABAAEBAAAAAAAABwAAAAAAAAAHAQAAAAAAAAAAAAEAAAAAAAAAAAAAAQAAAQAAAAAAAAAAAAAAAAAAAQEAAAABAAAAAAIAAAAAAAAAAAAAAQAAAAAAAAAAAAAAAAAAAAAAAAAAAAAAAAACAAAAAAAAAAAAAAAAAQEAAAAAAAABAAAAAQAAAAAAAgAAAAABAAAAAgAAAAAAAAAAAAAAAAAAAAAAAAAAAAAAAAABAAAAAQABAAAAAAAAAAABAAABAAAAAAcAAAAAAAAAAAAAAAAAAAAAAQAAAQAAAAAAAwAAAAAAAAAAAAAAAAAAAAAAAAAAAAEBAAAAAAAAAAAAAAAAAAEAAQAAAAAAAAEAAAEAAAAAAAEAAAAAAAAAAQIAAAAAAAAAAAcAAAAAAAAAAAABAAEAAAEAAAAAAQAAAAAAAAAAAAAAAAAAAAECAAAAAAAAAAABAQAAAAACAAABAAAAAAAAAAACAQAAAAABAAAAAAAAAAAABwABAgABAAAAAAcAAAAAAAAAAAABAAEAAAAAAAAAAAAAAAAAAAAAAAAAAQAAAQEAAAAAAAAAAAAAAAAAAAAAAAAAAAEAAAAAAAAAAAEAAAcAAAAAAAAAAAAAAAAAAAAAAAAAAAAAAAAAAAEAAAAAAAABAAAAAAAAAAEAAAABAQEAAAAAAAAAAAABAAAAAAAAAAEAAAIAAAAAAAAAAAAAAAEAAAAAAAAAAAAAAAAAAQAAAAAAAAACAQABAAAAAAIBAAABAAECAAEAAAAAAAAAAAABAAAAAAEAAAAAAAAAAAAAAAAAAAcBAAAAAAAAAAAAAAAAAAAAAQAAAAAAAAABAAAAAAAAAAAAAAAAAAAAAQAAAAAAAAAAAQAAAAAAAAAAAAAAAAAAAAABAAAAAAAAAAAAAAAAAAAAAAcBAAAAAAAAAAEAAAAAAAEBAAAAAAAAAAAAAAIAAAAAAAAAAAAAAAAAAAAAAAAAAAAAAgAAAgAAAAAAAAAAAAABAAEAAAAAAAEAAAAAAgAAAAAAAAAAAQAAAAEAAAABAAAAAAAAAAAAAAIHAQAAAAcAAAABAAAAAAACAAAAAAcAAAAAAAAAAAAAAAEAAAAAAAAAAAAAAQAAAAEAAAACAAIAAAAAAAAAAAAAAAAAAAAAAAICAAAAAAAAAAAAAAEAAAADAAAAAAAAAAAAAAAAAAAAAAAAAAAAAAAAAAEAAAAAAQAAAAAAAAIAAAAAAAAAAAAAAgEAAAAAAAAAAAAAAAAAAAAAAAAAAAAAAAAAAAAAAAAAAAcAAgABAAAAAAEAAAAAAAAAAQAAAAAAAQAAAAAAAAAAAAAAAAAAAAAAAAAAAAAAAAIBAAAAAAAAAQAAAAABAAEAAAEAAAAAAAEAAAAAAAAAAAAAAAAAAAABAAABAAAAAAAAAAAAAAAAAAAAAAEAAAACAAAAAAAAAAAAAAAAAAAAAAAAAQEAAAAAAQAAAAAAAAAAAAAAAAAAAAEAAAACAAAAAAAAAAAAAAAAAAAAAAEAAAAAAAAAAAAAAAAAAgAAAAAAAAAAAAAAAAAAAAAAAAAAAAAAAAAAAAAAAAAAAQAAAAACAAAAAAAAAAAAAAcAAAAAAAACAAAAAAAAAAAAAAAAAQAAAAAAAAAAAAAAAAAAAAAAAAAAAAABAAAAAAIAAAAAAAAAAAAAAQAAAAAAAAAAAAAAAAAAAAAAAAABAAAAAAABAAEAAAAAAAEAAAAAAAAAAAEAAAAAAAAAAAAAAAAAAAAAAAAAAAAAAAEAAQAAAAAAAAAAAAAABwAAAAAAAAAAAAAAAAAAAAACAAAAAAAAAAcAAAAAAAAAAQIAAAAAAAAABwIAAAAAAAAAAAAAAAACAAAAAQAAAAAABwAAAAAAAAAAAAEAAAABAAAAAAAAAAAAAAAAAAEAAAAAAQAAAAAAAAAAAAEAAAIAAAAAAAEAAAAAAgAAAAAAAAIAAAAAAAAAAAABAAEAAAAAAAAAAQAAAAABAAAAAQAAAAEAAAACAAAABwAAAQcAAAAAAAAAAQEAAAAAAAEAAAAAAAAAAAAAAgAAAAAHAAABAAAAAAAAAQAAAAABAQABAAAHAAAAAAAAAAAAAAAAAAAAAQAAAAAAAAAABwAAAAEAAAAAAAAAAAAAAAAAAQABAAAABwEAAAEAAAAAAAABAAAAAAEAAAAAAAEAAAAAAAAAAAABAAAAAAABAAAAAAAAAAAAAAAAAAEAAAAAAAAAAAAAAAAAAAAAAAAAAAAAAAAAAAEAAQAAAAAAAAAAAAAAAAAAAAAAAAAAAAAAAAAAAAAAAAAAAAAAAAAAAAAAAAAAAQEBAAAAAAAAAAAAAAEBAAAAAAAAAAAHAAEAAAAAAAIAAAAABwAAAAAAAAAAAQAAAAAAAAAAAAAAAAAAAAAAAAEAAAAAAQAAAAAAAAAAAAAAAAAAAAAAAAEAAAEHAAAAAAAAAAABAQAAAAABAAAAAAcAAQAAAAAAAAAAAAAAAAAAAAAAAAAAAAAAAAAAAAAAAQABAAcAAAAAAAAAAAAAAAAAAAAAAAAAAAEBAAAAAQAAAAAAAAABAAAAAAAHAAAAAAAAAAcAAAAAAgAAAAABAgAAAAAAAQEAAQAAAAAAAAABAAACAAACAAABAAAAAQAAAAAHAAAAAAAAAAAAAAEAAAAAAAAAAAAAAAIAAAEAAQEAAAAAAAAAAAAAAAAAAAABAAEAAAAAAQIAAAAAAAAAAAEAAgAHBwIAAAEAAAEAAQcAAAAAAAAAAAEAAAEAAAEAAAAAAAEAAAAAAAAAAAAAAAAAAAAAAQAAAAAAAQEAAAAAAAAAAAAAAAAAAAABBwAAAAEAAAAAAAAAAAAAAAAAAAAAAAAAAAIAAQAAAAAAAAEAAAAABwAAAAAAAAEAAQAHAAAAAAAAAAAAAAAAAAAAAgABAAABAAAAAAAAAAAAAAAAAAIAAQAAAAABAAAAAAAAAAAAAAABAAAAAAAAAAAAAQAAAAAAAAEBAAAAAAAAAAAAAQEBAQAAAgAAAAAAAAAAAAAAAAAAAAEAAAAAAAABAAAAAQAABwAAAAAAAAAAAAAAAAAAAAAAAAAAAAAAAAABAAABAAAAAAAAAAAAAAACAAAAAAAAAAAAAAAAAAAAAAAAAQAAAAAHAAEAAAABAAAAAAAAAAAAAAAAAAAHAgAAAAAAAAAAAAAAAAAAAAAAAAAAAgAAAAAAAAABAAAAAAAAAAAAAAAAAAEAAQEAAAAAAAMABwAAAQAAAAAAAAAAAAABAQAAAAAAAAABAAAAAAAAAAAAAAAAAAAAAAAAAAAAAAAAAAAAAQAAAAIBAAAAAAAAAAABAAAAAAAAAAAAAgIAAAAAAQAAAAAAAAAAAAAAAAIAAAAAAQAAAAAAAAAAAAAAAAAAAQEAAAAAAAAAAAAAAQAAAAEAAAAAAAIAAAAAAAAAAAAAAQAAAAAAAAAAAAABAAAAAAABAQEAAAAAAAAAAAAAAAEBAAAHAAEAAAAAAAAAAAAAAAAAAQAAAAAAAAAAAAAHAAAAAAIAAAAAAAAAAAAAAAEAAAABAAAAAAAAAAAAAQAAAAABAAAAAAIAAAAAAAAAAAAAAAABAAAAAAAAAAAAAAIAAAAAAAcAAAAAAAAAAAAAAAAAAQAAAAAAAgAAAQAAAAEAAAAAAQAAAAAAAAAAAAAAAAAAAQEAAAAAAAAAAAAAAAAAAAAAAAAAAAAAAAAAAAAAAAAAAAAAAAAAAAAAAgIABwAAAAAAAAAAAAAAAAABAAEAAAACAAAAAAAAAAEBAAAAAAAABwEAAAEAAAAAAAAABwABAAEABwAAAQAAAAAAAAAAAQAAAAAAAAAAAAAAAAAAAAAAAAAAAAAAAAAAAAAAAAAAAAABAAAAAAAAAAAAAAAAAQAAAAABAAEAAAAAAAEAAAACAAIAAAAAAAAAAAAAAAAAAAAAAAAAAAAAAAAAAAAAAAABAAAAAAAAAAAAAAAAAAAAAAAAAAAAAQAAAAAAAQEAAAAABwEAAAABAAAAAQAAAAAAAAAAAAAAAAEAAAAAAQAAAAEAAAAAAAAAAAAAAAAAAAEAAQAAAAAAAAAAAAAAAAAAAAABAAAAAAAAAAEAAAAAAAEBAQABAAACAAAAAAAAAAAAAAAAAAAAAAABAAAAAAEAAAAAAAcAAAAAAAEAAAAAAAAAAAAAAAAAAAAAAAAAAAAAAAAAAAAAAAACAAAAAAECAAAAAAAAAAAAAAAAAAAAAQIAAAABAQEAAAAAAAICAAAAAAAAAAACAAAAAgAAAAAAAAAAAAEAAAAAAAAAAAAAAAAAAAEAAAAAAAAAAAAAAAADAAAAAAABAgAAAAAAAAAAAAAAAAEBAAAAAgAAAAABAQAAAAAAAAIAAAAAAAAAAAAAAgAAAAAAAAAAAAAAAAABAAAAAAAAAAEAAAAAAAAAAAAAAAAAAQABAAAAAAAAAAAAAAABAQAAAAABAAAAAAAAAAAAAAAAAAAAAAEBAAAAAAAAAAAAAAAAAgAAAAABAAAAAAAAAAAAAAAAAAAAAAAAAAAAAAAAAAAAAAACAAAAAAAAAAAAAQAAAAAAAgAAAAAAAAAAAAAAAAAAAAAAAQAAAAAAAAAAAAAAAQAAAAEAAAAAAAEAAAAAAAAAAAAAAAAAAgABAAABAAACAAAAAQAAAAAAAAAAAAAAAAECAAEAAAACAQACAgAAAAAAAQAAAAAAAAAAAAAAAAAAAAAAAAAAAAAAAAEAAAABAAABAAEAAAEAAAAAAQABAAAAAQAAAAAAAQEAAQAAAAACAAACAgAAAAAAAAAAAAAAAAAAAAAAAAEAAQEAAAAAAAAAAAAAAQAAAAAAAAIAAAEAAgAAAAAAAAAAAAAAAAAAAAEBAAAAAAIAAAAAAQAAAAABAAAAAAAAAAAAAAAAAAABAAAAAAAAAAAAAAAAAAAHAAAAAAAAAAAAAAAAAAAAAQAAAAAAAAABAAABAAAAAQAAAAAAAAAAAAAAAAAAAAIAAAABAgABAQAAAAAAAAAAAAAAAAABAAcBAAAAAAAAAAAAAQEAAAABAAAAAAAAAAAAAAABAAAAAAAAAAAAAAcAAAAAAAAHAQAAAAAAAAAAAAAAAAAAAAIAAAAAAAAAAAAAAAAAAAAAAAEAAAAAAAAAAAAAAAAAAAAAAAAAAAAAAAAAAAAAAAEAAAAAAAEBAAAAAAAAAQAAAAAAAAAAAAAAAAAAAAAAAAABAAAAAAAAAAAAAgADAAAAAAAAAAAAAQAAAQAAAAAAAgECAAAAAAAAAAAAAAAAAAABAAABAgAAAAABAAAAAQABAAAHAQAAAAAAAAAAAAAAAAAAAAAAAAAAAAAAAAABAgAAAQAAAAAAAAAAAAIAAAEBAAAAAAAAAAAAAAAAAAAAAAAAAAEAAAAAAAAAAAAAAAAAAAAAAAAAAAAAAAAAAAAAAQAAAAAAAAAAAAAAAAAAAAAAAAEAAAAAAQAAAAAAAAABAQABAAABAAECBwAAAAEAAAAAAAAAAAAAAAABAAAAAAACAAAAAAABAAAAAAAAAAAHAAAAAAAAAAAAAAABAAABAQIAAAEAAAEAAgAAAAEAAAAAAAAAAAAHAAABAAAAAAAAAAABAQAAAAAAAQAAAAAAAAABAAABAAAAAAAAAAAAAAAAAAAAAAEAAAAAAQAAAAEAAAACAAAAAQAAAAAAAAAAAAAAAQAAAAAAAAAAAAABAAAAAAAAAAAAAAEAAAAAAAAAAAAAAAEAAAEAAQAAAAAAAAACAAAAAAAAAAAAAAABAAAAAAAAAAIAAAEBAAAAAAABAAAAAAAAAAAAAAAABwAAAAAAAAAAAAABAAEAAAAAAAAAAAAAAAAAAAEABwAAAAAAAAAAAAAAAgAAAAAHAAAAAAEAAgAAAAAAAAAAAAEAAAAAAAAAAAAAAAAAAQACAAEHAAAAAAAAAAAAAQEBAAAAAAACAQAAAAAAAwAAAAcAAAAAAAAAAAAAAAcAAAAAAAAAAAEAAAAAAAAAAAAAAAAAAAAAAAAAAAAAAAAAAAAAAAABAAAAAAAAAAABAAAAAAAAAAAAAQAAAAAAAAAAAAABAAAAAAAAAAABAAEAAAAAAAEAAAAAAAEAAgAAAgAAAAAAAAAAAAABAAACAAEAAAAAAQAAAAAAAAcAAAAAAAACAAIAAAEAAAAAAAAAAAAAAAAAAQAAAAAAAAEAAAEABwAAAAAAAAAAAAAAAAAAAAEABwEAAAAAAAAAAAcAAAAAAAAAAAACAAAAAAAAAAAAAAAAAQEAAAAAAAAAAQAAAQAAAAAAAQAAAAAAAAAAAQAAAAAAAAAHAQAAAAAAAAAAAAAAAAAAAAAAAAABAAAAAAAHAAAAAAAAAAAAAQEAAAAAAAAAAAABAAAAAAcAAQACAAAAAAAAAAAAAgAHAAIBAAAAAAAAAAAAAAAAAAAAAQAAAAAAAAAAAAEAAAAAAAABAAAAAAAAAAAAAAEAAQAAAAACAAAAAAAAAQAAAQABAAEAAAAAAAABAAAAAAAAAAAAAAAAAAAAAQAAAAAAAAAAAAAAAAAAAgAHAAAAAAAAAAAAAAAAAQAAAAAAAAABAQAAAAAAAAEAAAAAAAAAAAAAAAAAAAAAAAAAAAAAAAAAAAAAAQAAAAABAAAAAQAHAAAAAAAAAQAAAAAAAAEBAAAAAAAAAAAAAAAABwAAAAACAAAAAAAAAQAAAgAAAAAAAAACAAAAAAIAAAAAAAAAAAAAAAAAAgIAAAAAAAAAAAAAAAAAAAAAAAEAAAAAAAABAAAAAAAAAAAAAAAAAAAAAAAAAAABBwAAAAcAAAABAAAAAQAAAAAAAAACAAAAAAABAAAAAAAAAgAAAAAAAAAAAAACAAAAAAIAAAABAAAAAAAAAAAAAAAAAQABAAAAAAAAAAEAAAAAAAAAAAABAgAAAAAAAAAAAAEAAAIAAAAAAAAAAAAAAAAAAAAAAAAAAQAAAAAAAAAAAAAAAAAAAQAAAAAAAAAAAAIAAAAAAAAAAAAAAAAAAAAAAQAAAAACAAAAAAAAAAEAAAABAAAAAAABAAAAAAAAAAEAAAAAAAEAAAAAAAAAAgAAAAAAAAAAAAAAAAIAAAAAAAAAAAAAAAAAAAAAAAAAAAAAAAAAAAAAAQAAAAACAAAAAAAAAAAAAAIABwAAAAAAAAAAAAAAAAAAAAEAAAAAAAAAAAAAAAAAAAAAAAAAAAAAAAAAAAACAAAAAAAAAQAAAAAAAAAAAAAAAAAAAQEAAAAAAAAAAAAAAAAAAAAAAgABAAACAAACAAAAAAEAAAEAAQAAAAAAAAAAAAAHAAAAAAEAAAACBwAAAAAAAQAAAAAAAAEAAAAAAAAAAAAAAAAAAAAAAgAAAAAAAAAAAAAAAAAAAAAAAAAAAAAAAAAAAAAAAAAAAAAAAAAAAAAAAAAAAgAAAAAABwAAAAAAAQAAAAAAAAAAAAAAAAAAAAAAAAAAAAAAAAAAAAAAAAAAAAABAAAAAAAAAQcAAAAAAAAAAAAAAAAAAAAAAAAAAAAAAAAAAAAAAQEAAQAAAAAAAAEAAAAAAAAAAAAAAAEAAAABAAAAAAAAAgAAAAAAAAAAAAAAAAAAAAAAAgAAAAAAAAABAAEAAAABAAEAAAAAAAEAAAAAAAAAAAAAAAABAAAAAAAAAAAAAAEAAAAAAAAAAAAAAgAAAAAAAAAAAAABAAAAAAEAAAAAAAAAAAEAAAAAAAAAAAAAAAEAAQEAAAAAAAAAAAAAAAAAAQAAAAAAAAAAAAAAAAAAAAAAAAIAAAAAAAAAAQAAAAAAAAABAAAAAAEAAAAAAAAAAAEAAAAAAAAAAAAAAAAAAAAAAQAAAAAAAAAAAAABAAAAAAAAAAEAAAAAAAEAAQAAAAEAAAAAAAAAAAEAAQAAAAAAAAAAAAAAAAAAAQIAAAAAAAAAAAABAAAAAAAAAAEAAAABAAAAAAIAAAAAAAAAAAAAAQAAAAAAAQAAAQAAAAABAAAAAAAAAAIAAQAAAAAAAAAAAAAAAQAAAAAAAAAAAAAAAAAAAAAAAQAAAQAAAAAAAAAAAAAAAQAAAAAAAAABAQABAAAAAAAAAAAAAAAAAAAAAAAAAAAAAAAAAgAAAAAAAAAAAQAAAAAAAAEAAAAAAAAAAAAAAAAAAAAAAAABAAAAAAABAAAAAAAAAAAAAAAAAAAAAAAAAAAAAAAAAAAAAAAAAAAAAAAAAAAAAAAAAAAAAAAAAAAAAAIAAAIAAAAAAAAAAAAAAAAAAAAAAAAAAAAAAAAAAAAAAgAAAAAAAAAAAAABAAAAAAAAAAEAAAAAAAAAAAAAAAAAAAAAAAAAAAAAAAAAAAAAAAAAAAAAAAAAAAAAAAABAAAAAAABAAEAAAAAAAEAAAAAAAAAAAAAAAAAAAAAAAAAAAAAAAAAAAAAAAAAAAAAAAAAAAAAAAAAAAAAAAABAAEAAAAAAAAAAAAAAAABAAAAAAAAAgAAAAAAAAAAAAAAAAAAAAEAAAAAAQAAAAAAAAAAAAAAAAAAAAAAAAAAAAABAAAAAAAAAAAAAAAAAAAAAAAAAAAAAAAAAAABAAAAAAAAAAAAAgAAAAAAAAAAAQEAAAAAAAAAAAAAAAAAAAAAAAAAAAAAAAAAAAAAAAAAAAAAAAAAAAAAAAAAAAAAAAAAAAAAAAAAAAAAAAAAAAAAAAAAAAEAAQAAAAAAAAIAAAAAAAAAAAAAAAAAAAAAAAAAAAAAAAAAAAAAAAAAAAAAAAAAAAEAAAAAAAAAAAAAAAAAAAABAAAAAAAAAAAAAAAHAAAAAAAAAAAAAAAAAAAAAAAAAAAAAAAAAAAAAAAAAAAAAAAAAAAAAAAAAAAAAAAAAAAAAAAAAAAAAAAAAQAAAAAAAAAAAAAAAAAAAAIAAAAAAAAAAAAAAAAAAAAAAAAAAAAAAAEAAAAAAAIAAAAAAAAAAAAAAAAAAAAAAAAAAAAAAAAAAAAAAAAAAAAAAAAAAQAAAAAAAAAAAAAAAAAAAAAAAAAAAQAAAAAAAAAAAAAAAAAAAAAAAAABAAAAAAAAAAAAAAAAAAAAAAAAAAABAAAAAAEAAAAAAAAAAAACAAAAAAAAAAAAAAAAAAAAAAAAAAIAAAAAAAAAAAAAAAAAAAAAAAAAAAAAAAAAAAAAAAAAAAABAAAAAAAAAAEAAAAAAAAAAAAAAAAAAAAAAAAAAAAAAAAAAAAAAAABAAAAAAAAAAAAAAAAAAAAAAAAAAAAAAAAAAABAgAAAAAAAAAAAAACAAAAAAAAAAAAAAAAAAIAAAAAAAAAAAAAAAAAAAAAAAAAAAAAAAAAAAAAAAAAAAAAAAAAAAAAAAAAAAAAAAAAAAAAAAAAAAAAAAAAAAAAAAEAAAAAAAAAAAAAAAAAAAAAAAAAAAAAAAcAAAAAAAAAAAAAAAAAAAAAAAABAAAAAAAAAAAAAAAAAAAAAAAAAAAAAAAAAAAAAAAAAAAAAAAAAAAAAAAAAAAAAAAAAAAAAAAAAAAAAAEAAAABAAAAAAAAAAAAAAAAAAAAAAAAAAAAAAABAAAAAAAAAAAAAAAAAAAAAAAAAwAAAQAAAAAAAAAAAAAAAAAAAAAAAAAAAAAAAAAAAAAAAAAAAAAAAAEAAAAAAAAAAAAAAAAAAAAAAAAAAAEAAAAAAAAAAAAAAAAAAAABAAACAAAAAAAAAAAAAAACAAAAAAAAAAAAAAAAAAAAAAAAAAABAAEAAAAAAAAAAAAAAAAAAAAAAAAAAAAAAAAAAAAAAAAAAQAAAAAAAAAAAAAAAAAAAQAAAAAAAAAAAAAAAAAAAAAAAAAAAAAAAAAAAAAAAAAAAAAAAAAAAAAAAAAAAAAAAAAAAAAAAAAAAAAAAAAAAAAAAAAAAAEAAAAAAAAAAAABAAAAAAAAAAAAAAAAAAAAAAAAAAABAAABAAAAAAAAAAAAAAAAAAEAAAAAAAAAAQAAAQAAAAAAAAAAAAACAAAAAAAAAAAAAAAAAAAAAAAAAAAAAAAAAAAAAAACAQAAAAEAAAAAAAAAAAAAAAAAAQAAAAAAAAAAAAAAAAAAAAAAAAAAAAACAAABAAACAAABAAABAAAAAAAAAAAAAAABAQAAAAAAAAAAAAAAAAAAAAAAAAAAAAAAAAAAAAAAAAAAAAAAAAAAAAABAAAAAAAAAAAAAAAAAAAAAAAAAAACAAAAAgAAAQAAAAABAAAAAAAAAAAAAAAAAAAAAAAAAAAAAAAAAAAAAAEAAAEAAAABAAAAAQAAAAIAAAAAAAAAAAABAAAAAAAAAAAAAAAAAAAAAAAAAAAAAAAAAAAAAAEAAAAAAAAAAAAAAAEBAAAAAAIAAAAAAAAAAAAAAAAAAgAAAAAAAAAAAAABAAAAAAAAAAAAAAAAAAAAAAAAAAAAAAAAAAAAAAAAAgAAAAAAAAAAAAAAAAAAAAAAAAAAAAAAAAAAAAAAAAAAAAAAAAAAAAAAAQAAAAAAAAEAAAcAAAAAAAAAAAAAAAAAAAAAAAAAAgAAAAAAAQAAAAAAAAAAAAAAAAAAAAAAAAAAAAAAAAAAAAAAAAAAAAABAAAAAAAAAAAAAAAAAAAAAAAAAAAAAAAAAAAAAAAAAAAAAAAAAAAAAAAAAAABAAAAAAAAAAAAAAAAAAAAAAAAAAAAAAEAAAABAAAAAAAAAAEAAAAAAgAAAAAAAAIAAAAAAAAAAAAAAAAAAAAAAAAAAAAAAAAAAAAAAAAAAAAHAAAAAAAAAAAAAAAAAAAAAAAAAAIAAAAAAAACAAAAAAAAAAAAAAAAAAAAAAAAAAAAAAAAAAAAAAAAAQAAAAAAAAAAAAAAAAAAAAEAAAAAAAAAAAAAAAAAAAAAAAAAAAAAAAAAAAAAAAAAAAAAAAAAAgAAAQAAAAAAAAAAAAAAAAAAAAAAAAAAAAAAAAAAAAAAAAAAAAAAAAAAAAABAAAAAAAAAAAAAAAAAQAAAAAAAAAAAAABAAAAAAAAAAAAAAAAAAAAAAAAAAAAAAAAAAAAAAAAAAAAAAAAAAAAAAAAAAAAAAAAAAAAAAAAAAAAAAAAAAAAAAAAAAAAAQAAAAAAAAAAAAAAAAAAAAAAAAAAAAAAAAAAAAAAAAAAAAAAAAAAAAAAAQAAAAAAAAAAAAAAAAAAAAAAAAAAAAIAAAEAAAAAAAAAAAAAAAAAAAAAAAAAAAAAAAAAAAAAAAAAAAAAAAAAAAAAAAAAAAAAAAAAAAAAAAAAAAAAAAABAAAAAAAAAQACAAAAAAAAAAAAAAAAAAAAAAAAAAAAAAAAAAAAAAAAAAAAAAAAAAAAAAAAAAAAAAAAAAAAAAEAAAAAAAAAAAAAAAABAAAAAAAAAAAAAAEAAAAAAAAAAAAAAAAAAQABAAAAAAAAAAAAAAAAAAAAAAEBAQAAAAAAAAAAAAAAAAAAAAAAAAAAAAAAAAAAAAAAAAABAAAAAAEAAAAAAAAAAAAAAAAAAAAAAAIAAAAAAAEAAAAAAAAAAAAAAAAAAgAAAAAAAAAAAAAAAAAAAAAAAAAAAAAAAgAAAAAAAAAAAAAAAAAAAAAAAAAAAAAAAAAAAAAAAAAAAAAAAAAAAAAAAAAAAAAAAAABAAAAAAAAAAAAAAEAAAAAAAAAAAAAAgAAAAAAAAAAAAAAAAAAAAAAAAAAAAAAAAAAAAAAAAAAAAAAAAAAAAAAAAADAAAAAAAAAAAAAAAAAAAAAAAAAAAAAAACAAAAAAAAAAAAAAAAAAACAAAAAAAAAAAAAAAAAAAAAAAAAAAAAAABAAAAAAAAAAAAAQACAAAAAAAAAQABAAAAAAAAAAAAAAAAAAAAAAAAAAAAAAAAAAAAAAACAAAAAAAAAAAAAAEAAAAAAAAAAAAAAAAAAQAAAAAAAAAAAAAAAAAAAAAAAAABAAAAAAAAAAAAAAAAAAAAAAAAAAAAAAAAAAAAAAAAAAAAAAAAAAEAAAAAAAAAAAAAAAAAAAAAAAAAAAEAAAAAAAAAAAAAAAAAAAAAAAAAAAAAAAAAAAAAAQAAAAAAAAABAAAAAAAAAAAAAgAAAAAAAAAAAAAAAAIBAAAAAAAAAAAAAAAAAQAAAAcAAAAAAAEAAAAAAAAAAgIAAAAAAAAAAAAAAAAAAAABAAAAAAAAAAAAAAAAAAAAAAAAAAAAAAEAAAAAAAAAAAAAAAAAAAAAAAEAAAAAAAAAAAAAAAAAAAAAAAAAAAEAAAAAAAAAAAAAAAAAAAAAAAAAAAAAAAAAAAABAgACAQAAAAACAAAAAAAAAAIAAAAAAAAAAAAAAAAAAAAAAAAAAAAAAAAAAAAAAAAAAAAAAAAAAAAAAAAAAAAAAAAAAAAAAAAAAAAAAAAAAAAAAAAAAAAAAAAAAAAAAAAAAAAAAAAAAAAAAAAAAAAAAAEAAAIAAAEAAAAAAAAAAAAAAAAAAAABAAAAAAAAAAABAAAAAAAAAAAAAAAAAAAAAAAAAAAAAAAAAAAAAAAAAAAAAAAAAAAAAAAAAAAAAAAAAAAAAAAAAAAAAAAAAAAAAAAAAAAAAAAAAAAAAAAAAAAAAAAAAAAAAAAAAAAAAAAAAAAAAAAAAAAAAAAAAAAAAAAAAAEAAAEAAAAAAAEAAAAAAAAAAAAAAAIAAAAAAAAAAAAAAAIAAAAAAAAAAAAAAAAAAAAAAAAAAQAAAAAAAAAAAAAAAAAAAAAAAAIAAAAAAAACAAEAAAAAAgAAAAAAAAAAAAAAAAAAAAAAAAAAAAAAAAACAAAAAAAAAAAAAAAAAAAAAAAAAAAAAAIAAAAAAAAAAAAAAAAAAAAAAAAAAAAAAAAAAAAAAAAAAAAAAAAAAAAAAAAAAAAAAAAAAAAAAAAAAAABAAAAAQAAAAAAAAAAAAAAAQAAAQAAAAAAAAIAAAAAAAAAAAAAAAAAAAAAAAAAAAAAAAAAAQAAAAAAAAAAAAAAAAAAAAAAAAAAAAAAAAAAAAAAAAAAAAAAAAAAAAAAAAAAAAAAAAAAAAEAAAAAAAAAAQAAAAAAAAAAAAAAAAAAAAEAAAAAAAAAAAAAAAAAAAAAAAAAAAAAAAAAAAAAAAAAAAAAAAABAAAAAAAAAAAAAAAAAAAAAQAAAAAAAAAAAAAAAAAAAAAAAAAAAAAAAAAAAAAAAAACAQEAAAAAAAABAAAAAAAAAAAAAAAAAAAAAAAAAAAAAAAAAAAAAAAAAAAAAAAAAAAAAAAAAAAAAAABAAAAAAAAAAAAAAAAAAAAAAAAAAAAAAAAAAAAAAAAAAAAAAAAAAAAAAAAAAABAAAAAAAAAAAAAAAAAAABAAAAAAAAAAAAAAAAAAAAAAAAAAAAAAEAAAAAAQAAAAAAAAAAAAAAAAAAAAAAAAABAAAAAAAAAAAAAAAAAAAAAAAAAQAAAAAAAAAAAAAAAAAAAAAAAQAAAAAAAAAAAAABAAAAAAAAAAAAAAAAAAAAAAAAAAAAAAAAAAAAAAAAAAAAAAAAAAAAAAAAAAAAAAAAAAAAAAAAAAAAAAAAAAAAAAAAAAAAAAAAAAAAAAAAAAAAAAAAAAAAAgAAAAAAAAAAAAAAAAAAAAAAAAAAAAAAAAAAAAAAAAAAAAAAAAAAAgAAAAAAAAAAAAAAAAAAAAAAAAAHAAABAAAAAAAAAAAAAAAAAgAAAAAAAAAAAAAAAAAAAAAAAAAAAAAAAAAAAAAAAAAAAAAAAAAAAQEAAAAAAAAAAAAAAAAAAAAAAAAAAAAAAAABAAAAAAAAAAAAAAAAAAAAAAIAAAAAAAAAAAAAAAAAAAAAAQAAAAAAAQIAAAAAAAAAAAAAAAAAAAAAAAIAAAAAAAAAAAAAAAAAAAAAAAAAAAAAAAAAAAAAAAAAAAAAAAAAAAAAAAAAAAAAAAAAAAAAAAAAAAAAAAAAAAAAAAEAAAAAAAAAAAAAAAAAAAEAAAAAAAAAAAAAAAABAQAAAAABAAAAAAAAAAABAAAAAAABAAAAAAAAAAAAAAAAAAAAAAAAAAAAAAAAAAAAAAAAAAIAAAAAAAAAAQAAAAAAAAAAAAAAAAAAAAAAAAAAAAAAAAAAAQACAAAAAAAAAAAAAAAAAAAAAAAAAAAAAAAAAAAAAAAAAAAAAQAAAAAAAAAAAAAAAAAAAAAAAAAAAAAAAAAAAAABAAAAAAAAAAAAAAAAAAAAAAAAAAAAAAAAAAAAAAAAAAAAAAAAAAAAAAAAAAAAAQEAAAAAAAAAAAAAAAAAAAAAAAAAAAAAAAAAAAAAAQAAAAcAAAAAAAEAAAAAAAAAAAAAAAAAAAAAAAAAAAAAAAAAAAAAAAAAAAAAAAAAAAAAAAAAAAAAAAAAAAAAAAABAAAAAAAAAAAAAAAAAAAAAAAAAQABAAAAAAAAAAAAAAAAAAACAAAAAAAAAQAAAAAAAAAAAAAAAAAAAgAAAAAAAAAAAAAAAAAAAgAAAAAAAAAAAAAAAAAAAAAAAAAAAAAAAQAAAAEAAAAAAAAAAAAAAAAAAgAAAAAAAAAAAAAAAAAAAAAAAAAAAAAAAAAAAAAAAAAAAwAAAAAAAAAAAAAAAAAAAAEAAAAAAAcAAAAAAAAAAAAAAAAAAAAAAAAAAAAAAAAAAAAAAAAAAAEAAAAAAAAAAAAAAAAAAAAAAAAAAAAAAAAAAAAAAAAAAAAAAAAAAAAAAAAAAAAAAAAAAAAAAAAAAAEAAAAAAgAAAAAAAAAAAAAAAAABAAAAAAAAAAAAAQAAAAAAAQAAAAAAAAAAAAAAAAAAAAAAAAAAAAEAAAAAAAAAAAAAAAAAAAAAAAAAAAEAAAAAAAAAAAAAAAAAAAAAAAAAAAACAAEAAAIAAAAAAAAAAAAAAQAAAAAAAAAAAAAAAAAAAAAAAAAAAAAAAQAAAAAAAAAAAAAAAAAAAAAAAAAAAAAAAAAAAAAAAAAAAAAAAAABAAAAAAAAAAAAAAAAAAAAAAAAAAAAAAACAAAAAAAAAAAAAAAAAAAAAAAAAAAAAAIAAAAAAAAAAAAAAAAAAAAAAAAAAAACAAAAAAAAAAAAAAAAAAAAAAAAAQAAAAAAAAAAAAAAAAAAAAAAAAAAAAAAAAAAAAIAAAAAAAAAAAAAAAAAAAAAAAAAAAAAAAABAAAAAAAAAAAAAAAAAAAAAAAAAAAAAAIAAQAAAAIAAAAAAAAAAAAAAAAAAAAAAAAAAAAAAAAAAAAAAAAAAAAAAAcAAAEAAAAAAAAAAAAAAAIAAAAAAAAAAAAAAAAAAAAAAAAAAAAAAAAAAAAAAAAAAAAAAAAAAAAAAAAAAAAAAAAAAAAAAAAAAAAAAAAAAAABAQAAAAAAAAAAAAAAAAAAAAAAAAAAAAAAAAEAAAAAAAAAAQABAAABAAAAAAcAAQAAAAAAAQAAAAAAAAAAAAAAAAAAAAAAAAAAAAAAAAAAAAAAAAAAAAAAAAAAAAAAAAAAAAAAAAAAAAAAAAAAAAABAAAAAAEAAAAAAAAAAAAAAAAAAAAAAAAAAAAAAAAAAAEAAAAAAAAAAAAAAAAAAAAAAAAAAAAAAAABAAAAAAAAAAAAAAAAAAAAAAAAAAAAAAAAAAAAAAAAAAAAAAAAAAAAAAAAAAAAAAEAAAAAAAAAAAAAAAAAAAAAAAAAAAAAAAAAAAAAAAAAAAAAAAAAAAAAAAAAAAIAAAAAAAAAAAEAAAAAAAAAAAAAAAAAAAAAAgAAAAAAAAAAAAAAAAAAAAAAAAACAAAAAAIAAAAAAAAAAAAAAAAAAAAAAAAAAAAAAAAAAAABAAAAAAAAAAAAAAAAAAAAAAAAAAAAAAAAAAAAAAAAAAAAAAAAAAACAAEAAAAAAQAAAAAAAAAAAAAAAAAAAAAAAAAAAAACAAAAAAAAAAAAAAAAAAAAAAAAAAAAAAAAAAABAAAAAAAAAAAAAAAAAAAAAAAAAAABAAAAAQAAAAAAAAAAAAAAAAAAAAAAAAAAAAAAAAAAAAAAAAAAAAAAAAAAAQAAAAAAAAAAAAAAAAAAAAAAAAAAAAAAAAAAAAAAAAAAAAAAAAAAAAAAAAEAAAAAAAAAAAAAAAIAAAAAAAAAAQAAAAAAAAAAAAAAAAAAAAAAAQAAAAAAAAAAAAAAAAAAAAAAAAAAAAAAAAEAAAAAAAAAAAABAAAAAAAAAAAAAAAAAAAAAAAAAAAAAAAAAAAAAAAAAAAAAAAAAAAAAAAAAAAAAAAAAAAAAAACAAAAAAAAAAAAAAAAAAABAQAAAAAAAAAAAgAAAAAAAAAAAAAAAAAAAAAAAAAAAAAAAAAAAAAAAAAAAAAAAAAAAAAAAAAAAAACAAAAAAAAAAAAAAAAAAAAAAAAAAAAAAAAAAAAAAAAAAAAAAAAAAEAAAIAAAAAAAAAAAAAAAAAAAAAAQEAAAAAAAAAAAAAAAAAAAAAAAAAAAAAAAAAAAAAAAAAAAAAAAAAAAAAAAAAAAAAAAAAAAAAAAAAAAAAAAAAAAAAAAAAAAAAAAAAAAAAAAAAAAAAAAABAAAAAAAAAAAAAAAAAAAAAAAAAAAAAAAAAAAAAAAAAAAAAAAAAAIAAgAAAAAAAAAAAAAAAAAAAAAAAAABAAAAAAAAAAAAAAAAAAAAAAAAAAAAAAAAAAAAAAAAAAAAAAAAAAAAAAAAAgAAAAAAAAAAAAAAAAAAAAIAAAAAAAAAAAAAAAAHAAAAAAAAAAAAAAAAAAAAAAAAAAAAAAAAAAAAAAAAAAAAAAAAAAAAAAAAAAAAAAAAAAAAAAAAAAAAAAAAAAAAAAAAAAAAAAAAAAAAAAAAAAAAAAAAAgAAAAAAAAAAAAAAAAAAAAAAAAAAAAAAAAAAAAAAAAAAAAAAAAAAAAAAAQAAAAAAAAAAAAAAAAAAAAAAAAAAAAAAAAAAAAAAAAAAAAAAAAAAAAAAAAAAAAAAAAAAAAABAAAAAAAAAAAAAAAAAAAAAAAAAAAAAAAAAAAAAAAAAAAAAAAAAAAAAAAAAAABAAAAAAAAAAAAAAAAAAAAAAAAAAAAAAAAAAAAAAEAAAAAAAAAAAAAAAAAAAAAAAAAAAAAAAAAAAAAAAACAAAAAAAAAAAAAAAAAAAAAAAAAAAAAAAAAAAAAAAAAAAAAAAAAAAAAAAAAAAAAAAAAAAAAAAAAAAAAAAAAAAAAAAAAAAAAAAAAAAAAAAAAAAAAAAAAAAAAAAAAAAAAAAAAAAAAAAAAAAAAAAAAAAAAAAAAAAAAAAAAAAAAAAAAAAAAAAAAAAAAAAAAAAAAQAAAAAAAAAAAAAAAAAAAAAAAAAAAAAAAAAAAAAAAAABAAAAAAAAAAAAAAAAAAAAAAAAAAAAAAAAAAAAAAAAAAIAAAAAAAAAAAAAAAAAAAAAAAAAAAAAAAAAAQAAAAAAAAAAAAAAAAIAAAAAAAAAAAAAAAAAAAACAAAAAAAAAAAAAAAAAAAAAAAAAAAAAAAAAAAAAAAAAAABAgAAAAAAAAAAAAAAAAAAAAAAAAAAAAAAAAAAAAAAAAAAAAAAAAAAAAAAAgAAAAAAAAAAAAAAAAAAAAACAAAAAAAAAAAAAAAAAAAAAAAAAAAAAAAAAAAAAAAAAAAAAAAAAAAAAAAAAAAAAAAAAAAAAAAAAAAAAAAAAAAAAAAAAAAAAAAAAAAAAAAAAAAAAAAAAAAAAAAAAAAAAAAAAAAAAAAAAAAAAAAAAAAAAAAAAAAAAAAAAAAAAAAAAAAAAAAAAAAAAAAAAAAAAAAAAAAAAAAAAQAAAAAAAAAAAAAAAAAAAAAAAAAAAAAAAAAAAAAAAAAAAAAAAAAAAAAAAAAAAAAAAAAAAAAAAAAAAAABAAAAAAAAAQAAAAAAAAAAAAAAAAAAAAAAAAEAAAAAAAAAAAACAAAAAAAAAgAAAAAAAAAAAAAAAAAAAAAAAAAAAAAAAAAAAAAAAAAAAAAAAAAAAAABAAAAAAAAAAACAAAAAAAAAAAAAAAAAAAAAAAAAAAAAAAAAAAAAAAAAAAAAAAAAAAAAAAAAAAAAAAAAAAAAAAAAAAAAAAAAQAAAAAAAAAAAAAAAAAAAAAAAAAAAAAAAAAAAAABAAEAAAAAAAIAAAAAAAAAAAEAAAAAAAAAAAAAAAAAAAAAAAAAAAAAAAAAAAAAAAAAAAAAAAAAAAAAAAAAAAAAAAAAAAAAAAAAAAAAAAAAAAAAAAAAAAAAAAAAAAAHAAAAAAAAAAAAAAAAAAAAAAAAAAAAAAAAAAAAAAAAAAAAAAAAAAAAAAAAAAAAAAAAAAAAAAAAAAAAAAAAAAAAAAAAAQAAAAAAAAEAAAEBAAAAAAAAAAAAAAAAAAAAAAAAAAAAAAAAAAAAAAAAAAAAAAAAAAAAAAAAAAAAAAIAAAIAAAAAAAAAAAEAAAAAAAAAAAAAAAAAAAAAAAAAAAAAAAAAAAAAAAAAAAAAAAAAAAAAAAACAAACAAAAAAAAAAAAAAAAAAAAAAAAAAAAAAAAAAAAAAAAAAAAAAAAAAAAAAAAAAAAAAEAAAAAAAAAAAIAAAAAAAACAAAAAAAAAAAAAAAAAAAAAAAAAAAAAAAAAAAAAAAAAAAAAAAAAAAAAAAAAQAAAgAAAAAAAAAAAAAAAAAAAAAAAQAAAAAAAAAAAAAAAAAAAAAAAAAAAAAAAAAAAAAAAAAAAAAAAAAAAAAAAAAAAAAAAAAAAAAAAAAAAAAAAAAAAAAAAAAAAAAAAAAAAAAAAAAAAAAAAAAAAAAAAAAAAAAAAAAAAAAAAQAAAAABAAAAAAAAAAAAAAAAAAAAAAAAAAAAAAAAAAAAAAAAAAAAAAAAAAAAAAAAAAAAAAAAAAAAAAAAAAABAQEAAAAAAAACAAAAAAABAAAAAAAAAAAAAAEAAAAAAAEAAAAAAAAAAAEAAAEAAAAAAAAAAAAAAgAAAAAAAAAAAAAAAQAAAAAAAAAAAAAAAAAAAAAAAAAAAAAAAQAAAAAAAAAAAAAAAAABAAAAAAABAAAAAAAAAAEAAAAAAAAAAAABAAAAAAAAAAAAAAABAAAAAAAAAAAAAAAAAAAAAAAAAAAAAAAAAgABAAAAAAAAAAEAAAAAAAAAAAAAAAAAAAACAAAAAAAAAAAAAAAAAAAAAAAAAAAAAAAAAAAAAAAAAAAAAAAAAAAAAAAAAAAAAAAAAAAAAAAAAAEAAAIAAAAAAAAAAQAAAAAAAAAAAAAAAAAAAAAAAAAAAAAAAAAAAAAAAAAAAAAAAAAAAAAAAAAAAAAAAAAAAAAAAQAAAAAAAAAAAAAAAAAAAAAAAAEAAAAAAAAAAAAAAAAAAAAAAAEAAAAAAAAAAAAAAAAAAAAAAAAAAAAAAAAAAAAAAAAAAAEAAAAAAAAAAAABAAAAAAAAAAAAAAAAAAAAAAAAAAAAAAAAAAAAAAAAAAAAAAAAAAAAAAAAAAAAAAAAAAAAAAAAAAAAAAAAAAAAAAAAAAAAAAAAAAAAAAAAAAAAAAAAAAAAAAAAAAAAAAAAAAAAAAAAAAAAAAAAAAAAAAAAAAAAAAAAAAAAAAAAAAAAAAEAAAAAAAAAAAAAAAAAAAAAAgAAAAAAAAAAAQAAAAEAAAAAAAAAAAAAAAAAAAAAAAAAAAEAAAAAAQAAAAAAAAAAAAAAAAAAAAAAAAAAAAAAAAAAAAAAAAAAAAAAAAAAAQAAAAAAAAAAAAAAAAAAAAAAAAAAAAAAAAAAAAEAAAAAAgAAAAAAAAAAAAAAAAAAAAAAAAAAAAABAAIAAAAAAAAAAAAAAAAAAAAAAAAAAAAAAAAAAAAAAAACAAAAAAAAAAAAAAAAAAAAAAAAAAAAAAACAAAAAAAAAAAAAAAAAAACAAcAAAAAAAAAAAAAAAAAAAAAAAAAAAABAAAAAAAAAAAAAAAAAQABAQEAAQAAAAAAAAEAAAEAAAAAAAAAAAAAAAAAAAAAAAAAAAABAAAAAAAAAAAAAAAAAAAAAAAAAAAAAAAAAAAAAAAAAAAAAAAAAAAAAQAAAgAAAAAAAAAAAAAAAAAAAAAAAAAAAAAAAAAAAAAAAAAAAAAAAAAAAAAAAAEAAAABAAAAAgAAAAAAAAEAAAAAAAAAAAAAAAAAAAAAAAAAAgAAAAAAAAACAAAAAAAAAAAAAAAAAAEAAAEAAAAAAAAAAAAAAAAAAAAAAAAAAAAAAAAAAAAAAAAAAAAAAAAAAAAAAAAAAgIAAAAAAAAAAAAAAAAAAAAAAAAAAAAAAAAAAAAAAAAAAAABAAEAAAAAAAAAAAAAAAEAAAAAAAAAAAAAAAAAAAAAAAAAAAAAAAAAAAAAAAAAAAAAAAAAAAAAAAAAAAAAAAAAAAAAAAAAAAAAAAAAAAAAAAIAAAAAAAAAAAAAAAAAAAABAAAAAAAAAAAAAAAAAAAAAAAAAAAAAAAAAAAAAAAAAAAAAAAAAAAAAAAAAAAAAAAAAAAAAAAAAAAAAAAAAAAAAAAAAgAAAAACAAABAAAAAAAAAAAAAAAAAAAAAAAAAAAAAAAAAAAAAAAAAAAAAAAAAQAAAAAAAAAAAAAAAAAAAAAAAAAAAAAAAAACAAAAAAAAAAAAAAAAAQAAAAAAAgAAAAAAAAAAAAAAAAAAAAAAAAAAAAACAAAAAAAAAAAAAAAAAAABBwAAAAAAAAAAAAAAAAAAAAAAAAAAAAAAAAAAAAAAAAAAAAAAAAAAAAACAAAAAAAAAAAAAAAAAAAAAAAAAAAAAAAAAAAAAAAAAAAAAAAAAAAAAAEAAAAAAAAAAAAAAAAAAAAAAAAAAAAAAAAAAAAAAAAAAAAAAAAAAAAAAAAAAAAAAAAAAAAAAAAAAAAAAAAAAQAAAAAAAAAAAAAAAAAAAQAAAgAAAAAAAAAAAAAAAAAAAAABAAAAAAAAAAAAAAAAAAAAAAAAAgAAAAAAAAAAAAAAAAAAAAAAAAAAAAAAAAAAAAAAAAAAAAAAAAAAAAAAAAAAAAAAAAAAAAAAAAAAAAAAAAAAAAEAAAAAAAAAAAAAAAAAAAAAAAAAAAAAAAAAAAAAAAAAAAAAAAAAAAAAAAAAAAAAAAAAAAAAAAAAAAAAAAAAAAAAAAAAAAAAAAEAAAAAAAAAAAAAAAAAAAAAAAAAAAAAAAAAAAAAAAAAAAAAAAAAAAAAAAAAAAAAAAAAAAEAAAAAAAAAAAAAAAAAAAAAAAABAAECAAAAAAABAAAAAAAAAAAAAAAAAAAAAAAAAAAAAQAAAAAAAAAAAAEAAAAAAAAAAAAAAAAAAgAAAAAAAAAAAAAAAAACAAAAAAAAAQAAAAAAAAAAAAAAAAAAAAAAAAAAAAAAAQAAAAAAAAAAAAAAAAACAAAAAAAAAAAAAAAAAAAAAAAAAAAAAAAAAAAAAQEAAAAAAQAAAAAAAAAAAAAAAAAAAAAAAAAAAAAAAAAAAAAAAAAAAAAAAAAAAAAAAAEAAAAAAAABAAAAAAAAAAEAAAAAAAAAAAAAAAAAAAAAAAAAAAAAAAAAAAAAAQAAAAAAAAAAAAAAAAAAAAAAAAAAAAAAAAAAAAAAAgAAAgAAAAAAAAAAAAAAAAAAAAAAAAAAAAAAAAAAAAcAAAAAAAAAAAAAAAAAAAAAAAAAAAAAAAAAAAAAAAAAAAAAAAAAAAAAAAAAAAAAAQAAAAAAAAAAAAAAAgAAAAAAAAAAAAAAAAAAAQAAAAAAAAIAAAAAAAAAAQAABAAAAAAAAAAAAAAAAAAAAAEAAAAAAAACAAAAAAAAAQAAAQAAAAAAAAAAAAAAAAAAAAAAAAEAAAAAAAAAAAAAAAAAAAAAAAAAAAACAAAAAAAAAAAAAAAAAAAAAQAAAAAAAAAAAAAAAAAAAAAAAQAAAAAAAAAAAAAAAAAAAAABAAAAAAAAAAAAAAAAAAAAAAAAAAAAAAAAAAAAAAAAAAAAAAAAAQAAAQAAAAAAAAAAAAAAAgAAAAAAAAAAAAAAAAAAAAEAAAAAAAAAAAAAAAAAAAAAAQAAAAAAAAAAAAAAAAAAAAAAAAAAAAAAAAAAAAAAAAAAAAAAAAAAAAABAAAAAAAAAAAAAAAAAAAAAAAAAAAAAAAAAAAAAAAAAAAAAAAAAAAAAAABAAAAAAAAAAAAAAAAAAAAAAAAAAAAAAAAAAAAAAAAAAAAAAAAAAAAAAAAAAAAAAAAAAAAAAAAAAAAAAAAAAEAAAAAAAAAAAAAAAAAAAAAAAAAAAAAAAAAAAAAAAAAAAAAAAABAAAAAAAAAAAAAAAAAAAAAAAAAAAAAAABAAAAAAAAAQEAAAAAAAAAAAAAAAAAAAAABwAAAAAAAAAAAAAAAAAAAQAAAAAAAAABAAAAAAAAAAAAAAAAAAABAAACAAAAAAAAAAAAAQAAAAAAAAAAAAEAAgAAAAAAAAAAAQAAAAAAAAAAAAAAAAAAAAAAAAAAAAAAAgAAAAAAAAAAAAAAAAAAAAAAAAAAAAAAAAAAAAAAAQAAAgAAAAAAAAAAAAAAAAAAAAAAAAAAAAAAAAAAAAABAAAAAAAAAAAAAAAAAAAAAAAAAAAAAAAAAAAAAAAAAAAAAAAAAAAHAAAAAAAAAAAAAAAAAQIAAAAAAAAAAAABAAAAAAAAAAAAAAAAAAAHAAAAAAAAAAAAAAAAAAAAAAAAAAAAAAAAAAEAAAAAAAAAAAAAAAAAAAAAAAAAAAAAAAAAAAAAAgAAAAIAAAAAAQAAAAAAAAAAAAAAAAAAAAAAAAAAAAAAAAAAAAAAAAAAAAAAAAAAAAAAAAAAAAAAAAAAAAAAAAAAAAAAAAACAAAAAAAAAAACAAAAAAAAAAAAAAACAAAAAAAAAAEAAAEAAAAAAAAAAAAAAAEAAgAAAAAAAAAAAAAAAgAAAAAAAAAAAAEAAAAAAQAAAAAAAAAAAAAAAAAAAAAAAAAAAAEAAAAAAAAAAQIAAAAAAAAAAAAAAgAAAAAAAAAAAAAAAAAAAAAAAAAAAAAAAAAAAAAAAAIAAAEAAAEAAAAAAAAAAAABAAABAAAAAAAAAAAAAAAAAAABAAAAAAAAAAAAAAAAAAABAAAAAAAAAAAAAQAAAAAAAAAAAAAAAAAAAAAAAAAAAAIAAAAAAAAAAAAAAAAAAAAAAAAAAAAAAAAAAAAAAAAAAAAAAAAAAAAAAAIAAAAAAAAAAAAAAAAAAAAAAAAAAAAAAAAAAAAAAAAAAAAAAAAAAAAAAAAAAAAAAAAAAAAAAAEBAAAAAAAAAAAAAAAAAAAAAAAAAAAAAAABAQAAAAAAAAEAAAAAAAAAAAAAAAAAAAAAAAAAAAAAAAAAAAAAAAAAAAAAAAAAAAAAAAAAAAACAAAAAAAAAAAAAAAAAAAAAAAAAAAAAAEAAAABAAAAAAAAAAAAAAAAAAAAAAAAAAAAAAAAAAAAAAAAAAAAAAAAAAAAAAAAAAAAAAAAAAAAAAAAAAAAAAAAAAAAAAAAAQAAAAAAAAACAAAAAAAAAAAAAAAAAAEAAAACAAAAAAAAAAEAAAAAAAAAAAAAAAAAAAAAAAAAAAAAAAAAAAAAAAAAAAAAAAAAAAACAAAAAAEAAgAAAAAAAAAAAAAAAAAAAAAAAAAAAAAAAAAAAAAAAAAAAAACAAAAAAAAAAAAAAAAAAAAAAAAAAAAAAAAAAAAAAAAAAAAAAAAAgAAAAAAAAAAAAAAAAAAAAAAAAAAAAAAAQAAAAAAAAAAAAAAAAAAAAABAAAAAAAAAAAAAAAAAAAAAAAAAAcAAAAAAAAAAAIAAAAAAAAAAAAAAAAAAAAAAAAAAAAAAAAAAAAAAAAAAAAAAAAAAAAAAAEAAAAAAAAAAAAAAAAAAAAAAAAAAAAAAAAAAAAAAAAAAAAAAAAAAAAAAAAAAAAAAAAAAAAAAAAAAAAAAAAAAgAAAAAAAAAAAAAAAAAAAAAAAQACAAAAAAABAAABAAAAAAACAAAAAAAAAAABAQAAAAAAAAAAAAAAAAAAAAAAAAAAAAAAAAAAAAAAAAAAAAAAAAAAAAAAAAEAAAAAAQEAAAAAAAAAAAAAAAAAAgAAAAAAAAAAAQAAAAAAAAAAAAAAAAAAAAAAAAAAAAAAAAAAAAAAAAAAAAAAAAAAAAAAAAAAAAABAAIAAAAAAAAAAAAAAAAAAAAAAAIAAAAAAAAAAAAAAAAAAAAAAQAAAQAAAAACAAAAAAAAAAAAAAAAAAAAAAAAAAAAAAACAAAAAAAAAAAAAAAAAAAAAAAAAAAAAAAAAAAAAAAAAAAAAQAAAAAAAAAAAAAAAAAAAAAAAAAAAAAAAAAAAAAAAAAAAAAAAAAAAAAAAAAAAAAAAAAAAAABAAAAAAAAAAAAAAAAAAAAAAAAAAAAAAAAAAAAAAAAAAAAAAAAAgEAAAAAAAAAAAIAAAAAAAAAAAAAAAAAAAAAAAAAAAAAAAAAAAAAAAAAAAAAAQAAAAAAAAAAAAAAAAAAAAAAAAAAAAAAAAABAAAAAAAAAAACAAAAAgAAAAEAAAAAAQAAAAAAAQAAAAAAAAAAAAAAAAAAAAAAAAAAAAAAAAAAAAAAAAAAAAAAAAIAAAAAAAAAAAAAAAAAAAACAAAAAAAAAAAAAAEAAAAAAAAAAAAAAAAAAAAAAAAAAAAAAgAAAAAAAAAAAQAAAAAAAAAAAAAAAAAAAAAAAQAAAAAAAAAAAAAAAAAAAAAAAAAAAAAAAAAAAAAAAAAAAAAAAAEAAAAAAQAAAAABAAEAAAEAAAAAAAAAAAAAAAABAAAAAAAAAAIAAAAAAAAAAAAAAAAAAAAAAAAAAAAAAAAAAAAAAAAAAAAAAAAAAAAAAAAAAAAAAAAAAQAAAAAAAAAAAAAAAAAAAAAAAAAAAAAAAgAAAAAAAAEAAAABAAAAAAECAAABAAAAAAEAAAAAAAAAAAAAAAAAAAIAAAAAAAAAAAAAAAAAAAECAAAAAAAAAAAAAAAAAAAAAAAAAAAAAAAAAAAAAQAAAAAAAAAAAAAAAAAAAAAAAgAAAAIAAAAAAAAAAAAAAAAAAAAAAAAAAAAAAAAAAAEAAAAAAAAAAAAAAAACAAAAAAEAAAAAAAAAAAAAAAIAAAIAAAAAAAAAAAAAAgABAAAAAAAAAAAAAAAAAAAAAAAAAAAAAAAAAAAAAAAAAAAAAAABAAAAAAAAAAAAAAAAAAAAAAAAAgAAAAAAAAAAAAAAAAAAAAAAAAAAAAAAAAAAAAAAAAAAAAAAAAAAAAAAAAAAAAAAAAEAAAAAAAAAAAAAAAAAAAAAAAAAAAAAAAAAAAAAAAAAAAAAAAAAAAAAAAAAAAAAAAAAAAIAAAAAAAAAAAAAAAAAAAAAAAAAAAABAAAAAAAAAAAAAAAAAAEBAAEAAAAAAAAAAAAAAAAAAAAAAAAAAAAAAAAAAQAAAAAAAAAAAAAAAAAAAQAAAAIAAAAAAAIAAAAAAAAAAAAAAQAAAAAAAAAAAAAAAAAAAAAAAAAAAAAAAAAAAAAAAAAAAAACAAAAAAAAAAAAAAAAAAABAAAAAAAAAAAAAAAAAAAAAAAAAAAAAAAAAAAAAQAAAAAAAAAAAAAAAAAAAAAAAAAAAAAAAAABAAAAAAAAAAAAAAAAAQAAAAAAAAAAAAAAAQAAAAAAAAAAAAAAAAAAAAAAAAAAAAAAAAAAAAAAAAAAAAAAAAAAAAAAAAAAAAAAAAAAAAAAAAEAAAAAAAABAAAAAAAAAAAAAAAAAAABAAAAAAABAAAAAAAAAAAAAAAAAQABAAAAAAABAAAAAQAAAAAAAAAAAAAAAAAAAAAAAAABAAAAAAAAAAAAAAAAAAAAAQAAAAAAAAAAAAEAAAAAAAAAAAAAAAAAAgAAAAAAAQAAAAABAAAAAQAAAAEAAAAAAAAAAAAAAAAAAAIAAAAAAgAAAAAAAAABAAAAAAAAAQAAAAAAAgAAAAAAAAAAAAAAAAAAAAAAAAAAAAAAAAABAAEAAAAAAAAAAAAAAAAAAAAAAAABAAAAAAIAAAEAAAAAAAABAAAAAQAAAAAAAAAAAAAAAAAAAAACAAEAAAAAAAAAAAAAAAAAAAAAAAAAAAAAAAABAAAAAAAAAAAAAQAAAAAAAAAAAAAAAAAAAAACAAAAAAEAAAAAAAAAAAAAAAAAAAAAAAIAAAAAAAAAAAAAAAAAAAIAAAAAAAAAAAAAAAAAAAAAAQEHAAAAAAAAAAABAAEBAAAHAAABAAACAAABAAAAAAAAAAAABwAAAAAAAAABAAAAAAAAAAEAAAAAAAAAAAAAAAAAAAACAAAAAAAAAQAAAAAAAAAAAAAAAAAAAAICAAABAAACAAAAAAACAAAAAAAAAAABAAAAAQAAAAAAAAAAAQcCAQAAAAAAAQAAAAEAAAAAAAAAAAAAAQEAAAAAAAcAAAAAAAAAAQAAAAABAAEAAAAAAAAAAAEBAAAAAAAAAAABAAABBwIAAAAAAAAAAAAAAAABAAAAAgAAAAAAAAAAAAAAAAAAAAAAAAAAAAAAAAAAAAABAAAAAAAAAAAAAAAAAAAAAAAAAAAHAAAAAAAAAAEAAAAAAAAAAAAAAAAAAAAAAAAAAAAAAQAAAQAAAAAAAAAAAAEAAQAAAAAAAAAAAAAAAQAAAAAAAAAAAAAAAQAAAQAAAAAAAAAAAAAAAAABAAAAAAAAAAAAAAAAAAAAAAAAAAAAAAACAAAAAAACAAEAAAAAAQEAAQAAAAEAAAAAAAAAAAAAAAAAAAAAAAAAAAAAAAAAAAMAAAAAAAAAAAAAAAAAAAEAAAAAAAAAAAAAAAAABwIAAgAAAQABAAAAAAEAAAAAAAAAAAAAAAAAAAAAAAAAAAIAAAAAAAEAAAEBAAAABwAAAAAAAAADAAAAAAABAAAAAAAAAAABAAAAAAAAAQAAAAAAAAIAAAABAAAAAAAAAgAAAAABAAAAAAAAAAAAAAEAAAAABwABAAAAAAAAAAAAAAIAAAAAAQAAAQAAAAAAAAABAQAAAAAAAAAAAAAAAAAAAAEAAAAAAAAAAAAAAAEAAAAAAAAAAAAAAAAAAAAAAAAAAAAAAAAAAAEAAAAAAAAAAAAAAAAAAAAAAAAAAAAAAAAAAAABAAEAAAAAAAAAAAEAAAAAAAAAAAAAAAABAAAAAQABAAAAAAAAAAAAAAAAAAAAAAEAAAACAAAAAAAAAAABAAAAAgAAAAAAAgEAAAAAAAAAAAAAAAAABwAAAAEAAAAAAQAAAAAAAAEBAAAAAAcAAAACAAACAAIAAAEAAAAAAAAAAQAAAAAAAAAAAQAAAAAAAAAAAgAABwACAAEAAAAAAAAAAAAAAAAAAAAAAAAAAAAAAgAAAAAAAAAAAAAAAAIAAAAABwAAAAAAAAIAAAAAAAAAAAEAAgcAAAAAAAAAAAAAAAAAAAACAQAAAAAAAQAAAAABAAAAAAAAAAAAAAEAAAAAAAIAAAAAAQAAAAAAAAAAAAcBAQAAAAAAAAAAAAABAAAAAAAAAAAAAAAAAAAAAAAAAAABAAAAAAABAAAAAAAAAAABAAAAAAAAAAAAAAAAAAACAAAAAAAAAAAAAAAAAAAAAgAAAAAAAAAAAAAAAAAAAgABAAIAAAAAAAEAAAIAAAEAAAAAAAAAAgAAAAABAAAAAAAAAAAAAAAAAAAAAAcAAAAAAAAAAAAAAAABAAAAAAAAAAABAQEBAAEAAQABAAAAAAAAAAAAAAABAAAAAAAAAAAAAAAAAAAAAQAAAAABAAAAAAAAAAABAAEAAAAAAAMAAAABAAAAAAAAAAAAAAAAAgABAAABAAAAAAAAAAEAAAEAAAEAAAEAAAABAAEAAAEAAAAAAQAAAAAAAAAAAAEBAAABAAAAAAEBAAAAAAABAAABAAAAAAAAAAAAAAAAAAAAAQAAAAAAAAEAAAABAAEAAAAAAQAAAAAAAAAAAAAAAAABAAAAAAAAAAABAAEBAAAAAAAAAQABAAAAAAAAAAAAAQAAAAAAAAAAAAACAQAAAQAAAAAAAAAAAAABAAEBAQAAAAAAAQABAAEAAAEBAAEAAQAAAAAAAAAAAAAAAAAAAQAAAQAAAAEAAAEAAAAAAQAAAQAAAAAAAAAAAAAAAAAAAAEAAAAAAAAAAAAAAAAAAQAAAAAAAAAAAAAAAAABAQAAAAAAAAAAAQAAAAEAAAAAAQAAAQAAAAAAAQAAAAAAAAEAAAAAAQACAAAAAAABAAAAAAIAAAEAAAAAAQAAAQEAAAABAAEBAAAAAAEAAQAAAAAAAAAAAAAAAAEAAAAAAAEAAAAAAAAAAAAAAAEBAAAAAAAAAAEAAQAAAQAAAAAAAAAAAQAAAAAAAAAAAAEAAAABAAEAAAAAAAEAAAAAAAAAAAABAAAAAAAAAAAAAAABAAABAAAAAAAAAAABAAABAAAAAAAAAAABAAAAAAAAAAEBAQAAAQAAAAAAAAAAAQAAAAAAAAAAAAEAAwACAAEBAAAAAAABAAACAAAAAAABAAAAAAAAAQACAAEAAAAAAAAAAAEAAQAAAAAAAAABAAAAAAAAAAABAAABAQABAAAAAAAAAQEAAQAAAAACAAMAAAAAAAABAAIAAAAAAAAAAAAAAAAAAAAAAAAAAAAAAAAAAAAAAAAAAAAAAQAAAAABAAAAAAAAAgAAAAEAAAAAAAAAAQIAAAAAAAAAAgAAAAAAAAECAAAAAAAAAAAAAAAAAAACAAAAAAAAAAEAAQAAAAEAAAABAgABAAAAAAAAAAABAAAAAAEAAAACAAACAAAAAAAAAQAAAQAAAAAAAAIAAQEAAAAAAAAAAAEAAwEBAQABAQAAAAAAAAEAAAAAAAAAAAAAAAAAAAAAAAAAAAABAAAAAAEAAAEAAAAAAQABAAAAAAAAAAAAAQEAAAACAAAAAAAAAAAAAAAAAAEAAAABAAAAAAAAAAABAAAAAAAAAAAAAAABAAEAAAAAAAAAAAEBAAIAAAACAAADAAACAAAAAQAAAAAAAAAAAQAAAAAAAAEAAAAAAAEAAAAAAAAAAAAAAAAAAAAAAAAAAAAAAAAAAAAAAAAAAAAAAAAAAAAAAAAAAAAAAAAAAAAAAAAAAAAAAAAAAAAAAAAAAAAAAAAAAAAAAAAAAAAAAAAAAAAAAAAAAAAAAAAAAAAAAAAAAAAAAAAAAAAAAAAAAAAAAAAAAAAAAAAAAAAAAAAAAAAAAAAAAAAAAAAAAAAAAAAAAAAAAAAAAAAAAAAAAAAAAAAAAAAAAAAAAAAAAAAAAAAAAAAAAAAAAAAAAAAAAAAAAAAAAAAAAAAAAAAAAAAAAAAAAAAAAAAAAAAAAAAAAAAAAAAAAAAAAAAAAAAAAAAAAAAAAAAAAAAAAAAAAAAAAAAAAAAAAAAAAAAAAAAAAAAAAAAAAAAAAAAAAAAAAAAAAAAAAAAAAAAAAAAAAAAAAAAAAAAAAAAAAAAAAAAAAAAAAAAAAAAAAAAAAAAAAAAAAAAAAAAAAAAAAAAAAAAAAAAAAAAAAAAAAAAAAAAAAAAAAAAAAAAAAAAAAAAAAAAAAAAAAAAAAAAAAAAAAAAAAAAAAAAAAAAAAAIAAgACAAAAAAAAAAAAAAAAAAAAAAAAAAAAAAIAAAAAAAAAAAABAAAAAAAAAAAAAAAAAAAAAAABAAAAAAAAAAAAAAAAAAAAAAAAAAAAAAAAAAAAAAAAAAAAAAAAAgAAAAAAAAEAAAAAAAAAAAAAAAAAAAAAAAAAAAAAAAAAAAAAAAAAAgAAAAAAAAAAAAAAAAAAAAAAAAAAAAAAAAAAAAAAAAAAAAAAAAAAAQAAAQAAAAAAAAACAAcCAAAAAAAAAAEAAAAAAAAAAAAAAAAAAQAAAAAAAAAAAAAAAAAAAAAAAAAAAAIAAAAAAAEAAAAAAAAAAAAAAAAAAAAABwAAAAAAAAAAAAAAAAAAAAABAAAAAAAAAAAAAAMAAAAAAAAAAAAAAAIAAgAAAAAAAAAAAAAAAAAAAAAAAAACAAAAAAAAAAAAAAAAAAEBAAAAAAAAAAABAAAAAAAAAAAAAAAAAQAAAAAAAQAAAAAAAAAAAAAAAAAAAAEAAAAAAQAAAAAAAAAAAAAAAAAAAAAAAAAAAAAAAAAAAAAAAAAAAAABAAAAAAAAAAAAAAAAAAAAAAAAAAAAAAAAAAAAAAAAAAAAAQAAAAAAAAAAAAAAAAAAAAABAAAAAAAAAAAAAAACAAAHBwAAAAAAAAAAAAAAAAAAAAAAAAAAAAAAAgAAAAAAAAIAAAEAAAABAAABAAABAAAAAAAAAAAAAAAAAAAAAQAAAAAAAAAAAAAAAAABAAAAAAIAAAAAAQACAAAAAAAAAAAAAAABAAAAAAAAAAAAAAAAAAAAAAAAAAAAAAAAAAAAAAAAAAAAAAAAAAAAAAAAAAEAAAACAAAAAAAAAAAAAAAAAAAAAAAAAAAAAAABAAEAAAAAAAAAAAAAAAAAAAAAAAAAAAAAAAAAAAAAAAAAAAAAAAABAAAAAAAAAAACAAAAAAABAAAAAAEAAAAAAgAAAAAAAAAAAAAAAAABAAAAAAABAQAAAAAAAAAAAAAAAAAAAAAAAAAAAAAAAAAAAAAAAQAAAAAAAAAAAAAAAAAAAAAAAQAAAAAAAAAAAAAAAAAAAAAAAAABAAACAAAAAAAAAAAAAAAAAAIAAAAAAAEAAAAAAAAAAAAEAAIAAAAAAAAAAAAAAAAAAAABAAAAAAAAAAAAAAAAAAAAAAAAAAEAAAAAAAAAAAAAAAAAAAAAAAAAAQAAAAAAAAAAAAAAAAAAAAAAAAAAAAAAAAAAAAAAAAAAAAAAAAACAAEAAAAAAQAAAAAAAAAAAAAAAAAAAAAAAAAAAAAHAAEAAAAAAAIAAAAAAAACAAAAAAAAAAAAAQAAAAAAAAAAAAAAAAAAAAAAAAACAAAAAAAAAAAAAgIAAAAAAAAAAAAAAAAAAAAAAAAAAAAAAAAAAAAAAAAAAAAAAAIAAAAAAAAAAAIAAAAAAAAAAAAAAAAAAAAAAAAAAAAAAgAAAAABBwcAAAAAAAAAAAAAAAAAAAAAAAAAAQABAAAAAAAAAAAAAAAAAAAAAAAAAAAAAAAAAAAAAAAAAQAAAAAAAAAAAAAAAAAAAAAAAAAAAgAAAAAAAAAAAgAAAAAAAAAAAAAAAAAAAAAAAAAAAQAAAAAAAAIAAAAAAAAAAAAAAAAAAAAAAAAAAAAAAAAAAAAAAAAAAAAAAAIAAAAAAAAAAQAAAAAAAAAAAAAAAAAAAQEAAAAAAAAAAAAAAAAAAAEAAAAAAAAAAAAAAAAAAAAAAAABAAAAAAAAAAAAAAABAAEAAQAAAAEAAQAAAAAAAAAAAgAAAAAAAAAAAAAAAAEAAAAAAAAAAAAAAAAAAAAAAQEAAAAAAAAAAAAAAAAAAAAAAAAAAAEAAAAAAAABAAAAAAAAAAAAAQAAAAIAAAAAAAEAAQAAAAAAAAAAAAAAAAAAAAAAAAAAAQAAAAAAAAAAAgAAAQIAAAAAAAAAAAAAAAAAAAAAAAAAAAAAAAAAAAAAAAAAAAAAAAAAAAAAAAAAAAAAAAAAAAEAAAAAAAAAAAAAAAEAAAAAAQAAAAACAAIAAAIAAAADAAAAAAAAAAAAAAAAAAEAAAAAAAAAAAABAAAAAAAAAAAAAAAAAAcAAAAAAAAAAAAAAAAAAAAAAAAAAAAAAAAAAAAAAAAAAgAAAAAAAAAAAAAAAAAHAAAAAAAAAAAAAAAAAAAAAAAAAAAAAAACAAAAAAAAAAAAAAAAAAAAAAAAAAcAAAAAAAAAAAAAAAAAAAAAAAAAAAAAAAAAAAAAAAAAAAAAAAAAAAAAAAAAAAAAAAEAAAAAAAAAAAAAAAAAAAAAAAAAAAAAAAAAAAAAAAAAAAAAAAAAAAAAAAAAAAAAAAEAAAAAAAAAAAAAAAAAAAAAAAAAAAAAAAAAAAAAAAAAAAAAAAAAAAAAAAAAAAAAAAAAAAAAAAAAAAAABwIAAAAAAgAAAAAAAgAAAAAAAAAAAAAAAAAAAAcAAAACAAAAAAAAAgAAAAAAAAAAAAAAAAAAAAAAAAAAAAAAAAAAAAEAAAAAAAAAAAAAAAAAAAABAAEBAAAAAAAAAAAAAAAAAAAAAAAAAgAAAAAAAAAAAAAAAAAAAAAAAAEAAAAAAAAAAAAAAAAAAAAAAAAAAAAAAAAAAAEAAAIAAgAAAAAAAAAAAAAAAAABAAAAAAAAAQAAAAIAAAAAAAEAAAAAAAAAAAAAAAAAAAIAAAAAAgAAAAAAAAAAAAEAAAACAAAAAAAAAAAAAAAAAAAAAAAAAAAAAAAAAAABAAAAAAAAAAEAAAAAAAIAAAAAAAEAAAAAAAAAAAIAAAAAAAAAAAAAAAAAAAAAAAAAAAAAAAAAAAAAAQAAAAAAAAAAAAAAAAAAAAAAAAABAAAAAAIAAAAAAAAAAAAAAAAAAAAAAAAAAAAAAQABAAACAAAAAAEAAAAAAAAAAAECAAAAAAAAAAAAAAAAAAAAAAAAAAAAAAIAAAAAAAAAAAAAAAAAAAAAAAAAAAAAAAAAAAAAAAEAAAAAAAABAAAAAAAAAAAAAAAAAAAAAgABAgAAAAABAAAAAAABAAEAAAIAAAAAAgAAAAAAAAABAQAAAAAAAAAAAAAAAAAAAAAAAAEAAAAAAAAAAAABAAAAAAAAAAAAAQAAAAEAAQAAAAEAAAEAAQAAAAAAAQAAAAAAAQAAAAAAAAAAAAAHAQEBAAAAAAAAAAAHAAAAAAAAAAAAAAABAAAAAAAAAAAAAAAAAAEAAAAAAAAAAAAAAAAAAAAAAAAAAAAAAAEAAAAAAAABAAAAAAAAAAcAAAAAAAAAAAAAAQAAAAABAQABAQIAAAAAAAABAAAABwAAAAEBAQAAAAAAAAEAAAAAAAAAAQAAAAIAAAAAAAABAAAAAQABAAEAAAcAAAAAAAAAAAEAAAEAAAAAAAAAAAcAAAAAAAAAAAAAAAAAAgAAAAAAAAACAAAAAAAAAAABAAAAAAAAAAEAAAAAAAAAAAAAAAAAAAAAAAAAAQAAAAAAAAABAAAAAAIAAAAAAAAAAAAAAAAAAAAAAAAAAAAAAAAAAAAAAAAHAAABAAAAAAAAAAAHAAAAAAAHAAcAAAICAAAAAAABAAAAAAAAAAAAAAAAAQAAAAAAAAAAAAEAAAABAAAAAAAAAAAAAAQAAQAAAAAAAAAAAAAAAAAAAAAAAAAABwAABwAAAAAAAAAAAAAAAAEAAAAAAAAAAQACAAAABwEAAQAAAAAAAAAAAAAAAAAAAAAAAAAAAAAAAAAAAAAAAAAAAAAAAAAAAAAAAAcAAAAAAAAAAAAAAAAAAAAHAAEAAAAAAAAAAAEAAAAAAAAAAAAAAAAAAAAAAAAABwAAAAAAAAEABwAAAAAAAAAAAAAAAAAAAAABAQAAAAAAAAAAAAAAAQAAAAAAAAAAAAAHAQAAAAAAAAAAAAEAAAABAAAAAAAAAAAAAAEAAAAAAAAAAAAAAAAAAAABAAAAAAABAAAAAAEAAAAAAAAAAgAAAAAABwAAAAACAQEAAAAAAAcAAAAAAAAAAAAAAAAAAAAAAAAAAQAAAAAAAAAHAgAAAAAAAAAAAAAAAAAAAAABAgAAAAAAAAAAAAAAAAAAAAAAAAAAAAAAAAAAAAAAAAAAAAAAAAAAAAAAAQAAAAABAAcAAAAAAgAAAAAAAAAAAAAAAAAAAAAAAAAAAAAAAAAAAQAAAAAAAQAAAAEAAAAAAAAAAAAAAAAAAAEAAAAAAAAAAAAAAAAAAAAAAAAAAAAAAAAAAAAAAAAAAAAAAgABAAAHAAAAAQAAAAAAAAABAAACAAAAAAAAAAAAAAAAAAAAAAAAAAABAAAAAAAAAAAAAAEAAAAAAAAAAAcAAAAAAAAAAAAHAAAAAAIAAQABAAAAAAAAAAAAAAAAAAAAAAAAAAAAAAAAAAAAAAAAAAAAAAAAAAAAAAAAAAAAAAAAAAAAAAABAAAAAAAAAAAAAAAAAAAAAAAAAAAAAAAAAAAAAAAAAAAAAAAAAAAAAAAAAAEAAAAAAAcAAAAAAAAAAAAAAAAAAAAAAAAAAAIAAQAAAAEAAAAAAAABAAAAAAAAAAAHAAAAAAEAAAAAAAAAAAAAAAAAAAAAAgAAAAACAAIAAAAAAAAAAAAAAAACAAAAAAAAAAAAAAAAAAAAAAAAAAACAAAAAAAAAAACAAAAAgAAAAABAAABAAAAAAAAAAAAAAEAAAAAAAAAAAEAAgAAAAACAAAAAAAAAAAAAAAAAAAAAAAAAAAAAAAAAAAAAAQAAAAAAAAABwAAAAAAAAAAAAAAAAAAAAAAAQAAAAAAAQAAAAAAAAACAAAAAAAAAAAAAAACAAAAAAAAAAIAAAAAAAAAAAABAAACAAAHAAAAAAAAAAAAAAAAAAAAAAABAAAAAAAAAAAAAAAAAAAAAAAAAAAAAAAAAAACAAAAAAAAAAAAAAAHAAAAAAAAAAAAAAAAAAAAAAEAAAIAAQAAAAAAAgAAAAAAAAAAAAAAAAAAAAAAAAAAAAIAAAABAAABAQABAAAAAAAAAAIAAAAAAAAAAAAAAAAAAAAAAAAAAAAAAAAAAAAABwAAAAAAAAAAAAAAAAAAAAAAAAAAAAAAAAAAAQAAAAAAAAAAAAAAAAAAAAIAAAACAAAAAAAAAAAAAAAAAAAAAAAAAAEAAwAAAAAAAAABAAAAAAAAAAAAAAAAAAAAAAAAAAAAAAAAAAAAAAAAAAAAAAAAAAAAAAEBAAAAAQAAAAABAAAAAAABAAAAAAEAAAAAAAAAAAEAAAAAAAACAAEBAAAAAAAAAAAAAAAAAAAAAQAAAAAAAAABAAAAAAAAAAAAAAAAAQAAAAAAAAAAAAEAAAABBwAAAAAAAAAAAQABAAAAAAAAAgAAAAAAAAAAAAACAAABAQAAAAAAAAAAAAAAAAAAAAAAAAAAAAIAAAEHAAAAAAEBAAAAAAAAAgAAAAAAAAABAAAAAAIAAAAAAAcAAAAAAAABAAAAAAAAAAAABwAAAAAAAAAAAAAAAgAAAAAAAAAAAAABAAAAAAAAAAAAAAAAAQAAAAAAAAAAAAAAAAAAAAAAAAAHAAAAAAAAAAAAAAAAAAAAAAAAAAAAAAAAAAACAAAAAAAAAAAAAAAAAQAAAAAAAAAAAgAAAAAAAAABAAAAAAEBAAAAAAAAAAAAAAAAAAAAAAAAAAAAAAABAAAAAQIAAAAAAAAAAAAAAAAABwAAAAAAAAEAAQAAAAAAAAAAAAAAAAAAAAAAAAAAAAAAAQIAAAAAAAAAAAABAAcBBwAAAAAAAQAAAQAAAAAHAAAAAAAAAAAAAAAAAAAAAAAAAQAAAAcAAAAAAAABAAEAAAAAAAAAAAAAAAABAAAHAQAAAAABAAAAAAAAAAAAAQAAAAAAAAEAAAEAAAEBAAAAAAAAAAAAAAAAAAAAAAEAAAAAAQAAAAABAQcAAQAAAAAAAQAAAAAAAAEAAAAAAAECAAAAAQAAAAABAAAAAQAAAAEBAAAAAAAAAAEAAAAAAAAAAAAAAAAAAAAAAAcAAAEAAAAAAAAAAAABAQAAAAAAAQAAAAEAAAEAAAAAAAABAQAAAAAAAAAAAAAAAAAAAAAAAQAAAAAAAAEAAAEAAAAAAAAAAAAAAQAAAAAHAQABAAEAAAAAAAAAAAAAAAAAAAAAAAACAQAAAAAAAAAAAQAAAAAAAAAAAAABAAcAAQEAAAAAAAAAAAACAAEBAAcAAQAAAAAAAQEBAAAHAQAAAAEBAAAAAAABAAEAAAAAAAAAAQEAAQAAAAEAAgABAAAAAQAAAQcAAQAAAAABAAAAAQABAAABAAAAAAAAAAAAAQAAAAEAAAAAAAABAAEAAAAAAAAAAAAAAAAAAAABAAABAQAAAQcAAQEAAAEAAAIAAAACAAABAAAAAAAAAAABAAIAAAAAAAABAAAAAQAAAAAAAQAAAAAAAAABAAAAAAAAAAIAAAAAAAAAAAAAAAAAAAAAAAACAAAAAAEAAAAAAAEBAAAAAAAAAgIAAAAAAAAAAAAAAAEAAAAAAAAAAQAAAAAAAAAAAQAAAAEAAgAAAAAAAAAAAAAAAAAAAQAAAAAAAAACAAAAAAAAAQAAAAAAAAEAAAAAAAAAAAAAAAAAAAEAAAAAAAIAAQAAAAAAAQAAAAAAAAAAAAEAAQAAAAAAAAAAAAAAAAAAAAAAAAAAAQABAAAAAAAAAAEAAQAAAAAAAAACAAAAAAAAAAABAQAAAQAAAAIAAAAAAAIAAQAAAAAAAAIAAQAAAAACAAAAAAAAAAABAQEAAAAAAAAAAQAAAAAAAAAAAQAAAAACAQAAAAAAAQAAAAAAAAAAAAABAAAAAAAAAAAAAAAAAAAAAAAAAAAAAAAAAAAAAAAAAQAAAAAAAAAAAgAAAAABAAAAAgABAAAAAAAAAAAAAAAAAAAAAAIAAAAAAAAAAAAAAAAAAAEAAAAAAAAAAAIAAAAAAAAAAgAAAQAAAAIAAAAAAQAAAAIBAAAAAAIBAAABAgAAAAAAAAAAAAAAAgAAAAAAAAAAAAAAAAAAAAAAAAAAAAAAAAAAAAIAAAIAAAAAAwABAAAAAAEBAAAAAAAAAAcAAAAAAAAAAAAAAAAAAgAAAAAAAQABAAABAAEAAAAAAAABAAIAAAAAAAAAAAAAAAEAAAAAAAAAAAAAAAAAAAAAAgAAAgAAAAAAAAAAAAAAAAAAAAAAAAAAAgAAAAAAAQAAAAAAAAAAAAAAAAAAAAAAAQAAAAABAAAAAAABAAAAAAAAAAABAgAAAQABAAAAAAABAAAAAgABAAAAAgAAAAABAAAAAAAAAAABAAIAAAAAAAAAAAAAAAAAAAIAAAAAAQEAAQAAAAAAAAECAAAAAAACAAABAAAAAAAAAAEAAAEAAAAAAAAAAAACAQAAAAEAAAAAAAAAAQAAAAAAAAAAAAAAAAABAAIAAQcAAAAAAAAAAAAAAAAAAAAAAAAAAAIAAAIAAAAAAAEAAAAAAAAAAAABAAAAAQEAAAAAAAAAAAAAAAEAAAAAAAACAQAAAAAAAgAAAAAAAAAAAQAAAAAAAAAAAAEAAQAAAQEBAAAAAAAAAAAAAAABAAEAAAAAAAAAAAAHAAIAAAAAAAAAAAAAAAAAAAEAAAAAAQAAAAAAAAAAAAAAAAAAAAAAAAAAAAECAAIAAAAAAAAAAAAAAAAAAAAAAAAAAgEAAAABAQAAAAAAAQABAAAAAAABAAAAAAAAAgQAAAAAAAABAAAAAQAAAQAAAAABAAAAAAAAAAAAAAAAAAIAAAAAAAAAAAABAAABAQAAAAAAAAEAAAAAAAABAAABAQIAAAEAAAAAAAEAAAAAAAAHAAAAAgAAAAACAAAAAAAAAAAAAgAAAAAAAAAAAgAAAAEAAAEAAAAAAAAAAQAAAAAAAAECAAAAAAECAQAAAAAAAAABAAEBAAAAAAABAQAAAAAAAAABAAEAAAAAAAAAAAAAAAAAAAEAAAAAAAAAAAAAAAAAAAABAAAAAAABAAIAAAAAAAAAAAIAAAAAAAAAAgAAAAAAAQAAAAAAAAAAAAABAAABAAEAAAAAAAEAAAAAAQAAAAAAAAABAAAAAAAAAAAAAAAAAAAAAAAAAQABAAAAAAABAAEAAAAAAAAAAAEAAAIAAAAAAAACAAABAAAAAAAAAAEAAAAAAAAAAQAAAAEAAQACAAAAAAAAAAMAAAAAAAABAAEAAAcAAAAAAAAAAAAAAAACAAAAAQEAAAABAQAAAAAAAAAAAQAAAAAAAAAAAAAAAAIAAAEBAQAAAAAAAAAAAAAAAQACAQAAAAEBAAAAAAAAAQAAAAABAAAAAAAAAAAAAQAAAAABAAABAAAAAAEBAAIAAQACAAAAAQAAAAAAAAAAAAAAAAACAQAAAAAAAAEAAAABAAAAAAAAAgABAAACAAAAAgIAAAAAAAABAAAAAAAAAAAAAAAAAAAAAAACAAAAAQABAAIAAAAAAAcAAAAAAAAAAAAAAAAAAAEBAAEAAAACAAAAAQIAAAEAAAAAAAECAAAAAAAAAQAAAAABAAAAAAACAAAAAAAAAAEAAAAAAQABAAAAAAAAAQAAAAAAAgAAAAAAAAAAAQABAAEAAAAAAAACAAAAAAAAAAAAAAAAAQAAAAAAAQAAAAAAAAAAAAIAAAEAAQABAgAAAQAAAAAAAAAAAQAAAAAAAAIHAAAAAAACAAAAAAcBAAIAAAEAAAAAAQAAAAAAAAAAAAEAAAAAAAAAAAEAAAAAAAAAAAAAAAAAAAAAAAAAAAAAAAAAAAAAAAAAAgAAAAAAAAIBAAAAAAAAAAABAAAAAAAAAQAAAAAAAAAAAQAAAQAAAAAAAAAAAAAAAAAAAQAAAAAAAAAAAAAAAAIAAAAAAAEAAAABAAAAAAAAAAAAAAIAAAAAAAEBAAAAAAAAAAACAAEAAAAAAwAAAAAAAAAAAAAAAAAAAAABAAAAAQAAAAAAAQAAAAAAAQAAAAEAAQAAAAAAAAABAAAAAQAAAAAAAAACAAAAAQIAAAAAAAAAAAAAAQACAAAAAAAAAAAAAAAAAAAAAAAAAAABAQEAAAAAAQAAAAABAQABAQIAAAAAAAAAAAAAAAEBAQEBAAABAAAAAAAAAAAAAAAAAAACAAAAAQIAAQAAAAAAAQAAAgIAAAAAAgEBAAEAAAAAAQACAAAAAAABAAAAAAAAAQAAAAAAAAABAAAAAQEAAAACAgEAAAAAAAAAAAAAAAAAAAAAAAAAAAABAAAAAAAAAQAAAAABAAAAAAAAAQAAAAAAAAAAAAAAAAAAAAAAAAAAAAAAAAAAAAAAAgEAAAABAAAAAAAAAAAAAQABAAAAAAAAAAAAAAECAAAAAAAAAAEAAAAAAAABAAEBAAABAAABAAACAAAAAAAAAAEAAQAAAAIAAQAAAAAAAAAAAAAAAAAAAAABAAAAAAAAAAACAQAAAAAAAAAJAAAAAQABAAAAAAAAAAABAAAAAAEAAAAAAAAAAAABAAAAAAACAAAAAgAAAQABAAEAAAAABwABAAAAAAABAQABAAACAQAAAAABAQAAAAAAAAACAAABAAAAAAEAAAABAAACAgAAAQAAAAEAAAEAAAAAAAIBAAAAAAACAAAAAQAAAAAAAAEAAAIBAAAAAAAAAQAAAQEAAAEAAAAAAQABAAAAAAACAAAAAAABBgAAAQAAAAEAAAAAAAAAAAIAAAAAAAAAAAAAAAACAQECAAAAAAAAAAAAAAEAAAAAAQEAAAAAAQIAAAAAAAAAAAEDAAAAAAAAAAAAAAAAAAAAAAAAAgAAAAABAAACAAAAAAEAAAAAAAAAAAABAAAAAAAAAAAAAAAAAAAAAQABAAcBAAIAAAAAAAAAAAAAAAAAAAAAAAABAAABAAEBAAAAAAAAAAABAAAAAQAAAQAAAAAAAAAAAQEAAAAAAAAAAAACAAAAAAEAAAEAAAAAAAAAAAABAAAAAAEAAAAAAAAAAAABAQAAAAAAAAAAAQEAAAABAAABAAAAAAAAAAAAAAAAAAcAAAIAAAAAAgAAAAAAAQEAAQABAQAAAAAAAAAAAQAAAAAAAAACAAAAAgEAAAABAAAAAAAAAQAAAAAAAAAAAAIAAAAAAAAAAAAAAAEDAAIAAAAAAQAAAAIAAAAAAAEAAAIAAAAAAAAAAAADAQAAAQAAAAAAAAAAAQABAAABAAECAAAAAAAAAAEAAQAAAAECAQAAAAEAAAAAAQAAAAAAAgAAAQAAAQAAAAEAAQAAAQAAAAAAAQAAAAACAQEAAAAAAAAAAAIAAAAAAAcAAAACAAAAAgAAAAAAAAAAAAAAAAEAAAAAAAAAAQAAAAAAAAAAAAAAAAIAAgAAAAAAAAAAAQABAAAAAQEAAQIAAQIAAAAAAAAAAAAAAAAAAAABAAACAAAAAAAAAQACAAcAAAEAAAAAAAAAAQEAAAAAAAABAAAAAAABAAAAAAAAAAAAAAAAAAAAAAAAAAAAAAAAAQAAAAAAAAAAAAAAAQIAAAEAAAABAAAAAAAAAAAAAQAAAQAAAAAAAAEAAAAAAAEAAAAAAAAAAAAAAAABAAAAAAAAAgAAAAAAAQAAAAAAAAcAAAAAAAAAAAAAAAAAAAEAAAAAAQABAAAAAAAAAAAAAAABAgEAAAABAAIAAAEBAgAAAAEAAgAAAAIAAQIAAAAAAAAAAAcAAAIAAgABAAEAAAAAAAAAAgAHAAABAAAAAgABAAAAAAAAAAAAAAEAAQABAAAAAAAAAQAAAAEAAQEAAAEAAAAAAAIAAAAAAAAAAAAAAAABAAIAAAIAAAAAAQABAAAAAAEAAAAAAQAAAAACAAEBAAAAAQAAAAEAAQIBAAAAAAAAAAABAAAAAAAAAAAAAAABAAAAAAAAAgEAAAAAAQAAAAAAAAAAAAAAAAAAAAAAAAACAAAAAAAAAAAAAAAAAAEAAQAAAQAAAAAAAAABAAAAAAABAAABAAABAAAAAAAAAAAAAAABAAABAAEBAAAAAAAAAgAEAAEAAAAAAAAAAAIAAAACAQABAgAAAgAAAAABAAAAAAACAgAAAAAAAAIAAAACAAAAAAEAAAABAAAAAAAAAAAAAAAAAAAAAAAAAAABAAAAAAAAAAIAAAAAAAAAAgAAAAAAAQAAAAAAAAAAAAIAAAAAAAACAAAAAAEAAAAAAAEAAAAAAQACAAAAAAAAAQAAAAAAAgAAAQEAAAAAAAAAAQAAAAAAAAABAQABAQAAAAAAAAAAAAAAAAIAAAAAAAEAAQEAAQABAAAAAQEAAAAAAAAAAAAAAAABAAAAAAEAAAAAAAAAAAAAAAABAAAAAAAAAAEAAAABAAAAAAIAAAEAAQAABwABAAAAAAAAAAAAAAMBAAACAAAAAAAAAAMAAAAAAAAAAAAAAAAAAAABAAAAAAAAAAAAAAAAAAAAAAACAQAAAAABAQAAAAABAAAAAQAAAAAAAAAAAAABAQEAAQAAAAAAAAAAAAEAAAEBAAACAAAAAgACAAAAAQEBAAACAAECAAEAAAAAAAABAAAAAAABAAAAAAABAAEAAAEAAAABAAEAAAABAAEAAAIAAAAAAQABAAAAAAAAAAAAAAABAAEAAAAAAAACAQAAAAAAAQAAAAEAAAACAAAAAAIAAAAAAAEBAAAAAAAAAAAAAgEAAAAAAAAAAAAAAAAAAAAAAAAAAAAAAQAAAAEBAQAAAAAAAAAAAAEAAgABAwIAAgAAAAAAAAAAAAAAAAIBAAAAAAAAAAABAAAAAAAAAAAAAgAAAAAAAAAAAAAAAAAAAAAAAAAAAAAAAAAAAAAAAAAAAAAAAAAAAAAAAQAAAAEAAAACAQABAAAAAQAAAQAAAAAAAAEAAAAAAAAAAAEAAAAAAAAABwAAAAAAAAAAAAAAAgAAAQAAAAECAAACAQAAAAAAAAAAAAAAAAIAAAAAAAIBAAIAAAADAAAAAAAAAAAAAAAAAAAAAAAAAAAAAAAAAAAAAAAAAAABAAMBAAAAAAAAAAEAAAAAAAEAAAAAAgAAAAABAAAAAAAAAAIBAAAAAAAAAAEAAAABAAAAAAIAAQAAAQAAAQAAAgAAAQACAgAAAAAAAAAAAAEAAAEAAAAAAAAAAAAAAAEBBwAAAAAAAAAAAAAAAgAAAAABAAAAAAAAAAACAAADAAAAAAABAAAAAQAAAAAAAAIBAAAAAAAABwADAAAAAAAAAAAAAAABAAAABwAAAQAAAAAAAAAABwAAAAAAAAIAAQAAAAAAAAAAAgAAAAAAAAAAAAAAAAAAAAEAAAAAAQAAAAAAAQAAAAAAAAACAAAAAAAAAgAAAAAAAQAAAAAAAAEAAAAAAAAAAQAAAAAAAAAABwAAAAEAAAEAAAAAAAAAAAABAAAAAgABAAAAAAAAAAEAAAAAAAAAAAAAAAECAAAAAAEAAAAAAAABAAEAAAAAAAAAAAAAAAAAAAEAAAAAAAAAAQAAAgAAAAEAAAAAAAEAAAAAAAAAAAEAAAEAAAAAAAABAQAAAAAAAAAAAAAAAAAAAAEAAAAAAAAAAAAAAAAAAgEAAAAAAQAAAAAAAgIAAAEBAAEAAAEBAQAAAAAAAAABAAEAAAAAAAAAAAABAAAAAAEAAAAAAAEAAAAAAAAAAAACAQAAAAAAAAAAAAABAgAAAQIAAAEAAAAAAAAAAAAAAAABAAAAAAAAAAEAAAAAAAIAAAAAAAAAAAAAAQAAAAACAAAAAAAAAAAAAAAAAAAAAQAAAAAAAAEAAAAAAQEBBwABAAAAAgAAAAAAAAAAAAAAAAAAAAAAAQAAAAAAAAAAAAEAAAAAAAAAAAAAAAAAAAEAAAAAAAABAAAAAAAAAAIAAAABAAAAAAABAAAAAAACAAAAAAAAAAAAAAAAAAAAAAAAAAAAAAAAAAAAAAAAAAAAAAAAAAEAAAAAAQAAAAEAAQIAAAIAAAAAAAAAAAIAAAAAAAAAAQEBAQEAAAAAAAAAAAAAAAAAAAAAAAEAAAAAAQAAAAAAAAEAAAEAAAABAAAAAAAAAAAAAAEAAAAAAwAAAgAAAAAAAAIAAAAAAAAAAAAAAAAAAAAAAAAAAAAAAAAAAAACAAAAAAAAAAEAAAAAAAAAAAAAAgACAAABAQEAAAAAAAAHAAABAAACAAIAAAAAAAAAAAAAAQAAAAAAAQAAAQAAAAEAAQAAAAAAAAAAAAAAAAAAAAAAAAAAAAAAAAABAAAAAAAAAAAAAAAAAAEAAAEAAAAAAAEAAAEAAAAAAAAAAAAAAAAAAAAAAAAAAAAAAAAAAAAAAAAAAQABAAAAAAAAAQABAAAAAAAAAAAAAAAAAAAAAQAAAAAAAQAAAAAAAAEAAAAAAAAAAAAAAAAAAAAAAAAAAAAAAAEAAQAAAAAAAAAAAAAAAAAAAAAAAAAAAAAAAAAAAAEAAAAAAQAAAAAAAAABAAAAAAAAAQABAAAAAAAAAAEAAAAAAAAAAAEBAAAAAAAAAAAAAAAAAAABAAABAAEAAAAAAQAAAQAAAAEAAAAAAAAAAAAAAAAAAAAAAAAAAAAAAQAAAQAAAAAAAAAAAAAAAAAAAAAAAAEAAAAAAAAAAAAAAAEAAAEBAAAAAAAAAAABAAAAAAAAAAAAAAABAAAAAAAAAAAAAAAAAAAAAAAAAAAAAAAAAQAAAQAAAAEAAAAAAAEAAAAAAAAAAAAAAAAAAAAAAAAAAAAAAAAAAAAAAAAAAQAAAAAAAAAAAAAAAAAAAAAAAAEAAAAAAAAAAAAAAAAAAAAAAAAAAAEAAAAAAQEAAQEAAAABAAAAAQAAAAAAAAABAAABAAEAAAAAAAAAAAAAAAAAAAAAAAAAAAAAAAABAAAAAAAAAAAAAAAAAAAAAAAAAAAAAQAAAAAAAQAAAAAAAAAAAAABAAAAAAAAAAAAAAAAAAAAAAAAAAAAAAAAAQAAAAAAAAAAAAAAAAAAAAAAAAABAAAAAQAAAAEAAAAAAAEAAAAAAAAAAQAAAAAAAAAAAAAAAAAAAAEAAAABAAAAAAAAAAAAAAAAAAAAAAAAAAAAAAABAQAAAQAAAAAAAAAAAAAAAAAAAAEAAAAAAQABAQAAAAAAAAAAAAAAAAAAAAABAAAAAAAAAAAAAAAAAAEAAQAAAAAAAQAAAQAAAAAAAAAAAAAAAAABAAAAAAAAAAAAAAAAAAAAAAAAAAAAAAAAAAAAAAECAAAAAAAAAAAAAAAAAAAAAAAAAAEBAAABAAAAAAABAAAAAAAAAAAAAAAAAAAAAAAAAAAAAAAAAAAAAAIAAAAAAAAAAAAAAAABAAAAAAAAAAAAAAAAAAAAAAAAAAAAAAABAAAAAAAAAAAAAAAAAAAAAAAAAAAAAAAAAAAAAQAAAAAAAAAAAAAAAQAAAQAAAQAAAAEAAQABAAAAAAAAAAAAAAAAAAAAAAABAAEAAAAAAAEAAAAAAAAAAAABAAAAAAAAAAABAAEAAAAAAAAAAAAAAAAAAAAAAAAAAAAAAAAAAAACAAAAAAAAAAAAAAAAAAEAAAAAAAAAAAEAAAAAAgAAAAAAAQAAAAAAAAAAAAAAAAAAAAAAAAABAAAAAAAAAAAAAAEAAAAAAAAAAAAAAAAAAAAAAAAAAAAAAAAAAAAAAAAAAAAAAAAAAAAAAQAAAAAAAAAAAAAAAAABAAAAAAAAAAAAAAAAAgAAAAAAAAAAAAAAAQABAgAAAAAAAAAAAAAAAAAAAAABAAAAAAAAAAAAAAAAAAAAAAACAAAAAAAAAAAAAAAAAAAAAAAAAAAAAAAAAAAAAAAAAAAAAAAAAAABAAAAAAAAAAAAAAAAAAAAAAAAAAAAAAAAAAAAAAAAAAAAAAEAAQAAAAAAAAEAAAAAAAAAAAEAAAAAAAABAAAAAAAAAAAAAAAAAAAAAAABAAAAAAAAAAAAAAAAAQAAAAAAAAEAAAAAAQAAAAAAAAAAAQEAAAAAAAAAAAEAAAAAAAAAAAAAAAAAAAAAAAAAAAAAAAAAAAAAAAAAAAAAAAAAAAAAAAAAAQAAAAAAAAEAAAAAAAEAAAAAAAAAAAAAAAAAAAABAAAAAAAAAAAAAAAAAAAAAAAAAAAAAAEAAAAAAAAAAAAAAAAAAAAAAAAAAAAAAAAAAAAAAAAAAAAAAAAAAAAAAAAAAAAAAAAAAAAAAAAAAAAAAAAAAAAAAAAAAAAAAAAAAAAAAAAAAAAAAAAAAAAAAAAAAAAAAAAAAAAAAAAAAAAAAAAAAAAAAAAAAAIAAAAAAQAAAAAAAAAAAAAAAAAAAAAAAAAAAAAAAAAAAAAAAAAAAAAAAAAAAAAAAAAAAAAAAAAAAAAAAQAAAAAAAAAAAAAAAAAAAAAAAQAAAAEAAQAAAAAAAAAAAAAAAAAAAAAAAAAAAAAAAAAAAQABAAAAAAABAAAAAAAAAAAAAAAAAAAAAAAAAAABAAAAAAABAAAAAAAAAAAAAAAAAAABAAAAAAAAAAAAAAAAAAAAAAAAAAAAAAAAAAAAAAAAAAAAAAAAAAAAAAAAAAAAAAAAAAAAAAAAAAAAAQAAAAAAAAAAAAAAAAAAAAAAAAAAAAAAAAAAAAAAAAAAAAAAAAAAAAAAAAABAAAAAAAAAAAAAAAAAAAAAAAAAAAAAAAAAAAAAAAAAAEAAAAAAAAAAAAAAAAAAAABAAEBAAAAAAAAAAAAAAAAAAAAAAAAAAAAAAAAAAAAAAAAAAABAAAAAQAAAAAAAAAAAAEAAAAAAAAAAAEBAAEAAAAAAQAAAAIAAAEAAAAAAQAAAAAAAAAAAQABAAAAAAAAAAAAAQAAAAAAAAABAAAAAAAAAAAAAQAAAAAAAAAAAQAAAgAAAAEAAAAAAAAAAAAAAAAAAAAAAAAAAAAAAAAAAAAAAAAAAAAAAQAAAQAAAAAAAAAAAAABAQABAAAAAAAAAAEAAAABAAEAAAAAAAEAAAAAAAEAAAAAAAAAAAABAAAAAAAAAAAAAAAAAAABAAEAAAAAAAAAAAAAAAAAAAAAAAABAAAAAAEAAAAAAAAAAAAAAAAAAAAAAAAAAAAAAAAAAAAAAAEAAQAAAAAAAAEAAAAAAAAAAAAAAAAAAAAAAAEAAAEAAAEAAAAAAAAAAAAAAAAAAQAAAAAAAAEAAAAAAAAAAAAAAAAAAAAAAQAAAAAAAAEAAQAAAAAAAQAAAAAAAAAAAAAAAAAAAAAAAAAAAQAAAAAAAAAAAQAAAAAAAAAAAAAAAAAAAAAAAAAAAAAAAAAAAAAAAAAAAAAAAAAAAAABAQAAAAABAAAAAAEBAAABAAAAAAAAAAAAAAAAAAAAAAAAAAAAAAABAAAAAAAAAgACAAAAAAAAAAAAAAAAAAAAAgEAAAAAAAAAAAAAAAABAAABAAAAAAAAAQAAAAAAAAAAAAAAAAAAAAEAAAAAAAAAAAAAAAAAAAAAAgAAAAAAAAAAAAAAAAEAAAAAAAEAAAAAAAAAAAAAAAAAAAAAAAIBAAEAAAAAAAAAAAAAAAAAAAAAAAIAAAAAAAAAAAAAAAABAAAAAAABAAAAAQAAAAAAAAAAAAABAAAAAAAAAAAAAAAAAQABAAAAAAAAAAAAAAAAAAAAAAAAAAAAAAAAAAIAAAEAAAAAAAAAAAAAAAAAAAACAQABAAEAAAAAAAAAAAAAAAAAAAAAAAEAAAABAAEAAAAAAAEAAQAAAAAAAAAAAAAAAAABAAAAAQAAAQEBAAEAAAAAAQEAAAABAAEAAAEBAAAAAAAAAAAAAAAAAAAAAAAAAAAAAAAAAAAAAAAAAAAAAAAAAQAAAAAAAAAAAQEAAAAAAAAAAAAAAAAAAAAAAAAAAAAAAAAAAAEAAQEAAAAAAAAAAQEAAQEBAAEAAAEAAAAAAAEAAAAAAAAAAAAAAAIAAAABAAABAAEAAAAAAAAAAAABAAEAAAAAAAAAAAABAQABAAEAAAAAAAAAAAAAAAAAAAAAAAAAAQEAAAAAAAEAAAAAAQAAAgAAAQAAAAAAAQAAAAAAAAAAAQEAAAAAAQAAAAAAAAAAAAAAAAAAAAAAAAAAAAABAAEBAAAAAAAAAAAAAAAAAAAAAgAAAAAAAAAAAAIBAQEAAAAAAAAAAAAAAAAAAAABAAAAAQACAAAAAQABAAAAAQAAAAEAAAAAAAAHAAAAAQEAAAAAAAAAAAAAAQEA",
          "dtype": "i1"
         },
         "xaxis": "x",
         "yaxis": "y"
        }
       ],
       "layout": {
        "barmode": "relative",
        "legend": {
         "title": {
          "text": "Legend"
         },
         "tracegroupgap": 0
        },
        "showlegend": true,
        "template": {
         "data": {
          "bar": [
           {
            "error_x": {
             "color": "#2a3f5f"
            },
            "error_y": {
             "color": "#2a3f5f"
            },
            "marker": {
             "line": {
              "color": "white",
              "width": 0.5
             },
             "pattern": {
              "fillmode": "overlay",
              "size": 10,
              "solidity": 0.2
             }
            },
            "type": "bar"
           }
          ],
          "barpolar": [
           {
            "marker": {
             "line": {
              "color": "white",
              "width": 0.5
             },
             "pattern": {
              "fillmode": "overlay",
              "size": 10,
              "solidity": 0.2
             }
            },
            "type": "barpolar"
           }
          ],
          "carpet": [
           {
            "aaxis": {
             "endlinecolor": "#2a3f5f",
             "gridcolor": "#C8D4E3",
             "linecolor": "#C8D4E3",
             "minorgridcolor": "#C8D4E3",
             "startlinecolor": "#2a3f5f"
            },
            "baxis": {
             "endlinecolor": "#2a3f5f",
             "gridcolor": "#C8D4E3",
             "linecolor": "#C8D4E3",
             "minorgridcolor": "#C8D4E3",
             "startlinecolor": "#2a3f5f"
            },
            "type": "carpet"
           }
          ],
          "choropleth": [
           {
            "colorbar": {
             "outlinewidth": 0,
             "ticks": ""
            },
            "type": "choropleth"
           }
          ],
          "contour": [
           {
            "colorbar": {
             "outlinewidth": 0,
             "ticks": ""
            },
            "colorscale": [
             [
              0,
              "#0d0887"
             ],
             [
              0.1111111111111111,
              "#46039f"
             ],
             [
              0.2222222222222222,
              "#7201a8"
             ],
             [
              0.3333333333333333,
              "#9c179e"
             ],
             [
              0.4444444444444444,
              "#bd3786"
             ],
             [
              0.5555555555555556,
              "#d8576b"
             ],
             [
              0.6666666666666666,
              "#ed7953"
             ],
             [
              0.7777777777777778,
              "#fb9f3a"
             ],
             [
              0.8888888888888888,
              "#fdca26"
             ],
             [
              1,
              "#f0f921"
             ]
            ],
            "type": "contour"
           }
          ],
          "contourcarpet": [
           {
            "colorbar": {
             "outlinewidth": 0,
             "ticks": ""
            },
            "type": "contourcarpet"
           }
          ],
          "heatmap": [
           {
            "colorbar": {
             "outlinewidth": 0,
             "ticks": ""
            },
            "colorscale": [
             [
              0,
              "#0d0887"
             ],
             [
              0.1111111111111111,
              "#46039f"
             ],
             [
              0.2222222222222222,
              "#7201a8"
             ],
             [
              0.3333333333333333,
              "#9c179e"
             ],
             [
              0.4444444444444444,
              "#bd3786"
             ],
             [
              0.5555555555555556,
              "#d8576b"
             ],
             [
              0.6666666666666666,
              "#ed7953"
             ],
             [
              0.7777777777777778,
              "#fb9f3a"
             ],
             [
              0.8888888888888888,
              "#fdca26"
             ],
             [
              1,
              "#f0f921"
             ]
            ],
            "type": "heatmap"
           }
          ],
          "histogram": [
           {
            "marker": {
             "pattern": {
              "fillmode": "overlay",
              "size": 10,
              "solidity": 0.2
             }
            },
            "type": "histogram"
           }
          ],
          "histogram2d": [
           {
            "colorbar": {
             "outlinewidth": 0,
             "ticks": ""
            },
            "colorscale": [
             [
              0,
              "#0d0887"
             ],
             [
              0.1111111111111111,
              "#46039f"
             ],
             [
              0.2222222222222222,
              "#7201a8"
             ],
             [
              0.3333333333333333,
              "#9c179e"
             ],
             [
              0.4444444444444444,
              "#bd3786"
             ],
             [
              0.5555555555555556,
              "#d8576b"
             ],
             [
              0.6666666666666666,
              "#ed7953"
             ],
             [
              0.7777777777777778,
              "#fb9f3a"
             ],
             [
              0.8888888888888888,
              "#fdca26"
             ],
             [
              1,
              "#f0f921"
             ]
            ],
            "type": "histogram2d"
           }
          ],
          "histogram2dcontour": [
           {
            "colorbar": {
             "outlinewidth": 0,
             "ticks": ""
            },
            "colorscale": [
             [
              0,
              "#0d0887"
             ],
             [
              0.1111111111111111,
              "#46039f"
             ],
             [
              0.2222222222222222,
              "#7201a8"
             ],
             [
              0.3333333333333333,
              "#9c179e"
             ],
             [
              0.4444444444444444,
              "#bd3786"
             ],
             [
              0.5555555555555556,
              "#d8576b"
             ],
             [
              0.6666666666666666,
              "#ed7953"
             ],
             [
              0.7777777777777778,
              "#fb9f3a"
             ],
             [
              0.8888888888888888,
              "#fdca26"
             ],
             [
              1,
              "#f0f921"
             ]
            ],
            "type": "histogram2dcontour"
           }
          ],
          "mesh3d": [
           {
            "colorbar": {
             "outlinewidth": 0,
             "ticks": ""
            },
            "type": "mesh3d"
           }
          ],
          "parcoords": [
           {
            "line": {
             "colorbar": {
              "outlinewidth": 0,
              "ticks": ""
             }
            },
            "type": "parcoords"
           }
          ],
          "pie": [
           {
            "automargin": true,
            "type": "pie"
           }
          ],
          "scatter": [
           {
            "fillpattern": {
             "fillmode": "overlay",
             "size": 10,
             "solidity": 0.2
            },
            "type": "scatter"
           }
          ],
          "scatter3d": [
           {
            "line": {
             "colorbar": {
              "outlinewidth": 0,
              "ticks": ""
             }
            },
            "marker": {
             "colorbar": {
              "outlinewidth": 0,
              "ticks": ""
             }
            },
            "type": "scatter3d"
           }
          ],
          "scattercarpet": [
           {
            "marker": {
             "colorbar": {
              "outlinewidth": 0,
              "ticks": ""
             }
            },
            "type": "scattercarpet"
           }
          ],
          "scattergeo": [
           {
            "marker": {
             "colorbar": {
              "outlinewidth": 0,
              "ticks": ""
             }
            },
            "type": "scattergeo"
           }
          ],
          "scattergl": [
           {
            "marker": {
             "colorbar": {
              "outlinewidth": 0,
              "ticks": ""
             }
            },
            "type": "scattergl"
           }
          ],
          "scattermap": [
           {
            "marker": {
             "colorbar": {
              "outlinewidth": 0,
              "ticks": ""
             }
            },
            "type": "scattermap"
           }
          ],
          "scattermapbox": [
           {
            "marker": {
             "colorbar": {
              "outlinewidth": 0,
              "ticks": ""
             }
            },
            "type": "scattermapbox"
           }
          ],
          "scatterpolar": [
           {
            "marker": {
             "colorbar": {
              "outlinewidth": 0,
              "ticks": ""
             }
            },
            "type": "scatterpolar"
           }
          ],
          "scatterpolargl": [
           {
            "marker": {
             "colorbar": {
              "outlinewidth": 0,
              "ticks": ""
             }
            },
            "type": "scatterpolargl"
           }
          ],
          "scatterternary": [
           {
            "marker": {
             "colorbar": {
              "outlinewidth": 0,
              "ticks": ""
             }
            },
            "type": "scatterternary"
           }
          ],
          "surface": [
           {
            "colorbar": {
             "outlinewidth": 0,
             "ticks": ""
            },
            "colorscale": [
             [
              0,
              "#0d0887"
             ],
             [
              0.1111111111111111,
              "#46039f"
             ],
             [
              0.2222222222222222,
              "#7201a8"
             ],
             [
              0.3333333333333333,
              "#9c179e"
             ],
             [
              0.4444444444444444,
              "#bd3786"
             ],
             [
              0.5555555555555556,
              "#d8576b"
             ],
             [
              0.6666666666666666,
              "#ed7953"
             ],
             [
              0.7777777777777778,
              "#fb9f3a"
             ],
             [
              0.8888888888888888,
              "#fdca26"
             ],
             [
              1,
              "#f0f921"
             ]
            ],
            "type": "surface"
           }
          ],
          "table": [
           {
            "cells": {
             "fill": {
              "color": "#EBF0F8"
             },
             "line": {
              "color": "white"
             }
            },
            "header": {
             "fill": {
              "color": "#C8D4E3"
             },
             "line": {
              "color": "white"
             }
            },
            "type": "table"
           }
          ]
         },
         "layout": {
          "annotationdefaults": {
           "arrowcolor": "#2a3f5f",
           "arrowhead": 0,
           "arrowwidth": 1
          },
          "autotypenumbers": "strict",
          "coloraxis": {
           "colorbar": {
            "outlinewidth": 0,
            "ticks": ""
           }
          },
          "colorscale": {
           "diverging": [
            [
             0,
             "#8e0152"
            ],
            [
             0.1,
             "#c51b7d"
            ],
            [
             0.2,
             "#de77ae"
            ],
            [
             0.3,
             "#f1b6da"
            ],
            [
             0.4,
             "#fde0ef"
            ],
            [
             0.5,
             "#f7f7f7"
            ],
            [
             0.6,
             "#e6f5d0"
            ],
            [
             0.7,
             "#b8e186"
            ],
            [
             0.8,
             "#7fbc41"
            ],
            [
             0.9,
             "#4d9221"
            ],
            [
             1,
             "#276419"
            ]
           ],
           "sequential": [
            [
             0,
             "#0d0887"
            ],
            [
             0.1111111111111111,
             "#46039f"
            ],
            [
             0.2222222222222222,
             "#7201a8"
            ],
            [
             0.3333333333333333,
             "#9c179e"
            ],
            [
             0.4444444444444444,
             "#bd3786"
            ],
            [
             0.5555555555555556,
             "#d8576b"
            ],
            [
             0.6666666666666666,
             "#ed7953"
            ],
            [
             0.7777777777777778,
             "#fb9f3a"
            ],
            [
             0.8888888888888888,
             "#fdca26"
            ],
            [
             1,
             "#f0f921"
            ]
           ],
           "sequentialminus": [
            [
             0,
             "#0d0887"
            ],
            [
             0.1111111111111111,
             "#46039f"
            ],
            [
             0.2222222222222222,
             "#7201a8"
            ],
            [
             0.3333333333333333,
             "#9c179e"
            ],
            [
             0.4444444444444444,
             "#bd3786"
            ],
            [
             0.5555555555555556,
             "#d8576b"
            ],
            [
             0.6666666666666666,
             "#ed7953"
            ],
            [
             0.7777777777777778,
             "#fb9f3a"
            ],
            [
             0.8888888888888888,
             "#fdca26"
            ],
            [
             1,
             "#f0f921"
            ]
           ]
          },
          "colorway": [
           "#636efa",
           "#EF553B",
           "#00cc96",
           "#ab63fa",
           "#FFA15A",
           "#19d3f3",
           "#FF6692",
           "#B6E880",
           "#FF97FF",
           "#FECB52"
          ],
          "font": {
           "color": "#2a3f5f"
          },
          "geo": {
           "bgcolor": "white",
           "lakecolor": "white",
           "landcolor": "white",
           "showlakes": true,
           "showland": true,
           "subunitcolor": "#C8D4E3"
          },
          "hoverlabel": {
           "align": "left"
          },
          "hovermode": "closest",
          "mapbox": {
           "style": "light"
          },
          "paper_bgcolor": "white",
          "plot_bgcolor": "white",
          "polar": {
           "angularaxis": {
            "gridcolor": "#EBF0F8",
            "linecolor": "#EBF0F8",
            "ticks": ""
           },
           "bgcolor": "white",
           "radialaxis": {
            "gridcolor": "#EBF0F8",
            "linecolor": "#EBF0F8",
            "ticks": ""
           }
          },
          "scene": {
           "xaxis": {
            "backgroundcolor": "white",
            "gridcolor": "#DFE8F3",
            "gridwidth": 2,
            "linecolor": "#EBF0F8",
            "showbackground": true,
            "ticks": "",
            "zerolinecolor": "#EBF0F8"
           },
           "yaxis": {
            "backgroundcolor": "white",
            "gridcolor": "#DFE8F3",
            "gridwidth": 2,
            "linecolor": "#EBF0F8",
            "showbackground": true,
            "ticks": "",
            "zerolinecolor": "#EBF0F8"
           },
           "zaxis": {
            "backgroundcolor": "white",
            "gridcolor": "#DFE8F3",
            "gridwidth": 2,
            "linecolor": "#EBF0F8",
            "showbackground": true,
            "ticks": "",
            "zerolinecolor": "#EBF0F8"
           }
          },
          "shapedefaults": {
           "line": {
            "color": "#2a3f5f"
           }
          },
          "ternary": {
           "aaxis": {
            "gridcolor": "#DFE8F3",
            "linecolor": "#A2B1C6",
            "ticks": ""
           },
           "baxis": {
            "gridcolor": "#DFE8F3",
            "linecolor": "#A2B1C6",
            "ticks": ""
           },
           "bgcolor": "white",
           "caxis": {
            "gridcolor": "#DFE8F3",
            "linecolor": "#A2B1C6",
            "ticks": ""
           }
          },
          "title": {
           "x": 0.05
          },
          "xaxis": {
           "automargin": true,
           "gridcolor": "#EBF0F8",
           "linecolor": "#EBF0F8",
           "ticks": "",
           "title": {
            "standoff": 15
           },
           "zerolinecolor": "#EBF0F8",
           "zerolinewidth": 2
          },
          "yaxis": {
           "automargin": true,
           "gridcolor": "#EBF0F8",
           "linecolor": "#EBF0F8",
           "ticks": "",
           "title": {
            "standoff": 15
           },
           "zerolinecolor": "#EBF0F8",
           "zerolinewidth": 2
          }
         }
        },
        "title": {
         "font": {
          "size": 18
         },
         "text": "# of Interpretations per Patient (Variant Prognostic)",
         "x": 0.5
        },
        "xaxis": {
         "anchor": "y",
         "color": "#333",
         "domain": [
          0,
          1
         ],
         "title": {
          "font": {
           "size": 18
          },
          "text": "Number of Interpretations"
         }
        },
        "yaxis": {
         "anchor": "x",
         "color": "#333",
         "domain": [
          0,
          1
         ],
         "title": {
          "font": {
           "size": 18
          },
          "text": "# of Patients"
         }
        }
       }
      }
     },
     "metadata": {},
     "output_type": "display_data"
    }
   ],
   "source": [
    "fig = px.histogram(analysis_df, x='#_prognostic_interps',\n",
    "                   title='# of Interpretations per Patient (Variant Prognostic)', # Adding a title\n",
    "                   labels={'#_prognostic_interps': 'Number of Interpretations'}, # Changing axis label\n",
    "                   color_discrete_sequence=['#636EFA'],\n",
    "                   text_auto=True) # Changing the bar color\n",
    "\n",
    "\n",
    "# Update layout\n",
    "fig.update_layout(\n",
    "    title_font_size=18, # Customize title font size\n",
    "    title_x=0.5, # Center the title\n",
    "    legend_title_text='Legend', # Custom legend title\n",
    "    xaxis_title='Number of Interpretations', # X-axis label\n",
    "    yaxis_title='# of Patients', # Y-axis label\n",
    "    template='plotly_white', # Using a light theme for better visual\n",
    "    showlegend=True # Ensure the legend is shown\n",
    ")\n",
    "\n",
    "# Customize fonts and colors\n",
    "fig.update_xaxes(title_font=dict(size=18), color='#333') # Customize X-axis title\n",
    "fig.update_yaxes(title_font=dict(size=18), color='#333') # Customize Y-axis title\n",
    "fig.update_traces(marker_line_color='#333', marker_line_width=0.5, # Border line for bars\n",
    "                  textfont_size=10, # Increase text font size for readability\n",
    "                  textposition='outside',\n",
    "                  textangle=-90) # Position text outside the bars for clarity\n",
    "\n",
    "fig.show()\n",
    "fig.write_image(\"histogram_interpretations_prognostic.png\", scale=1.5, width=960, height=540)"
   ]
  },
  {
   "cell_type": "code",
   "execution_count": 103,
   "metadata": {},
   "outputs": [
    {
     "data": {
      "application/vnd.plotly.v1+json": {
       "config": {
        "plotlyServerURL": "https://plot.ly"
       },
       "data": [
        {
         "bingroup": "x",
         "hovertemplate": "Number of Interpretations=%{x}<br>count=%{y}<extra></extra>",
         "legendgroup": "",
         "marker": {
          "color": "#636EFA",
          "line": {
           "color": "#333",
           "width": 0.5
          },
          "pattern": {
           "shape": ""
          }
         },
         "name": "",
         "orientation": "v",
         "showlegend": false,
         "textangle": -90,
         "textfont": {
          "size": 10
         },
         "textposition": "outside",
         "texttemplate": "%{value}",
         "type": "histogram",
         "x": {
          "bdata": "AgEBAQEBAgIBAQEBAQEBAQEBAQEBAQEBAQEBAQEBAQEBAQEBAgEBBwEBAQEBBwICAQcBAQEBAQcBAQEBBwECAQEBBwIBAQEHAQECBwEBAQEBAQEBAQcBAQcBAQEBAQIBAQEBAQcCAQcHAQEHBwEBAQEBAQICAQEBAQECAQEBAQEBAQEBAQEBBwEBAQEBAQEBAQEBAQIHAgEBAQECAQIBBwECAQEHAQcHAQIBAQEHAQEBBwEBAQECAQEBAQEBAQECAQEBAQcHAQEBBwEBAQcHAQEBAQEBAQEHAQMBAQEBBwcBAgEBAQEHAQECAQIBBwEBAQEBAQIBBwcBAQIDAQEBBwEBAQcBBwEBAQEBAQcBAgcBAQEBAQEBAQEBAQEBAQEHAQEBAQEHAQIBAQcBAQEBAQEHBwECAQEBAQEBAQICAQIBAwEBAQEHAQEHBwcBAgEBAQEBAQEBAQEBAQEBAgEBBwEBAQEBAQEBBwEBAQECAQEBAQEHBwEBAQEHAwEBAwEBAQEBAQEBAQcBAQEBAQEBAQEHAQEBAQEBAQEBAQcHAQEBAQEBAQEBAQEBAQEHAQcHAQIBAQEBAQEBAQEHAQEHAQEBAQEBBwcHBwEHAQEBAQEHBwEBAQEBAQEBAQIBAQEBAQIBAQEBAgEBAQcBAQEBBwIHAQEBAQEBBwIBAwEHAQIHBwEBAQEBAQIBAQcBBwEBAQEBAQEBAQEBBwEBAQEBBwEBAQEBAQECAQEBAQEDAQcCAgEBAQcBBwcHAQcBBwcBAQEBAgcBAQEBAQEBAgIBAQcBBwEBBwEHAQEBAQIBAQcBAQcBAQcBAwIHAQcBAQEBAQEBAQEBAQEBAQcBAwcBAQEBBwEBAgEBAQEBAQEBAQEBAQEBBwEBAQEBAQIBAQEBAQEBBwcBAQEBAQEBBwEBAwgBAQEBAQEBBwEBAQEBAQEBAQEBAQEBAQEBAQIBAgICAgEBAQEBAQEBAQEBAQEBAQEBAQEBAQEBAQEBAQEBAQEBBwEBBwcCAgEBAQcBAgcBAQEBAQcBAQcHAQEHBwEHBwcHAQECAQEBAQEBAQEBAQEBAQEBAQEBAQEBAQEBAQEBAQEBAQIBAQEBAQEBAQEBAQEBAQEBAQEBAgICAgIBAQEBAgMBAQEBBwEBAQEBAQEBAgEBAQcHAQEHAQEBAQcBAQEBAQEHAQEBAQECAQcBAQEBAgECAQECAQEBAQICAQEBBwcBAQcBAQEBAgICAgICAgICAgECAgECAgICAQIBAgICAgICAgICAgICAgICAgICAgICAgICAgICAgICAgICAgICAgICAgICAgICAQICAQICAgICAgICAQECAgICAgIBAgICAQICAgICAgICAwICAgICAgICAgIBAgECAgICAgIBAgICAgICAgICAgECAgICAQIBAgICAgICAgICAgECAgICAgICAgICAgECAgICAQECAgICAgIBAgICAgICAgICAgICAgICAgIBAgICAgICAgICAgIBAgECBAECAgICAgIBAQICAgICAgIBAgICAwICAgICAgICAgICAgIBAgIEAgICAgIBAgICAgIEAgICAgIBAQICAQIBAgICAgICAgICAgICAgICAgICAgICAgICAgICAwICAgMCAgQCAgICAQICAgECAgICAgICAgIDAQICAgQCAgIBAgECAgIBAgICAgICAgICAQIBAgICAQICAgICAgICAgICAQECAgICAgICAgICAgICAgICAgICAgICAgIBAgIBAgECAQIBAgICAgICAgICAgICAgICAgICAgICAgICAgICAgICAgIBAQEBAgICAQICAgQCAgICAgICAgICAQEBAgEBAgECAQIBAQEBAQEBAQECAQIBAgECAgMBAQEBAgIBAgIBAQIBAgIBAQIHAQEBAQEBAQECAQMBAQECAwECAgEBAQIBAgEBAQICAQEBAQEBAQEBAwEBAgEBAgECAQIBAQEHAgEBAQEBAQEHAQcHAQIBBwEBBwECAQIBAQICAQEBAgEBAQEBAQIBAQEBBAECAQEBAgECAQEBAQcBAQIHAQEHAgIEAwcBAQEBAgIBAQECAQECAgEBAQEBAQIBAQIBAwECAQEBBwEBAQIBAQECAQEBAgEBAQECAgEBAgEBAQEBAQcBAgcBAQEBAQECAQEBAQICAQEBAgIBAQEBAgICAQcCAQEBAgEBAQECAgEBAQIBAgEBAgQBAQEBAQMHAQEBAgEBBwIBAQEBAgECAwMBBwIBAQEBAQECAQMCAgEBAgECAQICAQECAwECAgEBAQECAQECAgEBAQcBAQcBAQEBBwECAgEBAgECAQECAQICAQEBAgcBAQEBAQIBAQEBAQEBAwIBAQEBAgEBAQIBAQIBAgEBAQEBAQEBBwECAQMHBwEBAQcBAQEBAgEBAQcBAQIBAQIBAQEHAQEHAQIBAQEBAQECAQEBAQECBwEBAQQCAQEBAgEBAwEBAQEBAQIDAgEBAQcBAgEBAgEBAQEBBwEHAQECAQEBAQEBAQEHAgEBAQcBAQEBAQECAQEBAgIBAQIBAQEBAQEBAgECBwECAgIBAgEBAQICAQMBAQIBAgEBAQEBAgEBBwECAQICAQEBAQIBAQIBAgIBAgEBAQIBAgECAgEBAgEBAgIBAQEHAQEBAgEBAQICAgEBAQEBAgIBAQECAQEBAQIBAgEBAgECAQEBAQEBAQQCAQEDAQEBAQMHAQIBAQEHAQIBAQICBwEBAQEBBwECAQEDAQECAgIHAQECAQIBAgICAQEBAQIBAQEBAQECAQEBAQEBBwEBAQEBAgEBAgECAQEBAQIBAgEBAgcBAQEBAwEBBwcBAQEBAgIBBwEBAQECAgEBAwECAQEBAQcBAQIBAQEBAQIBAQIBAQEBAQcBAgECAgIBAgEHAQEBAgICAgECAQcBAQEHAQEBAQEBAgEBAQECAQEHAQECAQEBAQcBBwEBAQECAQEBAQICBwEBAgcCAQEBAQEHAQEBAQcBAQEBAgEHAQECAgECAQECAQICAQEHAgEBBwEBBwECAQEBBwECAQEBAQEBAQIHAQIBBwECAgEHAQECAQcCAgECAQEBAQECAQICAQEDAQIBAQEBAQcHAQEBAQMBAQIBAQEBAgMBAQEBAwEHAwECAQEBAgEBAQEBAQIBAQcBAQcBAQICAgEBAQcBAgEBAgEBAQEBAQEBAQEHAQMBAQEHAQEBAgEBAQEBAQMCBwcBAgEBAQIBAQcCAQEBAQEBAQECAQEBAQcHAQEBAQEBBwEBAQEBAwEBAQICAgECAgEBAQIBAgECAgEHAQEBBwECBwEDAgEBAQEBAQEBBwEBAgEBAQIBAQECAQEBAQEBAQECAgICAQEBBwIBAQEHAQECAQIBAQIBAQEBAQEHAgEBAgEBAQcCAgEBAQEHAQICAQEBAQEBAQECAQEBAgEBAQIBAQcBAQIBAgECAQECAgIBAwEBAQcBAQEBAQICAQEBAwEBAgcCAQEBAQECAQECAQIBAQEBAQEBAQIBAQEBAQIBBwEBAgECAwEBAQEBAQECBwIBAgEBAgcHAgcCAQEBAQEBAQIBAgMCAQEBAQEBAgEBAQEBAQcBBwEBAQEBAwEBAgEHAgEBAQEBAgECAQcBAQIBAgEBAgIBAQEBAQEHAQECAQECAgIBAQIBAgcBAQEBAQECAQEBAQEBAQEBAQIBCAECAgEBAQECBAEBAQICAQcBAQIBAQECAgECAgICAgEBAgEBAQEBAQEBAQECAQECAQMCBwICAQICAgEBAQIBAQICAQIBAQEBAQIBAQECAQEBAQEBAQEBAgEBAQEBBwEBAQIBBwcHAQEBAQEBAgEBAQEBAgcCAQEBBwEBAQIBAQIBAQcBAQEBAQEDAgEBAQEBAQIBAQEBAQEBAQEBAQEBAQcHAQEBAQMBAQEBAQIBAgEHAQEBAQECBwIBAQICAgICBwEHAgECAQECAQIHAQIBAgIBAQEBAwEBAQcBAgIBAQIBAgEBBwICAQEBAQICAQIBAQcDBwICAgICAgEBAQIBAQECAQEBAQIHAgICAgEBAgEBAgECAQEHBwEHAQICAQEBBwEHAQEBAgEHAQEBAgEBAQEBAQEBAQEBAgEBAQcBAQIBAQIBAQEDAQcBAQQHAQIBBwEBAQEBAwICAQEHAQIBAgcCAQIHAgIBAQEHAQEHAgEBAQcHAQEBAgICAQIBAQEBAQEBAQEBAQEBAQEBAQEHAQEBBwEBAgIBAQECAQEBAQEBAgECAgEBAgEBAQEBAgcBAQECAgEBAQIBAQEBAgEBAQECAQECAQEBAQECAQIBAQEHAQEBAQEBAQEBAgEHAQIBAQIBAQIBAQECAgEBAQEBAQECAQEBAQcBAQEBBwEBAQEBAQEBBwEBAQEBAgEBAQEBAQECAQEBAQEBAQEBBwICAQECAQEBAQEBAQEBAQEBAQEBAQIBAQEBAQEBAQEBAgEBAgEBAgEHAQMBAgcHAQEDAgECAgIBAQIBAQEHAgEBAgEHAQIBAQIBAQIBBwEBAQECAQEBAQEBAQEBAQEBAQIBAgECAQICAQIBAQIBBwEBAgICAQEBAQEBAgIBAQIHAQIBAQEDAQEBAQECAgEBAQIHAQEBAQIBAgIBAQMBAQEBAQEBAQEBAQEBAQEBAQEBBwEHAgIHBwEBAQEHBwEBAQEBAQIHAgEBAQEBAQIBAQEBAQECAQEBAQICAgECAQEEAQEHAgEBAQEHAQIBAQICAQIBAQEBAgIBAQEHAQIBAQEHAgIHAQEBBwEBAgECAQEBAQcBAgEBAgcBAQIBAQEBAQEDAgECAgECAQcBAQEBAQIBAgEHAQEBAQECAQEBAQICAQEBBwECAQEBBwEBAQIBAQEBAQIBAQEBBwECAQEBAQIBAQIDAwIBBwEBAQECAQEBAQcCAQEBAQEBAgIBAgEBAQcHAgcCAQIBAQEHAQEBAQEBAQEBAQEBAQEBAQEBAQEBAQEBAQEHAQEHAQEBAQEBAgEBAQECAQIBAQECAQIBAQEBAgECAQEHAQEBAQIBAQEHAQEBBwIBAgICAgEBAQEBAQEHBwEHAQECAQECAgEBAQEBAQECAQEBAgECAQECAQEBAQEBBwECAQEHAQICAQEBAgEBAQEBAQEBAgEBAQEBAQEBAQECAQEBBwEBAQEBAQEHBwEBAQEBAQIBAQECAQEBAgEBAQcBAQECAQEBAgEBAQcBAgEBAwECAQECAQEBAgEBAQEBAQEBAQEBAQECAQEBAQECBwIBAgECAQICAQEBAQEBAQIBAQIBAgECAwEBAgECAQIBAgECAQECAQECAQcBAQEBAQEBAQEBAQEBAQEBAQECAQEBAQEHAgIBBwEBAgEBAQEBBwIBAQEBAQEBAQEBAQEBAQcBBwEBAQQBAgECAQEHAQEBAQIBAgcCAQEBAgECAgIHAQEHAQECAQEBBwEBAQEHAQECAgECAQECAQIBAQcBAQEBBwIHAgIBAQEHAgEBAQIBAQEBAQEBAQECAQEBAgEBAgICAQICAgQCAQEBAQECAQEBAQICAgIBAQEBAQEBAQEBAQEBAQEBAQICAQEBBwEBAQEBAQIBAgECAQEBAgEBAgECAgIBAQEBAQcBAQIBAQEBAgEBAQcBBwEBAQEBAgIBAQICAgECAQIBAQECAQEBAQEBAgEBAQEBAQEBBwcBAQIBAQIBAQEBAgECAQEBBwEBAgEBAQEBAQIBAgECAQICAQEBAQIBAQEBAQEBAQEBAQEHBAEBAQIBAQECAQECAQEBAQEBAQIBAQECAQIBAQEBAgEBAQEBBAIBBwECAQEBBwEBAQEEAQEBAgEHAQIBAQEBAQIBAgEBAQEBAQEHAQEBAQEBAQcBAQIBAQECAQEBAQECAQEBAQEBAQEHAQEBAQEHAQEBAgECAQEBAQEBAQICAgEBAQECAQEBAQIBAgIBAQEBBwIBAQEBAQEBAQEBAQEBAQEHAQEBAQICAQEBAQEBAQEBAQEBAQcBAQEBAQEBAQECAQIBAQIBAQcBAQEBAQECBwIHAgEBAQcBBwEBBwIBAQEBAQEBAQECAQcBBwEBBwEBAQEBAQIBBwcCAQIBAQEBAQEBAgcCAgECAQEBAgEBAQcBAgEBAgEHAQEBAQIBAQEBAgIBAQEBAQEHAgEBAQEBAQEBBwEBAgcBBwIBAQEBBwICAQEBAgEBAQIBAQECAQECAQEBBwEBAQEBAgEBAQEBAQIBAQEBAQIBAQcBAQECBwIBAQECAQECAQEBAQIBAgICAQIBAgECAgcBAQEBAQIHAQECAQEBAQEBAQEHAQEBAQEBAQEBAQEBAQEBAgECAQEBAgEBAQEBBwcCAQEBAQECBwEBAgIBBwEBAQEBAgIBAgEBAQECAQECAQIBAQEBAQEBAQEBAQIBAQEBAQEBAQEBAQEBAQEBAQEBAQECAQEHAQIHAQEBAgIBBwEHAQEHAgcBAQcBAgcBAQIBAQEBAQEBAQEBAQEBAgEBAQEBAQEBAgEBAQEBAQEBAQcBAQEHAgEBAQEBAQEBAQEBAgEHAQICBwIBAQcCAQEBAQECAQECAgEBAQEBAQEHAQEBAQIBAQEBBwEBAgEBAQECAQEBAQEBAQECAQIBAgEBAgEBAQEBAQEBAgEBAQcBAgICBwEBAQEBAQEDAQEBAQIBAQECAQEBAQECAQICAQEBAQEHAQEBAgEBAQEBBwIBAQEBAQEHAQEBBwcCAQcBAQEBAQIHAQECAQEEAQECAQEBAQIBAQECAgEBBwEBAQEBAQIBAQECBwcBAgEBAQEBAQEBAQECBwIBAQEBAQEBAgIBAgIBAQEBAQIBAQICAQECAQEBAQcBAgEBAQEBAQECAQIBAQcBAQIHAQIBAQEBAgEBAQECAQcHAgEBAgEBAQIBAgEBAQECAQEBAQECAQEBAQEBAQEBAQEBAQICAQEHAQEBAgEHAQEBAQEBAQEBAQEBAQEBAQEBAQEBAQECAQEBAQEBAQMBAgIBAQEBAQIBAgIHAQEBAQECAQECAQICAgEBAQEBAgEBAQIHAQIBAQEBAQIBAQECAQECAQICBwIBAQEBAQEBAQEBAgcBAgIBAQEBAQECAQcBBwEBAQEBAQECAgIBAQIDAQEBAQEHAQEBAQECAQIBAQEBAQIBAQEDAQEHAQECAQEBAQIBAQcBAQIBAQECAQEBAQEBAQIBAQEBAgIHAQIBAQIBAQECAQEBAgEBAgICAgIBAQEBAgIBAQEBAQEBAQcHAQEBAQEBAQEBAQEBAQECAQEBBwEBAQEBAgEBAgEBAQEBAQEBAQEBAgEBAQEHAgEBAQIBAQEBAQECAgEBAQEBAQIBAQEBAQEBAQEBAQEHAQEHAQcCAQEBAgEBAQEBAQEBAgEBAQECAQEBAQIBAgICAgEBAQEBAgEBBwECAQEBAQEBAQECAQEBAQEBAQEBAQcBAQEBAQEBAgQBAQEBAQEBBwECAQEBAQEBAQcBAQcBAQcBAQEBAQIBAQECAQEBAQEBBwEBAQECAQECAQEBAQIBAQEBAQIBAQEBAQEBAQEBAQIBAQEBAQEBAQECAQcBAQEBAQcBAQEBAQIHAQECAQEBAQECAQcBAgEBAQEBAQIBAQICBwEHAgEBAQEHAgEBAQEHAQIBAgEBAQEBAQEBBwEBAQEHAQEBAgEBAQEBAgEBAQECAQEBAQEBAQEBAQEBAQEBBAEBAQEBAQEBAgEHAQECAQEBAQEBBwEBAQEBAQECAQIHAQICAQEBAQEBAgcCBwECAQEBAQIBAQIBAQICAQEBAQEBAQIBAQIBAgECAQIBAQEBAgICAQECAQEBAgEBAQEBAQEBAgEBAQICBwEBBwEBAgECAQEBAgICAQICAQcCAQICAQEHAQICAQIBAQICAgICAQEBAQEBAQECAQEBAQICAQEBAQEDAQEBAQEBAQIBBwIHAQIBAgIBAgEBAQIBAgEBAQIBAQECAgIBAgECAQIBAQEBAQEBAwECAgICAgcBAgEBAQEBAQIBAQIBAQIBAwEHAQEBAQEBBwIBAQIBAQcBBwEBAQgBAQEBAQcBAQEBAQEBAQIBAQEBBwIBAQECAgECBwcCAQEHAQIBAQEBAQIBAQECAgEBAwEBAQIBAQECAQIBAQEBAQICAQEHAQEDAQICAgEBAQEBAgcBAgIDAgIBAQEBAQEBBwIBAQECAgECAQEHBwICBwcBAQcBAQMBAQEHBwEBAQEBAgIBAgEHAgcBAQEHBwEBAQIBAQEBAQECAQEBBwEBAQECAgEBAQEBAgEBAQIBAQcBAgICAQEBAgEBAQcCAQEBAQIBAQECAgcBAgICAgcCAQIBAgIBAgECAQEBAQECAQEBAgIBAQECAgECBwIBAQICAgEBAQECAgECAQECAQEEAQEBAgcBBwECAQMHAgIBAQECAgEBAQIBAQEBAQEBAQEBAQEBBwIBAQEHBwICAQEBAQEHAQICAQcBAgIHAgcBAQEBAQEBAQcBAQEBAQIHAQEBAQECAQEBAQEBAQEBAQcBAgECAQEBBwICAQECAgcCAQECAgEBAQEHAQIBAQEBAQIBAQEBAgECAgEBAgEBAQEBAQcCAQEBBwECAQIBAQIBAgICAQIHAQEBAQcBAQEBAwEHAQEBAQICAQIBAQEBBwECAQEBAQIBAgEBAgEBAQEBAQcHAQcBBwEHAQEBAQEBAQEBBwEHAQECAQEBAQEBAQIBBwICAQEBBwEBBwcHBwECAQECAgIBAQEBAQIBAQECAgECAQcHAgEHAQECAQEBAQEBAQEHAQICAQcBAQcBAgECAQEBAQICAQECAQIHAQEBAQECAQECAQEBAQIHAwEDAQMCAQcCAgEBAQEHBwcBAQICAgECAQEHAQEBAQECAQECAgEBAQEBAQEBAQEBAQcBAQcBAQcCAwEBAgEBAQEBAQEBAgEBBwIBAgEBAQIHAQEBAgEBAQEBAgECAQEHAQEBAgIHAQEBAgcBAQcBAQEBBwEHAQEBAQEBAQEBAQEBAQMDAQEBAgEHAQEHAQcBAQIBAQEDAQEBAQEBAQcBAQcCAQEBAQEBAQEBAQEBAQEBAQEBAQcBAgEHAQcBAgIBAgEBAQEBAQEBAQEBAQEBAQIBAgEBAQIDAQECBwEBAQcBAQEBAQcBAQEBAQEBAQEBAQIBAQEHAQcBAQECAQEBAQEBBwEHAQEHAgEBAQIBAgEBAQEBAQEBAQEBAQEBAgEBAQEBAQECAgEBAQIBAgEBAQIBAQEBAgEBAQEBAQEBAQcBAQEBAQEBAQEBAQcCAQEHAgECAQcBBwEBAQEBAQEBAgcCAQcBBwEBAQEBAQEBAQEBAQEHAQcBAQcBBwEBBwEHAQEBAQEBAQEBAQEBAQEBBwEHAQEBAgEBBwEBAQEBBwEBAQEBAQEHAQEBAQEBAQEBAQEBAQEBBwIBAQEBAQEHAQEBBwEBBwEBAgEBAQEBAQEBAgEBAQEBAQEBAQEBAQEBAQEBBwIBAQEHAQEBAQEBAQEHAQEDAQcBAQcBAQEBAQEBAQEBAgEBAQEHAQcHAQEBAQEBAQEBAQEBAQEBAQEBAQEBAQEHAQEBAgIBAgEHAQEBAQEBAQEBAQEBAQEBAQEBAQEBAQICAQEBAQEBAQEBAQEBAQEBAQEBAQEBAQEBAQEBAQEBAQEBAgEBAQEBAQEBAQEBAQEBAQIHAQECAQEBAQcCAQEBAQIBAQIBAQEBAQECAQEBAgIBAQEBAQIBAQEBAQEBAQEDBwEBAQcBAQEBAQEBAQEBAgEBAQEBAQEBAQEBAQEBAQECAQEBAQEBAQcBAgcBAgEBAQEBAQEBAQEBAQIBAQEBAQEBAgEBAQEBAQIBAQEBAQEBAQECAgECAgIHAQICAgcBAgICAQICAQICAgEBAgIBAQICAgIBAgICAgIBAgECAgMCAQECAgICAgICAgICAgICAQICAgICAQECBwECAgICAQIBAgECAgICAgcCAQcBAgEHAgEHAQICAgEBAgIBAgICAQIBAgICAgEBBwICAgIBAgIBAgIBAgECAQIBAQcCAgEHAQEBAgIBAgIBBwcBAgECAgECAgICAgICBwIBAgEBBwICAgECAgIHAgEBAgcDAgIBAQICAgECAgIBAQICAgICAgIHAQIBAgICAgIBAQICAQECAQICAQICAgECAgIBBwIBAQIBAgECAQIBBwICAQECAgICAQIBAgEHAQIBAQcBAQICAQcCAQIBAQIBAQEBAgEBAgIBAQEBAQEBAQcCAgIBBwIBBwEBAwEBAQEBBwEBAQIBAgcCAgIBAQEBAQECAgIBAgECAgIBAQIBAQcBAgIBAQIBAQECAQICAgcCAQECAgECBwIBAgECBwIBAQIBAQIBAQICAgIBAQEBAQICAQIHAgIBAgICAQEBAQICAQECAQEBAQEBAgIBAQEHAgECAgECAgICAQICAgECAQICAQIBAgIBAgIDAgIBAQIBAgEDAQIBAwMCAgMBAQMCBwECAgEBAgEHAQEBAQEBAQICAQECAQEBAQECAQICAgECAgIBAgEHAgECAgIHAQEDAQECAQIHAgEDAQEBAwIBAgECAQQCBwEDAgECAQIBAQEBAgECAgcBAgEBAQIBBwECAQIBAwECAwECAgICAQEBAgIBAgEBAwICAgEBAQECAgICAgEHBwECAgIBAQEBAQIBBwEHAQcCAgEBAgIBAQECAgECAQEBAQICAgIDAQEBAgECAQIBAQIBAQECAQIBAQEBAgIBAQEBBwICAQEBAgcBAQIBAQECAQMBAgIBAQICAgECAQEBAQECAQIBAgEBAQEBAQEBAgEBAQMBAgICAQEBAQECAwIBAQICAgECAgIBAgECAQIBBwIBAgEBAgIBBwECAgIBAQEBAQQCAQIBAQMBAQICAQEBAQIBBwECAgECAQIBAgEBBAIBAgIBAQECAQEBAQEBAQEHAQcBAQEBAQIBAQEBAQEBAQICAgIBAgECAQIBAQEBBwICBwEDAQICAgIBAgEDAgEDAgIBAQEBAQECAgEBAQIDAgcBAQEBAQIDAQICAgECAQEDAQcCAQEHAQECBwEBAQIBAQIHAgIBAQIBAQEHAQICAgEBAQIBAgEBAQEBAQEBAQEBBwIBAQEBAQECBwICAQEHAQEBAQEBAQEBAQICAQEBAQEBAgEBAgEBAQEBAQEBAgEBAQEBAQEBAQEBAgEBAgECAQECAQIBAQEBAgEBAQIBAQEBAQEHAQICAQECAgEBAQECAQcCAQEBAQEBAgECAQICAQEBAQcBAQECAQEBAgEHAQEBAQEBAQICBwEBAQEBAQECAQECAQEBAQEBAQEBAQIBAQEBAgEBAQIBAQEBAQEBAQIBAgMBAQEBAQIBAQEBAgEBAQEBAQECBwcBBwEBAgIBAQEBAQIHAQIHAgECAQIBAQEBAQIHAgcBAgECAQEBAQEBAQECAQIBAQEHAQECBwIBAgEBAQEBBwICAQEBAgEBAgEBAQEBAQECAQMBAQcBCAEBAQECAQEBAQEBAQIBAQECAQEBAQEDAQIBAgIBAgECBwEBAQECAgEBAQEBAgECAQECBwEBBwECAQEBAQEBAQEBAQEBAQEBAQEBAgEHAQECAgcBAQICAQIBAQEBAQICAQIBAQEBAQECAQEBAQEBAQECAgECAgEBAQcBAQEBAQEBAQICAQICAQECBAECAQcBAQEBAgIBAgECAQEBAQcBAQIBAgIBAQEBAgcCAQEBAgIBAgEBAQICAQIBAQcBAgcBAQECAgEBAgEBAgIBAQICAwIBAQEBAgEBAQEHAQEBAQEBAwEBAQEBAQECAQEBAQIHAQEBAgEBBwIBAgEBAQEBAQEBAgIBAQcBAgIBAgEDAQECAQEBAQICAQIBAQcCAQICAQEBAQIBAQIBAQEBAQEBAgEBAQEBAQICAQEBAgEBAQEBAQEBAQEBAQEBAQIBAQEDAQECAQIBAQEBAQcBAQICAQEBAgEBAQEBAgEBAQEBAgEBAQEBAQEBAgEHAgECAQEBAQIBAQEBAQEBAQIBAQIBAQEBAgIBAQIHAQIBAgECAQEBAQIBAQIBAQEBAgEBAQEBAQICAgEBAQEBAgECAQEBAQEBAQEBAgECAgEBAQcCAgECAQIBAQECBwICAQEBBwIBAQEHAgEDAQEDAQIBAgEHAQIBBwEBAQEBAgIBAQEBBwEBAQEBAQEBAgEBBwEBAQICAwEBAQEBAQEBAgECBwECAgECAgEBAQIBAQEBAQICAQEBAgEBAgIBAQECAQcBAQEBAQEBAQIBAgEBAQEBAQIDAgEBAQEBAQEBAQEBAQECAgIBAQIBAQEBAgECAgECAgEBAgEBAQECAwEBAQEBAQEBAgQBAQEBBwICAQECAgEBAQEBAQIBAgEBAgEBAQcBAQMBAQECAQEBAQEHAQIBAgICAgEBAgEBBAIBAgIBAQIBAQEHAQEBAQECAgEBAQEHAQECAQEBAQEBAQEBAQICAQECAgEBAgEBAQICAQIBAQECAQEBAgECAQECAgICAQECBwIBAQECAgIHAQEBAQIBAQECAQEBAQEBAQIBAQEBAQIHAQICAgECAQICAQEBAgEBAQECAQEBBAEEAQEBAQEBAQICAQEBBwECAQIBAgEBAQIHAgECAgEBAQEBAQEBAQECAgEBAQIBAQEBAQEBAQQBAgIDBwEBAQEBAgEBAgIHAQEBAQECAQEBAQEBAgECAQEBAQEBAQICAgIBBAICAQIBAQIBAQECAQIDBwEBAgICAQICAQEBAQECAgICAgEBAQECAgEBAgEBAwECAgIBAgEBAQEBAQEBAQEBAgMBAgECAQIBAQECAQEBAgIBBwIBAgIBAgEHAgEBAQEBAgECAQEBAQECAQEBAQEBAQEBAQECAgEBAgIBAQEBAQEBAQEBAQECAQEBAQIHAQECAwEBBwEBAgEBAQECBwEHAgICAQcCAQEBAQMBAQECAQEBAgIBAQEBAQEBBwEBAgICAgEBBwECBwEBAQcBAQEBAQEBAQEBAgECAQIBAQECBwICAQEBAQIBAgIBAQEBAgECAgEBAQEBAQEBAgEBAQICAgEBAgEBAgECAQECAQIHAwIBAgEBAQEBAQEBBwIBAgICAQEBAQIBAgcBAgIBAQICBwEBAQIBAQECAQEHAQECAQIBAQEBAQEBAgEBAgEBAQICBwEBAQICAgECAgEBAgIBBwIBAgEBAgcCAQECAQMBAQECAgIBAwEBAQEBAgECAQECAQIBAgEBAQEDAQIBAgEBAgIHAQIBAwEBAwECAQIBAQEBAQECAgEBAQECBwIDAQEBAQIBAQEBAgICAQICBwEBAQEBAgEBAwEBAQEBAQICAQECBwEBAQEDAQEBAQEBAQICBwEBAQEBAQEBAgECAQIBAgcBAQECAQIBAgEBAQEHBwICAQEBBAICAQEBAQcBAQEBAQICAgEBAgEBAQIBAQICAQICAQIBAQICAQEDAgEBAgIHAgEHAQICAQIBAQEBAgIBAQEBAQECAQIBAQECAQEBBwICAQECAQEBAQEBAQECAgEBAQIBAgIBAQEBAQEBAQIBAQEBAQEBAQIBBwICAQEBAQEHAgIBAQIBAgEBAQICAQMCAQEBAQECAQIBAQEBAQIBAQICAgEBBAIBAQEBAQEBAgICAQEBAgIBAgEBAgEBAQEBAQEBBwEBAQEBAQEBAQIBAQEBAQICAQECAQECAQIBAQIBAQEBAQcCAQEBAQEBAQEBAgIBAgcBAgEBAgICAQEBAgMBAQICAgEBAQIBAgECAQEBAgIBAQEHAgEBAgECAgEBAQEBAQEBAQEBAgEBAQIBAgEBAQECAQECAQICAgEBAQEBAQcBAQEBAQEBAgcBBwEBAQEBAgEBAgICAQEHBwECAQECBwEBAQMCAQIBBwEBAgcBAgECAgEHAQEBAgEBAQEBAQEBBAICAgECAQEBAQgCAQEBAgEBAQEBAQEBAQEHAgIBAQIBAgEBAQIBAQEBAQICAQIBAQEBAQEBAQEBAQIBAQEDBAICAQECAQEBAQEBAQEHAQEBAQEBAQEBAQMBAgEBBwECAQICAQEBAQEBAQEBAQECAQECAQEBAQEBBwEBAQIBAgECAQEBAgECAgEHAgIBAQECAQECBwIHAQECAgECAQEHAQECAQEBAQEBAgEBAQIBAgEBAQIBAQECAQIBAQIBAgIBAQEBAQECAQEBAQEBAQEBBwcBAQEBAQMHAQECAQECBwEBAQIBAQIBAQEBAQEBAQECAQICAQcCAQEBAQEBAwEBAQEBAQEBAgIBAQEBAgEBAQEBBAIBAQEBAQEBBwEBAQIBAQEBAgECAQECAQIBAQIBAQIBAQcHAQECAQEBAgEBAQEBAQEBAQICAQIBAQECAQEBAgIBAgIBAQEBAQIBAgECAQEBAQEBAQEHBwECAQEBAQIBAQEHAQEBAQEBAQIBAQECAgECAQcBAgMCAQECAQEBAgICAQECAQIBAwEBAQEBAgEBAQECAQICAQECAgECAgIBAQEBAQICAgEBBwEBAgIBAgcBAgECAQEBAQEBAQECAQECAgEBAQECAQEBAQECAQEHAgcBAQECAgEBAQEBAQECAQcCAgECAQECAQMCAQEHAgIBAgEBAQcBAQECAgEBAQEBAgIBAQIBAQEBAgEBAgMHAgEBBwICAQEBAQEBAQcBAQcBAwIBAgECAQIBAgEHAgIBAgEBAQIBAQECAQEBAgEBAQEBAQEBAQECAQEBAQEEAgIBAwEBAgEBAQEBAQcBAQEBAQEBAQEBAgIBAQEBAQICAQEBAQEBAQECAwEBAgEBBwEBAwIBAQEBAQUBAQEBAQICAQcCAgIBAgEBAQEDAQEBAQEBAQEBAgEBAQQDAQEBAQEBAQEHAQIBAQEBAgEBAgEBAQEBAQIBAgIBAQEBAQEBAQIBAQIBAQIBAQEBAQEBAgIBAQEBAQEBAgIBAgICAgIBAQEBAgECAQICAgECAgEBAgEHAQEBAgEBAQECAQIBAQEBAgEBAQIBAQEBAgICAQEBAQEBAQECAQECAgIBAQcBAgEDAQEBAgIBAQEBAQEBAQIBAQEBAQEBAgECAQECAgEBAQECAgECAQICBwEBBwECAgECAQICAgEBAgEBAQIBAQEBAgECAQEBAQEBAQEBAQIBAQICAQEBAgEBAgEBAQECAQEBAgEBAQICBQIBAQEBAQIHAQIBAgEBAgIBAgEBAQIBAgEBAQECAQEBAQEBAQIBAQcCAQEBAgEBAQEBAQIBAQIBAQcBAQECAQECAQcBAQEBAQIBAQEBAQIBAQECAQIBAQEBAgECAQEDAQIBAQECAQECAwEHAgEHAQEBAQIBAQEBAQECAQEBAQEBAQEBBQcBAgECAQIBBwEBAQcBAgEBAQcCBwEHBwIBAQECAQEBAQcBAQcCAQEBAgEHAQICAQEBAgIBAQEBAQcCAQECBwcBAgIBAgEBAQEBAQEBAQIBAgIBAQEBAQEBAQECAgECAQEHAQECAQEHAgcBAgECAgECAgIBAQIBAQcBAQEBAQECAQEBAgIBAgEBAgEBAQEBAgEBAQIBAQIBAQEBAQEBAgECAgIEAQEBAQEBAQIBAQEBAQcBAQEHAQMBAQEBAQECAgICAQEHAQEBAQEBAQEBAgECAgEBAQEBAQEHBwEBAQEBAgcBAQECAgEBAQECBwcBAQICAQIBAQECAgICAgIBAQEBAQEBAQEBAQIDAgIBAQcCAQEBAQcBAQEBAQEBAQEBAQEBAgEBAQEDAgcCAQEBAQEBAQEBAQEBAQEBBwEHAQECAQEHAQIBBwEBAQECAQEBAQECAgEBAQEBBAEBAQEBAQEBAQICAQEBAgEBAQIBAgcBAQIBAQEBAQIBAQEDAgEBAgEBAQECBwICAQEBAQEBAQEBAgEBAQIBAQECBwEBBwEBAQIBAQEBAQIBAgEHAgIBAQEBAgEBBwICAQcBAQEBAQECAgEBAQMBAQEHBwEHAQEBAQEBAQIBAgEBAQEBAQcBAgEBAQEBAgECAQICAQEBAQEBBwIBAgEBAQECAQEBAQEBAQEBAgcBAgICAQEBAQECAQECAQICAQIBAgEBAQIBAQECAQIBBwQCAgIBAQMBAwIBAQIBAgEBAQEBAQECAgEBBwIBAQEBAQEBAQECBwEHAQEBAQIHAQEBAgECAgEBAgEBAgEBBwEBAQECAQICAQECAgEBAgEBAQECAQEBAQEBAQEBAgEBAQEBAQEBAQEBAgEBAQICBwIBAQEBAQcHAQcBAgEBAQIBAQECAQEBAgEBAgcBBwEBAQEBAQICAgEBAQEBAQECAQcBAQECAgEBAgIBAQIBAgEBAQEBAgECAQIHAQECAQcBAQEBAQIBAQEBAgICAgEBAQEBAgIBAQEBAQcBAQEBAQECAQIBAgEBBwEBAgEBAgEBAQECBwcBAQcBBwEBAgECAQcBBwcBAQcBAgEBAQEBAQECAQEBAgEBAQECAQcBBwIBAgEBAQEBAQEBAQEBAgEBAQEBAQcBAQMBAwIBAQEBAgEBAQEHAQIBAQEBAgEBBwIBAgIBAQEBAQEBBwQBAQIBAQEBAQEBAQEBAQEBAQEBAQIBAQIHAgEHAQEBAgECAgECAQEBBwEBAQEBBwEHAQEBAQEBAQEBAQEBAQEBAQIBAQEBAQcBAgEHAQEBBwEBAQEBAgEBAgEBAQEBAQEBAQECAgEBAQECAQIBAQEBAQEBAQEHAQcBAQEBAgEBAQIBAQEBAQEEAwIBAgIBAQEBAgEBAgEBAQEBAQECAQECAQECAQEBAgIBBwEBAQIBAQEBAQEBAQEBAQECAQEBAQEBAQECBwEBAgEBAQEBAQcBAgIBAQEHAQEBAQIBAQIBBwEBAQEBAQECBwIBAgMBAQIBBwECAQIBAQEBAQcBBwECAQEBAQECAgICAgIBAQEBAgECBwECAQICAQcBAQEBAQEIAQECAgECAQEBAQEBAQECAQEBAQEBAgEBAQEBBwECAQEBAgEBAgEBAQEBAQcCAgECBwEBAQEBAgEBAQEBAQEBAgECAQEBAgEBAgEHAQEBAQEBAQECAQECAQICAQEBAQcHAQIBAQEBAgEBAQEBAQEBAQcCAQEHAQEBAQIBAQECAQEBAQECAQcBAQECAQEBAQIBAQEBAQEBAQEBAQEBBwEDAgEBAQEBBwcBAQECAQEBAQEBAQcBAQEBAQECAQEBAQEBAQEBAQEBAQECAgEBAgEBAQEBAgIHAgEBAQcBAQEBAQIBAQIBAQEBAQEBAQcBAQEBAQEBAQEBAwECAQEBAQIBAQEBAgEBAQIBAQEBAQcBAgEBAQcBAQEBAQEBAQICAgEBAQEBAgECAgEHAQEBAQIBBwEBAQEBAQIBAQEBAQEBAQEBBwIBAQICAQEBAQEBAQcBAQEBAQIBAQEBAQECAQEBAQEBAQEBAQcBAQEBAQEBBwEBAQEBAgEBAQEBBwEBAgECAQEBAQECBwEBAQEBAQECAQEBAgEBAQICBwEHAQIBAQIBAQEBAQIBAgEBAQEBAgcCAQEHAgECAQEBAQICAQECAgECAQEBAQECAQEBAQEBAQEBAgEBAgEBAQEBAQEBAQEBAQECAQcBAQEBAQECAQEHAQEBAQEBAQEBAQECBwcHBwEBAQICAgIBAQECAQEBAQIBAQECAQEBAQEBAgECAQIBAgEBAQIBAQICAgEBAQEBAQECAQcBAgEBAQECBwECAQEBAQEBBwEBAgEBAgEBAgECAQEBAQEBAQEBAQEBAQEBAQcBAQIBAQEBAQECAQIBAQQBAQcHAQECAQMBAgEBBwEBAQICAgEDAQEBAQEBAgcBAQECAgEBAQEBAQEBAQEBAQcBAQECAgEBAQEBAgEBAQICAQECAQEBAgEHAQICAQEBAQEBAQEBAgEBAQEBAgEBAQIBAQIBAgEBAQEBAgECAQcBAQEBAQEBAgcBAQEBAQEBAQEBBwEBBwEBAQECBwICAQcCAQEBAQIBAQIBAgIBAgEBAQEBAQEBAgIBBAcBAQICAQIBAQEBBwIBAQcBAQIHAQIBAQEBAQEBAQEBAQEBAQICAQIBAQECAQcBBwEBAQEBAQEBBAEHAgEBAQIBAQIBAgEBAQECAQEBAQEBAQEBAQEBAQEDAQIBAQIBAQcBAQECAwIBAQICAgEBAgEBAQECAQEBAQIBAQcCBwEBAQICAQcBAQEBAQEHAQEBAQcBBwECAQEBAQEBAQEBAQEBAQEBAgIBAQEHAgEBBwEBAQEBAgEBAQEBAQIBAQEBAQECAQIBAQEBAQEBAgEBAQEBAQEBAgEBAQcBAgEBAQECAgIBAQEBAQEBAgEBAQEHAQEBAQEBAgEBAQEBAQICAQEBAQEBAQIBBwEBAQIBAQMBAQEBAQEHAQEBAQEBAQEBAQcDAQMCAQECAQICAQcHAgEBAQEBAQEBAQEBAQEBAQECAQEBAQIBAgEBAgEBAQEHAQIBAQEHBwEBAQECAgcBAQECAQEBAQEBAQEBAQIHAQEBAQECAQEBAQEBAQECAQECAQEBBwEBAQEBAQEBAQcBAQECAQEBAQECAQIBAQEBAQEBAQECAQICAQEBAQEBAQEBAQEBBwEBAQEBAQICAQEHAgEBAgEBAQEBAQEBAQEDAQEBAgIHAQEBAQEBAgICAQEBAQIBAQECAQIBAQIBAQIBAQEBAQEBAQECAQECAQIBAQEHAQEBAQEBAQQBAgEBAQEBAQEBAQECAQEBAQEBAgEBAQICAQEBAQEBAgEBAQcCBwEBAQEBAQIBAQECAQEBAQEBAQEBAQEBAQcBAQEBAQcCAgICAQcBAQIBAQEBAQIBAQECAQEBAQIBAQEBAQcBAQEBAQECAgcCAgEBAQIBBwEDAgEBAQIBAQEHAQEBAgECAQEHAQcBAQIBAQECAgECAQICAQEBAQEBAQECAgEBAQEBAQIBBwEBAQECAQEBBwICAQEBAgECAQEHAwIHAQEBAQEBAQEHAgcBAQECAQEBAQECBwEBAQEBAQEBAQECAQEBAQEBAgEBAQEBAQEBAgIBAgEBAQIBAQEBAQEBAQEBAQcHBwECAQEBAQEBAQEBAQEBAgcBAQECAQEBAQEBAQEHBwEBAQIBAQEBAQECAQIBAQEBAQEHAgEBAQcBAgIHAQcCAgEBAQEBAQEBAQEBBwEBAQECAQIBAQEBAQEBAQEHAQECAQEBBwECBwEBAQEBAQEBAgIBAQEBAQIBAQEBAQEBAQEBAQEBAQEBAQcBAQECAQEBAwEBAQIBAQEBAQEDAQIBAQEBBwEBAQcBAgEHAgEHAQEBAQEBAQIBAQEBAQEHAQcCAQcCBwIBAQEBAgEBAQEBAQEBAQEBAgcBAQEBAQEHBwIBAQMBAQIBAQECAQICAQEBAQECAQEBAQIBAQEBAQEBAQEHAQEBAQEBAQECAQIBAQEBAgcCAQEHAQQBAQIBAQEBAQEBAQEBAQEBAQECCAEBAQIBAQEBAQEBAQEBAgECAQEBAQQBAQIBAQEBAwEBAQIBAQEBAQEBAQEBAgIBAQEBAQIBBwEBAQECAQEBAQEBAQEBAQIBAQEBAQEBAQEBAQEDAQEBAQEHAQEHAQEBAQEBAQEBAgEBAQEBAQEBAQEBAQEBAQICAQEBAQEBAQEBAQEBAQECBwECAQEBAQEBAQECAQEHAgcBAQECAQEBAQECAQIBBwcCAQICAQEBAgEBAQMCAgcBAQEBAwEBAQEBAQEHAQEBAQcBAQEBAQEBAQIBAQIHAQEBAQEBAQEBAQEBBwEBAQEBAQEBAQEBAQECAgcBAQEBAQEBBwEBBwEBAQEBAQEBAQEBAQEBAQEBAgECAQECAQEBAQEHAQEBAQIBAQECAQcBAQIBAQECAQEBAgEBAQEBAQEBAQECAQIBAQEBAQEBAQICAgEBAQEBAQEBAQIBAQECAQEBBwEBAQIBBwEBAQEBAQIBAQIBAQEBAgIBAQEHAQIBAQEBAQECBwECAQEBAQEBBwECAQIBAQEBAgIBAgEHAgEHAgECAQEBAQEBAQECAgEBAQEBAQECBwEHBwECAQEDAQEHAgEBAQEHAQEBAQcBAQECAgIBAQEBAQIBAQEBAQIBAQECAQcBAQEBAQEHAQEBAQIBAQECAQECAQEBAQEBAQECAQcBAQEHAQECAQEBAQEBAQEBAQIBAQIBAQcBBwEBAgcCAQEBAgIBAQEBBwEBAQIBAQEBAQEHAQEBAQEBAQEBAwIBAQEBAgcBAQEBAQEBAQEBAQEBAQEBAQEBAQIBAQEBBwEBAQEDAQIBAQEBAQEBAQcCAQEBAgECAgEBAQIBAQICAQEBAQECAQECAQEBAQEBAQMBAQEBAQEBAQEBAQEBAgEBAQEBAQcCAQcBAQEBAQECBwEBAQEFAQEBBwEBAQIEAgIHAQEBAgEBAQEBAgEBAgEBAQEBAgEBAQIBAQEBAQIBAQEBAQcBAQEBAQIBAQEBAQECAQEBBwEBAQECAQEBAQEBAQEBAQEBAQEBAQEBAgEBAQEBAgEBAQEBAQICAgcBAQIBAQIBAgEBAQEBAQEHAQEBAQEBAQcBAQEBAQEBAQICAgEHAQEBAgEBAgECAgEBAQEBAQIBAQEBAgEBAgEBAQEBAQEBAQECAQEBAQEHAQEBAQIBAQcBAgEBAQECAQIBAQIHAgEBBwEBAQEBAQECAQIBBwEBAQECAQEBAQEBAQECAgEBAQIHAQEHAgEBAQEBAQECAQEBAQEBAQEBAgEBAQcBAQEBAQEBAQEBAQEHAQEBAQEBAgMCAQIBAQEBAQEHAQEHAgEBAQEBAQIBAQEBAgECAQcBAgEBAQIBAwIBAQEBAQcBAQEBAQEBAQEBAQICBwEBBwIBAgIBBwEBAQEBAQEBAgEBAQEBAQECAQEBAQECAQEBAQEBAgIBAQECAgEBAQEHAQcBAQEBAQECAQECAgECAgEBAgEHAQEBAQEHAQEBAQcBAQEBAQEBAQEBAQEBAQEBAQEBAQEBAQEBAQEBAgcBAQEHAQEBAwECBwEBAgcCAQEBAQEBAQEBAwcBAQECAgEBAgEBAQIBAQIBAgEBAgIBAQEBAQEBAQEBAQECAQEBAQEDAQECAgIBAQEBAQEBBwICAQEBAQEBAQEBAQEBAQcBAQEBAgIBAQEBAQEHAgcBAQECAQEBAQEBAQEBAQECAQEBAQEHAQEBAQEHAQEBAQIBAQEBAQEBAgEBAQEBAQcBAQcBAgEBAQEBAQcBAQEBAgEBAQIBAQEBAQcCAQECAQICAQEBAQIBBwEBAQcBAQECAQcBAQEBAQEBAQEBAQEBAQEHAgEHAQEBAQEBAQEBAQEBAQEBAQEBAgECAQECAQEBAQIBAQECAQEHBwEBAQEBAQEBAQEBAQcBAQEBAQECBwEBAQIHAwEBAgECAgcCAQIBAQEBAQIBAQEBAQEBAgIBAQEBAgEBAwEHAQcBBwEBAQICAQEBBwEBAQEBBwcBAgEBAQEBAQECAQEBAQEBAQEBAQECAQECBwEBAwEBAgcBAQEBAgMBAQICAQICBwECAQIBAgEBBwEBAQEBAQEBAQEBAQEBAQEBAQcBAQEHAQEHAQEBAQEBAQEBAgEBAQEBAQEBAQECAQIBAQEBAQEBAQEHAQEBAQEBAgEBAQEBAQEBAQIBAQEBAQEBAwECAQEBAQcCAQEBAQEBAQEBAQECAQIBAgEBAQEBBwcBAQEHAQEBAgEBAQEBAQEBBwEBAQEBAQEBAQICAQIHAQEBAQIBAQEBAQEBBwIHAgEBAQEBAQMBAQEBAQECAQECAQEBAgEBAQECAQIBAQIBAQEBAQIBAQEBAQEBAQIBAQEBAQEBAQEBAQEBAQEBAQEBAQEBAgECAgEBBwEBAQEBAQEBAQEBAgEBAgECAgcHAgEBAQEBAQIHAQEBAQMDAQEHAgEBAQcBAQEBAgIBAQEHAQECAQEBAQICAgECAQIBAQcBBwEHAQECAQEBAQEBAQEBBwEBAQEBAQEBAQEBAgIBAgEBAQcBAQEBAQEBAQECAQEBAQEBAQEBBwEBAQEBAQIBAQEBAQICBwEBAgEBAQICAQEBAQECAQEBAQEBAQIBAQEBAQEBAQIBAQIBAQIDAgECAQEHBAEBAQIBAgEBAQEHAQIBAgIHAQcBAQECBwIBAQEBAQEBAQIBAQEBAQIBBwIBAQEBBwIHAgEBAQcBAQEBAgICAQEHAQEHAQEHAQECAQECAQIBAQcCAQEBAQEDAgEHAQIBAQICAgcCAQIHAgIBAgIBAgICBwIBAgECAgEHAgECAQIBAgICAgECAQICAgEBBwICAQICAQEBAQECAQIBAQIBAgIBAgICAgIBBwICAgICAgECAgIBAgICAQICAQIBAgICAgEBAQICAgEHAgEBAgICAQICAgEBAQcBAQICAgECAgECAgIBAQICAQIBBwIBAQcCAgICAgICAQICAgEBAgECAgMCBwEBAgEBAgICAQICAQIBAgIBAQIBAgIBAgICAgcCAQICAgECAQEBAQICAQEBBQcBAgICAQIBAgECAgECAgICAgIBAQICBwICAQIBBwEBAgECAgIBAQIBAgcCAgECAQECAQIBAQEBAgIBAQECAQICAgECAgECAgcCAgEBAgcCAQICAQEBAgIHAgIBAQICAQEBAgICAgICAgIBAgcBAgICAQECAQEBAgICAgICBwICAQIBAgICBwICBwECAgICAQICAgICAgECAQcCBwICAgECAQICAQIBAgICAQECBwICAgIBAgICAgICAgICAgcCAgICAgICAgcHAgIHAgcBAgICAgcCAgICAgIHAgIBAgcCAgcCBwECAgICAgIBBwIBAQEBAgIBAgICAgICAgEBAgICAgICAQECAQcHAgIHBwICAQcBAQICAgEBAQICAgIHAQEBAgICAQcHAgIBAgECAgICAgECAgECAgcCAgICAQECAQIBAQICAgEBAQICAQECAgECBwIBAgICAgcCAgICAgIHAgICBwIBAgEBAQcCAQECAQICAQcBBwICAQEBAQIBAQcBAgICAgICAgEBAQEBBwEHAQEBAgcBAgEBBwIHAQEBAQECAQEHBwIBAgEBAQcHAQIBAQEBAQEBBwEBAQEBAQIHAQMBAQEBAQEBBwEBAQEHAQIBAQECAQEBAQEBAQEBBwcBAgEBAQEBAQECBwEBAQcBAgEBAQEDAwEBAgEBAgMHAQECBwEBAQEBBwICAQECAQcBAQIHAQcBAgEBAgIBAQEBAQEBAgEBBwEBAQEHAQIBAQEBAQIBAQEBAgECAgEBBwEBAQEBAgECAQEBAQEHAgEBAQEHBwIBAQEBAQEBAQIBAQEBAgEBAgECAgEBAQEBAQEBAgEBAQECAQEBAQECAQEBAQEBAQIEAQEBAQEBAgECAQEBAQIBAgcBAQEBAQIBAQEBBwEBAQECBwEBAgECBwIHBwEBAQEBAQIBAQECAQEBAQECAgEBAgICAQECAQcBAQcBAQcBAgEBBwEBBwIHAQICAgEBAQECAQIHAQEBAgECAgEHAQcBAQEBAQEBBwEBAQEBAQEBAQEBBwEBAQEBBwEBAQECAQECAQEBAgEBAgIBAgEBAQECAQIBAQEBAgIBAQEBAQEBAQEBAQEDAQEBAQEBBwcBAQEBBwIHAQEBAgIBAQEBAQECAQEBAQEBAQcHAQEBAQcBAQIBAQECAQEHAQEBAQEHAQEBBwIHAQECAQECAQECBwcHAQcCAgECAQEBAQEBAQIBAQECAQICAQEHAQEBAQcCAQcBAQEBAQEBAQEHAgICAQEHAQEBAQEBAQcBAQECAQIBAQEHAgEBBwEBAgIBAQEBAQIBAQEBAQIBAQEHAgEBAQEBAQEBAgEBAQEBAQEBAgEBAgIBAQECAgECAQEBAQEBAQEBBwEHAQEBAQECAQICAgcBAQEBAgEBAQEBAQECAQIBAgEBAQEBAQECAQEBAQICAgEBAgEBAQEBAgEBAQEBAQIHAQEBAQEBAQIBAgECAgEBAQEBBwEBAgECAgEBAQIBAQEBAQECAQEBBwEBBwEBAgEBAQEHAQIBAQEBAQEBAQIBAQcBAQEBAQEBAQICAQIBAQIBAQIBAQIHBwIHAQIHAQEBAQcBAQEBAQEHBwEBAQICAgEBAQIBAQECAQEHAQcHAgcBAQEBAgcBAQEBBwIBAQEBAQICAQEBAQEBAgIBAQEBAQEBAQcBAQECBwECAgEBAQEBAQEBAgEBAgIBAgEBAQEBAgEHAQEHAQIBAQEBAQEBAgEHAgEBBwEBAQEBAQEBAQEBAgMCAgEBAQEBAQIBAQIBBwEBAQECAQIBAQECBwIBAQEBAQEBAgIBAQECAgEBAQIBAgEBCAICAQEHAQEBAQEBAQEHAgECAQEBAQEBAQEBAQEHBwEBAQEBAgECAQEBAQICAgEBAQIBAQIBAgcBAQEHAQECAQEBBwIBAQEBBwEBAQEBAQECAgEBAQIBAgIBAQIBAQEBAQEBAgEBAQEHAQEBAQICAQEBAQEHAgEBAgEHAQEHBwEBAQIBAQEBAQEBAgEBAQEBAQICAgEHAgEBAQIBAQEBAgIBAQEHBwEBAgEHAgIBAQECAgEBBwcBAQEBAQcBAQEHAQIBAQICAQEBAgEBAQEBAQEBAQEBAQECAQcBAQcBAgcBAQIBAQECAgEBAQECAgEHAQEBAQEBAQEBAQEBAQEBAQIBBwEBAQEBAQIHAQEBAQECAQEBAQECAQcBAQEBAQEBAQIBAQEBAQIBAQEHAQECAgEBAQEBAgEBAQECBwEBAQEBAQIBAQEBAgEBAgECAQICAQECAQICAQMBAQcBAgcCAQQBAQcBAQcBAQEBAQEBAQECAQIBAQECAQIBAQcCAQcCAgEBAQIBAQEBAgEBAwEBAQICAQIHAQIBAQIBAQEHAQICAQEBAQEBBwIBBwEBAQEHAQcCAQECAgEBBwEBAgEBBwEBAQIBAQEBBwEBAwEBAQIBAQEBAQcBBwEBAgEBAgICAQEHAQIBAQEBAQEDAQEBAQEBAQcCAQcBAQECAgEHAQIBAgEBAgEBAQEBBwIBAQEBAQECAQEBAQECAQEBAQEBAQEHAQEHAQEBAQEBAQIHBwEBBwEBAwcBAQcBAQEBAQEBAQEBAgEBAQECAQEBAQIBAQECAQECAgEBAQEBAQECBwEBAQICAgEBAQEBAQEHBwEBAQEBAQECAQIBAQEBAgECAQEBAQEHAQEDAQEBAQEBAQECBwEBAQEBAgEBAgECAQEHAQIBBwEBAQEBAQEHAQEBAQEBAQECAQECAQECAQEBAgEBAQcBAQEBAQEHAQEBAQICAgEBAQIBAQECBwEHAQIHAQEBAgICAgEDAQECAgEHAgEBAQECAQEBAQEBAQEBAgEBAQECAQIBAgcCAQECAQEBAQEBAQEHAgcBAgcCAgEHAQEBAQECAQICAQEBAQEBAgcBBwEBAQIHAQEBAQEHAQcBAQEHAQEBAQEBAQEBAQEBAQEBBwECBwEBAQEBBwEBAQcBAQEHAQEBAQcHAgECAQEBAQICAQEHAQIBAQEBAQECAQIHBwIBAQEHAQEBAQEBAQEHAQIBAQcBAQcCAQECAQEBAQEBAQEBAQIBAQEHAQECAQcBAQcCAgEBAQEDBwEBAQEBAgEBAgIBAgEBAQEBAgEBAQEBAQEHAQEHAgEBAQECAQIHAQIBAQEBAQICBwEBAgEBBwEBBwEBBwEBAQEBAQECAgEBAQEHAQEBAQEBAQEBAQEBAQECAQEHAQIBAgECAQEBAgICAgEBAwECAQECAQECAgEBAQEBAQEBAQIBAgECAQEBAQIBAQIBAQIBAgECAgEBAQEBAQEBAQEBAQICAgEBAQECAQIBAQIBAQEHAQEBAQIBAgEBAQcBAQEBAQcHAQIBAQEBAQECAwEBAgECAQECAQEBBwEBAgECAQEBAQEBAQEBAQECBwEBAgEHAQEBAgEBAgEHAQEBAQEBAQEBAgEBAQEBAQECAQIBAQEHAQEBBwIHAQIBAQIBBwEBAQIBAwcHAQEBAQEBAQEBAgIBAgEBBwICAQEBAQcBBwEHAgEBAQEBAQcBAQcBAQEHAQICBwIBAQEBAQECAQEBAQEBAgcBAQEBAQEBBwEBAQcCAQICAgICAQEBBwcBAQIBAgICAQEBAQECAQIBAQIBAgEBAQEBAgIBAgIHAQIBAQECAQICAQEBBwECBwEBAgIHAQEBBwEBAQEBAQICAQEBAQEBAQIBAQEBAQEBAgEBAQEBAQEBAQEBAQECAQEBAgEBAQECAQEBAQEBAQECAQEBAQICAgEBAQEBAQEBAQIBAQEBAgEBAQECAQEHAQIBAgEBAQEBAgIBAQEBAgICAQcBAQEBAwEBAQECAgEBAQEBAQEBAQEBAgIBAQECAQIBAQEBAQICAQEBAQEBAgEBAQECAgECAQEHAgEBAQEBAQICBwICAQECAQEBAQEBAgEBAQIBAQEBAQEBAQEBAgECAgEBAgMCAgEBAgEBAgEBAQEBAQECAgEBBwECAgEBAQEBAgIBAgIBAgEBAQEBAQICAQICAQICAgEBAQECAQEBAQEBAgEBAQEBAQEBAQEBAQICBwECAQEBAgEBAgIBAQEBAQEBAgEBAgEBAQEBBwEBAQECAQICAQECAwEHAQECAQEBAQECAQIBAQECAgIBAgECAQIHAQIBAQEBAQEHAQEBAQEBAQIBAgICAQIBAQIBAQEBAQIBAQEBAgEBAgIBAgEBAQICAQICBwIBAQEBAgEBAgECAgECAgIBAQEBAgIBAgEBAQIBBwEBAQECAgECAgECAgECAQEBAQEBAgEBAQEBAgEBAQEBAQECAQECAQIBAQEBAQEBAgEBAQEBAQIBAgICAgcBAQEBAQEBAQEBAgEBAgECAgEBAgIBAQECAQICAQECAQICAQcCAQEBAgECAQEBAQECAQEBAgIBAQIBAQEBAQEBAgIHAQIBAgEEAQIBAQECAQEBAQECAQEBAQEBAQEBBwEBAQIBAQIBAgECAQcBAgEHAQICAQICAgEBAQICAQEBAQICAgEBAQEBAQECAgEBAQEBAgEBAQIBAgECAQICAgEBBwIBAgECAQECAQEBAQECAQECAgEBAgIBAQIBAgEBAgIBAQECAgECAQEBAQEBAQECAQIBAQECAQECAQIBAgIBAgECAgIBAQIBAgEBAQEBAQICAQIBAQEBAQEBAQEBAQEBAQEBAgEBAQECAgEBAgEBAQIBAQECAQEBAgECAgEBBwEBAQcBAgEHAQECAQICAQICAQEBBwIBAQEBAQcBAQEBAQEBBwIBAgEHAQEBAQEBAQEBAgIBAQEBAQMBBwICAQEBAgEBAQcDAQEBAgECAQEHAQIBAQEBAQEBAQEBAQEBAQIBAgIBBwEBAQEHAgICAQEBAgcCAQICBwIBAgcCAQEBAQIBBwEBAQEBAQICAgECAQIBAgEHAQEBAQEBAQEBAQEBAQMBAgEBAQEBAQEBAQEBAQEBAQEBAQEBAQEBAQEBAQEBAgEBAQEBAQEBAQEBAQEBAQEBAQEBAQEBAQEBAQEBAQIBAgEBAQEBAQEBAQEBAQEBAQEBAQEBAQEBAQEBAQEBAQEBAQMCAQEBAgEBAgEBAQEBAQEBAQEBAgMBAgEBAgEBAgIBAgIBAQEBAgEBAQICAQECAQEBAwEBAQEBAQEBAQEBAQECAQEBAQEBAQICAwIBAQEBAgICAgEBAgECAQECBwIBAQIBBwEDAgICAQEBAQEBAQEBAQIHBwICAQEBAQEBAgECAQECAQEBAgEBAgEBAQEBAQICAQQCAQEBAgEBBwECAgECAgICAgIBBwcBAQECAgECAgEBAQEBAQEBAQECAQEBAQEBAgEBAQIBAgEBAQICAgMBAQcCBwIHAQEHAgICBwICAQEBAQIBAQICAQECAQICAQIBAQIBAgEBAgEBAgEBAgIBAQIBAgEBAQICAQEBAQEBAQEBAQEBBwEBAQcBAQEBBwEBAQEBAgEHAQEBAQECAQEBAQcBAQcCAgEBAQECBwEHBwcCAgEBAQEEAQcHAQECBwEBBwcBAQcBBwEBAQcBAQEBAQEBAgcCAQEHAQcCAQIBAQcCAQEBAQIBBwEBAgEBBwcCAQEBAQcCAQEBBwECAgICAgICAQEBAQICBAcBAQICAgECBwECBwECAQICAQEBAQIHAQICAQMBAQEBAQEBAQIBAQEBAQEBBwEBAgIBAQIBBwEBAgECBwEHAgEBBwIBAgEBAQEBAgcBAQECAQcBBwEBBwEHAQEBBwEBAQEBAQEBAQEBBwEBAQECAQEBAQEBBwEBAQEBAQEBAQEBAQcBAQECAQEBBwEBAgEBBwEBAQEHAQEBAQEBAQEBAgEBAQcBAQEBAQEBAQEBAQEBBwEBAQICAQECAQEBAQICAQEBAgIBAQEBAgECAQEBAgEBAQEBAQEBAgEBAQICAQIBAgEBAQEBAgEBAQECAQIBAgECAgECAQIBAgEBAgICAgMBAQEHAgEBAQEBAgECAgIBAQEBAQIBAQECAQIBAQICAQEBAQICAQEBAgEBAQECAQcCAgEBAQEBAgECAQEBAQEBAQEHAgEBAQICAgEBAQEBAQIEAQEBAQIBAQEBAQEBAgEBBwICAgIBAQEBAgECAQEBAQEBAQEBAQECAgIBAQEBAQEBAQEBAQECAgEBAQEBAgMBAQcCAQEBAQECAQEBAQIBAQEBAQEBAQEBAgECAQIBAQECAQICAgECAQECBwEBAQIBAgEBAgEBAgEBAQECAQEBAgEBAgEBAQIBAQIHAgcBAgEBAQECAgEBAQEBAQIBAQIBAQIBAwEBAQEBAQEBAgECAQIBAQEBAQEBAQIBAQEBAQECAQIBAQICAgEBAQECAQEBAQECAgEBAQEBAgEBAQEBAgEBAQEBAQIBAQIBAQIBCQEBAQEBAgIBAQEHAQEBAQIBAQECAQEBAgIBAQECAQIBAQIBAQEBAQEBAgEGAQECAgEBAgEBAQECAQMCAQIBAQEBBwECAQEBAQEBAQEBAgEBAQEBAQEBAQEHAgIBAQEBAQECAgEBAQIBAwIBAgECAwEBAQEBAQIBAQECAQEBAgEBAQEBAQIBAQIHAgIBAQICAQEBAQECAQIBAgECBwEBAQEBAQECAQEBAQEBAQIBBwEBAQECAQECAQECAQICAQIHAgIBAQIHAQIBAQEBAQEBAQECAQICAQEBAQIBAQEBAQIBAQECAQECAQEBAQEBAQEBAQECBAECAgEBAgIBAgICAgEBAQICAQICAQEBAgECAQEBAQEBAQIBAQEBAQEBAQEBAQECAQEHAQMBAgMBAgEBAQEBAQEBAQEBAQICAgEBAQIBAgEBAQEBAQEBAQECAQEBAQIBAQECAgEBAgEBAQEBAQIBAwICAgEBAgEBAgEBAQEBAQcCAQECAgECAgECAwEDAQEBAgECAQEBAgEBAQIBAgIBAQEBBwIBAgMBAQIBBwMBBwEHAgECAQEBAgIBAQEHAQEBAgEBAQIBAQEBAQIBAQEBAQEBAgEBAgIBAQEBAQEBAQEBAQIBAQIBAgEBAQIBAgEBAQEBBwECAQEBAQIBAQIBAQEBAgICAQEBAQEBAQEBAQEDAgICAQICAQEBBwECAgEBAQEBAQEBAQEBAQEBAQEBAQEBAQEBAQEBAQEBAQEBAQEBAQEBAQEBAQEBAQEBAQEBAQEBAQEBAQEBAQEBAQEBAQEBAQEBAQEBAQEBAQEBAQEBAgEBAQECAQEBAQEBAQEBAQEBAQEBAgEBAgEBAQEBAgEBAgECAQEBAQEBAQEBAQEBAQEBAQEBAgEBAQEBAQEBAQEBAQEBAQEBAQEBAQEBAQIBAQEBAQEBAQIBAQEBAQEBAQEBAQEBAQEBAQEBAQEBAQEBAQEBAQEBAQEBAQEBAgICAQEBAQECAQECAQECAQEBAQEBAgECAQEBAQEBAQEBAQEBAQEBAQEBAQEBAQEBAQEBAQEBAQEBAQIBAQEBAQEBAQEBAQEBAgEBAQEBAQEBAgIBAQEBAQIBAQEBBwEBAQE=",
          "dtype": "i1"
         },
         "xaxis": "x",
         "yaxis": "y"
        }
       ],
       "layout": {
        "barmode": "relative",
        "legend": {
         "title": {
          "text": "Legend"
         },
         "tracegroupgap": 0
        },
        "showlegend": true,
        "template": {
         "data": {
          "bar": [
           {
            "error_x": {
             "color": "#2a3f5f"
            },
            "error_y": {
             "color": "#2a3f5f"
            },
            "marker": {
             "line": {
              "color": "white",
              "width": 0.5
             },
             "pattern": {
              "fillmode": "overlay",
              "size": 10,
              "solidity": 0.2
             }
            },
            "type": "bar"
           }
          ],
          "barpolar": [
           {
            "marker": {
             "line": {
              "color": "white",
              "width": 0.5
             },
             "pattern": {
              "fillmode": "overlay",
              "size": 10,
              "solidity": 0.2
             }
            },
            "type": "barpolar"
           }
          ],
          "carpet": [
           {
            "aaxis": {
             "endlinecolor": "#2a3f5f",
             "gridcolor": "#C8D4E3",
             "linecolor": "#C8D4E3",
             "minorgridcolor": "#C8D4E3",
             "startlinecolor": "#2a3f5f"
            },
            "baxis": {
             "endlinecolor": "#2a3f5f",
             "gridcolor": "#C8D4E3",
             "linecolor": "#C8D4E3",
             "minorgridcolor": "#C8D4E3",
             "startlinecolor": "#2a3f5f"
            },
            "type": "carpet"
           }
          ],
          "choropleth": [
           {
            "colorbar": {
             "outlinewidth": 0,
             "ticks": ""
            },
            "type": "choropleth"
           }
          ],
          "contour": [
           {
            "colorbar": {
             "outlinewidth": 0,
             "ticks": ""
            },
            "colorscale": [
             [
              0,
              "#0d0887"
             ],
             [
              0.1111111111111111,
              "#46039f"
             ],
             [
              0.2222222222222222,
              "#7201a8"
             ],
             [
              0.3333333333333333,
              "#9c179e"
             ],
             [
              0.4444444444444444,
              "#bd3786"
             ],
             [
              0.5555555555555556,
              "#d8576b"
             ],
             [
              0.6666666666666666,
              "#ed7953"
             ],
             [
              0.7777777777777778,
              "#fb9f3a"
             ],
             [
              0.8888888888888888,
              "#fdca26"
             ],
             [
              1,
              "#f0f921"
             ]
            ],
            "type": "contour"
           }
          ],
          "contourcarpet": [
           {
            "colorbar": {
             "outlinewidth": 0,
             "ticks": ""
            },
            "type": "contourcarpet"
           }
          ],
          "heatmap": [
           {
            "colorbar": {
             "outlinewidth": 0,
             "ticks": ""
            },
            "colorscale": [
             [
              0,
              "#0d0887"
             ],
             [
              0.1111111111111111,
              "#46039f"
             ],
             [
              0.2222222222222222,
              "#7201a8"
             ],
             [
              0.3333333333333333,
              "#9c179e"
             ],
             [
              0.4444444444444444,
              "#bd3786"
             ],
             [
              0.5555555555555556,
              "#d8576b"
             ],
             [
              0.6666666666666666,
              "#ed7953"
             ],
             [
              0.7777777777777778,
              "#fb9f3a"
             ],
             [
              0.8888888888888888,
              "#fdca26"
             ],
             [
              1,
              "#f0f921"
             ]
            ],
            "type": "heatmap"
           }
          ],
          "histogram": [
           {
            "marker": {
             "pattern": {
              "fillmode": "overlay",
              "size": 10,
              "solidity": 0.2
             }
            },
            "type": "histogram"
           }
          ],
          "histogram2d": [
           {
            "colorbar": {
             "outlinewidth": 0,
             "ticks": ""
            },
            "colorscale": [
             [
              0,
              "#0d0887"
             ],
             [
              0.1111111111111111,
              "#46039f"
             ],
             [
              0.2222222222222222,
              "#7201a8"
             ],
             [
              0.3333333333333333,
              "#9c179e"
             ],
             [
              0.4444444444444444,
              "#bd3786"
             ],
             [
              0.5555555555555556,
              "#d8576b"
             ],
             [
              0.6666666666666666,
              "#ed7953"
             ],
             [
              0.7777777777777778,
              "#fb9f3a"
             ],
             [
              0.8888888888888888,
              "#fdca26"
             ],
             [
              1,
              "#f0f921"
             ]
            ],
            "type": "histogram2d"
           }
          ],
          "histogram2dcontour": [
           {
            "colorbar": {
             "outlinewidth": 0,
             "ticks": ""
            },
            "colorscale": [
             [
              0,
              "#0d0887"
             ],
             [
              0.1111111111111111,
              "#46039f"
             ],
             [
              0.2222222222222222,
              "#7201a8"
             ],
             [
              0.3333333333333333,
              "#9c179e"
             ],
             [
              0.4444444444444444,
              "#bd3786"
             ],
             [
              0.5555555555555556,
              "#d8576b"
             ],
             [
              0.6666666666666666,
              "#ed7953"
             ],
             [
              0.7777777777777778,
              "#fb9f3a"
             ],
             [
              0.8888888888888888,
              "#fdca26"
             ],
             [
              1,
              "#f0f921"
             ]
            ],
            "type": "histogram2dcontour"
           }
          ],
          "mesh3d": [
           {
            "colorbar": {
             "outlinewidth": 0,
             "ticks": ""
            },
            "type": "mesh3d"
           }
          ],
          "parcoords": [
           {
            "line": {
             "colorbar": {
              "outlinewidth": 0,
              "ticks": ""
             }
            },
            "type": "parcoords"
           }
          ],
          "pie": [
           {
            "automargin": true,
            "type": "pie"
           }
          ],
          "scatter": [
           {
            "fillpattern": {
             "fillmode": "overlay",
             "size": 10,
             "solidity": 0.2
            },
            "type": "scatter"
           }
          ],
          "scatter3d": [
           {
            "line": {
             "colorbar": {
              "outlinewidth": 0,
              "ticks": ""
             }
            },
            "marker": {
             "colorbar": {
              "outlinewidth": 0,
              "ticks": ""
             }
            },
            "type": "scatter3d"
           }
          ],
          "scattercarpet": [
           {
            "marker": {
             "colorbar": {
              "outlinewidth": 0,
              "ticks": ""
             }
            },
            "type": "scattercarpet"
           }
          ],
          "scattergeo": [
           {
            "marker": {
             "colorbar": {
              "outlinewidth": 0,
              "ticks": ""
             }
            },
            "type": "scattergeo"
           }
          ],
          "scattergl": [
           {
            "marker": {
             "colorbar": {
              "outlinewidth": 0,
              "ticks": ""
             }
            },
            "type": "scattergl"
           }
          ],
          "scattermap": [
           {
            "marker": {
             "colorbar": {
              "outlinewidth": 0,
              "ticks": ""
             }
            },
            "type": "scattermap"
           }
          ],
          "scattermapbox": [
           {
            "marker": {
             "colorbar": {
              "outlinewidth": 0,
              "ticks": ""
             }
            },
            "type": "scattermapbox"
           }
          ],
          "scatterpolar": [
           {
            "marker": {
             "colorbar": {
              "outlinewidth": 0,
              "ticks": ""
             }
            },
            "type": "scatterpolar"
           }
          ],
          "scatterpolargl": [
           {
            "marker": {
             "colorbar": {
              "outlinewidth": 0,
              "ticks": ""
             }
            },
            "type": "scatterpolargl"
           }
          ],
          "scatterternary": [
           {
            "marker": {
             "colorbar": {
              "outlinewidth": 0,
              "ticks": ""
             }
            },
            "type": "scatterternary"
           }
          ],
          "surface": [
           {
            "colorbar": {
             "outlinewidth": 0,
             "ticks": ""
            },
            "colorscale": [
             [
              0,
              "#0d0887"
             ],
             [
              0.1111111111111111,
              "#46039f"
             ],
             [
              0.2222222222222222,
              "#7201a8"
             ],
             [
              0.3333333333333333,
              "#9c179e"
             ],
             [
              0.4444444444444444,
              "#bd3786"
             ],
             [
              0.5555555555555556,
              "#d8576b"
             ],
             [
              0.6666666666666666,
              "#ed7953"
             ],
             [
              0.7777777777777778,
              "#fb9f3a"
             ],
             [
              0.8888888888888888,
              "#fdca26"
             ],
             [
              1,
              "#f0f921"
             ]
            ],
            "type": "surface"
           }
          ],
          "table": [
           {
            "cells": {
             "fill": {
              "color": "#EBF0F8"
             },
             "line": {
              "color": "white"
             }
            },
            "header": {
             "fill": {
              "color": "#C8D4E3"
             },
             "line": {
              "color": "white"
             }
            },
            "type": "table"
           }
          ]
         },
         "layout": {
          "annotationdefaults": {
           "arrowcolor": "#2a3f5f",
           "arrowhead": 0,
           "arrowwidth": 1
          },
          "autotypenumbers": "strict",
          "coloraxis": {
           "colorbar": {
            "outlinewidth": 0,
            "ticks": ""
           }
          },
          "colorscale": {
           "diverging": [
            [
             0,
             "#8e0152"
            ],
            [
             0.1,
             "#c51b7d"
            ],
            [
             0.2,
             "#de77ae"
            ],
            [
             0.3,
             "#f1b6da"
            ],
            [
             0.4,
             "#fde0ef"
            ],
            [
             0.5,
             "#f7f7f7"
            ],
            [
             0.6,
             "#e6f5d0"
            ],
            [
             0.7,
             "#b8e186"
            ],
            [
             0.8,
             "#7fbc41"
            ],
            [
             0.9,
             "#4d9221"
            ],
            [
             1,
             "#276419"
            ]
           ],
           "sequential": [
            [
             0,
             "#0d0887"
            ],
            [
             0.1111111111111111,
             "#46039f"
            ],
            [
             0.2222222222222222,
             "#7201a8"
            ],
            [
             0.3333333333333333,
             "#9c179e"
            ],
            [
             0.4444444444444444,
             "#bd3786"
            ],
            [
             0.5555555555555556,
             "#d8576b"
            ],
            [
             0.6666666666666666,
             "#ed7953"
            ],
            [
             0.7777777777777778,
             "#fb9f3a"
            ],
            [
             0.8888888888888888,
             "#fdca26"
            ],
            [
             1,
             "#f0f921"
            ]
           ],
           "sequentialminus": [
            [
             0,
             "#0d0887"
            ],
            [
             0.1111111111111111,
             "#46039f"
            ],
            [
             0.2222222222222222,
             "#7201a8"
            ],
            [
             0.3333333333333333,
             "#9c179e"
            ],
            [
             0.4444444444444444,
             "#bd3786"
            ],
            [
             0.5555555555555556,
             "#d8576b"
            ],
            [
             0.6666666666666666,
             "#ed7953"
            ],
            [
             0.7777777777777778,
             "#fb9f3a"
            ],
            [
             0.8888888888888888,
             "#fdca26"
            ],
            [
             1,
             "#f0f921"
            ]
           ]
          },
          "colorway": [
           "#636efa",
           "#EF553B",
           "#00cc96",
           "#ab63fa",
           "#FFA15A",
           "#19d3f3",
           "#FF6692",
           "#B6E880",
           "#FF97FF",
           "#FECB52"
          ],
          "font": {
           "color": "#2a3f5f"
          },
          "geo": {
           "bgcolor": "white",
           "lakecolor": "white",
           "landcolor": "white",
           "showlakes": true,
           "showland": true,
           "subunitcolor": "#C8D4E3"
          },
          "hoverlabel": {
           "align": "left"
          },
          "hovermode": "closest",
          "mapbox": {
           "style": "light"
          },
          "paper_bgcolor": "white",
          "plot_bgcolor": "white",
          "polar": {
           "angularaxis": {
            "gridcolor": "#EBF0F8",
            "linecolor": "#EBF0F8",
            "ticks": ""
           },
           "bgcolor": "white",
           "radialaxis": {
            "gridcolor": "#EBF0F8",
            "linecolor": "#EBF0F8",
            "ticks": ""
           }
          },
          "scene": {
           "xaxis": {
            "backgroundcolor": "white",
            "gridcolor": "#DFE8F3",
            "gridwidth": 2,
            "linecolor": "#EBF0F8",
            "showbackground": true,
            "ticks": "",
            "zerolinecolor": "#EBF0F8"
           },
           "yaxis": {
            "backgroundcolor": "white",
            "gridcolor": "#DFE8F3",
            "gridwidth": 2,
            "linecolor": "#EBF0F8",
            "showbackground": true,
            "ticks": "",
            "zerolinecolor": "#EBF0F8"
           },
           "zaxis": {
            "backgroundcolor": "white",
            "gridcolor": "#DFE8F3",
            "gridwidth": 2,
            "linecolor": "#EBF0F8",
            "showbackground": true,
            "ticks": "",
            "zerolinecolor": "#EBF0F8"
           }
          },
          "shapedefaults": {
           "line": {
            "color": "#2a3f5f"
           }
          },
          "ternary": {
           "aaxis": {
            "gridcolor": "#DFE8F3",
            "linecolor": "#A2B1C6",
            "ticks": ""
           },
           "baxis": {
            "gridcolor": "#DFE8F3",
            "linecolor": "#A2B1C6",
            "ticks": ""
           },
           "bgcolor": "white",
           "caxis": {
            "gridcolor": "#DFE8F3",
            "linecolor": "#A2B1C6",
            "ticks": ""
           }
          },
          "title": {
           "x": 0.05
          },
          "xaxis": {
           "automargin": true,
           "gridcolor": "#EBF0F8",
           "linecolor": "#EBF0F8",
           "ticks": "",
           "title": {
            "standoff": 15
           },
           "zerolinecolor": "#EBF0F8",
           "zerolinewidth": 2
          },
          "yaxis": {
           "automargin": true,
           "gridcolor": "#EBF0F8",
           "linecolor": "#EBF0F8",
           "ticks": "",
           "title": {
            "standoff": 15
           },
           "zerolinecolor": "#EBF0F8",
           "zerolinewidth": 2
          }
         }
        },
        "title": {
         "font": {
          "size": 18
         },
         "text": "# of Interpretations per Patient (Variant Prognostic) (At least 1 Interpretation)",
         "x": 0.5
        },
        "xaxis": {
         "anchor": "y",
         "color": "#333",
         "domain": [
          0,
          1
         ],
         "title": {
          "font": {
           "size": 18
          },
          "text": "Number of Interpretations"
         }
        },
        "yaxis": {
         "anchor": "x",
         "color": "#333",
         "domain": [
          0,
          1
         ],
         "title": {
          "font": {
           "size": 18
          },
          "text": "# of Patients"
         }
        }
       }
      }
     },
     "metadata": {},
     "output_type": "display_data"
    }
   ],
   "source": [
    "# Assuming analysis_df is your DataFrame and '#_interps' is the column you're plotting\n",
    "fig = px.histogram(analysis_df[analysis_df['#_prognostic_interps'] > 0], x='#_prognostic_interps',\n",
    "                   title='# of Interpretations per Patient (Variant Prognostic) (At least 1 Interpretation)', # Adding a title\n",
    "                   labels={'#_prognostic_interps': 'Number of Interpretations'}, # Changing axis label\n",
    "                   color_discrete_sequence=['#636EFA'],\n",
    "                   text_auto=True) # Automatically add text labels\n",
    "\n",
    "# Update layout\n",
    "fig.update_layout(\n",
    "    title_font_size=18, # Customize title font size\n",
    "    title_x=0.5, # Center the title\n",
    "    legend_title_text='Legend', # Custom legend title\n",
    "    xaxis_title='Number of Interpretations', # X-axis label\n",
    "    yaxis_title='# of Patients', # Y-axis label\n",
    "    template='plotly_white', # Using a light theme for better visual\n",
    "    showlegend=True # Ensure the legend is shown\n",
    ")\n",
    "\n",
    "# Customize fonts and colors\n",
    "fig.update_xaxes(title_font=dict(size=18), color='#333') # Customize X-axis title\n",
    "fig.update_yaxes(title_font=dict(size=18), color='#333') # Customize Y-axis title\n",
    "fig.update_traces(marker_line_color='#333', marker_line_width=0.5, # Border line for bars\n",
    "                  textfont_size=10, # Increase text font size for readability\n",
    "                  textposition='outside',\n",
    "                  textangle=-90) # Position text outside the bars for clarity\n",
    "\n",
    "fig.show()\n",
    "fig.write_image(\"histogram_interpretations_prognostic_at_least_1.png\", scale=1.5, width=960, height=540)\n"
   ]
  },
  {
   "cell_type": "markdown",
   "metadata": {},
   "source": [
    "### TODOs"
   ]
  },
  {
   "cell_type": "code",
   "execution_count": 98,
   "metadata": {},
   "outputs": [
    {
     "data": {
      "text/plain": [
       "1471400"
      ]
     },
     "execution_count": 98,
     "metadata": {},
     "output_type": "execute_result"
    }
   ],
   "source": [
    "# TODO: Get count of number of statements, as well as other granularity concerns from above\n",
    "total_count = 0\n",
    "for idx, row in analysis_df.iterrows():\n",
    "    scalar = len(row['ther_response_statements'])\n",
    "    total_count += scalar\n",
    "\n",
    "total_count"
   ]
  },
  {
   "cell_type": "code",
   "execution_count": null,
   "metadata": {},
   "outputs": [],
   "source": [
    "# TODO: Split out the graphs by resource (current is by aggregate) (illustrate gains by source)\n",
    "# TODO: This has been done by variant id, would be interesting to look at by variant category\n",
    "# TODO: Perhaps consider a category/tree (rule based) search, how to match concepts to things in the tree\n",
    "#       for rolling up the tree for particular diseases\n",
    "\n",
    "# For the specific stuff:\n",
    "# TODO: Granularity: Single concept, pairwise, full statement\n",
    "# TODO: Patients with multiple attached concepts: de-aggregate data (row level), quantify per concept separate counts, all possibility statements, rejoin original statements? \n",
    "\n",
    "# TODO: Make this notebook nice, add table of contents and consolidate blocks "
   ]
  }
 ],
 "metadata": {
  "kernelspec": {
   "display_name": "3.12.2",
   "language": "python",
   "name": "python3"
  },
  "language_info": {
   "codemirror_mode": {
    "name": "ipython",
    "version": 3
   },
   "file_extension": ".py",
   "mimetype": "text/x-python",
   "name": "python",
   "nbconvert_exporter": "python",
   "pygments_lexer": "ipython3",
   "version": "3.12.2"
  }
 },
 "nbformat": 4,
 "nbformat_minor": 2
}
