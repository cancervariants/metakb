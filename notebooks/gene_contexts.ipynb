{
 "cells": [
  {
   "cell_type": "markdown",
   "metadata": {},
   "source": [
    "## Investigate MetaKB Dataset: Gene Contexts\n",
    "In order to better understand the MetaKB aggregate dataset, perform graph-directed lookups via neo4j to identify potential insights or avenues of discussion that might not previously be accessible.\n",
    "  \n",
    "This file focuses on gene contexts and attempts to understand the representation of different genes and alleles across evidence items from multiple datasets. Initial ideas are to look at frequency of genes across datasets and breakdown descriptions from civic vs moa to observe overlap or uniqueness.\n",
    "  \n",
    "**Current Data Version**: 5.20.0"
   ]
  },
  {
   "cell_type": "markdown",
   "metadata": {},
   "source": [
    "### Grab Gene Context Data "
   ]
  },
  {
   "cell_type": "code",
   "execution_count": 1,
   "metadata": {},
   "outputs": [],
   "source": [
    "from neo4j import GraphDatabase\n",
    "\n",
    "# Function to create a connection to the Neo4j database\n",
    "def create_db_connection(uri, user, password):\n",
    "    driver = GraphDatabase.driver(uri, auth=(user, password))\n",
    "    return driver\n",
    "\n",
    "# Function to execute a Cypher query\n",
    "def execute_query(driver, query):\n",
    "    with driver.session() as session:\n",
    "        result = session.run(query)\n",
    "        return [record for record in result]\n",
    "\n",
    "# Connect to the Neo4j database\n",
    "uri = \"bolt://localhost:7687\"\n",
    "user = \"neo4j\"\n",
    "password = \"password\"  # Replace 'your_password' with your actual password\n",
    "driver = create_db_connection(uri, user, password)\n",
    "\n",
    "query = \"\"\"MATCH \n",
    "  (g:Gene)-[r:HAS_GENE_CONTEXT]-(node1),\n",
    "  (node1)-[str:HAS_STRENGTH]-(node2),\n",
    "  (node1)-[var:HAS_VARIANT]-(node3),\n",
    "  (node1)-[spec:IS_SPECIFIED_BY]-(node4)\n",
    "\n",
    "RETURN g,COUNT(r), properties(node1),COUNT(str), properties(node2),COUNT(var), properties(node3), COUNT(spec), properties(node4)\n",
    "\"\"\"\n",
    "\n",
    "# Execute the query\n",
    "result = execute_query(driver, query)\n",
    "\n",
    "# Close the connection\n",
    "driver.close()\n",
    "\n",
    "\n"
   ]
  },
  {
   "cell_type": "code",
   "execution_count": 3,
   "metadata": {},
   "outputs": [
    {
     "data": {
      "text/html": [
       "<div>\n",
       "<style scoped>\n",
       "    .dataframe tbody tr th:only-of-type {\n",
       "        vertical-align: middle;\n",
       "    }\n",
       "\n",
       "    .dataframe tbody tr th {\n",
       "        vertical-align: top;\n",
       "    }\n",
       "\n",
       "    .dataframe thead th {\n",
       "        text-align: right;\n",
       "    }\n",
       "</style>\n",
       "<table border=\"1\" class=\"dataframe\">\n",
       "  <thead>\n",
       "    <tr style=\"text-align: right;\">\n",
       "      <th></th>\n",
       "      <th>gene_label</th>\n",
       "      <th>gene_normalizer_id</th>\n",
       "      <th>gene_id</th>\n",
       "      <th>allele_origin</th>\n",
       "      <th>allele_id</th>\n",
       "      <th>direction</th>\n",
       "      <th>predicate</th>\n",
       "      <th>ev_type</th>\n",
       "      <th>evidence_label</th>\n",
       "      <th>evidence_code</th>\n",
       "      <th>variant_id</th>\n",
       "      <th>spec_id</th>\n",
       "      <th>spec_label</th>\n",
       "    </tr>\n",
       "  </thead>\n",
       "  <tbody>\n",
       "    <tr>\n",
       "      <th>0</th>\n",
       "      <td>ABCB1</td>\n",
       "      <td>hgnc:40</td>\n",
       "      <td>civic.gid:4244</td>\n",
       "      <td>germline</td>\n",
       "      <td>civic.eid:675</td>\n",
       "      <td>supports</td>\n",
       "      <td>predictsSensitivityTo</td>\n",
       "      <td>VariantTherapeuticResponseStudy</td>\n",
       "      <td>clinical cohort evidence</td>\n",
       "      <td>e000005</td>\n",
       "      <td>civic.mpid:259</td>\n",
       "      <td>civic.method:2019</td>\n",
       "      <td>CIViC Curation SOP (2019)</td>\n",
       "    </tr>\n",
       "    <tr>\n",
       "      <th>1</th>\n",
       "      <td>ABL1</td>\n",
       "      <td>hgnc:76</td>\n",
       "      <td>civic.gid:4</td>\n",
       "      <td>somatic</td>\n",
       "      <td>civic.eid:4788</td>\n",
       "      <td>supports</td>\n",
       "      <td>predictsSensitivityTo</td>\n",
       "      <td>VariantTherapeuticResponseStudy</td>\n",
       "      <td>preclinical evidence</td>\n",
       "      <td>e000009</td>\n",
       "      <td>civic.mpid:1565</td>\n",
       "      <td>civic.method:2019</td>\n",
       "      <td>CIViC Curation SOP (2019)</td>\n",
       "    </tr>\n",
       "    <tr>\n",
       "      <th>2</th>\n",
       "      <td>ABL1</td>\n",
       "      <td>hgnc:76</td>\n",
       "      <td>civic.gid:4</td>\n",
       "      <td>somatic</td>\n",
       "      <td>civic.eid:4787</td>\n",
       "      <td>supports</td>\n",
       "      <td>predictsSensitivityTo</td>\n",
       "      <td>VariantTherapeuticResponseStudy</td>\n",
       "      <td>preclinical evidence</td>\n",
       "      <td>e000009</td>\n",
       "      <td>civic.mpid:1564</td>\n",
       "      <td>civic.method:2019</td>\n",
       "      <td>CIViC Curation SOP (2019)</td>\n",
       "    </tr>\n",
       "    <tr>\n",
       "      <th>3</th>\n",
       "      <td>ABL1</td>\n",
       "      <td>hgnc:76</td>\n",
       "      <td>civic.gid:4</td>\n",
       "      <td>somatic</td>\n",
       "      <td>civic.eid:6376</td>\n",
       "      <td>supports</td>\n",
       "      <td>predictsSensitivityTo</td>\n",
       "      <td>VariantTherapeuticResponseStudy</td>\n",
       "      <td>preclinical evidence</td>\n",
       "      <td>e000009</td>\n",
       "      <td>civic.mpid:1564</td>\n",
       "      <td>civic.method:2019</td>\n",
       "      <td>CIViC Curation SOP (2019)</td>\n",
       "    </tr>\n",
       "    <tr>\n",
       "      <th>4</th>\n",
       "      <td>ABL1</td>\n",
       "      <td>hgnc:76</td>\n",
       "      <td>civic.gid:4</td>\n",
       "      <td>somatic</td>\n",
       "      <td>civic.eid:6977</td>\n",
       "      <td>supports</td>\n",
       "      <td>predictsResistanceTo</td>\n",
       "      <td>VariantTherapeuticResponseStudy</td>\n",
       "      <td>case study evidence</td>\n",
       "      <td>e000008</td>\n",
       "      <td>civic.mpid:1547</td>\n",
       "      <td>civic.method:2019</td>\n",
       "      <td>CIViC Curation SOP (2019)</td>\n",
       "    </tr>\n",
       "    <tr>\n",
       "      <th>...</th>\n",
       "      <td>...</td>\n",
       "      <td>...</td>\n",
       "      <td>...</td>\n",
       "      <td>...</td>\n",
       "      <td>...</td>\n",
       "      <td>...</td>\n",
       "      <td>...</td>\n",
       "      <td>...</td>\n",
       "      <td>...</td>\n",
       "      <td>...</td>\n",
       "      <td>...</td>\n",
       "      <td>...</td>\n",
       "      <td>...</td>\n",
       "    </tr>\n",
       "    <tr>\n",
       "      <th>1037</th>\n",
       "      <td>PIK3CA</td>\n",
       "      <td>hgnc:8975</td>\n",
       "      <td>moa.normalize.gene:PIK3CA</td>\n",
       "      <td>somatic</td>\n",
       "      <td>moa.assertion:461</td>\n",
       "      <td>none</td>\n",
       "      <td>predictsSensitivityTo</td>\n",
       "      <td>VariantTherapeuticResponseStudy</td>\n",
       "      <td>preclinical evidence</td>\n",
       "      <td>e000009</td>\n",
       "      <td>moa.variant:461</td>\n",
       "      <td>moa.method:2021</td>\n",
       "      <td>MOAlmanac (2021)</td>\n",
       "    </tr>\n",
       "    <tr>\n",
       "      <th>1038</th>\n",
       "      <td>PIK3CA</td>\n",
       "      <td>hgnc:8975</td>\n",
       "      <td>moa.normalize.gene:PIK3CA</td>\n",
       "      <td>somatic</td>\n",
       "      <td>moa.assertion:460</td>\n",
       "      <td>none</td>\n",
       "      <td>predictsSensitivityTo</td>\n",
       "      <td>VariantTherapeuticResponseStudy</td>\n",
       "      <td>preclinical evidence</td>\n",
       "      <td>e000009</td>\n",
       "      <td>moa.variant:460</td>\n",
       "      <td>moa.method:2021</td>\n",
       "      <td>MOAlmanac (2021)</td>\n",
       "    </tr>\n",
       "    <tr>\n",
       "      <th>1039</th>\n",
       "      <td>PIK3CA</td>\n",
       "      <td>hgnc:8975</td>\n",
       "      <td>moa.normalize.gene:PIK3CA</td>\n",
       "      <td>somatic</td>\n",
       "      <td>moa.assertion:459</td>\n",
       "      <td>none</td>\n",
       "      <td>predictsSensitivityTo</td>\n",
       "      <td>VariantTherapeuticResponseStudy</td>\n",
       "      <td>preclinical evidence</td>\n",
       "      <td>e000009</td>\n",
       "      <td>moa.variant:459</td>\n",
       "      <td>moa.method:2021</td>\n",
       "      <td>MOAlmanac (2021)</td>\n",
       "    </tr>\n",
       "    <tr>\n",
       "      <th>1040</th>\n",
       "      <td>RET</td>\n",
       "      <td>hgnc:9967</td>\n",
       "      <td>moa.normalize.gene:RET</td>\n",
       "      <td>somatic</td>\n",
       "      <td>moa.assertion:520</td>\n",
       "      <td>none</td>\n",
       "      <td>predictsSensitivityTo</td>\n",
       "      <td>VariantTherapeuticResponseStudy</td>\n",
       "      <td>observational study evidence</td>\n",
       "      <td>e000007</td>\n",
       "      <td>moa.variant:520</td>\n",
       "      <td>moa.method:2021</td>\n",
       "      <td>MOAlmanac (2021)</td>\n",
       "    </tr>\n",
       "    <tr>\n",
       "      <th>1041</th>\n",
       "      <td>RET</td>\n",
       "      <td>hgnc:9967</td>\n",
       "      <td>moa.normalize.gene:RET</td>\n",
       "      <td>somatic</td>\n",
       "      <td>moa.assertion:519</td>\n",
       "      <td>none</td>\n",
       "      <td>predictsResistanceTo</td>\n",
       "      <td>VariantTherapeuticResponseStudy</td>\n",
       "      <td>observational study evidence</td>\n",
       "      <td>e000007</td>\n",
       "      <td>moa.variant:519</td>\n",
       "      <td>moa.method:2021</td>\n",
       "      <td>MOAlmanac (2021)</td>\n",
       "    </tr>\n",
       "  </tbody>\n",
       "</table>\n",
       "<p>1042 rows × 13 columns</p>\n",
       "</div>"
      ],
      "text/plain": [
       "     gene_label gene_normalizer_id                    gene_id allele_origin  \\\n",
       "0         ABCB1            hgnc:40             civic.gid:4244      germline   \n",
       "1          ABL1            hgnc:76                civic.gid:4       somatic   \n",
       "2          ABL1            hgnc:76                civic.gid:4       somatic   \n",
       "3          ABL1            hgnc:76                civic.gid:4       somatic   \n",
       "4          ABL1            hgnc:76                civic.gid:4       somatic   \n",
       "...         ...                ...                        ...           ...   \n",
       "1037     PIK3CA          hgnc:8975  moa.normalize.gene:PIK3CA       somatic   \n",
       "1038     PIK3CA          hgnc:8975  moa.normalize.gene:PIK3CA       somatic   \n",
       "1039     PIK3CA          hgnc:8975  moa.normalize.gene:PIK3CA       somatic   \n",
       "1040        RET          hgnc:9967     moa.normalize.gene:RET       somatic   \n",
       "1041        RET          hgnc:9967     moa.normalize.gene:RET       somatic   \n",
       "\n",
       "              allele_id direction              predicate  \\\n",
       "0         civic.eid:675  supports  predictsSensitivityTo   \n",
       "1        civic.eid:4788  supports  predictsSensitivityTo   \n",
       "2        civic.eid:4787  supports  predictsSensitivityTo   \n",
       "3        civic.eid:6376  supports  predictsSensitivityTo   \n",
       "4        civic.eid:6977  supports   predictsResistanceTo   \n",
       "...                 ...       ...                    ...   \n",
       "1037  moa.assertion:461      none  predictsSensitivityTo   \n",
       "1038  moa.assertion:460      none  predictsSensitivityTo   \n",
       "1039  moa.assertion:459      none  predictsSensitivityTo   \n",
       "1040  moa.assertion:520      none  predictsSensitivityTo   \n",
       "1041  moa.assertion:519      none   predictsResistanceTo   \n",
       "\n",
       "                              ev_type                evidence_label  \\\n",
       "0     VariantTherapeuticResponseStudy      clinical cohort evidence   \n",
       "1     VariantTherapeuticResponseStudy          preclinical evidence   \n",
       "2     VariantTherapeuticResponseStudy          preclinical evidence   \n",
       "3     VariantTherapeuticResponseStudy          preclinical evidence   \n",
       "4     VariantTherapeuticResponseStudy           case study evidence   \n",
       "...                               ...                           ...   \n",
       "1037  VariantTherapeuticResponseStudy          preclinical evidence   \n",
       "1038  VariantTherapeuticResponseStudy          preclinical evidence   \n",
       "1039  VariantTherapeuticResponseStudy          preclinical evidence   \n",
       "1040  VariantTherapeuticResponseStudy  observational study evidence   \n",
       "1041  VariantTherapeuticResponseStudy  observational study evidence   \n",
       "\n",
       "     evidence_code       variant_id            spec_id  \\\n",
       "0          e000005   civic.mpid:259  civic.method:2019   \n",
       "1          e000009  civic.mpid:1565  civic.method:2019   \n",
       "2          e000009  civic.mpid:1564  civic.method:2019   \n",
       "3          e000009  civic.mpid:1564  civic.method:2019   \n",
       "4          e000008  civic.mpid:1547  civic.method:2019   \n",
       "...            ...              ...                ...   \n",
       "1037       e000009  moa.variant:461    moa.method:2021   \n",
       "1038       e000009  moa.variant:460    moa.method:2021   \n",
       "1039       e000009  moa.variant:459    moa.method:2021   \n",
       "1040       e000007  moa.variant:520    moa.method:2021   \n",
       "1041       e000007  moa.variant:519    moa.method:2021   \n",
       "\n",
       "                     spec_label  \n",
       "0     CIViC Curation SOP (2019)  \n",
       "1     CIViC Curation SOP (2019)  \n",
       "2     CIViC Curation SOP (2019)  \n",
       "3     CIViC Curation SOP (2019)  \n",
       "4     CIViC Curation SOP (2019)  \n",
       "...                         ...  \n",
       "1037           MOAlmanac (2021)  \n",
       "1038           MOAlmanac (2021)  \n",
       "1039           MOAlmanac (2021)  \n",
       "1040           MOAlmanac (2021)  \n",
       "1041           MOAlmanac (2021)  \n",
       "\n",
       "[1042 rows x 13 columns]"
      ]
     },
     "execution_count": 3,
     "metadata": {},
     "output_type": "execute_result"
    }
   ],
   "source": [
    "import pandas as pd\n",
    "\n",
    "data = []\n",
    "for record in result:\n",
    "    row = {\n",
    "        'gene_label': record.data()['g']['label'],\n",
    "        'gene_normalizer_id': record.data()['g']['gene_normalizer_id'],\n",
    "        'gene_id': record.data()['g']['id'],\n",
    "        'allele_origin': record.data().get('properties(node1)', {}).get('alleleOrigin'),\n",
    "        'allele_id': record.data()['properties(node1)']['id'],\n",
    "        'direction': record.data()['properties(node1)']['direction'],\n",
    "        'predicate': record.data()['properties(node1)']['predicate'],\n",
    "        'ev_type': record.data()['properties(node1)']['type'],\n",
    "        'evidence_label': record.data()['properties(node2)']['label'],\n",
    "        'evidence_code': record.data()['properties(node2)']['code'],\n",
    "        'variant_id': record.data()['properties(node3)']['id'],\n",
    "        'spec_id': record.data()['properties(node4)']['id'],\n",
    "        'spec_label': record.data()['properties(node4)']['label']\n",
    "    }\n",
    "    data.append(row)\n",
    "\n",
    "df = pd.DataFrame(data)\n",
    "df\n"
   ]
  },
  {
   "cell_type": "markdown",
   "metadata": {},
   "source": [
    "### Inspect & Graph"
   ]
  },
  {
   "cell_type": "code",
   "execution_count": 4,
   "metadata": {},
   "outputs": [
    {
     "data": {
      "text/html": [
       "<div>\n",
       "<style scoped>\n",
       "    .dataframe tbody tr th:only-of-type {\n",
       "        vertical-align: middle;\n",
       "    }\n",
       "\n",
       "    .dataframe tbody tr th {\n",
       "        vertical-align: top;\n",
       "    }\n",
       "\n",
       "    .dataframe thead th {\n",
       "        text-align: right;\n",
       "    }\n",
       "</style>\n",
       "<table border=\"1\" class=\"dataframe\">\n",
       "  <thead>\n",
       "    <tr style=\"text-align: right;\">\n",
       "      <th></th>\n",
       "      <th>gene</th>\n",
       "      <th>counts</th>\n",
       "    </tr>\n",
       "  </thead>\n",
       "  <tbody>\n",
       "    <tr>\n",
       "      <th>0</th>\n",
       "      <td>EGFR</td>\n",
       "      <td>163</td>\n",
       "    </tr>\n",
       "    <tr>\n",
       "      <th>1</th>\n",
       "      <td>BRAF</td>\n",
       "      <td>160</td>\n",
       "    </tr>\n",
       "    <tr>\n",
       "      <th>2</th>\n",
       "      <td>PIK3CA</td>\n",
       "      <td>103</td>\n",
       "    </tr>\n",
       "    <tr>\n",
       "      <th>3</th>\n",
       "      <td>KRAS</td>\n",
       "      <td>89</td>\n",
       "    </tr>\n",
       "    <tr>\n",
       "      <th>4</th>\n",
       "      <td>KIT</td>\n",
       "      <td>81</td>\n",
       "    </tr>\n",
       "    <tr>\n",
       "      <th>...</th>\n",
       "      <td>...</td>\n",
       "      <td>...</td>\n",
       "    </tr>\n",
       "    <tr>\n",
       "      <th>67</th>\n",
       "      <td>BRCA1</td>\n",
       "      <td>1</td>\n",
       "    </tr>\n",
       "    <tr>\n",
       "      <th>68</th>\n",
       "      <td>ARID1A</td>\n",
       "      <td>1</td>\n",
       "    </tr>\n",
       "    <tr>\n",
       "      <th>69</th>\n",
       "      <td>AR</td>\n",
       "      <td>1</td>\n",
       "    </tr>\n",
       "    <tr>\n",
       "      <th>70</th>\n",
       "      <td>AKT3</td>\n",
       "      <td>1</td>\n",
       "    </tr>\n",
       "    <tr>\n",
       "      <th>71</th>\n",
       "      <td>MAP2K2</td>\n",
       "      <td>1</td>\n",
       "    </tr>\n",
       "  </tbody>\n",
       "</table>\n",
       "<p>72 rows × 2 columns</p>\n",
       "</div>"
      ],
      "text/plain": [
       "      gene  counts\n",
       "0     EGFR     163\n",
       "1     BRAF     160\n",
       "2   PIK3CA     103\n",
       "3     KRAS      89\n",
       "4      KIT      81\n",
       "..     ...     ...\n",
       "67   BRCA1       1\n",
       "68  ARID1A       1\n",
       "69      AR       1\n",
       "70    AKT3       1\n",
       "71  MAP2K2       1\n",
       "\n",
       "[72 rows x 2 columns]"
      ]
     },
     "execution_count": 4,
     "metadata": {},
     "output_type": "execute_result"
    }
   ],
   "source": [
    "data = df['gene_label'].value_counts().rename_axis('gene').reset_index(name='counts')\n",
    "data"
   ]
  },
  {
   "cell_type": "code",
   "execution_count": 5,
   "metadata": {},
   "outputs": [],
   "source": [
    "def get_spec_dist(gene):\n",
    "    tdf = df[df['gene_label']==gene]\n",
    "    tdf = dict(tdf['spec_label'].value_counts())\n",
    "\n",
    "    try:\n",
    "        civic_counts = tdf['CIViC Curation SOP (2019)']\n",
    "    except:\n",
    "        civic_counts = 0\n",
    "\n",
    "    try:\n",
    "        moa_counts = tdf['MOAlmanac (2021)']\n",
    "    except:\n",
    "        moa_counts = 0\n",
    "\n",
    "    return civic_counts, moa_counts"
   ]
  },
  {
   "cell_type": "code",
   "execution_count": 7,
   "metadata": {},
   "outputs": [
    {
     "data": {
      "text/html": [
       "<div>\n",
       "<style scoped>\n",
       "    .dataframe tbody tr th:only-of-type {\n",
       "        vertical-align: middle;\n",
       "    }\n",
       "\n",
       "    .dataframe tbody tr th {\n",
       "        vertical-align: top;\n",
       "    }\n",
       "\n",
       "    .dataframe thead th {\n",
       "        text-align: right;\n",
       "    }\n",
       "</style>\n",
       "<table border=\"1\" class=\"dataframe\">\n",
       "  <thead>\n",
       "    <tr style=\"text-align: right;\">\n",
       "      <th></th>\n",
       "      <th>gene</th>\n",
       "      <th>counts</th>\n",
       "      <th>civic_counts</th>\n",
       "      <th>moa_counts</th>\n",
       "      <th>percent_civic</th>\n",
       "      <th>percent_moa</th>\n",
       "    </tr>\n",
       "  </thead>\n",
       "  <tbody>\n",
       "    <tr>\n",
       "      <th>0</th>\n",
       "      <td>EGFR</td>\n",
       "      <td>163</td>\n",
       "      <td>143</td>\n",
       "      <td>20</td>\n",
       "      <td>87.730061</td>\n",
       "      <td>12.269939</td>\n",
       "    </tr>\n",
       "    <tr>\n",
       "      <th>1</th>\n",
       "      <td>BRAF</td>\n",
       "      <td>160</td>\n",
       "      <td>123</td>\n",
       "      <td>37</td>\n",
       "      <td>76.875000</td>\n",
       "      <td>23.125000</td>\n",
       "    </tr>\n",
       "    <tr>\n",
       "      <th>2</th>\n",
       "      <td>PIK3CA</td>\n",
       "      <td>103</td>\n",
       "      <td>83</td>\n",
       "      <td>20</td>\n",
       "      <td>80.582524</td>\n",
       "      <td>19.417476</td>\n",
       "    </tr>\n",
       "    <tr>\n",
       "      <th>3</th>\n",
       "      <td>KRAS</td>\n",
       "      <td>89</td>\n",
       "      <td>86</td>\n",
       "      <td>3</td>\n",
       "      <td>96.629213</td>\n",
       "      <td>3.370787</td>\n",
       "    </tr>\n",
       "    <tr>\n",
       "      <th>4</th>\n",
       "      <td>KIT</td>\n",
       "      <td>81</td>\n",
       "      <td>69</td>\n",
       "      <td>12</td>\n",
       "      <td>85.185185</td>\n",
       "      <td>14.814815</td>\n",
       "    </tr>\n",
       "    <tr>\n",
       "      <th>...</th>\n",
       "      <td>...</td>\n",
       "      <td>...</td>\n",
       "      <td>...</td>\n",
       "      <td>...</td>\n",
       "      <td>...</td>\n",
       "      <td>...</td>\n",
       "    </tr>\n",
       "    <tr>\n",
       "      <th>67</th>\n",
       "      <td>BRCA1</td>\n",
       "      <td>1</td>\n",
       "      <td>1</td>\n",
       "      <td>0</td>\n",
       "      <td>100.000000</td>\n",
       "      <td>0.000000</td>\n",
       "    </tr>\n",
       "    <tr>\n",
       "      <th>68</th>\n",
       "      <td>ARID1A</td>\n",
       "      <td>1</td>\n",
       "      <td>1</td>\n",
       "      <td>0</td>\n",
       "      <td>100.000000</td>\n",
       "      <td>0.000000</td>\n",
       "    </tr>\n",
       "    <tr>\n",
       "      <th>69</th>\n",
       "      <td>AR</td>\n",
       "      <td>1</td>\n",
       "      <td>1</td>\n",
       "      <td>0</td>\n",
       "      <td>100.000000</td>\n",
       "      <td>0.000000</td>\n",
       "    </tr>\n",
       "    <tr>\n",
       "      <th>70</th>\n",
       "      <td>AKT3</td>\n",
       "      <td>1</td>\n",
       "      <td>1</td>\n",
       "      <td>0</td>\n",
       "      <td>100.000000</td>\n",
       "      <td>0.000000</td>\n",
       "    </tr>\n",
       "    <tr>\n",
       "      <th>71</th>\n",
       "      <td>MAP2K2</td>\n",
       "      <td>1</td>\n",
       "      <td>0</td>\n",
       "      <td>1</td>\n",
       "      <td>0.000000</td>\n",
       "      <td>100.000000</td>\n",
       "    </tr>\n",
       "  </tbody>\n",
       "</table>\n",
       "<p>72 rows × 6 columns</p>\n",
       "</div>"
      ],
      "text/plain": [
       "      gene  counts  civic_counts  moa_counts  percent_civic  percent_moa\n",
       "0     EGFR     163           143          20      87.730061    12.269939\n",
       "1     BRAF     160           123          37      76.875000    23.125000\n",
       "2   PIK3CA     103            83          20      80.582524    19.417476\n",
       "3     KRAS      89            86           3      96.629213     3.370787\n",
       "4      KIT      81            69          12      85.185185    14.814815\n",
       "..     ...     ...           ...         ...            ...          ...\n",
       "67   BRCA1       1             1           0     100.000000     0.000000\n",
       "68  ARID1A       1             1           0     100.000000     0.000000\n",
       "69      AR       1             1           0     100.000000     0.000000\n",
       "70    AKT3       1             1           0     100.000000     0.000000\n",
       "71  MAP2K2       1             0           1       0.000000   100.000000\n",
       "\n",
       "[72 rows x 6 columns]"
      ]
     },
     "execution_count": 7,
     "metadata": {},
     "output_type": "execute_result"
    }
   ],
   "source": [
    "new_data = data['gene'].apply(get_spec_dist).apply(pd.Series)\n",
    "new_data.columns = ['civic_counts','moa_counts']\n",
    "\n",
    "data[['civic_counts','moa_counts']] = new_data\n",
    "\n",
    "data['percent_civic'] = data.apply(lambda x: (x['civic_counts'] / x['counts']) * 100 if x['counts'] != 0 else 0, axis=1)\n",
    "data['percent_moa'] = data.apply(lambda x: (x['moa_counts'] / x['counts']) * 100 if x['counts'] != 0 else 0, axis=1)\n",
    "\n",
    "data"
   ]
  },
  {
   "cell_type": "code",
   "execution_count": 8,
   "metadata": {},
   "outputs": [
    {
     "data": {
      "application/vnd.plotly.v1+json": {
       "config": {
        "plotlyServerURL": "https://plot.ly"
       },
       "data": [
        {
         "alignmentgroup": "True",
         "hovertemplate": "Source=civic_counts<br>gene=%{x}<br>Counts=%{y}<extra></extra>",
         "legendgroup": "civic_counts",
         "marker": {
          "color": "blue",
          "pattern": {
           "shape": ""
          }
         },
         "name": "civic_counts",
         "offsetgroup": "civic_counts",
         "orientation": "v",
         "showlegend": true,
         "textposition": "auto",
         "texttemplate": "%{y}",
         "type": "bar",
         "x": [
          "EGFR",
          "BRAF",
          "PIK3CA",
          "KRAS",
          "KIT",
          "ABL1",
          "ERBB2",
          "NRAS",
          "PDGFRA",
          "PRPS1",
          "ALK",
          "FLT3",
          "IDH1",
          "TP53",
          "ATM",
          "MAP2K1",
          "ESR1",
          "MTOR",
          "NT5C2",
          "AKT1",
          "RET",
          "DDR2",
          "EZH2",
          "FGFR3",
          "MET",
          "SMO",
          "ARAF",
          "ERBB3",
          "BCL2",
          "KDR",
          "JAK1",
          "PIM1",
          "JAK2",
          "GNAS",
          "IDH2",
          "BTK",
          "HRAS",
          "ERCC2",
          "POLD1",
          "XRCC1",
          "CSF3R",
          "MTHFR",
          "PTEN",
          "MAPK1",
          "ERRFI1",
          "FGFR1",
          "FGFR2",
          "GNAQ",
          "STK11",
          "SF3B1",
          "TSC2",
          "VHL",
          "RAD50",
          "GATA3",
          "PTPRD",
          "RAC1",
          "ROS1",
          "ABCB1",
          "PREX2",
          "PIK3R2",
          "NTRK3",
          "NQO1",
          "H3-3A",
          "FCGR2A",
          "CTNNB1",
          "CDK4",
          "BRCA2",
          "BRCA1",
          "ARID1A",
          "AR",
          "AKT3",
          "MAP2K2"
         ],
         "xaxis": "x",
         "y": [
          143,
          123,
          83,
          86,
          69,
          6,
          42,
          17,
          24,
          26,
          19,
          20,
          6,
          17,
          13,
          5,
          12,
          11,
          10,
          8,
          6,
          7,
          1,
          2,
          4,
          5,
          4,
          4,
          4,
          4,
          2,
          3,
          3,
          3,
          0,
          3,
          2,
          2,
          2,
          2,
          2,
          2,
          2,
          1,
          1,
          2,
          2,
          2,
          1,
          1,
          1,
          1,
          1,
          0,
          1,
          1,
          1,
          1,
          1,
          1,
          1,
          1,
          1,
          1,
          1,
          1,
          1,
          1,
          1,
          1,
          1,
          0
         ],
         "yaxis": "y"
        },
        {
         "alignmentgroup": "True",
         "hovertemplate": "Source=moa_counts<br>gene=%{x}<br>Counts=%{y}<extra></extra>",
         "legendgroup": "moa_counts",
         "marker": {
          "color": "red",
          "pattern": {
           "shape": ""
          }
         },
         "name": "moa_counts",
         "offsetgroup": "moa_counts",
         "orientation": "v",
         "showlegend": true,
         "textposition": "auto",
         "texttemplate": "%{y}",
         "type": "bar",
         "x": [
          "EGFR",
          "BRAF",
          "PIK3CA",
          "KRAS",
          "KIT",
          "ABL1",
          "ERBB2",
          "NRAS",
          "PDGFRA",
          "PRPS1",
          "ALK",
          "FLT3",
          "IDH1",
          "TP53",
          "ATM",
          "MAP2K1",
          "ESR1",
          "MTOR",
          "NT5C2",
          "AKT1",
          "RET",
          "DDR2",
          "EZH2",
          "FGFR3",
          "MET",
          "SMO",
          "ARAF",
          "ERBB3",
          "BCL2",
          "KDR",
          "JAK1",
          "PIM1",
          "JAK2",
          "GNAS",
          "IDH2",
          "BTK",
          "HRAS",
          "ERCC2",
          "POLD1",
          "XRCC1",
          "CSF3R",
          "MTHFR",
          "PTEN",
          "MAPK1",
          "ERRFI1",
          "FGFR1",
          "FGFR2",
          "GNAQ",
          "STK11",
          "SF3B1",
          "TSC2",
          "VHL",
          "RAD50",
          "GATA3",
          "PTPRD",
          "RAC1",
          "ROS1",
          "ABCB1",
          "PREX2",
          "PIK3R2",
          "NTRK3",
          "NQO1",
          "H3-3A",
          "FCGR2A",
          "CTNNB1",
          "CDK4",
          "BRCA2",
          "BRCA1",
          "ARID1A",
          "AR",
          "AKT3",
          "MAP2K2"
         ],
         "xaxis": "x",
         "y": [
          20,
          37,
          20,
          3,
          12,
          40,
          0,
          15,
          2,
          0,
          5,
          2,
          15,
          0,
          1,
          8,
          0,
          0,
          0,
          1,
          2,
          0,
          5,
          4,
          1,
          0,
          1,
          0,
          0,
          0,
          2,
          0,
          0,
          0,
          3,
          0,
          0,
          0,
          0,
          0,
          0,
          0,
          0,
          1,
          1,
          0,
          0,
          0,
          0,
          0,
          0,
          0,
          0,
          1,
          0,
          0,
          0,
          0,
          0,
          0,
          0,
          0,
          0,
          0,
          0,
          0,
          0,
          0,
          0,
          0,
          0,
          1
         ],
         "yaxis": "y"
        }
       ],
       "layout": {
        "barmode": "stack",
        "legend": {
         "title": {
          "text": "Source"
         },
         "tracegroupgap": 0
        },
        "template": {
         "data": {
          "bar": [
           {
            "error_x": {
             "color": "#2a3f5f"
            },
            "error_y": {
             "color": "#2a3f5f"
            },
            "marker": {
             "line": {
              "color": "#E5ECF6",
              "width": 0.5
             },
             "pattern": {
              "fillmode": "overlay",
              "size": 10,
              "solidity": 0.2
             }
            },
            "type": "bar"
           }
          ],
          "barpolar": [
           {
            "marker": {
             "line": {
              "color": "#E5ECF6",
              "width": 0.5
             },
             "pattern": {
              "fillmode": "overlay",
              "size": 10,
              "solidity": 0.2
             }
            },
            "type": "barpolar"
           }
          ],
          "carpet": [
           {
            "aaxis": {
             "endlinecolor": "#2a3f5f",
             "gridcolor": "white",
             "linecolor": "white",
             "minorgridcolor": "white",
             "startlinecolor": "#2a3f5f"
            },
            "baxis": {
             "endlinecolor": "#2a3f5f",
             "gridcolor": "white",
             "linecolor": "white",
             "minorgridcolor": "white",
             "startlinecolor": "#2a3f5f"
            },
            "type": "carpet"
           }
          ],
          "choropleth": [
           {
            "colorbar": {
             "outlinewidth": 0,
             "ticks": ""
            },
            "type": "choropleth"
           }
          ],
          "contour": [
           {
            "colorbar": {
             "outlinewidth": 0,
             "ticks": ""
            },
            "colorscale": [
             [
              0,
              "#0d0887"
             ],
             [
              0.1111111111111111,
              "#46039f"
             ],
             [
              0.2222222222222222,
              "#7201a8"
             ],
             [
              0.3333333333333333,
              "#9c179e"
             ],
             [
              0.4444444444444444,
              "#bd3786"
             ],
             [
              0.5555555555555556,
              "#d8576b"
             ],
             [
              0.6666666666666666,
              "#ed7953"
             ],
             [
              0.7777777777777778,
              "#fb9f3a"
             ],
             [
              0.8888888888888888,
              "#fdca26"
             ],
             [
              1,
              "#f0f921"
             ]
            ],
            "type": "contour"
           }
          ],
          "contourcarpet": [
           {
            "colorbar": {
             "outlinewidth": 0,
             "ticks": ""
            },
            "type": "contourcarpet"
           }
          ],
          "heatmap": [
           {
            "colorbar": {
             "outlinewidth": 0,
             "ticks": ""
            },
            "colorscale": [
             [
              0,
              "#0d0887"
             ],
             [
              0.1111111111111111,
              "#46039f"
             ],
             [
              0.2222222222222222,
              "#7201a8"
             ],
             [
              0.3333333333333333,
              "#9c179e"
             ],
             [
              0.4444444444444444,
              "#bd3786"
             ],
             [
              0.5555555555555556,
              "#d8576b"
             ],
             [
              0.6666666666666666,
              "#ed7953"
             ],
             [
              0.7777777777777778,
              "#fb9f3a"
             ],
             [
              0.8888888888888888,
              "#fdca26"
             ],
             [
              1,
              "#f0f921"
             ]
            ],
            "type": "heatmap"
           }
          ],
          "heatmapgl": [
           {
            "colorbar": {
             "outlinewidth": 0,
             "ticks": ""
            },
            "colorscale": [
             [
              0,
              "#0d0887"
             ],
             [
              0.1111111111111111,
              "#46039f"
             ],
             [
              0.2222222222222222,
              "#7201a8"
             ],
             [
              0.3333333333333333,
              "#9c179e"
             ],
             [
              0.4444444444444444,
              "#bd3786"
             ],
             [
              0.5555555555555556,
              "#d8576b"
             ],
             [
              0.6666666666666666,
              "#ed7953"
             ],
             [
              0.7777777777777778,
              "#fb9f3a"
             ],
             [
              0.8888888888888888,
              "#fdca26"
             ],
             [
              1,
              "#f0f921"
             ]
            ],
            "type": "heatmapgl"
           }
          ],
          "histogram": [
           {
            "marker": {
             "pattern": {
              "fillmode": "overlay",
              "size": 10,
              "solidity": 0.2
             }
            },
            "type": "histogram"
           }
          ],
          "histogram2d": [
           {
            "colorbar": {
             "outlinewidth": 0,
             "ticks": ""
            },
            "colorscale": [
             [
              0,
              "#0d0887"
             ],
             [
              0.1111111111111111,
              "#46039f"
             ],
             [
              0.2222222222222222,
              "#7201a8"
             ],
             [
              0.3333333333333333,
              "#9c179e"
             ],
             [
              0.4444444444444444,
              "#bd3786"
             ],
             [
              0.5555555555555556,
              "#d8576b"
             ],
             [
              0.6666666666666666,
              "#ed7953"
             ],
             [
              0.7777777777777778,
              "#fb9f3a"
             ],
             [
              0.8888888888888888,
              "#fdca26"
             ],
             [
              1,
              "#f0f921"
             ]
            ],
            "type": "histogram2d"
           }
          ],
          "histogram2dcontour": [
           {
            "colorbar": {
             "outlinewidth": 0,
             "ticks": ""
            },
            "colorscale": [
             [
              0,
              "#0d0887"
             ],
             [
              0.1111111111111111,
              "#46039f"
             ],
             [
              0.2222222222222222,
              "#7201a8"
             ],
             [
              0.3333333333333333,
              "#9c179e"
             ],
             [
              0.4444444444444444,
              "#bd3786"
             ],
             [
              0.5555555555555556,
              "#d8576b"
             ],
             [
              0.6666666666666666,
              "#ed7953"
             ],
             [
              0.7777777777777778,
              "#fb9f3a"
             ],
             [
              0.8888888888888888,
              "#fdca26"
             ],
             [
              1,
              "#f0f921"
             ]
            ],
            "type": "histogram2dcontour"
           }
          ],
          "mesh3d": [
           {
            "colorbar": {
             "outlinewidth": 0,
             "ticks": ""
            },
            "type": "mesh3d"
           }
          ],
          "parcoords": [
           {
            "line": {
             "colorbar": {
              "outlinewidth": 0,
              "ticks": ""
             }
            },
            "type": "parcoords"
           }
          ],
          "pie": [
           {
            "automargin": true,
            "type": "pie"
           }
          ],
          "scatter": [
           {
            "fillpattern": {
             "fillmode": "overlay",
             "size": 10,
             "solidity": 0.2
            },
            "type": "scatter"
           }
          ],
          "scatter3d": [
           {
            "line": {
             "colorbar": {
              "outlinewidth": 0,
              "ticks": ""
             }
            },
            "marker": {
             "colorbar": {
              "outlinewidth": 0,
              "ticks": ""
             }
            },
            "type": "scatter3d"
           }
          ],
          "scattercarpet": [
           {
            "marker": {
             "colorbar": {
              "outlinewidth": 0,
              "ticks": ""
             }
            },
            "type": "scattercarpet"
           }
          ],
          "scattergeo": [
           {
            "marker": {
             "colorbar": {
              "outlinewidth": 0,
              "ticks": ""
             }
            },
            "type": "scattergeo"
           }
          ],
          "scattergl": [
           {
            "marker": {
             "colorbar": {
              "outlinewidth": 0,
              "ticks": ""
             }
            },
            "type": "scattergl"
           }
          ],
          "scattermapbox": [
           {
            "marker": {
             "colorbar": {
              "outlinewidth": 0,
              "ticks": ""
             }
            },
            "type": "scattermapbox"
           }
          ],
          "scatterpolar": [
           {
            "marker": {
             "colorbar": {
              "outlinewidth": 0,
              "ticks": ""
             }
            },
            "type": "scatterpolar"
           }
          ],
          "scatterpolargl": [
           {
            "marker": {
             "colorbar": {
              "outlinewidth": 0,
              "ticks": ""
             }
            },
            "type": "scatterpolargl"
           }
          ],
          "scatterternary": [
           {
            "marker": {
             "colorbar": {
              "outlinewidth": 0,
              "ticks": ""
             }
            },
            "type": "scatterternary"
           }
          ],
          "surface": [
           {
            "colorbar": {
             "outlinewidth": 0,
             "ticks": ""
            },
            "colorscale": [
             [
              0,
              "#0d0887"
             ],
             [
              0.1111111111111111,
              "#46039f"
             ],
             [
              0.2222222222222222,
              "#7201a8"
             ],
             [
              0.3333333333333333,
              "#9c179e"
             ],
             [
              0.4444444444444444,
              "#bd3786"
             ],
             [
              0.5555555555555556,
              "#d8576b"
             ],
             [
              0.6666666666666666,
              "#ed7953"
             ],
             [
              0.7777777777777778,
              "#fb9f3a"
             ],
             [
              0.8888888888888888,
              "#fdca26"
             ],
             [
              1,
              "#f0f921"
             ]
            ],
            "type": "surface"
           }
          ],
          "table": [
           {
            "cells": {
             "fill": {
              "color": "#EBF0F8"
             },
             "line": {
              "color": "white"
             }
            },
            "header": {
             "fill": {
              "color": "#C8D4E3"
             },
             "line": {
              "color": "white"
             }
            },
            "type": "table"
           }
          ]
         },
         "layout": {
          "annotationdefaults": {
           "arrowcolor": "#2a3f5f",
           "arrowhead": 0,
           "arrowwidth": 1
          },
          "autotypenumbers": "strict",
          "coloraxis": {
           "colorbar": {
            "outlinewidth": 0,
            "ticks": ""
           }
          },
          "colorscale": {
           "diverging": [
            [
             0,
             "#8e0152"
            ],
            [
             0.1,
             "#c51b7d"
            ],
            [
             0.2,
             "#de77ae"
            ],
            [
             0.3,
             "#f1b6da"
            ],
            [
             0.4,
             "#fde0ef"
            ],
            [
             0.5,
             "#f7f7f7"
            ],
            [
             0.6,
             "#e6f5d0"
            ],
            [
             0.7,
             "#b8e186"
            ],
            [
             0.8,
             "#7fbc41"
            ],
            [
             0.9,
             "#4d9221"
            ],
            [
             1,
             "#276419"
            ]
           ],
           "sequential": [
            [
             0,
             "#0d0887"
            ],
            [
             0.1111111111111111,
             "#46039f"
            ],
            [
             0.2222222222222222,
             "#7201a8"
            ],
            [
             0.3333333333333333,
             "#9c179e"
            ],
            [
             0.4444444444444444,
             "#bd3786"
            ],
            [
             0.5555555555555556,
             "#d8576b"
            ],
            [
             0.6666666666666666,
             "#ed7953"
            ],
            [
             0.7777777777777778,
             "#fb9f3a"
            ],
            [
             0.8888888888888888,
             "#fdca26"
            ],
            [
             1,
             "#f0f921"
            ]
           ],
           "sequentialminus": [
            [
             0,
             "#0d0887"
            ],
            [
             0.1111111111111111,
             "#46039f"
            ],
            [
             0.2222222222222222,
             "#7201a8"
            ],
            [
             0.3333333333333333,
             "#9c179e"
            ],
            [
             0.4444444444444444,
             "#bd3786"
            ],
            [
             0.5555555555555556,
             "#d8576b"
            ],
            [
             0.6666666666666666,
             "#ed7953"
            ],
            [
             0.7777777777777778,
             "#fb9f3a"
            ],
            [
             0.8888888888888888,
             "#fdca26"
            ],
            [
             1,
             "#f0f921"
            ]
           ]
          },
          "colorway": [
           "#636efa",
           "#EF553B",
           "#00cc96",
           "#ab63fa",
           "#FFA15A",
           "#19d3f3",
           "#FF6692",
           "#B6E880",
           "#FF97FF",
           "#FECB52"
          ],
          "font": {
           "color": "#2a3f5f"
          },
          "geo": {
           "bgcolor": "white",
           "lakecolor": "white",
           "landcolor": "#E5ECF6",
           "showlakes": true,
           "showland": true,
           "subunitcolor": "white"
          },
          "hoverlabel": {
           "align": "left"
          },
          "hovermode": "closest",
          "mapbox": {
           "style": "light"
          },
          "paper_bgcolor": "white",
          "plot_bgcolor": "#E5ECF6",
          "polar": {
           "angularaxis": {
            "gridcolor": "white",
            "linecolor": "white",
            "ticks": ""
           },
           "bgcolor": "#E5ECF6",
           "radialaxis": {
            "gridcolor": "white",
            "linecolor": "white",
            "ticks": ""
           }
          },
          "scene": {
           "xaxis": {
            "backgroundcolor": "#E5ECF6",
            "gridcolor": "white",
            "gridwidth": 2,
            "linecolor": "white",
            "showbackground": true,
            "ticks": "",
            "zerolinecolor": "white"
           },
           "yaxis": {
            "backgroundcolor": "#E5ECF6",
            "gridcolor": "white",
            "gridwidth": 2,
            "linecolor": "white",
            "showbackground": true,
            "ticks": "",
            "zerolinecolor": "white"
           },
           "zaxis": {
            "backgroundcolor": "#E5ECF6",
            "gridcolor": "white",
            "gridwidth": 2,
            "linecolor": "white",
            "showbackground": true,
            "ticks": "",
            "zerolinecolor": "white"
           }
          },
          "shapedefaults": {
           "line": {
            "color": "#2a3f5f"
           }
          },
          "ternary": {
           "aaxis": {
            "gridcolor": "white",
            "linecolor": "white",
            "ticks": ""
           },
           "baxis": {
            "gridcolor": "white",
            "linecolor": "white",
            "ticks": ""
           },
           "bgcolor": "#E5ECF6",
           "caxis": {
            "gridcolor": "white",
            "linecolor": "white",
            "ticks": ""
           }
          },
          "title": {
           "x": 0.05
          },
          "xaxis": {
           "automargin": true,
           "gridcolor": "white",
           "linecolor": "white",
           "ticks": "",
           "title": {
            "standoff": 15
           },
           "zerolinecolor": "white",
           "zerolinewidth": 2
          },
          "yaxis": {
           "automargin": true,
           "gridcolor": "white",
           "linecolor": "white",
           "ticks": "",
           "title": {
            "standoff": 15
           },
           "zerolinecolor": "white",
           "zerolinewidth": 2
          }
         }
        },
        "title": {
         "text": "Gene Context Contributions by Source"
        },
        "xaxis": {
         "anchor": "y",
         "domain": [
          0,
          1
         ],
         "title": {
          "text": "Gene"
         }
        },
        "yaxis": {
         "anchor": "x",
         "domain": [
          0,
          1
         ],
         "title": {
          "text": "# Of Contexts"
         }
        }
       }
      }
     },
     "metadata": {},
     "output_type": "display_data"
    }
   ],
   "source": [
    "import plotly.express as px\n",
    "\n",
    "fig = px.bar(data, x='gene', y=['civic_counts', 'moa_counts'],\n",
    "             title=\"Gene Context Contributions by Source\",\n",
    "             labels={'value': 'Counts', 'variable': 'Source'},\n",
    "             color_discrete_map={'civic_counts': 'blue', 'moa_counts': 'red'}, text_auto=True)\n",
    "\n",
    "fig.update_layout(barmode='stack',\n",
    "                  xaxis_title=\"Gene\",\n",
    "                  yaxis_title=\"# Of Contexts\",\n",
    "                  legend_title=\"Source\")\n",
    "\n",
    "# fig.write_image('gene_contexts_by_source.png', width=1600, height=900, scale=2)\n",
    "fig.show()\n"
   ]
  }
 ],
 "metadata": {
  "kernelspec": {
   "display_name": "Python 3",
   "language": "python",
   "name": "python3"
  },
  "language_info": {
   "codemirror_mode": {
    "name": "ipython",
    "version": 3
   },
   "file_extension": ".py",
   "mimetype": "text/x-python",
   "name": "python",
   "nbconvert_exporter": "python",
   "pygments_lexer": "ipython3",
   "version": "3.10.14"
  }
 },
 "nbformat": 4,
 "nbformat_minor": 2
}
