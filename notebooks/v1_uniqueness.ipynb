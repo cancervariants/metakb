{
 "cells": [
  {
   "cell_type": "code",
   "execution_count": 2,
   "metadata": {},
   "outputs": [],
   "source": [
    "import json\n",
    "import pandas as pd\n",
    "import requests\n",
    "from tqdm import tqdm\n",
    "from upsetplot import plot\n",
    "from matplotlib import pyplot as plt\n",
    "import plotly\n",
    "import plotly.express as px\n",
    "import plotly.graph_objects as go\n",
    "import kaleido"
   ]
  },
  {
   "cell_type": "markdown",
   "metadata": {},
   "source": [
    "## Initial Import & Normalization\n",
    "Import the json data from v1, structure it in a dataframe, and then use the VICC normalizers to normalize the data. This will likely only be run once and analysis work can just load a pre-run excel."
   ]
  },
  {
   "cell_type": "code",
   "execution_count": 24,
   "metadata": {},
   "outputs": [],
   "source": [
    "files = ['brca.vr.json',\n",
    "         'cgi.vr.json',\n",
    "         'civic.vr.json',\n",
    "         'jax.vr.json',\n",
    "         'molecularmatch.vr.json',\n",
    "         'oncokb.vr.json',\n",
    "         'pmkb.vr.json']"
   ]
  },
  {
   "cell_type": "code",
   "execution_count": null,
   "metadata": {},
   "outputs": [],
   "source": [
    "def load_v1_data(data,source_name):\n",
    "    extracted_data = []\n",
    "    for item in data:\n",
    "        try: # TODO: Handle KeyError [0] in phenotype_term for molecularmatch\n",
    "            extracted_data.append({\n",
    "                'genes': item.get('genes', None),\n",
    "                'feature_names': item.get('feature_names', None),\n",
    "                'drug_labels': item.get('association', {}).get('drug_labels', None),\n",
    "                'variant_name': item.get('association', {}).get('variant_name', None),\n",
    "                'phenotype_term': item.get('association', {}).get('phenotypes', {})[0].get('term',None), # TODO: Check for >1 entries\n",
    "                'source': f'{source_name.split(\".\")[0]}'\n",
    "            })\n",
    "        except:\n",
    "            pass\n",
    "    df = pd.DataFrame(extracted_data)\n",
    "\n",
    "    return(df)"
   ]
  },
  {
   "cell_type": "code",
   "execution_count": 26,
   "metadata": {},
   "outputs": [
    {
     "name": "stderr",
     "output_type": "stream",
     "text": [
      "100%|██████████| 7/7 [00:03<00:00,  1.89it/s]\n"
     ]
    },
    {
     "data": {
      "text/html": [
       "<div>\n",
       "<style scoped>\n",
       "    .dataframe tbody tr th:only-of-type {\n",
       "        vertical-align: middle;\n",
       "    }\n",
       "\n",
       "    .dataframe tbody tr th {\n",
       "        vertical-align: top;\n",
       "    }\n",
       "\n",
       "    .dataframe thead th {\n",
       "        text-align: right;\n",
       "    }\n",
       "</style>\n",
       "<table border=\"1\" class=\"dataframe\">\n",
       "  <thead>\n",
       "    <tr style=\"text-align: right;\">\n",
       "      <th></th>\n",
       "      <th>genes</th>\n",
       "      <th>feature_names</th>\n",
       "      <th>drug_labels</th>\n",
       "      <th>variant_name</th>\n",
       "      <th>phenotype_term</th>\n",
       "      <th>source</th>\n",
       "    </tr>\n",
       "  </thead>\n",
       "  <tbody>\n",
       "    <tr>\n",
       "      <th>0</th>\n",
       "      <td>[BRCA1]</td>\n",
       "      <td>?</td>\n",
       "      <td>None</td>\n",
       "      <td>None</td>\n",
       "      <td>breast cancer</td>\n",
       "      <td>brca</td>\n",
       "    </tr>\n",
       "    <tr>\n",
       "      <th>1</th>\n",
       "      <td>[BRCA1]</td>\n",
       "      <td>E1038G</td>\n",
       "      <td>None</td>\n",
       "      <td>None</td>\n",
       "      <td>breast cancer</td>\n",
       "      <td>brca</td>\n",
       "    </tr>\n",
       "    <tr>\n",
       "      <th>2</th>\n",
       "      <td>[BRCA1]</td>\n",
       "      <td>?</td>\n",
       "      <td>None</td>\n",
       "      <td>None</td>\n",
       "      <td>breast cancer</td>\n",
       "      <td>brca</td>\n",
       "    </tr>\n",
       "    <tr>\n",
       "      <th>3</th>\n",
       "      <td>[BRCA1]</td>\n",
       "      <td>E1250K</td>\n",
       "      <td>None</td>\n",
       "      <td>None</td>\n",
       "      <td>breast cancer</td>\n",
       "      <td>brca</td>\n",
       "    </tr>\n",
       "    <tr>\n",
       "      <th>4</th>\n",
       "      <td>[BRCA1]</td>\n",
       "      <td>?</td>\n",
       "      <td>None</td>\n",
       "      <td>None</td>\n",
       "      <td>breast cancer</td>\n",
       "      <td>brca</td>\n",
       "    </tr>\n",
       "    <tr>\n",
       "      <th>...</th>\n",
       "      <td>...</td>\n",
       "      <td>...</td>\n",
       "      <td>...</td>\n",
       "      <td>...</td>\n",
       "      <td>...</td>\n",
       "      <td>...</td>\n",
       "    </tr>\n",
       "    <tr>\n",
       "      <th>23472</th>\n",
       "      <td>[PATZ1]</td>\n",
       "      <td>PATZ1 any mutation</td>\n",
       "      <td>NA</td>\n",
       "      <td>None</td>\n",
       "      <td>acinar cell carcinoma</td>\n",
       "      <td>pmkb</td>\n",
       "    </tr>\n",
       "    <tr>\n",
       "      <th>23473</th>\n",
       "      <td>[ZNF331]</td>\n",
       "      <td>ZNF331 any mutation</td>\n",
       "      <td>NA</td>\n",
       "      <td>None</td>\n",
       "      <td>acinar cell carcinoma</td>\n",
       "      <td>pmkb</td>\n",
       "    </tr>\n",
       "    <tr>\n",
       "      <th>23474</th>\n",
       "      <td>[ZNF384]</td>\n",
       "      <td>ZNF384 any mutation</td>\n",
       "      <td>NA</td>\n",
       "      <td>None</td>\n",
       "      <td>acinar cell carcinoma</td>\n",
       "      <td>pmkb</td>\n",
       "    </tr>\n",
       "    <tr>\n",
       "      <th>23475</th>\n",
       "      <td>[ZNF521]</td>\n",
       "      <td>ZNF521 any mutation</td>\n",
       "      <td>NA</td>\n",
       "      <td>None</td>\n",
       "      <td>acinar cell carcinoma</td>\n",
       "      <td>pmkb</td>\n",
       "    </tr>\n",
       "    <tr>\n",
       "      <th>23476</th>\n",
       "      <td>[ZRSR2]</td>\n",
       "      <td>ZRSR2 any mutation</td>\n",
       "      <td>NA</td>\n",
       "      <td>None</td>\n",
       "      <td>acinar cell carcinoma</td>\n",
       "      <td>pmkb</td>\n",
       "    </tr>\n",
       "  </tbody>\n",
       "</table>\n",
       "<p>23477 rows × 6 columns</p>\n",
       "</div>"
      ],
      "text/plain": [
       "          genes        feature_names drug_labels variant_name  \\\n",
       "0       [BRCA1]                    ?        None         None   \n",
       "1       [BRCA1]               E1038G        None         None   \n",
       "2       [BRCA1]                    ?        None         None   \n",
       "3       [BRCA1]               E1250K        None         None   \n",
       "4       [BRCA1]                    ?        None         None   \n",
       "...         ...                  ...         ...          ...   \n",
       "23472   [PATZ1]   PATZ1 any mutation          NA         None   \n",
       "23473  [ZNF331]  ZNF331 any mutation          NA         None   \n",
       "23474  [ZNF384]  ZNF384 any mutation          NA         None   \n",
       "23475  [ZNF521]  ZNF521 any mutation          NA         None   \n",
       "23476   [ZRSR2]   ZRSR2 any mutation          NA         None   \n",
       "\n",
       "              phenotype_term source  \n",
       "0              breast cancer   brca  \n",
       "1              breast cancer   brca  \n",
       "2              breast cancer   brca  \n",
       "3              breast cancer   brca  \n",
       "4              breast cancer   brca  \n",
       "...                      ...    ...  \n",
       "23472  acinar cell carcinoma   pmkb  \n",
       "23473  acinar cell carcinoma   pmkb  \n",
       "23474  acinar cell carcinoma   pmkb  \n",
       "23475  acinar cell carcinoma   pmkb  \n",
       "23476  acinar cell carcinoma   pmkb  \n",
       "\n",
       "[23477 rows x 6 columns]"
      ]
     },
     "execution_count": 26,
     "metadata": {},
     "output_type": "execute_result"
    }
   ],
   "source": [
    "v1_data = pd.DataFrame()\n",
    "\n",
    "for file in tqdm(files):\n",
    "    with open(f'v1_data/{file}','r') as f:\n",
    "        data = []\n",
    "        for line in f:\n",
    "            try:\n",
    "                data.append(json.loads(line))\n",
    "            except json.JSONDecodeError:\n",
    "                pass\n",
    "        tdf = load_v1_data(data,file)\n",
    "        v1_data = pd.concat([v1_data,tdf]).reset_index(drop=True)\n",
    "\n",
    "v1_data"
   ]
  },
  {
   "cell_type": "code",
   "execution_count": 36,
   "metadata": {},
   "outputs": [
    {
     "data": {
      "text/html": [
       "<div>\n",
       "<style scoped>\n",
       "    .dataframe tbody tr th:only-of-type {\n",
       "        vertical-align: middle;\n",
       "    }\n",
       "\n",
       "    .dataframe tbody tr th {\n",
       "        vertical-align: top;\n",
       "    }\n",
       "\n",
       "    .dataframe thead th {\n",
       "        text-align: right;\n",
       "    }\n",
       "</style>\n",
       "<table border=\"1\" class=\"dataframe\">\n",
       "  <thead>\n",
       "    <tr style=\"text-align: right;\">\n",
       "      <th></th>\n",
       "      <th>genes</th>\n",
       "      <th>feature_names</th>\n",
       "      <th>drug_labels</th>\n",
       "      <th>variant_name</th>\n",
       "      <th>phenotype_term</th>\n",
       "      <th>source</th>\n",
       "      <th>gene</th>\n",
       "      <th>therapy_concept_id</th>\n",
       "      <th>gene_concept_id</th>\n",
       "    </tr>\n",
       "  </thead>\n",
       "  <tbody>\n",
       "    <tr>\n",
       "      <th>0</th>\n",
       "      <td>BRCA1</td>\n",
       "      <td>?</td>\n",
       "      <td>None</td>\n",
       "      <td>None</td>\n",
       "      <td>breast cancer</td>\n",
       "      <td>brca</td>\n",
       "      <td>BRCA1</td>\n",
       "      <td>No Match</td>\n",
       "      <td>normalize.gene.hgnc:1100</td>\n",
       "    </tr>\n",
       "    <tr>\n",
       "      <th>1</th>\n",
       "      <td>BRCA1</td>\n",
       "      <td>E1038G</td>\n",
       "      <td>None</td>\n",
       "      <td>None</td>\n",
       "      <td>breast cancer</td>\n",
       "      <td>brca</td>\n",
       "      <td>BRCA1</td>\n",
       "      <td>No Match</td>\n",
       "      <td>normalize.gene.hgnc:1100</td>\n",
       "    </tr>\n",
       "    <tr>\n",
       "      <th>2</th>\n",
       "      <td>BRCA1</td>\n",
       "      <td>?</td>\n",
       "      <td>None</td>\n",
       "      <td>None</td>\n",
       "      <td>breast cancer</td>\n",
       "      <td>brca</td>\n",
       "      <td>BRCA1</td>\n",
       "      <td>No Match</td>\n",
       "      <td>normalize.gene.hgnc:1100</td>\n",
       "    </tr>\n",
       "    <tr>\n",
       "      <th>3</th>\n",
       "      <td>BRCA1</td>\n",
       "      <td>E1250K</td>\n",
       "      <td>None</td>\n",
       "      <td>None</td>\n",
       "      <td>breast cancer</td>\n",
       "      <td>brca</td>\n",
       "      <td>BRCA1</td>\n",
       "      <td>No Match</td>\n",
       "      <td>normalize.gene.hgnc:1100</td>\n",
       "    </tr>\n",
       "    <tr>\n",
       "      <th>4</th>\n",
       "      <td>BRCA1</td>\n",
       "      <td>?</td>\n",
       "      <td>None</td>\n",
       "      <td>None</td>\n",
       "      <td>breast cancer</td>\n",
       "      <td>brca</td>\n",
       "      <td>BRCA1</td>\n",
       "      <td>No Match</td>\n",
       "      <td>normalize.gene.hgnc:1100</td>\n",
       "    </tr>\n",
       "    <tr>\n",
       "      <th>...</th>\n",
       "      <td>...</td>\n",
       "      <td>...</td>\n",
       "      <td>...</td>\n",
       "      <td>...</td>\n",
       "      <td>...</td>\n",
       "      <td>...</td>\n",
       "      <td>...</td>\n",
       "      <td>...</td>\n",
       "      <td>...</td>\n",
       "    </tr>\n",
       "    <tr>\n",
       "      <th>32275</th>\n",
       "      <td>PATZ1</td>\n",
       "      <td>PATZ1 any mutation</td>\n",
       "      <td>NA</td>\n",
       "      <td>None</td>\n",
       "      <td>acinar cell carcinoma</td>\n",
       "      <td>pmkb</td>\n",
       "      <td>PATZ1</td>\n",
       "      <td>None</td>\n",
       "      <td>None</td>\n",
       "    </tr>\n",
       "    <tr>\n",
       "      <th>32276</th>\n",
       "      <td>ZNF331</td>\n",
       "      <td>ZNF331 any mutation</td>\n",
       "      <td>NA</td>\n",
       "      <td>None</td>\n",
       "      <td>acinar cell carcinoma</td>\n",
       "      <td>pmkb</td>\n",
       "      <td>ZNF331</td>\n",
       "      <td>None</td>\n",
       "      <td>None</td>\n",
       "    </tr>\n",
       "    <tr>\n",
       "      <th>32277</th>\n",
       "      <td>ZNF384</td>\n",
       "      <td>ZNF384 any mutation</td>\n",
       "      <td>NA</td>\n",
       "      <td>None</td>\n",
       "      <td>acinar cell carcinoma</td>\n",
       "      <td>pmkb</td>\n",
       "      <td>ZNF384</td>\n",
       "      <td>None</td>\n",
       "      <td>None</td>\n",
       "    </tr>\n",
       "    <tr>\n",
       "      <th>32278</th>\n",
       "      <td>ZNF521</td>\n",
       "      <td>ZNF521 any mutation</td>\n",
       "      <td>NA</td>\n",
       "      <td>None</td>\n",
       "      <td>acinar cell carcinoma</td>\n",
       "      <td>pmkb</td>\n",
       "      <td>ZNF521</td>\n",
       "      <td>None</td>\n",
       "      <td>None</td>\n",
       "    </tr>\n",
       "    <tr>\n",
       "      <th>32279</th>\n",
       "      <td>ZRSR2</td>\n",
       "      <td>ZRSR2 any mutation</td>\n",
       "      <td>NA</td>\n",
       "      <td>None</td>\n",
       "      <td>acinar cell carcinoma</td>\n",
       "      <td>pmkb</td>\n",
       "      <td>ZRSR2</td>\n",
       "      <td>None</td>\n",
       "      <td>None</td>\n",
       "    </tr>\n",
       "  </tbody>\n",
       "</table>\n",
       "<p>32280 rows × 9 columns</p>\n",
       "</div>"
      ],
      "text/plain": [
       "        genes        feature_names drug_labels variant_name  \\\n",
       "0       BRCA1                    ?        None         None   \n",
       "1       BRCA1               E1038G        None         None   \n",
       "2       BRCA1                    ?        None         None   \n",
       "3       BRCA1               E1250K        None         None   \n",
       "4       BRCA1                    ?        None         None   \n",
       "...       ...                  ...         ...          ...   \n",
       "32275   PATZ1   PATZ1 any mutation          NA         None   \n",
       "32276  ZNF331  ZNF331 any mutation          NA         None   \n",
       "32277  ZNF384  ZNF384 any mutation          NA         None   \n",
       "32278  ZNF521  ZNF521 any mutation          NA         None   \n",
       "32279   ZRSR2   ZRSR2 any mutation          NA         None   \n",
       "\n",
       "              phenotype_term source    gene therapy_concept_id  \\\n",
       "0              breast cancer   brca   BRCA1           No Match   \n",
       "1              breast cancer   brca   BRCA1           No Match   \n",
       "2              breast cancer   brca   BRCA1           No Match   \n",
       "3              breast cancer   brca   BRCA1           No Match   \n",
       "4              breast cancer   brca   BRCA1           No Match   \n",
       "...                      ...    ...     ...                ...   \n",
       "32275  acinar cell carcinoma   pmkb   PATZ1               None   \n",
       "32276  acinar cell carcinoma   pmkb  ZNF331               None   \n",
       "32277  acinar cell carcinoma   pmkb  ZNF384               None   \n",
       "32278  acinar cell carcinoma   pmkb  ZNF521               None   \n",
       "32279  acinar cell carcinoma   pmkb   ZRSR2               None   \n",
       "\n",
       "                gene_concept_id  \n",
       "0      normalize.gene.hgnc:1100  \n",
       "1      normalize.gene.hgnc:1100  \n",
       "2      normalize.gene.hgnc:1100  \n",
       "3      normalize.gene.hgnc:1100  \n",
       "4      normalize.gene.hgnc:1100  \n",
       "...                         ...  \n",
       "32275                      None  \n",
       "32276                      None  \n",
       "32277                      None  \n",
       "32278                      None  \n",
       "32279                      None  \n",
       "\n",
       "[32280 rows x 9 columns]"
      ]
     },
     "execution_count": 36,
     "metadata": {},
     "output_type": "execute_result"
    }
   ],
   "source": [
    "# Expand the rows with multiple genes into separate rows\n",
    "expanded_rows = []\n",
    "for index, row in v1_data.iterrows():\n",
    "    for gene in row['genes']:\n",
    "        new_row = row.copy()\n",
    "        new_row['genes'] = gene\n",
    "        expanded_rows.append(new_row)\n",
    "\n",
    "# Create a new DataFrame from the expanded rows list\n",
    "v1_data = pd.DataFrame(expanded_rows).reset_index(drop=True)\n",
    "v1_data"
   ]
  },
  {
   "cell_type": "code",
   "execution_count": 31,
   "metadata": {},
   "outputs": [],
   "source": [
    "def normalize_gene(gene):\n",
    "    url = f'https://normalize.cancervariants.org/gene/normalize?q={gene}'\n",
    "    r = requests.get(url)\n",
    "    if r.json()['match_type'] == 0:\n",
    "        concept_id = 'No Match'\n",
    "    else:\n",
    "        concept_id = r.json()['gene']['id']\n",
    "    return concept_id\n",
    "\n",
    "def normalize_disease(disease):\n",
    "    url = f'https://normalize.cancervariants.org/disease/normalize?q={disease}'\n",
    "    r = requests.get(url)\n",
    "    if r.json()['match_type'] == 0:\n",
    "        concept_id = 'No Match'\n",
    "    else:\n",
    "        concept_id = r.json()['disease']['id']\n",
    "    return concept_id\n",
    "\n",
    "def normalize_therapy(therapy):\n",
    "    url = f'https://normalize.cancervariants.org/therapy/normalize?q={therapy}'\n",
    "    r = requests.get(url)\n",
    "    if r.json()['match_type'] == 0:\n",
    "        concept_id = 'No Match'\n",
    "    else:\n",
    "        concept_id = r.json()['therapy']['id']\n",
    "    return concept_id"
   ]
  },
  {
   "cell_type": "code",
   "execution_count": 37,
   "metadata": {},
   "outputs": [
    {
     "name": "stderr",
     "output_type": "stream",
     "text": [
      "32280it [50:30, 10.65it/s]\n"
     ]
    }
   ],
   "source": [
    "# Normalize Genes\n",
    "v1_data['gene_concept_id'] = None\n",
    "for idx, row in tqdm(v1_data.iterrows()):\n",
    "    gene = v1_data.at[idx,'genes']\n",
    "    v1_data.at[idx, 'gene_concept_id'] = normalize_gene(gene)"
   ]
  },
  {
   "cell_type": "code",
   "execution_count": 38,
   "metadata": {},
   "outputs": [
    {
     "name": "stderr",
     "output_type": "stream",
     "text": [
      "32280it [47:56, 11.22it/s]\n"
     ]
    }
   ],
   "source": [
    "# Normalize Disease\n",
    "v1_data['disease_concept_id'] = None\n",
    "for idx, row in tqdm(v1_data.iterrows()):\n",
    "    disease = v1_data.at[idx,'phenotype_term']\n",
    "    v1_data.at[idx, 'disease_concept_id'] = normalize_disease(disease)"
   ]
  },
  {
   "cell_type": "code",
   "execution_count": 39,
   "metadata": {},
   "outputs": [
    {
     "name": "stderr",
     "output_type": "stream",
     "text": [
      "32280it [52:56, 10.16it/s]\n"
     ]
    }
   ],
   "source": [
    "# Normalize Therapy\n",
    "v1_data['therapy_concept_id'] = None\n",
    "for idx, row in tqdm(v1_data.iterrows()):\n",
    "    therapy = v1_data.at[idx,'drug_labels']\n",
    "    v1_data.at[idx, 'therapy_concept_id'] = normalize_therapy(therapy)"
   ]
  },
  {
   "cell_type": "markdown",
   "metadata": {},
   "source": [
    "## Analysis\n",
    "Load already normalized v1 data (run in the above section) and perform analysis work for uniqueness, normalization, and duplicity."
   ]
  },
  {
   "cell_type": "code",
   "execution_count": null,
   "metadata": {},
   "outputs": [
    {
     "data": {
      "text/html": [
       "<div>\n",
       "<style scoped>\n",
       "    .dataframe tbody tr th:only-of-type {\n",
       "        vertical-align: middle;\n",
       "    }\n",
       "\n",
       "    .dataframe tbody tr th {\n",
       "        vertical-align: top;\n",
       "    }\n",
       "\n",
       "    .dataframe thead th {\n",
       "        text-align: right;\n",
       "    }\n",
       "</style>\n",
       "<table border=\"1\" class=\"dataframe\">\n",
       "  <thead>\n",
       "    <tr style=\"text-align: right;\">\n",
       "      <th></th>\n",
       "      <th>genes</th>\n",
       "      <th>feature_names</th>\n",
       "      <th>drug_labels</th>\n",
       "      <th>variant_name</th>\n",
       "      <th>phenotype_term</th>\n",
       "      <th>source</th>\n",
       "      <th>gene</th>\n",
       "      <th>therapy_concept_id</th>\n",
       "      <th>gene_concept_id</th>\n",
       "      <th>disease_concept_id</th>\n",
       "    </tr>\n",
       "  </thead>\n",
       "  <tbody>\n",
       "    <tr>\n",
       "      <th>0</th>\n",
       "      <td>BRCA1</td>\n",
       "      <td>?</td>\n",
       "      <td>NaN</td>\n",
       "      <td>NaN</td>\n",
       "      <td>breast cancer</td>\n",
       "      <td>brca</td>\n",
       "      <td>BRCA1</td>\n",
       "      <td>No Match</td>\n",
       "      <td>normalize.gene.hgnc:1100</td>\n",
       "      <td>normalize.disease.ncit:C9335</td>\n",
       "    </tr>\n",
       "    <tr>\n",
       "      <th>1</th>\n",
       "      <td>BRCA1</td>\n",
       "      <td>E1038G</td>\n",
       "      <td>NaN</td>\n",
       "      <td>NaN</td>\n",
       "      <td>breast cancer</td>\n",
       "      <td>brca</td>\n",
       "      <td>BRCA1</td>\n",
       "      <td>No Match</td>\n",
       "      <td>normalize.gene.hgnc:1100</td>\n",
       "      <td>normalize.disease.ncit:C9335</td>\n",
       "    </tr>\n",
       "    <tr>\n",
       "      <th>2</th>\n",
       "      <td>BRCA1</td>\n",
       "      <td>?</td>\n",
       "      <td>NaN</td>\n",
       "      <td>NaN</td>\n",
       "      <td>breast cancer</td>\n",
       "      <td>brca</td>\n",
       "      <td>BRCA1</td>\n",
       "      <td>No Match</td>\n",
       "      <td>normalize.gene.hgnc:1100</td>\n",
       "      <td>normalize.disease.ncit:C9335</td>\n",
       "    </tr>\n",
       "    <tr>\n",
       "      <th>3</th>\n",
       "      <td>BRCA1</td>\n",
       "      <td>E1250K</td>\n",
       "      <td>NaN</td>\n",
       "      <td>NaN</td>\n",
       "      <td>breast cancer</td>\n",
       "      <td>brca</td>\n",
       "      <td>BRCA1</td>\n",
       "      <td>No Match</td>\n",
       "      <td>normalize.gene.hgnc:1100</td>\n",
       "      <td>normalize.disease.ncit:C9335</td>\n",
       "    </tr>\n",
       "    <tr>\n",
       "      <th>4</th>\n",
       "      <td>BRCA1</td>\n",
       "      <td>?</td>\n",
       "      <td>NaN</td>\n",
       "      <td>NaN</td>\n",
       "      <td>breast cancer</td>\n",
       "      <td>brca</td>\n",
       "      <td>BRCA1</td>\n",
       "      <td>No Match</td>\n",
       "      <td>normalize.gene.hgnc:1100</td>\n",
       "      <td>normalize.disease.ncit:C9335</td>\n",
       "    </tr>\n",
       "    <tr>\n",
       "      <th>...</th>\n",
       "      <td>...</td>\n",
       "      <td>...</td>\n",
       "      <td>...</td>\n",
       "      <td>...</td>\n",
       "      <td>...</td>\n",
       "      <td>...</td>\n",
       "      <td>...</td>\n",
       "      <td>...</td>\n",
       "      <td>...</td>\n",
       "      <td>...</td>\n",
       "    </tr>\n",
       "    <tr>\n",
       "      <th>32275</th>\n",
       "      <td>PATZ1</td>\n",
       "      <td>PATZ1 any mutation</td>\n",
       "      <td>NaN</td>\n",
       "      <td>NaN</td>\n",
       "      <td>acinar cell carcinoma</td>\n",
       "      <td>pmkb</td>\n",
       "      <td>PATZ1</td>\n",
       "      <td>normalize.therapy.rxcui:476250</td>\n",
       "      <td>normalize.gene.hgnc:13071</td>\n",
       "      <td>normalize.disease.ncit:C3768</td>\n",
       "    </tr>\n",
       "    <tr>\n",
       "      <th>32276</th>\n",
       "      <td>ZNF331</td>\n",
       "      <td>ZNF331 any mutation</td>\n",
       "      <td>NaN</td>\n",
       "      <td>NaN</td>\n",
       "      <td>acinar cell carcinoma</td>\n",
       "      <td>pmkb</td>\n",
       "      <td>ZNF331</td>\n",
       "      <td>normalize.therapy.rxcui:476250</td>\n",
       "      <td>normalize.gene.hgnc:15489</td>\n",
       "      <td>normalize.disease.ncit:C3768</td>\n",
       "    </tr>\n",
       "    <tr>\n",
       "      <th>32277</th>\n",
       "      <td>ZNF384</td>\n",
       "      <td>ZNF384 any mutation</td>\n",
       "      <td>NaN</td>\n",
       "      <td>NaN</td>\n",
       "      <td>acinar cell carcinoma</td>\n",
       "      <td>pmkb</td>\n",
       "      <td>ZNF384</td>\n",
       "      <td>normalize.therapy.rxcui:476250</td>\n",
       "      <td>normalize.gene.hgnc:11955</td>\n",
       "      <td>normalize.disease.ncit:C3768</td>\n",
       "    </tr>\n",
       "    <tr>\n",
       "      <th>32278</th>\n",
       "      <td>ZNF521</td>\n",
       "      <td>ZNF521 any mutation</td>\n",
       "      <td>NaN</td>\n",
       "      <td>NaN</td>\n",
       "      <td>acinar cell carcinoma</td>\n",
       "      <td>pmkb</td>\n",
       "      <td>ZNF521</td>\n",
       "      <td>normalize.therapy.rxcui:476250</td>\n",
       "      <td>normalize.gene.hgnc:24605</td>\n",
       "      <td>normalize.disease.ncit:C3768</td>\n",
       "    </tr>\n",
       "    <tr>\n",
       "      <th>32279</th>\n",
       "      <td>ZRSR2</td>\n",
       "      <td>ZRSR2 any mutation</td>\n",
       "      <td>NaN</td>\n",
       "      <td>NaN</td>\n",
       "      <td>acinar cell carcinoma</td>\n",
       "      <td>pmkb</td>\n",
       "      <td>ZRSR2</td>\n",
       "      <td>normalize.therapy.rxcui:476250</td>\n",
       "      <td>normalize.gene.hgnc:23019</td>\n",
       "      <td>normalize.disease.ncit:C3768</td>\n",
       "    </tr>\n",
       "  </tbody>\n",
       "</table>\n",
       "<p>32280 rows × 10 columns</p>\n",
       "</div>"
      ],
      "text/plain": [
       "        genes        feature_names drug_labels variant_name  \\\n",
       "0       BRCA1                    ?         NaN          NaN   \n",
       "1       BRCA1               E1038G         NaN          NaN   \n",
       "2       BRCA1                    ?         NaN          NaN   \n",
       "3       BRCA1               E1250K         NaN          NaN   \n",
       "4       BRCA1                    ?         NaN          NaN   \n",
       "...       ...                  ...         ...          ...   \n",
       "32275   PATZ1   PATZ1 any mutation         NaN          NaN   \n",
       "32276  ZNF331  ZNF331 any mutation         NaN          NaN   \n",
       "32277  ZNF384  ZNF384 any mutation         NaN          NaN   \n",
       "32278  ZNF521  ZNF521 any mutation         NaN          NaN   \n",
       "32279   ZRSR2   ZRSR2 any mutation         NaN          NaN   \n",
       "\n",
       "              phenotype_term source    gene              therapy_concept_id  \\\n",
       "0              breast cancer   brca   BRCA1                        No Match   \n",
       "1              breast cancer   brca   BRCA1                        No Match   \n",
       "2              breast cancer   brca   BRCA1                        No Match   \n",
       "3              breast cancer   brca   BRCA1                        No Match   \n",
       "4              breast cancer   brca   BRCA1                        No Match   \n",
       "...                      ...    ...     ...                             ...   \n",
       "32275  acinar cell carcinoma   pmkb   PATZ1  normalize.therapy.rxcui:476250   \n",
       "32276  acinar cell carcinoma   pmkb  ZNF331  normalize.therapy.rxcui:476250   \n",
       "32277  acinar cell carcinoma   pmkb  ZNF384  normalize.therapy.rxcui:476250   \n",
       "32278  acinar cell carcinoma   pmkb  ZNF521  normalize.therapy.rxcui:476250   \n",
       "32279  acinar cell carcinoma   pmkb   ZRSR2  normalize.therapy.rxcui:476250   \n",
       "\n",
       "                 gene_concept_id            disease_concept_id  \n",
       "0       normalize.gene.hgnc:1100  normalize.disease.ncit:C9335  \n",
       "1       normalize.gene.hgnc:1100  normalize.disease.ncit:C9335  \n",
       "2       normalize.gene.hgnc:1100  normalize.disease.ncit:C9335  \n",
       "3       normalize.gene.hgnc:1100  normalize.disease.ncit:C9335  \n",
       "4       normalize.gene.hgnc:1100  normalize.disease.ncit:C9335  \n",
       "...                          ...                           ...  \n",
       "32275  normalize.gene.hgnc:13071  normalize.disease.ncit:C3768  \n",
       "32276  normalize.gene.hgnc:15489  normalize.disease.ncit:C3768  \n",
       "32277  normalize.gene.hgnc:11955  normalize.disease.ncit:C3768  \n",
       "32278  normalize.gene.hgnc:24605  normalize.disease.ncit:C3768  \n",
       "32279  normalize.gene.hgnc:23019  normalize.disease.ncit:C3768  \n",
       "\n",
       "[32280 rows x 10 columns]"
      ]
     },
     "execution_count": 28,
     "metadata": {},
     "output_type": "execute_result"
    }
   ],
   "source": [
    "df = pd.read_excel('v1_data_normalized.xlsx').drop(labels='Unnamed: 0',axis=1)\n",
    "df"
   ]
  },
  {
   "cell_type": "code",
   "execution_count": 29,
   "metadata": {},
   "outputs": [],
   "source": [
    "def calculate_uniqueness(test_df,reference_df,column_prefix):\n",
    "    for idx, row in tqdm(test_df.iterrows()):\n",
    "        current_value = test_df.at[idx,f'{column_prefix}s']\n",
    "        for source in sources:\n",
    "            tdf = reference_df[reference_df['source']==source]\n",
    "            if current_value in list(tdf[f'{column_prefix}_id'].unique()):\n",
    "                test_df.at[idx,source] = True\n",
    "            elif current_value not in list(tdf[f'{column_prefix}_id'].unique()):\n",
    "                test_df.at[idx,source] = False\n",
    "            else:\n",
    "                test_df.at[idx,source] = 'Something went wrong'       \n",
    "            pass\n",
    "        pass\n",
    "    return(test_df)\n",
    "\n",
    "def format_for_upset(test_df,column_prefix):\n",
    "    test_df.set_index(f'{column_prefix}s', inplace=True)\n",
    "    for col in test_df:\n",
    "        test_df[col] = test_df[col].astype(bool)\n",
    "    upset_data = test_df.groupby(list(test_df.columns)).size()\n",
    "    return(upset_data)\n",
    "\n",
    "\n",
    "# Initialize unique groups for identifying uniqueness\n",
    "sources = list(df['source'].unique())\n",
    "unique_gene_concepts = list(df['gene_concept_id'].unique())\n",
    "unique_therapy_concepts = list(df['therapy_concept_id'].unique())\n",
    "unique_disease_concepts = list(df['disease_concept_id'].unique())"
   ]
  },
  {
   "cell_type": "markdown",
   "metadata": {},
   "source": [
    "### Genes"
   ]
  },
  {
   "cell_type": "code",
   "execution_count": 30,
   "metadata": {},
   "outputs": [
    {
     "data": {
      "text/html": [
       "<div>\n",
       "<style scoped>\n",
       "    .dataframe tbody tr th:only-of-type {\n",
       "        vertical-align: middle;\n",
       "    }\n",
       "\n",
       "    .dataframe tbody tr th {\n",
       "        vertical-align: top;\n",
       "    }\n",
       "\n",
       "    .dataframe thead th {\n",
       "        text-align: right;\n",
       "    }\n",
       "</style>\n",
       "<table border=\"1\" class=\"dataframe\">\n",
       "  <thead>\n",
       "    <tr style=\"text-align: right;\">\n",
       "      <th></th>\n",
       "      <th>gene_concepts</th>\n",
       "      <th>brca</th>\n",
       "      <th>cgi</th>\n",
       "      <th>civic</th>\n",
       "      <th>jax</th>\n",
       "      <th>molecularmatch</th>\n",
       "      <th>oncokb</th>\n",
       "      <th>pmkb</th>\n",
       "    </tr>\n",
       "  </thead>\n",
       "  <tbody>\n",
       "    <tr>\n",
       "      <th>0</th>\n",
       "      <td>normalize.gene.hgnc:1100</td>\n",
       "      <td>None</td>\n",
       "      <td>None</td>\n",
       "      <td>None</td>\n",
       "      <td>None</td>\n",
       "      <td>None</td>\n",
       "      <td>None</td>\n",
       "      <td>None</td>\n",
       "    </tr>\n",
       "    <tr>\n",
       "      <th>1</th>\n",
       "      <td>normalize.gene.hgnc:1101</td>\n",
       "      <td>None</td>\n",
       "      <td>None</td>\n",
       "      <td>None</td>\n",
       "      <td>None</td>\n",
       "      <td>None</td>\n",
       "      <td>None</td>\n",
       "      <td>None</td>\n",
       "    </tr>\n",
       "    <tr>\n",
       "      <th>2</th>\n",
       "      <td>normalize.gene.hgnc:76</td>\n",
       "      <td>None</td>\n",
       "      <td>None</td>\n",
       "      <td>None</td>\n",
       "      <td>None</td>\n",
       "      <td>None</td>\n",
       "      <td>None</td>\n",
       "      <td>None</td>\n",
       "    </tr>\n",
       "    <tr>\n",
       "      <th>3</th>\n",
       "      <td>normalize.gene.hgnc:391</td>\n",
       "      <td>None</td>\n",
       "      <td>None</td>\n",
       "      <td>None</td>\n",
       "      <td>None</td>\n",
       "      <td>None</td>\n",
       "      <td>None</td>\n",
       "      <td>None</td>\n",
       "    </tr>\n",
       "    <tr>\n",
       "      <th>4</th>\n",
       "      <td>normalize.gene.hgnc:392</td>\n",
       "      <td>None</td>\n",
       "      <td>None</td>\n",
       "      <td>None</td>\n",
       "      <td>None</td>\n",
       "      <td>None</td>\n",
       "      <td>None</td>\n",
       "      <td>None</td>\n",
       "    </tr>\n",
       "    <tr>\n",
       "      <th>...</th>\n",
       "      <td>...</td>\n",
       "      <td>...</td>\n",
       "      <td>...</td>\n",
       "      <td>...</td>\n",
       "      <td>...</td>\n",
       "      <td>...</td>\n",
       "      <td>...</td>\n",
       "      <td>...</td>\n",
       "    </tr>\n",
       "    <tr>\n",
       "      <th>917</th>\n",
       "      <td>normalize.gene.hgnc:12989</td>\n",
       "      <td>None</td>\n",
       "      <td>None</td>\n",
       "      <td>None</td>\n",
       "      <td>None</td>\n",
       "      <td>None</td>\n",
       "      <td>None</td>\n",
       "      <td>None</td>\n",
       "    </tr>\n",
       "    <tr>\n",
       "      <th>918</th>\n",
       "      <td>normalize.gene.hgnc:13071</td>\n",
       "      <td>None</td>\n",
       "      <td>None</td>\n",
       "      <td>None</td>\n",
       "      <td>None</td>\n",
       "      <td>None</td>\n",
       "      <td>None</td>\n",
       "      <td>None</td>\n",
       "    </tr>\n",
       "    <tr>\n",
       "      <th>919</th>\n",
       "      <td>normalize.gene.hgnc:15489</td>\n",
       "      <td>None</td>\n",
       "      <td>None</td>\n",
       "      <td>None</td>\n",
       "      <td>None</td>\n",
       "      <td>None</td>\n",
       "      <td>None</td>\n",
       "      <td>None</td>\n",
       "    </tr>\n",
       "    <tr>\n",
       "      <th>920</th>\n",
       "      <td>normalize.gene.hgnc:11955</td>\n",
       "      <td>None</td>\n",
       "      <td>None</td>\n",
       "      <td>None</td>\n",
       "      <td>None</td>\n",
       "      <td>None</td>\n",
       "      <td>None</td>\n",
       "      <td>None</td>\n",
       "    </tr>\n",
       "    <tr>\n",
       "      <th>921</th>\n",
       "      <td>normalize.gene.hgnc:24605</td>\n",
       "      <td>None</td>\n",
       "      <td>None</td>\n",
       "      <td>None</td>\n",
       "      <td>None</td>\n",
       "      <td>None</td>\n",
       "      <td>None</td>\n",
       "      <td>None</td>\n",
       "    </tr>\n",
       "  </tbody>\n",
       "</table>\n",
       "<p>922 rows × 8 columns</p>\n",
       "</div>"
      ],
      "text/plain": [
       "                 gene_concepts  brca   cgi civic   jax molecularmatch oncokb  \\\n",
       "0     normalize.gene.hgnc:1100  None  None  None  None           None   None   \n",
       "1     normalize.gene.hgnc:1101  None  None  None  None           None   None   \n",
       "2       normalize.gene.hgnc:76  None  None  None  None           None   None   \n",
       "3      normalize.gene.hgnc:391  None  None  None  None           None   None   \n",
       "4      normalize.gene.hgnc:392  None  None  None  None           None   None   \n",
       "..                         ...   ...   ...   ...   ...            ...    ...   \n",
       "917  normalize.gene.hgnc:12989  None  None  None  None           None   None   \n",
       "918  normalize.gene.hgnc:13071  None  None  None  None           None   None   \n",
       "919  normalize.gene.hgnc:15489  None  None  None  None           None   None   \n",
       "920  normalize.gene.hgnc:11955  None  None  None  None           None   None   \n",
       "921  normalize.gene.hgnc:24605  None  None  None  None           None   None   \n",
       "\n",
       "     pmkb  \n",
       "0    None  \n",
       "1    None  \n",
       "2    None  \n",
       "3    None  \n",
       "4    None  \n",
       "..    ...  \n",
       "917  None  \n",
       "918  None  \n",
       "919  None  \n",
       "920  None  \n",
       "921  None  \n",
       "\n",
       "[922 rows x 8 columns]"
      ]
     },
     "execution_count": 30,
     "metadata": {},
     "output_type": "execute_result"
    }
   ],
   "source": [
    "gene_uniqueness = pd.DataFrame({'gene_concepts': unique_gene_concepts,\n",
    "                                'brca': None,\n",
    "                                'cgi': None,\n",
    "                                'civic': None,\n",
    "                                'jax': None,\n",
    "                                'molecularmatch': None,\n",
    "                                'oncokb': None,\n",
    "                                'pmkb': None})\n",
    "gene_uniqueness"
   ]
  },
  {
   "cell_type": "code",
   "execution_count": null,
   "metadata": {},
   "outputs": [
    {
     "name": "stderr",
     "output_type": "stream",
     "text": [
      "478it [00:04, 100.87it/s]"
     ]
    }
   ],
   "source": [
    "gene_uniqueness = calculate_uniqueness(gene_uniqueness,df,'gene_concept')\n",
    "gene_proportions = gene_uniqueness # Copy of the DF for later\n",
    "upset_data = format_for_upset(gene_uniqueness,'gene_concept')\n",
    "plot(upset_data, show_counts=True)\n",
    "plt.show()"
   ]
  },
  {
   "cell_type": "markdown",
   "metadata": {},
   "source": [
    "### Diseases"
   ]
  },
  {
   "cell_type": "code",
   "execution_count": null,
   "metadata": {},
   "outputs": [
    {
     "data": {
      "text/html": [
       "<div>\n",
       "<style scoped>\n",
       "    .dataframe tbody tr th:only-of-type {\n",
       "        vertical-align: middle;\n",
       "    }\n",
       "\n",
       "    .dataframe tbody tr th {\n",
       "        vertical-align: top;\n",
       "    }\n",
       "\n",
       "    .dataframe thead th {\n",
       "        text-align: right;\n",
       "    }\n",
       "</style>\n",
       "<table border=\"1\" class=\"dataframe\">\n",
       "  <thead>\n",
       "    <tr style=\"text-align: right;\">\n",
       "      <th></th>\n",
       "      <th>disease_concepts</th>\n",
       "      <th>brca</th>\n",
       "      <th>cgi</th>\n",
       "      <th>civic</th>\n",
       "      <th>jax</th>\n",
       "      <th>molecularmatch</th>\n",
       "      <th>oncokb</th>\n",
       "      <th>pmkb</th>\n",
       "    </tr>\n",
       "  </thead>\n",
       "  <tbody>\n",
       "    <tr>\n",
       "      <th>0</th>\n",
       "      <td>normalize.disease.ncit:C9335</td>\n",
       "      <td>None</td>\n",
       "      <td>None</td>\n",
       "      <td>None</td>\n",
       "      <td>None</td>\n",
       "      <td>None</td>\n",
       "      <td>None</td>\n",
       "      <td>None</td>\n",
       "    </tr>\n",
       "    <tr>\n",
       "      <th>1</th>\n",
       "      <td>normalize.disease.ncit:C3174</td>\n",
       "      <td>None</td>\n",
       "      <td>None</td>\n",
       "      <td>None</td>\n",
       "      <td>None</td>\n",
       "      <td>None</td>\n",
       "      <td>None</td>\n",
       "      <td>None</td>\n",
       "    </tr>\n",
       "    <tr>\n",
       "      <th>2</th>\n",
       "      <td>normalize.disease.ncit:C9305</td>\n",
       "      <td>None</td>\n",
       "      <td>None</td>\n",
       "      <td>None</td>\n",
       "      <td>None</td>\n",
       "      <td>None</td>\n",
       "      <td>None</td>\n",
       "      <td>None</td>\n",
       "    </tr>\n",
       "    <tr>\n",
       "      <th>3</th>\n",
       "      <td>No Match</td>\n",
       "      <td>None</td>\n",
       "      <td>None</td>\n",
       "      <td>None</td>\n",
       "      <td>None</td>\n",
       "      <td>None</td>\n",
       "      <td>None</td>\n",
       "      <td>None</td>\n",
       "    </tr>\n",
       "    <tr>\n",
       "      <th>4</th>\n",
       "      <td>normalize.disease.ncit:C27815</td>\n",
       "      <td>None</td>\n",
       "      <td>None</td>\n",
       "      <td>None</td>\n",
       "      <td>None</td>\n",
       "      <td>None</td>\n",
       "      <td>None</td>\n",
       "      <td>None</td>\n",
       "    </tr>\n",
       "    <tr>\n",
       "      <th>...</th>\n",
       "      <td>...</td>\n",
       "      <td>...</td>\n",
       "      <td>...</td>\n",
       "      <td>...</td>\n",
       "      <td>...</td>\n",
       "      <td>...</td>\n",
       "      <td>...</td>\n",
       "      <td>...</td>\n",
       "    </tr>\n",
       "    <tr>\n",
       "      <th>326</th>\n",
       "      <td>normalize.disease.ncit:C2964</td>\n",
       "      <td>None</td>\n",
       "      <td>None</td>\n",
       "      <td>None</td>\n",
       "      <td>None</td>\n",
       "      <td>None</td>\n",
       "      <td>None</td>\n",
       "      <td>None</td>\n",
       "    </tr>\n",
       "    <tr>\n",
       "      <th>327</th>\n",
       "      <td>normalize.disease.ncit:C9474</td>\n",
       "      <td>None</td>\n",
       "      <td>None</td>\n",
       "      <td>None</td>\n",
       "      <td>None</td>\n",
       "      <td>None</td>\n",
       "      <td>None</td>\n",
       "      <td>None</td>\n",
       "    </tr>\n",
       "    <tr>\n",
       "      <th>328</th>\n",
       "      <td>normalize.disease.ncit:C4017</td>\n",
       "      <td>None</td>\n",
       "      <td>None</td>\n",
       "      <td>None</td>\n",
       "      <td>None</td>\n",
       "      <td>None</td>\n",
       "      <td>None</td>\n",
       "      <td>None</td>\n",
       "    </tr>\n",
       "    <tr>\n",
       "      <th>329</th>\n",
       "      <td>normalize.disease.ncit:C4862</td>\n",
       "      <td>None</td>\n",
       "      <td>None</td>\n",
       "      <td>None</td>\n",
       "      <td>None</td>\n",
       "      <td>None</td>\n",
       "      <td>None</td>\n",
       "      <td>None</td>\n",
       "    </tr>\n",
       "    <tr>\n",
       "      <th>330</th>\n",
       "      <td>normalize.disease.ncit:C3768</td>\n",
       "      <td>None</td>\n",
       "      <td>None</td>\n",
       "      <td>None</td>\n",
       "      <td>None</td>\n",
       "      <td>None</td>\n",
       "      <td>None</td>\n",
       "      <td>None</td>\n",
       "    </tr>\n",
       "  </tbody>\n",
       "</table>\n",
       "<p>331 rows × 8 columns</p>\n",
       "</div>"
      ],
      "text/plain": [
       "                  disease_concepts  brca   cgi civic   jax molecularmatch  \\\n",
       "0     normalize.disease.ncit:C9335  None  None  None  None           None   \n",
       "1     normalize.disease.ncit:C3174  None  None  None  None           None   \n",
       "2     normalize.disease.ncit:C9305  None  None  None  None           None   \n",
       "3                         No Match  None  None  None  None           None   \n",
       "4    normalize.disease.ncit:C27815  None  None  None  None           None   \n",
       "..                             ...   ...   ...   ...   ...            ...   \n",
       "326   normalize.disease.ncit:C2964  None  None  None  None           None   \n",
       "327   normalize.disease.ncit:C9474  None  None  None  None           None   \n",
       "328   normalize.disease.ncit:C4017  None  None  None  None           None   \n",
       "329   normalize.disease.ncit:C4862  None  None  None  None           None   \n",
       "330   normalize.disease.ncit:C3768  None  None  None  None           None   \n",
       "\n",
       "    oncokb  pmkb  \n",
       "0     None  None  \n",
       "1     None  None  \n",
       "2     None  None  \n",
       "3     None  None  \n",
       "4     None  None  \n",
       "..     ...   ...  \n",
       "326   None  None  \n",
       "327   None  None  \n",
       "328   None  None  \n",
       "329   None  None  \n",
       "330   None  None  \n",
       "\n",
       "[331 rows x 8 columns]"
      ]
     },
     "execution_count": 23,
     "metadata": {},
     "output_type": "execute_result"
    }
   ],
   "source": [
    "disease_uniqueness = pd.DataFrame({'disease_concepts': unique_disease_concepts,\n",
    "                                'brca': None,\n",
    "                                'cgi': None,\n",
    "                                'civic': None,\n",
    "                                'jax': None,\n",
    "                                'molecularmatch': None,\n",
    "                                'oncokb': None,\n",
    "                                'pmkb': None})\n",
    "disease_uniqueness"
   ]
  },
  {
   "cell_type": "code",
   "execution_count": null,
   "metadata": {},
   "outputs": [
    {
     "name": "stderr",
     "output_type": "stream",
     "text": [
      "331it [00:03, 107.42it/s]\n",
      "/Users/mjc014/.pyenv/versions/3.12.2/lib/python3.12/site-packages/upsetplot/plotting.py:795: FutureWarning:\n",
      "\n",
      "A value is trying to be set on a copy of a DataFrame or Series through chained assignment using an inplace method.\n",
      "The behavior will change in pandas 3.0. This inplace method will never work because the intermediate object on which we are setting values always behaves as a copy.\n",
      "\n",
      "For example, when doing 'df[col].method(value, inplace=True)', try using 'df.method({col: value}, inplace=True)' or df[col] = df[col].method(value) instead, to perform the operation inplace on the original object.\n",
      "\n",
      "\n",
      "\n",
      "/Users/mjc014/.pyenv/versions/3.12.2/lib/python3.12/site-packages/upsetplot/plotting.py:796: FutureWarning:\n",
      "\n",
      "A value is trying to be set on a copy of a DataFrame or Series through chained assignment using an inplace method.\n",
      "The behavior will change in pandas 3.0. This inplace method will never work because the intermediate object on which we are setting values always behaves as a copy.\n",
      "\n",
      "For example, when doing 'df[col].method(value, inplace=True)', try using 'df.method({col: value}, inplace=True)' or df[col] = df[col].method(value) instead, to perform the operation inplace on the original object.\n",
      "\n",
      "\n",
      "\n",
      "/Users/mjc014/.pyenv/versions/3.12.2/lib/python3.12/site-packages/upsetplot/plotting.py:797: FutureWarning:\n",
      "\n",
      "A value is trying to be set on a copy of a DataFrame or Series through chained assignment using an inplace method.\n",
      "The behavior will change in pandas 3.0. This inplace method will never work because the intermediate object on which we are setting values always behaves as a copy.\n",
      "\n",
      "For example, when doing 'df[col].method(value, inplace=True)', try using 'df.method({col: value}, inplace=True)' or df[col] = df[col].method(value) instead, to perform the operation inplace on the original object.\n",
      "\n",
      "\n",
      "\n",
      "/Users/mjc014/.pyenv/versions/3.12.2/lib/python3.12/site-packages/upsetplot/plotting.py:798: FutureWarning:\n",
      "\n",
      "A value is trying to be set on a copy of a DataFrame or Series through chained assignment using an inplace method.\n",
      "The behavior will change in pandas 3.0. This inplace method will never work because the intermediate object on which we are setting values always behaves as a copy.\n",
      "\n",
      "For example, when doing 'df[col].method(value, inplace=True)', try using 'df.method({col: value}, inplace=True)' or df[col] = df[col].method(value) instead, to perform the operation inplace on the original object.\n",
      "\n",
      "\n",
      "\n"
     ]
    },
    {
     "data": {
      "image/png": "[encoded data removed]",
      "text/plain": [
       "<Figure size 1733.33x577.778 with 4 Axes>"
      ]
     },
     "metadata": {},
     "output_type": "display_data"
    }
   ],
   "source": [
    "disease_uniqueness = calculate_uniqueness(disease_uniqueness,df,'disease_concept')\n",
    "disease_proportions = disease_uniqueness # Copy of the DF for later\n",
    "upset_data = format_for_upset(disease_uniqueness,'disease_concept')\n",
    "plot(upset_data, show_counts=True)\n",
    "plt.show()"
   ]
  },
  {
   "cell_type": "markdown",
   "metadata": {},
   "source": [
    "### Therapeutics"
   ]
  },
  {
   "cell_type": "code",
   "execution_count": null,
   "metadata": {},
   "outputs": [
    {
     "data": {
      "text/html": [
       "<div>\n",
       "<style scoped>\n",
       "    .dataframe tbody tr th:only-of-type {\n",
       "        vertical-align: middle;\n",
       "    }\n",
       "\n",
       "    .dataframe tbody tr th {\n",
       "        vertical-align: top;\n",
       "    }\n",
       "\n",
       "    .dataframe thead th {\n",
       "        text-align: right;\n",
       "    }\n",
       "</style>\n",
       "<table border=\"1\" class=\"dataframe\">\n",
       "  <thead>\n",
       "    <tr style=\"text-align: right;\">\n",
       "      <th></th>\n",
       "      <th>therapy_concepts</th>\n",
       "      <th>brca</th>\n",
       "      <th>cgi</th>\n",
       "      <th>civic</th>\n",
       "      <th>jax</th>\n",
       "      <th>molecularmatch</th>\n",
       "      <th>oncokb</th>\n",
       "      <th>pmkb</th>\n",
       "    </tr>\n",
       "  </thead>\n",
       "  <tbody>\n",
       "    <tr>\n",
       "      <th>0</th>\n",
       "      <td>No Match</td>\n",
       "      <td>None</td>\n",
       "      <td>None</td>\n",
       "      <td>None</td>\n",
       "      <td>None</td>\n",
       "      <td>None</td>\n",
       "      <td>None</td>\n",
       "      <td>None</td>\n",
       "    </tr>\n",
       "    <tr>\n",
       "      <th>1</th>\n",
       "      <td>normalize.therapy.rxcui:662281</td>\n",
       "      <td>None</td>\n",
       "      <td>None</td>\n",
       "      <td>None</td>\n",
       "      <td>None</td>\n",
       "      <td>None</td>\n",
       "      <td>None</td>\n",
       "      <td>None</td>\n",
       "    </tr>\n",
       "    <tr>\n",
       "      <th>2</th>\n",
       "      <td>normalize.therapy.rxcui:1546019</td>\n",
       "      <td>None</td>\n",
       "      <td>None</td>\n",
       "      <td>None</td>\n",
       "      <td>None</td>\n",
       "      <td>None</td>\n",
       "      <td>None</td>\n",
       "      <td>None</td>\n",
       "    </tr>\n",
       "    <tr>\n",
       "      <th>3</th>\n",
       "      <td>normalize.therapy.rxcui:282388</td>\n",
       "      <td>None</td>\n",
       "      <td>None</td>\n",
       "      <td>None</td>\n",
       "      <td>None</td>\n",
       "      <td>None</td>\n",
       "      <td>None</td>\n",
       "      <td>None</td>\n",
       "    </tr>\n",
       "    <tr>\n",
       "      <th>4</th>\n",
       "      <td>normalize.therapy.rxcui:1314319</td>\n",
       "      <td>None</td>\n",
       "      <td>None</td>\n",
       "      <td>None</td>\n",
       "      <td>None</td>\n",
       "      <td>None</td>\n",
       "      <td>None</td>\n",
       "      <td>None</td>\n",
       "    </tr>\n",
       "    <tr>\n",
       "      <th>...</th>\n",
       "      <td>...</td>\n",
       "      <td>...</td>\n",
       "      <td>...</td>\n",
       "      <td>...</td>\n",
       "      <td>...</td>\n",
       "      <td>...</td>\n",
       "      <td>...</td>\n",
       "      <td>...</td>\n",
       "    </tr>\n",
       "    <tr>\n",
       "      <th>504</th>\n",
       "      <td>normalize.therapy.ncit:C77887</td>\n",
       "      <td>None</td>\n",
       "      <td>None</td>\n",
       "      <td>None</td>\n",
       "      <td>None</td>\n",
       "      <td>None</td>\n",
       "      <td>None</td>\n",
       "      <td>None</td>\n",
       "    </tr>\n",
       "    <tr>\n",
       "      <th>505</th>\n",
       "      <td>normalize.therapy.ncit:C99903</td>\n",
       "      <td>None</td>\n",
       "      <td>None</td>\n",
       "      <td>None</td>\n",
       "      <td>None</td>\n",
       "      <td>None</td>\n",
       "      <td>None</td>\n",
       "      <td>None</td>\n",
       "    </tr>\n",
       "    <tr>\n",
       "      <th>506</th>\n",
       "      <td>normalize.therapy.ncit:C66212</td>\n",
       "      <td>None</td>\n",
       "      <td>None</td>\n",
       "      <td>None</td>\n",
       "      <td>None</td>\n",
       "      <td>None</td>\n",
       "      <td>None</td>\n",
       "      <td>None</td>\n",
       "    </tr>\n",
       "    <tr>\n",
       "      <th>507</th>\n",
       "      <td>normalize.therapy.ncit:C90532</td>\n",
       "      <td>None</td>\n",
       "      <td>None</td>\n",
       "      <td>None</td>\n",
       "      <td>None</td>\n",
       "      <td>None</td>\n",
       "      <td>None</td>\n",
       "      <td>None</td>\n",
       "    </tr>\n",
       "    <tr>\n",
       "      <th>508</th>\n",
       "      <td>normalize.therapy.rxcui:476250</td>\n",
       "      <td>None</td>\n",
       "      <td>None</td>\n",
       "      <td>None</td>\n",
       "      <td>None</td>\n",
       "      <td>None</td>\n",
       "      <td>None</td>\n",
       "      <td>None</td>\n",
       "    </tr>\n",
       "  </tbody>\n",
       "</table>\n",
       "<p>509 rows × 8 columns</p>\n",
       "</div>"
      ],
      "text/plain": [
       "                    therapy_concepts  brca   cgi civic   jax molecularmatch  \\\n",
       "0                           No Match  None  None  None  None           None   \n",
       "1     normalize.therapy.rxcui:662281  None  None  None  None           None   \n",
       "2    normalize.therapy.rxcui:1546019  None  None  None  None           None   \n",
       "3     normalize.therapy.rxcui:282388  None  None  None  None           None   \n",
       "4    normalize.therapy.rxcui:1314319  None  None  None  None           None   \n",
       "..                               ...   ...   ...   ...   ...            ...   \n",
       "504    normalize.therapy.ncit:C77887  None  None  None  None           None   \n",
       "505    normalize.therapy.ncit:C99903  None  None  None  None           None   \n",
       "506    normalize.therapy.ncit:C66212  None  None  None  None           None   \n",
       "507    normalize.therapy.ncit:C90532  None  None  None  None           None   \n",
       "508   normalize.therapy.rxcui:476250  None  None  None  None           None   \n",
       "\n",
       "    oncokb  pmkb  \n",
       "0     None  None  \n",
       "1     None  None  \n",
       "2     None  None  \n",
       "3     None  None  \n",
       "4     None  None  \n",
       "..     ...   ...  \n",
       "504   None  None  \n",
       "505   None  None  \n",
       "506   None  None  \n",
       "507   None  None  \n",
       "508   None  None  \n",
       "\n",
       "[509 rows x 8 columns]"
      ]
     },
     "execution_count": 25,
     "metadata": {},
     "output_type": "execute_result"
    }
   ],
   "source": [
    "therapy_uniqueness = pd.DataFrame({'therapy_concepts': unique_therapy_concepts,\n",
    "                                'brca': None,\n",
    "                                'cgi': None,\n",
    "                                'civic': None,\n",
    "                                'jax': None,\n",
    "                                'molecularmatch': None,\n",
    "                                'oncokb': None,\n",
    "                                'pmkb': None})\n",
    "therapy_uniqueness"
   ]
  },
  {
   "cell_type": "code",
   "execution_count": null,
   "metadata": {},
   "outputs": [
    {
     "name": "stderr",
     "output_type": "stream",
     "text": [
      "509it [00:04, 111.67it/s]\n",
      "/Users/mjc014/.pyenv/versions/3.12.2/lib/python3.12/site-packages/upsetplot/plotting.py:795: FutureWarning:\n",
      "\n",
      "A value is trying to be set on a copy of a DataFrame or Series through chained assignment using an inplace method.\n",
      "The behavior will change in pandas 3.0. This inplace method will never work because the intermediate object on which we are setting values always behaves as a copy.\n",
      "\n",
      "For example, when doing 'df[col].method(value, inplace=True)', try using 'df.method({col: value}, inplace=True)' or df[col] = df[col].method(value) instead, to perform the operation inplace on the original object.\n",
      "\n",
      "\n",
      "\n",
      "/Users/mjc014/.pyenv/versions/3.12.2/lib/python3.12/site-packages/upsetplot/plotting.py:796: FutureWarning:\n",
      "\n",
      "A value is trying to be set on a copy of a DataFrame or Series through chained assignment using an inplace method.\n",
      "The behavior will change in pandas 3.0. This inplace method will never work because the intermediate object on which we are setting values always behaves as a copy.\n",
      "\n",
      "For example, when doing 'df[col].method(value, inplace=True)', try using 'df.method({col: value}, inplace=True)' or df[col] = df[col].method(value) instead, to perform the operation inplace on the original object.\n",
      "\n",
      "\n",
      "\n",
      "/Users/mjc014/.pyenv/versions/3.12.2/lib/python3.12/site-packages/upsetplot/plotting.py:797: FutureWarning:\n",
      "\n",
      "A value is trying to be set on a copy of a DataFrame or Series through chained assignment using an inplace method.\n",
      "The behavior will change in pandas 3.0. This inplace method will never work because the intermediate object on which we are setting values always behaves as a copy.\n",
      "\n",
      "For example, when doing 'df[col].method(value, inplace=True)', try using 'df.method({col: value}, inplace=True)' or df[col] = df[col].method(value) instead, to perform the operation inplace on the original object.\n",
      "\n",
      "\n",
      "\n",
      "/Users/mjc014/.pyenv/versions/3.12.2/lib/python3.12/site-packages/upsetplot/plotting.py:798: FutureWarning:\n",
      "\n",
      "A value is trying to be set on a copy of a DataFrame or Series through chained assignment using an inplace method.\n",
      "The behavior will change in pandas 3.0. This inplace method will never work because the intermediate object on which we are setting values always behaves as a copy.\n",
      "\n",
      "For example, when doing 'df[col].method(value, inplace=True)', try using 'df.method({col: value}, inplace=True)' or df[col] = df[col].method(value) instead, to perform the operation inplace on the original object.\n",
      "\n",
      "\n",
      "\n"
     ]
    },
    {
     "data": {
      "image/png": "[encoded data removed]",
      "text/plain": [
       "<Figure size 1333.33x577.778 with 4 Axes>"
      ]
     },
     "metadata": {},
     "output_type": "display_data"
    }
   ],
   "source": [
    "therapy_uniqueness = calculate_uniqueness(therapy_uniqueness,df,'therapy_concept')\n",
    "therapy_proportions = therapy_uniqueness # Copy of the DF for later\n",
    "upset_data = format_for_upset(therapy_uniqueness,'therapy_concept')\n",
    "plot(upset_data, show_counts=True)\n",
    "plt.show()"
   ]
  },
  {
   "cell_type": "markdown",
   "metadata": {},
   "source": [
    "### Element Uniqueness"
   ]
  },
  {
   "cell_type": "code",
   "execution_count": null,
   "metadata": {},
   "outputs": [
    {
     "data": {
      "application/vnd.plotly.v1+json": {
       "config": {
        "plotlyServerURL": "https://plot.ly"
       },
       "data": [
        {
         "marker": {
          "color": "#fefadd"
         },
         "name": "1.0 KBs",
         "type": "bar",
         "width": [
          0.4
         ],
         "x": [
          "Gene"
         ],
         "y": [
          0.6106290672451193
         ]
        },
        {
         "marker": {
          "color": "#def8d3"
         },
         "name": "2.0 KBs",
         "type": "bar",
         "width": [
          0.4
         ],
         "x": [
          "Gene"
         ],
         "y": [
          0.16919739696312364
         ]
        },
        {
         "marker": {
          "color": "#a0e5e6"
         },
         "name": "3.0 KBs",
         "type": "bar",
         "width": [
          0.4
         ],
         "x": [
          "Gene"
         ],
         "y": [
          0.0770065075921909
         ]
        },
        {
         "marker": {
          "color": "#48c1da"
         },
         "name": "4.0 KBs",
         "type": "bar",
         "width": [
          0.4
         ],
         "x": [
          "Gene"
         ],
         "y": [
          0.06073752711496746
         ]
        },
        {
         "marker": {
          "color": "#1e97c7"
         },
         "name": "5.0 KBs",
         "type": "bar",
         "width": [
          0.4
         ],
         "x": [
          "Gene"
         ],
         "y": [
          0.04772234273318872
         ]
        },
        {
         "marker": {
          "color": "#3459a9"
         },
         "name": "6.0 KBs",
         "type": "bar",
         "width": [
          0.4
         ],
         "x": [
          "Gene"
         ],
         "y": [
          0.03470715835140998
         ]
        },
        {
         "marker": {
          "color": "#fefadd"
         },
         "name": "1.0 KBs",
         "type": "bar",
         "width": [
          0.4
         ],
         "x": [
          "Therapy"
         ],
         "y": [
          0.6699410609037328
         ]
        },
        {
         "marker": {
          "color": "#def8d3"
         },
         "name": "2.0 KBs",
         "type": "bar",
         "width": [
          0.4
         ],
         "x": [
          "Therapy"
         ],
         "y": [
          0.17092337917485265
         ]
        },
        {
         "marker": {
          "color": "#a0e5e6"
         },
         "name": "3.0 KBs",
         "type": "bar",
         "width": [
          0.4
         ],
         "x": [
          "Therapy"
         ],
         "y": [
          0.07662082514734773
         ]
        },
        {
         "marker": {
          "color": "#48c1da"
         },
         "name": "4.0 KBs",
         "type": "bar",
         "width": [
          0.4
         ],
         "x": [
          "Therapy"
         ],
         "y": [
          0.047151277013752456
         ]
        },
        {
         "marker": {
          "color": "#1e97c7"
         },
         "name": "5.0 KBs",
         "type": "bar",
         "width": [
          0.4
         ],
         "x": [
          "Therapy"
         ],
         "y": [
          0.03536345776031434
         ]
        },
        {
         "marker": {
          "color": "#fefadd"
         },
         "name": "1.0 KBs",
         "type": "bar",
         "width": [
          0.4
         ],
         "x": [
          "Disease"
         ],
         "y": [
          0.5468277945619335
         ]
        },
        {
         "marker": {
          "color": "#def8d3"
         },
         "name": "2.0 KBs",
         "type": "bar",
         "width": [
          0.4
         ],
         "x": [
          "Disease"
         ],
         "y": [
          0.2719033232628399
         ]
        },
        {
         "marker": {
          "color": "#a0e5e6"
         },
         "name": "3.0 KBs",
         "type": "bar",
         "width": [
          0.4
         ],
         "x": [
          "Disease"
         ],
         "y": [
          0.10574018126888217
         ]
        },
        {
         "marker": {
          "color": "#48c1da"
         },
         "name": "4.0 KBs",
         "type": "bar",
         "width": [
          0.4
         ],
         "x": [
          "Disease"
         ],
         "y": [
          0.0513595166163142
         ]
        },
        {
         "marker": {
          "color": "#1e97c7"
         },
         "name": "5.0 KBs",
         "type": "bar",
         "width": [
          0.4
         ],
         "x": [
          "Disease"
         ],
         "y": [
          0.015105740181268883
         ]
        },
        {
         "marker": {
          "color": "#3459a9"
         },
         "name": "6.0 KBs",
         "type": "bar",
         "width": [
          0.4
         ],
         "x": [
          "Disease"
         ],
         "y": [
          0.00906344410876133
         ]
        }
       ],
       "layout": {
        "barmode": "stack",
        "legend": {
         "title": {
          "text": "# of KBs"
         }
        },
        "template": {
         "data": {
          "bar": [
           {
            "error_x": {
             "color": "#2a3f5f"
            },
            "error_y": {
             "color": "#2a3f5f"
            },
            "marker": {
             "line": {
              "color": "#E5ECF6",
              "width": 0.5
             },
             "pattern": {
              "fillmode": "overlay",
              "size": 10,
              "solidity": 0.2
             }
            },
            "type": "bar"
           }
          ],
          "barpolar": [
           {
            "marker": {
             "line": {
              "color": "#E5ECF6",
              "width": 0.5
             },
             "pattern": {
              "fillmode": "overlay",
              "size": 10,
              "solidity": 0.2
             }
            },
            "type": "barpolar"
           }
          ],
          "carpet": [
           {
            "aaxis": {
             "endlinecolor": "#2a3f5f",
             "gridcolor": "white",
             "linecolor": "white",
             "minorgridcolor": "white",
             "startlinecolor": "#2a3f5f"
            },
            "baxis": {
             "endlinecolor": "#2a3f5f",
             "gridcolor": "white",
             "linecolor": "white",
             "minorgridcolor": "white",
             "startlinecolor": "#2a3f5f"
            },
            "type": "carpet"
           }
          ],
          "choropleth": [
           {
            "colorbar": {
             "outlinewidth": 0,
             "ticks": ""
            },
            "type": "choropleth"
           }
          ],
          "contour": [
           {
            "colorbar": {
             "outlinewidth": 0,
             "ticks": ""
            },
            "colorscale": [
             [
              0,
              "#0d0887"
             ],
             [
              0.1111111111111111,
              "#46039f"
             ],
             [
              0.2222222222222222,
              "#7201a8"
             ],
             [
              0.3333333333333333,
              "#9c179e"
             ],
             [
              0.4444444444444444,
              "#bd3786"
             ],
             [
              0.5555555555555556,
              "#d8576b"
             ],
             [
              0.6666666666666666,
              "#ed7953"
             ],
             [
              0.7777777777777778,
              "#fb9f3a"
             ],
             [
              0.8888888888888888,
              "#fdca26"
             ],
             [
              1,
              "#f0f921"
             ]
            ],
            "type": "contour"
           }
          ],
          "contourcarpet": [
           {
            "colorbar": {
             "outlinewidth": 0,
             "ticks": ""
            },
            "type": "contourcarpet"
           }
          ],
          "heatmap": [
           {
            "colorbar": {
             "outlinewidth": 0,
             "ticks": ""
            },
            "colorscale": [
             [
              0,
              "#0d0887"
             ],
             [
              0.1111111111111111,
              "#46039f"
             ],
             [
              0.2222222222222222,
              "#7201a8"
             ],
             [
              0.3333333333333333,
              "#9c179e"
             ],
             [
              0.4444444444444444,
              "#bd3786"
             ],
             [
              0.5555555555555556,
              "#d8576b"
             ],
             [
              0.6666666666666666,
              "#ed7953"
             ],
             [
              0.7777777777777778,
              "#fb9f3a"
             ],
             [
              0.8888888888888888,
              "#fdca26"
             ],
             [
              1,
              "#f0f921"
             ]
            ],
            "type": "heatmap"
           }
          ],
          "histogram": [
           {
            "marker": {
             "pattern": {
              "fillmode": "overlay",
              "size": 10,
              "solidity": 0.2
             }
            },
            "type": "histogram"
           }
          ],
          "histogram2d": [
           {
            "colorbar": {
             "outlinewidth": 0,
             "ticks": ""
            },
            "colorscale": [
             [
              0,
              "#0d0887"
             ],
             [
              0.1111111111111111,
              "#46039f"
             ],
             [
              0.2222222222222222,
              "#7201a8"
             ],
             [
              0.3333333333333333,
              "#9c179e"
             ],
             [
              0.4444444444444444,
              "#bd3786"
             ],
             [
              0.5555555555555556,
              "#d8576b"
             ],
             [
              0.6666666666666666,
              "#ed7953"
             ],
             [
              0.7777777777777778,
              "#fb9f3a"
             ],
             [
              0.8888888888888888,
              "#fdca26"
             ],
             [
              1,
              "#f0f921"
             ]
            ],
            "type": "histogram2d"
           }
          ],
          "histogram2dcontour": [
           {
            "colorbar": {
             "outlinewidth": 0,
             "ticks": ""
            },
            "colorscale": [
             [
              0,
              "#0d0887"
             ],
             [
              0.1111111111111111,
              "#46039f"
             ],
             [
              0.2222222222222222,
              "#7201a8"
             ],
             [
              0.3333333333333333,
              "#9c179e"
             ],
             [
              0.4444444444444444,
              "#bd3786"
             ],
             [
              0.5555555555555556,
              "#d8576b"
             ],
             [
              0.6666666666666666,
              "#ed7953"
             ],
             [
              0.7777777777777778,
              "#fb9f3a"
             ],
             [
              0.8888888888888888,
              "#fdca26"
             ],
             [
              1,
              "#f0f921"
             ]
            ],
            "type": "histogram2dcontour"
           }
          ],
          "mesh3d": [
           {
            "colorbar": {
             "outlinewidth": 0,
             "ticks": ""
            },
            "type": "mesh3d"
           }
          ],
          "parcoords": [
           {
            "line": {
             "colorbar": {
              "outlinewidth": 0,
              "ticks": ""
             }
            },
            "type": "parcoords"
           }
          ],
          "pie": [
           {
            "automargin": true,
            "type": "pie"
           }
          ],
          "scatter": [
           {
            "fillpattern": {
             "fillmode": "overlay",
             "size": 10,
             "solidity": 0.2
            },
            "type": "scatter"
           }
          ],
          "scatter3d": [
           {
            "line": {
             "colorbar": {
              "outlinewidth": 0,
              "ticks": ""
             }
            },
            "marker": {
             "colorbar": {
              "outlinewidth": 0,
              "ticks": ""
             }
            },
            "type": "scatter3d"
           }
          ],
          "scattercarpet": [
           {
            "marker": {
             "colorbar": {
              "outlinewidth": 0,
              "ticks": ""
             }
            },
            "type": "scattercarpet"
           }
          ],
          "scattergeo": [
           {
            "marker": {
             "colorbar": {
              "outlinewidth": 0,
              "ticks": ""
             }
            },
            "type": "scattergeo"
           }
          ],
          "scattergl": [
           {
            "marker": {
             "colorbar": {
              "outlinewidth": 0,
              "ticks": ""
             }
            },
            "type": "scattergl"
           }
          ],
          "scattermap": [
           {
            "marker": {
             "colorbar": {
              "outlinewidth": 0,
              "ticks": ""
             }
            },
            "type": "scattermap"
           }
          ],
          "scattermapbox": [
           {
            "marker": {
             "colorbar": {
              "outlinewidth": 0,
              "ticks": ""
             }
            },
            "type": "scattermapbox"
           }
          ],
          "scatterpolar": [
           {
            "marker": {
             "colorbar": {
              "outlinewidth": 0,
              "ticks": ""
             }
            },
            "type": "scatterpolar"
           }
          ],
          "scatterpolargl": [
           {
            "marker": {
             "colorbar": {
              "outlinewidth": 0,
              "ticks": ""
             }
            },
            "type": "scatterpolargl"
           }
          ],
          "scatterternary": [
           {
            "marker": {
             "colorbar": {
              "outlinewidth": 0,
              "ticks": ""
             }
            },
            "type": "scatterternary"
           }
          ],
          "surface": [
           {
            "colorbar": {
             "outlinewidth": 0,
             "ticks": ""
            },
            "colorscale": [
             [
              0,
              "#0d0887"
             ],
             [
              0.1111111111111111,
              "#46039f"
             ],
             [
              0.2222222222222222,
              "#7201a8"
             ],
             [
              0.3333333333333333,
              "#9c179e"
             ],
             [
              0.4444444444444444,
              "#bd3786"
             ],
             [
              0.5555555555555556,
              "#d8576b"
             ],
             [
              0.6666666666666666,
              "#ed7953"
             ],
             [
              0.7777777777777778,
              "#fb9f3a"
             ],
             [
              0.8888888888888888,
              "#fdca26"
             ],
             [
              1,
              "#f0f921"
             ]
            ],
            "type": "surface"
           }
          ],
          "table": [
           {
            "cells": {
             "fill": {
              "color": "#EBF0F8"
             },
             "line": {
              "color": "white"
             }
            },
            "header": {
             "fill": {
              "color": "#C8D4E3"
             },
             "line": {
              "color": "white"
             }
            },
            "type": "table"
           }
          ]
         },
         "layout": {
          "annotationdefaults": {
           "arrowcolor": "#2a3f5f",
           "arrowhead": 0,
           "arrowwidth": 1
          },
          "autotypenumbers": "strict",
          "coloraxis": {
           "colorbar": {
            "outlinewidth": 0,
            "ticks": ""
           }
          },
          "colorscale": {
           "diverging": [
            [
             0,
             "#8e0152"
            ],
            [
             0.1,
             "#c51b7d"
            ],
            [
             0.2,
             "#de77ae"
            ],
            [
             0.3,
             "#f1b6da"
            ],
            [
             0.4,
             "#fde0ef"
            ],
            [
             0.5,
             "#f7f7f7"
            ],
            [
             0.6,
             "#e6f5d0"
            ],
            [
             0.7,
             "#b8e186"
            ],
            [
             0.8,
             "#7fbc41"
            ],
            [
             0.9,
             "#4d9221"
            ],
            [
             1,
             "#276419"
            ]
           ],
           "sequential": [
            [
             0,
             "#0d0887"
            ],
            [
             0.1111111111111111,
             "#46039f"
            ],
            [
             0.2222222222222222,
             "#7201a8"
            ],
            [
             0.3333333333333333,
             "#9c179e"
            ],
            [
             0.4444444444444444,
             "#bd3786"
            ],
            [
             0.5555555555555556,
             "#d8576b"
            ],
            [
             0.6666666666666666,
             "#ed7953"
            ],
            [
             0.7777777777777778,
             "#fb9f3a"
            ],
            [
             0.8888888888888888,
             "#fdca26"
            ],
            [
             1,
             "#f0f921"
            ]
           ],
           "sequentialminus": [
            [
             0,
             "#0d0887"
            ],
            [
             0.1111111111111111,
             "#46039f"
            ],
            [
             0.2222222222222222,
             "#7201a8"
            ],
            [
             0.3333333333333333,
             "#9c179e"
            ],
            [
             0.4444444444444444,
             "#bd3786"
            ],
            [
             0.5555555555555556,
             "#d8576b"
            ],
            [
             0.6666666666666666,
             "#ed7953"
            ],
            [
             0.7777777777777778,
             "#fb9f3a"
            ],
            [
             0.8888888888888888,
             "#fdca26"
            ],
            [
             1,
             "#f0f921"
            ]
           ]
          },
          "colorway": [
           "#636efa",
           "#EF553B",
           "#00cc96",
           "#ab63fa",
           "#FFA15A",
           "#19d3f3",
           "#FF6692",
           "#B6E880",
           "#FF97FF",
           "#FECB52"
          ],
          "font": {
           "color": "#2a3f5f"
          },
          "geo": {
           "bgcolor": "white",
           "lakecolor": "white",
           "landcolor": "#E5ECF6",
           "showlakes": true,
           "showland": true,
           "subunitcolor": "white"
          },
          "hoverlabel": {
           "align": "left"
          },
          "hovermode": "closest",
          "mapbox": {
           "style": "light"
          },
          "paper_bgcolor": "white",
          "plot_bgcolor": "#E5ECF6",
          "polar": {
           "angularaxis": {
            "gridcolor": "white",
            "linecolor": "white",
            "ticks": ""
           },
           "bgcolor": "#E5ECF6",
           "radialaxis": {
            "gridcolor": "white",
            "linecolor": "white",
            "ticks": ""
           }
          },
          "scene": {
           "xaxis": {
            "backgroundcolor": "#E5ECF6",
            "gridcolor": "white",
            "gridwidth": 2,
            "linecolor": "white",
            "showbackground": true,
            "ticks": "",
            "zerolinecolor": "white"
           },
           "yaxis": {
            "backgroundcolor": "#E5ECF6",
            "gridcolor": "white",
            "gridwidth": 2,
            "linecolor": "white",
            "showbackground": true,
            "ticks": "",
            "zerolinecolor": "white"
           },
           "zaxis": {
            "backgroundcolor": "#E5ECF6",
            "gridcolor": "white",
            "gridwidth": 2,
            "linecolor": "white",
            "showbackground": true,
            "ticks": "",
            "zerolinecolor": "white"
           }
          },
          "shapedefaults": {
           "line": {
            "color": "#2a3f5f"
           }
          },
          "ternary": {
           "aaxis": {
            "gridcolor": "white",
            "linecolor": "white",
            "ticks": ""
           },
           "baxis": {
            "gridcolor": "white",
            "linecolor": "white",
            "ticks": ""
           },
           "bgcolor": "#E5ECF6",
           "caxis": {
            "gridcolor": "white",
            "linecolor": "white",
            "ticks": ""
           }
          },
          "title": {
           "x": 0.05
          },
          "xaxis": {
           "automargin": true,
           "gridcolor": "white",
           "linecolor": "white",
           "ticks": "",
           "title": {
            "standoff": 15
           },
           "zerolinecolor": "white",
           "zerolinewidth": 2
          },
          "yaxis": {
           "automargin": true,
           "gridcolor": "white",
           "linecolor": "white",
           "ticks": "",
           "title": {
            "standoff": 15
           },
           "zerolinecolor": "white",
           "zerolinewidth": 2
          }
         }
        },
        "title": {
         "text": "Proportion of Gene Records Verified by Number of KBs"
        },
        "xaxis": {
         "title": {
          "text": "Category"
         }
        },
        "yaxis": {
         "tickformat": ".2",
         "title": {
          "text": "Proportion"
         }
        }
       }
      }
     },
     "metadata": {},
     "output_type": "display_data"
    }
   ],
   "source": [
    "# Count number of sources True\n",
    "gene_proportions[\"true_count\"] = gene_proportions.iloc[:, 1:].sum(axis=1)\n",
    "therapy_proportions[\"true_count\"] = therapy_proportions.iloc[:, 1:].sum(axis=1)\n",
    "disease_proportions[\"true_count\"] = disease_proportions.iloc[:, 1:].sum(axis=1)\n",
    "\n",
    "graph = pd.DataFrame({'# of KBs': [], 'Records': [], 'proportion': [], 'Record Type': []})\n",
    "\n",
    "# Value Counts & Combine\n",
    "tdf = gene_proportions['true_count'].value_counts().rename_axis('# of KBs').reset_index(name='Records')\n",
    "total = tdf['Records'].sum()\n",
    "tdf['proportion'] = tdf['Records'] / total\n",
    "tdf['Record Type'] = 'Gene'\n",
    "graph = pd.concat([graph,tdf])\n",
    "\n",
    "tdf = therapy_proportions['true_count'].value_counts().rename_axis('# of KBs').reset_index(name='Records')\n",
    "total = tdf['Records'].sum()\n",
    "tdf['proportion'] = tdf['Records'] / total\n",
    "tdf['Record Type'] = 'Therapy'\n",
    "graph = pd.concat([graph,tdf])\n",
    "\n",
    "tdf = disease_proportions['true_count'].value_counts().rename_axis('# of KBs').reset_index(name='Records')\n",
    "total = tdf['Records'].sum()\n",
    "tdf['proportion'] = tdf['Records'] / total\n",
    "tdf['Record Type'] = 'Disease'\n",
    "graph = pd.concat([graph,tdf])\n",
    "\n",
    "# Plotly graph objects for the stacked bar\n",
    "# fig = go.Figure()\n",
    "colors = ['#fefadd','#def8d3','#a0e5e6','#48c1da','#1e97c7','#3459a9']\n",
    "\n",
    "# Plotly graph objects for the stacked bar\n",
    "fig = go.Figure()\n",
    "\n",
    "# Adding each segment as part of a stacked bar\n",
    "for i, row in graph.iterrows():\n",
    "    fig.add_trace(go.Bar(\n",
    "        name=f'{row[\"# of KBs\"]} KBs',\n",
    "        x=[row['Record Type']],  # single category for now\n",
    "        y=[row['proportion']],\n",
    "        marker_color=colors[i],  # using Plotly's qualitative colors\n",
    "        width=[0.4]\n",
    "    ))\n",
    "\n",
    "# Update layout to show proportions as percentage\n",
    "fig.update_layout(\n",
    "    barmode='stack',\n",
    "    title='Element uniqueness across KBs',\n",
    "    xaxis_title='Category',\n",
    "    yaxis_title='Proportion',\n",
    "    yaxis=dict(tickformat=\".2\"),\n",
    "    legend_title='# of KBs'\n",
    ")\n",
    "\n",
    "fig.show()\n",
    "\n",
    "fig.write_image(\"v1_uniqueness.png\", width=990, height=540, scale=3)"
   ]
  }
 ],
 "metadata": {
  "kernelspec": {
   "display_name": "3.12.2",
   "language": "python",
   "name": "python3"
  },
  "language_info": {
   "codemirror_mode": {
    "name": "ipython",
    "version": 3
   },
   "file_extension": ".py",
   "mimetype": "text/x-python",
   "name": "python",
   "nbconvert_exporter": "python",
   "pygments_lexer": "ipython3",
   "version": "3.12.2"
  }
 },
 "nbformat": 4,
 "nbformat_minor": 2
}
