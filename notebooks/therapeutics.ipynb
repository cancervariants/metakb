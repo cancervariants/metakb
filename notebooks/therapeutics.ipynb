{
 "cells": [
  {
   "cell_type": "markdown",
   "metadata": {},
   "source": [
    "## Investigate MetaKB Dataset: Therapeutics & Combination Therapies\n",
    "In order to better understand the MetaKB aggregate dataset, perform graph-directed lookups via neo4j to identify potential insights or avenues of discussion that might not previously be accessible.\n",
    "  \n",
    "This notebook focuses on exploring the Therapeutics & Combination Therapies datasets across different variants, studies, and gene contexts. Initial ideas are to look at FDA approval for therapies, diseases in use, and off-label use cases on a variant to variant or gene to gene basis.\n",
    "  \n",
    "**Current Data Version**: 5.20.0"
   ]
  },
  {
   "cell_type": "code",
   "execution_count": 215,
   "metadata": {},
   "outputs": [],
   "source": [
    "import pandas as pd\n",
    "import plotly.express as px\n",
    "import plotly.io as pio"
   ]
  },
  {
   "cell_type": "markdown",
   "metadata": {},
   "source": [
    "### Grab Therapeutics Data"
   ]
  },
  {
   "cell_type": "code",
   "execution_count": 197,
   "metadata": {},
   "outputs": [],
   "source": [
    "from neo4j import GraphDatabase\n",
    "\n",
    "# Function to create a connection to the Neo4j database\n",
    "def create_db_connection(uri, user, password):\n",
    "    driver = GraphDatabase.driver(uri, auth=(user, password))\n",
    "    return driver\n",
    "\n",
    "# Function to execute a Cypher query\n",
    "def execute_query(driver, query):\n",
    "    with driver.session() as session:\n",
    "        result = session.run(query)\n",
    "        return [record for record in result]\n",
    "\n",
    "# Connect to the Neo4j database\n",
    "uri = \"bolt://localhost:7687\"\n",
    "user = \"neo4j\"\n",
    "password = \"password\"  # Replace 'your_password' with your actual password\n",
    "driver = create_db_connection(uri, user, password)\n",
    "\n",
    "# Strict, Must have Combination Therapies\n",
    "query = \"\"\"MATCH (s:Study)-[:HAS_VARIANT]->(variant),\n",
    "      (s)-[:HAS_THERAPEUTIC]->(therapeutic),\n",
    "      (therapeutic)-[:HAS_COMPONENTS]->(combination)\n",
    "RETURN properties(s) AS Study, \n",
    "       properties(variant) AS VariantProperties,\n",
    "       properties(therapeutic) AS TherapeuticProperties,\n",
    "       COUNT(combination) AS NumberOfComponents,\n",
    "       COLLECT(properties(combination)) AS CombinationTherapyProperties\n",
    "\"\"\"\n",
    "\n",
    "query_therapies = \"\"\"\n",
    "MATCH (s:Study)-[:HAS_VARIANT]->(variant),\n",
    "      (s)-[:HAS_THERAPEUTIC]->(therapeutic)\n",
    "OPTIONAL MATCH (therapeutic)-[:HAS_COMPONENTS]->(combination)\n",
    "RETURN properties(s) AS Study, \n",
    "       properties(variant) AS VariantProperties,\n",
    "       properties(therapeutic) AS TherapeuticProperties,\n",
    "       COUNT(combination) AS NumberOfComponents,\n",
    "       COLLECT(properties(combination)) AS CombinationTherapyProperties\n",
    "\"\"\"\n",
    "\n",
    "# Execute the query\n",
    "result = execute_query(driver, query_therapies)\n",
    "\n",
    "# Close the connection\n",
    "driver.close()\n",
    "\n",
    "\n"
   ]
  },
  {
   "cell_type": "code",
   "execution_count": 199,
   "metadata": {},
   "outputs": [
    {
     "data": {
      "text/html": [
       "<div>\n",
       "<style scoped>\n",
       "    .dataframe tbody tr th:only-of-type {\n",
       "        vertical-align: middle;\n",
       "    }\n",
       "\n",
       "    .dataframe tbody tr th {\n",
       "        vertical-align: top;\n",
       "    }\n",
       "\n",
       "    .dataframe thead th {\n",
       "        text-align: right;\n",
       "    }\n",
       "</style>\n",
       "<table border=\"1\" class=\"dataframe\">\n",
       "  <thead>\n",
       "    <tr style=\"text-align: right;\">\n",
       "      <th></th>\n",
       "      <th>study_allele_origin</th>\n",
       "      <th>study_id</th>\n",
       "      <th>study_direction</th>\n",
       "      <th>study_predicate</th>\n",
       "      <th>study_type</th>\n",
       "      <th>variant_mp_score</th>\n",
       "      <th>variant_id</th>\n",
       "      <th>variant_label</th>\n",
       "      <th>variant_type</th>\n",
       "      <th>therapeutic_type</th>\n",
       "      <th>therapeutic_civic_type</th>\n",
       "      <th>therapeutic_id</th>\n",
       "      <th>therapeutic_label</th>\n",
       "      <th>number_of_components</th>\n",
       "      <th>combination_therapy_components</th>\n",
       "    </tr>\n",
       "  </thead>\n",
       "  <tbody>\n",
       "    <tr>\n",
       "      <th>0</th>\n",
       "      <td>somatic</td>\n",
       "      <td>civic.eid:238</td>\n",
       "      <td>supports</td>\n",
       "      <td>predictsResistanceTo</td>\n",
       "      <td>VariantTherapeuticResponseStudy</td>\n",
       "      <td>406.25</td>\n",
       "      <td>civic.mpid:34</td>\n",
       "      <td>EGFR T790M</td>\n",
       "      <td>[{\"label\": \"missense_variant\", \"system\": \"http...</td>\n",
       "      <td>TherapeuticAgent</td>\n",
       "      <td>None</td>\n",
       "      <td>civic.tid:15</td>\n",
       "      <td>Erlotinib</td>\n",
       "      <td>0</td>\n",
       "      <td>[]</td>\n",
       "    </tr>\n",
       "    <tr>\n",
       "      <th>1</th>\n",
       "      <td>somatic</td>\n",
       "      <td>civic.eid:1409</td>\n",
       "      <td>supports</td>\n",
       "      <td>predictsSensitivityTo</td>\n",
       "      <td>VariantTherapeuticResponseStudy</td>\n",
       "      <td>1378.50</td>\n",
       "      <td>civic.mpid:12</td>\n",
       "      <td>BRAF V600E</td>\n",
       "      <td>[{\"label\": \"missense_variant\", \"system\": \"http...</td>\n",
       "      <td>TherapeuticAgent</td>\n",
       "      <td>None</td>\n",
       "      <td>civic.tid:4</td>\n",
       "      <td>Vemurafenib</td>\n",
       "      <td>0</td>\n",
       "      <td>[]</td>\n",
       "    </tr>\n",
       "    <tr>\n",
       "      <th>2</th>\n",
       "      <td>somatic</td>\n",
       "      <td>civic.eid:1592</td>\n",
       "      <td>supports</td>\n",
       "      <td>predictsSensitivityTo</td>\n",
       "      <td>VariantTherapeuticResponseStudy</td>\n",
       "      <td>406.25</td>\n",
       "      <td>civic.mpid:34</td>\n",
       "      <td>EGFR T790M</td>\n",
       "      <td>[{\"label\": \"missense_variant\", \"system\": \"http...</td>\n",
       "      <td>TherapeuticAgent</td>\n",
       "      <td>None</td>\n",
       "      <td>civic.tid:187</td>\n",
       "      <td>Osimertinib</td>\n",
       "      <td>0</td>\n",
       "      <td>[]</td>\n",
       "    </tr>\n",
       "    <tr>\n",
       "      <th>3</th>\n",
       "      <td>somatic</td>\n",
       "      <td>civic.eid:1867</td>\n",
       "      <td>supports</td>\n",
       "      <td>predictsSensitivityTo</td>\n",
       "      <td>VariantTherapeuticResponseStudy</td>\n",
       "      <td>406.25</td>\n",
       "      <td>civic.mpid:34</td>\n",
       "      <td>EGFR T790M</td>\n",
       "      <td>[{\"label\": \"missense_variant\", \"system\": \"http...</td>\n",
       "      <td>TherapeuticAgent</td>\n",
       "      <td>None</td>\n",
       "      <td>civic.tid:187</td>\n",
       "      <td>Osimertinib</td>\n",
       "      <td>0</td>\n",
       "      <td>[]</td>\n",
       "    </tr>\n",
       "    <tr>\n",
       "      <th>4</th>\n",
       "      <td>somatic</td>\n",
       "      <td>civic.eid:2994</td>\n",
       "      <td>supports</td>\n",
       "      <td>predictsSensitivityTo</td>\n",
       "      <td>VariantTherapeuticResponseStudy</td>\n",
       "      <td>379.00</td>\n",
       "      <td>civic.mpid:33</td>\n",
       "      <td>EGFR L858R</td>\n",
       "      <td>[{\"label\": \"missense_variant\", \"system\": \"http...</td>\n",
       "      <td>TherapeuticAgent</td>\n",
       "      <td>None</td>\n",
       "      <td>civic.tid:15</td>\n",
       "      <td>Erlotinib</td>\n",
       "      <td>0</td>\n",
       "      <td>[]</td>\n",
       "    </tr>\n",
       "  </tbody>\n",
       "</table>\n",
       "</div>"
      ],
      "text/plain": [
       "  study_allele_origin        study_id study_direction        study_predicate  \\\n",
       "0             somatic   civic.eid:238        supports   predictsResistanceTo   \n",
       "1             somatic  civic.eid:1409        supports  predictsSensitivityTo   \n",
       "2             somatic  civic.eid:1592        supports  predictsSensitivityTo   \n",
       "3             somatic  civic.eid:1867        supports  predictsSensitivityTo   \n",
       "4             somatic  civic.eid:2994        supports  predictsSensitivityTo   \n",
       "\n",
       "                        study_type  variant_mp_score     variant_id  \\\n",
       "0  VariantTherapeuticResponseStudy            406.25  civic.mpid:34   \n",
       "1  VariantTherapeuticResponseStudy           1378.50  civic.mpid:12   \n",
       "2  VariantTherapeuticResponseStudy            406.25  civic.mpid:34   \n",
       "3  VariantTherapeuticResponseStudy            406.25  civic.mpid:34   \n",
       "4  VariantTherapeuticResponseStudy            379.00  civic.mpid:33   \n",
       "\n",
       "  variant_label                                       variant_type  \\\n",
       "0    EGFR T790M  [{\"label\": \"missense_variant\", \"system\": \"http...   \n",
       "1    BRAF V600E  [{\"label\": \"missense_variant\", \"system\": \"http...   \n",
       "2    EGFR T790M  [{\"label\": \"missense_variant\", \"system\": \"http...   \n",
       "3    EGFR T790M  [{\"label\": \"missense_variant\", \"system\": \"http...   \n",
       "4    EGFR L858R  [{\"label\": \"missense_variant\", \"system\": \"http...   \n",
       "\n",
       "   therapeutic_type therapeutic_civic_type therapeutic_id therapeutic_label  \\\n",
       "0  TherapeuticAgent                   None   civic.tid:15         Erlotinib   \n",
       "1  TherapeuticAgent                   None    civic.tid:4       Vemurafenib   \n",
       "2  TherapeuticAgent                   None  civic.tid:187       Osimertinib   \n",
       "3  TherapeuticAgent                   None  civic.tid:187       Osimertinib   \n",
       "4  TherapeuticAgent                   None   civic.tid:15         Erlotinib   \n",
       "\n",
       "   number_of_components combination_therapy_components  \n",
       "0                     0                             []  \n",
       "1                     0                             []  \n",
       "2                     0                             []  \n",
       "3                     0                             []  \n",
       "4                     0                             []  "
      ]
     },
     "execution_count": 199,
     "metadata": {},
     "output_type": "execute_result"
    }
   ],
   "source": [
    "import pandas as pd\n",
    "\n",
    "data = []\n",
    "for record in result:\n",
    "    row = {\n",
    "        'study_allele_origin': record['Study'].get('alleleOrigin', None),\n",
    "        'study_id': record['Study']['id'],\n",
    "        'study_direction': record['Study']['direction'],\n",
    "        'study_predicate': record['Study']['predicate'],\n",
    "        'study_type': record['Study']['type'],\n",
    "        'variant_mp_score': record['VariantProperties'].get('civic_molecular_profile_score', None),\n",
    "        'variant_id': record['VariantProperties']['id'],\n",
    "        'variant_label': record['VariantProperties']['label'],\n",
    "        'variant_type': record['VariantProperties'].get('variant_types',None),\n",
    "        'therapeutic_type': record['TherapeuticProperties']['type'],\n",
    "        'therapeutic_civic_type': record['TherapeuticProperties'].get('civic_therapy_interaction_type', None),\n",
    "        'therapeutic_id': record['TherapeuticProperties']['id'],\n",
    "        'therapeutic_label': record['TherapeuticProperties'].get('label',None),\n",
    "        'number_of_components': record.get('NumberOfComponents', None),\n",
    "        'combination_therapy_components': record.get('CombinationTherapyProperties', None)\n",
    "    }\n",
    "\n",
    "    data.append(row)\n",
    "\n",
    "df = pd.DataFrame(data)\n",
    "\n",
    "df[0:5]"
   ]
  },
  {
   "cell_type": "code",
   "execution_count": 200,
   "metadata": {},
   "outputs": [],
   "source": [
    "# save\n",
    "# df.to_excel('therapeutics.xlsx',sheet_name='Sheet1')"
   ]
  },
  {
   "cell_type": "markdown",
   "metadata": {},
   "source": [
    "### Inspect"
   ]
  },
  {
   "cell_type": "code",
   "execution_count": 3,
   "metadata": {},
   "outputs": [
    {
     "data": {
      "text/plain": [
       "count     815.000000\n",
       "mean      176.373620\n",
       "std       382.819215\n",
       "min         0.500000\n",
       "25%         7.500000\n",
       "50%        20.000000\n",
       "75%        96.500000\n",
       "max      1378.500000\n",
       "Name: variant_mp_score, dtype: float64"
      ]
     },
     "execution_count": 3,
     "metadata": {},
     "output_type": "execute_result"
    }
   ],
   "source": [
    "df['variant_mp_score'].describe()"
   ]
  },
  {
   "cell_type": "code",
   "execution_count": 4,
   "metadata": {},
   "outputs": [
    {
     "data": {
      "text/plain": [
       "variant_label\n",
       "BRAF V600E                 70\n",
       "EGFR L858R                 36\n",
       "BRAF p.V600E (Missense)    31\n",
       "EGFR T790M                 27\n",
       "PIK3CA H1047R              22\n",
       "                           ..\n",
       "KDR R961W                   1\n",
       "ERBB2 G778_S779insLPS       1\n",
       "ERBB2 G776delinsLC          1\n",
       "ERBB2 G776delinsCV          1\n",
       "IDH1 p.R132L (Missense)     1\n",
       "Name: count, Length: 474, dtype: int64"
      ]
     },
     "execution_count": 4,
     "metadata": {},
     "output_type": "execute_result"
    }
   ],
   "source": [
    "df['variant_label'].value_counts()"
   ]
  },
  {
   "cell_type": "code",
   "execution_count": 5,
   "metadata": {},
   "outputs": [
    {
     "data": {
      "text/plain": [
       "number_of_components\n",
       "0    922\n",
       "2    101\n",
       "3     19\n",
       "Name: count, dtype: int64"
      ]
     },
     "execution_count": 5,
     "metadata": {},
     "output_type": "execute_result"
    }
   ],
   "source": [
    "df['number_of_components'].value_counts()"
   ]
  },
  {
   "cell_type": "code",
   "execution_count": 233,
   "metadata": {},
   "outputs": [
    {
     "data": {
      "text/plain": [
       "count     123.000000\n",
       "mean      798.526423\n",
       "std       669.656836\n",
       "min         0.750000\n",
       "25%        24.500000\n",
       "50%      1378.500000\n",
       "75%      1378.500000\n",
       "max      1378.500000\n",
       "Name: variant_mp_score, dtype: float64"
      ]
     },
     "execution_count": 233,
     "metadata": {},
     "output_type": "execute_result"
    }
   ],
   "source": [
    "braf_df['variant_mp_score'].describe()"
   ]
  },
  {
   "cell_type": "markdown",
   "metadata": {},
   "source": [
    "### Distribution of Variant MP Scores\n",
    "Upon manual inspection, I noticed that BRAF containing variants tended to have huge Variant MP Scores and wondered how this compared to the rest of the data set of gene variants with therapeutic data."
   ]
  },
  {
   "cell_type": "code",
   "execution_count": 206,
   "metadata": {},
   "outputs": [
    {
     "data": {
      "application/vnd.plotly.v1+json": {
       "config": {
        "plotlyServerURL": "https://plot.ly"
       },
       "data": [
        {
         "alignmentgroup": "True",
         "hovertemplate": "source=Combined<br>variant_mp_score=%{x}<extra></extra>",
         "legendgroup": "Combined",
         "marker": {
          "color": "#636efa"
         },
         "name": "Combined",
         "notched": false,
         "offsetgroup": "Combined",
         "orientation": "h",
         "showlegend": true,
         "type": "box",
         "x": [
          406.25,
          1378.5,
          406.25,
          406.25,
          379,
          379,
          50,
          176.5,
          1378.5,
          1378.5,
          176.5,
          75.5,
          107.5,
          7.5,
          108.5,
          null,
          47,
          1378.5,
          1378.5,
          379,
          1378.5,
          1378.5,
          1378.5,
          100.5,
          100.5,
          103,
          406.25,
          379,
          108.5,
          40,
          406.25,
          20,
          40,
          35,
          100.5,
          1378.5,
          379,
          406.25,
          379,
          35,
          108.5,
          107.5,
          1378.5,
          1378.5,
          67,
          1378.5,
          55,
          40,
          406.25,
          1378.5,
          1378.5,
          379,
          165,
          33.5,
          1378.5,
          1378.5,
          1378.5,
          1378.5,
          107.5,
          1378.5,
          107.5,
          1378.5,
          1378.5,
          65,
          86,
          1378.5,
          176.5,
          null,
          75.5,
          1378.5,
          379,
          406.25,
          63,
          18,
          55,
          35,
          379,
          379,
          17.5,
          406.25,
          108.5,
          176.5,
          86,
          406.25,
          1378.5,
          1378.5,
          1378.5,
          1378.5,
          379,
          406.25,
          19,
          23,
          15,
          15,
          15,
          1378.5,
          1378.5,
          1378.5,
          1378.5,
          406.25,
          162,
          67.5,
          379,
          1378.5,
          1378.5,
          108.5,
          38,
          107.5,
          107.5,
          63,
          1378.5,
          1378.5,
          30,
          30,
          1378.5,
          1378.5,
          1378.5,
          1378.5,
          96.5,
          25,
          108.5,
          1378.5,
          176.5,
          1378.5,
          165,
          63,
          63,
          162,
          162,
          176.5,
          176.5,
          38,
          38,
          56,
          56,
          107.5,
          379,
          18,
          379,
          null,
          67.5,
          5,
          67.5,
          162,
          32.5,
          38,
          5,
          10.5,
          19,
          10,
          20.5,
          null,
          null,
          null,
          null,
          12.5,
          12.5,
          16.5,
          23,
          12,
          10,
          20,
          20,
          1378.5,
          10,
          10,
          10,
          10,
          10,
          20,
          20,
          10,
          406.25,
          19.5,
          10,
          10,
          10,
          16,
          10,
          14,
          10,
          10,
          10,
          10,
          10,
          10,
          7.5,
          406.25,
          77.5,
          7.5,
          7.5,
          7.5,
          33.5,
          7.5,
          13.5,
          12.5,
          33.5,
          10.5,
          20.5,
          107.5,
          1378.5,
          9.5,
          7.5,
          9.5,
          1378.5,
          7.5,
          7.5,
          7.5,
          7.5,
          7.5,
          162,
          15.5,
          7.5,
          108.5,
          12.5,
          162,
          43.5,
          7.5,
          77.5,
          7.5,
          176.5,
          19.5,
          14.5,
          29.5,
          7.5,
          7.5,
          7.5,
          7.5,
          7.5,
          21.5,
          7.5,
          11.5,
          1378.5,
          1378.5,
          10.5,
          67.5,
          1378.5,
          7.5,
          96.5,
          7.5,
          7.5,
          14.5,
          14.5,
          7.5,
          7.5,
          7.5,
          7.5,
          379,
          75.5,
          12.5,
          7.5,
          43.5,
          7.5,
          100.5,
          7.5,
          7.5,
          7.5,
          7.5,
          14.5,
          23.5,
          1378.5,
          1378.5,
          1378.5,
          1378.5,
          7.5,
          1378.5,
          1378.5,
          7.5,
          9.5,
          7.5,
          47,
          47,
          7.5,
          7.5,
          7.5,
          7.5,
          7.5,
          7.5,
          8,
          11.5,
          14,
          5,
          12.5,
          10,
          162,
          96.5,
          1378.5,
          8,
          162,
          23,
          5,
          23,
          23,
          20.5,
          25.5,
          8,
          75.5,
          162,
          1378.5,
          21,
          5,
          96.5,
          5,
          77.5,
          1378.5,
          67.5,
          5,
          5,
          77.5,
          406.25,
          10,
          5,
          67.5,
          5,
          100.5,
          379,
          10,
          20.5,
          5,
          5,
          5,
          16,
          5,
          5,
          5,
          5,
          5,
          5,
          5,
          5,
          5,
          5,
          14.5,
          29.5,
          1378.5,
          5,
          5,
          5,
          5,
          14,
          6,
          5,
          14.5,
          5,
          9,
          80,
          5,
          5,
          5,
          38,
          162,
          63,
          108.5,
          108.5,
          67.5,
          5,
          67,
          21,
          8,
          8,
          24.5,
          5,
          8,
          5,
          null,
          2,
          null,
          null,
          null,
          null,
          null,
          null,
          2.5,
          17.5,
          406.25,
          77.5,
          43.5,
          2.5,
          2.5,
          5,
          8.5,
          379,
          2.5,
          5,
          2.5,
          2.5,
          5,
          5,
          2.5,
          11.5,
          11,
          162,
          176.5,
          7.5,
          108.5,
          23,
          null,
          7.5,
          null,
          null,
          null,
          null,
          null,
          5,
          null,
          null,
          null,
          23.5,
          5,
          5,
          23.5,
          5,
          12.5,
          5,
          5,
          11,
          9,
          8,
          18,
          8,
          8,
          8,
          9,
          21.5,
          21.5,
          8,
          26,
          4,
          100.5,
          4,
          4,
          67.5,
          33.5,
          108.5,
          4,
          4,
          4,
          4,
          4,
          4,
          23,
          379,
          4,
          11.5,
          162,
          75.5,
          96.5,
          19,
          16,
          4,
          21,
          28,
          8,
          4,
          23,
          4,
          9,
          23,
          23,
          9,
          23.5,
          11,
          4,
          33.5,
          23,
          16.5,
          7,
          8,
          8,
          19,
          4,
          108.5,
          77.5,
          13,
          96.5,
          406.25,
          19,
          46,
          32.5,
          47,
          21.5,
          8,
          9,
          22,
          25,
          44.5,
          41,
          10,
          15.5,
          4,
          7,
          4,
          4,
          4,
          96.5,
          96.5,
          14,
          8,
          8,
          29.5,
          8,
          13,
          13,
          21,
          13,
          13,
          21,
          7,
          9,
          7,
          7,
          9,
          4,
          7,
          4,
          4,
          6,
          20,
          20,
          3,
          3,
          103,
          33.5,
          33.5,
          16,
          33.5,
          33.5,
          23,
          14,
          14,
          16,
          5,
          23,
          3,
          86,
          86,
          1378.5,
          1378.5,
          1378.5,
          1378.5,
          1378.5,
          33.5,
          23,
          33.5,
          8,
          18,
          8,
          8,
          8,
          18,
          16,
          75.5,
          25,
          100.5,
          3,
          77.5,
          3,
          3,
          13.5,
          406.25,
          406.25,
          24.5,
          6,
          6,
          13.5,
          3,
          3,
          1378.5,
          3,
          33.5,
          10.5,
          1378.5,
          1378.5,
          96.5,
          3,
          96.5,
          96.5,
          8,
          7,
          96.5,
          75.5,
          3,
          3,
          3,
          3,
          67.5,
          77.5,
          15.5,
          12.5,
          96.5,
          406.25,
          24.5,
          21,
          8,
          162,
          3,
          3,
          15.5,
          379,
          379,
          379,
          379,
          3,
          3,
          3,
          3,
          3,
          3,
          3,
          3,
          13,
          5,
          21,
          77.5,
          77.5,
          19,
          19,
          96.5,
          406.25,
          379,
          14.5,
          6,
          14.5,
          29.5,
          29.5,
          3,
          3,
          3,
          379,
          20.5,
          3,
          379,
          379,
          379,
          10.5,
          3,
          6,
          null,
          47,
          3,
          3,
          7,
          3,
          3,
          3,
          3,
          3,
          3,
          3,
          7,
          9,
          379,
          3,
          43.5,
          43.5,
          6,
          6,
          3,
          77.5,
          77.5,
          29.5,
          5,
          10,
          41,
          14,
          14,
          14,
          43.5,
          176.5,
          26,
          3,
          3,
          3,
          3,
          9,
          8,
          7,
          7,
          7,
          26,
          7,
          9,
          20,
          20,
          20,
          6,
          6,
          96.5,
          8,
          1378.5,
          1378.5,
          21,
          20,
          8,
          3,
          3,
          3,
          3,
          5,
          56,
          1378.5,
          1378.5,
          33.5,
          2,
          406.25,
          379,
          1378.5,
          2,
          77.5,
          5,
          2,
          2,
          2,
          96.5,
          96.5,
          77.5,
          12,
          9.5,
          14.5,
          96.5,
          24.5,
          24.5,
          2,
          2,
          2,
          2,
          3,
          1,
          1,
          1,
          63,
          63,
          63,
          75.5,
          75.5,
          77.5,
          96.5,
          406.25,
          406.25,
          406.25,
          406.25,
          108.5,
          176.5,
          162,
          162,
          176.5,
          176.5,
          38,
          38,
          38,
          56,
          2,
          29.5,
          67,
          8.5,
          100.5,
          5,
          10,
          14.5,
          2,
          19.5,
          379,
          2,
          14.5,
          24.5,
          17,
          23.5,
          2,
          2,
          19,
          19,
          63,
          77.5,
          2,
          67.5,
          162,
          176.5,
          38,
          8.5,
          100.5,
          14.5,
          14.5,
          7,
          16,
          2,
          379,
          379,
          379,
          379,
          379,
          11.5,
          16,
          2,
          2,
          2,
          9.5,
          100.5,
          8.5,
          14.5,
          29.5,
          7,
          43.5,
          9,
          9,
          6,
          13,
          2,
          9.5,
          19,
          77.5,
          96.5,
          15.5,
          13,
          5,
          2,
          11,
          67.5,
          96.5,
          1,
          96.5,
          75.5,
          108.5,
          162,
          32.5,
          33.5,
          379,
          6,
          75.5,
          77.5,
          12.5,
          13,
          0.75,
          0.75,
          0.75,
          0.5,
          8,
          0.5,
          25.5,
          406.25,
          null,
          null,
          null,
          null,
          null,
          null,
          null,
          null,
          null,
          null,
          null,
          null,
          null,
          null,
          null,
          null,
          null,
          null,
          null,
          null,
          null,
          null,
          null,
          null,
          null,
          null,
          null,
          null,
          null,
          null,
          null,
          null,
          null,
          null,
          null,
          null,
          null,
          null,
          null,
          null,
          null,
          null,
          null,
          null,
          null,
          null,
          null,
          null,
          null,
          null,
          null,
          null,
          null,
          null,
          null,
          null,
          null,
          null,
          null,
          null,
          null,
          null,
          null,
          null,
          null,
          null,
          null,
          null,
          null,
          null,
          null,
          null,
          null,
          null,
          null,
          null,
          null,
          null,
          null,
          null,
          null,
          null,
          null,
          null,
          null,
          null,
          null,
          null,
          null,
          null,
          null,
          null,
          null,
          null,
          null,
          null,
          null,
          null,
          null,
          null,
          null,
          null,
          null,
          null,
          null,
          null,
          null,
          null,
          null,
          null,
          null,
          null,
          null,
          null,
          null,
          null,
          null,
          null,
          null,
          null,
          null,
          null,
          null,
          null,
          null,
          null,
          null,
          null,
          null,
          null,
          null,
          null,
          null,
          null,
          null,
          null,
          null,
          null,
          null,
          null,
          null,
          null,
          null,
          null,
          null,
          null,
          null,
          null,
          null,
          null,
          null,
          null,
          null,
          null,
          null,
          null,
          null,
          null,
          null,
          null,
          null,
          null,
          null,
          null,
          null,
          null,
          null,
          null,
          null,
          null,
          null,
          null,
          null,
          null,
          null,
          null,
          null,
          null,
          null,
          null,
          null,
          null,
          null,
          null,
          null,
          null,
          null,
          null,
          null,
          null,
          null,
          null,
          null,
          null,
          null,
          null,
          null,
          null,
          null,
          null,
          null,
          null,
          null
         ],
         "x0": " ",
         "xaxis": "x",
         "y0": " ",
         "yaxis": "y"
        },
        {
         "alignmentgroup": "True",
         "hovertemplate": "source=BRAF<br>variant_mp_score=%{x}<extra></extra>",
         "legendgroup": "BRAF",
         "marker": {
          "color": "#EF553B"
         },
         "name": "BRAF",
         "notched": false,
         "offsetgroup": "BRAF",
         "orientation": "h",
         "showlegend": true,
         "type": "box",
         "x": [
          1378.5,
          1378.5,
          1378.5,
          107.5,
          47,
          1378.5,
          1378.5,
          1378.5,
          1378.5,
          1378.5,
          1378.5,
          107.5,
          1378.5,
          1378.5,
          1378.5,
          1378.5,
          1378.5,
          1378.5,
          1378.5,
          1378.5,
          1378.5,
          107.5,
          1378.5,
          107.5,
          1378.5,
          1378.5,
          1378.5,
          1378.5,
          1378.5,
          1378.5,
          1378.5,
          1378.5,
          19,
          1378.5,
          1378.5,
          1378.5,
          1378.5,
          1378.5,
          1378.5,
          107.5,
          107.5,
          1378.5,
          1378.5,
          30,
          30,
          1378.5,
          1378.5,
          1378.5,
          1378.5,
          1378.5,
          1378.5,
          107.5,
          12,
          1378.5,
          107.5,
          1378.5,
          9.5,
          7.5,
          1378.5,
          43.5,
          1378.5,
          1378.5,
          1378.5,
          43.5,
          14.5,
          1378.5,
          1378.5,
          1378.5,
          1378.5,
          1378.5,
          1378.5,
          47,
          47,
          7.5,
          7.5,
          1378.5,
          1378.5,
          1378.5,
          1378.5,
          5,
          5,
          5,
          5,
          14,
          6,
          5,
          14.5,
          5,
          43.5,
          19,
          47,
          1378.5,
          1378.5,
          1378.5,
          1378.5,
          1378.5,
          1378.5,
          1378.5,
          1378.5,
          3,
          47,
          43.5,
          43.5,
          6,
          6,
          14,
          14,
          14,
          43.5,
          1378.5,
          1378.5,
          1378.5,
          1378.5,
          1378.5,
          12,
          9.5,
          14.5,
          2,
          43.5,
          6,
          0.75,
          0.75,
          0.75,
          null,
          null,
          null,
          null,
          null,
          null,
          null,
          null,
          null,
          null,
          null,
          null,
          null,
          null,
          null,
          null,
          null,
          null,
          null,
          null,
          null,
          null,
          null,
          null,
          null,
          null,
          null,
          null,
          null,
          null,
          null,
          null,
          null,
          null,
          null,
          null,
          null
         ],
         "x0": " ",
         "xaxis": "x",
         "y0": " ",
         "yaxis": "y"
        },
        {
         "alignmentgroup": "True",
         "hovertemplate": "source=All Other<br>variant_mp_score=%{x}<extra></extra>",
         "legendgroup": "All Other",
         "marker": {
          "color": "#00cc96"
         },
         "name": "All Other",
         "notched": false,
         "offsetgroup": "All Other",
         "orientation": "h",
         "showlegend": true,
         "type": "box",
         "x": [
          406.25,
          406.25,
          406.25,
          379,
          379,
          50,
          176.5,
          176.5,
          75.5,
          7.5,
          108.5,
          null,
          379,
          100.5,
          100.5,
          103,
          406.25,
          379,
          108.5,
          40,
          406.25,
          20,
          40,
          35,
          100.5,
          379,
          406.25,
          379,
          35,
          108.5,
          67,
          55,
          40,
          406.25,
          379,
          165,
          33.5,
          65,
          86,
          176.5,
          null,
          75.5,
          379,
          406.25,
          63,
          18,
          55,
          35,
          379,
          379,
          17.5,
          406.25,
          108.5,
          176.5,
          86,
          406.25,
          379,
          406.25,
          23,
          15,
          15,
          15,
          406.25,
          162,
          67.5,
          379,
          108.5,
          38,
          63,
          96.5,
          25,
          108.5,
          176.5,
          165,
          63,
          63,
          162,
          162,
          176.5,
          176.5,
          38,
          38,
          56,
          56,
          379,
          18,
          379,
          null,
          67.5,
          5,
          67.5,
          162,
          32.5,
          38,
          5,
          10.5,
          19,
          10,
          20.5,
          null,
          null,
          null,
          null,
          12.5,
          12.5,
          16.5,
          23,
          10,
          20,
          20,
          10,
          10,
          10,
          10,
          10,
          20,
          20,
          10,
          406.25,
          19.5,
          10,
          10,
          10,
          16,
          10,
          14,
          10,
          10,
          10,
          10,
          10,
          10,
          7.5,
          406.25,
          77.5,
          7.5,
          7.5,
          7.5,
          33.5,
          7.5,
          13.5,
          12.5,
          33.5,
          10.5,
          20.5,
          9.5,
          7.5,
          7.5,
          7.5,
          7.5,
          7.5,
          162,
          15.5,
          7.5,
          108.5,
          12.5,
          162,
          7.5,
          77.5,
          7.5,
          176.5,
          19.5,
          14.5,
          29.5,
          7.5,
          7.5,
          7.5,
          7.5,
          7.5,
          21.5,
          7.5,
          11.5,
          10.5,
          67.5,
          7.5,
          96.5,
          7.5,
          7.5,
          14.5,
          14.5,
          7.5,
          7.5,
          7.5,
          7.5,
          379,
          75.5,
          12.5,
          7.5,
          7.5,
          100.5,
          7.5,
          7.5,
          7.5,
          7.5,
          23.5,
          7.5,
          7.5,
          9.5,
          7.5,
          7.5,
          7.5,
          7.5,
          7.5,
          8,
          11.5,
          14,
          5,
          12.5,
          10,
          162,
          96.5,
          8,
          162,
          23,
          5,
          23,
          23,
          20.5,
          25.5,
          8,
          75.5,
          162,
          21,
          5,
          96.5,
          5,
          77.5,
          67.5,
          5,
          5,
          77.5,
          406.25,
          10,
          5,
          67.5,
          5,
          100.5,
          379,
          10,
          20.5,
          5,
          5,
          5,
          16,
          5,
          5,
          5,
          5,
          5,
          5,
          5,
          5,
          5,
          5,
          14.5,
          29.5,
          9,
          80,
          5,
          5,
          5,
          38,
          162,
          63,
          108.5,
          108.5,
          67.5,
          5,
          67,
          21,
          8,
          8,
          24.5,
          5,
          8,
          5,
          null,
          2,
          null,
          null,
          null,
          null,
          null,
          null,
          2.5,
          17.5,
          406.25,
          77.5,
          2.5,
          2.5,
          5,
          8.5,
          379,
          2.5,
          5,
          2.5,
          2.5,
          5,
          5,
          2.5,
          11.5,
          11,
          162,
          176.5,
          7.5,
          108.5,
          23,
          null,
          7.5,
          null,
          null,
          null,
          null,
          null,
          5,
          null,
          null,
          null,
          23.5,
          5,
          5,
          23.5,
          5,
          12.5,
          5,
          5,
          11,
          9,
          8,
          18,
          8,
          8,
          8,
          9,
          21.5,
          21.5,
          8,
          26,
          4,
          100.5,
          4,
          4,
          67.5,
          33.5,
          108.5,
          4,
          4,
          4,
          4,
          4,
          4,
          23,
          379,
          4,
          11.5,
          162,
          75.5,
          96.5,
          19,
          16,
          4,
          21,
          28,
          8,
          4,
          23,
          4,
          9,
          23,
          23,
          9,
          23.5,
          11,
          4,
          33.5,
          23,
          16.5,
          7,
          8,
          8,
          4,
          108.5,
          77.5,
          13,
          96.5,
          406.25,
          19,
          46,
          32.5,
          21.5,
          8,
          9,
          22,
          25,
          44.5,
          41,
          10,
          15.5,
          4,
          7,
          4,
          4,
          4,
          96.5,
          96.5,
          14,
          8,
          8,
          29.5,
          8,
          13,
          13,
          21,
          13,
          13,
          21,
          7,
          9,
          7,
          7,
          9,
          4,
          7,
          4,
          4,
          6,
          20,
          20,
          3,
          3,
          103,
          33.5,
          33.5,
          16,
          33.5,
          33.5,
          23,
          14,
          14,
          16,
          5,
          23,
          3,
          86,
          86,
          33.5,
          23,
          33.5,
          8,
          18,
          8,
          8,
          8,
          18,
          16,
          75.5,
          25,
          100.5,
          3,
          77.5,
          3,
          3,
          13.5,
          406.25,
          406.25,
          24.5,
          6,
          6,
          13.5,
          3,
          3,
          3,
          33.5,
          10.5,
          96.5,
          96.5,
          96.5,
          8,
          7,
          96.5,
          75.5,
          3,
          3,
          3,
          3,
          67.5,
          77.5,
          15.5,
          12.5,
          96.5,
          406.25,
          24.5,
          21,
          8,
          162,
          3,
          3,
          15.5,
          379,
          379,
          379,
          379,
          3,
          3,
          3,
          3,
          3,
          3,
          3,
          3,
          13,
          5,
          21,
          77.5,
          77.5,
          19,
          19,
          96.5,
          406.25,
          379,
          14.5,
          6,
          14.5,
          29.5,
          29.5,
          3,
          3,
          3,
          379,
          20.5,
          3,
          379,
          379,
          379,
          10.5,
          3,
          6,
          null,
          3,
          3,
          7,
          3,
          3,
          3,
          3,
          3,
          3,
          3,
          7,
          9,
          379,
          3,
          3,
          77.5,
          77.5,
          29.5,
          5,
          10,
          41,
          176.5,
          26,
          3,
          3,
          3,
          3,
          9,
          8,
          7,
          7,
          7,
          26,
          7,
          9,
          20,
          20,
          20,
          6,
          6,
          96.5,
          8,
          21,
          20,
          8,
          3,
          3,
          3,
          3,
          5,
          56,
          33.5,
          2,
          406.25,
          379,
          2,
          77.5,
          5,
          2,
          2,
          2,
          96.5,
          96.5,
          77.5,
          96.5,
          24.5,
          24.5,
          2,
          2,
          2,
          3,
          1,
          1,
          1,
          63,
          63,
          63,
          75.5,
          75.5,
          77.5,
          96.5,
          406.25,
          406.25,
          406.25,
          406.25,
          108.5,
          176.5,
          162,
          162,
          176.5,
          176.5,
          38,
          38,
          38,
          56,
          2,
          29.5,
          67,
          8.5,
          100.5,
          5,
          10,
          14.5,
          2,
          19.5,
          379,
          2,
          14.5,
          24.5,
          17,
          23.5,
          2,
          2,
          19,
          19,
          63,
          77.5,
          2,
          67.5,
          162,
          176.5,
          38,
          8.5,
          100.5,
          14.5,
          14.5,
          7,
          16,
          2,
          379,
          379,
          379,
          379,
          379,
          11.5,
          16,
          2,
          2,
          2,
          9.5,
          100.5,
          8.5,
          14.5,
          29.5,
          7,
          9,
          9,
          6,
          13,
          2,
          9.5,
          19,
          77.5,
          96.5,
          15.5,
          13,
          5,
          2,
          11,
          67.5,
          96.5,
          1,
          96.5,
          75.5,
          108.5,
          162,
          32.5,
          33.5,
          379,
          75.5,
          77.5,
          12.5,
          13,
          0.5,
          8,
          0.5,
          25.5,
          406.25,
          null,
          null,
          null,
          null,
          null,
          null,
          null,
          null,
          null,
          null,
          null,
          null,
          null,
          null,
          null,
          null,
          null,
          null,
          null,
          null,
          null,
          null,
          null,
          null,
          null,
          null,
          null,
          null,
          null,
          null,
          null,
          null,
          null,
          null,
          null,
          null,
          null,
          null,
          null,
          null,
          null,
          null,
          null,
          null,
          null,
          null,
          null,
          null,
          null,
          null,
          null,
          null,
          null,
          null,
          null,
          null,
          null,
          null,
          null,
          null,
          null,
          null,
          null,
          null,
          null,
          null,
          null,
          null,
          null,
          null,
          null,
          null,
          null,
          null,
          null,
          null,
          null,
          null,
          null,
          null,
          null,
          null,
          null,
          null,
          null,
          null,
          null,
          null,
          null,
          null,
          null,
          null,
          null,
          null,
          null,
          null,
          null,
          null,
          null,
          null,
          null,
          null,
          null,
          null,
          null,
          null,
          null,
          null,
          null,
          null,
          null,
          null,
          null,
          null,
          null,
          null,
          null,
          null,
          null,
          null,
          null,
          null,
          null,
          null,
          null,
          null,
          null,
          null,
          null,
          null,
          null,
          null,
          null,
          null,
          null,
          null,
          null,
          null,
          null,
          null,
          null,
          null,
          null,
          null,
          null,
          null,
          null,
          null,
          null,
          null,
          null,
          null,
          null,
          null,
          null,
          null,
          null,
          null,
          null,
          null,
          null,
          null,
          null,
          null,
          null,
          null
         ],
         "x0": " ",
         "xaxis": "x",
         "y0": " ",
         "yaxis": "y"
        }
       ],
       "layout": {
        "boxmode": "group",
        "legend": {
         "title": {
          "text": "source"
         },
         "tracegroupgap": 0
        },
        "template": {
         "data": {
          "bar": [
           {
            "error_x": {
             "color": "#2a3f5f"
            },
            "error_y": {
             "color": "#2a3f5f"
            },
            "marker": {
             "line": {
              "color": "#E5ECF6",
              "width": 0.5
             },
             "pattern": {
              "fillmode": "overlay",
              "size": 10,
              "solidity": 0.2
             }
            },
            "type": "bar"
           }
          ],
          "barpolar": [
           {
            "marker": {
             "line": {
              "color": "#E5ECF6",
              "width": 0.5
             },
             "pattern": {
              "fillmode": "overlay",
              "size": 10,
              "solidity": 0.2
             }
            },
            "type": "barpolar"
           }
          ],
          "carpet": [
           {
            "aaxis": {
             "endlinecolor": "#2a3f5f",
             "gridcolor": "white",
             "linecolor": "white",
             "minorgridcolor": "white",
             "startlinecolor": "#2a3f5f"
            },
            "baxis": {
             "endlinecolor": "#2a3f5f",
             "gridcolor": "white",
             "linecolor": "white",
             "minorgridcolor": "white",
             "startlinecolor": "#2a3f5f"
            },
            "type": "carpet"
           }
          ],
          "choropleth": [
           {
            "colorbar": {
             "outlinewidth": 0,
             "ticks": ""
            },
            "type": "choropleth"
           }
          ],
          "contour": [
           {
            "colorbar": {
             "outlinewidth": 0,
             "ticks": ""
            },
            "colorscale": [
             [
              0,
              "#0d0887"
             ],
             [
              0.1111111111111111,
              "#46039f"
             ],
             [
              0.2222222222222222,
              "#7201a8"
             ],
             [
              0.3333333333333333,
              "#9c179e"
             ],
             [
              0.4444444444444444,
              "#bd3786"
             ],
             [
              0.5555555555555556,
              "#d8576b"
             ],
             [
              0.6666666666666666,
              "#ed7953"
             ],
             [
              0.7777777777777778,
              "#fb9f3a"
             ],
             [
              0.8888888888888888,
              "#fdca26"
             ],
             [
              1,
              "#f0f921"
             ]
            ],
            "type": "contour"
           }
          ],
          "contourcarpet": [
           {
            "colorbar": {
             "outlinewidth": 0,
             "ticks": ""
            },
            "type": "contourcarpet"
           }
          ],
          "heatmap": [
           {
            "colorbar": {
             "outlinewidth": 0,
             "ticks": ""
            },
            "colorscale": [
             [
              0,
              "#0d0887"
             ],
             [
              0.1111111111111111,
              "#46039f"
             ],
             [
              0.2222222222222222,
              "#7201a8"
             ],
             [
              0.3333333333333333,
              "#9c179e"
             ],
             [
              0.4444444444444444,
              "#bd3786"
             ],
             [
              0.5555555555555556,
              "#d8576b"
             ],
             [
              0.6666666666666666,
              "#ed7953"
             ],
             [
              0.7777777777777778,
              "#fb9f3a"
             ],
             [
              0.8888888888888888,
              "#fdca26"
             ],
             [
              1,
              "#f0f921"
             ]
            ],
            "type": "heatmap"
           }
          ],
          "heatmapgl": [
           {
            "colorbar": {
             "outlinewidth": 0,
             "ticks": ""
            },
            "colorscale": [
             [
              0,
              "#0d0887"
             ],
             [
              0.1111111111111111,
              "#46039f"
             ],
             [
              0.2222222222222222,
              "#7201a8"
             ],
             [
              0.3333333333333333,
              "#9c179e"
             ],
             [
              0.4444444444444444,
              "#bd3786"
             ],
             [
              0.5555555555555556,
              "#d8576b"
             ],
             [
              0.6666666666666666,
              "#ed7953"
             ],
             [
              0.7777777777777778,
              "#fb9f3a"
             ],
             [
              0.8888888888888888,
              "#fdca26"
             ],
             [
              1,
              "#f0f921"
             ]
            ],
            "type": "heatmapgl"
           }
          ],
          "histogram": [
           {
            "marker": {
             "pattern": {
              "fillmode": "overlay",
              "size": 10,
              "solidity": 0.2
             }
            },
            "type": "histogram"
           }
          ],
          "histogram2d": [
           {
            "colorbar": {
             "outlinewidth": 0,
             "ticks": ""
            },
            "colorscale": [
             [
              0,
              "#0d0887"
             ],
             [
              0.1111111111111111,
              "#46039f"
             ],
             [
              0.2222222222222222,
              "#7201a8"
             ],
             [
              0.3333333333333333,
              "#9c179e"
             ],
             [
              0.4444444444444444,
              "#bd3786"
             ],
             [
              0.5555555555555556,
              "#d8576b"
             ],
             [
              0.6666666666666666,
              "#ed7953"
             ],
             [
              0.7777777777777778,
              "#fb9f3a"
             ],
             [
              0.8888888888888888,
              "#fdca26"
             ],
             [
              1,
              "#f0f921"
             ]
            ],
            "type": "histogram2d"
           }
          ],
          "histogram2dcontour": [
           {
            "colorbar": {
             "outlinewidth": 0,
             "ticks": ""
            },
            "colorscale": [
             [
              0,
              "#0d0887"
             ],
             [
              0.1111111111111111,
              "#46039f"
             ],
             [
              0.2222222222222222,
              "#7201a8"
             ],
             [
              0.3333333333333333,
              "#9c179e"
             ],
             [
              0.4444444444444444,
              "#bd3786"
             ],
             [
              0.5555555555555556,
              "#d8576b"
             ],
             [
              0.6666666666666666,
              "#ed7953"
             ],
             [
              0.7777777777777778,
              "#fb9f3a"
             ],
             [
              0.8888888888888888,
              "#fdca26"
             ],
             [
              1,
              "#f0f921"
             ]
            ],
            "type": "histogram2dcontour"
           }
          ],
          "mesh3d": [
           {
            "colorbar": {
             "outlinewidth": 0,
             "ticks": ""
            },
            "type": "mesh3d"
           }
          ],
          "parcoords": [
           {
            "line": {
             "colorbar": {
              "outlinewidth": 0,
              "ticks": ""
             }
            },
            "type": "parcoords"
           }
          ],
          "pie": [
           {
            "automargin": true,
            "type": "pie"
           }
          ],
          "scatter": [
           {
            "fillpattern": {
             "fillmode": "overlay",
             "size": 10,
             "solidity": 0.2
            },
            "type": "scatter"
           }
          ],
          "scatter3d": [
           {
            "line": {
             "colorbar": {
              "outlinewidth": 0,
              "ticks": ""
             }
            },
            "marker": {
             "colorbar": {
              "outlinewidth": 0,
              "ticks": ""
             }
            },
            "type": "scatter3d"
           }
          ],
          "scattercarpet": [
           {
            "marker": {
             "colorbar": {
              "outlinewidth": 0,
              "ticks": ""
             }
            },
            "type": "scattercarpet"
           }
          ],
          "scattergeo": [
           {
            "marker": {
             "colorbar": {
              "outlinewidth": 0,
              "ticks": ""
             }
            },
            "type": "scattergeo"
           }
          ],
          "scattergl": [
           {
            "marker": {
             "colorbar": {
              "outlinewidth": 0,
              "ticks": ""
             }
            },
            "type": "scattergl"
           }
          ],
          "scattermapbox": [
           {
            "marker": {
             "colorbar": {
              "outlinewidth": 0,
              "ticks": ""
             }
            },
            "type": "scattermapbox"
           }
          ],
          "scatterpolar": [
           {
            "marker": {
             "colorbar": {
              "outlinewidth": 0,
              "ticks": ""
             }
            },
            "type": "scatterpolar"
           }
          ],
          "scatterpolargl": [
           {
            "marker": {
             "colorbar": {
              "outlinewidth": 0,
              "ticks": ""
             }
            },
            "type": "scatterpolargl"
           }
          ],
          "scatterternary": [
           {
            "marker": {
             "colorbar": {
              "outlinewidth": 0,
              "ticks": ""
             }
            },
            "type": "scatterternary"
           }
          ],
          "surface": [
           {
            "colorbar": {
             "outlinewidth": 0,
             "ticks": ""
            },
            "colorscale": [
             [
              0,
              "#0d0887"
             ],
             [
              0.1111111111111111,
              "#46039f"
             ],
             [
              0.2222222222222222,
              "#7201a8"
             ],
             [
              0.3333333333333333,
              "#9c179e"
             ],
             [
              0.4444444444444444,
              "#bd3786"
             ],
             [
              0.5555555555555556,
              "#d8576b"
             ],
             [
              0.6666666666666666,
              "#ed7953"
             ],
             [
              0.7777777777777778,
              "#fb9f3a"
             ],
             [
              0.8888888888888888,
              "#fdca26"
             ],
             [
              1,
              "#f0f921"
             ]
            ],
            "type": "surface"
           }
          ],
          "table": [
           {
            "cells": {
             "fill": {
              "color": "#EBF0F8"
             },
             "line": {
              "color": "white"
             }
            },
            "header": {
             "fill": {
              "color": "#C8D4E3"
             },
             "line": {
              "color": "white"
             }
            },
            "type": "table"
           }
          ]
         },
         "layout": {
          "annotationdefaults": {
           "arrowcolor": "#2a3f5f",
           "arrowhead": 0,
           "arrowwidth": 1
          },
          "autotypenumbers": "strict",
          "coloraxis": {
           "colorbar": {
            "outlinewidth": 0,
            "ticks": ""
           }
          },
          "colorscale": {
           "diverging": [
            [
             0,
             "#8e0152"
            ],
            [
             0.1,
             "#c51b7d"
            ],
            [
             0.2,
             "#de77ae"
            ],
            [
             0.3,
             "#f1b6da"
            ],
            [
             0.4,
             "#fde0ef"
            ],
            [
             0.5,
             "#f7f7f7"
            ],
            [
             0.6,
             "#e6f5d0"
            ],
            [
             0.7,
             "#b8e186"
            ],
            [
             0.8,
             "#7fbc41"
            ],
            [
             0.9,
             "#4d9221"
            ],
            [
             1,
             "#276419"
            ]
           ],
           "sequential": [
            [
             0,
             "#0d0887"
            ],
            [
             0.1111111111111111,
             "#46039f"
            ],
            [
             0.2222222222222222,
             "#7201a8"
            ],
            [
             0.3333333333333333,
             "#9c179e"
            ],
            [
             0.4444444444444444,
             "#bd3786"
            ],
            [
             0.5555555555555556,
             "#d8576b"
            ],
            [
             0.6666666666666666,
             "#ed7953"
            ],
            [
             0.7777777777777778,
             "#fb9f3a"
            ],
            [
             0.8888888888888888,
             "#fdca26"
            ],
            [
             1,
             "#f0f921"
            ]
           ],
           "sequentialminus": [
            [
             0,
             "#0d0887"
            ],
            [
             0.1111111111111111,
             "#46039f"
            ],
            [
             0.2222222222222222,
             "#7201a8"
            ],
            [
             0.3333333333333333,
             "#9c179e"
            ],
            [
             0.4444444444444444,
             "#bd3786"
            ],
            [
             0.5555555555555556,
             "#d8576b"
            ],
            [
             0.6666666666666666,
             "#ed7953"
            ],
            [
             0.7777777777777778,
             "#fb9f3a"
            ],
            [
             0.8888888888888888,
             "#fdca26"
            ],
            [
             1,
             "#f0f921"
            ]
           ]
          },
          "colorway": [
           "#636efa",
           "#EF553B",
           "#00cc96",
           "#ab63fa",
           "#FFA15A",
           "#19d3f3",
           "#FF6692",
           "#B6E880",
           "#FF97FF",
           "#FECB52"
          ],
          "font": {
           "color": "#2a3f5f"
          },
          "geo": {
           "bgcolor": "white",
           "lakecolor": "white",
           "landcolor": "#E5ECF6",
           "showlakes": true,
           "showland": true,
           "subunitcolor": "white"
          },
          "hoverlabel": {
           "align": "left"
          },
          "hovermode": "closest",
          "mapbox": {
           "style": "light"
          },
          "paper_bgcolor": "white",
          "plot_bgcolor": "#E5ECF6",
          "polar": {
           "angularaxis": {
            "gridcolor": "white",
            "linecolor": "white",
            "ticks": ""
           },
           "bgcolor": "#E5ECF6",
           "radialaxis": {
            "gridcolor": "white",
            "linecolor": "white",
            "ticks": ""
           }
          },
          "scene": {
           "xaxis": {
            "backgroundcolor": "#E5ECF6",
            "gridcolor": "white",
            "gridwidth": 2,
            "linecolor": "white",
            "showbackground": true,
            "ticks": "",
            "zerolinecolor": "white"
           },
           "yaxis": {
            "backgroundcolor": "#E5ECF6",
            "gridcolor": "white",
            "gridwidth": 2,
            "linecolor": "white",
            "showbackground": true,
            "ticks": "",
            "zerolinecolor": "white"
           },
           "zaxis": {
            "backgroundcolor": "#E5ECF6",
            "gridcolor": "white",
            "gridwidth": 2,
            "linecolor": "white",
            "showbackground": true,
            "ticks": "",
            "zerolinecolor": "white"
           }
          },
          "shapedefaults": {
           "line": {
            "color": "#2a3f5f"
           }
          },
          "ternary": {
           "aaxis": {
            "gridcolor": "white",
            "linecolor": "white",
            "ticks": ""
           },
           "baxis": {
            "gridcolor": "white",
            "linecolor": "white",
            "ticks": ""
           },
           "bgcolor": "#E5ECF6",
           "caxis": {
            "gridcolor": "white",
            "linecolor": "white",
            "ticks": ""
           }
          },
          "title": {
           "x": 0.05
          },
          "xaxis": {
           "automargin": true,
           "gridcolor": "white",
           "linecolor": "white",
           "ticks": "",
           "title": {
            "standoff": 15
           },
           "zerolinecolor": "white",
           "zerolinewidth": 2
          },
          "yaxis": {
           "automargin": true,
           "gridcolor": "white",
           "linecolor": "white",
           "ticks": "",
           "title": {
            "standoff": 15
           },
           "zerolinecolor": "white",
           "zerolinewidth": 2
          }
         }
        },
        "title": {
         "text": "Box and Whisker Plot of BRAF and Other Variant MP Scores"
        },
        "xaxis": {
         "anchor": "y",
         "domain": [
          0,
          1
         ],
         "title": {
          "text": "Variant MP Score"
         }
        },
        "yaxis": {
         "anchor": "x",
         "domain": [
          0,
          1
         ]
        }
       }
      }
     },
     "metadata": {},
     "output_type": "display_data"
    }
   ],
   "source": [
    "braf_df = df[df['variant_label'].str.contains('BRAF')]\n",
    "not_braf_df = df[~df['variant_label'].str.contains('BRAF')]\n",
    "\n",
    "combined_df = pd.concat([\n",
    "    pd.DataFrame({'variant_mp_score': df['variant_mp_score'], 'source': 'Combined'}),\n",
    "    pd.DataFrame({'variant_mp_score': braf_df['variant_mp_score'], 'source': 'BRAF'}),\n",
    "    pd.DataFrame({'variant_mp_score': not_braf_df['variant_mp_score'], 'source': 'All Other'})\n",
    "])\n",
    "\n",
    "# Create a horizontal box plot with both datasets\n",
    "fig = px.box(combined_df, x='variant_mp_score', color='source', title='Box and Whisker Plot of BRAF and Other Variant MP Scores')\n",
    "\n",
    "# Update layout for better visuals\n",
    "fig.update_layout(\n",
    "    xaxis_title=\"Variant MP Score\",\n",
    "    boxmode='group'  # Shows the boxes side by side\n",
    ")\n",
    "\n",
    "# Show the plot\n",
    "fig.show()\n",
    "pio.write_image(fig, \"Var_mp_score_dist_BRAF_vs_Other.png\", format='png', width=1200, height=400, scale=5)"
   ]
  },
  {
   "cell_type": "markdown",
   "metadata": {},
   "source": [
    "### Fetch Combination Therapy Components\n",
    "Initial query grabbed just the Combo therapy ID. This additional query takes the ctid from each row and just quickly grabs the associated properties to fill out the dataset."
   ]
  },
  {
   "cell_type": "code",
   "execution_count": 207,
   "metadata": {},
   "outputs": [],
   "source": [
    "\n",
    "def neo4j_query(combo_id):\n",
    "    # query for the specific therapy ID components\n",
    "    query_components = f\"\"\"\n",
    "    MATCH (c:CombinationTherapy)-[:HAS_COMPONENTS]-(t)\n",
    "    WHERE c.id = \\'{combo_id}\\'\n",
    "    RETURN properties(t) AS Therapeutic\n",
    "    \"\"\"\n",
    "\n",
    "    # Execute the query\n",
    "    result = execute_query(driver, query_components)\n",
    "\n",
    "    # Close the connection\n",
    "    driver.close()\n",
    "    return(result)\n",
    "\n"
   ]
  },
  {
   "cell_type": "code",
   "execution_count": 208,
   "metadata": {},
   "outputs": [
    {
     "name": "stderr",
     "output_type": "stream",
     "text": [
      "/var/folders/5t/sfw5tjx56m10xb861_pd3wfm0000gq/T/ipykernel_11898/1403308090.py:2: SettingWithCopyWarning:\n",
      "\n",
      "\n",
      "A value is trying to be set on a copy of a slice from a DataFrame.\n",
      "Try using .loc[row_indexer,col_indexer] = value instead\n",
      "\n",
      "See the caveats in the documentation: https://pandas.pydata.org/pandas-docs/stable/user_guide/indexing.html#returning-a-view-versus-a-copy\n",
      "\n",
      "/var/folders/5t/sfw5tjx56m10xb861_pd3wfm0000gq/T/ipykernel_11898/1451180034.py:10: DeprecationWarning:\n",
      "\n",
      "Using a driver after it has been closed is deprecated. Future versions of the driver will raise an error.\n",
      "\n",
      "/var/folders/5t/sfw5tjx56m10xb861_pd3wfm0000gq/T/ipykernel_11898/1451180034.py:10: DeprecationWarning:\n",
      "\n",
      "Using a driver after it has been closed is deprecated. Future versions of the driver will raise an error.\n",
      "\n",
      "/var/folders/5t/sfw5tjx56m10xb861_pd3wfm0000gq/T/ipykernel_11898/1403308090.py:2: SettingWithCopyWarning:\n",
      "\n",
      "\n",
      "A value is trying to be set on a copy of a slice from a DataFrame.\n",
      "Try using .loc[row_indexer,col_indexer] = value instead\n",
      "\n",
      "See the caveats in the documentation: https://pandas.pydata.org/pandas-docs/stable/user_guide/indexing.html#returning-a-view-versus-a-copy\n",
      "\n",
      "/var/folders/5t/sfw5tjx56m10xb861_pd3wfm0000gq/T/ipykernel_11898/1451180034.py:10: DeprecationWarning:\n",
      "\n",
      "Using a driver after it has been closed is deprecated. Future versions of the driver will raise an error.\n",
      "\n"
     ]
    }
   ],
   "source": [
    "def get_combination_therapies(tdf):\n",
    "    tdf['combination_components'] = None\n",
    "\n",
    "    for idx, row in tdf.iterrows():\n",
    "        result = neo4j_query(row['therapeutic_id'])\n",
    "        therapeutics = []\n",
    "        for record in result:\n",
    "            therapeutics.append(record['Therapeutic'].get('label', None))\n",
    "            tdf.at[idx, 'combination_components'] = therapeutics\n",
    "\n",
    "    for idx, row in tdf.iterrows():\n",
    "        if row['therapeutic_type'] == 'CombinationTherapy':\n",
    "            components = row['combination_components']\n",
    "            if components is not None:  # Check if components is not None\n",
    "                sorted_components = tuple(sorted(components))\n",
    "                tdf.at[idx, 'combination_components'] = sorted_components\n",
    "    return(tdf)\n",
    "\n",
    "braf_df = get_combination_therapies(braf_df)\n",
    "df = get_combination_therapies(df)\n",
    "not_braf_df = get_combination_therapies(not_braf_df)"
   ]
  },
  {
   "cell_type": "code",
   "execution_count": 209,
   "metadata": {},
   "outputs": [
    {
     "data": {
      "text/plain": [
       "combination_components\n",
       "(Cetuximab, Irinotecan)                              12\n",
       "(Dactolisib, Selumetinib)                             8\n",
       "(Lapatinib, Neratinib, Trastuzumab)                   4\n",
       "(Lapatinib, Trastuzumab)                              2\n",
       "(Adagrasib, Cetuximab)                                2\n",
       "(Cetuximab, Fluorouracil, Oxaliplatin)                2\n",
       "(Cetuximab, Irinotecan, Vemurafenib)                  2\n",
       "(Alpelisib, Fulvestrant)                              2\n",
       "(Azacitidine, Ivosidenib)                             2\n",
       "(Docetaxel, Selumetinib)                              2\n",
       "(Capivasertib, Trastuzumab)                           1\n",
       "(Durvalumab, Osimertinib)                             1\n",
       "(Daunorubicin, Sunitinib)                             1\n",
       "(Cytarabine, Sunitinib)                               1\n",
       "(Cetuximab, Dactolisib)                               1\n",
       "(Akt Inhibitor MK2206, Vemurafenib)                   1\n",
       "(Lometrexol, Mercaptopurine)                          1\n",
       "(Cisplatin, Pictilisib)                               1\n",
       "(Capivasertib, Lapatinib)                             1\n",
       "(Erlotinib, Pemetrexed)                               1\n",
       "(Dasatinib, Erlotinib)                                1\n",
       "(Capivasertib, PI3K/BET Inhibitor LY294002)           1\n",
       "(Cisplatin, Fluorouracil)                             1\n",
       "(Carboplatin, Paclitaxel)                             1\n",
       "(Letrozole, Palbociclib)                              1\n",
       "(Checkpoint Kinase Inhibitor AZD7762, Irinotecan)     1\n",
       "(Everolimus, Fulvestrant)                             1\n",
       "(Olaparib, Temozolomide)                              1\n",
       "(Fluorouracil, Leucovorin, Trastuzumab)               1\n",
       "(Binimetinib, Everolimus)                             1\n",
       "Name: count, dtype: int64"
      ]
     },
     "execution_count": 209,
     "metadata": {},
     "output_type": "execute_result"
    }
   ],
   "source": [
    "not_braf_df['combination_components'].value_counts()"
   ]
  },
  {
   "cell_type": "markdown",
   "metadata": {},
   "source": [
    "### Quantify & Graph Therapeutic Application across BRAF/Non-BRAF Variants\n",
    "While looking at all variant data in MetaKB that has an attached Therapeutic Application, quantify and graph the distribution of what therapeutic evidence is being applied where for BRAF vs non-BRAF variants"
   ]
  },
  {
   "cell_type": "code",
   "execution_count": 210,
   "metadata": {},
   "outputs": [],
   "source": []
  },
  {
   "cell_type": "code",
   "execution_count": 211,
   "metadata": {},
   "outputs": [
    {
     "data": {
      "text/plain": [
       "therapeutic_label\n",
       "Vemurafenib                52\n",
       "Trametinib                  9\n",
       "Dabrafenib                  5\n",
       "Encorafenib                 2\n",
       "U0126                       2\n",
       "Sorafenib                   2\n",
       "Panitumumab                 2\n",
       "Irinotecan                  2\n",
       "Oxaliplatin                 2\n",
       "Cetuximab                   2\n",
       "MEK Inhibitor REC-4881      1\n",
       "MEK Inhibitor RO4987655     1\n",
       "BRAF Inhibitor              1\n",
       "Pictilisib                  1\n",
       "Cobimetinib                 1\n",
       "Bleomycin                   1\n",
       "Tovorafenib                 1\n",
       "Name: count, dtype: int64"
      ]
     },
     "execution_count": 211,
     "metadata": {},
     "output_type": "execute_result"
    }
   ],
   "source": [
    "braf_df['therapeutic_label'].value_counts()"
   ]
  },
  {
   "cell_type": "code",
   "execution_count": 212,
   "metadata": {},
   "outputs": [
    {
     "data": {
      "text/plain": [
       "therapeutic_label\n",
       "Erlotinib                 59\n",
       "Imatinib                  43\n",
       "Cetuximab                 37\n",
       "Gefitinib                 31\n",
       "Pictilisib                30\n",
       "                          ..\n",
       "JAK2 Inhibitor AZD1480     1\n",
       "Patidegib                  1\n",
       "PD173074                   1\n",
       "AZD3463                    1\n",
       "Larotrectinib              1\n",
       "Name: count, Length: 113, dtype: int64"
      ]
     },
     "execution_count": 212,
     "metadata": {},
     "output_type": "execute_result"
    }
   ],
   "source": [
    "not_braf_df['therapeutic_label'].value_counts()"
   ]
  },
  {
   "cell_type": "code",
   "execution_count": 213,
   "metadata": {},
   "outputs": [
    {
     "name": "stdout",
     "output_type": "stream",
     "text": [
      "    therapeutic_label  braf_count  general_count  not_braf_count\n",
      "0            AGI-5198           0              2               2\n",
      "1             AZD3463           0              1               1\n",
      "2         Abemaciclib           0              1               1\n",
      "3           Adagrasib           0              2               2\n",
      "4            Afatinib           0             19              19\n",
      "..                ...         ...            ...             ...\n",
      "118             U0126           2              2               0\n",
      "119        Uprosertib           0              1               1\n",
      "120       Vemurafenib          52             71              19\n",
      "121        Venetoclax           0              4               4\n",
      "122        Vismodegib           0              4               4\n",
      "\n",
      "[123 rows x 4 columns]\n"
     ]
    }
   ],
   "source": [
    "# Perform value_counts on the 'therapeutic_label' column\n",
    "braf_counts = braf_df['therapeutic_label'].value_counts().rename_axis('therapeutic_label').reset_index(name='braf_count')\n",
    "df_counts = df['therapeutic_label'].value_counts().rename_axis('therapeutic_label').reset_index(name='general_count')\n",
    "not_braf_counts = not_braf_df['therapeutic_label'].value_counts().rename_axis('therapeutic_label').reset_index(name='not_braf_count')\n",
    "\n",
    "# Combine the three DataFrames into one\n",
    "combined_df = pd.merge(pd.merge(braf_counts, df_counts, on='therapeutic_label', how='outer'), not_braf_counts, on='therapeutic_label', how='outer').fillna(0)\n",
    "\n",
    "# Convert counts to integers (optional, in case NaNs were filled)\n",
    "combined_df[['braf_count', 'general_count', 'not_braf_count']] = combined_df[['braf_count', 'general_count', 'not_braf_count']].astype(int)\n",
    "\n",
    "# Display the combined DataFrame\n",
    "print(combined_df)\n"
   ]
  },
  {
   "cell_type": "code",
   "execution_count": 218,
   "metadata": {},
   "outputs": [
    {
     "data": {
      "application/vnd.plotly.v1+json": {
       "config": {
        "plotlyServerURL": "https://plot.ly"
       },
       "data": [
        {
         "alignmentgroup": "True",
         "hovertemplate": "Dataset=braf_count<br>therapeutic_label=%{x}<br>Count=%{y}<extra></extra>",
         "legendgroup": "braf_count",
         "marker": {
          "color": "#636efa",
          "pattern": {
           "shape": ""
          }
         },
         "name": "braf_count",
         "offsetgroup": "braf_count",
         "orientation": "v",
         "showlegend": true,
         "textposition": "auto",
         "type": "bar",
         "x": [
          "Vemurafenib",
          "Erlotinib",
          "Imatinib",
          "Cetuximab",
          "Pictilisib",
          "Gefitinib",
          "Selumetinib",
          "Dasatinib",
          "Sunitinib",
          "Osimertinib",
          "Afatinib",
          "Melphalan",
          "Regorafenib",
          "Crizotinib",
          "MDM2 Inhibitor AMGMDS3",
          "Panitumumab",
          "Trametinib",
          "Doxorubicin",
          "Bosutinib",
          "Nilotinib",
          "Lapatinib",
          "Neratinib",
          "Ivosidenib",
          "Trastuzumab Deruxtecan",
          "Ponatinib",
          "Sorafenib",
          "Dabrafenib",
          "Dacomitinib",
          "Trastuzumab",
          "Ceritinib",
          "Sirolimus",
          "Tazemetostat",
          "Ibrutinib",
          "Imatinib Mesylate",
          "Hormone Therapy",
          "Crenolanib",
          "Olaparib",
          "Olutasidenib",
          "Dactolisib",
          "PI-103",
          "Ruxolitinib",
          "Trastuzumab Emtansine",
          "Gilteritinib",
          "Venetoclax",
          "Vismodegib",
          "Erdafitinib",
          "Cisplatin",
          "Enasidenib",
          "Quizartinib",
          "Lorlatinib",
          "Rociletinib",
          "Avapritinib",
          "TAE684",
          "Temozolomide",
          "Everolimus",
          "Midostaurin",
          "Pembrolizumab",
          "Cytarabine",
          "PU-H71",
          "Fluorouracil",
          "Pazopanib",
          "PF-06747775",
          "Oxaliplatin",
          "Palbociclib",
          "Capivasertib",
          "EGF816",
          "Cabozantinib",
          "Sotorasib",
          "Apitolisib",
          "Akt Inhibitor MK2206",
          "U0126",
          "Adagrasib",
          "Canertinib",
          "AGI-5198",
          "Irinotecan",
          "LOXO-292",
          "Encorafenib",
          "Motesanib",
          "Lestaurtinib",
          "Izorlisib",
          "Olmutinib",
          "Epidermal Growth Factor Receptor Tyrosine Kinase Inhibitor",
          "Staurosporine",
          "Aromatase Inhibitor",
          "JAK2 Inhibitor AZD1480",
          "Tandutinib",
          "Tanespimycin",
          "Taselisib",
          "Therapeutic Tumor Infiltrating Lymphocytes",
          "Bleomycin",
          "Tovorafenib",
          "Amrubicin",
          "Alpelisib",
          "Alectinib",
          "FLT3/ABL/Aurora Kinase Inhibitor KW-2449",
          "Idelalisib",
          "Uprosertib",
          "Fedratinib",
          "Abemaciclib",
          "BRAF Inhibitor",
          "Savolitinib",
          "Selpercatinib",
          "Dordaviprone",
          "Omacetaxine",
          "Divarasib",
          "PD173074",
          "Entrectinib",
          "PLX4720",
          "Meloxicam",
          "MTOR Kinase Inhibitor AZD8055",
          "Cobimetinib",
          "Patidegib",
          "MTOR Inhibitor",
          "Peginterferon Alfa-2b",
          "MK-2206",
          "Pemigatinib",
          "MEK Inhibitor RO4987655",
          "MEK Inhibitor REC-4881",
          "AZD3463",
          "Letrozole",
          "Larotrectinib",
          "SU11274",
          "Futuximab/Modotuximab Mixture"
         ],
         "xaxis": "x",
         "y": [
          52,
          0,
          0,
          2,
          1,
          0,
          0,
          0,
          0,
          0,
          0,
          0,
          0,
          0,
          0,
          2,
          9,
          0,
          0,
          0,
          0,
          0,
          0,
          0,
          0,
          2,
          5,
          0,
          0,
          0,
          0,
          0,
          0,
          0,
          0,
          0,
          0,
          0,
          0,
          0,
          0,
          0,
          0,
          0,
          0,
          0,
          0,
          0,
          0,
          0,
          0,
          0,
          0,
          0,
          0,
          0,
          0,
          0,
          0,
          0,
          0,
          0,
          2,
          0,
          0,
          0,
          0,
          0,
          0,
          0,
          2,
          0,
          0,
          0,
          2,
          0,
          2,
          0,
          0,
          0,
          0,
          0,
          0,
          0,
          0,
          0,
          0,
          0,
          0,
          1,
          1,
          0,
          0,
          0,
          0,
          0,
          0,
          0,
          0,
          1,
          0,
          0,
          0,
          0,
          0,
          0,
          0,
          0,
          0,
          0,
          1,
          0,
          0,
          0,
          0,
          0,
          1,
          1,
          0,
          0,
          0,
          0,
          0
         ],
         "yaxis": "y"
        },
        {
         "alignmentgroup": "True",
         "hovertemplate": "Dataset=not_braf_count<br>therapeutic_label=%{x}<br>Count=%{y}<extra></extra>",
         "legendgroup": "not_braf_count",
         "marker": {
          "color": "#EF553B",
          "pattern": {
           "shape": ""
          }
         },
         "name": "not_braf_count",
         "offsetgroup": "not_braf_count",
         "orientation": "v",
         "showlegend": true,
         "textposition": "auto",
         "type": "bar",
         "x": [
          "Vemurafenib",
          "Erlotinib",
          "Imatinib",
          "Cetuximab",
          "Pictilisib",
          "Gefitinib",
          "Selumetinib",
          "Dasatinib",
          "Sunitinib",
          "Osimertinib",
          "Afatinib",
          "Melphalan",
          "Regorafenib",
          "Crizotinib",
          "MDM2 Inhibitor AMGMDS3",
          "Panitumumab",
          "Trametinib",
          "Doxorubicin",
          "Bosutinib",
          "Nilotinib",
          "Lapatinib",
          "Neratinib",
          "Ivosidenib",
          "Trastuzumab Deruxtecan",
          "Ponatinib",
          "Sorafenib",
          "Dabrafenib",
          "Dacomitinib",
          "Trastuzumab",
          "Ceritinib",
          "Sirolimus",
          "Tazemetostat",
          "Ibrutinib",
          "Imatinib Mesylate",
          "Hormone Therapy",
          "Crenolanib",
          "Olaparib",
          "Olutasidenib",
          "Dactolisib",
          "PI-103",
          "Ruxolitinib",
          "Trastuzumab Emtansine",
          "Gilteritinib",
          "Venetoclax",
          "Vismodegib",
          "Erdafitinib",
          "Cisplatin",
          "Enasidenib",
          "Quizartinib",
          "Lorlatinib",
          "Rociletinib",
          "Avapritinib",
          "TAE684",
          "Temozolomide",
          "Everolimus",
          "Midostaurin",
          "Pembrolizumab",
          "Cytarabine",
          "PU-H71",
          "Fluorouracil",
          "Pazopanib",
          "PF-06747775",
          "Oxaliplatin",
          "Palbociclib",
          "Capivasertib",
          "EGF816",
          "Cabozantinib",
          "Sotorasib",
          "Apitolisib",
          "Akt Inhibitor MK2206",
          "U0126",
          "Adagrasib",
          "Canertinib",
          "AGI-5198",
          "Irinotecan",
          "LOXO-292",
          "Encorafenib",
          "Motesanib",
          "Lestaurtinib",
          "Izorlisib",
          "Olmutinib",
          "Epidermal Growth Factor Receptor Tyrosine Kinase Inhibitor",
          "Staurosporine",
          "Aromatase Inhibitor",
          "JAK2 Inhibitor AZD1480",
          "Tandutinib",
          "Tanespimycin",
          "Taselisib",
          "Therapeutic Tumor Infiltrating Lymphocytes",
          "Bleomycin",
          "Tovorafenib",
          "Amrubicin",
          "Alpelisib",
          "Alectinib",
          "FLT3/ABL/Aurora Kinase Inhibitor KW-2449",
          "Idelalisib",
          "Uprosertib",
          "Fedratinib",
          "Abemaciclib",
          "BRAF Inhibitor",
          "Savolitinib",
          "Selpercatinib",
          "Dordaviprone",
          "Omacetaxine",
          "Divarasib",
          "PD173074",
          "Entrectinib",
          "PLX4720",
          "Meloxicam",
          "MTOR Kinase Inhibitor AZD8055",
          "Cobimetinib",
          "Patidegib",
          "MTOR Inhibitor",
          "Peginterferon Alfa-2b",
          "MK-2206",
          "Pemigatinib",
          "MEK Inhibitor RO4987655",
          "MEK Inhibitor REC-4881",
          "AZD3463",
          "Letrozole",
          "Larotrectinib",
          "SU11274",
          "Futuximab/Modotuximab Mixture"
         ],
         "xaxis": "x",
         "y": [
          19,
          59,
          43,
          37,
          30,
          31,
          24,
          23,
          20,
          20,
          19,
          16,
          15,
          14,
          14,
          11,
          3,
          12,
          12,
          12,
          11,
          11,
          10,
          9,
          9,
          6,
          2,
          7,
          7,
          6,
          6,
          6,
          6,
          5,
          5,
          5,
          5,
          5,
          5,
          5,
          5,
          5,
          5,
          4,
          4,
          4,
          4,
          3,
          3,
          3,
          3,
          3,
          3,
          3,
          3,
          3,
          3,
          2,
          2,
          2,
          2,
          2,
          0,
          2,
          2,
          2,
          2,
          2,
          2,
          2,
          0,
          2,
          2,
          2,
          0,
          2,
          0,
          2,
          2,
          2,
          1,
          1,
          1,
          1,
          1,
          1,
          1,
          1,
          1,
          0,
          0,
          1,
          1,
          1,
          1,
          1,
          1,
          1,
          1,
          0,
          1,
          1,
          1,
          1,
          1,
          1,
          1,
          1,
          1,
          1,
          0,
          1,
          1,
          1,
          1,
          1,
          0,
          0,
          1,
          1,
          1,
          1,
          1
         ],
         "yaxis": "y"
        }
       ],
       "layout": {
        "barmode": "stack",
        "legend": {
         "title": {
          "text": "Dataset"
         },
         "tracegroupgap": 0
        },
        "template": {
         "data": {
          "bar": [
           {
            "error_x": {
             "color": "#2a3f5f"
            },
            "error_y": {
             "color": "#2a3f5f"
            },
            "marker": {
             "line": {
              "color": "#E5ECF6",
              "width": 0.5
             },
             "pattern": {
              "fillmode": "overlay",
              "size": 10,
              "solidity": 0.2
             }
            },
            "type": "bar"
           }
          ],
          "barpolar": [
           {
            "marker": {
             "line": {
              "color": "#E5ECF6",
              "width": 0.5
             },
             "pattern": {
              "fillmode": "overlay",
              "size": 10,
              "solidity": 0.2
             }
            },
            "type": "barpolar"
           }
          ],
          "carpet": [
           {
            "aaxis": {
             "endlinecolor": "#2a3f5f",
             "gridcolor": "white",
             "linecolor": "white",
             "minorgridcolor": "white",
             "startlinecolor": "#2a3f5f"
            },
            "baxis": {
             "endlinecolor": "#2a3f5f",
             "gridcolor": "white",
             "linecolor": "white",
             "minorgridcolor": "white",
             "startlinecolor": "#2a3f5f"
            },
            "type": "carpet"
           }
          ],
          "choropleth": [
           {
            "colorbar": {
             "outlinewidth": 0,
             "ticks": ""
            },
            "type": "choropleth"
           }
          ],
          "contour": [
           {
            "colorbar": {
             "outlinewidth": 0,
             "ticks": ""
            },
            "colorscale": [
             [
              0,
              "#0d0887"
             ],
             [
              0.1111111111111111,
              "#46039f"
             ],
             [
              0.2222222222222222,
              "#7201a8"
             ],
             [
              0.3333333333333333,
              "#9c179e"
             ],
             [
              0.4444444444444444,
              "#bd3786"
             ],
             [
              0.5555555555555556,
              "#d8576b"
             ],
             [
              0.6666666666666666,
              "#ed7953"
             ],
             [
              0.7777777777777778,
              "#fb9f3a"
             ],
             [
              0.8888888888888888,
              "#fdca26"
             ],
             [
              1,
              "#f0f921"
             ]
            ],
            "type": "contour"
           }
          ],
          "contourcarpet": [
           {
            "colorbar": {
             "outlinewidth": 0,
             "ticks": ""
            },
            "type": "contourcarpet"
           }
          ],
          "heatmap": [
           {
            "colorbar": {
             "outlinewidth": 0,
             "ticks": ""
            },
            "colorscale": [
             [
              0,
              "#0d0887"
             ],
             [
              0.1111111111111111,
              "#46039f"
             ],
             [
              0.2222222222222222,
              "#7201a8"
             ],
             [
              0.3333333333333333,
              "#9c179e"
             ],
             [
              0.4444444444444444,
              "#bd3786"
             ],
             [
              0.5555555555555556,
              "#d8576b"
             ],
             [
              0.6666666666666666,
              "#ed7953"
             ],
             [
              0.7777777777777778,
              "#fb9f3a"
             ],
             [
              0.8888888888888888,
              "#fdca26"
             ],
             [
              1,
              "#f0f921"
             ]
            ],
            "type": "heatmap"
           }
          ],
          "heatmapgl": [
           {
            "colorbar": {
             "outlinewidth": 0,
             "ticks": ""
            },
            "colorscale": [
             [
              0,
              "#0d0887"
             ],
             [
              0.1111111111111111,
              "#46039f"
             ],
             [
              0.2222222222222222,
              "#7201a8"
             ],
             [
              0.3333333333333333,
              "#9c179e"
             ],
             [
              0.4444444444444444,
              "#bd3786"
             ],
             [
              0.5555555555555556,
              "#d8576b"
             ],
             [
              0.6666666666666666,
              "#ed7953"
             ],
             [
              0.7777777777777778,
              "#fb9f3a"
             ],
             [
              0.8888888888888888,
              "#fdca26"
             ],
             [
              1,
              "#f0f921"
             ]
            ],
            "type": "heatmapgl"
           }
          ],
          "histogram": [
           {
            "marker": {
             "pattern": {
              "fillmode": "overlay",
              "size": 10,
              "solidity": 0.2
             }
            },
            "type": "histogram"
           }
          ],
          "histogram2d": [
           {
            "colorbar": {
             "outlinewidth": 0,
             "ticks": ""
            },
            "colorscale": [
             [
              0,
              "#0d0887"
             ],
             [
              0.1111111111111111,
              "#46039f"
             ],
             [
              0.2222222222222222,
              "#7201a8"
             ],
             [
              0.3333333333333333,
              "#9c179e"
             ],
             [
              0.4444444444444444,
              "#bd3786"
             ],
             [
              0.5555555555555556,
              "#d8576b"
             ],
             [
              0.6666666666666666,
              "#ed7953"
             ],
             [
              0.7777777777777778,
              "#fb9f3a"
             ],
             [
              0.8888888888888888,
              "#fdca26"
             ],
             [
              1,
              "#f0f921"
             ]
            ],
            "type": "histogram2d"
           }
          ],
          "histogram2dcontour": [
           {
            "colorbar": {
             "outlinewidth": 0,
             "ticks": ""
            },
            "colorscale": [
             [
              0,
              "#0d0887"
             ],
             [
              0.1111111111111111,
              "#46039f"
             ],
             [
              0.2222222222222222,
              "#7201a8"
             ],
             [
              0.3333333333333333,
              "#9c179e"
             ],
             [
              0.4444444444444444,
              "#bd3786"
             ],
             [
              0.5555555555555556,
              "#d8576b"
             ],
             [
              0.6666666666666666,
              "#ed7953"
             ],
             [
              0.7777777777777778,
              "#fb9f3a"
             ],
             [
              0.8888888888888888,
              "#fdca26"
             ],
             [
              1,
              "#f0f921"
             ]
            ],
            "type": "histogram2dcontour"
           }
          ],
          "mesh3d": [
           {
            "colorbar": {
             "outlinewidth": 0,
             "ticks": ""
            },
            "type": "mesh3d"
           }
          ],
          "parcoords": [
           {
            "line": {
             "colorbar": {
              "outlinewidth": 0,
              "ticks": ""
             }
            },
            "type": "parcoords"
           }
          ],
          "pie": [
           {
            "automargin": true,
            "type": "pie"
           }
          ],
          "scatter": [
           {
            "fillpattern": {
             "fillmode": "overlay",
             "size": 10,
             "solidity": 0.2
            },
            "type": "scatter"
           }
          ],
          "scatter3d": [
           {
            "line": {
             "colorbar": {
              "outlinewidth": 0,
              "ticks": ""
             }
            },
            "marker": {
             "colorbar": {
              "outlinewidth": 0,
              "ticks": ""
             }
            },
            "type": "scatter3d"
           }
          ],
          "scattercarpet": [
           {
            "marker": {
             "colorbar": {
              "outlinewidth": 0,
              "ticks": ""
             }
            },
            "type": "scattercarpet"
           }
          ],
          "scattergeo": [
           {
            "marker": {
             "colorbar": {
              "outlinewidth": 0,
              "ticks": ""
             }
            },
            "type": "scattergeo"
           }
          ],
          "scattergl": [
           {
            "marker": {
             "colorbar": {
              "outlinewidth": 0,
              "ticks": ""
             }
            },
            "type": "scattergl"
           }
          ],
          "scattermapbox": [
           {
            "marker": {
             "colorbar": {
              "outlinewidth": 0,
              "ticks": ""
             }
            },
            "type": "scattermapbox"
           }
          ],
          "scatterpolar": [
           {
            "marker": {
             "colorbar": {
              "outlinewidth": 0,
              "ticks": ""
             }
            },
            "type": "scatterpolar"
           }
          ],
          "scatterpolargl": [
           {
            "marker": {
             "colorbar": {
              "outlinewidth": 0,
              "ticks": ""
             }
            },
            "type": "scatterpolargl"
           }
          ],
          "scatterternary": [
           {
            "marker": {
             "colorbar": {
              "outlinewidth": 0,
              "ticks": ""
             }
            },
            "type": "scatterternary"
           }
          ],
          "surface": [
           {
            "colorbar": {
             "outlinewidth": 0,
             "ticks": ""
            },
            "colorscale": [
             [
              0,
              "#0d0887"
             ],
             [
              0.1111111111111111,
              "#46039f"
             ],
             [
              0.2222222222222222,
              "#7201a8"
             ],
             [
              0.3333333333333333,
              "#9c179e"
             ],
             [
              0.4444444444444444,
              "#bd3786"
             ],
             [
              0.5555555555555556,
              "#d8576b"
             ],
             [
              0.6666666666666666,
              "#ed7953"
             ],
             [
              0.7777777777777778,
              "#fb9f3a"
             ],
             [
              0.8888888888888888,
              "#fdca26"
             ],
             [
              1,
              "#f0f921"
             ]
            ],
            "type": "surface"
           }
          ],
          "table": [
           {
            "cells": {
             "fill": {
              "color": "#EBF0F8"
             },
             "line": {
              "color": "white"
             }
            },
            "header": {
             "fill": {
              "color": "#C8D4E3"
             },
             "line": {
              "color": "white"
             }
            },
            "type": "table"
           }
          ]
         },
         "layout": {
          "annotationdefaults": {
           "arrowcolor": "#2a3f5f",
           "arrowhead": 0,
           "arrowwidth": 1
          },
          "autotypenumbers": "strict",
          "coloraxis": {
           "colorbar": {
            "outlinewidth": 0,
            "ticks": ""
           }
          },
          "colorscale": {
           "diverging": [
            [
             0,
             "#8e0152"
            ],
            [
             0.1,
             "#c51b7d"
            ],
            [
             0.2,
             "#de77ae"
            ],
            [
             0.3,
             "#f1b6da"
            ],
            [
             0.4,
             "#fde0ef"
            ],
            [
             0.5,
             "#f7f7f7"
            ],
            [
             0.6,
             "#e6f5d0"
            ],
            [
             0.7,
             "#b8e186"
            ],
            [
             0.8,
             "#7fbc41"
            ],
            [
             0.9,
             "#4d9221"
            ],
            [
             1,
             "#276419"
            ]
           ],
           "sequential": [
            [
             0,
             "#0d0887"
            ],
            [
             0.1111111111111111,
             "#46039f"
            ],
            [
             0.2222222222222222,
             "#7201a8"
            ],
            [
             0.3333333333333333,
             "#9c179e"
            ],
            [
             0.4444444444444444,
             "#bd3786"
            ],
            [
             0.5555555555555556,
             "#d8576b"
            ],
            [
             0.6666666666666666,
             "#ed7953"
            ],
            [
             0.7777777777777778,
             "#fb9f3a"
            ],
            [
             0.8888888888888888,
             "#fdca26"
            ],
            [
             1,
             "#f0f921"
            ]
           ],
           "sequentialminus": [
            [
             0,
             "#0d0887"
            ],
            [
             0.1111111111111111,
             "#46039f"
            ],
            [
             0.2222222222222222,
             "#7201a8"
            ],
            [
             0.3333333333333333,
             "#9c179e"
            ],
            [
             0.4444444444444444,
             "#bd3786"
            ],
            [
             0.5555555555555556,
             "#d8576b"
            ],
            [
             0.6666666666666666,
             "#ed7953"
            ],
            [
             0.7777777777777778,
             "#fb9f3a"
            ],
            [
             0.8888888888888888,
             "#fdca26"
            ],
            [
             1,
             "#f0f921"
            ]
           ]
          },
          "colorway": [
           "#636efa",
           "#EF553B",
           "#00cc96",
           "#ab63fa",
           "#FFA15A",
           "#19d3f3",
           "#FF6692",
           "#B6E880",
           "#FF97FF",
           "#FECB52"
          ],
          "font": {
           "color": "#2a3f5f"
          },
          "geo": {
           "bgcolor": "white",
           "lakecolor": "white",
           "landcolor": "#E5ECF6",
           "showlakes": true,
           "showland": true,
           "subunitcolor": "white"
          },
          "hoverlabel": {
           "align": "left"
          },
          "hovermode": "closest",
          "mapbox": {
           "style": "light"
          },
          "paper_bgcolor": "white",
          "plot_bgcolor": "#E5ECF6",
          "polar": {
           "angularaxis": {
            "gridcolor": "white",
            "linecolor": "white",
            "ticks": ""
           },
           "bgcolor": "#E5ECF6",
           "radialaxis": {
            "gridcolor": "white",
            "linecolor": "white",
            "ticks": ""
           }
          },
          "scene": {
           "xaxis": {
            "backgroundcolor": "#E5ECF6",
            "gridcolor": "white",
            "gridwidth": 2,
            "linecolor": "white",
            "showbackground": true,
            "ticks": "",
            "zerolinecolor": "white"
           },
           "yaxis": {
            "backgroundcolor": "#E5ECF6",
            "gridcolor": "white",
            "gridwidth": 2,
            "linecolor": "white",
            "showbackground": true,
            "ticks": "",
            "zerolinecolor": "white"
           },
           "zaxis": {
            "backgroundcolor": "#E5ECF6",
            "gridcolor": "white",
            "gridwidth": 2,
            "linecolor": "white",
            "showbackground": true,
            "ticks": "",
            "zerolinecolor": "white"
           }
          },
          "shapedefaults": {
           "line": {
            "color": "#2a3f5f"
           }
          },
          "ternary": {
           "aaxis": {
            "gridcolor": "white",
            "linecolor": "white",
            "ticks": ""
           },
           "baxis": {
            "gridcolor": "white",
            "linecolor": "white",
            "ticks": ""
           },
           "bgcolor": "#E5ECF6",
           "caxis": {
            "gridcolor": "white",
            "linecolor": "white",
            "ticks": ""
           }
          },
          "title": {
           "x": 0.05
          },
          "xaxis": {
           "automargin": true,
           "gridcolor": "white",
           "linecolor": "white",
           "ticks": "",
           "title": {
            "standoff": 15
           },
           "zerolinecolor": "white",
           "zerolinewidth": 2
          },
          "yaxis": {
           "automargin": true,
           "gridcolor": "white",
           "linecolor": "white",
           "ticks": "",
           "title": {
            "standoff": 15
           },
           "zerolinecolor": "white",
           "zerolinewidth": 2
          }
         }
        },
        "title": {
         "text": "Application of Therapeutic Evidence to Variants in MetaKB v2 (BRAF Variants vs All Others)"
        },
        "xaxis": {
         "anchor": "y",
         "domain": [
          0,
          1
         ],
         "title": {
          "text": "therapeutic_label"
         }
        },
        "yaxis": {
         "anchor": "x",
         "domain": [
          0,
          1
         ],
         "title": {
          "text": "Count"
         }
        }
       }
      }
     },
     "metadata": {},
     "output_type": "display_data"
    }
   ],
   "source": [
    "# Add a new column for the total counts\n",
    "combined_df['total_count'] = combined_df[['braf_count', 'general_count', 'not_braf_count']].sum(axis=1)\n",
    "\n",
    "# Sort the DataFrame by the total counts in ascending order\n",
    "sorted_df = combined_df.sort_values('total_count', ascending=False)\n",
    "\n",
    "# Create a bar plot for each therapeutic label count\n",
    "fig = px.bar(sorted_df, x='therapeutic_label', y=['braf_count', 'not_braf_count'], \n",
    "             title='Application of Therapeutic Evidence to Variants in MetaKB v2 (BRAF Variants vs All Others)',\n",
    "             labels={'value': 'Count', 'variable': 'Dataset'},\n",
    "             barmode='stack')\n",
    "\n",
    "# Show the figure\n",
    "fig.show()\n",
    "pio.write_image(fig, \"Application_of_Therapeutics_BRAF_vs_NonBRAF.png\", format='png', width=2000, height=500, scale=5)\n"
   ]
  },
  {
   "cell_type": "code",
   "execution_count": 221,
   "metadata": {},
   "outputs": [
    {
     "name": "stdout",
     "output_type": "stream",
     "text": [
      "                               combination_components  braf_count  \\\n",
      "0                              (Adagrasib, Cetuximab)           0   \n",
      "1                 (Akt Inhibitor MK2206, Vemurafenib)           0   \n",
      "2                            (Alpelisib, Fulvestrant)           0   \n",
      "3                           (Azacitidine, Ivosidenib)           0   \n",
      "4   (BRAF Inhibitor, Mitogen-Activated Protein Kin...           2   \n",
      "5            (Bevacizumab, Capecitabine, Oxaliplatin)           1   \n",
      "6            (Bevacizumab, Capecitabine, Vemurafenib)           1   \n",
      "7                           (Bevacizumab, Dabrafenib)           1   \n",
      "8               (Binimetinib, Cetuximab, Encorafenib)           2   \n",
      "9                          (Binimetinib, Encorafenib)           1   \n",
      "10                          (Binimetinib, Everolimus)           0   \n",
      "11                          (Capivasertib, Lapatinib)           0   \n",
      "12        (Capivasertib, PI3K/BET Inhibitor LY294002)           0   \n",
      "13                        (Capivasertib, Trastuzumab)           0   \n",
      "14                          (Carboplatin, Paclitaxel)           0   \n",
      "15                            (Cetuximab, Dactolisib)           0   \n",
      "16                           (Cetuximab, Encorafenib)           2   \n",
      "17             (Cetuximab, Fluorouracil, Oxaliplatin)           0   \n",
      "18                (Cetuximab, Gefitinib, Vemurafenib)           1   \n",
      "19                            (Cetuximab, Irinotecan)           2   \n",
      "20               (Cetuximab, Irinotecan, Vemurafenib)           2   \n",
      "21                           (Cetuximab, Vemurafenib)           1   \n",
      "22  (Checkpoint Kinase Inhibitor AZD7762, Irinotecan)           0   \n",
      "23                          (Cisplatin, Fluorouracil)           0   \n",
      "24                            (Cisplatin, Pictilisib)           0   \n",
      "25                         (Cobimetinib, Vemurafenib)           2   \n",
      "26                            (Cytarabine, Sunitinib)           0   \n",
      "27                           (Dabrafenib, Omipalisib)           1   \n",
      "28              (Dabrafenib, Panitumumab, Trametinib)           1   \n",
      "29                           (Dabrafenib, Trametinib)          24   \n",
      "30              (Dabrafenib, Trametinib, Vemurafenib)           1   \n",
      "31                             (Dactolisib, GDC-0879)           1   \n",
      "32                          (Dactolisib, Selumetinib)           1   \n",
      "33                             (Dasatinib, Erlotinib)           0   \n",
      "34                          (Daunorubicin, Sunitinib)           0   \n",
      "35                           (Docetaxel, Selumetinib)           0   \n",
      "36                          (Durvalumab, Osimertinib)           0   \n",
      "37                            (Erlotinib, Pemetrexed)           0   \n",
      "38                           (Erlotinib, Vemurafenib)           1   \n",
      "39                          (Everolimus, Fulvestrant)           0   \n",
      "40            (Fluorouracil, Leucovorin, Trastuzumab)           0   \n",
      "41                       (Interferon-alpha, Ixazomib)           1   \n",
      "42                          (Ipilimumab, Vemurafenib)           2   \n",
      "43                          (Irinotecan, Panitumumab)           1   \n",
      "44             (Irinotecan, Panitumumab, Vemurafenib)           1   \n",
      "45                (Lapatinib, Neratinib, Trastuzumab)           0   \n",
      "46                           (Lapatinib, Trastuzumab)           0   \n",
      "47                           (Letrozole, Palbociclib)           0   \n",
      "48                       (Lometrexol, Mercaptopurine)           0   \n",
      "49                           (Neratinib, Vemurafenib)           1   \n",
      "50                                (Nutlin-3, PLX4720)           1   \n",
      "51                           (Olaparib, Temozolomide)           0   \n",
      "52                  (PLX4720, Pictilisib Bismesylate)           1   \n",
      "53                           (Panitumumab, Sorafenib)           1   \n",
      "54                          (Panitumumab, Trametinib)           1   \n",
      "55                         (Panitumumab, Vemurafenib)           2   \n",
      "56                          (Pertuzumab, Vemurafenib)           1   \n",
      "57                          (Trametinib, Vemurafenib)           1   \n",
      "\n",
      "    general_count  not_braf_count  \n",
      "0               2               2  \n",
      "1               1               1  \n",
      "2               2               2  \n",
      "3               2               2  \n",
      "4               2               0  \n",
      "5               1               0  \n",
      "6               1               0  \n",
      "7               1               0  \n",
      "8               2               0  \n",
      "9               1               0  \n",
      "10              1               1  \n",
      "11              1               1  \n",
      "12              1               1  \n",
      "13              1               1  \n",
      "14              1               1  \n",
      "15              1               1  \n",
      "16              2               0  \n",
      "17              2               2  \n",
      "18              1               0  \n",
      "19             14              12  \n",
      "20              4               2  \n",
      "21              1               0  \n",
      "22              1               1  \n",
      "23              1               1  \n",
      "24              1               1  \n",
      "25              2               0  \n",
      "26              1               1  \n",
      "27              1               0  \n",
      "28              1               0  \n",
      "29             24               0  \n",
      "30              1               0  \n",
      "31              1               0  \n",
      "32              9               8  \n",
      "33              1               1  \n",
      "34              1               1  \n",
      "35              2               2  \n",
      "36              1               1  \n",
      "37              1               1  \n",
      "38              1               0  \n",
      "39              1               1  \n",
      "40              1               1  \n",
      "41              1               0  \n",
      "42              2               0  \n",
      "43              1               0  \n",
      "44              1               0  \n",
      "45              4               4  \n",
      "46              2               2  \n",
      "47              1               1  \n",
      "48              1               1  \n",
      "49              1               0  \n",
      "50              1               0  \n",
      "51              1               1  \n",
      "52              1               0  \n",
      "53              1               0  \n",
      "54              1               0  \n",
      "55              2               0  \n",
      "56              1               0  \n",
      "57              1               0  \n"
     ]
    }
   ],
   "source": [
    "# Perform value_counts on the 'therapeutic_label' column\n",
    "braf_counts = braf_df['combination_components'].value_counts().rename_axis('combination_components').reset_index(name='braf_count')\n",
    "df_counts = df['combination_components'].value_counts().rename_axis('combination_components').reset_index(name='general_count')\n",
    "not_braf_counts = not_braf_df['combination_components'].value_counts().rename_axis('combination_components').reset_index(name='not_braf_count')\n",
    "\n",
    "# Combine the three DataFrames into one\n",
    "combined_df = pd.merge(pd.merge(braf_counts, df_counts, on='combination_components', how='outer'), not_braf_counts, on='combination_components', how='outer').fillna(0)\n",
    "\n",
    "# Convert counts to integers (optional, in case NaNs were filled)\n",
    "combined_df[['braf_count', 'general_count', 'not_braf_count']] = combined_df[['braf_count', 'general_count', 'not_braf_count']].astype(int)\n",
    "\n",
    "# Display the combined DataFrame\n",
    "print(combined_df)\n"
   ]
  },
  {
   "cell_type": "code",
   "execution_count": 225,
   "metadata": {},
   "outputs": [
    {
     "data": {
      "application/vnd.plotly.v1+json": {
       "config": {
        "plotlyServerURL": "https://plot.ly"
       },
       "data": [
        {
         "alignmentgroup": "True",
         "hovertemplate": "Dataset=braf_count<br>Labels=%{x}<br>Count=%{y}<extra></extra>",
         "legendgroup": "braf_count",
         "marker": {
          "color": "#636efa",
          "pattern": {
           "shape": ""
          }
         },
         "name": "braf_count",
         "offsetgroup": "braf_count",
         "orientation": "v",
         "showlegend": true,
         "textposition": "auto",
         "type": "bar",
         "x": [
          "('Dabrafenib', 'Trametinib')",
          "('Cetuximab', 'Irinotecan')",
          "('Dactolisib', 'Selumetinib')",
          "('Lapatinib', 'Neratinib', 'Trastuzumab')",
          "('Cetuximab', 'Irinotecan', 'Vemurafenib')",
          "('Cetuximab', 'Encorafenib')",
          "('Panitumumab', 'Vemurafenib')",
          "('Lapatinib', 'Trastuzumab')",
          "('Ipilimumab', 'Vemurafenib')",
          "('Docetaxel', 'Selumetinib')",
          "('Cobimetinib', 'Vemurafenib')",
          "('Cetuximab', 'Fluorouracil', 'Oxaliplatin')",
          "('Adagrasib', 'Cetuximab')",
          "('Binimetinib', 'Cetuximab', 'Encorafenib')",
          "('Alpelisib', 'Fulvestrant')",
          "('BRAF Inhibitor', 'Mitogen-Activated Protein Kinase Kinase Inhibitor')",
          "('Azacitidine', 'Ivosidenib')",
          "('Capivasertib', 'Trastuzumab')",
          "('Erlotinib', 'Vemurafenib')",
          "('Everolimus', 'Fulvestrant')",
          "('Fluorouracil', 'Leucovorin', 'Trastuzumab')",
          "('Interferon-alpha', 'Ixazomib')",
          "('Bevacizumab', 'Capecitabine', 'Oxaliplatin')",
          "('Irinotecan', 'Panitumumab')",
          "('Irinotecan', 'Panitumumab', 'Vemurafenib')",
          "('Letrozole', 'Palbociclib')",
          "('Durvalumab', 'Osimertinib')",
          "('Lometrexol', 'Mercaptopurine')",
          "('Neratinib', 'Vemurafenib')",
          "('Nutlin-3', 'PLX4720')",
          "('Olaparib', 'Temozolomide')",
          "('PLX4720', 'Pictilisib Bismesylate')",
          "('Panitumumab', 'Sorafenib')",
          "('Panitumumab', 'Trametinib')",
          "('Pertuzumab', 'Vemurafenib')",
          "('Erlotinib', 'Pemetrexed')",
          "('Bevacizumab', 'Capecitabine', 'Vemurafenib')",
          "('Carboplatin', 'Paclitaxel')",
          "('Cisplatin', 'Fluorouracil')",
          "('Cetuximab', 'Dactolisib')",
          "('Capivasertib', 'PI3K/BET Inhibitor LY294002')",
          "('Capivasertib', 'Lapatinib')",
          "('Cetuximab', 'Gefitinib', 'Vemurafenib')",
          "('Binimetinib', 'Everolimus')",
          "('Binimetinib', 'Encorafenib')",
          "('Cetuximab', 'Vemurafenib')",
          "('Checkpoint Kinase Inhibitor AZD7762', 'Irinotecan')",
          "('Cisplatin', 'Pictilisib')",
          "('Daunorubicin', 'Sunitinib')",
          "('Cytarabine', 'Sunitinib')",
          "('Dabrafenib', 'Omipalisib')",
          "('Dabrafenib', 'Panitumumab', 'Trametinib')",
          "('Akt Inhibitor MK2206', 'Vemurafenib')",
          "('Dabrafenib', 'Trametinib', 'Vemurafenib')",
          "('Dactolisib', 'GDC-0879')",
          "('Bevacizumab', 'Dabrafenib')",
          "('Dasatinib', 'Erlotinib')",
          "('Trametinib', 'Vemurafenib')"
         ],
         "xaxis": "x",
         "y": [
          24,
          2,
          1,
          0,
          2,
          2,
          2,
          0,
          2,
          0,
          2,
          0,
          0,
          2,
          0,
          2,
          0,
          0,
          1,
          0,
          0,
          1,
          1,
          1,
          1,
          0,
          0,
          0,
          1,
          1,
          0,
          1,
          1,
          1,
          1,
          0,
          1,
          0,
          0,
          0,
          0,
          0,
          1,
          0,
          1,
          1,
          0,
          0,
          0,
          0,
          1,
          1,
          0,
          1,
          1,
          1,
          0,
          1
         ],
         "yaxis": "y"
        },
        {
         "alignmentgroup": "True",
         "hovertemplate": "Dataset=not_braf_count<br>Labels=%{x}<br>Count=%{y}<extra></extra>",
         "legendgroup": "not_braf_count",
         "marker": {
          "color": "#EF553B",
          "pattern": {
           "shape": ""
          }
         },
         "name": "not_braf_count",
         "offsetgroup": "not_braf_count",
         "orientation": "v",
         "showlegend": true,
         "textposition": "auto",
         "type": "bar",
         "x": [
          "('Dabrafenib', 'Trametinib')",
          "('Cetuximab', 'Irinotecan')",
          "('Dactolisib', 'Selumetinib')",
          "('Lapatinib', 'Neratinib', 'Trastuzumab')",
          "('Cetuximab', 'Irinotecan', 'Vemurafenib')",
          "('Cetuximab', 'Encorafenib')",
          "('Panitumumab', 'Vemurafenib')",
          "('Lapatinib', 'Trastuzumab')",
          "('Ipilimumab', 'Vemurafenib')",
          "('Docetaxel', 'Selumetinib')",
          "('Cobimetinib', 'Vemurafenib')",
          "('Cetuximab', 'Fluorouracil', 'Oxaliplatin')",
          "('Adagrasib', 'Cetuximab')",
          "('Binimetinib', 'Cetuximab', 'Encorafenib')",
          "('Alpelisib', 'Fulvestrant')",
          "('BRAF Inhibitor', 'Mitogen-Activated Protein Kinase Kinase Inhibitor')",
          "('Azacitidine', 'Ivosidenib')",
          "('Capivasertib', 'Trastuzumab')",
          "('Erlotinib', 'Vemurafenib')",
          "('Everolimus', 'Fulvestrant')",
          "('Fluorouracil', 'Leucovorin', 'Trastuzumab')",
          "('Interferon-alpha', 'Ixazomib')",
          "('Bevacizumab', 'Capecitabine', 'Oxaliplatin')",
          "('Irinotecan', 'Panitumumab')",
          "('Irinotecan', 'Panitumumab', 'Vemurafenib')",
          "('Letrozole', 'Palbociclib')",
          "('Durvalumab', 'Osimertinib')",
          "('Lometrexol', 'Mercaptopurine')",
          "('Neratinib', 'Vemurafenib')",
          "('Nutlin-3', 'PLX4720')",
          "('Olaparib', 'Temozolomide')",
          "('PLX4720', 'Pictilisib Bismesylate')",
          "('Panitumumab', 'Sorafenib')",
          "('Panitumumab', 'Trametinib')",
          "('Pertuzumab', 'Vemurafenib')",
          "('Erlotinib', 'Pemetrexed')",
          "('Bevacizumab', 'Capecitabine', 'Vemurafenib')",
          "('Carboplatin', 'Paclitaxel')",
          "('Cisplatin', 'Fluorouracil')",
          "('Cetuximab', 'Dactolisib')",
          "('Capivasertib', 'PI3K/BET Inhibitor LY294002')",
          "('Capivasertib', 'Lapatinib')",
          "('Cetuximab', 'Gefitinib', 'Vemurafenib')",
          "('Binimetinib', 'Everolimus')",
          "('Binimetinib', 'Encorafenib')",
          "('Cetuximab', 'Vemurafenib')",
          "('Checkpoint Kinase Inhibitor AZD7762', 'Irinotecan')",
          "('Cisplatin', 'Pictilisib')",
          "('Daunorubicin', 'Sunitinib')",
          "('Cytarabine', 'Sunitinib')",
          "('Dabrafenib', 'Omipalisib')",
          "('Dabrafenib', 'Panitumumab', 'Trametinib')",
          "('Akt Inhibitor MK2206', 'Vemurafenib')",
          "('Dabrafenib', 'Trametinib', 'Vemurafenib')",
          "('Dactolisib', 'GDC-0879')",
          "('Bevacizumab', 'Dabrafenib')",
          "('Dasatinib', 'Erlotinib')",
          "('Trametinib', 'Vemurafenib')"
         ],
         "xaxis": "x",
         "y": [
          0,
          12,
          8,
          4,
          2,
          0,
          0,
          2,
          0,
          2,
          0,
          2,
          2,
          0,
          2,
          0,
          2,
          1,
          0,
          1,
          1,
          0,
          0,
          0,
          0,
          1,
          1,
          1,
          0,
          0,
          1,
          0,
          0,
          0,
          0,
          1,
          0,
          1,
          1,
          1,
          1,
          1,
          0,
          1,
          0,
          0,
          1,
          1,
          1,
          1,
          0,
          0,
          1,
          0,
          0,
          0,
          1,
          0
         ],
         "yaxis": "y"
        }
       ],
       "layout": {
        "barmode": "stack",
        "legend": {
         "title": {
          "text": "Dataset"
         },
         "tracegroupgap": 0
        },
        "template": {
         "data": {
          "bar": [
           {
            "error_x": {
             "color": "#2a3f5f"
            },
            "error_y": {
             "color": "#2a3f5f"
            },
            "marker": {
             "line": {
              "color": "#E5ECF6",
              "width": 0.5
             },
             "pattern": {
              "fillmode": "overlay",
              "size": 10,
              "solidity": 0.2
             }
            },
            "type": "bar"
           }
          ],
          "barpolar": [
           {
            "marker": {
             "line": {
              "color": "#E5ECF6",
              "width": 0.5
             },
             "pattern": {
              "fillmode": "overlay",
              "size": 10,
              "solidity": 0.2
             }
            },
            "type": "barpolar"
           }
          ],
          "carpet": [
           {
            "aaxis": {
             "endlinecolor": "#2a3f5f",
             "gridcolor": "white",
             "linecolor": "white",
             "minorgridcolor": "white",
             "startlinecolor": "#2a3f5f"
            },
            "baxis": {
             "endlinecolor": "#2a3f5f",
             "gridcolor": "white",
             "linecolor": "white",
             "minorgridcolor": "white",
             "startlinecolor": "#2a3f5f"
            },
            "type": "carpet"
           }
          ],
          "choropleth": [
           {
            "colorbar": {
             "outlinewidth": 0,
             "ticks": ""
            },
            "type": "choropleth"
           }
          ],
          "contour": [
           {
            "colorbar": {
             "outlinewidth": 0,
             "ticks": ""
            },
            "colorscale": [
             [
              0,
              "#0d0887"
             ],
             [
              0.1111111111111111,
              "#46039f"
             ],
             [
              0.2222222222222222,
              "#7201a8"
             ],
             [
              0.3333333333333333,
              "#9c179e"
             ],
             [
              0.4444444444444444,
              "#bd3786"
             ],
             [
              0.5555555555555556,
              "#d8576b"
             ],
             [
              0.6666666666666666,
              "#ed7953"
             ],
             [
              0.7777777777777778,
              "#fb9f3a"
             ],
             [
              0.8888888888888888,
              "#fdca26"
             ],
             [
              1,
              "#f0f921"
             ]
            ],
            "type": "contour"
           }
          ],
          "contourcarpet": [
           {
            "colorbar": {
             "outlinewidth": 0,
             "ticks": ""
            },
            "type": "contourcarpet"
           }
          ],
          "heatmap": [
           {
            "colorbar": {
             "outlinewidth": 0,
             "ticks": ""
            },
            "colorscale": [
             [
              0,
              "#0d0887"
             ],
             [
              0.1111111111111111,
              "#46039f"
             ],
             [
              0.2222222222222222,
              "#7201a8"
             ],
             [
              0.3333333333333333,
              "#9c179e"
             ],
             [
              0.4444444444444444,
              "#bd3786"
             ],
             [
              0.5555555555555556,
              "#d8576b"
             ],
             [
              0.6666666666666666,
              "#ed7953"
             ],
             [
              0.7777777777777778,
              "#fb9f3a"
             ],
             [
              0.8888888888888888,
              "#fdca26"
             ],
             [
              1,
              "#f0f921"
             ]
            ],
            "type": "heatmap"
           }
          ],
          "heatmapgl": [
           {
            "colorbar": {
             "outlinewidth": 0,
             "ticks": ""
            },
            "colorscale": [
             [
              0,
              "#0d0887"
             ],
             [
              0.1111111111111111,
              "#46039f"
             ],
             [
              0.2222222222222222,
              "#7201a8"
             ],
             [
              0.3333333333333333,
              "#9c179e"
             ],
             [
              0.4444444444444444,
              "#bd3786"
             ],
             [
              0.5555555555555556,
              "#d8576b"
             ],
             [
              0.6666666666666666,
              "#ed7953"
             ],
             [
              0.7777777777777778,
              "#fb9f3a"
             ],
             [
              0.8888888888888888,
              "#fdca26"
             ],
             [
              1,
              "#f0f921"
             ]
            ],
            "type": "heatmapgl"
           }
          ],
          "histogram": [
           {
            "marker": {
             "pattern": {
              "fillmode": "overlay",
              "size": 10,
              "solidity": 0.2
             }
            },
            "type": "histogram"
           }
          ],
          "histogram2d": [
           {
            "colorbar": {
             "outlinewidth": 0,
             "ticks": ""
            },
            "colorscale": [
             [
              0,
              "#0d0887"
             ],
             [
              0.1111111111111111,
              "#46039f"
             ],
             [
              0.2222222222222222,
              "#7201a8"
             ],
             [
              0.3333333333333333,
              "#9c179e"
             ],
             [
              0.4444444444444444,
              "#bd3786"
             ],
             [
              0.5555555555555556,
              "#d8576b"
             ],
             [
              0.6666666666666666,
              "#ed7953"
             ],
             [
              0.7777777777777778,
              "#fb9f3a"
             ],
             [
              0.8888888888888888,
              "#fdca26"
             ],
             [
              1,
              "#f0f921"
             ]
            ],
            "type": "histogram2d"
           }
          ],
          "histogram2dcontour": [
           {
            "colorbar": {
             "outlinewidth": 0,
             "ticks": ""
            },
            "colorscale": [
             [
              0,
              "#0d0887"
             ],
             [
              0.1111111111111111,
              "#46039f"
             ],
             [
              0.2222222222222222,
              "#7201a8"
             ],
             [
              0.3333333333333333,
              "#9c179e"
             ],
             [
              0.4444444444444444,
              "#bd3786"
             ],
             [
              0.5555555555555556,
              "#d8576b"
             ],
             [
              0.6666666666666666,
              "#ed7953"
             ],
             [
              0.7777777777777778,
              "#fb9f3a"
             ],
             [
              0.8888888888888888,
              "#fdca26"
             ],
             [
              1,
              "#f0f921"
             ]
            ],
            "type": "histogram2dcontour"
           }
          ],
          "mesh3d": [
           {
            "colorbar": {
             "outlinewidth": 0,
             "ticks": ""
            },
            "type": "mesh3d"
           }
          ],
          "parcoords": [
           {
            "line": {
             "colorbar": {
              "outlinewidth": 0,
              "ticks": ""
             }
            },
            "type": "parcoords"
           }
          ],
          "pie": [
           {
            "automargin": true,
            "type": "pie"
           }
          ],
          "scatter": [
           {
            "fillpattern": {
             "fillmode": "overlay",
             "size": 10,
             "solidity": 0.2
            },
            "type": "scatter"
           }
          ],
          "scatter3d": [
           {
            "line": {
             "colorbar": {
              "outlinewidth": 0,
              "ticks": ""
             }
            },
            "marker": {
             "colorbar": {
              "outlinewidth": 0,
              "ticks": ""
             }
            },
            "type": "scatter3d"
           }
          ],
          "scattercarpet": [
           {
            "marker": {
             "colorbar": {
              "outlinewidth": 0,
              "ticks": ""
             }
            },
            "type": "scattercarpet"
           }
          ],
          "scattergeo": [
           {
            "marker": {
             "colorbar": {
              "outlinewidth": 0,
              "ticks": ""
             }
            },
            "type": "scattergeo"
           }
          ],
          "scattergl": [
           {
            "marker": {
             "colorbar": {
              "outlinewidth": 0,
              "ticks": ""
             }
            },
            "type": "scattergl"
           }
          ],
          "scattermapbox": [
           {
            "marker": {
             "colorbar": {
              "outlinewidth": 0,
              "ticks": ""
             }
            },
            "type": "scattermapbox"
           }
          ],
          "scatterpolar": [
           {
            "marker": {
             "colorbar": {
              "outlinewidth": 0,
              "ticks": ""
             }
            },
            "type": "scatterpolar"
           }
          ],
          "scatterpolargl": [
           {
            "marker": {
             "colorbar": {
              "outlinewidth": 0,
              "ticks": ""
             }
            },
            "type": "scatterpolargl"
           }
          ],
          "scatterternary": [
           {
            "marker": {
             "colorbar": {
              "outlinewidth": 0,
              "ticks": ""
             }
            },
            "type": "scatterternary"
           }
          ],
          "surface": [
           {
            "colorbar": {
             "outlinewidth": 0,
             "ticks": ""
            },
            "colorscale": [
             [
              0,
              "#0d0887"
             ],
             [
              0.1111111111111111,
              "#46039f"
             ],
             [
              0.2222222222222222,
              "#7201a8"
             ],
             [
              0.3333333333333333,
              "#9c179e"
             ],
             [
              0.4444444444444444,
              "#bd3786"
             ],
             [
              0.5555555555555556,
              "#d8576b"
             ],
             [
              0.6666666666666666,
              "#ed7953"
             ],
             [
              0.7777777777777778,
              "#fb9f3a"
             ],
             [
              0.8888888888888888,
              "#fdca26"
             ],
             [
              1,
              "#f0f921"
             ]
            ],
            "type": "surface"
           }
          ],
          "table": [
           {
            "cells": {
             "fill": {
              "color": "#EBF0F8"
             },
             "line": {
              "color": "white"
             }
            },
            "header": {
             "fill": {
              "color": "#C8D4E3"
             },
             "line": {
              "color": "white"
             }
            },
            "type": "table"
           }
          ]
         },
         "layout": {
          "annotationdefaults": {
           "arrowcolor": "#2a3f5f",
           "arrowhead": 0,
           "arrowwidth": 1
          },
          "autotypenumbers": "strict",
          "coloraxis": {
           "colorbar": {
            "outlinewidth": 0,
            "ticks": ""
           }
          },
          "colorscale": {
           "diverging": [
            [
             0,
             "#8e0152"
            ],
            [
             0.1,
             "#c51b7d"
            ],
            [
             0.2,
             "#de77ae"
            ],
            [
             0.3,
             "#f1b6da"
            ],
            [
             0.4,
             "#fde0ef"
            ],
            [
             0.5,
             "#f7f7f7"
            ],
            [
             0.6,
             "#e6f5d0"
            ],
            [
             0.7,
             "#b8e186"
            ],
            [
             0.8,
             "#7fbc41"
            ],
            [
             0.9,
             "#4d9221"
            ],
            [
             1,
             "#276419"
            ]
           ],
           "sequential": [
            [
             0,
             "#0d0887"
            ],
            [
             0.1111111111111111,
             "#46039f"
            ],
            [
             0.2222222222222222,
             "#7201a8"
            ],
            [
             0.3333333333333333,
             "#9c179e"
            ],
            [
             0.4444444444444444,
             "#bd3786"
            ],
            [
             0.5555555555555556,
             "#d8576b"
            ],
            [
             0.6666666666666666,
             "#ed7953"
            ],
            [
             0.7777777777777778,
             "#fb9f3a"
            ],
            [
             0.8888888888888888,
             "#fdca26"
            ],
            [
             1,
             "#f0f921"
            ]
           ],
           "sequentialminus": [
            [
             0,
             "#0d0887"
            ],
            [
             0.1111111111111111,
             "#46039f"
            ],
            [
             0.2222222222222222,
             "#7201a8"
            ],
            [
             0.3333333333333333,
             "#9c179e"
            ],
            [
             0.4444444444444444,
             "#bd3786"
            ],
            [
             0.5555555555555556,
             "#d8576b"
            ],
            [
             0.6666666666666666,
             "#ed7953"
            ],
            [
             0.7777777777777778,
             "#fb9f3a"
            ],
            [
             0.8888888888888888,
             "#fdca26"
            ],
            [
             1,
             "#f0f921"
            ]
           ]
          },
          "colorway": [
           "#636efa",
           "#EF553B",
           "#00cc96",
           "#ab63fa",
           "#FFA15A",
           "#19d3f3",
           "#FF6692",
           "#B6E880",
           "#FF97FF",
           "#FECB52"
          ],
          "font": {
           "color": "#2a3f5f"
          },
          "geo": {
           "bgcolor": "white",
           "lakecolor": "white",
           "landcolor": "#E5ECF6",
           "showlakes": true,
           "showland": true,
           "subunitcolor": "white"
          },
          "hoverlabel": {
           "align": "left"
          },
          "hovermode": "closest",
          "mapbox": {
           "style": "light"
          },
          "paper_bgcolor": "white",
          "plot_bgcolor": "#E5ECF6",
          "polar": {
           "angularaxis": {
            "gridcolor": "white",
            "linecolor": "white",
            "ticks": ""
           },
           "bgcolor": "#E5ECF6",
           "radialaxis": {
            "gridcolor": "white",
            "linecolor": "white",
            "ticks": ""
           }
          },
          "scene": {
           "xaxis": {
            "backgroundcolor": "#E5ECF6",
            "gridcolor": "white",
            "gridwidth": 2,
            "linecolor": "white",
            "showbackground": true,
            "ticks": "",
            "zerolinecolor": "white"
           },
           "yaxis": {
            "backgroundcolor": "#E5ECF6",
            "gridcolor": "white",
            "gridwidth": 2,
            "linecolor": "white",
            "showbackground": true,
            "ticks": "",
            "zerolinecolor": "white"
           },
           "zaxis": {
            "backgroundcolor": "#E5ECF6",
            "gridcolor": "white",
            "gridwidth": 2,
            "linecolor": "white",
            "showbackground": true,
            "ticks": "",
            "zerolinecolor": "white"
           }
          },
          "shapedefaults": {
           "line": {
            "color": "#2a3f5f"
           }
          },
          "ternary": {
           "aaxis": {
            "gridcolor": "white",
            "linecolor": "white",
            "ticks": ""
           },
           "baxis": {
            "gridcolor": "white",
            "linecolor": "white",
            "ticks": ""
           },
           "bgcolor": "#E5ECF6",
           "caxis": {
            "gridcolor": "white",
            "linecolor": "white",
            "ticks": ""
           }
          },
          "title": {
           "x": 0.05
          },
          "xaxis": {
           "automargin": true,
           "gridcolor": "white",
           "linecolor": "white",
           "ticks": "",
           "title": {
            "standoff": 15
           },
           "zerolinecolor": "white",
           "zerolinewidth": 2
          },
          "yaxis": {
           "automargin": true,
           "gridcolor": "white",
           "linecolor": "white",
           "ticks": "",
           "title": {
            "standoff": 15
           },
           "zerolinecolor": "white",
           "zerolinewidth": 2
          }
         }
        },
        "title": {
         "text": "Application of Combination Therapeutics to Variant Evidence in MetaKB v2 (BRAF vs All Other)"
        },
        "xaxis": {
         "anchor": "y",
         "domain": [
          0,
          1
         ],
         "title": {
          "text": "Labels"
         }
        },
        "yaxis": {
         "anchor": "x",
         "domain": [
          0,
          1
         ],
         "title": {
          "text": "Count"
         }
        }
       }
      }
     },
     "metadata": {},
     "output_type": "display_data"
    }
   ],
   "source": [
    "# Add a new column for the total counts\n",
    "combined_df['total_count'] = combined_df[['braf_count', 'general_count', 'not_braf_count']].sum(axis=1)\n",
    "\n",
    "# Sort the DataFrame by the total counts in ascending order\n",
    "sorted_df = combined_df.sort_values('total_count', ascending=False)\n",
    "sorted_df['Labels'] = sorted_df['combination_components'].apply(lambda x: str(x))\n",
    "\n",
    "# Create a bar plot for each therapeutic label count\n",
    "fig = px.bar(sorted_df, x='Labels', y=['braf_count', 'not_braf_count'], \n",
    "             title='Application of Combination Therapeutics to Variant Evidence in MetaKB v2 (BRAF vs All Other)',\n",
    "             labels={'value': 'Count', 'variable': 'Dataset'},\n",
    "             barmode='stack')\n",
    "\n",
    "# Show the figure\n",
    "fig.show()\n",
    "pio.write_image(fig, \"Application_of_Combo_Therap_BRAF_vs_NonBRAF.png\", format='png', width=2000, height=500, scale=5)\n"
   ]
  },
  {
   "cell_type": "code",
   "execution_count": 227,
   "metadata": {},
   "outputs": [
    {
     "data": {
      "text/plain": [
       "{'count': [62, 58], 'category': ['BRAF', 'Not BRAF']}"
      ]
     },
     "execution_count": 227,
     "metadata": {},
     "output_type": "execute_result"
    }
   ],
   "source": [
    "\n",
    "data = {\n",
    "    'count': [sorted_df['braf_count'].sum(), sorted_df['not_braf_count'].sum()],\n",
    "    'category': ['BRAF','Not BRAF'],\n",
    "}\n",
    "data"
   ]
  },
  {
   "cell_type": "code",
   "execution_count": 230,
   "metadata": {},
   "outputs": [
    {
     "data": {
      "application/vnd.plotly.v1+json": {
       "config": {
        "plotlyServerURL": "https://plot.ly"
       },
       "data": [
        {
         "domain": {
          "x": [
           0,
           1
          ],
          "y": [
           0,
           1
          ]
         },
         "hoverinfo": "label+percent+value",
         "hovertemplate": "category=%{label}<br>count=%{value}<extra></extra>",
         "labels": [
          "BRAF",
          "Not BRAF"
         ],
         "legendgroup": "",
         "name": "",
         "showlegend": true,
         "textinfo": "label+percent+value",
         "textposition": "inside",
         "type": "pie",
         "values": [
          62,
          58
         ]
        }
       ],
       "layout": {
        "legend": {
         "tracegroupgap": 0
        },
        "template": {
         "data": {
          "bar": [
           {
            "error_x": {
             "color": "#2a3f5f"
            },
            "error_y": {
             "color": "#2a3f5f"
            },
            "marker": {
             "line": {
              "color": "#E5ECF6",
              "width": 0.5
             },
             "pattern": {
              "fillmode": "overlay",
              "size": 10,
              "solidity": 0.2
             }
            },
            "type": "bar"
           }
          ],
          "barpolar": [
           {
            "marker": {
             "line": {
              "color": "#E5ECF6",
              "width": 0.5
             },
             "pattern": {
              "fillmode": "overlay",
              "size": 10,
              "solidity": 0.2
             }
            },
            "type": "barpolar"
           }
          ],
          "carpet": [
           {
            "aaxis": {
             "endlinecolor": "#2a3f5f",
             "gridcolor": "white",
             "linecolor": "white",
             "minorgridcolor": "white",
             "startlinecolor": "#2a3f5f"
            },
            "baxis": {
             "endlinecolor": "#2a3f5f",
             "gridcolor": "white",
             "linecolor": "white",
             "minorgridcolor": "white",
             "startlinecolor": "#2a3f5f"
            },
            "type": "carpet"
           }
          ],
          "choropleth": [
           {
            "colorbar": {
             "outlinewidth": 0,
             "ticks": ""
            },
            "type": "choropleth"
           }
          ],
          "contour": [
           {
            "colorbar": {
             "outlinewidth": 0,
             "ticks": ""
            },
            "colorscale": [
             [
              0,
              "#0d0887"
             ],
             [
              0.1111111111111111,
              "#46039f"
             ],
             [
              0.2222222222222222,
              "#7201a8"
             ],
             [
              0.3333333333333333,
              "#9c179e"
             ],
             [
              0.4444444444444444,
              "#bd3786"
             ],
             [
              0.5555555555555556,
              "#d8576b"
             ],
             [
              0.6666666666666666,
              "#ed7953"
             ],
             [
              0.7777777777777778,
              "#fb9f3a"
             ],
             [
              0.8888888888888888,
              "#fdca26"
             ],
             [
              1,
              "#f0f921"
             ]
            ],
            "type": "contour"
           }
          ],
          "contourcarpet": [
           {
            "colorbar": {
             "outlinewidth": 0,
             "ticks": ""
            },
            "type": "contourcarpet"
           }
          ],
          "heatmap": [
           {
            "colorbar": {
             "outlinewidth": 0,
             "ticks": ""
            },
            "colorscale": [
             [
              0,
              "#0d0887"
             ],
             [
              0.1111111111111111,
              "#46039f"
             ],
             [
              0.2222222222222222,
              "#7201a8"
             ],
             [
              0.3333333333333333,
              "#9c179e"
             ],
             [
              0.4444444444444444,
              "#bd3786"
             ],
             [
              0.5555555555555556,
              "#d8576b"
             ],
             [
              0.6666666666666666,
              "#ed7953"
             ],
             [
              0.7777777777777778,
              "#fb9f3a"
             ],
             [
              0.8888888888888888,
              "#fdca26"
             ],
             [
              1,
              "#f0f921"
             ]
            ],
            "type": "heatmap"
           }
          ],
          "heatmapgl": [
           {
            "colorbar": {
             "outlinewidth": 0,
             "ticks": ""
            },
            "colorscale": [
             [
              0,
              "#0d0887"
             ],
             [
              0.1111111111111111,
              "#46039f"
             ],
             [
              0.2222222222222222,
              "#7201a8"
             ],
             [
              0.3333333333333333,
              "#9c179e"
             ],
             [
              0.4444444444444444,
              "#bd3786"
             ],
             [
              0.5555555555555556,
              "#d8576b"
             ],
             [
              0.6666666666666666,
              "#ed7953"
             ],
             [
              0.7777777777777778,
              "#fb9f3a"
             ],
             [
              0.8888888888888888,
              "#fdca26"
             ],
             [
              1,
              "#f0f921"
             ]
            ],
            "type": "heatmapgl"
           }
          ],
          "histogram": [
           {
            "marker": {
             "pattern": {
              "fillmode": "overlay",
              "size": 10,
              "solidity": 0.2
             }
            },
            "type": "histogram"
           }
          ],
          "histogram2d": [
           {
            "colorbar": {
             "outlinewidth": 0,
             "ticks": ""
            },
            "colorscale": [
             [
              0,
              "#0d0887"
             ],
             [
              0.1111111111111111,
              "#46039f"
             ],
             [
              0.2222222222222222,
              "#7201a8"
             ],
             [
              0.3333333333333333,
              "#9c179e"
             ],
             [
              0.4444444444444444,
              "#bd3786"
             ],
             [
              0.5555555555555556,
              "#d8576b"
             ],
             [
              0.6666666666666666,
              "#ed7953"
             ],
             [
              0.7777777777777778,
              "#fb9f3a"
             ],
             [
              0.8888888888888888,
              "#fdca26"
             ],
             [
              1,
              "#f0f921"
             ]
            ],
            "type": "histogram2d"
           }
          ],
          "histogram2dcontour": [
           {
            "colorbar": {
             "outlinewidth": 0,
             "ticks": ""
            },
            "colorscale": [
             [
              0,
              "#0d0887"
             ],
             [
              0.1111111111111111,
              "#46039f"
             ],
             [
              0.2222222222222222,
              "#7201a8"
             ],
             [
              0.3333333333333333,
              "#9c179e"
             ],
             [
              0.4444444444444444,
              "#bd3786"
             ],
             [
              0.5555555555555556,
              "#d8576b"
             ],
             [
              0.6666666666666666,
              "#ed7953"
             ],
             [
              0.7777777777777778,
              "#fb9f3a"
             ],
             [
              0.8888888888888888,
              "#fdca26"
             ],
             [
              1,
              "#f0f921"
             ]
            ],
            "type": "histogram2dcontour"
           }
          ],
          "mesh3d": [
           {
            "colorbar": {
             "outlinewidth": 0,
             "ticks": ""
            },
            "type": "mesh3d"
           }
          ],
          "parcoords": [
           {
            "line": {
             "colorbar": {
              "outlinewidth": 0,
              "ticks": ""
             }
            },
            "type": "parcoords"
           }
          ],
          "pie": [
           {
            "automargin": true,
            "type": "pie"
           }
          ],
          "scatter": [
           {
            "fillpattern": {
             "fillmode": "overlay",
             "size": 10,
             "solidity": 0.2
            },
            "type": "scatter"
           }
          ],
          "scatter3d": [
           {
            "line": {
             "colorbar": {
              "outlinewidth": 0,
              "ticks": ""
             }
            },
            "marker": {
             "colorbar": {
              "outlinewidth": 0,
              "ticks": ""
             }
            },
            "type": "scatter3d"
           }
          ],
          "scattercarpet": [
           {
            "marker": {
             "colorbar": {
              "outlinewidth": 0,
              "ticks": ""
             }
            },
            "type": "scattercarpet"
           }
          ],
          "scattergeo": [
           {
            "marker": {
             "colorbar": {
              "outlinewidth": 0,
              "ticks": ""
             }
            },
            "type": "scattergeo"
           }
          ],
          "scattergl": [
           {
            "marker": {
             "colorbar": {
              "outlinewidth": 0,
              "ticks": ""
             }
            },
            "type": "scattergl"
           }
          ],
          "scattermapbox": [
           {
            "marker": {
             "colorbar": {
              "outlinewidth": 0,
              "ticks": ""
             }
            },
            "type": "scattermapbox"
           }
          ],
          "scatterpolar": [
           {
            "marker": {
             "colorbar": {
              "outlinewidth": 0,
              "ticks": ""
             }
            },
            "type": "scatterpolar"
           }
          ],
          "scatterpolargl": [
           {
            "marker": {
             "colorbar": {
              "outlinewidth": 0,
              "ticks": ""
             }
            },
            "type": "scatterpolargl"
           }
          ],
          "scatterternary": [
           {
            "marker": {
             "colorbar": {
              "outlinewidth": 0,
              "ticks": ""
             }
            },
            "type": "scatterternary"
           }
          ],
          "surface": [
           {
            "colorbar": {
             "outlinewidth": 0,
             "ticks": ""
            },
            "colorscale": [
             [
              0,
              "#0d0887"
             ],
             [
              0.1111111111111111,
              "#46039f"
             ],
             [
              0.2222222222222222,
              "#7201a8"
             ],
             [
              0.3333333333333333,
              "#9c179e"
             ],
             [
              0.4444444444444444,
              "#bd3786"
             ],
             [
              0.5555555555555556,
              "#d8576b"
             ],
             [
              0.6666666666666666,
              "#ed7953"
             ],
             [
              0.7777777777777778,
              "#fb9f3a"
             ],
             [
              0.8888888888888888,
              "#fdca26"
             ],
             [
              1,
              "#f0f921"
             ]
            ],
            "type": "surface"
           }
          ],
          "table": [
           {
            "cells": {
             "fill": {
              "color": "#EBF0F8"
             },
             "line": {
              "color": "white"
             }
            },
            "header": {
             "fill": {
              "color": "#C8D4E3"
             },
             "line": {
              "color": "white"
             }
            },
            "type": "table"
           }
          ]
         },
         "layout": {
          "annotationdefaults": {
           "arrowcolor": "#2a3f5f",
           "arrowhead": 0,
           "arrowwidth": 1
          },
          "autotypenumbers": "strict",
          "coloraxis": {
           "colorbar": {
            "outlinewidth": 0,
            "ticks": ""
           }
          },
          "colorscale": {
           "diverging": [
            [
             0,
             "#8e0152"
            ],
            [
             0.1,
             "#c51b7d"
            ],
            [
             0.2,
             "#de77ae"
            ],
            [
             0.3,
             "#f1b6da"
            ],
            [
             0.4,
             "#fde0ef"
            ],
            [
             0.5,
             "#f7f7f7"
            ],
            [
             0.6,
             "#e6f5d0"
            ],
            [
             0.7,
             "#b8e186"
            ],
            [
             0.8,
             "#7fbc41"
            ],
            [
             0.9,
             "#4d9221"
            ],
            [
             1,
             "#276419"
            ]
           ],
           "sequential": [
            [
             0,
             "#0d0887"
            ],
            [
             0.1111111111111111,
             "#46039f"
            ],
            [
             0.2222222222222222,
             "#7201a8"
            ],
            [
             0.3333333333333333,
             "#9c179e"
            ],
            [
             0.4444444444444444,
             "#bd3786"
            ],
            [
             0.5555555555555556,
             "#d8576b"
            ],
            [
             0.6666666666666666,
             "#ed7953"
            ],
            [
             0.7777777777777778,
             "#fb9f3a"
            ],
            [
             0.8888888888888888,
             "#fdca26"
            ],
            [
             1,
             "#f0f921"
            ]
           ],
           "sequentialminus": [
            [
             0,
             "#0d0887"
            ],
            [
             0.1111111111111111,
             "#46039f"
            ],
            [
             0.2222222222222222,
             "#7201a8"
            ],
            [
             0.3333333333333333,
             "#9c179e"
            ],
            [
             0.4444444444444444,
             "#bd3786"
            ],
            [
             0.5555555555555556,
             "#d8576b"
            ],
            [
             0.6666666666666666,
             "#ed7953"
            ],
            [
             0.7777777777777778,
             "#fb9f3a"
            ],
            [
             0.8888888888888888,
             "#fdca26"
            ],
            [
             1,
             "#f0f921"
            ]
           ]
          },
          "colorway": [
           "#636efa",
           "#EF553B",
           "#00cc96",
           "#ab63fa",
           "#FFA15A",
           "#19d3f3",
           "#FF6692",
           "#B6E880",
           "#FF97FF",
           "#FECB52"
          ],
          "font": {
           "color": "#2a3f5f"
          },
          "geo": {
           "bgcolor": "white",
           "lakecolor": "white",
           "landcolor": "#E5ECF6",
           "showlakes": true,
           "showland": true,
           "subunitcolor": "white"
          },
          "hoverlabel": {
           "align": "left"
          },
          "hovermode": "closest",
          "mapbox": {
           "style": "light"
          },
          "paper_bgcolor": "white",
          "plot_bgcolor": "#E5ECF6",
          "polar": {
           "angularaxis": {
            "gridcolor": "white",
            "linecolor": "white",
            "ticks": ""
           },
           "bgcolor": "#E5ECF6",
           "radialaxis": {
            "gridcolor": "white",
            "linecolor": "white",
            "ticks": ""
           }
          },
          "scene": {
           "xaxis": {
            "backgroundcolor": "#E5ECF6",
            "gridcolor": "white",
            "gridwidth": 2,
            "linecolor": "white",
            "showbackground": true,
            "ticks": "",
            "zerolinecolor": "white"
           },
           "yaxis": {
            "backgroundcolor": "#E5ECF6",
            "gridcolor": "white",
            "gridwidth": 2,
            "linecolor": "white",
            "showbackground": true,
            "ticks": "",
            "zerolinecolor": "white"
           },
           "zaxis": {
            "backgroundcolor": "#E5ECF6",
            "gridcolor": "white",
            "gridwidth": 2,
            "linecolor": "white",
            "showbackground": true,
            "ticks": "",
            "zerolinecolor": "white"
           }
          },
          "shapedefaults": {
           "line": {
            "color": "#2a3f5f"
           }
          },
          "ternary": {
           "aaxis": {
            "gridcolor": "white",
            "linecolor": "white",
            "ticks": ""
           },
           "baxis": {
            "gridcolor": "white",
            "linecolor": "white",
            "ticks": ""
           },
           "bgcolor": "#E5ECF6",
           "caxis": {
            "gridcolor": "white",
            "linecolor": "white",
            "ticks": ""
           }
          },
          "title": {
           "x": 0.05
          },
          "xaxis": {
           "automargin": true,
           "gridcolor": "white",
           "linecolor": "white",
           "ticks": "",
           "title": {
            "standoff": 15
           },
           "zerolinecolor": "white",
           "zerolinewidth": 2
          },
          "yaxis": {
           "automargin": true,
           "gridcolor": "white",
           "linecolor": "white",
           "ticks": "",
           "title": {
            "standoff": 15
           },
           "zerolinecolor": "white",
           "zerolinewidth": 2
          }
         }
        },
        "title": {
         "text": "Distribution of Combination Therapeutic Evidence for Variants in MetaKB v2"
        }
       }
      }
     },
     "metadata": {},
     "output_type": "display_data"
    }
   ],
   "source": [
    "fig = px.pie(pd.DataFrame(data), values='count', names='category', title='Distribution of Combination Therapeutic Evidence for Variants in MetaKB v2')\n",
    "\n",
    "fig.update_traces(textinfo='label+percent+value', \n",
    "                  hoverinfo='label+percent+value',\n",
    "                  textposition='inside')\n",
    "\n",
    "fig.show()\n",
    "pio.write_image(fig, \"Dist_Combo_Therapy_BRAF_v_NonBRAF.png\", format='png', width=700, height=500, scale=5)\n"
   ]
  },
  {
   "cell_type": "markdown",
   "metadata": {},
   "source": [
    "### Breakdown of Combination Therapeutic Evidence Application for Non-BRAF Variants, BRAF Variants\n",
    "The fact that 51.7% of combination therapy evidence present in MetaKB v2 thus far is applied to BRAF based variant evidence was interesting. I wanted to follow-up and see of the non-BRAF variants, what genes are commonly applied combination therapy. Additionally, of the BRAF variant evidence, what specific variants are applied combination therapies."
   ]
  },
  {
   "cell_type": "code",
   "execution_count": 231,
   "metadata": {},
   "outputs": [
    {
     "data": {
      "text/html": [
       "<div>\n",
       "<style scoped>\n",
       "    .dataframe tbody tr th:only-of-type {\n",
       "        vertical-align: middle;\n",
       "    }\n",
       "\n",
       "    .dataframe tbody tr th {\n",
       "        vertical-align: top;\n",
       "    }\n",
       "\n",
       "    .dataframe thead th {\n",
       "        text-align: right;\n",
       "    }\n",
       "</style>\n",
       "<table border=\"1\" class=\"dataframe\">\n",
       "  <thead>\n",
       "    <tr style=\"text-align: right;\">\n",
       "      <th></th>\n",
       "      <th>study_allele_origin</th>\n",
       "      <th>study_id</th>\n",
       "      <th>study_direction</th>\n",
       "      <th>study_predicate</th>\n",
       "      <th>study_type</th>\n",
       "      <th>variant_mp_score</th>\n",
       "      <th>variant_id</th>\n",
       "      <th>variant_label</th>\n",
       "      <th>variant_type</th>\n",
       "      <th>therapeutic_type</th>\n",
       "      <th>therapeutic_civic_type</th>\n",
       "      <th>therapeutic_id</th>\n",
       "      <th>therapeutic_label</th>\n",
       "      <th>number_of_components</th>\n",
       "      <th>combination_therapy_components</th>\n",
       "      <th>combination_components</th>\n",
       "    </tr>\n",
       "  </thead>\n",
       "  <tbody>\n",
       "    <tr>\n",
       "      <th>6</th>\n",
       "      <td>somatic</td>\n",
       "      <td>civic.eid:7318</td>\n",
       "      <td>supports</td>\n",
       "      <td>predictsSensitivityTo</td>\n",
       "      <td>VariantTherapeuticResponseStudy</td>\n",
       "      <td>50.0</td>\n",
       "      <td>civic.mpid:2579</td>\n",
       "      <td>PIK3CA H1047X</td>\n",
       "      <td>None</td>\n",
       "      <td>CombinationTherapy</td>\n",
       "      <td>COMBINATION</td>\n",
       "      <td>civic.ctid:QoPu2SO9N_zsHY4X6TMs5q3CLWJMHAQa</td>\n",
       "      <td>None</td>\n",
       "      <td>2</td>\n",
       "      <td>[{'id': 'civic.tid:570', 'regulatory_approval'...</td>\n",
       "      <td>(Alpelisib, Fulvestrant)</td>\n",
       "    </tr>\n",
       "    <tr>\n",
       "      <th>10</th>\n",
       "      <td>somatic</td>\n",
       "      <td>civic.eid:12063</td>\n",
       "      <td>supports</td>\n",
       "      <td>predictsSensitivityTo</td>\n",
       "      <td>VariantTherapeuticResponseStudy</td>\n",
       "      <td>176.5</td>\n",
       "      <td>civic.mpid:78</td>\n",
       "      <td>KRAS G12C</td>\n",
       "      <td>[{\"label\": \"missense_variant\", \"system\": \"http...</td>\n",
       "      <td>CombinationTherapy</td>\n",
       "      <td>COMBINATION</td>\n",
       "      <td>civic.ctid:qyRsTvZSTw7rBeyFy7j8bD0KfxiD5in9</td>\n",
       "      <td>None</td>\n",
       "      <td>2</td>\n",
       "      <td>[{'id': 'civic.tid:16', 'regulatory_approval':...</td>\n",
       "      <td>(Adagrasib, Cetuximab)</td>\n",
       "    </tr>\n",
       "    <tr>\n",
       "      <th>11</th>\n",
       "      <td>somatic</td>\n",
       "      <td>civic.eid:7315</td>\n",
       "      <td>supports</td>\n",
       "      <td>predictsSensitivityTo</td>\n",
       "      <td>VariantTherapeuticResponseStudy</td>\n",
       "      <td>75.5</td>\n",
       "      <td>civic.mpid:103</td>\n",
       "      <td>PIK3CA E542K</td>\n",
       "      <td>[{\"label\": \"missense_variant\", \"system\": \"http...</td>\n",
       "      <td>CombinationTherapy</td>\n",
       "      <td>COMBINATION</td>\n",
       "      <td>civic.ctid:QoPu2SO9N_zsHY4X6TMs5q3CLWJMHAQa</td>\n",
       "      <td>None</td>\n",
       "      <td>2</td>\n",
       "      <td>[{'id': 'civic.tid:570', 'regulatory_approval'...</td>\n",
       "      <td>(Alpelisib, Fulvestrant)</td>\n",
       "    </tr>\n",
       "  </tbody>\n",
       "</table>\n",
       "</div>"
      ],
      "text/plain": [
       "   study_allele_origin         study_id study_direction  \\\n",
       "6              somatic   civic.eid:7318        supports   \n",
       "10             somatic  civic.eid:12063        supports   \n",
       "11             somatic   civic.eid:7315        supports   \n",
       "\n",
       "          study_predicate                       study_type  variant_mp_score  \\\n",
       "6   predictsSensitivityTo  VariantTherapeuticResponseStudy              50.0   \n",
       "10  predictsSensitivityTo  VariantTherapeuticResponseStudy             176.5   \n",
       "11  predictsSensitivityTo  VariantTherapeuticResponseStudy              75.5   \n",
       "\n",
       "         variant_id  variant_label  \\\n",
       "6   civic.mpid:2579  PIK3CA H1047X   \n",
       "10    civic.mpid:78      KRAS G12C   \n",
       "11   civic.mpid:103   PIK3CA E542K   \n",
       "\n",
       "                                         variant_type    therapeutic_type  \\\n",
       "6                                                None  CombinationTherapy   \n",
       "10  [{\"label\": \"missense_variant\", \"system\": \"http...  CombinationTherapy   \n",
       "11  [{\"label\": \"missense_variant\", \"system\": \"http...  CombinationTherapy   \n",
       "\n",
       "   therapeutic_civic_type                               therapeutic_id  \\\n",
       "6             COMBINATION  civic.ctid:QoPu2SO9N_zsHY4X6TMs5q3CLWJMHAQa   \n",
       "10            COMBINATION  civic.ctid:qyRsTvZSTw7rBeyFy7j8bD0KfxiD5in9   \n",
       "11            COMBINATION  civic.ctid:QoPu2SO9N_zsHY4X6TMs5q3CLWJMHAQa   \n",
       "\n",
       "   therapeutic_label  number_of_components  \\\n",
       "6               None                     2   \n",
       "10              None                     2   \n",
       "11              None                     2   \n",
       "\n",
       "                       combination_therapy_components  \\\n",
       "6   [{'id': 'civic.tid:570', 'regulatory_approval'...   \n",
       "10  [{'id': 'civic.tid:16', 'regulatory_approval':...   \n",
       "11  [{'id': 'civic.tid:570', 'regulatory_approval'...   \n",
       "\n",
       "      combination_components  \n",
       "6   (Alpelisib, Fulvestrant)  \n",
       "10    (Adagrasib, Cetuximab)  \n",
       "11  (Alpelisib, Fulvestrant)  "
      ]
     },
     "execution_count": 231,
     "metadata": {},
     "output_type": "execute_result"
    }
   ],
   "source": [
    "# TODO: START HERE WITH TIDYING UP\n",
    "not_braf_df[not_braf_df['therapeutic_type'].str.contains('CombinationTherapy')][0:3]"
   ]
  },
  {
   "cell_type": "code",
   "execution_count": 232,
   "metadata": {},
   "outputs": [
    {
     "name": "stderr",
     "output_type": "stream",
     "text": [
      "/var/folders/5t/sfw5tjx56m10xb861_pd3wfm0000gq/T/ipykernel_11898/2565120429.py:7: SettingWithCopyWarning:\n",
      "\n",
      "\n",
      "A value is trying to be set on a copy of a slice from a DataFrame.\n",
      "Try using .loc[row_indexer,col_indexer] = value instead\n",
      "\n",
      "See the caveats in the documentation: https://pandas.pydata.org/pandas-docs/stable/user_guide/indexing.html#returning-a-view-versus-a-copy\n",
      "\n",
      "/var/folders/5t/sfw5tjx56m10xb861_pd3wfm0000gq/T/ipykernel_11898/2565120429.py:8: SettingWithCopyWarning:\n",
      "\n",
      "\n",
      "A value is trying to be set on a copy of a slice from a DataFrame.\n",
      "Try using .loc[row_indexer,col_indexer] = value instead\n",
      "\n",
      "See the caveats in the documentation: https://pandas.pydata.org/pandas-docs/stable/user_guide/indexing.html#returning-a-view-versus-a-copy\n",
      "\n"
     ]
    }
   ],
   "source": [
    "def grab_gene_symbol(entry):\n",
    "    return(entry.split(' ')[0])\n",
    "\n",
    "def grab_braf_var(entry):\n",
    "    return(entry.split(' ')[1].replace('p.',''))\n",
    "\n",
    "not_braf_df['gene_symbol'] = not_braf_df['variant_label'].apply(grab_gene_symbol)\n",
    "braf_df['braf_variant'] = braf_df['variant_label'].apply(grab_braf_var)"
   ]
  },
  {
   "cell_type": "code",
   "execution_count": 180,
   "metadata": {},
   "outputs": [
    {
     "data": {
      "text/html": [
       "<div>\n",
       "<style scoped>\n",
       "    .dataframe tbody tr th:only-of-type {\n",
       "        vertical-align: middle;\n",
       "    }\n",
       "\n",
       "    .dataframe tbody tr th {\n",
       "        vertical-align: top;\n",
       "    }\n",
       "\n",
       "    .dataframe thead th {\n",
       "        text-align: right;\n",
       "    }\n",
       "</style>\n",
       "<table border=\"1\" class=\"dataframe\">\n",
       "  <thead>\n",
       "    <tr style=\"text-align: right;\">\n",
       "      <th></th>\n",
       "      <th>study_allele_origin</th>\n",
       "      <th>study_id</th>\n",
       "      <th>study_direction</th>\n",
       "      <th>study_predicate</th>\n",
       "      <th>study_type</th>\n",
       "      <th>variant_mp_score</th>\n",
       "      <th>variant_id</th>\n",
       "      <th>variant_label</th>\n",
       "      <th>variant_type</th>\n",
       "      <th>therapeutic_type</th>\n",
       "      <th>therapeutic_civic_type</th>\n",
       "      <th>therapeutic_id</th>\n",
       "      <th>therapeutic_label</th>\n",
       "      <th>number_of_components</th>\n",
       "      <th>combination_therapy_components</th>\n",
       "      <th>combination_components</th>\n",
       "      <th>gene_symbol</th>\n",
       "    </tr>\n",
       "  </thead>\n",
       "  <tbody>\n",
       "    <tr>\n",
       "      <th>0</th>\n",
       "      <td>somatic</td>\n",
       "      <td>civic.eid:238</td>\n",
       "      <td>supports</td>\n",
       "      <td>predictsResistanceTo</td>\n",
       "      <td>VariantTherapeuticResponseStudy</td>\n",
       "      <td>406.25</td>\n",
       "      <td>civic.mpid:34</td>\n",
       "      <td>EGFR T790M</td>\n",
       "      <td>[{\"label\": \"missense_variant\", \"system\": \"http...</td>\n",
       "      <td>TherapeuticAgent</td>\n",
       "      <td>None</td>\n",
       "      <td>civic.tid:15</td>\n",
       "      <td>Erlotinib</td>\n",
       "      <td>0</td>\n",
       "      <td>[]</td>\n",
       "      <td>None</td>\n",
       "      <td>EGFR</td>\n",
       "    </tr>\n",
       "    <tr>\n",
       "      <th>2</th>\n",
       "      <td>somatic</td>\n",
       "      <td>civic.eid:1592</td>\n",
       "      <td>supports</td>\n",
       "      <td>predictsSensitivityTo</td>\n",
       "      <td>VariantTherapeuticResponseStudy</td>\n",
       "      <td>406.25</td>\n",
       "      <td>civic.mpid:34</td>\n",
       "      <td>EGFR T790M</td>\n",
       "      <td>[{\"label\": \"missense_variant\", \"system\": \"http...</td>\n",
       "      <td>TherapeuticAgent</td>\n",
       "      <td>None</td>\n",
       "      <td>civic.tid:187</td>\n",
       "      <td>Osimertinib</td>\n",
       "      <td>0</td>\n",
       "      <td>[]</td>\n",
       "      <td>None</td>\n",
       "      <td>EGFR</td>\n",
       "    </tr>\n",
       "    <tr>\n",
       "      <th>3</th>\n",
       "      <td>somatic</td>\n",
       "      <td>civic.eid:1867</td>\n",
       "      <td>supports</td>\n",
       "      <td>predictsSensitivityTo</td>\n",
       "      <td>VariantTherapeuticResponseStudy</td>\n",
       "      <td>406.25</td>\n",
       "      <td>civic.mpid:34</td>\n",
       "      <td>EGFR T790M</td>\n",
       "      <td>[{\"label\": \"missense_variant\", \"system\": \"http...</td>\n",
       "      <td>TherapeuticAgent</td>\n",
       "      <td>None</td>\n",
       "      <td>civic.tid:187</td>\n",
       "      <td>Osimertinib</td>\n",
       "      <td>0</td>\n",
       "      <td>[]</td>\n",
       "      <td>None</td>\n",
       "      <td>EGFR</td>\n",
       "    </tr>\n",
       "  </tbody>\n",
       "</table>\n",
       "</div>"
      ],
      "text/plain": [
       "  study_allele_origin        study_id study_direction        study_predicate  \\\n",
       "0             somatic   civic.eid:238        supports   predictsResistanceTo   \n",
       "2             somatic  civic.eid:1592        supports  predictsSensitivityTo   \n",
       "3             somatic  civic.eid:1867        supports  predictsSensitivityTo   \n",
       "\n",
       "                        study_type  variant_mp_score     variant_id  \\\n",
       "0  VariantTherapeuticResponseStudy            406.25  civic.mpid:34   \n",
       "2  VariantTherapeuticResponseStudy            406.25  civic.mpid:34   \n",
       "3  VariantTherapeuticResponseStudy            406.25  civic.mpid:34   \n",
       "\n",
       "  variant_label                                       variant_type  \\\n",
       "0    EGFR T790M  [{\"label\": \"missense_variant\", \"system\": \"http...   \n",
       "2    EGFR T790M  [{\"label\": \"missense_variant\", \"system\": \"http...   \n",
       "3    EGFR T790M  [{\"label\": \"missense_variant\", \"system\": \"http...   \n",
       "\n",
       "   therapeutic_type therapeutic_civic_type therapeutic_id therapeutic_label  \\\n",
       "0  TherapeuticAgent                   None   civic.tid:15         Erlotinib   \n",
       "2  TherapeuticAgent                   None  civic.tid:187       Osimertinib   \n",
       "3  TherapeuticAgent                   None  civic.tid:187       Osimertinib   \n",
       "\n",
       "   number_of_components combination_therapy_components combination_components  \\\n",
       "0                     0                             []                   None   \n",
       "2                     0                             []                   None   \n",
       "3                     0                             []                   None   \n",
       "\n",
       "  gene_symbol  \n",
       "0        EGFR  \n",
       "2        EGFR  \n",
       "3        EGFR  "
      ]
     },
     "execution_count": 180,
     "metadata": {},
     "output_type": "execute_result"
    }
   ],
   "source": [
    "not_braf_df[0:3]"
   ]
  },
  {
   "cell_type": "code",
   "execution_count": 182,
   "metadata": {},
   "outputs": [
    {
     "data": {
      "text/html": [
       "<div>\n",
       "<style scoped>\n",
       "    .dataframe tbody tr th:only-of-type {\n",
       "        vertical-align: middle;\n",
       "    }\n",
       "\n",
       "    .dataframe tbody tr th {\n",
       "        vertical-align: top;\n",
       "    }\n",
       "\n",
       "    .dataframe thead th {\n",
       "        text-align: right;\n",
       "    }\n",
       "</style>\n",
       "<table border=\"1\" class=\"dataframe\">\n",
       "  <thead>\n",
       "    <tr style=\"text-align: right;\">\n",
       "      <th></th>\n",
       "      <th>study_allele_origin</th>\n",
       "      <th>study_id</th>\n",
       "      <th>study_direction</th>\n",
       "      <th>study_predicate</th>\n",
       "      <th>study_type</th>\n",
       "      <th>variant_mp_score</th>\n",
       "      <th>variant_id</th>\n",
       "      <th>variant_label</th>\n",
       "      <th>variant_type</th>\n",
       "      <th>therapeutic_type</th>\n",
       "      <th>therapeutic_civic_type</th>\n",
       "      <th>therapeutic_id</th>\n",
       "      <th>therapeutic_label</th>\n",
       "      <th>number_of_components</th>\n",
       "      <th>combination_therapy_components</th>\n",
       "      <th>combination_components</th>\n",
       "      <th>braf_variant</th>\n",
       "    </tr>\n",
       "  </thead>\n",
       "  <tbody>\n",
       "    <tr>\n",
       "      <th>1</th>\n",
       "      <td>somatic</td>\n",
       "      <td>civic.eid:1409</td>\n",
       "      <td>supports</td>\n",
       "      <td>predictsSensitivityTo</td>\n",
       "      <td>VariantTherapeuticResponseStudy</td>\n",
       "      <td>1378.5</td>\n",
       "      <td>civic.mpid:12</td>\n",
       "      <td>BRAF V600E</td>\n",
       "      <td>[{\"label\": \"missense_variant\", \"system\": \"http...</td>\n",
       "      <td>TherapeuticAgent</td>\n",
       "      <td>None</td>\n",
       "      <td>civic.tid:4</td>\n",
       "      <td>Vemurafenib</td>\n",
       "      <td>0</td>\n",
       "      <td>[]</td>\n",
       "      <td>None</td>\n",
       "      <td>V600E</td>\n",
       "    </tr>\n",
       "    <tr>\n",
       "      <th>8</th>\n",
       "      <td>somatic</td>\n",
       "      <td>civic.eid:9851</td>\n",
       "      <td>supports</td>\n",
       "      <td>predictsSensitivityTo</td>\n",
       "      <td>VariantTherapeuticResponseStudy</td>\n",
       "      <td>1378.5</td>\n",
       "      <td>civic.mpid:12</td>\n",
       "      <td>BRAF V600E</td>\n",
       "      <td>[{\"label\": \"missense_variant\", \"system\": \"http...</td>\n",
       "      <td>CombinationTherapy</td>\n",
       "      <td>COMBINATION</td>\n",
       "      <td>civic.ctid:P1PY89shAjemg7jquQ0V9pg1VnYnkPeK</td>\n",
       "      <td>None</td>\n",
       "      <td>2</td>\n",
       "      <td>[{'id': 'civic.tid:16', 'regulatory_approval':...</td>\n",
       "      <td>(Cetuximab, Encorafenib)</td>\n",
       "      <td>V600E</td>\n",
       "    </tr>\n",
       "    <tr>\n",
       "      <th>9</th>\n",
       "      <td>somatic</td>\n",
       "      <td>civic.eid:3017</td>\n",
       "      <td>supports</td>\n",
       "      <td>predictsSensitivityTo</td>\n",
       "      <td>VariantTherapeuticResponseStudy</td>\n",
       "      <td>1378.5</td>\n",
       "      <td>civic.mpid:12</td>\n",
       "      <td>BRAF V600E</td>\n",
       "      <td>[{\"label\": \"missense_variant\", \"system\": \"http...</td>\n",
       "      <td>CombinationTherapy</td>\n",
       "      <td>COMBINATION</td>\n",
       "      <td>civic.ctid:oBrlcO23adoVXv51xh-5Wigy0QyDWtfr</td>\n",
       "      <td>None</td>\n",
       "      <td>2</td>\n",
       "      <td>[{'id': 'civic.tid:19', 'regulatory_approval':...</td>\n",
       "      <td>(Dabrafenib, Trametinib)</td>\n",
       "      <td>V600E</td>\n",
       "    </tr>\n",
       "  </tbody>\n",
       "</table>\n",
       "</div>"
      ],
      "text/plain": [
       "  study_allele_origin        study_id study_direction        study_predicate  \\\n",
       "1             somatic  civic.eid:1409        supports  predictsSensitivityTo   \n",
       "8             somatic  civic.eid:9851        supports  predictsSensitivityTo   \n",
       "9             somatic  civic.eid:3017        supports  predictsSensitivityTo   \n",
       "\n",
       "                        study_type  variant_mp_score     variant_id  \\\n",
       "1  VariantTherapeuticResponseStudy            1378.5  civic.mpid:12   \n",
       "8  VariantTherapeuticResponseStudy            1378.5  civic.mpid:12   \n",
       "9  VariantTherapeuticResponseStudy            1378.5  civic.mpid:12   \n",
       "\n",
       "  variant_label                                       variant_type  \\\n",
       "1    BRAF V600E  [{\"label\": \"missense_variant\", \"system\": \"http...   \n",
       "8    BRAF V600E  [{\"label\": \"missense_variant\", \"system\": \"http...   \n",
       "9    BRAF V600E  [{\"label\": \"missense_variant\", \"system\": \"http...   \n",
       "\n",
       "     therapeutic_type therapeutic_civic_type  \\\n",
       "1    TherapeuticAgent                   None   \n",
       "8  CombinationTherapy            COMBINATION   \n",
       "9  CombinationTherapy            COMBINATION   \n",
       "\n",
       "                                therapeutic_id therapeutic_label  \\\n",
       "1                                  civic.tid:4       Vemurafenib   \n",
       "8  civic.ctid:P1PY89shAjemg7jquQ0V9pg1VnYnkPeK              None   \n",
       "9  civic.ctid:oBrlcO23adoVXv51xh-5Wigy0QyDWtfr              None   \n",
       "\n",
       "   number_of_components                     combination_therapy_components  \\\n",
       "1                     0                                                 []   \n",
       "8                     2  [{'id': 'civic.tid:16', 'regulatory_approval':...   \n",
       "9                     2  [{'id': 'civic.tid:19', 'regulatory_approval':...   \n",
       "\n",
       "     combination_components braf_variant  \n",
       "1                      None        V600E  \n",
       "8  (Cetuximab, Encorafenib)        V600E  \n",
       "9  (Dabrafenib, Trametinib)        V600E  "
      ]
     },
     "execution_count": 182,
     "metadata": {},
     "output_type": "execute_result"
    }
   ],
   "source": [
    "braf_df[0:3]"
   ]
  },
  {
   "cell_type": "code",
   "execution_count": 185,
   "metadata": {},
   "outputs": [
    {
     "data": {
      "text/html": [
       "<div>\n",
       "<style scoped>\n",
       "    .dataframe tbody tr th:only-of-type {\n",
       "        vertical-align: middle;\n",
       "    }\n",
       "\n",
       "    .dataframe tbody tr th {\n",
       "        vertical-align: top;\n",
       "    }\n",
       "\n",
       "    .dataframe thead th {\n",
       "        text-align: right;\n",
       "    }\n",
       "</style>\n",
       "<table border=\"1\" class=\"dataframe\">\n",
       "  <thead>\n",
       "    <tr style=\"text-align: right;\">\n",
       "      <th></th>\n",
       "      <th>gene_symbol</th>\n",
       "      <th>count</th>\n",
       "    </tr>\n",
       "  </thead>\n",
       "  <tbody>\n",
       "    <tr>\n",
       "      <th>0</th>\n",
       "      <td>PIK3CA</td>\n",
       "      <td>18</td>\n",
       "    </tr>\n",
       "    <tr>\n",
       "      <th>1</th>\n",
       "      <td>KRAS</td>\n",
       "      <td>13</td>\n",
       "    </tr>\n",
       "    <tr>\n",
       "      <th>2</th>\n",
       "      <td>NRAS</td>\n",
       "      <td>6</td>\n",
       "    </tr>\n",
       "    <tr>\n",
       "      <th>3</th>\n",
       "      <td>ERBB2</td>\n",
       "      <td>5</td>\n",
       "    </tr>\n",
       "    <tr>\n",
       "      <th>4</th>\n",
       "      <td>GNAS</td>\n",
       "      <td>2</td>\n",
       "    </tr>\n",
       "    <tr>\n",
       "      <th>5</th>\n",
       "      <td>EGFR</td>\n",
       "      <td>2</td>\n",
       "    </tr>\n",
       "    <tr>\n",
       "      <th>6</th>\n",
       "      <td>FLT3</td>\n",
       "      <td>2</td>\n",
       "    </tr>\n",
       "    <tr>\n",
       "      <th>7</th>\n",
       "      <td>IDH1</td>\n",
       "      <td>2</td>\n",
       "    </tr>\n",
       "    <tr>\n",
       "      <th>8</th>\n",
       "      <td>ERCC2</td>\n",
       "      <td>1</td>\n",
       "    </tr>\n",
       "    <tr>\n",
       "      <th>9</th>\n",
       "      <td>ESR1</td>\n",
       "      <td>1</td>\n",
       "    </tr>\n",
       "    <tr>\n",
       "      <th>10</th>\n",
       "      <td>RAD50</td>\n",
       "      <td>1</td>\n",
       "    </tr>\n",
       "    <tr>\n",
       "      <th>11</th>\n",
       "      <td>DDR2</td>\n",
       "      <td>1</td>\n",
       "    </tr>\n",
       "    <tr>\n",
       "      <th>12</th>\n",
       "      <td>BRCA2</td>\n",
       "      <td>1</td>\n",
       "    </tr>\n",
       "    <tr>\n",
       "      <th>13</th>\n",
       "      <td>ARAF</td>\n",
       "      <td>1</td>\n",
       "    </tr>\n",
       "    <tr>\n",
       "      <th>14</th>\n",
       "      <td>MTOR</td>\n",
       "      <td>1</td>\n",
       "    </tr>\n",
       "    <tr>\n",
       "      <th>15</th>\n",
       "      <td>PRPS1</td>\n",
       "      <td>1</td>\n",
       "    </tr>\n",
       "  </tbody>\n",
       "</table>\n",
       "</div>"
      ],
      "text/plain": [
       "   gene_symbol  count\n",
       "0       PIK3CA     18\n",
       "1         KRAS     13\n",
       "2         NRAS      6\n",
       "3        ERBB2      5\n",
       "4         GNAS      2\n",
       "5         EGFR      2\n",
       "6         FLT3      2\n",
       "7         IDH1      2\n",
       "8        ERCC2      1\n",
       "9         ESR1      1\n",
       "10       RAD50      1\n",
       "11        DDR2      1\n",
       "12       BRCA2      1\n",
       "13        ARAF      1\n",
       "14        MTOR      1\n",
       "15       PRPS1      1"
      ]
     },
     "execution_count": 185,
     "metadata": {},
     "output_type": "execute_result"
    }
   ],
   "source": [
    "tdf = not_braf_df[not_braf_df['therapeutic_type'].str.contains('CombinationTherapy')]\n",
    "\n",
    "gene_counts = tdf['gene_symbol'].value_counts().rename_axis('gene_symbol').reset_index(name='count')\n",
    "gene_counts"
   ]
  },
  {
   "cell_type": "code",
   "execution_count": 187,
   "metadata": {},
   "outputs": [
    {
     "data": {
      "application/vnd.plotly.v1+json": {
       "config": {
        "plotlyServerURL": "https://plot.ly"
       },
       "data": [
        {
         "alignmentgroup": "True",
         "hovertemplate": "Gene=%{x}<br>count=%{y}<extra></extra>",
         "legendgroup": "",
         "marker": {
          "color": "#636efa",
          "pattern": {
           "shape": ""
          }
         },
         "name": "",
         "offsetgroup": "",
         "orientation": "v",
         "showlegend": false,
         "textposition": "auto",
         "texttemplate": "%{y}",
         "type": "bar",
         "x": [
          "PIK3CA",
          "KRAS",
          "NRAS",
          "ERBB2",
          "GNAS",
          "EGFR",
          "FLT3",
          "IDH1",
          "ERCC2",
          "ESR1",
          "RAD50",
          "DDR2",
          "BRCA2",
          "ARAF",
          "MTOR",
          "PRPS1"
         ],
         "xaxis": "x",
         "y": [
          18,
          13,
          6,
          5,
          2,
          2,
          2,
          2,
          1,
          1,
          1,
          1,
          1,
          1,
          1,
          1
         ],
         "yaxis": "y"
        }
       ],
       "layout": {
        "barmode": "stack",
        "legend": {
         "tracegroupgap": 0
        },
        "template": {
         "data": {
          "bar": [
           {
            "error_x": {
             "color": "#2a3f5f"
            },
            "error_y": {
             "color": "#2a3f5f"
            },
            "marker": {
             "line": {
              "color": "#E5ECF6",
              "width": 0.5
             },
             "pattern": {
              "fillmode": "overlay",
              "size": 10,
              "solidity": 0.2
             }
            },
            "type": "bar"
           }
          ],
          "barpolar": [
           {
            "marker": {
             "line": {
              "color": "#E5ECF6",
              "width": 0.5
             },
             "pattern": {
              "fillmode": "overlay",
              "size": 10,
              "solidity": 0.2
             }
            },
            "type": "barpolar"
           }
          ],
          "carpet": [
           {
            "aaxis": {
             "endlinecolor": "#2a3f5f",
             "gridcolor": "white",
             "linecolor": "white",
             "minorgridcolor": "white",
             "startlinecolor": "#2a3f5f"
            },
            "baxis": {
             "endlinecolor": "#2a3f5f",
             "gridcolor": "white",
             "linecolor": "white",
             "minorgridcolor": "white",
             "startlinecolor": "#2a3f5f"
            },
            "type": "carpet"
           }
          ],
          "choropleth": [
           {
            "colorbar": {
             "outlinewidth": 0,
             "ticks": ""
            },
            "type": "choropleth"
           }
          ],
          "contour": [
           {
            "colorbar": {
             "outlinewidth": 0,
             "ticks": ""
            },
            "colorscale": [
             [
              0,
              "#0d0887"
             ],
             [
              0.1111111111111111,
              "#46039f"
             ],
             [
              0.2222222222222222,
              "#7201a8"
             ],
             [
              0.3333333333333333,
              "#9c179e"
             ],
             [
              0.4444444444444444,
              "#bd3786"
             ],
             [
              0.5555555555555556,
              "#d8576b"
             ],
             [
              0.6666666666666666,
              "#ed7953"
             ],
             [
              0.7777777777777778,
              "#fb9f3a"
             ],
             [
              0.8888888888888888,
              "#fdca26"
             ],
             [
              1,
              "#f0f921"
             ]
            ],
            "type": "contour"
           }
          ],
          "contourcarpet": [
           {
            "colorbar": {
             "outlinewidth": 0,
             "ticks": ""
            },
            "type": "contourcarpet"
           }
          ],
          "heatmap": [
           {
            "colorbar": {
             "outlinewidth": 0,
             "ticks": ""
            },
            "colorscale": [
             [
              0,
              "#0d0887"
             ],
             [
              0.1111111111111111,
              "#46039f"
             ],
             [
              0.2222222222222222,
              "#7201a8"
             ],
             [
              0.3333333333333333,
              "#9c179e"
             ],
             [
              0.4444444444444444,
              "#bd3786"
             ],
             [
              0.5555555555555556,
              "#d8576b"
             ],
             [
              0.6666666666666666,
              "#ed7953"
             ],
             [
              0.7777777777777778,
              "#fb9f3a"
             ],
             [
              0.8888888888888888,
              "#fdca26"
             ],
             [
              1,
              "#f0f921"
             ]
            ],
            "type": "heatmap"
           }
          ],
          "heatmapgl": [
           {
            "colorbar": {
             "outlinewidth": 0,
             "ticks": ""
            },
            "colorscale": [
             [
              0,
              "#0d0887"
             ],
             [
              0.1111111111111111,
              "#46039f"
             ],
             [
              0.2222222222222222,
              "#7201a8"
             ],
             [
              0.3333333333333333,
              "#9c179e"
             ],
             [
              0.4444444444444444,
              "#bd3786"
             ],
             [
              0.5555555555555556,
              "#d8576b"
             ],
             [
              0.6666666666666666,
              "#ed7953"
             ],
             [
              0.7777777777777778,
              "#fb9f3a"
             ],
             [
              0.8888888888888888,
              "#fdca26"
             ],
             [
              1,
              "#f0f921"
             ]
            ],
            "type": "heatmapgl"
           }
          ],
          "histogram": [
           {
            "marker": {
             "pattern": {
              "fillmode": "overlay",
              "size": 10,
              "solidity": 0.2
             }
            },
            "type": "histogram"
           }
          ],
          "histogram2d": [
           {
            "colorbar": {
             "outlinewidth": 0,
             "ticks": ""
            },
            "colorscale": [
             [
              0,
              "#0d0887"
             ],
             [
              0.1111111111111111,
              "#46039f"
             ],
             [
              0.2222222222222222,
              "#7201a8"
             ],
             [
              0.3333333333333333,
              "#9c179e"
             ],
             [
              0.4444444444444444,
              "#bd3786"
             ],
             [
              0.5555555555555556,
              "#d8576b"
             ],
             [
              0.6666666666666666,
              "#ed7953"
             ],
             [
              0.7777777777777778,
              "#fb9f3a"
             ],
             [
              0.8888888888888888,
              "#fdca26"
             ],
             [
              1,
              "#f0f921"
             ]
            ],
            "type": "histogram2d"
           }
          ],
          "histogram2dcontour": [
           {
            "colorbar": {
             "outlinewidth": 0,
             "ticks": ""
            },
            "colorscale": [
             [
              0,
              "#0d0887"
             ],
             [
              0.1111111111111111,
              "#46039f"
             ],
             [
              0.2222222222222222,
              "#7201a8"
             ],
             [
              0.3333333333333333,
              "#9c179e"
             ],
             [
              0.4444444444444444,
              "#bd3786"
             ],
             [
              0.5555555555555556,
              "#d8576b"
             ],
             [
              0.6666666666666666,
              "#ed7953"
             ],
             [
              0.7777777777777778,
              "#fb9f3a"
             ],
             [
              0.8888888888888888,
              "#fdca26"
             ],
             [
              1,
              "#f0f921"
             ]
            ],
            "type": "histogram2dcontour"
           }
          ],
          "mesh3d": [
           {
            "colorbar": {
             "outlinewidth": 0,
             "ticks": ""
            },
            "type": "mesh3d"
           }
          ],
          "parcoords": [
           {
            "line": {
             "colorbar": {
              "outlinewidth": 0,
              "ticks": ""
             }
            },
            "type": "parcoords"
           }
          ],
          "pie": [
           {
            "automargin": true,
            "type": "pie"
           }
          ],
          "scatter": [
           {
            "fillpattern": {
             "fillmode": "overlay",
             "size": 10,
             "solidity": 0.2
            },
            "type": "scatter"
           }
          ],
          "scatter3d": [
           {
            "line": {
             "colorbar": {
              "outlinewidth": 0,
              "ticks": ""
             }
            },
            "marker": {
             "colorbar": {
              "outlinewidth": 0,
              "ticks": ""
             }
            },
            "type": "scatter3d"
           }
          ],
          "scattercarpet": [
           {
            "marker": {
             "colorbar": {
              "outlinewidth": 0,
              "ticks": ""
             }
            },
            "type": "scattercarpet"
           }
          ],
          "scattergeo": [
           {
            "marker": {
             "colorbar": {
              "outlinewidth": 0,
              "ticks": ""
             }
            },
            "type": "scattergeo"
           }
          ],
          "scattergl": [
           {
            "marker": {
             "colorbar": {
              "outlinewidth": 0,
              "ticks": ""
             }
            },
            "type": "scattergl"
           }
          ],
          "scattermapbox": [
           {
            "marker": {
             "colorbar": {
              "outlinewidth": 0,
              "ticks": ""
             }
            },
            "type": "scattermapbox"
           }
          ],
          "scatterpolar": [
           {
            "marker": {
             "colorbar": {
              "outlinewidth": 0,
              "ticks": ""
             }
            },
            "type": "scatterpolar"
           }
          ],
          "scatterpolargl": [
           {
            "marker": {
             "colorbar": {
              "outlinewidth": 0,
              "ticks": ""
             }
            },
            "type": "scatterpolargl"
           }
          ],
          "scatterternary": [
           {
            "marker": {
             "colorbar": {
              "outlinewidth": 0,
              "ticks": ""
             }
            },
            "type": "scatterternary"
           }
          ],
          "surface": [
           {
            "colorbar": {
             "outlinewidth": 0,
             "ticks": ""
            },
            "colorscale": [
             [
              0,
              "#0d0887"
             ],
             [
              0.1111111111111111,
              "#46039f"
             ],
             [
              0.2222222222222222,
              "#7201a8"
             ],
             [
              0.3333333333333333,
              "#9c179e"
             ],
             [
              0.4444444444444444,
              "#bd3786"
             ],
             [
              0.5555555555555556,
              "#d8576b"
             ],
             [
              0.6666666666666666,
              "#ed7953"
             ],
             [
              0.7777777777777778,
              "#fb9f3a"
             ],
             [
              0.8888888888888888,
              "#fdca26"
             ],
             [
              1,
              "#f0f921"
             ]
            ],
            "type": "surface"
           }
          ],
          "table": [
           {
            "cells": {
             "fill": {
              "color": "#EBF0F8"
             },
             "line": {
              "color": "white"
             }
            },
            "header": {
             "fill": {
              "color": "#C8D4E3"
             },
             "line": {
              "color": "white"
             }
            },
            "type": "table"
           }
          ]
         },
         "layout": {
          "annotationdefaults": {
           "arrowcolor": "#2a3f5f",
           "arrowhead": 0,
           "arrowwidth": 1
          },
          "autotypenumbers": "strict",
          "coloraxis": {
           "colorbar": {
            "outlinewidth": 0,
            "ticks": ""
           }
          },
          "colorscale": {
           "diverging": [
            [
             0,
             "#8e0152"
            ],
            [
             0.1,
             "#c51b7d"
            ],
            [
             0.2,
             "#de77ae"
            ],
            [
             0.3,
             "#f1b6da"
            ],
            [
             0.4,
             "#fde0ef"
            ],
            [
             0.5,
             "#f7f7f7"
            ],
            [
             0.6,
             "#e6f5d0"
            ],
            [
             0.7,
             "#b8e186"
            ],
            [
             0.8,
             "#7fbc41"
            ],
            [
             0.9,
             "#4d9221"
            ],
            [
             1,
             "#276419"
            ]
           ],
           "sequential": [
            [
             0,
             "#0d0887"
            ],
            [
             0.1111111111111111,
             "#46039f"
            ],
            [
             0.2222222222222222,
             "#7201a8"
            ],
            [
             0.3333333333333333,
             "#9c179e"
            ],
            [
             0.4444444444444444,
             "#bd3786"
            ],
            [
             0.5555555555555556,
             "#d8576b"
            ],
            [
             0.6666666666666666,
             "#ed7953"
            ],
            [
             0.7777777777777778,
             "#fb9f3a"
            ],
            [
             0.8888888888888888,
             "#fdca26"
            ],
            [
             1,
             "#f0f921"
            ]
           ],
           "sequentialminus": [
            [
             0,
             "#0d0887"
            ],
            [
             0.1111111111111111,
             "#46039f"
            ],
            [
             0.2222222222222222,
             "#7201a8"
            ],
            [
             0.3333333333333333,
             "#9c179e"
            ],
            [
             0.4444444444444444,
             "#bd3786"
            ],
            [
             0.5555555555555556,
             "#d8576b"
            ],
            [
             0.6666666666666666,
             "#ed7953"
            ],
            [
             0.7777777777777778,
             "#fb9f3a"
            ],
            [
             0.8888888888888888,
             "#fdca26"
            ],
            [
             1,
             "#f0f921"
            ]
           ]
          },
          "colorway": [
           "#636efa",
           "#EF553B",
           "#00cc96",
           "#ab63fa",
           "#FFA15A",
           "#19d3f3",
           "#FF6692",
           "#B6E880",
           "#FF97FF",
           "#FECB52"
          ],
          "font": {
           "color": "#2a3f5f"
          },
          "geo": {
           "bgcolor": "white",
           "lakecolor": "white",
           "landcolor": "#E5ECF6",
           "showlakes": true,
           "showland": true,
           "subunitcolor": "white"
          },
          "hoverlabel": {
           "align": "left"
          },
          "hovermode": "closest",
          "mapbox": {
           "style": "light"
          },
          "paper_bgcolor": "white",
          "plot_bgcolor": "#E5ECF6",
          "polar": {
           "angularaxis": {
            "gridcolor": "white",
            "linecolor": "white",
            "ticks": ""
           },
           "bgcolor": "#E5ECF6",
           "radialaxis": {
            "gridcolor": "white",
            "linecolor": "white",
            "ticks": ""
           }
          },
          "scene": {
           "xaxis": {
            "backgroundcolor": "#E5ECF6",
            "gridcolor": "white",
            "gridwidth": 2,
            "linecolor": "white",
            "showbackground": true,
            "ticks": "",
            "zerolinecolor": "white"
           },
           "yaxis": {
            "backgroundcolor": "#E5ECF6",
            "gridcolor": "white",
            "gridwidth": 2,
            "linecolor": "white",
            "showbackground": true,
            "ticks": "",
            "zerolinecolor": "white"
           },
           "zaxis": {
            "backgroundcolor": "#E5ECF6",
            "gridcolor": "white",
            "gridwidth": 2,
            "linecolor": "white",
            "showbackground": true,
            "ticks": "",
            "zerolinecolor": "white"
           }
          },
          "shapedefaults": {
           "line": {
            "color": "#2a3f5f"
           }
          },
          "ternary": {
           "aaxis": {
            "gridcolor": "white",
            "linecolor": "white",
            "ticks": ""
           },
           "baxis": {
            "gridcolor": "white",
            "linecolor": "white",
            "ticks": ""
           },
           "bgcolor": "#E5ECF6",
           "caxis": {
            "gridcolor": "white",
            "linecolor": "white",
            "ticks": ""
           }
          },
          "title": {
           "x": 0.05
          },
          "xaxis": {
           "automargin": true,
           "gridcolor": "white",
           "linecolor": "white",
           "ticks": "",
           "title": {
            "standoff": 15
           },
           "zerolinecolor": "white",
           "zerolinewidth": 2
          },
          "yaxis": {
           "automargin": true,
           "gridcolor": "white",
           "linecolor": "white",
           "ticks": "",
           "title": {
            "standoff": 15
           },
           "zerolinecolor": "white",
           "zerolinewidth": 2
          }
         }
        },
        "title": {
         "text": "Genes with Applied Combination Therapy Strategies (non-BRAF)"
        },
        "xaxis": {
         "anchor": "y",
         "domain": [
          0,
          1
         ],
         "title": {
          "text": "Gene"
         }
        },
        "yaxis": {
         "anchor": "x",
         "domain": [
          0,
          1
         ],
         "title": {
          "text": "count"
         }
        }
       }
      }
     },
     "metadata": {},
     "output_type": "display_data"
    }
   ],
   "source": [
    "fig = px.bar(gene_counts, x='gene_symbol', y='count', \n",
    "             title='Genes with Applied Combination Therapy Strategies (non-BRAF)',\n",
    "             labels={'gene_symbol': 'Gene', 'count': 'count'},\n",
    "             barmode='stack',\n",
    "             text_auto=True)\n",
    "\n",
    "# Show the figure\n",
    "fig.show()"
   ]
  },
  {
   "cell_type": "code",
   "execution_count": 195,
   "metadata": {},
   "outputs": [
    {
     "data": {
      "text/html": [
       "<div>\n",
       "<style scoped>\n",
       "    .dataframe tbody tr th:only-of-type {\n",
       "        vertical-align: middle;\n",
       "    }\n",
       "\n",
       "    .dataframe tbody tr th {\n",
       "        vertical-align: top;\n",
       "    }\n",
       "\n",
       "    .dataframe thead th {\n",
       "        text-align: right;\n",
       "    }\n",
       "</style>\n",
       "<table border=\"1\" class=\"dataframe\">\n",
       "  <thead>\n",
       "    <tr style=\"text-align: right;\">\n",
       "      <th></th>\n",
       "      <th>variant</th>\n",
       "      <th>count</th>\n",
       "    </tr>\n",
       "  </thead>\n",
       "  <tbody>\n",
       "    <tr>\n",
       "      <th>0</th>\n",
       "      <td>V600E</td>\n",
       "      <td>51</td>\n",
       "    </tr>\n",
       "    <tr>\n",
       "      <th>1</th>\n",
       "      <td>V600K</td>\n",
       "      <td>5</td>\n",
       "    </tr>\n",
       "    <tr>\n",
       "      <th>2</th>\n",
       "      <td>D594G</td>\n",
       "      <td>2</td>\n",
       "    </tr>\n",
       "    <tr>\n",
       "      <th>3</th>\n",
       "      <td>V600D</td>\n",
       "      <td>1</td>\n",
       "    </tr>\n",
       "    <tr>\n",
       "      <th>4</th>\n",
       "      <td>A598V</td>\n",
       "      <td>1</td>\n",
       "    </tr>\n",
       "    <tr>\n",
       "      <th>5</th>\n",
       "      <td>G466V</td>\n",
       "      <td>1</td>\n",
       "    </tr>\n",
       "    <tr>\n",
       "      <th>6</th>\n",
       "      <td>G596C</td>\n",
       "      <td>1</td>\n",
       "    </tr>\n",
       "  </tbody>\n",
       "</table>\n",
       "</div>"
      ],
      "text/plain": [
       "  variant  count\n",
       "0   V600E     51\n",
       "1   V600K      5\n",
       "2   D594G      2\n",
       "3   V600D      1\n",
       "4   A598V      1\n",
       "5   G466V      1\n",
       "6   G596C      1"
      ]
     },
     "execution_count": 195,
     "metadata": {},
     "output_type": "execute_result"
    }
   ],
   "source": [
    "tdf = braf_df[braf_df['therapeutic_type'].str.contains('CombinationTherapy')]\n",
    "\n",
    "\n",
    "braf_variant_counts = tdf['braf_variant'].value_counts().rename_axis('variant').reset_index(name='count')\n",
    "braf_variant_counts"
   ]
  },
  {
   "cell_type": "code",
   "execution_count": 196,
   "metadata": {},
   "outputs": [
    {
     "data": {
      "application/vnd.plotly.v1+json": {
       "config": {
        "plotlyServerURL": "https://plot.ly"
       },
       "data": [
        {
         "alignmentgroup": "True",
         "hovertemplate": "Variant=%{x}<br>count=%{y}<extra></extra>",
         "legendgroup": "",
         "marker": {
          "color": "#636efa",
          "pattern": {
           "shape": ""
          }
         },
         "name": "",
         "offsetgroup": "",
         "orientation": "v",
         "showlegend": false,
         "textposition": "auto",
         "texttemplate": "%{y}",
         "type": "bar",
         "x": [
          "V600E",
          "V600K",
          "D594G",
          "V600D",
          "A598V",
          "G466V",
          "G596C"
         ],
         "xaxis": "x",
         "y": [
          51,
          5,
          2,
          1,
          1,
          1,
          1
         ],
         "yaxis": "y"
        }
       ],
       "layout": {
        "barmode": "stack",
        "legend": {
         "tracegroupgap": 0
        },
        "template": {
         "data": {
          "bar": [
           {
            "error_x": {
             "color": "#2a3f5f"
            },
            "error_y": {
             "color": "#2a3f5f"
            },
            "marker": {
             "line": {
              "color": "#E5ECF6",
              "width": 0.5
             },
             "pattern": {
              "fillmode": "overlay",
              "size": 10,
              "solidity": 0.2
             }
            },
            "type": "bar"
           }
          ],
          "barpolar": [
           {
            "marker": {
             "line": {
              "color": "#E5ECF6",
              "width": 0.5
             },
             "pattern": {
              "fillmode": "overlay",
              "size": 10,
              "solidity": 0.2
             }
            },
            "type": "barpolar"
           }
          ],
          "carpet": [
           {
            "aaxis": {
             "endlinecolor": "#2a3f5f",
             "gridcolor": "white",
             "linecolor": "white",
             "minorgridcolor": "white",
             "startlinecolor": "#2a3f5f"
            },
            "baxis": {
             "endlinecolor": "#2a3f5f",
             "gridcolor": "white",
             "linecolor": "white",
             "minorgridcolor": "white",
             "startlinecolor": "#2a3f5f"
            },
            "type": "carpet"
           }
          ],
          "choropleth": [
           {
            "colorbar": {
             "outlinewidth": 0,
             "ticks": ""
            },
            "type": "choropleth"
           }
          ],
          "contour": [
           {
            "colorbar": {
             "outlinewidth": 0,
             "ticks": ""
            },
            "colorscale": [
             [
              0,
              "#0d0887"
             ],
             [
              0.1111111111111111,
              "#46039f"
             ],
             [
              0.2222222222222222,
              "#7201a8"
             ],
             [
              0.3333333333333333,
              "#9c179e"
             ],
             [
              0.4444444444444444,
              "#bd3786"
             ],
             [
              0.5555555555555556,
              "#d8576b"
             ],
             [
              0.6666666666666666,
              "#ed7953"
             ],
             [
              0.7777777777777778,
              "#fb9f3a"
             ],
             [
              0.8888888888888888,
              "#fdca26"
             ],
             [
              1,
              "#f0f921"
             ]
            ],
            "type": "contour"
           }
          ],
          "contourcarpet": [
           {
            "colorbar": {
             "outlinewidth": 0,
             "ticks": ""
            },
            "type": "contourcarpet"
           }
          ],
          "heatmap": [
           {
            "colorbar": {
             "outlinewidth": 0,
             "ticks": ""
            },
            "colorscale": [
             [
              0,
              "#0d0887"
             ],
             [
              0.1111111111111111,
              "#46039f"
             ],
             [
              0.2222222222222222,
              "#7201a8"
             ],
             [
              0.3333333333333333,
              "#9c179e"
             ],
             [
              0.4444444444444444,
              "#bd3786"
             ],
             [
              0.5555555555555556,
              "#d8576b"
             ],
             [
              0.6666666666666666,
              "#ed7953"
             ],
             [
              0.7777777777777778,
              "#fb9f3a"
             ],
             [
              0.8888888888888888,
              "#fdca26"
             ],
             [
              1,
              "#f0f921"
             ]
            ],
            "type": "heatmap"
           }
          ],
          "heatmapgl": [
           {
            "colorbar": {
             "outlinewidth": 0,
             "ticks": ""
            },
            "colorscale": [
             [
              0,
              "#0d0887"
             ],
             [
              0.1111111111111111,
              "#46039f"
             ],
             [
              0.2222222222222222,
              "#7201a8"
             ],
             [
              0.3333333333333333,
              "#9c179e"
             ],
             [
              0.4444444444444444,
              "#bd3786"
             ],
             [
              0.5555555555555556,
              "#d8576b"
             ],
             [
              0.6666666666666666,
              "#ed7953"
             ],
             [
              0.7777777777777778,
              "#fb9f3a"
             ],
             [
              0.8888888888888888,
              "#fdca26"
             ],
             [
              1,
              "#f0f921"
             ]
            ],
            "type": "heatmapgl"
           }
          ],
          "histogram": [
           {
            "marker": {
             "pattern": {
              "fillmode": "overlay",
              "size": 10,
              "solidity": 0.2
             }
            },
            "type": "histogram"
           }
          ],
          "histogram2d": [
           {
            "colorbar": {
             "outlinewidth": 0,
             "ticks": ""
            },
            "colorscale": [
             [
              0,
              "#0d0887"
             ],
             [
              0.1111111111111111,
              "#46039f"
             ],
             [
              0.2222222222222222,
              "#7201a8"
             ],
             [
              0.3333333333333333,
              "#9c179e"
             ],
             [
              0.4444444444444444,
              "#bd3786"
             ],
             [
              0.5555555555555556,
              "#d8576b"
             ],
             [
              0.6666666666666666,
              "#ed7953"
             ],
             [
              0.7777777777777778,
              "#fb9f3a"
             ],
             [
              0.8888888888888888,
              "#fdca26"
             ],
             [
              1,
              "#f0f921"
             ]
            ],
            "type": "histogram2d"
           }
          ],
          "histogram2dcontour": [
           {
            "colorbar": {
             "outlinewidth": 0,
             "ticks": ""
            },
            "colorscale": [
             [
              0,
              "#0d0887"
             ],
             [
              0.1111111111111111,
              "#46039f"
             ],
             [
              0.2222222222222222,
              "#7201a8"
             ],
             [
              0.3333333333333333,
              "#9c179e"
             ],
             [
              0.4444444444444444,
              "#bd3786"
             ],
             [
              0.5555555555555556,
              "#d8576b"
             ],
             [
              0.6666666666666666,
              "#ed7953"
             ],
             [
              0.7777777777777778,
              "#fb9f3a"
             ],
             [
              0.8888888888888888,
              "#fdca26"
             ],
             [
              1,
              "#f0f921"
             ]
            ],
            "type": "histogram2dcontour"
           }
          ],
          "mesh3d": [
           {
            "colorbar": {
             "outlinewidth": 0,
             "ticks": ""
            },
            "type": "mesh3d"
           }
          ],
          "parcoords": [
           {
            "line": {
             "colorbar": {
              "outlinewidth": 0,
              "ticks": ""
             }
            },
            "type": "parcoords"
           }
          ],
          "pie": [
           {
            "automargin": true,
            "type": "pie"
           }
          ],
          "scatter": [
           {
            "fillpattern": {
             "fillmode": "overlay",
             "size": 10,
             "solidity": 0.2
            },
            "type": "scatter"
           }
          ],
          "scatter3d": [
           {
            "line": {
             "colorbar": {
              "outlinewidth": 0,
              "ticks": ""
             }
            },
            "marker": {
             "colorbar": {
              "outlinewidth": 0,
              "ticks": ""
             }
            },
            "type": "scatter3d"
           }
          ],
          "scattercarpet": [
           {
            "marker": {
             "colorbar": {
              "outlinewidth": 0,
              "ticks": ""
             }
            },
            "type": "scattercarpet"
           }
          ],
          "scattergeo": [
           {
            "marker": {
             "colorbar": {
              "outlinewidth": 0,
              "ticks": ""
             }
            },
            "type": "scattergeo"
           }
          ],
          "scattergl": [
           {
            "marker": {
             "colorbar": {
              "outlinewidth": 0,
              "ticks": ""
             }
            },
            "type": "scattergl"
           }
          ],
          "scattermapbox": [
           {
            "marker": {
             "colorbar": {
              "outlinewidth": 0,
              "ticks": ""
             }
            },
            "type": "scattermapbox"
           }
          ],
          "scatterpolar": [
           {
            "marker": {
             "colorbar": {
              "outlinewidth": 0,
              "ticks": ""
             }
            },
            "type": "scatterpolar"
           }
          ],
          "scatterpolargl": [
           {
            "marker": {
             "colorbar": {
              "outlinewidth": 0,
              "ticks": ""
             }
            },
            "type": "scatterpolargl"
           }
          ],
          "scatterternary": [
           {
            "marker": {
             "colorbar": {
              "outlinewidth": 0,
              "ticks": ""
             }
            },
            "type": "scatterternary"
           }
          ],
          "surface": [
           {
            "colorbar": {
             "outlinewidth": 0,
             "ticks": ""
            },
            "colorscale": [
             [
              0,
              "#0d0887"
             ],
             [
              0.1111111111111111,
              "#46039f"
             ],
             [
              0.2222222222222222,
              "#7201a8"
             ],
             [
              0.3333333333333333,
              "#9c179e"
             ],
             [
              0.4444444444444444,
              "#bd3786"
             ],
             [
              0.5555555555555556,
              "#d8576b"
             ],
             [
              0.6666666666666666,
              "#ed7953"
             ],
             [
              0.7777777777777778,
              "#fb9f3a"
             ],
             [
              0.8888888888888888,
              "#fdca26"
             ],
             [
              1,
              "#f0f921"
             ]
            ],
            "type": "surface"
           }
          ],
          "table": [
           {
            "cells": {
             "fill": {
              "color": "#EBF0F8"
             },
             "line": {
              "color": "white"
             }
            },
            "header": {
             "fill": {
              "color": "#C8D4E3"
             },
             "line": {
              "color": "white"
             }
            },
            "type": "table"
           }
          ]
         },
         "layout": {
          "annotationdefaults": {
           "arrowcolor": "#2a3f5f",
           "arrowhead": 0,
           "arrowwidth": 1
          },
          "autotypenumbers": "strict",
          "coloraxis": {
           "colorbar": {
            "outlinewidth": 0,
            "ticks": ""
           }
          },
          "colorscale": {
           "diverging": [
            [
             0,
             "#8e0152"
            ],
            [
             0.1,
             "#c51b7d"
            ],
            [
             0.2,
             "#de77ae"
            ],
            [
             0.3,
             "#f1b6da"
            ],
            [
             0.4,
             "#fde0ef"
            ],
            [
             0.5,
             "#f7f7f7"
            ],
            [
             0.6,
             "#e6f5d0"
            ],
            [
             0.7,
             "#b8e186"
            ],
            [
             0.8,
             "#7fbc41"
            ],
            [
             0.9,
             "#4d9221"
            ],
            [
             1,
             "#276419"
            ]
           ],
           "sequential": [
            [
             0,
             "#0d0887"
            ],
            [
             0.1111111111111111,
             "#46039f"
            ],
            [
             0.2222222222222222,
             "#7201a8"
            ],
            [
             0.3333333333333333,
             "#9c179e"
            ],
            [
             0.4444444444444444,
             "#bd3786"
            ],
            [
             0.5555555555555556,
             "#d8576b"
            ],
            [
             0.6666666666666666,
             "#ed7953"
            ],
            [
             0.7777777777777778,
             "#fb9f3a"
            ],
            [
             0.8888888888888888,
             "#fdca26"
            ],
            [
             1,
             "#f0f921"
            ]
           ],
           "sequentialminus": [
            [
             0,
             "#0d0887"
            ],
            [
             0.1111111111111111,
             "#46039f"
            ],
            [
             0.2222222222222222,
             "#7201a8"
            ],
            [
             0.3333333333333333,
             "#9c179e"
            ],
            [
             0.4444444444444444,
             "#bd3786"
            ],
            [
             0.5555555555555556,
             "#d8576b"
            ],
            [
             0.6666666666666666,
             "#ed7953"
            ],
            [
             0.7777777777777778,
             "#fb9f3a"
            ],
            [
             0.8888888888888888,
             "#fdca26"
            ],
            [
             1,
             "#f0f921"
            ]
           ]
          },
          "colorway": [
           "#636efa",
           "#EF553B",
           "#00cc96",
           "#ab63fa",
           "#FFA15A",
           "#19d3f3",
           "#FF6692",
           "#B6E880",
           "#FF97FF",
           "#FECB52"
          ],
          "font": {
           "color": "#2a3f5f"
          },
          "geo": {
           "bgcolor": "white",
           "lakecolor": "white",
           "landcolor": "#E5ECF6",
           "showlakes": true,
           "showland": true,
           "subunitcolor": "white"
          },
          "hoverlabel": {
           "align": "left"
          },
          "hovermode": "closest",
          "mapbox": {
           "style": "light"
          },
          "paper_bgcolor": "white",
          "plot_bgcolor": "#E5ECF6",
          "polar": {
           "angularaxis": {
            "gridcolor": "white",
            "linecolor": "white",
            "ticks": ""
           },
           "bgcolor": "#E5ECF6",
           "radialaxis": {
            "gridcolor": "white",
            "linecolor": "white",
            "ticks": ""
           }
          },
          "scene": {
           "xaxis": {
            "backgroundcolor": "#E5ECF6",
            "gridcolor": "white",
            "gridwidth": 2,
            "linecolor": "white",
            "showbackground": true,
            "ticks": "",
            "zerolinecolor": "white"
           },
           "yaxis": {
            "backgroundcolor": "#E5ECF6",
            "gridcolor": "white",
            "gridwidth": 2,
            "linecolor": "white",
            "showbackground": true,
            "ticks": "",
            "zerolinecolor": "white"
           },
           "zaxis": {
            "backgroundcolor": "#E5ECF6",
            "gridcolor": "white",
            "gridwidth": 2,
            "linecolor": "white",
            "showbackground": true,
            "ticks": "",
            "zerolinecolor": "white"
           }
          },
          "shapedefaults": {
           "line": {
            "color": "#2a3f5f"
           }
          },
          "ternary": {
           "aaxis": {
            "gridcolor": "white",
            "linecolor": "white",
            "ticks": ""
           },
           "baxis": {
            "gridcolor": "white",
            "linecolor": "white",
            "ticks": ""
           },
           "bgcolor": "#E5ECF6",
           "caxis": {
            "gridcolor": "white",
            "linecolor": "white",
            "ticks": ""
           }
          },
          "title": {
           "x": 0.05
          },
          "xaxis": {
           "automargin": true,
           "gridcolor": "white",
           "linecolor": "white",
           "ticks": "",
           "title": {
            "standoff": 15
           },
           "zerolinecolor": "white",
           "zerolinewidth": 2
          },
          "yaxis": {
           "automargin": true,
           "gridcolor": "white",
           "linecolor": "white",
           "ticks": "",
           "title": {
            "standoff": 15
           },
           "zerolinecolor": "white",
           "zerolinewidth": 2
          }
         }
        },
        "title": {
         "text": "BRAF variants with Applied Combination Therapy Strategies"
        },
        "xaxis": {
         "anchor": "y",
         "domain": [
          0,
          1
         ],
         "title": {
          "text": "Variant"
         }
        },
        "yaxis": {
         "anchor": "x",
         "domain": [
          0,
          1
         ],
         "title": {
          "text": "count"
         }
        }
       }
      }
     },
     "metadata": {},
     "output_type": "display_data"
    }
   ],
   "source": [
    "fig = px.bar(braf_variant_counts, x='variant', y='count', \n",
    "             title='BRAF variants with Applied Combination Therapy Strategies',\n",
    "             labels={'variant': 'Variant', 'count': 'count'},\n",
    "             barmode='stack',\n",
    "             text_auto=True)\n",
    "\n",
    "# Show the figure\n",
    "fig.show()"
   ]
  }
 ],
 "metadata": {
  "kernelspec": {
   "display_name": "Python 3",
   "language": "python",
   "name": "python3"
  },
  "language_info": {
   "codemirror_mode": {
    "name": "ipython",
    "version": 3
   },
   "file_extension": ".py",
   "mimetype": "text/x-python",
   "name": "python",
   "nbconvert_exporter": "python",
   "pygments_lexer": "ipython3",
   "version": "3.10.14"
  }
 },
 "nbformat": 4,
 "nbformat_minor": 2
}
