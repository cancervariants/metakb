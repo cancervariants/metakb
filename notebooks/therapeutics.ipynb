{
 "cells": [
  {
   "cell_type": "markdown",
   "metadata": {},
   "source": [
    "## Investigate MetaKB Dataset: Therapeutics & Combination Therapies\n",
    "In order to better understand the MetaKB aggregate dataset, perform graph-directed lookups via neo4j to identify potential insights or avenues of discussion that might not previously be accessible.\n",
    "  \n",
    "This notebook focuses on exploring the Therapeutics & Combination Therapies datasets across different variants, studies, and gene contexts. Initial ideas are to look at FDA approval for therapies, diseases in use, and off-label use cases on a variant to variant or gene to gene basis.\n",
    "  \n",
    "**Current Data Version**: 5.20.0"
   ]
  },
  {
   "cell_type": "markdown",
   "metadata": {},
   "source": [
    "### Grab Therapeutics Data"
   ]
  },
  {
   "cell_type": "code",
   "execution_count": 144,
   "metadata": {},
   "outputs": [],
   "source": [
    "from neo4j import GraphDatabase\n",
    "\n",
    "# Function to create a connection to the Neo4j database\n",
    "def create_db_connection(uri, user, password):\n",
    "    driver = GraphDatabase.driver(uri, auth=(user, password))\n",
    "    return driver\n",
    "\n",
    "# Function to execute a Cypher query\n",
    "def execute_query(driver, query):\n",
    "    with driver.session() as session:\n",
    "        result = session.run(query)\n",
    "        return [record for record in result]\n",
    "\n",
    "# Connect to the Neo4j database\n",
    "uri = \"bolt://localhost:7687\"\n",
    "user = \"neo4j\"\n",
    "password = \"password\"  # Replace 'your_password' with your actual password\n",
    "driver = create_db_connection(uri, user, password)\n",
    "\n",
    "# Strict, Must have Combination Therapies\n",
    "query = \"\"\"MATCH (s:Study)-[:HAS_VARIANT]->(variant),\n",
    "      (s)-[:HAS_THERAPEUTIC]->(therapeutic),\n",
    "      (therapeutic)-[:HAS_COMPONENTS]->(combination)\n",
    "RETURN properties(s) AS Study, \n",
    "       properties(variant) AS VariantProperties,\n",
    "       properties(therapeutic) AS TherapeuticProperties,\n",
    "       COUNT(combination) AS NumberOfComponents,\n",
    "       COLLECT(properties(combination)) AS CombinationTherapyProperties\n",
    "\"\"\"\n",
    "\n",
    "query_therapies = \"\"\"\n",
    "MATCH (s:Study)-[:HAS_VARIANT]->(variant),\n",
    "      (s)-[:HAS_THERAPEUTIC]->(therapeutic)\n",
    "OPTIONAL MATCH (therapeutic)-[:HAS_COMPONENTS]->(combination)\n",
    "RETURN properties(s) AS Study, \n",
    "       properties(variant) AS VariantProperties,\n",
    "       properties(therapeutic) AS TherapeuticProperties,\n",
    "       COUNT(combination) AS NumberOfComponents,\n",
    "       COLLECT(properties(combination)) AS CombinationTherapyProperties\n",
    "\"\"\"\n",
    "\n",
    "# Execute the query\n",
    "result = execute_query(driver, query_therapies)\n",
    "\n",
    "# Close the connection\n",
    "driver.close()\n",
    "\n",
    "\n"
   ]
  },
  {
   "cell_type": "code",
   "execution_count": 147,
   "metadata": {},
   "outputs": [
    {
     "data": {
      "text/html": [
       "<div>\n",
       "<style scoped>\n",
       "    .dataframe tbody tr th:only-of-type {\n",
       "        vertical-align: middle;\n",
       "    }\n",
       "\n",
       "    .dataframe tbody tr th {\n",
       "        vertical-align: top;\n",
       "    }\n",
       "\n",
       "    .dataframe thead th {\n",
       "        text-align: right;\n",
       "    }\n",
       "</style>\n",
       "<table border=\"1\" class=\"dataframe\">\n",
       "  <thead>\n",
       "    <tr style=\"text-align: right;\">\n",
       "      <th></th>\n",
       "      <th>study_allele_origin</th>\n",
       "      <th>study_id</th>\n",
       "      <th>study_direction</th>\n",
       "      <th>study_predicate</th>\n",
       "      <th>study_type</th>\n",
       "      <th>variant_mp_score</th>\n",
       "      <th>variant_id</th>\n",
       "      <th>variant_label</th>\n",
       "      <th>variant_type</th>\n",
       "      <th>therapeutic_type</th>\n",
       "      <th>therapeutic_civic_type</th>\n",
       "      <th>therapeutic_id</th>\n",
       "      <th>therapeutic_label</th>\n",
       "      <th>number_of_components</th>\n",
       "      <th>combination_therapy_components</th>\n",
       "    </tr>\n",
       "  </thead>\n",
       "  <tbody>\n",
       "    <tr>\n",
       "      <th>0</th>\n",
       "      <td>somatic</td>\n",
       "      <td>civic.eid:238</td>\n",
       "      <td>supports</td>\n",
       "      <td>predictsResistanceTo</td>\n",
       "      <td>VariantTherapeuticResponseStudy</td>\n",
       "      <td>406.25</td>\n",
       "      <td>civic.mpid:34</td>\n",
       "      <td>EGFR T790M</td>\n",
       "      <td>[{\"label\": \"missense_variant\", \"system\": \"http...</td>\n",
       "      <td>TherapeuticAgent</td>\n",
       "      <td>None</td>\n",
       "      <td>civic.tid:15</td>\n",
       "      <td>Erlotinib</td>\n",
       "      <td>0</td>\n",
       "      <td>[]</td>\n",
       "    </tr>\n",
       "    <tr>\n",
       "      <th>1</th>\n",
       "      <td>somatic</td>\n",
       "      <td>civic.eid:1409</td>\n",
       "      <td>supports</td>\n",
       "      <td>predictsSensitivityTo</td>\n",
       "      <td>VariantTherapeuticResponseStudy</td>\n",
       "      <td>1378.50</td>\n",
       "      <td>civic.mpid:12</td>\n",
       "      <td>BRAF V600E</td>\n",
       "      <td>[{\"label\": \"missense_variant\", \"system\": \"http...</td>\n",
       "      <td>TherapeuticAgent</td>\n",
       "      <td>None</td>\n",
       "      <td>civic.tid:4</td>\n",
       "      <td>Vemurafenib</td>\n",
       "      <td>0</td>\n",
       "      <td>[]</td>\n",
       "    </tr>\n",
       "    <tr>\n",
       "      <th>2</th>\n",
       "      <td>somatic</td>\n",
       "      <td>civic.eid:1592</td>\n",
       "      <td>supports</td>\n",
       "      <td>predictsSensitivityTo</td>\n",
       "      <td>VariantTherapeuticResponseStudy</td>\n",
       "      <td>406.25</td>\n",
       "      <td>civic.mpid:34</td>\n",
       "      <td>EGFR T790M</td>\n",
       "      <td>[{\"label\": \"missense_variant\", \"system\": \"http...</td>\n",
       "      <td>TherapeuticAgent</td>\n",
       "      <td>None</td>\n",
       "      <td>civic.tid:187</td>\n",
       "      <td>Osimertinib</td>\n",
       "      <td>0</td>\n",
       "      <td>[]</td>\n",
       "    </tr>\n",
       "    <tr>\n",
       "      <th>3</th>\n",
       "      <td>somatic</td>\n",
       "      <td>civic.eid:1867</td>\n",
       "      <td>supports</td>\n",
       "      <td>predictsSensitivityTo</td>\n",
       "      <td>VariantTherapeuticResponseStudy</td>\n",
       "      <td>406.25</td>\n",
       "      <td>civic.mpid:34</td>\n",
       "      <td>EGFR T790M</td>\n",
       "      <td>[{\"label\": \"missense_variant\", \"system\": \"http...</td>\n",
       "      <td>TherapeuticAgent</td>\n",
       "      <td>None</td>\n",
       "      <td>civic.tid:187</td>\n",
       "      <td>Osimertinib</td>\n",
       "      <td>0</td>\n",
       "      <td>[]</td>\n",
       "    </tr>\n",
       "    <tr>\n",
       "      <th>4</th>\n",
       "      <td>somatic</td>\n",
       "      <td>civic.eid:2994</td>\n",
       "      <td>supports</td>\n",
       "      <td>predictsSensitivityTo</td>\n",
       "      <td>VariantTherapeuticResponseStudy</td>\n",
       "      <td>379.00</td>\n",
       "      <td>civic.mpid:33</td>\n",
       "      <td>EGFR L858R</td>\n",
       "      <td>[{\"label\": \"missense_variant\", \"system\": \"http...</td>\n",
       "      <td>TherapeuticAgent</td>\n",
       "      <td>None</td>\n",
       "      <td>civic.tid:15</td>\n",
       "      <td>Erlotinib</td>\n",
       "      <td>0</td>\n",
       "      <td>[]</td>\n",
       "    </tr>\n",
       "    <tr>\n",
       "      <th>...</th>\n",
       "      <td>...</td>\n",
       "      <td>...</td>\n",
       "      <td>...</td>\n",
       "      <td>...</td>\n",
       "      <td>...</td>\n",
       "      <td>...</td>\n",
       "      <td>...</td>\n",
       "      <td>...</td>\n",
       "      <td>...</td>\n",
       "      <td>...</td>\n",
       "      <td>...</td>\n",
       "      <td>...</td>\n",
       "      <td>...</td>\n",
       "      <td>...</td>\n",
       "      <td>...</td>\n",
       "    </tr>\n",
       "    <tr>\n",
       "      <th>1037</th>\n",
       "      <td>somatic</td>\n",
       "      <td>moa.assertion:961</td>\n",
       "      <td>none</td>\n",
       "      <td>predictsSensitivityTo</td>\n",
       "      <td>VariantTherapeuticResponseStudy</td>\n",
       "      <td>NaN</td>\n",
       "      <td>moa.variant:66</td>\n",
       "      <td>ABL1 p.T315I (Missense)</td>\n",
       "      <td>None</td>\n",
       "      <td>TherapeuticAgent</td>\n",
       "      <td>None</td>\n",
       "      <td>moa.normalize.therapy.rxcui:1364347</td>\n",
       "      <td>Ponatinib</td>\n",
       "      <td>0</td>\n",
       "      <td>[]</td>\n",
       "    </tr>\n",
       "    <tr>\n",
       "      <th>1038</th>\n",
       "      <td>somatic</td>\n",
       "      <td>moa.assertion:963</td>\n",
       "      <td>none</td>\n",
       "      <td>predictsSensitivityTo</td>\n",
       "      <td>VariantTherapeuticResponseStudy</td>\n",
       "      <td>NaN</td>\n",
       "      <td>moa.variant:146</td>\n",
       "      <td>BRAF p.V600K (Missense)</td>\n",
       "      <td>None</td>\n",
       "      <td>TherapeuticAgent</td>\n",
       "      <td>None</td>\n",
       "      <td>moa.normalize.therapy.ncit:C106254</td>\n",
       "      <td>Tovorafenib</td>\n",
       "      <td>0</td>\n",
       "      <td>[]</td>\n",
       "    </tr>\n",
       "    <tr>\n",
       "      <th>1039</th>\n",
       "      <td>somatic</td>\n",
       "      <td>moa.assertion:967</td>\n",
       "      <td>none</td>\n",
       "      <td>predictsSensitivityTo</td>\n",
       "      <td>VariantTherapeuticResponseStudy</td>\n",
       "      <td>NaN</td>\n",
       "      <td>moa.variant:254</td>\n",
       "      <td>EGFR p.L858R (Missense)</td>\n",
       "      <td>None</td>\n",
       "      <td>TherapeuticAgent</td>\n",
       "      <td>None</td>\n",
       "      <td>moa.normalize.therapy.rxcui:337525</td>\n",
       "      <td>Erlotinib</td>\n",
       "      <td>0</td>\n",
       "      <td>[]</td>\n",
       "    </tr>\n",
       "    <tr>\n",
       "      <th>1040</th>\n",
       "      <td>somatic</td>\n",
       "      <td>moa.assertion:969</td>\n",
       "      <td>none</td>\n",
       "      <td>predictsSensitivityTo</td>\n",
       "      <td>VariantTherapeuticResponseStudy</td>\n",
       "      <td>NaN</td>\n",
       "      <td>moa.variant:254</td>\n",
       "      <td>EGFR p.L858R (Missense)</td>\n",
       "      <td>None</td>\n",
       "      <td>TherapeuticAgent</td>\n",
       "      <td>None</td>\n",
       "      <td>moa.normalize.therapy.rxcui:328134</td>\n",
       "      <td>Gefitinib</td>\n",
       "      <td>0</td>\n",
       "      <td>[]</td>\n",
       "    </tr>\n",
       "    <tr>\n",
       "      <th>1041</th>\n",
       "      <td>somatic</td>\n",
       "      <td>moa.assertion:973</td>\n",
       "      <td>none</td>\n",
       "      <td>predictsSensitivityTo</td>\n",
       "      <td>VariantTherapeuticResponseStudy</td>\n",
       "      <td>NaN</td>\n",
       "      <td>moa.variant:372</td>\n",
       "      <td>KRAS p.G12C (Missense)</td>\n",
       "      <td>None</td>\n",
       "      <td>CombinationTherapy</td>\n",
       "      <td>None</td>\n",
       "      <td>moa.ctid:5e89NyyfMGR167xjfPQC_QJBxBI9OYZx</td>\n",
       "      <td>None</td>\n",
       "      <td>2</td>\n",
       "      <td>[{'id': 'moa.normalize.therapy.ncit:C157493', ...</td>\n",
       "    </tr>\n",
       "  </tbody>\n",
       "</table>\n",
       "<p>1042 rows × 15 columns</p>\n",
       "</div>"
      ],
      "text/plain": [
       "     study_allele_origin           study_id study_direction  \\\n",
       "0                somatic      civic.eid:238        supports   \n",
       "1                somatic     civic.eid:1409        supports   \n",
       "2                somatic     civic.eid:1592        supports   \n",
       "3                somatic     civic.eid:1867        supports   \n",
       "4                somatic     civic.eid:2994        supports   \n",
       "...                  ...                ...             ...   \n",
       "1037             somatic  moa.assertion:961            none   \n",
       "1038             somatic  moa.assertion:963            none   \n",
       "1039             somatic  moa.assertion:967            none   \n",
       "1040             somatic  moa.assertion:969            none   \n",
       "1041             somatic  moa.assertion:973            none   \n",
       "\n",
       "            study_predicate                       study_type  \\\n",
       "0      predictsResistanceTo  VariantTherapeuticResponseStudy   \n",
       "1     predictsSensitivityTo  VariantTherapeuticResponseStudy   \n",
       "2     predictsSensitivityTo  VariantTherapeuticResponseStudy   \n",
       "3     predictsSensitivityTo  VariantTherapeuticResponseStudy   \n",
       "4     predictsSensitivityTo  VariantTherapeuticResponseStudy   \n",
       "...                     ...                              ...   \n",
       "1037  predictsSensitivityTo  VariantTherapeuticResponseStudy   \n",
       "1038  predictsSensitivityTo  VariantTherapeuticResponseStudy   \n",
       "1039  predictsSensitivityTo  VariantTherapeuticResponseStudy   \n",
       "1040  predictsSensitivityTo  VariantTherapeuticResponseStudy   \n",
       "1041  predictsSensitivityTo  VariantTherapeuticResponseStudy   \n",
       "\n",
       "      variant_mp_score       variant_id            variant_label  \\\n",
       "0               406.25    civic.mpid:34               EGFR T790M   \n",
       "1              1378.50    civic.mpid:12               BRAF V600E   \n",
       "2               406.25    civic.mpid:34               EGFR T790M   \n",
       "3               406.25    civic.mpid:34               EGFR T790M   \n",
       "4               379.00    civic.mpid:33               EGFR L858R   \n",
       "...                ...              ...                      ...   \n",
       "1037               NaN   moa.variant:66  ABL1 p.T315I (Missense)   \n",
       "1038               NaN  moa.variant:146  BRAF p.V600K (Missense)   \n",
       "1039               NaN  moa.variant:254  EGFR p.L858R (Missense)   \n",
       "1040               NaN  moa.variant:254  EGFR p.L858R (Missense)   \n",
       "1041               NaN  moa.variant:372   KRAS p.G12C (Missense)   \n",
       "\n",
       "                                           variant_type    therapeutic_type  \\\n",
       "0     [{\"label\": \"missense_variant\", \"system\": \"http...    TherapeuticAgent   \n",
       "1     [{\"label\": \"missense_variant\", \"system\": \"http...    TherapeuticAgent   \n",
       "2     [{\"label\": \"missense_variant\", \"system\": \"http...    TherapeuticAgent   \n",
       "3     [{\"label\": \"missense_variant\", \"system\": \"http...    TherapeuticAgent   \n",
       "4     [{\"label\": \"missense_variant\", \"system\": \"http...    TherapeuticAgent   \n",
       "...                                                 ...                 ...   \n",
       "1037                                               None    TherapeuticAgent   \n",
       "1038                                               None    TherapeuticAgent   \n",
       "1039                                               None    TherapeuticAgent   \n",
       "1040                                               None    TherapeuticAgent   \n",
       "1041                                               None  CombinationTherapy   \n",
       "\n",
       "     therapeutic_civic_type                             therapeutic_id  \\\n",
       "0                      None                               civic.tid:15   \n",
       "1                      None                                civic.tid:4   \n",
       "2                      None                              civic.tid:187   \n",
       "3                      None                              civic.tid:187   \n",
       "4                      None                               civic.tid:15   \n",
       "...                     ...                                        ...   \n",
       "1037                   None        moa.normalize.therapy.rxcui:1364347   \n",
       "1038                   None         moa.normalize.therapy.ncit:C106254   \n",
       "1039                   None         moa.normalize.therapy.rxcui:337525   \n",
       "1040                   None         moa.normalize.therapy.rxcui:328134   \n",
       "1041                   None  moa.ctid:5e89NyyfMGR167xjfPQC_QJBxBI9OYZx   \n",
       "\n",
       "     therapeutic_label  number_of_components  \\\n",
       "0            Erlotinib                     0   \n",
       "1          Vemurafenib                     0   \n",
       "2          Osimertinib                     0   \n",
       "3          Osimertinib                     0   \n",
       "4            Erlotinib                     0   \n",
       "...                ...                   ...   \n",
       "1037         Ponatinib                     0   \n",
       "1038       Tovorafenib                     0   \n",
       "1039         Erlotinib                     0   \n",
       "1040         Gefitinib                     0   \n",
       "1041              None                     2   \n",
       "\n",
       "                         combination_therapy_components  \n",
       "0                                                    []  \n",
       "1                                                    []  \n",
       "2                                                    []  \n",
       "3                                                    []  \n",
       "4                                                    []  \n",
       "...                                                 ...  \n",
       "1037                                                 []  \n",
       "1038                                                 []  \n",
       "1039                                                 []  \n",
       "1040                                                 []  \n",
       "1041  [{'id': 'moa.normalize.therapy.ncit:C157493', ...  \n",
       "\n",
       "[1042 rows x 15 columns]"
      ]
     },
     "execution_count": 147,
     "metadata": {},
     "output_type": "execute_result"
    }
   ],
   "source": [
    "import pandas as pd\n",
    "\n",
    "data = []\n",
    "for record in result:\n",
    "    row = {\n",
    "        'study_allele_origin': record['Study'].get('alleleOrigin', None),\n",
    "        'study_id': record['Study']['id'],\n",
    "        'study_direction': record['Study']['direction'],\n",
    "        'study_predicate': record['Study']['predicate'],\n",
    "        'study_type': record['Study']['type'],\n",
    "        'variant_mp_score': record['VariantProperties'].get('civic_molecular_profile_score', None),\n",
    "        'variant_id': record['VariantProperties']['id'],\n",
    "        'variant_label': record['VariantProperties']['label'],\n",
    "        'variant_type': record['VariantProperties'].get('variant_types',None),\n",
    "        'therapeutic_type': record['TherapeuticProperties']['type'],\n",
    "        'therapeutic_civic_type': record['TherapeuticProperties'].get('civic_therapy_interaction_type', None),\n",
    "        'therapeutic_id': record['TherapeuticProperties']['id'],\n",
    "        'therapeutic_label': record['TherapeuticProperties'].get('label',None),\n",
    "        'number_of_components': record.get('NumberOfComponents', None),\n",
    "        'combination_therapy_components': record.get('CombinationTherapyProperties', None)\n",
    "    }\n",
    "\n",
    "    data.append(row)\n",
    "\n",
    "df = pd.DataFrame(data)\n",
    "\n",
    "df"
   ]
  },
  {
   "cell_type": "code",
   "execution_count": 6,
   "metadata": {},
   "outputs": [],
   "source": [
    "# save\n",
    "# df.to_excel('therapeutics.xlsx',sheet_name='Sheet1')"
   ]
  },
  {
   "cell_type": "markdown",
   "metadata": {},
   "source": [
    "### Inspect"
   ]
  },
  {
   "cell_type": "code",
   "execution_count": 3,
   "metadata": {},
   "outputs": [
    {
     "data": {
      "text/plain": [
       "count     815.000000\n",
       "mean      176.373620\n",
       "std       382.819215\n",
       "min         0.500000\n",
       "25%         7.500000\n",
       "50%        20.000000\n",
       "75%        96.500000\n",
       "max      1378.500000\n",
       "Name: variant_mp_score, dtype: float64"
      ]
     },
     "execution_count": 3,
     "metadata": {},
     "output_type": "execute_result"
    }
   ],
   "source": [
    "df['variant_mp_score'].describe()"
   ]
  },
  {
   "cell_type": "code",
   "execution_count": 4,
   "metadata": {},
   "outputs": [
    {
     "data": {
      "text/plain": [
       "variant_label\n",
       "BRAF V600E                 70\n",
       "EGFR L858R                 36\n",
       "BRAF p.V600E (Missense)    31\n",
       "EGFR T790M                 27\n",
       "PIK3CA H1047R              22\n",
       "                           ..\n",
       "KDR R961W                   1\n",
       "ERBB2 G778_S779insLPS       1\n",
       "ERBB2 G776delinsLC          1\n",
       "ERBB2 G776delinsCV          1\n",
       "IDH1 p.R132L (Missense)     1\n",
       "Name: count, Length: 474, dtype: int64"
      ]
     },
     "execution_count": 4,
     "metadata": {},
     "output_type": "execute_result"
    }
   ],
   "source": [
    "df['variant_label'].value_counts()"
   ]
  },
  {
   "cell_type": "code",
   "execution_count": 5,
   "metadata": {},
   "outputs": [
    {
     "data": {
      "text/plain": [
       "number_of_components\n",
       "0    922\n",
       "2    101\n",
       "3     19\n",
       "Name: count, dtype: int64"
      ]
     },
     "execution_count": 5,
     "metadata": {},
     "output_type": "execute_result"
    }
   ],
   "source": [
    "df['number_of_components'].value_counts()"
   ]
  },
  {
   "cell_type": "code",
   "execution_count": 149,
   "metadata": {},
   "outputs": [
    {
     "data": {
      "application/vnd.plotly.v1+json": {
       "config": {
        "plotlyServerURL": "https://plot.ly"
       },
       "data": [
        {
         "alignmentgroup": "True",
         "hovertemplate": "source=Combined<br>variant_mp_score=%{x}<extra></extra>",
         "legendgroup": "Combined",
         "marker": {
          "color": "#636efa"
         },
         "name": "Combined",
         "notched": false,
         "offsetgroup": "Combined",
         "orientation": "h",
         "showlegend": true,
         "type": "box",
         "x": [
          406.25,
          1378.5,
          406.25,
          406.25,
          379,
          379,
          50,
          176.5,
          1378.5,
          1378.5,
          176.5,
          75.5,
          107.5,
          7.5,
          108.5,
          null,
          47,
          1378.5,
          1378.5,
          379,
          1378.5,
          1378.5,
          1378.5,
          100.5,
          100.5,
          103,
          406.25,
          379,
          108.5,
          40,
          406.25,
          20,
          40,
          35,
          100.5,
          1378.5,
          379,
          406.25,
          379,
          35,
          108.5,
          107.5,
          1378.5,
          1378.5,
          67,
          1378.5,
          55,
          40,
          406.25,
          1378.5,
          1378.5,
          379,
          165,
          33.5,
          1378.5,
          1378.5,
          1378.5,
          1378.5,
          107.5,
          1378.5,
          107.5,
          1378.5,
          1378.5,
          65,
          86,
          1378.5,
          176.5,
          null,
          75.5,
          1378.5,
          379,
          406.25,
          63,
          18,
          55,
          35,
          379,
          379,
          17.5,
          406.25,
          108.5,
          176.5,
          86,
          406.25,
          1378.5,
          1378.5,
          1378.5,
          1378.5,
          379,
          406.25,
          19,
          23,
          15,
          15,
          15,
          1378.5,
          1378.5,
          1378.5,
          1378.5,
          406.25,
          162,
          67.5,
          379,
          1378.5,
          1378.5,
          108.5,
          38,
          107.5,
          107.5,
          63,
          1378.5,
          1378.5,
          30,
          30,
          1378.5,
          1378.5,
          1378.5,
          1378.5,
          96.5,
          25,
          108.5,
          1378.5,
          176.5,
          1378.5,
          165,
          63,
          63,
          162,
          162,
          176.5,
          176.5,
          38,
          38,
          56,
          56,
          107.5,
          379,
          18,
          379,
          null,
          67.5,
          5,
          67.5,
          162,
          32.5,
          38,
          5,
          10.5,
          19,
          10,
          20.5,
          null,
          null,
          null,
          null,
          12.5,
          12.5,
          16.5,
          23,
          12,
          10,
          20,
          20,
          1378.5,
          10,
          10,
          10,
          10,
          10,
          20,
          20,
          10,
          406.25,
          19.5,
          10,
          10,
          10,
          16,
          10,
          14,
          10,
          10,
          10,
          10,
          10,
          10,
          7.5,
          406.25,
          77.5,
          7.5,
          7.5,
          7.5,
          33.5,
          7.5,
          13.5,
          12.5,
          33.5,
          10.5,
          20.5,
          107.5,
          1378.5,
          9.5,
          7.5,
          9.5,
          1378.5,
          7.5,
          7.5,
          7.5,
          7.5,
          7.5,
          162,
          15.5,
          7.5,
          108.5,
          12.5,
          162,
          43.5,
          7.5,
          77.5,
          7.5,
          176.5,
          19.5,
          14.5,
          29.5,
          7.5,
          7.5,
          7.5,
          7.5,
          7.5,
          21.5,
          7.5,
          11.5,
          1378.5,
          1378.5,
          10.5,
          67.5,
          1378.5,
          7.5,
          96.5,
          7.5,
          7.5,
          14.5,
          14.5,
          7.5,
          7.5,
          7.5,
          7.5,
          379,
          75.5,
          12.5,
          7.5,
          43.5,
          7.5,
          100.5,
          7.5,
          7.5,
          7.5,
          7.5,
          14.5,
          23.5,
          1378.5,
          1378.5,
          1378.5,
          1378.5,
          7.5,
          1378.5,
          1378.5,
          7.5,
          9.5,
          7.5,
          47,
          47,
          7.5,
          7.5,
          7.5,
          7.5,
          7.5,
          7.5,
          8,
          11.5,
          14,
          5,
          12.5,
          10,
          162,
          96.5,
          1378.5,
          8,
          162,
          23,
          5,
          23,
          23,
          20.5,
          25.5,
          8,
          75.5,
          162,
          1378.5,
          21,
          5,
          96.5,
          5,
          77.5,
          1378.5,
          67.5,
          5,
          5,
          77.5,
          406.25,
          10,
          5,
          67.5,
          5,
          100.5,
          379,
          10,
          20.5,
          5,
          5,
          5,
          16,
          5,
          5,
          5,
          5,
          5,
          5,
          5,
          5,
          5,
          5,
          14.5,
          29.5,
          1378.5,
          5,
          5,
          5,
          5,
          14,
          6,
          5,
          14.5,
          5,
          9,
          80,
          5,
          5,
          5,
          38,
          162,
          63,
          108.5,
          108.5,
          67.5,
          5,
          67,
          21,
          8,
          8,
          24.5,
          5,
          8,
          5,
          null,
          2,
          null,
          null,
          null,
          null,
          null,
          null,
          2.5,
          17.5,
          406.25,
          77.5,
          43.5,
          2.5,
          2.5,
          5,
          8.5,
          379,
          2.5,
          5,
          2.5,
          2.5,
          5,
          5,
          2.5,
          11.5,
          11,
          162,
          176.5,
          7.5,
          108.5,
          23,
          null,
          7.5,
          null,
          null,
          null,
          null,
          null,
          5,
          null,
          null,
          null,
          23.5,
          5,
          5,
          23.5,
          5,
          12.5,
          5,
          5,
          11,
          9,
          8,
          18,
          8,
          8,
          8,
          9,
          21.5,
          21.5,
          8,
          26,
          4,
          100.5,
          4,
          4,
          67.5,
          33.5,
          108.5,
          4,
          4,
          4,
          4,
          4,
          4,
          23,
          379,
          4,
          11.5,
          162,
          75.5,
          96.5,
          19,
          16,
          4,
          21,
          28,
          8,
          4,
          23,
          4,
          9,
          23,
          23,
          9,
          23.5,
          11,
          4,
          33.5,
          23,
          16.5,
          7,
          8,
          8,
          19,
          4,
          108.5,
          77.5,
          13,
          96.5,
          406.25,
          19,
          46,
          32.5,
          47,
          21.5,
          8,
          9,
          22,
          25,
          44.5,
          41,
          10,
          15.5,
          4,
          7,
          4,
          4,
          4,
          96.5,
          96.5,
          14,
          8,
          8,
          29.5,
          8,
          13,
          13,
          21,
          13,
          13,
          21,
          7,
          9,
          7,
          7,
          9,
          4,
          7,
          4,
          4,
          6,
          20,
          20,
          3,
          3,
          103,
          33.5,
          33.5,
          16,
          33.5,
          33.5,
          23,
          14,
          14,
          16,
          5,
          23,
          3,
          86,
          86,
          1378.5,
          1378.5,
          1378.5,
          1378.5,
          1378.5,
          33.5,
          23,
          33.5,
          8,
          18,
          8,
          8,
          8,
          18,
          16,
          75.5,
          25,
          100.5,
          3,
          77.5,
          3,
          3,
          13.5,
          406.25,
          406.25,
          24.5,
          6,
          6,
          13.5,
          3,
          3,
          1378.5,
          3,
          33.5,
          10.5,
          1378.5,
          1378.5,
          96.5,
          3,
          96.5,
          96.5,
          8,
          7,
          96.5,
          75.5,
          3,
          3,
          3,
          3,
          67.5,
          77.5,
          15.5,
          12.5,
          96.5,
          406.25,
          24.5,
          21,
          8,
          162,
          3,
          3,
          15.5,
          379,
          379,
          379,
          379,
          3,
          3,
          3,
          3,
          3,
          3,
          3,
          3,
          13,
          5,
          21,
          77.5,
          77.5,
          19,
          19,
          96.5,
          406.25,
          379,
          14.5,
          6,
          14.5,
          29.5,
          29.5,
          3,
          3,
          3,
          379,
          20.5,
          3,
          379,
          379,
          379,
          10.5,
          3,
          6,
          null,
          47,
          3,
          3,
          7,
          3,
          3,
          3,
          3,
          3,
          3,
          3,
          7,
          9,
          379,
          3,
          43.5,
          43.5,
          6,
          6,
          3,
          77.5,
          77.5,
          29.5,
          5,
          10,
          41,
          14,
          14,
          14,
          43.5,
          176.5,
          26,
          3,
          3,
          3,
          3,
          9,
          8,
          7,
          7,
          7,
          26,
          7,
          9,
          20,
          20,
          20,
          6,
          6,
          96.5,
          8,
          1378.5,
          1378.5,
          21,
          20,
          8,
          3,
          3,
          3,
          3,
          5,
          56,
          1378.5,
          1378.5,
          33.5,
          2,
          406.25,
          379,
          1378.5,
          2,
          77.5,
          5,
          2,
          2,
          2,
          96.5,
          96.5,
          77.5,
          12,
          9.5,
          14.5,
          96.5,
          24.5,
          24.5,
          2,
          2,
          2,
          2,
          3,
          1,
          1,
          1,
          63,
          63,
          63,
          75.5,
          75.5,
          77.5,
          96.5,
          406.25,
          406.25,
          406.25,
          406.25,
          108.5,
          176.5,
          162,
          162,
          176.5,
          176.5,
          38,
          38,
          38,
          56,
          2,
          29.5,
          67,
          8.5,
          100.5,
          5,
          10,
          14.5,
          2,
          19.5,
          379,
          2,
          14.5,
          24.5,
          17,
          23.5,
          2,
          2,
          19,
          19,
          63,
          77.5,
          2,
          67.5,
          162,
          176.5,
          38,
          8.5,
          100.5,
          14.5,
          14.5,
          7,
          16,
          2,
          379,
          379,
          379,
          379,
          379,
          11.5,
          16,
          2,
          2,
          2,
          9.5,
          100.5,
          8.5,
          14.5,
          29.5,
          7,
          43.5,
          9,
          9,
          6,
          13,
          2,
          9.5,
          19,
          77.5,
          96.5,
          15.5,
          13,
          5,
          2,
          11,
          67.5,
          96.5,
          1,
          96.5,
          75.5,
          108.5,
          162,
          32.5,
          33.5,
          379,
          6,
          75.5,
          77.5,
          12.5,
          13,
          0.75,
          0.75,
          0.75,
          0.5,
          8,
          0.5,
          25.5,
          406.25,
          null,
          null,
          null,
          null,
          null,
          null,
          null,
          null,
          null,
          null,
          null,
          null,
          null,
          null,
          null,
          null,
          null,
          null,
          null,
          null,
          null,
          null,
          null,
          null,
          null,
          null,
          null,
          null,
          null,
          null,
          null,
          null,
          null,
          null,
          null,
          null,
          null,
          null,
          null,
          null,
          null,
          null,
          null,
          null,
          null,
          null,
          null,
          null,
          null,
          null,
          null,
          null,
          null,
          null,
          null,
          null,
          null,
          null,
          null,
          null,
          null,
          null,
          null,
          null,
          null,
          null,
          null,
          null,
          null,
          null,
          null,
          null,
          null,
          null,
          null,
          null,
          null,
          null,
          null,
          null,
          null,
          null,
          null,
          null,
          null,
          null,
          null,
          null,
          null,
          null,
          null,
          null,
          null,
          null,
          null,
          null,
          null,
          null,
          null,
          null,
          null,
          null,
          null,
          null,
          null,
          null,
          null,
          null,
          null,
          null,
          null,
          null,
          null,
          null,
          null,
          null,
          null,
          null,
          null,
          null,
          null,
          null,
          null,
          null,
          null,
          null,
          null,
          null,
          null,
          null,
          null,
          null,
          null,
          null,
          null,
          null,
          null,
          null,
          null,
          null,
          null,
          null,
          null,
          null,
          null,
          null,
          null,
          null,
          null,
          null,
          null,
          null,
          null,
          null,
          null,
          null,
          null,
          null,
          null,
          null,
          null,
          null,
          null,
          null,
          null,
          null,
          null,
          null,
          null,
          null,
          null,
          null,
          null,
          null,
          null,
          null,
          null,
          null,
          null,
          null,
          null,
          null,
          null,
          null,
          null,
          null,
          null,
          null,
          null,
          null,
          null,
          null,
          null,
          null,
          null,
          null,
          null,
          null,
          null,
          null,
          null,
          null,
          null
         ],
         "x0": " ",
         "xaxis": "x",
         "y0": " ",
         "yaxis": "y"
        },
        {
         "alignmentgroup": "True",
         "hovertemplate": "source=BRAF<br>variant_mp_score=%{x}<extra></extra>",
         "legendgroup": "BRAF",
         "marker": {
          "color": "#EF553B"
         },
         "name": "BRAF",
         "notched": false,
         "offsetgroup": "BRAF",
         "orientation": "h",
         "showlegend": true,
         "type": "box",
         "x": [
          1378.5,
          1378.5,
          1378.5,
          107.5,
          47,
          1378.5,
          1378.5,
          1378.5,
          1378.5,
          1378.5,
          1378.5,
          107.5,
          1378.5,
          1378.5,
          1378.5,
          1378.5,
          1378.5,
          1378.5,
          1378.5,
          1378.5,
          1378.5,
          107.5,
          1378.5,
          107.5,
          1378.5,
          1378.5,
          1378.5,
          1378.5,
          1378.5,
          1378.5,
          1378.5,
          1378.5,
          19,
          1378.5,
          1378.5,
          1378.5,
          1378.5,
          1378.5,
          1378.5,
          107.5,
          107.5,
          1378.5,
          1378.5,
          30,
          30,
          1378.5,
          1378.5,
          1378.5,
          1378.5,
          1378.5,
          1378.5,
          107.5,
          12,
          1378.5,
          107.5,
          1378.5,
          9.5,
          7.5,
          1378.5,
          43.5,
          1378.5,
          1378.5,
          1378.5,
          43.5,
          14.5,
          1378.5,
          1378.5,
          1378.5,
          1378.5,
          1378.5,
          1378.5,
          47,
          47,
          7.5,
          7.5,
          1378.5,
          1378.5,
          1378.5,
          1378.5,
          5,
          5,
          5,
          5,
          14,
          6,
          5,
          14.5,
          5,
          43.5,
          19,
          47,
          1378.5,
          1378.5,
          1378.5,
          1378.5,
          1378.5,
          1378.5,
          1378.5,
          1378.5,
          3,
          47,
          43.5,
          43.5,
          6,
          6,
          14,
          14,
          14,
          43.5,
          1378.5,
          1378.5,
          1378.5,
          1378.5,
          1378.5,
          12,
          9.5,
          14.5,
          2,
          43.5,
          6,
          0.75,
          0.75,
          0.75,
          null,
          null,
          null,
          null,
          null,
          null,
          null,
          null,
          null,
          null,
          null,
          null,
          null,
          null,
          null,
          null,
          null,
          null,
          null,
          null,
          null,
          null,
          null,
          null,
          null,
          null,
          null,
          null,
          null,
          null,
          null,
          null,
          null,
          null,
          null,
          null,
          null
         ],
         "x0": " ",
         "xaxis": "x",
         "y0": " ",
         "yaxis": "y"
        },
        {
         "alignmentgroup": "True",
         "hovertemplate": "source=All Other<br>variant_mp_score=%{x}<extra></extra>",
         "legendgroup": "All Other",
         "marker": {
          "color": "#00cc96"
         },
         "name": "All Other",
         "notched": false,
         "offsetgroup": "All Other",
         "orientation": "h",
         "showlegend": true,
         "type": "box",
         "x": [
          406.25,
          406.25,
          406.25,
          379,
          379,
          50,
          176.5,
          176.5,
          75.5,
          7.5,
          108.5,
          null,
          379,
          100.5,
          100.5,
          103,
          406.25,
          379,
          108.5,
          40,
          406.25,
          20,
          40,
          35,
          100.5,
          379,
          406.25,
          379,
          35,
          108.5,
          67,
          55,
          40,
          406.25,
          379,
          165,
          33.5,
          65,
          86,
          176.5,
          null,
          75.5,
          379,
          406.25,
          63,
          18,
          55,
          35,
          379,
          379,
          17.5,
          406.25,
          108.5,
          176.5,
          86,
          406.25,
          379,
          406.25,
          23,
          15,
          15,
          15,
          406.25,
          162,
          67.5,
          379,
          108.5,
          38,
          63,
          96.5,
          25,
          108.5,
          176.5,
          165,
          63,
          63,
          162,
          162,
          176.5,
          176.5,
          38,
          38,
          56,
          56,
          379,
          18,
          379,
          null,
          67.5,
          5,
          67.5,
          162,
          32.5,
          38,
          5,
          10.5,
          19,
          10,
          20.5,
          null,
          null,
          null,
          null,
          12.5,
          12.5,
          16.5,
          23,
          10,
          20,
          20,
          10,
          10,
          10,
          10,
          10,
          20,
          20,
          10,
          406.25,
          19.5,
          10,
          10,
          10,
          16,
          10,
          14,
          10,
          10,
          10,
          10,
          10,
          10,
          7.5,
          406.25,
          77.5,
          7.5,
          7.5,
          7.5,
          33.5,
          7.5,
          13.5,
          12.5,
          33.5,
          10.5,
          20.5,
          9.5,
          7.5,
          7.5,
          7.5,
          7.5,
          7.5,
          162,
          15.5,
          7.5,
          108.5,
          12.5,
          162,
          7.5,
          77.5,
          7.5,
          176.5,
          19.5,
          14.5,
          29.5,
          7.5,
          7.5,
          7.5,
          7.5,
          7.5,
          21.5,
          7.5,
          11.5,
          10.5,
          67.5,
          7.5,
          96.5,
          7.5,
          7.5,
          14.5,
          14.5,
          7.5,
          7.5,
          7.5,
          7.5,
          379,
          75.5,
          12.5,
          7.5,
          7.5,
          100.5,
          7.5,
          7.5,
          7.5,
          7.5,
          23.5,
          7.5,
          7.5,
          9.5,
          7.5,
          7.5,
          7.5,
          7.5,
          7.5,
          8,
          11.5,
          14,
          5,
          12.5,
          10,
          162,
          96.5,
          8,
          162,
          23,
          5,
          23,
          23,
          20.5,
          25.5,
          8,
          75.5,
          162,
          21,
          5,
          96.5,
          5,
          77.5,
          67.5,
          5,
          5,
          77.5,
          406.25,
          10,
          5,
          67.5,
          5,
          100.5,
          379,
          10,
          20.5,
          5,
          5,
          5,
          16,
          5,
          5,
          5,
          5,
          5,
          5,
          5,
          5,
          5,
          5,
          14.5,
          29.5,
          9,
          80,
          5,
          5,
          5,
          38,
          162,
          63,
          108.5,
          108.5,
          67.5,
          5,
          67,
          21,
          8,
          8,
          24.5,
          5,
          8,
          5,
          null,
          2,
          null,
          null,
          null,
          null,
          null,
          null,
          2.5,
          17.5,
          406.25,
          77.5,
          2.5,
          2.5,
          5,
          8.5,
          379,
          2.5,
          5,
          2.5,
          2.5,
          5,
          5,
          2.5,
          11.5,
          11,
          162,
          176.5,
          7.5,
          108.5,
          23,
          null,
          7.5,
          null,
          null,
          null,
          null,
          null,
          5,
          null,
          null,
          null,
          23.5,
          5,
          5,
          23.5,
          5,
          12.5,
          5,
          5,
          11,
          9,
          8,
          18,
          8,
          8,
          8,
          9,
          21.5,
          21.5,
          8,
          26,
          4,
          100.5,
          4,
          4,
          67.5,
          33.5,
          108.5,
          4,
          4,
          4,
          4,
          4,
          4,
          23,
          379,
          4,
          11.5,
          162,
          75.5,
          96.5,
          19,
          16,
          4,
          21,
          28,
          8,
          4,
          23,
          4,
          9,
          23,
          23,
          9,
          23.5,
          11,
          4,
          33.5,
          23,
          16.5,
          7,
          8,
          8,
          4,
          108.5,
          77.5,
          13,
          96.5,
          406.25,
          19,
          46,
          32.5,
          21.5,
          8,
          9,
          22,
          25,
          44.5,
          41,
          10,
          15.5,
          4,
          7,
          4,
          4,
          4,
          96.5,
          96.5,
          14,
          8,
          8,
          29.5,
          8,
          13,
          13,
          21,
          13,
          13,
          21,
          7,
          9,
          7,
          7,
          9,
          4,
          7,
          4,
          4,
          6,
          20,
          20,
          3,
          3,
          103,
          33.5,
          33.5,
          16,
          33.5,
          33.5,
          23,
          14,
          14,
          16,
          5,
          23,
          3,
          86,
          86,
          33.5,
          23,
          33.5,
          8,
          18,
          8,
          8,
          8,
          18,
          16,
          75.5,
          25,
          100.5,
          3,
          77.5,
          3,
          3,
          13.5,
          406.25,
          406.25,
          24.5,
          6,
          6,
          13.5,
          3,
          3,
          3,
          33.5,
          10.5,
          96.5,
          96.5,
          96.5,
          8,
          7,
          96.5,
          75.5,
          3,
          3,
          3,
          3,
          67.5,
          77.5,
          15.5,
          12.5,
          96.5,
          406.25,
          24.5,
          21,
          8,
          162,
          3,
          3,
          15.5,
          379,
          379,
          379,
          379,
          3,
          3,
          3,
          3,
          3,
          3,
          3,
          3,
          13,
          5,
          21,
          77.5,
          77.5,
          19,
          19,
          96.5,
          406.25,
          379,
          14.5,
          6,
          14.5,
          29.5,
          29.5,
          3,
          3,
          3,
          379,
          20.5,
          3,
          379,
          379,
          379,
          10.5,
          3,
          6,
          null,
          3,
          3,
          7,
          3,
          3,
          3,
          3,
          3,
          3,
          3,
          7,
          9,
          379,
          3,
          3,
          77.5,
          77.5,
          29.5,
          5,
          10,
          41,
          176.5,
          26,
          3,
          3,
          3,
          3,
          9,
          8,
          7,
          7,
          7,
          26,
          7,
          9,
          20,
          20,
          20,
          6,
          6,
          96.5,
          8,
          21,
          20,
          8,
          3,
          3,
          3,
          3,
          5,
          56,
          33.5,
          2,
          406.25,
          379,
          2,
          77.5,
          5,
          2,
          2,
          2,
          96.5,
          96.5,
          77.5,
          96.5,
          24.5,
          24.5,
          2,
          2,
          2,
          3,
          1,
          1,
          1,
          63,
          63,
          63,
          75.5,
          75.5,
          77.5,
          96.5,
          406.25,
          406.25,
          406.25,
          406.25,
          108.5,
          176.5,
          162,
          162,
          176.5,
          176.5,
          38,
          38,
          38,
          56,
          2,
          29.5,
          67,
          8.5,
          100.5,
          5,
          10,
          14.5,
          2,
          19.5,
          379,
          2,
          14.5,
          24.5,
          17,
          23.5,
          2,
          2,
          19,
          19,
          63,
          77.5,
          2,
          67.5,
          162,
          176.5,
          38,
          8.5,
          100.5,
          14.5,
          14.5,
          7,
          16,
          2,
          379,
          379,
          379,
          379,
          379,
          11.5,
          16,
          2,
          2,
          2,
          9.5,
          100.5,
          8.5,
          14.5,
          29.5,
          7,
          9,
          9,
          6,
          13,
          2,
          9.5,
          19,
          77.5,
          96.5,
          15.5,
          13,
          5,
          2,
          11,
          67.5,
          96.5,
          1,
          96.5,
          75.5,
          108.5,
          162,
          32.5,
          33.5,
          379,
          75.5,
          77.5,
          12.5,
          13,
          0.5,
          8,
          0.5,
          25.5,
          406.25,
          null,
          null,
          null,
          null,
          null,
          null,
          null,
          null,
          null,
          null,
          null,
          null,
          null,
          null,
          null,
          null,
          null,
          null,
          null,
          null,
          null,
          null,
          null,
          null,
          null,
          null,
          null,
          null,
          null,
          null,
          null,
          null,
          null,
          null,
          null,
          null,
          null,
          null,
          null,
          null,
          null,
          null,
          null,
          null,
          null,
          null,
          null,
          null,
          null,
          null,
          null,
          null,
          null,
          null,
          null,
          null,
          null,
          null,
          null,
          null,
          null,
          null,
          null,
          null,
          null,
          null,
          null,
          null,
          null,
          null,
          null,
          null,
          null,
          null,
          null,
          null,
          null,
          null,
          null,
          null,
          null,
          null,
          null,
          null,
          null,
          null,
          null,
          null,
          null,
          null,
          null,
          null,
          null,
          null,
          null,
          null,
          null,
          null,
          null,
          null,
          null,
          null,
          null,
          null,
          null,
          null,
          null,
          null,
          null,
          null,
          null,
          null,
          null,
          null,
          null,
          null,
          null,
          null,
          null,
          null,
          null,
          null,
          null,
          null,
          null,
          null,
          null,
          null,
          null,
          null,
          null,
          null,
          null,
          null,
          null,
          null,
          null,
          null,
          null,
          null,
          null,
          null,
          null,
          null,
          null,
          null,
          null,
          null,
          null,
          null,
          null,
          null,
          null,
          null,
          null,
          null,
          null,
          null,
          null,
          null,
          null,
          null,
          null,
          null,
          null,
          null
         ],
         "x0": " ",
         "xaxis": "x",
         "y0": " ",
         "yaxis": "y"
        }
       ],
       "layout": {
        "boxmode": "group",
        "legend": {
         "title": {
          "text": "source"
         },
         "tracegroupgap": 0
        },
        "template": {
         "data": {
          "bar": [
           {
            "error_x": {
             "color": "#2a3f5f"
            },
            "error_y": {
             "color": "#2a3f5f"
            },
            "marker": {
             "line": {
              "color": "#E5ECF6",
              "width": 0.5
             },
             "pattern": {
              "fillmode": "overlay",
              "size": 10,
              "solidity": 0.2
             }
            },
            "type": "bar"
           }
          ],
          "barpolar": [
           {
            "marker": {
             "line": {
              "color": "#E5ECF6",
              "width": 0.5
             },
             "pattern": {
              "fillmode": "overlay",
              "size": 10,
              "solidity": 0.2
             }
            },
            "type": "barpolar"
           }
          ],
          "carpet": [
           {
            "aaxis": {
             "endlinecolor": "#2a3f5f",
             "gridcolor": "white",
             "linecolor": "white",
             "minorgridcolor": "white",
             "startlinecolor": "#2a3f5f"
            },
            "baxis": {
             "endlinecolor": "#2a3f5f",
             "gridcolor": "white",
             "linecolor": "white",
             "minorgridcolor": "white",
             "startlinecolor": "#2a3f5f"
            },
            "type": "carpet"
           }
          ],
          "choropleth": [
           {
            "colorbar": {
             "outlinewidth": 0,
             "ticks": ""
            },
            "type": "choropleth"
           }
          ],
          "contour": [
           {
            "colorbar": {
             "outlinewidth": 0,
             "ticks": ""
            },
            "colorscale": [
             [
              0,
              "#0d0887"
             ],
             [
              0.1111111111111111,
              "#46039f"
             ],
             [
              0.2222222222222222,
              "#7201a8"
             ],
             [
              0.3333333333333333,
              "#9c179e"
             ],
             [
              0.4444444444444444,
              "#bd3786"
             ],
             [
              0.5555555555555556,
              "#d8576b"
             ],
             [
              0.6666666666666666,
              "#ed7953"
             ],
             [
              0.7777777777777778,
              "#fb9f3a"
             ],
             [
              0.8888888888888888,
              "#fdca26"
             ],
             [
              1,
              "#f0f921"
             ]
            ],
            "type": "contour"
           }
          ],
          "contourcarpet": [
           {
            "colorbar": {
             "outlinewidth": 0,
             "ticks": ""
            },
            "type": "contourcarpet"
           }
          ],
          "heatmap": [
           {
            "colorbar": {
             "outlinewidth": 0,
             "ticks": ""
            },
            "colorscale": [
             [
              0,
              "#0d0887"
             ],
             [
              0.1111111111111111,
              "#46039f"
             ],
             [
              0.2222222222222222,
              "#7201a8"
             ],
             [
              0.3333333333333333,
              "#9c179e"
             ],
             [
              0.4444444444444444,
              "#bd3786"
             ],
             [
              0.5555555555555556,
              "#d8576b"
             ],
             [
              0.6666666666666666,
              "#ed7953"
             ],
             [
              0.7777777777777778,
              "#fb9f3a"
             ],
             [
              0.8888888888888888,
              "#fdca26"
             ],
             [
              1,
              "#f0f921"
             ]
            ],
            "type": "heatmap"
           }
          ],
          "heatmapgl": [
           {
            "colorbar": {
             "outlinewidth": 0,
             "ticks": ""
            },
            "colorscale": [
             [
              0,
              "#0d0887"
             ],
             [
              0.1111111111111111,
              "#46039f"
             ],
             [
              0.2222222222222222,
              "#7201a8"
             ],
             [
              0.3333333333333333,
              "#9c179e"
             ],
             [
              0.4444444444444444,
              "#bd3786"
             ],
             [
              0.5555555555555556,
              "#d8576b"
             ],
             [
              0.6666666666666666,
              "#ed7953"
             ],
             [
              0.7777777777777778,
              "#fb9f3a"
             ],
             [
              0.8888888888888888,
              "#fdca26"
             ],
             [
              1,
              "#f0f921"
             ]
            ],
            "type": "heatmapgl"
           }
          ],
          "histogram": [
           {
            "marker": {
             "pattern": {
              "fillmode": "overlay",
              "size": 10,
              "solidity": 0.2
             }
            },
            "type": "histogram"
           }
          ],
          "histogram2d": [
           {
            "colorbar": {
             "outlinewidth": 0,
             "ticks": ""
            },
            "colorscale": [
             [
              0,
              "#0d0887"
             ],
             [
              0.1111111111111111,
              "#46039f"
             ],
             [
              0.2222222222222222,
              "#7201a8"
             ],
             [
              0.3333333333333333,
              "#9c179e"
             ],
             [
              0.4444444444444444,
              "#bd3786"
             ],
             [
              0.5555555555555556,
              "#d8576b"
             ],
             [
              0.6666666666666666,
              "#ed7953"
             ],
             [
              0.7777777777777778,
              "#fb9f3a"
             ],
             [
              0.8888888888888888,
              "#fdca26"
             ],
             [
              1,
              "#f0f921"
             ]
            ],
            "type": "histogram2d"
           }
          ],
          "histogram2dcontour": [
           {
            "colorbar": {
             "outlinewidth": 0,
             "ticks": ""
            },
            "colorscale": [
             [
              0,
              "#0d0887"
             ],
             [
              0.1111111111111111,
              "#46039f"
             ],
             [
              0.2222222222222222,
              "#7201a8"
             ],
             [
              0.3333333333333333,
              "#9c179e"
             ],
             [
              0.4444444444444444,
              "#bd3786"
             ],
             [
              0.5555555555555556,
              "#d8576b"
             ],
             [
              0.6666666666666666,
              "#ed7953"
             ],
             [
              0.7777777777777778,
              "#fb9f3a"
             ],
             [
              0.8888888888888888,
              "#fdca26"
             ],
             [
              1,
              "#f0f921"
             ]
            ],
            "type": "histogram2dcontour"
           }
          ],
          "mesh3d": [
           {
            "colorbar": {
             "outlinewidth": 0,
             "ticks": ""
            },
            "type": "mesh3d"
           }
          ],
          "parcoords": [
           {
            "line": {
             "colorbar": {
              "outlinewidth": 0,
              "ticks": ""
             }
            },
            "type": "parcoords"
           }
          ],
          "pie": [
           {
            "automargin": true,
            "type": "pie"
           }
          ],
          "scatter": [
           {
            "fillpattern": {
             "fillmode": "overlay",
             "size": 10,
             "solidity": 0.2
            },
            "type": "scatter"
           }
          ],
          "scatter3d": [
           {
            "line": {
             "colorbar": {
              "outlinewidth": 0,
              "ticks": ""
             }
            },
            "marker": {
             "colorbar": {
              "outlinewidth": 0,
              "ticks": ""
             }
            },
            "type": "scatter3d"
           }
          ],
          "scattercarpet": [
           {
            "marker": {
             "colorbar": {
              "outlinewidth": 0,
              "ticks": ""
             }
            },
            "type": "scattercarpet"
           }
          ],
          "scattergeo": [
           {
            "marker": {
             "colorbar": {
              "outlinewidth": 0,
              "ticks": ""
             }
            },
            "type": "scattergeo"
           }
          ],
          "scattergl": [
           {
            "marker": {
             "colorbar": {
              "outlinewidth": 0,
              "ticks": ""
             }
            },
            "type": "scattergl"
           }
          ],
          "scattermapbox": [
           {
            "marker": {
             "colorbar": {
              "outlinewidth": 0,
              "ticks": ""
             }
            },
            "type": "scattermapbox"
           }
          ],
          "scatterpolar": [
           {
            "marker": {
             "colorbar": {
              "outlinewidth": 0,
              "ticks": ""
             }
            },
            "type": "scatterpolar"
           }
          ],
          "scatterpolargl": [
           {
            "marker": {
             "colorbar": {
              "outlinewidth": 0,
              "ticks": ""
             }
            },
            "type": "scatterpolargl"
           }
          ],
          "scatterternary": [
           {
            "marker": {
             "colorbar": {
              "outlinewidth": 0,
              "ticks": ""
             }
            },
            "type": "scatterternary"
           }
          ],
          "surface": [
           {
            "colorbar": {
             "outlinewidth": 0,
             "ticks": ""
            },
            "colorscale": [
             [
              0,
              "#0d0887"
             ],
             [
              0.1111111111111111,
              "#46039f"
             ],
             [
              0.2222222222222222,
              "#7201a8"
             ],
             [
              0.3333333333333333,
              "#9c179e"
             ],
             [
              0.4444444444444444,
              "#bd3786"
             ],
             [
              0.5555555555555556,
              "#d8576b"
             ],
             [
              0.6666666666666666,
              "#ed7953"
             ],
             [
              0.7777777777777778,
              "#fb9f3a"
             ],
             [
              0.8888888888888888,
              "#fdca26"
             ],
             [
              1,
              "#f0f921"
             ]
            ],
            "type": "surface"
           }
          ],
          "table": [
           {
            "cells": {
             "fill": {
              "color": "#EBF0F8"
             },
             "line": {
              "color": "white"
             }
            },
            "header": {
             "fill": {
              "color": "#C8D4E3"
             },
             "line": {
              "color": "white"
             }
            },
            "type": "table"
           }
          ]
         },
         "layout": {
          "annotationdefaults": {
           "arrowcolor": "#2a3f5f",
           "arrowhead": 0,
           "arrowwidth": 1
          },
          "autotypenumbers": "strict",
          "coloraxis": {
           "colorbar": {
            "outlinewidth": 0,
            "ticks": ""
           }
          },
          "colorscale": {
           "diverging": [
            [
             0,
             "#8e0152"
            ],
            [
             0.1,
             "#c51b7d"
            ],
            [
             0.2,
             "#de77ae"
            ],
            [
             0.3,
             "#f1b6da"
            ],
            [
             0.4,
             "#fde0ef"
            ],
            [
             0.5,
             "#f7f7f7"
            ],
            [
             0.6,
             "#e6f5d0"
            ],
            [
             0.7,
             "#b8e186"
            ],
            [
             0.8,
             "#7fbc41"
            ],
            [
             0.9,
             "#4d9221"
            ],
            [
             1,
             "#276419"
            ]
           ],
           "sequential": [
            [
             0,
             "#0d0887"
            ],
            [
             0.1111111111111111,
             "#46039f"
            ],
            [
             0.2222222222222222,
             "#7201a8"
            ],
            [
             0.3333333333333333,
             "#9c179e"
            ],
            [
             0.4444444444444444,
             "#bd3786"
            ],
            [
             0.5555555555555556,
             "#d8576b"
            ],
            [
             0.6666666666666666,
             "#ed7953"
            ],
            [
             0.7777777777777778,
             "#fb9f3a"
            ],
            [
             0.8888888888888888,
             "#fdca26"
            ],
            [
             1,
             "#f0f921"
            ]
           ],
           "sequentialminus": [
            [
             0,
             "#0d0887"
            ],
            [
             0.1111111111111111,
             "#46039f"
            ],
            [
             0.2222222222222222,
             "#7201a8"
            ],
            [
             0.3333333333333333,
             "#9c179e"
            ],
            [
             0.4444444444444444,
             "#bd3786"
            ],
            [
             0.5555555555555556,
             "#d8576b"
            ],
            [
             0.6666666666666666,
             "#ed7953"
            ],
            [
             0.7777777777777778,
             "#fb9f3a"
            ],
            [
             0.8888888888888888,
             "#fdca26"
            ],
            [
             1,
             "#f0f921"
            ]
           ]
          },
          "colorway": [
           "#636efa",
           "#EF553B",
           "#00cc96",
           "#ab63fa",
           "#FFA15A",
           "#19d3f3",
           "#FF6692",
           "#B6E880",
           "#FF97FF",
           "#FECB52"
          ],
          "font": {
           "color": "#2a3f5f"
          },
          "geo": {
           "bgcolor": "white",
           "lakecolor": "white",
           "landcolor": "#E5ECF6",
           "showlakes": true,
           "showland": true,
           "subunitcolor": "white"
          },
          "hoverlabel": {
           "align": "left"
          },
          "hovermode": "closest",
          "mapbox": {
           "style": "light"
          },
          "paper_bgcolor": "white",
          "plot_bgcolor": "#E5ECF6",
          "polar": {
           "angularaxis": {
            "gridcolor": "white",
            "linecolor": "white",
            "ticks": ""
           },
           "bgcolor": "#E5ECF6",
           "radialaxis": {
            "gridcolor": "white",
            "linecolor": "white",
            "ticks": ""
           }
          },
          "scene": {
           "xaxis": {
            "backgroundcolor": "#E5ECF6",
            "gridcolor": "white",
            "gridwidth": 2,
            "linecolor": "white",
            "showbackground": true,
            "ticks": "",
            "zerolinecolor": "white"
           },
           "yaxis": {
            "backgroundcolor": "#E5ECF6",
            "gridcolor": "white",
            "gridwidth": 2,
            "linecolor": "white",
            "showbackground": true,
            "ticks": "",
            "zerolinecolor": "white"
           },
           "zaxis": {
            "backgroundcolor": "#E5ECF6",
            "gridcolor": "white",
            "gridwidth": 2,
            "linecolor": "white",
            "showbackground": true,
            "ticks": "",
            "zerolinecolor": "white"
           }
          },
          "shapedefaults": {
           "line": {
            "color": "#2a3f5f"
           }
          },
          "ternary": {
           "aaxis": {
            "gridcolor": "white",
            "linecolor": "white",
            "ticks": ""
           },
           "baxis": {
            "gridcolor": "white",
            "linecolor": "white",
            "ticks": ""
           },
           "bgcolor": "#E5ECF6",
           "caxis": {
            "gridcolor": "white",
            "linecolor": "white",
            "ticks": ""
           }
          },
          "title": {
           "x": 0.05
          },
          "xaxis": {
           "automargin": true,
           "gridcolor": "white",
           "linecolor": "white",
           "ticks": "",
           "title": {
            "standoff": 15
           },
           "zerolinecolor": "white",
           "zerolinewidth": 2
          },
          "yaxis": {
           "automargin": true,
           "gridcolor": "white",
           "linecolor": "white",
           "ticks": "",
           "title": {
            "standoff": 15
           },
           "zerolinecolor": "white",
           "zerolinewidth": 2
          }
         }
        },
        "title": {
         "text": "Box and Whisker Plot of BRAF and Other Variant MP Scores"
        },
        "xaxis": {
         "anchor": "y",
         "domain": [
          0,
          1
         ],
         "title": {
          "text": "Variant MP Score"
         }
        },
        "yaxis": {
         "anchor": "x",
         "domain": [
          0,
          1
         ]
        }
       }
      }
     },
     "metadata": {},
     "output_type": "display_data"
    }
   ],
   "source": [
    "\n",
    "\n",
    "not_braf_df = df[~df['variant_label'].str.contains('BRAF')]\n",
    "not_braf_df\n",
    "\n",
    "combined_df = pd.concat([\n",
    "    pd.DataFrame({'variant_mp_score': df['variant_mp_score'], 'source': 'Combined'}),\n",
    "    pd.DataFrame({'variant_mp_score': braf_df['variant_mp_score'], 'source': 'BRAF'}),\n",
    "    pd.DataFrame({'variant_mp_score': not_braf_df['variant_mp_score'], 'source': 'All Other'})\n",
    "])\n",
    "\n",
    "# Create a horizontal box plot with both datasets\n",
    "fig = px.box(combined_df, x='variant_mp_score', color='source', title='Box and Whisker Plot of BRAF and Other Variant MP Scores')\n",
    "\n",
    "# Update layout for better visuals\n",
    "fig.update_layout(\n",
    "    xaxis_title=\"Variant MP Score\",\n",
    "    boxmode='group'  # Shows the boxes side by side\n",
    ")\n",
    "\n",
    "# Show the plot\n",
    "fig.show()"
   ]
  },
  {
   "cell_type": "markdown",
   "metadata": {},
   "source": [
    "### Evidence Only Containing BRAF"
   ]
  },
  {
   "cell_type": "code",
   "execution_count": 148,
   "metadata": {},
   "outputs": [
    {
     "data": {
      "text/html": [
       "<div>\n",
       "<style scoped>\n",
       "    .dataframe tbody tr th:only-of-type {\n",
       "        vertical-align: middle;\n",
       "    }\n",
       "\n",
       "    .dataframe tbody tr th {\n",
       "        vertical-align: top;\n",
       "    }\n",
       "\n",
       "    .dataframe thead th {\n",
       "        text-align: right;\n",
       "    }\n",
       "</style>\n",
       "<table border=\"1\" class=\"dataframe\">\n",
       "  <thead>\n",
       "    <tr style=\"text-align: right;\">\n",
       "      <th></th>\n",
       "      <th>study_allele_origin</th>\n",
       "      <th>study_id</th>\n",
       "      <th>study_direction</th>\n",
       "      <th>study_predicate</th>\n",
       "      <th>study_type</th>\n",
       "      <th>variant_mp_score</th>\n",
       "      <th>variant_id</th>\n",
       "      <th>variant_label</th>\n",
       "      <th>variant_type</th>\n",
       "      <th>therapeutic_type</th>\n",
       "      <th>therapeutic_civic_type</th>\n",
       "      <th>therapeutic_id</th>\n",
       "      <th>therapeutic_label</th>\n",
       "      <th>number_of_components</th>\n",
       "      <th>combination_therapy_components</th>\n",
       "    </tr>\n",
       "  </thead>\n",
       "  <tbody>\n",
       "    <tr>\n",
       "      <th>1</th>\n",
       "      <td>somatic</td>\n",
       "      <td>civic.eid:1409</td>\n",
       "      <td>supports</td>\n",
       "      <td>predictsSensitivityTo</td>\n",
       "      <td>VariantTherapeuticResponseStudy</td>\n",
       "      <td>1378.5</td>\n",
       "      <td>civic.mpid:12</td>\n",
       "      <td>BRAF V600E</td>\n",
       "      <td>[{\"label\": \"missense_variant\", \"system\": \"http...</td>\n",
       "      <td>TherapeuticAgent</td>\n",
       "      <td>None</td>\n",
       "      <td>civic.tid:4</td>\n",
       "      <td>Vemurafenib</td>\n",
       "      <td>0</td>\n",
       "      <td>[]</td>\n",
       "    </tr>\n",
       "    <tr>\n",
       "      <th>8</th>\n",
       "      <td>somatic</td>\n",
       "      <td>civic.eid:9851</td>\n",
       "      <td>supports</td>\n",
       "      <td>predictsSensitivityTo</td>\n",
       "      <td>VariantTherapeuticResponseStudy</td>\n",
       "      <td>1378.5</td>\n",
       "      <td>civic.mpid:12</td>\n",
       "      <td>BRAF V600E</td>\n",
       "      <td>[{\"label\": \"missense_variant\", \"system\": \"http...</td>\n",
       "      <td>CombinationTherapy</td>\n",
       "      <td>COMBINATION</td>\n",
       "      <td>civic.ctid:P1PY89shAjemg7jquQ0V9pg1VnYnkPeK</td>\n",
       "      <td>None</td>\n",
       "      <td>2</td>\n",
       "      <td>[{'id': 'civic.tid:16', 'regulatory_approval':...</td>\n",
       "    </tr>\n",
       "    <tr>\n",
       "      <th>9</th>\n",
       "      <td>somatic</td>\n",
       "      <td>civic.eid:3017</td>\n",
       "      <td>supports</td>\n",
       "      <td>predictsSensitivityTo</td>\n",
       "      <td>VariantTherapeuticResponseStudy</td>\n",
       "      <td>1378.5</td>\n",
       "      <td>civic.mpid:12</td>\n",
       "      <td>BRAF V600E</td>\n",
       "      <td>[{\"label\": \"missense_variant\", \"system\": \"http...</td>\n",
       "      <td>CombinationTherapy</td>\n",
       "      <td>COMBINATION</td>\n",
       "      <td>civic.ctid:oBrlcO23adoVXv51xh-5Wigy0QyDWtfr</td>\n",
       "      <td>None</td>\n",
       "      <td>2</td>\n",
       "      <td>[{'id': 'civic.tid:19', 'regulatory_approval':...</td>\n",
       "    </tr>\n",
       "    <tr>\n",
       "      <th>12</th>\n",
       "      <td>somatic</td>\n",
       "      <td>civic.eid:2505</td>\n",
       "      <td>supports</td>\n",
       "      <td>predictsSensitivityTo</td>\n",
       "      <td>VariantTherapeuticResponseStudy</td>\n",
       "      <td>107.5</td>\n",
       "      <td>civic.mpid:559</td>\n",
       "      <td>BRAF V600K</td>\n",
       "      <td>[{\"label\": \"missense_variant\", \"system\": \"http...</td>\n",
       "      <td>TherapeuticAgent</td>\n",
       "      <td>None</td>\n",
       "      <td>civic.tid:22</td>\n",
       "      <td>Dabrafenib</td>\n",
       "      <td>0</td>\n",
       "      <td>[]</td>\n",
       "    </tr>\n",
       "    <tr>\n",
       "      <th>16</th>\n",
       "      <td>somatic</td>\n",
       "      <td>civic.eid:94</td>\n",
       "      <td>supports</td>\n",
       "      <td>predictsSensitivityTo</td>\n",
       "      <td>VariantTherapeuticResponseStudy</td>\n",
       "      <td>47.0</td>\n",
       "      <td>civic.mpid:11</td>\n",
       "      <td>BRAF V600D</td>\n",
       "      <td>[{\"label\": \"missense_variant\", \"system\": \"http...</td>\n",
       "      <td>TherapeuticAgent</td>\n",
       "      <td>None</td>\n",
       "      <td>civic.tid:22</td>\n",
       "      <td>Dabrafenib</td>\n",
       "      <td>0</td>\n",
       "      <td>[]</td>\n",
       "    </tr>\n",
       "    <tr>\n",
       "      <th>...</th>\n",
       "      <td>...</td>\n",
       "      <td>...</td>\n",
       "      <td>...</td>\n",
       "      <td>...</td>\n",
       "      <td>...</td>\n",
       "      <td>...</td>\n",
       "      <td>...</td>\n",
       "      <td>...</td>\n",
       "      <td>...</td>\n",
       "      <td>...</td>\n",
       "      <td>...</td>\n",
       "      <td>...</td>\n",
       "      <td>...</td>\n",
       "      <td>...</td>\n",
       "      <td>...</td>\n",
       "    </tr>\n",
       "    <tr>\n",
       "      <th>1029</th>\n",
       "      <td>somatic</td>\n",
       "      <td>moa.assertion:865</td>\n",
       "      <td>none</td>\n",
       "      <td>predictsSensitivityTo</td>\n",
       "      <td>VariantTherapeuticResponseStudy</td>\n",
       "      <td>NaN</td>\n",
       "      <td>moa.variant:144</td>\n",
       "      <td>BRAF p.V600E (Missense)</td>\n",
       "      <td>None</td>\n",
       "      <td>CombinationTherapy</td>\n",
       "      <td>None</td>\n",
       "      <td>moa.ctid:IAMn2xc8QDzi0_zvPzrGlronyv01Coqs</td>\n",
       "      <td>None</td>\n",
       "      <td>2</td>\n",
       "      <td>[{'id': 'moa.normalize.therapy.rxcui:1424911',...</td>\n",
       "    </tr>\n",
       "    <tr>\n",
       "      <th>1032</th>\n",
       "      <td>somatic</td>\n",
       "      <td>moa.assertion:911</td>\n",
       "      <td>none</td>\n",
       "      <td>predictsSensitivityTo</td>\n",
       "      <td>VariantTherapeuticResponseStudy</td>\n",
       "      <td>NaN</td>\n",
       "      <td>moa.variant:144</td>\n",
       "      <td>BRAF p.V600E (Missense)</td>\n",
       "      <td>None</td>\n",
       "      <td>CombinationTherapy</td>\n",
       "      <td>None</td>\n",
       "      <td>moa.ctid:PGEv4QIKz-vDJF0eyrAfZYTl1fFtDNok</td>\n",
       "      <td>None</td>\n",
       "      <td>2</td>\n",
       "      <td>[{'id': 'moa.normalize.therapy.rxcui:2049122',...</td>\n",
       "    </tr>\n",
       "    <tr>\n",
       "      <th>1033</th>\n",
       "      <td>somatic</td>\n",
       "      <td>moa.assertion:944</td>\n",
       "      <td>none</td>\n",
       "      <td>predictsSensitivityTo</td>\n",
       "      <td>VariantTherapeuticResponseStudy</td>\n",
       "      <td>NaN</td>\n",
       "      <td>moa.variant:144</td>\n",
       "      <td>BRAF p.V600E (Missense)</td>\n",
       "      <td>None</td>\n",
       "      <td>TherapeuticAgent</td>\n",
       "      <td>None</td>\n",
       "      <td>moa.normalize.therapy.rxcui:1147220</td>\n",
       "      <td>Vemurafenib</td>\n",
       "      <td>0</td>\n",
       "      <td>[]</td>\n",
       "    </tr>\n",
       "    <tr>\n",
       "      <th>1034</th>\n",
       "      <td>somatic</td>\n",
       "      <td>moa.assertion:945</td>\n",
       "      <td>none</td>\n",
       "      <td>predictsSensitivityTo</td>\n",
       "      <td>VariantTherapeuticResponseStudy</td>\n",
       "      <td>NaN</td>\n",
       "      <td>moa.variant:146</td>\n",
       "      <td>BRAF p.V600K (Missense)</td>\n",
       "      <td>None</td>\n",
       "      <td>TherapeuticAgent</td>\n",
       "      <td>None</td>\n",
       "      <td>moa.normalize.therapy.rxcui:1147220</td>\n",
       "      <td>Vemurafenib</td>\n",
       "      <td>0</td>\n",
       "      <td>[]</td>\n",
       "    </tr>\n",
       "    <tr>\n",
       "      <th>1038</th>\n",
       "      <td>somatic</td>\n",
       "      <td>moa.assertion:963</td>\n",
       "      <td>none</td>\n",
       "      <td>predictsSensitivityTo</td>\n",
       "      <td>VariantTherapeuticResponseStudy</td>\n",
       "      <td>NaN</td>\n",
       "      <td>moa.variant:146</td>\n",
       "      <td>BRAF p.V600K (Missense)</td>\n",
       "      <td>None</td>\n",
       "      <td>TherapeuticAgent</td>\n",
       "      <td>None</td>\n",
       "      <td>moa.normalize.therapy.ncit:C106254</td>\n",
       "      <td>Tovorafenib</td>\n",
       "      <td>0</td>\n",
       "      <td>[]</td>\n",
       "    </tr>\n",
       "  </tbody>\n",
       "</table>\n",
       "<p>160 rows × 15 columns</p>\n",
       "</div>"
      ],
      "text/plain": [
       "     study_allele_origin           study_id study_direction  \\\n",
       "1                somatic     civic.eid:1409        supports   \n",
       "8                somatic     civic.eid:9851        supports   \n",
       "9                somatic     civic.eid:3017        supports   \n",
       "12               somatic     civic.eid:2505        supports   \n",
       "16               somatic       civic.eid:94        supports   \n",
       "...                  ...                ...             ...   \n",
       "1029             somatic  moa.assertion:865            none   \n",
       "1032             somatic  moa.assertion:911            none   \n",
       "1033             somatic  moa.assertion:944            none   \n",
       "1034             somatic  moa.assertion:945            none   \n",
       "1038             somatic  moa.assertion:963            none   \n",
       "\n",
       "            study_predicate                       study_type  \\\n",
       "1     predictsSensitivityTo  VariantTherapeuticResponseStudy   \n",
       "8     predictsSensitivityTo  VariantTherapeuticResponseStudy   \n",
       "9     predictsSensitivityTo  VariantTherapeuticResponseStudy   \n",
       "12    predictsSensitivityTo  VariantTherapeuticResponseStudy   \n",
       "16    predictsSensitivityTo  VariantTherapeuticResponseStudy   \n",
       "...                     ...                              ...   \n",
       "1029  predictsSensitivityTo  VariantTherapeuticResponseStudy   \n",
       "1032  predictsSensitivityTo  VariantTherapeuticResponseStudy   \n",
       "1033  predictsSensitivityTo  VariantTherapeuticResponseStudy   \n",
       "1034  predictsSensitivityTo  VariantTherapeuticResponseStudy   \n",
       "1038  predictsSensitivityTo  VariantTherapeuticResponseStudy   \n",
       "\n",
       "      variant_mp_score       variant_id            variant_label  \\\n",
       "1               1378.5    civic.mpid:12               BRAF V600E   \n",
       "8               1378.5    civic.mpid:12               BRAF V600E   \n",
       "9               1378.5    civic.mpid:12               BRAF V600E   \n",
       "12               107.5   civic.mpid:559               BRAF V600K   \n",
       "16                47.0    civic.mpid:11               BRAF V600D   \n",
       "...                ...              ...                      ...   \n",
       "1029               NaN  moa.variant:144  BRAF p.V600E (Missense)   \n",
       "1032               NaN  moa.variant:144  BRAF p.V600E (Missense)   \n",
       "1033               NaN  moa.variant:144  BRAF p.V600E (Missense)   \n",
       "1034               NaN  moa.variant:146  BRAF p.V600K (Missense)   \n",
       "1038               NaN  moa.variant:146  BRAF p.V600K (Missense)   \n",
       "\n",
       "                                           variant_type    therapeutic_type  \\\n",
       "1     [{\"label\": \"missense_variant\", \"system\": \"http...    TherapeuticAgent   \n",
       "8     [{\"label\": \"missense_variant\", \"system\": \"http...  CombinationTherapy   \n",
       "9     [{\"label\": \"missense_variant\", \"system\": \"http...  CombinationTherapy   \n",
       "12    [{\"label\": \"missense_variant\", \"system\": \"http...    TherapeuticAgent   \n",
       "16    [{\"label\": \"missense_variant\", \"system\": \"http...    TherapeuticAgent   \n",
       "...                                                 ...                 ...   \n",
       "1029                                               None  CombinationTherapy   \n",
       "1032                                               None  CombinationTherapy   \n",
       "1033                                               None    TherapeuticAgent   \n",
       "1034                                               None    TherapeuticAgent   \n",
       "1038                                               None    TherapeuticAgent   \n",
       "\n",
       "     therapeutic_civic_type                               therapeutic_id  \\\n",
       "1                      None                                  civic.tid:4   \n",
       "8               COMBINATION  civic.ctid:P1PY89shAjemg7jquQ0V9pg1VnYnkPeK   \n",
       "9               COMBINATION  civic.ctid:oBrlcO23adoVXv51xh-5Wigy0QyDWtfr   \n",
       "12                     None                                 civic.tid:22   \n",
       "16                     None                                 civic.tid:22   \n",
       "...                     ...                                          ...   \n",
       "1029                   None    moa.ctid:IAMn2xc8QDzi0_zvPzrGlronyv01Coqs   \n",
       "1032                   None    moa.ctid:PGEv4QIKz-vDJF0eyrAfZYTl1fFtDNok   \n",
       "1033                   None          moa.normalize.therapy.rxcui:1147220   \n",
       "1034                   None          moa.normalize.therapy.rxcui:1147220   \n",
       "1038                   None           moa.normalize.therapy.ncit:C106254   \n",
       "\n",
       "     therapeutic_label  number_of_components  \\\n",
       "1          Vemurafenib                     0   \n",
       "8                 None                     2   \n",
       "9                 None                     2   \n",
       "12          Dabrafenib                     0   \n",
       "16          Dabrafenib                     0   \n",
       "...                ...                   ...   \n",
       "1029              None                     2   \n",
       "1032              None                     2   \n",
       "1033       Vemurafenib                     0   \n",
       "1034       Vemurafenib                     0   \n",
       "1038       Tovorafenib                     0   \n",
       "\n",
       "                         combination_therapy_components  \n",
       "1                                                    []  \n",
       "8     [{'id': 'civic.tid:16', 'regulatory_approval':...  \n",
       "9     [{'id': 'civic.tid:19', 'regulatory_approval':...  \n",
       "12                                                   []  \n",
       "16                                                   []  \n",
       "...                                                 ...  \n",
       "1029  [{'id': 'moa.normalize.therapy.rxcui:1424911',...  \n",
       "1032  [{'id': 'moa.normalize.therapy.rxcui:2049122',...  \n",
       "1033                                                 []  \n",
       "1034                                                 []  \n",
       "1038                                                 []  \n",
       "\n",
       "[160 rows x 15 columns]"
      ]
     },
     "execution_count": 148,
     "metadata": {},
     "output_type": "execute_result"
    }
   ],
   "source": [
    "\n",
    "braf_df = df[df['variant_label'].str.contains('BRAF')]\n",
    "braf_df"
   ]
  },
  {
   "cell_type": "code",
   "execution_count": 72,
   "metadata": {},
   "outputs": [
    {
     "data": {
      "text/plain": [
       "therapeutic_label\n",
       "Vemurafenib                52\n",
       "Trametinib                  9\n",
       "Dabrafenib                  5\n",
       "Encorafenib                 2\n",
       "U0126                       2\n",
       "Sorafenib                   2\n",
       "Panitumumab                 2\n",
       "Irinotecan                  2\n",
       "Oxaliplatin                 2\n",
       "Cetuximab                   2\n",
       "MEK Inhibitor REC-4881      1\n",
       "MEK Inhibitor RO4987655     1\n",
       "BRAF Inhibitor              1\n",
       "Pictilisib                  1\n",
       "Cobimetinib                 1\n",
       "Bleomycin                   1\n",
       "Tovorafenib                 1\n",
       "Name: count, dtype: int64"
      ]
     },
     "execution_count": 72,
     "metadata": {},
     "output_type": "execute_result"
    }
   ],
   "source": [
    "braf_df['therapeutic_label'].value_counts()"
   ]
  },
  {
   "cell_type": "code",
   "execution_count": 66,
   "metadata": {},
   "outputs": [
    {
     "data": {
      "text/plain": [
       "variant_mp_score\n",
       "1378.50    70\n",
       "107.50      8\n",
       "43.50       7\n",
       "5.00        6\n",
       "47.00       5\n",
       "14.00       4\n",
       "6.00        4\n",
       "7.50        3\n",
       "14.50       3\n",
       "0.75        3\n",
       "19.00       2\n",
       "30.00       2\n",
       "12.00       2\n",
       "9.50        2\n",
       "3.00        1\n",
       "2.00        1\n",
       "Name: count, dtype: int64"
      ]
     },
     "execution_count": 66,
     "metadata": {},
     "output_type": "execute_result"
    }
   ],
   "source": [
    "braf_df['variant_mp_score'].value_counts()"
   ]
  },
  {
   "cell_type": "code",
   "execution_count": 150,
   "metadata": {},
   "outputs": [],
   "source": [
    "\n",
    "def neo4j_query(combo_id):\n",
    "    # query for the specific therapy ID components\n",
    "    query_components = f\"\"\"\n",
    "    MATCH (c:CombinationTherapy)-[:HAS_COMPONENTS]-(t)\n",
    "    WHERE c.id = \\'{combo_id}\\'\n",
    "    RETURN properties(t) AS Therapeutic\n",
    "    \"\"\"\n",
    "\n",
    "    # Execute the query\n",
    "    result = execute_query(driver, query_components)\n",
    "\n",
    "    # Close the connection\n",
    "    driver.close()\n",
    "    return(result)\n",
    "\n"
   ]
  },
  {
   "cell_type": "code",
   "execution_count": 151,
   "metadata": {},
   "outputs": [
    {
     "name": "stderr",
     "output_type": "stream",
     "text": [
      "/var/folders/5t/sfw5tjx56m10xb861_pd3wfm0000gq/T/ipykernel_11898/1389204329.py:2: SettingWithCopyWarning:\n",
      "\n",
      "\n",
      "A value is trying to be set on a copy of a slice from a DataFrame.\n",
      "Try using .loc[row_indexer,col_indexer] = value instead\n",
      "\n",
      "See the caveats in the documentation: https://pandas.pydata.org/pandas-docs/stable/user_guide/indexing.html#returning-a-view-versus-a-copy\n",
      "\n",
      "/var/folders/5t/sfw5tjx56m10xb861_pd3wfm0000gq/T/ipykernel_11898/1451180034.py:10: DeprecationWarning:\n",
      "\n",
      "Using a driver after it has been closed is deprecated. Future versions of the driver will raise an error.\n",
      "\n",
      "/var/folders/5t/sfw5tjx56m10xb861_pd3wfm0000gq/T/ipykernel_11898/1451180034.py:10: DeprecationWarning:\n",
      "\n",
      "Using a driver after it has been closed is deprecated. Future versions of the driver will raise an error.\n",
      "\n",
      "/var/folders/5t/sfw5tjx56m10xb861_pd3wfm0000gq/T/ipykernel_11898/1389204329.py:2: SettingWithCopyWarning:\n",
      "\n",
      "\n",
      "A value is trying to be set on a copy of a slice from a DataFrame.\n",
      "Try using .loc[row_indexer,col_indexer] = value instead\n",
      "\n",
      "See the caveats in the documentation: https://pandas.pydata.org/pandas-docs/stable/user_guide/indexing.html#returning-a-view-versus-a-copy\n",
      "\n",
      "/var/folders/5t/sfw5tjx56m10xb861_pd3wfm0000gq/T/ipykernel_11898/1451180034.py:10: DeprecationWarning:\n",
      "\n",
      "Using a driver after it has been closed is deprecated. Future versions of the driver will raise an error.\n",
      "\n"
     ]
    },
    {
     "data": {
      "text/html": [
       "<div>\n",
       "<style scoped>\n",
       "    .dataframe tbody tr th:only-of-type {\n",
       "        vertical-align: middle;\n",
       "    }\n",
       "\n",
       "    .dataframe tbody tr th {\n",
       "        vertical-align: top;\n",
       "    }\n",
       "\n",
       "    .dataframe thead th {\n",
       "        text-align: right;\n",
       "    }\n",
       "</style>\n",
       "<table border=\"1\" class=\"dataframe\">\n",
       "  <thead>\n",
       "    <tr style=\"text-align: right;\">\n",
       "      <th></th>\n",
       "      <th>study_allele_origin</th>\n",
       "      <th>study_id</th>\n",
       "      <th>study_direction</th>\n",
       "      <th>study_predicate</th>\n",
       "      <th>study_type</th>\n",
       "      <th>variant_mp_score</th>\n",
       "      <th>variant_id</th>\n",
       "      <th>variant_label</th>\n",
       "      <th>variant_type</th>\n",
       "      <th>therapeutic_type</th>\n",
       "      <th>therapeutic_civic_type</th>\n",
       "      <th>therapeutic_id</th>\n",
       "      <th>therapeutic_label</th>\n",
       "      <th>number_of_components</th>\n",
       "      <th>combination_therapy_components</th>\n",
       "      <th>combination_components</th>\n",
       "    </tr>\n",
       "  </thead>\n",
       "  <tbody>\n",
       "    <tr>\n",
       "      <th>0</th>\n",
       "      <td>somatic</td>\n",
       "      <td>civic.eid:238</td>\n",
       "      <td>supports</td>\n",
       "      <td>predictsResistanceTo</td>\n",
       "      <td>VariantTherapeuticResponseStudy</td>\n",
       "      <td>406.25</td>\n",
       "      <td>civic.mpid:34</td>\n",
       "      <td>EGFR T790M</td>\n",
       "      <td>[{\"label\": \"missense_variant\", \"system\": \"http...</td>\n",
       "      <td>TherapeuticAgent</td>\n",
       "      <td>None</td>\n",
       "      <td>civic.tid:15</td>\n",
       "      <td>Erlotinib</td>\n",
       "      <td>0</td>\n",
       "      <td>[]</td>\n",
       "      <td>None</td>\n",
       "    </tr>\n",
       "    <tr>\n",
       "      <th>2</th>\n",
       "      <td>somatic</td>\n",
       "      <td>civic.eid:1592</td>\n",
       "      <td>supports</td>\n",
       "      <td>predictsSensitivityTo</td>\n",
       "      <td>VariantTherapeuticResponseStudy</td>\n",
       "      <td>406.25</td>\n",
       "      <td>civic.mpid:34</td>\n",
       "      <td>EGFR T790M</td>\n",
       "      <td>[{\"label\": \"missense_variant\", \"system\": \"http...</td>\n",
       "      <td>TherapeuticAgent</td>\n",
       "      <td>None</td>\n",
       "      <td>civic.tid:187</td>\n",
       "      <td>Osimertinib</td>\n",
       "      <td>0</td>\n",
       "      <td>[]</td>\n",
       "      <td>None</td>\n",
       "    </tr>\n",
       "    <tr>\n",
       "      <th>3</th>\n",
       "      <td>somatic</td>\n",
       "      <td>civic.eid:1867</td>\n",
       "      <td>supports</td>\n",
       "      <td>predictsSensitivityTo</td>\n",
       "      <td>VariantTherapeuticResponseStudy</td>\n",
       "      <td>406.25</td>\n",
       "      <td>civic.mpid:34</td>\n",
       "      <td>EGFR T790M</td>\n",
       "      <td>[{\"label\": \"missense_variant\", \"system\": \"http...</td>\n",
       "      <td>TherapeuticAgent</td>\n",
       "      <td>None</td>\n",
       "      <td>civic.tid:187</td>\n",
       "      <td>Osimertinib</td>\n",
       "      <td>0</td>\n",
       "      <td>[]</td>\n",
       "      <td>None</td>\n",
       "    </tr>\n",
       "  </tbody>\n",
       "</table>\n",
       "</div>"
      ],
      "text/plain": [
       "  study_allele_origin        study_id study_direction        study_predicate  \\\n",
       "0             somatic   civic.eid:238        supports   predictsResistanceTo   \n",
       "2             somatic  civic.eid:1592        supports  predictsSensitivityTo   \n",
       "3             somatic  civic.eid:1867        supports  predictsSensitivityTo   \n",
       "\n",
       "                        study_type  variant_mp_score     variant_id  \\\n",
       "0  VariantTherapeuticResponseStudy            406.25  civic.mpid:34   \n",
       "2  VariantTherapeuticResponseStudy            406.25  civic.mpid:34   \n",
       "3  VariantTherapeuticResponseStudy            406.25  civic.mpid:34   \n",
       "\n",
       "  variant_label                                       variant_type  \\\n",
       "0    EGFR T790M  [{\"label\": \"missense_variant\", \"system\": \"http...   \n",
       "2    EGFR T790M  [{\"label\": \"missense_variant\", \"system\": \"http...   \n",
       "3    EGFR T790M  [{\"label\": \"missense_variant\", \"system\": \"http...   \n",
       "\n",
       "   therapeutic_type therapeutic_civic_type therapeutic_id therapeutic_label  \\\n",
       "0  TherapeuticAgent                   None   civic.tid:15         Erlotinib   \n",
       "2  TherapeuticAgent                   None  civic.tid:187       Osimertinib   \n",
       "3  TherapeuticAgent                   None  civic.tid:187       Osimertinib   \n",
       "\n",
       "   number_of_components combination_therapy_components combination_components  \n",
       "0                     0                             []                   None  \n",
       "2                     0                             []                   None  \n",
       "3                     0                             []                   None  "
      ]
     },
     "execution_count": 151,
     "metadata": {},
     "output_type": "execute_result"
    }
   ],
   "source": [
    "def get_combination_therapies(tdf):\n",
    "    tdf['combination_components'] = None\n",
    "\n",
    "    for idx, row in tdf.iterrows():\n",
    "        result = neo4j_query(row['therapeutic_id'])\n",
    "        therapeutics = []\n",
    "        for record in result:\n",
    "            therapeutics.append(record['Therapeutic'].get('label', None))\n",
    "            tdf.at[idx, 'combination_components'] = therapeutics\n",
    "\n",
    "    for idx, row in tdf.iterrows():\n",
    "        if row['therapeutic_type'] == 'CombinationTherapy':\n",
    "            components = row['combination_components']\n",
    "            if components is not None:  # Check if components is not None\n",
    "                sorted_components = tuple(sorted(components))\n",
    "                tdf.at[idx, 'combination_components'] = sorted_components\n",
    "    return(tdf)\n",
    "\n",
    "braf_df = get_combination_therapies(braf_df)\n",
    "df = get_combination_therapies(df)\n",
    "not_braf_df = get_combination_therapies(not_braf_df)\n",
    "\n",
    "# braf_df['combination_components'] = None\n",
    "\n",
    "# for idx, row in braf_df.iterrows():\n",
    "#     result = neo4j_query(row['therapeutic_id'])\n",
    "#     therapeutics = []\n",
    "#     for record in result:\n",
    "#         therapeutics.append(record['Therapeutic'].get('label', None))\n",
    "#         braf_df.at[idx, 'combination_components'] = therapeutics\n",
    "\n",
    "# for idx, row in braf_df.iterrows():\n",
    "#     if row['therapeutic_type'] == 'CombinationTherapy':\n",
    "#         components = row['combination_components']\n",
    "#         if components is not None:  # Check if components is not None\n",
    "#             sorted_components = tuple(sorted(components))\n",
    "#             braf_df.at[idx, 'combination_components'] = sorted_components\n",
    "# #braf_df['combination_components'] = braf_df['combination_components'].apply(lambda x: tuple(sorted(x)))\n",
    "\n",
    "not_braf_df[0:3]"
   ]
  },
  {
   "cell_type": "code",
   "execution_count": 152,
   "metadata": {},
   "outputs": [
    {
     "data": {
      "text/plain": [
       "combination_components\n",
       "(Cetuximab, Irinotecan)                              12\n",
       "(Dactolisib, Selumetinib)                             8\n",
       "(Lapatinib, Neratinib, Trastuzumab)                   4\n",
       "(Lapatinib, Trastuzumab)                              2\n",
       "(Adagrasib, Cetuximab)                                2\n",
       "(Cetuximab, Fluorouracil, Oxaliplatin)                2\n",
       "(Cetuximab, Irinotecan, Vemurafenib)                  2\n",
       "(Alpelisib, Fulvestrant)                              2\n",
       "(Azacitidine, Ivosidenib)                             2\n",
       "(Docetaxel, Selumetinib)                              2\n",
       "(Capivasertib, Trastuzumab)                           1\n",
       "(Durvalumab, Osimertinib)                             1\n",
       "(Daunorubicin, Sunitinib)                             1\n",
       "(Cytarabine, Sunitinib)                               1\n",
       "(Cetuximab, Dactolisib)                               1\n",
       "(Akt Inhibitor MK2206, Vemurafenib)                   1\n",
       "(Lometrexol, Mercaptopurine)                          1\n",
       "(Cisplatin, Pictilisib)                               1\n",
       "(Capivasertib, Lapatinib)                             1\n",
       "(Erlotinib, Pemetrexed)                               1\n",
       "(Dasatinib, Erlotinib)                                1\n",
       "(Capivasertib, PI3K/BET Inhibitor LY294002)           1\n",
       "(Cisplatin, Fluorouracil)                             1\n",
       "(Carboplatin, Paclitaxel)                             1\n",
       "(Letrozole, Palbociclib)                              1\n",
       "(Checkpoint Kinase Inhibitor AZD7762, Irinotecan)     1\n",
       "(Everolimus, Fulvestrant)                             1\n",
       "(Olaparib, Temozolomide)                              1\n",
       "(Fluorouracil, Leucovorin, Trastuzumab)               1\n",
       "(Binimetinib, Everolimus)                             1\n",
       "Name: count, dtype: int64"
      ]
     },
     "execution_count": 152,
     "metadata": {},
     "output_type": "execute_result"
    }
   ],
   "source": [
    "not_braf_df['combination_components'].value_counts()"
   ]
  },
  {
   "cell_type": "markdown",
   "metadata": {},
   "source": [
    "## Therapeutics for Combined, BRAF, Not BRAF"
   ]
  },
  {
   "cell_type": "code",
   "execution_count": 153,
   "metadata": {},
   "outputs": [
    {
     "data": {
      "text/html": [
       "<div>\n",
       "<style scoped>\n",
       "    .dataframe tbody tr th:only-of-type {\n",
       "        vertical-align: middle;\n",
       "    }\n",
       "\n",
       "    .dataframe tbody tr th {\n",
       "        vertical-align: top;\n",
       "    }\n",
       "\n",
       "    .dataframe thead th {\n",
       "        text-align: right;\n",
       "    }\n",
       "</style>\n",
       "<table border=\"1\" class=\"dataframe\">\n",
       "  <thead>\n",
       "    <tr style=\"text-align: right;\">\n",
       "      <th></th>\n",
       "      <th>study_allele_origin</th>\n",
       "      <th>study_id</th>\n",
       "      <th>study_direction</th>\n",
       "      <th>study_predicate</th>\n",
       "      <th>study_type</th>\n",
       "      <th>variant_mp_score</th>\n",
       "      <th>variant_id</th>\n",
       "      <th>variant_label</th>\n",
       "      <th>variant_type</th>\n",
       "      <th>therapeutic_type</th>\n",
       "      <th>therapeutic_civic_type</th>\n",
       "      <th>therapeutic_id</th>\n",
       "      <th>therapeutic_label</th>\n",
       "      <th>number_of_components</th>\n",
       "      <th>combination_therapy_components</th>\n",
       "      <th>combination_components</th>\n",
       "    </tr>\n",
       "  </thead>\n",
       "  <tbody>\n",
       "    <tr>\n",
       "      <th>1</th>\n",
       "      <td>somatic</td>\n",
       "      <td>civic.eid:1409</td>\n",
       "      <td>supports</td>\n",
       "      <td>predictsSensitivityTo</td>\n",
       "      <td>VariantTherapeuticResponseStudy</td>\n",
       "      <td>1378.5</td>\n",
       "      <td>civic.mpid:12</td>\n",
       "      <td>BRAF V600E</td>\n",
       "      <td>[{\"label\": \"missense_variant\", \"system\": \"http...</td>\n",
       "      <td>TherapeuticAgent</td>\n",
       "      <td>None</td>\n",
       "      <td>civic.tid:4</td>\n",
       "      <td>Vemurafenib</td>\n",
       "      <td>0</td>\n",
       "      <td>[]</td>\n",
       "      <td>None</td>\n",
       "    </tr>\n",
       "    <tr>\n",
       "      <th>8</th>\n",
       "      <td>somatic</td>\n",
       "      <td>civic.eid:9851</td>\n",
       "      <td>supports</td>\n",
       "      <td>predictsSensitivityTo</td>\n",
       "      <td>VariantTherapeuticResponseStudy</td>\n",
       "      <td>1378.5</td>\n",
       "      <td>civic.mpid:12</td>\n",
       "      <td>BRAF V600E</td>\n",
       "      <td>[{\"label\": \"missense_variant\", \"system\": \"http...</td>\n",
       "      <td>CombinationTherapy</td>\n",
       "      <td>COMBINATION</td>\n",
       "      <td>civic.ctid:P1PY89shAjemg7jquQ0V9pg1VnYnkPeK</td>\n",
       "      <td>None</td>\n",
       "      <td>2</td>\n",
       "      <td>[{'id': 'civic.tid:16', 'regulatory_approval':...</td>\n",
       "      <td>(Cetuximab, Encorafenib)</td>\n",
       "    </tr>\n",
       "    <tr>\n",
       "      <th>9</th>\n",
       "      <td>somatic</td>\n",
       "      <td>civic.eid:3017</td>\n",
       "      <td>supports</td>\n",
       "      <td>predictsSensitivityTo</td>\n",
       "      <td>VariantTherapeuticResponseStudy</td>\n",
       "      <td>1378.5</td>\n",
       "      <td>civic.mpid:12</td>\n",
       "      <td>BRAF V600E</td>\n",
       "      <td>[{\"label\": \"missense_variant\", \"system\": \"http...</td>\n",
       "      <td>CombinationTherapy</td>\n",
       "      <td>COMBINATION</td>\n",
       "      <td>civic.ctid:oBrlcO23adoVXv51xh-5Wigy0QyDWtfr</td>\n",
       "      <td>None</td>\n",
       "      <td>2</td>\n",
       "      <td>[{'id': 'civic.tid:19', 'regulatory_approval':...</td>\n",
       "      <td>(Dabrafenib, Trametinib)</td>\n",
       "    </tr>\n",
       "  </tbody>\n",
       "</table>\n",
       "</div>"
      ],
      "text/plain": [
       "  study_allele_origin        study_id study_direction        study_predicate  \\\n",
       "1             somatic  civic.eid:1409        supports  predictsSensitivityTo   \n",
       "8             somatic  civic.eid:9851        supports  predictsSensitivityTo   \n",
       "9             somatic  civic.eid:3017        supports  predictsSensitivityTo   \n",
       "\n",
       "                        study_type  variant_mp_score     variant_id  \\\n",
       "1  VariantTherapeuticResponseStudy            1378.5  civic.mpid:12   \n",
       "8  VariantTherapeuticResponseStudy            1378.5  civic.mpid:12   \n",
       "9  VariantTherapeuticResponseStudy            1378.5  civic.mpid:12   \n",
       "\n",
       "  variant_label                                       variant_type  \\\n",
       "1    BRAF V600E  [{\"label\": \"missense_variant\", \"system\": \"http...   \n",
       "8    BRAF V600E  [{\"label\": \"missense_variant\", \"system\": \"http...   \n",
       "9    BRAF V600E  [{\"label\": \"missense_variant\", \"system\": \"http...   \n",
       "\n",
       "     therapeutic_type therapeutic_civic_type  \\\n",
       "1    TherapeuticAgent                   None   \n",
       "8  CombinationTherapy            COMBINATION   \n",
       "9  CombinationTherapy            COMBINATION   \n",
       "\n",
       "                                therapeutic_id therapeutic_label  \\\n",
       "1                                  civic.tid:4       Vemurafenib   \n",
       "8  civic.ctid:P1PY89shAjemg7jquQ0V9pg1VnYnkPeK              None   \n",
       "9  civic.ctid:oBrlcO23adoVXv51xh-5Wigy0QyDWtfr              None   \n",
       "\n",
       "   number_of_components                     combination_therapy_components  \\\n",
       "1                     0                                                 []   \n",
       "8                     2  [{'id': 'civic.tid:16', 'regulatory_approval':...   \n",
       "9                     2  [{'id': 'civic.tid:19', 'regulatory_approval':...   \n",
       "\n",
       "     combination_components  \n",
       "1                      None  \n",
       "8  (Cetuximab, Encorafenib)  \n",
       "9  (Dabrafenib, Trametinib)  "
      ]
     },
     "execution_count": 153,
     "metadata": {},
     "output_type": "execute_result"
    }
   ],
   "source": [
    "braf_df[0:3]"
   ]
  },
  {
   "cell_type": "code",
   "execution_count": 92,
   "metadata": {},
   "outputs": [
    {
     "data": {
      "text/html": [
       "<div>\n",
       "<style scoped>\n",
       "    .dataframe tbody tr th:only-of-type {\n",
       "        vertical-align: middle;\n",
       "    }\n",
       "\n",
       "    .dataframe tbody tr th {\n",
       "        vertical-align: top;\n",
       "    }\n",
       "\n",
       "    .dataframe thead th {\n",
       "        text-align: right;\n",
       "    }\n",
       "</style>\n",
       "<table border=\"1\" class=\"dataframe\">\n",
       "  <thead>\n",
       "    <tr style=\"text-align: right;\">\n",
       "      <th></th>\n",
       "      <th>study_allele_origin</th>\n",
       "      <th>study_id</th>\n",
       "      <th>study_direction</th>\n",
       "      <th>study_predicate</th>\n",
       "      <th>study_type</th>\n",
       "      <th>variant_mp_score</th>\n",
       "      <th>variant_id</th>\n",
       "      <th>variant_label</th>\n",
       "      <th>variant_type</th>\n",
       "      <th>therapeutic_type</th>\n",
       "      <th>therapeutic_civic_type</th>\n",
       "      <th>therapeutic_id</th>\n",
       "      <th>therapeutic_label</th>\n",
       "      <th>number_of_components</th>\n",
       "      <th>combination_therapy_components</th>\n",
       "      <th>combination_components</th>\n",
       "    </tr>\n",
       "  </thead>\n",
       "  <tbody>\n",
       "    <tr>\n",
       "      <th>0</th>\n",
       "      <td>somatic</td>\n",
       "      <td>civic.eid:238</td>\n",
       "      <td>supports</td>\n",
       "      <td>predictsResistanceTo</td>\n",
       "      <td>VariantTherapeuticResponseStudy</td>\n",
       "      <td>406.25</td>\n",
       "      <td>civic.mpid:34</td>\n",
       "      <td>EGFR T790M</td>\n",
       "      <td>[{\"label\": \"missense_variant\", \"system\": \"http...</td>\n",
       "      <td>TherapeuticAgent</td>\n",
       "      <td>None</td>\n",
       "      <td>civic.tid:15</td>\n",
       "      <td>Erlotinib</td>\n",
       "      <td>0</td>\n",
       "      <td>[]</td>\n",
       "      <td>None</td>\n",
       "    </tr>\n",
       "    <tr>\n",
       "      <th>2</th>\n",
       "      <td>somatic</td>\n",
       "      <td>civic.eid:1592</td>\n",
       "      <td>supports</td>\n",
       "      <td>predictsSensitivityTo</td>\n",
       "      <td>VariantTherapeuticResponseStudy</td>\n",
       "      <td>406.25</td>\n",
       "      <td>civic.mpid:34</td>\n",
       "      <td>EGFR T790M</td>\n",
       "      <td>[{\"label\": \"missense_variant\", \"system\": \"http...</td>\n",
       "      <td>TherapeuticAgent</td>\n",
       "      <td>None</td>\n",
       "      <td>civic.tid:187</td>\n",
       "      <td>Osimertinib</td>\n",
       "      <td>0</td>\n",
       "      <td>[]</td>\n",
       "      <td>None</td>\n",
       "    </tr>\n",
       "    <tr>\n",
       "      <th>3</th>\n",
       "      <td>somatic</td>\n",
       "      <td>civic.eid:1867</td>\n",
       "      <td>supports</td>\n",
       "      <td>predictsSensitivityTo</td>\n",
       "      <td>VariantTherapeuticResponseStudy</td>\n",
       "      <td>406.25</td>\n",
       "      <td>civic.mpid:34</td>\n",
       "      <td>EGFR T790M</td>\n",
       "      <td>[{\"label\": \"missense_variant\", \"system\": \"http...</td>\n",
       "      <td>TherapeuticAgent</td>\n",
       "      <td>None</td>\n",
       "      <td>civic.tid:187</td>\n",
       "      <td>Osimertinib</td>\n",
       "      <td>0</td>\n",
       "      <td>[]</td>\n",
       "      <td>None</td>\n",
       "    </tr>\n",
       "  </tbody>\n",
       "</table>\n",
       "</div>"
      ],
      "text/plain": [
       "  study_allele_origin        study_id study_direction        study_predicate  \\\n",
       "0             somatic   civic.eid:238        supports   predictsResistanceTo   \n",
       "2             somatic  civic.eid:1592        supports  predictsSensitivityTo   \n",
       "3             somatic  civic.eid:1867        supports  predictsSensitivityTo   \n",
       "\n",
       "                        study_type  variant_mp_score     variant_id  \\\n",
       "0  VariantTherapeuticResponseStudy            406.25  civic.mpid:34   \n",
       "2  VariantTherapeuticResponseStudy            406.25  civic.mpid:34   \n",
       "3  VariantTherapeuticResponseStudy            406.25  civic.mpid:34   \n",
       "\n",
       "  variant_label                                       variant_type  \\\n",
       "0    EGFR T790M  [{\"label\": \"missense_variant\", \"system\": \"http...   \n",
       "2    EGFR T790M  [{\"label\": \"missense_variant\", \"system\": \"http...   \n",
       "3    EGFR T790M  [{\"label\": \"missense_variant\", \"system\": \"http...   \n",
       "\n",
       "   therapeutic_type therapeutic_civic_type therapeutic_id therapeutic_label  \\\n",
       "0  TherapeuticAgent                   None   civic.tid:15         Erlotinib   \n",
       "2  TherapeuticAgent                   None  civic.tid:187       Osimertinib   \n",
       "3  TherapeuticAgent                   None  civic.tid:187       Osimertinib   \n",
       "\n",
       "   number_of_components combination_therapy_components combination_components  \n",
       "0                     0                             []                   None  \n",
       "2                     0                             []                   None  \n",
       "3                     0                             []                   None  "
      ]
     },
     "execution_count": 92,
     "metadata": {},
     "output_type": "execute_result"
    }
   ],
   "source": [
    "not_braf_df[0:3]"
   ]
  },
  {
   "cell_type": "code",
   "execution_count": 93,
   "metadata": {},
   "outputs": [
    {
     "data": {
      "text/html": [
       "<div>\n",
       "<style scoped>\n",
       "    .dataframe tbody tr th:only-of-type {\n",
       "        vertical-align: middle;\n",
       "    }\n",
       "\n",
       "    .dataframe tbody tr th {\n",
       "        vertical-align: top;\n",
       "    }\n",
       "\n",
       "    .dataframe thead th {\n",
       "        text-align: right;\n",
       "    }\n",
       "</style>\n",
       "<table border=\"1\" class=\"dataframe\">\n",
       "  <thead>\n",
       "    <tr style=\"text-align: right;\">\n",
       "      <th></th>\n",
       "      <th>study_allele_origin</th>\n",
       "      <th>study_id</th>\n",
       "      <th>study_direction</th>\n",
       "      <th>study_predicate</th>\n",
       "      <th>study_type</th>\n",
       "      <th>variant_mp_score</th>\n",
       "      <th>variant_id</th>\n",
       "      <th>variant_label</th>\n",
       "      <th>variant_type</th>\n",
       "      <th>therapeutic_type</th>\n",
       "      <th>therapeutic_civic_type</th>\n",
       "      <th>therapeutic_id</th>\n",
       "      <th>therapeutic_label</th>\n",
       "      <th>number_of_components</th>\n",
       "      <th>combination_therapy_components</th>\n",
       "      <th>combination_components</th>\n",
       "    </tr>\n",
       "  </thead>\n",
       "  <tbody>\n",
       "    <tr>\n",
       "      <th>0</th>\n",
       "      <td>somatic</td>\n",
       "      <td>civic.eid:238</td>\n",
       "      <td>supports</td>\n",
       "      <td>predictsResistanceTo</td>\n",
       "      <td>VariantTherapeuticResponseStudy</td>\n",
       "      <td>406.25</td>\n",
       "      <td>civic.mpid:34</td>\n",
       "      <td>EGFR T790M</td>\n",
       "      <td>[{\"label\": \"missense_variant\", \"system\": \"http...</td>\n",
       "      <td>TherapeuticAgent</td>\n",
       "      <td>None</td>\n",
       "      <td>civic.tid:15</td>\n",
       "      <td>Erlotinib</td>\n",
       "      <td>0</td>\n",
       "      <td>[]</td>\n",
       "      <td>None</td>\n",
       "    </tr>\n",
       "    <tr>\n",
       "      <th>1</th>\n",
       "      <td>somatic</td>\n",
       "      <td>civic.eid:1409</td>\n",
       "      <td>supports</td>\n",
       "      <td>predictsSensitivityTo</td>\n",
       "      <td>VariantTherapeuticResponseStudy</td>\n",
       "      <td>1378.50</td>\n",
       "      <td>civic.mpid:12</td>\n",
       "      <td>BRAF V600E</td>\n",
       "      <td>[{\"label\": \"missense_variant\", \"system\": \"http...</td>\n",
       "      <td>TherapeuticAgent</td>\n",
       "      <td>None</td>\n",
       "      <td>civic.tid:4</td>\n",
       "      <td>Vemurafenib</td>\n",
       "      <td>0</td>\n",
       "      <td>[]</td>\n",
       "      <td>None</td>\n",
       "    </tr>\n",
       "    <tr>\n",
       "      <th>2</th>\n",
       "      <td>somatic</td>\n",
       "      <td>civic.eid:1592</td>\n",
       "      <td>supports</td>\n",
       "      <td>predictsSensitivityTo</td>\n",
       "      <td>VariantTherapeuticResponseStudy</td>\n",
       "      <td>406.25</td>\n",
       "      <td>civic.mpid:34</td>\n",
       "      <td>EGFR T790M</td>\n",
       "      <td>[{\"label\": \"missense_variant\", \"system\": \"http...</td>\n",
       "      <td>TherapeuticAgent</td>\n",
       "      <td>None</td>\n",
       "      <td>civic.tid:187</td>\n",
       "      <td>Osimertinib</td>\n",
       "      <td>0</td>\n",
       "      <td>[]</td>\n",
       "      <td>None</td>\n",
       "    </tr>\n",
       "  </tbody>\n",
       "</table>\n",
       "</div>"
      ],
      "text/plain": [
       "  study_allele_origin        study_id study_direction        study_predicate  \\\n",
       "0             somatic   civic.eid:238        supports   predictsResistanceTo   \n",
       "1             somatic  civic.eid:1409        supports  predictsSensitivityTo   \n",
       "2             somatic  civic.eid:1592        supports  predictsSensitivityTo   \n",
       "\n",
       "                        study_type  variant_mp_score     variant_id  \\\n",
       "0  VariantTherapeuticResponseStudy            406.25  civic.mpid:34   \n",
       "1  VariantTherapeuticResponseStudy           1378.50  civic.mpid:12   \n",
       "2  VariantTherapeuticResponseStudy            406.25  civic.mpid:34   \n",
       "\n",
       "  variant_label                                       variant_type  \\\n",
       "0    EGFR T790M  [{\"label\": \"missense_variant\", \"system\": \"http...   \n",
       "1    BRAF V600E  [{\"label\": \"missense_variant\", \"system\": \"http...   \n",
       "2    EGFR T790M  [{\"label\": \"missense_variant\", \"system\": \"http...   \n",
       "\n",
       "   therapeutic_type therapeutic_civic_type therapeutic_id therapeutic_label  \\\n",
       "0  TherapeuticAgent                   None   civic.tid:15         Erlotinib   \n",
       "1  TherapeuticAgent                   None    civic.tid:4       Vemurafenib   \n",
       "2  TherapeuticAgent                   None  civic.tid:187       Osimertinib   \n",
       "\n",
       "   number_of_components combination_therapy_components combination_components  \n",
       "0                     0                             []                   None  \n",
       "1                     0                             []                   None  \n",
       "2                     0                             []                   None  "
      ]
     },
     "execution_count": 93,
     "metadata": {},
     "output_type": "execute_result"
    }
   ],
   "source": [
    "df[0:3]"
   ]
  },
  {
   "cell_type": "code",
   "execution_count": 154,
   "metadata": {},
   "outputs": [
    {
     "data": {
      "text/plain": [
       "therapeutic_label\n",
       "Vemurafenib                52\n",
       "Trametinib                  9\n",
       "Dabrafenib                  5\n",
       "Encorafenib                 2\n",
       "U0126                       2\n",
       "Sorafenib                   2\n",
       "Panitumumab                 2\n",
       "Irinotecan                  2\n",
       "Oxaliplatin                 2\n",
       "Cetuximab                   2\n",
       "MEK Inhibitor REC-4881      1\n",
       "MEK Inhibitor RO4987655     1\n",
       "BRAF Inhibitor              1\n",
       "Pictilisib                  1\n",
       "Cobimetinib                 1\n",
       "Bleomycin                   1\n",
       "Tovorafenib                 1\n",
       "Name: count, dtype: int64"
      ]
     },
     "execution_count": 154,
     "metadata": {},
     "output_type": "execute_result"
    }
   ],
   "source": [
    "braf_df['therapeutic_label'].value_counts()"
   ]
  },
  {
   "cell_type": "code",
   "execution_count": 97,
   "metadata": {},
   "outputs": [
    {
     "data": {
      "text/plain": [
       "therapeutic_label\n",
       "Erlotinib                 59\n",
       "Imatinib                  43\n",
       "Cetuximab                 37\n",
       "Gefitinib                 31\n",
       "Pictilisib                30\n",
       "                          ..\n",
       "JAK2 Inhibitor AZD1480     1\n",
       "Patidegib                  1\n",
       "PD173074                   1\n",
       "AZD3463                    1\n",
       "Larotrectinib              1\n",
       "Name: count, Length: 113, dtype: int64"
      ]
     },
     "execution_count": 97,
     "metadata": {},
     "output_type": "execute_result"
    }
   ],
   "source": [
    "not_braf_df['therapeutic_label'].value_counts()"
   ]
  },
  {
   "cell_type": "code",
   "execution_count": 155,
   "metadata": {},
   "outputs": [
    {
     "name": "stdout",
     "output_type": "stream",
     "text": [
      "    therapeutic_label  braf_count  general_count  not_braf_count\n",
      "0            AGI-5198           0              2               2\n",
      "1             AZD3463           0              1               1\n",
      "2         Abemaciclib           0              1               1\n",
      "3           Adagrasib           0              2               2\n",
      "4            Afatinib           0             19              19\n",
      "..                ...         ...            ...             ...\n",
      "118             U0126           2              2               0\n",
      "119        Uprosertib           0              1               1\n",
      "120       Vemurafenib          52             71              19\n",
      "121        Venetoclax           0              4               4\n",
      "122        Vismodegib           0              4               4\n",
      "\n",
      "[123 rows x 4 columns]\n"
     ]
    }
   ],
   "source": [
    "import pandas as pd\n",
    "\n",
    "# Assuming 'braf_df', 'df', and 'not_braf_df' are your DataFrames\n",
    "\n",
    "# Perform value_counts on the 'therapeutic_label' column\n",
    "braf_counts = braf_df['therapeutic_label'].value_counts().rename_axis('therapeutic_label').reset_index(name='braf_count')\n",
    "df_counts = df['therapeutic_label'].value_counts().rename_axis('therapeutic_label').reset_index(name='general_count')\n",
    "not_braf_counts = not_braf_df['therapeutic_label'].value_counts().rename_axis('therapeutic_label').reset_index(name='not_braf_count')\n",
    "\n",
    "# Combine the three DataFrames into one\n",
    "combined_df = pd.merge(pd.merge(braf_counts, df_counts, on='therapeutic_label', how='outer'), not_braf_counts, on='therapeutic_label', how='outer').fillna(0)\n",
    "\n",
    "# Convert counts to integers (optional, in case NaNs were filled)\n",
    "combined_df[['braf_count', 'general_count', 'not_braf_count']] = combined_df[['braf_count', 'general_count', 'not_braf_count']].astype(int)\n",
    "\n",
    "# Display the combined DataFrame\n",
    "print(combined_df)\n"
   ]
  },
  {
   "cell_type": "code",
   "execution_count": 156,
   "metadata": {},
   "outputs": [
    {
     "data": {
      "application/vnd.plotly.v1+json": {
       "config": {
        "plotlyServerURL": "https://plot.ly"
       },
       "data": [
        {
         "alignmentgroup": "True",
         "hovertemplate": "Dataset=braf_count<br>therapeutic_label=%{x}<br>Count=%{y}<extra></extra>",
         "legendgroup": "braf_count",
         "marker": {
          "color": "#636efa",
          "pattern": {
           "shape": ""
          }
         },
         "name": "braf_count",
         "offsetgroup": "braf_count",
         "orientation": "v",
         "showlegend": true,
         "textposition": "auto",
         "type": "bar",
         "x": [
          "Vemurafenib",
          "Erlotinib",
          "Imatinib",
          "Cetuximab",
          "Pictilisib",
          "Gefitinib",
          "Selumetinib",
          "Dasatinib",
          "Sunitinib",
          "Osimertinib",
          "Afatinib",
          "Melphalan",
          "Regorafenib",
          "Crizotinib",
          "MDM2 Inhibitor AMGMDS3",
          "Panitumumab",
          "Trametinib",
          "Doxorubicin",
          "Bosutinib",
          "Nilotinib",
          "Lapatinib",
          "Neratinib",
          "Ivosidenib",
          "Trastuzumab Deruxtecan",
          "Ponatinib",
          "Sorafenib",
          "Dabrafenib",
          "Dacomitinib",
          "Trastuzumab",
          "Ceritinib",
          "Sirolimus",
          "Tazemetostat",
          "Ibrutinib",
          "Imatinib Mesylate",
          "Hormone Therapy",
          "Crenolanib",
          "Olaparib",
          "Olutasidenib",
          "Dactolisib",
          "PI-103",
          "Ruxolitinib",
          "Trastuzumab Emtansine",
          "Gilteritinib",
          "Venetoclax",
          "Vismodegib",
          "Erdafitinib",
          "Cisplatin",
          "Enasidenib",
          "Quizartinib",
          "Lorlatinib",
          "Rociletinib",
          "Avapritinib",
          "TAE684",
          "Temozolomide",
          "Everolimus",
          "Midostaurin",
          "Pembrolizumab",
          "Cytarabine",
          "PU-H71",
          "Fluorouracil",
          "Pazopanib",
          "PF-06747775",
          "Oxaliplatin",
          "Palbociclib",
          "Capivasertib",
          "EGF816",
          "Cabozantinib",
          "Sotorasib",
          "Apitolisib",
          "Akt Inhibitor MK2206",
          "U0126",
          "Adagrasib",
          "Canertinib",
          "AGI-5198",
          "Irinotecan",
          "LOXO-292",
          "Encorafenib",
          "Motesanib",
          "Lestaurtinib",
          "Izorlisib",
          "Olmutinib",
          "Epidermal Growth Factor Receptor Tyrosine Kinase Inhibitor",
          "Staurosporine",
          "Aromatase Inhibitor",
          "JAK2 Inhibitor AZD1480",
          "Tandutinib",
          "Tanespimycin",
          "Taselisib",
          "Therapeutic Tumor Infiltrating Lymphocytes",
          "Bleomycin",
          "Tovorafenib",
          "Amrubicin",
          "Alpelisib",
          "Alectinib",
          "FLT3/ABL/Aurora Kinase Inhibitor KW-2449",
          "Idelalisib",
          "Uprosertib",
          "Fedratinib",
          "Abemaciclib",
          "BRAF Inhibitor",
          "Savolitinib",
          "Selpercatinib",
          "Dordaviprone",
          "Omacetaxine",
          "Divarasib",
          "PD173074",
          "Entrectinib",
          "PLX4720",
          "Meloxicam",
          "MTOR Kinase Inhibitor AZD8055",
          "Cobimetinib",
          "Patidegib",
          "MTOR Inhibitor",
          "Peginterferon Alfa-2b",
          "MK-2206",
          "Pemigatinib",
          "MEK Inhibitor RO4987655",
          "MEK Inhibitor REC-4881",
          "AZD3463",
          "Letrozole",
          "Larotrectinib",
          "SU11274",
          "Futuximab/Modotuximab Mixture"
         ],
         "xaxis": "x",
         "y": [
          52,
          0,
          0,
          2,
          1,
          0,
          0,
          0,
          0,
          0,
          0,
          0,
          0,
          0,
          0,
          2,
          9,
          0,
          0,
          0,
          0,
          0,
          0,
          0,
          0,
          2,
          5,
          0,
          0,
          0,
          0,
          0,
          0,
          0,
          0,
          0,
          0,
          0,
          0,
          0,
          0,
          0,
          0,
          0,
          0,
          0,
          0,
          0,
          0,
          0,
          0,
          0,
          0,
          0,
          0,
          0,
          0,
          0,
          0,
          0,
          0,
          0,
          2,
          0,
          0,
          0,
          0,
          0,
          0,
          0,
          2,
          0,
          0,
          0,
          2,
          0,
          2,
          0,
          0,
          0,
          0,
          0,
          0,
          0,
          0,
          0,
          0,
          0,
          0,
          1,
          1,
          0,
          0,
          0,
          0,
          0,
          0,
          0,
          0,
          1,
          0,
          0,
          0,
          0,
          0,
          0,
          0,
          0,
          0,
          0,
          1,
          0,
          0,
          0,
          0,
          0,
          1,
          1,
          0,
          0,
          0,
          0,
          0
         ],
         "yaxis": "y"
        },
        {
         "alignmentgroup": "True",
         "hovertemplate": "Dataset=not_braf_count<br>therapeutic_label=%{x}<br>Count=%{y}<extra></extra>",
         "legendgroup": "not_braf_count",
         "marker": {
          "color": "#EF553B",
          "pattern": {
           "shape": ""
          }
         },
         "name": "not_braf_count",
         "offsetgroup": "not_braf_count",
         "orientation": "v",
         "showlegend": true,
         "textposition": "auto",
         "type": "bar",
         "x": [
          "Vemurafenib",
          "Erlotinib",
          "Imatinib",
          "Cetuximab",
          "Pictilisib",
          "Gefitinib",
          "Selumetinib",
          "Dasatinib",
          "Sunitinib",
          "Osimertinib",
          "Afatinib",
          "Melphalan",
          "Regorafenib",
          "Crizotinib",
          "MDM2 Inhibitor AMGMDS3",
          "Panitumumab",
          "Trametinib",
          "Doxorubicin",
          "Bosutinib",
          "Nilotinib",
          "Lapatinib",
          "Neratinib",
          "Ivosidenib",
          "Trastuzumab Deruxtecan",
          "Ponatinib",
          "Sorafenib",
          "Dabrafenib",
          "Dacomitinib",
          "Trastuzumab",
          "Ceritinib",
          "Sirolimus",
          "Tazemetostat",
          "Ibrutinib",
          "Imatinib Mesylate",
          "Hormone Therapy",
          "Crenolanib",
          "Olaparib",
          "Olutasidenib",
          "Dactolisib",
          "PI-103",
          "Ruxolitinib",
          "Trastuzumab Emtansine",
          "Gilteritinib",
          "Venetoclax",
          "Vismodegib",
          "Erdafitinib",
          "Cisplatin",
          "Enasidenib",
          "Quizartinib",
          "Lorlatinib",
          "Rociletinib",
          "Avapritinib",
          "TAE684",
          "Temozolomide",
          "Everolimus",
          "Midostaurin",
          "Pembrolizumab",
          "Cytarabine",
          "PU-H71",
          "Fluorouracil",
          "Pazopanib",
          "PF-06747775",
          "Oxaliplatin",
          "Palbociclib",
          "Capivasertib",
          "EGF816",
          "Cabozantinib",
          "Sotorasib",
          "Apitolisib",
          "Akt Inhibitor MK2206",
          "U0126",
          "Adagrasib",
          "Canertinib",
          "AGI-5198",
          "Irinotecan",
          "LOXO-292",
          "Encorafenib",
          "Motesanib",
          "Lestaurtinib",
          "Izorlisib",
          "Olmutinib",
          "Epidermal Growth Factor Receptor Tyrosine Kinase Inhibitor",
          "Staurosporine",
          "Aromatase Inhibitor",
          "JAK2 Inhibitor AZD1480",
          "Tandutinib",
          "Tanespimycin",
          "Taselisib",
          "Therapeutic Tumor Infiltrating Lymphocytes",
          "Bleomycin",
          "Tovorafenib",
          "Amrubicin",
          "Alpelisib",
          "Alectinib",
          "FLT3/ABL/Aurora Kinase Inhibitor KW-2449",
          "Idelalisib",
          "Uprosertib",
          "Fedratinib",
          "Abemaciclib",
          "BRAF Inhibitor",
          "Savolitinib",
          "Selpercatinib",
          "Dordaviprone",
          "Omacetaxine",
          "Divarasib",
          "PD173074",
          "Entrectinib",
          "PLX4720",
          "Meloxicam",
          "MTOR Kinase Inhibitor AZD8055",
          "Cobimetinib",
          "Patidegib",
          "MTOR Inhibitor",
          "Peginterferon Alfa-2b",
          "MK-2206",
          "Pemigatinib",
          "MEK Inhibitor RO4987655",
          "MEK Inhibitor REC-4881",
          "AZD3463",
          "Letrozole",
          "Larotrectinib",
          "SU11274",
          "Futuximab/Modotuximab Mixture"
         ],
         "xaxis": "x",
         "y": [
          19,
          59,
          43,
          37,
          30,
          31,
          24,
          23,
          20,
          20,
          19,
          16,
          15,
          14,
          14,
          11,
          3,
          12,
          12,
          12,
          11,
          11,
          10,
          9,
          9,
          6,
          2,
          7,
          7,
          6,
          6,
          6,
          6,
          5,
          5,
          5,
          5,
          5,
          5,
          5,
          5,
          5,
          5,
          4,
          4,
          4,
          4,
          3,
          3,
          3,
          3,
          3,
          3,
          3,
          3,
          3,
          3,
          2,
          2,
          2,
          2,
          2,
          0,
          2,
          2,
          2,
          2,
          2,
          2,
          2,
          0,
          2,
          2,
          2,
          0,
          2,
          0,
          2,
          2,
          2,
          1,
          1,
          1,
          1,
          1,
          1,
          1,
          1,
          1,
          0,
          0,
          1,
          1,
          1,
          1,
          1,
          1,
          1,
          1,
          0,
          1,
          1,
          1,
          1,
          1,
          1,
          1,
          1,
          1,
          1,
          0,
          1,
          1,
          1,
          1,
          1,
          0,
          0,
          1,
          1,
          1,
          1,
          1
         ],
         "yaxis": "y"
        }
       ],
       "layout": {
        "barmode": "stack",
        "legend": {
         "title": {
          "text": "Dataset"
         },
         "tracegroupgap": 0
        },
        "template": {
         "data": {
          "bar": [
           {
            "error_x": {
             "color": "#2a3f5f"
            },
            "error_y": {
             "color": "#2a3f5f"
            },
            "marker": {
             "line": {
              "color": "#E5ECF6",
              "width": 0.5
             },
             "pattern": {
              "fillmode": "overlay",
              "size": 10,
              "solidity": 0.2
             }
            },
            "type": "bar"
           }
          ],
          "barpolar": [
           {
            "marker": {
             "line": {
              "color": "#E5ECF6",
              "width": 0.5
             },
             "pattern": {
              "fillmode": "overlay",
              "size": 10,
              "solidity": 0.2
             }
            },
            "type": "barpolar"
           }
          ],
          "carpet": [
           {
            "aaxis": {
             "endlinecolor": "#2a3f5f",
             "gridcolor": "white",
             "linecolor": "white",
             "minorgridcolor": "white",
             "startlinecolor": "#2a3f5f"
            },
            "baxis": {
             "endlinecolor": "#2a3f5f",
             "gridcolor": "white",
             "linecolor": "white",
             "minorgridcolor": "white",
             "startlinecolor": "#2a3f5f"
            },
            "type": "carpet"
           }
          ],
          "choropleth": [
           {
            "colorbar": {
             "outlinewidth": 0,
             "ticks": ""
            },
            "type": "choropleth"
           }
          ],
          "contour": [
           {
            "colorbar": {
             "outlinewidth": 0,
             "ticks": ""
            },
            "colorscale": [
             [
              0,
              "#0d0887"
             ],
             [
              0.1111111111111111,
              "#46039f"
             ],
             [
              0.2222222222222222,
              "#7201a8"
             ],
             [
              0.3333333333333333,
              "#9c179e"
             ],
             [
              0.4444444444444444,
              "#bd3786"
             ],
             [
              0.5555555555555556,
              "#d8576b"
             ],
             [
              0.6666666666666666,
              "#ed7953"
             ],
             [
              0.7777777777777778,
              "#fb9f3a"
             ],
             [
              0.8888888888888888,
              "#fdca26"
             ],
             [
              1,
              "#f0f921"
             ]
            ],
            "type": "contour"
           }
          ],
          "contourcarpet": [
           {
            "colorbar": {
             "outlinewidth": 0,
             "ticks": ""
            },
            "type": "contourcarpet"
           }
          ],
          "heatmap": [
           {
            "colorbar": {
             "outlinewidth": 0,
             "ticks": ""
            },
            "colorscale": [
             [
              0,
              "#0d0887"
             ],
             [
              0.1111111111111111,
              "#46039f"
             ],
             [
              0.2222222222222222,
              "#7201a8"
             ],
             [
              0.3333333333333333,
              "#9c179e"
             ],
             [
              0.4444444444444444,
              "#bd3786"
             ],
             [
              0.5555555555555556,
              "#d8576b"
             ],
             [
              0.6666666666666666,
              "#ed7953"
             ],
             [
              0.7777777777777778,
              "#fb9f3a"
             ],
             [
              0.8888888888888888,
              "#fdca26"
             ],
             [
              1,
              "#f0f921"
             ]
            ],
            "type": "heatmap"
           }
          ],
          "heatmapgl": [
           {
            "colorbar": {
             "outlinewidth": 0,
             "ticks": ""
            },
            "colorscale": [
             [
              0,
              "#0d0887"
             ],
             [
              0.1111111111111111,
              "#46039f"
             ],
             [
              0.2222222222222222,
              "#7201a8"
             ],
             [
              0.3333333333333333,
              "#9c179e"
             ],
             [
              0.4444444444444444,
              "#bd3786"
             ],
             [
              0.5555555555555556,
              "#d8576b"
             ],
             [
              0.6666666666666666,
              "#ed7953"
             ],
             [
              0.7777777777777778,
              "#fb9f3a"
             ],
             [
              0.8888888888888888,
              "#fdca26"
             ],
             [
              1,
              "#f0f921"
             ]
            ],
            "type": "heatmapgl"
           }
          ],
          "histogram": [
           {
            "marker": {
             "pattern": {
              "fillmode": "overlay",
              "size": 10,
              "solidity": 0.2
             }
            },
            "type": "histogram"
           }
          ],
          "histogram2d": [
           {
            "colorbar": {
             "outlinewidth": 0,
             "ticks": ""
            },
            "colorscale": [
             [
              0,
              "#0d0887"
             ],
             [
              0.1111111111111111,
              "#46039f"
             ],
             [
              0.2222222222222222,
              "#7201a8"
             ],
             [
              0.3333333333333333,
              "#9c179e"
             ],
             [
              0.4444444444444444,
              "#bd3786"
             ],
             [
              0.5555555555555556,
              "#d8576b"
             ],
             [
              0.6666666666666666,
              "#ed7953"
             ],
             [
              0.7777777777777778,
              "#fb9f3a"
             ],
             [
              0.8888888888888888,
              "#fdca26"
             ],
             [
              1,
              "#f0f921"
             ]
            ],
            "type": "histogram2d"
           }
          ],
          "histogram2dcontour": [
           {
            "colorbar": {
             "outlinewidth": 0,
             "ticks": ""
            },
            "colorscale": [
             [
              0,
              "#0d0887"
             ],
             [
              0.1111111111111111,
              "#46039f"
             ],
             [
              0.2222222222222222,
              "#7201a8"
             ],
             [
              0.3333333333333333,
              "#9c179e"
             ],
             [
              0.4444444444444444,
              "#bd3786"
             ],
             [
              0.5555555555555556,
              "#d8576b"
             ],
             [
              0.6666666666666666,
              "#ed7953"
             ],
             [
              0.7777777777777778,
              "#fb9f3a"
             ],
             [
              0.8888888888888888,
              "#fdca26"
             ],
             [
              1,
              "#f0f921"
             ]
            ],
            "type": "histogram2dcontour"
           }
          ],
          "mesh3d": [
           {
            "colorbar": {
             "outlinewidth": 0,
             "ticks": ""
            },
            "type": "mesh3d"
           }
          ],
          "parcoords": [
           {
            "line": {
             "colorbar": {
              "outlinewidth": 0,
              "ticks": ""
             }
            },
            "type": "parcoords"
           }
          ],
          "pie": [
           {
            "automargin": true,
            "type": "pie"
           }
          ],
          "scatter": [
           {
            "fillpattern": {
             "fillmode": "overlay",
             "size": 10,
             "solidity": 0.2
            },
            "type": "scatter"
           }
          ],
          "scatter3d": [
           {
            "line": {
             "colorbar": {
              "outlinewidth": 0,
              "ticks": ""
             }
            },
            "marker": {
             "colorbar": {
              "outlinewidth": 0,
              "ticks": ""
             }
            },
            "type": "scatter3d"
           }
          ],
          "scattercarpet": [
           {
            "marker": {
             "colorbar": {
              "outlinewidth": 0,
              "ticks": ""
             }
            },
            "type": "scattercarpet"
           }
          ],
          "scattergeo": [
           {
            "marker": {
             "colorbar": {
              "outlinewidth": 0,
              "ticks": ""
             }
            },
            "type": "scattergeo"
           }
          ],
          "scattergl": [
           {
            "marker": {
             "colorbar": {
              "outlinewidth": 0,
              "ticks": ""
             }
            },
            "type": "scattergl"
           }
          ],
          "scattermapbox": [
           {
            "marker": {
             "colorbar": {
              "outlinewidth": 0,
              "ticks": ""
             }
            },
            "type": "scattermapbox"
           }
          ],
          "scatterpolar": [
           {
            "marker": {
             "colorbar": {
              "outlinewidth": 0,
              "ticks": ""
             }
            },
            "type": "scatterpolar"
           }
          ],
          "scatterpolargl": [
           {
            "marker": {
             "colorbar": {
              "outlinewidth": 0,
              "ticks": ""
             }
            },
            "type": "scatterpolargl"
           }
          ],
          "scatterternary": [
           {
            "marker": {
             "colorbar": {
              "outlinewidth": 0,
              "ticks": ""
             }
            },
            "type": "scatterternary"
           }
          ],
          "surface": [
           {
            "colorbar": {
             "outlinewidth": 0,
             "ticks": ""
            },
            "colorscale": [
             [
              0,
              "#0d0887"
             ],
             [
              0.1111111111111111,
              "#46039f"
             ],
             [
              0.2222222222222222,
              "#7201a8"
             ],
             [
              0.3333333333333333,
              "#9c179e"
             ],
             [
              0.4444444444444444,
              "#bd3786"
             ],
             [
              0.5555555555555556,
              "#d8576b"
             ],
             [
              0.6666666666666666,
              "#ed7953"
             ],
             [
              0.7777777777777778,
              "#fb9f3a"
             ],
             [
              0.8888888888888888,
              "#fdca26"
             ],
             [
              1,
              "#f0f921"
             ]
            ],
            "type": "surface"
           }
          ],
          "table": [
           {
            "cells": {
             "fill": {
              "color": "#EBF0F8"
             },
             "line": {
              "color": "white"
             }
            },
            "header": {
             "fill": {
              "color": "#C8D4E3"
             },
             "line": {
              "color": "white"
             }
            },
            "type": "table"
           }
          ]
         },
         "layout": {
          "annotationdefaults": {
           "arrowcolor": "#2a3f5f",
           "arrowhead": 0,
           "arrowwidth": 1
          },
          "autotypenumbers": "strict",
          "coloraxis": {
           "colorbar": {
            "outlinewidth": 0,
            "ticks": ""
           }
          },
          "colorscale": {
           "diverging": [
            [
             0,
             "#8e0152"
            ],
            [
             0.1,
             "#c51b7d"
            ],
            [
             0.2,
             "#de77ae"
            ],
            [
             0.3,
             "#f1b6da"
            ],
            [
             0.4,
             "#fde0ef"
            ],
            [
             0.5,
             "#f7f7f7"
            ],
            [
             0.6,
             "#e6f5d0"
            ],
            [
             0.7,
             "#b8e186"
            ],
            [
             0.8,
             "#7fbc41"
            ],
            [
             0.9,
             "#4d9221"
            ],
            [
             1,
             "#276419"
            ]
           ],
           "sequential": [
            [
             0,
             "#0d0887"
            ],
            [
             0.1111111111111111,
             "#46039f"
            ],
            [
             0.2222222222222222,
             "#7201a8"
            ],
            [
             0.3333333333333333,
             "#9c179e"
            ],
            [
             0.4444444444444444,
             "#bd3786"
            ],
            [
             0.5555555555555556,
             "#d8576b"
            ],
            [
             0.6666666666666666,
             "#ed7953"
            ],
            [
             0.7777777777777778,
             "#fb9f3a"
            ],
            [
             0.8888888888888888,
             "#fdca26"
            ],
            [
             1,
             "#f0f921"
            ]
           ],
           "sequentialminus": [
            [
             0,
             "#0d0887"
            ],
            [
             0.1111111111111111,
             "#46039f"
            ],
            [
             0.2222222222222222,
             "#7201a8"
            ],
            [
             0.3333333333333333,
             "#9c179e"
            ],
            [
             0.4444444444444444,
             "#bd3786"
            ],
            [
             0.5555555555555556,
             "#d8576b"
            ],
            [
             0.6666666666666666,
             "#ed7953"
            ],
            [
             0.7777777777777778,
             "#fb9f3a"
            ],
            [
             0.8888888888888888,
             "#fdca26"
            ],
            [
             1,
             "#f0f921"
            ]
           ]
          },
          "colorway": [
           "#636efa",
           "#EF553B",
           "#00cc96",
           "#ab63fa",
           "#FFA15A",
           "#19d3f3",
           "#FF6692",
           "#B6E880",
           "#FF97FF",
           "#FECB52"
          ],
          "font": {
           "color": "#2a3f5f"
          },
          "geo": {
           "bgcolor": "white",
           "lakecolor": "white",
           "landcolor": "#E5ECF6",
           "showlakes": true,
           "showland": true,
           "subunitcolor": "white"
          },
          "hoverlabel": {
           "align": "left"
          },
          "hovermode": "closest",
          "mapbox": {
           "style": "light"
          },
          "paper_bgcolor": "white",
          "plot_bgcolor": "#E5ECF6",
          "polar": {
           "angularaxis": {
            "gridcolor": "white",
            "linecolor": "white",
            "ticks": ""
           },
           "bgcolor": "#E5ECF6",
           "radialaxis": {
            "gridcolor": "white",
            "linecolor": "white",
            "ticks": ""
           }
          },
          "scene": {
           "xaxis": {
            "backgroundcolor": "#E5ECF6",
            "gridcolor": "white",
            "gridwidth": 2,
            "linecolor": "white",
            "showbackground": true,
            "ticks": "",
            "zerolinecolor": "white"
           },
           "yaxis": {
            "backgroundcolor": "#E5ECF6",
            "gridcolor": "white",
            "gridwidth": 2,
            "linecolor": "white",
            "showbackground": true,
            "ticks": "",
            "zerolinecolor": "white"
           },
           "zaxis": {
            "backgroundcolor": "#E5ECF6",
            "gridcolor": "white",
            "gridwidth": 2,
            "linecolor": "white",
            "showbackground": true,
            "ticks": "",
            "zerolinecolor": "white"
           }
          },
          "shapedefaults": {
           "line": {
            "color": "#2a3f5f"
           }
          },
          "ternary": {
           "aaxis": {
            "gridcolor": "white",
            "linecolor": "white",
            "ticks": ""
           },
           "baxis": {
            "gridcolor": "white",
            "linecolor": "white",
            "ticks": ""
           },
           "bgcolor": "#E5ECF6",
           "caxis": {
            "gridcolor": "white",
            "linecolor": "white",
            "ticks": ""
           }
          },
          "title": {
           "x": 0.05
          },
          "xaxis": {
           "automargin": true,
           "gridcolor": "white",
           "linecolor": "white",
           "ticks": "",
           "title": {
            "standoff": 15
           },
           "zerolinecolor": "white",
           "zerolinewidth": 2
          },
          "yaxis": {
           "automargin": true,
           "gridcolor": "white",
           "linecolor": "white",
           "ticks": "",
           "title": {
            "standoff": 15
           },
           "zerolinecolor": "white",
           "zerolinewidth": 2
          }
         }
        },
        "title": {
         "text": "Therapeutic Label Counts Sorted by Total Count"
        },
        "xaxis": {
         "anchor": "y",
         "domain": [
          0,
          1
         ],
         "title": {
          "text": "therapeutic_label"
         }
        },
        "yaxis": {
         "anchor": "x",
         "domain": [
          0,
          1
         ],
         "title": {
          "text": "Count"
         }
        }
       }
      }
     },
     "metadata": {},
     "output_type": "display_data"
    }
   ],
   "source": [
    "import pandas as pd\n",
    "import plotly.express as px\n",
    "\n",
    "# Assuming 'combined_df' is already created as before\n",
    "\n",
    "# Add a new column for the total counts\n",
    "combined_df['total_count'] = combined_df[['braf_count', 'general_count', 'not_braf_count']].sum(axis=1)\n",
    "\n",
    "# Sort the DataFrame by the total counts in ascending order\n",
    "sorted_df = combined_df.sort_values('total_count', ascending=False)\n",
    "\n",
    "# Create a bar plot for each therapeutic label count\n",
    "fig = px.bar(sorted_df, x='therapeutic_label', y=['braf_count', 'not_braf_count'], \n",
    "             title='Therapeutic Label Counts Sorted by Total Count',\n",
    "             labels={'value': 'Count', 'variable': 'Dataset'},\n",
    "             barmode='stack')\n",
    "\n",
    "# Show the figure\n",
    "fig.show()\n"
   ]
  },
  {
   "cell_type": "code",
   "execution_count": 157,
   "metadata": {},
   "outputs": [
    {
     "name": "stdout",
     "output_type": "stream",
     "text": [
      "                               combination_components  braf_count  \\\n",
      "0                              (Adagrasib, Cetuximab)           0   \n",
      "1                 (Akt Inhibitor MK2206, Vemurafenib)           0   \n",
      "2                            (Alpelisib, Fulvestrant)           0   \n",
      "3                           (Azacitidine, Ivosidenib)           0   \n",
      "4   (BRAF Inhibitor, Mitogen-Activated Protein Kin...           2   \n",
      "5            (Bevacizumab, Capecitabine, Oxaliplatin)           1   \n",
      "6            (Bevacizumab, Capecitabine, Vemurafenib)           1   \n",
      "7                           (Bevacizumab, Dabrafenib)           1   \n",
      "8               (Binimetinib, Cetuximab, Encorafenib)           2   \n",
      "9                          (Binimetinib, Encorafenib)           1   \n",
      "10                          (Binimetinib, Everolimus)           0   \n",
      "11                          (Capivasertib, Lapatinib)           0   \n",
      "12        (Capivasertib, PI3K/BET Inhibitor LY294002)           0   \n",
      "13                        (Capivasertib, Trastuzumab)           0   \n",
      "14                          (Carboplatin, Paclitaxel)           0   \n",
      "15                            (Cetuximab, Dactolisib)           0   \n",
      "16                           (Cetuximab, Encorafenib)           2   \n",
      "17             (Cetuximab, Fluorouracil, Oxaliplatin)           0   \n",
      "18                (Cetuximab, Gefitinib, Vemurafenib)           1   \n",
      "19                            (Cetuximab, Irinotecan)           2   \n",
      "20               (Cetuximab, Irinotecan, Vemurafenib)           2   \n",
      "21                           (Cetuximab, Vemurafenib)           1   \n",
      "22  (Checkpoint Kinase Inhibitor AZD7762, Irinotecan)           0   \n",
      "23                          (Cisplatin, Fluorouracil)           0   \n",
      "24                            (Cisplatin, Pictilisib)           0   \n",
      "25                         (Cobimetinib, Vemurafenib)           2   \n",
      "26                            (Cytarabine, Sunitinib)           0   \n",
      "27                           (Dabrafenib, Omipalisib)           1   \n",
      "28              (Dabrafenib, Panitumumab, Trametinib)           1   \n",
      "29                           (Dabrafenib, Trametinib)          24   \n",
      "30              (Dabrafenib, Trametinib, Vemurafenib)           1   \n",
      "31                             (Dactolisib, GDC-0879)           1   \n",
      "32                          (Dactolisib, Selumetinib)           1   \n",
      "33                             (Dasatinib, Erlotinib)           0   \n",
      "34                          (Daunorubicin, Sunitinib)           0   \n",
      "35                           (Docetaxel, Selumetinib)           0   \n",
      "36                          (Durvalumab, Osimertinib)           0   \n",
      "37                            (Erlotinib, Pemetrexed)           0   \n",
      "38                           (Erlotinib, Vemurafenib)           1   \n",
      "39                          (Everolimus, Fulvestrant)           0   \n",
      "40            (Fluorouracil, Leucovorin, Trastuzumab)           0   \n",
      "41                       (Interferon-alpha, Ixazomib)           1   \n",
      "42                          (Ipilimumab, Vemurafenib)           2   \n",
      "43                          (Irinotecan, Panitumumab)           1   \n",
      "44             (Irinotecan, Panitumumab, Vemurafenib)           1   \n",
      "45                (Lapatinib, Neratinib, Trastuzumab)           0   \n",
      "46                           (Lapatinib, Trastuzumab)           0   \n",
      "47                           (Letrozole, Palbociclib)           0   \n",
      "48                       (Lometrexol, Mercaptopurine)           0   \n",
      "49                           (Neratinib, Vemurafenib)           1   \n",
      "50                                (Nutlin-3, PLX4720)           1   \n",
      "51                           (Olaparib, Temozolomide)           0   \n",
      "52                  (PLX4720, Pictilisib Bismesylate)           1   \n",
      "53                           (Panitumumab, Sorafenib)           1   \n",
      "54                          (Panitumumab, Trametinib)           1   \n",
      "55                         (Panitumumab, Vemurafenib)           2   \n",
      "56                          (Pertuzumab, Vemurafenib)           1   \n",
      "57                          (Trametinib, Vemurafenib)           1   \n",
      "\n",
      "    general_count  not_braf_count  \n",
      "0               2               2  \n",
      "1               1               1  \n",
      "2               2               2  \n",
      "3               2               2  \n",
      "4               2               0  \n",
      "5               1               0  \n",
      "6               1               0  \n",
      "7               1               0  \n",
      "8               2               0  \n",
      "9               1               0  \n",
      "10              1               1  \n",
      "11              1               1  \n",
      "12              1               1  \n",
      "13              1               1  \n",
      "14              1               1  \n",
      "15              1               1  \n",
      "16              2               0  \n",
      "17              2               2  \n",
      "18              1               0  \n",
      "19             14              12  \n",
      "20              4               2  \n",
      "21              1               0  \n",
      "22              1               1  \n",
      "23              1               1  \n",
      "24              1               1  \n",
      "25              2               0  \n",
      "26              1               1  \n",
      "27              1               0  \n",
      "28              1               0  \n",
      "29             24               0  \n",
      "30              1               0  \n",
      "31              1               0  \n",
      "32              9               8  \n",
      "33              1               1  \n",
      "34              1               1  \n",
      "35              2               2  \n",
      "36              1               1  \n",
      "37              1               1  \n",
      "38              1               0  \n",
      "39              1               1  \n",
      "40              1               1  \n",
      "41              1               0  \n",
      "42              2               0  \n",
      "43              1               0  \n",
      "44              1               0  \n",
      "45              4               4  \n",
      "46              2               2  \n",
      "47              1               1  \n",
      "48              1               1  \n",
      "49              1               0  \n",
      "50              1               0  \n",
      "51              1               1  \n",
      "52              1               0  \n",
      "53              1               0  \n",
      "54              1               0  \n",
      "55              2               0  \n",
      "56              1               0  \n",
      "57              1               0  \n"
     ]
    }
   ],
   "source": [
    "import pandas as pd\n",
    "\n",
    "# Assuming 'braf_df', 'df', and 'not_braf_df' are your DataFrames\n",
    "\n",
    "# Perform value_counts on the 'therapeutic_label' column\n",
    "braf_counts = braf_df['combination_components'].value_counts().rename_axis('combination_components').reset_index(name='braf_count')\n",
    "df_counts = df['combination_components'].value_counts().rename_axis('combination_components').reset_index(name='general_count')\n",
    "not_braf_counts = not_braf_df['combination_components'].value_counts().rename_axis('combination_components').reset_index(name='not_braf_count')\n",
    "\n",
    "# Combine the three DataFrames into one\n",
    "combined_df = pd.merge(pd.merge(braf_counts, df_counts, on='combination_components', how='outer'), not_braf_counts, on='combination_components', how='outer').fillna(0)\n",
    "\n",
    "# Convert counts to integers (optional, in case NaNs were filled)\n",
    "combined_df[['braf_count', 'general_count', 'not_braf_count']] = combined_df[['braf_count', 'general_count', 'not_braf_count']].astype(int)\n",
    "\n",
    "# Display the combined DataFrame\n",
    "print(combined_df)\n"
   ]
  },
  {
   "cell_type": "code",
   "execution_count": 160,
   "metadata": {},
   "outputs": [
    {
     "data": {
      "text/html": [
       "<div>\n",
       "<style scoped>\n",
       "    .dataframe tbody tr th:only-of-type {\n",
       "        vertical-align: middle;\n",
       "    }\n",
       "\n",
       "    .dataframe tbody tr th {\n",
       "        vertical-align: top;\n",
       "    }\n",
       "\n",
       "    .dataframe thead th {\n",
       "        text-align: right;\n",
       "    }\n",
       "</style>\n",
       "<table border=\"1\" class=\"dataframe\">\n",
       "  <thead>\n",
       "    <tr style=\"text-align: right;\">\n",
       "      <th></th>\n",
       "      <th>combination_components</th>\n",
       "      <th>braf_count</th>\n",
       "      <th>general_count</th>\n",
       "      <th>not_braf_count</th>\n",
       "      <th>total_count</th>\n",
       "      <th>Labels</th>\n",
       "    </tr>\n",
       "  </thead>\n",
       "  <tbody>\n",
       "    <tr>\n",
       "      <th>29</th>\n",
       "      <td>(Dabrafenib, Trametinib)</td>\n",
       "      <td>24</td>\n",
       "      <td>24</td>\n",
       "      <td>0</td>\n",
       "      <td>48</td>\n",
       "      <td>None</td>\n",
       "    </tr>\n",
       "    <tr>\n",
       "      <th>19</th>\n",
       "      <td>(Cetuximab, Irinotecan)</td>\n",
       "      <td>2</td>\n",
       "      <td>14</td>\n",
       "      <td>12</td>\n",
       "      <td>28</td>\n",
       "      <td>None</td>\n",
       "    </tr>\n",
       "    <tr>\n",
       "      <th>32</th>\n",
       "      <td>(Dactolisib, Selumetinib)</td>\n",
       "      <td>1</td>\n",
       "      <td>9</td>\n",
       "      <td>8</td>\n",
       "      <td>18</td>\n",
       "      <td>None</td>\n",
       "    </tr>\n",
       "    <tr>\n",
       "      <th>45</th>\n",
       "      <td>(Lapatinib, Neratinib, Trastuzumab)</td>\n",
       "      <td>0</td>\n",
       "      <td>4</td>\n",
       "      <td>4</td>\n",
       "      <td>8</td>\n",
       "      <td>None</td>\n",
       "    </tr>\n",
       "    <tr>\n",
       "      <th>20</th>\n",
       "      <td>(Cetuximab, Irinotecan, Vemurafenib)</td>\n",
       "      <td>2</td>\n",
       "      <td>4</td>\n",
       "      <td>2</td>\n",
       "      <td>8</td>\n",
       "      <td>('Dabrafenib', 'Trametinib')</td>\n",
       "    </tr>\n",
       "    <tr>\n",
       "      <th>16</th>\n",
       "      <td>(Cetuximab, Encorafenib)</td>\n",
       "      <td>2</td>\n",
       "      <td>2</td>\n",
       "      <td>0</td>\n",
       "      <td>4</td>\n",
       "      <td>None</td>\n",
       "    </tr>\n",
       "    <tr>\n",
       "      <th>55</th>\n",
       "      <td>(Panitumumab, Vemurafenib)</td>\n",
       "      <td>2</td>\n",
       "      <td>2</td>\n",
       "      <td>0</td>\n",
       "      <td>4</td>\n",
       "      <td>('Dabrafenib', 'Trametinib')</td>\n",
       "    </tr>\n",
       "    <tr>\n",
       "      <th>46</th>\n",
       "      <td>(Lapatinib, Trastuzumab)</td>\n",
       "      <td>0</td>\n",
       "      <td>2</td>\n",
       "      <td>2</td>\n",
       "      <td>4</td>\n",
       "      <td>None</td>\n",
       "    </tr>\n",
       "    <tr>\n",
       "      <th>42</th>\n",
       "      <td>(Ipilimumab, Vemurafenib)</td>\n",
       "      <td>2</td>\n",
       "      <td>2</td>\n",
       "      <td>0</td>\n",
       "      <td>4</td>\n",
       "      <td>None</td>\n",
       "    </tr>\n",
       "    <tr>\n",
       "      <th>35</th>\n",
       "      <td>(Docetaxel, Selumetinib)</td>\n",
       "      <td>0</td>\n",
       "      <td>2</td>\n",
       "      <td>2</td>\n",
       "      <td>4</td>\n",
       "      <td>None</td>\n",
       "    </tr>\n",
       "    <tr>\n",
       "      <th>25</th>\n",
       "      <td>(Cobimetinib, Vemurafenib)</td>\n",
       "      <td>2</td>\n",
       "      <td>2</td>\n",
       "      <td>0</td>\n",
       "      <td>4</td>\n",
       "      <td>None</td>\n",
       "    </tr>\n",
       "    <tr>\n",
       "      <th>17</th>\n",
       "      <td>(Cetuximab, Fluorouracil, Oxaliplatin)</td>\n",
       "      <td>0</td>\n",
       "      <td>2</td>\n",
       "      <td>2</td>\n",
       "      <td>4</td>\n",
       "      <td>('Dabrafenib', 'Trametinib')</td>\n",
       "    </tr>\n",
       "    <tr>\n",
       "      <th>0</th>\n",
       "      <td>(Adagrasib, Cetuximab)</td>\n",
       "      <td>0</td>\n",
       "      <td>2</td>\n",
       "      <td>2</td>\n",
       "      <td>4</td>\n",
       "      <td>None</td>\n",
       "    </tr>\n",
       "    <tr>\n",
       "      <th>8</th>\n",
       "      <td>(Binimetinib, Cetuximab, Encorafenib)</td>\n",
       "      <td>2</td>\n",
       "      <td>2</td>\n",
       "      <td>0</td>\n",
       "      <td>4</td>\n",
       "      <td>('Cetuximab', 'Encorafenib')</td>\n",
       "    </tr>\n",
       "    <tr>\n",
       "      <th>2</th>\n",
       "      <td>(Alpelisib, Fulvestrant)</td>\n",
       "      <td>0</td>\n",
       "      <td>2</td>\n",
       "      <td>2</td>\n",
       "      <td>4</td>\n",
       "      <td>None</td>\n",
       "    </tr>\n",
       "    <tr>\n",
       "      <th>4</th>\n",
       "      <td>(BRAF Inhibitor, Mitogen-Activated Protein Kin...</td>\n",
       "      <td>2</td>\n",
       "      <td>2</td>\n",
       "      <td>0</td>\n",
       "      <td>4</td>\n",
       "      <td>None</td>\n",
       "    </tr>\n",
       "    <tr>\n",
       "      <th>3</th>\n",
       "      <td>(Azacitidine, Ivosidenib)</td>\n",
       "      <td>0</td>\n",
       "      <td>2</td>\n",
       "      <td>2</td>\n",
       "      <td>4</td>\n",
       "      <td>None</td>\n",
       "    </tr>\n",
       "    <tr>\n",
       "      <th>13</th>\n",
       "      <td>(Capivasertib, Trastuzumab)</td>\n",
       "      <td>0</td>\n",
       "      <td>1</td>\n",
       "      <td>1</td>\n",
       "      <td>2</td>\n",
       "      <td>None</td>\n",
       "    </tr>\n",
       "    <tr>\n",
       "      <th>38</th>\n",
       "      <td>(Erlotinib, Vemurafenib)</td>\n",
       "      <td>1</td>\n",
       "      <td>1</td>\n",
       "      <td>0</td>\n",
       "      <td>2</td>\n",
       "      <td>None</td>\n",
       "    </tr>\n",
       "    <tr>\n",
       "      <th>39</th>\n",
       "      <td>(Everolimus, Fulvestrant)</td>\n",
       "      <td>0</td>\n",
       "      <td>1</td>\n",
       "      <td>1</td>\n",
       "      <td>2</td>\n",
       "      <td>None</td>\n",
       "    </tr>\n",
       "    <tr>\n",
       "      <th>40</th>\n",
       "      <td>(Fluorouracil, Leucovorin, Trastuzumab)</td>\n",
       "      <td>0</td>\n",
       "      <td>1</td>\n",
       "      <td>1</td>\n",
       "      <td>2</td>\n",
       "      <td>None</td>\n",
       "    </tr>\n",
       "    <tr>\n",
       "      <th>41</th>\n",
       "      <td>(Interferon-alpha, Ixazomib)</td>\n",
       "      <td>1</td>\n",
       "      <td>1</td>\n",
       "      <td>0</td>\n",
       "      <td>2</td>\n",
       "      <td>None</td>\n",
       "    </tr>\n",
       "    <tr>\n",
       "      <th>5</th>\n",
       "      <td>(Bevacizumab, Capecitabine, Oxaliplatin)</td>\n",
       "      <td>1</td>\n",
       "      <td>1</td>\n",
       "      <td>0</td>\n",
       "      <td>2</td>\n",
       "      <td>None</td>\n",
       "    </tr>\n",
       "    <tr>\n",
       "      <th>43</th>\n",
       "      <td>(Irinotecan, Panitumumab)</td>\n",
       "      <td>1</td>\n",
       "      <td>1</td>\n",
       "      <td>0</td>\n",
       "      <td>2</td>\n",
       "      <td>('Cobimetinib', 'Vemurafenib')</td>\n",
       "    </tr>\n",
       "    <tr>\n",
       "      <th>44</th>\n",
       "      <td>(Irinotecan, Panitumumab, Vemurafenib)</td>\n",
       "      <td>1</td>\n",
       "      <td>1</td>\n",
       "      <td>0</td>\n",
       "      <td>2</td>\n",
       "      <td>None</td>\n",
       "    </tr>\n",
       "    <tr>\n",
       "      <th>47</th>\n",
       "      <td>(Letrozole, Palbociclib)</td>\n",
       "      <td>0</td>\n",
       "      <td>1</td>\n",
       "      <td>1</td>\n",
       "      <td>2</td>\n",
       "      <td>None</td>\n",
       "    </tr>\n",
       "    <tr>\n",
       "      <th>36</th>\n",
       "      <td>(Durvalumab, Osimertinib)</td>\n",
       "      <td>0</td>\n",
       "      <td>1</td>\n",
       "      <td>1</td>\n",
       "      <td>2</td>\n",
       "      <td>None</td>\n",
       "    </tr>\n",
       "    <tr>\n",
       "      <th>48</th>\n",
       "      <td>(Lometrexol, Mercaptopurine)</td>\n",
       "      <td>0</td>\n",
       "      <td>1</td>\n",
       "      <td>1</td>\n",
       "      <td>2</td>\n",
       "      <td>None</td>\n",
       "    </tr>\n",
       "    <tr>\n",
       "      <th>49</th>\n",
       "      <td>(Neratinib, Vemurafenib)</td>\n",
       "      <td>1</td>\n",
       "      <td>1</td>\n",
       "      <td>0</td>\n",
       "      <td>2</td>\n",
       "      <td>('Cetuximab', 'Irinotecan', 'Vemurafenib')</td>\n",
       "    </tr>\n",
       "    <tr>\n",
       "      <th>50</th>\n",
       "      <td>(Nutlin-3, PLX4720)</td>\n",
       "      <td>1</td>\n",
       "      <td>1</td>\n",
       "      <td>0</td>\n",
       "      <td>2</td>\n",
       "      <td>None</td>\n",
       "    </tr>\n",
       "    <tr>\n",
       "      <th>51</th>\n",
       "      <td>(Olaparib, Temozolomide)</td>\n",
       "      <td>0</td>\n",
       "      <td>1</td>\n",
       "      <td>1</td>\n",
       "      <td>2</td>\n",
       "      <td>None</td>\n",
       "    </tr>\n",
       "    <tr>\n",
       "      <th>52</th>\n",
       "      <td>(PLX4720, Pictilisib Bismesylate)</td>\n",
       "      <td>1</td>\n",
       "      <td>1</td>\n",
       "      <td>0</td>\n",
       "      <td>2</td>\n",
       "      <td>('Cisplatin', 'Fluorouracil')</td>\n",
       "    </tr>\n",
       "    <tr>\n",
       "      <th>53</th>\n",
       "      <td>(Panitumumab, Sorafenib)</td>\n",
       "      <td>1</td>\n",
       "      <td>1</td>\n",
       "      <td>0</td>\n",
       "      <td>2</td>\n",
       "      <td>None</td>\n",
       "    </tr>\n",
       "    <tr>\n",
       "      <th>54</th>\n",
       "      <td>(Panitumumab, Trametinib)</td>\n",
       "      <td>1</td>\n",
       "      <td>1</td>\n",
       "      <td>0</td>\n",
       "      <td>2</td>\n",
       "      <td>None</td>\n",
       "    </tr>\n",
       "    <tr>\n",
       "      <th>56</th>\n",
       "      <td>(Pertuzumab, Vemurafenib)</td>\n",
       "      <td>1</td>\n",
       "      <td>1</td>\n",
       "      <td>0</td>\n",
       "      <td>2</td>\n",
       "      <td>None</td>\n",
       "    </tr>\n",
       "    <tr>\n",
       "      <th>37</th>\n",
       "      <td>(Erlotinib, Pemetrexed)</td>\n",
       "      <td>0</td>\n",
       "      <td>1</td>\n",
       "      <td>1</td>\n",
       "      <td>2</td>\n",
       "      <td>None</td>\n",
       "    </tr>\n",
       "    <tr>\n",
       "      <th>6</th>\n",
       "      <td>(Bevacizumab, Capecitabine, Vemurafenib)</td>\n",
       "      <td>1</td>\n",
       "      <td>1</td>\n",
       "      <td>0</td>\n",
       "      <td>2</td>\n",
       "      <td>('Alpelisib', 'Fulvestrant')</td>\n",
       "    </tr>\n",
       "    <tr>\n",
       "      <th>14</th>\n",
       "      <td>(Carboplatin, Paclitaxel)</td>\n",
       "      <td>0</td>\n",
       "      <td>1</td>\n",
       "      <td>1</td>\n",
       "      <td>2</td>\n",
       "      <td>None</td>\n",
       "    </tr>\n",
       "    <tr>\n",
       "      <th>23</th>\n",
       "      <td>(Cisplatin, Fluorouracil)</td>\n",
       "      <td>0</td>\n",
       "      <td>1</td>\n",
       "      <td>1</td>\n",
       "      <td>2</td>\n",
       "      <td>None</td>\n",
       "    </tr>\n",
       "    <tr>\n",
       "      <th>15</th>\n",
       "      <td>(Cetuximab, Dactolisib)</td>\n",
       "      <td>0</td>\n",
       "      <td>1</td>\n",
       "      <td>1</td>\n",
       "      <td>2</td>\n",
       "      <td>None</td>\n",
       "    </tr>\n",
       "    <tr>\n",
       "      <th>12</th>\n",
       "      <td>(Capivasertib, PI3K/BET Inhibitor LY294002)</td>\n",
       "      <td>0</td>\n",
       "      <td>1</td>\n",
       "      <td>1</td>\n",
       "      <td>2</td>\n",
       "      <td>None</td>\n",
       "    </tr>\n",
       "    <tr>\n",
       "      <th>11</th>\n",
       "      <td>(Capivasertib, Lapatinib)</td>\n",
       "      <td>0</td>\n",
       "      <td>1</td>\n",
       "      <td>1</td>\n",
       "      <td>2</td>\n",
       "      <td>('Alpelisib', 'Fulvestrant')</td>\n",
       "    </tr>\n",
       "    <tr>\n",
       "      <th>18</th>\n",
       "      <td>(Cetuximab, Gefitinib, Vemurafenib)</td>\n",
       "      <td>1</td>\n",
       "      <td>1</td>\n",
       "      <td>0</td>\n",
       "      <td>2</td>\n",
       "      <td>None</td>\n",
       "    </tr>\n",
       "    <tr>\n",
       "      <th>10</th>\n",
       "      <td>(Binimetinib, Everolimus)</td>\n",
       "      <td>0</td>\n",
       "      <td>1</td>\n",
       "      <td>1</td>\n",
       "      <td>2</td>\n",
       "      <td>('Adagrasib', 'Cetuximab')</td>\n",
       "    </tr>\n",
       "    <tr>\n",
       "      <th>9</th>\n",
       "      <td>(Binimetinib, Encorafenib)</td>\n",
       "      <td>1</td>\n",
       "      <td>1</td>\n",
       "      <td>0</td>\n",
       "      <td>2</td>\n",
       "      <td>('Dabrafenib', 'Trametinib')</td>\n",
       "    </tr>\n",
       "    <tr>\n",
       "      <th>21</th>\n",
       "      <td>(Cetuximab, Vemurafenib)</td>\n",
       "      <td>1</td>\n",
       "      <td>1</td>\n",
       "      <td>0</td>\n",
       "      <td>2</td>\n",
       "      <td>('Dabrafenib', 'Trametinib')</td>\n",
       "    </tr>\n",
       "    <tr>\n",
       "      <th>22</th>\n",
       "      <td>(Checkpoint Kinase Inhibitor AZD7762, Irinotecan)</td>\n",
       "      <td>0</td>\n",
       "      <td>1</td>\n",
       "      <td>1</td>\n",
       "      <td>2</td>\n",
       "      <td>('Binimetinib', 'Cetuximab', 'Encorafenib')</td>\n",
       "    </tr>\n",
       "    <tr>\n",
       "      <th>24</th>\n",
       "      <td>(Cisplatin, Pictilisib)</td>\n",
       "      <td>0</td>\n",
       "      <td>1</td>\n",
       "      <td>1</td>\n",
       "      <td>2</td>\n",
       "      <td>None</td>\n",
       "    </tr>\n",
       "    <tr>\n",
       "      <th>34</th>\n",
       "      <td>(Daunorubicin, Sunitinib)</td>\n",
       "      <td>0</td>\n",
       "      <td>1</td>\n",
       "      <td>1</td>\n",
       "      <td>2</td>\n",
       "      <td>None</td>\n",
       "    </tr>\n",
       "    <tr>\n",
       "      <th>26</th>\n",
       "      <td>(Cytarabine, Sunitinib)</td>\n",
       "      <td>0</td>\n",
       "      <td>1</td>\n",
       "      <td>1</td>\n",
       "      <td>2</td>\n",
       "      <td>None</td>\n",
       "    </tr>\n",
       "    <tr>\n",
       "      <th>27</th>\n",
       "      <td>(Dabrafenib, Omipalisib)</td>\n",
       "      <td>1</td>\n",
       "      <td>1</td>\n",
       "      <td>0</td>\n",
       "      <td>2</td>\n",
       "      <td>None</td>\n",
       "    </tr>\n",
       "    <tr>\n",
       "      <th>28</th>\n",
       "      <td>(Dabrafenib, Panitumumab, Trametinib)</td>\n",
       "      <td>1</td>\n",
       "      <td>1</td>\n",
       "      <td>0</td>\n",
       "      <td>2</td>\n",
       "      <td>None</td>\n",
       "    </tr>\n",
       "    <tr>\n",
       "      <th>1</th>\n",
       "      <td>(Akt Inhibitor MK2206, Vemurafenib)</td>\n",
       "      <td>0</td>\n",
       "      <td>1</td>\n",
       "      <td>1</td>\n",
       "      <td>2</td>\n",
       "      <td>None</td>\n",
       "    </tr>\n",
       "    <tr>\n",
       "      <th>30</th>\n",
       "      <td>(Dabrafenib, Trametinib, Vemurafenib)</td>\n",
       "      <td>1</td>\n",
       "      <td>1</td>\n",
       "      <td>0</td>\n",
       "      <td>2</td>\n",
       "      <td>None</td>\n",
       "    </tr>\n",
       "    <tr>\n",
       "      <th>31</th>\n",
       "      <td>(Dactolisib, GDC-0879)</td>\n",
       "      <td>1</td>\n",
       "      <td>1</td>\n",
       "      <td>0</td>\n",
       "      <td>2</td>\n",
       "      <td>None</td>\n",
       "    </tr>\n",
       "    <tr>\n",
       "      <th>7</th>\n",
       "      <td>(Bevacizumab, Dabrafenib)</td>\n",
       "      <td>1</td>\n",
       "      <td>1</td>\n",
       "      <td>0</td>\n",
       "      <td>2</td>\n",
       "      <td>None</td>\n",
       "    </tr>\n",
       "    <tr>\n",
       "      <th>33</th>\n",
       "      <td>(Dasatinib, Erlotinib)</td>\n",
       "      <td>0</td>\n",
       "      <td>1</td>\n",
       "      <td>1</td>\n",
       "      <td>2</td>\n",
       "      <td>None</td>\n",
       "    </tr>\n",
       "    <tr>\n",
       "      <th>57</th>\n",
       "      <td>(Trametinib, Vemurafenib)</td>\n",
       "      <td>1</td>\n",
       "      <td>1</td>\n",
       "      <td>0</td>\n",
       "      <td>2</td>\n",
       "      <td>('Dabrafenib', 'Panitumumab', 'Trametinib')</td>\n",
       "    </tr>\n",
       "  </tbody>\n",
       "</table>\n",
       "</div>"
      ],
      "text/plain": [
       "                               combination_components  braf_count  \\\n",
       "29                           (Dabrafenib, Trametinib)          24   \n",
       "19                            (Cetuximab, Irinotecan)           2   \n",
       "32                          (Dactolisib, Selumetinib)           1   \n",
       "45                (Lapatinib, Neratinib, Trastuzumab)           0   \n",
       "20               (Cetuximab, Irinotecan, Vemurafenib)           2   \n",
       "16                           (Cetuximab, Encorafenib)           2   \n",
       "55                         (Panitumumab, Vemurafenib)           2   \n",
       "46                           (Lapatinib, Trastuzumab)           0   \n",
       "42                          (Ipilimumab, Vemurafenib)           2   \n",
       "35                           (Docetaxel, Selumetinib)           0   \n",
       "25                         (Cobimetinib, Vemurafenib)           2   \n",
       "17             (Cetuximab, Fluorouracil, Oxaliplatin)           0   \n",
       "0                              (Adagrasib, Cetuximab)           0   \n",
       "8               (Binimetinib, Cetuximab, Encorafenib)           2   \n",
       "2                            (Alpelisib, Fulvestrant)           0   \n",
       "4   (BRAF Inhibitor, Mitogen-Activated Protein Kin...           2   \n",
       "3                           (Azacitidine, Ivosidenib)           0   \n",
       "13                        (Capivasertib, Trastuzumab)           0   \n",
       "38                           (Erlotinib, Vemurafenib)           1   \n",
       "39                          (Everolimus, Fulvestrant)           0   \n",
       "40            (Fluorouracil, Leucovorin, Trastuzumab)           0   \n",
       "41                       (Interferon-alpha, Ixazomib)           1   \n",
       "5            (Bevacizumab, Capecitabine, Oxaliplatin)           1   \n",
       "43                          (Irinotecan, Panitumumab)           1   \n",
       "44             (Irinotecan, Panitumumab, Vemurafenib)           1   \n",
       "47                           (Letrozole, Palbociclib)           0   \n",
       "36                          (Durvalumab, Osimertinib)           0   \n",
       "48                       (Lometrexol, Mercaptopurine)           0   \n",
       "49                           (Neratinib, Vemurafenib)           1   \n",
       "50                                (Nutlin-3, PLX4720)           1   \n",
       "51                           (Olaparib, Temozolomide)           0   \n",
       "52                  (PLX4720, Pictilisib Bismesylate)           1   \n",
       "53                           (Panitumumab, Sorafenib)           1   \n",
       "54                          (Panitumumab, Trametinib)           1   \n",
       "56                          (Pertuzumab, Vemurafenib)           1   \n",
       "37                            (Erlotinib, Pemetrexed)           0   \n",
       "6            (Bevacizumab, Capecitabine, Vemurafenib)           1   \n",
       "14                          (Carboplatin, Paclitaxel)           0   \n",
       "23                          (Cisplatin, Fluorouracil)           0   \n",
       "15                            (Cetuximab, Dactolisib)           0   \n",
       "12        (Capivasertib, PI3K/BET Inhibitor LY294002)           0   \n",
       "11                          (Capivasertib, Lapatinib)           0   \n",
       "18                (Cetuximab, Gefitinib, Vemurafenib)           1   \n",
       "10                          (Binimetinib, Everolimus)           0   \n",
       "9                          (Binimetinib, Encorafenib)           1   \n",
       "21                           (Cetuximab, Vemurafenib)           1   \n",
       "22  (Checkpoint Kinase Inhibitor AZD7762, Irinotecan)           0   \n",
       "24                            (Cisplatin, Pictilisib)           0   \n",
       "34                          (Daunorubicin, Sunitinib)           0   \n",
       "26                            (Cytarabine, Sunitinib)           0   \n",
       "27                           (Dabrafenib, Omipalisib)           1   \n",
       "28              (Dabrafenib, Panitumumab, Trametinib)           1   \n",
       "1                 (Akt Inhibitor MK2206, Vemurafenib)           0   \n",
       "30              (Dabrafenib, Trametinib, Vemurafenib)           1   \n",
       "31                             (Dactolisib, GDC-0879)           1   \n",
       "7                           (Bevacizumab, Dabrafenib)           1   \n",
       "33                             (Dasatinib, Erlotinib)           0   \n",
       "57                          (Trametinib, Vemurafenib)           1   \n",
       "\n",
       "    general_count  not_braf_count  total_count  \\\n",
       "29             24               0           48   \n",
       "19             14              12           28   \n",
       "32              9               8           18   \n",
       "45              4               4            8   \n",
       "20              4               2            8   \n",
       "16              2               0            4   \n",
       "55              2               0            4   \n",
       "46              2               2            4   \n",
       "42              2               0            4   \n",
       "35              2               2            4   \n",
       "25              2               0            4   \n",
       "17              2               2            4   \n",
       "0               2               2            4   \n",
       "8               2               0            4   \n",
       "2               2               2            4   \n",
       "4               2               0            4   \n",
       "3               2               2            4   \n",
       "13              1               1            2   \n",
       "38              1               0            2   \n",
       "39              1               1            2   \n",
       "40              1               1            2   \n",
       "41              1               0            2   \n",
       "5               1               0            2   \n",
       "43              1               0            2   \n",
       "44              1               0            2   \n",
       "47              1               1            2   \n",
       "36              1               1            2   \n",
       "48              1               1            2   \n",
       "49              1               0            2   \n",
       "50              1               0            2   \n",
       "51              1               1            2   \n",
       "52              1               0            2   \n",
       "53              1               0            2   \n",
       "54              1               0            2   \n",
       "56              1               0            2   \n",
       "37              1               1            2   \n",
       "6               1               0            2   \n",
       "14              1               1            2   \n",
       "23              1               1            2   \n",
       "15              1               1            2   \n",
       "12              1               1            2   \n",
       "11              1               1            2   \n",
       "18              1               0            2   \n",
       "10              1               1            2   \n",
       "9               1               0            2   \n",
       "21              1               0            2   \n",
       "22              1               1            2   \n",
       "24              1               1            2   \n",
       "34              1               1            2   \n",
       "26              1               1            2   \n",
       "27              1               0            2   \n",
       "28              1               0            2   \n",
       "1               1               1            2   \n",
       "30              1               0            2   \n",
       "31              1               0            2   \n",
       "7               1               0            2   \n",
       "33              1               1            2   \n",
       "57              1               0            2   \n",
       "\n",
       "                                         Labels  \n",
       "29                                         None  \n",
       "19                                         None  \n",
       "32                                         None  \n",
       "45                                         None  \n",
       "20                 ('Dabrafenib', 'Trametinib')  \n",
       "16                                         None  \n",
       "55                 ('Dabrafenib', 'Trametinib')  \n",
       "46                                         None  \n",
       "42                                         None  \n",
       "35                                         None  \n",
       "25                                         None  \n",
       "17                 ('Dabrafenib', 'Trametinib')  \n",
       "0                                          None  \n",
       "8                  ('Cetuximab', 'Encorafenib')  \n",
       "2                                          None  \n",
       "4                                          None  \n",
       "3                                          None  \n",
       "13                                         None  \n",
       "38                                         None  \n",
       "39                                         None  \n",
       "40                                         None  \n",
       "41                                         None  \n",
       "5                                          None  \n",
       "43               ('Cobimetinib', 'Vemurafenib')  \n",
       "44                                         None  \n",
       "47                                         None  \n",
       "36                                         None  \n",
       "48                                         None  \n",
       "49   ('Cetuximab', 'Irinotecan', 'Vemurafenib')  \n",
       "50                                         None  \n",
       "51                                         None  \n",
       "52                ('Cisplatin', 'Fluorouracil')  \n",
       "53                                         None  \n",
       "54                                         None  \n",
       "56                                         None  \n",
       "37                                         None  \n",
       "6                  ('Alpelisib', 'Fulvestrant')  \n",
       "14                                         None  \n",
       "23                                         None  \n",
       "15                                         None  \n",
       "12                                         None  \n",
       "11                 ('Alpelisib', 'Fulvestrant')  \n",
       "18                                         None  \n",
       "10                   ('Adagrasib', 'Cetuximab')  \n",
       "9                  ('Dabrafenib', 'Trametinib')  \n",
       "21                 ('Dabrafenib', 'Trametinib')  \n",
       "22  ('Binimetinib', 'Cetuximab', 'Encorafenib')  \n",
       "24                                         None  \n",
       "34                                         None  \n",
       "26                                         None  \n",
       "27                                         None  \n",
       "28                                         None  \n",
       "1                                          None  \n",
       "30                                         None  \n",
       "31                                         None  \n",
       "7                                          None  \n",
       "33                                         None  \n",
       "57  ('Dabrafenib', 'Panitumumab', 'Trametinib')  "
      ]
     },
     "execution_count": 160,
     "metadata": {},
     "output_type": "execute_result"
    }
   ],
   "source": [
    "sorted_df"
   ]
  },
  {
   "cell_type": "code",
   "execution_count": 163,
   "metadata": {},
   "outputs": [
    {
     "data": {
      "application/vnd.plotly.v1+json": {
       "config": {
        "plotlyServerURL": "https://plot.ly"
       },
       "data": [
        {
         "alignmentgroup": "True",
         "hovertemplate": "Dataset=braf_count<br>Labels=%{x}<br>Count=%{y}<extra></extra>",
         "legendgroup": "braf_count",
         "marker": {
          "color": "#636efa",
          "pattern": {
           "shape": ""
          }
         },
         "name": "braf_count",
         "offsetgroup": "braf_count",
         "orientation": "v",
         "showlegend": true,
         "textposition": "auto",
         "type": "bar",
         "x": [
          "('Dabrafenib', 'Trametinib')",
          "('Cetuximab', 'Irinotecan')",
          "('Dactolisib', 'Selumetinib')",
          "('Lapatinib', 'Neratinib', 'Trastuzumab')",
          "('Cetuximab', 'Irinotecan', 'Vemurafenib')",
          "('Cetuximab', 'Encorafenib')",
          "('Panitumumab', 'Vemurafenib')",
          "('Lapatinib', 'Trastuzumab')",
          "('Ipilimumab', 'Vemurafenib')",
          "('Docetaxel', 'Selumetinib')",
          "('Cobimetinib', 'Vemurafenib')",
          "('Cetuximab', 'Fluorouracil', 'Oxaliplatin')",
          "('Adagrasib', 'Cetuximab')",
          "('Binimetinib', 'Cetuximab', 'Encorafenib')",
          "('Alpelisib', 'Fulvestrant')",
          "('BRAF Inhibitor', 'Mitogen-Activated Protein Kinase Kinase Inhibitor')",
          "('Azacitidine', 'Ivosidenib')",
          "('Capivasertib', 'Trastuzumab')",
          "('Erlotinib', 'Vemurafenib')",
          "('Everolimus', 'Fulvestrant')",
          "('Fluorouracil', 'Leucovorin', 'Trastuzumab')",
          "('Interferon-alpha', 'Ixazomib')",
          "('Bevacizumab', 'Capecitabine', 'Oxaliplatin')",
          "('Irinotecan', 'Panitumumab')",
          "('Irinotecan', 'Panitumumab', 'Vemurafenib')",
          "('Letrozole', 'Palbociclib')",
          "('Durvalumab', 'Osimertinib')",
          "('Lometrexol', 'Mercaptopurine')",
          "('Neratinib', 'Vemurafenib')",
          "('Nutlin-3', 'PLX4720')",
          "('Olaparib', 'Temozolomide')",
          "('PLX4720', 'Pictilisib Bismesylate')",
          "('Panitumumab', 'Sorafenib')",
          "('Panitumumab', 'Trametinib')",
          "('Pertuzumab', 'Vemurafenib')",
          "('Erlotinib', 'Pemetrexed')",
          "('Bevacizumab', 'Capecitabine', 'Vemurafenib')",
          "('Carboplatin', 'Paclitaxel')",
          "('Cisplatin', 'Fluorouracil')",
          "('Cetuximab', 'Dactolisib')",
          "('Capivasertib', 'PI3K/BET Inhibitor LY294002')",
          "('Capivasertib', 'Lapatinib')",
          "('Cetuximab', 'Gefitinib', 'Vemurafenib')",
          "('Binimetinib', 'Everolimus')",
          "('Binimetinib', 'Encorafenib')",
          "('Cetuximab', 'Vemurafenib')",
          "('Checkpoint Kinase Inhibitor AZD7762', 'Irinotecan')",
          "('Cisplatin', 'Pictilisib')",
          "('Daunorubicin', 'Sunitinib')",
          "('Cytarabine', 'Sunitinib')",
          "('Dabrafenib', 'Omipalisib')",
          "('Dabrafenib', 'Panitumumab', 'Trametinib')",
          "('Akt Inhibitor MK2206', 'Vemurafenib')",
          "('Dabrafenib', 'Trametinib', 'Vemurafenib')",
          "('Dactolisib', 'GDC-0879')",
          "('Bevacizumab', 'Dabrafenib')",
          "('Dasatinib', 'Erlotinib')",
          "('Trametinib', 'Vemurafenib')"
         ],
         "xaxis": "x",
         "y": [
          24,
          2,
          1,
          0,
          2,
          2,
          2,
          0,
          2,
          0,
          2,
          0,
          0,
          2,
          0,
          2,
          0,
          0,
          1,
          0,
          0,
          1,
          1,
          1,
          1,
          0,
          0,
          0,
          1,
          1,
          0,
          1,
          1,
          1,
          1,
          0,
          1,
          0,
          0,
          0,
          0,
          0,
          1,
          0,
          1,
          1,
          0,
          0,
          0,
          0,
          1,
          1,
          0,
          1,
          1,
          1,
          0,
          1
         ],
         "yaxis": "y"
        },
        {
         "alignmentgroup": "True",
         "hovertemplate": "Dataset=not_braf_count<br>Labels=%{x}<br>Count=%{y}<extra></extra>",
         "legendgroup": "not_braf_count",
         "marker": {
          "color": "#EF553B",
          "pattern": {
           "shape": ""
          }
         },
         "name": "not_braf_count",
         "offsetgroup": "not_braf_count",
         "orientation": "v",
         "showlegend": true,
         "textposition": "auto",
         "type": "bar",
         "x": [
          "('Dabrafenib', 'Trametinib')",
          "('Cetuximab', 'Irinotecan')",
          "('Dactolisib', 'Selumetinib')",
          "('Lapatinib', 'Neratinib', 'Trastuzumab')",
          "('Cetuximab', 'Irinotecan', 'Vemurafenib')",
          "('Cetuximab', 'Encorafenib')",
          "('Panitumumab', 'Vemurafenib')",
          "('Lapatinib', 'Trastuzumab')",
          "('Ipilimumab', 'Vemurafenib')",
          "('Docetaxel', 'Selumetinib')",
          "('Cobimetinib', 'Vemurafenib')",
          "('Cetuximab', 'Fluorouracil', 'Oxaliplatin')",
          "('Adagrasib', 'Cetuximab')",
          "('Binimetinib', 'Cetuximab', 'Encorafenib')",
          "('Alpelisib', 'Fulvestrant')",
          "('BRAF Inhibitor', 'Mitogen-Activated Protein Kinase Kinase Inhibitor')",
          "('Azacitidine', 'Ivosidenib')",
          "('Capivasertib', 'Trastuzumab')",
          "('Erlotinib', 'Vemurafenib')",
          "('Everolimus', 'Fulvestrant')",
          "('Fluorouracil', 'Leucovorin', 'Trastuzumab')",
          "('Interferon-alpha', 'Ixazomib')",
          "('Bevacizumab', 'Capecitabine', 'Oxaliplatin')",
          "('Irinotecan', 'Panitumumab')",
          "('Irinotecan', 'Panitumumab', 'Vemurafenib')",
          "('Letrozole', 'Palbociclib')",
          "('Durvalumab', 'Osimertinib')",
          "('Lometrexol', 'Mercaptopurine')",
          "('Neratinib', 'Vemurafenib')",
          "('Nutlin-3', 'PLX4720')",
          "('Olaparib', 'Temozolomide')",
          "('PLX4720', 'Pictilisib Bismesylate')",
          "('Panitumumab', 'Sorafenib')",
          "('Panitumumab', 'Trametinib')",
          "('Pertuzumab', 'Vemurafenib')",
          "('Erlotinib', 'Pemetrexed')",
          "('Bevacizumab', 'Capecitabine', 'Vemurafenib')",
          "('Carboplatin', 'Paclitaxel')",
          "('Cisplatin', 'Fluorouracil')",
          "('Cetuximab', 'Dactolisib')",
          "('Capivasertib', 'PI3K/BET Inhibitor LY294002')",
          "('Capivasertib', 'Lapatinib')",
          "('Cetuximab', 'Gefitinib', 'Vemurafenib')",
          "('Binimetinib', 'Everolimus')",
          "('Binimetinib', 'Encorafenib')",
          "('Cetuximab', 'Vemurafenib')",
          "('Checkpoint Kinase Inhibitor AZD7762', 'Irinotecan')",
          "('Cisplatin', 'Pictilisib')",
          "('Daunorubicin', 'Sunitinib')",
          "('Cytarabine', 'Sunitinib')",
          "('Dabrafenib', 'Omipalisib')",
          "('Dabrafenib', 'Panitumumab', 'Trametinib')",
          "('Akt Inhibitor MK2206', 'Vemurafenib')",
          "('Dabrafenib', 'Trametinib', 'Vemurafenib')",
          "('Dactolisib', 'GDC-0879')",
          "('Bevacizumab', 'Dabrafenib')",
          "('Dasatinib', 'Erlotinib')",
          "('Trametinib', 'Vemurafenib')"
         ],
         "xaxis": "x",
         "y": [
          0,
          12,
          8,
          4,
          2,
          0,
          0,
          2,
          0,
          2,
          0,
          2,
          2,
          0,
          2,
          0,
          2,
          1,
          0,
          1,
          1,
          0,
          0,
          0,
          0,
          1,
          1,
          1,
          0,
          0,
          1,
          0,
          0,
          0,
          0,
          1,
          0,
          1,
          1,
          1,
          1,
          1,
          0,
          1,
          0,
          0,
          1,
          1,
          1,
          1,
          0,
          0,
          1,
          0,
          0,
          0,
          1,
          0
         ],
         "yaxis": "y"
        }
       ],
       "layout": {
        "barmode": "stack",
        "legend": {
         "title": {
          "text": "Dataset"
         },
         "tracegroupgap": 0
        },
        "template": {
         "data": {
          "bar": [
           {
            "error_x": {
             "color": "#2a3f5f"
            },
            "error_y": {
             "color": "#2a3f5f"
            },
            "marker": {
             "line": {
              "color": "#E5ECF6",
              "width": 0.5
             },
             "pattern": {
              "fillmode": "overlay",
              "size": 10,
              "solidity": 0.2
             }
            },
            "type": "bar"
           }
          ],
          "barpolar": [
           {
            "marker": {
             "line": {
              "color": "#E5ECF6",
              "width": 0.5
             },
             "pattern": {
              "fillmode": "overlay",
              "size": 10,
              "solidity": 0.2
             }
            },
            "type": "barpolar"
           }
          ],
          "carpet": [
           {
            "aaxis": {
             "endlinecolor": "#2a3f5f",
             "gridcolor": "white",
             "linecolor": "white",
             "minorgridcolor": "white",
             "startlinecolor": "#2a3f5f"
            },
            "baxis": {
             "endlinecolor": "#2a3f5f",
             "gridcolor": "white",
             "linecolor": "white",
             "minorgridcolor": "white",
             "startlinecolor": "#2a3f5f"
            },
            "type": "carpet"
           }
          ],
          "choropleth": [
           {
            "colorbar": {
             "outlinewidth": 0,
             "ticks": ""
            },
            "type": "choropleth"
           }
          ],
          "contour": [
           {
            "colorbar": {
             "outlinewidth": 0,
             "ticks": ""
            },
            "colorscale": [
             [
              0,
              "#0d0887"
             ],
             [
              0.1111111111111111,
              "#46039f"
             ],
             [
              0.2222222222222222,
              "#7201a8"
             ],
             [
              0.3333333333333333,
              "#9c179e"
             ],
             [
              0.4444444444444444,
              "#bd3786"
             ],
             [
              0.5555555555555556,
              "#d8576b"
             ],
             [
              0.6666666666666666,
              "#ed7953"
             ],
             [
              0.7777777777777778,
              "#fb9f3a"
             ],
             [
              0.8888888888888888,
              "#fdca26"
             ],
             [
              1,
              "#f0f921"
             ]
            ],
            "type": "contour"
           }
          ],
          "contourcarpet": [
           {
            "colorbar": {
             "outlinewidth": 0,
             "ticks": ""
            },
            "type": "contourcarpet"
           }
          ],
          "heatmap": [
           {
            "colorbar": {
             "outlinewidth": 0,
             "ticks": ""
            },
            "colorscale": [
             [
              0,
              "#0d0887"
             ],
             [
              0.1111111111111111,
              "#46039f"
             ],
             [
              0.2222222222222222,
              "#7201a8"
             ],
             [
              0.3333333333333333,
              "#9c179e"
             ],
             [
              0.4444444444444444,
              "#bd3786"
             ],
             [
              0.5555555555555556,
              "#d8576b"
             ],
             [
              0.6666666666666666,
              "#ed7953"
             ],
             [
              0.7777777777777778,
              "#fb9f3a"
             ],
             [
              0.8888888888888888,
              "#fdca26"
             ],
             [
              1,
              "#f0f921"
             ]
            ],
            "type": "heatmap"
           }
          ],
          "heatmapgl": [
           {
            "colorbar": {
             "outlinewidth": 0,
             "ticks": ""
            },
            "colorscale": [
             [
              0,
              "#0d0887"
             ],
             [
              0.1111111111111111,
              "#46039f"
             ],
             [
              0.2222222222222222,
              "#7201a8"
             ],
             [
              0.3333333333333333,
              "#9c179e"
             ],
             [
              0.4444444444444444,
              "#bd3786"
             ],
             [
              0.5555555555555556,
              "#d8576b"
             ],
             [
              0.6666666666666666,
              "#ed7953"
             ],
             [
              0.7777777777777778,
              "#fb9f3a"
             ],
             [
              0.8888888888888888,
              "#fdca26"
             ],
             [
              1,
              "#f0f921"
             ]
            ],
            "type": "heatmapgl"
           }
          ],
          "histogram": [
           {
            "marker": {
             "pattern": {
              "fillmode": "overlay",
              "size": 10,
              "solidity": 0.2
             }
            },
            "type": "histogram"
           }
          ],
          "histogram2d": [
           {
            "colorbar": {
             "outlinewidth": 0,
             "ticks": ""
            },
            "colorscale": [
             [
              0,
              "#0d0887"
             ],
             [
              0.1111111111111111,
              "#46039f"
             ],
             [
              0.2222222222222222,
              "#7201a8"
             ],
             [
              0.3333333333333333,
              "#9c179e"
             ],
             [
              0.4444444444444444,
              "#bd3786"
             ],
             [
              0.5555555555555556,
              "#d8576b"
             ],
             [
              0.6666666666666666,
              "#ed7953"
             ],
             [
              0.7777777777777778,
              "#fb9f3a"
             ],
             [
              0.8888888888888888,
              "#fdca26"
             ],
             [
              1,
              "#f0f921"
             ]
            ],
            "type": "histogram2d"
           }
          ],
          "histogram2dcontour": [
           {
            "colorbar": {
             "outlinewidth": 0,
             "ticks": ""
            },
            "colorscale": [
             [
              0,
              "#0d0887"
             ],
             [
              0.1111111111111111,
              "#46039f"
             ],
             [
              0.2222222222222222,
              "#7201a8"
             ],
             [
              0.3333333333333333,
              "#9c179e"
             ],
             [
              0.4444444444444444,
              "#bd3786"
             ],
             [
              0.5555555555555556,
              "#d8576b"
             ],
             [
              0.6666666666666666,
              "#ed7953"
             ],
             [
              0.7777777777777778,
              "#fb9f3a"
             ],
             [
              0.8888888888888888,
              "#fdca26"
             ],
             [
              1,
              "#f0f921"
             ]
            ],
            "type": "histogram2dcontour"
           }
          ],
          "mesh3d": [
           {
            "colorbar": {
             "outlinewidth": 0,
             "ticks": ""
            },
            "type": "mesh3d"
           }
          ],
          "parcoords": [
           {
            "line": {
             "colorbar": {
              "outlinewidth": 0,
              "ticks": ""
             }
            },
            "type": "parcoords"
           }
          ],
          "pie": [
           {
            "automargin": true,
            "type": "pie"
           }
          ],
          "scatter": [
           {
            "fillpattern": {
             "fillmode": "overlay",
             "size": 10,
             "solidity": 0.2
            },
            "type": "scatter"
           }
          ],
          "scatter3d": [
           {
            "line": {
             "colorbar": {
              "outlinewidth": 0,
              "ticks": ""
             }
            },
            "marker": {
             "colorbar": {
              "outlinewidth": 0,
              "ticks": ""
             }
            },
            "type": "scatter3d"
           }
          ],
          "scattercarpet": [
           {
            "marker": {
             "colorbar": {
              "outlinewidth": 0,
              "ticks": ""
             }
            },
            "type": "scattercarpet"
           }
          ],
          "scattergeo": [
           {
            "marker": {
             "colorbar": {
              "outlinewidth": 0,
              "ticks": ""
             }
            },
            "type": "scattergeo"
           }
          ],
          "scattergl": [
           {
            "marker": {
             "colorbar": {
              "outlinewidth": 0,
              "ticks": ""
             }
            },
            "type": "scattergl"
           }
          ],
          "scattermapbox": [
           {
            "marker": {
             "colorbar": {
              "outlinewidth": 0,
              "ticks": ""
             }
            },
            "type": "scattermapbox"
           }
          ],
          "scatterpolar": [
           {
            "marker": {
             "colorbar": {
              "outlinewidth": 0,
              "ticks": ""
             }
            },
            "type": "scatterpolar"
           }
          ],
          "scatterpolargl": [
           {
            "marker": {
             "colorbar": {
              "outlinewidth": 0,
              "ticks": ""
             }
            },
            "type": "scatterpolargl"
           }
          ],
          "scatterternary": [
           {
            "marker": {
             "colorbar": {
              "outlinewidth": 0,
              "ticks": ""
             }
            },
            "type": "scatterternary"
           }
          ],
          "surface": [
           {
            "colorbar": {
             "outlinewidth": 0,
             "ticks": ""
            },
            "colorscale": [
             [
              0,
              "#0d0887"
             ],
             [
              0.1111111111111111,
              "#46039f"
             ],
             [
              0.2222222222222222,
              "#7201a8"
             ],
             [
              0.3333333333333333,
              "#9c179e"
             ],
             [
              0.4444444444444444,
              "#bd3786"
             ],
             [
              0.5555555555555556,
              "#d8576b"
             ],
             [
              0.6666666666666666,
              "#ed7953"
             ],
             [
              0.7777777777777778,
              "#fb9f3a"
             ],
             [
              0.8888888888888888,
              "#fdca26"
             ],
             [
              1,
              "#f0f921"
             ]
            ],
            "type": "surface"
           }
          ],
          "table": [
           {
            "cells": {
             "fill": {
              "color": "#EBF0F8"
             },
             "line": {
              "color": "white"
             }
            },
            "header": {
             "fill": {
              "color": "#C8D4E3"
             },
             "line": {
              "color": "white"
             }
            },
            "type": "table"
           }
          ]
         },
         "layout": {
          "annotationdefaults": {
           "arrowcolor": "#2a3f5f",
           "arrowhead": 0,
           "arrowwidth": 1
          },
          "autotypenumbers": "strict",
          "coloraxis": {
           "colorbar": {
            "outlinewidth": 0,
            "ticks": ""
           }
          },
          "colorscale": {
           "diverging": [
            [
             0,
             "#8e0152"
            ],
            [
             0.1,
             "#c51b7d"
            ],
            [
             0.2,
             "#de77ae"
            ],
            [
             0.3,
             "#f1b6da"
            ],
            [
             0.4,
             "#fde0ef"
            ],
            [
             0.5,
             "#f7f7f7"
            ],
            [
             0.6,
             "#e6f5d0"
            ],
            [
             0.7,
             "#b8e186"
            ],
            [
             0.8,
             "#7fbc41"
            ],
            [
             0.9,
             "#4d9221"
            ],
            [
             1,
             "#276419"
            ]
           ],
           "sequential": [
            [
             0,
             "#0d0887"
            ],
            [
             0.1111111111111111,
             "#46039f"
            ],
            [
             0.2222222222222222,
             "#7201a8"
            ],
            [
             0.3333333333333333,
             "#9c179e"
            ],
            [
             0.4444444444444444,
             "#bd3786"
            ],
            [
             0.5555555555555556,
             "#d8576b"
            ],
            [
             0.6666666666666666,
             "#ed7953"
            ],
            [
             0.7777777777777778,
             "#fb9f3a"
            ],
            [
             0.8888888888888888,
             "#fdca26"
            ],
            [
             1,
             "#f0f921"
            ]
           ],
           "sequentialminus": [
            [
             0,
             "#0d0887"
            ],
            [
             0.1111111111111111,
             "#46039f"
            ],
            [
             0.2222222222222222,
             "#7201a8"
            ],
            [
             0.3333333333333333,
             "#9c179e"
            ],
            [
             0.4444444444444444,
             "#bd3786"
            ],
            [
             0.5555555555555556,
             "#d8576b"
            ],
            [
             0.6666666666666666,
             "#ed7953"
            ],
            [
             0.7777777777777778,
             "#fb9f3a"
            ],
            [
             0.8888888888888888,
             "#fdca26"
            ],
            [
             1,
             "#f0f921"
            ]
           ]
          },
          "colorway": [
           "#636efa",
           "#EF553B",
           "#00cc96",
           "#ab63fa",
           "#FFA15A",
           "#19d3f3",
           "#FF6692",
           "#B6E880",
           "#FF97FF",
           "#FECB52"
          ],
          "font": {
           "color": "#2a3f5f"
          },
          "geo": {
           "bgcolor": "white",
           "lakecolor": "white",
           "landcolor": "#E5ECF6",
           "showlakes": true,
           "showland": true,
           "subunitcolor": "white"
          },
          "hoverlabel": {
           "align": "left"
          },
          "hovermode": "closest",
          "mapbox": {
           "style": "light"
          },
          "paper_bgcolor": "white",
          "plot_bgcolor": "#E5ECF6",
          "polar": {
           "angularaxis": {
            "gridcolor": "white",
            "linecolor": "white",
            "ticks": ""
           },
           "bgcolor": "#E5ECF6",
           "radialaxis": {
            "gridcolor": "white",
            "linecolor": "white",
            "ticks": ""
           }
          },
          "scene": {
           "xaxis": {
            "backgroundcolor": "#E5ECF6",
            "gridcolor": "white",
            "gridwidth": 2,
            "linecolor": "white",
            "showbackground": true,
            "ticks": "",
            "zerolinecolor": "white"
           },
           "yaxis": {
            "backgroundcolor": "#E5ECF6",
            "gridcolor": "white",
            "gridwidth": 2,
            "linecolor": "white",
            "showbackground": true,
            "ticks": "",
            "zerolinecolor": "white"
           },
           "zaxis": {
            "backgroundcolor": "#E5ECF6",
            "gridcolor": "white",
            "gridwidth": 2,
            "linecolor": "white",
            "showbackground": true,
            "ticks": "",
            "zerolinecolor": "white"
           }
          },
          "shapedefaults": {
           "line": {
            "color": "#2a3f5f"
           }
          },
          "ternary": {
           "aaxis": {
            "gridcolor": "white",
            "linecolor": "white",
            "ticks": ""
           },
           "baxis": {
            "gridcolor": "white",
            "linecolor": "white",
            "ticks": ""
           },
           "bgcolor": "#E5ECF6",
           "caxis": {
            "gridcolor": "white",
            "linecolor": "white",
            "ticks": ""
           }
          },
          "title": {
           "x": 0.05
          },
          "xaxis": {
           "automargin": true,
           "gridcolor": "white",
           "linecolor": "white",
           "ticks": "",
           "title": {
            "standoff": 15
           },
           "zerolinecolor": "white",
           "zerolinewidth": 2
          },
          "yaxis": {
           "automargin": true,
           "gridcolor": "white",
           "linecolor": "white",
           "ticks": "",
           "title": {
            "standoff": 15
           },
           "zerolinecolor": "white",
           "zerolinewidth": 2
          }
         }
        },
        "title": {
         "text": "Therapeutic Label Counts Sorted by Total Count"
        },
        "xaxis": {
         "anchor": "y",
         "domain": [
          0,
          1
         ],
         "title": {
          "text": "Labels"
         }
        },
        "yaxis": {
         "anchor": "x",
         "domain": [
          0,
          1
         ],
         "title": {
          "text": "Count"
         }
        }
       }
      }
     },
     "metadata": {},
     "output_type": "display_data"
    }
   ],
   "source": [
    "import pandas as pd\n",
    "import plotly.express as px\n",
    "\n",
    "# Assuming 'combined_df' is already created as before\n",
    "\n",
    "# Add a new column for the total counts\n",
    "combined_df['total_count'] = combined_df[['braf_count', 'general_count', 'not_braf_count']].sum(axis=1)\n",
    "\n",
    "# Sort the DataFrame by the total counts in ascending order\n",
    "sorted_df = combined_df.sort_values('total_count', ascending=False)\n",
    "sorted_df['Labels'] = sorted_df['combination_components'].apply(lambda x: str(x))\n",
    "\n",
    "# Create a bar plot for each therapeutic label count\n",
    "fig = px.bar(sorted_df, x='Labels', y=['braf_count', 'not_braf_count'], \n",
    "             title='Therapeutic Label Counts Sorted by Total Count',\n",
    "             labels={'value': 'Count', 'variable': 'Dataset'},\n",
    "             barmode='stack')\n",
    "\n",
    "# Show the figure\n",
    "fig.show()"
   ]
  },
  {
   "cell_type": "code",
   "execution_count": 167,
   "metadata": {},
   "outputs": [
    {
     "data": {
      "text/plain": [
       "{'count': [62, 58], 'category': ['BRAF', 'Not BRAF']}"
      ]
     },
     "execution_count": 167,
     "metadata": {},
     "output_type": "execute_result"
    }
   ],
   "source": [
    "\n",
    "data = {\n",
    "    'count': [sorted_df['braf_count'].sum(), sorted_df['not_braf_count'].sum()],\n",
    "    'category': ['BRAF','Not BRAF'],\n",
    "}\n",
    "data"
   ]
  },
  {
   "cell_type": "code",
   "execution_count": 173,
   "metadata": {},
   "outputs": [
    {
     "data": {
      "application/vnd.plotly.v1+json": {
       "config": {
        "plotlyServerURL": "https://plot.ly"
       },
       "data": [
        {
         "domain": {
          "x": [
           0,
           1
          ],
          "y": [
           0,
           1
          ]
         },
         "hoverinfo": "label+percent+value",
         "hovertemplate": "category=%{label}<br>count=%{value}<extra></extra>",
         "labels": [
          "BRAF",
          "Not BRAF"
         ],
         "legendgroup": "",
         "name": "",
         "showlegend": true,
         "textinfo": "label+percent",
         "textposition": "inside",
         "type": "pie",
         "values": [
          62,
          58
         ]
        }
       ],
       "layout": {
        "legend": {
         "tracegroupgap": 0
        },
        "margin": {
         "t": 60
        },
        "template": {
         "data": {
          "bar": [
           {
            "error_x": {
             "color": "#2a3f5f"
            },
            "error_y": {
             "color": "#2a3f5f"
            },
            "marker": {
             "line": {
              "color": "#E5ECF6",
              "width": 0.5
             },
             "pattern": {
              "fillmode": "overlay",
              "size": 10,
              "solidity": 0.2
             }
            },
            "type": "bar"
           }
          ],
          "barpolar": [
           {
            "marker": {
             "line": {
              "color": "#E5ECF6",
              "width": 0.5
             },
             "pattern": {
              "fillmode": "overlay",
              "size": 10,
              "solidity": 0.2
             }
            },
            "type": "barpolar"
           }
          ],
          "carpet": [
           {
            "aaxis": {
             "endlinecolor": "#2a3f5f",
             "gridcolor": "white",
             "linecolor": "white",
             "minorgridcolor": "white",
             "startlinecolor": "#2a3f5f"
            },
            "baxis": {
             "endlinecolor": "#2a3f5f",
             "gridcolor": "white",
             "linecolor": "white",
             "minorgridcolor": "white",
             "startlinecolor": "#2a3f5f"
            },
            "type": "carpet"
           }
          ],
          "choropleth": [
           {
            "colorbar": {
             "outlinewidth": 0,
             "ticks": ""
            },
            "type": "choropleth"
           }
          ],
          "contour": [
           {
            "colorbar": {
             "outlinewidth": 0,
             "ticks": ""
            },
            "colorscale": [
             [
              0,
              "#0d0887"
             ],
             [
              0.1111111111111111,
              "#46039f"
             ],
             [
              0.2222222222222222,
              "#7201a8"
             ],
             [
              0.3333333333333333,
              "#9c179e"
             ],
             [
              0.4444444444444444,
              "#bd3786"
             ],
             [
              0.5555555555555556,
              "#d8576b"
             ],
             [
              0.6666666666666666,
              "#ed7953"
             ],
             [
              0.7777777777777778,
              "#fb9f3a"
             ],
             [
              0.8888888888888888,
              "#fdca26"
             ],
             [
              1,
              "#f0f921"
             ]
            ],
            "type": "contour"
           }
          ],
          "contourcarpet": [
           {
            "colorbar": {
             "outlinewidth": 0,
             "ticks": ""
            },
            "type": "contourcarpet"
           }
          ],
          "heatmap": [
           {
            "colorbar": {
             "outlinewidth": 0,
             "ticks": ""
            },
            "colorscale": [
             [
              0,
              "#0d0887"
             ],
             [
              0.1111111111111111,
              "#46039f"
             ],
             [
              0.2222222222222222,
              "#7201a8"
             ],
             [
              0.3333333333333333,
              "#9c179e"
             ],
             [
              0.4444444444444444,
              "#bd3786"
             ],
             [
              0.5555555555555556,
              "#d8576b"
             ],
             [
              0.6666666666666666,
              "#ed7953"
             ],
             [
              0.7777777777777778,
              "#fb9f3a"
             ],
             [
              0.8888888888888888,
              "#fdca26"
             ],
             [
              1,
              "#f0f921"
             ]
            ],
            "type": "heatmap"
           }
          ],
          "heatmapgl": [
           {
            "colorbar": {
             "outlinewidth": 0,
             "ticks": ""
            },
            "colorscale": [
             [
              0,
              "#0d0887"
             ],
             [
              0.1111111111111111,
              "#46039f"
             ],
             [
              0.2222222222222222,
              "#7201a8"
             ],
             [
              0.3333333333333333,
              "#9c179e"
             ],
             [
              0.4444444444444444,
              "#bd3786"
             ],
             [
              0.5555555555555556,
              "#d8576b"
             ],
             [
              0.6666666666666666,
              "#ed7953"
             ],
             [
              0.7777777777777778,
              "#fb9f3a"
             ],
             [
              0.8888888888888888,
              "#fdca26"
             ],
             [
              1,
              "#f0f921"
             ]
            ],
            "type": "heatmapgl"
           }
          ],
          "histogram": [
           {
            "marker": {
             "pattern": {
              "fillmode": "overlay",
              "size": 10,
              "solidity": 0.2
             }
            },
            "type": "histogram"
           }
          ],
          "histogram2d": [
           {
            "colorbar": {
             "outlinewidth": 0,
             "ticks": ""
            },
            "colorscale": [
             [
              0,
              "#0d0887"
             ],
             [
              0.1111111111111111,
              "#46039f"
             ],
             [
              0.2222222222222222,
              "#7201a8"
             ],
             [
              0.3333333333333333,
              "#9c179e"
             ],
             [
              0.4444444444444444,
              "#bd3786"
             ],
             [
              0.5555555555555556,
              "#d8576b"
             ],
             [
              0.6666666666666666,
              "#ed7953"
             ],
             [
              0.7777777777777778,
              "#fb9f3a"
             ],
             [
              0.8888888888888888,
              "#fdca26"
             ],
             [
              1,
              "#f0f921"
             ]
            ],
            "type": "histogram2d"
           }
          ],
          "histogram2dcontour": [
           {
            "colorbar": {
             "outlinewidth": 0,
             "ticks": ""
            },
            "colorscale": [
             [
              0,
              "#0d0887"
             ],
             [
              0.1111111111111111,
              "#46039f"
             ],
             [
              0.2222222222222222,
              "#7201a8"
             ],
             [
              0.3333333333333333,
              "#9c179e"
             ],
             [
              0.4444444444444444,
              "#bd3786"
             ],
             [
              0.5555555555555556,
              "#d8576b"
             ],
             [
              0.6666666666666666,
              "#ed7953"
             ],
             [
              0.7777777777777778,
              "#fb9f3a"
             ],
             [
              0.8888888888888888,
              "#fdca26"
             ],
             [
              1,
              "#f0f921"
             ]
            ],
            "type": "histogram2dcontour"
           }
          ],
          "mesh3d": [
           {
            "colorbar": {
             "outlinewidth": 0,
             "ticks": ""
            },
            "type": "mesh3d"
           }
          ],
          "parcoords": [
           {
            "line": {
             "colorbar": {
              "outlinewidth": 0,
              "ticks": ""
             }
            },
            "type": "parcoords"
           }
          ],
          "pie": [
           {
            "automargin": true,
            "type": "pie"
           }
          ],
          "scatter": [
           {
            "fillpattern": {
             "fillmode": "overlay",
             "size": 10,
             "solidity": 0.2
            },
            "type": "scatter"
           }
          ],
          "scatter3d": [
           {
            "line": {
             "colorbar": {
              "outlinewidth": 0,
              "ticks": ""
             }
            },
            "marker": {
             "colorbar": {
              "outlinewidth": 0,
              "ticks": ""
             }
            },
            "type": "scatter3d"
           }
          ],
          "scattercarpet": [
           {
            "marker": {
             "colorbar": {
              "outlinewidth": 0,
              "ticks": ""
             }
            },
            "type": "scattercarpet"
           }
          ],
          "scattergeo": [
           {
            "marker": {
             "colorbar": {
              "outlinewidth": 0,
              "ticks": ""
             }
            },
            "type": "scattergeo"
           }
          ],
          "scattergl": [
           {
            "marker": {
             "colorbar": {
              "outlinewidth": 0,
              "ticks": ""
             }
            },
            "type": "scattergl"
           }
          ],
          "scattermapbox": [
           {
            "marker": {
             "colorbar": {
              "outlinewidth": 0,
              "ticks": ""
             }
            },
            "type": "scattermapbox"
           }
          ],
          "scatterpolar": [
           {
            "marker": {
             "colorbar": {
              "outlinewidth": 0,
              "ticks": ""
             }
            },
            "type": "scatterpolar"
           }
          ],
          "scatterpolargl": [
           {
            "marker": {
             "colorbar": {
              "outlinewidth": 0,
              "ticks": ""
             }
            },
            "type": "scatterpolargl"
           }
          ],
          "scatterternary": [
           {
            "marker": {
             "colorbar": {
              "outlinewidth": 0,
              "ticks": ""
             }
            },
            "type": "scatterternary"
           }
          ],
          "surface": [
           {
            "colorbar": {
             "outlinewidth": 0,
             "ticks": ""
            },
            "colorscale": [
             [
              0,
              "#0d0887"
             ],
             [
              0.1111111111111111,
              "#46039f"
             ],
             [
              0.2222222222222222,
              "#7201a8"
             ],
             [
              0.3333333333333333,
              "#9c179e"
             ],
             [
              0.4444444444444444,
              "#bd3786"
             ],
             [
              0.5555555555555556,
              "#d8576b"
             ],
             [
              0.6666666666666666,
              "#ed7953"
             ],
             [
              0.7777777777777778,
              "#fb9f3a"
             ],
             [
              0.8888888888888888,
              "#fdca26"
             ],
             [
              1,
              "#f0f921"
             ]
            ],
            "type": "surface"
           }
          ],
          "table": [
           {
            "cells": {
             "fill": {
              "color": "#EBF0F8"
             },
             "line": {
              "color": "white"
             }
            },
            "header": {
             "fill": {
              "color": "#C8D4E3"
             },
             "line": {
              "color": "white"
             }
            },
            "type": "table"
           }
          ]
         },
         "layout": {
          "annotationdefaults": {
           "arrowcolor": "#2a3f5f",
           "arrowhead": 0,
           "arrowwidth": 1
          },
          "autotypenumbers": "strict",
          "coloraxis": {
           "colorbar": {
            "outlinewidth": 0,
            "ticks": ""
           }
          },
          "colorscale": {
           "diverging": [
            [
             0,
             "#8e0152"
            ],
            [
             0.1,
             "#c51b7d"
            ],
            [
             0.2,
             "#de77ae"
            ],
            [
             0.3,
             "#f1b6da"
            ],
            [
             0.4,
             "#fde0ef"
            ],
            [
             0.5,
             "#f7f7f7"
            ],
            [
             0.6,
             "#e6f5d0"
            ],
            [
             0.7,
             "#b8e186"
            ],
            [
             0.8,
             "#7fbc41"
            ],
            [
             0.9,
             "#4d9221"
            ],
            [
             1,
             "#276419"
            ]
           ],
           "sequential": [
            [
             0,
             "#0d0887"
            ],
            [
             0.1111111111111111,
             "#46039f"
            ],
            [
             0.2222222222222222,
             "#7201a8"
            ],
            [
             0.3333333333333333,
             "#9c179e"
            ],
            [
             0.4444444444444444,
             "#bd3786"
            ],
            [
             0.5555555555555556,
             "#d8576b"
            ],
            [
             0.6666666666666666,
             "#ed7953"
            ],
            [
             0.7777777777777778,
             "#fb9f3a"
            ],
            [
             0.8888888888888888,
             "#fdca26"
            ],
            [
             1,
             "#f0f921"
            ]
           ],
           "sequentialminus": [
            [
             0,
             "#0d0887"
            ],
            [
             0.1111111111111111,
             "#46039f"
            ],
            [
             0.2222222222222222,
             "#7201a8"
            ],
            [
             0.3333333333333333,
             "#9c179e"
            ],
            [
             0.4444444444444444,
             "#bd3786"
            ],
            [
             0.5555555555555556,
             "#d8576b"
            ],
            [
             0.6666666666666666,
             "#ed7953"
            ],
            [
             0.7777777777777778,
             "#fb9f3a"
            ],
            [
             0.8888888888888888,
             "#fdca26"
            ],
            [
             1,
             "#f0f921"
            ]
           ]
          },
          "colorway": [
           "#636efa",
           "#EF553B",
           "#00cc96",
           "#ab63fa",
           "#FFA15A",
           "#19d3f3",
           "#FF6692",
           "#B6E880",
           "#FF97FF",
           "#FECB52"
          ],
          "font": {
           "color": "#2a3f5f"
          },
          "geo": {
           "bgcolor": "white",
           "lakecolor": "white",
           "landcolor": "#E5ECF6",
           "showlakes": true,
           "showland": true,
           "subunitcolor": "white"
          },
          "hoverlabel": {
           "align": "left"
          },
          "hovermode": "closest",
          "mapbox": {
           "style": "light"
          },
          "paper_bgcolor": "white",
          "plot_bgcolor": "#E5ECF6",
          "polar": {
           "angularaxis": {
            "gridcolor": "white",
            "linecolor": "white",
            "ticks": ""
           },
           "bgcolor": "#E5ECF6",
           "radialaxis": {
            "gridcolor": "white",
            "linecolor": "white",
            "ticks": ""
           }
          },
          "scene": {
           "xaxis": {
            "backgroundcolor": "#E5ECF6",
            "gridcolor": "white",
            "gridwidth": 2,
            "linecolor": "white",
            "showbackground": true,
            "ticks": "",
            "zerolinecolor": "white"
           },
           "yaxis": {
            "backgroundcolor": "#E5ECF6",
            "gridcolor": "white",
            "gridwidth": 2,
            "linecolor": "white",
            "showbackground": true,
            "ticks": "",
            "zerolinecolor": "white"
           },
           "zaxis": {
            "backgroundcolor": "#E5ECF6",
            "gridcolor": "white",
            "gridwidth": 2,
            "linecolor": "white",
            "showbackground": true,
            "ticks": "",
            "zerolinecolor": "white"
           }
          },
          "shapedefaults": {
           "line": {
            "color": "#2a3f5f"
           }
          },
          "ternary": {
           "aaxis": {
            "gridcolor": "white",
            "linecolor": "white",
            "ticks": ""
           },
           "baxis": {
            "gridcolor": "white",
            "linecolor": "white",
            "ticks": ""
           },
           "bgcolor": "#E5ECF6",
           "caxis": {
            "gridcolor": "white",
            "linecolor": "white",
            "ticks": ""
           }
          },
          "title": {
           "x": 0.05
          },
          "xaxis": {
           "automargin": true,
           "gridcolor": "white",
           "linecolor": "white",
           "ticks": "",
           "title": {
            "standoff": 15
           },
           "zerolinecolor": "white",
           "zerolinewidth": 2
          },
          "yaxis": {
           "automargin": true,
           "gridcolor": "white",
           "linecolor": "white",
           "ticks": "",
           "title": {
            "standoff": 15
           },
           "zerolinecolor": "white",
           "zerolinewidth": 2
          }
         }
        }
       }
      }
     },
     "metadata": {},
     "output_type": "display_data"
    }
   ],
   "source": [
    "fig = px.pie(pd.DataFrame(data), values='count', names='category')\n",
    "\n",
    "fig.update_traces(textinfo='label+percent', \n",
    "                  hoverinfo='label+percent+value',\n",
    "                  textposition='inside')\n",
    "\n",
    "fig.show()"
   ]
  }
 ],
 "metadata": {
  "kernelspec": {
   "display_name": "Python 3",
   "language": "python",
   "name": "python3"
  },
  "language_info": {
   "codemirror_mode": {
    "name": "ipython",
    "version": 3
   },
   "file_extension": ".py",
   "mimetype": "text/x-python",
   "name": "python",
   "nbconvert_exporter": "python",
   "pygments_lexer": "ipython3",
   "version": "3.10.14"
  }
 },
 "nbformat": 4,
 "nbformat_minor": 2
}
