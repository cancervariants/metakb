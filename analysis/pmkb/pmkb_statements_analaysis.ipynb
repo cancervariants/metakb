{
 "cells": [
  {
   "cell_type": "code",
   "execution_count": 2,
   "id": "a5656c35",
   "metadata": {},
   "outputs": [],
   "source": [
    "from metakb import PROJECT_ROOT\n",
    "import csv\n",
    "pmkb_dir = PROJECT_ROOT / 'data' / 'pmkb'\n",
    "interps_fpath = list(pmkb_dir.glob('pmkb_interps_*.csv'))[-1]"
   ]
  },
  {
   "cell_type": "code",
   "execution_count": 6,
   "id": "3812c1ee",
   "metadata": {},
   "outputs": [
    {
     "name": "stdout",
     "output_type": "stream",
     "text": [
      "624\n"
     ]
    }
   ],
   "source": [
    "# get total statements count\n",
    "with open(interps_fpath, 'r') as f:\n",
    "    reader = csv.DictReader(f)\n",
    "    statements = list(reader)\n",
    "    total_statements = len(statements)\n",
    "    print(total_statements)"
   ]
  },
  {
   "cell_type": "code",
   "execution_count": 9,
   "id": "64612dbc",
   "metadata": {},
   "outputs": [
    {
     "name": "stdout",
     "output_type": "stream",
     "text": [
      "0.2948717948717949\n"
     ]
    }
   ],
   "source": [
    "# get % with > 1 disease\n",
    "count = 0\n",
    "for statement in statements:\n",
    "    if len(statement['Tumor Type(s)'].split('|')) > 1:\n",
    "        count += 1\n",
    "print(count / total_statements)"
   ]
  },
  {
   "cell_type": "code",
   "execution_count": 10,
   "id": "0c7083ae",
   "metadata": {},
   "outputs": [
    {
     "name": "stdout",
     "output_type": "stream",
     "text": [
      "0.34455128205128205\n"
     ]
    }
   ],
   "source": [
    "# get % with > 1 tissue type\n",
    "count = 0\n",
    "for statement in statements:\n",
    "    if len(statement['Tissue Type(s)'].split('|')) > 1:\n",
    "        count += 1\n",
    "print(count / total_statements)"
   ]
  },
  {
   "cell_type": "code",
   "execution_count": 11,
   "id": "884b65f5",
   "metadata": {},
   "outputs": [
    {
     "name": "stdout",
     "output_type": "stream",
     "text": [
      "0.33974358974358976\n"
     ]
    }
   ],
   "source": [
    "# get % with > 1 tissue type and > 1 tumor type\n",
    "count = 0\n",
    "for statement in statements:\n",
    "    if (len(statement['Tissue Type(s)'].split('|')) > 1) and (len(statement['Tumor Type(s)']) > 1):\n",
    "        count += 1\n",
    "print(count / total_statements)"
   ]
  },
  {
   "cell_type": "code",
   "execution_count": 13,
   "id": "0891f111",
   "metadata": {},
   "outputs": [
    {
     "name": "stdout",
     "output_type": "stream",
     "text": [
      "0.1778846153846154\n"
     ]
    }
   ],
   "source": [
    "# get % with len(variants) < 1:\n",
    "count = 0\n",
    "for statement in statements:\n",
    "    if statement['Variant(s)'] == \"\":\n",
    "        count += 1\n",
    "print(count / total_statements)"
   ]
  },
  {
   "cell_type": "code",
   "execution_count": 14,
   "id": "09948e99",
   "metadata": {},
   "outputs": [
    {
     "name": "stdout",
     "output_type": "stream",
     "text": [
      "0.20192307692307693\n"
     ]
    }
   ],
   "source": [
    "# get % with len(variants) > 1:\n",
    "count = 0\n",
    "for statement in statements:\n",
    "    if len(statement['Variant(s)'].split('|')) > 1:\n",
    "        count += 1\n",
    "print(count / total_statements)"
   ]
  },
  {
   "cell_type": "code",
   "execution_count": 20,
   "id": "6c5c8211",
   "metadata": {},
   "outputs": [
    {
     "name": "stdout",
     "output_type": "stream",
     "text": [
      "0.5721153846153846\n"
     ]
    }
   ],
   "source": [
    "# get % with len(diseases) == 1 and len(variants) == 1:\n",
    "count = 0\n",
    "for statement in statements:\n",
    "    if (len(statement['Variant(s)'].split('|')) == 1) and (len(statement['Tumor Type(s)'].split('|')) == 1):\n",
    "        count += 1\n",
    "print(count / total_statements)"
   ]
  }
 ],
 "metadata": {
  "kernelspec": {
   "display_name": "metakb",
   "language": "python",
   "name": "metakb"
  },
  "language_info": {
   "codemirror_mode": {
    "name": "ipython",
    "version": 3
   },
   "file_extension": ".py",
   "mimetype": "text/x-python",
   "name": "python",
   "nbconvert_exporter": "python",
   "pygments_lexer": "ipython3",
   "version": "3.9.4"
  }
 },
 "nbformat": 4,
 "nbformat_minor": 5
}