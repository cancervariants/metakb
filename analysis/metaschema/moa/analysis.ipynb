{
 "cells": [
  {
   "cell_type": "code",
   "execution_count": 1,
   "metadata": {},
   "outputs": [],
   "source": [
    "import json\n",
    "import re\n",
    "import ast\n",
    "import zipfile"
   ]
  },
  {
   "cell_type": "code",
   "execution_count": 2,
   "metadata": {},
   "outputs": [],
   "source": [
    "with zipfile.ZipFile(\"moa.log.zip\", \"r\") as zip_ref:\n",
    "    zip_ref.extractall(\".\")"
   ]
  },
  {
   "cell_type": "markdown",
   "metadata": {},
   "source": [
    "# Get total counts for MOA data"
   ]
  },
  {
   "cell_type": "code",
   "execution_count": 3,
   "metadata": {},
   "outputs": [
    {
     "name": "stdout",
     "output_type": "stream",
     "text": [
      "TOTAL MOA Variants: 420\n",
      "TOTAL MOA Variants able to normalize: 146 (34.76190476190476 %)\n",
      "\n",
      "TOTAL MOA Genes: 145\n",
      "TOTAL MOA Genes able to normalize: 145 (100.0 %)\n",
      "\n",
      "TOTAL MOA Assertions: 864\n",
      "TOTAL MOA Assertions able to transform: 189 (21.875 %)\n"
     ]
    }
   ],
   "source": [
    "with open(\"moa_analysis.log\", \"w+\") as wf:\n",
    "    with open(\"moa.log\", \"r\") as rf:\n",
    "        for line in rf:\n",
    "            if \"metakb\" in line:\n",
    "                wf.write(line)\n",
    "\n",
    "            if \"TOTAL\" in line:\n",
    "                count = int(line.split(\": \")[-1])\n",
    "\n",
    "                if \"MOA Genes able to normalize\" in line:\n",
    "                    total_genes_normalized = count\n",
    "                elif \"MOA Variants able to normalize\" in line:\n",
    "                    total_variants_normalized = count              \n",
    "                elif \"MOA assertions able to transform\" in line:\n",
    "                    total_assertions_transformed = count      \n",
    "                elif \"MOA Assertions\" in line:\n",
    "                    total_assertions = count\n",
    "                elif \"MOA Variants\" in line:\n",
    "                    total_variants = count\n",
    "                elif \"MOA Genes\" in line:\n",
    "                    total_genes = count\n",
    "\n",
    "print(\"TOTAL MOA Variants:\", total_variants)\n",
    "print(\"TOTAL MOA Variants able to normalize:\", total_variants_normalized, f\"({total_variants_normalized/total_variants*100} %)\")\n",
    "print(\"\\nTOTAL MOA Genes:\", total_genes)\n",
    "print(\"TOTAL MOA Genes able to normalize:\", total_genes_normalized, f\"({total_genes_normalized / total_genes * 100} %)\")\n",
    "print(\"\\nTOTAL MOA Assertions:\", total_assertions)\n",
    "print(\"TOTAL MOA Assertions able to transform:\", total_assertions_transformed, f\"({total_assertions_transformed / total_assertions * 100} %)\")"
   ]
  },
  {
   "cell_type": "markdown",
   "metadata": {},
   "source": [
    "# Variant Analysis"
   ]
  },
  {
   "cell_type": "code",
   "execution_count": 4,
   "metadata": {},
   "outputs": [
    {
     "name": "stdout",
     "output_type": "stream",
     "text": [
      "# of MOA Variants that we can't normalize: 11\n",
      "% of MOA Variants that we can't normalize: 2.619047619047619\n"
     ]
    }
   ],
   "source": [
    "moa_vids_unable_to_normalize = set()\n",
    "\n",
    "with open(\"moa_unable_to_normalize_variation.txt\", \"w+\") as wf:\n",
    "    with open(\"moa_analysis.log\", \"r\") as rf:\n",
    "        for line in rf:\n",
    "            if \"metakb.transform.moa\" in line and \"Variation Normalizer unable to normalize\" in line:\n",
    "                moa_vid = re.findall(r\"moa.variant:\\d+\", line)[0].strip()\n",
    "                query = line.split(\":\")[-1].strip()\n",
    "                moa_vids_unable_to_normalize.add(moa_vid)\n",
    "                wf.write(f\"{moa_vid} : {query}\\n\")\n",
    "\n",
    "print(\"# of MOA Variants that we can't normalize:\", len(moa_vids_unable_to_normalize))\n",
    "print(\"% of MOA Variants that we can't normalize:\", len(moa_vids_unable_to_normalize) / total_variants * 100)"
   ]
  },
  {
   "cell_type": "code",
   "execution_count": 5,
   "metadata": {},
   "outputs": [
    {
     "name": "stdout",
     "output_type": "stream",
     "text": [
      "# of MOA Variants that aren't supported: 263\n",
      "  # of MOA Variants with no gene provided: 12\n",
      "% of MOA Variants that aren't supported: 62.61904761904762\n"
     ]
    }
   ],
   "source": [
    "moa_vids_not_supported = set()\n",
    "no_gene_provided_count = 0\n",
    "\n",
    "with open(\"moa_does_not_support_variation.txt\", \"w+\") as wf:\n",
    "    with open(\"moa_analysis.log\", \"r\") as rf:\n",
    "        for line in rf:\n",
    "            if \"metakb.transform.moa\" in line and \"Variation Normalizer does not support\" in line:\n",
    "                if \"(no gene provided)\" in line:\n",
    "                    no_gene_provided_count += 1\n",
    "                moa_vid = re.findall(r\"moa.variant:\\d+\", line)[0].strip()\n",
    "                query = line.split(\": \")[-1].strip()\n",
    "                moa_vids_not_supported.add(moa_vid)\n",
    "                wf.write(f\"{moa_vid} : {query}\\n\")\n",
    "\n",
    "print(\"# of MOA Variants that aren't supported:\", len(moa_vids_not_supported))\n",
    "print(\"  # of MOA Variants with no gene provided:\", no_gene_provided_count)\n",
    "print(\"% of MOA Variants that aren't supported:\", len(moa_vids_not_supported) / total_variants * 100)"
   ]
  },
  {
   "cell_type": "code",
   "execution_count": 6,
   "metadata": {},
   "outputs": [
    {
     "name": "stdout",
     "output_type": "stream",
     "text": [
      "# of AIDs missed due to Variation Normalizer: 619\n"
     ]
    }
   ],
   "source": [
    "# See how this affects AIDs\n",
    "aids_missed_due_to_variant = set()\n",
    "variant_id_to_aids_missed = dict()\n",
    "\n",
    "with open(\"moa_analysis.log\", \"r\") as rf:\n",
    "    for line in rf:\n",
    "        if \"has no variation descriptor\" in line:\n",
    "            aid = re.findall(r\"moa.assertion:\\d+\", line)[0].strip()\n",
    "            aids_missed_due_to_variant.add(aid)\n",
    "            variant_id = line.split(\"variant_id\")[-1].strip()\n",
    "\n",
    "            if variant_id in variant_id_to_aids_missed:\n",
    "                variant_id_to_aids_missed[variant_id].add(aid)\n",
    "            else:\n",
    "                variant_id_to_aids_missed[variant_id] = {aid}\n",
    "\n",
    "variant_id_to_aids_missed = dict(sorted(variant_id_to_aids_missed.items(), key=lambda x: len(x[1]), reverse=True))\n",
    "with open(\"moa_variant_id_to_aids_missed.txt\", \"w+\") as wf:\n",
    "    for k, v in variant_id_to_aids_missed.items():\n",
    "        wf.write(f\"moa.variant:{k} (count of AIDs {len(v)}) : {v}\\n\")\n",
    "            \n",
    "print(f\"# of AIDs missed due to Variation Normalizer:\", len(aids_missed_due_to_variant)) "
   ]
  },
  {
   "cell_type": "markdown",
   "metadata": {},
   "source": [
    "# Therapy Analysis"
   ]
  },
  {
   "cell_type": "code",
   "execution_count": 7,
   "metadata": {},
   "outputs": [
    {
     "name": "stdout",
     "output_type": "stream",
     "text": [
      "# of AIDs with no therapy name: 42\n",
      "% of AIDs with no therapy name: 4.861111111111112\n"
     ]
    },
    {
     "data": {
      "text/plain": [
       "['moa.assertion:146',\n",
       " 'moa.assertion:162',\n",
       " 'moa.assertion:191',\n",
       " 'moa.assertion:250',\n",
       " 'moa.assertion:334',\n",
       " 'moa.assertion:335',\n",
       " 'moa.assertion:336',\n",
       " 'moa.assertion:341',\n",
       " 'moa.assertion:390',\n",
       " 'moa.assertion:488',\n",
       " 'moa.assertion:489',\n",
       " 'moa.assertion:490',\n",
       " 'moa.assertion:491',\n",
       " 'moa.assertion:495',\n",
       " 'moa.assertion:535',\n",
       " 'moa.assertion:536',\n",
       " 'moa.assertion:538',\n",
       " 'moa.assertion:539',\n",
       " 'moa.assertion:540',\n",
       " 'moa.assertion:541',\n",
       " 'moa.assertion:543',\n",
       " 'moa.assertion:544',\n",
       " 'moa.assertion:545',\n",
       " 'moa.assertion:546',\n",
       " 'moa.assertion:547',\n",
       " 'moa.assertion:548',\n",
       " 'moa.assertion:549',\n",
       " 'moa.assertion:550',\n",
       " 'moa.assertion:551',\n",
       " 'moa.assertion:552',\n",
       " 'moa.assertion:553',\n",
       " 'moa.assertion:554',\n",
       " 'moa.assertion:555',\n",
       " 'moa.assertion:556',\n",
       " 'moa.assertion:558',\n",
       " 'moa.assertion:559',\n",
       " 'moa.assertion:560',\n",
       " 'moa.assertion:561',\n",
       " 'moa.assertion:654',\n",
       " 'moa.assertion:655',\n",
       " 'moa.assertion:661',\n",
       " 'moa.assertion:680']"
      ]
     },
     "execution_count": 7,
     "metadata": {},
     "output_type": "execute_result"
    }
   ],
   "source": [
    "# No therapy_name provided means we can't run thru therapy normalizer\n",
    "aids_no_therapy_name = set()\n",
    "with open(\"moa_analysis.log\", \"r\") as rf:\n",
    "    for line in rf:\n",
    "        if \"has no therapy_name\" in line:\n",
    "            aid = re.findall(r\"moa.assertion:\\d+\", line)[0].strip()\n",
    "            aids_no_therapy_name.add(aid)\n",
    "\n",
    "count_aid_no_therapy = len(aids_no_therapy_name)\n",
    "print(f\"# of AIDs with no therapy name: {count_aid_no_therapy}\")\n",
    "print(f\"% of AIDs with no therapy name: {count_aid_no_therapy / total_assertions * 100}\")\n",
    "sorted(aids_no_therapy_name)"
   ]
  },
  {
   "cell_type": "code",
   "execution_count": 8,
   "metadata": {},
   "outputs": [
    {
     "name": "stdout",
     "output_type": "stream",
     "text": [
      "# of MOA therapy names we can't normalize: 3\n",
      "# of AIDs missed due to Therapy Normalizer: 4\n",
      "\n",
      "---MOA Therapy Normalizer Unable to Normalize---\n",
      "EXEL-8232\n",
      "GANT61\n",
      "Mito-CP\n",
      "\n",
      "---MOA Therapy to AIDs Missed---\n",
      "GANT61 (count of AIDs 2) : {'moa.assertion:183', 'moa.assertion:182'}\n",
      "Mito-CP (count of AIDs 1) : {'moa.assertion:174'}\n",
      "EXEL-8232 (count of AIDs 1) : {'moa.assertion:421'}\n"
     ]
    }
   ],
   "source": [
    "therapy_names_cant_normalize = set()\n",
    "aid_to_drugs = dict()\n",
    "aids_missed_due_to_therapy = set()\n",
    "drug_id_to_aids_missed = dict()\n",
    "therapy_name_to_queries = dict()\n",
    "\n",
    "with open(\"moa_analysis.log\", \"r\") as rf:\n",
    "    for line in rf:\n",
    "        if \"Therapy Normalizer unable to normalize\" in line:\n",
    "            therapy_name = line.split(\":\")[-1].strip()\n",
    "            therapy_names_cant_normalize.add(therapy_name)\n",
    "            \n",
    "        elif \"has no therapeutic descriptor\" in line:\n",
    "            aid = re.findall(r\"moa.assertion:\\d+\", line)[0].strip()\n",
    "            aids_missed_due_to_therapy.add(aid)\n",
    "            therapy_name = line.split(\"therapy_name\")[-1]\n",
    "\n",
    "            therapy_names = [tn.strip() for tn in therapy_name.split(\"+\")]\n",
    "            for therapy_name in therapy_names:\n",
    "                if therapy_name not in therapy_names_cant_normalize:\n",
    "                    continue\n",
    "                \n",
    "                if therapy_name in drug_id_to_aids_missed:\n",
    "                    drug_id_to_aids_missed[therapy_name].add(aid)\n",
    "                else:\n",
    "                    drug_id_to_aids_missed[therapy_name] = {aid}\n",
    "\n",
    "print(f\"# of MOA therapy names we can't normalize: {len(therapy_names_cant_normalize)}\")\n",
    "print(f\"# of AIDs missed due to Therapy Normalizer: {len(aids_missed_due_to_therapy)}\\n\")\n",
    "\n",
    "print(\"---MOA Therapy Normalizer Unable to Normalize---\")\n",
    "for drug in therapy_names_cant_normalize:\n",
    "    print(drug)\n",
    "\n",
    "drug_id_to_aids_missed = dict(sorted(drug_id_to_aids_missed.items(), key=lambda x: len(x[1]), reverse=True))\n",
    "print(\"\\n---MOA Therapy to AIDs Missed---\")\n",
    "for k, v in drug_id_to_aids_missed.items():\n",
    "    print(f\"{k.strip()} (count of AIDs {len(v)}) : {v}\")"
   ]
  },
  {
   "cell_type": "markdown",
   "metadata": {},
   "source": [
    "# Disease Analysis"
   ]
  },
  {
   "cell_type": "code",
   "execution_count": 9,
   "metadata": {},
   "outputs": [
    {
     "name": "stdout",
     "output_type": "stream",
     "text": [
      "# of MOA disease we can't normalize: 1\n",
      "# of AIDs missed due to Disease Normalizer: 8\n",
      "\n",
      "---MOA Disease Normalizer Unable to Normalize---\n",
      "['oncotree:TALL', 'T-Cell Acute Lymphoid Leukemia', 'T-Cell Acute Lymphoid Leukemia']\n",
      "\n",
      "---MOA Disease to AIDs Missed---\n",
      "T-Cell Acute Lymphoid Leukemia;TALL (count of AIDs 6) : {'moa.assertion:344', 'moa.assertion:343', 'moa.assertion:345', 'moa.assertion:342', 'moa.assertion:347', 'moa.assertion:346'}\n",
      "No disease provided (count of AIDs 1) : {'moa.assertion:112'}\n",
      "Any solid tumor (count of AIDs 1) : {'moa.assertion:821'}\n"
     ]
    }
   ],
   "source": [
    "disease_cant_normalize = set()\n",
    "aid_to_disease = dict()\n",
    "aids_missed_due_to_disease = set()\n",
    "disease_to_aids_missed = dict()\n",
    "disease_to_queries = dict()\n",
    "\n",
    "with open(\"moa_analysis.log\", \"r\") as rf:\n",
    "    for line in rf:\n",
    "        if \"Disease Normalizer unable to normalize\" in line:\n",
    "            disease = line.split(\"unable to normalize:\")[-1].strip()\n",
    "            disease_cant_normalize.add(disease)\n",
    "            \n",
    "        elif \"has no disease descriptor\" in line:\n",
    "            aid = re.findall(r\"moa.assertion:\\d+\", line)[0].strip()\n",
    "            aids_missed_due_to_disease.add(aid)\n",
    "            disease = ast.literal_eval(line.split(\"disease\")[-1])\n",
    "\n",
    "            if not any(v for v in disease.values()):\n",
    "                disease_str = \"No disease provided\"\n",
    "            else:\n",
    "                disease_str = \";\".join(sorted({v for k,v in disease.items() if v}))\n",
    "\n",
    "            if disease_str in disease_to_aids_missed:\n",
    "                disease_to_aids_missed[disease_str].add(aid)\n",
    "            else:\n",
    "                disease_to_aids_missed[disease_str] = {aid}           \n",
    "\n",
    "print(f\"# of MOA disease we can't normalize: {len(disease_cant_normalize)}\")\n",
    "print(f\"# of AIDs missed due to Disease Normalizer: {len(aids_missed_due_to_disease)}\\n\")\n",
    "\n",
    "print(\"---MOA Disease Normalizer Unable to Normalize---\")\n",
    "for disease in disease_cant_normalize:\n",
    "    print(disease)\n",
    "\n",
    "disease_to_aids_missed = dict(sorted(disease_to_aids_missed.items(), key=lambda x: len(x[1]), reverse=True))\n",
    "print(\"\\n---MOA Disease to AIDs Missed---\")\n",
    "for k, v in disease_to_aids_missed.items():\n",
    "    print(f\"{k.strip()} (count of AIDs {len(v)}) : {v}\")"
   ]
  },
  {
   "cell_type": "markdown",
   "metadata": {},
   "source": [
    "# Proposition Analysis"
   ]
  },
  {
   "cell_type": "code",
   "execution_count": 10,
   "metadata": {},
   "outputs": [
    {
     "name": "stdout",
     "output_type": "stream",
     "text": [
      "# of AIDs missed due to no proposition: 2\n",
      "% of AIDs missed due to no proposition: 0.23148148148148145\n"
     ]
    },
    {
     "data": {
      "text/plain": [
       "{'moa.assertion:369': None, 'moa.assertion:459': None}"
      ]
     },
     "execution_count": 10,
     "metadata": {},
     "output_type": "execute_result"
    }
   ],
   "source": [
    "aid_no_prop = dict()\n",
    "with open(\"moa_analysis.log\", \"r\") as rf:\n",
    "    for line in rf:\n",
    "        if \"No predicate found for\" in line:\n",
    "            aid = re.findall(r\"moa.assertion:\\d+\", line)[0].strip()\n",
    "            clin_sig = line.split(\"clinical significance:\")[-1].strip()\n",
    "            aid_no_prop[aid] = ast.literal_eval(clin_sig)\n",
    "\n",
    "count_aid_no_prop = len(aid_no_prop.keys())\n",
    "print(f\"# of AIDs missed due to no proposition: {count_aid_no_prop}\")\n",
    "print(f\"% of AIDs missed due to no proposition: {count_aid_no_prop / total_assertions * 100}\")\n",
    "aid_no_prop"
   ]
  },
  {
   "cell_type": "markdown",
   "metadata": {},
   "source": [
    "# Summary"
   ]
  },
  {
   "cell_type": "code",
   "execution_count": 11,
   "metadata": {},
   "outputs": [
    {
     "name": "stdout",
     "output_type": "stream",
     "text": [
      "% of AIDs missed due to no therapy name: 4.861111111111112\n",
      "% of AIDs missed due to Therapy Normalizer: 0.4629629629629629\n",
      "% of AIDs missed due to Disease Normalizer: 0.9259259259259258\n",
      "% of AIDs missed due to Variation Normalizer: 71.64351851851852\n",
      "% of AIDs missed due to no proposition: 0.23148148148148145\n"
     ]
    }
   ],
   "source": [
    "perc_aids_missed_no_therapy = count_aid_no_therapy / total_assertions * 100\n",
    "perc_aids_missed_therapy = len(aids_missed_due_to_therapy) / total_assertions * 100\n",
    "perc_aids_missed_variation = len(aids_missed_due_to_variant) / total_assertions * 100\n",
    "perc_aids_missed_disease = len(aids_missed_due_to_disease) / total_assertions * 100\n",
    "perc_aids_missed_no_prop = count_aid_no_prop / total_assertions * 100\n",
    "\n",
    "print(f\"% of AIDs missed due to no therapy name: {perc_aids_missed_no_therapy}\")\n",
    "print(f\"% of AIDs missed due to Therapy Normalizer: {perc_aids_missed_therapy}\")\n",
    "print(f\"% of AIDs missed due to Disease Normalizer: {perc_aids_missed_disease}\")\n",
    "print(f\"% of AIDs missed due to Variation Normalizer: {perc_aids_missed_variation}\")   \n",
    "print(f\"% of AIDs missed due to no proposition: {perc_aids_missed_no_prop}\")"
   ]
  },
  {
   "cell_type": "code",
   "execution_count": null,
   "metadata": {},
   "outputs": [],
   "source": []
  }
 ],
 "metadata": {
  "kernelspec": {
   "display_name": "Python 3.10.6 ('metakb-qipIMsDB')",
   "language": "python",
   "name": "python3"
  },
  "language_info": {
   "codemirror_mode": {
    "name": "ipython",
    "version": 3
   },
   "file_extension": ".py",
   "mimetype": "text/x-python",
   "name": "python",
   "nbconvert_exporter": "python",
   "pygments_lexer": "ipython3",
   "version": "3.10.6"
  },
  "orig_nbformat": 4,
  "vscode": {
   "interpreter": {
    "hash": "790a71c5f63579f222ae5cd8740ad341e82109efc7b6644c37d71c69f2b3d38e"
   }
  }
 },
 "nbformat": 4,
 "nbformat_minor": 2
}
