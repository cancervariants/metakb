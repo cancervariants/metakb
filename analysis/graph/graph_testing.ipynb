{
 "cells": [
  {
   "cell_type": "code",
   "execution_count": 27,
   "metadata": {},
   "outputs": [],
   "source": [
    "from metakb.database import Graph\n",
    "\n",
    "g = Graph(uri=\"bolt://localhost:7687\", credentials=(\"neo4j\", \"admin\"))\n",
    "g.clear()"
   ]
  },
  {
   "cell_type": "code",
   "execution_count": 28,
   "metadata": {},
   "outputs": [],
   "source": [
    "from metakb import PROJECT_ROOT\n",
    "import json\n",
    "fpath = PROJECT_ROOT / 'analysis' / 'graph' / 'civic_cdm_updated.json'\n",
    "with open(fpath, 'r') as f:\n",
    "    items = json.load(f)"
   ]
  },
  {
   "cell_type": "code",
   "execution_count": null,
   "metadata": {},
   "outputs": [],
   "source": [
    "genes_blacklist = {'civic:gid30', 'civic:gid52'}\n",
    "therapies_blacklist = {'civic:tid237', 'civic:tid101', 'civic:tid326', 'civic:tid457', 'civic:tid14', 'civic:tid144', 'civic:tid138', 'civic:tid260', 'civic:tid505'}\n",
    "ev_blacklist = {'civic:eid8190', 'civic:eid2924', 'civic:eid2919', 'civic:eid8187', 'civic:eid8186', 'civic:eid2922', 'civic:eid8184', 'civic:eid2923', 'civic:eid8185', 'civic:eid8189', 'civic:eid1362'}\n",
    "count = 0\n",
    "for item in items:\n",
    "    if 'assertion' in item.keys():\n",
    "        continue\n",
    "    if any(filter(lambda x: x['id'] in genes_blacklist, item.get('gene_descriptors', []))):\n",
    "        continue\n",
    "    elif any(filter(lambda x: x['id'] in therapies_blacklist, item['therapy_descriptors'])):\n",
    "        continue\n",
    "    elif any(filter(lambda x: x['id'] in ev_blacklist, item['evidence'])):\n",
    "        continue\n",
    "    else:\n",
    "        g.add_transformed_data(item)\n",
    "        count += 1"
   ]
  },
  {
   "cell_type": "code",
   "execution_count": 23,
   "metadata": {},
   "outputs": [
    {
     "data": {
      "text/plain": [
       "1021"
      ]
     },
     "execution_count": 23,
     "metadata": {},
     "output_type": "execute_result"
    }
   ],
   "source": [
    "count"
   ]
  },
  {
   "cell_type": "code",
   "execution_count": null,
   "metadata": {},
   "outputs": [],
   "source": []
  },
  {
   "cell_type": "code",
   "execution_count": null,
   "metadata": {},
   "outputs": [],
   "source": []
  }
 ],
 "metadata": {
  "kernelspec": {
   "display_name": "metakb",
   "language": "python",
   "name": "metakb"
  },
  "language_info": {
   "codemirror_mode": {
    "name": "ipython",
    "version": 3
   },
   "file_extension": ".py",
   "mimetype": "text/x-python",
   "name": "python",
   "nbconvert_exporter": "python",
   "pygments_lexer": "ipython3",
   "version": "3.9.2"
  }
 },
 "nbformat": 4,
 "nbformat_minor": 4
}
