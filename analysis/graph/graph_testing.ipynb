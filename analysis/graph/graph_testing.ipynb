{
 "cells": [
  {
   "cell_type": "code",
   "execution_count": 3,
   "metadata": {},
   "outputs": [],
   "source": [
    "from metakb.database import Graph\n",
    "g = Graph(uri=\"bolt://localhost:7687\", credentials=(\"neo4j\", \"admin\"))\n",
    "g.clear()"
   ]
  },
  {
   "cell_type": "code",
   "execution_count": 6,
   "metadata": {},
   "outputs": [],
   "source": [
    "from metakb import PROJECT_ROOT\n",
    "import json\n",
    "fpath = PROJECT_ROOT / 'analysis' / 'civic' / 'examples' / 'transform' / 'civic:eid2997.json'\n",
    "with open(fpath, 'r') as f:\n",
    "    objects = json.load(f)"
   ]
  },
  {
   "cell_type": "code",
   "execution_count": 7,
   "metadata": {},
   "outputs": [],
   "source": [
    "g.add_transformed_data(objects)"
   ]
  }
 ],
 "metadata": {
  "kernelspec": {
   "display_name": "metakb",
   "language": "python",
   "name": "metakb"
  },
  "language_info": {
   "codemirror_mode": {
    "name": "ipython",
    "version": 3
   },
   "file_extension": ".py",
   "mimetype": "text/x-python",
   "name": "python",
   "nbconvert_exporter": "python",
   "pygments_lexer": "ipython3",
   "version": "3.9.2"
  }
 },
 "nbformat": 4,
 "nbformat_minor": 4
}
