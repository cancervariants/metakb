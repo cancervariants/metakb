{
 "cells": [
  {
   "cell_type": "markdown",
   "id": "e5519a4a",
   "metadata": {},
   "source": [
    "# PharmGKB Data Exploration"
   ]
  },
  {
   "cell_type": "markdown",
   "id": "710c6bd6",
   "metadata": {},
   "source": [
    "## Files\n",
    "\n",
    "Relationships:\n",
    " * variants.tsv: key variant IDs to dbSNP IDs and HGVS strings\n",
    "\n",
    "\n",
    "Clinical annotations:\n",
    " * clinical_annotations.tsv:\n",
    " * clinical_ann_alleles.tsv:\n",
    " * clinical_ann_evidence.tsv:\n",
    "\n",
    "\n",
    "Variant annotations:\n",
    "\n",
    "* var_pheno_ann.tsv: Contains associations in which the variant affects a phenotype, with or without drug information.\n",
    "* var_drug_ann.tsv: Contains associations in which the variant affects a drug dose, response, metabolism, etc\n",
    "* var_fa_ann.tsv: Contains in vitro and functional analysis-type associations.\n",
    "* study_parameters.tsv: Contains information about the study population size, biogeographical group and statistics for the variant annotations; this file is cross-referenced against the 3 variant annotation files.\n",
    "* CREATED_xxxx-xx-xx.txt: This file indicates the date that all files in this group were created from the database.\n",
    "\n",
    "\n",
    "## Data structures\n",
    "\n",
    "Variant annotation (\"*PharmGKB variant annotations report the association between a variant (e.g. SNP, indel, repeat, haplotype) and a drug phenotype from a single publication*\"):\n",
    "\n",
    "Clinical annotation:\n",
    " * annotation ID\n",
    " * variant/alleles\n",
    "   * gene\n",
    " * Evidence level, level modifier, level override\n",
    " * Evidence PMID\n",
    " * Score\n",
    " * Phenotype category {toxicity, efficacy, dosage, metabolism/PK, PD, other}\n",
    " * Drug(s)\n",
    " * Phenotype(s)\n",
    " * Specialty population\n",
    "\n",
    "Variant:\n",
    " * pharmGKB ID\n",
    " * dbSNP ID\n",
    " * Alleles?\n",
    "\n",
    "\n",
    "\n",
    "## Outstanding questions\n",
    "\n",
    "License (share alike) okay?\n",
    "\n",
    "How to properly VRSify dbSNP IDs?"
   ]
  },
  {
   "cell_type": "markdown",
   "id": "172ca28c",
   "metadata": {},
   "source": [
    "### Extracting direction"
   ]
  },
  {
   "cell_type": "markdown",
   "id": "57135882",
   "metadata": {},
   "source": [
    "### DrugLabel\n",
    "\n",
    "\"PharmGKB annotates drug labels containing pharmacogenetic information approved by the US Food and Drug Administration (FDA), European Medicines Agency (EMA), Swiss Agency of Therapeutic Products (Swissmedic), Pharmaceuticals and Medical Devices Agency, Japan (PMDA) and Health Canada (Santé Canada) (HCSC).\"\n",
    "\n",
    "**Sources**:\n",
    "\n",
    "* US FDA: \"Information is gathered from the FDA's \"Table of Pharmacogenomic Biomarkers in Drug Labels\" and from FDA-approved labels brought to our attention\"\n",
    "  * https://www.fda.gov/drugs/science-research-drugs/table-pharmacogenomic-biomarkers-drug-labeling\n",
    "  * \"The Biomarker badge On FDA Biomarker List refers to a drug label that is found on the FDA's Table of Pharmacogenomic Biomarkers in Drug Labels.\"\n",
    "* Swissmedic: \"The Swissmedic drug label annotations are sourced through a collaboration with the Pharmaceutical Care Research Group (PCRG), Department of Pharmaceutical Sciences, University of Basel, who provided a translation of the pharmacogenetic information contained in the Swissmedic drug labels, screened by natural language processing (NLP).\"\n",
    "* EMA: \"European Public Assessment Reports (EPARs) that contain PGx information were identified from [Article:24433361] and also by searching for drugs for which we have PGx-containing FDA drug labels.\"\n",
    "  * See https://www.pharmgkb.org/literature/15069531\n",
    "* PMDA: \"Unless otherwise stated, Japanese drug label annotations were translated through a collaboration with the Japanese Society of Pharmacogenomics and Silicon Valley Tech KK. PMDA package inserts were selected to be examined for PGx information by searching for drugs for which we had PGx-containing FDA, EMA or HCSC labels at the time.\"\n",
    "* HCSC: \"Canadian drug labels (referred to as product monographs) are sourced from Health Canada's Drug Product Database (DPD). Product monographs that contain PGx information are identified by searching for drugs for which we have PGx-containing FDA labels.\"\n",
    "  * http://www.hc-sc.gc.ca/dhp-mps/prodpharma/databasdon/index-eng.php"
   ]
  },
  {
   "cell_type": "code",
   "execution_count": null,
   "id": "15c3cb88",
   "metadata": {},
   "outputs": [],
   "source": []
  },
  {
   "cell_type": "code",
   "execution_count": null,
   "id": "557ebcd3",
   "metadata": {},
   "outputs": [],
   "source": []
  },
  {
   "cell_type": "code",
   "execution_count": null,
   "id": "8d14b482",
   "metadata": {},
   "outputs": [],
   "source": []
  },
  {
   "cell_type": "code",
   "execution_count": null,
   "id": "6800b79c",
   "metadata": {},
   "outputs": [],
   "source": []
  }
 ],
 "metadata": {
  "kernelspec": {
   "display_name": "metakb",
   "language": "python",
   "name": "metakb"
  },
  "language_info": {
   "codemirror_mode": {
    "name": "ipython",
    "version": 3
   },
   "file_extension": ".py",
   "mimetype": "text/x-python",
   "name": "python",
   "nbconvert_exporter": "python",
   "pygments_lexer": "ipython3",
   "version": "3.9.9"
  }
 },
 "nbformat": 4,
 "nbformat_minor": 5
}
