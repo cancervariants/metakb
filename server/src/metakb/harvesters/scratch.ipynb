{
 "cells": [
  {
   "cell_type": "code",
   "execution_count": 1,
   "metadata": {},
   "outputs": [
    {
     "name": "stdout",
     "output_type": "stream",
     "text": [
      "200\n",
      "Downloaded es_dfarber_broad_2014.tar.gz\n",
      "Extracted to: es_dfarber_broad_2014_extracted\n"
     ]
    }
   ],
   "source": [
    "from os import environ\n",
    "\n",
    "environ[\"AWS_ACCESS_KEY_ID\"]=\"dummy\"\n",
    "environ[\"AWS_SECRET_ACCESS_KEY\"]=\"dummy\"\n",
    "environ[\"AWS_SESSION_TOKEN\"]=\"dummy\"\n",
    "environ[\"SEQREPO_ROOT_DIR\"]=\"/usr/local/share/seqrepo/2024-12-20\"\n",
    "\n",
    "import metakb.harvesters.cbioportal as cbph\n",
    "import metakb.transformers.cbioportal as cbpt\n",
    "import pandas as pd\n",
    "\n",
    "from ga4gh.core.models import (\n",
    "    Coding,\n",
    "    ConceptMapping,\n",
    "    Extension,\n",
    "    MappableConcept,\n",
    "    Relation,\n",
    ")"
   ]
  },
  {
   "cell_type": "code",
   "execution_count": 2,
   "metadata": {},
   "outputs": [],
   "source": [
    "# Run while inside the harvesters directory\n",
    "# f = cbph.cBioportalHarvester()\n",
    "# data = f.harvest()\n",
    "# g = cbpt.cBioportalTransformer()\n",
    "# df = g.transform(data)"
   ]
  },
  {
   "cell_type": "code",
   "execution_count": 3,
   "metadata": {},
   "outputs": [],
   "source": [
    "# df.to_excel('test_file.xlsx')"
   ]
  },
  {
   "cell_type": "markdown",
   "metadata": {},
   "source": [
    "## MappableConcept\n",
    "Now with the data from the cBioportal harvester + transformer, we can start writing a loop to get variant data processed"
   ]
  },
  {
   "cell_type": "code",
   "execution_count": 4,
   "metadata": {},
   "outputs": [
    {
     "data": {
      "text/html": [
       "<div>\n",
       "<style scoped>\n",
       "    .dataframe tbody tr th:only-of-type {\n",
       "        vertical-align: middle;\n",
       "    }\n",
       "\n",
       "    .dataframe tbody tr th {\n",
       "        vertical-align: top;\n",
       "    }\n",
       "\n",
       "    .dataframe thead th {\n",
       "        text-align: right;\n",
       "    }\n",
       "</style>\n",
       "<table border=\"1\" class=\"dataframe\">\n",
       "  <thead>\n",
       "    <tr style=\"text-align: right;\">\n",
       "      <th></th>\n",
       "      <th>Hugo_Symbol</th>\n",
       "      <th>Chromosome</th>\n",
       "      <th>Start_Position</th>\n",
       "      <th>End_Position</th>\n",
       "      <th>Consequence</th>\n",
       "      <th>Variant_Classification</th>\n",
       "      <th>Variant_Type</th>\n",
       "      <th>Reference_Allele</th>\n",
       "      <th>Tumor_Seq_Allele2</th>\n",
       "      <th>SAMPLE_ID</th>\n",
       "      <th>...</th>\n",
       "      <th>temp_Gnomad_Notation</th>\n",
       "      <th>Chrom_23</th>\n",
       "      <th>Chr23_X</th>\n",
       "      <th>Chr23_Y</th>\n",
       "      <th>x_hgnc_id</th>\n",
       "      <th>y_hgnc_id</th>\n",
       "      <th>ambig_chrom</th>\n",
       "      <th>gene_hgnc_id</th>\n",
       "      <th>hgnc_id_match</th>\n",
       "      <th>Gnomad_Notation</th>\n",
       "    </tr>\n",
       "  </thead>\n",
       "  <tbody>\n",
       "    <tr>\n",
       "      <th>0</th>\n",
       "      <td>ETFDH</td>\n",
       "      <td>4</td>\n",
       "      <td>159603535</td>\n",
       "      <td>159603535</td>\n",
       "      <td>missense_variant</td>\n",
       "      <td>Missense_Mutation</td>\n",
       "      <td>SNP</td>\n",
       "      <td>G</td>\n",
       "      <td>C</td>\n",
       "      <td>SJDES004</td>\n",
       "      <td>...</td>\n",
       "      <td>4-159603535-G-C</td>\n",
       "      <td>False</td>\n",
       "      <td>False</td>\n",
       "      <td>False</td>\n",
       "      <td>no_value</td>\n",
       "      <td>no_value</td>\n",
       "      <td>non-ambiguous</td>\n",
       "      <td>untested</td>\n",
       "      <td>untested</td>\n",
       "      <td>4-159603535-G-C</td>\n",
       "    </tr>\n",
       "    <tr>\n",
       "      <th>1</th>\n",
       "      <td>GJB4</td>\n",
       "      <td>1</td>\n",
       "      <td>35227334</td>\n",
       "      <td>35227334</td>\n",
       "      <td>missense_variant</td>\n",
       "      <td>Missense_Mutation</td>\n",
       "      <td>SNP</td>\n",
       "      <td>G</td>\n",
       "      <td>A</td>\n",
       "      <td>SJDES004</td>\n",
       "      <td>...</td>\n",
       "      <td>1-35227334-G-A</td>\n",
       "      <td>False</td>\n",
       "      <td>False</td>\n",
       "      <td>False</td>\n",
       "      <td>no_value</td>\n",
       "      <td>no_value</td>\n",
       "      <td>non-ambiguous</td>\n",
       "      <td>untested</td>\n",
       "      <td>untested</td>\n",
       "      <td>1-35227334-G-A</td>\n",
       "    </tr>\n",
       "    <tr>\n",
       "      <th>2</th>\n",
       "      <td>MUC5B</td>\n",
       "      <td>11</td>\n",
       "      <td>1272679</td>\n",
       "      <td>1272679</td>\n",
       "      <td>missense_variant</td>\n",
       "      <td>Missense_Mutation</td>\n",
       "      <td>SNP</td>\n",
       "      <td>G</td>\n",
       "      <td>A</td>\n",
       "      <td>SJDES004</td>\n",
       "      <td>...</td>\n",
       "      <td>11-1272679-G-A</td>\n",
       "      <td>False</td>\n",
       "      <td>False</td>\n",
       "      <td>False</td>\n",
       "      <td>no_value</td>\n",
       "      <td>no_value</td>\n",
       "      <td>non-ambiguous</td>\n",
       "      <td>untested</td>\n",
       "      <td>untested</td>\n",
       "      <td>11-1272679-G-A</td>\n",
       "    </tr>\n",
       "    <tr>\n",
       "      <th>3</th>\n",
       "      <td>PCDHAC1</td>\n",
       "      <td>5</td>\n",
       "      <td>140307515</td>\n",
       "      <td>140307515</td>\n",
       "      <td>synonymous_variant</td>\n",
       "      <td>Silent</td>\n",
       "      <td>SNP</td>\n",
       "      <td>G</td>\n",
       "      <td>A</td>\n",
       "      <td>SJDES004</td>\n",
       "      <td>...</td>\n",
       "      <td>5-140307515-G-A</td>\n",
       "      <td>False</td>\n",
       "      <td>False</td>\n",
       "      <td>False</td>\n",
       "      <td>no_value</td>\n",
       "      <td>no_value</td>\n",
       "      <td>non-ambiguous</td>\n",
       "      <td>untested</td>\n",
       "      <td>untested</td>\n",
       "      <td>5-140307515-G-A</td>\n",
       "    </tr>\n",
       "    <tr>\n",
       "      <th>4</th>\n",
       "      <td>YAP1</td>\n",
       "      <td>11</td>\n",
       "      <td>102080254</td>\n",
       "      <td>102080254</td>\n",
       "      <td>missense_variant</td>\n",
       "      <td>Missense_Mutation</td>\n",
       "      <td>SNP</td>\n",
       "      <td>C</td>\n",
       "      <td>T</td>\n",
       "      <td>SJDES004</td>\n",
       "      <td>...</td>\n",
       "      <td>11-102080254-C-T</td>\n",
       "      <td>False</td>\n",
       "      <td>False</td>\n",
       "      <td>False</td>\n",
       "      <td>no_value</td>\n",
       "      <td>no_value</td>\n",
       "      <td>non-ambiguous</td>\n",
       "      <td>untested</td>\n",
       "      <td>untested</td>\n",
       "      <td>11-102080254-C-T</td>\n",
       "    </tr>\n",
       "  </tbody>\n",
       "</table>\n",
       "<p>5 rows × 37 columns</p>\n",
       "</div>"
      ],
      "text/plain": [
       "  Hugo_Symbol Chromosome  Start_Position  End_Position         Consequence  \\\n",
       "0       ETFDH          4       159603535     159603535    missense_variant   \n",
       "1        GJB4          1        35227334      35227334    missense_variant   \n",
       "2       MUC5B         11         1272679       1272679    missense_variant   \n",
       "3     PCDHAC1          5       140307515     140307515  synonymous_variant   \n",
       "4        YAP1         11       102080254     102080254    missense_variant   \n",
       "\n",
       "  Variant_Classification Variant_Type Reference_Allele Tumor_Seq_Allele2  \\\n",
       "0      Missense_Mutation          SNP                G                 C   \n",
       "1      Missense_Mutation          SNP                G                 A   \n",
       "2      Missense_Mutation          SNP                G                 A   \n",
       "3                 Silent          SNP                G                 A   \n",
       "4      Missense_Mutation          SNP                C                 T   \n",
       "\n",
       "  SAMPLE_ID  ... temp_Gnomad_Notation Chrom_23 Chr23_X Chr23_Y x_hgnc_id  \\\n",
       "0  SJDES004  ...      4-159603535-G-C    False   False   False  no_value   \n",
       "1  SJDES004  ...       1-35227334-G-A    False   False   False  no_value   \n",
       "2  SJDES004  ...       11-1272679-G-A    False   False   False  no_value   \n",
       "3  SJDES004  ...      5-140307515-G-A    False   False   False  no_value   \n",
       "4  SJDES004  ...     11-102080254-C-T    False   False   False  no_value   \n",
       "\n",
       "  y_hgnc_id    ambig_chrom gene_hgnc_id hgnc_id_match   Gnomad_Notation  \n",
       "0  no_value  non-ambiguous     untested      untested   4-159603535-G-C  \n",
       "1  no_value  non-ambiguous     untested      untested    1-35227334-G-A  \n",
       "2  no_value  non-ambiguous     untested      untested    11-1272679-G-A  \n",
       "3  no_value  non-ambiguous     untested      untested   5-140307515-G-A  \n",
       "4  no_value  non-ambiguous     untested      untested  11-102080254-C-T  \n",
       "\n",
       "[5 rows x 37 columns]"
      ]
     },
     "execution_count": 4,
     "metadata": {},
     "output_type": "execute_result"
    }
   ],
   "source": [
    "df = pd.read_excel('test_file.xlsx',index_col=0)\n",
    "df.head()"
   ]
  },
  {
   "cell_type": "code",
   "execution_count": 5,
   "metadata": {},
   "outputs": [
    {
     "data": {
      "text/plain": [
       "gene_hgnc_id\n",
       "untested    11427\n",
       "674             2\n",
       "685             2\n",
       "6809            2\n",
       "24358           1\n",
       "10984           1\n",
       "11079           1\n",
       "11123           1\n",
       "11271           1\n",
       "11335           1\n",
       "30681           1\n",
       "11600           1\n",
       "24553           1\n",
       "3051            1\n",
       "12632           1\n",
       "12609           1\n",
       "25117           1\n",
       "11486           1\n",
       "12667           1\n",
       "31838           1\n",
       "29237           1\n",
       "12823           1\n",
       "447             1\n",
       "29377           1\n",
       "12976           1\n",
       "25955           1\n",
       "10923           1\n",
       "9959            1\n",
       "29245           1\n",
       "4839            1\n",
       "24009           1\n",
       "28509           1\n",
       "1079            1\n",
       "2435            1\n",
       "2928            1\n",
       "20794           1\n",
       "4283            1\n",
       "4691            1\n",
       "32979           1\n",
       "30892           1\n",
       "15805           1\n",
       "11114           1\n",
       "6808            1\n",
       "31689           1\n",
       "11957           1\n",
       "23485           1\n",
       "19374           1\n",
       "22982           1\n",
       "18743           1\n",
       "9896            1\n",
       "21039           1\n",
       "Name: count, dtype: int64"
      ]
     },
     "execution_count": 5,
     "metadata": {},
     "output_type": "execute_result"
    }
   ],
   "source": [
    "df[\"gene_hgnc_id\"].value_counts()"
   ]
  },
  {
   "cell_type": "code",
   "execution_count": 6,
   "metadata": {},
   "outputs": [
    {
     "name": "stdout",
     "output_type": "stream",
     "text": [
      "Hugo_Symbol: ETFDH\n",
      "Chromosome: 4\n",
      "Start_Position: 159603535\n",
      "End_Position: 159603535\n",
      "Consequence: missense_variant\n",
      "Variant_Classification: Missense_Mutation\n",
      "Variant_Type: SNP\n",
      "Reference_Allele: G\n",
      "Tumor_Seq_Allele2: C\n",
      "SAMPLE_ID: SJDES004\n",
      "Sequence_Source: WXS\n",
      "HGVSc: ENST00000511912.1:c.364G>C\n",
      "HGVSp: p.Gly122Arg\n",
      "HGVSp_Short: p.G122R\n",
      "Transcript_ID: ENST00000511912\n",
      "RefSeq: NM_004453.2\n",
      "Protein_position: 122\n",
      "PATIENT_ID: SJDES004\n",
      "SAMPLE_CLASS: Tumor\n",
      "ONCOTREE_CODE: ES\n",
      "CANCER_TYPE: Bone Cancer\n",
      "CANCER_TYPE_DETAILED: Ewing Sarcoma\n",
      "TMB_NONSYNONYMOUS: 0.3\n",
      "AGE: 15\n",
      "SEX: Male\n",
      "ETHNICITY: White/Europe\n",
      "STUDY_ID: es_dfarber_broad_2014\n",
      "temp_Gnomad_Notation: 4-159603535-G-C\n",
      "Chrom_23: False\n",
      "Chr23_X: False\n",
      "Chr23_Y: False\n",
      "x_hgnc_id: no_value\n",
      "y_hgnc_id: no_value\n",
      "ambig_chrom: non-ambiguous\n",
      "gene_hgnc_id: untested\n",
      "hgnc_id_match: untested\n",
      "Gnomad_Notation: 4-159603535-G-C\n"
     ]
    }
   ],
   "source": [
    "for key in df.keys():\n",
    "    print(f'{key}: {df[key][0]}')\n"
   ]
  },
  {
   "cell_type": "code",
   "execution_count": 7,
   "metadata": {},
   "outputs": [
    {
     "name": "stderr",
     "output_type": "stream",
     "text": [
      "50it [00:06,  7.23it/s]"
     ]
    },
    {
     "name": "stdout",
     "output_type": "stream",
     "text": [
      "[[ConceptMapping(id=None, extensions=None, coding=Coding(id='ga4gh:VA.A_KHwjPFBBTw2J2AwTbiEDYA1AZM0-T0', extensions=None, name=None, system='https://www.cbioportal.org/', systemVersion=None, code=code(root='ga4gh:VA.A_KHwjPFBBTw2J2AwTbiEDYA1AZM0-T0'), iris=None), relation='exactMatch')], [ConceptMapping(id=None, extensions=None, coding=Coding(id='ga4gh:VA.lHm5O2TRaxF1tYvxutOofpC40WTjGHea', extensions=None, name=None, system='https://www.cbioportal.org/', systemVersion=None, code=code(root='ga4gh:VA.lHm5O2TRaxF1tYvxutOofpC40WTjGHea'), iris=None), relation='exactMatch')], [ConceptMapping(id=None, extensions=None, coding=Coding(id='ga4gh:VA.F5cXKsHFc7TKvrcysBAzSUIWzve89eoT', extensions=None, name=None, system='https://www.cbioportal.org/', systemVersion=None, code=code(root='ga4gh:VA.F5cXKsHFc7TKvrcysBAzSUIWzve89eoT'), iris=None), relation='exactMatch')], [ConceptMapping(id=None, extensions=None, coding=Coding(id='ga4gh:VA.8mB3IFMdAVHOn0Pv5sZbijYClEXZhJPi', extensions=None, name=None, system='https://www.cbioportal.org/', systemVersion=None, code=code(root='ga4gh:VA.8mB3IFMdAVHOn0Pv5sZbijYClEXZhJPi'), iris=None), relation='exactMatch')], [ConceptMapping(id=None, extensions=None, coding=Coding(id='ga4gh:VA.xd_6nCuCXrXsaMHFWQQq8ojnZN3uEVGz', extensions=None, name=None, system='https://www.cbioportal.org/', systemVersion=None, code=code(root='ga4gh:VA.xd_6nCuCXrXsaMHFWQQq8ojnZN3uEVGz'), iris=None), relation='exactMatch')], [ConceptMapping(id=None, extensions=None, coding=Coding(id='ga4gh:VA.AwqvUIJJBdNlBmMih3oDoUD8q3HsEvb8', extensions=None, name=None, system='https://www.cbioportal.org/', systemVersion=None, code=code(root='ga4gh:VA.AwqvUIJJBdNlBmMih3oDoUD8q3HsEvb8'), iris=None), relation='exactMatch')], [ConceptMapping(id=None, extensions=None, coding=Coding(id='ga4gh:VA.VF4si6MFFbVmp4cVl9OXv43eneeNa7SQ', extensions=None, name=None, system='https://www.cbioportal.org/', systemVersion=None, code=code(root='ga4gh:VA.VF4si6MFFbVmp4cVl9OXv43eneeNa7SQ'), iris=None), relation='exactMatch')], [ConceptMapping(id=None, extensions=None, coding=Coding(id='ga4gh:VA.3GLUdQnCwbpq08yiTgvgSskgx2RqfYFR', extensions=None, name=None, system='https://www.cbioportal.org/', systemVersion=None, code=code(root='ga4gh:VA.3GLUdQnCwbpq08yiTgvgSskgx2RqfYFR'), iris=None), relation='exactMatch')], [ConceptMapping(id=None, extensions=None, coding=Coding(id='ga4gh:VA.rC-yRKRvR-H0Rqc0moLUOl7mxQXy5FJO', extensions=None, name=None, system='https://www.cbioportal.org/', systemVersion=None, code=code(root='ga4gh:VA.rC-yRKRvR-H0Rqc0moLUOl7mxQXy5FJO'), iris=None), relation='exactMatch')], [ConceptMapping(id=None, extensions=None, coding=Coding(id='ga4gh:VA.zfbzys-v0WB9d5_x02-q2ktrs3ZGUsvR', extensions=None, name=None, system='https://www.cbioportal.org/', systemVersion=None, code=code(root='ga4gh:VA.zfbzys-v0WB9d5_x02-q2ktrs3ZGUsvR'), iris=None), relation='exactMatch')], [ConceptMapping(id=None, extensions=None, coding=Coding(id='ga4gh:VA.DhoikWQkxzQkai9-pJyfBhrxNfzJpnx1', extensions=None, name=None, system='https://www.cbioportal.org/', systemVersion=None, code=code(root='ga4gh:VA.DhoikWQkxzQkai9-pJyfBhrxNfzJpnx1'), iris=None), relation='exactMatch')], [ConceptMapping(id=None, extensions=None, coding=Coding(id='ga4gh:VA.KyOSOeWTcIkYVjNBMxrU4zQYNDXqFhiy', extensions=None, name=None, system='https://www.cbioportal.org/', systemVersion=None, code=code(root='ga4gh:VA.KyOSOeWTcIkYVjNBMxrU4zQYNDXqFhiy'), iris=None), relation='exactMatch')], [ConceptMapping(id=None, extensions=None, coding=Coding(id='ga4gh:VA.Puvuw3qV6BUglnMG24660e8uTscaTh3w', extensions=None, name=None, system='https://www.cbioportal.org/', systemVersion=None, code=code(root='ga4gh:VA.Puvuw3qV6BUglnMG24660e8uTscaTh3w'), iris=None), relation='exactMatch')], [ConceptMapping(id=None, extensions=None, coding=Coding(id='ga4gh:VA.gU9go4j88SXWcc3odrLVdbZ4xFSTiUmu', extensions=None, name=None, system='https://www.cbioportal.org/', systemVersion=None, code=code(root='ga4gh:VA.gU9go4j88SXWcc3odrLVdbZ4xFSTiUmu'), iris=None), relation='exactMatch')], [ConceptMapping(id=None, extensions=None, coding=Coding(id='ga4gh:VA.QURaYKLLHJY-pSDcR7RFbWXr3c3mwqpd', extensions=None, name=None, system='https://www.cbioportal.org/', systemVersion=None, code=code(root='ga4gh:VA.QURaYKLLHJY-pSDcR7RFbWXr3c3mwqpd'), iris=None), relation='exactMatch')], [ConceptMapping(id=None, extensions=None, coding=Coding(id='ga4gh:VA.Hp6tU0tpkdyzAT7bYv7tqL20l3jBlDwN', extensions=None, name=None, system='https://www.cbioportal.org/', systemVersion=None, code=code(root='ga4gh:VA.Hp6tU0tpkdyzAT7bYv7tqL20l3jBlDwN'), iris=None), relation='exactMatch')], [ConceptMapping(id=None, extensions=None, coding=Coding(id='ga4gh:VA.W2cmaRR0a46g1JaWBU6uQQve5OD8Pn5W', extensions=None, name=None, system='https://www.cbioportal.org/', systemVersion=None, code=code(root='ga4gh:VA.W2cmaRR0a46g1JaWBU6uQQve5OD8Pn5W'), iris=None), relation='exactMatch')], [ConceptMapping(id=None, extensions=None, coding=Coding(id='ga4gh:VA.fZIkoPWPE2FbTivggvvU8h6DsqjZqfiF', extensions=None, name=None, system='https://www.cbioportal.org/', systemVersion=None, code=code(root='ga4gh:VA.fZIkoPWPE2FbTivggvvU8h6DsqjZqfiF'), iris=None), relation='exactMatch')], [ConceptMapping(id=None, extensions=None, coding=Coding(id='ga4gh:VA.q3om4suwQS_kVakPVIQdRbpSRgNk5xtw', extensions=None, name=None, system='https://www.cbioportal.org/', systemVersion=None, code=code(root='ga4gh:VA.q3om4suwQS_kVakPVIQdRbpSRgNk5xtw'), iris=None), relation='exactMatch')], [ConceptMapping(id=None, extensions=None, coding=Coding(id='ga4gh:VA.S4Ed33-55VLSK9CP_thda-9IwjH1e5d4', extensions=None, name=None, system='https://www.cbioportal.org/', systemVersion=None, code=code(root='ga4gh:VA.S4Ed33-55VLSK9CP_thda-9IwjH1e5d4'), iris=None), relation='exactMatch')], [ConceptMapping(id=None, extensions=None, coding=Coding(id='ga4gh:VA.ZX8xdjUNsBKZR19rK7MFLZKBPR1rOVH2', extensions=None, name=None, system='https://www.cbioportal.org/', systemVersion=None, code=code(root='ga4gh:VA.ZX8xdjUNsBKZR19rK7MFLZKBPR1rOVH2'), iris=None), relation='exactMatch')], [ConceptMapping(id=None, extensions=None, coding=Coding(id='ga4gh:VA.s8t8xiFRSruGnV7OCKDN0A3zYEl923nf', extensions=None, name=None, system='https://www.cbioportal.org/', systemVersion=None, code=code(root='ga4gh:VA.s8t8xiFRSruGnV7OCKDN0A3zYEl923nf'), iris=None), relation='exactMatch')], [ConceptMapping(id=None, extensions=None, coding=Coding(id='ga4gh:VA.v7pp19wXt1yuGZOGlNa-slKwAunRCEGO', extensions=None, name=None, system='https://www.cbioportal.org/', systemVersion=None, code=code(root='ga4gh:VA.v7pp19wXt1yuGZOGlNa-slKwAunRCEGO'), iris=None), relation='exactMatch')], [ConceptMapping(id=None, extensions=None, coding=Coding(id='ga4gh:VA.ka0kSHImNGA_hoB2nUESwB9QlwTMT_aN', extensions=None, name=None, system='https://www.cbioportal.org/', systemVersion=None, code=code(root='ga4gh:VA.ka0kSHImNGA_hoB2nUESwB9QlwTMT_aN'), iris=None), relation='exactMatch')], [ConceptMapping(id=None, extensions=None, coding=Coding(id='ga4gh:VA.8EsnTUHhxGjs_t8WRfWpbOBsuMlMx8gy', extensions=None, name=None, system='https://www.cbioportal.org/', systemVersion=None, code=code(root='ga4gh:VA.8EsnTUHhxGjs_t8WRfWpbOBsuMlMx8gy'), iris=None), relation='exactMatch')], [ConceptMapping(id=None, extensions=None, coding=Coding(id='ga4gh:VA.Ye4b5-k_MQBiKenokc_8hJ38zeqGs7wH', extensions=None, name=None, system='https://www.cbioportal.org/', systemVersion=None, code=code(root='ga4gh:VA.Ye4b5-k_MQBiKenokc_8hJ38zeqGs7wH'), iris=None), relation='exactMatch')], [ConceptMapping(id=None, extensions=None, coding=Coding(id='ga4gh:VA.2xuy7RQfkWlX4H03t5Km2UIcr8R66gJf', extensions=None, name=None, system='https://www.cbioportal.org/', systemVersion=None, code=code(root='ga4gh:VA.2xuy7RQfkWlX4H03t5Km2UIcr8R66gJf'), iris=None), relation='exactMatch')], [ConceptMapping(id=None, extensions=None, coding=Coding(id='ga4gh:VA.1622ONelhfEq3JDzKP2TbF4WDjzu1Tl9', extensions=None, name=None, system='https://www.cbioportal.org/', systemVersion=None, code=code(root='ga4gh:VA.1622ONelhfEq3JDzKP2TbF4WDjzu1Tl9'), iris=None), relation='exactMatch')], [ConceptMapping(id=None, extensions=None, coding=Coding(id='ga4gh:VA.XWwPwW4jJTnb9lbfkv96QdUZVfdOF-VS', extensions=None, name=None, system='https://www.cbioportal.org/', systemVersion=None, code=code(root='ga4gh:VA.XWwPwW4jJTnb9lbfkv96QdUZVfdOF-VS'), iris=None), relation='exactMatch')], [ConceptMapping(id=None, extensions=None, coding=Coding(id='ga4gh:VA.5LnoW-LRnNv8Kd9aXsMLafKH7MOY4lB0', extensions=None, name=None, system='https://www.cbioportal.org/', systemVersion=None, code=code(root='ga4gh:VA.5LnoW-LRnNv8Kd9aXsMLafKH7MOY4lB0'), iris=None), relation='exactMatch')], [ConceptMapping(id=None, extensions=None, coding=Coding(id='Error with 11-67021012-TCTTC--', extensions=None, name=None, system='https://www.cbioportal.org/', systemVersion=None, code=code(root='Error with 11-67021012-TCTTC--'), iris=None), relation='exactMatch')], [ConceptMapping(id=None, extensions=None, coding=Coding(id='Error with 13-45580365-GAT--', extensions=None, name=None, system='https://www.cbioportal.org/', systemVersion=None, code=code(root='Error with 13-45580365-GAT--'), iris=None), relation='exactMatch')], [ConceptMapping(id=None, extensions=None, coding=Coding(id='ga4gh:VA.OtROpoZl4KRJGLQJan1LHVioxuGXIddT', extensions=None, name=None, system='https://www.cbioportal.org/', systemVersion=None, code=code(root='ga4gh:VA.OtROpoZl4KRJGLQJan1LHVioxuGXIddT'), iris=None), relation='exactMatch')], [ConceptMapping(id=None, extensions=None, coding=Coding(id='ga4gh:VA.TMy1KPxcCe27Xdh0MR1-KKnFo1LSWhit', extensions=None, name=None, system='https://www.cbioportal.org/', systemVersion=None, code=code(root='ga4gh:VA.TMy1KPxcCe27Xdh0MR1-KKnFo1LSWhit'), iris=None), relation='exactMatch')], [ConceptMapping(id=None, extensions=None, coding=Coding(id='ga4gh:VA.DQhlScotEVoFa6LSPIq7m_vwo-uG4mg2', extensions=None, name=None, system='https://www.cbioportal.org/', systemVersion=None, code=code(root='ga4gh:VA.DQhlScotEVoFa6LSPIq7m_vwo-uG4mg2'), iris=None), relation='exactMatch')], [ConceptMapping(id=None, extensions=None, coding=Coding(id='Error with 4-140811064-TGCTGCTGC--', extensions=None, name=None, system='https://www.cbioportal.org/', systemVersion=None, code=code(root='Error with 4-140811064-TGCTGCTGC--'), iris=None), relation='exactMatch')], [ConceptMapping(id=None, extensions=None, coding=Coding(id='Error with 12-57919302-T--', extensions=None, name=None, system='https://www.cbioportal.org/', systemVersion=None, code=code(root='Error with 12-57919302-T--'), iris=None), relation='exactMatch')], [ConceptMapping(id=None, extensions=None, coding=Coding(id='Error with 1-237024474-A--', extensions=None, name=None, system='https://www.cbioportal.org/', systemVersion=None, code=code(root='Error with 1-237024474-A--'), iris=None), relation='exactMatch')], [ConceptMapping(id=None, extensions=None, coding=Coding(id='ga4gh:VA.A4_VPE4gVjl-FTgR_vLRslhLDVutL4WD', extensions=None, name=None, system='https://www.cbioportal.org/', systemVersion=None, code=code(root='ga4gh:VA.A4_VPE4gVjl-FTgR_vLRslhLDVutL4WD'), iris=None), relation='exactMatch')], [ConceptMapping(id=None, extensions=None, coding=Coding(id='ga4gh:VA.RqBmr4uwtDlBgwHG7jGuZ9kKzuabi9Zv', extensions=None, name=None, system='https://www.cbioportal.org/', systemVersion=None, code=code(root='ga4gh:VA.RqBmr4uwtDlBgwHG7jGuZ9kKzuabi9Zv'), iris=None), relation='exactMatch')], [ConceptMapping(id=None, extensions=None, coding=Coding(id='ga4gh:VA.FEYFEI-zMqJnHISwyajaxwIqc2FMLE7x', extensions=None, name=None, system='https://www.cbioportal.org/', systemVersion=None, code=code(root='ga4gh:VA.FEYFEI-zMqJnHISwyajaxwIqc2FMLE7x'), iris=None), relation='exactMatch')], [ConceptMapping(id=None, extensions=None, coding=Coding(id='ga4gh:VA.iShTmIU108ZCDQ7_NW_jLORo-caEF-Eq', extensions=None, name=None, system='https://www.cbioportal.org/', systemVersion=None, code=code(root='ga4gh:VA.iShTmIU108ZCDQ7_NW_jLORo-caEF-Eq'), iris=None), relation='exactMatch')], [ConceptMapping(id=None, extensions=None, coding=Coding(id='Error with 10-46969401-CAG--', extensions=None, name=None, system='https://www.cbioportal.org/', systemVersion=None, code=code(root='Error with 10-46969401-CAG--'), iris=None), relation='exactMatch')], [ConceptMapping(id=None, extensions=None, coding=Coding(id='ga4gh:VA.5o9mkgHNkTSH7ngMAr4H-A8pcv4FtWhS', extensions=None, name=None, system='https://www.cbioportal.org/', systemVersion=None, code=code(root='ga4gh:VA.5o9mkgHNkTSH7ngMAr4H-A8pcv4FtWhS'), iris=None), relation='exactMatch')], [ConceptMapping(id=None, extensions=None, coding=Coding(id='Error with 17-56056586---TGT', extensions=None, name=None, system='https://www.cbioportal.org/', systemVersion=None, code=code(root='Error with 17-56056586---TGT'), iris=None), relation='exactMatch')], [ConceptMapping(id=None, extensions=None, coding=Coding(id='ga4gh:VA.Lr7pCv1598p1JWi7WntGm1hl4HEXgBjA', extensions=None, name=None, system='https://www.cbioportal.org/', systemVersion=None, code=code(root='ga4gh:VA.Lr7pCv1598p1JWi7WntGm1hl4HEXgBjA'), iris=None), relation='exactMatch')], [ConceptMapping(id=None, extensions=None, coding=Coding(id='Error with 12-72057256-GCT--', extensions=None, name=None, system='https://www.cbioportal.org/', systemVersion=None, code=code(root='Error with 12-72057256-GCT--'), iris=None), relation='exactMatch')], [ConceptMapping(id=None, extensions=None, coding=Coding(id='ga4gh:VA.f43poWc6szGlGMqr2RC_xCUNKL5x7H1t', extensions=None, name=None, system='https://www.cbioportal.org/', systemVersion=None, code=code(root='ga4gh:VA.f43poWc6szGlGMqr2RC_xCUNKL5x7H1t'), iris=None), relation='exactMatch')], [ConceptMapping(id=None, extensions=None, coding=Coding(id='ga4gh:VA.j4ag0T4aJDfTzWjFjT2xgN9cF09x4EAa', extensions=None, name=None, system='https://www.cbioportal.org/', systemVersion=None, code=code(root='ga4gh:VA.j4ag0T4aJDfTzWjFjT2xgN9cF09x4EAa'), iris=None), relation='exactMatch')], [ConceptMapping(id=None, extensions=None, coding=Coding(id='ga4gh:VA.ijmmVdDcPm-AvDVr94F9tNJnC61pvkEk', extensions=None, name=None, system='https://www.cbioportal.org/', systemVersion=None, code=code(root='ga4gh:VA.ijmmVdDcPm-AvDVr94F9tNJnC61pvkEk'), iris=None), relation='exactMatch')]]\n"
     ]
    },
    {
     "name": "stderr",
     "output_type": "stream",
     "text": [
      "\n"
     ]
    }
   ],
   "source": [
    "import requests\n",
    "from tqdm import tqdm\n",
    "from ga4gh.core.models import (\n",
    "    Coding,\n",
    "    ConceptMapping,\n",
    "    Extension,\n",
    "    MappableConcept,\n",
    "    Relation,\n",
    ")\n",
    "\n",
    "all_mappings = []\n",
    "\n",
    "base_url = 'https://normalize.cancervariants.org/variation/to_vrs?q=' # 4-159603535-G-C\n",
    "for idx, row in tqdm(df[0:50].iterrows()):\n",
    "    variant_of_interest = row['Gnomad_Notation']\n",
    "    var_url = base_url + variant_of_interest\n",
    "    r = requests.get(var_url)   \n",
    "    if r.status_code == 200:\n",
    "        try:\n",
    "            vrs_id = r.json()['variations'][0]['id'] \n",
    "        except:\n",
    "            vrs_id = f'Error with {variant_of_interest}'\n",
    "    else:\n",
    "        vrs_id = 'Not Found'\n",
    "\n",
    "    mappings = [\n",
    "                ConceptMapping(\n",
    "                    coding=Coding(\n",
    "                        id=vrs_id,\n",
    "                        code=str(vrs_id),\n",
    "                        system=\"https://www.cbioportal.org/\",\n",
    "                    ),\n",
    "                    relation=Relation.EXACT_MATCH,\n",
    "                )\n",
    "            ]\n",
    "    \n",
    "    all_mappings.append(mappings)\n",
    "\n",
    "# Code to convert all mappings to JSON object goes here\n",
    "\n",
    "print(all_mappings)\n",
    "\n"
   ]
  },
  {
   "cell_type": "code",
   "execution_count": 8,
   "metadata": {},
   "outputs": [
    {
     "data": {
      "text/plain": [
       "ga4gh.core.models.ConceptMapping"
      ]
     },
     "execution_count": 8,
     "metadata": {},
     "output_type": "execute_result"
    }
   ],
   "source": [
    "type(mappings[0])"
   ]
  },
  {
   "cell_type": "code",
   "execution_count": 9,
   "metadata": {},
   "outputs": [
    {
     "data": {
      "text/plain": [
       "{'search_term': '16-3340401-C-A',\n",
       " 'warnings': [],\n",
       " 'variations': [{'id': 'ga4gh:VA.ijmmVdDcPm-AvDVr94F9tNJnC61pvkEk',\n",
       "   'type': 'Allele',\n",
       "   'digest': 'ijmmVdDcPm-AvDVr94F9tNJnC61pvkEk',\n",
       "   'location': {'id': 'ga4gh:SL.Wzcz9PAfx1b4LJP_a9B98YB1Wp-K9sxA',\n",
       "    'type': 'SequenceLocation',\n",
       "    'digest': 'Wzcz9PAfx1b4LJP_a9B98YB1Wp-K9sxA',\n",
       "    'sequenceReference': {'type': 'SequenceReference',\n",
       "     'refgetAccession': 'SQ.W6wLoIFOn4G7cjopxPxYNk2lcEqhLQFb'},\n",
       "    'start': 3340400,\n",
       "    'end': 3340401,\n",
       "    'sequence': 'C'},\n",
       "   'state': {'type': 'LiteralSequenceExpression', 'sequence': 'A'}}],\n",
       " 'service_meta_': {'name': 'variation-normalizer',\n",
       "  'version': '0.13.0',\n",
       "  'response_datetime': '2025-09-15T22:08:23.484652Z',\n",
       "  'url': 'https://github.com/cancervariants/variation-normalization'}}"
      ]
     },
     "execution_count": 9,
     "metadata": {},
     "output_type": "execute_result"
    }
   ],
   "source": [
    "r.json() # inspect full response if code == 200"
   ]
  },
  {
   "cell_type": "code",
   "execution_count": 10,
   "metadata": {},
   "outputs": [],
   "source": [
    "def _get_exact_gene_mappings(hgnc_id, gene_symbol: str) -> list[ConceptMapping]:\n",
    "        if not hgnc_id and hgnc_id == \"untested\":\n",
    "            return None\n",
    "\n",
    "        gene_id = f\"hgnc:{hgnc_id}\"\n",
    "\n",
    "        return[\n",
    "            ConceptMapping(\n",
    "                coding=Coding(\n",
    "                    id= gene_id,\n",
    "                    name=gene_symbol,\n",
    "                    code=gene_id.upper(),\n",
    "                    system=\"https://www.genenames.org/data/gene-symbol-report/#!/hgnc_id/\",\n",
    "                ),\n",
    "                relation=Relation.EXACT_MATCH,\n",
    "                extensions= [Extension(name=\"cbioportal_annotation\", value=True)],\n",
    "            )]"
   ]
  },
  {
   "cell_type": "code",
   "execution_count": 16,
   "metadata": {},
   "outputs": [],
   "source": [
    "from typing import List\n",
    "import logging\n",
    "from metakb.transformers.base import Transformer\n",
    "_logger = logging.getLogger(__name__)\n",
    "\n",
    "class CBPTransformer(Transformer):\n",
    "    \"\"\"A \"\"\"\n",
    "    def _create_cache(self):\n",
    "        pass\n",
    "\n",
    "    def _get_therapeutic_substitute_group(self):\n",
    "        pass\n",
    "\n",
    "    def _get_therapy(self):\n",
    "        pass\n",
    "\n",
    "    def transform(self):\n",
    "        pass\n",
    "\n",
    "    def _add_genes(self, genes:list[dict]) -> list:\n",
    "        \"\"\"Create gene objects for all cbioportal records\n",
    "\n",
    "        \"\"\"\n",
    "        transform_genes = []\n",
    "\n",
    "        for gene in genes:\n",
    "            gene_symbol = gene.get(\"Hugo_Symbol\")\n",
    "            hgnc_id = gene.get(\"gene_hgnc_id\")\n",
    "\n",
    "\n",
    "            queries = [hgnc_id, gene_symbol] if hgnc_id and hgnc_id != \"untested\" else [gene_symbol]\n",
    "            extensions = []\n",
    "\n",
    "            normalized_gene_id = None\n",
    "            gene_norm_resp = None\n",
    "\n",
    "            for query in queries:\n",
    "                gene_norm_resp, normalized_gene_id = self.vicc_normalizers.normalize_gene(query)\n",
    "                if normalized_gene_id:\n",
    "                    break\n",
    "\n",
    "            cbp_mappings = _get_exact_gene_mappings(hgnc_id,gene_symbol)\n",
    "\n",
    "            if not normalized_gene_id:\n",
    "                _logger.debug(\n",
    "                    \"Gene Normalizer unable to normalize: using queries %s\",\n",
    "                    queries,\n",
    "                )\n",
    "                mappings = cbp_mappings\n",
    "                extensions.append(self._get_vicc_normalizer_failure_ext())\n",
    "            else:\n",
    "                mappings = self._get_vicc_normalizer_mappings(normalized_gene_id, gene_norm_resp)\n",
    "                #self._update_normalizer_mappings(mappings, _get_exact_gene_mappings) \n",
    "                #TODO: add this back, figure out how\n",
    "\n",
    "            cbp_gene = MappableConcept(\n",
    "                conceptType=\"Gene\",\n",
    "                name=gene_symbol,\n",
    "                mappings=mappings,\n",
    "                extensions=extensions or None,\n",
    "            )\n",
    "            transform_genes.append(cbp_gene)\n",
    "\n",
    "            #self._cache.genes[gene_symbol] = cbp_gene\n",
    "        return transform_genes"
   ]
  },
  {
   "cell_type": "code",
   "execution_count": 18,
   "metadata": {},
   "outputs": [
    {
     "data": {
      "text/plain": [
       "[ConceptMapping(id=None, extensions=[Extension(id=None, extensions=None, name='cbioportal_annotation', value=True, description=None)], coding=Coding(id='hgnc:13056', extensions=None, name='ZNF263', system='https://www.genenames.org/data/gene-symbol-report/#!/hgnc_id/', systemVersion=None, code=code(root='HGNC:13056'), iris=None), relation='exactMatch')]"
      ]
     },
     "execution_count": 18,
     "metadata": {},
     "output_type": "execute_result"
    }
   ],
   "source": [
    "mappings = _get_exact_gene_mappings(\"13056\",\"ZNF263\")\n",
    "mappings"
   ]
  },
  {
   "cell_type": "code",
   "execution_count": 13,
   "metadata": {},
   "outputs": [],
   "source": [
    "genes = df.to_dict(orient='records')\n",
    "sub_genes = genes[0:5]"
   ]
  },
  {
   "cell_type": "code",
   "execution_count": 14,
   "metadata": {},
   "outputs": [
    {
     "name": "stdout",
     "output_type": "stream",
     "text": [
      "***Using Gene Database Endpoint: http://localhost:8000***\n"
     ]
    }
   ],
   "source": [
    "transformer = CBPTransformer()"
   ]
  },
  {
   "cell_type": "code",
   "execution_count": 15,
   "metadata": {},
   "outputs": [
    {
     "data": {
      "text/plain": [
       "[MappableConcept(id=None, extensions=None, conceptType='Gene', name='ETFDH', primaryCoding=None, mappings=[ConceptMapping(id=None, extensions=[Extension(id=None, extensions=None, name='vicc_normalizer_priority', value=True, description=None)], coding=Coding(id='hgnc:3483', extensions=None, name='ETFDH', system='https://www.genenames.org/data/gene-symbol-report/#!/hgnc_id/', systemVersion=None, code=code(root='HGNC:3483'), iris=None), relation='exactMatch'), ConceptMapping(id=None, extensions=[Extension(id=None, extensions=None, name='vicc_normalizer_priority', value=False, description=None)], coding=Coding(id='ncbigene:2110', extensions=None, name=None, system='https://www.ncbi.nlm.nih.gov/gene/', systemVersion=None, code=code(root='2110'), iris=None), relation='exactMatch')]),\n",
       " MappableConcept(id=None, extensions=None, conceptType='Gene', name='GJB4', primaryCoding=None, mappings=[ConceptMapping(id=None, extensions=[Extension(id=None, extensions=None, name='vicc_normalizer_priority', value=True, description=None)], coding=Coding(id='hgnc:4286', extensions=None, name='GJB4', system='https://www.genenames.org/data/gene-symbol-report/#!/hgnc_id/', systemVersion=None, code=code(root='HGNC:4286'), iris=None), relation='exactMatch'), ConceptMapping(id=None, extensions=[Extension(id=None, extensions=None, name='vicc_normalizer_priority', value=False, description=None)], coding=Coding(id='ncbigene:127534', extensions=None, name=None, system='https://www.ncbi.nlm.nih.gov/gene/', systemVersion=None, code=code(root='127534'), iris=None), relation='exactMatch')]),\n",
       " MappableConcept(id=None, extensions=None, conceptType='Gene', name='MUC5B', primaryCoding=None, mappings=[ConceptMapping(id=None, extensions=[Extension(id=None, extensions=None, name='vicc_normalizer_priority', value=True, description=None)], coding=Coding(id='hgnc:7516', extensions=None, name='MUC5B', system='https://www.genenames.org/data/gene-symbol-report/#!/hgnc_id/', systemVersion=None, code=code(root='HGNC:7516'), iris=None), relation='exactMatch'), ConceptMapping(id=None, extensions=[Extension(id=None, extensions=None, name='vicc_normalizer_priority', value=False, description=None)], coding=Coding(id='ncbigene:727897', extensions=None, name=None, system='https://www.ncbi.nlm.nih.gov/gene/', systemVersion=None, code=code(root='727897'), iris=None), relation='exactMatch')]),\n",
       " MappableConcept(id=None, extensions=None, conceptType='Gene', name='PCDHAC1', primaryCoding=None, mappings=[ConceptMapping(id=None, extensions=[Extension(id=None, extensions=None, name='vicc_normalizer_priority', value=True, description=None)], coding=Coding(id='hgnc:8676', extensions=None, name='PCDHAC1', system='https://www.genenames.org/data/gene-symbol-report/#!/hgnc_id/', systemVersion=None, code=code(root='HGNC:8676'), iris=None), relation='exactMatch'), ConceptMapping(id=None, extensions=[Extension(id=None, extensions=None, name='vicc_normalizer_priority', value=False, description=None)], coding=Coding(id='ncbigene:56135', extensions=None, name=None, system='https://www.ncbi.nlm.nih.gov/gene/', systemVersion=None, code=code(root='56135'), iris=None), relation='exactMatch')]),\n",
       " MappableConcept(id=None, extensions=None, conceptType='Gene', name='YAP1', primaryCoding=None, mappings=[ConceptMapping(id=None, extensions=[Extension(id=None, extensions=None, name='vicc_normalizer_priority', value=True, description=None)], coding=Coding(id='hgnc:16262', extensions=None, name='YAP1', system='https://www.genenames.org/data/gene-symbol-report/#!/hgnc_id/', systemVersion=None, code=code(root='HGNC:16262'), iris=None), relation='exactMatch'), ConceptMapping(id=None, extensions=[Extension(id=None, extensions=None, name='vicc_normalizer_priority', value=False, description=None)], coding=Coding(id='ncbigene:10413', extensions=None, name=None, system='https://www.ncbi.nlm.nih.gov/gene/', systemVersion=None, code=code(root='10413'), iris=None), relation='exactMatch')])]"
      ]
     },
     "execution_count": 15,
     "metadata": {},
     "output_type": "execute_result"
    }
   ],
   "source": [
    "transformer._add_genes(sub_genes)"
   ]
  },
  {
   "cell_type": "code",
   "execution_count": null,
   "metadata": {},
   "outputs": [],
   "source": []
  }
 ],
 "metadata": {
  "kernelspec": {
   "display_name": "Python 3",
   "language": "python",
   "name": "python3"
  },
  "language_info": {
   "codemirror_mode": {
    "name": "ipython",
    "version": 3
   },
   "file_extension": ".py",
   "mimetype": "text/x-python",
   "name": "python",
   "nbconvert_exporter": "python",
   "pygments_lexer": "ipython3",
   "version": "3.12.3"
  }
 },
 "nbformat": 4,
 "nbformat_minor": 2
}
