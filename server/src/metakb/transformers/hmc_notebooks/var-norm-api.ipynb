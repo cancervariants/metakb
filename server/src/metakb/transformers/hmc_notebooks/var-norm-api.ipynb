{
 "cells": [
  {
   "cell_type": "code",
   "execution_count": 19,
   "metadata": {},
   "outputs": [],
   "source": [
    "import pandas\n",
    "import requests\n",
    "import json\n",
    "import time"
   ]
  },
  {
   "cell_type": "code",
   "execution_count": 2,
   "metadata": {},
   "outputs": [],
   "source": [
    "gnomad = \"X-153175777-G-A\"\n",
    "\n",
    "url = 'https://normalize.cancervariants.org/variation/'"
   ]
  },
  {
   "cell_type": "code",
   "execution_count": 3,
   "metadata": {},
   "outputs": [
    {
     "data": {
      "text/plain": [
       "{'warnings': [],\n",
       " 'service_meta_': {'name': 'variation-normalizer',\n",
       "  'version': '0.13.0',\n",
       "  'response_datetime': '2025-07-23T20:04:37.385333Z',\n",
       "  'url': 'https://github.com/cancervariants/variation-normalization'},\n",
       " 'variation_query': 'X-153175777-G-A',\n",
       " 'variation': {'id': 'ga4gh:VA.kUy3S3fxa4FggdIGKvXpr9dXx-qKiRVs',\n",
       "  'type': 'Allele',\n",
       "  'extensions': [{'name': 'mane_genes',\n",
       "    'value': [{'ncbi_gene_id': 393,\n",
       "      'hgnc_id': 674,\n",
       "      'symbol': 'ARHGAP4',\n",
       "      'status': ['mane_select']}]}],\n",
       "  'digest': 'kUy3S3fxa4FggdIGKvXpr9dXx-qKiRVs',\n",
       "  'location': {'id': 'ga4gh:SL.k54mk2aSNqL_PKUXY8aXwp_0rd_GJ2_H',\n",
       "   'type': 'SequenceLocation',\n",
       "   'digest': 'k54mk2aSNqL_PKUXY8aXwp_0rd_GJ2_H',\n",
       "   'sequenceReference': {'type': 'SequenceReference',\n",
       "    'refgetAccession': 'SQ.w0WZEvgJF0zf_P4yyTzjjv9oW1z61HHP'},\n",
       "   'start': 153910322,\n",
       "   'end': 153910323,\n",
       "   'sequence': 'G'},\n",
       "  'state': {'type': 'LiteralSequenceExpression', 'sequence': 'A'}}}"
      ]
     },
     "execution_count": 3,
     "metadata": {},
     "output_type": "execute_result"
    }
   ],
   "source": [
    "# https:/normalize.cancervariants.org/variation/normalize?q=x-153223671-C-T\n",
    "BASE_URL = \"https://normalize.cancervariants.org/variation/\"\n",
    "HEADERS = {\"Accept\": \"application/json\"}\n",
    "\n",
    "def test_tokenization(gnomAD):\n",
    "    \"\"\"Fetch gene from VICC variation normalizer\"\"\"\n",
    "    url = f\"{BASE_URL}normalize?q={gnomAD}\"\n",
    "    response = requests.get(url, headers=HEADERS)\n",
    "    if response.status_code == 200:\n",
    "        return response.json()\n",
    "    else:\n",
    "        print(f\"Error {response.status_code}: {response.text}\")\n",
    "        return None\n",
    "\n",
    "r = test_tokenization(\"X-153175777-G-A\")\n",
    "r"
   ]
  },
  {
   "cell_type": "code",
   "execution_count": 12,
   "metadata": {},
   "outputs": [
    {
     "data": {
      "text/plain": [
       "dict_keys(['warnings', 'service_meta_', 'variation_query', 'variation'])"
      ]
     },
     "execution_count": 12,
     "metadata": {},
     "output_type": "execute_result"
    }
   ],
   "source": [
    "r.keys()"
   ]
  },
  {
   "cell_type": "code",
   "execution_count": 13,
   "metadata": {},
   "outputs": [
    {
     "data": {
      "text/plain": [
       "{'id': 'ga4gh:VA.kUy3S3fxa4FggdIGKvXpr9dXx-qKiRVs',\n",
       " 'type': 'Allele',\n",
       " 'extensions': [{'name': 'mane_genes',\n",
       "   'value': [{'ncbi_gene_id': 393,\n",
       "     'hgnc_id': 674,\n",
       "     'symbol': 'ARHGAP4',\n",
       "     'status': ['mane_select']}]}],\n",
       " 'digest': 'kUy3S3fxa4FggdIGKvXpr9dXx-qKiRVs',\n",
       " 'location': {'id': 'ga4gh:SL.k54mk2aSNqL_PKUXY8aXwp_0rd_GJ2_H',\n",
       "  'type': 'SequenceLocation',\n",
       "  'digest': 'k54mk2aSNqL_PKUXY8aXwp_0rd_GJ2_H',\n",
       "  'sequenceReference': {'type': 'SequenceReference',\n",
       "   'refgetAccession': 'SQ.w0WZEvgJF0zf_P4yyTzjjv9oW1z61HHP'},\n",
       "  'start': 153910322,\n",
       "  'end': 153910323,\n",
       "  'sequence': 'G'},\n",
       " 'state': {'type': 'LiteralSequenceExpression', 'sequence': 'A'}}"
      ]
     },
     "execution_count": 13,
     "metadata": {},
     "output_type": "execute_result"
    }
   ],
   "source": [
    "r['variation']"
   ]
  },
  {
   "cell_type": "code",
   "execution_count": 14,
   "metadata": {},
   "outputs": [
    {
     "data": {
      "text/plain": [
       "dict_keys(['id', 'type', 'extensions', 'digest', 'location', 'state'])"
      ]
     },
     "execution_count": 14,
     "metadata": {},
     "output_type": "execute_result"
    }
   ],
   "source": [
    "r['variation'].keys()"
   ]
  },
  {
   "cell_type": "code",
   "execution_count": 15,
   "metadata": {},
   "outputs": [
    {
     "data": {
      "text/plain": [
       "'ga4gh:VA.kUy3S3fxa4FggdIGKvXpr9dXx-qKiRVs'"
      ]
     },
     "execution_count": 15,
     "metadata": {},
     "output_type": "execute_result"
    }
   ],
   "source": [
    "r['variation']['id']"
   ]
  },
  {
   "cell_type": "code",
   "execution_count": 24,
   "metadata": {},
   "outputs": [
    {
     "data": {
      "text/plain": [
       "[{'name': 'mane_genes',\n",
       "  'value': [{'ncbi_gene_id': 393,\n",
       "    'hgnc_id': 674,\n",
       "    'symbol': 'ARHGAP4',\n",
       "    'status': ['mane_select']}]}]"
      ]
     },
     "execution_count": 24,
     "metadata": {},
     "output_type": "execute_result"
    }
   ],
   "source": [
    "r['variation']['extensions']"
   ]
  },
  {
   "cell_type": "code",
   "execution_count": 29,
   "metadata": {},
   "outputs": [
    {
     "name": "stdout",
     "output_type": "stream",
     "text": [
      "ARHGAP4\n"
     ]
    }
   ],
   "source": [
    "# r['variation']['extensions']['value']\n",
    "\n",
    "symbol = r[\"variation\"][\"extensions\"][0][\"value\"][0][\"symbol\"]\n",
    "print(symbol)          # ARHGAP4"
   ]
  },
  {
   "cell_type": "code",
   "execution_count": 37,
   "metadata": {},
   "outputs": [
    {
     "data": {
      "text/plain": [
       "list"
      ]
     },
     "execution_count": 37,
     "metadata": {},
     "output_type": "execute_result"
    }
   ],
   "source": [
    "warnings = r['warnings']\n",
    "warnings\n",
    "type(warnings)"
   ]
  },
  {
   "cell_type": "code",
   "execution_count": 8,
   "metadata": {},
   "outputs": [
    {
     "data": {
      "text/plain": [
       "<Response [200]>"
      ]
     },
     "execution_count": 8,
     "metadata": {},
     "output_type": "execute_result"
    }
   ],
   "source": [
    "url = \"https://normalize.cancervariants.org/variation/normalize?q=X-153175777-G-A\"\n",
    "\n",
    "res = requests.get(url)\n",
    "res"
   ]
  },
  {
   "cell_type": "code",
   "execution_count": null,
   "metadata": {},
   "outputs": [
    {
     "data": {
      "text/plain": [
       "<Response [200]>"
      ]
     },
     "execution_count": 4,
     "metadata": {},
     "output_type": "execute_result"
    }
   ],
   "source": [
    "url = \"https://normalize.cancervariants.org/gene/normalize?q=zbed1\"\n",
    "\n",
    "res = requests.get(url)\n",
    "res\n",
    "\n",
    "\n",
    "\n"
   ]
  },
  {
   "cell_type": "code",
   "execution_count": 6,
   "metadata": {},
   "outputs": [
    {
     "data": {
      "text/plain": [
       "{'query': 'ZBED1',\n",
       " 'warnings': [],\n",
       " 'match_type': 100,\n",
       " 'service_meta_': {'name': 'gene-normalizer',\n",
       "  'version': '0.8.0',\n",
       "  'response_datetime': '2025-07-25 17:12:12.411161+00:00',\n",
       "  'url': 'https://github.com/cancervariants/gene-normalization'},\n",
       " 'gene': {'id': 'normalize.gene.hgnc:447',\n",
       "  'extensions': [{'name': 'aliases',\n",
       "    'value': ['hDREF', 'DREF', 'TRAMP', 'KIAA0785', 'ALTE']},\n",
       "   {'name': 'symbol_status', 'value': 'approved'},\n",
       "   {'name': 'approved_name', 'value': 'zinc finger BED-type containing 1'},\n",
       "   {'name': 'previous_symbols', 'value': ['ALTE']},\n",
       "   {'name': 'location_annotations', 'value': ['X', 'Y']},\n",
       "   {'name': 'strand', 'value': '-'},\n",
       "   {'name': 'ensembl_locations',\n",
       "    'value': [{'id': 'ga4gh:SL.2kEPEGMzJt2Mp0T-5seAoSDTYAYTXZwb',\n",
       "      'type': 'SequenceLocation',\n",
       "      'digest': '2kEPEGMzJt2Mp0T-5seAoSDTYAYTXZwb',\n",
       "      'sequenceReference': {'type': 'SequenceReference',\n",
       "       'refgetAccession': 'SQ.8_liLu1aycC0tPQPFmUaGXJLDs5SbPZ5'},\n",
       "      'start': 2486413,\n",
       "      'end': 2500976}]},\n",
       "   {'name': 'ncbi_locations',\n",
       "    'value': [{'id': 'ga4gh:SL.ZAXGM3-MlT8UZ0eF66bNtRsZl5YMO0h-',\n",
       "      'type': 'SequenceLocation',\n",
       "      'digest': 'ZAXGM3-MlT8UZ0eF66bNtRsZl5YMO0h-',\n",
       "      'sequenceReference': {'type': 'SequenceReference',\n",
       "       'refgetAccession': 'SQ.w0WZEvgJF0zf_P4yyTzjjv9oW1z61HHP'},\n",
       "      'start': 2486434,\n",
       "      'end': 2500976},\n",
       "     {'id': 'ga4gh:SL.MrO0NvO6NexigRUDSaWj86Uw-k7V7guS',\n",
       "      'type': 'SequenceLocation',\n",
       "      'digest': 'MrO0NvO6NexigRUDSaWj86Uw-k7V7guS',\n",
       "      'sequenceReference': {'type': 'SequenceReference',\n",
       "       'refgetAccession': 'SQ.8_liLu1aycC0tPQPFmUaGXJLDs5SbPZ5'},\n",
       "      'start': 2486434,\n",
       "      'end': 2500976}]},\n",
       "   {'name': 'hgnc_locus_type', 'value': 'gene with protein product'},\n",
       "   {'name': 'ncbi_gene_type', 'value': 'protein-coding'},\n",
       "   {'name': 'ensembl_biotype', 'value': 'protein_coding'}],\n",
       "  'conceptType': 'Gene',\n",
       "  'name': 'ZBED1',\n",
       "  'primaryCode': 'hgnc:447',\n",
       "  'mappings': [{'coding': {'id': 'hgnc:447',\n",
       "     'system': 'https://www.genenames.org/data/gene-symbol-report/#!/hgnc_id/',\n",
       "     'code': 'HGNC:447'},\n",
       "    'relation': 'exactMatch'},\n",
       "   {'coding': {'id': 'ensembl:ENSG00000214717',\n",
       "     'system': 'https://www.ensembl.org/id/',\n",
       "     'code': 'ENSG00000214717'},\n",
       "    'relation': 'exactMatch'},\n",
       "   {'coding': {'id': 'ensembl:ENSG00000292345',\n",
       "     'system': 'https://www.ensembl.org/id/',\n",
       "     'code': 'ENSG00000292345'},\n",
       "    'relation': 'exactMatch'},\n",
       "   {'coding': {'id': 'ncbigene:9189',\n",
       "     'system': 'https://www.ncbi.nlm.nih.gov/gene/',\n",
       "     'code': '9189'},\n",
       "    'relation': 'exactMatch'},\n",
       "   {'coding': {'id': 'ena.embl:AB018328',\n",
       "     'system': 'https://www.ebi.ac.uk/ena/browser/view/',\n",
       "     'code': 'AB018328'},\n",
       "    'relation': 'relatedMatch'},\n",
       "   {'coding': {'id': 'ccds:CCDS14118',\n",
       "     'system': 'http://www.ncbi.nlm.nih.gov/CCDS/CcdsBrowse.cgi?REQUEST=CCDS&DATA=',\n",
       "     'code': 'CCDS14118'},\n",
       "    'relation': 'relatedMatch'},\n",
       "   {'coding': {'id': 'vega:OTTHUMG00000021069',\n",
       "     'system': 'https://vega.archive.ensembl.org/Homo_sapiens/Gene/Summary?g=',\n",
       "     'code': 'OTTHUMG00000021069'},\n",
       "    'relation': 'relatedMatch'},\n",
       "   {'coding': {'id': 'pubmed:9887332',\n",
       "     'system': 'https://pubmed.ncbi.nlm.nih.gov/',\n",
       "     'code': '9887332'},\n",
       "    'relation': 'relatedMatch'},\n",
       "   {'coding': {'id': 'ucsc:uc022ciu.2',\n",
       "     'system': 'http://genome.cse.ucsc.edu/cgi-bin/hgGene?org=Human&hgg_chrom=none&hgg_type=knownGene&hgg_gene=',\n",
       "     'code': 'uc022ciu.2'},\n",
       "    'relation': 'relatedMatch'},\n",
       "   {'coding': {'id': 'pubmed:9872452',\n",
       "     'system': 'https://pubmed.ncbi.nlm.nih.gov/',\n",
       "     'code': '9872452'},\n",
       "    'relation': 'relatedMatch'},\n",
       "   {'coding': {'id': 'pubmed:23533661',\n",
       "     'system': 'https://pubmed.ncbi.nlm.nih.gov/',\n",
       "     'code': '23533661'},\n",
       "    'relation': 'relatedMatch'},\n",
       "   {'coding': {'id': 'refseq:NM_004729',\n",
       "     'system': 'https://www.ncbi.nlm.nih.gov/nuccore/',\n",
       "     'code': 'NM_004729'},\n",
       "    'relation': 'relatedMatch'},\n",
       "   {'coding': {'id': 'omim:300178',\n",
       "     'system': 'https://www.omim.org/MIM:',\n",
       "     'code': '300178'},\n",
       "    'relation': 'relatedMatch'},\n",
       "   {'coding': {'id': 'uniprot:O96006',\n",
       "     'system': 'http://purl.uniprot.org/uniprot/',\n",
       "     'code': 'O96006'},\n",
       "    'relation': 'relatedMatch'}]},\n",
       " 'source_meta_': {'HGNC': {'data_license': 'CC0',\n",
       "   'data_license_url': 'https://www.genenames.org/about/license/',\n",
       "   'version': '20241206',\n",
       "   'data_url': {'complete_set_archive': 'ftp.ebi.ac.uk/pub/databases/genenames/hgnc/json/hgnc_complete_set.json'},\n",
       "   'data_license_attributes': {'non_commercial': False,\n",
       "    'share_alike': False,\n",
       "    'attribution': False},\n",
       "   'genome_assemblies': []},\n",
       "  'Ensembl': {'data_license': 'custom',\n",
       "   'data_license_url': 'https://useast.ensembl.org/info/about/legal/disclaimer.html',\n",
       "   'version': '113',\n",
       "   'data_url': {'genome_annotations': 'ftp://ftp.ensembl.org/pub/release-113/gff3/homo_sapiens/Homo_sapiens.GRCh38.113.gff3.gz'},\n",
       "   'data_license_attributes': {'non_commercial': False,\n",
       "    'share_alike': False,\n",
       "    'attribution': False},\n",
       "   'genome_assemblies': ['GRCh38']},\n",
       "  'NCBI': {'data_license': 'custom',\n",
       "   'data_license_url': 'https://www.ncbi.nlm.nih.gov/home/about/policies/',\n",
       "   'version': '20241224',\n",
       "   'data_url': {'assembly_file': 'ftp.ncbi.nlm.nih.govgenomes/refseq/vertebrate_mammalian/Homo_sapiens/latest_assembly_versions/',\n",
       "    'history_file': 'ftp.ncbi.nlm.nih.govgene/DATA/gene_history.gz',\n",
       "    'info_file': 'ftp.ncbi.nlm.nih.govgene/DATA/GENE_INFO/Mammalia/Homo_sapiens.gene_info.gz'},\n",
       "   'rdp_url': 'https://reusabledata.org/ncbi-gene.html',\n",
       "   'data_license_attributes': {'non_commercial': False,\n",
       "    'share_alike': False,\n",
       "    'attribution': False},\n",
       "   'genome_assemblies': ['GRCh38.p14']}}}"
      ]
     },
     "execution_count": 6,
     "metadata": {},
     "output_type": "execute_result"
    }
   ],
   "source": [
    "# https:/normalize.cancervariants.org/variation/normalize?q=x-153223671-C-T\n",
    "BASE_URL = \"https://normalize.cancervariants.org/gene/\"\n",
    "HEADERS = {\"Accept\": \"application/json\"}\n",
    "\n",
    "def test_tokenization(gene):\n",
    "    \"\"\"Fetch gene_id from VICC variation normalizer\"\"\"\n",
    "    url = f\"{BASE_URL}normalize?q={gene}\"\n",
    "    response = requests.get(url, headers=HEADERS)\n",
    "    if response.status_code == 200:\n",
    "        return response.json()\n",
    "    else:\n",
    "        print(f\"Error {response.status_code}: {response.text}\")\n",
    "        return None\n",
    "\n",
    "r = test_tokenization(\"ZBED1\")\n",
    "r\n"
   ]
  },
  {
   "cell_type": "code",
   "execution_count": 8,
   "metadata": {},
   "outputs": [
    {
     "data": {
      "text/plain": [
       "dict_keys(['query', 'warnings', 'match_type', 'service_meta_', 'gene', 'source_meta_'])"
      ]
     },
     "execution_count": 8,
     "metadata": {},
     "output_type": "execute_result"
    }
   ],
   "source": [
    "r.keys()\n"
   ]
  },
  {
   "cell_type": "code",
   "execution_count": 9,
   "metadata": {},
   "outputs": [
    {
     "data": {
      "text/plain": [
       "dict_keys(['id', 'extensions', 'conceptType', 'name', 'primaryCode', 'mappings'])"
      ]
     },
     "execution_count": 9,
     "metadata": {},
     "output_type": "execute_result"
    }
   ],
   "source": [
    "r['gene'].keys()"
   ]
  },
  {
   "cell_type": "code",
   "execution_count": 13,
   "metadata": {},
   "outputs": [
    {
     "data": {
      "text/plain": [
       "'normalize.gene.hgnc:447'"
      ]
     },
     "execution_count": 13,
     "metadata": {},
     "output_type": "execute_result"
    }
   ],
   "source": [
    "r['gene']['id']\n",
    "\n",
    "# hgnc_id = r[\"gene\"][\"id\"].split(\":\")[-1]\n",
    "# hgnc_id"
   ]
  },
  {
   "cell_type": "code",
   "execution_count": 24,
   "metadata": {},
   "outputs": [
    {
     "data": {
      "text/plain": [
       "{'warnings': [],\n",
       " 'service_meta_': {'name': 'variation-normalizer',\n",
       "  'version': '0.15.0',\n",
       "  'response_datetime': '2025-07-29T16:02:05.996746Z',\n",
       "  'url': 'https://github.com/cancervariants/variation-normalization'},\n",
       " 'variation_query': '4-159603535-G-C',\n",
       " 'variation': {'id': 'ga4gh:VA._DKuUCjVVWUA3eQUkgNyyxwizboqfblX',\n",
       "  'type': 'Allele',\n",
       "  'digest': '_DKuUCjVVWUA3eQUkgNyyxwizboqfblX',\n",
       "  'location': {'id': 'ga4gh:SL.U1uIODMdQ-cSuI6T4nICXcbBJgXpGbJG',\n",
       "   'type': 'SequenceLocation',\n",
       "   'digest': 'U1uIODMdQ-cSuI6T4nICXcbBJgXpGbJG',\n",
       "   'sequenceReference': {'type': 'SequenceReference',\n",
       "    'refgetAccession': 'SQ.XiPpWSmlIGO_vpRi89UEvm9He1YcCR3-'},\n",
       "   'start': 121,\n",
       "   'end': 122,\n",
       "   'sequence': 'G'},\n",
       "  'state': {'type': 'LiteralSequenceExpression', 'sequence': 'R'}},\n",
       " 'gene_context': {'id': 'normalize.gene.hgnc:3483',\n",
       "  'extensions': [{'name': 'aliases', 'value': ['ETFQO', 'MADD', '1.5.5.1']},\n",
       "   {'name': 'symbol_status', 'value': 'approved'},\n",
       "   {'name': 'approved_name',\n",
       "    'value': 'electron transfer flavoprotein dehydrogenase'},\n",
       "   {'name': 'strand', 'value': '+'},\n",
       "   {'name': 'ensembl_locations',\n",
       "    'value': [{'id': 'ga4gh:SL.nMGPQD-Q7A6mI1T-XtKB_DA-9WEyneqH',\n",
       "      'type': 'SequenceLocation',\n",
       "      'digest': 'nMGPQD-Q7A6mI1T-XtKB_DA-9WEyneqH',\n",
       "      'sequenceReference': {'type': 'SequenceReference',\n",
       "       'refgetAccession': 'SQ.HxuclGHh0XCDuF8x6yQrpHUBL7ZntAHc'},\n",
       "      'start': 158671967,\n",
       "      'end': 158710742}]},\n",
       "   {'name': 'ncbi_locations',\n",
       "    'value': [{'id': 'ga4gh:SL.pdBKFDn6umiZemIaw38AaXL_TQfy00Vj',\n",
       "      'type': 'SequenceLocation',\n",
       "      'digest': 'pdBKFDn6umiZemIaw38AaXL_TQfy00Vj',\n",
       "      'sequenceReference': {'type': 'SequenceReference',\n",
       "       'refgetAccession': 'SQ.HxuclGHh0XCDuF8x6yQrpHUBL7ZntAHc'},\n",
       "      'start': 158672295,\n",
       "      'end': 158709623}]},\n",
       "   {'name': 'hgnc_locus_type', 'value': 'gene with protein product'},\n",
       "   {'name': 'ncbi_gene_type', 'value': 'protein-coding'},\n",
       "   {'name': 'ensembl_biotype', 'value': 'protein_coding'}],\n",
       "  'conceptType': 'Gene',\n",
       "  'name': 'ETFDH',\n",
       "  'primaryCoding': {'id': 'hgnc:3483',\n",
       "   'system': 'https://www.genenames.org/data/gene-symbol-report/#!/hgnc_id/',\n",
       "   'code': 'HGNC:3483'},\n",
       "  'mappings': [{'coding': {'id': 'ensembl:ENSG00000171503',\n",
       "     'system': 'https://www.ensembl.org/id/',\n",
       "     'code': 'ENSG00000171503'},\n",
       "    'relation': 'exactMatch'},\n",
       "   {'coding': {'id': 'ncbigene:2110',\n",
       "     'system': 'https://www.ncbi.nlm.nih.gov/gene/',\n",
       "     'code': '2110'},\n",
       "    'relation': 'exactMatch'},\n",
       "   {'coding': {'id': 'uniprot:Q16134',\n",
       "     'system': 'http://purl.uniprot.org/uniprot/',\n",
       "     'code': 'Q16134'},\n",
       "    'relation': 'relatedMatch'},\n",
       "   {'coding': {'id': 'ena.embl:S69232',\n",
       "     'system': 'https://www.ebi.ac.uk/ena/browser/view/',\n",
       "     'code': 'S69232'},\n",
       "    'relation': 'relatedMatch'},\n",
       "   {'coding': {'id': 'omim:231675',\n",
       "     'system': 'https://www.omim.org/MIM:',\n",
       "     'code': '231675'},\n",
       "    'relation': 'relatedMatch'},\n",
       "   {'coding': {'id': 'orphanet:121626',\n",
       "     'system': 'http://www.orpha.net/consor/cgi-bin/OC_Exp.php?Lng=EN&Expert=',\n",
       "     'code': '121626'},\n",
       "    'relation': 'relatedMatch'},\n",
       "   {'coding': {'id': 'pubmed:1438400',\n",
       "     'system': 'https://pubmed.ncbi.nlm.nih.gov/',\n",
       "     'code': '1438400'},\n",
       "    'relation': 'relatedMatch'},\n",
       "   {'coding': {'id': 'vega:OTTHUMG00000161684',\n",
       "     'system': 'https://vega.archive.ensembl.org/Homo_sapiens/Gene/Summary?g=',\n",
       "     'code': 'OTTHUMG00000161684'},\n",
       "    'relation': 'relatedMatch'},\n",
       "   {'coding': {'id': 'pubmed:12815589',\n",
       "     'system': 'https://pubmed.ncbi.nlm.nih.gov/',\n",
       "     'code': '12815589'},\n",
       "    'relation': 'relatedMatch'},\n",
       "   {'coding': {'id': 'refseq:NM_001281737',\n",
       "     'system': 'https://www.ncbi.nlm.nih.gov/nuccore/',\n",
       "     'code': 'NM_001281737'},\n",
       "    'relation': 'relatedMatch'},\n",
       "   {'coding': {'id': 'ucsc:uc003iqb.5',\n",
       "     'system': 'http://genome.cse.ucsc.edu/cgi-bin/hgGene?org=Human&hgg_chrom=none&hgg_type=knownGene&hgg_gene=',\n",
       "     'code': 'uc003iqb.5'},\n",
       "    'relation': 'relatedMatch'}]}}"
      ]
     },
     "execution_count": 24,
     "metadata": {},
     "output_type": "execute_result"
    }
   ],
   "source": [
    "# https:/normalize.cancervariants.org/variation/normalize?q=x-153223671-C-T\n",
    "\n",
    "BASE_URL = \"http://localhost:8001/variation/\"\n",
    "HEADERS = {\n",
    "    \"Accept\": \"application/json\",\n",
    "    \"User-Agent\": \"Mozilla/5.0\"\n",
    "}\n",
    "\n",
    "def test_tokenization(variant):\n",
    "    \"\"\"Fetch gene_id from VICC variation normalizer\"\"\"\n",
    "    url = f\"{BASE_URL}gnomad_vcf_to_protein?q={variant}\"\n",
    "    response = requests.get(url, headers=HEADERS)\n",
    "    if response.status_code == 200:\n",
    "        return response.json()\n",
    "    else:\n",
    "        print(f\"Error {response.status_code}: {response.text}\")\n",
    "        return None\n",
    "\n",
    "r = test_tokenization(\"4-159603535-G-C\")\n",
    "r"
   ]
  },
  {
   "cell_type": "code",
   "execution_count": 25,
   "metadata": {},
   "outputs": [
    {
     "data": {
      "text/plain": [
       "{'warnings': [],\n",
       " 'service_meta_': {'name': 'variation-normalizer',\n",
       "  'version': '0.15.0',\n",
       "  'response_datetime': '2025-07-29T20:53:44.213827Z',\n",
       "  'url': 'https://github.com/cancervariants/variation-normalization'},\n",
       " 'variation_query': '4-159603535-G-C',\n",
       " 'variation': {'id': 'ga4gh:VA._DKuUCjVVWUA3eQUkgNyyxwizboqfblX',\n",
       "  'type': 'Allele',\n",
       "  'digest': '_DKuUCjVVWUA3eQUkgNyyxwizboqfblX',\n",
       "  'location': {'id': 'ga4gh:SL.U1uIODMdQ-cSuI6T4nICXcbBJgXpGbJG',\n",
       "   'type': 'SequenceLocation',\n",
       "   'digest': 'U1uIODMdQ-cSuI6T4nICXcbBJgXpGbJG',\n",
       "   'sequenceReference': {'type': 'SequenceReference',\n",
       "    'refgetAccession': 'SQ.XiPpWSmlIGO_vpRi89UEvm9He1YcCR3-'},\n",
       "   'start': 121,\n",
       "   'end': 122,\n",
       "   'sequence': 'G'},\n",
       "  'state': {'type': 'LiteralSequenceExpression', 'sequence': 'R'}},\n",
       " 'gene_context': {'id': 'normalize.gene.hgnc:3483',\n",
       "  'extensions': [{'name': 'aliases', 'value': ['ETFQO', 'MADD', '1.5.5.1']},\n",
       "   {'name': 'symbol_status', 'value': 'approved'},\n",
       "   {'name': 'approved_name',\n",
       "    'value': 'electron transfer flavoprotein dehydrogenase'},\n",
       "   {'name': 'strand', 'value': '+'},\n",
       "   {'name': 'ensembl_locations',\n",
       "    'value': [{'id': 'ga4gh:SL.nMGPQD-Q7A6mI1T-XtKB_DA-9WEyneqH',\n",
       "      'type': 'SequenceLocation',\n",
       "      'digest': 'nMGPQD-Q7A6mI1T-XtKB_DA-9WEyneqH',\n",
       "      'sequenceReference': {'type': 'SequenceReference',\n",
       "       'refgetAccession': 'SQ.HxuclGHh0XCDuF8x6yQrpHUBL7ZntAHc'},\n",
       "      'start': 158671967,\n",
       "      'end': 158710742}]},\n",
       "   {'name': 'ncbi_locations',\n",
       "    'value': [{'id': 'ga4gh:SL.pdBKFDn6umiZemIaw38AaXL_TQfy00Vj',\n",
       "      'type': 'SequenceLocation',\n",
       "      'digest': 'pdBKFDn6umiZemIaw38AaXL_TQfy00Vj',\n",
       "      'sequenceReference': {'type': 'SequenceReference',\n",
       "       'refgetAccession': 'SQ.HxuclGHh0XCDuF8x6yQrpHUBL7ZntAHc'},\n",
       "      'start': 158672295,\n",
       "      'end': 158709623}]},\n",
       "   {'name': 'hgnc_locus_type', 'value': 'gene with protein product'},\n",
       "   {'name': 'ncbi_gene_type', 'value': 'protein-coding'},\n",
       "   {'name': 'ensembl_biotype', 'value': 'protein_coding'}],\n",
       "  'conceptType': 'Gene',\n",
       "  'name': 'ETFDH',\n",
       "  'primaryCoding': {'id': 'hgnc:3483',\n",
       "   'system': 'https://www.genenames.org/data/gene-symbol-report/#!/hgnc_id/',\n",
       "   'code': 'HGNC:3483'},\n",
       "  'mappings': [{'coding': {'id': 'ensembl:ENSG00000171503',\n",
       "     'system': 'https://www.ensembl.org/id/',\n",
       "     'code': 'ENSG00000171503'},\n",
       "    'relation': 'exactMatch'},\n",
       "   {'coding': {'id': 'ncbigene:2110',\n",
       "     'system': 'https://www.ncbi.nlm.nih.gov/gene/',\n",
       "     'code': '2110'},\n",
       "    'relation': 'exactMatch'},\n",
       "   {'coding': {'id': 'uniprot:Q16134',\n",
       "     'system': 'http://purl.uniprot.org/uniprot/',\n",
       "     'code': 'Q16134'},\n",
       "    'relation': 'relatedMatch'},\n",
       "   {'coding': {'id': 'ena.embl:S69232',\n",
       "     'system': 'https://www.ebi.ac.uk/ena/browser/view/',\n",
       "     'code': 'S69232'},\n",
       "    'relation': 'relatedMatch'},\n",
       "   {'coding': {'id': 'omim:231675',\n",
       "     'system': 'https://www.omim.org/MIM:',\n",
       "     'code': '231675'},\n",
       "    'relation': 'relatedMatch'},\n",
       "   {'coding': {'id': 'orphanet:121626',\n",
       "     'system': 'http://www.orpha.net/consor/cgi-bin/OC_Exp.php?Lng=EN&Expert=',\n",
       "     'code': '121626'},\n",
       "    'relation': 'relatedMatch'},\n",
       "   {'coding': {'id': 'pubmed:1438400',\n",
       "     'system': 'https://pubmed.ncbi.nlm.nih.gov/',\n",
       "     'code': '1438400'},\n",
       "    'relation': 'relatedMatch'},\n",
       "   {'coding': {'id': 'vega:OTTHUMG00000161684',\n",
       "     'system': 'https://vega.archive.ensembl.org/Homo_sapiens/Gene/Summary?g=',\n",
       "     'code': 'OTTHUMG00000161684'},\n",
       "    'relation': 'relatedMatch'},\n",
       "   {'coding': {'id': 'pubmed:12815589',\n",
       "     'system': 'https://pubmed.ncbi.nlm.nih.gov/',\n",
       "     'code': '12815589'},\n",
       "    'relation': 'relatedMatch'},\n",
       "   {'coding': {'id': 'refseq:NM_001281737',\n",
       "     'system': 'https://www.ncbi.nlm.nih.gov/nuccore/',\n",
       "     'code': 'NM_001281737'},\n",
       "    'relation': 'relatedMatch'},\n",
       "   {'coding': {'id': 'ucsc:uc003iqb.5',\n",
       "     'system': 'http://genome.cse.ucsc.edu/cgi-bin/hgGene?org=Human&hgg_chrom=none&hgg_type=knownGene&hgg_gene=',\n",
       "     'code': 'uc003iqb.5'},\n",
       "    'relation': 'relatedMatch'}]}}"
      ]
     },
     "execution_count": 25,
     "metadata": {},
     "output_type": "execute_result"
    }
   ],
   "source": [
    "\n",
    "BASE_URL = \"http://localhost:8001/variation/\"\n",
    "HEADERS = {\n",
    "    \"Accept\": \"application/json\",\n",
    "    \"User-Agent\": \"Mozilla/5.0\"\n",
    "}\n",
    "\n",
    "def retrieve_HGVSp_value(variant):\n",
    "    url = f\"{BASE_URL}gnomad_vcf_to_protein?q={variant}\"\n",
    "    response = requests.get(url, headers=HEADERS)\n",
    "    if response.status_code == 200:\n",
    "        return response.json()\n",
    "    else:\n",
    "        print(f\"Error {response.status_code}: {response.text}\")\n",
    "        return None\n",
    "\n",
    "r = retrieve_HGVSp_value(\"4-159603535-G-C\")\n",
    "r"
   ]
  },
  {
   "cell_type": "code",
   "execution_count": 41,
   "metadata": {},
   "outputs": [
    {
     "data": {
      "text/plain": [
       "[{'coding': {'id': 'ensembl:ENSG00000171503',\n",
       "   'system': 'https://www.ensembl.org/id/',\n",
       "   'code': 'ENSG00000171503'},\n",
       "  'relation': 'exactMatch'},\n",
       " {'coding': {'id': 'ncbigene:2110',\n",
       "   'system': 'https://www.ncbi.nlm.nih.gov/gene/',\n",
       "   'code': '2110'},\n",
       "  'relation': 'exactMatch'},\n",
       " {'coding': {'id': 'uniprot:Q16134',\n",
       "   'system': 'http://purl.uniprot.org/uniprot/',\n",
       "   'code': 'Q16134'},\n",
       "  'relation': 'relatedMatch'},\n",
       " {'coding': {'id': 'ena.embl:S69232',\n",
       "   'system': 'https://www.ebi.ac.uk/ena/browser/view/',\n",
       "   'code': 'S69232'},\n",
       "  'relation': 'relatedMatch'},\n",
       " {'coding': {'id': 'omim:231675',\n",
       "   'system': 'https://www.omim.org/MIM:',\n",
       "   'code': '231675'},\n",
       "  'relation': 'relatedMatch'},\n",
       " {'coding': {'id': 'orphanet:121626',\n",
       "   'system': 'http://www.orpha.net/consor/cgi-bin/OC_Exp.php?Lng=EN&Expert=',\n",
       "   'code': '121626'},\n",
       "  'relation': 'relatedMatch'},\n",
       " {'coding': {'id': 'pubmed:1438400',\n",
       "   'system': 'https://pubmed.ncbi.nlm.nih.gov/',\n",
       "   'code': '1438400'},\n",
       "  'relation': 'relatedMatch'},\n",
       " {'coding': {'id': 'vega:OTTHUMG00000161684',\n",
       "   'system': 'https://vega.archive.ensembl.org/Homo_sapiens/Gene/Summary?g=',\n",
       "   'code': 'OTTHUMG00000161684'},\n",
       "  'relation': 'relatedMatch'},\n",
       " {'coding': {'id': 'pubmed:12815589',\n",
       "   'system': 'https://pubmed.ncbi.nlm.nih.gov/',\n",
       "   'code': '12815589'},\n",
       "  'relation': 'relatedMatch'},\n",
       " {'coding': {'id': 'refseq:NM_001281737',\n",
       "   'system': 'https://www.ncbi.nlm.nih.gov/nuccore/',\n",
       "   'code': 'NM_001281737'},\n",
       "  'relation': 'relatedMatch'},\n",
       " {'coding': {'id': 'ucsc:uc003iqb.5',\n",
       "   'system': 'http://genome.cse.ucsc.edu/cgi-bin/hgGene?org=Human&hgg_chrom=none&hgg_type=knownGene&hgg_gene=',\n",
       "   'code': 'uc003iqb.5'},\n",
       "  'relation': 'relatedMatch'}]"
      ]
     },
     "execution_count": 41,
     "metadata": {},
     "output_type": "execute_result"
    }
   ],
   "source": [
    "# r.keys()\n",
    "# r['mappings']\n",
    "# r['gene_context'].keys()\n",
    "# r['gene_context']['id']\n",
    "# r['gene_context']['extensions']\n",
    "# r['gene_context']['conceptType']\n",
    "r['gene_context']['mappings']\n",
    "# r['gene_context']['name']\n",
    "# r['gene_context']['primaryCoding']\n",
    "\n",
    "\n"
   ]
  },
  {
   "cell_type": "code",
   "execution_count": 48,
   "metadata": {},
   "outputs": [
    {
     "data": {
      "text/plain": [
       "'NM_001281737'"
      ]
     },
     "execution_count": 48,
     "metadata": {},
     "output_type": "execute_result"
    }
   ],
   "source": [
    "#refseq code\n",
    "\n",
    "refseq = next(\n",
    "    (mapping[\"coding\"][\"code\"] for mapping in r[\"gene_context\"][\"mappings\"]\n",
    "     if mapping.get(\"coding\", {}).get(\"id\", \"\").startswith(\"refseq:\")),\n",
    "    None\n",
    ")\n",
    "\n",
    "refseq"
   ]
  },
  {
   "cell_type": "code",
   "execution_count": 49,
   "metadata": {},
   "outputs": [
    {
     "data": {
      "text/plain": [
       "122"
      ]
     },
     "execution_count": 49,
     "metadata": {},
     "output_type": "execute_result"
    }
   ],
   "source": [
    "#protein position\n",
    "\n",
    "protein_position = r[\"variation\"][\"location\"][\"end\"]\n",
    "protein_position\n"
   ]
  },
  {
   "cell_type": "code",
   "execution_count": 54,
   "metadata": {},
   "outputs": [
    {
     "data": {
      "text/plain": [
       "'G'"
      ]
     },
     "execution_count": 54,
     "metadata": {},
     "output_type": "execute_result"
    }
   ],
   "source": [
    "# reference amino acid\n",
    "ref_aa = r['variation']['location']['sequence']\n",
    "\n",
    "ref_aa"
   ]
  },
  {
   "cell_type": "code",
   "execution_count": 60,
   "metadata": {},
   "outputs": [
    {
     "data": {
      "text/plain": [
       "'R'"
      ]
     },
     "execution_count": 60,
     "metadata": {},
     "output_type": "execute_result"
    }
   ],
   "source": [
    "# variant amino acid\n",
    "\n",
    "var_aa = r['variation']['state']['sequence']\n",
    "\n",
    "var_aa"
   ]
  }
 ],
 "metadata": {
  "kernelspec": {
   "display_name": "venv",
   "language": "python",
   "name": "python3"
  },
  "language_info": {
   "codemirror_mode": {
    "name": "ipython",
    "version": 3
   },
   "file_extension": ".py",
   "mimetype": "text/x-python",
   "name": "python",
   "nbconvert_exporter": "python",
   "pygments_lexer": "ipython3",
   "version": "3.11.6"
  }
 },
 "nbformat": 4,
 "nbformat_minor": 2
}
