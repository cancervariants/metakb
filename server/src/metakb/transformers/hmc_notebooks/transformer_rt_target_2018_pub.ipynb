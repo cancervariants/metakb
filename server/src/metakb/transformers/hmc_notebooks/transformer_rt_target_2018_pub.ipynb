{
 "cells": [
  {
   "cell_type": "markdown",
   "id": "01de3647-f731-4da0-a12b-ea887e58cb16",
   "metadata": {},
   "source": [
    "##### imports"
   ]
  },
  {
   "cell_type": "code",
   "execution_count": 1,
   "id": "4110ccaa-793e-43f0-9d31-00afd6b76c06",
   "metadata": {},
   "outputs": [],
   "source": [
    "import pandas as pd\n",
    "import os\n",
    "import requests\n",
    "import time\n",
    "import pprint\n",
    "from urllib.parse import quote_plus\n",
    "import re\n",
    "import json\n",
    "from Bio.SeqUtils import seq3\n",
    "import tqdm\n",
    "\n"
   ]
  },
  {
   "cell_type": "markdown",
   "id": "f2c12bcf-8cce-4398-be55-bcc103525efb",
   "metadata": {},
   "source": [
    "### Pediatric Rhabdoid Tumor (TARGET, 2018)\n",
    "\n"
   ]
  },
  {
   "cell_type": "code",
   "execution_count": 2,
   "id": "45621be4",
   "metadata": {},
   "outputs": [],
   "source": [
    "study = \"rt_target_2018_pub\"\n"
   ]
  },
  {
   "cell_type": "code",
   "execution_count": 3,
   "id": "0e3b6784-eadb-4f80-bf38-d376e31f0b4b",
   "metadata": {},
   "outputs": [],
   "source": [
    "# get data\n",
    "#TODO import as objects from harvester\n",
    "## add parameter to skip first 4 lines in patient and study sample data\n",
    "base_loc = \"/Users/costellh/repos/metakb/server/src/metakb/transformers/hmc_notebooks/\"\n",
    "variants = f\"{base_loc}{study}/data_mutations.txt\"\n",
    "meta = f\"{base_loc}/{study}/meta_study.txt\"\n",
    "patients = f\"{base_loc}/{study}/data_clinical_patient.txt\"\n",
    "samples = f\"{base_loc}/{study}/data_clinical_sample.txt\"\n",
    "\n",
    "init_mut_df = pd.read_csv(variants, sep='\\t')\n",
    "init_study_meta = pd.read_csv(meta, sep='\\t')\n",
    "init_patient_df = pd.read_csv(patients, sep='\\t', skiprows=4)\n",
    "init_sample_df = pd.read_csv(samples, sep='\\t', skiprows=4)\n",
    "\n"
   ]
  },
  {
   "cell_type": "markdown",
   "id": "0ba8aeda-91a2-4cf0-9558-cf9292788936",
   "metadata": {},
   "source": [
    "#### Variant data: subset columns, check for duplicates "
   ]
  },
  {
   "cell_type": "code",
   "execution_count": 4,
   "id": "b19a85c8-3894-467e-9c4f-c38549a96f32",
   "metadata": {},
   "outputs": [
    {
     "name": "stdout",
     "output_type": "stream",
     "text": [
      "Number of duplicate rows : 0\n",
      "No duplicate rows found.\n"
     ]
    }
   ],
   "source": [
    "# clean variant data\n",
    "\n",
    "# subset for necessary columns\n",
    "mut_df = init_mut_df.filter(['Hugo_Symbol',\n",
    "                        'Center',\n",
    "                        'Chromosome',\n",
    "                        'Start_Position', \n",
    "                        'End_Position',\n",
    "                        'Consequence',\n",
    "                        'Variant_Classification',\n",
    "                        'Variant_Type',\n",
    "                        'Reference_Allele',\n",
    "                        'Tumor_Seq_Allele2',\n",
    "                        'Tumor_Sample_Barcode',\n",
    "                        'Sequence_Source',\n",
    "                        'HGVSc',\n",
    "                        'HGVSp',\n",
    "                        'HGVSp_Short',\n",
    "                        'Transcript_ID',\n",
    "                        'RefSeq',\n",
    "                        'Protein_position'\n",
    "                       ], axis=1)\n",
    "\n",
    "\n",
    "# Strip whitespace and retry\n",
    "mut_df.columns = mut_df.columns.str.strip()\n",
    "mut_df = mut_df.rename(columns={'Tumor_Sample_Barcode': 'SAMPLE_ID'})\n",
    "\n",
    "# Check duplicate count\n",
    "num_duplicates = mut_df.duplicated().sum()\n",
    "print(f\"Number of duplicate rows : {num_duplicates}\")\n",
    "\n",
    "# TODO check duplicates for sanity check\n",
    "# print duplicates (excluding first instance)\n",
    "if num_duplicates > 0:\n",
    "    print(\"\\nDuplicate rows (excluding first instance):\")\n",
    "    print(mut_df[mut_df.duplicated()])\n",
    "\n",
    "# # print full duplicate groups (including the first occurrences)\n",
    "#     print(\"\\nAll rows involved in duplication:\")\n",
    "#     print(mut_df[mut_df.duplicated(keep=False)])\n",
    "\n",
    "# save duplicate rows to file\n",
    "    dupes = mut_df[mut_df.duplicated(keep=False)]\n",
    "    mut_df.to_csv('mut_dupes.csv', index=False)\n",
    "    \n",
    "\n",
    "    \n",
    "# remove duplicates, but keep first occurrence\n",
    "    mut_df = mut_df.drop_duplicates()\n",
    "    print(f\"\\nDataFrame shape after removing duplicates: {mut_df.shape}\")\n",
    "else:\n",
    "    print(\"No duplicate rows found.\")\n",
    "\n",
    "    \n",
    "# print(mut_df.columns)\n",
    "# # print(mut_df.head())"
   ]
  },
  {
   "cell_type": "markdown",
   "id": "780f5ee3-c672-4e26-b670-576086526f13",
   "metadata": {},
   "source": [
    "#### Patient data: subset columns, check for duplicates"
   ]
  },
  {
   "cell_type": "code",
   "execution_count": 12,
   "id": "75f3d6c8-9257-4ac6-b883-75a967ba8592",
   "metadata": {},
   "outputs": [
    {
     "name": "stdout",
     "output_type": "stream",
     "text": [
      "Index(['PATIENT_ID', 'AGE', 'SEX', 'ETHNICITY', 'RACE'], dtype='object')\n",
      "Number of duplicate rows : 0\n",
      "No duplicate rows found.\n"
     ]
    }
   ],
   "source": [
    "# clean patient data\n",
    "# print(patient_df.shape)\n",
    "# print(patient_df.columns)\n",
    "\n",
    "# subset data\n",
    "# subset for necessary columns\n",
    "patient_df = init_patient_df.filter(['PATIENT_ID',\n",
    "                        'AGE',\n",
    "                        'SEX', \n",
    "                        'ETHNICITY',\n",
    "                        'RACE'\n",
    "                        #'Consequence'\n",
    "                       ], axis=1)\n",
    "\n",
    "print(patient_df.columns)\n",
    "\n",
    "# Check duplicate count\n",
    "num_duplicates = patient_df.duplicated().sum()\n",
    "print(f\"Number of duplicate rows : {num_duplicates}\")\n",
    "\n",
    "# print duplicates (excluding first instance)\n",
    "if num_duplicates > 0:\n",
    "    print(\"\\nDuplicate rows (excluding first instance):\")\n",
    "    print(patient_df[patient_df.duplicated()])\n",
    "\n",
    "# # print full duplicate groups (including the first occurrences)\n",
    "#     print(\"\\nAll rows involved in duplication:\")\n",
    "#     print(mut_df[mut_df.duplicated(keep=False)])\n",
    "\n",
    "# remove duplicates, but keep first occurrence\n",
    "    patient_df = patient_df.drop_duplicates()\n",
    "    print(f\"\\nDataFrame shape after removing duplicates: {patient_df.shape}\")\n",
    "else:\n",
    "    print(\"No duplicate rows found.\")"
   ]
  },
  {
   "cell_type": "markdown",
   "id": "0da33e63-f38d-4d9e-abdc-e3c0bba84675",
   "metadata": {},
   "source": [
    "#### Sample data: subset columns, check for duplicates"
   ]
  },
  {
   "cell_type": "code",
   "execution_count": 13,
   "id": "fb2499e2-affb-404e-b970-04aa20bef06e",
   "metadata": {},
   "outputs": [
    {
     "name": "stdout",
     "output_type": "stream",
     "text": [
      "Index(['PATIENT_ID', 'SAMPLE_ID', 'ONCOTREE_CODE', 'CANCER_TYPE',\n",
      "       'CANCER_TYPE_DETAILED', 'TMB_NONSYNONYMOUS'],\n",
      "      dtype='object')\n",
      "Number of duplicate rows : 0\n",
      "No duplicate rows found.\n"
     ]
    }
   ],
   "source": [
    "# clean sample data\n",
    "\n",
    "# print(sample_df.shape)\n",
    "# print(sample_df.columns)\n",
    "# print(sample_df.head())\n",
    "\n",
    "\n",
    "# subset data\n",
    "# subset for necessary columns\n",
    "sample_df = init_sample_df.filter(['PATIENT_ID',\n",
    "                                     'SAMPLE_ID',\n",
    "                                     'SAMPLE_CLASS',\n",
    "                                     'ONCOTREE_CODE',\n",
    "                                     'CANCER_TYPE',\n",
    "                                     'CANCER_TYPE_DETAILED',\n",
    "                                     'TMB_NONSYNONYMOUS'\n",
    "                                    ], axis=1)\n",
    "\n",
    "\n",
    "print(sample_df.columns)\n",
    "\n",
    "\n",
    "# Check duplicate count\n",
    "num_duplicates = sample_df.duplicated().sum()\n",
    "print(f\"Number of duplicate rows : {num_duplicates}\")\n",
    "\n",
    "# print duplicates (excluding first instance)\n",
    "if num_duplicates > 0:\n",
    "    print(\"\\nDuplicate rows (excluding first instance):\")\n",
    "    print(sample_df[sample_df.duplicated()])\n",
    "\n",
    "# # print full duplicate groups (including the first occurrences)\n",
    "#     print(\"\\nAll rows involved in duplication:\")\n",
    "#     print(mut_df[mut_df.duplicated(keep=False)])\n",
    "\n",
    "# remove duplicates, but keep first occurrence\n",
    "    sample_df = sample_df.drop_duplicates()\n",
    "    print(f\"\\nDataFrame shape after removing duplicates: {sample_df.shape}\")\n",
    "else:\n",
    "    print(\"No duplicate rows found.\")"
   ]
  },
  {
   "cell_type": "markdown",
   "id": "b671c4ad-d0b6-43e1-b15c-ec749665175d",
   "metadata": {},
   "source": [
    "#### Combine dataframes"
   ]
  },
  {
   "cell_type": "code",
   "execution_count": 14,
   "id": "ca4cd556-6160-44dd-9c56-f7f27a387f15",
   "metadata": {},
   "outputs": [],
   "source": [
    "# combine dataframes\n",
    "\n",
    "init_combined_df = mut_df.merge(sample_df, on='SAMPLE_ID', how='left')\n",
    "\n",
    "# print(mut_df.columns)\n",
    "# print(mut_df.shape)\n",
    "\n",
    "# print(sample_df.columns)\n",
    "# print(sample_df.shape)\n",
    "# print(init_combined_df.columns)\n",
    "# print(init_combined_df.shape)\n",
    "\n",
    "#add patient_df\n",
    "combined_df = init_combined_df.merge(patient_df, on='PATIENT_ID', how='left')\n",
    "\n",
    "# print(patient_df.columns)\n",
    "# print(patient_df.shape)\n",
    "\n",
    "# print(combined_df.columns)\n",
    "# print(combined_df.shape)\n"
   ]
  },
  {
   "cell_type": "markdown",
   "id": "1970da22-8dc7-4cc4-aa62-9becb291bbeb",
   "metadata": {},
   "source": [
    "#### Add STUDY_ID column"
   ]
  },
  {
   "cell_type": "code",
   "execution_count": 15,
   "id": "0c2fd3ee-02fc-48bf-acc9-7675137eea80",
   "metadata": {},
   "outputs": [],
   "source": [
    "\n",
    "# add column for study id\n",
    "study_id = init_study_meta.iloc[0, 0]\n",
    "study_id = study_id.replace('cancer_study_identifier: ', '')\n",
    "# study_id\n",
    "combined_df['STUDY_ID'] = study_id\n"
   ]
  },
  {
   "cell_type": "markdown",
   "id": "90899975-c174-43d5-a7ae-2369d22f35f6",
   "metadata": {},
   "source": [
    "#### Check for (and remove) duplicates"
   ]
  },
  {
   "cell_type": "code",
   "execution_count": 16,
   "id": "aee6b500-7a61-4190-934b-53c7055686b1",
   "metadata": {},
   "outputs": [
    {
     "name": "stdout",
     "output_type": "stream",
     "text": [
      "Number of duplicate rows : 0\n",
      "No duplicate rows found.\n"
     ]
    }
   ],
   "source": [
    "\n",
    "\n",
    "# Check duplicate count\n",
    "num_duplicates = combined_df.duplicated().sum()\n",
    "print(f\"Number of duplicate rows : {num_duplicates}\")\n",
    "\n",
    "# print duplicates (excluding first instance)\n",
    "if num_duplicates > 0:\n",
    "    print(\"\\nDuplicate rows (excluding first instance):\")\n",
    "    print(combined_df[combined_df.duplicated()])\n",
    "\n",
    "# # print full duplicate groups (including the first occurrences)\n",
    "#     print(\"\\nAll rows involved in duplication:\")\n",
    "#     print(mut_df[mut_df.duplicated(keep=False)])\n",
    "\n",
    "# remove duplicates, but keep first occurrence\n",
    "    combined_df = combined_df.drop_duplicates()\n",
    "    print(f\"\\nDataFrame shape after removing duplicates: {combined_df.shape}\")\n",
    "else:\n",
    "    print(\"No duplicate rows found.\")\n",
    "\n"
   ]
  },
  {
   "cell_type": "markdown",
   "id": "da59990c-e8c3-41bd-ab79-4c0e505e1e72",
   "metadata": {},
   "source": [
    "#### Remove data from cell lines"
   ]
  },
  {
   "cell_type": "code",
   "execution_count": 17,
   "id": "1b0bcca1-476e-4e77-a0a1-bb3a3bab9b1b",
   "metadata": {},
   "outputs": [],
   "source": [
    "\n",
    "# # remove cell lines\n",
    "\n",
    "# original_shape = combined_df.shape\n",
    "# print(f\"Original shape: {original_shape}\")\n",
    "\n",
    "# #lines to remove\n",
    "# removed_df = combined_df[combined_df['SAMPLE_CLASS'] == 'Cell line']\n",
    "\n",
    "# # remove cell lines\n",
    "# filtered_df = combined_df[combined_df['SAMPLE_CLASS'] != 'Cell line']\n",
    "\n",
    "# # calculate how many rows were removed\n",
    "# rows_removed = original_shape[0] - filtered_df.shape[0]\n",
    "# print(f\"Removed {rows_removed} rows where SAMPLE_CLASS == 'Cell line'\")\n",
    "\n",
    "# # print new shape\n",
    "# print(f\"New shape: {filtered_df.shape}\")\n",
    "\n",
    "# # reassign df\n",
    "# combined_df = filtered_df\n",
    "\n",
    "# removed_df.to_csv('cell_lines_removed.csv', index=False)\n",
    "# removed_df.value_counts(\"SAMPLE_CLASS\")\n"
   ]
  },
  {
   "cell_type": "markdown",
   "id": "56b299dc-a8b9-4036-8431-7e336ea69170",
   "metadata": {},
   "source": [
    "#### Write value counts for NaNs"
   ]
  },
  {
   "cell_type": "code",
   "execution_count": 18,
   "id": "96f130c2-8fd1-481b-8f5a-00db0ded9319",
   "metadata": {},
   "outputs": [
    {
     "name": "stdout",
     "output_type": "stream",
     "text": [
      "✅ Value counts written for 28 columns to folder: value_counts_by_column\n"
     ]
    }
   ],
   "source": [
    "# combined_df.isna().sum()\n",
    "\n",
    "# Hugo_Symbol                   0\n",
    "# Chromosome                    0\n",
    "# Start_Position                0\n",
    "# End_Position                  0\n",
    "# Consequence                 124 - some of the Variant_Classification=Silent have no consequence described\n",
    "# Variant_Classification        0\n",
    "# Variant_Type                  0\n",
    "# Reference_Allele              0\n",
    "# Tumor_Seq_Allele2             0\n",
    "# SAMPLE_ID                     0\n",
    "# Sequence_Source               0\n",
    "# HGVSc                       136 - some of the Variant_Classification=Silent and all of the Variant_Classification=3'Flank and 5'Flank\n",
    "# HGVSp                       346 \n",
    "# Transcript_ID               124 - some of the Variant_Classification=Silent have no Transcript_ID described\n",
    "# RefSeq                     1338\n",
    "# Protein_position            334\n",
    "# Gnomad_Notation               0\n",
    "# PATIENT_ID                    0\n",
    "# SAMPLE_CLASS                  0\n",
    "# ONCOTREE_CODE                 0\n",
    "# CANCER_TYPE                   0\n",
    "# CANCER_TYPE_DETAILED          0\n",
    "# TMB_NONSYNONYMOUS             0\n",
    "# AGE                        4745 - some ages undisclosed\n",
    "# SEX                           0\n",
    "# ETHNICITY                 10900 - many patients' ethnicities undisclosed\n",
    "# STUDY_ID                      0\n",
    "\n",
    "\n",
    "# define output folder (will create it if needed)\n",
    "output_dir = \"value_counts_by_column\"\n",
    "os.makedirs(output_dir, exist_ok=True)\n",
    "\n",
    "# loop through each column\n",
    "for col in combined_df.columns:\n",
    "    # build filename\n",
    "    filename = f\"value_counts_{col}.txt\"\n",
    "    filepath = os.path.join(output_dir, filename)\n",
    "    \n",
    "    # write counts to file\n",
    "    with open(filepath, \"w\") as f:\n",
    "        f.write(f\"Value counts for column: {col}\\n\\n\")\n",
    "        f.write(combined_df[col].value_counts(dropna=False).to_string())\n",
    "        f.write(\"\\n\")\n",
    "\n",
    "print(f\"✅ Value counts written for {len(combined_df.columns)} columns to folder: {output_dir}\")\n"
   ]
  },
  {
   "cell_type": "code",
   "execution_count": 19,
   "id": "fbb0df36",
   "metadata": {},
   "outputs": [
    {
     "data": {
      "text/plain": [
       "Hugo_Symbol                0\n",
       "Center                     0\n",
       "Chromosome                 0\n",
       "Start_Position             0\n",
       "End_Position               0\n",
       "Consequence                0\n",
       "Variant_Classification     0\n",
       "Variant_Type               0\n",
       "Reference_Allele           0\n",
       "Tumor_Seq_Allele2          0\n",
       "SAMPLE_ID                  0\n",
       "Sequence_Source            0\n",
       "HGVSc                      2\n",
       "HGVSp                     21\n",
       "HGVSp_Short                2\n",
       "Transcript_ID              0\n",
       "RefSeq                    11\n",
       "Protein_position          21\n",
       "PATIENT_ID                 0\n",
       "ONCOTREE_CODE              0\n",
       "CANCER_TYPE                0\n",
       "CANCER_TYPE_DETAILED       0\n",
       "TMB_NONSYNONYMOUS          0\n",
       "AGE                        0\n",
       "SEX                        0\n",
       "ETHNICITY                  0\n",
       "RACE                       0\n",
       "STUDY_ID                   0\n",
       "dtype: int64"
      ]
     },
     "execution_count": 19,
     "metadata": {},
     "output_type": "execute_result"
    }
   ],
   "source": [
    "combined_df.isna().sum()"
   ]
  },
  {
   "cell_type": "markdown",
   "id": "24f92414-9951-4286-a145-adcc3dab3675",
   "metadata": {},
   "source": [
    "#### Replace missing patient, sample data with \"No_Data\""
   ]
  },
  {
   "cell_type": "code",
   "execution_count": 20,
   "id": "5b032d44-fcdd-45c1-b4cb-6d42c6b23894",
   "metadata": {},
   "outputs": [
    {
     "data": {
      "text/plain": [
       "Hugo_Symbol               0\n",
       "Center                    0\n",
       "Chromosome                0\n",
       "Start_Position            0\n",
       "End_Position              0\n",
       "Consequence               0\n",
       "Variant_Classification    0\n",
       "Variant_Type              0\n",
       "Reference_Allele          0\n",
       "Tumor_Seq_Allele2         0\n",
       "SAMPLE_ID                 0\n",
       "Sequence_Source           0\n",
       "HGVSc                     0\n",
       "HGVSp                     0\n",
       "HGVSp_Short               0\n",
       "Transcript_ID             0\n",
       "RefSeq                    0\n",
       "Protein_position          0\n",
       "PATIENT_ID                0\n",
       "ONCOTREE_CODE             0\n",
       "CANCER_TYPE               0\n",
       "CANCER_TYPE_DETAILED      0\n",
       "TMB_NONSYNONYMOUS         0\n",
       "AGE                       0\n",
       "SEX                       0\n",
       "ETHNICITY                 0\n",
       "RACE                      0\n",
       "STUDY_ID                  0\n",
       "dtype: int64"
      ]
     },
     "execution_count": 20,
     "metadata": {},
     "output_type": "execute_result"
    }
   ],
   "source": [
    "#filling in NaNs - AGE, ETHNICITY, Consequence\n",
    "# TODO add consequence with annotation\n",
    "\n",
    "# cols_to_fill = ['Consequence', 'AGE', 'ETHNICITY']\n",
    "# fill_value = \"No_Data\"\n",
    "\n",
    "# for col in cols_to_fill:\n",
    "#     combined_df[col] = combined_df[col].fillna(fill_value)\n",
    "\n",
    "# combined_df.isna().sum()\n",
    "\n",
    "combined_df = combined_df.fillna('No_Data')\n",
    "\n",
    "combined_df.isna().sum()\n"
   ]
  },
  {
   "cell_type": "markdown",
   "id": "0ae16729-f4ba-44bf-bdbe-b312b46a8482",
   "metadata": {},
   "source": [
    "#### Construct TEMP GnomAD variant ID column"
   ]
  },
  {
   "cell_type": "code",
   "execution_count": 21,
   "id": "2e34f131-d3b7-452c-9c3e-39f79b3157d0",
   "metadata": {},
   "outputs": [],
   "source": [
    "# construct Gnomad variant ID column\n",
    "combined_df[\"temp_Gnomad_Notation\"] = combined_df.apply(\n",
    "    lambda row: f\"{row['Chromosome']}-{row['Start_Position']}-{row['Reference_Allele']}-{row['Tumor_Seq_Allele2']}\",\n",
    "    axis=1\n",
    ")"
   ]
  },
  {
   "cell_type": "markdown",
   "id": "b71c762e-4548-439c-ba88-ec9dbfc049a5",
   "metadata": {},
   "source": [
    "#### Correcting Chromosome 23 samples to X or Y"
   ]
  },
  {
   "cell_type": "markdown",
   "id": "25862726-3cf2-41fc-91a6-ed9a0e6f9038",
   "metadata": {},
   "source": [
    "##### Write initial combined_df to file"
   ]
  },
  {
   "cell_type": "code",
   "execution_count": 22,
   "id": "14a83e5e-5984-4c3c-9d66-a87e7ebe31b2",
   "metadata": {},
   "outputs": [],
   "source": [
    "combined_df.to_csv('output0.csv', index=False)"
   ]
  },
  {
   "cell_type": "markdown",
   "id": "b70f5960-4dfe-425e-8afb-64fc973af53c",
   "metadata": {},
   "source": [
    "##### Set test variables and REST API variables"
   ]
  },
  {
   "cell_type": "code",
   "execution_count": 23,
   "id": "91d4679e-bbff-4262-aa50-4c2cdfa574b5",
   "metadata": {},
   "outputs": [],
   "source": [
    "# BASE_URL = \"https://normalize.cancervariants.org/variation/\"\n",
    "# # HEADERS = {\"Accept\": \"application/json\"}\n",
    "# HEADERS = {\n",
    "#     \"Accept\": \"application/json\",\n",
    "#     \"User-Agent\": \"Mozilla/5.0 (Windows NT 10.0; Win64; x64)\"  # mimics a browser\n",
    "# }\n",
    "# variant = \"23-2408485-G-C\"\n",
    "# gene = \"ZBED1\"\n",
    "\n",
    "PATTERN = re.compile(r'^23-')        # anchored ^ so only the chromosome prefix is substituted\n",
    "\n"
   ]
  },
  {
   "cell_type": "markdown",
   "id": "1674efbf-645c-4fb0-8b5d-89aa0092ff16",
   "metadata": {},
   "source": [
    "##### FUNCTION: Flag rows with Chrom23"
   ]
  },
  {
   "cell_type": "code",
   "execution_count": 24,
   "id": "ae6af5f6-df95-407e-843b-5e500174b3f7",
   "metadata": {},
   "outputs": [],
   "source": [
    "def flag_rows_chrom_23(df):\n",
    "    \"\"\"\n",
    "    Create \"Chrom_23\" column, True for those with Chromosome = 23\n",
    "\n",
    "    Parameters\n",
    "    ----------\n",
    "    df : pd.DataFrame\n",
    "        Must contain column 'Chromosome'.\n",
    "    \n",
    "    Returns\n",
    "    -------\n",
    "    dataframe\n",
    "    \"\"\"\n",
    "    df[\"Chrom_23\"] = False\n",
    "    # print(combined_df.head)\n",
    "    df[\"Chrom_23\"] = df[\"Chromosome\"].astype(str).str.strip().eq(\"23\")\n",
    "    df.loc[df[\"Chromosome\"] == 23, \"Chrom_23\"] = True\n",
    "    # print(combined_df[\"Chrom_23\"].value_counts())\n",
    "    # print(combined_df[\"Chromosome\"].value_counts())\n",
    "    \n",
    "    return df\n",
    "\n",
    "combined_df = flag_rows_chrom_23(combined_df)\n",
    "\n",
    "combined_df.to_csv(\"output_flag_chrom_23.csv\", index=False)"
   ]
  },
  {
   "cell_type": "markdown",
   "id": "adcedfb9-01e0-4b35-8b47-d174acc8913d",
   "metadata": {},
   "source": [
    "##### FUNCTION: change female chrom23 to X"
   ]
  },
  {
   "cell_type": "code",
   "execution_count": 25,
   "id": "a8d93f16-6243-4659-a0f9-2dda39f41c45",
   "metadata": {},
   "outputs": [],
   "source": [
    "# print(combined_df[\"Chromosome\"].value_counts())\n",
    "\n",
    "def chr23_female(df):\n",
    "    \"\"\"\n",
    "    Convert Chromosome 23 to 'X' for rows where SEX is female.\n",
    "    \n",
    "    Parameters\n",
    "    ----------\n",
    "    df : pd.DataFrame\n",
    "        Must contain columns 'Chromosome' and 'SEX'.\n",
    "    \n",
    "    Returns\n",
    "    -------\n",
    "    dataframe\n",
    "    \"\"\"\n",
    "    # Ensure we’re comparing like with like\n",
    "    chr_col = df[\"Chromosome\"].astype(str).str.strip()\n",
    "    sex_col = df[\"SEX\"].astype(str).str.upper().str.strip()   # handles 'F', 'f', 'Female', etc.\n",
    "    \n",
    "    mask = (chr_col == \"23\") & (sex_col.str.startswith(\"F\"))\n",
    "    df.loc[mask, \"Chromosome\"] = \"X\"\n",
    "    return df\n",
    "\n",
    "combined_df = chr23_female(combined_df)\n",
    "\n",
    "# print(combined_df[\"Chromosome\"].value_counts())\n",
    "\n",
    "combined_df.to_csv('output1_femaleX.csv', index=False)"
   ]
  },
  {
   "cell_type": "markdown",
   "id": "c2561146-6f6b-42ab-80c1-02b741f144a6",
   "metadata": {},
   "source": [
    "##### FUNCTION: Add cols for Chr23_X and Chr23_Y, fill with false"
   ]
  },
  {
   "cell_type": "code",
   "execution_count": 26,
   "id": "1af4f568-4f1b-49db-b467-c96601462b46",
   "metadata": {},
   "outputs": [],
   "source": [
    "def add_cols_chrom_23_male(df):\n",
    "    \"\"\"\n",
    "    Create \"Chr23_X and Chr23_Y\" columns, fill with false\n",
    "\n",
    "    Parameters\n",
    "    ----------\n",
    "    df : pd.DataFrame\n",
    "        Must contain column 'Chromosome'.\n",
    "    \n",
    "    Returns\n",
    "    -------\n",
    "    dataframe\n",
    "    \"\"\"\n",
    "    df[\"Chr23_X\"] = False\n",
    "    df[\"Chr23_Y\"] = False\n",
    "    # df[\"Chrom_23\"] = df[\"Chromosome\"].astype(str).str.strip().eq(\"23\")\n",
    "    # df.loc[df[\"Chromosome\"] == 23, \"Chrom_23\"] = True\n",
    "    # print(combined_df[\"Chr23_X\"].value_counts())\n",
    "    # print(combined_df[\"Chr23_Y\"].value_counts())\n",
    "    return df\n",
    "\n",
    "combined_df = add_cols_chrom_23_male(combined_df)\n",
    "combined_df.to_csv('output2_new_chr23_boolean_cols.csv', index=False)"
   ]
  },
  {
   "cell_type": "markdown",
   "id": "4b658bce-5d6f-4425-adae-c558405b5cd4",
   "metadata": {},
   "source": [
    "##### FUNCTION: Adjust GnomAD variant to accept X"
   ]
  },
  {
   "cell_type": "code",
   "execution_count": 27,
   "id": "45a3f2f9-eb2f-436d-afb9-ba34549ab844",
   "metadata": {},
   "outputs": [],
   "source": [
    "def chr23_to_X(variant: str) -> str:\n",
    "    \"\"\"Convert a single '23-' prefix in a variant string to 'X-'.\"\"\"\n",
    "    return PATTERN.sub('X-', variant) if isinstance(variant, str) else variant\n",
    "\n",
    "# x_variant = chr23_to_X(variant)\n",
    "# print(x_variant)"
   ]
  },
  {
   "cell_type": "markdown",
   "id": "2d3684d2-171a-4bec-a7e5-7e31fb981843",
   "metadata": {},
   "source": [
    "##### FUNCTION: Adjust GnomAD variant to accept Y"
   ]
  },
  {
   "cell_type": "code",
   "execution_count": 28,
   "id": "3131ab23",
   "metadata": {},
   "outputs": [],
   "source": [
    "def chr23_to_Y(variant: str) -> str:\n",
    "    \"\"\"Convert a '23-' prefix in a single variant string to 'Y-'.\"\"\"\n",
    "    return PATTERN.sub('Y-', variant) if isinstance(variant, str) else variant\n",
    "\n",
    "# y_variant = chr23_to_Y(variant)\n",
    "# print(y_variant)"
   ]
  },
  {
   "cell_type": "markdown",
   "id": "29ff163d-467b-45f6-8fd8-f60c712b3218",
   "metadata": {},
   "source": [
    "##### FUNCTION: Test tokenization"
   ]
  },
  {
   "cell_type": "code",
   "execution_count": 29,
   "id": "21497eb6-533b-4e1d-a205-0eb32d868be6",
   "metadata": {},
   "outputs": [],
   "source": [
    "def test_variant_tokenization(variant: str, delay=0.5):\n",
    "    \"\"\"\n",
    "    Fetch normalized variant info from VICC API for a single variant string.\n",
    "\n",
    "    Parameters\n",
    "    ----------\n",
    "    variant : str\n",
    "        A GnomAD-style variant (e.g., '23-2408485-G-C').\n",
    "    delay : float\n",
    "        Seconds to wait between API requests (default 0.5).\n",
    "\n",
    "    Returns\n",
    "    -------\n",
    "    pd.DataFrame\n",
    "        DataFrame with original variant and raw JSON string response.\n",
    "    \"\"\"\n",
    "    \n",
    "    # BASE_URL = \"https://normalize.cancervariants.org/variation/\"\n",
    "    BASE_URL = \"http://localhost:8001/variation/\"\n",
    "    HEADERS = {\n",
    "        \"Accept\": \"application/json\",\n",
    "        \"User-Agent\": \"Mozilla/5.0 (Windows NT 10.0; Win64; x64)\"  # mimics a browser\n",
    "        }\n",
    "    \n",
    "    results = []\n",
    "\n",
    "    # url = f\"{BASE_URL}normalize?q={variant}\"\n",
    "    url = f\"{BASE_URL}normalize?q={variant}&hgvs_dup_del_mode=default&input_assembly=GRCh37\"\n",
    "\n",
    "    try:\n",
    "        response = requests.get(url, headers=HEADERS)\n",
    "        if response.status_code == 200:\n",
    "            data = response.json()\n",
    "            results.append({\n",
    "                \"variant\": variant,\n",
    "                \"response\": json.dumps(data)\n",
    "            })\n",
    "        else:\n",
    "            results.append({\n",
    "                \"variant\": variant,\n",
    "                \"response\": f\"Error {response.status_code}: {response.text}\"\n",
    "            })\n",
    "    except Exception as e:\n",
    "        results.append({\n",
    "            \"variant\": variant,\n",
    "            \"response\": f\"Exception: {str(e)}\"\n",
    "        })\n",
    "\n",
    "    time.sleep(delay)\n",
    "\n",
    "    return pd.DataFrame(results)\n"
   ]
  },
  {
   "cell_type": "markdown",
   "id": "d447f008-e20c-4328-b44c-fd4c7589dabc",
   "metadata": {},
   "source": [
    "##### FUNCTION: Check if variant on X"
   ]
  },
  {
   "cell_type": "code",
   "execution_count": 30,
   "id": "fb88a037-a608-45e5-91a2-1a71327e1d97",
   "metadata": {},
   "outputs": [],
   "source": [
    "def check_for_x_variant(df, variant):\n",
    "    # Convert the variant to X-style format (e.g., \"23-...\" → \"X-...\")\n",
    "    variant_x = chr23_to_X(variant)\n",
    "\n",
    "    # Query the API and get a one-row DataFrame\n",
    "    x_df = test_variant_tokenization(variant_x)  # returns a one-row DataFrame\n",
    "\n",
    "    # Extract and parse JSON string from the response\n",
    "    raw_response = x_df.loc[0, \"response\"]\n",
    "\n",
    "    try:\n",
    "        parsed_response = json.loads(raw_response)\n",
    "    except json.JSONDecodeError:\n",
    "        print(f\"❌ Failed to parse JSON for: {variant_x}\")\n",
    "        return df\n",
    "\n",
    "    # Ensure 'variation' is in the parsed response\n",
    "    if \"variation\" not in parsed_response:\n",
    "        print(f\"⚠️ 'variation' key not found for: {variant_x}\")\n",
    "        return df\n",
    "\n",
    "    # Try to extract hgnc_id if available\n",
    "    hgnc_id = None\n",
    "    try:\n",
    "        hgnc_id = parsed_response[\"variation\"][\"extensions\"][0][\"value\"][0][\"hgnc_id\"]\n",
    "        print(f\"✅ Extracted HGNC ID for {variant_x}: {hgnc_id}\")\n",
    "    except (KeyError, IndexError, TypeError):\n",
    "        print(f\"⚠️ No HGNC ID found for: {variant_x}\")\n",
    "\n",
    "    # Initialize columns if needed\n",
    "    if \"x_hgnc_id\" not in df.columns:\n",
    "        df[\"x_hgnc_id\"] = \"no_value\"\n",
    "    if \"Chr23_X\" not in df.columns:\n",
    "        df[\"Chr23_X\"] = False\n",
    "\n",
    "    # Reconstruct variant string from each row to match normalized variant_x\n",
    "    reconstructed = (\n",
    "        \"X-\" +\n",
    "        df[\"Start_Position\"].astype(str).str.strip() + \"-\" +\n",
    "        df[\"Reference_Allele\"].astype(str).str.strip() + \"-\" +\n",
    "        df[\"Tumor_Seq_Allele2\"].astype(str).str.strip()\n",
    "    )\n",
    "\n",
    "    # Mask: match rows on reconstructed X-variant and Chromosome == 23\n",
    "    chrom_col = df[\"Chromosome\"].astype(str).str.strip()\n",
    "    mask = (chrom_col == \"23\") & (reconstructed == variant_x)\n",
    "\n",
    "    print(f\"🧪 Matched {mask.sum()} row(s) for {variant_x}\")\n",
    "\n",
    "    # Set Chr23_X = True\n",
    "    df.loc[mask, \"Chr23_X\"] = True\n",
    "\n",
    "    # Set x_hgnc_id if available\n",
    "    if hgnc_id is not None:\n",
    "        df.loc[mask, \"x_hgnc_id\"] = hgnc_id\n",
    "\n",
    "    return df\n",
    "\n",
    "\n",
    "\n",
    "\n"
   ]
  },
  {
   "cell_type": "markdown",
   "id": "90011ef4-8467-47e8-86a8-9e4c4f0b99c5",
   "metadata": {},
   "source": [
    "##### FUNCTION: Check if variant on Y"
   ]
  },
  {
   "cell_type": "code",
   "execution_count": 31,
   "id": "1ce24b9c-aa33-4fef-a96c-43e168ddc3d2",
   "metadata": {},
   "outputs": [],
   "source": [
    "def check_for_y_variant(df, variant):\n",
    "    # Convert the variant to Y-style format (e.g., \"23-...\" → \"Y-...\")\n",
    "    variant_y = chr23_to_Y(variant)\n",
    "\n",
    "    # Query the API and get a one-row DataFrame\n",
    "    y_df = test_variant_tokenization(variant_y)  # returns a one-row DataFrame\n",
    "\n",
    "    # Extract and parse JSON string from the response\n",
    "    raw_response = y_df.loc[0, \"response\"]\n",
    "\n",
    "    try:\n",
    "        parsed_response = json.loads(raw_response)\n",
    "    except json.JSONDecodeError:\n",
    "        print(f\"❌ Failed to parse JSON for: {variant_y}\")\n",
    "        return df\n",
    "\n",
    "    # Ensure 'variation' is in the parsed response\n",
    "    if \"variation\" not in parsed_response:\n",
    "        print(f\"⚠️ 'variation' key not found for: {variant_y}\")\n",
    "        return df\n",
    "\n",
    "    # Try to extract hgnc_id if available\n",
    "    hgnc_id = None\n",
    "    try:\n",
    "        hgnc_id = parsed_response[\"variation\"][\"extensions\"][0][\"value\"][0][\"hgnc_id\"]\n",
    "        print(f\"✅ Extracted HGNC ID for {variant_y}: {hgnc_id}\")\n",
    "    except (KeyError, IndexError, TypeError):\n",
    "        print(f\"⚠️ No HGNC ID found for: {variant_y}\")\n",
    "\n",
    "    # Initialize columns if needed\n",
    "    if \"y_hgnc_id\" not in df.columns:\n",
    "        df[\"y_hgnc_id\"] = \"no_value\"\n",
    "    if \"Chr23_Y\" not in df.columns:\n",
    "        df[\"Chr23_Y\"] = False\n",
    "\n",
    "    # Reconstruct variant string from each row to match normalized variant_y\n",
    "    reconstructed = (\n",
    "        \"Y-\" +\n",
    "        df[\"Start_Position\"].astype(str).str.strip() + \"-\" +\n",
    "        df[\"Reference_Allele\"].astype(str).str.strip() + \"-\" +\n",
    "        df[\"Tumor_Seq_Allele2\"].astype(str).str.strip()\n",
    "    )\n",
    "\n",
    "    # Mask: match rows on reconstructed Y-variant and Chromosome == 23\n",
    "    chrom_col = df[\"Chromosome\"].astype(str).str.strip()\n",
    "    mask = (chrom_col == \"23\") & (reconstructed == variant_y)\n",
    "\n",
    "    print(f\"🧪 Matched {mask.sum()} row(s) for {variant_y}\")\n",
    "\n",
    "    # Set Chr23_Y = True\n",
    "    df.loc[mask, \"Chr23_Y\"] = True\n",
    "\n",
    "    # Set y_hgnc_id if available\n",
    "    if hgnc_id is not None:\n",
    "        df.loc[mask, \"y_hgnc_id\"] = hgnc_id\n",
    "\n",
    "    return df\n",
    "\n"
   ]
  },
  {
   "cell_type": "markdown",
   "id": "18252a87-c901-46f8-9b13-715d20f32099",
   "metadata": {},
   "source": [
    "##### FUNCTION: Master function for dealing with male chrom23 "
   ]
  },
  {
   "cell_type": "code",
   "execution_count": 32,
   "id": "0a18fa41-7ef2-49a9-a4f4-ffb183fb881d",
   "metadata": {},
   "outputs": [],
   "source": [
    "def chr23_male(df, variant):\n",
    "    # df = add_cols_chrom_23_male(df)          # prep chromosome-23 columns\n",
    "    if \"Chr23_X\" not in df.columns:\n",
    "        df[\"Chr23_X\"] = False\n",
    "    if \"Chr23_Y\" not in df.columns:\n",
    "        df[\"Chr23_Y\"] = False\n",
    "    df = check_for_x_variant(df, variant)    # pass **both** args\n",
    "    df = check_for_y_variant(df, variant)\n",
    "\n",
    "    df.to_csv(\"output2_new_chr23_boolean_cols.csv\", index=False)\n",
    "    return df\n"
   ]
  },
  {
   "cell_type": "markdown",
   "id": "787a27a5",
   "metadata": {},
   "source": [
    "##### Setting chromosome 23 variant notations as a list\n"
   ]
  },
  {
   "cell_type": "code",
   "execution_count": 33,
   "id": "a7f214e5",
   "metadata": {},
   "outputs": [
    {
     "name": "stdout",
     "output_type": "stream",
     "text": [
      "Total variants in list: 0\n",
      "Sample of chrom_23_list: []\n"
     ]
    }
   ],
   "source": [
    "\n",
    "chrom_23_list = combined_df[\n",
    "    (combined_df[\"SEX\"].str.lower() == \"male\") &\n",
    "    (combined_df[\"Chrom_23\"] == True)\n",
    "][\"temp_Gnomad_Notation\"].dropna().tolist()\n",
    "\n",
    "print(\"Total variants in list:\", len(chrom_23_list))\n",
    "print(\"Sample of chrom_23_list:\", chrom_23_list[:5])\n",
    "\n",
    "# print(len(chrom_23_list))\n",
    "\n",
    "# with open(\"chrom_23_list.json\", \"w\") as f:\n",
    "#     json.dump(chrom_23_list, f, indent=2)"
   ]
  },
  {
   "cell_type": "markdown",
   "id": "48852d18",
   "metadata": {},
   "source": [
    "##### Initialize x_hgnc_id and y_hgnc_id columns\n"
   ]
  },
  {
   "cell_type": "code",
   "execution_count": 34,
   "id": "7d61f8f5",
   "metadata": {},
   "outputs": [],
   "source": [
    "if \"x_hgnc_id\" not in combined_df.columns:\n",
    "    combined_df[\"x_hgnc_id\"] = \"no_value\"\n",
    "if \"y_hgnc_id\" not in combined_df.columns:\n",
    "    combined_df[\"y_hgnc_id\"] = \"no_value\""
   ]
  },
  {
   "cell_type": "markdown",
   "id": "86247e94-f6e5-4036-b60f-77f9ea327693",
   "metadata": {},
   "source": [
    "##### RUN: driver function"
   ]
  },
  {
   "cell_type": "code",
   "execution_count": 35,
   "id": "91705e89-0bb1-43e4-acfb-e65ee791c519",
   "metadata": {},
   "outputs": [
    {
     "name": "stdout",
     "output_type": "stream",
     "text": [
      "Chr23_X\n",
      "False    122\n",
      "Name: count, dtype: int64\n",
      "Chr23_Y\n",
      "False    122\n",
      "Name: count, dtype: int64\n"
     ]
    }
   ],
   "source": [
    "# Start with a copy of your combined_df\n",
    "result_df = combined_df.copy()\n",
    "\n",
    "# Iterate through each chromosome 23 variant for male samples\n",
    "for variant in chrom_23_list:\n",
    "    print(f\"▶️ Checking variant: {variant}\")  # Add this line\n",
    "    result_df = chr23_male(result_df, variant)\n",
    "\n",
    "# Now all updates are preserved in result_df\n",
    "print(result_df[\"Chr23_X\"].value_counts(dropna=False))\n",
    "print(result_df[\"Chr23_Y\"].value_counts(dropna=False))\n",
    "\n",
    "# Save the final output to CSV\n",
    "result_df.to_csv(\"output_post_23_BOOLEAN.csv\", index=False)\n",
    "\n",
    "##TODO: THIS IS ONLY CHANGING ZNF449 TO TRUE FOR X\n",
    "##TODO: SOME GENES SHOW ALIASES, SOME ARE WRONG GENES\n",
    "##TODO: MUST TRUST THAT NORMALIZER IS DOING ITS JOB. WHEN A NEW SYMBOL COMES BACK, BUT THEY ARE ALIASES, NORMALIZER GIVES \n",
    "##TODO: USE GENEID INSTEAD OF GENE SYMBOL FOR TOKENIZATION TEST. DO VARIATION TESTER FOR GENE SYMBOL AND THEN GET GENE ID. THEN TEST VARIANT, GET GENE ID. IF THEY ARE THE SAME, RECORD.  \n",
    "##TODO: why aren't some of the x variants showing up with hgnc IDs.  Like X-84258927-C-T"
   ]
  },
  {
   "cell_type": "markdown",
   "id": "a9573318-5a06-4f42-a58a-9bc1a6f56ef9",
   "metadata": {},
   "source": [
    "##### FUNCTION: Reassign male chrom 23s"
   ]
  },
  {
   "cell_type": "code",
   "execution_count": 36,
   "id": "de80033f-138b-4cd3-ba04-ce074cc61768",
   "metadata": {},
   "outputs": [],
   "source": [
    "def correct_male_chrom23(df):\n",
    "    # Initialize ambig_chrom column\n",
    "    df[\"ambig_chrom\"] = \"non-ambiguous\"\n",
    "\n",
    "    def update_row(row):\n",
    "        if row.get(\"Chrom_23\") is True and str(row.get(\"SEX\", \"\")).strip().lower() == \"male\":\n",
    "            if row[\"Chr23_X\"] and not row[\"Chr23_Y\"]:\n",
    "                row[\"Chromosome\"] = \"X\"\n",
    "            elif row[\"Chr23_Y\"] and not row[\"Chr23_X\"]:\n",
    "                row[\"Chromosome\"] = \"Y\"\n",
    "            elif row[\"Chr23_X\"] and row[\"Chr23_Y\"]:\n",
    "                row[\"ambig_chrom\"] = \"XY\"\n",
    "            else:  # neither Chr23_X nor Chr23_Y is True\n",
    "                row[\"ambig_chrom\"] = \"neither\"\n",
    "        return row\n",
    "\n",
    "    # Apply corrections row-by-row\n",
    "    df = df.apply(update_row, axis=1)\n",
    "\n",
    "    # Check for ambiguous rows\n",
    "    ambig_rows = df[df[\"ambig_chrom\"].isin([\"XY\", \"neither\"])]\n",
    "    if not ambig_rows.empty:\n",
    "        print(f\"⚠️ Found {len(ambig_rows)} row(s) with ambiguous chromosome identification.\")\n",
    "        print(ambig_rows[[\"temp_Gnomad_Notation\", \"Hugo_Symbol\", \"ambig_chrom\"]].head())\n",
    "\n",
    "    return df\n",
    "\n",
    "\n"
   ]
  },
  {
   "cell_type": "markdown",
   "id": "0c09cbb2-bd23-4424-87f4-05cb9f21ae61",
   "metadata": {},
   "source": [
    "##### RUN: Correct male 23s and see if any ambiguous chromosome 23 values exist"
   ]
  },
  {
   "cell_type": "code",
   "execution_count": 37,
   "id": "6dbe5829-d125-46b7-9a56-4411b305aec9",
   "metadata": {},
   "outputs": [
    {
     "name": "stdout",
     "output_type": "stream",
     "text": [
      "ambig_chrom\n",
      "non-ambiguous    122\n",
      "Name: count, dtype: int64\n"
     ]
    }
   ],
   "source": [
    "result_df = correct_male_chrom23(result_df)\n",
    "\n",
    "print(result_df[\"ambig_chrom\"].value_counts())\n",
    "\n",
    "result_df.to_csv(\"output_post_23_correction.csv\", index=False)\n",
    "\n",
    "# result_df \n"
   ]
  },
  {
   "cell_type": "markdown",
   "id": "e1d91b95",
   "metadata": {},
   "source": [
    "##### FUNCTION: correct ambiguous chromosomes"
   ]
  },
  {
   "cell_type": "code",
   "execution_count": 38,
   "id": "8c8c0df7",
   "metadata": {},
   "outputs": [],
   "source": [
    "def resolve_ambiguous_chromosomes(df):\n",
    "    \"\"\"\n",
    "    Resolve ambiguous Chr23 variants in male samples and flag problematic rows.\n",
    "\n",
    "    - For Chrom_23 == True and SEX == male:\n",
    "      - If both x_hgnc_id and y_hgnc_id have values → ⚠️ warn\n",
    "      - If neither has values → ❌ warn\n",
    "      - If ambig_chrom == \"XY\" or \"neither\", try to resolve Chromosome field\n",
    "    \"\"\"\n",
    "    chrom23_male_mask = (\n",
    "        (df[\"Chrom_23\"] == True) &\n",
    "        (df[\"SEX\"].str.lower().str.strip() == \"male\")\n",
    "    )\n",
    "\n",
    "    for idx, row in df[chrom23_male_mask].iterrows():\n",
    "        x_id = str(row.get(\"x_hgnc_id\", \"\")).strip()\n",
    "        y_id = str(row.get(\"y_hgnc_id\", \"\")).strip()\n",
    "        ambig_status = row.get(\"ambig_chrom\", \"not_set\")\n",
    "\n",
    "        # ⚠️ Raise general warnings, regardless of ambig_chrom\n",
    "        if x_id != \"no_value\" and y_id != \"no_value\":\n",
    "            print(f\"⚠️ Row {idx}: Both x_hgnc_id and y_hgnc_id have values. Manual check recommended.\")\n",
    "        elif x_id == \"no_value\" and y_id == \"no_value\":\n",
    "            print(f\"❌ Row {idx}: Neither x_hgnc_id nor y_hgnc_id has a value.\")\n",
    "\n",
    "        # ✅ Try resolving ambiguous chromosomes\n",
    "        if ambig_status in [\"XY\", \"neither\"]:\n",
    "            if x_id != \"no_value\" and y_id == \"no_value\":\n",
    "                df.at[idx, \"Chromosome\"] = \"X\"\n",
    "                df.at[idx, \"ambig_chrom\"] = \"resolved_X\"\n",
    "                print(f\"✅ Resolved index {idx} to Chromosome X\")\n",
    "            elif y_id != \"no_value\" and x_id == \"no_value\":\n",
    "                df.at[idx, \"Chromosome\"] = \"Y\"\n",
    "                df.at[idx, \"ambig_chrom\"] = \"resolved_Y\"\n",
    "                print(f\"✅ Resolved index {idx} to Chromosome Y\")\n",
    "            elif x_id != \"no_value\" and y_id != \"no_value\":\n",
    "                print(f\"⚠️ Index {idx}: Ambiguous Chromosome with both HGNC IDs present.\")\n",
    "            else:\n",
    "                print(f\"❌ Index {idx}: Ambiguous Chromosome with no HGNC ID found.\")\n",
    "\n",
    "    return df\n",
    "\n",
    "\n"
   ]
  },
  {
   "cell_type": "markdown",
   "id": "acf98c7f",
   "metadata": {},
   "source": [
    "##### RUN: resolve ambiguous chromosomes"
   ]
  },
  {
   "cell_type": "code",
   "execution_count": 39,
   "id": "a04899f8",
   "metadata": {},
   "outputs": [
    {
     "data": {
      "text/html": [
       "<div>\n",
       "<style scoped>\n",
       "    .dataframe tbody tr th:only-of-type {\n",
       "        vertical-align: middle;\n",
       "    }\n",
       "\n",
       "    .dataframe tbody tr th {\n",
       "        vertical-align: top;\n",
       "    }\n",
       "\n",
       "    .dataframe thead th {\n",
       "        text-align: right;\n",
       "    }\n",
       "</style>\n",
       "<table border=\"1\" class=\"dataframe\">\n",
       "  <thead>\n",
       "    <tr style=\"text-align: right;\">\n",
       "      <th></th>\n",
       "      <th>Hugo_Symbol</th>\n",
       "      <th>Center</th>\n",
       "      <th>Chromosome</th>\n",
       "      <th>Start_Position</th>\n",
       "      <th>End_Position</th>\n",
       "      <th>Consequence</th>\n",
       "      <th>Variant_Classification</th>\n",
       "      <th>Variant_Type</th>\n",
       "      <th>Reference_Allele</th>\n",
       "      <th>Tumor_Seq_Allele2</th>\n",
       "      <th>...</th>\n",
       "      <th>ETHNICITY</th>\n",
       "      <th>RACE</th>\n",
       "      <th>STUDY_ID</th>\n",
       "      <th>temp_Gnomad_Notation</th>\n",
       "      <th>Chrom_23</th>\n",
       "      <th>Chr23_X</th>\n",
       "      <th>Chr23_Y</th>\n",
       "      <th>x_hgnc_id</th>\n",
       "      <th>y_hgnc_id</th>\n",
       "      <th>ambig_chrom</th>\n",
       "    </tr>\n",
       "  </thead>\n",
       "  <tbody>\n",
       "    <tr>\n",
       "      <th>0</th>\n",
       "      <td>SOCS5</td>\n",
       "      <td>TARGET</td>\n",
       "      <td>2</td>\n",
       "      <td>46988429</td>\n",
       "      <td>46988429</td>\n",
       "      <td>3_prime_UTR_variant</td>\n",
       "      <td>3'UTR</td>\n",
       "      <td>SNP</td>\n",
       "      <td>A</td>\n",
       "      <td>C</td>\n",
       "      <td>...</td>\n",
       "      <td>Not Hispanic or Latino</td>\n",
       "      <td>White</td>\n",
       "      <td>rt_target_2018_pub</td>\n",
       "      <td>2-46988429-A-C</td>\n",
       "      <td>False</td>\n",
       "      <td>False</td>\n",
       "      <td>False</td>\n",
       "      <td>no_value</td>\n",
       "      <td>no_value</td>\n",
       "      <td>non-ambiguous</td>\n",
       "    </tr>\n",
       "    <tr>\n",
       "      <th>1</th>\n",
       "      <td>CPSF1</td>\n",
       "      <td>TARGET</td>\n",
       "      <td>8</td>\n",
       "      <td>145619874</td>\n",
       "      <td>145619874</td>\n",
       "      <td>synonymous_variant</td>\n",
       "      <td>Silent</td>\n",
       "      <td>SNP</td>\n",
       "      <td>C</td>\n",
       "      <td>G</td>\n",
       "      <td>...</td>\n",
       "      <td>Not Hispanic or Latino</td>\n",
       "      <td>White</td>\n",
       "      <td>rt_target_2018_pub</td>\n",
       "      <td>8-145619874-C-G</td>\n",
       "      <td>False</td>\n",
       "      <td>False</td>\n",
       "      <td>False</td>\n",
       "      <td>no_value</td>\n",
       "      <td>no_value</td>\n",
       "      <td>non-ambiguous</td>\n",
       "    </tr>\n",
       "    <tr>\n",
       "      <th>2</th>\n",
       "      <td>SMARCB1</td>\n",
       "      <td>TARGET</td>\n",
       "      <td>22</td>\n",
       "      <td>24133990</td>\n",
       "      <td>24133990</td>\n",
       "      <td>stop_gained</td>\n",
       "      <td>Nonsense_Mutation</td>\n",
       "      <td>SNP</td>\n",
       "      <td>C</td>\n",
       "      <td>A</td>\n",
       "      <td>...</td>\n",
       "      <td>Not Hispanic or Latino</td>\n",
       "      <td>White</td>\n",
       "      <td>rt_target_2018_pub</td>\n",
       "      <td>22-24133990-C-A</td>\n",
       "      <td>False</td>\n",
       "      <td>False</td>\n",
       "      <td>False</td>\n",
       "      <td>no_value</td>\n",
       "      <td>no_value</td>\n",
       "      <td>non-ambiguous</td>\n",
       "    </tr>\n",
       "    <tr>\n",
       "      <th>3</th>\n",
       "      <td>NDUFAF6</td>\n",
       "      <td>TARGET</td>\n",
       "      <td>8</td>\n",
       "      <td>96037387</td>\n",
       "      <td>96037387</td>\n",
       "      <td>stop_gained</td>\n",
       "      <td>Nonsense_Mutation</td>\n",
       "      <td>SNP</td>\n",
       "      <td>G</td>\n",
       "      <td>T</td>\n",
       "      <td>...</td>\n",
       "      <td>Unknown</td>\n",
       "      <td>White</td>\n",
       "      <td>rt_target_2018_pub</td>\n",
       "      <td>8-96037387-G-T</td>\n",
       "      <td>False</td>\n",
       "      <td>False</td>\n",
       "      <td>False</td>\n",
       "      <td>no_value</td>\n",
       "      <td>no_value</td>\n",
       "      <td>non-ambiguous</td>\n",
       "    </tr>\n",
       "    <tr>\n",
       "      <th>4</th>\n",
       "      <td>NDUFAF6</td>\n",
       "      <td>TARGET</td>\n",
       "      <td>8</td>\n",
       "      <td>96037388</td>\n",
       "      <td>96037388</td>\n",
       "      <td>missense_variant</td>\n",
       "      <td>Missense_Mutation</td>\n",
       "      <td>SNP</td>\n",
       "      <td>G</td>\n",
       "      <td>T</td>\n",
       "      <td>...</td>\n",
       "      <td>Unknown</td>\n",
       "      <td>White</td>\n",
       "      <td>rt_target_2018_pub</td>\n",
       "      <td>8-96037388-G-T</td>\n",
       "      <td>False</td>\n",
       "      <td>False</td>\n",
       "      <td>False</td>\n",
       "      <td>no_value</td>\n",
       "      <td>no_value</td>\n",
       "      <td>non-ambiguous</td>\n",
       "    </tr>\n",
       "    <tr>\n",
       "      <th>...</th>\n",
       "      <td>...</td>\n",
       "      <td>...</td>\n",
       "      <td>...</td>\n",
       "      <td>...</td>\n",
       "      <td>...</td>\n",
       "      <td>...</td>\n",
       "      <td>...</td>\n",
       "      <td>...</td>\n",
       "      <td>...</td>\n",
       "      <td>...</td>\n",
       "      <td>...</td>\n",
       "      <td>...</td>\n",
       "      <td>...</td>\n",
       "      <td>...</td>\n",
       "      <td>...</td>\n",
       "      <td>...</td>\n",
       "      <td>...</td>\n",
       "      <td>...</td>\n",
       "      <td>...</td>\n",
       "      <td>...</td>\n",
       "      <td>...</td>\n",
       "    </tr>\n",
       "    <tr>\n",
       "      <th>117</th>\n",
       "      <td>TUBGCP6</td>\n",
       "      <td>TARGET</td>\n",
       "      <td>22</td>\n",
       "      <td>50657026</td>\n",
       "      <td>50657026</td>\n",
       "      <td>synonymous_variant</td>\n",
       "      <td>Silent</td>\n",
       "      <td>SNP</td>\n",
       "      <td>G</td>\n",
       "      <td>A</td>\n",
       "      <td>...</td>\n",
       "      <td>Not Hispanic or Latino</td>\n",
       "      <td>White</td>\n",
       "      <td>rt_target_2018_pub</td>\n",
       "      <td>22-50657026-G-A</td>\n",
       "      <td>False</td>\n",
       "      <td>False</td>\n",
       "      <td>False</td>\n",
       "      <td>no_value</td>\n",
       "      <td>no_value</td>\n",
       "      <td>non-ambiguous</td>\n",
       "    </tr>\n",
       "    <tr>\n",
       "      <th>118</th>\n",
       "      <td>WDR90</td>\n",
       "      <td>TARGET</td>\n",
       "      <td>16</td>\n",
       "      <td>710622</td>\n",
       "      <td>710622</td>\n",
       "      <td>missense_variant</td>\n",
       "      <td>Missense_Mutation</td>\n",
       "      <td>SNP</td>\n",
       "      <td>C</td>\n",
       "      <td>T</td>\n",
       "      <td>...</td>\n",
       "      <td>Unknown</td>\n",
       "      <td>Unknown</td>\n",
       "      <td>rt_target_2018_pub</td>\n",
       "      <td>16-710622-C-T</td>\n",
       "      <td>False</td>\n",
       "      <td>False</td>\n",
       "      <td>False</td>\n",
       "      <td>no_value</td>\n",
       "      <td>no_value</td>\n",
       "      <td>non-ambiguous</td>\n",
       "    </tr>\n",
       "    <tr>\n",
       "      <th>119</th>\n",
       "      <td>SMARCB1</td>\n",
       "      <td>TARGET</td>\n",
       "      <td>22</td>\n",
       "      <td>24159055</td>\n",
       "      <td>24159055</td>\n",
       "      <td>stop_gained</td>\n",
       "      <td>Nonsense_Mutation</td>\n",
       "      <td>SNP</td>\n",
       "      <td>C</td>\n",
       "      <td>T</td>\n",
       "      <td>...</td>\n",
       "      <td>Unknown</td>\n",
       "      <td>Unknown</td>\n",
       "      <td>rt_target_2018_pub</td>\n",
       "      <td>22-24159055-C-T</td>\n",
       "      <td>False</td>\n",
       "      <td>False</td>\n",
       "      <td>False</td>\n",
       "      <td>no_value</td>\n",
       "      <td>no_value</td>\n",
       "      <td>non-ambiguous</td>\n",
       "    </tr>\n",
       "    <tr>\n",
       "      <th>120</th>\n",
       "      <td>NBN</td>\n",
       "      <td>TARGET</td>\n",
       "      <td>8</td>\n",
       "      <td>90982615</td>\n",
       "      <td>90982615</td>\n",
       "      <td>missense_variant</td>\n",
       "      <td>Missense_Mutation</td>\n",
       "      <td>SNP</td>\n",
       "      <td>C</td>\n",
       "      <td>G</td>\n",
       "      <td>...</td>\n",
       "      <td>Not Hispanic or Latino</td>\n",
       "      <td>White</td>\n",
       "      <td>rt_target_2018_pub</td>\n",
       "      <td>8-90982615-C-G</td>\n",
       "      <td>False</td>\n",
       "      <td>False</td>\n",
       "      <td>False</td>\n",
       "      <td>no_value</td>\n",
       "      <td>no_value</td>\n",
       "      <td>non-ambiguous</td>\n",
       "    </tr>\n",
       "    <tr>\n",
       "      <th>121</th>\n",
       "      <td>SMARCB1</td>\n",
       "      <td>TARGET</td>\n",
       "      <td>22</td>\n",
       "      <td>24134006</td>\n",
       "      <td>24134006</td>\n",
       "      <td>stop_gained</td>\n",
       "      <td>Nonsense_Mutation</td>\n",
       "      <td>SNP</td>\n",
       "      <td>C</td>\n",
       "      <td>T</td>\n",
       "      <td>...</td>\n",
       "      <td>Not Hispanic or Latino</td>\n",
       "      <td>White</td>\n",
       "      <td>rt_target_2018_pub</td>\n",
       "      <td>22-24134006-C-T</td>\n",
       "      <td>False</td>\n",
       "      <td>False</td>\n",
       "      <td>False</td>\n",
       "      <td>no_value</td>\n",
       "      <td>no_value</td>\n",
       "      <td>non-ambiguous</td>\n",
       "    </tr>\n",
       "  </tbody>\n",
       "</table>\n",
       "<p>122 rows × 35 columns</p>\n",
       "</div>"
      ],
      "text/plain": [
       "    Hugo_Symbol  Center Chromosome  Start_Position  End_Position  \\\n",
       "0         SOCS5  TARGET          2        46988429      46988429   \n",
       "1         CPSF1  TARGET          8       145619874     145619874   \n",
       "2       SMARCB1  TARGET         22        24133990      24133990   \n",
       "3       NDUFAF6  TARGET          8        96037387      96037387   \n",
       "4       NDUFAF6  TARGET          8        96037388      96037388   \n",
       "..          ...     ...        ...             ...           ...   \n",
       "117     TUBGCP6  TARGET         22        50657026      50657026   \n",
       "118       WDR90  TARGET         16          710622        710622   \n",
       "119     SMARCB1  TARGET         22        24159055      24159055   \n",
       "120         NBN  TARGET          8        90982615      90982615   \n",
       "121     SMARCB1  TARGET         22        24134006      24134006   \n",
       "\n",
       "             Consequence Variant_Classification Variant_Type Reference_Allele  \\\n",
       "0    3_prime_UTR_variant                  3'UTR          SNP                A   \n",
       "1     synonymous_variant                 Silent          SNP                C   \n",
       "2            stop_gained      Nonsense_Mutation          SNP                C   \n",
       "3            stop_gained      Nonsense_Mutation          SNP                G   \n",
       "4       missense_variant      Missense_Mutation          SNP                G   \n",
       "..                   ...                    ...          ...              ...   \n",
       "117   synonymous_variant                 Silent          SNP                G   \n",
       "118     missense_variant      Missense_Mutation          SNP                C   \n",
       "119          stop_gained      Nonsense_Mutation          SNP                C   \n",
       "120     missense_variant      Missense_Mutation          SNP                C   \n",
       "121          stop_gained      Nonsense_Mutation          SNP                C   \n",
       "\n",
       "    Tumor_Seq_Allele2  ...               ETHNICITY     RACE  \\\n",
       "0                   C  ...  Not Hispanic or Latino    White   \n",
       "1                   G  ...  Not Hispanic or Latino    White   \n",
       "2                   A  ...  Not Hispanic or Latino    White   \n",
       "3                   T  ...                 Unknown    White   \n",
       "4                   T  ...                 Unknown    White   \n",
       "..                ...  ...                     ...      ...   \n",
       "117                 A  ...  Not Hispanic or Latino    White   \n",
       "118                 T  ...                 Unknown  Unknown   \n",
       "119                 T  ...                 Unknown  Unknown   \n",
       "120                 G  ...  Not Hispanic or Latino    White   \n",
       "121                 T  ...  Not Hispanic or Latino    White   \n",
       "\n",
       "               STUDY_ID temp_Gnomad_Notation Chrom_23 Chr23_X Chr23_Y  \\\n",
       "0    rt_target_2018_pub       2-46988429-A-C    False   False   False   \n",
       "1    rt_target_2018_pub      8-145619874-C-G    False   False   False   \n",
       "2    rt_target_2018_pub      22-24133990-C-A    False   False   False   \n",
       "3    rt_target_2018_pub       8-96037387-G-T    False   False   False   \n",
       "4    rt_target_2018_pub       8-96037388-G-T    False   False   False   \n",
       "..                  ...                  ...      ...     ...     ...   \n",
       "117  rt_target_2018_pub      22-50657026-G-A    False   False   False   \n",
       "118  rt_target_2018_pub        16-710622-C-T    False   False   False   \n",
       "119  rt_target_2018_pub      22-24159055-C-T    False   False   False   \n",
       "120  rt_target_2018_pub       8-90982615-C-G    False   False   False   \n",
       "121  rt_target_2018_pub      22-24134006-C-T    False   False   False   \n",
       "\n",
       "    x_hgnc_id y_hgnc_id    ambig_chrom  \n",
       "0    no_value  no_value  non-ambiguous  \n",
       "1    no_value  no_value  non-ambiguous  \n",
       "2    no_value  no_value  non-ambiguous  \n",
       "3    no_value  no_value  non-ambiguous  \n",
       "4    no_value  no_value  non-ambiguous  \n",
       "..        ...       ...            ...  \n",
       "117  no_value  no_value  non-ambiguous  \n",
       "118  no_value  no_value  non-ambiguous  \n",
       "119  no_value  no_value  non-ambiguous  \n",
       "120  no_value  no_value  non-ambiguous  \n",
       "121  no_value  no_value  non-ambiguous  \n",
       "\n",
       "[122 rows x 35 columns]"
      ]
     },
     "execution_count": 39,
     "metadata": {},
     "output_type": "execute_result"
    }
   ],
   "source": [
    "resolve_ambiguous_chromosomes(result_df)"
   ]
  },
  {
   "cell_type": "markdown",
   "id": "02ba77c8",
   "metadata": {},
   "source": [
    "##### FUNCTION: test gene tokenization\n"
   ]
  },
  {
   "cell_type": "code",
   "execution_count": 40,
   "id": "e6a190ae-bf47-45bc-814e-b4c3ec41875c",
   "metadata": {},
   "outputs": [],
   "source": [
    "def test_gene_tokenization(gene: str, delay=0.5):\n",
    "    BASE_URL = \"https://normalize.cancervariants.org/gene/\"\n",
    "    HEADERS = {\n",
    "        \"Accept\": \"application/json\",\n",
    "        \"User-Agent\": \"Mozilla/5.0\"\n",
    "    }\n",
    "\n",
    "    results = []\n",
    "\n",
    "    url = f\"{BASE_URL}normalize?q={gene}\"\n",
    "\n",
    "    try:\n",
    "        response = requests.get(url, headers=HEADERS)\n",
    "        if response.status_code == 200:\n",
    "            data = response.json()\n",
    "            results.append({\n",
    "                \"gene\": gene,\n",
    "                \"response\": json.dumps(data)\n",
    "            })\n",
    "        else:\n",
    "            results.append({\n",
    "                \"gene\": gene,\n",
    "                \"response\": f\"Error {response.status_code}: {response.text}\"\n",
    "            })\n",
    "    except Exception as e:\n",
    "        results.append({\n",
    "            \"gene\": gene,\n",
    "            \"response\": f\"Exception: {str(e)}\"\n",
    "        })\n",
    "\n",
    "    time.sleep(delay)\n",
    "    return pd.DataFrame(results)\n"
   ]
  },
  {
   "cell_type": "markdown",
   "id": "7748ae6b",
   "metadata": {},
   "source": [
    "##### FUNCTION: test gene tokenization"
   ]
  },
  {
   "cell_type": "code",
   "execution_count": 41,
   "id": "2e020666",
   "metadata": {},
   "outputs": [],
   "source": [
    "\n",
    "def update_gene_hgnc_id_inplace(df):\n",
    "    for idx, row in df.iterrows():\n",
    "        if row.get(\"Chrom_23\") and str(row.get(\"SEX\", \"\")).strip().lower() == \"male\":\n",
    "            try:\n",
    "                result = test_gene_tokenization(row[\"Hugo_Symbol\"])\n",
    "                full_id = result[\"gene\"][\"id\"]  # e.g., \"normalize.gene.hgnc:447\"\n",
    "                hgnc_id = full_id.split(\":\")[-1]  # Extract \"447\"\n",
    "                df.at[idx, \"gene_hgnc_id\"] = hgnc_id\n",
    "            except Exception as e:\n",
    "                print(f\"⚠️ Could not extract HGNC ID for {row['Hugo_Symbol']}: {e}\")\n",
    "\n",
    "    print(df.head())\n",
    "    return df\n"
   ]
  },
  {
   "cell_type": "markdown",
   "id": "f14ec1c2",
   "metadata": {},
   "source": [
    "##### Setting genes as list\n"
   ]
  },
  {
   "cell_type": "code",
   "execution_count": 42,
   "id": "6de02e23",
   "metadata": {},
   "outputs": [
    {
     "name": "stdout",
     "output_type": "stream",
     "text": [
      "Total genes in list: 0\n",
      "Sample of gene_list: []\n"
     ]
    }
   ],
   "source": [
    "\n",
    "# Ensure column exists and is initialized to \"untested\"\n",
    "if \"gene_hgnc_id\" not in result_df.columns:\n",
    "    result_df[\"gene_hgnc_id\"] = \"untested\"\n",
    "\n",
    "gene_list = result_df[\n",
    "    (result_df[\"SEX\"].str.lower() == \"male\") &\n",
    "    (result_df[\"Chrom_23\"] == True)\n",
    "][\"Hugo_Symbol\"].dropna().tolist()\n",
    "\n",
    "print(\"Total genes in list:\", len(gene_list))\n",
    "print(\"Sample of gene_list:\", gene_list[:5])"
   ]
  },
  {
   "cell_type": "markdown",
   "id": "e3ed87ec",
   "metadata": {},
   "source": [
    "##### RUN: Gene tokenization"
   ]
  },
  {
   "cell_type": "code",
   "execution_count": 43,
   "id": "6be61b2d",
   "metadata": {},
   "outputs": [
    {
     "name": "stdout",
     "output_type": "stream",
     "text": [
      "gene_hgnc_id\n",
      "untested    122\n",
      "Name: count, dtype: int64\n"
     ]
    }
   ],
   "source": [
    "# Start with a copy of your combined_df\n",
    "result_post_23_df = result_df.copy()\n",
    "\n",
    "def populate_gene_hgnc_col(gene_list, df):\n",
    "    # Add the column once\n",
    "    if \"gene_hgnc_id\" not in df.columns:\n",
    "        df[\"gene_hgnc_id\"] = None\n",
    "\n",
    "    for gene in gene_list:\n",
    "        print(f\"▶️ Checking gene: {gene}\")\n",
    "        gene_df = test_gene_tokenization(gene)\n",
    "\n",
    "        # Extract and parse JSON string from the response\n",
    "        raw_response = gene_df.loc[0, \"response\"]\n",
    "        try:\n",
    "            parsed_response = json.loads(raw_response)\n",
    "        except json.JSONDecodeError:\n",
    "            print(f\"❌ Failed to parse JSON for: {gene}\")\n",
    "            continue\n",
    "\n",
    "        if \"gene\" not in parsed_response:\n",
    "            print(f\"⚠️ 'gene' key not found for: {gene}\")\n",
    "            continue\n",
    "\n",
    "        try:\n",
    "            hgnc_id = parsed_response[\"gene\"][\"id\"].split(\":\")[-1]\n",
    "            print(f\"✅ Extracted HGNC ID for {gene}: {hgnc_id}\")\n",
    "        except (KeyError, IndexError, TypeError):\n",
    "            print(f\"⚠️ No HGNC ID found for: {gene}\")\n",
    "            continue\n",
    "\n",
    "        # Apply to matching rows\n",
    "        df.loc[\n",
    "            (df[\"Chrom_23\"] == True) & \n",
    "            (df[\"SEX\"].str.strip().str.lower() == \"male\") & \n",
    "            (df[\"Hugo_Symbol\"].str.strip() == gene.strip()),\n",
    "            \"gene_hgnc_id\"\n",
    "        ] = hgnc_id\n",
    "\n",
    "    return df\n",
    "\n",
    "\n",
    "\n",
    "\n",
    "result_post_23_df = populate_gene_hgnc_col(gene_list, result_post_23_df)\n",
    "print(result_post_23_df[\"gene_hgnc_id\"].value_counts(dropna=False))\n",
    "result_post_23_df.to_csv(\"output_post_gene_norm.csv\", index=False)\n",
    "\n"
   ]
  },
  {
   "cell_type": "markdown",
   "id": "d5d370f1",
   "metadata": {},
   "source": [
    "##### FUNCTION: check hgnc_id matches"
   ]
  },
  {
   "cell_type": "code",
   "execution_count": 44,
   "id": "3179ad7e",
   "metadata": {},
   "outputs": [],
   "source": [
    "def validate_gene_hgnc_match(df):\n",
    "    \"\"\"\n",
    "    Compare gene_hgnc_id to x_hgnc_id or y_hgnc_id for Chromosome 23 variants in male samples.\n",
    "    \n",
    "    Adds a column 'hgnc_id_match':\n",
    "        - \"untested\" (default)\n",
    "        - set to matching hgnc_id if match is found\n",
    "        - \"no_match\" if mismatch is found\n",
    "\n",
    "    Prints warnings for mismatches.\n",
    "    \"\"\"\n",
    "    # Initialize column\n",
    "    if \"hgnc_id_match\" not in df.columns:\n",
    "        df[\"hgnc_id_match\"] = \"untested\"\n",
    "\n",
    "    # Define mask for male Chr23 variants\n",
    "    mask = (df[\"Chrom_23\"] == True) & (df[\"SEX\"].str.strip().str.lower() == \"male\")\n",
    "\n",
    "    for idx, row in df[mask].iterrows():\n",
    "        gene_id = str(row.get(\"gene_hgnc_id\", \"\")).strip()\n",
    "        chrom = str(row.get(\"Chromosome\", \"\")).strip()\n",
    "        x_id = str(row.get(\"x_hgnc_id\", \"\")).strip()\n",
    "        y_id = str(row.get(\"y_hgnc_id\", \"\")).strip()\n",
    "\n",
    "        if chrom == \"X\":\n",
    "            if gene_id == x_id and gene_id != \"no_value\":\n",
    "                df.at[idx, \"hgnc_id_match\"] = gene_id\n",
    "            else:\n",
    "                df.at[idx, \"hgnc_id_match\"] = \"no_match\"\n",
    "                print(f\"❌ Row {idx}: X chromosome mismatch. gene_hgnc_id={gene_id}, x_hgnc_id={x_id}\")\n",
    "        elif chrom == \"Y\":\n",
    "            if gene_id == y_id and gene_id != \"no_value\":\n",
    "                df.at[idx, \"hgnc_id_match\"] = gene_id\n",
    "            else:\n",
    "                df.at[idx, \"hgnc_id_match\"] = \"no_match\"\n",
    "                print(f\"❌ Row {idx}: Y chromosome mismatch. gene_hgnc_id={gene_id}, y_hgnc_id={y_id}\")\n",
    "\n",
    "    return df\n"
   ]
  },
  {
   "cell_type": "markdown",
   "id": "4760c2ab",
   "metadata": {},
   "source": [
    "##### RUN: validate hgnc ID matches"
   ]
  },
  {
   "cell_type": "code",
   "execution_count": 45,
   "id": "bf5ad738",
   "metadata": {},
   "outputs": [],
   "source": [
    "post_validation_df = validate_gene_hgnc_match(result_post_23_df)\n",
    "post_validation_df.to_csv(\"output_post_validation.csv\", index=False)"
   ]
  },
  {
   "cell_type": "markdown",
   "id": "2d375297",
   "metadata": {},
   "source": [
    "##### Create Gnomad_Notation column and populate."
   ]
  },
  {
   "cell_type": "code",
   "execution_count": 46,
   "id": "c8a6336e",
   "metadata": {},
   "outputs": [],
   "source": [
    "# construct Gnomad variant ID column\n",
    "post_validation_df[\"Gnomad_Notation\"] = post_validation_df.apply(\n",
    "    lambda row: f\"{row['Chromosome']}-{row['Start_Position']}-{row['Reference_Allele']}-{row['Tumor_Seq_Allele2']}\",\n",
    "    axis=1\n",
    ")"
   ]
  },
  {
   "cell_type": "markdown",
   "id": "f8e13d06",
   "metadata": {},
   "source": [
    "#### Function: fill in missing values in df"
   ]
  },
  {
   "cell_type": "markdown",
   "id": "1e122f03",
   "metadata": {},
   "source": [
    "##### FUNCTION: Query API for HGVSp and RefSeq"
   ]
  },
  {
   "cell_type": "code",
   "execution_count": 47,
   "id": "0659b463",
   "metadata": {},
   "outputs": [
    {
     "name": "stdout",
     "output_type": "stream",
     "text": [
      "{'warnings': [], 'service_meta_': {'name': 'variation-normalizer', 'version': '0.15.1', 'response_datetime': '2025-10-10T16:30:24.301958Z', 'url': 'https://github.com/cancervariants/variation-normalization'}, 'variation_query': '4-159603535-G-C', 'variation': {'id': 'ga4gh:VA._DKuUCjVVWUA3eQUkgNyyxwizboqfblX', 'type': 'Allele', 'digest': '_DKuUCjVVWUA3eQUkgNyyxwizboqfblX', 'location': {'id': 'ga4gh:SL.U1uIODMdQ-cSuI6T4nICXcbBJgXpGbJG', 'type': 'SequenceLocation', 'digest': 'U1uIODMdQ-cSuI6T4nICXcbBJgXpGbJG', 'sequenceReference': {'type': 'SequenceReference', 'refgetAccession': 'SQ.XiPpWSmlIGO_vpRi89UEvm9He1YcCR3-'}, 'start': 121, 'end': 122, 'sequence': 'G'}, 'state': {'type': 'LiteralSequenceExpression', 'sequence': 'R'}}, 'gene_context': {'id': 'normalize.gene.hgnc:3483', 'extensions': [{'name': 'aliases', 'value': ['1.5.5.1', 'MADD', 'ETFQO']}, {'name': 'symbol_status', 'value': 'approved'}, {'name': 'approved_name', 'value': 'electron transfer flavoprotein dehydrogenase'}, {'name': 'strand', 'value': '+'}, {'name': 'ensembl_locations', 'value': [{'id': 'ga4gh:SL.nMGPQD-Q7A6mI1T-XtKB_DA-9WEyneqH', 'type': 'SequenceLocation', 'digest': 'nMGPQD-Q7A6mI1T-XtKB_DA-9WEyneqH', 'sequenceReference': {'type': 'SequenceReference', 'refgetAccession': 'SQ.HxuclGHh0XCDuF8x6yQrpHUBL7ZntAHc'}, 'start': 158671967, 'end': 158710742}]}, {'name': 'ncbi_locations', 'value': [{'id': 'ga4gh:SL.pdBKFDn6umiZemIaw38AaXL_TQfy00Vj', 'type': 'SequenceLocation', 'digest': 'pdBKFDn6umiZemIaw38AaXL_TQfy00Vj', 'sequenceReference': {'type': 'SequenceReference', 'refgetAccession': 'SQ.HxuclGHh0XCDuF8x6yQrpHUBL7ZntAHc'}, 'start': 158672295, 'end': 158709623}]}, {'name': 'hgnc_locus_type', 'value': 'gene with protein product'}, {'name': 'ncbi_gene_type', 'value': 'protein-coding'}, {'name': 'ensembl_biotype', 'value': 'protein_coding'}], 'conceptType': 'Gene', 'name': 'ETFDH', 'primaryCoding': {'id': 'hgnc:3483', 'system': 'https://www.genenames.org/data/gene-symbol-report/#!/hgnc_id/', 'code': 'HGNC:3483'}, 'mappings': [{'coding': {'id': 'ensembl:ENSG00000171503', 'system': 'https://www.ensembl.org/id/', 'code': 'ENSG00000171503'}, 'relation': 'exactMatch'}, {'coding': {'id': 'ncbigene:2110', 'system': 'https://www.ncbi.nlm.nih.gov/gene/', 'code': '2110'}, 'relation': 'exactMatch'}, {'coding': {'id': 'uniprot:Q16134', 'system': 'http://purl.uniprot.org/uniprot/', 'code': 'Q16134'}, 'relation': 'relatedMatch'}, {'coding': {'id': 'ena.embl:S69232', 'system': 'https://www.ebi.ac.uk/ena/browser/view/', 'code': 'S69232'}, 'relation': 'relatedMatch'}, {'coding': {'id': 'omim:231675', 'system': 'https://www.omim.org/MIM:', 'code': '231675'}, 'relation': 'relatedMatch'}, {'coding': {'id': 'orphanet:121626', 'system': 'http://www.orpha.net/consor/cgi-bin/OC_Exp.php?Lng=EN&Expert=', 'code': '121626'}, 'relation': 'relatedMatch'}, {'coding': {'id': 'pubmed:1438400', 'system': 'https://pubmed.ncbi.nlm.nih.gov/', 'code': '1438400'}, 'relation': 'relatedMatch'}, {'coding': {'id': 'vega:OTTHUMG00000161684', 'system': 'https://vega.archive.ensembl.org/Homo_sapiens/Gene/Summary?g=', 'code': 'OTTHUMG00000161684'}, 'relation': 'relatedMatch'}, {'coding': {'id': 'pubmed:12815589', 'system': 'https://pubmed.ncbi.nlm.nih.gov/', 'code': '12815589'}, 'relation': 'relatedMatch'}, {'coding': {'id': 'refseq:NM_001281737', 'system': 'https://www.ncbi.nlm.nih.gov/nuccore/', 'code': 'NM_001281737'}, 'relation': 'relatedMatch'}, {'coding': {'id': 'ucsc:uc003iqb.5', 'system': 'http://genome.cse.ucsc.edu/cgi-bin/hgGene?org=Human&hgg_chrom=none&hgg_type=knownGene&hgg_gene=', 'code': 'uc003iqb.5'}, 'relation': 'relatedMatch'}]}}\n"
     ]
    }
   ],
   "source": [
    "#check NAs \n",
    "# post_validation_df.isna().sum()\n",
    "variant = \"4-159603535-G-C\"\n",
    "def query_gnomad_vcf_to_protein(variant: str, delay=0.5):\n",
    "    BASE_URL = \"http://localhost:8001/variation/\"\n",
    "    HEADERS = {\n",
    "        \"Accept\": \"application/json\",\n",
    "        \"User-Agent\": \"Mozilla/5.0\"\n",
    "    }\n",
    "\n",
    "    results = []\n",
    "\n",
    "    url = f\"{BASE_URL}gnomad_vcf_to_protein?q={variant}\"\n",
    "\n",
    "    try:\n",
    "        response = requests.get(url, headers=HEADERS)\n",
    "        if response.status_code == 200:\n",
    "            data = response.json()\n",
    "            results.append({\n",
    "                \"variant\": variant,\n",
    "                \"response\": json.dumps(data)\n",
    "            })\n",
    "        else:\n",
    "            results.append({\n",
    "                \"variant\": variant,\n",
    "                \"response\": f\"Error {response.status_code}: {response.text}\"\n",
    "            })\n",
    "    except Exception as e:\n",
    "        results.append({\n",
    "            \"variant\": variant,\n",
    "            \"response\": f\"Exception: {str(e)}\"\n",
    "        })\n",
    "\n",
    "    time.sleep(delay)\n",
    "    return pd.DataFrame(results)\n",
    "\n",
    "r = query_gnomad_vcf_to_protein(variant)\n",
    "parsed_response = json.loads(r.loc[0, \"response\"])\n",
    "print(parsed_response)\n"
   ]
  },
  {
   "cell_type": "markdown",
   "id": "31b808ea",
   "metadata": {},
   "source": [
    "##### FUNCTION: update missing RefSeq values in df"
   ]
  },
  {
   "cell_type": "code",
   "execution_count": 48,
   "id": "027bb128",
   "metadata": {},
   "outputs": [],
   "source": [
    "# def get_protein_position(parsed_response):\n",
    "#     protein_position = r[\"variation\"][\"location\"][\"end\"]\n",
    "#     print(protein_position)\n",
    "#     return protein_position"
   ]
  },
  {
   "cell_type": "code",
   "execution_count": 49,
   "id": "644b78fd",
   "metadata": {},
   "outputs": [],
   "source": [
    "# def get_ref_aa(parsed_response):\n",
    "#     ref_aa = r['variation']['location']['sequence']\n",
    "#     print(ref_aa)\n",
    "#     return ref_aa"
   ]
  },
  {
   "cell_type": "code",
   "execution_count": 50,
   "id": "3ea8812f",
   "metadata": {},
   "outputs": [],
   "source": [
    "# def get_var_aa(parsed_response):\n",
    "#     var_aa = r['variation']['state']['sequence']\n",
    "#     print(var_aa)\n",
    "#     return var_aa"
   ]
  },
  {
   "cell_type": "code",
   "execution_count": 46,
   "id": "e7b7d8cd",
   "metadata": {},
   "outputs": [],
   "source": [
    "# # Ensure column exists and is initialized to \"untested\"\n",
    "# if \"temp_RefSeq\" not in post_validation_df.columns:\n",
    "#     post_validation_df[\"temp_RefSeq\"] = \"untested\"\n",
    "\n",
    "# # print(post_validation_df.columns)\n",
    "# # post_validation_df['temp_RefSeq'].head(n=5) \n",
    "\n",
    "# # put \"testing\" in temp col for rows with no RefSeq value\n",
    "# post_validation_df.loc[pd.isna(post_validation_df[\"RefSeq\"]), \"temp_RefSeq\"] = \"testing\"\n",
    "# post_validation_df[\"temp_RefSeq\"].value_counts(dropna=False)\n",
    "\n",
    "# #get list of variants to test\n",
    "# refseq_testing_variants = post_validation_df.loc[\n",
    "#     post_validation_df[\"temp_RefSeq\"] == \"testing\", \"Gnomad_Notation\"\n",
    "# ].tolist()\n",
    "\n"
   ]
  },
  {
   "cell_type": "code",
   "execution_count": 45,
   "id": "45030c3d",
   "metadata": {},
   "outputs": [],
   "source": [
    "# # Driver function\n",
    "# def driver_fun_RefSeq(variant, df):\n",
    "#     try:\n",
    "#         # Call your API\n",
    "#         response_df = query_gnomad_vcf_to_protein(variant)\n",
    "#         response_data = json.loads(response_df.loc[0, \"response\"])\n",
    "\n",
    "#         # Try to extract the RefSeq from response\n",
    "#         refseq = next(\n",
    "#             (m[\"coding\"][\"code\"] for m in response_data.get(\"gene_context\", {}).get(\"mappings\", [])\n",
    "#              if m.get(\"coding\", {}).get(\"id\", \"\").startswith(\"refseq:\")),\n",
    "#             None\n",
    "#         )\n",
    "\n",
    "#         # Update the temp_RefSeq column in-place\n",
    "#         df.loc[\n",
    "#             df[\"Gnomad_Notation\"] == variant, \"temp_RefSeq\"\n",
    "#         ] = refseq if refseq else \"not_found\"\n",
    "\n",
    "#         time.sleep(0.25)  # be polite to API\n",
    "\n",
    "#     except Exception as e:\n",
    "#         print(f\"Error processing {variant}: {e}\")\n",
    "#         df.loc[\n",
    "#             df[\"Gnomad_Notation\"] == variant, \"temp_RefSeq\"\n",
    "#         ] = \"error\"\n",
    "#     return df\n",
    "\n",
    "\n",
    "# for variant in refseq_testing_variants:\n",
    "#     refseq_df = driver_fun_RefSeq(variant, post_validation_df)\n",
    "\n",
    "# refseq_df.to_csv(\"output_post_TEMP_refseq_entries.csv\", index=False)"
   ]
  },
  {
   "cell_type": "markdown",
   "id": "cc34dd19-40d4-4505-9775-f35062b52820",
   "metadata": {},
   "source": [
    "##### Next step?"
   ]
  },
  {
   "cell_type": "code",
   "execution_count": 134,
   "id": "ee2f0126-563b-424e-b26e-f27d3a909d59",
   "metadata": {},
   "outputs": [],
   "source": [
    "\n",
    "\n",
    "#get missing p dots!\n",
    "\n",
    "#Need function that tkes gnomad notation and puts it through normalizer, then takes response and fashions it into the test fixture\n",
    "#put response into columns \"focus variant members\", etc. \n",
    "\n",
    "#figure out other info for object - cohort, frequency, etc. \n",
    "\n",
    "\n",
    "\n",
    "\n",
    "\n",
    "\n"
   ]
  },
  {
   "cell_type": "code",
   "execution_count": 51,
   "id": "d56ef311",
   "metadata": {},
   "outputs": [
    {
     "name": "stdout",
     "output_type": "stream",
     "text": [
      "Removed 0 rows with duplicated Gnomad_Notation per PATIENT_ID.\n"
     ]
    }
   ],
   "source": [
    "# remove variant dupes per patient\n",
    "\n",
    "# find duplicated (PATIENT_ID, Gnomad_Notation) pairs\n",
    "dupe_mask = post_validation_df.duplicated(subset=[\"PATIENT_ID\", \"Gnomad_Notation\"], keep=\"first\")\n",
    "# new DataFrame with the duplicated rows\n",
    "patient_variant_dupes = post_validation_df[dupe_mask]\n",
    "# remove those rows from the original DataFrame\n",
    "post_validation_df_cleaned = post_validation_df[~dupe_mask]\n",
    "# write removed rows to file\n",
    "patient_variant_dupes.to_csv(\"patient_variant_dupes.csv\", index=False)\n",
    "# print the number of rows removed\n",
    "print(f\"Removed {patient_variant_dupes.shape[0]} rows with duplicated Gnomad_Notation per PATIENT_ID.\")\n",
    "# reassign dataframe:\n",
    "# combined_df = combined_df_cleaned\n",
    "#write dataframe to file\n",
    "post_validation_df_cleaned.to_csv(\"post_validation_df_cleaned.csv\", index=False)"
   ]
  },
  {
   "cell_type": "code",
   "execution_count": null,
   "id": "6b3a1e72",
   "metadata": {},
   "outputs": [],
   "source": []
  },
  {
   "cell_type": "code",
   "execution_count": null,
   "id": "a6f5738f-f282-4550-9c76-d1b3c82f3880",
   "metadata": {},
   "outputs": [],
   "source": []
  }
 ],
 "metadata": {
  "kernelspec": {
   "display_name": "venv",
   "language": "python",
   "name": "python3"
  },
  "language_info": {
   "codemirror_mode": {
    "name": "ipython",
    "version": 3
   },
   "file_extension": ".py",
   "mimetype": "text/x-python",
   "name": "python",
   "nbconvert_exporter": "python",
   "pygments_lexer": "ipython3",
   "version": "3.11.6"
  }
 },
 "nbformat": 4,
 "nbformat_minor": 5
}
