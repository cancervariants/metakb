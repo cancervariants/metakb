{
 "cells": [
  {
   "cell_type": "code",
   "execution_count": 1,
   "id": "d4ed486d-3de3-46ff-b16a-1903758fb4e6",
   "metadata": {},
   "outputs": [],
   "source": [
    "# imports\n",
    "\n",
    "import pandas as pd\n",
    "import requests\n",
    "import tarfile\n",
    "import os\n",
    "import numpy\n",
    "\n",
    "dl_dir = \"/Users/costellh/repos/metakb/hmc_notebooks/\""
   ]
  },
  {
   "cell_type": "markdown",
   "id": "82d37708-a6cc-4cac-be59-f545631a5f8b",
   "metadata": {},
   "source": [
    "### DFCI_2014_PES study"
   ]
  },
  {
   "cell_type": "code",
   "execution_count": 8,
   "id": "2ee097ff-7be8-4833-b015-928e16bc8263",
   "metadata": {},
   "outputs": [
    {
     "name": "stdout",
     "output_type": "stream",
     "text": [
      "200\n",
      "Downloaded es_dfarber_broad_2014.tar.gz\n",
      "Extracted to: es_dfarber_broad_2014_extracted\n"
     ]
    }
   ],
   "source": [
    "# download files\n",
    "\n",
    "# download data \n",
    "url = \"https://cbioportal-datahub.s3.amazonaws.com/es_dfarber_broad_2014.tar.gz\"\n",
    "output_path = \"es_dfarber_broad_2014.tar.gz\"\n",
    "query_parameters = {\"downloadformat\": \"tar.gz\"}\n",
    "\n",
    "response = requests.get(url, stream=True, params=query_parameters)\n",
    "print(response.status_code)\n",
    "\n",
    "with open (\"es_dfarber_broad_2014.tar.gz\", mode=\"wb\") as file: \n",
    "    for chunk in response.iter_content(chunk_size=8192):\n",
    "        file.write(chunk)\n",
    "    print(f\"Downloaded {output_path}\")\n",
    "\n",
    "#TODO: softcode this\n",
    "extract_dir = \"es_dfarber_broad_2014_extracted\"\n",
    "os.makedirs(extract_dir, exist_ok=True)\n",
    "\n",
    "with tarfile.open(output_path, mode=\"r:gz\") as tar:\n",
    "    tar.extractall(path=extract_dir)\n",
    "\n",
    "print(f\"Extracted to: {extract_dir}\")\n"
   ]
  }
 ],
 "metadata": {
  "kernelspec": {
   "display_name": "Python 3 (ipykernel)",
   "language": "python",
   "name": "python3"
  },
  "language_info": {
   "codemirror_mode": {
    "name": "ipython",
    "version": 3
   },
   "file_extension": ".py",
   "mimetype": "text/x-python",
   "name": "python",
   "nbconvert_exporter": "python",
   "pygments_lexer": "ipython3",
   "version": "3.11.6"
  }
 },
 "nbformat": 4,
 "nbformat_minor": 5
}
