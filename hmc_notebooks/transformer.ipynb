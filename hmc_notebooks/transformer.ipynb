{
 "cells": [
  {
   "cell_type": "code",
   "execution_count": 54,
   "id": "a47b6a03-4a0f-480f-bb9a-cc2dc0d33f76",
   "metadata": {},
   "outputs": [],
   "source": [
    "# imports\n",
    "\n",
    "import pandas as pd\n",
    "import os\n",
    "import requests\n",
    "import time\n",
    "import pprint\n",
    "from urllib.parse import quote_plus\n",
    "import re\n",
    "\n"
   ]
  },
  {
   "cell_type": "markdown",
   "id": "f2c12bcf-8cce-4398-be55-bcc103525efb",
   "metadata": {},
   "source": [
    "### DFCI_2014_PES study"
   ]
  },
  {
   "cell_type": "code",
   "execution_count": 55,
   "id": "0e3b6784-eadb-4f80-bf38-d376e31f0b4b",
   "metadata": {},
   "outputs": [],
   "source": [
    "# get data\n",
    "#TODO import as objects from harvester\n",
    "## add parameter to skip first 4 lines in patient and study sample data\n",
    "\n",
    "init_mut_df = pd.read_csv('/Users/costellh/repos/metakb/hmc_notebooks/es_dfarber_broad_2014_extracted/es_dfarber_broad_2014/data_mutations.txt', sep='\\t')\n",
    "init_study_meta = pd.read_csv('/Users/costellh/repos/metakb/hmc_notebooks/es_dfarber_broad_2014_extracted/es_dfarber_broad_2014/meta_study.txt', sep='\\t')\n",
    "init_patient_df = pd.read_csv('/Users/costellh/repos/metakb/hmc_notebooks/es_dfarber_broad_2014_extracted/es_dfarber_broad_2014/data_clinical_patient.txt', sep='\\t', skiprows=4)\n",
    "init_sample_df = pd.read_csv('/Users/costellh/repos/metakb/hmc_notebooks/es_dfarber_broad_2014_extracted/es_dfarber_broad_2014/data_clinical_sample.txt', sep='\\t', skiprows=4)\n"
   ]
  },
  {
   "cell_type": "markdown",
   "id": "0ba8aeda-91a2-4cf0-9558-cf9292788936",
   "metadata": {},
   "source": [
    "#### Variant data: subset columns, check for duplicates "
   ]
  },
  {
   "cell_type": "code",
   "execution_count": 56,
   "id": "b19a85c8-3894-467e-9c4f-c38549a96f32",
   "metadata": {},
   "outputs": [
    {
     "name": "stdout",
     "output_type": "stream",
     "text": [
      "Number of duplicate rows : 495\n",
      "\n",
      "Duplicate rows (excluding first instance):\n",
      "      Hugo_Symbol Chromosome  Start_Position  End_Position  \\\n",
      "720         ABCA1          9       107607765     107607765   \n",
      "730         ABCA3         16         2338066       2338066   \n",
      "783         ABCC9         12        21954066      21954066   \n",
      "813         ACACA         17        35640173      35640173   \n",
      "829          ACHE          7       100490251     100490251   \n",
      "...           ...        ...             ...           ...   \n",
      "15134       STAG2          X       123179197     123179197   \n",
      "15155     ZDHHC15          X        74742823      74742824   \n",
      "15191       HUWE1          X        53579734      53579734   \n",
      "15216     SHROOM4          X        50350700      50350700   \n",
      "15218        SOX3          X       139586714     139586714   \n",
      "\n",
      "              Consequence Variant_Classification Variant_Type  \\\n",
      "720      missense_variant      Missense_Mutation          SNP   \n",
      "730      missense_variant      Missense_Mutation          SNP   \n",
      "783      missense_variant      Missense_Mutation          SNP   \n",
      "813      missense_variant      Missense_Mutation          SNP   \n",
      "829    synonymous_variant                 Silent          SNP   \n",
      "...                   ...                    ...          ...   \n",
      "15134         stop_gained      Nonsense_Mutation          SNP   \n",
      "15155  frameshift_variant        Frame_Shift_Ins          INS   \n",
      "15191    missense_variant      Missense_Mutation          SNP   \n",
      "15216    missense_variant      Missense_Mutation          SNP   \n",
      "15218    missense_variant      Missense_Mutation          SNP   \n",
      "\n",
      "      Reference_Allele Tumor_Seq_Allele2   SAMPLE_ID Sequence_Source  \\\n",
      "720                  G                 A  SJDES003-R             WXS   \n",
      "730                  C                 T  SJDES011-R             WXS   \n",
      "783                  C                 T    SJDES017             WXS   \n",
      "813                  T                 C    SJDES005             WXS   \n",
      "829                  G                 A     03-P152             WXS   \n",
      "...                ...               ...         ...             ...   \n",
      "15134                C                 T    SJDES006             WXS   \n",
      "15155                -                 C    SJDES010             WXS   \n",
      "15191                C                 A      TTC466             WXS   \n",
      "15216                C                 T      TTC466             WXS   \n",
      "15218                T                 C      TTC466             WXS   \n",
      "\n",
      "                             HGVSc              HGVSp  HGVSp_Short  \\\n",
      "720     ENST00000374736.3:c.806C>T        p.Ala269Val      p.A269V   \n",
      "730    ENST00000301732.5:c.2965G>A        p.Ala989Thr      p.A989T   \n",
      "783    ENST00000261200.4:c.4562G>A       p.Arg1521Gln     p.R1521Q   \n",
      "813     ENST00000353139.5:c.605A>G        p.Asn202Ser      p.N202S   \n",
      "829    ENST00000302913.4:c.1257C>T          p.Pro419=      p.P419=   \n",
      "...                            ...                ...          ...   \n",
      "15134   ENST00000218089.9:c.646C>T        p.Arg216Ter      p.R216*   \n",
      "15155    ENST00000373367.3:c.36dup  p.Leu13AlafsTer30  p.L13Afs*30   \n",
      "15191  ENST00000342160.3:c.8615G>T       p.Gly2872Val     p.G2872V   \n",
      "15216  ENST00000376020.2:c.3442G>A       p.Glu1148Lys     p.E1148K   \n",
      "15218   ENST00000370536.2:c.512A>G        p.Lys171Arg      p.K171R   \n",
      "\n",
      "         Transcript_ID          RefSeq  Protein_position  \n",
      "720    ENST00000374736     NM_005502.3             269.0  \n",
      "730    ENST00000301732     NM_001089.2             989.0  \n",
      "783    ENST00000261200     NM_020297.2            1521.0  \n",
      "813    ENST00000353139     NM_198834.1             202.0  \n",
      "829    ENST00000302913     NM_015831.2             419.0  \n",
      "...                ...             ...               ...  \n",
      "15134  ENST00000218089  NM_001042749.1             216.0  \n",
      "15155  ENST00000373367     NM_144969.2              12.0  \n",
      "15191  ENST00000342160             NaN            2872.0  \n",
      "15216  ENST00000376020     NM_020717.3            1148.0  \n",
      "15218  ENST00000370536     NM_005634.2             171.0  \n",
      "\n",
      "[495 rows x 17 columns]\n",
      "\n",
      "DataFrame shape after removing duplicates: (14737, 17)\n"
     ]
    }
   ],
   "source": [
    "# clean variant data\n",
    "\n",
    "# subset for necessary columns\n",
    "mut_df = init_mut_df.filter(['Hugo_Symbol',\n",
    "                        'Chromosome',\n",
    "                        'Start_Position', \n",
    "                        'End_Position',\n",
    "                        'Consequence',\n",
    "                        'Variant_Classification',\n",
    "                        'Variant_Type',\n",
    "                        'Reference_Allele',\n",
    "                        'Tumor_Seq_Allele2',\n",
    "                        'Tumor_Sample_Barcode',\n",
    "                        'Sequence_Source',\n",
    "                        'HGVSc',\n",
    "                        'HGVSp',\n",
    "                        'HGVSp_Short',\n",
    "                        'Transcript_ID',\n",
    "                        'RefSeq',\n",
    "                        'Protein_position'\n",
    "                       ], axis=1)\n",
    "\n",
    "\n",
    "# Strip whitespace and retry\n",
    "mut_df.columns = mut_df.columns.str.strip()\n",
    "mut_df = mut_df.rename(columns={'Tumor_Sample_Barcode': 'SAMPLE_ID'})\n",
    "\n",
    "# Check duplicate count\n",
    "num_duplicates = mut_df.duplicated().sum()\n",
    "print(f\"Number of duplicate rows : {num_duplicates}\")\n",
    "\n",
    "# TODO check duplicates for sanity check\n",
    "# print duplicates (excluding first instance)\n",
    "if num_duplicates > 0:\n",
    "    print(\"\\nDuplicate rows (excluding first instance):\")\n",
    "    print(mut_df[mut_df.duplicated()])\n",
    "\n",
    "# # print full duplicate groups (including the first occurrences)\n",
    "#     print(\"\\nAll rows involved in duplication:\")\n",
    "#     print(mut_df[mut_df.duplicated(keep=False)])\n",
    "\n",
    "# save duplicate rows to file\n",
    "    dupes = mut_df[mut_df.duplicated(keep=False)]\n",
    "    mut_df.to_csv('mut_dupes.csv', index=False)\n",
    "    \n",
    "\n",
    "    \n",
    "# remove duplicates, but keep first occurrence\n",
    "    mut_df = mut_df.drop_duplicates()\n",
    "    print(f\"\\nDataFrame shape after removing duplicates: {mut_df.shape}\")\n",
    "else:\n",
    "    print(\"No duplicate rows found.\")\n",
    "\n",
    "    \n",
    "# print(mut_df.columns)\n",
    "# # print(mut_df.head())"
   ]
  },
  {
   "cell_type": "markdown",
   "id": "780f5ee3-c672-4e26-b670-576086526f13",
   "metadata": {},
   "source": [
    "#### Patient data: subset columns, check for duplicates"
   ]
  },
  {
   "cell_type": "code",
   "execution_count": 57,
   "id": "75f3d6c8-9257-4ac6-b883-75a967ba8592",
   "metadata": {},
   "outputs": [
    {
     "name": "stdout",
     "output_type": "stream",
     "text": [
      "Index(['PATIENT_ID', 'AGE', 'SEX', 'ETHNICITY'], dtype='object')\n",
      "Number of duplicate rows : 0\n",
      "No duplicate rows found.\n"
     ]
    }
   ],
   "source": [
    "# clean patient data\n",
    "# print(patient_df.shape)\n",
    "# print(patient_df.columns)\n",
    "\n",
    "# subset data\n",
    "# subset for necessary columns\n",
    "patient_df = init_patient_df.filter(['PATIENT_ID',\n",
    "                        'AGE',\n",
    "                        'SEX', \n",
    "                        'ETHNICITY',\n",
    "                        'Consequence'\n",
    "                       ], axis=1)\n",
    "\n",
    "print(patient_df.columns)\n",
    "\n",
    "# Check duplicate count\n",
    "num_duplicates = patient_df.duplicated().sum()\n",
    "print(f\"Number of duplicate rows : {num_duplicates}\")\n",
    "\n",
    "# print duplicates (excluding first instance)\n",
    "if num_duplicates > 0:\n",
    "    print(\"\\nDuplicate rows (excluding first instance):\")\n",
    "    print(patient_df[patient_df.duplicated()])\n",
    "\n",
    "# # print full duplicate groups (including the first occurrences)\n",
    "#     print(\"\\nAll rows involved in duplication:\")\n",
    "#     print(mut_df[mut_df.duplicated(keep=False)])\n",
    "\n",
    "# remove duplicates, but keep first occurrence\n",
    "    patient_df = patient_df.drop_duplicates()\n",
    "    print(f\"\\nDataFrame shape after removing duplicates: {patient_df.shape}\")\n",
    "else:\n",
    "    print(\"No duplicate rows found.\")"
   ]
  },
  {
   "cell_type": "markdown",
   "id": "0da33e63-f38d-4d9e-abdc-e3c0bba84675",
   "metadata": {},
   "source": [
    "#### Sample data: subset columns, check for duplicates"
   ]
  },
  {
   "cell_type": "code",
   "execution_count": 58,
   "id": "fb2499e2-affb-404e-b970-04aa20bef06e",
   "metadata": {},
   "outputs": [
    {
     "name": "stdout",
     "output_type": "stream",
     "text": [
      "Index(['PATIENT_ID', 'SAMPLE_ID', 'SAMPLE_CLASS', 'ONCOTREE_CODE',\n",
      "       'CANCER_TYPE', 'CANCER_TYPE_DETAILED', 'TMB_NONSYNONYMOUS'],\n",
      "      dtype='object')\n",
      "Number of duplicate rows : 0\n",
      "No duplicate rows found.\n"
     ]
    }
   ],
   "source": [
    "# clean sample data\n",
    "\n",
    "# print(sample_df.shape)\n",
    "# print(sample_df.columns)\n",
    "# print(sample_df.head())\n",
    "\n",
    "\n",
    "# subset data\n",
    "# subset for necessary columns\n",
    "sample_df = init_sample_df.filter(['PATIENT_ID',\n",
    "                                     'SAMPLE_ID',\n",
    "                                     'SAMPLE_CLASS',\n",
    "                                     'ONCOTREE_CODE',\n",
    "                                     'CANCER_TYPE',\n",
    "                                     'CANCER_TYPE_DETAILED',\n",
    "                                     'TMB_NONSYNONYMOUS'\n",
    "                                    ], axis=1)\n",
    "\n",
    "\n",
    "print(sample_df.columns)\n",
    "\n",
    "\n",
    "# Check duplicate count\n",
    "num_duplicates = sample_df.duplicated().sum()\n",
    "print(f\"Number of duplicate rows : {num_duplicates}\")\n",
    "\n",
    "# print duplicates (excluding first instance)\n",
    "if num_duplicates > 0:\n",
    "    print(\"\\nDuplicate rows (excluding first instance):\")\n",
    "    print(sample_df[sample_df.duplicated()])\n",
    "\n",
    "# # print full duplicate groups (including the first occurrences)\n",
    "#     print(\"\\nAll rows involved in duplication:\")\n",
    "#     print(mut_df[mut_df.duplicated(keep=False)])\n",
    "\n",
    "# remove duplicates, but keep first occurrence\n",
    "    sample_df = sample_df.drop_duplicates()\n",
    "    print(f\"\\nDataFrame shape after removing duplicates: {sample_df.shape}\")\n",
    "else:\n",
    "    print(\"No duplicate rows found.\")"
   ]
  },
  {
   "cell_type": "markdown",
   "id": "b671c4ad-d0b6-43e1-b15c-ec749665175d",
   "metadata": {},
   "source": [
    "#### Combine dataframes"
   ]
  },
  {
   "cell_type": "code",
   "execution_count": 59,
   "id": "ca4cd556-6160-44dd-9c56-f7f27a387f15",
   "metadata": {},
   "outputs": [],
   "source": [
    "# combine dataframes\n",
    "## TODO: redo so that all columns are available and that records with no samples will be there. \"left outer join\"? will get NAs.\n",
    "\n",
    "init_combined_df = mut_df.merge(sample_df, on='SAMPLE_ID', how='left')\n",
    "\n",
    "# print(mut_df.columns)\n",
    "# print(mut_df.shape)\n",
    "\n",
    "# print(sample_df.columns)\n",
    "# print(sample_df.shape)\n",
    "\n",
    "# print(init_combined_df.columns)\n",
    "# print(init_combined_df.shape)\n",
    "\n",
    "#add patient_df\n",
    "combined_df = init_combined_df.merge(patient_df, on='PATIENT_ID', how='left')\n",
    "\n",
    "# print(patient_df.columns)\n",
    "# print(patient_df.shape)\n",
    "\n",
    "# print(combined_df.columns)\n",
    "# print(combined_df.shape)\n"
   ]
  },
  {
   "cell_type": "markdown",
   "id": "1970da22-8dc7-4cc4-aa62-9becb291bbeb",
   "metadata": {},
   "source": [
    "#### Add STUDY_ID column"
   ]
  },
  {
   "cell_type": "code",
   "execution_count": 60,
   "id": "0c2fd3ee-02fc-48bf-acc9-7675137eea80",
   "metadata": {},
   "outputs": [],
   "source": [
    "\n",
    "# add column for study id\n",
    "study_id = init_study_meta.iloc[0, 0]\n",
    "study_id = study_id.replace('cancer_study_identifier: ', '')\n",
    "# study_id\n",
    "combined_df['STUDY_ID'] = study_id\n"
   ]
  },
  {
   "cell_type": "markdown",
   "id": "90899975-c174-43d5-a7ae-2369d22f35f6",
   "metadata": {},
   "source": [
    "#### Check for (and remove) duplicates"
   ]
  },
  {
   "cell_type": "code",
   "execution_count": 61,
   "id": "aee6b500-7a61-4190-934b-53c7055686b1",
   "metadata": {},
   "outputs": [
    {
     "name": "stdout",
     "output_type": "stream",
     "text": [
      "Number of duplicate rows : 0\n",
      "No duplicate rows found.\n"
     ]
    }
   ],
   "source": [
    "\n",
    "\n",
    "# Check duplicate count\n",
    "num_duplicates = combined_df.duplicated().sum()\n",
    "print(f\"Number of duplicate rows : {num_duplicates}\")\n",
    "\n",
    "# print duplicates (excluding first instance)\n",
    "if num_duplicates > 0:\n",
    "    print(\"\\nDuplicate rows (excluding first instance):\")\n",
    "    print(combined_df[combined_df.duplicated()])\n",
    "\n",
    "# # print full duplicate groups (including the first occurrences)\n",
    "#     print(\"\\nAll rows involved in duplication:\")\n",
    "#     print(mut_df[mut_df.duplicated(keep=False)])\n",
    "\n",
    "# remove duplicates, but keep first occurrence\n",
    "    combined_df = combined_df.drop_duplicates()\n",
    "    print(f\"\\nDataFrame shape after removing duplicates: {combined_df.shape}\")\n",
    "else:\n",
    "    print(\"No duplicate rows found.\")\n",
    "\n"
   ]
  },
  {
   "cell_type": "markdown",
   "id": "da59990c-e8c3-41bd-ab79-4c0e505e1e72",
   "metadata": {},
   "source": [
    "#### Remove data from cell lines"
   ]
  },
  {
   "cell_type": "code",
   "execution_count": 62,
   "id": "1b0bcca1-476e-4e77-a0a1-bb3a3bab9b1b",
   "metadata": {},
   "outputs": [
    {
     "name": "stdout",
     "output_type": "stream",
     "text": [
      "Original shape: (14737, 27)\n",
      "Removed 3123 rows where SAMPLE_CLASS == 'Cell line'\n",
      "New shape: (11614, 27)\n"
     ]
    },
    {
     "data": {
      "text/plain": [
       "SAMPLE_CLASS\n",
       "Cell line    3123\n",
       "Name: count, dtype: int64"
      ]
     },
     "execution_count": 62,
     "metadata": {},
     "output_type": "execute_result"
    }
   ],
   "source": [
    "\n",
    "# remove cell lines\n",
    "\n",
    "original_shape = combined_df.shape\n",
    "print(f\"Original shape: {original_shape}\")\n",
    "\n",
    "#lines to remove\n",
    "removed_df = combined_df[combined_df['SAMPLE_CLASS'] == 'Cell line']\n",
    "\n",
    "# remove cell lines\n",
    "filtered_df = combined_df[combined_df['SAMPLE_CLASS'] != 'Cell line']\n",
    "\n",
    "# calculate how many rows were removed\n",
    "rows_removed = original_shape[0] - filtered_df.shape[0]\n",
    "print(f\"Removed {rows_removed} rows where SAMPLE_CLASS == 'Cell line'\")\n",
    "\n",
    "# print new shape\n",
    "print(f\"New shape: {filtered_df.shape}\")\n",
    "\n",
    "# reassign df\n",
    "combined_df = filtered_df\n",
    "\n",
    "removed_df.to_csv('cell_lines_removed.csv', index=False)\n",
    "removed_df.value_counts(\"SAMPLE_CLASS\")\n"
   ]
  },
  {
   "cell_type": "markdown",
   "id": "56b299dc-a8b9-4036-8431-7e336ea69170",
   "metadata": {},
   "source": [
    "#### Write value counts for NaNs"
   ]
  },
  {
   "cell_type": "code",
   "execution_count": 63,
   "id": "96f130c2-8fd1-481b-8f5a-00db0ded9319",
   "metadata": {},
   "outputs": [
    {
     "name": "stdout",
     "output_type": "stream",
     "text": [
      "✅ Value counts written for 27 columns to folder: value_counts_by_column\n"
     ]
    }
   ],
   "source": [
    "# combined_df.isna().sum()\n",
    "\n",
    "# Hugo_Symbol                   0\n",
    "# Chromosome                    0\n",
    "# Start_Position                0\n",
    "# End_Position                  0\n",
    "# Consequence                 124 - some of the Variant_Classification=Silent have no consequence described\n",
    "# Variant_Classification        0\n",
    "# Variant_Type                  0\n",
    "# Reference_Allele              0\n",
    "# Tumor_Seq_Allele2             0\n",
    "# SAMPLE_ID                     0\n",
    "# Sequence_Source               0\n",
    "# HGVSc                       136 - some of the Variant_Classification=Silent and all of the Variant_Classification=3'Flank and 5'Flank\n",
    "# HGVSp                       346 \n",
    "# Transcript_ID               124 - some of the Variant_Classification=Silent have no Transcript_ID described\n",
    "# RefSeq                     1338\n",
    "# Protein_position            334\n",
    "# Gnomad_Notation               0\n",
    "# PATIENT_ID                    0\n",
    "# SAMPLE_CLASS                  0\n",
    "# ONCOTREE_CODE                 0\n",
    "# CANCER_TYPE                   0\n",
    "# CANCER_TYPE_DETAILED          0\n",
    "# TMB_NONSYNONYMOUS             0\n",
    "# AGE                        4745 - some ages undisclosed\n",
    "# SEX                           0\n",
    "# ETHNICITY                 10900 - many patients' ethnicities undisclosed\n",
    "# STUDY_ID                      0\n",
    "\n",
    "\n",
    "# define output folder (will create it if needed)\n",
    "output_dir = \"value_counts_by_column\"\n",
    "os.makedirs(output_dir, exist_ok=True)\n",
    "\n",
    "# loop through each column\n",
    "for col in combined_df.columns:\n",
    "    # build filename\n",
    "    filename = f\"value_counts_{col}.txt\"\n",
    "    filepath = os.path.join(output_dir, filename)\n",
    "    \n",
    "    # write counts to file\n",
    "    with open(filepath, \"w\") as f:\n",
    "        f.write(f\"Value counts for column: {col}\\n\\n\")\n",
    "        f.write(combined_df[col].value_counts(dropna=False).to_string())\n",
    "        f.write(\"\\n\")\n",
    "\n",
    "print(f\"✅ Value counts written for {len(combined_df.columns)} columns to folder: {output_dir}\")\n"
   ]
  },
  {
   "cell_type": "markdown",
   "id": "24f92414-9951-4286-a145-adcc3dab3675",
   "metadata": {},
   "source": [
    "#### Replace missing patient, sample data with \"No_Data\""
   ]
  },
  {
   "cell_type": "code",
   "execution_count": 64,
   "id": "5b032d44-fcdd-45c1-b4cb-6d42c6b23894",
   "metadata": {},
   "outputs": [
    {
     "data": {
      "text/plain": [
       "Hugo_Symbol                  0\n",
       "Chromosome                   0\n",
       "Start_Position               0\n",
       "End_Position                 0\n",
       "Consequence                  0\n",
       "Variant_Classification       0\n",
       "Variant_Type                 0\n",
       "Reference_Allele             0\n",
       "Tumor_Seq_Allele2            0\n",
       "SAMPLE_ID                    0\n",
       "Sequence_Source              0\n",
       "HGVSc                      136\n",
       "HGVSp                      346\n",
       "HGVSp_Short                136\n",
       "Transcript_ID              124\n",
       "RefSeq                    1338\n",
       "Protein_position           334\n",
       "PATIENT_ID                   0\n",
       "SAMPLE_CLASS                 0\n",
       "ONCOTREE_CODE                0\n",
       "CANCER_TYPE                  0\n",
       "CANCER_TYPE_DETAILED         0\n",
       "TMB_NONSYNONYMOUS            0\n",
       "AGE                          0\n",
       "SEX                          0\n",
       "ETHNICITY                    0\n",
       "STUDY_ID                     0\n",
       "dtype: int64"
      ]
     },
     "execution_count": 64,
     "metadata": {},
     "output_type": "execute_result"
    }
   ],
   "source": [
    "#filling in NaNs - AGE, ETHNICITY, Consequence\n",
    "# TODO add consequence with annotation\n",
    "\n",
    "cols_to_fill = ['Consequence', 'AGE', 'ETHNICITY']\n",
    "fill_value = \"No_Data\"\n",
    "\n",
    "for col in cols_to_fill:\n",
    "    combined_df[col] = combined_df[col].fillna(fill_value)\n",
    "\n",
    "combined_df.isna().sum()"
   ]
  },
  {
   "cell_type": "markdown",
   "id": "0ae16729-f4ba-44bf-bdbe-b312b46a8482",
   "metadata": {},
   "source": [
    "#### Construct GnomAD variant ID column"
   ]
  },
  {
   "cell_type": "code",
   "execution_count": 65,
   "id": "2e34f131-d3b7-452c-9c3e-39f79b3157d0",
   "metadata": {},
   "outputs": [],
   "source": [
    "# construct Gnomad variant ID column\n",
    "combined_df[\"temp_Gnomad_Notation\"] = combined_df.apply(\n",
    "    lambda row: f\"{row['Chromosome']}-{row['Start_Position']}-{row['Reference_Allele']}-{row['Tumor_Seq_Allele2']}\",\n",
    "    axis=1\n",
    ")"
   ]
  },
  {
   "cell_type": "markdown",
   "id": "b71c762e-4548-439c-ba88-ec9dbfc049a5",
   "metadata": {},
   "source": [
    "#### Correcting Chromosome 23 samples to X or Y"
   ]
  },
  {
   "cell_type": "markdown",
   "id": "25862726-3cf2-41fc-91a6-ed9a0e6f9038",
   "metadata": {},
   "source": [
    "##### Write initial combined_df to file"
   ]
  },
  {
   "cell_type": "code",
   "execution_count": 66,
   "id": "14a83e5e-5984-4c3c-9d66-a87e7ebe31b2",
   "metadata": {},
   "outputs": [],
   "source": [
    "combined_df.to_csv('output0.csv', index=False)"
   ]
  },
  {
   "cell_type": "markdown",
   "id": "b70f5960-4dfe-425e-8afb-64fc973af53c",
   "metadata": {},
   "source": [
    "##### Set test variables and REST API variables"
   ]
  },
  {
   "cell_type": "code",
   "execution_count": 67,
   "id": "91d4679e-bbff-4262-aa50-4c2cdfa574b5",
   "metadata": {},
   "outputs": [],
   "source": [
    "BASE_URL = \"https://normalize.cancervariants.org/variation/\"\n",
    "HEADERS = {\"Accept\": \"application/json\"}\n",
    "variant = \"23-2408485-G-C\"\n",
    "gene = \"ZBED1\"\n",
    "\n",
    "PATTERN = re.compile(r'^23-')        # anchored ^ so only the chromosome prefix is substituted\n"
   ]
  },
  {
   "cell_type": "markdown",
   "id": "1674efbf-645c-4fb0-8b5d-89aa0092ff16",
   "metadata": {},
   "source": [
    "##### FUNCTION: Flag rows with Chrom23"
   ]
  },
  {
   "cell_type": "code",
   "execution_count": 68,
   "id": "ae6af5f6-df95-407e-843b-5e500174b3f7",
   "metadata": {},
   "outputs": [],
   "source": [
    "def flag_rows_chrom_23(df):\n",
    "    \"\"\"\n",
    "    Create \"Chrom_23\" column, True for those with Chromosome = 23\n",
    "\n",
    "    Parameters\n",
    "    ----------\n",
    "    df : pd.DataFrame\n",
    "        Must contain column 'Chromosome'.\n",
    "    \n",
    "    Returns\n",
    "    -------\n",
    "    dataframe\n",
    "    \"\"\"\n",
    "    df[\"Chrom_23\"] = False\n",
    "    # print(combined_df.head)\n",
    "    df[\"Chrom_23\"] = df[\"Chromosome\"].astype(str).str.strip().eq(\"23\")\n",
    "    df.loc[df[\"Chromosome\"] == 23, \"Chrom_23\"] = True\n",
    "    # print(combined_df[\"Chrom_23\"].value_counts())\n",
    "    # print(combined_df[\"Chromosome\"].value_counts())\n",
    "    return df\n",
    "\n",
    "combined_df = flag_rows_chrom_23(combined_df)"
   ]
  },
  {
   "cell_type": "markdown",
   "id": "adcedfb9-01e0-4b35-8b47-d174acc8913d",
   "metadata": {},
   "source": [
    "##### FUNCTION: change female chrom23 to X"
   ]
  },
  {
   "cell_type": "code",
   "execution_count": 69,
   "id": "a8d93f16-6243-4659-a0f9-2dda39f41c45",
   "metadata": {},
   "outputs": [],
   "source": [
    "# print(combined_df[\"Chromosome\"].value_counts())\n",
    "\n",
    "def chr23_female(df):\n",
    "    \"\"\"\n",
    "    Convert Chromosome 23 to 'X' for rows where SEX is female.\n",
    "    \n",
    "    Parameters\n",
    "    ----------\n",
    "    df : pd.DataFrame\n",
    "        Must contain columns 'Chromosome' and 'SEX'.\n",
    "    \n",
    "    Returns\n",
    "    -------\n",
    "    dataframe\n",
    "    \"\"\"\n",
    "    # Ensure we’re comparing like with like\n",
    "    chr_col = df[\"Chromosome\"].astype(str).str.strip()\n",
    "    sex_col = df[\"SEX\"].astype(str).str.upper().str.strip()   # handles 'F', 'f', 'Female', etc.\n",
    "    \n",
    "    mask = (chr_col == \"23\") & (sex_col.str.startswith(\"F\"))\n",
    "    df.loc[mask, \"Chromosome\"] = \"X\"\n",
    "    return df\n",
    "\n",
    "combined_df = chr23_female(combined_df)\n",
    "\n",
    "# print(combined_df[\"Chromosome\"].value_counts())\n",
    "\n",
    "combined_df.to_csv('output1_femaleX.csv', index=False)"
   ]
  },
  {
   "cell_type": "markdown",
   "id": "c2561146-6f6b-42ab-80c1-02b741f144a6",
   "metadata": {},
   "source": [
    "##### FUNCTION: Add cols for Chr23_X and Chr23_Y, fill with false"
   ]
  },
  {
   "cell_type": "code",
   "execution_count": 70,
   "id": "1af4f568-4f1b-49db-b467-c96601462b46",
   "metadata": {},
   "outputs": [],
   "source": [
    "def add_cols_chrom_23_male(df):\n",
    "    \"\"\"\n",
    "    Create \"Chr23_X and Chr23_Y\" columns, fill with false\n",
    "\n",
    "    Parameters\n",
    "    ----------\n",
    "    df : pd.DataFrame\n",
    "        Must contain column 'Chromosome'.\n",
    "    \n",
    "    Returns\n",
    "    -------\n",
    "    dataframe\n",
    "    \"\"\"\n",
    "    df[\"Chr23_X\"] = False\n",
    "    df[\"Chr23_Y\"] = False\n",
    "    # df[\"Chrom_23\"] = df[\"Chromosome\"].astype(str).str.strip().eq(\"23\")\n",
    "    # df.loc[df[\"Chromosome\"] == 23, \"Chrom_23\"] = True\n",
    "    # print(combined_df[\"Chr23_X\"].value_counts())\n",
    "    # print(combined_df[\"Chr23_Y\"].value_counts())\n",
    "    return df\n",
    "\n",
    "# combined_df = add_cols_chrom_23_male(combined_df)\n",
    "\n",
    "# combined_df.to_csv('output2_new_chr23_boolean_cols.csv', index=False)"
   ]
  },
  {
   "cell_type": "markdown",
   "id": "4b658bce-5d6f-4425-adae-c558405b5cd4",
   "metadata": {},
   "source": [
    "##### FUNCTION: Adjust GnomAD variant to accept X"
   ]
  },
  {
   "cell_type": "code",
   "execution_count": 71,
   "id": "45a3f2f9-eb2f-436d-afb9-ba34549ab844",
   "metadata": {},
   "outputs": [],
   "source": [
    "def chr23_to_X(variant: str) -> str:\n",
    "    \"\"\"Return `variant` with leading '23-' swapped to 'X-'; otherwise unchanged.\"\"\"\n",
    "    return PATTERN.sub('X-', variant)\n",
    "    "
   ]
  },
  {
   "cell_type": "markdown",
   "id": "2d3684d2-171a-4bec-a7e5-7e31fb981843",
   "metadata": {},
   "source": [
    "##### FUNCTION: Adjust GnomAD variant to accept Y"
   ]
  },
  {
   "cell_type": "code",
   "execution_count": 72,
   "id": "3131ab23",
   "metadata": {},
   "outputs": [],
   "source": [
    "def chr23_to_Y(variant: str) -> str:\n",
    "    \"\"\"Return `variant` with leading '23-' swapped to 'Y-'; otherwise unchanged.\"\"\"\n",
    "    return PATTERN.sub('Y-', variant)"
   ]
  },
  {
   "cell_type": "markdown",
   "id": "29ff163d-467b-45f6-8fd8-f60c712b3218",
   "metadata": {},
   "source": [
    "##### FUNCTION: Test tokenization"
   ]
  },
  {
   "cell_type": "code",
   "execution_count": 73,
   "id": "ab550938-ef32-4523-ae65-503c3237f330",
   "metadata": {},
   "outputs": [],
   "source": [
    "def test_tokenization(variant):\n",
    "    \"\"\"Fetch gene from VICC variation normalizer\"\"\"\n",
    "    url = f\"{BASE_URL}normalize?q={variant}\"\n",
    "    response = requests.get(url, headers=HEADERS)\n",
    "    if response.status_code == 200:\n",
    "        return response.json()\n",
    "    else:\n",
    "        print(f\"Error {response.status_code}: {response.text}\")\n",
    "        return None"
   ]
  },
  {
   "cell_type": "markdown",
   "id": "18252a87-c901-46f8-9b13-715d20f32099",
   "metadata": {},
   "source": [
    "##### FUNCTION: Master function for dealing with male chrom23 "
   ]
  },
  {
   "cell_type": "code",
   "execution_count": 74,
   "id": "9449629d-7f41-4124-b9e5-9aecd25e8432",
   "metadata": {},
   "outputs": [
    {
     "name": "stdout",
     "output_type": "stream",
     "text": [
      "['ZBED1', 'DHRSX']\n"
     ]
    },
    {
     "ename": "KeyError",
     "evalue": "'variation'",
     "output_type": "error",
     "traceback": [
      "\u001b[0;31m---------------------------------------------------------------------------\u001b[0m",
      "\u001b[0;31mKeyError\u001b[0m                                  Traceback (most recent call last)",
      "Cell \u001b[0;32mIn[74], line 26\u001b[0m\n\u001b[1;32m     18\u001b[0m     combined_df\u001b[38;5;241m.\u001b[39mloc[combined_df[\u001b[38;5;124m\"\u001b[39m\u001b[38;5;124mHugo_Symbol\u001b[39m\u001b[38;5;124m\"\u001b[39m]\u001b[38;5;241m.\u001b[39misin(symbols), \u001b[38;5;124m\"\u001b[39m\u001b[38;5;124mChr23_Y\u001b[39m\u001b[38;5;124m\"\u001b[39m] \u001b[38;5;241m=\u001b[39m \u001b[38;5;28;01mTrue\u001b[39;00m\n\u001b[1;32m     19\u001b[0m     \u001b[38;5;28;01mreturn\u001b[39;00m df\n\u001b[0;32m---> 26\u001b[0m testtest \u001b[38;5;241m=\u001b[39m \u001b[43mchr23_male\u001b[49m\u001b[43m(\u001b[49m\u001b[43mcombined_df\u001b[49m\u001b[43m,\u001b[49m\u001b[43m \u001b[49m\u001b[43mvariant\u001b[49m\u001b[43m)\u001b[49m\n\u001b[1;32m     28\u001b[0m \u001b[38;5;28mprint\u001b[39m(testtest[\u001b[38;5;124m\"\u001b[39m\u001b[38;5;124mChr23_X\u001b[39m\u001b[38;5;124m\"\u001b[39m]\u001b[38;5;241m.\u001b[39mvalue_counts())\n\u001b[1;32m     29\u001b[0m \u001b[38;5;28mprint\u001b[39m(testtest[\u001b[38;5;124m\"\u001b[39m\u001b[38;5;124mChr23_Y\u001b[39m\u001b[38;5;124m\"\u001b[39m]\u001b[38;5;241m.\u001b[39mvalue_counts())    \n",
      "Cell \u001b[0;32mIn[74], line 16\u001b[0m, in \u001b[0;36mchr23_male\u001b[0;34m(df, variant)\u001b[0m\n\u001b[1;32m     13\u001b[0m variant_y \u001b[38;5;241m=\u001b[39m chr23_to_Y(variant)\n\u001b[1;32m     14\u001b[0m y_r \u001b[38;5;241m=\u001b[39m test_tokenization(variant_y)\n\u001b[1;32m     15\u001b[0m symbols \u001b[38;5;241m=\u001b[39m [gene[\u001b[38;5;124m\"\u001b[39m\u001b[38;5;124msymbol\u001b[39m\u001b[38;5;124m\"\u001b[39m]                       \n\u001b[0;32m---> 16\u001b[0m            \u001b[38;5;28;01mfor\u001b[39;00m gene \u001b[38;5;129;01min\u001b[39;00m \u001b[43my_r\u001b[49m\u001b[43m[\u001b[49m\u001b[38;5;124;43m\"\u001b[39;49m\u001b[38;5;124;43mvariation\u001b[39;49m\u001b[38;5;124;43m\"\u001b[39;49m\u001b[43m]\u001b[49m[\u001b[38;5;124m\"\u001b[39m\u001b[38;5;124mextensions\u001b[39m\u001b[38;5;124m\"\u001b[39m][\u001b[38;5;241m0\u001b[39m][\u001b[38;5;124m\"\u001b[39m\u001b[38;5;124mvalue\u001b[39m\u001b[38;5;124m\"\u001b[39m]]\n\u001b[1;32m     17\u001b[0m \u001b[38;5;28mprint\u001b[39m(symbols)\n\u001b[1;32m     18\u001b[0m combined_df\u001b[38;5;241m.\u001b[39mloc[combined_df[\u001b[38;5;124m\"\u001b[39m\u001b[38;5;124mHugo_Symbol\u001b[39m\u001b[38;5;124m\"\u001b[39m]\u001b[38;5;241m.\u001b[39misin(symbols), \u001b[38;5;124m\"\u001b[39m\u001b[38;5;124mChr23_Y\u001b[39m\u001b[38;5;124m\"\u001b[39m] \u001b[38;5;241m=\u001b[39m \u001b[38;5;28;01mTrue\u001b[39;00m\n",
      "\u001b[0;31mKeyError\u001b[0m: 'variation'"
     ]
    }
   ],
   "source": [
    "def chr23_male(df, variant):\n",
    "    combined_df = add_cols_chrom_23_male(df)\n",
    "    combined_df.to_csv('output2_new_chr23_boolean_cols.csv', index=False)\n",
    "    # check if on X chromosome\n",
    "    variant_x = chr23_to_X(variant)\n",
    "    x_r = test_tokenization(variant_x)\n",
    "    symbols = [gene[\"symbol\"]                       \n",
    "               for gene in x_r[\"variation\"][\"extensions\"][0][\"value\"]]\n",
    "    print(symbols)\n",
    "    combined_df.loc[combined_df[\"Hugo_Symbol\"].isin(symbols), \"Chr23_X\"] = True\n",
    "\n",
    "    # check if on Y chromosome\n",
    "    variant_y = chr23_to_Y(variant)\n",
    "    y_r = test_tokenization(variant_y)\n",
    "    symbols = [gene[\"symbol\"]                       \n",
    "               for gene in y_r[\"variation\"][\"extensions\"][0][\"value\"]]\n",
    "    print(symbols)\n",
    "    combined_df.loc[combined_df[\"Hugo_Symbol\"].isin(symbols), \"Chr23_Y\"] = True\n",
    "    return df\n",
    "\n",
    "    \n",
    "\n",
    "\n",
    "\n",
    "\n",
    "testtest = chr23_male(combined_df, variant)\n",
    "\n",
    "print(testtest[\"Chr23_X\"].value_counts())\n",
    "print(testtest[\"Chr23_Y\"].value_counts())    \n",
    "\n",
    "testtest.to_csv('output_testtest.csv', index=False)    \n",
    "    \n",
    "    \n",
    "    \n",
    "    \n",
    "    \n",
    "    \n",
    "    \n",
    "    \n",
    "\n",
    "\n",
    "    \n",
    "    "
   ]
  },
  {
   "cell_type": "markdown",
   "id": "cc34dd19-40d4-4505-9775-f35062b52820",
   "metadata": {},
   "source": [
    "##### Next step?"
   ]
  },
  {
   "cell_type": "code",
   "execution_count": null,
   "id": "ee2f0126-563b-424e-b26e-f27d3a909d59",
   "metadata": {},
   "outputs": [],
   "source": [
    "\n",
    "# take temp gnomad variant column\n",
    "#for those with chr23==23, convert to X variant, run through tokenization\n",
    "#if tokenizes, change X_yes column to True\n",
    "#same for Y\n",
    "\n",
    "#if only X == true, change chrom to X\n",
    "#if only Y == true, change chrom to Y\n",
    "#create col ambiguous_chrom\n",
    "# if both == True, put XY in ambiguous_chrom\n",
    "# if neither == True, put Neither in ambiguous_chrom\n",
    "\n",
    "#check for ambiguous chromosomes\n",
    "# if none, create Gnomad column and write gnomad notations in it.\n",
    "#delete temp gnomad column\n",
    "#if XY or None, stop to look through manually\n",
    "\n",
    "# check gene symbols against each other\n",
    "\n",
    "\n",
    "#write df\n",
    "\n",
    "#remove temporary columns\n",
    "\n",
    "\n",
    "\n",
    "\n",
    "\n",
    "\n",
    "\n"
   ]
  },
  {
   "cell_type": "code",
   "execution_count": null,
   "id": "2a337072-9d5d-4457-9c3d-e040178d8e59",
   "metadata": {},
   "outputs": [],
   "source": [
    "\n",
    "\n",
    "\n",
    "def chr_23_male_det(variant):\n",
    "    # change to X if position > 60 000 000\n",
    "    pos = int(variant.split('-')[1]) \n",
    "    print(f\"Variant is at position {pos}\")\n",
    "    if pos > 60000000:\n",
    "        print(f\"Variant {variant} is located at a position beyond the length of the Y chromosome.\")\n",
    "        # df[\"Variant\"] = df[\"Variant\"].str.replace(r'^23-', 'X-', regex=True)\n",
    "        new_notation = chr23_to_X(variant)\n",
    "        print(f\"New variant notation: {new_notation}\")\n",
    "    else:\n",
    "        print(\"Determining if variant is on X or Y...\")\n",
    "        Y_variant = chr23_to_Y(variant)\n",
    "        print(f\"testing {Y_variant} for tokenization\")\n",
    "        r = test_tokenization(Y_variant)\n",
    "        warnings = r['warnings']\n",
    "        if warnings == \"[]\":\n",
    "            yes_Y_chrom = Y_variant\n",
    "            return yes_Y_chrom\n",
    "            print(f\"{variant} is present on the Y chromosome\")\n",
    "        else:\n",
    "            print(f\"{variant} is NOT present on the Y chromosome\")\n",
    "        X_variant = chr23_to_X(variant)\n",
    "        print(f\"testing {X_variant} for tokenization\") \n",
    "        r = test_tokenization(X_variant)\n",
    "        warnings = r['warnings']\n",
    "        if warnings != \"[]\":\n",
    "            yes_X_chrom = X_variant\n",
    "            return yes_X_chrom\n",
    "            print(f\"{variant} is present on the X chromosome\")\n",
    "        else:\n",
    "            print(f\"{variant} is NOT present on the X chromosome\")\n",
    "    \n",
    "    \n",
    "\n",
    "\n",
    "\n",
    "\n",
    "\n",
    "\n",
    "# def chr_23_males(df: pd.DataFrame) -> pd.DataFrame:\n",
    "#     \"\"\"\n",
    "#     Where SEX is Male and Chromosome is 23, apply a series of checks:\n",
    "\n",
    "#     • If Start_Position > 60,000,000  → set Chromosome to 'X'.\n",
    "#     • Otherwise build gnomAD notation twice (Y-chromosome and X-chromosome),\n",
    "#       run `test_tokenization()` on each, and:\n",
    "#         – if only X succeeds → Chromosome = 'X'\n",
    "#         – if only Y succeeds → Chromosome = 'Y'\n",
    "#         – if both or neither succeed → leave as 23 and flag the row.\n",
    "\n",
    "#     Returns\n",
    "#     -------\n",
    "#     pd.DataFrame\n",
    "#         The same DataFrame (modified in place).\n",
    "#     \"\"\"\n",
    "#     # normalize columns\n",
    "#     chr_col = df[\"Chromosome\"].astype(str).str.strip()\n",
    "#     sex_col = df[\"SEX\"].astype(str).str.upper().str.strip()\n",
    "#     pos_col = df[\"Start_Position\"]\n",
    "\n",
    "#     # rows that are chr 23 **and** male\n",
    "#     mask_male_23 = (chr_col == \"23\") & sex_col.str.startswith(\"M\")\n",
    "\n",
    "#     # STEP 1\n",
    "#     # change to X if position > 60 000 000\n",
    "#     mask_high_pos = mask_male_23 & (pos_col > 60_000_000)\n",
    "#     df.loc[mask_high_pos, \"Chromosome\"] = \"X\"\n",
    "\n",
    "#     # STEP 2\n",
    "#     # gnomAD strings and tokenizer checks for the remaining rows\n",
    "#     remaining = mask_male_23 & ~mask_high_pos\n",
    "\n",
    "#     if remaining.any():                         # skip if nothing left\n",
    "#         gnomad_Y = df.loc[remaining].apply(\n",
    "#             lambda r: f\"Y-{r.Start_Position}-{r.Reference_Allele}-{r.Tumor_Seq_Allele2}\",\n",
    "#             axis=1\n",
    "#         )\n",
    "#         gnomad_X = df.loc[remaining].apply(\n",
    "#             lambda r: f\"X-{r.Start_Position}-{r.Reference_Allele}-{r.Tumor_Seq_Allele2}\",\n",
    "#             axis=1\n",
    "#         )\n",
    "\n",
    "#         ok_Y = test_tokenization(gnomad_Y)\n",
    "#         ok_X = test_tokenization(gnomad_X)\n",
    "#         print(ok_Y)\n",
    "#         print(ok_X)\n",
    "\n",
    "#         # rows where only one succeeds\n",
    "#         only_X = remaining & ok_X & ~ok_Y\n",
    "#         only_Y = remaining & ok_Y & ~ok_X\n",
    "\n",
    "#         df.loc[only_X, \"Chromosome\"] = \"X\"\n",
    "#         df.loc[only_Y, \"Chromosome\"] = \"Y\"\n",
    "\n",
    "#         # rows where result is ambiguous → flag\n",
    "#         ambiguous = remaining & ~(only_X | only_Y)\n",
    "#         df.loc[ambiguous, \"XY_flagged\"] = True\n",
    "\n",
    "#     return df\n",
    "\n",
    "\n",
    "\n",
    "\n",
    "\n",
    "\n",
    "\n",
    "# combined_df = chr23_females(combined_df)\n",
    "# position 1428413\n",
    "\n",
    "\n",
    "\n",
    "# r = test_tokenization(\"X-153175777-G-A\")\n",
    "# r\n",
    "\n",
    "\n",
    "\n",
    "\n",
    "\n",
    "\n",
    "\n",
    "\n",
    "# # write to file\n",
    "combined_df.to_csv('output2.csv', index=False)\n",
    "\n",
    "# print(\"hello\")"
   ]
  },
  {
   "cell_type": "code",
   "execution_count": null,
   "id": "a4f582f6",
   "metadata": {},
   "outputs": [],
   "source": [
    "######CHATGPT_SUGGESTION#####\n",
    "\n",
    "import pandas as pd            # only needed for the Series return\n",
    "\n",
    "def chr_23_male_query(variant: str) -> pd.Series:\n",
    "    \"\"\"\n",
    "    Decide whether a chr-23 male variant maps to X and/or Y.\n",
    "\n",
    "    Returns a Series so you can assign its fields straight into a DataFrame.\n",
    "      • Yes_X   → Boolean\n",
    "      • Yes_Y   → Boolean\n",
    "      • x_chrom → \"True\" if Yes_X else \"\"\n",
    "      • y_chrom → \"True\" if Yes_Y else \"\"\n",
    "    \"\"\"\n",
    "    Yes_X = False\n",
    "    Yes_Y = False\n",
    "\n",
    "    pos = int(variant.split('-')[1])\n",
    "    print(f\"Variant is at position {pos:,}\")\n",
    "\n",
    "    if pos > 60_000_000:\n",
    "        print(\"Beyond Y-chr length → call it X.\")\n",
    "        Yes_X = True\n",
    "    else:\n",
    "        # --- test Y\n",
    "        if has_gene_symbol(test_tokenization(chr23_to_Y(variant))):\n",
    "            Yes_Y = True\n",
    "            print(\"✔ present on Y\")\n",
    "        else:\n",
    "            print(\"✖ not on Y\")\n",
    "\n",
    "        # --- test X\n",
    "        if has_gene_symbol(test_tokenization(chr23_to_X(variant))):\n",
    "            Yes_X = True\n",
    "            print(\"✔ present on X\")\n",
    "        else:\n",
    "            print(\"✖ not on X\")\n",
    "\n",
    "    # convert the two flags into the string columns\n",
    "    return pd.Series({\n",
    "        \"Yes_X\":   Yes_X,\n",
    "        \"Yes_Y\":   Yes_Y,\n",
    "        \"x_chrom\": \"True\" if Yes_X else \"\",\n",
    "        \"y_chrom\": \"True\" if Yes_Y else \"\"\n",
    "    })\n"
   ]
  },
  {
   "cell_type": "code",
   "execution_count": 131,
   "id": "d56ef311",
   "metadata": {},
   "outputs": [
    {
     "name": "stdout",
     "output_type": "stream",
     "text": [
      "Removed 134 rows with duplicated Gnomad_Notation per PATIENT_ID.\n"
     ]
    }
   ],
   "source": [
    "# remove variant dupes per patient\n",
    "\n",
    "# find duplicated (PATIENT_ID, Gnomad_Notation) pairs\n",
    "dupe_mask = combined_df.duplicated(subset=[\"PATIENT_ID\", \"Gnomad_Notation\"], keep=\"first\")\n",
    "# new DataFrame with the duplicated rows\n",
    "patient_variant_dupes = combined_df[dupe_mask]\n",
    "# remove those rows from the original DataFrame\n",
    "combined_df_cleaned = combined_df[~dupe_mask]\n",
    "# write removed rows to file\n",
    "patient_variant_dupes.to_csv(\"patient_variant_dupes.csv\", index=False)\n",
    "# print the number of rows removed\n",
    "print(f\"Removed {patient_variant_dupes.shape[0]} rows with duplicated Gnomad_Notation per PATIENT_ID.\")\n",
    "# reassign dataframe:\n",
    "combined_df = combined_df_cleaned"
   ]
  },
  {
   "cell_type": "code",
   "execution_count": null,
   "id": "6b3a1e72",
   "metadata": {},
   "outputs": [],
   "source": []
  }
 ],
 "metadata": {
  "kernelspec": {
   "display_name": "Python 3 (ipykernel)",
   "language": "python",
   "name": "python3"
  },
  "language_info": {
   "codemirror_mode": {
    "name": "ipython",
    "version": 3
   },
   "file_extension": ".py",
   "mimetype": "text/x-python",
   "name": "python",
   "nbconvert_exporter": "python",
   "pygments_lexer": "ipython3",
   "version": "3.11.6"
  }
 },
 "nbformat": 4,
 "nbformat_minor": 5
}
