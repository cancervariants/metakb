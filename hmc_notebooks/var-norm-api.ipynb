{
 "cells": [
  {
   "cell_type": "code",
   "execution_count": 1,
   "metadata": {},
   "outputs": [],
   "source": [
    "import pandas\n",
    "import requests\n",
    "import json"
   ]
  },
  {
   "cell_type": "code",
   "execution_count": null,
   "metadata": {},
   "outputs": [],
   "source": [
    "gnomad = \"\"\n",
    "\n",
    "url = 'https://normalize.cancervariants.org/variation/'"
   ]
  },
  {
   "cell_type": "code",
   "execution_count": null,
   "metadata": {},
   "outputs": [
    {
     "data": {
      "text/plain": [
       "{'warnings': [],\n",
       " 'service_meta_': {'name': 'variation-normalizer',\n",
       "  'version': '0.13.0',\n",
       "  'response_datetime': '2025-06-05T14:50:18.670237Z',\n",
       "  'url': 'https://github.com/cancervariants/variation-normalization'},\n",
       " 'variation_query': 'X-153175777-G-A',\n",
       " 'variation': {'id': 'ga4gh:VA.kUy3S3fxa4FggdIGKvXpr9dXx-qKiRVs',\n",
       "  'type': 'Allele',\n",
       "  'extensions': [{'name': 'mane_genes',\n",
       "    'value': [{'ncbi_gene_id': 393,\n",
       "      'hgnc_id': 674,\n",
       "      'symbol': 'ARHGAP4',\n",
       "      'status': ['mane_select']}]}],\n",
       "  'digest': 'kUy3S3fxa4FggdIGKvXpr9dXx-qKiRVs',\n",
       "  'location': {'id': 'ga4gh:SL.k54mk2aSNqL_PKUXY8aXwp_0rd_GJ2_H',\n",
       "   'type': 'SequenceLocation',\n",
       "   'digest': 'k54mk2aSNqL_PKUXY8aXwp_0rd_GJ2_H',\n",
       "   'sequenceReference': {'type': 'SequenceReference',\n",
       "    'refgetAccession': 'SQ.w0WZEvgJF0zf_P4yyTzjjv9oW1z61HHP'},\n",
       "   'start': 153910322,\n",
       "   'end': 153910323,\n",
       "   'sequence': 'G'},\n",
       "  'state': {'type': 'LiteralSequenceExpression', 'sequence': 'A'}}}"
      ]
     },
     "execution_count": 16,
     "metadata": {},
     "output_type": "execute_result"
    }
   ],
   "source": [
    "# https:/normalize.cancervariants.org/variation/normalize?q=x-153223671-C-T\n",
    "BASE_URL = \"https://normalize.cancervariants.org/variation/\"\n",
    "HEADERS = {\"Accept\": \"application/json\"}\n",
    "\n",
    "def test_tokenization(gnomAD):\n",
    "    \"\"\"Fetch gene from VICC variation normalizer\"\"\"\n",
    "    url = f\"{BASE_URL}normalize?q={gnomAD}\"\n",
    "    response = requests.get(url, headers=HEADERS)\n",
    "    if response.status_code == 200:\n",
    "        return response.json()\n",
    "    else:\n",
    "        print(f\"Error {response.status_code}: {response.text}\")\n",
    "        return None\n",
    "\n",
    "r = test_tokenization(\"X-153175777-G-A\")\n",
    "r"
   ]
  },
  {
   "cell_type": "code",
   "execution_count": 17,
   "metadata": {},
   "outputs": [
    {
     "data": {
      "text/plain": [
       "dict_keys(['warnings', 'service_meta_', 'variation_query', 'variation'])"
      ]
     },
     "execution_count": 17,
     "metadata": {},
     "output_type": "execute_result"
    }
   ],
   "source": [
    "r.keys()"
   ]
  },
  {
   "cell_type": "code",
   "execution_count": 18,
   "metadata": {},
   "outputs": [
    {
     "data": {
      "text/plain": [
       "{'id': 'ga4gh:VA.kUy3S3fxa4FggdIGKvXpr9dXx-qKiRVs',\n",
       " 'type': 'Allele',\n",
       " 'extensions': [{'name': 'mane_genes',\n",
       "   'value': [{'ncbi_gene_id': 393,\n",
       "     'hgnc_id': 674,\n",
       "     'symbol': 'ARHGAP4',\n",
       "     'status': ['mane_select']}]}],\n",
       " 'digest': 'kUy3S3fxa4FggdIGKvXpr9dXx-qKiRVs',\n",
       " 'location': {'id': 'ga4gh:SL.k54mk2aSNqL_PKUXY8aXwp_0rd_GJ2_H',\n",
       "  'type': 'SequenceLocation',\n",
       "  'digest': 'k54mk2aSNqL_PKUXY8aXwp_0rd_GJ2_H',\n",
       "  'sequenceReference': {'type': 'SequenceReference',\n",
       "   'refgetAccession': 'SQ.w0WZEvgJF0zf_P4yyTzjjv9oW1z61HHP'},\n",
       "  'start': 153910322,\n",
       "  'end': 153910323,\n",
       "  'sequence': 'G'},\n",
       " 'state': {'type': 'LiteralSequenceExpression', 'sequence': 'A'}}"
      ]
     },
     "execution_count": 18,
     "metadata": {},
     "output_type": "execute_result"
    }
   ],
   "source": [
    "r['variation']"
   ]
  },
  {
   "cell_type": "code",
   "execution_count": 19,
   "metadata": {},
   "outputs": [
    {
     "data": {
      "text/plain": [
       "dict_keys(['id', 'type', 'extensions', 'digest', 'location', 'state'])"
      ]
     },
     "execution_count": 19,
     "metadata": {},
     "output_type": "execute_result"
    }
   ],
   "source": [
    "r['variation'].keys()"
   ]
  },
  {
   "cell_type": "code",
   "execution_count": 20,
   "metadata": {},
   "outputs": [
    {
     "data": {
      "text/plain": [
       "'ga4gh:VA.kUy3S3fxa4FggdIGKvXpr9dXx-qKiRVs'"
      ]
     },
     "execution_count": 20,
     "metadata": {},
     "output_type": "execute_result"
    }
   ],
   "source": [
    "r['variation']['id']"
   ]
  },
  {
   "cell_type": "code",
   "execution_count": 8,
   "metadata": {},
   "outputs": [
    {
     "data": {
      "text/plain": [
       "<Response [200]>"
      ]
     },
     "execution_count": 8,
     "metadata": {},
     "output_type": "execute_result"
    }
   ],
   "source": [
    "url = \"https://normalize.cancervariants.org/variation/normalize?q=X-153175777-G-A\"\n",
    "\n",
    "res = requests.get(url)\n",
    "res"
   ]
  }
 ],
 "metadata": {
  "kernelspec": {
   "display_name": "3.12.2",
   "language": "python",
   "name": "python3"
  },
  "language_info": {
   "codemirror_mode": {
    "name": "ipython",
    "version": 3
   },
   "file_extension": ".py",
   "mimetype": "text/x-python",
   "name": "python",
   "nbconvert_exporter": "python",
   "pygments_lexer": "ipython3",
   "version": "3.12.2"
  }
 },
 "nbformat": 4,
 "nbformat_minor": 2
}
